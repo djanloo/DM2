{
 "cells": [
  {
   "cell_type": "code",
   "execution_count": 1,
   "metadata": {},
   "outputs": [
    {
     "name": "stdout",
     "output_type": "stream",
     "text": [
      "434 Index(['modality', 'vocal_channel', 'emotion', 'emotional_intensity',\n",
      "       'statement', 'repetition', 'actor', 'sex', 'filename', 'frame_count',\n",
      "       ...\n",
      "       'stft_max_w4', 'stft_q01_w4', 'stft_q05_w4', 'stft_q25_w4',\n",
      "       'stft_q50_w4', 'stft_q75_w4', 'stft_q95_w4', 'stft_q99_w4',\n",
      "       'stft_kur_w4', 'stft_skew_w4'],\n",
      "      dtype='object', length=434)\n"
     ]
    }
   ],
   "source": [
    "import numpy as np\n",
    "import pandas as pd\n",
    "\n",
    "df = pd.read_csv(\"dataset/RavdessAudioOnlyFeatures_TRAIN.csv\")"
   ]
  },
  {
   "cell_type": "code",
   "execution_count": 5,
   "metadata": {},
   "outputs": [
    {
     "data": {
      "text/plain": [
       "1828"
      ]
     },
     "execution_count": 5,
     "metadata": {},
     "output_type": "execute_result"
    }
   ],
   "source": [
    "len(df)"
   ]
  },
  {
   "cell_type": "code",
   "execution_count": null,
   "metadata": {},
   "outputs": [],
   "source": []
  }
 ],
 "metadata": {
  "kernelspec": {
   "display_name": "DM2-PeqFRmfa",
   "language": "python",
   "name": "python3"
  },
  "language_info": {
   "codemirror_mode": {
    "name": "ipython",
    "version": 3
   },
   "file_extension": ".py",
   "mimetype": "text/x-python",
   "name": "python",
   "nbconvert_exporter": "python",
   "pygments_lexer": "ipython3",
   "version": "3.10.6"
  },
  "orig_nbformat": 4
 },
 "nbformat": 4,
 "nbformat_minor": 2
}
