{
 "cells": [
  {
   "cell_type": "markdown",
   "metadata": {},
   "source": [
    "Unzip the dataset compressed files in /dataset. They are divided in speech and song."
   ]
  },
  {
   "cell_type": "code",
   "execution_count": 1,
   "metadata": {
    "ExecuteTime": {
     "end_time": "2023-06-26T15:07:27.248765Z",
     "start_time": "2023-06-26T15:07:26.746581Z"
    }
   },
   "outputs": [],
   "source": [
    "import os\n",
    "import numpy as np\n",
    "import pandas as pd\n",
    "import matplotlib.pyplot as plt\n",
    "import seaborn as sns; sns.set()\n",
    "\n",
    "import librosa\n",
    "from tqdm.notebook import tqdm\n",
    "from IPython.display import Audio\n",
    "from pandas.api.types import is_numeric_dtype\n",
    "\n",
    "import sys\n",
    "sys.path.append('../')\n",
    "import default_style\n",
    "\n",
    "TS_DATASET_FOLDER = os.path.join(\"..\", \"dataset\")\n",
    "\n",
    "SONG_DATASET_FOLDER = os.path.join(TS_DATASET_FOLDER,\"Audio_Song_Actors_01-24\")\n",
    "SPEECH_DATASET_FOLDER = os.path.join(TS_DATASET_FOLDER,\"Audio_Speech_Actors_01-24\")\n",
    "\n",
    "TS_PREPROC_FOLDER = os.path.join(TS_DATASET_FOLDER, \"preprocessed_traces\")\n",
    "DF_PREPROC_FILE = os.path.join(TS_PREPROC_FOLDER, \"preproc_ts.df\")\n",
    "\n",
    "def get_actor_files(vc, actor_n):\n",
    "    fold = SONG_DATASET_FOLDER if vc == \"song\" else SPEECH_DATASET_FOLDER\n",
    "    act_fold = f\"Actor_{str(actor_n).zfill(2)}\"\n",
    "    fold = os.path.join(fold, act_fold )\n",
    "    return np.sort([os.path.join(fold, f) for f in os.listdir(fold) if f.endswith(\".wav\")])\n",
    "\n",
    "\n",
    "CATEGORICAL_FEATURES_NAMES = {\n",
    "    \"modality\": {\"01\": \"full-AV\", \"02\": \"video-only\", \"03\": \"audio-only\"}, \n",
    "    \"vocal_channel\": {\"01\": \"speech\", \"02\": \"song\"},\n",
    "    \"emotion\": {\"01\" : \"neutral\", \"02\" : \"calm\", \"03\" : \"happy\", \"04\" : \"sad\", \"05\" : \"angry\", \"06\" : \"fearful\", \"07\" : \"disgust\", \"08\" : \"surprised\"},\n",
    "    \"emotional_intensity\": {\"01\" : \"normal\", \"02\" : \"strong\"},\n",
    "    \"statement\": {\"01\" : \"kids\", \"02\" : \"dogs\"},\n",
    "    \"repetition\": {\"01\" : \"1st\", \"02\" : \"2nd\"},\n",
    "    \"actor\": {str(i).zfill(2): str(i).zfill(2) for i in range(1, 25)}\n",
    "}\n",
    "\n",
    "SAMPLING_RATE = 48_000\n",
    "DECIMATION_FACTOR = 8\n",
    "\n",
    "def recompute_numeric_categorical(df):\n",
    "    global numerical_attr_list, categorical_attr_list\n",
    "    numerical_attr_list = [col for col in df.columns if is_numeric_dtype(df[col])]\n",
    "    categorical_attr_list = [col for col in df.columns if not is_numeric_dtype(df[col])]\n",
    "    \n",
    "# This is for reloading custom modules in case they are modified\n",
    "%load_ext autoreload\n",
    "%autoreload 2"
   ]
  },
  {
   "cell_type": "markdown",
   "metadata": {},
   "source": [
    "# File import\n",
    "Files must be downsampled before being saved in memory because they are enormous (200_000 floating point numbers, roughly 0.5 MB)"
   ]
  },
  {
   "cell_type": "code",
   "execution_count": 2,
   "metadata": {
    "ExecuteTime": {
     "end_time": "2023-06-26T15:07:47.805894Z",
     "start_time": "2023-06-26T15:07:26.783342Z"
    }
   },
   "outputs": [
    {
     "data": {
      "application/vnd.jupyter.widget-view+json": {
       "model_id": "086a6476bf504302a23758df3023fa13",
       "version_major": 2,
       "version_minor": 0
      },
      "text/plain": [
       "  0%|          | 0/24 [00:00<?, ?it/s]"
      ]
     },
     "metadata": {},
     "output_type": "display_data"
    },
    {
     "data": {
      "application/vnd.jupyter.widget-view+json": {
       "model_id": "5b2cb99699c241a4babec9588e29418c",
       "version_major": 2,
       "version_minor": 0
      },
      "text/plain": [
       "  0%|          | 0/24 [00:00<?, ?it/s]"
      ]
     },
     "metadata": {},
     "output_type": "display_data"
    }
   ],
   "source": [
    "# Loads the audio traces\n",
    "import sys\n",
    "from scipy.signal import decimate\n",
    "\n",
    "df = pd.DataFrame(columns = list(CATEGORICAL_FEATURES_NAMES.keys()) + [\"audio_trace\", \"path\"])\n",
    "for vc in [\"speech\", \"song\"]:\n",
    "    for actor_n in tqdm(range(1, 25)):\n",
    "        for f in get_actor_files(vc, actor_n):\n",
    "            segment, sr = librosa.load(f, sr=SAMPLING_RATE)\n",
    "            segment = decimate(segment, q=DECIMATION_FACTOR)\n",
    "\n",
    "            categ_values = str(os.path.basename(f)).strip(\".wav\").split(\"-\")\n",
    "            \n",
    "            # Deduces attributes from file name\n",
    "            row = {attr:val for attr, val in zip(CATEGORICAL_FEATURES_NAMES.keys(), categ_values)}\n",
    "            row[\"audio_trace\"] = [segment]\n",
    "            row[\"path\"] = f\n",
    "            row = pd.DataFrame(row, index=[0])\n",
    "            df = pd.concat([df, row], ignore_index=True)"
   ]
  },
  {
   "cell_type": "code",
   "execution_count": 3,
   "metadata": {
    "ExecuteTime": {
     "end_time": "2023-06-26T15:07:47.898575Z",
     "start_time": "2023-06-26T15:07:47.810798Z"
    }
   },
   "outputs": [
    {
     "name": "stdout",
     "output_type": "stream",
     "text": [
      "Index(['modality', 'vocal_channel', 'emotion', 'emotional_intensity',\n",
      "       'statement', 'repetition', 'actor', 'audio_trace', 'path'],\n",
      "      dtype='object')\n"
     ]
    },
    {
     "data": {
      "text/html": [
       "<div>\n",
       "<style scoped>\n",
       "    .dataframe tbody tr th:only-of-type {\n",
       "        vertical-align: middle;\n",
       "    }\n",
       "\n",
       "    .dataframe tbody tr th {\n",
       "        vertical-align: top;\n",
       "    }\n",
       "\n",
       "    .dataframe thead th {\n",
       "        text-align: right;\n",
       "    }\n",
       "</style>\n",
       "<table border=\"1\" class=\"dataframe\">\n",
       "  <thead>\n",
       "    <tr style=\"text-align: right;\">\n",
       "      <th></th>\n",
       "      <th>vocal_channel</th>\n",
       "      <th>emotion</th>\n",
       "      <th>emotional_intensity</th>\n",
       "      <th>statement</th>\n",
       "      <th>repetition</th>\n",
       "      <th>actor</th>\n",
       "      <th>audio_trace</th>\n",
       "      <th>path</th>\n",
       "      <th>sex</th>\n",
       "    </tr>\n",
       "  </thead>\n",
       "  <tbody>\n",
       "    <tr>\n",
       "      <th>0</th>\n",
       "      <td>speech</td>\n",
       "      <td>neutral</td>\n",
       "      <td>normal</td>\n",
       "      <td>kids</td>\n",
       "      <td>1st</td>\n",
       "      <td>actor_01</td>\n",
       "      <td>[8.387957e-08, -2.9244848e-07, 5.2728814e-07, ...</td>\n",
       "      <td>../dataset/Audio_Speech_Actors_01-24/Actor_01/...</td>\n",
       "      <td>M</td>\n",
       "    </tr>\n",
       "    <tr>\n",
       "      <th>1</th>\n",
       "      <td>speech</td>\n",
       "      <td>neutral</td>\n",
       "      <td>normal</td>\n",
       "      <td>kids</td>\n",
       "      <td>2nd</td>\n",
       "      <td>actor_01</td>\n",
       "      <td>[-2.9781221e-08, -1.4013209e-06, -1.0139452e-0...</td>\n",
       "      <td>../dataset/Audio_Speech_Actors_01-24/Actor_01/...</td>\n",
       "      <td>M</td>\n",
       "    </tr>\n",
       "    <tr>\n",
       "      <th>2</th>\n",
       "      <td>speech</td>\n",
       "      <td>neutral</td>\n",
       "      <td>normal</td>\n",
       "      <td>dogs</td>\n",
       "      <td>1st</td>\n",
       "      <td>actor_01</td>\n",
       "      <td>[2.977772e-05, 2.642951e-05, 2.79283e-05, 3.58...</td>\n",
       "      <td>../dataset/Audio_Speech_Actors_01-24/Actor_01/...</td>\n",
       "      <td>M</td>\n",
       "    </tr>\n",
       "    <tr>\n",
       "      <th>3</th>\n",
       "      <td>speech</td>\n",
       "      <td>neutral</td>\n",
       "      <td>normal</td>\n",
       "      <td>dogs</td>\n",
       "      <td>2nd</td>\n",
       "      <td>actor_01</td>\n",
       "      <td>[3.0354531e-05, 2.5161858e-06, 3.707873e-05, 2...</td>\n",
       "      <td>../dataset/Audio_Speech_Actors_01-24/Actor_01/...</td>\n",
       "      <td>M</td>\n",
       "    </tr>\n",
       "    <tr>\n",
       "      <th>4</th>\n",
       "      <td>speech</td>\n",
       "      <td>calm</td>\n",
       "      <td>normal</td>\n",
       "      <td>kids</td>\n",
       "      <td>1st</td>\n",
       "      <td>actor_01</td>\n",
       "      <td>[3.0153627e-05, -4.7941107e-06, 1.3743208e-06,...</td>\n",
       "      <td>../dataset/Audio_Speech_Actors_01-24/Actor_01/...</td>\n",
       "      <td>M</td>\n",
       "    </tr>\n",
       "  </tbody>\n",
       "</table>\n",
       "</div>"
      ],
      "text/plain": [
       "  vocal_channel  emotion emotional_intensity statement repetition     actor  \\\n",
       "0        speech  neutral              normal      kids        1st  actor_01   \n",
       "1        speech  neutral              normal      kids        2nd  actor_01   \n",
       "2        speech  neutral              normal      dogs        1st  actor_01   \n",
       "3        speech  neutral              normal      dogs        2nd  actor_01   \n",
       "4        speech     calm              normal      kids        1st  actor_01   \n",
       "\n",
       "                                         audio_trace  \\\n",
       "0  [8.387957e-08, -2.9244848e-07, 5.2728814e-07, ...   \n",
       "1  [-2.9781221e-08, -1.4013209e-06, -1.0139452e-0...   \n",
       "2  [2.977772e-05, 2.642951e-05, 2.79283e-05, 3.58...   \n",
       "3  [3.0354531e-05, 2.5161858e-06, 3.707873e-05, 2...   \n",
       "4  [3.0153627e-05, -4.7941107e-06, 1.3743208e-06,...   \n",
       "\n",
       "                                                path sex  \n",
       "0  ../dataset/Audio_Speech_Actors_01-24/Actor_01/...   M  \n",
       "1  ../dataset/Audio_Speech_Actors_01-24/Actor_01/...   M  \n",
       "2  ../dataset/Audio_Speech_Actors_01-24/Actor_01/...   M  \n",
       "3  ../dataset/Audio_Speech_Actors_01-24/Actor_01/...   M  \n",
       "4  ../dataset/Audio_Speech_Actors_01-24/Actor_01/...   M  "
      ]
     },
     "execution_count": 3,
     "metadata": {},
     "output_type": "execute_result"
    }
   ],
   "source": [
    "# Assigns sex\n",
    "for column in df.columns:\n",
    "    df = df.replace(CATEGORICAL_FEATURES_NAMES)\n",
    "print(df.columns)\n",
    "\n",
    "# Dataset sort\n",
    "df.sort_values(by=list(set(CATEGORICAL_FEATURES_NAMES.keys() - set([\"modality\"]))) )   \n",
    "\n",
    "df[\"sex\"] = [\"F\" if i % 2 == 0 else \"M\" for i in df[\"actor\"].astype(int)]\n",
    "df = df.replace({\"actor\": {str(i).zfill(2): f\"actor_{str(i).zfill(2)}\" for i in range(1, 25)}})\n",
    "df = df.drop(columns=[\"modality\"])\n",
    "\n",
    "\n",
    "\n",
    "df.head()"
   ]
  },
  {
   "cell_type": "markdown",
   "metadata": {},
   "source": [
    "## Preprocessing"
   ]
  },
  {
   "cell_type": "markdown",
   "metadata": {},
   "source": [
    "### Trimming\n",
    "Trailing and leading silences are removed when short-time intensity overcomes the 5% threshold"
   ]
  },
  {
   "cell_type": "code",
   "execution_count": 4,
   "metadata": {
    "ExecuteTime": {
     "end_time": "2023-06-26T15:07:48.304871Z",
     "start_time": "2023-06-26T15:07:47.900778Z"
    },
    "scrolled": false
   },
   "outputs": [
    {
     "data": {
      "text/plain": [
       "[<matplotlib.lines.Line2D at 0x7f74eb5cc0a0>]"
      ]
     },
     "execution_count": 4,
     "metadata": {},
     "output_type": "execute_result"
    },
    {
     "data": {
      "image/png": "[encoded data removed]",
      "text/plain": [
       "<Figure size 354.331x236.22 with 1 Axes>"
      ]
     },
     "metadata": {},
     "output_type": "display_data"
    }
   ],
   "source": [
    "def trim_silence(track, window_in_ms=10.0, rel_thr=1e-2):\n",
    "    ts = pd.Series(track)\n",
    "    window = int(window_in_ms*1e-3*SAMPLING_RATE/DECIMATION_FACTOR )\n",
    "    rolling_std = ts.rolling(window=window).std()\n",
    "    mask = rolling_std > rel_thr*rolling_std.max()\n",
    "    begin, end = np.where(mask)[0][0], np.where(mask)[0][-1]\n",
    "    return track[begin:end], begin, end\n",
    "\n",
    "trimmed, begin, end = trim_silence(df[\"audio_trace\"][50],  rel_thr=5e-2)\n",
    "plt.plot(np.arange(begin, end), trimmed)\n",
    "plt.plot(df[\"audio_trace\"][50] + 1.5)"
   ]
  },
  {
   "cell_type": "markdown",
   "metadata": {},
   "source": [
    "Add to the dataset the trimmed tracks"
   ]
  },
  {
   "cell_type": "code",
   "execution_count": 5,
   "metadata": {
    "ExecuteTime": {
     "end_time": "2023-06-26T15:07:50.723590Z",
     "start_time": "2023-06-26T15:07:48.304533Z"
    }
   },
   "outputs": [
    {
     "name": "stdout",
     "output_type": "stream",
     "text": [
      "\"['trimmed_trace', 'begin_s', 'end_s'] not found in axis\"\n"
     ]
    }
   ],
   "source": [
    "trimmed_df = pd.DataFrame(columns=[\"trimmed_trace\", \"begin_s\", \"end_s\"])\n",
    "for tr in df.audio_trace:\n",
    "    trimmed, begin, end = trim_silence(tr, rel_thr=5e-2)\n",
    "    row = dict( trimmed_trace=[trimmed], \n",
    "                begin_s=begin/SAMPLING_RATE*DECIMATION_FACTOR, \n",
    "                end_s=end/SAMPLING_RATE*DECIMATION_FACTOR)\n",
    "    row = pd.DataFrame(row, index=[0])\n",
    "    trimmed_df = pd.concat([trimmed_df, row], ignore_index=True)\n",
    "\n",
    "try:\n",
    "    df.drop(columns=[\"trimmed_trace\", \"begin_s\", \"end_s\"], inplace=True)\n",
    "except KeyError as e:\n",
    "    print(e)\n",
    "    pass\n",
    "\n",
    "df = df.join(trimmed_df)"
   ]
  },
  {
   "cell_type": "markdown",
   "metadata": {},
   "source": [
    "check if the distribution of start time/ end time is related to actors' reactivity"
   ]
  },
  {
   "cell_type": "code",
   "execution_count": 6,
   "metadata": {
    "ExecuteTime": {
     "end_time": "2023-06-26T15:07:51.123136Z",
     "start_time": "2023-06-26T15:07:50.722867Z"
    }
   },
   "outputs": [
    {
     "data": {
      "text/plain": [
       "Text(0.5, 1.0, 'distribution of leading silence duration')"
      ]
     },
     "execution_count": 6,
     "metadata": {},
     "output_type": "execute_result"
    },
    {
     "data": {
      "image/png": "[encoded data removed]",
      "text/plain": [
       "<Figure size 354.331x236.22 with 1 Axes>"
      ]
     },
     "metadata": {},
     "output_type": "display_data"
    }
   ],
   "source": [
    "sns.kdeplot(data=df, x=\"begin_s\", hue=\"actor\", legend=False)\n",
    "plt.title(\"distribution of leading silence duration\")"
   ]
  },
  {
   "cell_type": "markdown",
   "metadata": {},
   "source": [
    "### Detrending\n",
    "\n",
    "Removes a linear trend form the trimmed trace"
   ]
  },
  {
   "cell_type": "code",
   "execution_count": 7,
   "metadata": {
    "ExecuteTime": {
     "end_time": "2023-06-26T15:07:54.443436Z",
     "start_time": "2023-06-26T15:07:51.123583Z"
    }
   },
   "outputs": [
    {
     "name": "stdout",
     "output_type": "stream",
     "text": [
      "3.0473035542034983e-08 -1.704989029028754e-05\n"
     ]
    }
   ],
   "source": [
    "# First check if relevant linear trend is present\n",
    "from sklearn.linear_model import LinearRegression\n",
    "\n",
    "coeffs, intercepts = [], []\n",
    "\n",
    "for trace in df.trimmed_trace:\n",
    "    subsamp_trace = decimate(trace, q=8)\n",
    "    model = LinearRegression()\n",
    "    model.fit(np.arange(len(subsamp_trace)).reshape(-1, 1), subsamp_trace)\n",
    "    coeffs.append(model.coef_)\n",
    "    intercepts.append(model.intercept_)\n",
    "\n",
    "print(np.mean(coeffs), np.mean(intercepts))"
   ]
  },
  {
   "cell_type": "markdown",
   "metadata": {},
   "source": [
    "Even if it doesn't seem to be relevant, I remove the trend anyway"
   ]
  },
  {
   "cell_type": "code",
   "execution_count": 8,
   "metadata": {
    "ExecuteTime": {
     "end_time": "2023-06-26T15:07:56.859326Z",
     "start_time": "2023-06-26T15:07:54.444925Z"
    }
   },
   "outputs": [
    {
     "name": "stdout",
     "output_type": "stream",
     "text": [
      "\"['detrended_trace'] not found in axis\"\n"
     ]
    }
   ],
   "source": [
    "from scipy.signal import detrend\n",
    "detrended_traces = pd.DataFrame(columns=[\"detrended_trace\"])\n",
    "for trace in df.trimmed_trace:\n",
    "    row = dict(detrended_trace=[detrend(trace)])\n",
    "    row = pd.DataFrame(row, index=[0])\n",
    "    detrended_traces = pd.concat([detrended_traces, row], ignore_index=True)\n",
    "    \n",
    "try:\n",
    "    df.drop(columns=[\"detrended_trace\"], inplace=True)\n",
    "except KeyError as e:\n",
    "    print(e)\n",
    "    pass\n",
    "df = df.join(detrended_traces)"
   ]
  },
  {
   "cell_type": "markdown",
   "metadata": {},
   "source": [
    "### Denoising\n",
    "\n",
    "Two types of denoising are compared:\n",
    "\n",
    "- rolling window mean\n",
    "- lowpass filter\n",
    "\n",
    "#### Rolling window\n",
    "The rolling window basically computes ($f(t)$ is the audio trace and $g(t)$ is the denoised one):\n",
    "\n",
    "$$g(t) = \\frac{1}{T}\\int_{t-T}^t f(s) ds$$\n",
    "\n",
    "or even more accurately, given the box function:\n",
    "\n",
    "$$\\chi(s) = \\begin{cases}\\frac{1}{T} \\;\\; \\mathrm{if} \\;\\;0<s<T\\\\0\\;\\; \\mathrm{otherwise}\\end{cases}$$\n",
    "\n",
    "then $g(t)$ is the convolution product of $g$ and $\\chi$:\n",
    "\n",
    "$$g(t) = \\int_{-\\infty}^{+\\infty}f(t)g(t-s)ds$$\n",
    "\n",
    "implying that the Fourier transform of $g$ is the product of Fourier transforms of $f$ and $\\chi$. The Fourier transform of $\\chi$ is roughly a $sinc(\\omega)=\\frac{\\sin \\omega}{\\omega} $, so distortion is applied.\n",
    "\n",
    "#### Lowpass filter\n",
    "\n",
    "Denoising is performed simulating an RC circuit (like the \"tone\" potentiometer of electric guitars).\n",
    "The transfer function of an RC circuit in lowpass mode is given by:\n",
    "\n",
    "$$G(f) = \\frac{f_0}{\\sqrt{f_0^2 + f^2}}$$\n",
    "\n",
    "where $f_0$ is the cutting frequency. The denoising is performed by inverse transform of the fourier transform of the signal multiplied by the transfer function:\n",
    "\n",
    "$$g(t) = \\mathcal{F}^{-1}[ G(\\omega) \\cdot \\tilde{f}(\\omega) ]$$\n",
    "\n",
    "To mantain code generality I wrote a code that works with many \"orders\" (i.e. exponents) of the same kind:\n",
    "\n",
    "$$G(f) = \\frac{f_0}{(f_0^n + f^n)^{1/n}}$$\n",
    "\n"
   ]
  },
  {
   "cell_type": "code",
   "execution_count": 9,
   "metadata": {
    "ExecuteTime": {
     "end_time": "2023-06-26T15:08:02.457394Z",
     "start_time": "2023-06-26T15:07:56.876398Z"
    }
   },
   "outputs": [
    {
     "data": {
      "text/html": [
       "<div>\n",
       "<style scoped>\n",
       "    .dataframe tbody tr th:only-of-type {\n",
       "        vertical-align: middle;\n",
       "    }\n",
       "\n",
       "    .dataframe tbody tr th {\n",
       "        vertical-align: top;\n",
       "    }\n",
       "\n",
       "    .dataframe thead th {\n",
       "        text-align: right;\n",
       "    }\n",
       "</style>\n",
       "<table border=\"1\" class=\"dataframe\">\n",
       "  <thead>\n",
       "    <tr style=\"text-align: right;\">\n",
       "      <th></th>\n",
       "      <th>window_denoised_trace</th>\n",
       "      <th>lowpass_denoised_trace</th>\n",
       "      <th>fourier_coeffs</th>\n",
       "      <th>filtered_fourier_coeffs</th>\n",
       "      <th>window_fourier_coeffs</th>\n",
       "    </tr>\n",
       "  </thead>\n",
       "  <tbody>\n",
       "    <tr>\n",
       "      <th>0</th>\n",
       "      <td>[0.001753765323276942, 0.0016857764348969795, ...</td>\n",
       "      <td>[0.0020426176, 0.0015521898, 0.0009061165, 0.0...</td>\n",
       "      <td>[1.937151e-07, 0.012311488, 0.01116875, 0.0150...</td>\n",
       "      <td>[1.937151e-07, 0.012311473, 0.011168692, 0.015...</td>\n",
       "      <td>[0.0004995744813792863, 0.011813738756841705, ...</td>\n",
       "    </tr>\n",
       "    <tr>\n",
       "      <th>1</th>\n",
       "      <td>[0.005497532741477092, 0.005853526294231415, 0...</td>\n",
       "      <td>[0.0035621957, 0.0050409036, 0.0058340705, 0.0...</td>\n",
       "      <td>[3.501773e-07, 0.026199006, 0.025683409, 0.022...</td>\n",
       "      <td>[3.501773e-07, 0.02619897, 0.025683273, 0.0222...</td>\n",
       "      <td>[0.0005913824742189988, 0.02677210991382287, 0...</td>\n",
       "    </tr>\n",
       "    <tr>\n",
       "      <th>2</th>\n",
       "      <td>[0.003390873083844781, 0.0018955598934553564, ...</td>\n",
       "      <td>[0.0029172346, 0.0022767535, 0.0004594449, -0....</td>\n",
       "      <td>[2.4959445e-07, 0.012348385, 0.010678725, 0.01...</td>\n",
       "      <td>[2.4959445e-07, 0.012348369, 0.0106786685, 0.0...</td>\n",
       "      <td>[0.001377227658808055, 0.013705122647877445, 0...</td>\n",
       "    </tr>\n",
       "    <tr>\n",
       "      <th>3</th>\n",
       "      <td>[0.003974675045659144, 0.003080609138123691, 0...</td>\n",
       "      <td>[0.002884205, 0.0031725077, 0.0020650725, 0.00...</td>\n",
       "      <td>[1.1920929e-07, 0.012154797, 0.016620804, 0.00...</td>\n",
       "      <td>[1.1920929e-07, 0.01215478, 0.016620707, 0.005...</td>\n",
       "      <td>[0.00043120944277069695, 0.011809947899348193,...</td>\n",
       "    </tr>\n",
       "    <tr>\n",
       "      <th>4</th>\n",
       "      <td>[-2.902322739828378e-05, -0.000253699468885315...</td>\n",
       "      <td>[0.00031803624, -0.00010107233, -0.0004460984,...</td>\n",
       "      <td>[1.1920929e-07, 0.0020026919, 0.0007968909, 0....</td>\n",
       "      <td>[1.1920929e-07, 0.0020026902, 0.0007968881, 0....</td>\n",
       "      <td>[0.00025164902851694884, 0.0018392300805916682...</td>\n",
       "    </tr>\n",
       "  </tbody>\n",
       "</table>\n",
       "</div>"
      ],
      "text/plain": [
       "                               window_denoised_trace  \\\n",
       "0  [0.001753765323276942, 0.0016857764348969795, ...   \n",
       "1  [0.005497532741477092, 0.005853526294231415, 0...   \n",
       "2  [0.003390873083844781, 0.0018955598934553564, ...   \n",
       "3  [0.003974675045659144, 0.003080609138123691, 0...   \n",
       "4  [-2.902322739828378e-05, -0.000253699468885315...   \n",
       "\n",
       "                              lowpass_denoised_trace  \\\n",
       "0  [0.0020426176, 0.0015521898, 0.0009061165, 0.0...   \n",
       "1  [0.0035621957, 0.0050409036, 0.0058340705, 0.0...   \n",
       "2  [0.0029172346, 0.0022767535, 0.0004594449, -0....   \n",
       "3  [0.002884205, 0.0031725077, 0.0020650725, 0.00...   \n",
       "4  [0.00031803624, -0.00010107233, -0.0004460984,...   \n",
       "\n",
       "                                      fourier_coeffs  \\\n",
       "0  [1.937151e-07, 0.012311488, 0.01116875, 0.0150...   \n",
       "1  [3.501773e-07, 0.026199006, 0.025683409, 0.022...   \n",
       "2  [2.4959445e-07, 0.012348385, 0.010678725, 0.01...   \n",
       "3  [1.1920929e-07, 0.012154797, 0.016620804, 0.00...   \n",
       "4  [1.1920929e-07, 0.0020026919, 0.0007968909, 0....   \n",
       "\n",
       "                             filtered_fourier_coeffs  \\\n",
       "0  [1.937151e-07, 0.012311473, 0.011168692, 0.015...   \n",
       "1  [3.501773e-07, 0.02619897, 0.025683273, 0.0222...   \n",
       "2  [2.4959445e-07, 0.012348369, 0.0106786685, 0.0...   \n",
       "3  [1.1920929e-07, 0.01215478, 0.016620707, 0.005...   \n",
       "4  [1.1920929e-07, 0.0020026902, 0.0007968881, 0....   \n",
       "\n",
       "                               window_fourier_coeffs  \n",
       "0  [0.0004995744813792863, 0.011813738756841705, ...  \n",
       "1  [0.0005913824742189988, 0.02677210991382287, 0...  \n",
       "2  [0.001377227658808055, 0.013705122647877445, 0...  \n",
       "3  [0.00043120944277069695, 0.011809947899348193,...  \n",
       "4  [0.00025164902851694884, 0.0018392300805916682...  "
      ]
     },
     "metadata": {},
     "output_type": "display_data"
    }
   ],
   "source": [
    "from scipy.fft import fft, fftfreq, ifft\n",
    "\n",
    "denoised_traces = pd.DataFrame(columns=[\"window_denoised_trace\", \n",
    "                                        \"lowpass_denoised_trace\", \n",
    "                                        \"fourier_coeffs\", \n",
    "                                        \"filtered_fourier_coeffs\",\n",
    "                                        \"window_fourier_coeffs\"])\n",
    "\n",
    "DENOISING_WINDOW=20\n",
    "F0 = 500\n",
    "DENOISING_FILTER_ORDER = 2\n",
    "\n",
    "\n",
    "for norm_trace in df.detrended_trace:\n",
    "    row = dict()\n",
    "\n",
    "    # [CHANGED] ------------------------------------------------------------\n",
    "    rolling = pd.Series(norm_trace).rolling(window=5, min_periods=1, center=True)\n",
    "    rolling_mean = rolling.mean()\n",
    "\n",
    "    row[\"window_denoised_trace\"] = [rolling_mean.to_numpy()]\n",
    "    # [CHANGED] ------------------------------------------------------------\n",
    "\n",
    "    # Window denoising\n",
    "    #row[\"window_denoised_trace\"] = [np.convolve(norm_trace, np.ones(DENOISING_WINDOW)/DENOISING_WINDOW, mode='valid')]\n",
    "\n",
    "    # Fourier lowpass denoising\n",
    "    signal_f = fft(norm_trace)\n",
    "\n",
    "    N = len(norm_trace)\n",
    "    T = DECIMATION_FACTOR/SAMPLING_RATE\n",
    "\n",
    "    # compute the filter\n",
    "    attenuation = (F0 / (F0**DENOISING_FILTER_ORDER + fftfreq(N, T)**DENOISING_FILTER_ORDER)**(1/DENOISING_FILTER_ORDER)).astype(np.complex64)\n",
    "\n",
    "    # apply filter to the fourier transformated signal\n",
    "    signal_f *= attenuation\n",
    "\n",
    "    # inverse fourier transform\n",
    "    row[\"lowpass_denoised_trace\"] = [np.real(ifft(signal_f))]\n",
    "    \n",
    "    # Save the fourier coefficients\n",
    "    row[\"filtered_fourier_coeffs\"] = [np.abs(signal_f[:N//2])]\n",
    "    row[\"fourier_coeffs\"] = [np.abs(fft(norm_trace)[:N//2])]\n",
    "    row[\"window_fourier_coeffs\"] = [np.abs(fft(row[\"window_denoised_trace\"][0])[:N//2])]\n",
    "\n",
    "    \n",
    "    row = pd.DataFrame(row, index=[0])\n",
    "    denoised_traces = pd.concat([denoised_traces, row], ignore_index=True)\n",
    "\n",
    "try:\n",
    "    df.drop(columns=[\"window_denoised_trace\", \"lowpass_denoised_trace\", \"fourier_coeffs\", \"filtered_fourier_coeffs\", \"window_fourier_coeffs\"], inplace=True)\n",
    "except KeyError as e:\n",
    "    pass\n",
    "\n",
    "display(denoised_traces.head())\n",
    "df = df.join(denoised_traces)"
   ]
  },
  {
   "cell_type": "markdown",
   "metadata": {},
   "source": [
    "Plot a nice summary of these two methods"
   ]
  },
  {
   "cell_type": "code",
   "execution_count": 10,
   "metadata": {
    "ExecuteTime": {
     "end_time": "2023-06-26T15:08:03.438762Z",
     "start_time": "2023-06-26T15:08:02.457987Z"
    }
   },
   "outputs": [
    {
     "data": {
      "text/html": [
       "\n",
       "                <audio  controls=\"controls\" >\n",
       "                    <source src=\"data:audio/wav;base64,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\" type=\"audio/wav\" />\n",
       "                    Your browser does not support the audio element.\n",
       "                </audio>\n",
       "              "
      ],
      "text/plain": [
       "<IPython.lib.display.Audio object>"
      ]
     },
     "metadata": {},
     "output_type": "display_data"
    },
    {
     "data": {
      "text/html": [
       "\n",
       "                <audio  controls=\"controls\" >\n",
       "                    <source src=\"data:audio/wav;base64,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\" type=\"audio/wav\" />\n",
       "                    Your browser does not support the audio element.\n",
       "                </audio>\n",
       "              "
      ],
      "text/plain": [
       "<IPython.lib.display.Audio object>"
      ]
     },
     "metadata": {},
     "output_type": "display_data"
    },
    {
     "data": {
      "text/html": [
       "\n",
       "                <audio  controls=\"controls\" >\n",
       "                    <source src=\"data:audio/wav;base64,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\" type=\"audio/wav\" />\n",
       "                    Your browser does not support the audio element.\n",
       "                </audio>\n",
       "              "
      ],
      "text/plain": [
       "<IPython.lib.display.Audio object>"
      ]
     },
     "metadata": {},
     "output_type": "display_data"
    },
    {
     "data": {
      "image/png": "[encoded data removed]",
      "text/plain": [
       "<Figure size 708.661x236.22 with 2 Axes>"
      ]
     },
     "metadata": {},
     "output_type": "display_data"
    }
   ],
   "source": [
    "test_track = 50\n",
    "plot_time_start, plot_time_end = 0, 200\n",
    "\n",
    "N, T = len(df[\"detrended_trace\"][test_track]), DECIMATION_FACTOR/SAMPLING_RATE\n",
    "freqs = fftfreq(N,T)[:N//2]\n",
    "plot_time = np.linspace(plot_time_start*T,plot_time_end*T,plot_time_end-plot_time_start)\n",
    "\n",
    "fig, (axt, axf) = plt.subplots(2,1, figsize=default_style.SHORT_FULLSIZE_FIGURE)\n",
    "axf.set_yscale(\"log\")\n",
    "axf.set_ylim(1e-3, 3e2)\n",
    "axf.axvline(F0, ls=\":\", color=\"k\")\n",
    "style = dict(alpha=0.8, lw=1)\n",
    "\n",
    "# Normalized\n",
    "signal = df[\"detrended_trace\"][test_track]\n",
    "display(Audio(signal, rate=SAMPLING_RATE/DECIMATION_FACTOR))\n",
    "axt.plot(plot_time, signal[plot_time_start:plot_time_end],  color=\"b\")\n",
    "axf.plot(freqs, \n",
    "         df[\"fourier_coeffs\"][test_track], \n",
    "         label=\"original\", \n",
    "         color=\"b\", **style)\n",
    "\n",
    "# FFT denoising\n",
    "signal = df[\"lowpass_denoised_trace\"][test_track]\n",
    "display(Audio(signal, rate=SAMPLING_RATE/DECIMATION_FACTOR))\n",
    "axt.plot(plot_time, signal[plot_time_start:plot_time_end],color=\"g\")\n",
    "axf.plot(freqs, \n",
    "         df[\"filtered_fourier_coeffs\"][test_track], \n",
    "         label=\"denoised (Fourier)\", \n",
    "         color=\"g\", **style)\n",
    "\n",
    "# Window denoising\n",
    "signal = df[\"window_denoised_trace\"][test_track]\n",
    "display(Audio(signal, rate=SAMPLING_RATE/DECIMATION_FACTOR))\n",
    "axt.plot(plot_time, signal[plot_time_start:plot_time_end], color=\"r\")\n",
    "axf.plot(freqs, \n",
    "         df[\"window_fourier_coeffs\"][test_track],\n",
    "         label=\"denoised (window)\",\n",
    "         color=\"r\", **style)\n",
    "\n",
    "\n",
    "fig.legend(ncols=3, loc=\"upper center\")\n",
    "fig.tight_layout()\n",
    "fig.savefig(os.path.join(\"..\", \"images/denoising.pdf\"))"
   ]
  },
  {
   "cell_type": "markdown",
   "metadata": {},
   "source": [
    "### Amplitude Normalization\n",
    "Is performed on denoised tracks instead of detrended traces. Is really a z-score normalization."
   ]
  },
  {
   "cell_type": "code",
   "execution_count": 11,
   "metadata": {
    "ExecuteTime": {
     "end_time": "2023-06-26T15:08:04.011449Z",
     "start_time": "2023-06-26T15:08:03.439066Z"
    }
   },
   "outputs": [
    {
     "name": "stdout",
     "output_type": "stream",
     "text": [
      "\"['clean_trace'] not found in axis\"\n"
     ]
    }
   ],
   "source": [
    "clean_traces = pd.DataFrame(columns=[\"clean_trace\"])\n",
    "for den_trace in df.lowpass_denoised_trace:\n",
    "    row = dict(clean_trace=[(den_trace - np.mean(den_trace)) / np.std(den_trace)])\n",
    "    row = pd.DataFrame(row, index=[0])\n",
    "    clean_traces = pd.concat([clean_traces, row], ignore_index=True)\n",
    "try:\n",
    "    df.drop(columns=[\"clean_trace\"], inplace=True)\n",
    "except KeyError as e:\n",
    "    print(e)\n",
    "    pass\n",
    "df = df.join(clean_traces)"
   ]
  },
  {
   "cell_type": "code",
   "execution_count": 12,
   "metadata": {
    "ExecuteTime": {
     "end_time": "2023-06-26T15:08:04.041565Z",
     "start_time": "2023-06-26T15:08:04.010487Z"
    }
   },
   "outputs": [
    {
     "data": {
      "text/html": [
       "\n",
       "                <audio  controls=\"controls\" >\n",
       "                    <source src=\"data:audio/wav;base64,UklGRl46AABXQVZFZm10IBAAAAABAAEAcBcAAOAuAAACABAAZGF0YTo6AABBCssHjAQ+BA4B6v/o/Df7U/wA/HP9bf6LAFYDmwN2BFwF6gTPBKcCxwAy/x/8Cfxr+f75F/1k/On/3AMkB4YGEQauBgwCIf/m+xf5HPil9lX3xfoS/uwBlAXnBh8JUQjrBSAExAAD/rn7kPr6+hX9+P1B/3oCfAOKBIIFYQX6BQ0GaAQzArgArP+q/p/9GP3V/g8AYAA1AtkBxQA6AQ8AaP6X/cr8iPwF/F36hvnN+SX6Q/we/lv/7gGTAIcAGgGb/rn+Af53/gP+Vf1O/i/+iv+V/4YBvQKHAskDWQNXA3cBRQGfARwAxQBJAMoA5ABIAWoC4wHvArEC7QEvAcD/Uf4k/cb8ffw7/WX96f7Z/34AzQITAiYCLwJAAUsBy/+r/vD90/0i/pz9cP7M/i7/iwGWAXABWwK/ARgBQgBq/+n+of5c/vj+qv/W/wABdgGcAhADCwKUAc3/0f+0/hn+lv6C/MT9zv2a/sz////bAScB6QKYATAA/wA+/r3+xfye+zv9hf0J/3v/RwE9Ao0CeQKGAakAov+3ADj/f/8mAZD/VwHHATEB+AEiAZUBFwFiAdUAKf8aAeX/ov/cASIBSALWAjECgALVASoBbAA2/2f+0/3G/JX8LvxH+3P6Tvjw9if20vUn9h73wfg9+bn63fzH/jgAjAG4AiUD+gSoBB4GFgnbCYwNQxDmEzwXSRgYGm8Y3BbfEwgPKwvIBe8BcP2t+MP1gvHz7ebq4OaL45bf/dt82tDXGNaK1jDW2teu2qXbpehU/d8EFhjYMUI33D9+RV48bzIsJ1kZ6wz4CE4H2wY0Dv8TJBnpHp0ecxrEE3YJdPw+7knjGNpU0TnPocx1yhDLhsiLxbPAJ8HNutDGRel87aMMZTnXQf5TFl1kVFdCSy1OGcD4+euf5qLe9PEkCC0apzSERmdIckODN+AeOQaN9LngqdKy0KXO2NA/2+Ddtt7n3InRUsd4tmSrCKA8puHPS93HAf8+elEaaSJ3S25XV7U3UB8V9JfcfdhfysvYufQwFLwzsUlUXjBYQki9MrILOPS93n3Jysfxx9vKotgo4sjk0OaY33fQ1r3CsP2dzJu6xGrSEvGJM5hLjGPWdlFzcF/KPJElv/pl2WrVOcaXzbbqxgYRLdZLOVwMYVRW9D3FGZz83OVjzU/IfclXyNnYveR75mbpiOPM04W866/KlzKTUsEby+TsHjRjTU1l8nU5dSZbxjYTJLTzO9Xo1tbJXtJl8o8OYy1nVGNiplrrV3o8ThF+9mTe78S2wmLKMMka3dTxIPRQ+FzysORnys2ycZ3VgkCgvboxx98IUztGWGBv1HxMdt9NVTkBFq3k2Nl1z+zKcNsX+skZBzlnW39elFmtUWIrqQeH7crTosOdxB3K4s9w5gfxbvKO97jrh9vjw5auRZbUj92zer4o3Ygf40O6XmZy/3+FakFHSjiyCP7j39z8z3fOIOBUAT0afzYeU5tTV1B1Qi4gTwFB6IvS3sRGxTbLSdTo5VjugvBG89/rbNrBxge6I6Hln0XBl8YM4xAcsT0yUktmEntqZUZMtkOrGZb5MO054CzTSthM8t763xOpMVA0mTwCOf8kxQ1v+47rK9d0007Vrtbz35foceql7FTwSeIl07XLDLeBqR2798hozy34WCMiNxxP8Gm9bcxdkVXNRM4i+gm0+TnladM40z7bnuaO+q8PLSJRLXAxaywYIdwUNgF28GLlV9tw2DLYktve4Prjp+gk6NPf4drZ02XGcMu31JTWFuwQCUwhdTF1RFxaCFZhUa9PJDyjJcQQd/5s5cfTNdGSzWvUR+Ed8doDmhGSH9gmMyTSGzgQbwNd9pPvDu4g6iTpcfBQ8rfva/L78SzqIuHS2tTPwspW0bbUtt/P9Y4NSSE1NM9J01BmTglK+DtPKAESdv6T7Hrc/9Ph0DPUHN1N6gL6TggAEhgXjRsXGhsWiRYMEqQMlAx3CbIDvwBY/d3zy+qI44HY7NAxzvvLZsuR0gTgH+sA+2QNIhtXJ2Ytli8rL4Mo8x/XF5sOMAPw+kH2dPA/7nzwE/Qd99f6YwKkCCMOgxS0Gaweoh8VHkYbNhRxCQb+AvQw55PdmNpI10DXl9u34sbqIPJW+sj9yP5n/3f7jfg197/3gvvO/lIFLQ2CEHUShxPfEfkMnwdrBWMCMQBGA/8GjghaDAEUiRXMEysXoRP0CeMCZvpo8AfpSOdX5xTpVvCy96/+DwaYCbQJ8geQAs36jPQV7UHnd+Zm5QDn1+sI8cT2o/0KBuQJygxREB4PFg9BEHURThM4FbQZ1Bq3GVAZghPCC3UDmPmQ8X3rDumD6aHsq/LK+AYB1ggjDa0Q5REDD4IIwwFv+0f0FvDS7bzsd+6S8BbynfTQ9q72Effe96b3/fdN+uj9hAEACEwOExKaFr8WxBNWEAEJywHP+lr1dfLy773yKfaj+Ln+iQO/B1gLUw1sDrkL/QiqBmsCfv91/Vn8xvtD+yL8Cfwe/KT8GPyX/N/8+vwB/q/+c/+qAIIBlQFiAXUAaf5s+zP4a/UW83byK/OW9KX3XvvG/mACwwbJCqcNlRBhEkESYBENEG0OIgshCAIHiQQxAjABav+s/aT8L/uy+f35t/rp+ob8oP5VAFcCOQO0AsMBhwDO/Uf6Svgx9dLxifA276ruhe+T8RfzYfU1+qz9oAEzBngJeAyUDqYQ8xBWEBgPgQwnC9wH1APFAWb/uPyz+rD6Y/oY+kr8E/6S/64B5gIpA3oD2AO3ARX/N/4t/Gv60/n1+NL4mflZ+o768/sg/ZX84PwF/XL7+foP/Ij7q/tQ/oUAgAIVBY8HvQgfCZsJUAhYBh0FzwJtADf/7f3d/OT9+f/zANoCowXLBhIHgAdBB8YFTATJAlkBLgAG/xn/c/9O/87/rwDAAHEAAwHX/z39nftM+Vz2kvPH8eLwE/E98rzzzPZn+h/+rgCGApYEJAQmA4cCQgFYAHcAVQF7AqMEYQYoCCcKXwvoCzsLNguXCYUH7gZbBYoEFQThBTgINwgrCREIXgTP/zP8yvkq9SDyeu+h6xbqH+iY5srje+OM6n3tmvBw+cIC2giPCo8QdxMyEBMOcAwdCzMFqwKWBFICHQH1Ag4H+AmwDN8ROxW6FTEVchRmEMwLvQhpBMgA8f08/HH5b/YE9W7yp/CF7dbqTOgw5Lbixt8e3pLbit0D6qTvwvbxBeQUvR2SHxwmpyUfG1QRmAnuAYf2zPNx9p32FPkJAB4KsA5SFokfOCHlHxYdJhm5DRgEeP9g+Gj0GfSu9kf1hPTY9tjzrPAm7ILoZeTk3e/be9hE2EXYqNii6jb4HgAnEXYjMDG0LhIvTDAWIVYQjwIH+83u1+SZ6/Pw//Qw/eMKOxWfFIccfCWTHyYZ4RfjEZsDxvvK/Mj56feh+lH+3PuE96f35/KS7GfmzuVR4kHa4NwV2ELYW9T01Qf1HftbBZseszHfPmQxoTaDM9YW7QRL9ADvv91k1+zp2O2E9hADRxQQH1EZ4CH/J98f2hXGEX4OtP+M+a38dvz//QQBMgZfAnH6i/mm75TlFN6S2WHa58660QzWP9Oc16bTPfG7BKMCax7KL8A8wjQdLIU08xe9AZH3je245+Papuuh+Xv6cgkjFTchcBxTF6Ug6hj4EIIOnQwhCrECrgXAB0cFaQftBrEDC/w881PvBOeU3+3e49wa4kTgx91s40DeUN5m1jXj4f2d+I0KaCMKMpY2xCt9Nm8q/gySAqT3RvC94d3idPWf9f/6SAtAFhgXqBC5FaMWGQqSCY8MCgg/BcsFuQmXBlID1Qc+BfX9sPij96X0Luw368Lt5etl6krn7+WX5s/eKtu306PVLe2E7f73XROTJdwyoiypNLY0hBsCEH8Cs/nQ7aviDO+C8FjyOP4UBUUMAgm2CpUQsgoWDC0PuQ9cD94KhgwgC9QH3wiVBpkFVQOiACYB9v0s+6j53/fb9yvyyOx767rmlN/7187XUtH90CzkeekR9EwH0Ro7KYcmvi96MrIkEBh2DJcGwvd57OLx1/Eq7r7ufPe2/Lr4Sf7IBHkGXQn9DbQT2hHoD8ER+BA6D5INvw4GDPEIrQsdCrsGvQP9/2v89PO/7Vfqv+Wk4zPin+RA5mXmcenL65Xr3+vT8dX04fZc/hsHaw92ElgW+BssGV8RtgywC68HigAY/yEBx/57/Mj85v1J/V37l/2X/kX/9QH5BD0KsAxgELwVyxhwGxAagBeZE/0MqAb0/sj3HPGp6znpbOd957fpAO0j8Wb1KPn8++H9B/5a/k3+0ftn+rj4ifZx9SrzQ/NG9M70Tvff+Yf9dwEdBQMJIwsbDf4OnA62DZoMywvYCtwHLAdbCDoIwwhrCRUL+wrHB1cG9gUGBJn/uv19/aP6cviu9mr4g/m2+Ib8H//+AEcB8QA3Ahf/7fyr+hr4Lff48yj0rvTE8430gfUJ+Cr5xfoP/sz/HgJ/Az4EmgUHBUUEaQNmAn0BWgACAWABNQKCA1ME/gaBB7wGTQfhBRYEewKsAML/L/4//m3/TP+mAH8C1wS+BlsGBAfEBqIEzwIcAen/uv3M+7v77PoY+kD6rfqY+6z7Hvxu/TT+KP+TAEsCHAOgA6sEEwW3BEAE+wOjAvUAXADt/1z/8P0J/Uz94vr996z34vYr9Sj0KvUl9zz4Kvpf/eT/vAGwA60FRgaABecFpwUiBJkDHwNCAnsAwf5Q/Vv70/mU+K/4Z/kl+o/8w/9qA+kG1QlODNYNaA5eDQ0Mkgo8CCUGkASQAwICdwBy/yn+Qf1v/BL8Bfzy+4n8XP06/qr+y/76/nr+wf0n/Vb8KPzQ+2f7fPzO/fT+5P9vAOUA///G/kn9Cfuq+ZH3afb59g33Ufiu+u79rADLAo4FUgeMCBYJSgmNCQoJjgjDByUHPwaxBKgDIQKvAGj/Jf7Q/e/8mfzy/KX8Rv3g/VL+pP5R/qv+7v0H/Vf94vzK/Pv8cP3g/j3/tv9eAMT/UP/B/eb8MPy4+df5gfnG+Tr7VPyKARYD6gUCC2UIFgt/EBkNXQiXBc4CHQHr/yn+U/wL/Az9N/2F/oP/w//4AxsGEQWlBrYGsQRdBLIBm/1e/SH+O/0z/Hf93Py0+xb+OP+a/ir+6f4+/mX9rf1N/Cf7jfqk+vP6yPsG/h8AwAHQAVUBrgCe/3z+X/1w/Nj8TP9G/37/DgBY/g3+uf1F/r/9G/6fAH0AIgE4AdwATgCk//T/GP9q/8f/pgB2AXEChQRcBDoERgTYA+kB5v9u/5X+N/5c/pf/6wASBL0GhQZ1B2IHcAZBBI8CPALSANkBWAO9BDwF0gMUA40AEv0G++j4k/ZI9ov3FvkL+rL7M/4K/gz93/wf/Pn65fqp+5L8Cf7AAEACOgH6AS8CUQG1AP3/Z//S/cf9nvzG+/P8Wf2D/or/jQFVAvAC7AQNBWUGaQc+CPQHtQaLBgYEpAH+/t3+Pf9f/qj/Wv6K/uL+PP86/yL9QgDFAMj/Ov9V/fX+xvwK/Lv8K/zQ/hn/iAAQAWYAGQE6/y7+LP5c/SX8NPxj/cv9qP0S/xoAS/7b/r3/TP7r/o8AbwGjAh0EuAVaBtIFzAW1BCUD8QENARUAIf4J/oj+nP4zAGUCZALSAN7/rwAZApYAy//n/4v/Yv9q/t3+Df9QAJ0AHv5l/Qj9tf23/Fn7CP2M/4ABAwCq/hX+Ov2T/TP/hP+N/hIA5AAKAbH/FADFAvMAZf62/cj/Cf9Q/I//7QHLARkB/ADKAoEB6P//Ae4EzwTPAQoCFQPnAJP/OgBYAd8ApP5r/Rn/zP9O/gz/z/83ACf//P0cAAQA7P5M/vL+mP/1/WgAWwPmAj4BlAAuAbUAGAAAABsCwgAD/Rz9Q/68/nL7Rfs0/53/SPxb+nX/7wEeAmEC/wNEBtb/t/2P/0ABZgCE+/D+TgBA/zD8R/vDAmUEKwSYAbIAKgKH/hj+mf/xBN8IUAhbCDkFaAO2AooE1ge+BvUEBgMyAon+NPl++rj7Hfrr9g71APf79n32+fZW+Zv7BftI+v75H/tR/Cf+vf1K/ScArAKSBCkCIQJhA5sCsAIHAJ8CcgWcBv0HLAXyBGYF3wfqCG0H1QiXCdYLBAvRCBkIOQZXBn8DYQDp/NL4Sfj/9fn1lvXr80L0+vEQ8BTt8+wj8hj2H/bA8X/w3PNh+Pf7VP3G/Qr8/vkR+lj+PAb8Ef8gSiv9K2Uj+BmAFDoR1hAaErIUkxRTD3sIhgKV/in8svq7+Hn0Le/9613rxu028ATv3ezH6dHmcOT14nnkR+eb6ZLnn+NE4dTnSgCsHRovmizWHiITVwrHA+X/hARDD14aWB/ZG5waXxoeGv8WKBAIDLwG6AL8AGgBVAO9AZP/z/oi9DDr5+IW47nnkurL5fbcvdc81o/XiNe+2HzbNt8Z9hYeTj4vQ8gsUhVEB5P/0/lc99wBKhTwJbgpwhyYCTL6yPek/rcOESGsKQYkMhIWAQj3vveW/nMEywWQ/QjyDerq6ULtZ+tB5YHekNeNzy/Gn78Zws3LeO4IKvVZrGKwO5wKAuzk4urn7+uF+zwXyzY3RX0wkQjF4mLXz+SF+p8PSiQPOp0+fyZb/VLj3Ojq/usPlg9lB6r/gvji7sHkBN8f3XreudlJzx7AS7X6uGTJl/toPgZrkmbnMWz99NyR2B7jffJoEAIx+kzwR9keIumFwsHFwuCnA4QbeiowPBY/sioo/27fDuOC/7kbZx0dEckCc/pw8hzl7d2A2+PeUdp3yrm2iKuLuHjPL/xWOQpl6GjyOXkAEdnUztndA/VEF5U3Ok6tSBEfOemmvyS+qNsBBM0kfTLFN1szFSN3Aw7lfuKp+nEaoyOjFGMAufSw8s7sH+WZ3nzcitzk02PFfLjQwBLZuu5lDOgvdE0LTRImTfYI2IPbI/KGCHgafiYuL1Mnfgt952LPXtaV9MYX3yyJL44snSjWHFME9u7X8YELSyNaILQHqPEK7v30lfO45ofXrtJj1KLPNsLdto3D49w/+3clQEUwTQcxgASz6fziKu8n/AENiiS2NHM1Bxk782TZbdnO8mgM/h5PJDgoeyzVIGoIeO6c7wwI4hx6HTII7vcv86f1M/S16bnjst+G3ULSB76Ssvy5Y9iQ7c/8Ih58PwZMiCy1/GvkPOZc+UICXgi2F54r3jXdHrD6t+PN6kcEchHbEXwP7B5NM3ctzQsV6QztTQpkHT0ThPew7QT2EgC0+bPn4d/i4D3izdRCwK+6GMbU3dboV+kBBVkxEkwDPDUPGfZz9DP6n/bD7x8CeSQ6Pw45Nhix/1T3W/ho8grp2PVAHONBe0EKG2z3AvbxCJcO0wBJ9BT8ag3tDgT7oeWQ4izq7+fu1IfBaL7myyjcJeK33H/Q1+KzGkBGekkcKaISFxPfDEn2INjs2pcCai32P+QvuhruDFv/3+tR2ErfjwWNM4VEdi/PEXYF9AgzBjr6JPWLAD0RfQ9J+yronOQh7OXsVeKQ1jPTk9gY3hjehNbw0cHZKeKc9/EZCS+yM1coxiF5HJQGOO1V3jzu9Av4HHoeCRVJFlEalBKRAfzw8/XtC2AgziSCGHoNaQ0hEZIK/P2a+m4DeAs8AhPu4uKP6CryJvAQ6FDoQfKe+SD1xeke4u7hYuQX4YPbDtq44Kn4nBPlH10e9xmRHzogpxBt/K71nwPtDa0IrwB9BNwWPyEhG/kPUgp+D8YQlAbq+gX5NQQrDiQOwgcrADb4Ju4Q6PLpcfI1+7oAqAUQCLAF7ftJ8ZvtkO2B7Xbs4PK//pMD3v6u82btO+yj6TXnWegC9WgF0wvmCtANHBqzI+UfXBMlCskI4gaQ/xH4nPea/cQEHgpCDYENqggrAW76+vbh93j7sgFGCDwLVAgPA+AB2AR/CEsI4gM+ANT/YgEMAkUAY/zf+D/2bPNb8/L1z/h9+hv7nv6DAuYBg/7U++T7xPpz9hz1DPkF/Q38lPgN+OD5Fvq0+O74zftmAHMEhwXeA84BfwLhBU8HswPC/+cBwwgMDvgOMg4pDjEOIAzcBxUDLv+4/QP+Df4Q/b37cPwZAEkD+QEM/qP8Ff+MAJX8wPcP+FP8J/9z/a/6Dfr8+sj6mPjW+L78dQGwA1oCvwBKASIEvgY1BiADGABf/5MAkQGZAegBAQMnAw0Bnv7b/skB1QPgAgkBuv+Z/y8APwB3/8T9C/2V/Pz6O/l2+Jr5kvqC+0j9NP7t/zwDzAT9ABb87vzP/xoBNAL0A8cFewWZA9wAjv06/Gj+PQElAokDLgaECJgIZQWCAFb8lfwZAFkCewLpArcFCAcCBMb/kf3n/Z3+x/3++lL4HPdx9RXzbfKi9B/4WPz7/woBrQGeAkQCYQBl/ycBhAMqBYwFJwSSAZj///4a/p39pf7ZAGYD5ATsBLMD9wLHAhQCxwImBVwHnggvCGoHmQcFBgADrQFbAU4Auv5+/Pj4ifZY9hD3nvia+h38a/35/sD+Tvy6+RH5C/zk/xsCjgI1AtgD0QQvAzsAMv3q/Dv9RPyX+zD7lfvA/FL9Jv4dABkCtwSVBk8FMAMRAq4B9AFaAnoCvAK2AxkEtAJMATMAt/5W/cP7e/pF+2T+uwApAbwAvv/mALkCcQLQAHz+sP2B/sn+Mv4KAD8D4QMSBWcFxQNaA/UBaP9H/I35ZfmI+sr8tP5f/1ABggI5A64D3AA0/y3/0f5c/2P+Af6f/9UAaQHaAIP/DP9M/43+7v2V/p7/fgD5AGgBYgFSAcMBkAEBAR8BBwHlADQBOAB3/9z+Mv7h/t7+Zv/r/x4AdgD2/+D/Zv4w/gz/Jv8sAI3+tf3E/qn+HP/3/gz//P9nAQEClAHNAYABBwI6ArMBfQGiAHAA0f+d/wIA7P9J/9v98P1w/R79l/3//Ar+Sf4f/jb/Wf9GAMoBOAJWAooCDAIhASoBAQGFAJQAKQBiAGQBBwLnAncDtQNWBKMEkATABKcERATZAw8DnAJuAhICHwHD/7H+gvx3+t74W/aA9CDyBvCT70DvXe8k8FHxt/Ko9FX2n/iH/Gr/YAIRBlkJrQ3WEvAXwxyKIDUhZh9tHAsXIBFgC8IFwQFZ/qT7KPqs+fj5ifob+k74Efe99NLxJ+/W6inn8OK/3wXdl9sr3MnaIOWV7nT0Uwm7FRQfMyy6LQotfCnZHywUnQqqABf3JfT688v5vgLrC/4VvxvVH2UfEhpaE6YK/gBw+KPyee3T6+bsjO1z7xLxXvH87t7rZ+Z335XZmNLCz0/OudZM5Y7uEwZ5HT4s8z3ERHxD+j0eLgcZvAZv95XqtOVn5Ybok/OV/ukJ2RcIHoIisiTKHAQVcAwCA6r/L/1S+oH6P/k+9rX0SPAL663l2d5F2AjRcctSxgTFd8TmywbhY/KFD9Mt0TpHSU9MlUN/OBklmg9A/TLw/+eU51TtJfPh+8MDhQh6DKsNTxHdFC8Wlxr2GhUYuhaMEnkN+wkaBcX/Rft69OLsweUh3wjZMNObzhnJlceexqPG/ctuz3Lij/qUDsIuTz/wRPNL0kJcMoogmgt0+Lbsv+Yu5R/sQfY8/q0GWwyRDSMQRhBDES4UUBRkGeEaeBe6Fs0RbQ3/C0IHVwAO+g/yq+mB5Mfe09n51wfXUdUI1E/TFdFX0ufRgtdU7YAAvBeULzo2MDlQOUYvsx9cEtkEEPf98j70g/b5+5MCcgWoBhwK8ghfBkUI8AoaDvQTqhl7Ga4YWxi/E1gQ/wtLBJz9m/bx7xXrdOi05uLki+Qb4jbeXtkC01vNAcjFxmjIDNVs8KMG7BrjMSo7SjyPPn02JSZWFmIIQwBn+vT4X/1L/8L/kwJTBSEDdACNAFMARQMsCXMQNxeoGlscBBp9FHQOuwaX/rP2lPDg7Z7s5exI74PwdvD37/PqR+Jn27rV5M9GzcLNhM/J2kjzfAhpFVckBy+IMjowsybrH78YXw/HCxgJqwazBIEAuv0J/NH3AfNa8XXxS/X7/lAJ3hJwG80fiCCZHuUYvBJIDvgINgT6AND97Psd+zL5WvXK8K3sOOdN4GHa6tMrzYbIOMSLwA/F9dco7Rv9LxBJI4g1QkMWQ34+kziYLlEkyhUhBaz5XvEs6uHl6+Fu3zDlKO4O9WT+SAmgE6seHCZbJ2YnZSZ1JCAjvx00FrMPsQggAuH6RfI86efhrdws1mLQiszoyB3HiMcDyOrIkMv60xLpcv7fC1Udey2cOWRCFT5ONTUuMCTRGDcL/fzm8kfteOrw51Tl+OaD7T70MfpsAQ4LExY8H0kkvSaYKMkoXCfVI3kcMhQ5DhgJGgJA+ZzvBucg4pneIdqD1lnTxdE70onRodCrz3HPOtHU1RLla/iRBrYXvyhPNuFAPEBKOVkxSybUGgkNCv068lXs7+bw5DLmWujF7lT3Jf8ECRwTqRuuJNUq9StDK8sp4idBJIgd+xV9DjMG7/xk8//pk+Bv2M7SH86NyTHIF8l5yvPO6tPk17HcseB75MPsHft1COETHSCPKlU1AToONNYrliE5FoQMUQHd9oDx7++X8N7yVPRc9ib7ngAJB3IP2RfyH1EnDitnLHYrsSboIWcbfRC2BF/5/u8W6PjfQ9k51JjS2dQ811nZsty64O/k7ef85/Pmdebj5e3l6enP84z+FgiiEvgcPSd4LawrlyasINsZHBTFDWQGpgF7/gP8rfuj+qj5dvtT/sQDWwvIEPUW/h2+ITIjVSDQGVEU1A0KBo3+3/aw8BPsEuiP5DbhGt9y3z/iUOVy533pK+tS7cbuce4n7QLpteQP4sriNurF8KT3iAO8DwMegygDKx0sAir0JpkkDR3UEmwJxwHY/TP7RffO877yZvWI/KMEugpwEJoWmRxxIJEf4hr/FLoPPwomAxL7bPLG6zboH+Xj4vzhh+J/5Zbpbu2B7+zvYfA48BXv7+ue5wjlq+Lv4rjoSO/49koBLQyLGWkmni0AMRoxdS5kKxkmnh13E8oIPgCV+f/yo+3X6CHmH+gS7ZL1K/9KBgcOIhXjGS0ckhioEVYKagMP/kX4V/MY8KTvW/NS96r6tfwj/Tb+Lf75+yn4JvOQ7sbrAeol6AznaebJ5nzoJeoD7qD0OPwPBQwObhe4Iegp0i2qLOYm8B5rFnwNCgSy+mTyNuxJ6TDpB+pV62HuH/M9+YYAzAaPC50PsBK8FTMYjhjNFrEStw1rCVMFWQHL/Gr3m/Ih79TsHuu/6VXpjOp27UzxKPXf+ID8/P9BA6IFxwYLB8EG9QUGBLgBwP92/aD7RvpX+Xb53/ne+p/8cf4PAHEB0wOVBjEIpAm5CiMKdgijBpQEAAJo/wv+bP/oA2kIJQrRCoAMQw7LDYcKuAZ7BBoDbwHX//L+Jv+k/6P/Wf/A/lD9L/rV9VjxTe0L6lvno+XD5C/kT+SG5efnAO3M+A8LtRyWJY4jKRwuE/EGq/aC5jvfFOV+8sQAgwyuFTEdvx7YFuwIU/x89xT9bQnTE6EbVyLBJAAhVRRrBr0ACQBaAG79Dvl2+Kr36PR/8FfsU+s/6ebk2t5Q2nDa5drf22bcJN805ejx/hMjNQg9vDP+If4V0wUx54jSxtQU7mcPISECKmQwhC3gHhcAIeLa1wjbiOaY88gCwhlKLVE1Niz6FvQGK/0U+uz9cgRQEHkZMBkNE4IId/4282vlLd602/nYSNZg1O/XgdrT12jTVc5Z0UDcqv0YMr5JMkapO3UsZhnh8SjMPsxK5pUGThwyJZMxwDOKGvj0uNez02vh2Os4+cIQ1SjtNOwrYxg1CR3/x/qy/fAJIxxXJkcleR/EFSII/PeJ6Ybi/d6S20zaqdok38fhGt151h/P18jfxRLJStUX+bExM1BBSr45lij2EtzsdMxO05jy0w41IKkrXTd9MZQO2uqK26Pc7uKU6TD+jx2XLbgnABzlGWUZPg6+BIgI1xQNG9MUqRHhFI0Q8QMc9yfvfOYr2m3WLNy/3rzaddgb2JnS5cWUuTq/vsz669Mq4EtnSONCDTMaGcnpLMUx1fDxjAd5HskzE0S4Mo4Jg+/N3vPU8daA6IANDSjnLHkvVDKBKboMY/g3ARQJLQWeBkwRBBmiDoUDOQhCB274aenX5ZDq/uWG4DDmqunA4UbQLMSSvFS1xbd7yrwFJTz5PnVA4T8hJxT7dtAy1oLuyPmxFCQ3+kniOwoXVwAV65bPI8oj3jn+kRJSH581gjzaLm4YWwjlCDsAB/qKBsIRPxY/EZAPdA9rAAvz6ekx4UPdvN756A3vGO7f61ri6dMlw3+2RrnRv1jRHwr5O71Bdj6gOWkm0Pkt0/jZPeul+dEVXTY1SNI5liH2DmzxiNea06TijPSCAsUehzeuOMUwbiBpD179Ye1d8r79UwiAETEWpRlmDygBOfVt5xbiguH25l7r9ewo8gzqn9u4zlfE4L77up/BZ9fpC7M1NjcOPks+2yZ7+9nd7+XG5gvv0hC+MiVC2zWlLOMb7/US3dXVYttb4vbzixhqLJU00zptMO0YHP4J83nyxvPw/ugNRBpHGhMR2QUr92br6OI94sPpLu4v79jtUea82w3POcWsw6TCNsWJ0Fb45SmHNLw4QEWLO6QSoOuJ6IHn1eOX99Mdbje7M3kxlykMDtru39r+2dzYA+S5At0c+TDoO5A97CsEEB4AOPGr6m/xLwAID9QT/xXxD8wChfT76afm/ON05SvlSeS64L7YyNU00j7RJMxsy8/Rjt92CmgmnS9qP19EXDbYEHH8q/aJ5xDnZvl8FOodhyAFKcci4g8u+Ovteufe3EDjDvYnC70dAzLRPPYzbSQKEY0AE/JT7PL0GP4FBuQJSw1oCbT7y/T+8C7suOJi3UngpNrl1DnVitil2G7SJNeB3JrkVwF6GvQoEzLtOOE5qiX/EjkKCADX9crtJ/WL/1UAkgT4DrgX7BI6C/QKcAQ6+OrvevJT/JwCYAwBG6sg+xqaE/QPgggm/iT6vfny99vygfCO8470ifUI+LH6cvzC+sX4PfeI9s7znO/Q8Bby8fAj8CPwN/Gw8OzxhvYx/UgFmgt0EioY1Bi9FYMQDQzcBWz+gPuv/AgArQLsBBwIfAhTBUMBxP5A/u78M/mo+I38K/7E/oICSwqtDw4PQg+zD+oNWgnrBYMFpQEc/Xv6rPjU9VvzOvVG9iz4S/tb/DT9Qvzp+z38z/ty+4f7TP3x/Rb9/vre+Bj3zPMH8hDyO/SR9g34W/2ZA4UJaw6+D0UPNwyvCKsG6QTpAv0A7QH+AvEA3v5D/tv9h/vX+Jn5Y/z8/b4AAQdKDAcO/g7DECEQ0gvNB1UEtQELAUYARv+h/tL+Hv8T/nn8c/s6+6r6BvpD+4H9CP6b/ar9lvzG+pv46vWY82fysPQx+M/5kPps+8b7C/k192L4GPhk+FD7BgDLBKIH3guYEA0RQQ/wDZ4LTQbrAH/+e/x+++T9QQEbA6UDWgNJAkcBHwE0AnoEOAdWCqANOw+DDlsNgwtsB+YC0f/H/O34VPZg9n/3+vfE+HH68/rv+iT8mf0P/u78Wvy9++L4SfYr9Ojx6e+v7mzvU/CA8rv3yvyIAOED2AaEByUF4gL8AQcCrQOzBr4JJAzBDDwL7girBfoBE/8U/jT/zQDOAtEFwQmCDL8MWwwMDCwKOwafA6YCcQG5AHYA/wBRAIr+R/4q/qD9Svye+xD8O/vO+g37Evuc+pn5BPl/9yf2LvbA9gP46/iz+VX5hffw9cHzX/JP8zT2G/rq/XECjQbYCDYK8gpcCl8IBQfKBiAG+gTpBD4GPwa9BAIEDARwA68BHAG+AgAFMgdvCbgLFQ0DDX8MLgy5CqQHxQQ2AiIAMv70+1v7FPt8+Uz34/WG9YT00/Sa9hP4gvhZ9wX3tPUQ8p3uCeyb6kvrA/AT9pD7NQJfCZAO5w57Dc4LRgc/Atz+CP7N/Rr99P5fARQC2AEXAqYCxAGjAWEEKgnKDO4OYBONF2kXIxVIFG8TARB7DLAKNglbBi4DdwCM/Fr4p/VQ9KPytPDN76rtpeqK6ITm1uRn4wPkNuVy5TnoMuxK9NkBpw2rFooe7SPnIGUV/Akh/6nyjeiI5gPr1e+H99sDUw4yE0YV6xW7EUwIOwGy//T+jwLXCucS5hmlHaIfLB1dF9QRtwkHAn77AfiL9h/12/e0+q/83/yT+tz2BfCU6vLk2OBe3WTZKdoS2D/Yt9hK4+oAgg6AGYAuHjoLNiIi7hiACpzuQOGn3VHg1uB67CoEqA01FXsdfB+7FcMG1AEc+RDuovCvADALUhFuI0QuvSt/Jjoh4RVdAov43PL46nXpo+4s9hX45f0cBKsADv2593Dy2+kI4J/dadd71KLVadbI2SvfWvlFDyQViCi3OK85ciupHl8W9vp95s7hu90A3H7inPfTBQQNkhpEIuAfmBajEFAJ/vlT8ib1ePgf+2YH0BYnHsQkCSk2JXUZsQ14BFn2j+tt6APnCue+6wj0IPhG+37/Nf9P+i30Zu846Cfh3d5J3sTcYN6u4+HpI/lWB2cPoxyZJ/crQyfwIGsc6w7fAAj3afBx687n/eyS83X4KAGrCrwQgBFwEs0TUg9kCJMFpgTdAeIAowPoBhQItgnqC+QKTgg3BQoC7P3y+CP2ivQs9Gn09PYS/JT+fwDlAp4DagKM/wz9l/rQ9wr2yPUM9u/1avU+9K/yhfAN77buMu/c8WX2B/wgALwDuQgeC/4LZA25DssPKxCAEZQSUhLMEFcNkwiLAv78Zves8ZzuQu438DPz9fi7AJgGMgynEOMSIRKuD7gOdAvLB7UGcAXeA/cBZQGHAET96vqF+Q34u/ZD9nn3yfjJ+dT6Cfv1+WD40/bl9BDzh/EO8DPv9u4K7xnwifKa9Wz5/P3tAmYIXQ3FEQ4VbxaeFqcUFRF+DCQHKwLq/Ob4dfbu9GH11vZr+VL81v7rAQoFbQjwC18PGxLsEy4V5xTZE9wRpw7sCmYGCgKO/S/5+PWC81byNPL38gb0bPTs9R/4XvkB+ir6Wvp2+af2rvSw83jxn+8A8HTxu/Jv9IT3nfqt/C3+iv95AHwAMQGdApMDEgUECG4LsQ3fD+gRxxHNDz4NRAoNBgMC3f/F/lX+/f4pARAEbgaJCNUKwQyXDd4NBw5QDUsL4AixBsgDYwBh/ZT68fek9Yr0u/QL9VL1TfaC99T3Rfh3+Sv6YvpK+yr8pvub+n35n/dr9DPxT+8u7YXrwutr7Ufwz/Os+Mz9AwJ3BlAKfA3LD+MQkBE+EboQKBDbDhsNAAvYCBYGtwNeAj4B5AA3AUYChAOsBFQGeQckCCUIlAceBxEGQQVyBGUDwQLMAQoBJwA2/4f+bf3D/Ev8A/zp+3D7L/tx+oX5xfiq97r2pPXW9ED0afMl80bzZvN48wb0I/Ux9nj3+fjC+o38DP56/7sAsQEfAmkCuwKwAqYCVgOqBAQGlAeBCT0LKwyTDOcMcwwrC6QJQAjRBj0FcgQYBAYEYwQcBSgGZAazBosGugXJBKYDuwNlA44HqQldAdn8J/sy+JH2dvbM9iX2zPk5+7P4xPXI9Kj2xfUQ9gL3XPeT97/21vkD+gL3RvfG9zz22PJQ8/j00PQG+BL8f/5WAN8DMQiTCZIKhgwhDvYOdg/XEBoRuxBzEdMRfhEJEAIP0g5CDUgMrwsDCtQHgAXIA2oBOf9m/dr7n/o/+Mn28fWR9Nzy3/Bj7/Tsiupa6Y/om+d+5lnmdeYT5Qnjh+MP5rTvhP+bCWgUKSJEKjUpJSCMGHcOcP478/Xuse6e7/T0QgIsDYQSBhl/HSUdfRp9Fp0Smg1UChYLHgs2DIEPdBPJFeYTjBH+DHEEMvx09L7uK+oK5qPljeUB5QrlYeUj59nmzOcU6ZLkEOFi4J7f6+Fd8MAFiRHRGoMn4C3gJVYTFQaA+5HqXd613+bqkPVr/bIMSR2eIfQc7RZYEVAHbvvb+En+HwXLC2AULR8yIysfkRvyF0gQFwa0/iT8CfrF92f4oPrc+5X5QPTl7nrov+EV3VjbjNzB3GDdn+EA5ozrfffdCu8bGSNGJ3sqiSZOF78CS/XW7WLmUeL358j2AQTFCiEQ7RTuE0wJ4fqG8eHume5P8ooC5xgLKaUu8CxCKqogHg+Z//b37/aZ9FfyEfbZ/BYBgv8C/Df6xvaT7nbkP9783d/fut5g3UrgfuYJ6mPwfQeKIE8sBS7pK3Qs3SFvCCvx3OQm5t3pG+yx9r8G8hZHHgIY7Q7TBQn7xO6D4vnggeuy/IwS1iMcL1Ez/Su0HsAM5fuV8FXqp+2v84r5qP8MAygG5gM0/cn1zOxH5mLgc9wv3PHc7uGo5+HqSO357gL6HRDkIwsugi2HKkwoLx3BCfjzBebe5gzu+/bi/W4DGw5DF4MYWA9kAO/2l/Jg8H7v+/ET/NwNCiI+LUIqdx7gEzANqwPI9ULr/uzo9kf+1/6y+iH4l/fa9Jft0+M03Q/bbNwA3y/g7OHV5TrrL/FP9iwADRQlKRE27jUILfojRRi7CR/5UOow5y/vWf03CPkKSQ3VEAsTmg41Auj1HO2Z64DxefnyAyYPTBtaJp4nSh+hEUsGqgCt+yX3tPSh9wj++gCb/pf4cfN073/qk+RP39PcXdx93ereM+Cc4Vbjkef48bUGfR/lMvw6LjXuJx8YoAmA/Enu5OSq5d3yBgZcFHsaShhlEzcO4gaJ/UzxEOja5tDuVP71DZoc9Sc8LS0sJyL+EwAGefsp9W3xI/Pc98r84/2O+Vb0be9Q7IPopuP+35Ld9d7a4aLkC+UM46rjgujr994PdicEOO45DDFZIXUPtf/67/7jKt6j4vTxiQQTFdUcFBw5FmcNRAV0++7wzOmg6DTw+/2JDuQemippL7QsMSRSGLMLVgGp+Bry3O848+b5X/1z+xL2KvHr7k7tUutm52zimd8+32zgBuCv3oPfMuRT84sLNiXPODY9XzQbIjgN4/uu7Ivijd304NTtN//xEYgd4h8RGWIMHwHy9sHv2Oo66WTuy/mQCmYbaymXMP4uhSd0HGkSRAjb/Z/06u478bD41wD0A4cAFfoP83PvF+7k7Cfr3ecm5TXkLuXn5s/myOUD5TDnBPTXChEkljXMNgUrkRc4BLb1cupl4yLf6uDb63n9sBGVH1sicxrKDI8AZfdS8dTsPupW7Uj4dwoCHcUp2S5YLNEl5xvpD2kDNvej747u0fRX/mgF1wdZBKT+yvh89NTyBPKn8Vnw7e4N7rrtM+316rPmcOEH3i7e7Ok0ARMbzS/0NFMtIB2bCQT5k+kx3+PZ69vP5y/52Q1fHVQjOx/FEl8FJvkr8aTtV+1I8nL7TAmPGGskrSm2JQ0cSBBQBhQAlfv6+Hn40fsGAmAHZwkKBqIAc/zM+g78Qv0F/ZD6fPev9Zb0avMA8CrrY+bd4i/hcOHc4+noVfZgCtseyyyFLCIhAg6/+frp49402xPdNObv9oMKzB24KdorhySEFQsFuvVk6oHkYuQI7DX5JwmnF9cfViAIGY8POgg4A5cAs/0X/M/91wI3CjwPRBBHDa0HFQOVAEL/2fyT+Db0Z/Ka85T1qPUN8hHsYuX931LcH9uO3YHkmPUnDawiFi4GKJwW2wA+7uHjiN+g4gvs8PufEaIlsjL6MmwlYhBj+TPncdw/2P3bA+ZM9g8L5R1JKjMq4B5AD5IAcfiS9U/31/1+BmURVhquHVIaJhBHBff8Y/iv96b3s/i++rf9lwG+AqH/Cvg37hXmGOH33gfeQt2w3A7f5OS28IkESxe8InsiPhjFDJgBFfmH8k/tEO+h918FrxOgGrwYKA+RAr/4ZPGv7ILqLesM89AAIxHHHvMhDBx7EOAEav6M/M4AIQcVDcUTCBiDGo8YnRBnB7X+yPm0+Lz4EPvu/asATQO3ArL/qvpo9HrviOrF5T3imeB640LpHu7+8KHvZO+D+rULUxloHNASqgZI/Wj2u/GG7N3qyfH9/voNEBd9FRIO/QQz/Z33xPA/7MTu7vjxCUsZ3yAcIMgXCw5iBTf+8/pE/PADqQ5sFlgZjxbIEGoKUgLF+S3zIfFV9gQAOgi2C+MJ8AXpAj7/1fm88vXrFOoT7YLxdPTb84HxBO+Y6gDlqt8M4D7uZAKRECYViRAeC3QH2f+c9Brq9eeL84YFvRLkFh4TRg4PDOQGIf2e8rHt5/QZBKkR5hiPGRYXSRRTDlAEZPqm9K72YP6fBw0QdhMGE90QNQscBHn+lPyOAPEGuAsODqkM0whNA8b6FvKN7AnsKfC88130lvNQ8oHxCfAu7DHn8OKa4PzgkeQT75IBFxI+GewY9hMLDmMGm/k07e3oGe+b/KUIsA1nDigOPg1RChUEWv15+zr/XwVGCsILIAx+DTgNmAn0A2b/ev9nBFwL6Q8XENMOpw0vC0UGgQBb/v0B4gcPCqwHFwTlALH9MPjy8NLsQO3+73PyjPL18Z3yAPMU8pbv+Osq6bXoDuoB7mT5/QgDEoMSeQ5wCGUCdfr077Dq/u7a+JkExg1BEvcUnhT/DlUHHwBr+0D7gv1mAUkIUxAfFm4WphDRCEgDOQCn/av74PuT/9wFkQvdDvEOjgtPBwIEXADe/E77RfwTAMcD+wOGAhwBVf84/Sn6x/ac9IHz6/L38j7zFvO08trxhvCg7zHvPO5U7P7qz+qx64vtpPGr/coNHBXrE40SuRHgDkgIkP5k+WH9uQMECNEMMBJRFiUXZxH+BxQCPf9I/Jr6dvsc/xkFiAmqCWEICQi6BrEEkwV/CDIK/Ar0CiIKywhfBcEAkP3k+4n65/j696z4vPlz+Zn37vXE9Un1MvPH8BjvdO7e7lfvIe9p7//v0+888GXyafghA5EL/wxrDVQPsQzpBDL9fvnx+9kABAOvBRUNbhOyEuIMvAU0Ab3/A/2G+pP9IAX2CxUPxw70DBQLyQfPAZ/8jfsN/eH+RgJYCBkNkgxJCG4D5/6P+hf3K/Y++RP/OAQlBg4F0gJJAFz8uvaH8hvyx/M09bD1EfaX9r31qfIY8AvxhvOh9O70a/Zr+eT7EPwq+1H84P4NApMIqQ7OD9cQKRNEES0LlAWLAlICTQPoAkUDcgfbCwoM3gjMBIUBxP+q/hD+Xv/XAeICJAN1BMwFvgVtBWwH6AmeCFEFkwMTAlT/qvxd+wf8Kf0l/GL6D/pX+RP3BvUl9Cn0avSk8z7yk/L/86DzofIk9H73v/m1+Vz5ivqD/LD+bQK+CgQU7hPWDB0KrwlQA4v6tfem+4UBugSrBR4Jxg3PCyoEdP9C/7v/Nf/t/u4BCAiQC/oJ5QdlBxQFigBZ/Q3+pAF2BK8EjASFBg8IDwWp/4X8P/su+SH3rvfO+tH9Wf48/Tb9z/0y/AD5Gvck91z4UPmI+cX6x/x//Vv9lf1a/ZL7RflS+Pb4YvpP/Dr+kf+jAEQB0gCp/xf/5wDyBHQI6gmcChsLngnHBUYC6AA5AZgCVwQmBs4H2gexBeACmgDK/qz9uv23/ggAoQENAzkEDQdACTgGrwHZAPMAQP+P/jQAoAEYAc3+Yfxy+9r56vXK88D18Pd4+IL5wvuY/Zj98/sW+xT8x/uk+S36kP2w/yMAvwBnAtEDDwKL/uf9mf/W/2r/cAG6BKEFOwRpA6YDMwNsAfH/nQC0AqkDZwPYA+4EOgUhBLYCaQKUAjkCbgKABKkG2gVeA+8CJwSDA94Asf+PAI4AEf7P+pP5+/lw+S/45Phl+7b8cvxv/AL9nv3T/Zf9v/2F/qn+nv2l/Kz8Iv1X/X398/2U/gb/Ov8V/3/+Gf4I/tH9Hf4R/8P/RwC7ADkBlgLlA74DZQNLBI4FuQUuBWgFrQbFB6kHMgf5Bw==\" type=\"audio/wav\" />\n",
       "                    Your browser does not support the audio element.\n",
       "                </audio>\n",
       "              "
      ],
      "text/plain": [
       "<IPython.lib.display.Audio object>"
      ]
     },
     "execution_count": 12,
     "metadata": {},
     "output_type": "execute_result"
    }
   ],
   "source": [
    "Audio(df[\"clean_trace\"][0], rate=SAMPLING_RATE/DECIMATION_FACTOR)"
   ]
  },
  {
   "cell_type": "markdown",
   "metadata": {},
   "source": [
    "### Plot a nice summary"
   ]
  },
  {
   "cell_type": "code",
   "execution_count": 13,
   "metadata": {
    "ExecuteTime": {
     "end_time": "2023-06-26T15:08:04.066613Z",
     "start_time": "2023-06-26T15:08:04.039104Z"
    }
   },
   "outputs": [],
   "source": [
    "# Clean some columns since they take space\n",
    "df.drop(columns=[\"detrended_trace\",\n",
    "                 \"trimmed_trace\",\n",
    "                 \"audio_trace\",\n",
    "                 \"lowpass_denoised_trace\",\n",
    "                 \"window_denoised_trace\",\n",
    "                 \"window_fourier_coeffs\"\n",
    "                 ], inplace=True)"
   ]
  },
  {
   "cell_type": "markdown",
   "metadata": {},
   "source": [
    "recompute the numerical attribute list"
   ]
  },
  {
   "cell_type": "code",
   "execution_count": 14,
   "metadata": {
    "ExecuteTime": {
     "end_time": "2023-06-26T15:08:04.104137Z",
     "start_time": "2023-06-26T15:08:04.063320Z"
    }
   },
   "outputs": [
    {
     "name": "stdout",
     "output_type": "stream",
     "text": [
      "dataset size is 245.105664 MB\n"
     ]
    },
    {
     "data": {
      "text/html": [
       "<div>\n",
       "<style scoped>\n",
       "    .dataframe tbody tr th:only-of-type {\n",
       "        vertical-align: middle;\n",
       "    }\n",
       "\n",
       "    .dataframe tbody tr th {\n",
       "        vertical-align: top;\n",
       "    }\n",
       "\n",
       "    .dataframe thead th {\n",
       "        text-align: right;\n",
       "    }\n",
       "</style>\n",
       "<table border=\"1\" class=\"dataframe\">\n",
       "  <thead>\n",
       "    <tr style=\"text-align: right;\">\n",
       "      <th></th>\n",
       "      <th>vocal_channel</th>\n",
       "      <th>emotion</th>\n",
       "      <th>emotional_intensity</th>\n",
       "      <th>statement</th>\n",
       "      <th>repetition</th>\n",
       "      <th>actor</th>\n",
       "      <th>path</th>\n",
       "      <th>sex</th>\n",
       "      <th>begin_s</th>\n",
       "      <th>end_s</th>\n",
       "      <th>fourier_coeffs</th>\n",
       "      <th>filtered_fourier_coeffs</th>\n",
       "      <th>clean_trace</th>\n",
       "    </tr>\n",
       "  </thead>\n",
       "  <tbody>\n",
       "    <tr>\n",
       "      <th>0</th>\n",
       "      <td>speech</td>\n",
       "      <td>neutral</td>\n",
       "      <td>normal</td>\n",
       "      <td>kids</td>\n",
       "      <td>1st</td>\n",
       "      <td>actor_01</td>\n",
       "      <td>../dataset/Audio_Speech_Actors_01-24/Actor_01/...</td>\n",
       "      <td>M</td>\n",
       "      <td>1.009833</td>\n",
       "      <td>2.252000</td>\n",
       "      <td>[1.937151e-07, 0.012311488, 0.01116875, 0.0150...</td>\n",
       "      <td>[1.937151e-07, 0.012311473, 0.011168692, 0.015...</td>\n",
       "      <td>[0.41124788, 0.3125082, 0.18243183, 0.1702384,...</td>\n",
       "    </tr>\n",
       "    <tr>\n",
       "      <th>1</th>\n",
       "      <td>speech</td>\n",
       "      <td>neutral</td>\n",
       "      <td>normal</td>\n",
       "      <td>kids</td>\n",
       "      <td>2nd</td>\n",
       "      <td>actor_01</td>\n",
       "      <td>../dataset/Audio_Speech_Actors_01-24/Actor_01/...</td>\n",
       "      <td>M</td>\n",
       "      <td>1.068500</td>\n",
       "      <td>2.294667</td>\n",
       "      <td>[3.501773e-07, 0.026199006, 0.025683409, 0.022...</td>\n",
       "      <td>[3.501773e-07, 0.02619897, 0.025683273, 0.0222...</td>\n",
       "      <td>[0.6488597, 0.91820866, 1.0626854, 1.1574861, ...</td>\n",
       "    </tr>\n",
       "    <tr>\n",
       "      <th>2</th>\n",
       "      <td>speech</td>\n",
       "      <td>neutral</td>\n",
       "      <td>normal</td>\n",
       "      <td>dogs</td>\n",
       "      <td>1st</td>\n",
       "      <td>actor_01</td>\n",
       "      <td>../dataset/Audio_Speech_Actors_01-24/Actor_01/...</td>\n",
       "      <td>M</td>\n",
       "      <td>1.012000</td>\n",
       "      <td>2.238500</td>\n",
       "      <td>[2.4959445e-07, 0.012348385, 0.010678725, 0.01...</td>\n",
       "      <td>[2.4959445e-07, 0.012348369, 0.0106786685, 0.0...</td>\n",
       "      <td>[0.48177153, 0.37599823, 0.07587578, -0.304002...</td>\n",
       "    </tr>\n",
       "    <tr>\n",
       "      <th>3</th>\n",
       "      <td>speech</td>\n",
       "      <td>neutral</td>\n",
       "      <td>normal</td>\n",
       "      <td>dogs</td>\n",
       "      <td>2nd</td>\n",
       "      <td>actor_01</td>\n",
       "      <td>../dataset/Audio_Speech_Actors_01-24/Actor_01/...</td>\n",
       "      <td>M</td>\n",
       "      <td>1.008833</td>\n",
       "      <td>2.187167</td>\n",
       "      <td>[1.1920929e-07, 0.012154797, 0.016620804, 0.00...</td>\n",
       "      <td>[1.1920929e-07, 0.01215478, 0.016620707, 0.005...</td>\n",
       "      <td>[0.4948666, 0.54433304, 0.35432136, 0.14475417...</td>\n",
       "    </tr>\n",
       "    <tr>\n",
       "      <th>4</th>\n",
       "      <td>speech</td>\n",
       "      <td>calm</td>\n",
       "      <td>normal</td>\n",
       "      <td>kids</td>\n",
       "      <td>1st</td>\n",
       "      <td>actor_01</td>\n",
       "      <td>../dataset/Audio_Speech_Actors_01-24/Actor_01/...</td>\n",
       "      <td>M</td>\n",
       "      <td>1.023667</td>\n",
       "      <td>2.534167</td>\n",
       "      <td>[1.1920929e-07, 0.0020026919, 0.0007968909, 0....</td>\n",
       "      <td>[1.1920929e-07, 0.0020026902, 0.0007968881, 0....</td>\n",
       "      <td>[0.08771753, -0.027876738, -0.12303832, -0.159...</td>\n",
       "    </tr>\n",
       "  </tbody>\n",
       "</table>\n",
       "</div>"
      ],
      "text/plain": [
       "  vocal_channel  emotion emotional_intensity statement repetition     actor  \\\n",
       "0        speech  neutral              normal      kids        1st  actor_01   \n",
       "1        speech  neutral              normal      kids        2nd  actor_01   \n",
       "2        speech  neutral              normal      dogs        1st  actor_01   \n",
       "3        speech  neutral              normal      dogs        2nd  actor_01   \n",
       "4        speech     calm              normal      kids        1st  actor_01   \n",
       "\n",
       "                                                path sex   begin_s     end_s  \\\n",
       "0  ../dataset/Audio_Speech_Actors_01-24/Actor_01/...   M  1.009833  2.252000   \n",
       "1  ../dataset/Audio_Speech_Actors_01-24/Actor_01/...   M  1.068500  2.294667   \n",
       "2  ../dataset/Audio_Speech_Actors_01-24/Actor_01/...   M  1.012000  2.238500   \n",
       "3  ../dataset/Audio_Speech_Actors_01-24/Actor_01/...   M  1.008833  2.187167   \n",
       "4  ../dataset/Audio_Speech_Actors_01-24/Actor_01/...   M  1.023667  2.534167   \n",
       "\n",
       "                                      fourier_coeffs  \\\n",
       "0  [1.937151e-07, 0.012311488, 0.01116875, 0.0150...   \n",
       "1  [3.501773e-07, 0.026199006, 0.025683409, 0.022...   \n",
       "2  [2.4959445e-07, 0.012348385, 0.010678725, 0.01...   \n",
       "3  [1.1920929e-07, 0.012154797, 0.016620804, 0.00...   \n",
       "4  [1.1920929e-07, 0.0020026919, 0.0007968909, 0....   \n",
       "\n",
       "                             filtered_fourier_coeffs  \\\n",
       "0  [1.937151e-07, 0.012311473, 0.011168692, 0.015...   \n",
       "1  [3.501773e-07, 0.02619897, 0.025683273, 0.0222...   \n",
       "2  [2.4959445e-07, 0.012348369, 0.0106786685, 0.0...   \n",
       "3  [1.1920929e-07, 0.01215478, 0.016620707, 0.005...   \n",
       "4  [1.1920929e-07, 0.0020026902, 0.0007968881, 0....   \n",
       "\n",
       "                                         clean_trace  \n",
       "0  [0.41124788, 0.3125082, 0.18243183, 0.1702384,...  \n",
       "1  [0.6488597, 0.91820866, 1.0626854, 1.1574861, ...  \n",
       "2  [0.48177153, 0.37599823, 0.07587578, -0.304002...  \n",
       "3  [0.4948666, 0.54433304, 0.35432136, 0.14475417...  \n",
       "4  [0.08771753, -0.027876738, -0.12303832, -0.159...  "
      ]
     },
     "execution_count": 14,
     "metadata": {},
     "output_type": "execute_result"
    }
   ],
   "source": [
    "print(f\"dataset size is {sys.getsizeof(df)/1e6} MB\")\n",
    "recompute_numeric_categorical(df)\n",
    "df.head()"
   ]
  },
  {
   "cell_type": "markdown",
   "metadata": {},
   "source": [
    "## Short-time intensity traces\n",
    "\n",
    "Short-time intensity traces are the standard deviations of a rolling window:\n",
    "\n",
    "$$\\sigma^2(t) = \\langle f(t)^2 \\rangle_{t, t+T} - (\\langle f(t) \\rangle_{t, t+T})^2 $$\n",
    "\n",
    "They will be called phonetic traces since they (by their very definition) cannot grasp information about the tone and the phase, it's just intensity.\n",
    "\n",
    "\n",
    "#### API\n",
    "Since some methods are useful to manage the whole bunch of phonetic traces, I wrote a small script called `phonetic_stuff.py`"
   ]
  },
  {
   "cell_type": "code",
   "execution_count": 15,
   "metadata": {
    "ExecuteTime": {
     "end_time": "2023-06-26T15:08:07.978185Z",
     "start_time": "2023-06-26T15:08:04.105024Z"
    }
   },
   "outputs": [
    {
     "data": {
      "image/png": "[encoded data removed]",
      "text/plain": [
       "<Figure size 708.661x236.22 with 1 Axes>"
      ]
     },
     "metadata": {},
     "output_type": "display_data"
    }
   ],
   "source": [
    "from phonetic_stuff import PhoneticList\n",
    "\n",
    "# Initializes the phonetic list\n",
    "ph_list = PhoneticList.from_tracks(df['clean_trace'],\n",
    "                                   [SAMPLING_RATE/DECIMATION_FACTOR] * len(df),\n",
    "                                   30.0, # This is the time window of smoothing\n",
    "                                   decimate=8,\n",
    "                                   min_periods=5,\n",
    "                                   center=True\n",
    "                                  )\n",
    "# Plots a track\n",
    "fig, ax = plt.subplots(figsize=default_style.SHORT_FULLSIZE_FIGURE)\n",
    "plt.plot(ph_list.source_times[0], ph_list.source_tracks[0], alpha=0.2, color=\"k\")\n",
    "plt.plot(ph_list.times[0], ph_list.tracks[0])\n",
    "plt.axis(\"off\")\n",
    "plt.savefig(\"../images/preproc_summary_2.pdf\")"
   ]
  },
  {
   "cell_type": "markdown",
   "metadata": {},
   "source": [
    "The trace of short-time intensity has different length for each record, so it must be standardised:"
   ]
  },
  {
   "cell_type": "code",
   "execution_count": 16,
   "metadata": {
    "ExecuteTime": {
     "end_time": "2023-06-26T15:08:08.853122Z",
     "start_time": "2023-06-26T15:08:07.978790Z"
    }
   },
   "outputs": [
    {
     "data": {
      "text/html": [
       "<div>\n",
       "<style scoped>\n",
       "    .dataframe tbody tr th:only-of-type {\n",
       "        vertical-align: middle;\n",
       "    }\n",
       "\n",
       "    .dataframe tbody tr th {\n",
       "        vertical-align: top;\n",
       "    }\n",
       "\n",
       "    .dataframe thead th {\n",
       "        text-align: right;\n",
       "    }\n",
       "</style>\n",
       "<table border=\"1\" class=\"dataframe\">\n",
       "  <thead>\n",
       "    <tr style=\"text-align: right;\">\n",
       "      <th></th>\n",
       "      <th>standard_phonetic_trace</th>\n",
       "      <th>time_rescale</th>\n",
       "    </tr>\n",
       "  </thead>\n",
       "  <tbody>\n",
       "    <tr>\n",
       "      <th>0</th>\n",
       "      <td>[0.03866323642779145, 0.03573739146431288, 0.0...</td>\n",
       "      <td>1.331429</td>\n",
       "    </tr>\n",
       "    <tr>\n",
       "      <th>1</th>\n",
       "      <td>[0.5586558352674289, 0.5568771857006762, 0.572...</td>\n",
       "      <td>1.314286</td>\n",
       "    </tr>\n",
       "    <tr>\n",
       "      <th>2</th>\n",
       "      <td>[0.1872611781545323, 0.18963111811860053, 0.20...</td>\n",
       "      <td>1.314286</td>\n",
       "    </tr>\n",
       "    <tr>\n",
       "      <th>3</th>\n",
       "      <td>[0.2271780112195462, 0.24852928996500537, 0.26...</td>\n",
       "      <td>1.262857</td>\n",
       "    </tr>\n",
       "    <tr>\n",
       "      <th>4</th>\n",
       "      <td>[0.008226765821280145, 0.007441915893742483, 0...</td>\n",
       "      <td>1.618571</td>\n",
       "    </tr>\n",
       "  </tbody>\n",
       "</table>\n",
       "</div>"
      ],
      "text/plain": [
       "                             standard_phonetic_trace  time_rescale\n",
       "0  [0.03866323642779145, 0.03573739146431288, 0.0...      1.331429\n",
       "1  [0.5586558352674289, 0.5568771857006762, 0.572...      1.314286\n",
       "2  [0.1872611781545323, 0.18963111811860053, 0.20...      1.314286\n",
       "3  [0.2271780112195462, 0.24852928996500537, 0.26...      1.262857\n",
       "4  [0.008226765821280145, 0.007441915893742483, 0...      1.618571"
      ]
     },
     "metadata": {},
     "output_type": "display_data"
    }
   ],
   "source": [
    "# Standardises length of short-time intensity\n",
    "std_phon = ph_list.standardize_length(length=700)\n",
    "display(std_phon.head())"
   ]
  },
  {
   "cell_type": "code",
   "execution_count": 17,
   "metadata": {
    "ExecuteTime": {
     "end_time": "2023-06-26T15:08:09.101604Z",
     "start_time": "2023-06-26T15:08:08.854487Z"
    }
   },
   "outputs": [
    {
     "name": "stdout",
     "output_type": "stream",
     "text": [
      "(2452, 700) float64\n"
     ]
    },
    {
     "data": {
      "text/plain": [
       "[<matplotlib.lines.Line2D at 0x7f74e6207490>]"
      ]
     },
     "execution_count": 17,
     "metadata": {},
     "output_type": "execute_result"
    },
    {
     "data": {
      "image/png": "[encoded data removed]",
      "text/plain": [
       "<Figure size 354.331x236.22 with 1 Axes>"
      ]
     },
     "metadata": {},
     "output_type": "display_data"
    }
   ],
   "source": [
    "Y = np.zeros((len(std_phon), len(std_phon.standard_phonetic_trace[0])))\n",
    "\n",
    "for i in range(len(std_phon)):\n",
    "    Y[i] = std_phon.standard_phonetic_trace.values[i]\n",
    "Y = Y.astype(float).reshape(-1, len(Y[0]))\n",
    "print(Y.shape, Y.dtype)\n",
    "# Saves\n",
    "np.save(os.path.join(TS_PREPROC_FOLDER, f\"std_phon_trace.npy\"), std_phon.standard_phonetic_trace.values)\n",
    "\n",
    "plt.plot(Y[0])\n"
   ]
  },
  {
   "cell_type": "markdown",
   "metadata": {},
   "source": [
    "## Division in syllables\n",
    "As a test, I try to divide the signal into adaptive windows corresponding to the syllables\n",
    "\n",
    "- kidz-a-taw-kin-by-the-doo\n",
    "- dogz-a-sit-ting-by-the-doo\n"
   ]
  },
  {
   "cell_type": "code",
   "execution_count": null,
   "metadata": {
    "ExecuteTime": {
     "end_time": "2023-06-26T15:08:09.871364Z",
     "start_time": "2023-06-26T15:08:09.101865Z"
    }
   },
   "outputs": [
    {
     "name": "stderr",
     "output_type": "stream",
     "text": [
      " 66%|███████████████████████████████████████████████████████████████████████▌                                    | 1624/2452 [00:05<00:02, 291.20it/s]"
     ]
    }
   ],
   "source": [
    "from phonetic_stuff import SyllablesDivider\n",
    "\n",
    "# Defines the syllable divider\n",
    "divider = SyllablesDivider(n_syllables=7,\n",
    "                           min_size_ms=0.0, \n",
    "                           smoothing_window_ms=40.0  ,\n",
    "                           endpoint=True\n",
    "                          )\n",
    "\n",
    "divider.fit(ph_list)\n",
    "print(sys.getsizeof(divider)*1e-6)"
   ]
  },
  {
   "cell_type": "code",
   "execution_count": null,
   "metadata": {
    "ExecuteTime": {
     "end_time": "2023-06-26T15:08:10.248895Z",
     "start_time": "2023-06-26T15:08:09.873046Z"
    }
   },
   "outputs": [],
   "source": [
    "# Plots for a test track\n",
    "test_track_index = 1 # 795\n",
    "\n",
    "fig, ax = plt.subplots(figsize=default_style.BAND_FULLSIZE_FIGURE)\n",
    "\n",
    "ax.plot(ph_list.source_times[test_track_index], \n",
    "        ph_list.source_tracks[test_track_index], \n",
    "        alpha=0.2, label=\"denoised audio\", color=\"k\")\n",
    "\n",
    "ax.plot(ph_list.times[test_track_index],\n",
    "        ph_list.tracks[test_track_index], \n",
    "        label=\"short-time intensity\")\n",
    "\n",
    "flag=False\n",
    "print(len(divider.start_indexes[0]))\n",
    "for st in divider.start_times[test_track_index]:\n",
    "    ax.axvline(st, color=\"k\", ls=\":\", label=\"detected syllable start\" if not flag else \"\")\n",
    "    flag=True\n",
    "    \n",
    "ax.set_xlabel(\"Time [s]\")\n",
    "ax.set_yticks([])\n",
    "fig.legend(loc=\"upper center\", ncols=3)\n",
    "fig.tight_layout()\n",
    "plt.savefig(\"../images/timeseries_syllables.pdf\")"
   ]
  },
  {
   "cell_type": "markdown",
   "metadata": {},
   "source": [
    "### Comparison with other changepoint detection methods"
   ]
  },
  {
   "cell_type": "code",
   "execution_count": null,
   "metadata": {
    "ExecuteTime": {
     "end_time": "2023-06-26T15:08:11.712124Z",
     "start_time": "2023-06-26T15:08:10.249094Z"
    }
   },
   "outputs": [],
   "source": [
    "import ruptures as rpt\n",
    "fig, ax = plt.subplots(figsize=default_style.BAND_FULLSIZE_FIGURE)\n",
    "\n",
    "signal = ph_list.tracks[test_track_index]\n",
    "time = ph_list.times[test_track_index]\n",
    "\n",
    "ax.plot(time, signal)\n",
    "ax.plot(ph_list.source_times[test_track_index], ph_list.source_tracks[test_track_index], color=\"k\", alpha=0.2)\n",
    "for splitter, name, color in zip([rpt.Dynp(model=\"l2\"), \n",
    "                                  rpt.KernelCPD(), \n",
    "                                  rpt.Window(width=20), \n",
    "                                  rpt.BottomUp()\n",
    "                                 ], \n",
    "                                 [\"Dynp\", \"KernelCPD\",\"Window\", \"BottomUp\"],\n",
    "                                 [\"r\",\"b\", \"g\",\"orange\"]):\n",
    "    breakpoints = splitter.fit(signal).predict(n_bkps=6)\n",
    "\n",
    "\n",
    "    for i in range(len(breakpoints)):\n",
    "        ax.axvline(time[breakpoints[i]-1],label=i*\"_\" + name, color=color, alpha=0.6)\n",
    "ax.set_xlabel(\"Time [ms]\")\n",
    "ax.set_yticks([])\n",
    "fig.legend(ncols=4)\n",
    "fig.savefig(\"../images/changepoint_comparison.pdf\")"
   ]
  },
  {
   "cell_type": "markdown",
   "metadata": {},
   "source": [
    "### Duration and intensity\n",
    "Since now we can split the audio trace in bins that are adapted to the speech, it could be (generally speaking) feasible to understand the properties of accents by analysis of the relative intensities of the syllables and their relative duration."
   ]
  },
  {
   "cell_type": "code",
   "execution_count": null,
   "metadata": {
    "ExecuteTime": {
     "end_time": "2023-06-26T15:08:12.468873Z",
     "start_time": "2023-06-26T15:08:11.712846Z"
    }
   },
   "outputs": [],
   "source": [
    "# Some stats of the syllables\n",
    "fig, (ax1, ax2) = plt.subplots(2,1, figsize=default_style.SHORT_FULLSIZE_FIGURE, sharex=True)\n",
    "\n",
    "sns.barplot(divider.duration_ms, ax=ax1)\n",
    "sns.barplot(divider.intensities, ax=ax2)\n",
    "\n",
    "ax1.set_ylabel(\"Duration [s]\");\n",
    "ax2.set_ylabel(\"Intensity [dB]\");"
   ]
  },
  {
   "cell_type": "code",
   "execution_count": null,
   "metadata": {
    "ExecuteTime": {
     "end_time": "2023-06-26T15:08:13.147282Z",
     "start_time": "2023-06-26T15:08:12.470349Z"
    }
   },
   "outputs": [],
   "source": [
    "fig, (ax1, ax2) = plt.subplots(2,1, figsize=default_style.SHORT_FULLSIZE_FIGURE)\n",
    "\n",
    "sns.histplot(x=divider.duration_ms[:,6], hue=df.vocal_channel, ax=ax1)\n",
    "sns.histplot(x=divider.intensities[:,3], hue=df.emotion, ax=ax2, legend=False)"
   ]
  },
  {
   "cell_type": "code",
   "execution_count": null,
   "metadata": {
    "ExecuteTime": {
     "end_time": "2023-06-26T15:08:13.766993Z",
     "start_time": "2023-06-26T15:08:13.147681Z"
    }
   },
   "outputs": [],
   "source": [
    "fig, ax = plt.subplots(figsize=default_style.SHORT_HALFSIZE_FIGURE)\n",
    "plt.scatter(divider.duration_ms.reshape(-1), divider.intensities.reshape(-1), \n",
    "            s=0.1, color=\"k\", edgecolor=None)\n",
    "plt.xscale(\"log\")\n",
    "plt.xlim(2e-2, 2)\n",
    "\n",
    "plt.xlabel(\"Duration [ms]\")\n",
    "plt.ylabel(\"Intensity [db]\")\n",
    "\n",
    "plt.savefig(\"../images/syllables_pca.pdf\")"
   ]
  },
  {
   "cell_type": "code",
   "execution_count": null,
   "metadata": {
    "ExecuteTime": {
     "end_time": "2023-06-26T15:08:13.809240Z",
     "start_time": "2023-06-26T15:08:13.772534Z"
    }
   },
   "outputs": [],
   "source": [
    "# Saves the indexes in original track\n",
    "for syll in range(8):\n",
    "    df[f\"syll_{syll}_start_index\"] = ph_list.get_indexes_in_original_audios(np.array(divider.start_indexes)[:, syll])\n"
   ]
  },
  {
   "cell_type": "code",
   "execution_count": null,
   "metadata": {
    "ExecuteTime": {
     "end_time": "2023-06-26T15:08:13.810763Z",
     "start_time": "2023-06-26T15:08:13.807629Z"
    }
   },
   "outputs": [],
   "source": []
  },
  {
   "cell_type": "markdown",
   "metadata": {},
   "source": [
    "### Save syll in standardised phonetic traces"
   ]
  },
  {
   "cell_type": "code",
   "execution_count": null,
   "metadata": {
    "ExecuteTime": {
     "end_time": "2023-06-26T15:08:13.834810Z",
     "start_time": "2023-06-26T15:08:13.810171Z"
    }
   },
   "outputs": [],
   "source": [
    "# std_traces = ph_list.standardize_length(length=700)\n",
    "# std_ph_list = PhoneticList.from_tracks(std_traces.standard_phonetic_trace, \n",
    "#                                        sampling_rates=SAMPLING_RATE/DECIMATION_FACTOR/std_traces.time_rescale,\n",
    "#                                        decimate=1,\n",
    "#                                        window_ms=0.0)"
   ]
  },
  {
   "cell_type": "code",
   "execution_count": null,
   "metadata": {
    "ExecuteTime": {
     "end_time": "2023-06-26T15:08:13.859311Z",
     "start_time": "2023-06-26T15:08:13.834096Z"
    }
   },
   "outputs": [],
   "source": [
    "# std_divider = SyllablesDivider(n_syllables=7,\n",
    "#                            min_size_ms=0.02, \n",
    "#                            smoothing_window_ms=10.0  ,\n",
    "#                            endpoint=True\n",
    "#                           )\n",
    "\n",
    "# std_divider.fit(std_ph_list)"
   ]
  },
  {
   "cell_type": "code",
   "execution_count": null,
   "metadata": {
    "ExecuteTime": {
     "end_time": "2023-06-26T15:08:13.883762Z",
     "start_time": "2023-06-26T15:08:13.857207Z"
    }
   },
   "outputs": [],
   "source": [
    "# print(len(std_divider.start_indexes[0]))"
   ]
  },
  {
   "cell_type": "code",
   "execution_count": null,
   "metadata": {
    "ExecuteTime": {
     "end_time": "2023-06-26T15:08:13.903669Z",
     "start_time": "2023-06-26T15:08:13.880607Z"
    }
   },
   "outputs": [],
   "source": [
    "# plt.plot(std_ph_list.tracks[3])\n",
    "# for l in std_divider.start_indexes[3]:\n",
    "#     plt.axvline(l)"
   ]
  },
  {
   "cell_type": "code",
   "execution_count": null,
   "metadata": {
    "ExecuteTime": {
     "end_time": "2023-06-26T15:08:13.927237Z",
     "start_time": "2023-06-26T15:08:13.903901Z"
    }
   },
   "outputs": [],
   "source": [
    "# X = std_divider.transform()\n",
    "\n",
    "# std_sylls_list = []\n",
    "# for syll_index in range(std_divider.n_syllables):\n",
    "#     print(\"stage\", syll_index)\n",
    "#     sylls = []\n",
    "#     for i in range(len(X[syll_index])):\n",
    "#         sylls.append(X[syll_index][i][~np.isnan(X[syll_index][i])])\n",
    "#     syll_phlist = PhoneticList.from_tracks(sylls,sampling_rates=[1]*len(sylls), window_ms=0.0)\n",
    "#     std_sylls = syll_phlist.standardize_length()\n",
    "#     std_sylls_list.append(std_sylls.standard_phonetic_trace)\n"
   ]
  },
  {
   "cell_type": "code",
   "execution_count": null,
   "metadata": {
    "ExecuteTime": {
     "end_time": "2023-06-26T15:08:13.952560Z",
     "start_time": "2023-06-26T15:08:13.927407Z"
    }
   },
   "outputs": [],
   "source": [
    "# count = 0\n",
    "# for i in range(std_divider.n_syllables):\n",
    "#     print(i)\n",
    "#     L = len(std_sylls_list[i][0])\n",
    "#     for j in range(len(std_sylls_list[i])):\n",
    "#         if len(std_sylls_list[i][j]) != L:\n",
    "#             print(f\"syll {i} sample {j} is different: L={L} but he is\", len(std_sylls_list[i][j]))\n",
    "#     Y = np.stack(std_sylls_list[i])\n",
    "#     print(np.array(Y).shape)\n",
    "#     low, mid, upp = np.quantile(Y, [0.25, 0.5, 0.75], axis=0)\n",
    "#     plt.plot(np.linspace(count, count + L, L), mid)\n",
    "#     plt.fill_between(np.linspace(count, count + L, L), low, upp, alpha=0.2)\n",
    "#     count += L"
   ]
  },
  {
   "cell_type": "markdown",
   "metadata": {},
   "source": [
    "### Embedding plot for syllables"
   ]
  },
  {
   "cell_type": "code",
   "execution_count": null,
   "metadata": {
    "ExecuteTime": {
     "end_time": "2023-06-26T15:08:21.170740Z",
     "start_time": "2023-06-26T15:08:13.951382Z"
    }
   },
   "outputs": [],
   "source": [
    "from sklearn.manifold import Isomap\n",
    "from umap import UMAP\n",
    "from sklearn.decomposition import PCA\n",
    "\n",
    "reducer = PCA(n_components=2)\n",
    "embedding = reducer.fit_transform(np.append(divider.intensities, np.log10(divider.duration_ms +1e-8), axis=1))"
   ]
  },
  {
   "cell_type": "code",
   "execution_count": null,
   "metadata": {
    "ExecuteTime": {
     "end_time": "2023-06-26T15:08:21.483449Z",
     "start_time": "2023-06-26T15:08:21.172407Z"
    }
   },
   "outputs": [],
   "source": [
    "fig, ax = plt.subplots(figsize=default_style.SHORT_HALFSIZE_FIGURE)\n",
    "plt.scatter(embedding[:,0],embedding[:,1], c=df.vocal_channel.replace(dict(song=\"r\", speech=\"b\")), s=0.2)\n",
    "plt.axis(\"off\")\n",
    "plt.savefig(\"../images/syllables_pca.pdf\")"
   ]
  },
  {
   "cell_type": "markdown",
   "metadata": {},
   "source": [
    "## Sequence padding\n",
    "\n",
    "In order to be saved, timeseries must be made of the same length by adding NaNs or zeros."
   ]
  },
  {
   "cell_type": "code",
   "execution_count": null,
   "metadata": {
    "ExecuteTime": {
     "end_time": "2023-06-26T15:08:21.534977Z",
     "start_time": "2023-06-26T15:08:21.483905Z"
    }
   },
   "outputs": [],
   "source": [
    "df_to_save = df.copy()"
   ]
  },
  {
   "cell_type": "code",
   "execution_count": null,
   "metadata": {
    "ExecuteTime": {
     "end_time": "2023-06-26T15:08:22.149646Z",
     "start_time": "2023-06-26T15:08:21.535480Z"
    }
   },
   "outputs": [],
   "source": [
    "# Standardizes the arrays\n",
    "trace_cols = [col for col in df_to_save.columns if col.endswith(\"trace\")]\n",
    "padded_traces = dict()\n",
    "for col in trace_cols:\n",
    "    X = df[col].values\n",
    "\n",
    "    # find the max length of X\n",
    "    maximum = 0\n",
    "    for ts in X:\n",
    "        length = len(np.asarray(np.ravel(ts)))\n",
    "        if length > maximum:\n",
    "            maximum = length\n",
    "    print(col, maximum)\n",
    "    \n",
    "    Y = np.zeros((len(X), maximum))\n",
    "    for i in range(len(X)):\n",
    "        Y[i] = np.pad(X[i],\n",
    "                      (0, maximum - len(X[i])),\n",
    "                     constant_values=(np.nan, np.nan))\n",
    "    np.save(os.path.join(TS_PREPROC_FOLDER, f\"{col}.npy\"), Y)\n",
    "    padded_traces[col] = Y"
   ]
  },
  {
   "cell_type": "code",
   "execution_count": null,
   "metadata": {
    "ExecuteTime": {
     "end_time": "2023-06-26T15:08:22.461520Z",
     "start_time": "2023-06-26T15:08:22.150437Z"
    }
   },
   "outputs": [],
   "source": [
    "df_to_save.drop(columns=[c for c in df_to_save.columns if c.endswith(\"trace\")], inplace=True)\n",
    "df_to_save.to_csv(DF_PREPROC_FILE)\n",
    "del df_to_save"
   ]
  },
  {
   "cell_type": "markdown",
   "metadata": {},
   "source": [
    "## Fourier stuff\n",
    "\n",
    "Here some checks on the real Fourier spectrum are performed. In particular:\n",
    "\n",
    "- does paddding with zeros modify the spectrum? --> yes\n",
    "- how can a spectrum look in comparison to the spectrum of the spectrum of the syllables? --> still ugly as shit"
   ]
  },
  {
   "cell_type": "code",
   "execution_count": null,
   "metadata": {
    "ExecuteTime": {
     "end_time": "2023-06-26T15:08:23.082634Z",
     "start_time": "2023-06-26T15:08:22.463222Z"
    }
   },
   "outputs": [],
   "source": [
    "# Check on complete Fourier transform: syllables vs total\n",
    "test_track = 10\n",
    "\n",
    "for syll in range(7):\n",
    "    signal = padded_traces[\"clean_trace\"][test_track][df[f\"syll_{syll}_start_index\"][test_track]:df[f\"syll_{syll+1}_start_index\"][test_track]]\n",
    "    signal[np.isnan(signal)] = 0.0\n",
    "    \n",
    "    N = len(signal)\n",
    "    T = DECIMATION_FACTOR/SAMPLING_RATE\n",
    "\n",
    "    signal_f = fft(signal)\n",
    "    freqs = fftfreq(N, T)[:N//2]\n",
    "\n",
    "    plt.plot(freqs, 2.0/N * np.abs(signal_f[0:N//2]), alpha=0.5,lw=0.5,label=syll)\n",
    "\n",
    "signal = padded_traces[\"clean_trace\"][test_track]\n",
    "signal[np.isnan(signal)] = 0.0\n",
    "\n",
    "N = len(signal)\n",
    "T = DECIMATION_FACTOR/SAMPLING_RATE\n",
    "#     print(f\"T = {T*1e3:.2f} ms\")\n",
    "print(f\"by Nyquist theorem --> max f = {0.5*SAMPLING_RATE/DECIMATION_FACTOR*1e-3} kHz\")\n",
    "signal_f = fft(signal)\n",
    "freqs = fftfreq(N, T)[:N//2]\n",
    "# plt.plot(freqs, 2.0/N * np.abs(signal_f[0:N//2]), color=\"k\", lw=0.5)\n",
    "plt.yscale(\"log\")\n",
    "plt.legend()"
   ]
  },
  {
   "cell_type": "code",
   "execution_count": null,
   "metadata": {
    "ExecuteTime": {
     "end_time": "2023-06-26T15:08:23.459428Z",
     "start_time": "2023-06-26T15:08:23.082852Z"
    }
   },
   "outputs": [],
   "source": [
    "# Check differences on padded trace\n",
    "test_track = 10\n",
    "\n",
    "for tr, trname in zip([padded_traces[\"clean_trace\"], df[\"clean_trace\"].values], [\"zero-padded\", \"not padded\"]):\n",
    "    signal = tr[test_track]\n",
    "    signal[np.isnan(signal)] = 0.0\n",
    "    N = len(signal)\n",
    "    \n",
    "    print(f\"by Nyquist theorem --> max f = {0.5*SAMPLING_RATE/DECIMATION_FACTOR*1e-3} kHz\")\n",
    "    signal_f = fft(signal)\n",
    "    freqs = fftfreq(N, T)[:N//2]\n",
    "    plt.plot(freqs, 2.0 * np.abs(signal_f[0:N//2]), alpha=0.5, label=trname)\n",
    "plt.xlim(0,2000)\n",
    "plt.yscale(\"log\")\n",
    "plt.ylim(1e-1, 5e3)\n",
    "plt.legend()"
   ]
  },
  {
   "cell_type": "markdown",
   "metadata": {},
   "source": [
    "## Fourier approximation\n",
    "\n",
    "As staten [here](https://openproceedings.org/2012/conf/edbt/SchaferH12.pdf) the Symbolic Fourier Approximation (implmented next cell) uses a particular binning of fourier coefficients and is **not equivalent to** just taking the first `n_coefs` coefficients (0Hz, 1Hz, etc.) of the fft."
   ]
  },
  {
   "cell_type": "code",
   "execution_count": null,
   "metadata": {
    "ExecuteTime": {
     "end_time": "2023-06-26T15:08:27.053995Z",
     "start_time": "2023-06-26T15:08:23.460114Z"
    }
   },
   "outputs": [],
   "source": [
    "from pyts.approximation import DiscreteFourierTransform\n",
    "\n",
    "n_coefs = 16\n",
    "fourier_approx = DiscreteFourierTransform(n_coefs=n_coefs)\n",
    "\n",
    "X = padded_traces[\"clean_trace\"]\n",
    "\n",
    "del padded_traces\n",
    "del ph_list\n",
    "\n",
    "X[np.isnan(X)] = 0.0\n",
    "\n",
    "Y = fourier_approx.fit_transform(X)\n",
    "np.save(os.path.join(TS_PREPROC_FOLDER, \"traces_fourier.npy\"), Y)"
   ]
  },
  {
   "cell_type": "code",
   "execution_count": null,
   "metadata": {
    "ExecuteTime": {
     "end_time": "2023-06-26T15:08:32.029267Z",
     "start_time": "2023-06-26T15:08:27.052256Z"
    }
   },
   "outputs": [],
   "source": [
    "reducer = UMAP(n_neighbors = 20)\n",
    "embedding = reducer.fit_transform(Y)"
   ]
  },
  {
   "cell_type": "code",
   "execution_count": null,
   "metadata": {
    "ExecuteTime": {
     "end_time": "2023-06-26T15:08:32.245268Z",
     "start_time": "2023-06-26T15:08:32.030212Z"
    }
   },
   "outputs": [],
   "source": [
    "plt.scatter(*embedding.T, c=pd.Categorical(df.sex).codes, s=5, cmap=\"viridis\")"
   ]
  },
  {
   "cell_type": "markdown",
   "metadata": {},
   "source": [
    "### Symbolic Fourier for syllables\n",
    "For each syllable number (i.e. all firsts syllables):\n",
    "- take the longest one\n",
    "- pad all the others to be the same length\n",
    "- make fourier coefficients\n",
    "\n",
    "This is not the right way to use a SFA since all the dataset is used to getthe most important Fourier coefficients,\n",
    "but it cannot be done in other ways due to the huge amount of memory required."
   ]
  },
  {
   "cell_type": "code",
   "execution_count": null,
   "metadata": {
    "ExecuteTime": {
     "end_time": "2023-06-26T15:08:37.943964Z",
     "start_time": "2023-06-26T15:08:32.246119Z"
    }
   },
   "outputs": [],
   "source": [
    "X = divider.transform()\n",
    "\n",
    "# Saving syllables timeseries is hard because each syllable is\n",
    "# different in padded length.\n",
    "# paddingon a unique max_length wastes a lot of space\n",
    "\n",
    "# What can be done is to save each block of syllables separately\n",
    "for i in range(len(X)):\n",
    "    np.save(os.path.join(TS_PREPROC_FOLDER, f\"syllables_{i}_ts.npy\"), X[i])\n",
    "\n",
    "\n",
    "print(\"X has size\", sys.getsizeof(X)*1e-6,\"MB\")\n",
    "\n",
    "print(\"start fourier transforming sylls\")\n",
    "Y = np.zeros((divider.n_syllables, len(X[0]), n_coefs) )\n",
    "print(Y.shape)\n",
    "fourier_approx = DiscreteFourierTransform(n_coefs=n_coefs,drop_sum=True)\n",
    "for i in range(divider.n_syllables):\n",
    "    print(f\"X[{i}] has {np.sum(np.isnan(X[i]))} NaNs\")\n",
    "    X[i][np.isnan(X[i])] = 0.0\n",
    "    Y[i] = fourier_approx.fit_transform(X[i])\n",
    "    print(\"Y\", i, \"has size\", sys.getsizeof(Y[i])*1e-6,\"MB\")\n",
    "\n",
    "# Reshape to a list of fourier coefficients\n",
    "# i.e. from [ (2452, 1000), (2452, 1000)  etc ]\n",
    "# to [(7*2452, 1000)]\n",
    "Y = Y.reshape(-1, Y.shape[2])\n",
    "print(\"Y has final shape\", Y.shape)\n",
    "np.save(os.path.join(TS_PREPROC_FOLDER, f\"syllables_fourier.npy\"), Y)\n",
    "\n",
    "# Labels of the syllables are then\n",
    "# [0,0,0,0,0...., 1,1,1,1,1, ..., 2,2,2,2 etc]\n",
    "# each label si repeated 2452 times\n",
    "Y_labels = np.repeat(np.arange(7), len(Y[0]))"
   ]
  },
  {
   "cell_type": "markdown",
   "metadata": {
    "ExecuteTime": {
     "end_time": "2023-06-15T13:53:55.644239Z",
     "start_time": "2023-06-15T13:53:55.640309Z"
    }
   },
   "source": [
    "### Another test\n",
    "Save the frequencies"
   ]
  },
  {
   "cell_type": "code",
   "execution_count": null,
   "metadata": {
    "ExecuteTime": {
     "end_time": "2023-06-26T15:08:38.032966Z",
     "start_time": "2023-06-26T15:08:37.982227Z"
    }
   },
   "outputs": [],
   "source": [
    "def _get_best_freqs(trace):\n",
    "    N, T = len(trace), DECIMATION_FACTOR/SAMPLING_RATE\n",
    "    signal_f = np.abs(fft(trace)[:N//2])\n",
    "    freqs = fftfreq(N, T)[:N//2]\n",
    "    \n",
    "    best = np.argsort(signal_f)[-n_coefs:]\n",
    "    best = freqs[best]\n",
    "    return  best\n",
    "\n",
    "def get_best_freqs(trace_list):\n",
    "    return [[_get_best_freqs(tr) for tr in trace_list]]"
   ]
  },
  {
   "cell_type": "markdown",
   "metadata": {},
   "source": [
    "## Save split syllables and best highest Fourier coeffs"
   ]
  },
  {
   "cell_type": "code",
   "execution_count": null,
   "metadata": {
    "ExecuteTime": {
     "end_time": "2023-06-26T15:08:45.571924Z",
     "start_time": "2023-06-26T15:08:38.035562Z"
    }
   },
   "outputs": [],
   "source": [
    "X = divider.transform()\n",
    "\n",
    "# Saving syllables timeseries is hard because each syllable is\n",
    "# different in padded length.\n",
    "# paddingon a unique max_length wastes a lot of space\n",
    "\n",
    "# What can be done is to save each block of syllables separately\n",
    "for i in range(len(X)):\n",
    "    np.save(os.path.join(TS_PREPROC_FOLDER, f\"syllables_{i}_ts.npy\"), X[i])\n",
    "\n",
    "\n",
    "print(\"X has size\", sys.getsizeof(X)*1e-6,\"MB\")\n",
    "\n",
    "print(\"start fourier transforming sylls\")\n",
    "Y = np.zeros((divider.n_syllables, len(X[0]), n_coefs) )\n",
    "print(Y.shape)\n",
    "fourier_approx = DiscreteFourierTransform(n_coefs=n_coefs,drop_sum=True)\n",
    "for i in range(divider.n_syllables):\n",
    "    print(f\"X[{i}] has {np.sum(np.isnan(X[i]))} NaNs\")\n",
    "    X[i][np.isnan(X[i])] = 0.0\n",
    "    Y[i] = np.array(get_best_freqs(X[i]))\n",
    "    print(\"Y\", i, \"has size\", sys.getsizeof(Y[i])*1e-6,\"MB\")\n",
    "\n",
    "# Reshape to a list of fourier coefficients\n",
    "# i.e. from [ (2452, 1000), (2452, 1000)  etc ]\n",
    "# to [(7*2452, 1000)]\n",
    "Y = Y.reshape(-1, Y.shape[2])\n",
    "print(\"Y has final shape\", Y.shape)\n",
    "np.save(os.path.join(TS_PREPROC_FOLDER, f\"syllables_fourier.npy\"), Y)\n",
    "\n",
    "# Labels of the syllables are then\n",
    "# [0,0,0,0,0...., 1,1,1,1,1, ..., 2,2,2,2 etc]\n",
    "# each label si repeated 2452 times\n",
    "Y_labels = np.repeat(np.arange(7), len(Y[0]))"
   ]
  },
  {
   "cell_type": "code",
   "execution_count": null,
   "metadata": {
    "ExecuteTime": {
     "end_time": "2023-06-26T15:08:45.574023Z",
     "start_time": "2023-06-26T15:08:45.571690Z"
    }
   },
   "outputs": [],
   "source": []
  }
 ],
 "metadata": {
  "kernelspec": {
   "display_name": "DM2",
   "language": "python",
   "name": "dm2"
  },
  "language_info": {
   "codemirror_mode": {
    "name": "ipython",
    "version": 3
   },
   "file_extension": ".py",
   "mimetype": "text/x-python",
   "name": "python",
   "nbconvert_exporter": "python",
   "pygments_lexer": "ipython3",
   "version": "3.10.6"
  }
 },
 "nbformat": 4,
 "nbformat_minor": 2
}
