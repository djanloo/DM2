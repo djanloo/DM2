{
 "cells": [
  {
   "cell_type": "markdown",
   "metadata": {},
   "source": [
    "Unzip the dataset copressed files in dataset. They are divided in speech and song."
   ]
  },
  {
   "cell_type": "code",
   "execution_count": 1,
   "metadata": {},
   "outputs": [],
   "source": [
    "import os\n",
    "import numpy as np\n",
    "import pandas as pd\n",
    "import matplotlib.pyplot as plt\n",
    "import seaborn as sns; sns.set()\n",
    "\n",
    "import librosa\n",
    "from tqdm.notebook import tqdm\n",
    "from IPython.display import Audio\n",
    "from pandas.api.types import is_numeric_dtype\n",
    "\n",
    "import sys\n",
    "sys.path.append('../')\n",
    "import default_style\n",
    "\n",
    "TS_DATASET_FOLDER = os.path.join(\"..\", \"dataset\")\n",
    "\n",
    "SONG_DATASET_FOLDER = os.path.join(TS_DATASET_FOLDER,\"Audio_Song_Actors_01-24\")\n",
    "SPEECH_DATASET_FOLDER = os.path.join(TS_DATASET_FOLDER,\"Audio_Speech_Actors_01-24\")\n",
    "\n",
    "TS_PREPROC_FOLDER = os.path.join(TS_DATASET_FOLDER, \"preprocessed_traces\")\n",
    "DF_PREPROC_FILE = os.path.join(TS_PREPROC_FOLDER, \"preproc_ts.df\")\n",
    "\n",
    "def get_actor_files(vc, actor_n):\n",
    "    fold = SONG_DATASET_FOLDER if vc == \"song\" else SPEECH_DATASET_FOLDER\n",
    "    act_fold = f\"Actor_{str(actor_n).zfill(2)}\"\n",
    "    fold = os.path.join(fold, act_fold )\n",
    "    return [os.path.join(fold,f) for f in os.listdir(fold) if f.endswith(\".wav\")]\n",
    "\n",
    "\n",
    "CATEGORICAL_FEATURES_NAMES = {\n",
    "    \"modality\": {\"01\": \"full-AV\", \"02\": \"video-only\", \"03\": \"audio-only\"}, \n",
    "    \"vocal_channel\": {\"01\": \"speech\", \"02\": \"song\"},\n",
    "    \"emotion\": {\"01\" : \"neutral\", \"02\" : \"calm\", \"03\" : \"happy\", \"04\" : \"sad\", \"05\" : \"angry\", \"06\" : \"fearful\", \"07\" : \"disgust\", \"08\" : \"surprised\"},\n",
    "    \"emotional_intensity\": {\"01\" : \"normal\", \"02\" : \"strong\"},\n",
    "    \"statement\": {\"01\" : \"kids\", \"02\" : \"dogs\"},\n",
    "    \"repetition\": {\"01\" : \"1st\", \"02\" : \"2nd\"},\n",
    "    \"actor\": {str(i).zfill(2): str(i).zfill(2) for i in range(1, 25)}\n",
    "}\n",
    "\n",
    "SAMPLING_RATE = 48_000\n",
    "DECIMATION_FACTOR = 8\n",
    "\n",
    "def recompute_numeric_categorical(df):\n",
    "    global numerical_attr_list, categorical_attr_list\n",
    "    numerical_attr_list = [col for col in df.columns if is_numeric_dtype(df[col])]\n",
    "    categorical_attr_list = [col for col in df.columns if not is_numeric_dtype(df[col])]"
   ]
  },
  {
   "cell_type": "markdown",
   "metadata": {},
   "source": [
    "# File import\n",
    "Files must be downsampled before being saved in memory because they are enormous (200_000 floating point numbers, roughly 0.5 MB)"
   ]
  },
  {
   "cell_type": "code",
   "execution_count": 2,
   "metadata": {},
   "outputs": [
    {
     "data": {
      "application/vnd.jupyter.widget-view+json": {
       "model_id": "7fdef346ab404ed9bf8a6774776206d1",
       "version_major": 2,
       "version_minor": 0
      },
      "text/plain": [
       "  0%|          | 0/2 [00:00<?, ?it/s]"
      ]
     },
     "metadata": {},
     "output_type": "display_data"
    },
    {
     "data": {
      "application/vnd.jupyter.widget-view+json": {
       "model_id": "51164eb18b5a4609aea1aa89e08e4ee6",
       "version_major": 2,
       "version_minor": 0
      },
      "text/plain": [
       "  0%|          | 0/2 [00:00<?, ?it/s]"
      ]
     },
     "metadata": {},
     "output_type": "display_data"
    }
   ],
   "source": [
    "import sys\n",
    "from scipy.signal import decimate\n",
    "\n",
    "df = pd.DataFrame(columns = list(CATEGORICAL_FEATURES_NAMES.keys()) + [\"audio_trace\", \"path\"])\n",
    "for vc in [\"speech\", \"song\"]:\n",
    "    for actor_n in tqdm(range(1,3)):\n",
    "        for f in get_actor_files(vc, actor_n):\n",
    "            segment, sr = librosa.load(f, sr=None)\n",
    "            segment = decimate(segment, q=DECIMATION_FACTOR)\n",
    "\n",
    "            categ_values = str(os.path.basename(f)).strip(\".wav\").split(\"-\")\n",
    "\n",
    "            row = {attr:val for attr, val in zip(CATEGORICAL_FEATURES_NAMES.keys(), categ_values)}\n",
    "            row[\"audio_trace\"] = [segment]\n",
    "            row[\"path\"] = f\n",
    "            row = pd.DataFrame(row, index = [0])\n",
    "            df = pd.concat([df,  row], ignore_index=True)"
   ]
  },
  {
   "cell_type": "code",
   "execution_count": 3,
   "metadata": {},
   "outputs": [
    {
     "data": {
      "text/html": [
       "<div>\n",
       "<style scoped>\n",
       "    .dataframe tbody tr th:only-of-type {\n",
       "        vertical-align: middle;\n",
       "    }\n",
       "\n",
       "    .dataframe tbody tr th {\n",
       "        vertical-align: top;\n",
       "    }\n",
       "\n",
       "    .dataframe thead th {\n",
       "        text-align: right;\n",
       "    }\n",
       "</style>\n",
       "<table border=\"1\" class=\"dataframe\">\n",
       "  <thead>\n",
       "    <tr style=\"text-align: right;\">\n",
       "      <th></th>\n",
       "      <th>vocal_channel</th>\n",
       "      <th>emotion</th>\n",
       "      <th>emotional_intensity</th>\n",
       "      <th>statement</th>\n",
       "      <th>repetition</th>\n",
       "      <th>actor</th>\n",
       "      <th>audio_trace</th>\n",
       "      <th>path</th>\n",
       "      <th>sex</th>\n",
       "    </tr>\n",
       "  </thead>\n",
       "  <tbody>\n",
       "    <tr>\n",
       "      <th>0</th>\n",
       "      <td>speech</td>\n",
       "      <td>happy</td>\n",
       "      <td>normal</td>\n",
       "      <td>kids</td>\n",
       "      <td>2nd</td>\n",
       "      <td>actor_01</td>\n",
       "      <td>[6.7432594e-11, -1.7281297e-10, 2.6411556e-10,...</td>\n",
       "      <td>../dataset/Audio_Speech_Actors_01-24/Actor_01/...</td>\n",
       "      <td>M</td>\n",
       "    </tr>\n",
       "    <tr>\n",
       "      <th>1</th>\n",
       "      <td>speech</td>\n",
       "      <td>calm</td>\n",
       "      <td>strong</td>\n",
       "      <td>dogs</td>\n",
       "      <td>2nd</td>\n",
       "      <td>actor_01</td>\n",
       "      <td>[-5.096353e-09, 7.548913e-09, -8.45547e-09, 6....</td>\n",
       "      <td>../dataset/Audio_Speech_Actors_01-24/Actor_01/...</td>\n",
       "      <td>M</td>\n",
       "    </tr>\n",
       "    <tr>\n",
       "      <th>2</th>\n",
       "      <td>speech</td>\n",
       "      <td>fearful</td>\n",
       "      <td>normal</td>\n",
       "      <td>kids</td>\n",
       "      <td>2nd</td>\n",
       "      <td>actor_01</td>\n",
       "      <td>[0.00011891391, 0.00010525208, 6.3990985e-05, ...</td>\n",
       "      <td>../dataset/Audio_Speech_Actors_01-24/Actor_01/...</td>\n",
       "      <td>M</td>\n",
       "    </tr>\n",
       "    <tr>\n",
       "      <th>3</th>\n",
       "      <td>speech</td>\n",
       "      <td>neutral</td>\n",
       "      <td>normal</td>\n",
       "      <td>kids</td>\n",
       "      <td>2nd</td>\n",
       "      <td>actor_01</td>\n",
       "      <td>[-2.9781221e-08, -1.4013209e-06, -1.0139452e-0...</td>\n",
       "      <td>../dataset/Audio_Speech_Actors_01-24/Actor_01/...</td>\n",
       "      <td>M</td>\n",
       "    </tr>\n",
       "    <tr>\n",
       "      <th>4</th>\n",
       "      <td>speech</td>\n",
       "      <td>calm</td>\n",
       "      <td>normal</td>\n",
       "      <td>kids</td>\n",
       "      <td>1st</td>\n",
       "      <td>actor_01</td>\n",
       "      <td>[3.0153627e-05, -4.7941107e-06, 1.3743208e-06,...</td>\n",
       "      <td>../dataset/Audio_Speech_Actors_01-24/Actor_01/...</td>\n",
       "      <td>M</td>\n",
       "    </tr>\n",
       "  </tbody>\n",
       "</table>\n",
       "</div>"
      ],
      "text/plain": [
       "  vocal_channel  emotion emotional_intensity statement repetition     actor  \\\n",
       "0        speech    happy              normal      kids        2nd  actor_01   \n",
       "1        speech     calm              strong      dogs        2nd  actor_01   \n",
       "2        speech  fearful              normal      kids        2nd  actor_01   \n",
       "3        speech  neutral              normal      kids        2nd  actor_01   \n",
       "4        speech     calm              normal      kids        1st  actor_01   \n",
       "\n",
       "                                         audio_trace  \\\n",
       "0  [6.7432594e-11, -1.7281297e-10, 2.6411556e-10,...   \n",
       "1  [-5.096353e-09, 7.548913e-09, -8.45547e-09, 6....   \n",
       "2  [0.00011891391, 0.00010525208, 6.3990985e-05, ...   \n",
       "3  [-2.9781221e-08, -1.4013209e-06, -1.0139452e-0...   \n",
       "4  [3.0153627e-05, -4.7941107e-06, 1.3743208e-06,...   \n",
       "\n",
       "                                                path sex  \n",
       "0  ../dataset/Audio_Speech_Actors_01-24/Actor_01/...   M  \n",
       "1  ../dataset/Audio_Speech_Actors_01-24/Actor_01/...   M  \n",
       "2  ../dataset/Audio_Speech_Actors_01-24/Actor_01/...   M  \n",
       "3  ../dataset/Audio_Speech_Actors_01-24/Actor_01/...   M  \n",
       "4  ../dataset/Audio_Speech_Actors_01-24/Actor_01/...   M  "
      ]
     },
     "execution_count": 3,
     "metadata": {},
     "output_type": "execute_result"
    }
   ],
   "source": [
    "for column in df.columns:\n",
    "    df = df.replace(CATEGORICAL_FEATURES_NAMES)\n",
    "\n",
    "df[\"sex\"] = [\"F\" if i % 2 == 0 else \"M\" for i in df[\"actor\"].astype(int)]\n",
    "df = df.replace({ \"actor\": {str(i).zfill(2): f\"actor_{str(i).zfill(2)}\" for i in range(1, 25)}})\n",
    "df = df.drop(columns = [\"modality\"])\n",
    "df.head()"
   ]
  },
  {
   "cell_type": "markdown",
   "metadata": {},
   "source": [
    "## Preprocessing"
   ]
  },
  {
   "cell_type": "markdown",
   "metadata": {},
   "source": [
    "### trimming"
   ]
  },
  {
   "cell_type": "code",
   "execution_count": 4,
   "metadata": {
    "scrolled": true
   },
   "outputs": [
    {
     "data": {
      "text/plain": [
       "[<matplotlib.lines.Line2D at 0x7f7868edfbe0>]"
      ]
     },
     "execution_count": 4,
     "metadata": {},
     "output_type": "execute_result"
    },
    {
     "data": {
      "image/png": "[encoded data removed]",
      "text/plain": [
       "<Figure size 640x480 with 1 Axes>"
      ]
     },
     "metadata": {},
     "output_type": "display_data"
    }
   ],
   "source": [
    "def trim_silence(track, window_in_ms=10.0, rel_thr=1e-2):\n",
    "    ts = pd.Series(track)\n",
    "    window = int(window_in_ms*1e-3*SAMPLING_RATE/DECIMATION_FACTOR )\n",
    "    rolling_std = ts.rolling(window=window).std()\n",
    "    mask = rolling_std > rel_thr*rolling_std.max()\n",
    "    begin, end = np.where(mask)[0][0], np.where(mask)[0][-1]\n",
    "    return track[begin:end], begin, end\n",
    "\n",
    "trimmed, begin, end = trim_silence(df[\"audio_trace\"][50],  rel_thr=5e-2)\n",
    "plt.plot(np.arange(begin, end), trimmed)\n",
    "plt.plot(df[\"audio_trace\"][50] + 1)"
   ]
  },
  {
   "cell_type": "markdown",
   "metadata": {},
   "source": [
    "So it seems to work. Now add to the dataset the trimmed tracks"
   ]
  },
  {
   "cell_type": "code",
   "execution_count": 5,
   "metadata": {},
   "outputs": [
    {
     "name": "stdout",
     "output_type": "stream",
     "text": [
      "\"['trimmed_trace', 'begin_s', 'end_s'] not found in axis\"\n"
     ]
    }
   ],
   "source": [
    "trimmed_df = pd.DataFrame(columns=[\"trimmed_trace\", \"begin_s\", \"end_s\"])\n",
    "for tr in df.audio_trace:\n",
    "    trimmed, begin, end = trim_silence(tr, rel_thr=5e-2)\n",
    "    row = dict( trimmed_trace=[trimmed], \n",
    "                begin_s=begin/SAMPLING_RATE*DECIMATION_FACTOR, \n",
    "                end_s=end/SAMPLING_RATE*DECIMATION_FACTOR)\n",
    "    row = pd.DataFrame(row, index=[0])\n",
    "    trimmed_df = pd.concat([trimmed_df, row], ignore_index=True)\n",
    "\n",
    "try:\n",
    "    df.drop(columns=[\"trimmed_trace\", \"begin_s\", \"end_s\"], inplace=True)\n",
    "except KeyError as e:\n",
    "    print(e)\n",
    "    pass\n",
    "\n",
    "df = df.join(trimmed_df)"
   ]
  },
  {
   "cell_type": "markdown",
   "metadata": {},
   "source": [
    "check if the distribution of start time/ end time is related to actors' reactivity"
   ]
  },
  {
   "cell_type": "code",
   "execution_count": 6,
   "metadata": {},
   "outputs": [
    {
     "data": {
      "image/png": "[encoded data removed]",
      "text/plain": [
       "<Figure size 640x480 with 1 Axes>"
      ]
     },
     "metadata": {},
     "output_type": "display_data"
    }
   ],
   "source": [
    "sns.kdeplot(data =df, x=\"begin_s\", hue=\"actor\", legend=False);\n"
   ]
  },
  {
   "cell_type": "markdown",
   "metadata": {},
   "source": [
    "### Detrending"
   ]
  },
  {
   "cell_type": "code",
   "execution_count": 7,
   "metadata": {},
   "outputs": [
    {
     "name": "stdout",
     "output_type": "stream",
     "text": [
      "-1.3136914609243573e-09 1.5928838030582679e-06\n"
     ]
    }
   ],
   "source": [
    "# First check if relevant linear trend is present\n",
    "from sklearn.linear_model import LinearRegression\n",
    "coeffs, intercepts = [], []\n",
    "for trace in df.trimmed_trace:\n",
    "    subsamp_trace = decimate(trace, q=8)\n",
    "    model = LinearRegression()\n",
    "    model.fit(np.arange(len(subsamp_trace)).reshape(-1,1), subsamp_trace)\n",
    "    coeffs.append(model.coef_)\n",
    "    intercepts.append(model.intercept_)\n",
    "print(np.mean(coeffs), np.mean(intercepts))"
   ]
  },
  {
   "cell_type": "code",
   "execution_count": 8,
   "metadata": {},
   "outputs": [
    {
     "name": "stdout",
     "output_type": "stream",
     "text": [
      "\"['detrended_trace'] not found in axis\"\n"
     ]
    }
   ],
   "source": [
    "from scipy.signal import detrend\n",
    "detrended_traces = pd.DataFrame(columns=[\"detrended_trace\"])\n",
    "for trace in df.trimmed_trace:\n",
    "    row = dict(detrended_trace=[detrend(trace)])\n",
    "    row = pd.DataFrame(row, index=[0])\n",
    "    detrended_traces = pd.concat([detrended_traces, row], ignore_index=True)\n",
    "    \n",
    "try:\n",
    "    df.drop(columns=[\"detrended_trace\"], inplace=True)\n",
    "except KeyError as e:\n",
    "    print(e)\n",
    "    pass\n",
    "df = df.join(detrended_traces)"
   ]
  },
  {
   "cell_type": "markdown",
   "metadata": {},
   "source": [
    "### Amplitude Normalization"
   ]
  },
  {
   "cell_type": "code",
   "execution_count": 9,
   "metadata": {},
   "outputs": [
    {
     "name": "stdout",
     "output_type": "stream",
     "text": [
      "\"['normalized_trace'] not found in axis\"\n"
     ]
    }
   ],
   "source": [
    "normalized_traces = pd.DataFrame(columns = [\"normalized_trace\"])\n",
    "for det_trace in df.detrended_trace:\n",
    "    row = dict(normalized_trace=[(det_trace - np.mean(det_trace))/np.std(det_trace)])\n",
    "    row = pd.DataFrame(row, index=[0])\n",
    "    normalized_traces = pd.concat([normalized_traces, row], ignore_index=True)\n",
    "try:\n",
    "    df.drop(columns=[\"normalized_trace\"], inplace=True)\n",
    "except KeyError as e:\n",
    "    print(e)\n",
    "    pass\n",
    "df = df.join(normalized_traces)"
   ]
  },
  {
   "cell_type": "markdown",
   "metadata": {},
   "source": [
    "### Denoising (is it done right?)"
   ]
  },
  {
   "cell_type": "code",
   "execution_count": 16,
   "metadata": {},
   "outputs": [
    {
     "ename": "ValueError",
     "evalue": "columns overlap but no suffix specified: Index(['window_denoised_trace', 'lowpass_denoised_trace'], dtype='object')",
     "output_type": "error",
     "traceback": [
      "\u001b[0;31m---------------------------------------------------------------------------\u001b[0m",
      "\u001b[0;31mValueError\u001b[0m                                Traceback (most recent call last)",
      "Cell \u001b[0;32mIn[16], line 31\u001b[0m\n\u001b[1;32m     28\u001b[0m \u001b[38;5;28;01mexcept\u001b[39;00m \u001b[38;5;167;01mKeyError\u001b[39;00m \u001b[38;5;28;01mas\u001b[39;00m e:\n\u001b[1;32m     29\u001b[0m     \u001b[38;5;28;01mpass\u001b[39;00m\n\u001b[0;32m---> 31\u001b[0m df \u001b[38;5;241m=\u001b[39m \u001b[43mdf\u001b[49m\u001b[38;5;241;43m.\u001b[39;49m\u001b[43mjoin\u001b[49m\u001b[43m(\u001b[49m\u001b[43mdenoised_traces\u001b[49m\u001b[43m)\u001b[49m\n",
      "File \u001b[0;32m~/.local/share/virtualenvs/DM2-PeqFRmfa/lib/python3.10/site-packages/pandas/core/frame.py:9729\u001b[0m, in \u001b[0;36mDataFrame.join\u001b[0;34m(self, other, on, how, lsuffix, rsuffix, sort, validate)\u001b[0m\n\u001b[1;32m   9566\u001b[0m \u001b[38;5;28;01mdef\u001b[39;00m \u001b[38;5;21mjoin\u001b[39m(\n\u001b[1;32m   9567\u001b[0m     \u001b[38;5;28mself\u001b[39m,\n\u001b[1;32m   9568\u001b[0m     other: DataFrame \u001b[38;5;241m|\u001b[39m Series \u001b[38;5;241m|\u001b[39m Iterable[DataFrame \u001b[38;5;241m|\u001b[39m Series],\n\u001b[0;32m   (...)\u001b[0m\n\u001b[1;32m   9574\u001b[0m     validate: \u001b[38;5;28mstr\u001b[39m \u001b[38;5;241m|\u001b[39m \u001b[38;5;28;01mNone\u001b[39;00m \u001b[38;5;241m=\u001b[39m \u001b[38;5;28;01mNone\u001b[39;00m,\n\u001b[1;32m   9575\u001b[0m ) \u001b[38;5;241m-\u001b[39m\u001b[38;5;241m>\u001b[39m DataFrame:\n\u001b[1;32m   9576\u001b[0m \u001b[38;5;250m    \u001b[39m\u001b[38;5;124;03m\"\"\"\u001b[39;00m\n\u001b[1;32m   9577\u001b[0m \u001b[38;5;124;03m    Join columns of another DataFrame.\u001b[39;00m\n\u001b[1;32m   9578\u001b[0m \n\u001b[0;32m   (...)\u001b[0m\n\u001b[1;32m   9727\u001b[0m \u001b[38;5;124;03m    5  K1  A5   B1\u001b[39;00m\n\u001b[1;32m   9728\u001b[0m \u001b[38;5;124;03m    \"\"\"\u001b[39;00m\n\u001b[0;32m-> 9729\u001b[0m     \u001b[38;5;28;01mreturn\u001b[39;00m \u001b[38;5;28;43mself\u001b[39;49m\u001b[38;5;241;43m.\u001b[39;49m\u001b[43m_join_compat\u001b[49m\u001b[43m(\u001b[49m\n\u001b[1;32m   9730\u001b[0m \u001b[43m        \u001b[49m\u001b[43mother\u001b[49m\u001b[43m,\u001b[49m\n\u001b[1;32m   9731\u001b[0m \u001b[43m        \u001b[49m\u001b[43mon\u001b[49m\u001b[38;5;241;43m=\u001b[39;49m\u001b[43mon\u001b[49m\u001b[43m,\u001b[49m\n\u001b[1;32m   9732\u001b[0m \u001b[43m        \u001b[49m\u001b[43mhow\u001b[49m\u001b[38;5;241;43m=\u001b[39;49m\u001b[43mhow\u001b[49m\u001b[43m,\u001b[49m\n\u001b[1;32m   9733\u001b[0m \u001b[43m        \u001b[49m\u001b[43mlsuffix\u001b[49m\u001b[38;5;241;43m=\u001b[39;49m\u001b[43mlsuffix\u001b[49m\u001b[43m,\u001b[49m\n\u001b[1;32m   9734\u001b[0m \u001b[43m        \u001b[49m\u001b[43mrsuffix\u001b[49m\u001b[38;5;241;43m=\u001b[39;49m\u001b[43mrsuffix\u001b[49m\u001b[43m,\u001b[49m\n\u001b[1;32m   9735\u001b[0m \u001b[43m        \u001b[49m\u001b[43msort\u001b[49m\u001b[38;5;241;43m=\u001b[39;49m\u001b[43msort\u001b[49m\u001b[43m,\u001b[49m\n\u001b[1;32m   9736\u001b[0m \u001b[43m        \u001b[49m\u001b[43mvalidate\u001b[49m\u001b[38;5;241;43m=\u001b[39;49m\u001b[43mvalidate\u001b[49m\u001b[43m,\u001b[49m\n\u001b[1;32m   9737\u001b[0m \u001b[43m    \u001b[49m\u001b[43m)\u001b[49m\n",
      "File \u001b[0;32m~/.local/share/virtualenvs/DM2-PeqFRmfa/lib/python3.10/site-packages/pandas/core/frame.py:9768\u001b[0m, in \u001b[0;36mDataFrame._join_compat\u001b[0;34m(self, other, on, how, lsuffix, rsuffix, sort, validate)\u001b[0m\n\u001b[1;32m   9758\u001b[0m     \u001b[38;5;28;01mif\u001b[39;00m how \u001b[38;5;241m==\u001b[39m \u001b[38;5;124m\"\u001b[39m\u001b[38;5;124mcross\u001b[39m\u001b[38;5;124m\"\u001b[39m:\n\u001b[1;32m   9759\u001b[0m         \u001b[38;5;28;01mreturn\u001b[39;00m merge(\n\u001b[1;32m   9760\u001b[0m             \u001b[38;5;28mself\u001b[39m,\n\u001b[1;32m   9761\u001b[0m             other,\n\u001b[0;32m   (...)\u001b[0m\n\u001b[1;32m   9766\u001b[0m             validate\u001b[38;5;241m=\u001b[39mvalidate,\n\u001b[1;32m   9767\u001b[0m         )\n\u001b[0;32m-> 9768\u001b[0m     \u001b[38;5;28;01mreturn\u001b[39;00m \u001b[43mmerge\u001b[49m\u001b[43m(\u001b[49m\n\u001b[1;32m   9769\u001b[0m \u001b[43m        \u001b[49m\u001b[38;5;28;43mself\u001b[39;49m\u001b[43m,\u001b[49m\n\u001b[1;32m   9770\u001b[0m \u001b[43m        \u001b[49m\u001b[43mother\u001b[49m\u001b[43m,\u001b[49m\n\u001b[1;32m   9771\u001b[0m \u001b[43m        \u001b[49m\u001b[43mleft_on\u001b[49m\u001b[38;5;241;43m=\u001b[39;49m\u001b[43mon\u001b[49m\u001b[43m,\u001b[49m\n\u001b[1;32m   9772\u001b[0m \u001b[43m        \u001b[49m\u001b[43mhow\u001b[49m\u001b[38;5;241;43m=\u001b[39;49m\u001b[43mhow\u001b[49m\u001b[43m,\u001b[49m\n\u001b[1;32m   9773\u001b[0m \u001b[43m        \u001b[49m\u001b[43mleft_index\u001b[49m\u001b[38;5;241;43m=\u001b[39;49m\u001b[43mon\u001b[49m\u001b[43m \u001b[49m\u001b[38;5;129;43;01mis\u001b[39;49;00m\u001b[43m \u001b[49m\u001b[38;5;28;43;01mNone\u001b[39;49;00m\u001b[43m,\u001b[49m\n\u001b[1;32m   9774\u001b[0m \u001b[43m        \u001b[49m\u001b[43mright_index\u001b[49m\u001b[38;5;241;43m=\u001b[39;49m\u001b[38;5;28;43;01mTrue\u001b[39;49;00m\u001b[43m,\u001b[49m\n\u001b[1;32m   9775\u001b[0m \u001b[43m        \u001b[49m\u001b[43msuffixes\u001b[49m\u001b[38;5;241;43m=\u001b[39;49m\u001b[43m(\u001b[49m\u001b[43mlsuffix\u001b[49m\u001b[43m,\u001b[49m\u001b[43m \u001b[49m\u001b[43mrsuffix\u001b[49m\u001b[43m)\u001b[49m\u001b[43m,\u001b[49m\n\u001b[1;32m   9776\u001b[0m \u001b[43m        \u001b[49m\u001b[43msort\u001b[49m\u001b[38;5;241;43m=\u001b[39;49m\u001b[43msort\u001b[49m\u001b[43m,\u001b[49m\n\u001b[1;32m   9777\u001b[0m \u001b[43m        \u001b[49m\u001b[43mvalidate\u001b[49m\u001b[38;5;241;43m=\u001b[39;49m\u001b[43mvalidate\u001b[49m\u001b[43m,\u001b[49m\n\u001b[1;32m   9778\u001b[0m \u001b[43m    \u001b[49m\u001b[43m)\u001b[49m\n\u001b[1;32m   9779\u001b[0m \u001b[38;5;28;01melse\u001b[39;00m:\n\u001b[1;32m   9780\u001b[0m     \u001b[38;5;28;01mif\u001b[39;00m on \u001b[38;5;129;01mis\u001b[39;00m \u001b[38;5;129;01mnot\u001b[39;00m \u001b[38;5;28;01mNone\u001b[39;00m:\n",
      "File \u001b[0;32m~/.local/share/virtualenvs/DM2-PeqFRmfa/lib/python3.10/site-packages/pandas/core/reshape/merge.py:162\u001b[0m, in \u001b[0;36mmerge\u001b[0;34m(left, right, how, on, left_on, right_on, left_index, right_index, sort, suffixes, copy, indicator, validate)\u001b[0m\n\u001b[1;32m    131\u001b[0m \u001b[38;5;129m@Substitution\u001b[39m(\u001b[38;5;124m\"\u001b[39m\u001b[38;5;130;01m\\n\u001b[39;00m\u001b[38;5;124mleft : DataFrame or named Series\u001b[39m\u001b[38;5;124m\"\u001b[39m)\n\u001b[1;32m    132\u001b[0m \u001b[38;5;129m@Appender\u001b[39m(_merge_doc, indents\u001b[38;5;241m=\u001b[39m\u001b[38;5;241m0\u001b[39m)\n\u001b[1;32m    133\u001b[0m \u001b[38;5;28;01mdef\u001b[39;00m \u001b[38;5;21mmerge\u001b[39m(\n\u001b[0;32m   (...)\u001b[0m\n\u001b[1;32m    146\u001b[0m     validate: \u001b[38;5;28mstr\u001b[39m \u001b[38;5;241m|\u001b[39m \u001b[38;5;28;01mNone\u001b[39;00m \u001b[38;5;241m=\u001b[39m \u001b[38;5;28;01mNone\u001b[39;00m,\n\u001b[1;32m    147\u001b[0m ) \u001b[38;5;241m-\u001b[39m\u001b[38;5;241m>\u001b[39m DataFrame:\n\u001b[1;32m    148\u001b[0m     op \u001b[38;5;241m=\u001b[39m _MergeOperation(\n\u001b[1;32m    149\u001b[0m         left,\n\u001b[1;32m    150\u001b[0m         right,\n\u001b[0;32m   (...)\u001b[0m\n\u001b[1;32m    160\u001b[0m         validate\u001b[38;5;241m=\u001b[39mvalidate,\n\u001b[1;32m    161\u001b[0m     )\n\u001b[0;32m--> 162\u001b[0m     \u001b[38;5;28;01mreturn\u001b[39;00m \u001b[43mop\u001b[49m\u001b[38;5;241;43m.\u001b[39;49m\u001b[43mget_result\u001b[49m\u001b[43m(\u001b[49m\u001b[43mcopy\u001b[49m\u001b[38;5;241;43m=\u001b[39;49m\u001b[43mcopy\u001b[49m\u001b[43m)\u001b[49m\n",
      "File \u001b[0;32m~/.local/share/virtualenvs/DM2-PeqFRmfa/lib/python3.10/site-packages/pandas/core/reshape/merge.py:811\u001b[0m, in \u001b[0;36m_MergeOperation.get_result\u001b[0;34m(self, copy)\u001b[0m\n\u001b[1;32m    807\u001b[0m     \u001b[38;5;28mself\u001b[39m\u001b[38;5;241m.\u001b[39mleft, \u001b[38;5;28mself\u001b[39m\u001b[38;5;241m.\u001b[39mright \u001b[38;5;241m=\u001b[39m \u001b[38;5;28mself\u001b[39m\u001b[38;5;241m.\u001b[39m_indicator_pre_merge(\u001b[38;5;28mself\u001b[39m\u001b[38;5;241m.\u001b[39mleft, \u001b[38;5;28mself\u001b[39m\u001b[38;5;241m.\u001b[39mright)\n\u001b[1;32m    809\u001b[0m join_index, left_indexer, right_indexer \u001b[38;5;241m=\u001b[39m \u001b[38;5;28mself\u001b[39m\u001b[38;5;241m.\u001b[39m_get_join_info()\n\u001b[0;32m--> 811\u001b[0m result \u001b[38;5;241m=\u001b[39m \u001b[38;5;28;43mself\u001b[39;49m\u001b[38;5;241;43m.\u001b[39;49m\u001b[43m_reindex_and_concat\u001b[49m\u001b[43m(\u001b[49m\n\u001b[1;32m    812\u001b[0m \u001b[43m    \u001b[49m\u001b[43mjoin_index\u001b[49m\u001b[43m,\u001b[49m\u001b[43m \u001b[49m\u001b[43mleft_indexer\u001b[49m\u001b[43m,\u001b[49m\u001b[43m \u001b[49m\u001b[43mright_indexer\u001b[49m\u001b[43m,\u001b[49m\u001b[43m \u001b[49m\u001b[43mcopy\u001b[49m\u001b[38;5;241;43m=\u001b[39;49m\u001b[43mcopy\u001b[49m\n\u001b[1;32m    813\u001b[0m \u001b[43m\u001b[49m\u001b[43m)\u001b[49m\n\u001b[1;32m    814\u001b[0m result \u001b[38;5;241m=\u001b[39m result\u001b[38;5;241m.\u001b[39m__finalize__(\u001b[38;5;28mself\u001b[39m, method\u001b[38;5;241m=\u001b[39m\u001b[38;5;28mself\u001b[39m\u001b[38;5;241m.\u001b[39m_merge_type)\n\u001b[1;32m    816\u001b[0m \u001b[38;5;28;01mif\u001b[39;00m \u001b[38;5;28mself\u001b[39m\u001b[38;5;241m.\u001b[39mindicator:\n",
      "File \u001b[0;32m~/.local/share/virtualenvs/DM2-PeqFRmfa/lib/python3.10/site-packages/pandas/core/reshape/merge.py:763\u001b[0m, in \u001b[0;36m_MergeOperation._reindex_and_concat\u001b[0;34m(self, join_index, left_indexer, right_indexer, copy)\u001b[0m\n\u001b[1;32m    760\u001b[0m left \u001b[38;5;241m=\u001b[39m \u001b[38;5;28mself\u001b[39m\u001b[38;5;241m.\u001b[39mleft[:]\n\u001b[1;32m    761\u001b[0m right \u001b[38;5;241m=\u001b[39m \u001b[38;5;28mself\u001b[39m\u001b[38;5;241m.\u001b[39mright[:]\n\u001b[0;32m--> 763\u001b[0m llabels, rlabels \u001b[38;5;241m=\u001b[39m \u001b[43m_items_overlap_with_suffix\u001b[49m\u001b[43m(\u001b[49m\n\u001b[1;32m    764\u001b[0m \u001b[43m    \u001b[49m\u001b[38;5;28;43mself\u001b[39;49m\u001b[38;5;241;43m.\u001b[39;49m\u001b[43mleft\u001b[49m\u001b[38;5;241;43m.\u001b[39;49m\u001b[43m_info_axis\u001b[49m\u001b[43m,\u001b[49m\u001b[43m \u001b[49m\u001b[38;5;28;43mself\u001b[39;49m\u001b[38;5;241;43m.\u001b[39;49m\u001b[43mright\u001b[49m\u001b[38;5;241;43m.\u001b[39;49m\u001b[43m_info_axis\u001b[49m\u001b[43m,\u001b[49m\u001b[43m \u001b[49m\u001b[38;5;28;43mself\u001b[39;49m\u001b[38;5;241;43m.\u001b[39;49m\u001b[43msuffixes\u001b[49m\n\u001b[1;32m    765\u001b[0m \u001b[43m\u001b[49m\u001b[43m)\u001b[49m\n\u001b[1;32m    767\u001b[0m \u001b[38;5;28;01mif\u001b[39;00m left_indexer \u001b[38;5;129;01mis\u001b[39;00m \u001b[38;5;129;01mnot\u001b[39;00m \u001b[38;5;28;01mNone\u001b[39;00m \u001b[38;5;129;01mand\u001b[39;00m \u001b[38;5;129;01mnot\u001b[39;00m is_range_indexer(left_indexer, \u001b[38;5;28mlen\u001b[39m(left)):\n\u001b[1;32m    768\u001b[0m     \u001b[38;5;66;03m# Pinning the index here (and in the right code just below) is not\u001b[39;00m\n\u001b[1;32m    769\u001b[0m     \u001b[38;5;66;03m#  necessary, but makes the `.take` more performant if we have e.g.\u001b[39;00m\n\u001b[1;32m    770\u001b[0m     \u001b[38;5;66;03m#  a MultiIndex for left.index.\u001b[39;00m\n\u001b[1;32m    771\u001b[0m     lmgr \u001b[38;5;241m=\u001b[39m left\u001b[38;5;241m.\u001b[39m_mgr\u001b[38;5;241m.\u001b[39mreindex_indexer(\n\u001b[1;32m    772\u001b[0m         join_index,\n\u001b[1;32m    773\u001b[0m         left_indexer,\n\u001b[0;32m   (...)\u001b[0m\n\u001b[1;32m    778\u001b[0m         use_na_proxy\u001b[38;5;241m=\u001b[39m\u001b[38;5;28;01mTrue\u001b[39;00m,\n\u001b[1;32m    779\u001b[0m     )\n",
      "File \u001b[0;32m~/.local/share/virtualenvs/DM2-PeqFRmfa/lib/python3.10/site-packages/pandas/core/reshape/merge.py:2590\u001b[0m, in \u001b[0;36m_items_overlap_with_suffix\u001b[0;34m(left, right, suffixes)\u001b[0m\n\u001b[1;32m   2587\u001b[0m lsuffix, rsuffix \u001b[38;5;241m=\u001b[39m suffixes\n\u001b[1;32m   2589\u001b[0m \u001b[38;5;28;01mif\u001b[39;00m \u001b[38;5;129;01mnot\u001b[39;00m lsuffix \u001b[38;5;129;01mand\u001b[39;00m \u001b[38;5;129;01mnot\u001b[39;00m rsuffix:\n\u001b[0;32m-> 2590\u001b[0m     \u001b[38;5;28;01mraise\u001b[39;00m \u001b[38;5;167;01mValueError\u001b[39;00m(\u001b[38;5;124mf\u001b[39m\u001b[38;5;124m\"\u001b[39m\u001b[38;5;124mcolumns overlap but no suffix specified: \u001b[39m\u001b[38;5;132;01m{\u001b[39;00mto_rename\u001b[38;5;132;01m}\u001b[39;00m\u001b[38;5;124m\"\u001b[39m)\n\u001b[1;32m   2592\u001b[0m \u001b[38;5;28;01mdef\u001b[39;00m \u001b[38;5;21mrenamer\u001b[39m(x, suffix):\n\u001b[1;32m   2593\u001b[0m \u001b[38;5;250m    \u001b[39m\u001b[38;5;124;03m\"\"\"\u001b[39;00m\n\u001b[1;32m   2594\u001b[0m \u001b[38;5;124;03m    Rename the left and right indices.\u001b[39;00m\n\u001b[1;32m   2595\u001b[0m \n\u001b[0;32m   (...)\u001b[0m\n\u001b[1;32m   2606\u001b[0m \u001b[38;5;124;03m    x : renamed column name\u001b[39;00m\n\u001b[1;32m   2607\u001b[0m \u001b[38;5;124;03m    \"\"\"\u001b[39;00m\n",
      "\u001b[0;31mValueError\u001b[0m: columns overlap but no suffix specified: Index(['window_denoised_trace', 'lowpass_denoised_trace'], dtype='object')"
     ]
    }
   ],
   "source": [
    "from scipy.fft import fft, fftfreq, ifft\n",
    "denoised_traces = pd.DataFrame(columns=[\"window_denoised_trace\", \"lowpass_denoised_trace\"])\n",
    "\n",
    "DENOISING_WINDOW=20\n",
    "F0 = 500\n",
    "DENOISING_FILTER_ORDER = 2\n",
    "\n",
    "\n",
    "for norm_trace in df.normalized_trace:\n",
    "    row = dict()\n",
    "    \n",
    "    # Window denoising\n",
    "    row[\"window_denoised_trace\"] = [[np.convolve(norm_trace, np.ones(DENOISING_WINDOW)/DENOISING_WINDOW, mode='valid')]]\n",
    "    \n",
    "    # Fourier lowpass denoising\n",
    "    N, T = len(norm_trace), DECIMATION_FACTOR/SAMPLING_RATE\n",
    "\n",
    "    signal_f = fft(norm_trace)\n",
    "    attenuation = (F0/(F0**DENOISING_FILTER_ORDER + fftfreq(N, T)**DENOISING_FILTER_ORDER )**(1/DENOISING_FILTER_ORDER)).astype(np.complex64)\n",
    "    signal_f *= attenuation\n",
    "    row[\"lowpass_denoised_trace\"] = [np.real(ifft(signal_f))]\n",
    "    \n",
    "    row = pd.DataFrame(row, index=[0])\n",
    "    denoised_traces = pd.concat([denoised_traces, row], ignore_index=True)\n",
    "\n",
    "try:\n",
    "    df.drop(columns=[\"window_denoised_trace\", \"lowpass_denoised_trace\"], inplace=True)\n",
    "except KeyError as e:\n",
    "    pass\n",
    "\n",
    "df = df.join(denoised_traces)"
   ]
  },
  {
   "cell_type": "code",
   "execution_count": null,
   "metadata": {},
   "outputs": [],
   "source": [
    "test_track = 50\n",
    "f0 = 500\n",
    "filter_order = 2\n",
    "plot_time_start, plot_time_end = 0,200\n",
    "plot_time = np.linspace(plot_time_start*T,plot_time_end*T,plot_time_end-plot_time_start)\n",
    "\n",
    "\n",
    "fig, (axt, axf) = plt.subplots(2,1, figsize=default_style.SHORT_FULLSIZE_FIGURE)\n",
    "axf.set_yscale(\"log\")\n",
    "axf.set_ylim(1e-2, 1e3)\n",
    "signal = df[\"normalized_trace\"][test_track]\n",
    "signal[np.isnan(signal)] = 0.0\n",
    "display(Audio(signal, rate=SAMPLING_RATE/DECIMATION_FACTOR))\n",
    "axt.plot(plot_time,\n",
    "         signal[plot_time_start:plot_time_end], color=\"b\")\n",
    "\n",
    "\n",
    "# Denoising with fft\n",
    "N = len(signal); print(N)\n",
    "T = DECIMATION_FACTOR/SAMPLING_RATE\n",
    "\n",
    "signal_f = fft(signal)\n",
    "freqs = fftfreq(N, T)[:N//2]\n",
    "axf.plot(freqs, np.abs(signal_f[0:N//2]), color=\"b\", label=\"original\", alpha=0.8,lw=1)\n",
    "\n",
    "attenuation = f0/(f0**filter_order + fftfreq(N, T)**filter_order )**(1/filter_order)\n",
    "attenuation = attenuation.astype(np.complex64)\n",
    "signal_f *= attenuation\n",
    "\n",
    "axf.plot(freqs, np.abs(signal_f[0:N//2]), color=\"g\", label=\"denoised (Fourier)\", alpha=0.8,lw=1)\n",
    "axf.axvline(f0,ls=\":\", color='k')\n",
    "\n",
    "den_signal = np.real(ifft(signal_f))\n",
    "\n",
    "axt.plot(plot_time,\n",
    "        den_signal[plot_time_start:plot_time_end], \n",
    "        color=\"g\")\n",
    "\n",
    "display(Audio(den_signal, rate=SAMPLING_RATE/DECIMATION_FACTOR))\n",
    "\n",
    "# Comparison with denoised with window\n",
    "axt.plot(plot_time, \n",
    "         df.denoised_trace[test_track][plot_time_start:plot_time_end], \n",
    "         color=\"r\", label=\"denoised (window = 20)\")\n",
    "\n",
    "signal_f = fft(df.denoised_trace[test_track])\n",
    "freqs = fftfreq(N, T)[:N//2]\n",
    "axf.plot(freqs, np.abs(signal_f[0:N//2]), color=\"r\", alpha=0.8,lw=1)\n",
    "\n",
    "\n",
    "display(Audio(df.denoised_trace[test_track], rate=SAMPLING_RATE/DECIMATION_FACTOR))\n",
    "\n",
    "\n",
    "\n",
    "fig.legend(ncols=3, loc=\"upper center\")\n",
    "fig.tight_layout()\n",
    "\n",
    "fig.savefig(os.path.join(\"..\", \"images/denoising.pdf\"))"
   ]
  },
  {
   "cell_type": "code",
   "execution_count": 17,
   "metadata": {},
   "outputs": [],
   "source": [
    "df.drop(columns= [\"window_denoised_trace\",\"lowpass_denoised_trace\"], inplace=True)"
   ]
  },
  {
   "cell_type": "markdown",
   "metadata": {},
   "source": [
    "now check the difference in terms of perceived audio"
   ]
  },
  {
   "cell_type": "code",
   "execution_count": null,
   "metadata": {},
   "outputs": [],
   "source": [
    "Audio(df.audio_trace[58], rate=SAMPLING_RATE/DECIMATION_FACTOR)"
   ]
  },
  {
   "cell_type": "code",
   "execution_count": null,
   "metadata": {},
   "outputs": [],
   "source": [
    "Audio(df.denoised_trace[51], rate=SAMPLING_RATE/DECIMATION_FACTOR)"
   ]
  },
  {
   "cell_type": "code",
   "execution_count": null,
   "metadata": {},
   "outputs": [],
   "source": [
    "# df.drop(columns=[ \"detrended_trace\", \"normalized_trace\",\n",
    "# #                  \"trimmed_trace\",\n",
    "# #                 \"audio_trace\" # Reinsert this when fourier tests are done\n",
    "#                 ], inplace=True)"
   ]
  },
  {
   "cell_type": "markdown",
   "metadata": {},
   "source": [
    "recompute the numerical attribute list"
   ]
  },
  {
   "cell_type": "code",
   "execution_count": null,
   "metadata": {},
   "outputs": [],
   "source": [
    "recompute_numeric_categorical(df)"
   ]
  },
  {
   "cell_type": "code",
   "execution_count": null,
   "metadata": {},
   "outputs": [],
   "source": [
    "print(f\"dataset size is {sys.getsizeof(df)/1e6} MB\")"
   ]
  },
  {
   "cell_type": "markdown",
   "metadata": {},
   "source": [
    "## Phonetic traces\n",
    "Let's call the phonetic traces of the track the corase-grained properties of the audio track, that could correspond for example to the glottological properties of the sound particle(fricative, nasal, plosive, etc).\n",
    "Check if there is some sort of difference between the \"kids\" statement and the \"dogs\" statement, even if they are rythmically equivalent.\n",
    "\n",
    "Maybe a good starting point could be the clustering of the tracks using dtw distance on these coarse-grained timeseries."
   ]
  },
  {
   "cell_type": "code",
   "execution_count": null,
   "metadata": {},
   "outputs": [],
   "source": [
    "window_in_ms = 10.0 # Big window, is it coherent with the timescale of sound particles?\n",
    "window = int(window_in_ms*1e-3*SAMPLING_RATE/DECIMATION_FACTOR )\n",
    "track_N = 50\n",
    "\n",
    "rolled_signal = pd.Series(df.denoised_trace[track_N]).rolling(window=window).std().fillna(0)\n",
    "phonetic_signal = decimate(rolled_signal,q=8) #GIGA downsampling\n",
    "print(len(phonetic_signal))\n",
    "plt.plot(np.linspace(0,1,len(df.denoised_trace[track_N])), df.denoised_trace[track_N], alpha=0.5)\n",
    "plt.plot(np.linspace(0,1,len(phonetic_signal)), phonetic_signal, color=\"k\")\n"
   ]
  },
  {
   "cell_type": "markdown",
   "metadata": {},
   "source": [
    "clearly the timeseries must be renormalized. I choose a minmaxscaler."
   ]
  },
  {
   "cell_type": "code",
   "execution_count": null,
   "metadata": {},
   "outputs": [],
   "source": [
    "def get_window_from_ms(window_in_ms, true_sampling_rate):\n",
    "    return int(window_in_ms*1e-3*true_sampling_rate )\n",
    "window = get_window_from_ms(10.0, SAMPLING_RATE/DECIMATION_FACTOR )\n",
    "downsampling_factor = 8\n",
    "\n",
    "phonetic_traces = pd.DataFrame(columns=[\"phonetic_trace\"])\n",
    "ph_traces_lengths = []\n",
    "\n",
    "for trim_trace in df.denoised_trace:\n",
    "    rolled_signal = pd.Series(trim_trace).rolling(window=window).std().fillna(0)\n",
    "    phonetic_signal = decimate(rolled_signal,q=downsampling_factor)\n",
    "    ph_traces_lengths.append(len(phonetic_signal))\n",
    "    row = pd.DataFrame([[phonetic_signal]],columns=[\"phonetic_trace\"], index=[0])\n",
    "    phonetic_traces = pd.concat([phonetic_traces, row], ignore_index=True)\n",
    "    \n",
    "try:\n",
    "    df.drop(columns=[\"phonetic_trace\"], inplace=True)\n",
    "except KeyError as e:\n",
    "    print(e)\n",
    "    pass\n",
    "\n",
    "df = df.join(phonetic_traces)\n",
    "recompute_numeric_categorical(df)"
   ]
  },
  {
   "cell_type": "code",
   "execution_count": null,
   "metadata": {},
   "outputs": [],
   "source": [
    "df.head()"
   ]
  },
  {
   "cell_type": "markdown",
   "metadata": {},
   "source": [
    "Now standardise the length of the phonetic_signal. This is done by mapping each array in a fixed-length array. This length M is chosen to be the minimum of the lengths.\n",
    "The map is done by selecting uniformly M integers from the interval (0, len(trace))"
   ]
  },
  {
   "cell_type": "code",
   "execution_count": null,
   "metadata": {},
   "outputs": [],
   "source": [
    "from sklearn.preprocessing import MinMaxScaler\n",
    "\n",
    "time_rescale  = True\n",
    "if time_rescale:\n",
    "    std_len = min(2000, np.min(ph_traces_lengths))\n",
    "    print(f\"standard_lenght is set to {std_len}\")\n",
    "    \n",
    "standardised_phonetic_traces = pd.DataFrame(columns=[\"std_phon_trace\", \"t_rescale_factor\"])\n",
    "for tr,trimmed_tr in zip(df.phonetic_trace,df.denoised_trace):\n",
    "    \n",
    "    # Generates the downsampling indexes\n",
    "    if time_rescale:\n",
    "        indexes = (len(tr)-1)*(np.linspace(0,1,std_len))\n",
    "        indexes = indexes.astype(int)\n",
    "        time_rescale_factor = len(trimmed_tr)/std_len\n",
    "\n",
    "        # Check repeated values\n",
    "        indexes, counts = np.unique(indexes, return_counts=True)\n",
    "        if (counts>1).any():\n",
    "            print(\"repeated index\")\n",
    "    else:\n",
    "        indexes = np.arange(len(tr))\n",
    "        \n",
    "    # Scales the signal here\n",
    "    phonetic_signal = MinMaxScaler().fit_transform(tr[indexes].reshape(-1,1)).reshape(-1)\n",
    "    row = pd.DataFrame([[phonetic_signal, time_rescale_factor]], columns=[\"std_phon_trace\", \"t_rescale_factor\"], index=[0])\n",
    "    standardised_phonetic_traces = pd.concat([standardised_phonetic_traces, row], ignore_index=True)\n",
    "\n",
    "try:\n",
    "    df.drop(columns=[\"std_phon_trace\", \"t_rescale_factor\"], inplace=True)\n",
    "except KeyError as e:\n",
    "    print(e)\n",
    "    pass\n",
    "\n",
    "df = df.join(standardised_phonetic_traces)\n",
    "recompute_numeric_categorical(df)"
   ]
  },
  {
   "cell_type": "code",
   "execution_count": null,
   "metadata": {},
   "outputs": [],
   "source": [
    "df.head()"
   ]
  },
  {
   "cell_type": "markdown",
   "metadata": {},
   "source": [
    "## Division in syllables\n",
    "As a test, I try to divide the signal into adaptive windows corresponding to the syllables\n",
    "\n",
    "- kidz-a-taw-kin-by-the-doo\n",
    "- dogz-a-sit-ting-by-the-doo\n"
   ]
  },
  {
   "cell_type": "code",
   "execution_count": null,
   "metadata": {},
   "outputs": [],
   "source": [
    "%load_ext autoreload\n",
    "%autoreload 2\n",
    "\n",
    "from phonetic_stuff import PhoneticList, SyllablesDivider"
   ]
  },
  {
   "cell_type": "code",
   "execution_count": null,
   "metadata": {},
   "outputs": [],
   "source": [
    "# Iniializes the phonetic list\n",
    "ph_list = PhoneticList.from_tracks(df.denoised_trace, \n",
    "                                   [SAMPLING_RATE/DECIMATION_FACTOR]*len(df), \n",
    "                                   30.0, # This is the time window of smoothing\n",
    "                                   decimate=2)\n",
    "\n",
    "# Defines the syllable divider\n",
    "divider = SyllablesDivider(min_size_ms=8.0, \n",
    "                           smoothing_window_ms=20.0,\n",
    "                           n_syllables=7,\n",
    "                           #derivative_threshold=0.12 #deprecated\n",
    "                          )\n",
    "\n",
    "start_indexes, start_times = divider.get_start_points(ph_list, return_times=True, endpoint=True)"
   ]
  },
  {
   "cell_type": "code",
   "execution_count": null,
   "metadata": {},
   "outputs": [],
   "source": [
    "# Plots for a test track\n",
    "test_track_index = 2\n",
    "\n",
    "original_audio = df.denoised_trace[test_track_index]\n",
    "original_time = np.linspace(0, len(original_audio)/(SAMPLING_RATE/DECIMATION_FACTOR), len(original_audio))\n",
    "\n",
    "fig, ax = plt.subplots(figsize=default_style.SHORT_FULLSIZE_FIGURE)\n",
    "\n",
    "ax.plot(original_time, original_audio, alpha=0.2, label=\"trimmed audio\")\n",
    "ax.plot(ph_list.elements[test_track_index].time,ph_list.elements[test_track_index].track, label=\"short-time intensity\")\n",
    "\n",
    "flag = False\n",
    "for st in start_times[test_track_index]:\n",
    "    ax.axvline(st, color=\"k\", ls=\":\", label=\"detected syllable start\" if not flag else \"\")\n",
    "    flag=True\n",
    "ax.set_xlabel(\"Time [s]\")\n",
    "ax.set_yticks([])\n",
    "fig.legend(loc=\"upper center\", ncols=3)\n",
    "fig.tight_layout()\n",
    "plt.savefig(\"../images/timeseries_syllables.pdf\")"
   ]
  },
  {
   "cell_type": "code",
   "execution_count": null,
   "metadata": {},
   "outputs": [],
   "source": [
    "# Some stats of the syllables\n",
    "syllables = [\"bugs\", \"a\", \"ta\", \"ping\", \"by\", \"da\", \"dough\"]\n",
    "start_times = np.array(start_times)\n",
    "u = np.diff(start_times, axis=-1)\n",
    "\n",
    "syll_duration_df = pd.DataFrame(u, columns=syllables)\n",
    "syll_duration_df = syll_duration_df.join(df[categorical_attr_list])\n",
    "sns.kdeplot(data=syll_duration_df, x=\"dough\", hue=\"vocal_channel\")\n",
    "sns.kdeplot(data=syll_duration_df, x=\"by\", hue=\"vocal_channel\")\n",
    "\n",
    "plt.legend()\n",
    "# plt.yscale(\"log\")"
   ]
  },
  {
   "cell_type": "code",
   "execution_count": null,
   "metadata": {},
   "outputs": [],
   "source": [
    "# Splits the original track in syllables\n",
    "syll_index = np.array(divider.get_start_points(ph_list))\n",
    "syllables_df = pd.DataFrame(columns=[f\"syll_{i}_start_index\" for i in range(syll_index.shape[1] + 1)])\n",
    "\n",
    "for i in range(len(ph_list)):\n",
    "    row = dict()\n",
    "    \n",
    "    for syll_j in range(syll_index.shape[1]):\n",
    "        row[f\"syll_{syll_j}_start_index\"] = ph_list[i].get_index_in_original_audio(syll_index[i][syll_j])\n",
    "        \n",
    "    # For continuity adds the end of file as start of syllable n+1\n",
    "    \n",
    "    row[f\"syll_{syll_index.shape[1]}_start_index\"] = int(len(df.denoised_trace[i]))\n",
    "    \n",
    "    row = pd.DataFrame(row, index=[0])\n",
    "    syllables_df = pd.concat([syllables_df, row], ignore_index=True)\n",
    "\n",
    "try:\n",
    "    df.drop(columns=[f\"syll_{i}_start_index\" for i in range(syll_index.shape[1] + 1)], inplace=True)\n",
    "except KeyError as e:\n",
    "    print(e)\n",
    "\n",
    "\n",
    "df = df.join(syllables_df)\n"
   ]
  },
  {
   "cell_type": "code",
   "execution_count": null,
   "metadata": {},
   "outputs": [],
   "source": [
    "df.head()"
   ]
  },
  {
   "cell_type": "markdown",
   "metadata": {},
   "source": [
    "## Sequence padding"
   ]
  },
  {
   "cell_type": "code",
   "execution_count": null,
   "metadata": {},
   "outputs": [],
   "source": [
    "df_to_save = df.copy()"
   ]
  },
  {
   "cell_type": "code",
   "execution_count": null,
   "metadata": {},
   "outputs": [],
   "source": [
    "# Standardizes the arrays\n",
    "trace_cols = [col for col in df_to_save.columns if col.endswith(\"trace\")]\n",
    "padded_traces = dict()\n",
    "for col in trace_cols:\n",
    "    X = df[col].values\n",
    "\n",
    "    # find the max length of X_train\n",
    "    maximum = 0\n",
    "    for ts in X:\n",
    "        length = len(np.asarray(np.ravel(ts)))\n",
    "        if length > maximum:\n",
    "            maximum = length\n",
    "    print(col, maximum)\n",
    "    \n",
    "    Y = np.zeros((len(X), maximum))\n",
    "    for i in range(len(X)):\n",
    "        Y[i] = np.pad(X[i],\n",
    "                      (0, maximum - len(X[i])),\n",
    "                     constant_values=(np.nan, np.nan))\n",
    "    np.save(os.path.join(TS_PREPROC_FOLDER, f\"{col}.npy\"), Y)\n",
    "    padded_traces[col] = Y"
   ]
  },
  {
   "cell_type": "code",
   "execution_count": null,
   "metadata": {},
   "outputs": [],
   "source": [
    "df_to_save.drop(columns=[c for c in df_to_save.columns if c.endswith(\"trace\")], inplace=True)\n",
    "df_to_save.to_csv(DF_PREPROC_FILE)\n",
    "del df_to_save"
   ]
  },
  {
   "cell_type": "markdown",
   "metadata": {},
   "source": [
    "## Fourier stuff"
   ]
  },
  {
   "cell_type": "markdown",
   "metadata": {},
   "source": [
    "First we check if the denoised an normalized_traces are coherent and do not present particular issues."
   ]
  },
  {
   "cell_type": "code",
   "execution_count": null,
   "metadata": {},
   "outputs": [],
   "source": [
    "# Check on complete Fourier transform: denoised vs original\n",
    "from scipy.fft import fft, fftfreq\n",
    "test_track = 50\n",
    "len_subsignal = 20_000\n",
    "\n",
    "# original\n",
    "signal = padded_traces[\"normalized_trace\"][test_track]\n",
    "signal[np.isnan(signal)] = 0.0\n",
    "signal = signal[:len_subsignal]\n",
    "\n",
    "N = len(signal)\n",
    "T = DECIMATION_FACTOR/SAMPLING_RATE\n",
    "print(f\"by Nyquist theorem --> max f = {0.5*SAMPLING_RATE/DECIMATION_FACTOR*1e-3} kHz\")\n",
    "\n",
    "signal_f = fft(signal)\n",
    "freqs = fftfreq(N, T)[:N//2]\n",
    "plt.plot(freqs, 10*np.abs(signal_f[0:N//2]), label=\"original\", alpha=0.8, lw=0.5)\n",
    "\n",
    "# denoised\n",
    "signal = padded_traces[\"denoised_trace\"][test_track]\n",
    "signal[np.isnan(signal)] = 0.0\n",
    "signal = signal[:len_subsignal]\n",
    "\n",
    "N = len(signal)\n",
    "T = DECIMATION_FACTOR/SAMPLING_RATE\n",
    "print(f\"by Nyquist theorem --> max f = {0.5*SAMPLING_RATE/DECIMATION_FACTOR*1e-3} kHz\")\n",
    "\n",
    "signal_f = fft(signal)\n",
    "freqs = fftfreq(N, T)[:N//2]\n",
    "plt.plot(freqs, np.abs(signal_f[0:N//2]), color=\"k\", label=\"denoised\", alpha=0.8,lw=0.5)\n",
    "\n",
    "plt.legend()\n",
    "plt.yscale(\"log\")\n",
    "\n",
    "# plt.xscale(\"log\")\n",
    "# plt.xlim(4);\n",
    "\n",
    "plt.plot(freqs,1e7*np.abs(np.sin(np.pi*freqs/600))/(np.pi*freqs*window) )\n",
    "plt.ylim(1e-2, 1e5)\n"
   ]
  },
  {
   "cell_type": "code",
   "execution_count": null,
   "metadata": {},
   "outputs": [],
   "source": [
    "# Check on complete Fourier transform: syllables vs total\n",
    "from scipy.fft import fft, fftfreq\n",
    "test_track = 10\n",
    "\n",
    "for syll in range(7):\n",
    "    signal = padded_traces[\"denoised_trace\"][test_track][df[f\"syll_{syll}_start_index\"][test_track]:df[f\"syll_{syll+1}_start_index\"][test_track]]\n",
    "    signal[np.isnan(signal)] = 0.0\n",
    "    \n",
    "    N = len(signal)\n",
    "    T = DECIMATION_FACTOR/SAMPLING_RATE\n",
    "\n",
    "    signal_f = fft(signal)\n",
    "    freqs = fftfreq(N, T)[:N//2]\n",
    "\n",
    "    plt.plot(freqs, 2.0/N * np.abs(signal_f[0:N//2]), alpha=0.5)\n",
    "\n",
    "signal = padded_traces[\"denoised_trace\"][test_track]\n",
    "signal[np.isnan(signal)] = 0.0\n",
    "\n",
    "N = len(signal)\n",
    "T = DECIMATION_FACTOR/SAMPLING_RATE\n",
    "#     print(f\"T = {T*1e3:.2f} ms\")\n",
    "print(f\"by Nyquist theorem --> max f = {0.5*SAMPLING_RATE/DECIMATION_FACTOR*1e-3} kHz\")\n",
    "signal_f = fft(signal)\n",
    "freqs = fftfreq(N, T)[:N//2]\n",
    "plt.plot(freqs, 2.0/N * np.abs(signal_f[0:N//2]), color=\"k\")\n",
    "plt.yscale(\"log\")"
   ]
  },
  {
   "cell_type": "code",
   "execution_count": null,
   "metadata": {},
   "outputs": [],
   "source": [
    "# Check differences on padded trace\n",
    "test_track = 10\n",
    "\n",
    "for tr, trname in zip([padded_traces[\"denoised_trace\"], df.denoised_trace.values], [\"padded\", \"not padded\"]):\n",
    "    signal = tr[test_track]\n",
    "    signal[np.isnan(signal)] = 0.0\n",
    "    N = len(signal)\n",
    "    \n",
    "    print(f\"by Nyquist theorem --> max f = {0.5*SAMPLING_RATE/DECIMATION_FACTOR*1e-3} kHz\")\n",
    "    signal_f = fft(signal)\n",
    "    freqs = fftfreq(N, T)[:N//2]\n",
    "    plt.plot(freqs, 2.0 * np.abs(signal_f[0:N//2]), alpha=0.5, label=trname)\n",
    "plt.xlim(0,2000)\n",
    "plt.legend()"
   ]
  },
  {
   "cell_type": "code",
   "execution_count": null,
   "metadata": {},
   "outputs": [],
   "source": [
    "np.save(os.path.join(TS_PREPROC_FOLDER, \"fourier_coeffs.npy\"), ts_dft)"
   ]
  },
  {
   "cell_type": "code",
   "execution_count": null,
   "metadata": {},
   "outputs": [],
   "source": []
  },
  {
   "cell_type": "code",
   "execution_count": null,
   "metadata": {},
   "outputs": [],
   "source": []
  }
 ],
 "metadata": {
  "kernelspec": {
   "display_name": "DM2",
   "language": "python",
   "name": "dm2"
  },
  "language_info": {
   "codemirror_mode": {
    "name": "ipython",
    "version": 3
   },
   "file_extension": ".py",
   "mimetype": "text/x-python",
   "name": "python",
   "nbconvert_exporter": "python",
   "pygments_lexer": "ipython3",
   "version": "3.10.6"
  }
 },
 "nbformat": 4,
 "nbformat_minor": 2
}
