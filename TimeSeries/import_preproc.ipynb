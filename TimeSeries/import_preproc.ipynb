{
 "cells": [
  {
   "cell_type": "code",
   "execution_count": 24,
   "metadata": {},
   "outputs": [],
   "source": [
    "import os\n",
    "import numpy as np\n",
    "import pandas as pd\n",
    "\n",
    "import librosa\n",
    "from tqdm.notebook import tqdm\n",
    "\n",
    "TS_DATASET_FOLDER = os.path.join(\"..\", \"dataset\")\n",
    "SONG_DATASET_FOLDER = os.path.join(TS_DATASET_FOLDER,\"Audio_Song_Actors_01-24\")\n",
    "SPEECH_DATASET_FOLDER = os.path.join(TS_DATASET_FOLDER,\"Audio_Speech_Actors_01-24\")\n",
    "\n",
    "def get_actor_files(vc, actor_n):\n",
    "    fold = SONG_DATASET_FOLDER if vc == \"song\" else SPEECH_DATASET_FOLDER\n",
    "    act_fold = f\"Actor_{str(actor_n).zfill(2)}\"\n",
    "    fold = os.path.join(fold, act_fold )\n",
    "    return [os.path.join(fold,f) for f in os.listdir(fold) if f.endswith(\".wav\")]\n",
    "\n",
    "\n",
    "CATEGORICAL_FEATURES_NAMES = {\n",
    "    \"modality\": {\"01\": \"full-AV\", \"02\": \"video-only\", \"03\": \"audio-only\"}, \n",
    "    \"vocal_channel\": {\"01\": \"speech\", \"02\": \"song\"},\n",
    "    \"emotion\": {\"01\" : \"neutral\", \"02\" : \"calm\", \"03\" : \"happy\", \"04\" : \"sad\", \"05\" : \"angry\", \"06\" : \"fearful\", \"07\" : \"disgust\", \"08\" : \"surprised\"},\n",
    "    \"emotional_intensity\": {\"01\" : \"normal\", \"02\" : \"strong\"},\n",
    "    \"statement\": {\"01\" : \"Kids\", \"02\" : \"Dogs\"},\n",
    "    \"repetition\": {\"01\" : \"1st\", \"02\" : \"2nd\"},\n",
    "    \"actor\": {str(i).zfill(2): str(i).zfill(2) for i in range(1, 25)}\n",
    "}"
   ]
  },
  {
   "attachments": {},
   "cell_type": "markdown",
   "metadata": {},
   "source": [
    "# File import\n",
    "Files must be downsampled before being saved in memory because they are enormous (200_000 floating point numbers, roughly 0.5 MB)"
   ]
  },
  {
   "cell_type": "code",
   "execution_count": 25,
   "metadata": {},
   "outputs": [
    {
     "data": {
      "application/vnd.jupyter.widget-view+json": {
       "model_id": "e69d057d6db141288c3f54354db1b63e",
       "version_major": 2,
       "version_minor": 0
      },
      "text/plain": [
       "  0%|          | 0/4 [00:00<?, ?it/s]"
      ]
     },
     "metadata": {},
     "output_type": "display_data"
    }
   ],
   "source": [
    "import sys\n",
    "from scipy.signal import decimate\n",
    "\n",
    "df = pd.DataFrame(columns = list(CATEGORICAL_FEATURES_NAMES.keys()) + [\"audio_trace\", \"path\"])\n",
    "\n",
    "for actor_n in tqdm(range(1,5)):\n",
    "    for f in get_actor_files(\"song\", actor_n):\n",
    "        segment, sr = librosa.load(f, sr=None)\n",
    "        segment = decimate(segment, q=8)\n",
    "\n",
    "        categ_values = str(os.path.basename(f)).strip(\".wav\").split(\"-\")\n",
    "\n",
    "        row = {attr:val for attr, val in zip(CATEGORICAL_FEATURES_NAMES.keys(), categ_values)}\n",
    "        row[\"audio_trace\"] = [segment]\n",
    "        row[\"path\"] = f\n",
    "        row = pd.DataFrame(row, index = [0])\n",
    "        df = pd.concat([df,  row], ignore_index=True)"
   ]
  },
  {
   "cell_type": "code",
   "execution_count": 26,
   "metadata": {},
   "outputs": [],
   "source": [
    "for column in df.columns:\n",
    "    df = df.replace(CATEGORICAL_FEATURES_NAMES)\n",
    "\n",
    "df[\"sex\"] = [\"F\" if i % 2 == 0 else \"M\" for i in df[\"actor\"].astype(int)]\n",
    "df = df.drop(columns = [\"modality\"])"
   ]
  },
  {
   "cell_type": "code",
   "execution_count": 32,
   "metadata": {},
   "outputs": [
    {
     "data": {
      "text/plain": [
       "array([-1.2550673e-06,  4.9670591e-05, -2.3272896e-05, ...,\n",
       "        2.4392716e-10, -7.8054792e-11, -1.2493626e-10], dtype=float32)"
      ]
     },
     "execution_count": 32,
     "metadata": {},
     "output_type": "execute_result"
    }
   ],
   "source": [
    "df.loc[0, \"audio_trace\"]"
   ]
  },
  {
   "cell_type": "code",
   "execution_count": null,
   "metadata": {},
   "outputs": [],
   "source": []
  }
 ],
 "metadata": {
  "kernelspec": {
   "display_name": "DM2-PeqFRmfa",
   "language": "python",
   "name": "python3"
  },
  "language_info": {
   "codemirror_mode": {
    "name": "ipython",
    "version": 3
   },
   "file_extension": ".py",
   "mimetype": "text/x-python",
   "name": "python",
   "nbconvert_exporter": "python",
   "pygments_lexer": "ipython3",
   "version": "3.10.6"
  },
  "orig_nbformat": 4
 },
 "nbformat": 4,
 "nbformat_minor": 2
}
