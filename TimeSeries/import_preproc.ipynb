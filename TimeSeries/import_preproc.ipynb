{
 "cells": [
  {
   "cell_type": "markdown",
   "metadata": {},
   "source": [
    "Unzip the dataset copressed files in dataset. They are divided in speech and song."
   ]
  },
  {
   "cell_type": "code",
   "execution_count": 1,
   "metadata": {},
   "outputs": [],
   "source": [
    "import os\n",
    "import numpy as np\n",
    "import pandas as pd\n",
    "import matplotlib.pyplot as plt\n",
    "import seaborn as sns; sns.set()\n",
    "\n",
    "import librosa\n",
    "from tqdm.notebook import tqdm\n",
    "from IPython.display import Audio\n",
    "from pandas.api.types import is_numeric_dtype\n",
    "\n",
    "import sys\n",
    "sys.path.append('../')\n",
    "import default_style\n",
    "\n",
    "TS_DATASET_FOLDER = os.path.join(\"..\", \"dataset\")\n",
    "SONG_DATASET_FOLDER = os.path.join(TS_DATASET_FOLDER,\"Audio_Song_Actors_01-24\")\n",
    "SPEECH_DATASET_FOLDER = os.path.join(TS_DATASET_FOLDER,\"Audio_Speech_Actors_01-24\")\n",
    "\n",
    "def get_actor_files(vc, actor_n):\n",
    "    fold = SONG_DATASET_FOLDER if vc == \"song\" else SPEECH_DATASET_FOLDER\n",
    "    act_fold = f\"Actor_{str(actor_n).zfill(2)}\"\n",
    "    fold = os.path.join(fold, act_fold )\n",
    "    return [os.path.join(fold,f) for f in os.listdir(fold) if f.endswith(\".wav\")]\n",
    "\n",
    "\n",
    "CATEGORICAL_FEATURES_NAMES = {\n",
    "    \"modality\": {\"01\": \"full-AV\", \"02\": \"video-only\", \"03\": \"audio-only\"}, \n",
    "    \"vocal_channel\": {\"01\": \"speech\", \"02\": \"song\"},\n",
    "    \"emotion\": {\"01\" : \"neutral\", \"02\" : \"calm\", \"03\" : \"happy\", \"04\" : \"sad\", \"05\" : \"angry\", \"06\" : \"fearful\", \"07\" : \"disgust\", \"08\" : \"surprised\"},\n",
    "    \"emotional_intensity\": {\"01\" : \"normal\", \"02\" : \"strong\"},\n",
    "    \"statement\": {\"01\" : \"kids\", \"02\" : \"dogs\"},\n",
    "    \"repetition\": {\"01\" : \"1st\", \"02\" : \"2nd\"},\n",
    "    \"actor\": {str(i).zfill(2): str(i).zfill(2) for i in range(1, 25)}\n",
    "}\n",
    "\n",
    "SAMPLING_RATE = 48_000\n",
    "DECIMATION_FACTOR = 8\n",
    "\n",
    "def recompute_numeric_categorical(df):\n",
    "    global numerical_attr_list, categorical_attr_list\n",
    "    numerical_attr_list = [col for col in df.columns if is_numeric_dtype(df[col])]\n",
    "    categorical_attr_list = [col for col in df.columns if not is_numeric_dtype(df[col])]"
   ]
  },
  {
   "cell_type": "markdown",
   "metadata": {},
   "source": [
    "# File import\n",
    "Files must be downsampled before being saved in memory because they are enormous (200_000 floating point numbers, roughly 0.5 MB)"
   ]
  },
  {
   "cell_type": "code",
   "execution_count": 2,
   "metadata": {},
   "outputs": [
    {
     "data": {
      "application/vnd.jupyter.widget-view+json": {
       "model_id": "9fd190f6eb814b019bae7b6ac841b22b",
       "version_major": 2,
       "version_minor": 0
      },
      "text/plain": [
       "  0%|          | 0/24 [00:00<?, ?it/s]"
      ]
     },
     "metadata": {},
     "output_type": "display_data"
    },
    {
     "data": {
      "application/vnd.jupyter.widget-view+json": {
       "model_id": "9bbe17f0206e4a8081472eb650eee2d7",
       "version_major": 2,
       "version_minor": 0
      },
      "text/plain": [
       "  0%|          | 0/24 [00:00<?, ?it/s]"
      ]
     },
     "metadata": {},
     "output_type": "display_data"
    }
   ],
   "source": [
    "import sys\n",
    "from scipy.signal import decimate\n",
    "\n",
    "df = pd.DataFrame(columns = list(CATEGORICAL_FEATURES_NAMES.keys()) + [\"audio_trace\", \"path\"])\n",
    "for vc in [\"speech\", \"song\"]:\n",
    "    for actor_n in tqdm(range(1,25)):\n",
    "        for f in get_actor_files(vc, actor_n):\n",
    "            segment, sr = librosa.load(f, sr=None)\n",
    "            segment = decimate(segment, q=DECIMATION_FACTOR)\n",
    "\n",
    "            categ_values = str(os.path.basename(f)).strip(\".wav\").split(\"-\")\n",
    "\n",
    "            row = {attr:val for attr, val in zip(CATEGORICAL_FEATURES_NAMES.keys(), categ_values)}\n",
    "            row[\"audio_trace\"] = [segment]\n",
    "            row[\"path\"] = f\n",
    "            row = pd.DataFrame(row, index = [0])\n",
    "            df = pd.concat([df,  row], ignore_index=True)"
   ]
  },
  {
   "cell_type": "code",
   "execution_count": 3,
   "metadata": {},
   "outputs": [
    {
     "data": {
      "text/html": [
       "<div>\n",
       "<style scoped>\n",
       "    .dataframe tbody tr th:only-of-type {\n",
       "        vertical-align: middle;\n",
       "    }\n",
       "\n",
       "    .dataframe tbody tr th {\n",
       "        vertical-align: top;\n",
       "    }\n",
       "\n",
       "    .dataframe thead th {\n",
       "        text-align: right;\n",
       "    }\n",
       "</style>\n",
       "<table border=\"1\" class=\"dataframe\">\n",
       "  <thead>\n",
       "    <tr style=\"text-align: right;\">\n",
       "      <th></th>\n",
       "      <th>vocal_channel</th>\n",
       "      <th>emotion</th>\n",
       "      <th>emotional_intensity</th>\n",
       "      <th>statement</th>\n",
       "      <th>repetition</th>\n",
       "      <th>actor</th>\n",
       "      <th>audio_trace</th>\n",
       "      <th>path</th>\n",
       "      <th>sex</th>\n",
       "    </tr>\n",
       "  </thead>\n",
       "  <tbody>\n",
       "    <tr>\n",
       "      <th>0</th>\n",
       "      <td>speech</td>\n",
       "      <td>happy</td>\n",
       "      <td>normal</td>\n",
       "      <td>kids</td>\n",
       "      <td>2nd</td>\n",
       "      <td>actor_01</td>\n",
       "      <td>[6.7432594e-11, -1.7281297e-10, 2.6411556e-10,...</td>\n",
       "      <td>../dataset/Audio_Speech_Actors_01-24/Actor_01/...</td>\n",
       "      <td>M</td>\n",
       "    </tr>\n",
       "    <tr>\n",
       "      <th>1</th>\n",
       "      <td>speech</td>\n",
       "      <td>calm</td>\n",
       "      <td>strong</td>\n",
       "      <td>dogs</td>\n",
       "      <td>2nd</td>\n",
       "      <td>actor_01</td>\n",
       "      <td>[-5.096353e-09, 7.548913e-09, -8.45547e-09, 6....</td>\n",
       "      <td>../dataset/Audio_Speech_Actors_01-24/Actor_01/...</td>\n",
       "      <td>M</td>\n",
       "    </tr>\n",
       "    <tr>\n",
       "      <th>2</th>\n",
       "      <td>speech</td>\n",
       "      <td>fearful</td>\n",
       "      <td>normal</td>\n",
       "      <td>kids</td>\n",
       "      <td>2nd</td>\n",
       "      <td>actor_01</td>\n",
       "      <td>[0.00011891391, 0.00010525208, 6.3990985e-05, ...</td>\n",
       "      <td>../dataset/Audio_Speech_Actors_01-24/Actor_01/...</td>\n",
       "      <td>M</td>\n",
       "    </tr>\n",
       "    <tr>\n",
       "      <th>3</th>\n",
       "      <td>speech</td>\n",
       "      <td>neutral</td>\n",
       "      <td>normal</td>\n",
       "      <td>kids</td>\n",
       "      <td>2nd</td>\n",
       "      <td>actor_01</td>\n",
       "      <td>[-2.9781221e-08, -1.4013209e-06, -1.0139452e-0...</td>\n",
       "      <td>../dataset/Audio_Speech_Actors_01-24/Actor_01/...</td>\n",
       "      <td>M</td>\n",
       "    </tr>\n",
       "    <tr>\n",
       "      <th>4</th>\n",
       "      <td>speech</td>\n",
       "      <td>calm</td>\n",
       "      <td>normal</td>\n",
       "      <td>kids</td>\n",
       "      <td>1st</td>\n",
       "      <td>actor_01</td>\n",
       "      <td>[3.0153627e-05, -4.7941107e-06, 1.3743208e-06,...</td>\n",
       "      <td>../dataset/Audio_Speech_Actors_01-24/Actor_01/...</td>\n",
       "      <td>M</td>\n",
       "    </tr>\n",
       "  </tbody>\n",
       "</table>\n",
       "</div>"
      ],
      "text/plain": [
       "  vocal_channel  emotion emotional_intensity statement repetition     actor  \\\n",
       "0        speech    happy              normal      kids        2nd  actor_01   \n",
       "1        speech     calm              strong      dogs        2nd  actor_01   \n",
       "2        speech  fearful              normal      kids        2nd  actor_01   \n",
       "3        speech  neutral              normal      kids        2nd  actor_01   \n",
       "4        speech     calm              normal      kids        1st  actor_01   \n",
       "\n",
       "                                         audio_trace  \\\n",
       "0  [6.7432594e-11, -1.7281297e-10, 2.6411556e-10,...   \n",
       "1  [-5.096353e-09, 7.548913e-09, -8.45547e-09, 6....   \n",
       "2  [0.00011891391, 0.00010525208, 6.3990985e-05, ...   \n",
       "3  [-2.9781221e-08, -1.4013209e-06, -1.0139452e-0...   \n",
       "4  [3.0153627e-05, -4.7941107e-06, 1.3743208e-06,...   \n",
       "\n",
       "                                                path sex  \n",
       "0  ../dataset/Audio_Speech_Actors_01-24/Actor_01/...   M  \n",
       "1  ../dataset/Audio_Speech_Actors_01-24/Actor_01/...   M  \n",
       "2  ../dataset/Audio_Speech_Actors_01-24/Actor_01/...   M  \n",
       "3  ../dataset/Audio_Speech_Actors_01-24/Actor_01/...   M  \n",
       "4  ../dataset/Audio_Speech_Actors_01-24/Actor_01/...   M  "
      ]
     },
     "execution_count": 3,
     "metadata": {},
     "output_type": "execute_result"
    }
   ],
   "source": [
    "for column in df.columns:\n",
    "    df = df.replace(CATEGORICAL_FEATURES_NAMES)\n",
    "\n",
    "df[\"sex\"] = [\"F\" if i % 2 == 0 else \"M\" for i in df[\"actor\"].astype(int)]\n",
    "df = df.replace({ \"actor\": {str(i).zfill(2): f\"actor_{str(i).zfill(2)}\" for i in range(1, 25)}})\n",
    "df = df.drop(columns = [\"modality\"])\n",
    "df.head()"
   ]
  },
  {
   "cell_type": "markdown",
   "metadata": {},
   "source": [
    "## Preprocessing"
   ]
  },
  {
   "cell_type": "markdown",
   "metadata": {},
   "source": [
    "### trimming"
   ]
  },
  {
   "cell_type": "code",
   "execution_count": 4,
   "metadata": {
    "scrolled": true
   },
   "outputs": [
    {
     "data": {
      "text/plain": [
       "[<matplotlib.lines.Line2D at 0x7f63c98edab0>]"
      ]
     },
     "execution_count": 4,
     "metadata": {},
     "output_type": "execute_result"
    },
    {
     "data": {
      "image/png": "[encoded data removed]",
      "text/plain": [
       "<Figure size 640x480 with 1 Axes>"
      ]
     },
     "metadata": {},
     "output_type": "display_data"
    }
   ],
   "source": [
    "def trim_silence(track, window_in_ms=10.0, rel_thr=1e-2):\n",
    "    ts = pd.Series(track)\n",
    "    window = int(window_in_ms*1e-3*SAMPLING_RATE/DECIMATION_FACTOR )\n",
    "    rolling_std = ts.rolling(window=window).std()\n",
    "    mask = rolling_std > rel_thr*rolling_std.max()\n",
    "    begin, end = np.where(mask)[0][0], np.where(mask)[0][-1]\n",
    "    return track[begin:end], begin, end\n",
    "\n",
    "trimmed, begin, end = trim_silence(df[\"audio_trace\"][50],  rel_thr=5e-2)\n",
    "plt.plot(np.arange(begin, end), trimmed)\n",
    "plt.plot(df[\"audio_trace\"][50] + 1)"
   ]
  },
  {
   "cell_type": "markdown",
   "metadata": {},
   "source": [
    "So it seems to work. Now add to the dataset the trimmed tracks"
   ]
  },
  {
   "cell_type": "code",
   "execution_count": 5,
   "metadata": {},
   "outputs": [
    {
     "name": "stdout",
     "output_type": "stream",
     "text": [
      "\"['trimmed_trace', 'begin_s', 'end_s'] not found in axis\"\n"
     ]
    }
   ],
   "source": [
    "trimmed_df = pd.DataFrame(columns=[\"trimmed_trace\", \"begin_s\", \"end_s\"])\n",
    "for tr in df.audio_trace:\n",
    "    trimmed, begin, end = trim_silence(tr, rel_thr=5e-2)\n",
    "    row = dict( trimmed_trace=[trimmed], \n",
    "                begin_s=begin/SAMPLING_RATE*DECIMATION_FACTOR, \n",
    "                end_s=end/SAMPLING_RATE*DECIMATION_FACTOR)\n",
    "    row = pd.DataFrame(row, index=[0])\n",
    "    trimmed_df = pd.concat([trimmed_df, row], ignore_index=True)\n",
    "\n",
    "try:\n",
    "    df.drop(columns=[\"trimmed_trace\", \"begin_s\", \"end_s\"], inplace=True)\n",
    "except KeyError as e:\n",
    "    print(e)\n",
    "    pass\n",
    "\n",
    "df = df.join(trimmed_df)"
   ]
  },
  {
   "cell_type": "markdown",
   "metadata": {},
   "source": [
    "check if the distribution of start time/ end time is related to actors' reactivity"
   ]
  },
  {
   "cell_type": "code",
   "execution_count": 6,
   "metadata": {},
   "outputs": [
    {
     "data": {
      "image/png": "[encoded data removed]",
      "text/plain": [
       "<Figure size 640x480 with 1 Axes>"
      ]
     },
     "metadata": {},
     "output_type": "display_data"
    }
   ],
   "source": [
    "sns.kdeplot(data =df, x=\"begin_s\", hue=\"actor\", legend=False);\n"
   ]
  },
  {
   "cell_type": "markdown",
   "metadata": {},
   "source": [
    "### Detrending"
   ]
  },
  {
   "cell_type": "code",
   "execution_count": 7,
   "metadata": {},
   "outputs": [
    {
     "name": "stdout",
     "output_type": "stream",
     "text": [
      "3.0473035542034983e-08 -1.704989029028754e-05\n"
     ]
    }
   ],
   "source": [
    "# First check if relevant linear trend is present\n",
    "from sklearn.linear_model import LinearRegression\n",
    "coeffs, intercepts = [], []\n",
    "for trace in df.trimmed_trace:\n",
    "    subsamp_trace = decimate(trace, q=8)\n",
    "    model = LinearRegression()\n",
    "    model.fit(np.arange(len(subsamp_trace)).reshape(-1,1), subsamp_trace)\n",
    "    coeffs.append(model.coef_)\n",
    "    intercepts.append(model.intercept_)\n",
    "print(np.mean(coeffs), np.mean(intercepts))"
   ]
  },
  {
   "cell_type": "code",
   "execution_count": 8,
   "metadata": {},
   "outputs": [
    {
     "name": "stdout",
     "output_type": "stream",
     "text": [
      "\"['detrended_trace'] not found in axis\"\n"
     ]
    }
   ],
   "source": [
    "from scipy.signal import detrend\n",
    "detrended_traces = pd.DataFrame(columns=[\"detrended_trace\"])\n",
    "for trace in df.trimmed_trace:\n",
    "    row = dict(detrended_trace=[detrend(trace)])\n",
    "    row = pd.DataFrame(row, index=[0])\n",
    "    detrended_traces = pd.concat([detrended_traces, row], ignore_index=True)\n",
    "    \n",
    "try:\n",
    "    df.drop(columns=[\"detrended_trace\"], inplace=True)\n",
    "except KeyError as e:\n",
    "    print(e)\n",
    "    pass\n",
    "df = df.join(detrended_traces)"
   ]
  },
  {
   "cell_type": "markdown",
   "metadata": {},
   "source": [
    "### Amplitude Normalization"
   ]
  },
  {
   "cell_type": "code",
   "execution_count": 9,
   "metadata": {},
   "outputs": [
    {
     "name": "stdout",
     "output_type": "stream",
     "text": [
      "\"['normalized_trace'] not found in axis\"\n"
     ]
    }
   ],
   "source": [
    "normalized_traces = pd.DataFrame(columns = [\"normalized_trace\"])\n",
    "for det_trace in df.detrended_trace:\n",
    "    row = dict(normalized_trace=[(det_trace - np.mean(det_trace))/np.std(det_trace)])\n",
    "    row = pd.DataFrame(row, index=[0])\n",
    "    normalized_traces = pd.concat([normalized_traces, row], ignore_index=True)\n",
    "try:\n",
    "    df.drop(columns=[\"normalized_trace\"], inplace=True)\n",
    "except KeyError as e:\n",
    "    print(e)\n",
    "    pass\n",
    "df = df.join(normalized_traces)"
   ]
  },
  {
   "cell_type": "markdown",
   "metadata": {},
   "source": [
    "### Denoising (is it done right?)"
   ]
  },
  {
   "cell_type": "code",
   "execution_count": null,
   "metadata": {},
   "outputs": [],
   "source": [
    "denoised_traces = pd.DataFrame(columns=[\"denoised_trace\"])\n",
    "window=20\n",
    "for norm_trace in df.normalized_trace:\n",
    "    row = pd.DataFrame([[np.convolve(norm_trace, np.ones(window)/window, mode='valid')]], index=[0], columns=[\"denoised_trace\"])\n",
    "    denoised_traces = pd.concat([denoised_traces, row], ignore_index=True)\n",
    "\n",
    "try:\n",
    "    df.drop(columns=[\"denoised_trace\"], inplace=True)\n",
    "except KeyError as e:\n",
    "    pass\n",
    "\n",
    "df = df.join(denoised_traces)"
   ]
  },
  {
   "cell_type": "markdown",
   "metadata": {},
   "source": [
    "recompute the numerical attribute list"
   ]
  },
  {
   "cell_type": "code",
   "execution_count": null,
   "metadata": {},
   "outputs": [],
   "source": [
    "recompute_numeric_categorical(df)"
   ]
  },
  {
   "cell_type": "markdown",
   "metadata": {},
   "source": [
    "now check the difference in terms of perceived audio"
   ]
  },
  {
   "cell_type": "code",
   "execution_count": null,
   "metadata": {},
   "outputs": [],
   "source": [
    "Audio(df.audio_trace[58], rate=SAMPLING_RATE/DECIMATION_FACTOR)"
   ]
  },
  {
   "cell_type": "code",
   "execution_count": null,
   "metadata": {},
   "outputs": [],
   "source": [
    "Audio(df.denoised_trace[51], rate=SAMPLING_RATE/DECIMATION_FACTOR)"
   ]
  },
  {
   "cell_type": "code",
   "execution_count": null,
   "metadata": {},
   "outputs": [],
   "source": [
    "print(f\"dataset size is {sys.getsizeof(df)/1e6} MB\")"
   ]
  },
  {
   "cell_type": "markdown",
   "metadata": {},
   "source": [
    "## Phonetic traces\n",
    "Let's call the phonetic traces of the track the corase-grained properties of the audio track, that could correspond for example to the glottological properties of the sound particle(fricative, nasal, plosive, etc).\n",
    "Check if there is some sort of difference between the \"kids\" statement and the \"dogs\" statement, even if they are rythmically equivalent.\n",
    "\n",
    "Maybe a good starting point could be the clustering of the tracks using dtw distance on these coarse-grained timeseries."
   ]
  },
  {
   "cell_type": "code",
   "execution_count": null,
   "metadata": {},
   "outputs": [],
   "source": [
    "window_in_ms = 10.0 # Big window, is it coherent with the timescale of sound particles?\n",
    "window = int(window_in_ms*1e-3*SAMPLING_RATE/DECIMATION_FACTOR )\n",
    "track_N = 50\n",
    "\n",
    "rolled_signal = pd.Series(df.trimmed_trace[track_N]).rolling(window=window).std().fillna(0)\n",
    "phonetic_signal = decimate(rolled_signal,q=8) #GIGA downsampling\n",
    "print(len(phonetic_signal))\n",
    "plt.plot(np.linspace(0,1,len(df.trimmed_trace[track_N])), df.trimmed_trace[track_N], alpha=0.5)\n",
    "plt.plot(np.linspace(0,1,len(phonetic_signal)), phonetic_signal, color=\"k\")\n"
   ]
  },
  {
   "cell_type": "markdown",
   "metadata": {},
   "source": [
    "clearly the timeseries must be renormalized. I choose a minmaxscaler."
   ]
  },
  {
   "cell_type": "code",
   "execution_count": null,
   "metadata": {},
   "outputs": [],
   "source": [
    "def get_window_from_ms(window_in_ms, true_sampling_rate):\n",
    "    return int(window_in_ms*1e-3*true_sampling_rate )\n",
    "window = get_window_from_ms(10.0, SAMPLING_RATE/DECIMATION_FACTOR )\n",
    "downsampling_factor = 8\n",
    "\n",
    "phonetic_traces = pd.DataFrame(columns=[\"phonetic_trace\"])\n",
    "ph_traces_lengths = []\n",
    "\n",
    "for trim_trace in df.trimmed_trace:\n",
    "    rolled_signal = pd.Series(trim_trace).rolling(window=window).std().fillna(0)\n",
    "    phonetic_signal = decimate(rolled_signal,q=downsampling_factor)\n",
    "    ph_traces_lengths.append(len(phonetic_signal))\n",
    "    row = pd.DataFrame([[phonetic_signal]],columns=[\"phonetic_trace\"], index=[0])\n",
    "    phonetic_traces = pd.concat([phonetic_traces, row], ignore_index=True)\n",
    "    \n",
    "try:\n",
    "    df.drop(columns=[\"phonetic_trace\"], inplace=True)\n",
    "except KeyError as e:\n",
    "    print(e)\n",
    "    pass\n",
    "\n",
    "df = df.join(phonetic_traces)\n",
    "recompute_numeric_categorical(df)"
   ]
  },
  {
   "cell_type": "code",
   "execution_count": null,
   "metadata": {},
   "outputs": [],
   "source": [
    "df.head()"
   ]
  },
  {
   "cell_type": "markdown",
   "metadata": {},
   "source": [
    "Now standardise the length of the phonetic_signal. This is done by mapping each array in a fixed-length array. This length M is chosen to be the minimum of the lengths.\n",
    "The map is done by selecting uniformly M integers from the interval (0, len(trace))"
   ]
  },
  {
   "cell_type": "code",
   "execution_count": null,
   "metadata": {},
   "outputs": [],
   "source": [
    "from sklearn.preprocessing import MinMaxScaler\n",
    "\n",
    "time_rescale  = True\n",
    "if time_rescale:\n",
    "    std_len = min(2000, np.min(ph_traces_lengths))\n",
    "    print(f\"standard_lenght is set to {std_len}\")\n",
    "    \n",
    "standardised_phonetic_traces = pd.DataFrame(columns=[\"std_phon_trace\", \"t_rescale_factor\"])\n",
    "for tr,trimmed_tr in zip(df.phonetic_trace,df.trimmed_trace):\n",
    "    \n",
    "    # Generates the downsampling indexes\n",
    "    if time_rescale:\n",
    "        indexes = (len(tr)-1)*(np.linspace(0,1,std_len))\n",
    "        indexes = indexes.astype(int)\n",
    "        time_rescale_factor = len(trimmed_tr)/std_len\n",
    "\n",
    "        # Check repeated values\n",
    "        indexes, counts = np.unique(indexes, return_counts=True)\n",
    "        if (counts>1).any():\n",
    "            print(\"repeated index\")\n",
    "    else:\n",
    "        indexes = np.arange(len(tr))\n",
    "        \n",
    "    # Scales the signal here\n",
    "    phonetic_signal = MinMaxScaler().fit_transform(tr[indexes].reshape(-1,1)).reshape(-1)\n",
    "    row = pd.DataFrame([[phonetic_signal, time_rescale_factor]], columns=[\"std_phon_trace\", \"t_rescale_factor\"], index=[0])\n",
    "    standardised_phonetic_traces = pd.concat([standardised_phonetic_traces, row], ignore_index=True)\n",
    "\n",
    "try:\n",
    "    df.drop(columns=[\"std_phon_trace\", \"t_rescale_factor\"], inplace=True)\n",
    "except KeyError as e:\n",
    "    print(e)\n",
    "    pass\n",
    "\n",
    "df = df.join(standardised_phonetic_traces)\n",
    "recompute_numeric_categorical(df)"
   ]
  },
  {
   "cell_type": "code",
   "execution_count": null,
   "metadata": {},
   "outputs": [],
   "source": [
    "df.head()"
   ]
  },
  {
   "cell_type": "markdown",
   "metadata": {},
   "source": [
    "## Division in syllables\n",
    "As a test, I try to divide the signal into adaptive windows corresponding to the syllables\n",
    "\n",
    "- kidz-a-taw-kin-by-the-doo\n",
    "- dogz-a-sit-ting-by-the-doo\n"
   ]
  },
  {
   "cell_type": "code",
   "execution_count": null,
   "metadata": {},
   "outputs": [],
   "source": [
    "%load_ext autoreload\n",
    "%autoreload 2\n",
    "\n",
    "from phonetic_stuff import PhoneticList, SyllablesDivider"
   ]
  },
  {
   "cell_type": "code",
   "execution_count": null,
   "metadata": {},
   "outputs": [],
   "source": [
    "# Iniializes the phonetic list\n",
    "ph_list = PhoneticList.from_tracks(df.denoised_trace, [SAMPLING_RATE/DECIMATION_FACTOR]*len(df), 17.0, decimate=2)\n",
    "\n",
    "# Defines the syllable divider\n",
    "divider = SyllablesDivider(min_size_ms=8.0, \n",
    "                           smoothing_window_ms=20.0,\n",
    "                           n_syllables=7,\n",
    "                           #derivative_threshold=0.12 #deprecated\n",
    "                          )\n",
    "\n",
    "start_indexes, start_times = divider.get_start_points(ph_list, return_times=True, endpoint=True)"
   ]
  },
  {
   "cell_type": "code",
   "execution_count": null,
   "metadata": {},
   "outputs": [],
   "source": [
    "# Plots for a test track\n",
    "test_track_index = 50\n",
    "\n",
    "original_audio = df.denoised_trace[test_track_index]\n",
    "original_time = np.linspace(0, len(original_audio)/(SAMPLING_RATE/DECIMATION_FACTOR), len(original_audio))\n",
    "\n",
    "fig, ax = plt.subplots(figsize=default_style.SHORT_FULLSIZE_FIGURE)\n",
    "\n",
    "ax.plot(original_time, original_audio, alpha=0.2, label=\"trimmed audio\")\n",
    "ax.plot(ph_list.elements[test_track_index].time,ph_list.elements[test_track_index].track, label=\"short-time intensity\")\n",
    "\n",
    "flag = False\n",
    "for st in start_times[test_track_index]:\n",
    "    ax.axvline(st, color=\"k\", ls=\":\", label=\"syllable start\" if not flag else \"\")\n",
    "    flag=True\n",
    "ax.set_xlabel(\"Time [s]\")\n",
    "ax.set_yticks([])\n",
    "plt.legend()\n",
    "plt.savefig(\"../images/timeseries_syllables.pdf\")"
   ]
  },
  {
   "cell_type": "code",
   "execution_count": null,
   "metadata": {},
   "outputs": [],
   "source": [
    "# Some stats of the syllables\n",
    "syllables = [\"bugs\", \"a\", \"ta\", \"ping\", \"by\", \"da\", \"dough\"]\n",
    "start_times = np.array(start_times)\n",
    "u = np.diff(start_times, axis=-1)\n",
    "\n",
    "syll_duration_df = pd.DataFrame(u, columns=syllables)\n",
    "syll_duration_df = syll_duration_df.join(df[categorical_attr_list])\n",
    "sns.kdeplot(data=syll_duration_df, x=\"dough\", hue=\"vocal_channel\")\n",
    "sns.kdeplot(data=syll_duration_df, x=\"by\", hue=\"vocal_channel\")\n",
    "\n",
    "plt.legend()\n",
    "# plt.yscale(\"log\")"
   ]
  },
  {
   "cell_type": "code",
   "execution_count": null,
   "metadata": {},
   "outputs": [],
   "source": [
    "# Splits the original track in syllables\n",
    "first_syllable_start = []\n",
    "first_syllable_end = []\n",
    "syll_index = divider.get_start_points(ph_list)\n",
    "\n",
    "for i in range(len(ph_list)):\n",
    "    first_syllable_start.append(ph_list[i].get_index_in_original_audio(syll_index[i][0]))\n",
    "    first_syllable_end.append(ph_list[i].get_index_in_original_audio(syll_index[i][1]))\n"
   ]
  },
  {
   "cell_type": "code",
   "execution_count": null,
   "metadata": {},
   "outputs": [],
   "source": []
  },
  {
   "cell_type": "markdown",
   "metadata": {},
   "source": [
    "## SAX & PAA\n",
    "clearly sax is preferable"
   ]
  },
  {
   "cell_type": "code",
   "execution_count": null,
   "metadata": {},
   "outputs": [],
   "source": [
    "from tslearn.piecewise import OneD_SymbolicAggregateApproximation as SAX1d, SymbolicAggregateApproximation as SAX\n",
    "from tslearn.piecewise import PiecewiseAggregateApproximation as PAA\n",
    "from tslearn.utils import to_time_series_dataset\n",
    "\n",
    "sax = SAX1d( n_segments=20,\n",
    "          alphabet_size_avg=128, \n",
    "          alphabet_size_slope=128)\n",
    "\n",
    "paa = PAA(n_segments=20)\n",
    "\n",
    "\n",
    "track = df.std_phon_trace[0]\n",
    "print(len(track))\n",
    "plt.plot(track)\n",
    "plt.plot(np.linspace(0,std_len,len(df.trimmed_trace[0])), df.trimmed_trace[0], alpha=0.4)\n",
    "print(len(df.trimmed_trace[0]))\n",
    "for approximator in [sax, paa]:\n",
    "\n",
    "    reduced_track = approximator.inverse_transform(approximator.fit_transform(to_time_series_dataset(track)))\n",
    "    print(reduced_track.shape)\n",
    "    reduced_track = reduced_track.reshape(-1)\n",
    "    plt.plot(reduced_track, ls=\"\", marker=\".\")"
   ]
  },
  {
   "cell_type": "code",
   "execution_count": null,
   "metadata": {},
   "outputs": [],
   "source": [
    "Audio(df.trimmed_trace[1][:int(850*df.t_rescale_factor[1])], rate=SAMPLING_RATE/DECIMATION_FACTOR)"
   ]
  },
  {
   "cell_type": "markdown",
   "metadata": {},
   "source": [
    "So each track is SAX transformed"
   ]
  },
  {
   "cell_type": "code",
   "execution_count": null,
   "metadata": {},
   "outputs": [],
   "source": [
    "sax = SAX1d( n_segments=50,\n",
    "          alphabet_size_avg=64, \n",
    "          alphabet_size_slope=100)\n",
    "sax_tracks = sax.fit_transform(to_time_series_dataset(df.std_phon_trace[:10]))\n",
    "sax_tracks.shape"
   ]
  },
  {
   "cell_type": "code",
   "execution_count": null,
   "metadata": {},
   "outputs": [],
   "source": [
    "# All to all dtw distance\n",
    "# from tslearn.metrics import cdist_dtw\n",
    "# kids_traces = df.std_phon_trace[df.statement==\"kids\"].values\n",
    "# dogs_traces = df.std_phon_trace[df.statement==\"dogs\"].values\n",
    "# mat = cdist_dtw(kids_traces[:40], kids_traces[:40], global_constraint=\"itakura\", itakura_max_slope=2, n_jobs=-1)"
   ]
  },
  {
   "cell_type": "code",
   "execution_count": null,
   "metadata": {},
   "outputs": [],
   "source": [
    "# plt.imshow(mat)\n",
    "# plt.grid(\"\")"
   ]
  },
  {
   "cell_type": "code",
   "execution_count": null,
   "metadata": {},
   "outputs": [],
   "source": [
    "# df[df.statement==\"kids\"].reset_index().loc[:20]"
   ]
  },
  {
   "cell_type": "code",
   "execution_count": null,
   "metadata": {},
   "outputs": [],
   "source": []
  }
 ],
 "metadata": {
  "kernelspec": {
   "display_name": "DM2",
   "language": "python",
   "name": "dm2"
  },
  "language_info": {
   "codemirror_mode": {
    "name": "ipython",
    "version": 3
   },
   "file_extension": ".py",
   "mimetype": "text/x-python",
   "name": "python",
   "nbconvert_exporter": "python",
   "pygments_lexer": "ipython3",
   "version": "3.10.6"
  }
 },
 "nbformat": 4,
 "nbformat_minor": 2
}
