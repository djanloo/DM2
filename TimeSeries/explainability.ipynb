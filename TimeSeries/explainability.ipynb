{
 "cells": [
  {
   "cell_type": "code",
   "execution_count": 1,
   "metadata": {
    "collapsed": true,
    "ExecuteTime": {
     "end_time": "2023-06-30T09:58:02.614957Z",
     "start_time": "2023-06-30T09:58:02.612195Z"
    }
   },
   "outputs": [],
   "source": [
    "import os\n",
    "import numpy as np\n",
    "import pandas as pd\n",
    "import matplotlib.pyplot as plt\n",
    "import seaborn as sns; sns.set()\n",
    "\n",
    "import sys\n",
    "\n",
    "sys.path.append('../')\n",
    "import default_style"
   ]
  },
  {
   "cell_type": "code",
   "execution_count": 2,
   "outputs": [],
   "source": [
    "TS_DATASET_FOLDER = os.path.join('..', 'dataset')\n",
    "TS_PREPROC_FOLDER = os.path.join(TS_DATASET_FOLDER, 'preprocessed_traces')\n",
    "DF_PREPROC_FILE = os.path.join(TS_PREPROC_FOLDER, 'preproc_ts.df')\n",
    "\n",
    "TARGET = 'statement'\n",
    "TRACES = 'syllables_02_STFT'"
   ],
   "metadata": {
    "collapsed": false,
    "ExecuteTime": {
     "end_time": "2023-06-30T09:58:02.617841Z",
     "start_time": "2023-06-30T09:58:02.615380Z"
    }
   }
  },
  {
   "cell_type": "code",
   "execution_count": 3,
   "outputs": [
    {
     "data": {
      "text/plain": "  vocal_channel  emotion emotional_intensity statement repetition     actor   \n0        speech  neutral              normal      kids        1st  actor_01  \\\n1        speech  neutral              normal      kids        2nd  actor_01   \n2        speech  neutral              normal      dogs        1st  actor_01   \n3        speech  neutral              normal      dogs        2nd  actor_01   \n4        speech     calm              normal      kids        1st  actor_01   \n\n                                                path sex   begin_s     end_s   \n0  ../dataset/Audio_Speech_Actors_01-24/Actor_01/...   M  1.009833  2.252000  \\\n1  ../dataset/Audio_Speech_Actors_01-24/Actor_01/...   M  1.068500  2.294667   \n2  ../dataset/Audio_Speech_Actors_01-24/Actor_01/...   M  1.012000  2.238500   \n3  ../dataset/Audio_Speech_Actors_01-24/Actor_01/...   M  1.008833  2.187167   \n4  ../dataset/Audio_Speech_Actors_01-24/Actor_01/...   M  1.023667  2.534167   \n\n                                      fourier_coeffs   \n0  [1.9371510e-07 1.2311488e-02 1.1168750e-02 ......  \\\n1  [3.5017729e-07 2.6199006e-02 2.5683409e-02 ......   \n2  [2.4959445e-07 1.2348385e-02 1.0678725e-02 ......   \n3  [1.1920929e-07 1.2154797e-02 1.6620804e-02 ......   \n4  [1.1920929e-07 2.0026919e-03 7.9689088e-04 ......   \n\n                             filtered_fourier_coeffs  syll_0_start_index   \n0  [1.9371510e-07 1.2311473e-02 1.1168692e-02 ......                   0  \\\n1  [3.5017729e-07 2.6198970e-02 2.5683273e-02 ......                   0   \n2  [2.49594450e-07 1.23483688e-02 1.06786685e-02 ...                   0   \n3  [1.1920929e-07 1.2154780e-02 1.6620707e-02 ......                   0   \n4  [1.1920929e-07 2.0026902e-03 7.9688808e-04 ......                   0   \n\n   syll_1_start_index  syll_2_start_index  syll_3_start_index   \n0                1128                2240                3200  \\\n1                2008                3208                3880   \n2                2816                3352                3912   \n3                1664                2664                3208   \n4                2088                3584                4832   \n\n   syll_4_start_index  syll_5_start_index  syll_6_start_index   \n0                4304                5208                5808  \\\n1                4224                5112                5800   \n2                4296                5232                5880   \n3                3672                4840                5448   \n4                5800                6944                7560   \n\n   syll_7_start_index  \n0                7448  \n1                7352  \n2                7352  \n3                7064  \n4                9056  ",
      "text/html": "<div>\n<style scoped>\n    .dataframe tbody tr th:only-of-type {\n        vertical-align: middle;\n    }\n\n    .dataframe tbody tr th {\n        vertical-align: top;\n    }\n\n    .dataframe thead th {\n        text-align: right;\n    }\n</style>\n<table border=\"1\" class=\"dataframe\">\n  <thead>\n    <tr style=\"text-align: right;\">\n      <th></th>\n      <th>vocal_channel</th>\n      <th>emotion</th>\n      <th>emotional_intensity</th>\n      <th>statement</th>\n      <th>repetition</th>\n      <th>actor</th>\n      <th>path</th>\n      <th>sex</th>\n      <th>begin_s</th>\n      <th>end_s</th>\n      <th>fourier_coeffs</th>\n      <th>filtered_fourier_coeffs</th>\n      <th>syll_0_start_index</th>\n      <th>syll_1_start_index</th>\n      <th>syll_2_start_index</th>\n      <th>syll_3_start_index</th>\n      <th>syll_4_start_index</th>\n      <th>syll_5_start_index</th>\n      <th>syll_6_start_index</th>\n      <th>syll_7_start_index</th>\n    </tr>\n  </thead>\n  <tbody>\n    <tr>\n      <th>0</th>\n      <td>speech</td>\n      <td>neutral</td>\n      <td>normal</td>\n      <td>kids</td>\n      <td>1st</td>\n      <td>actor_01</td>\n      <td>../dataset/Audio_Speech_Actors_01-24/Actor_01/...</td>\n      <td>M</td>\n      <td>1.009833</td>\n      <td>2.252000</td>\n      <td>[1.9371510e-07 1.2311488e-02 1.1168750e-02 ......</td>\n      <td>[1.9371510e-07 1.2311473e-02 1.1168692e-02 ......</td>\n      <td>0</td>\n      <td>1128</td>\n      <td>2240</td>\n      <td>3200</td>\n      <td>4304</td>\n      <td>5208</td>\n      <td>5808</td>\n      <td>7448</td>\n    </tr>\n    <tr>\n      <th>1</th>\n      <td>speech</td>\n      <td>neutral</td>\n      <td>normal</td>\n      <td>kids</td>\n      <td>2nd</td>\n      <td>actor_01</td>\n      <td>../dataset/Audio_Speech_Actors_01-24/Actor_01/...</td>\n      <td>M</td>\n      <td>1.068500</td>\n      <td>2.294667</td>\n      <td>[3.5017729e-07 2.6199006e-02 2.5683409e-02 ......</td>\n      <td>[3.5017729e-07 2.6198970e-02 2.5683273e-02 ......</td>\n      <td>0</td>\n      <td>2008</td>\n      <td>3208</td>\n      <td>3880</td>\n      <td>4224</td>\n      <td>5112</td>\n      <td>5800</td>\n      <td>7352</td>\n    </tr>\n    <tr>\n      <th>2</th>\n      <td>speech</td>\n      <td>neutral</td>\n      <td>normal</td>\n      <td>dogs</td>\n      <td>1st</td>\n      <td>actor_01</td>\n      <td>../dataset/Audio_Speech_Actors_01-24/Actor_01/...</td>\n      <td>M</td>\n      <td>1.012000</td>\n      <td>2.238500</td>\n      <td>[2.4959445e-07 1.2348385e-02 1.0678725e-02 ......</td>\n      <td>[2.49594450e-07 1.23483688e-02 1.06786685e-02 ...</td>\n      <td>0</td>\n      <td>2816</td>\n      <td>3352</td>\n      <td>3912</td>\n      <td>4296</td>\n      <td>5232</td>\n      <td>5880</td>\n      <td>7352</td>\n    </tr>\n    <tr>\n      <th>3</th>\n      <td>speech</td>\n      <td>neutral</td>\n      <td>normal</td>\n      <td>dogs</td>\n      <td>2nd</td>\n      <td>actor_01</td>\n      <td>../dataset/Audio_Speech_Actors_01-24/Actor_01/...</td>\n      <td>M</td>\n      <td>1.008833</td>\n      <td>2.187167</td>\n      <td>[1.1920929e-07 1.2154797e-02 1.6620804e-02 ......</td>\n      <td>[1.1920929e-07 1.2154780e-02 1.6620707e-02 ......</td>\n      <td>0</td>\n      <td>1664</td>\n      <td>2664</td>\n      <td>3208</td>\n      <td>3672</td>\n      <td>4840</td>\n      <td>5448</td>\n      <td>7064</td>\n    </tr>\n    <tr>\n      <th>4</th>\n      <td>speech</td>\n      <td>calm</td>\n      <td>normal</td>\n      <td>kids</td>\n      <td>1st</td>\n      <td>actor_01</td>\n      <td>../dataset/Audio_Speech_Actors_01-24/Actor_01/...</td>\n      <td>M</td>\n      <td>1.023667</td>\n      <td>2.534167</td>\n      <td>[1.1920929e-07 2.0026919e-03 7.9689088e-04 ......</td>\n      <td>[1.1920929e-07 2.0026902e-03 7.9688808e-04 ......</td>\n      <td>0</td>\n      <td>2088</td>\n      <td>3584</td>\n      <td>4832</td>\n      <td>5800</td>\n      <td>6944</td>\n      <td>7560</td>\n      <td>9056</td>\n    </tr>\n  </tbody>\n</table>\n</div>"
     },
     "execution_count": 3,
     "metadata": {},
     "output_type": "execute_result"
    }
   ],
   "source": [
    "df = pd.read_csv(DF_PREPROC_FILE).drop(columns=['Unnamed: 0'])\n",
    "df.head()"
   ],
   "metadata": {
    "collapsed": false,
    "ExecuteTime": {
     "end_time": "2023-06-30T09:58:02.649776Z",
     "start_time": "2023-06-30T09:58:02.618787Z"
    }
   }
  },
  {
   "cell_type": "code",
   "execution_count": 4,
   "outputs": [
    {
     "data": {
      "text/plain": "(2452, 27, 27)"
     },
     "execution_count": 4,
     "metadata": {},
     "output_type": "execute_result"
    }
   ],
   "source": [
    "file_path = os.path.join(TS_PREPROC_FOLDER, f'{TRACES}.npy')\n",
    "traces = np.load(file_path, allow_pickle=True)\n",
    "\n",
    "traces.shape"
   ],
   "metadata": {
    "collapsed": false,
    "ExecuteTime": {
     "end_time": "2023-06-30T09:58:02.657623Z",
     "start_time": "2023-06-30T09:58:02.644039Z"
    }
   }
  },
  {
   "cell_type": "markdown",
   "source": [
    "# RGB format"
   ],
   "metadata": {
    "collapsed": false
   }
  },
  {
   "cell_type": "code",
   "execution_count": 5,
   "outputs": [],
   "source": [
    "\"\"\"\n",
    "# array of empty RGB matrixes\n",
    "rgb_traces = np.zeros((len(traces), traces.shape[1], traces.shape[2], 3), dtype=np.float32)\n",
    "\n",
    "for i in range(len(traces)):\n",
    "    trace = traces[i]\n",
    "\n",
    "    min_value = np.min(trace)\n",
    "    max_value = np.max(trace)\n",
    "    normalized_trace = (trace - min_value) / (max_value - min_value)\n",
    "\n",
    "    red_channel = normalized_trace\n",
    "    green_channel = np.zeros_like(normalized_trace)\n",
    "    blue_channel = np.zeros_like(normalized_trace)\n",
    "\n",
    "    rgb_trace = np.dstack((red_channel, green_channel, blue_channel))\n",
    "    rgb_traces[i] = rgb_trace\n",
    "\n",
    "\n",
    "display(rgb_traces.shape)\n",
    "\n",
    "\"\"\"\n",
    "from PIL import Image\n",
    "\n",
    "rgb_traces = []\n",
    "\n",
    "for i in range(len(traces)):\n",
    "    trace = traces[i]\n",
    "\n",
    "    min_value = np.min(trace)\n",
    "    max_value = np.max(trace)\n",
    "    normalized_trace = (trace - min_value) / (max_value - min_value)\n",
    "\n",
    "    normalized_trace = (normalized_trace * 255).astype(np.uint8)\n",
    "\n",
    "    rgb_trace = Image.fromarray(normalized_trace, mode='L').convert('RGB')\n",
    "\n",
    "    rgb_traces.append(rgb_trace)\n",
    "\n",
    "\n",
    "rgb_traces = np.array([np.array(trace) for trace in rgb_traces])"
   ],
   "metadata": {
    "collapsed": false,
    "ExecuteTime": {
     "end_time": "2023-06-30T09:58:02.782246Z",
     "start_time": "2023-06-30T09:58:02.660168Z"
    }
   }
  },
  {
   "cell_type": "code",
   "execution_count": 6,
   "outputs": [
    {
     "data": {
      "text/plain": "<Figure size 354.331x236.22 with 1 Axes>",
      "image/png": "[encoded data removed]"
     },
     "metadata": {},
     "output_type": "display_data"
    }
   ],
   "source": [
    "plt.imshow(rgb_traces[0])\n",
    "plt.axis('off')\n",
    "plt.show()"
   ],
   "metadata": {
    "collapsed": false,
    "ExecuteTime": {
     "end_time": "2023-06-30T09:58:02.848766Z",
     "start_time": "2023-06-30T09:58:02.766337Z"
    }
   }
  },
  {
   "cell_type": "markdown",
   "source": [
    "# Training, Validation and Test Sets Preparation"
   ],
   "metadata": {
    "collapsed": false
   }
  },
  {
   "cell_type": "code",
   "execution_count": 7,
   "outputs": [
    {
     "data": {
      "text/plain": "array([[[132, 132, 132],\n        [134, 134, 134],\n        [139, 139, 139],\n        ...,\n        [107, 107, 107],\n        [ 92,  92,  92],\n        [ 84,  84,  84]],\n\n       [[124, 124, 124],\n        [151, 151, 151],\n        [154, 154, 154],\n        ...,\n        [ 84,  84,  84],\n        [ 69,  69,  69],\n        [ 74,  74,  74]],\n\n       [[ 99,  99,  99],\n        [137, 137, 137],\n        [130, 130, 130],\n        ...,\n        [ 86,  86,  86],\n        [107, 107, 107],\n        [ 87,  87,  87]],\n\n       ...,\n\n       [[ 77,  77,  77],\n        [194, 194, 194],\n        [192, 192, 192],\n        ...,\n        [ 47,  47,  47],\n        [ 54,  54,  54],\n        [ 56,  56,  56]],\n\n       [[127, 127, 127],\n        [162, 162, 162],\n        [173, 173, 173],\n        ...,\n        [ 63,  63,  63],\n        [ 67,  67,  67],\n        [ 66,  66,  66]],\n\n       [[158, 158, 158],\n        [180, 180, 180],\n        [169, 169, 169],\n        ...,\n        [ 88,  88,  88],\n        [ 82,  82,  82],\n        [ 76,  76,  76]]], dtype=uint8)"
     },
     "execution_count": 7,
     "metadata": {},
     "output_type": "execute_result"
    }
   ],
   "source": [
    "# sort by actors\n",
    "sorted_indices = df['actor'].argsort()\n",
    "df = df.iloc[sorted_indices].reset_index(drop=True)\n",
    "\n",
    "rgb_traces = rgb_traces[sorted_indices]\n",
    "\n",
    "rgb_traces[0]"
   ],
   "metadata": {
    "collapsed": false,
    "ExecuteTime": {
     "end_time": "2023-06-30T09:58:02.858585Z",
     "start_time": "2023-06-30T09:58:02.851878Z"
    }
   }
  },
  {
   "cell_type": "code",
   "execution_count": 8,
   "outputs": [
    {
     "data": {
      "text/plain": "((1462, 27, 27, 3),\n (366, 27, 27, 3),\n (624, 27, 27, 3),\n (1462,),\n (366,),\n (624,))"
     },
     "execution_count": 8,
     "metadata": {},
     "output_type": "execute_result"
    }
   ],
   "source": [
    "from sklearn.model_selection import train_test_split\n",
    "\n",
    "split_index = df[df['actor'] == 'actor_19'].index[0]\n",
    "\n",
    "X_train = rgb_traces[:split_index]\n",
    "X_test = rgb_traces[split_index:]\n",
    "\n",
    "y_train = df[TARGET][:split_index].to_numpy()\n",
    "y_test = df[TARGET][split_index:].to_numpy()\n",
    "\n",
    "X_train_v, X_valid, y_train_v, y_valid = train_test_split(X_train, y_train, test_size=0.2, random_state=100)\n",
    "\n",
    "X_train_v.shape, X_valid.shape, X_test.shape, y_train_v.shape, y_valid.shape, y_test.shape"
   ],
   "metadata": {
    "collapsed": false,
    "ExecuteTime": {
     "end_time": "2023-06-30T09:58:03.047806Z",
     "start_time": "2023-06-30T09:58:02.860710Z"
    }
   }
  },
  {
   "cell_type": "markdown",
   "source": [
    "# CNN"
   ],
   "metadata": {
    "collapsed": false
   }
  },
  {
   "cell_type": "code",
   "execution_count": 9,
   "outputs": [],
   "source": [
    "from sklearn.preprocessing import LabelEncoder\n",
    "\n",
    "label_encoder = LabelEncoder()\n",
    "\n",
    "y_train = label_encoder.fit_transform(y_train)\n",
    "y_train_v = label_encoder.fit_transform(y_train_v)\n",
    "y_valid = label_encoder.transform(y_valid)\n",
    "y_test = label_encoder.transform(y_test)"
   ],
   "metadata": {
    "collapsed": false,
    "ExecuteTime": {
     "end_time": "2023-06-30T09:58:03.052512Z",
     "start_time": "2023-06-30T09:58:03.050071Z"
    }
   }
  },
  {
   "cell_type": "code",
   "execution_count": 10,
   "outputs": [],
   "source": [
    "from keras.src.layers import Conv2D, BatchNormalization, Activation, Dropout, GlobalAveragePooling2D, Dense\n",
    "from keras import Sequential\n",
    "\n",
    "\n",
    "def build_model(input_shape, n_categories,\n",
    "                n_conv=0, n_hidden=0, hidden_nodes=32,\n",
    "                dropout=0.01, filters=8, kernel_size=5, **kwargs):\n",
    "\n",
    "    model = Sequential()\n",
    "\n",
    "    model.add(Conv2D(filters=filters,\n",
    "                     kernel_size=(kernel_size, kernel_size),\n",
    "                     activation='relu',\n",
    "                     input_shape=input_shape,\n",
    "                     padding='same'\n",
    "                     ))\n",
    "\n",
    "    model.add(BatchNormalization())\n",
    "    model.add(Activation('relu'))\n",
    "\n",
    "    for _ in range(n_conv):\n",
    "        model.add(Conv2D(filters=filters, kernel_size=kernel_size, activation='relu', padding='same'))\n",
    "        model.add(BatchNormalization())\n",
    "        model.add(Activation('relu'))\n",
    "\n",
    "        model.add(Dropout(dropout))\n",
    "\n",
    "    model.add(GlobalAveragePooling2D())\n",
    "\n",
    "    for _ in range(n_hidden):\n",
    "        model.add(Dense(hidden_nodes, activation='relu'))\n",
    "\n",
    "    model.add(Dense(n_categories, activation='softmax'))\n",
    "    model.compile(loss='sparse_categorical_crossentropy', optimizer='adam', metrics=['accuracy'])\n",
    "\n",
    "    return model"
   ],
   "metadata": {
    "collapsed": false,
    "ExecuteTime": {
     "end_time": "2023-06-30T09:58:06.455883Z",
     "start_time": "2023-06-30T09:58:03.056473Z"
    }
   }
  },
  {
   "cell_type": "code",
   "execution_count": 11,
   "outputs": [],
   "source": [
    "import optuna\n",
    "from sklearn.metrics import accuracy_score\n",
    "\n",
    "# objective function to be minimized\n",
    "def objective_fun(trial):\n",
    "\n",
    "    n_conv = trial.suggest_int('n_conv', 0, 3)\n",
    "    n_hidden = trial.suggest_int('n_hidden', 0, 3)\n",
    "    hidden_nodes = trial.suggest_int('hidden_nodes', 8, 256)\n",
    "    dropout = trial.suggest_float('dropout', 0, 0.3)\n",
    "    filters = trial.suggest_int('filters', 2, 16)\n",
    "    kernel_size = trial.suggest_int('kernel_size', 2, 16)\n",
    "    batch_size = trial.suggest_int('batch_size', 16, 64)\n",
    "    epochs = trial.suggest_int('epochs', 5, 90)\n",
    "\n",
    "    print(f'Running little bitch having n_conv={n_conv}, dropout={dropout}, hidden_nodes={hidden_nodes}')\n",
    "\n",
    "    cnn = build_model(X_train_v.shape[1:], len(np.unique(y_train_v)),\n",
    "                      n_hidden=n_hidden,\n",
    "                      hidden_nodes=hidden_nodes,\n",
    "                      n_conv=n_conv,\n",
    "                      dropout=dropout,\n",
    "                      filters=filters,\n",
    "                      kernel_size=kernel_size,\n",
    "                      )\n",
    "\n",
    "    cnn.fit(X_train_v, y_train_v, batch_size=batch_size, epochs=epochs, verbose=False)\n",
    "\n",
    "    y_pred = np.argmax(cnn.predict(X_valid), axis=1)\n",
    "\n",
    "    error = accuracy_score(y_valid, y_pred)\n",
    "\n",
    "    return error\n",
    "\n",
    "\n",
    "#study = optuna.create_study(direction='maximize')\n",
    "#study.optimize(objective_fun, n_trials=50, n_jobs=-1, catch=ValueError)"
   ],
   "metadata": {
    "collapsed": false,
    "ExecuteTime": {
     "end_time": "2023-06-30T09:58:06.621650Z",
     "start_time": "2023-06-30T09:58:06.458307Z"
    }
   }
  },
  {
   "cell_type": "code",
   "execution_count": 12,
   "outputs": [
    {
     "data": {
      "text/plain": "{'n_conv': 2,\n 'n_hidden': 0,\n 'hidden_nodes': 128,\n 'dropout': 0.21975727231798456,\n 'filters': 5,\n 'kernel_size': 14,\n 'batch_size': 63,\n 'epochs': 59}"
     },
     "execution_count": 12,
     "metadata": {},
     "output_type": "execute_result"
    }
   ],
   "source": [
    "#best_params = study.best_params\n",
    "best_params = {'n_conv': 2, 'n_hidden': 0, 'hidden_nodes': 128, 'dropout': 0.21975727231798456, 'filters': 5, 'kernel_size': 14, 'batch_size': 63, 'epochs': 59}\n",
    "best_params"
   ],
   "metadata": {
    "collapsed": false,
    "ExecuteTime": {
     "end_time": "2023-06-30T09:58:06.625770Z",
     "start_time": "2023-06-30T09:58:06.622787Z"
    }
   }
  },
  {
   "cell_type": "code",
   "execution_count": 13,
   "outputs": [],
   "source": [
    "#cnn = build_model(X_train.shape[1:], 2, **best_params)\n",
    "#cnn.fit(X_train, y_train, epochs=75, batch_size=19, validation_split=0.2)"
   ],
   "metadata": {
    "collapsed": false,
    "ExecuteTime": {
     "end_time": "2023-06-30T09:58:06.628074Z",
     "start_time": "2023-06-30T09:58:06.626105Z"
    }
   }
  },
  {
   "cell_type": "code",
   "execution_count": 14,
   "outputs": [
    {
     "name": "stdout",
     "output_type": "stream",
     "text": [
      "Model: \"sequential\"\n",
      "_________________________________________________________________\n",
      " Layer (type)                Output Shape              Param #   \n",
      "=================================================================\n",
      " conv2d (Conv2D)             (None, 27, 27, 5)         2945      \n",
      "                                                                 \n",
      " batch_normalization (Batch  (None, 27, 27, 5)         20        \n",
      " Normalization)                                                  \n",
      "                                                                 \n",
      " activation (Activation)     (None, 27, 27, 5)         0         \n",
      "                                                                 \n",
      " conv2d_1 (Conv2D)           (None, 27, 27, 5)         4905      \n",
      "                                                                 \n",
      " batch_normalization_1 (Bat  (None, 27, 27, 5)         20        \n",
      " chNormalization)                                                \n",
      "                                                                 \n",
      " activation_1 (Activation)   (None, 27, 27, 5)         0         \n",
      "                                                                 \n",
      " dropout (Dropout)           (None, 27, 27, 5)         0         \n",
      "                                                                 \n",
      " conv2d_2 (Conv2D)           (None, 27, 27, 5)         4905      \n",
      "                                                                 \n",
      " batch_normalization_2 (Bat  (None, 27, 27, 5)         20        \n",
      " chNormalization)                                                \n",
      "                                                                 \n",
      " activation_2 (Activation)   (None, 27, 27, 5)         0         \n",
      "                                                                 \n",
      " dropout_1 (Dropout)         (None, 27, 27, 5)         0         \n",
      "                                                                 \n",
      " global_average_pooling2d (  (None, 5)                 0         \n",
      " GlobalAveragePooling2D)                                         \n",
      "                                                                 \n",
      " dense (Dense)               (None, 2)                 12        \n",
      "                                                                 \n",
      "=================================================================\n",
      "Total params: 12827 (50.11 KB)\n",
      "Trainable params: 12797 (49.99 KB)\n",
      "Non-trainable params: 30 (120.00 Byte)\n",
      "_________________________________________________________________\n"
     ]
    }
   ],
   "source": [
    "cnn = build_model(X_train.shape[1:], 2, **best_params)\n",
    "cnn.summary()"
   ],
   "metadata": {
    "collapsed": false,
    "ExecuteTime": {
     "end_time": "2023-06-30T09:58:06.765015Z",
     "start_time": "2023-06-30T09:58:06.628893Z"
    }
   }
  },
  {
   "cell_type": "code",
   "execution_count": 15,
   "outputs": [
    {
     "name": "stdout",
     "output_type": "stream",
     "text": [
      "Epoch 1/59\n",
      "30/30 [==============================] - 7s 213ms/step - loss: 0.4699 - accuracy: 0.8457\n",
      "Epoch 2/59\n",
      "30/30 [==============================] - 6s 208ms/step - loss: 0.3433 - accuracy: 0.9360\n",
      "Epoch 3/59\n",
      "30/30 [==============================] - 6s 216ms/step - loss: 0.2771 - accuracy: 0.9530\n",
      "Epoch 4/59\n",
      "30/30 [==============================] - 7s 230ms/step - loss: 0.2322 - accuracy: 0.9688\n",
      "Epoch 5/59\n",
      "30/30 [==============================] - 6s 209ms/step - loss: 0.2143 - accuracy: 0.9672\n",
      "Epoch 6/59\n",
      "30/30 [==============================] - 6s 212ms/step - loss: 0.1896 - accuracy: 0.9732\n",
      "Epoch 7/59\n",
      "30/30 [==============================] - 8s 277ms/step - loss: 0.1731 - accuracy: 0.9716\n",
      "Epoch 8/59\n",
      "30/30 [==============================] - 6s 201ms/step - loss: 0.1619 - accuracy: 0.9781\n",
      "Epoch 9/59\n",
      "30/30 [==============================] - 6s 203ms/step - loss: 0.1408 - accuracy: 0.9803\n",
      "Epoch 10/59\n",
      "30/30 [==============================] - 6s 198ms/step - loss: 0.1438 - accuracy: 0.9770\n",
      "Epoch 11/59\n",
      "30/30 [==============================] - 6s 214ms/step - loss: 0.1242 - accuracy: 0.9814\n",
      "Epoch 12/59\n",
      "30/30 [==============================] - 6s 196ms/step - loss: 0.1100 - accuracy: 0.9841\n",
      "Epoch 13/59\n",
      "30/30 [==============================] - 6s 198ms/step - loss: 0.1859 - accuracy: 0.9458\n",
      "Epoch 14/59\n",
      "30/30 [==============================] - 6s 206ms/step - loss: 0.1289 - accuracy: 0.9737\n",
      "Epoch 15/59\n",
      "30/30 [==============================] - 7s 220ms/step - loss: 0.1065 - accuracy: 0.9809\n",
      "Epoch 16/59\n",
      "30/30 [==============================] - 6s 213ms/step - loss: 0.1224 - accuracy: 0.9699\n",
      "Epoch 17/59\n",
      "30/30 [==============================] - 6s 203ms/step - loss: 0.1047 - accuracy: 0.9819\n",
      "Epoch 18/59\n",
      "30/30 [==============================] - 6s 202ms/step - loss: 0.1033 - accuracy: 0.9781\n",
      "Epoch 19/59\n",
      "30/30 [==============================] - 6s 201ms/step - loss: 0.1154 - accuracy: 0.9803\n",
      "Epoch 20/59\n",
      "30/30 [==============================] - 6s 206ms/step - loss: 0.0848 - accuracy: 0.9852\n",
      "Epoch 21/59\n",
      "30/30 [==============================] - 6s 205ms/step - loss: 0.0776 - accuracy: 0.9863\n",
      "Epoch 22/59\n",
      "30/30 [==============================] - 6s 204ms/step - loss: 0.0895 - accuracy: 0.9792\n",
      "Epoch 23/59\n",
      "30/30 [==============================] - 6s 207ms/step - loss: 0.0702 - accuracy: 0.9885\n",
      "Epoch 24/59\n",
      "30/30 [==============================] - 6s 205ms/step - loss: 0.0688 - accuracy: 0.9858\n",
      "Epoch 25/59\n",
      "30/30 [==============================] - 6s 205ms/step - loss: 0.0592 - accuracy: 0.9896\n",
      "Epoch 26/59\n",
      "30/30 [==============================] - 6s 206ms/step - loss: 0.0826 - accuracy: 0.9809\n",
      "Epoch 27/59\n",
      "30/30 [==============================] - 6s 208ms/step - loss: 0.0726 - accuracy: 0.9830\n",
      "Epoch 28/59\n",
      "30/30 [==============================] - 6s 207ms/step - loss: 0.0548 - accuracy: 0.9918\n",
      "Epoch 29/59\n",
      "30/30 [==============================] - 6s 210ms/step - loss: 0.0573 - accuracy: 0.9907\n",
      "Epoch 30/59\n",
      "30/30 [==============================] - 6s 210ms/step - loss: 0.0528 - accuracy: 0.9918\n",
      "Epoch 31/59\n",
      "30/30 [==============================] - 6s 209ms/step - loss: 0.0714 - accuracy: 0.9787\n",
      "Epoch 32/59\n",
      "30/30 [==============================] - 6s 215ms/step - loss: 0.0525 - accuracy: 0.9912\n",
      "Epoch 33/59\n",
      "30/30 [==============================] - 6s 208ms/step - loss: 0.0678 - accuracy: 0.9836\n",
      "Epoch 34/59\n",
      "30/30 [==============================] - 6s 209ms/step - loss: 0.0501 - accuracy: 0.9896\n",
      "Epoch 35/59\n",
      "30/30 [==============================] - 6s 214ms/step - loss: 0.0413 - accuracy: 0.9940\n",
      "Epoch 36/59\n",
      "30/30 [==============================] - 6s 208ms/step - loss: 0.0429 - accuracy: 0.9918\n",
      "Epoch 37/59\n",
      "30/30 [==============================] - 6s 207ms/step - loss: 0.0390 - accuracy: 0.9934\n",
      "Epoch 38/59\n",
      "30/30 [==============================] - 6s 207ms/step - loss: 0.0381 - accuracy: 0.9923\n",
      "Epoch 39/59\n",
      "30/30 [==============================] - 6s 206ms/step - loss: 0.0833 - accuracy: 0.9732\n",
      "Epoch 40/59\n",
      "30/30 [==============================] - 6s 206ms/step - loss: 0.0518 - accuracy: 0.9874\n",
      "Epoch 41/59\n",
      "30/30 [==============================] - 6s 205ms/step - loss: 0.0384 - accuracy: 0.9929\n",
      "Epoch 42/59\n",
      "30/30 [==============================] - 6s 207ms/step - loss: 0.0720 - accuracy: 0.9798\n",
      "Epoch 43/59\n",
      "30/30 [==============================] - 6s 206ms/step - loss: 0.0483 - accuracy: 0.9885\n",
      "Epoch 44/59\n",
      "30/30 [==============================] - 6s 205ms/step - loss: 0.0591 - accuracy: 0.9830\n",
      "Epoch 45/59\n",
      "30/30 [==============================] - 6s 204ms/step - loss: 0.0493 - accuracy: 0.9880\n",
      "Epoch 46/59\n",
      "30/30 [==============================] - 6s 204ms/step - loss: 0.0373 - accuracy: 0.9912\n",
      "Epoch 47/59\n",
      "30/30 [==============================] - 6s 205ms/step - loss: 0.0350 - accuracy: 0.9929\n",
      "Epoch 48/59\n",
      "30/30 [==============================] - 6s 208ms/step - loss: 0.0458 - accuracy: 0.9874\n",
      "Epoch 49/59\n",
      "30/30 [==============================] - 6s 204ms/step - loss: 0.0318 - accuracy: 0.9923\n",
      "Epoch 50/59\n",
      "30/30 [==============================] - 6s 203ms/step - loss: 0.0306 - accuracy: 0.9951\n",
      "Epoch 51/59\n",
      "30/30 [==============================] - 6s 205ms/step - loss: 0.0281 - accuracy: 0.9951\n",
      "Epoch 52/59\n",
      "30/30 [==============================] - 6s 204ms/step - loss: 0.0246 - accuracy: 0.9956\n",
      "Epoch 53/59\n",
      "30/30 [==============================] - 6s 204ms/step - loss: 0.0371 - accuracy: 0.9918\n",
      "Epoch 54/59\n",
      "30/30 [==============================] - 6s 203ms/step - loss: 0.0587 - accuracy: 0.9825\n",
      "Epoch 55/59\n",
      "30/30 [==============================] - 6s 203ms/step - loss: 0.0530 - accuracy: 0.9836\n",
      "Epoch 56/59\n",
      "30/30 [==============================] - 6s 204ms/step - loss: 0.0348 - accuracy: 0.9918\n",
      "Epoch 57/59\n",
      "30/30 [==============================] - 6s 203ms/step - loss: 0.0330 - accuracy: 0.9956\n",
      "Epoch 58/59\n",
      "30/30 [==============================] - 6s 204ms/step - loss: 0.0275 - accuracy: 0.9934\n",
      "Epoch 59/59\n",
      "30/30 [==============================] - 6s 203ms/step - loss: 0.0242 - accuracy: 0.9962\n"
     ]
    },
    {
     "data": {
      "text/plain": "<keras.src.callbacks.History at 0x28bb07130>"
     },
     "execution_count": 15,
     "metadata": {},
     "output_type": "execute_result"
    }
   ],
   "source": [
    "cnn.fit(X_train, y_train, epochs=best_params['epochs'], batch_size=best_params['batch_size'])"
   ],
   "metadata": {
    "collapsed": false,
    "ExecuteTime": {
     "end_time": "2023-06-30T10:04:15.392980Z",
     "start_time": "2023-06-30T09:58:06.758014Z"
    }
   }
  },
  {
   "cell_type": "code",
   "execution_count": 16,
   "outputs": [
    {
     "name": "stdout",
     "output_type": "stream",
     "text": [
      "20/20 [==============================] - 1s 25ms/step\n",
      "Cohen k 0.9519230769230769\n",
      "Accuracy 0.9759615384615384\n",
      "F1-score [0.97592295 0.976     ]\n",
      "              precision    recall  f1-score   support\n",
      "\n",
      "           0       0.98      0.97      0.98       312\n",
      "           1       0.97      0.98      0.98       312\n",
      "\n",
      "    accuracy                           0.98       624\n",
      "   macro avg       0.98      0.98      0.98       624\n",
      "weighted avg       0.98      0.98      0.98       624\n",
      "\n"
     ]
    }
   ],
   "source": [
    "from sklearn.metrics import f1_score, classification_report, cohen_kappa_score\n",
    "\n",
    "predictions = cnn.predict(X_test)\n",
    "y_pred = np.argmax(predictions, axis=1)\n",
    "\n",
    "print(f'Cohen k {cohen_kappa_score(y_test, y_pred)}')\n",
    "print('Accuracy %s' % accuracy_score(y_test, y_pred))\n",
    "print('F1-score %s' % f1_score(y_test, y_pred, average=None))\n",
    "print(classification_report(y_test, y_pred))"
   ],
   "metadata": {
    "collapsed": false,
    "ExecuteTime": {
     "end_time": "2023-06-30T10:04:16.087050Z",
     "start_time": "2023-06-30T10:04:15.398136Z"
    }
   }
  },
  {
   "cell_type": "markdown",
   "source": [
    "# LIME"
   ],
   "metadata": {
    "collapsed": false
   }
  },
  {
   "cell_type": "code",
   "execution_count": 57,
   "outputs": [
    {
     "data": {
      "text/plain": "  0%|          | 0/1000 [00:00<?, ?it/s]",
      "application/vnd.jupyter.widget-view+json": {
       "version_major": 2,
       "version_minor": 0,
       "model_id": "fa0da2fe8d4a44d99d7293abb1d7ab00"
      }
     },
     "metadata": {},
     "output_type": "display_data"
    },
    {
     "name": "stdout",
     "output_type": "stream",
     "text": [
      "1/1 [==============================] - 0s 27ms/step\n",
      "1/1 [==============================] - 0s 16ms/step\n",
      "1/1 [==============================] - 0s 18ms/step\n",
      "1/1 [==============================] - 0s 17ms/step\n",
      "1/1 [==============================] - 0s 16ms/step\n",
      "1/1 [==============================] - 0s 17ms/step\n",
      "1/1 [==============================] - 0s 13ms/step\n",
      "1/1 [==============================] - 0s 13ms/step\n",
      "1/1 [==============================] - 0s 13ms/step\n",
      "1/1 [==============================] - 0s 15ms/step\n",
      "1/1 [==============================] - 0s 14ms/step\n",
      "1/1 [==============================] - 0s 13ms/step\n",
      "1/1 [==============================] - 0s 13ms/step\n",
      "1/1 [==============================] - 0s 13ms/step\n",
      "1/1 [==============================] - 0s 12ms/step\n",
      "1/1 [==============================] - 0s 13ms/step\n",
      "1/1 [==============================] - 0s 14ms/step\n",
      "1/1 [==============================] - 0s 14ms/step\n",
      "1/1 [==============================] - 0s 13ms/step\n",
      "1/1 [==============================] - 0s 13ms/step\n",
      "1/1 [==============================] - 0s 13ms/step\n",
      "1/1 [==============================] - 0s 14ms/step\n",
      "1/1 [==============================] - 0s 12ms/step\n",
      "1/1 [==============================] - 0s 13ms/step\n",
      "1/1 [==============================] - 0s 13ms/step\n",
      "1/1 [==============================] - 0s 12ms/step\n",
      "1/1 [==============================] - 0s 13ms/step\n",
      "1/1 [==============================] - 0s 13ms/step\n",
      "1/1 [==============================] - 0s 12ms/step\n",
      "1/1 [==============================] - 0s 14ms/step\n",
      "1/1 [==============================] - 0s 12ms/step\n",
      "1/1 [==============================] - 0s 12ms/step\n",
      "1/1 [==============================] - 0s 13ms/step\n",
      "1/1 [==============================] - 0s 13ms/step\n",
      "1/1 [==============================] - 0s 13ms/step\n",
      "1/1 [==============================] - 0s 13ms/step\n",
      "1/1 [==============================] - 0s 13ms/step\n",
      "1/1 [==============================] - 0s 12ms/step\n",
      "1/1 [==============================] - 0s 13ms/step\n",
      "1/1 [==============================] - 0s 13ms/step\n",
      "1/1 [==============================] - 0s 13ms/step\n",
      "1/1 [==============================] - 0s 13ms/step\n",
      "1/1 [==============================] - 0s 13ms/step\n",
      "1/1 [==============================] - 0s 14ms/step\n",
      "1/1 [==============================] - 0s 13ms/step\n",
      "1/1 [==============================] - 0s 14ms/step\n",
      "1/1 [==============================] - 0s 13ms/step\n",
      "1/1 [==============================] - 0s 13ms/step\n",
      "1/1 [==============================] - 0s 13ms/step\n",
      "1/1 [==============================] - 0s 15ms/step\n",
      "1/1 [==============================] - 0s 14ms/step\n",
      "1/1 [==============================] - 0s 13ms/step\n",
      "1/1 [==============================] - 0s 13ms/step\n",
      "1/1 [==============================] - 0s 13ms/step\n",
      "1/1 [==============================] - 0s 13ms/step\n",
      "1/1 [==============================] - 0s 13ms/step\n",
      "1/1 [==============================] - 0s 13ms/step\n",
      "1/1 [==============================] - 0s 14ms/step\n",
      "1/1 [==============================] - 0s 13ms/step\n",
      "1/1 [==============================] - 0s 12ms/step\n",
      "1/1 [==============================] - 0s 12ms/step\n",
      "1/1 [==============================] - 0s 12ms/step\n",
      "1/1 [==============================] - 0s 12ms/step\n",
      "1/1 [==============================] - 0s 13ms/step\n",
      "1/1 [==============================] - 0s 12ms/step\n",
      "1/1 [==============================] - 0s 13ms/step\n",
      "1/1 [==============================] - 0s 13ms/step\n",
      "1/1 [==============================] - 0s 12ms/step\n",
      "1/1 [==============================] - 0s 12ms/step\n",
      "1/1 [==============================] - 0s 13ms/step\n",
      "1/1 [==============================] - 0s 12ms/step\n",
      "1/1 [==============================] - 0s 12ms/step\n",
      "1/1 [==============================] - 0s 13ms/step\n",
      "1/1 [==============================] - 0s 15ms/step\n",
      "1/1 [==============================] - 0s 16ms/step\n",
      "1/1 [==============================] - 0s 14ms/step\n",
      "1/1 [==============================] - 0s 15ms/step\n",
      "1/1 [==============================] - 0s 15ms/step\n",
      "1/1 [==============================] - 0s 12ms/step\n",
      "1/1 [==============================] - 0s 12ms/step\n",
      "1/1 [==============================] - 0s 13ms/step\n",
      "1/1 [==============================] - 0s 13ms/step\n",
      "1/1 [==============================] - 0s 12ms/step\n",
      "1/1 [==============================] - 0s 12ms/step\n",
      "1/1 [==============================] - 0s 12ms/step\n",
      "1/1 [==============================] - 0s 12ms/step\n",
      "1/1 [==============================] - 0s 13ms/step\n",
      "1/1 [==============================] - 0s 12ms/step\n",
      "1/1 [==============================] - 0s 13ms/step\n",
      "1/1 [==============================] - 0s 13ms/step\n",
      "1/1 [==============================] - 0s 13ms/step\n",
      "1/1 [==============================] - 0s 12ms/step\n",
      "1/1 [==============================] - 0s 13ms/step\n",
      "1/1 [==============================] - 0s 13ms/step\n",
      "1/1 [==============================] - 0s 13ms/step\n",
      "1/1 [==============================] - 0s 12ms/step\n",
      "1/1 [==============================] - 0s 12ms/step\n",
      "1/1 [==============================] - 0s 14ms/step\n",
      "1/1 [==============================] - 0s 13ms/step\n",
      "1/1 [==============================] - 0s 12ms/step\n"
     ]
    }
   ],
   "source": [
    "import lime\n",
    "from lime import lime_image\n",
    "from skimage.segmentation import mark_boundaries\n",
    "\n",
    "explainer = lime_image.LimeImageExplainer(random_state=42)\n",
    "\n",
    "index = 0\n",
    "\n",
    "explanation = explainer.explain_instance(X_test[index], cnn.predict, top_labels=2)\n",
    "\n",
    "image, mask = explanation.get_image_and_mask(y_test[index], num_features=27*27, positive_only=False, hide_rest=False)\n",
    "\n",
    "marked_image = mark_boundaries(image, mask)"
   ],
   "metadata": {
    "collapsed": false,
    "ExecuteTime": {
     "end_time": "2023-06-30T10:36:35.317100Z",
     "start_time": "2023-06-30T10:36:32.385750Z"
    }
   }
  },
  {
   "cell_type": "code",
   "execution_count": 59,
   "outputs": [
    {
     "data": {
      "text/plain": "<Figure size 354.331x236.22 with 2 Axes>",
      "image/png": "[encoded data removed]"
     },
     "metadata": {},
     "output_type": "display_data"
    }
   ],
   "source": [
    "plt.subplot(1, 2, 1)\n",
    "plt.imshow(X_test[index], cmap='gray')\n",
    "plt.title('Original Image')\n",
    "\n",
    "plt.subplot(1, 2, 2)\n",
    "plt.imshow(marked_image)\n",
    "plt.title('LIME Explanation')\n",
    "\n",
    "plt.show()"
   ],
   "metadata": {
    "collapsed": false,
    "ExecuteTime": {
     "end_time": "2023-06-30T10:36:54.695112Z",
     "start_time": "2023-06-30T10:36:54.478348Z"
    }
   }
  },
  {
   "cell_type": "code",
   "execution_count": null,
   "outputs": [],
   "source": [],
   "metadata": {
    "collapsed": false
   }
  }
 ],
 "metadata": {
  "kernelspec": {
   "display_name": "Python 3",
   "language": "python",
   "name": "python3"
  },
  "language_info": {
   "codemirror_mode": {
    "name": "ipython",
    "version": 2
   },
   "file_extension": ".py",
   "mimetype": "text/x-python",
   "name": "python",
   "nbconvert_exporter": "python",
   "pygments_lexer": "ipython2",
   "version": "2.7.6"
  }
 },
 "nbformat": 4,
 "nbformat_minor": 0
}
