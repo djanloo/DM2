{
 "cells": [
  {
   "cell_type": "code",
   "execution_count": 1,
   "metadata": {
    "ExecuteTime": {
     "end_time": "2023-06-30T15:17:43.308717Z",
     "start_time": "2023-06-30T15:17:43.305929Z"
    }
   },
   "outputs": [],
   "source": [
    "import os\n",
    "import numpy as np\n",
    "import pandas as pd\n",
    "import matplotlib.pyplot as plt\n",
    "import seaborn as sns; sns.set()\n",
    "\n",
    "import sys\n",
    "\n",
    "sys.path.append('../')\n",
    "import default_style"
   ]
  },
  {
   "cell_type": "code",
   "execution_count": 2,
   "metadata": {
    "ExecuteTime": {
     "end_time": "2023-06-30T15:17:43.313701Z",
     "start_time": "2023-06-30T15:17:43.312355Z"
    }
   },
   "outputs": [],
   "source": [
    "TS_DATASET_FOLDER = os.path.join('..', 'dataset')\n",
    "TS_PREPROC_FOLDER = os.path.join(TS_DATASET_FOLDER, 'preprocessed_traces')\n",
    "DF_PREPROC_FILE = os.path.join(TS_PREPROC_FOLDER, 'preproc_ts.df')\n",
    "\n",
    "TARGET = 'statement'\n",
    "TRACES = 'syllables_02_STFT'"
   ]
  },
  {
   "cell_type": "code",
   "execution_count": 3,
   "metadata": {
    "ExecuteTime": {
     "end_time": "2023-06-30T15:17:43.347798Z",
     "start_time": "2023-06-30T15:17:43.314865Z"
    }
   },
   "outputs": [
    {
     "data": {
      "text/html": [
       "<div>\n",
       "<style scoped>\n",
       "    .dataframe tbody tr th:only-of-type {\n",
       "        vertical-align: middle;\n",
       "    }\n",
       "\n",
       "    .dataframe tbody tr th {\n",
       "        vertical-align: top;\n",
       "    }\n",
       "\n",
       "    .dataframe thead th {\n",
       "        text-align: right;\n",
       "    }\n",
       "</style>\n",
       "<table border=\"1\" class=\"dataframe\">\n",
       "  <thead>\n",
       "    <tr style=\"text-align: right;\">\n",
       "      <th></th>\n",
       "      <th>vocal_channel</th>\n",
       "      <th>emotion</th>\n",
       "      <th>emotional_intensity</th>\n",
       "      <th>statement</th>\n",
       "      <th>repetition</th>\n",
       "      <th>actor</th>\n",
       "      <th>path</th>\n",
       "      <th>sex</th>\n",
       "      <th>begin_s</th>\n",
       "      <th>end_s</th>\n",
       "      <th>fourier_coeffs</th>\n",
       "      <th>filtered_fourier_coeffs</th>\n",
       "      <th>syll_0_start_index</th>\n",
       "      <th>syll_1_start_index</th>\n",
       "      <th>syll_2_start_index</th>\n",
       "      <th>syll_3_start_index</th>\n",
       "      <th>syll_4_start_index</th>\n",
       "      <th>syll_5_start_index</th>\n",
       "      <th>syll_6_start_index</th>\n",
       "      <th>syll_7_start_index</th>\n",
       "    </tr>\n",
       "  </thead>\n",
       "  <tbody>\n",
       "    <tr>\n",
       "      <th>0</th>\n",
       "      <td>speech</td>\n",
       "      <td>neutral</td>\n",
       "      <td>normal</td>\n",
       "      <td>kids</td>\n",
       "      <td>1st</td>\n",
       "      <td>actor_01</td>\n",
       "      <td>../dataset/Audio_Speech_Actors_01-24/Actor_01/...</td>\n",
       "      <td>M</td>\n",
       "      <td>1.009833</td>\n",
       "      <td>2.252000</td>\n",
       "      <td>[1.9371510e-07 1.2311488e-02 1.1168750e-02 ......</td>\n",
       "      <td>[1.9371510e-07 1.2311473e-02 1.1168692e-02 ......</td>\n",
       "      <td>0</td>\n",
       "      <td>1128</td>\n",
       "      <td>2240</td>\n",
       "      <td>3200</td>\n",
       "      <td>4304</td>\n",
       "      <td>5208</td>\n",
       "      <td>5808</td>\n",
       "      <td>7448</td>\n",
       "    </tr>\n",
       "    <tr>\n",
       "      <th>1</th>\n",
       "      <td>speech</td>\n",
       "      <td>neutral</td>\n",
       "      <td>normal</td>\n",
       "      <td>kids</td>\n",
       "      <td>2nd</td>\n",
       "      <td>actor_01</td>\n",
       "      <td>../dataset/Audio_Speech_Actors_01-24/Actor_01/...</td>\n",
       "      <td>M</td>\n",
       "      <td>1.068500</td>\n",
       "      <td>2.294667</td>\n",
       "      <td>[3.5017729e-07 2.6199006e-02 2.5683409e-02 ......</td>\n",
       "      <td>[3.5017729e-07 2.6198970e-02 2.5683273e-02 ......</td>\n",
       "      <td>0</td>\n",
       "      <td>2008</td>\n",
       "      <td>3208</td>\n",
       "      <td>3880</td>\n",
       "      <td>4224</td>\n",
       "      <td>5112</td>\n",
       "      <td>5800</td>\n",
       "      <td>7352</td>\n",
       "    </tr>\n",
       "    <tr>\n",
       "      <th>2</th>\n",
       "      <td>speech</td>\n",
       "      <td>neutral</td>\n",
       "      <td>normal</td>\n",
       "      <td>dogs</td>\n",
       "      <td>1st</td>\n",
       "      <td>actor_01</td>\n",
       "      <td>../dataset/Audio_Speech_Actors_01-24/Actor_01/...</td>\n",
       "      <td>M</td>\n",
       "      <td>1.012000</td>\n",
       "      <td>2.238500</td>\n",
       "      <td>[2.4959445e-07 1.2348385e-02 1.0678725e-02 ......</td>\n",
       "      <td>[2.49594450e-07 1.23483688e-02 1.06786685e-02 ...</td>\n",
       "      <td>0</td>\n",
       "      <td>2816</td>\n",
       "      <td>3352</td>\n",
       "      <td>3912</td>\n",
       "      <td>4296</td>\n",
       "      <td>5232</td>\n",
       "      <td>5880</td>\n",
       "      <td>7352</td>\n",
       "    </tr>\n",
       "    <tr>\n",
       "      <th>3</th>\n",
       "      <td>speech</td>\n",
       "      <td>neutral</td>\n",
       "      <td>normal</td>\n",
       "      <td>dogs</td>\n",
       "      <td>2nd</td>\n",
       "      <td>actor_01</td>\n",
       "      <td>../dataset/Audio_Speech_Actors_01-24/Actor_01/...</td>\n",
       "      <td>M</td>\n",
       "      <td>1.008833</td>\n",
       "      <td>2.187167</td>\n",
       "      <td>[1.1920929e-07 1.2154797e-02 1.6620804e-02 ......</td>\n",
       "      <td>[1.1920929e-07 1.2154780e-02 1.6620707e-02 ......</td>\n",
       "      <td>0</td>\n",
       "      <td>1664</td>\n",
       "      <td>2664</td>\n",
       "      <td>3208</td>\n",
       "      <td>3672</td>\n",
       "      <td>4840</td>\n",
       "      <td>5448</td>\n",
       "      <td>7064</td>\n",
       "    </tr>\n",
       "    <tr>\n",
       "      <th>4</th>\n",
       "      <td>speech</td>\n",
       "      <td>calm</td>\n",
       "      <td>normal</td>\n",
       "      <td>kids</td>\n",
       "      <td>1st</td>\n",
       "      <td>actor_01</td>\n",
       "      <td>../dataset/Audio_Speech_Actors_01-24/Actor_01/...</td>\n",
       "      <td>M</td>\n",
       "      <td>1.023667</td>\n",
       "      <td>2.534167</td>\n",
       "      <td>[1.1920929e-07 2.0026919e-03 7.9689088e-04 ......</td>\n",
       "      <td>[1.1920929e-07 2.0026902e-03 7.9688808e-04 ......</td>\n",
       "      <td>0</td>\n",
       "      <td>2088</td>\n",
       "      <td>3584</td>\n",
       "      <td>4832</td>\n",
       "      <td>5800</td>\n",
       "      <td>6944</td>\n",
       "      <td>7560</td>\n",
       "      <td>9056</td>\n",
       "    </tr>\n",
       "  </tbody>\n",
       "</table>\n",
       "</div>"
      ],
      "text/plain": [
       "  vocal_channel  emotion emotional_intensity statement repetition     actor  \\\n",
       "0        speech  neutral              normal      kids        1st  actor_01   \n",
       "1        speech  neutral              normal      kids        2nd  actor_01   \n",
       "2        speech  neutral              normal      dogs        1st  actor_01   \n",
       "3        speech  neutral              normal      dogs        2nd  actor_01   \n",
       "4        speech     calm              normal      kids        1st  actor_01   \n",
       "\n",
       "                                                path sex   begin_s     end_s  \\\n",
       "0  ../dataset/Audio_Speech_Actors_01-24/Actor_01/...   M  1.009833  2.252000   \n",
       "1  ../dataset/Audio_Speech_Actors_01-24/Actor_01/...   M  1.068500  2.294667   \n",
       "2  ../dataset/Audio_Speech_Actors_01-24/Actor_01/...   M  1.012000  2.238500   \n",
       "3  ../dataset/Audio_Speech_Actors_01-24/Actor_01/...   M  1.008833  2.187167   \n",
       "4  ../dataset/Audio_Speech_Actors_01-24/Actor_01/...   M  1.023667  2.534167   \n",
       "\n",
       "                                      fourier_coeffs  \\\n",
       "0  [1.9371510e-07 1.2311488e-02 1.1168750e-02 ......   \n",
       "1  [3.5017729e-07 2.6199006e-02 2.5683409e-02 ......   \n",
       "2  [2.4959445e-07 1.2348385e-02 1.0678725e-02 ......   \n",
       "3  [1.1920929e-07 1.2154797e-02 1.6620804e-02 ......   \n",
       "4  [1.1920929e-07 2.0026919e-03 7.9689088e-04 ......   \n",
       "\n",
       "                             filtered_fourier_coeffs  syll_0_start_index  \\\n",
       "0  [1.9371510e-07 1.2311473e-02 1.1168692e-02 ......                   0   \n",
       "1  [3.5017729e-07 2.6198970e-02 2.5683273e-02 ......                   0   \n",
       "2  [2.49594450e-07 1.23483688e-02 1.06786685e-02 ...                   0   \n",
       "3  [1.1920929e-07 1.2154780e-02 1.6620707e-02 ......                   0   \n",
       "4  [1.1920929e-07 2.0026902e-03 7.9688808e-04 ......                   0   \n",
       "\n",
       "   syll_1_start_index  syll_2_start_index  syll_3_start_index  \\\n",
       "0                1128                2240                3200   \n",
       "1                2008                3208                3880   \n",
       "2                2816                3352                3912   \n",
       "3                1664                2664                3208   \n",
       "4                2088                3584                4832   \n",
       "\n",
       "   syll_4_start_index  syll_5_start_index  syll_6_start_index  \\\n",
       "0                4304                5208                5808   \n",
       "1                4224                5112                5800   \n",
       "2                4296                5232                5880   \n",
       "3                3672                4840                5448   \n",
       "4                5800                6944                7560   \n",
       "\n",
       "   syll_7_start_index  \n",
       "0                7448  \n",
       "1                7352  \n",
       "2                7352  \n",
       "3                7064  \n",
       "4                9056  "
      ]
     },
     "execution_count": 3,
     "metadata": {},
     "output_type": "execute_result"
    }
   ],
   "source": [
    "df = pd.read_csv(DF_PREPROC_FILE).drop(columns=['Unnamed: 0'])\n",
    "df.head()"
   ]
  },
  {
   "cell_type": "code",
   "execution_count": 4,
   "metadata": {
    "ExecuteTime": {
     "end_time": "2023-06-30T15:17:43.352191Z",
     "start_time": "2023-06-30T15:17:43.344270Z"
    }
   },
   "outputs": [
    {
     "data": {
      "text/plain": [
       "(2452, 27, 27)"
      ]
     },
     "execution_count": 4,
     "metadata": {},
     "output_type": "execute_result"
    }
   ],
   "source": [
    "file_path = os.path.join(TS_PREPROC_FOLDER, f'{TRACES}.npy')\n",
    "traces = np.load(file_path, allow_pickle=True)\n",
    "\n",
    "traces.shape"
   ]
  },
  {
   "cell_type": "markdown",
   "metadata": {},
   "source": [
    "# RGB format"
   ]
  },
  {
   "cell_type": "code",
   "execution_count": 5,
   "metadata": {
    "ExecuteTime": {
     "end_time": "2023-06-30T15:17:43.457203Z",
     "start_time": "2023-06-30T15:17:43.354549Z"
    }
   },
   "outputs": [],
   "source": [
    "\"\"\"\n",
    "# array of empty RGB matrixes\n",
    "rgb_traces = np.zeros((len(traces), traces.shape[1], traces.shape[2], 3), dtype=np.float32)\n",
    "\n",
    "for i in range(len(traces)):\n",
    "    trace = traces[i]\n",
    "\n",
    "    min_value = np.min(trace)\n",
    "    max_value = np.max(trace)\n",
    "    normalized_trace = (trace - min_value) / (max_value - min_value)\n",
    "\n",
    "    red_channel = normalized_trace\n",
    "    green_channel = np.zeros_like(normalized_trace)\n",
    "    blue_channel = np.zeros_like(normalized_trace)\n",
    "\n",
    "    rgb_trace = np.dstack((red_channel, green_channel, blue_channel))\n",
    "    rgb_traces[i] = rgb_trace\n",
    "\n",
    "\n",
    "display(rgb_traces.shape)\n",
    "\n",
    "\"\"\"\n",
    "from PIL import Image\n",
    "\n",
    "rgb_traces = []\n",
    "\n",
    "for i in range(len(traces)):\n",
    "    trace = traces[i]\n",
    "\n",
    "    min_value = np.min(trace)\n",
    "    max_value = np.max(trace)\n",
    "    normalized_trace = (trace - min_value) / (max_value - min_value)\n",
    "\n",
    "    normalized_trace = (normalized_trace * 255).astype(np.uint8)\n",
    "\n",
    "    rgb_trace = Image.fromarray(normalized_trace, mode='L').convert('RGB')\n",
    "\n",
    "    rgb_traces.append(rgb_trace)\n",
    "\n",
    "\n",
    "rgb_traces = np.array([np.array(trace) for trace in rgb_traces])"
   ]
  },
  {
   "cell_type": "code",
   "execution_count": 6,
   "metadata": {
    "ExecuteTime": {
     "end_time": "2023-06-30T15:17:43.506164Z",
     "start_time": "2023-06-30T15:17:43.446671Z"
    }
   },
   "outputs": [
    {
     "data": {
      "image/png": "[encoded data removed]",
      "text/plain": [
       "<Figure size 354.331x236.22 with 1 Axes>"
      ]
     },
     "metadata": {},
     "output_type": "display_data"
    }
   ],
   "source": [
    "plt.imshow(rgb_traces[0])\n",
    "plt.axis('off')\n",
    "plt.show()"
   ]
  },
  {
   "cell_type": "markdown",
   "metadata": {},
   "source": [
    "# Training, Validation and Test Sets Preparation"
   ]
  },
  {
   "cell_type": "code",
   "execution_count": 7,
   "metadata": {
    "ExecuteTime": {
     "end_time": "2023-06-30T15:17:43.513664Z",
     "start_time": "2023-06-30T15:17:43.509845Z"
    }
   },
   "outputs": [
    {
     "data": {
      "text/plain": [
       "array([[[132, 132, 132],\n",
       "        [134, 134, 134],\n",
       "        [139, 139, 139],\n",
       "        ...,\n",
       "        [107, 107, 107],\n",
       "        [ 92,  92,  92],\n",
       "        [ 84,  84,  84]],\n",
       "\n",
       "       [[124, 124, 124],\n",
       "        [151, 151, 151],\n",
       "        [154, 154, 154],\n",
       "        ...,\n",
       "        [ 84,  84,  84],\n",
       "        [ 69,  69,  69],\n",
       "        [ 74,  74,  74]],\n",
       "\n",
       "       [[ 99,  99,  99],\n",
       "        [137, 137, 137],\n",
       "        [130, 130, 130],\n",
       "        ...,\n",
       "        [ 86,  86,  86],\n",
       "        [107, 107, 107],\n",
       "        [ 87,  87,  87]],\n",
       "\n",
       "       ...,\n",
       "\n",
       "       [[ 77,  77,  77],\n",
       "        [194, 194, 194],\n",
       "        [192, 192, 192],\n",
       "        ...,\n",
       "        [ 47,  47,  47],\n",
       "        [ 54,  54,  54],\n",
       "        [ 56,  56,  56]],\n",
       "\n",
       "       [[127, 127, 127],\n",
       "        [162, 162, 162],\n",
       "        [173, 173, 173],\n",
       "        ...,\n",
       "        [ 63,  63,  63],\n",
       "        [ 67,  67,  67],\n",
       "        [ 66,  66,  66]],\n",
       "\n",
       "       [[158, 158, 158],\n",
       "        [180, 180, 180],\n",
       "        [169, 169, 169],\n",
       "        ...,\n",
       "        [ 88,  88,  88],\n",
       "        [ 82,  82,  82],\n",
       "        [ 76,  76,  76]]], dtype=uint8)"
      ]
     },
     "execution_count": 7,
     "metadata": {},
     "output_type": "execute_result"
    }
   ],
   "source": [
    "# sort by actors\n",
    "sorted_indices = df['actor'].argsort()\n",
    "df = df.iloc[sorted_indices].reset_index(drop=True)\n",
    "\n",
    "rgb_traces = rgb_traces[sorted_indices]\n",
    "\n",
    "rgb_traces[0]"
   ]
  },
  {
   "cell_type": "code",
   "execution_count": 8,
   "metadata": {
    "ExecuteTime": {
     "end_time": "2023-06-30T15:17:43.661839Z",
     "start_time": "2023-06-30T15:17:43.515079Z"
    }
   },
   "outputs": [
    {
     "data": {
      "text/plain": [
       "((1462, 27, 27, 3),\n",
       " (366, 27, 27, 3),\n",
       " (624, 27, 27, 3),\n",
       " (1462,),\n",
       " (366,),\n",
       " (624,))"
      ]
     },
     "execution_count": 8,
     "metadata": {},
     "output_type": "execute_result"
    }
   ],
   "source": [
    "from sklearn.model_selection import train_test_split\n",
    "\n",
    "split_index = df[df['actor'] == 'actor_19'].index[0]\n",
    "\n",
    "X_train = rgb_traces[:split_index]\n",
    "X_test = rgb_traces[split_index:]\n",
    "\n",
    "y_train = df[TARGET][:split_index].to_numpy()\n",
    "y_test = df[TARGET][split_index:].to_numpy()\n",
    "\n",
    "X_train_v, X_valid, y_train_v, y_valid = train_test_split(X_train, y_train, test_size=0.2, random_state=100)\n",
    "\n",
    "X_train_v.shape, X_valid.shape, X_test.shape, y_train_v.shape, y_valid.shape, y_test.shape"
   ]
  },
  {
   "cell_type": "markdown",
   "metadata": {},
   "source": [
    "# CNN"
   ]
  },
  {
   "cell_type": "code",
   "execution_count": 9,
   "metadata": {
    "ExecuteTime": {
     "end_time": "2023-06-30T15:17:43.667135Z",
     "start_time": "2023-06-30T15:17:43.663360Z"
    }
   },
   "outputs": [],
   "source": [
    "from sklearn.preprocessing import LabelEncoder\n",
    "\n",
    "label_encoder = LabelEncoder()\n",
    "\n",
    "y_train = label_encoder.fit_transform(y_train)\n",
    "y_train_v = label_encoder.fit_transform(y_train_v)\n",
    "y_valid = label_encoder.transform(y_valid)\n",
    "y_test = label_encoder.transform(y_test)"
   ]
  },
  {
   "cell_type": "code",
   "execution_count": 11,
   "metadata": {
    "ExecuteTime": {
     "end_time": "2023-06-30T15:17:46.894376Z",
     "start_time": "2023-06-30T15:17:43.671256Z"
    }
   },
   "outputs": [],
   "source": [
    "from keras.layers import Conv2D, BatchNormalization, Activation, Dropout, GlobalAveragePooling2D, Dense\n",
    "from keras import Sequential\n",
    "\n",
    "\n",
    "def build_model(input_shape, n_categories,\n",
    "                n_conv=0, n_hidden=0, hidden_nodes=32,\n",
    "                dropout=0.01, filters=8, kernel_size=5, **kwargs):\n",
    "\n",
    "    model = Sequential()\n",
    "\n",
    "    model.add(Conv2D(filters=filters,\n",
    "                     kernel_size=(kernel_size, kernel_size),\n",
    "                     activation='relu',\n",
    "                     input_shape=input_shape,\n",
    "                     padding='same'\n",
    "                     ))\n",
    "\n",
    "    model.add(BatchNormalization())\n",
    "    model.add(Activation('relu'))\n",
    "\n",
    "    for _ in range(n_conv):\n",
    "        model.add(Conv2D(filters=filters, kernel_size=kernel_size, activation='relu', padding='same'))\n",
    "        model.add(BatchNormalization())\n",
    "        model.add(Activation('relu'))\n",
    "\n",
    "        model.add(Dropout(dropout))\n",
    "\n",
    "    model.add(GlobalAveragePooling2D())\n",
    "\n",
    "    for _ in range(n_hidden):\n",
    "        model.add(Dense(hidden_nodes, activation='relu'))\n",
    "\n",
    "    model.add(Dense(n_categories, activation='softmax'))\n",
    "    model.compile(loss='sparse_categorical_crossentropy', optimizer='adam', metrics=['accuracy'])\n",
    "\n",
    "    return model"
   ]
  },
  {
   "cell_type": "code",
   "execution_count": 12,
   "metadata": {
    "ExecuteTime": {
     "end_time": "2023-06-30T15:17:47.053211Z",
     "start_time": "2023-06-30T15:17:46.896133Z"
    }
   },
   "outputs": [],
   "source": [
    "import optuna\n",
    "from sklearn.metrics import accuracy_score\n",
    "\n",
    "# objective function to be minimized\n",
    "def objective_fun(trial):\n",
    "\n",
    "    n_conv = trial.suggest_int('n_conv', 0, 3)\n",
    "    n_hidden = trial.suggest_int('n_hidden', 0, 3)\n",
    "    hidden_nodes = trial.suggest_int('hidden_nodes', 8, 256)\n",
    "    dropout = trial.suggest_float('dropout', 0, 0.3)\n",
    "    filters = trial.suggest_int('filters', 2, 16)\n",
    "    kernel_size = trial.suggest_int('kernel_size', 2, 16)\n",
    "    batch_size = trial.suggest_int('batch_size', 16, 64)\n",
    "    epochs = trial.suggest_int('epochs', 5, 90)\n",
    "\n",
    "    print(f'Running little bitch having n_conv={n_conv}, dropout={dropout}, hidden_nodes={hidden_nodes}')\n",
    "\n",
    "    cnn = build_model(X_train_v.shape[1:], len(np.unique(y_train_v)),\n",
    "                      n_hidden=n_hidden,\n",
    "                      hidden_nodes=hidden_nodes,\n",
    "                      n_conv=n_conv,\n",
    "                      dropout=dropout,\n",
    "                      filters=filters,\n",
    "                      kernel_size=kernel_size,\n",
    "                      )\n",
    "\n",
    "    cnn.fit(X_train_v, y_train_v, batch_size=batch_size, epochs=epochs, verbose=False)\n",
    "\n",
    "    y_pred = np.argmax(cnn.predict(X_valid), axis=1)\n",
    "\n",
    "    error = accuracy_score(y_valid, y_pred)\n",
    "\n",
    "    return error\n",
    "\n",
    "\n",
    "#study = optuna.create_study(direction='maximize')\n",
    "#study.optimize(objective_fun, n_trials=50, n_jobs=-1, catch=ValueError)"
   ]
  },
  {
   "cell_type": "code",
   "execution_count": 13,
   "metadata": {
    "ExecuteTime": {
     "end_time": "2023-06-30T15:17:47.057164Z",
     "start_time": "2023-06-30T15:17:47.054381Z"
    }
   },
   "outputs": [
    {
     "data": {
      "text/plain": [
       "{'n_conv': 2,\n",
       " 'n_hidden': 0,\n",
       " 'hidden_nodes': 128,\n",
       " 'dropout': 0.21975727231798456,\n",
       " 'filters': 5,\n",
       " 'kernel_size': 14,\n",
       " 'batch_size': 63,\n",
       " 'epochs': 59}"
      ]
     },
     "execution_count": 13,
     "metadata": {},
     "output_type": "execute_result"
    }
   ],
   "source": [
    "#best_params = study.best_params\n",
    "best_params = {'n_conv': 2, 'n_hidden': 0, 'hidden_nodes': 128, 'dropout': 0.21975727231798456, 'filters': 5, 'kernel_size': 14, 'batch_size': 63, 'epochs': 59}\n",
    "best_params"
   ]
  },
  {
   "cell_type": "code",
   "execution_count": 14,
   "metadata": {
    "ExecuteTime": {
     "end_time": "2023-06-30T15:17:47.157026Z",
     "start_time": "2023-06-30T15:17:47.057814Z"
    }
   },
   "outputs": [
    {
     "name": "stdout",
     "output_type": "stream",
     "text": [
      "Model: \"sequential\"\n",
      "_________________________________________________________________\n",
      " Layer (type)                Output Shape              Param #   \n",
      "=================================================================\n",
      " conv2d (Conv2D)             (None, 27, 27, 5)         2945      \n",
      "                                                                 \n",
      " batch_normalization (BatchN  (None, 27, 27, 5)        20        \n",
      " ormalization)                                                   \n",
      "                                                                 \n",
      " activation (Activation)     (None, 27, 27, 5)         0         \n",
      "                                                                 \n",
      " conv2d_1 (Conv2D)           (None, 27, 27, 5)         4905      \n",
      "                                                                 \n",
      " batch_normalization_1 (Batc  (None, 27, 27, 5)        20        \n",
      " hNormalization)                                                 \n",
      "                                                                 \n",
      " activation_1 (Activation)   (None, 27, 27, 5)         0         \n",
      "                                                                 \n",
      " dropout (Dropout)           (None, 27, 27, 5)         0         \n",
      "                                                                 \n",
      " conv2d_2 (Conv2D)           (None, 27, 27, 5)         4905      \n",
      "                                                                 \n",
      " batch_normalization_2 (Batc  (None, 27, 27, 5)        20        \n",
      " hNormalization)                                                 \n",
      "                                                                 \n",
      " activation_2 (Activation)   (None, 27, 27, 5)         0         \n",
      "                                                                 \n",
      " dropout_1 (Dropout)         (None, 27, 27, 5)         0         \n",
      "                                                                 \n",
      " global_average_pooling2d (G  (None, 5)                0         \n",
      " lobalAveragePooling2D)                                          \n",
      "                                                                 \n",
      " dense (Dense)               (None, 2)                 12        \n",
      "                                                                 \n",
      "=================================================================\n",
      "Total params: 12,827\n",
      "Trainable params: 12,797\n",
      "Non-trainable params: 30\n",
      "_________________________________________________________________\n"
     ]
    }
   ],
   "source": [
    "cnn = build_model(X_train.shape[1:], 2, **best_params)\n",
    "cnn.summary()"
   ]
  },
  {
   "cell_type": "code",
   "execution_count": 15,
   "metadata": {
    "ExecuteTime": {
     "end_time": "2023-06-30T15:22:06.598464Z",
     "start_time": "2023-06-30T15:17:47.154513Z"
    }
   },
   "outputs": [
    {
     "name": "stdout",
     "output_type": "stream",
     "text": [
      "Epoch 1/59\n",
      "30/30 [==============================] - 22s 645ms/step - loss: 0.4644 - accuracy: 0.8501\n",
      "Epoch 2/59\n",
      "30/30 [==============================] - 21s 692ms/step - loss: 0.2895 - accuracy: 0.9606\n",
      "Epoch 3/59\n",
      "30/30 [==============================] - 25s 819ms/step - loss: 0.2278 - accuracy: 0.9737\n",
      "Epoch 4/59\n",
      "30/30 [==============================] - 25s 851ms/step - loss: 0.1969 - accuracy: 0.9759\n",
      "Epoch 5/59\n",
      "30/30 [==============================] - 21s 681ms/step - loss: 0.1726 - accuracy: 0.9781\n",
      "Epoch 6/59\n",
      "30/30 [==============================] - 19s 639ms/step - loss: 0.1564 - accuracy: 0.9776\n",
      "Epoch 7/59\n",
      "30/30 [==============================] - 17s 569ms/step - loss: 0.1351 - accuracy: 0.9847\n",
      "Epoch 8/59\n",
      "30/30 [==============================] - 17s 565ms/step - loss: 0.1211 - accuracy: 0.9852\n",
      "Epoch 9/59\n",
      "30/30 [==============================] - 17s 565ms/step - loss: 0.1132 - accuracy: 0.9830\n",
      "Epoch 10/59\n",
      "30/30 [==============================] - 17s 568ms/step - loss: 0.1043 - accuracy: 0.9847\n",
      "Epoch 11/59\n",
      "30/30 [==============================] - 17s 567ms/step - loss: 0.0967 - accuracy: 0.9852\n",
      "Epoch 12/59\n",
      "30/30 [==============================] - 23s 763ms/step - loss: 0.0875 - accuracy: 0.9874\n",
      "Epoch 13/59\n",
      "30/30 [==============================] - 27s 898ms/step - loss: 0.0902 - accuracy: 0.9874\n",
      "Epoch 14/59\n",
      "30/30 [==============================] - 25s 846ms/step - loss: 0.0883 - accuracy: 0.9852\n",
      "Epoch 15/59\n",
      "30/30 [==============================] - 19s 647ms/step - loss: 0.0757 - accuracy: 0.9907\n",
      "Epoch 16/59\n",
      "30/30 [==============================] - 22s 736ms/step - loss: 0.0835 - accuracy: 0.9863\n",
      "Epoch 17/59\n",
      "30/30 [==============================] - 22s 748ms/step - loss: 0.0711 - accuracy: 0.9874\n",
      "Epoch 18/59\n",
      "30/30 [==============================] - 25s 820ms/step - loss: 0.0697 - accuracy: 0.9891\n",
      "Epoch 19/59\n",
      "30/30 [==============================] - 22s 730ms/step - loss: 0.1089 - accuracy: 0.9732\n",
      "Epoch 20/59\n",
      "30/30 [==============================] - 21s 714ms/step - loss: 0.0807 - accuracy: 0.9863\n",
      "Epoch 21/59\n",
      "30/30 [==============================] - 21s 691ms/step - loss: 0.0657 - accuracy: 0.9858\n",
      "Epoch 22/59\n",
      "30/30 [==============================] - 24s 803ms/step - loss: 0.0613 - accuracy: 0.9891\n",
      "Epoch 23/59\n",
      "30/30 [==============================] - 25s 844ms/step - loss: 0.0554 - accuracy: 0.9891\n",
      "Epoch 24/59\n",
      "30/30 [==============================] - 21s 694ms/step - loss: 0.0659 - accuracy: 0.9830\n",
      "Epoch 25/59\n",
      "30/30 [==============================] - 25s 811ms/step - loss: 0.0593 - accuracy: 0.9885\n",
      "Epoch 26/59\n",
      "30/30 [==============================] - 24s 793ms/step - loss: 0.0524 - accuracy: 0.9907\n",
      "Epoch 27/59\n",
      "30/30 [==============================] - 22s 737ms/step - loss: 0.0481 - accuracy: 0.9934\n",
      "Epoch 28/59\n",
      "30/30 [==============================] - 26s 874ms/step - loss: 0.0481 - accuracy: 0.9896\n",
      "Epoch 29/59\n",
      "30/30 [==============================] - 22s 721ms/step - loss: 0.0446 - accuracy: 0.9912\n",
      "Epoch 30/59\n",
      "30/30 [==============================] - 24s 788ms/step - loss: 0.0618 - accuracy: 0.9852\n",
      "Epoch 31/59\n",
      "30/30 [==============================] - 21s 686ms/step - loss: 0.0459 - accuracy: 0.9912\n",
      "Epoch 32/59\n",
      "30/30 [==============================] - 24s 781ms/step - loss: 0.0397 - accuracy: 0.9929\n",
      "Epoch 33/59\n",
      "30/30 [==============================] - 21s 712ms/step - loss: 0.0409 - accuracy: 0.9923\n",
      "Epoch 34/59\n",
      "30/30 [==============================] - 27s 878ms/step - loss: 0.0497 - accuracy: 0.9891\n",
      "Epoch 35/59\n",
      "30/30 [==============================] - 23s 783ms/step - loss: 0.0451 - accuracy: 0.9923\n",
      "Epoch 36/59\n",
      "30/30 [==============================] - 22s 720ms/step - loss: 0.0355 - accuracy: 0.9934\n",
      "Epoch 37/59\n",
      "30/30 [==============================] - 23s 759ms/step - loss: 0.0483 - accuracy: 0.9885\n",
      "Epoch 38/59\n",
      "30/30 [==============================] - 21s 685ms/step - loss: 0.0338 - accuracy: 0.9934\n",
      "Epoch 39/59\n",
      "30/30 [==============================] - 23s 784ms/step - loss: 0.0344 - accuracy: 0.9962\n",
      "Epoch 40/59\n",
      "30/30 [==============================] - 20s 678ms/step - loss: 0.0350 - accuracy: 0.9940\n",
      "Epoch 41/59\n",
      "30/30 [==============================] - 19s 632ms/step - loss: 0.0722 - accuracy: 0.9830\n",
      "Epoch 42/59\n",
      "30/30 [==============================] - 20s 658ms/step - loss: 0.0755 - accuracy: 0.9748\n",
      "Epoch 43/59\n",
      "30/30 [==============================] - 23s 785ms/step - loss: 0.0484 - accuracy: 0.9858\n",
      "Epoch 44/59\n",
      "30/30 [==============================] - 25s 833ms/step - loss: 0.0464 - accuracy: 0.9874\n",
      "Epoch 45/59\n",
      "30/30 [==============================] - 19s 624ms/step - loss: 0.0369 - accuracy: 0.9912\n",
      "Epoch 46/59\n",
      "30/30 [==============================] - 18s 592ms/step - loss: 0.0394 - accuracy: 0.9891\n",
      "Epoch 47/59\n",
      "30/30 [==============================] - 22s 745ms/step - loss: 0.0407 - accuracy: 0.9940\n",
      "Epoch 48/59\n",
      "30/30 [==============================] - 24s 797ms/step - loss: 0.0321 - accuracy: 0.9940\n",
      "Epoch 49/59\n",
      "30/30 [==============================] - 24s 812ms/step - loss: 0.0268 - accuracy: 0.9945\n",
      "Epoch 50/59\n",
      "30/30 [==============================] - 19s 642ms/step - loss: 0.0282 - accuracy: 0.9973\n",
      "Epoch 51/59\n",
      "30/30 [==============================] - 18s 597ms/step - loss: 0.0312 - accuracy: 0.9945\n",
      "Epoch 52/59\n",
      "30/30 [==============================] - 19s 647ms/step - loss: 0.0262 - accuracy: 0.9956\n",
      "Epoch 53/59\n",
      "30/30 [==============================] - 21s 717ms/step - loss: 0.0221 - accuracy: 0.9978\n",
      "Epoch 54/59\n",
      "30/30 [==============================] - 23s 762ms/step - loss: 0.0389 - accuracy: 0.9880\n",
      "Epoch 55/59\n",
      "30/30 [==============================] - 22s 725ms/step - loss: 0.0258 - accuracy: 0.9962\n",
      "Epoch 56/59\n",
      "30/30 [==============================] - 22s 723ms/step - loss: 0.0204 - accuracy: 0.9967\n",
      "Epoch 57/59\n",
      "30/30 [==============================] - 19s 630ms/step - loss: 0.0307 - accuracy: 0.9934\n",
      "Epoch 58/59\n",
      "30/30 [==============================] - 19s 648ms/step - loss: 0.0358 - accuracy: 0.9934\n",
      "Epoch 59/59\n",
      "30/30 [==============================] - 20s 677ms/step - loss: 0.0251 - accuracy: 0.9962\n"
     ]
    },
    {
     "data": {
      "text/plain": [
       "<keras.callbacks.History at 0x7fe8041c17e0>"
      ]
     },
     "execution_count": 15,
     "metadata": {},
     "output_type": "execute_result"
    }
   ],
   "source": [
    "cnn.fit(X_train, y_train, epochs=best_params['epochs'], batch_size=best_params['batch_size'])"
   ]
  },
  {
   "cell_type": "code",
   "execution_count": 16,
   "metadata": {
    "ExecuteTime": {
     "end_time": "2023-06-30T15:22:07.136029Z",
     "start_time": "2023-06-30T15:22:06.601576Z"
    }
   },
   "outputs": [
    {
     "name": "stdout",
     "output_type": "stream",
     "text": [
      "20/20 [==============================] - 2s 91ms/step\n",
      "Cohen k 0.9743589743589743\n",
      "Accuracy 0.9871794871794872\n",
      "F1-score [0.98701299 0.98734177]\n",
      "              precision    recall  f1-score   support\n",
      "\n",
      "           0       1.00      0.97      0.99       312\n",
      "           1       0.97      1.00      0.99       312\n",
      "\n",
      "    accuracy                           0.99       624\n",
      "   macro avg       0.99      0.99      0.99       624\n",
      "weighted avg       0.99      0.99      0.99       624\n",
      "\n"
     ]
    }
   ],
   "source": [
    "from sklearn.metrics import f1_score, classification_report, cohen_kappa_score\n",
    "\n",
    "predictions = cnn.predict(X_test)\n",
    "y_pred = np.argmax(predictions, axis=1)\n",
    "\n",
    "print(f'Cohen k {cohen_kappa_score(y_test, y_pred)}')\n",
    "print('Accuracy %s' % accuracy_score(y_test, y_pred))\n",
    "print('F1-score %s' % f1_score(y_test, y_pred, average=None))\n",
    "print(classification_report(y_test, y_pred))"
   ]
  },
  {
   "cell_type": "markdown",
   "metadata": {},
   "source": [
    "# LIME"
   ]
  },
  {
   "cell_type": "code",
   "execution_count": null,
   "metadata": {
    "ExecuteTime": {
     "end_time": "2023-06-30T15:22:10.460254Z",
     "start_time": "2023-06-30T15:22:07.138271Z"
    }
   },
   "outputs": [],
   "source": [
    "import lime\n",
    "from lime import lime_image\n",
    "from skimage.segmentation import mark_boundaries\n",
    "\n",
    "explainer = lime_image.LimeImageExplainer(random_state=42)\n",
    "\n",
    "index = 1500\n",
    "\n",
    "explanation = explainer.explain_instance(X_test[index], cnn.predict, top_labels=2)\n",
    "\n",
    "image, mask = explanation.get_image_and_mask(\n",
    "    cnn.predict(X_train[index].reshape((1, 27, 27, 3))).argmax(axis=1)[0],\n",
    "    positive_only=False,\n",
    "    hide_rest=False\n",
    ")\n",
    "\n",
    "marked_image = mark_boundaries(image, mask)"
   ]
  },
  {
   "cell_type": "code",
   "execution_count": null,
   "metadata": {
    "ExecuteTime": {
     "end_time": "2023-06-30T15:22:10.802123Z",
     "start_time": "2023-06-30T15:22:10.462427Z"
    }
   },
   "outputs": [],
   "source": [
    "plt.subplot(1, 2, 1)\n",
    "plt.imshow(X_test[index], cmap='gray')\n",
    "plt.title('Original Image')\n",
    "\n",
    "plt.subplot(1, 2, 2)\n",
    "plt.imshow(marked_image)\n",
    "plt.title('LIME Explanation')\n",
    "\n",
    "plt.show()"
   ]
  },
  {
   "cell_type": "markdown",
   "metadata": {},
   "source": [
    "# Another try"
   ]
  },
  {
   "cell_type": "code",
   "execution_count": null,
   "metadata": {
    "ExecuteTime": {
     "end_time": "2023-06-30T15:22:10.808292Z",
     "start_time": "2023-06-30T15:22:10.800154Z"
    }
   },
   "outputs": [],
   "source": [
    "traces.shape"
   ]
  },
  {
   "cell_type": "code",
   "execution_count": null,
   "metadata": {
    "ExecuteTime": {
     "end_time": "2023-06-30T15:22:10.819795Z",
     "start_time": "2023-06-30T15:22:10.805682Z"
    }
   },
   "outputs": [],
   "source": [
    "# sort by actors\n",
    "#sorted_indices = df['actor'].argsort()\n",
    "#df = df.iloc[sorted_indices].reset_index(drop=True)\n",
    "\n",
    "traces = traces[sorted_indices]\n",
    "\n",
    "traces[0]"
   ]
  },
  {
   "cell_type": "code",
   "execution_count": null,
   "metadata": {
    "ExecuteTime": {
     "end_time": "2023-06-30T15:22:10.860408Z",
     "start_time": "2023-06-30T15:22:10.823566Z"
    }
   },
   "outputs": [],
   "source": [
    "from sklearn.model_selection import train_test_split\n",
    "\n",
    "split_index = df[df['actor'] == 'actor_19'].index[0]\n",
    "\n",
    "X_train = traces[:split_index]\n",
    "X_test = traces[split_index:]\n",
    "\n",
    "X_train, X_test = X_train.reshape(-1, 27, 27, 1), X_test.reshape(-1, 27, 27, 1)\n",
    "X_train, X_test = X_train / 255.0, X_test / 255.0\n",
    "\n",
    "y_train = df[TARGET][:split_index].to_numpy()\n",
    "y_test = df[TARGET][split_index:].to_numpy()\n",
    "\n",
    "X_train_v, X_valid, y_train_v, y_valid = train_test_split(X_train, y_train, test_size=0.2, random_state=100)\n",
    "\n",
    "X_train_v.shape, X_valid.shape, X_test.shape, y_train_v.shape, y_valid.shape, y_test.shape"
   ]
  },
  {
   "cell_type": "markdown",
   "metadata": {},
   "source": [
    "# CNN again"
   ]
  },
  {
   "cell_type": "code",
   "execution_count": null,
   "metadata": {
    "ExecuteTime": {
     "end_time": "2023-06-30T15:22:10.860513Z",
     "start_time": "2023-06-30T15:22:10.835998Z"
    }
   },
   "outputs": [],
   "source": [
    "from sklearn.preprocessing import LabelEncoder\n",
    "\n",
    "label_encoder = LabelEncoder()\n",
    "\n",
    "y_train = label_encoder.fit_transform(y_train)\n",
    "y_train_v = label_encoder.fit_transform(y_train_v)\n",
    "y_valid = label_encoder.transform(y_valid)\n",
    "y_test = label_encoder.transform(y_test)"
   ]
  },
  {
   "cell_type": "code",
   "execution_count": null,
   "metadata": {
    "ExecuteTime": {
     "end_time": "2023-06-30T15:22:10.860678Z",
     "start_time": "2023-06-30T15:22:10.841233Z"
    }
   },
   "outputs": [],
   "source": [
    "from keras.src.layers import Conv2D, BatchNormalization, Activation, Dropout, GlobalAveragePooling2D, Dense\n",
    "from keras import Sequential\n",
    "\n",
    "\n",
    "def build_model(input_shape, n_categories,\n",
    "                n_conv=0, n_hidden=0, hidden_nodes=32,\n",
    "                dropout=0.01, filters=8, kernel_size=5, **kwargs):\n",
    "\n",
    "    model = Sequential()\n",
    "\n",
    "    model.add(Conv2D(filters=filters,\n",
    "                     kernel_size=(kernel_size, kernel_size),\n",
    "                     activation='relu',\n",
    "                     input_shape=input_shape,\n",
    "                     padding='same'\n",
    "                     ))\n",
    "\n",
    "    model.add(BatchNormalization())\n",
    "    model.add(Activation('relu'))\n",
    "\n",
    "    for _ in range(n_conv):\n",
    "        model.add(Conv2D(filters=filters, kernel_size=kernel_size, activation='relu', padding='same'))\n",
    "        model.add(BatchNormalization())\n",
    "        model.add(Activation('relu'))\n",
    "\n",
    "        model.add(Dropout(dropout))\n",
    "\n",
    "    model.add(GlobalAveragePooling2D())\n",
    "\n",
    "    for _ in range(n_hidden):\n",
    "        model.add(Dense(hidden_nodes, activation='relu'))\n",
    "\n",
    "    model.add(Dense(n_categories, activation='softmax'))\n",
    "    model.compile(loss='sparse_categorical_crossentropy', optimizer='adam', metrics=['accuracy'])\n",
    "\n",
    "    return model"
   ]
  },
  {
   "cell_type": "code",
   "execution_count": null,
   "metadata": {
    "ExecuteTime": {
     "end_time": "2023-06-30T15:22:10.860719Z",
     "start_time": "2023-06-30T15:22:10.844921Z"
    }
   },
   "outputs": [],
   "source": [
    "import optuna\n",
    "from sklearn.metrics import accuracy_score\n",
    "\n",
    "# objective function to be minimized\n",
    "def objective_fun(trial):\n",
    "\n",
    "    n_conv = trial.suggest_int('n_conv', 0, 3)\n",
    "    n_hidden = trial.suggest_int('n_hidden', 0, 3)\n",
    "    hidden_nodes = trial.suggest_int('hidden_nodes', 8, 256)\n",
    "    dropout = trial.suggest_float('dropout', 0, 0.3)\n",
    "    filters = trial.suggest_int('filters', 2, 16)\n",
    "    kernel_size = trial.suggest_int('kernel_size', 2, 16)\n",
    "    batch_size = trial.suggest_int('batch_size', 16, 64)\n",
    "    epochs = trial.suggest_int('epochs', 5, 90)\n",
    "\n",
    "    print(f'Running little bitch having n_conv={n_conv}, dropout={dropout}, hidden_nodes={hidden_nodes}')\n",
    "\n",
    "    cnn = build_model(X_train_v.shape[1:], len(np.unique(y_train_v)),\n",
    "                      n_hidden=n_hidden,\n",
    "                      hidden_nodes=hidden_nodes,\n",
    "                      n_conv=n_conv,\n",
    "                      dropout=dropout,\n",
    "                      filters=filters,\n",
    "                      kernel_size=kernel_size,\n",
    "                      )\n",
    "\n",
    "    cnn.fit(X_train_v, y_train_v, batch_size=batch_size, epochs=epochs, verbose=False)\n",
    "\n",
    "    y_pred = np.argmax(cnn.predict(X_valid), axis=1)\n",
    "\n",
    "    error = accuracy_score(y_valid, y_pred)\n",
    "\n",
    "    return error\n",
    "\n",
    "\n",
    "#study = optuna.create_study(direction='maximize')\n",
    "#study.optimize(objective_fun, n_trials=50, n_jobs=-1, catch=ValueError)"
   ]
  },
  {
   "cell_type": "code",
   "execution_count": null,
   "metadata": {
    "ExecuteTime": {
     "end_time": "2023-06-30T15:22:10.860777Z",
     "start_time": "2023-06-30T15:22:10.849050Z"
    }
   },
   "outputs": [],
   "source": [
    "# best_params = study.best_params\n",
    "best_params = {'n_conv': 1, 'n_hidden': 0, 'hidden_nodes': 92, 'dropout': 0.054672637087387316, 'filters': 5, 'kernel_size': 14, 'batch_size': 64, 'epochs': 87}"
   ]
  },
  {
   "cell_type": "code",
   "execution_count": null,
   "metadata": {
    "ExecuteTime": {
     "end_time": "2023-06-30T15:22:10.921535Z",
     "start_time": "2023-06-30T15:22:10.853121Z"
    }
   },
   "outputs": [],
   "source": [
    "cnn = build_model(X_train.shape[1:], 2, **best_params)\n",
    "cnn.summary()"
   ]
  },
  {
   "cell_type": "code",
   "execution_count": null,
   "metadata": {
    "ExecuteTime": {
     "end_time": "2023-06-30T15:25:50.940641Z",
     "start_time": "2023-06-30T15:22:10.900262Z"
    }
   },
   "outputs": [],
   "source": [
    "cnn.fit(X_train, y_train, epochs=best_params['epochs'], batch_size=best_params['batch_size'])"
   ]
  },
  {
   "cell_type": "code",
   "execution_count": null,
   "metadata": {
    "ExecuteTime": {
     "end_time": "2023-06-30T15:25:51.233924Z",
     "start_time": "2023-06-30T15:25:50.939640Z"
    }
   },
   "outputs": [],
   "source": [
    "from sklearn.metrics import f1_score, classification_report, cohen_kappa_score\n",
    "\n",
    "predictions = cnn.predict(X_test)\n",
    "y_pred = np.argmax(predictions, axis=1)\n",
    "\n",
    "print(f'Cohen k {cohen_kappa_score(y_test, y_pred)}')\n",
    "print('Accuracy %s' % accuracy_score(y_test, y_pred))\n",
    "print('F1-score %s' % f1_score(y_test, y_pred, average=None))\n",
    "print(classification_report(y_test, y_pred))"
   ]
  },
  {
   "cell_type": "markdown",
   "metadata": {},
   "source": [
    "# LIME again"
   ]
  },
  {
   "cell_type": "code",
   "execution_count": null,
   "metadata": {
    "ExecuteTime": {
     "end_time": "2023-06-30T15:25:51.238405Z",
     "start_time": "2023-06-30T15:25:51.235832Z"
    }
   },
   "outputs": [],
   "source": [
    "explainer = lime_image.LimeImageExplainer(random_state=123)\n",
    "explainer"
   ]
  },
  {
   "cell_type": "code",
   "execution_count": null,
   "metadata": {
    "ExecuteTime": {
     "end_time": "2023-06-30T15:25:51.273289Z",
     "start_time": "2023-06-30T15:25:51.246871Z"
    }
   },
   "outputs": [],
   "source": [
    "import skimage\n",
    "from skimage.color import gray2rgb, rgb2gray\n",
    "\n",
    "def make_prediction(color_img):\n",
    "    gray_img = rgb2gray(color_img).reshape(-1,27,27,1)\n",
    "    preds = cnn.predict(gray_img)\n",
    "    return preds\n"
   ]
  },
  {
   "cell_type": "code",
   "execution_count": null,
   "metadata": {
    "ExecuteTime": {
     "end_time": "2023-06-30T15:25:51.288346Z",
     "start_time": "2023-06-30T15:25:51.252477Z"
    }
   },
   "outputs": [],
   "source": [
    "colored_image = gray2rgb(X_test[0].squeeze())\n",
    "\n",
    "preds = make_prediction(colored_image)\n",
    "\n",
    "preds.shape"
   ]
  },
  {
   "cell_type": "code",
   "execution_count": null,
   "metadata": {
    "ExecuteTime": {
     "end_time": "2023-06-30T15:25:54.206558Z",
     "start_time": "2023-06-30T15:25:51.287840Z"
    }
   },
   "outputs": [],
   "source": [
    "from skimage.segmentation import felzenszwalb, flood_fill, flood\n",
    "\n",
    "rng = np.random.RandomState(42)\n",
    "idx = rng.choice(range(len(X_test)))\n",
    "\n",
    "explanation = explainer.explain_instance(X_test[idx].squeeze(), make_prediction, random_seed=123)\n",
    "\n",
    "explanation"
   ]
  },
  {
   "cell_type": "code",
   "execution_count": null,
   "metadata": {
    "ExecuteTime": {
     "end_time": "2023-06-30T15:25:54.209587Z",
     "start_time": "2023-06-30T15:25:54.202650Z"
    }
   },
   "outputs": [],
   "source": [
    "img, mask = explanation.get_image_and_mask(y_test[idx], positive_only=True, hide_rest=True)\n",
    "\n",
    "img.shape, mask.shape"
   ]
  },
  {
   "cell_type": "code",
   "execution_count": null,
   "metadata": {
    "ExecuteTime": {
     "end_time": "2023-06-30T15:25:54.921114Z",
     "start_time": "2023-06-30T15:25:54.214046Z"
    }
   },
   "outputs": [],
   "source": [
    "from skimage.segmentation import mark_boundaries\n",
    "import matplotlib.pyplot as plt\n",
    "\n",
    "def plot_comparison(main_image, img, mask):\n",
    "    fig = plt.figure(figsize=(15,5))\n",
    "\n",
    "    ax = fig.add_subplot(141)\n",
    "    ax.imshow(main_image, cmap=\"gray\")\n",
    "    ax.set_title(\"Original Image\")\n",
    "    ax = fig.add_subplot(142)\n",
    "    ax.imshow(img * 255)\n",
    "    ax.set_title(\"Image\")\n",
    "    ax = fig.add_subplot(143)\n",
    "    ax.imshow(mask)\n",
    "    ax.set_title(\"Mask\")\n",
    "    ax = fig.add_subplot(144)\n",
    "    ax.imshow(mark_boundaries(img * 255, mask, color=(0,1,0)));\n",
    "    ax.set_title(\"Image+Mask Combined\");\n",
    "\n",
    "plot_comparison(X_test[idx], img, mask)"
   ]
  },
  {
   "cell_type": "code",
   "execution_count": null,
   "metadata": {
    "ExecuteTime": {
     "end_time": "2023-06-30T15:25:54.922857Z",
     "start_time": "2023-06-30T15:25:54.920520Z"
    }
   },
   "outputs": [],
   "source": []
  }
 ],
 "metadata": {
  "kernelspec": {
   "display_name": "DM2",
   "language": "python",
   "name": "dm2"
  },
  "language_info": {
   "codemirror_mode": {
    "name": "ipython",
    "version": 3
   },
   "file_extension": ".py",
   "mimetype": "text/x-python",
   "name": "python",
   "nbconvert_exporter": "python",
   "pygments_lexer": "ipython3",
   "version": "3.10.6"
  }
 },
 "nbformat": 4,
 "nbformat_minor": 1
}
