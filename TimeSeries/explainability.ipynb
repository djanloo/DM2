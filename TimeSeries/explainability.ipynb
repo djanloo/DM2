{
 "cells": [
  {
   "cell_type": "code",
   "execution_count": 1,
   "metadata": {
    "collapsed": true,
    "ExecuteTime": {
     "end_time": "2023-06-29T12:25:43.116025Z",
     "start_time": "2023-06-29T12:25:43.113698Z"
    }
   },
   "outputs": [],
   "source": [
    "import os\n",
    "import numpy as np\n",
    "import pandas as pd\n",
    "import matplotlib.pyplot as plt\n",
    "import seaborn as sns; sns.set()\n",
    "\n",
    "import sys\n",
    "\n",
    "sys.path.append('../')\n",
    "import default_style\n",
    "\n",
    "TS_DATASET_FOLDER = os.path.join('..', 'dataset')\n",
    "TS_PREPROC_FOLDER = os.path.join(TS_DATASET_FOLDER, 'preprocessed_traces')\n",
    "DF_PREPROC_FILE = os.path.join(TS_PREPROC_FOLDER, 'preproc_ts.df')\n",
    "\n",
    "TARGET = 'statement'\n",
    "TRACES = 'syllables_02_STFT'"
   ]
  },
  {
   "cell_type": "code",
   "execution_count": 2,
   "outputs": [
    {
     "data": {
      "text/plain": "  vocal_channel  emotion emotional_intensity statement repetition     actor   \n0        speech  neutral              normal      kids        1st  actor_01  \\\n1        speech  neutral              normal      kids        2nd  actor_01   \n2        speech  neutral              normal      dogs        1st  actor_01   \n3        speech  neutral              normal      dogs        2nd  actor_01   \n4        speech     calm              normal      kids        1st  actor_01   \n\n                                                path sex   begin_s     end_s   \n0  ../dataset/Audio_Speech_Actors_01-24/Actor_01/...   M  1.009833  2.252000  \\\n1  ../dataset/Audio_Speech_Actors_01-24/Actor_01/...   M  1.068500  2.294667   \n2  ../dataset/Audio_Speech_Actors_01-24/Actor_01/...   M  1.012000  2.238500   \n3  ../dataset/Audio_Speech_Actors_01-24/Actor_01/...   M  1.008833  2.187167   \n4  ../dataset/Audio_Speech_Actors_01-24/Actor_01/...   M  1.023667  2.534167   \n\n                                      fourier_coeffs   \n0  [1.9371510e-07 1.2311488e-02 1.1168750e-02 ......  \\\n1  [3.5017729e-07 2.6199006e-02 2.5683409e-02 ......   \n2  [2.4959445e-07 1.2348385e-02 1.0678725e-02 ......   \n3  [1.1920929e-07 1.2154797e-02 1.6620804e-02 ......   \n4  [1.1920929e-07 2.0026919e-03 7.9689088e-04 ......   \n\n                             filtered_fourier_coeffs  syll_0_start_index   \n0  [1.9371510e-07 1.2311473e-02 1.1168692e-02 ......                   0  \\\n1  [3.5017729e-07 2.6198970e-02 2.5683273e-02 ......                   0   \n2  [2.49594450e-07 1.23483688e-02 1.06786685e-02 ...                   0   \n3  [1.1920929e-07 1.2154780e-02 1.6620707e-02 ......                   0   \n4  [1.1920929e-07 2.0026902e-03 7.9688808e-04 ......                   0   \n\n   syll_1_start_index  syll_2_start_index  syll_3_start_index   \n0                1128                2240                3200  \\\n1                2008                3208                3880   \n2                2816                3352                3912   \n3                1664                2664                3208   \n4                2088                3584                4832   \n\n   syll_4_start_index  syll_5_start_index  syll_6_start_index   \n0                4304                5208                5808  \\\n1                4224                5112                5800   \n2                4296                5232                5880   \n3                3672                4840                5448   \n4                5800                6944                7560   \n\n   syll_7_start_index  \n0                7448  \n1                7352  \n2                7352  \n3                7064  \n4                9056  ",
      "text/html": "<div>\n<style scoped>\n    .dataframe tbody tr th:only-of-type {\n        vertical-align: middle;\n    }\n\n    .dataframe tbody tr th {\n        vertical-align: top;\n    }\n\n    .dataframe thead th {\n        text-align: right;\n    }\n</style>\n<table border=\"1\" class=\"dataframe\">\n  <thead>\n    <tr style=\"text-align: right;\">\n      <th></th>\n      <th>vocal_channel</th>\n      <th>emotion</th>\n      <th>emotional_intensity</th>\n      <th>statement</th>\n      <th>repetition</th>\n      <th>actor</th>\n      <th>path</th>\n      <th>sex</th>\n      <th>begin_s</th>\n      <th>end_s</th>\n      <th>fourier_coeffs</th>\n      <th>filtered_fourier_coeffs</th>\n      <th>syll_0_start_index</th>\n      <th>syll_1_start_index</th>\n      <th>syll_2_start_index</th>\n      <th>syll_3_start_index</th>\n      <th>syll_4_start_index</th>\n      <th>syll_5_start_index</th>\n      <th>syll_6_start_index</th>\n      <th>syll_7_start_index</th>\n    </tr>\n  </thead>\n  <tbody>\n    <tr>\n      <th>0</th>\n      <td>speech</td>\n      <td>neutral</td>\n      <td>normal</td>\n      <td>kids</td>\n      <td>1st</td>\n      <td>actor_01</td>\n      <td>../dataset/Audio_Speech_Actors_01-24/Actor_01/...</td>\n      <td>M</td>\n      <td>1.009833</td>\n      <td>2.252000</td>\n      <td>[1.9371510e-07 1.2311488e-02 1.1168750e-02 ......</td>\n      <td>[1.9371510e-07 1.2311473e-02 1.1168692e-02 ......</td>\n      <td>0</td>\n      <td>1128</td>\n      <td>2240</td>\n      <td>3200</td>\n      <td>4304</td>\n      <td>5208</td>\n      <td>5808</td>\n      <td>7448</td>\n    </tr>\n    <tr>\n      <th>1</th>\n      <td>speech</td>\n      <td>neutral</td>\n      <td>normal</td>\n      <td>kids</td>\n      <td>2nd</td>\n      <td>actor_01</td>\n      <td>../dataset/Audio_Speech_Actors_01-24/Actor_01/...</td>\n      <td>M</td>\n      <td>1.068500</td>\n      <td>2.294667</td>\n      <td>[3.5017729e-07 2.6199006e-02 2.5683409e-02 ......</td>\n      <td>[3.5017729e-07 2.6198970e-02 2.5683273e-02 ......</td>\n      <td>0</td>\n      <td>2008</td>\n      <td>3208</td>\n      <td>3880</td>\n      <td>4224</td>\n      <td>5112</td>\n      <td>5800</td>\n      <td>7352</td>\n    </tr>\n    <tr>\n      <th>2</th>\n      <td>speech</td>\n      <td>neutral</td>\n      <td>normal</td>\n      <td>dogs</td>\n      <td>1st</td>\n      <td>actor_01</td>\n      <td>../dataset/Audio_Speech_Actors_01-24/Actor_01/...</td>\n      <td>M</td>\n      <td>1.012000</td>\n      <td>2.238500</td>\n      <td>[2.4959445e-07 1.2348385e-02 1.0678725e-02 ......</td>\n      <td>[2.49594450e-07 1.23483688e-02 1.06786685e-02 ...</td>\n      <td>0</td>\n      <td>2816</td>\n      <td>3352</td>\n      <td>3912</td>\n      <td>4296</td>\n      <td>5232</td>\n      <td>5880</td>\n      <td>7352</td>\n    </tr>\n    <tr>\n      <th>3</th>\n      <td>speech</td>\n      <td>neutral</td>\n      <td>normal</td>\n      <td>dogs</td>\n      <td>2nd</td>\n      <td>actor_01</td>\n      <td>../dataset/Audio_Speech_Actors_01-24/Actor_01/...</td>\n      <td>M</td>\n      <td>1.008833</td>\n      <td>2.187167</td>\n      <td>[1.1920929e-07 1.2154797e-02 1.6620804e-02 ......</td>\n      <td>[1.1920929e-07 1.2154780e-02 1.6620707e-02 ......</td>\n      <td>0</td>\n      <td>1664</td>\n      <td>2664</td>\n      <td>3208</td>\n      <td>3672</td>\n      <td>4840</td>\n      <td>5448</td>\n      <td>7064</td>\n    </tr>\n    <tr>\n      <th>4</th>\n      <td>speech</td>\n      <td>calm</td>\n      <td>normal</td>\n      <td>kids</td>\n      <td>1st</td>\n      <td>actor_01</td>\n      <td>../dataset/Audio_Speech_Actors_01-24/Actor_01/...</td>\n      <td>M</td>\n      <td>1.023667</td>\n      <td>2.534167</td>\n      <td>[1.1920929e-07 2.0026919e-03 7.9689088e-04 ......</td>\n      <td>[1.1920929e-07 2.0026902e-03 7.9688808e-04 ......</td>\n      <td>0</td>\n      <td>2088</td>\n      <td>3584</td>\n      <td>4832</td>\n      <td>5800</td>\n      <td>6944</td>\n      <td>7560</td>\n      <td>9056</td>\n    </tr>\n  </tbody>\n</table>\n</div>"
     },
     "execution_count": 2,
     "metadata": {},
     "output_type": "execute_result"
    }
   ],
   "source": [
    "df = pd.read_csv(DF_PREPROC_FILE).drop(columns=['Unnamed: 0'])\n",
    "df.head()"
   ],
   "metadata": {
    "collapsed": false,
    "ExecuteTime": {
     "end_time": "2023-06-29T12:25:43.148657Z",
     "start_time": "2023-06-29T12:25:43.120671Z"
    }
   }
  },
  {
   "cell_type": "code",
   "execution_count": 3,
   "outputs": [
    {
     "data": {
      "text/plain": "(2452, 27, 27)"
     },
     "execution_count": 3,
     "metadata": {},
     "output_type": "execute_result"
    }
   ],
   "source": [
    "file_path = os.path.join(TS_PREPROC_FOLDER, f'{TRACES}.npy')\n",
    "traces = np.load(file_path, allow_pickle=True)\n",
    "\n",
    "traces.shape"
   ],
   "metadata": {
    "collapsed": false,
    "ExecuteTime": {
     "end_time": "2023-06-29T12:25:43.159985Z",
     "start_time": "2023-06-29T12:25:43.150711Z"
    }
   }
  },
  {
   "cell_type": "markdown",
   "source": [
    "# RGB format"
   ],
   "metadata": {
    "collapsed": false
   }
  },
  {
   "cell_type": "code",
   "execution_count": 4,
   "outputs": [],
   "source": [
    "\"\"\"\n",
    "# array of empty RGB matrixes\n",
    "rgb_traces = np.zeros((len(traces), traces.shape[1], traces.shape[2], 3), dtype=np.float32)\n",
    "\n",
    "for i in range(len(traces)):\n",
    "    trace = traces[i]\n",
    "\n",
    "    min_value = np.min(trace)\n",
    "    max_value = np.max(trace)\n",
    "    normalized_trace = (trace - min_value) / (max_value - min_value)\n",
    "\n",
    "    red_channel = normalized_trace\n",
    "    green_channel = np.zeros_like(normalized_trace)\n",
    "    blue_channel = np.zeros_like(normalized_trace)\n",
    "\n",
    "    rgb_trace = np.dstack((red_channel, green_channel, blue_channel))\n",
    "    rgb_traces[i] = rgb_trace\n",
    "\n",
    "\n",
    "display(rgb_traces.shape)\n",
    "\n",
    "\"\"\"\n",
    "from PIL import Image\n",
    "\n",
    "rgb_traces = []\n",
    "\n",
    "for i in range(len(traces)):\n",
    "    trace = traces[i]\n",
    "\n",
    "    min_value = np.min(trace)\n",
    "    max_value = np.max(trace)\n",
    "    normalized_trace = (trace - min_value) / (max_value - min_value)\n",
    "\n",
    "    normalized_trace = ((1 - normalized_trace) * 255).astype(np.uint8)\n",
    "\n",
    "    rgb_trace = Image.fromarray(normalized_trace, mode='L').convert('RGB')\n",
    "\n",
    "    rgb_traces.append(rgb_trace)\n",
    "\n",
    "\n",
    "rgb_traces = np.array([np.array(trace) for trace in rgb_traces])"
   ],
   "metadata": {
    "collapsed": false,
    "ExecuteTime": {
     "end_time": "2023-06-29T12:25:43.312960Z",
     "start_time": "2023-06-29T12:25:43.166897Z"
    }
   }
  },
  {
   "cell_type": "code",
   "execution_count": 5,
   "outputs": [
    {
     "data": {
      "text/plain": "<Figure size 354.331x236.22 with 1 Axes>",
      "image/png": "[encoded data removed]"
     },
     "metadata": {},
     "output_type": "display_data"
    }
   ],
   "source": [
    "plt.imshow(rgb_traces[0])\n",
    "plt.axis('off')\n",
    "plt.show()"
   ],
   "metadata": {
    "collapsed": false,
    "ExecuteTime": {
     "end_time": "2023-06-29T12:25:43.403714Z",
     "start_time": "2023-06-29T12:25:43.313565Z"
    }
   }
  },
  {
   "cell_type": "markdown",
   "source": [
    "# Training, Validation and Test Sets Preparation"
   ],
   "metadata": {
    "collapsed": false
   }
  },
  {
   "cell_type": "code",
   "execution_count": 6,
   "outputs": [
    {
     "data": {
      "text/plain": "array([[[[122, 122, 122],\n         [120, 120, 120],\n         [115, 115, 115],\n         ...,\n         [147, 147, 147],\n         [162, 162, 162],\n         [170, 170, 170]],\n\n        [[130, 130, 130],\n         [103, 103, 103],\n         [100, 100, 100],\n         ...,\n         [170, 170, 170],\n         [185, 185, 185],\n         [180, 180, 180]],\n\n        [[155, 155, 155],\n         [117, 117, 117],\n         [124, 124, 124],\n         ...,\n         [168, 168, 168],\n         [147, 147, 147],\n         [167, 167, 167]],\n\n        ...,\n\n        [[177, 177, 177],\n         [ 60,  60,  60],\n         [ 62,  62,  62],\n         ...,\n         [207, 207, 207],\n         [200, 200, 200],\n         [198, 198, 198]],\n\n        [[127, 127, 127],\n         [ 92,  92,  92],\n         [ 81,  81,  81],\n         ...,\n         [191, 191, 191],\n         [187, 187, 187],\n         [188, 188, 188]],\n\n        [[ 96,  96,  96],\n         [ 74,  74,  74],\n         [ 85,  85,  85],\n         ...,\n         [166, 166, 166],\n         [172, 172, 172],\n         [178, 178, 178]]],\n\n\n       [[[149, 149, 149],\n         [ 62,  62,  62],\n         [ 14,  14,  14],\n         ...,\n         [156, 156, 156],\n         [183, 183, 183],\n         [139, 139, 139]],\n\n        [[144, 144, 144],\n         [ 60,  60,  60],\n         [ 11,  11,  11],\n         ...,\n         [125, 125, 125],\n         [131, 131, 131],\n         [130, 130, 130]],\n\n        [[143, 143, 143],\n         [ 62,  62,  62],\n         [ 11,  11,  11],\n         ...,\n         [121, 121, 121],\n         [154, 154, 154],\n         [116, 116, 116]],\n\n        ...,\n\n        [[176, 176, 176],\n         [ 61,  61,  61],\n         [ 32,  32,  32],\n         ...,\n         [153, 153, 153],\n         [196, 196, 196],\n         [145, 145, 145]],\n\n        [[155, 155, 155],\n         [ 63,  63,  63],\n         [ 41,  41,  41],\n         ...,\n         [155, 155, 155],\n         [159, 159, 159],\n         [164, 164, 164]],\n\n        [[155, 155, 155],\n         [ 62,  62,  62],\n         [ 41,  41,  41],\n         ...,\n         [178, 178, 178],\n         [163, 163, 163],\n         [163, 163, 163]]],\n\n\n       [[[108, 108, 108],\n         [ 41,  41,  41],\n         [ 56,  56,  56],\n         ...,\n         [182, 182, 182],\n         [171, 171, 171],\n         [208, 208, 208]],\n\n        [[114, 114, 114],\n         [ 27,  27,  27],\n         [ 37,  37,  37],\n         ...,\n         [132, 132, 132],\n         [153, 153, 153],\n         [168, 168, 168]],\n\n        [[108, 108, 108],\n         [ 28,  28,  28],\n         [ 37,  37,  37],\n         ...,\n         [129, 129, 129],\n         [ 98,  98,  98],\n         [127, 127, 127]],\n\n        ...,\n\n        [[100, 100, 100],\n         [ 11,  11,  11],\n         [  3,   3,   3],\n         ...,\n         [109, 109, 109],\n         [130, 130, 130],\n         [131, 131, 131]],\n\n        [[ 89,  89,  89],\n         [ 17,  17,  17],\n         [ 12,  12,  12],\n         ...,\n         [185, 185, 185],\n         [167, 167, 167],\n         [215, 215, 215]],\n\n        [[ 79,  79,  79],\n         [ 29,  29,  29],\n         [ 10,  10,  10],\n         ...,\n         [155, 155, 155],\n         [141, 141, 141],\n         [176, 176, 176]]],\n\n\n       ...,\n\n\n       [[[101, 101, 101],\n         [136, 136, 136],\n         [128, 128, 128],\n         ...,\n         [172, 172, 172],\n         [153, 153, 153],\n         [190, 190, 190]],\n\n        [[109, 109, 109],\n         [124, 124, 124],\n         [122, 122, 122],\n         ...,\n         [140, 140, 140],\n         [140, 140, 140],\n         [141, 141, 141]],\n\n        [[127, 127, 127],\n         [152, 152, 152],\n         [138, 138, 138],\n         ...,\n         [141, 141, 141],\n         [138, 138, 138],\n         [132, 132, 132]],\n\n        ...,\n\n        [[133, 133, 133],\n         [138, 138, 138],\n         [129, 129, 129],\n         ...,\n         [167, 167, 167],\n         [155, 155, 155],\n         [164, 164, 164]],\n\n        [[140, 140, 140],\n         [140, 140, 140],\n         [129, 129, 129],\n         ...,\n         [181, 181, 181],\n         [157, 157, 157],\n         [182, 182, 182]],\n\n        [[135, 135, 135],\n         [164, 164, 164],\n         [149, 149, 149],\n         ...,\n         [193, 193, 193],\n         [185, 185, 185],\n         [201, 201, 201]]],\n\n\n       [[[134, 134, 134],\n         [109, 109, 109],\n         [112, 112, 112],\n         ...,\n         [132, 132, 132],\n         [153, 153, 153],\n         [123, 123, 123]],\n\n        [[120, 120, 120],\n         [123, 123, 123],\n         [144, 144, 144],\n         ...,\n         [149, 149, 149],\n         [138, 138, 138],\n         [145, 145, 145]],\n\n        [[120, 120, 120],\n         [128, 128, 128],\n         [106, 106, 106],\n         ...,\n         [121, 121, 121],\n         [148, 148, 148],\n         [175, 175, 175]],\n\n        ...,\n\n        [[163, 163, 163],\n         [177, 177, 177],\n         [207, 207, 207],\n         ...,\n         [228, 228, 228],\n         [223, 223, 223],\n         [250, 250, 250]],\n\n        [[148, 148, 148],\n         [172, 172, 172],\n         [180, 180, 180],\n         ...,\n         [205, 205, 205],\n         [222, 222, 222],\n         [235, 235, 235]],\n\n        [[149, 149, 149],\n         [162, 162, 162],\n         [158, 158, 158],\n         ...,\n         [171, 171, 171],\n         [221, 221, 221],\n         [229, 229, 229]]],\n\n\n       [[[199, 199, 199],\n         [127, 127, 127],\n         [154, 154, 154],\n         ...,\n         [138, 138, 138],\n         [144, 144, 144],\n         [152, 152, 152]],\n\n        [[152, 152, 152],\n         [136, 136, 136],\n         [148, 148, 148],\n         ...,\n         [130, 130, 130],\n         [161, 161, 161],\n         [117, 117, 117]],\n\n        [[150, 150, 150],\n         [203, 203, 203],\n         [157, 157, 157],\n         ...,\n         [123, 123, 123],\n         [108, 108, 108],\n         [ 95,  95,  95]],\n\n        ...,\n\n        [[159, 159, 159],\n         [170, 170, 170],\n         [151, 151, 151],\n         ...,\n         [178, 178, 178],\n         [188, 188, 188],\n         [180, 180, 180]],\n\n        [[146, 146, 146],\n         [135, 135, 135],\n         [159, 159, 159],\n         ...,\n         [223, 223, 223],\n         [209, 209, 209],\n         [179, 179, 179]],\n\n        [[255, 255, 255],\n         [146, 146, 146],\n         [152, 152, 152],\n         ...,\n         [207, 207, 207],\n         [190, 190, 190],\n         [202, 202, 202]]]], dtype=uint8)"
     },
     "execution_count": 6,
     "metadata": {},
     "output_type": "execute_result"
    }
   ],
   "source": [
    "# sort by actors\n",
    "sorted_indices = df['actor'].argsort()\n",
    "df = df.iloc[sorted_indices].reset_index(drop=True)\n",
    "\n",
    "traces = traces[sorted_indices]\n",
    "\n",
    "rgb_traces"
   ],
   "metadata": {
    "collapsed": false,
    "ExecuteTime": {
     "end_time": "2023-06-29T12:25:43.418033Z",
     "start_time": "2023-06-29T12:25:43.407408Z"
    }
   }
  },
  {
   "cell_type": "code",
   "execution_count": 7,
   "outputs": [
    {
     "data": {
      "text/plain": "((1462, 27, 27, 3),\n (366, 27, 27, 3),\n (624, 27, 27, 3),\n (1462,),\n (366,),\n (624,))"
     },
     "execution_count": 7,
     "metadata": {},
     "output_type": "execute_result"
    }
   ],
   "source": [
    "from sklearn.model_selection import train_test_split\n",
    "\n",
    "split_index = df[df['actor'] == 'actor_19'].index[0]\n",
    "\n",
    "X_train = rgb_traces[:split_index]\n",
    "X_test = rgb_traces[split_index:]\n",
    "\n",
    "y_train = df[TARGET][:split_index].to_numpy()\n",
    "y_test = df[TARGET][split_index:].to_numpy()\n",
    "\n",
    "X_train_v, X_valid, y_train_v, y_valid = train_test_split(X_train, y_train, test_size=0.2, random_state=100)\n",
    "\n",
    "X_train_v.shape, X_valid.shape, X_test.shape, y_train_v.shape, y_valid.shape, y_test.shape"
   ],
   "metadata": {
    "collapsed": false,
    "ExecuteTime": {
     "end_time": "2023-06-29T12:25:43.607348Z",
     "start_time": "2023-06-29T12:25:43.416483Z"
    }
   }
  },
  {
   "cell_type": "markdown",
   "source": [
    "# CNN"
   ],
   "metadata": {
    "collapsed": false
   }
  },
  {
   "cell_type": "code",
   "execution_count": 8,
   "outputs": [],
   "source": [
    "from sklearn.preprocessing import LabelEncoder\n",
    "\n",
    "label_encoder = LabelEncoder()\n",
    "\n",
    "y_train = label_encoder.fit_transform(y_train)\n",
    "y_train_v = label_encoder.fit_transform(y_train_v)\n",
    "y_valid = label_encoder.transform(y_valid)\n",
    "y_test = label_encoder.transform(y_test)"
   ],
   "metadata": {
    "collapsed": false,
    "ExecuteTime": {
     "end_time": "2023-06-29T12:25:43.611183Z",
     "start_time": "2023-06-29T12:25:43.609588Z"
    }
   }
  },
  {
   "cell_type": "code",
   "execution_count": 9,
   "outputs": [],
   "source": [
    "from keras.src.layers import Conv2D, BatchNormalization, Activation, Dropout, GlobalAveragePooling2D, Dense\n",
    "from keras import Sequential\n",
    "\n",
    "\n",
    "def build_model(input_shape, n_categories,\n",
    "                n_conv=0, n_hidden=0, hidden_nodes=32,\n",
    "                dropout=0.01, filters=8, kernel_size=5, **kwargs):\n",
    "\n",
    "    model = Sequential()\n",
    "\n",
    "    model.add(Conv2D(filters=filters,\n",
    "                     kernel_size=(kernel_size, kernel_size),\n",
    "                     activation='relu',\n",
    "                     input_shape=input_shape,\n",
    "                     padding='same'\n",
    "                     ))\n",
    "\n",
    "    model.add(BatchNormalization())\n",
    "    model.add(Activation('relu'))\n",
    "\n",
    "    for _ in range(n_conv):\n",
    "        model.add(Conv2D(filters=filters, kernel_size=kernel_size, activation='relu', padding='same'))\n",
    "        model.add(BatchNormalization())\n",
    "        model.add(Activation('relu'))\n",
    "\n",
    "        model.add(Dropout(dropout))\n",
    "\n",
    "    model.add(GlobalAveragePooling2D())\n",
    "\n",
    "    for _ in range(n_hidden):\n",
    "        model.add(Dense(hidden_nodes, activation='relu'))\n",
    "\n",
    "    model.add(Dense(n_categories, activation='softmax'))\n",
    "    model.compile(loss='sparse_categorical_crossentropy', optimizer='adam', metrics=['accuracy'])\n",
    "\n",
    "    return model"
   ],
   "metadata": {
    "collapsed": false,
    "ExecuteTime": {
     "end_time": "2023-06-29T12:25:46.662081Z",
     "start_time": "2023-06-29T12:25:43.613995Z"
    }
   }
  },
  {
   "cell_type": "code",
   "execution_count": 10,
   "outputs": [
    {
     "name": "stderr",
     "output_type": "stream",
     "text": [
      "[I 2023-06-29 14:25:46,819] A new study created in memory with name: no-name-ed01e5de-6175-44fe-9a9b-7037eb78a68b\n"
     ]
    },
    {
     "name": "stdout",
     "output_type": "stream",
     "text": [
      "Running little bitch having n_conv=0, dropout=0.09692401136338438, hidden_nodes=224\n",
      "12/12 [==============================] - 0s 3ms/step\n"
     ]
    },
    {
     "name": "stderr",
     "output_type": "stream",
     "text": [
      "[I 2023-06-29 14:26:04,710] Trial 0 finished with value: 0.47540983606557374 and parameters: {'n_conv': 0, 'n_hidden': 0, 'hidden_nodes': 224, 'dropout': 0.09692401136338438, 'filters': 2, 'kernel_size': 12, 'batch_size': 27, 'epochs': 35}. Best is trial 0 with value: 0.47540983606557374.\n"
     ]
    }
   ],
   "source": [
    "import optuna\n",
    "from sklearn.metrics import accuracy_score\n",
    "\n",
    "# objective function to be minimized\n",
    "def objective_fun(trial):\n",
    "\n",
    "    n_conv = trial.suggest_int('n_conv', 0, 3)\n",
    "    n_hidden = trial.suggest_int('n_hidden', 0, 3)\n",
    "    hidden_nodes = trial.suggest_int('hidden_nodes', 8, 256)\n",
    "    dropout = trial.suggest_float('dropout', 0, 0.2)\n",
    "    filters = trial.suggest_int('filters', 2, 16)\n",
    "    kernel_size = trial.suggest_int('kernel_size', 2, 16)\n",
    "    batch_size = trial.suggest_int('batch_size', 16, 64)\n",
    "    epochs = trial.suggest_int('epochs', 5, 90)\n",
    "\n",
    "    print(f\"Running little bitch having n_conv={n_conv}, dropout={dropout}, hidden_nodes={hidden_nodes}\")\n",
    "\n",
    "    cnn = build_model(X_train_v.shape[1:], len(np.unique(y_train_v)),\n",
    "                      n_hidden=n_hidden,\n",
    "                      hidden_nodes=hidden_nodes,\n",
    "                      n_conv=n_conv,\n",
    "                      dropout=dropout,\n",
    "                      filters=filters,\n",
    "                      kernel_size=kernel_size,\n",
    "                      )\n",
    "\n",
    "    cnn.fit(X_train_v, y_train_v, batch_size=batch_size, epochs=epochs, verbose=False)\n",
    "\n",
    "    y_pred = np.argmax(cnn.predict(X_valid), axis=1)\n",
    "\n",
    "    error = accuracy_score(y_valid, y_pred)\n",
    "\n",
    "    return error\n",
    "\n",
    "\n",
    "study = optuna.create_study(direction='maximize')\n",
    "study.optimize(objective_fun, n_trials=1, n_jobs=-1, catch=ValueError)"
   ],
   "metadata": {
    "collapsed": false,
    "ExecuteTime": {
     "end_time": "2023-06-29T12:26:04.714235Z",
     "start_time": "2023-06-29T12:25:46.664835Z"
    }
   }
  },
  {
   "cell_type": "code",
   "execution_count": 11,
   "outputs": [
    {
     "data": {
      "text/plain": "{'n_conv': 0,\n 'n_hidden': 0,\n 'hidden_nodes': 224,\n 'dropout': 0.09692401136338438,\n 'filters': 2,\n 'kernel_size': 12,\n 'batch_size': 27,\n 'epochs': 35}"
     },
     "execution_count": 11,
     "metadata": {},
     "output_type": "execute_result"
    }
   ],
   "source": [
    "best_params = study.best_params\n",
    "best_params"
   ],
   "metadata": {
    "collapsed": false,
    "ExecuteTime": {
     "end_time": "2023-06-29T12:26:04.717984Z",
     "start_time": "2023-06-29T12:26:04.716040Z"
    }
   }
  },
  {
   "cell_type": "code",
   "execution_count": 12,
   "outputs": [
    {
     "name": "stdout",
     "output_type": "stream",
     "text": [
      "Model: \"sequential\"\n",
      "_________________________________________________________________\n",
      " Layer (type)                Output Shape              Param #   \n",
      "=================================================================\n",
      " conv2d (Conv2D)             (None, 27, 27, 2)         866       \n",
      "                                                                 \n",
      " batch_normalization (Batch  (None, 27, 27, 2)         8         \n",
      " Normalization)                                                  \n",
      "                                                                 \n",
      " activation (Activation)     (None, 27, 27, 2)         0         \n",
      "                                                                 \n",
      " global_average_pooling2d (  (None, 2)                 0         \n",
      " GlobalAveragePooling2D)                                         \n",
      "                                                                 \n",
      " dense (Dense)               (None, 2)                 6         \n",
      "                                                                 \n",
      "=================================================================\n",
      "Total params: 880 (3.44 KB)\n",
      "Trainable params: 876 (3.42 KB)\n",
      "Non-trainable params: 4 (16.00 Byte)\n",
      "_________________________________________________________________\n"
     ]
    }
   ],
   "source": [
    "cnn = build_model(X_train.shape[1:], 2, **best_params)\n",
    "cnn.summary()"
   ],
   "metadata": {
    "collapsed": false,
    "ExecuteTime": {
     "end_time": "2023-06-29T12:26:04.755444Z",
     "start_time": "2023-06-29T12:26:04.719499Z"
    }
   }
  },
  {
   "cell_type": "code",
   "execution_count": 13,
   "outputs": [
    {
     "name": "stdout",
     "output_type": "stream",
     "text": [
      "Epoch 1/35\n",
      "68/68 [==============================] - 1s 10ms/step - loss: 0.6996 - accuracy: 0.5000\n",
      "Epoch 2/35\n",
      "68/68 [==============================] - 1s 10ms/step - loss: 0.6940 - accuracy: 0.4885\n",
      "Epoch 3/35\n",
      "68/68 [==============================] - 1s 10ms/step - loss: 0.6933 - accuracy: 0.5011\n",
      "Epoch 4/35\n",
      "68/68 [==============================] - 1s 10ms/step - loss: 0.6932 - accuracy: 0.4973\n",
      "Epoch 5/35\n",
      "68/68 [==============================] - 1s 10ms/step - loss: 0.6933 - accuracy: 0.4918\n",
      "Epoch 6/35\n",
      "68/68 [==============================] - 1s 10ms/step - loss: 0.6932 - accuracy: 0.5088\n",
      "Epoch 7/35\n",
      "68/68 [==============================] - 1s 10ms/step - loss: 0.6930 - accuracy: 0.5005\n",
      "Epoch 8/35\n",
      "68/68 [==============================] - 1s 10ms/step - loss: 0.6931 - accuracy: 0.5000\n",
      "Epoch 9/35\n",
      "68/68 [==============================] - 1s 10ms/step - loss: 0.6928 - accuracy: 0.5038\n",
      "Epoch 10/35\n",
      "68/68 [==============================] - 1s 11ms/step - loss: 0.6927 - accuracy: 0.5219\n",
      "Epoch 11/35\n",
      "68/68 [==============================] - 1s 10ms/step - loss: 0.6926 - accuracy: 0.5219\n",
      "Epoch 12/35\n",
      "68/68 [==============================] - 1s 10ms/step - loss: 0.6927 - accuracy: 0.5208\n",
      "Epoch 13/35\n",
      "68/68 [==============================] - 1s 10ms/step - loss: 0.6929 - accuracy: 0.5186\n",
      "Epoch 14/35\n",
      "68/68 [==============================] - 1s 10ms/step - loss: 0.6925 - accuracy: 0.5274\n",
      "Epoch 15/35\n",
      "68/68 [==============================] - 1s 10ms/step - loss: 0.6926 - accuracy: 0.5170\n",
      "Epoch 16/35\n",
      "68/68 [==============================] - 1s 10ms/step - loss: 0.6926 - accuracy: 0.5148\n",
      "Epoch 17/35\n",
      "68/68 [==============================] - 1s 13ms/step - loss: 0.6926 - accuracy: 0.5208\n",
      "Epoch 18/35\n",
      "68/68 [==============================] - 1s 11ms/step - loss: 0.6921 - accuracy: 0.5197\n",
      "Epoch 19/35\n",
      "68/68 [==============================] - 1s 10ms/step - loss: 0.6931 - accuracy: 0.5044\n",
      "Epoch 20/35\n",
      "68/68 [==============================] - 1s 10ms/step - loss: 0.6915 - accuracy: 0.5208\n",
      "Epoch 21/35\n",
      "68/68 [==============================] - 1s 10ms/step - loss: 0.6917 - accuracy: 0.5153\n",
      "Epoch 22/35\n",
      "68/68 [==============================] - 1s 10ms/step - loss: 0.6909 - accuracy: 0.5306\n",
      "Epoch 23/35\n",
      "68/68 [==============================] - 1s 10ms/step - loss: 0.6910 - accuracy: 0.5301\n",
      "Epoch 24/35\n",
      "68/68 [==============================] - 1s 10ms/step - loss: 0.6905 - accuracy: 0.5465\n",
      "Epoch 25/35\n",
      "68/68 [==============================] - 1s 10ms/step - loss: 0.6901 - accuracy: 0.5465\n",
      "Epoch 26/35\n",
      "68/68 [==============================] - 1s 10ms/step - loss: 0.6916 - accuracy: 0.5312\n",
      "Epoch 27/35\n",
      "68/68 [==============================] - 1s 10ms/step - loss: 0.6907 - accuracy: 0.5317\n",
      "Epoch 28/35\n",
      "68/68 [==============================] - 1s 10ms/step - loss: 0.6909 - accuracy: 0.5405\n",
      "Epoch 29/35\n",
      "68/68 [==============================] - 1s 10ms/step - loss: 0.6903 - accuracy: 0.5399\n",
      "Epoch 30/35\n",
      "68/68 [==============================] - 1s 10ms/step - loss: 0.6898 - accuracy: 0.5410\n",
      "Epoch 31/35\n",
      "68/68 [==============================] - 1s 10ms/step - loss: 0.6893 - accuracy: 0.5432\n",
      "Epoch 32/35\n",
      "68/68 [==============================] - 1s 10ms/step - loss: 0.6901 - accuracy: 0.5421\n",
      "Epoch 33/35\n",
      "68/68 [==============================] - 1s 10ms/step - loss: 0.6895 - accuracy: 0.5306\n",
      "Epoch 34/35\n",
      "68/68 [==============================] - 1s 10ms/step - loss: 0.6900 - accuracy: 0.5279\n",
      "Epoch 35/35\n",
      "68/68 [==============================] - 1s 10ms/step - loss: 0.6900 - accuracy: 0.5301\n"
     ]
    },
    {
     "data": {
      "text/plain": "<keras.src.callbacks.History at 0x28ece02b0>"
     },
     "execution_count": 13,
     "metadata": {},
     "output_type": "execute_result"
    }
   ],
   "source": [
    "cnn.fit(X_train, y_train, epochs=best_params['epochs'], batch_size=best_params['batch_size'])"
   ],
   "metadata": {
    "collapsed": false,
    "ExecuteTime": {
     "end_time": "2023-06-29T12:26:28.561824Z",
     "start_time": "2023-06-29T12:26:04.744115Z"
    }
   }
  },
  {
   "cell_type": "code",
   "execution_count": 14,
   "outputs": [
    {
     "name": "stdout",
     "output_type": "stream",
     "text": [
      "20/20 [==============================] - 0s 3ms/step\n",
      "Cohen k -0.0064102564102563875\n",
      "Accuracy 0.4967948717948718\n",
      "F1-score [0.54624277 0.4352518 ]\n",
      "              precision    recall  f1-score   support\n",
      "\n",
      "           0       0.50      0.61      0.55       312\n",
      "           1       0.50      0.39      0.44       312\n",
      "\n",
      "    accuracy                           0.50       624\n",
      "   macro avg       0.50      0.50      0.49       624\n",
      "weighted avg       0.50      0.50      0.49       624\n",
      "\n"
     ]
    }
   ],
   "source": [
    "from sklearn.metrics import f1_score, classification_report, cohen_kappa_score\n",
    "\n",
    "predictions = cnn.predict(X_test)\n",
    "y_pred = np.argmax(predictions, axis=1)\n",
    "\n",
    "print(f'Cohen k {cohen_kappa_score(y_test, y_pred)}')\n",
    "print('Accuracy %s' % accuracy_score(y_test, y_pred))\n",
    "print('F1-score %s' % f1_score(y_test, y_pred, average=None))\n",
    "print(classification_report(y_test, y_pred))"
   ],
   "metadata": {
    "collapsed": false,
    "ExecuteTime": {
     "end_time": "2023-06-29T12:26:28.686001Z",
     "start_time": "2023-06-29T12:26:28.564602Z"
    }
   }
  },
  {
   "cell_type": "markdown",
   "source": [
    "# LIME"
   ],
   "metadata": {
    "collapsed": false
   }
  },
  {
   "cell_type": "code",
   "execution_count": 17,
   "outputs": [
    {
     "data": {
      "text/plain": "  0%|          | 0/1000 [00:00<?, ?it/s]",
      "application/vnd.jupyter.widget-view+json": {
       "version_major": 2,
       "version_minor": 0,
       "model_id": "b342165805544c7fa70adc69738b5a91"
      }
     },
     "metadata": {},
     "output_type": "display_data"
    },
    {
     "name": "stdout",
     "output_type": "stream",
     "text": [
      "1/1 [==============================] - 0s 14ms/step\n",
      "1/1 [==============================] - 0s 8ms/step\n",
      "1/1 [==============================] - 0s 10ms/step\n",
      "1/1 [==============================] - 0s 8ms/step\n",
      "1/1 [==============================] - 0s 8ms/step\n",
      "1/1 [==============================] - 0s 10ms/step\n",
      "1/1 [==============================] - 0s 8ms/step\n",
      "1/1 [==============================] - 0s 8ms/step\n",
      "1/1 [==============================] - 0s 8ms/step\n",
      "1/1 [==============================] - 0s 8ms/step\n",
      "1/1 [==============================] - 0s 9ms/step\n",
      "1/1 [==============================] - 0s 8ms/step\n",
      "1/1 [==============================] - 0s 8ms/step\n",
      "1/1 [==============================] - 0s 9ms/step\n",
      "1/1 [==============================] - 0s 8ms/step\n",
      "1/1 [==============================] - 0s 8ms/step\n",
      "1/1 [==============================] - 0s 9ms/step\n",
      "1/1 [==============================] - 0s 9ms/step\n",
      "1/1 [==============================] - 0s 8ms/step\n",
      "1/1 [==============================] - 0s 8ms/step\n",
      "1/1 [==============================] - 0s 9ms/step\n",
      "1/1 [==============================] - 0s 8ms/step\n",
      "1/1 [==============================] - 0s 8ms/step\n",
      "1/1 [==============================] - 0s 9ms/step\n",
      "1/1 [==============================] - 0s 8ms/step\n",
      "1/1 [==============================] - 0s 8ms/step\n",
      "1/1 [==============================] - 0s 9ms/step\n",
      "1/1 [==============================] - 0s 8ms/step\n",
      "1/1 [==============================] - 0s 8ms/step\n",
      "1/1 [==============================] - 0s 8ms/step\n",
      "1/1 [==============================] - 0s 9ms/step\n",
      "1/1 [==============================] - 0s 8ms/step\n",
      "1/1 [==============================] - 0s 8ms/step\n",
      "1/1 [==============================] - 0s 8ms/step\n",
      "1/1 [==============================] - 0s 9ms/step\n",
      "1/1 [==============================] - 0s 8ms/step\n",
      "1/1 [==============================] - 0s 8ms/step\n",
      "1/1 [==============================] - 0s 8ms/step\n",
      "1/1 [==============================] - 0s 9ms/step\n",
      "1/1 [==============================] - 0s 8ms/step\n",
      "1/1 [==============================] - 0s 8ms/step\n",
      "1/1 [==============================] - 0s 8ms/step\n",
      "1/1 [==============================] - 0s 9ms/step\n",
      "1/1 [==============================] - 0s 8ms/step\n",
      "1/1 [==============================] - 0s 8ms/step\n",
      "1/1 [==============================] - 0s 8ms/step\n",
      "1/1 [==============================] - 0s 8ms/step\n",
      "1/1 [==============================] - 0s 10ms/step\n",
      "1/1 [==============================] - 0s 8ms/step\n",
      "1/1 [==============================] - 0s 9ms/step\n",
      "1/1 [==============================] - 0s 8ms/step\n",
      "1/1 [==============================] - 0s 8ms/step\n",
      "1/1 [==============================] - 0s 8ms/step\n",
      "1/1 [==============================] - 0s 11ms/step\n",
      "1/1 [==============================] - 0s 8ms/step\n",
      "1/1 [==============================] - 0s 8ms/step\n",
      "1/1 [==============================] - 0s 8ms/step\n",
      "1/1 [==============================] - 0s 8ms/step\n",
      "1/1 [==============================] - 0s 8ms/step\n",
      "1/1 [==============================] - 0s 9ms/step\n",
      "1/1 [==============================] - 0s 9ms/step\n",
      "1/1 [==============================] - 0s 8ms/step\n",
      "1/1 [==============================] - 0s 8ms/step\n",
      "1/1 [==============================] - 0s 8ms/step\n",
      "1/1 [==============================] - 0s 8ms/step\n",
      "1/1 [==============================] - 0s 9ms/step\n",
      "1/1 [==============================] - 0s 8ms/step\n",
      "1/1 [==============================] - 0s 8ms/step\n",
      "1/1 [==============================] - 0s 9ms/step\n",
      "1/1 [==============================] - 0s 8ms/step\n",
      "1/1 [==============================] - 0s 9ms/step\n",
      "1/1 [==============================] - 0s 8ms/step\n",
      "1/1 [==============================] - 0s 8ms/step\n",
      "1/1 [==============================] - 0s 8ms/step\n",
      "1/1 [==============================] - 0s 8ms/step\n",
      "1/1 [==============================] - 0s 8ms/step\n",
      "1/1 [==============================] - 0s 9ms/step\n",
      "1/1 [==============================] - 0s 9ms/step\n",
      "1/1 [==============================] - 0s 8ms/step\n",
      "1/1 [==============================] - 0s 8ms/step\n",
      "1/1 [==============================] - 0s 8ms/step\n",
      "1/1 [==============================] - 0s 8ms/step\n",
      "1/1 [==============================] - 0s 8ms/step\n",
      "1/1 [==============================] - 0s 8ms/step\n",
      "1/1 [==============================] - 0s 8ms/step\n",
      "1/1 [==============================] - 0s 8ms/step\n",
      "1/1 [==============================] - 0s 8ms/step\n",
      "1/1 [==============================] - 0s 8ms/step\n",
      "1/1 [==============================] - 0s 8ms/step\n",
      "1/1 [==============================] - 0s 8ms/step\n",
      "1/1 [==============================] - 0s 9ms/step\n",
      "1/1 [==============================] - 0s 8ms/step\n",
      "1/1 [==============================] - 0s 10ms/step\n",
      "1/1 [==============================] - 0s 8ms/step\n",
      "1/1 [==============================] - 0s 8ms/step\n",
      "1/1 [==============================] - 0s 8ms/step\n",
      "1/1 [==============================] - 0s 8ms/step\n",
      "1/1 [==============================] - 0s 8ms/step\n",
      "1/1 [==============================] - 0s 8ms/step\n",
      "1/1 [==============================] - 0s 8ms/step\n"
     ]
    }
   ],
   "source": [
    "import lime\n",
    "from lime import lime_image\n",
    "from skimage.segmentation import mark_boundaries\n",
    "\n",
    "explainer = lime_image.LimeImageExplainer()\n",
    "\n",
    "explanation = explainer.explain_instance(X_test[0], cnn.predict, top_labels=2)\n",
    "\n",
    "image, mask = explanation.get_image_and_mask(0, hide_rest=True)\n",
    "marked_image = mark_boundaries(image, mask)"
   ],
   "metadata": {
    "collapsed": false,
    "ExecuteTime": {
     "end_time": "2023-06-29T12:29:55.937423Z",
     "start_time": "2023-06-29T12:29:53.627389Z"
    }
   }
  },
  {
   "cell_type": "code",
   "execution_count": 18,
   "outputs": [
    {
     "name": "stderr",
     "output_type": "stream",
     "text": [
      "Clipping input data to the valid range for imshow with RGB data ([0..1] for floats or [0..255] for integers).\n"
     ]
    },
    {
     "data": {
      "text/plain": "Text(0.5, 1.0, 'LIME Explanation')"
     },
     "execution_count": 18,
     "metadata": {},
     "output_type": "execute_result"
    },
    {
     "data": {
      "text/plain": "<Figure size 354.331x236.22 with 2 Axes>",
      "image/png": "[encoded data removed]"
     },
     "metadata": {},
     "output_type": "display_data"
    }
   ],
   "source": [
    "plt.subplot(1, 2, 1)\n",
    "plt.imshow(X_test[0], cmap='gray')\n",
    "plt.title('Original Image')\n",
    "\n",
    "plt.subplot(1, 2, 2)\n",
    "plt.imshow(marked_image)\n",
    "plt.title('LIME Explanation')"
   ],
   "metadata": {
    "collapsed": false,
    "ExecuteTime": {
     "end_time": "2023-06-29T12:30:11.819485Z",
     "start_time": "2023-06-29T12:30:11.206955Z"
    }
   }
  },
  {
   "cell_type": "code",
   "execution_count": null,
   "outputs": [],
   "source": [],
   "metadata": {
    "collapsed": false
   }
  }
 ],
 "metadata": {
  "kernelspec": {
   "display_name": "Python 3",
   "language": "python",
   "name": "python3"
  },
  "language_info": {
   "codemirror_mode": {
    "name": "ipython",
    "version": 2
   },
   "file_extension": ".py",
   "mimetype": "text/x-python",
   "name": "python",
   "nbconvert_exporter": "python",
   "pygments_lexer": "ipython2",
   "version": "2.7.6"
  }
 },
 "nbformat": 4,
 "nbformat_minor": 0
}
