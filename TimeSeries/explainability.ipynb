{
 "cells": [
  {
   "cell_type": "code",
   "execution_count": 1,
   "metadata": {
    "collapsed": true,
    "ExecuteTime": {
     "end_time": "2023-06-29T09:43:50.628534Z",
     "start_time": "2023-06-29T09:43:50.625548Z"
    }
   },
   "outputs": [],
   "source": [
    "import os\n",
    "import numpy as np\n",
    "import pandas as pd\n",
    "import matplotlib.pyplot as plt\n",
    "import seaborn as sns; sns.set()\n",
    "\n",
    "import sys\n",
    "\n",
    "sys.path.append('../')\n",
    "import default_style\n",
    "\n",
    "TS_DATASET_FOLDER = os.path.join('..', 'dataset')\n",
    "TS_PREPROC_FOLDER = os.path.join(TS_DATASET_FOLDER, 'preprocessed_traces')\n",
    "DF_PREPROC_FILE = os.path.join(TS_PREPROC_FOLDER, 'preproc_ts.df')\n",
    "\n",
    "TARGET = 'statement'\n",
    "TRACES = 'syllables_02_STFT'"
   ]
  },
  {
   "cell_type": "code",
   "execution_count": 2,
   "outputs": [
    {
     "data": {
      "text/plain": "  vocal_channel  emotion emotional_intensity statement repetition     actor   \n0        speech  neutral              normal      kids        1st  actor_01  \\\n1        speech  neutral              normal      kids        2nd  actor_01   \n2        speech  neutral              normal      dogs        1st  actor_01   \n3        speech  neutral              normal      dogs        2nd  actor_01   \n4        speech     calm              normal      kids        1st  actor_01   \n\n                                                path sex   begin_s     end_s   \n0  ../dataset/Audio_Speech_Actors_01-24/Actor_01/...   M  1.009833  2.252000  \\\n1  ../dataset/Audio_Speech_Actors_01-24/Actor_01/...   M  1.068500  2.294667   \n2  ../dataset/Audio_Speech_Actors_01-24/Actor_01/...   M  1.012000  2.238500   \n3  ../dataset/Audio_Speech_Actors_01-24/Actor_01/...   M  1.008833  2.187167   \n4  ../dataset/Audio_Speech_Actors_01-24/Actor_01/...   M  1.023667  2.534167   \n\n                                      fourier_coeffs   \n0  [1.9371510e-07 1.2311488e-02 1.1168750e-02 ......  \\\n1  [3.5017729e-07 2.6199006e-02 2.5683409e-02 ......   \n2  [2.4959445e-07 1.2348385e-02 1.0678725e-02 ......   \n3  [1.1920929e-07 1.2154797e-02 1.6620804e-02 ......   \n4  [1.1920929e-07 2.0026919e-03 7.9689088e-04 ......   \n\n                             filtered_fourier_coeffs  syll_0_start_index   \n0  [1.9371510e-07 1.2311473e-02 1.1168692e-02 ......                   0  \\\n1  [3.5017729e-07 2.6198970e-02 2.5683273e-02 ......                   0   \n2  [2.49594450e-07 1.23483688e-02 1.06786685e-02 ...                   0   \n3  [1.1920929e-07 1.2154780e-02 1.6620707e-02 ......                   0   \n4  [1.1920929e-07 2.0026902e-03 7.9688808e-04 ......                   0   \n\n   syll_1_start_index  syll_2_start_index  syll_3_start_index   \n0                1128                2240                3200  \\\n1                2008                3208                3880   \n2                2816                3352                3912   \n3                1664                2664                3208   \n4                2088                3584                4832   \n\n   syll_4_start_index  syll_5_start_index  syll_6_start_index   \n0                4304                5208                5808  \\\n1                4224                5112                5800   \n2                4296                5232                5880   \n3                3672                4840                5448   \n4                5800                6944                7560   \n\n   syll_7_start_index  \n0                7448  \n1                7352  \n2                7352  \n3                7064  \n4                9056  ",
      "text/html": "<div>\n<style scoped>\n    .dataframe tbody tr th:only-of-type {\n        vertical-align: middle;\n    }\n\n    .dataframe tbody tr th {\n        vertical-align: top;\n    }\n\n    .dataframe thead th {\n        text-align: right;\n    }\n</style>\n<table border=\"1\" class=\"dataframe\">\n  <thead>\n    <tr style=\"text-align: right;\">\n      <th></th>\n      <th>vocal_channel</th>\n      <th>emotion</th>\n      <th>emotional_intensity</th>\n      <th>statement</th>\n      <th>repetition</th>\n      <th>actor</th>\n      <th>path</th>\n      <th>sex</th>\n      <th>begin_s</th>\n      <th>end_s</th>\n      <th>fourier_coeffs</th>\n      <th>filtered_fourier_coeffs</th>\n      <th>syll_0_start_index</th>\n      <th>syll_1_start_index</th>\n      <th>syll_2_start_index</th>\n      <th>syll_3_start_index</th>\n      <th>syll_4_start_index</th>\n      <th>syll_5_start_index</th>\n      <th>syll_6_start_index</th>\n      <th>syll_7_start_index</th>\n    </tr>\n  </thead>\n  <tbody>\n    <tr>\n      <th>0</th>\n      <td>speech</td>\n      <td>neutral</td>\n      <td>normal</td>\n      <td>kids</td>\n      <td>1st</td>\n      <td>actor_01</td>\n      <td>../dataset/Audio_Speech_Actors_01-24/Actor_01/...</td>\n      <td>M</td>\n      <td>1.009833</td>\n      <td>2.252000</td>\n      <td>[1.9371510e-07 1.2311488e-02 1.1168750e-02 ......</td>\n      <td>[1.9371510e-07 1.2311473e-02 1.1168692e-02 ......</td>\n      <td>0</td>\n      <td>1128</td>\n      <td>2240</td>\n      <td>3200</td>\n      <td>4304</td>\n      <td>5208</td>\n      <td>5808</td>\n      <td>7448</td>\n    </tr>\n    <tr>\n      <th>1</th>\n      <td>speech</td>\n      <td>neutral</td>\n      <td>normal</td>\n      <td>kids</td>\n      <td>2nd</td>\n      <td>actor_01</td>\n      <td>../dataset/Audio_Speech_Actors_01-24/Actor_01/...</td>\n      <td>M</td>\n      <td>1.068500</td>\n      <td>2.294667</td>\n      <td>[3.5017729e-07 2.6199006e-02 2.5683409e-02 ......</td>\n      <td>[3.5017729e-07 2.6198970e-02 2.5683273e-02 ......</td>\n      <td>0</td>\n      <td>2008</td>\n      <td>3208</td>\n      <td>3880</td>\n      <td>4224</td>\n      <td>5112</td>\n      <td>5800</td>\n      <td>7352</td>\n    </tr>\n    <tr>\n      <th>2</th>\n      <td>speech</td>\n      <td>neutral</td>\n      <td>normal</td>\n      <td>dogs</td>\n      <td>1st</td>\n      <td>actor_01</td>\n      <td>../dataset/Audio_Speech_Actors_01-24/Actor_01/...</td>\n      <td>M</td>\n      <td>1.012000</td>\n      <td>2.238500</td>\n      <td>[2.4959445e-07 1.2348385e-02 1.0678725e-02 ......</td>\n      <td>[2.49594450e-07 1.23483688e-02 1.06786685e-02 ...</td>\n      <td>0</td>\n      <td>2816</td>\n      <td>3352</td>\n      <td>3912</td>\n      <td>4296</td>\n      <td>5232</td>\n      <td>5880</td>\n      <td>7352</td>\n    </tr>\n    <tr>\n      <th>3</th>\n      <td>speech</td>\n      <td>neutral</td>\n      <td>normal</td>\n      <td>dogs</td>\n      <td>2nd</td>\n      <td>actor_01</td>\n      <td>../dataset/Audio_Speech_Actors_01-24/Actor_01/...</td>\n      <td>M</td>\n      <td>1.008833</td>\n      <td>2.187167</td>\n      <td>[1.1920929e-07 1.2154797e-02 1.6620804e-02 ......</td>\n      <td>[1.1920929e-07 1.2154780e-02 1.6620707e-02 ......</td>\n      <td>0</td>\n      <td>1664</td>\n      <td>2664</td>\n      <td>3208</td>\n      <td>3672</td>\n      <td>4840</td>\n      <td>5448</td>\n      <td>7064</td>\n    </tr>\n    <tr>\n      <th>4</th>\n      <td>speech</td>\n      <td>calm</td>\n      <td>normal</td>\n      <td>kids</td>\n      <td>1st</td>\n      <td>actor_01</td>\n      <td>../dataset/Audio_Speech_Actors_01-24/Actor_01/...</td>\n      <td>M</td>\n      <td>1.023667</td>\n      <td>2.534167</td>\n      <td>[1.1920929e-07 2.0026919e-03 7.9689088e-04 ......</td>\n      <td>[1.1920929e-07 2.0026902e-03 7.9688808e-04 ......</td>\n      <td>0</td>\n      <td>2088</td>\n      <td>3584</td>\n      <td>4832</td>\n      <td>5800</td>\n      <td>6944</td>\n      <td>7560</td>\n      <td>9056</td>\n    </tr>\n  </tbody>\n</table>\n</div>"
     },
     "execution_count": 2,
     "metadata": {},
     "output_type": "execute_result"
    }
   ],
   "source": [
    "df = pd.read_csv(DF_PREPROC_FILE).drop(columns=['Unnamed: 0'])\n",
    "df.head()"
   ],
   "metadata": {
    "collapsed": false,
    "ExecuteTime": {
     "end_time": "2023-06-29T09:43:50.648685Z",
     "start_time": "2023-06-29T09:43:50.629170Z"
    }
   }
  },
  {
   "cell_type": "code",
   "execution_count": 3,
   "outputs": [
    {
     "data": {
      "text/plain": "(2452, 27, 27)"
     },
     "execution_count": 3,
     "metadata": {},
     "output_type": "execute_result"
    }
   ],
   "source": [
    "file_path = os.path.join(TS_PREPROC_FOLDER, f'{TRACES}.npy')\n",
    "traces = np.load(file_path, allow_pickle=True)\n",
    "\n",
    "traces.shape"
   ],
   "metadata": {
    "collapsed": false,
    "ExecuteTime": {
     "end_time": "2023-06-29T09:43:50.677060Z",
     "start_time": "2023-06-29T09:43:50.649265Z"
    }
   }
  },
  {
   "cell_type": "markdown",
   "source": [
    "# RGB format"
   ],
   "metadata": {
    "collapsed": false
   }
  },
  {
   "cell_type": "code",
   "execution_count": 4,
   "outputs": [
    {
     "data": {
      "text/plain": "(2452, 27, 27, 3)"
     },
     "metadata": {},
     "output_type": "display_data"
    },
    {
     "data": {
      "text/plain": "\"\\nfrom PIL import Image\\n\\nrgb_traces = []\\n\\nfor i in range(len(traces)):\\n    trace = traces[i]\\n\\n    min_value = np.min(trace)\\n    max_value = np.max(trace)\\n    normalized_trace = (trace - min_value) / (max_value - min_value)\\n\\n    normalized_trace = (normalized_trace * 255).astype(np.uint8)\\n\\n    rgb_trace = Image.fromarray(normalized_trace, mode='L').convert('RGB')\\n\\n    rgb_traces.append(rgb_trace)\\n\\n\\nrgb_traces = np.array([np.array(trace) for trace in rgb_traces])\\n\""
     },
     "execution_count": 4,
     "metadata": {},
     "output_type": "execute_result"
    }
   ],
   "source": [
    "# array of empty RGB matrixes\n",
    "rgb_traces = np.zeros((len(traces), traces.shape[1], traces.shape[2], 3), dtype=np.float32)\n",
    "\n",
    "for i in range(len(traces)):\n",
    "    trace = traces[i]\n",
    "\n",
    "    min_value = np.min(trace)\n",
    "    max_value = np.max(trace)\n",
    "    normalized_trace = (trace - min_value) / (max_value - min_value)\n",
    "\n",
    "    red_channel = normalized_trace\n",
    "    green_channel = np.zeros_like(normalized_trace)\n",
    "    blue_channel = np.zeros_like(normalized_trace)\n",
    "\n",
    "    rgb_trace = np.dstack((red_channel, green_channel, blue_channel))\n",
    "    rgb_traces[i] = rgb_trace\n",
    "\n",
    "\n",
    "display(rgb_traces.shape)\n",
    "\n",
    "\"\"\"\n",
    "from PIL import Image\n",
    "\n",
    "rgb_traces = []\n",
    "\n",
    "for i in range(len(traces)):\n",
    "    trace = traces[i]\n",
    "\n",
    "    min_value = np.min(trace)\n",
    "    max_value = np.max(trace)\n",
    "    normalized_trace = (trace - min_value) / (max_value - min_value)\n",
    "\n",
    "    normalized_trace = (normalized_trace * 255).astype(np.uint8)\n",
    "\n",
    "    rgb_trace = Image.fromarray(normalized_trace, mode='L').convert('RGB')\n",
    "\n",
    "    rgb_traces.append(rgb_trace)\n",
    "\n",
    "\n",
    "rgb_traces = np.array([np.array(trace) for trace in rgb_traces])\n",
    "\"\"\""
   ],
   "metadata": {
    "collapsed": false,
    "ExecuteTime": {
     "end_time": "2023-06-29T09:43:50.725944Z",
     "start_time": "2023-06-29T09:43:50.671394Z"
    }
   }
  },
  {
   "cell_type": "code",
   "execution_count": 5,
   "outputs": [
    {
     "data": {
      "text/plain": "<Figure size 354.331x236.22 with 1 Axes>",
      "image/png": "[encoded data removed]"
     },
     "metadata": {},
     "output_type": "display_data"
    }
   ],
   "source": [
    "plt.imshow(rgb_traces[0])\n",
    "plt.axis('off')\n",
    "plt.show()"
   ],
   "metadata": {
    "collapsed": false,
    "ExecuteTime": {
     "end_time": "2023-06-29T09:43:50.798385Z",
     "start_time": "2023-06-29T09:43:50.705324Z"
    }
   }
  },
  {
   "cell_type": "markdown",
   "source": [
    "# Training, Validation and Test Sets Preparation"
   ],
   "metadata": {
    "collapsed": false
   }
  },
  {
   "cell_type": "code",
   "execution_count": 6,
   "outputs": [
    {
     "data": {
      "text/plain": "array([[[[0.520202  , 0.        , 0.        ],\n         [0.5271942 , 0.        , 0.        ],\n         [0.54677725, 0.        , 0.        ],\n         ...,\n         [0.42110288, 0.        , 0.        ],\n         [0.3612241 , 0.        , 0.        ],\n         [0.33273795, 0.        , 0.        ]],\n\n        [[0.48784044, 0.        , 0.        ],\n         [0.5939264 , 0.        , 0.        ],\n         [0.6059518 , 0.        , 0.        ],\n         ...,\n         [0.3325991 , 0.        , 0.        ],\n         [0.2731964 , 0.        , 0.        ],\n         [0.29290196, 0.        , 0.        ]],\n\n        [[0.38887653, 0.        , 0.        ],\n         [0.53804153, 0.        , 0.        ],\n         [0.51099825, 0.        , 0.        ],\n         ...,\n         [0.33840528, 0.        , 0.        ],\n         [0.4223887 , 0.        , 0.        ],\n         [0.34501615, 0.        , 0.        ]],\n\n        ...,\n\n        [[0.30227807, 0.        , 0.        ],\n         [0.76247066, 0.        , 0.        ],\n         [0.75470394, 0.        , 0.        ],\n         ...,\n         [0.18771696, 0.        , 0.        ],\n         [0.215483  , 0.        , 0.        ],\n         [0.22223714, 0.        , 0.        ]],\n\n        [[0.4982415 , 0.        , 0.        ],\n         [0.63749415, 0.        , 0.        ],\n         [0.6815538 , 0.        , 0.        ],\n         ...,\n         [0.24839841, 0.        , 0.        ],\n         [0.26633897, 0.        , 0.        ],\n         [0.2615133 , 0.        , 0.        ]],\n\n        [[0.6221154 , 0.        , 0.        ],\n         [0.7093644 , 0.        , 0.        ],\n         [0.6648851 , 0.        , 0.        ],\n         ...,\n         [0.34786084, 0.        , 0.        ],\n         [0.32377008, 0.        , 0.        ],\n         [0.3014195 , 0.        , 0.        ]]],\n\n\n       [[[0.4125677 , 0.        , 0.        ],\n         [0.7537893 , 0.        , 0.        ],\n         [0.9415533 , 0.        , 0.        ],\n         ...,\n         [0.3853662 , 0.        , 0.        ],\n         [0.28196737, 0.        , 0.        ],\n         [0.45246932, 0.        , 0.        ]],\n\n        [[0.43423346, 0.        , 0.        ],\n         [0.7641131 , 0.        , 0.        ],\n         [0.95399314, 0.        , 0.        ],\n         ...,\n         [0.50914323, 0.        , 0.        ],\n         [0.48284683, 0.        , 0.        ],\n         [0.48731935, 0.        , 0.        ]],\n\n        [[0.4387228 , 0.        , 0.        ],\n         [0.755089  , 0.        , 0.        ],\n         [0.9543683 , 0.        , 0.        ],\n         ...,\n         [0.52325624, 0.        , 0.        ],\n         [0.39262998, 0.        , 0.        ],\n         [0.5440035 , 0.        , 0.        ]],\n\n        ...,\n\n        [[0.3066879 , 0.        , 0.        ],\n         [0.76028717, 0.        , 0.        ],\n         [0.87155557, 0.        , 0.        ],\n         ...,\n         [0.39963278, 0.        , 0.        ],\n         [0.22915652, 0.        , 0.        ],\n         [0.42952272, 0.        , 0.        ]],\n\n        [[0.39191112, 0.        , 0.        ],\n         [0.75270945, 0.        , 0.        ],\n         [0.8374268 , 0.        , 0.        ],\n         ...,\n         [0.39035147, 0.        , 0.        ],\n         [0.37354302, 0.        , 0.        ],\n         [0.35392848, 0.        , 0.        ]],\n\n        [[0.38853917, 0.        , 0.        ],\n         [0.754111  , 0.        , 0.        ],\n         [0.8353294 , 0.        , 0.        ],\n         ...,\n         [0.3017404 , 0.        , 0.        ],\n         [0.35926518, 0.        , 0.        ],\n         [0.35819444, 0.        , 0.        ]]],\n\n\n       [[[0.57598513, 0.        , 0.        ],\n         [0.83616793, 0.        , 0.        ],\n         [0.7779174 , 0.        , 0.        ],\n         ...,\n         [0.28530607, 0.        , 0.        ],\n         [0.32826036, 0.        , 0.        ],\n         [0.18252741, 0.        , 0.        ]],\n\n        [[0.5527772 , 0.        , 0.        ],\n         [0.89295936, 0.        , 0.        ],\n         [0.85191417, 0.        , 0.        ],\n         ...,\n         [0.4821905 , 0.        , 0.        ],\n         [0.39775386, 0.        , 0.        ],\n         [0.33890358, 0.        , 0.        ]],\n\n        [[0.5732544 , 0.        , 0.        ],\n         [0.8867312 , 0.        , 0.        ],\n         [0.85287434, 0.        , 0.        ],\n         ...,\n         [0.49115673, 0.        , 0.        ],\n         [0.61390674, 0.        , 0.        ],\n         [0.49833798, 0.        , 0.        ]],\n\n        ...,\n\n        [[0.60598326, 0.        , 0.        ],\n         [0.9561786 , 0.        , 0.        ],\n         [0.9849862 , 0.        , 0.        ],\n         ...,\n         [0.56890583, 0.        , 0.        ],\n         [0.4867026 , 0.        , 0.        ],\n         [0.48304358, 0.        , 0.        ]],\n\n        [[0.6506483 , 0.        , 0.        ],\n         [0.931097  , 0.        , 0.        ],\n         [0.952221  , 0.        , 0.        ],\n         ...,\n         [0.2718827 , 0.        , 0.        ],\n         [0.34230196, 0.        , 0.        ],\n         [0.15363626, 0.        , 0.        ]],\n\n        [[0.68688154, 0.        , 0.        ],\n         [0.88617957, 0.        , 0.        ],\n         [0.95701355, 0.        , 0.        ],\n         ...,\n         [0.39195916, 0.        , 0.        ],\n         [0.44336325, 0.        , 0.        ],\n         [0.30848026, 0.        , 0.        ]]],\n\n\n       ...,\n\n\n       [[[0.6000817 , 0.        , 0.        ],\n         [0.4658021 , 0.        , 0.        ],\n         [0.49695623, 0.        , 0.        ],\n         ...,\n         [0.3221099 , 0.        , 0.        ],\n         [0.3967705 , 0.        , 0.        ],\n         [0.2510616 , 0.        , 0.        ]],\n\n        [[0.570852  , 0.        , 0.        ],\n         [0.5099194 , 0.        , 0.        ],\n         [0.5177303 , 0.        , 0.        ],\n         ...,\n         [0.4485776 , 0.        , 0.        ],\n         [0.4471862 , 0.        , 0.        ],\n         [0.44458765, 0.        , 0.        ]],\n\n        [[0.49905273, 0.        , 0.        ],\n         [0.4019574 , 0.        , 0.        ],\n         [0.45862395, 0.        , 0.        ],\n         ...,\n         [0.4463294 , 0.        , 0.        ],\n         [0.45642617, 0.        , 0.        ],\n         [0.48009133, 0.        , 0.        ]],\n\n        ...,\n\n        [[0.47650003, 0.        , 0.        ],\n         [0.45647627, 0.        , 0.        ],\n         [0.4905426 , 0.        , 0.        ],\n         ...,\n         [0.34206623, 0.        , 0.        ],\n         [0.38851494, 0.        , 0.        ],\n         [0.3559491 , 0.        , 0.        ]],\n\n        [[0.44983482, 0.        , 0.        ],\n         [0.44916597, 0.        , 0.        ],\n         [0.4929308 , 0.        , 0.        ],\n         ...,\n         [0.2895401 , 0.        , 0.        ],\n         [0.38307357, 0.        , 0.        ],\n         [0.28315184, 0.        , 0.        ]],\n\n        [[0.4701487 , 0.        , 0.        ],\n         [0.35660052, 0.        , 0.        ],\n         [0.41566646, 0.        , 0.        ],\n         ...,\n         [0.24013111, 0.        , 0.        ],\n         [0.27080324, 0.        , 0.        ],\n         [0.2093857 , 0.        , 0.        ]]],\n\n\n       [[[0.47428298, 0.        , 0.        ],\n         [0.5724913 , 0.        , 0.        ],\n         [0.5595888 , 0.        , 0.        ],\n         ...,\n         [0.48037046, 0.        , 0.        ],\n         [0.39985383, 0.        , 0.        ],\n         [0.5162641 , 0.        , 0.        ]],\n\n        [[0.5262018 , 0.        , 0.        ],\n         [0.5159893 , 0.        , 0.        ],\n         [0.4342958 , 0.        , 0.        ],\n         ...,\n         [0.4149408 , 0.        , 0.        ],\n         [0.45814246, 0.        , 0.        ],\n         [0.4304321 , 0.        , 0.        ]],\n\n        [[0.5265191 , 0.        , 0.        ],\n         [0.49468383, 0.        , 0.        ],\n         [0.58382004, 0.        , 0.        ],\n         ...,\n         [0.52247375, 0.        , 0.        ],\n         [0.41865999, 0.        , 0.        ],\n         [0.31060144, 0.        , 0.        ]],\n\n        ...,\n\n        [[0.35820282, 0.        , 0.        ],\n         [0.30340928, 0.        , 0.        ],\n         [0.18595736, 0.        , 0.        ],\n         ...,\n         [0.10344161, 0.        , 0.        ],\n         [0.12210441, 0.        , 0.        ],\n         [0.01960382, 0.        , 0.        ]],\n\n        [[0.419379  , 0.        , 0.        ],\n         [0.3230676 , 0.        , 0.        ],\n         [0.2910523 , 0.        , 0.        ],\n         ...,\n         [0.19236921, 0.        , 0.        ],\n         [0.12627426, 0.        , 0.        ],\n         [0.07795682, 0.        , 0.        ]],\n\n        [[0.4150398 , 0.        , 0.        ],\n         [0.3640772 , 0.        , 0.        ],\n         [0.3801237 , 0.        , 0.        ],\n         ...,\n         [0.32717845, 0.        , 0.        ],\n         [0.13309905, 0.        , 0.        ],\n         [0.10074756, 0.        , 0.        ]]],\n\n\n       [[[0.21930571, 0.        , 0.        ],\n         [0.50141895, 0.        , 0.        ],\n         [0.39601088, 0.        , 0.        ],\n         ...,\n         [0.45639417, 0.        , 0.        ],\n         [0.4327885 , 0.        , 0.        ],\n         [0.40298483, 0.        , 0.        ]],\n\n        [[0.40246305, 0.        , 0.        ],\n         [0.46533436, 0.        , 0.        ],\n         [0.41666695, 0.        , 0.        ],\n         ...,\n         [0.48863414, 0.        , 0.        ],\n         [0.36498526, 0.        , 0.        ],\n         [0.5390002 , 0.        , 0.        ]],\n\n        [[0.40909067, 0.        , 0.        ],\n         [0.20297727, 0.        , 0.        ],\n         [0.38239974, 0.        , 0.        ],\n         ...,\n         [0.5162743 , 0.        , 0.        ],\n         [0.5739985 , 0.        , 0.        ],\n         [0.6235829 , 0.        , 0.        ]],\n\n        ...,\n\n        [[0.37520882, 0.        , 0.        ],\n         [0.32991093, 0.        , 0.        ],\n         [0.40424836, 0.        , 0.        ],\n         ...,\n         [0.2998057 , 0.        , 0.        ],\n         [0.26190406, 0.        , 0.        ],\n         [0.2927005 , 0.        , 0.        ]],\n\n        [[0.426226  , 0.        , 0.        ],\n         [0.47036394, 0.        , 0.        ],\n         [0.37581018, 0.        , 0.        ],\n         ...,\n         [0.12193984, 0.        , 0.        ],\n         [0.17894934, 0.        , 0.        ],\n         [0.2952576 , 0.        , 0.        ]],\n\n        [[0.        , 0.        , 0.        ],\n         [0.42604   , 0.        , 0.        ],\n         [0.40029296, 0.        , 0.        ],\n         ...,\n         [0.18577418, 0.        , 0.        ],\n         [0.2536318 , 0.        , 0.        ],\n         [0.20703161, 0.        , 0.        ]]]], dtype=float32)"
     },
     "execution_count": 6,
     "metadata": {},
     "output_type": "execute_result"
    }
   ],
   "source": [
    "# sort by actors\n",
    "sorted_indices = df['actor'].argsort()\n",
    "df = df.iloc[sorted_indices].reset_index(drop=True)\n",
    "\n",
    "traces = traces[sorted_indices]\n",
    "\n",
    "rgb_traces"
   ],
   "metadata": {
    "collapsed": false,
    "ExecuteTime": {
     "end_time": "2023-06-29T09:43:50.812268Z",
     "start_time": "2023-06-29T09:43:50.803546Z"
    }
   }
  },
  {
   "cell_type": "code",
   "execution_count": 7,
   "outputs": [
    {
     "data": {
      "text/plain": "((1462, 27, 27, 3),\n (366, 27, 27, 3),\n (624, 27, 27, 3),\n (1462,),\n (366,),\n (624,))"
     },
     "execution_count": 7,
     "metadata": {},
     "output_type": "execute_result"
    }
   ],
   "source": [
    "from sklearn.model_selection import train_test_split\n",
    "\n",
    "split_index = df[df['actor'] == 'actor_19'].index[0]\n",
    "\n",
    "X_train = rgb_traces[:split_index]\n",
    "X_test = rgb_traces[split_index:]\n",
    "\n",
    "y_train = df[TARGET][:split_index].to_numpy()\n",
    "y_test = df[TARGET][split_index:].to_numpy()\n",
    "\n",
    "X_train_v, X_valid, y_train_v, y_valid = train_test_split(X_train, y_train, test_size=0.2, random_state=100)\n",
    "\n",
    "X_train_v.shape, X_valid.shape, X_test.shape, y_train_v.shape, y_valid.shape, y_test.shape"
   ],
   "metadata": {
    "collapsed": false,
    "ExecuteTime": {
     "end_time": "2023-06-29T09:43:50.944122Z",
     "start_time": "2023-06-29T09:43:50.813791Z"
    }
   }
  },
  {
   "cell_type": "markdown",
   "source": [
    "# CNN"
   ],
   "metadata": {
    "collapsed": false
   }
  },
  {
   "cell_type": "code",
   "execution_count": 8,
   "outputs": [],
   "source": [
    "from keras.src.layers import Conv2D, BatchNormalization, Activation, Dropout, GlobalAveragePooling2D, Dense\n",
    "from keras import Sequential\n",
    "\n",
    "\n",
    "def build_model(input_shape, n_categories,\n",
    "                n_conv=0, n_hidden=0, hidden_nodes=32,\n",
    "                dropout=0.01, filters=8, kernel_size=(5, 5), **kwargs):\n",
    "\n",
    "    model = Sequential()\n",
    "\n",
    "    model.add(Conv2D(filters=filters,\n",
    "                     kernel_size=(kernel_size, kernel_size),\n",
    "                     activation='relu',\n",
    "                     input_shape=input_shape,\n",
    "                     padding='same'\n",
    "                     ))\n",
    "\n",
    "    model.add(BatchNormalization())\n",
    "    model.add(Activation('relu'))\n",
    "\n",
    "    for _ in range(n_conv):\n",
    "        model.add(Conv2D(filters=filters, kernel_size=kernel_size, activation='relu', padding='same'))\n",
    "        model.add(BatchNormalization())\n",
    "        model.add(Activation('relu'))\n",
    "\n",
    "        model.add(Dropout(dropout))\n",
    "\n",
    "    model.add(GlobalAveragePooling2D())\n",
    "\n",
    "    for _ in range(n_hidden):\n",
    "        model.add(Dense(hidden_nodes, activation='relu'))\n",
    "\n",
    "    model.add(Dense(n_categories, activation='softmax'))\n",
    "    model.compile(loss='sparse_categorical_crossentropy', optimizer='adam', metrics=['accuracy'])\n",
    "\n",
    "    return model"
   ],
   "metadata": {
    "collapsed": false,
    "ExecuteTime": {
     "end_time": "2023-06-29T09:43:53.418487Z",
     "start_time": "2023-06-29T09:43:50.948333Z"
    }
   }
  },
  {
   "cell_type": "code",
   "execution_count": 9,
   "outputs": [
    {
     "name": "stderr",
     "output_type": "stream",
     "text": [
      "[I 2023-06-29 11:43:53,575] A new study created in memory with name: no-name-b19de432-fff2-492b-9f5c-b8141d3d063b\n"
     ]
    },
    {
     "name": "stdout",
     "output_type": "stream",
     "text": [
      "Running little bitch having n_conv=2, dropout=0.13506556924818283, hidden_nodes=56\n",
      "Running little bitch having n_conv=2, dropout=0.17310531975755317, hidden_nodes=23\n",
      "Running little bitch having n_conv=0, dropout=0.01533992961935713, hidden_nodes=253\n",
      "Running little bitch having n_conv=0, dropout=0.07258009989221292, hidden_nodes=122\n",
      "Running little bitch having n_conv=3, dropout=0.03669608603629644, hidden_nodes=49\n",
      "Running little bitch having n_conv=0, dropout=0.020332596946142756, hidden_nodes=109\n",
      "Running little bitch having n_conv=2, dropout=0.16158911986137292, hidden_nodes=99\n",
      "Running little bitch having n_conv=1, dropout=0.014083413551515434, hidden_nodes=176\n"
     ]
    },
    {
     "name": "stderr",
     "output_type": "stream",
     "text": [
      "2023-06-29 11:43:54.711853: W tensorflow/core/framework/op_kernel.cc:1805] OP_REQUIRES failed at cast_op.cc:121 : UNIMPLEMENTED: Cast string to int64 is not supported\n",
      "2023-06-29 11:43:54.913855: W tensorflow/core/framework/op_kernel.cc:1805] OP_REQUIRES failed at cast_op.cc:121 : UNIMPLEMENTED: Cast string to int64 is not supported\n",
      "2023-06-29 11:43:54.957088: W tensorflow/core/framework/op_kernel.cc:1805] OP_REQUIRES failed at cast_op.cc:121 : UNIMPLEMENTED: Cast string to float is not supported\n",
      "2023-06-29 11:43:55.093691: W tensorflow/core/framework/op_kernel.cc:1805] OP_REQUIRES failed at cast_op.cc:121 : UNIMPLEMENTED: Cast string to float is not supported\n",
      "2023-06-29 11:43:55.224261: W tensorflow/core/framework/op_kernel.cc:1805] OP_REQUIRES failed at cast_op.cc:121 : UNIMPLEMENTED: Cast string to float is not supported\n",
      "2023-06-29 11:43:55.328225: W tensorflow/core/framework/op_kernel.cc:1805] OP_REQUIRES failed at cast_op.cc:121 : UNIMPLEMENTED: Cast string to int64 is not supported\n",
      "2023-06-29 11:43:55.426195: W tensorflow/core/framework/op_kernel.cc:1805] OP_REQUIRES failed at cast_op.cc:121 : UNIMPLEMENTED: Cast string to int64 is not supported\n",
      "2023-06-29 11:43:55.509617: W tensorflow/core/framework/op_kernel.cc:1805] OP_REQUIRES failed at cast_op.cc:121 : UNIMPLEMENTED: Cast string to int64 is not supported\n",
      "[W 2023-06-29 11:43:55,895] Trial 7 failed with parameters: {'n_conv': 1, 'n_hidden': 2, 'hidden_nodes': 176, 'dropout': 0.014083413551515434, 'filters': 5, 'kernel_size': 4, 'batch_size': 41, 'epochs': 5} because of the following error: UnimplementedError().\n",
      "Traceback (most recent call last):\n",
      "  File \"/Users/paolomollica/Desktop/DM2/venv/lib/python3.9/site-packages/optuna/study/_optimize.py\", line 200, in _run_trial\n",
      "    value_or_values = func(trial)\n",
      "  File \"/var/folders/ll/kv_3vwz11y3b1l9g2f0x8n_80000gn/T/ipykernel_88897/2462299479.py\", line 27, in objective_fun\n",
      "    cnn.fit(X_train_v, y_train_v, batch_size=batch_size, epochs=epochs, verbose=False)\n",
      "  File \"/Users/paolomollica/Desktop/DM2/venv/lib/python3.9/site-packages/keras/src/utils/traceback_utils.py\", line 70, in error_handler\n",
      "    raise e.with_traceback(filtered_tb) from None\n",
      "  File \"/Users/paolomollica/Desktop/DM2/venv/lib/python3.9/site-packages/tensorflow/python/eager/execute.py\", line 53, in quick_execute\n",
      "    tensors = pywrap_tfe.TFE_Py_Execute(ctx._handle, device_name, op_name,\n",
      "tensorflow.python.framework.errors_impl.UnimplementedError: Graph execution error:\n",
      "\n",
      "Detected at node 'Cast_1' defined at (most recent call last):\n",
      "    File \"/Library/Developer/CommandLineTools/Library/Frameworks/Python3.framework/Versions/3.9/lib/python3.9/threading.py\", line 930, in _bootstrap\n",
      "      self._bootstrap_inner()\n",
      "    File \"/Library/Developer/CommandLineTools/Library/Frameworks/Python3.framework/Versions/3.9/lib/python3.9/threading.py\", line 973, in _bootstrap_inner\n",
      "      self.run()\n",
      "    File \"/Library/Developer/CommandLineTools/Library/Frameworks/Python3.framework/Versions/3.9/lib/python3.9/threading.py\", line 910, in run\n",
      "      self._target(*self._args, **self._kwargs)\n",
      "    File \"/Library/Developer/CommandLineTools/Library/Frameworks/Python3.framework/Versions/3.9/lib/python3.9/concurrent/futures/thread.py\", line 77, in _worker\n",
      "      work_item.run()\n",
      "    File \"/Library/Developer/CommandLineTools/Library/Frameworks/Python3.framework/Versions/3.9/lib/python3.9/concurrent/futures/thread.py\", line 52, in run\n",
      "      result = self.fn(*self.args, **self.kwargs)\n",
      "    File \"/Users/paolomollica/Desktop/DM2/venv/lib/python3.9/site-packages/optuna/study/_optimize.py\", line 163, in _optimize_sequential\n",
      "      frozen_trial = _run_trial(study, func, catch)\n",
      "    File \"/Users/paolomollica/Desktop/DM2/venv/lib/python3.9/site-packages/optuna/study/_optimize.py\", line 200, in _run_trial\n",
      "      value_or_values = func(trial)\n",
      "    File \"/var/folders/ll/kv_3vwz11y3b1l9g2f0x8n_80000gn/T/ipykernel_88897/2462299479.py\", line 27, in objective_fun\n",
      "      cnn.fit(X_train_v, y_train_v, batch_size=batch_size, epochs=epochs, verbose=False)\n",
      "    File \"/Users/paolomollica/Desktop/DM2/venv/lib/python3.9/site-packages/keras/src/utils/traceback_utils.py\", line 65, in error_handler\n",
      "      return fn(*args, **kwargs)\n",
      "    File \"/Users/paolomollica/Desktop/DM2/venv/lib/python3.9/site-packages/keras/src/engine/training.py\", line 1742, in fit\n",
      "      tmp_logs = self.train_function(iterator)\n",
      "    File \"/Users/paolomollica/Desktop/DM2/venv/lib/python3.9/site-packages/keras/src/engine/training.py\", line 1338, in train_function\n",
      "      return step_function(self, iterator)\n",
      "    File \"/Users/paolomollica/Desktop/DM2/venv/lib/python3.9/site-packages/keras/src/engine/training.py\", line 1322, in step_function\n",
      "      outputs = model.distribute_strategy.run(run_step, args=(data,))\n",
      "    File \"/Users/paolomollica/Desktop/DM2/venv/lib/python3.9/site-packages/keras/src/engine/training.py\", line 1303, in run_step\n",
      "      outputs = model.train_step(data)\n",
      "    File \"/Users/paolomollica/Desktop/DM2/venv/lib/python3.9/site-packages/keras/src/engine/training.py\", line 1085, in train_step\n",
      "      return self.compute_metrics(x, y, y_pred, sample_weight)\n",
      "    File \"/Users/paolomollica/Desktop/DM2/venv/lib/python3.9/site-packages/keras/src/engine/training.py\", line 1179, in compute_metrics\n",
      "      self.compiled_metrics.update_state(y, y_pred, sample_weight)\n",
      "    File \"/Users/paolomollica/Desktop/DM2/venv/lib/python3.9/site-packages/keras/src/engine/compile_utils.py\", line 605, in update_state\n",
      "      metric_obj.update_state(y_t, y_p, sample_weight=mask)\n",
      "    File \"/Users/paolomollica/Desktop/DM2/venv/lib/python3.9/site-packages/keras/src/utils/metrics_utils.py\", line 77, in decorated\n",
      "      update_op = update_state_fn(*args, **kwargs)\n",
      "    File \"/Users/paolomollica/Desktop/DM2/venv/lib/python3.9/site-packages/keras/src/metrics/base_metric.py\", line 140, in update_state_fn\n",
      "      return ag_update_state(*args, **kwargs)\n",
      "    File \"/Users/paolomollica/Desktop/DM2/venv/lib/python3.9/site-packages/keras/src/metrics/base_metric.py\", line 708, in update_state\n",
      "      y_true = tf.cast(y_true, self._dtype)\n",
      "Node: 'Cast_1'\n",
      "Cast string to float is not supported\n",
      "\t [[{{node Cast_1}}]] [Op:__inference_train_function_8427]\n",
      "[W 2023-06-29 11:43:55,896] Trial 1 failed with parameters: {'n_conv': 2, 'n_hidden': 0, 'hidden_nodes': 23, 'dropout': 0.17310531975755317, 'filters': 8, 'kernel_size': 14, 'batch_size': 56, 'epochs': 40} because of the following error: UnimplementedError().\n",
      "Traceback (most recent call last):\n",
      "  File \"/Users/paolomollica/Desktop/DM2/venv/lib/python3.9/site-packages/optuna/study/_optimize.py\", line 200, in _run_trial\n",
      "    value_or_values = func(trial)\n",
      "  File \"/var/folders/ll/kv_3vwz11y3b1l9g2f0x8n_80000gn/T/ipykernel_88897/2462299479.py\", line 27, in objective_fun\n",
      "    cnn.fit(X_train_v, y_train_v, batch_size=batch_size, epochs=epochs, verbose=False)\n",
      "  File \"/Users/paolomollica/Desktop/DM2/venv/lib/python3.9/site-packages/keras/src/utils/traceback_utils.py\", line 70, in error_handler\n",
      "    raise e.with_traceback(filtered_tb) from None\n",
      "  File \"/Users/paolomollica/Desktop/DM2/venv/lib/python3.9/site-packages/tensorflow/python/eager/execute.py\", line 53, in quick_execute\n",
      "    tensors = pywrap_tfe.TFE_Py_Execute(ctx._handle, device_name, op_name,\n",
      "tensorflow.python.framework.errors_impl.UnimplementedError: Graph execution error:\n",
      "\n",
      "Detected at node 'Cast_1' defined at (most recent call last):\n",
      "    File \"/Library/Developer/CommandLineTools/Library/Frameworks/Python3.framework/Versions/3.9/lib/python3.9/threading.py\", line 930, in _bootstrap\n",
      "      self._bootstrap_inner()\n",
      "    File \"/Library/Developer/CommandLineTools/Library/Frameworks/Python3.framework/Versions/3.9/lib/python3.9/threading.py\", line 973, in _bootstrap_inner\n",
      "      self.run()\n",
      "    File \"/Library/Developer/CommandLineTools/Library/Frameworks/Python3.framework/Versions/3.9/lib/python3.9/threading.py\", line 910, in run\n",
      "      self._target(*self._args, **self._kwargs)\n",
      "    File \"/Library/Developer/CommandLineTools/Library/Frameworks/Python3.framework/Versions/3.9/lib/python3.9/concurrent/futures/thread.py\", line 77, in _worker\n",
      "      work_item.run()\n",
      "    File \"/Library/Developer/CommandLineTools/Library/Frameworks/Python3.framework/Versions/3.9/lib/python3.9/concurrent/futures/thread.py\", line 52, in run\n",
      "      result = self.fn(*self.args, **self.kwargs)\n",
      "    File \"/Users/paolomollica/Desktop/DM2/venv/lib/python3.9/site-packages/optuna/study/_optimize.py\", line 163, in _optimize_sequential\n",
      "      frozen_trial = _run_trial(study, func, catch)\n",
      "    File \"/Users/paolomollica/Desktop/DM2/venv/lib/python3.9/site-packages/optuna/study/_optimize.py\", line 200, in _run_trial\n",
      "      value_or_values = func(trial)\n",
      "    File \"/var/folders/ll/kv_3vwz11y3b1l9g2f0x8n_80000gn/T/ipykernel_88897/2462299479.py\", line 27, in objective_fun\n",
      "      cnn.fit(X_train_v, y_train_v, batch_size=batch_size, epochs=epochs, verbose=False)\n",
      "    File \"/Users/paolomollica/Desktop/DM2/venv/lib/python3.9/site-packages/keras/src/utils/traceback_utils.py\", line 65, in error_handler\n",
      "      return fn(*args, **kwargs)\n",
      "    File \"/Users/paolomollica/Desktop/DM2/venv/lib/python3.9/site-packages/keras/src/engine/training.py\", line 1742, in fit\n",
      "      tmp_logs = self.train_function(iterator)\n",
      "    File \"/Users/paolomollica/Desktop/DM2/venv/lib/python3.9/site-packages/keras/src/engine/training.py\", line 1338, in train_function\n",
      "      return step_function(self, iterator)\n",
      "    File \"/Users/paolomollica/Desktop/DM2/venv/lib/python3.9/site-packages/keras/src/engine/training.py\", line 1322, in step_function\n",
      "      outputs = model.distribute_strategy.run(run_step, args=(data,))\n",
      "    File \"/Users/paolomollica/Desktop/DM2/venv/lib/python3.9/site-packages/keras/src/engine/training.py\", line 1303, in run_step\n",
      "      outputs = model.train_step(data)\n",
      "    File \"/Users/paolomollica/Desktop/DM2/venv/lib/python3.9/site-packages/keras/src/engine/training.py\", line 1085, in train_step\n",
      "      return self.compute_metrics(x, y, y_pred, sample_weight)\n",
      "    File \"/Users/paolomollica/Desktop/DM2/venv/lib/python3.9/site-packages/keras/src/engine/training.py\", line 1179, in compute_metrics\n",
      "      self.compiled_metrics.update_state(y, y_pred, sample_weight)\n",
      "    File \"/Users/paolomollica/Desktop/DM2/venv/lib/python3.9/site-packages/keras/src/engine/compile_utils.py\", line 605, in update_state\n",
      "      metric_obj.update_state(y_t, y_p, sample_weight=mask)\n",
      "    File \"/Users/paolomollica/Desktop/DM2/venv/lib/python3.9/site-packages/keras/src/utils/metrics_utils.py\", line 77, in decorated\n",
      "      update_op = update_state_fn(*args, **kwargs)\n",
      "    File \"/Users/paolomollica/Desktop/DM2/venv/lib/python3.9/site-packages/keras/src/metrics/base_metric.py\", line 140, in update_state_fn\n",
      "      return ag_update_state(*args, **kwargs)\n",
      "    File \"/Users/paolomollica/Desktop/DM2/venv/lib/python3.9/site-packages/keras/src/metrics/base_metric.py\", line 708, in update_state\n",
      "      y_true = tf.cast(y_true, self._dtype)\n",
      "Node: 'Cast_1'\n",
      "Cast string to float is not supported\n",
      "\t [[{{node Cast_1}}]] [Op:__inference_train_function_9084]\n",
      "[W 2023-06-29 11:43:55,896] Trial 3 failed with parameters: {'n_conv': 0, 'n_hidden': 1, 'hidden_nodes': 122, 'dropout': 0.07258009989221292, 'filters': 6, 'kernel_size': 6, 'batch_size': 35, 'epochs': 72} because of the following error: UnimplementedError().\n",
      "Traceback (most recent call last):\n",
      "  File \"/Users/paolomollica/Desktop/DM2/venv/lib/python3.9/site-packages/optuna/study/_optimize.py\", line 200, in _run_trial\n",
      "    value_or_values = func(trial)\n",
      "  File \"/var/folders/ll/kv_3vwz11y3b1l9g2f0x8n_80000gn/T/ipykernel_88897/2462299479.py\", line 27, in objective_fun\n",
      "    cnn.fit(X_train_v, y_train_v, batch_size=batch_size, epochs=epochs, verbose=False)\n",
      "  File \"/Users/paolomollica/Desktop/DM2/venv/lib/python3.9/site-packages/keras/src/utils/traceback_utils.py\", line 70, in error_handler\n",
      "    raise e.with_traceback(filtered_tb) from None\n",
      "  File \"/Users/paolomollica/Desktop/DM2/venv/lib/python3.9/site-packages/tensorflow/python/eager/execute.py\", line 53, in quick_execute\n",
      "    tensors = pywrap_tfe.TFE_Py_Execute(ctx._handle, device_name, op_name,\n",
      "tensorflow.python.framework.errors_impl.UnimplementedError: Graph execution error:\n",
      "\n",
      "Detected at node 'Cast_1' defined at (most recent call last):\n",
      "    File \"/Library/Developer/CommandLineTools/Library/Frameworks/Python3.framework/Versions/3.9/lib/python3.9/threading.py\", line 930, in _bootstrap\n",
      "      self._bootstrap_inner()\n",
      "    File \"/Library/Developer/CommandLineTools/Library/Frameworks/Python3.framework/Versions/3.9/lib/python3.9/threading.py\", line 973, in _bootstrap_inner\n",
      "      self.run()\n",
      "    File \"/Library/Developer/CommandLineTools/Library/Frameworks/Python3.framework/Versions/3.9/lib/python3.9/threading.py\", line 910, in run\n",
      "      self._target(*self._args, **self._kwargs)\n",
      "    File \"/Library/Developer/CommandLineTools/Library/Frameworks/Python3.framework/Versions/3.9/lib/python3.9/concurrent/futures/thread.py\", line 77, in _worker\n",
      "      work_item.run()\n",
      "    File \"/Library/Developer/CommandLineTools/Library/Frameworks/Python3.framework/Versions/3.9/lib/python3.9/concurrent/futures/thread.py\", line 52, in run\n",
      "      result = self.fn(*self.args, **self.kwargs)\n",
      "    File \"/Users/paolomollica/Desktop/DM2/venv/lib/python3.9/site-packages/optuna/study/_optimize.py\", line 163, in _optimize_sequential\n",
      "      frozen_trial = _run_trial(study, func, catch)\n",
      "    File \"/Users/paolomollica/Desktop/DM2/venv/lib/python3.9/site-packages/optuna/study/_optimize.py\", line 200, in _run_trial\n",
      "      value_or_values = func(trial)\n",
      "    File \"/var/folders/ll/kv_3vwz11y3b1l9g2f0x8n_80000gn/T/ipykernel_88897/2462299479.py\", line 27, in objective_fun\n",
      "      cnn.fit(X_train_v, y_train_v, batch_size=batch_size, epochs=epochs, verbose=False)\n",
      "    File \"/Users/paolomollica/Desktop/DM2/venv/lib/python3.9/site-packages/keras/src/utils/traceback_utils.py\", line 65, in error_handler\n",
      "      return fn(*args, **kwargs)\n",
      "    File \"/Users/paolomollica/Desktop/DM2/venv/lib/python3.9/site-packages/keras/src/engine/training.py\", line 1742, in fit\n",
      "      tmp_logs = self.train_function(iterator)\n",
      "    File \"/Users/paolomollica/Desktop/DM2/venv/lib/python3.9/site-packages/keras/src/engine/training.py\", line 1338, in train_function\n",
      "      return step_function(self, iterator)\n",
      "    File \"/Users/paolomollica/Desktop/DM2/venv/lib/python3.9/site-packages/keras/src/engine/training.py\", line 1322, in step_function\n",
      "      outputs = model.distribute_strategy.run(run_step, args=(data,))\n",
      "    File \"/Users/paolomollica/Desktop/DM2/venv/lib/python3.9/site-packages/keras/src/engine/training.py\", line 1303, in run_step\n",
      "      outputs = model.train_step(data)\n",
      "    File \"/Users/paolomollica/Desktop/DM2/venv/lib/python3.9/site-packages/keras/src/engine/training.py\", line 1085, in train_step\n",
      "      return self.compute_metrics(x, y, y_pred, sample_weight)\n",
      "    File \"/Users/paolomollica/Desktop/DM2/venv/lib/python3.9/site-packages/keras/src/engine/training.py\", line 1179, in compute_metrics\n",
      "      self.compiled_metrics.update_state(y, y_pred, sample_weight)\n",
      "    File \"/Users/paolomollica/Desktop/DM2/venv/lib/python3.9/site-packages/keras/src/engine/compile_utils.py\", line 605, in update_state\n",
      "      metric_obj.update_state(y_t, y_p, sample_weight=mask)\n",
      "    File \"/Users/paolomollica/Desktop/DM2/venv/lib/python3.9/site-packages/keras/src/utils/metrics_utils.py\", line 77, in decorated\n",
      "      update_op = update_state_fn(*args, **kwargs)\n",
      "    File \"/Users/paolomollica/Desktop/DM2/venv/lib/python3.9/site-packages/keras/src/metrics/base_metric.py\", line 140, in update_state_fn\n",
      "      return ag_update_state(*args, **kwargs)\n",
      "    File \"/Users/paolomollica/Desktop/DM2/venv/lib/python3.9/site-packages/keras/src/metrics/base_metric.py\", line 708, in update_state\n",
      "      y_true = tf.cast(y_true, self._dtype)\n",
      "Node: 'Cast_1'\n",
      "Cast string to float is not supported\n",
      "\t [[{{node Cast_1}}]] [Op:__inference_train_function_7904]\n",
      "[W 2023-06-29 11:43:55,900] Trial 7 failed with value None.\n",
      "[W 2023-06-29 11:43:55,901] Trial 1 failed with value None.\n",
      "[W 2023-06-29 11:43:55,904] Trial 2 failed with parameters: {'n_conv': 0, 'n_hidden': 0, 'hidden_nodes': 253, 'dropout': 0.01533992961935713, 'filters': 2, 'kernel_size': 8, 'batch_size': 42, 'epochs': 36} because of the following error: UnimplementedError().\n",
      "Traceback (most recent call last):\n",
      "  File \"/Users/paolomollica/Desktop/DM2/venv/lib/python3.9/site-packages/optuna/study/_optimize.py\", line 200, in _run_trial\n",
      "    value_or_values = func(trial)\n",
      "  File \"/var/folders/ll/kv_3vwz11y3b1l9g2f0x8n_80000gn/T/ipykernel_88897/2462299479.py\", line 27, in objective_fun\n",
      "    cnn.fit(X_train_v, y_train_v, batch_size=batch_size, epochs=epochs, verbose=False)\n",
      "  File \"/Users/paolomollica/Desktop/DM2/venv/lib/python3.9/site-packages/keras/src/utils/traceback_utils.py\", line 70, in error_handler\n",
      "    raise e.with_traceback(filtered_tb) from None\n",
      "  File \"/Users/paolomollica/Desktop/DM2/venv/lib/python3.9/site-packages/tensorflow/python/eager/execute.py\", line 53, in quick_execute\n",
      "    tensors = pywrap_tfe.TFE_Py_Execute(ctx._handle, device_name, op_name,\n",
      "tensorflow.python.framework.errors_impl.UnimplementedError: Graph execution error:\n",
      "\n",
      "Detected at node 'sparse_categorical_crossentropy/Cast' defined at (most recent call last):\n",
      "    File \"/Library/Developer/CommandLineTools/Library/Frameworks/Python3.framework/Versions/3.9/lib/python3.9/threading.py\", line 930, in _bootstrap\n",
      "      self._bootstrap_inner()\n",
      "    File \"/Library/Developer/CommandLineTools/Library/Frameworks/Python3.framework/Versions/3.9/lib/python3.9/threading.py\", line 973, in _bootstrap_inner\n",
      "      self.run()\n",
      "    File \"/Library/Developer/CommandLineTools/Library/Frameworks/Python3.framework/Versions/3.9/lib/python3.9/threading.py\", line 910, in run\n",
      "      self._target(*self._args, **self._kwargs)\n",
      "    File \"/Library/Developer/CommandLineTools/Library/Frameworks/Python3.framework/Versions/3.9/lib/python3.9/concurrent/futures/thread.py\", line 77, in _worker\n",
      "      work_item.run()\n",
      "    File \"/Library/Developer/CommandLineTools/Library/Frameworks/Python3.framework/Versions/3.9/lib/python3.9/concurrent/futures/thread.py\", line 52, in run\n",
      "      result = self.fn(*self.args, **self.kwargs)\n",
      "    File \"/Users/paolomollica/Desktop/DM2/venv/lib/python3.9/site-packages/optuna/study/_optimize.py\", line 163, in _optimize_sequential\n",
      "      frozen_trial = _run_trial(study, func, catch)\n",
      "    File \"/Users/paolomollica/Desktop/DM2/venv/lib/python3.9/site-packages/optuna/study/_optimize.py\", line 200, in _run_trial\n",
      "      value_or_values = func(trial)\n",
      "    File \"/var/folders/ll/kv_3vwz11y3b1l9g2f0x8n_80000gn/T/ipykernel_88897/2462299479.py\", line 27, in objective_fun\n",
      "      cnn.fit(X_train_v, y_train_v, batch_size=batch_size, epochs=epochs, verbose=False)\n",
      "    File \"/Users/paolomollica/Desktop/DM2/venv/lib/python3.9/site-packages/keras/src/utils/traceback_utils.py\", line 65, in error_handler\n",
      "      return fn(*args, **kwargs)\n",
      "    File \"/Users/paolomollica/Desktop/DM2/venv/lib/python3.9/site-packages/keras/src/engine/training.py\", line 1742, in fit\n",
      "      tmp_logs = self.train_function(iterator)\n",
      "    File \"/Users/paolomollica/Desktop/DM2/venv/lib/python3.9/site-packages/keras/src/engine/training.py\", line 1338, in train_function\n",
      "      return step_function(self, iterator)\n",
      "    File \"/Users/paolomollica/Desktop/DM2/venv/lib/python3.9/site-packages/keras/src/engine/training.py\", line 1322, in step_function\n",
      "      outputs = model.distribute_strategy.run(run_step, args=(data,))\n",
      "    File \"/Users/paolomollica/Desktop/DM2/venv/lib/python3.9/site-packages/keras/src/engine/training.py\", line 1303, in run_step\n",
      "      outputs = model.train_step(data)\n",
      "    File \"/Users/paolomollica/Desktop/DM2/venv/lib/python3.9/site-packages/keras/src/engine/training.py\", line 1081, in train_step\n",
      "      loss = self.compute_loss(x, y, y_pred, sample_weight)\n",
      "    File \"/Users/paolomollica/Desktop/DM2/venv/lib/python3.9/site-packages/keras/src/engine/training.py\", line 1139, in compute_loss\n",
      "      return self.compiled_loss(\n",
      "    File \"/Users/paolomollica/Desktop/DM2/venv/lib/python3.9/site-packages/keras/src/engine/compile_utils.py\", line 265, in __call__\n",
      "      loss_value = loss_obj(y_t, y_p, sample_weight=sw)\n",
      "    File \"/Users/paolomollica/Desktop/DM2/venv/lib/python3.9/site-packages/keras/src/losses.py\", line 142, in __call__\n",
      "      losses = call_fn(y_true, y_pred)\n",
      "    File \"/Users/paolomollica/Desktop/DM2/venv/lib/python3.9/site-packages/keras/src/losses.py\", line 268, in call\n",
      "      return ag_fn(y_true, y_pred, **self._fn_kwargs)\n",
      "    File \"/Users/paolomollica/Desktop/DM2/venv/lib/python3.9/site-packages/keras/src/losses.py\", line 2354, in sparse_categorical_crossentropy\n",
      "      return backend.sparse_categorical_crossentropy(\n",
      "    File \"/Users/paolomollica/Desktop/DM2/venv/lib/python3.9/site-packages/keras/src/backend.py\", line 5712, in sparse_categorical_crossentropy\n",
      "      target = cast(target, \"int64\")\n",
      "    File \"/Users/paolomollica/Desktop/DM2/venv/lib/python3.9/site-packages/keras/src/backend.py\", line 2305, in cast\n",
      "      return tf.cast(x, dtype)\n",
      "Node: 'sparse_categorical_crossentropy/Cast'\n",
      "Cast string to int64 is not supported\n",
      "\t [[{{node sparse_categorical_crossentropy/Cast}}]] [Op:__inference_train_function_6752]\n",
      "[W 2023-06-29 11:43:55,904] Trial 5 failed with parameters: {'n_conv': 0, 'n_hidden': 0, 'hidden_nodes': 109, 'dropout': 0.020332596946142756, 'filters': 2, 'kernel_size': 13, 'batch_size': 30, 'epochs': 62} because of the following error: UnimplementedError().\n",
      "Traceback (most recent call last):\n",
      "  File \"/Users/paolomollica/Desktop/DM2/venv/lib/python3.9/site-packages/optuna/study/_optimize.py\", line 200, in _run_trial\n",
      "    value_or_values = func(trial)\n",
      "  File \"/var/folders/ll/kv_3vwz11y3b1l9g2f0x8n_80000gn/T/ipykernel_88897/2462299479.py\", line 27, in objective_fun\n",
      "    cnn.fit(X_train_v, y_train_v, batch_size=batch_size, epochs=epochs, verbose=False)\n",
      "  File \"/Users/paolomollica/Desktop/DM2/venv/lib/python3.9/site-packages/keras/src/utils/traceback_utils.py\", line 70, in error_handler\n",
      "    raise e.with_traceback(filtered_tb) from None\n",
      "  File \"/Users/paolomollica/Desktop/DM2/venv/lib/python3.9/site-packages/tensorflow/python/eager/execute.py\", line 53, in quick_execute\n",
      "    tensors = pywrap_tfe.TFE_Py_Execute(ctx._handle, device_name, op_name,\n",
      "tensorflow.python.framework.errors_impl.UnimplementedError: Graph execution error:\n",
      "\n",
      "Detected at node 'sparse_categorical_crossentropy/Cast' defined at (most recent call last):\n",
      "    File \"/Library/Developer/CommandLineTools/Library/Frameworks/Python3.framework/Versions/3.9/lib/python3.9/threading.py\", line 930, in _bootstrap\n",
      "      self._bootstrap_inner()\n",
      "    File \"/Library/Developer/CommandLineTools/Library/Frameworks/Python3.framework/Versions/3.9/lib/python3.9/threading.py\", line 973, in _bootstrap_inner\n",
      "      self.run()\n",
      "    File \"/Library/Developer/CommandLineTools/Library/Frameworks/Python3.framework/Versions/3.9/lib/python3.9/threading.py\", line 910, in run\n",
      "      self._target(*self._args, **self._kwargs)\n",
      "    File \"/Library/Developer/CommandLineTools/Library/Frameworks/Python3.framework/Versions/3.9/lib/python3.9/concurrent/futures/thread.py\", line 77, in _worker\n",
      "      work_item.run()\n",
      "    File \"/Library/Developer/CommandLineTools/Library/Frameworks/Python3.framework/Versions/3.9/lib/python3.9/concurrent/futures/thread.py\", line 52, in run\n",
      "      result = self.fn(*self.args, **self.kwargs)\n",
      "    File \"/Users/paolomollica/Desktop/DM2/venv/lib/python3.9/site-packages/optuna/study/_optimize.py\", line 163, in _optimize_sequential\n",
      "      frozen_trial = _run_trial(study, func, catch)\n",
      "    File \"/Users/paolomollica/Desktop/DM2/venv/lib/python3.9/site-packages/optuna/study/_optimize.py\", line 200, in _run_trial\n",
      "      value_or_values = func(trial)\n",
      "    File \"/var/folders/ll/kv_3vwz11y3b1l9g2f0x8n_80000gn/T/ipykernel_88897/2462299479.py\", line 27, in objective_fun\n",
      "      cnn.fit(X_train_v, y_train_v, batch_size=batch_size, epochs=epochs, verbose=False)\n",
      "    File \"/Users/paolomollica/Desktop/DM2/venv/lib/python3.9/site-packages/keras/src/utils/traceback_utils.py\", line 65, in error_handler\n",
      "      return fn(*args, **kwargs)\n",
      "    File \"/Users/paolomollica/Desktop/DM2/venv/lib/python3.9/site-packages/keras/src/engine/training.py\", line 1742, in fit\n",
      "      tmp_logs = self.train_function(iterator)\n",
      "    File \"/Users/paolomollica/Desktop/DM2/venv/lib/python3.9/site-packages/keras/src/engine/training.py\", line 1338, in train_function\n",
      "      return step_function(self, iterator)\n",
      "    File \"/Users/paolomollica/Desktop/DM2/venv/lib/python3.9/site-packages/keras/src/engine/training.py\", line 1322, in step_function\n",
      "      outputs = model.distribute_strategy.run(run_step, args=(data,))\n",
      "    File \"/Users/paolomollica/Desktop/DM2/venv/lib/python3.9/site-packages/keras/src/engine/training.py\", line 1303, in run_step\n",
      "      outputs = model.train_step(data)\n",
      "    File \"/Users/paolomollica/Desktop/DM2/venv/lib/python3.9/site-packages/keras/src/engine/training.py\", line 1081, in train_step\n",
      "      loss = self.compute_loss(x, y, y_pred, sample_weight)\n",
      "    File \"/Users/paolomollica/Desktop/DM2/venv/lib/python3.9/site-packages/keras/src/engine/training.py\", line 1139, in compute_loss\n",
      "      return self.compiled_loss(\n",
      "    File \"/Users/paolomollica/Desktop/DM2/venv/lib/python3.9/site-packages/keras/src/engine/compile_utils.py\", line 265, in __call__\n",
      "      loss_value = loss_obj(y_t, y_p, sample_weight=sw)\n",
      "    File \"/Users/paolomollica/Desktop/DM2/venv/lib/python3.9/site-packages/keras/src/losses.py\", line 142, in __call__\n",
      "      losses = call_fn(y_true, y_pred)\n",
      "    File \"/Users/paolomollica/Desktop/DM2/venv/lib/python3.9/site-packages/keras/src/losses.py\", line 268, in call\n",
      "      return ag_fn(y_true, y_pred, **self._fn_kwargs)\n",
      "    File \"/Users/paolomollica/Desktop/DM2/venv/lib/python3.9/site-packages/keras/src/losses.py\", line 2354, in sparse_categorical_crossentropy\n",
      "      return backend.sparse_categorical_crossentropy(\n",
      "    File \"/Users/paolomollica/Desktop/DM2/venv/lib/python3.9/site-packages/keras/src/backend.py\", line 5712, in sparse_categorical_crossentropy\n",
      "      target = cast(target, \"int64\")\n",
      "    File \"/Users/paolomollica/Desktop/DM2/venv/lib/python3.9/site-packages/keras/src/backend.py\", line 2305, in cast\n",
      "      return tf.cast(x, dtype)\n",
      "Node: 'sparse_categorical_crossentropy/Cast'\n",
      "Cast string to int64 is not supported\n",
      "\t [[{{node sparse_categorical_crossentropy/Cast}}]] [Op:__inference_train_function_7661]\n",
      "[W 2023-06-29 11:43:55,904] Trial 6 failed with parameters: {'n_conv': 2, 'n_hidden': 2, 'hidden_nodes': 99, 'dropout': 0.16158911986137292, 'filters': 10, 'kernel_size': 6, 'batch_size': 31, 'epochs': 39} because of the following error: UnimplementedError().\n",
      "Traceback (most recent call last):\n",
      "  File \"/Users/paolomollica/Desktop/DM2/venv/lib/python3.9/site-packages/optuna/study/_optimize.py\", line 200, in _run_trial\n",
      "    value_or_values = func(trial)\n",
      "  File \"/var/folders/ll/kv_3vwz11y3b1l9g2f0x8n_80000gn/T/ipykernel_88897/2462299479.py\", line 27, in objective_fun\n",
      "    cnn.fit(X_train_v, y_train_v, batch_size=batch_size, epochs=epochs, verbose=False)\n",
      "  File \"/Users/paolomollica/Desktop/DM2/venv/lib/python3.9/site-packages/keras/src/utils/traceback_utils.py\", line 70, in error_handler\n",
      "    raise e.with_traceback(filtered_tb) from None\n",
      "  File \"/Users/paolomollica/Desktop/DM2/venv/lib/python3.9/site-packages/tensorflow/python/eager/execute.py\", line 53, in quick_execute\n",
      "    tensors = pywrap_tfe.TFE_Py_Execute(ctx._handle, device_name, op_name,\n",
      "tensorflow.python.framework.errors_impl.UnimplementedError: Graph execution error:\n",
      "\n",
      "Detected at node 'sparse_categorical_crossentropy/Cast' defined at (most recent call last):\n",
      "    File \"/Library/Developer/CommandLineTools/Library/Frameworks/Python3.framework/Versions/3.9/lib/python3.9/threading.py\", line 930, in _bootstrap\n",
      "      self._bootstrap_inner()\n",
      "    File \"/Library/Developer/CommandLineTools/Library/Frameworks/Python3.framework/Versions/3.9/lib/python3.9/threading.py\", line 973, in _bootstrap_inner\n",
      "      self.run()\n",
      "    File \"/Library/Developer/CommandLineTools/Library/Frameworks/Python3.framework/Versions/3.9/lib/python3.9/threading.py\", line 910, in run\n",
      "      self._target(*self._args, **self._kwargs)\n",
      "    File \"/Library/Developer/CommandLineTools/Library/Frameworks/Python3.framework/Versions/3.9/lib/python3.9/concurrent/futures/thread.py\", line 77, in _worker\n",
      "      work_item.run()\n",
      "    File \"/Library/Developer/CommandLineTools/Library/Frameworks/Python3.framework/Versions/3.9/lib/python3.9/concurrent/futures/thread.py\", line 52, in run\n",
      "      result = self.fn(*self.args, **self.kwargs)\n",
      "    File \"/Users/paolomollica/Desktop/DM2/venv/lib/python3.9/site-packages/optuna/study/_optimize.py\", line 163, in _optimize_sequential\n",
      "      frozen_trial = _run_trial(study, func, catch)\n",
      "    File \"/Users/paolomollica/Desktop/DM2/venv/lib/python3.9/site-packages/optuna/study/_optimize.py\", line 200, in _run_trial\n",
      "      value_or_values = func(trial)\n",
      "    File \"/var/folders/ll/kv_3vwz11y3b1l9g2f0x8n_80000gn/T/ipykernel_88897/2462299479.py\", line 27, in objective_fun\n",
      "      cnn.fit(X_train_v, y_train_v, batch_size=batch_size, epochs=epochs, verbose=False)\n",
      "    File \"/Users/paolomollica/Desktop/DM2/venv/lib/python3.9/site-packages/keras/src/utils/traceback_utils.py\", line 65, in error_handler\n",
      "      return fn(*args, **kwargs)\n",
      "    File \"/Users/paolomollica/Desktop/DM2/venv/lib/python3.9/site-packages/keras/src/engine/training.py\", line 1742, in fit\n",
      "      tmp_logs = self.train_function(iterator)\n",
      "    File \"/Users/paolomollica/Desktop/DM2/venv/lib/python3.9/site-packages/keras/src/engine/training.py\", line 1338, in train_function\n",
      "      return step_function(self, iterator)\n",
      "    File \"/Users/paolomollica/Desktop/DM2/venv/lib/python3.9/site-packages/keras/src/engine/training.py\", line 1322, in step_function\n",
      "      outputs = model.distribute_strategy.run(run_step, args=(data,))\n",
      "    File \"/Users/paolomollica/Desktop/DM2/venv/lib/python3.9/site-packages/keras/src/engine/training.py\", line 1303, in run_step\n",
      "      outputs = model.train_step(data)\n",
      "    File \"/Users/paolomollica/Desktop/DM2/venv/lib/python3.9/site-packages/keras/src/engine/training.py\", line 1081, in train_step\n",
      "      loss = self.compute_loss(x, y, y_pred, sample_weight)\n",
      "    File \"/Users/paolomollica/Desktop/DM2/venv/lib/python3.9/site-packages/keras/src/engine/training.py\", line 1139, in compute_loss\n",
      "      return self.compiled_loss(\n",
      "    File \"/Users/paolomollica/Desktop/DM2/venv/lib/python3.9/site-packages/keras/src/engine/compile_utils.py\", line 265, in __call__\n",
      "      loss_value = loss_obj(y_t, y_p, sample_weight=sw)\n",
      "    File \"/Users/paolomollica/Desktop/DM2/venv/lib/python3.9/site-packages/keras/src/losses.py\", line 142, in __call__\n",
      "      losses = call_fn(y_true, y_pred)\n",
      "    File \"/Users/paolomollica/Desktop/DM2/venv/lib/python3.9/site-packages/keras/src/losses.py\", line 268, in call\n",
      "      return ag_fn(y_true, y_pred, **self._fn_kwargs)\n",
      "    File \"/Users/paolomollica/Desktop/DM2/venv/lib/python3.9/site-packages/keras/src/losses.py\", line 2354, in sparse_categorical_crossentropy\n",
      "      return backend.sparse_categorical_crossentropy(\n",
      "    File \"/Users/paolomollica/Desktop/DM2/venv/lib/python3.9/site-packages/keras/src/backend.py\", line 5712, in sparse_categorical_crossentropy\n",
      "      target = cast(target, \"int64\")\n",
      "    File \"/Users/paolomollica/Desktop/DM2/venv/lib/python3.9/site-packages/keras/src/backend.py\", line 2305, in cast\n",
      "      return tf.cast(x, dtype)\n",
      "Node: 'sparse_categorical_crossentropy/Cast'\n",
      "Cast string to int64 is not supported\n",
      "\t [[{{node sparse_categorical_crossentropy/Cast}}]] [Op:__inference_train_function_9779]\n",
      "[W 2023-06-29 11:43:55,905] Trial 0 failed with parameters: {'n_conv': 2, 'n_hidden': 2, 'hidden_nodes': 56, 'dropout': 0.13506556924818283, 'filters': 8, 'kernel_size': 16, 'batch_size': 45, 'epochs': 82} because of the following error: UnimplementedError().\n",
      "Traceback (most recent call last):\n",
      "  File \"/Users/paolomollica/Desktop/DM2/venv/lib/python3.9/site-packages/optuna/study/_optimize.py\", line 200, in _run_trial\n",
      "    value_or_values = func(trial)\n",
      "  File \"/var/folders/ll/kv_3vwz11y3b1l9g2f0x8n_80000gn/T/ipykernel_88897/2462299479.py\", line 27, in objective_fun\n",
      "    cnn.fit(X_train_v, y_train_v, batch_size=batch_size, epochs=epochs, verbose=False)\n",
      "  File \"/Users/paolomollica/Desktop/DM2/venv/lib/python3.9/site-packages/keras/src/utils/traceback_utils.py\", line 70, in error_handler\n",
      "    raise e.with_traceback(filtered_tb) from None\n",
      "  File \"/Users/paolomollica/Desktop/DM2/venv/lib/python3.9/site-packages/tensorflow/python/eager/execute.py\", line 53, in quick_execute\n",
      "    tensors = pywrap_tfe.TFE_Py_Execute(ctx._handle, device_name, op_name,\n",
      "tensorflow.python.framework.errors_impl.UnimplementedError: Graph execution error:\n",
      "\n",
      "Detected at node 'sparse_categorical_crossentropy/Cast' defined at (most recent call last):\n",
      "    File \"/Library/Developer/CommandLineTools/Library/Frameworks/Python3.framework/Versions/3.9/lib/python3.9/threading.py\", line 930, in _bootstrap\n",
      "      self._bootstrap_inner()\n",
      "    File \"/Library/Developer/CommandLineTools/Library/Frameworks/Python3.framework/Versions/3.9/lib/python3.9/threading.py\", line 973, in _bootstrap_inner\n",
      "      self.run()\n",
      "    File \"/Library/Developer/CommandLineTools/Library/Frameworks/Python3.framework/Versions/3.9/lib/python3.9/threading.py\", line 910, in run\n",
      "      self._target(*self._args, **self._kwargs)\n",
      "    File \"/Library/Developer/CommandLineTools/Library/Frameworks/Python3.framework/Versions/3.9/lib/python3.9/concurrent/futures/thread.py\", line 77, in _worker\n",
      "      work_item.run()\n",
      "    File \"/Library/Developer/CommandLineTools/Library/Frameworks/Python3.framework/Versions/3.9/lib/python3.9/concurrent/futures/thread.py\", line 52, in run\n",
      "      result = self.fn(*self.args, **self.kwargs)\n",
      "    File \"/Users/paolomollica/Desktop/DM2/venv/lib/python3.9/site-packages/optuna/study/_optimize.py\", line 163, in _optimize_sequential\n",
      "      frozen_trial = _run_trial(study, func, catch)\n",
      "    File \"/Users/paolomollica/Desktop/DM2/venv/lib/python3.9/site-packages/optuna/study/_optimize.py\", line 200, in _run_trial\n",
      "      value_or_values = func(trial)\n",
      "    File \"/var/folders/ll/kv_3vwz11y3b1l9g2f0x8n_80000gn/T/ipykernel_88897/2462299479.py\", line 27, in objective_fun\n",
      "      cnn.fit(X_train_v, y_train_v, batch_size=batch_size, epochs=epochs, verbose=False)\n",
      "    File \"/Users/paolomollica/Desktop/DM2/venv/lib/python3.9/site-packages/keras/src/utils/traceback_utils.py\", line 65, in error_handler\n",
      "      return fn(*args, **kwargs)\n",
      "    File \"/Users/paolomollica/Desktop/DM2/venv/lib/python3.9/site-packages/keras/src/engine/training.py\", line 1742, in fit\n",
      "      tmp_logs = self.train_function(iterator)\n",
      "    File \"/Users/paolomollica/Desktop/DM2/venv/lib/python3.9/site-packages/keras/src/engine/training.py\", line 1338, in train_function\n",
      "      return step_function(self, iterator)\n",
      "    File \"/Users/paolomollica/Desktop/DM2/venv/lib/python3.9/site-packages/keras/src/engine/training.py\", line 1322, in step_function\n",
      "      outputs = model.distribute_strategy.run(run_step, args=(data,))\n",
      "    File \"/Users/paolomollica/Desktop/DM2/venv/lib/python3.9/site-packages/keras/src/engine/training.py\", line 1303, in run_step\n",
      "      outputs = model.train_step(data)\n",
      "    File \"/Users/paolomollica/Desktop/DM2/venv/lib/python3.9/site-packages/keras/src/engine/training.py\", line 1081, in train_step\n",
      "      loss = self.compute_loss(x, y, y_pred, sample_weight)\n",
      "    File \"/Users/paolomollica/Desktop/DM2/venv/lib/python3.9/site-packages/keras/src/engine/training.py\", line 1139, in compute_loss\n",
      "      return self.compiled_loss(\n",
      "    File \"/Users/paolomollica/Desktop/DM2/venv/lib/python3.9/site-packages/keras/src/engine/compile_utils.py\", line 265, in __call__\n",
      "      loss_value = loss_obj(y_t, y_p, sample_weight=sw)\n",
      "    File \"/Users/paolomollica/Desktop/DM2/venv/lib/python3.9/site-packages/keras/src/losses.py\", line 142, in __call__\n",
      "      losses = call_fn(y_true, y_pred)\n",
      "    File \"/Users/paolomollica/Desktop/DM2/venv/lib/python3.9/site-packages/keras/src/losses.py\", line 268, in call\n",
      "      return ag_fn(y_true, y_pred, **self._fn_kwargs)\n",
      "    File \"/Users/paolomollica/Desktop/DM2/venv/lib/python3.9/site-packages/keras/src/losses.py\", line 2354, in sparse_categorical_crossentropy\n",
      "      return backend.sparse_categorical_crossentropy(\n",
      "    File \"/Users/paolomollica/Desktop/DM2/venv/lib/python3.9/site-packages/keras/src/backend.py\", line 5712, in sparse_categorical_crossentropy\n",
      "      target = cast(target, \"int64\")\n",
      "    File \"/Users/paolomollica/Desktop/DM2/venv/lib/python3.9/site-packages/keras/src/backend.py\", line 2305, in cast\n",
      "      return tf.cast(x, dtype)\n",
      "Node: 'sparse_categorical_crossentropy/Cast'\n",
      "Cast string to int64 is not supported\n",
      "\t [[{{node sparse_categorical_crossentropy/Cast}}]] [Op:__inference_train_function_9419]\n",
      "[W 2023-06-29 11:43:55,908] Trial 0 failed with value None.\n",
      "[W 2023-06-29 11:43:55,905] Trial 3 failed with value None.\n",
      "[W 2023-06-29 11:43:55,907] Trial 2 failed with value None.\n",
      "[W 2023-06-29 11:43:55,907] Trial 5 failed with value None.\n",
      "[W 2023-06-29 11:43:55,908] Trial 6 failed with value None.\n",
      "[W 2023-06-29 11:43:55,905] Trial 4 failed with parameters: {'n_conv': 3, 'n_hidden': 3, 'hidden_nodes': 49, 'dropout': 0.03669608603629644, 'filters': 3, 'kernel_size': 4, 'batch_size': 29, 'epochs': 79} because of the following error: UnimplementedError().\n",
      "Traceback (most recent call last):\n",
      "  File \"/Users/paolomollica/Desktop/DM2/venv/lib/python3.9/site-packages/optuna/study/_optimize.py\", line 200, in _run_trial\n",
      "    value_or_values = func(trial)\n",
      "  File \"/var/folders/ll/kv_3vwz11y3b1l9g2f0x8n_80000gn/T/ipykernel_88897/2462299479.py\", line 27, in objective_fun\n",
      "    cnn.fit(X_train_v, y_train_v, batch_size=batch_size, epochs=epochs, verbose=False)\n",
      "  File \"/Users/paolomollica/Desktop/DM2/venv/lib/python3.9/site-packages/keras/src/utils/traceback_utils.py\", line 70, in error_handler\n",
      "    raise e.with_traceback(filtered_tb) from None\n",
      "  File \"/Users/paolomollica/Desktop/DM2/venv/lib/python3.9/site-packages/tensorflow/python/eager/execute.py\", line 53, in quick_execute\n",
      "    tensors = pywrap_tfe.TFE_Py_Execute(ctx._handle, device_name, op_name,\n",
      "tensorflow.python.framework.errors_impl.UnimplementedError: Graph execution error:\n",
      "\n",
      "Detected at node 'sparse_categorical_crossentropy/Cast' defined at (most recent call last):\n",
      "    File \"/Library/Developer/CommandLineTools/Library/Frameworks/Python3.framework/Versions/3.9/lib/python3.9/threading.py\", line 930, in _bootstrap\n",
      "      self._bootstrap_inner()\n",
      "    File \"/Library/Developer/CommandLineTools/Library/Frameworks/Python3.framework/Versions/3.9/lib/python3.9/threading.py\", line 973, in _bootstrap_inner\n",
      "      self.run()\n",
      "    File \"/Library/Developer/CommandLineTools/Library/Frameworks/Python3.framework/Versions/3.9/lib/python3.9/threading.py\", line 910, in run\n",
      "      self._target(*self._args, **self._kwargs)\n",
      "    File \"/Library/Developer/CommandLineTools/Library/Frameworks/Python3.framework/Versions/3.9/lib/python3.9/concurrent/futures/thread.py\", line 77, in _worker\n",
      "      work_item.run()\n",
      "    File \"/Library/Developer/CommandLineTools/Library/Frameworks/Python3.framework/Versions/3.9/lib/python3.9/concurrent/futures/thread.py\", line 52, in run\n",
      "      result = self.fn(*self.args, **self.kwargs)\n",
      "    File \"/Users/paolomollica/Desktop/DM2/venv/lib/python3.9/site-packages/optuna/study/_optimize.py\", line 163, in _optimize_sequential\n",
      "      frozen_trial = _run_trial(study, func, catch)\n",
      "    File \"/Users/paolomollica/Desktop/DM2/venv/lib/python3.9/site-packages/optuna/study/_optimize.py\", line 200, in _run_trial\n",
      "      value_or_values = func(trial)\n",
      "    File \"/var/folders/ll/kv_3vwz11y3b1l9g2f0x8n_80000gn/T/ipykernel_88897/2462299479.py\", line 27, in objective_fun\n",
      "      cnn.fit(X_train_v, y_train_v, batch_size=batch_size, epochs=epochs, verbose=False)\n",
      "    File \"/Users/paolomollica/Desktop/DM2/venv/lib/python3.9/site-packages/keras/src/utils/traceback_utils.py\", line 65, in error_handler\n",
      "      return fn(*args, **kwargs)\n",
      "    File \"/Users/paolomollica/Desktop/DM2/venv/lib/python3.9/site-packages/keras/src/engine/training.py\", line 1742, in fit\n",
      "      tmp_logs = self.train_function(iterator)\n",
      "    File \"/Users/paolomollica/Desktop/DM2/venv/lib/python3.9/site-packages/keras/src/engine/training.py\", line 1338, in train_function\n",
      "      return step_function(self, iterator)\n",
      "    File \"/Users/paolomollica/Desktop/DM2/venv/lib/python3.9/site-packages/keras/src/engine/training.py\", line 1322, in step_function\n",
      "      outputs = model.distribute_strategy.run(run_step, args=(data,))\n",
      "    File \"/Users/paolomollica/Desktop/DM2/venv/lib/python3.9/site-packages/keras/src/engine/training.py\", line 1303, in run_step\n",
      "      outputs = model.train_step(data)\n",
      "    File \"/Users/paolomollica/Desktop/DM2/venv/lib/python3.9/site-packages/keras/src/engine/training.py\", line 1081, in train_step\n",
      "      loss = self.compute_loss(x, y, y_pred, sample_weight)\n",
      "    File \"/Users/paolomollica/Desktop/DM2/venv/lib/python3.9/site-packages/keras/src/engine/training.py\", line 1139, in compute_loss\n",
      "      return self.compiled_loss(\n",
      "    File \"/Users/paolomollica/Desktop/DM2/venv/lib/python3.9/site-packages/keras/src/engine/compile_utils.py\", line 265, in __call__\n",
      "      loss_value = loss_obj(y_t, y_p, sample_weight=sw)\n",
      "    File \"/Users/paolomollica/Desktop/DM2/venv/lib/python3.9/site-packages/keras/src/losses.py\", line 142, in __call__\n",
      "      losses = call_fn(y_true, y_pred)\n",
      "    File \"/Users/paolomollica/Desktop/DM2/venv/lib/python3.9/site-packages/keras/src/losses.py\", line 268, in call\n",
      "      return ag_fn(y_true, y_pred, **self._fn_kwargs)\n",
      "    File \"/Users/paolomollica/Desktop/DM2/venv/lib/python3.9/site-packages/keras/src/losses.py\", line 2354, in sparse_categorical_crossentropy\n",
      "      return backend.sparse_categorical_crossentropy(\n",
      "    File \"/Users/paolomollica/Desktop/DM2/venv/lib/python3.9/site-packages/keras/src/backend.py\", line 5712, in sparse_categorical_crossentropy\n",
      "      target = cast(target, \"int64\")\n",
      "    File \"/Users/paolomollica/Desktop/DM2/venv/lib/python3.9/site-packages/keras/src/backend.py\", line 2305, in cast\n",
      "      return tf.cast(x, dtype)\n",
      "Node: 'sparse_categorical_crossentropy/Cast'\n",
      "Cast string to int64 is not supported\n",
      "\t [[{{node sparse_categorical_crossentropy/Cast}}]] [Op:__inference_train_function_10003]\n",
      "[W 2023-06-29 11:43:55,911] Trial 4 failed with value None.\n"
     ]
    },
    {
     "ename": "UnimplementedError",
     "evalue": "Graph execution error:\n\nDetected at node 'Cast_1' defined at (most recent call last):\n    File \"/Library/Developer/CommandLineTools/Library/Frameworks/Python3.framework/Versions/3.9/lib/python3.9/threading.py\", line 930, in _bootstrap\n      self._bootstrap_inner()\n    File \"/Library/Developer/CommandLineTools/Library/Frameworks/Python3.framework/Versions/3.9/lib/python3.9/threading.py\", line 973, in _bootstrap_inner\n      self.run()\n    File \"/Library/Developer/CommandLineTools/Library/Frameworks/Python3.framework/Versions/3.9/lib/python3.9/threading.py\", line 910, in run\n      self._target(*self._args, **self._kwargs)\n    File \"/Library/Developer/CommandLineTools/Library/Frameworks/Python3.framework/Versions/3.9/lib/python3.9/concurrent/futures/thread.py\", line 77, in _worker\n      work_item.run()\n    File \"/Library/Developer/CommandLineTools/Library/Frameworks/Python3.framework/Versions/3.9/lib/python3.9/concurrent/futures/thread.py\", line 52, in run\n      result = self.fn(*self.args, **self.kwargs)\n    File \"/Users/paolomollica/Desktop/DM2/venv/lib/python3.9/site-packages/optuna/study/_optimize.py\", line 163, in _optimize_sequential\n      frozen_trial = _run_trial(study, func, catch)\n    File \"/Users/paolomollica/Desktop/DM2/venv/lib/python3.9/site-packages/optuna/study/_optimize.py\", line 200, in _run_trial\n      value_or_values = func(trial)\n    File \"/var/folders/ll/kv_3vwz11y3b1l9g2f0x8n_80000gn/T/ipykernel_88897/2462299479.py\", line 27, in objective_fun\n      cnn.fit(X_train_v, y_train_v, batch_size=batch_size, epochs=epochs, verbose=False)\n    File \"/Users/paolomollica/Desktop/DM2/venv/lib/python3.9/site-packages/keras/src/utils/traceback_utils.py\", line 65, in error_handler\n      return fn(*args, **kwargs)\n    File \"/Users/paolomollica/Desktop/DM2/venv/lib/python3.9/site-packages/keras/src/engine/training.py\", line 1742, in fit\n      tmp_logs = self.train_function(iterator)\n    File \"/Users/paolomollica/Desktop/DM2/venv/lib/python3.9/site-packages/keras/src/engine/training.py\", line 1338, in train_function\n      return step_function(self, iterator)\n    File \"/Users/paolomollica/Desktop/DM2/venv/lib/python3.9/site-packages/keras/src/engine/training.py\", line 1322, in step_function\n      outputs = model.distribute_strategy.run(run_step, args=(data,))\n    File \"/Users/paolomollica/Desktop/DM2/venv/lib/python3.9/site-packages/keras/src/engine/training.py\", line 1303, in run_step\n      outputs = model.train_step(data)\n    File \"/Users/paolomollica/Desktop/DM2/venv/lib/python3.9/site-packages/keras/src/engine/training.py\", line 1085, in train_step\n      return self.compute_metrics(x, y, y_pred, sample_weight)\n    File \"/Users/paolomollica/Desktop/DM2/venv/lib/python3.9/site-packages/keras/src/engine/training.py\", line 1179, in compute_metrics\n      self.compiled_metrics.update_state(y, y_pred, sample_weight)\n    File \"/Users/paolomollica/Desktop/DM2/venv/lib/python3.9/site-packages/keras/src/engine/compile_utils.py\", line 605, in update_state\n      metric_obj.update_state(y_t, y_p, sample_weight=mask)\n    File \"/Users/paolomollica/Desktop/DM2/venv/lib/python3.9/site-packages/keras/src/utils/metrics_utils.py\", line 77, in decorated\n      update_op = update_state_fn(*args, **kwargs)\n    File \"/Users/paolomollica/Desktop/DM2/venv/lib/python3.9/site-packages/keras/src/metrics/base_metric.py\", line 140, in update_state_fn\n      return ag_update_state(*args, **kwargs)\n    File \"/Users/paolomollica/Desktop/DM2/venv/lib/python3.9/site-packages/keras/src/metrics/base_metric.py\", line 708, in update_state\n      y_true = tf.cast(y_true, self._dtype)\nNode: 'Cast_1'\nCast string to float is not supported\n\t [[{{node Cast_1}}]] [Op:__inference_train_function_8427]",
     "output_type": "error",
     "traceback": [
      "\u001B[0;31m---------------------------------------------------------------------------\u001B[0m",
      "\u001B[0;31mUnimplementedError\u001B[0m                        Traceback (most recent call last)",
      "Cell \u001B[0;32mIn[9], line 37\u001B[0m\n\u001B[1;32m     33\u001B[0m     \u001B[38;5;28;01mreturn\u001B[39;00m error\n\u001B[1;32m     36\u001B[0m study \u001B[38;5;241m=\u001B[39m optuna\u001B[38;5;241m.\u001B[39mcreate_study(direction\u001B[38;5;241m=\u001B[39m\u001B[38;5;124m'\u001B[39m\u001B[38;5;124mmaximize\u001B[39m\u001B[38;5;124m'\u001B[39m)\n\u001B[0;32m---> 37\u001B[0m \u001B[43mstudy\u001B[49m\u001B[38;5;241;43m.\u001B[39;49m\u001B[43moptimize\u001B[49m\u001B[43m(\u001B[49m\u001B[43mobjective_fun\u001B[49m\u001B[43m,\u001B[49m\u001B[43m \u001B[49m\u001B[43mn_trials\u001B[49m\u001B[38;5;241;43m=\u001B[39;49m\u001B[38;5;241;43m150\u001B[39;49m\u001B[43m,\u001B[49m\u001B[43m \u001B[49m\u001B[43mn_jobs\u001B[49m\u001B[38;5;241;43m=\u001B[39;49m\u001B[38;5;241;43m-\u001B[39;49m\u001B[38;5;241;43m1\u001B[39;49m\u001B[43m,\u001B[49m\u001B[43m \u001B[49m\u001B[43mcatch\u001B[49m\u001B[38;5;241;43m=\u001B[39;49m\u001B[38;5;167;43;01mValueError\u001B[39;49;00m\u001B[43m)\u001B[49m\n",
      "File \u001B[0;32m~/Desktop/DM2/venv/lib/python3.9/site-packages/optuna/study/study.py:443\u001B[0m, in \u001B[0;36mStudy.optimize\u001B[0;34m(self, func, n_trials, timeout, n_jobs, catch, callbacks, gc_after_trial, show_progress_bar)\u001B[0m\n\u001B[1;32m    339\u001B[0m \u001B[38;5;28;01mdef\u001B[39;00m \u001B[38;5;21moptimize\u001B[39m(\n\u001B[1;32m    340\u001B[0m     \u001B[38;5;28mself\u001B[39m,\n\u001B[1;32m    341\u001B[0m     func: ObjectiveFuncType,\n\u001B[0;32m   (...)\u001B[0m\n\u001B[1;32m    348\u001B[0m     show_progress_bar: \u001B[38;5;28mbool\u001B[39m \u001B[38;5;241m=\u001B[39m \u001B[38;5;28;01mFalse\u001B[39;00m,\n\u001B[1;32m    349\u001B[0m ) \u001B[38;5;241m-\u001B[39m\u001B[38;5;241m>\u001B[39m \u001B[38;5;28;01mNone\u001B[39;00m:\n\u001B[1;32m    350\u001B[0m \u001B[38;5;250m    \u001B[39m\u001B[38;5;124;03m\"\"\"Optimize an objective function.\u001B[39;00m\n\u001B[1;32m    351\u001B[0m \n\u001B[1;32m    352\u001B[0m \u001B[38;5;124;03m    Optimization is done by choosing a suitable set of hyperparameter values from a given\u001B[39;00m\n\u001B[0;32m   (...)\u001B[0m\n\u001B[1;32m    440\u001B[0m \u001B[38;5;124;03m            If nested invocation of this method occurs.\u001B[39;00m\n\u001B[1;32m    441\u001B[0m \u001B[38;5;124;03m    \"\"\"\u001B[39;00m\n\u001B[0;32m--> 443\u001B[0m     \u001B[43m_optimize\u001B[49m\u001B[43m(\u001B[49m\n\u001B[1;32m    444\u001B[0m \u001B[43m        \u001B[49m\u001B[43mstudy\u001B[49m\u001B[38;5;241;43m=\u001B[39;49m\u001B[38;5;28;43mself\u001B[39;49m\u001B[43m,\u001B[49m\n\u001B[1;32m    445\u001B[0m \u001B[43m        \u001B[49m\u001B[43mfunc\u001B[49m\u001B[38;5;241;43m=\u001B[39;49m\u001B[43mfunc\u001B[49m\u001B[43m,\u001B[49m\n\u001B[1;32m    446\u001B[0m \u001B[43m        \u001B[49m\u001B[43mn_trials\u001B[49m\u001B[38;5;241;43m=\u001B[39;49m\u001B[43mn_trials\u001B[49m\u001B[43m,\u001B[49m\n\u001B[1;32m    447\u001B[0m \u001B[43m        \u001B[49m\u001B[43mtimeout\u001B[49m\u001B[38;5;241;43m=\u001B[39;49m\u001B[43mtimeout\u001B[49m\u001B[43m,\u001B[49m\n\u001B[1;32m    448\u001B[0m \u001B[43m        \u001B[49m\u001B[43mn_jobs\u001B[49m\u001B[38;5;241;43m=\u001B[39;49m\u001B[43mn_jobs\u001B[49m\u001B[43m,\u001B[49m\n\u001B[1;32m    449\u001B[0m \u001B[43m        \u001B[49m\u001B[43mcatch\u001B[49m\u001B[38;5;241;43m=\u001B[39;49m\u001B[38;5;28;43mtuple\u001B[39;49m\u001B[43m(\u001B[49m\u001B[43mcatch\u001B[49m\u001B[43m)\u001B[49m\u001B[43m \u001B[49m\u001B[38;5;28;43;01mif\u001B[39;49;00m\u001B[43m \u001B[49m\u001B[38;5;28;43misinstance\u001B[39;49m\u001B[43m(\u001B[49m\u001B[43mcatch\u001B[49m\u001B[43m,\u001B[49m\u001B[43m \u001B[49m\u001B[43mIterable\u001B[49m\u001B[43m)\u001B[49m\u001B[43m \u001B[49m\u001B[38;5;28;43;01melse\u001B[39;49;00m\u001B[43m \u001B[49m\u001B[43m(\u001B[49m\u001B[43mcatch\u001B[49m\u001B[43m,\u001B[49m\u001B[43m)\u001B[49m\u001B[43m,\u001B[49m\n\u001B[1;32m    450\u001B[0m \u001B[43m        \u001B[49m\u001B[43mcallbacks\u001B[49m\u001B[38;5;241;43m=\u001B[39;49m\u001B[43mcallbacks\u001B[49m\u001B[43m,\u001B[49m\n\u001B[1;32m    451\u001B[0m \u001B[43m        \u001B[49m\u001B[43mgc_after_trial\u001B[49m\u001B[38;5;241;43m=\u001B[39;49m\u001B[43mgc_after_trial\u001B[49m\u001B[43m,\u001B[49m\n\u001B[1;32m    452\u001B[0m \u001B[43m        \u001B[49m\u001B[43mshow_progress_bar\u001B[49m\u001B[38;5;241;43m=\u001B[39;49m\u001B[43mshow_progress_bar\u001B[49m\u001B[43m,\u001B[49m\n\u001B[1;32m    453\u001B[0m \u001B[43m    \u001B[49m\u001B[43m)\u001B[49m\n",
      "File \u001B[0;32m~/Desktop/DM2/venv/lib/python3.9/site-packages/optuna/study/_optimize.py:103\u001B[0m, in \u001B[0;36m_optimize\u001B[0;34m(study, func, n_trials, timeout, n_jobs, catch, callbacks, gc_after_trial, show_progress_bar)\u001B[0m\n\u001B[1;32m    101\u001B[0m                     \u001B[38;5;66;03m# Raise if exception occurred in executing the completed futures.\u001B[39;00m\n\u001B[1;32m    102\u001B[0m                     \u001B[38;5;28;01mfor\u001B[39;00m f \u001B[38;5;129;01min\u001B[39;00m completed:\n\u001B[0;32m--> 103\u001B[0m                         \u001B[43mf\u001B[49m\u001B[38;5;241;43m.\u001B[39;49m\u001B[43mresult\u001B[49m\u001B[43m(\u001B[49m\u001B[43m)\u001B[49m\n\u001B[1;32m    105\u001B[0m                 futures\u001B[38;5;241m.\u001B[39madd(\n\u001B[1;32m    106\u001B[0m                     executor\u001B[38;5;241m.\u001B[39msubmit(\n\u001B[1;32m    107\u001B[0m                         _optimize_sequential,\n\u001B[0;32m   (...)\u001B[0m\n\u001B[1;32m    118\u001B[0m                     )\n\u001B[1;32m    119\u001B[0m                 )\n\u001B[1;32m    120\u001B[0m \u001B[38;5;28;01mfinally\u001B[39;00m:\n",
      "File \u001B[0;32m/Library/Developer/CommandLineTools/Library/Frameworks/Python3.framework/Versions/3.9/lib/python3.9/concurrent/futures/_base.py:438\u001B[0m, in \u001B[0;36mFuture.result\u001B[0;34m(self, timeout)\u001B[0m\n\u001B[1;32m    436\u001B[0m     \u001B[38;5;28;01mraise\u001B[39;00m CancelledError()\n\u001B[1;32m    437\u001B[0m \u001B[38;5;28;01melif\u001B[39;00m \u001B[38;5;28mself\u001B[39m\u001B[38;5;241m.\u001B[39m_state \u001B[38;5;241m==\u001B[39m FINISHED:\n\u001B[0;32m--> 438\u001B[0m     \u001B[38;5;28;01mreturn\u001B[39;00m \u001B[38;5;28;43mself\u001B[39;49m\u001B[38;5;241;43m.\u001B[39;49m\u001B[43m__get_result\u001B[49m\u001B[43m(\u001B[49m\u001B[43m)\u001B[49m\n\u001B[1;32m    440\u001B[0m \u001B[38;5;28mself\u001B[39m\u001B[38;5;241m.\u001B[39m_condition\u001B[38;5;241m.\u001B[39mwait(timeout)\n\u001B[1;32m    442\u001B[0m \u001B[38;5;28;01mif\u001B[39;00m \u001B[38;5;28mself\u001B[39m\u001B[38;5;241m.\u001B[39m_state \u001B[38;5;129;01min\u001B[39;00m [CANCELLED, CANCELLED_AND_NOTIFIED]:\n",
      "File \u001B[0;32m/Library/Developer/CommandLineTools/Library/Frameworks/Python3.framework/Versions/3.9/lib/python3.9/concurrent/futures/_base.py:390\u001B[0m, in \u001B[0;36mFuture.__get_result\u001B[0;34m(self)\u001B[0m\n\u001B[1;32m    388\u001B[0m \u001B[38;5;28;01mif\u001B[39;00m \u001B[38;5;28mself\u001B[39m\u001B[38;5;241m.\u001B[39m_exception:\n\u001B[1;32m    389\u001B[0m     \u001B[38;5;28;01mtry\u001B[39;00m:\n\u001B[0;32m--> 390\u001B[0m         \u001B[38;5;28;01mraise\u001B[39;00m \u001B[38;5;28mself\u001B[39m\u001B[38;5;241m.\u001B[39m_exception\n\u001B[1;32m    391\u001B[0m     \u001B[38;5;28;01mfinally\u001B[39;00m:\n\u001B[1;32m    392\u001B[0m         \u001B[38;5;66;03m# Break a reference cycle with the exception in self._exception\u001B[39;00m\n\u001B[1;32m    393\u001B[0m         \u001B[38;5;28mself\u001B[39m \u001B[38;5;241m=\u001B[39m \u001B[38;5;28;01mNone\u001B[39;00m\n",
      "File \u001B[0;32m/Library/Developer/CommandLineTools/Library/Frameworks/Python3.framework/Versions/3.9/lib/python3.9/concurrent/futures/thread.py:52\u001B[0m, in \u001B[0;36m_WorkItem.run\u001B[0;34m(self)\u001B[0m\n\u001B[1;32m     49\u001B[0m     \u001B[38;5;28;01mreturn\u001B[39;00m\n\u001B[1;32m     51\u001B[0m \u001B[38;5;28;01mtry\u001B[39;00m:\n\u001B[0;32m---> 52\u001B[0m     result \u001B[38;5;241m=\u001B[39m \u001B[38;5;28;43mself\u001B[39;49m\u001B[38;5;241;43m.\u001B[39;49m\u001B[43mfn\u001B[49m\u001B[43m(\u001B[49m\u001B[38;5;241;43m*\u001B[39;49m\u001B[38;5;28;43mself\u001B[39;49m\u001B[38;5;241;43m.\u001B[39;49m\u001B[43margs\u001B[49m\u001B[43m,\u001B[49m\u001B[43m \u001B[49m\u001B[38;5;241;43m*\u001B[39;49m\u001B[38;5;241;43m*\u001B[39;49m\u001B[38;5;28;43mself\u001B[39;49m\u001B[38;5;241;43m.\u001B[39;49m\u001B[43mkwargs\u001B[49m\u001B[43m)\u001B[49m\n\u001B[1;32m     53\u001B[0m \u001B[38;5;28;01mexcept\u001B[39;00m \u001B[38;5;167;01mBaseException\u001B[39;00m \u001B[38;5;28;01mas\u001B[39;00m exc:\n\u001B[1;32m     54\u001B[0m     \u001B[38;5;28mself\u001B[39m\u001B[38;5;241m.\u001B[39mfuture\u001B[38;5;241m.\u001B[39mset_exception(exc)\n",
      "File \u001B[0;32m~/Desktop/DM2/venv/lib/python3.9/site-packages/optuna/study/_optimize.py:163\u001B[0m, in \u001B[0;36m_optimize_sequential\u001B[0;34m(study, func, n_trials, timeout, catch, callbacks, gc_after_trial, reseed_sampler_rng, time_start, progress_bar)\u001B[0m\n\u001B[1;32m    160\u001B[0m         \u001B[38;5;28;01mbreak\u001B[39;00m\n\u001B[1;32m    162\u001B[0m \u001B[38;5;28;01mtry\u001B[39;00m:\n\u001B[0;32m--> 163\u001B[0m     frozen_trial \u001B[38;5;241m=\u001B[39m \u001B[43m_run_trial\u001B[49m\u001B[43m(\u001B[49m\u001B[43mstudy\u001B[49m\u001B[43m,\u001B[49m\u001B[43m \u001B[49m\u001B[43mfunc\u001B[49m\u001B[43m,\u001B[49m\u001B[43m \u001B[49m\u001B[43mcatch\u001B[49m\u001B[43m)\u001B[49m\n\u001B[1;32m    164\u001B[0m \u001B[38;5;28;01mfinally\u001B[39;00m:\n\u001B[1;32m    165\u001B[0m     \u001B[38;5;66;03m# The following line mitigates memory problems that can be occurred in some\u001B[39;00m\n\u001B[1;32m    166\u001B[0m     \u001B[38;5;66;03m# environments (e.g., services that use computing containers such as GitHub Actions).\u001B[39;00m\n\u001B[1;32m    167\u001B[0m     \u001B[38;5;66;03m# Please refer to the following PR for further details:\u001B[39;00m\n\u001B[1;32m    168\u001B[0m     \u001B[38;5;66;03m# https://github.com/optuna/optuna/pull/325.\u001B[39;00m\n\u001B[1;32m    169\u001B[0m     \u001B[38;5;28;01mif\u001B[39;00m gc_after_trial:\n",
      "File \u001B[0;32m~/Desktop/DM2/venv/lib/python3.9/site-packages/optuna/study/_optimize.py:251\u001B[0m, in \u001B[0;36m_run_trial\u001B[0;34m(study, func, catch)\u001B[0m\n\u001B[1;32m    244\u001B[0m         \u001B[38;5;28;01massert\u001B[39;00m \u001B[38;5;28;01mFalse\u001B[39;00m, \u001B[38;5;124m\"\u001B[39m\u001B[38;5;124mShould not reach.\u001B[39m\u001B[38;5;124m\"\u001B[39m\n\u001B[1;32m    246\u001B[0m \u001B[38;5;28;01mif\u001B[39;00m (\n\u001B[1;32m    247\u001B[0m     frozen_trial\u001B[38;5;241m.\u001B[39mstate \u001B[38;5;241m==\u001B[39m TrialState\u001B[38;5;241m.\u001B[39mFAIL\n\u001B[1;32m    248\u001B[0m     \u001B[38;5;129;01mand\u001B[39;00m func_err \u001B[38;5;129;01mis\u001B[39;00m \u001B[38;5;129;01mnot\u001B[39;00m \u001B[38;5;28;01mNone\u001B[39;00m\n\u001B[1;32m    249\u001B[0m     \u001B[38;5;129;01mand\u001B[39;00m \u001B[38;5;129;01mnot\u001B[39;00m \u001B[38;5;28misinstance\u001B[39m(func_err, catch)\n\u001B[1;32m    250\u001B[0m ):\n\u001B[0;32m--> 251\u001B[0m     \u001B[38;5;28;01mraise\u001B[39;00m func_err\n\u001B[1;32m    252\u001B[0m \u001B[38;5;28;01mreturn\u001B[39;00m frozen_trial\n",
      "File \u001B[0;32m~/Desktop/DM2/venv/lib/python3.9/site-packages/optuna/study/_optimize.py:200\u001B[0m, in \u001B[0;36m_run_trial\u001B[0;34m(study, func, catch)\u001B[0m\n\u001B[1;32m    198\u001B[0m \u001B[38;5;28;01mwith\u001B[39;00m get_heartbeat_thread(trial\u001B[38;5;241m.\u001B[39m_trial_id, study\u001B[38;5;241m.\u001B[39m_storage):\n\u001B[1;32m    199\u001B[0m     \u001B[38;5;28;01mtry\u001B[39;00m:\n\u001B[0;32m--> 200\u001B[0m         value_or_values \u001B[38;5;241m=\u001B[39m \u001B[43mfunc\u001B[49m\u001B[43m(\u001B[49m\u001B[43mtrial\u001B[49m\u001B[43m)\u001B[49m\n\u001B[1;32m    201\u001B[0m     \u001B[38;5;28;01mexcept\u001B[39;00m exceptions\u001B[38;5;241m.\u001B[39mTrialPruned \u001B[38;5;28;01mas\u001B[39;00m e:\n\u001B[1;32m    202\u001B[0m         \u001B[38;5;66;03m# TODO(mamu): Handle multi-objective cases.\u001B[39;00m\n\u001B[1;32m    203\u001B[0m         state \u001B[38;5;241m=\u001B[39m TrialState\u001B[38;5;241m.\u001B[39mPRUNED\n",
      "Cell \u001B[0;32mIn[9], line 27\u001B[0m, in \u001B[0;36mobjective_fun\u001B[0;34m(trial)\u001B[0m\n\u001B[1;32m     16\u001B[0m \u001B[38;5;28mprint\u001B[39m(\u001B[38;5;124mf\u001B[39m\u001B[38;5;124m\"\u001B[39m\u001B[38;5;124mRunning little bitch having n_conv=\u001B[39m\u001B[38;5;132;01m{\u001B[39;00mn_conv\u001B[38;5;132;01m}\u001B[39;00m\u001B[38;5;124m, dropout=\u001B[39m\u001B[38;5;132;01m{\u001B[39;00mdropout\u001B[38;5;132;01m}\u001B[39;00m\u001B[38;5;124m, hidden_nodes=\u001B[39m\u001B[38;5;132;01m{\u001B[39;00mhidden_nodes\u001B[38;5;132;01m}\u001B[39;00m\u001B[38;5;124m\"\u001B[39m)\n\u001B[1;32m     18\u001B[0m cnn \u001B[38;5;241m=\u001B[39m build_model(X_train_v\u001B[38;5;241m.\u001B[39mshape[\u001B[38;5;241m1\u001B[39m:], \u001B[38;5;28mlen\u001B[39m(np\u001B[38;5;241m.\u001B[39munique(y_train_v)),\n\u001B[1;32m     19\u001B[0m                   n_hidden\u001B[38;5;241m=\u001B[39mn_hidden,\n\u001B[1;32m     20\u001B[0m                   hidden_nodes\u001B[38;5;241m=\u001B[39mhidden_nodes,\n\u001B[0;32m   (...)\u001B[0m\n\u001B[1;32m     24\u001B[0m                   kernel_size\u001B[38;5;241m=\u001B[39mkernel_size,\n\u001B[1;32m     25\u001B[0m                   )\n\u001B[0;32m---> 27\u001B[0m \u001B[43mcnn\u001B[49m\u001B[38;5;241;43m.\u001B[39;49m\u001B[43mfit\u001B[49m\u001B[43m(\u001B[49m\u001B[43mX_train_v\u001B[49m\u001B[43m,\u001B[49m\u001B[43m \u001B[49m\u001B[43my_train_v\u001B[49m\u001B[43m,\u001B[49m\u001B[43m \u001B[49m\u001B[43mbatch_size\u001B[49m\u001B[38;5;241;43m=\u001B[39;49m\u001B[43mbatch_size\u001B[49m\u001B[43m,\u001B[49m\u001B[43m \u001B[49m\u001B[43mepochs\u001B[49m\u001B[38;5;241;43m=\u001B[39;49m\u001B[43mepochs\u001B[49m\u001B[43m,\u001B[49m\u001B[43m \u001B[49m\u001B[43mverbose\u001B[49m\u001B[38;5;241;43m=\u001B[39;49m\u001B[38;5;28;43;01mFalse\u001B[39;49;00m\u001B[43m)\u001B[49m\n\u001B[1;32m     29\u001B[0m y_pred \u001B[38;5;241m=\u001B[39m np\u001B[38;5;241m.\u001B[39margmax(cnn\u001B[38;5;241m.\u001B[39mpredict(X_valid), axis\u001B[38;5;241m=\u001B[39m\u001B[38;5;241m1\u001B[39m)\n\u001B[1;32m     31\u001B[0m error \u001B[38;5;241m=\u001B[39m accuracy_score(y_valid, y_pred)\n",
      "File \u001B[0;32m~/Desktop/DM2/venv/lib/python3.9/site-packages/keras/src/utils/traceback_utils.py:70\u001B[0m, in \u001B[0;36mfilter_traceback.<locals>.error_handler\u001B[0;34m(*args, **kwargs)\u001B[0m\n\u001B[1;32m     67\u001B[0m     filtered_tb \u001B[38;5;241m=\u001B[39m _process_traceback_frames(e\u001B[38;5;241m.\u001B[39m__traceback__)\n\u001B[1;32m     68\u001B[0m     \u001B[38;5;66;03m# To get the full stack trace, call:\u001B[39;00m\n\u001B[1;32m     69\u001B[0m     \u001B[38;5;66;03m# `tf.debugging.disable_traceback_filtering()`\u001B[39;00m\n\u001B[0;32m---> 70\u001B[0m     \u001B[38;5;28;01mraise\u001B[39;00m e\u001B[38;5;241m.\u001B[39mwith_traceback(filtered_tb) \u001B[38;5;28;01mfrom\u001B[39;00m \u001B[38;5;28;01mNone\u001B[39;00m\n\u001B[1;32m     71\u001B[0m \u001B[38;5;28;01mfinally\u001B[39;00m:\n\u001B[1;32m     72\u001B[0m     \u001B[38;5;28;01mdel\u001B[39;00m filtered_tb\n",
      "File \u001B[0;32m~/Desktop/DM2/venv/lib/python3.9/site-packages/tensorflow/python/eager/execute.py:53\u001B[0m, in \u001B[0;36mquick_execute\u001B[0;34m(op_name, num_outputs, inputs, attrs, ctx, name)\u001B[0m\n\u001B[1;32m     51\u001B[0m \u001B[38;5;28;01mtry\u001B[39;00m:\n\u001B[1;32m     52\u001B[0m   ctx\u001B[38;5;241m.\u001B[39mensure_initialized()\n\u001B[0;32m---> 53\u001B[0m   tensors \u001B[38;5;241m=\u001B[39m pywrap_tfe\u001B[38;5;241m.\u001B[39mTFE_Py_Execute(ctx\u001B[38;5;241m.\u001B[39m_handle, device_name, op_name,\n\u001B[1;32m     54\u001B[0m                                       inputs, attrs, num_outputs)\n\u001B[1;32m     55\u001B[0m \u001B[38;5;28;01mexcept\u001B[39;00m core\u001B[38;5;241m.\u001B[39m_NotOkStatusException \u001B[38;5;28;01mas\u001B[39;00m e:\n\u001B[1;32m     56\u001B[0m   \u001B[38;5;28;01mif\u001B[39;00m name \u001B[38;5;129;01mis\u001B[39;00m \u001B[38;5;129;01mnot\u001B[39;00m \u001B[38;5;28;01mNone\u001B[39;00m:\n",
      "\u001B[0;31mUnimplementedError\u001B[0m: Graph execution error:\n\nDetected at node 'Cast_1' defined at (most recent call last):\n    File \"/Library/Developer/CommandLineTools/Library/Frameworks/Python3.framework/Versions/3.9/lib/python3.9/threading.py\", line 930, in _bootstrap\n      self._bootstrap_inner()\n    File \"/Library/Developer/CommandLineTools/Library/Frameworks/Python3.framework/Versions/3.9/lib/python3.9/threading.py\", line 973, in _bootstrap_inner\n      self.run()\n    File \"/Library/Developer/CommandLineTools/Library/Frameworks/Python3.framework/Versions/3.9/lib/python3.9/threading.py\", line 910, in run\n      self._target(*self._args, **self._kwargs)\n    File \"/Library/Developer/CommandLineTools/Library/Frameworks/Python3.framework/Versions/3.9/lib/python3.9/concurrent/futures/thread.py\", line 77, in _worker\n      work_item.run()\n    File \"/Library/Developer/CommandLineTools/Library/Frameworks/Python3.framework/Versions/3.9/lib/python3.9/concurrent/futures/thread.py\", line 52, in run\n      result = self.fn(*self.args, **self.kwargs)\n    File \"/Users/paolomollica/Desktop/DM2/venv/lib/python3.9/site-packages/optuna/study/_optimize.py\", line 163, in _optimize_sequential\n      frozen_trial = _run_trial(study, func, catch)\n    File \"/Users/paolomollica/Desktop/DM2/venv/lib/python3.9/site-packages/optuna/study/_optimize.py\", line 200, in _run_trial\n      value_or_values = func(trial)\n    File \"/var/folders/ll/kv_3vwz11y3b1l9g2f0x8n_80000gn/T/ipykernel_88897/2462299479.py\", line 27, in objective_fun\n      cnn.fit(X_train_v, y_train_v, batch_size=batch_size, epochs=epochs, verbose=False)\n    File \"/Users/paolomollica/Desktop/DM2/venv/lib/python3.9/site-packages/keras/src/utils/traceback_utils.py\", line 65, in error_handler\n      return fn(*args, **kwargs)\n    File \"/Users/paolomollica/Desktop/DM2/venv/lib/python3.9/site-packages/keras/src/engine/training.py\", line 1742, in fit\n      tmp_logs = self.train_function(iterator)\n    File \"/Users/paolomollica/Desktop/DM2/venv/lib/python3.9/site-packages/keras/src/engine/training.py\", line 1338, in train_function\n      return step_function(self, iterator)\n    File \"/Users/paolomollica/Desktop/DM2/venv/lib/python3.9/site-packages/keras/src/engine/training.py\", line 1322, in step_function\n      outputs = model.distribute_strategy.run(run_step, args=(data,))\n    File \"/Users/paolomollica/Desktop/DM2/venv/lib/python3.9/site-packages/keras/src/engine/training.py\", line 1303, in run_step\n      outputs = model.train_step(data)\n    File \"/Users/paolomollica/Desktop/DM2/venv/lib/python3.9/site-packages/keras/src/engine/training.py\", line 1085, in train_step\n      return self.compute_metrics(x, y, y_pred, sample_weight)\n    File \"/Users/paolomollica/Desktop/DM2/venv/lib/python3.9/site-packages/keras/src/engine/training.py\", line 1179, in compute_metrics\n      self.compiled_metrics.update_state(y, y_pred, sample_weight)\n    File \"/Users/paolomollica/Desktop/DM2/venv/lib/python3.9/site-packages/keras/src/engine/compile_utils.py\", line 605, in update_state\n      metric_obj.update_state(y_t, y_p, sample_weight=mask)\n    File \"/Users/paolomollica/Desktop/DM2/venv/lib/python3.9/site-packages/keras/src/utils/metrics_utils.py\", line 77, in decorated\n      update_op = update_state_fn(*args, **kwargs)\n    File \"/Users/paolomollica/Desktop/DM2/venv/lib/python3.9/site-packages/keras/src/metrics/base_metric.py\", line 140, in update_state_fn\n      return ag_update_state(*args, **kwargs)\n    File \"/Users/paolomollica/Desktop/DM2/venv/lib/python3.9/site-packages/keras/src/metrics/base_metric.py\", line 708, in update_state\n      y_true = tf.cast(y_true, self._dtype)\nNode: 'Cast_1'\nCast string to float is not supported\n\t [[{{node Cast_1}}]] [Op:__inference_train_function_8427]"
     ]
    }
   ],
   "source": [
    "import optuna\n",
    "from sklearn.metrics import accuracy_score\n",
    "\n",
    "# objective function to be minimized\n",
    "def objective_fun(trial):\n",
    "\n",
    "    n_conv = trial.suggest_int('n_conv', 0, 3)\n",
    "    n_hidden = trial.suggest_int('n_hidden', 0, 3)\n",
    "    hidden_nodes = trial.suggest_int('hidden_nodes', 8, 256)\n",
    "    dropout = trial.suggest_float('dropout', 0, 0.2)\n",
    "    filters = trial.suggest_int('filters', 2, 16)\n",
    "    kernel_size = trial.suggest_int('kernel_size', 2, 16)\n",
    "    batch_size = trial.suggest_int('batch_size', 16, 64)\n",
    "    epochs = trial.suggest_int('epochs', 5, 90)\n",
    "\n",
    "    print(f\"Running little bitch having n_conv={n_conv}, dropout={dropout}, hidden_nodes={hidden_nodes}\")\n",
    "\n",
    "    cnn = build_model(X_train_v.shape[1:], len(np.unique(y_train_v)),\n",
    "                      n_hidden=n_hidden,\n",
    "                      hidden_nodes=hidden_nodes,\n",
    "                      n_conv=n_conv,\n",
    "                      dropout=dropout,\n",
    "                      filters=filters,\n",
    "                      kernel_size=kernel_size,\n",
    "                      )\n",
    "\n",
    "    cnn.fit(X_train_v, y_train_v, batch_size=batch_size, epochs=epochs, verbose=False)\n",
    "\n",
    "    y_pred = np.argmax(cnn.predict(X_valid), axis=1)\n",
    "\n",
    "    error = accuracy_score(y_valid, y_pred)\n",
    "\n",
    "    return error\n",
    "\n",
    "\n",
    "study = optuna.create_study(direction='maximize')\n",
    "study.optimize(objective_fun, n_trials=150, n_jobs=-1, catch=ValueError)"
   ],
   "metadata": {
    "collapsed": false,
    "ExecuteTime": {
     "end_time": "2023-06-29T09:43:56.217989Z",
     "start_time": "2023-06-29T09:43:53.420863Z"
    }
   }
  },
  {
   "cell_type": "code",
   "execution_count": null,
   "outputs": [],
   "source": [
    "best_params = study.best_params\n",
    "best_params"
   ],
   "metadata": {
    "collapsed": false
   }
  },
  {
   "cell_type": "code",
   "execution_count": null,
   "outputs": [],
   "source": [
    "cnn = build_model(X_train.shape[1:], 2, **best_params)\n",
    "cnn.summary()"
   ],
   "metadata": {
    "collapsed": false
   }
  },
  {
   "cell_type": "code",
   "execution_count": null,
   "outputs": [],
   "source": [
    "cnn.fit(X_train, y_train, epochs=best_params['epochs'], batch_size=best_params['batch_size'])"
   ],
   "metadata": {
    "collapsed": false
   }
  },
  {
   "cell_type": "code",
   "execution_count": null,
   "outputs": [],
   "source": [
    "from sklearn.metrics import f1_score, classification_report, cohen_kappa_score\n",
    "\n",
    "predictions = cnn.predict(X_test)\n",
    "y_pred = np.argmax(predictions, axis=1)\n",
    "\n",
    "print(f'Cohen k {cohen_kappa_score(y_test, y_pred)}')\n",
    "print('Accuracy %s' % accuracy_score(y_test, y_pred))\n",
    "print('F1-score %s' % f1_score(y_test, y_pred, average=None))\n",
    "print(classification_report(y_test, y_pred))"
   ],
   "metadata": {
    "collapsed": false
   }
  },
  {
   "cell_type": "markdown",
   "source": [
    "# LIME"
   ],
   "metadata": {
    "collapsed": false
   }
  },
  {
   "cell_type": "code",
   "execution_count": null,
   "outputs": [],
   "source": [
    "import lime\n",
    "from lime import lime_image\n",
    "from skimage.segmentation import mark_boundaries\n",
    "\n",
    "explainer = lime_image.LimeImageExplainer()\n",
    "\n",
    "explanation = explainer.explain_instance(X_test[0], cnn.predict, top_labels=2)\n",
    "\n",
    "image, mask = explanation.get_image_and_mask(0, positives_only=True, hide_rest=True)"
   ],
   "metadata": {
    "collapsed": false
   }
  },
  {
   "cell_type": "code",
   "execution_count": null,
   "outputs": [],
   "source": [
    "\n"
   ],
   "metadata": {
    "collapsed": false
   }
  }
 ],
 "metadata": {
  "kernelspec": {
   "display_name": "Python 3",
   "language": "python",
   "name": "python3"
  },
  "language_info": {
   "codemirror_mode": {
    "name": "ipython",
    "version": 2
   },
   "file_extension": ".py",
   "mimetype": "text/x-python",
   "name": "python",
   "nbconvert_exporter": "python",
   "pygments_lexer": "ipython2",
   "version": "2.7.6"
  }
 },
 "nbformat": 4,
 "nbformat_minor": 0
}
