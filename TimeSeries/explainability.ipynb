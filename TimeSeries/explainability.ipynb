{
 "cells": [
  {
   "cell_type": "code",
   "execution_count": 1,
   "metadata": {
    "ExecuteTime": {
     "end_time": "2023-06-30T15:17:43.308717Z",
     "start_time": "2023-06-30T15:17:43.305929Z"
    }
   },
   "outputs": [
    {
     "name": "stdout",
     "output_type": "stream",
     "text": [
      "font sizes set\n"
     ]
    }
   ],
   "source": [
    "import os\n",
    "import numpy as np\n",
    "import pandas as pd\n",
    "import matplotlib.pyplot as plt\n",
    "import seaborn as sns; sns.set()\n",
    "\n",
    "import sys\n",
    "\n",
    "sys.path.append('../')\n",
    "import default_style"
   ]
  },
  {
   "cell_type": "code",
   "execution_count": 56,
   "metadata": {
    "ExecuteTime": {
     "end_time": "2023-06-30T15:17:43.313701Z",
     "start_time": "2023-06-30T15:17:43.312355Z"
    }
   },
   "outputs": [],
   "source": [
    "TS_DATASET_FOLDER = os.path.join('..', 'dataset')\n",
    "TS_PREPROC_FOLDER = os.path.join(TS_DATASET_FOLDER, 'preprocessed_traces')\n",
    "DF_PREPROC_FILE = os.path.join(TS_PREPROC_FOLDER, 'preproc_ts.df')\n",
    "\n",
    "TARGET = 'statement'\n",
    "TRACES = 'syllables_02_STFT'"
   ]
  },
  {
   "cell_type": "code",
   "execution_count": 57,
   "metadata": {
    "ExecuteTime": {
     "end_time": "2023-06-30T15:17:43.347798Z",
     "start_time": "2023-06-30T15:17:43.314865Z"
    }
   },
   "outputs": [
    {
     "data": {
      "text/html": [
       "<div>\n",
       "<style scoped>\n",
       "    .dataframe tbody tr th:only-of-type {\n",
       "        vertical-align: middle;\n",
       "    }\n",
       "\n",
       "    .dataframe tbody tr th {\n",
       "        vertical-align: top;\n",
       "    }\n",
       "\n",
       "    .dataframe thead th {\n",
       "        text-align: right;\n",
       "    }\n",
       "</style>\n",
       "<table border=\"1\" class=\"dataframe\">\n",
       "  <thead>\n",
       "    <tr style=\"text-align: right;\">\n",
       "      <th></th>\n",
       "      <th>vocal_channel</th>\n",
       "      <th>emotion</th>\n",
       "      <th>emotional_intensity</th>\n",
       "      <th>statement</th>\n",
       "      <th>repetition</th>\n",
       "      <th>actor</th>\n",
       "      <th>path</th>\n",
       "      <th>sex</th>\n",
       "      <th>begin_s</th>\n",
       "      <th>end_s</th>\n",
       "      <th>fourier_coeffs</th>\n",
       "      <th>filtered_fourier_coeffs</th>\n",
       "      <th>syll_0_start_index</th>\n",
       "      <th>syll_1_start_index</th>\n",
       "      <th>syll_2_start_index</th>\n",
       "      <th>syll_3_start_index</th>\n",
       "      <th>syll_4_start_index</th>\n",
       "      <th>syll_5_start_index</th>\n",
       "      <th>syll_6_start_index</th>\n",
       "      <th>syll_7_start_index</th>\n",
       "    </tr>\n",
       "  </thead>\n",
       "  <tbody>\n",
       "    <tr>\n",
       "      <th>0</th>\n",
       "      <td>speech</td>\n",
       "      <td>neutral</td>\n",
       "      <td>normal</td>\n",
       "      <td>kids</td>\n",
       "      <td>1st</td>\n",
       "      <td>actor_01</td>\n",
       "      <td>../dataset/Audio_Speech_Actors_01-24/Actor_01/...</td>\n",
       "      <td>M</td>\n",
       "      <td>1.009833</td>\n",
       "      <td>2.252000</td>\n",
       "      <td>[1.9371510e-07 1.2311488e-02 1.1168750e-02 ......</td>\n",
       "      <td>[1.9371510e-07 1.2311473e-02 1.1168692e-02 ......</td>\n",
       "      <td>0</td>\n",
       "      <td>1128</td>\n",
       "      <td>2240</td>\n",
       "      <td>3200</td>\n",
       "      <td>4304</td>\n",
       "      <td>5208</td>\n",
       "      <td>5808</td>\n",
       "      <td>7448</td>\n",
       "    </tr>\n",
       "    <tr>\n",
       "      <th>1</th>\n",
       "      <td>speech</td>\n",
       "      <td>neutral</td>\n",
       "      <td>normal</td>\n",
       "      <td>kids</td>\n",
       "      <td>2nd</td>\n",
       "      <td>actor_01</td>\n",
       "      <td>../dataset/Audio_Speech_Actors_01-24/Actor_01/...</td>\n",
       "      <td>M</td>\n",
       "      <td>1.068500</td>\n",
       "      <td>2.294667</td>\n",
       "      <td>[3.5017729e-07 2.6199006e-02 2.5683409e-02 ......</td>\n",
       "      <td>[3.5017729e-07 2.6198970e-02 2.5683273e-02 ......</td>\n",
       "      <td>0</td>\n",
       "      <td>2008</td>\n",
       "      <td>3208</td>\n",
       "      <td>3880</td>\n",
       "      <td>4224</td>\n",
       "      <td>5112</td>\n",
       "      <td>5800</td>\n",
       "      <td>7352</td>\n",
       "    </tr>\n",
       "    <tr>\n",
       "      <th>2</th>\n",
       "      <td>speech</td>\n",
       "      <td>neutral</td>\n",
       "      <td>normal</td>\n",
       "      <td>dogs</td>\n",
       "      <td>1st</td>\n",
       "      <td>actor_01</td>\n",
       "      <td>../dataset/Audio_Speech_Actors_01-24/Actor_01/...</td>\n",
       "      <td>M</td>\n",
       "      <td>1.012000</td>\n",
       "      <td>2.238500</td>\n",
       "      <td>[2.4959445e-07 1.2348385e-02 1.0678725e-02 ......</td>\n",
       "      <td>[2.49594450e-07 1.23483688e-02 1.06786685e-02 ...</td>\n",
       "      <td>0</td>\n",
       "      <td>2816</td>\n",
       "      <td>3352</td>\n",
       "      <td>3912</td>\n",
       "      <td>4296</td>\n",
       "      <td>5232</td>\n",
       "      <td>5880</td>\n",
       "      <td>7352</td>\n",
       "    </tr>\n",
       "    <tr>\n",
       "      <th>3</th>\n",
       "      <td>speech</td>\n",
       "      <td>neutral</td>\n",
       "      <td>normal</td>\n",
       "      <td>dogs</td>\n",
       "      <td>2nd</td>\n",
       "      <td>actor_01</td>\n",
       "      <td>../dataset/Audio_Speech_Actors_01-24/Actor_01/...</td>\n",
       "      <td>M</td>\n",
       "      <td>1.008833</td>\n",
       "      <td>2.187167</td>\n",
       "      <td>[1.1920929e-07 1.2154797e-02 1.6620804e-02 ......</td>\n",
       "      <td>[1.1920929e-07 1.2154780e-02 1.6620707e-02 ......</td>\n",
       "      <td>0</td>\n",
       "      <td>1664</td>\n",
       "      <td>2664</td>\n",
       "      <td>3208</td>\n",
       "      <td>3672</td>\n",
       "      <td>4840</td>\n",
       "      <td>5448</td>\n",
       "      <td>7064</td>\n",
       "    </tr>\n",
       "    <tr>\n",
       "      <th>4</th>\n",
       "      <td>speech</td>\n",
       "      <td>calm</td>\n",
       "      <td>normal</td>\n",
       "      <td>kids</td>\n",
       "      <td>1st</td>\n",
       "      <td>actor_01</td>\n",
       "      <td>../dataset/Audio_Speech_Actors_01-24/Actor_01/...</td>\n",
       "      <td>M</td>\n",
       "      <td>1.023667</td>\n",
       "      <td>2.534167</td>\n",
       "      <td>[1.1920929e-07 2.0026919e-03 7.9689088e-04 ......</td>\n",
       "      <td>[1.1920929e-07 2.0026902e-03 7.9688808e-04 ......</td>\n",
       "      <td>0</td>\n",
       "      <td>2088</td>\n",
       "      <td>3584</td>\n",
       "      <td>4832</td>\n",
       "      <td>5800</td>\n",
       "      <td>6944</td>\n",
       "      <td>7560</td>\n",
       "      <td>9056</td>\n",
       "    </tr>\n",
       "  </tbody>\n",
       "</table>\n",
       "</div>"
      ],
      "text/plain": [
       "  vocal_channel  emotion emotional_intensity statement repetition     actor  \\\n",
       "0        speech  neutral              normal      kids        1st  actor_01   \n",
       "1        speech  neutral              normal      kids        2nd  actor_01   \n",
       "2        speech  neutral              normal      dogs        1st  actor_01   \n",
       "3        speech  neutral              normal      dogs        2nd  actor_01   \n",
       "4        speech     calm              normal      kids        1st  actor_01   \n",
       "\n",
       "                                                path sex   begin_s     end_s  \\\n",
       "0  ../dataset/Audio_Speech_Actors_01-24/Actor_01/...   M  1.009833  2.252000   \n",
       "1  ../dataset/Audio_Speech_Actors_01-24/Actor_01/...   M  1.068500  2.294667   \n",
       "2  ../dataset/Audio_Speech_Actors_01-24/Actor_01/...   M  1.012000  2.238500   \n",
       "3  ../dataset/Audio_Speech_Actors_01-24/Actor_01/...   M  1.008833  2.187167   \n",
       "4  ../dataset/Audio_Speech_Actors_01-24/Actor_01/...   M  1.023667  2.534167   \n",
       "\n",
       "                                      fourier_coeffs  \\\n",
       "0  [1.9371510e-07 1.2311488e-02 1.1168750e-02 ......   \n",
       "1  [3.5017729e-07 2.6199006e-02 2.5683409e-02 ......   \n",
       "2  [2.4959445e-07 1.2348385e-02 1.0678725e-02 ......   \n",
       "3  [1.1920929e-07 1.2154797e-02 1.6620804e-02 ......   \n",
       "4  [1.1920929e-07 2.0026919e-03 7.9689088e-04 ......   \n",
       "\n",
       "                             filtered_fourier_coeffs  syll_0_start_index  \\\n",
       "0  [1.9371510e-07 1.2311473e-02 1.1168692e-02 ......                   0   \n",
       "1  [3.5017729e-07 2.6198970e-02 2.5683273e-02 ......                   0   \n",
       "2  [2.49594450e-07 1.23483688e-02 1.06786685e-02 ...                   0   \n",
       "3  [1.1920929e-07 1.2154780e-02 1.6620707e-02 ......                   0   \n",
       "4  [1.1920929e-07 2.0026902e-03 7.9688808e-04 ......                   0   \n",
       "\n",
       "   syll_1_start_index  syll_2_start_index  syll_3_start_index  \\\n",
       "0                1128                2240                3200   \n",
       "1                2008                3208                3880   \n",
       "2                2816                3352                3912   \n",
       "3                1664                2664                3208   \n",
       "4                2088                3584                4832   \n",
       "\n",
       "   syll_4_start_index  syll_5_start_index  syll_6_start_index  \\\n",
       "0                4304                5208                5808   \n",
       "1                4224                5112                5800   \n",
       "2                4296                5232                5880   \n",
       "3                3672                4840                5448   \n",
       "4                5800                6944                7560   \n",
       "\n",
       "   syll_7_start_index  \n",
       "0                7448  \n",
       "1                7352  \n",
       "2                7352  \n",
       "3                7064  \n",
       "4                9056  "
      ]
     },
     "execution_count": 57,
     "metadata": {},
     "output_type": "execute_result"
    }
   ],
   "source": [
    "df = pd.read_csv(DF_PREPROC_FILE).drop(columns=['Unnamed: 0'])\n",
    "df.head()"
   ]
  },
  {
   "cell_type": "code",
   "execution_count": 4,
   "metadata": {
    "ExecuteTime": {
     "end_time": "2023-06-30T15:17:43.352191Z",
     "start_time": "2023-06-30T15:17:43.344270Z"
    }
   },
   "outputs": [
    {
     "data": {
      "text/plain": [
       "(2452, 27, 27)"
      ]
     },
     "execution_count": 4,
     "metadata": {},
     "output_type": "execute_result"
    }
   ],
   "source": [
    "file_path = os.path.join(TS_PREPROC_FOLDER, f'{TRACES}.npy')\n",
    "traces = np.load(file_path, allow_pickle=True)\n",
    "\n",
    "traces.shape"
   ]
  },
  {
   "cell_type": "markdown",
   "metadata": {},
   "source": [
    "# RGB format"
   ]
  },
  {
   "cell_type": "code",
   "execution_count": 5,
   "metadata": {
    "ExecuteTime": {
     "end_time": "2023-06-30T15:17:43.457203Z",
     "start_time": "2023-06-30T15:17:43.354549Z"
    }
   },
   "outputs": [],
   "source": [
    "\"\"\"\n",
    "# array of empty RGB matrixes\n",
    "rgb_traces = np.zeros((len(traces), traces.shape[1], traces.shape[2], 3), dtype=np.float32)\n",
    "\n",
    "for i in range(len(traces)):\n",
    "    trace = traces[i]\n",
    "\n",
    "    min_value = np.min(trace)\n",
    "    max_value = np.max(trace)\n",
    "    normalized_trace = (trace - min_value) / (max_value - min_value)\n",
    "\n",
    "    red_channel = normalized_trace\n",
    "    green_channel = np.zeros_like(normalized_trace)\n",
    "    blue_channel = np.zeros_like(normalized_trace)\n",
    "\n",
    "    rgb_trace = np.dstack((red_channel, green_channel, blue_channel))\n",
    "    rgb_traces[i] = rgb_trace\n",
    "\n",
    "\n",
    "display(rgb_traces.shape)\n",
    "\n",
    "\"\"\"\n",
    "from PIL import Image\n",
    "\n",
    "rgb_traces = []\n",
    "\n",
    "for i in range(len(traces)):\n",
    "    trace = traces[i]\n",
    "\n",
    "    min_value = np.min(trace)\n",
    "    max_value = np.max(trace)\n",
    "    normalized_trace = (trace - min_value) / (max_value - min_value)\n",
    "\n",
    "    normalized_trace = (normalized_trace * 255).astype(np.uint8)\n",
    "\n",
    "    rgb_trace = Image.fromarray(normalized_trace, mode='L').convert('RGB')\n",
    "\n",
    "    rgb_traces.append(rgb_trace)\n",
    "\n",
    "\n",
    "rgb_traces = np.array([np.array(trace) for trace in rgb_traces])"
   ]
  },
  {
   "cell_type": "code",
   "execution_count": 6,
   "metadata": {
    "ExecuteTime": {
     "end_time": "2023-06-30T15:17:43.506164Z",
     "start_time": "2023-06-30T15:17:43.446671Z"
    }
   },
   "outputs": [
    {
     "data": {
      "image/png": "[encoded data removed]",
      "text/plain": [
       "<Figure size 354.331x236.22 with 1 Axes>"
      ]
     },
     "metadata": {},
     "output_type": "display_data"
    }
   ],
   "source": [
    "plt.imshow(rgb_traces[0])\n",
    "plt.axis('off')\n",
    "plt.show()"
   ]
  },
  {
   "cell_type": "markdown",
   "metadata": {},
   "source": [
    "# Training, Validation and Test Sets Preparation"
   ]
  },
  {
   "cell_type": "code",
   "execution_count": 7,
   "metadata": {
    "ExecuteTime": {
     "end_time": "2023-06-30T15:17:43.513664Z",
     "start_time": "2023-06-30T15:17:43.509845Z"
    }
   },
   "outputs": [
    {
     "data": {
      "text/plain": [
       "array([[[132, 132, 132],\n",
       "        [134, 134, 134],\n",
       "        [139, 139, 139],\n",
       "        ...,\n",
       "        [107, 107, 107],\n",
       "        [ 92,  92,  92],\n",
       "        [ 84,  84,  84]],\n",
       "\n",
       "       [[124, 124, 124],\n",
       "        [151, 151, 151],\n",
       "        [154, 154, 154],\n",
       "        ...,\n",
       "        [ 84,  84,  84],\n",
       "        [ 69,  69,  69],\n",
       "        [ 74,  74,  74]],\n",
       "\n",
       "       [[ 99,  99,  99],\n",
       "        [137, 137, 137],\n",
       "        [130, 130, 130],\n",
       "        ...,\n",
       "        [ 86,  86,  86],\n",
       "        [107, 107, 107],\n",
       "        [ 87,  87,  87]],\n",
       "\n",
       "       ...,\n",
       "\n",
       "       [[ 77,  77,  77],\n",
       "        [194, 194, 194],\n",
       "        [192, 192, 192],\n",
       "        ...,\n",
       "        [ 47,  47,  47],\n",
       "        [ 54,  54,  54],\n",
       "        [ 56,  56,  56]],\n",
       "\n",
       "       [[127, 127, 127],\n",
       "        [162, 162, 162],\n",
       "        [173, 173, 173],\n",
       "        ...,\n",
       "        [ 63,  63,  63],\n",
       "        [ 67,  67,  67],\n",
       "        [ 66,  66,  66]],\n",
       "\n",
       "       [[158, 158, 158],\n",
       "        [180, 180, 180],\n",
       "        [169, 169, 169],\n",
       "        ...,\n",
       "        [ 88,  88,  88],\n",
       "        [ 82,  82,  82],\n",
       "        [ 76,  76,  76]]], dtype=uint8)"
      ]
     },
     "execution_count": 7,
     "metadata": {},
     "output_type": "execute_result"
    }
   ],
   "source": [
    "# sort by actors\n",
    "sorted_indices = df['actor'].argsort()\n",
    "df = df.iloc[sorted_indices].reset_index(drop=True)\n",
    "\n",
    "rgb_traces = rgb_traces[sorted_indices]\n",
    "\n",
    "rgb_traces[0]"
   ]
  },
  {
   "cell_type": "code",
   "execution_count": 8,
   "metadata": {
    "ExecuteTime": {
     "end_time": "2023-06-30T15:17:43.661839Z",
     "start_time": "2023-06-30T15:17:43.515079Z"
    }
   },
   "outputs": [
    {
     "data": {
      "text/plain": [
       "((1462, 27, 27, 3),\n",
       " (366, 27, 27, 3),\n",
       " (624, 27, 27, 3),\n",
       " (1462,),\n",
       " (366,),\n",
       " (624,))"
      ]
     },
     "execution_count": 8,
     "metadata": {},
     "output_type": "execute_result"
    }
   ],
   "source": [
    "from sklearn.model_selection import train_test_split\n",
    "\n",
    "split_index = df[df['actor'] == 'actor_19'].index[0]\n",
    "\n",
    "X_train = rgb_traces[:split_index]\n",
    "X_test = rgb_traces[split_index:]\n",
    "\n",
    "y_train = df[TARGET][:split_index].to_numpy()\n",
    "y_test = df[TARGET][split_index:].to_numpy()\n",
    "\n",
    "X_train_v, X_valid, y_train_v, y_valid = train_test_split(X_train, y_train, test_size=0.2, random_state=100)\n",
    "\n",
    "X_train_v.shape, X_valid.shape, X_test.shape, y_train_v.shape, y_valid.shape, y_test.shape"
   ]
  },
  {
   "cell_type": "markdown",
   "metadata": {},
   "source": [
    "# CNN"
   ]
  },
  {
   "cell_type": "code",
   "execution_count": 9,
   "metadata": {
    "ExecuteTime": {
     "end_time": "2023-06-30T15:17:43.667135Z",
     "start_time": "2023-06-30T15:17:43.663360Z"
    }
   },
   "outputs": [],
   "source": [
    "from sklearn.preprocessing import LabelEncoder\n",
    "\n",
    "label_encoder = LabelEncoder()\n",
    "\n",
    "y_train = label_encoder.fit_transform(y_train)\n",
    "y_train_v = label_encoder.fit_transform(y_train_v)\n",
    "y_valid = label_encoder.transform(y_valid)\n",
    "y_test = label_encoder.transform(y_test)"
   ]
  },
  {
   "cell_type": "code",
   "execution_count": 10,
   "metadata": {
    "ExecuteTime": {
     "end_time": "2023-06-30T15:17:46.894376Z",
     "start_time": "2023-06-30T15:17:43.671256Z"
    }
   },
   "outputs": [
    {
     "name": "stderr",
     "output_type": "stream",
     "text": [
      "2023-07-10 18:06:17.478301: I tensorflow/tsl/cuda/cudart_stub.cc:28] Could not find cuda drivers on your machine, GPU will not be used.\n",
      "2023-07-10 18:06:17.810519: I tensorflow/tsl/cuda/cudart_stub.cc:28] Could not find cuda drivers on your machine, GPU will not be used.\n",
      "2023-07-10 18:06:17.812202: I tensorflow/core/platform/cpu_feature_guard.cc:182] This TensorFlow binary is optimized to use available CPU instructions in performance-critical operations.\n",
      "To enable the following instructions: AVX2 FMA, in other operations, rebuild TensorFlow with the appropriate compiler flags.\n",
      "2023-07-10 18:06:19.880705: W tensorflow/compiler/tf2tensorrt/utils/py_utils.cc:38] TF-TRT Warning: Could not find TensorRT\n"
     ]
    }
   ],
   "source": [
    "from keras.layers import Conv2D, BatchNormalization, Activation, Dropout, GlobalAveragePooling2D, Dense\n",
    "from keras import Sequential\n",
    "\n",
    "\n",
    "def build_model(input_shape, n_categories,\n",
    "                n_conv=0, n_hidden=0, hidden_nodes=32,\n",
    "                dropout=0.01, filters=8, kernel_size=5, **kwargs):\n",
    "\n",
    "    model = Sequential()\n",
    "\n",
    "    model.add(Conv2D(filters=filters,\n",
    "                     kernel_size=(kernel_size, kernel_size),\n",
    "                     activation='relu',\n",
    "                     input_shape=input_shape,\n",
    "                     padding='same'\n",
    "                     ))\n",
    "\n",
    "    model.add(BatchNormalization())\n",
    "    model.add(Activation('relu'))\n",
    "\n",
    "    for _ in range(n_conv):\n",
    "        model.add(Conv2D(filters=filters, kernel_size=kernel_size, activation='relu', padding='same'))\n",
    "        model.add(BatchNormalization())\n",
    "        model.add(Activation('relu'))\n",
    "\n",
    "        model.add(Dropout(dropout))\n",
    "\n",
    "    model.add(GlobalAveragePooling2D())\n",
    "\n",
    "    for _ in range(n_hidden):\n",
    "        model.add(Dense(hidden_nodes, activation='relu'))\n",
    "\n",
    "    model.add(Dense(n_categories, activation='softmax'))\n",
    "    model.compile(loss='sparse_categorical_crossentropy', optimizer='adam', metrics=['accuracy'])\n",
    "\n",
    "    return model"
   ]
  },
  {
   "cell_type": "code",
   "execution_count": 11,
   "metadata": {
    "ExecuteTime": {
     "end_time": "2023-06-30T15:17:47.053211Z",
     "start_time": "2023-06-30T15:17:46.896133Z"
    }
   },
   "outputs": [],
   "source": [
    "import optuna\n",
    "from sklearn.metrics import accuracy_score\n",
    "\n",
    "# objective function to be minimized\n",
    "def objective_fun(trial):\n",
    "\n",
    "    n_conv = trial.suggest_int('n_conv', 0, 3)\n",
    "    n_hidden = trial.suggest_int('n_hidden', 0, 3)\n",
    "    hidden_nodes = trial.suggest_int('hidden_nodes', 8, 256)\n",
    "    dropout = trial.suggest_float('dropout', 0, 0.3)\n",
    "    filters = trial.suggest_int('filters', 2, 16)\n",
    "    kernel_size = trial.suggest_int('kernel_size', 2, 16)\n",
    "    batch_size = trial.suggest_int('batch_size', 16, 64)\n",
    "    epochs = trial.suggest_int('epochs', 5, 90)\n",
    "\n",
    "    print(f'Running little bitch having n_conv={n_conv}, dropout={dropout}, hidden_nodes={hidden_nodes}')\n",
    "\n",
    "    cnn = build_model(X_train_v.shape[1:], len(np.unique(y_train_v)),\n",
    "                      n_hidden=n_hidden,\n",
    "                      hidden_nodes=hidden_nodes,\n",
    "                      n_conv=n_conv,\n",
    "                      dropout=dropout,\n",
    "                      filters=filters,\n",
    "                      kernel_size=kernel_size,\n",
    "                      )\n",
    "\n",
    "    cnn.fit(X_train_v, y_train_v, batch_size=batch_size, epochs=epochs, verbose=False)\n",
    "\n",
    "    y_pred = np.argmax(cnn.predict(X_valid), axis=1)\n",
    "\n",
    "    error = accuracy_score(y_valid, y_pred)\n",
    "\n",
    "    return error\n",
    "\n",
    "\n",
    "#study = optuna.create_study(direction='maximize')\n",
    "#study.optimize(objective_fun, n_trials=50, n_jobs=-1, catch=ValueError)"
   ]
  },
  {
   "cell_type": "code",
   "execution_count": 12,
   "metadata": {
    "ExecuteTime": {
     "end_time": "2023-06-30T15:17:47.057164Z",
     "start_time": "2023-06-30T15:17:47.054381Z"
    }
   },
   "outputs": [
    {
     "data": {
      "text/plain": [
       "{'n_conv': 2,\n",
       " 'n_hidden': 0,\n",
       " 'hidden_nodes': 128,\n",
       " 'dropout': 0.21975727231798456,\n",
       " 'filters': 5,\n",
       " 'kernel_size': 14,\n",
       " 'batch_size': 63,\n",
       " 'epochs': 59}"
      ]
     },
     "execution_count": 12,
     "metadata": {},
     "output_type": "execute_result"
    }
   ],
   "source": [
    "#best_params = study.best_params\n",
    "best_params = {'n_conv': 2, 'n_hidden': 0, 'hidden_nodes': 128, 'dropout': 0.21975727231798456, 'filters': 5, 'kernel_size': 14, 'batch_size': 63, 'epochs': 59}\n",
    "best_params"
   ]
  },
  {
   "cell_type": "code",
   "execution_count": 13,
   "metadata": {
    "ExecuteTime": {
     "end_time": "2023-06-30T15:17:47.157026Z",
     "start_time": "2023-06-30T15:17:47.057814Z"
    }
   },
   "outputs": [
    {
     "name": "stdout",
     "output_type": "stream",
     "text": [
      "Model: \"sequential\"\n",
      "_________________________________________________________________\n",
      " Layer (type)                Output Shape              Param #   \n",
      "=================================================================\n",
      " conv2d (Conv2D)             (None, 27, 27, 5)         2945      \n",
      "                                                                 \n",
      " batch_normalization (BatchN  (None, 27, 27, 5)        20        \n",
      " ormalization)                                                   \n",
      "                                                                 \n",
      " activation (Activation)     (None, 27, 27, 5)         0         \n",
      "                                                                 \n",
      " conv2d_1 (Conv2D)           (None, 27, 27, 5)         4905      \n",
      "                                                                 \n",
      " batch_normalization_1 (Batc  (None, 27, 27, 5)        20        \n",
      " hNormalization)                                                 \n",
      "                                                                 \n",
      " activation_1 (Activation)   (None, 27, 27, 5)         0         \n",
      "                                                                 \n",
      " dropout (Dropout)           (None, 27, 27, 5)         0         \n",
      "                                                                 \n",
      " conv2d_2 (Conv2D)           (None, 27, 27, 5)         4905      \n",
      "                                                                 \n",
      " batch_normalization_2 (Batc  (None, 27, 27, 5)        20        \n",
      " hNormalization)                                                 \n",
      "                                                                 \n",
      " activation_2 (Activation)   (None, 27, 27, 5)         0         \n",
      "                                                                 \n",
      " dropout_1 (Dropout)         (None, 27, 27, 5)         0         \n",
      "                                                                 \n",
      " global_average_pooling2d (G  (None, 5)                0         \n",
      " lobalAveragePooling2D)                                          \n",
      "                                                                 \n",
      " dense (Dense)               (None, 2)                 12        \n",
      "                                                                 \n",
      "=================================================================\n",
      "Total params: 12,827\n",
      "Trainable params: 12,797\n",
      "Non-trainable params: 30\n",
      "_________________________________________________________________\n"
     ]
    }
   ],
   "source": [
    "cnn = build_model(X_train.shape[1:], 2, **best_params)\n",
    "cnn.summary()"
   ]
  },
  {
   "cell_type": "code",
   "execution_count": 14,
   "metadata": {
    "ExecuteTime": {
     "end_time": "2023-06-30T15:22:06.598464Z",
     "start_time": "2023-06-30T15:17:47.154513Z"
    }
   },
   "outputs": [
    {
     "name": "stdout",
     "output_type": "stream",
     "text": [
      "Epoch 1/59\n",
      "30/30 [==============================] - 24s 697ms/step - loss: 0.4357 - accuracy: 0.8463\n",
      "Epoch 2/59\n",
      "30/30 [==============================] - 20s 681ms/step - loss: 0.3112 - accuracy: 0.9344\n",
      "Epoch 3/59\n",
      "30/30 [==============================] - 23s 749ms/step - loss: 0.2488 - accuracy: 0.9540\n",
      "Epoch 4/59\n",
      "30/30 [==============================] - 23s 770ms/step - loss: 0.2267 - accuracy: 0.9601\n",
      "Epoch 5/59\n",
      "30/30 [==============================] - 23s 760ms/step - loss: 0.1871 - accuracy: 0.9710\n",
      "Epoch 6/59\n",
      "30/30 [==============================] - 22s 723ms/step - loss: 0.1712 - accuracy: 0.9694\n",
      "Epoch 7/59\n",
      "30/30 [==============================] - 25s 825ms/step - loss: 0.1599 - accuracy: 0.9721\n",
      "Epoch 8/59\n",
      "30/30 [==============================] - 21s 696ms/step - loss: 0.1391 - accuracy: 0.9787\n",
      "Epoch 9/59\n",
      "30/30 [==============================] - 20s 667ms/step - loss: 0.1277 - accuracy: 0.9819\n",
      "Epoch 10/59\n",
      "30/30 [==============================] - 22s 728ms/step - loss: 0.1433 - accuracy: 0.9721\n",
      "Epoch 11/59\n",
      "30/30 [==============================] - 22s 738ms/step - loss: 0.1145 - accuracy: 0.9776\n",
      "Epoch 12/59\n",
      "30/30 [==============================] - 21s 704ms/step - loss: 0.1283 - accuracy: 0.9683\n",
      "Epoch 13/59\n",
      "30/30 [==============================] - 20s 650ms/step - loss: 0.1287 - accuracy: 0.9699\n",
      "Epoch 14/59\n",
      "30/30 [==============================] - 21s 714ms/step - loss: 0.0994 - accuracy: 0.9809\n",
      "Epoch 15/59\n",
      "30/30 [==============================] - 20s 658ms/step - loss: 0.1080 - accuracy: 0.9792\n",
      "Epoch 16/59\n",
      "30/30 [==============================] - 19s 641ms/step - loss: 0.1248 - accuracy: 0.9694\n",
      "Epoch 17/59\n",
      "30/30 [==============================] - 20s 676ms/step - loss: 0.0890 - accuracy: 0.9847\n",
      "Epoch 18/59\n",
      "30/30 [==============================] - 18s 606ms/step - loss: 0.1117 - accuracy: 0.9748\n",
      "Epoch 19/59\n",
      "30/30 [==============================] - 20s 665ms/step - loss: 0.0895 - accuracy: 0.9798\n",
      "Epoch 20/59\n",
      "30/30 [==============================] - 21s 694ms/step - loss: 0.0790 - accuracy: 0.9819\n",
      "Epoch 21/59\n",
      "30/30 [==============================] - 20s 675ms/step - loss: 0.0890 - accuracy: 0.9836\n",
      "Epoch 22/59\n",
      "30/30 [==============================] - 20s 661ms/step - loss: 0.0698 - accuracy: 0.9880\n",
      "Epoch 23/59\n",
      "30/30 [==============================] - 20s 661ms/step - loss: 0.0593 - accuracy: 0.9902\n",
      "Epoch 24/59\n",
      "30/30 [==============================] - 20s 669ms/step - loss: 0.0677 - accuracy: 0.9841\n",
      "Epoch 25/59\n",
      "30/30 [==============================] - 21s 666ms/step - loss: 0.0590 - accuracy: 0.9874\n",
      "Epoch 26/59\n",
      "30/30 [==============================] - 20s 663ms/step - loss: 0.0601 - accuracy: 0.9874\n",
      "Epoch 27/59\n",
      "30/30 [==============================] - 19s 622ms/step - loss: 0.0612 - accuracy: 0.9869\n",
      "Epoch 28/59\n",
      "30/30 [==============================] - 22s 722ms/step - loss: 0.0548 - accuracy: 0.9896\n",
      "Epoch 29/59\n",
      "30/30 [==============================] - 21s 705ms/step - loss: 0.0603 - accuracy: 0.9885\n",
      "Epoch 30/59\n",
      "30/30 [==============================] - 17s 577ms/step - loss: 0.0531 - accuracy: 0.9891\n",
      "Epoch 31/59\n",
      "30/30 [==============================] - 17s 576ms/step - loss: 0.0439 - accuracy: 0.9929\n",
      "Epoch 32/59\n",
      "30/30 [==============================] - 18s 585ms/step - loss: 0.0431 - accuracy: 0.9907\n",
      "Epoch 33/59\n",
      "30/30 [==============================] - 17s 574ms/step - loss: 0.0787 - accuracy: 0.9770\n",
      "Epoch 34/59\n",
      "30/30 [==============================] - 25s 825ms/step - loss: 0.0651 - accuracy: 0.9825\n",
      "Epoch 35/59\n",
      "30/30 [==============================] - 23s 750ms/step - loss: 0.0459 - accuracy: 0.9896\n",
      "Epoch 36/59\n",
      "30/30 [==============================] - 19s 647ms/step - loss: 0.0392 - accuracy: 0.9929\n",
      "Epoch 37/59\n",
      "30/30 [==============================] - 19s 619ms/step - loss: 0.0570 - accuracy: 0.9858\n",
      "Epoch 38/59\n",
      "30/30 [==============================] - 18s 601ms/step - loss: 0.0465 - accuracy: 0.9896\n",
      "Epoch 39/59\n",
      "30/30 [==============================] - 19s 645ms/step - loss: 0.0394 - accuracy: 0.9902\n",
      "Epoch 40/59\n",
      "30/30 [==============================] - 21s 693ms/step - loss: 0.0375 - accuracy: 0.9907\n",
      "Epoch 41/59\n",
      "30/30 [==============================] - 18s 596ms/step - loss: 0.0380 - accuracy: 0.9896\n",
      "Epoch 42/59\n",
      "30/30 [==============================] - 17s 579ms/step - loss: 0.0324 - accuracy: 0.9951\n",
      "Epoch 43/59\n",
      "30/30 [==============================] - 17s 570ms/step - loss: 0.0612 - accuracy: 0.9880\n",
      "Epoch 44/59\n",
      "30/30 [==============================] - 17s 570ms/step - loss: 0.0509 - accuracy: 0.9880\n",
      "Epoch 45/59\n",
      "30/30 [==============================] - 20s 664ms/step - loss: 0.0779 - accuracy: 0.9759\n",
      "Epoch 46/59\n",
      "30/30 [==============================] - 21s 685ms/step - loss: 0.0452 - accuracy: 0.9896\n",
      "Epoch 47/59\n",
      "30/30 [==============================] - 22s 717ms/step - loss: 0.0368 - accuracy: 0.9902\n",
      "Epoch 48/59\n",
      "30/30 [==============================] - 20s 678ms/step - loss: 0.0848 - accuracy: 0.9754\n",
      "Epoch 49/59\n",
      "30/30 [==============================] - 20s 672ms/step - loss: 0.0597 - accuracy: 0.9830\n",
      "Epoch 50/59\n",
      "30/30 [==============================] - 20s 665ms/step - loss: 0.0584 - accuracy: 0.9830\n",
      "Epoch 51/59\n",
      "30/30 [==============================] - 20s 679ms/step - loss: 0.0434 - accuracy: 0.9880\n",
      "Epoch 52/59\n",
      "30/30 [==============================] - 21s 697ms/step - loss: 0.0600 - accuracy: 0.9825\n",
      "Epoch 53/59\n",
      "30/30 [==============================] - 19s 639ms/step - loss: 0.0379 - accuracy: 0.9891\n",
      "Epoch 54/59\n",
      "30/30 [==============================] - 19s 613ms/step - loss: 0.0310 - accuracy: 0.9940\n",
      "Epoch 55/59\n",
      "30/30 [==============================] - 20s 662ms/step - loss: 0.0520 - accuracy: 0.9819\n",
      "Epoch 56/59\n",
      "30/30 [==============================] - 19s 640ms/step - loss: 0.0342 - accuracy: 0.9912\n",
      "Epoch 57/59\n",
      "30/30 [==============================] - 18s 607ms/step - loss: 0.0322 - accuracy: 0.9951\n",
      "Epoch 58/59\n",
      "30/30 [==============================] - 20s 679ms/step - loss: 0.0296 - accuracy: 0.9918\n",
      "Epoch 59/59\n",
      "30/30 [==============================] - 18s 597ms/step - loss: 0.0296 - accuracy: 0.9934\n"
     ]
    },
    {
     "data": {
      "text/plain": [
       "<keras.callbacks.History at 0x7fc7586c31f0>"
      ]
     },
     "execution_count": 14,
     "metadata": {},
     "output_type": "execute_result"
    }
   ],
   "source": [
    "cnn.fit(X_train, y_train, epochs=best_params['epochs'], \n",
    "                        batch_size=best_params['batch_size'])"
   ]
  },
  {
   "cell_type": "code",
   "execution_count": 15,
   "metadata": {
    "ExecuteTime": {
     "end_time": "2023-06-30T15:22:07.136029Z",
     "start_time": "2023-06-30T15:22:06.601576Z"
    }
   },
   "outputs": [
    {
     "name": "stdout",
     "output_type": "stream",
     "text": [
      "20/20 [==============================] - 2s 78ms/step\n",
      "Cohen k 0.9230769230769231\n",
      "Accuracy 0.9615384615384616\n",
      "F1-score [0.96202532 0.96103896]\n",
      "              precision    recall  f1-score   support\n",
      "\n",
      "           0       0.95      0.97      0.96       312\n",
      "           1       0.97      0.95      0.96       312\n",
      "\n",
      "    accuracy                           0.96       624\n",
      "   macro avg       0.96      0.96      0.96       624\n",
      "weighted avg       0.96      0.96      0.96       624\n",
      "\n"
     ]
    }
   ],
   "source": [
    "from sklearn.metrics import f1_score, classification_report, cohen_kappa_score\n",
    "\n",
    "predictions = cnn.predict(X_test)\n",
    "y_pred = np.argmax(predictions, axis=1)\n",
    "\n",
    "print(f'Cohen k {cohen_kappa_score(y_test, y_pred)}')\n",
    "print('Accuracy %s' % accuracy_score(y_test, y_pred))\n",
    "print('F1-score %s' % f1_score(y_test, y_pred, average=None))\n",
    "print(classification_report(y_test, y_pred))"
   ]
  },
  {
   "cell_type": "markdown",
   "metadata": {},
   "source": [
    "# LIME"
   ]
  },
  {
   "cell_type": "code",
   "execution_count": 16,
   "metadata": {
    "ExecuteTime": {
     "end_time": "2023-06-30T15:22:10.460254Z",
     "start_time": "2023-06-30T15:22:07.138271Z"
    }
   },
   "outputs": [
    {
     "data": {
      "application/vnd.jupyter.widget-view+json": {
       "model_id": "c0188de9643a4d37bd004c5f2fed7a5f",
       "version_major": 2,
       "version_minor": 0
      },
      "text/plain": [
       "  0%|          | 0/1000 [00:00<?, ?it/s]"
      ]
     },
     "metadata": {},
     "output_type": "display_data"
    },
    {
     "name": "stdout",
     "output_type": "stream",
     "text": [
      "1/1 [==============================] - 0s 48ms/step\n",
      "1/1 [==============================] - 0s 49ms/step\n",
      "1/1 [==============================] - 0s 52ms/step\n",
      "1/1 [==============================] - 0s 48ms/step\n",
      "1/1 [==============================] - 0s 47ms/step\n",
      "1/1 [==============================] - 0s 49ms/step\n",
      "1/1 [==============================] - 0s 50ms/step\n",
      "1/1 [==============================] - 0s 79ms/step\n",
      "1/1 [==============================] - 0s 82ms/step\n",
      "1/1 [==============================] - 0s 57ms/step\n",
      "1/1 [==============================] - 0s 48ms/step\n",
      "1/1 [==============================] - 0s 48ms/step\n",
      "1/1 [==============================] - 0s 49ms/step\n",
      "1/1 [==============================] - 0s 53ms/step\n",
      "1/1 [==============================] - 0s 50ms/step\n",
      "1/1 [==============================] - 0s 51ms/step\n",
      "1/1 [==============================] - 0s 53ms/step\n",
      "1/1 [==============================] - 0s 53ms/step\n",
      "1/1 [==============================] - 0s 53ms/step\n",
      "1/1 [==============================] - 0s 55ms/step\n",
      "1/1 [==============================] - 0s 53ms/step\n",
      "1/1 [==============================] - 0s 52ms/step\n",
      "1/1 [==============================] - 0s 52ms/step\n",
      "1/1 [==============================] - 0s 55ms/step\n",
      "1/1 [==============================] - 0s 54ms/step\n",
      "1/1 [==============================] - 0s 52ms/step\n",
      "1/1 [==============================] - 0s 49ms/step\n",
      "1/1 [==============================] - 0s 49ms/step\n",
      "1/1 [==============================] - 0s 49ms/step\n",
      "1/1 [==============================] - 0s 54ms/step\n",
      "1/1 [==============================] - 0s 48ms/step\n",
      "1/1 [==============================] - 0s 50ms/step\n",
      "1/1 [==============================] - 0s 49ms/step\n",
      "1/1 [==============================] - 0s 49ms/step\n",
      "1/1 [==============================] - 0s 48ms/step\n",
      "1/1 [==============================] - 0s 48ms/step\n",
      "1/1 [==============================] - 0s 48ms/step\n",
      "1/1 [==============================] - 0s 48ms/step\n",
      "1/1 [==============================] - 0s 47ms/step\n",
      "1/1 [==============================] - 0s 58ms/step\n",
      "1/1 [==============================] - 0s 63ms/step\n",
      "1/1 [==============================] - 0s 54ms/step\n",
      "1/1 [==============================] - 0s 56ms/step\n",
      "1/1 [==============================] - 0s 51ms/step\n",
      "1/1 [==============================] - 0s 56ms/step\n",
      "1/1 [==============================] - 0s 56ms/step\n",
      "1/1 [==============================] - 0s 54ms/step\n",
      "1/1 [==============================] - 0s 49ms/step\n",
      "1/1 [==============================] - 0s 49ms/step\n",
      "1/1 [==============================] - 0s 52ms/step\n",
      "1/1 [==============================] - 0s 61ms/step\n",
      "1/1 [==============================] - 0s 54ms/step\n",
      "1/1 [==============================] - 0s 52ms/step\n",
      "1/1 [==============================] - 0s 48ms/step\n",
      "1/1 [==============================] - 0s 48ms/step\n",
      "1/1 [==============================] - 0s 66ms/step\n",
      "1/1 [==============================] - 0s 73ms/step\n",
      "1/1 [==============================] - 0s 69ms/step\n",
      "1/1 [==============================] - 0s 48ms/step\n",
      "1/1 [==============================] - 0s 53ms/step\n",
      "1/1 [==============================] - 0s 52ms/step\n",
      "1/1 [==============================] - 0s 59ms/step\n",
      "1/1 [==============================] - 0s 53ms/step\n",
      "1/1 [==============================] - 0s 52ms/step\n",
      "1/1 [==============================] - 0s 52ms/step\n",
      "1/1 [==============================] - 0s 52ms/step\n",
      "1/1 [==============================] - 0s 51ms/step\n",
      "1/1 [==============================] - 0s 50ms/step\n",
      "1/1 [==============================] - 0s 51ms/step\n",
      "1/1 [==============================] - 0s 50ms/step\n",
      "1/1 [==============================] - 0s 57ms/step\n",
      "1/1 [==============================] - 0s 50ms/step\n",
      "1/1 [==============================] - 0s 60ms/step\n",
      "1/1 [==============================] - 0s 56ms/step\n",
      "1/1 [==============================] - 0s 63ms/step\n",
      "1/1 [==============================] - 0s 52ms/step\n",
      "1/1 [==============================] - 0s 52ms/step\n",
      "1/1 [==============================] - 0s 53ms/step\n",
      "1/1 [==============================] - 0s 57ms/step\n",
      "1/1 [==============================] - 0s 50ms/step\n",
      "1/1 [==============================] - 0s 51ms/step\n",
      "1/1 [==============================] - 0s 49ms/step\n",
      "1/1 [==============================] - 0s 48ms/step\n",
      "1/1 [==============================] - 0s 50ms/step\n",
      "1/1 [==============================] - 0s 56ms/step\n",
      "1/1 [==============================] - 0s 52ms/step\n",
      "1/1 [==============================] - 0s 53ms/step\n",
      "1/1 [==============================] - 0s 51ms/step\n",
      "1/1 [==============================] - 0s 53ms/step\n",
      "1/1 [==============================] - 0s 69ms/step\n",
      "1/1 [==============================] - 0s 66ms/step\n",
      "1/1 [==============================] - 0s 74ms/step\n",
      "1/1 [==============================] - 0s 52ms/step\n",
      "1/1 [==============================] - 0s 52ms/step\n",
      "1/1 [==============================] - 0s 49ms/step\n",
      "1/1 [==============================] - 0s 49ms/step\n",
      "1/1 [==============================] - 0s 49ms/step\n",
      "1/1 [==============================] - 0s 49ms/step\n",
      "1/1 [==============================] - 0s 48ms/step\n",
      "1/1 [==============================] - 0s 51ms/step\n"
     ]
    }
   ],
   "source": [
    "import lime\n",
    "from lime import lime_image\n",
    "from skimage.segmentation import mark_boundaries\n",
    "\n",
    "explainer = lime_image.LimeImageExplainer(random_state=42)\n",
    "\n",
    "index = 10\n",
    "\n",
    "explanation = explainer.explain_instance(X_test[index], cnn.predict, \n",
    "                                         top_labels=2)\n",
    "\n",
    "image, mask = explanation.get_image_and_mask(\n",
    "    cnn.predict(X_train[index].reshape((1, 27, 27, 3)), verbose=False).argmax(axis=1)[0],\n",
    "    positive_only=True,\n",
    "    hide_rest=True\n",
    ")\n",
    "\n",
    "marked_image = mark_boundaries(image, mask)"
   ]
  },
  {
   "cell_type": "code",
   "execution_count": 17,
   "metadata": {
    "ExecuteTime": {
     "end_time": "2023-06-30T15:22:10.802123Z",
     "start_time": "2023-06-30T15:22:10.462427Z"
    }
   },
   "outputs": [
    {
     "data": {
      "image/png": "[encoded data removed]",
      "text/plain": [
       "<Figure size 354.331x236.22 with 2 Axes>"
      ]
     },
     "metadata": {},
     "output_type": "display_data"
    }
   ],
   "source": [
    "plt.subplot(1, 2, 1)\n",
    "plt.imshow(X_test[index], cmap='gray')\n",
    "plt.title('Original Image')\n",
    "plt.grid(ls=\"\")\n",
    "plt.axis(\"off\")\n",
    "\n",
    "plt.subplot(1, 2, 2)\n",
    "plt.imshow(marked_image)\n",
    "plt.title('LIME Explanation')\n",
    "plt.grid(ls=\"\")\n",
    "plt.axis(\"off\")\n",
    "plt.show()"
   ]
  },
  {
   "cell_type": "markdown",
   "metadata": {},
   "source": [
    "# Another try"
   ]
  },
  {
   "cell_type": "code",
   "execution_count": 18,
   "metadata": {
    "ExecuteTime": {
     "end_time": "2023-06-30T15:22:10.808292Z",
     "start_time": "2023-06-30T15:22:10.800154Z"
    }
   },
   "outputs": [
    {
     "data": {
      "text/plain": [
       "(2452, 27, 27)"
      ]
     },
     "execution_count": 18,
     "metadata": {},
     "output_type": "execute_result"
    }
   ],
   "source": [
    "traces.shape"
   ]
  },
  {
   "cell_type": "code",
   "execution_count": 19,
   "metadata": {
    "ExecuteTime": {
     "end_time": "2023-06-30T15:22:10.819795Z",
     "start_time": "2023-06-30T15:22:10.805682Z"
    }
   },
   "outputs": [
    {
     "data": {
      "text/plain": [
       "array([[-1.10747149e+00, -9.76177035e-01, -6.08460515e-01,\n",
       "        -1.13786894e+00,  1.84289971e+00,  3.44587664e+00,\n",
       "         2.65939916e+00,  5.47188353e-01, -3.32626453e+00,\n",
       "        -3.03262454e+00, -4.94649767e+00, -4.32063633e+00,\n",
       "        -4.20649036e+00, -3.96462115e+00, -6.25311520e+00,\n",
       "        -5.91895222e+00, -5.12201082e+00, -5.21164184e+00,\n",
       "        -2.75990531e+00, -2.34181317e+00, -3.59154955e+00,\n",
       "        -3.44594654e+00, -2.98500500e+00, -3.76033361e+00,\n",
       "        -2.96828048e+00, -4.09263893e+00, -4.62753109e+00],\n",
       "       [-1.71513247e+00,  2.76870757e-01,  5.02673772e-01,\n",
       "        -5.63972742e-01, -3.58741290e+00,  1.15608510e+00,\n",
       "         1.07273519e-02, -3.35303187e+00, -6.98741027e+00,\n",
       "        -2.80445313e+00, -3.10927845e+00, -7.71365189e+00,\n",
       "        -6.59095332e+00, -8.31020271e+00, -5.46714411e+00,\n",
       "        -5.05373524e+00, -7.40379714e+00, -5.97780010e+00,\n",
       "        -7.17091418e+00, -6.05370162e+00, -4.24036779e+00,\n",
       "        -4.26558252e+00, -3.98767822e+00, -4.62873077e+00,\n",
       "        -4.63013794e+00, -5.74555753e+00, -5.37554136e+00],\n",
       "       [-3.57340298e+00, -7.72493755e-01, -1.28029229e+00,\n",
       "        -2.35012842e+00, -2.99826031e-01,  7.74023391e-01,\n",
       "         6.18980229e-01, -1.31882645e+00, -2.20796768e+00,\n",
       "        -4.33326739e+00, -4.82380109e+00, -5.93359368e+00,\n",
       "        -6.10273320e+00, -4.82830595e+00, -5.84083650e+00,\n",
       "        -3.81162636e+00, -3.77561705e+00, -4.41483350e+00,\n",
       "        -4.58608745e+00, -5.41184100e+00, -9.32524139e+00,\n",
       "        -5.42179426e+00, -5.67478701e+00, -5.43475190e+00,\n",
       "        -4.52111422e+00, -2.94413640e+00, -4.39698024e+00],\n",
       "       [ 1.66430964e+00,  5.18405908e+00,  6.51152575e+00,\n",
       "         5.44733034e+00,  3.05469573e+00,  3.91863212e+00,\n",
       "         2.23998709e+00,  1.74392994e+00,  4.93003062e-01,\n",
       "        -1.53001229e+00, -1.60591824e+00, -3.35614164e+00,\n",
       "        -3.74729821e+00, -2.84149246e+00, -4.73360442e+00,\n",
       "        -6.09091355e+00, -2.76819765e+00, -2.97449846e+00,\n",
       "        -3.67530357e+00, -2.00783333e+00, -2.09669697e+00,\n",
       "        -2.34787026e+00, -2.63747027e+00, -1.43136490e+00,\n",
       "        -1.21752921e+00, -1.29307742e+00, -1.53572401e+00],\n",
       "       [-2.72369041e+00,  6.06684053e+00,  7.29958460e+00,\n",
       "         5.58573284e+00,  6.67434726e+00,  6.36474666e+00,\n",
       "         7.12825224e+00,  4.29903006e+00,  9.86560456e-01,\n",
       "         8.42470138e-01,  1.17037604e+00, -4.57084370e+00,\n",
       "        -3.54580830e+00, -1.71797065e+00, -1.77683333e+00,\n",
       "        -2.44048349e+00, -2.35689364e+00, -6.51980180e-01,\n",
       "        -2.66971810e+00, -8.04747245e-01, -2.80051378e+00,\n",
       "         2.36916617e-01, -1.13531918e+00,  2.57976545e-01,\n",
       "         1.28660131e+00,  2.20236432e+00, -1.01492977e+00],\n",
       "       [ 3.13035393e-01,  6.01404358e+00,  7.18507217e+00,\n",
       "         4.52567544e+00,  7.23128124e+00,  7.45518221e+00,\n",
       "         7.78292337e+00,  4.79923721e+00, -1.84398628e-01,\n",
       "         1.20854751e+00,  2.11737559e+00, -4.53698305e-01,\n",
       "        -1.30347457e+00, -4.82677144e+00, -1.01952109e+00,\n",
       "        -1.01536172e+00, -1.22848837e+00, -2.15545648e-01,\n",
       "        -9.68553311e-01, -2.82792628e-01, -7.73224822e-01,\n",
       "         3.35567296e-01,  7.51332045e-02,  1.66702374e+00,\n",
       "         1.49581930e+00,  2.62089763e+00, -2.59073545e+00],\n",
       "       [ 1.57181034e+00,  5.92078598e+00,  7.24140964e+00,\n",
       "         4.68222000e+00,  7.00117612e+00,  7.86312771e+00,\n",
       "         7.90181704e+00,  4.67390240e+00,  1.01128306e+00,\n",
       "         2.05583903e+00,  1.24325476e+00, -4.37961786e-01,\n",
       "        -3.07530072e+00, -7.12016970e-01, -3.87057195e+00,\n",
       "        -3.47910897e+00, -1.48442767e+00,  9.35866547e-01,\n",
       "        -1.74890415e+00, -1.45754706e+00,  2.67962156e-01,\n",
       "         7.31605962e-01,  9.78676164e-01,  1.76168023e+00,\n",
       "         2.91991024e+00,  2.51001826e+00, -1.51697258e+00],\n",
       "       [-1.53722705e+00,  5.88277588e+00,  7.03122256e+00,\n",
       "         6.64527043e+00,  6.91386052e+00,  7.54014438e+00,\n",
       "         7.20088744e+00,  3.38138849e+00,  1.13559340e+00,\n",
       "         1.63525367e+00, -1.79673445e-01, -1.61364501e+00,\n",
       "        -6.75067878e-01, -2.90764038e+00, -2.79085157e+00,\n",
       "        -1.68229332e+00, -1.54071035e+00,  8.55177115e-03,\n",
       "        -1.15533943e+00, -1.69879636e+00,  6.02841833e-01,\n",
       "         8.84869805e-01,  2.17894224e+00,  2.63115678e+00,\n",
       "         3.15436735e+00,  1.56896407e+00, -2.27819612e+00],\n",
       "       [-1.82677662e+00,  5.33289553e+00,  6.72157138e+00,\n",
       "         7.10939651e+00,  6.41623159e+00,  6.52630905e+00,\n",
       "         5.73824115e+00,  2.55023251e+00,  1.19231398e+00,\n",
       "         4.22089707e-01, -3.54421506e-01, -2.12155024e+00,\n",
       "        -2.97832724e+00, -3.45620280e+00, -6.97243394e+00,\n",
       "        -1.27200262e+00, -3.16933678e+00, -1.62794439e+00,\n",
       "        -2.60600449e+00, -3.68793390e-01, -7.00564189e-01,\n",
       "         7.57770879e-01,  1.17405400e+00,  1.09305837e+00,\n",
       "         7.14218286e-01, -1.60071918e+00, -2.28360922e+00],\n",
       "       [ 4.27713335e-01,  4.47395645e+00,  4.48566857e+00,\n",
       "         6.71869746e+00,  6.23442826e+00,  4.71711721e+00,\n",
       "         4.64692315e+00,  1.28752631e+00, -1.06753469e+00,\n",
       "        -3.83406100e-01, -1.99133792e+00, -1.85606396e+00,\n",
       "        -1.89847342e+00, -3.71614386e+00, -4.11054676e+00,\n",
       "        -4.69002502e+00, -3.27662576e+00, -3.18977025e+00,\n",
       "        -4.21500532e+00, -4.84037736e+00, -1.91401412e+00,\n",
       "        -1.83598672e+00, -9.06101458e-01, -1.38238803e+00,\n",
       "        -5.25571490e-01, -1.14646585e+00, -4.01192818e+00],\n",
       "       [ 6.45274789e-01,  4.35102091e+00,  4.80491684e+00,\n",
       "        -3.46863654e+00,  3.73638815e+00,  4.26570182e+00,\n",
       "         4.27748354e+00,  5.32473271e-01,  5.36237230e-01,\n",
       "        -1.44244433e+00, -3.41362113e+00, -3.02336389e+00,\n",
       "        -4.64201581e+00, -5.00303051e+00, -6.06161120e+00,\n",
       "        -6.44525241e+00, -4.82054985e+00, -4.16632045e+00,\n",
       "        -3.37539203e+00, -7.08861465e+00, -3.15632894e+00,\n",
       "        -1.10432254e+00, -4.96098727e-01, -1.13881881e+00,\n",
       "        -1.24744141e+00, -2.70931349e+00, -3.37943960e+00],\n",
       "       [ 1.66507212e+00,  3.50137183e+00,  3.43999337e+00,\n",
       "         4.60594554e+00,  4.34535117e+00,  3.62506272e+00,\n",
       "         3.87154708e+00,  3.44220812e-01, -3.69285882e+00,\n",
       "        -1.47093279e+00, -3.07131404e+00, -3.93266646e+00,\n",
       "        -4.87279613e+00, -7.87174383e+00, -5.53806224e+00,\n",
       "        -7.38282428e+00, -5.96347938e+00, -4.53453756e+00,\n",
       "        -5.44281215e+00, -3.79918062e+00, -3.54888594e+00,\n",
       "        -8.95380604e+00, -6.00583195e+00, -4.00851460e+00,\n",
       "        -2.14189857e+00, -2.94541289e+00, -5.09472585e+00],\n",
       "       [ 1.25390712e+00,  3.41819684e+00,  3.94734428e+00,\n",
       "         4.10791543e+00,  3.52509667e+00,  1.08887699e+00,\n",
       "         7.80472722e-01, -3.31533434e+00, -1.39749620e+00,\n",
       "        -3.08387295e+00, -3.75233874e+00, -5.07763621e+00,\n",
       "        -6.06823071e+00, -5.33298986e+00, -1.08754356e+01,\n",
       "        -6.58989057e+00, -4.90086123e+00, -4.80451651e+00,\n",
       "        -5.47331991e+00, -4.96240066e+00, -5.36188213e+00,\n",
       "        -4.20968862e+00, -4.08891936e+00, -3.37371204e+00,\n",
       "        -3.95937863e+00, -4.51988642e+00, -4.98336430e+00],\n",
       "       [-9.92393961e-02,  2.54751196e+00,  2.14121305e+00,\n",
       "         2.29865863e+00, -6.97676511e-01,  2.26958847e+00,\n",
       "         6.39379599e-01, -3.83810671e+00, -3.88113015e+00,\n",
       "        -5.06717068e+00, -6.36630808e+00, -6.34893797e+00,\n",
       "        -5.16757348e+00, -5.68271287e+00, -8.32526735e+00,\n",
       "        -5.59977236e+00, -4.28922044e+00, -5.01869090e+00,\n",
       "        -5.54432773e+00, -4.94482755e+00, -4.98820495e+00,\n",
       "        -4.26517932e+00, -5.35810269e+00, -3.02301530e+00,\n",
       "        -2.07379989e+00, -3.89243679e+00, -5.73501137e+00],\n",
       "       [-6.15948829e-02,  3.15855640e+00,  2.88067605e+00,\n",
       "         1.51811776e+00,  1.06876103e+00,  1.05578817e+00,\n",
       "         1.48140774e+00,  1.18171125e+00,  1.00490237e+00,\n",
       "         9.74008321e-01,  9.39894476e-01,  4.68476327e-01,\n",
       "        -2.95486094e-01, -1.07215651e+00, -1.46441709e+00,\n",
       "        -2.00721883e+00, -3.64433387e+00, -2.01216839e+00,\n",
       "        -1.22507093e+00, -2.58966137e+00, -4.61663421e+00,\n",
       "        -3.05287469e+00, -3.03824226e+00, -2.67784259e+00,\n",
       "        -2.68908801e+00, -2.62526771e+00, -2.49895930e+00],\n",
       "       [ 7.28861049e-01,  4.36448786e+00,  5.01940453e+00,\n",
       "         2.29177390e+00,  2.06858222e+00,  1.25221919e+00,\n",
       "         1.29573844e+00,  1.69566131e+00,  8.83544813e-01,\n",
       "         1.21632715e+00,  1.69356906e+00,  4.51162968e-01,\n",
       "        -1.46522555e+00, -1.48141267e+00, -5.40255025e-01,\n",
       "         1.49157725e-01, -2.07778080e+00, -3.17558791e+00,\n",
       "        -1.79579419e+00, -1.94418833e+00, -3.36525229e+00,\n",
       "        -3.99675507e+00, -6.85439509e+00, -8.01816079e+00,\n",
       "        -9.45467677e+00, -9.63693321e+00, -5.65374343e+00],\n",
       "       [ 1.22719816e-01,  5.40302038e+00,  6.12906395e+00,\n",
       "         2.92619431e+00,  3.02872698e+00,  3.94249174e+00,\n",
       "         3.24969798e+00,  4.51946517e+00,  2.57819158e+00,\n",
       "         3.18605005e+00,  2.45699923e+00,  2.36241107e+00,\n",
       "         9.09825393e-01,  8.95780990e-01,  1.76080853e+00,\n",
       "        -1.00354902e-01,  5.40067606e-01, -3.16921406e-01,\n",
       "         2.61498538e-01, -1.97054748e+00, -2.35032387e+00,\n",
       "        -2.76420118e+00, -5.06751596e+00, -7.31512772e+00,\n",
       "        -4.44596503e+00, -4.28017824e+00, -4.61895800e+00],\n",
       "       [ 2.84311430e-02,  5.13590212e+00,  5.55833596e+00,\n",
       "         5.03441333e+00,  5.16297127e+00,  4.82551684e+00,\n",
       "         5.27547698e+00,  6.62714245e+00,  6.80077189e+00,\n",
       "         6.19148160e+00,  1.86297110e+00,  2.53536700e+00,\n",
       "         3.62488945e+00,  3.01783266e+00,  4.16741741e+00,\n",
       "         3.75739355e+00,  2.74549336e+00, -5.83189927e+00,\n",
       "         5.41982266e-01,  4.06447546e-01, -8.93171826e+00,\n",
       "        -1.53051843e+00, -1.65095890e+00, -3.45151305e+00,\n",
       "        -2.45101638e+00, -2.99088505e+00, -4.46219689e+00],\n",
       "       [ 8.85374285e-01,  4.93418693e+00,  5.97088862e+00,\n",
       "         6.17269493e+00,  5.83768826e+00,  5.04549694e+00,\n",
       "         6.17690224e+00,  6.63793278e+00,  6.41001476e+00,\n",
       "         6.92509490e+00,  4.13748127e+00,  1.65341239e+00,\n",
       "         2.35162305e+00,  3.73980284e+00,  3.25909141e+00,\n",
       "         2.96420524e+00,  3.13723462e+00,  1.42027819e+00,\n",
       "        -5.10560481e-01, -8.08483469e-02, -1.55809156e+00,\n",
       "        -5.52557815e-01, -6.16626931e+00, -1.20387537e+00,\n",
       "        -4.06052811e+00, -1.76005858e+00, -4.69095226e+00],\n",
       "       [-4.73785504e+00,  4.97489970e+00,  5.72549659e+00,\n",
       "         5.82891447e+00,  4.85155381e+00,  4.10492899e+00,\n",
       "         4.98588638e+00,  5.64887303e+00,  5.74741768e+00,\n",
       "         6.04014128e+00,  1.65457879e+00,  1.39154106e+00,\n",
       "         2.72326149e+00,  2.93734822e+00,  3.95620456e+00,\n",
       "         3.82356217e+00,  2.72001863e+00,  1.34847506e+00,\n",
       "        -1.74979101e+00, -4.75097849e-01, -1.47075885e+00,\n",
       "        -2.44122672e+00, -2.13182444e+00, -3.17224018e+00,\n",
       "        -3.41515205e+00, -3.41330429e+00, -3.57199361e+00],\n",
       "       [ 1.68297040e+00,  5.14011492e+00,  5.50020710e+00,\n",
       "         4.67034902e+00,  4.64019998e+00,  4.39993230e+00,\n",
       "         4.78749109e+00,  5.91285783e+00,  6.01790092e+00,\n",
       "         5.11401503e+00,  1.35000035e+00,  1.58900374e+00,\n",
       "         2.35948052e+00,  2.32159559e+00,  4.06090589e+00,\n",
       "         5.07011571e+00,  3.71232107e+00,  8.95270212e-02,\n",
       "         7.69675470e-01, -7.42949404e-02, -1.15587966e+00,\n",
       "        -1.43559450e+00, -2.00183405e+00, -3.32119043e+00,\n",
       "        -3.05682547e+00, -5.67892538e+00, -4.83476656e+00],\n",
       "       [ 2.15189744e+00,  5.30342322e+00,  6.12762866e+00,\n",
       "         5.87849673e+00,  5.44316461e+00,  4.98995222e+00,\n",
       "         5.79095425e+00,  4.68032508e+00,  5.76386470e+00,\n",
       "         3.80301773e+00,  3.19184046e+00,  2.88414897e+00,\n",
       "         3.01564658e+00,  2.70737764e+00,  4.96663323e+00,\n",
       "         5.20719775e+00,  1.08737163e+00,  2.74662093e+00,\n",
       "         1.83566994e+00,  6.02400151e-01, -1.61378070e-01,\n",
       "        -5.63019186e-01, -1.68955952e+00, -2.46222840e+00,\n",
       "        -2.84801862e+00, -2.52795809e+00, -3.30339891e+00],\n",
       "       [ 1.86928776e+00,  5.29942139e+00,  4.85044515e+00,\n",
       "         3.87631830e+00,  3.38172254e+00,  6.54657602e-01,\n",
       "         4.46371075e+00,  4.35212394e+00,  4.82467496e+00,\n",
       "         3.72654613e+00,  1.34064941e+00,  7.21372707e-01,\n",
       "         1.23582361e-01,  1.19005662e+00,  3.12645913e+00,\n",
       "         4.16317688e+00,  3.02449728e+00, -2.51737027e+00,\n",
       "         1.01171782e+00, -2.97072924e+00, -4.02752731e+00,\n",
       "        -3.20144811e+00, -2.58441520e+00, -6.56375989e+00,\n",
       "        -3.43986326e+00, -4.66296809e+00, -5.09427955e+00],\n",
       "       [ 2.52647690e+00,  4.35594780e+00,  4.36828647e+00,\n",
       "         3.82130746e+00,  3.86323853e+00,  2.91841707e+00,\n",
       "         4.15763287e+00,  4.19662724e+00,  3.23039697e+00,\n",
       "         1.96773576e+00, -1.11119118e+00,  6.50455362e-01,\n",
       "        -3.38222533e-01,  8.71788680e-02, -1.29787892e+00,\n",
       "         1.77647075e+00,  1.61079364e+00,  2.12849894e+00,\n",
       "        -3.09880970e-01, -3.71129288e+00, -3.04697139e+00,\n",
       "        -3.76853322e+00, -3.31295739e+00, -4.99266440e+00,\n",
       "        -5.83878684e+00, -6.08601509e+00, -9.49851089e+00],\n",
       "       [-5.19948408e+00,  3.44166846e+00,  3.29583055e+00,\n",
       "         2.16338397e+00, -1.52779697e+00,  1.95903952e+00,\n",
       "         8.97190933e-01,  1.78266384e+00,  3.68797262e-01,\n",
       "        -2.18441485e+00, -9.40769417e-01, -6.53206517e-01,\n",
       "        -1.91162058e+00, -5.06919841e-01,  4.39196830e-01,\n",
       "         9.01122682e-01, -2.55238273e-01, -1.87575274e+00,\n",
       "        -9.17776873e-01, -8.67307535e-01, -2.54678020e+00,\n",
       "        -8.77586184e+00, -6.12876340e+00, -5.45212540e+00,\n",
       "        -7.35062662e+00, -6.82925689e+00, -6.70243275e+00],\n",
       "       [-1.51982871e+00,  1.09495341e+00,  1.92227177e+00,\n",
       "         8.24110475e-01,  1.04276991e+00, -9.03647985e-01,\n",
       "        -2.12346546e-01,  5.25977035e-01,  3.48692447e-01,\n",
       "        -2.51151366e-01, -2.63228020e+00, -2.25131571e-01,\n",
       "        -1.58136384e+00, -6.11552641e+00, -3.05144480e+00,\n",
       "         5.60887604e-02, -1.48985201e+00, -3.54397835e+00,\n",
       "        -2.39888504e+00, -4.00937224e+00, -2.69879657e+00,\n",
       "        -2.21417922e+00, -3.09101876e+00, -4.52710636e+00,\n",
       "        -6.21119579e+00, -5.87432141e+00, -5.96493419e+00],\n",
       "       [ 8.06182363e-01,  2.44447952e+00,  1.60928003e+00,\n",
       "         2.32927067e+00,  1.04188173e+00,  9.33640687e-04,\n",
       "        -5.80482675e-01,  2.63691926e-01,  1.22543556e+00,\n",
       "         3.54432882e-01, -4.70616267e+00, -4.27070321e+00,\n",
       "        -3.85864284e+00, -2.51807606e+00, -2.27814450e+00,\n",
       "        -2.83802243e+00, -1.93870103e+00, -3.94899716e+00,\n",
       "        -3.19362692e+00, -3.59648188e+00, -5.43462507e+00,\n",
       "        -4.61659164e+00, -3.72921652e+00, -5.91000708e+00,\n",
       "        -4.34356478e+00, -4.79592291e+00, -5.21560531e+00]])"
      ]
     },
     "execution_count": 19,
     "metadata": {},
     "output_type": "execute_result"
    }
   ],
   "source": [
    "# sort by actors\n",
    "#sorted_indices = df['actor'].argsort()\n",
    "#df = df.iloc[sorted_indices].reset_index(drop=True)\n",
    "\n",
    "traces = traces[sorted_indices]\n",
    "\n",
    "traces[0]"
   ]
  },
  {
   "cell_type": "code",
   "execution_count": 20,
   "metadata": {
    "ExecuteTime": {
     "end_time": "2023-06-30T15:22:10.860408Z",
     "start_time": "2023-06-30T15:22:10.823566Z"
    }
   },
   "outputs": [
    {
     "data": {
      "text/plain": [
       "((1462, 27, 27, 1),\n",
       " (366, 27, 27, 1),\n",
       " (624, 27, 27, 1),\n",
       " (1462,),\n",
       " (366,),\n",
       " (624,))"
      ]
     },
     "execution_count": 20,
     "metadata": {},
     "output_type": "execute_result"
    }
   ],
   "source": [
    "from sklearn.model_selection import train_test_split\n",
    "\n",
    "split_index = df[df['actor'] == 'actor_19'].index[0]\n",
    "\n",
    "X_train = traces[:split_index]\n",
    "X_test = traces[split_index:]\n",
    "\n",
    "X_train, X_test = X_train.reshape(-1, 27, 27, 1), X_test.reshape(-1, 27, 27, 1)\n",
    "X_train, X_test = X_train / 255.0, X_test / 255.0\n",
    "\n",
    "y_train = df[TARGET][:split_index].to_numpy()\n",
    "y_test = df[TARGET][split_index:].to_numpy()\n",
    "\n",
    "X_train_v, X_valid, y_train_v, y_valid = train_test_split(X_train, y_train, test_size=0.2, random_state=100)\n",
    "\n",
    "X_train_v.shape, X_valid.shape, X_test.shape, y_train_v.shape, y_valid.shape, y_test.shape"
   ]
  },
  {
   "cell_type": "markdown",
   "metadata": {},
   "source": [
    "# CNN again"
   ]
  },
  {
   "cell_type": "code",
   "execution_count": 21,
   "metadata": {
    "ExecuteTime": {
     "end_time": "2023-06-30T15:22:10.860513Z",
     "start_time": "2023-06-30T15:22:10.835998Z"
    }
   },
   "outputs": [],
   "source": [
    "from sklearn.preprocessing import LabelEncoder\n",
    "\n",
    "label_encoder = LabelEncoder()\n",
    "\n",
    "y_train = label_encoder.fit_transform(y_train)\n",
    "y_train_v = label_encoder.fit_transform(y_train_v)\n",
    "y_valid = label_encoder.transform(y_valid)\n",
    "y_test = label_encoder.transform(y_test)"
   ]
  },
  {
   "cell_type": "code",
   "execution_count": 22,
   "metadata": {
    "ExecuteTime": {
     "end_time": "2023-06-30T15:22:10.860678Z",
     "start_time": "2023-06-30T15:22:10.841233Z"
    }
   },
   "outputs": [],
   "source": [
    "from keras.layers import Conv2D, BatchNormalization, Activation, Dropout, GlobalAveragePooling2D, Dense\n",
    "from keras import Sequential\n",
    "\n",
    "\n",
    "def build_model(input_shape, n_categories,\n",
    "                n_conv=0, n_hidden=0, hidden_nodes=32,\n",
    "                dropout=0.01, filters=8, kernel_size=5, **kwargs):\n",
    "\n",
    "    model = Sequential()\n",
    "\n",
    "    model.add(Conv2D(filters=filters,\n",
    "                     kernel_size=(kernel_size, kernel_size),\n",
    "                     activation='relu',\n",
    "                     input_shape=input_shape,\n",
    "                     padding='same'\n",
    "                     ))\n",
    "\n",
    "    model.add(BatchNormalization())\n",
    "    model.add(Activation('relu'))\n",
    "\n",
    "    for _ in range(n_conv):\n",
    "        model.add(Conv2D(filters=filters, kernel_size=kernel_size, activation='relu', padding='same'))\n",
    "        model.add(BatchNormalization())\n",
    "        model.add(Activation('relu'))\n",
    "\n",
    "        model.add(Dropout(dropout))\n",
    "\n",
    "    model.add(GlobalAveragePooling2D())\n",
    "\n",
    "    for _ in range(n_hidden):\n",
    "        model.add(Dense(hidden_nodes, activation='relu'))\n",
    "\n",
    "    model.add(Dense(n_categories, activation='softmax'))\n",
    "    model.compile(loss='sparse_categorical_crossentropy', optimizer='adam', metrics=['accuracy'])\n",
    "\n",
    "    return model"
   ]
  },
  {
   "cell_type": "code",
   "execution_count": 23,
   "metadata": {
    "ExecuteTime": {
     "end_time": "2023-06-30T15:22:10.860719Z",
     "start_time": "2023-06-30T15:22:10.844921Z"
    }
   },
   "outputs": [],
   "source": [
    "import optuna\n",
    "from sklearn.metrics import accuracy_score\n",
    "\n",
    "# objective function to be minimized\n",
    "def objective_fun(trial):\n",
    "\n",
    "    n_conv = trial.suggest_int('n_conv', 0, 3)\n",
    "    n_hidden = trial.suggest_int('n_hidden', 0, 3)\n",
    "    hidden_nodes = trial.suggest_int('hidden_nodes', 8, 256)\n",
    "    dropout = trial.suggest_float('dropout', 0, 0.3)\n",
    "    filters = trial.suggest_int('filters', 2, 16)\n",
    "    kernel_size = trial.suggest_int('kernel_size', 2, 16)\n",
    "    batch_size = trial.suggest_int('batch_size', 16, 64)\n",
    "    epochs = trial.suggest_int('epochs', 5, 90)\n",
    "\n",
    "    print(f'Running little bitch having n_conv={n_conv}, dropout={dropout}, hidden_nodes={hidden_nodes}')\n",
    "\n",
    "    cnn = build_model(X_train_v.shape[1:], len(np.unique(y_train_v)),\n",
    "                      n_hidden=n_hidden,\n",
    "                      hidden_nodes=hidden_nodes,\n",
    "                      n_conv=n_conv,\n",
    "                      dropout=dropout,\n",
    "                      filters=filters,\n",
    "                      kernel_size=kernel_size,\n",
    "                      )\n",
    "\n",
    "    cnn.fit(X_train_v, y_train_v, batch_size=batch_size, epochs=epochs, verbose=False)\n",
    "\n",
    "    y_pred = np.argmax(cnn.predict(X_valid), axis=1)\n",
    "\n",
    "    error = accuracy_score(y_valid, y_pred)\n",
    "\n",
    "    return error\n",
    "\n",
    "\n",
    "#study = optuna.create_study(direction='maximize')\n",
    "#study.optimize(objective_fun, n_trials=50, n_jobs=-1, catch=ValueError)"
   ]
  },
  {
   "cell_type": "code",
   "execution_count": 24,
   "metadata": {
    "ExecuteTime": {
     "end_time": "2023-06-30T15:22:10.860777Z",
     "start_time": "2023-06-30T15:22:10.849050Z"
    }
   },
   "outputs": [],
   "source": [
    "# best_params = study.best_params\n",
    "best_params = {'n_conv': 1, 'n_hidden': 0, 'hidden_nodes': 92, 'dropout': 0.054672637087387316, 'filters': 5, 'kernel_size': 14, 'batch_size': 64, 'epochs': 87}"
   ]
  },
  {
   "cell_type": "code",
   "execution_count": 25,
   "metadata": {
    "ExecuteTime": {
     "end_time": "2023-06-30T15:22:10.921535Z",
     "start_time": "2023-06-30T15:22:10.853121Z"
    }
   },
   "outputs": [
    {
     "name": "stdout",
     "output_type": "stream",
     "text": [
      "Model: \"sequential_1\"\n",
      "_________________________________________________________________\n",
      " Layer (type)                Output Shape              Param #   \n",
      "=================================================================\n",
      " conv2d_3 (Conv2D)           (None, 27, 27, 5)         985       \n",
      "                                                                 \n",
      " batch_normalization_3 (Batc  (None, 27, 27, 5)        20        \n",
      " hNormalization)                                                 \n",
      "                                                                 \n",
      " activation_3 (Activation)   (None, 27, 27, 5)         0         \n",
      "                                                                 \n",
      " conv2d_4 (Conv2D)           (None, 27, 27, 5)         4905      \n",
      "                                                                 \n",
      " batch_normalization_4 (Batc  (None, 27, 27, 5)        20        \n",
      " hNormalization)                                                 \n",
      "                                                                 \n",
      " activation_4 (Activation)   (None, 27, 27, 5)         0         \n",
      "                                                                 \n",
      " dropout_2 (Dropout)         (None, 27, 27, 5)         0         \n",
      "                                                                 \n",
      " global_average_pooling2d_1   (None, 5)                0         \n",
      " (GlobalAveragePooling2D)                                        \n",
      "                                                                 \n",
      " dense_1 (Dense)             (None, 2)                 12        \n",
      "                                                                 \n",
      "=================================================================\n",
      "Total params: 5,942\n",
      "Trainable params: 5,922\n",
      "Non-trainable params: 20\n",
      "_________________________________________________________________\n"
     ]
    }
   ],
   "source": [
    "cnn = build_model(X_train.shape[1:], 2, **best_params)\n",
    "cnn.summary()"
   ]
  },
  {
   "cell_type": "code",
   "execution_count": 26,
   "metadata": {
    "ExecuteTime": {
     "end_time": "2023-06-30T15:25:50.940641Z",
     "start_time": "2023-06-30T15:22:10.900262Z"
    }
   },
   "outputs": [
    {
     "name": "stdout",
     "output_type": "stream",
     "text": [
      "Epoch 1/87\n",
      "29/29 [==============================] - 12s 356ms/step - loss: 0.5871 - accuracy: 0.6920\n",
      "Epoch 2/87\n",
      "29/29 [==============================] - 10s 360ms/step - loss: 0.4949 - accuracy: 0.8359\n",
      "Epoch 3/87\n",
      "29/29 [==============================] - 11s 375ms/step - loss: 0.4426 - accuracy: 0.8900\n",
      "Epoch 4/87\n",
      "29/29 [==============================] - 11s 394ms/step - loss: 0.3970 - accuracy: 0.9196\n",
      "Epoch 5/87\n",
      "29/29 [==============================] - 11s 394ms/step - loss: 0.3527 - accuracy: 0.9311\n",
      "Epoch 6/87\n",
      "29/29 [==============================] - 13s 436ms/step - loss: 0.3183 - accuracy: 0.9398\n",
      "Epoch 7/87\n",
      "29/29 [==============================] - 12s 407ms/step - loss: 0.2907 - accuracy: 0.9475\n",
      "Epoch 8/87\n",
      "29/29 [==============================] - 15s 526ms/step - loss: 0.2571 - accuracy: 0.9590\n",
      "Epoch 9/87\n",
      "29/29 [==============================] - 11s 392ms/step - loss: 0.2355 - accuracy: 0.9579\n",
      "Epoch 10/87\n",
      "29/29 [==============================] - 11s 383ms/step - loss: 0.2141 - accuracy: 0.9639\n",
      "Epoch 11/87\n",
      "29/29 [==============================] - 12s 429ms/step - loss: 0.1916 - accuracy: 0.9644\n",
      "Epoch 12/87\n",
      "29/29 [==============================] - 11s 386ms/step - loss: 0.1748 - accuracy: 0.9705\n",
      "Epoch 13/87\n",
      "29/29 [==============================] - 10s 331ms/step - loss: 0.1668 - accuracy: 0.9677\n",
      "Epoch 14/87\n",
      "29/29 [==============================] - 10s 333ms/step - loss: 0.1499 - accuracy: 0.9737\n",
      "Epoch 15/87\n",
      "29/29 [==============================] - 9s 321ms/step - loss: 0.1443 - accuracy: 0.9721\n",
      "Epoch 16/87\n",
      "29/29 [==============================] - 9s 321ms/step - loss: 0.1361 - accuracy: 0.9721\n",
      "Epoch 17/87\n",
      "29/29 [==============================] - 11s 375ms/step - loss: 0.1286 - accuracy: 0.9732\n",
      "Epoch 18/87\n",
      "29/29 [==============================] - 10s 356ms/step - loss: 0.1150 - accuracy: 0.9792\n",
      "Epoch 19/87\n",
      "29/29 [==============================] - 10s 342ms/step - loss: 0.1103 - accuracy: 0.9798\n",
      "Epoch 20/87\n",
      "29/29 [==============================] - 11s 388ms/step - loss: 0.1015 - accuracy: 0.9814\n",
      "Epoch 21/87\n",
      "29/29 [==============================] - 10s 354ms/step - loss: 0.0965 - accuracy: 0.9836\n",
      "Epoch 22/87\n",
      "29/29 [==============================] - 10s 329ms/step - loss: 0.0932 - accuracy: 0.9819\n",
      "Epoch 23/87\n",
      "29/29 [==============================] - 10s 331ms/step - loss: 0.0963 - accuracy: 0.9759\n",
      "Epoch 24/87\n",
      "29/29 [==============================] - 10s 352ms/step - loss: 0.0873 - accuracy: 0.9798\n",
      "Epoch 25/87\n",
      "29/29 [==============================] - 11s 383ms/step - loss: 0.0820 - accuracy: 0.9858\n",
      "Epoch 26/87\n",
      "29/29 [==============================] - 10s 354ms/step - loss: 0.0794 - accuracy: 0.9847\n",
      "Epoch 27/87\n",
      "29/29 [==============================] - 10s 350ms/step - loss: 0.0830 - accuracy: 0.9803\n",
      "Epoch 28/87\n",
      "29/29 [==============================] - 10s 360ms/step - loss: 0.0772 - accuracy: 0.9841\n",
      "Epoch 29/87\n",
      "29/29 [==============================] - 11s 383ms/step - loss: 0.0782 - accuracy: 0.9798\n",
      "Epoch 30/87\n",
      "29/29 [==============================] - 12s 400ms/step - loss: 0.0688 - accuracy: 0.9852\n",
      "Epoch 31/87\n",
      "29/29 [==============================] - 10s 361ms/step - loss: 0.0668 - accuracy: 0.9836\n",
      "Epoch 32/87\n",
      "29/29 [==============================] - 9s 325ms/step - loss: 0.0661 - accuracy: 0.9836\n",
      "Epoch 33/87\n",
      "29/29 [==============================] - 9s 325ms/step - loss: 0.0603 - accuracy: 0.9852\n",
      "Epoch 34/87\n",
      "29/29 [==============================] - 10s 330ms/step - loss: 0.0614 - accuracy: 0.9880\n",
      "Epoch 35/87\n",
      "29/29 [==============================] - 10s 354ms/step - loss: 0.0553 - accuracy: 0.9874\n",
      "Epoch 36/87\n",
      "29/29 [==============================] - 10s 355ms/step - loss: 0.0489 - accuracy: 0.9929\n",
      "Epoch 37/87\n",
      "29/29 [==============================] - 11s 389ms/step - loss: 0.0518 - accuracy: 0.9891\n",
      "Epoch 38/87\n",
      "29/29 [==============================] - 11s 396ms/step - loss: 0.0522 - accuracy: 0.9907\n",
      "Epoch 39/87\n",
      "29/29 [==============================] - 11s 382ms/step - loss: 0.0495 - accuracy: 0.9869\n",
      "Epoch 40/87\n",
      "29/29 [==============================] - 10s 357ms/step - loss: 0.0535 - accuracy: 0.9874\n",
      "Epoch 41/87\n",
      "29/29 [==============================] - 10s 356ms/step - loss: 0.0475 - accuracy: 0.9912\n",
      "Epoch 42/87\n",
      "29/29 [==============================] - 10s 362ms/step - loss: 0.0466 - accuracy: 0.9907\n",
      "Epoch 43/87\n",
      "29/29 [==============================] - 12s 398ms/step - loss: 0.0461 - accuracy: 0.9902\n",
      "Epoch 44/87\n",
      "29/29 [==============================] - 11s 376ms/step - loss: 0.0424 - accuracy: 0.9934\n",
      "Epoch 45/87\n",
      "29/29 [==============================] - 11s 381ms/step - loss: 0.0364 - accuracy: 0.9940\n",
      "Epoch 46/87\n",
      "29/29 [==============================] - 11s 360ms/step - loss: 0.0478 - accuracy: 0.9896\n",
      "Epoch 47/87\n",
      "29/29 [==============================] - 11s 389ms/step - loss: 0.0437 - accuracy: 0.9923\n",
      "Epoch 48/87\n",
      "29/29 [==============================] - 11s 375ms/step - loss: 0.0377 - accuracy: 0.9940\n",
      "Epoch 49/87\n",
      "29/29 [==============================] - 12s 412ms/step - loss: 0.0389 - accuracy: 0.9929\n",
      "Epoch 50/87\n",
      "29/29 [==============================] - 12s 408ms/step - loss: 0.0455 - accuracy: 0.9885\n",
      "Epoch 51/87\n",
      "29/29 [==============================] - 11s 373ms/step - loss: 0.0369 - accuracy: 0.9934\n",
      "Epoch 52/87\n",
      "29/29 [==============================] - 10s 342ms/step - loss: 0.0352 - accuracy: 0.9923\n",
      "Epoch 53/87\n",
      "29/29 [==============================] - 12s 397ms/step - loss: 0.0308 - accuracy: 0.9951\n",
      "Epoch 54/87\n",
      "29/29 [==============================] - 11s 380ms/step - loss: 0.0286 - accuracy: 0.9962\n",
      "Epoch 55/87\n",
      "29/29 [==============================] - 12s 410ms/step - loss: 0.0294 - accuracy: 0.9967\n",
      "Epoch 56/87\n",
      "29/29 [==============================] - 11s 374ms/step - loss: 0.0310 - accuracy: 0.9940\n",
      "Epoch 57/87\n",
      "29/29 [==============================] - 11s 376ms/step - loss: 0.0495 - accuracy: 0.9836\n",
      "Epoch 58/87\n",
      "29/29 [==============================] - 12s 398ms/step - loss: 0.0363 - accuracy: 0.9923\n",
      "Epoch 59/87\n",
      "29/29 [==============================] - 13s 446ms/step - loss: 0.0255 - accuracy: 0.9962\n",
      "Epoch 60/87\n",
      "29/29 [==============================] - 12s 406ms/step - loss: 0.0273 - accuracy: 0.9951\n",
      "Epoch 61/87\n",
      "29/29 [==============================] - 13s 450ms/step - loss: 0.0250 - accuracy: 0.9967\n",
      "Epoch 62/87\n",
      "29/29 [==============================] - 12s 400ms/step - loss: 0.0249 - accuracy: 0.9962\n",
      "Epoch 63/87\n",
      "29/29 [==============================] - 10s 337ms/step - loss: 0.0280 - accuracy: 0.9923\n",
      "Epoch 64/87\n",
      "29/29 [==============================] - 10s 337ms/step - loss: 0.0246 - accuracy: 0.9956\n",
      "Epoch 65/87\n",
      "29/29 [==============================] - 13s 438ms/step - loss: 0.0227 - accuracy: 0.9973\n",
      "Epoch 66/87\n",
      "29/29 [==============================] - 11s 353ms/step - loss: 0.0239 - accuracy: 0.9967\n",
      "Epoch 67/87\n",
      "29/29 [==============================] - 11s 371ms/step - loss: 0.0198 - accuracy: 0.9984\n",
      "Epoch 68/87\n",
      "29/29 [==============================] - 14s 467ms/step - loss: 0.0252 - accuracy: 0.9956\n",
      "Epoch 69/87\n",
      "29/29 [==============================] - 12s 404ms/step - loss: 0.0201 - accuracy: 0.9978\n",
      "Epoch 70/87\n",
      "29/29 [==============================] - 11s 368ms/step - loss: 0.0236 - accuracy: 0.9962\n",
      "Epoch 71/87\n",
      "29/29 [==============================] - 10s 345ms/step - loss: 0.0197 - accuracy: 0.9973\n",
      "Epoch 72/87\n",
      "29/29 [==============================] - 10s 348ms/step - loss: 0.0184 - accuracy: 0.9984\n",
      "Epoch 73/87\n",
      "29/29 [==============================] - 10s 340ms/step - loss: 0.0182 - accuracy: 0.9973\n",
      "Epoch 74/87\n",
      "29/29 [==============================] - 11s 385ms/step - loss: 0.0170 - accuracy: 0.9978\n",
      "Epoch 75/87\n",
      "29/29 [==============================] - 14s 495ms/step - loss: 0.0184 - accuracy: 0.9973\n",
      "Epoch 76/87\n",
      "29/29 [==============================] - 11s 378ms/step - loss: 0.0216 - accuracy: 0.9951\n",
      "Epoch 77/87\n",
      "29/29 [==============================] - 13s 462ms/step - loss: 0.0201 - accuracy: 0.9962\n",
      "Epoch 78/87\n",
      "29/29 [==============================] - 11s 390ms/step - loss: 0.0170 - accuracy: 0.9973\n",
      "Epoch 79/87\n",
      "29/29 [==============================] - 12s 397ms/step - loss: 0.0205 - accuracy: 0.9967\n",
      "Epoch 80/87\n",
      "29/29 [==============================] - 10s 363ms/step - loss: 0.0163 - accuracy: 0.9973\n",
      "Epoch 81/87\n",
      "29/29 [==============================] - 11s 374ms/step - loss: 0.0164 - accuracy: 0.9973\n",
      "Epoch 82/87\n",
      "29/29 [==============================] - 14s 468ms/step - loss: 0.0187 - accuracy: 0.9978\n",
      "Epoch 83/87\n",
      "29/29 [==============================] - 14s 486ms/step - loss: 0.0180 - accuracy: 0.9973\n",
      "Epoch 84/87\n",
      "29/29 [==============================] - 11s 376ms/step - loss: 0.0202 - accuracy: 0.9940\n",
      "Epoch 85/87\n",
      "29/29 [==============================] - 11s 391ms/step - loss: 0.0189 - accuracy: 0.9978\n",
      "Epoch 86/87\n",
      "29/29 [==============================] - 10s 352ms/step - loss: 0.0186 - accuracy: 0.9973\n",
      "Epoch 87/87\n",
      "29/29 [==============================] - 10s 356ms/step - loss: 0.0245 - accuracy: 0.9940\n"
     ]
    },
    {
     "data": {
      "text/plain": [
       "<keras.callbacks.History at 0x7fc748d77dc0>"
      ]
     },
     "execution_count": 26,
     "metadata": {},
     "output_type": "execute_result"
    }
   ],
   "source": [
    "cnn.fit(X_train, y_train, epochs=best_params['epochs'], \n",
    "                        batch_size=best_params['batch_size'])"
   ]
  },
  {
   "cell_type": "code",
   "execution_count": 27,
   "metadata": {
    "ExecuteTime": {
     "end_time": "2023-06-30T15:25:51.233924Z",
     "start_time": "2023-06-30T15:25:50.939640Z"
    }
   },
   "outputs": [
    {
     "name": "stdout",
     "output_type": "stream",
     "text": [
      "20/20 [==============================] - 1s 63ms/step\n",
      "Cohen k 0.9102564102564102\n",
      "Accuracy 0.9551282051282052\n",
      "F1-score [0.95333333 0.95679012]\n",
      "              precision    recall  f1-score   support\n",
      "\n",
      "           0       0.99      0.92      0.95       312\n",
      "           1       0.92      0.99      0.96       312\n",
      "\n",
      "    accuracy                           0.96       624\n",
      "   macro avg       0.96      0.96      0.96       624\n",
      "weighted avg       0.96      0.96      0.96       624\n",
      "\n"
     ]
    }
   ],
   "source": [
    "from sklearn.metrics import f1_score, classification_report, cohen_kappa_score\n",
    "\n",
    "predictions = cnn.predict(X_test)\n",
    "y_pred = np.argmax(predictions, axis=1)\n",
    "\n",
    "print(f'Cohen k {cohen_kappa_score(y_test, y_pred)}')\n",
    "print('Accuracy %s' % accuracy_score(y_test, y_pred))\n",
    "print('F1-score %s' % f1_score(y_test, y_pred, average=None))\n",
    "print(classification_report(y_test, y_pred))"
   ]
  },
  {
   "cell_type": "markdown",
   "metadata": {},
   "source": [
    "# LIME again"
   ]
  },
  {
   "cell_type": "code",
   "execution_count": 28,
   "metadata": {
    "ExecuteTime": {
     "end_time": "2023-06-30T15:25:51.238405Z",
     "start_time": "2023-06-30T15:25:51.235832Z"
    }
   },
   "outputs": [
    {
     "data": {
      "text/plain": [
       "<lime.lime_image.LimeImageExplainer at 0x7fc748fd6770>"
      ]
     },
     "execution_count": 28,
     "metadata": {},
     "output_type": "execute_result"
    }
   ],
   "source": [
    "explainer = lime_image.LimeImageExplainer(random_state=123)\n",
    "explainer"
   ]
  },
  {
   "cell_type": "code",
   "execution_count": 106,
   "metadata": {
    "ExecuteTime": {
     "end_time": "2023-06-30T15:25:51.273289Z",
     "start_time": "2023-06-30T15:25:51.246871Z"
    }
   },
   "outputs": [],
   "source": [
    "import skimage\n",
    "from skimage.color import gray2rgb, rgb2gray\n",
    "\n",
    "def make_prediction(color_img):\n",
    "    gray_img = rgb2gray(color_img).reshape(-1,27,27,1)\n",
    "    preds = cnn.predict(gray_img)\n",
    "    return preds\n"
   ]
  },
  {
   "cell_type": "code",
   "execution_count": 107,
   "metadata": {
    "ExecuteTime": {
     "end_time": "2023-06-30T15:25:51.288346Z",
     "start_time": "2023-06-30T15:25:51.252477Z"
    }
   },
   "outputs": [
    {
     "name": "stdout",
     "output_type": "stream",
     "text": [
      "1/1 [==============================] - 0s 34ms/step\n"
     ]
    },
    {
     "data": {
      "text/plain": [
       "(1, 2)"
      ]
     },
     "execution_count": 107,
     "metadata": {},
     "output_type": "execute_result"
    }
   ],
   "source": [
    "colored_image = gray2rgb(X_test[0].squeeze())\n",
    "\n",
    "preds = make_prediction(colored_image)\n",
    "\n",
    "preds.shape"
   ]
  },
  {
   "cell_type": "code",
   "execution_count": 116,
   "metadata": {
    "ExecuteTime": {
     "end_time": "2023-06-30T15:25:54.206558Z",
     "start_time": "2023-06-30T15:25:51.287840Z"
    }
   },
   "outputs": [
    {
     "data": {
      "application/vnd.jupyter.widget-view+json": {
       "model_id": "7b6ab3eda8fd4e9cb81ea8815d24f99c",
       "version_major": 2,
       "version_minor": 0
      },
      "text/plain": [
       "  0%|          | 0/1000 [00:00<?, ?it/s]"
      ]
     },
     "metadata": {},
     "output_type": "display_data"
    },
    {
     "name": "stdout",
     "output_type": "stream",
     "text": [
      "1/1 [==============================] - 0s 56ms/step\n",
      "1/1 [==============================] - 0s 59ms/step\n",
      "1/1 [==============================] - 0s 53ms/step\n",
      "1/1 [==============================] - 0s 51ms/step\n",
      "1/1 [==============================] - 0s 51ms/step\n",
      "1/1 [==============================] - 0s 46ms/step\n",
      "1/1 [==============================] - 0s 44ms/step\n",
      "1/1 [==============================] - 0s 43ms/step\n",
      "1/1 [==============================] - 0s 41ms/step\n",
      "1/1 [==============================] - 0s 47ms/step\n",
      "1/1 [==============================] - 0s 50ms/step\n",
      "1/1 [==============================] - 0s 63ms/step\n",
      "1/1 [==============================] - 0s 42ms/step\n",
      "1/1 [==============================] - 0s 43ms/step\n",
      "1/1 [==============================] - 0s 42ms/step\n",
      "1/1 [==============================] - 0s 51ms/step\n",
      "1/1 [==============================] - 0s 49ms/step\n",
      "1/1 [==============================] - 0s 43ms/step\n",
      "1/1 [==============================] - 0s 45ms/step\n",
      "1/1 [==============================] - 0s 45ms/step\n",
      "1/1 [==============================] - 0s 53ms/step\n",
      "1/1 [==============================] - 0s 63ms/step\n",
      "1/1 [==============================] - 0s 63ms/step\n",
      "1/1 [==============================] - 0s 57ms/step\n",
      "1/1 [==============================] - 0s 48ms/step\n",
      "1/1 [==============================] - 0s 46ms/step\n",
      "1/1 [==============================] - 0s 45ms/step\n",
      "1/1 [==============================] - 0s 44ms/step\n",
      "1/1 [==============================] - 0s 44ms/step\n",
      "1/1 [==============================] - 0s 44ms/step\n",
      "1/1 [==============================] - 0s 43ms/step\n",
      "1/1 [==============================] - 0s 60ms/step\n",
      "1/1 [==============================] - 0s 54ms/step\n",
      "1/1 [==============================] - 0s 60ms/step\n",
      "1/1 [==============================] - 0s 43ms/step\n",
      "1/1 [==============================] - 0s 50ms/step\n",
      "1/1 [==============================] - 0s 44ms/step\n",
      "1/1 [==============================] - 0s 55ms/step\n",
      "1/1 [==============================] - 0s 57ms/step\n",
      "1/1 [==============================] - 0s 57ms/step\n",
      "1/1 [==============================] - 0s 61ms/step\n",
      "1/1 [==============================] - 0s 46ms/step\n",
      "1/1 [==============================] - 0s 43ms/step\n",
      "1/1 [==============================] - 0s 51ms/step\n",
      "1/1 [==============================] - 0s 43ms/step\n",
      "1/1 [==============================] - 0s 46ms/step\n",
      "1/1 [==============================] - 0s 47ms/step\n",
      "1/1 [==============================] - 0s 57ms/step\n",
      "1/1 [==============================] - 0s 55ms/step\n",
      "1/1 [==============================] - 0s 52ms/step\n",
      "1/1 [==============================] - 0s 45ms/step\n",
      "1/1 [==============================] - 0s 48ms/step\n",
      "1/1 [==============================] - 0s 57ms/step\n",
      "1/1 [==============================] - 0s 57ms/step\n",
      "1/1 [==============================] - 0s 58ms/step\n",
      "1/1 [==============================] - 0s 41ms/step\n",
      "1/1 [==============================] - 0s 41ms/step\n",
      "1/1 [==============================] - 0s 40ms/step\n",
      "1/1 [==============================] - 0s 46ms/step\n",
      "1/1 [==============================] - 0s 40ms/step\n",
      "1/1 [==============================] - 0s 40ms/step\n",
      "1/1 [==============================] - 0s 46ms/step\n",
      "1/1 [==============================] - 0s 45ms/step\n",
      "1/1 [==============================] - 0s 43ms/step\n",
      "1/1 [==============================] - 0s 44ms/step\n",
      "1/1 [==============================] - 0s 43ms/step\n",
      "1/1 [==============================] - 0s 41ms/step\n",
      "1/1 [==============================] - 0s 42ms/step\n",
      "1/1 [==============================] - 0s 41ms/step\n",
      "1/1 [==============================] - 0s 43ms/step\n",
      "1/1 [==============================] - 0s 46ms/step\n",
      "1/1 [==============================] - 0s 44ms/step\n",
      "1/1 [==============================] - 0s 52ms/step\n",
      "1/1 [==============================] - 0s 43ms/step\n",
      "1/1 [==============================] - 0s 41ms/step\n",
      "1/1 [==============================] - 0s 41ms/step\n",
      "1/1 [==============================] - 0s 65ms/step\n",
      "1/1 [==============================] - 0s 50ms/step\n",
      "1/1 [==============================] - 0s 44ms/step\n",
      "1/1 [==============================] - 0s 41ms/step\n",
      "1/1 [==============================] - 0s 42ms/step\n",
      "1/1 [==============================] - 0s 41ms/step\n",
      "1/1 [==============================] - 0s 46ms/step\n",
      "1/1 [==============================] - 0s 53ms/step\n",
      "1/1 [==============================] - 0s 54ms/step\n",
      "1/1 [==============================] - 0s 47ms/step\n",
      "1/1 [==============================] - 0s 43ms/step\n",
      "1/1 [==============================] - 0s 47ms/step\n",
      "1/1 [==============================] - 0s 43ms/step\n",
      "1/1 [==============================] - 0s 43ms/step\n",
      "1/1 [==============================] - 0s 40ms/step\n",
      "1/1 [==============================] - 0s 43ms/step\n",
      "1/1 [==============================] - 0s 40ms/step\n",
      "1/1 [==============================] - 0s 39ms/step\n",
      "1/1 [==============================] - 0s 42ms/step\n",
      "1/1 [==============================] - 0s 44ms/step\n",
      "1/1 [==============================] - 0s 44ms/step\n",
      "1/1 [==============================] - 0s 44ms/step\n",
      "1/1 [==============================] - 0s 44ms/step\n",
      "1/1 [==============================] - 0s 43ms/step\n"
     ]
    },
    {
     "data": {
      "text/plain": [
       "<lime.lime_image.ImageExplanation at 0x7fc723e031c0>"
      ]
     },
     "execution_count": 116,
     "metadata": {},
     "output_type": "execute_result"
    }
   ],
   "source": [
    "from skimage.segmentation import felzenszwalb, flood_fill, flood\n",
    "idx=120\n",
    "rng = np.random.RandomState(42)\n",
    "idx = rng.choice(range(len(X_test)))\n",
    "\n",
    "explanation = explainer.explain_instance(X_test[idx].squeeze(), \n",
    "                                         make_prediction,\n",
    "                                         top_labels=5,\n",
    "                                         hide_color=0.5,\n",
    "                                         random_seed=123)\n",
    "\n",
    "explanation"
   ]
  },
  {
   "cell_type": "code",
   "execution_count": 118,
   "metadata": {
    "ExecuteTime": {
     "end_time": "2023-06-30T15:25:54.209587Z",
     "start_time": "2023-06-30T15:25:54.202650Z"
    }
   },
   "outputs": [
    {
     "name": "stdout",
     "output_type": "stream",
     "text": [
      "-0.04135961459761909 0.030411405955580964\n",
      "1 1\n"
     ]
    }
   ],
   "source": [
    "img, mask = explanation.get_image_and_mask(y_test[idx],\n",
    "                                           num_features=5,\n",
    "                                           \n",
    "                                           positive_only=True, \n",
    "                                           hide_rest=True)\n",
    "\n",
    "img.shape, mask.shape\n",
    "print(np.min(img), np.max(img))\n",
    "print(np.min(mask), np.max(mask))"
   ]
  },
  {
   "cell_type": "code",
   "execution_count": 119,
   "metadata": {
    "ExecuteTime": {
     "end_time": "2023-06-30T15:25:54.921114Z",
     "start_time": "2023-06-30T15:25:54.214046Z"
    }
   },
   "outputs": [
    {
     "name": "stderr",
     "output_type": "stream",
     "text": [
      "Clipping input data to the valid range for imshow with RGB data ([0..1] for floats or [0..255] for integers).\n",
      "Clipping input data to the valid range for imshow with RGB data ([0..1] for floats or [0..255] for integers).\n"
     ]
    },
    {
     "data": {
      "image/png": "[encoded data removed]",
      "text/plain": [
       "<Figure size 1500x500 with 4 Axes>"
      ]
     },
     "metadata": {},
     "output_type": "display_data"
    }
   ],
   "source": [
    "from skimage.segmentation import mark_boundaries\n",
    "import matplotlib.pyplot as plt\n",
    "\n",
    "def plot_comparison(main_image, img, mask):\n",
    "    fig = plt.figure(figsize=(15,5))\n",
    "\n",
    "    ax = fig.add_subplot(141)\n",
    "    ax.imshow(main_image, cmap=\"gray\", zorder=2)\n",
    "    ax.set_title(\"Original Image\")\n",
    "    ax = fig.add_subplot(142)\n",
    "    ax.imshow(img * 255, zorder=2)\n",
    "    ax.set_title(\"Image\")\n",
    "    ax = fig.add_subplot(143)\n",
    "    ax.imshow(mask, zorder=2)\n",
    "    ax.set_title(\"Mask\")\n",
    "    ax = fig.add_subplot(144)\n",
    "    ax.imshow(mark_boundaries(img * 255, mask, color=(0,1,0)), zorder=2);\n",
    "    ax.set_title(\"Image+Mask Combined\");\n",
    "\n",
    "plot_comparison(X_test[idx], img, mask)"
   ]
  },
  {
   "cell_type": "code",
   "execution_count": 86,
   "metadata": {
    "ExecuteTime": {
     "end_time": "2023-06-30T15:25:54.922857Z",
     "start_time": "2023-06-30T15:25:54.920520Z"
    }
   },
   "outputs": [
    {
     "name": "stdout",
     "output_type": "stream",
     "text": [
      "[False False False ...  True False False]\n",
      "[False False False ... False  True  True]\n"
     ]
    },
    {
     "data": {
      "image/png": "[encoded data removed]",
      "text/plain": [
       "<Figure size 354.331x236.22 with 2 Axes>"
      ]
     },
     "metadata": {},
     "output_type": "display_data"
    }
   ],
   "source": [
    "fig, axes = plt.subplots(1, 2)\n",
    "for stm,ax in zip([\"kids\", \"dogs\"], axes):  \n",
    "    mask = (df.statement==stm).values & (df.sex==\"F\").values & (df.vocal_channel==\"song\").values\n",
    "    print(mask)\n",
    "    avg_image = np.median(traces[mask], axis=0)\n",
    "    ax.imshow(avg_image)\n",
    "    ax.grid(ls=\"\")"
   ]
  },
  {
   "cell_type": "code",
   "execution_count": null,
   "metadata": {},
   "outputs": [],
   "source": []
  }
 ],
 "metadata": {
  "kernelspec": {
   "display_name": "DM2",
   "language": "python",
   "name": "dm2"
  },
  "language_info": {
   "codemirror_mode": {
    "name": "ipython",
    "version": 3
   },
   "file_extension": ".py",
   "mimetype": "text/x-python",
   "name": "python",
   "nbconvert_exporter": "python",
   "pygments_lexer": "ipython3",
   "version": "3.10.6"
  }
 },
 "nbformat": 4,
 "nbformat_minor": 1
}
