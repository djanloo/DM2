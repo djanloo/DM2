{
 "cells": [
  {
   "cell_type": "code",
   "execution_count": 1,
   "metadata": {
    "collapsed": true,
    "ExecuteTime": {
     "end_time": "2023-06-29T10:30:48.280080Z",
     "start_time": "2023-06-29T10:30:48.277721Z"
    }
   },
   "outputs": [],
   "source": [
    "import os\n",
    "import numpy as np\n",
    "import pandas as pd\n",
    "import matplotlib.pyplot as plt\n",
    "import seaborn as sns; sns.set()\n",
    "\n",
    "import sys\n",
    "\n",
    "sys.path.append('../')\n",
    "import default_style\n",
    "\n",
    "TS_DATASET_FOLDER = os.path.join('..', 'dataset')\n",
    "TS_PREPROC_FOLDER = os.path.join(TS_DATASET_FOLDER, 'preprocessed_traces')\n",
    "DF_PREPROC_FILE = os.path.join(TS_PREPROC_FOLDER, 'preproc_ts.df')\n",
    "\n",
    "TARGET = 'statement'\n",
    "TRACES = 'syllables_02_STFT'"
   ]
  },
  {
   "cell_type": "code",
   "execution_count": 2,
   "outputs": [
    {
     "data": {
      "text/plain": "  vocal_channel  emotion emotional_intensity statement repetition     actor   \n0        speech  neutral              normal      kids        1st  actor_01  \\\n1        speech  neutral              normal      kids        2nd  actor_01   \n2        speech  neutral              normal      dogs        1st  actor_01   \n3        speech  neutral              normal      dogs        2nd  actor_01   \n4        speech     calm              normal      kids        1st  actor_01   \n\n                                                path sex   begin_s     end_s   \n0  ../dataset/Audio_Speech_Actors_01-24/Actor_01/...   M  1.009833  2.252000  \\\n1  ../dataset/Audio_Speech_Actors_01-24/Actor_01/...   M  1.068500  2.294667   \n2  ../dataset/Audio_Speech_Actors_01-24/Actor_01/...   M  1.012000  2.238500   \n3  ../dataset/Audio_Speech_Actors_01-24/Actor_01/...   M  1.008833  2.187167   \n4  ../dataset/Audio_Speech_Actors_01-24/Actor_01/...   M  1.023667  2.534167   \n\n                                      fourier_coeffs   \n0  [1.9371510e-07 1.2311488e-02 1.1168750e-02 ......  \\\n1  [3.5017729e-07 2.6199006e-02 2.5683409e-02 ......   \n2  [2.4959445e-07 1.2348385e-02 1.0678725e-02 ......   \n3  [1.1920929e-07 1.2154797e-02 1.6620804e-02 ......   \n4  [1.1920929e-07 2.0026919e-03 7.9689088e-04 ......   \n\n                             filtered_fourier_coeffs  syll_0_start_index   \n0  [1.9371510e-07 1.2311473e-02 1.1168692e-02 ......                   0  \\\n1  [3.5017729e-07 2.6198970e-02 2.5683273e-02 ......                   0   \n2  [2.49594450e-07 1.23483688e-02 1.06786685e-02 ...                   0   \n3  [1.1920929e-07 1.2154780e-02 1.6620707e-02 ......                   0   \n4  [1.1920929e-07 2.0026902e-03 7.9688808e-04 ......                   0   \n\n   syll_1_start_index  syll_2_start_index  syll_3_start_index   \n0                1128                2240                3200  \\\n1                2008                3208                3880   \n2                2816                3352                3912   \n3                1664                2664                3208   \n4                2088                3584                4832   \n\n   syll_4_start_index  syll_5_start_index  syll_6_start_index   \n0                4304                5208                5808  \\\n1                4224                5112                5800   \n2                4296                5232                5880   \n3                3672                4840                5448   \n4                5800                6944                7560   \n\n   syll_7_start_index  \n0                7448  \n1                7352  \n2                7352  \n3                7064  \n4                9056  ",
      "text/html": "<div>\n<style scoped>\n    .dataframe tbody tr th:only-of-type {\n        vertical-align: middle;\n    }\n\n    .dataframe tbody tr th {\n        vertical-align: top;\n    }\n\n    .dataframe thead th {\n        text-align: right;\n    }\n</style>\n<table border=\"1\" class=\"dataframe\">\n  <thead>\n    <tr style=\"text-align: right;\">\n      <th></th>\n      <th>vocal_channel</th>\n      <th>emotion</th>\n      <th>emotional_intensity</th>\n      <th>statement</th>\n      <th>repetition</th>\n      <th>actor</th>\n      <th>path</th>\n      <th>sex</th>\n      <th>begin_s</th>\n      <th>end_s</th>\n      <th>fourier_coeffs</th>\n      <th>filtered_fourier_coeffs</th>\n      <th>syll_0_start_index</th>\n      <th>syll_1_start_index</th>\n      <th>syll_2_start_index</th>\n      <th>syll_3_start_index</th>\n      <th>syll_4_start_index</th>\n      <th>syll_5_start_index</th>\n      <th>syll_6_start_index</th>\n      <th>syll_7_start_index</th>\n    </tr>\n  </thead>\n  <tbody>\n    <tr>\n      <th>0</th>\n      <td>speech</td>\n      <td>neutral</td>\n      <td>normal</td>\n      <td>kids</td>\n      <td>1st</td>\n      <td>actor_01</td>\n      <td>../dataset/Audio_Speech_Actors_01-24/Actor_01/...</td>\n      <td>M</td>\n      <td>1.009833</td>\n      <td>2.252000</td>\n      <td>[1.9371510e-07 1.2311488e-02 1.1168750e-02 ......</td>\n      <td>[1.9371510e-07 1.2311473e-02 1.1168692e-02 ......</td>\n      <td>0</td>\n      <td>1128</td>\n      <td>2240</td>\n      <td>3200</td>\n      <td>4304</td>\n      <td>5208</td>\n      <td>5808</td>\n      <td>7448</td>\n    </tr>\n    <tr>\n      <th>1</th>\n      <td>speech</td>\n      <td>neutral</td>\n      <td>normal</td>\n      <td>kids</td>\n      <td>2nd</td>\n      <td>actor_01</td>\n      <td>../dataset/Audio_Speech_Actors_01-24/Actor_01/...</td>\n      <td>M</td>\n      <td>1.068500</td>\n      <td>2.294667</td>\n      <td>[3.5017729e-07 2.6199006e-02 2.5683409e-02 ......</td>\n      <td>[3.5017729e-07 2.6198970e-02 2.5683273e-02 ......</td>\n      <td>0</td>\n      <td>2008</td>\n      <td>3208</td>\n      <td>3880</td>\n      <td>4224</td>\n      <td>5112</td>\n      <td>5800</td>\n      <td>7352</td>\n    </tr>\n    <tr>\n      <th>2</th>\n      <td>speech</td>\n      <td>neutral</td>\n      <td>normal</td>\n      <td>dogs</td>\n      <td>1st</td>\n      <td>actor_01</td>\n      <td>../dataset/Audio_Speech_Actors_01-24/Actor_01/...</td>\n      <td>M</td>\n      <td>1.012000</td>\n      <td>2.238500</td>\n      <td>[2.4959445e-07 1.2348385e-02 1.0678725e-02 ......</td>\n      <td>[2.49594450e-07 1.23483688e-02 1.06786685e-02 ...</td>\n      <td>0</td>\n      <td>2816</td>\n      <td>3352</td>\n      <td>3912</td>\n      <td>4296</td>\n      <td>5232</td>\n      <td>5880</td>\n      <td>7352</td>\n    </tr>\n    <tr>\n      <th>3</th>\n      <td>speech</td>\n      <td>neutral</td>\n      <td>normal</td>\n      <td>dogs</td>\n      <td>2nd</td>\n      <td>actor_01</td>\n      <td>../dataset/Audio_Speech_Actors_01-24/Actor_01/...</td>\n      <td>M</td>\n      <td>1.008833</td>\n      <td>2.187167</td>\n      <td>[1.1920929e-07 1.2154797e-02 1.6620804e-02 ......</td>\n      <td>[1.1920929e-07 1.2154780e-02 1.6620707e-02 ......</td>\n      <td>0</td>\n      <td>1664</td>\n      <td>2664</td>\n      <td>3208</td>\n      <td>3672</td>\n      <td>4840</td>\n      <td>5448</td>\n      <td>7064</td>\n    </tr>\n    <tr>\n      <th>4</th>\n      <td>speech</td>\n      <td>calm</td>\n      <td>normal</td>\n      <td>kids</td>\n      <td>1st</td>\n      <td>actor_01</td>\n      <td>../dataset/Audio_Speech_Actors_01-24/Actor_01/...</td>\n      <td>M</td>\n      <td>1.023667</td>\n      <td>2.534167</td>\n      <td>[1.1920929e-07 2.0026919e-03 7.9689088e-04 ......</td>\n      <td>[1.1920929e-07 2.0026902e-03 7.9688808e-04 ......</td>\n      <td>0</td>\n      <td>2088</td>\n      <td>3584</td>\n      <td>4832</td>\n      <td>5800</td>\n      <td>6944</td>\n      <td>7560</td>\n      <td>9056</td>\n    </tr>\n  </tbody>\n</table>\n</div>"
     },
     "execution_count": 2,
     "metadata": {},
     "output_type": "execute_result"
    }
   ],
   "source": [
    "df = pd.read_csv(DF_PREPROC_FILE).drop(columns=['Unnamed: 0'])\n",
    "df.head()"
   ],
   "metadata": {
    "collapsed": false,
    "ExecuteTime": {
     "end_time": "2023-06-29T10:30:48.298968Z",
     "start_time": "2023-06-29T10:30:48.280702Z"
    }
   }
  },
  {
   "cell_type": "code",
   "execution_count": 3,
   "outputs": [
    {
     "data": {
      "text/plain": "(2452, 27, 27)"
     },
     "execution_count": 3,
     "metadata": {},
     "output_type": "execute_result"
    }
   ],
   "source": [
    "file_path = os.path.join(TS_PREPROC_FOLDER, f'{TRACES}.npy')\n",
    "traces = np.load(file_path, allow_pickle=True)\n",
    "\n",
    "traces.shape"
   ],
   "metadata": {
    "collapsed": false,
    "ExecuteTime": {
     "end_time": "2023-06-29T10:30:48.324510Z",
     "start_time": "2023-06-29T10:30:48.299752Z"
    }
   }
  },
  {
   "cell_type": "markdown",
   "source": [
    "# RGB format"
   ],
   "metadata": {
    "collapsed": false
   }
  },
  {
   "cell_type": "code",
   "execution_count": 4,
   "outputs": [],
   "source": [
    "# array of empty RGB matrixes\n",
    "rgb_traces = np.zeros((len(traces), traces.shape[1], traces.shape[2], 3), dtype=np.float32)\n",
    "\n",
    "\"\"\"\n",
    "for i in range(len(traces)):\n",
    "    trace = traces[i]\n",
    "\n",
    "    min_value = np.min(trace)\n",
    "    max_value = np.max(trace)\n",
    "    normalized_trace = (trace - min_value) / (max_value - min_value)\n",
    "\n",
    "    red_channel = normalized_trace\n",
    "    green_channel = np.zeros_like(normalized_trace)\n",
    "    blue_channel = np.zeros_like(normalized_trace)\n",
    "\n",
    "    rgb_trace = np.dstack((red_channel, green_channel, blue_channel))\n",
    "    rgb_traces[i] = rgb_trace\n",
    "\n",
    "\n",
    "display(rgb_traces.shape)\n",
    "\n",
    "\"\"\"\n",
    "from PIL import Image\n",
    "\n",
    "rgb_traces = []\n",
    "\n",
    "for i in range(len(traces)):\n",
    "    trace = traces[i]\n",
    "\n",
    "    min_value = np.min(trace)\n",
    "    max_value = np.max(trace)\n",
    "    normalized_trace = (trace - min_value) / (max_value - min_value)\n",
    "\n",
    "    normalized_trace = ((1 - normalized_trace) * 255).astype(np.uint8)\n",
    "\n",
    "    rgb_trace = Image.fromarray(normalized_trace, mode='L').convert('RGB')\n",
    "\n",
    "    rgb_traces.append(rgb_trace)\n",
    "\n",
    "\n",
    "rgb_traces = np.array([np.array(trace) for trace in rgb_traces])"
   ],
   "metadata": {
    "collapsed": false,
    "ExecuteTime": {
     "end_time": "2023-06-29T10:30:48.404232Z",
     "start_time": "2023-06-29T10:30:48.309945Z"
    }
   }
  },
  {
   "cell_type": "code",
   "execution_count": 5,
   "outputs": [
    {
     "data": {
      "text/plain": "<Figure size 354.331x236.22 with 1 Axes>",
      "image/png": "[encoded data removed]"
     },
     "metadata": {},
     "output_type": "display_data"
    }
   ],
   "source": [
    "plt.imshow(rgb_traces[0])\n",
    "plt.axis('off')\n",
    "plt.show()"
   ],
   "metadata": {
    "collapsed": false,
    "ExecuteTime": {
     "end_time": "2023-06-29T10:30:48.453357Z",
     "start_time": "2023-06-29T10:30:48.404759Z"
    }
   }
  },
  {
   "cell_type": "markdown",
   "source": [
    "# Training, Validation and Test Sets Preparation"
   ],
   "metadata": {
    "collapsed": false
   }
  },
  {
   "cell_type": "code",
   "execution_count": 6,
   "outputs": [
    {
     "data": {
      "text/plain": "array([[[[122, 122, 122],\n         [120, 120, 120],\n         [115, 115, 115],\n         ...,\n         [147, 147, 147],\n         [162, 162, 162],\n         [170, 170, 170]],\n\n        [[130, 130, 130],\n         [103, 103, 103],\n         [100, 100, 100],\n         ...,\n         [170, 170, 170],\n         [185, 185, 185],\n         [180, 180, 180]],\n\n        [[155, 155, 155],\n         [117, 117, 117],\n         [124, 124, 124],\n         ...,\n         [168, 168, 168],\n         [147, 147, 147],\n         [167, 167, 167]],\n\n        ...,\n\n        [[177, 177, 177],\n         [ 60,  60,  60],\n         [ 62,  62,  62],\n         ...,\n         [207, 207, 207],\n         [200, 200, 200],\n         [198, 198, 198]],\n\n        [[127, 127, 127],\n         [ 92,  92,  92],\n         [ 81,  81,  81],\n         ...,\n         [191, 191, 191],\n         [187, 187, 187],\n         [188, 188, 188]],\n\n        [[ 96,  96,  96],\n         [ 74,  74,  74],\n         [ 85,  85,  85],\n         ...,\n         [166, 166, 166],\n         [172, 172, 172],\n         [178, 178, 178]]],\n\n\n       [[[149, 149, 149],\n         [ 62,  62,  62],\n         [ 14,  14,  14],\n         ...,\n         [156, 156, 156],\n         [183, 183, 183],\n         [139, 139, 139]],\n\n        [[144, 144, 144],\n         [ 60,  60,  60],\n         [ 11,  11,  11],\n         ...,\n         [125, 125, 125],\n         [131, 131, 131],\n         [130, 130, 130]],\n\n        [[143, 143, 143],\n         [ 62,  62,  62],\n         [ 11,  11,  11],\n         ...,\n         [121, 121, 121],\n         [154, 154, 154],\n         [116, 116, 116]],\n\n        ...,\n\n        [[176, 176, 176],\n         [ 61,  61,  61],\n         [ 32,  32,  32],\n         ...,\n         [153, 153, 153],\n         [196, 196, 196],\n         [145, 145, 145]],\n\n        [[155, 155, 155],\n         [ 63,  63,  63],\n         [ 41,  41,  41],\n         ...,\n         [155, 155, 155],\n         [159, 159, 159],\n         [164, 164, 164]],\n\n        [[155, 155, 155],\n         [ 62,  62,  62],\n         [ 41,  41,  41],\n         ...,\n         [178, 178, 178],\n         [163, 163, 163],\n         [163, 163, 163]]],\n\n\n       [[[108, 108, 108],\n         [ 41,  41,  41],\n         [ 56,  56,  56],\n         ...,\n         [182, 182, 182],\n         [171, 171, 171],\n         [208, 208, 208]],\n\n        [[114, 114, 114],\n         [ 27,  27,  27],\n         [ 37,  37,  37],\n         ...,\n         [132, 132, 132],\n         [153, 153, 153],\n         [168, 168, 168]],\n\n        [[108, 108, 108],\n         [ 28,  28,  28],\n         [ 37,  37,  37],\n         ...,\n         [129, 129, 129],\n         [ 98,  98,  98],\n         [127, 127, 127]],\n\n        ...,\n\n        [[100, 100, 100],\n         [ 11,  11,  11],\n         [  3,   3,   3],\n         ...,\n         [109, 109, 109],\n         [130, 130, 130],\n         [131, 131, 131]],\n\n        [[ 89,  89,  89],\n         [ 17,  17,  17],\n         [ 12,  12,  12],\n         ...,\n         [185, 185, 185],\n         [167, 167, 167],\n         [215, 215, 215]],\n\n        [[ 79,  79,  79],\n         [ 29,  29,  29],\n         [ 10,  10,  10],\n         ...,\n         [155, 155, 155],\n         [141, 141, 141],\n         [176, 176, 176]]],\n\n\n       ...,\n\n\n       [[[101, 101, 101],\n         [136, 136, 136],\n         [128, 128, 128],\n         ...,\n         [172, 172, 172],\n         [153, 153, 153],\n         [190, 190, 190]],\n\n        [[109, 109, 109],\n         [124, 124, 124],\n         [122, 122, 122],\n         ...,\n         [140, 140, 140],\n         [140, 140, 140],\n         [141, 141, 141]],\n\n        [[127, 127, 127],\n         [152, 152, 152],\n         [138, 138, 138],\n         ...,\n         [141, 141, 141],\n         [138, 138, 138],\n         [132, 132, 132]],\n\n        ...,\n\n        [[133, 133, 133],\n         [138, 138, 138],\n         [129, 129, 129],\n         ...,\n         [167, 167, 167],\n         [155, 155, 155],\n         [164, 164, 164]],\n\n        [[140, 140, 140],\n         [140, 140, 140],\n         [129, 129, 129],\n         ...,\n         [181, 181, 181],\n         [157, 157, 157],\n         [182, 182, 182]],\n\n        [[135, 135, 135],\n         [164, 164, 164],\n         [149, 149, 149],\n         ...,\n         [193, 193, 193],\n         [185, 185, 185],\n         [201, 201, 201]]],\n\n\n       [[[134, 134, 134],\n         [109, 109, 109],\n         [112, 112, 112],\n         ...,\n         [132, 132, 132],\n         [153, 153, 153],\n         [123, 123, 123]],\n\n        [[120, 120, 120],\n         [123, 123, 123],\n         [144, 144, 144],\n         ...,\n         [149, 149, 149],\n         [138, 138, 138],\n         [145, 145, 145]],\n\n        [[120, 120, 120],\n         [128, 128, 128],\n         [106, 106, 106],\n         ...,\n         [121, 121, 121],\n         [148, 148, 148],\n         [175, 175, 175]],\n\n        ...,\n\n        [[163, 163, 163],\n         [177, 177, 177],\n         [207, 207, 207],\n         ...,\n         [228, 228, 228],\n         [223, 223, 223],\n         [250, 250, 250]],\n\n        [[148, 148, 148],\n         [172, 172, 172],\n         [180, 180, 180],\n         ...,\n         [205, 205, 205],\n         [222, 222, 222],\n         [235, 235, 235]],\n\n        [[149, 149, 149],\n         [162, 162, 162],\n         [158, 158, 158],\n         ...,\n         [171, 171, 171],\n         [221, 221, 221],\n         [229, 229, 229]]],\n\n\n       [[[199, 199, 199],\n         [127, 127, 127],\n         [154, 154, 154],\n         ...,\n         [138, 138, 138],\n         [144, 144, 144],\n         [152, 152, 152]],\n\n        [[152, 152, 152],\n         [136, 136, 136],\n         [148, 148, 148],\n         ...,\n         [130, 130, 130],\n         [161, 161, 161],\n         [117, 117, 117]],\n\n        [[150, 150, 150],\n         [203, 203, 203],\n         [157, 157, 157],\n         ...,\n         [123, 123, 123],\n         [108, 108, 108],\n         [ 95,  95,  95]],\n\n        ...,\n\n        [[159, 159, 159],\n         [170, 170, 170],\n         [151, 151, 151],\n         ...,\n         [178, 178, 178],\n         [188, 188, 188],\n         [180, 180, 180]],\n\n        [[146, 146, 146],\n         [135, 135, 135],\n         [159, 159, 159],\n         ...,\n         [223, 223, 223],\n         [209, 209, 209],\n         [179, 179, 179]],\n\n        [[255, 255, 255],\n         [146, 146, 146],\n         [152, 152, 152],\n         ...,\n         [207, 207, 207],\n         [190, 190, 190],\n         [202, 202, 202]]]], dtype=uint8)"
     },
     "execution_count": 6,
     "metadata": {},
     "output_type": "execute_result"
    }
   ],
   "source": [
    "# sort by actors\n",
    "sorted_indices = df['actor'].argsort()\n",
    "df = df.iloc[sorted_indices].reset_index(drop=True)\n",
    "\n",
    "traces = traces[sorted_indices]\n",
    "\n",
    "rgb_traces"
   ],
   "metadata": {
    "collapsed": false,
    "ExecuteTime": {
     "end_time": "2023-06-29T10:30:48.464749Z",
     "start_time": "2023-06-29T10:30:48.456860Z"
    }
   }
  },
  {
   "cell_type": "code",
   "execution_count": 7,
   "outputs": [
    {
     "data": {
      "text/plain": "((1462, 27, 27, 3),\n (366, 27, 27, 3),\n (624, 27, 27, 3),\n (1462,),\n (366,),\n (624,))"
     },
     "execution_count": 7,
     "metadata": {},
     "output_type": "execute_result"
    }
   ],
   "source": [
    "from sklearn.model_selection import train_test_split\n",
    "\n",
    "split_index = df[df['actor'] == 'actor_19'].index[0]\n",
    "\n",
    "X_train = rgb_traces[:split_index]\n",
    "X_test = rgb_traces[split_index:]\n",
    "\n",
    "y_train = df[TARGET][:split_index].to_numpy()\n",
    "y_test = df[TARGET][split_index:].to_numpy()\n",
    "\n",
    "X_train_v, X_valid, y_train_v, y_valid = train_test_split(X_train, y_train, test_size=0.2, random_state=100)\n",
    "\n",
    "X_train_v.shape, X_valid.shape, X_test.shape, y_train_v.shape, y_valid.shape, y_test.shape"
   ],
   "metadata": {
    "collapsed": false,
    "ExecuteTime": {
     "end_time": "2023-06-29T10:30:48.607536Z",
     "start_time": "2023-06-29T10:30:48.466489Z"
    }
   }
  },
  {
   "cell_type": "markdown",
   "source": [
    "# CNN"
   ],
   "metadata": {
    "collapsed": false
   }
  },
  {
   "cell_type": "code",
   "execution_count": 8,
   "outputs": [],
   "source": [
    "from sklearn.preprocessing import LabelEncoder\n",
    "\n",
    "label_encoder = LabelEncoder()\n",
    "\n",
    "y_train = label_encoder.fit_transform(y_train)\n",
    "y_train_v = label_encoder.fit_transform(y_train_v)\n",
    "y_valid = label_encoder.transform(y_valid)\n",
    "y_test = label_encoder.transform(y_test)"
   ],
   "metadata": {
    "collapsed": false,
    "ExecuteTime": {
     "end_time": "2023-06-29T10:30:48.607686Z",
     "start_time": "2023-06-29T10:30:48.607329Z"
    }
   }
  },
  {
   "cell_type": "code",
   "execution_count": 9,
   "outputs": [],
   "source": [
    "from keras.src.layers import Conv2D, BatchNormalization, Activation, Dropout, GlobalAveragePooling2D, Dense\n",
    "from keras import Sequential\n",
    "\n",
    "\n",
    "def build_model(input_shape, n_categories,\n",
    "                n_conv=0, n_hidden=0, hidden_nodes=32,\n",
    "                dropout=0.01, filters=8, kernel_size=5, **kwargs):\n",
    "\n",
    "    model = Sequential()\n",
    "\n",
    "    model.add(Conv2D(filters=filters,\n",
    "                     kernel_size=(kernel_size, kernel_size),\n",
    "                     activation='relu',\n",
    "                     input_shape=input_shape,\n",
    "                     padding='same'\n",
    "                     ))\n",
    "\n",
    "    model.add(BatchNormalization())\n",
    "    model.add(Activation('relu'))\n",
    "\n",
    "    for _ in range(n_conv):\n",
    "        model.add(Conv2D(filters=filters, kernel_size=kernel_size, activation='relu', padding='same'))\n",
    "        model.add(BatchNormalization())\n",
    "        model.add(Activation('relu'))\n",
    "\n",
    "        model.add(Dropout(dropout))\n",
    "\n",
    "    model.add(GlobalAveragePooling2D())\n",
    "\n",
    "    for _ in range(n_hidden):\n",
    "        model.add(Dense(hidden_nodes, activation='relu'))\n",
    "\n",
    "    model.add(Dense(n_categories, activation='softmax'))\n",
    "    model.compile(loss='sparse_categorical_crossentropy', optimizer='adam', metrics=['accuracy'])\n",
    "\n",
    "    return model"
   ],
   "metadata": {
    "collapsed": false,
    "ExecuteTime": {
     "end_time": "2023-06-29T10:30:50.895860Z",
     "start_time": "2023-06-29T10:30:48.607629Z"
    }
   }
  },
  {
   "cell_type": "code",
   "execution_count": 12,
   "outputs": [
    {
     "name": "stderr",
     "output_type": "stream",
     "text": [
      "[I 2023-06-29 12:31:04,409] A new study created in memory with name: no-name-ff04175b-3c89-4bfd-b102-3ea513dddcf7\n"
     ]
    },
    {
     "name": "stdout",
     "output_type": "stream",
     "text": [
      "Running little bitch having n_conv=1, dropout=0.05425544700159024, hidden_nodes=213\n",
      "Running little bitch having n_conv=2, dropout=0.1217746755803658, hidden_nodes=224\n",
      "Running little bitch having n_conv=1, dropout=0.020883134272913797, hidden_nodes=194\n",
      "Running little bitch having n_conv=2, dropout=0.083863876331, hidden_nodes=169\n",
      "Running little bitch having n_conv=2, dropout=0.13660166263218118, hidden_nodes=145\n",
      "Running little bitch having n_conv=0, dropout=0.13099018273657978, hidden_nodes=101\n",
      "Running little bitch having n_conv=2, dropout=0.15945945073503487, hidden_nodes=231\n",
      "Running little bitch having n_conv=3, dropout=0.18162135337388746, hidden_nodes=69\n",
      "[0 1 0 0 1 0 1 1 1 0 1 0 0 0 1 0 0 0 0 0 1 1 0 1 0 0 1 0 1 1 1 1 0 0 0 1 1\n",
      " 0 1 0 1 0 0 0 0 0 1 0 0 1 0 1 1 0 1 0 0 1 1 0 0 0 0 0 1 0 0 0 0 0 1 0 0 0\n",
      " 1 1 1 0 1 0 0 1 0 0 0 0 1 0 0 0 1 0 1 0 1 1 0 0 1 0 1 1 1 1 0 1 0 0 0 1 0\n",
      " 0 0 0 1 1 0 0 0 1 0 0 0 1 0 0 1 1 0 0 0 1 1 0 1 0 1 0 0 0 1 1 0 0 1 0 1 0\n",
      " 1 0 0 1 0 0 0 0 0 0 1 1 1 0 1 1 0 0 0 0 0 0 1 0 1 1 0 0 0 0 0 0 0 0 1 0 0\n",
      " 0 0 0 0 1 1 0 0 1 0 1 0 1 1 1 1 1 1 1 0 1 0 0 1 0 1 1 0 1 1 1 0 0 1 1 1 1\n",
      " 1 1 1 1 1 1 0 0 1 0 1 1 1 1 1 1 1 0 1 1 1 0 0 0 1 0 0 1 1 1 0 1 1 1 0 0 1\n",
      " 0 0 0 1 0 1 0 1 1 0 1 0 0 1 0 1 1 0 0 0 0 1 1 0 0 1 1 1 1 1 0 0 1 0 1 0 1\n",
      " 0 1 0 1 1 1 1 0 1 1 1 1 0 1 0 1 1 1 0 0 0 1 0 0 1 0 1 1 1 0 0 0 1 0 0 1 0\n",
      " 1 1 1 1 0 0 0 0 1 1 1 0 1 0 1 1 0 0 1 0 0 0 1 0 1 0 0 1 1 1 1 1 1]\n",
      "[0 1 0 0 1 0 1 1 1 0 1 0 0 0 1 0 0 0 0 0 1 1 0 1 0 0 1 0 1 1 1 1 0 0 0 1 1\n",
      " 0 1 0 1 0 0 0 0 0 1 0 0 1 0 1 1 0 1 0 0 1 1 0 0 0 0 0 1 0 0 0 0 0 1 0 0 0\n",
      " 1 1 1 0 1 0 0 1 0 0 0 0 1 0 0 0 1 0 1 0 1 1 0 0 1 0 1 1 1 1 0 1 0 0 0 1 0\n",
      " 0 0 0 1 1 0 0 0 1 0 0 0 1 0 0 1 1 0 0 0 1 1 0 1 0 1 0 0 0 1 1 0 0 1 0 1 0\n",
      " 1 0 0 1 0 0 0 0 0 0 1 1 1 0 1 1 0 0 0 0 0 0 1 0 1 1 0 0 0 0 0 0 0 0 1 0 0\n",
      " 0 0 0 0 1 1 0 0 1 0 1 0 1 1 1 1 1 1 1 0 1 0 0 1 0 1 1 0 1 1 1 0 0 1 1 1 1\n",
      " 1 1 1 1 1 1 0 0 1 0 1 1 1 1 1 1 1 0 1 1 1 0 0 0 1 0 0 1 1 1 0 1 1 1 0 0 1\n",
      " 0 0 0 1 0 1 0 1 1 0 1 0 0 1 0 1 1 0 0 0 0 1 1 0 0 1 1 1 1 1 0 0 1 0 1 0 1\n",
      " 0 1 0 1 1 1 1 0 1 1 1 1 0 1 0 1 1 1 0 0 0 1 0 0 1 0 1 1 1 0 0 0 1 0 0 1 0\n",
      " 1 1 1 1 0 0 0 0 1 1 1 0 1 0 1 1 0 0 1 0 0 0 1 0 1 0 0 1 1 1 1 1 1]\n",
      "[0 1 0 0 1 0 1 1 1 0 1 0 0 0 1 0 0 0 0 0 1 1 0 1 0 0 1 0 1 1 1 1 0 0 0 1 1\n",
      " 0 1 0 1 0 0 0 0 0 1 0 0 1 0 1 1 0 1 0 0 1 1 0 0 0 0 0 1 0 0 0 0 0 1 0 0 0\n",
      " 1 1 1 0 1 0 0 1 0 0 0 0 1 0 0 0 1 0 1 0 1 1 0 0 1 0 1 1 1 1 0 1 0 0 0 1 0\n",
      " 0 0 0 1 1 0 0 0 1 0 0 0 1 0 0 1 1 0 0 0 1 1 0 1 0 1 0 0 0 1 1 0 0 1 0 1 0\n",
      " 1 0 0 1 0 0 0 0 0 0 1 1 1 0 1 1 0 0 0 0 0 0 1 0 1 1 0 0 0 0 0 0 0 0 1 0 0\n",
      " 0 0 0 0 1 1 0 0 1 0 1 0 1 1 1 1 1 1 1 0 1 0 0 1 0 1 1 0 1 1 1 0 0 1 1 1 1\n",
      " 1 1 1 1 1 1 0 0 1 0 1 1 1 1 1 1 1 0 1 1 1 0 0 0 1 0 0 1 1 1 0 1 1 1 0 0 1\n",
      " 0 0 0 1 0 1 0 1 1 0 1 0 0 1 0 1 1 0 0 0 0 1 1 0 0 1 1 1 1 1 0 0 1 0 1 0 1\n",
      " 0 1 0 1 1 1 1 0 1 1 1 1 0 1 0 1 1 1 0 0 0 1 0 0 1 0 1 1 1 0 0 0 1 0 0 1 0\n",
      " 1 1 1 1 0 0 0 0 1 1 1 0 1 0 1 1 0 0 1 0 0 0 1 0 1 0 0 1 1 1 1 1 1]\n",
      "[0 1 0 0 1 0 1 1 1 0 1 0 0 0 1 0 0 0 0 0 1 1 0 1 0 0 1 0 1 1 1 1 0 0 0 1 1\n",
      " 0 1 0 1 0 0 0 0 0 1 0 0 1 0 1 1 0 1 0 0 1 1 0 0 0 0 0 1 0 0 0 0 0 1 0 0 0\n",
      " 1 1 1 0 1 0 0 1 0 0 0 0 1 0 0 0 1 0 1 0 1 1 0 0 1 0 1 1 1 1 0 1 0 0 0 1 0\n",
      " 0 0 0 1 1 0 0 0 1 0 0 0 1 0 0 1 1 0 0 0 1 1 0 1 0 1 0 0 0 1 1 0 0 1 0 1 0\n",
      " 1 0 0 1 0 0 0 0 0 0 1 1 1 0 1 1 0 0 0 0 0 0 1 0 1 1 0 0 0 0 0 0 0 0 1 0 0\n",
      " 0 0 0 0 1 1 0 0 1 0 1 0 1 1 1 1 1 1 1 0 1 0 0 1 0 1 1 0 1 1 1 0 0 1 1 1 1\n",
      " 1 1 1 1 1 1 0 0 1 0 1 1 1 1 1 1 1 0 1 1 1 0 0 0 1 0 0 1 1 1 0 1 1 1 0 0 1\n",
      " 0 0 0 1 0 1 0 1 1 0 1 0 0 1 0 1 1 0 0 0 0 1 1 0 0 1 1 1 1 1 0 0 1 0 1 0 1\n",
      " 0 1 0 1 1 1 1 0 1 1 1 1 0 1 0 1 1 1 0 0 0 1 0 0 1 0 1 1 1 0 0 0 1 0 0 1 0\n",
      " 1 1 1 1 0 0 0 0 1 1 1 0 1 0 1 1 0 0 1 0 0 0 1 0 1 0 0 1 1 1 1 1 1]\n",
      "[0 1 0 0 1 0 1 1 1 0 1 0 0 0 1 0 0 0 0 0 1 1 0 1 0 0 1 0 1 1 1 1 0 0 0 1 1\n",
      " 0 1 0 1 0 0 0 0 0 1 0 0 1 0 1 1 0 1 0 0 1 1 0 0 0 0 0 1 0 0 0 0 0 1 0 0 0\n",
      " 1 1 1 0 1 0 0 1 0 0 0 0 1 0 0 0 1 0 1 0 1 1 0 0 1 0 1 1 1 1 0 1 0 0 0 1 0\n",
      " 0 0 0 1 1 0 0 0 1 0 0 0 1 0 0 1 1 0 0 0 1 1 0 1 0 1 0 0 0 1 1 0 0 1 0 1 0\n",
      " 1 0 0 1 0 0 0 0 0 0 1 1 1 0 1 1 0 0 0 0 0 0 1 0 1 1 0 0 0 0 0 0 0 0 1 0 0\n",
      " 0 0 0 0 1 1 0 0 1 0 1 0 1 1 1 1 1 1 1 0 1 0 0 1 0 1 1 0 1 1 1 0 0 1 1 1 1\n",
      " 1 1 1 1 1 1 0 0 1 0 1 1 1 1 1 1 1 0 1 1 1 0 0 0 1 0 0 1 1 1 0 1 1 1 0 0 1\n",
      " 0 0 0 1 0 1 0 1 1 0 1 0 0 1 0 1 1 0 0 0 0 1 1 0 0 1 1 1 1 1 0 0 1 0 1 0 1\n",
      " 0 1 0 1 1 1 1 0 1 1 1 1 0 1 0 1 1 1 0 0 0 1 0 0 1 0 1 1 1 0 0 0 1 0 0 1 0\n",
      " 1 1 1 1 0 0 0 0 1 1 1 0 1 0 1 1 0 0 1 0 0 0 1 0 1 0 0 1 1 1 1 1 1]\n",
      "[0 1 0 0 1 0 1 1 1 0 1 0 0 0 1 0 0 0 0 0 1 1 0 1 0 0 1 0 1 1 1 1 0 0 0 1 1\n",
      " 0 1 0 1 0 0 0 0 0 1 0 0 1 0 1 1 0 1 0 0 1 1 0 0 0 0 0 1 0 0 0 0 0 1 0 0 0\n",
      " 1 1 1 0 1 0 0 1 0 0 0 0 1 0 0 0 1 0 1 0 1 1 0 0 1 0 1 1 1 1 0 1 0 0 0 1 0\n",
      " 0 0 0 1 1 0 0 0 1 0 0 0 1 0 0 1 1 0 0 0 1 1 0 1 0 1 0 0 0 1 1 0 0 1 0 1 0\n",
      " 1 0 0 1 0 0 0 0 0 0 1 1 1 0 1 1 0 0 0 0 0 0 1 0 1 1 0 0 0 0 0 0 0 0 1 0 0\n",
      " 0 0 0 0 1 1 0 0 1 0 1 0 1 1 1 1 1 1 1 0 1 0 0 1 0 1 1 0 1 1 1 0 0 1 1 1 1\n",
      " 1 1 1 1 1 1 0 0 1 0 1 1 1 1 1 1 1 0 1 1 1 0 0 0 1 0 0 1 1 1 0 1 1 1 0 0 1\n",
      " 0 0 0 1 0 1 0 1 1 0 1 0 0 1 0 1 1 0 0 0 0 1 1 0 0 1 1 1 1 1 0 0 1 0 1 0 1\n",
      " 0 1 0 1 1 1 1 0 1 1 1 1 0 1 0 1 1 1 0 0 0 1 0 0 1 0 1 1 1 0 0 0 1 0 0 1 0\n",
      " 1 1 1 1 0 0 0 0 1 1 1 0 1 0 1 1 0 0 1 0 0 0 1 0 1 0 0 1 1 1 1 1 1]\n",
      "[0 1 0 0 1 0 1 1 1 0 1 0 0 0 1 0 0 0 0 0 1 1 0 1 0 0 1 0 1 1 1 1 0 0 0 1 1\n",
      " 0 1 0 1 0 0 0 0 0 1 0 0 1 0 1 1 0 1 0 0 1 1 0 0 0 0 0 1 0 0 0 0 0 1 0 0 0\n",
      " 1 1 1 0 1 0 0 1 0 0 0 0 1 0 0 0 1 0 1 0 1 1 0 0 1 0 1 1 1 1 0 1 0 0 0 1 0\n",
      " 0 0 0 1 1 0 0 0 1 0 0 0 1 0 0 1 1 0 0 0 1 1 0 1 0 1 0 0 0 1 1 0 0 1 0 1 0\n",
      " 1 0 0 1 0 0 0 0 0 0 1 1 1 0 1 1 0 0 0 0 0 0 1 0 1 1 0 0 0 0 0 0 0 0 1 0 0\n",
      " 0 0 0 0 1 1 0 0 1 0 1 0 1 1 1 1 1 1 1 0 1 0 0 1 0 1 1 0 1 1 1 0 0 1 1 1 1\n",
      " 1 1 1 1 1 1 0 0 1 0 1 1 1 1 1 1 1 0 1 1 1 0 0 0 1 0 0 1 1 1 0 1 1 1 0 0 1\n",
      " 0 0 0 1 0 1 0 1 1 0 1 0 0 1 0 1 1 0 0 0 0 1 1 0 0 1 1 1 1 1 0 0 1 0 1 0 1\n",
      " 0 1 0 1 1 1 1 0 1 1 1 1 0 1 0 1 1 1 0 0 0 1 0 0 1 0 1 1 1 0 0 0 1 0 0 1 0\n",
      " 1 1 1 1 0 0 0 0 1 1 1 0 1 0 1 1 0 0 1 0 0 0 1 0 1 0 0 1 1 1 1 1 1]\n",
      "[0 1 0 0 1 0 1 1 1 0 1 0 0 0 1 0 0 0 0 0 1 1 0 1 0 0 1 0 1 1 1 1 0 0 0 1 1\n",
      " 0 1 0 1 0 0 0 0 0 1 0 0 1 0 1 1 0 1 0 0 1 1 0 0 0 0 0 1 0 0 0 0 0 1 0 0 0\n",
      " 1 1 1 0 1 0 0 1 0 0 0 0 1 0 0 0 1 0 1 0 1 1 0 0 1 0 1 1 1 1 0 1 0 0 0 1 0\n",
      " 0 0 0 1 1 0 0 0 1 0 0 0 1 0 0 1 1 0 0 0 1 1 0 1 0 1 0 0 0 1 1 0 0 1 0 1 0\n",
      " 1 0 0 1 0 0 0 0 0 0 1 1 1 0 1 1 0 0 0 0 0 0 1 0 1 1 0 0 0 0 0 0 0 0 1 0 0\n",
      " 0 0 0 0 1 1 0 0 1 0 1 0 1 1 1 1 1 1 1 0 1 0 0 1 0 1 1 0 1 1 1 0 0 1 1 1 1\n",
      " 1 1 1 1 1 1 0 0 1 0 1 1 1 1 1 1 1 0 1 1 1 0 0 0 1 0 0 1 1 1 0 1 1 1 0 0 1\n",
      " 0 0 0 1 0 1 0 1 1 0 1 0 0 1 0 1 1 0 0 0 0 1 1 0 0 1 1 1 1 1 0 0 1 0 1 0 1\n",
      " 0 1 0 1 1 1 1 0 1 1 1 1 0 1 0 1 1 1 0 0 0 1 0 0 1 0 1 1 1 0 0 0 1 0 0 1 0\n",
      " 1 1 1 1 0 0 0 0 1 1 1 0 1 0 1 1 0 0 1 0 0 0 1 0 1 0 0 1 1 1 1 1 1]\n",
      "WARNING:tensorflow:5 out of the last 36 calls to <function Model.make_train_function.<locals>.train_function at 0x29d252040> triggered tf.function retracing. Tracing is expensive and the excessive number of tracings could be due to (1) creating @tf.function repeatedly in a loop, (2) passing tensors with different shapes, (3) passing Python objects instead of tensors. For (1), please define your @tf.function outside of the loop. For (2), @tf.function has reduce_retracing=True option that can avoid unnecessary retracing. For (3), please refer to https://www.tensorflow.org/guide/function#controlling_retracing and https://www.tensorflow.org/api_docs/python/tf/function for  more details.\n",
      "WARNING:tensorflow:5 out of the last 12 calls to <function Model.make_train_function.<locals>.train_function at 0x29d252dc0> triggered tf.function retracing. Tracing is expensive and the excessive number of tracings could be due to (1) creating @tf.function repeatedly in a loop, (2) passing tensors with different shapes, (3) passing Python objects instead of tensors. For (1), please define your @tf.function outside of the loop. For (2), @tf.function has reduce_retracing=True option that can avoid unnecessary retracing. For (3), please refer to https://www.tensorflow.org/guide/function#controlling_retracing and https://www.tensorflow.org/api_docs/python/tf/function for  more details.\n",
      "12/12 [==============================] - 1s 66ms/step\n"
     ]
    },
    {
     "name": "stderr",
     "output_type": "stream",
     "text": [
      "[I 2023-06-29 12:32:39,839] Trial 2 finished with value: 0.5273224043715847 and parameters: {'n_conv': 1, 'n_hidden': 1, 'hidden_nodes': 194, 'dropout': 0.020883134272913797, 'filters': 6, 'kernel_size': 9, 'batch_size': 43, 'epochs': 17}. Best is trial 2 with value: 0.5273224043715847.\n"
     ]
    },
    {
     "name": "stdout",
     "output_type": "stream",
     "text": [
      "Running little bitch having n_conv=0, dropout=0.0973785864020445, hidden_nodes=188\n",
      "[0 1 0 0 1 0 1 1 1 0 1 0 0 0 1 0 0 0 0 0 1 1 0 1 0 0 1 0 1 1 1 1 0 0 0 1 1\n",
      " 0 1 0 1 0 0 0 0 0 1 0 0 1 0 1 1 0 1 0 0 1 1 0 0 0 0 0 1 0 0 0 0 0 1 0 0 0\n",
      " 1 1 1 0 1 0 0 1 0 0 0 0 1 0 0 0 1 0 1 0 1 1 0 0 1 0 1 1 1 1 0 1 0 0 0 1 0\n",
      " 0 0 0 1 1 0 0 0 1 0 0 0 1 0 0 1 1 0 0 0 1 1 0 1 0 1 0 0 0 1 1 0 0 1 0 1 0\n",
      " 1 0 0 1 0 0 0 0 0 0 1 1 1 0 1 1 0 0 0 0 0 0 1 0 1 1 0 0 0 0 0 0 0 0 1 0 0\n",
      " 0 0 0 0 1 1 0 0 1 0 1 0 1 1 1 1 1 1 1 0 1 0 0 1 0 1 1 0 1 1 1 0 0 1 1 1 1\n",
      " 1 1 1 1 1 1 0 0 1 0 1 1 1 1 1 1 1 0 1 1 1 0 0 0 1 0 0 1 1 1 0 1 1 1 0 0 1\n",
      " 0 0 0 1 0 1 0 1 1 0 1 0 0 1 0 1 1 0 0 0 0 1 1 0 0 1 1 1 1 1 0 0 1 0 1 0 1\n",
      " 0 1 0 1 1 1 1 0 1 1 1 1 0 1 0 1 1 1 0 0 0 1 0 0 1 0 1 1 1 0 0 0 1 0 0 1 0\n",
      " 1 1 1 1 0 0 0 0 1 1 1 0 1 0 1 1 0 0 1 0 0 0 1 0 1 0 0 1 1 1 1 1 1]\n",
      "12/12 [==============================] - 1s 43ms/step\n"
     ]
    },
    {
     "name": "stderr",
     "output_type": "stream",
     "text": [
      "[I 2023-06-29 12:34:13,388] Trial 0 finished with value: 0.5 and parameters: {'n_conv': 1, 'n_hidden': 1, 'hidden_nodes': 213, 'dropout': 0.05425544700159024, 'filters': 7, 'kernel_size': 7, 'batch_size': 26, 'epochs': 26}. Best is trial 2 with value: 0.5273224043715847.\n"
     ]
    },
    {
     "name": "stdout",
     "output_type": "stream",
     "text": [
      "Running little bitch having n_conv=3, dropout=0.08928471319082293, hidden_nodes=182\n",
      "[0 1 0 0 1 0 1 1 1 0 1 0 0 0 1 0 0 0 0 0 1 1 0 1 0 0 1 0 1 1 1 1 0 0 0 1 1\n",
      " 0 1 0 1 0 0 0 0 0 1 0 0 1 0 1 1 0 1 0 0 1 1 0 0 0 0 0 1 0 0 0 0 0 1 0 0 0\n",
      " 1 1 1 0 1 0 0 1 0 0 0 0 1 0 0 0 1 0 1 0 1 1 0 0 1 0 1 1 1 1 0 1 0 0 0 1 0\n",
      " 0 0 0 1 1 0 0 0 1 0 0 0 1 0 0 1 1 0 0 0 1 1 0 1 0 1 0 0 0 1 1 0 0 1 0 1 0\n",
      " 1 0 0 1 0 0 0 0 0 0 1 1 1 0 1 1 0 0 0 0 0 0 1 0 1 1 0 0 0 0 0 0 0 0 1 0 0\n",
      " 0 0 0 0 1 1 0 0 1 0 1 0 1 1 1 1 1 1 1 0 1 0 0 1 0 1 1 0 1 1 1 0 0 1 1 1 1\n",
      " 1 1 1 1 1 1 0 0 1 0 1 1 1 1 1 1 1 0 1 1 1 0 0 0 1 0 0 1 1 1 0 1 1 1 0 0 1\n",
      " 0 0 0 1 0 1 0 1 1 0 1 0 0 1 0 1 1 0 0 0 0 1 1 0 0 1 1 1 1 1 0 0 1 0 1 0 1\n",
      " 0 1 0 1 1 1 1 0 1 1 1 1 0 1 0 1 1 1 0 0 0 1 0 0 1 0 1 1 1 0 0 0 1 0 0 1 0\n",
      " 1 1 1 1 0 0 0 0 1 1 1 0 1 0 1 1 0 0 1 0 0 0 1 0 1 0 0 1 1 1 1 1 1]\n",
      "12/12 [==============================] - 1s 41ms/step\n"
     ]
    },
    {
     "name": "stderr",
     "output_type": "stream",
     "text": [
      "[I 2023-06-29 12:34:34,754] Trial 5 finished with value: 0.5491803278688525 and parameters: {'n_conv': 0, 'n_hidden': 0, 'hidden_nodes': 101, 'dropout': 0.13099018273657978, 'filters': 8, 'kernel_size': 11, 'batch_size': 33, 'epochs': 53}. Best is trial 5 with value: 0.5491803278688525.\n"
     ]
    },
    {
     "ename": "KeyboardInterrupt",
     "evalue": "",
     "output_type": "error",
     "traceback": [
      "\u001B[0;31m---------------------------------------------------------------------------\u001B[0m",
      "\u001B[0;31mKeyboardInterrupt\u001B[0m                         Traceback (most recent call last)",
      "File \u001B[0;32m~/Desktop/DM2/venv/lib/python3.9/site-packages/optuna/study/_optimize.py:100\u001B[0m, in \u001B[0;36m_optimize\u001B[0;34m(study, func, n_trials, timeout, n_jobs, catch, callbacks, gc_after_trial, show_progress_bar)\u001B[0m\n\u001B[1;32m     99\u001B[0m \u001B[38;5;28;01mif\u001B[39;00m \u001B[38;5;28mlen\u001B[39m(futures) \u001B[38;5;241m>\u001B[39m\u001B[38;5;241m=\u001B[39m n_jobs:\n\u001B[0;32m--> 100\u001B[0m     completed, futures \u001B[38;5;241m=\u001B[39m \u001B[43mwait\u001B[49m\u001B[43m(\u001B[49m\u001B[43mfutures\u001B[49m\u001B[43m,\u001B[49m\u001B[43m \u001B[49m\u001B[43mreturn_when\u001B[49m\u001B[38;5;241;43m=\u001B[39;49m\u001B[43mFIRST_COMPLETED\u001B[49m\u001B[43m)\u001B[49m\n\u001B[1;32m    101\u001B[0m     \u001B[38;5;66;03m# Raise if exception occurred in executing the completed futures.\u001B[39;00m\n",
      "File \u001B[0;32m/Library/Developer/CommandLineTools/Library/Frameworks/Python3.framework/Versions/3.9/lib/python3.9/concurrent/futures/_base.py:306\u001B[0m, in \u001B[0;36mwait\u001B[0;34m(fs, timeout, return_when)\u001B[0m\n\u001B[1;32m    304\u001B[0m     waiter \u001B[38;5;241m=\u001B[39m _create_and_install_waiters(fs, return_when)\n\u001B[0;32m--> 306\u001B[0m \u001B[43mwaiter\u001B[49m\u001B[38;5;241;43m.\u001B[39;49m\u001B[43mevent\u001B[49m\u001B[38;5;241;43m.\u001B[39;49m\u001B[43mwait\u001B[49m\u001B[43m(\u001B[49m\u001B[43mtimeout\u001B[49m\u001B[43m)\u001B[49m\n\u001B[1;32m    307\u001B[0m \u001B[38;5;28;01mfor\u001B[39;00m f \u001B[38;5;129;01min\u001B[39;00m fs:\n",
      "File \u001B[0;32m/Library/Developer/CommandLineTools/Library/Frameworks/Python3.framework/Versions/3.9/lib/python3.9/threading.py:574\u001B[0m, in \u001B[0;36mEvent.wait\u001B[0;34m(self, timeout)\u001B[0m\n\u001B[1;32m    573\u001B[0m \u001B[38;5;28;01mif\u001B[39;00m \u001B[38;5;129;01mnot\u001B[39;00m signaled:\n\u001B[0;32m--> 574\u001B[0m     signaled \u001B[38;5;241m=\u001B[39m \u001B[38;5;28;43mself\u001B[39;49m\u001B[38;5;241;43m.\u001B[39;49m\u001B[43m_cond\u001B[49m\u001B[38;5;241;43m.\u001B[39;49m\u001B[43mwait\u001B[49m\u001B[43m(\u001B[49m\u001B[43mtimeout\u001B[49m\u001B[43m)\u001B[49m\n\u001B[1;32m    575\u001B[0m \u001B[38;5;28;01mreturn\u001B[39;00m signaled\n",
      "File \u001B[0;32m/Library/Developer/CommandLineTools/Library/Frameworks/Python3.framework/Versions/3.9/lib/python3.9/threading.py:312\u001B[0m, in \u001B[0;36mCondition.wait\u001B[0;34m(self, timeout)\u001B[0m\n\u001B[1;32m    311\u001B[0m \u001B[38;5;28;01mif\u001B[39;00m timeout \u001B[38;5;129;01mis\u001B[39;00m \u001B[38;5;28;01mNone\u001B[39;00m:\n\u001B[0;32m--> 312\u001B[0m     \u001B[43mwaiter\u001B[49m\u001B[38;5;241;43m.\u001B[39;49m\u001B[43macquire\u001B[49m\u001B[43m(\u001B[49m\u001B[43m)\u001B[49m\n\u001B[1;32m    313\u001B[0m     gotit \u001B[38;5;241m=\u001B[39m \u001B[38;5;28;01mTrue\u001B[39;00m\n",
      "\u001B[0;31mKeyboardInterrupt\u001B[0m: ",
      "\nDuring handling of the above exception, another exception occurred:\n",
      "\u001B[0;31mKeyboardInterrupt\u001B[0m                         Traceback (most recent call last)",
      "Cell \u001B[0;32mIn[12], line 37\u001B[0m\n\u001B[1;32m     33\u001B[0m     \u001B[38;5;28;01mreturn\u001B[39;00m error\n\u001B[1;32m     36\u001B[0m study \u001B[38;5;241m=\u001B[39m optuna\u001B[38;5;241m.\u001B[39mcreate_study(direction\u001B[38;5;241m=\u001B[39m\u001B[38;5;124m'\u001B[39m\u001B[38;5;124mmaximize\u001B[39m\u001B[38;5;124m'\u001B[39m)\n\u001B[0;32m---> 37\u001B[0m \u001B[43mstudy\u001B[49m\u001B[38;5;241;43m.\u001B[39;49m\u001B[43moptimize\u001B[49m\u001B[43m(\u001B[49m\u001B[43mobjective_fun\u001B[49m\u001B[43m,\u001B[49m\u001B[43m \u001B[49m\u001B[43mn_trials\u001B[49m\u001B[38;5;241;43m=\u001B[39;49m\u001B[38;5;241;43m150\u001B[39;49m\u001B[43m,\u001B[49m\u001B[43m \u001B[49m\u001B[43mn_jobs\u001B[49m\u001B[38;5;241;43m=\u001B[39;49m\u001B[38;5;241;43m-\u001B[39;49m\u001B[38;5;241;43m1\u001B[39;49m\u001B[43m,\u001B[49m\u001B[43m \u001B[49m\u001B[43mcatch\u001B[49m\u001B[38;5;241;43m=\u001B[39;49m\u001B[38;5;167;43;01mValueError\u001B[39;49;00m\u001B[43m)\u001B[49m\n",
      "File \u001B[0;32m~/Desktop/DM2/venv/lib/python3.9/site-packages/optuna/study/study.py:443\u001B[0m, in \u001B[0;36mStudy.optimize\u001B[0;34m(self, func, n_trials, timeout, n_jobs, catch, callbacks, gc_after_trial, show_progress_bar)\u001B[0m\n\u001B[1;32m    339\u001B[0m \u001B[38;5;28;01mdef\u001B[39;00m \u001B[38;5;21moptimize\u001B[39m(\n\u001B[1;32m    340\u001B[0m     \u001B[38;5;28mself\u001B[39m,\n\u001B[1;32m    341\u001B[0m     func: ObjectiveFuncType,\n\u001B[0;32m   (...)\u001B[0m\n\u001B[1;32m    348\u001B[0m     show_progress_bar: \u001B[38;5;28mbool\u001B[39m \u001B[38;5;241m=\u001B[39m \u001B[38;5;28;01mFalse\u001B[39;00m,\n\u001B[1;32m    349\u001B[0m ) \u001B[38;5;241m-\u001B[39m\u001B[38;5;241m>\u001B[39m \u001B[38;5;28;01mNone\u001B[39;00m:\n\u001B[1;32m    350\u001B[0m \u001B[38;5;250m    \u001B[39m\u001B[38;5;124;03m\"\"\"Optimize an objective function.\u001B[39;00m\n\u001B[1;32m    351\u001B[0m \n\u001B[1;32m    352\u001B[0m \u001B[38;5;124;03m    Optimization is done by choosing a suitable set of hyperparameter values from a given\u001B[39;00m\n\u001B[0;32m   (...)\u001B[0m\n\u001B[1;32m    440\u001B[0m \u001B[38;5;124;03m            If nested invocation of this method occurs.\u001B[39;00m\n\u001B[1;32m    441\u001B[0m \u001B[38;5;124;03m    \"\"\"\u001B[39;00m\n\u001B[0;32m--> 443\u001B[0m     \u001B[43m_optimize\u001B[49m\u001B[43m(\u001B[49m\n\u001B[1;32m    444\u001B[0m \u001B[43m        \u001B[49m\u001B[43mstudy\u001B[49m\u001B[38;5;241;43m=\u001B[39;49m\u001B[38;5;28;43mself\u001B[39;49m\u001B[43m,\u001B[49m\n\u001B[1;32m    445\u001B[0m \u001B[43m        \u001B[49m\u001B[43mfunc\u001B[49m\u001B[38;5;241;43m=\u001B[39;49m\u001B[43mfunc\u001B[49m\u001B[43m,\u001B[49m\n\u001B[1;32m    446\u001B[0m \u001B[43m        \u001B[49m\u001B[43mn_trials\u001B[49m\u001B[38;5;241;43m=\u001B[39;49m\u001B[43mn_trials\u001B[49m\u001B[43m,\u001B[49m\n\u001B[1;32m    447\u001B[0m \u001B[43m        \u001B[49m\u001B[43mtimeout\u001B[49m\u001B[38;5;241;43m=\u001B[39;49m\u001B[43mtimeout\u001B[49m\u001B[43m,\u001B[49m\n\u001B[1;32m    448\u001B[0m \u001B[43m        \u001B[49m\u001B[43mn_jobs\u001B[49m\u001B[38;5;241;43m=\u001B[39;49m\u001B[43mn_jobs\u001B[49m\u001B[43m,\u001B[49m\n\u001B[1;32m    449\u001B[0m \u001B[43m        \u001B[49m\u001B[43mcatch\u001B[49m\u001B[38;5;241;43m=\u001B[39;49m\u001B[38;5;28;43mtuple\u001B[39;49m\u001B[43m(\u001B[49m\u001B[43mcatch\u001B[49m\u001B[43m)\u001B[49m\u001B[43m \u001B[49m\u001B[38;5;28;43;01mif\u001B[39;49;00m\u001B[43m \u001B[49m\u001B[38;5;28;43misinstance\u001B[39;49m\u001B[43m(\u001B[49m\u001B[43mcatch\u001B[49m\u001B[43m,\u001B[49m\u001B[43m \u001B[49m\u001B[43mIterable\u001B[49m\u001B[43m)\u001B[49m\u001B[43m \u001B[49m\u001B[38;5;28;43;01melse\u001B[39;49;00m\u001B[43m \u001B[49m\u001B[43m(\u001B[49m\u001B[43mcatch\u001B[49m\u001B[43m,\u001B[49m\u001B[43m)\u001B[49m\u001B[43m,\u001B[49m\n\u001B[1;32m    450\u001B[0m \u001B[43m        \u001B[49m\u001B[43mcallbacks\u001B[49m\u001B[38;5;241;43m=\u001B[39;49m\u001B[43mcallbacks\u001B[49m\u001B[43m,\u001B[49m\n\u001B[1;32m    451\u001B[0m \u001B[43m        \u001B[49m\u001B[43mgc_after_trial\u001B[49m\u001B[38;5;241;43m=\u001B[39;49m\u001B[43mgc_after_trial\u001B[49m\u001B[43m,\u001B[49m\n\u001B[1;32m    452\u001B[0m \u001B[43m        \u001B[49m\u001B[43mshow_progress_bar\u001B[49m\u001B[38;5;241;43m=\u001B[39;49m\u001B[43mshow_progress_bar\u001B[49m\u001B[43m,\u001B[49m\n\u001B[1;32m    453\u001B[0m \u001B[43m    \u001B[49m\u001B[43m)\u001B[49m\n",
      "File \u001B[0;32m~/Desktop/DM2/venv/lib/python3.9/site-packages/optuna/study/_optimize.py:105\u001B[0m, in \u001B[0;36m_optimize\u001B[0;34m(study, func, n_trials, timeout, n_jobs, catch, callbacks, gc_after_trial, show_progress_bar)\u001B[0m\n\u001B[1;32m    102\u001B[0m                     \u001B[38;5;28;01mfor\u001B[39;00m f \u001B[38;5;129;01min\u001B[39;00m completed:\n\u001B[1;32m    103\u001B[0m                         f\u001B[38;5;241m.\u001B[39mresult()\n\u001B[0;32m--> 105\u001B[0m                 futures\u001B[38;5;241m.\u001B[39madd(\n\u001B[1;32m    106\u001B[0m                     executor\u001B[38;5;241m.\u001B[39msubmit(\n\u001B[1;32m    107\u001B[0m                         _optimize_sequential,\n\u001B[1;32m    108\u001B[0m                         study,\n\u001B[1;32m    109\u001B[0m                         func,\n\u001B[1;32m    110\u001B[0m                         \u001B[38;5;241m1\u001B[39m,\n\u001B[1;32m    111\u001B[0m                         timeout,\n\u001B[1;32m    112\u001B[0m                         catch,\n\u001B[1;32m    113\u001B[0m                         callbacks,\n\u001B[1;32m    114\u001B[0m                         gc_after_trial,\n\u001B[1;32m    115\u001B[0m                         \u001B[38;5;28;01mTrue\u001B[39;00m,\n\u001B[1;32m    116\u001B[0m                         time_start,\n\u001B[1;32m    117\u001B[0m                         progress_bar,\n\u001B[1;32m    118\u001B[0m                     )\n\u001B[1;32m    119\u001B[0m                 )\n\u001B[1;32m    120\u001B[0m \u001B[38;5;28;01mfinally\u001B[39;00m:\n\u001B[1;32m    121\u001B[0m     study\u001B[38;5;241m.\u001B[39m_thread_local\u001B[38;5;241m.\u001B[39min_optimize_loop \u001B[38;5;241m=\u001B[39m \u001B[38;5;28;01mFalse\u001B[39;00m\n",
      "File \u001B[0;32m/Library/Developer/CommandLineTools/Library/Frameworks/Python3.framework/Versions/3.9/lib/python3.9/concurrent/futures/_base.py:636\u001B[0m, in \u001B[0;36mExecutor.__exit__\u001B[0;34m(self, exc_type, exc_val, exc_tb)\u001B[0m\n\u001B[1;32m    635\u001B[0m \u001B[38;5;28;01mdef\u001B[39;00m \u001B[38;5;21m__exit__\u001B[39m(\u001B[38;5;28mself\u001B[39m, exc_type, exc_val, exc_tb):\n\u001B[0;32m--> 636\u001B[0m     \u001B[38;5;28;43mself\u001B[39;49m\u001B[38;5;241;43m.\u001B[39;49m\u001B[43mshutdown\u001B[49m\u001B[43m(\u001B[49m\u001B[43mwait\u001B[49m\u001B[38;5;241;43m=\u001B[39;49m\u001B[38;5;28;43;01mTrue\u001B[39;49;00m\u001B[43m)\u001B[49m\n\u001B[1;32m    637\u001B[0m     \u001B[38;5;28;01mreturn\u001B[39;00m \u001B[38;5;28;01mFalse\u001B[39;00m\n",
      "File \u001B[0;32m/Library/Developer/CommandLineTools/Library/Frameworks/Python3.framework/Versions/3.9/lib/python3.9/concurrent/futures/thread.py:229\u001B[0m, in \u001B[0;36mThreadPoolExecutor.shutdown\u001B[0;34m(self, wait, cancel_futures)\u001B[0m\n\u001B[1;32m    227\u001B[0m \u001B[38;5;28;01mif\u001B[39;00m wait:\n\u001B[1;32m    228\u001B[0m     \u001B[38;5;28;01mfor\u001B[39;00m t \u001B[38;5;129;01min\u001B[39;00m \u001B[38;5;28mself\u001B[39m\u001B[38;5;241m.\u001B[39m_threads:\n\u001B[0;32m--> 229\u001B[0m         \u001B[43mt\u001B[49m\u001B[38;5;241;43m.\u001B[39;49m\u001B[43mjoin\u001B[49m\u001B[43m(\u001B[49m\u001B[43m)\u001B[49m\n",
      "File \u001B[0;32m/Library/Developer/CommandLineTools/Library/Frameworks/Python3.framework/Versions/3.9/lib/python3.9/threading.py:1053\u001B[0m, in \u001B[0;36mThread.join\u001B[0;34m(self, timeout)\u001B[0m\n\u001B[1;32m   1050\u001B[0m     \u001B[38;5;28;01mraise\u001B[39;00m \u001B[38;5;167;01mRuntimeError\u001B[39;00m(\u001B[38;5;124m\"\u001B[39m\u001B[38;5;124mcannot join current thread\u001B[39m\u001B[38;5;124m\"\u001B[39m)\n\u001B[1;32m   1052\u001B[0m \u001B[38;5;28;01mif\u001B[39;00m timeout \u001B[38;5;129;01mis\u001B[39;00m \u001B[38;5;28;01mNone\u001B[39;00m:\n\u001B[0;32m-> 1053\u001B[0m     \u001B[38;5;28;43mself\u001B[39;49m\u001B[38;5;241;43m.\u001B[39;49m\u001B[43m_wait_for_tstate_lock\u001B[49m\u001B[43m(\u001B[49m\u001B[43m)\u001B[49m\n\u001B[1;32m   1054\u001B[0m \u001B[38;5;28;01melse\u001B[39;00m:\n\u001B[1;32m   1055\u001B[0m     \u001B[38;5;66;03m# the behavior of a negative timeout isn't documented, but\u001B[39;00m\n\u001B[1;32m   1056\u001B[0m     \u001B[38;5;66;03m# historically .join(timeout=x) for x<0 has acted as if timeout=0\u001B[39;00m\n\u001B[1;32m   1057\u001B[0m     \u001B[38;5;28mself\u001B[39m\u001B[38;5;241m.\u001B[39m_wait_for_tstate_lock(timeout\u001B[38;5;241m=\u001B[39m\u001B[38;5;28mmax\u001B[39m(timeout, \u001B[38;5;241m0\u001B[39m))\n",
      "File \u001B[0;32m/Library/Developer/CommandLineTools/Library/Frameworks/Python3.framework/Versions/3.9/lib/python3.9/threading.py:1069\u001B[0m, in \u001B[0;36mThread._wait_for_tstate_lock\u001B[0;34m(self, block, timeout)\u001B[0m\n\u001B[1;32m   1067\u001B[0m \u001B[38;5;28;01mif\u001B[39;00m lock \u001B[38;5;129;01mis\u001B[39;00m \u001B[38;5;28;01mNone\u001B[39;00m:  \u001B[38;5;66;03m# already determined that the C code is done\u001B[39;00m\n\u001B[1;32m   1068\u001B[0m     \u001B[38;5;28;01massert\u001B[39;00m \u001B[38;5;28mself\u001B[39m\u001B[38;5;241m.\u001B[39m_is_stopped\n\u001B[0;32m-> 1069\u001B[0m \u001B[38;5;28;01melif\u001B[39;00m \u001B[43mlock\u001B[49m\u001B[38;5;241;43m.\u001B[39;49m\u001B[43macquire\u001B[49m\u001B[43m(\u001B[49m\u001B[43mblock\u001B[49m\u001B[43m,\u001B[49m\u001B[43m \u001B[49m\u001B[43mtimeout\u001B[49m\u001B[43m)\u001B[49m:\n\u001B[1;32m   1070\u001B[0m     lock\u001B[38;5;241m.\u001B[39mrelease()\n\u001B[1;32m   1071\u001B[0m     \u001B[38;5;28mself\u001B[39m\u001B[38;5;241m.\u001B[39m_stop()\n",
      "\u001B[0;31mKeyboardInterrupt\u001B[0m: "
     ]
    }
   ],
   "source": [
    "import optuna\n",
    "from sklearn.metrics import accuracy_score\n",
    "\n",
    "# objective function to be minimized\n",
    "def objective_fun(trial):\n",
    "\n",
    "    n_conv = trial.suggest_int('n_conv', 0, 3)\n",
    "    n_hidden = trial.suggest_int('n_hidden', 0, 3)\n",
    "    hidden_nodes = trial.suggest_int('hidden_nodes', 8, 256)\n",
    "    dropout = trial.suggest_float('dropout', 0, 0.2)\n",
    "    filters = trial.suggest_int('filters', 2, 16)\n",
    "    kernel_size = trial.suggest_int('kernel_size', 2, 16)\n",
    "    batch_size = trial.suggest_int('batch_size', 16, 64)\n",
    "    epochs = trial.suggest_int('epochs', 5, 90)\n",
    "\n",
    "    print(f\"Running little bitch having n_conv={n_conv}, dropout={dropout}, hidden_nodes={hidden_nodes}\")\n",
    "\n",
    "    cnn = build_model(X_train_v.shape[1:], len(np.unique(y_train_v)),\n",
    "                      n_hidden=n_hidden,\n",
    "                      hidden_nodes=hidden_nodes,\n",
    "                      n_conv=n_conv,\n",
    "                      dropout=dropout,\n",
    "                      filters=filters,\n",
    "                      kernel_size=kernel_size,\n",
    "                      )\n",
    "\n",
    "    cnn.fit(X_train_v, y_train_v, batch_size=batch_size, epochs=epochs, verbose=False)\n",
    "\n",
    "    y_pred = np.argmax(cnn.predict(X_valid), axis=1)\n",
    "\n",
    "    error = accuracy_score(y_valid, y_pred)\n",
    "\n",
    "    return error\n",
    "\n",
    "\n",
    "study = optuna.create_study(direction='maximize')\n",
    "study.optimize(objective_fun, n_trials=100, n_jobs=-1, catch=ValueError)"
   ],
   "metadata": {
    "collapsed": false,
    "ExecuteTime": {
     "end_time": "2023-06-29T10:34:41.877836Z",
     "start_time": "2023-06-29T10:31:04.244730Z"
    }
   }
  },
  {
   "cell_type": "code",
   "execution_count": null,
   "outputs": [],
   "source": [
    "best_params = study.best_params\n",
    "best_params"
   ],
   "metadata": {
    "collapsed": false
   }
  },
  {
   "cell_type": "code",
   "execution_count": null,
   "outputs": [],
   "source": [
    "cnn = build_model(X_train.shape[1:], 2, **best_params)\n",
    "cnn.summary()"
   ],
   "metadata": {
    "collapsed": false
   }
  },
  {
   "cell_type": "code",
   "execution_count": null,
   "outputs": [],
   "source": [
    "cnn.fit(X_train, y_train, epochs=best_params['epochs'], batch_size=best_params['batch_size'])"
   ],
   "metadata": {
    "collapsed": false
   }
  },
  {
   "cell_type": "code",
   "execution_count": null,
   "outputs": [],
   "source": [
    "from sklearn.metrics import f1_score, classification_report, cohen_kappa_score\n",
    "\n",
    "predictions = cnn.predict(X_test)\n",
    "y_pred = np.argmax(predictions, axis=1)\n",
    "\n",
    "print(f'Cohen k {cohen_kappa_score(y_test, y_pred)}')\n",
    "print('Accuracy %s' % accuracy_score(y_test, y_pred))\n",
    "print('F1-score %s' % f1_score(y_test, y_pred, average=None))\n",
    "print(classification_report(y_test, y_pred))"
   ],
   "metadata": {
    "collapsed": false
   }
  },
  {
   "cell_type": "markdown",
   "source": [
    "# LIME"
   ],
   "metadata": {
    "collapsed": false
   }
  },
  {
   "cell_type": "code",
   "execution_count": null,
   "outputs": [],
   "source": [
    "import lime\n",
    "from lime import lime_image\n",
    "from skimage.segmentation import mark_boundaries\n",
    "\n",
    "explainer = lime_image.LimeImageExplainer()\n",
    "\n",
    "explanation = explainer.explain_instance(X_test[0], cnn.predict, top_labels=2)\n",
    "\n",
    "image, mask = explanation.get_image_and_mask(0, positives_only=True, hide_rest=True)"
   ],
   "metadata": {
    "collapsed": false
   }
  },
  {
   "cell_type": "code",
   "execution_count": null,
   "outputs": [],
   "source": [
    "\n"
   ],
   "metadata": {
    "collapsed": false
   }
  }
 ],
 "metadata": {
  "kernelspec": {
   "display_name": "Python 3",
   "language": "python",
   "name": "python3"
  },
  "language_info": {
   "codemirror_mode": {
    "name": "ipython",
    "version": 2
   },
   "file_extension": ".py",
   "mimetype": "text/x-python",
   "name": "python",
   "nbconvert_exporter": "python",
   "pygments_lexer": "ipython2",
   "version": "2.7.6"
  }
 },
 "nbformat": 4,
 "nbformat_minor": 0
}
