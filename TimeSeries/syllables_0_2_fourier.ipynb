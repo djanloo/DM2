{
 "cells": [
  {
   "cell_type": "code",
   "execution_count": 1,
   "metadata": {
    "ExecuteTime": {
     "end_time": "2023-06-24T13:12:53.057996Z",
     "start_time": "2023-06-24T13:12:53.017545Z"
    }
   },
   "outputs": [],
   "source": [
    "import os\n",
    "import numpy as np\n",
    "import pandas as pd\n",
    "import matplotlib.pyplot as plt\n",
    "import seaborn as sns; sns.set()\n",
    "from IPython.display import Audio"
   ]
  },
  {
   "cell_type": "code",
   "execution_count": 2,
   "metadata": {
    "ExecuteTime": {
     "end_time": "2023-06-24T13:12:53.078914Z",
     "start_time": "2023-06-24T13:12:53.028574Z"
    }
   },
   "outputs": [],
   "source": [
    "TS_DATASET_FOLDER = os.path.join('..', 'dataset')\n",
    "TS_PREPROC_FOLDER = os.path.join(TS_DATASET_FOLDER, 'preprocessed_traces')\n",
    "DF_PREPROC_FILE = os.path.join(TS_PREPROC_FOLDER, 'preproc_ts.df')\n",
    "\n",
    "SAMPLING_RATE = 48_000 / 8\n",
    "\n",
    "import sys\n",
    "sys.path.append('../')\n",
    "import default_style\n",
    "\n",
    "# This is for reloading custom modules in case they are modified\n",
    "%load_ext autoreload\n",
    "%autoreload 2"
   ]
  },
  {
   "cell_type": "code",
   "execution_count": 3,
   "metadata": {
    "ExecuteTime": {
     "end_time": "2023-06-24T13:12:53.105638Z",
     "start_time": "2023-06-24T13:12:53.064882Z"
    }
   },
   "outputs": [
    {
     "data": {
      "text/plain": "  vocal_channel    emotion emotional_intensity statement repetition     actor   \n0        speech  surprised              strong      dogs        1st  actor_01  \\\n1        speech  surprised              normal      kids        1st  actor_01   \n2        speech      angry              normal      dogs        1st  actor_01   \n3        speech    fearful              normal      dogs        2nd  actor_01   \n4        speech    fearful              strong      kids        2nd  actor_01   \n\n                                                path sex   begin_s     end_s   \n0  ../dataset/Audio_Speech_Actors_01-24/Actor_01/...   M  1.007500  2.498167  \\\n1  ../dataset/Audio_Speech_Actors_01-24/Actor_01/...   M  1.024167  2.357167   \n2  ../dataset/Audio_Speech_Actors_01-24/Actor_01/...   M  1.029333  2.467500   \n3  ../dataset/Audio_Speech_Actors_01-24/Actor_01/...   M  1.030500  2.710000   \n4  ../dataset/Audio_Speech_Actors_01-24/Actor_01/...   M  1.047667  3.127167   \n\n                                      fourier_coeffs   \n0  [1.0788441e-05 3.7551079e-02 3.6168553e-02 ......  \\\n1  [8.6426735e-06 1.0938305e-02 7.4250461e-03 ......   \n2  [1.1563301e-05 4.1558143e-02 2.8845785e-02 ......   \n3  [2.0563602e-06 1.1770763e-02 5.6602592e-03 ......   \n4  [6.9618225e-05 1.3387279e-02 8.0524459e-02 ......   \n\n                             filtered_fourier_coeffs  syll_0_start_index   \n0  [1.0788441e-05 3.7551045e-02 3.6168423e-02 ......                   0  \\\n1  [8.6426735e-06 1.0938293e-02 7.4250125e-03 ......                   0   \n2  [1.15633011e-05 4.15581055e-02 2.88456734e-02 ...                   0   \n3  [2.0563602e-06 1.1770754e-02 5.6602429e-03 ......                   0   \n4  [6.9618225e-05 1.3387272e-02 8.0524310e-02 ......                   0   \n\n   syll_1_start_index  syll_2_start_index  syll_3_start_index   \n0                2872                3920                4536  \\\n1                1544                2528                4032   \n2                2992                4368                4912   \n3                4576                5064                6240   \n4                1984                2504                3648   \n\n   syll_4_start_index  syll_5_start_index  syll_6_start_index   \n0                5536                6480                7136  \\\n1                5224                5984                6712   \n2                5896                6768                7400   \n3                7544                8248                8784   \n4                5176                8320               10256   \n\n   syll_7_start_index  \n0                8936  \n1                7992  \n2                8624  \n3               10072  \n4               12472  ",
      "text/html": "<div>\n<style scoped>\n    .dataframe tbody tr th:only-of-type {\n        vertical-align: middle;\n    }\n\n    .dataframe tbody tr th {\n        vertical-align: top;\n    }\n\n    .dataframe thead th {\n        text-align: right;\n    }\n</style>\n<table border=\"1\" class=\"dataframe\">\n  <thead>\n    <tr style=\"text-align: right;\">\n      <th></th>\n      <th>vocal_channel</th>\n      <th>emotion</th>\n      <th>emotional_intensity</th>\n      <th>statement</th>\n      <th>repetition</th>\n      <th>actor</th>\n      <th>path</th>\n      <th>sex</th>\n      <th>begin_s</th>\n      <th>end_s</th>\n      <th>fourier_coeffs</th>\n      <th>filtered_fourier_coeffs</th>\n      <th>syll_0_start_index</th>\n      <th>syll_1_start_index</th>\n      <th>syll_2_start_index</th>\n      <th>syll_3_start_index</th>\n      <th>syll_4_start_index</th>\n      <th>syll_5_start_index</th>\n      <th>syll_6_start_index</th>\n      <th>syll_7_start_index</th>\n    </tr>\n  </thead>\n  <tbody>\n    <tr>\n      <th>0</th>\n      <td>speech</td>\n      <td>surprised</td>\n      <td>strong</td>\n      <td>dogs</td>\n      <td>1st</td>\n      <td>actor_01</td>\n      <td>../dataset/Audio_Speech_Actors_01-24/Actor_01/...</td>\n      <td>M</td>\n      <td>1.007500</td>\n      <td>2.498167</td>\n      <td>[1.0788441e-05 3.7551079e-02 3.6168553e-02 ......</td>\n      <td>[1.0788441e-05 3.7551045e-02 3.6168423e-02 ......</td>\n      <td>0</td>\n      <td>2872</td>\n      <td>3920</td>\n      <td>4536</td>\n      <td>5536</td>\n      <td>6480</td>\n      <td>7136</td>\n      <td>8936</td>\n    </tr>\n    <tr>\n      <th>1</th>\n      <td>speech</td>\n      <td>surprised</td>\n      <td>normal</td>\n      <td>kids</td>\n      <td>1st</td>\n      <td>actor_01</td>\n      <td>../dataset/Audio_Speech_Actors_01-24/Actor_01/...</td>\n      <td>M</td>\n      <td>1.024167</td>\n      <td>2.357167</td>\n      <td>[8.6426735e-06 1.0938305e-02 7.4250461e-03 ......</td>\n      <td>[8.6426735e-06 1.0938293e-02 7.4250125e-03 ......</td>\n      <td>0</td>\n      <td>1544</td>\n      <td>2528</td>\n      <td>4032</td>\n      <td>5224</td>\n      <td>5984</td>\n      <td>6712</td>\n      <td>7992</td>\n    </tr>\n    <tr>\n      <th>2</th>\n      <td>speech</td>\n      <td>angry</td>\n      <td>normal</td>\n      <td>dogs</td>\n      <td>1st</td>\n      <td>actor_01</td>\n      <td>../dataset/Audio_Speech_Actors_01-24/Actor_01/...</td>\n      <td>M</td>\n      <td>1.029333</td>\n      <td>2.467500</td>\n      <td>[1.1563301e-05 4.1558143e-02 2.8845785e-02 ......</td>\n      <td>[1.15633011e-05 4.15581055e-02 2.88456734e-02 ...</td>\n      <td>0</td>\n      <td>2992</td>\n      <td>4368</td>\n      <td>4912</td>\n      <td>5896</td>\n      <td>6768</td>\n      <td>7400</td>\n      <td>8624</td>\n    </tr>\n    <tr>\n      <th>3</th>\n      <td>speech</td>\n      <td>fearful</td>\n      <td>normal</td>\n      <td>dogs</td>\n      <td>2nd</td>\n      <td>actor_01</td>\n      <td>../dataset/Audio_Speech_Actors_01-24/Actor_01/...</td>\n      <td>M</td>\n      <td>1.030500</td>\n      <td>2.710000</td>\n      <td>[2.0563602e-06 1.1770763e-02 5.6602592e-03 ......</td>\n      <td>[2.0563602e-06 1.1770754e-02 5.6602429e-03 ......</td>\n      <td>0</td>\n      <td>4576</td>\n      <td>5064</td>\n      <td>6240</td>\n      <td>7544</td>\n      <td>8248</td>\n      <td>8784</td>\n      <td>10072</td>\n    </tr>\n    <tr>\n      <th>4</th>\n      <td>speech</td>\n      <td>fearful</td>\n      <td>strong</td>\n      <td>kids</td>\n      <td>2nd</td>\n      <td>actor_01</td>\n      <td>../dataset/Audio_Speech_Actors_01-24/Actor_01/...</td>\n      <td>M</td>\n      <td>1.047667</td>\n      <td>3.127167</td>\n      <td>[6.9618225e-05 1.3387279e-02 8.0524459e-02 ......</td>\n      <td>[6.9618225e-05 1.3387272e-02 8.0524310e-02 ......</td>\n      <td>0</td>\n      <td>1984</td>\n      <td>2504</td>\n      <td>3648</td>\n      <td>5176</td>\n      <td>8320</td>\n      <td>10256</td>\n      <td>12472</td>\n    </tr>\n  </tbody>\n</table>\n</div>"
     },
     "execution_count": 3,
     "metadata": {},
     "output_type": "execute_result"
    }
   ],
   "source": [
    "df = pd.read_csv(DF_PREPROC_FILE).drop(columns=['Unnamed: 0'])\n",
    "df.head()"
   ]
  },
  {
   "cell_type": "code",
   "execution_count": 4,
   "metadata": {
    "ExecuteTime": {
     "end_time": "2023-06-24T13:12:53.308998Z",
     "start_time": "2023-06-24T13:12:53.105181Z"
    }
   },
   "outputs": [
    {
     "data": {
      "text/plain": "dict_keys(['syllables_0_ts', 'syllables_2_ts'])"
     },
     "execution_count": 4,
     "metadata": {},
     "output_type": "execute_result"
    }
   ],
   "source": [
    "## Import only the required stuff to prevent memory overload\n",
    "traces_dict = dict()\n",
    "for syll in [0,2]:\n",
    "    file_path = os.path.join(TS_PREPROC_FOLDER, f\"syllables_{syll}_ts.npy\")\n",
    "    traces_dict[f\"syllables_{syll}_ts\"] = np.load(file_path, allow_pickle=True)\n",
    "# traces_dict[\"clean_trace\"] = np.load( os.path.join(TS_PREPROC_FOLDER, \"clean_trace.npy\"), allow_pickle=True)\n",
    "traces_dict.keys()"
   ]
  },
  {
   "cell_type": "code",
   "execution_count": 5,
   "metadata": {
    "ExecuteTime": {
     "end_time": "2023-06-24T13:12:53.352648Z",
     "start_time": "2023-06-24T13:12:53.279074Z"
    }
   },
   "outputs": [
    {
     "data": {
      "text/plain": "<IPython.lib.display.Audio object>",
      "text/html": "\n                <audio  controls=\"controls\" >\n                    <source src=\"data:audio/wav;base64,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\" type=\"audio/wav\" />\n                    Your browser does not support the audio element.\n                </audio>\n              "
     },
     "execution_count": 5,
     "metadata": {},
     "output_type": "execute_result"
    }
   ],
   "source": [
    "traces_dict['syllables_0_ts'] = [ tr[~np.isnan(tr)] for tr in traces_dict['syllables_0_ts']]\n",
    "\n",
    "Audio(traces_dict['syllables_0_ts'][0], rate=SAMPLING_RATE)"
   ]
  },
  {
   "cell_type": "code",
   "execution_count": 6,
   "metadata": {
    "ExecuteTime": {
     "end_time": "2023-06-24T13:12:53.403374Z",
     "start_time": "2023-06-24T13:12:53.352828Z"
    }
   },
   "outputs": [
    {
     "data": {
      "text/plain": "<IPython.lib.display.Audio object>",
      "text/html": "\n                <audio  controls=\"controls\" >\n                    <source src=\"data:audio/wav;base64,UklGRvQEAABXQVZFZm10IBAAAAABAAEAcBcAAOAuAAACABAAZGF0YdAEAAB9//f+A//h/tQA8v9S/sP+3P05/nD9vv5y/yT/dgIYAgwAFv+tAAABAP4FAEoBUgCN/2f/zv+j/ej+tf9EALECbgGWAeIBhAF4AGH+6f4R/br7MP0M/ez+zAGbAgACoAHZAt4Bfv+m/tj9rf2a/i3/N////0gAyAAIA54DNANLBBEEmQLoAXYAUf+K/wX/dv3I+hP6ZPnd9lP3PfYO9kf4D/j2+Gj6W/yM/Mb9UgKLBKAGNAgrC5cNyQ0TEdQTDxaWF1wY+ReZFG0RogtlBRH/DPj88THrCudl4xDgmtrV0zbNL8Obu1m2gckZ61j7TxrfQxBa01qwV+VZtURMK3cgSxJ+Atr7xwFEARIFXxE5EF0IZf869Kzcgcfmuw2s5KCQlzaZKpfkqQfo6Qh8JzFe/3+BfGlj0FqTNjn9DekN5KnhKOjbB5Qm1DFgRYdL0DvJJNUOVvG2zDC8frCZqoKtkrNuu6i13bvUtfK8qvK5BCUZH0kCZ7xkb0rzRp4pDPhS7Fvsr/I6/oEdFTl4PwxNrUmXNEobhgK05k/H2b38uL63BsLCx8nNZscYwWm3EKZYyqXtNvOcHm1Qx2EEUS5MzkXRErf1sfSL9Gb5HBCoMhE9GEpaVIxEoS7+GuIEh+Ok0GfJi8CxwPTEz8gPxRK/Ira2pnaVpq693AniUA0BUn1l/F61XtBg9jBBBl4I8vtU78EAEyKAKVsx9kuMRckwDCk4HPL4dNwQ0zTCV7fBuWXBjr0Dv8bCv7amrmunjMtH6OrrBiTASxNUXFPUV/hVdCa8EpIPcvn39FcGAxsZIOY1XUrkQmg6GDDMGi/1Jt5+zAS1ObIIs5i5db3MxxLNpr9Iv1S2BM2p5qLoDhfKOU9J3E8pVfBaVTSQIScbmgM++LT6iA5nE2EjAD8FQAE4KCyIHpn6Qtvh0DzAW7kzucLGSMwezdfbvdPWzyHHr8iD4kTd0u/8FIcl4TH/OL1MREeJNB81RCWIEDX+F/vYBMwFYhTNIk8nBycGHckP8fx57vPjwtq61LLUw9u04ELr3fAp8oPwneM/2z/OUsvVzn/Iuthc8yUMqCGWM5NMc1OqSghCNjXEIfUL+gNHATz+a//MATADe/0H+xT46O2E6EXru/LD9QH6MwPUCJkFFf0V+gzygOXA3YHZUNqV20jnXvWI+ygH7RGEF9MVnRJ4FsUVtBBSEN0SPxDNC5AKPwfz/773V/Uq9fX2Iv8XCNoPRxV5Gi4Z3A6PBvP8ffFd6Z3lPOYf6c7uKfRh+ND74Pn69rj2xO8v6EHr0e/n8875xAIFC/EJewsIDpULIAyIDiAUsxaIF94a5hgoF7sVMBCkCM8BS/6c+Zf1Y/ai9iP34Ppm/oz/Zv66/FT7tfU47Yjpf+PR3sngBdwl29vgxOfg8JT4agmWFtUbUSQlJ8wkBh7FGykZVQ4hDlkQMQwmDEUQzhGLDX8MXws4BMv+v/qH9T/wAu9f7xDtlOvE6vboOOLh3Vfae9Ox2U3fHuJb8Iz+NQupESUYPiHHHnEbvhlSF2ETMA9BE5cTTRRnGvgavhpAGmsYQhPOC/oGcgHa+o/05e7m52zjBeBs2rbYlNeP123YX9s33hjhbOw+8DD1nAKgCpYSjRZJHv0iWR3bHg==\" type=\"audio/wav\" />\n                    Your browser does not support the audio element.\n                </audio>\n              "
     },
     "execution_count": 6,
     "metadata": {},
     "output_type": "execute_result"
    }
   ],
   "source": [
    "traces_dict['syllables_2_ts'] = [ tr[~np.isnan(tr)] for tr in traces_dict['syllables_2_ts']]\n",
    "\n",
    "Audio(traces_dict['syllables_2_ts'][0], rate=SAMPLING_RATE)"
   ]
  },
  {
   "cell_type": "code",
   "execution_count": 7,
   "metadata": {
    "ExecuteTime": {
     "end_time": "2023-06-24T13:12:53.446533Z",
     "start_time": "2023-06-24T13:12:53.403985Z"
    }
   },
   "outputs": [
    {
     "data": {
      "text/plain": "<IPython.lib.display.Audio object>",
      "text/html": "\n                <audio  controls=\"controls\" >\n                    <source src=\"data:audio/wav;base64,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\" type=\"audio/wav\" />\n                    Your browser does not support the audio element.\n                </audio>\n              "
     },
     "execution_count": 7,
     "metadata": {},
     "output_type": "execute_result"
    }
   ],
   "source": [
    "# Concatenate syll0 and syll2\n",
    "new_traces = [np.concatenate((traces_dict['syllables_0_ts'][i], traces_dict['syllables_2_ts'][i])) for i in range(len(traces_dict['syllables_0_ts'])) ]\n",
    "\n",
    "Audio(new_traces[0], rate=SAMPLING_RATE)"
   ]
  },
  {
   "cell_type": "code",
   "execution_count": 8,
   "metadata": {
    "ExecuteTime": {
     "end_time": "2023-06-24T13:12:53.672376Z",
     "start_time": "2023-06-24T13:12:53.443380Z"
    }
   },
   "outputs": [
    {
     "name": "stdout",
     "output_type": "stream",
     "text": [
      "1552\n"
     ]
    },
    {
     "data": {
      "text/plain": "<Figure size 354.331x236.22 with 1 Axes>",
      "image/png": "[encoded data removed]"
     },
     "metadata": {},
     "output_type": "display_data"
    }
   ],
   "source": [
    "# Check distribution f lentgths\n",
    "plt.hist([len(x) for x in new_traces]);\n",
    "print(min([len(x) for x in new_traces]))"
   ]
  },
  {
   "cell_type": "markdown",
   "metadata": {},
   "source": [
    "# Fourier stuff"
   ]
  },
  {
   "cell_type": "code",
   "execution_count": 9,
   "metadata": {
    "ExecuteTime": {
     "end_time": "2023-06-24T13:12:53.689650Z",
     "start_time": "2023-06-24T13:12:53.671794Z"
    }
   },
   "outputs": [
    {
     "name": "stdout",
     "output_type": "stream",
     "text": [
      "Time bins = 27, Spectral bins = 27\n",
      "min length of trace is roughly 57\n",
      "max number of Fourier coeffs is 28\n"
     ]
    }
   ],
   "source": [
    "from djanloo_fourier import STFTransformer\n",
    "\n",
    "transf = STFTransformer(n_time_bins=None, \n",
    "                        n_spectral_bins=None, \n",
    "                        max_frequency=3000, \n",
    "                        sampling_rate=SAMPLING_RATE)\n",
    "\n",
    "# Makes a square STFT\n",
    "transf.balance_n_coeff(new_traces)\n",
    "transf.report(new_traces)"
   ]
  },
  {
   "cell_type": "code",
   "execution_count": 10,
   "metadata": {
    "ExecuteTime": {
     "end_time": "2023-06-24T13:13:03.550608Z",
     "start_time": "2023-06-24T13:12:53.691847Z"
    }
   },
   "outputs": [
    {
     "name": "stderr",
     "output_type": "stream",
     "text": [
      "100%|██████████| 2452/2452 [00:09<00:00, 249.65it/s]\n"
     ]
    }
   ],
   "source": [
    "STFT, SC = transf.fit_transform(new_traces)"
   ]
  },
  {
   "cell_type": "code",
   "execution_count": 11,
   "metadata": {
    "ExecuteTime": {
     "end_time": "2023-06-24T13:13:03.715792Z",
     "start_time": "2023-06-24T13:13:03.551071Z"
    }
   },
   "outputs": [
    {
     "name": "stderr",
     "output_type": "stream",
     "text": [
      "/Users/paolomollica/Desktop/DM2/venv/lib/python3.9/site-packages/IPython/core/events.py:89: UserWarning: This figure includes Axes that are not compatible with tight_layout, so results might be incorrect.\n",
      "  func(*args, **kwargs)\n",
      "/Users/paolomollica/Desktop/DM2/venv/lib/python3.9/site-packages/IPython/core/pylabtools.py:152: UserWarning: This figure includes Axes that are not compatible with tight_layout, so results might be incorrect.\n",
      "  fig.canvas.print_figure(bytes_io, **kw)\n"
     ]
    },
    {
     "data": {
      "text/plain": "<Figure size 400x400 with 1 Axes>",
      "image/png": "[encoded data removed]"
     },
     "metadata": {},
     "output_type": "display_data"
    }
   ],
   "source": [
    "plt.matshow(STFT[0])\n",
    "plt.grid(ls=\"\")"
   ]
  },
  {
   "cell_type": "code",
   "execution_count": 12,
   "metadata": {
    "ExecuteTime": {
     "end_time": "2023-06-24T13:13:03.782447Z",
     "start_time": "2023-06-24T13:13:03.716958Z"
    }
   },
   "outputs": [],
   "source": [
    "traces_dict['syllables_0_2_stft'] = STFT\n",
    "traces_dict['syllables_0_2_sc'] = SC\n",
    "\n",
    "for t in ['syllables_0_2_sc', 'syllables_0_2_stft']:\n",
    "    np.save(os.path.join(TS_PREPROC_FOLDER, f'{t}.npy'), traces_dict[t])"
   ]
  },
  {
   "cell_type": "code",
   "execution_count": 12,
   "metadata": {
    "ExecuteTime": {
     "end_time": "2023-06-24T13:13:03.783088Z",
     "start_time": "2023-06-24T13:13:03.773056Z"
    }
   },
   "outputs": [],
   "source": []
  }
 ],
 "metadata": {
  "kernelspec": {
   "name": "python3",
   "language": "python",
   "display_name": "Python 3 (ipykernel)"
  },
  "language_info": {
   "codemirror_mode": {
    "name": "ipython",
    "version": 3
   },
   "file_extension": ".py",
   "mimetype": "text/x-python",
   "name": "python",
   "nbconvert_exporter": "python",
   "pygments_lexer": "ipython3",
   "version": "3.10.6"
  }
 },
 "nbformat": 4,
 "nbformat_minor": 1
}
