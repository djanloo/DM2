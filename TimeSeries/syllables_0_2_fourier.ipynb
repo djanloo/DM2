{
 "cells": [
  {
   "cell_type": "code",
   "execution_count": 24,
   "metadata": {
    "ExecuteTime": {
     "end_time": "2023-06-23T14:58:26.195367Z",
     "start_time": "2023-06-23T14:58:26.193946Z"
    }
   },
   "outputs": [],
   "source": [
    "import os\n",
    "import numpy as np\n",
    "import pandas as pd\n",
    "import matplotlib.pyplot as plt\n",
    "import seaborn as sns; sns.set()\n",
    "from IPython.display import Audio"
   ]
  },
  {
   "cell_type": "code",
   "execution_count": 25,
   "metadata": {
    "ExecuteTime": {
     "end_time": "2023-06-23T14:58:26.198041Z",
     "start_time": "2023-06-23T14:58:26.196438Z"
    }
   },
   "outputs": [
    {
     "name": "stdout",
     "output_type": "stream",
     "text": [
      "The autoreload extension is already loaded. To reload it, use:\n",
      "  %reload_ext autoreload\n"
     ]
    }
   ],
   "source": [
    "TS_DATASET_FOLDER = os.path.join('..', 'dataset')\n",
    "TS_PREPROC_FOLDER = os.path.join(TS_DATASET_FOLDER, 'preprocessed_traces')\n",
    "DF_PREPROC_FILE = os.path.join(TS_PREPROC_FOLDER, 'preproc_ts.df')\n",
    "\n",
    "SAMPLING_RATE = 48_000 / 8\n",
    "\n",
    "import sys\n",
    "sys.path.append('../')\n",
    "import default_style\n",
    "\n",
    "# This is for reloading custom modules in case they are modified\n",
    "%load_ext autoreload\n",
    "%autoreload 2"
   ]
  },
  {
   "cell_type": "code",
   "execution_count": 26,
   "metadata": {
    "ExecuteTime": {
     "end_time": "2023-06-23T14:58:26.223105Z",
     "start_time": "2023-06-23T14:58:26.199457Z"
    }
   },
   "outputs": [
    {
     "data": {
      "text/html": [
       "<div>\n",
       "<style scoped>\n",
       "    .dataframe tbody tr th:only-of-type {\n",
       "        vertical-align: middle;\n",
       "    }\n",
       "\n",
       "    .dataframe tbody tr th {\n",
       "        vertical-align: top;\n",
       "    }\n",
       "\n",
       "    .dataframe thead th {\n",
       "        text-align: right;\n",
       "    }\n",
       "</style>\n",
       "<table border=\"1\" class=\"dataframe\">\n",
       "  <thead>\n",
       "    <tr style=\"text-align: right;\">\n",
       "      <th></th>\n",
       "      <th>vocal_channel</th>\n",
       "      <th>emotion</th>\n",
       "      <th>emotional_intensity</th>\n",
       "      <th>statement</th>\n",
       "      <th>repetition</th>\n",
       "      <th>actor</th>\n",
       "      <th>path</th>\n",
       "      <th>sex</th>\n",
       "      <th>begin_s</th>\n",
       "      <th>end_s</th>\n",
       "      <th>fourier_coeffs</th>\n",
       "      <th>filtered_fourier_coeffs</th>\n",
       "      <th>syll_0_start_index</th>\n",
       "      <th>syll_1_start_index</th>\n",
       "      <th>syll_2_start_index</th>\n",
       "      <th>syll_3_start_index</th>\n",
       "      <th>syll_4_start_index</th>\n",
       "      <th>syll_5_start_index</th>\n",
       "      <th>syll_6_start_index</th>\n",
       "      <th>syll_7_start_index</th>\n",
       "    </tr>\n",
       "  </thead>\n",
       "  <tbody>\n",
       "    <tr>\n",
       "      <th>0</th>\n",
       "      <td>speech</td>\n",
       "      <td>happy</td>\n",
       "      <td>normal</td>\n",
       "      <td>kids</td>\n",
       "      <td>2nd</td>\n",
       "      <td>actor_01</td>\n",
       "      <td>../dataset/Audio_Speech_Actors_01-24/Actor_01/...</td>\n",
       "      <td>M</td>\n",
       "      <td>1.061167</td>\n",
       "      <td>2.701833</td>\n",
       "      <td>[5.9604645e-08 9.2448331e-02 7.0120022e-02 ......</td>\n",
       "      <td>[5.9604645e-08 9.2448264e-02 7.0119813e-02 ......</td>\n",
       "      <td>0</td>\n",
       "      <td>1304</td>\n",
       "      <td>2464</td>\n",
       "      <td>3832</td>\n",
       "      <td>4680</td>\n",
       "      <td>5664</td>\n",
       "      <td>6488</td>\n",
       "      <td>9840</td>\n",
       "    </tr>\n",
       "    <tr>\n",
       "      <th>1</th>\n",
       "      <td>speech</td>\n",
       "      <td>calm</td>\n",
       "      <td>strong</td>\n",
       "      <td>dogs</td>\n",
       "      <td>2nd</td>\n",
       "      <td>actor_01</td>\n",
       "      <td>../dataset/Audio_Speech_Actors_01-24/Actor_01/...</td>\n",
       "      <td>M</td>\n",
       "      <td>1.020167</td>\n",
       "      <td>2.983000</td>\n",
       "      <td>[3.3713877e-07 6.0990662e-03 8.3317356e-03 ......</td>\n",
       "      <td>[3.3713877e-07 6.0990625e-03 8.3317189e-03 ......</td>\n",
       "      <td>0</td>\n",
       "      <td>2112</td>\n",
       "      <td>5664</td>\n",
       "      <td>6304</td>\n",
       "      <td>6840</td>\n",
       "      <td>7704</td>\n",
       "      <td>9304</td>\n",
       "      <td>11776</td>\n",
       "    </tr>\n",
       "    <tr>\n",
       "      <th>2</th>\n",
       "      <td>speech</td>\n",
       "      <td>fearful</td>\n",
       "      <td>normal</td>\n",
       "      <td>kids</td>\n",
       "      <td>2nd</td>\n",
       "      <td>actor_01</td>\n",
       "      <td>../dataset/Audio_Speech_Actors_01-24/Actor_01/...</td>\n",
       "      <td>M</td>\n",
       "      <td>1.057000</td>\n",
       "      <td>2.642500</td>\n",
       "      <td>[4.5448542e-07 2.2871135e-02 2.1308422e-02 ......</td>\n",
       "      <td>[4.5448542e-07 2.2871116e-02 2.1308355e-02 ......</td>\n",
       "      <td>0</td>\n",
       "      <td>2032</td>\n",
       "      <td>3168</td>\n",
       "      <td>4648</td>\n",
       "      <td>5800</td>\n",
       "      <td>6728</td>\n",
       "      <td>7400</td>\n",
       "      <td>9512</td>\n",
       "    </tr>\n",
       "    <tr>\n",
       "      <th>3</th>\n",
       "      <td>speech</td>\n",
       "      <td>neutral</td>\n",
       "      <td>normal</td>\n",
       "      <td>kids</td>\n",
       "      <td>2nd</td>\n",
       "      <td>actor_01</td>\n",
       "      <td>../dataset/Audio_Speech_Actors_01-24/Actor_01/...</td>\n",
       "      <td>M</td>\n",
       "      <td>1.068500</td>\n",
       "      <td>2.294667</td>\n",
       "      <td>[3.5017729e-07 2.6199006e-02 2.5683409e-02 ......</td>\n",
       "      <td>[3.5017729e-07 2.6198970e-02 2.5683273e-02 ......</td>\n",
       "      <td>0</td>\n",
       "      <td>928</td>\n",
       "      <td>1984</td>\n",
       "      <td>3232</td>\n",
       "      <td>4120</td>\n",
       "      <td>5120</td>\n",
       "      <td>5808</td>\n",
       "      <td>7352</td>\n",
       "    </tr>\n",
       "    <tr>\n",
       "      <th>4</th>\n",
       "      <td>speech</td>\n",
       "      <td>calm</td>\n",
       "      <td>normal</td>\n",
       "      <td>kids</td>\n",
       "      <td>1st</td>\n",
       "      <td>actor_01</td>\n",
       "      <td>../dataset/Audio_Speech_Actors_01-24/Actor_01/...</td>\n",
       "      <td>M</td>\n",
       "      <td>1.023667</td>\n",
       "      <td>2.534167</td>\n",
       "      <td>[1.1920929e-07 2.0026919e-03 7.9689088e-04 ......</td>\n",
       "      <td>[1.1920929e-07 2.0026902e-03 7.9688808e-04 ......</td>\n",
       "      <td>0</td>\n",
       "      <td>2104</td>\n",
       "      <td>3672</td>\n",
       "      <td>4808</td>\n",
       "      <td>5928</td>\n",
       "      <td>6944</td>\n",
       "      <td>7600</td>\n",
       "      <td>9056</td>\n",
       "    </tr>\n",
       "  </tbody>\n",
       "</table>\n",
       "</div>"
      ],
      "text/plain": [
       "  vocal_channel  emotion emotional_intensity statement repetition     actor  \\\n",
       "0        speech    happy              normal      kids        2nd  actor_01   \n",
       "1        speech     calm              strong      dogs        2nd  actor_01   \n",
       "2        speech  fearful              normal      kids        2nd  actor_01   \n",
       "3        speech  neutral              normal      kids        2nd  actor_01   \n",
       "4        speech     calm              normal      kids        1st  actor_01   \n",
       "\n",
       "                                                path sex   begin_s     end_s  \\\n",
       "0  ../dataset/Audio_Speech_Actors_01-24/Actor_01/...   M  1.061167  2.701833   \n",
       "1  ../dataset/Audio_Speech_Actors_01-24/Actor_01/...   M  1.020167  2.983000   \n",
       "2  ../dataset/Audio_Speech_Actors_01-24/Actor_01/...   M  1.057000  2.642500   \n",
       "3  ../dataset/Audio_Speech_Actors_01-24/Actor_01/...   M  1.068500  2.294667   \n",
       "4  ../dataset/Audio_Speech_Actors_01-24/Actor_01/...   M  1.023667  2.534167   \n",
       "\n",
       "                                      fourier_coeffs  \\\n",
       "0  [5.9604645e-08 9.2448331e-02 7.0120022e-02 ......   \n",
       "1  [3.3713877e-07 6.0990662e-03 8.3317356e-03 ......   \n",
       "2  [4.5448542e-07 2.2871135e-02 2.1308422e-02 ......   \n",
       "3  [3.5017729e-07 2.6199006e-02 2.5683409e-02 ......   \n",
       "4  [1.1920929e-07 2.0026919e-03 7.9689088e-04 ......   \n",
       "\n",
       "                             filtered_fourier_coeffs  syll_0_start_index  \\\n",
       "0  [5.9604645e-08 9.2448264e-02 7.0119813e-02 ......                   0   \n",
       "1  [3.3713877e-07 6.0990625e-03 8.3317189e-03 ......                   0   \n",
       "2  [4.5448542e-07 2.2871116e-02 2.1308355e-02 ......                   0   \n",
       "3  [3.5017729e-07 2.6198970e-02 2.5683273e-02 ......                   0   \n",
       "4  [1.1920929e-07 2.0026902e-03 7.9688808e-04 ......                   0   \n",
       "\n",
       "   syll_1_start_index  syll_2_start_index  syll_3_start_index  \\\n",
       "0                1304                2464                3832   \n",
       "1                2112                5664                6304   \n",
       "2                2032                3168                4648   \n",
       "3                 928                1984                3232   \n",
       "4                2104                3672                4808   \n",
       "\n",
       "   syll_4_start_index  syll_5_start_index  syll_6_start_index  \\\n",
       "0                4680                5664                6488   \n",
       "1                6840                7704                9304   \n",
       "2                5800                6728                7400   \n",
       "3                4120                5120                5808   \n",
       "4                5928                6944                7600   \n",
       "\n",
       "   syll_7_start_index  \n",
       "0                9840  \n",
       "1               11776  \n",
       "2                9512  \n",
       "3                7352  \n",
       "4                9056  "
      ]
     },
     "execution_count": 26,
     "metadata": {},
     "output_type": "execute_result"
    }
   ],
   "source": [
    "df = pd.read_csv(DF_PREPROC_FILE).drop(columns=['Unnamed: 0'])\n",
    "df.head()"
   ]
  },
  {
   "cell_type": "code",
   "execution_count": 27,
   "metadata": {
    "ExecuteTime": {
     "end_time": "2023-06-23T14:58:27.136845Z",
     "start_time": "2023-06-23T14:58:26.220603Z"
    }
   },
   "outputs": [
    {
     "data": {
      "text/plain": [
       "dict_keys(['syllables_0_ts', 'syllables_2_ts'])"
      ]
     },
     "execution_count": 27,
     "metadata": {},
     "output_type": "execute_result"
    }
   ],
   "source": [
    "## Import only the required stuff to prevent memory overload\n",
    "traces_dict = dict()\n",
    "for syll in [0,2]:\n",
    "    file_path = os.path.join(TS_PREPROC_FOLDER, f\"syllables_{syll}_ts.npy\")\n",
    "    traces_dict[f\"syllables_{syll}_ts\"] = np.load(file_path, allow_pickle=True)\n",
    "# traces_dict[\"clean_trace\"] = np.load( os.path.join(TS_PREPROC_FOLDER, \"clean_trace.npy\"), allow_pickle=True)\n",
    "traces_dict.keys()"
   ]
  },
  {
   "cell_type": "code",
   "execution_count": 28,
   "metadata": {
    "ExecuteTime": {
     "end_time": "2023-06-23T14:58:28.686856Z",
     "start_time": "2023-06-23T14:58:28.348400Z"
    }
   },
   "outputs": [
    {
     "data": {
      "text/html": [
       "\n",
       "                <audio  controls=\"controls\" >\n",
       "                    <source src=\"data:audio/wav;base64,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\" type=\"audio/wav\" />\n",
       "                    Your browser does not support the audio element.\n",
       "                </audio>\n",
       "              "
      ],
      "text/plain": [
       "<IPython.lib.display.Audio object>"
      ]
     },
     "execution_count": 28,
     "metadata": {},
     "output_type": "execute_result"
    }
   ],
   "source": [
    "traces_dict['syllables_0_ts'] = [ tr[~np.isnan(tr)] for tr in traces_dict['syllables_0_ts']]\n",
    "\n",
    "Audio(syllables_0[0], rate=SAMPLING_RATE)"
   ]
  },
  {
   "cell_type": "code",
   "execution_count": 29,
   "metadata": {
    "ExecuteTime": {
     "end_time": "2023-06-23T14:58:28.808329Z",
     "start_time": "2023-06-23T14:58:28.685145Z"
    }
   },
   "outputs": [
    {
     "data": {
      "text/html": [
       "\n",
       "                <audio  controls=\"controls\" >\n",
       "                    <source src=\"data:audio/wav;base64,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\" type=\"audio/wav\" />\n",
       "                    Your browser does not support the audio element.\n",
       "                </audio>\n",
       "              "
      ],
      "text/plain": [
       "<IPython.lib.display.Audio object>"
      ]
     },
     "execution_count": 29,
     "metadata": {},
     "output_type": "execute_result"
    }
   ],
   "source": [
    "traces_dict['syllables_2_ts'] = [ tr[~np.isnan(tr)] for tr in traces_dict['syllables_2_ts']]\n",
    "\n",
    "Audio(syllables_2[0], rate=SAMPLING_RATE)"
   ]
  },
  {
   "cell_type": "code",
   "execution_count": 36,
   "metadata": {},
   "outputs": [
    {
     "data": {
      "text/html": [
       "\n",
       "                <audio  controls=\"controls\" >\n",
       "                    <source src=\"data:audio/wav;base64,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\" type=\"audio/wav\" />\n",
       "                    Your browser does not support the audio element.\n",
       "                </audio>\n",
       "              "
      ],
      "text/plain": [
       "<IPython.lib.display.Audio object>"
      ]
     },
     "execution_count": 36,
     "metadata": {},
     "output_type": "execute_result"
    }
   ],
   "source": [
    "# Concatenate syll0 and syll2\n",
    "new_traces = [np.concatenate((traces_dict['syllables_0_ts'][i], traces_dict['syllables_2_ts'][i])) for i in range(len(syllables_0)) ]\n",
    "\n",
    "Audio(new_traces[10], rate=SAMPLING_RATE)"
   ]
  },
  {
   "cell_type": "code",
   "execution_count": 45,
   "metadata": {},
   "outputs": [
    {
     "name": "stdout",
     "output_type": "stream",
     "text": [
      "1064\n"
     ]
    },
    {
     "data": {
      "image/png": "[encoded data removed]",
      "text/plain": [
       "<Figure size 354.331x236.22 with 1 Axes>"
      ]
     },
     "metadata": {},
     "output_type": "display_data"
    }
   ],
   "source": [
    "# Check distribution f lentgths\n",
    "plt.hist([len(x) for x in new_traces]);\n",
    "print(min([len(x) for x in new_traces]))"
   ]
  },
  {
   "cell_type": "markdown",
   "metadata": {},
   "source": [
    "# Fourier stuff"
   ]
  },
  {
   "cell_type": "code",
   "execution_count": 92,
   "metadata": {
    "ExecuteTime": {
     "end_time": "2023-06-23T14:58:32.091336Z",
     "start_time": "2023-06-23T14:58:29.655632Z"
    }
   },
   "outputs": [
    {
     "name": "stdout",
     "output_type": "stream",
     "text": [
      "Time bins = 23, Spectral bins = 23\n",
      "min length of trace is roughly 46\n",
      "max number of Fourier coeffs is 23\n"
     ]
    }
   ],
   "source": [
    "from djanloo_fourier import STFTransformer\n",
    "\n",
    "transf = STFTransformer(n_time_bins=None, \n",
    "                        n_spectral_bins=None, \n",
    "                        max_frequency=3000, \n",
    "                        sampling_rate=SAMPLING_RATE)\n",
    "\n",
    "# Makes a square STFT\n",
    "transf.balance_n_coeff(new_traces)\n",
    "transf.report(new_traces)"
   ]
  },
  {
   "cell_type": "code",
   "execution_count": null,
   "metadata": {},
   "outputs": [
    {
     "name": "stderr",
     "output_type": "stream",
     "text": [
      "  9%|██████████▎                                                                                                   | 229/2452 [00:05<00:43, 50.74it/s]"
     ]
    }
   ],
   "source": [
    "STFT = transf.fit_transform(new_traces)"
   ]
  },
  {
   "cell_type": "code",
   "execution_count": null,
   "metadata": {},
   "outputs": [],
   "source": [
    "plt.matshow(STFT[0])\n",
    "plt.grid(ls=\"\")"
   ]
  },
  {
   "cell_type": "code",
   "execution_count": null,
   "metadata": {
    "ExecuteTime": {
     "end_time": "2023-06-23T14:58:32.111050Z",
     "start_time": "2023-06-23T14:58:32.092224Z"
    }
   },
   "outputs": [],
   "source": [
    "for t in [\"syllables_0_2_sc\", \"syllables_0_2_stft\"]:\n",
    "    np.save(os.path.join(TS_PREPROC_FOLDER, f\"{t}.npy\"), traces_dict[t])"
   ]
  },
  {
   "cell_type": "code",
   "execution_count": null,
   "metadata": {},
   "outputs": [],
   "source": []
  }
 ],
 "metadata": {
  "kernelspec": {
   "display_name": "DM2",
   "language": "python",
   "name": "dm2"
  },
  "language_info": {
   "codemirror_mode": {
    "name": "ipython",
    "version": 3
   },
   "file_extension": ".py",
   "mimetype": "text/x-python",
   "name": "python",
   "nbconvert_exporter": "python",
   "pygments_lexer": "ipython3",
   "version": "3.10.6"
  }
 },
 "nbformat": 4,
 "nbformat_minor": 1
}
