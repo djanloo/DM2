{
 "cells": [
  {
   "cell_type": "code",
   "execution_count": 1,
   "id": "7ad3130b",
   "metadata": {},
   "outputs": [],
   "source": [
    "import os\n",
    "import numpy as np\n",
    "import pandas as pd\n",
    "import matplotlib.pyplot as plt\n",
    "import seaborn as sns; sns.set()\n",
    "\n",
    "import librosa\n",
    "from tqdm.notebook import tqdm\n",
    "from IPython.display import Audio\n",
    "from pandas.api.types import is_numeric_dtype\n",
    "\n",
    "import sys\n",
    "sys.path.append('../')\n",
    "import default_style\n",
    "\n",
    "TS_DATASET_FOLDER = os.path.join(\"..\", \"dataset\")\n",
    "TS_PREPROC_FOLDER = os.path.join(TS_DATASET_FOLDER, \"preprocessed_traces\")\n",
    "DF_PREPROC_FILE = os.path.join(TS_PREPROC_FOLDER, \"preproc_ts.df\")\n",
    "\n",
    "INTERESTING_TRACES = [\"denoised_trace\", \"std_phon_trace\", \"phonetic_trace\",\"traces_fourier\"]\n",
    "\n",
    "INTERESTING_TRACES += [f\"syllables_{i}_fourier\" for i in range(7)]\n",
    "\n",
    "## Save folder for long-run estimators\n",
    "ESTIMATORS_FOLDER = os.path.join(\"..\", \"estimators\")"
   ]
  },
  {
   "cell_type": "markdown",
   "id": "b0ea9558",
   "metadata": {},
   "source": [
    "## Import"
   ]
  },
  {
   "cell_type": "code",
   "execution_count": 2,
   "id": "bb1d547a",
   "metadata": {},
   "outputs": [
    {
     "ename": "FileNotFoundError",
     "evalue": "[Errno 2] No such file or directory: '../dataset/preprocessed_traces/syllables_0_fourier.npy'",
     "output_type": "error",
     "traceback": [
      "\u001b[0;31m---------------------------------------------------------------------------\u001b[0m",
      "\u001b[0;31mFileNotFoundError\u001b[0m                         Traceback (most recent call last)",
      "Cell \u001b[0;32mIn[2], line 5\u001b[0m\n\u001b[1;32m      3\u001b[0m traces \u001b[38;5;241m=\u001b[39m \u001b[38;5;28mdict\u001b[39m()\n\u001b[1;32m      4\u001b[0m \u001b[38;5;28;01mfor\u001b[39;00m t \u001b[38;5;129;01min\u001b[39;00m INTERESTING_TRACES:\n\u001b[0;32m----> 5\u001b[0m     traces[t] \u001b[38;5;241m=\u001b[39m \u001b[43mnp\u001b[49m\u001b[38;5;241;43m.\u001b[39;49m\u001b[43mload\u001b[49m\u001b[43m(\u001b[49m\u001b[43mos\u001b[49m\u001b[38;5;241;43m.\u001b[39;49m\u001b[43mpath\u001b[49m\u001b[38;5;241;43m.\u001b[39;49m\u001b[43mjoin\u001b[49m\u001b[43m(\u001b[49m\u001b[43mTS_PREPROC_FOLDER\u001b[49m\u001b[43m,\u001b[49m\u001b[43m \u001b[49m\u001b[38;5;124;43mf\u001b[39;49m\u001b[38;5;124;43m\"\u001b[39;49m\u001b[38;5;132;43;01m{\u001b[39;49;00m\u001b[43mt\u001b[49m\u001b[38;5;132;43;01m}\u001b[39;49;00m\u001b[38;5;124;43m.npy\u001b[39;49m\u001b[38;5;124;43m\"\u001b[39;49m\u001b[43m)\u001b[49m\u001b[43m)\u001b[49m\n",
      "File \u001b[0;32m~/.local/share/virtualenvs/DM2-PeqFRmfa/lib/python3.10/site-packages/numpy/lib/npyio.py:405\u001b[0m, in \u001b[0;36mload\u001b[0;34m(file, mmap_mode, allow_pickle, fix_imports, encoding, max_header_size)\u001b[0m\n\u001b[1;32m    403\u001b[0m     own_fid \u001b[38;5;241m=\u001b[39m \u001b[38;5;28;01mFalse\u001b[39;00m\n\u001b[1;32m    404\u001b[0m \u001b[38;5;28;01melse\u001b[39;00m:\n\u001b[0;32m--> 405\u001b[0m     fid \u001b[38;5;241m=\u001b[39m stack\u001b[38;5;241m.\u001b[39menter_context(\u001b[38;5;28;43mopen\u001b[39;49m\u001b[43m(\u001b[49m\u001b[43mos_fspath\u001b[49m\u001b[43m(\u001b[49m\u001b[43mfile\u001b[49m\u001b[43m)\u001b[49m\u001b[43m,\u001b[49m\u001b[43m \u001b[49m\u001b[38;5;124;43m\"\u001b[39;49m\u001b[38;5;124;43mrb\u001b[39;49m\u001b[38;5;124;43m\"\u001b[39;49m\u001b[43m)\u001b[49m)\n\u001b[1;32m    406\u001b[0m     own_fid \u001b[38;5;241m=\u001b[39m \u001b[38;5;28;01mTrue\u001b[39;00m\n\u001b[1;32m    408\u001b[0m \u001b[38;5;66;03m# Code to distinguish from NumPy binary files and pickles.\u001b[39;00m\n",
      "\u001b[0;31mFileNotFoundError\u001b[0m: [Errno 2] No such file or directory: '../dataset/preprocessed_traces/syllables_0_fourier.npy'"
     ]
    }
   ],
   "source": [
    "df = pd.read_csv(DF_PREPROC_FILE)\n",
    "\n",
    "traces = dict()\n",
    "for t in INTERESTING_TRACES:\n",
    "    traces[t] = np.load(os.path.join(TS_PREPROC_FOLDER, f\"{t}.npy\"))\n"
   ]
  },
  {
   "cell_type": "code",
   "execution_count": null,
   "id": "5327d023",
   "metadata": {},
   "outputs": [],
   "source": [
    "len(traces[\"fourier_coeffs\"][0])"
   ]
  },
  {
   "cell_type": "code",
   "execution_count": null,
   "id": "182e9fd9",
   "metadata": {},
   "outputs": [],
   "source": [
    "plt.plot(traces[\"fourier_coeffs\"][0])"
   ]
  },
  {
   "cell_type": "markdown",
   "id": "26d4369d",
   "metadata": {},
   "source": [
    "## Metrics"
   ]
  },
  {
   "cell_type": "code",
   "execution_count": null,
   "id": "6080d2c7",
   "metadata": {},
   "outputs": [],
   "source": [
    "from scipy.spatial.distance import euclidean\n",
    "from scipy.spatial.distance import cdist"
   ]
  },
  {
   "cell_type": "code",
   "execution_count": null,
   "id": "07da2a26",
   "metadata": {},
   "outputs": [],
   "source": [
    "mat_euclidean = cdist(traces[\"fourier_coeffs\"],traces[\"fourier_coeffs\"])"
   ]
  },
  {
   "cell_type": "code",
   "execution_count": null,
   "id": "06be861a",
   "metadata": {},
   "outputs": [],
   "source": [
    "plt.grid(\"\")\n",
    "plt.axis(\"off\")\n",
    "plt.imshow(mat_euclidean)"
   ]
  },
  {
   "cell_type": "code",
   "execution_count": null,
   "id": "7ea22d98",
   "metadata": {},
   "outputs": [],
   "source": [
    "# Distribution of distances\n",
    "distances_eucl = np.triu(mat_euclidean).reshape(-1)\n",
    "distances_eucl = distances_eucl[distances_eucl != 0.0]\n",
    "plt.hist(distances_eucl, histtype=\"step\", bins=40, density=True);"
   ]
  },
  {
   "cell_type": "markdown",
   "id": "84a847d0",
   "metadata": {},
   "source": [
    "### Manhattan"
   ]
  },
  {
   "cell_type": "code",
   "execution_count": null,
   "id": "fc14f32b",
   "metadata": {},
   "outputs": [],
   "source": [
    "mat_manhattan = cdist(traces[\"fourier_coeffs\"],traces[\"fourier_coeffs\"], metric=\"cityblock\")"
   ]
  },
  {
   "cell_type": "code",
   "execution_count": null,
   "id": "5bdc8f36",
   "metadata": {},
   "outputs": [],
   "source": [
    "plt.grid(\"\")\n",
    "plt.axis(\"off\")\n",
    "plt.imshow(mat_manhattan)"
   ]
  },
  {
   "cell_type": "code",
   "execution_count": null,
   "id": "7acb625a",
   "metadata": {},
   "outputs": [],
   "source": [
    "# Distribution of distances\n",
    "distances_man = np.triu(mat_manhattan).reshape(-1)\n",
    "distances_man = distances_man[distances_man != 0.0]\n",
    "plt.hist(distances_man, histtype=\"step\", bins=40, density=True);"
   ]
  },
  {
   "cell_type": "markdown",
   "id": "79c2eff4",
   "metadata": {},
   "source": [
    "### DTW"
   ]
  },
  {
   "cell_type": "code",
   "execution_count": null,
   "id": "db332514",
   "metadata": {},
   "outputs": [],
   "source": [
    "from tslearn.metrics import cdist_dtw\n",
    "\n",
    "mat_dtw = cdist_dtw(traces[\"std_phon_trace\"][:10],traces[\"std_phon_trace\"][:10], itakura_max_slope=2, n_jobs=-1)"
   ]
  },
  {
   "cell_type": "code",
   "execution_count": null,
   "id": "978d2541",
   "metadata": {},
   "outputs": [],
   "source": [
    "plt.grid(\"\")\n",
    "plt.axis(\"off\")\n",
    "plt.imshow(mat_dtw)"
   ]
  },
  {
   "cell_type": "markdown",
   "id": "2dccb83b",
   "metadata": {},
   "source": [
    "## Test: KNN search"
   ]
  },
  {
   "cell_type": "code",
   "execution_count": null,
   "id": "dd53ff5c",
   "metadata": {},
   "outputs": [],
   "source": [
    "from tslearn.neighbors import KNeighborsTimeSeries\n",
    "from sklearn.model_selection import train_test_split\n",
    "\n",
    "X_train, X_test = train_test_split(traces[\"fourier_coeffs\"], test_size=0.1)\n",
    "\n",
    "knn = KNeighborsTimeSeries(n_neighbors=4)\n",
    "knn.fit(X_train)\n",
    "\n",
    "# Find nearest neighbours of a query trace\n",
    "query_trace = 1\n",
    "nearest = knn.kneighbors([X_test[query_trace]], return_distance=False)[0]\n",
    "\n",
    "fig, (axquery, axnearest) = plt.subplots(2,1, sharex=True)\n",
    "\n",
    "# Plot the requested query\n",
    "axquery.plot(X_test[query_trace])\n",
    "\n",
    "# Plot the most similar results\n",
    "for idx in nearest:\n",
    "    axnearest.plot(X_train[idx])"
   ]
  },
  {
   "cell_type": "code",
   "execution_count": null,
   "id": "2891ad21",
   "metadata": {},
   "outputs": [],
   "source": [
    "X_train.shape"
   ]
  },
  {
   "cell_type": "markdown",
   "id": "5ed815c3",
   "metadata": {},
   "source": [
    "## Kmeans"
   ]
  },
  {
   "cell_type": "markdown",
   "id": "32f4a9c7",
   "metadata": {},
   "source": [
    "### Euclidean"
   ]
  },
  {
   "cell_type": "code",
   "execution_count": null,
   "id": "fb2b70be",
   "metadata": {},
   "outputs": [],
   "source": [
    "from tslearn.clustering import TimeSeriesKMeans\n",
    "\n",
    "n_clusters = 5\n",
    "\n",
    "km = TimeSeriesKMeans(n_clusters=n_clusters, verbose=True)\n",
    "y_pred = km.fit_predict(X_train)\n",
    "\n",
    "fig, axes = plt.subplots(n_clusters,1,sharex=True)\n",
    "\n",
    "for clus in range(n_clusters):\n",
    "    cluster_elements = X_train[y_pred == clus]\n",
    "    for i in range(n_clusters):\n",
    "        axes[clus].plot(cluster_elements[i], alpha=0.2, color=\"k\")\n",
    "    \n",
    "    axes[clus].plot(km.cluster_centers_[clus])"
   ]
  },
  {
   "cell_type": "markdown",
   "id": "cbfc4e4b",
   "metadata": {},
   "source": [
    "### DTW"
   ]
  },
  {
   "cell_type": "code",
   "execution_count": null,
   "id": "7edc3aac",
   "metadata": {},
   "outputs": [],
   "source": [
    "n_clusters = 5\n",
    "\n",
    "# Fit and save\n",
    "km = TimeSeriesKMeans(n_clusters=n_clusters,\n",
    "                      metric=\"dtw\",\n",
    "                      n_jobs=-1,\n",
    "                      verbose=True)\n",
    "\n",
    "y_pred = km.fit_predict(X_train)\n",
    "# Save the estimator\n",
    "km.to_pickle(os.path.join(ESTIMATORS_FOLDER, \"dtw_kmeans\"))\n",
    "\n",
    "km = TimeSeriesKMeans.from_pickle(os.path.join(ESTIMATORS_FOLDER, \"dtw_kmeans\"))\n",
    "y_pred = km.predict(X_train)\n",
    "\n",
    "fig, axes = plt.subplots(n_clusters,1,sharex=True)\n",
    "\n",
    "for clus in range(n_clusters):\n",
    "    cluster_elements = X_train[y_pred == clus]\n",
    "    for i in range(10):\n",
    "        axes[clus].plot(cluster_elements[i], alpha=0.2, color=\"k\")\n",
    "    axes[clus].plot(km.cluster_centers_[clus])"
   ]
  },
  {
   "cell_type": "code",
   "execution_count": null,
   "id": "dda41972",
   "metadata": {},
   "outputs": [],
   "source": []
  },
  {
   "cell_type": "code",
   "execution_count": null,
   "id": "51795b62",
   "metadata": {},
   "outputs": [],
   "source": []
  }
 ],
 "metadata": {
  "kernelspec": {
   "display_name": "DM2",
   "language": "python",
   "name": "dm2"
  },
  "language_info": {
   "codemirror_mode": {
    "name": "ipython",
    "version": 3
   },
   "file_extension": ".py",
   "mimetype": "text/x-python",
   "name": "python",
   "nbconvert_exporter": "python",
   "pygments_lexer": "ipython3",
   "version": "3.10.6"
  }
 },
 "nbformat": 4,
 "nbformat_minor": 5
}
