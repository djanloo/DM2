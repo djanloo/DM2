{
 "cells": [
  {
   "cell_type": "code",
   "execution_count": 1,
   "id": "7ad3130b",
   "metadata": {},
   "outputs": [],
   "source": [
    "import os\n",
    "import numpy as np\n",
    "import pandas as pd\n",
    "import matplotlib.pyplot as plt\n",
    "import seaborn as sns; sns.set()\n",
    "\n",
    "import librosa\n",
    "from tqdm.notebook import tqdm\n",
    "from IPython.display import Audio\n",
    "from pandas.api.types import is_numeric_dtype\n",
    "\n",
    "import sys\n",
    "sys.path.append('../')\n",
    "import default_style\n",
    "\n",
    "TS_DATASET_FOLDER = os.path.join(\"..\", \"dataset\")\n",
    "TS_DATASET = os.path.join(TS_DATASET_FOLDER, \"preprocessed_timeseries.csv\")"
   ]
  },
  {
   "cell_type": "code",
   "execution_count": 47,
   "id": "be77b499",
   "metadata": {},
   "outputs": [
    {
     "name": "stdout",
     "output_type": "stream",
     "text": [
      "'[0.10605195 0.20370449 0.28792341 ... 0.08509617 0.09001656 0.09451216]'\n"
     ]
    }
   ],
   "source": [
    "df = pd.read_csv(TS_DATASET)\n",
    "print(repr(df[\"denoised_trace\"][0]))\n",
    "trace_columns = [col for col in df.columns if col.endswith(\"trace\")]\n",
    "\n",
    "string_to_array = lambda x: np.array(x.replace(\"[\", \"\").replace(\"]\", \"\").replace(\"...\", \"\").split()).astype(float)\n",
    "for col in trace_columns:\n",
    "    df[col] = df[col].apply(string_to_array)\n"
   ]
  },
  {
   "cell_type": "code",
   "execution_count": 46,
   "id": "5327d023",
   "metadata": {},
   "outputs": [
    {
     "data": {
      "text/plain": [
       "array([0.10605195, 0.20370449, 0.28792341, 0.08509617, 0.09001656,\n",
       "       0.09451216])"
      ]
     },
     "execution_count": 46,
     "metadata": {},
     "output_type": "execute_result"
    }
   ],
   "source": [
    "df.denoised_trace.values[0]"
   ]
  },
  {
   "cell_type": "markdown",
   "id": "26d4369d",
   "metadata": {},
   "source": [
    "## Metrics"
   ]
  },
  {
   "cell_type": "code",
   "execution_count": null,
   "id": "6080d2c7",
   "metadata": {},
   "outputs": [],
   "source": [
    "from scipy.spatial.distance import euclidean"
   ]
  },
  {
   "cell_type": "code",
   "execution_count": 5,
   "id": "07da2a26",
   "metadata": {},
   "outputs": [
    {
     "data": {
      "text/plain": [
       "Index(['vocal_channel', 'emotion', 'emotional_intensity', 'statement',\n",
       "       'repetition', 'actor', 'path', 'sex', 'begin_s', 'end_s',\n",
       "       'denoised_trace', 'phonetic_trace', 'std_phon_trace',\n",
       "       't_rescale_factor', 'syll_0_start_index', 'syll_1_start_index',\n",
       "       'syll_2_start_index', 'syll_3_start_index', 'syll_4_start_index',\n",
       "       'syll_5_start_index', 'syll_6_start_index'],\n",
       "      dtype='object')"
      ]
     },
     "execution_count": 5,
     "metadata": {},
     "output_type": "execute_result"
    }
   ],
   "source": [
    "df.columns"
   ]
  },
  {
   "cell_type": "code",
   "execution_count": null,
   "id": "06be861a",
   "metadata": {},
   "outputs": [],
   "source": []
  }
 ],
 "metadata": {
  "kernelspec": {
   "display_name": "DM2",
   "language": "python",
   "name": "dm2"
  },
  "language_info": {
   "codemirror_mode": {
    "name": "ipython",
    "version": 3
   },
   "file_extension": ".py",
   "mimetype": "text/x-python",
   "name": "python",
   "nbconvert_exporter": "python",
   "pygments_lexer": "ipython3",
   "version": "3.10.6"
  }
 },
 "nbformat": 4,
 "nbformat_minor": 5
}
