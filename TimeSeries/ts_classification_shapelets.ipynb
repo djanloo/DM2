{
 "cells": [
  {
   "cell_type": "code",
   "execution_count": null,
   "metadata": {},
   "outputs": [],
   "source": [
    "!pip install"
   ]
  },
  {
   "cell_type": "code",
   "execution_count": 123,
   "metadata": {
    "ExecuteTime": {
     "end_time": "2023-06-24T14:58:24.543372Z",
     "start_time": "2023-06-24T14:58:24.541998Z"
    }
   },
   "outputs": [
    {
     "name": "stdout",
     "output_type": "stream",
     "text": [
      "font sizes set\n"
     ]
    }
   ],
   "source": [
    "import os\n",
    "import numpy as np\n",
    "import pandas as pd\n",
    "import matplotlib.pyplot as plt\n",
    "import seaborn as sns; sns.set()\n",
    "from tslearn.piecewise import PiecewiseAggregateApproximation\n",
    "from sklearn.model_selection import train_test_split\n",
    "from tslearn.preprocessing import TimeSeriesScalerMinMax\n",
    "import sys\n",
    "sys.path.append('../')\n",
    "import default_style"
   ]
  },
  {
   "cell_type": "code",
   "execution_count": 2,
   "metadata": {
    "ExecuteTime": {
     "end_time": "2023-06-24T14:58:24.546282Z",
     "start_time": "2023-06-24T14:58:24.544179Z"
    }
   },
   "outputs": [],
   "source": [
    "TS_DATASET_FOLDER = os.path.join('..', 'dataset')\n",
    "TS_PREPROC_FOLDER = os.path.join(TS_DATASET_FOLDER, 'preprocessed_traces')\n",
    "DF_PREPROC_FILE = os.path.join(TS_PREPROC_FOLDER, 'preproc_ts.df')\n",
    "\n",
    "TARGET = 'statement'\n",
    "TRACES = 'syllables_02_sc'"
   ]
  },
  {
   "cell_type": "markdown",
   "metadata": {},
   "source": [
    "NB: good accuracy for:\n",
    "- vocal_channel--std_phon_trace l=0.15\n",
    "- sex--spectral_centroid l=0.15( ~0.98 accuracy if separate by vocal_channel)\n",
    "- sex--syllables_02_sc l=0.25(~0.8 accuracy even without division)\n",
    "- statement--syllables_02_sc l=0.60-0.90(~0.83 accuracy even without division)"
   ]
  },
  {
   "cell_type": "code",
   "execution_count": 3,
   "metadata": {
    "ExecuteTime": {
     "end_time": "2023-06-24T14:58:24.567211Z",
     "start_time": "2023-06-24T14:58:24.547075Z"
    }
   },
   "outputs": [
    {
     "data": {
      "text/html": [
       "<div>\n",
       "<style scoped>\n",
       "    .dataframe tbody tr th:only-of-type {\n",
       "        vertical-align: middle;\n",
       "    }\n",
       "\n",
       "    .dataframe tbody tr th {\n",
       "        vertical-align: top;\n",
       "    }\n",
       "\n",
       "    .dataframe thead th {\n",
       "        text-align: right;\n",
       "    }\n",
       "</style>\n",
       "<table border=\"1\" class=\"dataframe\">\n",
       "  <thead>\n",
       "    <tr style=\"text-align: right;\">\n",
       "      <th></th>\n",
       "      <th>vocal_channel</th>\n",
       "      <th>emotion</th>\n",
       "      <th>emotional_intensity</th>\n",
       "      <th>statement</th>\n",
       "      <th>repetition</th>\n",
       "      <th>actor</th>\n",
       "      <th>path</th>\n",
       "      <th>sex</th>\n",
       "      <th>begin_s</th>\n",
       "      <th>end_s</th>\n",
       "      <th>fourier_coeffs</th>\n",
       "      <th>filtered_fourier_coeffs</th>\n",
       "      <th>syll_0_start_index</th>\n",
       "      <th>syll_1_start_index</th>\n",
       "      <th>syll_2_start_index</th>\n",
       "      <th>syll_3_start_index</th>\n",
       "      <th>syll_4_start_index</th>\n",
       "      <th>syll_5_start_index</th>\n",
       "      <th>syll_6_start_index</th>\n",
       "      <th>syll_7_start_index</th>\n",
       "    </tr>\n",
       "  </thead>\n",
       "  <tbody>\n",
       "    <tr>\n",
       "      <th>0</th>\n",
       "      <td>speech</td>\n",
       "      <td>neutral</td>\n",
       "      <td>normal</td>\n",
       "      <td>kids</td>\n",
       "      <td>1st</td>\n",
       "      <td>actor_01</td>\n",
       "      <td>../dataset/Audio_Speech_Actors_01-24/Actor_01/...</td>\n",
       "      <td>M</td>\n",
       "      <td>1.009833</td>\n",
       "      <td>2.252000</td>\n",
       "      <td>[1.9371510e-07 1.2311488e-02 1.1168750e-02 ......</td>\n",
       "      <td>[1.9371510e-07 1.2311473e-02 1.1168692e-02 ......</td>\n",
       "      <td>0</td>\n",
       "      <td>1128</td>\n",
       "      <td>2240</td>\n",
       "      <td>3200</td>\n",
       "      <td>4304</td>\n",
       "      <td>5208</td>\n",
       "      <td>5808</td>\n",
       "      <td>7448</td>\n",
       "    </tr>\n",
       "    <tr>\n",
       "      <th>1</th>\n",
       "      <td>speech</td>\n",
       "      <td>neutral</td>\n",
       "      <td>normal</td>\n",
       "      <td>kids</td>\n",
       "      <td>2nd</td>\n",
       "      <td>actor_01</td>\n",
       "      <td>../dataset/Audio_Speech_Actors_01-24/Actor_01/...</td>\n",
       "      <td>M</td>\n",
       "      <td>1.068500</td>\n",
       "      <td>2.294667</td>\n",
       "      <td>[3.5017729e-07 2.6199006e-02 2.5683409e-02 ......</td>\n",
       "      <td>[3.5017729e-07 2.6198970e-02 2.5683273e-02 ......</td>\n",
       "      <td>0</td>\n",
       "      <td>2008</td>\n",
       "      <td>3208</td>\n",
       "      <td>3880</td>\n",
       "      <td>4224</td>\n",
       "      <td>5112</td>\n",
       "      <td>5800</td>\n",
       "      <td>7352</td>\n",
       "    </tr>\n",
       "    <tr>\n",
       "      <th>2</th>\n",
       "      <td>speech</td>\n",
       "      <td>neutral</td>\n",
       "      <td>normal</td>\n",
       "      <td>dogs</td>\n",
       "      <td>1st</td>\n",
       "      <td>actor_01</td>\n",
       "      <td>../dataset/Audio_Speech_Actors_01-24/Actor_01/...</td>\n",
       "      <td>M</td>\n",
       "      <td>1.012000</td>\n",
       "      <td>2.238500</td>\n",
       "      <td>[2.4959445e-07 1.2348385e-02 1.0678725e-02 ......</td>\n",
       "      <td>[2.49594450e-07 1.23483688e-02 1.06786685e-02 ...</td>\n",
       "      <td>0</td>\n",
       "      <td>2816</td>\n",
       "      <td>3352</td>\n",
       "      <td>3912</td>\n",
       "      <td>4296</td>\n",
       "      <td>5232</td>\n",
       "      <td>5880</td>\n",
       "      <td>7352</td>\n",
       "    </tr>\n",
       "    <tr>\n",
       "      <th>3</th>\n",
       "      <td>speech</td>\n",
       "      <td>neutral</td>\n",
       "      <td>normal</td>\n",
       "      <td>dogs</td>\n",
       "      <td>2nd</td>\n",
       "      <td>actor_01</td>\n",
       "      <td>../dataset/Audio_Speech_Actors_01-24/Actor_01/...</td>\n",
       "      <td>M</td>\n",
       "      <td>1.008833</td>\n",
       "      <td>2.187167</td>\n",
       "      <td>[1.1920929e-07 1.2154797e-02 1.6620804e-02 ......</td>\n",
       "      <td>[1.1920929e-07 1.2154780e-02 1.6620707e-02 ......</td>\n",
       "      <td>0</td>\n",
       "      <td>1664</td>\n",
       "      <td>2664</td>\n",
       "      <td>3208</td>\n",
       "      <td>3672</td>\n",
       "      <td>4840</td>\n",
       "      <td>5448</td>\n",
       "      <td>7064</td>\n",
       "    </tr>\n",
       "    <tr>\n",
       "      <th>4</th>\n",
       "      <td>speech</td>\n",
       "      <td>calm</td>\n",
       "      <td>normal</td>\n",
       "      <td>kids</td>\n",
       "      <td>1st</td>\n",
       "      <td>actor_01</td>\n",
       "      <td>../dataset/Audio_Speech_Actors_01-24/Actor_01/...</td>\n",
       "      <td>M</td>\n",
       "      <td>1.023667</td>\n",
       "      <td>2.534167</td>\n",
       "      <td>[1.1920929e-07 2.0026919e-03 7.9689088e-04 ......</td>\n",
       "      <td>[1.1920929e-07 2.0026902e-03 7.9688808e-04 ......</td>\n",
       "      <td>0</td>\n",
       "      <td>2088</td>\n",
       "      <td>3584</td>\n",
       "      <td>4832</td>\n",
       "      <td>5800</td>\n",
       "      <td>6944</td>\n",
       "      <td>7560</td>\n",
       "      <td>9056</td>\n",
       "    </tr>\n",
       "  </tbody>\n",
       "</table>\n",
       "</div>"
      ],
      "text/plain": [
       "  vocal_channel  emotion emotional_intensity statement repetition     actor  \\\n",
       "0        speech  neutral              normal      kids        1st  actor_01   \n",
       "1        speech  neutral              normal      kids        2nd  actor_01   \n",
       "2        speech  neutral              normal      dogs        1st  actor_01   \n",
       "3        speech  neutral              normal      dogs        2nd  actor_01   \n",
       "4        speech     calm              normal      kids        1st  actor_01   \n",
       "\n",
       "                                                path sex   begin_s     end_s  \\\n",
       "0  ../dataset/Audio_Speech_Actors_01-24/Actor_01/...   M  1.009833  2.252000   \n",
       "1  ../dataset/Audio_Speech_Actors_01-24/Actor_01/...   M  1.068500  2.294667   \n",
       "2  ../dataset/Audio_Speech_Actors_01-24/Actor_01/...   M  1.012000  2.238500   \n",
       "3  ../dataset/Audio_Speech_Actors_01-24/Actor_01/...   M  1.008833  2.187167   \n",
       "4  ../dataset/Audio_Speech_Actors_01-24/Actor_01/...   M  1.023667  2.534167   \n",
       "\n",
       "                                      fourier_coeffs  \\\n",
       "0  [1.9371510e-07 1.2311488e-02 1.1168750e-02 ......   \n",
       "1  [3.5017729e-07 2.6199006e-02 2.5683409e-02 ......   \n",
       "2  [2.4959445e-07 1.2348385e-02 1.0678725e-02 ......   \n",
       "3  [1.1920929e-07 1.2154797e-02 1.6620804e-02 ......   \n",
       "4  [1.1920929e-07 2.0026919e-03 7.9689088e-04 ......   \n",
       "\n",
       "                             filtered_fourier_coeffs  syll_0_start_index  \\\n",
       "0  [1.9371510e-07 1.2311473e-02 1.1168692e-02 ......                   0   \n",
       "1  [3.5017729e-07 2.6198970e-02 2.5683273e-02 ......                   0   \n",
       "2  [2.49594450e-07 1.23483688e-02 1.06786685e-02 ...                   0   \n",
       "3  [1.1920929e-07 1.2154780e-02 1.6620707e-02 ......                   0   \n",
       "4  [1.1920929e-07 2.0026902e-03 7.9688808e-04 ......                   0   \n",
       "\n",
       "   syll_1_start_index  syll_2_start_index  syll_3_start_index  \\\n",
       "0                1128                2240                3200   \n",
       "1                2008                3208                3880   \n",
       "2                2816                3352                3912   \n",
       "3                1664                2664                3208   \n",
       "4                2088                3584                4832   \n",
       "\n",
       "   syll_4_start_index  syll_5_start_index  syll_6_start_index  \\\n",
       "0                4304                5208                5808   \n",
       "1                4224                5112                5800   \n",
       "2                4296                5232                5880   \n",
       "3                3672                4840                5448   \n",
       "4                5800                6944                7560   \n",
       "\n",
       "   syll_7_start_index  \n",
       "0                7448  \n",
       "1                7352  \n",
       "2                7352  \n",
       "3                7064  \n",
       "4                9056  "
      ]
     },
     "execution_count": 3,
     "metadata": {},
     "output_type": "execute_result"
    }
   ],
   "source": [
    "df = pd.read_csv(DF_PREPROC_FILE).drop(columns=['Unnamed: 0'])\n",
    "df.head()"
   ]
  },
  {
   "cell_type": "code",
   "execution_count": 4,
   "metadata": {
    "ExecuteTime": {
     "end_time": "2023-06-24T14:58:25.570180Z",
     "start_time": "2023-06-24T14:58:24.566262Z"
    }
   },
   "outputs": [
    {
     "data": {
      "text/plain": [
       "dict_keys(['clean_trace', 'predictions', 'spectral_centroid', 'std_phon_trace', 'syllables_02_sc', 'syllables_02_STFT', 'syllables_0_ts', 'syllables_1_ts', 'syllables_2_ts', 'syllables_3_ts', 'syllables_4_ts', 'syllables_5_ts', 'syllables_6_ts', 'syllables_fourier', 'traces_fourier'])"
      ]
     },
     "execution_count": 4,
     "metadata": {},
     "output_type": "execute_result"
    }
   ],
   "source": [
    "traces_dict = {}\n",
    "files = os.listdir(TS_PREPROC_FOLDER)\n",
    "\n",
    "for file in files:\n",
    "\n",
    "    if file.endswith('.npy'):\n",
    "        file_path = os.path.join(TS_PREPROC_FOLDER, file)\n",
    "        # dictionary keys are the file names\n",
    "        key = os.path.splitext(file)[0]\n",
    "        # load array\n",
    "        traces_dict[key] = np.load(file_path, allow_pickle=True)\n",
    "\n",
    "traces_dict.keys()"
   ]
  },
  {
   "cell_type": "code",
   "execution_count": 5,
   "metadata": {
    "ExecuteTime": {
     "end_time": "2023-06-24T14:58:25.572948Z",
     "start_time": "2023-06-24T14:58:25.569579Z"
    },
    "scrolled": true
   },
   "outputs": [
    {
     "data": {
      "text/plain": [
       "(2452, 27)"
      ]
     },
     "execution_count": 5,
     "metadata": {},
     "output_type": "execute_result"
    }
   ],
   "source": [
    "traces = traces_dict[TRACES]\n",
    "traces.shape\n",
    "# traces = traces.reshape((traces.shape[0], traces.shape[1]*traces.shape[2]))\n",
    "# traces.shape"
   ]
  },
  {
   "cell_type": "markdown",
   "metadata": {},
   "source": [
    "### Separate song/speech to improve sex classification or skip next"
   ]
  },
  {
   "cell_type": "code",
   "execution_count": 302,
   "metadata": {},
   "outputs": [
    {
     "data": {
      "text/plain": [
       "\"traces_s = []\\nfor i in range(len(traces)):\\n    if df['vocal_channel'][i]=='song':\\n        traces_s.append(i) \\nlen(traces_s)\\n\\ntraces = traces[traces_s]\\n\\ndf = df[df['vocal_channel']=='song']\\n\\ndf = df.reset_index(drop=True)\\n\\nX_train, X_test, y_train, y_test = train_test_split(np.stack(traces), df[TARGET], \\ntest_size=0.2, random_state=100)\""
      ]
     },
     "execution_count": 302,
     "metadata": {},
     "output_type": "execute_result"
    }
   ],
   "source": [
    "\"\"\"traces_s = []\n",
    "for i in range(len(traces)):\n",
    "    if df['vocal_channel'][i]=='song':\n",
    "        traces_s.append(i) \n",
    "len(traces_s)\n",
    "\n",
    "traces = traces[traces_s]\n",
    "\n",
    "df = df[df['vocal_channel']=='song']\n",
    "\n",
    "df = df.reset_index(drop=True)\n",
    "\n",
    "X_train, X_test, y_train, y_test = train_test_split(np.stack(traces), df[TARGET], \n",
    "test_size=0.2, random_state=100)\"\"\""
   ]
  },
  {
   "cell_type": "markdown",
   "metadata": {},
   "source": [
    "## Traces splitting"
   ]
  },
  {
   "cell_type": "code",
   "execution_count": 6,
   "metadata": {},
   "outputs": [
    {
     "data": {
      "text/plain": [
       "array([[419.08209844, 349.35723506, 544.33671361, ..., 277.51863749,\n",
       "        378.26512716, 253.68883891],\n",
       "       [301.47501002, 339.00811566, 357.11550568, ..., 262.35697447,\n",
       "        330.05274818, 335.25545327],\n",
       "       [336.40745837, 454.8437495 , 430.46974817, ..., 270.59756814,\n",
       "        274.52819802, 260.62863826],\n",
       "       ...,\n",
       "       [382.78172495, 365.39762173, 338.32377007, ..., 510.74495241,\n",
       "        662.94740862, 606.81773152],\n",
       "       [347.2473202 , 400.3565358 , 436.45702937, ..., 263.79908923,\n",
       "        226.97672064, 239.85378015],\n",
       "       [412.48677416, 404.33498908, 484.31908603, ..., 392.29461001,\n",
       "        379.51697576, 391.18628789]])"
      ]
     },
     "execution_count": 6,
     "metadata": {},
     "output_type": "execute_result"
    }
   ],
   "source": [
    "# sort by actors\n",
    "sorted_indices = df['actor'].argsort()\n",
    "df = df.iloc[sorted_indices].reset_index(drop=True)\n",
    "\n",
    "traces = traces[sorted_indices]\n",
    "\n",
    "traces"
   ]
  },
  {
   "cell_type": "code",
   "execution_count": 7,
   "metadata": {},
   "outputs": [],
   "source": [
    "from sklearn.model_selection import train_test_split\n",
    "\n",
    "split_index = df[df['actor'] == 'actor_19'].index[0]\n",
    "\n",
    "X_train = traces[:split_index]\n",
    "X_test = traces[split_index:]\n",
    "\n",
    "y_train = df[TARGET][:split_index].to_numpy()\n",
    "y_test = df[TARGET][split_index:].to_numpy()"
   ]
  },
  {
   "cell_type": "code",
   "execution_count": 8,
   "metadata": {
    "ExecuteTime": {
     "end_time": "2023-06-24T14:58:25.732734Z",
     "start_time": "2023-06-24T14:58:25.575318Z"
    }
   },
   "outputs": [
    {
     "data": {
      "image/png": "[encoded data removed]",
      "text/plain": [
       "<Figure size 640x480 with 1 Axes>"
      ]
     },
     "metadata": {},
     "output_type": "display_data"
    }
   ],
   "source": [
    "index = 1\n",
    "statement = df[TARGET][index]\n",
    "plt.plot(X_train[index])\n",
    "plt.title(f'Time series at row #{index}, statement: {statement}')\n",
    "plt.show()"
   ]
  },
  {
   "cell_type": "code",
   "execution_count": 9,
   "metadata": {
    "ExecuteTime": {
     "end_time": "2023-06-24T14:58:25.887109Z",
     "start_time": "2023-06-24T14:58:25.883171Z"
    }
   },
   "outputs": [
    {
     "data": {
      "text/plain": [
       "False"
      ]
     },
     "execution_count": 9,
     "metadata": {},
     "output_type": "execute_result"
    }
   ],
   "source": [
    "np.any(np.isinf(traces))"
   ]
  },
  {
   "cell_type": "markdown",
   "metadata": {},
   "source": [
    "# Shapelets"
   ]
  },
  {
   "cell_type": "code",
   "execution_count": 111,
   "metadata": {
    "ExecuteTime": {
     "end_time": "2023-06-24T14:58:29.204381Z",
     "start_time": "2023-06-24T14:58:25.887475Z"
    },
    "scrolled": true
   },
   "outputs": [
    {
     "name": "stdout",
     "output_type": "stream",
     "text": [
      "n_ts 1828\n",
      "ts_sz 27\n",
      "shapelet_sizes {10: 4}\n"
     ]
    }
   ],
   "source": [
    "from tslearn.shapelets import ShapeletModel, grabocka_params_to_shapelet_size_dict,  LearningShapelets\n",
    "\n",
    "n_ts, ts_size = X_train.shape\n",
    "shapelet_sizes = grabocka_params_to_shapelet_size_dict(n_ts=n_ts, ts_sz=ts_size,\n",
    "                                                       n_classes=2, l=0.4, r=1)\n",
    "print('n_ts', n_ts)\n",
    "print('ts_sz', ts_size)\n",
    "print('shapelet_sizes', shapelet_sizes)"
   ]
  },
  {
   "cell_type": "code",
   "execution_count": 112,
   "metadata": {},
   "outputs": [],
   "source": [
    "import tensorflow as tf\n",
    "from tensorflow import keras\n",
    "optimizer = tf.keras.optimizers.SGD()"
   ]
  },
  {
   "cell_type": "code",
   "execution_count": 113,
   "metadata": {
    "ExecuteTime": {
     "end_time": "2023-06-24T15:00:15.016331Z",
     "start_time": "2023-06-24T14:58:29.212032Z"
    },
    "scrolled": true
   },
   "outputs": [
    {
     "name": "stderr",
     "output_type": "stream",
     "text": [
      "C:\\Users\\emanu\\.virtualenvs\\DM2-HUE9YkAX\\Lib\\site-packages\\tslearn\\shapelets\\shapelets.py:354: FutureWarning: The default value for 'scale' is set to False in version 0.4 to ensure backward compatibility, but is likely to change in a future version.\n",
      "  warnings.warn(\"The default value for 'scale' is set to False \"\n"
     ]
    },
    {
     "data": {
      "text/plain": [
       "array([array([[373.90637207],\n",
       "              [382.52740479],\n",
       "              [354.18878174],\n",
       "              [334.58401489],\n",
       "              [303.90353394],\n",
       "              [290.43093872],\n",
       "              [276.17977905],\n",
       "              [281.96658325],\n",
       "              [366.46078491],\n",
       "              [542.89624023]]), array([[534.98046875],\n",
       "                                       [500.77258301],\n",
       "                                       [409.49716187],\n",
       "                                       [332.65332031],\n",
       "                                       [292.02957153],\n",
       "                                       [280.31750488],\n",
       "                                       [280.8137207 ],\n",
       "                                       [318.30541992],\n",
       "                                       [326.31518555],\n",
       "                                       [345.46365356]]),\n",
       "       array([[297.80456543],\n",
       "              [299.52001953],\n",
       "              [304.0645752 ],\n",
       "              [307.42892456],\n",
       "              [327.97195435],\n",
       "              [391.99075317],\n",
       "              [407.09155273],\n",
       "              [386.88317871],\n",
       "              [384.78179932],\n",
       "              [339.1751709 ]]), array([[385.09140015],\n",
       "                                       [426.93554688],\n",
       "                                       [409.15731812],\n",
       "                                       [383.32684326],\n",
       "                                       [345.93057251],\n",
       "                                       [327.7489624 ],\n",
       "                                       [304.15682983],\n",
       "                                       [301.96221924],\n",
       "                                       [301.6232605 ],\n",
       "                                       [327.48809814]])], dtype=object)"
      ]
     },
     "execution_count": 113,
     "metadata": {},
     "output_type": "execute_result"
    }
   ],
   "source": [
    "# -------- Shapelets extraction --------\n",
    "\n",
    "# shapelets extraction model\n",
    "shapelet_model =  ShapeletModel(optimizer=optimizer, random_state=42,n_shapelets_per_size=shapelet_sizes, batch_size=16, max_iter=100)\n",
    "shapelet_model.fit(X_train, y_train)\n",
    "\n",
    "# shapelets extraction\n",
    "shapelets = shapelet_model.shapelets_\n",
    "shapelets"
   ]
  },
  {
   "cell_type": "markdown",
   "metadata": {},
   "source": [
    "## Visualize Shapelets"
   ]
  },
  {
   "cell_type": "code",
   "execution_count": 114,
   "metadata": {},
   "outputs": [],
   "source": [
    "c=list(shapelet_sizes.values())\n",
    "distances = shapelet_model.transform(X_train)\n",
    "predicted_locations = shapelet_model.locate(X_train)"
   ]
  },
  {
   "cell_type": "code",
   "execution_count": 115,
   "metadata": {},
   "outputs": [],
   "source": [
    "distances = np.stack(distances, axis=-1)"
   ]
  },
  {
   "cell_type": "code",
   "execution_count": 126,
   "metadata": {},
   "outputs": [
    {
     "data": {
      "image/png": "[encoded data removed]",
      "text/plain": [
       "<Figure size 708.661x354.331 with 4 Axes>"
      ]
     },
     "metadata": {},
     "output_type": "display_data"
    }
   ],
   "source": [
    "# Plot the shapelet and align it on the best matched time series. \n",
    "f, ax = plt.subplots(c[0], 1, sharex=True, figsize=default_style.FULLSIZE_FIGURE)\n",
    "for n_shap in range(c[0]):    \n",
    "    test_ts_id = np.argmin(distances[n_shap])\n",
    "    shap = shapelet_model.shapelets_[n_shap]\n",
    "    pos = predicted_locations[test_ts_id, n_shap]\n",
    "    statement = df[TARGET][test_ts_id]\n",
    "    ax[n_shap].plot(X_train[test_ts_id].ravel())\n",
    "    ax[n_shap].plot(np.arange(pos, pos + len(shap)), shap, linewidth=2)\n",
    "    # ax[0].axvline(pos, color='k', linestyle='--', alpha=0.25)\n",
    "    ax[n_shap].set_title(f\"The aligned extracted {n_shap}-shapelet,  index {test_ts_id} - target {statement}\")\n",
    "#     ax[n_shap].set_ylabel(\"[Hz]\");\n",
    "ax[n_shap].set_xlabel(\"Time bin\")\n",
    "f.tight_layout(pad=1.0)\n",
    "f.savefig(\"../images/shapelet_found.pdf\")\n",
    "plt.show()"
   ]
  },
  {
   "cell_type": "markdown",
   "metadata": {},
   "source": [
    "## KNN classifier"
   ]
  },
  {
   "cell_type": "code",
   "execution_count": 18,
   "metadata": {},
   "outputs": [
    {
     "data": {
      "text/plain": [
       "'param_grid = {\\n    \\'max_depth\\': np.arange(2, 50),\\n    \\'max_features\\': [\\'auto\\', \\'sqrt\\', \\'log\\'],\\n    \\'criterion\\': [\"gini\",\"entropy\", \"log_loss\"],\\n}\\n\\ngrid = GridSearchCV(\\n    DecisionTreeClassifier(),\\n    param_grid=param_grid,\\n    cv=RepeatedStratifiedKFold(random_state=0),\\n    n_jobs=-1,\\n    refit=True,\\n)\\n\\ngrid.fit(X_train_transformed, y_train)\\nprint(grid.best_params_, grid.best_score_)\\n\\ndec = grid.best_estimator_\\ny_pred = dec.predict(X_test_transformed)\\n\\nfrom sklearn.metrics import accuracy_score, f1_score, classification_report\\n\\nprint(\\'Accuracy %s\\' % accuracy_score(y_test, y_pred))\\nprint(\\'F1-score %s\\' % f1_score(y_test, y_pred, average=None))\\nprint(classification_report(y_test, y_pred))'"
      ]
     },
     "execution_count": 18,
     "metadata": {},
     "output_type": "execute_result"
    }
   ],
   "source": [
    "from sklearn.tree import DecisionTreeClassifier\n",
    "from sklearn.neighbors import KNeighborsClassifier\n",
    "from sklearn.model_selection import GridSearchCV, RepeatedStratifiedKFold\n",
    "\n",
    "\"\"\"param_grid = {\n",
    "    'max_depth': np.arange(2, 50),\n",
    "    'max_features': ['auto', 'sqrt', 'log'],\n",
    "    'criterion': [\"gini\",\"entropy\", \"log_loss\"],\n",
    "}\n",
    "\n",
    "grid = GridSearchCV(\n",
    "    DecisionTreeClassifier(),\n",
    "    param_grid=param_grid,\n",
    "    cv=RepeatedStratifiedKFold(random_state=0),\n",
    "    n_jobs=-1,\n",
    "    refit=True,\n",
    ")\n",
    "\n",
    "grid.fit(X_train_transformed, y_train)\n",
    "print(grid.best_params_, grid.best_score_)\n",
    "\n",
    "dec = grid.best_estimator_\n",
    "y_pred = dec.predict(X_test_transformed)\n",
    "\n",
    "from sklearn.metrics import accuracy_score, f1_score, classification_report\n",
    "\n",
    "print('Accuracy %s' % accuracy_score(y_test, y_pred))\n",
    "print('F1-score %s' % f1_score(y_test, y_pred, average=None))\n",
    "print(classification_report(y_test, y_pred))\"\"\""
   ]
  },
  {
   "cell_type": "code",
   "execution_count": 117,
   "metadata": {},
   "outputs": [],
   "source": [
    "# -------- Shapelets distances computation --------\n",
    "\n",
    "X_train_transformed = shapelet_model.transform(X_train)\n",
    "X_test_transformed = shapelet_model.transform(X_test)"
   ]
  },
  {
   "cell_type": "code",
   "execution_count": 118,
   "metadata": {
    "ExecuteTime": {
     "end_time": "2023-06-24T15:00:35.479884Z",
     "start_time": "2023-06-24T15:00:15.606845Z"
    }
   },
   "outputs": [
    {
     "name": "stdout",
     "output_type": "stream",
     "text": [
      "{'metric': 'euclidean', 'n_neighbors': 44, 'weights': 'uniform'} 0.7212812336252713\n"
     ]
    }
   ],
   "source": [
    "# -------- Hyperparameters tuning --------\n",
    "\n",
    "param_grid = {\n",
    "    'n_neighbors': np.arange(2, 50),\n",
    "    'weights': ['uniform', 'distance'],\n",
    "    'metric': ['euclidean', 'minkowski'],\n",
    "}\n",
    "\n",
    "grid = GridSearchCV(\n",
    "    KNeighborsClassifier(),\n",
    "    param_grid=param_grid,\n",
    "    cv=RepeatedStratifiedKFold(random_state=0),\n",
    "    n_jobs=-1,\n",
    "    refit=True,\n",
    ")\n",
    "\n",
    "grid.fit(X_train_transformed, y_train)\n",
    "print(grid.best_params_, grid.best_score_)"
   ]
  },
  {
   "cell_type": "code",
   "execution_count": 119,
   "metadata": {
    "ExecuteTime": {
     "end_time": "2023-06-24T15:00:35.627820Z",
     "start_time": "2023-06-24T15:00:35.482954Z"
    }
   },
   "outputs": [],
   "source": [
    "# -------- Classification --------\n",
    "\n",
    "knn = grid.best_estimator_\n",
    "y_pred = knn.predict(X_test_transformed)"
   ]
  },
  {
   "cell_type": "code",
   "execution_count": 120,
   "metadata": {
    "ExecuteTime": {
     "end_time": "2023-06-24T15:00:35.669167Z",
     "start_time": "2023-06-24T15:00:35.636721Z"
    }
   },
   "outputs": [
    {
     "name": "stdout",
     "output_type": "stream",
     "text": [
      "Accuracy 0.717948717948718\n",
      "F1-score [0.73731343 0.69550173]\n",
      "              precision    recall  f1-score   support\n",
      "\n",
      "        dogs       0.69      0.79      0.74       312\n",
      "        kids       0.76      0.64      0.70       312\n",
      "\n",
      "    accuracy                           0.72       624\n",
      "   macro avg       0.72      0.72      0.72       624\n",
      "weighted avg       0.72      0.72      0.72       624\n",
      "\n"
     ]
    }
   ],
   "source": [
    "from sklearn.metrics import accuracy_score, f1_score, classification_report\n",
    "\n",
    "print('Accuracy %s' % accuracy_score(y_test, y_pred))\n",
    "print('F1-score %s' % f1_score(y_test, y_pred, average=None))\n",
    "print(classification_report(y_test, y_pred))"
   ]
  },
  {
   "cell_type": "code",
   "execution_count": null,
   "metadata": {
    "ExecuteTime": {
     "end_time": "2023-06-24T15:00:35.673395Z",
     "start_time": "2023-06-24T15:00:35.669410Z"
    }
   },
   "outputs": [],
   "source": []
  }
 ],
 "metadata": {
  "kernelspec": {
   "display_name": "DM2-HUE9YkAX",
   "language": "python",
   "name": "dm2-hue9ykax"
  },
  "language_info": {
   "codemirror_mode": {
    "name": "ipython",
    "version": 3
   },
   "file_extension": ".py",
   "mimetype": "text/x-python",
   "name": "python",
   "nbconvert_exporter": "python",
   "pygments_lexer": "ipython3",
   "version": "3.11.0"
  }
 },
 "nbformat": 4,
 "nbformat_minor": 1
}
