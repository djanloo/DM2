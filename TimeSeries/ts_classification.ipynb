{
 "cells": [
  {
   "cell_type": "code",
   "execution_count": 1,
   "metadata": {
    "collapsed": true,
    "ExecuteTime": {
     "end_time": "2023-06-22T12:59:50.282540Z",
     "start_time": "2023-06-22T12:59:49.886295Z"
    }
   },
   "outputs": [],
   "source": [
    "import os\n",
    "import numpy as np\n",
    "import pandas as pd\n",
    "import matplotlib.pyplot as plt\n",
    "import seaborn as sns; sns.set()"
   ]
  },
  {
   "cell_type": "code",
   "execution_count": 2,
   "outputs": [],
   "source": [
    "TS_DATASET_FOLDER = os.path.join('..', 'dataset')\n",
    "TS_PREPROC_FOLDER = os.path.join(TS_DATASET_FOLDER, 'preprocessed_traces')\n",
    "DF_PREPROC_FILE = os.path.join(TS_PREPROC_FOLDER, 'preproc_ts.df')"
   ],
   "metadata": {
    "collapsed": false,
    "ExecuteTime": {
     "end_time": "2023-06-22T12:59:50.289779Z",
     "start_time": "2023-06-22T12:59:49.891387Z"
    }
   }
  },
  {
   "cell_type": "code",
   "execution_count": 3,
   "outputs": [
    {
     "data": {
      "text/plain": "  vocal_channel    emotion emotional_intensity statement repetition     actor   \n0        speech  surprised              strong      dogs        1st  actor_01  \\\n1        speech  surprised              normal      kids        1st  actor_01   \n2        speech      angry              normal      dogs        1st  actor_01   \n3        speech    fearful              normal      dogs        2nd  actor_01   \n4        speech    fearful              strong      kids        2nd  actor_01   \n\n                                                path sex   begin_s     end_s   \n0  ../dataset/Audio_Speech_Actors_01-24/Actor_01/...   M  1.007500  2.498167  \\\n1  ../dataset/Audio_Speech_Actors_01-24/Actor_01/...   M  1.024167  2.357167   \n2  ../dataset/Audio_Speech_Actors_01-24/Actor_01/...   M  1.029333  2.467500   \n3  ../dataset/Audio_Speech_Actors_01-24/Actor_01/...   M  1.030500  2.710000   \n4  ../dataset/Audio_Speech_Actors_01-24/Actor_01/...   M  1.047667  3.127167   \n\n                                      fourier_coeffs   \n0  [1.0788441e-05 3.7551079e-02 3.6168553e-02 ......  \\\n1  [8.6426735e-06 1.0938305e-02 7.4250461e-03 ......   \n2  [1.1563301e-05 4.1558143e-02 2.8845785e-02 ......   \n3  [2.0563602e-06 1.1770763e-02 5.6602592e-03 ......   \n4  [6.9618225e-05 1.3387279e-02 8.0524459e-02 ......   \n\n                             filtered_fourier_coeffs  syll_0_start_index   \n0  [1.0788441e-05 3.7551045e-02 3.6168423e-02 ......                   0  \\\n1  [8.6426735e-06 1.0938293e-02 7.4250125e-03 ......                   0   \n2  [1.15633011e-05 4.15581055e-02 2.88456734e-02 ...                   0   \n3  [2.0563602e-06 1.1770754e-02 5.6602429e-03 ......                   0   \n4  [6.9618225e-05 1.3387272e-02 8.0524310e-02 ......                   0   \n\n   syll_1_start_index  syll_2_start_index  syll_3_start_index   \n0                2872                3920                4536  \\\n1                1544                2528                4032   \n2                2992                4368                4912   \n3                4576                5064                6240   \n4                1984                2504                3648   \n\n   syll_4_start_index  syll_5_start_index  syll_6_start_index   \n0                5536                6480                7136  \\\n1                5224                5984                6712   \n2                5896                6768                7400   \n3                7544                8248                8784   \n4                5176                8320               10256   \n\n   syll_7_start_index  \n0                8936  \n1                7992  \n2                8624  \n3               10072  \n4               12472  ",
      "text/html": "<div>\n<style scoped>\n    .dataframe tbody tr th:only-of-type {\n        vertical-align: middle;\n    }\n\n    .dataframe tbody tr th {\n        vertical-align: top;\n    }\n\n    .dataframe thead th {\n        text-align: right;\n    }\n</style>\n<table border=\"1\" class=\"dataframe\">\n  <thead>\n    <tr style=\"text-align: right;\">\n      <th></th>\n      <th>vocal_channel</th>\n      <th>emotion</th>\n      <th>emotional_intensity</th>\n      <th>statement</th>\n      <th>repetition</th>\n      <th>actor</th>\n      <th>path</th>\n      <th>sex</th>\n      <th>begin_s</th>\n      <th>end_s</th>\n      <th>fourier_coeffs</th>\n      <th>filtered_fourier_coeffs</th>\n      <th>syll_0_start_index</th>\n      <th>syll_1_start_index</th>\n      <th>syll_2_start_index</th>\n      <th>syll_3_start_index</th>\n      <th>syll_4_start_index</th>\n      <th>syll_5_start_index</th>\n      <th>syll_6_start_index</th>\n      <th>syll_7_start_index</th>\n    </tr>\n  </thead>\n  <tbody>\n    <tr>\n      <th>0</th>\n      <td>speech</td>\n      <td>surprised</td>\n      <td>strong</td>\n      <td>dogs</td>\n      <td>1st</td>\n      <td>actor_01</td>\n      <td>../dataset/Audio_Speech_Actors_01-24/Actor_01/...</td>\n      <td>M</td>\n      <td>1.007500</td>\n      <td>2.498167</td>\n      <td>[1.0788441e-05 3.7551079e-02 3.6168553e-02 ......</td>\n      <td>[1.0788441e-05 3.7551045e-02 3.6168423e-02 ......</td>\n      <td>0</td>\n      <td>2872</td>\n      <td>3920</td>\n      <td>4536</td>\n      <td>5536</td>\n      <td>6480</td>\n      <td>7136</td>\n      <td>8936</td>\n    </tr>\n    <tr>\n      <th>1</th>\n      <td>speech</td>\n      <td>surprised</td>\n      <td>normal</td>\n      <td>kids</td>\n      <td>1st</td>\n      <td>actor_01</td>\n      <td>../dataset/Audio_Speech_Actors_01-24/Actor_01/...</td>\n      <td>M</td>\n      <td>1.024167</td>\n      <td>2.357167</td>\n      <td>[8.6426735e-06 1.0938305e-02 7.4250461e-03 ......</td>\n      <td>[8.6426735e-06 1.0938293e-02 7.4250125e-03 ......</td>\n      <td>0</td>\n      <td>1544</td>\n      <td>2528</td>\n      <td>4032</td>\n      <td>5224</td>\n      <td>5984</td>\n      <td>6712</td>\n      <td>7992</td>\n    </tr>\n    <tr>\n      <th>2</th>\n      <td>speech</td>\n      <td>angry</td>\n      <td>normal</td>\n      <td>dogs</td>\n      <td>1st</td>\n      <td>actor_01</td>\n      <td>../dataset/Audio_Speech_Actors_01-24/Actor_01/...</td>\n      <td>M</td>\n      <td>1.029333</td>\n      <td>2.467500</td>\n      <td>[1.1563301e-05 4.1558143e-02 2.8845785e-02 ......</td>\n      <td>[1.15633011e-05 4.15581055e-02 2.88456734e-02 ...</td>\n      <td>0</td>\n      <td>2992</td>\n      <td>4368</td>\n      <td>4912</td>\n      <td>5896</td>\n      <td>6768</td>\n      <td>7400</td>\n      <td>8624</td>\n    </tr>\n    <tr>\n      <th>3</th>\n      <td>speech</td>\n      <td>fearful</td>\n      <td>normal</td>\n      <td>dogs</td>\n      <td>2nd</td>\n      <td>actor_01</td>\n      <td>../dataset/Audio_Speech_Actors_01-24/Actor_01/...</td>\n      <td>M</td>\n      <td>1.030500</td>\n      <td>2.710000</td>\n      <td>[2.0563602e-06 1.1770763e-02 5.6602592e-03 ......</td>\n      <td>[2.0563602e-06 1.1770754e-02 5.6602429e-03 ......</td>\n      <td>0</td>\n      <td>4576</td>\n      <td>5064</td>\n      <td>6240</td>\n      <td>7544</td>\n      <td>8248</td>\n      <td>8784</td>\n      <td>10072</td>\n    </tr>\n    <tr>\n      <th>4</th>\n      <td>speech</td>\n      <td>fearful</td>\n      <td>strong</td>\n      <td>kids</td>\n      <td>2nd</td>\n      <td>actor_01</td>\n      <td>../dataset/Audio_Speech_Actors_01-24/Actor_01/...</td>\n      <td>M</td>\n      <td>1.047667</td>\n      <td>3.127167</td>\n      <td>[6.9618225e-05 1.3387279e-02 8.0524459e-02 ......</td>\n      <td>[6.9618225e-05 1.3387272e-02 8.0524310e-02 ......</td>\n      <td>0</td>\n      <td>1984</td>\n      <td>2504</td>\n      <td>3648</td>\n      <td>5176</td>\n      <td>8320</td>\n      <td>10256</td>\n      <td>12472</td>\n    </tr>\n  </tbody>\n</table>\n</div>"
     },
     "execution_count": 3,
     "metadata": {},
     "output_type": "execute_result"
    }
   ],
   "source": [
    "df = pd.read_csv(DF_PREPROC_FILE).drop(columns=['Unnamed: 0'])\n",
    "df.head()"
   ],
   "metadata": {
    "collapsed": false,
    "ExecuteTime": {
     "end_time": "2023-06-22T12:59:50.446661Z",
     "start_time": "2023-06-22T12:59:49.897416Z"
    }
   }
  },
  {
   "cell_type": "code",
   "execution_count": 4,
   "outputs": [
    {
     "data": {
      "text/plain": "dict_keys(['clean_trace', 'syllables_1_ts', 'std_phon_trace', 'spectral_mode', 'syllables_3_ts', 'syllables_5_ts', 'syllables_0_ts', 'syllables_2_ts', 'spectral_centroid', 'syllables_fourier', 'traces_fourier', 'syllables_6_ts', 'syllables_4_ts'])"
     },
     "execution_count": 4,
     "metadata": {},
     "output_type": "execute_result"
    }
   ],
   "source": [
    "traces_dict = {}\n",
    "files = os.listdir(TS_PREPROC_FOLDER)\n",
    "\n",
    "for file in files:\n",
    "\n",
    "    if file.endswith('.npy'):\n",
    "        file_path = os.path.join(TS_PREPROC_FOLDER, file)\n",
    "        # dictionary keys are the file names\n",
    "        key = os.path.splitext(file)[0]\n",
    "        # load array\n",
    "        traces_dict[key] = np.load(file_path, allow_pickle=True)\n",
    "\n",
    "traces_dict.keys()"
   ],
   "metadata": {
    "collapsed": false,
    "ExecuteTime": {
     "end_time": "2023-06-22T12:59:50.847452Z",
     "start_time": "2023-06-22T12:59:49.926549Z"
    }
   }
  },
  {
   "cell_type": "code",
   "execution_count": 5,
   "outputs": [
    {
     "data": {
      "text/plain": "array([[-4.90004350e-05,  7.73346967e-01, -1.79433335e-01, ...,\n        -2.69684771e+00, -9.77675485e-01, -2.10445147e+00],\n       [-3.62472570e-06,  1.34848667e-01, -2.63034843e-01, ...,\n        -7.27813660e-01, -5.68124943e-01, -9.50867586e-01],\n       [-6.99467997e-06, -5.24152273e-01,  2.77687184e-01, ...,\n         1.94433602e+00, -1.06601257e+00, -1.31455424e+00],\n       ...,\n       [ 2.15095951e-05, -1.99329731e-01, -1.14561768e+00, ...,\n         2.93436020e+00,  1.61758936e+00, -7.89978593e-01],\n       [ 2.80587450e-04,  1.06084298e+00, -1.59030824e+00, ...,\n        -1.32125137e+00, -1.03488435e+00, -1.52757650e+00],\n       [-1.06901232e-04, -1.07254930e+00,  2.83278819e-01, ...,\n        -2.11945009e-01, -2.80478659e-01,  6.58119640e-01]])"
     },
     "execution_count": 5,
     "metadata": {},
     "output_type": "execute_result"
    }
   ],
   "source": [
    "traces = traces_dict['traces_fourier']\n",
    "traces"
   ],
   "metadata": {
    "collapsed": false,
    "ExecuteTime": {
     "end_time": "2023-06-22T12:59:50.851926Z",
     "start_time": "2023-06-22T12:59:50.847743Z"
    }
   }
  },
  {
   "cell_type": "code",
   "execution_count": 6,
   "outputs": [
    {
     "data": {
      "text/plain": "array([[-4.90004350e-05,  7.73346967e-01, -1.79433335e-01, ...,\n        -2.69684771e+00, -9.77675485e-01, -2.10445147e+00],\n       [ 5.91052303e-05, -1.34865177e-02, -2.60041494e-01, ...,\n         1.07107294e+00,  2.15917983e-01, -2.93584319e-01],\n       [ 2.95769004e-05,  1.73197639e+00,  1.68544921e+00, ...,\n         1.30426031e+00, -1.98513203e-01,  2.74592432e+00],\n       ...,\n       [-9.56468684e-05, -6.12818401e-01,  6.34805050e-02, ...,\n        -1.09599072e+00, -2.22293451e+00, -2.27915564e+00],\n       [ 3.39771821e-05, -5.73898488e-01, -1.11813726e-01, ...,\n        -3.92495786e-02, -1.07325160e+00, -8.43165911e-01],\n       [-1.06901232e-04, -1.07254930e+00,  2.83278819e-01, ...,\n        -2.11945009e-01, -2.80478659e-01,  6.58119640e-01]])"
     },
     "execution_count": 6,
     "metadata": {},
     "output_type": "execute_result"
    }
   ],
   "source": [
    "# sort by actors\n",
    "sorted_indices = df['actor'].argsort()\n",
    "df = df.iloc[sorted_indices].reset_index(drop=True)\n",
    "\n",
    "traces = traces[sorted_indices]\n",
    "\n",
    "traces"
   ],
   "metadata": {
    "collapsed": false,
    "ExecuteTime": {
     "end_time": "2023-06-22T12:59:50.862613Z",
     "start_time": "2023-06-22T12:59:50.857757Z"
    }
   }
  },
  {
   "cell_type": "code",
   "execution_count": 7,
   "outputs": [
    {
     "data": {
      "text/plain": "((1462, 16), (366, 16), (624, 16), (1462,), (366,), (624,))"
     },
     "execution_count": 7,
     "metadata": {},
     "output_type": "execute_result"
    }
   ],
   "source": [
    "from sklearn.model_selection import train_test_split\n",
    "\n",
    "split_index = df[df['actor'] == 'actor_19'].index[0]\n",
    "\n",
    "X_train = traces[:split_index]\n",
    "X_test = traces[split_index:]\n",
    "\n",
    "y_train = df['vocal_channel'][:split_index].to_numpy()\n",
    "y_test = df['vocal_channel'][split_index:].to_numpy()\n",
    "\n",
    "X_train_v, X_valid, y_train_v, y_valid = train_test_split(X_train, y_train, test_size=0.2, random_state=100)\n",
    "\n",
    "X_train_v.shape, X_valid.shape, X_test.shape, y_train_v.shape, y_valid.shape, y_test.shape"
   ],
   "metadata": {
    "collapsed": false,
    "ExecuteTime": {
     "end_time": "2023-06-22T12:59:51.013459Z",
     "start_time": "2023-06-22T12:59:50.864577Z"
    }
   }
  },
  {
   "cell_type": "markdown",
   "source": [
    "# KNN using euclidean distance"
   ],
   "metadata": {
    "collapsed": false
   }
  },
  {
   "cell_type": "code",
   "execution_count": 8,
   "outputs": [
    {
     "name": "stderr",
     "output_type": "stream",
     "text": [
      "[I 2023-06-22 14:59:51,448] A new study created in memory with name: no-name-e5bb6f8d-8f85-42c6-be3b-e6044a6ebfd1\n",
      "[I 2023-06-22 14:59:53,184] Trial 4 finished with value: 0.6666666666666666 and parameters: {'n_neighbors': 12, 'weights': 'distance', 'distance': 'euclidean', 'n_jobs': -1}. Best is trial 4 with value: 0.6666666666666666.\n",
      "[I 2023-06-22 14:59:53,188] Trial 6 finished with value: 0.6775956284153005 and parameters: {'n_neighbors': 27, 'weights': 'distance', 'distance': 'euclidean', 'n_jobs': -1}. Best is trial 4 with value: 0.6666666666666666.\n",
      "[I 2023-06-22 14:59:53,202] Trial 0 finished with value: 0.6912568306010929 and parameters: {'n_neighbors': 24, 'weights': 'distance', 'distance': 'euclidean', 'n_jobs': -1}. Best is trial 4 with value: 0.6666666666666666.\n",
      "[I 2023-06-22 14:59:53,250] Trial 5 finished with value: 0.6584699453551912 and parameters: {'n_neighbors': 49, 'weights': 'distance', 'distance': 'euclidean', 'n_jobs': -1}. Best is trial 5 with value: 0.6584699453551912.\n",
      "[I 2023-06-22 14:59:53,916] Trial 2 finished with value: 0.6939890710382514 and parameters: {'n_neighbors': 9, 'weights': 'uniform', 'distance': 'euclidean', 'n_jobs': -1}. Best is trial 5 with value: 0.6584699453551912.\n",
      "[I 2023-06-22 14:59:54,055] Trial 11 finished with value: 0.6584699453551912 and parameters: {'n_neighbors': 49, 'weights': 'distance', 'distance': 'euclidean', 'n_jobs': -1}. Best is trial 5 with value: 0.6584699453551912.\n",
      "[I 2023-06-22 14:59:54,125] Trial 8 finished with value: 0.674863387978142 and parameters: {'n_neighbors': 14, 'weights': 'uniform', 'distance': 'euclidean', 'n_jobs': -1}. Best is trial 5 with value: 0.6584699453551912.\n",
      "[I 2023-06-22 14:59:54,136] Trial 7 finished with value: 0.6639344262295082 and parameters: {'n_neighbors': 38, 'weights': 'uniform', 'distance': 'euclidean', 'n_jobs': -1}. Best is trial 5 with value: 0.6584699453551912.\n",
      "[I 2023-06-22 14:59:54,137] Trial 9 finished with value: 0.674863387978142 and parameters: {'n_neighbors': 14, 'weights': 'uniform', 'distance': 'euclidean', 'n_jobs': -1}. Best is trial 5 with value: 0.6584699453551912.\n",
      "[I 2023-06-22 14:59:54,291] Trial 12 finished with value: 0.6557377049180327 and parameters: {'n_neighbors': 41, 'weights': 'distance', 'distance': 'euclidean', 'n_jobs': -1}. Best is trial 12 with value: 0.6557377049180327.\n",
      "[I 2023-06-22 14:59:54,352] Trial 1 finished with value: 0.6612021857923497 and parameters: {'n_neighbors': 44, 'weights': 'uniform', 'distance': 'euclidean', 'n_jobs': -1}. Best is trial 12 with value: 0.6557377049180327.\n",
      "[I 2023-06-22 14:59:54,902] Trial 14 finished with value: 0.6666666666666666 and parameters: {'n_neighbors': 13, 'weights': 'distance', 'distance': 'euclidean', 'n_jobs': -1}. Best is trial 12 with value: 0.6557377049180327.\n",
      "[I 2023-06-22 14:59:54,948] Trial 13 finished with value: 0.6612021857923497 and parameters: {'n_neighbors': 39, 'weights': 'distance', 'distance': 'euclidean', 'n_jobs': -1}. Best is trial 12 with value: 0.6557377049180327.\n",
      "[I 2023-06-22 14:59:55,092] Trial 15 finished with value: 0.6666666666666666 and parameters: {'n_neighbors': 12, 'weights': 'distance', 'distance': 'euclidean', 'n_jobs': -1}. Best is trial 12 with value: 0.6557377049180327.\n",
      "[I 2023-06-22 14:59:55,370] Trial 16 finished with value: 0.6721311475409836 and parameters: {'n_neighbors': 37, 'weights': 'distance', 'distance': 'euclidean', 'n_jobs': -1}. Best is trial 12 with value: 0.6557377049180327.\n",
      "[I 2023-06-22 14:59:55,382] Trial 17 finished with value: 0.6721311475409836 and parameters: {'n_neighbors': 37, 'weights': 'distance', 'distance': 'euclidean', 'n_jobs': -1}. Best is trial 12 with value: 0.6557377049180327.\n",
      "[I 2023-06-22 14:59:55,793] Trial 18 finished with value: 0.674863387978142 and parameters: {'n_neighbors': 35, 'weights': 'distance', 'distance': 'euclidean', 'n_jobs': -1}. Best is trial 12 with value: 0.6557377049180327.\n",
      "[I 2023-06-22 14:59:55,872] Trial 19 finished with value: 0.6475409836065574 and parameters: {'n_neighbors': 50, 'weights': 'distance', 'distance': 'euclidean', 'n_jobs': -1}. Best is trial 19 with value: 0.6475409836065574.\n",
      "[I 2023-06-22 14:59:55,969] Trial 10 finished with value: 0.6612021857923497 and parameters: {'n_neighbors': 42, 'weights': 'uniform', 'distance': 'euclidean', 'n_jobs': -1}. Best is trial 19 with value: 0.6475409836065574.\n",
      "[I 2023-06-22 14:59:56,074] Trial 21 finished with value: 0.6475409836065574 and parameters: {'n_neighbors': 50, 'weights': 'distance', 'distance': 'euclidean', 'n_jobs': -1}. Best is trial 19 with value: 0.6475409836065574.\n",
      "[I 2023-06-22 14:59:56,179] Trial 20 finished with value: 0.6475409836065574 and parameters: {'n_neighbors': 50, 'weights': 'distance', 'distance': 'euclidean', 'n_jobs': -1}. Best is trial 19 with value: 0.6475409836065574.\n",
      "[I 2023-06-22 14:59:56,562] Trial 22 finished with value: 0.6584699453551912 and parameters: {'n_neighbors': 49, 'weights': 'distance', 'distance': 'euclidean', 'n_jobs': -1}. Best is trial 19 with value: 0.6475409836065574.\n",
      "[I 2023-06-22 14:59:56,772] Trial 25 finished with value: 0.6775956284153005 and parameters: {'n_neighbors': 29, 'weights': 'distance', 'distance': 'euclidean', 'n_jobs': -1}. Best is trial 19 with value: 0.6475409836065574.\n",
      "[I 2023-06-22 14:59:56,794] Trial 24 finished with value: 0.6475409836065574 and parameters: {'n_neighbors': 50, 'weights': 'distance', 'distance': 'euclidean', 'n_jobs': -1}. Best is trial 19 with value: 0.6475409836065574.\n",
      "[I 2023-06-22 14:59:56,820] Trial 23 finished with value: 0.6475409836065574 and parameters: {'n_neighbors': 50, 'weights': 'distance', 'distance': 'euclidean', 'n_jobs': -1}. Best is trial 19 with value: 0.6475409836065574.\n",
      "[I 2023-06-22 14:59:56,973] Trial 26 finished with value: 0.6475409836065574 and parameters: {'n_neighbors': 46, 'weights': 'distance', 'distance': 'euclidean', 'n_jobs': -1}. Best is trial 19 with value: 0.6475409836065574.\n",
      "[I 2023-06-22 14:59:57,345] Trial 27 finished with value: 0.6475409836065574 and parameters: {'n_neighbors': 50, 'weights': 'distance', 'distance': 'euclidean', 'n_jobs': -1}. Best is trial 19 with value: 0.6475409836065574.\n",
      "[I 2023-06-22 14:59:57,636] Trial 28 finished with value: 0.6857923497267759 and parameters: {'n_neighbors': 30, 'weights': 'distance', 'distance': 'euclidean', 'n_jobs': -1}. Best is trial 19 with value: 0.6475409836065574.\n",
      "[I 2023-06-22 14:59:57,893] Trial 29 finished with value: 0.680327868852459 and parameters: {'n_neighbors': 32, 'weights': 'distance', 'distance': 'euclidean', 'n_jobs': -1}. Best is trial 19 with value: 0.6475409836065574.\n",
      "[I 2023-06-22 14:59:57,913] Trial 30 finished with value: 0.6612021857923497 and parameters: {'n_neighbors': 45, 'weights': 'distance', 'distance': 'euclidean', 'n_jobs': -1}. Best is trial 19 with value: 0.6475409836065574.\n",
      "[I 2023-06-22 14:59:58,193] Trial 32 finished with value: 0.6721311475409836 and parameters: {'n_neighbors': 1, 'weights': 'distance', 'distance': 'euclidean', 'n_jobs': -1}. Best is trial 19 with value: 0.6475409836065574.\n",
      "[I 2023-06-22 14:59:58,201] Trial 31 finished with value: 0.680327868852459 and parameters: {'n_neighbors': 32, 'weights': 'distance', 'distance': 'euclidean', 'n_jobs': -1}. Best is trial 19 with value: 0.6475409836065574.\n",
      "[I 2023-06-22 14:59:58,384] Trial 33 finished with value: 0.680327868852459 and parameters: {'n_neighbors': 21, 'weights': 'distance', 'distance': 'euclidean', 'n_jobs': -1}. Best is trial 19 with value: 0.6475409836065574.\n",
      "[I 2023-06-22 14:59:58,775] Trial 35 finished with value: 0.6612021857923497 and parameters: {'n_neighbors': 45, 'weights': 'distance', 'distance': 'euclidean', 'n_jobs': -1}. Best is trial 19 with value: 0.6475409836065574.\n",
      "[I 2023-06-22 14:59:58,792] Trial 34 finished with value: 0.6612021857923497 and parameters: {'n_neighbors': 45, 'weights': 'distance', 'distance': 'euclidean', 'n_jobs': -1}. Best is trial 19 with value: 0.6475409836065574.\n",
      "[I 2023-06-22 14:59:59,278] Trial 36 finished with value: 0.6612021857923497 and parameters: {'n_neighbors': 45, 'weights': 'distance', 'distance': 'euclidean', 'n_jobs': -1}. Best is trial 19 with value: 0.6475409836065574.\n",
      "[I 2023-06-22 14:59:59,361] Trial 37 finished with value: 0.6912568306010929 and parameters: {'n_neighbors': 22, 'weights': 'distance', 'distance': 'euclidean', 'n_jobs': -1}. Best is trial 19 with value: 0.6475409836065574.\n",
      "[I 2023-06-22 14:59:59,503] Trial 38 finished with value: 0.6857923497267759 and parameters: {'n_neighbors': 20, 'weights': 'distance', 'distance': 'euclidean', 'n_jobs': -1}. Best is trial 19 with value: 0.6475409836065574.\n",
      "[I 2023-06-22 14:59:59,642] Trial 39 finished with value: 0.6912568306010929 and parameters: {'n_neighbors': 22, 'weights': 'distance', 'distance': 'euclidean', 'n_jobs': -1}. Best is trial 19 with value: 0.6475409836065574.\n",
      "[I 2023-06-22 14:59:59,749] Trial 40 finished with value: 0.6475409836065574 and parameters: {'n_neighbors': 46, 'weights': 'distance', 'distance': 'euclidean', 'n_jobs': -1}. Best is trial 19 with value: 0.6475409836065574.\n",
      "[I 2023-06-22 15:00:00,677] Trial 42 finished with value: 0.6530054644808743 and parameters: {'n_neighbors': 43, 'weights': 'uniform', 'distance': 'euclidean', 'n_jobs': -1}. Best is trial 19 with value: 0.6475409836065574.\n",
      "[I 2023-06-22 15:00:00,693] Trial 41 finished with value: 0.6612021857923497 and parameters: {'n_neighbors': 42, 'weights': 'uniform', 'distance': 'euclidean', 'n_jobs': -1}. Best is trial 19 with value: 0.6475409836065574.\n",
      "[I 2023-06-22 15:00:00,803] Trial 45 finished with value: 0.6612021857923497 and parameters: {'n_neighbors': 42, 'weights': 'uniform', 'distance': 'euclidean', 'n_jobs': -1}. Best is trial 19 with value: 0.6475409836065574.\n",
      "[I 2023-06-22 15:00:00,843] Trial 43 finished with value: 0.6612021857923497 and parameters: {'n_neighbors': 42, 'weights': 'uniform', 'distance': 'euclidean', 'n_jobs': -1}. Best is trial 19 with value: 0.6475409836065574.\n",
      "[I 2023-06-22 15:00:01,028] Trial 44 finished with value: 0.6612021857923497 and parameters: {'n_neighbors': 42, 'weights': 'uniform', 'distance': 'euclidean', 'n_jobs': -1}. Best is trial 19 with value: 0.6475409836065574.\n",
      "[I 2023-06-22 15:00:01,342] Trial 46 finished with value: 0.6612021857923497 and parameters: {'n_neighbors': 42, 'weights': 'uniform', 'distance': 'euclidean', 'n_jobs': -1}. Best is trial 19 with value: 0.6475409836065574.\n",
      "[I 2023-06-22 15:00:01,678] Trial 50 finished with value: 0.6475409836065574 and parameters: {'n_neighbors': 50, 'weights': 'distance', 'distance': 'euclidean', 'n_jobs': -1}. Best is trial 19 with value: 0.6475409836065574.\n",
      "[I 2023-06-22 15:00:01,787] Trial 51 finished with value: 0.6530054644808743 and parameters: {'n_neighbors': 48, 'weights': 'distance', 'distance': 'euclidean', 'n_jobs': -1}. Best is trial 19 with value: 0.6475409836065574.\n",
      "[I 2023-06-22 15:00:01,808] Trial 49 finished with value: 0.6530054644808743 and parameters: {'n_neighbors': 48, 'weights': 'distance', 'distance': 'euclidean', 'n_jobs': -1}. Best is trial 19 with value: 0.6475409836065574.\n",
      "[I 2023-06-22 15:00:02,016] Trial 47 finished with value: 0.6612021857923497 and parameters: {'n_neighbors': 42, 'weights': 'uniform', 'distance': 'euclidean', 'n_jobs': -1}. Best is trial 19 with value: 0.6475409836065574.\n",
      "[I 2023-06-22 15:00:02,238] Trial 52 finished with value: 0.6530054644808743 and parameters: {'n_neighbors': 48, 'weights': 'distance', 'distance': 'euclidean', 'n_jobs': -1}. Best is trial 19 with value: 0.6475409836065574.\n",
      "[I 2023-06-22 15:00:02,267] Trial 53 finished with value: 0.6530054644808743 and parameters: {'n_neighbors': 48, 'weights': 'distance', 'distance': 'euclidean', 'n_jobs': -1}. Best is trial 19 with value: 0.6475409836065574.\n",
      "[I 2023-06-22 15:00:02,764] Trial 54 finished with value: 0.6530054644808743 and parameters: {'n_neighbors': 48, 'weights': 'distance', 'distance': 'euclidean', 'n_jobs': -1}. Best is trial 19 with value: 0.6475409836065574.\n",
      "[I 2023-06-22 15:00:02,927] Trial 3 finished with value: 0.680327868852459 and parameters: {'n_neighbors': 25, 'weights': 'uniform', 'distance': 'euclidean', 'n_jobs': -1}. Best is trial 19 with value: 0.6475409836065574.\n",
      "[I 2023-06-22 15:00:02,997] Trial 55 finished with value: 0.6530054644808743 and parameters: {'n_neighbors': 48, 'weights': 'distance', 'distance': 'euclidean', 'n_jobs': -1}. Best is trial 19 with value: 0.6475409836065574.\n",
      "[I 2023-06-22 15:00:03,100] Trial 56 finished with value: 0.6502732240437158 and parameters: {'n_neighbors': 47, 'weights': 'distance', 'distance': 'euclidean', 'n_jobs': -1}. Best is trial 19 with value: 0.6475409836065574.\n",
      "[I 2023-06-22 15:00:03,114] Trial 57 finished with value: 0.6502732240437158 and parameters: {'n_neighbors': 47, 'weights': 'distance', 'distance': 'euclidean', 'n_jobs': -1}. Best is trial 19 with value: 0.6475409836065574.\n",
      "[I 2023-06-22 15:00:03,216] Trial 59 finished with value: 0.6475409836065574 and parameters: {'n_neighbors': 50, 'weights': 'distance', 'distance': 'euclidean', 'n_jobs': -1}. Best is trial 19 with value: 0.6475409836065574.\n",
      "[I 2023-06-22 15:00:03,218] Trial 58 finished with value: 0.6475409836065574 and parameters: {'n_neighbors': 46, 'weights': 'distance', 'distance': 'euclidean', 'n_jobs': -1}. Best is trial 19 with value: 0.6475409836065574.\n",
      "[I 2023-06-22 15:00:03,438] Trial 48 finished with value: 0.6475409836065574 and parameters: {'n_neighbors': 50, 'weights': 'uniform', 'distance': 'euclidean', 'n_jobs': -1}. Best is trial 19 with value: 0.6475409836065574.\n",
      "[I 2023-06-22 15:00:04,030] Trial 63 finished with value: 0.6612021857923497 and parameters: {'n_neighbors': 39, 'weights': 'distance', 'distance': 'euclidean', 'n_jobs': -1}. Best is trial 19 with value: 0.6475409836065574.\n",
      "[I 2023-06-22 15:00:04,031] Trial 60 finished with value: 0.6612021857923497 and parameters: {'n_neighbors': 39, 'weights': 'distance', 'distance': 'euclidean', 'n_jobs': -1}. Best is trial 19 with value: 0.6475409836065574.\n",
      "[I 2023-06-22 15:00:04,214] Trial 61 finished with value: 0.6475409836065574 and parameters: {'n_neighbors': 50, 'weights': 'distance', 'distance': 'euclidean', 'n_jobs': -1}. Best is trial 19 with value: 0.6475409836065574.\n",
      "[I 2023-06-22 15:00:04,250] Trial 64 finished with value: 0.6612021857923497 and parameters: {'n_neighbors': 39, 'weights': 'distance', 'distance': 'euclidean', 'n_jobs': -1}. Best is trial 19 with value: 0.6475409836065574.\n",
      "[I 2023-06-22 15:00:04,301] Trial 62 finished with value: 0.6475409836065574 and parameters: {'n_neighbors': 50, 'weights': 'distance', 'distance': 'euclidean', 'n_jobs': -1}. Best is trial 19 with value: 0.6475409836065574.\n",
      "[I 2023-06-22 15:00:04,824] Trial 65 finished with value: 0.6612021857923497 and parameters: {'n_neighbors': 39, 'weights': 'distance', 'distance': 'euclidean', 'n_jobs': -1}. Best is trial 19 with value: 0.6475409836065574.\n",
      "[I 2023-06-22 15:00:04,968] Trial 66 finished with value: 0.6557377049180327 and parameters: {'n_neighbors': 40, 'weights': 'distance', 'distance': 'euclidean', 'n_jobs': -1}. Best is trial 19 with value: 0.6475409836065574.\n",
      "[I 2023-06-22 15:00:05,039] Trial 67 finished with value: 0.6612021857923497 and parameters: {'n_neighbors': 39, 'weights': 'distance', 'distance': 'euclidean', 'n_jobs': -1}. Best is trial 19 with value: 0.6475409836065574.\n",
      "[I 2023-06-22 15:00:05,414] Trial 68 finished with value: 0.6475409836065574 and parameters: {'n_neighbors': 50, 'weights': 'distance', 'distance': 'euclidean', 'n_jobs': -1}. Best is trial 19 with value: 0.6475409836065574.\n",
      "[I 2023-06-22 15:00:05,493] Trial 69 finished with value: 0.6584699453551912 and parameters: {'n_neighbors': 44, 'weights': 'distance', 'distance': 'euclidean', 'n_jobs': -1}. Best is trial 19 with value: 0.6475409836065574.\n",
      "[I 2023-06-22 15:00:05,527] Trial 70 finished with value: 0.6584699453551912 and parameters: {'n_neighbors': 44, 'weights': 'distance', 'distance': 'euclidean', 'n_jobs': -1}. Best is trial 19 with value: 0.6475409836065574.\n",
      "[I 2023-06-22 15:00:05,749] Trial 71 finished with value: 0.6475409836065574 and parameters: {'n_neighbors': 46, 'weights': 'distance', 'distance': 'euclidean', 'n_jobs': -1}. Best is trial 19 with value: 0.6475409836065574.\n",
      "[I 2023-06-22 15:00:05,816] Trial 72 finished with value: 0.6584699453551912 and parameters: {'n_neighbors': 44, 'weights': 'distance', 'distance': 'euclidean', 'n_jobs': -1}. Best is trial 19 with value: 0.6475409836065574.\n",
      "[I 2023-06-22 15:00:06,346] Trial 73 finished with value: 0.6584699453551912 and parameters: {'n_neighbors': 44, 'weights': 'distance', 'distance': 'euclidean', 'n_jobs': -1}. Best is trial 19 with value: 0.6475409836065574.\n",
      "[I 2023-06-22 15:00:06,555] Trial 75 finished with value: 0.6584699453551912 and parameters: {'n_neighbors': 44, 'weights': 'distance', 'distance': 'euclidean', 'n_jobs': -1}. Best is trial 19 with value: 0.6475409836065574.\n",
      "[I 2023-06-22 15:00:06,647] Trial 76 finished with value: 0.6693989071038251 and parameters: {'n_neighbors': 17, 'weights': 'distance', 'distance': 'euclidean', 'n_jobs': -1}. Best is trial 19 with value: 0.6475409836065574.\n",
      "[I 2023-06-22 15:00:06,670] Trial 74 finished with value: 0.6584699453551912 and parameters: {'n_neighbors': 44, 'weights': 'distance', 'distance': 'euclidean', 'n_jobs': -1}. Best is trial 19 with value: 0.6475409836065574.\n",
      "[I 2023-06-22 15:00:07,005] Trial 78 finished with value: 0.6475409836065574 and parameters: {'n_neighbors': 46, 'weights': 'distance', 'distance': 'euclidean', 'n_jobs': -1}. Best is trial 19 with value: 0.6475409836065574.\n",
      "[I 2023-06-22 15:00:07,087] Trial 77 finished with value: 0.6475409836065574 and parameters: {'n_neighbors': 46, 'weights': 'distance', 'distance': 'euclidean', 'n_jobs': -1}. Best is trial 19 with value: 0.6475409836065574.\n",
      "[I 2023-06-22 15:00:07,300] Trial 79 finished with value: 0.6475409836065574 and parameters: {'n_neighbors': 46, 'weights': 'distance', 'distance': 'euclidean', 'n_jobs': -1}. Best is trial 19 with value: 0.6475409836065574.\n",
      "[I 2023-06-22 15:00:07,369] Trial 81 finished with value: 0.6475409836065574 and parameters: {'n_neighbors': 46, 'weights': 'distance', 'distance': 'euclidean', 'n_jobs': -1}. Best is trial 19 with value: 0.6475409836065574.\n",
      "[I 2023-06-22 15:00:07,400] Trial 80 finished with value: 0.6475409836065574 and parameters: {'n_neighbors': 46, 'weights': 'distance', 'distance': 'euclidean', 'n_jobs': -1}. Best is trial 19 with value: 0.6475409836065574.\n",
      "[I 2023-06-22 15:00:08,135] Trial 82 finished with value: 0.6475409836065574 and parameters: {'n_neighbors': 46, 'weights': 'distance', 'distance': 'euclidean', 'n_jobs': -1}. Best is trial 19 with value: 0.6475409836065574.\n",
      "[I 2023-06-22 15:00:08,419] Trial 85 finished with value: 0.6885245901639344 and parameters: {'n_neighbors': 8, 'weights': 'distance', 'distance': 'euclidean', 'n_jobs': -1}. Best is trial 19 with value: 0.6475409836065574.\n",
      "[I 2023-06-22 15:00:08,503] Trial 84 finished with value: 0.6584699453551912 and parameters: {'n_neighbors': 49, 'weights': 'distance', 'distance': 'euclidean', 'n_jobs': -1}. Best is trial 19 with value: 0.6475409836065574.\n",
      "[I 2023-06-22 15:00:08,646] Trial 87 finished with value: 0.6885245901639344 and parameters: {'n_neighbors': 6, 'weights': 'distance', 'distance': 'euclidean', 'n_jobs': -1}. Best is trial 19 with value: 0.6475409836065574.\n",
      "[I 2023-06-22 15:00:08,653] Trial 83 finished with value: 0.6502732240437158 and parameters: {'n_neighbors': 47, 'weights': 'distance', 'distance': 'euclidean', 'n_jobs': -1}. Best is trial 19 with value: 0.6475409836065574.\n",
      "[I 2023-06-22 15:00:08,782] Trial 86 finished with value: 0.6502732240437158 and parameters: {'n_neighbors': 47, 'weights': 'distance', 'distance': 'euclidean', 'n_jobs': -1}. Best is trial 19 with value: 0.6475409836065574.\n",
      "[I 2023-06-22 15:00:09,811] Trial 89 finished with value: 0.6584699453551912 and parameters: {'n_neighbors': 49, 'weights': 'uniform', 'distance': 'euclidean', 'n_jobs': -1}. Best is trial 19 with value: 0.6475409836065574.\n",
      "[I 2023-06-22 15:00:09,867] Trial 90 finished with value: 0.6584699453551912 and parameters: {'n_neighbors': 49, 'weights': 'uniform', 'distance': 'euclidean', 'n_jobs': -1}. Best is trial 19 with value: 0.6475409836065574.\n",
      "[I 2023-06-22 15:00:09,916] Trial 91 finished with value: 0.6584699453551912 and parameters: {'n_neighbors': 49, 'weights': 'uniform', 'distance': 'euclidean', 'n_jobs': -1}. Best is trial 19 with value: 0.6475409836065574.\n",
      "[I 2023-06-22 15:00:10,104] Trial 88 finished with value: 0.6584699453551912 and parameters: {'n_neighbors': 49, 'weights': 'uniform', 'distance': 'euclidean', 'n_jobs': -1}. Best is trial 19 with value: 0.6475409836065574.\n",
      "[I 2023-06-22 15:00:10,289] Trial 95 finished with value: 0.6584699453551912 and parameters: {'n_neighbors': 49, 'weights': 'uniform', 'distance': 'euclidean', 'n_jobs': -1}. Best is trial 19 with value: 0.6475409836065574.\n",
      "[I 2023-06-22 15:00:10,290] Trial 93 finished with value: 0.6584699453551912 and parameters: {'n_neighbors': 49, 'weights': 'uniform', 'distance': 'euclidean', 'n_jobs': -1}. Best is trial 19 with value: 0.6475409836065574.\n",
      "[I 2023-06-22 15:00:10,372] Trial 94 finished with value: 0.6584699453551912 and parameters: {'n_neighbors': 49, 'weights': 'uniform', 'distance': 'euclidean', 'n_jobs': -1}. Best is trial 19 with value: 0.6475409836065574.\n",
      "[I 2023-06-22 15:00:10,414] Trial 92 finished with value: 0.6584699453551912 and parameters: {'n_neighbors': 49, 'weights': 'uniform', 'distance': 'euclidean', 'n_jobs': -1}. Best is trial 19 with value: 0.6475409836065574.\n",
      "[I 2023-06-22 15:00:10,612] Trial 97 finished with value: 0.6475409836065574 and parameters: {'n_neighbors': 50, 'weights': 'uniform', 'distance': 'euclidean', 'n_jobs': -1}. Best is trial 19 with value: 0.6475409836065574.\n",
      "[I 2023-06-22 15:00:10,616] Trial 96 finished with value: 0.6584699453551912 and parameters: {'n_neighbors': 49, 'weights': 'uniform', 'distance': 'euclidean', 'n_jobs': -1}. Best is trial 19 with value: 0.6475409836065574.\n",
      "[I 2023-06-22 15:00:10,617] Trial 98 finished with value: 0.6475409836065574 and parameters: {'n_neighbors': 50, 'weights': 'uniform', 'distance': 'euclidean', 'n_jobs': -1}. Best is trial 19 with value: 0.6475409836065574.\n",
      "[I 2023-06-22 15:00:10,621] Trial 99 finished with value: 0.6475409836065574 and parameters: {'n_neighbors': 50, 'weights': 'uniform', 'distance': 'euclidean', 'n_jobs': -1}. Best is trial 19 with value: 0.6475409836065574.\n"
     ]
    }
   ],
   "source": [
    "from sklearn.metrics import accuracy_score\n",
    "from sktime.classification.distance_based import KNeighborsTimeSeriesClassifier\n",
    "import optuna\n",
    "\n",
    "# objective function to be minimized\n",
    "def objective_fun(trial):\n",
    "\n",
    "    n_neighbors = trial.suggest_int('n_neighbors', 1, 50)\n",
    "    weights = trial.suggest_categorical('weights', ['uniform', 'distance'])\n",
    "    distance = trial.suggest_categorical('distance', ['euclidean'])\n",
    "    n_jobs = trial.suggest_int('n_jobs', -1, -1)\n",
    "\n",
    "    knn = KNeighborsTimeSeriesClassifier(\n",
    "        n_neighbors=n_neighbors,\n",
    "        weights=weights,\n",
    "        distance=distance,\n",
    "        n_jobs=n_jobs\n",
    "    )\n",
    "\n",
    "    knn.fit(X_train_v, y_train_v)\n",
    "    y_pred = knn.predict(X_valid)\n",
    "\n",
    "    error = accuracy_score(y_valid, y_pred)\n",
    "\n",
    "    return error\n",
    "\n",
    "\n",
    "study = optuna.create_study()\n",
    "study.optimize(objective_fun, n_trials=100, n_jobs=-1)"
   ],
   "metadata": {
    "collapsed": false,
    "ExecuteTime": {
     "end_time": "2023-06-22T13:00:10.626067Z",
     "start_time": "2023-06-22T12:59:51.013952Z"
    }
   }
  },
  {
   "cell_type": "code",
   "execution_count": 9,
   "outputs": [
    {
     "data": {
      "text/plain": "{'n_neighbors': 50,\n 'weights': 'distance',\n 'distance': 'euclidean',\n 'n_jobs': -1}"
     },
     "execution_count": 9,
     "metadata": {},
     "output_type": "execute_result"
    }
   ],
   "source": [
    "best_params = study.best_params\n",
    "best_params"
   ],
   "metadata": {
    "collapsed": false,
    "ExecuteTime": {
     "end_time": "2023-06-22T13:00:10.630627Z",
     "start_time": "2023-06-22T13:00:10.628094Z"
    }
   }
  },
  {
   "cell_type": "code",
   "execution_count": 10,
   "outputs": [
    {
     "data": {
      "text/plain": "KNeighborsTimeSeriesClassifier(distance='euclidean', n_jobs=-1, n_neighbors=50,\n                               weights='distance')",
      "text/html": "<style>#sk-6d2ac5e5-f015-4880-8434-5bf20e1c663e {color: black;background-color: white;}#sk-6d2ac5e5-f015-4880-8434-5bf20e1c663e pre{padding: 0;}#sk-6d2ac5e5-f015-4880-8434-5bf20e1c663e div.sk-toggleable {background-color: white;}#sk-6d2ac5e5-f015-4880-8434-5bf20e1c663e label.sk-toggleable__label {cursor: pointer;display: block;width: 100%;margin-bottom: 0;padding: 0.3em;box-sizing: border-box;text-align: center;}#sk-6d2ac5e5-f015-4880-8434-5bf20e1c663e label.sk-toggleable__label-arrow:before {content: \"▸\";float: left;margin-right: 0.25em;color: #696969;}#sk-6d2ac5e5-f015-4880-8434-5bf20e1c663e label.sk-toggleable__label-arrow:hover:before {color: black;}#sk-6d2ac5e5-f015-4880-8434-5bf20e1c663e div.sk-estimator:hover label.sk-toggleable__label-arrow:before {color: black;}#sk-6d2ac5e5-f015-4880-8434-5bf20e1c663e div.sk-toggleable__content {max-height: 0;max-width: 0;overflow: hidden;text-align: left;background-color: #f0f8ff;}#sk-6d2ac5e5-f015-4880-8434-5bf20e1c663e div.sk-toggleable__content pre {margin: 0.2em;color: black;border-radius: 0.25em;background-color: #f0f8ff;}#sk-6d2ac5e5-f015-4880-8434-5bf20e1c663e input.sk-toggleable__control:checked~div.sk-toggleable__content {max-height: 200px;max-width: 100%;overflow: auto;}#sk-6d2ac5e5-f015-4880-8434-5bf20e1c663e input.sk-toggleable__control:checked~label.sk-toggleable__label-arrow:before {content: \"▾\";}#sk-6d2ac5e5-f015-4880-8434-5bf20e1c663e div.sk-estimator input.sk-toggleable__control:checked~label.sk-toggleable__label {background-color: #d4ebff;}#sk-6d2ac5e5-f015-4880-8434-5bf20e1c663e div.sk-label input.sk-toggleable__control:checked~label.sk-toggleable__label {background-color: #d4ebff;}#sk-6d2ac5e5-f015-4880-8434-5bf20e1c663e input.sk-hidden--visually {border: 0;clip: rect(1px 1px 1px 1px);clip: rect(1px, 1px, 1px, 1px);height: 1px;margin: -1px;overflow: hidden;padding: 0;position: absolute;width: 1px;}#sk-6d2ac5e5-f015-4880-8434-5bf20e1c663e div.sk-estimator {font-family: monospace;background-color: #f0f8ff;border: 1px dotted black;border-radius: 0.25em;box-sizing: border-box;margin-bottom: 0.5em;}#sk-6d2ac5e5-f015-4880-8434-5bf20e1c663e div.sk-estimator:hover {background-color: #d4ebff;}#sk-6d2ac5e5-f015-4880-8434-5bf20e1c663e div.sk-parallel-item::after {content: \"\";width: 100%;border-bottom: 1px solid gray;flex-grow: 1;}#sk-6d2ac5e5-f015-4880-8434-5bf20e1c663e div.sk-label:hover label.sk-toggleable__label {background-color: #d4ebff;}#sk-6d2ac5e5-f015-4880-8434-5bf20e1c663e div.sk-serial::before {content: \"\";position: absolute;border-left: 1px solid gray;box-sizing: border-box;top: 2em;bottom: 0;left: 50%;}#sk-6d2ac5e5-f015-4880-8434-5bf20e1c663e div.sk-serial {display: flex;flex-direction: column;align-items: center;background-color: white;padding-right: 0.2em;padding-left: 0.2em;}#sk-6d2ac5e5-f015-4880-8434-5bf20e1c663e div.sk-item {z-index: 1;}#sk-6d2ac5e5-f015-4880-8434-5bf20e1c663e div.sk-parallel {display: flex;align-items: stretch;justify-content: center;background-color: white;}#sk-6d2ac5e5-f015-4880-8434-5bf20e1c663e div.sk-parallel::before {content: \"\";position: absolute;border-left: 1px solid gray;box-sizing: border-box;top: 2em;bottom: 0;left: 50%;}#sk-6d2ac5e5-f015-4880-8434-5bf20e1c663e div.sk-parallel-item {display: flex;flex-direction: column;position: relative;background-color: white;}#sk-6d2ac5e5-f015-4880-8434-5bf20e1c663e div.sk-parallel-item:first-child::after {align-self: flex-end;width: 50%;}#sk-6d2ac5e5-f015-4880-8434-5bf20e1c663e div.sk-parallel-item:last-child::after {align-self: flex-start;width: 50%;}#sk-6d2ac5e5-f015-4880-8434-5bf20e1c663e div.sk-parallel-item:only-child::after {width: 0;}#sk-6d2ac5e5-f015-4880-8434-5bf20e1c663e div.sk-dashed-wrapped {border: 1px dashed gray;margin: 0 0.4em 0.5em 0.4em;box-sizing: border-box;padding-bottom: 0.4em;background-color: white;position: relative;}#sk-6d2ac5e5-f015-4880-8434-5bf20e1c663e div.sk-label label {font-family: monospace;font-weight: bold;background-color: white;display: inline-block;line-height: 1.2em;}#sk-6d2ac5e5-f015-4880-8434-5bf20e1c663e div.sk-label-container {position: relative;z-index: 2;text-align: center;}#sk-6d2ac5e5-f015-4880-8434-5bf20e1c663e div.sk-container {/* jupyter's `normalize.less` sets `[hidden] { display: none; }` but bootstrap.min.css set `[hidden] { display: none !important; }` so we also need the `!important` here to be able to override the default hidden behavior on the sphinx rendered scikit-learn.org. See: https://github.com/scikit-learn/scikit-learn/issues/21755 */display: inline-block !important;position: relative;}#sk-6d2ac5e5-f015-4880-8434-5bf20e1c663e div.sk-text-repr-fallback {display: none;}</style><div id='sk-6d2ac5e5-f015-4880-8434-5bf20e1c663e' class=\"sk-top-container\"><div class=\"sk-text-repr-fallback\"><pre>KNeighborsTimeSeriesClassifier(distance=&#x27;euclidean&#x27;, n_jobs=-1, n_neighbors=50,\n                               weights=&#x27;distance&#x27;)</pre><b>Please rerun this cell to show the HTML repr or trust the notebook.</b></div><div class=\"sk-container\" hidden><div class='sk-item'><div class=\"sk-estimator sk-toggleable\"><input class=\"sk-toggleable__control sk-hidden--visually\" id=UUID('ef92e3fa-79d2-4c6a-a29b-9a2c1dd13696') type=\"checkbox\" checked><label for=UUID('ef92e3fa-79d2-4c6a-a29b-9a2c1dd13696') class='sk-toggleable__label sk-toggleable__label-arrow'>KNeighborsTimeSeriesClassifier</label><div class=\"sk-toggleable__content\"><pre>KNeighborsTimeSeriesClassifier(distance=&#x27;euclidean&#x27;, n_jobs=-1, n_neighbors=50,\n                               weights=&#x27;distance&#x27;)</pre></div></div></div></div></div>"
     },
     "execution_count": 10,
     "metadata": {},
     "output_type": "execute_result"
    }
   ],
   "source": [
    "knn = KNeighborsTimeSeriesClassifier(**best_params)\n",
    "knn.fit(X_train, y_train)"
   ],
   "metadata": {
    "collapsed": false,
    "ExecuteTime": {
     "end_time": "2023-06-22T13:00:10.668180Z",
     "start_time": "2023-06-22T13:00:10.633301Z"
    }
   }
  },
  {
   "cell_type": "code",
   "execution_count": 11,
   "outputs": [
    {
     "name": "stdout",
     "output_type": "stream",
     "text": [
      "              precision    recall  f1-score   support\n",
      "\n",
      "        song       0.76      0.31      0.44       264\n",
      "      speech       0.65      0.93      0.76       360\n",
      "\n",
      "    accuracy                           0.67       624\n",
      "   macro avg       0.71      0.62      0.60       624\n",
      "weighted avg       0.70      0.67      0.63       624\n",
      "\n"
     ]
    }
   ],
   "source": [
    "from sklearn.metrics import classification_report\n",
    "\n",
    "y_pred = knn.predict(X_test)\n",
    "print(classification_report(y_test, y_pred))"
   ],
   "metadata": {
    "collapsed": false,
    "ExecuteTime": {
     "end_time": "2023-06-22T13:00:11.038445Z",
     "start_time": "2023-06-22T13:00:10.645477Z"
    }
   }
  },
  {
   "cell_type": "markdown",
   "source": [
    "# KNN using DTW"
   ],
   "metadata": {
    "collapsed": false
   }
  },
  {
   "cell_type": "code",
   "execution_count": 12,
   "outputs": [
    {
     "name": "stderr",
     "output_type": "stream",
     "text": [
      "[I 2023-06-22 15:00:11,039] A new study created in memory with name: no-name-f832ed61-b635-4aa6-ba11-d8060add12c3\n",
      "[I 2023-06-22 15:00:18,794] Trial 0 finished with value: 0.644808743169399 and parameters: {'n_neighbors': 31, 'weights': 'distance', 'distance': 'dtw', 'n_jobs': -1}. Best is trial 0 with value: 0.644808743169399.\n",
      "[I 2023-06-22 15:00:19,000] Trial 2 finished with value: 0.6475409836065574 and parameters: {'n_neighbors': 4, 'weights': 'distance', 'distance': 'dtw', 'n_jobs': -1}. Best is trial 0 with value: 0.644808743169399.\n",
      "[I 2023-06-22 15:00:19,475] Trial 7 finished with value: 0.6557377049180327 and parameters: {'n_neighbors': 1, 'weights': 'distance', 'distance': 'dtw', 'n_jobs': -1}. Best is trial 0 with value: 0.644808743169399.\n",
      "[I 2023-06-22 15:00:19,483] Trial 6 finished with value: 0.6475409836065574 and parameters: {'n_neighbors': 5, 'weights': 'distance', 'distance': 'dtw', 'n_jobs': -1}. Best is trial 0 with value: 0.644808743169399.\n",
      "[I 2023-06-22 15:00:19,862] Trial 3 finished with value: 0.6256830601092896 and parameters: {'n_neighbors': 21, 'weights': 'distance', 'distance': 'dtw', 'n_jobs': -1}. Best is trial 3 with value: 0.6256830601092896.\n",
      "[I 2023-06-22 15:00:19,944] Trial 5 finished with value: 0.6612021857923497 and parameters: {'n_neighbors': 43, 'weights': 'distance', 'distance': 'dtw', 'n_jobs': -1}. Best is trial 3 with value: 0.6256830601092896.\n",
      "[I 2023-06-22 15:00:20,520] Trial 4 finished with value: 0.6502732240437158 and parameters: {'n_neighbors': 28, 'weights': 'uniform', 'distance': 'dtw', 'n_jobs': -1}. Best is trial 3 with value: 0.6256830601092896.\n",
      "[I 2023-06-22 15:00:20,887] Trial 1 finished with value: 0.6366120218579235 and parameters: {'n_neighbors': 45, 'weights': 'uniform', 'distance': 'dtw', 'n_jobs': -1}. Best is trial 3 with value: 0.6256830601092896.\n",
      "[I 2023-06-22 15:00:24,381] Trial 8 finished with value: 0.639344262295082 and parameters: {'n_neighbors': 35, 'weights': 'distance', 'distance': 'dtw', 'n_jobs': -1}. Best is trial 3 with value: 0.6256830601092896.\n",
      "[I 2023-06-22 15:00:26,346] Trial 9 finished with value: 0.6338797814207651 and parameters: {'n_neighbors': 44, 'weights': 'uniform', 'distance': 'dtw', 'n_jobs': -1}. Best is trial 3 with value: 0.6256830601092896.\n",
      "[I 2023-06-22 15:00:28,335] Trial 12 finished with value: 0.6475409836065574 and parameters: {'n_neighbors': 5, 'weights': 'distance', 'distance': 'dtw', 'n_jobs': -1}. Best is trial 3 with value: 0.6256830601092896.\n",
      "[I 2023-06-22 15:00:28,961] Trial 14 finished with value: 0.6502732240437158 and parameters: {'n_neighbors': 27, 'weights': 'distance', 'distance': 'dtw', 'n_jobs': -1}. Best is trial 3 with value: 0.6256830601092896.\n",
      "[I 2023-06-22 15:00:28,962] Trial 10 finished with value: 0.5983606557377049 and parameters: {'n_neighbors': 2, 'weights': 'uniform', 'distance': 'dtw', 'n_jobs': -1}. Best is trial 10 with value: 0.5983606557377049.\n",
      "[I 2023-06-22 15:00:30,190] Trial 11 finished with value: 0.6502732240437158 and parameters: {'n_neighbors': 17, 'weights': 'uniform', 'distance': 'dtw', 'n_jobs': -1}. Best is trial 10 with value: 0.5983606557377049.\n",
      "[I 2023-06-22 15:00:30,946] Trial 16 finished with value: 0.639344262295082 and parameters: {'n_neighbors': 23, 'weights': 'distance', 'distance': 'dtw', 'n_jobs': -1}. Best is trial 10 with value: 0.5983606557377049.\n",
      "[I 2023-06-22 15:00:32,957] Trial 13 finished with value: 0.6366120218579235 and parameters: {'n_neighbors': 50, 'weights': 'uniform', 'distance': 'dtw', 'n_jobs': -1}. Best is trial 10 with value: 0.5983606557377049.\n",
      "[I 2023-06-22 15:00:33,905] Trial 15 finished with value: 0.6502732240437158 and parameters: {'n_neighbors': 42, 'weights': 'uniform', 'distance': 'dtw', 'n_jobs': -1}. Best is trial 10 with value: 0.5983606557377049.\n",
      "[I 2023-06-22 15:00:36,762] Trial 17 finished with value: 0.6502732240437158 and parameters: {'n_neighbors': 17, 'weights': 'uniform', 'distance': 'dtw', 'n_jobs': -1}. Best is trial 10 with value: 0.5983606557377049.\n",
      "[I 2023-06-22 15:00:37,233] Trial 20 finished with value: 0.6311475409836066 and parameters: {'n_neighbors': 16, 'weights': 'uniform', 'distance': 'dtw', 'n_jobs': -1}. Best is trial 10 with value: 0.5983606557377049.\n",
      "[I 2023-06-22 15:00:37,437] Trial 18 finished with value: 0.6502732240437158 and parameters: {'n_neighbors': 17, 'weights': 'uniform', 'distance': 'dtw', 'n_jobs': -1}. Best is trial 10 with value: 0.5983606557377049.\n",
      "[I 2023-06-22 15:00:37,444] Trial 19 finished with value: 0.6311475409836066 and parameters: {'n_neighbors': 15, 'weights': 'uniform', 'distance': 'dtw', 'n_jobs': -1}. Best is trial 10 with value: 0.5983606557377049.\n",
      "[I 2023-06-22 15:00:38,676] Trial 21 finished with value: 0.6502732240437158 and parameters: {'n_neighbors': 17, 'weights': 'uniform', 'distance': 'dtw', 'n_jobs': -1}. Best is trial 10 with value: 0.5983606557377049.\n",
      "[I 2023-06-22 15:00:38,990] Trial 22 finished with value: 0.6311475409836066 and parameters: {'n_neighbors': 16, 'weights': 'uniform', 'distance': 'dtw', 'n_jobs': -1}. Best is trial 10 with value: 0.5983606557377049.\n",
      "[I 2023-06-22 15:00:41,952] Trial 23 finished with value: 0.644808743169399 and parameters: {'n_neighbors': 13, 'weights': 'uniform', 'distance': 'dtw', 'n_jobs': -1}. Best is trial 10 with value: 0.5983606557377049.\n",
      "[I 2023-06-22 15:00:42,818] Trial 24 finished with value: 0.6475409836065574 and parameters: {'n_neighbors': 14, 'weights': 'uniform', 'distance': 'dtw', 'n_jobs': -1}. Best is trial 10 with value: 0.5983606557377049.\n",
      "[I 2023-06-22 15:00:44,547] Trial 25 finished with value: 0.6338797814207651 and parameters: {'n_neighbors': 12, 'weights': 'uniform', 'distance': 'dtw', 'n_jobs': -1}. Best is trial 10 with value: 0.5983606557377049.\n",
      "[I 2023-06-22 15:00:45,829] Trial 27 finished with value: 0.639344262295082 and parameters: {'n_neighbors': 10, 'weights': 'uniform', 'distance': 'dtw', 'n_jobs': -1}. Best is trial 10 with value: 0.5983606557377049.\n",
      "[I 2023-06-22 15:00:46,178] Trial 26 finished with value: 0.6338797814207651 and parameters: {'n_neighbors': 12, 'weights': 'uniform', 'distance': 'dtw', 'n_jobs': -1}. Best is trial 10 with value: 0.5983606557377049.\n",
      "[I 2023-06-22 15:00:46,384] Trial 28 finished with value: 0.639344262295082 and parameters: {'n_neighbors': 10, 'weights': 'uniform', 'distance': 'dtw', 'n_jobs': -1}. Best is trial 10 with value: 0.5983606557377049.\n",
      "[I 2023-06-22 15:00:46,535] Trial 29 finished with value: 0.639344262295082 and parameters: {'n_neighbors': 10, 'weights': 'uniform', 'distance': 'dtw', 'n_jobs': -1}. Best is trial 10 with value: 0.5983606557377049.\n",
      "[I 2023-06-22 15:00:47,340] Trial 30 finished with value: 0.639344262295082 and parameters: {'n_neighbors': 10, 'weights': 'uniform', 'distance': 'dtw', 'n_jobs': -1}. Best is trial 10 with value: 0.5983606557377049.\n",
      "[I 2023-06-22 15:00:47,786] Trial 32 finished with value: 0.639344262295082 and parameters: {'n_neighbors': 11, 'weights': 'uniform', 'distance': 'dtw', 'n_jobs': -1}. Best is trial 10 with value: 0.5983606557377049.\n",
      "[I 2023-06-22 15:00:48,261] Trial 31 finished with value: 0.639344262295082 and parameters: {'n_neighbors': 10, 'weights': 'uniform', 'distance': 'dtw', 'n_jobs': -1}. Best is trial 10 with value: 0.5983606557377049.\n",
      "[I 2023-06-22 15:00:49,873] Trial 33 finished with value: 0.639344262295082 and parameters: {'n_neighbors': 23, 'weights': 'distance', 'distance': 'dtw', 'n_jobs': -1}. Best is trial 10 with value: 0.5983606557377049.\n",
      "[I 2023-06-22 15:00:54,082] Trial 34 finished with value: 0.6311475409836066 and parameters: {'n_neighbors': 22, 'weights': 'distance', 'distance': 'dtw', 'n_jobs': -1}. Best is trial 10 with value: 0.5983606557377049.\n",
      "[I 2023-06-22 15:00:54,662] Trial 36 finished with value: 0.6311475409836066 and parameters: {'n_neighbors': 22, 'weights': 'distance', 'distance': 'dtw', 'n_jobs': -1}. Best is trial 10 with value: 0.5983606557377049.\n",
      "[I 2023-06-22 15:00:54,681] Trial 35 finished with value: 0.6256830601092896 and parameters: {'n_neighbors': 21, 'weights': 'distance', 'distance': 'dtw', 'n_jobs': -1}. Best is trial 10 with value: 0.5983606557377049.\n",
      "[I 2023-06-22 15:00:55,167] Trial 37 finished with value: 0.6256830601092896 and parameters: {'n_neighbors': 21, 'weights': 'distance', 'distance': 'dtw', 'n_jobs': -1}. Best is trial 10 with value: 0.5983606557377049.\n",
      "[I 2023-06-22 15:00:55,885] Trial 38 finished with value: 0.6502732240437158 and parameters: {'n_neighbors': 24, 'weights': 'distance', 'distance': 'dtw', 'n_jobs': -1}. Best is trial 10 with value: 0.5983606557377049.\n",
      "[I 2023-06-22 15:00:56,272] Trial 39 finished with value: 0.639344262295082 and parameters: {'n_neighbors': 23, 'weights': 'distance', 'distance': 'dtw', 'n_jobs': -1}. Best is trial 10 with value: 0.5983606557377049.\n",
      "[I 2023-06-22 15:00:56,867] Trial 40 finished with value: 0.6256830601092896 and parameters: {'n_neighbors': 21, 'weights': 'distance', 'distance': 'dtw', 'n_jobs': -1}. Best is trial 10 with value: 0.5983606557377049.\n",
      "[I 2023-06-22 15:00:57,203] Trial 41 finished with value: 0.6311475409836066 and parameters: {'n_neighbors': 22, 'weights': 'distance', 'distance': 'dtw', 'n_jobs': -1}. Best is trial 10 with value: 0.5983606557377049.\n",
      "[I 2023-06-22 15:01:01,816] Trial 43 finished with value: 0.6557377049180327 and parameters: {'n_neighbors': 1, 'weights': 'distance', 'distance': 'dtw', 'n_jobs': -1}. Best is trial 10 with value: 0.5983606557377049.\n",
      "[I 2023-06-22 15:01:01,849] Trial 42 finished with value: 0.6475409836065574 and parameters: {'n_neighbors': 30, 'weights': 'distance', 'distance': 'dtw', 'n_jobs': -1}. Best is trial 10 with value: 0.5983606557377049.\n",
      "[I 2023-06-22 15:01:03,065] Trial 44 finished with value: 0.639344262295082 and parameters: {'n_neighbors': 35, 'weights': 'distance', 'distance': 'dtw', 'n_jobs': -1}. Best is trial 10 with value: 0.5983606557377049.\n",
      "[I 2023-06-22 15:01:04,091] Trial 45 finished with value: 0.6475409836065574 and parameters: {'n_neighbors': 29, 'weights': 'distance', 'distance': 'dtw', 'n_jobs': -1}. Best is trial 10 with value: 0.5983606557377049.\n",
      "[I 2023-06-22 15:01:05,215] Trial 46 finished with value: 0.6584699453551912 and parameters: {'n_neighbors': 32, 'weights': 'distance', 'distance': 'dtw', 'n_jobs': -1}. Best is trial 10 with value: 0.5983606557377049.\n",
      "[I 2023-06-22 15:01:05,305] Trial 47 finished with value: 0.6584699453551912 and parameters: {'n_neighbors': 32, 'weights': 'distance', 'distance': 'dtw', 'n_jobs': -1}. Best is trial 10 with value: 0.5983606557377049.\n",
      "[I 2023-06-22 15:01:05,762] Trial 48 finished with value: 0.6584699453551912 and parameters: {'n_neighbors': 32, 'weights': 'distance', 'distance': 'dtw', 'n_jobs': -1}. Best is trial 10 with value: 0.5983606557377049.\n",
      "[I 2023-06-22 15:01:06,511] Trial 49 finished with value: 0.6530054644808743 and parameters: {'n_neighbors': 36, 'weights': 'distance', 'distance': 'dtw', 'n_jobs': -1}. Best is trial 10 with value: 0.5983606557377049.\n",
      "[I 2023-06-22 15:01:09,574] Trial 50 finished with value: 0.644808743169399 and parameters: {'n_neighbors': 20, 'weights': 'distance', 'distance': 'dtw', 'n_jobs': -1}. Best is trial 10 with value: 0.5983606557377049.\n",
      "[I 2023-06-22 15:01:09,960] Trial 51 finished with value: 0.6530054644808743 and parameters: {'n_neighbors': 36, 'weights': 'distance', 'distance': 'dtw', 'n_jobs': -1}. Best is trial 10 with value: 0.5983606557377049.\n",
      "[I 2023-06-22 15:01:10,949] Trial 52 finished with value: 0.6557377049180327 and parameters: {'n_neighbors': 34, 'weights': 'distance', 'distance': 'dtw', 'n_jobs': -1}. Best is trial 10 with value: 0.5983606557377049.\n",
      "[I 2023-06-22 15:01:13,340] Trial 53 finished with value: 0.644808743169399 and parameters: {'n_neighbors': 20, 'weights': 'distance', 'distance': 'dtw', 'n_jobs': -1}. Best is trial 10 with value: 0.5983606557377049.\n",
      "[I 2023-06-22 15:01:14,076] Trial 54 finished with value: 0.644808743169399 and parameters: {'n_neighbors': 20, 'weights': 'distance', 'distance': 'dtw', 'n_jobs': -1}. Best is trial 10 with value: 0.5983606557377049.\n",
      "[I 2023-06-22 15:01:14,181] Trial 55 finished with value: 0.644808743169399 and parameters: {'n_neighbors': 20, 'weights': 'distance', 'distance': 'dtw', 'n_jobs': -1}. Best is trial 10 with value: 0.5983606557377049.\n",
      "[I 2023-06-22 15:01:14,574] Trial 56 finished with value: 0.644808743169399 and parameters: {'n_neighbors': 20, 'weights': 'distance', 'distance': 'dtw', 'n_jobs': -1}. Best is trial 10 with value: 0.5983606557377049.\n",
      "[I 2023-06-22 15:01:15,340] Trial 57 finished with value: 0.644808743169399 and parameters: {'n_neighbors': 20, 'weights': 'distance', 'distance': 'dtw', 'n_jobs': -1}. Best is trial 10 with value: 0.5983606557377049.\n",
      "[I 2023-06-22 15:01:17,660] Trial 60 finished with value: 0.644808743169399 and parameters: {'n_neighbors': 20, 'weights': 'distance', 'distance': 'dtw', 'n_jobs': -1}. Best is trial 10 with value: 0.5983606557377049.\n",
      "[I 2023-06-22 15:01:18,049] Trial 59 finished with value: 0.644808743169399 and parameters: {'n_neighbors': 20, 'weights': 'distance', 'distance': 'dtw', 'n_jobs': -1}. Best is trial 10 with value: 0.5983606557377049.\n",
      "[I 2023-06-22 15:01:18,330] Trial 58 finished with value: 0.644808743169399 and parameters: {'n_neighbors': 20, 'weights': 'distance', 'distance': 'dtw', 'n_jobs': -1}. Best is trial 10 with value: 0.5983606557377049.\n",
      "[I 2023-06-22 15:01:21,331] Trial 61 finished with value: 0.6475409836065574 and parameters: {'n_neighbors': 26, 'weights': 'distance', 'distance': 'dtw', 'n_jobs': -1}. Best is trial 10 with value: 0.5983606557377049.\n",
      "[I 2023-06-22 15:01:22,169] Trial 63 finished with value: 0.6502732240437158 and parameters: {'n_neighbors': 27, 'weights': 'distance', 'distance': 'dtw', 'n_jobs': -1}. Best is trial 10 with value: 0.5983606557377049.\n",
      "[I 2023-06-22 15:01:23,254] Trial 62 finished with value: 0.6475409836065574 and parameters: {'n_neighbors': 7, 'weights': 'distance', 'distance': 'dtw', 'n_jobs': -1}. Best is trial 10 with value: 0.5983606557377049.\n",
      "[I 2023-06-22 15:01:23,255] Trial 64 finished with value: 0.6475409836065574 and parameters: {'n_neighbors': 7, 'weights': 'distance', 'distance': 'dtw', 'n_jobs': -1}. Best is trial 10 with value: 0.5983606557377049.\n",
      "[I 2023-06-22 15:01:25,954] Trial 65 finished with value: 0.639344262295082 and parameters: {'n_neighbors': 7, 'weights': 'uniform', 'distance': 'dtw', 'n_jobs': -1}. Best is trial 10 with value: 0.5983606557377049.\n",
      "[I 2023-06-22 15:01:28,660] Trial 67 finished with value: 0.6366120218579235 and parameters: {'n_neighbors': 26, 'weights': 'uniform', 'distance': 'dtw', 'n_jobs': -1}. Best is trial 10 with value: 0.5983606557377049.\n",
      "[I 2023-06-22 15:01:28,798] Trial 66 finished with value: 0.6366120218579235 and parameters: {'n_neighbors': 26, 'weights': 'uniform', 'distance': 'dtw', 'n_jobs': -1}. Best is trial 10 with value: 0.5983606557377049.\n",
      "[I 2023-06-22 15:01:29,612] Trial 68 finished with value: 0.6502732240437158 and parameters: {'n_neighbors': 27, 'weights': 'uniform', 'distance': 'dtw', 'n_jobs': -1}. Best is trial 10 with value: 0.5983606557377049.\n",
      "[I 2023-06-22 15:01:30,864] Trial 69 finished with value: 0.639344262295082 and parameters: {'n_neighbors': 7, 'weights': 'uniform', 'distance': 'dtw', 'n_jobs': -1}. Best is trial 10 with value: 0.5983606557377049.\n",
      "[I 2023-06-22 15:01:31,331] Trial 70 finished with value: 0.639344262295082 and parameters: {'n_neighbors': 7, 'weights': 'uniform', 'distance': 'dtw', 'n_jobs': -1}. Best is trial 10 with value: 0.5983606557377049.\n",
      "[I 2023-06-22 15:01:31,816] Trial 71 finished with value: 0.6311475409836066 and parameters: {'n_neighbors': 15, 'weights': 'uniform', 'distance': 'dtw', 'n_jobs': -1}. Best is trial 10 with value: 0.5983606557377049.\n",
      "[I 2023-06-22 15:01:32,017] Trial 72 finished with value: 0.6311475409836066 and parameters: {'n_neighbors': 15, 'weights': 'uniform', 'distance': 'dtw', 'n_jobs': -1}. Best is trial 10 with value: 0.5983606557377049.\n",
      "[I 2023-06-22 15:01:33,785] Trial 73 finished with value: 0.6475409836065574 and parameters: {'n_neighbors': 14, 'weights': 'uniform', 'distance': 'dtw', 'n_jobs': -1}. Best is trial 10 with value: 0.5983606557377049.\n",
      "[I 2023-06-22 15:01:36,437] Trial 74 finished with value: 0.6475409836065574 and parameters: {'n_neighbors': 14, 'weights': 'uniform', 'distance': 'dtw', 'n_jobs': -1}. Best is trial 10 with value: 0.5983606557377049.\n",
      "[I 2023-06-22 15:01:37,851] Trial 75 finished with value: 0.6475409836065574 and parameters: {'n_neighbors': 14, 'weights': 'uniform', 'distance': 'dtw', 'n_jobs': -1}. Best is trial 10 with value: 0.5983606557377049.\n",
      "[I 2023-06-22 15:01:38,048] Trial 76 finished with value: 0.6311475409836066 and parameters: {'n_neighbors': 15, 'weights': 'uniform', 'distance': 'dtw', 'n_jobs': -1}. Best is trial 10 with value: 0.5983606557377049.\n",
      "[I 2023-06-22 15:01:39,717] Trial 79 finished with value: 0.6311475409836066 and parameters: {'n_neighbors': 18, 'weights': 'uniform', 'distance': 'dtw', 'n_jobs': -1}. Best is trial 10 with value: 0.5983606557377049.\n",
      "[I 2023-06-22 15:01:39,921] Trial 77 finished with value: 0.6311475409836066 and parameters: {'n_neighbors': 15, 'weights': 'uniform', 'distance': 'dtw', 'n_jobs': -1}. Best is trial 10 with value: 0.5983606557377049.\n",
      "[I 2023-06-22 15:01:40,667] Trial 78 finished with value: 0.6311475409836066 and parameters: {'n_neighbors': 15, 'weights': 'uniform', 'distance': 'dtw', 'n_jobs': -1}. Best is trial 10 with value: 0.5983606557377049.\n",
      "[I 2023-06-22 15:01:40,882] Trial 80 finished with value: 0.6502732240437158 and parameters: {'n_neighbors': 17, 'weights': 'uniform', 'distance': 'dtw', 'n_jobs': -1}. Best is trial 10 with value: 0.5983606557377049.\n",
      "[I 2023-06-22 15:01:41,909] Trial 81 finished with value: 0.6311475409836066 and parameters: {'n_neighbors': 16, 'weights': 'uniform', 'distance': 'dtw', 'n_jobs': -1}. Best is trial 10 with value: 0.5983606557377049.\n",
      "[I 2023-06-22 15:01:43,895] Trial 82 finished with value: 0.6311475409836066 and parameters: {'n_neighbors': 18, 'weights': 'uniform', 'distance': 'dtw', 'n_jobs': -1}. Best is trial 10 with value: 0.5983606557377049.\n",
      "[I 2023-06-22 15:01:46,689] Trial 83 finished with value: 0.6502732240437158 and parameters: {'n_neighbors': 17, 'weights': 'uniform', 'distance': 'dtw', 'n_jobs': -1}. Best is trial 10 with value: 0.5983606557377049.\n",
      "[I 2023-06-22 15:01:46,764] Trial 84 finished with value: 0.6311475409836066 and parameters: {'n_neighbors': 18, 'weights': 'uniform', 'distance': 'dtw', 'n_jobs': -1}. Best is trial 10 with value: 0.5983606557377049.\n",
      "[I 2023-06-22 15:01:47,885] Trial 86 finished with value: 0.6366120218579235 and parameters: {'n_neighbors': 3, 'weights': 'uniform', 'distance': 'dtw', 'n_jobs': -1}. Best is trial 10 with value: 0.5983606557377049.\n",
      "[I 2023-06-22 15:01:47,965] Trial 88 finished with value: 0.6502732240437158 and parameters: {'n_neighbors': 24, 'weights': 'distance', 'distance': 'dtw', 'n_jobs': -1}. Best is trial 10 with value: 0.5983606557377049.\n",
      "[I 2023-06-22 15:01:48,134] Trial 89 finished with value: 0.6502732240437158 and parameters: {'n_neighbors': 24, 'weights': 'distance', 'distance': 'dtw', 'n_jobs': -1}. Best is trial 10 with value: 0.5983606557377049.\n",
      "[I 2023-06-22 15:01:49,055] Trial 85 finished with value: 0.6366120218579235 and parameters: {'n_neighbors': 3, 'weights': 'uniform', 'distance': 'dtw', 'n_jobs': -1}. Best is trial 10 with value: 0.5983606557377049.\n",
      "[I 2023-06-22 15:01:49,505] Trial 87 finished with value: 0.6311475409836066 and parameters: {'n_neighbors': 18, 'weights': 'uniform', 'distance': 'dtw', 'n_jobs': -1}. Best is trial 10 with value: 0.5983606557377049.\n",
      "[I 2023-06-22 15:01:49,525] Trial 90 finished with value: 0.6502732240437158 and parameters: {'n_neighbors': 24, 'weights': 'distance', 'distance': 'dtw', 'n_jobs': -1}. Best is trial 10 with value: 0.5983606557377049.\n",
      "[I 2023-06-22 15:01:53,237] Trial 91 finished with value: 0.6584699453551912 and parameters: {'n_neighbors': 12, 'weights': 'distance', 'distance': 'dtw', 'n_jobs': -1}. Best is trial 10 with value: 0.5983606557377049.\n",
      "[I 2023-06-22 15:01:54,324] Trial 92 finished with value: 0.6502732240437158 and parameters: {'n_neighbors': 24, 'weights': 'distance', 'distance': 'dtw', 'n_jobs': -1}. Best is trial 10 with value: 0.5983606557377049.\n",
      "[I 2023-06-22 15:01:55,335] Trial 93 finished with value: 0.6502732240437158 and parameters: {'n_neighbors': 24, 'weights': 'distance', 'distance': 'dtw', 'n_jobs': -1}. Best is trial 10 with value: 0.5983606557377049.\n",
      "[I 2023-06-22 15:01:55,948] Trial 94 finished with value: 0.6311475409836066 and parameters: {'n_neighbors': 22, 'weights': 'distance', 'distance': 'dtw', 'n_jobs': -1}. Best is trial 10 with value: 0.5983606557377049.\n",
      "[I 2023-06-22 15:01:56,281] Trial 95 finished with value: 0.6311475409836066 and parameters: {'n_neighbors': 22, 'weights': 'distance', 'distance': 'dtw', 'n_jobs': -1}. Best is trial 10 with value: 0.5983606557377049.\n",
      "[I 2023-06-22 15:01:57,099] Trial 96 finished with value: 0.6311475409836066 and parameters: {'n_neighbors': 22, 'weights': 'distance', 'distance': 'dtw', 'n_jobs': -1}. Best is trial 10 with value: 0.5983606557377049.\n",
      "[I 2023-06-22 15:01:57,436] Trial 97 finished with value: 0.6311475409836066 and parameters: {'n_neighbors': 22, 'weights': 'distance', 'distance': 'dtw', 'n_jobs': -1}. Best is trial 10 with value: 0.5983606557377049.\n",
      "[I 2023-06-22 15:01:57,449] Trial 98 finished with value: 0.6311475409836066 and parameters: {'n_neighbors': 22, 'weights': 'distance', 'distance': 'dtw', 'n_jobs': -1}. Best is trial 10 with value: 0.5983606557377049.\n",
      "[I 2023-06-22 15:01:57,861] Trial 99 finished with value: 0.639344262295082 and parameters: {'n_neighbors': 25, 'weights': 'distance', 'distance': 'dtw', 'n_jobs': -1}. Best is trial 10 with value: 0.5983606557377049.\n"
     ]
    }
   ],
   "source": [
    "# objective function to be minimized\n",
    "def objective_fun(trial):\n",
    "\n",
    "    n_neighbors = trial.suggest_int('n_neighbors', 1, 50)\n",
    "    weights = trial.suggest_categorical('weights', ['uniform', 'distance'])\n",
    "    distance = trial.suggest_categorical('distance', ['dtw'])\n",
    "    n_jobs = trial.suggest_int('n_jobs', -1, -1)\n",
    "\n",
    "    knn = KNeighborsTimeSeriesClassifier(\n",
    "        n_neighbors=n_neighbors,\n",
    "        weights=weights,\n",
    "        distance=distance,\n",
    "        n_jobs=n_jobs\n",
    "    )\n",
    "\n",
    "    knn.fit(X_train_v, y_train_v)\n",
    "    y_pred = knn.predict(X_valid)\n",
    "\n",
    "    error = accuracy_score(y_valid, y_pred)\n",
    "\n",
    "    return error\n",
    "\n",
    "\n",
    "study = optuna.create_study()\n",
    "study.optimize(objective_fun, n_trials=100, n_jobs=-1)"
   ],
   "metadata": {
    "collapsed": false,
    "ExecuteTime": {
     "end_time": "2023-06-22T13:01:57.865116Z",
     "start_time": "2023-06-22T13:00:11.040698Z"
    }
   }
  },
  {
   "cell_type": "code",
   "execution_count": 13,
   "outputs": [
    {
     "data": {
      "text/plain": "{'n_neighbors': 2, 'weights': 'uniform', 'distance': 'dtw', 'n_jobs': -1}"
     },
     "execution_count": 13,
     "metadata": {},
     "output_type": "execute_result"
    }
   ],
   "source": [
    "best_params = study.best_params\n",
    "best_params"
   ],
   "metadata": {
    "collapsed": false,
    "ExecuteTime": {
     "end_time": "2023-06-22T13:01:57.869806Z",
     "start_time": "2023-06-22T13:01:57.867044Z"
    }
   }
  },
  {
   "cell_type": "code",
   "execution_count": 14,
   "outputs": [
    {
     "data": {
      "text/plain": "KNeighborsTimeSeriesClassifier(n_jobs=-1, n_neighbors=2)",
      "text/html": "<style>#sk-c4e2a085-6f98-4c81-ad2a-73354db940ad {color: black;background-color: white;}#sk-c4e2a085-6f98-4c81-ad2a-73354db940ad pre{padding: 0;}#sk-c4e2a085-6f98-4c81-ad2a-73354db940ad div.sk-toggleable {background-color: white;}#sk-c4e2a085-6f98-4c81-ad2a-73354db940ad label.sk-toggleable__label {cursor: pointer;display: block;width: 100%;margin-bottom: 0;padding: 0.3em;box-sizing: border-box;text-align: center;}#sk-c4e2a085-6f98-4c81-ad2a-73354db940ad label.sk-toggleable__label-arrow:before {content: \"▸\";float: left;margin-right: 0.25em;color: #696969;}#sk-c4e2a085-6f98-4c81-ad2a-73354db940ad label.sk-toggleable__label-arrow:hover:before {color: black;}#sk-c4e2a085-6f98-4c81-ad2a-73354db940ad div.sk-estimator:hover label.sk-toggleable__label-arrow:before {color: black;}#sk-c4e2a085-6f98-4c81-ad2a-73354db940ad div.sk-toggleable__content {max-height: 0;max-width: 0;overflow: hidden;text-align: left;background-color: #f0f8ff;}#sk-c4e2a085-6f98-4c81-ad2a-73354db940ad div.sk-toggleable__content pre {margin: 0.2em;color: black;border-radius: 0.25em;background-color: #f0f8ff;}#sk-c4e2a085-6f98-4c81-ad2a-73354db940ad input.sk-toggleable__control:checked~div.sk-toggleable__content {max-height: 200px;max-width: 100%;overflow: auto;}#sk-c4e2a085-6f98-4c81-ad2a-73354db940ad input.sk-toggleable__control:checked~label.sk-toggleable__label-arrow:before {content: \"▾\";}#sk-c4e2a085-6f98-4c81-ad2a-73354db940ad div.sk-estimator input.sk-toggleable__control:checked~label.sk-toggleable__label {background-color: #d4ebff;}#sk-c4e2a085-6f98-4c81-ad2a-73354db940ad div.sk-label input.sk-toggleable__control:checked~label.sk-toggleable__label {background-color: #d4ebff;}#sk-c4e2a085-6f98-4c81-ad2a-73354db940ad input.sk-hidden--visually {border: 0;clip: rect(1px 1px 1px 1px);clip: rect(1px, 1px, 1px, 1px);height: 1px;margin: -1px;overflow: hidden;padding: 0;position: absolute;width: 1px;}#sk-c4e2a085-6f98-4c81-ad2a-73354db940ad div.sk-estimator {font-family: monospace;background-color: #f0f8ff;border: 1px dotted black;border-radius: 0.25em;box-sizing: border-box;margin-bottom: 0.5em;}#sk-c4e2a085-6f98-4c81-ad2a-73354db940ad div.sk-estimator:hover {background-color: #d4ebff;}#sk-c4e2a085-6f98-4c81-ad2a-73354db940ad div.sk-parallel-item::after {content: \"\";width: 100%;border-bottom: 1px solid gray;flex-grow: 1;}#sk-c4e2a085-6f98-4c81-ad2a-73354db940ad div.sk-label:hover label.sk-toggleable__label {background-color: #d4ebff;}#sk-c4e2a085-6f98-4c81-ad2a-73354db940ad div.sk-serial::before {content: \"\";position: absolute;border-left: 1px solid gray;box-sizing: border-box;top: 2em;bottom: 0;left: 50%;}#sk-c4e2a085-6f98-4c81-ad2a-73354db940ad div.sk-serial {display: flex;flex-direction: column;align-items: center;background-color: white;padding-right: 0.2em;padding-left: 0.2em;}#sk-c4e2a085-6f98-4c81-ad2a-73354db940ad div.sk-item {z-index: 1;}#sk-c4e2a085-6f98-4c81-ad2a-73354db940ad div.sk-parallel {display: flex;align-items: stretch;justify-content: center;background-color: white;}#sk-c4e2a085-6f98-4c81-ad2a-73354db940ad div.sk-parallel::before {content: \"\";position: absolute;border-left: 1px solid gray;box-sizing: border-box;top: 2em;bottom: 0;left: 50%;}#sk-c4e2a085-6f98-4c81-ad2a-73354db940ad div.sk-parallel-item {display: flex;flex-direction: column;position: relative;background-color: white;}#sk-c4e2a085-6f98-4c81-ad2a-73354db940ad div.sk-parallel-item:first-child::after {align-self: flex-end;width: 50%;}#sk-c4e2a085-6f98-4c81-ad2a-73354db940ad div.sk-parallel-item:last-child::after {align-self: flex-start;width: 50%;}#sk-c4e2a085-6f98-4c81-ad2a-73354db940ad div.sk-parallel-item:only-child::after {width: 0;}#sk-c4e2a085-6f98-4c81-ad2a-73354db940ad div.sk-dashed-wrapped {border: 1px dashed gray;margin: 0 0.4em 0.5em 0.4em;box-sizing: border-box;padding-bottom: 0.4em;background-color: white;position: relative;}#sk-c4e2a085-6f98-4c81-ad2a-73354db940ad div.sk-label label {font-family: monospace;font-weight: bold;background-color: white;display: inline-block;line-height: 1.2em;}#sk-c4e2a085-6f98-4c81-ad2a-73354db940ad div.sk-label-container {position: relative;z-index: 2;text-align: center;}#sk-c4e2a085-6f98-4c81-ad2a-73354db940ad div.sk-container {/* jupyter's `normalize.less` sets `[hidden] { display: none; }` but bootstrap.min.css set `[hidden] { display: none !important; }` so we also need the `!important` here to be able to override the default hidden behavior on the sphinx rendered scikit-learn.org. See: https://github.com/scikit-learn/scikit-learn/issues/21755 */display: inline-block !important;position: relative;}#sk-c4e2a085-6f98-4c81-ad2a-73354db940ad div.sk-text-repr-fallback {display: none;}</style><div id='sk-c4e2a085-6f98-4c81-ad2a-73354db940ad' class=\"sk-top-container\"><div class=\"sk-text-repr-fallback\"><pre>KNeighborsTimeSeriesClassifier(n_jobs=-1, n_neighbors=2)</pre><b>Please rerun this cell to show the HTML repr or trust the notebook.</b></div><div class=\"sk-container\" hidden><div class='sk-item'><div class=\"sk-estimator sk-toggleable\"><input class=\"sk-toggleable__control sk-hidden--visually\" id=UUID('0202a688-75b2-40d3-9ab4-cf7fe50884b0') type=\"checkbox\" checked><label for=UUID('0202a688-75b2-40d3-9ab4-cf7fe50884b0') class='sk-toggleable__label sk-toggleable__label-arrow'>KNeighborsTimeSeriesClassifier</label><div class=\"sk-toggleable__content\"><pre>KNeighborsTimeSeriesClassifier(n_jobs=-1, n_neighbors=2)</pre></div></div></div></div></div>"
     },
     "execution_count": 14,
     "metadata": {},
     "output_type": "execute_result"
    }
   ],
   "source": [
    "knn = KNeighborsTimeSeriesClassifier(**best_params)\n",
    "knn.fit(X_train, y_train)"
   ],
   "metadata": {
    "collapsed": false,
    "ExecuteTime": {
     "end_time": "2023-06-22T13:01:57.883534Z",
     "start_time": "2023-06-22T13:01:57.870180Z"
    }
   }
  },
  {
   "cell_type": "code",
   "execution_count": 15,
   "outputs": [
    {
     "name": "stdout",
     "output_type": "stream",
     "text": [
      "              precision    recall  f1-score   support\n",
      "\n",
      "        song       0.59      0.67      0.63       264\n",
      "      speech       0.73      0.66      0.69       360\n",
      "\n",
      "    accuracy                           0.66       624\n",
      "   macro avg       0.66      0.66      0.66       624\n",
      "weighted avg       0.67      0.66      0.66       624\n",
      "\n"
     ]
    }
   ],
   "source": [
    "y_pred = knn.predict(X_test)\n",
    "print(classification_report(y_test, y_pred))"
   ],
   "metadata": {
    "collapsed": false,
    "ExecuteTime": {
     "end_time": "2023-06-22T13:02:00.182673Z",
     "start_time": "2023-06-22T13:01:57.885703Z"
    }
   }
  },
  {
   "cell_type": "markdown",
   "source": [
    "# Shapelets"
   ],
   "metadata": {
    "collapsed": false
   }
  },
  {
   "cell_type": "code",
   "execution_count": 16,
   "outputs": [],
   "source": [
    "from pyts.transformation import ShapeletTransform\n",
    "\n",
    "# Shapelet transformation\n",
    "st = ShapeletTransform(random_state=42, sort=True)"
   ],
   "metadata": {
    "collapsed": false,
    "ExecuteTime": {
     "end_time": "2023-06-22T13:02:00.187413Z",
     "start_time": "2023-06-22T13:02:00.172365Z"
    }
   }
  }
 ],
 "metadata": {
  "kernelspec": {
   "display_name": "Python 3",
   "language": "python",
   "name": "python3"
  },
  "language_info": {
   "codemirror_mode": {
    "name": "ipython",
    "version": 2
   },
   "file_extension": ".py",
   "mimetype": "text/x-python",
   "name": "python",
   "nbconvert_exporter": "python",
   "pygments_lexer": "ipython2",
   "version": "2.7.6"
  }
 },
 "nbformat": 4,
 "nbformat_minor": 0
}
