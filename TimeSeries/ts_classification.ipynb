{
 "cells": [
  {
   "cell_type": "code",
   "execution_count": 1,
   "metadata": {
    "collapsed": true,
    "ExecuteTime": {
     "end_time": "2023-06-22T15:32:08.001860Z",
     "start_time": "2023-06-22T15:32:08.000324Z"
    }
   },
   "outputs": [],
   "source": [
    "import os\n",
    "import numpy as np\n",
    "import pandas as pd\n",
    "import matplotlib.pyplot as plt\n",
    "import seaborn as sns; sns.set()"
   ]
  },
  {
   "cell_type": "code",
   "execution_count": 2,
   "outputs": [],
   "source": [
    "TS_DATASET_FOLDER = os.path.join('..', 'dataset')\n",
    "TS_PREPROC_FOLDER = os.path.join(TS_DATASET_FOLDER, 'preprocessed_traces')\n",
    "DF_PREPROC_FILE = os.path.join(TS_PREPROC_FOLDER, 'preproc_ts.df')\n",
    "\n",
    "TARGET = 'statement'\n",
    "TRACES = 'spectral_centroid'"
   ],
   "metadata": {
    "collapsed": false,
    "ExecuteTime": {
     "end_time": "2023-06-22T15:32:08.006066Z",
     "start_time": "2023-06-22T15:32:08.004441Z"
    }
   }
  },
  {
   "cell_type": "code",
   "execution_count": 3,
   "outputs": [
    {
     "data": {
      "text/plain": "  vocal_channel    emotion emotional_intensity statement repetition     actor   \n0        speech  surprised              strong      dogs        1st  actor_01  \\\n1        speech  surprised              normal      kids        1st  actor_01   \n2        speech      angry              normal      dogs        1st  actor_01   \n3        speech    fearful              normal      dogs        2nd  actor_01   \n4        speech    fearful              strong      kids        2nd  actor_01   \n\n                                                path sex   begin_s     end_s   \n0  ../dataset/Audio_Speech_Actors_01-24/Actor_01/...   M  1.007500  2.498167  \\\n1  ../dataset/Audio_Speech_Actors_01-24/Actor_01/...   M  1.024167  2.357167   \n2  ../dataset/Audio_Speech_Actors_01-24/Actor_01/...   M  1.029333  2.467500   \n3  ../dataset/Audio_Speech_Actors_01-24/Actor_01/...   M  1.030500  2.710000   \n4  ../dataset/Audio_Speech_Actors_01-24/Actor_01/...   M  1.047667  3.127167   \n\n                                      fourier_coeffs   \n0  [1.0788441e-05 3.7551079e-02 3.6168553e-02 ......  \\\n1  [8.6426735e-06 1.0938305e-02 7.4250461e-03 ......   \n2  [1.1563301e-05 4.1558143e-02 2.8845785e-02 ......   \n3  [2.0563602e-06 1.1770763e-02 5.6602592e-03 ......   \n4  [6.9618225e-05 1.3387279e-02 8.0524459e-02 ......   \n\n                             filtered_fourier_coeffs  syll_0_start_index   \n0  [1.0788441e-05 3.7551045e-02 3.6168423e-02 ......                   0  \\\n1  [8.6426735e-06 1.0938293e-02 7.4250125e-03 ......                   0   \n2  [1.15633011e-05 4.15581055e-02 2.88456734e-02 ...                   0   \n3  [2.0563602e-06 1.1770754e-02 5.6602429e-03 ......                   0   \n4  [6.9618225e-05 1.3387272e-02 8.0524310e-02 ......                   0   \n\n   syll_1_start_index  syll_2_start_index  syll_3_start_index   \n0                2872                3920                4536  \\\n1                1544                2528                4032   \n2                2992                4368                4912   \n3                4576                5064                6240   \n4                1984                2504                3648   \n\n   syll_4_start_index  syll_5_start_index  syll_6_start_index   \n0                5536                6480                7136  \\\n1                5224                5984                6712   \n2                5896                6768                7400   \n3                7544                8248                8784   \n4                5176                8320               10256   \n\n   syll_7_start_index  \n0                8936  \n1                7992  \n2                8624  \n3               10072  \n4               12472  ",
      "text/html": "<div>\n<style scoped>\n    .dataframe tbody tr th:only-of-type {\n        vertical-align: middle;\n    }\n\n    .dataframe tbody tr th {\n        vertical-align: top;\n    }\n\n    .dataframe thead th {\n        text-align: right;\n    }\n</style>\n<table border=\"1\" class=\"dataframe\">\n  <thead>\n    <tr style=\"text-align: right;\">\n      <th></th>\n      <th>vocal_channel</th>\n      <th>emotion</th>\n      <th>emotional_intensity</th>\n      <th>statement</th>\n      <th>repetition</th>\n      <th>actor</th>\n      <th>path</th>\n      <th>sex</th>\n      <th>begin_s</th>\n      <th>end_s</th>\n      <th>fourier_coeffs</th>\n      <th>filtered_fourier_coeffs</th>\n      <th>syll_0_start_index</th>\n      <th>syll_1_start_index</th>\n      <th>syll_2_start_index</th>\n      <th>syll_3_start_index</th>\n      <th>syll_4_start_index</th>\n      <th>syll_5_start_index</th>\n      <th>syll_6_start_index</th>\n      <th>syll_7_start_index</th>\n    </tr>\n  </thead>\n  <tbody>\n    <tr>\n      <th>0</th>\n      <td>speech</td>\n      <td>surprised</td>\n      <td>strong</td>\n      <td>dogs</td>\n      <td>1st</td>\n      <td>actor_01</td>\n      <td>../dataset/Audio_Speech_Actors_01-24/Actor_01/...</td>\n      <td>M</td>\n      <td>1.007500</td>\n      <td>2.498167</td>\n      <td>[1.0788441e-05 3.7551079e-02 3.6168553e-02 ......</td>\n      <td>[1.0788441e-05 3.7551045e-02 3.6168423e-02 ......</td>\n      <td>0</td>\n      <td>2872</td>\n      <td>3920</td>\n      <td>4536</td>\n      <td>5536</td>\n      <td>6480</td>\n      <td>7136</td>\n      <td>8936</td>\n    </tr>\n    <tr>\n      <th>1</th>\n      <td>speech</td>\n      <td>surprised</td>\n      <td>normal</td>\n      <td>kids</td>\n      <td>1st</td>\n      <td>actor_01</td>\n      <td>../dataset/Audio_Speech_Actors_01-24/Actor_01/...</td>\n      <td>M</td>\n      <td>1.024167</td>\n      <td>2.357167</td>\n      <td>[8.6426735e-06 1.0938305e-02 7.4250461e-03 ......</td>\n      <td>[8.6426735e-06 1.0938293e-02 7.4250125e-03 ......</td>\n      <td>0</td>\n      <td>1544</td>\n      <td>2528</td>\n      <td>4032</td>\n      <td>5224</td>\n      <td>5984</td>\n      <td>6712</td>\n      <td>7992</td>\n    </tr>\n    <tr>\n      <th>2</th>\n      <td>speech</td>\n      <td>angry</td>\n      <td>normal</td>\n      <td>dogs</td>\n      <td>1st</td>\n      <td>actor_01</td>\n      <td>../dataset/Audio_Speech_Actors_01-24/Actor_01/...</td>\n      <td>M</td>\n      <td>1.029333</td>\n      <td>2.467500</td>\n      <td>[1.1563301e-05 4.1558143e-02 2.8845785e-02 ......</td>\n      <td>[1.15633011e-05 4.15581055e-02 2.88456734e-02 ...</td>\n      <td>0</td>\n      <td>2992</td>\n      <td>4368</td>\n      <td>4912</td>\n      <td>5896</td>\n      <td>6768</td>\n      <td>7400</td>\n      <td>8624</td>\n    </tr>\n    <tr>\n      <th>3</th>\n      <td>speech</td>\n      <td>fearful</td>\n      <td>normal</td>\n      <td>dogs</td>\n      <td>2nd</td>\n      <td>actor_01</td>\n      <td>../dataset/Audio_Speech_Actors_01-24/Actor_01/...</td>\n      <td>M</td>\n      <td>1.030500</td>\n      <td>2.710000</td>\n      <td>[2.0563602e-06 1.1770763e-02 5.6602592e-03 ......</td>\n      <td>[2.0563602e-06 1.1770754e-02 5.6602429e-03 ......</td>\n      <td>0</td>\n      <td>4576</td>\n      <td>5064</td>\n      <td>6240</td>\n      <td>7544</td>\n      <td>8248</td>\n      <td>8784</td>\n      <td>10072</td>\n    </tr>\n    <tr>\n      <th>4</th>\n      <td>speech</td>\n      <td>fearful</td>\n      <td>strong</td>\n      <td>kids</td>\n      <td>2nd</td>\n      <td>actor_01</td>\n      <td>../dataset/Audio_Speech_Actors_01-24/Actor_01/...</td>\n      <td>M</td>\n      <td>1.047667</td>\n      <td>3.127167</td>\n      <td>[6.9618225e-05 1.3387279e-02 8.0524459e-02 ......</td>\n      <td>[6.9618225e-05 1.3387272e-02 8.0524310e-02 ......</td>\n      <td>0</td>\n      <td>1984</td>\n      <td>2504</td>\n      <td>3648</td>\n      <td>5176</td>\n      <td>8320</td>\n      <td>10256</td>\n      <td>12472</td>\n    </tr>\n  </tbody>\n</table>\n</div>"
     },
     "execution_count": 3,
     "metadata": {},
     "output_type": "execute_result"
    }
   ],
   "source": [
    "df = pd.read_csv(DF_PREPROC_FILE).drop(columns=['Unnamed: 0'])\n",
    "df.head()"
   ],
   "metadata": {
    "collapsed": false,
    "ExecuteTime": {
     "end_time": "2023-06-22T15:32:08.026560Z",
     "start_time": "2023-06-22T15:32:08.006986Z"
    }
   }
  },
  {
   "cell_type": "code",
   "execution_count": 4,
   "outputs": [
    {
     "data": {
      "text/plain": "dict_keys(['clean_trace', 'syllables_1_ts', 'std_phon_trace', 'spectral_mode', 'syllables_3_ts', 'syllables_5_ts', 'syllables_0_ts', 'syllables_2_ts', 'spectral_centroid', 'syllables_fourier', 'traces_fourier', 'syllables_6_ts', 'full_stft', 'syllables_4_ts'])"
     },
     "execution_count": 4,
     "metadata": {},
     "output_type": "execute_result"
    }
   ],
   "source": [
    "traces_dict = {}\n",
    "files = os.listdir(TS_PREPROC_FOLDER)\n",
    "\n",
    "for file in files:\n",
    "\n",
    "    if file.endswith('.npy'):\n",
    "        file_path = os.path.join(TS_PREPROC_FOLDER, file)\n",
    "        # dictionary keys are the file names\n",
    "        key = os.path.splitext(file)[0]\n",
    "        # load array\n",
    "        traces_dict[key] = np.load(file_path, allow_pickle=True)\n",
    "\n",
    "traces_dict.keys()"
   ],
   "metadata": {
    "collapsed": false,
    "ExecuteTime": {
     "end_time": "2023-06-22T15:32:09.047106Z",
     "start_time": "2023-06-22T15:32:08.026433Z"
    }
   }
  },
  {
   "cell_type": "code",
   "execution_count": 5,
   "outputs": [
    {
     "data": {
      "text/plain": "array([[377.04104784, 554.42557349, 552.99569092, ..., 239.44936401,\n        250.11638376, 577.29716523],\n       [399.58881825, 323.94854143, 237.87077891, ..., 248.98309395,\n        382.30738191, 412.6058697 ],\n       [411.11345896, 550.91115798, 563.21587241, ..., 400.25492436,\n        394.55069761, 387.89577529],\n       ...,\n       [351.8712729 , 360.95787551, 338.76598789, ..., 395.6888801 ,\n        433.46607165, 389.38994804],\n       [345.46179248, 400.0581405 , 361.22967668, ..., 456.40902743,\n        372.32974406, 374.78932008],\n       [385.20230568, 452.5348572 , 443.51716885, ..., 574.36528264,\n        407.77535434, 379.53781318]])"
     },
     "execution_count": 5,
     "metadata": {},
     "output_type": "execute_result"
    }
   ],
   "source": [
    "traces = traces_dict[TRACES]\n",
    "traces"
   ],
   "metadata": {
    "collapsed": false,
    "ExecuteTime": {
     "end_time": "2023-06-22T15:32:09.048340Z",
     "start_time": "2023-06-22T15:32:08.984022Z"
    }
   }
  },
  {
   "cell_type": "code",
   "execution_count": 6,
   "outputs": [
    {
     "data": {
      "text/plain": "<Figure size 640x480 with 1 Axes>",
      "image/png": "[encoded data removed]"
     },
     "metadata": {},
     "output_type": "display_data"
    }
   ],
   "source": [
    "index = 0\n",
    "plt.plot(traces[index])\n",
    "plt.title(f'Time series at row #{index}')\n",
    "plt.show()"
   ],
   "metadata": {
    "collapsed": false,
    "ExecuteTime": {
     "end_time": "2023-06-22T15:32:09.217566Z",
     "start_time": "2023-06-22T15:32:08.985045Z"
    }
   }
  },
  {
   "cell_type": "code",
   "execution_count": 7,
   "outputs": [
    {
     "data": {
      "text/plain": "array([[377.04104784, 554.42557349, 552.99569092, ..., 239.44936401,\n        250.11638376, 577.29716523],\n       [642.59387963, 295.12664171, 385.55597221, ..., 274.27171968,\n        194.46088576, 178.74583788],\n       [294.7344646 , 287.71006845, 377.02263426, ..., 523.60659556,\n        394.44525343, 182.09034025],\n       ...,\n       [436.87964   , 494.13765777, 475.06345704, ..., 670.8170083 ,\n        297.98897986, 223.20123006],\n       [418.46179409, 614.79738442, 711.95037638, ..., 662.68767802,\n        610.67989973, 477.1445656 ],\n       [385.20230568, 452.5348572 , 443.51716885, ..., 574.36528264,\n        407.77535434, 379.53781318]])"
     },
     "execution_count": 7,
     "metadata": {},
     "output_type": "execute_result"
    }
   ],
   "source": [
    "# sort by actors\n",
    "sorted_indices = df['actor'].argsort()\n",
    "df = df.iloc[sorted_indices].reset_index(drop=True)\n",
    "\n",
    "traces = traces[sorted_indices]\n",
    "\n",
    "traces"
   ],
   "metadata": {
    "collapsed": false,
    "ExecuteTime": {
     "end_time": "2023-06-22T15:32:09.233363Z",
     "start_time": "2023-06-22T15:32:09.223324Z"
    }
   }
  },
  {
   "cell_type": "code",
   "execution_count": 8,
   "outputs": [
    {
     "data": {
      "text/plain": "((1462, 50), (366, 50), (624, 50), (1462,), (366,), (624,))"
     },
     "execution_count": 8,
     "metadata": {},
     "output_type": "execute_result"
    }
   ],
   "source": [
    "from sklearn.model_selection import train_test_split\n",
    "\n",
    "split_index = df[df['actor'] == 'actor_19'].index[0]\n",
    "\n",
    "X_train = traces[:split_index]\n",
    "X_test = traces[split_index:]\n",
    "\n",
    "y_train = df[TARGET][:split_index].to_numpy()\n",
    "y_test = df[TARGET][split_index:].to_numpy()\n",
    "\n",
    "X_train_v, X_valid, y_train_v, y_valid = train_test_split(X_train, y_train, test_size=0.2, random_state=100)\n",
    "\n",
    "X_train_v.shape, X_valid.shape, X_test.shape, y_train_v.shape, y_valid.shape, y_test.shape"
   ],
   "metadata": {
    "collapsed": false,
    "ExecuteTime": {
     "end_time": "2023-06-22T15:32:09.484136Z",
     "start_time": "2023-06-22T15:32:09.235039Z"
    }
   }
  },
  {
   "cell_type": "markdown",
   "source": [
    "# KNN using euclidean distance"
   ],
   "metadata": {
    "collapsed": false
   }
  },
  {
   "cell_type": "code",
   "execution_count": 9,
   "outputs": [
    {
     "data": {
      "text/plain": "\"\\n# objective function to be minimized\\ndef objective_fun(trial):\\n\\n    n_neighbors = trial.suggest_int('n_neighbors', 1, 50)\\n    weights = trial.suggest_categorical('weights', ['uniform', 'distance'])\\n    distance = trial.suggest_categorical('distance', ['euclidean'])\\n    n_jobs = trial.suggest_int('n_jobs', -1, -1)\\n\\n    knn = KNeighborsTimeSeriesClassifier(\\n        n_neighbors=n_neighbors,\\n        weights=weights,\\n        distance=distance,\\n        n_jobs=n_jobs\\n    )\\n\\n    knn.fit(X_train_v, y_train_v)\\n    y_pred = knn.predict(X_valid)\\n\\n    accuracy = accuracy_score(y_valid, y_pred)\\n\\n    return accuracy\\n\\n\\nstudy = optuna.create_study(direction='maximize')\\nstudy.optimize(objective_fun, n_trials=100, n_jobs=-1)\\n\""
     },
     "execution_count": 9,
     "metadata": {},
     "output_type": "execute_result"
    }
   ],
   "source": [
    "from sklearn.metrics import accuracy_score\n",
    "from sktime.classification.distance_based import KNeighborsTimeSeriesClassifier\n",
    "import optuna\n",
    "\n",
    "\"\"\"\n",
    "# objective function to be minimized\n",
    "def objective_fun(trial):\n",
    "\n",
    "    n_neighbors = trial.suggest_int('n_neighbors', 1, 50)\n",
    "    weights = trial.suggest_categorical('weights', ['uniform', 'distance'])\n",
    "    distance = trial.suggest_categorical('distance', ['euclidean'])\n",
    "    n_jobs = trial.suggest_int('n_jobs', -1, -1)\n",
    "\n",
    "    knn = KNeighborsTimeSeriesClassifier(\n",
    "        n_neighbors=n_neighbors,\n",
    "        weights=weights,\n",
    "        distance=distance,\n",
    "        n_jobs=n_jobs\n",
    "    )\n",
    "\n",
    "    knn.fit(X_train_v, y_train_v)\n",
    "    y_pred = knn.predict(X_valid)\n",
    "\n",
    "    accuracy = accuracy_score(y_valid, y_pred)\n",
    "\n",
    "    return accuracy\n",
    "\n",
    "\n",
    "study = optuna.create_study(direction='maximize')\n",
    "study.optimize(objective_fun, n_trials=100, n_jobs=-1)\n",
    "\"\"\""
   ],
   "metadata": {
    "collapsed": false,
    "ExecuteTime": {
     "end_time": "2023-06-22T15:32:09.907198Z",
     "start_time": "2023-06-22T15:32:09.472417Z"
    }
   }
  },
  {
   "cell_type": "code",
   "execution_count": 10,
   "outputs": [
    {
     "data": {
      "text/plain": "'\\nbest_params = study.best_params\\nbest_params\\n'"
     },
     "execution_count": 10,
     "metadata": {},
     "output_type": "execute_result"
    }
   ],
   "source": [
    "\"\"\"\n",
    "best_params = study.best_params\n",
    "best_params\n",
    "\"\"\""
   ],
   "metadata": {
    "collapsed": false,
    "ExecuteTime": {
     "end_time": "2023-06-22T15:32:09.910829Z",
     "start_time": "2023-06-22T15:32:09.908069Z"
    }
   }
  },
  {
   "cell_type": "code",
   "execution_count": 11,
   "outputs": [
    {
     "data": {
      "text/plain": "KNeighborsTimeSeriesClassifier(n_jobs=-1)",
      "text/html": "<style>#sk-c5d5e58f-25dc-4582-8088-3d479095723f {color: black;background-color: white;}#sk-c5d5e58f-25dc-4582-8088-3d479095723f pre{padding: 0;}#sk-c5d5e58f-25dc-4582-8088-3d479095723f div.sk-toggleable {background-color: white;}#sk-c5d5e58f-25dc-4582-8088-3d479095723f label.sk-toggleable__label {cursor: pointer;display: block;width: 100%;margin-bottom: 0;padding: 0.3em;box-sizing: border-box;text-align: center;}#sk-c5d5e58f-25dc-4582-8088-3d479095723f label.sk-toggleable__label-arrow:before {content: \"▸\";float: left;margin-right: 0.25em;color: #696969;}#sk-c5d5e58f-25dc-4582-8088-3d479095723f label.sk-toggleable__label-arrow:hover:before {color: black;}#sk-c5d5e58f-25dc-4582-8088-3d479095723f div.sk-estimator:hover label.sk-toggleable__label-arrow:before {color: black;}#sk-c5d5e58f-25dc-4582-8088-3d479095723f div.sk-toggleable__content {max-height: 0;max-width: 0;overflow: hidden;text-align: left;background-color: #f0f8ff;}#sk-c5d5e58f-25dc-4582-8088-3d479095723f div.sk-toggleable__content pre {margin: 0.2em;color: black;border-radius: 0.25em;background-color: #f0f8ff;}#sk-c5d5e58f-25dc-4582-8088-3d479095723f input.sk-toggleable__control:checked~div.sk-toggleable__content {max-height: 200px;max-width: 100%;overflow: auto;}#sk-c5d5e58f-25dc-4582-8088-3d479095723f input.sk-toggleable__control:checked~label.sk-toggleable__label-arrow:before {content: \"▾\";}#sk-c5d5e58f-25dc-4582-8088-3d479095723f div.sk-estimator input.sk-toggleable__control:checked~label.sk-toggleable__label {background-color: #d4ebff;}#sk-c5d5e58f-25dc-4582-8088-3d479095723f div.sk-label input.sk-toggleable__control:checked~label.sk-toggleable__label {background-color: #d4ebff;}#sk-c5d5e58f-25dc-4582-8088-3d479095723f input.sk-hidden--visually {border: 0;clip: rect(1px 1px 1px 1px);clip: rect(1px, 1px, 1px, 1px);height: 1px;margin: -1px;overflow: hidden;padding: 0;position: absolute;width: 1px;}#sk-c5d5e58f-25dc-4582-8088-3d479095723f div.sk-estimator {font-family: monospace;background-color: #f0f8ff;border: 1px dotted black;border-radius: 0.25em;box-sizing: border-box;margin-bottom: 0.5em;}#sk-c5d5e58f-25dc-4582-8088-3d479095723f div.sk-estimator:hover {background-color: #d4ebff;}#sk-c5d5e58f-25dc-4582-8088-3d479095723f div.sk-parallel-item::after {content: \"\";width: 100%;border-bottom: 1px solid gray;flex-grow: 1;}#sk-c5d5e58f-25dc-4582-8088-3d479095723f div.sk-label:hover label.sk-toggleable__label {background-color: #d4ebff;}#sk-c5d5e58f-25dc-4582-8088-3d479095723f div.sk-serial::before {content: \"\";position: absolute;border-left: 1px solid gray;box-sizing: border-box;top: 2em;bottom: 0;left: 50%;}#sk-c5d5e58f-25dc-4582-8088-3d479095723f div.sk-serial {display: flex;flex-direction: column;align-items: center;background-color: white;padding-right: 0.2em;padding-left: 0.2em;}#sk-c5d5e58f-25dc-4582-8088-3d479095723f div.sk-item {z-index: 1;}#sk-c5d5e58f-25dc-4582-8088-3d479095723f div.sk-parallel {display: flex;align-items: stretch;justify-content: center;background-color: white;}#sk-c5d5e58f-25dc-4582-8088-3d479095723f div.sk-parallel::before {content: \"\";position: absolute;border-left: 1px solid gray;box-sizing: border-box;top: 2em;bottom: 0;left: 50%;}#sk-c5d5e58f-25dc-4582-8088-3d479095723f div.sk-parallel-item {display: flex;flex-direction: column;position: relative;background-color: white;}#sk-c5d5e58f-25dc-4582-8088-3d479095723f div.sk-parallel-item:first-child::after {align-self: flex-end;width: 50%;}#sk-c5d5e58f-25dc-4582-8088-3d479095723f div.sk-parallel-item:last-child::after {align-self: flex-start;width: 50%;}#sk-c5d5e58f-25dc-4582-8088-3d479095723f div.sk-parallel-item:only-child::after {width: 0;}#sk-c5d5e58f-25dc-4582-8088-3d479095723f div.sk-dashed-wrapped {border: 1px dashed gray;margin: 0 0.4em 0.5em 0.4em;box-sizing: border-box;padding-bottom: 0.4em;background-color: white;position: relative;}#sk-c5d5e58f-25dc-4582-8088-3d479095723f div.sk-label label {font-family: monospace;font-weight: bold;background-color: white;display: inline-block;line-height: 1.2em;}#sk-c5d5e58f-25dc-4582-8088-3d479095723f div.sk-label-container {position: relative;z-index: 2;text-align: center;}#sk-c5d5e58f-25dc-4582-8088-3d479095723f div.sk-container {/* jupyter's `normalize.less` sets `[hidden] { display: none; }` but bootstrap.min.css set `[hidden] { display: none !important; }` so we also need the `!important` here to be able to override the default hidden behavior on the sphinx rendered scikit-learn.org. See: https://github.com/scikit-learn/scikit-learn/issues/21755 */display: inline-block !important;position: relative;}#sk-c5d5e58f-25dc-4582-8088-3d479095723f div.sk-text-repr-fallback {display: none;}</style><div id='sk-c5d5e58f-25dc-4582-8088-3d479095723f' class=\"sk-top-container\"><div class=\"sk-text-repr-fallback\"><pre>KNeighborsTimeSeriesClassifier(n_jobs=-1)</pre><b>Please rerun this cell to show the HTML repr or trust the notebook.</b></div><div class=\"sk-container\" hidden><div class='sk-item'><div class=\"sk-estimator sk-toggleable\"><input class=\"sk-toggleable__control sk-hidden--visually\" id=UUID('96a4410e-3571-492b-9102-90a578473eae') type=\"checkbox\" checked><label for=UUID('96a4410e-3571-492b-9102-90a578473eae') class='sk-toggleable__label sk-toggleable__label-arrow'>KNeighborsTimeSeriesClassifier</label><div class=\"sk-toggleable__content\"><pre>KNeighborsTimeSeriesClassifier(n_jobs=-1)</pre></div></div></div></div></div>"
     },
     "execution_count": 11,
     "metadata": {},
     "output_type": "execute_result"
    }
   ],
   "source": [
    "##knn = KNeighborsTimeSeriesClassifier(**best_params)\n",
    "knn = KNeighborsTimeSeriesClassifier(n_neighbors=1, weights='uniform', distance='dtw', n_jobs=-1)\n",
    "knn.fit(X_train, y_train)"
   ],
   "metadata": {
    "collapsed": false,
    "ExecuteTime": {
     "end_time": "2023-06-22T15:32:09.960872Z",
     "start_time": "2023-06-22T15:32:09.912518Z"
    }
   }
  },
  {
   "cell_type": "code",
   "execution_count": 12,
   "outputs": [
    {
     "name": "stdout",
     "output_type": "stream",
     "text": [
      "              precision    recall  f1-score   support\n",
      "\n",
      "        dogs       0.84      0.92      0.88       312\n",
      "        kids       0.91      0.83      0.87       312\n",
      "\n",
      "    accuracy                           0.87       624\n",
      "   macro avg       0.87      0.87      0.87       624\n",
      "weighted avg       0.87      0.87      0.87       624\n",
      "\n"
     ]
    }
   ],
   "source": [
    "from sklearn.metrics import classification_report\n",
    "\n",
    "y_pred = knn.predict(X_test)\n",
    "print(classification_report(y_test, y_pred))"
   ],
   "metadata": {
    "collapsed": false,
    "ExecuteTime": {
     "end_time": "2023-06-22T15:32:28.669024Z",
     "start_time": "2023-06-22T15:32:09.939406Z"
    }
   }
  },
  {
   "cell_type": "markdown",
   "source": [
    "# KNN using DTW"
   ],
   "metadata": {
    "collapsed": false
   }
  },
  {
   "cell_type": "code",
   "execution_count": 13,
   "outputs": [
    {
     "data": {
      "text/plain": "\"\\ndef objective_fun(trial):\\n\\n    n_neighbors = trial.suggest_int('n_neighbors', 1, 50)\\n    weights = trial.suggest_categorical('weights', ['uniform', 'distance'])\\n    distance = trial.suggest_categorical('distance', ['dtw'])\\n    n_jobs = trial.suggest_int('n_jobs', -1, -1)\\n\\n    knn = KNeighborsTimeSeriesClassifier(\\n        n_neighbors=n_neighbors,\\n        weights=weights,\\n        distance=distance,\\n        n_jobs=n_jobs\\n    )\\n\\n    knn.fit(X_train_v, y_train_v)\\n    y_pred = knn.predict(X_valid)\\n\\n    accuracy = accuracy_score(y_valid, y_pred)\\n\\n    return accuracy\\n\\n\\nstudy = optuna.create_study(direction='maximize')\\nstudy.optimize(objective_fun, n_trials=100, n_jobs=-1)\\n\""
     },
     "execution_count": 13,
     "metadata": {},
     "output_type": "execute_result"
    }
   ],
   "source": [
    "# objective function to be minimized\n",
    "\"\"\"\n",
    "def objective_fun(trial):\n",
    "\n",
    "    n_neighbors = trial.suggest_int('n_neighbors', 1, 50)\n",
    "    weights = trial.suggest_categorical('weights', ['uniform', 'distance'])\n",
    "    distance = trial.suggest_categorical('distance', ['dtw'])\n",
    "    n_jobs = trial.suggest_int('n_jobs', -1, -1)\n",
    "\n",
    "    knn = KNeighborsTimeSeriesClassifier(\n",
    "        n_neighbors=n_neighbors,\n",
    "        weights=weights,\n",
    "        distance=distance,\n",
    "        n_jobs=n_jobs\n",
    "    )\n",
    "\n",
    "    knn.fit(X_train_v, y_train_v)\n",
    "    y_pred = knn.predict(X_valid)\n",
    "\n",
    "    accuracy = accuracy_score(y_valid, y_pred)\n",
    "\n",
    "    return accuracy\n",
    "\n",
    "\n",
    "study = optuna.create_study(direction='maximize')\n",
    "study.optimize(objective_fun, n_trials=100, n_jobs=-1)\n",
    "\"\"\""
   ],
   "metadata": {
    "collapsed": false,
    "ExecuteTime": {
     "end_time": "2023-06-22T15:32:28.673878Z",
     "start_time": "2023-06-22T15:32:28.670087Z"
    }
   }
  },
  {
   "cell_type": "code",
   "execution_count": 14,
   "outputs": [
    {
     "data": {
      "text/plain": "'\\nbest_params = study.best_params\\nbest_params\\n'"
     },
     "execution_count": 14,
     "metadata": {},
     "output_type": "execute_result"
    }
   ],
   "source": [
    "\"\"\"\n",
    "best_params = study.best_params\n",
    "best_params\n",
    "\"\"\""
   ],
   "metadata": {
    "collapsed": false,
    "ExecuteTime": {
     "end_time": "2023-06-22T15:32:28.678306Z",
     "start_time": "2023-06-22T15:32:28.674292Z"
    }
   }
  },
  {
   "cell_type": "code",
   "execution_count": 15,
   "outputs": [
    {
     "data": {
      "text/plain": "KNeighborsTimeSeriesClassifier(n_jobs=-1, n_neighbors=14)",
      "text/html": "<style>#sk-125987b7-2d5d-4829-a2dd-6e89bb10eccd {color: black;background-color: white;}#sk-125987b7-2d5d-4829-a2dd-6e89bb10eccd pre{padding: 0;}#sk-125987b7-2d5d-4829-a2dd-6e89bb10eccd div.sk-toggleable {background-color: white;}#sk-125987b7-2d5d-4829-a2dd-6e89bb10eccd label.sk-toggleable__label {cursor: pointer;display: block;width: 100%;margin-bottom: 0;padding: 0.3em;box-sizing: border-box;text-align: center;}#sk-125987b7-2d5d-4829-a2dd-6e89bb10eccd label.sk-toggleable__label-arrow:before {content: \"▸\";float: left;margin-right: 0.25em;color: #696969;}#sk-125987b7-2d5d-4829-a2dd-6e89bb10eccd label.sk-toggleable__label-arrow:hover:before {color: black;}#sk-125987b7-2d5d-4829-a2dd-6e89bb10eccd div.sk-estimator:hover label.sk-toggleable__label-arrow:before {color: black;}#sk-125987b7-2d5d-4829-a2dd-6e89bb10eccd div.sk-toggleable__content {max-height: 0;max-width: 0;overflow: hidden;text-align: left;background-color: #f0f8ff;}#sk-125987b7-2d5d-4829-a2dd-6e89bb10eccd div.sk-toggleable__content pre {margin: 0.2em;color: black;border-radius: 0.25em;background-color: #f0f8ff;}#sk-125987b7-2d5d-4829-a2dd-6e89bb10eccd input.sk-toggleable__control:checked~div.sk-toggleable__content {max-height: 200px;max-width: 100%;overflow: auto;}#sk-125987b7-2d5d-4829-a2dd-6e89bb10eccd input.sk-toggleable__control:checked~label.sk-toggleable__label-arrow:before {content: \"▾\";}#sk-125987b7-2d5d-4829-a2dd-6e89bb10eccd div.sk-estimator input.sk-toggleable__control:checked~label.sk-toggleable__label {background-color: #d4ebff;}#sk-125987b7-2d5d-4829-a2dd-6e89bb10eccd div.sk-label input.sk-toggleable__control:checked~label.sk-toggleable__label {background-color: #d4ebff;}#sk-125987b7-2d5d-4829-a2dd-6e89bb10eccd input.sk-hidden--visually {border: 0;clip: rect(1px 1px 1px 1px);clip: rect(1px, 1px, 1px, 1px);height: 1px;margin: -1px;overflow: hidden;padding: 0;position: absolute;width: 1px;}#sk-125987b7-2d5d-4829-a2dd-6e89bb10eccd div.sk-estimator {font-family: monospace;background-color: #f0f8ff;border: 1px dotted black;border-radius: 0.25em;box-sizing: border-box;margin-bottom: 0.5em;}#sk-125987b7-2d5d-4829-a2dd-6e89bb10eccd div.sk-estimator:hover {background-color: #d4ebff;}#sk-125987b7-2d5d-4829-a2dd-6e89bb10eccd div.sk-parallel-item::after {content: \"\";width: 100%;border-bottom: 1px solid gray;flex-grow: 1;}#sk-125987b7-2d5d-4829-a2dd-6e89bb10eccd div.sk-label:hover label.sk-toggleable__label {background-color: #d4ebff;}#sk-125987b7-2d5d-4829-a2dd-6e89bb10eccd div.sk-serial::before {content: \"\";position: absolute;border-left: 1px solid gray;box-sizing: border-box;top: 2em;bottom: 0;left: 50%;}#sk-125987b7-2d5d-4829-a2dd-6e89bb10eccd div.sk-serial {display: flex;flex-direction: column;align-items: center;background-color: white;padding-right: 0.2em;padding-left: 0.2em;}#sk-125987b7-2d5d-4829-a2dd-6e89bb10eccd div.sk-item {z-index: 1;}#sk-125987b7-2d5d-4829-a2dd-6e89bb10eccd div.sk-parallel {display: flex;align-items: stretch;justify-content: center;background-color: white;}#sk-125987b7-2d5d-4829-a2dd-6e89bb10eccd div.sk-parallel::before {content: \"\";position: absolute;border-left: 1px solid gray;box-sizing: border-box;top: 2em;bottom: 0;left: 50%;}#sk-125987b7-2d5d-4829-a2dd-6e89bb10eccd div.sk-parallel-item {display: flex;flex-direction: column;position: relative;background-color: white;}#sk-125987b7-2d5d-4829-a2dd-6e89bb10eccd div.sk-parallel-item:first-child::after {align-self: flex-end;width: 50%;}#sk-125987b7-2d5d-4829-a2dd-6e89bb10eccd div.sk-parallel-item:last-child::after {align-self: flex-start;width: 50%;}#sk-125987b7-2d5d-4829-a2dd-6e89bb10eccd div.sk-parallel-item:only-child::after {width: 0;}#sk-125987b7-2d5d-4829-a2dd-6e89bb10eccd div.sk-dashed-wrapped {border: 1px dashed gray;margin: 0 0.4em 0.5em 0.4em;box-sizing: border-box;padding-bottom: 0.4em;background-color: white;position: relative;}#sk-125987b7-2d5d-4829-a2dd-6e89bb10eccd div.sk-label label {font-family: monospace;font-weight: bold;background-color: white;display: inline-block;line-height: 1.2em;}#sk-125987b7-2d5d-4829-a2dd-6e89bb10eccd div.sk-label-container {position: relative;z-index: 2;text-align: center;}#sk-125987b7-2d5d-4829-a2dd-6e89bb10eccd div.sk-container {/* jupyter's `normalize.less` sets `[hidden] { display: none; }` but bootstrap.min.css set `[hidden] { display: none !important; }` so we also need the `!important` here to be able to override the default hidden behavior on the sphinx rendered scikit-learn.org. See: https://github.com/scikit-learn/scikit-learn/issues/21755 */display: inline-block !important;position: relative;}#sk-125987b7-2d5d-4829-a2dd-6e89bb10eccd div.sk-text-repr-fallback {display: none;}</style><div id='sk-125987b7-2d5d-4829-a2dd-6e89bb10eccd' class=\"sk-top-container\"><div class=\"sk-text-repr-fallback\"><pre>KNeighborsTimeSeriesClassifier(n_jobs=-1, n_neighbors=14)</pre><b>Please rerun this cell to show the HTML repr or trust the notebook.</b></div><div class=\"sk-container\" hidden><div class='sk-item'><div class=\"sk-estimator sk-toggleable\"><input class=\"sk-toggleable__control sk-hidden--visually\" id=UUID('212def3a-303d-4d36-abc5-6c174468a509') type=\"checkbox\" checked><label for=UUID('212def3a-303d-4d36-abc5-6c174468a509') class='sk-toggleable__label sk-toggleable__label-arrow'>KNeighborsTimeSeriesClassifier</label><div class=\"sk-toggleable__content\"><pre>KNeighborsTimeSeriesClassifier(n_jobs=-1, n_neighbors=14)</pre></div></div></div></div></div>"
     },
     "execution_count": 15,
     "metadata": {},
     "output_type": "execute_result"
    }
   ],
   "source": [
    "#knn = KNeighborsTimeSeriesClassifier(**best_params)\n",
    "knn = KNeighborsTimeSeriesClassifier(n_neighbors=14, weights='uniform', distance='dtw', n_jobs=-1)\n",
    "knn.fit(X_train, y_train)"
   ],
   "metadata": {
    "collapsed": false,
    "ExecuteTime": {
     "end_time": "2023-06-22T15:32:28.690577Z",
     "start_time": "2023-06-22T15:32:28.679863Z"
    }
   }
  },
  {
   "cell_type": "code",
   "execution_count": 16,
   "outputs": [
    {
     "name": "stdout",
     "output_type": "stream",
     "text": [
      "              precision    recall  f1-score   support\n",
      "\n",
      "        dogs       0.80      0.92      0.85       312\n",
      "        kids       0.91      0.76      0.83       312\n",
      "\n",
      "    accuracy                           0.84       624\n",
      "   macro avg       0.85      0.84      0.84       624\n",
      "weighted avg       0.85      0.84      0.84       624\n",
      "\n"
     ]
    }
   ],
   "source": [
    "y_pred = knn.predict(X_test)\n",
    "print(classification_report(y_test, y_pred))"
   ],
   "metadata": {
    "collapsed": false,
    "ExecuteTime": {
     "end_time": "2023-06-22T15:32:46.719539Z",
     "start_time": "2023-06-22T15:32:28.691805Z"
    }
   }
  }
 ],
 "metadata": {
  "kernelspec": {
   "display_name": "Python 3",
   "language": "python",
   "name": "python3"
  },
  "language_info": {
   "codemirror_mode": {
    "name": "ipython",
    "version": 2
   },
   "file_extension": ".py",
   "mimetype": "text/x-python",
   "name": "python",
   "nbconvert_exporter": "python",
   "pygments_lexer": "ipython2",
   "version": "2.7.6"
  }
 },
 "nbformat": 4,
 "nbformat_minor": 0
}
