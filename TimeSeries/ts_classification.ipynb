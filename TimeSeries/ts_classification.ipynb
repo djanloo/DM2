{
 "cells": [
  {
   "cell_type": "code",
   "execution_count": 1,
   "metadata": {
    "collapsed": true,
    "ExecuteTime": {
     "end_time": "2023-06-21T15:49:44.405959Z",
     "start_time": "2023-06-21T15:49:44.397202Z"
    }
   },
   "outputs": [],
   "source": [
    "import os\n",
    "import numpy as np\n",
    "import pandas as pd\n",
    "import matplotlib.pyplot as plt\n",
    "import seaborn as sns; sns.set()\n",
    "\n",
    "import librosa\n",
    "from tqdm.notebook import tqdm\n",
    "from IPython.display import Audio\n",
    "from pandas.api.types import is_numeric_dtype\n",
    "\n",
    "import sys\n",
    "#sys.path.append('../')\n",
    "import default_style"
   ]
  },
  {
   "cell_type": "code",
   "execution_count": 2,
   "outputs": [],
   "source": [
    "TS_DATASET_FOLDER = os.path.join('..', 'dataset')\n",
    "TS_PREPROC_FOLDER = os.path.join(TS_DATASET_FOLDER, 'preprocessed_traces')\n",
    "DF_PREPROC_FILE = os.path.join(TS_PREPROC_FOLDER, 'preproc_ts.df')\n",
    "\n",
    "INTERESTING_TRACES = ['clean_trace', 'std_phon_trace', 'traces_fourier', 'syllables_fourier']\n",
    "INTERESTING_TRACES += [f'syllables_{i}_ts' for i in range(7)]"
   ],
   "metadata": {
    "collapsed": false,
    "ExecuteTime": {
     "end_time": "2023-06-21T15:49:44.408682Z",
     "start_time": "2023-06-21T15:49:44.406921Z"
    }
   }
  },
  {
   "cell_type": "code",
   "execution_count": 3,
   "outputs": [
    {
     "data": {
      "text/plain": "  vocal_channel    emotion emotional_intensity statement repetition     actor   \n0        speech  surprised              strong      dogs        1st  actor_01  \\\n1        speech  surprised              normal      kids        1st  actor_01   \n2        speech      angry              normal      dogs        1st  actor_01   \n3        speech    fearful              normal      dogs        2nd  actor_01   \n4        speech    fearful              strong      kids        2nd  actor_01   \n\n                                                path sex   begin_s     end_s   \n0  ../dataset/Audio_Speech_Actors_01-24/Actor_01/...   M  1.007500  2.498167  \\\n1  ../dataset/Audio_Speech_Actors_01-24/Actor_01/...   M  1.024167  2.357167   \n2  ../dataset/Audio_Speech_Actors_01-24/Actor_01/...   M  1.029333  2.467500   \n3  ../dataset/Audio_Speech_Actors_01-24/Actor_01/...   M  1.030500  2.710000   \n4  ../dataset/Audio_Speech_Actors_01-24/Actor_01/...   M  1.047667  3.127167   \n\n                                      fourier_coeffs   \n0  [1.0788441e-05 3.7551079e-02 3.6168553e-02 ......  \\\n1  [8.6426735e-06 1.0938305e-02 7.4250461e-03 ......   \n2  [1.1563301e-05 4.1558143e-02 2.8845785e-02 ......   \n3  [2.0563602e-06 1.1770763e-02 5.6602592e-03 ......   \n4  [6.9618225e-05 1.3387279e-02 8.0524459e-02 ......   \n\n                             filtered_fourier_coeffs  syll_0_start_index   \n0  [1.0788441e-05 3.7551045e-02 3.6168423e-02 ......                   0  \\\n1  [8.6426735e-06 1.0938293e-02 7.4250125e-03 ......                   0   \n2  [1.15633011e-05 4.15581055e-02 2.88456734e-02 ...                   0   \n3  [2.0563602e-06 1.1770754e-02 5.6602429e-03 ......                   0   \n4  [6.9618225e-05 1.3387272e-02 8.0524310e-02 ......                   0   \n\n   syll_1_start_index  syll_2_start_index  syll_3_start_index   \n0                2872                3920                4536  \\\n1                1544                2528                4032   \n2                2992                4368                4912   \n3                4576                5064                6240   \n4                1984                2504                3648   \n\n   syll_4_start_index  syll_5_start_index  syll_6_start_index   \n0                5536                6480                7136  \\\n1                5224                5984                6712   \n2                5896                6768                7400   \n3                7544                8248                8784   \n4                5176                8320               10256   \n\n   syll_7_start_index  \n0                8936  \n1                7992  \n2                8624  \n3               10072  \n4               12472  ",
      "text/html": "<div>\n<style scoped>\n    .dataframe tbody tr th:only-of-type {\n        vertical-align: middle;\n    }\n\n    .dataframe tbody tr th {\n        vertical-align: top;\n    }\n\n    .dataframe thead th {\n        text-align: right;\n    }\n</style>\n<table border=\"1\" class=\"dataframe\">\n  <thead>\n    <tr style=\"text-align: right;\">\n      <th></th>\n      <th>vocal_channel</th>\n      <th>emotion</th>\n      <th>emotional_intensity</th>\n      <th>statement</th>\n      <th>repetition</th>\n      <th>actor</th>\n      <th>path</th>\n      <th>sex</th>\n      <th>begin_s</th>\n      <th>end_s</th>\n      <th>fourier_coeffs</th>\n      <th>filtered_fourier_coeffs</th>\n      <th>syll_0_start_index</th>\n      <th>syll_1_start_index</th>\n      <th>syll_2_start_index</th>\n      <th>syll_3_start_index</th>\n      <th>syll_4_start_index</th>\n      <th>syll_5_start_index</th>\n      <th>syll_6_start_index</th>\n      <th>syll_7_start_index</th>\n    </tr>\n  </thead>\n  <tbody>\n    <tr>\n      <th>0</th>\n      <td>speech</td>\n      <td>surprised</td>\n      <td>strong</td>\n      <td>dogs</td>\n      <td>1st</td>\n      <td>actor_01</td>\n      <td>../dataset/Audio_Speech_Actors_01-24/Actor_01/...</td>\n      <td>M</td>\n      <td>1.007500</td>\n      <td>2.498167</td>\n      <td>[1.0788441e-05 3.7551079e-02 3.6168553e-02 ......</td>\n      <td>[1.0788441e-05 3.7551045e-02 3.6168423e-02 ......</td>\n      <td>0</td>\n      <td>2872</td>\n      <td>3920</td>\n      <td>4536</td>\n      <td>5536</td>\n      <td>6480</td>\n      <td>7136</td>\n      <td>8936</td>\n    </tr>\n    <tr>\n      <th>1</th>\n      <td>speech</td>\n      <td>surprised</td>\n      <td>normal</td>\n      <td>kids</td>\n      <td>1st</td>\n      <td>actor_01</td>\n      <td>../dataset/Audio_Speech_Actors_01-24/Actor_01/...</td>\n      <td>M</td>\n      <td>1.024167</td>\n      <td>2.357167</td>\n      <td>[8.6426735e-06 1.0938305e-02 7.4250461e-03 ......</td>\n      <td>[8.6426735e-06 1.0938293e-02 7.4250125e-03 ......</td>\n      <td>0</td>\n      <td>1544</td>\n      <td>2528</td>\n      <td>4032</td>\n      <td>5224</td>\n      <td>5984</td>\n      <td>6712</td>\n      <td>7992</td>\n    </tr>\n    <tr>\n      <th>2</th>\n      <td>speech</td>\n      <td>angry</td>\n      <td>normal</td>\n      <td>dogs</td>\n      <td>1st</td>\n      <td>actor_01</td>\n      <td>../dataset/Audio_Speech_Actors_01-24/Actor_01/...</td>\n      <td>M</td>\n      <td>1.029333</td>\n      <td>2.467500</td>\n      <td>[1.1563301e-05 4.1558143e-02 2.8845785e-02 ......</td>\n      <td>[1.15633011e-05 4.15581055e-02 2.88456734e-02 ...</td>\n      <td>0</td>\n      <td>2992</td>\n      <td>4368</td>\n      <td>4912</td>\n      <td>5896</td>\n      <td>6768</td>\n      <td>7400</td>\n      <td>8624</td>\n    </tr>\n    <tr>\n      <th>3</th>\n      <td>speech</td>\n      <td>fearful</td>\n      <td>normal</td>\n      <td>dogs</td>\n      <td>2nd</td>\n      <td>actor_01</td>\n      <td>../dataset/Audio_Speech_Actors_01-24/Actor_01/...</td>\n      <td>M</td>\n      <td>1.030500</td>\n      <td>2.710000</td>\n      <td>[2.0563602e-06 1.1770763e-02 5.6602592e-03 ......</td>\n      <td>[2.0563602e-06 1.1770754e-02 5.6602429e-03 ......</td>\n      <td>0</td>\n      <td>4576</td>\n      <td>5064</td>\n      <td>6240</td>\n      <td>7544</td>\n      <td>8248</td>\n      <td>8784</td>\n      <td>10072</td>\n    </tr>\n    <tr>\n      <th>4</th>\n      <td>speech</td>\n      <td>fearful</td>\n      <td>strong</td>\n      <td>kids</td>\n      <td>2nd</td>\n      <td>actor_01</td>\n      <td>../dataset/Audio_Speech_Actors_01-24/Actor_01/...</td>\n      <td>M</td>\n      <td>1.047667</td>\n      <td>3.127167</td>\n      <td>[6.9618225e-05 1.3387279e-02 8.0524459e-02 ......</td>\n      <td>[6.9618225e-05 1.3387272e-02 8.0524310e-02 ......</td>\n      <td>0</td>\n      <td>1984</td>\n      <td>2504</td>\n      <td>3648</td>\n      <td>5176</td>\n      <td>8320</td>\n      <td>10256</td>\n      <td>12472</td>\n    </tr>\n  </tbody>\n</table>\n</div>"
     },
     "execution_count": 3,
     "metadata": {},
     "output_type": "execute_result"
    }
   ],
   "source": [
    "df = pd.read_csv(DF_PREPROC_FILE).drop(columns=['Unnamed: 0'])\n",
    "df.head()"
   ],
   "metadata": {
    "collapsed": false,
    "ExecuteTime": {
     "end_time": "2023-06-21T15:49:44.431652Z",
     "start_time": "2023-06-21T15:49:44.409441Z"
    }
   }
  },
  {
   "cell_type": "code",
   "execution_count": 4,
   "outputs": [
    {
     "name": "stdout",
     "output_type": "stream",
     "text": [
      "(17164,)\n"
     ]
    }
   ],
   "source": [
    "traces = dict()\n",
    "for t in INTERESTING_TRACES:\n",
    "    traces[t] = np.load(os.path.join(TS_PREPROC_FOLDER, f'{t}.npy'), allow_pickle=True)\n",
    "\n",
    "traces['syll_labels'] = np.repeat(np.arange(7), len(traces['syllables_fourier'])//7)\n",
    "print(traces['syll_labels'].shape)"
   ],
   "metadata": {
    "collapsed": false,
    "ExecuteTime": {
     "end_time": "2023-06-21T15:49:45.278286Z",
     "start_time": "2023-06-21T15:49:44.430287Z"
    }
   }
  },
  {
   "cell_type": "code",
   "execution_count": 5,
   "outputs": [
    {
     "data": {
      "text/plain": "dict_keys(['clean_trace', 'std_phon_trace', 'traces_fourier', 'syllables_fourier', 'syllables_0_ts', 'syllables_1_ts', 'syllables_2_ts', 'syllables_3_ts', 'syllables_4_ts', 'syllables_5_ts', 'syllables_6_ts', 'syll_labels'])"
     },
     "execution_count": 5,
     "metadata": {},
     "output_type": "execute_result"
    }
   ],
   "source": [
    "traces.keys()"
   ],
   "metadata": {
    "collapsed": false,
    "ExecuteTime": {
     "end_time": "2023-06-21T15:49:45.281763Z",
     "start_time": "2023-06-21T15:49:45.279233Z"
    }
   }
  },
  {
   "cell_type": "code",
   "execution_count": 6,
   "outputs": [
    {
     "data": {
      "text/plain": "array([[-4.90004350e-05,  7.73346967e-01, -1.79433335e-01, ...,\n        -2.69684771e+00, -9.77675485e-01, -2.10445147e+00],\n       [-3.62472570e-06,  1.34848667e-01, -2.63034843e-01, ...,\n        -7.27813660e-01, -5.68124943e-01, -9.50867586e-01],\n       [-6.99467997e-06, -5.24152273e-01,  2.77687184e-01, ...,\n         1.94433602e+00, -1.06601257e+00, -1.31455424e+00],\n       ...,\n       [ 2.15095951e-05, -1.99329731e-01, -1.14561768e+00, ...,\n         2.93436020e+00,  1.61758936e+00, -7.89978593e-01],\n       [ 2.80587450e-04,  1.06084298e+00, -1.59030824e+00, ...,\n        -1.32125137e+00, -1.03488435e+00, -1.52757650e+00],\n       [-1.06901232e-04, -1.07254930e+00,  2.83278819e-01, ...,\n        -2.11945009e-01, -2.80478659e-01,  6.58119640e-01]])"
     },
     "execution_count": 6,
     "metadata": {},
     "output_type": "execute_result"
    }
   ],
   "source": [
    "fourier_traces = traces['traces_fourier']\n",
    "fourier_traces"
   ],
   "metadata": {
    "collapsed": false,
    "ExecuteTime": {
     "end_time": "2023-06-21T15:49:45.287820Z",
     "start_time": "2023-06-21T15:49:45.284021Z"
    }
   }
  },
  {
   "cell_type": "code",
   "execution_count": 7,
   "outputs": [
    {
     "data": {
      "text/plain": "array([[-4.90004350e-05,  7.73346967e-01, -1.79433335e-01, ...,\n        -2.69684771e+00, -9.77675485e-01, -2.10445147e+00],\n       [-3.62472570e-06,  1.34848667e-01, -2.63034843e-01, ...,\n        -7.27813660e-01, -5.68124943e-01, -9.50867586e-01],\n       [-6.99467997e-06, -5.24152273e-01,  2.77687184e-01, ...,\n         1.94433602e+00, -1.06601257e+00, -1.31455424e+00],\n       ...,\n       [ 2.15095951e-05, -1.99329731e-01, -1.14561768e+00, ...,\n         2.93436020e+00,  1.61758936e+00, -7.89978593e-01],\n       [ 2.80587450e-04,  1.06084298e+00, -1.59030824e+00, ...,\n        -1.32125137e+00, -1.03488435e+00, -1.52757650e+00],\n       [-1.06901232e-04, -1.07254930e+00,  2.83278819e-01, ...,\n        -2.11945009e-01, -2.80478659e-01,  6.58119640e-01]])"
     },
     "execution_count": 7,
     "metadata": {},
     "output_type": "execute_result"
    }
   ],
   "source": [
    "# sort by actors\n",
    "df = df.sort_values('actor', ignore_index=True)\n",
    "\n",
    "# fourier_traces must follow the same sorting\n",
    "ordered_indices = df.index\n",
    "fourier_traces = fourier_traces[ordered_indices]\n",
    "\n",
    "df = df.reset_index(drop=True)\n",
    "\n",
    "fourier_traces"
   ],
   "metadata": {
    "collapsed": false,
    "ExecuteTime": {
     "end_time": "2023-06-21T15:49:45.295229Z",
     "start_time": "2023-06-21T15:49:45.290511Z"
    }
   }
  },
  {
   "cell_type": "code",
   "execution_count": 8,
   "outputs": [
    {
     "data": {
      "text/plain": "((1462, 16), (366, 16), (624, 16), (1462,), (366,), (624,))"
     },
     "execution_count": 8,
     "metadata": {},
     "output_type": "execute_result"
    }
   ],
   "source": [
    "from sklearn.model_selection import train_test_split\n",
    "\n",
    "split_index = df[df['actor'] == 'actor_19'].index[0]\n",
    "\n",
    "X_train = fourier_traces[:split_index]\n",
    "X_test = fourier_traces[split_index:]\n",
    "\n",
    "y_train = df['vocal_channel'][:split_index].to_numpy()\n",
    "y_test = df['vocal_channel'][split_index:].to_numpy()\n",
    "\n",
    "X_train, X_valid, y_train, y_valid = train_test_split(X_train, y_train, test_size=0.2, random_state=100)\n",
    "\n",
    "X_train.shape, X_valid.shape, X_test.shape, y_train.shape, y_valid.shape, y_test.shape"
   ],
   "metadata": {
    "collapsed": false,
    "ExecuteTime": {
     "end_time": "2023-06-21T15:49:45.467782Z",
     "start_time": "2023-06-21T15:49:45.297424Z"
    }
   }
  },
  {
   "cell_type": "markdown",
   "source": [
    "# KNN using euclidean distance"
   ],
   "metadata": {
    "collapsed": false
   }
  },
  {
   "cell_type": "code",
   "execution_count": 9,
   "outputs": [
    {
     "name": "stderr",
     "output_type": "stream",
     "text": [
      "[I 2023-06-21 17:49:45,804] A new study created in memory with name: no-name-29bfd623-db7f-4ea8-af6d-c846a110e8ac\n",
      "[I 2023-06-21 17:49:47,665] Trial 5 finished with value: 0.5655737704918032 and parameters: {'n_neighbors': 15, 'weights': 'distance', 'distance': 'euclidean', 'n_jobs': -1}. Best is trial 5 with value: 0.5655737704918032.\n",
      "[I 2023-06-21 17:49:47,667] Trial 0 finished with value: 0.5792349726775956 and parameters: {'n_neighbors': 24, 'weights': 'distance', 'distance': 'euclidean', 'n_jobs': -1}. Best is trial 5 with value: 0.5655737704918032.\n",
      "[I 2023-06-21 17:49:47,669] Trial 2 finished with value: 0.5901639344262295 and parameters: {'n_neighbors': 37, 'weights': 'distance', 'distance': 'euclidean', 'n_jobs': -1}. Best is trial 5 with value: 0.5655737704918032.\n",
      "[I 2023-06-21 17:49:47,704] Trial 6 finished with value: 0.5491803278688525 and parameters: {'n_neighbors': 13, 'weights': 'distance', 'distance': 'euclidean', 'n_jobs': -1}. Best is trial 6 with value: 0.5491803278688525.\n",
      "[I 2023-06-21 17:49:47,806] Trial 1 finished with value: 0.5956284153005464 and parameters: {'n_neighbors': 36, 'weights': 'distance', 'distance': 'euclidean', 'n_jobs': -1}. Best is trial 6 with value: 0.5491803278688525.\n",
      "[I 2023-06-21 17:49:48,430] Trial 8 finished with value: 0.587431693989071 and parameters: {'n_neighbors': 50, 'weights': 'distance', 'distance': 'euclidean', 'n_jobs': -1}. Best is trial 6 with value: 0.5491803278688525.\n",
      "[I 2023-06-21 17:49:48,573] Trial 10 finished with value: 0.6010928961748634 and parameters: {'n_neighbors': 33, 'weights': 'distance', 'distance': 'euclidean', 'n_jobs': -1}. Best is trial 6 with value: 0.5491803278688525.\n",
      "[I 2023-06-21 17:49:48,777] Trial 11 finished with value: 0.5983606557377049 and parameters: {'n_neighbors': 25, 'weights': 'distance', 'distance': 'euclidean', 'n_jobs': -1}. Best is trial 6 with value: 0.5491803278688525.\n",
      "[I 2023-06-21 17:49:49,025] Trial 13 finished with value: 0.5601092896174863 and parameters: {'n_neighbors': 14, 'weights': 'distance', 'distance': 'euclidean', 'n_jobs': -1}. Best is trial 6 with value: 0.5491803278688525.\n",
      "[I 2023-06-21 17:49:49,053] Trial 7 finished with value: 0.5901639344262295 and parameters: {'n_neighbors': 22, 'weights': 'uniform', 'distance': 'euclidean', 'n_jobs': -1}. Best is trial 6 with value: 0.5491803278688525.\n",
      "[I 2023-06-21 17:49:49,281] Trial 4 finished with value: 0.592896174863388 and parameters: {'n_neighbors': 41, 'weights': 'uniform', 'distance': 'euclidean', 'n_jobs': -1}. Best is trial 6 with value: 0.5491803278688525.\n",
      "[I 2023-06-21 17:49:49,694] Trial 3 finished with value: 0.592896174863388 and parameters: {'n_neighbors': 41, 'weights': 'uniform', 'distance': 'euclidean', 'n_jobs': -1}. Best is trial 6 with value: 0.5491803278688525.\n",
      "[I 2023-06-21 17:49:49,700] Trial 12 finished with value: 0.5956284153005464 and parameters: {'n_neighbors': 30, 'weights': 'uniform', 'distance': 'euclidean', 'n_jobs': -1}. Best is trial 6 with value: 0.5491803278688525.\n",
      "[I 2023-06-21 17:49:49,701] Trial 9 finished with value: 0.592896174863388 and parameters: {'n_neighbors': 35, 'weights': 'uniform', 'distance': 'euclidean', 'n_jobs': -1}. Best is trial 6 with value: 0.5491803278688525.\n",
      "[I 2023-06-21 17:49:49,912] Trial 14 finished with value: 0.5273224043715847 and parameters: {'n_neighbors': 7, 'weights': 'uniform', 'distance': 'euclidean', 'n_jobs': -1}. Best is trial 14 with value: 0.5273224043715847.\n",
      "[I 2023-06-21 17:49:50,165] Trial 19 finished with value: 0.5081967213114754 and parameters: {'n_neighbors': 1, 'weights': 'distance', 'distance': 'euclidean', 'n_jobs': -1}. Best is trial 19 with value: 0.5081967213114754.\n",
      "[I 2023-06-21 17:49:50,216] Trial 16 finished with value: 0.5081967213114754 and parameters: {'n_neighbors': 1, 'weights': 'uniform', 'distance': 'euclidean', 'n_jobs': -1}. Best is trial 19 with value: 0.5081967213114754.\n",
      "[I 2023-06-21 17:49:50,356] Trial 21 finished with value: 0.546448087431694 and parameters: {'n_neighbors': 3, 'weights': 'distance', 'distance': 'euclidean', 'n_jobs': -1}. Best is trial 19 with value: 0.5081967213114754.\n",
      "[I 2023-06-21 17:49:50,493] Trial 15 finished with value: 0.5956284153005464 and parameters: {'n_neighbors': 24, 'weights': 'uniform', 'distance': 'euclidean', 'n_jobs': -1}. Best is trial 19 with value: 0.5081967213114754.\n",
      "[I 2023-06-21 17:49:50,523] Trial 20 finished with value: 0.5081967213114754 and parameters: {'n_neighbors': 2, 'weights': 'distance', 'distance': 'euclidean', 'n_jobs': -1}. Best is trial 19 with value: 0.5081967213114754.\n",
      "[I 2023-06-21 17:49:50,860] Trial 17 finished with value: 0.5491803278688525 and parameters: {'n_neighbors': 3, 'weights': 'uniform', 'distance': 'euclidean', 'n_jobs': -1}. Best is trial 19 with value: 0.5081967213114754.\n",
      "[I 2023-06-21 17:49:51,102] Trial 18 finished with value: 0.5081967213114754 and parameters: {'n_neighbors': 1, 'weights': 'uniform', 'distance': 'euclidean', 'n_jobs': -1}. Best is trial 19 with value: 0.5081967213114754.\n",
      "[I 2023-06-21 17:49:51,660] Trial 27 finished with value: 0.5683060109289617 and parameters: {'n_neighbors': 8, 'weights': 'distance', 'distance': 'euclidean', 'n_jobs': -1}. Best is trial 19 with value: 0.5081967213114754.\n",
      "[I 2023-06-21 17:49:51,693] Trial 28 finished with value: 0.5683060109289617 and parameters: {'n_neighbors': 8, 'weights': 'distance', 'distance': 'euclidean', 'n_jobs': -1}. Best is trial 19 with value: 0.5081967213114754.\n",
      "[I 2023-06-21 17:49:52,107] Trial 25 finished with value: 0.5081967213114754 and parameters: {'n_neighbors': 1, 'weights': 'uniform', 'distance': 'euclidean', 'n_jobs': -1}. Best is trial 19 with value: 0.5081967213114754.\n",
      "[I 2023-06-21 17:49:52,109] Trial 24 finished with value: 0.4371584699453552 and parameters: {'n_neighbors': 2, 'weights': 'uniform', 'distance': 'euclidean', 'n_jobs': -1}. Best is trial 24 with value: 0.4371584699453552.\n",
      "[I 2023-06-21 17:49:52,116] Trial 22 finished with value: 0.4371584699453552 and parameters: {'n_neighbors': 2, 'weights': 'uniform', 'distance': 'euclidean', 'n_jobs': -1}. Best is trial 24 with value: 0.4371584699453552.\n",
      "[I 2023-06-21 17:49:52,451] Trial 23 finished with value: 0.4371584699453552 and parameters: {'n_neighbors': 2, 'weights': 'uniform', 'distance': 'euclidean', 'n_jobs': -1}. Best is trial 24 with value: 0.4371584699453552.\n",
      "[I 2023-06-21 17:49:52,613] Trial 26 finished with value: 0.5273224043715847 and parameters: {'n_neighbors': 8, 'weights': 'uniform', 'distance': 'euclidean', 'n_jobs': -1}. Best is trial 24 with value: 0.4371584699453552.\n",
      "[I 2023-06-21 17:49:52,691] Trial 31 finished with value: 0.5081967213114754 and parameters: {'n_neighbors': 1, 'weights': 'uniform', 'distance': 'euclidean', 'n_jobs': -1}. Best is trial 24 with value: 0.4371584699453552.\n",
      "[I 2023-06-21 17:49:53,016] Trial 29 finished with value: 0.546448087431694 and parameters: {'n_neighbors': 9, 'weights': 'uniform', 'distance': 'euclidean', 'n_jobs': -1}. Best is trial 24 with value: 0.4371584699453552.\n",
      "[I 2023-06-21 17:49:53,198] Trial 30 finished with value: 0.5273224043715847 and parameters: {'n_neighbors': 8, 'weights': 'uniform', 'distance': 'euclidean', 'n_jobs': -1}. Best is trial 24 with value: 0.4371584699453552.\n",
      "[I 2023-06-21 17:49:53,619] Trial 32 finished with value: 0.5901639344262295 and parameters: {'n_neighbors': 19, 'weights': 'uniform', 'distance': 'euclidean', 'n_jobs': -1}. Best is trial 24 with value: 0.4371584699453552.\n",
      "[I 2023-06-21 17:49:53,621] Trial 33 finished with value: 0.5901639344262295 and parameters: {'n_neighbors': 19, 'weights': 'uniform', 'distance': 'euclidean', 'n_jobs': -1}. Best is trial 24 with value: 0.4371584699453552.\n",
      "[I 2023-06-21 17:49:53,643] Trial 34 finished with value: 0.6010928961748634 and parameters: {'n_neighbors': 18, 'weights': 'uniform', 'distance': 'euclidean', 'n_jobs': -1}. Best is trial 24 with value: 0.4371584699453552.\n",
      "[I 2023-06-21 17:49:54,115] Trial 37 finished with value: 0.5901639344262295 and parameters: {'n_neighbors': 19, 'weights': 'uniform', 'distance': 'euclidean', 'n_jobs': -1}. Best is trial 24 with value: 0.4371584699453552.\n",
      "[I 2023-06-21 17:49:54,199] Trial 36 finished with value: 0.5901639344262295 and parameters: {'n_neighbors': 19, 'weights': 'uniform', 'distance': 'euclidean', 'n_jobs': -1}. Best is trial 24 with value: 0.4371584699453552.\n",
      "[I 2023-06-21 17:49:54,202] Trial 38 finished with value: 0.5218579234972678 and parameters: {'n_neighbors': 5, 'weights': 'uniform', 'distance': 'euclidean', 'n_jobs': -1}. Best is trial 24 with value: 0.4371584699453552.\n",
      "[I 2023-06-21 17:49:54,264] Trial 35 finished with value: 0.6010928961748634 and parameters: {'n_neighbors': 18, 'weights': 'uniform', 'distance': 'euclidean', 'n_jobs': -1}. Best is trial 24 with value: 0.4371584699453552.\n",
      "[I 2023-06-21 17:49:54,937] Trial 39 finished with value: 0.6010928961748634 and parameters: {'n_neighbors': 18, 'weights': 'uniform', 'distance': 'euclidean', 'n_jobs': -1}. Best is trial 24 with value: 0.4371584699453552.\n",
      "[I 2023-06-21 17:49:54,947] Trial 41 finished with value: 0.5218579234972678 and parameters: {'n_neighbors': 5, 'weights': 'uniform', 'distance': 'euclidean', 'n_jobs': -1}. Best is trial 24 with value: 0.4371584699453552.\n",
      "[I 2023-06-21 17:49:55,102] Trial 40 finished with value: 0.5218579234972678 and parameters: {'n_neighbors': 5, 'weights': 'uniform', 'distance': 'euclidean', 'n_jobs': -1}. Best is trial 24 with value: 0.4371584699453552.\n",
      "[I 2023-06-21 17:49:55,335] Trial 42 finished with value: 0.5218579234972678 and parameters: {'n_neighbors': 5, 'weights': 'uniform', 'distance': 'euclidean', 'n_jobs': -1}. Best is trial 24 with value: 0.4371584699453552.\n",
      "[I 2023-06-21 17:49:55,403] Trial 43 finished with value: 0.5355191256830601 and parameters: {'n_neighbors': 11, 'weights': 'uniform', 'distance': 'euclidean', 'n_jobs': -1}. Best is trial 24 with value: 0.4371584699453552.\n",
      "[I 2023-06-21 17:49:55,624] Trial 45 finished with value: 0.5355191256830601 and parameters: {'n_neighbors': 11, 'weights': 'uniform', 'distance': 'euclidean', 'n_jobs': -1}. Best is trial 24 with value: 0.4371584699453552.\n",
      "[I 2023-06-21 17:49:55,732] Trial 44 finished with value: 0.5355191256830601 and parameters: {'n_neighbors': 11, 'weights': 'uniform', 'distance': 'euclidean', 'n_jobs': -1}. Best is trial 24 with value: 0.4371584699453552.\n",
      "[I 2023-06-21 17:49:55,898] Trial 46 finished with value: 0.5355191256830601 and parameters: {'n_neighbors': 11, 'weights': 'uniform', 'distance': 'euclidean', 'n_jobs': -1}. Best is trial 24 with value: 0.4371584699453552.\n",
      "[I 2023-06-21 17:49:56,447] Trial 47 finished with value: 0.5355191256830601 and parameters: {'n_neighbors': 11, 'weights': 'uniform', 'distance': 'euclidean', 'n_jobs': -1}. Best is trial 24 with value: 0.4371584699453552.\n",
      "[I 2023-06-21 17:49:56,469] Trial 48 finished with value: 0.5355191256830601 and parameters: {'n_neighbors': 11, 'weights': 'uniform', 'distance': 'euclidean', 'n_jobs': -1}. Best is trial 24 with value: 0.4371584699453552.\n",
      "[I 2023-06-21 17:49:56,772] Trial 49 finished with value: 0.5355191256830601 and parameters: {'n_neighbors': 11, 'weights': 'uniform', 'distance': 'euclidean', 'n_jobs': -1}. Best is trial 24 with value: 0.4371584699453552.\n",
      "[I 2023-06-21 17:49:56,843] Trial 52 finished with value: 0.5 and parameters: {'n_neighbors': 4, 'weights': 'uniform', 'distance': 'euclidean', 'n_jobs': -1}. Best is trial 24 with value: 0.4371584699453552.\n",
      "[I 2023-06-21 17:49:56,844] Trial 51 finished with value: 0.5300546448087432 and parameters: {'n_neighbors': 10, 'weights': 'uniform', 'distance': 'euclidean', 'n_jobs': -1}. Best is trial 24 with value: 0.4371584699453552.\n",
      "[I 2023-06-21 17:49:56,849] Trial 50 finished with value: 0.5300546448087432 and parameters: {'n_neighbors': 10, 'weights': 'uniform', 'distance': 'euclidean', 'n_jobs': -1}. Best is trial 24 with value: 0.4371584699453552.\n",
      "[I 2023-06-21 17:49:57,588] Trial 53 finished with value: 0.6010928961748634 and parameters: {'n_neighbors': 46, 'weights': 'uniform', 'distance': 'euclidean', 'n_jobs': -1}. Best is trial 24 with value: 0.4371584699453552.\n",
      "[I 2023-06-21 17:49:57,600] Trial 54 finished with value: 0.5792349726775956 and parameters: {'n_neighbors': 50, 'weights': 'uniform', 'distance': 'euclidean', 'n_jobs': -1}. Best is trial 24 with value: 0.4371584699453552.\n",
      "[I 2023-06-21 17:49:57,844] Trial 56 finished with value: 0.592896174863388 and parameters: {'n_neighbors': 49, 'weights': 'uniform', 'distance': 'euclidean', 'n_jobs': -1}. Best is trial 24 with value: 0.4371584699453552.\n",
      "[I 2023-06-21 17:49:57,876] Trial 55 finished with value: 0.5983606557377049 and parameters: {'n_neighbors': 47, 'weights': 'uniform', 'distance': 'euclidean', 'n_jobs': -1}. Best is trial 24 with value: 0.4371584699453552.\n",
      "[I 2023-06-21 17:49:57,923] Trial 58 finished with value: 0.5 and parameters: {'n_neighbors': 4, 'weights': 'uniform', 'distance': 'euclidean', 'n_jobs': -1}. Best is trial 24 with value: 0.4371584699453552.\n",
      "[I 2023-06-21 17:49:57,997] Trial 59 finished with value: 0.5 and parameters: {'n_neighbors': 4, 'weights': 'uniform', 'distance': 'euclidean', 'n_jobs': -1}. Best is trial 24 with value: 0.4371584699453552.\n",
      "[I 2023-06-21 17:49:58,483] Trial 60 finished with value: 0.5491803278688525 and parameters: {'n_neighbors': 3, 'weights': 'uniform', 'distance': 'euclidean', 'n_jobs': -1}. Best is trial 24 with value: 0.4371584699453552.\n",
      "[I 2023-06-21 17:49:58,500] Trial 57 finished with value: 0.6010928961748634 and parameters: {'n_neighbors': 46, 'weights': 'uniform', 'distance': 'euclidean', 'n_jobs': -1}. Best is trial 24 with value: 0.4371584699453552.\n",
      "[I 2023-06-21 17:49:58,514] Trial 61 finished with value: 0.5491803278688525 and parameters: {'n_neighbors': 3, 'weights': 'uniform', 'distance': 'euclidean', 'n_jobs': -1}. Best is trial 24 with value: 0.4371584699453552.\n",
      "[I 2023-06-21 17:49:59,253] Trial 62 finished with value: 0.5 and parameters: {'n_neighbors': 4, 'weights': 'uniform', 'distance': 'euclidean', 'n_jobs': -1}. Best is trial 24 with value: 0.4371584699453552.\n",
      "[I 2023-06-21 17:49:59,312] Trial 65 finished with value: 0.5491803278688525 and parameters: {'n_neighbors': 3, 'weights': 'uniform', 'distance': 'euclidean', 'n_jobs': -1}. Best is trial 24 with value: 0.4371584699453552.\n",
      "[I 2023-06-21 17:49:59,387] Trial 64 finished with value: 0.5491803278688525 and parameters: {'n_neighbors': 3, 'weights': 'uniform', 'distance': 'euclidean', 'n_jobs': -1}. Best is trial 24 with value: 0.4371584699453552.\n",
      "[I 2023-06-21 17:49:59,399] Trial 63 finished with value: 0.5491803278688525 and parameters: {'n_neighbors': 3, 'weights': 'uniform', 'distance': 'euclidean', 'n_jobs': -1}. Best is trial 24 with value: 0.4371584699453552.\n",
      "[I 2023-06-21 17:50:00,043] Trial 71 finished with value: 0.5491803278688525 and parameters: {'n_neighbors': 6, 'weights': 'distance', 'distance': 'euclidean', 'n_jobs': -1}. Best is trial 24 with value: 0.4371584699453552.\n",
      "[I 2023-06-21 17:50:00,051] Trial 66 finished with value: 0.5819672131147541 and parameters: {'n_neighbors': 28, 'weights': 'uniform', 'distance': 'euclidean', 'n_jobs': -1}. Best is trial 24 with value: 0.4371584699453552.\n",
      "[I 2023-06-21 17:50:00,065] Trial 68 finished with value: 0.5081967213114754 and parameters: {'n_neighbors': 6, 'weights': 'uniform', 'distance': 'euclidean', 'n_jobs': -1}. Best is trial 24 with value: 0.4371584699453552.\n",
      "[I 2023-06-21 17:50:00,067] Trial 73 finished with value: 0.5792349726775956 and parameters: {'n_neighbors': 28, 'weights': 'distance', 'distance': 'euclidean', 'n_jobs': -1}. Best is trial 24 with value: 0.4371584699453552.\n",
      "[I 2023-06-21 17:50:00,237] Trial 67 finished with value: 0.5081967213114754 and parameters: {'n_neighbors': 6, 'weights': 'uniform', 'distance': 'euclidean', 'n_jobs': -1}. Best is trial 24 with value: 0.4371584699453552.\n",
      "[I 2023-06-21 17:50:00,863] Trial 69 finished with value: 0.5081967213114754 and parameters: {'n_neighbors': 6, 'weights': 'uniform', 'distance': 'euclidean', 'n_jobs': -1}. Best is trial 24 with value: 0.4371584699453552.\n",
      "[I 2023-06-21 17:50:00,980] Trial 70 finished with value: 0.5081967213114754 and parameters: {'n_neighbors': 6, 'weights': 'uniform', 'distance': 'euclidean', 'n_jobs': -1}. Best is trial 24 with value: 0.4371584699453552.\n",
      "[I 2023-06-21 17:50:01,365] Trial 72 finished with value: 0.5081967213114754 and parameters: {'n_neighbors': 6, 'weights': 'uniform', 'distance': 'euclidean', 'n_jobs': -1}. Best is trial 24 with value: 0.4371584699453552.\n",
      "[I 2023-06-21 17:50:01,368] Trial 75 finished with value: 0.5546448087431693 and parameters: {'n_neighbors': 14, 'weights': 'uniform', 'distance': 'euclidean', 'n_jobs': -1}. Best is trial 24 with value: 0.4371584699453552.\n",
      "[I 2023-06-21 17:50:01,383] Trial 78 finished with value: 0.5081967213114754 and parameters: {'n_neighbors': 1, 'weights': 'uniform', 'distance': 'euclidean', 'n_jobs': -1}. Best is trial 24 with value: 0.4371584699453552.\n",
      "[I 2023-06-21 17:50:01,472] Trial 77 finished with value: 0.5710382513661202 and parameters: {'n_neighbors': 15, 'weights': 'uniform', 'distance': 'euclidean', 'n_jobs': -1}. Best is trial 24 with value: 0.4371584699453552.\n",
      "[I 2023-06-21 17:50:01,877] Trial 76 finished with value: 0.5710382513661202 and parameters: {'n_neighbors': 15, 'weights': 'uniform', 'distance': 'euclidean', 'n_jobs': -1}. Best is trial 24 with value: 0.4371584699453552.\n",
      "[I 2023-06-21 17:50:02,098] Trial 74 finished with value: 0.5792349726775956 and parameters: {'n_neighbors': 29, 'weights': 'uniform', 'distance': 'euclidean', 'n_jobs': -1}. Best is trial 24 with value: 0.4371584699453552.\n",
      "[I 2023-06-21 17:50:02,143] Trial 79 finished with value: 0.4371584699453552 and parameters: {'n_neighbors': 2, 'weights': 'uniform', 'distance': 'euclidean', 'n_jobs': -1}. Best is trial 24 with value: 0.4371584699453552.\n",
      "[I 2023-06-21 17:50:02,161] Trial 80 finished with value: 0.5081967213114754 and parameters: {'n_neighbors': 1, 'weights': 'uniform', 'distance': 'euclidean', 'n_jobs': -1}. Best is trial 24 with value: 0.4371584699453552.\n",
      "[I 2023-06-21 17:50:02,796] Trial 86 finished with value: 0.546448087431694 and parameters: {'n_neighbors': 4, 'weights': 'distance', 'distance': 'euclidean', 'n_jobs': -1}. Best is trial 24 with value: 0.4371584699453552.\n",
      "[I 2023-06-21 17:50:02,872] Trial 81 finished with value: 0.5081967213114754 and parameters: {'n_neighbors': 1, 'weights': 'uniform', 'distance': 'euclidean', 'n_jobs': -1}. Best is trial 24 with value: 0.4371584699453552.\n",
      "[I 2023-06-21 17:50:02,885] Trial 82 finished with value: 0.5081967213114754 and parameters: {'n_neighbors': 1, 'weights': 'uniform', 'distance': 'euclidean', 'n_jobs': -1}. Best is trial 24 with value: 0.4371584699453552.\n",
      "[I 2023-06-21 17:50:03,107] Trial 83 finished with value: 0.5 and parameters: {'n_neighbors': 4, 'weights': 'uniform', 'distance': 'euclidean', 'n_jobs': -1}. Best is trial 24 with value: 0.4371584699453552.\n",
      "[I 2023-06-21 17:50:03,520] Trial 84 finished with value: 0.5 and parameters: {'n_neighbors': 4, 'weights': 'uniform', 'distance': 'euclidean', 'n_jobs': -1}. Best is trial 24 with value: 0.4371584699453552.\n",
      "[I 2023-06-21 17:50:03,637] Trial 85 finished with value: 0.5 and parameters: {'n_neighbors': 4, 'weights': 'uniform', 'distance': 'euclidean', 'n_jobs': -1}. Best is trial 24 with value: 0.4371584699453552.\n",
      "[I 2023-06-21 17:50:03,644] Trial 88 finished with value: 0.5 and parameters: {'n_neighbors': 4, 'weights': 'uniform', 'distance': 'euclidean', 'n_jobs': -1}. Best is trial 24 with value: 0.4371584699453552.\n",
      "[I 2023-06-21 17:50:03,761] Trial 87 finished with value: 0.5 and parameters: {'n_neighbors': 4, 'weights': 'uniform', 'distance': 'euclidean', 'n_jobs': -1}. Best is trial 24 with value: 0.4371584699453552.\n",
      "[I 2023-06-21 17:50:04,316] Trial 89 finished with value: 0.4371584699453552 and parameters: {'n_neighbors': 2, 'weights': 'uniform', 'distance': 'euclidean', 'n_jobs': -1}. Best is trial 24 with value: 0.4371584699453552.\n",
      "[I 2023-06-21 17:50:04,398] Trial 90 finished with value: 0.5 and parameters: {'n_neighbors': 4, 'weights': 'uniform', 'distance': 'euclidean', 'n_jobs': -1}. Best is trial 24 with value: 0.4371584699453552.\n",
      "[I 2023-06-21 17:50:04,401] Trial 91 finished with value: 0.5 and parameters: {'n_neighbors': 4, 'weights': 'uniform', 'distance': 'euclidean', 'n_jobs': -1}. Best is trial 24 with value: 0.4371584699453552.\n",
      "[I 2023-06-21 17:50:04,512] Trial 92 finished with value: 0.5 and parameters: {'n_neighbors': 4, 'weights': 'uniform', 'distance': 'euclidean', 'n_jobs': -1}. Best is trial 24 with value: 0.4371584699453552.\n",
      "[I 2023-06-21 17:50:04,964] Trial 93 finished with value: 0.546448087431694 and parameters: {'n_neighbors': 9, 'weights': 'uniform', 'distance': 'euclidean', 'n_jobs': -1}. Best is trial 24 with value: 0.4371584699453552.\n",
      "[I 2023-06-21 17:50:04,968] Trial 94 finished with value: 0.5273224043715847 and parameters: {'n_neighbors': 8, 'weights': 'uniform', 'distance': 'euclidean', 'n_jobs': -1}. Best is trial 24 with value: 0.4371584699453552.\n",
      "[I 2023-06-21 17:50:04,974] Trial 95 finished with value: 0.5273224043715847 and parameters: {'n_neighbors': 8, 'weights': 'uniform', 'distance': 'euclidean', 'n_jobs': -1}. Best is trial 24 with value: 0.4371584699453552.\n",
      "[I 2023-06-21 17:50:04,979] Trial 96 finished with value: 0.5273224043715847 and parameters: {'n_neighbors': 8, 'weights': 'uniform', 'distance': 'euclidean', 'n_jobs': -1}. Best is trial 24 with value: 0.4371584699453552.\n",
      "[I 2023-06-21 17:50:04,989] Trial 97 finished with value: 0.5273224043715847 and parameters: {'n_neighbors': 8, 'weights': 'uniform', 'distance': 'euclidean', 'n_jobs': -1}. Best is trial 24 with value: 0.4371584699453552.\n",
      "[I 2023-06-21 17:50:04,991] Trial 99 finished with value: 0.5273224043715847 and parameters: {'n_neighbors': 8, 'weights': 'uniform', 'distance': 'euclidean', 'n_jobs': -1}. Best is trial 24 with value: 0.4371584699453552.\n",
      "[I 2023-06-21 17:50:04,993] Trial 98 finished with value: 0.5273224043715847 and parameters: {'n_neighbors': 8, 'weights': 'uniform', 'distance': 'euclidean', 'n_jobs': -1}. Best is trial 24 with value: 0.4371584699453552.\n"
     ]
    }
   ],
   "source": [
    "from sklearn.metrics import accuracy_score\n",
    "from sktime.classification.distance_based import KNeighborsTimeSeriesClassifier\n",
    "import optuna\n",
    "\n",
    "# objective function to be minimized\n",
    "def objective_fun(trial):\n",
    "\n",
    "    n_neighbors = trial.suggest_int('n_neighbors', 1, 50)\n",
    "    weights = trial.suggest_categorical('weights', ['uniform', 'distance'])\n",
    "    distance = trial.suggest_categorical('distance', ['euclidean'])\n",
    "    n_jobs = trial.suggest_int('n_jobs', -1, -1)\n",
    "\n",
    "    knn = KNeighborsTimeSeriesClassifier(\n",
    "        n_neighbors=n_neighbors,\n",
    "        weights=weights,\n",
    "        distance=distance,\n",
    "        n_jobs=n_jobs\n",
    "    )\n",
    "\n",
    "    knn.fit(X_train, y_train)\n",
    "    y_pred = knn.predict(X_valid)\n",
    "\n",
    "    error = accuracy_score(y_valid, y_pred)\n",
    "\n",
    "    return error\n",
    "\n",
    "\n",
    "study = optuna.create_study()\n",
    "study.optimize(objective_fun, n_trials=100, n_jobs=-1)"
   ],
   "metadata": {
    "collapsed": false,
    "ExecuteTime": {
     "end_time": "2023-06-21T15:50:04.997906Z",
     "start_time": "2023-06-21T15:49:45.469975Z"
    }
   }
  },
  {
   "cell_type": "code",
   "execution_count": 10,
   "outputs": [
    {
     "data": {
      "text/plain": "{'n_neighbors': 2, 'weights': 'uniform', 'distance': 'euclidean', 'n_jobs': -1}"
     },
     "execution_count": 10,
     "metadata": {},
     "output_type": "execute_result"
    }
   ],
   "source": [
    "best_params = study.best_params\n",
    "best_params"
   ],
   "metadata": {
    "collapsed": false,
    "ExecuteTime": {
     "end_time": "2023-06-21T15:50:05.005101Z",
     "start_time": "2023-06-21T15:50:05.000291Z"
    }
   }
  },
  {
   "cell_type": "code",
   "execution_count": 11,
   "outputs": [
    {
     "data": {
      "text/plain": "KNeighborsTimeSeriesClassifier(distance='euclidean', n_jobs=-1, n_neighbors=2)",
      "text/html": "<style>#sk-a7411b63-ee46-403b-8a6b-220f5469acac {color: black;background-color: white;}#sk-a7411b63-ee46-403b-8a6b-220f5469acac pre{padding: 0;}#sk-a7411b63-ee46-403b-8a6b-220f5469acac div.sk-toggleable {background-color: white;}#sk-a7411b63-ee46-403b-8a6b-220f5469acac label.sk-toggleable__label {cursor: pointer;display: block;width: 100%;margin-bottom: 0;padding: 0.3em;box-sizing: border-box;text-align: center;}#sk-a7411b63-ee46-403b-8a6b-220f5469acac label.sk-toggleable__label-arrow:before {content: \"▸\";float: left;margin-right: 0.25em;color: #696969;}#sk-a7411b63-ee46-403b-8a6b-220f5469acac label.sk-toggleable__label-arrow:hover:before {color: black;}#sk-a7411b63-ee46-403b-8a6b-220f5469acac div.sk-estimator:hover label.sk-toggleable__label-arrow:before {color: black;}#sk-a7411b63-ee46-403b-8a6b-220f5469acac div.sk-toggleable__content {max-height: 0;max-width: 0;overflow: hidden;text-align: left;background-color: #f0f8ff;}#sk-a7411b63-ee46-403b-8a6b-220f5469acac div.sk-toggleable__content pre {margin: 0.2em;color: black;border-radius: 0.25em;background-color: #f0f8ff;}#sk-a7411b63-ee46-403b-8a6b-220f5469acac input.sk-toggleable__control:checked~div.sk-toggleable__content {max-height: 200px;max-width: 100%;overflow: auto;}#sk-a7411b63-ee46-403b-8a6b-220f5469acac input.sk-toggleable__control:checked~label.sk-toggleable__label-arrow:before {content: \"▾\";}#sk-a7411b63-ee46-403b-8a6b-220f5469acac div.sk-estimator input.sk-toggleable__control:checked~label.sk-toggleable__label {background-color: #d4ebff;}#sk-a7411b63-ee46-403b-8a6b-220f5469acac div.sk-label input.sk-toggleable__control:checked~label.sk-toggleable__label {background-color: #d4ebff;}#sk-a7411b63-ee46-403b-8a6b-220f5469acac input.sk-hidden--visually {border: 0;clip: rect(1px 1px 1px 1px);clip: rect(1px, 1px, 1px, 1px);height: 1px;margin: -1px;overflow: hidden;padding: 0;position: absolute;width: 1px;}#sk-a7411b63-ee46-403b-8a6b-220f5469acac div.sk-estimator {font-family: monospace;background-color: #f0f8ff;border: 1px dotted black;border-radius: 0.25em;box-sizing: border-box;margin-bottom: 0.5em;}#sk-a7411b63-ee46-403b-8a6b-220f5469acac div.sk-estimator:hover {background-color: #d4ebff;}#sk-a7411b63-ee46-403b-8a6b-220f5469acac div.sk-parallel-item::after {content: \"\";width: 100%;border-bottom: 1px solid gray;flex-grow: 1;}#sk-a7411b63-ee46-403b-8a6b-220f5469acac div.sk-label:hover label.sk-toggleable__label {background-color: #d4ebff;}#sk-a7411b63-ee46-403b-8a6b-220f5469acac div.sk-serial::before {content: \"\";position: absolute;border-left: 1px solid gray;box-sizing: border-box;top: 2em;bottom: 0;left: 50%;}#sk-a7411b63-ee46-403b-8a6b-220f5469acac div.sk-serial {display: flex;flex-direction: column;align-items: center;background-color: white;padding-right: 0.2em;padding-left: 0.2em;}#sk-a7411b63-ee46-403b-8a6b-220f5469acac div.sk-item {z-index: 1;}#sk-a7411b63-ee46-403b-8a6b-220f5469acac div.sk-parallel {display: flex;align-items: stretch;justify-content: center;background-color: white;}#sk-a7411b63-ee46-403b-8a6b-220f5469acac div.sk-parallel::before {content: \"\";position: absolute;border-left: 1px solid gray;box-sizing: border-box;top: 2em;bottom: 0;left: 50%;}#sk-a7411b63-ee46-403b-8a6b-220f5469acac div.sk-parallel-item {display: flex;flex-direction: column;position: relative;background-color: white;}#sk-a7411b63-ee46-403b-8a6b-220f5469acac div.sk-parallel-item:first-child::after {align-self: flex-end;width: 50%;}#sk-a7411b63-ee46-403b-8a6b-220f5469acac div.sk-parallel-item:last-child::after {align-self: flex-start;width: 50%;}#sk-a7411b63-ee46-403b-8a6b-220f5469acac div.sk-parallel-item:only-child::after {width: 0;}#sk-a7411b63-ee46-403b-8a6b-220f5469acac div.sk-dashed-wrapped {border: 1px dashed gray;margin: 0 0.4em 0.5em 0.4em;box-sizing: border-box;padding-bottom: 0.4em;background-color: white;position: relative;}#sk-a7411b63-ee46-403b-8a6b-220f5469acac div.sk-label label {font-family: monospace;font-weight: bold;background-color: white;display: inline-block;line-height: 1.2em;}#sk-a7411b63-ee46-403b-8a6b-220f5469acac div.sk-label-container {position: relative;z-index: 2;text-align: center;}#sk-a7411b63-ee46-403b-8a6b-220f5469acac div.sk-container {/* jupyter's `normalize.less` sets `[hidden] { display: none; }` but bootstrap.min.css set `[hidden] { display: none !important; }` so we also need the `!important` here to be able to override the default hidden behavior on the sphinx rendered scikit-learn.org. See: https://github.com/scikit-learn/scikit-learn/issues/21755 */display: inline-block !important;position: relative;}#sk-a7411b63-ee46-403b-8a6b-220f5469acac div.sk-text-repr-fallback {display: none;}</style><div id='sk-a7411b63-ee46-403b-8a6b-220f5469acac' class=\"sk-top-container\"><div class=\"sk-text-repr-fallback\"><pre>KNeighborsTimeSeriesClassifier(distance=&#x27;euclidean&#x27;, n_jobs=-1, n_neighbors=2)</pre><b>Please rerun this cell to show the HTML repr or trust the notebook.</b></div><div class=\"sk-container\" hidden><div class='sk-item'><div class=\"sk-estimator sk-toggleable\"><input class=\"sk-toggleable__control sk-hidden--visually\" id=UUID('969dd3ff-745e-4766-82e3-ef8094435c38') type=\"checkbox\" checked><label for=UUID('969dd3ff-745e-4766-82e3-ef8094435c38') class='sk-toggleable__label sk-toggleable__label-arrow'>KNeighborsTimeSeriesClassifier</label><div class=\"sk-toggleable__content\"><pre>KNeighborsTimeSeriesClassifier(distance=&#x27;euclidean&#x27;, n_jobs=-1, n_neighbors=2)</pre></div></div></div></div></div>"
     },
     "execution_count": 11,
     "metadata": {},
     "output_type": "execute_result"
    }
   ],
   "source": [
    "knn = KNeighborsTimeSeriesClassifier(**best_params)\n",
    "knn.fit(X_train, y_train)"
   ],
   "metadata": {
    "collapsed": false,
    "ExecuteTime": {
     "end_time": "2023-06-21T15:50:05.011920Z",
     "start_time": "2023-06-21T15:50:05.005504Z"
    }
   }
  },
  {
   "cell_type": "code",
   "execution_count": 12,
   "outputs": [
    {
     "name": "stdout",
     "output_type": "stream",
     "text": [
      "              precision    recall  f1-score   support\n",
      "\n",
      "        song       0.43      0.66      0.52       264\n",
      "      speech       0.59      0.36      0.45       360\n",
      "\n",
      "    accuracy                           0.49       624\n",
      "   macro avg       0.51      0.51      0.48       624\n",
      "weighted avg       0.52      0.49      0.48       624\n",
      "\n"
     ]
    }
   ],
   "source": [
    "from sklearn.metrics import classification_report\n",
    "\n",
    "y_pred = knn.predict(X_test)\n",
    "print(classification_report(y_test, y_pred))"
   ],
   "metadata": {
    "collapsed": false,
    "ExecuteTime": {
     "end_time": "2023-06-21T15:50:05.336861Z",
     "start_time": "2023-06-21T15:50:05.013431Z"
    }
   }
  },
  {
   "cell_type": "markdown",
   "source": [
    "# KNN using DTW"
   ],
   "metadata": {
    "collapsed": false
   }
  },
  {
   "cell_type": "code",
   "execution_count": 13,
   "outputs": [
    {
     "name": "stderr",
     "output_type": "stream",
     "text": [
      "[I 2023-06-21 17:50:05,337] A new study created in memory with name: no-name-ac4a8da9-87f3-4139-990c-af0c6f790658\n",
      "[I 2023-06-21 17:50:12,406] Trial 2 finished with value: 0.5956284153005464 and parameters: {'n_neighbors': 13, 'weights': 'distance', 'distance': 'dtw', 'n_jobs': -1}. Best is trial 2 with value: 0.5956284153005464.\n",
      "[I 2023-06-21 17:50:13,031] Trial 3 finished with value: 0.5819672131147541 and parameters: {'n_neighbors': 24, 'weights': 'distance', 'distance': 'dtw', 'n_jobs': -1}. Best is trial 3 with value: 0.5819672131147541.\n",
      "[I 2023-06-21 17:50:13,662] Trial 4 finished with value: 0.5792349726775956 and parameters: {'n_neighbors': 47, 'weights': 'distance', 'distance': 'dtw', 'n_jobs': -1}. Best is trial 4 with value: 0.5792349726775956.\n",
      "[I 2023-06-21 17:50:13,670] Trial 7 finished with value: 0.5765027322404371 and parameters: {'n_neighbors': 10, 'weights': 'distance', 'distance': 'dtw', 'n_jobs': -1}. Best is trial 7 with value: 0.5765027322404371.\n",
      "[I 2023-06-21 17:50:13,841] Trial 0 finished with value: 0.592896174863388 and parameters: {'n_neighbors': 26, 'weights': 'distance', 'distance': 'dtw', 'n_jobs': -1}. Best is trial 7 with value: 0.5765027322404371.\n",
      "[I 2023-06-21 17:50:13,996] Trial 1 finished with value: 0.5846994535519126 and parameters: {'n_neighbors': 17, 'weights': 'distance', 'distance': 'dtw', 'n_jobs': -1}. Best is trial 7 with value: 0.5765027322404371.\n",
      "[I 2023-06-21 17:50:14,198] Trial 6 finished with value: 0.592896174863388 and parameters: {'n_neighbors': 26, 'weights': 'distance', 'distance': 'dtw', 'n_jobs': -1}. Best is trial 7 with value: 0.5765027322404371.\n",
      "[I 2023-06-21 17:50:15,292] Trial 5 finished with value: 0.5601092896174863 and parameters: {'n_neighbors': 38, 'weights': 'uniform', 'distance': 'dtw', 'n_jobs': -1}. Best is trial 5 with value: 0.5601092896174863.\n",
      "[I 2023-06-21 17:50:18,863] Trial 8 finished with value: 0.5901639344262295 and parameters: {'n_neighbors': 33, 'weights': 'distance', 'distance': 'dtw', 'n_jobs': -1}. Best is trial 5 with value: 0.5601092896174863.\n",
      "[I 2023-06-21 17:50:20,638] Trial 9 finished with value: 0.592896174863388 and parameters: {'n_neighbors': 26, 'weights': 'distance', 'distance': 'dtw', 'n_jobs': -1}. Best is trial 5 with value: 0.5601092896174863.\n",
      "[I 2023-06-21 17:50:22,853] Trial 12 finished with value: 0.5819672131147541 and parameters: {'n_neighbors': 46, 'weights': 'distance', 'distance': 'dtw', 'n_jobs': -1}. Best is trial 5 with value: 0.5601092896174863.\n",
      "[I 2023-06-21 17:50:23,505] Trial 10 finished with value: 0.5737704918032787 and parameters: {'n_neighbors': 13, 'weights': 'uniform', 'distance': 'dtw', 'n_jobs': -1}. Best is trial 5 with value: 0.5601092896174863.\n",
      "[I 2023-06-21 17:50:24,071] Trial 11 finished with value: 0.5573770491803278 and parameters: {'n_neighbors': 15, 'weights': 'uniform', 'distance': 'dtw', 'n_jobs': -1}. Best is trial 11 with value: 0.5573770491803278.\n",
      "[I 2023-06-21 17:50:24,523] Trial 16 finished with value: 0.6065573770491803 and parameters: {'n_neighbors': 12, 'weights': 'distance', 'distance': 'dtw', 'n_jobs': -1}. Best is trial 11 with value: 0.5573770491803278.\n",
      "[I 2023-06-21 17:50:25,050] Trial 14 finished with value: 0.5655737704918032 and parameters: {'n_neighbors': 17, 'weights': 'uniform', 'distance': 'dtw', 'n_jobs': -1}. Best is trial 11 with value: 0.5573770491803278.\n",
      "[I 2023-06-21 17:50:25,220] Trial 13 finished with value: 0.5491803278688525 and parameters: {'n_neighbors': 30, 'weights': 'uniform', 'distance': 'dtw', 'n_jobs': -1}. Best is trial 13 with value: 0.5491803278688525.\n",
      "[I 2023-06-21 17:50:26,058] Trial 15 finished with value: 0.5546448087431693 and parameters: {'n_neighbors': 35, 'weights': 'uniform', 'distance': 'dtw', 'n_jobs': -1}. Best is trial 13 with value: 0.5491803278688525.\n",
      "[I 2023-06-21 17:50:31,170] Trial 17 finished with value: 0.5655737704918032 and parameters: {'n_neighbors': 48, 'weights': 'uniform', 'distance': 'dtw', 'n_jobs': -1}. Best is trial 13 with value: 0.5491803278688525.\n",
      "[I 2023-06-21 17:50:31,509] Trial 18 finished with value: 0.5765027322404371 and parameters: {'n_neighbors': 3, 'weights': 'uniform', 'distance': 'dtw', 'n_jobs': -1}. Best is trial 13 with value: 0.5491803278688525.\n",
      "[I 2023-06-21 17:50:31,894] Trial 19 finished with value: 0.48633879781420764 and parameters: {'n_neighbors': 2, 'weights': 'uniform', 'distance': 'dtw', 'n_jobs': -1}. Best is trial 19 with value: 0.48633879781420764.\n",
      "[I 2023-06-21 17:50:32,554] Trial 21 finished with value: 0.5765027322404371 and parameters: {'n_neighbors': 1, 'weights': 'uniform', 'distance': 'dtw', 'n_jobs': -1}. Best is trial 19 with value: 0.48633879781420764.\n",
      "[I 2023-06-21 17:50:32,666] Trial 20 finished with value: 0.5765027322404371 and parameters: {'n_neighbors': 3, 'weights': 'uniform', 'distance': 'dtw', 'n_jobs': -1}. Best is trial 19 with value: 0.48633879781420764.\n",
      "[I 2023-06-21 17:50:32,776] Trial 22 finished with value: 0.5765027322404371 and parameters: {'n_neighbors': 1, 'weights': 'uniform', 'distance': 'dtw', 'n_jobs': -1}. Best is trial 19 with value: 0.48633879781420764.\n",
      "[I 2023-06-21 17:50:34,932] Trial 23 finished with value: 0.5546448087431693 and parameters: {'n_neighbors': 35, 'weights': 'uniform', 'distance': 'dtw', 'n_jobs': -1}. Best is trial 19 with value: 0.48633879781420764.\n",
      "[I 2023-06-21 17:50:35,333] Trial 24 finished with value: 0.5409836065573771 and parameters: {'n_neighbors': 36, 'weights': 'uniform', 'distance': 'dtw', 'n_jobs': -1}. Best is trial 19 with value: 0.48633879781420764.\n",
      "[I 2023-06-21 17:50:39,404] Trial 25 finished with value: 0.5218579234972678 and parameters: {'n_neighbors': 4, 'weights': 'uniform', 'distance': 'dtw', 'n_jobs': -1}. Best is trial 19 with value: 0.48633879781420764.\n",
      "[I 2023-06-21 17:50:39,834] Trial 27 finished with value: 0.5765027322404371 and parameters: {'n_neighbors': 1, 'weights': 'uniform', 'distance': 'dtw', 'n_jobs': -1}. Best is trial 19 with value: 0.48633879781420764.\n",
      "[I 2023-06-21 17:50:40,270] Trial 26 finished with value: 0.5601092896174863 and parameters: {'n_neighbors': 38, 'weights': 'uniform', 'distance': 'dtw', 'n_jobs': -1}. Best is trial 19 with value: 0.48633879781420764.\n",
      "[I 2023-06-21 17:50:40,665] Trial 29 finished with value: 0.5546448087431693 and parameters: {'n_neighbors': 35, 'weights': 'uniform', 'distance': 'dtw', 'n_jobs': -1}. Best is trial 19 with value: 0.48633879781420764.\n",
      "[I 2023-06-21 17:50:41,333] Trial 28 finished with value: 0.5546448087431693 and parameters: {'n_neighbors': 35, 'weights': 'uniform', 'distance': 'dtw', 'n_jobs': -1}. Best is trial 19 with value: 0.48633879781420764.\n",
      "[I 2023-06-21 17:50:41,773] Trial 30 finished with value: 0.5409836065573771 and parameters: {'n_neighbors': 36, 'weights': 'uniform', 'distance': 'dtw', 'n_jobs': -1}. Best is trial 19 with value: 0.48633879781420764.\n",
      "[I 2023-06-21 17:50:42,648] Trial 31 finished with value: 0.5601092896174863 and parameters: {'n_neighbors': 42, 'weights': 'uniform', 'distance': 'dtw', 'n_jobs': -1}. Best is trial 19 with value: 0.48633879781420764.\n",
      "[I 2023-06-21 17:50:44,456] Trial 32 finished with value: 0.5491803278688525 and parameters: {'n_neighbors': 40, 'weights': 'uniform', 'distance': 'dtw', 'n_jobs': -1}. Best is trial 19 with value: 0.48633879781420764.\n",
      "[I 2023-06-21 17:50:48,445] Trial 33 finished with value: 0.5765027322404371 and parameters: {'n_neighbors': 7, 'weights': 'uniform', 'distance': 'dtw', 'n_jobs': -1}. Best is trial 19 with value: 0.48633879781420764.\n",
      "[I 2023-06-21 17:50:48,798] Trial 34 finished with value: 0.5765027322404371 and parameters: {'n_neighbors': 7, 'weights': 'uniform', 'distance': 'dtw', 'n_jobs': -1}. Best is trial 19 with value: 0.48633879781420764.\n",
      "[I 2023-06-21 17:50:49,236] Trial 35 finished with value: 0.5765027322404371 and parameters: {'n_neighbors': 7, 'weights': 'uniform', 'distance': 'dtw', 'n_jobs': -1}. Best is trial 19 with value: 0.48633879781420764.\n",
      "[I 2023-06-21 17:50:49,243] Trial 36 finished with value: 0.5792349726775956 and parameters: {'n_neighbors': 9, 'weights': 'uniform', 'distance': 'dtw', 'n_jobs': -1}. Best is trial 19 with value: 0.48633879781420764.\n",
      "[I 2023-06-21 17:50:49,886] Trial 37 finished with value: 0.5765027322404371 and parameters: {'n_neighbors': 7, 'weights': 'uniform', 'distance': 'dtw', 'n_jobs': -1}. Best is trial 19 with value: 0.48633879781420764.\n",
      "[I 2023-06-21 17:50:49,918] Trial 38 finished with value: 0.5765027322404371 and parameters: {'n_neighbors': 7, 'weights': 'uniform', 'distance': 'dtw', 'n_jobs': -1}. Best is trial 19 with value: 0.48633879781420764.\n",
      "[I 2023-06-21 17:50:50,537] Trial 39 finished with value: 0.5273224043715847 and parameters: {'n_neighbors': 6, 'weights': 'uniform', 'distance': 'dtw', 'n_jobs': -1}. Best is trial 19 with value: 0.48633879781420764.\n",
      "[I 2023-06-21 17:50:51,917] Trial 40 finished with value: 0.5765027322404371 and parameters: {'n_neighbors': 7, 'weights': 'uniform', 'distance': 'dtw', 'n_jobs': -1}. Best is trial 19 with value: 0.48633879781420764.\n",
      "[I 2023-06-21 17:50:56,866] Trial 41 finished with value: 0.5573770491803278 and parameters: {'n_neighbors': 20, 'weights': 'uniform', 'distance': 'dtw', 'n_jobs': -1}. Best is trial 19 with value: 0.48633879781420764.\n",
      "[I 2023-06-21 17:50:57,705] Trial 42 finished with value: 0.5683060109289617 and parameters: {'n_neighbors': 44, 'weights': 'uniform', 'distance': 'dtw', 'n_jobs': -1}. Best is trial 19 with value: 0.48633879781420764.\n",
      "[I 2023-06-21 17:50:57,921] Trial 44 finished with value: 0.5573770491803278 and parameters: {'n_neighbors': 21, 'weights': 'uniform', 'distance': 'dtw', 'n_jobs': -1}. Best is trial 19 with value: 0.48633879781420764.\n",
      "[I 2023-06-21 17:50:57,935] Trial 43 finished with value: 0.546448087431694 and parameters: {'n_neighbors': 18, 'weights': 'uniform', 'distance': 'dtw', 'n_jobs': -1}. Best is trial 19 with value: 0.48633879781420764.\n",
      "[I 2023-06-21 17:50:58,435] Trial 45 finished with value: 0.5601092896174863 and parameters: {'n_neighbors': 23, 'weights': 'uniform', 'distance': 'dtw', 'n_jobs': -1}. Best is trial 19 with value: 0.48633879781420764.\n",
      "[I 2023-06-21 17:50:58,982] Trial 47 finished with value: 0.5573770491803278 and parameters: {'n_neighbors': 21, 'weights': 'uniform', 'distance': 'dtw', 'n_jobs': -1}. Best is trial 19 with value: 0.48633879781420764.\n",
      "[I 2023-06-21 17:50:59,270] Trial 46 finished with value: 0.5683060109289617 and parameters: {'n_neighbors': 44, 'weights': 'uniform', 'distance': 'dtw', 'n_jobs': -1}. Best is trial 19 with value: 0.48633879781420764.\n",
      "[I 2023-06-21 17:50:59,859] Trial 48 finished with value: 0.5573770491803278 and parameters: {'n_neighbors': 20, 'weights': 'uniform', 'distance': 'dtw', 'n_jobs': -1}. Best is trial 19 with value: 0.48633879781420764.\n",
      "[I 2023-06-21 17:51:04,071] Trial 52 finished with value: 0.5846994535519126 and parameters: {'n_neighbors': 29, 'weights': 'distance', 'distance': 'dtw', 'n_jobs': -1}. Best is trial 19 with value: 0.48633879781420764.\n",
      "[I 2023-06-21 17:51:04,276] Trial 51 finished with value: 0.5792349726775956 and parameters: {'n_neighbors': 30, 'weights': 'distance', 'distance': 'dtw', 'n_jobs': -1}. Best is trial 19 with value: 0.48633879781420764.\n",
      "[I 2023-06-21 17:51:04,634] Trial 49 finished with value: 0.5491803278688525 and parameters: {'n_neighbors': 30, 'weights': 'uniform', 'distance': 'dtw', 'n_jobs': -1}. Best is trial 19 with value: 0.48633879781420764.\n",
      "[I 2023-06-21 17:51:05,627] Trial 53 finished with value: 0.5956284153005464 and parameters: {'n_neighbors': 32, 'weights': 'distance', 'distance': 'dtw', 'n_jobs': -1}. Best is trial 19 with value: 0.48633879781420764.\n",
      "[I 2023-06-21 17:51:05,879] Trial 50 finished with value: 0.5601092896174863 and parameters: {'n_neighbors': 29, 'weights': 'uniform', 'distance': 'dtw', 'n_jobs': -1}. Best is trial 19 with value: 0.48633879781420764.\n",
      "[I 2023-06-21 17:51:05,961] Trial 54 finished with value: 0.5846994535519126 and parameters: {'n_neighbors': 29, 'weights': 'distance', 'distance': 'dtw', 'n_jobs': -1}. Best is trial 19 with value: 0.48633879781420764.\n",
      "[I 2023-06-21 17:51:06,821] Trial 55 finished with value: 0.5846994535519126 and parameters: {'n_neighbors': 29, 'weights': 'distance', 'distance': 'dtw', 'n_jobs': -1}. Best is trial 19 with value: 0.48633879781420764.\n",
      "[I 2023-06-21 17:51:07,547] Trial 56 finished with value: 0.5846994535519126 and parameters: {'n_neighbors': 29, 'weights': 'distance', 'distance': 'dtw', 'n_jobs': -1}. Best is trial 19 with value: 0.48633879781420764.\n",
      "[I 2023-06-21 17:51:11,830] Trial 57 finished with value: 0.5792349726775956 and parameters: {'n_neighbors': 30, 'weights': 'distance', 'distance': 'dtw', 'n_jobs': -1}. Best is trial 19 with value: 0.48633879781420764.\n",
      "[I 2023-06-21 17:51:14,845] Trial 59 finished with value: 0.5601092896174863 and parameters: {'n_neighbors': 5, 'weights': 'uniform', 'distance': 'dtw', 'n_jobs': -1}. Best is trial 19 with value: 0.48633879781420764.\n",
      "[I 2023-06-21 17:51:15,086] Trial 58 finished with value: 0.5218579234972678 and parameters: {'n_neighbors': 4, 'weights': 'uniform', 'distance': 'dtw', 'n_jobs': -1}. Best is trial 19 with value: 0.48633879781420764.\n",
      "[I 2023-06-21 17:51:15,363] Trial 60 finished with value: 0.5218579234972678 and parameters: {'n_neighbors': 4, 'weights': 'uniform', 'distance': 'dtw', 'n_jobs': -1}. Best is trial 19 with value: 0.48633879781420764.\n",
      "[I 2023-06-21 17:51:15,427] Trial 61 finished with value: 0.5519125683060109 and parameters: {'n_neighbors': 11, 'weights': 'uniform', 'distance': 'dtw', 'n_jobs': -1}. Best is trial 19 with value: 0.48633879781420764.\n",
      "[I 2023-06-21 17:51:15,844] Trial 62 finished with value: 0.5573770491803278 and parameters: {'n_neighbors': 15, 'weights': 'uniform', 'distance': 'dtw', 'n_jobs': -1}. Best is trial 19 with value: 0.48633879781420764.\n",
      "[I 2023-06-21 17:51:16,151] Trial 64 finished with value: 0.5218579234972678 and parameters: {'n_neighbors': 4, 'weights': 'uniform', 'distance': 'dtw', 'n_jobs': -1}. Best is trial 19 with value: 0.48633879781420764.\n",
      "[I 2023-06-21 17:51:16,819] Trial 63 finished with value: 0.5218579234972678 and parameters: {'n_neighbors': 4, 'weights': 'uniform', 'distance': 'dtw', 'n_jobs': -1}. Best is trial 19 with value: 0.48633879781420764.\n",
      "[I 2023-06-21 17:51:18,745] Trial 65 finished with value: 0.5601092896174863 and parameters: {'n_neighbors': 5, 'weights': 'uniform', 'distance': 'dtw', 'n_jobs': -1}. Best is trial 19 with value: 0.48633879781420764.\n",
      "[I 2023-06-21 17:51:23,675] Trial 66 finished with value: 0.5519125683060109 and parameters: {'n_neighbors': 11, 'weights': 'uniform', 'distance': 'dtw', 'n_jobs': -1}. Best is trial 19 with value: 0.48633879781420764.\n",
      "[I 2023-06-21 17:51:23,838] Trial 67 finished with value: 0.5792349726775956 and parameters: {'n_neighbors': 50, 'weights': 'uniform', 'distance': 'dtw', 'n_jobs': -1}. Best is trial 19 with value: 0.48633879781420764.\n",
      "[I 2023-06-21 17:51:24,067] Trial 68 finished with value: 0.5218579234972678 and parameters: {'n_neighbors': 4, 'weights': 'uniform', 'distance': 'dtw', 'n_jobs': -1}. Best is trial 19 with value: 0.48633879781420764.\n",
      "[I 2023-06-21 17:51:24,200] Trial 70 finished with value: 0.5218579234972678 and parameters: {'n_neighbors': 4, 'weights': 'uniform', 'distance': 'dtw', 'n_jobs': -1}. Best is trial 19 with value: 0.48633879781420764.\n",
      "[I 2023-06-21 17:51:24,267] Trial 69 finished with value: 0.5218579234972678 and parameters: {'n_neighbors': 4, 'weights': 'uniform', 'distance': 'dtw', 'n_jobs': -1}. Best is trial 19 with value: 0.48633879781420764.\n",
      "[I 2023-06-21 17:51:24,443] Trial 71 finished with value: 0.5218579234972678 and parameters: {'n_neighbors': 4, 'weights': 'uniform', 'distance': 'dtw', 'n_jobs': -1}. Best is trial 19 with value: 0.48633879781420764.\n",
      "[I 2023-06-21 17:51:25,047] Trial 72 finished with value: 0.5218579234972678 and parameters: {'n_neighbors': 4, 'weights': 'uniform', 'distance': 'dtw', 'n_jobs': -1}. Best is trial 19 with value: 0.48633879781420764.\n",
      "[I 2023-06-21 17:51:26,479] Trial 73 finished with value: 0.5218579234972678 and parameters: {'n_neighbors': 4, 'weights': 'uniform', 'distance': 'dtw', 'n_jobs': -1}. Best is trial 19 with value: 0.48633879781420764.\n",
      "[I 2023-06-21 17:51:32,110] Trial 74 finished with value: 0.5765027322404371 and parameters: {'n_neighbors': 3, 'weights': 'uniform', 'distance': 'dtw', 'n_jobs': -1}. Best is trial 19 with value: 0.48633879781420764.\n",
      "[I 2023-06-21 17:51:32,525] Trial 75 finished with value: 0.5218579234972678 and parameters: {'n_neighbors': 4, 'weights': 'uniform', 'distance': 'dtw', 'n_jobs': -1}. Best is trial 19 with value: 0.48633879781420764.\n",
      "[I 2023-06-21 17:51:32,829] Trial 76 finished with value: 0.5765027322404371 and parameters: {'n_neighbors': 3, 'weights': 'uniform', 'distance': 'dtw', 'n_jobs': -1}. Best is trial 19 with value: 0.48633879781420764.\n",
      "[I 2023-06-21 17:51:33,024] Trial 77 finished with value: 0.48633879781420764 and parameters: {'n_neighbors': 2, 'weights': 'uniform', 'distance': 'dtw', 'n_jobs': -1}. Best is trial 19 with value: 0.48633879781420764.\n",
      "[I 2023-06-21 17:51:33,212] Trial 78 finished with value: 0.5765027322404371 and parameters: {'n_neighbors': 3, 'weights': 'uniform', 'distance': 'dtw', 'n_jobs': -1}. Best is trial 19 with value: 0.48633879781420764.\n",
      "[I 2023-06-21 17:51:34,331] Trial 79 finished with value: 0.48633879781420764 and parameters: {'n_neighbors': 2, 'weights': 'uniform', 'distance': 'dtw', 'n_jobs': -1}. Best is trial 19 with value: 0.48633879781420764.\n",
      "[I 2023-06-21 17:51:34,350] Trial 80 finished with value: 0.48633879781420764 and parameters: {'n_neighbors': 2, 'weights': 'uniform', 'distance': 'dtw', 'n_jobs': -1}. Best is trial 19 with value: 0.48633879781420764.\n",
      "[I 2023-06-21 17:51:34,369] Trial 81 finished with value: 0.48633879781420764 and parameters: {'n_neighbors': 2, 'weights': 'uniform', 'distance': 'dtw', 'n_jobs': -1}. Best is trial 19 with value: 0.48633879781420764.\n",
      "[I 2023-06-21 17:51:38,806] Trial 82 finished with value: 0.5792349726775956 and parameters: {'n_neighbors': 9, 'weights': 'uniform', 'distance': 'dtw', 'n_jobs': -1}. Best is trial 19 with value: 0.48633879781420764.\n",
      "[I 2023-06-21 17:51:40,473] Trial 83 finished with value: 0.5765027322404371 and parameters: {'n_neighbors': 1, 'weights': 'uniform', 'distance': 'dtw', 'n_jobs': -1}. Best is trial 19 with value: 0.48633879781420764.\n",
      "[I 2023-06-21 17:51:40,847] Trial 84 finished with value: 0.5765027322404371 and parameters: {'n_neighbors': 1, 'weights': 'uniform', 'distance': 'dtw', 'n_jobs': -1}. Best is trial 19 with value: 0.48633879781420764.\n",
      "[I 2023-06-21 17:51:42,271] Trial 87 finished with value: 0.5765027322404371 and parameters: {'n_neighbors': 1, 'weights': 'uniform', 'distance': 'dtw', 'n_jobs': -1}. Best is trial 19 with value: 0.48633879781420764.\n",
      "[I 2023-06-21 17:51:42,348] Trial 85 finished with value: 0.5792349726775956 and parameters: {'n_neighbors': 9, 'weights': 'uniform', 'distance': 'dtw', 'n_jobs': -1}. Best is trial 19 with value: 0.48633879781420764.\n",
      "[I 2023-06-21 17:51:42,437] Trial 89 finished with value: 0.5765027322404371 and parameters: {'n_neighbors': 1, 'weights': 'uniform', 'distance': 'dtw', 'n_jobs': -1}. Best is trial 19 with value: 0.48633879781420764.\n",
      "[I 2023-06-21 17:51:42,819] Trial 86 finished with value: 0.5792349726775956 and parameters: {'n_neighbors': 9, 'weights': 'uniform', 'distance': 'dtw', 'n_jobs': -1}. Best is trial 19 with value: 0.48633879781420764.\n",
      "[I 2023-06-21 17:51:43,018] Trial 88 finished with value: 0.5765027322404371 and parameters: {'n_neighbors': 1, 'weights': 'uniform', 'distance': 'dtw', 'n_jobs': -1}. Best is trial 19 with value: 0.48633879781420764.\n",
      "[I 2023-06-21 17:51:46,039] Trial 90 finished with value: 0.5765027322404371 and parameters: {'n_neighbors': 1, 'weights': 'uniform', 'distance': 'dtw', 'n_jobs': -1}. Best is trial 19 with value: 0.48633879781420764.\n",
      "[I 2023-06-21 17:51:49,794] Trial 91 finished with value: 0.48633879781420764 and parameters: {'n_neighbors': 2, 'weights': 'uniform', 'distance': 'dtw', 'n_jobs': -1}. Best is trial 19 with value: 0.48633879781420764.\n",
      "[I 2023-06-21 17:51:50,128] Trial 92 finished with value: 0.5792349726775956 and parameters: {'n_neighbors': 9, 'weights': 'uniform', 'distance': 'dtw', 'n_jobs': -1}. Best is trial 19 with value: 0.48633879781420764.\n",
      "[I 2023-06-21 17:51:51,108] Trial 93 finished with value: 0.48633879781420764 and parameters: {'n_neighbors': 2, 'weights': 'uniform', 'distance': 'dtw', 'n_jobs': -1}. Best is trial 19 with value: 0.48633879781420764.\n",
      "[I 2023-06-21 17:51:51,115] Trial 94 finished with value: 0.5273224043715847 and parameters: {'n_neighbors': 6, 'weights': 'uniform', 'distance': 'dtw', 'n_jobs': -1}. Best is trial 19 with value: 0.48633879781420764.\n",
      "[I 2023-06-21 17:51:51,175] Trial 95 finished with value: 0.5273224043715847 and parameters: {'n_neighbors': 6, 'weights': 'uniform', 'distance': 'dtw', 'n_jobs': -1}. Best is trial 19 with value: 0.48633879781420764.\n",
      "[I 2023-06-21 17:51:51,247] Trial 96 finished with value: 0.5273224043715847 and parameters: {'n_neighbors': 6, 'weights': 'uniform', 'distance': 'dtw', 'n_jobs': -1}. Best is trial 19 with value: 0.48633879781420764.\n",
      "[I 2023-06-21 17:51:51,313] Trial 97 finished with value: 0.5273224043715847 and parameters: {'n_neighbors': 6, 'weights': 'uniform', 'distance': 'dtw', 'n_jobs': -1}. Best is trial 19 with value: 0.48633879781420764.\n",
      "[I 2023-06-21 17:51:51,361] Trial 98 finished with value: 0.5273224043715847 and parameters: {'n_neighbors': 6, 'weights': 'uniform', 'distance': 'dtw', 'n_jobs': -1}. Best is trial 19 with value: 0.48633879781420764.\n",
      "[I 2023-06-21 17:51:51,846] Trial 99 finished with value: 0.5273224043715847 and parameters: {'n_neighbors': 6, 'weights': 'uniform', 'distance': 'dtw', 'n_jobs': -1}. Best is trial 19 with value: 0.48633879781420764.\n"
     ]
    }
   ],
   "source": [
    "# objective function to be minimized\n",
    "def objective_fun(trial):\n",
    "\n",
    "    n_neighbors = trial.suggest_int('n_neighbors', 1, 50)\n",
    "    weights = trial.suggest_categorical('weights', ['uniform', 'distance'])\n",
    "    distance = trial.suggest_categorical('distance', ['dtw'])\n",
    "    n_jobs = trial.suggest_int('n_jobs', -1, -1)\n",
    "\n",
    "    knn = KNeighborsTimeSeriesClassifier(\n",
    "        n_neighbors=n_neighbors,\n",
    "        weights=weights,\n",
    "        distance=distance,\n",
    "        n_jobs=n_jobs\n",
    "    )\n",
    "\n",
    "    knn.fit(X_train, y_train)\n",
    "    y_pred = knn.predict(X_valid)\n",
    "\n",
    "    error = accuracy_score(y_valid, y_pred)\n",
    "\n",
    "    return error\n",
    "\n",
    "\n",
    "study = optuna.create_study()\n",
    "study.optimize(objective_fun, n_trials=100, n_jobs=-1)"
   ],
   "metadata": {
    "collapsed": false,
    "ExecuteTime": {
     "end_time": "2023-06-21T15:51:51.850698Z",
     "start_time": "2023-06-21T15:50:05.338829Z"
    }
   }
  },
  {
   "cell_type": "code",
   "execution_count": 14,
   "outputs": [
    {
     "data": {
      "text/plain": "{'n_neighbors': 2, 'weights': 'uniform', 'distance': 'dtw', 'n_jobs': -1}"
     },
     "execution_count": 14,
     "metadata": {},
     "output_type": "execute_result"
    }
   ],
   "source": [
    "best_params = study.best_params\n",
    "best_params"
   ],
   "metadata": {
    "collapsed": false,
    "ExecuteTime": {
     "end_time": "2023-06-21T15:51:51.855286Z",
     "start_time": "2023-06-21T15:51:51.852417Z"
    }
   }
  },
  {
   "cell_type": "code",
   "execution_count": 15,
   "outputs": [
    {
     "data": {
      "text/plain": "KNeighborsTimeSeriesClassifier(n_jobs=-1, n_neighbors=2)",
      "text/html": "<style>#sk-ba9d2eca-0472-463a-a32e-3e7bacc0978d {color: black;background-color: white;}#sk-ba9d2eca-0472-463a-a32e-3e7bacc0978d pre{padding: 0;}#sk-ba9d2eca-0472-463a-a32e-3e7bacc0978d div.sk-toggleable {background-color: white;}#sk-ba9d2eca-0472-463a-a32e-3e7bacc0978d label.sk-toggleable__label {cursor: pointer;display: block;width: 100%;margin-bottom: 0;padding: 0.3em;box-sizing: border-box;text-align: center;}#sk-ba9d2eca-0472-463a-a32e-3e7bacc0978d label.sk-toggleable__label-arrow:before {content: \"▸\";float: left;margin-right: 0.25em;color: #696969;}#sk-ba9d2eca-0472-463a-a32e-3e7bacc0978d label.sk-toggleable__label-arrow:hover:before {color: black;}#sk-ba9d2eca-0472-463a-a32e-3e7bacc0978d div.sk-estimator:hover label.sk-toggleable__label-arrow:before {color: black;}#sk-ba9d2eca-0472-463a-a32e-3e7bacc0978d div.sk-toggleable__content {max-height: 0;max-width: 0;overflow: hidden;text-align: left;background-color: #f0f8ff;}#sk-ba9d2eca-0472-463a-a32e-3e7bacc0978d div.sk-toggleable__content pre {margin: 0.2em;color: black;border-radius: 0.25em;background-color: #f0f8ff;}#sk-ba9d2eca-0472-463a-a32e-3e7bacc0978d input.sk-toggleable__control:checked~div.sk-toggleable__content {max-height: 200px;max-width: 100%;overflow: auto;}#sk-ba9d2eca-0472-463a-a32e-3e7bacc0978d input.sk-toggleable__control:checked~label.sk-toggleable__label-arrow:before {content: \"▾\";}#sk-ba9d2eca-0472-463a-a32e-3e7bacc0978d div.sk-estimator input.sk-toggleable__control:checked~label.sk-toggleable__label {background-color: #d4ebff;}#sk-ba9d2eca-0472-463a-a32e-3e7bacc0978d div.sk-label input.sk-toggleable__control:checked~label.sk-toggleable__label {background-color: #d4ebff;}#sk-ba9d2eca-0472-463a-a32e-3e7bacc0978d input.sk-hidden--visually {border: 0;clip: rect(1px 1px 1px 1px);clip: rect(1px, 1px, 1px, 1px);height: 1px;margin: -1px;overflow: hidden;padding: 0;position: absolute;width: 1px;}#sk-ba9d2eca-0472-463a-a32e-3e7bacc0978d div.sk-estimator {font-family: monospace;background-color: #f0f8ff;border: 1px dotted black;border-radius: 0.25em;box-sizing: border-box;margin-bottom: 0.5em;}#sk-ba9d2eca-0472-463a-a32e-3e7bacc0978d div.sk-estimator:hover {background-color: #d4ebff;}#sk-ba9d2eca-0472-463a-a32e-3e7bacc0978d div.sk-parallel-item::after {content: \"\";width: 100%;border-bottom: 1px solid gray;flex-grow: 1;}#sk-ba9d2eca-0472-463a-a32e-3e7bacc0978d div.sk-label:hover label.sk-toggleable__label {background-color: #d4ebff;}#sk-ba9d2eca-0472-463a-a32e-3e7bacc0978d div.sk-serial::before {content: \"\";position: absolute;border-left: 1px solid gray;box-sizing: border-box;top: 2em;bottom: 0;left: 50%;}#sk-ba9d2eca-0472-463a-a32e-3e7bacc0978d div.sk-serial {display: flex;flex-direction: column;align-items: center;background-color: white;padding-right: 0.2em;padding-left: 0.2em;}#sk-ba9d2eca-0472-463a-a32e-3e7bacc0978d div.sk-item {z-index: 1;}#sk-ba9d2eca-0472-463a-a32e-3e7bacc0978d div.sk-parallel {display: flex;align-items: stretch;justify-content: center;background-color: white;}#sk-ba9d2eca-0472-463a-a32e-3e7bacc0978d div.sk-parallel::before {content: \"\";position: absolute;border-left: 1px solid gray;box-sizing: border-box;top: 2em;bottom: 0;left: 50%;}#sk-ba9d2eca-0472-463a-a32e-3e7bacc0978d div.sk-parallel-item {display: flex;flex-direction: column;position: relative;background-color: white;}#sk-ba9d2eca-0472-463a-a32e-3e7bacc0978d div.sk-parallel-item:first-child::after {align-self: flex-end;width: 50%;}#sk-ba9d2eca-0472-463a-a32e-3e7bacc0978d div.sk-parallel-item:last-child::after {align-self: flex-start;width: 50%;}#sk-ba9d2eca-0472-463a-a32e-3e7bacc0978d div.sk-parallel-item:only-child::after {width: 0;}#sk-ba9d2eca-0472-463a-a32e-3e7bacc0978d div.sk-dashed-wrapped {border: 1px dashed gray;margin: 0 0.4em 0.5em 0.4em;box-sizing: border-box;padding-bottom: 0.4em;background-color: white;position: relative;}#sk-ba9d2eca-0472-463a-a32e-3e7bacc0978d div.sk-label label {font-family: monospace;font-weight: bold;background-color: white;display: inline-block;line-height: 1.2em;}#sk-ba9d2eca-0472-463a-a32e-3e7bacc0978d div.sk-label-container {position: relative;z-index: 2;text-align: center;}#sk-ba9d2eca-0472-463a-a32e-3e7bacc0978d div.sk-container {/* jupyter's `normalize.less` sets `[hidden] { display: none; }` but bootstrap.min.css set `[hidden] { display: none !important; }` so we also need the `!important` here to be able to override the default hidden behavior on the sphinx rendered scikit-learn.org. See: https://github.com/scikit-learn/scikit-learn/issues/21755 */display: inline-block !important;position: relative;}#sk-ba9d2eca-0472-463a-a32e-3e7bacc0978d div.sk-text-repr-fallback {display: none;}</style><div id='sk-ba9d2eca-0472-463a-a32e-3e7bacc0978d' class=\"sk-top-container\"><div class=\"sk-text-repr-fallback\"><pre>KNeighborsTimeSeriesClassifier(n_jobs=-1, n_neighbors=2)</pre><b>Please rerun this cell to show the HTML repr or trust the notebook.</b></div><div class=\"sk-container\" hidden><div class='sk-item'><div class=\"sk-estimator sk-toggleable\"><input class=\"sk-toggleable__control sk-hidden--visually\" id=UUID('b6db7007-b7fd-4da1-80aa-c217cf6a7370') type=\"checkbox\" checked><label for=UUID('b6db7007-b7fd-4da1-80aa-c217cf6a7370') class='sk-toggleable__label sk-toggleable__label-arrow'>KNeighborsTimeSeriesClassifier</label><div class=\"sk-toggleable__content\"><pre>KNeighborsTimeSeriesClassifier(n_jobs=-1, n_neighbors=2)</pre></div></div></div></div></div>"
     },
     "execution_count": 15,
     "metadata": {},
     "output_type": "execute_result"
    }
   ],
   "source": [
    "knn = KNeighborsTimeSeriesClassifier(**best_params)\n",
    "knn.fit(X_train, y_train)"
   ],
   "metadata": {
    "collapsed": false,
    "ExecuteTime": {
     "end_time": "2023-06-21T15:51:51.863952Z",
     "start_time": "2023-06-21T15:51:51.857578Z"
    }
   }
  },
  {
   "cell_type": "code",
   "execution_count": 16,
   "outputs": [
    {
     "name": "stdout",
     "output_type": "stream",
     "text": [
      "              precision    recall  f1-score   support\n",
      "\n",
      "        song       0.43      0.63      0.51       264\n",
      "      speech       0.58      0.38      0.46       360\n",
      "\n",
      "    accuracy                           0.48       624\n",
      "   macro avg       0.50      0.50      0.48       624\n",
      "weighted avg       0.52      0.48      0.48       624\n",
      "\n"
     ]
    }
   ],
   "source": [
    "y_pred = knn.predict(X_test)\n",
    "print(classification_report(y_test, y_pred))"
   ],
   "metadata": {
    "collapsed": false,
    "ExecuteTime": {
     "end_time": "2023-06-21T15:51:53.692303Z",
     "start_time": "2023-06-21T15:51:51.864958Z"
    }
   }
  },
  {
   "cell_type": "markdown",
   "source": [
    "# Shapelets"
   ],
   "metadata": {
    "collapsed": false
   }
  },
  {
   "cell_type": "code",
   "execution_count": 17,
   "outputs": [],
   "source": [
    "from pyts.transformation import ShapeletTransform\n",
    "\n"
   ],
   "metadata": {
    "collapsed": false,
    "ExecuteTime": {
     "end_time": "2023-06-21T15:51:53.728976Z",
     "start_time": "2023-06-21T15:51:53.693052Z"
    }
   }
  }
 ],
 "metadata": {
  "kernelspec": {
   "display_name": "Python 3",
   "language": "python",
   "name": "python3"
  },
  "language_info": {
   "codemirror_mode": {
    "name": "ipython",
    "version": 2
   },
   "file_extension": ".py",
   "mimetype": "text/x-python",
   "name": "python",
   "nbconvert_exporter": "python",
   "pygments_lexer": "ipython2",
   "version": "2.7.6"
  }
 },
 "nbformat": 4,
 "nbformat_minor": 0
}
