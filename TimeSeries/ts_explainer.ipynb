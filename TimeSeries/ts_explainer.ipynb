{
 "cells": [
  {
   "cell_type": "code",
   "execution_count": 1,
   "metadata": {
    "ExecuteTime": {
     "end_time": "2023-06-26T15:10:24.956726Z",
     "start_time": "2023-06-26T15:10:24.954382Z"
    }
   },
   "outputs": [],
   "source": [
    "import os\n",
    "import numpy as np\n",
    "import pandas as pd\n",
    "import matplotlib.pyplot as plt\n",
    "import seaborn as sns; sns.set()\n",
    "\n",
    "import sys\n",
    "sys.path.append('../')\n",
    "import default_style"
   ]
  },
  {
   "cell_type": "code",
   "execution_count": 2,
   "metadata": {
    "ExecuteTime": {
     "end_time": "2023-06-26T15:10:24.966635Z",
     "start_time": "2023-06-26T15:10:24.957647Z"
    }
   },
   "outputs": [],
   "source": [
    "TS_DATASET_FOLDER = os.path.join('..', 'dataset')\n",
    "TS_PREPROC_FOLDER = os.path.join(TS_DATASET_FOLDER, 'preprocessed_traces')\n",
    "DF_PREPROC_FILE = os.path.join(TS_PREPROC_FOLDER, 'preproc_ts.df')\n",
    "\n",
    "TARGET = 'statement'\n",
    "TRACES = 'syllables_02_STFT'"
   ]
  },
  {
   "cell_type": "code",
   "execution_count": 3,
   "metadata": {
    "ExecuteTime": {
     "end_time": "2023-06-26T15:10:24.995692Z",
     "start_time": "2023-06-26T15:10:24.959858Z"
    }
   },
   "outputs": [
    {
     "data": {
      "text/html": [
       "<div>\n",
       "<style scoped>\n",
       "    .dataframe tbody tr th:only-of-type {\n",
       "        vertical-align: middle;\n",
       "    }\n",
       "\n",
       "    .dataframe tbody tr th {\n",
       "        vertical-align: top;\n",
       "    }\n",
       "\n",
       "    .dataframe thead th {\n",
       "        text-align: right;\n",
       "    }\n",
       "</style>\n",
       "<table border=\"1\" class=\"dataframe\">\n",
       "  <thead>\n",
       "    <tr style=\"text-align: right;\">\n",
       "      <th></th>\n",
       "      <th>vocal_channel</th>\n",
       "      <th>emotion</th>\n",
       "      <th>emotional_intensity</th>\n",
       "      <th>statement</th>\n",
       "      <th>repetition</th>\n",
       "      <th>actor</th>\n",
       "      <th>path</th>\n",
       "      <th>sex</th>\n",
       "      <th>begin_s</th>\n",
       "      <th>end_s</th>\n",
       "      <th>...</th>\n",
       "      <th>filtered_fourier_coeffs</th>\n",
       "      <th>syll_0_start_index</th>\n",
       "      <th>syll_1_start_index</th>\n",
       "      <th>syll_2_start_index</th>\n",
       "      <th>syll_3_start_index</th>\n",
       "      <th>syll_4_start_index</th>\n",
       "      <th>syll_5_start_index</th>\n",
       "      <th>syll_6_start_index</th>\n",
       "      <th>syll_7_start_index</th>\n",
       "      <th>actor_number</th>\n",
       "    </tr>\n",
       "  </thead>\n",
       "  <tbody>\n",
       "    <tr>\n",
       "      <th>0</th>\n",
       "      <td>speech</td>\n",
       "      <td>neutral</td>\n",
       "      <td>normal</td>\n",
       "      <td>kids</td>\n",
       "      <td>1st</td>\n",
       "      <td>actor_01</td>\n",
       "      <td>../dataset/Audio_Speech_Actors_01-24/Actor_01/...</td>\n",
       "      <td>M</td>\n",
       "      <td>1.009833</td>\n",
       "      <td>2.252000</td>\n",
       "      <td>...</td>\n",
       "      <td>[1.9371510e-07 1.2311473e-02 1.1168692e-02 ......</td>\n",
       "      <td>0</td>\n",
       "      <td>1128</td>\n",
       "      <td>2240</td>\n",
       "      <td>3200</td>\n",
       "      <td>4304</td>\n",
       "      <td>5208</td>\n",
       "      <td>5808</td>\n",
       "      <td>7448</td>\n",
       "      <td>1</td>\n",
       "    </tr>\n",
       "    <tr>\n",
       "      <th>1</th>\n",
       "      <td>speech</td>\n",
       "      <td>neutral</td>\n",
       "      <td>normal</td>\n",
       "      <td>kids</td>\n",
       "      <td>2nd</td>\n",
       "      <td>actor_01</td>\n",
       "      <td>../dataset/Audio_Speech_Actors_01-24/Actor_01/...</td>\n",
       "      <td>M</td>\n",
       "      <td>1.068500</td>\n",
       "      <td>2.294667</td>\n",
       "      <td>...</td>\n",
       "      <td>[3.5017729e-07 2.6198970e-02 2.5683273e-02 ......</td>\n",
       "      <td>0</td>\n",
       "      <td>2008</td>\n",
       "      <td>3208</td>\n",
       "      <td>3880</td>\n",
       "      <td>4224</td>\n",
       "      <td>5112</td>\n",
       "      <td>5800</td>\n",
       "      <td>7352</td>\n",
       "      <td>1</td>\n",
       "    </tr>\n",
       "    <tr>\n",
       "      <th>2</th>\n",
       "      <td>speech</td>\n",
       "      <td>neutral</td>\n",
       "      <td>normal</td>\n",
       "      <td>dogs</td>\n",
       "      <td>1st</td>\n",
       "      <td>actor_01</td>\n",
       "      <td>../dataset/Audio_Speech_Actors_01-24/Actor_01/...</td>\n",
       "      <td>M</td>\n",
       "      <td>1.012000</td>\n",
       "      <td>2.238500</td>\n",
       "      <td>...</td>\n",
       "      <td>[2.49594450e-07 1.23483688e-02 1.06786685e-02 ...</td>\n",
       "      <td>0</td>\n",
       "      <td>2816</td>\n",
       "      <td>3352</td>\n",
       "      <td>3912</td>\n",
       "      <td>4296</td>\n",
       "      <td>5232</td>\n",
       "      <td>5880</td>\n",
       "      <td>7352</td>\n",
       "      <td>1</td>\n",
       "    </tr>\n",
       "    <tr>\n",
       "      <th>3</th>\n",
       "      <td>speech</td>\n",
       "      <td>neutral</td>\n",
       "      <td>normal</td>\n",
       "      <td>dogs</td>\n",
       "      <td>2nd</td>\n",
       "      <td>actor_01</td>\n",
       "      <td>../dataset/Audio_Speech_Actors_01-24/Actor_01/...</td>\n",
       "      <td>M</td>\n",
       "      <td>1.008833</td>\n",
       "      <td>2.187167</td>\n",
       "      <td>...</td>\n",
       "      <td>[1.1920929e-07 1.2154780e-02 1.6620707e-02 ......</td>\n",
       "      <td>0</td>\n",
       "      <td>1664</td>\n",
       "      <td>2664</td>\n",
       "      <td>3208</td>\n",
       "      <td>3672</td>\n",
       "      <td>4840</td>\n",
       "      <td>5448</td>\n",
       "      <td>7064</td>\n",
       "      <td>1</td>\n",
       "    </tr>\n",
       "    <tr>\n",
       "      <th>4</th>\n",
       "      <td>speech</td>\n",
       "      <td>calm</td>\n",
       "      <td>normal</td>\n",
       "      <td>kids</td>\n",
       "      <td>1st</td>\n",
       "      <td>actor_01</td>\n",
       "      <td>../dataset/Audio_Speech_Actors_01-24/Actor_01/...</td>\n",
       "      <td>M</td>\n",
       "      <td>1.023667</td>\n",
       "      <td>2.534167</td>\n",
       "      <td>...</td>\n",
       "      <td>[1.1920929e-07 2.0026902e-03 7.9688808e-04 ......</td>\n",
       "      <td>0</td>\n",
       "      <td>2088</td>\n",
       "      <td>3584</td>\n",
       "      <td>4832</td>\n",
       "      <td>5800</td>\n",
       "      <td>6944</td>\n",
       "      <td>7560</td>\n",
       "      <td>9056</td>\n",
       "      <td>1</td>\n",
       "    </tr>\n",
       "  </tbody>\n",
       "</table>\n",
       "<p>5 rows × 21 columns</p>\n",
       "</div>"
      ],
      "text/plain": [
       "  vocal_channel  emotion emotional_intensity statement repetition     actor  \\\n",
       "0        speech  neutral              normal      kids        1st  actor_01   \n",
       "1        speech  neutral              normal      kids        2nd  actor_01   \n",
       "2        speech  neutral              normal      dogs        1st  actor_01   \n",
       "3        speech  neutral              normal      dogs        2nd  actor_01   \n",
       "4        speech     calm              normal      kids        1st  actor_01   \n",
       "\n",
       "                                                path sex   begin_s     end_s  \\\n",
       "0  ../dataset/Audio_Speech_Actors_01-24/Actor_01/...   M  1.009833  2.252000   \n",
       "1  ../dataset/Audio_Speech_Actors_01-24/Actor_01/...   M  1.068500  2.294667   \n",
       "2  ../dataset/Audio_Speech_Actors_01-24/Actor_01/...   M  1.012000  2.238500   \n",
       "3  ../dataset/Audio_Speech_Actors_01-24/Actor_01/...   M  1.008833  2.187167   \n",
       "4  ../dataset/Audio_Speech_Actors_01-24/Actor_01/...   M  1.023667  2.534167   \n",
       "\n",
       "   ...                            filtered_fourier_coeffs syll_0_start_index  \\\n",
       "0  ...  [1.9371510e-07 1.2311473e-02 1.1168692e-02 ......                  0   \n",
       "1  ...  [3.5017729e-07 2.6198970e-02 2.5683273e-02 ......                  0   \n",
       "2  ...  [2.49594450e-07 1.23483688e-02 1.06786685e-02 ...                  0   \n",
       "3  ...  [1.1920929e-07 1.2154780e-02 1.6620707e-02 ......                  0   \n",
       "4  ...  [1.1920929e-07 2.0026902e-03 7.9688808e-04 ......                  0   \n",
       "\n",
       "   syll_1_start_index  syll_2_start_index  syll_3_start_index  \\\n",
       "0                1128                2240                3200   \n",
       "1                2008                3208                3880   \n",
       "2                2816                3352                3912   \n",
       "3                1664                2664                3208   \n",
       "4                2088                3584                4832   \n",
       "\n",
       "   syll_4_start_index  syll_5_start_index  syll_6_start_index  \\\n",
       "0                4304                5208                5808   \n",
       "1                4224                5112                5800   \n",
       "2                4296                5232                5880   \n",
       "3                3672                4840                5448   \n",
       "4                5800                6944                7560   \n",
       "\n",
       "   syll_7_start_index  actor_number  \n",
       "0                7448             1  \n",
       "1                7352             1  \n",
       "2                7352             1  \n",
       "3                7064             1  \n",
       "4                9056             1  \n",
       "\n",
       "[5 rows x 21 columns]"
      ]
     },
     "execution_count": 3,
     "metadata": {},
     "output_type": "execute_result"
    }
   ],
   "source": [
    "df = pd.read_csv(DF_PREPROC_FILE).drop(columns=['Unnamed: 0'])\n",
    "df[\"actor_number\"] = df.actor.apply(lambda x: int(x.split(\"_\")[1]))\n",
    "df.head()"
   ]
  },
  {
   "cell_type": "code",
   "execution_count": 4,
   "metadata": {
    "ExecuteTime": {
     "end_time": "2023-06-26T15:10:24.996125Z",
     "start_time": "2023-06-26T15:10:24.982179Z"
    }
   },
   "outputs": [],
   "source": [
    "traces_dict = {}\n",
    "files = os.listdir(TS_PREPROC_FOLDER)\n",
    "\n",
    "# SORRY PAOLINO BUT I HAVE A CHICCO PC AND I CANNOT LOAD IT ALL\n",
    "\n",
    "# for file in files:\n",
    "\n",
    "#     if file.endswith('.npy'):\n",
    "#         file_path = os.path.join(TS_PREPROC_FOLDER, file)\n",
    "#         # dictionary keys are the file names\n",
    "#         key = os.path.splitext(file)[0]\n",
    "#         # load array\n",
    "#         traces_dict[key] = np.load(file_path, allow_pickle=True)\n",
    "\n",
    "# traces_dict.keys()\n",
    "\n",
    "file_path = os.path.join(TS_PREPROC_FOLDER, f\"{TRACES}.npy\")\n",
    "traces_dict[TRACES] = np.load(file_path, allow_pickle=True)\n"
   ]
  },
  {
   "cell_type": "code",
   "execution_count": 5,
   "metadata": {
    "ExecuteTime": {
     "end_time": "2023-06-26T15:10:24.996511Z",
     "start_time": "2023-06-26T15:10:24.992210Z"
    }
   },
   "outputs": [
    {
     "data": {
      "text/plain": [
       "(2452, 27, 27)"
      ]
     },
     "execution_count": 5,
     "metadata": {},
     "output_type": "execute_result"
    }
   ],
   "source": [
    "traces = traces_dict[TRACES]\n",
    "traces.shape"
   ]
  },
  {
   "cell_type": "code",
   "execution_count": 6,
   "metadata": {
    "ExecuteTime": {
     "end_time": "2023-06-26T15:10:25.183701Z",
     "start_time": "2023-06-26T15:10:24.995555Z"
    }
   },
   "outputs": [
    {
     "data": {
      "image/png": "[encoded data removed]",
      "text/plain": [
       "<Figure size 354.331x236.22 with 1 Axes>"
      ]
     },
     "metadata": {},
     "output_type": "display_data"
    }
   ],
   "source": [
    "index = 0\n",
    "statement = df['statement'][index]\n",
    "plt.plot(traces[index])\n",
    "plt.title(f'Time series at row #{index}, statement: {statement}')\n",
    "plt.show()"
   ]
  },
  {
   "cell_type": "code",
   "execution_count": 7,
   "metadata": {},
   "outputs": [
    {
     "name": "stderr",
     "output_type": "stream",
     "text": [
      "C:\\Users\\emanu\\.virtualenvs\\DM2-HUE9YkAX\\Lib\\site-packages\\IPython\\core\\events.py:93: UserWarning: This figure includes Axes that are not compatible with tight_layout, so results might be incorrect.\n",
      "  func(*args, **kwargs)\n",
      "C:\\Users\\emanu\\.virtualenvs\\DM2-HUE9YkAX\\Lib\\site-packages\\IPython\\core\\pylabtools.py:152: UserWarning: This figure includes Axes that are not compatible with tight_layout, so results might be incorrect.\n",
      "  fig.canvas.print_figure(bytes_io, **kw)\n"
     ]
    },
    {
     "data": {
      "image/png": "[encoded data removed]",
      "text/plain": [
       "<Figure size 400x400 with 1 Axes>"
      ]
     },
     "metadata": {},
     "output_type": "display_data"
    }
   ],
   "source": [
    "plt.matshow(traces[index]);plt.grid(ls=\"\")\n",
    "plt.title(\"axis 0 is time, axis 1 is freq\");"
   ]
  },
  {
   "cell_type": "code",
   "execution_count": 91,
   "metadata": {
    "ExecuteTime": {
     "end_time": "2023-06-25T16:50:56.578540Z",
     "start_time": "2023-06-25T16:50:56.407787Z"
    },
    "scrolled": true
   },
   "outputs": [
    {
     "data": {
      "text/plain": [
       "((1545, 27, 27), (387, 27, 27), (520, 27, 27), (1545,), (387,), (520,))"
      ]
     },
     "execution_count": 91,
     "metadata": {},
     "output_type": "execute_result"
    }
   ],
   "source": [
    "from sklearn.model_selection import train_test_split\n",
    "\n",
    "# Sets tests to be over actor 19 (excluded)\n",
    "X_test = traces[df.actor_number > 19]\n",
    "y_test = df[TARGET][df.actor_number > 19].to_numpy()\n",
    "\n",
    "# Sets the train and validation inside actors < 19\n",
    "X_train, X_val, y_train, y_val = train_test_split(  traces[df.actor_number <= 19], \n",
    "                                                    df[TARGET][df.actor_number <= 19].to_numpy(), \n",
    "                                                    test_size=0.2, random_state=100)\n",
    "\n",
    "X_train.shape, X_val.shape, X_test.shape, y_train.shape, y_val.shape, y_test.shape"
   ]
  },
  {
   "cell_type": "markdown",
   "metadata": {},
   "source": [
    "# CNN for statement and syllables 0&2"
   ]
  },
  {
   "cell_type": "code",
   "execution_count": 9,
   "metadata": {
    "ExecuteTime": {
     "end_time": "2023-06-26T15:10:25.350865Z",
     "start_time": "2023-06-26T15:10:25.348178Z"
    }
   },
   "outputs": [],
   "source": [
    "from sklearn.preprocessing import LabelEncoder\n",
    "\n",
    "label_encoder = LabelEncoder()\n",
    "\n",
    "y_train = label_encoder.fit_transform(y_train)\n",
    "y_val = label_encoder.transform(y_val)\n",
    "y_test = label_encoder.transform(y_test)"
   ]
  },
  {
   "cell_type": "code",
   "execution_count": 10,
   "metadata": {
    "ExecuteTime": {
     "end_time": "2023-06-26T15:10:27.917229Z",
     "start_time": "2023-06-26T15:10:25.357912Z"
    }
   },
   "outputs": [],
   "source": [
    "import optuna\n",
    "from keras.layers import BatchNormalization, Activation\n",
    "from keras.models import Sequential\n",
    "from keras.layers import Dense, Conv1D, Dropout, GlobalAveragePooling1D\n",
    "from sklearn.metrics import accuracy_score\n",
    "\n",
    "def build_model(input_shape, n_categories,\n",
    "                n_conv=0, n_hidden=0, hidden_nodes=32,\n",
    "                dropout=0.01, filters=8, kernel_size=5, **kwargs):\n",
    "    \n",
    "    # Stuff must be given in (timestep, spectral_coeff) format\n",
    "    n_timesteps = input_shape[0]\n",
    "    n_features = input_shape[1]\n",
    "\n",
    "    model = Sequential()\n",
    "\n",
    "    model.add(Conv1D(filters=filters,\n",
    "                     kernel_size=kernel_size,\n",
    "                     activation='relu',\n",
    "                     input_shape=(n_timesteps, n_features),\n",
    "                     name=\"base_conv\"\n",
    "                     ))\n",
    "    model.add(BatchNormalization())\n",
    "    model.add(Activation('relu'))\n",
    "\n",
    "    for i in range(n_conv):\n",
    "        model.add(Conv1D(filters=filters, kernel_size=kernel_size, activation='relu', name=f\"extra_conv_{i}\"))\n",
    "        model.add(BatchNormalization())\n",
    "        model.add(Activation('relu'))\n",
    "\n",
    "        model.add(Dropout(dropout))\n",
    "\n",
    "    model.add(GlobalAveragePooling1D())\n",
    "\n",
    "    for i in range(n_hidden):\n",
    "        model.add(Dense(hidden_nodes, activation='relu'))\n",
    "\n",
    "    model.add(Dense(n_categories, activation='softmax'))    \n",
    "    model.compile(loss='sparse_categorical_crossentropy', optimizer='adam', metrics=['accuracy'])\n",
    "    \n",
    "    return model"
   ]
  },
  {
   "cell_type": "code",
   "execution_count": 11,
   "metadata": {
    "ExecuteTime": {
     "end_time": "2023-06-26T15:10:30.156043Z",
     "start_time": "2023-06-26T15:10:27.917917Z"
    }
   },
   "outputs": [
    {
     "name": "stdout",
     "output_type": "stream",
     "text": [
      "Model: \"sequential\"\n",
      "_________________________________________________________________\n",
      " Layer (type)                Output Shape              Param #   \n",
      "=================================================================\n",
      " base_conv (Conv1D)          (None, 23, 8)             1088      \n",
      "                                                                 \n",
      " batch_normalization (BatchN  (None, 23, 8)            32        \n",
      " ormalization)                                                   \n",
      "                                                                 \n",
      " activation (Activation)     (None, 23, 8)             0         \n",
      "                                                                 \n",
      " extra_conv_0 (Conv1D)       (None, 19, 8)             328       \n",
      "                                                                 \n",
      " batch_normalization_1 (Batc  (None, 19, 8)            32        \n",
      " hNormalization)                                                 \n",
      "                                                                 \n",
      " activation_1 (Activation)   (None, 19, 8)             0         \n",
      "                                                                 \n",
      " dropout (Dropout)           (None, 19, 8)             0         \n",
      "                                                                 \n",
      " extra_conv_1 (Conv1D)       (None, 15, 8)             328       \n",
      "                                                                 \n",
      " batch_normalization_2 (Batc  (None, 15, 8)            32        \n",
      " hNormalization)                                                 \n",
      "                                                                 \n",
      " activation_2 (Activation)   (None, 15, 8)             0         \n",
      "                                                                 \n",
      " dropout_1 (Dropout)         (None, 15, 8)             0         \n",
      "                                                                 \n",
      " global_average_pooling1d (G  (None, 8)                0         \n",
      " lobalAveragePooling1D)                                          \n",
      "                                                                 \n",
      " dense (Dense)               (None, 256)               2304      \n",
      "                                                                 \n",
      " dense_1 (Dense)             (None, 256)               65792     \n",
      "                                                                 \n",
      " dense_2 (Dense)             (None, 256)               65792     \n",
      "                                                                 \n",
      " dense_3 (Dense)             (None, 2)                 514       \n",
      "                                                                 \n",
      "=================================================================\n",
      "Total params: 136,242\n",
      "Trainable params: 136,194\n",
      "Non-trainable params: 48\n",
      "_________________________________________________________________\n",
      "Epoch 1/8\n",
      "49/49 [==============================] - 2s 4ms/step - loss: 0.6080 - accuracy: 0.6790\n",
      "Epoch 2/8\n",
      "49/49 [==============================] - 0s 3ms/step - loss: 0.4045 - accuracy: 0.8317\n",
      "Epoch 3/8\n",
      "49/49 [==============================] - 0s 3ms/step - loss: 0.3020 - accuracy: 0.8725\n",
      "Epoch 4/8\n",
      "49/49 [==============================] - 0s 4ms/step - loss: 0.2289 - accuracy: 0.9074\n",
      "Epoch 5/8\n",
      "49/49 [==============================] - 0s 4ms/step - loss: 0.1879 - accuracy: 0.9320\n",
      "Epoch 6/8\n",
      "49/49 [==============================] - 0s 3ms/step - loss: 0.1553 - accuracy: 0.9417\n",
      "Epoch 7/8\n",
      "49/49 [==============================] - 0s 4ms/step - loss: 0.1413 - accuracy: 0.9430\n",
      "Epoch 8/8\n",
      "49/49 [==============================] - 0s 4ms/step - loss: 0.1007 - accuracy: 0.9631\n"
     ]
    },
    {
     "data": {
      "text/plain": [
       "<keras.callbacks.History at 0x1c3b769dc50>"
      ]
     },
     "execution_count": 11,
     "metadata": {},
     "output_type": "execute_result"
    }
   ],
   "source": [
    "# Test to check the accuracy of a \"belly\" network\n",
    "test_model = build_model((27,27), 2, \n",
    "                         n_conv=2, n_hidden=3, hidden_nodes=256)\n",
    "test_model.summary()\n",
    "test_model.fit(X_train, y_train,  verbose=True, epochs=8)"
   ]
  },
  {
   "cell_type": "code",
   "execution_count": 12,
   "metadata": {
    "ExecuteTime": {
     "end_time": "2023-06-26T15:10:30.160665Z",
     "start_time": "2023-06-26T15:10:30.159097Z"
    }
   },
   "outputs": [
    {
     "name": "stderr",
     "output_type": "stream",
     "text": [
      "[I 2023-06-28 12:11:36,474] A new study created in memory with name: no-name-0b5937c3-6213-4a40-9991-07bcb7b8e253\n"
     ]
    },
    {
     "name": "stdout",
     "output_type": "stream",
     "text": [
      "Running little bitch having n_conv=0, dropout=0.07896851400605223, hidden_nodes=209\n",
      "Running little bitch having n_conv=2, dropout=0.12824893861071904, hidden_nodes=128\n",
      "Running little bitch having n_conv=1, dropout=0.061452943658316043, hidden_nodes=107\n",
      "Running little bitch having n_conv=2, dropout=0.005889247414426158, hidden_nodes=80\n",
      "Running little bitch having n_conv=2, dropout=0.10209661201214798, hidden_nodes=256\n",
      "Running little bitch having n_conv=2, dropout=0.03247492802568099, hidden_nodes=139\n",
      "Running little bitch having n_conv=0, dropout=0.10653963591589853, hidden_nodes=126\n",
      "Running little bitch having n_conv=3, dropout=0.16823868784296886, hidden_nodes=30\n"
     ]
    },
    {
     "name": "stderr",
     "output_type": "stream",
     "text": [
      "[W 2023-06-28 12:11:36,663] Trial 2 failed with parameters: {'n_conv': 2, 'n_hidden': 0, 'hidden_nodes': 128, 'dropout': 0.12824893861071904, 'filters': 9, 'kernel_size': 15, 'batch_size': 51, 'epochs': 63} because of the following error: ValueError('One of the dimensions in the output is <= 0 due to downsampling in extra_conv_0. Consider increasing the input size. Received input shape [None, 13, 9] which would produce output shape with a zero or negative value in a dimension.').\n",
      "Traceback (most recent call last):\n",
      "  File \"C:\\Users\\emanu\\.virtualenvs\\DM2-HUE9YkAX\\Lib\\site-packages\\optuna\\study\\_optimize.py\", line 200, in _run_trial\n",
      "    value_or_values = func(trial)\n",
      "                      ^^^^^^^^^^^\n",
      "  File \"C:\\Users\\emanu\\AppData\\Local\\Temp\\ipykernel_33832\\1072382922.py\", line 34, in <lambda>\n",
      "    trial_function = lambda trial: objective_fun(trial,\n",
      "                                  ^^^^^^^^^^^^^^^^^^^^^\n",
      "  File \"C:\\Users\\emanu\\AppData\\Local\\Temp\\ipykernel_33832\\1072382922.py\", line 15, in objective_fun\n",
      "    cnn = build_model(  X.shape[1:], len(np.unique(y)),\n",
      "          ^^^^^^^^^^^^^^^^^^^^^^^^^^^^^^^^^^^^^^^^^^^^^\n",
      "  File \"C:\\Users\\emanu\\AppData\\Local\\Temp\\ipykernel_33832\\1937663146.py\", line 27, in build_model\n",
      "    model.add(Conv1D(filters=filters, kernel_size=kernel_size, activation='relu', name=f\"extra_conv_{i}\"))\n",
      "  File \"C:\\Users\\emanu\\.virtualenvs\\DM2-HUE9YkAX\\Lib\\site-packages\\tensorflow\\python\\trackable\\base.py\", line 205, in _method_wrapper\n",
      "    result = method(self, *args, **kwargs)\n",
      "             ^^^^^^^^^^^^^^^^^^^^^^^^^^^^^\n",
      "  File \"C:\\Users\\emanu\\.virtualenvs\\DM2-HUE9YkAX\\Lib\\site-packages\\keras\\utils\\traceback_utils.py\", line 70, in error_handler\n",
      "    raise e.with_traceback(filtered_tb) from None\n",
      "  File \"C:\\Users\\emanu\\.virtualenvs\\DM2-HUE9YkAX\\Lib\\site-packages\\keras\\layers\\convolutional\\base_conv.py\", line 354, in compute_output_shape\n",
      "    raise ValueError(\n",
      "ValueError: One of the dimensions in the output is <= 0 due to downsampling in extra_conv_0. Consider increasing the input size. Received input shape [None, 13, 9] which would produce output shape with a zero or negative value in a dimension.\n",
      "[W 2023-06-28 12:11:36,747] Trial 2 failed with value None.\n",
      "[W 2023-06-28 12:11:36,910] Trial 4 failed with parameters: {'n_conv': 2, 'n_hidden': 3, 'hidden_nodes': 256, 'dropout': 0.10209661201214798, 'filters': 12, 'kernel_size': 11, 'batch_size': 44, 'epochs': 14} because of the following error: ValueError('One of the dimensions in the output is <= 0 due to downsampling in extra_conv_1. Consider increasing the input size. Received input shape [None, 7, 12] which would produce output shape with a zero or negative value in a dimension.').\n",
      "Traceback (most recent call last):\n",
      "  File \"C:\\Users\\emanu\\.virtualenvs\\DM2-HUE9YkAX\\Lib\\site-packages\\optuna\\study\\_optimize.py\", line 200, in _run_trial\n",
      "    value_or_values = func(trial)\n",
      "                      ^^^^^^^^^^^\n",
      "  File \"C:\\Users\\emanu\\AppData\\Local\\Temp\\ipykernel_33832\\1072382922.py\", line 34, in <lambda>\n",
      "    trial_function = lambda trial: objective_fun(trial,\n",
      "                                  ^^^^^^^^^^^^^^^^^^^^^\n",
      "  File \"C:\\Users\\emanu\\AppData\\Local\\Temp\\ipykernel_33832\\1072382922.py\", line 15, in objective_fun\n",
      "    cnn = build_model(  X.shape[1:], len(np.unique(y)),\n",
      "          ^^^^^^^^^^^^^^^^^^^^^^^^^^^^^^^^^^^^^^^^^^^^^\n",
      "  File \"C:\\Users\\emanu\\AppData\\Local\\Temp\\ipykernel_33832\\1937663146.py\", line 27, in build_model\n",
      "    model.add(Conv1D(filters=filters, kernel_size=kernel_size, activation='relu', name=f\"extra_conv_{i}\"))\n",
      "  File \"C:\\Users\\emanu\\.virtualenvs\\DM2-HUE9YkAX\\Lib\\site-packages\\tensorflow\\python\\trackable\\base.py\", line 205, in _method_wrapper\n",
      "    result = method(self, *args, **kwargs)\n",
      "             ^^^^^^^^^^^^^^^^^^^^^^^^^^^^^\n",
      "  File \"C:\\Users\\emanu\\.virtualenvs\\DM2-HUE9YkAX\\Lib\\site-packages\\keras\\utils\\traceback_utils.py\", line 70, in error_handler\n",
      "    raise e.with_traceback(filtered_tb) from None\n",
      "  File \"C:\\Users\\emanu\\.virtualenvs\\DM2-HUE9YkAX\\Lib\\site-packages\\keras\\layers\\convolutional\\base_conv.py\", line 354, in compute_output_shape\n",
      "    raise ValueError(\n",
      "ValueError: One of the dimensions in the output is <= 0 due to downsampling in extra_conv_1. Consider increasing the input size. Received input shape [None, 7, 12] which would produce output shape with a zero or negative value in a dimension.\n",
      "[W 2023-06-28 12:11:36,935] Trial 4 failed with value None.\n"
     ]
    },
    {
     "name": "stdout",
     "output_type": "stream",
     "text": [
      "Running little bitch having n_conv=3, dropout=0.0033071865774166433, hidden_nodes=45\n",
      "Running little bitch having n_conv=3, dropout=0.003044693580270286, hidden_nodes=255\n"
     ]
    },
    {
     "name": "stderr",
     "output_type": "stream",
     "text": [
      "[W 2023-06-28 12:11:37,014] Trial 3 failed with parameters: {'n_conv': 2, 'n_hidden': 2, 'hidden_nodes': 80, 'dropout': 0.005889247414426158, 'filters': 12, 'kernel_size': 14, 'batch_size': 25, 'epochs': 48} because of the following error: ValueError('One of the dimensions in the output is <= 0 due to downsampling in extra_conv_1. Consider increasing the input size. Received input shape [None, 1, 12] which would produce output shape with a zero or negative value in a dimension.').\n",
      "Traceback (most recent call last):\n",
      "  File \"C:\\Users\\emanu\\.virtualenvs\\DM2-HUE9YkAX\\Lib\\site-packages\\optuna\\study\\_optimize.py\", line 200, in _run_trial\n",
      "    value_or_values = func(trial)\n",
      "                      ^^^^^^^^^^^\n",
      "  File \"C:\\Users\\emanu\\AppData\\Local\\Temp\\ipykernel_33832\\1072382922.py\", line 34, in <lambda>\n",
      "    trial_function = lambda trial: objective_fun(trial,\n",
      "                                  ^^^^^^^^^^^^^^^^^^^^^\n",
      "  File \"C:\\Users\\emanu\\AppData\\Local\\Temp\\ipykernel_33832\\1072382922.py\", line 15, in objective_fun\n",
      "    cnn = build_model(  X.shape[1:], len(np.unique(y)),\n",
      "          ^^^^^^^^^^^^^^^^^^^^^^^^^^^^^^^^^^^^^^^^^^^^^\n",
      "  File \"C:\\Users\\emanu\\AppData\\Local\\Temp\\ipykernel_33832\\1937663146.py\", line 27, in build_model\n",
      "    model.add(Conv1D(filters=filters, kernel_size=kernel_size, activation='relu', name=f\"extra_conv_{i}\"))\n",
      "  File \"C:\\Users\\emanu\\.virtualenvs\\DM2-HUE9YkAX\\Lib\\site-packages\\tensorflow\\python\\trackable\\base.py\", line 205, in _method_wrapper\n",
      "    result = method(self, *args, **kwargs)\n",
      "             ^^^^^^^^^^^^^^^^^^^^^^^^^^^^^\n",
      "  File \"C:\\Users\\emanu\\.virtualenvs\\DM2-HUE9YkAX\\Lib\\site-packages\\keras\\utils\\traceback_utils.py\", line 70, in error_handler\n",
      "    raise e.with_traceback(filtered_tb) from None\n",
      "  File \"C:\\Users\\emanu\\.virtualenvs\\DM2-HUE9YkAX\\Lib\\site-packages\\keras\\layers\\convolutional\\base_conv.py\", line 354, in compute_output_shape\n",
      "    raise ValueError(\n",
      "ValueError: One of the dimensions in the output is <= 0 due to downsampling in extra_conv_1. Consider increasing the input size. Received input shape [None, 1, 12] which would produce output shape with a zero or negative value in a dimension.\n",
      "[W 2023-06-28 12:11:37,027] Trial 3 failed with value None.\n",
      "[W 2023-06-28 12:11:37,105] Trial 8 failed with parameters: {'n_conv': 3, 'n_hidden': 1, 'hidden_nodes': 45, 'dropout': 0.0033071865774166433, 'filters': 6, 'kernel_size': 11, 'batch_size': 28, 'epochs': 22} because of the following error: ValueError('One of the dimensions in the output is <= 0 due to downsampling in extra_conv_1. Consider increasing the input size. Received input shape [None, 7, 6] which would produce output shape with a zero or negative value in a dimension.').\n",
      "Traceback (most recent call last):\n",
      "  File \"C:\\Users\\emanu\\.virtualenvs\\DM2-HUE9YkAX\\Lib\\site-packages\\optuna\\study\\_optimize.py\", line 200, in _run_trial\n",
      "    value_or_values = func(trial)\n",
      "                      ^^^^^^^^^^^\n",
      "  File \"C:\\Users\\emanu\\AppData\\Local\\Temp\\ipykernel_33832\\1072382922.py\", line 34, in <lambda>\n",
      "    trial_function = lambda trial: objective_fun(trial,\n",
      "                                  ^^^^^^^^^^^^^^^^^^^^^\n",
      "  File \"C:\\Users\\emanu\\AppData\\Local\\Temp\\ipykernel_33832\\1072382922.py\", line 15, in objective_fun\n",
      "    cnn = build_model(  X.shape[1:], len(np.unique(y)),\n",
      "          ^^^^^^^^^^^^^^^^^^^^^^^^^^^^^^^^^^^^^^^^^^^^^\n",
      "  File \"C:\\Users\\emanu\\AppData\\Local\\Temp\\ipykernel_33832\\1937663146.py\", line 27, in build_model\n",
      "    model.add(Conv1D(filters=filters, kernel_size=kernel_size, activation='relu', name=f\"extra_conv_{i}\"))\n",
      "  File \"C:\\Users\\emanu\\.virtualenvs\\DM2-HUE9YkAX\\Lib\\site-packages\\tensorflow\\python\\trackable\\base.py\", line 205, in _method_wrapper\n",
      "    result = method(self, *args, **kwargs)\n",
      "             ^^^^^^^^^^^^^^^^^^^^^^^^^^^^^\n",
      "  File \"C:\\Users\\emanu\\.virtualenvs\\DM2-HUE9YkAX\\Lib\\site-packages\\keras\\utils\\traceback_utils.py\", line 70, in error_handler\n",
      "    raise e.with_traceback(filtered_tb) from None\n",
      "  File \"C:\\Users\\emanu\\.virtualenvs\\DM2-HUE9YkAX\\Lib\\site-packages\\keras\\layers\\convolutional\\base_conv.py\", line 354, in compute_output_shape\n",
      "    raise ValueError(\n",
      "ValueError: One of the dimensions in the output is <= 0 due to downsampling in extra_conv_1. Consider increasing the input size. Received input shape [None, 7, 6] which would produce output shape with a zero or negative value in a dimension.\n",
      "[W 2023-06-28 12:11:37,128] Trial 8 failed with value None.\n"
     ]
    },
    {
     "name": "stdout",
     "output_type": "stream",
     "text": [
      "Running little bitch having n_conv=3, dropout=0.010423106076827794, hidden_nodes=213\n",
      "Running little bitch having n_conv=0, dropout=0.188207671689923, hidden_nodes=178\n"
     ]
    },
    {
     "name": "stderr",
     "output_type": "stream",
     "text": [
      "[W 2023-06-28 12:11:37,331] Trial 10 failed with parameters: {'n_conv': 3, 'n_hidden': 1, 'hidden_nodes': 213, 'dropout': 0.010423106076827794, 'filters': 5, 'kernel_size': 15, 'batch_size': 35, 'epochs': 85} because of the following error: ValueError('One of the dimensions in the output is <= 0 due to downsampling in extra_conv_0. Consider increasing the input size. Received input shape [None, 13, 5] which would produce output shape with a zero or negative value in a dimension.').\n",
      "Traceback (most recent call last):\n",
      "  File \"C:\\Users\\emanu\\.virtualenvs\\DM2-HUE9YkAX\\Lib\\site-packages\\optuna\\study\\_optimize.py\", line 200, in _run_trial\n",
      "    value_or_values = func(trial)\n",
      "                      ^^^^^^^^^^^\n",
      "  File \"C:\\Users\\emanu\\AppData\\Local\\Temp\\ipykernel_33832\\1072382922.py\", line 34, in <lambda>\n",
      "    trial_function = lambda trial: objective_fun(trial,\n",
      "                                  ^^^^^^^^^^^^^^^^^^^^^\n",
      "  File \"C:\\Users\\emanu\\AppData\\Local\\Temp\\ipykernel_33832\\1072382922.py\", line 15, in objective_fun\n",
      "    cnn = build_model(  X.shape[1:], len(np.unique(y)),\n",
      "          ^^^^^^^^^^^^^^^^^^^^^^^^^^^^^^^^^^^^^^^^^^^^^\n",
      "  File \"C:\\Users\\emanu\\AppData\\Local\\Temp\\ipykernel_33832\\1937663146.py\", line 27, in build_model\n",
      "    model.add(Conv1D(filters=filters, kernel_size=kernel_size, activation='relu', name=f\"extra_conv_{i}\"))\n",
      "  File \"C:\\Users\\emanu\\.virtualenvs\\DM2-HUE9YkAX\\Lib\\site-packages\\tensorflow\\python\\trackable\\base.py\", line 205, in _method_wrapper\n",
      "    result = method(self, *args, **kwargs)\n",
      "             ^^^^^^^^^^^^^^^^^^^^^^^^^^^^^\n",
      "  File \"C:\\Users\\emanu\\.virtualenvs\\DM2-HUE9YkAX\\Lib\\site-packages\\keras\\utils\\traceback_utils.py\", line 70, in error_handler\n",
      "    raise e.with_traceback(filtered_tb) from None\n",
      "  File \"C:\\Users\\emanu\\.virtualenvs\\DM2-HUE9YkAX\\Lib\\site-packages\\keras\\layers\\convolutional\\base_conv.py\", line 354, in compute_output_shape\n",
      "    raise ValueError(\n",
      "ValueError: One of the dimensions in the output is <= 0 due to downsampling in extra_conv_0. Consider increasing the input size. Received input shape [None, 13, 5] which would produce output shape with a zero or negative value in a dimension.\n",
      "[W 2023-06-28 12:11:37,364] Trial 10 failed with value None.\n"
     ]
    },
    {
     "name": "stdout",
     "output_type": "stream",
     "text": [
      "Running little bitch having n_conv=0, dropout=0.028536883619194844, hidden_nodes=64\n",
      "13/13 [==============================] - 0s 3ms/step\n"
     ]
    },
    {
     "name": "stderr",
     "output_type": "stream",
     "text": [
      "[I 2023-06-28 12:11:51,164] Trial 11 finished with value: 0.9612403100775194 and parameters: {'n_conv': 0, 'n_hidden': 1, 'hidden_nodes': 178, 'dropout': 0.188207671689923, 'filters': 3, 'kernel_size': 14, 'batch_size': 58, 'epochs': 34}. Best is trial 11 with value: 0.9612403100775194.\n"
     ]
    },
    {
     "name": "stdout",
     "output_type": "stream",
     "text": [
      "Running little bitch having n_conv=0, dropout=0.0334650729794995, hidden_nodes=254\n",
      "13/13 [==============================] - 1s 5ms/step\n"
     ]
    },
    {
     "name": "stderr",
     "output_type": "stream",
     "text": [
      "[I 2023-06-28 12:11:55,154] Trial 5 finished with value: 0.9638242894056848 and parameters: {'n_conv': 2, 'n_hidden': 1, 'hidden_nodes': 139, 'dropout': 0.03247492802568099, 'filters': 6, 'kernel_size': 3, 'batch_size': 41, 'epochs': 19}. Best is trial 5 with value: 0.9638242894056848.\n"
     ]
    },
    {
     "name": "stdout",
     "output_type": "stream",
     "text": [
      "Running little bitch having n_conv=1, dropout=0.16927708581636347, hidden_nodes=136\n"
     ]
    },
    {
     "name": "stderr",
     "output_type": "stream",
     "text": [
      "[W 2023-06-28 12:11:55,304] Trial 14 failed with parameters: {'n_conv': 1, 'n_hidden': 1, 'hidden_nodes': 136, 'dropout': 0.16927708581636347, 'filters': 14, 'kernel_size': 15, 'batch_size': 16, 'epochs': 74} because of the following error: ValueError('One of the dimensions in the output is <= 0 due to downsampling in extra_conv_0. Consider increasing the input size. Received input shape [None, 13, 14] which would produce output shape with a zero or negative value in a dimension.').\n",
      "Traceback (most recent call last):\n",
      "  File \"C:\\Users\\emanu\\.virtualenvs\\DM2-HUE9YkAX\\Lib\\site-packages\\optuna\\study\\_optimize.py\", line 200, in _run_trial\n",
      "    value_or_values = func(trial)\n",
      "                      ^^^^^^^^^^^\n",
      "  File \"C:\\Users\\emanu\\AppData\\Local\\Temp\\ipykernel_33832\\1072382922.py\", line 34, in <lambda>\n",
      "    trial_function = lambda trial: objective_fun(trial,\n",
      "                                  ^^^^^^^^^^^^^^^^^^^^^\n",
      "  File \"C:\\Users\\emanu\\AppData\\Local\\Temp\\ipykernel_33832\\1072382922.py\", line 15, in objective_fun\n",
      "    cnn = build_model(  X.shape[1:], len(np.unique(y)),\n",
      "          ^^^^^^^^^^^^^^^^^^^^^^^^^^^^^^^^^^^^^^^^^^^^^\n",
      "  File \"C:\\Users\\emanu\\AppData\\Local\\Temp\\ipykernel_33832\\1937663146.py\", line 27, in build_model\n",
      "    model.add(Conv1D(filters=filters, kernel_size=kernel_size, activation='relu', name=f\"extra_conv_{i}\"))\n",
      "  File \"C:\\Users\\emanu\\.virtualenvs\\DM2-HUE9YkAX\\Lib\\site-packages\\tensorflow\\python\\trackable\\base.py\", line 205, in _method_wrapper\n",
      "    result = method(self, *args, **kwargs)\n",
      "             ^^^^^^^^^^^^^^^^^^^^^^^^^^^^^\n",
      "  File \"C:\\Users\\emanu\\.virtualenvs\\DM2-HUE9YkAX\\Lib\\site-packages\\keras\\utils\\traceback_utils.py\", line 70, in error_handler\n",
      "    raise e.with_traceback(filtered_tb) from None\n",
      "  File \"C:\\Users\\emanu\\.virtualenvs\\DM2-HUE9YkAX\\Lib\\site-packages\\keras\\layers\\convolutional\\base_conv.py\", line 354, in compute_output_shape\n",
      "    raise ValueError(\n",
      "ValueError: One of the dimensions in the output is <= 0 due to downsampling in extra_conv_0. Consider increasing the input size. Received input shape [None, 13, 14] which would produce output shape with a zero or negative value in a dimension.\n",
      "[W 2023-06-28 12:11:55,323] Trial 14 failed with value None.\n"
     ]
    },
    {
     "name": "stdout",
     "output_type": "stream",
     "text": [
      "Running little bitch having n_conv=0, dropout=0.15649590612255093, hidden_nodes=117\n",
      "13/13 [==============================] - 0s 6ms/step\n"
     ]
    },
    {
     "name": "stderr",
     "output_type": "stream",
     "text": [
      "[I 2023-06-28 12:11:57,303] Trial 1 finished with value: 0.9689922480620154 and parameters: {'n_conv': 1, 'n_hidden': 1, 'hidden_nodes': 107, 'dropout': 0.061452943658316043, 'filters': 16, 'kernel_size': 6, 'batch_size': 60, 'epochs': 47}. Best is trial 1 with value: 0.9689922480620154.\n"
     ]
    },
    {
     "name": "stdout",
     "output_type": "stream",
     "text": [
      "Running little bitch having n_conv=1, dropout=0.10199444521552624, hidden_nodes=71\n",
      "13/13 [==============================] - 0s 8ms/step\n"
     ]
    },
    {
     "name": "stderr",
     "output_type": "stream",
     "text": [
      "[I 2023-06-28 12:11:59,774] Trial 12 finished with value: 0.979328165374677 and parameters: {'n_conv': 0, 'n_hidden': 3, 'hidden_nodes': 64, 'dropout': 0.028536883619194844, 'filters': 10, 'kernel_size': 16, 'batch_size': 50, 'epochs': 54}. Best is trial 12 with value: 0.979328165374677.\n"
     ]
    },
    {
     "name": "stdout",
     "output_type": "stream",
     "text": [
      "Running little bitch having n_conv=3, dropout=0.06094237205042383, hidden_nodes=222\n"
     ]
    },
    {
     "name": "stderr",
     "output_type": "stream",
     "text": [
      "[W 2023-06-28 12:12:00,142] Trial 17 failed with parameters: {'n_conv': 3, 'n_hidden': 3, 'hidden_nodes': 222, 'dropout': 0.06094237205042383, 'filters': 2, 'kernel_size': 11, 'batch_size': 44, 'epochs': 72} because of the following error: ValueError('One of the dimensions in the output is <= 0 due to downsampling in extra_conv_1. Consider increasing the input size. Received input shape [None, 7, 2] which would produce output shape with a zero or negative value in a dimension.').\n",
      "Traceback (most recent call last):\n",
      "  File \"C:\\Users\\emanu\\.virtualenvs\\DM2-HUE9YkAX\\Lib\\site-packages\\optuna\\study\\_optimize.py\", line 200, in _run_trial\n",
      "    value_or_values = func(trial)\n",
      "                      ^^^^^^^^^^^\n",
      "  File \"C:\\Users\\emanu\\AppData\\Local\\Temp\\ipykernel_33832\\1072382922.py\", line 34, in <lambda>\n",
      "    trial_function = lambda trial: objective_fun(trial,\n",
      "                                  ^^^^^^^^^^^^^^^^^^^^^\n",
      "  File \"C:\\Users\\emanu\\AppData\\Local\\Temp\\ipykernel_33832\\1072382922.py\", line 15, in objective_fun\n",
      "    cnn = build_model(  X.shape[1:], len(np.unique(y)),\n",
      "          ^^^^^^^^^^^^^^^^^^^^^^^^^^^^^^^^^^^^^^^^^^^^^\n",
      "  File \"C:\\Users\\emanu\\AppData\\Local\\Temp\\ipykernel_33832\\1937663146.py\", line 27, in build_model\n",
      "    model.add(Conv1D(filters=filters, kernel_size=kernel_size, activation='relu', name=f\"extra_conv_{i}\"))\n",
      "  File \"C:\\Users\\emanu\\.virtualenvs\\DM2-HUE9YkAX\\Lib\\site-packages\\tensorflow\\python\\trackable\\base.py\", line 205, in _method_wrapper\n",
      "    result = method(self, *args, **kwargs)\n",
      "             ^^^^^^^^^^^^^^^^^^^^^^^^^^^^^\n",
      "  File \"C:\\Users\\emanu\\.virtualenvs\\DM2-HUE9YkAX\\Lib\\site-packages\\keras\\utils\\traceback_utils.py\", line 70, in error_handler\n",
      "    raise e.with_traceback(filtered_tb) from None\n",
      "  File \"C:\\Users\\emanu\\.virtualenvs\\DM2-HUE9YkAX\\Lib\\site-packages\\keras\\layers\\convolutional\\base_conv.py\", line 354, in compute_output_shape\n",
      "    raise ValueError(\n",
      "ValueError: One of the dimensions in the output is <= 0 due to downsampling in extra_conv_1. Consider increasing the input size. Received input shape [None, 7, 2] which would produce output shape with a zero or negative value in a dimension.\n",
      "[W 2023-06-28 12:12:00,153] Trial 17 failed with value None.\n"
     ]
    },
    {
     "name": "stdout",
     "output_type": "stream",
     "text": [
      "Running little bitch having n_conv=0, dropout=0.0379450761550864, hidden_nodes=233\n",
      "13/13 [==============================] - 0s 2ms/step\n"
     ]
    },
    {
     "name": "stderr",
     "output_type": "stream",
     "text": [
      "[I 2023-06-28 12:12:05,103] Trial 0 finished with value: 0.8604651162790697 and parameters: {'n_conv': 0, 'n_hidden': 0, 'hidden_nodes': 209, 'dropout': 0.07896851400605223, 'filters': 11, 'kernel_size': 2, 'batch_size': 45, 'epochs': 82}. Best is trial 12 with value: 0.979328165374677.\n"
     ]
    },
    {
     "name": "stdout",
     "output_type": "stream",
     "text": [
      "Running little bitch having n_conv=0, dropout=0.18644429212879762, hidden_nodes=169\n",
      "13/13 [==============================] - 1s 9ms/step\n"
     ]
    },
    {
     "name": "stderr",
     "output_type": "stream",
     "text": [
      "[I 2023-06-28 12:12:06,263] Trial 9 finished with value: 0.9560723514211886 and parameters: {'n_conv': 3, 'n_hidden': 3, 'hidden_nodes': 255, 'dropout': 0.003044693580270286, 'filters': 6, 'kernel_size': 6, 'batch_size': 58, 'epochs': 43}. Best is trial 12 with value: 0.979328165374677.\n"
     ]
    },
    {
     "name": "stdout",
     "output_type": "stream",
     "text": [
      "Running little bitch having n_conv=0, dropout=0.05405582141546672, hidden_nodes=72\n",
      "13/13 [==============================] - 0s 7ms/step\n"
     ]
    },
    {
     "name": "stderr",
     "output_type": "stream",
     "text": [
      "[I 2023-06-28 12:12:07,232] Trial 13 finished with value: 0.9612403100775194 and parameters: {'n_conv': 0, 'n_hidden': 1, 'hidden_nodes': 254, 'dropout': 0.0334650729794995, 'filters': 5, 'kernel_size': 7, 'batch_size': 64, 'epochs': 52}. Best is trial 12 with value: 0.979328165374677.\n"
     ]
    },
    {
     "name": "stdout",
     "output_type": "stream",
     "text": [
      "Running little bitch having n_conv=1, dropout=0.11252698952203993, hidden_nodes=243\n",
      "13/13 [==============================] - 0s 5ms/step\n"
     ]
    },
    {
     "name": "stderr",
     "output_type": "stream",
     "text": [
      "[I 2023-06-28 12:12:11,574] Trial 6 finished with value: 0.9715762273901809 and parameters: {'n_conv': 0, 'n_hidden': 3, 'hidden_nodes': 126, 'dropout': 0.10653963591589853, 'filters': 12, 'kernel_size': 7, 'batch_size': 36, 'epochs': 74}. Best is trial 12 with value: 0.979328165374677.\n"
     ]
    },
    {
     "name": "stdout",
     "output_type": "stream",
     "text": [
      "Running little bitch having n_conv=0, dropout=0.18563569652256898, hidden_nodes=47\n",
      "13/13 [==============================] - 0s 8ms/step\n"
     ]
    },
    {
     "name": "stderr",
     "output_type": "stream",
     "text": [
      "[I 2023-06-28 12:12:15,398] Trial 20 finished with value: 0.7803617571059431 and parameters: {'n_conv': 0, 'n_hidden': 2, 'hidden_nodes': 72, 'dropout': 0.05405582141546672, 'filters': 3, 'kernel_size': 4, 'batch_size': 47, 'epochs': 5}. Best is trial 12 with value: 0.979328165374677.\n"
     ]
    },
    {
     "name": "stdout",
     "output_type": "stream",
     "text": [
      "Running little bitch having n_conv=0, dropout=0.1976341797231773, hidden_nodes=222\n",
      "13/13 [==============================] - 1s 10ms/step\n"
     ]
    },
    {
     "name": "stderr",
     "output_type": "stream",
     "text": [
      "[I 2023-06-28 12:12:15,922] Trial 7 finished with value: 0.937984496124031 and parameters: {'n_conv': 3, 'n_hidden': 2, 'hidden_nodes': 30, 'dropout': 0.16823868784296886, 'filters': 15, 'kernel_size': 2, 'batch_size': 47, 'epochs': 56}. Best is trial 12 with value: 0.979328165374677.\n",
      "[W 2023-06-28 12:12:16,183] Trial 24 failed with parameters: {'n_conv': 1, 'n_hidden': 3, 'hidden_nodes': 14, 'dropout': 0.11036694066052, 'filters': 9, 'kernel_size': 16, 'batch_size': 18, 'epochs': 67} because of the following error: ValueError('One of the dimensions in the output is <= 0 due to downsampling in extra_conv_0. Consider increasing the input size. Received input shape [None, 12, 9] which would produce output shape with a zero or negative value in a dimension.').\n",
      "Traceback (most recent call last):\n",
      "  File \"C:\\Users\\emanu\\.virtualenvs\\DM2-HUE9YkAX\\Lib\\site-packages\\optuna\\study\\_optimize.py\", line 200, in _run_trial\n",
      "    value_or_values = func(trial)\n",
      "                      ^^^^^^^^^^^\n",
      "  File \"C:\\Users\\emanu\\AppData\\Local\\Temp\\ipykernel_33832\\1072382922.py\", line 34, in <lambda>\n",
      "    trial_function = lambda trial: objective_fun(trial,\n",
      "                                  ^^^^^^^^^^^^^^^^^^^^^\n",
      "  File \"C:\\Users\\emanu\\AppData\\Local\\Temp\\ipykernel_33832\\1072382922.py\", line 15, in objective_fun\n",
      "    cnn = build_model(  X.shape[1:], len(np.unique(y)),\n",
      "          ^^^^^^^^^^^^^^^^^^^^^^^^^^^^^^^^^^^^^^^^^^^^^\n",
      "  File \"C:\\Users\\emanu\\AppData\\Local\\Temp\\ipykernel_33832\\1937663146.py\", line 27, in build_model\n",
      "    model.add(Conv1D(filters=filters, kernel_size=kernel_size, activation='relu', name=f\"extra_conv_{i}\"))\n",
      "  File \"C:\\Users\\emanu\\.virtualenvs\\DM2-HUE9YkAX\\Lib\\site-packages\\tensorflow\\python\\trackable\\base.py\", line 205, in _method_wrapper\n",
      "    result = method(self, *args, **kwargs)\n",
      "             ^^^^^^^^^^^^^^^^^^^^^^^^^^^^^\n",
      "  File \"C:\\Users\\emanu\\.virtualenvs\\DM2-HUE9YkAX\\Lib\\site-packages\\keras\\utils\\traceback_utils.py\", line 70, in error_handler\n",
      "    raise e.with_traceback(filtered_tb) from None\n",
      "  File \"C:\\Users\\emanu\\.virtualenvs\\DM2-HUE9YkAX\\Lib\\site-packages\\keras\\layers\\convolutional\\base_conv.py\", line 354, in compute_output_shape\n",
      "    raise ValueError(\n",
      "ValueError: One of the dimensions in the output is <= 0 due to downsampling in extra_conv_0. Consider increasing the input size. Received input shape [None, 12, 9] which would produce output shape with a zero or negative value in a dimension.\n",
      "[W 2023-06-28 12:12:16,203] Trial 24 failed with value None.\n"
     ]
    },
    {
     "name": "stdout",
     "output_type": "stream",
     "text": [
      "Running little bitch having n_conv=1, dropout=0.11036694066052, hidden_nodes=14\n"
     ]
    },
    {
     "name": "stderr",
     "output_type": "stream",
     "text": [
      "[W 2023-06-28 12:12:16,452] Trial 25 failed with parameters: {'n_conv': 1, 'n_hidden': 3, 'hidden_nodes': 10, 'dropout': 0.10307194224455812, 'filters': 10, 'kernel_size': 16, 'batch_size': 16, 'epochs': 70} because of the following error: ValueError('One of the dimensions in the output is <= 0 due to downsampling in extra_conv_0. Consider increasing the input size. Received input shape [None, 12, 10] which would produce output shape with a zero or negative value in a dimension.').\n",
      "Traceback (most recent call last):\n",
      "  File \"C:\\Users\\emanu\\.virtualenvs\\DM2-HUE9YkAX\\Lib\\site-packages\\optuna\\study\\_optimize.py\", line 200, in _run_trial\n",
      "    value_or_values = func(trial)\n",
      "                      ^^^^^^^^^^^\n",
      "  File \"C:\\Users\\emanu\\AppData\\Local\\Temp\\ipykernel_33832\\1072382922.py\", line 34, in <lambda>\n",
      "    trial_function = lambda trial: objective_fun(trial,\n",
      "                                  ^^^^^^^^^^^^^^^^^^^^^\n",
      "  File \"C:\\Users\\emanu\\AppData\\Local\\Temp\\ipykernel_33832\\1072382922.py\", line 15, in objective_fun\n",
      "    cnn = build_model(  X.shape[1:], len(np.unique(y)),\n",
      "          ^^^^^^^^^^^^^^^^^^^^^^^^^^^^^^^^^^^^^^^^^^^^^\n",
      "  File \"C:\\Users\\emanu\\AppData\\Local\\Temp\\ipykernel_33832\\1937663146.py\", line 27, in build_model\n",
      "    model.add(Conv1D(filters=filters, kernel_size=kernel_size, activation='relu', name=f\"extra_conv_{i}\"))\n",
      "  File \"C:\\Users\\emanu\\.virtualenvs\\DM2-HUE9YkAX\\Lib\\site-packages\\tensorflow\\python\\trackable\\base.py\", line 205, in _method_wrapper\n",
      "    result = method(self, *args, **kwargs)\n",
      "             ^^^^^^^^^^^^^^^^^^^^^^^^^^^^^\n",
      "  File \"C:\\Users\\emanu\\.virtualenvs\\DM2-HUE9YkAX\\Lib\\site-packages\\keras\\utils\\traceback_utils.py\", line 70, in error_handler\n",
      "    raise e.with_traceback(filtered_tb) from None\n",
      "  File \"C:\\Users\\emanu\\.virtualenvs\\DM2-HUE9YkAX\\Lib\\site-packages\\keras\\layers\\convolutional\\base_conv.py\", line 354, in compute_output_shape\n",
      "    raise ValueError(\n",
      "ValueError: One of the dimensions in the output is <= 0 due to downsampling in extra_conv_0. Consider increasing the input size. Received input shape [None, 12, 10] which would produce output shape with a zero or negative value in a dimension.\n"
     ]
    },
    {
     "name": "stdout",
     "output_type": "stream",
     "text": [
      "Running little bitch having n_conv=1, dropout=0.10307194224455812, hidden_nodes=10\n"
     ]
    },
    {
     "name": "stderr",
     "output_type": "stream",
     "text": [
      "[W 2023-06-28 12:12:16,465] Trial 25 failed with value None.\n",
      "[W 2023-06-28 12:12:16,664] Trial 26 failed with parameters: {'n_conv': 1, 'n_hidden': 3, 'hidden_nodes': 16, 'dropout': 0.0027195628767599823, 'filters': 9, 'kernel_size': 16, 'batch_size': 20, 'epochs': 70} because of the following error: ValueError('One of the dimensions in the output is <= 0 due to downsampling in extra_conv_0. Consider increasing the input size. Received input shape [None, 12, 9] which would produce output shape with a zero or negative value in a dimension.').\n",
      "Traceback (most recent call last):\n",
      "  File \"C:\\Users\\emanu\\.virtualenvs\\DM2-HUE9YkAX\\Lib\\site-packages\\optuna\\study\\_optimize.py\", line 200, in _run_trial\n",
      "    value_or_values = func(trial)\n",
      "                      ^^^^^^^^^^^\n",
      "  File \"C:\\Users\\emanu\\AppData\\Local\\Temp\\ipykernel_33832\\1072382922.py\", line 34, in <lambda>\n",
      "    trial_function = lambda trial: objective_fun(trial,\n",
      "                                  ^^^^^^^^^^^^^^^^^^^^^\n",
      "  File \"C:\\Users\\emanu\\AppData\\Local\\Temp\\ipykernel_33832\\1072382922.py\", line 15, in objective_fun\n",
      "    cnn = build_model(  X.shape[1:], len(np.unique(y)),\n",
      "          ^^^^^^^^^^^^^^^^^^^^^^^^^^^^^^^^^^^^^^^^^^^^^\n",
      "  File \"C:\\Users\\emanu\\AppData\\Local\\Temp\\ipykernel_33832\\1937663146.py\", line 27, in build_model\n",
      "    model.add(Conv1D(filters=filters, kernel_size=kernel_size, activation='relu', name=f\"extra_conv_{i}\"))\n",
      "  File \"C:\\Users\\emanu\\.virtualenvs\\DM2-HUE9YkAX\\Lib\\site-packages\\tensorflow\\python\\trackable\\base.py\", line 205, in _method_wrapper\n",
      "    result = method(self, *args, **kwargs)\n",
      "             ^^^^^^^^^^^^^^^^^^^^^^^^^^^^^\n",
      "  File \"C:\\Users\\emanu\\.virtualenvs\\DM2-HUE9YkAX\\Lib\\site-packages\\keras\\utils\\traceback_utils.py\", line 70, in error_handler\n",
      "    raise e.with_traceback(filtered_tb) from None\n",
      "  File \"C:\\Users\\emanu\\.virtualenvs\\DM2-HUE9YkAX\\Lib\\site-packages\\keras\\layers\\convolutional\\base_conv.py\", line 354, in compute_output_shape\n",
      "    raise ValueError(\n",
      "ValueError: One of the dimensions in the output is <= 0 due to downsampling in extra_conv_0. Consider increasing the input size. Received input shape [None, 12, 9] which would produce output shape with a zero or negative value in a dimension.\n",
      "[W 2023-06-28 12:12:16,664] Trial 26 failed with value None.\n"
     ]
    },
    {
     "name": "stdout",
     "output_type": "stream",
     "text": [
      "Running little bitch having n_conv=1, dropout=0.0027195628767599823, hidden_nodes=16\n",
      "Running little bitch having n_conv=1, dropout=0.0014079330991700369, hidden_nodes=10\n"
     ]
    },
    {
     "name": "stderr",
     "output_type": "stream",
     "text": [
      "[W 2023-06-28 12:12:16,865] Trial 27 failed with parameters: {'n_conv': 1, 'n_hidden': 3, 'hidden_nodes': 10, 'dropout': 0.0014079330991700369, 'filters': 9, 'kernel_size': 16, 'batch_size': 19, 'epochs': 69} because of the following error: ValueError('One of the dimensions in the output is <= 0 due to downsampling in extra_conv_0. Consider increasing the input size. Received input shape [None, 12, 9] which would produce output shape with a zero or negative value in a dimension.').\n",
      "Traceback (most recent call last):\n",
      "  File \"C:\\Users\\emanu\\.virtualenvs\\DM2-HUE9YkAX\\Lib\\site-packages\\optuna\\study\\_optimize.py\", line 200, in _run_trial\n",
      "    value_or_values = func(trial)\n",
      "                      ^^^^^^^^^^^\n",
      "  File \"C:\\Users\\emanu\\AppData\\Local\\Temp\\ipykernel_33832\\1072382922.py\", line 34, in <lambda>\n",
      "    trial_function = lambda trial: objective_fun(trial,\n",
      "                                  ^^^^^^^^^^^^^^^^^^^^^\n",
      "  File \"C:\\Users\\emanu\\AppData\\Local\\Temp\\ipykernel_33832\\1072382922.py\", line 15, in objective_fun\n",
      "    cnn = build_model(  X.shape[1:], len(np.unique(y)),\n",
      "          ^^^^^^^^^^^^^^^^^^^^^^^^^^^^^^^^^^^^^^^^^^^^^\n",
      "  File \"C:\\Users\\emanu\\AppData\\Local\\Temp\\ipykernel_33832\\1937663146.py\", line 27, in build_model\n",
      "    model.add(Conv1D(filters=filters, kernel_size=kernel_size, activation='relu', name=f\"extra_conv_{i}\"))\n",
      "  File \"C:\\Users\\emanu\\.virtualenvs\\DM2-HUE9YkAX\\Lib\\site-packages\\tensorflow\\python\\trackable\\base.py\", line 205, in _method_wrapper\n",
      "    result = method(self, *args, **kwargs)\n",
      "             ^^^^^^^^^^^^^^^^^^^^^^^^^^^^^\n",
      "  File \"C:\\Users\\emanu\\.virtualenvs\\DM2-HUE9YkAX\\Lib\\site-packages\\keras\\utils\\traceback_utils.py\", line 70, in error_handler\n",
      "    raise e.with_traceback(filtered_tb) from None\n",
      "  File \"C:\\Users\\emanu\\.virtualenvs\\DM2-HUE9YkAX\\Lib\\site-packages\\keras\\layers\\convolutional\\base_conv.py\", line 354, in compute_output_shape\n",
      "    raise ValueError(\n",
      "ValueError: One of the dimensions in the output is <= 0 due to downsampling in extra_conv_0. Consider increasing the input size. Received input shape [None, 12, 9] which would produce output shape with a zero or negative value in a dimension.\n",
      "[W 2023-06-28 12:12:16,884] Trial 27 failed with value None.\n",
      "[W 2023-06-28 12:12:17,084] Trial 28 failed with parameters: {'n_conv': 1, 'n_hidden': 3, 'hidden_nodes': 14, 'dropout': 0.0011620775991228079, 'filters': 9, 'kernel_size': 16, 'batch_size': 19, 'epochs': 67} because of the following error: ValueError('One of the dimensions in the output is <= 0 due to downsampling in extra_conv_0. Consider increasing the input size. Received input shape [None, 12, 9] which would produce output shape with a zero or negative value in a dimension.').\n",
      "Traceback (most recent call last):\n",
      "  File \"C:\\Users\\emanu\\.virtualenvs\\DM2-HUE9YkAX\\Lib\\site-packages\\optuna\\study\\_optimize.py\", line 200, in _run_trial\n",
      "    value_or_values = func(trial)\n",
      "                      ^^^^^^^^^^^\n",
      "  File \"C:\\Users\\emanu\\AppData\\Local\\Temp\\ipykernel_33832\\1072382922.py\", line 34, in <lambda>\n",
      "    trial_function = lambda trial: objective_fun(trial,\n",
      "                                  ^^^^^^^^^^^^^^^^^^^^^\n",
      "  File \"C:\\Users\\emanu\\AppData\\Local\\Temp\\ipykernel_33832\\1072382922.py\", line 15, in objective_fun\n",
      "    cnn = build_model(  X.shape[1:], len(np.unique(y)),\n",
      "          ^^^^^^^^^^^^^^^^^^^^^^^^^^^^^^^^^^^^^^^^^^^^^\n",
      "  File \"C:\\Users\\emanu\\AppData\\Local\\Temp\\ipykernel_33832\\1937663146.py\", line 27, in build_model\n",
      "    model.add(Conv1D(filters=filters, kernel_size=kernel_size, activation='relu', name=f\"extra_conv_{i}\"))\n",
      "  File \"C:\\Users\\emanu\\.virtualenvs\\DM2-HUE9YkAX\\Lib\\site-packages\\tensorflow\\python\\trackable\\base.py\", line 205, in _method_wrapper\n",
      "    result = method(self, *args, **kwargs)\n",
      "             ^^^^^^^^^^^^^^^^^^^^^^^^^^^^^\n",
      "  File \"C:\\Users\\emanu\\.virtualenvs\\DM2-HUE9YkAX\\Lib\\site-packages\\keras\\utils\\traceback_utils.py\", line 70, in error_handler\n",
      "    raise e.with_traceback(filtered_tb) from None\n",
      "  File \"C:\\Users\\emanu\\.virtualenvs\\DM2-HUE9YkAX\\Lib\\site-packages\\keras\\layers\\convolutional\\base_conv.py\", line 354, in compute_output_shape\n",
      "    raise ValueError(\n",
      "ValueError: One of the dimensions in the output is <= 0 due to downsampling in extra_conv_0. Consider increasing the input size. Received input shape [None, 12, 9] which would produce output shape with a zero or negative value in a dimension.\n",
      "[W 2023-06-28 12:12:17,113] Trial 28 failed with value None.\n"
     ]
    },
    {
     "name": "stdout",
     "output_type": "stream",
     "text": [
      "Running little bitch having n_conv=1, dropout=0.0011620775991228079, hidden_nodes=14\n"
     ]
    },
    {
     "name": "stderr",
     "output_type": "stream",
     "text": [
      "[W 2023-06-28 12:12:17,294] Trial 29 failed with parameters: {'n_conv': 1, 'n_hidden': 3, 'hidden_nodes': 10, 'dropout': 0.00029960761229649857, 'filters': 9, 'kernel_size': 16, 'batch_size': 21, 'epochs': 67} because of the following error: ValueError('One of the dimensions in the output is <= 0 due to downsampling in extra_conv_0. Consider increasing the input size. Received input shape [None, 12, 9] which would produce output shape with a zero or negative value in a dimension.').\n",
      "Traceback (most recent call last):\n",
      "  File \"C:\\Users\\emanu\\.virtualenvs\\DM2-HUE9YkAX\\Lib\\site-packages\\optuna\\study\\_optimize.py\", line 200, in _run_trial\n",
      "    value_or_values = func(trial)\n",
      "                      ^^^^^^^^^^^\n",
      "  File \"C:\\Users\\emanu\\AppData\\Local\\Temp\\ipykernel_33832\\1072382922.py\", line 34, in <lambda>\n",
      "    trial_function = lambda trial: objective_fun(trial,\n",
      "                                  ^^^^^^^^^^^^^^^^^^^^^\n",
      "  File \"C:\\Users\\emanu\\AppData\\Local\\Temp\\ipykernel_33832\\1072382922.py\", line 15, in objective_fun\n",
      "    cnn = build_model(  X.shape[1:], len(np.unique(y)),\n",
      "          ^^^^^^^^^^^^^^^^^^^^^^^^^^^^^^^^^^^^^^^^^^^^^\n",
      "  File \"C:\\Users\\emanu\\AppData\\Local\\Temp\\ipykernel_33832\\1937663146.py\", line 27, in build_model\n",
      "    model.add(Conv1D(filters=filters, kernel_size=kernel_size, activation='relu', name=f\"extra_conv_{i}\"))\n",
      "  File \"C:\\Users\\emanu\\.virtualenvs\\DM2-HUE9YkAX\\Lib\\site-packages\\tensorflow\\python\\trackable\\base.py\", line 205, in _method_wrapper\n",
      "    result = method(self, *args, **kwargs)\n",
      "             ^^^^^^^^^^^^^^^^^^^^^^^^^^^^^\n",
      "  File \"C:\\Users\\emanu\\.virtualenvs\\DM2-HUE9YkAX\\Lib\\site-packages\\keras\\utils\\traceback_utils.py\", line 70, in error_handler\n",
      "    raise e.with_traceback(filtered_tb) from None\n",
      "  File \"C:\\Users\\emanu\\.virtualenvs\\DM2-HUE9YkAX\\Lib\\site-packages\\keras\\layers\\convolutional\\base_conv.py\", line 354, in compute_output_shape\n",
      "    raise ValueError(\n",
      "ValueError: One of the dimensions in the output is <= 0 due to downsampling in extra_conv_0. Consider increasing the input size. Received input shape [None, 12, 9] which would produce output shape with a zero or negative value in a dimension.\n",
      "[W 2023-06-28 12:12:17,304] Trial 29 failed with value None.\n"
     ]
    },
    {
     "name": "stdout",
     "output_type": "stream",
     "text": [
      "Running little bitch having n_conv=1, dropout=0.00029960761229649857, hidden_nodes=10\n",
      "Running little bitch having n_conv=1, dropout=0.001285923885790536, hidden_nodes=9\n"
     ]
    },
    {
     "name": "stderr",
     "output_type": "stream",
     "text": [
      "[W 2023-06-28 12:12:17,535] Trial 30 failed with parameters: {'n_conv': 1, 'n_hidden': 3, 'hidden_nodes': 9, 'dropout': 0.001285923885790536, 'filters': 9, 'kernel_size': 16, 'batch_size': 26, 'epochs': 68} because of the following error: ValueError('One of the dimensions in the output is <= 0 due to downsampling in extra_conv_0. Consider increasing the input size. Received input shape [None, 12, 9] which would produce output shape with a zero or negative value in a dimension.').\n",
      "Traceback (most recent call last):\n",
      "  File \"C:\\Users\\emanu\\.virtualenvs\\DM2-HUE9YkAX\\Lib\\site-packages\\optuna\\study\\_optimize.py\", line 200, in _run_trial\n",
      "    value_or_values = func(trial)\n",
      "                      ^^^^^^^^^^^\n",
      "  File \"C:\\Users\\emanu\\AppData\\Local\\Temp\\ipykernel_33832\\1072382922.py\", line 34, in <lambda>\n",
      "    trial_function = lambda trial: objective_fun(trial,\n",
      "                                  ^^^^^^^^^^^^^^^^^^^^^\n",
      "  File \"C:\\Users\\emanu\\AppData\\Local\\Temp\\ipykernel_33832\\1072382922.py\", line 15, in objective_fun\n",
      "    cnn = build_model(  X.shape[1:], len(np.unique(y)),\n",
      "          ^^^^^^^^^^^^^^^^^^^^^^^^^^^^^^^^^^^^^^^^^^^^^\n",
      "  File \"C:\\Users\\emanu\\AppData\\Local\\Temp\\ipykernel_33832\\1937663146.py\", line 27, in build_model\n",
      "    model.add(Conv1D(filters=filters, kernel_size=kernel_size, activation='relu', name=f\"extra_conv_{i}\"))\n",
      "  File \"C:\\Users\\emanu\\.virtualenvs\\DM2-HUE9YkAX\\Lib\\site-packages\\tensorflow\\python\\trackable\\base.py\", line 205, in _method_wrapper\n",
      "    result = method(self, *args, **kwargs)\n",
      "             ^^^^^^^^^^^^^^^^^^^^^^^^^^^^^\n",
      "  File \"C:\\Users\\emanu\\.virtualenvs\\DM2-HUE9YkAX\\Lib\\site-packages\\keras\\utils\\traceback_utils.py\", line 70, in error_handler\n",
      "    raise e.with_traceback(filtered_tb) from None\n",
      "  File \"C:\\Users\\emanu\\.virtualenvs\\DM2-HUE9YkAX\\Lib\\site-packages\\keras\\layers\\convolutional\\base_conv.py\", line 354, in compute_output_shape\n",
      "    raise ValueError(\n",
      "ValueError: One of the dimensions in the output is <= 0 due to downsampling in extra_conv_0. Consider increasing the input size. Received input shape [None, 12, 9] which would produce output shape with a zero or negative value in a dimension.\n",
      "[W 2023-06-28 12:12:17,550] Trial 30 failed with value None.\n",
      "[W 2023-06-28 12:12:17,744] Trial 31 failed with parameters: {'n_conv': 1, 'n_hidden': 3, 'hidden_nodes': 24, 'dropout': 0.0012369117792214168, 'filters': 9, 'kernel_size': 16, 'batch_size': 19, 'epochs': 68} because of the following error: ValueError('One of the dimensions in the output is <= 0 due to downsampling in extra_conv_0. Consider increasing the input size. Received input shape [None, 12, 9] which would produce output shape with a zero or negative value in a dimension.').\n",
      "Traceback (most recent call last):\n",
      "  File \"C:\\Users\\emanu\\.virtualenvs\\DM2-HUE9YkAX\\Lib\\site-packages\\optuna\\study\\_optimize.py\", line 200, in _run_trial\n",
      "    value_or_values = func(trial)\n",
      "                      ^^^^^^^^^^^\n",
      "  File \"C:\\Users\\emanu\\AppData\\Local\\Temp\\ipykernel_33832\\1072382922.py\", line 34, in <lambda>\n",
      "    trial_function = lambda trial: objective_fun(trial,\n",
      "                                  ^^^^^^^^^^^^^^^^^^^^^\n",
      "  File \"C:\\Users\\emanu\\AppData\\Local\\Temp\\ipykernel_33832\\1072382922.py\", line 15, in objective_fun\n",
      "    cnn = build_model(  X.shape[1:], len(np.unique(y)),\n",
      "          ^^^^^^^^^^^^^^^^^^^^^^^^^^^^^^^^^^^^^^^^^^^^^\n",
      "  File \"C:\\Users\\emanu\\AppData\\Local\\Temp\\ipykernel_33832\\1937663146.py\", line 27, in build_model\n",
      "    model.add(Conv1D(filters=filters, kernel_size=kernel_size, activation='relu', name=f\"extra_conv_{i}\"))\n",
      "  File \"C:\\Users\\emanu\\.virtualenvs\\DM2-HUE9YkAX\\Lib\\site-packages\\tensorflow\\python\\trackable\\base.py\", line 205, in _method_wrapper\n",
      "    result = method(self, *args, **kwargs)\n",
      "             ^^^^^^^^^^^^^^^^^^^^^^^^^^^^^\n",
      "  File \"C:\\Users\\emanu\\.virtualenvs\\DM2-HUE9YkAX\\Lib\\site-packages\\keras\\utils\\traceback_utils.py\", line 70, in error_handler\n",
      "    raise e.with_traceback(filtered_tb) from None\n",
      "  File \"C:\\Users\\emanu\\.virtualenvs\\DM2-HUE9YkAX\\Lib\\site-packages\\keras\\layers\\convolutional\\base_conv.py\", line 354, in compute_output_shape\n",
      "    raise ValueError(\n",
      "ValueError: One of the dimensions in the output is <= 0 due to downsampling in extra_conv_0. Consider increasing the input size. Received input shape [None, 12, 9] which would produce output shape with a zero or negative value in a dimension.\n",
      "[W 2023-06-28 12:12:17,753] Trial 31 failed with value None.\n"
     ]
    },
    {
     "name": "stdout",
     "output_type": "stream",
     "text": [
      "Running little bitch having n_conv=1, dropout=0.0012369117792214168, hidden_nodes=24\n"
     ]
    },
    {
     "name": "stderr",
     "output_type": "stream",
     "text": [
      "[W 2023-06-28 12:12:17,946] Trial 32 failed with parameters: {'n_conv': 1, 'n_hidden': 3, 'hidden_nodes': 24, 'dropout': 0.10385581948594798, 'filters': 9, 'kernel_size': 15, 'batch_size': 20, 'epochs': 68} because of the following error: ValueError('One of the dimensions in the output is <= 0 due to downsampling in extra_conv_0. Consider increasing the input size. Received input shape [None, 13, 9] which would produce output shape with a zero or negative value in a dimension.').\n",
      "Traceback (most recent call last):\n",
      "  File \"C:\\Users\\emanu\\.virtualenvs\\DM2-HUE9YkAX\\Lib\\site-packages\\optuna\\study\\_optimize.py\", line 200, in _run_trial\n",
      "    value_or_values = func(trial)\n",
      "                      ^^^^^^^^^^^\n",
      "  File \"C:\\Users\\emanu\\AppData\\Local\\Temp\\ipykernel_33832\\1072382922.py\", line 34, in <lambda>\n",
      "    trial_function = lambda trial: objective_fun(trial,\n",
      "                                  ^^^^^^^^^^^^^^^^^^^^^\n",
      "  File \"C:\\Users\\emanu\\AppData\\Local\\Temp\\ipykernel_33832\\1072382922.py\", line 15, in objective_fun\n",
      "    cnn = build_model(  X.shape[1:], len(np.unique(y)),\n",
      "          ^^^^^^^^^^^^^^^^^^^^^^^^^^^^^^^^^^^^^^^^^^^^^\n",
      "  File \"C:\\Users\\emanu\\AppData\\Local\\Temp\\ipykernel_33832\\1937663146.py\", line 27, in build_model\n",
      "    model.add(Conv1D(filters=filters, kernel_size=kernel_size, activation='relu', name=f\"extra_conv_{i}\"))\n",
      "  File \"C:\\Users\\emanu\\.virtualenvs\\DM2-HUE9YkAX\\Lib\\site-packages\\tensorflow\\python\\trackable\\base.py\", line 205, in _method_wrapper\n",
      "    result = method(self, *args, **kwargs)\n",
      "             ^^^^^^^^^^^^^^^^^^^^^^^^^^^^^\n",
      "  File \"C:\\Users\\emanu\\.virtualenvs\\DM2-HUE9YkAX\\Lib\\site-packages\\keras\\utils\\traceback_utils.py\", line 70, in error_handler\n",
      "    raise e.with_traceback(filtered_tb) from None\n",
      "  File \"C:\\Users\\emanu\\.virtualenvs\\DM2-HUE9YkAX\\Lib\\site-packages\\keras\\layers\\convolutional\\base_conv.py\", line 354, in compute_output_shape\n",
      "    raise ValueError(\n",
      "ValueError: One of the dimensions in the output is <= 0 due to downsampling in extra_conv_0. Consider increasing the input size. Received input shape [None, 13, 9] which would produce output shape with a zero or negative value in a dimension.\n",
      "[W 2023-06-28 12:12:17,963] Trial 32 failed with value None.\n"
     ]
    },
    {
     "name": "stdout",
     "output_type": "stream",
     "text": [
      "Running little bitch having n_conv=1, dropout=0.10385581948594798, hidden_nodes=24\n",
      "Running little bitch having n_conv=1, dropout=0.11114443442450694, hidden_nodes=57\n"
     ]
    },
    {
     "name": "stderr",
     "output_type": "stream",
     "text": [
      "[W 2023-06-28 12:12:18,244] Trial 33 failed with parameters: {'n_conv': 1, 'n_hidden': 3, 'hidden_nodes': 57, 'dropout': 0.11114443442450694, 'filters': 9, 'kernel_size': 16, 'batch_size': 16, 'epochs': 70} because of the following error: ValueError('One of the dimensions in the output is <= 0 due to downsampling in extra_conv_0. Consider increasing the input size. Received input shape [None, 12, 9] which would produce output shape with a zero or negative value in a dimension.').\n",
      "Traceback (most recent call last):\n",
      "  File \"C:\\Users\\emanu\\.virtualenvs\\DM2-HUE9YkAX\\Lib\\site-packages\\optuna\\study\\_optimize.py\", line 200, in _run_trial\n",
      "    value_or_values = func(trial)\n",
      "                      ^^^^^^^^^^^\n",
      "  File \"C:\\Users\\emanu\\AppData\\Local\\Temp\\ipykernel_33832\\1072382922.py\", line 34, in <lambda>\n",
      "    trial_function = lambda trial: objective_fun(trial,\n",
      "                                  ^^^^^^^^^^^^^^^^^^^^^\n",
      "  File \"C:\\Users\\emanu\\AppData\\Local\\Temp\\ipykernel_33832\\1072382922.py\", line 15, in objective_fun\n",
      "    cnn = build_model(  X.shape[1:], len(np.unique(y)),\n",
      "          ^^^^^^^^^^^^^^^^^^^^^^^^^^^^^^^^^^^^^^^^^^^^^\n",
      "  File \"C:\\Users\\emanu\\AppData\\Local\\Temp\\ipykernel_33832\\1937663146.py\", line 27, in build_model\n",
      "    model.add(Conv1D(filters=filters, kernel_size=kernel_size, activation='relu', name=f\"extra_conv_{i}\"))\n",
      "  File \"C:\\Users\\emanu\\.virtualenvs\\DM2-HUE9YkAX\\Lib\\site-packages\\tensorflow\\python\\trackable\\base.py\", line 205, in _method_wrapper\n",
      "    result = method(self, *args, **kwargs)\n",
      "             ^^^^^^^^^^^^^^^^^^^^^^^^^^^^^\n",
      "  File \"C:\\Users\\emanu\\.virtualenvs\\DM2-HUE9YkAX\\Lib\\site-packages\\keras\\utils\\traceback_utils.py\", line 70, in error_handler\n",
      "    raise e.with_traceback(filtered_tb) from None\n",
      "  File \"C:\\Users\\emanu\\.virtualenvs\\DM2-HUE9YkAX\\Lib\\site-packages\\keras\\layers\\convolutional\\base_conv.py\", line 354, in compute_output_shape\n",
      "    raise ValueError(\n",
      "ValueError: One of the dimensions in the output is <= 0 due to downsampling in extra_conv_0. Consider increasing the input size. Received input shape [None, 12, 9] which would produce output shape with a zero or negative value in a dimension.\n",
      "[W 2023-06-28 12:12:18,253] Trial 33 failed with value None.\n",
      "[W 2023-06-28 12:12:18,495] Trial 34 failed with parameters: {'n_conv': 1, 'n_hidden': 3, 'hidden_nodes': 30, 'dropout': 5.970203162953408e-05, 'filters': 9, 'kernel_size': 16, 'batch_size': 19, 'epochs': 69} because of the following error: ValueError('One of the dimensions in the output is <= 0 due to downsampling in extra_conv_0. Consider increasing the input size. Received input shape [None, 12, 9] which would produce output shape with a zero or negative value in a dimension.').\n",
      "Traceback (most recent call last):\n",
      "  File \"C:\\Users\\emanu\\.virtualenvs\\DM2-HUE9YkAX\\Lib\\site-packages\\optuna\\study\\_optimize.py\", line 200, in _run_trial\n",
      "    value_or_values = func(trial)\n",
      "                      ^^^^^^^^^^^\n",
      "  File \"C:\\Users\\emanu\\AppData\\Local\\Temp\\ipykernel_33832\\1072382922.py\", line 34, in <lambda>\n",
      "    trial_function = lambda trial: objective_fun(trial,\n",
      "                                  ^^^^^^^^^^^^^^^^^^^^^\n",
      "  File \"C:\\Users\\emanu\\AppData\\Local\\Temp\\ipykernel_33832\\1072382922.py\", line 15, in objective_fun\n",
      "    cnn = build_model(  X.shape[1:], len(np.unique(y)),\n",
      "          ^^^^^^^^^^^^^^^^^^^^^^^^^^^^^^^^^^^^^^^^^^^^^\n",
      "  File \"C:\\Users\\emanu\\AppData\\Local\\Temp\\ipykernel_33832\\1937663146.py\", line 27, in build_model\n",
      "    model.add(Conv1D(filters=filters, kernel_size=kernel_size, activation='relu', name=f\"extra_conv_{i}\"))\n",
      "  File \"C:\\Users\\emanu\\.virtualenvs\\DM2-HUE9YkAX\\Lib\\site-packages\\tensorflow\\python\\trackable\\base.py\", line 205, in _method_wrapper\n",
      "    result = method(self, *args, **kwargs)\n",
      "             ^^^^^^^^^^^^^^^^^^^^^^^^^^^^^\n",
      "  File \"C:\\Users\\emanu\\.virtualenvs\\DM2-HUE9YkAX\\Lib\\site-packages\\keras\\utils\\traceback_utils.py\", line 70, in error_handler\n",
      "    raise e.with_traceback(filtered_tb) from None\n",
      "  File \"C:\\Users\\emanu\\.virtualenvs\\DM2-HUE9YkAX\\Lib\\site-packages\\keras\\layers\\convolutional\\base_conv.py\", line 354, in compute_output_shape\n",
      "    raise ValueError(\n",
      "ValueError: One of the dimensions in the output is <= 0 due to downsampling in extra_conv_0. Consider increasing the input size. Received input shape [None, 12, 9] which would produce output shape with a zero or negative value in a dimension.\n"
     ]
    },
    {
     "name": "stdout",
     "output_type": "stream",
     "text": [
      "Running little bitch having n_conv=1, dropout=5.970203162953408e-05, hidden_nodes=30\n"
     ]
    },
    {
     "name": "stderr",
     "output_type": "stream",
     "text": [
      "[W 2023-06-28 12:12:18,513] Trial 34 failed with value None.\n",
      "[W 2023-06-28 12:12:18,753] Trial 35 failed with parameters: {'n_conv': 1, 'n_hidden': 3, 'hidden_nodes': 10, 'dropout': 0.11054387517499646, 'filters': 9, 'kernel_size': 16, 'batch_size': 16, 'epochs': 67} because of the following error: ValueError('One of the dimensions in the output is <= 0 due to downsampling in extra_conv_0. Consider increasing the input size. Received input shape [None, 12, 9] which would produce output shape with a zero or negative value in a dimension.').\n",
      "Traceback (most recent call last):\n",
      "  File \"C:\\Users\\emanu\\.virtualenvs\\DM2-HUE9YkAX\\Lib\\site-packages\\optuna\\study\\_optimize.py\", line 200, in _run_trial\n",
      "    value_or_values = func(trial)\n",
      "                      ^^^^^^^^^^^\n",
      "  File \"C:\\Users\\emanu\\AppData\\Local\\Temp\\ipykernel_33832\\1072382922.py\", line 34, in <lambda>\n",
      "    trial_function = lambda trial: objective_fun(trial,\n",
      "                                  ^^^^^^^^^^^^^^^^^^^^^\n",
      "  File \"C:\\Users\\emanu\\AppData\\Local\\Temp\\ipykernel_33832\\1072382922.py\", line 15, in objective_fun\n",
      "    cnn = build_model(  X.shape[1:], len(np.unique(y)),\n",
      "          ^^^^^^^^^^^^^^^^^^^^^^^^^^^^^^^^^^^^^^^^^^^^^\n",
      "  File \"C:\\Users\\emanu\\AppData\\Local\\Temp\\ipykernel_33832\\1937663146.py\", line 27, in build_model\n",
      "    model.add(Conv1D(filters=filters, kernel_size=kernel_size, activation='relu', name=f\"extra_conv_{i}\"))\n",
      "  File \"C:\\Users\\emanu\\.virtualenvs\\DM2-HUE9YkAX\\Lib\\site-packages\\tensorflow\\python\\trackable\\base.py\", line 205, in _method_wrapper\n",
      "    result = method(self, *args, **kwargs)\n",
      "             ^^^^^^^^^^^^^^^^^^^^^^^^^^^^^\n",
      "  File \"C:\\Users\\emanu\\.virtualenvs\\DM2-HUE9YkAX\\Lib\\site-packages\\keras\\utils\\traceback_utils.py\", line 70, in error_handler\n",
      "    raise e.with_traceback(filtered_tb) from None\n",
      "  File \"C:\\Users\\emanu\\.virtualenvs\\DM2-HUE9YkAX\\Lib\\site-packages\\keras\\layers\\convolutional\\base_conv.py\", line 354, in compute_output_shape\n",
      "    raise ValueError(\n",
      "ValueError: One of the dimensions in the output is <= 0 due to downsampling in extra_conv_0. Consider increasing the input size. Received input shape [None, 12, 9] which would produce output shape with a zero or negative value in a dimension.\n",
      "[W 2023-06-28 12:12:18,767] Trial 35 failed with value None.\n"
     ]
    },
    {
     "name": "stdout",
     "output_type": "stream",
     "text": [
      "Running little bitch having n_conv=1, dropout=0.11054387517499646, hidden_nodes=10\n"
     ]
    },
    {
     "name": "stderr",
     "output_type": "stream",
     "text": [
      "[W 2023-06-28 12:12:18,983] Trial 36 failed with parameters: {'n_conv': 1, 'n_hidden': 3, 'hidden_nodes': 15, 'dropout': 0.11123716985595719, 'filters': 9, 'kernel_size': 16, 'batch_size': 16, 'epochs': 66} because of the following error: ValueError('One of the dimensions in the output is <= 0 due to downsampling in extra_conv_0. Consider increasing the input size. Received input shape [None, 12, 9] which would produce output shape with a zero or negative value in a dimension.').\n",
      "Traceback (most recent call last):\n",
      "  File \"C:\\Users\\emanu\\.virtualenvs\\DM2-HUE9YkAX\\Lib\\site-packages\\optuna\\study\\_optimize.py\", line 200, in _run_trial\n",
      "    value_or_values = func(trial)\n",
      "                      ^^^^^^^^^^^\n",
      "  File \"C:\\Users\\emanu\\AppData\\Local\\Temp\\ipykernel_33832\\1072382922.py\", line 34, in <lambda>\n",
      "    trial_function = lambda trial: objective_fun(trial,\n",
      "                                  ^^^^^^^^^^^^^^^^^^^^^\n",
      "  File \"C:\\Users\\emanu\\AppData\\Local\\Temp\\ipykernel_33832\\1072382922.py\", line 15, in objective_fun\n",
      "    cnn = build_model(  X.shape[1:], len(np.unique(y)),\n",
      "          ^^^^^^^^^^^^^^^^^^^^^^^^^^^^^^^^^^^^^^^^^^^^^\n",
      "  File \"C:\\Users\\emanu\\AppData\\Local\\Temp\\ipykernel_33832\\1937663146.py\", line 27, in build_model\n",
      "    model.add(Conv1D(filters=filters, kernel_size=kernel_size, activation='relu', name=f\"extra_conv_{i}\"))\n",
      "  File \"C:\\Users\\emanu\\.virtualenvs\\DM2-HUE9YkAX\\Lib\\site-packages\\tensorflow\\python\\trackable\\base.py\", line 205, in _method_wrapper\n",
      "    result = method(self, *args, **kwargs)\n",
      "             ^^^^^^^^^^^^^^^^^^^^^^^^^^^^^\n",
      "  File \"C:\\Users\\emanu\\.virtualenvs\\DM2-HUE9YkAX\\Lib\\site-packages\\keras\\utils\\traceback_utils.py\", line 70, in error_handler\n",
      "    raise e.with_traceback(filtered_tb) from None\n",
      "  File \"C:\\Users\\emanu\\.virtualenvs\\DM2-HUE9YkAX\\Lib\\site-packages\\keras\\layers\\convolutional\\base_conv.py\", line 354, in compute_output_shape\n",
      "    raise ValueError(\n",
      "ValueError: One of the dimensions in the output is <= 0 due to downsampling in extra_conv_0. Consider increasing the input size. Received input shape [None, 12, 9] which would produce output shape with a zero or negative value in a dimension.\n",
      "[W 2023-06-28 12:12:18,992] Trial 36 failed with value None.\n"
     ]
    },
    {
     "name": "stdout",
     "output_type": "stream",
     "text": [
      "Running little bitch having n_conv=1, dropout=0.11123716985595719, hidden_nodes=15\n"
     ]
    },
    {
     "name": "stderr",
     "output_type": "stream",
     "text": [
      "[W 2023-06-28 12:12:19,223] Trial 37 failed with parameters: {'n_conv': 1, 'n_hidden': 3, 'hidden_nodes': 9, 'dropout': 0.0027782530895814235, 'filters': 9, 'kernel_size': 16, 'batch_size': 22, 'epochs': 70} because of the following error: ValueError('One of the dimensions in the output is <= 0 due to downsampling in extra_conv_0. Consider increasing the input size. Received input shape [None, 12, 9] which would produce output shape with a zero or negative value in a dimension.').\n",
      "Traceback (most recent call last):\n",
      "  File \"C:\\Users\\emanu\\.virtualenvs\\DM2-HUE9YkAX\\Lib\\site-packages\\optuna\\study\\_optimize.py\", line 200, in _run_trial\n",
      "    value_or_values = func(trial)\n",
      "                      ^^^^^^^^^^^\n",
      "  File \"C:\\Users\\emanu\\AppData\\Local\\Temp\\ipykernel_33832\\1072382922.py\", line 34, in <lambda>\n",
      "    trial_function = lambda trial: objective_fun(trial,\n",
      "                                  ^^^^^^^^^^^^^^^^^^^^^\n",
      "  File \"C:\\Users\\emanu\\AppData\\Local\\Temp\\ipykernel_33832\\1072382922.py\", line 15, in objective_fun\n",
      "    cnn = build_model(  X.shape[1:], len(np.unique(y)),\n",
      "          ^^^^^^^^^^^^^^^^^^^^^^^^^^^^^^^^^^^^^^^^^^^^^\n",
      "  File \"C:\\Users\\emanu\\AppData\\Local\\Temp\\ipykernel_33832\\1937663146.py\", line 27, in build_model\n",
      "    model.add(Conv1D(filters=filters, kernel_size=kernel_size, activation='relu', name=f\"extra_conv_{i}\"))\n",
      "  File \"C:\\Users\\emanu\\.virtualenvs\\DM2-HUE9YkAX\\Lib\\site-packages\\tensorflow\\python\\trackable\\base.py\", line 205, in _method_wrapper\n",
      "    result = method(self, *args, **kwargs)\n",
      "             ^^^^^^^^^^^^^^^^^^^^^^^^^^^^^\n",
      "  File \"C:\\Users\\emanu\\.virtualenvs\\DM2-HUE9YkAX\\Lib\\site-packages\\keras\\utils\\traceback_utils.py\", line 70, in error_handler\n",
      "    raise e.with_traceback(filtered_tb) from None\n",
      "  File \"C:\\Users\\emanu\\.virtualenvs\\DM2-HUE9YkAX\\Lib\\site-packages\\keras\\layers\\convolutional\\base_conv.py\", line 354, in compute_output_shape\n",
      "    raise ValueError(\n",
      "ValueError: One of the dimensions in the output is <= 0 due to downsampling in extra_conv_0. Consider increasing the input size. Received input shape [None, 12, 9] which would produce output shape with a zero or negative value in a dimension.\n",
      "[W 2023-06-28 12:12:19,233] Trial 37 failed with value None.\n"
     ]
    },
    {
     "name": "stdout",
     "output_type": "stream",
     "text": [
      "Running little bitch having n_conv=1, dropout=0.0027782530895814235, hidden_nodes=9\n"
     ]
    },
    {
     "name": "stderr",
     "output_type": "stream",
     "text": [
      "[W 2023-06-28 12:12:19,455] Trial 38 failed with parameters: {'n_conv': 1, 'n_hidden': 3, 'hidden_nodes': 11, 'dropout': 0.0021611680884436185, 'filters': 9, 'kernel_size': 16, 'batch_size': 19, 'epochs': 67} because of the following error: ValueError('One of the dimensions in the output is <= 0 due to downsampling in extra_conv_0. Consider increasing the input size. Received input shape [None, 12, 9] which would produce output shape with a zero or negative value in a dimension.').\n",
      "Traceback (most recent call last):\n",
      "  File \"C:\\Users\\emanu\\.virtualenvs\\DM2-HUE9YkAX\\Lib\\site-packages\\optuna\\study\\_optimize.py\", line 200, in _run_trial\n",
      "    value_or_values = func(trial)\n",
      "                      ^^^^^^^^^^^\n",
      "  File \"C:\\Users\\emanu\\AppData\\Local\\Temp\\ipykernel_33832\\1072382922.py\", line 34, in <lambda>\n",
      "    trial_function = lambda trial: objective_fun(trial,\n",
      "                                  ^^^^^^^^^^^^^^^^^^^^^\n",
      "  File \"C:\\Users\\emanu\\AppData\\Local\\Temp\\ipykernel_33832\\1072382922.py\", line 15, in objective_fun\n",
      "    cnn = build_model(  X.shape[1:], len(np.unique(y)),\n",
      "          ^^^^^^^^^^^^^^^^^^^^^^^^^^^^^^^^^^^^^^^^^^^^^\n",
      "  File \"C:\\Users\\emanu\\AppData\\Local\\Temp\\ipykernel_33832\\1937663146.py\", line 27, in build_model\n",
      "    model.add(Conv1D(filters=filters, kernel_size=kernel_size, activation='relu', name=f\"extra_conv_{i}\"))\n",
      "  File \"C:\\Users\\emanu\\.virtualenvs\\DM2-HUE9YkAX\\Lib\\site-packages\\tensorflow\\python\\trackable\\base.py\", line 205, in _method_wrapper\n",
      "    result = method(self, *args, **kwargs)\n",
      "             ^^^^^^^^^^^^^^^^^^^^^^^^^^^^^\n",
      "  File \"C:\\Users\\emanu\\.virtualenvs\\DM2-HUE9YkAX\\Lib\\site-packages\\keras\\utils\\traceback_utils.py\", line 70, in error_handler\n",
      "    raise e.with_traceback(filtered_tb) from None\n",
      "  File \"C:\\Users\\emanu\\.virtualenvs\\DM2-HUE9YkAX\\Lib\\site-packages\\keras\\layers\\convolutional\\base_conv.py\", line 354, in compute_output_shape\n",
      "    raise ValueError(\n",
      "ValueError: One of the dimensions in the output is <= 0 due to downsampling in extra_conv_0. Consider increasing the input size. Received input shape [None, 12, 9] which would produce output shape with a zero or negative value in a dimension.\n",
      "[W 2023-06-28 12:12:19,472] Trial 38 failed with value None.\n"
     ]
    },
    {
     "name": "stdout",
     "output_type": "stream",
     "text": [
      "Running little bitch having n_conv=1, dropout=0.0021611680884436185, hidden_nodes=11\n"
     ]
    },
    {
     "name": "stderr",
     "output_type": "stream",
     "text": [
      "[W 2023-06-28 12:12:19,703] Trial 39 failed with parameters: {'n_conv': 1, 'n_hidden': 3, 'hidden_nodes': 12, 'dropout': 0.004420383605721938, 'filters': 9, 'kernel_size': 16, 'batch_size': 19, 'epochs': 69} because of the following error: ValueError('One of the dimensions in the output is <= 0 due to downsampling in extra_conv_0. Consider increasing the input size. Received input shape [None, 12, 9] which would produce output shape with a zero or negative value in a dimension.').\n",
      "Traceback (most recent call last):\n",
      "  File \"C:\\Users\\emanu\\.virtualenvs\\DM2-HUE9YkAX\\Lib\\site-packages\\optuna\\study\\_optimize.py\", line 200, in _run_trial\n",
      "    value_or_values = func(trial)\n",
      "                      ^^^^^^^^^^^\n",
      "  File \"C:\\Users\\emanu\\AppData\\Local\\Temp\\ipykernel_33832\\1072382922.py\", line 34, in <lambda>\n",
      "    trial_function = lambda trial: objective_fun(trial,\n",
      "                                  ^^^^^^^^^^^^^^^^^^^^^\n",
      "  File \"C:\\Users\\emanu\\AppData\\Local\\Temp\\ipykernel_33832\\1072382922.py\", line 15, in objective_fun\n",
      "    cnn = build_model(  X.shape[1:], len(np.unique(y)),\n",
      "          ^^^^^^^^^^^^^^^^^^^^^^^^^^^^^^^^^^^^^^^^^^^^^\n",
      "  File \"C:\\Users\\emanu\\AppData\\Local\\Temp\\ipykernel_33832\\1937663146.py\", line 27, in build_model\n",
      "    model.add(Conv1D(filters=filters, kernel_size=kernel_size, activation='relu', name=f\"extra_conv_{i}\"))\n",
      "  File \"C:\\Users\\emanu\\.virtualenvs\\DM2-HUE9YkAX\\Lib\\site-packages\\tensorflow\\python\\trackable\\base.py\", line 205, in _method_wrapper\n",
      "    result = method(self, *args, **kwargs)\n",
      "             ^^^^^^^^^^^^^^^^^^^^^^^^^^^^^\n",
      "  File \"C:\\Users\\emanu\\.virtualenvs\\DM2-HUE9YkAX\\Lib\\site-packages\\keras\\utils\\traceback_utils.py\", line 70, in error_handler\n",
      "    raise e.with_traceback(filtered_tb) from None\n",
      "  File \"C:\\Users\\emanu\\.virtualenvs\\DM2-HUE9YkAX\\Lib\\site-packages\\keras\\layers\\convolutional\\base_conv.py\", line 354, in compute_output_shape\n",
      "    raise ValueError(\n",
      "ValueError: One of the dimensions in the output is <= 0 due to downsampling in extra_conv_0. Consider increasing the input size. Received input shape [None, 12, 9] which would produce output shape with a zero or negative value in a dimension.\n",
      "[W 2023-06-28 12:12:19,713] Trial 39 failed with value None.\n"
     ]
    },
    {
     "name": "stdout",
     "output_type": "stream",
     "text": [
      "Running little bitch having n_conv=1, dropout=0.004420383605721938, hidden_nodes=12\n",
      "Running little bitch having n_conv=1, dropout=0.10331664337206499, hidden_nodes=10\n"
     ]
    },
    {
     "name": "stderr",
     "output_type": "stream",
     "text": [
      "[W 2023-06-28 12:12:20,284] Trial 40 failed with parameters: {'n_conv': 1, 'n_hidden': 3, 'hidden_nodes': 10, 'dropout': 0.10331664337206499, 'filters': 9, 'kernel_size': 16, 'batch_size': 19, 'epochs': 66} because of the following error: ValueError('One of the dimensions in the output is <= 0 due to downsampling in extra_conv_0. Consider increasing the input size. Received input shape [None, 12, 9] which would produce output shape with a zero or negative value in a dimension.').\n",
      "Traceback (most recent call last):\n",
      "  File \"C:\\Users\\emanu\\.virtualenvs\\DM2-HUE9YkAX\\Lib\\site-packages\\optuna\\study\\_optimize.py\", line 200, in _run_trial\n",
      "    value_or_values = func(trial)\n",
      "                      ^^^^^^^^^^^\n",
      "  File \"C:\\Users\\emanu\\AppData\\Local\\Temp\\ipykernel_33832\\1072382922.py\", line 34, in <lambda>\n",
      "    trial_function = lambda trial: objective_fun(trial,\n",
      "                                  ^^^^^^^^^^^^^^^^^^^^^\n",
      "  File \"C:\\Users\\emanu\\AppData\\Local\\Temp\\ipykernel_33832\\1072382922.py\", line 15, in objective_fun\n",
      "    cnn = build_model(  X.shape[1:], len(np.unique(y)),\n",
      "          ^^^^^^^^^^^^^^^^^^^^^^^^^^^^^^^^^^^^^^^^^^^^^\n",
      "  File \"C:\\Users\\emanu\\AppData\\Local\\Temp\\ipykernel_33832\\1937663146.py\", line 27, in build_model\n",
      "    model.add(Conv1D(filters=filters, kernel_size=kernel_size, activation='relu', name=f\"extra_conv_{i}\"))\n",
      "  File \"C:\\Users\\emanu\\.virtualenvs\\DM2-HUE9YkAX\\Lib\\site-packages\\tensorflow\\python\\trackable\\base.py\", line 205, in _method_wrapper\n",
      "    result = method(self, *args, **kwargs)\n",
      "             ^^^^^^^^^^^^^^^^^^^^^^^^^^^^^\n",
      "  File \"C:\\Users\\emanu\\.virtualenvs\\DM2-HUE9YkAX\\Lib\\site-packages\\keras\\utils\\traceback_utils.py\", line 70, in error_handler\n",
      "    raise e.with_traceback(filtered_tb) from None\n",
      "  File \"C:\\Users\\emanu\\.virtualenvs\\DM2-HUE9YkAX\\Lib\\site-packages\\keras\\layers\\convolutional\\base_conv.py\", line 354, in compute_output_shape\n",
      "    raise ValueError(\n",
      "ValueError: One of the dimensions in the output is <= 0 due to downsampling in extra_conv_0. Consider increasing the input size. Received input shape [None, 12, 9] which would produce output shape with a zero or negative value in a dimension.\n",
      "[W 2023-06-28 12:12:20,304] Trial 40 failed with value None.\n",
      "[W 2023-06-28 12:12:20,499] Trial 41 failed with parameters: {'n_conv': 1, 'n_hidden': 3, 'hidden_nodes': 17, 'dropout': 0.10587522032459121, 'filters': 9, 'kernel_size': 16, 'batch_size': 18, 'epochs': 65} because of the following error: ValueError('One of the dimensions in the output is <= 0 due to downsampling in extra_conv_0. Consider increasing the input size. Received input shape [None, 12, 9] which would produce output shape with a zero or negative value in a dimension.').\n",
      "Traceback (most recent call last):\n",
      "  File \"C:\\Users\\emanu\\.virtualenvs\\DM2-HUE9YkAX\\Lib\\site-packages\\optuna\\study\\_optimize.py\", line 200, in _run_trial\n",
      "    value_or_values = func(trial)\n",
      "                      ^^^^^^^^^^^\n",
      "  File \"C:\\Users\\emanu\\AppData\\Local\\Temp\\ipykernel_33832\\1072382922.py\", line 34, in <lambda>\n",
      "    trial_function = lambda trial: objective_fun(trial,\n",
      "                                  ^^^^^^^^^^^^^^^^^^^^^\n",
      "  File \"C:\\Users\\emanu\\AppData\\Local\\Temp\\ipykernel_33832\\1072382922.py\", line 15, in objective_fun\n",
      "    cnn = build_model(  X.shape[1:], len(np.unique(y)),\n",
      "          ^^^^^^^^^^^^^^^^^^^^^^^^^^^^^^^^^^^^^^^^^^^^^\n",
      "  File \"C:\\Users\\emanu\\AppData\\Local\\Temp\\ipykernel_33832\\1937663146.py\", line 27, in build_model\n",
      "    model.add(Conv1D(filters=filters, kernel_size=kernel_size, activation='relu', name=f\"extra_conv_{i}\"))\n",
      "  File \"C:\\Users\\emanu\\.virtualenvs\\DM2-HUE9YkAX\\Lib\\site-packages\\tensorflow\\python\\trackable\\base.py\", line 205, in _method_wrapper\n",
      "    result = method(self, *args, **kwargs)\n",
      "             ^^^^^^^^^^^^^^^^^^^^^^^^^^^^^\n",
      "  File \"C:\\Users\\emanu\\.virtualenvs\\DM2-HUE9YkAX\\Lib\\site-packages\\keras\\utils\\traceback_utils.py\", line 70, in error_handler\n",
      "    raise e.with_traceback(filtered_tb) from None\n",
      "  File \"C:\\Users\\emanu\\.virtualenvs\\DM2-HUE9YkAX\\Lib\\site-packages\\keras\\layers\\convolutional\\base_conv.py\", line 354, in compute_output_shape\n",
      "    raise ValueError(\n",
      "ValueError: One of the dimensions in the output is <= 0 due to downsampling in extra_conv_0. Consider increasing the input size. Received input shape [None, 12, 9] which would produce output shape with a zero or negative value in a dimension.\n",
      "[W 2023-06-28 12:12:20,503] Trial 41 failed with value None.\n"
     ]
    },
    {
     "name": "stdout",
     "output_type": "stream",
     "text": [
      "Running little bitch having n_conv=1, dropout=0.10587522032459121, hidden_nodes=17\n",
      "Running little bitch having n_conv=1, dropout=0.0022490864988826582, hidden_nodes=12\n"
     ]
    },
    {
     "name": "stderr",
     "output_type": "stream",
     "text": [
      "[W 2023-06-28 12:12:20,673] Trial 42 failed with parameters: {'n_conv': 1, 'n_hidden': 3, 'hidden_nodes': 12, 'dropout': 0.0022490864988826582, 'filters': 9, 'kernel_size': 16, 'batch_size': 21, 'epochs': 67} because of the following error: ValueError('One of the dimensions in the output is <= 0 due to downsampling in extra_conv_0. Consider increasing the input size. Received input shape [None, 12, 9] which would produce output shape with a zero or negative value in a dimension.').\n",
      "Traceback (most recent call last):\n",
      "  File \"C:\\Users\\emanu\\.virtualenvs\\DM2-HUE9YkAX\\Lib\\site-packages\\optuna\\study\\_optimize.py\", line 200, in _run_trial\n",
      "    value_or_values = func(trial)\n",
      "                      ^^^^^^^^^^^\n",
      "  File \"C:\\Users\\emanu\\AppData\\Local\\Temp\\ipykernel_33832\\1072382922.py\", line 34, in <lambda>\n",
      "    trial_function = lambda trial: objective_fun(trial,\n",
      "                                  ^^^^^^^^^^^^^^^^^^^^^\n",
      "  File \"C:\\Users\\emanu\\AppData\\Local\\Temp\\ipykernel_33832\\1072382922.py\", line 15, in objective_fun\n",
      "    cnn = build_model(  X.shape[1:], len(np.unique(y)),\n",
      "          ^^^^^^^^^^^^^^^^^^^^^^^^^^^^^^^^^^^^^^^^^^^^^\n",
      "  File \"C:\\Users\\emanu\\AppData\\Local\\Temp\\ipykernel_33832\\1937663146.py\", line 27, in build_model\n",
      "    model.add(Conv1D(filters=filters, kernel_size=kernel_size, activation='relu', name=f\"extra_conv_{i}\"))\n",
      "  File \"C:\\Users\\emanu\\.virtualenvs\\DM2-HUE9YkAX\\Lib\\site-packages\\tensorflow\\python\\trackable\\base.py\", line 205, in _method_wrapper\n",
      "    result = method(self, *args, **kwargs)\n",
      "             ^^^^^^^^^^^^^^^^^^^^^^^^^^^^^\n",
      "  File \"C:\\Users\\emanu\\.virtualenvs\\DM2-HUE9YkAX\\Lib\\site-packages\\keras\\utils\\traceback_utils.py\", line 70, in error_handler\n",
      "    raise e.with_traceback(filtered_tb) from None\n",
      "  File \"C:\\Users\\emanu\\.virtualenvs\\DM2-HUE9YkAX\\Lib\\site-packages\\keras\\layers\\convolutional\\base_conv.py\", line 354, in compute_output_shape\n",
      "    raise ValueError(\n",
      "ValueError: One of the dimensions in the output is <= 0 due to downsampling in extra_conv_0. Consider increasing the input size. Received input shape [None, 12, 9] which would produce output shape with a zero or negative value in a dimension.\n",
      "[W 2023-06-28 12:12:20,684] Trial 42 failed with value None.\n",
      "[W 2023-06-28 12:12:20,824] Trial 43 failed with parameters: {'n_conv': 1, 'n_hidden': 3, 'hidden_nodes': 17, 'dropout': 0.0012588181408422598, 'filters': 9, 'kernel_size': 16, 'batch_size': 19, 'epochs': 66} because of the following error: ValueError('One of the dimensions in the output is <= 0 due to downsampling in extra_conv_0. Consider increasing the input size. Received input shape [None, 12, 9] which would produce output shape with a zero or negative value in a dimension.').\n",
      "Traceback (most recent call last):\n",
      "  File \"C:\\Users\\emanu\\.virtualenvs\\DM2-HUE9YkAX\\Lib\\site-packages\\optuna\\study\\_optimize.py\", line 200, in _run_trial\n",
      "    value_or_values = func(trial)\n",
      "                      ^^^^^^^^^^^\n",
      "  File \"C:\\Users\\emanu\\AppData\\Local\\Temp\\ipykernel_33832\\1072382922.py\", line 34, in <lambda>\n",
      "    trial_function = lambda trial: objective_fun(trial,\n",
      "                                  ^^^^^^^^^^^^^^^^^^^^^\n",
      "  File \"C:\\Users\\emanu\\AppData\\Local\\Temp\\ipykernel_33832\\1072382922.py\", line 15, in objective_fun\n",
      "    cnn = build_model(  X.shape[1:], len(np.unique(y)),\n",
      "          ^^^^^^^^^^^^^^^^^^^^^^^^^^^^^^^^^^^^^^^^^^^^^\n",
      "  File \"C:\\Users\\emanu\\AppData\\Local\\Temp\\ipykernel_33832\\1937663146.py\", line 27, in build_model\n",
      "    model.add(Conv1D(filters=filters, kernel_size=kernel_size, activation='relu', name=f\"extra_conv_{i}\"))\n",
      "  File \"C:\\Users\\emanu\\.virtualenvs\\DM2-HUE9YkAX\\Lib\\site-packages\\tensorflow\\python\\trackable\\base.py\", line 205, in _method_wrapper\n",
      "    result = method(self, *args, **kwargs)\n",
      "             ^^^^^^^^^^^^^^^^^^^^^^^^^^^^^\n",
      "  File \"C:\\Users\\emanu\\.virtualenvs\\DM2-HUE9YkAX\\Lib\\site-packages\\keras\\utils\\traceback_utils.py\", line 70, in error_handler\n",
      "    raise e.with_traceback(filtered_tb) from None\n",
      "  File \"C:\\Users\\emanu\\.virtualenvs\\DM2-HUE9YkAX\\Lib\\site-packages\\keras\\layers\\convolutional\\base_conv.py\", line 354, in compute_output_shape\n",
      "    raise ValueError(\n",
      "ValueError: One of the dimensions in the output is <= 0 due to downsampling in extra_conv_0. Consider increasing the input size. Received input shape [None, 12, 9] which would produce output shape with a zero or negative value in a dimension.\n",
      "[W 2023-06-28 12:12:20,832] Trial 43 failed with value None.\n"
     ]
    },
    {
     "name": "stdout",
     "output_type": "stream",
     "text": [
      "Running little bitch having n_conv=1, dropout=0.0012588181408422598, hidden_nodes=17\n",
      "Running little bitch having n_conv=1, dropout=0.0003654724970666573, hidden_nodes=16\n"
     ]
    },
    {
     "name": "stderr",
     "output_type": "stream",
     "text": [
      "[W 2023-06-28 12:12:21,001] Trial 44 failed with parameters: {'n_conv': 1, 'n_hidden': 3, 'hidden_nodes': 16, 'dropout': 0.0003654724970666573, 'filters': 9, 'kernel_size': 16, 'batch_size': 20, 'epochs': 68} because of the following error: ValueError('One of the dimensions in the output is <= 0 due to downsampling in extra_conv_0. Consider increasing the input size. Received input shape [None, 12, 9] which would produce output shape with a zero or negative value in a dimension.').\n",
      "Traceback (most recent call last):\n",
      "  File \"C:\\Users\\emanu\\.virtualenvs\\DM2-HUE9YkAX\\Lib\\site-packages\\optuna\\study\\_optimize.py\", line 200, in _run_trial\n",
      "    value_or_values = func(trial)\n",
      "                      ^^^^^^^^^^^\n",
      "  File \"C:\\Users\\emanu\\AppData\\Local\\Temp\\ipykernel_33832\\1072382922.py\", line 34, in <lambda>\n",
      "    trial_function = lambda trial: objective_fun(trial,\n",
      "                                  ^^^^^^^^^^^^^^^^^^^^^\n",
      "  File \"C:\\Users\\emanu\\AppData\\Local\\Temp\\ipykernel_33832\\1072382922.py\", line 15, in objective_fun\n",
      "    cnn = build_model(  X.shape[1:], len(np.unique(y)),\n",
      "          ^^^^^^^^^^^^^^^^^^^^^^^^^^^^^^^^^^^^^^^^^^^^^\n",
      "  File \"C:\\Users\\emanu\\AppData\\Local\\Temp\\ipykernel_33832\\1937663146.py\", line 27, in build_model\n",
      "    model.add(Conv1D(filters=filters, kernel_size=kernel_size, activation='relu', name=f\"extra_conv_{i}\"))\n",
      "  File \"C:\\Users\\emanu\\.virtualenvs\\DM2-HUE9YkAX\\Lib\\site-packages\\tensorflow\\python\\trackable\\base.py\", line 205, in _method_wrapper\n",
      "    result = method(self, *args, **kwargs)\n",
      "             ^^^^^^^^^^^^^^^^^^^^^^^^^^^^^\n",
      "  File \"C:\\Users\\emanu\\.virtualenvs\\DM2-HUE9YkAX\\Lib\\site-packages\\keras\\utils\\traceback_utils.py\", line 70, in error_handler\n",
      "    raise e.with_traceback(filtered_tb) from None\n",
      "  File \"C:\\Users\\emanu\\.virtualenvs\\DM2-HUE9YkAX\\Lib\\site-packages\\keras\\layers\\convolutional\\base_conv.py\", line 354, in compute_output_shape\n",
      "    raise ValueError(\n",
      "ValueError: One of the dimensions in the output is <= 0 due to downsampling in extra_conv_0. Consider increasing the input size. Received input shape [None, 12, 9] which would produce output shape with a zero or negative value in a dimension.\n",
      "[W 2023-06-28 12:12:21,014] Trial 44 failed with value None.\n",
      "[W 2023-06-28 12:12:21,182] Trial 45 failed with parameters: {'n_conv': 1, 'n_hidden': 3, 'hidden_nodes': 9, 'dropout': 5.882717067975593e-05, 'filters': 10, 'kernel_size': 15, 'batch_size': 21, 'epochs': 67} because of the following error: ValueError('One of the dimensions in the output is <= 0 due to downsampling in extra_conv_0. Consider increasing the input size. Received input shape [None, 13, 10] which would produce output shape with a zero or negative value in a dimension.').\n",
      "Traceback (most recent call last):\n",
      "  File \"C:\\Users\\emanu\\.virtualenvs\\DM2-HUE9YkAX\\Lib\\site-packages\\optuna\\study\\_optimize.py\", line 200, in _run_trial\n",
      "    value_or_values = func(trial)\n",
      "                      ^^^^^^^^^^^\n",
      "  File \"C:\\Users\\emanu\\AppData\\Local\\Temp\\ipykernel_33832\\1072382922.py\", line 34, in <lambda>\n",
      "    trial_function = lambda trial: objective_fun(trial,\n",
      "                                  ^^^^^^^^^^^^^^^^^^^^^\n",
      "  File \"C:\\Users\\emanu\\AppData\\Local\\Temp\\ipykernel_33832\\1072382922.py\", line 15, in objective_fun\n",
      "    cnn = build_model(  X.shape[1:], len(np.unique(y)),\n",
      "          ^^^^^^^^^^^^^^^^^^^^^^^^^^^^^^^^^^^^^^^^^^^^^\n",
      "  File \"C:\\Users\\emanu\\AppData\\Local\\Temp\\ipykernel_33832\\1937663146.py\", line 27, in build_model\n",
      "    model.add(Conv1D(filters=filters, kernel_size=kernel_size, activation='relu', name=f\"extra_conv_{i}\"))\n",
      "  File \"C:\\Users\\emanu\\.virtualenvs\\DM2-HUE9YkAX\\Lib\\site-packages\\tensorflow\\python\\trackable\\base.py\", line 205, in _method_wrapper\n",
      "    result = method(self, *args, **kwargs)\n",
      "             ^^^^^^^^^^^^^^^^^^^^^^^^^^^^^\n",
      "  File \"C:\\Users\\emanu\\.virtualenvs\\DM2-HUE9YkAX\\Lib\\site-packages\\keras\\utils\\traceback_utils.py\", line 70, in error_handler\n",
      "    raise e.with_traceback(filtered_tb) from None\n",
      "  File \"C:\\Users\\emanu\\.virtualenvs\\DM2-HUE9YkAX\\Lib\\site-packages\\keras\\layers\\convolutional\\base_conv.py\", line 354, in compute_output_shape\n",
      "    raise ValueError(\n",
      "ValueError: One of the dimensions in the output is <= 0 due to downsampling in extra_conv_0. Consider increasing the input size. Received input shape [None, 13, 10] which would produce output shape with a zero or negative value in a dimension.\n",
      "[W 2023-06-28 12:12:21,182] Trial 45 failed with value None.\n"
     ]
    },
    {
     "name": "stdout",
     "output_type": "stream",
     "text": [
      "Running little bitch having n_conv=1, dropout=5.882717067975593e-05, hidden_nodes=9\n",
      "Running little bitch having n_conv=1, dropout=0.0026687553426857358, hidden_nodes=47\n"
     ]
    },
    {
     "name": "stderr",
     "output_type": "stream",
     "text": [
      "[W 2023-06-28 12:12:21,365] Trial 46 failed with parameters: {'n_conv': 1, 'n_hidden': 3, 'hidden_nodes': 47, 'dropout': 0.0026687553426857358, 'filters': 9, 'kernel_size': 16, 'batch_size': 18, 'epochs': 75} because of the following error: ValueError('One of the dimensions in the output is <= 0 due to downsampling in extra_conv_0. Consider increasing the input size. Received input shape [None, 12, 9] which would produce output shape with a zero or negative value in a dimension.').\n",
      "Traceback (most recent call last):\n",
      "  File \"C:\\Users\\emanu\\.virtualenvs\\DM2-HUE9YkAX\\Lib\\site-packages\\optuna\\study\\_optimize.py\", line 200, in _run_trial\n",
      "    value_or_values = func(trial)\n",
      "                      ^^^^^^^^^^^\n",
      "  File \"C:\\Users\\emanu\\AppData\\Local\\Temp\\ipykernel_33832\\1072382922.py\", line 34, in <lambda>\n",
      "    trial_function = lambda trial: objective_fun(trial,\n",
      "                                  ^^^^^^^^^^^^^^^^^^^^^\n",
      "  File \"C:\\Users\\emanu\\AppData\\Local\\Temp\\ipykernel_33832\\1072382922.py\", line 15, in objective_fun\n",
      "    cnn = build_model(  X.shape[1:], len(np.unique(y)),\n",
      "          ^^^^^^^^^^^^^^^^^^^^^^^^^^^^^^^^^^^^^^^^^^^^^\n",
      "  File \"C:\\Users\\emanu\\AppData\\Local\\Temp\\ipykernel_33832\\1937663146.py\", line 27, in build_model\n",
      "    model.add(Conv1D(filters=filters, kernel_size=kernel_size, activation='relu', name=f\"extra_conv_{i}\"))\n",
      "  File \"C:\\Users\\emanu\\.virtualenvs\\DM2-HUE9YkAX\\Lib\\site-packages\\tensorflow\\python\\trackable\\base.py\", line 205, in _method_wrapper\n",
      "    result = method(self, *args, **kwargs)\n",
      "             ^^^^^^^^^^^^^^^^^^^^^^^^^^^^^\n",
      "  File \"C:\\Users\\emanu\\.virtualenvs\\DM2-HUE9YkAX\\Lib\\site-packages\\keras\\utils\\traceback_utils.py\", line 70, in error_handler\n",
      "    raise e.with_traceback(filtered_tb) from None\n",
      "  File \"C:\\Users\\emanu\\.virtualenvs\\DM2-HUE9YkAX\\Lib\\site-packages\\keras\\layers\\convolutional\\base_conv.py\", line 354, in compute_output_shape\n",
      "    raise ValueError(\n",
      "ValueError: One of the dimensions in the output is <= 0 due to downsampling in extra_conv_0. Consider increasing the input size. Received input shape [None, 12, 9] which would produce output shape with a zero or negative value in a dimension.\n",
      "[W 2023-06-28 12:12:21,373] Trial 46 failed with value None.\n",
      "[W 2023-06-28 12:12:21,564] Trial 47 failed with parameters: {'n_conv': 1, 'n_hidden': 3, 'hidden_nodes': 18, 'dropout': 0.11094878223312603, 'filters': 9, 'kernel_size': 16, 'batch_size': 18, 'epochs': 66} because of the following error: ValueError('One of the dimensions in the output is <= 0 due to downsampling in extra_conv_0. Consider increasing the input size. Received input shape [None, 12, 9] which would produce output shape with a zero or negative value in a dimension.').\n",
      "Traceback (most recent call last):\n",
      "  File \"C:\\Users\\emanu\\.virtualenvs\\DM2-HUE9YkAX\\Lib\\site-packages\\optuna\\study\\_optimize.py\", line 200, in _run_trial\n",
      "    value_or_values = func(trial)\n",
      "                      ^^^^^^^^^^^\n",
      "  File \"C:\\Users\\emanu\\AppData\\Local\\Temp\\ipykernel_33832\\1072382922.py\", line 34, in <lambda>\n",
      "    trial_function = lambda trial: objective_fun(trial,\n",
      "                                  ^^^^^^^^^^^^^^^^^^^^^\n",
      "  File \"C:\\Users\\emanu\\AppData\\Local\\Temp\\ipykernel_33832\\1072382922.py\", line 15, in objective_fun\n",
      "    cnn = build_model(  X.shape[1:], len(np.unique(y)),\n",
      "          ^^^^^^^^^^^^^^^^^^^^^^^^^^^^^^^^^^^^^^^^^^^^^\n",
      "  File \"C:\\Users\\emanu\\AppData\\Local\\Temp\\ipykernel_33832\\1937663146.py\", line 27, in build_model\n",
      "    model.add(Conv1D(filters=filters, kernel_size=kernel_size, activation='relu', name=f\"extra_conv_{i}\"))\n",
      "  File \"C:\\Users\\emanu\\.virtualenvs\\DM2-HUE9YkAX\\Lib\\site-packages\\tensorflow\\python\\trackable\\base.py\", line 205, in _method_wrapper\n",
      "    result = method(self, *args, **kwargs)\n",
      "             ^^^^^^^^^^^^^^^^^^^^^^^^^^^^^\n",
      "  File \"C:\\Users\\emanu\\.virtualenvs\\DM2-HUE9YkAX\\Lib\\site-packages\\keras\\utils\\traceback_utils.py\", line 70, in error_handler\n",
      "    raise e.with_traceback(filtered_tb) from None\n",
      "  File \"C:\\Users\\emanu\\.virtualenvs\\DM2-HUE9YkAX\\Lib\\site-packages\\keras\\layers\\convolutional\\base_conv.py\", line 354, in compute_output_shape\n",
      "    raise ValueError(\n",
      "ValueError: One of the dimensions in the output is <= 0 due to downsampling in extra_conv_0. Consider increasing the input size. Received input shape [None, 12, 9] which would produce output shape with a zero or negative value in a dimension.\n",
      "[W 2023-06-28 12:12:21,573] Trial 47 failed with value None.\n"
     ]
    },
    {
     "name": "stdout",
     "output_type": "stream",
     "text": [
      "Running little bitch having n_conv=1, dropout=0.11094878223312603, hidden_nodes=18\n",
      "Running little bitch having n_conv=1, dropout=0.10860507348362923, hidden_nodes=10\n"
     ]
    },
    {
     "name": "stderr",
     "output_type": "stream",
     "text": [
      "[W 2023-06-28 12:12:21,753] Trial 48 failed with parameters: {'n_conv': 1, 'n_hidden': 3, 'hidden_nodes': 10, 'dropout': 0.10860507348362923, 'filters': 9, 'kernel_size': 15, 'batch_size': 17, 'epochs': 69} because of the following error: ValueError('One of the dimensions in the output is <= 0 due to downsampling in extra_conv_0. Consider increasing the input size. Received input shape [None, 13, 9] which would produce output shape with a zero or negative value in a dimension.').\n",
      "Traceback (most recent call last):\n",
      "  File \"C:\\Users\\emanu\\.virtualenvs\\DM2-HUE9YkAX\\Lib\\site-packages\\optuna\\study\\_optimize.py\", line 200, in _run_trial\n",
      "    value_or_values = func(trial)\n",
      "                      ^^^^^^^^^^^\n",
      "  File \"C:\\Users\\emanu\\AppData\\Local\\Temp\\ipykernel_33832\\1072382922.py\", line 34, in <lambda>\n",
      "    trial_function = lambda trial: objective_fun(trial,\n",
      "                                  ^^^^^^^^^^^^^^^^^^^^^\n",
      "  File \"C:\\Users\\emanu\\AppData\\Local\\Temp\\ipykernel_33832\\1072382922.py\", line 15, in objective_fun\n",
      "    cnn = build_model(  X.shape[1:], len(np.unique(y)),\n",
      "          ^^^^^^^^^^^^^^^^^^^^^^^^^^^^^^^^^^^^^^^^^^^^^\n",
      "  File \"C:\\Users\\emanu\\AppData\\Local\\Temp\\ipykernel_33832\\1937663146.py\", line 27, in build_model\n",
      "    model.add(Conv1D(filters=filters, kernel_size=kernel_size, activation='relu', name=f\"extra_conv_{i}\"))\n",
      "  File \"C:\\Users\\emanu\\.virtualenvs\\DM2-HUE9YkAX\\Lib\\site-packages\\tensorflow\\python\\trackable\\base.py\", line 205, in _method_wrapper\n",
      "    result = method(self, *args, **kwargs)\n",
      "             ^^^^^^^^^^^^^^^^^^^^^^^^^^^^^\n",
      "  File \"C:\\Users\\emanu\\.virtualenvs\\DM2-HUE9YkAX\\Lib\\site-packages\\keras\\utils\\traceback_utils.py\", line 70, in error_handler\n",
      "    raise e.with_traceback(filtered_tb) from None\n",
      "  File \"C:\\Users\\emanu\\.virtualenvs\\DM2-HUE9YkAX\\Lib\\site-packages\\keras\\layers\\convolutional\\base_conv.py\", line 354, in compute_output_shape\n",
      "    raise ValueError(\n",
      "ValueError: One of the dimensions in the output is <= 0 due to downsampling in extra_conv_0. Consider increasing the input size. Received input shape [None, 13, 9] which would produce output shape with a zero or negative value in a dimension.\n",
      "[W 2023-06-28 12:12:21,762] Trial 48 failed with value None.\n",
      "[W 2023-06-28 12:12:21,952] Trial 49 failed with parameters: {'n_conv': 1, 'n_hidden': 3, 'hidden_nodes': 9, 'dropout': 0.11718803032555307, 'filters': 9, 'kernel_size': 15, 'batch_size': 20, 'epochs': 68} because of the following error: ValueError('One of the dimensions in the output is <= 0 due to downsampling in extra_conv_0. Consider increasing the input size. Received input shape [None, 13, 9] which would produce output shape with a zero or negative value in a dimension.').\n",
      "Traceback (most recent call last):\n",
      "  File \"C:\\Users\\emanu\\.virtualenvs\\DM2-HUE9YkAX\\Lib\\site-packages\\optuna\\study\\_optimize.py\", line 200, in _run_trial\n",
      "    value_or_values = func(trial)\n",
      "                      ^^^^^^^^^^^\n",
      "  File \"C:\\Users\\emanu\\AppData\\Local\\Temp\\ipykernel_33832\\1072382922.py\", line 34, in <lambda>\n",
      "    trial_function = lambda trial: objective_fun(trial,\n",
      "                                  ^^^^^^^^^^^^^^^^^^^^^\n",
      "  File \"C:\\Users\\emanu\\AppData\\Local\\Temp\\ipykernel_33832\\1072382922.py\", line 15, in objective_fun\n",
      "    cnn = build_model(  X.shape[1:], len(np.unique(y)),\n",
      "          ^^^^^^^^^^^^^^^^^^^^^^^^^^^^^^^^^^^^^^^^^^^^^\n",
      "  File \"C:\\Users\\emanu\\AppData\\Local\\Temp\\ipykernel_33832\\1937663146.py\", line 27, in build_model\n",
      "    model.add(Conv1D(filters=filters, kernel_size=kernel_size, activation='relu', name=f\"extra_conv_{i}\"))\n",
      "  File \"C:\\Users\\emanu\\.virtualenvs\\DM2-HUE9YkAX\\Lib\\site-packages\\tensorflow\\python\\trackable\\base.py\", line 205, in _method_wrapper\n",
      "    result = method(self, *args, **kwargs)\n",
      "             ^^^^^^^^^^^^^^^^^^^^^^^^^^^^^\n",
      "  File \"C:\\Users\\emanu\\.virtualenvs\\DM2-HUE9YkAX\\Lib\\site-packages\\keras\\utils\\traceback_utils.py\", line 70, in error_handler\n",
      "    raise e.with_traceback(filtered_tb) from None\n",
      "  File \"C:\\Users\\emanu\\.virtualenvs\\DM2-HUE9YkAX\\Lib\\site-packages\\keras\\layers\\convolutional\\base_conv.py\", line 354, in compute_output_shape\n",
      "    raise ValueError(\n",
      "ValueError: One of the dimensions in the output is <= 0 due to downsampling in extra_conv_0. Consider increasing the input size. Received input shape [None, 13, 9] which would produce output shape with a zero or negative value in a dimension.\n",
      "[W 2023-06-28 12:12:21,954] Trial 49 failed with value None.\n"
     ]
    },
    {
     "name": "stdout",
     "output_type": "stream",
     "text": [
      "Running little bitch having n_conv=1, dropout=0.11718803032555307, hidden_nodes=9\n",
      "Running little bitch having n_conv=1, dropout=0.0019446546386962874, hidden_nodes=8\n"
     ]
    },
    {
     "name": "stderr",
     "output_type": "stream",
     "text": [
      "[W 2023-06-28 12:12:22,143] Trial 50 failed with parameters: {'n_conv': 1, 'n_hidden': 3, 'hidden_nodes': 8, 'dropout': 0.0019446546386962874, 'filters': 9, 'kernel_size': 16, 'batch_size': 20, 'epochs': 68} because of the following error: ValueError('One of the dimensions in the output is <= 0 due to downsampling in extra_conv_0. Consider increasing the input size. Received input shape [None, 12, 9] which would produce output shape with a zero or negative value in a dimension.').\n",
      "Traceback (most recent call last):\n",
      "  File \"C:\\Users\\emanu\\.virtualenvs\\DM2-HUE9YkAX\\Lib\\site-packages\\optuna\\study\\_optimize.py\", line 200, in _run_trial\n",
      "    value_or_values = func(trial)\n",
      "                      ^^^^^^^^^^^\n",
      "  File \"C:\\Users\\emanu\\AppData\\Local\\Temp\\ipykernel_33832\\1072382922.py\", line 34, in <lambda>\n",
      "    trial_function = lambda trial: objective_fun(trial,\n",
      "                                  ^^^^^^^^^^^^^^^^^^^^^\n",
      "  File \"C:\\Users\\emanu\\AppData\\Local\\Temp\\ipykernel_33832\\1072382922.py\", line 15, in objective_fun\n",
      "    cnn = build_model(  X.shape[1:], len(np.unique(y)),\n",
      "          ^^^^^^^^^^^^^^^^^^^^^^^^^^^^^^^^^^^^^^^^^^^^^\n",
      "  File \"C:\\Users\\emanu\\AppData\\Local\\Temp\\ipykernel_33832\\1937663146.py\", line 27, in build_model\n",
      "    model.add(Conv1D(filters=filters, kernel_size=kernel_size, activation='relu', name=f\"extra_conv_{i}\"))\n",
      "  File \"C:\\Users\\emanu\\.virtualenvs\\DM2-HUE9YkAX\\Lib\\site-packages\\tensorflow\\python\\trackable\\base.py\", line 205, in _method_wrapper\n",
      "    result = method(self, *args, **kwargs)\n",
      "             ^^^^^^^^^^^^^^^^^^^^^^^^^^^^^\n",
      "  File \"C:\\Users\\emanu\\.virtualenvs\\DM2-HUE9YkAX\\Lib\\site-packages\\keras\\utils\\traceback_utils.py\", line 70, in error_handler\n",
      "    raise e.with_traceback(filtered_tb) from None\n",
      "  File \"C:\\Users\\emanu\\.virtualenvs\\DM2-HUE9YkAX\\Lib\\site-packages\\keras\\layers\\convolutional\\base_conv.py\", line 354, in compute_output_shape\n",
      "    raise ValueError(\n",
      "ValueError: One of the dimensions in the output is <= 0 due to downsampling in extra_conv_0. Consider increasing the input size. Received input shape [None, 12, 9] which would produce output shape with a zero or negative value in a dimension.\n",
      "[W 2023-06-28 12:12:22,152] Trial 50 failed with value None.\n",
      "[W 2023-06-28 12:12:22,348] Trial 51 failed with parameters: {'n_conv': 1, 'n_hidden': 3, 'hidden_nodes': 18, 'dropout': 0.002655227735541943, 'filters': 9, 'kernel_size': 16, 'batch_size': 20, 'epochs': 68} because of the following error: ValueError('One of the dimensions in the output is <= 0 due to downsampling in extra_conv_0. Consider increasing the input size. Received input shape [None, 12, 9] which would produce output shape with a zero or negative value in a dimension.').\n",
      "Traceback (most recent call last):\n",
      "  File \"C:\\Users\\emanu\\.virtualenvs\\DM2-HUE9YkAX\\Lib\\site-packages\\optuna\\study\\_optimize.py\", line 200, in _run_trial\n",
      "    value_or_values = func(trial)\n",
      "                      ^^^^^^^^^^^\n",
      "  File \"C:\\Users\\emanu\\AppData\\Local\\Temp\\ipykernel_33832\\1072382922.py\", line 34, in <lambda>\n",
      "    trial_function = lambda trial: objective_fun(trial,\n",
      "                                  ^^^^^^^^^^^^^^^^^^^^^\n",
      "  File \"C:\\Users\\emanu\\AppData\\Local\\Temp\\ipykernel_33832\\1072382922.py\", line 15, in objective_fun\n",
      "    cnn = build_model(  X.shape[1:], len(np.unique(y)),\n",
      "          ^^^^^^^^^^^^^^^^^^^^^^^^^^^^^^^^^^^^^^^^^^^^^\n",
      "  File \"C:\\Users\\emanu\\AppData\\Local\\Temp\\ipykernel_33832\\1937663146.py\", line 27, in build_model\n",
      "    model.add(Conv1D(filters=filters, kernel_size=kernel_size, activation='relu', name=f\"extra_conv_{i}\"))\n",
      "  File \"C:\\Users\\emanu\\.virtualenvs\\DM2-HUE9YkAX\\Lib\\site-packages\\tensorflow\\python\\trackable\\base.py\", line 205, in _method_wrapper\n",
      "    result = method(self, *args, **kwargs)\n",
      "             ^^^^^^^^^^^^^^^^^^^^^^^^^^^^^\n",
      "  File \"C:\\Users\\emanu\\.virtualenvs\\DM2-HUE9YkAX\\Lib\\site-packages\\keras\\utils\\traceback_utils.py\", line 70, in error_handler\n",
      "    raise e.with_traceback(filtered_tb) from None\n",
      "  File \"C:\\Users\\emanu\\.virtualenvs\\DM2-HUE9YkAX\\Lib\\site-packages\\keras\\layers\\convolutional\\base_conv.py\", line 354, in compute_output_shape\n",
      "    raise ValueError(\n",
      "ValueError: One of the dimensions in the output is <= 0 due to downsampling in extra_conv_0. Consider increasing the input size. Received input shape [None, 12, 9] which would produce output shape with a zero or negative value in a dimension.\n",
      "[W 2023-06-28 12:12:22,353] Trial 51 failed with value None.\n"
     ]
    },
    {
     "name": "stdout",
     "output_type": "stream",
     "text": [
      "Running little bitch having n_conv=1, dropout=0.002655227735541943, hidden_nodes=18\n",
      "Running little bitch having n_conv=1, dropout=0.0012764233532804453, hidden_nodes=29\n"
     ]
    },
    {
     "name": "stderr",
     "output_type": "stream",
     "text": [
      "[W 2023-06-28 12:12:22,539] Trial 52 failed with parameters: {'n_conv': 1, 'n_hidden': 3, 'hidden_nodes': 29, 'dropout': 0.0012764233532804453, 'filters': 10, 'kernel_size': 16, 'batch_size': 21, 'epochs': 66} because of the following error: ValueError('One of the dimensions in the output is <= 0 due to downsampling in extra_conv_0. Consider increasing the input size. Received input shape [None, 12, 10] which would produce output shape with a zero or negative value in a dimension.').\n",
      "Traceback (most recent call last):\n",
      "  File \"C:\\Users\\emanu\\.virtualenvs\\DM2-HUE9YkAX\\Lib\\site-packages\\optuna\\study\\_optimize.py\", line 200, in _run_trial\n",
      "    value_or_values = func(trial)\n",
      "                      ^^^^^^^^^^^\n",
      "  File \"C:\\Users\\emanu\\AppData\\Local\\Temp\\ipykernel_33832\\1072382922.py\", line 34, in <lambda>\n",
      "    trial_function = lambda trial: objective_fun(trial,\n",
      "                                  ^^^^^^^^^^^^^^^^^^^^^\n",
      "  File \"C:\\Users\\emanu\\AppData\\Local\\Temp\\ipykernel_33832\\1072382922.py\", line 15, in objective_fun\n",
      "    cnn = build_model(  X.shape[1:], len(np.unique(y)),\n",
      "          ^^^^^^^^^^^^^^^^^^^^^^^^^^^^^^^^^^^^^^^^^^^^^\n",
      "  File \"C:\\Users\\emanu\\AppData\\Local\\Temp\\ipykernel_33832\\1937663146.py\", line 27, in build_model\n",
      "    model.add(Conv1D(filters=filters, kernel_size=kernel_size, activation='relu', name=f\"extra_conv_{i}\"))\n",
      "  File \"C:\\Users\\emanu\\.virtualenvs\\DM2-HUE9YkAX\\Lib\\site-packages\\tensorflow\\python\\trackable\\base.py\", line 205, in _method_wrapper\n",
      "    result = method(self, *args, **kwargs)\n",
      "             ^^^^^^^^^^^^^^^^^^^^^^^^^^^^^\n",
      "  File \"C:\\Users\\emanu\\.virtualenvs\\DM2-HUE9YkAX\\Lib\\site-packages\\keras\\utils\\traceback_utils.py\", line 70, in error_handler\n",
      "    raise e.with_traceback(filtered_tb) from None\n",
      "  File \"C:\\Users\\emanu\\.virtualenvs\\DM2-HUE9YkAX\\Lib\\site-packages\\keras\\layers\\convolutional\\base_conv.py\", line 354, in compute_output_shape\n",
      "    raise ValueError(\n",
      "ValueError: One of the dimensions in the output is <= 0 due to downsampling in extra_conv_0. Consider increasing the input size. Received input shape [None, 12, 10] which would produce output shape with a zero or negative value in a dimension.\n",
      "[W 2023-06-28 12:12:22,545] Trial 52 failed with value None.\n",
      "[W 2023-06-28 12:12:22,724] Trial 53 failed with parameters: {'n_conv': 1, 'n_hidden': 3, 'hidden_nodes': 13, 'dropout': 0.11395192755486364, 'filters': 9, 'kernel_size': 16, 'batch_size': 21, 'epochs': 68} because of the following error: ValueError('One of the dimensions in the output is <= 0 due to downsampling in extra_conv_0. Consider increasing the input size. Received input shape [None, 12, 9] which would produce output shape with a zero or negative value in a dimension.').\n",
      "Traceback (most recent call last):\n",
      "  File \"C:\\Users\\emanu\\.virtualenvs\\DM2-HUE9YkAX\\Lib\\site-packages\\optuna\\study\\_optimize.py\", line 200, in _run_trial\n",
      "    value_or_values = func(trial)\n",
      "                      ^^^^^^^^^^^\n",
      "  File \"C:\\Users\\emanu\\AppData\\Local\\Temp\\ipykernel_33832\\1072382922.py\", line 34, in <lambda>\n",
      "    trial_function = lambda trial: objective_fun(trial,\n",
      "                                  ^^^^^^^^^^^^^^^^^^^^^\n",
      "  File \"C:\\Users\\emanu\\AppData\\Local\\Temp\\ipykernel_33832\\1072382922.py\", line 15, in objective_fun\n",
      "    cnn = build_model(  X.shape[1:], len(np.unique(y)),\n",
      "          ^^^^^^^^^^^^^^^^^^^^^^^^^^^^^^^^^^^^^^^^^^^^^\n",
      "  File \"C:\\Users\\emanu\\AppData\\Local\\Temp\\ipykernel_33832\\1937663146.py\", line 27, in build_model\n",
      "    model.add(Conv1D(filters=filters, kernel_size=kernel_size, activation='relu', name=f\"extra_conv_{i}\"))\n",
      "  File \"C:\\Users\\emanu\\.virtualenvs\\DM2-HUE9YkAX\\Lib\\site-packages\\tensorflow\\python\\trackable\\base.py\", line 205, in _method_wrapper\n",
      "    result = method(self, *args, **kwargs)\n",
      "             ^^^^^^^^^^^^^^^^^^^^^^^^^^^^^\n",
      "  File \"C:\\Users\\emanu\\.virtualenvs\\DM2-HUE9YkAX\\Lib\\site-packages\\keras\\utils\\traceback_utils.py\", line 70, in error_handler\n",
      "    raise e.with_traceback(filtered_tb) from None\n",
      "  File \"C:\\Users\\emanu\\.virtualenvs\\DM2-HUE9YkAX\\Lib\\site-packages\\keras\\layers\\convolutional\\base_conv.py\", line 354, in compute_output_shape\n",
      "    raise ValueError(\n",
      "ValueError: One of the dimensions in the output is <= 0 due to downsampling in extra_conv_0. Consider increasing the input size. Received input shape [None, 12, 9] which would produce output shape with a zero or negative value in a dimension.\n",
      "[W 2023-06-28 12:12:22,733] Trial 53 failed with value None.\n"
     ]
    },
    {
     "name": "stdout",
     "output_type": "stream",
     "text": [
      "Running little bitch having n_conv=1, dropout=0.11395192755486364, hidden_nodes=13\n",
      "Running little bitch having n_conv=1, dropout=0.10436484851192424, hidden_nodes=8\n"
     ]
    },
    {
     "name": "stderr",
     "output_type": "stream",
     "text": [
      "[W 2023-06-28 12:12:22,948] Trial 54 failed with parameters: {'n_conv': 1, 'n_hidden': 3, 'hidden_nodes': 8, 'dropout': 0.10436484851192424, 'filters': 9, 'kernel_size': 16, 'batch_size': 20, 'epochs': 66} because of the following error: ValueError('One of the dimensions in the output is <= 0 due to downsampling in extra_conv_0. Consider increasing the input size. Received input shape [None, 12, 9] which would produce output shape with a zero or negative value in a dimension.').\n",
      "Traceback (most recent call last):\n",
      "  File \"C:\\Users\\emanu\\.virtualenvs\\DM2-HUE9YkAX\\Lib\\site-packages\\optuna\\study\\_optimize.py\", line 200, in _run_trial\n",
      "    value_or_values = func(trial)\n",
      "                      ^^^^^^^^^^^\n",
      "  File \"C:\\Users\\emanu\\AppData\\Local\\Temp\\ipykernel_33832\\1072382922.py\", line 34, in <lambda>\n",
      "    trial_function = lambda trial: objective_fun(trial,\n",
      "                                  ^^^^^^^^^^^^^^^^^^^^^\n",
      "  File \"C:\\Users\\emanu\\AppData\\Local\\Temp\\ipykernel_33832\\1072382922.py\", line 15, in objective_fun\n",
      "    cnn = build_model(  X.shape[1:], len(np.unique(y)),\n",
      "          ^^^^^^^^^^^^^^^^^^^^^^^^^^^^^^^^^^^^^^^^^^^^^\n",
      "  File \"C:\\Users\\emanu\\AppData\\Local\\Temp\\ipykernel_33832\\1937663146.py\", line 27, in build_model\n",
      "    model.add(Conv1D(filters=filters, kernel_size=kernel_size, activation='relu', name=f\"extra_conv_{i}\"))\n",
      "  File \"C:\\Users\\emanu\\.virtualenvs\\DM2-HUE9YkAX\\Lib\\site-packages\\tensorflow\\python\\trackable\\base.py\", line 205, in _method_wrapper\n",
      "    result = method(self, *args, **kwargs)\n",
      "             ^^^^^^^^^^^^^^^^^^^^^^^^^^^^^\n",
      "  File \"C:\\Users\\emanu\\.virtualenvs\\DM2-HUE9YkAX\\Lib\\site-packages\\keras\\utils\\traceback_utils.py\", line 70, in error_handler\n",
      "    raise e.with_traceback(filtered_tb) from None\n",
      "  File \"C:\\Users\\emanu\\.virtualenvs\\DM2-HUE9YkAX\\Lib\\site-packages\\keras\\layers\\convolutional\\base_conv.py\", line 354, in compute_output_shape\n",
      "    raise ValueError(\n",
      "ValueError: One of the dimensions in the output is <= 0 due to downsampling in extra_conv_0. Consider increasing the input size. Received input shape [None, 12, 9] which would produce output shape with a zero or negative value in a dimension.\n",
      "[W 2023-06-28 12:12:22,959] Trial 54 failed with value None.\n",
      "[W 2023-06-28 12:12:23,144] Trial 55 failed with parameters: {'n_conv': 1, 'n_hidden': 3, 'hidden_nodes': 40, 'dropout': 0.11122065225655872, 'filters': 9, 'kernel_size': 16, 'batch_size': 24, 'epochs': 67} because of the following error: ValueError('One of the dimensions in the output is <= 0 due to downsampling in extra_conv_0. Consider increasing the input size. Received input shape [None, 12, 9] which would produce output shape with a zero or negative value in a dimension.').\n",
      "Traceback (most recent call last):\n",
      "  File \"C:\\Users\\emanu\\.virtualenvs\\DM2-HUE9YkAX\\Lib\\site-packages\\optuna\\study\\_optimize.py\", line 200, in _run_trial\n",
      "    value_or_values = func(trial)\n",
      "                      ^^^^^^^^^^^\n",
      "  File \"C:\\Users\\emanu\\AppData\\Local\\Temp\\ipykernel_33832\\1072382922.py\", line 34, in <lambda>\n",
      "    trial_function = lambda trial: objective_fun(trial,\n",
      "                                  ^^^^^^^^^^^^^^^^^^^^^\n",
      "  File \"C:\\Users\\emanu\\AppData\\Local\\Temp\\ipykernel_33832\\1072382922.py\", line 15, in objective_fun\n",
      "    cnn = build_model(  X.shape[1:], len(np.unique(y)),\n",
      "          ^^^^^^^^^^^^^^^^^^^^^^^^^^^^^^^^^^^^^^^^^^^^^\n",
      "  File \"C:\\Users\\emanu\\AppData\\Local\\Temp\\ipykernel_33832\\1937663146.py\", line 27, in build_model\n",
      "    model.add(Conv1D(filters=filters, kernel_size=kernel_size, activation='relu', name=f\"extra_conv_{i}\"))\n",
      "  File \"C:\\Users\\emanu\\.virtualenvs\\DM2-HUE9YkAX\\Lib\\site-packages\\tensorflow\\python\\trackable\\base.py\", line 205, in _method_wrapper\n",
      "    result = method(self, *args, **kwargs)\n",
      "             ^^^^^^^^^^^^^^^^^^^^^^^^^^^^^\n",
      "  File \"C:\\Users\\emanu\\.virtualenvs\\DM2-HUE9YkAX\\Lib\\site-packages\\keras\\utils\\traceback_utils.py\", line 70, in error_handler\n",
      "    raise e.with_traceback(filtered_tb) from None\n",
      "  File \"C:\\Users\\emanu\\.virtualenvs\\DM2-HUE9YkAX\\Lib\\site-packages\\keras\\layers\\convolutional\\base_conv.py\", line 354, in compute_output_shape\n",
      "    raise ValueError(\n",
      "ValueError: One of the dimensions in the output is <= 0 due to downsampling in extra_conv_0. Consider increasing the input size. Received input shape [None, 12, 9] which would produce output shape with a zero or negative value in a dimension.\n",
      "[W 2023-06-28 12:12:23,152] Trial 55 failed with value None.\n"
     ]
    },
    {
     "name": "stdout",
     "output_type": "stream",
     "text": [
      "Running little bitch having n_conv=1, dropout=0.11122065225655872, hidden_nodes=40\n",
      "Running little bitch having n_conv=1, dropout=0.000919231507432075, hidden_nodes=17\n"
     ]
    },
    {
     "name": "stderr",
     "output_type": "stream",
     "text": [
      "[W 2023-06-28 12:12:23,334] Trial 56 failed with parameters: {'n_conv': 1, 'n_hidden': 3, 'hidden_nodes': 17, 'dropout': 0.000919231507432075, 'filters': 9, 'kernel_size': 16, 'batch_size': 17, 'epochs': 71} because of the following error: ValueError('One of the dimensions in the output is <= 0 due to downsampling in extra_conv_0. Consider increasing the input size. Received input shape [None, 12, 9] which would produce output shape with a zero or negative value in a dimension.').\n",
      "Traceback (most recent call last):\n",
      "  File \"C:\\Users\\emanu\\.virtualenvs\\DM2-HUE9YkAX\\Lib\\site-packages\\optuna\\study\\_optimize.py\", line 200, in _run_trial\n",
      "    value_or_values = func(trial)\n",
      "                      ^^^^^^^^^^^\n",
      "  File \"C:\\Users\\emanu\\AppData\\Local\\Temp\\ipykernel_33832\\1072382922.py\", line 34, in <lambda>\n",
      "    trial_function = lambda trial: objective_fun(trial,\n",
      "                                  ^^^^^^^^^^^^^^^^^^^^^\n",
      "  File \"C:\\Users\\emanu\\AppData\\Local\\Temp\\ipykernel_33832\\1072382922.py\", line 15, in objective_fun\n",
      "    cnn = build_model(  X.shape[1:], len(np.unique(y)),\n",
      "          ^^^^^^^^^^^^^^^^^^^^^^^^^^^^^^^^^^^^^^^^^^^^^\n",
      "  File \"C:\\Users\\emanu\\AppData\\Local\\Temp\\ipykernel_33832\\1937663146.py\", line 27, in build_model\n",
      "    model.add(Conv1D(filters=filters, kernel_size=kernel_size, activation='relu', name=f\"extra_conv_{i}\"))\n",
      "  File \"C:\\Users\\emanu\\.virtualenvs\\DM2-HUE9YkAX\\Lib\\site-packages\\tensorflow\\python\\trackable\\base.py\", line 205, in _method_wrapper\n",
      "    result = method(self, *args, **kwargs)\n",
      "             ^^^^^^^^^^^^^^^^^^^^^^^^^^^^^\n",
      "  File \"C:\\Users\\emanu\\.virtualenvs\\DM2-HUE9YkAX\\Lib\\site-packages\\keras\\utils\\traceback_utils.py\", line 70, in error_handler\n",
      "    raise e.with_traceback(filtered_tb) from None\n",
      "  File \"C:\\Users\\emanu\\.virtualenvs\\DM2-HUE9YkAX\\Lib\\site-packages\\keras\\layers\\convolutional\\base_conv.py\", line 354, in compute_output_shape\n",
      "    raise ValueError(\n",
      "ValueError: One of the dimensions in the output is <= 0 due to downsampling in extra_conv_0. Consider increasing the input size. Received input shape [None, 12, 9] which would produce output shape with a zero or negative value in a dimension.\n",
      "[W 2023-06-28 12:12:23,334] Trial 56 failed with value None.\n",
      "[W 2023-06-28 12:12:23,534] Trial 57 failed with parameters: {'n_conv': 1, 'n_hidden': 3, 'hidden_nodes': 9, 'dropout': 0.10227815545073234, 'filters': 9, 'kernel_size': 15, 'batch_size': 21, 'epochs': 66} because of the following error: ValueError('One of the dimensions in the output is <= 0 due to downsampling in extra_conv_0. Consider increasing the input size. Received input shape [None, 13, 9] which would produce output shape with a zero or negative value in a dimension.').\n",
      "Traceback (most recent call last):\n",
      "  File \"C:\\Users\\emanu\\.virtualenvs\\DM2-HUE9YkAX\\Lib\\site-packages\\optuna\\study\\_optimize.py\", line 200, in _run_trial\n",
      "    value_or_values = func(trial)\n",
      "                      ^^^^^^^^^^^\n",
      "  File \"C:\\Users\\emanu\\AppData\\Local\\Temp\\ipykernel_33832\\1072382922.py\", line 34, in <lambda>\n",
      "    trial_function = lambda trial: objective_fun(trial,\n",
      "                                  ^^^^^^^^^^^^^^^^^^^^^\n",
      "  File \"C:\\Users\\emanu\\AppData\\Local\\Temp\\ipykernel_33832\\1072382922.py\", line 15, in objective_fun\n",
      "    cnn = build_model(  X.shape[1:], len(np.unique(y)),\n",
      "          ^^^^^^^^^^^^^^^^^^^^^^^^^^^^^^^^^^^^^^^^^^^^^\n",
      "  File \"C:\\Users\\emanu\\AppData\\Local\\Temp\\ipykernel_33832\\1937663146.py\", line 27, in build_model\n",
      "    model.add(Conv1D(filters=filters, kernel_size=kernel_size, activation='relu', name=f\"extra_conv_{i}\"))\n",
      "  File \"C:\\Users\\emanu\\.virtualenvs\\DM2-HUE9YkAX\\Lib\\site-packages\\tensorflow\\python\\trackable\\base.py\", line 205, in _method_wrapper\n",
      "    result = method(self, *args, **kwargs)\n",
      "             ^^^^^^^^^^^^^^^^^^^^^^^^^^^^^\n",
      "  File \"C:\\Users\\emanu\\.virtualenvs\\DM2-HUE9YkAX\\Lib\\site-packages\\keras\\utils\\traceback_utils.py\", line 70, in error_handler\n",
      "    raise e.with_traceback(filtered_tb) from None\n",
      "  File \"C:\\Users\\emanu\\.virtualenvs\\DM2-HUE9YkAX\\Lib\\site-packages\\keras\\layers\\convolutional\\base_conv.py\", line 354, in compute_output_shape\n",
      "    raise ValueError(\n",
      "ValueError: One of the dimensions in the output is <= 0 due to downsampling in extra_conv_0. Consider increasing the input size. Received input shape [None, 13, 9] which would produce output shape with a zero or negative value in a dimension.\n",
      "[W 2023-06-28 12:12:23,548] Trial 57 failed with value None.\n"
     ]
    },
    {
     "name": "stdout",
     "output_type": "stream",
     "text": [
      "Running little bitch having n_conv=1, dropout=0.10227815545073234, hidden_nodes=9\n",
      "Running little bitch having n_conv=1, dropout=0.0010360700842760619, hidden_nodes=8\n"
     ]
    },
    {
     "name": "stderr",
     "output_type": "stream",
     "text": [
      "[W 2023-06-28 12:12:23,824] Trial 58 failed with parameters: {'n_conv': 1, 'n_hidden': 3, 'hidden_nodes': 8, 'dropout': 0.0010360700842760619, 'filters': 9, 'kernel_size': 15, 'batch_size': 20, 'epochs': 67} because of the following error: ValueError('One of the dimensions in the output is <= 0 due to downsampling in extra_conv_0. Consider increasing the input size. Received input shape [None, 13, 9] which would produce output shape with a zero or negative value in a dimension.').\n",
      "Traceback (most recent call last):\n",
      "  File \"C:\\Users\\emanu\\.virtualenvs\\DM2-HUE9YkAX\\Lib\\site-packages\\optuna\\study\\_optimize.py\", line 200, in _run_trial\n",
      "    value_or_values = func(trial)\n",
      "                      ^^^^^^^^^^^\n",
      "  File \"C:\\Users\\emanu\\AppData\\Local\\Temp\\ipykernel_33832\\1072382922.py\", line 34, in <lambda>\n",
      "    trial_function = lambda trial: objective_fun(trial,\n",
      "                                  ^^^^^^^^^^^^^^^^^^^^^\n",
      "  File \"C:\\Users\\emanu\\AppData\\Local\\Temp\\ipykernel_33832\\1072382922.py\", line 15, in objective_fun\n",
      "    cnn = build_model(  X.shape[1:], len(np.unique(y)),\n",
      "          ^^^^^^^^^^^^^^^^^^^^^^^^^^^^^^^^^^^^^^^^^^^^^\n",
      "  File \"C:\\Users\\emanu\\AppData\\Local\\Temp\\ipykernel_33832\\1937663146.py\", line 27, in build_model\n",
      "    model.add(Conv1D(filters=filters, kernel_size=kernel_size, activation='relu', name=f\"extra_conv_{i}\"))\n",
      "  File \"C:\\Users\\emanu\\.virtualenvs\\DM2-HUE9YkAX\\Lib\\site-packages\\tensorflow\\python\\trackable\\base.py\", line 205, in _method_wrapper\n",
      "    result = method(self, *args, **kwargs)\n",
      "             ^^^^^^^^^^^^^^^^^^^^^^^^^^^^^\n",
      "  File \"C:\\Users\\emanu\\.virtualenvs\\DM2-HUE9YkAX\\Lib\\site-packages\\keras\\utils\\traceback_utils.py\", line 70, in error_handler\n",
      "    raise e.with_traceback(filtered_tb) from None\n",
      "  File \"C:\\Users\\emanu\\.virtualenvs\\DM2-HUE9YkAX\\Lib\\site-packages\\keras\\layers\\convolutional\\base_conv.py\", line 354, in compute_output_shape\n",
      "    raise ValueError(\n",
      "ValueError: One of the dimensions in the output is <= 0 due to downsampling in extra_conv_0. Consider increasing the input size. Received input shape [None, 13, 9] which would produce output shape with a zero or negative value in a dimension.\n",
      "[W 2023-06-28 12:12:23,833] Trial 58 failed with value None.\n",
      "[W 2023-06-28 12:12:24,102] Trial 59 failed with parameters: {'n_conv': 1, 'n_hidden': 3, 'hidden_nodes': 9, 'dropout': 0.11448730726692691, 'filters': 9, 'kernel_size': 16, 'batch_size': 18, 'epochs': 67} because of the following error: ValueError('One of the dimensions in the output is <= 0 due to downsampling in extra_conv_0. Consider increasing the input size. Received input shape [None, 12, 9] which would produce output shape with a zero or negative value in a dimension.').\n",
      "Traceback (most recent call last):\n",
      "  File \"C:\\Users\\emanu\\.virtualenvs\\DM2-HUE9YkAX\\Lib\\site-packages\\optuna\\study\\_optimize.py\", line 200, in _run_trial\n",
      "    value_or_values = func(trial)\n",
      "                      ^^^^^^^^^^^\n",
      "  File \"C:\\Users\\emanu\\AppData\\Local\\Temp\\ipykernel_33832\\1072382922.py\", line 34, in <lambda>\n",
      "    trial_function = lambda trial: objective_fun(trial,\n",
      "                                  ^^^^^^^^^^^^^^^^^^^^^\n",
      "  File \"C:\\Users\\emanu\\AppData\\Local\\Temp\\ipykernel_33832\\1072382922.py\", line 15, in objective_fun\n",
      "    cnn = build_model(  X.shape[1:], len(np.unique(y)),\n",
      "          ^^^^^^^^^^^^^^^^^^^^^^^^^^^^^^^^^^^^^^^^^^^^^\n",
      "  File \"C:\\Users\\emanu\\AppData\\Local\\Temp\\ipykernel_33832\\1937663146.py\", line 27, in build_model\n",
      "    model.add(Conv1D(filters=filters, kernel_size=kernel_size, activation='relu', name=f\"extra_conv_{i}\"))\n",
      "  File \"C:\\Users\\emanu\\.virtualenvs\\DM2-HUE9YkAX\\Lib\\site-packages\\tensorflow\\python\\trackable\\base.py\", line 205, in _method_wrapper\n",
      "    result = method(self, *args, **kwargs)\n",
      "             ^^^^^^^^^^^^^^^^^^^^^^^^^^^^^\n",
      "  File \"C:\\Users\\emanu\\.virtualenvs\\DM2-HUE9YkAX\\Lib\\site-packages\\keras\\utils\\traceback_utils.py\", line 70, in error_handler\n",
      "    raise e.with_traceback(filtered_tb) from None\n",
      "  File \"C:\\Users\\emanu\\.virtualenvs\\DM2-HUE9YkAX\\Lib\\site-packages\\keras\\layers\\convolutional\\base_conv.py\", line 354, in compute_output_shape\n",
      "    raise ValueError(\n",
      "ValueError: One of the dimensions in the output is <= 0 due to downsampling in extra_conv_0. Consider increasing the input size. Received input shape [None, 12, 9] which would produce output shape with a zero or negative value in a dimension.\n"
     ]
    },
    {
     "name": "stdout",
     "output_type": "stream",
     "text": [
      "Running little bitch having n_conv=1, dropout=0.11448730726692691, hidden_nodes=9\n"
     ]
    },
    {
     "name": "stderr",
     "output_type": "stream",
     "text": [
      "[W 2023-06-28 12:12:24,102] Trial 59 failed with value None.\n"
     ]
    },
    {
     "name": "stdout",
     "output_type": "stream",
     "text": [
      "Running little bitch having n_conv=1, dropout=0.1098307967372047, hidden_nodes=24\n",
      " 8/13 [=================>............] - ETA: 0s"
     ]
    },
    {
     "name": "stderr",
     "output_type": "stream",
     "text": [
      "[W 2023-06-28 12:12:24,355] Trial 60 failed with parameters: {'n_conv': 1, 'n_hidden': 3, 'hidden_nodes': 24, 'dropout': 0.1098307967372047, 'filters': 8, 'kernel_size': 16, 'batch_size': 21, 'epochs': 68} because of the following error: ValueError('One of the dimensions in the output is <= 0 due to downsampling in extra_conv_0. Consider increasing the input size. Received input shape [None, 12, 8] which would produce output shape with a zero or negative value in a dimension.').\n",
      "Traceback (most recent call last):\n",
      "  File \"C:\\Users\\emanu\\.virtualenvs\\DM2-HUE9YkAX\\Lib\\site-packages\\optuna\\study\\_optimize.py\", line 200, in _run_trial\n",
      "    value_or_values = func(trial)\n",
      "                      ^^^^^^^^^^^\n",
      "  File \"C:\\Users\\emanu\\AppData\\Local\\Temp\\ipykernel_33832\\1072382922.py\", line 34, in <lambda>\n",
      "    trial_function = lambda trial: objective_fun(trial,\n",
      "                                  ^^^^^^^^^^^^^^^^^^^^^\n",
      "  File \"C:\\Users\\emanu\\AppData\\Local\\Temp\\ipykernel_33832\\1072382922.py\", line 15, in objective_fun\n",
      "    cnn = build_model(  X.shape[1:], len(np.unique(y)),\n",
      "          ^^^^^^^^^^^^^^^^^^^^^^^^^^^^^^^^^^^^^^^^^^^^^\n",
      "  File \"C:\\Users\\emanu\\AppData\\Local\\Temp\\ipykernel_33832\\1937663146.py\", line 27, in build_model\n",
      "    model.add(Conv1D(filters=filters, kernel_size=kernel_size, activation='relu', name=f\"extra_conv_{i}\"))\n",
      "  File \"C:\\Users\\emanu\\.virtualenvs\\DM2-HUE9YkAX\\Lib\\site-packages\\tensorflow\\python\\trackable\\base.py\", line 205, in _method_wrapper\n",
      "    result = method(self, *args, **kwargs)\n",
      "             ^^^^^^^^^^^^^^^^^^^^^^^^^^^^^\n",
      "  File \"C:\\Users\\emanu\\.virtualenvs\\DM2-HUE9YkAX\\Lib\\site-packages\\keras\\utils\\traceback_utils.py\", line 70, in error_handler\n",
      "    raise e.with_traceback(filtered_tb) from None\n",
      "  File \"C:\\Users\\emanu\\.virtualenvs\\DM2-HUE9YkAX\\Lib\\site-packages\\keras\\layers\\convolutional\\base_conv.py\", line 354, in compute_output_shape\n",
      "    raise ValueError(\n",
      "ValueError: One of the dimensions in the output is <= 0 due to downsampling in extra_conv_0. Consider increasing the input size. Received input shape [None, 12, 8] which would produce output shape with a zero or negative value in a dimension.\n",
      "[W 2023-06-28 12:12:24,368] Trial 60 failed with value None.\n"
     ]
    },
    {
     "name": "stdout",
     "output_type": "stream",
     "text": [
      "13/13 [==============================] - 1s 7ms/step\n",
      "Running little bitch having n_conv=1, dropout=0.1112317732295579, hidden_nodes=26\n"
     ]
    },
    {
     "name": "stderr",
     "output_type": "stream",
     "text": [
      "[I 2023-06-28 12:12:24,539] Trial 15 finished with value: 0.9715762273901809 and parameters: {'n_conv': 0, 'n_hidden': 3, 'hidden_nodes': 117, 'dropout': 0.15649590612255093, 'filters': 7, 'kernel_size': 15, 'batch_size': 28, 'epochs': 41}. Best is trial 12 with value: 0.979328165374677.\n"
     ]
    },
    {
     "name": "stdout",
     "output_type": "stream",
     "text": [
      "Running little bitch having n_conv=1, dropout=0.12132419241165232, hidden_nodes=18"
     ]
    },
    {
     "name": "stderr",
     "output_type": "stream",
     "text": [
      "[W 2023-06-28 12:12:24,665] Trial 61 failed with parameters: {'n_conv': 1, 'n_hidden': 3, 'hidden_nodes': 26, 'dropout': 0.1112317732295579, 'filters': 9, 'kernel_size': 16, 'batch_size': 21, 'epochs': 65} because of the following error: ValueError('One of the dimensions in the output is <= 0 due to downsampling in extra_conv_0. Consider increasing the input size. Received input shape [None, 12, 9] which would produce output shape with a zero or negative value in a dimension.').\n",
      "Traceback (most recent call last):\n",
      "  File \"C:\\Users\\emanu\\.virtualenvs\\DM2-HUE9YkAX\\Lib\\site-packages\\optuna\\study\\_optimize.py\", line 200, in _run_trial\n",
      "    value_or_values = func(trial)\n",
      "                      ^^^^^^^^^^^\n",
      "  File \"C:\\Users\\emanu\\AppData\\Local\\Temp\\ipykernel_33832\\1072382922.py\", line 34, in <lambda>\n",
      "    trial_function = lambda trial: objective_fun(trial,\n",
      "                                  ^^^^^^^^^^^^^^^^^^^^^\n",
      "  File \"C:\\Users\\emanu\\AppData\\Local\\Temp\\ipykernel_33832\\1072382922.py\", line 15, in objective_fun\n",
      "    cnn = build_model(  X.shape[1:], len(np.unique(y)),\n",
      "          ^^^^^^^^^^^^^^^^^^^^^^^^^^^^^^^^^^^^^^^^^^^^^\n",
      "  File \"C:\\Users\\emanu\\AppData\\Local\\Temp\\ipykernel_33832\\1937663146.py\", line 27, in build_model\n",
      "    model.add(Conv1D(filters=filters, kernel_size=kernel_size, activation='relu', name=f\"extra_conv_{i}\"))\n",
      "  File \"C:\\Users\\emanu\\.virtualenvs\\DM2-HUE9YkAX\\Lib\\site-packages\\tensorflow\\python\\trackable\\base.py\", line 205, in _method_wrapper\n",
      "    result = method(self, *args, **kwargs)\n",
      "             ^^^^^^^^^^^^^^^^^^^^^^^^^^^^^\n",
      "  File \"C:\\Users\\emanu\\.virtualenvs\\DM2-HUE9YkAX\\Lib\\site-packages\\keras\\utils\\traceback_utils.py\", line 70, in error_handler\n",
      "    raise e.with_traceback(filtered_tb) from None\n",
      "  File \"C:\\Users\\emanu\\.virtualenvs\\DM2-HUE9YkAX\\Lib\\site-packages\\keras\\layers\\convolutional\\base_conv.py\", line 354, in compute_output_shape\n",
      "    raise ValueError(\n",
      "ValueError: One of the dimensions in the output is <= 0 due to downsampling in extra_conv_0. Consider increasing the input size. Received input shape [None, 12, 9] which would produce output shape with a zero or negative value in a dimension.\n",
      "[W 2023-06-28 12:12:24,672] Trial 61 failed with value None.\n"
     ]
    },
    {
     "name": "stdout",
     "output_type": "stream",
     "text": [
      "\n",
      "Running little bitch having n_conv=1, dropout=0.11769530131849962, hidden_nodes=41\n",
      "13/13 [==============================] - 1s 9ms/step\n"
     ]
    },
    {
     "name": "stderr",
     "output_type": "stream",
     "text": [
      "[I 2023-06-28 12:12:27,013] Trial 16 finished with value: 0.9534883720930233 and parameters: {'n_conv': 1, 'n_hidden': 2, 'hidden_nodes': 71, 'dropout': 0.10199444521552624, 'filters': 10, 'kernel_size': 4, 'batch_size': 62, 'epochs': 62}. Best is trial 12 with value: 0.979328165374677.\n"
     ]
    },
    {
     "name": "stdout",
     "output_type": "stream",
     "text": [
      "Running little bitch having n_conv=1, dropout=0.10828503101780045, hidden_nodes=21\n",
      "13/13 [==============================] - 0s 10ms/step\n",
      " 1/13 [=>............................] - ETA: 4s"
     ]
    },
    {
     "name": "stderr",
     "output_type": "stream",
     "text": [
      "[I 2023-06-28 12:12:27,647] Trial 19 finished with value: 0.9560723514211886 and parameters: {'n_conv': 0, 'n_hidden': 0, 'hidden_nodes': 169, 'dropout': 0.18644429212879762, 'filters': 10, 'kernel_size': 6, 'batch_size': 34, 'epochs': 36}. Best is trial 12 with value: 0.979328165374677.\n"
     ]
    },
    {
     "name": "stdout",
     "output_type": "stream",
     "text": [
      " 8/13 [=================>............] - ETA: 0sRunning little bitch having n_conv=1, dropout=0.10430610540414281, hidden_nodes=10\n",
      "13/13 [==============================] - 1s 18ms/step\n"
     ]
    },
    {
     "name": "stderr",
     "output_type": "stream",
     "text": [
      "[I 2023-06-28 12:12:27,984] Trial 23 finished with value: 0.9689922480620154 and parameters: {'n_conv': 0, 'n_hidden': 0, 'hidden_nodes': 222, 'dropout': 0.1976341797231773, 'filters': 15, 'kernel_size': 7, 'batch_size': 53, 'epochs': 17}. Best is trial 12 with value: 0.979328165374677.\n"
     ]
    },
    {
     "name": "stdout",
     "output_type": "stream",
     "text": [
      "Running little bitch having n_conv=1, dropout=0.10857854001614335, hidden_nodes=8\n",
      "13/13 [==============================] - 0s 12ms/step\n"
     ]
    },
    {
     "name": "stderr",
     "output_type": "stream",
     "text": [
      "[I 2023-06-28 12:12:34,354] Trial 18 finished with value: 0.917312661498708 and parameters: {'n_conv': 0, 'n_hidden': 1, 'hidden_nodes': 233, 'dropout': 0.0379450761550864, 'filters': 8, 'kernel_size': 6, 'batch_size': 47, 'epochs': 81}. Best is trial 12 with value: 0.979328165374677.\n"
     ]
    },
    {
     "name": "stdout",
     "output_type": "stream",
     "text": [
      "Running little bitch having n_conv=1, dropout=0.12024611528913347, hidden_nodes=10\n",
      "13/13 [==============================] - 1s 16ms/step\n"
     ]
    },
    {
     "name": "stderr",
     "output_type": "stream",
     "text": [
      "[I 2023-06-28 12:12:35,848] Trial 22 finished with value: 0.9844961240310077 and parameters: {'n_conv': 0, 'n_hidden': 1, 'hidden_nodes': 47, 'dropout': 0.18563569652256898, 'filters': 12, 'kernel_size': 9, 'batch_size': 41, 'epochs': 39}. Best is trial 22 with value: 0.9844961240310077.\n"
     ]
    },
    {
     "name": "stdout",
     "output_type": "stream",
     "text": [
      "Running little bitch having n_conv=1, dropout=0.14048866048179484, hidden_nodes=16\n",
      "13/13 [==============================] - 1s 7ms/step\n"
     ]
    },
    {
     "name": "stderr",
     "output_type": "stream",
     "text": [
      "[I 2023-06-28 12:13:04,758] Trial 21 finished with value: 0.9767441860465116 and parameters: {'n_conv': 1, 'n_hidden': 3, 'hidden_nodes': 243, 'dropout': 0.11252698952203993, 'filters': 4, 'kernel_size': 11, 'batch_size': 32, 'epochs': 81}. Best is trial 22 with value: 0.9844961240310077.\n"
     ]
    },
    {
     "name": "stdout",
     "output_type": "stream",
     "text": [
      "Running little bitch having n_conv=2, dropout=0.13132180612611424, hidden_nodes=25\n"
     ]
    },
    {
     "name": "stderr",
     "output_type": "stream",
     "text": [
      "[W 2023-06-28 12:13:05,132] Trial 69 failed with parameters: {'n_conv': 2, 'n_hidden': 2, 'hidden_nodes': 25, 'dropout': 0.13132180612611424, 'filters': 12, 'kernel_size': 11, 'batch_size': 24, 'epochs': 62} because of the following error: ValueError('One of the dimensions in the output is <= 0 due to downsampling in extra_conv_1. Consider increasing the input size. Received input shape [None, 7, 12] which would produce output shape with a zero or negative value in a dimension.').\n",
      "Traceback (most recent call last):\n",
      "  File \"C:\\Users\\emanu\\.virtualenvs\\DM2-HUE9YkAX\\Lib\\site-packages\\optuna\\study\\_optimize.py\", line 200, in _run_trial\n",
      "    value_or_values = func(trial)\n",
      "                      ^^^^^^^^^^^\n",
      "  File \"C:\\Users\\emanu\\AppData\\Local\\Temp\\ipykernel_33832\\1072382922.py\", line 34, in <lambda>\n",
      "    trial_function = lambda trial: objective_fun(trial,\n",
      "                                  ^^^^^^^^^^^^^^^^^^^^^\n",
      "  File \"C:\\Users\\emanu\\AppData\\Local\\Temp\\ipykernel_33832\\1072382922.py\", line 15, in objective_fun\n",
      "    cnn = build_model(  X.shape[1:], len(np.unique(y)),\n",
      "          ^^^^^^^^^^^^^^^^^^^^^^^^^^^^^^^^^^^^^^^^^^^^^\n",
      "  File \"C:\\Users\\emanu\\AppData\\Local\\Temp\\ipykernel_33832\\1937663146.py\", line 27, in build_model\n",
      "    model.add(Conv1D(filters=filters, kernel_size=kernel_size, activation='relu', name=f\"extra_conv_{i}\"))\n",
      "  File \"C:\\Users\\emanu\\.virtualenvs\\DM2-HUE9YkAX\\Lib\\site-packages\\tensorflow\\python\\trackable\\base.py\", line 205, in _method_wrapper\n",
      "    result = method(self, *args, **kwargs)\n",
      "             ^^^^^^^^^^^^^^^^^^^^^^^^^^^^^\n",
      "  File \"C:\\Users\\emanu\\.virtualenvs\\DM2-HUE9YkAX\\Lib\\site-packages\\keras\\utils\\traceback_utils.py\", line 70, in error_handler\n",
      "    raise e.with_traceback(filtered_tb) from None\n",
      "  File \"C:\\Users\\emanu\\.virtualenvs\\DM2-HUE9YkAX\\Lib\\site-packages\\keras\\layers\\convolutional\\base_conv.py\", line 354, in compute_output_shape\n",
      "    raise ValueError(\n",
      "ValueError: One of the dimensions in the output is <= 0 due to downsampling in extra_conv_1. Consider increasing the input size. Received input shape [None, 7, 12] which would produce output shape with a zero or negative value in a dimension.\n",
      "[W 2023-06-28 12:13:05,135] Trial 69 failed with value None.\n"
     ]
    },
    {
     "name": "stdout",
     "output_type": "stream",
     "text": [
      "Running little bitch having n_conv=2, dropout=0.13118184108839817, hidden_nodes=29\n"
     ]
    },
    {
     "name": "stderr",
     "output_type": "stream",
     "text": [
      "[W 2023-06-28 12:13:05,567] Trial 70 failed with parameters: {'n_conv': 2, 'n_hidden': 2, 'hidden_nodes': 29, 'dropout': 0.13118184108839817, 'filters': 13, 'kernel_size': 12, 'batch_size': 16, 'epochs': 64} because of the following error: ValueError('One of the dimensions in the output is <= 0 due to downsampling in extra_conv_1. Consider increasing the input size. Received input shape [None, 5, 13] which would produce output shape with a zero or negative value in a dimension.').\n",
      "Traceback (most recent call last):\n",
      "  File \"C:\\Users\\emanu\\.virtualenvs\\DM2-HUE9YkAX\\Lib\\site-packages\\optuna\\study\\_optimize.py\", line 200, in _run_trial\n",
      "    value_or_values = func(trial)\n",
      "                      ^^^^^^^^^^^\n",
      "  File \"C:\\Users\\emanu\\AppData\\Local\\Temp\\ipykernel_33832\\1072382922.py\", line 34, in <lambda>\n",
      "    trial_function = lambda trial: objective_fun(trial,\n",
      "                                  ^^^^^^^^^^^^^^^^^^^^^\n",
      "  File \"C:\\Users\\emanu\\AppData\\Local\\Temp\\ipykernel_33832\\1072382922.py\", line 15, in objective_fun\n",
      "    cnn = build_model(  X.shape[1:], len(np.unique(y)),\n",
      "          ^^^^^^^^^^^^^^^^^^^^^^^^^^^^^^^^^^^^^^^^^^^^^\n",
      "  File \"C:\\Users\\emanu\\AppData\\Local\\Temp\\ipykernel_33832\\1937663146.py\", line 27, in build_model\n",
      "    model.add(Conv1D(filters=filters, kernel_size=kernel_size, activation='relu', name=f\"extra_conv_{i}\"))\n",
      "  File \"C:\\Users\\emanu\\.virtualenvs\\DM2-HUE9YkAX\\Lib\\site-packages\\tensorflow\\python\\trackable\\base.py\", line 205, in _method_wrapper\n",
      "    result = method(self, *args, **kwargs)\n",
      "             ^^^^^^^^^^^^^^^^^^^^^^^^^^^^^\n",
      "  File \"C:\\Users\\emanu\\.virtualenvs\\DM2-HUE9YkAX\\Lib\\site-packages\\keras\\utils\\traceback_utils.py\", line 70, in error_handler\n",
      "    raise e.with_traceback(filtered_tb) from None\n",
      "  File \"C:\\Users\\emanu\\.virtualenvs\\DM2-HUE9YkAX\\Lib\\site-packages\\keras\\layers\\convolutional\\base_conv.py\", line 354, in compute_output_shape\n",
      "    raise ValueError(\n",
      "ValueError: One of the dimensions in the output is <= 0 due to downsampling in extra_conv_1. Consider increasing the input size. Received input shape [None, 5, 13] which would produce output shape with a zero or negative value in a dimension.\n",
      "[W 2023-06-28 12:13:05,575] Trial 70 failed with value None.\n"
     ]
    },
    {
     "name": "stdout",
     "output_type": "stream",
     "text": [
      "Running little bitch having n_conv=2, dropout=0.13679240300899273, hidden_nodes=19\n"
     ]
    },
    {
     "name": "stderr",
     "output_type": "stream",
     "text": [
      "[W 2023-06-28 12:13:05,953] Trial 71 failed with parameters: {'n_conv': 2, 'n_hidden': 2, 'hidden_nodes': 19, 'dropout': 0.13679240300899273, 'filters': 13, 'kernel_size': 11, 'batch_size': 21, 'epochs': 61} because of the following error: ValueError('One of the dimensions in the output is <= 0 due to downsampling in extra_conv_1. Consider increasing the input size. Received input shape [None, 7, 13] which would produce output shape with a zero or negative value in a dimension.').\n",
      "Traceback (most recent call last):\n",
      "  File \"C:\\Users\\emanu\\.virtualenvs\\DM2-HUE9YkAX\\Lib\\site-packages\\optuna\\study\\_optimize.py\", line 200, in _run_trial\n",
      "    value_or_values = func(trial)\n",
      "                      ^^^^^^^^^^^\n",
      "  File \"C:\\Users\\emanu\\AppData\\Local\\Temp\\ipykernel_33832\\1072382922.py\", line 34, in <lambda>\n",
      "    trial_function = lambda trial: objective_fun(trial,\n",
      "                                  ^^^^^^^^^^^^^^^^^^^^^\n",
      "  File \"C:\\Users\\emanu\\AppData\\Local\\Temp\\ipykernel_33832\\1072382922.py\", line 15, in objective_fun\n",
      "    cnn = build_model(  X.shape[1:], len(np.unique(y)),\n",
      "          ^^^^^^^^^^^^^^^^^^^^^^^^^^^^^^^^^^^^^^^^^^^^^\n",
      "  File \"C:\\Users\\emanu\\AppData\\Local\\Temp\\ipykernel_33832\\1937663146.py\", line 27, in build_model\n",
      "    model.add(Conv1D(filters=filters, kernel_size=kernel_size, activation='relu', name=f\"extra_conv_{i}\"))\n",
      "  File \"C:\\Users\\emanu\\.virtualenvs\\DM2-HUE9YkAX\\Lib\\site-packages\\tensorflow\\python\\trackable\\base.py\", line 205, in _method_wrapper\n",
      "    result = method(self, *args, **kwargs)\n",
      "             ^^^^^^^^^^^^^^^^^^^^^^^^^^^^^\n",
      "  File \"C:\\Users\\emanu\\.virtualenvs\\DM2-HUE9YkAX\\Lib\\site-packages\\keras\\utils\\traceback_utils.py\", line 70, in error_handler\n",
      "    raise e.with_traceback(filtered_tb) from None\n",
      "  File \"C:\\Users\\emanu\\.virtualenvs\\DM2-HUE9YkAX\\Lib\\site-packages\\keras\\layers\\convolutional\\base_conv.py\", line 354, in compute_output_shape\n",
      "    raise ValueError(\n",
      "ValueError: One of the dimensions in the output is <= 0 due to downsampling in extra_conv_1. Consider increasing the input size. Received input shape [None, 7, 13] which would produce output shape with a zero or negative value in a dimension.\n",
      "[W 2023-06-28 12:13:05,968] Trial 71 failed with value None.\n"
     ]
    },
    {
     "name": "stdout",
     "output_type": "stream",
     "text": [
      "Running little bitch having n_conv=2, dropout=0.13154386260782908, hidden_nodes=10\n"
     ]
    },
    {
     "name": "stderr",
     "output_type": "stream",
     "text": [
      "[W 2023-06-28 12:13:06,353] Trial 72 failed with parameters: {'n_conv': 2, 'n_hidden': 2, 'hidden_nodes': 10, 'dropout': 0.13154386260782908, 'filters': 13, 'kernel_size': 12, 'batch_size': 53, 'epochs': 65} because of the following error: ValueError('One of the dimensions in the output is <= 0 due to downsampling in extra_conv_1. Consider increasing the input size. Received input shape [None, 5, 13] which would produce output shape with a zero or negative value in a dimension.').\n",
      "Traceback (most recent call last):\n",
      "  File \"C:\\Users\\emanu\\.virtualenvs\\DM2-HUE9YkAX\\Lib\\site-packages\\optuna\\study\\_optimize.py\", line 200, in _run_trial\n",
      "    value_or_values = func(trial)\n",
      "                      ^^^^^^^^^^^\n",
      "  File \"C:\\Users\\emanu\\AppData\\Local\\Temp\\ipykernel_33832\\1072382922.py\", line 34, in <lambda>\n",
      "    trial_function = lambda trial: objective_fun(trial,\n",
      "                                  ^^^^^^^^^^^^^^^^^^^^^\n",
      "  File \"C:\\Users\\emanu\\AppData\\Local\\Temp\\ipykernel_33832\\1072382922.py\", line 15, in objective_fun\n",
      "    cnn = build_model(  X.shape[1:], len(np.unique(y)),\n",
      "          ^^^^^^^^^^^^^^^^^^^^^^^^^^^^^^^^^^^^^^^^^^^^^\n",
      "  File \"C:\\Users\\emanu\\AppData\\Local\\Temp\\ipykernel_33832\\1937663146.py\", line 27, in build_model\n",
      "    model.add(Conv1D(filters=filters, kernel_size=kernel_size, activation='relu', name=f\"extra_conv_{i}\"))\n",
      "  File \"C:\\Users\\emanu\\.virtualenvs\\DM2-HUE9YkAX\\Lib\\site-packages\\tensorflow\\python\\trackable\\base.py\", line 205, in _method_wrapper\n",
      "    result = method(self, *args, **kwargs)\n",
      "             ^^^^^^^^^^^^^^^^^^^^^^^^^^^^^\n",
      "  File \"C:\\Users\\emanu\\.virtualenvs\\DM2-HUE9YkAX\\Lib\\site-packages\\keras\\utils\\traceback_utils.py\", line 70, in error_handler\n",
      "    raise e.with_traceback(filtered_tb) from None\n",
      "  File \"C:\\Users\\emanu\\.virtualenvs\\DM2-HUE9YkAX\\Lib\\site-packages\\keras\\layers\\convolutional\\base_conv.py\", line 354, in compute_output_shape\n",
      "    raise ValueError(\n",
      "ValueError: One of the dimensions in the output is <= 0 due to downsampling in extra_conv_1. Consider increasing the input size. Received input shape [None, 5, 13] which would produce output shape with a zero or negative value in a dimension.\n",
      "[W 2023-06-28 12:13:06,368] Trial 72 failed with value None.\n"
     ]
    },
    {
     "name": "stdout",
     "output_type": "stream",
     "text": [
      "Running little bitch having n_conv=2, dropout=0.13417478231797492, hidden_nodes=13\n"
     ]
    },
    {
     "name": "stderr",
     "output_type": "stream",
     "text": [
      "[W 2023-06-28 12:13:06,784] Trial 73 failed with parameters: {'n_conv': 2, 'n_hidden': 2, 'hidden_nodes': 13, 'dropout': 0.13417478231797492, 'filters': 13, 'kernel_size': 11, 'batch_size': 16, 'epochs': 70} because of the following error: ValueError('One of the dimensions in the output is <= 0 due to downsampling in extra_conv_1. Consider increasing the input size. Received input shape [None, 7, 13] which would produce output shape with a zero or negative value in a dimension.').\n",
      "Traceback (most recent call last):\n",
      "  File \"C:\\Users\\emanu\\.virtualenvs\\DM2-HUE9YkAX\\Lib\\site-packages\\optuna\\study\\_optimize.py\", line 200, in _run_trial\n",
      "    value_or_values = func(trial)\n",
      "                      ^^^^^^^^^^^\n",
      "  File \"C:\\Users\\emanu\\AppData\\Local\\Temp\\ipykernel_33832\\1072382922.py\", line 34, in <lambda>\n",
      "    trial_function = lambda trial: objective_fun(trial,\n",
      "                                  ^^^^^^^^^^^^^^^^^^^^^\n",
      "  File \"C:\\Users\\emanu\\AppData\\Local\\Temp\\ipykernel_33832\\1072382922.py\", line 15, in objective_fun\n",
      "    cnn = build_model(  X.shape[1:], len(np.unique(y)),\n",
      "          ^^^^^^^^^^^^^^^^^^^^^^^^^^^^^^^^^^^^^^^^^^^^^\n",
      "  File \"C:\\Users\\emanu\\AppData\\Local\\Temp\\ipykernel_33832\\1937663146.py\", line 27, in build_model\n",
      "    model.add(Conv1D(filters=filters, kernel_size=kernel_size, activation='relu', name=f\"extra_conv_{i}\"))\n",
      "  File \"C:\\Users\\emanu\\.virtualenvs\\DM2-HUE9YkAX\\Lib\\site-packages\\tensorflow\\python\\trackable\\base.py\", line 205, in _method_wrapper\n",
      "    result = method(self, *args, **kwargs)\n",
      "             ^^^^^^^^^^^^^^^^^^^^^^^^^^^^^\n",
      "  File \"C:\\Users\\emanu\\.virtualenvs\\DM2-HUE9YkAX\\Lib\\site-packages\\keras\\utils\\traceback_utils.py\", line 70, in error_handler\n",
      "    raise e.with_traceback(filtered_tb) from None\n",
      "  File \"C:\\Users\\emanu\\.virtualenvs\\DM2-HUE9YkAX\\Lib\\site-packages\\keras\\layers\\convolutional\\base_conv.py\", line 354, in compute_output_shape\n",
      "    raise ValueError(\n",
      "ValueError: One of the dimensions in the output is <= 0 due to downsampling in extra_conv_1. Consider increasing the input size. Received input shape [None, 7, 13] which would produce output shape with a zero or negative value in a dimension.\n",
      "[W 2023-06-28 12:13:06,800] Trial 73 failed with value None.\n"
     ]
    },
    {
     "name": "stdout",
     "output_type": "stream",
     "text": [
      "Running little bitch having n_conv=2, dropout=0.12856160044730164, hidden_nodes=19\n"
     ]
    },
    {
     "name": "stderr",
     "output_type": "stream",
     "text": [
      "[W 2023-06-28 12:13:07,203] Trial 74 failed with parameters: {'n_conv': 2, 'n_hidden': 2, 'hidden_nodes': 19, 'dropout': 0.12856160044730164, 'filters': 13, 'kernel_size': 11, 'batch_size': 22, 'epochs': 68} because of the following error: ValueError('One of the dimensions in the output is <= 0 due to downsampling in extra_conv_1. Consider increasing the input size. Received input shape [None, 7, 13] which would produce output shape with a zero or negative value in a dimension.').\n",
      "Traceback (most recent call last):\n",
      "  File \"C:\\Users\\emanu\\.virtualenvs\\DM2-HUE9YkAX\\Lib\\site-packages\\optuna\\study\\_optimize.py\", line 200, in _run_trial\n",
      "    value_or_values = func(trial)\n",
      "                      ^^^^^^^^^^^\n",
      "  File \"C:\\Users\\emanu\\AppData\\Local\\Temp\\ipykernel_33832\\1072382922.py\", line 34, in <lambda>\n",
      "    trial_function = lambda trial: objective_fun(trial,\n",
      "                                  ^^^^^^^^^^^^^^^^^^^^^\n",
      "  File \"C:\\Users\\emanu\\AppData\\Local\\Temp\\ipykernel_33832\\1072382922.py\", line 15, in objective_fun\n",
      "    cnn = build_model(  X.shape[1:], len(np.unique(y)),\n",
      "          ^^^^^^^^^^^^^^^^^^^^^^^^^^^^^^^^^^^^^^^^^^^^^\n",
      "  File \"C:\\Users\\emanu\\AppData\\Local\\Temp\\ipykernel_33832\\1937663146.py\", line 27, in build_model\n",
      "    model.add(Conv1D(filters=filters, kernel_size=kernel_size, activation='relu', name=f\"extra_conv_{i}\"))\n",
      "  File \"C:\\Users\\emanu\\.virtualenvs\\DM2-HUE9YkAX\\Lib\\site-packages\\tensorflow\\python\\trackable\\base.py\", line 205, in _method_wrapper\n",
      "    result = method(self, *args, **kwargs)\n",
      "             ^^^^^^^^^^^^^^^^^^^^^^^^^^^^^\n",
      "  File \"C:\\Users\\emanu\\.virtualenvs\\DM2-HUE9YkAX\\Lib\\site-packages\\keras\\utils\\traceback_utils.py\", line 70, in error_handler\n",
      "    raise e.with_traceback(filtered_tb) from None\n",
      "  File \"C:\\Users\\emanu\\.virtualenvs\\DM2-HUE9YkAX\\Lib\\site-packages\\keras\\layers\\convolutional\\base_conv.py\", line 354, in compute_output_shape\n",
      "    raise ValueError(\n",
      "ValueError: One of the dimensions in the output is <= 0 due to downsampling in extra_conv_1. Consider increasing the input size. Received input shape [None, 7, 13] which would produce output shape with a zero or negative value in a dimension.\n",
      "[W 2023-06-28 12:13:07,214] Trial 74 failed with value None.\n"
     ]
    },
    {
     "name": "stdout",
     "output_type": "stream",
     "text": [
      "Running little bitch having n_conv=2, dropout=0.1426212259160154, hidden_nodes=16\n"
     ]
    },
    {
     "name": "stderr",
     "output_type": "stream",
     "text": [
      "[W 2023-06-28 12:13:07,662] Trial 75 failed with parameters: {'n_conv': 2, 'n_hidden': 2, 'hidden_nodes': 16, 'dropout': 0.1426212259160154, 'filters': 13, 'kernel_size': 11, 'batch_size': 16, 'epochs': 66} because of the following error: ValueError('One of the dimensions in the output is <= 0 due to downsampling in extra_conv_1. Consider increasing the input size. Received input shape [None, 7, 13] which would produce output shape with a zero or negative value in a dimension.').\n",
      "Traceback (most recent call last):\n",
      "  File \"C:\\Users\\emanu\\.virtualenvs\\DM2-HUE9YkAX\\Lib\\site-packages\\optuna\\study\\_optimize.py\", line 200, in _run_trial\n",
      "    value_or_values = func(trial)\n",
      "                      ^^^^^^^^^^^\n",
      "  File \"C:\\Users\\emanu\\AppData\\Local\\Temp\\ipykernel_33832\\1072382922.py\", line 34, in <lambda>\n",
      "    trial_function = lambda trial: objective_fun(trial,\n",
      "                                  ^^^^^^^^^^^^^^^^^^^^^\n",
      "  File \"C:\\Users\\emanu\\AppData\\Local\\Temp\\ipykernel_33832\\1072382922.py\", line 15, in objective_fun\n",
      "    cnn = build_model(  X.shape[1:], len(np.unique(y)),\n",
      "          ^^^^^^^^^^^^^^^^^^^^^^^^^^^^^^^^^^^^^^^^^^^^^\n",
      "  File \"C:\\Users\\emanu\\AppData\\Local\\Temp\\ipykernel_33832\\1937663146.py\", line 27, in build_model\n",
      "    model.add(Conv1D(filters=filters, kernel_size=kernel_size, activation='relu', name=f\"extra_conv_{i}\"))\n",
      "  File \"C:\\Users\\emanu\\.virtualenvs\\DM2-HUE9YkAX\\Lib\\site-packages\\tensorflow\\python\\trackable\\base.py\", line 205, in _method_wrapper\n",
      "    result = method(self, *args, **kwargs)\n",
      "             ^^^^^^^^^^^^^^^^^^^^^^^^^^^^^\n",
      "  File \"C:\\Users\\emanu\\.virtualenvs\\DM2-HUE9YkAX\\Lib\\site-packages\\keras\\utils\\traceback_utils.py\", line 70, in error_handler\n",
      "    raise e.with_traceback(filtered_tb) from None\n",
      "  File \"C:\\Users\\emanu\\.virtualenvs\\DM2-HUE9YkAX\\Lib\\site-packages\\keras\\layers\\convolutional\\base_conv.py\", line 354, in compute_output_shape\n",
      "    raise ValueError(\n",
      "ValueError: One of the dimensions in the output is <= 0 due to downsampling in extra_conv_1. Consider increasing the input size. Received input shape [None, 7, 13] which would produce output shape with a zero or negative value in a dimension.\n",
      "[W 2023-06-28 12:13:07,665] Trial 75 failed with value None.\n"
     ]
    },
    {
     "name": "stdout",
     "output_type": "stream",
     "text": [
      "Running little bitch having n_conv=2, dropout=0.1338980076289196, hidden_nodes=20\n"
     ]
    },
    {
     "name": "stderr",
     "output_type": "stream",
     "text": [
      "[W 2023-06-28 12:13:08,103] Trial 76 failed with parameters: {'n_conv': 2, 'n_hidden': 2, 'hidden_nodes': 20, 'dropout': 0.1338980076289196, 'filters': 13, 'kernel_size': 11, 'batch_size': 16, 'epochs': 66} because of the following error: ValueError('One of the dimensions in the output is <= 0 due to downsampling in extra_conv_1. Consider increasing the input size. Received input shape [None, 7, 13] which would produce output shape with a zero or negative value in a dimension.').\n",
      "Traceback (most recent call last):\n",
      "  File \"C:\\Users\\emanu\\.virtualenvs\\DM2-HUE9YkAX\\Lib\\site-packages\\optuna\\study\\_optimize.py\", line 200, in _run_trial\n",
      "    value_or_values = func(trial)\n",
      "                      ^^^^^^^^^^^\n",
      "  File \"C:\\Users\\emanu\\AppData\\Local\\Temp\\ipykernel_33832\\1072382922.py\", line 34, in <lambda>\n",
      "    trial_function = lambda trial: objective_fun(trial,\n",
      "                                  ^^^^^^^^^^^^^^^^^^^^^\n",
      "  File \"C:\\Users\\emanu\\AppData\\Local\\Temp\\ipykernel_33832\\1072382922.py\", line 15, in objective_fun\n",
      "    cnn = build_model(  X.shape[1:], len(np.unique(y)),\n",
      "          ^^^^^^^^^^^^^^^^^^^^^^^^^^^^^^^^^^^^^^^^^^^^^\n",
      "  File \"C:\\Users\\emanu\\AppData\\Local\\Temp\\ipykernel_33832\\1937663146.py\", line 27, in build_model\n",
      "    model.add(Conv1D(filters=filters, kernel_size=kernel_size, activation='relu', name=f\"extra_conv_{i}\"))\n",
      "  File \"C:\\Users\\emanu\\.virtualenvs\\DM2-HUE9YkAX\\Lib\\site-packages\\tensorflow\\python\\trackable\\base.py\", line 205, in _method_wrapper\n",
      "    result = method(self, *args, **kwargs)\n",
      "             ^^^^^^^^^^^^^^^^^^^^^^^^^^^^^\n",
      "  File \"C:\\Users\\emanu\\.virtualenvs\\DM2-HUE9YkAX\\Lib\\site-packages\\keras\\utils\\traceback_utils.py\", line 70, in error_handler\n",
      "    raise e.with_traceback(filtered_tb) from None\n",
      "  File \"C:\\Users\\emanu\\.virtualenvs\\DM2-HUE9YkAX\\Lib\\site-packages\\keras\\layers\\convolutional\\base_conv.py\", line 354, in compute_output_shape\n",
      "    raise ValueError(\n",
      "ValueError: One of the dimensions in the output is <= 0 due to downsampling in extra_conv_1. Consider increasing the input size. Received input shape [None, 7, 13] which would produce output shape with a zero or negative value in a dimension.\n",
      "[W 2023-06-28 12:13:08,115] Trial 76 failed with value None.\n"
     ]
    },
    {
     "name": "stdout",
     "output_type": "stream",
     "text": [
      "Running little bitch having n_conv=2, dropout=0.1344312984650228, hidden_nodes=8\n"
     ]
    },
    {
     "name": "stderr",
     "output_type": "stream",
     "text": [
      "[W 2023-06-28 12:13:08,499] Trial 77 failed with parameters: {'n_conv': 2, 'n_hidden': 2, 'hidden_nodes': 8, 'dropout': 0.1344312984650228, 'filters': 13, 'kernel_size': 11, 'batch_size': 21, 'epochs': 70} because of the following error: ValueError('One of the dimensions in the output is <= 0 due to downsampling in extra_conv_1. Consider increasing the input size. Received input shape [None, 7, 13] which would produce output shape with a zero or negative value in a dimension.').\n",
      "Traceback (most recent call last):\n",
      "  File \"C:\\Users\\emanu\\.virtualenvs\\DM2-HUE9YkAX\\Lib\\site-packages\\optuna\\study\\_optimize.py\", line 200, in _run_trial\n",
      "    value_or_values = func(trial)\n",
      "                      ^^^^^^^^^^^\n",
      "  File \"C:\\Users\\emanu\\AppData\\Local\\Temp\\ipykernel_33832\\1072382922.py\", line 34, in <lambda>\n",
      "    trial_function = lambda trial: objective_fun(trial,\n",
      "                                  ^^^^^^^^^^^^^^^^^^^^^\n",
      "  File \"C:\\Users\\emanu\\AppData\\Local\\Temp\\ipykernel_33832\\1072382922.py\", line 15, in objective_fun\n",
      "    cnn = build_model(  X.shape[1:], len(np.unique(y)),\n",
      "          ^^^^^^^^^^^^^^^^^^^^^^^^^^^^^^^^^^^^^^^^^^^^^\n",
      "  File \"C:\\Users\\emanu\\AppData\\Local\\Temp\\ipykernel_33832\\1937663146.py\", line 27, in build_model\n",
      "    model.add(Conv1D(filters=filters, kernel_size=kernel_size, activation='relu', name=f\"extra_conv_{i}\"))\n",
      "  File \"C:\\Users\\emanu\\.virtualenvs\\DM2-HUE9YkAX\\Lib\\site-packages\\tensorflow\\python\\trackable\\base.py\", line 205, in _method_wrapper\n",
      "    result = method(self, *args, **kwargs)\n",
      "             ^^^^^^^^^^^^^^^^^^^^^^^^^^^^^\n",
      "  File \"C:\\Users\\emanu\\.virtualenvs\\DM2-HUE9YkAX\\Lib\\site-packages\\keras\\utils\\traceback_utils.py\", line 70, in error_handler\n",
      "    raise e.with_traceback(filtered_tb) from None\n",
      "  File \"C:\\Users\\emanu\\.virtualenvs\\DM2-HUE9YkAX\\Lib\\site-packages\\keras\\layers\\convolutional\\base_conv.py\", line 354, in compute_output_shape\n",
      "    raise ValueError(\n",
      "ValueError: One of the dimensions in the output is <= 0 due to downsampling in extra_conv_1. Consider increasing the input size. Received input shape [None, 7, 13] which would produce output shape with a zero or negative value in a dimension.\n",
      "[W 2023-06-28 12:13:08,508] Trial 77 failed with value None.\n"
     ]
    },
    {
     "name": "stdout",
     "output_type": "stream",
     "text": [
      "Running little bitch having n_conv=2, dropout=0.132805509744047, hidden_nodes=10\n"
     ]
    },
    {
     "name": "stderr",
     "output_type": "stream",
     "text": [
      "[W 2023-06-28 12:13:08,953] Trial 78 failed with parameters: {'n_conv': 2, 'n_hidden': 2, 'hidden_nodes': 10, 'dropout': 0.132805509744047, 'filters': 13, 'kernel_size': 10, 'batch_size': 21, 'epochs': 66} because of the following error: ValueError('Exception encountered when calling layer \"extra_conv_1\" (type Conv1D).\\n\\nNegative dimension size caused by subtracting 10 from 9 for \\'{{node extra_conv_1/Conv1D}} = Conv2D[T=DT_FLOAT, data_format=\"NHWC\", dilations=[1, 1, 1, 1], explicit_paddings=[], padding=\"VALID\", strides=[1, 1, 1, 1], use_cudnn_on_gpu=true](extra_conv_1/Conv1D/ExpandDims, extra_conv_1/Conv1D/ExpandDims_1)\\' with input shapes: [?,1,9,13], [1,10,13,13].\\n\\nCall arguments received by layer \"extra_conv_1\" (type Conv1D):\\n  • inputs=tf.Tensor(shape=(None, 9, 13), dtype=float32)').\n",
      "Traceback (most recent call last):\n",
      "  File \"C:\\Users\\emanu\\.virtualenvs\\DM2-HUE9YkAX\\Lib\\site-packages\\optuna\\study\\_optimize.py\", line 200, in _run_trial\n",
      "    value_or_values = func(trial)\n",
      "                      ^^^^^^^^^^^\n",
      "  File \"C:\\Users\\emanu\\AppData\\Local\\Temp\\ipykernel_33832\\1072382922.py\", line 34, in <lambda>\n",
      "    trial_function = lambda trial: objective_fun(trial,\n",
      "                                  ^^^^^^^^^^^^^^^^^^^^^\n",
      "  File \"C:\\Users\\emanu\\AppData\\Local\\Temp\\ipykernel_33832\\1072382922.py\", line 15, in objective_fun\n",
      "    cnn = build_model(  X.shape[1:], len(np.unique(y)),\n",
      "          ^^^^^^^^^^^^^^^^^^^^^^^^^^^^^^^^^^^^^^^^^^^^^\n",
      "  File \"C:\\Users\\emanu\\AppData\\Local\\Temp\\ipykernel_33832\\1937663146.py\", line 27, in build_model\n",
      "    model.add(Conv1D(filters=filters, kernel_size=kernel_size, activation='relu', name=f\"extra_conv_{i}\"))\n",
      "  File \"C:\\Users\\emanu\\.virtualenvs\\DM2-HUE9YkAX\\Lib\\site-packages\\tensorflow\\python\\trackable\\base.py\", line 205, in _method_wrapper\n",
      "    result = method(self, *args, **kwargs)\n",
      "             ^^^^^^^^^^^^^^^^^^^^^^^^^^^^^\n",
      "  File \"C:\\Users\\emanu\\.virtualenvs\\DM2-HUE9YkAX\\Lib\\site-packages\\keras\\utils\\traceback_utils.py\", line 70, in error_handler\n",
      "    raise e.with_traceback(filtered_tb) from None\n",
      "  File \"C:\\Users\\emanu\\.virtualenvs\\DM2-HUE9YkAX\\Lib\\site-packages\\tensorflow\\python\\framework\\ops.py\", line 1973, in _create_c_op\n",
      "    raise ValueError(e.message)\n",
      "ValueError: Exception encountered when calling layer \"extra_conv_1\" (type Conv1D).\n",
      "\n",
      "Negative dimension size caused by subtracting 10 from 9 for '{{node extra_conv_1/Conv1D}} = Conv2D[T=DT_FLOAT, data_format=\"NHWC\", dilations=[1, 1, 1, 1], explicit_paddings=[], padding=\"VALID\", strides=[1, 1, 1, 1], use_cudnn_on_gpu=true](extra_conv_1/Conv1D/ExpandDims, extra_conv_1/Conv1D/ExpandDims_1)' with input shapes: [?,1,9,13], [1,10,13,13].\n",
      "\n",
      "Call arguments received by layer \"extra_conv_1\" (type Conv1D):\n",
      "  • inputs=tf.Tensor(shape=(None, 9, 13), dtype=float32)\n",
      "[W 2023-06-28 12:13:08,966] Trial 78 failed with value None.\n"
     ]
    },
    {
     "name": "stdout",
     "output_type": "stream",
     "text": [
      "Running little bitch having n_conv=2, dropout=0.14128824345997265, hidden_nodes=8\n"
     ]
    },
    {
     "name": "stderr",
     "output_type": "stream",
     "text": [
      "[W 2023-06-28 12:13:09,362] Trial 79 failed with parameters: {'n_conv': 2, 'n_hidden': 2, 'hidden_nodes': 8, 'dropout': 0.14128824345997265, 'filters': 13, 'kernel_size': 11, 'batch_size': 24, 'epochs': 66} because of the following error: ValueError('One of the dimensions in the output is <= 0 due to downsampling in extra_conv_1. Consider increasing the input size. Received input shape [None, 7, 13] which would produce output shape with a zero or negative value in a dimension.').\n",
      "Traceback (most recent call last):\n",
      "  File \"C:\\Users\\emanu\\.virtualenvs\\DM2-HUE9YkAX\\Lib\\site-packages\\optuna\\study\\_optimize.py\", line 200, in _run_trial\n",
      "    value_or_values = func(trial)\n",
      "                      ^^^^^^^^^^^\n",
      "  File \"C:\\Users\\emanu\\AppData\\Local\\Temp\\ipykernel_33832\\1072382922.py\", line 34, in <lambda>\n",
      "    trial_function = lambda trial: objective_fun(trial,\n",
      "                                  ^^^^^^^^^^^^^^^^^^^^^\n",
      "  File \"C:\\Users\\emanu\\AppData\\Local\\Temp\\ipykernel_33832\\1072382922.py\", line 15, in objective_fun\n",
      "    cnn = build_model(  X.shape[1:], len(np.unique(y)),\n",
      "          ^^^^^^^^^^^^^^^^^^^^^^^^^^^^^^^^^^^^^^^^^^^^^\n",
      "  File \"C:\\Users\\emanu\\AppData\\Local\\Temp\\ipykernel_33832\\1937663146.py\", line 27, in build_model\n",
      "    model.add(Conv1D(filters=filters, kernel_size=kernel_size, activation='relu', name=f\"extra_conv_{i}\"))\n",
      "  File \"C:\\Users\\emanu\\.virtualenvs\\DM2-HUE9YkAX\\Lib\\site-packages\\tensorflow\\python\\trackable\\base.py\", line 205, in _method_wrapper\n",
      "    result = method(self, *args, **kwargs)\n",
      "             ^^^^^^^^^^^^^^^^^^^^^^^^^^^^^\n",
      "  File \"C:\\Users\\emanu\\.virtualenvs\\DM2-HUE9YkAX\\Lib\\site-packages\\keras\\utils\\traceback_utils.py\", line 70, in error_handler\n",
      "    raise e.with_traceback(filtered_tb) from None\n",
      "  File \"C:\\Users\\emanu\\.virtualenvs\\DM2-HUE9YkAX\\Lib\\site-packages\\keras\\layers\\convolutional\\base_conv.py\", line 354, in compute_output_shape\n",
      "    raise ValueError(\n",
      "ValueError: One of the dimensions in the output is <= 0 due to downsampling in extra_conv_1. Consider increasing the input size. Received input shape [None, 7, 13] which would produce output shape with a zero or negative value in a dimension.\n",
      "[W 2023-06-28 12:13:09,374] Trial 79 failed with value None.\n"
     ]
    },
    {
     "name": "stdout",
     "output_type": "stream",
     "text": [
      "Running little bitch having n_conv=2, dropout=0.13541442134015427, hidden_nodes=21\n"
     ]
    },
    {
     "name": "stderr",
     "output_type": "stream",
     "text": [
      "[W 2023-06-28 12:13:09,774] Trial 80 failed with parameters: {'n_conv': 2, 'n_hidden': 2, 'hidden_nodes': 21, 'dropout': 0.13541442134015427, 'filters': 13, 'kernel_size': 11, 'batch_size': 19, 'epochs': 64} because of the following error: ValueError('One of the dimensions in the output is <= 0 due to downsampling in extra_conv_1. Consider increasing the input size. Received input shape [None, 7, 13] which would produce output shape with a zero or negative value in a dimension.').\n",
      "Traceback (most recent call last):\n",
      "  File \"C:\\Users\\emanu\\.virtualenvs\\DM2-HUE9YkAX\\Lib\\site-packages\\optuna\\study\\_optimize.py\", line 200, in _run_trial\n",
      "    value_or_values = func(trial)\n",
      "                      ^^^^^^^^^^^\n",
      "  File \"C:\\Users\\emanu\\AppData\\Local\\Temp\\ipykernel_33832\\1072382922.py\", line 34, in <lambda>\n",
      "    trial_function = lambda trial: objective_fun(trial,\n",
      "                                  ^^^^^^^^^^^^^^^^^^^^^\n",
      "  File \"C:\\Users\\emanu\\AppData\\Local\\Temp\\ipykernel_33832\\1072382922.py\", line 15, in objective_fun\n",
      "    cnn = build_model(  X.shape[1:], len(np.unique(y)),\n",
      "          ^^^^^^^^^^^^^^^^^^^^^^^^^^^^^^^^^^^^^^^^^^^^^\n",
      "  File \"C:\\Users\\emanu\\AppData\\Local\\Temp\\ipykernel_33832\\1937663146.py\", line 27, in build_model\n",
      "    model.add(Conv1D(filters=filters, kernel_size=kernel_size, activation='relu', name=f\"extra_conv_{i}\"))\n",
      "  File \"C:\\Users\\emanu\\.virtualenvs\\DM2-HUE9YkAX\\Lib\\site-packages\\tensorflow\\python\\trackable\\base.py\", line 205, in _method_wrapper\n",
      "    result = method(self, *args, **kwargs)\n",
      "             ^^^^^^^^^^^^^^^^^^^^^^^^^^^^^\n",
      "  File \"C:\\Users\\emanu\\.virtualenvs\\DM2-HUE9YkAX\\Lib\\site-packages\\keras\\utils\\traceback_utils.py\", line 70, in error_handler\n",
      "    raise e.with_traceback(filtered_tb) from None\n",
      "  File \"C:\\Users\\emanu\\.virtualenvs\\DM2-HUE9YkAX\\Lib\\site-packages\\keras\\layers\\convolutional\\base_conv.py\", line 354, in compute_output_shape\n",
      "    raise ValueError(\n",
      "ValueError: One of the dimensions in the output is <= 0 due to downsampling in extra_conv_1. Consider increasing the input size. Received input shape [None, 7, 13] which would produce output shape with a zero or negative value in a dimension.\n",
      "[W 2023-06-28 12:13:09,794] Trial 80 failed with value None.\n"
     ]
    },
    {
     "name": "stdout",
     "output_type": "stream",
     "text": [
      "Running little bitch having n_conv=2, dropout=0.1298327116581995, hidden_nodes=28\n"
     ]
    },
    {
     "name": "stderr",
     "output_type": "stream",
     "text": [
      "[W 2023-06-28 12:13:10,214] Trial 81 failed with parameters: {'n_conv': 2, 'n_hidden': 2, 'hidden_nodes': 28, 'dropout': 0.1298327116581995, 'filters': 13, 'kernel_size': 11, 'batch_size': 20, 'epochs': 67} because of the following error: ValueError('One of the dimensions in the output is <= 0 due to downsampling in extra_conv_1. Consider increasing the input size. Received input shape [None, 7, 13] which would produce output shape with a zero or negative value in a dimension.').\n",
      "Traceback (most recent call last):\n",
      "  File \"C:\\Users\\emanu\\.virtualenvs\\DM2-HUE9YkAX\\Lib\\site-packages\\optuna\\study\\_optimize.py\", line 200, in _run_trial\n",
      "    value_or_values = func(trial)\n",
      "                      ^^^^^^^^^^^\n",
      "  File \"C:\\Users\\emanu\\AppData\\Local\\Temp\\ipykernel_33832\\1072382922.py\", line 34, in <lambda>\n",
      "    trial_function = lambda trial: objective_fun(trial,\n",
      "                                  ^^^^^^^^^^^^^^^^^^^^^\n",
      "  File \"C:\\Users\\emanu\\AppData\\Local\\Temp\\ipykernel_33832\\1072382922.py\", line 15, in objective_fun\n",
      "    cnn = build_model(  X.shape[1:], len(np.unique(y)),\n",
      "          ^^^^^^^^^^^^^^^^^^^^^^^^^^^^^^^^^^^^^^^^^^^^^\n",
      "  File \"C:\\Users\\emanu\\AppData\\Local\\Temp\\ipykernel_33832\\1937663146.py\", line 27, in build_model\n",
      "    model.add(Conv1D(filters=filters, kernel_size=kernel_size, activation='relu', name=f\"extra_conv_{i}\"))\n",
      "  File \"C:\\Users\\emanu\\.virtualenvs\\DM2-HUE9YkAX\\Lib\\site-packages\\tensorflow\\python\\trackable\\base.py\", line 205, in _method_wrapper\n",
      "    result = method(self, *args, **kwargs)\n",
      "             ^^^^^^^^^^^^^^^^^^^^^^^^^^^^^\n",
      "  File \"C:\\Users\\emanu\\.virtualenvs\\DM2-HUE9YkAX\\Lib\\site-packages\\keras\\utils\\traceback_utils.py\", line 70, in error_handler\n",
      "    raise e.with_traceback(filtered_tb) from None\n",
      "  File \"C:\\Users\\emanu\\.virtualenvs\\DM2-HUE9YkAX\\Lib\\site-packages\\keras\\layers\\convolutional\\base_conv.py\", line 354, in compute_output_shape\n",
      "    raise ValueError(\n",
      "ValueError: One of the dimensions in the output is <= 0 due to downsampling in extra_conv_1. Consider increasing the input size. Received input shape [None, 7, 13] which would produce output shape with a zero or negative value in a dimension.\n",
      "[W 2023-06-28 12:13:10,223] Trial 81 failed with value None.\n"
     ]
    },
    {
     "name": "stdout",
     "output_type": "stream",
     "text": [
      "Running little bitch having n_conv=2, dropout=0.12862353082462644, hidden_nodes=8\n"
     ]
    },
    {
     "name": "stderr",
     "output_type": "stream",
     "text": [
      "[W 2023-06-28 12:13:10,634] Trial 82 failed with parameters: {'n_conv': 2, 'n_hidden': 2, 'hidden_nodes': 8, 'dropout': 0.12862353082462644, 'filters': 13, 'kernel_size': 11, 'batch_size': 20, 'epochs': 64} because of the following error: ValueError('One of the dimensions in the output is <= 0 due to downsampling in extra_conv_1. Consider increasing the input size. Received input shape [None, 7, 13] which would produce output shape with a zero or negative value in a dimension.').\n",
      "Traceback (most recent call last):\n",
      "  File \"C:\\Users\\emanu\\.virtualenvs\\DM2-HUE9YkAX\\Lib\\site-packages\\optuna\\study\\_optimize.py\", line 200, in _run_trial\n",
      "    value_or_values = func(trial)\n",
      "                      ^^^^^^^^^^^\n",
      "  File \"C:\\Users\\emanu\\AppData\\Local\\Temp\\ipykernel_33832\\1072382922.py\", line 34, in <lambda>\n",
      "    trial_function = lambda trial: objective_fun(trial,\n",
      "                                  ^^^^^^^^^^^^^^^^^^^^^\n",
      "  File \"C:\\Users\\emanu\\AppData\\Local\\Temp\\ipykernel_33832\\1072382922.py\", line 15, in objective_fun\n",
      "    cnn = build_model(  X.shape[1:], len(np.unique(y)),\n",
      "          ^^^^^^^^^^^^^^^^^^^^^^^^^^^^^^^^^^^^^^^^^^^^^\n",
      "  File \"C:\\Users\\emanu\\AppData\\Local\\Temp\\ipykernel_33832\\1937663146.py\", line 27, in build_model\n",
      "    model.add(Conv1D(filters=filters, kernel_size=kernel_size, activation='relu', name=f\"extra_conv_{i}\"))\n",
      "  File \"C:\\Users\\emanu\\.virtualenvs\\DM2-HUE9YkAX\\Lib\\site-packages\\tensorflow\\python\\trackable\\base.py\", line 205, in _method_wrapper\n",
      "    result = method(self, *args, **kwargs)\n",
      "             ^^^^^^^^^^^^^^^^^^^^^^^^^^^^^\n",
      "  File \"C:\\Users\\emanu\\.virtualenvs\\DM2-HUE9YkAX\\Lib\\site-packages\\keras\\utils\\traceback_utils.py\", line 70, in error_handler\n",
      "    raise e.with_traceback(filtered_tb) from None\n",
      "  File \"C:\\Users\\emanu\\.virtualenvs\\DM2-HUE9YkAX\\Lib\\site-packages\\keras\\layers\\convolutional\\base_conv.py\", line 354, in compute_output_shape\n",
      "    raise ValueError(\n",
      "ValueError: One of the dimensions in the output is <= 0 due to downsampling in extra_conv_1. Consider increasing the input size. Received input shape [None, 7, 13] which would produce output shape with a zero or negative value in a dimension.\n",
      "[W 2023-06-28 12:13:10,644] Trial 82 failed with value None.\n"
     ]
    },
    {
     "name": "stdout",
     "output_type": "stream",
     "text": [
      "Running little bitch having n_conv=2, dropout=0.13993335637265267, hidden_nodes=10\n"
     ]
    },
    {
     "name": "stderr",
     "output_type": "stream",
     "text": [
      "[W 2023-06-28 12:13:11,033] Trial 83 failed with parameters: {'n_conv': 2, 'n_hidden': 2, 'hidden_nodes': 10, 'dropout': 0.13993335637265267, 'filters': 13, 'kernel_size': 11, 'batch_size': 19, 'epochs': 67} because of the following error: ValueError('One of the dimensions in the output is <= 0 due to downsampling in extra_conv_1. Consider increasing the input size. Received input shape [None, 7, 13] which would produce output shape with a zero or negative value in a dimension.').\n",
      "Traceback (most recent call last):\n",
      "  File \"C:\\Users\\emanu\\.virtualenvs\\DM2-HUE9YkAX\\Lib\\site-packages\\optuna\\study\\_optimize.py\", line 200, in _run_trial\n",
      "    value_or_values = func(trial)\n",
      "                      ^^^^^^^^^^^\n",
      "  File \"C:\\Users\\emanu\\AppData\\Local\\Temp\\ipykernel_33832\\1072382922.py\", line 34, in <lambda>\n",
      "    trial_function = lambda trial: objective_fun(trial,\n",
      "                                  ^^^^^^^^^^^^^^^^^^^^^\n",
      "  File \"C:\\Users\\emanu\\AppData\\Local\\Temp\\ipykernel_33832\\1072382922.py\", line 15, in objective_fun\n",
      "    cnn = build_model(  X.shape[1:], len(np.unique(y)),\n",
      "          ^^^^^^^^^^^^^^^^^^^^^^^^^^^^^^^^^^^^^^^^^^^^^\n",
      "  File \"C:\\Users\\emanu\\AppData\\Local\\Temp\\ipykernel_33832\\1937663146.py\", line 27, in build_model\n",
      "    model.add(Conv1D(filters=filters, kernel_size=kernel_size, activation='relu', name=f\"extra_conv_{i}\"))\n",
      "  File \"C:\\Users\\emanu\\.virtualenvs\\DM2-HUE9YkAX\\Lib\\site-packages\\tensorflow\\python\\trackable\\base.py\", line 205, in _method_wrapper\n",
      "    result = method(self, *args, **kwargs)\n",
      "             ^^^^^^^^^^^^^^^^^^^^^^^^^^^^^\n",
      "  File \"C:\\Users\\emanu\\.virtualenvs\\DM2-HUE9YkAX\\Lib\\site-packages\\keras\\utils\\traceback_utils.py\", line 70, in error_handler\n",
      "    raise e.with_traceback(filtered_tb) from None\n",
      "  File \"C:\\Users\\emanu\\.virtualenvs\\DM2-HUE9YkAX\\Lib\\site-packages\\keras\\layers\\convolutional\\base_conv.py\", line 354, in compute_output_shape\n",
      "    raise ValueError(\n",
      "ValueError: One of the dimensions in the output is <= 0 due to downsampling in extra_conv_1. Consider increasing the input size. Received input shape [None, 7, 13] which would produce output shape with a zero or negative value in a dimension.\n",
      "[W 2023-06-28 12:13:11,043] Trial 83 failed with value None.\n"
     ]
    },
    {
     "name": "stdout",
     "output_type": "stream",
     "text": [
      "Running little bitch having n_conv=2, dropout=0.13017908660271793, hidden_nodes=13\n"
     ]
    },
    {
     "name": "stderr",
     "output_type": "stream",
     "text": [
      "[W 2023-06-28 12:13:11,434] Trial 84 failed with parameters: {'n_conv': 2, 'n_hidden': 2, 'hidden_nodes': 13, 'dropout': 0.13017908660271793, 'filters': 13, 'kernel_size': 11, 'batch_size': 19, 'epochs': 66} because of the following error: ValueError('One of the dimensions in the output is <= 0 due to downsampling in extra_conv_1. Consider increasing the input size. Received input shape [None, 7, 13] which would produce output shape with a zero or negative value in a dimension.').\n",
      "Traceback (most recent call last):\n",
      "  File \"C:\\Users\\emanu\\.virtualenvs\\DM2-HUE9YkAX\\Lib\\site-packages\\optuna\\study\\_optimize.py\", line 200, in _run_trial\n",
      "    value_or_values = func(trial)\n",
      "                      ^^^^^^^^^^^\n",
      "  File \"C:\\Users\\emanu\\AppData\\Local\\Temp\\ipykernel_33832\\1072382922.py\", line 34, in <lambda>\n",
      "    trial_function = lambda trial: objective_fun(trial,\n",
      "                                  ^^^^^^^^^^^^^^^^^^^^^\n",
      "  File \"C:\\Users\\emanu\\AppData\\Local\\Temp\\ipykernel_33832\\1072382922.py\", line 15, in objective_fun\n",
      "    cnn = build_model(  X.shape[1:], len(np.unique(y)),\n",
      "          ^^^^^^^^^^^^^^^^^^^^^^^^^^^^^^^^^^^^^^^^^^^^^\n",
      "  File \"C:\\Users\\emanu\\AppData\\Local\\Temp\\ipykernel_33832\\1937663146.py\", line 27, in build_model\n",
      "    model.add(Conv1D(filters=filters, kernel_size=kernel_size, activation='relu', name=f\"extra_conv_{i}\"))\n",
      "  File \"C:\\Users\\emanu\\.virtualenvs\\DM2-HUE9YkAX\\Lib\\site-packages\\tensorflow\\python\\trackable\\base.py\", line 205, in _method_wrapper\n",
      "    result = method(self, *args, **kwargs)\n",
      "             ^^^^^^^^^^^^^^^^^^^^^^^^^^^^^\n",
      "  File \"C:\\Users\\emanu\\.virtualenvs\\DM2-HUE9YkAX\\Lib\\site-packages\\keras\\utils\\traceback_utils.py\", line 70, in error_handler\n",
      "    raise e.with_traceback(filtered_tb) from None\n",
      "  File \"C:\\Users\\emanu\\.virtualenvs\\DM2-HUE9YkAX\\Lib\\site-packages\\keras\\layers\\convolutional\\base_conv.py\", line 354, in compute_output_shape\n",
      "    raise ValueError(\n",
      "ValueError: One of the dimensions in the output is <= 0 due to downsampling in extra_conv_1. Consider increasing the input size. Received input shape [None, 7, 13] which would produce output shape with a zero or negative value in a dimension.\n",
      "[W 2023-06-28 12:13:11,447] Trial 84 failed with value None.\n"
     ]
    },
    {
     "name": "stdout",
     "output_type": "stream",
     "text": [
      "Running little bitch having n_conv=2, dropout=0.13658700583345101, hidden_nodes=9\n"
     ]
    },
    {
     "name": "stderr",
     "output_type": "stream",
     "text": [
      "[W 2023-06-28 12:13:11,884] Trial 85 failed with parameters: {'n_conv': 2, 'n_hidden': 2, 'hidden_nodes': 9, 'dropout': 0.13658700583345101, 'filters': 13, 'kernel_size': 11, 'batch_size': 20, 'epochs': 66} because of the following error: ValueError('One of the dimensions in the output is <= 0 due to downsampling in extra_conv_1. Consider increasing the input size. Received input shape [None, 7, 13] which would produce output shape with a zero or negative value in a dimension.').\n",
      "Traceback (most recent call last):\n",
      "  File \"C:\\Users\\emanu\\.virtualenvs\\DM2-HUE9YkAX\\Lib\\site-packages\\optuna\\study\\_optimize.py\", line 200, in _run_trial\n",
      "    value_or_values = func(trial)\n",
      "                      ^^^^^^^^^^^\n",
      "  File \"C:\\Users\\emanu\\AppData\\Local\\Temp\\ipykernel_33832\\1072382922.py\", line 34, in <lambda>\n",
      "    trial_function = lambda trial: objective_fun(trial,\n",
      "                                  ^^^^^^^^^^^^^^^^^^^^^\n",
      "  File \"C:\\Users\\emanu\\AppData\\Local\\Temp\\ipykernel_33832\\1072382922.py\", line 15, in objective_fun\n",
      "    cnn = build_model(  X.shape[1:], len(np.unique(y)),\n",
      "          ^^^^^^^^^^^^^^^^^^^^^^^^^^^^^^^^^^^^^^^^^^^^^\n",
      "  File \"C:\\Users\\emanu\\AppData\\Local\\Temp\\ipykernel_33832\\1937663146.py\", line 27, in build_model\n",
      "    model.add(Conv1D(filters=filters, kernel_size=kernel_size, activation='relu', name=f\"extra_conv_{i}\"))\n",
      "  File \"C:\\Users\\emanu\\.virtualenvs\\DM2-HUE9YkAX\\Lib\\site-packages\\tensorflow\\python\\trackable\\base.py\", line 205, in _method_wrapper\n",
      "    result = method(self, *args, **kwargs)\n",
      "             ^^^^^^^^^^^^^^^^^^^^^^^^^^^^^\n",
      "  File \"C:\\Users\\emanu\\.virtualenvs\\DM2-HUE9YkAX\\Lib\\site-packages\\keras\\utils\\traceback_utils.py\", line 70, in error_handler\n",
      "    raise e.with_traceback(filtered_tb) from None\n",
      "  File \"C:\\Users\\emanu\\.virtualenvs\\DM2-HUE9YkAX\\Lib\\site-packages\\keras\\layers\\convolutional\\base_conv.py\", line 354, in compute_output_shape\n",
      "    raise ValueError(\n",
      "ValueError: One of the dimensions in the output is <= 0 due to downsampling in extra_conv_1. Consider increasing the input size. Received input shape [None, 7, 13] which would produce output shape with a zero or negative value in a dimension.\n",
      "[W 2023-06-28 12:13:11,899] Trial 85 failed with value None.\n"
     ]
    },
    {
     "name": "stdout",
     "output_type": "stream",
     "text": [
      "Running little bitch having n_conv=2, dropout=0.14050435276120662, hidden_nodes=12\n"
     ]
    },
    {
     "name": "stderr",
     "output_type": "stream",
     "text": [
      "[W 2023-06-28 12:13:12,304] Trial 86 failed with parameters: {'n_conv': 2, 'n_hidden': 2, 'hidden_nodes': 12, 'dropout': 0.14050435276120662, 'filters': 13, 'kernel_size': 11, 'batch_size': 17, 'epochs': 66} because of the following error: ValueError('One of the dimensions in the output is <= 0 due to downsampling in extra_conv_1. Consider increasing the input size. Received input shape [None, 7, 13] which would produce output shape with a zero or negative value in a dimension.').\n",
      "Traceback (most recent call last):\n",
      "  File \"C:\\Users\\emanu\\.virtualenvs\\DM2-HUE9YkAX\\Lib\\site-packages\\optuna\\study\\_optimize.py\", line 200, in _run_trial\n",
      "    value_or_values = func(trial)\n",
      "                      ^^^^^^^^^^^\n",
      "  File \"C:\\Users\\emanu\\AppData\\Local\\Temp\\ipykernel_33832\\1072382922.py\", line 34, in <lambda>\n",
      "    trial_function = lambda trial: objective_fun(trial,\n",
      "                                  ^^^^^^^^^^^^^^^^^^^^^\n",
      "  File \"C:\\Users\\emanu\\AppData\\Local\\Temp\\ipykernel_33832\\1072382922.py\", line 15, in objective_fun\n",
      "    cnn = build_model(  X.shape[1:], len(np.unique(y)),\n",
      "          ^^^^^^^^^^^^^^^^^^^^^^^^^^^^^^^^^^^^^^^^^^^^^\n",
      "  File \"C:\\Users\\emanu\\AppData\\Local\\Temp\\ipykernel_33832\\1937663146.py\", line 27, in build_model\n",
      "    model.add(Conv1D(filters=filters, kernel_size=kernel_size, activation='relu', name=f\"extra_conv_{i}\"))\n",
      "  File \"C:\\Users\\emanu\\.virtualenvs\\DM2-HUE9YkAX\\Lib\\site-packages\\tensorflow\\python\\trackable\\base.py\", line 205, in _method_wrapper\n",
      "    result = method(self, *args, **kwargs)\n",
      "             ^^^^^^^^^^^^^^^^^^^^^^^^^^^^^\n",
      "  File \"C:\\Users\\emanu\\.virtualenvs\\DM2-HUE9YkAX\\Lib\\site-packages\\keras\\utils\\traceback_utils.py\", line 70, in error_handler\n",
      "    raise e.with_traceback(filtered_tb) from None\n",
      "  File \"C:\\Users\\emanu\\.virtualenvs\\DM2-HUE9YkAX\\Lib\\site-packages\\keras\\layers\\convolutional\\base_conv.py\", line 354, in compute_output_shape\n",
      "    raise ValueError(\n",
      "ValueError: One of the dimensions in the output is <= 0 due to downsampling in extra_conv_1. Consider increasing the input size. Received input shape [None, 7, 13] which would produce output shape with a zero or negative value in a dimension.\n",
      "[W 2023-06-28 12:13:12,324] Trial 86 failed with value None.\n"
     ]
    },
    {
     "name": "stdout",
     "output_type": "stream",
     "text": [
      "Running little bitch having n_conv=2, dropout=0.13384249491491096, hidden_nodes=8\n"
     ]
    },
    {
     "name": "stderr",
     "output_type": "stream",
     "text": [
      "[W 2023-06-28 12:13:12,734] Trial 87 failed with parameters: {'n_conv': 2, 'n_hidden': 2, 'hidden_nodes': 8, 'dropout': 0.13384249491491096, 'filters': 13, 'kernel_size': 12, 'batch_size': 16, 'epochs': 68} because of the following error: ValueError('One of the dimensions in the output is <= 0 due to downsampling in extra_conv_1. Consider increasing the input size. Received input shape [None, 5, 13] which would produce output shape with a zero or negative value in a dimension.').\n",
      "Traceback (most recent call last):\n",
      "  File \"C:\\Users\\emanu\\.virtualenvs\\DM2-HUE9YkAX\\Lib\\site-packages\\optuna\\study\\_optimize.py\", line 200, in _run_trial\n",
      "    value_or_values = func(trial)\n",
      "                      ^^^^^^^^^^^\n",
      "  File \"C:\\Users\\emanu\\AppData\\Local\\Temp\\ipykernel_33832\\1072382922.py\", line 34, in <lambda>\n",
      "    trial_function = lambda trial: objective_fun(trial,\n",
      "                                  ^^^^^^^^^^^^^^^^^^^^^\n",
      "  File \"C:\\Users\\emanu\\AppData\\Local\\Temp\\ipykernel_33832\\1072382922.py\", line 15, in objective_fun\n",
      "    cnn = build_model(  X.shape[1:], len(np.unique(y)),\n",
      "          ^^^^^^^^^^^^^^^^^^^^^^^^^^^^^^^^^^^^^^^^^^^^^\n",
      "  File \"C:\\Users\\emanu\\AppData\\Local\\Temp\\ipykernel_33832\\1937663146.py\", line 27, in build_model\n",
      "    model.add(Conv1D(filters=filters, kernel_size=kernel_size, activation='relu', name=f\"extra_conv_{i}\"))\n",
      "  File \"C:\\Users\\emanu\\.virtualenvs\\DM2-HUE9YkAX\\Lib\\site-packages\\tensorflow\\python\\trackable\\base.py\", line 205, in _method_wrapper\n",
      "    result = method(self, *args, **kwargs)\n",
      "             ^^^^^^^^^^^^^^^^^^^^^^^^^^^^^\n",
      "  File \"C:\\Users\\emanu\\.virtualenvs\\DM2-HUE9YkAX\\Lib\\site-packages\\keras\\utils\\traceback_utils.py\", line 70, in error_handler\n",
      "    raise e.with_traceback(filtered_tb) from None\n",
      "  File \"C:\\Users\\emanu\\.virtualenvs\\DM2-HUE9YkAX\\Lib\\site-packages\\keras\\layers\\convolutional\\base_conv.py\", line 354, in compute_output_shape\n",
      "    raise ValueError(\n",
      "ValueError: One of the dimensions in the output is <= 0 due to downsampling in extra_conv_1. Consider increasing the input size. Received input shape [None, 5, 13] which would produce output shape with a zero or negative value in a dimension.\n",
      "[W 2023-06-28 12:13:12,743] Trial 87 failed with value None.\n"
     ]
    },
    {
     "name": "stdout",
     "output_type": "stream",
     "text": [
      "Running little bitch having n_conv=2, dropout=0.12940509260173275, hidden_nodes=16\n"
     ]
    },
    {
     "name": "stderr",
     "output_type": "stream",
     "text": [
      "[W 2023-06-28 12:13:13,143] Trial 88 failed with parameters: {'n_conv': 2, 'n_hidden': 2, 'hidden_nodes': 16, 'dropout': 0.12940509260173275, 'filters': 13, 'kernel_size': 11, 'batch_size': 17, 'epochs': 63} because of the following error: ValueError('One of the dimensions in the output is <= 0 due to downsampling in extra_conv_1. Consider increasing the input size. Received input shape [None, 7, 13] which would produce output shape with a zero or negative value in a dimension.').\n",
      "Traceback (most recent call last):\n",
      "  File \"C:\\Users\\emanu\\.virtualenvs\\DM2-HUE9YkAX\\Lib\\site-packages\\optuna\\study\\_optimize.py\", line 200, in _run_trial\n",
      "    value_or_values = func(trial)\n",
      "                      ^^^^^^^^^^^\n",
      "  File \"C:\\Users\\emanu\\AppData\\Local\\Temp\\ipykernel_33832\\1072382922.py\", line 34, in <lambda>\n",
      "    trial_function = lambda trial: objective_fun(trial,\n",
      "                                  ^^^^^^^^^^^^^^^^^^^^^\n",
      "  File \"C:\\Users\\emanu\\AppData\\Local\\Temp\\ipykernel_33832\\1072382922.py\", line 15, in objective_fun\n",
      "    cnn = build_model(  X.shape[1:], len(np.unique(y)),\n",
      "          ^^^^^^^^^^^^^^^^^^^^^^^^^^^^^^^^^^^^^^^^^^^^^\n",
      "  File \"C:\\Users\\emanu\\AppData\\Local\\Temp\\ipykernel_33832\\1937663146.py\", line 27, in build_model\n",
      "    model.add(Conv1D(filters=filters, kernel_size=kernel_size, activation='relu', name=f\"extra_conv_{i}\"))\n",
      "  File \"C:\\Users\\emanu\\.virtualenvs\\DM2-HUE9YkAX\\Lib\\site-packages\\tensorflow\\python\\trackable\\base.py\", line 205, in _method_wrapper\n",
      "    result = method(self, *args, **kwargs)\n",
      "             ^^^^^^^^^^^^^^^^^^^^^^^^^^^^^\n",
      "  File \"C:\\Users\\emanu\\.virtualenvs\\DM2-HUE9YkAX\\Lib\\site-packages\\keras\\utils\\traceback_utils.py\", line 70, in error_handler\n",
      "    raise e.with_traceback(filtered_tb) from None\n",
      "  File \"C:\\Users\\emanu\\.virtualenvs\\DM2-HUE9YkAX\\Lib\\site-packages\\keras\\layers\\convolutional\\base_conv.py\", line 354, in compute_output_shape\n",
      "    raise ValueError(\n",
      "ValueError: One of the dimensions in the output is <= 0 due to downsampling in extra_conv_1. Consider increasing the input size. Received input shape [None, 7, 13] which would produce output shape with a zero or negative value in a dimension.\n",
      "[W 2023-06-28 12:13:13,155] Trial 88 failed with value None.\n"
     ]
    },
    {
     "name": "stdout",
     "output_type": "stream",
     "text": [
      "Running little bitch having n_conv=2, dropout=0.13418945270150737, hidden_nodes=10\n"
     ]
    },
    {
     "name": "stderr",
     "output_type": "stream",
     "text": [
      "[W 2023-06-28 12:13:13,594] Trial 89 failed with parameters: {'n_conv': 2, 'n_hidden': 2, 'hidden_nodes': 10, 'dropout': 0.13418945270150737, 'filters': 13, 'kernel_size': 11, 'batch_size': 21, 'epochs': 63} because of the following error: ValueError('One of the dimensions in the output is <= 0 due to downsampling in extra_conv_1. Consider increasing the input size. Received input shape [None, 7, 13] which would produce output shape with a zero or negative value in a dimension.').\n",
      "Traceback (most recent call last):\n",
      "  File \"C:\\Users\\emanu\\.virtualenvs\\DM2-HUE9YkAX\\Lib\\site-packages\\optuna\\study\\_optimize.py\", line 200, in _run_trial\n",
      "    value_or_values = func(trial)\n",
      "                      ^^^^^^^^^^^\n",
      "  File \"C:\\Users\\emanu\\AppData\\Local\\Temp\\ipykernel_33832\\1072382922.py\", line 34, in <lambda>\n",
      "    trial_function = lambda trial: objective_fun(trial,\n",
      "                                  ^^^^^^^^^^^^^^^^^^^^^\n",
      "  File \"C:\\Users\\emanu\\AppData\\Local\\Temp\\ipykernel_33832\\1072382922.py\", line 15, in objective_fun\n",
      "    cnn = build_model(  X.shape[1:], len(np.unique(y)),\n",
      "          ^^^^^^^^^^^^^^^^^^^^^^^^^^^^^^^^^^^^^^^^^^^^^\n",
      "  File \"C:\\Users\\emanu\\AppData\\Local\\Temp\\ipykernel_33832\\1937663146.py\", line 27, in build_model\n",
      "    model.add(Conv1D(filters=filters, kernel_size=kernel_size, activation='relu', name=f\"extra_conv_{i}\"))\n",
      "  File \"C:\\Users\\emanu\\.virtualenvs\\DM2-HUE9YkAX\\Lib\\site-packages\\tensorflow\\python\\trackable\\base.py\", line 205, in _method_wrapper\n",
      "    result = method(self, *args, **kwargs)\n",
      "             ^^^^^^^^^^^^^^^^^^^^^^^^^^^^^\n",
      "  File \"C:\\Users\\emanu\\.virtualenvs\\DM2-HUE9YkAX\\Lib\\site-packages\\keras\\utils\\traceback_utils.py\", line 70, in error_handler\n",
      "    raise e.with_traceback(filtered_tb) from None\n",
      "  File \"C:\\Users\\emanu\\.virtualenvs\\DM2-HUE9YkAX\\Lib\\site-packages\\keras\\layers\\convolutional\\base_conv.py\", line 354, in compute_output_shape\n",
      "    raise ValueError(\n",
      "ValueError: One of the dimensions in the output is <= 0 due to downsampling in extra_conv_1. Consider increasing the input size. Received input shape [None, 7, 13] which would produce output shape with a zero or negative value in a dimension.\n",
      "[W 2023-06-28 12:13:13,610] Trial 89 failed with value None.\n"
     ]
    },
    {
     "name": "stdout",
     "output_type": "stream",
     "text": [
      "Running little bitch having n_conv=2, dropout=0.14275589154607057, hidden_nodes=12\n"
     ]
    },
    {
     "name": "stderr",
     "output_type": "stream",
     "text": [
      "[W 2023-06-28 12:13:14,044] Trial 90 failed with parameters: {'n_conv': 2, 'n_hidden': 2, 'hidden_nodes': 12, 'dropout': 0.14275589154607057, 'filters': 13, 'kernel_size': 12, 'batch_size': 24, 'epochs': 66} because of the following error: ValueError('One of the dimensions in the output is <= 0 due to downsampling in extra_conv_1. Consider increasing the input size. Received input shape [None, 5, 13] which would produce output shape with a zero or negative value in a dimension.').\n",
      "Traceback (most recent call last):\n",
      "  File \"C:\\Users\\emanu\\.virtualenvs\\DM2-HUE9YkAX\\Lib\\site-packages\\optuna\\study\\_optimize.py\", line 200, in _run_trial\n",
      "    value_or_values = func(trial)\n",
      "                      ^^^^^^^^^^^\n",
      "  File \"C:\\Users\\emanu\\AppData\\Local\\Temp\\ipykernel_33832\\1072382922.py\", line 34, in <lambda>\n",
      "    trial_function = lambda trial: objective_fun(trial,\n",
      "                                  ^^^^^^^^^^^^^^^^^^^^^\n",
      "  File \"C:\\Users\\emanu\\AppData\\Local\\Temp\\ipykernel_33832\\1072382922.py\", line 15, in objective_fun\n",
      "    cnn = build_model(  X.shape[1:], len(np.unique(y)),\n",
      "          ^^^^^^^^^^^^^^^^^^^^^^^^^^^^^^^^^^^^^^^^^^^^^\n",
      "  File \"C:\\Users\\emanu\\AppData\\Local\\Temp\\ipykernel_33832\\1937663146.py\", line 27, in build_model\n",
      "    model.add(Conv1D(filters=filters, kernel_size=kernel_size, activation='relu', name=f\"extra_conv_{i}\"))\n",
      "  File \"C:\\Users\\emanu\\.virtualenvs\\DM2-HUE9YkAX\\Lib\\site-packages\\tensorflow\\python\\trackable\\base.py\", line 205, in _method_wrapper\n",
      "    result = method(self, *args, **kwargs)\n",
      "             ^^^^^^^^^^^^^^^^^^^^^^^^^^^^^\n",
      "  File \"C:\\Users\\emanu\\.virtualenvs\\DM2-HUE9YkAX\\Lib\\site-packages\\keras\\utils\\traceback_utils.py\", line 70, in error_handler\n",
      "    raise e.with_traceback(filtered_tb) from None\n",
      "  File \"C:\\Users\\emanu\\.virtualenvs\\DM2-HUE9YkAX\\Lib\\site-packages\\keras\\layers\\convolutional\\base_conv.py\", line 354, in compute_output_shape\n",
      "    raise ValueError(\n",
      "ValueError: One of the dimensions in the output is <= 0 due to downsampling in extra_conv_1. Consider increasing the input size. Received input shape [None, 5, 13] which would produce output shape with a zero or negative value in a dimension.\n",
      "[W 2023-06-28 12:13:14,055] Trial 90 failed with value None.\n"
     ]
    },
    {
     "name": "stdout",
     "output_type": "stream",
     "text": [
      "Running little bitch having n_conv=2, dropout=0.13702079570650164, hidden_nodes=13\n"
     ]
    },
    {
     "name": "stderr",
     "output_type": "stream",
     "text": [
      "[W 2023-06-28 12:13:14,441] Trial 91 failed with parameters: {'n_conv': 2, 'n_hidden': 2, 'hidden_nodes': 13, 'dropout': 0.13702079570650164, 'filters': 13, 'kernel_size': 11, 'batch_size': 18, 'epochs': 68} because of the following error: ValueError('One of the dimensions in the output is <= 0 due to downsampling in extra_conv_1. Consider increasing the input size. Received input shape [None, 7, 13] which would produce output shape with a zero or negative value in a dimension.').\n",
      "Traceback (most recent call last):\n",
      "  File \"C:\\Users\\emanu\\.virtualenvs\\DM2-HUE9YkAX\\Lib\\site-packages\\optuna\\study\\_optimize.py\", line 200, in _run_trial\n",
      "    value_or_values = func(trial)\n",
      "                      ^^^^^^^^^^^\n",
      "  File \"C:\\Users\\emanu\\AppData\\Local\\Temp\\ipykernel_33832\\1072382922.py\", line 34, in <lambda>\n",
      "    trial_function = lambda trial: objective_fun(trial,\n",
      "                                  ^^^^^^^^^^^^^^^^^^^^^\n",
      "  File \"C:\\Users\\emanu\\AppData\\Local\\Temp\\ipykernel_33832\\1072382922.py\", line 15, in objective_fun\n",
      "    cnn = build_model(  X.shape[1:], len(np.unique(y)),\n",
      "          ^^^^^^^^^^^^^^^^^^^^^^^^^^^^^^^^^^^^^^^^^^^^^\n",
      "  File \"C:\\Users\\emanu\\AppData\\Local\\Temp\\ipykernel_33832\\1937663146.py\", line 27, in build_model\n",
      "    model.add(Conv1D(filters=filters, kernel_size=kernel_size, activation='relu', name=f\"extra_conv_{i}\"))\n",
      "  File \"C:\\Users\\emanu\\.virtualenvs\\DM2-HUE9YkAX\\Lib\\site-packages\\tensorflow\\python\\trackable\\base.py\", line 205, in _method_wrapper\n",
      "    result = method(self, *args, **kwargs)\n",
      "             ^^^^^^^^^^^^^^^^^^^^^^^^^^^^^\n",
      "  File \"C:\\Users\\emanu\\.virtualenvs\\DM2-HUE9YkAX\\Lib\\site-packages\\keras\\utils\\traceback_utils.py\", line 70, in error_handler\n",
      "    raise e.with_traceback(filtered_tb) from None\n",
      "  File \"C:\\Users\\emanu\\.virtualenvs\\DM2-HUE9YkAX\\Lib\\site-packages\\keras\\layers\\convolutional\\base_conv.py\", line 354, in compute_output_shape\n",
      "    raise ValueError(\n",
      "ValueError: One of the dimensions in the output is <= 0 due to downsampling in extra_conv_1. Consider increasing the input size. Received input shape [None, 7, 13] which would produce output shape with a zero or negative value in a dimension.\n",
      "[W 2023-06-28 12:13:14,453] Trial 91 failed with value None.\n"
     ]
    },
    {
     "name": "stdout",
     "output_type": "stream",
     "text": [
      "Running little bitch having n_conv=2, dropout=0.13495204466768357, hidden_nodes=12\n"
     ]
    },
    {
     "name": "stderr",
     "output_type": "stream",
     "text": [
      "[W 2023-06-28 12:13:14,894] Trial 92 failed with parameters: {'n_conv': 2, 'n_hidden': 2, 'hidden_nodes': 12, 'dropout': 0.13495204466768357, 'filters': 13, 'kernel_size': 11, 'batch_size': 19, 'epochs': 66} because of the following error: ValueError('One of the dimensions in the output is <= 0 due to downsampling in extra_conv_1. Consider increasing the input size. Received input shape [None, 7, 13] which would produce output shape with a zero or negative value in a dimension.').\n",
      "Traceback (most recent call last):\n",
      "  File \"C:\\Users\\emanu\\.virtualenvs\\DM2-HUE9YkAX\\Lib\\site-packages\\optuna\\study\\_optimize.py\", line 200, in _run_trial\n",
      "    value_or_values = func(trial)\n",
      "                      ^^^^^^^^^^^\n",
      "  File \"C:\\Users\\emanu\\AppData\\Local\\Temp\\ipykernel_33832\\1072382922.py\", line 34, in <lambda>\n",
      "    trial_function = lambda trial: objective_fun(trial,\n",
      "                                  ^^^^^^^^^^^^^^^^^^^^^\n",
      "  File \"C:\\Users\\emanu\\AppData\\Local\\Temp\\ipykernel_33832\\1072382922.py\", line 15, in objective_fun\n",
      "    cnn = build_model(  X.shape[1:], len(np.unique(y)),\n",
      "          ^^^^^^^^^^^^^^^^^^^^^^^^^^^^^^^^^^^^^^^^^^^^^\n",
      "  File \"C:\\Users\\emanu\\AppData\\Local\\Temp\\ipykernel_33832\\1937663146.py\", line 27, in build_model\n",
      "    model.add(Conv1D(filters=filters, kernel_size=kernel_size, activation='relu', name=f\"extra_conv_{i}\"))\n",
      "  File \"C:\\Users\\emanu\\.virtualenvs\\DM2-HUE9YkAX\\Lib\\site-packages\\tensorflow\\python\\trackable\\base.py\", line 205, in _method_wrapper\n",
      "    result = method(self, *args, **kwargs)\n",
      "             ^^^^^^^^^^^^^^^^^^^^^^^^^^^^^\n",
      "  File \"C:\\Users\\emanu\\.virtualenvs\\DM2-HUE9YkAX\\Lib\\site-packages\\keras\\utils\\traceback_utils.py\", line 70, in error_handler\n",
      "    raise e.with_traceback(filtered_tb) from None\n",
      "  File \"C:\\Users\\emanu\\.virtualenvs\\DM2-HUE9YkAX\\Lib\\site-packages\\keras\\layers\\convolutional\\base_conv.py\", line 354, in compute_output_shape\n",
      "    raise ValueError(\n",
      "ValueError: One of the dimensions in the output is <= 0 due to downsampling in extra_conv_1. Consider increasing the input size. Received input shape [None, 7, 13] which would produce output shape with a zero or negative value in a dimension.\n",
      "[W 2023-06-28 12:13:14,903] Trial 92 failed with value None.\n"
     ]
    },
    {
     "name": "stdout",
     "output_type": "stream",
     "text": [
      "Running little bitch having n_conv=2, dropout=0.13336755624021573, hidden_nodes=16\n"
     ]
    },
    {
     "name": "stderr",
     "output_type": "stream",
     "text": [
      "[W 2023-06-28 12:13:15,273] Trial 93 failed with parameters: {'n_conv': 2, 'n_hidden': 2, 'hidden_nodes': 16, 'dropout': 0.13336755624021573, 'filters': 13, 'kernel_size': 11, 'batch_size': 20, 'epochs': 67} because of the following error: ValueError('One of the dimensions in the output is <= 0 due to downsampling in extra_conv_1. Consider increasing the input size. Received input shape [None, 7, 13] which would produce output shape with a zero or negative value in a dimension.').\n",
      "Traceback (most recent call last):\n",
      "  File \"C:\\Users\\emanu\\.virtualenvs\\DM2-HUE9YkAX\\Lib\\site-packages\\optuna\\study\\_optimize.py\", line 200, in _run_trial\n",
      "    value_or_values = func(trial)\n",
      "                      ^^^^^^^^^^^\n",
      "  File \"C:\\Users\\emanu\\AppData\\Local\\Temp\\ipykernel_33832\\1072382922.py\", line 34, in <lambda>\n",
      "    trial_function = lambda trial: objective_fun(trial,\n",
      "                                  ^^^^^^^^^^^^^^^^^^^^^\n",
      "  File \"C:\\Users\\emanu\\AppData\\Local\\Temp\\ipykernel_33832\\1072382922.py\", line 15, in objective_fun\n",
      "    cnn = build_model(  X.shape[1:], len(np.unique(y)),\n",
      "          ^^^^^^^^^^^^^^^^^^^^^^^^^^^^^^^^^^^^^^^^^^^^^\n",
      "  File \"C:\\Users\\emanu\\AppData\\Local\\Temp\\ipykernel_33832\\1937663146.py\", line 27, in build_model\n",
      "    model.add(Conv1D(filters=filters, kernel_size=kernel_size, activation='relu', name=f\"extra_conv_{i}\"))\n",
      "  File \"C:\\Users\\emanu\\.virtualenvs\\DM2-HUE9YkAX\\Lib\\site-packages\\tensorflow\\python\\trackable\\base.py\", line 205, in _method_wrapper\n",
      "    result = method(self, *args, **kwargs)\n",
      "             ^^^^^^^^^^^^^^^^^^^^^^^^^^^^^\n",
      "  File \"C:\\Users\\emanu\\.virtualenvs\\DM2-HUE9YkAX\\Lib\\site-packages\\keras\\utils\\traceback_utils.py\", line 70, in error_handler\n",
      "    raise e.with_traceback(filtered_tb) from None\n",
      "  File \"C:\\Users\\emanu\\.virtualenvs\\DM2-HUE9YkAX\\Lib\\site-packages\\keras\\layers\\convolutional\\base_conv.py\", line 354, in compute_output_shape\n",
      "    raise ValueError(\n",
      "ValueError: One of the dimensions in the output is <= 0 due to downsampling in extra_conv_1. Consider increasing the input size. Received input shape [None, 7, 13] which would produce output shape with a zero or negative value in a dimension.\n",
      "[W 2023-06-28 12:13:15,294] Trial 93 failed with value None.\n"
     ]
    },
    {
     "name": "stdout",
     "output_type": "stream",
     "text": [
      "Running little bitch having n_conv=2, dropout=0.1335369354011541, hidden_nodes=10\n"
     ]
    },
    {
     "name": "stderr",
     "output_type": "stream",
     "text": [
      "[W 2023-06-28 12:13:15,703] Trial 94 failed with parameters: {'n_conv': 2, 'n_hidden': 2, 'hidden_nodes': 10, 'dropout': 0.1335369354011541, 'filters': 13, 'kernel_size': 12, 'batch_size': 18, 'epochs': 67} because of the following error: ValueError('One of the dimensions in the output is <= 0 due to downsampling in extra_conv_1. Consider increasing the input size. Received input shape [None, 5, 13] which would produce output shape with a zero or negative value in a dimension.').\n",
      "Traceback (most recent call last):\n",
      "  File \"C:\\Users\\emanu\\.virtualenvs\\DM2-HUE9YkAX\\Lib\\site-packages\\optuna\\study\\_optimize.py\", line 200, in _run_trial\n",
      "    value_or_values = func(trial)\n",
      "                      ^^^^^^^^^^^\n",
      "  File \"C:\\Users\\emanu\\AppData\\Local\\Temp\\ipykernel_33832\\1072382922.py\", line 34, in <lambda>\n",
      "    trial_function = lambda trial: objective_fun(trial,\n",
      "                                  ^^^^^^^^^^^^^^^^^^^^^\n",
      "  File \"C:\\Users\\emanu\\AppData\\Local\\Temp\\ipykernel_33832\\1072382922.py\", line 15, in objective_fun\n",
      "    cnn = build_model(  X.shape[1:], len(np.unique(y)),\n",
      "          ^^^^^^^^^^^^^^^^^^^^^^^^^^^^^^^^^^^^^^^^^^^^^\n",
      "  File \"C:\\Users\\emanu\\AppData\\Local\\Temp\\ipykernel_33832\\1937663146.py\", line 27, in build_model\n",
      "    model.add(Conv1D(filters=filters, kernel_size=kernel_size, activation='relu', name=f\"extra_conv_{i}\"))\n",
      "  File \"C:\\Users\\emanu\\.virtualenvs\\DM2-HUE9YkAX\\Lib\\site-packages\\tensorflow\\python\\trackable\\base.py\", line 205, in _method_wrapper\n",
      "    result = method(self, *args, **kwargs)\n",
      "             ^^^^^^^^^^^^^^^^^^^^^^^^^^^^^\n",
      "  File \"C:\\Users\\emanu\\.virtualenvs\\DM2-HUE9YkAX\\Lib\\site-packages\\keras\\utils\\traceback_utils.py\", line 70, in error_handler\n",
      "    raise e.with_traceback(filtered_tb) from None\n",
      "  File \"C:\\Users\\emanu\\.virtualenvs\\DM2-HUE9YkAX\\Lib\\site-packages\\keras\\layers\\convolutional\\base_conv.py\", line 354, in compute_output_shape\n",
      "    raise ValueError(\n",
      "ValueError: One of the dimensions in the output is <= 0 due to downsampling in extra_conv_1. Consider increasing the input size. Received input shape [None, 5, 13] which would produce output shape with a zero or negative value in a dimension.\n",
      "[W 2023-06-28 12:13:15,715] Trial 94 failed with value None.\n"
     ]
    },
    {
     "name": "stdout",
     "output_type": "stream",
     "text": [
      "Running little bitch having n_conv=2, dropout=0.13324840771340377, hidden_nodes=8\n"
     ]
    },
    {
     "name": "stderr",
     "output_type": "stream",
     "text": [
      "[W 2023-06-28 12:13:16,134] Trial 95 failed with parameters: {'n_conv': 2, 'n_hidden': 2, 'hidden_nodes': 8, 'dropout': 0.13324840771340377, 'filters': 13, 'kernel_size': 11, 'batch_size': 52, 'epochs': 66} because of the following error: ValueError('One of the dimensions in the output is <= 0 due to downsampling in extra_conv_1. Consider increasing the input size. Received input shape [None, 7, 13] which would produce output shape with a zero or negative value in a dimension.').\n",
      "Traceback (most recent call last):\n",
      "  File \"C:\\Users\\emanu\\.virtualenvs\\DM2-HUE9YkAX\\Lib\\site-packages\\optuna\\study\\_optimize.py\", line 200, in _run_trial\n",
      "    value_or_values = func(trial)\n",
      "                      ^^^^^^^^^^^\n",
      "  File \"C:\\Users\\emanu\\AppData\\Local\\Temp\\ipykernel_33832\\1072382922.py\", line 34, in <lambda>\n",
      "    trial_function = lambda trial: objective_fun(trial,\n",
      "                                  ^^^^^^^^^^^^^^^^^^^^^\n",
      "  File \"C:\\Users\\emanu\\AppData\\Local\\Temp\\ipykernel_33832\\1072382922.py\", line 15, in objective_fun\n",
      "    cnn = build_model(  X.shape[1:], len(np.unique(y)),\n",
      "          ^^^^^^^^^^^^^^^^^^^^^^^^^^^^^^^^^^^^^^^^^^^^^\n",
      "  File \"C:\\Users\\emanu\\AppData\\Local\\Temp\\ipykernel_33832\\1937663146.py\", line 27, in build_model\n",
      "    model.add(Conv1D(filters=filters, kernel_size=kernel_size, activation='relu', name=f\"extra_conv_{i}\"))\n",
      "  File \"C:\\Users\\emanu\\.virtualenvs\\DM2-HUE9YkAX\\Lib\\site-packages\\tensorflow\\python\\trackable\\base.py\", line 205, in _method_wrapper\n",
      "    result = method(self, *args, **kwargs)\n",
      "             ^^^^^^^^^^^^^^^^^^^^^^^^^^^^^\n",
      "  File \"C:\\Users\\emanu\\.virtualenvs\\DM2-HUE9YkAX\\Lib\\site-packages\\keras\\utils\\traceback_utils.py\", line 70, in error_handler\n",
      "    raise e.with_traceback(filtered_tb) from None\n",
      "  File \"C:\\Users\\emanu\\.virtualenvs\\DM2-HUE9YkAX\\Lib\\site-packages\\keras\\layers\\convolutional\\base_conv.py\", line 354, in compute_output_shape\n",
      "    raise ValueError(\n",
      "ValueError: One of the dimensions in the output is <= 0 due to downsampling in extra_conv_1. Consider increasing the input size. Received input shape [None, 7, 13] which would produce output shape with a zero or negative value in a dimension.\n",
      "[W 2023-06-28 12:13:16,154] Trial 95 failed with value None.\n"
     ]
    },
    {
     "name": "stdout",
     "output_type": "stream",
     "text": [
      "Running little bitch having n_conv=2, dropout=0.13624520496002276, hidden_nodes=12\n"
     ]
    },
    {
     "name": "stderr",
     "output_type": "stream",
     "text": [
      "[W 2023-06-28 12:13:16,665] Trial 96 failed with parameters: {'n_conv': 2, 'n_hidden': 2, 'hidden_nodes': 12, 'dropout': 0.13624520496002276, 'filters': 13, 'kernel_size': 11, 'batch_size': 16, 'epochs': 67} because of the following error: ValueError('One of the dimensions in the output is <= 0 due to downsampling in extra_conv_1. Consider increasing the input size. Received input shape [None, 7, 13] which would produce output shape with a zero or negative value in a dimension.').\n",
      "Traceback (most recent call last):\n",
      "  File \"C:\\Users\\emanu\\.virtualenvs\\DM2-HUE9YkAX\\Lib\\site-packages\\optuna\\study\\_optimize.py\", line 200, in _run_trial\n",
      "    value_or_values = func(trial)\n",
      "                      ^^^^^^^^^^^\n",
      "  File \"C:\\Users\\emanu\\AppData\\Local\\Temp\\ipykernel_33832\\1072382922.py\", line 34, in <lambda>\n",
      "    trial_function = lambda trial: objective_fun(trial,\n",
      "                                  ^^^^^^^^^^^^^^^^^^^^^\n",
      "  File \"C:\\Users\\emanu\\AppData\\Local\\Temp\\ipykernel_33832\\1072382922.py\", line 15, in objective_fun\n",
      "    cnn = build_model(  X.shape[1:], len(np.unique(y)),\n",
      "          ^^^^^^^^^^^^^^^^^^^^^^^^^^^^^^^^^^^^^^^^^^^^^\n",
      "  File \"C:\\Users\\emanu\\AppData\\Local\\Temp\\ipykernel_33832\\1937663146.py\", line 27, in build_model\n",
      "    model.add(Conv1D(filters=filters, kernel_size=kernel_size, activation='relu', name=f\"extra_conv_{i}\"))\n",
      "  File \"C:\\Users\\emanu\\.virtualenvs\\DM2-HUE9YkAX\\Lib\\site-packages\\tensorflow\\python\\trackable\\base.py\", line 205, in _method_wrapper\n",
      "    result = method(self, *args, **kwargs)\n",
      "             ^^^^^^^^^^^^^^^^^^^^^^^^^^^^^\n",
      "  File \"C:\\Users\\emanu\\.virtualenvs\\DM2-HUE9YkAX\\Lib\\site-packages\\keras\\utils\\traceback_utils.py\", line 70, in error_handler\n",
      "    raise e.with_traceback(filtered_tb) from None\n",
      "  File \"C:\\Users\\emanu\\.virtualenvs\\DM2-HUE9YkAX\\Lib\\site-packages\\keras\\layers\\convolutional\\base_conv.py\", line 354, in compute_output_shape\n",
      "    raise ValueError(\n",
      "ValueError: One of the dimensions in the output is <= 0 due to downsampling in extra_conv_1. Consider increasing the input size. Received input shape [None, 7, 13] which would produce output shape with a zero or negative value in a dimension.\n",
      "[W 2023-06-28 12:13:16,674] Trial 96 failed with value None.\n"
     ]
    },
    {
     "name": "stdout",
     "output_type": "stream",
     "text": [
      "Running little bitch having n_conv=2, dropout=0.14113561488614762, hidden_nodes=15\n",
      "13/13 [==============================] - 1s 6ms/step\n"
     ]
    },
    {
     "name": "stderr",
     "output_type": "stream",
     "text": [
      "[I 2023-06-28 12:13:16,993] Trial 63 finished with value: 0.9819121447028424 and parameters: {'n_conv': 1, 'n_hidden': 3, 'hidden_nodes': 41, 'dropout': 0.11769530131849962, 'filters': 11, 'kernel_size': 10, 'batch_size': 29, 'epochs': 73}. Best is trial 22 with value: 0.9844961240310077.\n"
     ]
    },
    {
     "name": "stdout",
     "output_type": "stream",
     "text": [
      "Running little bitch having n_conv=2, dropout=0.13949039829551832, hidden_nodes=8\n"
     ]
    },
    {
     "name": "stderr",
     "output_type": "stream",
     "text": [
      "[W 2023-06-28 12:13:17,153] Trial 97 failed with parameters: {'n_conv': 2, 'n_hidden': 2, 'hidden_nodes': 15, 'dropout': 0.14113561488614762, 'filters': 13, 'kernel_size': 11, 'batch_size': 17, 'epochs': 65} because of the following error: ValueError('One of the dimensions in the output is <= 0 due to downsampling in extra_conv_1. Consider increasing the input size. Received input shape [None, 7, 13] which would produce output shape with a zero or negative value in a dimension.').\n",
      "Traceback (most recent call last):\n",
      "  File \"C:\\Users\\emanu\\.virtualenvs\\DM2-HUE9YkAX\\Lib\\site-packages\\optuna\\study\\_optimize.py\", line 200, in _run_trial\n",
      "    value_or_values = func(trial)\n",
      "                      ^^^^^^^^^^^\n",
      "  File \"C:\\Users\\emanu\\AppData\\Local\\Temp\\ipykernel_33832\\1072382922.py\", line 34, in <lambda>\n",
      "    trial_function = lambda trial: objective_fun(trial,\n",
      "                                  ^^^^^^^^^^^^^^^^^^^^^\n",
      "  File \"C:\\Users\\emanu\\AppData\\Local\\Temp\\ipykernel_33832\\1072382922.py\", line 15, in objective_fun\n",
      "    cnn = build_model(  X.shape[1:], len(np.unique(y)),\n",
      "          ^^^^^^^^^^^^^^^^^^^^^^^^^^^^^^^^^^^^^^^^^^^^^\n",
      "  File \"C:\\Users\\emanu\\AppData\\Local\\Temp\\ipykernel_33832\\1937663146.py\", line 27, in build_model\n",
      "    model.add(Conv1D(filters=filters, kernel_size=kernel_size, activation='relu', name=f\"extra_conv_{i}\"))\n",
      "  File \"C:\\Users\\emanu\\.virtualenvs\\DM2-HUE9YkAX\\Lib\\site-packages\\tensorflow\\python\\trackable\\base.py\", line 205, in _method_wrapper\n",
      "    result = method(self, *args, **kwargs)\n",
      "             ^^^^^^^^^^^^^^^^^^^^^^^^^^^^^\n",
      "  File \"C:\\Users\\emanu\\.virtualenvs\\DM2-HUE9YkAX\\Lib\\site-packages\\keras\\utils\\traceback_utils.py\", line 70, in error_handler\n",
      "    raise e.with_traceback(filtered_tb) from None\n",
      "  File \"C:\\Users\\emanu\\.virtualenvs\\DM2-HUE9YkAX\\Lib\\site-packages\\keras\\layers\\convolutional\\base_conv.py\", line 354, in compute_output_shape\n",
      "    raise ValueError(\n",
      "ValueError: One of the dimensions in the output is <= 0 due to downsampling in extra_conv_1. Consider increasing the input size. Received input shape [None, 7, 13] which would produce output shape with a zero or negative value in a dimension.\n",
      "[W 2023-06-28 12:13:17,171] Trial 97 failed with value None.\n"
     ]
    },
    {
     "name": "stdout",
     "output_type": "stream",
     "text": [
      "Running little bitch having n_conv=2, dropout=0.1347347448960928, hidden_nodes=31\n"
     ]
    },
    {
     "name": "stderr",
     "output_type": "stream",
     "text": [
      "[W 2023-06-28 12:13:17,463] Trial 98 failed with parameters: {'n_conv': 2, 'n_hidden': 2, 'hidden_nodes': 8, 'dropout': 0.13949039829551832, 'filters': 13, 'kernel_size': 11, 'batch_size': 19, 'epochs': 67} because of the following error: ValueError('One of the dimensions in the output is <= 0 due to downsampling in extra_conv_1. Consider increasing the input size. Received input shape [None, 7, 13] which would produce output shape with a zero or negative value in a dimension.').\n",
      "Traceback (most recent call last):\n",
      "  File \"C:\\Users\\emanu\\.virtualenvs\\DM2-HUE9YkAX\\Lib\\site-packages\\optuna\\study\\_optimize.py\", line 200, in _run_trial\n",
      "    value_or_values = func(trial)\n",
      "                      ^^^^^^^^^^^\n",
      "  File \"C:\\Users\\emanu\\AppData\\Local\\Temp\\ipykernel_33832\\1072382922.py\", line 34, in <lambda>\n",
      "    trial_function = lambda trial: objective_fun(trial,\n",
      "                                  ^^^^^^^^^^^^^^^^^^^^^\n",
      "  File \"C:\\Users\\emanu\\AppData\\Local\\Temp\\ipykernel_33832\\1072382922.py\", line 15, in objective_fun\n",
      "    cnn = build_model(  X.shape[1:], len(np.unique(y)),\n",
      "          ^^^^^^^^^^^^^^^^^^^^^^^^^^^^^^^^^^^^^^^^^^^^^\n",
      "  File \"C:\\Users\\emanu\\AppData\\Local\\Temp\\ipykernel_33832\\1937663146.py\", line 27, in build_model\n",
      "    model.add(Conv1D(filters=filters, kernel_size=kernel_size, activation='relu', name=f\"extra_conv_{i}\"))\n",
      "  File \"C:\\Users\\emanu\\.virtualenvs\\DM2-HUE9YkAX\\Lib\\site-packages\\tensorflow\\python\\trackable\\base.py\", line 205, in _method_wrapper\n",
      "    result = method(self, *args, **kwargs)\n",
      "             ^^^^^^^^^^^^^^^^^^^^^^^^^^^^^\n",
      "  File \"C:\\Users\\emanu\\.virtualenvs\\DM2-HUE9YkAX\\Lib\\site-packages\\keras\\utils\\traceback_utils.py\", line 70, in error_handler\n",
      "    raise e.with_traceback(filtered_tb) from None\n",
      "  File \"C:\\Users\\emanu\\.virtualenvs\\DM2-HUE9YkAX\\Lib\\site-packages\\keras\\layers\\convolutional\\base_conv.py\", line 354, in compute_output_shape\n",
      "    raise ValueError(\n",
      "ValueError: One of the dimensions in the output is <= 0 due to downsampling in extra_conv_1. Consider increasing the input size. Received input shape [None, 7, 13] which would produce output shape with a zero or negative value in a dimension.\n",
      "[W 2023-06-28 12:13:17,478] Trial 98 failed with value None.\n",
      "[W 2023-06-28 12:13:17,673] Trial 99 failed with parameters: {'n_conv': 2, 'n_hidden': 2, 'hidden_nodes': 31, 'dropout': 0.1347347448960928, 'filters': 13, 'kernel_size': 11, 'batch_size': 17, 'epochs': 72} because of the following error: ValueError('One of the dimensions in the output is <= 0 due to downsampling in extra_conv_1. Consider increasing the input size. Received input shape [None, 7, 13] which would produce output shape with a zero or negative value in a dimension.').\n",
      "Traceback (most recent call last):\n",
      "  File \"C:\\Users\\emanu\\.virtualenvs\\DM2-HUE9YkAX\\Lib\\site-packages\\optuna\\study\\_optimize.py\", line 200, in _run_trial\n",
      "    value_or_values = func(trial)\n",
      "                      ^^^^^^^^^^^\n",
      "  File \"C:\\Users\\emanu\\AppData\\Local\\Temp\\ipykernel_33832\\1072382922.py\", line 34, in <lambda>\n",
      "    trial_function = lambda trial: objective_fun(trial,\n",
      "                                  ^^^^^^^^^^^^^^^^^^^^^\n",
      "  File \"C:\\Users\\emanu\\AppData\\Local\\Temp\\ipykernel_33832\\1072382922.py\", line 15, in objective_fun\n",
      "    cnn = build_model(  X.shape[1:], len(np.unique(y)),\n",
      "          ^^^^^^^^^^^^^^^^^^^^^^^^^^^^^^^^^^^^^^^^^^^^^\n",
      "  File \"C:\\Users\\emanu\\AppData\\Local\\Temp\\ipykernel_33832\\1937663146.py\", line 27, in build_model\n",
      "    model.add(Conv1D(filters=filters, kernel_size=kernel_size, activation='relu', name=f\"extra_conv_{i}\"))\n",
      "  File \"C:\\Users\\emanu\\.virtualenvs\\DM2-HUE9YkAX\\Lib\\site-packages\\tensorflow\\python\\trackable\\base.py\", line 205, in _method_wrapper\n",
      "    result = method(self, *args, **kwargs)\n",
      "             ^^^^^^^^^^^^^^^^^^^^^^^^^^^^^\n",
      "  File \"C:\\Users\\emanu\\.virtualenvs\\DM2-HUE9YkAX\\Lib\\site-packages\\keras\\utils\\traceback_utils.py\", line 70, in error_handler\n",
      "    raise e.with_traceback(filtered_tb) from None\n",
      "  File \"C:\\Users\\emanu\\.virtualenvs\\DM2-HUE9YkAX\\Lib\\site-packages\\keras\\layers\\convolutional\\base_conv.py\", line 354, in compute_output_shape\n",
      "    raise ValueError(\n",
      "ValueError: One of the dimensions in the output is <= 0 due to downsampling in extra_conv_1. Consider increasing the input size. Received input shape [None, 7, 13] which would produce output shape with a zero or negative value in a dimension.\n",
      "[W 2023-06-28 12:13:17,685] Trial 99 failed with value None.\n"
     ]
    },
    {
     "name": "stdout",
     "output_type": "stream",
     "text": [
      "Running little bitch having n_conv=2, dropout=0.1346359510743792, hidden_nodes=20\n"
     ]
    },
    {
     "name": "stderr",
     "output_type": "stream",
     "text": [
      "[W 2023-06-28 12:13:17,965] Trial 100 failed with parameters: {'n_conv': 2, 'n_hidden': 2, 'hidden_nodes': 20, 'dropout': 0.1346359510743792, 'filters': 13, 'kernel_size': 11, 'batch_size': 21, 'epochs': 67} because of the following error: ValueError('One of the dimensions in the output is <= 0 due to downsampling in extra_conv_1. Consider increasing the input size. Received input shape [None, 7, 13] which would produce output shape with a zero or negative value in a dimension.').\n",
      "Traceback (most recent call last):\n",
      "  File \"C:\\Users\\emanu\\.virtualenvs\\DM2-HUE9YkAX\\Lib\\site-packages\\optuna\\study\\_optimize.py\", line 200, in _run_trial\n",
      "    value_or_values = func(trial)\n",
      "                      ^^^^^^^^^^^\n",
      "  File \"C:\\Users\\emanu\\AppData\\Local\\Temp\\ipykernel_33832\\1072382922.py\", line 34, in <lambda>\n",
      "    trial_function = lambda trial: objective_fun(trial,\n",
      "                                  ^^^^^^^^^^^^^^^^^^^^^\n",
      "  File \"C:\\Users\\emanu\\AppData\\Local\\Temp\\ipykernel_33832\\1072382922.py\", line 15, in objective_fun\n",
      "    cnn = build_model(  X.shape[1:], len(np.unique(y)),\n",
      "          ^^^^^^^^^^^^^^^^^^^^^^^^^^^^^^^^^^^^^^^^^^^^^\n",
      "  File \"C:\\Users\\emanu\\AppData\\Local\\Temp\\ipykernel_33832\\1937663146.py\", line 27, in build_model\n",
      "    model.add(Conv1D(filters=filters, kernel_size=kernel_size, activation='relu', name=f\"extra_conv_{i}\"))\n",
      "  File \"C:\\Users\\emanu\\.virtualenvs\\DM2-HUE9YkAX\\Lib\\site-packages\\tensorflow\\python\\trackable\\base.py\", line 205, in _method_wrapper\n",
      "    result = method(self, *args, **kwargs)\n",
      "             ^^^^^^^^^^^^^^^^^^^^^^^^^^^^^\n",
      "  File \"C:\\Users\\emanu\\.virtualenvs\\DM2-HUE9YkAX\\Lib\\site-packages\\keras\\utils\\traceback_utils.py\", line 70, in error_handler\n",
      "    raise e.with_traceback(filtered_tb) from None\n",
      "  File \"C:\\Users\\emanu\\.virtualenvs\\DM2-HUE9YkAX\\Lib\\site-packages\\keras\\layers\\convolutional\\base_conv.py\", line 354, in compute_output_shape\n",
      "    raise ValueError(\n",
      "ValueError: One of the dimensions in the output is <= 0 due to downsampling in extra_conv_1. Consider increasing the input size. Received input shape [None, 7, 13] which would produce output shape with a zero or negative value in a dimension.\n",
      "[W 2023-06-28 12:13:17,972] Trial 100 failed with value None.\n"
     ]
    },
    {
     "name": "stdout",
     "output_type": "stream",
     "text": [
      "Running little bitch having n_conv=2, dropout=0.1354583065330894, hidden_nodes=18\n"
     ]
    },
    {
     "name": "stderr",
     "output_type": "stream",
     "text": [
      "[W 2023-06-28 12:13:18,182] Trial 101 failed with parameters: {'n_conv': 2, 'n_hidden': 2, 'hidden_nodes': 18, 'dropout': 0.1354583065330894, 'filters': 13, 'kernel_size': 11, 'batch_size': 23, 'epochs': 69} because of the following error: ValueError('One of the dimensions in the output is <= 0 due to downsampling in extra_conv_1. Consider increasing the input size. Received input shape [None, 7, 13] which would produce output shape with a zero or negative value in a dimension.').\n",
      "Traceback (most recent call last):\n",
      "  File \"C:\\Users\\emanu\\.virtualenvs\\DM2-HUE9YkAX\\Lib\\site-packages\\optuna\\study\\_optimize.py\", line 200, in _run_trial\n",
      "    value_or_values = func(trial)\n",
      "                      ^^^^^^^^^^^\n",
      "  File \"C:\\Users\\emanu\\AppData\\Local\\Temp\\ipykernel_33832\\1072382922.py\", line 34, in <lambda>\n",
      "    trial_function = lambda trial: objective_fun(trial,\n",
      "                                  ^^^^^^^^^^^^^^^^^^^^^\n",
      "  File \"C:\\Users\\emanu\\AppData\\Local\\Temp\\ipykernel_33832\\1072382922.py\", line 15, in objective_fun\n",
      "    cnn = build_model(  X.shape[1:], len(np.unique(y)),\n",
      "          ^^^^^^^^^^^^^^^^^^^^^^^^^^^^^^^^^^^^^^^^^^^^^\n",
      "  File \"C:\\Users\\emanu\\AppData\\Local\\Temp\\ipykernel_33832\\1937663146.py\", line 27, in build_model\n",
      "    model.add(Conv1D(filters=filters, kernel_size=kernel_size, activation='relu', name=f\"extra_conv_{i}\"))\n",
      "  File \"C:\\Users\\emanu\\.virtualenvs\\DM2-HUE9YkAX\\Lib\\site-packages\\tensorflow\\python\\trackable\\base.py\", line 205, in _method_wrapper\n",
      "    result = method(self, *args, **kwargs)\n",
      "             ^^^^^^^^^^^^^^^^^^^^^^^^^^^^^\n",
      "  File \"C:\\Users\\emanu\\.virtualenvs\\DM2-HUE9YkAX\\Lib\\site-packages\\keras\\utils\\traceback_utils.py\", line 70, in error_handler\n",
      "    raise e.with_traceback(filtered_tb) from None\n",
      "  File \"C:\\Users\\emanu\\.virtualenvs\\DM2-HUE9YkAX\\Lib\\site-packages\\keras\\layers\\convolutional\\base_conv.py\", line 354, in compute_output_shape\n",
      "    raise ValueError(\n",
      "ValueError: One of the dimensions in the output is <= 0 due to downsampling in extra_conv_1. Consider increasing the input size. Received input shape [None, 7, 13] which would produce output shape with a zero or negative value in a dimension.\n",
      "[W 2023-06-28 12:13:18,194] Trial 101 failed with value None.\n"
     ]
    },
    {
     "name": "stdout",
     "output_type": "stream",
     "text": [
      "Running little bitch having n_conv=2, dropout=0.13405845602089753, hidden_nodes=12\n",
      "Running little bitch having n_conv=2, dropout=0.1342664294847074, hidden_nodes=16\n"
     ]
    },
    {
     "name": "stderr",
     "output_type": "stream",
     "text": [
      "[W 2023-06-28 12:13:18,504] Trial 102 failed with parameters: {'n_conv': 2, 'n_hidden': 2, 'hidden_nodes': 12, 'dropout': 0.13405845602089753, 'filters': 13, 'kernel_size': 11, 'batch_size': 17, 'epochs': 67} because of the following error: ValueError('One of the dimensions in the output is <= 0 due to downsampling in extra_conv_1. Consider increasing the input size. Received input shape [None, 7, 13] which would produce output shape with a zero or negative value in a dimension.').\n",
      "Traceback (most recent call last):\n",
      "  File \"C:\\Users\\emanu\\.virtualenvs\\DM2-HUE9YkAX\\Lib\\site-packages\\optuna\\study\\_optimize.py\", line 200, in _run_trial\n",
      "    value_or_values = func(trial)\n",
      "                      ^^^^^^^^^^^\n",
      "  File \"C:\\Users\\emanu\\AppData\\Local\\Temp\\ipykernel_33832\\1072382922.py\", line 34, in <lambda>\n",
      "    trial_function = lambda trial: objective_fun(trial,\n",
      "                                  ^^^^^^^^^^^^^^^^^^^^^\n",
      "  File \"C:\\Users\\emanu\\AppData\\Local\\Temp\\ipykernel_33832\\1072382922.py\", line 15, in objective_fun\n",
      "    cnn = build_model(  X.shape[1:], len(np.unique(y)),\n",
      "          ^^^^^^^^^^^^^^^^^^^^^^^^^^^^^^^^^^^^^^^^^^^^^\n",
      "  File \"C:\\Users\\emanu\\AppData\\Local\\Temp\\ipykernel_33832\\1937663146.py\", line 27, in build_model\n",
      "    model.add(Conv1D(filters=filters, kernel_size=kernel_size, activation='relu', name=f\"extra_conv_{i}\"))\n",
      "  File \"C:\\Users\\emanu\\.virtualenvs\\DM2-HUE9YkAX\\Lib\\site-packages\\tensorflow\\python\\trackable\\base.py\", line 205, in _method_wrapper\n",
      "    result = method(self, *args, **kwargs)\n",
      "             ^^^^^^^^^^^^^^^^^^^^^^^^^^^^^\n",
      "  File \"C:\\Users\\emanu\\.virtualenvs\\DM2-HUE9YkAX\\Lib\\site-packages\\keras\\utils\\traceback_utils.py\", line 70, in error_handler\n",
      "    raise e.with_traceback(filtered_tb) from None\n",
      "  File \"C:\\Users\\emanu\\.virtualenvs\\DM2-HUE9YkAX\\Lib\\site-packages\\keras\\layers\\convolutional\\base_conv.py\", line 354, in compute_output_shape\n",
      "    raise ValueError(\n",
      "ValueError: One of the dimensions in the output is <= 0 due to downsampling in extra_conv_1. Consider increasing the input size. Received input shape [None, 7, 13] which would produce output shape with a zero or negative value in a dimension.\n",
      "[W 2023-06-28 12:13:18,523] Trial 102 failed with value None.\n",
      "[W 2023-06-28 12:13:18,715] Trial 103 failed with parameters: {'n_conv': 2, 'n_hidden': 2, 'hidden_nodes': 16, 'dropout': 0.1342664294847074, 'filters': 13, 'kernel_size': 11, 'batch_size': 16, 'epochs': 65} because of the following error: ValueError('One of the dimensions in the output is <= 0 due to downsampling in extra_conv_1. Consider increasing the input size. Received input shape [None, 7, 13] which would produce output shape with a zero or negative value in a dimension.').\n",
      "Traceback (most recent call last):\n",
      "  File \"C:\\Users\\emanu\\.virtualenvs\\DM2-HUE9YkAX\\Lib\\site-packages\\optuna\\study\\_optimize.py\", line 200, in _run_trial\n",
      "    value_or_values = func(trial)\n",
      "                      ^^^^^^^^^^^\n",
      "  File \"C:\\Users\\emanu\\AppData\\Local\\Temp\\ipykernel_33832\\1072382922.py\", line 34, in <lambda>\n",
      "    trial_function = lambda trial: objective_fun(trial,\n",
      "                                  ^^^^^^^^^^^^^^^^^^^^^\n",
      "  File \"C:\\Users\\emanu\\AppData\\Local\\Temp\\ipykernel_33832\\1072382922.py\", line 15, in objective_fun\n",
      "    cnn = build_model(  X.shape[1:], len(np.unique(y)),\n",
      "          ^^^^^^^^^^^^^^^^^^^^^^^^^^^^^^^^^^^^^^^^^^^^^\n",
      "  File \"C:\\Users\\emanu\\AppData\\Local\\Temp\\ipykernel_33832\\1937663146.py\", line 27, in build_model\n",
      "    model.add(Conv1D(filters=filters, kernel_size=kernel_size, activation='relu', name=f\"extra_conv_{i}\"))\n",
      "  File \"C:\\Users\\emanu\\.virtualenvs\\DM2-HUE9YkAX\\Lib\\site-packages\\tensorflow\\python\\trackable\\base.py\", line 205, in _method_wrapper\n",
      "    result = method(self, *args, **kwargs)\n",
      "             ^^^^^^^^^^^^^^^^^^^^^^^^^^^^^\n",
      "  File \"C:\\Users\\emanu\\.virtualenvs\\DM2-HUE9YkAX\\Lib\\site-packages\\keras\\utils\\traceback_utils.py\", line 70, in error_handler\n",
      "    raise e.with_traceback(filtered_tb) from None\n",
      "  File \"C:\\Users\\emanu\\.virtualenvs\\DM2-HUE9YkAX\\Lib\\site-packages\\keras\\layers\\convolutional\\base_conv.py\", line 354, in compute_output_shape\n",
      "    raise ValueError(\n",
      "ValueError: One of the dimensions in the output is <= 0 due to downsampling in extra_conv_1. Consider increasing the input size. Received input shape [None, 7, 13] which would produce output shape with a zero or negative value in a dimension.\n",
      "[W 2023-06-28 12:13:18,733] Trial 103 failed with value None.\n"
     ]
    },
    {
     "name": "stdout",
     "output_type": "stream",
     "text": [
      "Running little bitch having n_conv=2, dropout=0.1337304269533819, hidden_nodes=15\n",
      "Running little bitch having n_conv=2, dropout=0.1410196521962374, hidden_nodes=21\n",
      " 1/13 [=>............................] - ETA: 8s"
     ]
    },
    {
     "name": "stderr",
     "output_type": "stream",
     "text": [
      "[W 2023-06-28 12:13:18,994] Trial 104 failed with parameters: {'n_conv': 2, 'n_hidden': 2, 'hidden_nodes': 15, 'dropout': 0.1337304269533819, 'filters': 13, 'kernel_size': 11, 'batch_size': 18, 'epochs': 68} because of the following error: ValueError('One of the dimensions in the output is <= 0 due to downsampling in extra_conv_1. Consider increasing the input size. Received input shape [None, 7, 13] which would produce output shape with a zero or negative value in a dimension.').\n",
      "Traceback (most recent call last):\n",
      "  File \"C:\\Users\\emanu\\.virtualenvs\\DM2-HUE9YkAX\\Lib\\site-packages\\optuna\\study\\_optimize.py\", line 200, in _run_trial\n",
      "    value_or_values = func(trial)\n",
      "                      ^^^^^^^^^^^\n",
      "  File \"C:\\Users\\emanu\\AppData\\Local\\Temp\\ipykernel_33832\\1072382922.py\", line 34, in <lambda>\n",
      "    trial_function = lambda trial: objective_fun(trial,\n",
      "                                  ^^^^^^^^^^^^^^^^^^^^^\n",
      "  File \"C:\\Users\\emanu\\AppData\\Local\\Temp\\ipykernel_33832\\1072382922.py\", line 15, in objective_fun\n",
      "    cnn = build_model(  X.shape[1:], len(np.unique(y)),\n",
      "          ^^^^^^^^^^^^^^^^^^^^^^^^^^^^^^^^^^^^^^^^^^^^^\n",
      "  File \"C:\\Users\\emanu\\AppData\\Local\\Temp\\ipykernel_33832\\1937663146.py\", line 27, in build_model\n",
      "    model.add(Conv1D(filters=filters, kernel_size=kernel_size, activation='relu', name=f\"extra_conv_{i}\"))\n",
      "  File \"C:\\Users\\emanu\\.virtualenvs\\DM2-HUE9YkAX\\Lib\\site-packages\\tensorflow\\python\\trackable\\base.py\", line 205, in _method_wrapper\n",
      "    result = method(self, *args, **kwargs)\n",
      "             ^^^^^^^^^^^^^^^^^^^^^^^^^^^^^\n",
      "  File \"C:\\Users\\emanu\\.virtualenvs\\DM2-HUE9YkAX\\Lib\\site-packages\\keras\\utils\\traceback_utils.py\", line 70, in error_handler\n",
      "    raise e.with_traceback(filtered_tb) from None\n",
      "  File \"C:\\Users\\emanu\\.virtualenvs\\DM2-HUE9YkAX\\Lib\\site-packages\\keras\\layers\\convolutional\\base_conv.py\", line 354, in compute_output_shape\n",
      "    raise ValueError(\n",
      "ValueError: One of the dimensions in the output is <= 0 due to downsampling in extra_conv_1. Consider increasing the input size. Received input shape [None, 7, 13] which would produce output shape with a zero or negative value in a dimension.\n",
      "[W 2023-06-28 12:13:19,014] Trial 104 failed with value None.\n"
     ]
    },
    {
     "name": "stdout",
     "output_type": "stream",
     "text": [
      "10/13 [======================>.......] - ETA: 0sRunning little bitch having n_conv=2, dropout=0.13594217352556254, hidden_nodes=14\n",
      "13/13 [==============================] - 1s 13ms/step\n"
     ]
    },
    {
     "name": "stderr",
     "output_type": "stream",
     "text": [
      "[W 2023-06-28 12:13:19,173] Trial 105 failed with parameters: {'n_conv': 2, 'n_hidden': 2, 'hidden_nodes': 21, 'dropout': 0.1410196521962374, 'filters': 13, 'kernel_size': 11, 'batch_size': 21, 'epochs': 67} because of the following error: ValueError('One of the dimensions in the output is <= 0 due to downsampling in extra_conv_1. Consider increasing the input size. Received input shape [None, 7, 13] which would produce output shape with a zero or negative value in a dimension.').\n",
      "Traceback (most recent call last):\n",
      "  File \"C:\\Users\\emanu\\.virtualenvs\\DM2-HUE9YkAX\\Lib\\site-packages\\optuna\\study\\_optimize.py\", line 200, in _run_trial\n",
      "    value_or_values = func(trial)\n",
      "                      ^^^^^^^^^^^\n",
      "  File \"C:\\Users\\emanu\\AppData\\Local\\Temp\\ipykernel_33832\\1072382922.py\", line 34, in <lambda>\n",
      "    trial_function = lambda trial: objective_fun(trial,\n",
      "                                  ^^^^^^^^^^^^^^^^^^^^^\n",
      "  File \"C:\\Users\\emanu\\AppData\\Local\\Temp\\ipykernel_33832\\1072382922.py\", line 15, in objective_fun\n",
      "    cnn = build_model(  X.shape[1:], len(np.unique(y)),\n",
      "          ^^^^^^^^^^^^^^^^^^^^^^^^^^^^^^^^^^^^^^^^^^^^^\n",
      "  File \"C:\\Users\\emanu\\AppData\\Local\\Temp\\ipykernel_33832\\1937663146.py\", line 27, in build_model\n",
      "    model.add(Conv1D(filters=filters, kernel_size=kernel_size, activation='relu', name=f\"extra_conv_{i}\"))\n",
      "  File \"C:\\Users\\emanu\\.virtualenvs\\DM2-HUE9YkAX\\Lib\\site-packages\\tensorflow\\python\\trackable\\base.py\", line 205, in _method_wrapper\n",
      "    result = method(self, *args, **kwargs)\n",
      "             ^^^^^^^^^^^^^^^^^^^^^^^^^^^^^\n",
      "  File \"C:\\Users\\emanu\\.virtualenvs\\DM2-HUE9YkAX\\Lib\\site-packages\\keras\\utils\\traceback_utils.py\", line 70, in error_handler\n",
      "    raise e.with_traceback(filtered_tb) from None\n",
      "  File \"C:\\Users\\emanu\\.virtualenvs\\DM2-HUE9YkAX\\Lib\\site-packages\\keras\\layers\\convolutional\\base_conv.py\", line 354, in compute_output_shape\n",
      "    raise ValueError(\n",
      "ValueError: One of the dimensions in the output is <= 0 due to downsampling in extra_conv_1. Consider increasing the input size. Received input shape [None, 7, 13] which would produce output shape with a zero or negative value in a dimension.\n",
      "[W 2023-06-28 12:13:19,181] Trial 105 failed with value None.\n",
      "[I 2023-06-28 12:13:19,284] Trial 62 finished with value: 0.979328165374677 and parameters: {'n_conv': 1, 'n_hidden': 3, 'hidden_nodes': 18, 'dropout': 0.12132419241165232, 'filters': 11, 'kernel_size': 11, 'batch_size': 28, 'epochs': 74}. Best is trial 22 with value: 0.9844961240310077.\n"
     ]
    },
    {
     "name": "stdout",
     "output_type": "stream",
     "text": [
      "Running little bitch having n_conv=2, dropout=0.13673274106469213, hidden_nodes=18\n",
      "Running little bitch having n_conv=2, dropout=0.13810268728485592, hidden_nodes=47\n"
     ]
    },
    {
     "name": "stderr",
     "output_type": "stream",
     "text": [
      "[W 2023-06-28 12:13:19,604] Trial 106 failed with parameters: {'n_conv': 2, 'n_hidden': 2, 'hidden_nodes': 14, 'dropout': 0.13594217352556254, 'filters': 13, 'kernel_size': 11, 'batch_size': 17, 'epochs': 67} because of the following error: ValueError('One of the dimensions in the output is <= 0 due to downsampling in extra_conv_1. Consider increasing the input size. Received input shape [None, 7, 13] which would produce output shape with a zero or negative value in a dimension.').\n",
      "Traceback (most recent call last):\n",
      "  File \"C:\\Users\\emanu\\.virtualenvs\\DM2-HUE9YkAX\\Lib\\site-packages\\optuna\\study\\_optimize.py\", line 200, in _run_trial\n",
      "    value_or_values = func(trial)\n",
      "                      ^^^^^^^^^^^\n",
      "  File \"C:\\Users\\emanu\\AppData\\Local\\Temp\\ipykernel_33832\\1072382922.py\", line 34, in <lambda>\n",
      "    trial_function = lambda trial: objective_fun(trial,\n",
      "                                  ^^^^^^^^^^^^^^^^^^^^^\n",
      "  File \"C:\\Users\\emanu\\AppData\\Local\\Temp\\ipykernel_33832\\1072382922.py\", line 15, in objective_fun\n",
      "    cnn = build_model(  X.shape[1:], len(np.unique(y)),\n",
      "          ^^^^^^^^^^^^^^^^^^^^^^^^^^^^^^^^^^^^^^^^^^^^^\n",
      "  File \"C:\\Users\\emanu\\AppData\\Local\\Temp\\ipykernel_33832\\1937663146.py\", line 27, in build_model\n",
      "    model.add(Conv1D(filters=filters, kernel_size=kernel_size, activation='relu', name=f\"extra_conv_{i}\"))\n",
      "  File \"C:\\Users\\emanu\\.virtualenvs\\DM2-HUE9YkAX\\Lib\\site-packages\\tensorflow\\python\\trackable\\base.py\", line 205, in _method_wrapper\n",
      "    result = method(self, *args, **kwargs)\n",
      "             ^^^^^^^^^^^^^^^^^^^^^^^^^^^^^\n",
      "  File \"C:\\Users\\emanu\\.virtualenvs\\DM2-HUE9YkAX\\Lib\\site-packages\\keras\\utils\\traceback_utils.py\", line 70, in error_handler\n",
      "    raise e.with_traceback(filtered_tb) from None\n",
      "  File \"C:\\Users\\emanu\\.virtualenvs\\DM2-HUE9YkAX\\Lib\\site-packages\\keras\\layers\\convolutional\\base_conv.py\", line 354, in compute_output_shape\n",
      "    raise ValueError(\n",
      "ValueError: One of the dimensions in the output is <= 0 due to downsampling in extra_conv_1. Consider increasing the input size. Received input shape [None, 7, 13] which would produce output shape with a zero or negative value in a dimension.\n",
      "[W 2023-06-28 12:13:19,615] Trial 106 failed with value None.\n",
      "[W 2023-06-28 12:13:19,763] Trial 107 failed with parameters: {'n_conv': 2, 'n_hidden': 2, 'hidden_nodes': 18, 'dropout': 0.13673274106469213, 'filters': 13, 'kernel_size': 11, 'batch_size': 16, 'epochs': 69} because of the following error: ValueError('One of the dimensions in the output is <= 0 due to downsampling in extra_conv_1. Consider increasing the input size. Received input shape [None, 7, 13] which would produce output shape with a zero or negative value in a dimension.').\n",
      "Traceback (most recent call last):\n",
      "  File \"C:\\Users\\emanu\\.virtualenvs\\DM2-HUE9YkAX\\Lib\\site-packages\\optuna\\study\\_optimize.py\", line 200, in _run_trial\n",
      "    value_or_values = func(trial)\n",
      "                      ^^^^^^^^^^^\n",
      "  File \"C:\\Users\\emanu\\AppData\\Local\\Temp\\ipykernel_33832\\1072382922.py\", line 34, in <lambda>\n",
      "    trial_function = lambda trial: objective_fun(trial,\n",
      "                                  ^^^^^^^^^^^^^^^^^^^^^\n",
      "  File \"C:\\Users\\emanu\\AppData\\Local\\Temp\\ipykernel_33832\\1072382922.py\", line 15, in objective_fun\n",
      "    cnn = build_model(  X.shape[1:], len(np.unique(y)),\n",
      "          ^^^^^^^^^^^^^^^^^^^^^^^^^^^^^^^^^^^^^^^^^^^^^\n",
      "  File \"C:\\Users\\emanu\\AppData\\Local\\Temp\\ipykernel_33832\\1937663146.py\", line 27, in build_model\n",
      "    model.add(Conv1D(filters=filters, kernel_size=kernel_size, activation='relu', name=f\"extra_conv_{i}\"))\n",
      "  File \"C:\\Users\\emanu\\.virtualenvs\\DM2-HUE9YkAX\\Lib\\site-packages\\tensorflow\\python\\trackable\\base.py\", line 205, in _method_wrapper\n",
      "    result = method(self, *args, **kwargs)\n",
      "             ^^^^^^^^^^^^^^^^^^^^^^^^^^^^^\n",
      "  File \"C:\\Users\\emanu\\.virtualenvs\\DM2-HUE9YkAX\\Lib\\site-packages\\keras\\utils\\traceback_utils.py\", line 70, in error_handler\n",
      "    raise e.with_traceback(filtered_tb) from None\n",
      "  File \"C:\\Users\\emanu\\.virtualenvs\\DM2-HUE9YkAX\\Lib\\site-packages\\keras\\layers\\convolutional\\base_conv.py\", line 354, in compute_output_shape\n",
      "    raise ValueError(\n",
      "ValueError: One of the dimensions in the output is <= 0 due to downsampling in extra_conv_1. Consider increasing the input size. Received input shape [None, 7, 13] which would produce output shape with a zero or negative value in a dimension.\n",
      "[W 2023-06-28 12:13:19,774] Trial 107 failed with value None.\n",
      "[W 2023-06-28 12:13:19,874] Trial 108 failed with parameters: {'n_conv': 2, 'n_hidden': 2, 'hidden_nodes': 47, 'dropout': 0.13810268728485592, 'filters': 14, 'kernel_size': 10, 'batch_size': 20, 'epochs': 25} because of the following error: ValueError('Exception encountered when calling layer \"extra_conv_1\" (type Conv1D).\\n\\nNegative dimension size caused by subtracting 10 from 9 for \\'{{node extra_conv_1/Conv1D}} = Conv2D[T=DT_FLOAT, data_format=\"NHWC\", dilations=[1, 1, 1, 1], explicit_paddings=[], padding=\"VALID\", strides=[1, 1, 1, 1], use_cudnn_on_gpu=true](extra_conv_1/Conv1D/ExpandDims, extra_conv_1/Conv1D/ExpandDims_1)\\' with input shapes: [?,1,9,14], [1,10,14,14].\\n\\nCall arguments received by layer \"extra_conv_1\" (type Conv1D):\\n  • inputs=tf.Tensor(shape=(None, 9, 14), dtype=float32)').\n",
      "Traceback (most recent call last):\n",
      "  File \"C:\\Users\\emanu\\.virtualenvs\\DM2-HUE9YkAX\\Lib\\site-packages\\optuna\\study\\_optimize.py\", line 200, in _run_trial\n",
      "    value_or_values = func(trial)\n",
      "                      ^^^^^^^^^^^\n",
      "  File \"C:\\Users\\emanu\\AppData\\Local\\Temp\\ipykernel_33832\\1072382922.py\", line 34, in <lambda>\n",
      "    trial_function = lambda trial: objective_fun(trial,\n",
      "                                  ^^^^^^^^^^^^^^^^^^^^^\n",
      "  File \"C:\\Users\\emanu\\AppData\\Local\\Temp\\ipykernel_33832\\1072382922.py\", line 15, in objective_fun\n",
      "    cnn = build_model(  X.shape[1:], len(np.unique(y)),\n",
      "          ^^^^^^^^^^^^^^^^^^^^^^^^^^^^^^^^^^^^^^^^^^^^^\n",
      "  File \"C:\\Users\\emanu\\AppData\\Local\\Temp\\ipykernel_33832\\1937663146.py\", line 27, in build_model\n",
      "    model.add(Conv1D(filters=filters, kernel_size=kernel_size, activation='relu', name=f\"extra_conv_{i}\"))\n",
      "  File \"C:\\Users\\emanu\\.virtualenvs\\DM2-HUE9YkAX\\Lib\\site-packages\\tensorflow\\python\\trackable\\base.py\", line 205, in _method_wrapper\n",
      "    result = method(self, *args, **kwargs)\n",
      "             ^^^^^^^^^^^^^^^^^^^^^^^^^^^^^\n",
      "  File \"C:\\Users\\emanu\\.virtualenvs\\DM2-HUE9YkAX\\Lib\\site-packages\\keras\\utils\\traceback_utils.py\", line 70, in error_handler\n",
      "    raise e.with_traceback(filtered_tb) from None\n",
      "  File \"C:\\Users\\emanu\\.virtualenvs\\DM2-HUE9YkAX\\Lib\\site-packages\\tensorflow\\python\\framework\\ops.py\", line 1973, in _create_c_op\n",
      "    raise ValueError(e.message)\n",
      "ValueError: Exception encountered when calling layer \"extra_conv_1\" (type Conv1D).\n",
      "\n",
      "Negative dimension size caused by subtracting 10 from 9 for '{{node extra_conv_1/Conv1D}} = Conv2D[T=DT_FLOAT, data_format=\"NHWC\", dilations=[1, 1, 1, 1], explicit_paddings=[], padding=\"VALID\", strides=[1, 1, 1, 1], use_cudnn_on_gpu=true](extra_conv_1/Conv1D/ExpandDims, extra_conv_1/Conv1D/ExpandDims_1)' with input shapes: [?,1,9,14], [1,10,14,14].\n",
      "\n",
      "Call arguments received by layer \"extra_conv_1\" (type Conv1D):\n",
      "  • inputs=tf.Tensor(shape=(None, 9, 14), dtype=float32)\n",
      "[W 2023-06-28 12:13:19,883] Trial 108 failed with value None.\n"
     ]
    },
    {
     "name": "stdout",
     "output_type": "stream",
     "text": [
      "Running little bitch having n_conv=2, dropout=0.14039914386084718, hidden_nodes=39\n",
      "Running little bitch having n_conv=2, dropout=0.13846853792258945, hidden_nodes=44\n",
      "Running little bitch having n_conv=2, dropout=0.12659361383220877, hidden_nodes=39\n"
     ]
    },
    {
     "name": "stderr",
     "output_type": "stream",
     "text": [
      "[W 2023-06-28 12:13:20,504] Trial 109 failed with parameters: {'n_conv': 2, 'n_hidden': 2, 'hidden_nodes': 39, 'dropout': 0.14039914386084718, 'filters': 13, 'kernel_size': 10, 'batch_size': 18, 'epochs': 66} because of the following error: ValueError('Exception encountered when calling layer \"extra_conv_1\" (type Conv1D).\\n\\nNegative dimension size caused by subtracting 10 from 9 for \\'{{node extra_conv_1/Conv1D}} = Conv2D[T=DT_FLOAT, data_format=\"NHWC\", dilations=[1, 1, 1, 1], explicit_paddings=[], padding=\"VALID\", strides=[1, 1, 1, 1], use_cudnn_on_gpu=true](extra_conv_1/Conv1D/ExpandDims, extra_conv_1/Conv1D/ExpandDims_1)\\' with input shapes: [?,1,9,13], [1,10,13,13].\\n\\nCall arguments received by layer \"extra_conv_1\" (type Conv1D):\\n  • inputs=tf.Tensor(shape=(None, 9, 13), dtype=float32)').\n",
      "Traceback (most recent call last):\n",
      "  File \"C:\\Users\\emanu\\.virtualenvs\\DM2-HUE9YkAX\\Lib\\site-packages\\optuna\\study\\_optimize.py\", line 200, in _run_trial\n",
      "    value_or_values = func(trial)\n",
      "                      ^^^^^^^^^^^\n",
      "  File \"C:\\Users\\emanu\\AppData\\Local\\Temp\\ipykernel_33832\\1072382922.py\", line 34, in <lambda>\n",
      "    trial_function = lambda trial: objective_fun(trial,\n",
      "                                  ^^^^^^^^^^^^^^^^^^^^^\n",
      "  File \"C:\\Users\\emanu\\AppData\\Local\\Temp\\ipykernel_33832\\1072382922.py\", line 15, in objective_fun\n",
      "    cnn = build_model(  X.shape[1:], len(np.unique(y)),\n",
      "          ^^^^^^^^^^^^^^^^^^^^^^^^^^^^^^^^^^^^^^^^^^^^^\n",
      "  File \"C:\\Users\\emanu\\AppData\\Local\\Temp\\ipykernel_33832\\1937663146.py\", line 27, in build_model\n",
      "    model.add(Conv1D(filters=filters, kernel_size=kernel_size, activation='relu', name=f\"extra_conv_{i}\"))\n",
      "  File \"C:\\Users\\emanu\\.virtualenvs\\DM2-HUE9YkAX\\Lib\\site-packages\\tensorflow\\python\\trackable\\base.py\", line 205, in _method_wrapper\n",
      "    result = method(self, *args, **kwargs)\n",
      "             ^^^^^^^^^^^^^^^^^^^^^^^^^^^^^\n",
      "  File \"C:\\Users\\emanu\\.virtualenvs\\DM2-HUE9YkAX\\Lib\\site-packages\\keras\\utils\\traceback_utils.py\", line 70, in error_handler\n",
      "    raise e.with_traceback(filtered_tb) from None\n",
      "  File \"C:\\Users\\emanu\\.virtualenvs\\DM2-HUE9YkAX\\Lib\\site-packages\\tensorflow\\python\\framework\\ops.py\", line 1973, in _create_c_op\n",
      "    raise ValueError(e.message)\n",
      "ValueError: Exception encountered when calling layer \"extra_conv_1\" (type Conv1D).\n",
      "\n",
      "Negative dimension size caused by subtracting 10 from 9 for '{{node extra_conv_1/Conv1D}} = Conv2D[T=DT_FLOAT, data_format=\"NHWC\", dilations=[1, 1, 1, 1], explicit_paddings=[], padding=\"VALID\", strides=[1, 1, 1, 1], use_cudnn_on_gpu=true](extra_conv_1/Conv1D/ExpandDims, extra_conv_1/Conv1D/ExpandDims_1)' with input shapes: [?,1,9,13], [1,10,13,13].\n",
      "\n",
      "Call arguments received by layer \"extra_conv_1\" (type Conv1D):\n",
      "  • inputs=tf.Tensor(shape=(None, 9, 13), dtype=float32)\n",
      "[W 2023-06-28 12:13:20,524] Trial 109 failed with value None.\n",
      "[W 2023-06-28 12:13:20,644] Trial 110 failed with parameters: {'n_conv': 2, 'n_hidden': 2, 'hidden_nodes': 44, 'dropout': 0.13846853792258945, 'filters': 13, 'kernel_size': 10, 'batch_size': 17, 'epochs': 62} because of the following error: ValueError('Exception encountered when calling layer \"extra_conv_1\" (type Conv1D).\\n\\nNegative dimension size caused by subtracting 10 from 9 for \\'{{node extra_conv_1/Conv1D}} = Conv2D[T=DT_FLOAT, data_format=\"NHWC\", dilations=[1, 1, 1, 1], explicit_paddings=[], padding=\"VALID\", strides=[1, 1, 1, 1], use_cudnn_on_gpu=true](extra_conv_1/Conv1D/ExpandDims, extra_conv_1/Conv1D/ExpandDims_1)\\' with input shapes: [?,1,9,13], [1,10,13,13].\\n\\nCall arguments received by layer \"extra_conv_1\" (type Conv1D):\\n  • inputs=tf.Tensor(shape=(None, 9, 13), dtype=float32)').\n",
      "Traceback (most recent call last):\n",
      "  File \"C:\\Users\\emanu\\.virtualenvs\\DM2-HUE9YkAX\\Lib\\site-packages\\optuna\\study\\_optimize.py\", line 200, in _run_trial\n",
      "    value_or_values = func(trial)\n",
      "                      ^^^^^^^^^^^\n",
      "  File \"C:\\Users\\emanu\\AppData\\Local\\Temp\\ipykernel_33832\\1072382922.py\", line 34, in <lambda>\n",
      "    trial_function = lambda trial: objective_fun(trial,\n",
      "                                  ^^^^^^^^^^^^^^^^^^^^^\n",
      "  File \"C:\\Users\\emanu\\AppData\\Local\\Temp\\ipykernel_33832\\1072382922.py\", line 15, in objective_fun\n",
      "    cnn = build_model(  X.shape[1:], len(np.unique(y)),\n",
      "          ^^^^^^^^^^^^^^^^^^^^^^^^^^^^^^^^^^^^^^^^^^^^^\n",
      "  File \"C:\\Users\\emanu\\AppData\\Local\\Temp\\ipykernel_33832\\1937663146.py\", line 27, in build_model\n",
      "    model.add(Conv1D(filters=filters, kernel_size=kernel_size, activation='relu', name=f\"extra_conv_{i}\"))\n",
      "  File \"C:\\Users\\emanu\\.virtualenvs\\DM2-HUE9YkAX\\Lib\\site-packages\\tensorflow\\python\\trackable\\base.py\", line 205, in _method_wrapper\n",
      "    result = method(self, *args, **kwargs)\n",
      "             ^^^^^^^^^^^^^^^^^^^^^^^^^^^^^\n",
      "  File \"C:\\Users\\emanu\\.virtualenvs\\DM2-HUE9YkAX\\Lib\\site-packages\\keras\\utils\\traceback_utils.py\", line 70, in error_handler\n",
      "    raise e.with_traceback(filtered_tb) from None\n",
      "  File \"C:\\Users\\emanu\\.virtualenvs\\DM2-HUE9YkAX\\Lib\\site-packages\\tensorflow\\python\\framework\\ops.py\", line 1973, in _create_c_op\n",
      "    raise ValueError(e.message)\n",
      "ValueError: Exception encountered when calling layer \"extra_conv_1\" (type Conv1D).\n",
      "\n",
      "Negative dimension size caused by subtracting 10 from 9 for '{{node extra_conv_1/Conv1D}} = Conv2D[T=DT_FLOAT, data_format=\"NHWC\", dilations=[1, 1, 1, 1], explicit_paddings=[], padding=\"VALID\", strides=[1, 1, 1, 1], use_cudnn_on_gpu=true](extra_conv_1/Conv1D/ExpandDims, extra_conv_1/Conv1D/ExpandDims_1)' with input shapes: [?,1,9,13], [1,10,13,13].\n",
      "\n",
      "Call arguments received by layer \"extra_conv_1\" (type Conv1D):\n",
      "  • inputs=tf.Tensor(shape=(None, 9, 13), dtype=float32)\n",
      "[W 2023-06-28 12:13:20,673] Trial 110 failed with value None.\n",
      "[W 2023-06-28 12:13:20,793] Trial 111 failed with parameters: {'n_conv': 2, 'n_hidden': 2, 'hidden_nodes': 39, 'dropout': 0.12659361383220877, 'filters': 14, 'kernel_size': 11, 'batch_size': 21, 'epochs': 67} because of the following error: ValueError('One of the dimensions in the output is <= 0 due to downsampling in extra_conv_1. Consider increasing the input size. Received input shape [None, 7, 14] which would produce output shape with a zero or negative value in a dimension.').\n",
      "Traceback (most recent call last):\n",
      "  File \"C:\\Users\\emanu\\.virtualenvs\\DM2-HUE9YkAX\\Lib\\site-packages\\optuna\\study\\_optimize.py\", line 200, in _run_trial\n",
      "    value_or_values = func(trial)\n",
      "                      ^^^^^^^^^^^\n",
      "  File \"C:\\Users\\emanu\\AppData\\Local\\Temp\\ipykernel_33832\\1072382922.py\", line 34, in <lambda>\n",
      "    trial_function = lambda trial: objective_fun(trial,\n",
      "                                  ^^^^^^^^^^^^^^^^^^^^^\n",
      "  File \"C:\\Users\\emanu\\AppData\\Local\\Temp\\ipykernel_33832\\1072382922.py\", line 15, in objective_fun\n",
      "    cnn = build_model(  X.shape[1:], len(np.unique(y)),\n",
      "          ^^^^^^^^^^^^^^^^^^^^^^^^^^^^^^^^^^^^^^^^^^^^^\n",
      "  File \"C:\\Users\\emanu\\AppData\\Local\\Temp\\ipykernel_33832\\1937663146.py\", line 27, in build_model\n",
      "    model.add(Conv1D(filters=filters, kernel_size=kernel_size, activation='relu', name=f\"extra_conv_{i}\"))\n",
      "  File \"C:\\Users\\emanu\\.virtualenvs\\DM2-HUE9YkAX\\Lib\\site-packages\\tensorflow\\python\\trackable\\base.py\", line 205, in _method_wrapper\n",
      "    result = method(self, *args, **kwargs)\n",
      "             ^^^^^^^^^^^^^^^^^^^^^^^^^^^^^\n",
      "  File \"C:\\Users\\emanu\\.virtualenvs\\DM2-HUE9YkAX\\Lib\\site-packages\\keras\\utils\\traceback_utils.py\", line 70, in error_handler\n",
      "    raise e.with_traceback(filtered_tb) from None\n",
      "  File \"C:\\Users\\emanu\\.virtualenvs\\DM2-HUE9YkAX\\Lib\\site-packages\\keras\\layers\\convolutional\\base_conv.py\", line 354, in compute_output_shape\n",
      "    raise ValueError(\n",
      "ValueError: One of the dimensions in the output is <= 0 due to downsampling in extra_conv_1. Consider increasing the input size. Received input shape [None, 7, 14] which would produce output shape with a zero or negative value in a dimension.\n",
      "[W 2023-06-28 12:13:20,804] Trial 111 failed with value None.\n"
     ]
    },
    {
     "name": "stdout",
     "output_type": "stream",
     "text": [
      "Running little bitch having n_conv=2, dropout=0.13576153108948727, hidden_nodes=32\n",
      "Running little bitch having n_conv=2, dropout=0.14140132540250655, hidden_nodes=41\n",
      "Running little bitch having n_conv=2, dropout=0.12772603817387937, hidden_nodes=48\n"
     ]
    },
    {
     "name": "stderr",
     "output_type": "stream",
     "text": [
      "[W 2023-06-28 12:13:21,131] Trial 112 failed with parameters: {'n_conv': 2, 'n_hidden': 2, 'hidden_nodes': 32, 'dropout': 0.13576153108948727, 'filters': 13, 'kernel_size': 10, 'batch_size': 22, 'epochs': 69} because of the following error: ValueError('Exception encountered when calling layer \"extra_conv_1\" (type Conv1D).\\n\\nNegative dimension size caused by subtracting 10 from 9 for \\'{{node extra_conv_1/Conv1D}} = Conv2D[T=DT_FLOAT, data_format=\"NHWC\", dilations=[1, 1, 1, 1], explicit_paddings=[], padding=\"VALID\", strides=[1, 1, 1, 1], use_cudnn_on_gpu=true](extra_conv_1/Conv1D/ExpandDims, extra_conv_1/Conv1D/ExpandDims_1)\\' with input shapes: [?,1,9,13], [1,10,13,13].\\n\\nCall arguments received by layer \"extra_conv_1\" (type Conv1D):\\n  • inputs=tf.Tensor(shape=(None, 9, 13), dtype=float32)').\n",
      "Traceback (most recent call last):\n",
      "  File \"C:\\Users\\emanu\\.virtualenvs\\DM2-HUE9YkAX\\Lib\\site-packages\\optuna\\study\\_optimize.py\", line 200, in _run_trial\n",
      "    value_or_values = func(trial)\n",
      "                      ^^^^^^^^^^^\n",
      "  File \"C:\\Users\\emanu\\AppData\\Local\\Temp\\ipykernel_33832\\1072382922.py\", line 34, in <lambda>\n",
      "    trial_function = lambda trial: objective_fun(trial,\n",
      "                                  ^^^^^^^^^^^^^^^^^^^^^\n",
      "  File \"C:\\Users\\emanu\\AppData\\Local\\Temp\\ipykernel_33832\\1072382922.py\", line 15, in objective_fun\n",
      "    cnn = build_model(  X.shape[1:], len(np.unique(y)),\n",
      "          ^^^^^^^^^^^^^^^^^^^^^^^^^^^^^^^^^^^^^^^^^^^^^\n",
      "  File \"C:\\Users\\emanu\\AppData\\Local\\Temp\\ipykernel_33832\\1937663146.py\", line 27, in build_model\n",
      "    model.add(Conv1D(filters=filters, kernel_size=kernel_size, activation='relu', name=f\"extra_conv_{i}\"))\n",
      "  File \"C:\\Users\\emanu\\.virtualenvs\\DM2-HUE9YkAX\\Lib\\site-packages\\tensorflow\\python\\trackable\\base.py\", line 205, in _method_wrapper\n",
      "    result = method(self, *args, **kwargs)\n",
      "             ^^^^^^^^^^^^^^^^^^^^^^^^^^^^^\n",
      "  File \"C:\\Users\\emanu\\.virtualenvs\\DM2-HUE9YkAX\\Lib\\site-packages\\keras\\utils\\traceback_utils.py\", line 70, in error_handler\n",
      "    raise e.with_traceback(filtered_tb) from None\n",
      "  File \"C:\\Users\\emanu\\.virtualenvs\\DM2-HUE9YkAX\\Lib\\site-packages\\tensorflow\\python\\framework\\ops.py\", line 1973, in _create_c_op\n",
      "    raise ValueError(e.message)\n",
      "ValueError: Exception encountered when calling layer \"extra_conv_1\" (type Conv1D).\n",
      "\n",
      "Negative dimension size caused by subtracting 10 from 9 for '{{node extra_conv_1/Conv1D}} = Conv2D[T=DT_FLOAT, data_format=\"NHWC\", dilations=[1, 1, 1, 1], explicit_paddings=[], padding=\"VALID\", strides=[1, 1, 1, 1], use_cudnn_on_gpu=true](extra_conv_1/Conv1D/ExpandDims, extra_conv_1/Conv1D/ExpandDims_1)' with input shapes: [?,1,9,13], [1,10,13,13].\n",
      "\n",
      "Call arguments received by layer \"extra_conv_1\" (type Conv1D):\n",
      "  • inputs=tf.Tensor(shape=(None, 9, 13), dtype=float32)\n",
      "[W 2023-06-28 12:13:21,152] Trial 112 failed with value None.\n",
      "[W 2023-06-28 12:13:21,153] Trial 113 failed with parameters: {'n_conv': 2, 'n_hidden': 2, 'hidden_nodes': 41, 'dropout': 0.14140132540250655, 'filters': 13, 'kernel_size': 11, 'batch_size': 20, 'epochs': 64} because of the following error: ValueError('One of the dimensions in the output is <= 0 due to downsampling in extra_conv_1. Consider increasing the input size. Received input shape [None, 7, 13] which would produce output shape with a zero or negative value in a dimension.').\n",
      "Traceback (most recent call last):\n",
      "  File \"C:\\Users\\emanu\\.virtualenvs\\DM2-HUE9YkAX\\Lib\\site-packages\\optuna\\study\\_optimize.py\", line 200, in _run_trial\n",
      "    value_or_values = func(trial)\n",
      "                      ^^^^^^^^^^^\n",
      "  File \"C:\\Users\\emanu\\AppData\\Local\\Temp\\ipykernel_33832\\1072382922.py\", line 34, in <lambda>\n",
      "    trial_function = lambda trial: objective_fun(trial,\n",
      "                                  ^^^^^^^^^^^^^^^^^^^^^\n",
      "  File \"C:\\Users\\emanu\\AppData\\Local\\Temp\\ipykernel_33832\\1072382922.py\", line 15, in objective_fun\n",
      "    cnn = build_model(  X.shape[1:], len(np.unique(y)),\n",
      "          ^^^^^^^^^^^^^^^^^^^^^^^^^^^^^^^^^^^^^^^^^^^^^\n",
      "  File \"C:\\Users\\emanu\\AppData\\Local\\Temp\\ipykernel_33832\\1937663146.py\", line 27, in build_model\n",
      "    model.add(Conv1D(filters=filters, kernel_size=kernel_size, activation='relu', name=f\"extra_conv_{i}\"))\n",
      "  File \"C:\\Users\\emanu\\.virtualenvs\\DM2-HUE9YkAX\\Lib\\site-packages\\tensorflow\\python\\trackable\\base.py\", line 205, in _method_wrapper\n",
      "    result = method(self, *args, **kwargs)\n",
      "             ^^^^^^^^^^^^^^^^^^^^^^^^^^^^^\n",
      "  File \"C:\\Users\\emanu\\.virtualenvs\\DM2-HUE9YkAX\\Lib\\site-packages\\keras\\utils\\traceback_utils.py\", line 70, in error_handler\n",
      "    raise e.with_traceback(filtered_tb) from None\n",
      "  File \"C:\\Users\\emanu\\.virtualenvs\\DM2-HUE9YkAX\\Lib\\site-packages\\keras\\layers\\convolutional\\base_conv.py\", line 354, in compute_output_shape\n",
      "    raise ValueError(\n",
      "ValueError: One of the dimensions in the output is <= 0 due to downsampling in extra_conv_1. Consider increasing the input size. Received input shape [None, 7, 13] which would produce output shape with a zero or negative value in a dimension.\n",
      "[W 2023-06-28 12:13:21,213] Trial 113 failed with value None.\n",
      "[W 2023-06-28 12:13:21,262] Trial 114 failed with parameters: {'n_conv': 2, 'n_hidden': 2, 'hidden_nodes': 48, 'dropout': 0.12772603817387937, 'filters': 13, 'kernel_size': 11, 'batch_size': 16, 'epochs': 67} because of the following error: ValueError('One of the dimensions in the output is <= 0 due to downsampling in extra_conv_1. Consider increasing the input size. Received input shape [None, 7, 13] which would produce output shape with a zero or negative value in a dimension.').\n",
      "Traceback (most recent call last):\n",
      "  File \"C:\\Users\\emanu\\.virtualenvs\\DM2-HUE9YkAX\\Lib\\site-packages\\optuna\\study\\_optimize.py\", line 200, in _run_trial\n",
      "    value_or_values = func(trial)\n",
      "                      ^^^^^^^^^^^\n",
      "  File \"C:\\Users\\emanu\\AppData\\Local\\Temp\\ipykernel_33832\\1072382922.py\", line 34, in <lambda>\n",
      "    trial_function = lambda trial: objective_fun(trial,\n",
      "                                  ^^^^^^^^^^^^^^^^^^^^^\n",
      "  File \"C:\\Users\\emanu\\AppData\\Local\\Temp\\ipykernel_33832\\1072382922.py\", line 15, in objective_fun\n",
      "    cnn = build_model(  X.shape[1:], len(np.unique(y)),\n",
      "          ^^^^^^^^^^^^^^^^^^^^^^^^^^^^^^^^^^^^^^^^^^^^^\n",
      "  File \"C:\\Users\\emanu\\AppData\\Local\\Temp\\ipykernel_33832\\1937663146.py\", line 27, in build_model\n",
      "    model.add(Conv1D(filters=filters, kernel_size=kernel_size, activation='relu', name=f\"extra_conv_{i}\"))\n",
      "  File \"C:\\Users\\emanu\\.virtualenvs\\DM2-HUE9YkAX\\Lib\\site-packages\\tensorflow\\python\\trackable\\base.py\", line 205, in _method_wrapper\n",
      "    result = method(self, *args, **kwargs)\n",
      "             ^^^^^^^^^^^^^^^^^^^^^^^^^^^^^\n",
      "  File \"C:\\Users\\emanu\\.virtualenvs\\DM2-HUE9YkAX\\Lib\\site-packages\\keras\\utils\\traceback_utils.py\", line 70, in error_handler\n",
      "    raise e.with_traceback(filtered_tb) from None\n",
      "  File \"C:\\Users\\emanu\\.virtualenvs\\DM2-HUE9YkAX\\Lib\\site-packages\\keras\\layers\\convolutional\\base_conv.py\", line 354, in compute_output_shape\n",
      "    raise ValueError(\n",
      "ValueError: One of the dimensions in the output is <= 0 due to downsampling in extra_conv_1. Consider increasing the input size. Received input shape [None, 7, 13] which would produce output shape with a zero or negative value in a dimension.\n",
      "[W 2023-06-28 12:13:21,282] Trial 114 failed with value None.\n"
     ]
    },
    {
     "name": "stdout",
     "output_type": "stream",
     "text": [
      "Running little bitch having n_conv=2, dropout=0.13615324739002094, hidden_nodes=39\n",
      "Running little bitch having n_conv=2, dropout=0.13145839465038361, hidden_nodes=42\n",
      "Running little bitch having n_conv=2, dropout=0.13711727067039442, hidden_nodes=45\n"
     ]
    },
    {
     "name": "stderr",
     "output_type": "stream",
     "text": [
      "[W 2023-06-28 12:13:21,674] Trial 115 failed with parameters: {'n_conv': 2, 'n_hidden': 2, 'hidden_nodes': 39, 'dropout': 0.13615324739002094, 'filters': 13, 'kernel_size': 10, 'batch_size': 17, 'epochs': 65} because of the following error: ValueError('Exception encountered when calling layer \"extra_conv_1\" (type Conv1D).\\n\\nNegative dimension size caused by subtracting 10 from 9 for \\'{{node extra_conv_1/Conv1D}} = Conv2D[T=DT_FLOAT, data_format=\"NHWC\", dilations=[1, 1, 1, 1], explicit_paddings=[], padding=\"VALID\", strides=[1, 1, 1, 1], use_cudnn_on_gpu=true](extra_conv_1/Conv1D/ExpandDims, extra_conv_1/Conv1D/ExpandDims_1)\\' with input shapes: [?,1,9,13], [1,10,13,13].\\n\\nCall arguments received by layer \"extra_conv_1\" (type Conv1D):\\n  • inputs=tf.Tensor(shape=(None, 9, 13), dtype=float32)').\n",
      "Traceback (most recent call last):\n",
      "  File \"C:\\Users\\emanu\\.virtualenvs\\DM2-HUE9YkAX\\Lib\\site-packages\\optuna\\study\\_optimize.py\", line 200, in _run_trial\n",
      "    value_or_values = func(trial)\n",
      "                      ^^^^^^^^^^^\n",
      "  File \"C:\\Users\\emanu\\AppData\\Local\\Temp\\ipykernel_33832\\1072382922.py\", line 34, in <lambda>\n",
      "    trial_function = lambda trial: objective_fun(trial,\n",
      "                                  ^^^^^^^^^^^^^^^^^^^^^\n",
      "  File \"C:\\Users\\emanu\\AppData\\Local\\Temp\\ipykernel_33832\\1072382922.py\", line 15, in objective_fun\n",
      "    cnn = build_model(  X.shape[1:], len(np.unique(y)),\n",
      "          ^^^^^^^^^^^^^^^^^^^^^^^^^^^^^^^^^^^^^^^^^^^^^\n",
      "  File \"C:\\Users\\emanu\\AppData\\Local\\Temp\\ipykernel_33832\\1937663146.py\", line 27, in build_model\n",
      "    model.add(Conv1D(filters=filters, kernel_size=kernel_size, activation='relu', name=f\"extra_conv_{i}\"))\n",
      "  File \"C:\\Users\\emanu\\.virtualenvs\\DM2-HUE9YkAX\\Lib\\site-packages\\tensorflow\\python\\trackable\\base.py\", line 205, in _method_wrapper\n",
      "    result = method(self, *args, **kwargs)\n",
      "             ^^^^^^^^^^^^^^^^^^^^^^^^^^^^^\n",
      "  File \"C:\\Users\\emanu\\.virtualenvs\\DM2-HUE9YkAX\\Lib\\site-packages\\keras\\utils\\traceback_utils.py\", line 70, in error_handler\n",
      "    raise e.with_traceback(filtered_tb) from None\n",
      "  File \"C:\\Users\\emanu\\.virtualenvs\\DM2-HUE9YkAX\\Lib\\site-packages\\tensorflow\\python\\framework\\ops.py\", line 1973, in _create_c_op\n",
      "    raise ValueError(e.message)\n",
      "ValueError: Exception encountered when calling layer \"extra_conv_1\" (type Conv1D).\n",
      "\n",
      "Negative dimension size caused by subtracting 10 from 9 for '{{node extra_conv_1/Conv1D}} = Conv2D[T=DT_FLOAT, data_format=\"NHWC\", dilations=[1, 1, 1, 1], explicit_paddings=[], padding=\"VALID\", strides=[1, 1, 1, 1], use_cudnn_on_gpu=true](extra_conv_1/Conv1D/ExpandDims, extra_conv_1/Conv1D/ExpandDims_1)' with input shapes: [?,1,9,13], [1,10,13,13].\n",
      "\n",
      "Call arguments received by layer \"extra_conv_1\" (type Conv1D):\n",
      "  • inputs=tf.Tensor(shape=(None, 9, 13), dtype=float32)\n",
      "[W 2023-06-28 12:13:21,694] Trial 115 failed with value None.\n",
      "[W 2023-06-28 12:13:21,714] Trial 117 failed with parameters: {'n_conv': 2, 'n_hidden': 2, 'hidden_nodes': 45, 'dropout': 0.13711727067039442, 'filters': 13, 'kernel_size': 10, 'batch_size': 22, 'epochs': 90} because of the following error: ValueError('Exception encountered when calling layer \"extra_conv_1\" (type Conv1D).\\n\\nNegative dimension size caused by subtracting 10 from 9 for \\'{{node extra_conv_1/Conv1D}} = Conv2D[T=DT_FLOAT, data_format=\"NHWC\", dilations=[1, 1, 1, 1], explicit_paddings=[], padding=\"VALID\", strides=[1, 1, 1, 1], use_cudnn_on_gpu=true](extra_conv_1/Conv1D/ExpandDims, extra_conv_1/Conv1D/ExpandDims_1)\\' with input shapes: [?,1,9,13], [1,10,13,13].\\n\\nCall arguments received by layer \"extra_conv_1\" (type Conv1D):\\n  • inputs=tf.Tensor(shape=(None, 9, 13), dtype=float32)').\n",
      "Traceback (most recent call last):\n",
      "  File \"C:\\Users\\emanu\\.virtualenvs\\DM2-HUE9YkAX\\Lib\\site-packages\\optuna\\study\\_optimize.py\", line 200, in _run_trial\n",
      "    value_or_values = func(trial)\n",
      "                      ^^^^^^^^^^^\n",
      "  File \"C:\\Users\\emanu\\AppData\\Local\\Temp\\ipykernel_33832\\1072382922.py\", line 34, in <lambda>\n",
      "    trial_function = lambda trial: objective_fun(trial,\n",
      "                                  ^^^^^^^^^^^^^^^^^^^^^\n",
      "  File \"C:\\Users\\emanu\\AppData\\Local\\Temp\\ipykernel_33832\\1072382922.py\", line 15, in objective_fun\n",
      "    cnn = build_model(  X.shape[1:], len(np.unique(y)),\n",
      "          ^^^^^^^^^^^^^^^^^^^^^^^^^^^^^^^^^^^^^^^^^^^^^\n",
      "  File \"C:\\Users\\emanu\\AppData\\Local\\Temp\\ipykernel_33832\\1937663146.py\", line 27, in build_model\n",
      "    model.add(Conv1D(filters=filters, kernel_size=kernel_size, activation='relu', name=f\"extra_conv_{i}\"))\n",
      "  File \"C:\\Users\\emanu\\.virtualenvs\\DM2-HUE9YkAX\\Lib\\site-packages\\tensorflow\\python\\trackable\\base.py\", line 205, in _method_wrapper\n",
      "    result = method(self, *args, **kwargs)\n",
      "             ^^^^^^^^^^^^^^^^^^^^^^^^^^^^^\n",
      "  File \"C:\\Users\\emanu\\.virtualenvs\\DM2-HUE9YkAX\\Lib\\site-packages\\keras\\utils\\traceback_utils.py\", line 70, in error_handler\n",
      "    raise e.with_traceback(filtered_tb) from None\n",
      "  File \"C:\\Users\\emanu\\.virtualenvs\\DM2-HUE9YkAX\\Lib\\site-packages\\tensorflow\\python\\framework\\ops.py\", line 1973, in _create_c_op\n",
      "    raise ValueError(e.message)\n",
      "ValueError: Exception encountered when calling layer \"extra_conv_1\" (type Conv1D).\n",
      "\n",
      "Negative dimension size caused by subtracting 10 from 9 for '{{node extra_conv_1/Conv1D}} = Conv2D[T=DT_FLOAT, data_format=\"NHWC\", dilations=[1, 1, 1, 1], explicit_paddings=[], padding=\"VALID\", strides=[1, 1, 1, 1], use_cudnn_on_gpu=true](extra_conv_1/Conv1D/ExpandDims, extra_conv_1/Conv1D/ExpandDims_1)' with input shapes: [?,1,9,13], [1,10,13,13].\n",
      "\n",
      "Call arguments received by layer \"extra_conv_1\" (type Conv1D):\n",
      "  • inputs=tf.Tensor(shape=(None, 9, 13), dtype=float32)\n",
      "[W 2023-06-28 12:13:21,755] Trial 117 failed with value None.\n",
      "[W 2023-06-28 12:13:21,854] Trial 116 failed with parameters: {'n_conv': 2, 'n_hidden': 2, 'hidden_nodes': 42, 'dropout': 0.13145839465038361, 'filters': 13, 'kernel_size': 10, 'batch_size': 18, 'epochs': 66} because of the following error: ValueError('Exception encountered when calling layer \"extra_conv_1\" (type Conv1D).\\n\\nNegative dimension size caused by subtracting 10 from 9 for \\'{{node extra_conv_1/Conv1D}} = Conv2D[T=DT_FLOAT, data_format=\"NHWC\", dilations=[1, 1, 1, 1], explicit_paddings=[], padding=\"VALID\", strides=[1, 1, 1, 1], use_cudnn_on_gpu=true](extra_conv_1/Conv1D/ExpandDims, extra_conv_1/Conv1D/ExpandDims_1)\\' with input shapes: [?,1,9,13], [1,10,13,13].\\n\\nCall arguments received by layer \"extra_conv_1\" (type Conv1D):\\n  • inputs=tf.Tensor(shape=(None, 9, 13), dtype=float32)').\n",
      "Traceback (most recent call last):\n",
      "  File \"C:\\Users\\emanu\\.virtualenvs\\DM2-HUE9YkAX\\Lib\\site-packages\\optuna\\study\\_optimize.py\", line 200, in _run_trial\n",
      "    value_or_values = func(trial)\n",
      "                      ^^^^^^^^^^^\n",
      "  File \"C:\\Users\\emanu\\AppData\\Local\\Temp\\ipykernel_33832\\1072382922.py\", line 34, in <lambda>\n",
      "    trial_function = lambda trial: objective_fun(trial,\n",
      "                                  ^^^^^^^^^^^^^^^^^^^^^\n",
      "  File \"C:\\Users\\emanu\\AppData\\Local\\Temp\\ipykernel_33832\\1072382922.py\", line 15, in objective_fun\n",
      "    cnn = build_model(  X.shape[1:], len(np.unique(y)),\n",
      "          ^^^^^^^^^^^^^^^^^^^^^^^^^^^^^^^^^^^^^^^^^^^^^\n",
      "  File \"C:\\Users\\emanu\\AppData\\Local\\Temp\\ipykernel_33832\\1937663146.py\", line 27, in build_model\n",
      "    model.add(Conv1D(filters=filters, kernel_size=kernel_size, activation='relu', name=f\"extra_conv_{i}\"))\n",
      "  File \"C:\\Users\\emanu\\.virtualenvs\\DM2-HUE9YkAX\\Lib\\site-packages\\tensorflow\\python\\trackable\\base.py\", line 205, in _method_wrapper\n",
      "    result = method(self, *args, **kwargs)\n",
      "             ^^^^^^^^^^^^^^^^^^^^^^^^^^^^^\n",
      "  File \"C:\\Users\\emanu\\.virtualenvs\\DM2-HUE9YkAX\\Lib\\site-packages\\keras\\utils\\traceback_utils.py\", line 70, in error_handler\n",
      "    raise e.with_traceback(filtered_tb) from None\n",
      "  File \"C:\\Users\\emanu\\.virtualenvs\\DM2-HUE9YkAX\\Lib\\site-packages\\tensorflow\\python\\framework\\ops.py\", line 1973, in _create_c_op\n",
      "    raise ValueError(e.message)\n",
      "ValueError: Exception encountered when calling layer \"extra_conv_1\" (type Conv1D).\n",
      "\n",
      "Negative dimension size caused by subtracting 10 from 9 for '{{node extra_conv_1/Conv1D}} = Conv2D[T=DT_FLOAT, data_format=\"NHWC\", dilations=[1, 1, 1, 1], explicit_paddings=[], padding=\"VALID\", strides=[1, 1, 1, 1], use_cudnn_on_gpu=true](extra_conv_1/Conv1D/ExpandDims, extra_conv_1/Conv1D/ExpandDims_1)' with input shapes: [?,1,9,13], [1,10,13,13].\n",
      "\n",
      "Call arguments received by layer \"extra_conv_1\" (type Conv1D):\n",
      "  • inputs=tf.Tensor(shape=(None, 9, 13), dtype=float32)\n"
     ]
    },
    {
     "name": "stderr",
     "output_type": "stream",
     "text": [
      "[W 2023-06-28 12:13:21,881] Trial 116 failed with value None.\n"
     ]
    },
    {
     "name": "stdout",
     "output_type": "stream",
     "text": [
      "Running little bitch having n_conv=2, dropout=0.13964763451425485, hidden_nodes=45\n",
      "Running little bitch having n_conv=2, dropout=0.13530153762258873, hidden_nodes=43\n",
      "Running little bitch having n_conv=2, dropout=0.14255632553741523, hidden_nodes=48\n"
     ]
    },
    {
     "name": "stderr",
     "output_type": "stream",
     "text": [
      "[W 2023-06-28 12:13:22,312] Trial 118 failed with parameters: {'n_conv': 2, 'n_hidden': 2, 'hidden_nodes': 45, 'dropout': 0.13964763451425485, 'filters': 13, 'kernel_size': 10, 'batch_size': 16, 'epochs': 64} because of the following error: ValueError('Exception encountered when calling layer \"extra_conv_1\" (type Conv1D).\\n\\nNegative dimension size caused by subtracting 10 from 9 for \\'{{node extra_conv_1/Conv1D}} = Conv2D[T=DT_FLOAT, data_format=\"NHWC\", dilations=[1, 1, 1, 1], explicit_paddings=[], padding=\"VALID\", strides=[1, 1, 1, 1], use_cudnn_on_gpu=true](extra_conv_1/Conv1D/ExpandDims, extra_conv_1/Conv1D/ExpandDims_1)\\' with input shapes: [?,1,9,13], [1,10,13,13].\\n\\nCall arguments received by layer \"extra_conv_1\" (type Conv1D):\\n  • inputs=tf.Tensor(shape=(None, 9, 13), dtype=float32)').\n",
      "Traceback (most recent call last):\n",
      "  File \"C:\\Users\\emanu\\.virtualenvs\\DM2-HUE9YkAX\\Lib\\site-packages\\optuna\\study\\_optimize.py\", line 200, in _run_trial\n",
      "    value_or_values = func(trial)\n",
      "                      ^^^^^^^^^^^\n",
      "  File \"C:\\Users\\emanu\\AppData\\Local\\Temp\\ipykernel_33832\\1072382922.py\", line 34, in <lambda>\n",
      "    trial_function = lambda trial: objective_fun(trial,\n",
      "                                  ^^^^^^^^^^^^^^^^^^^^^\n",
      "  File \"C:\\Users\\emanu\\AppData\\Local\\Temp\\ipykernel_33832\\1072382922.py\", line 15, in objective_fun\n",
      "    cnn = build_model(  X.shape[1:], len(np.unique(y)),\n",
      "          ^^^^^^^^^^^^^^^^^^^^^^^^^^^^^^^^^^^^^^^^^^^^^\n",
      "  File \"C:\\Users\\emanu\\AppData\\Local\\Temp\\ipykernel_33832\\1937663146.py\", line 27, in build_model\n",
      "    model.add(Conv1D(filters=filters, kernel_size=kernel_size, activation='relu', name=f\"extra_conv_{i}\"))\n",
      "  File \"C:\\Users\\emanu\\.virtualenvs\\DM2-HUE9YkAX\\Lib\\site-packages\\tensorflow\\python\\trackable\\base.py\", line 205, in _method_wrapper\n",
      "    result = method(self, *args, **kwargs)\n",
      "             ^^^^^^^^^^^^^^^^^^^^^^^^^^^^^\n",
      "  File \"C:\\Users\\emanu\\.virtualenvs\\DM2-HUE9YkAX\\Lib\\site-packages\\keras\\utils\\traceback_utils.py\", line 70, in error_handler\n",
      "    raise e.with_traceback(filtered_tb) from None\n",
      "  File \"C:\\Users\\emanu\\.virtualenvs\\DM2-HUE9YkAX\\Lib\\site-packages\\tensorflow\\python\\framework\\ops.py\", line 1973, in _create_c_op\n",
      "    raise ValueError(e.message)\n",
      "ValueError: Exception encountered when calling layer \"extra_conv_1\" (type Conv1D).\n",
      "\n",
      "Negative dimension size caused by subtracting 10 from 9 for '{{node extra_conv_1/Conv1D}} = Conv2D[T=DT_FLOAT, data_format=\"NHWC\", dilations=[1, 1, 1, 1], explicit_paddings=[], padding=\"VALID\", strides=[1, 1, 1, 1], use_cudnn_on_gpu=true](extra_conv_1/Conv1D/ExpandDims, extra_conv_1/Conv1D/ExpandDims_1)' with input shapes: [?,1,9,13], [1,10,13,13].\n",
      "\n",
      "Call arguments received by layer \"extra_conv_1\" (type Conv1D):\n",
      "  • inputs=tf.Tensor(shape=(None, 9, 13), dtype=float32)\n",
      "[W 2023-06-28 12:13:22,313] Trial 119 failed with parameters: {'n_conv': 2, 'n_hidden': 2, 'hidden_nodes': 43, 'dropout': 0.13530153762258873, 'filters': 14, 'kernel_size': 10, 'batch_size': 18, 'epochs': 65} because of the following error: ValueError('Exception encountered when calling layer \"extra_conv_1\" (type Conv1D).\\n\\nNegative dimension size caused by subtracting 10 from 9 for \\'{{node extra_conv_1/Conv1D}} = Conv2D[T=DT_FLOAT, data_format=\"NHWC\", dilations=[1, 1, 1, 1], explicit_paddings=[], padding=\"VALID\", strides=[1, 1, 1, 1], use_cudnn_on_gpu=true](extra_conv_1/Conv1D/ExpandDims, extra_conv_1/Conv1D/ExpandDims_1)\\' with input shapes: [?,1,9,14], [1,10,14,14].\\n\\nCall arguments received by layer \"extra_conv_1\" (type Conv1D):\\n  • inputs=tf.Tensor(shape=(None, 9, 14), dtype=float32)').\n",
      "Traceback (most recent call last):\n",
      "  File \"C:\\Users\\emanu\\.virtualenvs\\DM2-HUE9YkAX\\Lib\\site-packages\\optuna\\study\\_optimize.py\", line 200, in _run_trial\n",
      "    value_or_values = func(trial)\n",
      "                      ^^^^^^^^^^^\n",
      "  File \"C:\\Users\\emanu\\AppData\\Local\\Temp\\ipykernel_33832\\1072382922.py\", line 34, in <lambda>\n",
      "    trial_function = lambda trial: objective_fun(trial,\n",
      "                                  ^^^^^^^^^^^^^^^^^^^^^\n",
      "  File \"C:\\Users\\emanu\\AppData\\Local\\Temp\\ipykernel_33832\\1072382922.py\", line 15, in objective_fun\n",
      "    cnn = build_model(  X.shape[1:], len(np.unique(y)),\n",
      "          ^^^^^^^^^^^^^^^^^^^^^^^^^^^^^^^^^^^^^^^^^^^^^\n",
      "  File \"C:\\Users\\emanu\\AppData\\Local\\Temp\\ipykernel_33832\\1937663146.py\", line 27, in build_model\n",
      "    model.add(Conv1D(filters=filters, kernel_size=kernel_size, activation='relu', name=f\"extra_conv_{i}\"))\n",
      "  File \"C:\\Users\\emanu\\.virtualenvs\\DM2-HUE9YkAX\\Lib\\site-packages\\tensorflow\\python\\trackable\\base.py\", line 205, in _method_wrapper\n",
      "    result = method(self, *args, **kwargs)\n",
      "             ^^^^^^^^^^^^^^^^^^^^^^^^^^^^^\n",
      "  File \"C:\\Users\\emanu\\.virtualenvs\\DM2-HUE9YkAX\\Lib\\site-packages\\keras\\utils\\traceback_utils.py\", line 70, in error_handler\n",
      "    raise e.with_traceback(filtered_tb) from None\n",
      "  File \"C:\\Users\\emanu\\.virtualenvs\\DM2-HUE9YkAX\\Lib\\site-packages\\tensorflow\\python\\framework\\ops.py\", line 1973, in _create_c_op\n",
      "    raise ValueError(e.message)\n",
      "ValueError: Exception encountered when calling layer \"extra_conv_1\" (type Conv1D).\n",
      "\n",
      "Negative dimension size caused by subtracting 10 from 9 for '{{node extra_conv_1/Conv1D}} = Conv2D[T=DT_FLOAT, data_format=\"NHWC\", dilations=[1, 1, 1, 1], explicit_paddings=[], padding=\"VALID\", strides=[1, 1, 1, 1], use_cudnn_on_gpu=true](extra_conv_1/Conv1D/ExpandDims, extra_conv_1/Conv1D/ExpandDims_1)' with input shapes: [?,1,9,14], [1,10,14,14].\n",
      "\n",
      "Call arguments received by layer \"extra_conv_1\" (type Conv1D):\n",
      "  • inputs=tf.Tensor(shape=(None, 9, 14), dtype=float32)\n",
      "[W 2023-06-28 12:13:22,323] Trial 118 failed with value None.\n",
      "[W 2023-06-28 12:13:22,343] Trial 119 failed with value None.\n"
     ]
    },
    {
     "name": "stdout",
     "output_type": "stream",
     "text": [
      " 1/13 [=>............................] - ETA: 28sRunning little bitch having n_conv=2, dropout=0.13956992710226368, hidden_nodes=41\n",
      " 2/13 [===>..........................] - ETA: 0s Running little bitch having n_conv=2, dropout=0.13149555089552317, hidden_nodes=41\n",
      " 5/13 [==========>...................] - ETA: 0s"
     ]
    },
    {
     "name": "stderr",
     "output_type": "stream",
     "text": [
      "[W 2023-06-28 12:13:22,556] Trial 120 failed with parameters: {'n_conv': 2, 'n_hidden': 2, 'hidden_nodes': 48, 'dropout': 0.14255632553741523, 'filters': 13, 'kernel_size': 10, 'batch_size': 16, 'epochs': 90} because of the following error: ValueError('Exception encountered when calling layer \"extra_conv_1\" (type Conv1D).\\n\\nNegative dimension size caused by subtracting 10 from 9 for \\'{{node extra_conv_1/Conv1D}} = Conv2D[T=DT_FLOAT, data_format=\"NHWC\", dilations=[1, 1, 1, 1], explicit_paddings=[], padding=\"VALID\", strides=[1, 1, 1, 1], use_cudnn_on_gpu=true](extra_conv_1/Conv1D/ExpandDims, extra_conv_1/Conv1D/ExpandDims_1)\\' with input shapes: [?,1,9,13], [1,10,13,13].\\n\\nCall arguments received by layer \"extra_conv_1\" (type Conv1D):\\n  • inputs=tf.Tensor(shape=(None, 9, 13), dtype=float32)').\n",
      "Traceback (most recent call last):\n",
      "  File \"C:\\Users\\emanu\\.virtualenvs\\DM2-HUE9YkAX\\Lib\\site-packages\\optuna\\study\\_optimize.py\", line 200, in _run_trial\n",
      "    value_or_values = func(trial)\n",
      "                      ^^^^^^^^^^^\n",
      "  File \"C:\\Users\\emanu\\AppData\\Local\\Temp\\ipykernel_33832\\1072382922.py\", line 34, in <lambda>\n",
      "    trial_function = lambda trial: objective_fun(trial,\n",
      "                                  ^^^^^^^^^^^^^^^^^^^^^\n",
      "  File \"C:\\Users\\emanu\\AppData\\Local\\Temp\\ipykernel_33832\\1072382922.py\", line 15, in objective_fun\n",
      "    cnn = build_model(  X.shape[1:], len(np.unique(y)),\n",
      "          ^^^^^^^^^^^^^^^^^^^^^^^^^^^^^^^^^^^^^^^^^^^^^\n",
      "  File \"C:\\Users\\emanu\\AppData\\Local\\Temp\\ipykernel_33832\\1937663146.py\", line 27, in build_model\n",
      "    model.add(Conv1D(filters=filters, kernel_size=kernel_size, activation='relu', name=f\"extra_conv_{i}\"))\n",
      "  File \"C:\\Users\\emanu\\.virtualenvs\\DM2-HUE9YkAX\\Lib\\site-packages\\tensorflow\\python\\trackable\\base.py\", line 205, in _method_wrapper\n",
      "    result = method(self, *args, **kwargs)\n",
      "             ^^^^^^^^^^^^^^^^^^^^^^^^^^^^^\n",
      "  File \"C:\\Users\\emanu\\.virtualenvs\\DM2-HUE9YkAX\\Lib\\site-packages\\keras\\utils\\traceback_utils.py\", line 70, in error_handler\n",
      "    raise e.with_traceback(filtered_tb) from None\n",
      "  File \"C:\\Users\\emanu\\.virtualenvs\\DM2-HUE9YkAX\\Lib\\site-packages\\tensorflow\\python\\framework\\ops.py\", line 1973, in _create_c_op\n",
      "    raise ValueError(e.message)\n",
      "ValueError: Exception encountered when calling layer \"extra_conv_1\" (type Conv1D).\n",
      "\n",
      "Negative dimension size caused by subtracting 10 from 9 for '{{node extra_conv_1/Conv1D}} = Conv2D[T=DT_FLOAT, data_format=\"NHWC\", dilations=[1, 1, 1, 1], explicit_paddings=[], padding=\"VALID\", strides=[1, 1, 1, 1], use_cudnn_on_gpu=true](extra_conv_1/Conv1D/ExpandDims, extra_conv_1/Conv1D/ExpandDims_1)' with input shapes: [?,1,9,13], [1,10,13,13].\n",
      "\n",
      "Call arguments received by layer \"extra_conv_1\" (type Conv1D):\n",
      "  • inputs=tf.Tensor(shape=(None, 9, 13), dtype=float32)\n",
      "[W 2023-06-28 12:13:22,581] Trial 120 failed with value None.\n"
     ]
    },
    {
     "name": "stdout",
     "output_type": "stream",
     "text": [
      "13/13 [==============================] - 3s 18ms/step\n",
      "Running little bitch having n_conv=2, dropout=0.1385236475671721, hidden_nodes=46\n"
     ]
    },
    {
     "name": "stderr",
     "output_type": "stream",
     "text": [
      "[I 2023-06-28 12:13:22,823] Trial 64 finished with value: 0.9741602067183462 and parameters: {'n_conv': 1, 'n_hidden': 3, 'hidden_nodes': 21, 'dropout': 0.10828503101780045, 'filters': 13, 'kernel_size': 11, 'batch_size': 30, 'epochs': 76}. Best is trial 22 with value: 0.9844961240310077.\n"
     ]
    },
    {
     "name": "stdout",
     "output_type": "stream",
     "text": [
      "Running little bitch having n_conv=2, dropout=0.13583498439846312, hidden_nodes=54"
     ]
    },
    {
     "name": "stderr",
     "output_type": "stream",
     "text": [
      "[W 2023-06-28 12:13:22,973] Trial 121 failed with parameters: {'n_conv': 2, 'n_hidden': 2, 'hidden_nodes': 41, 'dropout': 0.13956992710226368, 'filters': 13, 'kernel_size': 10, 'batch_size': 18, 'epochs': 65} because of the following error: ValueError('Exception encountered when calling layer \"extra_conv_1\" (type Conv1D).\\n\\nNegative dimension size caused by subtracting 10 from 9 for \\'{{node extra_conv_1/Conv1D}} = Conv2D[T=DT_FLOAT, data_format=\"NHWC\", dilations=[1, 1, 1, 1], explicit_paddings=[], padding=\"VALID\", strides=[1, 1, 1, 1], use_cudnn_on_gpu=true](extra_conv_1/Conv1D/ExpandDims, extra_conv_1/Conv1D/ExpandDims_1)\\' with input shapes: [?,1,9,13], [1,10,13,13].\\n\\nCall arguments received by layer \"extra_conv_1\" (type Conv1D):\\n  • inputs=tf.Tensor(shape=(None, 9, 13), dtype=float32)').\n",
      "Traceback (most recent call last):\n",
      "  File \"C:\\Users\\emanu\\.virtualenvs\\DM2-HUE9YkAX\\Lib\\site-packages\\optuna\\study\\_optimize.py\", line 200, in _run_trial\n",
      "    value_or_values = func(trial)\n",
      "                      ^^^^^^^^^^^\n",
      "  File \"C:\\Users\\emanu\\AppData\\Local\\Temp\\ipykernel_33832\\1072382922.py\", line 34, in <lambda>\n",
      "    trial_function = lambda trial: objective_fun(trial,\n",
      "                                  ^^^^^^^^^^^^^^^^^^^^^\n",
      "  File \"C:\\Users\\emanu\\AppData\\Local\\Temp\\ipykernel_33832\\1072382922.py\", line 15, in objective_fun\n",
      "    cnn = build_model(  X.shape[1:], len(np.unique(y)),\n",
      "          ^^^^^^^^^^^^^^^^^^^^^^^^^^^^^^^^^^^^^^^^^^^^^\n",
      "  File \"C:\\Users\\emanu\\AppData\\Local\\Temp\\ipykernel_33832\\1937663146.py\", line 27, in build_model\n",
      "    model.add(Conv1D(filters=filters, kernel_size=kernel_size, activation='relu', name=f\"extra_conv_{i}\"))\n",
      "  File \"C:\\Users\\emanu\\.virtualenvs\\DM2-HUE9YkAX\\Lib\\site-packages\\tensorflow\\python\\trackable\\base.py\", line 205, in _method_wrapper\n",
      "    result = method(self, *args, **kwargs)\n",
      "             ^^^^^^^^^^^^^^^^^^^^^^^^^^^^^\n",
      "  File \"C:\\Users\\emanu\\.virtualenvs\\DM2-HUE9YkAX\\Lib\\site-packages\\keras\\utils\\traceback_utils.py\", line 70, in error_handler\n",
      "    raise e.with_traceback(filtered_tb) from None\n",
      "  File \"C:\\Users\\emanu\\.virtualenvs\\DM2-HUE9YkAX\\Lib\\site-packages\\tensorflow\\python\\framework\\ops.py\", line 1973, in _create_c_op\n",
      "    raise ValueError(e.message)\n",
      "ValueError: Exception encountered when calling layer \"extra_conv_1\" (type Conv1D).\n",
      "\n",
      "Negative dimension size caused by subtracting 10 from 9 for '{{node extra_conv_1/Conv1D}} = Conv2D[T=DT_FLOAT, data_format=\"NHWC\", dilations=[1, 1, 1, 1], explicit_paddings=[], padding=\"VALID\", strides=[1, 1, 1, 1], use_cudnn_on_gpu=true](extra_conv_1/Conv1D/ExpandDims, extra_conv_1/Conv1D/ExpandDims_1)' with input shapes: [?,1,9,13], [1,10,13,13].\n",
      "\n",
      "Call arguments received by layer \"extra_conv_1\" (type Conv1D):\n",
      "  • inputs=tf.Tensor(shape=(None, 9, 13), dtype=float32)\n",
      "[W 2023-06-28 12:13:22,998] Trial 121 failed with value None.\n",
      "[W 2023-06-28 12:13:23,041] Trial 122 failed with parameters: {'n_conv': 2, 'n_hidden': 2, 'hidden_nodes': 41, 'dropout': 0.13149555089552317, 'filters': 13, 'kernel_size': 10, 'batch_size': 17, 'epochs': 67} because of the following error: ValueError('Exception encountered when calling layer \"extra_conv_1\" (type Conv1D).\\n\\nNegative dimension size caused by subtracting 10 from 9 for \\'{{node extra_conv_1/Conv1D}} = Conv2D[T=DT_FLOAT, data_format=\"NHWC\", dilations=[1, 1, 1, 1], explicit_paddings=[], padding=\"VALID\", strides=[1, 1, 1, 1], use_cudnn_on_gpu=true](extra_conv_1/Conv1D/ExpandDims, extra_conv_1/Conv1D/ExpandDims_1)\\' with input shapes: [?,1,9,13], [1,10,13,13].\\n\\nCall arguments received by layer \"extra_conv_1\" (type Conv1D):\\n  • inputs=tf.Tensor(shape=(None, 9, 13), dtype=float32)').\n",
      "Traceback (most recent call last):\n",
      "  File \"C:\\Users\\emanu\\.virtualenvs\\DM2-HUE9YkAX\\Lib\\site-packages\\optuna\\study\\_optimize.py\", line 200, in _run_trial\n",
      "    value_or_values = func(trial)\n",
      "                      ^^^^^^^^^^^\n",
      "  File \"C:\\Users\\emanu\\AppData\\Local\\Temp\\ipykernel_33832\\1072382922.py\", line 34, in <lambda>\n",
      "    trial_function = lambda trial: objective_fun(trial,\n",
      "                                  ^^^^^^^^^^^^^^^^^^^^^\n",
      "  File \"C:\\Users\\emanu\\AppData\\Local\\Temp\\ipykernel_33832\\1072382922.py\", line 15, in objective_fun\n",
      "    cnn = build_model(  X.shape[1:], len(np.unique(y)),\n",
      "          ^^^^^^^^^^^^^^^^^^^^^^^^^^^^^^^^^^^^^^^^^^^^^\n",
      "  File \"C:\\Users\\emanu\\AppData\\Local\\Temp\\ipykernel_33832\\1937663146.py\", line 27, in build_model\n",
      "    model.add(Conv1D(filters=filters, kernel_size=kernel_size, activation='relu', name=f\"extra_conv_{i}\"))\n",
      "  File \"C:\\Users\\emanu\\.virtualenvs\\DM2-HUE9YkAX\\Lib\\site-packages\\tensorflow\\python\\trackable\\base.py\", line 205, in _method_wrapper\n",
      "    result = method(self, *args, **kwargs)\n",
      "             ^^^^^^^^^^^^^^^^^^^^^^^^^^^^^\n",
      "  File \"C:\\Users\\emanu\\.virtualenvs\\DM2-HUE9YkAX\\Lib\\site-packages\\keras\\utils\\traceback_utils.py\", line 70, in error_handler\n",
      "    raise e.with_traceback(filtered_tb) from None\n",
      "  File \"C:\\Users\\emanu\\.virtualenvs\\DM2-HUE9YkAX\\Lib\\site-packages\\tensorflow\\python\\framework\\ops.py\", line 1973, in _create_c_op\n",
      "    raise ValueError(e.message)\n",
      "ValueError: Exception encountered when calling layer \"extra_conv_1\" (type Conv1D).\n",
      "\n",
      "Negative dimension size caused by subtracting 10 from 9 for '{{node extra_conv_1/Conv1D}} = Conv2D[T=DT_FLOAT, data_format=\"NHWC\", dilations=[1, 1, 1, 1], explicit_paddings=[], padding=\"VALID\", strides=[1, 1, 1, 1], use_cudnn_on_gpu=true](extra_conv_1/Conv1D/ExpandDims, extra_conv_1/Conv1D/ExpandDims_1)' with input shapes: [?,1,9,13], [1,10,13,13].\n",
      "\n",
      "Call arguments received by layer \"extra_conv_1\" (type Conv1D):\n",
      "  • inputs=tf.Tensor(shape=(None, 9, 13), dtype=float32)\n",
      "[W 2023-06-28 12:13:23,072] Trial 122 failed with value None.\n"
     ]
    },
    {
     "name": "stdout",
     "output_type": "stream",
     "text": [
      "\n",
      "Running little bitch having n_conv=2, dropout=0.13414139896903127, hidden_nodes=49\n"
     ]
    },
    {
     "name": "stderr",
     "output_type": "stream",
     "text": [
      "[W 2023-06-28 12:13:23,165] Trial 123 failed with parameters: {'n_conv': 2, 'n_hidden': 2, 'hidden_nodes': 46, 'dropout': 0.1385236475671721, 'filters': 13, 'kernel_size': 10, 'batch_size': 16, 'epochs': 65} because of the following error: ValueError('Exception encountered when calling layer \"extra_conv_1\" (type Conv1D).\\n\\nNegative dimension size caused by subtracting 10 from 9 for \\'{{node extra_conv_1/Conv1D}} = Conv2D[T=DT_FLOAT, data_format=\"NHWC\", dilations=[1, 1, 1, 1], explicit_paddings=[], padding=\"VALID\", strides=[1, 1, 1, 1], use_cudnn_on_gpu=true](extra_conv_1/Conv1D/ExpandDims, extra_conv_1/Conv1D/ExpandDims_1)\\' with input shapes: [?,1,9,13], [1,10,13,13].\\n\\nCall arguments received by layer \"extra_conv_1\" (type Conv1D):\\n  • inputs=tf.Tensor(shape=(None, 9, 13), dtype=float32)').\n",
      "Traceback (most recent call last):\n",
      "  File \"C:\\Users\\emanu\\.virtualenvs\\DM2-HUE9YkAX\\Lib\\site-packages\\optuna\\study\\_optimize.py\", line 200, in _run_trial\n",
      "    value_or_values = func(trial)\n",
      "                      ^^^^^^^^^^^\n",
      "  File \"C:\\Users\\emanu\\AppData\\Local\\Temp\\ipykernel_33832\\1072382922.py\", line 34, in <lambda>\n",
      "    trial_function = lambda trial: objective_fun(trial,\n",
      "                                  ^^^^^^^^^^^^^^^^^^^^^\n",
      "  File \"C:\\Users\\emanu\\AppData\\Local\\Temp\\ipykernel_33832\\1072382922.py\", line 15, in objective_fun\n",
      "    cnn = build_model(  X.shape[1:], len(np.unique(y)),\n",
      "          ^^^^^^^^^^^^^^^^^^^^^^^^^^^^^^^^^^^^^^^^^^^^^\n",
      "  File \"C:\\Users\\emanu\\AppData\\Local\\Temp\\ipykernel_33832\\1937663146.py\", line 27, in build_model\n",
      "    model.add(Conv1D(filters=filters, kernel_size=kernel_size, activation='relu', name=f\"extra_conv_{i}\"))\n",
      "  File \"C:\\Users\\emanu\\.virtualenvs\\DM2-HUE9YkAX\\Lib\\site-packages\\tensorflow\\python\\trackable\\base.py\", line 205, in _method_wrapper\n",
      "    result = method(self, *args, **kwargs)\n",
      "             ^^^^^^^^^^^^^^^^^^^^^^^^^^^^^\n",
      "  File \"C:\\Users\\emanu\\.virtualenvs\\DM2-HUE9YkAX\\Lib\\site-packages\\keras\\utils\\traceback_utils.py\", line 70, in error_handler\n",
      "    raise e.with_traceback(filtered_tb) from None\n",
      "  File \"C:\\Users\\emanu\\.virtualenvs\\DM2-HUE9YkAX\\Lib\\site-packages\\tensorflow\\python\\framework\\ops.py\", line 1973, in _create_c_op\n",
      "    raise ValueError(e.message)\n",
      "ValueError: Exception encountered when calling layer \"extra_conv_1\" (type Conv1D).\n",
      "\n",
      "Negative dimension size caused by subtracting 10 from 9 for '{{node extra_conv_1/Conv1D}} = Conv2D[T=DT_FLOAT, data_format=\"NHWC\", dilations=[1, 1, 1, 1], explicit_paddings=[], padding=\"VALID\", strides=[1, 1, 1, 1], use_cudnn_on_gpu=true](extra_conv_1/Conv1D/ExpandDims, extra_conv_1/Conv1D/ExpandDims_1)' with input shapes: [?,1,9,13], [1,10,13,13].\n",
      "\n",
      "Call arguments received by layer \"extra_conv_1\" (type Conv1D):\n",
      "  • inputs=tf.Tensor(shape=(None, 9, 13), dtype=float32)\n",
      "[W 2023-06-28 12:13:23,191] Trial 123 failed with value None.\n"
     ]
    },
    {
     "name": "stdout",
     "output_type": "stream",
     "text": [
      "Running little bitch having n_conv=2, dropout=0.13743414867589512, hidden_nodes=49\n",
      "Running little bitch having n_conv=2, dropout=0.1392689591114547, hidden_nodes=53\n"
     ]
    },
    {
     "name": "stderr",
     "output_type": "stream",
     "text": [
      "[W 2023-06-28 12:13:23,624] Trial 126 failed with parameters: {'n_conv': 2, 'n_hidden': 2, 'hidden_nodes': 49, 'dropout': 0.13743414867589512, 'filters': 13, 'kernel_size': 13, 'batch_size': 17, 'epochs': 68} because of the following error: ValueError('One of the dimensions in the output is <= 0 due to downsampling in extra_conv_1. Consider increasing the input size. Received input shape [None, 3, 13] which would produce output shape with a zero or negative value in a dimension.').\n",
      "Traceback (most recent call last):\n",
      "  File \"C:\\Users\\emanu\\.virtualenvs\\DM2-HUE9YkAX\\Lib\\site-packages\\optuna\\study\\_optimize.py\", line 200, in _run_trial\n",
      "    value_or_values = func(trial)\n",
      "                      ^^^^^^^^^^^\n",
      "  File \"C:\\Users\\emanu\\AppData\\Local\\Temp\\ipykernel_33832\\1072382922.py\", line 34, in <lambda>\n",
      "    trial_function = lambda trial: objective_fun(trial,\n",
      "                                  ^^^^^^^^^^^^^^^^^^^^^\n",
      "  File \"C:\\Users\\emanu\\AppData\\Local\\Temp\\ipykernel_33832\\1072382922.py\", line 15, in objective_fun\n",
      "    cnn = build_model(  X.shape[1:], len(np.unique(y)),\n",
      "          ^^^^^^^^^^^^^^^^^^^^^^^^^^^^^^^^^^^^^^^^^^^^^\n",
      "  File \"C:\\Users\\emanu\\AppData\\Local\\Temp\\ipykernel_33832\\1937663146.py\", line 27, in build_model\n",
      "    model.add(Conv1D(filters=filters, kernel_size=kernel_size, activation='relu', name=f\"extra_conv_{i}\"))\n",
      "  File \"C:\\Users\\emanu\\.virtualenvs\\DM2-HUE9YkAX\\Lib\\site-packages\\tensorflow\\python\\trackable\\base.py\", line 205, in _method_wrapper\n",
      "    result = method(self, *args, **kwargs)\n",
      "             ^^^^^^^^^^^^^^^^^^^^^^^^^^^^^\n",
      "  File \"C:\\Users\\emanu\\.virtualenvs\\DM2-HUE9YkAX\\Lib\\site-packages\\keras\\utils\\traceback_utils.py\", line 70, in error_handler\n",
      "    raise e.with_traceback(filtered_tb) from None\n",
      "  File \"C:\\Users\\emanu\\.virtualenvs\\DM2-HUE9YkAX\\Lib\\site-packages\\keras\\layers\\convolutional\\base_conv.py\", line 354, in compute_output_shape\n",
      "    raise ValueError(\n",
      "ValueError: One of the dimensions in the output is <= 0 due to downsampling in extra_conv_1. Consider increasing the input size. Received input shape [None, 3, 13] which would produce output shape with a zero or negative value in a dimension.\n",
      "[W 2023-06-28 12:13:23,657] Trial 126 failed with value None.\n"
     ]
    },
    {
     "name": "stdout",
     "output_type": "stream",
     "text": [
      "Running little bitch having n_conv=2, dropout=0.13531166311810797, hidden_nodes=46\n",
      "13/13 [==============================] - 1s 7ms/step\n"
     ]
    },
    {
     "name": "stderr",
     "output_type": "stream",
     "text": [
      "[I 2023-06-28 12:13:29,381] Trial 66 finished with value: 0.9896640826873385 and parameters: {'n_conv': 1, 'n_hidden': 3, 'hidden_nodes': 8, 'dropout': 0.10857854001614335, 'filters': 13, 'kernel_size': 11, 'batch_size': 25, 'epochs': 75}. Best is trial 66 with value: 0.9896640826873385.\n"
     ]
    },
    {
     "name": "stdout",
     "output_type": "stream",
     "text": [
      "Running little bitch having n_conv=2, dropout=0.13225784235679128, hidden_nodes=43\n",
      "13/13 [==============================] - 1s 16ms/step\n"
     ]
    },
    {
     "name": "stderr",
     "output_type": "stream",
     "text": [
      "[I 2023-06-28 12:13:33,406] Trial 68 finished with value: 0.9819121447028424 and parameters: {'n_conv': 1, 'n_hidden': 2, 'hidden_nodes': 16, 'dropout': 0.14048866048179484, 'filters': 13, 'kernel_size': 12, 'batch_size': 23, 'epochs': 65}. Best is trial 66 with value: 0.9896640826873385.\n"
     ]
    },
    {
     "name": "stdout",
     "output_type": "stream",
     "text": [
      "Running little bitch having n_conv=2, dropout=0.12988642190738395, hidden_nodes=41\n",
      "13/13 [==============================] - 1s 6ms/step\n"
     ]
    },
    {
     "name": "stderr",
     "output_type": "stream",
     "text": [
      "[I 2023-06-28 12:13:45,702] Trial 67 finished with value: 0.9948320413436692 and parameters: {'n_conv': 1, 'n_hidden': 3, 'hidden_nodes': 10, 'dropout': 0.12024611528913347, 'filters': 13, 'kernel_size': 12, 'batch_size': 19, 'epochs': 70}. Best is trial 67 with value: 0.9948320413436692.\n"
     ]
    },
    {
     "name": "stdout",
     "output_type": "stream",
     "text": [
      "Running little bitch having n_conv=2, dropout=0.13099418754688, hidden_nodes=49\n"
     ]
    },
    {
     "name": "stderr",
     "output_type": "stream",
     "text": [
      "[W 2023-06-28 12:13:46,227] Trial 131 failed with parameters: {'n_conv': 2, 'n_hidden': 2, 'hidden_nodes': 49, 'dropout': 0.13099418754688, 'filters': 14, 'kernel_size': 13, 'batch_size': 16, 'epochs': 89} because of the following error: ValueError('One of the dimensions in the output is <= 0 due to downsampling in extra_conv_1. Consider increasing the input size. Received input shape [None, 3, 14] which would produce output shape with a zero or negative value in a dimension.').\n",
      "Traceback (most recent call last):\n",
      "  File \"C:\\Users\\emanu\\.virtualenvs\\DM2-HUE9YkAX\\Lib\\site-packages\\optuna\\study\\_optimize.py\", line 200, in _run_trial\n",
      "    value_or_values = func(trial)\n",
      "                      ^^^^^^^^^^^\n",
      "  File \"C:\\Users\\emanu\\AppData\\Local\\Temp\\ipykernel_33832\\1072382922.py\", line 34, in <lambda>\n",
      "    trial_function = lambda trial: objective_fun(trial,\n",
      "                                  ^^^^^^^^^^^^^^^^^^^^^\n",
      "  File \"C:\\Users\\emanu\\AppData\\Local\\Temp\\ipykernel_33832\\1072382922.py\", line 15, in objective_fun\n",
      "    cnn = build_model(  X.shape[1:], len(np.unique(y)),\n",
      "          ^^^^^^^^^^^^^^^^^^^^^^^^^^^^^^^^^^^^^^^^^^^^^\n",
      "  File \"C:\\Users\\emanu\\AppData\\Local\\Temp\\ipykernel_33832\\1937663146.py\", line 27, in build_model\n",
      "    model.add(Conv1D(filters=filters, kernel_size=kernel_size, activation='relu', name=f\"extra_conv_{i}\"))\n",
      "  File \"C:\\Users\\emanu\\.virtualenvs\\DM2-HUE9YkAX\\Lib\\site-packages\\tensorflow\\python\\trackable\\base.py\", line 205, in _method_wrapper\n",
      "    result = method(self, *args, **kwargs)\n",
      "             ^^^^^^^^^^^^^^^^^^^^^^^^^^^^^\n",
      "  File \"C:\\Users\\emanu\\.virtualenvs\\DM2-HUE9YkAX\\Lib\\site-packages\\keras\\utils\\traceback_utils.py\", line 70, in error_handler\n",
      "    raise e.with_traceback(filtered_tb) from None\n",
      "  File \"C:\\Users\\emanu\\.virtualenvs\\DM2-HUE9YkAX\\Lib\\site-packages\\keras\\layers\\convolutional\\base_conv.py\", line 354, in compute_output_shape\n",
      "    raise ValueError(\n",
      "ValueError: One of the dimensions in the output is <= 0 due to downsampling in extra_conv_1. Consider increasing the input size. Received input shape [None, 3, 14] which would produce output shape with a zero or negative value in a dimension.\n",
      "[W 2023-06-28 12:13:46,243] Trial 131 failed with value None.\n"
     ]
    },
    {
     "name": "stdout",
     "output_type": "stream",
     "text": [
      "Running little bitch having n_conv=2, dropout=0.13805155795709434, hidden_nodes=51\n"
     ]
    },
    {
     "name": "stderr",
     "output_type": "stream",
     "text": [
      "[W 2023-06-28 12:13:46,795] Trial 132 failed with parameters: {'n_conv': 2, 'n_hidden': 2, 'hidden_nodes': 51, 'dropout': 0.13805155795709434, 'filters': 14, 'kernel_size': 13, 'batch_size': 16, 'epochs': 62} because of the following error: ValueError('One of the dimensions in the output is <= 0 due to downsampling in extra_conv_1. Consider increasing the input size. Received input shape [None, 3, 14] which would produce output shape with a zero or negative value in a dimension.').\n",
      "Traceback (most recent call last):\n",
      "  File \"C:\\Users\\emanu\\.virtualenvs\\DM2-HUE9YkAX\\Lib\\site-packages\\optuna\\study\\_optimize.py\", line 200, in _run_trial\n",
      "    value_or_values = func(trial)\n",
      "                      ^^^^^^^^^^^\n",
      "  File \"C:\\Users\\emanu\\AppData\\Local\\Temp\\ipykernel_33832\\1072382922.py\", line 34, in <lambda>\n",
      "    trial_function = lambda trial: objective_fun(trial,\n",
      "                                  ^^^^^^^^^^^^^^^^^^^^^\n",
      "  File \"C:\\Users\\emanu\\AppData\\Local\\Temp\\ipykernel_33832\\1072382922.py\", line 15, in objective_fun\n",
      "    cnn = build_model(  X.shape[1:], len(np.unique(y)),\n",
      "          ^^^^^^^^^^^^^^^^^^^^^^^^^^^^^^^^^^^^^^^^^^^^^\n",
      "  File \"C:\\Users\\emanu\\AppData\\Local\\Temp\\ipykernel_33832\\1937663146.py\", line 27, in build_model\n",
      "    model.add(Conv1D(filters=filters, kernel_size=kernel_size, activation='relu', name=f\"extra_conv_{i}\"))\n",
      "  File \"C:\\Users\\emanu\\.virtualenvs\\DM2-HUE9YkAX\\Lib\\site-packages\\tensorflow\\python\\trackable\\base.py\", line 205, in _method_wrapper\n",
      "    result = method(self, *args, **kwargs)\n",
      "             ^^^^^^^^^^^^^^^^^^^^^^^^^^^^^\n",
      "  File \"C:\\Users\\emanu\\.virtualenvs\\DM2-HUE9YkAX\\Lib\\site-packages\\keras\\utils\\traceback_utils.py\", line 70, in error_handler\n",
      "    raise e.with_traceback(filtered_tb) from None\n",
      "  File \"C:\\Users\\emanu\\.virtualenvs\\DM2-HUE9YkAX\\Lib\\site-packages\\keras\\layers\\convolutional\\base_conv.py\", line 354, in compute_output_shape\n",
      "    raise ValueError(\n",
      "ValueError: One of the dimensions in the output is <= 0 due to downsampling in extra_conv_1. Consider increasing the input size. Received input shape [None, 3, 14] which would produce output shape with a zero or negative value in a dimension.\n",
      "[W 2023-06-28 12:13:46,817] Trial 132 failed with value None.\n"
     ]
    },
    {
     "name": "stdout",
     "output_type": "stream",
     "text": [
      "Running little bitch having n_conv=2, dropout=0.13892480220336018, hidden_nodes=51\n"
     ]
    },
    {
     "name": "stderr",
     "output_type": "stream",
     "text": [
      "[W 2023-06-28 12:13:47,315] Trial 133 failed with parameters: {'n_conv': 2, 'n_hidden': 2, 'hidden_nodes': 51, 'dropout': 0.13892480220336018, 'filters': 14, 'kernel_size': 13, 'batch_size': 17, 'epochs': 90} because of the following error: ValueError('One of the dimensions in the output is <= 0 due to downsampling in extra_conv_1. Consider increasing the input size. Received input shape [None, 3, 14] which would produce output shape with a zero or negative value in a dimension.').\n",
      "Traceback (most recent call last):\n",
      "  File \"C:\\Users\\emanu\\.virtualenvs\\DM2-HUE9YkAX\\Lib\\site-packages\\optuna\\study\\_optimize.py\", line 200, in _run_trial\n",
      "    value_or_values = func(trial)\n",
      "                      ^^^^^^^^^^^\n",
      "  File \"C:\\Users\\emanu\\AppData\\Local\\Temp\\ipykernel_33832\\1072382922.py\", line 34, in <lambda>\n",
      "    trial_function = lambda trial: objective_fun(trial,\n",
      "                                  ^^^^^^^^^^^^^^^^^^^^^\n",
      "  File \"C:\\Users\\emanu\\AppData\\Local\\Temp\\ipykernel_33832\\1072382922.py\", line 15, in objective_fun\n",
      "    cnn = build_model(  X.shape[1:], len(np.unique(y)),\n",
      "          ^^^^^^^^^^^^^^^^^^^^^^^^^^^^^^^^^^^^^^^^^^^^^\n",
      "  File \"C:\\Users\\emanu\\AppData\\Local\\Temp\\ipykernel_33832\\1937663146.py\", line 27, in build_model\n",
      "    model.add(Conv1D(filters=filters, kernel_size=kernel_size, activation='relu', name=f\"extra_conv_{i}\"))\n",
      "  File \"C:\\Users\\emanu\\.virtualenvs\\DM2-HUE9YkAX\\Lib\\site-packages\\tensorflow\\python\\trackable\\base.py\", line 205, in _method_wrapper\n",
      "    result = method(self, *args, **kwargs)\n",
      "             ^^^^^^^^^^^^^^^^^^^^^^^^^^^^^\n",
      "  File \"C:\\Users\\emanu\\.virtualenvs\\DM2-HUE9YkAX\\Lib\\site-packages\\keras\\utils\\traceback_utils.py\", line 70, in error_handler\n",
      "    raise e.with_traceback(filtered_tb) from None\n",
      "  File \"C:\\Users\\emanu\\.virtualenvs\\DM2-HUE9YkAX\\Lib\\site-packages\\keras\\layers\\convolutional\\base_conv.py\", line 354, in compute_output_shape\n",
      "    raise ValueError(\n",
      "ValueError: One of the dimensions in the output is <= 0 due to downsampling in extra_conv_1. Consider increasing the input size. Received input shape [None, 3, 14] which would produce output shape with a zero or negative value in a dimension.\n",
      "[W 2023-06-28 12:13:47,332] Trial 133 failed with value None.\n"
     ]
    },
    {
     "name": "stdout",
     "output_type": "stream",
     "text": [
      "Running little bitch having n_conv=2, dropout=0.12924631965388572, hidden_nodes=48\n"
     ]
    },
    {
     "name": "stderr",
     "output_type": "stream",
     "text": [
      "[W 2023-06-28 12:13:47,866] Trial 134 failed with parameters: {'n_conv': 2, 'n_hidden': 2, 'hidden_nodes': 48, 'dropout': 0.12924631965388572, 'filters': 14, 'kernel_size': 13, 'batch_size': 16, 'epochs': 27} because of the following error: ValueError('One of the dimensions in the output is <= 0 due to downsampling in extra_conv_1. Consider increasing the input size. Received input shape [None, 3, 14] which would produce output shape with a zero or negative value in a dimension.').\n",
      "Traceback (most recent call last):\n",
      "  File \"C:\\Users\\emanu\\.virtualenvs\\DM2-HUE9YkAX\\Lib\\site-packages\\optuna\\study\\_optimize.py\", line 200, in _run_trial\n",
      "    value_or_values = func(trial)\n",
      "                      ^^^^^^^^^^^\n",
      "  File \"C:\\Users\\emanu\\AppData\\Local\\Temp\\ipykernel_33832\\1072382922.py\", line 34, in <lambda>\n",
      "    trial_function = lambda trial: objective_fun(trial,\n",
      "                                  ^^^^^^^^^^^^^^^^^^^^^\n",
      "  File \"C:\\Users\\emanu\\AppData\\Local\\Temp\\ipykernel_33832\\1072382922.py\", line 15, in objective_fun\n",
      "    cnn = build_model(  X.shape[1:], len(np.unique(y)),\n",
      "          ^^^^^^^^^^^^^^^^^^^^^^^^^^^^^^^^^^^^^^^^^^^^^\n",
      "  File \"C:\\Users\\emanu\\AppData\\Local\\Temp\\ipykernel_33832\\1937663146.py\", line 27, in build_model\n",
      "    model.add(Conv1D(filters=filters, kernel_size=kernel_size, activation='relu', name=f\"extra_conv_{i}\"))\n",
      "  File \"C:\\Users\\emanu\\.virtualenvs\\DM2-HUE9YkAX\\Lib\\site-packages\\tensorflow\\python\\trackable\\base.py\", line 205, in _method_wrapper\n",
      "    result = method(self, *args, **kwargs)\n",
      "             ^^^^^^^^^^^^^^^^^^^^^^^^^^^^^\n",
      "  File \"C:\\Users\\emanu\\.virtualenvs\\DM2-HUE9YkAX\\Lib\\site-packages\\keras\\utils\\traceback_utils.py\", line 70, in error_handler\n",
      "    raise e.with_traceback(filtered_tb) from None\n",
      "  File \"C:\\Users\\emanu\\.virtualenvs\\DM2-HUE9YkAX\\Lib\\site-packages\\keras\\layers\\convolutional\\base_conv.py\", line 354, in compute_output_shape\n",
      "    raise ValueError(\n",
      "ValueError: One of the dimensions in the output is <= 0 due to downsampling in extra_conv_1. Consider increasing the input size. Received input shape [None, 3, 14] which would produce output shape with a zero or negative value in a dimension.\n",
      "[W 2023-06-28 12:13:47,882] Trial 134 failed with value None.\n"
     ]
    },
    {
     "name": "stdout",
     "output_type": "stream",
     "text": [
      "Running little bitch having n_conv=2, dropout=0.14254429939581245, hidden_nodes=48\n"
     ]
    },
    {
     "name": "stderr",
     "output_type": "stream",
     "text": [
      "[W 2023-06-28 12:13:48,460] Trial 135 failed with parameters: {'n_conv': 2, 'n_hidden': 2, 'hidden_nodes': 48, 'dropout': 0.14254429939581245, 'filters': 14, 'kernel_size': 13, 'batch_size': 17, 'epochs': 88} because of the following error: ValueError('One of the dimensions in the output is <= 0 due to downsampling in extra_conv_1. Consider increasing the input size. Received input shape [None, 3, 14] which would produce output shape with a zero or negative value in a dimension.').\n",
      "Traceback (most recent call last):\n",
      "  File \"C:\\Users\\emanu\\.virtualenvs\\DM2-HUE9YkAX\\Lib\\site-packages\\optuna\\study\\_optimize.py\", line 200, in _run_trial\n",
      "    value_or_values = func(trial)\n",
      "                      ^^^^^^^^^^^\n",
      "  File \"C:\\Users\\emanu\\AppData\\Local\\Temp\\ipykernel_33832\\1072382922.py\", line 34, in <lambda>\n",
      "    trial_function = lambda trial: objective_fun(trial,\n",
      "                                  ^^^^^^^^^^^^^^^^^^^^^\n",
      "  File \"C:\\Users\\emanu\\AppData\\Local\\Temp\\ipykernel_33832\\1072382922.py\", line 15, in objective_fun\n",
      "    cnn = build_model(  X.shape[1:], len(np.unique(y)),\n",
      "          ^^^^^^^^^^^^^^^^^^^^^^^^^^^^^^^^^^^^^^^^^^^^^\n",
      "  File \"C:\\Users\\emanu\\AppData\\Local\\Temp\\ipykernel_33832\\1937663146.py\", line 27, in build_model\n",
      "    model.add(Conv1D(filters=filters, kernel_size=kernel_size, activation='relu', name=f\"extra_conv_{i}\"))\n",
      "  File \"C:\\Users\\emanu\\.virtualenvs\\DM2-HUE9YkAX\\Lib\\site-packages\\tensorflow\\python\\trackable\\base.py\", line 205, in _method_wrapper\n",
      "    result = method(self, *args, **kwargs)\n",
      "             ^^^^^^^^^^^^^^^^^^^^^^^^^^^^^\n",
      "  File \"C:\\Users\\emanu\\.virtualenvs\\DM2-HUE9YkAX\\Lib\\site-packages\\keras\\utils\\traceback_utils.py\", line 70, in error_handler\n",
      "    raise e.with_traceback(filtered_tb) from None\n",
      "  File \"C:\\Users\\emanu\\.virtualenvs\\DM2-HUE9YkAX\\Lib\\site-packages\\keras\\layers\\convolutional\\base_conv.py\", line 354, in compute_output_shape\n",
      "    raise ValueError(\n",
      "ValueError: One of the dimensions in the output is <= 0 due to downsampling in extra_conv_1. Consider increasing the input size. Received input shape [None, 3, 14] which would produce output shape with a zero or negative value in a dimension.\n",
      "[W 2023-06-28 12:13:48,471] Trial 135 failed with value None.\n"
     ]
    },
    {
     "name": "stdout",
     "output_type": "stream",
     "text": [
      "Running little bitch having n_conv=2, dropout=0.1341263935821093, hidden_nodes=42\n"
     ]
    },
    {
     "name": "stderr",
     "output_type": "stream",
     "text": [
      "[W 2023-06-28 12:13:48,964] Trial 136 failed with parameters: {'n_conv': 2, 'n_hidden': 2, 'hidden_nodes': 42, 'dropout': 0.1341263935821093, 'filters': 14, 'kernel_size': 13, 'batch_size': 16, 'epochs': 89} because of the following error: ValueError('One of the dimensions in the output is <= 0 due to downsampling in extra_conv_1. Consider increasing the input size. Received input shape [None, 3, 14] which would produce output shape with a zero or negative value in a dimension.').\n",
      "Traceback (most recent call last):\n",
      "  File \"C:\\Users\\emanu\\.virtualenvs\\DM2-HUE9YkAX\\Lib\\site-packages\\optuna\\study\\_optimize.py\", line 200, in _run_trial\n",
      "    value_or_values = func(trial)\n",
      "                      ^^^^^^^^^^^\n",
      "  File \"C:\\Users\\emanu\\AppData\\Local\\Temp\\ipykernel_33832\\1072382922.py\", line 34, in <lambda>\n",
      "    trial_function = lambda trial: objective_fun(trial,\n",
      "                                  ^^^^^^^^^^^^^^^^^^^^^\n",
      "  File \"C:\\Users\\emanu\\AppData\\Local\\Temp\\ipykernel_33832\\1072382922.py\", line 15, in objective_fun\n",
      "    cnn = build_model(  X.shape[1:], len(np.unique(y)),\n",
      "          ^^^^^^^^^^^^^^^^^^^^^^^^^^^^^^^^^^^^^^^^^^^^^\n",
      "  File \"C:\\Users\\emanu\\AppData\\Local\\Temp\\ipykernel_33832\\1937663146.py\", line 27, in build_model\n",
      "    model.add(Conv1D(filters=filters, kernel_size=kernel_size, activation='relu', name=f\"extra_conv_{i}\"))\n",
      "  File \"C:\\Users\\emanu\\.virtualenvs\\DM2-HUE9YkAX\\Lib\\site-packages\\tensorflow\\python\\trackable\\base.py\", line 205, in _method_wrapper\n",
      "    result = method(self, *args, **kwargs)\n",
      "             ^^^^^^^^^^^^^^^^^^^^^^^^^^^^^\n",
      "  File \"C:\\Users\\emanu\\.virtualenvs\\DM2-HUE9YkAX\\Lib\\site-packages\\keras\\utils\\traceback_utils.py\", line 70, in error_handler\n",
      "    raise e.with_traceback(filtered_tb) from None\n",
      "  File \"C:\\Users\\emanu\\.virtualenvs\\DM2-HUE9YkAX\\Lib\\site-packages\\keras\\layers\\convolutional\\base_conv.py\", line 354, in compute_output_shape\n",
      "    raise ValueError(\n",
      "ValueError: One of the dimensions in the output is <= 0 due to downsampling in extra_conv_1. Consider increasing the input size. Received input shape [None, 3, 14] which would produce output shape with a zero or negative value in a dimension.\n",
      "[W 2023-06-28 12:13:48,980] Trial 136 failed with value None.\n"
     ]
    },
    {
     "name": "stdout",
     "output_type": "stream",
     "text": [
      "Running little bitch having n_conv=2, dropout=0.13461481048030405, hidden_nodes=49\n"
     ]
    },
    {
     "name": "stderr",
     "output_type": "stream",
     "text": [
      "[W 2023-06-28 12:13:49,471] Trial 137 failed with parameters: {'n_conv': 2, 'n_hidden': 2, 'hidden_nodes': 49, 'dropout': 0.13461481048030405, 'filters': 14, 'kernel_size': 13, 'batch_size': 16, 'epochs': 89} because of the following error: ValueError('One of the dimensions in the output is <= 0 due to downsampling in extra_conv_1. Consider increasing the input size. Received input shape [None, 3, 14] which would produce output shape with a zero or negative value in a dimension.').\n",
      "Traceback (most recent call last):\n",
      "  File \"C:\\Users\\emanu\\.virtualenvs\\DM2-HUE9YkAX\\Lib\\site-packages\\optuna\\study\\_optimize.py\", line 200, in _run_trial\n",
      "    value_or_values = func(trial)\n",
      "                      ^^^^^^^^^^^\n",
      "  File \"C:\\Users\\emanu\\AppData\\Local\\Temp\\ipykernel_33832\\1072382922.py\", line 34, in <lambda>\n",
      "    trial_function = lambda trial: objective_fun(trial,\n",
      "                                  ^^^^^^^^^^^^^^^^^^^^^\n",
      "  File \"C:\\Users\\emanu\\AppData\\Local\\Temp\\ipykernel_33832\\1072382922.py\", line 15, in objective_fun\n",
      "    cnn = build_model(  X.shape[1:], len(np.unique(y)),\n",
      "          ^^^^^^^^^^^^^^^^^^^^^^^^^^^^^^^^^^^^^^^^^^^^^\n",
      "  File \"C:\\Users\\emanu\\AppData\\Local\\Temp\\ipykernel_33832\\1937663146.py\", line 27, in build_model\n",
      "    model.add(Conv1D(filters=filters, kernel_size=kernel_size, activation='relu', name=f\"extra_conv_{i}\"))\n",
      "  File \"C:\\Users\\emanu\\.virtualenvs\\DM2-HUE9YkAX\\Lib\\site-packages\\tensorflow\\python\\trackable\\base.py\", line 205, in _method_wrapper\n",
      "    result = method(self, *args, **kwargs)\n",
      "             ^^^^^^^^^^^^^^^^^^^^^^^^^^^^^\n",
      "  File \"C:\\Users\\emanu\\.virtualenvs\\DM2-HUE9YkAX\\Lib\\site-packages\\keras\\utils\\traceback_utils.py\", line 70, in error_handler\n",
      "    raise e.with_traceback(filtered_tb) from None\n",
      "  File \"C:\\Users\\emanu\\.virtualenvs\\DM2-HUE9YkAX\\Lib\\site-packages\\keras\\layers\\convolutional\\base_conv.py\", line 354, in compute_output_shape\n",
      "    raise ValueError(\n",
      "ValueError: One of the dimensions in the output is <= 0 due to downsampling in extra_conv_1. Consider increasing the input size. Received input shape [None, 3, 14] which would produce output shape with a zero or negative value in a dimension.\n",
      "[W 2023-06-28 12:13:49,481] Trial 137 failed with value None.\n"
     ]
    },
    {
     "name": "stdout",
     "output_type": "stream",
     "text": [
      "Running little bitch having n_conv=1, dropout=0.1367058488217737, hidden_nodes=48\n",
      "13/13 [==============================] - 1s 8ms/step\n"
     ]
    },
    {
     "name": "stderr",
     "output_type": "stream",
     "text": [
      "[I 2023-06-28 12:14:00,512] Trial 65 finished with value: 0.9767441860465116 and parameters: {'n_conv': 1, 'n_hidden': 3, 'hidden_nodes': 10, 'dropout': 0.10430610540414281, 'filters': 13, 'kernel_size': 11, 'batch_size': 16, 'epochs': 87}. Best is trial 67 with value: 0.9948320413436692.\n"
     ]
    },
    {
     "name": "stdout",
     "output_type": "stream",
     "text": [
      "Running little bitch having n_conv=2, dropout=0.13552979311374735, hidden_nodes=49\n"
     ]
    },
    {
     "name": "stderr",
     "output_type": "stream",
     "text": [
      "[W 2023-06-28 12:14:01,047] Trial 139 failed with parameters: {'n_conv': 2, 'n_hidden': 2, 'hidden_nodes': 49, 'dropout': 0.13552979311374735, 'filters': 14, 'kernel_size': 13, 'batch_size': 16, 'epochs': 28} because of the following error: ValueError('One of the dimensions in the output is <= 0 due to downsampling in extra_conv_1. Consider increasing the input size. Received input shape [None, 3, 14] which would produce output shape with a zero or negative value in a dimension.').\n",
      "Traceback (most recent call last):\n",
      "  File \"C:\\Users\\emanu\\.virtualenvs\\DM2-HUE9YkAX\\Lib\\site-packages\\optuna\\study\\_optimize.py\", line 200, in _run_trial\n",
      "    value_or_values = func(trial)\n",
      "                      ^^^^^^^^^^^\n",
      "  File \"C:\\Users\\emanu\\AppData\\Local\\Temp\\ipykernel_33832\\1072382922.py\", line 34, in <lambda>\n",
      "    trial_function = lambda trial: objective_fun(trial,\n",
      "                                  ^^^^^^^^^^^^^^^^^^^^^\n",
      "  File \"C:\\Users\\emanu\\AppData\\Local\\Temp\\ipykernel_33832\\1072382922.py\", line 15, in objective_fun\n",
      "    cnn = build_model(  X.shape[1:], len(np.unique(y)),\n",
      "          ^^^^^^^^^^^^^^^^^^^^^^^^^^^^^^^^^^^^^^^^^^^^^\n",
      "  File \"C:\\Users\\emanu\\AppData\\Local\\Temp\\ipykernel_33832\\1937663146.py\", line 27, in build_model\n",
      "    model.add(Conv1D(filters=filters, kernel_size=kernel_size, activation='relu', name=f\"extra_conv_{i}\"))\n",
      "  File \"C:\\Users\\emanu\\.virtualenvs\\DM2-HUE9YkAX\\Lib\\site-packages\\tensorflow\\python\\trackable\\base.py\", line 205, in _method_wrapper\n",
      "    result = method(self, *args, **kwargs)\n",
      "             ^^^^^^^^^^^^^^^^^^^^^^^^^^^^^\n",
      "  File \"C:\\Users\\emanu\\.virtualenvs\\DM2-HUE9YkAX\\Lib\\site-packages\\keras\\utils\\traceback_utils.py\", line 70, in error_handler\n",
      "    raise e.with_traceback(filtered_tb) from None\n",
      "  File \"C:\\Users\\emanu\\.virtualenvs\\DM2-HUE9YkAX\\Lib\\site-packages\\keras\\layers\\convolutional\\base_conv.py\", line 354, in compute_output_shape\n",
      "    raise ValueError(\n",
      "ValueError: One of the dimensions in the output is <= 0 due to downsampling in extra_conv_1. Consider increasing the input size. Received input shape [None, 3, 14] which would produce output shape with a zero or negative value in a dimension.\n",
      "[W 2023-06-28 12:14:01,071] Trial 139 failed with value None.\n"
     ]
    },
    {
     "name": "stdout",
     "output_type": "stream",
     "text": [
      "Running little bitch having n_conv=2, dropout=0.14168160226669124, hidden_nodes=50\n"
     ]
    },
    {
     "name": "stderr",
     "output_type": "stream",
     "text": [
      "[W 2023-06-28 12:14:01,607] Trial 140 failed with parameters: {'n_conv': 2, 'n_hidden': 2, 'hidden_nodes': 50, 'dropout': 0.14168160226669124, 'filters': 14, 'kernel_size': 13, 'batch_size': 16, 'epochs': 65} because of the following error: ValueError('One of the dimensions in the output is <= 0 due to downsampling in extra_conv_1. Consider increasing the input size. Received input shape [None, 3, 14] which would produce output shape with a zero or negative value in a dimension.').\n",
      "Traceback (most recent call last):\n",
      "  File \"C:\\Users\\emanu\\.virtualenvs\\DM2-HUE9YkAX\\Lib\\site-packages\\optuna\\study\\_optimize.py\", line 200, in _run_trial\n",
      "    value_or_values = func(trial)\n",
      "                      ^^^^^^^^^^^\n",
      "  File \"C:\\Users\\emanu\\AppData\\Local\\Temp\\ipykernel_33832\\1072382922.py\", line 34, in <lambda>\n",
      "    trial_function = lambda trial: objective_fun(trial,\n",
      "                                  ^^^^^^^^^^^^^^^^^^^^^\n",
      "  File \"C:\\Users\\emanu\\AppData\\Local\\Temp\\ipykernel_33832\\1072382922.py\", line 15, in objective_fun\n",
      "    cnn = build_model(  X.shape[1:], len(np.unique(y)),\n",
      "          ^^^^^^^^^^^^^^^^^^^^^^^^^^^^^^^^^^^^^^^^^^^^^\n",
      "  File \"C:\\Users\\emanu\\AppData\\Local\\Temp\\ipykernel_33832\\1937663146.py\", line 27, in build_model\n",
      "    model.add(Conv1D(filters=filters, kernel_size=kernel_size, activation='relu', name=f\"extra_conv_{i}\"))\n",
      "  File \"C:\\Users\\emanu\\.virtualenvs\\DM2-HUE9YkAX\\Lib\\site-packages\\tensorflow\\python\\trackable\\base.py\", line 205, in _method_wrapper\n",
      "    result = method(self, *args, **kwargs)\n",
      "             ^^^^^^^^^^^^^^^^^^^^^^^^^^^^^\n",
      "  File \"C:\\Users\\emanu\\.virtualenvs\\DM2-HUE9YkAX\\Lib\\site-packages\\keras\\utils\\traceback_utils.py\", line 70, in error_handler\n",
      "    raise e.with_traceback(filtered_tb) from None\n",
      "  File \"C:\\Users\\emanu\\.virtualenvs\\DM2-HUE9YkAX\\Lib\\site-packages\\keras\\layers\\convolutional\\base_conv.py\", line 354, in compute_output_shape\n",
      "    raise ValueError(\n",
      "ValueError: One of the dimensions in the output is <= 0 due to downsampling in extra_conv_1. Consider increasing the input size. Received input shape [None, 3, 14] which would produce output shape with a zero or negative value in a dimension.\n",
      "[W 2023-06-28 12:14:01,633] Trial 140 failed with value None.\n"
     ]
    },
    {
     "name": "stdout",
     "output_type": "stream",
     "text": [
      "Running little bitch having n_conv=2, dropout=0.135152507895331, hidden_nodes=49\n"
     ]
    },
    {
     "name": "stderr",
     "output_type": "stream",
     "text": [
      "[W 2023-06-28 12:14:02,481] Trial 141 failed with parameters: {'n_conv': 2, 'n_hidden': 2, 'hidden_nodes': 49, 'dropout': 0.135152507895331, 'filters': 14, 'kernel_size': 13, 'batch_size': 16, 'epochs': 27} because of the following error: ValueError('One of the dimensions in the output is <= 0 due to downsampling in extra_conv_1. Consider increasing the input size. Received input shape [None, 3, 14] which would produce output shape with a zero or negative value in a dimension.').\n",
      "Traceback (most recent call last):\n",
      "  File \"C:\\Users\\emanu\\.virtualenvs\\DM2-HUE9YkAX\\Lib\\site-packages\\optuna\\study\\_optimize.py\", line 200, in _run_trial\n",
      "    value_or_values = func(trial)\n",
      "                      ^^^^^^^^^^^\n",
      "  File \"C:\\Users\\emanu\\AppData\\Local\\Temp\\ipykernel_33832\\1072382922.py\", line 34, in <lambda>\n",
      "    trial_function = lambda trial: objective_fun(trial,\n",
      "                                  ^^^^^^^^^^^^^^^^^^^^^\n",
      "  File \"C:\\Users\\emanu\\AppData\\Local\\Temp\\ipykernel_33832\\1072382922.py\", line 15, in objective_fun\n",
      "    cnn = build_model(  X.shape[1:], len(np.unique(y)),\n",
      "          ^^^^^^^^^^^^^^^^^^^^^^^^^^^^^^^^^^^^^^^^^^^^^\n",
      "  File \"C:\\Users\\emanu\\AppData\\Local\\Temp\\ipykernel_33832\\1937663146.py\", line 27, in build_model\n",
      "    model.add(Conv1D(filters=filters, kernel_size=kernel_size, activation='relu', name=f\"extra_conv_{i}\"))\n",
      "  File \"C:\\Users\\emanu\\.virtualenvs\\DM2-HUE9YkAX\\Lib\\site-packages\\tensorflow\\python\\trackable\\base.py\", line 205, in _method_wrapper\n",
      "    result = method(self, *args, **kwargs)\n",
      "             ^^^^^^^^^^^^^^^^^^^^^^^^^^^^^\n",
      "  File \"C:\\Users\\emanu\\.virtualenvs\\DM2-HUE9YkAX\\Lib\\site-packages\\keras\\utils\\traceback_utils.py\", line 70, in error_handler\n",
      "    raise e.with_traceback(filtered_tb) from None\n",
      "  File \"C:\\Users\\emanu\\.virtualenvs\\DM2-HUE9YkAX\\Lib\\site-packages\\keras\\layers\\convolutional\\base_conv.py\", line 354, in compute_output_shape\n",
      "    raise ValueError(\n",
      "ValueError: One of the dimensions in the output is <= 0 due to downsampling in extra_conv_1. Consider increasing the input size. Received input shape [None, 3, 14] which would produce output shape with a zero or negative value in a dimension.\n",
      "[W 2023-06-28 12:14:02,483] Trial 141 failed with value None.\n"
     ]
    },
    {
     "name": "stdout",
     "output_type": "stream",
     "text": [
      "Running little bitch having n_conv=2, dropout=0.14134937439369957, hidden_nodes=45\n"
     ]
    },
    {
     "name": "stderr",
     "output_type": "stream",
     "text": [
      "[W 2023-06-28 12:14:02,957] Trial 142 failed with parameters: {'n_conv': 2, 'n_hidden': 2, 'hidden_nodes': 45, 'dropout': 0.14134937439369957, 'filters': 14, 'kernel_size': 13, 'batch_size': 16, 'epochs': 66} because of the following error: ValueError('One of the dimensions in the output is <= 0 due to downsampling in extra_conv_1. Consider increasing the input size. Received input shape [None, 3, 14] which would produce output shape with a zero or negative value in a dimension.').\n",
      "Traceback (most recent call last):\n",
      "  File \"C:\\Users\\emanu\\.virtualenvs\\DM2-HUE9YkAX\\Lib\\site-packages\\optuna\\study\\_optimize.py\", line 200, in _run_trial\n",
      "    value_or_values = func(trial)\n",
      "                      ^^^^^^^^^^^\n",
      "  File \"C:\\Users\\emanu\\AppData\\Local\\Temp\\ipykernel_33832\\1072382922.py\", line 34, in <lambda>\n",
      "    trial_function = lambda trial: objective_fun(trial,\n",
      "                                  ^^^^^^^^^^^^^^^^^^^^^\n",
      "  File \"C:\\Users\\emanu\\AppData\\Local\\Temp\\ipykernel_33832\\1072382922.py\", line 15, in objective_fun\n",
      "    cnn = build_model(  X.shape[1:], len(np.unique(y)),\n",
      "          ^^^^^^^^^^^^^^^^^^^^^^^^^^^^^^^^^^^^^^^^^^^^^\n",
      "  File \"C:\\Users\\emanu\\AppData\\Local\\Temp\\ipykernel_33832\\1937663146.py\", line 27, in build_model\n",
      "    model.add(Conv1D(filters=filters, kernel_size=kernel_size, activation='relu', name=f\"extra_conv_{i}\"))\n",
      "  File \"C:\\Users\\emanu\\.virtualenvs\\DM2-HUE9YkAX\\Lib\\site-packages\\tensorflow\\python\\trackable\\base.py\", line 205, in _method_wrapper\n",
      "    result = method(self, *args, **kwargs)\n",
      "             ^^^^^^^^^^^^^^^^^^^^^^^^^^^^^\n",
      "  File \"C:\\Users\\emanu\\.virtualenvs\\DM2-HUE9YkAX\\Lib\\site-packages\\keras\\utils\\traceback_utils.py\", line 70, in error_handler\n",
      "    raise e.with_traceback(filtered_tb) from None\n",
      "  File \"C:\\Users\\emanu\\.virtualenvs\\DM2-HUE9YkAX\\Lib\\site-packages\\keras\\layers\\convolutional\\base_conv.py\", line 354, in compute_output_shape\n",
      "    raise ValueError(\n",
      "ValueError: One of the dimensions in the output is <= 0 due to downsampling in extra_conv_1. Consider increasing the input size. Received input shape [None, 3, 14] which would produce output shape with a zero or negative value in a dimension.\n",
      "[W 2023-06-28 12:14:02,965] Trial 142 failed with value None.\n"
     ]
    },
    {
     "name": "stdout",
     "output_type": "stream",
     "text": [
      "Running little bitch having n_conv=2, dropout=0.13097237558513994, hidden_nodes=50\n"
     ]
    },
    {
     "name": "stderr",
     "output_type": "stream",
     "text": [
      "[W 2023-06-28 12:14:03,458] Trial 143 failed with parameters: {'n_conv': 2, 'n_hidden': 2, 'hidden_nodes': 50, 'dropout': 0.13097237558513994, 'filters': 15, 'kernel_size': 13, 'batch_size': 16, 'epochs': 66} because of the following error: ValueError('One of the dimensions in the output is <= 0 due to downsampling in extra_conv_1. Consider increasing the input size. Received input shape [None, 3, 15] which would produce output shape with a zero or negative value in a dimension.').\n",
      "Traceback (most recent call last):\n",
      "  File \"C:\\Users\\emanu\\.virtualenvs\\DM2-HUE9YkAX\\Lib\\site-packages\\optuna\\study\\_optimize.py\", line 200, in _run_trial\n",
      "    value_or_values = func(trial)\n",
      "                      ^^^^^^^^^^^\n",
      "  File \"C:\\Users\\emanu\\AppData\\Local\\Temp\\ipykernel_33832\\1072382922.py\", line 34, in <lambda>\n",
      "    trial_function = lambda trial: objective_fun(trial,\n",
      "                                  ^^^^^^^^^^^^^^^^^^^^^\n",
      "  File \"C:\\Users\\emanu\\AppData\\Local\\Temp\\ipykernel_33832\\1072382922.py\", line 15, in objective_fun\n",
      "    cnn = build_model(  X.shape[1:], len(np.unique(y)),\n",
      "          ^^^^^^^^^^^^^^^^^^^^^^^^^^^^^^^^^^^^^^^^^^^^^\n",
      "  File \"C:\\Users\\emanu\\AppData\\Local\\Temp\\ipykernel_33832\\1937663146.py\", line 27, in build_model\n",
      "    model.add(Conv1D(filters=filters, kernel_size=kernel_size, activation='relu', name=f\"extra_conv_{i}\"))\n",
      "  File \"C:\\Users\\emanu\\.virtualenvs\\DM2-HUE9YkAX\\Lib\\site-packages\\tensorflow\\python\\trackable\\base.py\", line 205, in _method_wrapper\n",
      "    result = method(self, *args, **kwargs)\n",
      "             ^^^^^^^^^^^^^^^^^^^^^^^^^^^^^\n",
      "  File \"C:\\Users\\emanu\\.virtualenvs\\DM2-HUE9YkAX\\Lib\\site-packages\\keras\\utils\\traceback_utils.py\", line 70, in error_handler\n",
      "    raise e.with_traceback(filtered_tb) from None\n",
      "  File \"C:\\Users\\emanu\\.virtualenvs\\DM2-HUE9YkAX\\Lib\\site-packages\\keras\\layers\\convolutional\\base_conv.py\", line 354, in compute_output_shape\n",
      "    raise ValueError(\n",
      "ValueError: One of the dimensions in the output is <= 0 due to downsampling in extra_conv_1. Consider increasing the input size. Received input shape [None, 3, 15] which would produce output shape with a zero or negative value in a dimension.\n",
      "[W 2023-06-28 12:14:03,462] Trial 143 failed with value None.\n"
     ]
    },
    {
     "name": "stdout",
     "output_type": "stream",
     "text": [
      "Running little bitch having n_conv=2, dropout=0.1370523401344559, hidden_nodes=48\n"
     ]
    },
    {
     "name": "stderr",
     "output_type": "stream",
     "text": [
      "[W 2023-06-28 12:14:03,950] Trial 144 failed with parameters: {'n_conv': 2, 'n_hidden': 2, 'hidden_nodes': 48, 'dropout': 0.1370523401344559, 'filters': 14, 'kernel_size': 13, 'batch_size': 16, 'epochs': 66} because of the following error: ValueError('One of the dimensions in the output is <= 0 due to downsampling in extra_conv_1. Consider increasing the input size. Received input shape [None, 3, 14] which would produce output shape with a zero or negative value in a dimension.').\n",
      "Traceback (most recent call last):\n",
      "  File \"C:\\Users\\emanu\\.virtualenvs\\DM2-HUE9YkAX\\Lib\\site-packages\\optuna\\study\\_optimize.py\", line 200, in _run_trial\n",
      "    value_or_values = func(trial)\n",
      "                      ^^^^^^^^^^^\n",
      "  File \"C:\\Users\\emanu\\AppData\\Local\\Temp\\ipykernel_33832\\1072382922.py\", line 34, in <lambda>\n",
      "    trial_function = lambda trial: objective_fun(trial,\n",
      "                                  ^^^^^^^^^^^^^^^^^^^^^\n",
      "  File \"C:\\Users\\emanu\\AppData\\Local\\Temp\\ipykernel_33832\\1072382922.py\", line 15, in objective_fun\n",
      "    cnn = build_model(  X.shape[1:], len(np.unique(y)),\n",
      "          ^^^^^^^^^^^^^^^^^^^^^^^^^^^^^^^^^^^^^^^^^^^^^\n",
      "  File \"C:\\Users\\emanu\\AppData\\Local\\Temp\\ipykernel_33832\\1937663146.py\", line 27, in build_model\n",
      "    model.add(Conv1D(filters=filters, kernel_size=kernel_size, activation='relu', name=f\"extra_conv_{i}\"))\n",
      "  File \"C:\\Users\\emanu\\.virtualenvs\\DM2-HUE9YkAX\\Lib\\site-packages\\tensorflow\\python\\trackable\\base.py\", line 205, in _method_wrapper\n",
      "    result = method(self, *args, **kwargs)\n",
      "             ^^^^^^^^^^^^^^^^^^^^^^^^^^^^^\n",
      "  File \"C:\\Users\\emanu\\.virtualenvs\\DM2-HUE9YkAX\\Lib\\site-packages\\keras\\utils\\traceback_utils.py\", line 70, in error_handler\n",
      "    raise e.with_traceback(filtered_tb) from None\n",
      "  File \"C:\\Users\\emanu\\.virtualenvs\\DM2-HUE9YkAX\\Lib\\site-packages\\keras\\layers\\convolutional\\base_conv.py\", line 354, in compute_output_shape\n",
      "    raise ValueError(\n",
      "ValueError: One of the dimensions in the output is <= 0 due to downsampling in extra_conv_1. Consider increasing the input size. Received input shape [None, 3, 14] which would produce output shape with a zero or negative value in a dimension.\n",
      "[W 2023-06-28 12:14:03,968] Trial 144 failed with value None.\n"
     ]
    },
    {
     "name": "stdout",
     "output_type": "stream",
     "text": [
      "Running little bitch having n_conv=2, dropout=0.13791204176104077, hidden_nodes=47\n",
      "13/13 [==============================] - 1s 7ms/step\n"
     ]
    },
    {
     "name": "stderr",
     "output_type": "stream",
     "text": [
      "[I 2023-06-28 12:14:28,203] Trial 125 finished with value: 0.9896640826873385 and parameters: {'n_conv': 2, 'n_hidden': 2, 'hidden_nodes': 49, 'dropout': 0.13414139896903127, 'filters': 13, 'kernel_size': 9, 'batch_size': 20, 'epochs': 62}. Best is trial 67 with value: 0.9948320413436692.\n"
     ]
    },
    {
     "name": "stdout",
     "output_type": "stream",
     "text": [
      "Running little bitch having n_conv=2, dropout=0.13396332490461657, hidden_nodes=91\n"
     ]
    },
    {
     "name": "stderr",
     "output_type": "stream",
     "text": [
      "[W 2023-06-28 12:14:28,725] Trial 146 failed with parameters: {'n_conv': 2, 'n_hidden': 2, 'hidden_nodes': 91, 'dropout': 0.13396332490461657, 'filters': 14, 'kernel_size': 13, 'batch_size': 16, 'epochs': 67} because of the following error: ValueError('One of the dimensions in the output is <= 0 due to downsampling in extra_conv_1. Consider increasing the input size. Received input shape [None, 3, 14] which would produce output shape with a zero or negative value in a dimension.').\n",
      "Traceback (most recent call last):\n",
      "  File \"C:\\Users\\emanu\\.virtualenvs\\DM2-HUE9YkAX\\Lib\\site-packages\\optuna\\study\\_optimize.py\", line 200, in _run_trial\n",
      "    value_or_values = func(trial)\n",
      "                      ^^^^^^^^^^^\n",
      "  File \"C:\\Users\\emanu\\AppData\\Local\\Temp\\ipykernel_33832\\1072382922.py\", line 34, in <lambda>\n",
      "    trial_function = lambda trial: objective_fun(trial,\n",
      "                                  ^^^^^^^^^^^^^^^^^^^^^\n",
      "  File \"C:\\Users\\emanu\\AppData\\Local\\Temp\\ipykernel_33832\\1072382922.py\", line 15, in objective_fun\n",
      "    cnn = build_model(  X.shape[1:], len(np.unique(y)),\n",
      "          ^^^^^^^^^^^^^^^^^^^^^^^^^^^^^^^^^^^^^^^^^^^^^\n",
      "  File \"C:\\Users\\emanu\\AppData\\Local\\Temp\\ipykernel_33832\\1937663146.py\", line 27, in build_model\n",
      "    model.add(Conv1D(filters=filters, kernel_size=kernel_size, activation='relu', name=f\"extra_conv_{i}\"))\n",
      "  File \"C:\\Users\\emanu\\.virtualenvs\\DM2-HUE9YkAX\\Lib\\site-packages\\tensorflow\\python\\trackable\\base.py\", line 205, in _method_wrapper\n",
      "    result = method(self, *args, **kwargs)\n",
      "             ^^^^^^^^^^^^^^^^^^^^^^^^^^^^^\n",
      "  File \"C:\\Users\\emanu\\.virtualenvs\\DM2-HUE9YkAX\\Lib\\site-packages\\keras\\utils\\traceback_utils.py\", line 70, in error_handler\n",
      "    raise e.with_traceback(filtered_tb) from None\n",
      "  File \"C:\\Users\\emanu\\.virtualenvs\\DM2-HUE9YkAX\\Lib\\site-packages\\keras\\layers\\convolutional\\base_conv.py\", line 354, in compute_output_shape\n",
      "    raise ValueError(\n",
      "ValueError: One of the dimensions in the output is <= 0 due to downsampling in extra_conv_1. Consider increasing the input size. Received input shape [None, 3, 14] which would produce output shape with a zero or negative value in a dimension.\n",
      "[W 2023-06-28 12:14:28,742] Trial 146 failed with value None.\n"
     ]
    },
    {
     "name": "stdout",
     "output_type": "stream",
     "text": [
      "Running little bitch having n_conv=2, dropout=0.12966095617303294, hidden_nodes=88\n"
     ]
    },
    {
     "name": "stderr",
     "output_type": "stream",
     "text": [
      "[W 2023-06-28 12:14:29,282] Trial 147 failed with parameters: {'n_conv': 2, 'n_hidden': 2, 'hidden_nodes': 88, 'dropout': 0.12966095617303294, 'filters': 14, 'kernel_size': 13, 'batch_size': 16, 'epochs': 66} because of the following error: ValueError('One of the dimensions in the output is <= 0 due to downsampling in extra_conv_1. Consider increasing the input size. Received input shape [None, 3, 14] which would produce output shape with a zero or negative value in a dimension.').\n",
      "Traceback (most recent call last):\n",
      "  File \"C:\\Users\\emanu\\.virtualenvs\\DM2-HUE9YkAX\\Lib\\site-packages\\optuna\\study\\_optimize.py\", line 200, in _run_trial\n",
      "    value_or_values = func(trial)\n",
      "                      ^^^^^^^^^^^\n",
      "  File \"C:\\Users\\emanu\\AppData\\Local\\Temp\\ipykernel_33832\\1072382922.py\", line 34, in <lambda>\n",
      "    trial_function = lambda trial: objective_fun(trial,\n",
      "                                  ^^^^^^^^^^^^^^^^^^^^^\n",
      "  File \"C:\\Users\\emanu\\AppData\\Local\\Temp\\ipykernel_33832\\1072382922.py\", line 15, in objective_fun\n",
      "    cnn = build_model(  X.shape[1:], len(np.unique(y)),\n",
      "          ^^^^^^^^^^^^^^^^^^^^^^^^^^^^^^^^^^^^^^^^^^^^^\n",
      "  File \"C:\\Users\\emanu\\AppData\\Local\\Temp\\ipykernel_33832\\1937663146.py\", line 27, in build_model\n",
      "    model.add(Conv1D(filters=filters, kernel_size=kernel_size, activation='relu', name=f\"extra_conv_{i}\"))\n",
      "  File \"C:\\Users\\emanu\\.virtualenvs\\DM2-HUE9YkAX\\Lib\\site-packages\\tensorflow\\python\\trackable\\base.py\", line 205, in _method_wrapper\n",
      "    result = method(self, *args, **kwargs)\n",
      "             ^^^^^^^^^^^^^^^^^^^^^^^^^^^^^\n",
      "  File \"C:\\Users\\emanu\\.virtualenvs\\DM2-HUE9YkAX\\Lib\\site-packages\\keras\\utils\\traceback_utils.py\", line 70, in error_handler\n",
      "    raise e.with_traceback(filtered_tb) from None\n",
      "  File \"C:\\Users\\emanu\\.virtualenvs\\DM2-HUE9YkAX\\Lib\\site-packages\\keras\\layers\\convolutional\\base_conv.py\", line 354, in compute_output_shape\n",
      "    raise ValueError(\n",
      "ValueError: One of the dimensions in the output is <= 0 due to downsampling in extra_conv_1. Consider increasing the input size. Received input shape [None, 3, 14] which would produce output shape with a zero or negative value in a dimension.\n",
      "[W 2023-06-28 12:14:29,304] Trial 147 failed with value None.\n"
     ]
    },
    {
     "name": "stdout",
     "output_type": "stream",
     "text": [
      "Running little bitch having n_conv=2, dropout=0.137107313444657, hidden_nodes=89\n"
     ]
    },
    {
     "name": "stderr",
     "output_type": "stream",
     "text": [
      "[W 2023-06-28 12:14:29,898] Trial 148 failed with parameters: {'n_conv': 2, 'n_hidden': 2, 'hidden_nodes': 89, 'dropout': 0.137107313444657, 'filters': 14, 'kernel_size': 13, 'batch_size': 16, 'epochs': 66} because of the following error: ValueError('One of the dimensions in the output is <= 0 due to downsampling in extra_conv_1. Consider increasing the input size. Received input shape [None, 3, 14] which would produce output shape with a zero or negative value in a dimension.').\n",
      "Traceback (most recent call last):\n",
      "  File \"C:\\Users\\emanu\\.virtualenvs\\DM2-HUE9YkAX\\Lib\\site-packages\\optuna\\study\\_optimize.py\", line 200, in _run_trial\n",
      "    value_or_values = func(trial)\n",
      "                      ^^^^^^^^^^^\n",
      "  File \"C:\\Users\\emanu\\AppData\\Local\\Temp\\ipykernel_33832\\1072382922.py\", line 34, in <lambda>\n",
      "    trial_function = lambda trial: objective_fun(trial,\n",
      "                                  ^^^^^^^^^^^^^^^^^^^^^\n",
      "  File \"C:\\Users\\emanu\\AppData\\Local\\Temp\\ipykernel_33832\\1072382922.py\", line 15, in objective_fun\n",
      "    cnn = build_model(  X.shape[1:], len(np.unique(y)),\n",
      "          ^^^^^^^^^^^^^^^^^^^^^^^^^^^^^^^^^^^^^^^^^^^^^\n",
      "  File \"C:\\Users\\emanu\\AppData\\Local\\Temp\\ipykernel_33832\\1937663146.py\", line 27, in build_model\n",
      "    model.add(Conv1D(filters=filters, kernel_size=kernel_size, activation='relu', name=f\"extra_conv_{i}\"))\n",
      "  File \"C:\\Users\\emanu\\.virtualenvs\\DM2-HUE9YkAX\\Lib\\site-packages\\tensorflow\\python\\trackable\\base.py\", line 205, in _method_wrapper\n",
      "    result = method(self, *args, **kwargs)\n",
      "             ^^^^^^^^^^^^^^^^^^^^^^^^^^^^^\n",
      "  File \"C:\\Users\\emanu\\.virtualenvs\\DM2-HUE9YkAX\\Lib\\site-packages\\keras\\utils\\traceback_utils.py\", line 70, in error_handler\n",
      "    raise e.with_traceback(filtered_tb) from None\n",
      "  File \"C:\\Users\\emanu\\.virtualenvs\\DM2-HUE9YkAX\\Lib\\site-packages\\keras\\layers\\convolutional\\base_conv.py\", line 354, in compute_output_shape\n",
      "    raise ValueError(\n",
      "ValueError: One of the dimensions in the output is <= 0 due to downsampling in extra_conv_1. Consider increasing the input size. Received input shape [None, 3, 14] which would produce output shape with a zero or negative value in a dimension.\n",
      "[W 2023-06-28 12:14:29,913] Trial 148 failed with value None.\n"
     ]
    },
    {
     "name": "stdout",
     "output_type": "stream",
     "text": [
      "Running little bitch having n_conv=2, dropout=0.13345706878796468, hidden_nodes=90\n"
     ]
    },
    {
     "name": "stderr",
     "output_type": "stream",
     "text": [
      "[W 2023-06-28 12:14:30,414] Trial 149 failed with parameters: {'n_conv': 2, 'n_hidden': 2, 'hidden_nodes': 90, 'dropout': 0.13345706878796468, 'filters': 14, 'kernel_size': 13, 'batch_size': 17, 'epochs': 65} because of the following error: ValueError('One of the dimensions in the output is <= 0 due to downsampling in extra_conv_1. Consider increasing the input size. Received input shape [None, 3, 14] which would produce output shape with a zero or negative value in a dimension.').\n",
      "Traceback (most recent call last):\n",
      "  File \"C:\\Users\\emanu\\.virtualenvs\\DM2-HUE9YkAX\\Lib\\site-packages\\optuna\\study\\_optimize.py\", line 200, in _run_trial\n",
      "    value_or_values = func(trial)\n",
      "                      ^^^^^^^^^^^\n",
      "  File \"C:\\Users\\emanu\\AppData\\Local\\Temp\\ipykernel_33832\\1072382922.py\", line 34, in <lambda>\n",
      "    trial_function = lambda trial: objective_fun(trial,\n",
      "                                  ^^^^^^^^^^^^^^^^^^^^^\n",
      "  File \"C:\\Users\\emanu\\AppData\\Local\\Temp\\ipykernel_33832\\1072382922.py\", line 15, in objective_fun\n",
      "    cnn = build_model(  X.shape[1:], len(np.unique(y)),\n",
      "          ^^^^^^^^^^^^^^^^^^^^^^^^^^^^^^^^^^^^^^^^^^^^^\n",
      "  File \"C:\\Users\\emanu\\AppData\\Local\\Temp\\ipykernel_33832\\1937663146.py\", line 27, in build_model\n",
      "    model.add(Conv1D(filters=filters, kernel_size=kernel_size, activation='relu', name=f\"extra_conv_{i}\"))\n",
      "  File \"C:\\Users\\emanu\\.virtualenvs\\DM2-HUE9YkAX\\Lib\\site-packages\\tensorflow\\python\\trackable\\base.py\", line 205, in _method_wrapper\n",
      "    result = method(self, *args, **kwargs)\n",
      "             ^^^^^^^^^^^^^^^^^^^^^^^^^^^^^\n",
      "  File \"C:\\Users\\emanu\\.virtualenvs\\DM2-HUE9YkAX\\Lib\\site-packages\\keras\\utils\\traceback_utils.py\", line 70, in error_handler\n",
      "    raise e.with_traceback(filtered_tb) from None\n",
      "  File \"C:\\Users\\emanu\\.virtualenvs\\DM2-HUE9YkAX\\Lib\\site-packages\\keras\\layers\\convolutional\\base_conv.py\", line 354, in compute_output_shape\n",
      "    raise ValueError(\n",
      "ValueError: One of the dimensions in the output is <= 0 due to downsampling in extra_conv_1. Consider increasing the input size. Received input shape [None, 3, 14] which would produce output shape with a zero or negative value in a dimension.\n",
      "[W 2023-06-28 12:14:30,429] Trial 149 failed with value None.\n"
     ]
    },
    {
     "name": "stdout",
     "output_type": "stream",
     "text": [
      "13/13 [==============================] - 1s 7ms/step\n"
     ]
    },
    {
     "name": "stderr",
     "output_type": "stream",
     "text": [
      "[I 2023-06-28 12:14:31,816] Trial 130 finished with value: 0.9896640826873385 and parameters: {'n_conv': 2, 'n_hidden': 2, 'hidden_nodes': 41, 'dropout': 0.12988642190738395, 'filters': 13, 'kernel_size': 9, 'batch_size': 24, 'epochs': 66}. Best is trial 67 with value: 0.9948320413436692.\n"
     ]
    },
    {
     "name": "stdout",
     "output_type": "stream",
     "text": [
      "13/13 [==============================] - 1s 5ms/step\n"
     ]
    },
    {
     "name": "stderr",
     "output_type": "stream",
     "text": [
      "[I 2023-06-28 12:14:32,462] Trial 127 finished with value: 0.9870801033591732 and parameters: {'n_conv': 2, 'n_hidden': 2, 'hidden_nodes': 53, 'dropout': 0.1392689591114547, 'filters': 13, 'kernel_size': 9, 'batch_size': 19, 'epochs': 65}. Best is trial 67 with value: 0.9948320413436692.\n"
     ]
    },
    {
     "name": "stdout",
     "output_type": "stream",
     "text": [
      "13/13 [==============================] - 1s 4ms/step\n"
     ]
    },
    {
     "name": "stderr",
     "output_type": "stream",
     "text": [
      "[I 2023-06-28 12:14:33,149] Trial 124 finished with value: 0.9844961240310077 and parameters: {'n_conv': 2, 'n_hidden': 2, 'hidden_nodes': 54, 'dropout': 0.13583498439846312, 'filters': 13, 'kernel_size': 9, 'batch_size': 19, 'epochs': 67}. Best is trial 67 with value: 0.9948320413436692.\n"
     ]
    },
    {
     "name": "stdout",
     "output_type": "stream",
     "text": [
      "13/13 [==============================] - 0s 3ms/step\n"
     ]
    },
    {
     "name": "stderr",
     "output_type": "stream",
     "text": [
      "[I 2023-06-28 12:14:35,124] Trial 128 finished with value: 0.9767441860465116 and parameters: {'n_conv': 2, 'n_hidden': 2, 'hidden_nodes': 46, 'dropout': 0.13531166311810797, 'filters': 8, 'kernel_size': 9, 'batch_size': 16, 'epochs': 64}. Best is trial 67 with value: 0.9948320413436692.\n"
     ]
    },
    {
     "name": "stdout",
     "output_type": "stream",
     "text": [
      "13/13 [==============================] - 0s 3ms/step\n"
     ]
    },
    {
     "name": "stderr",
     "output_type": "stream",
     "text": [
      "[I 2023-06-28 12:14:47,457] Trial 129 finished with value: 0.9819121447028424 and parameters: {'n_conv': 2, 'n_hidden': 2, 'hidden_nodes': 43, 'dropout': 0.13225784235679128, 'filters': 13, 'kernel_size': 9, 'batch_size': 17, 'epochs': 90}. Best is trial 67 with value: 0.9948320413436692.\n"
     ]
    },
    {
     "name": "stdout",
     "output_type": "stream",
     "text": [
      "13/13 [==============================] - 0s 2ms/step\n"
     ]
    },
    {
     "name": "stderr",
     "output_type": "stream",
     "text": [
      "[I 2023-06-28 12:14:50,504] Trial 138 finished with value: 0.9974160206718347 and parameters: {'n_conv': 1, 'n_hidden': 2, 'hidden_nodes': 48, 'dropout': 0.1367058488217737, 'filters': 14, 'kernel_size': 13, 'batch_size': 16, 'epochs': 87}. Best is trial 138 with value: 0.9974160206718347.\n"
     ]
    },
    {
     "name": "stdout",
     "output_type": "stream",
     "text": [
      "13/13 [==============================] - 0s 2ms/step\n"
     ]
    },
    {
     "name": "stderr",
     "output_type": "stream",
     "text": [
      "[I 2023-06-28 12:14:53,657] Trial 145 finished with value: 0.9922480620155039 and parameters: {'n_conv': 2, 'n_hidden': 2, 'hidden_nodes': 47, 'dropout': 0.13791204176104077, 'filters': 14, 'kernel_size': 9, 'batch_size': 16, 'epochs': 67}. Best is trial 138 with value: 0.9974160206718347.\n"
     ]
    }
   ],
   "source": [
    "# objective function to be minimized\n",
    "def objective_fun(trial, X, y, validation_X, validation_y):\n",
    "\n",
    "    n_conv = trial.suggest_int('n_conv', 0, 3)\n",
    "    n_hidden = trial.suggest_int('n_hidden', 0, 3)\n",
    "    hidden_nodes = trial.suggest_int('hidden_nodes', 8, 256)\n",
    "    dropout = trial.suggest_float('dropout', 0, 0.2)\n",
    "    filters = trial.suggest_int('filters', 2, 16)\n",
    "    kernel_size = trial.suggest_int('kernel_size', 2, 16)\n",
    "    batch_size = trial.suggest_int('batch_size', 16, 64)\n",
    "    epochs = trial.suggest_int('epochs', 5, 90)\n",
    "    \n",
    "    print(f\"Running little bitch having n_conv={n_conv}, dropout={dropout}, hidden_nodes={hidden_nodes}\")\n",
    "    \n",
    "    cnn = build_model(  X.shape[1:], len(np.unique(y)),\n",
    "                        n_hidden=n_hidden,\n",
    "                        hidden_nodes=hidden_nodes,\n",
    "                        n_conv=n_conv,\n",
    "                        dropout=dropout,\n",
    "                        filters=filters,\n",
    "                        kernel_size=kernel_size,\n",
    "                       )\n",
    "\n",
    "    cnn.fit(X, y, batch_size=batch_size, epochs=epochs, verbose=False)\n",
    "    \n",
    "    y_pred = np.argmax(cnn.predict(validation_X), axis=1)\n",
    "\n",
    "    error = accuracy_score(validation_y, y_pred)\n",
    "\n",
    "    return error\n",
    "\n",
    "\n",
    "study = optuna.create_study(direction='maximize')\n",
    "trial_function = lambda trial: objective_fun(trial, \n",
    "                                             X_train, y_train,\n",
    "                                             X_val, y_val)\n",
    "study.optimize(trial_function, n_trials=150, n_jobs=-1, catch=ValueError)"
   ]
  },
  {
   "cell_type": "code",
   "execution_count": 13,
   "metadata": {},
   "outputs": [
    {
     "data": {
      "text/plain": [
       "<matplotlib.legend.Legend at 0x1c3bafa4f90>"
      ]
     },
     "execution_count": 13,
     "metadata": {},
     "output_type": "execute_result"
    },
    {
     "data": {
      "image/png": "[encoded data removed]",
      "text/plain": [
       "<Figure size 354.331x236.22 with 1 Axes>"
      ]
     },
     "metadata": {},
     "output_type": "display_data"
    }
   ],
   "source": [
    "plt.plot(test_model.history.history[\"accuracy\"], label=\"accuracy\")\n",
    "plt.legend()"
   ]
  },
  {
   "cell_type": "code",
   "execution_count": 14,
   "metadata": {
    "ExecuteTime": {
     "end_time": "2023-06-26T15:10:30.163142Z",
     "start_time": "2023-06-26T15:10:30.161643Z"
    }
   },
   "outputs": [],
   "source": [
    "best_params = study.best_params\n",
    "# best_params = dict(n_conv=0, n_hidden=1, hidden_nodes=248, dropout=0.752200, filters=8, kernel_size=14, batch_size=19, epochs=75)"
   ]
  },
  {
   "cell_type": "code",
   "execution_count": 15,
   "metadata": {
    "ExecuteTime": {
     "end_time": "2023-06-26T15:10:35.671819Z",
     "start_time": "2023-06-26T15:10:30.163896Z"
    }
   },
   "outputs": [
    {
     "name": "stdout",
     "output_type": "stream",
     "text": [
      "Model: \"sequential_1\"\n",
      "_________________________________________________________________\n",
      " Layer (type)                Output Shape              Param #   \n",
      "=================================================================\n",
      " base_conv (Conv1D)          (None, 15, 14)            4928      \n",
      "                                                                 \n",
      " batch_normalization_3 (Batc  (None, 15, 14)           56        \n",
      " hNormalization)                                                 \n",
      "                                                                 \n",
      " activation_3 (Activation)   (None, 15, 14)            0         \n",
      "                                                                 \n",
      " extra_conv_0 (Conv1D)       (None, 3, 14)             2562      \n",
      "                                                                 \n",
      " batch_normalization_4 (Batc  (None, 3, 14)            56        \n",
      " hNormalization)                                                 \n",
      "                                                                 \n",
      " activation_4 (Activation)   (None, 3, 14)             0         \n",
      "                                                                 \n",
      " dropout_2 (Dropout)         (None, 3, 14)             0         \n",
      "                                                                 \n",
      " global_average_pooling1d_1   (None, 14)               0         \n",
      " (GlobalAveragePooling1D)                                        \n",
      "                                                                 \n",
      " dense_4 (Dense)             (None, 48)                720       \n",
      "                                                                 \n",
      " dense_5 (Dense)             (None, 48)                2352      \n",
      "                                                                 \n",
      " dense_6 (Dense)             (None, 2)                 98        \n",
      "                                                                 \n",
      "=================================================================\n",
      "Total params: 10,772\n",
      "Trainable params: 10,716\n",
      "Non-trainable params: 56\n",
      "_________________________________________________________________\n",
      "Epoch 1/87\n",
      "121/121 [==============================] - 1s 3ms/step - loss: 0.4021 - accuracy: 0.8266\n",
      "Epoch 2/87\n",
      "121/121 [==============================] - 0s 3ms/step - loss: 0.1297 - accuracy: 0.9565\n",
      "Epoch 3/87\n",
      "121/121 [==============================] - 0s 3ms/step - loss: 0.0939 - accuracy: 0.9674\n",
      "Epoch 4/87\n",
      "121/121 [==============================] - 0s 3ms/step - loss: 0.0668 - accuracy: 0.9757\n",
      "Epoch 5/87\n",
      "121/121 [==============================] - 0s 3ms/step - loss: 0.0571 - accuracy: 0.9793\n",
      "Epoch 6/87\n",
      "121/121 [==============================] - 0s 3ms/step - loss: 0.0650 - accuracy: 0.9752\n",
      "Epoch 7/87\n",
      "121/121 [==============================] - 0s 3ms/step - loss: 0.0424 - accuracy: 0.9829\n",
      "Epoch 8/87\n",
      "121/121 [==============================] - 0s 3ms/step - loss: 0.0415 - accuracy: 0.9860\n",
      "Epoch 9/87\n",
      "121/121 [==============================] - 0s 3ms/step - loss: 0.0412 - accuracy: 0.9850\n",
      "Epoch 10/87\n",
      "121/121 [==============================] - 0s 3ms/step - loss: 0.0447 - accuracy: 0.9860\n",
      "Epoch 11/87\n",
      "121/121 [==============================] - 0s 3ms/step - loss: 0.0325 - accuracy: 0.9886\n",
      "Epoch 12/87\n",
      "121/121 [==============================] - 0s 3ms/step - loss: 0.0287 - accuracy: 0.9902\n",
      "Epoch 13/87\n",
      "121/121 [==============================] - 0s 3ms/step - loss: 0.0215 - accuracy: 0.9917\n",
      "Epoch 14/87\n",
      "121/121 [==============================] - 0s 3ms/step - loss: 0.0366 - accuracy: 0.9912\n",
      "Epoch 15/87\n",
      "121/121 [==============================] - 0s 3ms/step - loss: 0.0179 - accuracy: 0.9959\n",
      "Epoch 16/87\n",
      "121/121 [==============================] - 0s 3ms/step - loss: 0.0357 - accuracy: 0.9881\n",
      "Epoch 17/87\n",
      "121/121 [==============================] - 0s 3ms/step - loss: 0.0307 - accuracy: 0.9871\n",
      "Epoch 18/87\n",
      "121/121 [==============================] - 0s 3ms/step - loss: 0.0204 - accuracy: 0.9943\n",
      "Epoch 19/87\n",
      "121/121 [==============================] - 0s 3ms/step - loss: 0.0317 - accuracy: 0.9881\n",
      "Epoch 20/87\n",
      "121/121 [==============================] - 0s 3ms/step - loss: 0.0241 - accuracy: 0.9917\n",
      "Epoch 21/87\n",
      "121/121 [==============================] - 0s 3ms/step - loss: 0.0205 - accuracy: 0.9922\n",
      "Epoch 22/87\n",
      "121/121 [==============================] - 0s 3ms/step - loss: 0.0109 - accuracy: 0.9953\n",
      "Epoch 23/87\n",
      "121/121 [==============================] - 0s 3ms/step - loss: 0.0266 - accuracy: 0.9922\n",
      "Epoch 24/87\n",
      "121/121 [==============================] - 0s 3ms/step - loss: 0.0246 - accuracy: 0.9928\n",
      "Epoch 25/87\n",
      "121/121 [==============================] - 0s 3ms/step - loss: 0.0153 - accuracy: 0.9959\n",
      "Epoch 26/87\n",
      "121/121 [==============================] - 0s 3ms/step - loss: 0.0107 - accuracy: 0.9969\n",
      "Epoch 27/87\n",
      "121/121 [==============================] - 0s 3ms/step - loss: 0.0179 - accuracy: 0.9938\n",
      "Epoch 28/87\n",
      "121/121 [==============================] - 0s 3ms/step - loss: 0.0156 - accuracy: 0.9943\n",
      "Epoch 29/87\n",
      "121/121 [==============================] - 0s 3ms/step - loss: 0.0247 - accuracy: 0.9917\n",
      "Epoch 30/87\n",
      "121/121 [==============================] - 0s 3ms/step - loss: 0.0218 - accuracy: 0.9922\n",
      "Epoch 31/87\n",
      "121/121 [==============================] - 0s 3ms/step - loss: 0.0127 - accuracy: 0.9974\n",
      "Epoch 32/87\n",
      "121/121 [==============================] - 0s 3ms/step - loss: 0.0036 - accuracy: 0.9995\n",
      "Epoch 33/87\n",
      "121/121 [==============================] - 0s 3ms/step - loss: 0.0193 - accuracy: 0.9948\n",
      "Epoch 34/87\n",
      "121/121 [==============================] - 0s 3ms/step - loss: 0.0172 - accuracy: 0.9948\n",
      "Epoch 35/87\n",
      "121/121 [==============================] - 0s 3ms/step - loss: 0.0154 - accuracy: 0.9953\n",
      "Epoch 36/87\n",
      "121/121 [==============================] - 0s 3ms/step - loss: 0.0082 - accuracy: 0.9969\n",
      "Epoch 37/87\n",
      "121/121 [==============================] - 0s 3ms/step - loss: 0.0196 - accuracy: 0.9938\n",
      "Epoch 38/87\n",
      "121/121 [==============================] - 0s 3ms/step - loss: 0.0222 - accuracy: 0.9928\n",
      "Epoch 39/87\n",
      "121/121 [==============================] - 0s 3ms/step - loss: 0.0267 - accuracy: 0.9922\n",
      "Epoch 40/87\n",
      "121/121 [==============================] - 0s 3ms/step - loss: 0.0168 - accuracy: 0.9953\n",
      "Epoch 41/87\n",
      "121/121 [==============================] - 0s 3ms/step - loss: 0.0078 - accuracy: 0.9959\n",
      "Epoch 42/87\n",
      "121/121 [==============================] - 0s 3ms/step - loss: 0.0098 - accuracy: 0.9964\n",
      "Epoch 43/87\n",
      "121/121 [==============================] - 0s 3ms/step - loss: 0.0084 - accuracy: 0.9969\n",
      "Epoch 44/87\n",
      "121/121 [==============================] - 0s 3ms/step - loss: 0.0032 - accuracy: 0.9995\n",
      "Epoch 45/87\n",
      "121/121 [==============================] - 0s 3ms/step - loss: 0.0048 - accuracy: 0.9974\n",
      "Epoch 46/87\n",
      "121/121 [==============================] - 0s 3ms/step - loss: 0.0216 - accuracy: 0.9938\n",
      "Epoch 47/87\n",
      "121/121 [==============================] - 0s 3ms/step - loss: 0.0092 - accuracy: 0.9974\n",
      "Epoch 48/87\n",
      "121/121 [==============================] - 0s 3ms/step - loss: 0.0071 - accuracy: 0.9990\n",
      "Epoch 49/87\n",
      "121/121 [==============================] - 0s 3ms/step - loss: 0.0053 - accuracy: 0.9974\n",
      "Epoch 50/87\n",
      "121/121 [==============================] - 0s 3ms/step - loss: 0.0049 - accuracy: 0.9990\n",
      "Epoch 51/87\n",
      "121/121 [==============================] - 0s 3ms/step - loss: 0.0091 - accuracy: 0.9969\n",
      "Epoch 52/87\n",
      "121/121 [==============================] - 0s 3ms/step - loss: 0.0103 - accuracy: 0.9969\n",
      "Epoch 53/87\n",
      "121/121 [==============================] - 0s 3ms/step - loss: 0.0128 - accuracy: 0.9943\n",
      "Epoch 54/87\n",
      "121/121 [==============================] - 0s 3ms/step - loss: 0.0056 - accuracy: 0.9979\n",
      "Epoch 55/87\n",
      "121/121 [==============================] - 0s 3ms/step - loss: 0.0052 - accuracy: 0.9979\n",
      "Epoch 56/87\n",
      "121/121 [==============================] - 0s 3ms/step - loss: 0.0088 - accuracy: 0.9979\n",
      "Epoch 57/87\n",
      "121/121 [==============================] - 0s 3ms/step - loss: 0.0046 - accuracy: 0.9979\n",
      "Epoch 58/87\n",
      "121/121 [==============================] - 0s 3ms/step - loss: 0.0083 - accuracy: 0.9959\n",
      "Epoch 59/87\n",
      "121/121 [==============================] - 0s 3ms/step - loss: 0.0038 - accuracy: 0.9984\n",
      "Epoch 60/87\n",
      "121/121 [==============================] - 0s 3ms/step - loss: 0.0101 - accuracy: 0.9964\n",
      "Epoch 61/87\n",
      "121/121 [==============================] - 0s 3ms/step - loss: 0.0211 - accuracy: 0.9928\n",
      "Epoch 62/87\n",
      "121/121 [==============================] - 0s 3ms/step - loss: 0.0092 - accuracy: 0.9964\n",
      "Epoch 63/87\n",
      "121/121 [==============================] - 0s 3ms/step - loss: 0.0123 - accuracy: 0.9964\n",
      "Epoch 64/87\n",
      "121/121 [==============================] - 0s 3ms/step - loss: 0.0222 - accuracy: 0.9922\n",
      "Epoch 65/87\n",
      "121/121 [==============================] - 0s 3ms/step - loss: 0.0077 - accuracy: 0.9974\n",
      "Epoch 66/87\n",
      "121/121 [==============================] - 0s 3ms/step - loss: 0.0049 - accuracy: 0.9984\n",
      "Epoch 67/87\n",
      "121/121 [==============================] - 0s 3ms/step - loss: 0.0047 - accuracy: 0.9979\n",
      "Epoch 68/87\n",
      "121/121 [==============================] - 0s 3ms/step - loss: 0.0037 - accuracy: 0.9984\n",
      "Epoch 69/87\n",
      "121/121 [==============================] - 0s 3ms/step - loss: 9.7519e-04 - accuracy: 1.0000\n",
      "Epoch 70/87\n",
      "121/121 [==============================] - 0s 3ms/step - loss: 0.0034 - accuracy: 0.9990\n",
      "Epoch 71/87\n",
      "121/121 [==============================] - 0s 3ms/step - loss: 0.0016 - accuracy: 0.9995\n",
      "Epoch 72/87\n",
      "121/121 [==============================] - 0s 3ms/step - loss: 0.0045 - accuracy: 0.9969\n",
      "Epoch 73/87\n",
      "121/121 [==============================] - 0s 3ms/step - loss: 0.0157 - accuracy: 0.9959\n",
      "Epoch 74/87\n",
      "121/121 [==============================] - 0s 3ms/step - loss: 0.0044 - accuracy: 0.9990\n",
      "Epoch 75/87\n",
      "121/121 [==============================] - 0s 3ms/step - loss: 6.0543e-04 - accuracy: 1.0000\n",
      "Epoch 76/87\n",
      "121/121 [==============================] - 0s 3ms/step - loss: 0.0011 - accuracy: 0.9995\n",
      "Epoch 77/87\n",
      "121/121 [==============================] - 0s 3ms/step - loss: 0.0018 - accuracy: 0.9995\n",
      "Epoch 78/87\n",
      "121/121 [==============================] - 0s 3ms/step - loss: 0.0077 - accuracy: 0.9974\n",
      "Epoch 79/87\n",
      "121/121 [==============================] - 0s 3ms/step - loss: 0.0040 - accuracy: 0.9974\n",
      "Epoch 80/87\n",
      "121/121 [==============================] - 0s 3ms/step - loss: 0.0083 - accuracy: 0.9969\n",
      "Epoch 81/87\n",
      "121/121 [==============================] - 0s 3ms/step - loss: 0.0096 - accuracy: 0.9969\n",
      "Epoch 82/87\n",
      "121/121 [==============================] - 0s 3ms/step - loss: 0.0053 - accuracy: 0.9984\n",
      "Epoch 83/87\n",
      "121/121 [==============================] - 0s 3ms/step - loss: 8.0223e-04 - accuracy: 1.0000\n",
      "Epoch 84/87\n",
      "121/121 [==============================] - 0s 3ms/step - loss: 0.0209 - accuracy: 0.9984\n",
      "Epoch 85/87\n",
      "121/121 [==============================] - 0s 3ms/step - loss: 0.0037 - accuracy: 0.9990\n",
      "Epoch 86/87\n",
      "121/121 [==============================] - 0s 3ms/step - loss: 0.0025 - accuracy: 0.9995\n",
      "Epoch 87/87\n",
      "121/121 [==============================] - 0s 3ms/step - loss: 0.0077 - accuracy: 0.9984\n"
     ]
    },
    {
     "data": {
      "text/plain": [
       "<keras.callbacks.History at 0x1c3c159b410>"
      ]
     },
     "execution_count": 15,
     "metadata": {},
     "output_type": "execute_result"
    }
   ],
   "source": [
    "cnn = build_model((27,27), 2, **best_params)\n",
    "cnn.summary()\n",
    "cnn.fit( np.concatenate((X_train, X_val)), np.concatenate((y_train, y_val)), \n",
    "            epochs=best_params[\"epochs\"], \n",
    "            batch_size=best_params[\"batch_size\"])"
   ]
  },
  {
   "cell_type": "code",
   "execution_count": 16,
   "metadata": {
    "ExecuteTime": {
     "end_time": "2023-06-26T15:10:35.828612Z",
     "start_time": "2023-06-26T15:10:35.675759Z"
    },
    "scrolled": false
   },
   "outputs": [
    {
     "name": "stdout",
     "output_type": "stream",
     "text": [
      "17/17 [==============================] - 0s 2ms/step\n",
      "Cohen k 0.9346153846153846\n",
      "Accuracy 0.9673076923076923\n",
      "F1-score [0.9672447  0.96737044]\n",
      "              precision    recall  f1-score   support\n",
      "\n",
      "           0       0.97      0.97      0.97       260\n",
      "           1       0.97      0.97      0.97       260\n",
      "\n",
      "    accuracy                           0.97       520\n",
      "   macro avg       0.97      0.97      0.97       520\n",
      "weighted avg       0.97      0.97      0.97       520\n",
      "\n"
     ]
    }
   ],
   "source": [
    "from sklearn.metrics import f1_score, classification_report, cohen_kappa_score\n",
    "\n",
    "y_pred = np.argmax(cnn.predict(X_test), axis=1)\n",
    "\n",
    "print(f'Cohen k {cohen_kappa_score(y_test, y_pred)}')\n",
    "print('Accuracy %s' % accuracy_score(y_test, y_pred))\n",
    "print('F1-score %s' % f1_score(y_test, y_pred, average=None))\n",
    "print(classification_report(y_test, y_pred))"
   ]
  },
  {
   "cell_type": "markdown",
   "metadata": {},
   "source": [
    "   # LIME Explainer "
   ]
  },
  {
   "cell_type": "markdown",
   "metadata": {},
   "source": [
    "## try to create an rgb matrix using one trace at once"
   ]
  },
  {
   "cell_type": "code",
   "execution_count": 130,
   "metadata": {},
   "outputs": [
    {
     "data": {
      "text/plain": [
       "(27, 27, 3)"
      ]
     },
     "execution_count": 130,
     "metadata": {},
     "output_type": "execute_result"
    }
   ],
   "source": [
    "# for i in range(len(X_test[1]))\n",
    "# Crea una matrice numpy 27x27 di valori di esempio\n",
    "matrice = X_test[1].reshape(27,27)\n",
    "# Normalizza la matrice tra 0 e 1\n",
    "min_value = np.min(matrice)\n",
    "max_value = np.max(matrice)\n",
    "matrice_normalizzata = (matrice - min_value) / (max_value - min_value)\n",
    "\n",
    "# Crea una matrice 27x27x3 con valori dei canali di colore basati sulla matrice normalizzata\n",
    "rosso = matrice_normalizzata\n",
    "verde = np.zeros_like(matrice_normalizzata)\n",
    "blu = np.zeros_like(matrice_normalizzata)\n",
    "heatmap = np.dstack((rosso, verde, blu))\n",
    "\n",
    "# Stampa la matrice 27x27x3\n",
    "# print(heatmap)\n",
    "heatmap.shape"
   ]
  },
  {
   "cell_type": "markdown",
   "metadata": {},
   "source": [
    "## setting the classifier for explain_instance using the cnn"
   ]
  },
  {
   "cell_type": "code",
   "execution_count": 18,
   "metadata": {},
   "outputs": [],
   "source": [
    "from lime import lime_image\n",
    "from PIL import Image"
   ]
  },
  {
   "cell_type": "code",
   "execution_count": 107,
   "metadata": {},
   "outputs": [],
   "source": [
    "explainer = lime_image.LimeImageExplainer()"
   ]
  },
  {
   "cell_type": "code",
   "execution_count": 144,
   "metadata": {},
   "outputs": [
    {
     "name": "stdout",
     "output_type": "stream",
     "text": [
      "1/1 [==============================] - 0s 38ms/step\n"
     ]
    },
    {
     "data": {
      "text/plain": [
       "[array([[1.1384219e-04],\n",
       "        [9.9988616e-01]], dtype=float32)]"
      ]
     },
     "execution_count": 144,
     "metadata": {},
     "output_type": "execute_result"
    }
   ],
   "source": [
    "\n",
    "def pred_fn(imgs):\n",
    "    tot_probs = []\n",
    "    for img in imgs:\n",
    "        probs = cnn.predict(img)[0].reshape(-1,1) #qui c'è l'inghippo credo!!!\n",
    "        tot_probs.append(probs)\n",
    "    return tot_probs\n",
    "pred_fn([X_test[:1]])"
   ]
  },
  {
   "cell_type": "code",
   "execution_count": 145,
   "metadata": {},
   "outputs": [
    {
     "data": {
      "application/vnd.jupyter.widget-view+json": {
       "model_id": "01fa8dd987244a179bbdb5ddbb9d9701",
       "version_major": 2,
       "version_minor": 0
      },
      "text/plain": [
       "  0%|          | 0/10 [00:00<?, ?it/s]"
      ]
     },
     "metadata": {},
     "output_type": "display_data"
    },
    {
     "ename": "InvalidArgumentError",
     "evalue": "Graph execution error:\n\nDetected at node 'sequential_1/base_conv/Conv1D' defined at (most recent call last):\n    File \"<frozen runpy>\", line 198, in _run_module_as_main\n    File \"<frozen runpy>\", line 88, in _run_code\n    File \"C:\\Users\\emanu\\.virtualenvs\\DM2-HUE9YkAX\\Lib\\site-packages\\ipykernel_launcher.py\", line 17, in <module>\n      app.launch_new_instance()\n    File \"C:\\Users\\emanu\\.virtualenvs\\DM2-HUE9YkAX\\Lib\\site-packages\\traitlets\\config\\application.py\", line 1043, in launch_instance\n      app.start()\n    File \"C:\\Users\\emanu\\.virtualenvs\\DM2-HUE9YkAX\\Lib\\site-packages\\ipykernel\\kernelapp.py\", line 725, in start\n      self.io_loop.start()\n    File \"C:\\Users\\emanu\\.virtualenvs\\DM2-HUE9YkAX\\Lib\\site-packages\\tornado\\platform\\asyncio.py\", line 195, in start\n      self.asyncio_loop.run_forever()\n    File \"C:\\Users\\emanu\\AppData\\Local\\Programs\\Python\\Python311\\Lib\\asyncio\\base_events.py\", line 604, in run_forever\n      self._run_once()\n    File \"C:\\Users\\emanu\\AppData\\Local\\Programs\\Python\\Python311\\Lib\\asyncio\\base_events.py\", line 1909, in _run_once\n      handle._run()\n    File \"C:\\Users\\emanu\\AppData\\Local\\Programs\\Python\\Python311\\Lib\\asyncio\\events.py\", line 80, in _run\n      self._context.run(self._callback, *self._args)\n    File \"C:\\Users\\emanu\\.virtualenvs\\DM2-HUE9YkAX\\Lib\\site-packages\\ipykernel\\kernelbase.py\", line 513, in dispatch_queue\n      await self.process_one()\n    File \"C:\\Users\\emanu\\.virtualenvs\\DM2-HUE9YkAX\\Lib\\site-packages\\ipykernel\\kernelbase.py\", line 502, in process_one\n      await dispatch(*args)\n    File \"C:\\Users\\emanu\\.virtualenvs\\DM2-HUE9YkAX\\Lib\\site-packages\\ipykernel\\kernelbase.py\", line 409, in dispatch_shell\n      await result\n    File \"C:\\Users\\emanu\\.virtualenvs\\DM2-HUE9YkAX\\Lib\\site-packages\\ipykernel\\kernelbase.py\", line 729, in execute_request\n      reply_content = await reply_content\n    File \"C:\\Users\\emanu\\.virtualenvs\\DM2-HUE9YkAX\\Lib\\site-packages\\ipykernel\\ipkernel.py\", line 422, in do_execute\n      res = shell.run_cell(\n    File \"C:\\Users\\emanu\\.virtualenvs\\DM2-HUE9YkAX\\Lib\\site-packages\\ipykernel\\zmqshell.py\", line 540, in run_cell\n      return super().run_cell(*args, **kwargs)\n    File \"C:\\Users\\emanu\\.virtualenvs\\DM2-HUE9YkAX\\Lib\\site-packages\\IPython\\core\\interactiveshell.py\", line 3009, in run_cell\n      result = self._run_cell(\n    File \"C:\\Users\\emanu\\.virtualenvs\\DM2-HUE9YkAX\\Lib\\site-packages\\IPython\\core\\interactiveshell.py\", line 3064, in _run_cell\n      result = runner(coro)\n    File \"C:\\Users\\emanu\\.virtualenvs\\DM2-HUE9YkAX\\Lib\\site-packages\\IPython\\core\\async_helpers.py\", line 129, in _pseudo_sync_runner\n      coro.send(None)\n    File \"C:\\Users\\emanu\\.virtualenvs\\DM2-HUE9YkAX\\Lib\\site-packages\\IPython\\core\\interactiveshell.py\", line 3269, in run_cell_async\n      has_raised = await self.run_ast_nodes(code_ast.body, cell_name,\n    File \"C:\\Users\\emanu\\.virtualenvs\\DM2-HUE9YkAX\\Lib\\site-packages\\IPython\\core\\interactiveshell.py\", line 3448, in run_ast_nodes\n      if await self.run_code(code, result, async_=asy):\n    File \"C:\\Users\\emanu\\.virtualenvs\\DM2-HUE9YkAX\\Lib\\site-packages\\IPython\\core\\interactiveshell.py\", line 3508, in run_code\n      exec(code_obj, self.user_global_ns, self.user_ns)\n    File \"C:\\Users\\emanu\\AppData\\Local\\Temp\\ipykernel_33832\\3249444266.py\", line 4, in <module>\n      pred_fn(X_test)\n    File \"C:\\Users\\emanu\\AppData\\Local\\Temp\\ipykernel_33832\\3249444266.py\", line 2, in pred_fn\n      tot_probs = cnn.predict(X_test[1].reshape(1,-1))\n    File \"C:\\Users\\emanu\\.virtualenvs\\DM2-HUE9YkAX\\Lib\\site-packages\\keras\\utils\\traceback_utils.py\", line 65, in error_handler\n      return fn(*args, **kwargs)\n    File \"C:\\Users\\emanu\\.virtualenvs\\DM2-HUE9YkAX\\Lib\\site-packages\\keras\\engine\\training.py\", line 2382, in predict\n      tmp_batch_outputs = self.predict_function(iterator)\n    File \"C:\\Users\\emanu\\.virtualenvs\\DM2-HUE9YkAX\\Lib\\site-packages\\keras\\engine\\training.py\", line 2169, in predict_function\n      return step_function(self, iterator)\n    File \"C:\\Users\\emanu\\.virtualenvs\\DM2-HUE9YkAX\\Lib\\site-packages\\keras\\engine\\training.py\", line 2155, in step_function\n      outputs = model.distribute_strategy.run(run_step, args=(data,))\n    File \"C:\\Users\\emanu\\.virtualenvs\\DM2-HUE9YkAX\\Lib\\site-packages\\keras\\engine\\training.py\", line 2143, in run_step\n      outputs = model.predict_step(data)\n    File \"C:\\Users\\emanu\\.virtualenvs\\DM2-HUE9YkAX\\Lib\\site-packages\\keras\\engine\\training.py\", line 2111, in predict_step\n      return self(x, training=False)\n    File \"C:\\Users\\emanu\\.virtualenvs\\DM2-HUE9YkAX\\Lib\\site-packages\\keras\\utils\\traceback_utils.py\", line 65, in error_handler\n      return fn(*args, **kwargs)\n    File \"C:\\Users\\emanu\\.virtualenvs\\DM2-HUE9YkAX\\Lib\\site-packages\\keras\\engine\\training.py\", line 558, in __call__\n      return super().__call__(*args, **kwargs)\n    File \"C:\\Users\\emanu\\.virtualenvs\\DM2-HUE9YkAX\\Lib\\site-packages\\keras\\utils\\traceback_utils.py\", line 65, in error_handler\n      return fn(*args, **kwargs)\n    File \"C:\\Users\\emanu\\.virtualenvs\\DM2-HUE9YkAX\\Lib\\site-packages\\keras\\engine\\base_layer.py\", line 1145, in __call__\n      outputs = call_fn(inputs, *args, **kwargs)\n    File \"C:\\Users\\emanu\\.virtualenvs\\DM2-HUE9YkAX\\Lib\\site-packages\\keras\\utils\\traceback_utils.py\", line 96, in error_handler\n      return fn(*args, **kwargs)\n    File \"C:\\Users\\emanu\\.virtualenvs\\DM2-HUE9YkAX\\Lib\\site-packages\\keras\\engine\\sequential.py\", line 412, in call\n      return super().call(inputs, training=training, mask=mask)\n    File \"C:\\Users\\emanu\\.virtualenvs\\DM2-HUE9YkAX\\Lib\\site-packages\\keras\\engine\\functional.py\", line 512, in call\n      return self._run_internal_graph(inputs, training=training, mask=mask)\n    File \"C:\\Users\\emanu\\.virtualenvs\\DM2-HUE9YkAX\\Lib\\site-packages\\keras\\engine\\functional.py\", line 669, in _run_internal_graph\n      outputs = node.layer(*args, **kwargs)\n    File \"C:\\Users\\emanu\\.virtualenvs\\DM2-HUE9YkAX\\Lib\\site-packages\\keras\\utils\\traceback_utils.py\", line 65, in error_handler\n      return fn(*args, **kwargs)\n    File \"C:\\Users\\emanu\\.virtualenvs\\DM2-HUE9YkAX\\Lib\\site-packages\\keras\\engine\\base_layer.py\", line 1145, in __call__\n      outputs = call_fn(inputs, *args, **kwargs)\n    File \"C:\\Users\\emanu\\.virtualenvs\\DM2-HUE9YkAX\\Lib\\site-packages\\keras\\utils\\traceback_utils.py\", line 96, in error_handler\n      return fn(*args, **kwargs)\n    File \"C:\\Users\\emanu\\.virtualenvs\\DM2-HUE9YkAX\\Lib\\site-packages\\keras\\layers\\convolutional\\base_conv.py\", line 290, in call\n      outputs = self.convolution_op(inputs, self.kernel)\n    File \"C:\\Users\\emanu\\.virtualenvs\\DM2-HUE9YkAX\\Lib\\site-packages\\keras\\layers\\convolutional\\base_conv.py\", line 262, in convolution_op\n      return tf.nn.convolution(\nNode: 'sequential_1/base_conv/Conv1D'\ninput depth must be evenly divisible by filter depth: 3 vs 27\n\t [[{{node sequential_1/base_conv/Conv1D}}]] [Op:__inference_predict_function_630561]",
     "output_type": "error",
     "traceback": [
      "\u001B[1;31m---------------------------------------------------------------------------\u001B[0m",
      "\u001B[1;31mInvalidArgumentError\u001B[0m                      Traceback (most recent call last)",
      "Cell \u001B[1;32mIn[145], line 2\u001B[0m\n\u001B[0;32m      1\u001B[0m \u001B[38;5;66;03m# Hide color is the color for a superpixel turned OFF. Alternatively, if it is NONE, the superpixel will be replaced by the average of its pixels\u001B[39;00m\n\u001B[1;32m----> 2\u001B[0m explanation \u001B[38;5;241m=\u001B[39m \u001B[43mexplainer\u001B[49m\u001B[38;5;241;43m.\u001B[39;49m\u001B[43mexplain_instance\u001B[49m\u001B[43m(\u001B[49m\u001B[43mheatmap\u001B[49m\u001B[43m,\u001B[49m\u001B[43m \u001B[49m\u001B[43mclassifier_fn\u001B[49m\u001B[38;5;241;43m=\u001B[39;49m\u001B[43mpred_fn\u001B[49m\u001B[43m,\u001B[49m\u001B[43m \u001B[49m\u001B[43mnum_samples\u001B[49m\u001B[38;5;241;43m=\u001B[39;49m\u001B[38;5;241;43m10\u001B[39;49m\u001B[43m)\u001B[49m\n",
      "File \u001B[1;32m~\\.virtualenvs\\DM2-HUE9YkAX\\Lib\\site-packages\\lime\\lime_image.py:198\u001B[0m, in \u001B[0;36mLimeImageExplainer.explain_instance\u001B[1;34m(self, image, classifier_fn, labels, hide_color, top_labels, num_features, num_samples, batch_size, segmentation_fn, distance_metric, model_regressor, random_seed)\u001B[0m\n\u001B[0;32m    194\u001B[0m     fudged_image[:] \u001B[38;5;241m=\u001B[39m hide_color\n\u001B[0;32m    196\u001B[0m top \u001B[38;5;241m=\u001B[39m labels\n\u001B[1;32m--> 198\u001B[0m data, labels \u001B[38;5;241m=\u001B[39m \u001B[38;5;28;43mself\u001B[39;49m\u001B[38;5;241;43m.\u001B[39;49m\u001B[43mdata_labels\u001B[49m\u001B[43m(\u001B[49m\u001B[43mimage\u001B[49m\u001B[43m,\u001B[49m\u001B[43m \u001B[49m\u001B[43mfudged_image\u001B[49m\u001B[43m,\u001B[49m\u001B[43m \u001B[49m\u001B[43msegments\u001B[49m\u001B[43m,\u001B[49m\n\u001B[0;32m    199\u001B[0m \u001B[43m                                \u001B[49m\u001B[43mclassifier_fn\u001B[49m\u001B[43m,\u001B[49m\u001B[43m \u001B[49m\u001B[43mnum_samples\u001B[49m\u001B[43m,\u001B[49m\n\u001B[0;32m    200\u001B[0m \u001B[43m                                \u001B[49m\u001B[43mbatch_size\u001B[49m\u001B[38;5;241;43m=\u001B[39;49m\u001B[43mbatch_size\u001B[49m\u001B[43m)\u001B[49m\n\u001B[0;32m    202\u001B[0m distances \u001B[38;5;241m=\u001B[39m sklearn\u001B[38;5;241m.\u001B[39mmetrics\u001B[38;5;241m.\u001B[39mpairwise_distances(\n\u001B[0;32m    203\u001B[0m     data,\n\u001B[0;32m    204\u001B[0m     data[\u001B[38;5;241m0\u001B[39m]\u001B[38;5;241m.\u001B[39mreshape(\u001B[38;5;241m1\u001B[39m, \u001B[38;5;241m-\u001B[39m\u001B[38;5;241m1\u001B[39m),\n\u001B[0;32m    205\u001B[0m     metric\u001B[38;5;241m=\u001B[39mdistance_metric\n\u001B[0;32m    206\u001B[0m )\u001B[38;5;241m.\u001B[39mravel()\n\u001B[0;32m    208\u001B[0m ret_exp \u001B[38;5;241m=\u001B[39m ImageExplanation(image, segments)\n",
      "File \u001B[1;32m~\\.virtualenvs\\DM2-HUE9YkAX\\Lib\\site-packages\\lime\\lime_image.py:261\u001B[0m, in \u001B[0;36mLimeImageExplainer.data_labels\u001B[1;34m(self, image, fudged_image, segments, classifier_fn, num_samples, batch_size)\u001B[0m\n\u001B[0;32m    259\u001B[0m imgs\u001B[38;5;241m.\u001B[39mappend(temp)\n\u001B[0;32m    260\u001B[0m \u001B[38;5;28;01mif\u001B[39;00m \u001B[38;5;28mlen\u001B[39m(imgs) \u001B[38;5;241m==\u001B[39m batch_size:\n\u001B[1;32m--> 261\u001B[0m     preds \u001B[38;5;241m=\u001B[39m \u001B[43mclassifier_fn\u001B[49m\u001B[43m(\u001B[49m\u001B[43mnp\u001B[49m\u001B[38;5;241;43m.\u001B[39;49m\u001B[43marray\u001B[49m\u001B[43m(\u001B[49m\u001B[43mimgs\u001B[49m\u001B[43m)\u001B[49m\u001B[43m)\u001B[49m\n\u001B[0;32m    262\u001B[0m     labels\u001B[38;5;241m.\u001B[39mextend(preds)\n\u001B[0;32m    263\u001B[0m     imgs \u001B[38;5;241m=\u001B[39m []\n",
      "Cell \u001B[1;32mIn[144], line 4\u001B[0m, in \u001B[0;36mpred_fn\u001B[1;34m(imgs)\u001B[0m\n\u001B[0;32m      2\u001B[0m tot_probs \u001B[38;5;241m=\u001B[39m []\n\u001B[0;32m      3\u001B[0m \u001B[38;5;28;01mfor\u001B[39;00m img \u001B[38;5;129;01min\u001B[39;00m imgs:\n\u001B[1;32m----> 4\u001B[0m     probs \u001B[38;5;241m=\u001B[39m \u001B[43mcnn\u001B[49m\u001B[38;5;241;43m.\u001B[39;49m\u001B[43mpredict\u001B[49m\u001B[43m(\u001B[49m\u001B[43mimg\u001B[49m\u001B[43m)\u001B[49m[\u001B[38;5;241m0\u001B[39m]\u001B[38;5;241m.\u001B[39mreshape(\u001B[38;5;241m-\u001B[39m\u001B[38;5;241m1\u001B[39m,\u001B[38;5;241m1\u001B[39m)\n\u001B[0;32m      5\u001B[0m     tot_probs\u001B[38;5;241m.\u001B[39mappend(probs)\n\u001B[0;32m      6\u001B[0m \u001B[38;5;28;01mreturn\u001B[39;00m tot_probs\n",
      "File \u001B[1;32m~\\.virtualenvs\\DM2-HUE9YkAX\\Lib\\site-packages\\keras\\utils\\traceback_utils.py:70\u001B[0m, in \u001B[0;36mfilter_traceback.<locals>.error_handler\u001B[1;34m(*args, **kwargs)\u001B[0m\n\u001B[0;32m     67\u001B[0m     filtered_tb \u001B[38;5;241m=\u001B[39m _process_traceback_frames(e\u001B[38;5;241m.\u001B[39m__traceback__)\n\u001B[0;32m     68\u001B[0m     \u001B[38;5;66;03m# To get the full stack trace, call:\u001B[39;00m\n\u001B[0;32m     69\u001B[0m     \u001B[38;5;66;03m# `tf.debugging.disable_traceback_filtering()`\u001B[39;00m\n\u001B[1;32m---> 70\u001B[0m     \u001B[38;5;28;01mraise\u001B[39;00m e\u001B[38;5;241m.\u001B[39mwith_traceback(filtered_tb) \u001B[38;5;28;01mfrom\u001B[39;00m \u001B[38;5;28;01mNone\u001B[39;00m\n\u001B[0;32m     71\u001B[0m \u001B[38;5;28;01mfinally\u001B[39;00m:\n\u001B[0;32m     72\u001B[0m     \u001B[38;5;28;01mdel\u001B[39;00m filtered_tb\n",
      "File \u001B[1;32m~\\.virtualenvs\\DM2-HUE9YkAX\\Lib\\site-packages\\tensorflow\\python\\eager\\execute.py:52\u001B[0m, in \u001B[0;36mquick_execute\u001B[1;34m(op_name, num_outputs, inputs, attrs, ctx, name)\u001B[0m\n\u001B[0;32m     50\u001B[0m \u001B[38;5;28;01mtry\u001B[39;00m:\n\u001B[0;32m     51\u001B[0m   ctx\u001B[38;5;241m.\u001B[39mensure_initialized()\n\u001B[1;32m---> 52\u001B[0m   tensors \u001B[38;5;241m=\u001B[39m pywrap_tfe\u001B[38;5;241m.\u001B[39mTFE_Py_Execute(ctx\u001B[38;5;241m.\u001B[39m_handle, device_name, op_name,\n\u001B[0;32m     53\u001B[0m                                       inputs, attrs, num_outputs)\n\u001B[0;32m     54\u001B[0m \u001B[38;5;28;01mexcept\u001B[39;00m core\u001B[38;5;241m.\u001B[39m_NotOkStatusException \u001B[38;5;28;01mas\u001B[39;00m e:\n\u001B[0;32m     55\u001B[0m   \u001B[38;5;28;01mif\u001B[39;00m name \u001B[38;5;129;01mis\u001B[39;00m \u001B[38;5;129;01mnot\u001B[39;00m \u001B[38;5;28;01mNone\u001B[39;00m:\n",
      "\u001B[1;31mInvalidArgumentError\u001B[0m: Graph execution error:\n\nDetected at node 'sequential_1/base_conv/Conv1D' defined at (most recent call last):\n    File \"<frozen runpy>\", line 198, in _run_module_as_main\n    File \"<frozen runpy>\", line 88, in _run_code\n    File \"C:\\Users\\emanu\\.virtualenvs\\DM2-HUE9YkAX\\Lib\\site-packages\\ipykernel_launcher.py\", line 17, in <module>\n      app.launch_new_instance()\n    File \"C:\\Users\\emanu\\.virtualenvs\\DM2-HUE9YkAX\\Lib\\site-packages\\traitlets\\config\\application.py\", line 1043, in launch_instance\n      app.start()\n    File \"C:\\Users\\emanu\\.virtualenvs\\DM2-HUE9YkAX\\Lib\\site-packages\\ipykernel\\kernelapp.py\", line 725, in start\n      self.io_loop.start()\n    File \"C:\\Users\\emanu\\.virtualenvs\\DM2-HUE9YkAX\\Lib\\site-packages\\tornado\\platform\\asyncio.py\", line 195, in start\n      self.asyncio_loop.run_forever()\n    File \"C:\\Users\\emanu\\AppData\\Local\\Programs\\Python\\Python311\\Lib\\asyncio\\base_events.py\", line 604, in run_forever\n      self._run_once()\n    File \"C:\\Users\\emanu\\AppData\\Local\\Programs\\Python\\Python311\\Lib\\asyncio\\base_events.py\", line 1909, in _run_once\n      handle._run()\n    File \"C:\\Users\\emanu\\AppData\\Local\\Programs\\Python\\Python311\\Lib\\asyncio\\events.py\", line 80, in _run\n      self._context.run(self._callback, *self._args)\n    File \"C:\\Users\\emanu\\.virtualenvs\\DM2-HUE9YkAX\\Lib\\site-packages\\ipykernel\\kernelbase.py\", line 513, in dispatch_queue\n      await self.process_one()\n    File \"C:\\Users\\emanu\\.virtualenvs\\DM2-HUE9YkAX\\Lib\\site-packages\\ipykernel\\kernelbase.py\", line 502, in process_one\n      await dispatch(*args)\n    File \"C:\\Users\\emanu\\.virtualenvs\\DM2-HUE9YkAX\\Lib\\site-packages\\ipykernel\\kernelbase.py\", line 409, in dispatch_shell\n      await result\n    File \"C:\\Users\\emanu\\.virtualenvs\\DM2-HUE9YkAX\\Lib\\site-packages\\ipykernel\\kernelbase.py\", line 729, in execute_request\n      reply_content = await reply_content\n    File \"C:\\Users\\emanu\\.virtualenvs\\DM2-HUE9YkAX\\Lib\\site-packages\\ipykernel\\ipkernel.py\", line 422, in do_execute\n      res = shell.run_cell(\n    File \"C:\\Users\\emanu\\.virtualenvs\\DM2-HUE9YkAX\\Lib\\site-packages\\ipykernel\\zmqshell.py\", line 540, in run_cell\n      return super().run_cell(*args, **kwargs)\n    File \"C:\\Users\\emanu\\.virtualenvs\\DM2-HUE9YkAX\\Lib\\site-packages\\IPython\\core\\interactiveshell.py\", line 3009, in run_cell\n      result = self._run_cell(\n    File \"C:\\Users\\emanu\\.virtualenvs\\DM2-HUE9YkAX\\Lib\\site-packages\\IPython\\core\\interactiveshell.py\", line 3064, in _run_cell\n      result = runner(coro)\n    File \"C:\\Users\\emanu\\.virtualenvs\\DM2-HUE9YkAX\\Lib\\site-packages\\IPython\\core\\async_helpers.py\", line 129, in _pseudo_sync_runner\n      coro.send(None)\n    File \"C:\\Users\\emanu\\.virtualenvs\\DM2-HUE9YkAX\\Lib\\site-packages\\IPython\\core\\interactiveshell.py\", line 3269, in run_cell_async\n      has_raised = await self.run_ast_nodes(code_ast.body, cell_name,\n    File \"C:\\Users\\emanu\\.virtualenvs\\DM2-HUE9YkAX\\Lib\\site-packages\\IPython\\core\\interactiveshell.py\", line 3448, in run_ast_nodes\n      if await self.run_code(code, result, async_=asy):\n    File \"C:\\Users\\emanu\\.virtualenvs\\DM2-HUE9YkAX\\Lib\\site-packages\\IPython\\core\\interactiveshell.py\", line 3508, in run_code\n      exec(code_obj, self.user_global_ns, self.user_ns)\n    File \"C:\\Users\\emanu\\AppData\\Local\\Temp\\ipykernel_33832\\3249444266.py\", line 4, in <module>\n      pred_fn(X_test)\n    File \"C:\\Users\\emanu\\AppData\\Local\\Temp\\ipykernel_33832\\3249444266.py\", line 2, in pred_fn\n      tot_probs = cnn.predict(X_test[1].reshape(1,-1))\n    File \"C:\\Users\\emanu\\.virtualenvs\\DM2-HUE9YkAX\\Lib\\site-packages\\keras\\utils\\traceback_utils.py\", line 65, in error_handler\n      return fn(*args, **kwargs)\n    File \"C:\\Users\\emanu\\.virtualenvs\\DM2-HUE9YkAX\\Lib\\site-packages\\keras\\engine\\training.py\", line 2382, in predict\n      tmp_batch_outputs = self.predict_function(iterator)\n    File \"C:\\Users\\emanu\\.virtualenvs\\DM2-HUE9YkAX\\Lib\\site-packages\\keras\\engine\\training.py\", line 2169, in predict_function\n      return step_function(self, iterator)\n    File \"C:\\Users\\emanu\\.virtualenvs\\DM2-HUE9YkAX\\Lib\\site-packages\\keras\\engine\\training.py\", line 2155, in step_function\n      outputs = model.distribute_strategy.run(run_step, args=(data,))\n    File \"C:\\Users\\emanu\\.virtualenvs\\DM2-HUE9YkAX\\Lib\\site-packages\\keras\\engine\\training.py\", line 2143, in run_step\n      outputs = model.predict_step(data)\n    File \"C:\\Users\\emanu\\.virtualenvs\\DM2-HUE9YkAX\\Lib\\site-packages\\keras\\engine\\training.py\", line 2111, in predict_step\n      return self(x, training=False)\n    File \"C:\\Users\\emanu\\.virtualenvs\\DM2-HUE9YkAX\\Lib\\site-packages\\keras\\utils\\traceback_utils.py\", line 65, in error_handler\n      return fn(*args, **kwargs)\n    File \"C:\\Users\\emanu\\.virtualenvs\\DM2-HUE9YkAX\\Lib\\site-packages\\keras\\engine\\training.py\", line 558, in __call__\n      return super().__call__(*args, **kwargs)\n    File \"C:\\Users\\emanu\\.virtualenvs\\DM2-HUE9YkAX\\Lib\\site-packages\\keras\\utils\\traceback_utils.py\", line 65, in error_handler\n      return fn(*args, **kwargs)\n    File \"C:\\Users\\emanu\\.virtualenvs\\DM2-HUE9YkAX\\Lib\\site-packages\\keras\\engine\\base_layer.py\", line 1145, in __call__\n      outputs = call_fn(inputs, *args, **kwargs)\n    File \"C:\\Users\\emanu\\.virtualenvs\\DM2-HUE9YkAX\\Lib\\site-packages\\keras\\utils\\traceback_utils.py\", line 96, in error_handler\n      return fn(*args, **kwargs)\n    File \"C:\\Users\\emanu\\.virtualenvs\\DM2-HUE9YkAX\\Lib\\site-packages\\keras\\engine\\sequential.py\", line 412, in call\n      return super().call(inputs, training=training, mask=mask)\n    File \"C:\\Users\\emanu\\.virtualenvs\\DM2-HUE9YkAX\\Lib\\site-packages\\keras\\engine\\functional.py\", line 512, in call\n      return self._run_internal_graph(inputs, training=training, mask=mask)\n    File \"C:\\Users\\emanu\\.virtualenvs\\DM2-HUE9YkAX\\Lib\\site-packages\\keras\\engine\\functional.py\", line 669, in _run_internal_graph\n      outputs = node.layer(*args, **kwargs)\n    File \"C:\\Users\\emanu\\.virtualenvs\\DM2-HUE9YkAX\\Lib\\site-packages\\keras\\utils\\traceback_utils.py\", line 65, in error_handler\n      return fn(*args, **kwargs)\n    File \"C:\\Users\\emanu\\.virtualenvs\\DM2-HUE9YkAX\\Lib\\site-packages\\keras\\engine\\base_layer.py\", line 1145, in __call__\n      outputs = call_fn(inputs, *args, **kwargs)\n    File \"C:\\Users\\emanu\\.virtualenvs\\DM2-HUE9YkAX\\Lib\\site-packages\\keras\\utils\\traceback_utils.py\", line 96, in error_handler\n      return fn(*args, **kwargs)\n    File \"C:\\Users\\emanu\\.virtualenvs\\DM2-HUE9YkAX\\Lib\\site-packages\\keras\\layers\\convolutional\\base_conv.py\", line 290, in call\n      outputs = self.convolution_op(inputs, self.kernel)\n    File \"C:\\Users\\emanu\\.virtualenvs\\DM2-HUE9YkAX\\Lib\\site-packages\\keras\\layers\\convolutional\\base_conv.py\", line 262, in convolution_op\n      return tf.nn.convolution(\nNode: 'sequential_1/base_conv/Conv1D'\ninput depth must be evenly divisible by filter depth: 3 vs 27\n\t [[{{node sequential_1/base_conv/Conv1D}}]] [Op:__inference_predict_function_630561]"
     ]
    }
   ],
   "source": [
    "#try building explanation with heatmap and classifier setted before\n",
    "explanation = explainer.explain_instance(heatmap, classifier_fn=pred_fn, num_samples=10)"
   ]
  },
  {
   "cell_type": "code",
   "execution_count": 53,
   "metadata": {
    "scrolled": false
   },
   "outputs": [
    {
     "ename": "NameError",
     "evalue": "name 'explanation' is not defined",
     "output_type": "error",
     "traceback": [
      "\u001B[1;31m---------------------------------------------------------------------------\u001B[0m",
      "\u001B[1;31mNameError\u001B[0m                                 Traceback (most recent call last)",
      "Cell \u001B[1;32mIn[53], line 1\u001B[0m\n\u001B[1;32m----> 1\u001B[0m temp, mask \u001B[38;5;241m=\u001B[39m \u001B[43mexplanation\u001B[49m\u001B[38;5;241m.\u001B[39mget_image_and_mask(Y_test[idx], num_features\u001B[38;5;241m=\u001B[39m\u001B[38;5;241m520\u001B[39m)\n",
      "\u001B[1;31mNameError\u001B[0m: name 'explanation' is not defined"
     ]
    }
   ],
   "source": [
    "temp, mask = explanation.get_image_and_mask(Y_test[idx], num_features=520)"
   ]
  },
  {
   "cell_type": "code",
   "execution_count": 52,
   "metadata": {
    "scrolled": true
   },
   "outputs": [
    {
     "ename": "NameError",
     "evalue": "name 'temp' is not defined",
     "output_type": "error",
     "traceback": [
      "\u001B[1;31m---------------------------------------------------------------------------\u001B[0m",
      "\u001B[1;31mNameError\u001B[0m                                 Traceback (most recent call last)",
      "Cell \u001B[1;32mIn[52], line 3\u001B[0m\n\u001B[0;32m      1\u001B[0m \u001B[38;5;28;01mfrom\u001B[39;00m \u001B[38;5;21;01mskimage\u001B[39;00m\u001B[38;5;21;01m.\u001B[39;00m\u001B[38;5;21;01msegmentation\u001B[39;00m \u001B[38;5;28;01mimport\u001B[39;00m mark_boundaries\n\u001B[1;32m----> 3\u001B[0m plt\u001B[38;5;241m.\u001B[39mimshow(mark_boundaries(\u001B[43mtemp\u001B[49m \u001B[38;5;241m/\u001B[39m \u001B[38;5;241m2\u001B[39m \u001B[38;5;241m+\u001B[39m \u001B[38;5;241m0.5\u001B[39m, mask))\n",
      "\u001B[1;31mNameError\u001B[0m: name 'temp' is not defined"
     ]
    }
   ],
   "source": [
    "from skimage.segmentation import mark_boundaries\n",
    "\n",
    "plt.imshow(mark_boundaries(temp / 2 + 0.5, mask))"
   ]
  },
  {
   "cell_type": "markdown",
   "metadata": {},
   "source": [
    "## The example thet seems to work with heatmap"
   ]
  },
  {
   "cell_type": "code",
   "execution_count": 32,
   "metadata": {},
   "outputs": [],
   "source": [
    "from skimage.color import gray2rgb, rgb2gray, label2rgb"
   ]
  },
  {
   "cell_type": "code",
   "execution_count": 58,
   "metadata": {
    "scrolled": true
   },
   "outputs": [
    {
     "name": "stdout",
     "output_type": "stream",
     "text": [
      "**Data Set Characteristics:**\n",
      "\n",
      "    :Number of Instances: 1797\n",
      "    :Number of Attributes: 64\n",
      "    :Attribute Information: 8x8 image of integer pixels in the range 0..16.\n",
      "    :Missing Attribute Values: None\n",
      "    :Creator: E. Alpaydin (alpaydin '@' boun.edu.tr)\n",
      "    :Date: July; 1998\n",
      "\n",
      "This is a copy of the test set of the UCI ML hand-written digits datasets\n",
      "https://archive.ics.uci.edu/ml/datasets/Optical+Recognition+of+Handwritten+Digits\n",
      "\n",
      "The data set contains images of hand-written digits: 10 classes where\n",
      "each class refers to a digit.\n",
      "\n",
      "Data Size :  (1797, 64) (1797,)\n",
      "Train/Test Sizes :  (1437, 64) (360, 64) (1437,) (360,)\n",
      "Test  Accuracy : 0.97\n",
      "Train Accuracy : 1.00\n",
      "\n",
      "Confusion Matrix : \n",
      "[[36  0  0  0  0  0  0  0  0  0]\n",
      " [ 1 33  0  1  1  0  0  0  0  0]\n",
      " [ 0  1 34  0  0  0  0  0  0  0]\n",
      " [ 0  0  0 36  0  0  0  0  0  1]\n",
      " [ 0  0  0  0 36  0  0  0  0  0]\n",
      " [ 0  0  0  0  1 36  0  0  0  0]\n",
      " [ 0  1  0  0  0  0 34  0  1  0]\n",
      " [ 0  0  0  0  1  0  0 34  0  1]\n",
      " [ 0  1  0  0  0  0  0  0 34  0]\n",
      " [ 0  0  0  0  0  0  0  0  0 36]]\n",
      "\n",
      "Classification Report\n",
      "              precision    recall  f1-score   support\n",
      "\n",
      "           0       0.97      1.00      0.99        36\n",
      "           1       0.92      0.92      0.92        36\n",
      "           2       1.00      0.97      0.99        35\n",
      "           3       0.97      0.97      0.97        37\n",
      "           4       0.92      1.00      0.96        36\n",
      "           5       1.00      0.97      0.99        37\n",
      "           6       1.00      0.94      0.97        36\n",
      "           7       1.00      0.94      0.97        36\n",
      "           8       0.97      0.97      0.97        35\n",
      "           9       0.95      1.00      0.97        36\n",
      "\n",
      "    accuracy                           0.97       360\n",
      "   macro avg       0.97      0.97      0.97       360\n",
      "weighted avg       0.97      0.97      0.97       360\n",
      "\n"
     ]
    }
   ],
   "source": [
    "from sklearn.datasets import load_digits\n",
    "from sklearn.metrics import classification_report, confusion_matrix\n",
    "from sklearn.ensemble import GradientBoostingClassifier\n",
    "\n",
    "digits = load_digits()\n",
    "\n",
    "for line in digits.DESCR.split(\"\\n\")[5:20]:\n",
    "    print(line)\n",
    "\n",
    "X, Y = digits.data, digits.target\n",
    "\n",
    "print(\"Data Size : \", X.shape, Y.shape)\n",
    "\n",
    "X_train, X_test, Y_train, Y_test = train_test_split(X, Y, train_size=0.80, test_size=0.2, stratify=Y, random_state=123)\n",
    "\n",
    "print(\"Train/Test Sizes : \", X_train.shape, X_test.shape, Y_train.shape, Y_test.shape)\n",
    "\n",
    "gb = GradientBoostingClassifier()\n",
    "\n",
    "gb.fit(X_train, Y_train)\n",
    "\n",
    "print(\"Test  Accuracy : %.2f\"%gb.score(X_test, Y_test))\n",
    "print(\"Train Accuracy : %.2f\"%gb.score(X_train, Y_train))\n",
    "print()\n",
    "print(\"Confusion Matrix : \")\n",
    "print(confusion_matrix(Y_test, gb.predict(X_test)))\n",
    "print()\n",
    "print(\"Classification Report\")\n",
    "print(classification_report(Y_test, gb.predict(X_test)))"
   ]
  },
  {
   "cell_type": "code",
   "execution_count": 82,
   "metadata": {},
   "outputs": [
    {
     "data": {
      "text/plain": [
       "array([[0.    , 0.    , 0.    ],\n",
       "       [0.    , 0.    , 0.    ],\n",
       "       [0.6875, 0.    , 0.    ],\n",
       "       [1.    , 0.    , 0.    ],\n",
       "       [0.5   , 0.    , 0.    ],\n",
       "       [0.    , 0.    , 0.    ],\n",
       "       [0.    , 0.    , 0.    ],\n",
       "       [0.    , 0.    , 0.    ]])"
      ]
     },
     "execution_count": 82,
     "metadata": {},
     "output_type": "execute_result"
    }
   ],
   "source": [
    "# for i in range(len(X_test[1]))\n",
    "# Crea una matrice numpy 27x27 di valori di esempio\n",
    "matrice = X_test[1].reshape(8,8)\n",
    "# Normalizza la matrice tra 0 e 1\n",
    "min_value = np.min(matrice)\n",
    "max_value = np.max(matrice)\n",
    "matrice_normalizzata = (matrice - min_value) / (max_value - min_value)\n",
    "\n",
    "# Crea una matrice 27x27x3 con valori dei canali di colore basati sulla matrice normalizzata\n",
    "rosso = matrice_normalizzata\n",
    "verde = np.zeros_like(matrice_normalizzata)\n",
    "blu = np.zeros_like(matrice_normalizzata)\n",
    "heatmap = np.dstack((rosso, verde, blu))\n",
    "\n",
    "# Stampa la matrice 27x27x3\n",
    "# print(heatmap)\n",
    "heatmap[0]"
   ]
  },
  {
   "cell_type": "code",
   "execution_count": 83,
   "metadata": {},
   "outputs": [
    {
     "data": {
      "text/plain": [
       "(8, 8, 3)"
      ]
     },
     "execution_count": 83,
     "metadata": {},
     "output_type": "execute_result"
    }
   ],
   "source": [
    "heatmap.shape"
   ]
  },
  {
   "cell_type": "code",
   "execution_count": 60,
   "metadata": {},
   "outputs": [],
   "source": [
    "from lime import lime_image\n",
    "\n",
    "explainer = lime_image.LimeImageExplainer()"
   ]
  },
  {
   "cell_type": "code",
   "execution_count": 84,
   "metadata": {
    "scrolled": true
   },
   "outputs": [
    {
     "data": {
      "text/plain": [
       "[array([6.30296654e-07, 1.66769473e-05, 1.53074127e-05, 2.54881115e-05,\n",
       "        1.24870128e-05, 4.63089858e-04, 1.58560078e-06, 1.27560664e-05,\n",
       "        5.36971208e-05, 9.99398282e-01])]"
      ]
     },
     "execution_count": 84,
     "metadata": {},
     "output_type": "execute_result"
    }
   ],
   "source": [
    "from skimage.color import gray2rgb, rgb2gray, label2rgb # since the code wants color images\n",
    "\n",
    "def pred_fn(imgs):\n",
    "    tot_probs = []\n",
    "    for img in imgs:\n",
    "        probs = gb.predict_proba(X_test[1].reshape(1, -1))[0]\n",
    "        tot_probs.append(probs)\n",
    "    return tot_probs\n",
    "\n",
    "pred_fn([X_test[1].reshape(8,8)])"
   ]
  },
  {
   "cell_type": "code",
   "execution_count": 63,
   "metadata": {},
   "outputs": [],
   "source": [
    "import random "
   ]
  },
  {
   "cell_type": "code",
   "execution_count": 89,
   "metadata": {},
   "outputs": [
    {
     "name": "stdout",
     "output_type": "stream",
     "text": [
      "Prediction :  4\n",
      "Actual :      4\n"
     ]
    },
    {
     "data": {
      "application/vnd.jupyter.widget-view+json": {
       "model_id": "fad4dfde0a354b5297bd0ab6dabbbe32",
       "version_major": 2,
       "version_minor": 0
      },
      "text/plain": [
       "  0%|          | 0/1000 [00:00<?, ?it/s]"
      ]
     },
     "metadata": {},
     "output_type": "display_data"
    }
   ],
   "source": [
    "idx = random.randint(1, len(X_test))\n",
    "\n",
    "print(\"Prediction : \", gb.predict(X_test[idx].reshape(1,-1))[0])\n",
    "print(\"Actual :     \", Y_test[idx])\n",
    "\n",
    "explanation = explainer.explain_instance(heatmap,\n",
    "                                         classifier_fn=pred_fn)\n",
    "\n",
    "temp, mask = explanation.get_image_and_mask(Y_test[2], num_features=64)"
   ]
  },
  {
   "cell_type": "code",
   "execution_count": 90,
   "metadata": {},
   "outputs": [
    {
     "data": {
      "text/plain": [
       "<matplotlib.image.AxesImage at 0x1c3d7cc6a10>"
      ]
     },
     "execution_count": 90,
     "metadata": {},
     "output_type": "execute_result"
    },
    {
     "data": {
      "image/png": "[encoded data removed]",
      "text/plain": [
       "<Figure size 354.331x236.22 with 1 Axes>"
      ]
     },
     "metadata": {},
     "output_type": "display_data"
    }
   ],
   "source": [
    "from skimage.segmentation import mark_boundaries\n",
    "\n",
    "plt.imshow(mark_boundaries(temp / 2 + 0.5, mask))"
   ]
  }
 ],
 "metadata": {
  "kernelspec": {
   "display_name": "DM2-HUE9YkAX",
   "language": "python",
   "name": "dm2-hue9ykax"
  },
  "language_info": {
   "codemirror_mode": {
    "name": "ipython",
    "version": 3
   },
   "file_extension": ".py",
   "mimetype": "text/x-python",
   "name": "python",
   "nbconvert_exporter": "python",
   "pygments_lexer": "ipython3",
   "version": "3.11.0"
  }
 },
 "nbformat": 4,
 "nbformat_minor": 1
}
