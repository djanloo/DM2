{
 "cells": [
  {
   "cell_type": "code",
   "execution_count": null,
   "metadata": {},
   "outputs": [],
   "source": [
    "# %matplotlib notebook"
   ]
  },
  {
   "cell_type": "code",
   "execution_count": 1,
   "metadata": {
    "ExecuteTime": {
     "end_time": "2023-07-10T16:53:42.834053Z",
     "start_time": "2023-07-10T16:53:42.831616Z"
    }
   },
   "outputs": [
    {
     "name": "stdout",
     "output_type": "stream",
     "text": [
      "font sizes set\n"
     ]
    }
   ],
   "source": [
    "import os\n",
    "import numpy as np\n",
    "import pandas as pd\n",
    "import matplotlib.pyplot as plt\n",
    "import seaborn as sns; sns.set()\n",
    "\n",
    "%load_ext autoreload\n",
    "%autoreload 2\n",
    "\n",
    "import sys\n",
    "sys.path.append('../')\n",
    "import default_style\n",
    "plt.rc(\"grid\", ls=\"\")"
   ]
  },
  {
   "cell_type": "code",
   "execution_count": 2,
   "metadata": {
    "ExecuteTime": {
     "end_time": "2023-07-10T16:53:42.837254Z",
     "start_time": "2023-07-10T16:53:42.834744Z"
    }
   },
   "outputs": [],
   "source": [
    "TS_DATASET_FOLDER = os.path.join('..', 'dataset')\n",
    "TS_PREPROC_FOLDER = os.path.join(TS_DATASET_FOLDER, 'preprocessed_traces')\n",
    "DF_PREPROC_FILE = os.path.join(TS_PREPROC_FOLDER, 'preproc_ts.df')\n",
    "\n",
    "IMAGE_FOLDER = os.path.join('..', 'images')\n",
    "\n",
    "TARGET = 'statement'\n",
    "TRACES = 'syllables_02_STFT'"
   ]
  },
  {
   "cell_type": "code",
   "execution_count": 3,
   "metadata": {
    "ExecuteTime": {
     "end_time": "2023-07-10T16:53:42.871717Z",
     "start_time": "2023-07-10T16:53:42.838422Z"
    }
   },
   "outputs": [
    {
     "data": {
      "text/html": [
       "<div>\n",
       "<style scoped>\n",
       "    .dataframe tbody tr th:only-of-type {\n",
       "        vertical-align: middle;\n",
       "    }\n",
       "\n",
       "    .dataframe tbody tr th {\n",
       "        vertical-align: top;\n",
       "    }\n",
       "\n",
       "    .dataframe thead th {\n",
       "        text-align: right;\n",
       "    }\n",
       "</style>\n",
       "<table border=\"1\" class=\"dataframe\">\n",
       "  <thead>\n",
       "    <tr style=\"text-align: right;\">\n",
       "      <th></th>\n",
       "      <th>vocal_channel</th>\n",
       "      <th>emotion</th>\n",
       "      <th>emotional_intensity</th>\n",
       "      <th>statement</th>\n",
       "      <th>repetition</th>\n",
       "      <th>actor</th>\n",
       "      <th>path</th>\n",
       "      <th>sex</th>\n",
       "      <th>begin_s</th>\n",
       "      <th>end_s</th>\n",
       "      <th>...</th>\n",
       "      <th>filtered_fourier_coeffs</th>\n",
       "      <th>syll_0_start_index</th>\n",
       "      <th>syll_1_start_index</th>\n",
       "      <th>syll_2_start_index</th>\n",
       "      <th>syll_3_start_index</th>\n",
       "      <th>syll_4_start_index</th>\n",
       "      <th>syll_5_start_index</th>\n",
       "      <th>syll_6_start_index</th>\n",
       "      <th>syll_7_start_index</th>\n",
       "      <th>actor_number</th>\n",
       "    </tr>\n",
       "  </thead>\n",
       "  <tbody>\n",
       "    <tr>\n",
       "      <th>0</th>\n",
       "      <td>speech</td>\n",
       "      <td>neutral</td>\n",
       "      <td>normal</td>\n",
       "      <td>kids</td>\n",
       "      <td>1st</td>\n",
       "      <td>actor_01</td>\n",
       "      <td>../dataset/Audio_Speech_Actors_01-24/Actor_01/...</td>\n",
       "      <td>M</td>\n",
       "      <td>1.009833</td>\n",
       "      <td>2.252000</td>\n",
       "      <td>...</td>\n",
       "      <td>[1.9371510e-07 1.2311473e-02 1.1168692e-02 ......</td>\n",
       "      <td>0</td>\n",
       "      <td>1128</td>\n",
       "      <td>2240</td>\n",
       "      <td>3200</td>\n",
       "      <td>4304</td>\n",
       "      <td>5208</td>\n",
       "      <td>5808</td>\n",
       "      <td>7448</td>\n",
       "      <td>1</td>\n",
       "    </tr>\n",
       "    <tr>\n",
       "      <th>1</th>\n",
       "      <td>speech</td>\n",
       "      <td>neutral</td>\n",
       "      <td>normal</td>\n",
       "      <td>kids</td>\n",
       "      <td>2nd</td>\n",
       "      <td>actor_01</td>\n",
       "      <td>../dataset/Audio_Speech_Actors_01-24/Actor_01/...</td>\n",
       "      <td>M</td>\n",
       "      <td>1.068500</td>\n",
       "      <td>2.294667</td>\n",
       "      <td>...</td>\n",
       "      <td>[3.5017729e-07 2.6198970e-02 2.5683273e-02 ......</td>\n",
       "      <td>0</td>\n",
       "      <td>2008</td>\n",
       "      <td>3208</td>\n",
       "      <td>3880</td>\n",
       "      <td>4224</td>\n",
       "      <td>5112</td>\n",
       "      <td>5800</td>\n",
       "      <td>7352</td>\n",
       "      <td>1</td>\n",
       "    </tr>\n",
       "    <tr>\n",
       "      <th>2</th>\n",
       "      <td>speech</td>\n",
       "      <td>neutral</td>\n",
       "      <td>normal</td>\n",
       "      <td>dogs</td>\n",
       "      <td>1st</td>\n",
       "      <td>actor_01</td>\n",
       "      <td>../dataset/Audio_Speech_Actors_01-24/Actor_01/...</td>\n",
       "      <td>M</td>\n",
       "      <td>1.012000</td>\n",
       "      <td>2.238500</td>\n",
       "      <td>...</td>\n",
       "      <td>[2.49594450e-07 1.23483688e-02 1.06786685e-02 ...</td>\n",
       "      <td>0</td>\n",
       "      <td>2816</td>\n",
       "      <td>3352</td>\n",
       "      <td>3912</td>\n",
       "      <td>4296</td>\n",
       "      <td>5232</td>\n",
       "      <td>5880</td>\n",
       "      <td>7352</td>\n",
       "      <td>1</td>\n",
       "    </tr>\n",
       "    <tr>\n",
       "      <th>3</th>\n",
       "      <td>speech</td>\n",
       "      <td>neutral</td>\n",
       "      <td>normal</td>\n",
       "      <td>dogs</td>\n",
       "      <td>2nd</td>\n",
       "      <td>actor_01</td>\n",
       "      <td>../dataset/Audio_Speech_Actors_01-24/Actor_01/...</td>\n",
       "      <td>M</td>\n",
       "      <td>1.008833</td>\n",
       "      <td>2.187167</td>\n",
       "      <td>...</td>\n",
       "      <td>[1.1920929e-07 1.2154780e-02 1.6620707e-02 ......</td>\n",
       "      <td>0</td>\n",
       "      <td>1664</td>\n",
       "      <td>2664</td>\n",
       "      <td>3208</td>\n",
       "      <td>3672</td>\n",
       "      <td>4840</td>\n",
       "      <td>5448</td>\n",
       "      <td>7064</td>\n",
       "      <td>1</td>\n",
       "    </tr>\n",
       "    <tr>\n",
       "      <th>4</th>\n",
       "      <td>speech</td>\n",
       "      <td>calm</td>\n",
       "      <td>normal</td>\n",
       "      <td>kids</td>\n",
       "      <td>1st</td>\n",
       "      <td>actor_01</td>\n",
       "      <td>../dataset/Audio_Speech_Actors_01-24/Actor_01/...</td>\n",
       "      <td>M</td>\n",
       "      <td>1.023667</td>\n",
       "      <td>2.534167</td>\n",
       "      <td>...</td>\n",
       "      <td>[1.1920929e-07 2.0026902e-03 7.9688808e-04 ......</td>\n",
       "      <td>0</td>\n",
       "      <td>2088</td>\n",
       "      <td>3584</td>\n",
       "      <td>4832</td>\n",
       "      <td>5800</td>\n",
       "      <td>6944</td>\n",
       "      <td>7560</td>\n",
       "      <td>9056</td>\n",
       "      <td>1</td>\n",
       "    </tr>\n",
       "  </tbody>\n",
       "</table>\n",
       "<p>5 rows × 21 columns</p>\n",
       "</div>"
      ],
      "text/plain": [
       "  vocal_channel  emotion emotional_intensity statement repetition     actor  \\\n",
       "0        speech  neutral              normal      kids        1st  actor_01   \n",
       "1        speech  neutral              normal      kids        2nd  actor_01   \n",
       "2        speech  neutral              normal      dogs        1st  actor_01   \n",
       "3        speech  neutral              normal      dogs        2nd  actor_01   \n",
       "4        speech     calm              normal      kids        1st  actor_01   \n",
       "\n",
       "                                                path sex   begin_s     end_s  \\\n",
       "0  ../dataset/Audio_Speech_Actors_01-24/Actor_01/...   M  1.009833  2.252000   \n",
       "1  ../dataset/Audio_Speech_Actors_01-24/Actor_01/...   M  1.068500  2.294667   \n",
       "2  ../dataset/Audio_Speech_Actors_01-24/Actor_01/...   M  1.012000  2.238500   \n",
       "3  ../dataset/Audio_Speech_Actors_01-24/Actor_01/...   M  1.008833  2.187167   \n",
       "4  ../dataset/Audio_Speech_Actors_01-24/Actor_01/...   M  1.023667  2.534167   \n",
       "\n",
       "   ...                            filtered_fourier_coeffs syll_0_start_index  \\\n",
       "0  ...  [1.9371510e-07 1.2311473e-02 1.1168692e-02 ......                  0   \n",
       "1  ...  [3.5017729e-07 2.6198970e-02 2.5683273e-02 ......                  0   \n",
       "2  ...  [2.49594450e-07 1.23483688e-02 1.06786685e-02 ...                  0   \n",
       "3  ...  [1.1920929e-07 1.2154780e-02 1.6620707e-02 ......                  0   \n",
       "4  ...  [1.1920929e-07 2.0026902e-03 7.9688808e-04 ......                  0   \n",
       "\n",
       "   syll_1_start_index  syll_2_start_index  syll_3_start_index  \\\n",
       "0                1128                2240                3200   \n",
       "1                2008                3208                3880   \n",
       "2                2816                3352                3912   \n",
       "3                1664                2664                3208   \n",
       "4                2088                3584                4832   \n",
       "\n",
       "   syll_4_start_index  syll_5_start_index  syll_6_start_index  \\\n",
       "0                4304                5208                5808   \n",
       "1                4224                5112                5800   \n",
       "2                4296                5232                5880   \n",
       "3                3672                4840                5448   \n",
       "4                5800                6944                7560   \n",
       "\n",
       "   syll_7_start_index  actor_number  \n",
       "0                7448             1  \n",
       "1                7352             1  \n",
       "2                7352             1  \n",
       "3                7064             1  \n",
       "4                9056             1  \n",
       "\n",
       "[5 rows x 21 columns]"
      ]
     },
     "execution_count": 3,
     "metadata": {},
     "output_type": "execute_result"
    }
   ],
   "source": [
    "df = pd.read_csv(DF_PREPROC_FILE).drop(columns=['Unnamed: 0'])\n",
    "df[\"actor_number\"] = df.actor.apply(lambda x: int(x.split(\"_\")[1]))\n",
    "df.head()"
   ]
  },
  {
   "cell_type": "code",
   "execution_count": 4,
   "metadata": {
    "ExecuteTime": {
     "end_time": "2023-07-10T16:53:42.880082Z",
     "start_time": "2023-07-10T16:53:42.872022Z"
    }
   },
   "outputs": [],
   "source": [
    "traces_dict = {}\n",
    "files = os.listdir(TS_PREPROC_FOLDER)\n",
    "\n",
    "file_path = os.path.join(TS_PREPROC_FOLDER, f\"{TRACES}.npy\")\n",
    "traces_dict[TRACES] = np.load(file_path, allow_pickle=True)"
   ]
  },
  {
   "cell_type": "code",
   "execution_count": 5,
   "metadata": {
    "ExecuteTime": {
     "end_time": "2023-07-10T16:53:42.884152Z",
     "start_time": "2023-07-10T16:53:42.880717Z"
    }
   },
   "outputs": [
    {
     "data": {
      "text/plain": [
       "(2452, 27, 27)"
      ]
     },
     "execution_count": 5,
     "metadata": {},
     "output_type": "execute_result"
    }
   ],
   "source": [
    "traces = traces_dict[TRACES]\n",
    "# traces = traces.reshape(2452, 729)\n",
    "traces.shape"
   ]
  },
  {
   "cell_type": "code",
   "execution_count": 6,
   "metadata": {
    "ExecuteTime": {
     "end_time": "2023-07-10T16:53:43.080729Z",
     "start_time": "2023-07-10T16:53:42.885163Z"
    }
   },
   "outputs": [
    {
     "data": {
      "image/png": "[encoded data removed]",
      "text/plain": [
       "<Figure size 354.331x236.22 with 1 Axes>"
      ]
     },
     "metadata": {},
     "output_type": "display_data"
    }
   ],
   "source": [
    "index = 0\n",
    "statement = df['statement'][index]\n",
    "plt.plot(traces[index])\n",
    "plt.title(f'Time series at row #{index}, statement: {statement}')\n",
    "plt.show()"
   ]
  },
  {
   "cell_type": "code",
   "execution_count": 7,
   "metadata": {
    "ExecuteTime": {
     "end_time": "2023-07-10T16:53:43.230942Z",
     "start_time": "2023-07-10T16:53:43.083006Z"
    }
   },
   "outputs": [],
   "source": [
    "from sklearn.model_selection import train_test_split\n",
    "from sklearn.preprocessing import MinMaxScaler"
   ]
  },
  {
   "cell_type": "code",
   "execution_count": 8,
   "metadata": {
    "ExecuteTime": {
     "end_time": "2023-07-10T16:53:43.245999Z",
     "start_time": "2023-07-10T16:53:43.232609Z"
    },
    "scrolled": true
   },
   "outputs": [
    {
     "data": {
      "text/plain": [
       "((1545, 27, 27), (387, 27, 27), (520, 27, 27), (1545,), (387,), (520,))"
      ]
     },
     "execution_count": 8,
     "metadata": {},
     "output_type": "execute_result"
    }
   ],
   "source": [
    "# Normalization? No, decreases (somehow) accuracy\n",
    "# old_shape = traces.shape[1:]\n",
    "# X = MinMaxScaler().fit_transform(traces.reshape(-1, old_shape[0]*old_shape[1])).reshape((-1,)+old_shape)\n",
    "X = traces\n",
    "\n",
    "# Sets tests to be over actor 19 (excluded)\n",
    "X_test = X[df.actor_number > 19]\n",
    "y_test = df[TARGET][df.actor_number > 19].to_numpy()\n",
    "\n",
    "# Sets the train and validation inside actors < 19\n",
    "X_train, X_val, y_train, y_val = train_test_split(  X[df.actor_number <= 19], \n",
    "                                                    df[TARGET][df.actor_number <= 19].to_numpy(), \n",
    "                                                    test_size=0.2, random_state=100)\n",
    "\n",
    "X_train.shape, X_val.shape, X_test.shape, y_train.shape, y_val.shape, y_test.shape"
   ]
  },
  {
   "cell_type": "code",
   "execution_count": 9,
   "metadata": {
    "ExecuteTime": {
     "end_time": "2023-07-10T16:53:43.365398Z",
     "start_time": "2023-07-10T16:53:43.250438Z"
    }
   },
   "outputs": [
    {
     "name": "stderr",
     "output_type": "stream",
     "text": [
      "/home/djanloo/.local/share/virtualenvs/DM2-PeqFRmfa/lib/python3.10/site-packages/IPython/core/events.py:93: UserWarning: This figure includes Axes that are not compatible with tight_layout, so results might be incorrect.\n",
      "  func(*args, **kwargs)\n",
      "/home/djanloo/.local/share/virtualenvs/DM2-PeqFRmfa/lib/python3.10/site-packages/IPython/core/pylabtools.py:152: UserWarning: This figure includes Axes that are not compatible with tight_layout, so results might be incorrect.\n",
      "  fig.canvas.print_figure(bytes_io, **kw)\n"
     ]
    },
    {
     "data": {
      "image/png": "[encoded data removed]",
      "text/plain": [
       "<Figure size 400x400 with 1 Axes>"
      ]
     },
     "metadata": {},
     "output_type": "display_data"
    }
   ],
   "source": [
    "plt.matshow(X_test[0]);plt.grid(ls=\"\")\n",
    "plt.title(\"axis 0 is time, axis 1 is freq\");"
   ]
  },
  {
   "cell_type": "markdown",
   "metadata": {},
   "source": [
    "# CNN for statement and syllables 0&2"
   ]
  },
  {
   "cell_type": "code",
   "execution_count": 10,
   "metadata": {
    "ExecuteTime": {
     "end_time": "2023-07-10T16:53:43.373996Z",
     "start_time": "2023-07-10T16:53:43.368644Z"
    }
   },
   "outputs": [
    {
     "name": "stdout",
     "output_type": "stream",
     "text": [
      "dogs\n",
      "0\n"
     ]
    }
   ],
   "source": [
    "from sklearn.preprocessing import LabelEncoder\n",
    "\n",
    "label_encoder = LabelEncoder()\n",
    "\n",
    "print(y_train[0])\n",
    "\n",
    "y_train = label_encoder.fit_transform(y_train)\n",
    "y_val = label_encoder.transform(y_val)\n",
    "y_test = label_encoder.transform(y_test)\n",
    "\n",
    "print(y_train[0])"
   ]
  },
  {
   "cell_type": "code",
   "execution_count": 11,
   "metadata": {
    "ExecuteTime": {
     "end_time": "2023-07-10T16:53:46.677555Z",
     "start_time": "2023-07-10T16:53:43.376976Z"
    }
   },
   "outputs": [
    {
     "name": "stderr",
     "output_type": "stream",
     "text": [
      "2023-07-11 12:01:50.918093: I tensorflow/tsl/cuda/cudart_stub.cc:28] Could not find cuda drivers on your machine, GPU will not be used.\n",
      "2023-07-11 12:01:50.994631: I tensorflow/tsl/cuda/cudart_stub.cc:28] Could not find cuda drivers on your machine, GPU will not be used.\n",
      "2023-07-11 12:01:50.995643: I tensorflow/core/platform/cpu_feature_guard.cc:182] This TensorFlow binary is optimized to use available CPU instructions in performance-critical operations.\n",
      "To enable the following instructions: AVX2 FMA, in other operations, rebuild TensorFlow with the appropriate compiler flags.\n",
      "2023-07-11 12:01:52.314580: W tensorflow/compiler/tf2tensorrt/utils/py_utils.cc:38] TF-TRT Warning: Could not find TensorRT\n"
     ]
    }
   ],
   "source": [
    "import optuna\n",
    "from keras.layers import BatchNormalization, Activation\n",
    "from keras.models import Sequential\n",
    "from keras.layers import Dense, Conv1D, Dropout, GlobalAveragePooling1D, Flatten\n",
    "from sklearn.metrics import accuracy_score\n",
    "\n",
    "def build_model(input_shape, n_categories,\n",
    "                n_conv=0, n_hidden=0, hidden_nodes=32,\n",
    "                dropout=0.01, filters=8, kernel_size=5, **kwargs):\n",
    "    \n",
    "    # Stuff must be given in (timestep, spectral_coeff) format\n",
    "    n_timesteps = input_shape[0]\n",
    "    n_features = input_shape[1]\n",
    "\n",
    "    model = Sequential()\n",
    "\n",
    "    model.add(Conv1D(filters=filters,\n",
    "                     kernel_size=kernel_size,\n",
    "                     activation='relu',\n",
    "                     input_shape=(n_timesteps, n_features),\n",
    "                     name=\"base_conv\"\n",
    "                     ))\n",
    "    model.add(BatchNormalization())\n",
    "    model.add(Activation('relu'))\n",
    "\n",
    "    for i in range(n_conv):\n",
    "        model.add(Conv1D(filters=filters, kernel_size=kernel_size, activation='relu', name=f\"extra_conv_{i}\"))\n",
    "        model.add(BatchNormalization())\n",
    "        model.add(Activation('relu'))\n",
    "\n",
    "        model.add(Dropout(dropout))\n",
    "\n",
    "#     model.add(GlobalAveragePooling1D())\n",
    "    model.add(Flatten())\n",
    "    for i in range(n_hidden):\n",
    "        model.add(Dense(hidden_nodes, activation='relu'))\n",
    "\n",
    "    model.add(Dense(n_categories, activation='softmax'))    \n",
    "    model.compile(loss='sparse_categorical_crossentropy', optimizer='adam', metrics=['accuracy'])\n",
    "    \n",
    "    return model"
   ]
  },
  {
   "cell_type": "code",
   "execution_count": 12,
   "metadata": {
    "ExecuteTime": {
     "end_time": "2023-07-10T16:53:46.682443Z",
     "start_time": "2023-07-10T16:53:46.679950Z"
    }
   },
   "outputs": [],
   "source": [
    "# objective function to be minimized\n",
    "def objective_fun(trial, X, y, validation_X, validation_y):\n",
    "\n",
    "    n_conv = trial.suggest_int('n_conv', 0, 3)\n",
    "    n_hidden = trial.suggest_int('n_hidden', 0, 3)\n",
    "    hidden_nodes = trial.suggest_int('hidden_nodes', 8, 256)\n",
    "    dropout = trial.suggest_float('dropout', 0, 0.4)\n",
    "    filters = trial.suggest_int('filters', 2, 16)\n",
    "    kernel_size = trial.suggest_int('kernel_size', 2, 16)\n",
    "    batch_size = trial.suggest_int('batch_size', 16, 64)\n",
    "    epochs = trial.suggest_int('epochs', 5, 90)\n",
    "    \n",
    "    print(f\"Running little bitch having n_conv={n_conv}, dropout={dropout}, hidden_nodes={hidden_nodes}\")\n",
    "    \n",
    "    cnn = build_model(  X.shape[1:], len(np.unique(y)),\n",
    "                        n_hidden=n_hidden,\n",
    "                        hidden_nodes=hidden_nodes,\n",
    "                        n_conv=n_conv,\n",
    "                        dropout=dropout,\n",
    "                        filters=filters,\n",
    "                        kernel_size=kernel_size,\n",
    "                       )\n",
    "\n",
    "    cnn.fit(X, y, batch_size=batch_size, epochs=epochs, verbose=False)\n",
    "    \n",
    "    y_pred = np.argmax(cnn.predict(validation_X), axis=1)\n",
    "\n",
    "    error = accuracy_score(validation_y, y_pred)\n",
    "\n",
    "    return error\n",
    "\n",
    "\n",
    "#study = optuna.create_study(direction='maximize')\n",
    "#trial_function = lambda trial: objective_fun(trial, X_train, y_train, X_val, y_val)\n",
    "#study.optimize(trial_function, n_trials=150, n_jobs=-1, catch=ValueError)"
   ]
  },
  {
   "cell_type": "code",
   "execution_count": 13,
   "metadata": {
    "ExecuteTime": {
     "end_time": "2023-07-10T16:53:46.686890Z",
     "start_time": "2023-07-10T16:53:46.683977Z"
    }
   },
   "outputs": [
    {
     "data": {
      "text/plain": [
       "{'n_conv': 1,\n",
       " 'n_hidden': 2,\n",
       " 'hidden_nodes': 52,\n",
       " 'dropout': 0.018010877668116265,\n",
       " 'filters': 12,\n",
       " 'kernel_size': 10,\n",
       " 'batch_size': 62,\n",
       " 'epochs': 82}"
      ]
     },
     "execution_count": 13,
     "metadata": {},
     "output_type": "execute_result"
    }
   ],
   "source": [
    "#best_params = study.best_params\n",
    "best_params = {'n_conv': 1,\n",
    "               'n_hidden': 2,\n",
    "               'hidden_nodes': 52,\n",
    "               'dropout': 0.018010877668116265,\n",
    "               'filters': 12,\n",
    "               'kernel_size': 10,\n",
    "               'batch_size': 62,\n",
    "               'epochs': 82}\n",
    "best_params"
   ]
  },
  {
   "cell_type": "code",
   "execution_count": 14,
   "metadata": {
    "ExecuteTime": {
     "end_time": "2023-07-10T16:53:52.471697Z",
     "start_time": "2023-07-10T16:53:46.687854Z"
    }
   },
   "outputs": [
    {
     "name": "stdout",
     "output_type": "stream",
     "text": [
      "Model: \"sequential\"\n",
      "_________________________________________________________________\n",
      " Layer (type)                Output Shape              Param #   \n",
      "=================================================================\n",
      " base_conv (Conv1D)          (None, 18, 12)            3252      \n",
      "                                                                 \n",
      " batch_normalization (BatchN  (None, 18, 12)           48        \n",
      " ormalization)                                                   \n",
      "                                                                 \n",
      " activation (Activation)     (None, 18, 12)            0         \n",
      "                                                                 \n",
      " extra_conv_0 (Conv1D)       (None, 9, 12)             1452      \n",
      "                                                                 \n",
      " batch_normalization_1 (Batc  (None, 9, 12)            48        \n",
      " hNormalization)                                                 \n",
      "                                                                 \n",
      " activation_1 (Activation)   (None, 9, 12)             0         \n",
      "                                                                 \n",
      " dropout (Dropout)           (None, 9, 12)             0         \n",
      "                                                                 \n",
      " flatten (Flatten)           (None, 108)               0         \n",
      "                                                                 \n",
      " dense (Dense)               (None, 52)                5668      \n",
      "                                                                 \n",
      " dense_1 (Dense)             (None, 52)                2756      \n",
      "                                                                 \n",
      " dense_2 (Dense)             (None, 2)                 106       \n",
      "                                                                 \n",
      "=================================================================\n",
      "Total params: 13,330\n",
      "Trainable params: 13,282\n",
      "Non-trainable params: 48\n",
      "_________________________________________________________________\n",
      "Epoch 1/30\n",
      "32/32 [==============================] - 3s 7ms/step - loss: 0.5305 - accuracy: 0.7500\n",
      "Epoch 2/30\n",
      "32/32 [==============================] - 0s 8ms/step - loss: 0.2042 - accuracy: 0.9358\n",
      "Epoch 3/30\n",
      "32/32 [==============================] - 0s 8ms/step - loss: 0.1136 - accuracy: 0.9581\n",
      "Epoch 4/30\n",
      "32/32 [==============================] - 0s 7ms/step - loss: 0.0693 - accuracy: 0.9736\n",
      "Epoch 5/30\n",
      "32/32 [==============================] - 0s 8ms/step - loss: 0.0462 - accuracy: 0.9860\n",
      "Epoch 6/30\n",
      "32/32 [==============================] - 0s 8ms/step - loss: 0.0338 - accuracy: 0.9876\n",
      "Epoch 7/30\n",
      "32/32 [==============================] - 0s 7ms/step - loss: 0.0235 - accuracy: 0.9943\n",
      "Epoch 8/30\n",
      "32/32 [==============================] - 0s 7ms/step - loss: 0.0187 - accuracy: 0.9943\n",
      "Epoch 9/30\n",
      "32/32 [==============================] - 0s 7ms/step - loss: 0.0164 - accuracy: 0.9969\n",
      "Epoch 10/30\n",
      "32/32 [==============================] - 0s 8ms/step - loss: 0.0149 - accuracy: 0.9959\n",
      "Epoch 11/30\n",
      "32/32 [==============================] - 0s 7ms/step - loss: 0.0127 - accuracy: 0.9964\n",
      "Epoch 12/30\n",
      "32/32 [==============================] - 0s 7ms/step - loss: 0.0086 - accuracy: 0.9969\n",
      "Epoch 13/30\n",
      "32/32 [==============================] - 0s 8ms/step - loss: 0.0091 - accuracy: 0.9969\n",
      "Epoch 14/30\n",
      "32/32 [==============================] - 0s 8ms/step - loss: 0.0059 - accuracy: 0.9984\n",
      "Epoch 15/30\n",
      "32/32 [==============================] - 0s 8ms/step - loss: 0.0038 - accuracy: 0.9990\n",
      "Epoch 16/30\n",
      "32/32 [==============================] - 0s 7ms/step - loss: 0.0027 - accuracy: 1.0000\n",
      "Epoch 17/30\n",
      "32/32 [==============================] - 0s 9ms/step - loss: 0.0017 - accuracy: 1.0000\n",
      "Epoch 18/30\n",
      "32/32 [==============================] - 0s 9ms/step - loss: 0.0030 - accuracy: 0.9990\n",
      "Epoch 19/30\n",
      "32/32 [==============================] - 0s 10ms/step - loss: 0.0115 - accuracy: 0.9964\n",
      "Epoch 20/30\n",
      "32/32 [==============================] - 0s 7ms/step - loss: 0.0315 - accuracy: 0.9886\n",
      "Epoch 21/30\n",
      "32/32 [==============================] - 0s 8ms/step - loss: 0.0201 - accuracy: 0.9922\n",
      "Epoch 22/30\n",
      "32/32 [==============================] - 0s 8ms/step - loss: 0.0193 - accuracy: 0.9948\n",
      "Epoch 23/30\n",
      "32/32 [==============================] - 0s 8ms/step - loss: 0.0083 - accuracy: 0.9974\n",
      "Epoch 24/30\n",
      "32/32 [==============================] - 0s 9ms/step - loss: 0.0097 - accuracy: 0.9964\n",
      "Epoch 25/30\n",
      "32/32 [==============================] - 0s 9ms/step - loss: 0.0131 - accuracy: 0.9933\n",
      "Epoch 26/30\n",
      "32/32 [==============================] - 0s 8ms/step - loss: 0.0287 - accuracy: 0.9922\n",
      "Epoch 27/30\n",
      "32/32 [==============================] - 0s 7ms/step - loss: 0.0143 - accuracy: 0.9948\n",
      "Epoch 28/30\n",
      "32/32 [==============================] - 0s 7ms/step - loss: 0.0053 - accuracy: 0.9984\n",
      "Epoch 29/30\n",
      "32/32 [==============================] - 0s 7ms/step - loss: 0.0024 - accuracy: 0.9995\n",
      "Epoch 30/30\n",
      "32/32 [==============================] - 0s 7ms/step - loss: 0.0020 - accuracy: 0.9995\n"
     ]
    }
   ],
   "source": [
    "cnn = build_model((27,27), 2, **best_params)\n",
    "cnn.summary()\n",
    "history = cnn.fit( np.concatenate((X_train, X_val)), np.concatenate((y_train, y_val)),\n",
    "            epochs=30,#best_params[\"epochs\"], \n",
    "            batch_size=best_params[\"batch_size\"])"
   ]
  },
  {
   "cell_type": "code",
   "execution_count": 15,
   "metadata": {
    "ExecuteTime": {
     "end_time": "2023-07-10T16:53:52.561698Z",
     "start_time": "2023-07-10T16:53:52.473028Z"
    },
    "scrolled": false
   },
   "outputs": [
    {
     "name": "stdout",
     "output_type": "stream",
     "text": [
      "17/17 [==============================] - 0s 3ms/step\n",
      "Cohen k 0.9192307692307692\n",
      "Accuracy 0.9596153846153846\n",
      "F1-score [0.95841584 0.96074766]\n",
      "              precision    recall  f1-score   support\n",
      "\n",
      "           0       0.99      0.93      0.96       260\n",
      "           1       0.93      0.99      0.96       260\n",
      "\n",
      "    accuracy                           0.96       520\n",
      "   macro avg       0.96      0.96      0.96       520\n",
      "weighted avg       0.96      0.96      0.96       520\n",
      "\n"
     ]
    }
   ],
   "source": [
    "from sklearn.metrics import f1_score, classification_report, cohen_kappa_score\n",
    "\n",
    "y_pred = np.argmax(cnn.predict(X_test), axis=1)\n",
    "\n",
    "print(f'Cohen k {cohen_kappa_score(y_test, y_pred)}')\n",
    "print('Accuracy %s' % accuracy_score(y_test, y_pred))\n",
    "print('F1-score %s' % f1_score(y_test, y_pred, average=None))\n",
    "print(classification_report(y_test, y_pred))"
   ]
  },
  {
   "cell_type": "code",
   "execution_count": 16,
   "metadata": {
    "ExecuteTime": {
     "end_time": "2023-07-10T16:53:52.752038Z",
     "start_time": "2023-07-10T16:53:52.563058Z"
    }
   },
   "outputs": [
    {
     "data": {
      "image/png": "[encoded data removed]",
      "text/plain": [
       "<Figure size 354.331x236.22 with 1 Axes>"
      ]
     },
     "metadata": {},
     "output_type": "display_data"
    }
   ],
   "source": [
    "from sklearn.metrics import confusion_matrix\n",
    "\n",
    "cf = confusion_matrix(y_test, y_pred)\n",
    "sns.heatmap(cf, annot=True, cmap='Accent', fmt=\".4g\", cbar=False)\n",
    "plt.xlabel('True')\n",
    "plt.ylabel('Predicted')\n",
    "plt.xticks(ticks=[0.5, 1.5], labels=['dogs', 'kids'])\n",
    "plt.yticks(ticks=[0.5, 1.5], labels=['dogs', 'kids'])\n",
    "plt.title('Confusion matrix')\n",
    "plt.savefig(os.path.join(IMAGE_FOLDER, 'ts_cnn_heatmap.pdf'), format='pdf')\n",
    "plt.show()"
   ]
  },
  {
   "cell_type": "code",
   "execution_count": 17,
   "metadata": {
    "ExecuteTime": {
     "end_time": "2023-07-10T16:53:53.070676Z",
     "start_time": "2023-07-10T16:53:52.763098Z"
    }
   },
   "outputs": [
    {
     "data": {
      "image/png": "[encoded data removed]",
      "text/plain": [
       "<Figure size 800x600 with 1 Axes>"
      ]
     },
     "metadata": {},
     "output_type": "display_data"
    },
    {
     "data": {
      "image/png": "[encoded data removed]",
      "text/plain": [
       "<Figure size 800x600 with 1 Axes>"
      ]
     },
     "metadata": {},
     "output_type": "display_data"
    }
   ],
   "source": [
    "train_loss = history.history['loss']\n",
    "#val_loss = history.history['val_loss']\n",
    "train_accuracy = history.history['accuracy']\n",
    "#val_accuracy = history.history['val_accuracy']\n",
    "\n",
    "plt.figure(figsize=(8, 6))\n",
    "plt.plot(train_loss, label='Train Loss')\n",
    "#plt.plot(val_loss, label='Validation Loss')\n",
    "plt.title('Loss')\n",
    "plt.xlabel('Epochs')\n",
    "plt.ylabel('Loss')\n",
    "plt.legend()\n",
    "plt.grid(True)\n",
    "plt.show()\n",
    "\n",
    "plt.figure(figsize=(8, 6))\n",
    "plt.plot(train_accuracy, label='Train Accuracy')\n",
    "#plt.plot(val_accuracy, label='Validation Accuracy')\n",
    "plt.title('Accuracy')\n",
    "plt.xlabel('Epochs')\n",
    "plt.ylabel('Accuracy')\n",
    "plt.legend()\n",
    "plt.grid(True)\n",
    "plt.show()"
   ]
  },
  {
   "cell_type": "markdown",
   "metadata": {},
   "source": [
    "   # LIME Explainer "
   ]
  },
  {
   "cell_type": "markdown",
   "metadata": {},
   "source": [
    "### Define a new segmentation function"
   ]
  },
  {
   "cell_type": "code",
   "execution_count": 22,
   "metadata": {
    "ExecuteTime": {
     "end_time": "2023-07-10T16:53:53.249962Z",
     "start_time": "2023-07-10T16:53:53.075468Z"
    }
   },
   "outputs": [],
   "source": [
    "from lime import lime_image\n",
    "from skimage.segmentation import mark_boundaries"
   ]
  },
  {
   "cell_type": "code",
   "execution_count": 23,
   "metadata": {
    "ExecuteTime": {
     "end_time": "2023-07-10T16:53:53.270646Z",
     "start_time": "2023-07-10T16:53:53.268618Z"
    }
   },
   "outputs": [],
   "source": [
    "import skimage\n",
    "from skimage.color import gray2rgb, rgb2gray\n",
    "\n",
    "def make_prediction(color_img):\n",
    "    gray_img = rgb2gray(color_img).reshape(-1,27,27)\n",
    "    preds = cnn.predict(gray_img, verbose=False)\n",
    "    return preds"
   ]
  },
  {
   "cell_type": "code",
   "execution_count": 24,
   "metadata": {},
   "outputs": [
    {
     "name": "stdout",
     "output_type": "stream",
     "text": [
      "[ 0  1  2  3  4  5  6  7  8  9 10]\n",
      "(27, 27)\n"
     ]
    },
    {
     "data": {
      "image/png": "[encoded data removed]",
      "text/plain": [
       "<Figure size 708.661x157.48 with 3 Axes>"
      ]
     },
     "metadata": {},
     "output_type": "display_data"
    }
   ],
   "source": [
    "# Cerco di replicare il funzionamento delle funzioni di segmentazione di skimage\n",
    "from skimage.segmentation import felzenszwalb,quickshift, checkerboard_level_set, chan_vese\n",
    "idx = 0\n",
    "fig, (axim, axdef, axours) = plt.subplots(1,3,sharey=True, figsize=default_style.BAND_FULLSIZE_FIGURE)\n",
    "axdef.axis(\"off\")\n",
    "axours.axis(\"off\")\n",
    "axim.axis(\"off\")\n",
    "\n",
    "axim.imshow(X_train[idx], cmap=\"Greys_r\", alpha=1)\n",
    "axim.set_title(\"Blanced STFT\")\n",
    "\n",
    "seg = quickshift(gray2rgb(X_train[idx]), #Prende in input un RGB\n",
    "                 kernel_size=4,\n",
    "                 max_dist=10, \n",
    "                 ratio=0.2)\n",
    "\n",
    "print(np.unique(seg)) # Escono numeri da 0 a qualcosa, sono le macchie che analizza\n",
    "print(seg.shape) # Ha la shape della figura senza RGB\n",
    "\n",
    "axdef.imshow(seg)\n",
    "axdef.set_title(\"Default segmentation\")\n",
    "\n",
    "\n",
    "# Costruisco una funzione che:\n",
    "# - prende come argomento una immagine RGB\n",
    "# - fa dei quadrati numerati\n",
    "def square_segmentation(image, square_size=7):\n",
    "    counter = 0\n",
    "    result = rgb2gray(image.copy())\n",
    "    for i in range(image.shape[0]//square_size + 1):\n",
    "        for j in range(image.shape[1]//square_size + 1):\n",
    "            result[i*square_size:min((i+1)*square_size, image.shape[0]), j*square_size:min((j+1)*square_size, image.shape[0])] = counter\n",
    "            counter+=1\n",
    "    return result.astype(int)\n",
    "\n",
    "seg = square_segmentation(gray2rgb(X_train[idx]))\n",
    "\n",
    "axours.imshow(seg)\n",
    "axours.set_title(\"Square segmentation\")\n",
    "\n",
    "fig.savefig(\"../images/stft_segmentation.pdf\")"
   ]
  },
  {
   "cell_type": "markdown",
   "metadata": {},
   "source": [
    "Use the default LIME wrapper for segmentation functions"
   ]
  },
  {
   "cell_type": "code",
   "execution_count": 25,
   "metadata": {},
   "outputs": [],
   "source": [
    "from lime.wrappers.scikit_image import BaseWrapper\n",
    "\n",
    "class SquareSegmentationAlgorithm(BaseWrapper):\n",
    "\n",
    "    def __init__(self, **target_params):\n",
    "        self.algo_type = \"squerez\"     \n",
    "        BaseWrapper.__init__(self, square_segmentation , **target_params)\n",
    "        kwargs = self.filter_params(square_segmentation)\n",
    "        self.set_params(**kwargs)\n",
    "\n",
    "    def __call__(self, *args):\n",
    "        return self.target_fn(args[0], **self.target_params)"
   ]
  },
  {
   "cell_type": "code",
   "execution_count": 27,
   "metadata": {
    "ExecuteTime": {
     "end_time": "2023-07-10T16:57:46.474627Z",
     "start_time": "2023-07-10T16:55:56.825341Z"
    }
   },
   "outputs": [
    {
     "name": "stdout",
     "output_type": "stream",
     "text": [
      "1/1 [==============================] - 0s 29ms/step\n"
     ]
    },
    {
     "data": {
      "application/vnd.jupyter.widget-view+json": {
       "model_id": "f84d9a870f044da49904ace30f90c2b3",
       "version_major": 2,
       "version_minor": 0
      },
      "text/plain": [
       "  0%|          | 0/300 [00:00<?, ?it/s]"
      ]
     },
     "metadata": {},
     "output_type": "display_data"
    },
    {
     "name": "stdout",
     "output_type": "stream",
     "text": [
      "Predicted: kids talk\n",
      "Actual: kids talk\n",
      "Emotion: happy\n",
      "Emotional Intensity: strong\n",
      "Sex: M\n",
      "1/1 [==============================] - 0s 28ms/step\n"
     ]
    },
    {
     "data": {
      "application/vnd.jupyter.widget-view+json": {
       "model_id": "9f4affd758b247cfbef894dd869e59d8",
       "version_major": 2,
       "version_minor": 0
      },
      "text/plain": [
       "  0%|          | 0/300 [00:00<?, ?it/s]"
      ]
     },
     "metadata": {},
     "output_type": "display_data"
    },
    {
     "name": "stdout",
     "output_type": "stream",
     "text": [
      "Predicted: kids talk\n",
      "Actual: kids talk\n",
      "Emotion: happy\n",
      "Emotional Intensity: strong\n",
      "Sex: M\n",
      "1/1 [==============================] - 0s 29ms/step\n"
     ]
    },
    {
     "data": {
      "application/vnd.jupyter.widget-view+json": {
       "model_id": "7095e8733a7246eab3a15acab3e806f8",
       "version_major": 2,
       "version_minor": 0
      },
      "text/plain": [
       "  0%|          | 0/300 [00:00<?, ?it/s]"
      ]
     },
     "metadata": {},
     "output_type": "display_data"
    },
    {
     "name": "stdout",
     "output_type": "stream",
     "text": [
      "Predicted: dogs sit\n",
      "Actual: dogs sit\n",
      "Emotion: happy\n",
      "Emotional Intensity: strong\n",
      "Sex: M\n"
     ]
    }
   ],
   "source": [
    "from lime.wrappers.scikit_image import SegmentationAlgorithm\n",
    "\n",
    "explainer = lime_image.LimeImageExplainer(kernel_width=0.75)\n",
    "\n",
    "for i in range(3):\n",
    "    pred = np.argmax(cnn.predict(X_test[i].reshape(-1, 27, 27)))\n",
    "\n",
    "    explanation = explainer.explain_instance(gray2rgb(X_test[i]), \n",
    "                                             classifier_fn=make_prediction, \n",
    "                                             num_samples=300,\n",
    "                                             num_features=10,\n",
    "                                             # This is the default segmentation\n",
    "#                                              segmentation_fn=SegmentationAlgorithm('quickshift', \n",
    "#                                                             kernel_size=4,\n",
    "#                                                             max_dist=10, \n",
    "#                                                             ratio=0.2),\n",
    "                                             segmentation_fn=SquareSegmentationAlgorithm(square_size=7),\n",
    "                                             hide_color=0\n",
    "                                            )\n",
    "    temp, mask = explanation.get_image_and_mask(pred, \n",
    "                                                num_features=3, \n",
    "                                                hide_rest=False)\n",
    "    marked_image = mark_boundaries(temp , mask)\n",
    "\n",
    "    pred_statement = 'dogs sit' if pred == 0 else 'kids talk'\n",
    "    actual_statement = 'dogs sit' if y_test[i] == 0 else 'kids talk'\n",
    "\n",
    "    print(f'Predicted: {pred_statement}')\n",
    "    print(f'Actual: {actual_statement}')\n",
    "    print(f'Emotion: {df[\"emotion\"][i + len(X_train)]}')\n",
    "    print(f'Emotional Intensity: {df[\"emotional_intensity\"][i + len(X_train)]}')\n",
    "    print(f'Sex: {df[\"sex\"][i + len(X_train)]}')\n",
    "\n",
    "#     plot_comparison(X_test[i], gray2rgb(X_test[i]), mask)"
   ]
  },
  {
   "cell_type": "markdown",
   "metadata": {
    "ExecuteTime": {
     "end_time": "2023-07-10T16:57:46.479426Z",
     "start_time": "2023-07-10T16:57:44.673449Z"
    }
   },
   "source": [
    "## Positive pushing vs negative pushing features"
   ]
  },
  {
   "cell_type": "code",
   "execution_count": 29,
   "metadata": {},
   "outputs": [
    {
     "name": "stderr",
     "output_type": "stream",
     "text": [
      "\r",
      "  0%|                                                                                                                           | 0/3 [00:00<?, ?it/s]"
     ]
    },
    {
     "name": "stdout",
     "output_type": "stream",
     "text": [
      "1/1 [==============================] - 0s 34ms/step\n"
     ]
    },
    {
     "data": {
      "application/vnd.jupyter.widget-view+json": {
       "model_id": "e91411afe5d14fff84bbaf4010cdb13e",
       "version_major": 2,
       "version_minor": 0
      },
      "text/plain": [
       "  0%|          | 0/100 [00:00<?, ?it/s]"
      ]
     },
     "metadata": {},
     "output_type": "display_data"
    },
    {
     "name": "stdout",
     "output_type": "stream",
     "text": [
      "1/1 [==============================] - 0s 27ms/step\n"
     ]
    },
    {
     "data": {
      "application/vnd.jupyter.widget-view+json": {
       "model_id": "140a6417042641ec8d449f081a6e5b5a",
       "version_major": 2,
       "version_minor": 0
      },
      "text/plain": [
       "  0%|          | 0/100 [00:00<?, ?it/s]"
      ]
     },
     "metadata": {},
     "output_type": "display_data"
    },
    {
     "name": "stdout",
     "output_type": "stream",
     "text": [
      "1/1 [==============================] - 0s 31ms/step\n"
     ]
    },
    {
     "name": "stderr",
     "output_type": "stream",
     "text": [
      "\r",
      " 33%|██████████████████████████████████████▎                                                                            | 1/3 [00:02<00:05,  2.91s/it]"
     ]
    },
    {
     "name": "stdout",
     "output_type": "stream",
     "text": [
      "1/1 [==============================] - 0s 28ms/step\n"
     ]
    },
    {
     "data": {
      "application/vnd.jupyter.widget-view+json": {
       "model_id": "0e3d2c49953346478c7f752d2edebe1c",
       "version_major": 2,
       "version_minor": 0
      },
      "text/plain": [
       "  0%|          | 0/100 [00:00<?, ?it/s]"
      ]
     },
     "metadata": {},
     "output_type": "display_data"
    },
    {
     "name": "stdout",
     "output_type": "stream",
     "text": [
      "1/1 [==============================] - 0s 27ms/step\n"
     ]
    },
    {
     "data": {
      "application/vnd.jupyter.widget-view+json": {
       "model_id": "c203f057a2da417f9eb5f59073b8ced8",
       "version_major": 2,
       "version_minor": 0
      },
      "text/plain": [
       "  0%|          | 0/100 [00:00<?, ?it/s]"
      ]
     },
     "metadata": {},
     "output_type": "display_data"
    },
    {
     "name": "stdout",
     "output_type": "stream",
     "text": [
      "1/1 [==============================] - 0s 29ms/step\n"
     ]
    },
    {
     "name": "stderr",
     "output_type": "stream",
     "text": [
      "\r",
      " 67%|████████████████████████████████████████████████████████████████████████████▋                                      | 2/3 [00:05<00:02,  2.90s/it]"
     ]
    },
    {
     "name": "stdout",
     "output_type": "stream",
     "text": [
      "1/1 [==============================] - 0s 27ms/step\n"
     ]
    },
    {
     "data": {
      "application/vnd.jupyter.widget-view+json": {
       "model_id": "d0ce7518c3a449c9b8bed21da413d6e5",
       "version_major": 2,
       "version_minor": 0
      },
      "text/plain": [
       "  0%|          | 0/100 [00:00<?, ?it/s]"
      ]
     },
     "metadata": {},
     "output_type": "display_data"
    },
    {
     "name": "stdout",
     "output_type": "stream",
     "text": [
      "1/1 [==============================] - 0s 27ms/step\n"
     ]
    },
    {
     "data": {
      "application/vnd.jupyter.widget-view+json": {
       "model_id": "ed5f1ad0face427d87c7fae1f81ef21f",
       "version_major": 2,
       "version_minor": 0
      },
      "text/plain": [
       "  0%|          | 0/100 [00:00<?, ?it/s]"
      ]
     },
     "metadata": {},
     "output_type": "display_data"
    },
    {
     "name": "stdout",
     "output_type": "stream",
     "text": [
      "1/1 [==============================] - 0s 26ms/step\n"
     ]
    },
    {
     "name": "stderr",
     "output_type": "stream",
     "text": [
      "100%|███████████████████████████████████████████████████████████████████████████████████████████████████████████████████| 3/3 [00:08<00:00,  2.80s/it]\n"
     ]
    },
    {
     "data": {
      "image/png": "[encoded data removed]",
      "text/plain": [
       "<Figure size 354.331x236.22 with 2 Axes>"
      ]
     },
     "metadata": {},
     "output_type": "display_data"
    },
    {
     "data": {
      "image/png": "[encoded data removed]",
      "text/plain": [
       "<Figure size 354.331x236.22 with 2 Axes>"
      ]
     },
     "metadata": {},
     "output_type": "display_data"
    },
    {
     "data": {
      "image/png": "[encoded data removed]",
      "text/plain": [
       "<Figure size 354.331x236.22 with 2 Axes>"
      ]
     },
     "metadata": {},
     "output_type": "display_data"
    }
   ],
   "source": [
    "from matplotlib.patches import Patch\n",
    "from tqdm import tqdm\n",
    "\n",
    "square_size = 9\n",
    "\n",
    "for idx in tqdm(range(3)):\n",
    "\n",
    "    legend_handles, legend_labels = [],[]\n",
    "    fig, ax = plt.subplot_mosaic([[\"img\", \"leg\"]])\n",
    "    ax[\"img\"].imshow(X_test[idx], cmap=\"Greys_r\")\n",
    "\n",
    "    # Justifies the features that make him think both labels are true\n",
    "    for pred in [0,1]:\n",
    "        if pred == np.argmax(cnn.predict(X_test[idx].reshape(-1, 27, 27))):\n",
    "            # Green if I study the features that agreee with the actual prediction\n",
    "            color = \"Greens_r\"\n",
    "            legend_color = \"g\"\n",
    "        else:\n",
    "            # Red for the features that makes him think otherwise\n",
    "            color = \"Reds_r\"\n",
    "            legend_color = \"r\"\n",
    "\n",
    "        explanation = explainer.explain_instance(gray2rgb(X_test[idx]), \n",
    "                                                 classifier_fn=make_prediction, \n",
    "                                                 num_samples=100,\n",
    "                                                 num_features=int(0.95*(27//square_size)**2),\n",
    "                                                 segmentation_fn=SquareSegmentationAlgorithm(square_size=square_size),\n",
    "                                                 hide_color=0.0,\n",
    "                                                )\n",
    "\n",
    "        temp, mask = explanation.get_image_and_mask(pred,\n",
    "                                                    num_features=int(0.8*(27//square_size)**2), \n",
    "                                                    hide_rest=True)\n",
    "        zone = X_test[idx]*mask\n",
    "        zone[zone == 0.0] = np.nan\n",
    "\n",
    "        ax[\"img\"].imshow(zone,cmap=color)\n",
    "\n",
    "        legend_handles += [Patch(color=legend_color, label= f\"increases p({label_encoder.inverse_transform([pred])[0]})\")]\n",
    "\n",
    "    ax[\"leg\"].legend(handles=legend_handles, \n",
    "                     loc=\"center\")\n",
    "    ax[\"leg\"].annotate( f\"true: {label_encoder.inverse_transform([y_test[idx]])[0]}\\n\"\n",
    "                        f\"predicted: {label_encoder.inverse_transform([np.argmax(cnn.predict(X_test[idx].reshape(-1, 27, 27)))])[0]}\",\n",
    "                      (0.5,0.7), ha=\"center\")\n",
    "    ax[\"img\"].axis(\"off\");\n",
    "    ax[\"leg\"].axis(\"off\");\n",
    "    plt.savefig(f\"../images/explainability/test_{idx}_size_{square_size}.png\")\n"
   ]
  },
  {
   "cell_type": "markdown",
   "metadata": {},
   "source": [
    "## Average masks"
   ]
  },
  {
   "cell_type": "code",
   "execution_count": null,
   "metadata": {
    "scrolled": false
   },
   "outputs": [
    {
     "data": {
      "application/vnd.jupyter.widget-view+json": {
       "model_id": "a00cf51ea8324e2bb7f6469d54c6553e",
       "version_major": 2,
       "version_minor": 0
      },
      "text/plain": [
       "Output()"
      ]
     },
     "metadata": {},
     "output_type": "display_data"
    },
    {
     "name": "stdout",
     "output_type": "stream",
     "text": [
      "doing 1\n"
     ]
    },
    {
     "data": {
      "text/html": [
       "<pre style=\"white-space:pre;overflow-x:auto;line-height:normal;font-family:Menlo,'DejaVu Sans Mono',consolas,'Courier New',monospace\"></pre>\n"
      ],
      "text/plain": []
     },
     "metadata": {},
     "output_type": "display_data"
    },
    {
     "data": {
      "text/html": [
       "<pre style=\"white-space:pre;overflow-x:auto;line-height:normal;font-family:Menlo,'DejaVu Sans Mono',consolas,'Courier New',monospace\">\n",
       "</pre>\n"
      ],
      "text/plain": [
       "\n"
      ]
     },
     "metadata": {},
     "output_type": "display_data"
    },
    {
     "data": {
      "application/vnd.jupyter.widget-view+json": {
       "model_id": "5bb897eb571d4cd7ac466deb83c8455c",
       "version_major": 2,
       "version_minor": 0
      },
      "text/plain": [
       "Output()"
      ]
     },
     "metadata": {},
     "output_type": "display_data"
    },
    {
     "name": "stdout",
     "output_type": "stream",
     "text": [
      "doing 2\n"
     ]
    }
   ],
   "source": [
    "from matplotlib.patches import Patch\n",
    "from rich.progress import track\n",
    "\n",
    "for square_size in range(1,9):\n",
    "    print(f\"doing {square_size}\")\n",
    "    kids_masks = []\n",
    "    dogs_masks = []\n",
    "    \n",
    "    if os.path.exists(f\"../dataset/explainability_masks/average_masks_dogs_size_{square_size}.npy\"):\n",
    "        print(\"already existing\")\n",
    "        continue\n",
    "        \n",
    "    for idx in track(range(len(X_test))):\n",
    "\n",
    "        # Justifies the features that make him think both labels are true\n",
    "        for pred in [0,1]:\n",
    "            \n",
    "            explanation = explainer.explain_instance(gray2rgb(X_test[idx]), \n",
    "                                                     classifier_fn=make_prediction, \n",
    "                                                     num_samples=5,\n",
    "                                                     num_features=10,#int(0.95*(27//square_size)**2),\n",
    "                                                     segmentation_fn=SquareSegmentationAlgorithm(square_size=square_size),\n",
    "                                                     hide_color=0.0,\n",
    "                                                     progress_bar=False\n",
    "                                                    )\n",
    "            temp, mask = explanation.get_image_and_mask(pred,\n",
    "                                                        num_features=int(0.8*(27//square_size)**2), \n",
    "                                                        hide_rest=True)\n",
    "            zone = X_test[idx]*mask\n",
    "            zone[zone == 0.0] = np.nan\n",
    "            if label_encoder.inverse_transform([pred]) == 'kids':\n",
    "                kids_masks.append(mask)\n",
    "            else:\n",
    "                dogs_masks.append(mask)\n",
    "#             print(\"end\", end=\"\", flush=True)\n",
    "    np.save(f\"../dataset/explainability_masks/average_masks_kids_size_{square_size}.npy\", np.stack(kids_masks))\n",
    "    np.save(f\"../dataset/explainability_masks/average_masks_dogs_size_{square_size}.npy\", np.stack(dogs_masks))\n"
   ]
  },
  {
   "cell_type": "code",
   "execution_count": null,
   "metadata": {},
   "outputs": [],
   "source": [
    "\n",
    "for i in range(1,9):\n",
    "    kids_masks = np.load(f\"../dataset/average_masks_kids_size_{square_size}.npy\")\n",
    "    dogs_masks = np.load(f\"../dataset/average_masks_dogs_size_{i}.npy\")\n",
    "    \n",
    "    fig, (axkids, axdogs) = plt.subplots(1, 2, figsize=default_style.BAND_FULLSIZE_FIGURE)\n",
    "    axkids.axis(\"off\")\n",
    "    axdogs.axis(\"off\")\n",
    "\n",
    "    axkids.matshow(np.mean(kids_masks, axis=0))\n",
    "    axdogs.matshow(np.mean(dogs_masks, axis=0))\n",
    "\n",
    "    axkids.set_title('kids mean mask');\n",
    "    axdogs.set_title('dogs mean mask');\n",
    "    plt.savefig(f\"../images/explainability_mean_masks_{square_size}.pdf\")"
   ]
  },
  {
   "cell_type": "code",
   "execution_count": null,
   "metadata": {},
   "outputs": [],
   "source": []
  }
 ],
 "metadata": {
  "kernelspec": {
   "display_name": "DM2",
   "language": "python",
   "name": "dm2"
  },
  "language_info": {
   "codemirror_mode": {
    "name": "ipython",
    "version": 3
   },
   "file_extension": ".py",
   "mimetype": "text/x-python",
   "name": "python",
   "nbconvert_exporter": "python",
   "pygments_lexer": "ipython3",
   "version": "3.10.6"
  }
 },
 "nbformat": 4,
 "nbformat_minor": 1
}
