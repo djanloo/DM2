{
 "cells": [
  {
   "cell_type": "code",
   "execution_count": 1,
   "metadata": {
    "ExecuteTime": {
     "end_time": "2023-06-30T16:09:44.793919Z",
     "start_time": "2023-06-30T16:09:44.723871Z"
    }
   },
   "outputs": [],
   "source": [
    "import os\n",
    "import numpy as np\n",
    "import pandas as pd\n",
    "import matplotlib.pyplot as plt\n",
    "import seaborn as sns; sns.set()\n",
    "\n",
    "import sys\n",
    "sys.path.append('../')\n",
    "import default_style"
   ]
  },
  {
   "cell_type": "code",
   "execution_count": 2,
   "metadata": {
    "ExecuteTime": {
     "end_time": "2023-06-30T16:09:44.794645Z",
     "start_time": "2023-06-30T16:09:44.730175Z"
    }
   },
   "outputs": [],
   "source": [
    "TS_DATASET_FOLDER = os.path.join('..', 'dataset')\n",
    "TS_PREPROC_FOLDER = os.path.join(TS_DATASET_FOLDER, 'preprocessed_traces')\n",
    "DF_PREPROC_FILE = os.path.join(TS_PREPROC_FOLDER, 'preproc_ts.df')\n",
    "\n",
    "TARGET = 'statement'\n",
    "TRACES = 'syllables_02_STFT'"
   ]
  },
  {
   "cell_type": "code",
   "execution_count": 3,
   "metadata": {
    "ExecuteTime": {
     "end_time": "2023-06-30T16:09:44.843237Z",
     "start_time": "2023-06-30T16:09:44.735277Z"
    }
   },
   "outputs": [
    {
     "data": {
      "text/plain": "  vocal_channel  emotion emotional_intensity statement repetition     actor   \n0        speech  neutral              normal      kids        1st  actor_01  \\\n1        speech  neutral              normal      kids        2nd  actor_01   \n2        speech  neutral              normal      dogs        1st  actor_01   \n3        speech  neutral              normal      dogs        2nd  actor_01   \n4        speech     calm              normal      kids        1st  actor_01   \n\n                                                path sex   begin_s     end_s   \n0  ../dataset/Audio_Speech_Actors_01-24/Actor_01/...   M  1.009833  2.252000  \\\n1  ../dataset/Audio_Speech_Actors_01-24/Actor_01/...   M  1.068500  2.294667   \n2  ../dataset/Audio_Speech_Actors_01-24/Actor_01/...   M  1.012000  2.238500   \n3  ../dataset/Audio_Speech_Actors_01-24/Actor_01/...   M  1.008833  2.187167   \n4  ../dataset/Audio_Speech_Actors_01-24/Actor_01/...   M  1.023667  2.534167   \n\n   ...                            filtered_fourier_coeffs syll_0_start_index   \n0  ...  [1.9371510e-07 1.2311473e-02 1.1168692e-02 ......                  0  \\\n1  ...  [3.5017729e-07 2.6198970e-02 2.5683273e-02 ......                  0   \n2  ...  [2.49594450e-07 1.23483688e-02 1.06786685e-02 ...                  0   \n3  ...  [1.1920929e-07 1.2154780e-02 1.6620707e-02 ......                  0   \n4  ...  [1.1920929e-07 2.0026902e-03 7.9688808e-04 ......                  0   \n\n   syll_1_start_index  syll_2_start_index  syll_3_start_index   \n0                1128                2240                3200  \\\n1                2008                3208                3880   \n2                2816                3352                3912   \n3                1664                2664                3208   \n4                2088                3584                4832   \n\n   syll_4_start_index  syll_5_start_index  syll_6_start_index   \n0                4304                5208                5808  \\\n1                4224                5112                5800   \n2                4296                5232                5880   \n3                3672                4840                5448   \n4                5800                6944                7560   \n\n   syll_7_start_index  actor_number  \n0                7448             1  \n1                7352             1  \n2                7352             1  \n3                7064             1  \n4                9056             1  \n\n[5 rows x 21 columns]",
      "text/html": "<div>\n<style scoped>\n    .dataframe tbody tr th:only-of-type {\n        vertical-align: middle;\n    }\n\n    .dataframe tbody tr th {\n        vertical-align: top;\n    }\n\n    .dataframe thead th {\n        text-align: right;\n    }\n</style>\n<table border=\"1\" class=\"dataframe\">\n  <thead>\n    <tr style=\"text-align: right;\">\n      <th></th>\n      <th>vocal_channel</th>\n      <th>emotion</th>\n      <th>emotional_intensity</th>\n      <th>statement</th>\n      <th>repetition</th>\n      <th>actor</th>\n      <th>path</th>\n      <th>sex</th>\n      <th>begin_s</th>\n      <th>end_s</th>\n      <th>...</th>\n      <th>filtered_fourier_coeffs</th>\n      <th>syll_0_start_index</th>\n      <th>syll_1_start_index</th>\n      <th>syll_2_start_index</th>\n      <th>syll_3_start_index</th>\n      <th>syll_4_start_index</th>\n      <th>syll_5_start_index</th>\n      <th>syll_6_start_index</th>\n      <th>syll_7_start_index</th>\n      <th>actor_number</th>\n    </tr>\n  </thead>\n  <tbody>\n    <tr>\n      <th>0</th>\n      <td>speech</td>\n      <td>neutral</td>\n      <td>normal</td>\n      <td>kids</td>\n      <td>1st</td>\n      <td>actor_01</td>\n      <td>../dataset/Audio_Speech_Actors_01-24/Actor_01/...</td>\n      <td>M</td>\n      <td>1.009833</td>\n      <td>2.252000</td>\n      <td>...</td>\n      <td>[1.9371510e-07 1.2311473e-02 1.1168692e-02 ......</td>\n      <td>0</td>\n      <td>1128</td>\n      <td>2240</td>\n      <td>3200</td>\n      <td>4304</td>\n      <td>5208</td>\n      <td>5808</td>\n      <td>7448</td>\n      <td>1</td>\n    </tr>\n    <tr>\n      <th>1</th>\n      <td>speech</td>\n      <td>neutral</td>\n      <td>normal</td>\n      <td>kids</td>\n      <td>2nd</td>\n      <td>actor_01</td>\n      <td>../dataset/Audio_Speech_Actors_01-24/Actor_01/...</td>\n      <td>M</td>\n      <td>1.068500</td>\n      <td>2.294667</td>\n      <td>...</td>\n      <td>[3.5017729e-07 2.6198970e-02 2.5683273e-02 ......</td>\n      <td>0</td>\n      <td>2008</td>\n      <td>3208</td>\n      <td>3880</td>\n      <td>4224</td>\n      <td>5112</td>\n      <td>5800</td>\n      <td>7352</td>\n      <td>1</td>\n    </tr>\n    <tr>\n      <th>2</th>\n      <td>speech</td>\n      <td>neutral</td>\n      <td>normal</td>\n      <td>dogs</td>\n      <td>1st</td>\n      <td>actor_01</td>\n      <td>../dataset/Audio_Speech_Actors_01-24/Actor_01/...</td>\n      <td>M</td>\n      <td>1.012000</td>\n      <td>2.238500</td>\n      <td>...</td>\n      <td>[2.49594450e-07 1.23483688e-02 1.06786685e-02 ...</td>\n      <td>0</td>\n      <td>2816</td>\n      <td>3352</td>\n      <td>3912</td>\n      <td>4296</td>\n      <td>5232</td>\n      <td>5880</td>\n      <td>7352</td>\n      <td>1</td>\n    </tr>\n    <tr>\n      <th>3</th>\n      <td>speech</td>\n      <td>neutral</td>\n      <td>normal</td>\n      <td>dogs</td>\n      <td>2nd</td>\n      <td>actor_01</td>\n      <td>../dataset/Audio_Speech_Actors_01-24/Actor_01/...</td>\n      <td>M</td>\n      <td>1.008833</td>\n      <td>2.187167</td>\n      <td>...</td>\n      <td>[1.1920929e-07 1.2154780e-02 1.6620707e-02 ......</td>\n      <td>0</td>\n      <td>1664</td>\n      <td>2664</td>\n      <td>3208</td>\n      <td>3672</td>\n      <td>4840</td>\n      <td>5448</td>\n      <td>7064</td>\n      <td>1</td>\n    </tr>\n    <tr>\n      <th>4</th>\n      <td>speech</td>\n      <td>calm</td>\n      <td>normal</td>\n      <td>kids</td>\n      <td>1st</td>\n      <td>actor_01</td>\n      <td>../dataset/Audio_Speech_Actors_01-24/Actor_01/...</td>\n      <td>M</td>\n      <td>1.023667</td>\n      <td>2.534167</td>\n      <td>...</td>\n      <td>[1.1920929e-07 2.0026902e-03 7.9688808e-04 ......</td>\n      <td>0</td>\n      <td>2088</td>\n      <td>3584</td>\n      <td>4832</td>\n      <td>5800</td>\n      <td>6944</td>\n      <td>7560</td>\n      <td>9056</td>\n      <td>1</td>\n    </tr>\n  </tbody>\n</table>\n<p>5 rows × 21 columns</p>\n</div>"
     },
     "execution_count": 3,
     "metadata": {},
     "output_type": "execute_result"
    }
   ],
   "source": [
    "df = pd.read_csv(DF_PREPROC_FILE).drop(columns=['Unnamed: 0'])\n",
    "df[\"actor_number\"] = df.actor.apply(lambda x: int(x.split(\"_\")[1]))\n",
    "df.head()"
   ]
  },
  {
   "cell_type": "code",
   "execution_count": 4,
   "metadata": {
    "ExecuteTime": {
     "end_time": "2023-06-30T16:09:44.843389Z",
     "start_time": "2023-06-30T16:09:44.772271Z"
    }
   },
   "outputs": [],
   "source": [
    "traces_dict = {}\n",
    "files = os.listdir(TS_PREPROC_FOLDER)\n",
    "\n",
    "file_path = os.path.join(TS_PREPROC_FOLDER, f\"{TRACES}.npy\")\n",
    "traces_dict[TRACES] = np.load(file_path, allow_pickle=True)"
   ]
  },
  {
   "cell_type": "code",
   "execution_count": 5,
   "metadata": {
    "ExecuteTime": {
     "end_time": "2023-06-30T16:09:44.843483Z",
     "start_time": "2023-06-30T16:09:44.781622Z"
    }
   },
   "outputs": [
    {
     "data": {
      "text/plain": "(2452, 27, 27)"
     },
     "execution_count": 5,
     "metadata": {},
     "output_type": "execute_result"
    }
   ],
   "source": [
    "traces = traces_dict[TRACES]\n",
    "# traces = traces.reshape(2452, 729)\n",
    "traces.shape"
   ]
  },
  {
   "cell_type": "code",
   "execution_count": 6,
   "metadata": {
    "ExecuteTime": {
     "end_time": "2023-06-30T16:09:44.986206Z",
     "start_time": "2023-06-30T16:09:44.784105Z"
    }
   },
   "outputs": [
    {
     "data": {
      "text/plain": "<Figure size 354.331x236.22 with 1 Axes>",
      "image/png": "[encoded data removed]"
     },
     "metadata": {},
     "output_type": "display_data"
    }
   ],
   "source": [
    "index = 0\n",
    "statement = df['statement'][index]\n",
    "plt.plot(traces[index])\n",
    "plt.title(f'Time series at row #{index}, statement: {statement}')\n",
    "plt.show()"
   ]
  },
  {
   "cell_type": "code",
   "execution_count": 7,
   "metadata": {
    "ExecuteTime": {
     "end_time": "2023-06-30T16:09:45.160512Z",
     "start_time": "2023-06-30T16:09:44.986608Z"
    }
   },
   "outputs": [],
   "source": [
    "from sklearn.model_selection import train_test_split"
   ]
  },
  {
   "cell_type": "code",
   "execution_count": 8,
   "metadata": {
    "scrolled": true,
    "ExecuteTime": {
     "end_time": "2023-06-30T16:09:45.172976Z",
     "start_time": "2023-06-30T16:09:45.161344Z"
    }
   },
   "outputs": [
    {
     "data": {
      "text/plain": "((1545, 27, 27), (387, 27, 27), (520, 27, 27), (1545,), (387,), (520,))"
     },
     "execution_count": 8,
     "metadata": {},
     "output_type": "execute_result"
    }
   ],
   "source": [
    "# Sets tests to be over actor 19 (excluded)\n",
    "X_test = traces[df.actor_number > 19]\n",
    "y_test = df[TARGET][df.actor_number > 19].to_numpy()\n",
    "\n",
    "# Sets the train and validation inside actors < 19\n",
    "X_train, X_val, y_train, y_val = train_test_split(  traces[df.actor_number <= 19], \n",
    "                                                    df[TARGET][df.actor_number <= 19].to_numpy(), \n",
    "                                                    test_size=0.2, random_state=100)\n",
    "\n",
    "X_train.shape, X_val.shape, X_test.shape, y_train.shape, y_val.shape, y_test.shape"
   ]
  },
  {
   "cell_type": "code",
   "execution_count": 9,
   "metadata": {
    "ExecuteTime": {
     "end_time": "2023-06-30T16:09:45.303925Z",
     "start_time": "2023-06-30T16:09:45.175250Z"
    }
   },
   "outputs": [
    {
     "name": "stderr",
     "output_type": "stream",
     "text": [
      "/Users/paolomollica/Desktop/DM2/venv/lib/python3.9/site-packages/IPython/core/events.py:89: UserWarning: This figure includes Axes that are not compatible with tight_layout, so results might be incorrect.\n",
      "  func(*args, **kwargs)\n",
      "/Users/paolomollica/Desktop/DM2/venv/lib/python3.9/site-packages/IPython/core/pylabtools.py:152: UserWarning: This figure includes Axes that are not compatible with tight_layout, so results might be incorrect.\n",
      "  fig.canvas.print_figure(bytes_io, **kw)\n"
     ]
    },
    {
     "data": {
      "text/plain": "<Figure size 400x400 with 1 Axes>",
      "image/png": "[encoded data removed]"
     },
     "metadata": {},
     "output_type": "display_data"
    }
   ],
   "source": [
    "plt.matshow(X_test[0]);plt.grid(ls=\"\")\n",
    "plt.title(\"axis 0 is time, axis 1 is freq\");"
   ]
  },
  {
   "cell_type": "markdown",
   "metadata": {},
   "source": [
    "# CNN for statement and syllables 0&2"
   ]
  },
  {
   "cell_type": "code",
   "execution_count": 10,
   "metadata": {
    "ExecuteTime": {
     "end_time": "2023-06-30T16:09:45.308719Z",
     "start_time": "2023-06-30T16:09:45.306923Z"
    }
   },
   "outputs": [],
   "source": [
    "from sklearn.preprocessing import LabelEncoder\n",
    "\n",
    "label_encoder = LabelEncoder()\n",
    "\n",
    "y_train = label_encoder.fit_transform(y_train)\n",
    "y_val = label_encoder.transform(y_val)\n",
    "y_test = label_encoder.transform(y_test)"
   ]
  },
  {
   "cell_type": "code",
   "execution_count": 11,
   "metadata": {
    "ExecuteTime": {
     "end_time": "2023-06-30T16:09:49.010289Z",
     "start_time": "2023-06-30T16:09:45.312070Z"
    }
   },
   "outputs": [],
   "source": [
    "import optuna\n",
    "from keras.layers import BatchNormalization, Activation\n",
    "from keras.models import Sequential\n",
    "from keras.layers import Dense, Conv1D, Dropout, GlobalAveragePooling1D\n",
    "from sklearn.metrics import accuracy_score\n",
    "\n",
    "def build_model(input_shape, n_categories,\n",
    "                n_conv=0, n_hidden=0, hidden_nodes=32,\n",
    "                dropout=0.01, filters=8, kernel_size=5, **kwargs):\n",
    "    \n",
    "    # Stuff must be given in (timestep, spectral_coeff) format\n",
    "    n_timesteps = input_shape[0]\n",
    "    n_features = input_shape[1]\n",
    "\n",
    "    model = Sequential()\n",
    "\n",
    "    model.add(Conv1D(filters=filters,\n",
    "                     kernel_size=kernel_size,\n",
    "                     activation='relu',\n",
    "                     input_shape=(n_timesteps, n_features),\n",
    "                     name=\"base_conv\"\n",
    "                     ))\n",
    "    model.add(BatchNormalization())\n",
    "    model.add(Activation('relu'))\n",
    "\n",
    "    for i in range(n_conv):\n",
    "        model.add(Conv1D(filters=filters, kernel_size=kernel_size, activation='relu', name=f\"extra_conv_{i}\"))\n",
    "        model.add(BatchNormalization())\n",
    "        model.add(Activation('relu'))\n",
    "\n",
    "        model.add(Dropout(dropout))\n",
    "\n",
    "    model.add(GlobalAveragePooling1D())\n",
    "\n",
    "    for i in range(n_hidden):\n",
    "        model.add(Dense(hidden_nodes, activation='relu'))\n",
    "\n",
    "    model.add(Dense(n_categories, activation='softmax'))    \n",
    "    model.compile(loss='sparse_categorical_crossentropy', optimizer='adam', metrics=['accuracy'])\n",
    "    \n",
    "    return model"
   ]
  },
  {
   "cell_type": "code",
   "execution_count": 12,
   "metadata": {
    "ExecuteTime": {
     "end_time": "2023-06-30T16:09:50.680165Z",
     "start_time": "2023-06-30T16:09:49.009189Z"
    }
   },
   "outputs": [
    {
     "name": "stdout",
     "output_type": "stream",
     "text": [
      "Model: \"sequential\"\n",
      "_________________________________________________________________\n",
      " Layer (type)                Output Shape              Param #   \n",
      "=================================================================\n",
      " base_conv (Conv1D)          (None, 23, 8)             1088      \n",
      "                                                                 \n",
      " batch_normalization (Batch  (None, 23, 8)             32        \n",
      " Normalization)                                                  \n",
      "                                                                 \n",
      " activation (Activation)     (None, 23, 8)             0         \n",
      "                                                                 \n",
      " extra_conv_0 (Conv1D)       (None, 19, 8)             328       \n",
      "                                                                 \n",
      " batch_normalization_1 (Bat  (None, 19, 8)             32        \n",
      " chNormalization)                                                \n",
      "                                                                 \n",
      " activation_1 (Activation)   (None, 19, 8)             0         \n",
      "                                                                 \n",
      " dropout (Dropout)           (None, 19, 8)             0         \n",
      "                                                                 \n",
      " extra_conv_1 (Conv1D)       (None, 15, 8)             328       \n",
      "                                                                 \n",
      " batch_normalization_2 (Bat  (None, 15, 8)             32        \n",
      " chNormalization)                                                \n",
      "                                                                 \n",
      " activation_2 (Activation)   (None, 15, 8)             0         \n",
      "                                                                 \n",
      " dropout_1 (Dropout)         (None, 15, 8)             0         \n",
      "                                                                 \n",
      " global_average_pooling1d (  (None, 8)                 0         \n",
      " GlobalAveragePooling1D)                                         \n",
      "                                                                 \n",
      " dense (Dense)               (None, 256)               2304      \n",
      "                                                                 \n",
      " dense_1 (Dense)             (None, 256)               65792     \n",
      "                                                                 \n",
      " dense_2 (Dense)             (None, 256)               65792     \n",
      "                                                                 \n",
      " dense_3 (Dense)             (None, 2)                 514       \n",
      "                                                                 \n",
      "=================================================================\n",
      "Total params: 136242 (532.20 KB)\n",
      "Trainable params: 136194 (532.01 KB)\n",
      "Non-trainable params: 48 (192.00 Byte)\n",
      "_________________________________________________________________\n",
      "Epoch 1/8\n",
      "49/49 [==============================] - 1s 2ms/step - loss: 0.6537 - accuracy: 0.6129\n",
      "Epoch 2/8\n",
      "49/49 [==============================] - 0s 2ms/step - loss: 0.4006 - accuracy: 0.8110\n",
      "Epoch 3/8\n",
      "49/49 [==============================] - 0s 2ms/step - loss: 0.2644 - accuracy: 0.8744\n",
      "Epoch 4/8\n",
      "49/49 [==============================] - 0s 2ms/step - loss: 0.2113 - accuracy: 0.9113\n",
      "Epoch 5/8\n",
      "49/49 [==============================] - 0s 2ms/step - loss: 0.1636 - accuracy: 0.9405\n",
      "Epoch 6/8\n",
      "49/49 [==============================] - 0s 2ms/step - loss: 0.1316 - accuracy: 0.9502\n",
      "Epoch 7/8\n",
      "49/49 [==============================] - 0s 2ms/step - loss: 0.1078 - accuracy: 0.9599\n",
      "Epoch 8/8\n",
      "49/49 [==============================] - 0s 2ms/step - loss: 0.0967 - accuracy: 0.9638\n"
     ]
    },
    {
     "data": {
      "text/plain": "<keras.src.callbacks.History at 0x28f2d7a90>"
     },
     "execution_count": 12,
     "metadata": {},
     "output_type": "execute_result"
    }
   ],
   "source": [
    "# Test to check the accuracy of a \"belly\" network\n",
    "test_model = build_model((27,27), 2, \n",
    "                         n_conv=2, n_hidden=3, hidden_nodes=256)\n",
    "test_model.summary()\n",
    "test_model.fit(X_train, y_train,  verbose=True, epochs=8)"
   ]
  },
  {
   "cell_type": "code",
   "execution_count": 13,
   "metadata": {
    "ExecuteTime": {
     "end_time": "2023-06-30T16:09:50.680603Z",
     "start_time": "2023-06-30T16:09:50.664823Z"
    }
   },
   "outputs": [],
   "source": [
    "# objective function to be minimized\n",
    "def objective_fun(trial, X, y, validation_X, validation_y):\n",
    "\n",
    "    n_conv = trial.suggest_int('n_conv', 0, 3)\n",
    "    n_hidden = trial.suggest_int('n_hidden', 0, 3)\n",
    "    hidden_nodes = trial.suggest_int('hidden_nodes', 8, 256)\n",
    "    dropout = trial.suggest_float('dropout', 0, 0.2)\n",
    "    filters = trial.suggest_int('filters', 2, 16)\n",
    "    kernel_size = trial.suggest_int('kernel_size', 2, 16)\n",
    "    batch_size = trial.suggest_int('batch_size', 16, 64)\n",
    "    epochs = trial.suggest_int('epochs', 5, 90)\n",
    "    \n",
    "    print(f\"Running little bitch having n_conv={n_conv}, dropout={dropout}, hidden_nodes={hidden_nodes}\")\n",
    "    \n",
    "    cnn = build_model(  X.shape[1:], len(np.unique(y)),\n",
    "                        n_hidden=n_hidden,\n",
    "                        hidden_nodes=hidden_nodes,\n",
    "                        n_conv=n_conv,\n",
    "                        dropout=dropout,\n",
    "                        filters=filters,\n",
    "                        kernel_size=kernel_size,\n",
    "                       )\n",
    "\n",
    "    cnn.fit(X, y, batch_size=batch_size, epochs=epochs, verbose=False)\n",
    "    \n",
    "    y_pred = np.argmax(cnn.predict(validation_X), axis=1)\n",
    "\n",
    "    error = accuracy_score(validation_y, y_pred)\n",
    "\n",
    "    return error\n",
    "\n",
    "\n",
    "#study = optuna.create_study(direction='maximize')\n",
    "#trial_function = lambda trial: objective_fun(trial, X_train, y_train, X_val, y_val)\n",
    "#study.optimize(trial_function, n_trials=150, n_jobs=-1, catch=ValueError)"
   ]
  },
  {
   "cell_type": "code",
   "execution_count": 14,
   "metadata": {
    "ExecuteTime": {
     "end_time": "2023-06-30T16:09:50.814122Z",
     "start_time": "2023-06-30T16:09:50.665093Z"
    }
   },
   "outputs": [
    {
     "data": {
      "text/plain": "<matplotlib.legend.Legend at 0x177752b20>"
     },
     "execution_count": 14,
     "metadata": {},
     "output_type": "execute_result"
    },
    {
     "data": {
      "text/plain": "<Figure size 354.331x236.22 with 1 Axes>",
      "image/png": "[encoded data removed]"
     },
     "metadata": {},
     "output_type": "display_data"
    }
   ],
   "source": [
    "plt.plot(test_model.history.history[\"accuracy\"], label=\"accuracy\")\n",
    "plt.legend()"
   ]
  },
  {
   "cell_type": "code",
   "execution_count": 15,
   "metadata": {
    "ExecuteTime": {
     "end_time": "2023-06-30T16:09:50.817012Z",
     "start_time": "2023-06-30T16:09:50.813917Z"
    }
   },
   "outputs": [],
   "source": [
    "#best_params = study.best_params\n",
    "best_params = {'n_conv': 3, 'n_hidden': 3, 'hidden_nodes': 239, 'dropout': 0.060551943725558194, 'filters': 13, 'kernel_size': 4, 'batch_size': 46, 'epochs': 90}"
   ]
  },
  {
   "cell_type": "code",
   "execution_count": 16,
   "metadata": {
    "ExecuteTime": {
     "end_time": "2023-06-30T16:10:04.412926Z",
     "start_time": "2023-06-30T16:09:50.818700Z"
    }
   },
   "outputs": [
    {
     "name": "stdout",
     "output_type": "stream",
     "text": [
      "Model: \"sequential_1\"\n",
      "_________________________________________________________________\n",
      " Layer (type)                Output Shape              Param #   \n",
      "=================================================================\n",
      " base_conv (Conv1D)          (None, 24, 13)            1417      \n",
      "                                                                 \n",
      " batch_normalization_3 (Bat  (None, 24, 13)            52        \n",
      " chNormalization)                                                \n",
      "                                                                 \n",
      " activation_3 (Activation)   (None, 24, 13)            0         \n",
      "                                                                 \n",
      " extra_conv_0 (Conv1D)       (None, 21, 13)            689       \n",
      "                                                                 \n",
      " batch_normalization_4 (Bat  (None, 21, 13)            52        \n",
      " chNormalization)                                                \n",
      "                                                                 \n",
      " activation_4 (Activation)   (None, 21, 13)            0         \n",
      "                                                                 \n",
      " dropout_2 (Dropout)         (None, 21, 13)            0         \n",
      "                                                                 \n",
      " extra_conv_1 (Conv1D)       (None, 18, 13)            689       \n",
      "                                                                 \n",
      " batch_normalization_5 (Bat  (None, 18, 13)            52        \n",
      " chNormalization)                                                \n",
      "                                                                 \n",
      " activation_5 (Activation)   (None, 18, 13)            0         \n",
      "                                                                 \n",
      " dropout_3 (Dropout)         (None, 18, 13)            0         \n",
      "                                                                 \n",
      " extra_conv_2 (Conv1D)       (None, 15, 13)            689       \n",
      "                                                                 \n",
      " batch_normalization_6 (Bat  (None, 15, 13)            52        \n",
      " chNormalization)                                                \n",
      "                                                                 \n",
      " activation_6 (Activation)   (None, 15, 13)            0         \n",
      "                                                                 \n",
      " dropout_4 (Dropout)         (None, 15, 13)            0         \n",
      "                                                                 \n",
      " global_average_pooling1d_1  (None, 13)                0         \n",
      "  (GlobalAveragePooling1D)                                       \n",
      "                                                                 \n",
      " dense_4 (Dense)             (None, 239)               3346      \n",
      "                                                                 \n",
      " dense_5 (Dense)             (None, 239)               57360     \n",
      "                                                                 \n",
      " dense_6 (Dense)             (None, 239)               57360     \n",
      "                                                                 \n",
      " dense_7 (Dense)             (None, 2)                 480       \n",
      "                                                                 \n",
      "=================================================================\n",
      "Total params: 122238 (477.49 KB)\n",
      "Trainable params: 122134 (477.09 KB)\n",
      "Non-trainable params: 104 (416.00 Byte)\n",
      "_________________________________________________________________\n",
      "Epoch 1/90\n",
      "42/42 [==============================] - 1s 3ms/step - loss: 0.5666 - accuracy: 0.6946\n",
      "Epoch 2/90\n",
      "42/42 [==============================] - 0s 3ms/step - loss: 0.2798 - accuracy: 0.8856\n",
      "Epoch 3/90\n",
      "42/42 [==============================] - 0s 3ms/step - loss: 0.1945 - accuracy: 0.9244\n",
      "Epoch 4/90\n",
      "42/42 [==============================] - 0s 3ms/step - loss: 0.1420 - accuracy: 0.9503\n",
      "Epoch 5/90\n",
      "42/42 [==============================] - 0s 3ms/step - loss: 0.1129 - accuracy: 0.9596\n",
      "Epoch 6/90\n",
      "42/42 [==============================] - 0s 4ms/step - loss: 0.0955 - accuracy: 0.9627\n",
      "Epoch 7/90\n",
      "42/42 [==============================] - 0s 4ms/step - loss: 0.0853 - accuracy: 0.9679\n",
      "Epoch 8/90\n",
      "42/42 [==============================] - 0s 4ms/step - loss: 0.0666 - accuracy: 0.9731\n",
      "Epoch 9/90\n",
      "42/42 [==============================] - 0s 4ms/step - loss: 0.0752 - accuracy: 0.9710\n",
      "Epoch 10/90\n",
      "42/42 [==============================] - 0s 4ms/step - loss: 0.0674 - accuracy: 0.9736\n",
      "Epoch 11/90\n",
      "42/42 [==============================] - 0s 4ms/step - loss: 0.0547 - accuracy: 0.9808\n",
      "Epoch 12/90\n",
      "42/42 [==============================] - 0s 4ms/step - loss: 0.0523 - accuracy: 0.9798\n",
      "Epoch 13/90\n",
      "42/42 [==============================] - 0s 4ms/step - loss: 0.0677 - accuracy: 0.9741\n",
      "Epoch 14/90\n",
      "42/42 [==============================] - 0s 3ms/step - loss: 0.0576 - accuracy: 0.9834\n",
      "Epoch 15/90\n",
      "42/42 [==============================] - 0s 3ms/step - loss: 0.0308 - accuracy: 0.9886\n",
      "Epoch 16/90\n",
      "42/42 [==============================] - 0s 3ms/step - loss: 0.0395 - accuracy: 0.9871\n",
      "Epoch 17/90\n",
      "42/42 [==============================] - 0s 3ms/step - loss: 0.0396 - accuracy: 0.9845\n",
      "Epoch 18/90\n",
      "42/42 [==============================] - 0s 3ms/step - loss: 0.0327 - accuracy: 0.9891\n",
      "Epoch 19/90\n",
      "42/42 [==============================] - 0s 3ms/step - loss: 0.0355 - accuracy: 0.9881\n",
      "Epoch 20/90\n",
      "42/42 [==============================] - 0s 3ms/step - loss: 0.0323 - accuracy: 0.9886\n",
      "Epoch 21/90\n",
      "42/42 [==============================] - 0s 3ms/step - loss: 0.0370 - accuracy: 0.9855\n",
      "Epoch 22/90\n",
      "42/42 [==============================] - 0s 3ms/step - loss: 0.0416 - accuracy: 0.9850\n",
      "Epoch 23/90\n",
      "42/42 [==============================] - 0s 3ms/step - loss: 0.0169 - accuracy: 0.9943\n",
      "Epoch 24/90\n",
      "42/42 [==============================] - 0s 3ms/step - loss: 0.0300 - accuracy: 0.9907\n",
      "Epoch 25/90\n",
      "42/42 [==============================] - 0s 3ms/step - loss: 0.0325 - accuracy: 0.9881\n",
      "Epoch 26/90\n",
      "42/42 [==============================] - 0s 3ms/step - loss: 0.0263 - accuracy: 0.9928\n",
      "Epoch 27/90\n",
      "42/42 [==============================] - 0s 3ms/step - loss: 0.0238 - accuracy: 0.9922\n",
      "Epoch 28/90\n",
      "42/42 [==============================] - 0s 3ms/step - loss: 0.0306 - accuracy: 0.9891\n",
      "Epoch 29/90\n",
      "42/42 [==============================] - 0s 3ms/step - loss: 0.0246 - accuracy: 0.9907\n",
      "Epoch 30/90\n",
      "42/42 [==============================] - 0s 3ms/step - loss: 0.0203 - accuracy: 0.9938\n",
      "Epoch 31/90\n",
      "42/42 [==============================] - 0s 3ms/step - loss: 0.0229 - accuracy: 0.9917\n",
      "Epoch 32/90\n",
      "42/42 [==============================] - 0s 3ms/step - loss: 0.0118 - accuracy: 0.9979\n",
      "Epoch 33/90\n",
      "42/42 [==============================] - 0s 3ms/step - loss: 0.0229 - accuracy: 0.9912\n",
      "Epoch 34/90\n",
      "42/42 [==============================] - 0s 3ms/step - loss: 0.0202 - accuracy: 0.9928\n",
      "Epoch 35/90\n",
      "42/42 [==============================] - 0s 3ms/step - loss: 0.0212 - accuracy: 0.9922\n",
      "Epoch 36/90\n",
      "42/42 [==============================] - 0s 3ms/step - loss: 0.0085 - accuracy: 0.9964\n",
      "Epoch 37/90\n",
      "42/42 [==============================] - 0s 3ms/step - loss: 0.0295 - accuracy: 0.9907\n",
      "Epoch 38/90\n",
      "42/42 [==============================] - 0s 3ms/step - loss: 0.0146 - accuracy: 0.9959\n",
      "Epoch 39/90\n",
      "42/42 [==============================] - 0s 3ms/step - loss: 0.0192 - accuracy: 0.9938\n",
      "Epoch 40/90\n",
      "42/42 [==============================] - 0s 3ms/step - loss: 0.0244 - accuracy: 0.9933\n",
      "Epoch 41/90\n",
      "42/42 [==============================] - 0s 3ms/step - loss: 0.0157 - accuracy: 0.9938\n",
      "Epoch 42/90\n",
      "42/42 [==============================] - 0s 5ms/step - loss: 0.0128 - accuracy: 0.9959\n",
      "Epoch 43/90\n",
      "42/42 [==============================] - 0s 6ms/step - loss: 0.0200 - accuracy: 0.9953\n",
      "Epoch 44/90\n",
      "42/42 [==============================] - 0s 3ms/step - loss: 0.0151 - accuracy: 0.9964\n",
      "Epoch 45/90\n",
      "42/42 [==============================] - 0s 3ms/step - loss: 0.0121 - accuracy: 0.9953\n",
      "Epoch 46/90\n",
      "42/42 [==============================] - 0s 3ms/step - loss: 0.0129 - accuracy: 0.9953\n",
      "Epoch 47/90\n",
      "42/42 [==============================] - 0s 3ms/step - loss: 0.0176 - accuracy: 0.9933\n",
      "Epoch 48/90\n",
      "42/42 [==============================] - 0s 3ms/step - loss: 0.0163 - accuracy: 0.9943\n",
      "Epoch 49/90\n",
      "42/42 [==============================] - 0s 3ms/step - loss: 0.0180 - accuracy: 0.9912\n",
      "Epoch 50/90\n",
      "42/42 [==============================] - 0s 3ms/step - loss: 0.0187 - accuracy: 0.9953\n",
      "Epoch 51/90\n",
      "42/42 [==============================] - 0s 3ms/step - loss: 0.0182 - accuracy: 0.9943\n",
      "Epoch 52/90\n",
      "42/42 [==============================] - 0s 3ms/step - loss: 0.0167 - accuracy: 0.9948\n",
      "Epoch 53/90\n",
      "42/42 [==============================] - 0s 3ms/step - loss: 0.0254 - accuracy: 0.9922\n",
      "Epoch 54/90\n",
      "42/42 [==============================] - 0s 3ms/step - loss: 0.0164 - accuracy: 0.9969\n",
      "Epoch 55/90\n",
      "42/42 [==============================] - 0s 3ms/step - loss: 0.0081 - accuracy: 0.9969\n",
      "Epoch 56/90\n",
      "42/42 [==============================] - 0s 3ms/step - loss: 0.0061 - accuracy: 0.9974\n",
      "Epoch 57/90\n",
      "42/42 [==============================] - 0s 3ms/step - loss: 0.0134 - accuracy: 0.9953\n",
      "Epoch 58/90\n",
      "42/42 [==============================] - 0s 3ms/step - loss: 0.0111 - accuracy: 0.9953\n",
      "Epoch 59/90\n",
      "42/42 [==============================] - 0s 3ms/step - loss: 0.0200 - accuracy: 0.9953\n",
      "Epoch 60/90\n",
      "42/42 [==============================] - 0s 3ms/step - loss: 0.0192 - accuracy: 0.9917\n",
      "Epoch 61/90\n",
      "42/42 [==============================] - 0s 3ms/step - loss: 0.0199 - accuracy: 0.9922\n",
      "Epoch 62/90\n",
      "42/42 [==============================] - 0s 3ms/step - loss: 0.0089 - accuracy: 0.9953\n",
      "Epoch 63/90\n",
      "42/42 [==============================] - 0s 3ms/step - loss: 0.0084 - accuracy: 0.9948\n",
      "Epoch 64/90\n",
      "42/42 [==============================] - 0s 3ms/step - loss: 0.0070 - accuracy: 0.9964\n",
      "Epoch 65/90\n",
      "42/42 [==============================] - 0s 3ms/step - loss: 0.0045 - accuracy: 0.9990\n",
      "Epoch 66/90\n",
      "42/42 [==============================] - 0s 3ms/step - loss: 0.0142 - accuracy: 0.9948\n",
      "Epoch 67/90\n",
      "42/42 [==============================] - 0s 3ms/step - loss: 0.0182 - accuracy: 0.9928\n",
      "Epoch 68/90\n",
      "42/42 [==============================] - 0s 3ms/step - loss: 0.0158 - accuracy: 0.9948\n",
      "Epoch 69/90\n",
      "42/42 [==============================] - 0s 3ms/step - loss: 0.0183 - accuracy: 0.9917\n",
      "Epoch 70/90\n",
      "42/42 [==============================] - 0s 3ms/step - loss: 0.0118 - accuracy: 0.9959\n",
      "Epoch 71/90\n",
      "42/42 [==============================] - 0s 3ms/step - loss: 0.0040 - accuracy: 0.9979\n",
      "Epoch 72/90\n",
      "42/42 [==============================] - 0s 3ms/step - loss: 0.0126 - accuracy: 0.9964\n",
      "Epoch 73/90\n",
      "42/42 [==============================] - 0s 3ms/step - loss: 0.0105 - accuracy: 0.9974\n",
      "Epoch 74/90\n",
      "42/42 [==============================] - 0s 3ms/step - loss: 0.0045 - accuracy: 0.9990\n",
      "Epoch 75/90\n",
      "42/42 [==============================] - 0s 3ms/step - loss: 0.0045 - accuracy: 0.9984\n",
      "Epoch 76/90\n",
      "42/42 [==============================] - 0s 3ms/step - loss: 0.0091 - accuracy: 0.9969\n",
      "Epoch 77/90\n",
      "42/42 [==============================] - 0s 4ms/step - loss: 0.0121 - accuracy: 0.9953\n",
      "Epoch 78/90\n",
      "42/42 [==============================] - 0s 4ms/step - loss: 0.0095 - accuracy: 0.9969\n",
      "Epoch 79/90\n",
      "42/42 [==============================] - 0s 4ms/step - loss: 0.0043 - accuracy: 0.9974\n",
      "Epoch 80/90\n",
      "42/42 [==============================] - 0s 3ms/step - loss: 0.0128 - accuracy: 0.9959\n",
      "Epoch 81/90\n",
      "42/42 [==============================] - 0s 3ms/step - loss: 0.0109 - accuracy: 0.9964\n",
      "Epoch 82/90\n",
      "42/42 [==============================] - 0s 4ms/step - loss: 0.0078 - accuracy: 0.9974\n",
      "Epoch 83/90\n",
      "42/42 [==============================] - 0s 3ms/step - loss: 0.0063 - accuracy: 0.9995\n",
      "Epoch 84/90\n",
      "42/42 [==============================] - 0s 3ms/step - loss: 0.0196 - accuracy: 0.9948\n",
      "Epoch 85/90\n",
      "42/42 [==============================] - 0s 3ms/step - loss: 0.0106 - accuracy: 0.9953\n",
      "Epoch 86/90\n",
      "42/42 [==============================] - 0s 3ms/step - loss: 0.0052 - accuracy: 0.9979\n",
      "Epoch 87/90\n",
      "42/42 [==============================] - 0s 3ms/step - loss: 0.0089 - accuracy: 0.9969\n",
      "Epoch 88/90\n",
      "42/42 [==============================] - 0s 4ms/step - loss: 0.0108 - accuracy: 0.9964\n",
      "Epoch 89/90\n",
      "42/42 [==============================] - 0s 3ms/step - loss: 0.0071 - accuracy: 0.9959\n",
      "Epoch 90/90\n",
      "42/42 [==============================] - 0s 3ms/step - loss: 0.0097 - accuracy: 0.9953\n"
     ]
    },
    {
     "data": {
      "text/plain": "<keras.src.callbacks.History at 0x28f3fc490>"
     },
     "execution_count": 16,
     "metadata": {},
     "output_type": "execute_result"
    }
   ],
   "source": [
    "cnn = build_model((27,27), 2, **best_params)\n",
    "cnn.summary()\n",
    "cnn.fit( np.concatenate((X_train, X_val)), np.concatenate((y_train, y_val)), \n",
    "            epochs=best_params[\"epochs\"], \n",
    "            batch_size=best_params[\"batch_size\"])"
   ]
  },
  {
   "cell_type": "code",
   "execution_count": 17,
   "metadata": {
    "scrolled": false,
    "ExecuteTime": {
     "end_time": "2023-06-30T16:10:04.631769Z",
     "start_time": "2023-06-30T16:10:04.414311Z"
    }
   },
   "outputs": [
    {
     "name": "stdout",
     "output_type": "stream",
     "text": [
      "17/17 [==============================] - 0s 873us/step\n",
      "Cohen k 0.9423076923076923\n",
      "Accuracy 0.9711538461538461\n",
      "F1-score [0.97053045 0.97175141]\n",
      "              precision    recall  f1-score   support\n",
      "\n",
      "           0       0.99      0.95      0.97       260\n",
      "           1       0.95      0.99      0.97       260\n",
      "\n",
      "    accuracy                           0.97       520\n",
      "   macro avg       0.97      0.97      0.97       520\n",
      "weighted avg       0.97      0.97      0.97       520\n",
      "\n"
     ]
    }
   ],
   "source": [
    "from sklearn.metrics import f1_score, classification_report, cohen_kappa_score\n",
    "\n",
    "y_pred = np.argmax(cnn.predict(X_test), axis=1)\n",
    "\n",
    "print(f'Cohen k {cohen_kappa_score(y_test, y_pred)}')\n",
    "print('Accuracy %s' % accuracy_score(y_test, y_pred))\n",
    "print('F1-score %s' % f1_score(y_test, y_pred, average=None))\n",
    "print(classification_report(y_test, y_pred))"
   ]
  },
  {
   "cell_type": "markdown",
   "metadata": {},
   "source": [
    "   # LIME Explainer "
   ]
  },
  {
   "cell_type": "markdown",
   "metadata": {},
   "source": [
    "## setting the classifier for explain_instance using the cnn"
   ]
  },
  {
   "cell_type": "code",
   "execution_count": 18,
   "metadata": {
    "ExecuteTime": {
     "end_time": "2023-06-30T16:10:04.795481Z",
     "start_time": "2023-06-30T16:10:04.606267Z"
    }
   },
   "outputs": [],
   "source": [
    "from lime import lime_image\n",
    "from PIL import Image\n",
    "from skimage.segmentation import mark_boundaries\n"
   ]
  },
  {
   "cell_type": "code",
   "execution_count": 19,
   "metadata": {
    "ExecuteTime": {
     "end_time": "2023-06-30T16:10:04.813446Z",
     "start_time": "2023-06-30T16:10:04.798299Z"
    }
   },
   "outputs": [],
   "source": [
    "#To plot the heatmap\n",
    "rgb_traces = []\n",
    "\n",
    "for i in range(len(X_test)):\n",
    "    trace = X_test[i].reshape(27,27)\n",
    "    \n",
    "    min_value = np.min(trace)\n",
    "    max_value = np.max(trace)\n",
    "    matrice_normalizzata = (trace - min_value) / (max_value - min_value)\n",
    "\n",
    "    # Crea una matrice 27x27x3 con valori dei canali di colore basati sulla matrice normalizzata\n",
    "    rosso = matrice_normalizzata\n",
    "    verde = np.zeros_like(matrice_normalizzata)\n",
    "    blu = np.zeros_like(matrice_normalizzata)\n",
    "    heatmap = np.dstack((rosso, verde, blu))\n",
    "    rgb_traces.append(heatmap)\n",
    "\n",
    "rgb_traces = np.array([np.array(trace) for trace in rgb_traces])"
   ]
  },
  {
   "cell_type": "code",
   "execution_count": 20,
   "metadata": {
    "ExecuteTime": {
     "end_time": "2023-06-30T16:10:04.816685Z",
     "start_time": "2023-06-30T16:10:04.813667Z"
    }
   },
   "outputs": [],
   "source": [
    "explainer = lime_image.LimeImageExplainer()"
   ]
  },
  {
   "cell_type": "code",
   "execution_count": 21,
   "metadata": {
    "ExecuteTime": {
     "end_time": "2023-06-30T16:10:04.823566Z",
     "start_time": "2023-06-30T16:10:04.817205Z"
    }
   },
   "outputs": [],
   "source": [
    "import skimage\n",
    "from skimage.color import gray2rgb, rgb2gray\n",
    "\n",
    "def make_prediction(color_img):\n",
    "    gray_img = rgb2gray(color_img).reshape(-1,27,27)\n",
    "    preds = cnn.predict(gray_img)\n",
    "    return preds"
   ]
  },
  {
   "cell_type": "code",
   "execution_count": 22,
   "metadata": {
    "scrolled": true,
    "ExecuteTime": {
     "end_time": "2023-06-30T16:10:07.700881Z",
     "start_time": "2023-06-30T16:10:04.825649Z"
    }
   },
   "outputs": [
    {
     "data": {
      "text/plain": "  0%|          | 0/50 [00:00<?, ?it/s]",
      "application/vnd.jupyter.widget-view+json": {
       "version_major": 2,
       "version_minor": 0,
       "model_id": "d5618f201871404691247ee5c32b5c74"
      }
     },
     "metadata": {},
     "output_type": "display_data"
    },
    {
     "name": "stdout",
     "output_type": "stream",
     "text": [
      "1/1 [==============================] - 0s 10ms/step\n",
      "1/1 [==============================] - 0s 10ms/step\n",
      "1/1 [==============================] - 0s 9ms/step\n",
      "1/1 [==============================] - 0s 10ms/step\n",
      "1/1 [==============================] - 0s 12ms/step\n"
     ]
    },
    {
     "data": {
      "text/plain": "  0%|          | 0/50 [00:00<?, ?it/s]",
      "application/vnd.jupyter.widget-view+json": {
       "version_major": 2,
       "version_minor": 0,
       "model_id": "29be2bd595074742b9fbd16e319ad4cd"
      }
     },
     "metadata": {},
     "output_type": "display_data"
    },
    {
     "name": "stdout",
     "output_type": "stream",
     "text": [
      "1/1 [==============================] - 0s 10ms/step\n",
      "1/1 [==============================] - 0s 11ms/step\n",
      "1/1 [==============================] - 0s 9ms/step\n",
      "1/1 [==============================] - 0s 8ms/step\n",
      "1/1 [==============================] - 0s 9ms/step\n"
     ]
    },
    {
     "data": {
      "text/plain": "  0%|          | 0/50 [00:00<?, ?it/s]",
      "application/vnd.jupyter.widget-view+json": {
       "version_major": 2,
       "version_minor": 0,
       "model_id": "e74dcb4baf7b4ac580e292d67153342d"
      }
     },
     "metadata": {},
     "output_type": "display_data"
    },
    {
     "name": "stdout",
     "output_type": "stream",
     "text": [
      "1/1 [==============================] - 0s 8ms/step\n",
      "1/1 [==============================] - 0s 10ms/step\n",
      "1/1 [==============================] - 0s 18ms/step\n",
      "1/1 [==============================] - 0s 8ms/step\n",
      "1/1 [==============================] - 0s 10ms/step\n"
     ]
    },
    {
     "data": {
      "text/plain": "  0%|          | 0/50 [00:00<?, ?it/s]",
      "application/vnd.jupyter.widget-view+json": {
       "version_major": 2,
       "version_minor": 0,
       "model_id": "f373600a774642fd841fe3e902e58d7f"
      }
     },
     "metadata": {},
     "output_type": "display_data"
    },
    {
     "name": "stdout",
     "output_type": "stream",
     "text": [
      "1/1 [==============================] - 0s 10ms/step\n",
      "1/1 [==============================] - 0s 10ms/step\n",
      "1/1 [==============================] - 0s 10ms/step\n",
      "1/1 [==============================] - 0s 8ms/step\n",
      "1/1 [==============================] - 0s 9ms/step\n"
     ]
    },
    {
     "data": {
      "text/plain": "  0%|          | 0/50 [00:00<?, ?it/s]",
      "application/vnd.jupyter.widget-view+json": {
       "version_major": 2,
       "version_minor": 0,
       "model_id": "902495752ac7430fa41a1f97cc920332"
      }
     },
     "metadata": {},
     "output_type": "display_data"
    },
    {
     "name": "stdout",
     "output_type": "stream",
     "text": [
      "1/1 [==============================] - 0s 8ms/step\n",
      "1/1 [==============================] - 0s 11ms/step\n",
      "1/1 [==============================] - 0s 8ms/step\n",
      "1/1 [==============================] - 0s 8ms/step\n",
      "1/1 [==============================] - 0s 10ms/step\n",
      "1/1 [==============================] - 0s 8ms/step\n",
      "Prediction :  1\n",
      "Actual : 1       index:4\n"
     ]
    },
    {
     "data": {
      "text/plain": "  0%|          | 0/50 [00:00<?, ?it/s]",
      "application/vnd.jupyter.widget-view+json": {
       "version_major": 2,
       "version_minor": 0,
       "model_id": "fe74d931fa904e33ab5317578afb96b5"
      }
     },
     "metadata": {},
     "output_type": "display_data"
    },
    {
     "name": "stdout",
     "output_type": "stream",
     "text": [
      "1/1 [==============================] - 0s 8ms/step\n",
      "1/1 [==============================] - 0s 9ms/step\n",
      "1/1 [==============================] - 0s 7ms/step\n",
      "1/1 [==============================] - 0s 11ms/step\n",
      "1/1 [==============================] - 0s 9ms/step\n"
     ]
    },
    {
     "data": {
      "text/plain": "  0%|          | 0/50 [00:00<?, ?it/s]",
      "application/vnd.jupyter.widget-view+json": {
       "version_major": 2,
       "version_minor": 0,
       "model_id": "cb62e9327d09496284c9bd6e9ae5a00e"
      }
     },
     "metadata": {},
     "output_type": "display_data"
    },
    {
     "name": "stdout",
     "output_type": "stream",
     "text": [
      "1/1 [==============================] - 0s 9ms/step\n",
      "1/1 [==============================] - 0s 8ms/step\n",
      "1/1 [==============================] - 0s 10ms/step\n",
      "1/1 [==============================] - 0s 9ms/step\n",
      "1/1 [==============================] - 0s 8ms/step\n"
     ]
    },
    {
     "data": {
      "text/plain": "  0%|          | 0/50 [00:00<?, ?it/s]",
      "application/vnd.jupyter.widget-view+json": {
       "version_major": 2,
       "version_minor": 0,
       "model_id": "a4f8dd71a0744962b4efc648bec15d37"
      }
     },
     "metadata": {},
     "output_type": "display_data"
    },
    {
     "name": "stdout",
     "output_type": "stream",
     "text": [
      "1/1 [==============================] - 0s 8ms/step\n",
      "1/1 [==============================] - 0s 12ms/step\n",
      "1/1 [==============================] - 0s 8ms/step\n",
      "1/1 [==============================] - 0s 9ms/step\n",
      "1/1 [==============================] - 0s 7ms/step\n"
     ]
    },
    {
     "data": {
      "text/plain": "  0%|          | 0/50 [00:00<?, ?it/s]",
      "application/vnd.jupyter.widget-view+json": {
       "version_major": 2,
       "version_minor": 0,
       "model_id": "8aa771089f384e2ab8ce5c3bf87d2066"
      }
     },
     "metadata": {},
     "output_type": "display_data"
    },
    {
     "name": "stdout",
     "output_type": "stream",
     "text": [
      "1/1 [==============================] - 0s 12ms/step\n",
      "1/1 [==============================] - 0s 8ms/step\n",
      "1/1 [==============================] - 0s 8ms/step\n",
      "1/1 [==============================] - 0s 8ms/step\n",
      "1/1 [==============================] - 0s 8ms/step\n"
     ]
    },
    {
     "data": {
      "text/plain": "  0%|          | 0/50 [00:00<?, ?it/s]",
      "application/vnd.jupyter.widget-view+json": {
       "version_major": 2,
       "version_minor": 0,
       "model_id": "852abd93ce3d43a6a4bd8e9bf05af84f"
      }
     },
     "metadata": {},
     "output_type": "display_data"
    },
    {
     "name": "stdout",
     "output_type": "stream",
     "text": [
      "1/1 [==============================] - 0s 9ms/step\n",
      "1/1 [==============================] - 0s 9ms/step\n",
      "1/1 [==============================] - 0s 9ms/step\n",
      "1/1 [==============================] - 0s 9ms/step\n",
      "1/1 [==============================] - 0s 11ms/step\n"
     ]
    },
    {
     "data": {
      "text/plain": "  0%|          | 0/50 [00:00<?, ?it/s]",
      "application/vnd.jupyter.widget-view+json": {
       "version_major": 2,
       "version_minor": 0,
       "model_id": "32e34d0990f74e83b91715bf7a8b1650"
      }
     },
     "metadata": {},
     "output_type": "display_data"
    },
    {
     "name": "stdout",
     "output_type": "stream",
     "text": [
      "1/1 [==============================] - 0s 9ms/step\n",
      "1/1 [==============================] - 0s 10ms/step\n",
      "1/1 [==============================] - 0s 8ms/step\n",
      "1/1 [==============================] - 0s 9ms/step\n",
      "1/1 [==============================] - 0s 10ms/step\n"
     ]
    },
    {
     "data": {
      "text/plain": "  0%|          | 0/50 [00:00<?, ?it/s]",
      "application/vnd.jupyter.widget-view+json": {
       "version_major": 2,
       "version_minor": 0,
       "model_id": "9dd8c82ee8fd4068adf006292ade2aeb"
      }
     },
     "metadata": {},
     "output_type": "display_data"
    },
    {
     "name": "stdout",
     "output_type": "stream",
     "text": [
      "1/1 [==============================] - 0s 10ms/step\n",
      "1/1 [==============================] - 0s 10ms/step\n",
      "1/1 [==============================] - 0s 8ms/step\n",
      "1/1 [==============================] - 0s 9ms/step\n",
      "1/1 [==============================] - 0s 8ms/step\n"
     ]
    },
    {
     "data": {
      "text/plain": "  0%|          | 0/50 [00:00<?, ?it/s]",
      "application/vnd.jupyter.widget-view+json": {
       "version_major": 2,
       "version_minor": 0,
       "model_id": "a219e45fa6b740c5b765d8d0f22dd81f"
      }
     },
     "metadata": {},
     "output_type": "display_data"
    },
    {
     "name": "stdout",
     "output_type": "stream",
     "text": [
      "1/1 [==============================] - 0s 9ms/step\n",
      "1/1 [==============================] - 0s 8ms/step\n",
      "1/1 [==============================] - 0s 8ms/step\n",
      "1/1 [==============================] - 0s 8ms/step\n",
      "1/1 [==============================] - 0s 9ms/step\n"
     ]
    },
    {
     "data": {
      "text/plain": "  0%|          | 0/50 [00:00<?, ?it/s]",
      "application/vnd.jupyter.widget-view+json": {
       "version_major": 2,
       "version_minor": 0,
       "model_id": "6ec3ba5304fc4e6fa5d1b15b0dc0db1d"
      }
     },
     "metadata": {},
     "output_type": "display_data"
    },
    {
     "name": "stdout",
     "output_type": "stream",
     "text": [
      "1/1 [==============================] - 0s 10ms/step\n",
      "1/1 [==============================] - 0s 8ms/step\n",
      "1/1 [==============================] - 0s 9ms/step\n",
      "1/1 [==============================] - 0s 10ms/step\n",
      "1/1 [==============================] - 0s 8ms/step\n"
     ]
    },
    {
     "data": {
      "text/plain": "  0%|          | 0/50 [00:00<?, ?it/s]",
      "application/vnd.jupyter.widget-view+json": {
       "version_major": 2,
       "version_minor": 0,
       "model_id": "e50a67175cea454192202ec7e1f04912"
      }
     },
     "metadata": {},
     "output_type": "display_data"
    },
    {
     "name": "stdout",
     "output_type": "stream",
     "text": [
      "1/1 [==============================] - 0s 9ms/step\n",
      "1/1 [==============================] - 0s 10ms/step\n",
      "1/1 [==============================] - 0s 8ms/step\n",
      "1/1 [==============================] - 0s 10ms/step\n",
      "1/1 [==============================] - 0s 8ms/step\n"
     ]
    },
    {
     "data": {
      "text/plain": "  0%|          | 0/50 [00:00<?, ?it/s]",
      "application/vnd.jupyter.widget-view+json": {
       "version_major": 2,
       "version_minor": 0,
       "model_id": "1e7728325e154d4f951729c2c3de821b"
      }
     },
     "metadata": {},
     "output_type": "display_data"
    },
    {
     "name": "stdout",
     "output_type": "stream",
     "text": [
      "1/1 [==============================] - 0s 7ms/step\n",
      "1/1 [==============================] - 0s 9ms/step\n",
      "1/1 [==============================] - 0s 8ms/step\n",
      "1/1 [==============================] - 0s 9ms/step\n",
      "1/1 [==============================] - 0s 8ms/step\n"
     ]
    },
    {
     "data": {
      "text/plain": "  0%|          | 0/50 [00:00<?, ?it/s]",
      "application/vnd.jupyter.widget-view+json": {
       "version_major": 2,
       "version_minor": 0,
       "model_id": "55bc8d52a91248439a4ae09057f4cfe7"
      }
     },
     "metadata": {},
     "output_type": "display_data"
    },
    {
     "name": "stdout",
     "output_type": "stream",
     "text": [
      "1/1 [==============================] - 0s 8ms/step\n",
      "1/1 [==============================] - 0s 8ms/step\n",
      "1/1 [==============================] - 0s 8ms/step\n",
      "1/1 [==============================] - 0s 8ms/step\n",
      "1/1 [==============================] - 0s 9ms/step\n"
     ]
    },
    {
     "data": {
      "text/plain": "  0%|          | 0/50 [00:00<?, ?it/s]",
      "application/vnd.jupyter.widget-view+json": {
       "version_major": 2,
       "version_minor": 0,
       "model_id": "26ef75d5a60e4ea1bd3e890ea836d0f7"
      }
     },
     "metadata": {},
     "output_type": "display_data"
    },
    {
     "name": "stdout",
     "output_type": "stream",
     "text": [
      "1/1 [==============================] - 0s 17ms/step\n",
      "1/1 [==============================] - 0s 9ms/step\n",
      "1/1 [==============================] - 0s 7ms/step\n",
      "1/1 [==============================] - 0s 7ms/step\n",
      "1/1 [==============================] - 0s 10ms/step\n"
     ]
    },
    {
     "data": {
      "text/plain": "  0%|          | 0/50 [00:00<?, ?it/s]",
      "application/vnd.jupyter.widget-view+json": {
       "version_major": 2,
       "version_minor": 0,
       "model_id": "eb359ba5c2dc47eca40d52b85cd9b745"
      }
     },
     "metadata": {},
     "output_type": "display_data"
    },
    {
     "name": "stdout",
     "output_type": "stream",
     "text": [
      "1/1 [==============================] - 0s 11ms/step\n",
      "1/1 [==============================] - 0s 8ms/step\n",
      "1/1 [==============================] - 0s 10ms/step\n",
      "1/1 [==============================] - 0s 8ms/step\n",
      "1/1 [==============================] - 0s 8ms/step\n"
     ]
    },
    {
     "data": {
      "text/plain": "  0%|          | 0/50 [00:00<?, ?it/s]",
      "application/vnd.jupyter.widget-view+json": {
       "version_major": 2,
       "version_minor": 0,
       "model_id": "498bb9def19d437f8db8d245e7356975"
      }
     },
     "metadata": {},
     "output_type": "display_data"
    },
    {
     "name": "stdout",
     "output_type": "stream",
     "text": [
      "1/1 [==============================] - 0s 10ms/step\n",
      "1/1 [==============================] - 0s 7ms/step\n",
      "1/1 [==============================] - 0s 8ms/step\n",
      "1/1 [==============================] - 0s 9ms/step\n",
      "1/1 [==============================] - 0s 8ms/step\n",
      "1/1 [==============================] - 0s 8ms/step\n",
      "Prediction :  0\n",
      "Actual : 0       index:19\n",
      "1/1 [==============================] - 0s 9ms/step\n"
     ]
    }
   ],
   "source": [
    "#Search for images that aren't full classified\n",
    "indexes = []\n",
    "for idx in range(20):\n",
    "    explanation = explainer.explain_instance(gray2rgb(X_test[idx]), classifier_fn=make_prediction, num_samples=50)\n",
    "    temp, mask = explanation.get_image_and_mask(1, num_features=10, hide_rest=False)\n",
    "    if ((not np.all(mask==0))&(not np.all(mask==1))):\n",
    "        print(\"Prediction : \", np.argmax(cnn.predict(X_test[idx].reshape(-1,27,27))))\n",
    "        print(f\"Actual : {y_test[idx]}       index:{idx}\")\n",
    "        indexes.append(idx)\n",
    "explained = pd.DataFrame()\n",
    "explained['Index'] = indexes\n",
    "explained['Prediction'] = np.argmax(cnn.predict(X_test[indexes].reshape(-len(indexes),27,27)), axis=1)\n",
    "explained['Actual'] = y_test[indexes]"
   ]
  },
  {
   "cell_type": "code",
   "execution_count": 23,
   "metadata": {
    "ExecuteTime": {
     "end_time": "2023-06-30T16:10:07.710330Z",
     "start_time": "2023-06-30T16:10:07.700321Z"
    }
   },
   "outputs": [
    {
     "data": {
      "text/plain": "   Index  Prediction  Actual\n0      4           1       1\n1     19           0       0",
      "text/html": "<div>\n<style scoped>\n    .dataframe tbody tr th:only-of-type {\n        vertical-align: middle;\n    }\n\n    .dataframe tbody tr th {\n        vertical-align: top;\n    }\n\n    .dataframe thead th {\n        text-align: right;\n    }\n</style>\n<table border=\"1\" class=\"dataframe\">\n  <thead>\n    <tr style=\"text-align: right;\">\n      <th></th>\n      <th>Index</th>\n      <th>Prediction</th>\n      <th>Actual</th>\n    </tr>\n  </thead>\n  <tbody>\n    <tr>\n      <th>0</th>\n      <td>4</td>\n      <td>1</td>\n      <td>1</td>\n    </tr>\n    <tr>\n      <th>1</th>\n      <td>19</td>\n      <td>0</td>\n      <td>0</td>\n    </tr>\n  </tbody>\n</table>\n</div>"
     },
     "execution_count": 23,
     "metadata": {},
     "output_type": "execute_result"
    }
   ],
   "source": [
    "explained"
   ]
  },
  {
   "cell_type": "code",
   "execution_count": 24,
   "metadata": {
    "ExecuteTime": {
     "end_time": "2023-06-30T16:10:07.956743Z",
     "start_time": "2023-06-30T16:10:07.704565Z"
    }
   },
   "outputs": [
    {
     "data": {
      "text/plain": "  0%|          | 0/50 [00:00<?, ?it/s]",
      "application/vnd.jupyter.widget-view+json": {
       "version_major": 2,
       "version_minor": 0,
       "model_id": "bb63e4251e984e3894394e58cf201e9f"
      }
     },
     "metadata": {},
     "output_type": "display_data"
    },
    {
     "name": "stdout",
     "output_type": "stream",
     "text": [
      "1/1 [==============================] - 0s 9ms/step\n",
      "1/1 [==============================] - 0s 11ms/step\n",
      "1/1 [==============================] - 0s 9ms/step\n",
      "1/1 [==============================] - 0s 8ms/step\n",
      "1/1 [==============================] - 0s 10ms/step\n"
     ]
    }
   ],
   "source": [
    "idx=0 #choose the index between 0-len(inedexes)\n",
    "explanation = explainer.explain_instance(gray2rgb(X_test[indexes[idx]]), classifier_fn=make_prediction, num_samples=50)\n",
    "temp, mask = explanation.get_image_and_mask(y_test[indexes[idx]], num_features=10, hide_rest=False)"
   ]
  },
  {
   "cell_type": "code",
   "execution_count": 25,
   "metadata": {
    "scrolled": false,
    "ExecuteTime": {
     "end_time": "2023-06-30T16:10:08.159815Z",
     "start_time": "2023-06-30T16:10:07.853381Z"
    }
   },
   "outputs": [
    {
     "name": "stderr",
     "output_type": "stream",
     "text": [
      "Clipping input data to the valid range for imshow with RGB data ([0..1] for floats or [0..255] for integers).\n"
     ]
    },
    {
     "data": {
      "text/plain": "<matplotlib.image.AxesImage at 0x174ade910>"
     },
     "execution_count": 25,
     "metadata": {},
     "output_type": "execute_result"
    },
    {
     "data": {
      "text/plain": "<Figure size 354.331x236.22 with 1 Axes>",
      "image/png": "[encoded data removed]"
     },
     "metadata": {},
     "output_type": "display_data"
    }
   ],
   "source": [
    "marked_image = mark_boundaries(temp , mask)\n",
    "plt.title(f'test_trace_{indexes[idx]} with prediction { explained[\"Prediction\"][idx] }')\n",
    "plt.imshow(marked_image)"
   ]
  },
  {
   "cell_type": "code",
   "execution_count": 26,
   "metadata": {
    "ExecuteTime": {
     "end_time": "2023-06-30T16:10:08.730401Z",
     "start_time": "2023-06-30T16:10:08.168249Z"
    }
   },
   "outputs": [
    {
     "name": "stderr",
     "output_type": "stream",
     "text": [
      "Clipping input data to the valid range for imshow with RGB data ([0..1] for floats or [0..255] for integers).\n",
      "Clipping input data to the valid range for imshow with RGB data ([0..1] for floats or [0..255] for integers).\n"
     ]
    },
    {
     "data": {
      "text/plain": "Text(0.5, 1.0, 'LIME Explanation')"
     },
     "execution_count": 26,
     "metadata": {},
     "output_type": "execute_result"
    },
    {
     "data": {
      "text/plain": "<Figure size 354.331x236.22 with 2 Axes>",
      "image/png": "[encoded data removed]"
     },
     "metadata": {},
     "output_type": "display_data"
    }
   ],
   "source": [
    "plt.subplot(1,2, 1)\n",
    "plt.imshow(gray2rgb(X_test[indexes[0]]), cmap='gray')\n",
    "plt.title('Original Image')\n",
    "\n",
    "plt.subplot(1, 2, 2)\n",
    "plt.imshow(marked_image)\n",
    "plt.title('LIME Explanation')"
   ]
  },
  {
   "cell_type": "code",
   "execution_count": 28,
   "metadata": {
    "ExecuteTime": {
     "end_time": "2023-06-30T16:12:21.629448Z",
     "start_time": "2023-06-30T16:12:20.867883Z"
    }
   },
   "outputs": [
    {
     "name": "stderr",
     "output_type": "stream",
     "text": [
      "Clipping input data to the valid range for imshow with RGB data ([0..1] for floats or [0..255] for integers).\n",
      "Clipping input data to the valid range for imshow with RGB data ([0..1] for floats or [0..255] for integers).\n"
     ]
    },
    {
     "data": {
      "text/plain": "<Figure size 1500x500 with 4 Axes>",
      "image/png": "[encoded data removed]"
     },
     "metadata": {},
     "output_type": "display_data"
    }
   ],
   "source": [
    "from skimage.segmentation import mark_boundaries\n",
    "import matplotlib.pyplot as plt\n",
    "\n",
    "def plot_comparison(main_image, image, mask):\n",
    "    fig = plt.figure(figsize=(15,5))\n",
    "\n",
    "    ax = fig.add_subplot(141)\n",
    "    ax.imshow(main_image, cmap=\"gray\")\n",
    "    ax.set_title(\"Original Image\")\n",
    "    ax = fig.add_subplot(142)\n",
    "    ax.imshow(image)\n",
    "    ax.set_title(\"Image\")\n",
    "    ax = fig.add_subplot(143)\n",
    "    ax.imshow(mask)\n",
    "    ax.set_title(\"Mask\")\n",
    "    ax = fig.add_subplot(144)\n",
    "    ax.imshow(marked_image)\n",
    "    ax.set_title(\"Image+Mask Combined\")\n",
    "\n",
    "plot_comparison(X_test[indexes[0]], gray2rgb(X_test[indexes[0]]), mask)"
   ]
  },
  {
   "cell_type": "code",
   "execution_count": null,
   "outputs": [],
   "source": [],
   "metadata": {
    "collapsed": false
   }
  }
 ],
 "metadata": {
  "kernelspec": {
   "name": "python3",
   "language": "python",
   "display_name": "Python 3 (ipykernel)"
  },
  "language_info": {
   "codemirror_mode": {
    "name": "ipython",
    "version": 3
   },
   "file_extension": ".py",
   "mimetype": "text/x-python",
   "name": "python",
   "nbconvert_exporter": "python",
   "pygments_lexer": "ipython3",
   "version": "3.11.0"
  }
 },
 "nbformat": 4,
 "nbformat_minor": 1
}
