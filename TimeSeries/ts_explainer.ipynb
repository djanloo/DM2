{
 "cells": [
  {
   "cell_type": "code",
   "execution_count": 179,
   "metadata": {
    "ExecuteTime": {
     "end_time": "2023-06-26T15:10:24.956726Z",
     "start_time": "2023-06-26T15:10:24.954382Z"
    }
   },
   "outputs": [],
   "source": [
    "import os\n",
    "import numpy as np\n",
    "import pandas as pd\n",
    "import matplotlib.pyplot as plt\n",
    "import seaborn as sns; sns.set()\n",
    "\n",
    "import sys\n",
    "sys.path.append('../')\n",
    "import default_style"
   ]
  },
  {
   "cell_type": "code",
   "execution_count": 180,
   "metadata": {
    "ExecuteTime": {
     "end_time": "2023-06-26T15:10:24.966635Z",
     "start_time": "2023-06-26T15:10:24.957647Z"
    }
   },
   "outputs": [],
   "source": [
    "TS_DATASET_FOLDER = os.path.join('..', 'dataset')\n",
    "TS_PREPROC_FOLDER = os.path.join(TS_DATASET_FOLDER, 'preprocessed_traces')\n",
    "DF_PREPROC_FILE = os.path.join(TS_PREPROC_FOLDER, 'preproc_ts.df')\n",
    "\n",
    "TARGET = 'statement'\n",
    "TRACES = 'syllables_02_STFT'"
   ]
  },
  {
   "cell_type": "code",
   "execution_count": 181,
   "metadata": {
    "ExecuteTime": {
     "end_time": "2023-06-26T15:10:24.995692Z",
     "start_time": "2023-06-26T15:10:24.959858Z"
    }
   },
   "outputs": [
    {
     "data": {
      "text/html": [
       "<div>\n",
       "<style scoped>\n",
       "    .dataframe tbody tr th:only-of-type {\n",
       "        vertical-align: middle;\n",
       "    }\n",
       "\n",
       "    .dataframe tbody tr th {\n",
       "        vertical-align: top;\n",
       "    }\n",
       "\n",
       "    .dataframe thead th {\n",
       "        text-align: right;\n",
       "    }\n",
       "</style>\n",
       "<table border=\"1\" class=\"dataframe\">\n",
       "  <thead>\n",
       "    <tr style=\"text-align: right;\">\n",
       "      <th></th>\n",
       "      <th>vocal_channel</th>\n",
       "      <th>emotion</th>\n",
       "      <th>emotional_intensity</th>\n",
       "      <th>statement</th>\n",
       "      <th>repetition</th>\n",
       "      <th>actor</th>\n",
       "      <th>path</th>\n",
       "      <th>sex</th>\n",
       "      <th>begin_s</th>\n",
       "      <th>end_s</th>\n",
       "      <th>...</th>\n",
       "      <th>filtered_fourier_coeffs</th>\n",
       "      <th>syll_0_start_index</th>\n",
       "      <th>syll_1_start_index</th>\n",
       "      <th>syll_2_start_index</th>\n",
       "      <th>syll_3_start_index</th>\n",
       "      <th>syll_4_start_index</th>\n",
       "      <th>syll_5_start_index</th>\n",
       "      <th>syll_6_start_index</th>\n",
       "      <th>syll_7_start_index</th>\n",
       "      <th>actor_number</th>\n",
       "    </tr>\n",
       "  </thead>\n",
       "  <tbody>\n",
       "    <tr>\n",
       "      <th>0</th>\n",
       "      <td>speech</td>\n",
       "      <td>neutral</td>\n",
       "      <td>normal</td>\n",
       "      <td>kids</td>\n",
       "      <td>1st</td>\n",
       "      <td>actor_01</td>\n",
       "      <td>../dataset/Audio_Speech_Actors_01-24/Actor_01/...</td>\n",
       "      <td>M</td>\n",
       "      <td>1.009833</td>\n",
       "      <td>2.252000</td>\n",
       "      <td>...</td>\n",
       "      <td>[1.9371510e-07 1.2311473e-02 1.1168692e-02 ......</td>\n",
       "      <td>0</td>\n",
       "      <td>1128</td>\n",
       "      <td>2240</td>\n",
       "      <td>3200</td>\n",
       "      <td>4304</td>\n",
       "      <td>5208</td>\n",
       "      <td>5808</td>\n",
       "      <td>7448</td>\n",
       "      <td>1</td>\n",
       "    </tr>\n",
       "    <tr>\n",
       "      <th>1</th>\n",
       "      <td>speech</td>\n",
       "      <td>neutral</td>\n",
       "      <td>normal</td>\n",
       "      <td>kids</td>\n",
       "      <td>2nd</td>\n",
       "      <td>actor_01</td>\n",
       "      <td>../dataset/Audio_Speech_Actors_01-24/Actor_01/...</td>\n",
       "      <td>M</td>\n",
       "      <td>1.068500</td>\n",
       "      <td>2.294667</td>\n",
       "      <td>...</td>\n",
       "      <td>[3.5017729e-07 2.6198970e-02 2.5683273e-02 ......</td>\n",
       "      <td>0</td>\n",
       "      <td>2008</td>\n",
       "      <td>3208</td>\n",
       "      <td>3880</td>\n",
       "      <td>4224</td>\n",
       "      <td>5112</td>\n",
       "      <td>5800</td>\n",
       "      <td>7352</td>\n",
       "      <td>1</td>\n",
       "    </tr>\n",
       "    <tr>\n",
       "      <th>2</th>\n",
       "      <td>speech</td>\n",
       "      <td>neutral</td>\n",
       "      <td>normal</td>\n",
       "      <td>dogs</td>\n",
       "      <td>1st</td>\n",
       "      <td>actor_01</td>\n",
       "      <td>../dataset/Audio_Speech_Actors_01-24/Actor_01/...</td>\n",
       "      <td>M</td>\n",
       "      <td>1.012000</td>\n",
       "      <td>2.238500</td>\n",
       "      <td>...</td>\n",
       "      <td>[2.49594450e-07 1.23483688e-02 1.06786685e-02 ...</td>\n",
       "      <td>0</td>\n",
       "      <td>2816</td>\n",
       "      <td>3352</td>\n",
       "      <td>3912</td>\n",
       "      <td>4296</td>\n",
       "      <td>5232</td>\n",
       "      <td>5880</td>\n",
       "      <td>7352</td>\n",
       "      <td>1</td>\n",
       "    </tr>\n",
       "    <tr>\n",
       "      <th>3</th>\n",
       "      <td>speech</td>\n",
       "      <td>neutral</td>\n",
       "      <td>normal</td>\n",
       "      <td>dogs</td>\n",
       "      <td>2nd</td>\n",
       "      <td>actor_01</td>\n",
       "      <td>../dataset/Audio_Speech_Actors_01-24/Actor_01/...</td>\n",
       "      <td>M</td>\n",
       "      <td>1.008833</td>\n",
       "      <td>2.187167</td>\n",
       "      <td>...</td>\n",
       "      <td>[1.1920929e-07 1.2154780e-02 1.6620707e-02 ......</td>\n",
       "      <td>0</td>\n",
       "      <td>1664</td>\n",
       "      <td>2664</td>\n",
       "      <td>3208</td>\n",
       "      <td>3672</td>\n",
       "      <td>4840</td>\n",
       "      <td>5448</td>\n",
       "      <td>7064</td>\n",
       "      <td>1</td>\n",
       "    </tr>\n",
       "    <tr>\n",
       "      <th>4</th>\n",
       "      <td>speech</td>\n",
       "      <td>calm</td>\n",
       "      <td>normal</td>\n",
       "      <td>kids</td>\n",
       "      <td>1st</td>\n",
       "      <td>actor_01</td>\n",
       "      <td>../dataset/Audio_Speech_Actors_01-24/Actor_01/...</td>\n",
       "      <td>M</td>\n",
       "      <td>1.023667</td>\n",
       "      <td>2.534167</td>\n",
       "      <td>...</td>\n",
       "      <td>[1.1920929e-07 2.0026902e-03 7.9688808e-04 ......</td>\n",
       "      <td>0</td>\n",
       "      <td>2088</td>\n",
       "      <td>3584</td>\n",
       "      <td>4832</td>\n",
       "      <td>5800</td>\n",
       "      <td>6944</td>\n",
       "      <td>7560</td>\n",
       "      <td>9056</td>\n",
       "      <td>1</td>\n",
       "    </tr>\n",
       "  </tbody>\n",
       "</table>\n",
       "<p>5 rows × 21 columns</p>\n",
       "</div>"
      ],
      "text/plain": [
       "  vocal_channel  emotion emotional_intensity statement repetition     actor  \\\n",
       "0        speech  neutral              normal      kids        1st  actor_01   \n",
       "1        speech  neutral              normal      kids        2nd  actor_01   \n",
       "2        speech  neutral              normal      dogs        1st  actor_01   \n",
       "3        speech  neutral              normal      dogs        2nd  actor_01   \n",
       "4        speech     calm              normal      kids        1st  actor_01   \n",
       "\n",
       "                                                path sex   begin_s     end_s  \\\n",
       "0  ../dataset/Audio_Speech_Actors_01-24/Actor_01/...   M  1.009833  2.252000   \n",
       "1  ../dataset/Audio_Speech_Actors_01-24/Actor_01/...   M  1.068500  2.294667   \n",
       "2  ../dataset/Audio_Speech_Actors_01-24/Actor_01/...   M  1.012000  2.238500   \n",
       "3  ../dataset/Audio_Speech_Actors_01-24/Actor_01/...   M  1.008833  2.187167   \n",
       "4  ../dataset/Audio_Speech_Actors_01-24/Actor_01/...   M  1.023667  2.534167   \n",
       "\n",
       "   ...                            filtered_fourier_coeffs syll_0_start_index  \\\n",
       "0  ...  [1.9371510e-07 1.2311473e-02 1.1168692e-02 ......                  0   \n",
       "1  ...  [3.5017729e-07 2.6198970e-02 2.5683273e-02 ......                  0   \n",
       "2  ...  [2.49594450e-07 1.23483688e-02 1.06786685e-02 ...                  0   \n",
       "3  ...  [1.1920929e-07 1.2154780e-02 1.6620707e-02 ......                  0   \n",
       "4  ...  [1.1920929e-07 2.0026902e-03 7.9688808e-04 ......                  0   \n",
       "\n",
       "   syll_1_start_index  syll_2_start_index  syll_3_start_index  \\\n",
       "0                1128                2240                3200   \n",
       "1                2008                3208                3880   \n",
       "2                2816                3352                3912   \n",
       "3                1664                2664                3208   \n",
       "4                2088                3584                4832   \n",
       "\n",
       "   syll_4_start_index  syll_5_start_index  syll_6_start_index  \\\n",
       "0                4304                5208                5808   \n",
       "1                4224                5112                5800   \n",
       "2                4296                5232                5880   \n",
       "3                3672                4840                5448   \n",
       "4                5800                6944                7560   \n",
       "\n",
       "   syll_7_start_index  actor_number  \n",
       "0                7448             1  \n",
       "1                7352             1  \n",
       "2                7352             1  \n",
       "3                7064             1  \n",
       "4                9056             1  \n",
       "\n",
       "[5 rows x 21 columns]"
      ]
     },
     "execution_count": 181,
     "metadata": {},
     "output_type": "execute_result"
    }
   ],
   "source": [
    "df = pd.read_csv(DF_PREPROC_FILE).drop(columns=['Unnamed: 0'])\n",
    "df[\"actor_number\"] = df.actor.apply(lambda x: int(x.split(\"_\")[1]))\n",
    "df.head()"
   ]
  },
  {
   "cell_type": "code",
   "execution_count": 182,
   "metadata": {
    "ExecuteTime": {
     "end_time": "2023-06-26T15:10:24.996125Z",
     "start_time": "2023-06-26T15:10:24.982179Z"
    }
   },
   "outputs": [],
   "source": [
    "traces_dict = {}\n",
    "files = os.listdir(TS_PREPROC_FOLDER)\n",
    "\n",
    "# SORRY PAOLINO BUT I HAVE A CHICCO PC AND I CANNOT LOAD IT ALL\n",
    "\n",
    "# for file in files:\n",
    "\n",
    "#     if file.endswith('.npy'):\n",
    "#         file_path = os.path.join(TS_PREPROC_FOLDER, file)\n",
    "#         # dictionary keys are the file names\n",
    "#         key = os.path.splitext(file)[0]\n",
    "#         # load array\n",
    "#         traces_dict[key] = np.load(file_path, allow_pickle=True)\n",
    "\n",
    "# traces_dict.keys()\n",
    "\n",
    "file_path = os.path.join(TS_PREPROC_FOLDER, f\"{TRACES}.npy\")\n",
    "traces_dict[TRACES] = np.load(file_path, allow_pickle=True)\n"
   ]
  },
  {
   "cell_type": "code",
   "execution_count": 183,
   "metadata": {
    "ExecuteTime": {
     "end_time": "2023-06-26T15:10:24.996511Z",
     "start_time": "2023-06-26T15:10:24.992210Z"
    }
   },
   "outputs": [
    {
     "data": {
      "text/plain": [
       "(2452, 27, 27)"
      ]
     },
     "execution_count": 183,
     "metadata": {},
     "output_type": "execute_result"
    }
   ],
   "source": [
    "traces = traces_dict[TRACES]\n",
    "# traces = traces.reshape(2452, 729)\n",
    "traces.shape"
   ]
  },
  {
   "cell_type": "code",
   "execution_count": 184,
   "metadata": {
    "ExecuteTime": {
     "end_time": "2023-06-26T15:10:25.183701Z",
     "start_time": "2023-06-26T15:10:24.995555Z"
    }
   },
   "outputs": [
    {
     "data": {
      "image/png": "[encoded data removed]",
      "text/plain": [
       "<Figure size 354.331x236.22 with 1 Axes>"
      ]
     },
     "metadata": {},
     "output_type": "display_data"
    }
   ],
   "source": [
    "index = 0\n",
    "statement = df['statement'][index]\n",
    "plt.plot(traces[index])\n",
    "plt.title(f'Time series at row #{index}, statement: {statement}')\n",
    "plt.show()"
   ]
  },
  {
   "cell_type": "code",
   "execution_count": 185,
   "metadata": {
    "ExecuteTime": {
     "end_time": "2023-06-25T16:50:56.578540Z",
     "start_time": "2023-06-25T16:50:56.407787Z"
    }
   },
   "outputs": [],
   "source": [
    "from sklearn.model_selection import train_test_split"
   ]
  },
  {
   "cell_type": "code",
   "execution_count": 186,
   "metadata": {
    "ExecuteTime": {
     "end_time": "2023-06-25T16:50:56.578540Z",
     "start_time": "2023-06-25T16:50:56.407787Z"
    },
    "scrolled": true
   },
   "outputs": [
    {
     "data": {
      "text/plain": [
       "((1545, 27, 27), (387, 27, 27), (520, 27, 27), (1545,), (387,), (520,))"
      ]
     },
     "execution_count": 186,
     "metadata": {},
     "output_type": "execute_result"
    }
   ],
   "source": [
    "# Sets tests to be over actor 19 (excluded)\n",
    "X_test = traces[df.actor_number > 19]\n",
    "y_test = df[TARGET][df.actor_number > 19].to_numpy()\n",
    "\n",
    "# Sets the train and validation inside actors < 19\n",
    "X_train, X_val, y_train, y_val = train_test_split(  traces[df.actor_number <= 19], \n",
    "                                                    df[TARGET][df.actor_number <= 19].to_numpy(), \n",
    "                                                    test_size=0.2, random_state=100)\n",
    "\n",
    "X_train.shape, X_val.shape, X_test.shape, y_train.shape, y_val.shape, y_test.shape"
   ]
  },
  {
   "cell_type": "code",
   "execution_count": 187,
   "metadata": {},
   "outputs": [
    {
     "name": "stderr",
     "output_type": "stream",
     "text": [
      "C:\\Users\\emanu\\.virtualenvs\\DM2-HUE9YkAX\\Lib\\site-packages\\IPython\\core\\events.py:93: UserWarning: This figure includes Axes that are not compatible with tight_layout, so results might be incorrect.\n",
      "  func(*args, **kwargs)\n",
      "C:\\Users\\emanu\\.virtualenvs\\DM2-HUE9YkAX\\Lib\\site-packages\\IPython\\core\\pylabtools.py:152: UserWarning: This figure includes Axes that are not compatible with tight_layout, so results might be incorrect.\n",
      "  fig.canvas.print_figure(bytes_io, **kw)\n"
     ]
    },
    {
     "data": {
      "image/png": "[encoded data removed]",
      "text/plain": [
       "<Figure size 400x400 with 1 Axes>"
      ]
     },
     "metadata": {},
     "output_type": "display_data"
    }
   ],
   "source": [
    "plt.matshow(X_test[0]);plt.grid(ls=\"\")\n",
    "plt.title(\"axis 0 is time, axis 1 is freq\");"
   ]
  },
  {
   "cell_type": "markdown",
   "metadata": {},
   "source": [
    "# CNN for statement and syllables 0&2"
   ]
  },
  {
   "cell_type": "code",
   "execution_count": 188,
   "metadata": {
    "ExecuteTime": {
     "end_time": "2023-06-26T15:10:25.350865Z",
     "start_time": "2023-06-26T15:10:25.348178Z"
    }
   },
   "outputs": [],
   "source": [
    "from sklearn.preprocessing import LabelEncoder\n",
    "\n",
    "label_encoder = LabelEncoder()\n",
    "\n",
    "y_train = label_encoder.fit_transform(y_train)\n",
    "y_val = label_encoder.transform(y_val)\n",
    "y_test = label_encoder.transform(y_test)"
   ]
  },
  {
   "cell_type": "code",
   "execution_count": 189,
   "metadata": {
    "ExecuteTime": {
     "end_time": "2023-06-26T15:10:27.917229Z",
     "start_time": "2023-06-26T15:10:25.357912Z"
    }
   },
   "outputs": [],
   "source": [
    "import optuna\n",
    "from keras.layers import BatchNormalization, Activation\n",
    "from keras.models import Sequential\n",
    "from keras.layers import Dense, Conv1D, Dropout, GlobalAveragePooling1D\n",
    "from sklearn.metrics import accuracy_score\n",
    "\n",
    "def build_model(input_shape, n_categories,\n",
    "                n_conv=0, n_hidden=0, hidden_nodes=32,\n",
    "                dropout=0.01, filters=8, kernel_size=5, **kwargs):\n",
    "    \n",
    "    # Stuff must be given in (timestep, spectral_coeff) format\n",
    "    n_timesteps = input_shape[0]\n",
    "    n_features = input_shape[1]\n",
    "\n",
    "    model = Sequential()\n",
    "\n",
    "    model.add(Conv1D(filters=filters,\n",
    "                     kernel_size=kernel_size,\n",
    "                     activation='relu',\n",
    "                     input_shape=(n_timesteps, n_features),\n",
    "                     name=\"base_conv\"\n",
    "                     ))\n",
    "    model.add(BatchNormalization())\n",
    "    model.add(Activation('relu'))\n",
    "\n",
    "    for i in range(n_conv):\n",
    "        model.add(Conv1D(filters=filters, kernel_size=kernel_size, activation='relu', name=f\"extra_conv_{i}\"))\n",
    "        model.add(BatchNormalization())\n",
    "        model.add(Activation('relu'))\n",
    "\n",
    "        model.add(Dropout(dropout))\n",
    "\n",
    "    model.add(GlobalAveragePooling1D())\n",
    "\n",
    "    for i in range(n_hidden):\n",
    "        model.add(Dense(hidden_nodes, activation='relu'))\n",
    "\n",
    "    model.add(Dense(n_categories, activation='softmax'))    \n",
    "    model.compile(loss='sparse_categorical_crossentropy', optimizer='adam', metrics=['accuracy'])\n",
    "    \n",
    "    return model"
   ]
  },
  {
   "cell_type": "code",
   "execution_count": 46,
   "metadata": {
    "ExecuteTime": {
     "end_time": "2023-06-26T15:10:30.156043Z",
     "start_time": "2023-06-26T15:10:27.917917Z"
    }
   },
   "outputs": [
    {
     "name": "stdout",
     "output_type": "stream",
     "text": [
      "Model: \"sequential\"\n",
      "_________________________________________________________________\n",
      " Layer (type)                Output Shape              Param #   \n",
      "=================================================================\n",
      " base_conv (Conv1D)          (None, 23, 8)             1088      \n",
      "                                                                 \n",
      " batch_normalization (BatchN  (None, 23, 8)            32        \n",
      " ormalization)                                                   \n",
      "                                                                 \n",
      " activation (Activation)     (None, 23, 8)             0         \n",
      "                                                                 \n",
      " extra_conv_0 (Conv1D)       (None, 19, 8)             328       \n",
      "                                                                 \n",
      " batch_normalization_1 (Batc  (None, 19, 8)            32        \n",
      " hNormalization)                                                 \n",
      "                                                                 \n",
      " activation_1 (Activation)   (None, 19, 8)             0         \n",
      "                                                                 \n",
      " dropout (Dropout)           (None, 19, 8)             0         \n",
      "                                                                 \n",
      " extra_conv_1 (Conv1D)       (None, 15, 8)             328       \n",
      "                                                                 \n",
      " batch_normalization_2 (Batc  (None, 15, 8)            32        \n",
      " hNormalization)                                                 \n",
      "                                                                 \n",
      " activation_2 (Activation)   (None, 15, 8)             0         \n",
      "                                                                 \n",
      " dropout_1 (Dropout)         (None, 15, 8)             0         \n",
      "                                                                 \n",
      " global_average_pooling1d (G  (None, 8)                0         \n",
      " lobalAveragePooling1D)                                          \n",
      "                                                                 \n",
      " dense (Dense)               (None, 256)               2304      \n",
      "                                                                 \n",
      " dense_1 (Dense)             (None, 256)               65792     \n",
      "                                                                 \n",
      " dense_2 (Dense)             (None, 256)               65792     \n",
      "                                                                 \n",
      " dense_3 (Dense)             (None, 2)                 514       \n",
      "                                                                 \n",
      "=================================================================\n",
      "Total params: 136,242\n",
      "Trainable params: 136,194\n",
      "Non-trainable params: 48\n",
      "_________________________________________________________________\n",
      "Epoch 1/8\n",
      "49/49 [==============================] - 3s 5ms/step - loss: 0.5161 - accuracy: 0.7172\n",
      "Epoch 2/8\n",
      "49/49 [==============================] - 0s 5ms/step - loss: 0.2824 - accuracy: 0.8854\n",
      "Epoch 3/8\n",
      "49/49 [==============================] - 0s 6ms/step - loss: 0.1923 - accuracy: 0.9217\n",
      "Epoch 4/8\n",
      "49/49 [==============================] - 0s 6ms/step - loss: 0.1566 - accuracy: 0.9430\n",
      "Epoch 5/8\n",
      "49/49 [==============================] - 0s 6ms/step - loss: 0.1130 - accuracy: 0.9547\n",
      "Epoch 6/8\n",
      "49/49 [==============================] - 0s 7ms/step - loss: 0.1045 - accuracy: 0.9579\n",
      "Epoch 7/8\n",
      "49/49 [==============================] - 0s 6ms/step - loss: 0.1016 - accuracy: 0.9605\n",
      "Epoch 8/8\n",
      "49/49 [==============================] - 0s 6ms/step - loss: 0.0750 - accuracy: 0.9748\n"
     ]
    },
    {
     "data": {
      "text/plain": [
       "<keras.callbacks.History at 0x23790c82a50>"
      ]
     },
     "execution_count": 46,
     "metadata": {},
     "output_type": "execute_result"
    }
   ],
   "source": [
    "# Test to check the accuracy of a \"belly\" network\n",
    "test_model = build_model((27,27), 2, \n",
    "                         n_conv=2, n_hidden=3, hidden_nodes=256)\n",
    "test_model.summary()\n",
    "test_model.fit(X_train, y_train,  verbose=True, epochs=8)"
   ]
  },
  {
   "cell_type": "code",
   "execution_count": 190,
   "metadata": {
    "ExecuteTime": {
     "end_time": "2023-06-26T15:10:30.160665Z",
     "start_time": "2023-06-26T15:10:30.159097Z"
    }
   },
   "outputs": [
    {
     "name": "stderr",
     "output_type": "stream",
     "text": [
      "[I 2023-06-30 16:17:58,063] A new study created in memory with name: no-name-f1feb7a8-68c1-40ad-b56c-7cd1450ae592\n"
     ]
    },
    {
     "name": "stdout",
     "output_type": "stream",
     "text": [
      "Running little bitch having n_conv=3, dropout=0.07279102758009641, hidden_nodes=122\n",
      "Running little bitch having n_conv=3, dropout=0.163456083117766, hidden_nodes=241\n",
      "Running little bitch having n_conv=0, dropout=0.019841592436477897, hidden_nodes=214\n",
      "Running little bitch having n_conv=0, dropout=0.017082015961129373, hidden_nodes=169\n",
      "Running little bitch having n_conv=1, dropout=0.03144416546674549, hidden_nodes=205\n",
      "Running little bitch having n_conv=0, dropout=0.1344279130184962, hidden_nodes=137\n",
      "Running little bitch having n_conv=2, dropout=0.045912621776041454, hidden_nodes=146\n",
      "Running little bitch having n_conv=3, dropout=0.01704535579182134, hidden_nodes=115\n"
     ]
    },
    {
     "name": "stderr",
     "output_type": "stream",
     "text": [
      "[W 2023-06-30 16:17:58,731] Trial 0 failed with parameters: {'n_conv': 3, 'n_hidden': 3, 'hidden_nodes': 122, 'dropout': 0.07279102758009641, 'filters': 12, 'kernel_size': 11, 'batch_size': 29, 'epochs': 23} because of the following error: ValueError('One of the dimensions in the output is <= 0 due to downsampling in extra_conv_1. Consider increasing the input size. Received input shape [None, 7, 12] which would produce output shape with a zero or negative value in a dimension.').\n",
      "Traceback (most recent call last):\n",
      "  File \"C:\\Users\\emanu\\.virtualenvs\\DM2-HUE9YkAX\\Lib\\site-packages\\optuna\\study\\_optimize.py\", line 200, in _run_trial\n",
      "    value_or_values = func(trial)\n",
      "                      ^^^^^^^^^^^\n",
      "  File \"C:\\Users\\emanu\\AppData\\Local\\Temp\\ipykernel_19432\\1072382922.py\", line 34, in <lambda>\n",
      "    trial_function = lambda trial: objective_fun(trial,\n",
      "                                  ^^^^^^^^^^^^^^^^^^^^^\n",
      "  File \"C:\\Users\\emanu\\AppData\\Local\\Temp\\ipykernel_19432\\1072382922.py\", line 15, in objective_fun\n",
      "    cnn = build_model(  X.shape[1:], len(np.unique(y)),\n",
      "          ^^^^^^^^^^^^^^^^^^^^^^^^^^^^^^^^^^^^^^^^^^^^^\n",
      "  File \"C:\\Users\\emanu\\AppData\\Local\\Temp\\ipykernel_19432\\1937663146.py\", line 27, in build_model\n",
      "    model.add(Conv1D(filters=filters, kernel_size=kernel_size, activation='relu', name=f\"extra_conv_{i}\"))\n",
      "  File \"C:\\Users\\emanu\\.virtualenvs\\DM2-HUE9YkAX\\Lib\\site-packages\\tensorflow\\python\\trackable\\base.py\", line 205, in _method_wrapper\n",
      "    result = method(self, *args, **kwargs)\n",
      "             ^^^^^^^^^^^^^^^^^^^^^^^^^^^^^\n",
      "  File \"C:\\Users\\emanu\\.virtualenvs\\DM2-HUE9YkAX\\Lib\\site-packages\\keras\\utils\\traceback_utils.py\", line 70, in error_handler\n",
      "    raise e.with_traceback(filtered_tb) from None\n",
      "  File \"C:\\Users\\emanu\\.virtualenvs\\DM2-HUE9YkAX\\Lib\\site-packages\\keras\\layers\\convolutional\\base_conv.py\", line 354, in compute_output_shape\n",
      "    raise ValueError(\n",
      "ValueError: One of the dimensions in the output is <= 0 due to downsampling in extra_conv_1. Consider increasing the input size. Received input shape [None, 7, 12] which would produce output shape with a zero or negative value in a dimension.\n",
      "[W 2023-06-30 16:17:58,770] Trial 0 failed with value None.\n",
      "[W 2023-06-30 16:17:58,861] Trial 1 failed with parameters: {'n_conv': 3, 'n_hidden': 2, 'hidden_nodes': 241, 'dropout': 0.163456083117766, 'filters': 11, 'kernel_size': 13, 'batch_size': 25, 'epochs': 49} because of the following error: ValueError('One of the dimensions in the output is <= 0 due to downsampling in extra_conv_1. Consider increasing the input size. Received input shape [None, 3, 11] which would produce output shape with a zero or negative value in a dimension.').\n",
      "Traceback (most recent call last):\n",
      "  File \"C:\\Users\\emanu\\.virtualenvs\\DM2-HUE9YkAX\\Lib\\site-packages\\optuna\\study\\_optimize.py\", line 200, in _run_trial\n",
      "    value_or_values = func(trial)\n",
      "                      ^^^^^^^^^^^\n",
      "  File \"C:\\Users\\emanu\\AppData\\Local\\Temp\\ipykernel_19432\\1072382922.py\", line 34, in <lambda>\n",
      "    trial_function = lambda trial: objective_fun(trial,\n",
      "                                  ^^^^^^^^^^^^^^^^^^^^^\n",
      "  File \"C:\\Users\\emanu\\AppData\\Local\\Temp\\ipykernel_19432\\1072382922.py\", line 15, in objective_fun\n",
      "    cnn = build_model(  X.shape[1:], len(np.unique(y)),\n",
      "          ^^^^^^^^^^^^^^^^^^^^^^^^^^^^^^^^^^^^^^^^^^^^^\n",
      "  File \"C:\\Users\\emanu\\AppData\\Local\\Temp\\ipykernel_19432\\1937663146.py\", line 27, in build_model\n",
      "    model.add(Conv1D(filters=filters, kernel_size=kernel_size, activation='relu', name=f\"extra_conv_{i}\"))\n",
      "  File \"C:\\Users\\emanu\\.virtualenvs\\DM2-HUE9YkAX\\Lib\\site-packages\\tensorflow\\python\\trackable\\base.py\", line 205, in _method_wrapper\n",
      "    result = method(self, *args, **kwargs)\n",
      "             ^^^^^^^^^^^^^^^^^^^^^^^^^^^^^\n",
      "  File \"C:\\Users\\emanu\\.virtualenvs\\DM2-HUE9YkAX\\Lib\\site-packages\\keras\\utils\\traceback_utils.py\", line 70, in error_handler\n",
      "    raise e.with_traceback(filtered_tb) from None\n",
      "  File \"C:\\Users\\emanu\\.virtualenvs\\DM2-HUE9YkAX\\Lib\\site-packages\\keras\\layers\\convolutional\\base_conv.py\", line 354, in compute_output_shape\n",
      "    raise ValueError(\n",
      "ValueError: One of the dimensions in the output is <= 0 due to downsampling in extra_conv_1. Consider increasing the input size. Received input shape [None, 3, 11] which would produce output shape with a zero or negative value in a dimension.\n",
      "[W 2023-06-30 16:17:58,901] Trial 1 failed with value None.\n"
     ]
    },
    {
     "name": "stdout",
     "output_type": "stream",
     "text": [
      "Running little bitch having n_conv=1, dropout=0.05843557599130527, hidden_nodes=248\n",
      "Running little bitch having n_conv=0, dropout=0.18754512686039593, hidden_nodes=180\n"
     ]
    },
    {
     "name": "stderr",
     "output_type": "stream",
     "text": [
      "[W 2023-06-30 16:17:59,031] Trial 6 failed with parameters: {'n_conv': 3, 'n_hidden': 1, 'hidden_nodes': 115, 'dropout': 0.01704535579182134, 'filters': 2, 'kernel_size': 11, 'batch_size': 38, 'epochs': 83} because of the following error: ValueError('One of the dimensions in the output is <= 0 due to downsampling in extra_conv_1. Consider increasing the input size. Received input shape [None, 7, 2] which would produce output shape with a zero or negative value in a dimension.').\n",
      "Traceback (most recent call last):\n",
      "  File \"C:\\Users\\emanu\\.virtualenvs\\DM2-HUE9YkAX\\Lib\\site-packages\\optuna\\study\\_optimize.py\", line 200, in _run_trial\n",
      "    value_or_values = func(trial)\n",
      "                      ^^^^^^^^^^^\n",
      "  File \"C:\\Users\\emanu\\AppData\\Local\\Temp\\ipykernel_19432\\1072382922.py\", line 34, in <lambda>\n",
      "    trial_function = lambda trial: objective_fun(trial,\n",
      "                                  ^^^^^^^^^^^^^^^^^^^^^\n",
      "  File \"C:\\Users\\emanu\\AppData\\Local\\Temp\\ipykernel_19432\\1072382922.py\", line 15, in objective_fun\n",
      "    cnn = build_model(  X.shape[1:], len(np.unique(y)),\n",
      "          ^^^^^^^^^^^^^^^^^^^^^^^^^^^^^^^^^^^^^^^^^^^^^\n",
      "  File \"C:\\Users\\emanu\\AppData\\Local\\Temp\\ipykernel_19432\\1937663146.py\", line 27, in build_model\n",
      "    model.add(Conv1D(filters=filters, kernel_size=kernel_size, activation='relu', name=f\"extra_conv_{i}\"))\n",
      "  File \"C:\\Users\\emanu\\.virtualenvs\\DM2-HUE9YkAX\\Lib\\site-packages\\tensorflow\\python\\trackable\\base.py\", line 205, in _method_wrapper\n",
      "    result = method(self, *args, **kwargs)\n",
      "             ^^^^^^^^^^^^^^^^^^^^^^^^^^^^^\n",
      "  File \"C:\\Users\\emanu\\.virtualenvs\\DM2-HUE9YkAX\\Lib\\site-packages\\keras\\utils\\traceback_utils.py\", line 70, in error_handler\n",
      "    raise e.with_traceback(filtered_tb) from None\n",
      "  File \"C:\\Users\\emanu\\.virtualenvs\\DM2-HUE9YkAX\\Lib\\site-packages\\keras\\layers\\convolutional\\base_conv.py\", line 354, in compute_output_shape\n",
      "    raise ValueError(\n",
      "ValueError: One of the dimensions in the output is <= 0 due to downsampling in extra_conv_1. Consider increasing the input size. Received input shape [None, 7, 2] which would produce output shape with a zero or negative value in a dimension.\n",
      "[W 2023-06-30 16:17:59,042] Trial 7 failed with parameters: {'n_conv': 2, 'n_hidden': 3, 'hidden_nodes': 146, 'dropout': 0.045912621776041454, 'filters': 4, 'kernel_size': 13, 'batch_size': 42, 'epochs': 33} because of the following error: ValueError('One of the dimensions in the output is <= 0 due to downsampling in extra_conv_1. Consider increasing the input size. Received input shape [None, 3, 4] which would produce output shape with a zero or negative value in a dimension.').\n",
      "Traceback (most recent call last):\n",
      "  File \"C:\\Users\\emanu\\.virtualenvs\\DM2-HUE9YkAX\\Lib\\site-packages\\optuna\\study\\_optimize.py\", line 200, in _run_trial\n",
      "    value_or_values = func(trial)\n",
      "                      ^^^^^^^^^^^\n",
      "  File \"C:\\Users\\emanu\\AppData\\Local\\Temp\\ipykernel_19432\\1072382922.py\", line 34, in <lambda>\n",
      "    trial_function = lambda trial: objective_fun(trial,\n",
      "                                  ^^^^^^^^^^^^^^^^^^^^^\n",
      "  File \"C:\\Users\\emanu\\AppData\\Local\\Temp\\ipykernel_19432\\1072382922.py\", line 15, in objective_fun\n",
      "    cnn = build_model(  X.shape[1:], len(np.unique(y)),\n",
      "          ^^^^^^^^^^^^^^^^^^^^^^^^^^^^^^^^^^^^^^^^^^^^^\n",
      "  File \"C:\\Users\\emanu\\AppData\\Local\\Temp\\ipykernel_19432\\1937663146.py\", line 27, in build_model\n",
      "    model.add(Conv1D(filters=filters, kernel_size=kernel_size, activation='relu', name=f\"extra_conv_{i}\"))\n",
      "  File \"C:\\Users\\emanu\\.virtualenvs\\DM2-HUE9YkAX\\Lib\\site-packages\\tensorflow\\python\\trackable\\base.py\", line 205, in _method_wrapper\n",
      "    result = method(self, *args, **kwargs)\n",
      "             ^^^^^^^^^^^^^^^^^^^^^^^^^^^^^\n",
      "  File \"C:\\Users\\emanu\\.virtualenvs\\DM2-HUE9YkAX\\Lib\\site-packages\\keras\\utils\\traceback_utils.py\", line 70, in error_handler\n",
      "    raise e.with_traceback(filtered_tb) from None\n",
      "  File \"C:\\Users\\emanu\\.virtualenvs\\DM2-HUE9YkAX\\Lib\\site-packages\\keras\\layers\\convolutional\\base_conv.py\", line 354, in compute_output_shape\n",
      "    raise ValueError(\n",
      "ValueError: One of the dimensions in the output is <= 0 due to downsampling in extra_conv_1. Consider increasing the input size. Received input shape [None, 3, 4] which would produce output shape with a zero or negative value in a dimension.\n",
      "[W 2023-06-30 16:17:59,072] Trial 6 failed with value None.\n",
      "[W 2023-06-30 16:17:59,100] Trial 7 failed with value None.\n"
     ]
    },
    {
     "name": "stdout",
     "output_type": "stream",
     "text": [
      "Running little bitch having n_conv=1, dropout=0.08916094499939836, hidden_nodes=17\n",
      "Running little bitch having n_conv=3, dropout=0.009930125254752965, hidden_nodes=177\n",
      "13/13 [==============================] - 0s 5ms/step\n"
     ]
    },
    {
     "name": "stderr",
     "output_type": "stream",
     "text": [
      "[I 2023-06-30 16:18:15,871] Trial 9 finished with value: 0.9224806201550387 and parameters: {'n_conv': 0, 'n_hidden': 2, 'hidden_nodes': 180, 'dropout': 0.18754512686039593, 'filters': 7, 'kernel_size': 5, 'batch_size': 25, 'epochs': 5}. Best is trial 9 with value: 0.9224806201550387.\n"
     ]
    },
    {
     "name": "stdout",
     "output_type": "stream",
     "text": [
      "Running little bitch having n_conv=0, dropout=0.049447975893338936, hidden_nodes=181\n",
      "13/13 [==============================] - 0s 3ms/step\n"
     ]
    },
    {
     "name": "stderr",
     "output_type": "stream",
     "text": [
      "[I 2023-06-30 16:18:22,344] Trial 5 finished with value: 0.9612403100775194 and parameters: {'n_conv': 0, 'n_hidden': 1, 'hidden_nodes': 137, 'dropout': 0.1344279130184962, 'filters': 9, 'kernel_size': 6, 'batch_size': 62, 'epochs': 43}. Best is trial 5 with value: 0.9612403100775194.\n"
     ]
    },
    {
     "name": "stdout",
     "output_type": "stream",
     "text": [
      "Running little bitch having n_conv=0, dropout=0.11425542096056365, hidden_nodes=184\n",
      "13/13 [==============================] - 0s 4ms/step\n"
     ]
    },
    {
     "name": "stderr",
     "output_type": "stream",
     "text": [
      "[I 2023-06-30 16:18:25,333] Trial 12 finished with value: 0.9844961240310077 and parameters: {'n_conv': 0, 'n_hidden': 2, 'hidden_nodes': 181, 'dropout': 0.049447975893338936, 'filters': 6, 'kernel_size': 10, 'batch_size': 33, 'epochs': 13}. Best is trial 12 with value: 0.9844961240310077.\n"
     ]
    },
    {
     "name": "stdout",
     "output_type": "stream",
     "text": [
      "Running little bitch having n_conv=2, dropout=0.1348052051928215, hidden_nodes=116\n"
     ]
    },
    {
     "name": "stderr",
     "output_type": "stream",
     "text": [
      "[W 2023-06-30 16:18:25,600] Trial 14 failed with parameters: {'n_conv': 2, 'n_hidden': 1, 'hidden_nodes': 116, 'dropout': 0.1348052051928215, 'filters': 15, 'kernel_size': 10, 'batch_size': 53, 'epochs': 29} because of the following error: ValueError('Exception encountered when calling layer \"extra_conv_1\" (type Conv1D).\\n\\nNegative dimension size caused by subtracting 10 from 9 for \\'{{node extra_conv_1/Conv1D}} = Conv2D[T=DT_FLOAT, data_format=\"NHWC\", dilations=[1, 1, 1, 1], explicit_paddings=[], padding=\"VALID\", strides=[1, 1, 1, 1], use_cudnn_on_gpu=true](extra_conv_1/Conv1D/ExpandDims, extra_conv_1/Conv1D/ExpandDims_1)\\' with input shapes: [?,1,9,15], [1,10,15,15].\\n\\nCall arguments received by layer \"extra_conv_1\" (type Conv1D):\\n  • inputs=tf.Tensor(shape=(None, 9, 15), dtype=float32)').\n",
      "Traceback (most recent call last):\n",
      "  File \"C:\\Users\\emanu\\.virtualenvs\\DM2-HUE9YkAX\\Lib\\site-packages\\optuna\\study\\_optimize.py\", line 200, in _run_trial\n",
      "    value_or_values = func(trial)\n",
      "                      ^^^^^^^^^^^\n",
      "  File \"C:\\Users\\emanu\\AppData\\Local\\Temp\\ipykernel_19432\\1072382922.py\", line 34, in <lambda>\n",
      "    trial_function = lambda trial: objective_fun(trial,\n",
      "                                  ^^^^^^^^^^^^^^^^^^^^^\n",
      "  File \"C:\\Users\\emanu\\AppData\\Local\\Temp\\ipykernel_19432\\1072382922.py\", line 15, in objective_fun\n",
      "    cnn = build_model(  X.shape[1:], len(np.unique(y)),\n",
      "          ^^^^^^^^^^^^^^^^^^^^^^^^^^^^^^^^^^^^^^^^^^^^^\n",
      "  File \"C:\\Users\\emanu\\AppData\\Local\\Temp\\ipykernel_19432\\1937663146.py\", line 27, in build_model\n",
      "    model.add(Conv1D(filters=filters, kernel_size=kernel_size, activation='relu', name=f\"extra_conv_{i}\"))\n",
      "  File \"C:\\Users\\emanu\\.virtualenvs\\DM2-HUE9YkAX\\Lib\\site-packages\\tensorflow\\python\\trackable\\base.py\", line 205, in _method_wrapper\n",
      "    result = method(self, *args, **kwargs)\n",
      "             ^^^^^^^^^^^^^^^^^^^^^^^^^^^^^\n",
      "  File \"C:\\Users\\emanu\\.virtualenvs\\DM2-HUE9YkAX\\Lib\\site-packages\\keras\\utils\\traceback_utils.py\", line 70, in error_handler\n",
      "    raise e.with_traceback(filtered_tb) from None\n",
      "  File \"C:\\Users\\emanu\\.virtualenvs\\DM2-HUE9YkAX\\Lib\\site-packages\\tensorflow\\python\\framework\\ops.py\", line 1973, in _create_c_op\n",
      "    raise ValueError(e.message)\n",
      "ValueError: Exception encountered when calling layer \"extra_conv_1\" (type Conv1D).\n",
      "\n",
      "Negative dimension size caused by subtracting 10 from 9 for '{{node extra_conv_1/Conv1D}} = Conv2D[T=DT_FLOAT, data_format=\"NHWC\", dilations=[1, 1, 1, 1], explicit_paddings=[], padding=\"VALID\", strides=[1, 1, 1, 1], use_cudnn_on_gpu=true](extra_conv_1/Conv1D/ExpandDims, extra_conv_1/Conv1D/ExpandDims_1)' with input shapes: [?,1,9,15], [1,10,15,15].\n",
      "\n",
      "Call arguments received by layer \"extra_conv_1\" (type Conv1D):\n",
      "  • inputs=tf.Tensor(shape=(None, 9, 15), dtype=float32)\n",
      "[W 2023-06-30 16:18:25,600] Trial 14 failed with value None.\n"
     ]
    },
    {
     "name": "stdout",
     "output_type": "stream",
     "text": [
      "Running little bitch having n_conv=0, dropout=0.11409339087166691, hidden_nodes=131\n",
      "13/13 [==============================] - 0s 7ms/step\n"
     ]
    },
    {
     "name": "stderr",
     "output_type": "stream",
     "text": [
      "[I 2023-06-30 16:18:28,148] Trial 2 finished with value: 0.9689922480620154 and parameters: {'n_conv': 0, 'n_hidden': 3, 'hidden_nodes': 214, 'dropout': 0.019841592436477897, 'filters': 12, 'kernel_size': 15, 'batch_size': 64, 'epochs': 42}. Best is trial 12 with value: 0.9844961240310077.\n"
     ]
    },
    {
     "name": "stdout",
     "output_type": "stream",
     "text": [
      "Running little bitch having n_conv=0, dropout=0.062052216498724215, hidden_nodes=139\n",
      "13/13 [==============================] - 0s 5ms/step\n"
     ]
    },
    {
     "name": "stderr",
     "output_type": "stream",
     "text": [
      "[I 2023-06-30 16:18:32,706] Trial 10 finished with value: 0.9664082687338501 and parameters: {'n_conv': 1, 'n_hidden': 0, 'hidden_nodes': 17, 'dropout': 0.08916094499939836, 'filters': 4, 'kernel_size': 6, 'batch_size': 64, 'epochs': 57}. Best is trial 12 with value: 0.9844961240310077.\n"
     ]
    },
    {
     "name": "stdout",
     "output_type": "stream",
     "text": [
      "Running little bitch having n_conv=0, dropout=0.14009159678445446, hidden_nodes=132\n",
      "13/13 [==============================] - 0s 6ms/step\n"
     ]
    },
    {
     "name": "stderr",
     "output_type": "stream",
     "text": [
      "[I 2023-06-30 16:18:35,106] Trial 15 finished with value: 0.9689922480620154 and parameters: {'n_conv': 0, 'n_hidden': 0, 'hidden_nodes': 131, 'dropout': 0.11409339087166691, 'filters': 15, 'kernel_size': 6, 'batch_size': 43, 'epochs': 19}. Best is trial 12 with value: 0.9844961240310077.\n"
     ]
    },
    {
     "name": "stdout",
     "output_type": "stream",
     "text": [
      "Running little bitch having n_conv=3, dropout=0.1149931982448079, hidden_nodes=27\n",
      "13/13 [==============================] - 1s 11ms/step\n"
     ]
    },
    {
     "name": "stderr",
     "output_type": "stream",
     "text": [
      "[I 2023-06-30 16:18:37,570] Trial 3 finished with value: 0.9767441860465116 and parameters: {'n_conv': 0, 'n_hidden': 2, 'hidden_nodes': 169, 'dropout': 0.017082015961129373, 'filters': 10, 'kernel_size': 9, 'batch_size': 38, 'epochs': 57}. Best is trial 12 with value: 0.9844961240310077.\n"
     ]
    },
    {
     "name": "stdout",
     "output_type": "stream",
     "text": [
      "Running little bitch having n_conv=0, dropout=0.004037746213558147, hidden_nodes=84\n",
      "13/13 [==============================] - 1s 12ms/step\n"
     ]
    },
    {
     "name": "stderr",
     "output_type": "stream",
     "text": [
      "[I 2023-06-30 16:18:40,071] Trial 4 finished with value: 0.9483204134366925 and parameters: {'n_conv': 1, 'n_hidden': 1, 'hidden_nodes': 205, 'dropout': 0.03144416546674549, 'filters': 15, 'kernel_size': 3, 'batch_size': 42, 'epochs': 49}. Best is trial 12 with value: 0.9844961240310077.\n"
     ]
    },
    {
     "name": "stdout",
     "output_type": "stream",
     "text": [
      "Running little bitch having n_conv=2, dropout=0.016701176401344033, hidden_nodes=65\n"
     ]
    },
    {
     "name": "stderr",
     "output_type": "stream",
     "text": [
      "[W 2023-06-30 16:18:40,464] Trial 20 failed with parameters: {'n_conv': 2, 'n_hidden': 3, 'hidden_nodes': 65, 'dropout': 0.016701176401344033, 'filters': 9, 'kernel_size': 15, 'batch_size': 18, 'epochs': 33} because of the following error: ValueError('One of the dimensions in the output is <= 0 due to downsampling in extra_conv_0. Consider increasing the input size. Received input shape [None, 13, 9] which would produce output shape with a zero or negative value in a dimension.').\n",
      "Traceback (most recent call last):\n",
      "  File \"C:\\Users\\emanu\\.virtualenvs\\DM2-HUE9YkAX\\Lib\\site-packages\\optuna\\study\\_optimize.py\", line 200, in _run_trial\n",
      "    value_or_values = func(trial)\n",
      "                      ^^^^^^^^^^^\n",
      "  File \"C:\\Users\\emanu\\AppData\\Local\\Temp\\ipykernel_19432\\1072382922.py\", line 34, in <lambda>\n",
      "    trial_function = lambda trial: objective_fun(trial,\n",
      "                                  ^^^^^^^^^^^^^^^^^^^^^\n",
      "  File \"C:\\Users\\emanu\\AppData\\Local\\Temp\\ipykernel_19432\\1072382922.py\", line 15, in objective_fun\n",
      "    cnn = build_model(  X.shape[1:], len(np.unique(y)),\n",
      "          ^^^^^^^^^^^^^^^^^^^^^^^^^^^^^^^^^^^^^^^^^^^^^\n",
      "  File \"C:\\Users\\emanu\\AppData\\Local\\Temp\\ipykernel_19432\\1937663146.py\", line 27, in build_model\n",
      "    model.add(Conv1D(filters=filters, kernel_size=kernel_size, activation='relu', name=f\"extra_conv_{i}\"))\n",
      "  File \"C:\\Users\\emanu\\.virtualenvs\\DM2-HUE9YkAX\\Lib\\site-packages\\tensorflow\\python\\trackable\\base.py\", line 205, in _method_wrapper\n",
      "    result = method(self, *args, **kwargs)\n",
      "             ^^^^^^^^^^^^^^^^^^^^^^^^^^^^^\n",
      "  File \"C:\\Users\\emanu\\.virtualenvs\\DM2-HUE9YkAX\\Lib\\site-packages\\keras\\utils\\traceback_utils.py\", line 70, in error_handler\n",
      "    raise e.with_traceback(filtered_tb) from None\n",
      "  File \"C:\\Users\\emanu\\.virtualenvs\\DM2-HUE9YkAX\\Lib\\site-packages\\keras\\layers\\convolutional\\base_conv.py\", line 354, in compute_output_shape\n",
      "    raise ValueError(\n",
      "ValueError: One of the dimensions in the output is <= 0 due to downsampling in extra_conv_0. Consider increasing the input size. Received input shape [None, 13, 9] which would produce output shape with a zero or negative value in a dimension.\n",
      "[W 2023-06-30 16:18:40,491] Trial 20 failed with value None.\n"
     ]
    },
    {
     "name": "stdout",
     "output_type": "stream",
     "text": [
      "Running little bitch having n_conv=2, dropout=0.12672247629151193, hidden_nodes=72\n",
      " 9/13 [===================>..........] - ETA: 0s"
     ]
    },
    {
     "name": "stderr",
     "output_type": "stream",
     "text": [
      "[W 2023-06-30 16:18:41,238] Trial 21 failed with parameters: {'n_conv': 2, 'n_hidden': 2, 'hidden_nodes': 72, 'dropout': 0.12672247629151193, 'filters': 3, 'kernel_size': 13, 'batch_size': 31, 'epochs': 83} because of the following error: ValueError('One of the dimensions in the output is <= 0 due to downsampling in extra_conv_1. Consider increasing the input size. Received input shape [None, 3, 3] which would produce output shape with a zero or negative value in a dimension.').\n",
      "Traceback (most recent call last):\n",
      "  File \"C:\\Users\\emanu\\.virtualenvs\\DM2-HUE9YkAX\\Lib\\site-packages\\optuna\\study\\_optimize.py\", line 200, in _run_trial\n",
      "    value_or_values = func(trial)\n",
      "                      ^^^^^^^^^^^\n",
      "  File \"C:\\Users\\emanu\\AppData\\Local\\Temp\\ipykernel_19432\\1072382922.py\", line 34, in <lambda>\n",
      "    trial_function = lambda trial: objective_fun(trial,\n",
      "                                  ^^^^^^^^^^^^^^^^^^^^^\n",
      "  File \"C:\\Users\\emanu\\AppData\\Local\\Temp\\ipykernel_19432\\1072382922.py\", line 15, in objective_fun\n",
      "    cnn = build_model(  X.shape[1:], len(np.unique(y)),\n",
      "          ^^^^^^^^^^^^^^^^^^^^^^^^^^^^^^^^^^^^^^^^^^^^^\n",
      "  File \"C:\\Users\\emanu\\AppData\\Local\\Temp\\ipykernel_19432\\1937663146.py\", line 27, in build_model\n",
      "    model.add(Conv1D(filters=filters, kernel_size=kernel_size, activation='relu', name=f\"extra_conv_{i}\"))\n",
      "  File \"C:\\Users\\emanu\\.virtualenvs\\DM2-HUE9YkAX\\Lib\\site-packages\\tensorflow\\python\\trackable\\base.py\", line 205, in _method_wrapper\n",
      "    result = method(self, *args, **kwargs)\n",
      "             ^^^^^^^^^^^^^^^^^^^^^^^^^^^^^\n",
      "  File \"C:\\Users\\emanu\\.virtualenvs\\DM2-HUE9YkAX\\Lib\\site-packages\\keras\\utils\\traceback_utils.py\", line 70, in error_handler\n",
      "    raise e.with_traceback(filtered_tb) from None\n",
      "  File \"C:\\Users\\emanu\\.virtualenvs\\DM2-HUE9YkAX\\Lib\\site-packages\\keras\\layers\\convolutional\\base_conv.py\", line 354, in compute_output_shape\n",
      "    raise ValueError(\n",
      "ValueError: One of the dimensions in the output is <= 0 due to downsampling in extra_conv_1. Consider increasing the input size. Received input shape [None, 3, 3] which would produce output shape with a zero or negative value in a dimension.\n",
      "[W 2023-06-30 16:18:41,273] Trial 21 failed with value None.\n"
     ]
    },
    {
     "name": "stdout",
     "output_type": "stream",
     "text": [
      "Running little bitch having n_conv=1, dropout=0.1559344088622886, hidden_nodes=68\n",
      "13/13 [==============================] - 1s 15ms/step\n"
     ]
    },
    {
     "name": "stderr",
     "output_type": "stream",
     "text": [
      "[I 2023-06-30 16:18:41,541] Trial 13 finished with value: 0.9560723514211886 and parameters: {'n_conv': 0, 'n_hidden': 1, 'hidden_nodes': 184, 'dropout': 0.11425542096056365, 'filters': 4, 'kernel_size': 7, 'batch_size': 30, 'epochs': 30}. Best is trial 12 with value: 0.9844961240310077.\n"
     ]
    },
    {
     "name": "stdout",
     "output_type": "stream",
     "text": [
      "Running little bitch having n_conv=2, dropout=0.011772768971044335, hidden_nodes=72\n"
     ]
    },
    {
     "name": "stderr",
     "output_type": "stream",
     "text": [
      "[W 2023-06-30 16:18:42,031] Trial 23 failed with parameters: {'n_conv': 2, 'n_hidden': 3, 'hidden_nodes': 72, 'dropout': 0.011772768971044335, 'filters': 4, 'kernel_size': 16, 'batch_size': 44, 'epochs': 23} because of the following error: ValueError('One of the dimensions in the output is <= 0 due to downsampling in extra_conv_0. Consider increasing the input size. Received input shape [None, 12, 4] which would produce output shape with a zero or negative value in a dimension.').\n",
      "Traceback (most recent call last):\n",
      "  File \"C:\\Users\\emanu\\.virtualenvs\\DM2-HUE9YkAX\\Lib\\site-packages\\optuna\\study\\_optimize.py\", line 200, in _run_trial\n",
      "    value_or_values = func(trial)\n",
      "                      ^^^^^^^^^^^\n",
      "  File \"C:\\Users\\emanu\\AppData\\Local\\Temp\\ipykernel_19432\\1072382922.py\", line 34, in <lambda>\n",
      "    trial_function = lambda trial: objective_fun(trial,\n",
      "                                  ^^^^^^^^^^^^^^^^^^^^^\n",
      "  File \"C:\\Users\\emanu\\AppData\\Local\\Temp\\ipykernel_19432\\1072382922.py\", line 15, in objective_fun\n",
      "    cnn = build_model(  X.shape[1:], len(np.unique(y)),\n",
      "          ^^^^^^^^^^^^^^^^^^^^^^^^^^^^^^^^^^^^^^^^^^^^^\n",
      "  File \"C:\\Users\\emanu\\AppData\\Local\\Temp\\ipykernel_19432\\1937663146.py\", line 27, in build_model\n",
      "    model.add(Conv1D(filters=filters, kernel_size=kernel_size, activation='relu', name=f\"extra_conv_{i}\"))\n",
      "  File \"C:\\Users\\emanu\\.virtualenvs\\DM2-HUE9YkAX\\Lib\\site-packages\\tensorflow\\python\\trackable\\base.py\", line 205, in _method_wrapper\n",
      "    result = method(self, *args, **kwargs)\n",
      "             ^^^^^^^^^^^^^^^^^^^^^^^^^^^^^\n",
      "  File \"C:\\Users\\emanu\\.virtualenvs\\DM2-HUE9YkAX\\Lib\\site-packages\\keras\\utils\\traceback_utils.py\", line 70, in error_handler\n",
      "    raise e.with_traceback(filtered_tb) from None\n",
      "  File \"C:\\Users\\emanu\\.virtualenvs\\DM2-HUE9YkAX\\Lib\\site-packages\\keras\\layers\\convolutional\\base_conv.py\", line 354, in compute_output_shape\n",
      "    raise ValueError(\n",
      "ValueError: One of the dimensions in the output is <= 0 due to downsampling in extra_conv_0. Consider increasing the input size. Received input shape [None, 12, 4] which would produce output shape with a zero or negative value in a dimension.\n",
      "[W 2023-06-30 16:18:42,053] Trial 23 failed with value None.\n"
     ]
    },
    {
     "name": "stdout",
     "output_type": "stream",
     "text": [
      "Running little bitch having n_conv=3, dropout=0.060551943725558194, hidden_nodes=239\n",
      "13/13 [==============================] - 1s 7ms/step\n"
     ]
    },
    {
     "name": "stderr",
     "output_type": "stream",
     "text": [
      "[I 2023-06-30 16:18:50,914] Trial 8 finished with value: 0.9457364341085271 and parameters: {'n_conv': 1, 'n_hidden': 2, 'hidden_nodes': 248, 'dropout': 0.05843557599130527, 'filters': 2, 'kernel_size': 11, 'batch_size': 51, 'epochs': 83}. Best is trial 12 with value: 0.9844961240310077.\n"
     ]
    },
    {
     "name": "stdout",
     "output_type": "stream",
     "text": [
      "Running little bitch having n_conv=3, dropout=0.0510933414192809, hidden_nodes=82\n"
     ]
    },
    {
     "name": "stderr",
     "output_type": "stream",
     "text": [
      "[W 2023-06-30 16:18:51,370] Trial 25 failed with parameters: {'n_conv': 3, 'n_hidden': 3, 'hidden_nodes': 82, 'dropout': 0.0510933414192809, 'filters': 6, 'kernel_size': 13, 'batch_size': 18, 'epochs': 6} because of the following error: ValueError('One of the dimensions in the output is <= 0 due to downsampling in extra_conv_1. Consider increasing the input size. Received input shape [None, 3, 6] which would produce output shape with a zero or negative value in a dimension.').\n",
      "Traceback (most recent call last):\n",
      "  File \"C:\\Users\\emanu\\.virtualenvs\\DM2-HUE9YkAX\\Lib\\site-packages\\optuna\\study\\_optimize.py\", line 200, in _run_trial\n",
      "    value_or_values = func(trial)\n",
      "                      ^^^^^^^^^^^\n",
      "  File \"C:\\Users\\emanu\\AppData\\Local\\Temp\\ipykernel_19432\\1072382922.py\", line 34, in <lambda>\n",
      "    trial_function = lambda trial: objective_fun(trial,\n",
      "                                  ^^^^^^^^^^^^^^^^^^^^^\n",
      "  File \"C:\\Users\\emanu\\AppData\\Local\\Temp\\ipykernel_19432\\1072382922.py\", line 15, in objective_fun\n",
      "    cnn = build_model(  X.shape[1:], len(np.unique(y)),\n",
      "          ^^^^^^^^^^^^^^^^^^^^^^^^^^^^^^^^^^^^^^^^^^^^^\n",
      "  File \"C:\\Users\\emanu\\AppData\\Local\\Temp\\ipykernel_19432\\1937663146.py\", line 27, in build_model\n",
      "    model.add(Conv1D(filters=filters, kernel_size=kernel_size, activation='relu', name=f\"extra_conv_{i}\"))\n",
      "  File \"C:\\Users\\emanu\\.virtualenvs\\DM2-HUE9YkAX\\Lib\\site-packages\\tensorflow\\python\\trackable\\base.py\", line 205, in _method_wrapper\n",
      "    result = method(self, *args, **kwargs)\n",
      "             ^^^^^^^^^^^^^^^^^^^^^^^^^^^^^\n",
      "  File \"C:\\Users\\emanu\\.virtualenvs\\DM2-HUE9YkAX\\Lib\\site-packages\\keras\\utils\\traceback_utils.py\", line 70, in error_handler\n",
      "    raise e.with_traceback(filtered_tb) from None\n",
      "  File \"C:\\Users\\emanu\\.virtualenvs\\DM2-HUE9YkAX\\Lib\\site-packages\\keras\\layers\\convolutional\\base_conv.py\", line 354, in compute_output_shape\n",
      "    raise ValueError(\n",
      "ValueError: One of the dimensions in the output is <= 0 due to downsampling in extra_conv_1. Consider increasing the input size. Received input shape [None, 3, 6] which would produce output shape with a zero or negative value in a dimension.\n",
      "[W 2023-06-30 16:18:51,391] Trial 25 failed with value None.\n"
     ]
    },
    {
     "name": "stdout",
     "output_type": "stream",
     "text": [
      "Running little bitch having n_conv=3, dropout=0.06188409000301024, hidden_nodes=94\n"
     ]
    },
    {
     "name": "stderr",
     "output_type": "stream",
     "text": [
      "[W 2023-06-30 16:18:51,952] Trial 26 failed with parameters: {'n_conv': 3, 'n_hidden': 3, 'hidden_nodes': 94, 'dropout': 0.06188409000301024, 'filters': 6, 'kernel_size': 13, 'batch_size': 18, 'epochs': 5} because of the following error: ValueError('One of the dimensions in the output is <= 0 due to downsampling in extra_conv_1. Consider increasing the input size. Received input shape [None, 3, 6] which would produce output shape with a zero or negative value in a dimension.').\n",
      "Traceback (most recent call last):\n",
      "  File \"C:\\Users\\emanu\\.virtualenvs\\DM2-HUE9YkAX\\Lib\\site-packages\\optuna\\study\\_optimize.py\", line 200, in _run_trial\n",
      "    value_or_values = func(trial)\n",
      "                      ^^^^^^^^^^^\n",
      "  File \"C:\\Users\\emanu\\AppData\\Local\\Temp\\ipykernel_19432\\1072382922.py\", line 34, in <lambda>\n",
      "    trial_function = lambda trial: objective_fun(trial,\n",
      "                                  ^^^^^^^^^^^^^^^^^^^^^\n",
      "  File \"C:\\Users\\emanu\\AppData\\Local\\Temp\\ipykernel_19432\\1072382922.py\", line 15, in objective_fun\n",
      "    cnn = build_model(  X.shape[1:], len(np.unique(y)),\n",
      "          ^^^^^^^^^^^^^^^^^^^^^^^^^^^^^^^^^^^^^^^^^^^^^\n",
      "  File \"C:\\Users\\emanu\\AppData\\Local\\Temp\\ipykernel_19432\\1937663146.py\", line 27, in build_model\n",
      "    model.add(Conv1D(filters=filters, kernel_size=kernel_size, activation='relu', name=f\"extra_conv_{i}\"))\n",
      "  File \"C:\\Users\\emanu\\.virtualenvs\\DM2-HUE9YkAX\\Lib\\site-packages\\tensorflow\\python\\trackable\\base.py\", line 205, in _method_wrapper\n",
      "    result = method(self, *args, **kwargs)\n",
      "             ^^^^^^^^^^^^^^^^^^^^^^^^^^^^^\n",
      "  File \"C:\\Users\\emanu\\.virtualenvs\\DM2-HUE9YkAX\\Lib\\site-packages\\keras\\utils\\traceback_utils.py\", line 70, in error_handler\n",
      "    raise e.with_traceback(filtered_tb) from None\n",
      "  File \"C:\\Users\\emanu\\.virtualenvs\\DM2-HUE9YkAX\\Lib\\site-packages\\keras\\layers\\convolutional\\base_conv.py\", line 354, in compute_output_shape\n",
      "    raise ValueError(\n",
      "ValueError: One of the dimensions in the output is <= 0 due to downsampling in extra_conv_1. Consider increasing the input size. Received input shape [None, 3, 6] which would produce output shape with a zero or negative value in a dimension.\n",
      "[W 2023-06-30 16:18:51,966] Trial 26 failed with value None.\n"
     ]
    },
    {
     "name": "stdout",
     "output_type": "stream",
     "text": [
      "Running little bitch having n_conv=3, dropout=0.0010236664797495729, hidden_nodes=77\n"
     ]
    },
    {
     "name": "stderr",
     "output_type": "stream",
     "text": [
      "[W 2023-06-30 16:18:52,701] Trial 27 failed with parameters: {'n_conv': 3, 'n_hidden': 3, 'hidden_nodes': 77, 'dropout': 0.0010236664797495729, 'filters': 6, 'kernel_size': 14, 'batch_size': 19, 'epochs': 7} because of the following error: ValueError('One of the dimensions in the output is <= 0 due to downsampling in extra_conv_1. Consider increasing the input size. Received input shape [None, 1, 6] which would produce output shape with a zero or negative value in a dimension.').\n",
      "Traceback (most recent call last):\n",
      "  File \"C:\\Users\\emanu\\.virtualenvs\\DM2-HUE9YkAX\\Lib\\site-packages\\optuna\\study\\_optimize.py\", line 200, in _run_trial\n",
      "    value_or_values = func(trial)\n",
      "                      ^^^^^^^^^^^\n",
      "  File \"C:\\Users\\emanu\\AppData\\Local\\Temp\\ipykernel_19432\\1072382922.py\", line 34, in <lambda>\n",
      "    trial_function = lambda trial: objective_fun(trial,\n",
      "                                  ^^^^^^^^^^^^^^^^^^^^^\n",
      "  File \"C:\\Users\\emanu\\AppData\\Local\\Temp\\ipykernel_19432\\1072382922.py\", line 15, in objective_fun\n",
      "    cnn = build_model(  X.shape[1:], len(np.unique(y)),\n",
      "          ^^^^^^^^^^^^^^^^^^^^^^^^^^^^^^^^^^^^^^^^^^^^^\n",
      "  File \"C:\\Users\\emanu\\AppData\\Local\\Temp\\ipykernel_19432\\1937663146.py\", line 27, in build_model\n",
      "    model.add(Conv1D(filters=filters, kernel_size=kernel_size, activation='relu', name=f\"extra_conv_{i}\"))\n",
      "  File \"C:\\Users\\emanu\\.virtualenvs\\DM2-HUE9YkAX\\Lib\\site-packages\\tensorflow\\python\\trackable\\base.py\", line 205, in _method_wrapper\n",
      "    result = method(self, *args, **kwargs)\n",
      "             ^^^^^^^^^^^^^^^^^^^^^^^^^^^^^\n",
      "  File \"C:\\Users\\emanu\\.virtualenvs\\DM2-HUE9YkAX\\Lib\\site-packages\\keras\\utils\\traceback_utils.py\", line 70, in error_handler\n",
      "    raise e.with_traceback(filtered_tb) from None\n",
      "  File \"C:\\Users\\emanu\\.virtualenvs\\DM2-HUE9YkAX\\Lib\\site-packages\\keras\\layers\\convolutional\\base_conv.py\", line 354, in compute_output_shape\n",
      "    raise ValueError(\n",
      "ValueError: One of the dimensions in the output is <= 0 due to downsampling in extra_conv_1. Consider increasing the input size. Received input shape [None, 1, 6] which would produce output shape with a zero or negative value in a dimension.\n",
      "[W 2023-06-30 16:18:52,721] Trial 27 failed with value None.\n"
     ]
    },
    {
     "name": "stdout",
     "output_type": "stream",
     "text": [
      "Running little bitch having n_conv=3, dropout=0.06942858640300237, hidden_nodes=63\n"
     ]
    },
    {
     "name": "stderr",
     "output_type": "stream",
     "text": [
      "[W 2023-06-30 16:18:53,764] Trial 28 failed with parameters: {'n_conv': 3, 'n_hidden': 3, 'hidden_nodes': 63, 'dropout': 0.06942858640300237, 'filters': 6, 'kernel_size': 14, 'batch_size': 16, 'epochs': 9} because of the following error: ValueError('One of the dimensions in the output is <= 0 due to downsampling in extra_conv_1. Consider increasing the input size. Received input shape [None, 1, 6] which would produce output shape with a zero or negative value in a dimension.').\n",
      "Traceback (most recent call last):\n",
      "  File \"C:\\Users\\emanu\\.virtualenvs\\DM2-HUE9YkAX\\Lib\\site-packages\\optuna\\study\\_optimize.py\", line 200, in _run_trial\n",
      "    value_or_values = func(trial)\n",
      "                      ^^^^^^^^^^^\n",
      "  File \"C:\\Users\\emanu\\AppData\\Local\\Temp\\ipykernel_19432\\1072382922.py\", line 34, in <lambda>\n",
      "    trial_function = lambda trial: objective_fun(trial,\n",
      "                                  ^^^^^^^^^^^^^^^^^^^^^\n",
      "  File \"C:\\Users\\emanu\\AppData\\Local\\Temp\\ipykernel_19432\\1072382922.py\", line 15, in objective_fun\n",
      "    cnn = build_model(  X.shape[1:], len(np.unique(y)),\n",
      "          ^^^^^^^^^^^^^^^^^^^^^^^^^^^^^^^^^^^^^^^^^^^^^\n",
      "  File \"C:\\Users\\emanu\\AppData\\Local\\Temp\\ipykernel_19432\\1937663146.py\", line 27, in build_model\n",
      "    model.add(Conv1D(filters=filters, kernel_size=kernel_size, activation='relu', name=f\"extra_conv_{i}\"))\n",
      "  File \"C:\\Users\\emanu\\.virtualenvs\\DM2-HUE9YkAX\\Lib\\site-packages\\tensorflow\\python\\trackable\\base.py\", line 205, in _method_wrapper\n",
      "    result = method(self, *args, **kwargs)\n",
      "             ^^^^^^^^^^^^^^^^^^^^^^^^^^^^^\n",
      "  File \"C:\\Users\\emanu\\.virtualenvs\\DM2-HUE9YkAX\\Lib\\site-packages\\keras\\utils\\traceback_utils.py\", line 70, in error_handler\n",
      "    raise e.with_traceback(filtered_tb) from None\n",
      "  File \"C:\\Users\\emanu\\.virtualenvs\\DM2-HUE9YkAX\\Lib\\site-packages\\keras\\layers\\convolutional\\base_conv.py\", line 354, in compute_output_shape\n",
      "    raise ValueError(\n",
      "ValueError: One of the dimensions in the output is <= 0 due to downsampling in extra_conv_1. Consider increasing the input size. Received input shape [None, 1, 6] which would produce output shape with a zero or negative value in a dimension.\n",
      "[W 2023-06-30 16:18:53,806] Trial 28 failed with value None.\n"
     ]
    },
    {
     "name": "stdout",
     "output_type": "stream",
     "text": [
      "Running little bitch having n_conv=3, dropout=0.060265157588752026, hidden_nodes=74\n"
     ]
    },
    {
     "name": "stderr",
     "output_type": "stream",
     "text": [
      "[W 2023-06-30 16:18:54,840] Trial 29 failed with parameters: {'n_conv': 3, 'n_hidden': 3, 'hidden_nodes': 74, 'dropout': 0.060265157588752026, 'filters': 6, 'kernel_size': 13, 'batch_size': 16, 'epochs': 6} because of the following error: ValueError('One of the dimensions in the output is <= 0 due to downsampling in extra_conv_1. Consider increasing the input size. Received input shape [None, 3, 6] which would produce output shape with a zero or negative value in a dimension.').\n",
      "Traceback (most recent call last):\n",
      "  File \"C:\\Users\\emanu\\.virtualenvs\\DM2-HUE9YkAX\\Lib\\site-packages\\optuna\\study\\_optimize.py\", line 200, in _run_trial\n",
      "    value_or_values = func(trial)\n",
      "                      ^^^^^^^^^^^\n",
      "  File \"C:\\Users\\emanu\\AppData\\Local\\Temp\\ipykernel_19432\\1072382922.py\", line 34, in <lambda>\n",
      "    trial_function = lambda trial: objective_fun(trial,\n",
      "                                  ^^^^^^^^^^^^^^^^^^^^^\n",
      "  File \"C:\\Users\\emanu\\AppData\\Local\\Temp\\ipykernel_19432\\1072382922.py\", line 15, in objective_fun\n",
      "    cnn = build_model(  X.shape[1:], len(np.unique(y)),\n",
      "          ^^^^^^^^^^^^^^^^^^^^^^^^^^^^^^^^^^^^^^^^^^^^^\n",
      "  File \"C:\\Users\\emanu\\AppData\\Local\\Temp\\ipykernel_19432\\1937663146.py\", line 27, in build_model\n",
      "    model.add(Conv1D(filters=filters, kernel_size=kernel_size, activation='relu', name=f\"extra_conv_{i}\"))\n",
      "  File \"C:\\Users\\emanu\\.virtualenvs\\DM2-HUE9YkAX\\Lib\\site-packages\\tensorflow\\python\\trackable\\base.py\", line 205, in _method_wrapper\n",
      "    result = method(self, *args, **kwargs)\n",
      "             ^^^^^^^^^^^^^^^^^^^^^^^^^^^^^\n",
      "  File \"C:\\Users\\emanu\\.virtualenvs\\DM2-HUE9YkAX\\Lib\\site-packages\\keras\\utils\\traceback_utils.py\", line 70, in error_handler\n",
      "    raise e.with_traceback(filtered_tb) from None\n",
      "  File \"C:\\Users\\emanu\\.virtualenvs\\DM2-HUE9YkAX\\Lib\\site-packages\\keras\\layers\\convolutional\\base_conv.py\", line 354, in compute_output_shape\n",
      "    raise ValueError(\n",
      "ValueError: One of the dimensions in the output is <= 0 due to downsampling in extra_conv_1. Consider increasing the input size. Received input shape [None, 3, 6] which would produce output shape with a zero or negative value in a dimension.\n",
      "[W 2023-06-30 16:18:54,869] Trial 29 failed with value None.\n"
     ]
    },
    {
     "name": "stdout",
     "output_type": "stream",
     "text": [
      "Running little bitch having n_conv=3, dropout=0.0613967587661387, hidden_nodes=55\n"
     ]
    },
    {
     "name": "stderr",
     "output_type": "stream",
     "text": [
      "[W 2023-06-30 16:18:55,713] Trial 30 failed with parameters: {'n_conv': 3, 'n_hidden': 3, 'hidden_nodes': 55, 'dropout': 0.0613967587661387, 'filters': 6, 'kernel_size': 13, 'batch_size': 18, 'epochs': 10} because of the following error: ValueError('One of the dimensions in the output is <= 0 due to downsampling in extra_conv_1. Consider increasing the input size. Received input shape [None, 3, 6] which would produce output shape with a zero or negative value in a dimension.').\n",
      "Traceback (most recent call last):\n",
      "  File \"C:\\Users\\emanu\\.virtualenvs\\DM2-HUE9YkAX\\Lib\\site-packages\\optuna\\study\\_optimize.py\", line 200, in _run_trial\n",
      "    value_or_values = func(trial)\n",
      "                      ^^^^^^^^^^^\n",
      "  File \"C:\\Users\\emanu\\AppData\\Local\\Temp\\ipykernel_19432\\1072382922.py\", line 34, in <lambda>\n",
      "    trial_function = lambda trial: objective_fun(trial,\n",
      "                                  ^^^^^^^^^^^^^^^^^^^^^\n",
      "  File \"C:\\Users\\emanu\\AppData\\Local\\Temp\\ipykernel_19432\\1072382922.py\", line 15, in objective_fun\n",
      "    cnn = build_model(  X.shape[1:], len(np.unique(y)),\n",
      "          ^^^^^^^^^^^^^^^^^^^^^^^^^^^^^^^^^^^^^^^^^^^^^\n",
      "  File \"C:\\Users\\emanu\\AppData\\Local\\Temp\\ipykernel_19432\\1937663146.py\", line 27, in build_model\n",
      "    model.add(Conv1D(filters=filters, kernel_size=kernel_size, activation='relu', name=f\"extra_conv_{i}\"))\n",
      "  File \"C:\\Users\\emanu\\.virtualenvs\\DM2-HUE9YkAX\\Lib\\site-packages\\tensorflow\\python\\trackable\\base.py\", line 205, in _method_wrapper\n",
      "    result = method(self, *args, **kwargs)\n",
      "             ^^^^^^^^^^^^^^^^^^^^^^^^^^^^^\n",
      "  File \"C:\\Users\\emanu\\.virtualenvs\\DM2-HUE9YkAX\\Lib\\site-packages\\keras\\utils\\traceback_utils.py\", line 70, in error_handler\n",
      "    raise e.with_traceback(filtered_tb) from None\n",
      "  File \"C:\\Users\\emanu\\.virtualenvs\\DM2-HUE9YkAX\\Lib\\site-packages\\keras\\layers\\convolutional\\base_conv.py\", line 354, in compute_output_shape\n",
      "    raise ValueError(\n",
      "ValueError: One of the dimensions in the output is <= 0 due to downsampling in extra_conv_1. Consider increasing the input size. Received input shape [None, 3, 6] which would produce output shape with a zero or negative value in a dimension.\n",
      "[W 2023-06-30 16:18:55,742] Trial 30 failed with value None.\n"
     ]
    },
    {
     "name": "stdout",
     "output_type": "stream",
     "text": [
      " 4/13 [========>.....................] - ETA: 0sRunning little bitch having n_conv=3, dropout=0.0007063066808522533, hidden_nodes=73\n",
      "13/13 [==============================] - 1s 19ms/step\n"
     ]
    },
    {
     "name": "stderr",
     "output_type": "stream",
     "text": [
      "[I 2023-06-30 16:18:56,101] Trial 17 finished with value: 0.9689922480620154 and parameters: {'n_conv': 0, 'n_hidden': 2, 'hidden_nodes': 132, 'dropout': 0.14009159678445446, 'filters': 10, 'kernel_size': 8, 'batch_size': 51, 'epochs': 21}. Best is trial 12 with value: 0.9844961240310077.\n"
     ]
    },
    {
     "name": "stdout",
     "output_type": "stream",
     "text": [
      "Running little bitch having n_conv=3, dropout=0.002306652028675679, hidden_nodes=72\n"
     ]
    },
    {
     "name": "stderr",
     "output_type": "stream",
     "text": [
      "[W 2023-06-30 16:18:56,469] Trial 31 failed with parameters: {'n_conv': 3, 'n_hidden': 3, 'hidden_nodes': 73, 'dropout': 0.0007063066808522533, 'filters': 6, 'kernel_size': 13, 'batch_size': 17, 'epochs': 7} because of the following error: ValueError('One of the dimensions in the output is <= 0 due to downsampling in extra_conv_1. Consider increasing the input size. Received input shape [None, 3, 6] which would produce output shape with a zero or negative value in a dimension.').\n",
      "Traceback (most recent call last):\n",
      "  File \"C:\\Users\\emanu\\.virtualenvs\\DM2-HUE9YkAX\\Lib\\site-packages\\optuna\\study\\_optimize.py\", line 200, in _run_trial\n",
      "    value_or_values = func(trial)\n",
      "                      ^^^^^^^^^^^\n",
      "  File \"C:\\Users\\emanu\\AppData\\Local\\Temp\\ipykernel_19432\\1072382922.py\", line 34, in <lambda>\n",
      "    trial_function = lambda trial: objective_fun(trial,\n",
      "                                  ^^^^^^^^^^^^^^^^^^^^^\n",
      "  File \"C:\\Users\\emanu\\AppData\\Local\\Temp\\ipykernel_19432\\1072382922.py\", line 15, in objective_fun\n",
      "    cnn = build_model(  X.shape[1:], len(np.unique(y)),\n",
      "          ^^^^^^^^^^^^^^^^^^^^^^^^^^^^^^^^^^^^^^^^^^^^^\n",
      "  File \"C:\\Users\\emanu\\AppData\\Local\\Temp\\ipykernel_19432\\1937663146.py\", line 27, in build_model\n",
      "    model.add(Conv1D(filters=filters, kernel_size=kernel_size, activation='relu', name=f\"extra_conv_{i}\"))\n",
      "  File \"C:\\Users\\emanu\\.virtualenvs\\DM2-HUE9YkAX\\Lib\\site-packages\\tensorflow\\python\\trackable\\base.py\", line 205, in _method_wrapper\n",
      "    result = method(self, *args, **kwargs)\n",
      "             ^^^^^^^^^^^^^^^^^^^^^^^^^^^^^\n",
      "  File \"C:\\Users\\emanu\\.virtualenvs\\DM2-HUE9YkAX\\Lib\\site-packages\\keras\\utils\\traceback_utils.py\", line 70, in error_handler\n",
      "    raise e.with_traceback(filtered_tb) from None\n",
      "  File \"C:\\Users\\emanu\\.virtualenvs\\DM2-HUE9YkAX\\Lib\\site-packages\\keras\\layers\\convolutional\\base_conv.py\", line 354, in compute_output_shape\n",
      "    raise ValueError(\n",
      "ValueError: One of the dimensions in the output is <= 0 due to downsampling in extra_conv_1. Consider increasing the input size. Received input shape [None, 3, 6] which would produce output shape with a zero or negative value in a dimension.\n",
      "[W 2023-06-30 16:18:56,500] Trial 31 failed with value None.\n"
     ]
    },
    {
     "name": "stdout",
     "output_type": "stream",
     "text": [
      "Running little bitch having n_conv=3, dropout=0.0010210411050665738, hidden_nodes=72\n"
     ]
    },
    {
     "name": "stderr",
     "output_type": "stream",
     "text": [
      "[W 2023-06-30 16:18:56,931] Trial 32 failed with parameters: {'n_conv': 3, 'n_hidden': 3, 'hidden_nodes': 72, 'dropout': 0.002306652028675679, 'filters': 7, 'kernel_size': 11, 'batch_size': 17, 'epochs': 66} because of the following error: ValueError('One of the dimensions in the output is <= 0 due to downsampling in extra_conv_1. Consider increasing the input size. Received input shape [None, 7, 7] which would produce output shape with a zero or negative value in a dimension.').\n",
      "Traceback (most recent call last):\n",
      "  File \"C:\\Users\\emanu\\.virtualenvs\\DM2-HUE9YkAX\\Lib\\site-packages\\optuna\\study\\_optimize.py\", line 200, in _run_trial\n",
      "    value_or_values = func(trial)\n",
      "                      ^^^^^^^^^^^\n",
      "  File \"C:\\Users\\emanu\\AppData\\Local\\Temp\\ipykernel_19432\\1072382922.py\", line 34, in <lambda>\n",
      "    trial_function = lambda trial: objective_fun(trial,\n",
      "                                  ^^^^^^^^^^^^^^^^^^^^^\n",
      "  File \"C:\\Users\\emanu\\AppData\\Local\\Temp\\ipykernel_19432\\1072382922.py\", line 15, in objective_fun\n",
      "    cnn = build_model(  X.shape[1:], len(np.unique(y)),\n",
      "          ^^^^^^^^^^^^^^^^^^^^^^^^^^^^^^^^^^^^^^^^^^^^^\n",
      "  File \"C:\\Users\\emanu\\AppData\\Local\\Temp\\ipykernel_19432\\1937663146.py\", line 27, in build_model\n",
      "    model.add(Conv1D(filters=filters, kernel_size=kernel_size, activation='relu', name=f\"extra_conv_{i}\"))\n",
      "  File \"C:\\Users\\emanu\\.virtualenvs\\DM2-HUE9YkAX\\Lib\\site-packages\\tensorflow\\python\\trackable\\base.py\", line 205, in _method_wrapper\n",
      "    result = method(self, *args, **kwargs)\n",
      "             ^^^^^^^^^^^^^^^^^^^^^^^^^^^^^\n",
      "  File \"C:\\Users\\emanu\\.virtualenvs\\DM2-HUE9YkAX\\Lib\\site-packages\\keras\\utils\\traceback_utils.py\", line 70, in error_handler\n",
      "    raise e.with_traceback(filtered_tb) from None\n",
      "  File \"C:\\Users\\emanu\\.virtualenvs\\DM2-HUE9YkAX\\Lib\\site-packages\\keras\\layers\\convolutional\\base_conv.py\", line 354, in compute_output_shape\n",
      "    raise ValueError(\n",
      "ValueError: One of the dimensions in the output is <= 0 due to downsampling in extra_conv_1. Consider increasing the input size. Received input shape [None, 7, 7] which would produce output shape with a zero or negative value in a dimension.\n",
      "[W 2023-06-30 16:18:56,963] Trial 32 failed with value None.\n"
     ]
    },
    {
     "name": "stdout",
     "output_type": "stream",
     "text": [
      "Running little bitch having n_conv=3, dropout=0.00665624810615139, hidden_nodes=78\n"
     ]
    },
    {
     "name": "stderr",
     "output_type": "stream",
     "text": [
      "[W 2023-06-30 16:18:57,350] Trial 33 failed with parameters: {'n_conv': 3, 'n_hidden': 3, 'hidden_nodes': 72, 'dropout': 0.0010210411050665738, 'filters': 7, 'kernel_size': 11, 'batch_size': 17, 'epochs': 70} because of the following error: ValueError('One of the dimensions in the output is <= 0 due to downsampling in extra_conv_1. Consider increasing the input size. Received input shape [None, 7, 7] which would produce output shape with a zero or negative value in a dimension.').\n",
      "Traceback (most recent call last):\n",
      "  File \"C:\\Users\\emanu\\.virtualenvs\\DM2-HUE9YkAX\\Lib\\site-packages\\optuna\\study\\_optimize.py\", line 200, in _run_trial\n",
      "    value_or_values = func(trial)\n",
      "                      ^^^^^^^^^^^\n",
      "  File \"C:\\Users\\emanu\\AppData\\Local\\Temp\\ipykernel_19432\\1072382922.py\", line 34, in <lambda>\n",
      "    trial_function = lambda trial: objective_fun(trial,\n",
      "                                  ^^^^^^^^^^^^^^^^^^^^^\n",
      "  File \"C:\\Users\\emanu\\AppData\\Local\\Temp\\ipykernel_19432\\1072382922.py\", line 15, in objective_fun\n",
      "    cnn = build_model(  X.shape[1:], len(np.unique(y)),\n",
      "          ^^^^^^^^^^^^^^^^^^^^^^^^^^^^^^^^^^^^^^^^^^^^^\n",
      "  File \"C:\\Users\\emanu\\AppData\\Local\\Temp\\ipykernel_19432\\1937663146.py\", line 27, in build_model\n",
      "    model.add(Conv1D(filters=filters, kernel_size=kernel_size, activation='relu', name=f\"extra_conv_{i}\"))\n",
      "  File \"C:\\Users\\emanu\\.virtualenvs\\DM2-HUE9YkAX\\Lib\\site-packages\\tensorflow\\python\\trackable\\base.py\", line 205, in _method_wrapper\n",
      "    result = method(self, *args, **kwargs)\n",
      "             ^^^^^^^^^^^^^^^^^^^^^^^^^^^^^\n",
      "  File \"C:\\Users\\emanu\\.virtualenvs\\DM2-HUE9YkAX\\Lib\\site-packages\\keras\\utils\\traceback_utils.py\", line 70, in error_handler\n",
      "    raise e.with_traceback(filtered_tb) from None\n",
      "  File \"C:\\Users\\emanu\\.virtualenvs\\DM2-HUE9YkAX\\Lib\\site-packages\\keras\\layers\\convolutional\\base_conv.py\", line 354, in compute_output_shape\n",
      "    raise ValueError(\n",
      "ValueError: One of the dimensions in the output is <= 0 due to downsampling in extra_conv_1. Consider increasing the input size. Received input shape [None, 7, 7] which would produce output shape with a zero or negative value in a dimension.\n",
      "[W 2023-06-30 16:18:57,384] Trial 33 failed with value None.\n"
     ]
    },
    {
     "name": "stdout",
     "output_type": "stream",
     "text": [
      "Running little bitch having n_conv=3, dropout=0.003321659237372295, hidden_nodes=73\n"
     ]
    },
    {
     "name": "stderr",
     "output_type": "stream",
     "text": [
      "[W 2023-06-30 16:18:57,761] Trial 34 failed with parameters: {'n_conv': 3, 'n_hidden': 3, 'hidden_nodes': 78, 'dropout': 0.00665624810615139, 'filters': 7, 'kernel_size': 11, 'batch_size': 33, 'epochs': 69} because of the following error: ValueError('One of the dimensions in the output is <= 0 due to downsampling in extra_conv_1. Consider increasing the input size. Received input shape [None, 7, 7] which would produce output shape with a zero or negative value in a dimension.').\n",
      "Traceback (most recent call last):\n",
      "  File \"C:\\Users\\emanu\\.virtualenvs\\DM2-HUE9YkAX\\Lib\\site-packages\\optuna\\study\\_optimize.py\", line 200, in _run_trial\n",
      "    value_or_values = func(trial)\n",
      "                      ^^^^^^^^^^^\n",
      "  File \"C:\\Users\\emanu\\AppData\\Local\\Temp\\ipykernel_19432\\1072382922.py\", line 34, in <lambda>\n",
      "    trial_function = lambda trial: objective_fun(trial,\n",
      "                                  ^^^^^^^^^^^^^^^^^^^^^\n",
      "  File \"C:\\Users\\emanu\\AppData\\Local\\Temp\\ipykernel_19432\\1072382922.py\", line 15, in objective_fun\n",
      "    cnn = build_model(  X.shape[1:], len(np.unique(y)),\n",
      "          ^^^^^^^^^^^^^^^^^^^^^^^^^^^^^^^^^^^^^^^^^^^^^\n",
      "  File \"C:\\Users\\emanu\\AppData\\Local\\Temp\\ipykernel_19432\\1937663146.py\", line 27, in build_model\n",
      "    model.add(Conv1D(filters=filters, kernel_size=kernel_size, activation='relu', name=f\"extra_conv_{i}\"))\n",
      "  File \"C:\\Users\\emanu\\.virtualenvs\\DM2-HUE9YkAX\\Lib\\site-packages\\tensorflow\\python\\trackable\\base.py\", line 205, in _method_wrapper\n",
      "    result = method(self, *args, **kwargs)\n",
      "             ^^^^^^^^^^^^^^^^^^^^^^^^^^^^^\n",
      "  File \"C:\\Users\\emanu\\.virtualenvs\\DM2-HUE9YkAX\\Lib\\site-packages\\keras\\utils\\traceback_utils.py\", line 70, in error_handler\n",
      "    raise e.with_traceback(filtered_tb) from None\n",
      "  File \"C:\\Users\\emanu\\.virtualenvs\\DM2-HUE9YkAX\\Lib\\site-packages\\keras\\layers\\convolutional\\base_conv.py\", line 354, in compute_output_shape\n",
      "    raise ValueError(\n",
      "ValueError: One of the dimensions in the output is <= 0 due to downsampling in extra_conv_1. Consider increasing the input size. Received input shape [None, 7, 7] which would produce output shape with a zero or negative value in a dimension.\n",
      "[W 2023-06-30 16:18:57,770] Trial 34 failed with value None.\n",
      "[W 2023-06-30 16:18:58,080] Trial 35 failed with parameters: {'n_conv': 3, 'n_hidden': 3, 'hidden_nodes': 73, 'dropout': 0.003321659237372295, 'filters': 7, 'kernel_size': 10, 'batch_size': 17, 'epochs': 68} because of the following error: ValueError('Exception encountered when calling layer \"extra_conv_1\" (type Conv1D).\\n\\nNegative dimension size caused by subtracting 10 from 9 for \\'{{node extra_conv_1/Conv1D}} = Conv2D[T=DT_FLOAT, data_format=\"NHWC\", dilations=[1, 1, 1, 1], explicit_paddings=[], padding=\"VALID\", strides=[1, 1, 1, 1], use_cudnn_on_gpu=true](extra_conv_1/Conv1D/ExpandDims, extra_conv_1/Conv1D/ExpandDims_1)\\' with input shapes: [?,1,9,7], [1,10,7,7].\\n\\nCall arguments received by layer \"extra_conv_1\" (type Conv1D):\\n  • inputs=tf.Tensor(shape=(None, 9, 7), dtype=float32)').\n",
      "Traceback (most recent call last):\n",
      "  File \"C:\\Users\\emanu\\.virtualenvs\\DM2-HUE9YkAX\\Lib\\site-packages\\optuna\\study\\_optimize.py\", line 200, in _run_trial\n",
      "    value_or_values = func(trial)\n",
      "                      ^^^^^^^^^^^\n",
      "  File \"C:\\Users\\emanu\\AppData\\Local\\Temp\\ipykernel_19432\\1072382922.py\", line 34, in <lambda>\n",
      "    trial_function = lambda trial: objective_fun(trial,\n",
      "                                  ^^^^^^^^^^^^^^^^^^^^^\n",
      "  File \"C:\\Users\\emanu\\AppData\\Local\\Temp\\ipykernel_19432\\1072382922.py\", line 15, in objective_fun\n",
      "    cnn = build_model(  X.shape[1:], len(np.unique(y)),\n",
      "          ^^^^^^^^^^^^^^^^^^^^^^^^^^^^^^^^^^^^^^^^^^^^^\n",
      "  File \"C:\\Users\\emanu\\AppData\\Local\\Temp\\ipykernel_19432\\1937663146.py\", line 27, in build_model\n",
      "    model.add(Conv1D(filters=filters, kernel_size=kernel_size, activation='relu', name=f\"extra_conv_{i}\"))\n",
      "  File \"C:\\Users\\emanu\\.virtualenvs\\DM2-HUE9YkAX\\Lib\\site-packages\\tensorflow\\python\\trackable\\base.py\", line 205, in _method_wrapper\n",
      "    result = method(self, *args, **kwargs)\n",
      "             ^^^^^^^^^^^^^^^^^^^^^^^^^^^^^\n",
      "  File \"C:\\Users\\emanu\\.virtualenvs\\DM2-HUE9YkAX\\Lib\\site-packages\\keras\\utils\\traceback_utils.py\", line 70, in error_handler\n",
      "    raise e.with_traceback(filtered_tb) from None\n",
      "  File \"C:\\Users\\emanu\\.virtualenvs\\DM2-HUE9YkAX\\Lib\\site-packages\\tensorflow\\python\\framework\\ops.py\", line 1973, in _create_c_op\n",
      "    raise ValueError(e.message)\n",
      "ValueError: Exception encountered when calling layer \"extra_conv_1\" (type Conv1D).\n",
      "\n",
      "Negative dimension size caused by subtracting 10 from 9 for '{{node extra_conv_1/Conv1D}} = Conv2D[T=DT_FLOAT, data_format=\"NHWC\", dilations=[1, 1, 1, 1], explicit_paddings=[], padding=\"VALID\", strides=[1, 1, 1, 1], use_cudnn_on_gpu=true](extra_conv_1/Conv1D/ExpandDims, extra_conv_1/Conv1D/ExpandDims_1)' with input shapes: [?,1,9,7], [1,10,7,7].\n",
      "\n",
      "Call arguments received by layer \"extra_conv_1\" (type Conv1D):\n",
      "  • inputs=tf.Tensor(shape=(None, 9, 7), dtype=float32)\n"
     ]
    },
    {
     "name": "stdout",
     "output_type": "stream",
     "text": [
      "Running little bitch having n_conv=3, dropout=0.00755919148860869, hidden_nodes=89\n"
     ]
    },
    {
     "name": "stderr",
     "output_type": "stream",
     "text": [
      "[W 2023-06-30 16:18:58,100] Trial 35 failed with value None.\n",
      "[W 2023-06-30 16:18:58,351] Trial 36 failed with parameters: {'n_conv': 3, 'n_hidden': 3, 'hidden_nodes': 89, 'dropout': 0.00755919148860869, 'filters': 7, 'kernel_size': 11, 'batch_size': 16, 'epochs': 67} because of the following error: ValueError('One of the dimensions in the output is <= 0 due to downsampling in extra_conv_1. Consider increasing the input size. Received input shape [None, 7, 7] which would produce output shape with a zero or negative value in a dimension.').\n",
      "Traceback (most recent call last):\n",
      "  File \"C:\\Users\\emanu\\.virtualenvs\\DM2-HUE9YkAX\\Lib\\site-packages\\optuna\\study\\_optimize.py\", line 200, in _run_trial\n",
      "    value_or_values = func(trial)\n",
      "                      ^^^^^^^^^^^\n",
      "  File \"C:\\Users\\emanu\\AppData\\Local\\Temp\\ipykernel_19432\\1072382922.py\", line 34, in <lambda>\n",
      "    trial_function = lambda trial: objective_fun(trial,\n",
      "                                  ^^^^^^^^^^^^^^^^^^^^^\n",
      "  File \"C:\\Users\\emanu\\AppData\\Local\\Temp\\ipykernel_19432\\1072382922.py\", line 15, in objective_fun\n",
      "    cnn = build_model(  X.shape[1:], len(np.unique(y)),\n",
      "          ^^^^^^^^^^^^^^^^^^^^^^^^^^^^^^^^^^^^^^^^^^^^^\n",
      "  File \"C:\\Users\\emanu\\AppData\\Local\\Temp\\ipykernel_19432\\1937663146.py\", line 27, in build_model\n",
      "    model.add(Conv1D(filters=filters, kernel_size=kernel_size, activation='relu', name=f\"extra_conv_{i}\"))\n",
      "  File \"C:\\Users\\emanu\\.virtualenvs\\DM2-HUE9YkAX\\Lib\\site-packages\\tensorflow\\python\\trackable\\base.py\", line 205, in _method_wrapper\n",
      "    result = method(self, *args, **kwargs)\n",
      "             ^^^^^^^^^^^^^^^^^^^^^^^^^^^^^\n",
      "  File \"C:\\Users\\emanu\\.virtualenvs\\DM2-HUE9YkAX\\Lib\\site-packages\\keras\\utils\\traceback_utils.py\", line 70, in error_handler\n",
      "    raise e.with_traceback(filtered_tb) from None\n",
      "  File \"C:\\Users\\emanu\\.virtualenvs\\DM2-HUE9YkAX\\Lib\\site-packages\\keras\\layers\\convolutional\\base_conv.py\", line 354, in compute_output_shape\n",
      "    raise ValueError(\n",
      "ValueError: One of the dimensions in the output is <= 0 due to downsampling in extra_conv_1. Consider increasing the input size. Received input shape [None, 7, 7] which would produce output shape with a zero or negative value in a dimension.\n",
      "[W 2023-06-30 16:18:58,374] Trial 36 failed with value None.\n"
     ]
    },
    {
     "name": "stdout",
     "output_type": "stream",
     "text": [
      "Running little bitch having n_conv=3, dropout=0.005864977001558788, hidden_nodes=72\n"
     ]
    },
    {
     "name": "stderr",
     "output_type": "stream",
     "text": [
      "[W 2023-06-30 16:18:58,620] Trial 37 failed with parameters: {'n_conv': 3, 'n_hidden': 3, 'hidden_nodes': 72, 'dropout': 0.005864977001558788, 'filters': 7, 'kernel_size': 11, 'batch_size': 33, 'epochs': 69} because of the following error: ValueError('One of the dimensions in the output is <= 0 due to downsampling in extra_conv_1. Consider increasing the input size. Received input shape [None, 7, 7] which would produce output shape with a zero or negative value in a dimension.').\n",
      "Traceback (most recent call last):\n",
      "  File \"C:\\Users\\emanu\\.virtualenvs\\DM2-HUE9YkAX\\Lib\\site-packages\\optuna\\study\\_optimize.py\", line 200, in _run_trial\n",
      "    value_or_values = func(trial)\n",
      "                      ^^^^^^^^^^^\n",
      "  File \"C:\\Users\\emanu\\AppData\\Local\\Temp\\ipykernel_19432\\1072382922.py\", line 34, in <lambda>\n",
      "    trial_function = lambda trial: objective_fun(trial,\n",
      "                                  ^^^^^^^^^^^^^^^^^^^^^\n",
      "  File \"C:\\Users\\emanu\\AppData\\Local\\Temp\\ipykernel_19432\\1072382922.py\", line 15, in objective_fun\n",
      "    cnn = build_model(  X.shape[1:], len(np.unique(y)),\n",
      "          ^^^^^^^^^^^^^^^^^^^^^^^^^^^^^^^^^^^^^^^^^^^^^\n",
      "  File \"C:\\Users\\emanu\\AppData\\Local\\Temp\\ipykernel_19432\\1937663146.py\", line 27, in build_model\n",
      "    model.add(Conv1D(filters=filters, kernel_size=kernel_size, activation='relu', name=f\"extra_conv_{i}\"))\n",
      "  File \"C:\\Users\\emanu\\.virtualenvs\\DM2-HUE9YkAX\\Lib\\site-packages\\tensorflow\\python\\trackable\\base.py\", line 205, in _method_wrapper\n",
      "    result = method(self, *args, **kwargs)\n",
      "             ^^^^^^^^^^^^^^^^^^^^^^^^^^^^^\n",
      "  File \"C:\\Users\\emanu\\.virtualenvs\\DM2-HUE9YkAX\\Lib\\site-packages\\keras\\utils\\traceback_utils.py\", line 70, in error_handler\n",
      "    raise e.with_traceback(filtered_tb) from None\n",
      "  File \"C:\\Users\\emanu\\.virtualenvs\\DM2-HUE9YkAX\\Lib\\site-packages\\keras\\layers\\convolutional\\base_conv.py\", line 354, in compute_output_shape\n",
      "    raise ValueError(\n",
      "ValueError: One of the dimensions in the output is <= 0 due to downsampling in extra_conv_1. Consider increasing the input size. Received input shape [None, 7, 7] which would produce output shape with a zero or negative value in a dimension.\n",
      "[W 2023-06-30 16:18:58,642] Trial 37 failed with value None.\n"
     ]
    },
    {
     "name": "stdout",
     "output_type": "stream",
     "text": [
      "Running little bitch having n_conv=3, dropout=0.00342664325108606, hidden_nodes=79\n"
     ]
    },
    {
     "name": "stderr",
     "output_type": "stream",
     "text": [
      "[W 2023-06-30 16:18:58,900] Trial 38 failed with parameters: {'n_conv': 3, 'n_hidden': 3, 'hidden_nodes': 79, 'dropout': 0.00342664325108606, 'filters': 8, 'kernel_size': 11, 'batch_size': 34, 'epochs': 63} because of the following error: ValueError('One of the dimensions in the output is <= 0 due to downsampling in extra_conv_1. Consider increasing the input size. Received input shape [None, 7, 8] which would produce output shape with a zero or negative value in a dimension.').\n",
      "Traceback (most recent call last):\n",
      "  File \"C:\\Users\\emanu\\.virtualenvs\\DM2-HUE9YkAX\\Lib\\site-packages\\optuna\\study\\_optimize.py\", line 200, in _run_trial\n",
      "    value_or_values = func(trial)\n",
      "                      ^^^^^^^^^^^\n",
      "  File \"C:\\Users\\emanu\\AppData\\Local\\Temp\\ipykernel_19432\\1072382922.py\", line 34, in <lambda>\n",
      "    trial_function = lambda trial: objective_fun(trial,\n",
      "                                  ^^^^^^^^^^^^^^^^^^^^^\n",
      "  File \"C:\\Users\\emanu\\AppData\\Local\\Temp\\ipykernel_19432\\1072382922.py\", line 15, in objective_fun\n",
      "    cnn = build_model(  X.shape[1:], len(np.unique(y)),\n",
      "          ^^^^^^^^^^^^^^^^^^^^^^^^^^^^^^^^^^^^^^^^^^^^^\n",
      "  File \"C:\\Users\\emanu\\AppData\\Local\\Temp\\ipykernel_19432\\1937663146.py\", line 27, in build_model\n",
      "    model.add(Conv1D(filters=filters, kernel_size=kernel_size, activation='relu', name=f\"extra_conv_{i}\"))\n",
      "  File \"C:\\Users\\emanu\\.virtualenvs\\DM2-HUE9YkAX\\Lib\\site-packages\\tensorflow\\python\\trackable\\base.py\", line 205, in _method_wrapper\n",
      "    result = method(self, *args, **kwargs)\n",
      "             ^^^^^^^^^^^^^^^^^^^^^^^^^^^^^\n",
      "  File \"C:\\Users\\emanu\\.virtualenvs\\DM2-HUE9YkAX\\Lib\\site-packages\\keras\\utils\\traceback_utils.py\", line 70, in error_handler\n",
      "    raise e.with_traceback(filtered_tb) from None\n",
      "  File \"C:\\Users\\emanu\\.virtualenvs\\DM2-HUE9YkAX\\Lib\\site-packages\\keras\\layers\\convolutional\\base_conv.py\", line 354, in compute_output_shape\n",
      "    raise ValueError(\n",
      "ValueError: One of the dimensions in the output is <= 0 due to downsampling in extra_conv_1. Consider increasing the input size. Received input shape [None, 7, 8] which would produce output shape with a zero or negative value in a dimension.\n",
      "[W 2023-06-30 16:18:58,920] Trial 38 failed with value None.\n"
     ]
    },
    {
     "name": "stdout",
     "output_type": "stream",
     "text": [
      "Running little bitch having n_conv=3, dropout=0.0049018796447493525, hidden_nodes=78\n",
      "Running little bitch having n_conv=3, dropout=0.0032251368834271127, hidden_nodes=79\n"
     ]
    },
    {
     "name": "stderr",
     "output_type": "stream",
     "text": [
      "[W 2023-06-30 16:18:59,221] Trial 39 failed with parameters: {'n_conv': 3, 'n_hidden': 3, 'hidden_nodes': 78, 'dropout': 0.0049018796447493525, 'filters': 7, 'kernel_size': 11, 'batch_size': 16, 'epochs': 69} because of the following error: ValueError('One of the dimensions in the output is <= 0 due to downsampling in extra_conv_1. Consider increasing the input size. Received input shape [None, 7, 7] which would produce output shape with a zero or negative value in a dimension.').\n",
      "Traceback (most recent call last):\n",
      "  File \"C:\\Users\\emanu\\.virtualenvs\\DM2-HUE9YkAX\\Lib\\site-packages\\optuna\\study\\_optimize.py\", line 200, in _run_trial\n",
      "    value_or_values = func(trial)\n",
      "                      ^^^^^^^^^^^\n",
      "  File \"C:\\Users\\emanu\\AppData\\Local\\Temp\\ipykernel_19432\\1072382922.py\", line 34, in <lambda>\n",
      "    trial_function = lambda trial: objective_fun(trial,\n",
      "                                  ^^^^^^^^^^^^^^^^^^^^^\n",
      "  File \"C:\\Users\\emanu\\AppData\\Local\\Temp\\ipykernel_19432\\1072382922.py\", line 15, in objective_fun\n",
      "    cnn = build_model(  X.shape[1:], len(np.unique(y)),\n",
      "          ^^^^^^^^^^^^^^^^^^^^^^^^^^^^^^^^^^^^^^^^^^^^^\n",
      "  File \"C:\\Users\\emanu\\AppData\\Local\\Temp\\ipykernel_19432\\1937663146.py\", line 27, in build_model\n",
      "    model.add(Conv1D(filters=filters, kernel_size=kernel_size, activation='relu', name=f\"extra_conv_{i}\"))\n",
      "  File \"C:\\Users\\emanu\\.virtualenvs\\DM2-HUE9YkAX\\Lib\\site-packages\\tensorflow\\python\\trackable\\base.py\", line 205, in _method_wrapper\n",
      "    result = method(self, *args, **kwargs)\n",
      "             ^^^^^^^^^^^^^^^^^^^^^^^^^^^^^\n",
      "  File \"C:\\Users\\emanu\\.virtualenvs\\DM2-HUE9YkAX\\Lib\\site-packages\\keras\\utils\\traceback_utils.py\", line 70, in error_handler\n",
      "    raise e.with_traceback(filtered_tb) from None\n",
      "  File \"C:\\Users\\emanu\\.virtualenvs\\DM2-HUE9YkAX\\Lib\\site-packages\\keras\\layers\\convolutional\\base_conv.py\", line 354, in compute_output_shape\n",
      "    raise ValueError(\n",
      "ValueError: One of the dimensions in the output is <= 0 due to downsampling in extra_conv_1. Consider increasing the input size. Received input shape [None, 7, 7] which would produce output shape with a zero or negative value in a dimension.\n",
      "[W 2023-06-30 16:18:59,241] Trial 39 failed with value None.\n",
      "[W 2023-06-30 16:18:59,464] Trial 40 failed with parameters: {'n_conv': 3, 'n_hidden': 3, 'hidden_nodes': 79, 'dropout': 0.0032251368834271127, 'filters': 7, 'kernel_size': 11, 'batch_size': 33, 'epochs': 73} because of the following error: ValueError('One of the dimensions in the output is <= 0 due to downsampling in extra_conv_1. Consider increasing the input size. Received input shape [None, 7, 7] which would produce output shape with a zero or negative value in a dimension.').\n",
      "Traceback (most recent call last):\n",
      "  File \"C:\\Users\\emanu\\.virtualenvs\\DM2-HUE9YkAX\\Lib\\site-packages\\optuna\\study\\_optimize.py\", line 200, in _run_trial\n",
      "    value_or_values = func(trial)\n",
      "                      ^^^^^^^^^^^\n",
      "  File \"C:\\Users\\emanu\\AppData\\Local\\Temp\\ipykernel_19432\\1072382922.py\", line 34, in <lambda>\n",
      "    trial_function = lambda trial: objective_fun(trial,\n",
      "                                  ^^^^^^^^^^^^^^^^^^^^^\n",
      "  File \"C:\\Users\\emanu\\AppData\\Local\\Temp\\ipykernel_19432\\1072382922.py\", line 15, in objective_fun\n",
      "    cnn = build_model(  X.shape[1:], len(np.unique(y)),\n",
      "          ^^^^^^^^^^^^^^^^^^^^^^^^^^^^^^^^^^^^^^^^^^^^^\n",
      "  File \"C:\\Users\\emanu\\AppData\\Local\\Temp\\ipykernel_19432\\1937663146.py\", line 27, in build_model\n",
      "    model.add(Conv1D(filters=filters, kernel_size=kernel_size, activation='relu', name=f\"extra_conv_{i}\"))\n",
      "  File \"C:\\Users\\emanu\\.virtualenvs\\DM2-HUE9YkAX\\Lib\\site-packages\\tensorflow\\python\\trackable\\base.py\", line 205, in _method_wrapper\n",
      "    result = method(self, *args, **kwargs)\n",
      "             ^^^^^^^^^^^^^^^^^^^^^^^^^^^^^\n",
      "  File \"C:\\Users\\emanu\\.virtualenvs\\DM2-HUE9YkAX\\Lib\\site-packages\\keras\\utils\\traceback_utils.py\", line 70, in error_handler\n",
      "    raise e.with_traceback(filtered_tb) from None\n",
      "  File \"C:\\Users\\emanu\\.virtualenvs\\DM2-HUE9YkAX\\Lib\\site-packages\\keras\\layers\\convolutional\\base_conv.py\", line 354, in compute_output_shape\n",
      "    raise ValueError(\n",
      "ValueError: One of the dimensions in the output is <= 0 due to downsampling in extra_conv_1. Consider increasing the input size. Received input shape [None, 7, 7] which would produce output shape with a zero or negative value in a dimension.\n",
      "[W 2023-06-30 16:18:59,490] Trial 40 failed with value None.\n"
     ]
    },
    {
     "name": "stdout",
     "output_type": "stream",
     "text": [
      "Running little bitch having n_conv=3, dropout=0.013523151614402588, hidden_nodes=74\n",
      "Running little bitch having n_conv=3, dropout=0.005394445416881347, hidden_nodes=72\n"
     ]
    },
    {
     "name": "stderr",
     "output_type": "stream",
     "text": [
      "[W 2023-06-30 16:18:59,914] Trial 41 failed with parameters: {'n_conv': 3, 'n_hidden': 3, 'hidden_nodes': 74, 'dropout': 0.013523151614402588, 'filters': 7, 'kernel_size': 11, 'batch_size': 17, 'epochs': 65} because of the following error: ValueError('One of the dimensions in the output is <= 0 due to downsampling in extra_conv_1. Consider increasing the input size. Received input shape [None, 7, 7] which would produce output shape with a zero or negative value in a dimension.').\n",
      "Traceback (most recent call last):\n",
      "  File \"C:\\Users\\emanu\\.virtualenvs\\DM2-HUE9YkAX\\Lib\\site-packages\\optuna\\study\\_optimize.py\", line 200, in _run_trial\n",
      "    value_or_values = func(trial)\n",
      "                      ^^^^^^^^^^^\n",
      "  File \"C:\\Users\\emanu\\AppData\\Local\\Temp\\ipykernel_19432\\1072382922.py\", line 34, in <lambda>\n",
      "    trial_function = lambda trial: objective_fun(trial,\n",
      "                                  ^^^^^^^^^^^^^^^^^^^^^\n",
      "  File \"C:\\Users\\emanu\\AppData\\Local\\Temp\\ipykernel_19432\\1072382922.py\", line 15, in objective_fun\n",
      "    cnn = build_model(  X.shape[1:], len(np.unique(y)),\n",
      "          ^^^^^^^^^^^^^^^^^^^^^^^^^^^^^^^^^^^^^^^^^^^^^\n",
      "  File \"C:\\Users\\emanu\\AppData\\Local\\Temp\\ipykernel_19432\\1937663146.py\", line 27, in build_model\n",
      "    model.add(Conv1D(filters=filters, kernel_size=kernel_size, activation='relu', name=f\"extra_conv_{i}\"))\n",
      "  File \"C:\\Users\\emanu\\.virtualenvs\\DM2-HUE9YkAX\\Lib\\site-packages\\tensorflow\\python\\trackable\\base.py\", line 205, in _method_wrapper\n",
      "    result = method(self, *args, **kwargs)\n",
      "             ^^^^^^^^^^^^^^^^^^^^^^^^^^^^^\n",
      "  File \"C:\\Users\\emanu\\.virtualenvs\\DM2-HUE9YkAX\\Lib\\site-packages\\keras\\utils\\traceback_utils.py\", line 70, in error_handler\n",
      "    raise e.with_traceback(filtered_tb) from None\n",
      "  File \"C:\\Users\\emanu\\.virtualenvs\\DM2-HUE9YkAX\\Lib\\site-packages\\keras\\layers\\convolutional\\base_conv.py\", line 354, in compute_output_shape\n",
      "    raise ValueError(\n",
      "ValueError: One of the dimensions in the output is <= 0 due to downsampling in extra_conv_1. Consider increasing the input size. Received input shape [None, 7, 7] which would produce output shape with a zero or negative value in a dimension.\n",
      "[W 2023-06-30 16:18:59,947] Trial 41 failed with value None.\n",
      "[W 2023-06-30 16:19:00,247] Trial 42 failed with parameters: {'n_conv': 3, 'n_hidden': 3, 'hidden_nodes': 72, 'dropout': 0.005394445416881347, 'filters': 7, 'kernel_size': 11, 'batch_size': 18, 'epochs': 70} because of the following error: ValueError('One of the dimensions in the output is <= 0 due to downsampling in extra_conv_1. Consider increasing the input size. Received input shape [None, 7, 7] which would produce output shape with a zero or negative value in a dimension.').\n",
      "Traceback (most recent call last):\n",
      "  File \"C:\\Users\\emanu\\.virtualenvs\\DM2-HUE9YkAX\\Lib\\site-packages\\optuna\\study\\_optimize.py\", line 200, in _run_trial\n",
      "    value_or_values = func(trial)\n",
      "                      ^^^^^^^^^^^\n",
      "  File \"C:\\Users\\emanu\\AppData\\Local\\Temp\\ipykernel_19432\\1072382922.py\", line 34, in <lambda>\n",
      "    trial_function = lambda trial: objective_fun(trial,\n",
      "                                  ^^^^^^^^^^^^^^^^^^^^^\n",
      "  File \"C:\\Users\\emanu\\AppData\\Local\\Temp\\ipykernel_19432\\1072382922.py\", line 15, in objective_fun\n",
      "    cnn = build_model(  X.shape[1:], len(np.unique(y)),\n",
      "          ^^^^^^^^^^^^^^^^^^^^^^^^^^^^^^^^^^^^^^^^^^^^^\n",
      "  File \"C:\\Users\\emanu\\AppData\\Local\\Temp\\ipykernel_19432\\1937663146.py\", line 27, in build_model\n",
      "    model.add(Conv1D(filters=filters, kernel_size=kernel_size, activation='relu', name=f\"extra_conv_{i}\"))\n",
      "  File \"C:\\Users\\emanu\\.virtualenvs\\DM2-HUE9YkAX\\Lib\\site-packages\\tensorflow\\python\\trackable\\base.py\", line 205, in _method_wrapper\n",
      "    result = method(self, *args, **kwargs)\n",
      "             ^^^^^^^^^^^^^^^^^^^^^^^^^^^^^\n",
      "  File \"C:\\Users\\emanu\\.virtualenvs\\DM2-HUE9YkAX\\Lib\\site-packages\\keras\\utils\\traceback_utils.py\", line 70, in error_handler\n",
      "    raise e.with_traceback(filtered_tb) from None\n",
      "  File \"C:\\Users\\emanu\\.virtualenvs\\DM2-HUE9YkAX\\Lib\\site-packages\\keras\\layers\\convolutional\\base_conv.py\", line 354, in compute_output_shape\n",
      "    raise ValueError(\n",
      "ValueError: One of the dimensions in the output is <= 0 due to downsampling in extra_conv_1. Consider increasing the input size. Received input shape [None, 7, 7] which would produce output shape with a zero or negative value in a dimension.\n",
      "[W 2023-06-30 16:19:00,280] Trial 42 failed with value None.\n"
     ]
    },
    {
     "name": "stdout",
     "output_type": "stream",
     "text": [
      "Running little bitch having n_conv=3, dropout=0.00018031353430000147, hidden_nodes=71\n",
      "Running little bitch having n_conv=3, dropout=0.0007565813055606246, hidden_nodes=80\n"
     ]
    },
    {
     "name": "stderr",
     "output_type": "stream",
     "text": [
      "[W 2023-06-30 16:19:00,904] Trial 43 failed with parameters: {'n_conv': 3, 'n_hidden': 3, 'hidden_nodes': 71, 'dropout': 0.00018031353430000147, 'filters': 7, 'kernel_size': 11, 'batch_size': 31, 'epochs': 69} because of the following error: ValueError('One of the dimensions in the output is <= 0 due to downsampling in extra_conv_1. Consider increasing the input size. Received input shape [None, 7, 7] which would produce output shape with a zero or negative value in a dimension.').\n",
      "Traceback (most recent call last):\n",
      "  File \"C:\\Users\\emanu\\.virtualenvs\\DM2-HUE9YkAX\\Lib\\site-packages\\optuna\\study\\_optimize.py\", line 200, in _run_trial\n",
      "    value_or_values = func(trial)\n",
      "                      ^^^^^^^^^^^\n",
      "  File \"C:\\Users\\emanu\\AppData\\Local\\Temp\\ipykernel_19432\\1072382922.py\", line 34, in <lambda>\n",
      "    trial_function = lambda trial: objective_fun(trial,\n",
      "                                  ^^^^^^^^^^^^^^^^^^^^^\n",
      "  File \"C:\\Users\\emanu\\AppData\\Local\\Temp\\ipykernel_19432\\1072382922.py\", line 15, in objective_fun\n",
      "    cnn = build_model(  X.shape[1:], len(np.unique(y)),\n",
      "          ^^^^^^^^^^^^^^^^^^^^^^^^^^^^^^^^^^^^^^^^^^^^^\n",
      "  File \"C:\\Users\\emanu\\AppData\\Local\\Temp\\ipykernel_19432\\1937663146.py\", line 27, in build_model\n",
      "    model.add(Conv1D(filters=filters, kernel_size=kernel_size, activation='relu', name=f\"extra_conv_{i}\"))\n",
      "  File \"C:\\Users\\emanu\\.virtualenvs\\DM2-HUE9YkAX\\Lib\\site-packages\\tensorflow\\python\\trackable\\base.py\", line 205, in _method_wrapper\n",
      "    result = method(self, *args, **kwargs)\n",
      "             ^^^^^^^^^^^^^^^^^^^^^^^^^^^^^\n",
      "  File \"C:\\Users\\emanu\\.virtualenvs\\DM2-HUE9YkAX\\Lib\\site-packages\\keras\\utils\\traceback_utils.py\", line 70, in error_handler\n",
      "    raise e.with_traceback(filtered_tb) from None\n",
      "  File \"C:\\Users\\emanu\\.virtualenvs\\DM2-HUE9YkAX\\Lib\\site-packages\\keras\\layers\\convolutional\\base_conv.py\", line 354, in compute_output_shape\n",
      "    raise ValueError(\n",
      "ValueError: One of the dimensions in the output is <= 0 due to downsampling in extra_conv_1. Consider increasing the input size. Received input shape [None, 7, 7] which would produce output shape with a zero or negative value in a dimension.\n",
      "[W 2023-06-30 16:19:00,921] Trial 43 failed with value None.\n",
      "[W 2023-06-30 16:19:01,092] Trial 44 failed with parameters: {'n_conv': 3, 'n_hidden': 3, 'hidden_nodes': 80, 'dropout': 0.0007565813055606246, 'filters': 7, 'kernel_size': 11, 'batch_size': 16, 'epochs': 70} because of the following error: ValueError('One of the dimensions in the output is <= 0 due to downsampling in extra_conv_1. Consider increasing the input size. Received input shape [None, 7, 7] which would produce output shape with a zero or negative value in a dimension.').\n",
      "Traceback (most recent call last):\n",
      "  File \"C:\\Users\\emanu\\.virtualenvs\\DM2-HUE9YkAX\\Lib\\site-packages\\optuna\\study\\_optimize.py\", line 200, in _run_trial\n",
      "    value_or_values = func(trial)\n",
      "                      ^^^^^^^^^^^\n",
      "  File \"C:\\Users\\emanu\\AppData\\Local\\Temp\\ipykernel_19432\\1072382922.py\", line 34, in <lambda>\n",
      "    trial_function = lambda trial: objective_fun(trial,\n",
      "                                  ^^^^^^^^^^^^^^^^^^^^^\n",
      "  File \"C:\\Users\\emanu\\AppData\\Local\\Temp\\ipykernel_19432\\1072382922.py\", line 15, in objective_fun\n",
      "    cnn = build_model(  X.shape[1:], len(np.unique(y)),\n",
      "          ^^^^^^^^^^^^^^^^^^^^^^^^^^^^^^^^^^^^^^^^^^^^^\n",
      "  File \"C:\\Users\\emanu\\AppData\\Local\\Temp\\ipykernel_19432\\1937663146.py\", line 27, in build_model\n",
      "    model.add(Conv1D(filters=filters, kernel_size=kernel_size, activation='relu', name=f\"extra_conv_{i}\"))\n",
      "  File \"C:\\Users\\emanu\\.virtualenvs\\DM2-HUE9YkAX\\Lib\\site-packages\\tensorflow\\python\\trackable\\base.py\", line 205, in _method_wrapper\n",
      "    result = method(self, *args, **kwargs)\n",
      "             ^^^^^^^^^^^^^^^^^^^^^^^^^^^^^\n",
      "  File \"C:\\Users\\emanu\\.virtualenvs\\DM2-HUE9YkAX\\Lib\\site-packages\\keras\\utils\\traceback_utils.py\", line 70, in error_handler\n",
      "    raise e.with_traceback(filtered_tb) from None\n",
      "  File \"C:\\Users\\emanu\\.virtualenvs\\DM2-HUE9YkAX\\Lib\\site-packages\\keras\\layers\\convolutional\\base_conv.py\", line 354, in compute_output_shape\n",
      "    raise ValueError(\n",
      "ValueError: One of the dimensions in the output is <= 0 due to downsampling in extra_conv_1. Consider increasing the input size. Received input shape [None, 7, 7] which would produce output shape with a zero or negative value in a dimension.\n",
      "[W 2023-06-30 16:19:01,112] Trial 44 failed with value None.\n"
     ]
    },
    {
     "name": "stdout",
     "output_type": "stream",
     "text": [
      "Running little bitch having n_conv=3, dropout=0.00428896896289898, hidden_nodes=71\n",
      "Running little bitch having n_conv=3, dropout=0.0024915455976837197, hidden_nodes=92\n"
     ]
    },
    {
     "name": "stderr",
     "output_type": "stream",
     "text": [
      "[W 2023-06-30 16:19:01,681] Trial 45 failed with parameters: {'n_conv': 3, 'n_hidden': 3, 'hidden_nodes': 71, 'dropout': 0.00428896896289898, 'filters': 7, 'kernel_size': 11, 'batch_size': 33, 'epochs': 68} because of the following error: ValueError('One of the dimensions in the output is <= 0 due to downsampling in extra_conv_1. Consider increasing the input size. Received input shape [None, 7, 7] which would produce output shape with a zero or negative value in a dimension.').\n",
      "Traceback (most recent call last):\n",
      "  File \"C:\\Users\\emanu\\.virtualenvs\\DM2-HUE9YkAX\\Lib\\site-packages\\optuna\\study\\_optimize.py\", line 200, in _run_trial\n",
      "    value_or_values = func(trial)\n",
      "                      ^^^^^^^^^^^\n",
      "  File \"C:\\Users\\emanu\\AppData\\Local\\Temp\\ipykernel_19432\\1072382922.py\", line 34, in <lambda>\n",
      "    trial_function = lambda trial: objective_fun(trial,\n",
      "                                  ^^^^^^^^^^^^^^^^^^^^^\n",
      "  File \"C:\\Users\\emanu\\AppData\\Local\\Temp\\ipykernel_19432\\1072382922.py\", line 15, in objective_fun\n",
      "    cnn = build_model(  X.shape[1:], len(np.unique(y)),\n",
      "          ^^^^^^^^^^^^^^^^^^^^^^^^^^^^^^^^^^^^^^^^^^^^^\n",
      "  File \"C:\\Users\\emanu\\AppData\\Local\\Temp\\ipykernel_19432\\1937663146.py\", line 27, in build_model\n",
      "    model.add(Conv1D(filters=filters, kernel_size=kernel_size, activation='relu', name=f\"extra_conv_{i}\"))\n",
      "  File \"C:\\Users\\emanu\\.virtualenvs\\DM2-HUE9YkAX\\Lib\\site-packages\\tensorflow\\python\\trackable\\base.py\", line 205, in _method_wrapper\n",
      "    result = method(self, *args, **kwargs)\n",
      "             ^^^^^^^^^^^^^^^^^^^^^^^^^^^^^\n",
      "  File \"C:\\Users\\emanu\\.virtualenvs\\DM2-HUE9YkAX\\Lib\\site-packages\\keras\\utils\\traceback_utils.py\", line 70, in error_handler\n",
      "    raise e.with_traceback(filtered_tb) from None\n",
      "  File \"C:\\Users\\emanu\\.virtualenvs\\DM2-HUE9YkAX\\Lib\\site-packages\\keras\\layers\\convolutional\\base_conv.py\", line 354, in compute_output_shape\n",
      "    raise ValueError(\n",
      "ValueError: One of the dimensions in the output is <= 0 due to downsampling in extra_conv_1. Consider increasing the input size. Received input shape [None, 7, 7] which would produce output shape with a zero or negative value in a dimension.\n",
      "[W 2023-06-30 16:19:01,711] Trial 45 failed with value None.\n",
      "[W 2023-06-30 16:19:01,965] Trial 46 failed with parameters: {'n_conv': 3, 'n_hidden': 3, 'hidden_nodes': 92, 'dropout': 0.0024915455976837197, 'filters': 7, 'kernel_size': 11, 'batch_size': 16, 'epochs': 69} because of the following error: ValueError('One of the dimensions in the output is <= 0 due to downsampling in extra_conv_1. Consider increasing the input size. Received input shape [None, 7, 7] which would produce output shape with a zero or negative value in a dimension.').\n",
      "Traceback (most recent call last):\n",
      "  File \"C:\\Users\\emanu\\.virtualenvs\\DM2-HUE9YkAX\\Lib\\site-packages\\optuna\\study\\_optimize.py\", line 200, in _run_trial\n",
      "    value_or_values = func(trial)\n",
      "                      ^^^^^^^^^^^\n",
      "  File \"C:\\Users\\emanu\\AppData\\Local\\Temp\\ipykernel_19432\\1072382922.py\", line 34, in <lambda>\n",
      "    trial_function = lambda trial: objective_fun(trial,\n",
      "                                  ^^^^^^^^^^^^^^^^^^^^^\n",
      "  File \"C:\\Users\\emanu\\AppData\\Local\\Temp\\ipykernel_19432\\1072382922.py\", line 15, in objective_fun\n",
      "    cnn = build_model(  X.shape[1:], len(np.unique(y)),\n",
      "          ^^^^^^^^^^^^^^^^^^^^^^^^^^^^^^^^^^^^^^^^^^^^^\n",
      "  File \"C:\\Users\\emanu\\AppData\\Local\\Temp\\ipykernel_19432\\1937663146.py\", line 27, in build_model\n",
      "    model.add(Conv1D(filters=filters, kernel_size=kernel_size, activation='relu', name=f\"extra_conv_{i}\"))\n",
      "  File \"C:\\Users\\emanu\\.virtualenvs\\DM2-HUE9YkAX\\Lib\\site-packages\\tensorflow\\python\\trackable\\base.py\", line 205, in _method_wrapper\n",
      "    result = method(self, *args, **kwargs)\n",
      "             ^^^^^^^^^^^^^^^^^^^^^^^^^^^^^\n",
      "  File \"C:\\Users\\emanu\\.virtualenvs\\DM2-HUE9YkAX\\Lib\\site-packages\\keras\\utils\\traceback_utils.py\", line 70, in error_handler\n",
      "    raise e.with_traceback(filtered_tb) from None\n",
      "  File \"C:\\Users\\emanu\\.virtualenvs\\DM2-HUE9YkAX\\Lib\\site-packages\\keras\\layers\\convolutional\\base_conv.py\", line 354, in compute_output_shape\n",
      "    raise ValueError(\n",
      "ValueError: One of the dimensions in the output is <= 0 due to downsampling in extra_conv_1. Consider increasing the input size. Received input shape [None, 7, 7] which would produce output shape with a zero or negative value in a dimension.\n",
      "[W 2023-06-30 16:19:01,990] Trial 46 failed with value None.\n"
     ]
    },
    {
     "name": "stdout",
     "output_type": "stream",
     "text": [
      "Running little bitch having n_conv=3, dropout=0.0012968590118537793, hidden_nodes=78\n",
      "Running little bitch having n_conv=3, dropout=0.004394043153391959, hidden_nodes=77\n"
     ]
    },
    {
     "name": "stderr",
     "output_type": "stream",
     "text": [
      "[W 2023-06-30 16:19:02,641] Trial 47 failed with parameters: {'n_conv': 3, 'n_hidden': 3, 'hidden_nodes': 78, 'dropout': 0.0012968590118537793, 'filters': 7, 'kernel_size': 12, 'batch_size': 34, 'epochs': 65} because of the following error: ValueError('One of the dimensions in the output is <= 0 due to downsampling in extra_conv_1. Consider increasing the input size. Received input shape [None, 5, 7] which would produce output shape with a zero or negative value in a dimension.').\n",
      "Traceback (most recent call last):\n",
      "  File \"C:\\Users\\emanu\\.virtualenvs\\DM2-HUE9YkAX\\Lib\\site-packages\\optuna\\study\\_optimize.py\", line 200, in _run_trial\n",
      "    value_or_values = func(trial)\n",
      "                      ^^^^^^^^^^^\n",
      "  File \"C:\\Users\\emanu\\AppData\\Local\\Temp\\ipykernel_19432\\1072382922.py\", line 34, in <lambda>\n",
      "    trial_function = lambda trial: objective_fun(trial,\n",
      "                                  ^^^^^^^^^^^^^^^^^^^^^\n",
      "  File \"C:\\Users\\emanu\\AppData\\Local\\Temp\\ipykernel_19432\\1072382922.py\", line 15, in objective_fun\n",
      "    cnn = build_model(  X.shape[1:], len(np.unique(y)),\n",
      "          ^^^^^^^^^^^^^^^^^^^^^^^^^^^^^^^^^^^^^^^^^^^^^\n",
      "  File \"C:\\Users\\emanu\\AppData\\Local\\Temp\\ipykernel_19432\\1937663146.py\", line 27, in build_model\n",
      "    model.add(Conv1D(filters=filters, kernel_size=kernel_size, activation='relu', name=f\"extra_conv_{i}\"))\n",
      "  File \"C:\\Users\\emanu\\.virtualenvs\\DM2-HUE9YkAX\\Lib\\site-packages\\tensorflow\\python\\trackable\\base.py\", line 205, in _method_wrapper\n",
      "    result = method(self, *args, **kwargs)\n",
      "             ^^^^^^^^^^^^^^^^^^^^^^^^^^^^^\n",
      "  File \"C:\\Users\\emanu\\.virtualenvs\\DM2-HUE9YkAX\\Lib\\site-packages\\keras\\utils\\traceback_utils.py\", line 70, in error_handler\n",
      "    raise e.with_traceback(filtered_tb) from None\n",
      "  File \"C:\\Users\\emanu\\.virtualenvs\\DM2-HUE9YkAX\\Lib\\site-packages\\keras\\layers\\convolutional\\base_conv.py\", line 354, in compute_output_shape\n",
      "    raise ValueError(\n",
      "ValueError: One of the dimensions in the output is <= 0 due to downsampling in extra_conv_1. Consider increasing the input size. Received input shape [None, 5, 7] which would produce output shape with a zero or negative value in a dimension.\n",
      "[W 2023-06-30 16:19:02,672] Trial 47 failed with value None.\n",
      "[W 2023-06-30 16:19:02,874] Trial 48 failed with parameters: {'n_conv': 3, 'n_hidden': 3, 'hidden_nodes': 77, 'dropout': 0.004394043153391959, 'filters': 8, 'kernel_size': 11, 'batch_size': 16, 'epochs': 69} because of the following error: ValueError('One of the dimensions in the output is <= 0 due to downsampling in extra_conv_1. Consider increasing the input size. Received input shape [None, 7, 8] which would produce output shape with a zero or negative value in a dimension.').\n",
      "Traceback (most recent call last):\n",
      "  File \"C:\\Users\\emanu\\.virtualenvs\\DM2-HUE9YkAX\\Lib\\site-packages\\optuna\\study\\_optimize.py\", line 200, in _run_trial\n",
      "    value_or_values = func(trial)\n",
      "                      ^^^^^^^^^^^\n",
      "  File \"C:\\Users\\emanu\\AppData\\Local\\Temp\\ipykernel_19432\\1072382922.py\", line 34, in <lambda>\n",
      "    trial_function = lambda trial: objective_fun(trial,\n",
      "                                  ^^^^^^^^^^^^^^^^^^^^^\n",
      "  File \"C:\\Users\\emanu\\AppData\\Local\\Temp\\ipykernel_19432\\1072382922.py\", line 15, in objective_fun\n",
      "    cnn = build_model(  X.shape[1:], len(np.unique(y)),\n",
      "          ^^^^^^^^^^^^^^^^^^^^^^^^^^^^^^^^^^^^^^^^^^^^^\n",
      "  File \"C:\\Users\\emanu\\AppData\\Local\\Temp\\ipykernel_19432\\1937663146.py\", line 27, in build_model\n",
      "    model.add(Conv1D(filters=filters, kernel_size=kernel_size, activation='relu', name=f\"extra_conv_{i}\"))\n",
      "  File \"C:\\Users\\emanu\\.virtualenvs\\DM2-HUE9YkAX\\Lib\\site-packages\\tensorflow\\python\\trackable\\base.py\", line 205, in _method_wrapper\n",
      "    result = method(self, *args, **kwargs)\n",
      "             ^^^^^^^^^^^^^^^^^^^^^^^^^^^^^\n",
      "  File \"C:\\Users\\emanu\\.virtualenvs\\DM2-HUE9YkAX\\Lib\\site-packages\\keras\\utils\\traceback_utils.py\", line 70, in error_handler\n",
      "    raise e.with_traceback(filtered_tb) from None\n",
      "  File \"C:\\Users\\emanu\\.virtualenvs\\DM2-HUE9YkAX\\Lib\\site-packages\\keras\\layers\\convolutional\\base_conv.py\", line 354, in compute_output_shape\n",
      "    raise ValueError(\n",
      "ValueError: One of the dimensions in the output is <= 0 due to downsampling in extra_conv_1. Consider increasing the input size. Received input shape [None, 7, 8] which would produce output shape with a zero or negative value in a dimension.\n",
      "[W 2023-06-30 16:19:02,898] Trial 48 failed with value None.\n"
     ]
    },
    {
     "name": "stdout",
     "output_type": "stream",
     "text": [
      "Running little bitch having n_conv=3, dropout=0.01901257424977122, hidden_nodes=65\n",
      "Running little bitch having n_conv=3, dropout=0.016413383579697287, hidden_nodes=84\n"
     ]
    },
    {
     "name": "stderr",
     "output_type": "stream",
     "text": [
      "[W 2023-06-30 16:19:03,496] Trial 49 failed with parameters: {'n_conv': 3, 'n_hidden': 3, 'hidden_nodes': 65, 'dropout': 0.01901257424977122, 'filters': 7, 'kernel_size': 11, 'batch_size': 33, 'epochs': 71} because of the following error: ValueError('One of the dimensions in the output is <= 0 due to downsampling in extra_conv_1. Consider increasing the input size. Received input shape [None, 7, 7] which would produce output shape with a zero or negative value in a dimension.').\n",
      "Traceback (most recent call last):\n",
      "  File \"C:\\Users\\emanu\\.virtualenvs\\DM2-HUE9YkAX\\Lib\\site-packages\\optuna\\study\\_optimize.py\", line 200, in _run_trial\n",
      "    value_or_values = func(trial)\n",
      "                      ^^^^^^^^^^^\n",
      "  File \"C:\\Users\\emanu\\AppData\\Local\\Temp\\ipykernel_19432\\1072382922.py\", line 34, in <lambda>\n",
      "    trial_function = lambda trial: objective_fun(trial,\n",
      "                                  ^^^^^^^^^^^^^^^^^^^^^\n",
      "  File \"C:\\Users\\emanu\\AppData\\Local\\Temp\\ipykernel_19432\\1072382922.py\", line 15, in objective_fun\n",
      "    cnn = build_model(  X.shape[1:], len(np.unique(y)),\n",
      "          ^^^^^^^^^^^^^^^^^^^^^^^^^^^^^^^^^^^^^^^^^^^^^\n",
      "  File \"C:\\Users\\emanu\\AppData\\Local\\Temp\\ipykernel_19432\\1937663146.py\", line 27, in build_model\n",
      "    model.add(Conv1D(filters=filters, kernel_size=kernel_size, activation='relu', name=f\"extra_conv_{i}\"))\n",
      "  File \"C:\\Users\\emanu\\.virtualenvs\\DM2-HUE9YkAX\\Lib\\site-packages\\tensorflow\\python\\trackable\\base.py\", line 205, in _method_wrapper\n",
      "    result = method(self, *args, **kwargs)\n",
      "             ^^^^^^^^^^^^^^^^^^^^^^^^^^^^^\n",
      "  File \"C:\\Users\\emanu\\.virtualenvs\\DM2-HUE9YkAX\\Lib\\site-packages\\keras\\utils\\traceback_utils.py\", line 70, in error_handler\n",
      "    raise e.with_traceback(filtered_tb) from None\n",
      "  File \"C:\\Users\\emanu\\.virtualenvs\\DM2-HUE9YkAX\\Lib\\site-packages\\keras\\layers\\convolutional\\base_conv.py\", line 354, in compute_output_shape\n",
      "    raise ValueError(\n",
      "ValueError: One of the dimensions in the output is <= 0 due to downsampling in extra_conv_1. Consider increasing the input size. Received input shape [None, 7, 7] which would produce output shape with a zero or negative value in a dimension.\n",
      "[W 2023-06-30 16:19:03,550] Trial 49 failed with value None.\n",
      "[W 2023-06-30 16:19:03,671] Trial 50 failed with parameters: {'n_conv': 3, 'n_hidden': 3, 'hidden_nodes': 84, 'dropout': 0.016413383579697287, 'filters': 7, 'kernel_size': 12, 'batch_size': 16, 'epochs': 69} because of the following error: ValueError('One of the dimensions in the output is <= 0 due to downsampling in extra_conv_1. Consider increasing the input size. Received input shape [None, 5, 7] which would produce output shape with a zero or negative value in a dimension.').\n",
      "Traceback (most recent call last):\n",
      "  File \"C:\\Users\\emanu\\.virtualenvs\\DM2-HUE9YkAX\\Lib\\site-packages\\optuna\\study\\_optimize.py\", line 200, in _run_trial\n",
      "    value_or_values = func(trial)\n",
      "                      ^^^^^^^^^^^\n",
      "  File \"C:\\Users\\emanu\\AppData\\Local\\Temp\\ipykernel_19432\\1072382922.py\", line 34, in <lambda>\n",
      "    trial_function = lambda trial: objective_fun(trial,\n",
      "                                  ^^^^^^^^^^^^^^^^^^^^^\n",
      "  File \"C:\\Users\\emanu\\AppData\\Local\\Temp\\ipykernel_19432\\1072382922.py\", line 15, in objective_fun\n",
      "    cnn = build_model(  X.shape[1:], len(np.unique(y)),\n",
      "          ^^^^^^^^^^^^^^^^^^^^^^^^^^^^^^^^^^^^^^^^^^^^^\n",
      "  File \"C:\\Users\\emanu\\AppData\\Local\\Temp\\ipykernel_19432\\1937663146.py\", line 27, in build_model\n",
      "    model.add(Conv1D(filters=filters, kernel_size=kernel_size, activation='relu', name=f\"extra_conv_{i}\"))\n",
      "  File \"C:\\Users\\emanu\\.virtualenvs\\DM2-HUE9YkAX\\Lib\\site-packages\\tensorflow\\python\\trackable\\base.py\", line 205, in _method_wrapper\n",
      "    result = method(self, *args, **kwargs)\n",
      "             ^^^^^^^^^^^^^^^^^^^^^^^^^^^^^\n",
      "  File \"C:\\Users\\emanu\\.virtualenvs\\DM2-HUE9YkAX\\Lib\\site-packages\\keras\\utils\\traceback_utils.py\", line 70, in error_handler\n",
      "    raise e.with_traceback(filtered_tb) from None\n",
      "  File \"C:\\Users\\emanu\\.virtualenvs\\DM2-HUE9YkAX\\Lib\\site-packages\\keras\\layers\\convolutional\\base_conv.py\", line 354, in compute_output_shape\n",
      "    raise ValueError(\n",
      "ValueError: One of the dimensions in the output is <= 0 due to downsampling in extra_conv_1. Consider increasing the input size. Received input shape [None, 5, 7] which would produce output shape with a zero or negative value in a dimension.\n",
      "[W 2023-06-30 16:19:03,710] Trial 50 failed with value None.\n"
     ]
    },
    {
     "name": "stdout",
     "output_type": "stream",
     "text": [
      "Running little bitch having n_conv=3, dropout=0.0011519204020930263, hidden_nodes=89\n",
      "Running little bitch having n_conv=3, dropout=0.005175798405026032, hidden_nodes=67\n"
     ]
    },
    {
     "name": "stderr",
     "output_type": "stream",
     "text": [
      "[W 2023-06-30 16:19:04,439] Trial 51 failed with parameters: {'n_conv': 3, 'n_hidden': 3, 'hidden_nodes': 89, 'dropout': 0.0011519204020930263, 'filters': 7, 'kernel_size': 11, 'batch_size': 16, 'epochs': 69} because of the following error: ValueError('One of the dimensions in the output is <= 0 due to downsampling in extra_conv_1. Consider increasing the input size. Received input shape [None, 7, 7] which would produce output shape with a zero or negative value in a dimension.').\n",
      "Traceback (most recent call last):\n",
      "  File \"C:\\Users\\emanu\\.virtualenvs\\DM2-HUE9YkAX\\Lib\\site-packages\\optuna\\study\\_optimize.py\", line 200, in _run_trial\n",
      "    value_or_values = func(trial)\n",
      "                      ^^^^^^^^^^^\n",
      "  File \"C:\\Users\\emanu\\AppData\\Local\\Temp\\ipykernel_19432\\1072382922.py\", line 34, in <lambda>\n",
      "    trial_function = lambda trial: objective_fun(trial,\n",
      "                                  ^^^^^^^^^^^^^^^^^^^^^\n",
      "  File \"C:\\Users\\emanu\\AppData\\Local\\Temp\\ipykernel_19432\\1072382922.py\", line 15, in objective_fun\n",
      "    cnn = build_model(  X.shape[1:], len(np.unique(y)),\n",
      "          ^^^^^^^^^^^^^^^^^^^^^^^^^^^^^^^^^^^^^^^^^^^^^\n",
      "  File \"C:\\Users\\emanu\\AppData\\Local\\Temp\\ipykernel_19432\\1937663146.py\", line 27, in build_model\n",
      "    model.add(Conv1D(filters=filters, kernel_size=kernel_size, activation='relu', name=f\"extra_conv_{i}\"))\n",
      "  File \"C:\\Users\\emanu\\.virtualenvs\\DM2-HUE9YkAX\\Lib\\site-packages\\tensorflow\\python\\trackable\\base.py\", line 205, in _method_wrapper\n",
      "    result = method(self, *args, **kwargs)\n",
      "             ^^^^^^^^^^^^^^^^^^^^^^^^^^^^^\n",
      "  File \"C:\\Users\\emanu\\.virtualenvs\\DM2-HUE9YkAX\\Lib\\site-packages\\keras\\utils\\traceback_utils.py\", line 70, in error_handler\n",
      "    raise e.with_traceback(filtered_tb) from None\n",
      "  File \"C:\\Users\\emanu\\.virtualenvs\\DM2-HUE9YkAX\\Lib\\site-packages\\keras\\layers\\convolutional\\base_conv.py\", line 354, in compute_output_shape\n",
      "    raise ValueError(\n",
      "ValueError: One of the dimensions in the output is <= 0 due to downsampling in extra_conv_1. Consider increasing the input size. Received input shape [None, 7, 7] which would produce output shape with a zero or negative value in a dimension.\n",
      "[W 2023-06-30 16:19:04,483] Trial 52 failed with parameters: {'n_conv': 3, 'n_hidden': 3, 'hidden_nodes': 67, 'dropout': 0.005175798405026032, 'filters': 7, 'kernel_size': 11, 'batch_size': 33, 'epochs': 67} because of the following error: ValueError('One of the dimensions in the output is <= 0 due to downsampling in extra_conv_1. Consider increasing the input size. Received input shape [None, 7, 7] which would produce output shape with a zero or negative value in a dimension.').\n",
      "Traceback (most recent call last):\n",
      "  File \"C:\\Users\\emanu\\.virtualenvs\\DM2-HUE9YkAX\\Lib\\site-packages\\optuna\\study\\_optimize.py\", line 200, in _run_trial\n",
      "    value_or_values = func(trial)\n",
      "                      ^^^^^^^^^^^\n",
      "  File \"C:\\Users\\emanu\\AppData\\Local\\Temp\\ipykernel_19432\\1072382922.py\", line 34, in <lambda>\n",
      "    trial_function = lambda trial: objective_fun(trial,\n",
      "                                  ^^^^^^^^^^^^^^^^^^^^^\n",
      "  File \"C:\\Users\\emanu\\AppData\\Local\\Temp\\ipykernel_19432\\1072382922.py\", line 15, in objective_fun\n",
      "    cnn = build_model(  X.shape[1:], len(np.unique(y)),\n",
      "          ^^^^^^^^^^^^^^^^^^^^^^^^^^^^^^^^^^^^^^^^^^^^^\n",
      "  File \"C:\\Users\\emanu\\AppData\\Local\\Temp\\ipykernel_19432\\1937663146.py\", line 27, in build_model\n",
      "    model.add(Conv1D(filters=filters, kernel_size=kernel_size, activation='relu', name=f\"extra_conv_{i}\"))\n",
      "  File \"C:\\Users\\emanu\\.virtualenvs\\DM2-HUE9YkAX\\Lib\\site-packages\\tensorflow\\python\\trackable\\base.py\", line 205, in _method_wrapper\n",
      "    result = method(self, *args, **kwargs)\n",
      "             ^^^^^^^^^^^^^^^^^^^^^^^^^^^^^\n",
      "  File \"C:\\Users\\emanu\\.virtualenvs\\DM2-HUE9YkAX\\Lib\\site-packages\\keras\\utils\\traceback_utils.py\", line 70, in error_handler\n",
      "    raise e.with_traceback(filtered_tb) from None\n",
      "  File \"C:\\Users\\emanu\\.virtualenvs\\DM2-HUE9YkAX\\Lib\\site-packages\\keras\\layers\\convolutional\\base_conv.py\", line 354, in compute_output_shape\n",
      "    raise ValueError(\n",
      "ValueError: One of the dimensions in the output is <= 0 due to downsampling in extra_conv_1. Consider increasing the input size. Received input shape [None, 7, 7] which would produce output shape with a zero or negative value in a dimension.\n",
      "[W 2023-06-30 16:19:04,503] Trial 52 failed with value None.\n",
      "[W 2023-06-30 16:19:04,484] Trial 51 failed with value None.\n"
     ]
    },
    {
     "name": "stdout",
     "output_type": "stream",
     "text": [
      "Running little bitch having n_conv=3, dropout=0.004711724073923338, hidden_nodes=75\n",
      "Running little bitch having n_conv=3, dropout=0.008392496280190667, hidden_nodes=84\n"
     ]
    },
    {
     "name": "stderr",
     "output_type": "stream",
     "text": [
      "[W 2023-06-30 16:19:05,391] Trial 53 failed with parameters: {'n_conv': 3, 'n_hidden': 3, 'hidden_nodes': 75, 'dropout': 0.004711724073923338, 'filters': 7, 'kernel_size': 11, 'batch_size': 33, 'epochs': 68} because of the following error: ValueError('One of the dimensions in the output is <= 0 due to downsampling in extra_conv_1. Consider increasing the input size. Received input shape [None, 7, 7] which would produce output shape with a zero or negative value in a dimension.').\n",
      "Traceback (most recent call last):\n",
      "  File \"C:\\Users\\emanu\\.virtualenvs\\DM2-HUE9YkAX\\Lib\\site-packages\\optuna\\study\\_optimize.py\", line 200, in _run_trial\n",
      "    value_or_values = func(trial)\n",
      "                      ^^^^^^^^^^^\n",
      "  File \"C:\\Users\\emanu\\AppData\\Local\\Temp\\ipykernel_19432\\1072382922.py\", line 34, in <lambda>\n",
      "    trial_function = lambda trial: objective_fun(trial,\n",
      "                                  ^^^^^^^^^^^^^^^^^^^^^\n",
      "  File \"C:\\Users\\emanu\\AppData\\Local\\Temp\\ipykernel_19432\\1072382922.py\", line 15, in objective_fun\n",
      "    cnn = build_model(  X.shape[1:], len(np.unique(y)),\n",
      "          ^^^^^^^^^^^^^^^^^^^^^^^^^^^^^^^^^^^^^^^^^^^^^\n",
      "  File \"C:\\Users\\emanu\\AppData\\Local\\Temp\\ipykernel_19432\\1937663146.py\", line 27, in build_model\n",
      "    model.add(Conv1D(filters=filters, kernel_size=kernel_size, activation='relu', name=f\"extra_conv_{i}\"))\n",
      "  File \"C:\\Users\\emanu\\.virtualenvs\\DM2-HUE9YkAX\\Lib\\site-packages\\tensorflow\\python\\trackable\\base.py\", line 205, in _method_wrapper\n",
      "    result = method(self, *args, **kwargs)\n",
      "             ^^^^^^^^^^^^^^^^^^^^^^^^^^^^^\n",
      "  File \"C:\\Users\\emanu\\.virtualenvs\\DM2-HUE9YkAX\\Lib\\site-packages\\keras\\utils\\traceback_utils.py\", line 70, in error_handler\n",
      "    raise e.with_traceback(filtered_tb) from None\n",
      "  File \"C:\\Users\\emanu\\.virtualenvs\\DM2-HUE9YkAX\\Lib\\site-packages\\keras\\layers\\convolutional\\base_conv.py\", line 354, in compute_output_shape\n",
      "    raise ValueError(\n",
      "ValueError: One of the dimensions in the output is <= 0 due to downsampling in extra_conv_1. Consider increasing the input size. Received input shape [None, 7, 7] which would produce output shape with a zero or negative value in a dimension.\n",
      "[W 2023-06-30 16:19:05,415] Trial 53 failed with value None.\n",
      "[W 2023-06-30 16:19:05,415] Trial 54 failed with parameters: {'n_conv': 3, 'n_hidden': 3, 'hidden_nodes': 84, 'dropout': 0.008392496280190667, 'filters': 8, 'kernel_size': 11, 'batch_size': 33, 'epochs': 69} because of the following error: ValueError('One of the dimensions in the output is <= 0 due to downsampling in extra_conv_1. Consider increasing the input size. Received input shape [None, 7, 8] which would produce output shape with a zero or negative value in a dimension.').\n",
      "Traceback (most recent call last):\n",
      "  File \"C:\\Users\\emanu\\.virtualenvs\\DM2-HUE9YkAX\\Lib\\site-packages\\optuna\\study\\_optimize.py\", line 200, in _run_trial\n",
      "    value_or_values = func(trial)\n",
      "                      ^^^^^^^^^^^\n",
      "  File \"C:\\Users\\emanu\\AppData\\Local\\Temp\\ipykernel_19432\\1072382922.py\", line 34, in <lambda>\n",
      "    trial_function = lambda trial: objective_fun(trial,\n",
      "                                  ^^^^^^^^^^^^^^^^^^^^^\n",
      "  File \"C:\\Users\\emanu\\AppData\\Local\\Temp\\ipykernel_19432\\1072382922.py\", line 15, in objective_fun\n",
      "    cnn = build_model(  X.shape[1:], len(np.unique(y)),\n",
      "          ^^^^^^^^^^^^^^^^^^^^^^^^^^^^^^^^^^^^^^^^^^^^^\n",
      "  File \"C:\\Users\\emanu\\AppData\\Local\\Temp\\ipykernel_19432\\1937663146.py\", line 27, in build_model\n",
      "    model.add(Conv1D(filters=filters, kernel_size=kernel_size, activation='relu', name=f\"extra_conv_{i}\"))\n",
      "  File \"C:\\Users\\emanu\\.virtualenvs\\DM2-HUE9YkAX\\Lib\\site-packages\\tensorflow\\python\\trackable\\base.py\", line 205, in _method_wrapper\n",
      "    result = method(self, *args, **kwargs)\n",
      "             ^^^^^^^^^^^^^^^^^^^^^^^^^^^^^\n",
      "  File \"C:\\Users\\emanu\\.virtualenvs\\DM2-HUE9YkAX\\Lib\\site-packages\\keras\\utils\\traceback_utils.py\", line 70, in error_handler\n",
      "    raise e.with_traceback(filtered_tb) from None\n",
      "  File \"C:\\Users\\emanu\\.virtualenvs\\DM2-HUE9YkAX\\Lib\\site-packages\\keras\\layers\\convolutional\\base_conv.py\", line 354, in compute_output_shape\n",
      "    raise ValueError(\n",
      "ValueError: One of the dimensions in the output is <= 0 due to downsampling in extra_conv_1. Consider increasing the input size. Received input shape [None, 7, 8] which would produce output shape with a zero or negative value in a dimension.\n",
      "[W 2023-06-30 16:19:05,513] Trial 54 failed with value None.\n"
     ]
    },
    {
     "name": "stdout",
     "output_type": "stream",
     "text": [
      "Running little bitch having n_conv=3, dropout=0.001968184814888793, hidden_nodes=81\n",
      "Running little bitch having n_conv=3, dropout=0.004227042575524663, hidden_nodes=80\n"
     ]
    },
    {
     "name": "stderr",
     "output_type": "stream",
     "text": [
      "[W 2023-06-30 16:19:06,385] Trial 56 failed with parameters: {'n_conv': 3, 'n_hidden': 3, 'hidden_nodes': 80, 'dropout': 0.004227042575524663, 'filters': 7, 'kernel_size': 11, 'batch_size': 33, 'epochs': 69} because of the following error: ValueError('One of the dimensions in the output is <= 0 due to downsampling in extra_conv_1. Consider increasing the input size. Received input shape [None, 7, 7] which would produce output shape with a zero or negative value in a dimension.').\n",
      "Traceback (most recent call last):\n",
      "  File \"C:\\Users\\emanu\\.virtualenvs\\DM2-HUE9YkAX\\Lib\\site-packages\\optuna\\study\\_optimize.py\", line 200, in _run_trial\n",
      "    value_or_values = func(trial)\n",
      "                      ^^^^^^^^^^^\n",
      "  File \"C:\\Users\\emanu\\AppData\\Local\\Temp\\ipykernel_19432\\1072382922.py\", line 34, in <lambda>\n",
      "    trial_function = lambda trial: objective_fun(trial,\n",
      "                                  ^^^^^^^^^^^^^^^^^^^^^\n",
      "  File \"C:\\Users\\emanu\\AppData\\Local\\Temp\\ipykernel_19432\\1072382922.py\", line 15, in objective_fun\n",
      "    cnn = build_model(  X.shape[1:], len(np.unique(y)),\n",
      "          ^^^^^^^^^^^^^^^^^^^^^^^^^^^^^^^^^^^^^^^^^^^^^\n",
      "  File \"C:\\Users\\emanu\\AppData\\Local\\Temp\\ipykernel_19432\\1937663146.py\", line 27, in build_model\n",
      "    model.add(Conv1D(filters=filters, kernel_size=kernel_size, activation='relu', name=f\"extra_conv_{i}\"))\n",
      "  File \"C:\\Users\\emanu\\.virtualenvs\\DM2-HUE9YkAX\\Lib\\site-packages\\tensorflow\\python\\trackable\\base.py\", line 205, in _method_wrapper\n",
      "    result = method(self, *args, **kwargs)\n",
      "             ^^^^^^^^^^^^^^^^^^^^^^^^^^^^^\n",
      "  File \"C:\\Users\\emanu\\.virtualenvs\\DM2-HUE9YkAX\\Lib\\site-packages\\keras\\utils\\traceback_utils.py\", line 70, in error_handler\n",
      "    raise e.with_traceback(filtered_tb) from None\n",
      "  File \"C:\\Users\\emanu\\.virtualenvs\\DM2-HUE9YkAX\\Lib\\site-packages\\keras\\layers\\convolutional\\base_conv.py\", line 354, in compute_output_shape\n",
      "    raise ValueError(\n",
      "ValueError: One of the dimensions in the output is <= 0 due to downsampling in extra_conv_1. Consider increasing the input size. Received input shape [None, 7, 7] which would produce output shape with a zero or negative value in a dimension.\n",
      "[W 2023-06-30 16:19:06,390] Trial 55 failed with parameters: {'n_conv': 3, 'n_hidden': 3, 'hidden_nodes': 81, 'dropout': 0.001968184814888793, 'filters': 7, 'kernel_size': 11, 'batch_size': 17, 'epochs': 70} because of the following error: ValueError('One of the dimensions in the output is <= 0 due to downsampling in extra_conv_1. Consider increasing the input size. Received input shape [None, 7, 7] which would produce output shape with a zero or negative value in a dimension.').\n",
      "Traceback (most recent call last):\n",
      "  File \"C:\\Users\\emanu\\.virtualenvs\\DM2-HUE9YkAX\\Lib\\site-packages\\optuna\\study\\_optimize.py\", line 200, in _run_trial\n",
      "    value_or_values = func(trial)\n",
      "                      ^^^^^^^^^^^\n",
      "  File \"C:\\Users\\emanu\\AppData\\Local\\Temp\\ipykernel_19432\\1072382922.py\", line 34, in <lambda>\n",
      "    trial_function = lambda trial: objective_fun(trial,\n",
      "                                  ^^^^^^^^^^^^^^^^^^^^^\n",
      "  File \"C:\\Users\\emanu\\AppData\\Local\\Temp\\ipykernel_19432\\1072382922.py\", line 15, in objective_fun\n",
      "    cnn = build_model(  X.shape[1:], len(np.unique(y)),\n",
      "          ^^^^^^^^^^^^^^^^^^^^^^^^^^^^^^^^^^^^^^^^^^^^^\n",
      "  File \"C:\\Users\\emanu\\AppData\\Local\\Temp\\ipykernel_19432\\1937663146.py\", line 27, in build_model\n",
      "    model.add(Conv1D(filters=filters, kernel_size=kernel_size, activation='relu', name=f\"extra_conv_{i}\"))\n",
      "  File \"C:\\Users\\emanu\\.virtualenvs\\DM2-HUE9YkAX\\Lib\\site-packages\\tensorflow\\python\\trackable\\base.py\", line 205, in _method_wrapper\n",
      "    result = method(self, *args, **kwargs)\n",
      "             ^^^^^^^^^^^^^^^^^^^^^^^^^^^^^\n",
      "  File \"C:\\Users\\emanu\\.virtualenvs\\DM2-HUE9YkAX\\Lib\\site-packages\\keras\\utils\\traceback_utils.py\", line 70, in error_handler\n",
      "    raise e.with_traceback(filtered_tb) from None\n",
      "  File \"C:\\Users\\emanu\\.virtualenvs\\DM2-HUE9YkAX\\Lib\\site-packages\\keras\\layers\\convolutional\\base_conv.py\", line 354, in compute_output_shape\n",
      "    raise ValueError(\n",
      "ValueError: One of the dimensions in the output is <= 0 due to downsampling in extra_conv_1. Consider increasing the input size. Received input shape [None, 7, 7] which would produce output shape with a zero or negative value in a dimension.\n",
      "[W 2023-06-30 16:19:06,397] Trial 56 failed with value None.\n",
      "[W 2023-06-30 16:19:06,409] Trial 55 failed with value None.\n"
     ]
    },
    {
     "name": "stdout",
     "output_type": "stream",
     "text": [
      "Running little bitch having n_conv=3, dropout=0.00031079654566743, hidden_nodes=66\n",
      "Running little bitch having n_conv=3, dropout=0.009921960494584645, hidden_nodes=82\n"
     ]
    },
    {
     "name": "stderr",
     "output_type": "stream",
     "text": [
      "[W 2023-06-30 16:19:07,068] Trial 57 failed with parameters: {'n_conv': 3, 'n_hidden': 3, 'hidden_nodes': 66, 'dropout': 0.00031079654566743, 'filters': 7, 'kernel_size': 11, 'batch_size': 16, 'epochs': 73} because of the following error: ValueError('One of the dimensions in the output is <= 0 due to downsampling in extra_conv_1. Consider increasing the input size. Received input shape [None, 7, 7] which would produce output shape with a zero or negative value in a dimension.').\n",
      "Traceback (most recent call last):\n",
      "  File \"C:\\Users\\emanu\\.virtualenvs\\DM2-HUE9YkAX\\Lib\\site-packages\\optuna\\study\\_optimize.py\", line 200, in _run_trial\n",
      "    value_or_values = func(trial)\n",
      "                      ^^^^^^^^^^^\n",
      "  File \"C:\\Users\\emanu\\AppData\\Local\\Temp\\ipykernel_19432\\1072382922.py\", line 34, in <lambda>\n",
      "    trial_function = lambda trial: objective_fun(trial,\n",
      "                                  ^^^^^^^^^^^^^^^^^^^^^\n",
      "  File \"C:\\Users\\emanu\\AppData\\Local\\Temp\\ipykernel_19432\\1072382922.py\", line 15, in objective_fun\n",
      "    cnn = build_model(  X.shape[1:], len(np.unique(y)),\n",
      "          ^^^^^^^^^^^^^^^^^^^^^^^^^^^^^^^^^^^^^^^^^^^^^\n",
      "  File \"C:\\Users\\emanu\\AppData\\Local\\Temp\\ipykernel_19432\\1937663146.py\", line 27, in build_model\n",
      "    model.add(Conv1D(filters=filters, kernel_size=kernel_size, activation='relu', name=f\"extra_conv_{i}\"))\n",
      "  File \"C:\\Users\\emanu\\.virtualenvs\\DM2-HUE9YkAX\\Lib\\site-packages\\tensorflow\\python\\trackable\\base.py\", line 205, in _method_wrapper\n",
      "    result = method(self, *args, **kwargs)\n",
      "             ^^^^^^^^^^^^^^^^^^^^^^^^^^^^^\n",
      "  File \"C:\\Users\\emanu\\.virtualenvs\\DM2-HUE9YkAX\\Lib\\site-packages\\keras\\utils\\traceback_utils.py\", line 70, in error_handler\n",
      "    raise e.with_traceback(filtered_tb) from None\n",
      "  File \"C:\\Users\\emanu\\.virtualenvs\\DM2-HUE9YkAX\\Lib\\site-packages\\keras\\layers\\convolutional\\base_conv.py\", line 354, in compute_output_shape\n",
      "    raise ValueError(\n",
      "ValueError: One of the dimensions in the output is <= 0 due to downsampling in extra_conv_1. Consider increasing the input size. Received input shape [None, 7, 7] which would produce output shape with a zero or negative value in a dimension.\n",
      "[W 2023-06-30 16:19:07,087] Trial 57 failed with value None.\n",
      "[W 2023-06-30 16:19:07,139] Trial 58 failed with parameters: {'n_conv': 3, 'n_hidden': 3, 'hidden_nodes': 82, 'dropout': 0.009921960494584645, 'filters': 7, 'kernel_size': 11, 'batch_size': 30, 'epochs': 69} because of the following error: ValueError('One of the dimensions in the output is <= 0 due to downsampling in extra_conv_1. Consider increasing the input size. Received input shape [None, 7, 7] which would produce output shape with a zero or negative value in a dimension.').\n",
      "Traceback (most recent call last):\n",
      "  File \"C:\\Users\\emanu\\.virtualenvs\\DM2-HUE9YkAX\\Lib\\site-packages\\optuna\\study\\_optimize.py\", line 200, in _run_trial\n",
      "    value_or_values = func(trial)\n",
      "                      ^^^^^^^^^^^\n",
      "  File \"C:\\Users\\emanu\\AppData\\Local\\Temp\\ipykernel_19432\\1072382922.py\", line 34, in <lambda>\n",
      "    trial_function = lambda trial: objective_fun(trial,\n",
      "                                  ^^^^^^^^^^^^^^^^^^^^^\n",
      "  File \"C:\\Users\\emanu\\AppData\\Local\\Temp\\ipykernel_19432\\1072382922.py\", line 15, in objective_fun\n",
      "    cnn = build_model(  X.shape[1:], len(np.unique(y)),\n",
      "          ^^^^^^^^^^^^^^^^^^^^^^^^^^^^^^^^^^^^^^^^^^^^^\n",
      "  File \"C:\\Users\\emanu\\AppData\\Local\\Temp\\ipykernel_19432\\1937663146.py\", line 27, in build_model\n",
      "    model.add(Conv1D(filters=filters, kernel_size=kernel_size, activation='relu', name=f\"extra_conv_{i}\"))\n",
      "  File \"C:\\Users\\emanu\\.virtualenvs\\DM2-HUE9YkAX\\Lib\\site-packages\\tensorflow\\python\\trackable\\base.py\", line 205, in _method_wrapper\n",
      "    result = method(self, *args, **kwargs)\n",
      "             ^^^^^^^^^^^^^^^^^^^^^^^^^^^^^\n",
      "  File \"C:\\Users\\emanu\\.virtualenvs\\DM2-HUE9YkAX\\Lib\\site-packages\\keras\\utils\\traceback_utils.py\", line 70, in error_handler\n",
      "    raise e.with_traceback(filtered_tb) from None\n",
      "  File \"C:\\Users\\emanu\\.virtualenvs\\DM2-HUE9YkAX\\Lib\\site-packages\\keras\\layers\\convolutional\\base_conv.py\", line 354, in compute_output_shape\n",
      "    raise ValueError(\n",
      "ValueError: One of the dimensions in the output is <= 0 due to downsampling in extra_conv_1. Consider increasing the input size. Received input shape [None, 7, 7] which would produce output shape with a zero or negative value in a dimension.\n",
      "[W 2023-06-30 16:19:07,182] Trial 58 failed with value None.\n"
     ]
    },
    {
     "name": "stdout",
     "output_type": "stream",
     "text": [
      "Running little bitch having n_conv=3, dropout=0.004198271566455365, hidden_nodes=112\n",
      "Running little bitch having n_conv=2, dropout=0.00044635780028019767, hidden_nodes=76\n"
     ]
    },
    {
     "name": "stderr",
     "output_type": "stream",
     "text": [
      "[W 2023-06-30 16:19:07,716] Trial 59 failed with parameters: {'n_conv': 3, 'n_hidden': 3, 'hidden_nodes': 112, 'dropout': 0.004198271566455365, 'filters': 7, 'kernel_size': 11, 'batch_size': 33, 'epochs': 71} because of the following error: ValueError('One of the dimensions in the output is <= 0 due to downsampling in extra_conv_1. Consider increasing the input size. Received input shape [None, 7, 7] which would produce output shape with a zero or negative value in a dimension.').\n",
      "Traceback (most recent call last):\n",
      "  File \"C:\\Users\\emanu\\.virtualenvs\\DM2-HUE9YkAX\\Lib\\site-packages\\optuna\\study\\_optimize.py\", line 200, in _run_trial\n",
      "    value_or_values = func(trial)\n",
      "                      ^^^^^^^^^^^\n",
      "  File \"C:\\Users\\emanu\\AppData\\Local\\Temp\\ipykernel_19432\\1072382922.py\", line 34, in <lambda>\n",
      "    trial_function = lambda trial: objective_fun(trial,\n",
      "                                  ^^^^^^^^^^^^^^^^^^^^^\n",
      "  File \"C:\\Users\\emanu\\AppData\\Local\\Temp\\ipykernel_19432\\1072382922.py\", line 15, in objective_fun\n",
      "    cnn = build_model(  X.shape[1:], len(np.unique(y)),\n",
      "          ^^^^^^^^^^^^^^^^^^^^^^^^^^^^^^^^^^^^^^^^^^^^^\n",
      "  File \"C:\\Users\\emanu\\AppData\\Local\\Temp\\ipykernel_19432\\1937663146.py\", line 27, in build_model\n",
      "    model.add(Conv1D(filters=filters, kernel_size=kernel_size, activation='relu', name=f\"extra_conv_{i}\"))\n",
      "  File \"C:\\Users\\emanu\\.virtualenvs\\DM2-HUE9YkAX\\Lib\\site-packages\\tensorflow\\python\\trackable\\base.py\", line 205, in _method_wrapper\n",
      "    result = method(self, *args, **kwargs)\n",
      "             ^^^^^^^^^^^^^^^^^^^^^^^^^^^^^\n",
      "  File \"C:\\Users\\emanu\\.virtualenvs\\DM2-HUE9YkAX\\Lib\\site-packages\\keras\\utils\\traceback_utils.py\", line 70, in error_handler\n",
      "    raise e.with_traceback(filtered_tb) from None\n",
      "  File \"C:\\Users\\emanu\\.virtualenvs\\DM2-HUE9YkAX\\Lib\\site-packages\\keras\\layers\\convolutional\\base_conv.py\", line 354, in compute_output_shape\n",
      "    raise ValueError(\n",
      "ValueError: One of the dimensions in the output is <= 0 due to downsampling in extra_conv_1. Consider increasing the input size. Received input shape [None, 7, 7] which would produce output shape with a zero or negative value in a dimension.\n",
      "[W 2023-06-30 16:19:07,730] Trial 59 failed with value None.\n",
      "[W 2023-06-30 16:19:07,886] Trial 60 failed with parameters: {'n_conv': 2, 'n_hidden': 3, 'hidden_nodes': 76, 'dropout': 0.00044635780028019767, 'filters': 7, 'kernel_size': 11, 'batch_size': 33, 'epochs': 76} because of the following error: ValueError('One of the dimensions in the output is <= 0 due to downsampling in extra_conv_1. Consider increasing the input size. Received input shape [None, 7, 7] which would produce output shape with a zero or negative value in a dimension.').\n",
      "Traceback (most recent call last):\n",
      "  File \"C:\\Users\\emanu\\.virtualenvs\\DM2-HUE9YkAX\\Lib\\site-packages\\optuna\\study\\_optimize.py\", line 200, in _run_trial\n",
      "    value_or_values = func(trial)\n",
      "                      ^^^^^^^^^^^\n",
      "  File \"C:\\Users\\emanu\\AppData\\Local\\Temp\\ipykernel_19432\\1072382922.py\", line 34, in <lambda>\n",
      "    trial_function = lambda trial: objective_fun(trial,\n",
      "                                  ^^^^^^^^^^^^^^^^^^^^^\n",
      "  File \"C:\\Users\\emanu\\AppData\\Local\\Temp\\ipykernel_19432\\1072382922.py\", line 15, in objective_fun\n",
      "    cnn = build_model(  X.shape[1:], len(np.unique(y)),\n",
      "          ^^^^^^^^^^^^^^^^^^^^^^^^^^^^^^^^^^^^^^^^^^^^^\n",
      "  File \"C:\\Users\\emanu\\AppData\\Local\\Temp\\ipykernel_19432\\1937663146.py\", line 27, in build_model\n",
      "    model.add(Conv1D(filters=filters, kernel_size=kernel_size, activation='relu', name=f\"extra_conv_{i}\"))\n",
      "  File \"C:\\Users\\emanu\\.virtualenvs\\DM2-HUE9YkAX\\Lib\\site-packages\\tensorflow\\python\\trackable\\base.py\", line 205, in _method_wrapper\n",
      "    result = method(self, *args, **kwargs)\n",
      "             ^^^^^^^^^^^^^^^^^^^^^^^^^^^^^\n",
      "  File \"C:\\Users\\emanu\\.virtualenvs\\DM2-HUE9YkAX\\Lib\\site-packages\\keras\\utils\\traceback_utils.py\", line 70, in error_handler\n",
      "    raise e.with_traceback(filtered_tb) from None\n",
      "  File \"C:\\Users\\emanu\\.virtualenvs\\DM2-HUE9YkAX\\Lib\\site-packages\\keras\\layers\\convolutional\\base_conv.py\", line 354, in compute_output_shape\n",
      "    raise ValueError(\n",
      "ValueError: One of the dimensions in the output is <= 0 due to downsampling in extra_conv_1. Consider increasing the input size. Received input shape [None, 7, 7] which would produce output shape with a zero or negative value in a dimension.\n",
      "[W 2023-06-30 16:19:07,913] Trial 60 failed with value None.\n"
     ]
    },
    {
     "name": "stdout",
     "output_type": "stream",
     "text": [
      "Running little bitch having n_conv=3, dropout=0.004333322760014864, hidden_nodes=82\n",
      "Running little bitch having n_conv=3, dropout=0.0024682671992771205, hidden_nodes=71\n"
     ]
    },
    {
     "name": "stderr",
     "output_type": "stream",
     "text": [
      "[W 2023-06-30 16:19:08,682] Trial 61 failed with parameters: {'n_conv': 3, 'n_hidden': 3, 'hidden_nodes': 82, 'dropout': 0.004333322760014864, 'filters': 7, 'kernel_size': 11, 'batch_size': 16, 'epochs': 69} because of the following error: ValueError('One of the dimensions in the output is <= 0 due to downsampling in extra_conv_1. Consider increasing the input size. Received input shape [None, 7, 7] which would produce output shape with a zero or negative value in a dimension.').\n",
      "Traceback (most recent call last):\n",
      "  File \"C:\\Users\\emanu\\.virtualenvs\\DM2-HUE9YkAX\\Lib\\site-packages\\optuna\\study\\_optimize.py\", line 200, in _run_trial\n",
      "    value_or_values = func(trial)\n",
      "                      ^^^^^^^^^^^\n",
      "  File \"C:\\Users\\emanu\\AppData\\Local\\Temp\\ipykernel_19432\\1072382922.py\", line 34, in <lambda>\n",
      "    trial_function = lambda trial: objective_fun(trial,\n",
      "                                  ^^^^^^^^^^^^^^^^^^^^^\n",
      "  File \"C:\\Users\\emanu\\AppData\\Local\\Temp\\ipykernel_19432\\1072382922.py\", line 15, in objective_fun\n",
      "    cnn = build_model(  X.shape[1:], len(np.unique(y)),\n",
      "          ^^^^^^^^^^^^^^^^^^^^^^^^^^^^^^^^^^^^^^^^^^^^^\n",
      "  File \"C:\\Users\\emanu\\AppData\\Local\\Temp\\ipykernel_19432\\1937663146.py\", line 27, in build_model\n",
      "    model.add(Conv1D(filters=filters, kernel_size=kernel_size, activation='relu', name=f\"extra_conv_{i}\"))\n",
      "  File \"C:\\Users\\emanu\\.virtualenvs\\DM2-HUE9YkAX\\Lib\\site-packages\\tensorflow\\python\\trackable\\base.py\", line 205, in _method_wrapper\n",
      "    result = method(self, *args, **kwargs)\n",
      "             ^^^^^^^^^^^^^^^^^^^^^^^^^^^^^\n",
      "  File \"C:\\Users\\emanu\\.virtualenvs\\DM2-HUE9YkAX\\Lib\\site-packages\\keras\\utils\\traceback_utils.py\", line 70, in error_handler\n",
      "    raise e.with_traceback(filtered_tb) from None\n",
      "  File \"C:\\Users\\emanu\\.virtualenvs\\DM2-HUE9YkAX\\Lib\\site-packages\\keras\\layers\\convolutional\\base_conv.py\", line 354, in compute_output_shape\n",
      "    raise ValueError(\n",
      "ValueError: One of the dimensions in the output is <= 0 due to downsampling in extra_conv_1. Consider increasing the input size. Received input shape [None, 7, 7] which would produce output shape with a zero or negative value in a dimension.\n",
      "[W 2023-06-30 16:19:08,725] Trial 61 failed with value None.\n",
      "[W 2023-06-30 16:19:08,880] Trial 62 failed with parameters: {'n_conv': 3, 'n_hidden': 3, 'hidden_nodes': 71, 'dropout': 0.0024682671992771205, 'filters': 8, 'kernel_size': 11, 'batch_size': 17, 'epochs': 69} because of the following error: ValueError('One of the dimensions in the output is <= 0 due to downsampling in extra_conv_1. Consider increasing the input size. Received input shape [None, 7, 8] which would produce output shape with a zero or negative value in a dimension.').\n",
      "Traceback (most recent call last):\n",
      "  File \"C:\\Users\\emanu\\.virtualenvs\\DM2-HUE9YkAX\\Lib\\site-packages\\optuna\\study\\_optimize.py\", line 200, in _run_trial\n",
      "    value_or_values = func(trial)\n",
      "                      ^^^^^^^^^^^\n",
      "  File \"C:\\Users\\emanu\\AppData\\Local\\Temp\\ipykernel_19432\\1072382922.py\", line 34, in <lambda>\n",
      "    trial_function = lambda trial: objective_fun(trial,\n",
      "                                  ^^^^^^^^^^^^^^^^^^^^^\n",
      "  File \"C:\\Users\\emanu\\AppData\\Local\\Temp\\ipykernel_19432\\1072382922.py\", line 15, in objective_fun\n",
      "    cnn = build_model(  X.shape[1:], len(np.unique(y)),\n",
      "          ^^^^^^^^^^^^^^^^^^^^^^^^^^^^^^^^^^^^^^^^^^^^^\n",
      "  File \"C:\\Users\\emanu\\AppData\\Local\\Temp\\ipykernel_19432\\1937663146.py\", line 27, in build_model\n",
      "    model.add(Conv1D(filters=filters, kernel_size=kernel_size, activation='relu', name=f\"extra_conv_{i}\"))\n",
      "  File \"C:\\Users\\emanu\\.virtualenvs\\DM2-HUE9YkAX\\Lib\\site-packages\\tensorflow\\python\\trackable\\base.py\", line 205, in _method_wrapper\n",
      "    result = method(self, *args, **kwargs)\n",
      "             ^^^^^^^^^^^^^^^^^^^^^^^^^^^^^\n",
      "  File \"C:\\Users\\emanu\\.virtualenvs\\DM2-HUE9YkAX\\Lib\\site-packages\\keras\\utils\\traceback_utils.py\", line 70, in error_handler\n",
      "    raise e.with_traceback(filtered_tb) from None\n",
      "  File \"C:\\Users\\emanu\\.virtualenvs\\DM2-HUE9YkAX\\Lib\\site-packages\\keras\\layers\\convolutional\\base_conv.py\", line 354, in compute_output_shape\n",
      "    raise ValueError(\n",
      "ValueError: One of the dimensions in the output is <= 0 due to downsampling in extra_conv_1. Consider increasing the input size. Received input shape [None, 7, 8] which would produce output shape with a zero or negative value in a dimension.\n",
      "[W 2023-06-30 16:19:08,944] Trial 62 failed with value None.\n"
     ]
    },
    {
     "name": "stdout",
     "output_type": "stream",
     "text": [
      "Running little bitch having n_conv=3, dropout=0.006119741588450318, hidden_nodes=68\n",
      "Running little bitch having n_conv=3, dropout=0.01312356419488199, hidden_nodes=73\n"
     ]
    },
    {
     "name": "stderr",
     "output_type": "stream",
     "text": [
      "[W 2023-06-30 16:19:09,701] Trial 63 failed with parameters: {'n_conv': 3, 'n_hidden': 3, 'hidden_nodes': 68, 'dropout': 0.006119741588450318, 'filters': 7, 'kernel_size': 11, 'batch_size': 33, 'epochs': 70} because of the following error: ValueError('One of the dimensions in the output is <= 0 due to downsampling in extra_conv_1. Consider increasing the input size. Received input shape [None, 7, 7] which would produce output shape with a zero or negative value in a dimension.').\n",
      "Traceback (most recent call last):\n",
      "  File \"C:\\Users\\emanu\\.virtualenvs\\DM2-HUE9YkAX\\Lib\\site-packages\\optuna\\study\\_optimize.py\", line 200, in _run_trial\n",
      "    value_or_values = func(trial)\n",
      "                      ^^^^^^^^^^^\n",
      "  File \"C:\\Users\\emanu\\AppData\\Local\\Temp\\ipykernel_19432\\1072382922.py\", line 34, in <lambda>\n",
      "    trial_function = lambda trial: objective_fun(trial,\n",
      "                                  ^^^^^^^^^^^^^^^^^^^^^\n",
      "  File \"C:\\Users\\emanu\\AppData\\Local\\Temp\\ipykernel_19432\\1072382922.py\", line 15, in objective_fun\n",
      "    cnn = build_model(  X.shape[1:], len(np.unique(y)),\n",
      "          ^^^^^^^^^^^^^^^^^^^^^^^^^^^^^^^^^^^^^^^^^^^^^\n",
      "  File \"C:\\Users\\emanu\\AppData\\Local\\Temp\\ipykernel_19432\\1937663146.py\", line 27, in build_model\n",
      "    model.add(Conv1D(filters=filters, kernel_size=kernel_size, activation='relu', name=f\"extra_conv_{i}\"))\n",
      "  File \"C:\\Users\\emanu\\.virtualenvs\\DM2-HUE9YkAX\\Lib\\site-packages\\tensorflow\\python\\trackable\\base.py\", line 205, in _method_wrapper\n",
      "    result = method(self, *args, **kwargs)\n",
      "             ^^^^^^^^^^^^^^^^^^^^^^^^^^^^^\n",
      "  File \"C:\\Users\\emanu\\.virtualenvs\\DM2-HUE9YkAX\\Lib\\site-packages\\keras\\utils\\traceback_utils.py\", line 70, in error_handler\n",
      "    raise e.with_traceback(filtered_tb) from None\n",
      "  File \"C:\\Users\\emanu\\.virtualenvs\\DM2-HUE9YkAX\\Lib\\site-packages\\keras\\layers\\convolutional\\base_conv.py\", line 354, in compute_output_shape\n",
      "    raise ValueError(\n",
      "ValueError: One of the dimensions in the output is <= 0 due to downsampling in extra_conv_1. Consider increasing the input size. Received input shape [None, 7, 7] which would produce output shape with a zero or negative value in a dimension.\n",
      "[W 2023-06-30 16:19:09,742] Trial 63 failed with value None.\n",
      "[W 2023-06-30 16:19:09,960] Trial 64 failed with parameters: {'n_conv': 3, 'n_hidden': 3, 'hidden_nodes': 73, 'dropout': 0.01312356419488199, 'filters': 7, 'kernel_size': 10, 'batch_size': 16, 'epochs': 65} because of the following error: ValueError('Exception encountered when calling layer \"extra_conv_1\" (type Conv1D).\\n\\nNegative dimension size caused by subtracting 10 from 9 for \\'{{node extra_conv_1/Conv1D}} = Conv2D[T=DT_FLOAT, data_format=\"NHWC\", dilations=[1, 1, 1, 1], explicit_paddings=[], padding=\"VALID\", strides=[1, 1, 1, 1], use_cudnn_on_gpu=true](extra_conv_1/Conv1D/ExpandDims, extra_conv_1/Conv1D/ExpandDims_1)\\' with input shapes: [?,1,9,7], [1,10,7,7].\\n\\nCall arguments received by layer \"extra_conv_1\" (type Conv1D):\\n  • inputs=tf.Tensor(shape=(None, 9, 7), dtype=float32)').\n",
      "Traceback (most recent call last):\n",
      "  File \"C:\\Users\\emanu\\.virtualenvs\\DM2-HUE9YkAX\\Lib\\site-packages\\optuna\\study\\_optimize.py\", line 200, in _run_trial\n",
      "    value_or_values = func(trial)\n",
      "                      ^^^^^^^^^^^\n",
      "  File \"C:\\Users\\emanu\\AppData\\Local\\Temp\\ipykernel_19432\\1072382922.py\", line 34, in <lambda>\n",
      "    trial_function = lambda trial: objective_fun(trial,\n",
      "                                  ^^^^^^^^^^^^^^^^^^^^^\n",
      "  File \"C:\\Users\\emanu\\AppData\\Local\\Temp\\ipykernel_19432\\1072382922.py\", line 15, in objective_fun\n",
      "    cnn = build_model(  X.shape[1:], len(np.unique(y)),\n",
      "          ^^^^^^^^^^^^^^^^^^^^^^^^^^^^^^^^^^^^^^^^^^^^^\n",
      "  File \"C:\\Users\\emanu\\AppData\\Local\\Temp\\ipykernel_19432\\1937663146.py\", line 27, in build_model\n",
      "    model.add(Conv1D(filters=filters, kernel_size=kernel_size, activation='relu', name=f\"extra_conv_{i}\"))\n",
      "  File \"C:\\Users\\emanu\\.virtualenvs\\DM2-HUE9YkAX\\Lib\\site-packages\\tensorflow\\python\\trackable\\base.py\", line 205, in _method_wrapper\n",
      "    result = method(self, *args, **kwargs)\n",
      "             ^^^^^^^^^^^^^^^^^^^^^^^^^^^^^\n",
      "  File \"C:\\Users\\emanu\\.virtualenvs\\DM2-HUE9YkAX\\Lib\\site-packages\\keras\\utils\\traceback_utils.py\", line 70, in error_handler\n",
      "    raise e.with_traceback(filtered_tb) from None\n",
      "  File \"C:\\Users\\emanu\\.virtualenvs\\DM2-HUE9YkAX\\Lib\\site-packages\\tensorflow\\python\\framework\\ops.py\", line 1973, in _create_c_op\n",
      "    raise ValueError(e.message)\n",
      "ValueError: Exception encountered when calling layer \"extra_conv_1\" (type Conv1D).\n",
      "\n",
      "Negative dimension size caused by subtracting 10 from 9 for '{{node extra_conv_1/Conv1D}} = Conv2D[T=DT_FLOAT, data_format=\"NHWC\", dilations=[1, 1, 1, 1], explicit_paddings=[], padding=\"VALID\", strides=[1, 1, 1, 1], use_cudnn_on_gpu=true](extra_conv_1/Conv1D/ExpandDims, extra_conv_1/Conv1D/ExpandDims_1)' with input shapes: [?,1,9,7], [1,10,7,7].\n",
      "\n",
      "Call arguments received by layer \"extra_conv_1\" (type Conv1D):\n",
      "  • inputs=tf.Tensor(shape=(None, 9, 7), dtype=float32)\n",
      "[W 2023-06-30 16:19:09,997] Trial 64 failed with value None.\n"
     ]
    },
    {
     "name": "stdout",
     "output_type": "stream",
     "text": [
      "Running little bitch having n_conv=2, dropout=0.005443139348370554, hidden_nodes=88\n",
      "Running little bitch having n_conv=3, dropout=0.0014174963592796172, hidden_nodes=67\n",
      "13/13 [==============================] - 2s 22ms/step\n"
     ]
    },
    {
     "name": "stderr",
     "output_type": "stream",
     "text": [
      "[W 2023-06-30 16:19:10,701] Trial 65 failed with parameters: {'n_conv': 2, 'n_hidden': 3, 'hidden_nodes': 88, 'dropout': 0.005443139348370554, 'filters': 7, 'kernel_size': 11, 'batch_size': 33, 'epochs': 68} because of the following error: ValueError('One of the dimensions in the output is <= 0 due to downsampling in extra_conv_1. Consider increasing the input size. Received input shape [None, 7, 7] which would produce output shape with a zero or negative value in a dimension.').\n",
      "Traceback (most recent call last):\n",
      "  File \"C:\\Users\\emanu\\.virtualenvs\\DM2-HUE9YkAX\\Lib\\site-packages\\optuna\\study\\_optimize.py\", line 200, in _run_trial\n",
      "    value_or_values = func(trial)\n",
      "                      ^^^^^^^^^^^\n",
      "  File \"C:\\Users\\emanu\\AppData\\Local\\Temp\\ipykernel_19432\\1072382922.py\", line 34, in <lambda>\n",
      "    trial_function = lambda trial: objective_fun(trial,\n",
      "                                  ^^^^^^^^^^^^^^^^^^^^^\n",
      "  File \"C:\\Users\\emanu\\AppData\\Local\\Temp\\ipykernel_19432\\1072382922.py\", line 15, in objective_fun\n",
      "    cnn = build_model(  X.shape[1:], len(np.unique(y)),\n",
      "          ^^^^^^^^^^^^^^^^^^^^^^^^^^^^^^^^^^^^^^^^^^^^^\n",
      "  File \"C:\\Users\\emanu\\AppData\\Local\\Temp\\ipykernel_19432\\1937663146.py\", line 27, in build_model\n",
      "    model.add(Conv1D(filters=filters, kernel_size=kernel_size, activation='relu', name=f\"extra_conv_{i}\"))\n",
      "  File \"C:\\Users\\emanu\\.virtualenvs\\DM2-HUE9YkAX\\Lib\\site-packages\\tensorflow\\python\\trackable\\base.py\", line 205, in _method_wrapper\n",
      "    result = method(self, *args, **kwargs)\n",
      "             ^^^^^^^^^^^^^^^^^^^^^^^^^^^^^\n",
      "  File \"C:\\Users\\emanu\\.virtualenvs\\DM2-HUE9YkAX\\Lib\\site-packages\\keras\\utils\\traceback_utils.py\", line 70, in error_handler\n",
      "    raise e.with_traceback(filtered_tb) from None\n",
      "  File \"C:\\Users\\emanu\\.virtualenvs\\DM2-HUE9YkAX\\Lib\\site-packages\\keras\\layers\\convolutional\\base_conv.py\", line 354, in compute_output_shape\n",
      "    raise ValueError(\n",
      "ValueError: One of the dimensions in the output is <= 0 due to downsampling in extra_conv_1. Consider increasing the input size. Received input shape [None, 7, 7] which would produce output shape with a zero or negative value in a dimension.\n",
      "[W 2023-06-30 16:19:10,741] Trial 65 failed with value None.\n",
      "[I 2023-06-30 16:19:10,970] Trial 11 finished with value: 0.9612403100775194 and parameters: {'n_conv': 3, 'n_hidden': 2, 'hidden_nodes': 177, 'dropout': 0.009930125254752965, 'filters': 3, 'kernel_size': 4, 'batch_size': 20, 'epochs': 42}. Best is trial 12 with value: 0.9844961240310077.\n",
      "[W 2023-06-30 16:19:11,031] Trial 66 failed with parameters: {'n_conv': 3, 'n_hidden': 3, 'hidden_nodes': 67, 'dropout': 0.0014174963592796172, 'filters': 7, 'kernel_size': 11, 'batch_size': 16, 'epochs': 69} because of the following error: ValueError('One of the dimensions in the output is <= 0 due to downsampling in extra_conv_1. Consider increasing the input size. Received input shape [None, 7, 7] which would produce output shape with a zero or negative value in a dimension.').\n",
      "Traceback (most recent call last):\n",
      "  File \"C:\\Users\\emanu\\.virtualenvs\\DM2-HUE9YkAX\\Lib\\site-packages\\optuna\\study\\_optimize.py\", line 200, in _run_trial\n",
      "    value_or_values = func(trial)\n",
      "                      ^^^^^^^^^^^\n",
      "  File \"C:\\Users\\emanu\\AppData\\Local\\Temp\\ipykernel_19432\\1072382922.py\", line 34, in <lambda>\n",
      "    trial_function = lambda trial: objective_fun(trial,\n",
      "                                  ^^^^^^^^^^^^^^^^^^^^^\n",
      "  File \"C:\\Users\\emanu\\AppData\\Local\\Temp\\ipykernel_19432\\1072382922.py\", line 15, in objective_fun\n",
      "    cnn = build_model(  X.shape[1:], len(np.unique(y)),\n",
      "          ^^^^^^^^^^^^^^^^^^^^^^^^^^^^^^^^^^^^^^^^^^^^^\n",
      "  File \"C:\\Users\\emanu\\AppData\\Local\\Temp\\ipykernel_19432\\1937663146.py\", line 27, in build_model\n",
      "    model.add(Conv1D(filters=filters, kernel_size=kernel_size, activation='relu', name=f\"extra_conv_{i}\"))\n",
      "  File \"C:\\Users\\emanu\\.virtualenvs\\DM2-HUE9YkAX\\Lib\\site-packages\\tensorflow\\python\\trackable\\base.py\", line 205, in _method_wrapper\n",
      "    result = method(self, *args, **kwargs)\n",
      "             ^^^^^^^^^^^^^^^^^^^^^^^^^^^^^\n",
      "  File \"C:\\Users\\emanu\\.virtualenvs\\DM2-HUE9YkAX\\Lib\\site-packages\\keras\\utils\\traceback_utils.py\", line 70, in error_handler\n",
      "    raise e.with_traceback(filtered_tb) from None\n",
      "  File \"C:\\Users\\emanu\\.virtualenvs\\DM2-HUE9YkAX\\Lib\\site-packages\\keras\\layers\\convolutional\\base_conv.py\", line 354, in compute_output_shape\n",
      "    raise ValueError(\n",
      "ValueError: One of the dimensions in the output is <= 0 due to downsampling in extra_conv_1. Consider increasing the input size. Received input shape [None, 7, 7] which would produce output shape with a zero or negative value in a dimension.\n"
     ]
    },
    {
     "name": "stdout",
     "output_type": "stream",
     "text": [
      "Running little bitch having n_conv=3, dropout=0.0010691828831621841, hidden_nodes=77\n"
     ]
    },
    {
     "name": "stderr",
     "output_type": "stream",
     "text": [
      "[W 2023-06-30 16:19:11,097] Trial 66 failed with value None.\n"
     ]
    },
    {
     "name": "stdout",
     "output_type": "stream",
     "text": [
      "Running little bitch having n_conv=2, dropout=0.05353870675800754, hidden_nodes=68\n",
      "Running little bitch having n_conv=2, dropout=0.05200510489756567, hidden_nodes=85\n"
     ]
    },
    {
     "name": "stderr",
     "output_type": "stream",
     "text": [
      "[W 2023-06-30 16:19:11,731] Trial 67 failed with parameters: {'n_conv': 3, 'n_hidden': 3, 'hidden_nodes': 77, 'dropout': 0.0010691828831621841, 'filters': 7, 'kernel_size': 11, 'batch_size': 32, 'epochs': 73} because of the following error: ValueError('One of the dimensions in the output is <= 0 due to downsampling in extra_conv_1. Consider increasing the input size. Received input shape [None, 7, 7] which would produce output shape with a zero or negative value in a dimension.').\n",
      "Traceback (most recent call last):\n",
      "  File \"C:\\Users\\emanu\\.virtualenvs\\DM2-HUE9YkAX\\Lib\\site-packages\\optuna\\study\\_optimize.py\", line 200, in _run_trial\n",
      "    value_or_values = func(trial)\n",
      "                      ^^^^^^^^^^^\n",
      "  File \"C:\\Users\\emanu\\AppData\\Local\\Temp\\ipykernel_19432\\1072382922.py\", line 34, in <lambda>\n",
      "    trial_function = lambda trial: objective_fun(trial,\n",
      "                                  ^^^^^^^^^^^^^^^^^^^^^\n",
      "  File \"C:\\Users\\emanu\\AppData\\Local\\Temp\\ipykernel_19432\\1072382922.py\", line 15, in objective_fun\n",
      "    cnn = build_model(  X.shape[1:], len(np.unique(y)),\n",
      "          ^^^^^^^^^^^^^^^^^^^^^^^^^^^^^^^^^^^^^^^^^^^^^\n",
      "  File \"C:\\Users\\emanu\\AppData\\Local\\Temp\\ipykernel_19432\\1937663146.py\", line 27, in build_model\n",
      "    model.add(Conv1D(filters=filters, kernel_size=kernel_size, activation='relu', name=f\"extra_conv_{i}\"))\n",
      "  File \"C:\\Users\\emanu\\.virtualenvs\\DM2-HUE9YkAX\\Lib\\site-packages\\tensorflow\\python\\trackable\\base.py\", line 205, in _method_wrapper\n",
      "    result = method(self, *args, **kwargs)\n",
      "             ^^^^^^^^^^^^^^^^^^^^^^^^^^^^^\n",
      "  File \"C:\\Users\\emanu\\.virtualenvs\\DM2-HUE9YkAX\\Lib\\site-packages\\keras\\utils\\traceback_utils.py\", line 70, in error_handler\n",
      "    raise e.with_traceback(filtered_tb) from None\n",
      "  File \"C:\\Users\\emanu\\.virtualenvs\\DM2-HUE9YkAX\\Lib\\site-packages\\keras\\layers\\convolutional\\base_conv.py\", line 354, in compute_output_shape\n",
      "    raise ValueError(\n",
      "ValueError: One of the dimensions in the output is <= 0 due to downsampling in extra_conv_1. Consider increasing the input size. Received input shape [None, 7, 7] which would produce output shape with a zero or negative value in a dimension.\n",
      "[W 2023-06-30 16:19:11,765] Trial 67 failed with value None.\n",
      "[W 2023-06-30 16:19:11,890] Trial 68 failed with parameters: {'n_conv': 2, 'n_hidden': 3, 'hidden_nodes': 68, 'dropout': 0.05353870675800754, 'filters': 7, 'kernel_size': 11, 'batch_size': 32, 'epochs': 74} because of the following error: ValueError('One of the dimensions in the output is <= 0 due to downsampling in extra_conv_1. Consider increasing the input size. Received input shape [None, 7, 7] which would produce output shape with a zero or negative value in a dimension.').\n",
      "Traceback (most recent call last):\n",
      "  File \"C:\\Users\\emanu\\.virtualenvs\\DM2-HUE9YkAX\\Lib\\site-packages\\optuna\\study\\_optimize.py\", line 200, in _run_trial\n",
      "    value_or_values = func(trial)\n",
      "                      ^^^^^^^^^^^\n",
      "  File \"C:\\Users\\emanu\\AppData\\Local\\Temp\\ipykernel_19432\\1072382922.py\", line 34, in <lambda>\n",
      "    trial_function = lambda trial: objective_fun(trial,\n",
      "                                  ^^^^^^^^^^^^^^^^^^^^^\n",
      "  File \"C:\\Users\\emanu\\AppData\\Local\\Temp\\ipykernel_19432\\1072382922.py\", line 15, in objective_fun\n",
      "    cnn = build_model(  X.shape[1:], len(np.unique(y)),\n",
      "          ^^^^^^^^^^^^^^^^^^^^^^^^^^^^^^^^^^^^^^^^^^^^^\n",
      "  File \"C:\\Users\\emanu\\AppData\\Local\\Temp\\ipykernel_19432\\1937663146.py\", line 27, in build_model\n",
      "    model.add(Conv1D(filters=filters, kernel_size=kernel_size, activation='relu', name=f\"extra_conv_{i}\"))\n",
      "  File \"C:\\Users\\emanu\\.virtualenvs\\DM2-HUE9YkAX\\Lib\\site-packages\\tensorflow\\python\\trackable\\base.py\", line 205, in _method_wrapper\n",
      "    result = method(self, *args, **kwargs)\n",
      "             ^^^^^^^^^^^^^^^^^^^^^^^^^^^^^\n",
      "  File \"C:\\Users\\emanu\\.virtualenvs\\DM2-HUE9YkAX\\Lib\\site-packages\\keras\\utils\\traceback_utils.py\", line 70, in error_handler\n",
      "    raise e.with_traceback(filtered_tb) from None\n",
      "  File \"C:\\Users\\emanu\\.virtualenvs\\DM2-HUE9YkAX\\Lib\\site-packages\\keras\\layers\\convolutional\\base_conv.py\", line 354, in compute_output_shape\n",
      "    raise ValueError(\n",
      "ValueError: One of the dimensions in the output is <= 0 due to downsampling in extra_conv_1. Consider increasing the input size. Received input shape [None, 7, 7] which would produce output shape with a zero or negative value in a dimension.\n",
      "[W 2023-06-30 16:19:11,930] Trial 68 failed with value None.\n",
      "[W 2023-06-30 16:19:12,112] Trial 69 failed with parameters: {'n_conv': 2, 'n_hidden': 3, 'hidden_nodes': 85, 'dropout': 0.05200510489756567, 'filters': 7, 'kernel_size': 11, 'batch_size': 33, 'epochs': 70} because of the following error: ValueError('One of the dimensions in the output is <= 0 due to downsampling in extra_conv_1. Consider increasing the input size. Received input shape [None, 7, 7] which would produce output shape with a zero or negative value in a dimension.').\n",
      "Traceback (most recent call last):\n",
      "  File \"C:\\Users\\emanu\\.virtualenvs\\DM2-HUE9YkAX\\Lib\\site-packages\\optuna\\study\\_optimize.py\", line 200, in _run_trial\n",
      "    value_or_values = func(trial)\n",
      "                      ^^^^^^^^^^^\n",
      "  File \"C:\\Users\\emanu\\AppData\\Local\\Temp\\ipykernel_19432\\1072382922.py\", line 34, in <lambda>\n",
      "    trial_function = lambda trial: objective_fun(trial,\n",
      "                                  ^^^^^^^^^^^^^^^^^^^^^\n",
      "  File \"C:\\Users\\emanu\\AppData\\Local\\Temp\\ipykernel_19432\\1072382922.py\", line 15, in objective_fun\n",
      "    cnn = build_model(  X.shape[1:], len(np.unique(y)),\n",
      "          ^^^^^^^^^^^^^^^^^^^^^^^^^^^^^^^^^^^^^^^^^^^^^\n",
      "  File \"C:\\Users\\emanu\\AppData\\Local\\Temp\\ipykernel_19432\\1937663146.py\", line 27, in build_model\n",
      "    model.add(Conv1D(filters=filters, kernel_size=kernel_size, activation='relu', name=f\"extra_conv_{i}\"))\n",
      "  File \"C:\\Users\\emanu\\.virtualenvs\\DM2-HUE9YkAX\\Lib\\site-packages\\tensorflow\\python\\trackable\\base.py\", line 205, in _method_wrapper\n",
      "    result = method(self, *args, **kwargs)\n",
      "             ^^^^^^^^^^^^^^^^^^^^^^^^^^^^^\n",
      "  File \"C:\\Users\\emanu\\.virtualenvs\\DM2-HUE9YkAX\\Lib\\site-packages\\keras\\utils\\traceback_utils.py\", line 70, in error_handler\n",
      "    raise e.with_traceback(filtered_tb) from None\n",
      "  File \"C:\\Users\\emanu\\.virtualenvs\\DM2-HUE9YkAX\\Lib\\site-packages\\keras\\layers\\convolutional\\base_conv.py\", line 354, in compute_output_shape\n",
      "    raise ValueError(\n",
      "ValueError: One of the dimensions in the output is <= 0 due to downsampling in extra_conv_1. Consider increasing the input size. Received input shape [None, 7, 7] which would produce output shape with a zero or negative value in a dimension.\n"
     ]
    },
    {
     "name": "stdout",
     "output_type": "stream",
     "text": [
      "Running little bitch having n_conv=2, dropout=0.05408539078857375, hidden_nodes=81\n",
      "Running little bitch having n_conv=2, dropout=0.0514352375582988, hidden_nodes=82\n"
     ]
    },
    {
     "name": "stderr",
     "output_type": "stream",
     "text": [
      "[W 2023-06-30 16:19:12,120] Trial 69 failed with value None.\n"
     ]
    },
    {
     "name": "stdout",
     "output_type": "stream",
     "text": [
      "Running little bitch having n_conv=2, dropout=0.05152477273903487, hidden_nodes=81\n"
     ]
    },
    {
     "name": "stderr",
     "output_type": "stream",
     "text": [
      "[W 2023-06-30 16:19:12,564] Trial 70 failed with parameters: {'n_conv': 2, 'n_hidden': 3, 'hidden_nodes': 81, 'dropout': 0.05408539078857375, 'filters': 7, 'kernel_size': 11, 'batch_size': 33, 'epochs': 69} because of the following error: ValueError('One of the dimensions in the output is <= 0 due to downsampling in extra_conv_1. Consider increasing the input size. Received input shape [None, 7, 7] which would produce output shape with a zero or negative value in a dimension.').\n",
      "Traceback (most recent call last):\n",
      "  File \"C:\\Users\\emanu\\.virtualenvs\\DM2-HUE9YkAX\\Lib\\site-packages\\optuna\\study\\_optimize.py\", line 200, in _run_trial\n",
      "    value_or_values = func(trial)\n",
      "                      ^^^^^^^^^^^\n",
      "  File \"C:\\Users\\emanu\\AppData\\Local\\Temp\\ipykernel_19432\\1072382922.py\", line 34, in <lambda>\n",
      "    trial_function = lambda trial: objective_fun(trial,\n",
      "                                  ^^^^^^^^^^^^^^^^^^^^^\n",
      "  File \"C:\\Users\\emanu\\AppData\\Local\\Temp\\ipykernel_19432\\1072382922.py\", line 15, in objective_fun\n",
      "    cnn = build_model(  X.shape[1:], len(np.unique(y)),\n",
      "          ^^^^^^^^^^^^^^^^^^^^^^^^^^^^^^^^^^^^^^^^^^^^^\n",
      "  File \"C:\\Users\\emanu\\AppData\\Local\\Temp\\ipykernel_19432\\1937663146.py\", line 27, in build_model\n",
      "    model.add(Conv1D(filters=filters, kernel_size=kernel_size, activation='relu', name=f\"extra_conv_{i}\"))\n",
      "  File \"C:\\Users\\emanu\\.virtualenvs\\DM2-HUE9YkAX\\Lib\\site-packages\\tensorflow\\python\\trackable\\base.py\", line 205, in _method_wrapper\n",
      "    result = method(self, *args, **kwargs)\n",
      "             ^^^^^^^^^^^^^^^^^^^^^^^^^^^^^\n",
      "  File \"C:\\Users\\emanu\\.virtualenvs\\DM2-HUE9YkAX\\Lib\\site-packages\\keras\\utils\\traceback_utils.py\", line 70, in error_handler\n",
      "    raise e.with_traceback(filtered_tb) from None\n",
      "  File \"C:\\Users\\emanu\\.virtualenvs\\DM2-HUE9YkAX\\Lib\\site-packages\\keras\\layers\\convolutional\\base_conv.py\", line 354, in compute_output_shape\n",
      "    raise ValueError(\n",
      "ValueError: One of the dimensions in the output is <= 0 due to downsampling in extra_conv_1. Consider increasing the input size. Received input shape [None, 7, 7] which would produce output shape with a zero or negative value in a dimension.\n",
      "[W 2023-06-30 16:19:12,602] Trial 70 failed with value None.\n",
      "[W 2023-06-30 16:19:12,781] Trial 71 failed with parameters: {'n_conv': 2, 'n_hidden': 3, 'hidden_nodes': 82, 'dropout': 0.0514352375582988, 'filters': 6, 'kernel_size': 11, 'batch_size': 32, 'epochs': 71} because of the following error: ValueError('One of the dimensions in the output is <= 0 due to downsampling in extra_conv_1. Consider increasing the input size. Received input shape [None, 7, 6] which would produce output shape with a zero or negative value in a dimension.').\n",
      "Traceback (most recent call last):\n",
      "  File \"C:\\Users\\emanu\\.virtualenvs\\DM2-HUE9YkAX\\Lib\\site-packages\\optuna\\study\\_optimize.py\", line 200, in _run_trial\n",
      "    value_or_values = func(trial)\n",
      "                      ^^^^^^^^^^^\n",
      "  File \"C:\\Users\\emanu\\AppData\\Local\\Temp\\ipykernel_19432\\1072382922.py\", line 34, in <lambda>\n",
      "    trial_function = lambda trial: objective_fun(trial,\n",
      "                                  ^^^^^^^^^^^^^^^^^^^^^\n",
      "  File \"C:\\Users\\emanu\\AppData\\Local\\Temp\\ipykernel_19432\\1072382922.py\", line 15, in objective_fun\n",
      "    cnn = build_model(  X.shape[1:], len(np.unique(y)),\n",
      "          ^^^^^^^^^^^^^^^^^^^^^^^^^^^^^^^^^^^^^^^^^^^^^\n",
      "  File \"C:\\Users\\emanu\\AppData\\Local\\Temp\\ipykernel_19432\\1937663146.py\", line 27, in build_model\n",
      "    model.add(Conv1D(filters=filters, kernel_size=kernel_size, activation='relu', name=f\"extra_conv_{i}\"))\n",
      "  File \"C:\\Users\\emanu\\.virtualenvs\\DM2-HUE9YkAX\\Lib\\site-packages\\tensorflow\\python\\trackable\\base.py\", line 205, in _method_wrapper\n",
      "    result = method(self, *args, **kwargs)\n",
      "             ^^^^^^^^^^^^^^^^^^^^^^^^^^^^^\n",
      "  File \"C:\\Users\\emanu\\.virtualenvs\\DM2-HUE9YkAX\\Lib\\site-packages\\keras\\utils\\traceback_utils.py\", line 70, in error_handler\n",
      "    raise e.with_traceback(filtered_tb) from None\n",
      "  File \"C:\\Users\\emanu\\.virtualenvs\\DM2-HUE9YkAX\\Lib\\site-packages\\keras\\layers\\convolutional\\base_conv.py\", line 354, in compute_output_shape\n",
      "    raise ValueError(\n",
      "ValueError: One of the dimensions in the output is <= 0 due to downsampling in extra_conv_1. Consider increasing the input size. Received input shape [None, 7, 6] which would produce output shape with a zero or negative value in a dimension.\n",
      "[W 2023-06-30 16:19:12,822] Trial 71 failed with value None.\n"
     ]
    },
    {
     "name": "stdout",
     "output_type": "stream",
     "text": [
      "Running little bitch having n_conv=2, dropout=0.04523436230436294, hidden_nodes=71\n",
      "Running little bitch having n_conv=2, dropout=0.05014344249166329, hidden_nodes=83\n"
     ]
    },
    {
     "name": "stderr",
     "output_type": "stream",
     "text": [
      "[W 2023-06-30 16:19:13,000] Trial 72 failed with parameters: {'n_conv': 2, 'n_hidden': 3, 'hidden_nodes': 81, 'dropout': 0.05152477273903487, 'filters': 7, 'kernel_size': 11, 'batch_size': 35, 'epochs': 70} because of the following error: ValueError('One of the dimensions in the output is <= 0 due to downsampling in extra_conv_1. Consider increasing the input size. Received input shape [None, 7, 7] which would produce output shape with a zero or negative value in a dimension.').\n",
      "Traceback (most recent call last):\n",
      "  File \"C:\\Users\\emanu\\.virtualenvs\\DM2-HUE9YkAX\\Lib\\site-packages\\optuna\\study\\_optimize.py\", line 200, in _run_trial\n",
      "    value_or_values = func(trial)\n",
      "                      ^^^^^^^^^^^\n",
      "  File \"C:\\Users\\emanu\\AppData\\Local\\Temp\\ipykernel_19432\\1072382922.py\", line 34, in <lambda>\n",
      "    trial_function = lambda trial: objective_fun(trial,\n",
      "                                  ^^^^^^^^^^^^^^^^^^^^^\n",
      "  File \"C:\\Users\\emanu\\AppData\\Local\\Temp\\ipykernel_19432\\1072382922.py\", line 15, in objective_fun\n",
      "    cnn = build_model(  X.shape[1:], len(np.unique(y)),\n",
      "          ^^^^^^^^^^^^^^^^^^^^^^^^^^^^^^^^^^^^^^^^^^^^^\n",
      "  File \"C:\\Users\\emanu\\AppData\\Local\\Temp\\ipykernel_19432\\1937663146.py\", line 27, in build_model\n",
      "    model.add(Conv1D(filters=filters, kernel_size=kernel_size, activation='relu', name=f\"extra_conv_{i}\"))\n",
      "  File \"C:\\Users\\emanu\\.virtualenvs\\DM2-HUE9YkAX\\Lib\\site-packages\\tensorflow\\python\\trackable\\base.py\", line 205, in _method_wrapper\n",
      "    result = method(self, *args, **kwargs)\n",
      "             ^^^^^^^^^^^^^^^^^^^^^^^^^^^^^\n",
      "  File \"C:\\Users\\emanu\\.virtualenvs\\DM2-HUE9YkAX\\Lib\\site-packages\\keras\\utils\\traceback_utils.py\", line 70, in error_handler\n",
      "    raise e.with_traceback(filtered_tb) from None\n",
      "  File \"C:\\Users\\emanu\\.virtualenvs\\DM2-HUE9YkAX\\Lib\\site-packages\\keras\\layers\\convolutional\\base_conv.py\", line 354, in compute_output_shape\n",
      "    raise ValueError(\n",
      "ValueError: One of the dimensions in the output is <= 0 due to downsampling in extra_conv_1. Consider increasing the input size. Received input shape [None, 7, 7] which would produce output shape with a zero or negative value in a dimension.\n",
      "[W 2023-06-30 16:19:13,020] Trial 72 failed with value None.\n"
     ]
    },
    {
     "name": "stdout",
     "output_type": "stream",
     "text": [
      "Running little bitch having n_conv=2, dropout=0.051560358041419126, hidden_nodes=84\n"
     ]
    },
    {
     "name": "stderr",
     "output_type": "stream",
     "text": [
      "[W 2023-06-30 16:19:13,550] Trial 73 failed with parameters: {'n_conv': 2, 'n_hidden': 3, 'hidden_nodes': 71, 'dropout': 0.04523436230436294, 'filters': 7, 'kernel_size': 11, 'batch_size': 34, 'epochs': 70} because of the following error: ValueError('One of the dimensions in the output is <= 0 due to downsampling in extra_conv_1. Consider increasing the input size. Received input shape [None, 7, 7] which would produce output shape with a zero or negative value in a dimension.').\n",
      "Traceback (most recent call last):\n",
      "  File \"C:\\Users\\emanu\\.virtualenvs\\DM2-HUE9YkAX\\Lib\\site-packages\\optuna\\study\\_optimize.py\", line 200, in _run_trial\n",
      "    value_or_values = func(trial)\n",
      "                      ^^^^^^^^^^^\n",
      "  File \"C:\\Users\\emanu\\AppData\\Local\\Temp\\ipykernel_19432\\1072382922.py\", line 34, in <lambda>\n",
      "    trial_function = lambda trial: objective_fun(trial,\n",
      "                                  ^^^^^^^^^^^^^^^^^^^^^\n",
      "  File \"C:\\Users\\emanu\\AppData\\Local\\Temp\\ipykernel_19432\\1072382922.py\", line 15, in objective_fun\n",
      "    cnn = build_model(  X.shape[1:], len(np.unique(y)),\n",
      "          ^^^^^^^^^^^^^^^^^^^^^^^^^^^^^^^^^^^^^^^^^^^^^\n",
      "  File \"C:\\Users\\emanu\\AppData\\Local\\Temp\\ipykernel_19432\\1937663146.py\", line 27, in build_model\n",
      "    model.add(Conv1D(filters=filters, kernel_size=kernel_size, activation='relu', name=f\"extra_conv_{i}\"))\n",
      "  File \"C:\\Users\\emanu\\.virtualenvs\\DM2-HUE9YkAX\\Lib\\site-packages\\tensorflow\\python\\trackable\\base.py\", line 205, in _method_wrapper\n",
      "    result = method(self, *args, **kwargs)\n",
      "             ^^^^^^^^^^^^^^^^^^^^^^^^^^^^^\n",
      "  File \"C:\\Users\\emanu\\.virtualenvs\\DM2-HUE9YkAX\\Lib\\site-packages\\keras\\utils\\traceback_utils.py\", line 70, in error_handler\n",
      "    raise e.with_traceback(filtered_tb) from None\n",
      "  File \"C:\\Users\\emanu\\.virtualenvs\\DM2-HUE9YkAX\\Lib\\site-packages\\keras\\layers\\convolutional\\base_conv.py\", line 354, in compute_output_shape\n",
      "    raise ValueError(\n",
      "ValueError: One of the dimensions in the output is <= 0 due to downsampling in extra_conv_1. Consider increasing the input size. Received input shape [None, 7, 7] which would produce output shape with a zero or negative value in a dimension.\n",
      "[W 2023-06-30 16:19:13,551] Trial 73 failed with value None.\n",
      "[W 2023-06-30 16:19:13,801] Trial 75 failed with parameters: {'n_conv': 2, 'n_hidden': 3, 'hidden_nodes': 84, 'dropout': 0.051560358041419126, 'filters': 7, 'kernel_size': 11, 'batch_size': 33, 'epochs': 70} because of the following error: ValueError('One of the dimensions in the output is <= 0 due to downsampling in extra_conv_1. Consider increasing the input size. Received input shape [None, 7, 7] which would produce output shape with a zero or negative value in a dimension.').\n",
      "Traceback (most recent call last):\n",
      "  File \"C:\\Users\\emanu\\.virtualenvs\\DM2-HUE9YkAX\\Lib\\site-packages\\optuna\\study\\_optimize.py\", line 200, in _run_trial\n",
      "    value_or_values = func(trial)\n",
      "                      ^^^^^^^^^^^\n",
      "  File \"C:\\Users\\emanu\\AppData\\Local\\Temp\\ipykernel_19432\\1072382922.py\", line 34, in <lambda>\n",
      "    trial_function = lambda trial: objective_fun(trial,\n",
      "                                  ^^^^^^^^^^^^^^^^^^^^^\n",
      "  File \"C:\\Users\\emanu\\AppData\\Local\\Temp\\ipykernel_19432\\1072382922.py\", line 15, in objective_fun\n",
      "    cnn = build_model(  X.shape[1:], len(np.unique(y)),\n",
      "          ^^^^^^^^^^^^^^^^^^^^^^^^^^^^^^^^^^^^^^^^^^^^^\n",
      "  File \"C:\\Users\\emanu\\AppData\\Local\\Temp\\ipykernel_19432\\1937663146.py\", line 27, in build_model\n",
      "    model.add(Conv1D(filters=filters, kernel_size=kernel_size, activation='relu', name=f\"extra_conv_{i}\"))\n",
      "  File \"C:\\Users\\emanu\\.virtualenvs\\DM2-HUE9YkAX\\Lib\\site-packages\\tensorflow\\python\\trackable\\base.py\", line 205, in _method_wrapper\n",
      "    result = method(self, *args, **kwargs)\n",
      "             ^^^^^^^^^^^^^^^^^^^^^^^^^^^^^\n",
      "  File \"C:\\Users\\emanu\\.virtualenvs\\DM2-HUE9YkAX\\Lib\\site-packages\\keras\\utils\\traceback_utils.py\", line 70, in error_handler\n",
      "    raise e.with_traceback(filtered_tb) from None\n",
      "  File \"C:\\Users\\emanu\\.virtualenvs\\DM2-HUE9YkAX\\Lib\\site-packages\\keras\\layers\\convolutional\\base_conv.py\", line 354, in compute_output_shape\n",
      "    raise ValueError(\n",
      "ValueError: One of the dimensions in the output is <= 0 due to downsampling in extra_conv_1. Consider increasing the input size. Received input shape [None, 7, 7] which would produce output shape with a zero or negative value in a dimension.\n",
      "[W 2023-06-30 16:19:13,847] Trial 75 failed with value None.\n",
      "[W 2023-06-30 16:19:13,879] Trial 74 failed with parameters: {'n_conv': 2, 'n_hidden': 3, 'hidden_nodes': 83, 'dropout': 0.05014344249166329, 'filters': 7, 'kernel_size': 11, 'batch_size': 33, 'epochs': 70} because of the following error: ValueError('One of the dimensions in the output is <= 0 due to downsampling in extra_conv_1. Consider increasing the input size. Received input shape [None, 7, 7] which would produce output shape with a zero or negative value in a dimension.').\n",
      "Traceback (most recent call last):\n",
      "  File \"C:\\Users\\emanu\\.virtualenvs\\DM2-HUE9YkAX\\Lib\\site-packages\\optuna\\study\\_optimize.py\", line 200, in _run_trial\n",
      "    value_or_values = func(trial)\n",
      "                      ^^^^^^^^^^^\n",
      "  File \"C:\\Users\\emanu\\AppData\\Local\\Temp\\ipykernel_19432\\1072382922.py\", line 34, in <lambda>\n",
      "    trial_function = lambda trial: objective_fun(trial,\n",
      "                                  ^^^^^^^^^^^^^^^^^^^^^\n",
      "  File \"C:\\Users\\emanu\\AppData\\Local\\Temp\\ipykernel_19432\\1072382922.py\", line 15, in objective_fun\n",
      "    cnn = build_model(  X.shape[1:], len(np.unique(y)),\n",
      "          ^^^^^^^^^^^^^^^^^^^^^^^^^^^^^^^^^^^^^^^^^^^^^\n",
      "  File \"C:\\Users\\emanu\\AppData\\Local\\Temp\\ipykernel_19432\\1937663146.py\", line 27, in build_model\n",
      "    model.add(Conv1D(filters=filters, kernel_size=kernel_size, activation='relu', name=f\"extra_conv_{i}\"))\n",
      "  File \"C:\\Users\\emanu\\.virtualenvs\\DM2-HUE9YkAX\\Lib\\site-packages\\tensorflow\\python\\trackable\\base.py\", line 205, in _method_wrapper\n",
      "    result = method(self, *args, **kwargs)\n",
      "             ^^^^^^^^^^^^^^^^^^^^^^^^^^^^^\n",
      "  File \"C:\\Users\\emanu\\.virtualenvs\\DM2-HUE9YkAX\\Lib\\site-packages\\keras\\utils\\traceback_utils.py\", line 70, in error_handler\n",
      "    raise e.with_traceback(filtered_tb) from None\n",
      "  File \"C:\\Users\\emanu\\.virtualenvs\\DM2-HUE9YkAX\\Lib\\site-packages\\keras\\layers\\convolutional\\base_conv.py\", line 354, in compute_output_shape\n",
      "    raise ValueError(\n",
      "ValueError: One of the dimensions in the output is <= 0 due to downsampling in extra_conv_1. Consider increasing the input size. Received input shape [None, 7, 7] which would produce output shape with a zero or negative value in a dimension.\n"
     ]
    },
    {
     "name": "stdout",
     "output_type": "stream",
     "text": [
      "Running little bitch having n_conv=2, dropout=0.050103929747213026, hidden_nodes=76\n"
     ]
    },
    {
     "name": "stderr",
     "output_type": "stream",
     "text": [
      "[W 2023-06-30 16:19:13,909] Trial 74 failed with value None.\n"
     ]
    },
    {
     "name": "stdout",
     "output_type": "stream",
     "text": [
      "Running little bitch having n_conv=2, dropout=0.056597536865498635, hidden_nodes=79\n",
      "Running little bitch having n_conv=2, dropout=0.051132072169420444, hidden_nodes=81\n"
     ]
    },
    {
     "name": "stderr",
     "output_type": "stream",
     "text": [
      "[W 2023-06-30 16:19:14,464] Trial 76 failed with parameters: {'n_conv': 2, 'n_hidden': 3, 'hidden_nodes': 76, 'dropout': 0.050103929747213026, 'filters': 7, 'kernel_size': 11, 'batch_size': 32, 'epochs': 72} because of the following error: ValueError('One of the dimensions in the output is <= 0 due to downsampling in extra_conv_1. Consider increasing the input size. Received input shape [None, 7, 7] which would produce output shape with a zero or negative value in a dimension.').\n",
      "Traceback (most recent call last):\n",
      "  File \"C:\\Users\\emanu\\.virtualenvs\\DM2-HUE9YkAX\\Lib\\site-packages\\optuna\\study\\_optimize.py\", line 200, in _run_trial\n",
      "    value_or_values = func(trial)\n",
      "                      ^^^^^^^^^^^\n",
      "  File \"C:\\Users\\emanu\\AppData\\Local\\Temp\\ipykernel_19432\\1072382922.py\", line 34, in <lambda>\n",
      "    trial_function = lambda trial: objective_fun(trial,\n",
      "                                  ^^^^^^^^^^^^^^^^^^^^^\n",
      "  File \"C:\\Users\\emanu\\AppData\\Local\\Temp\\ipykernel_19432\\1072382922.py\", line 15, in objective_fun\n",
      "    cnn = build_model(  X.shape[1:], len(np.unique(y)),\n",
      "          ^^^^^^^^^^^^^^^^^^^^^^^^^^^^^^^^^^^^^^^^^^^^^\n",
      "  File \"C:\\Users\\emanu\\AppData\\Local\\Temp\\ipykernel_19432\\1937663146.py\", line 27, in build_model\n",
      "    model.add(Conv1D(filters=filters, kernel_size=kernel_size, activation='relu', name=f\"extra_conv_{i}\"))\n",
      "  File \"C:\\Users\\emanu\\.virtualenvs\\DM2-HUE9YkAX\\Lib\\site-packages\\tensorflow\\python\\trackable\\base.py\", line 205, in _method_wrapper\n",
      "    result = method(self, *args, **kwargs)\n",
      "             ^^^^^^^^^^^^^^^^^^^^^^^^^^^^^\n",
      "  File \"C:\\Users\\emanu\\.virtualenvs\\DM2-HUE9YkAX\\Lib\\site-packages\\keras\\utils\\traceback_utils.py\", line 70, in error_handler\n",
      "    raise e.with_traceback(filtered_tb) from None\n",
      "  File \"C:\\Users\\emanu\\.virtualenvs\\DM2-HUE9YkAX\\Lib\\site-packages\\keras\\layers\\convolutional\\base_conv.py\", line 354, in compute_output_shape\n",
      "    raise ValueError(\n",
      "ValueError: One of the dimensions in the output is <= 0 due to downsampling in extra_conv_1. Consider increasing the input size. Received input shape [None, 7, 7] which would produce output shape with a zero or negative value in a dimension.\n",
      "[W 2023-06-30 16:19:14,501] Trial 76 failed with value None.\n",
      "[W 2023-06-30 16:19:14,790] Trial 78 failed with parameters: {'n_conv': 2, 'n_hidden': 3, 'hidden_nodes': 81, 'dropout': 0.051132072169420444, 'filters': 7, 'kernel_size': 11, 'batch_size': 33, 'epochs': 70} because of the following error: ValueError('One of the dimensions in the output is <= 0 due to downsampling in extra_conv_1. Consider increasing the input size. Received input shape [None, 7, 7] which would produce output shape with a zero or negative value in a dimension.').\n",
      "Traceback (most recent call last):\n",
      "  File \"C:\\Users\\emanu\\.virtualenvs\\DM2-HUE9YkAX\\Lib\\site-packages\\optuna\\study\\_optimize.py\", line 200, in _run_trial\n",
      "    value_or_values = func(trial)\n",
      "                      ^^^^^^^^^^^\n",
      "  File \"C:\\Users\\emanu\\AppData\\Local\\Temp\\ipykernel_19432\\1072382922.py\", line 34, in <lambda>\n",
      "    trial_function = lambda trial: objective_fun(trial,\n",
      "                                  ^^^^^^^^^^^^^^^^^^^^^\n",
      "  File \"C:\\Users\\emanu\\AppData\\Local\\Temp\\ipykernel_19432\\1072382922.py\", line 15, in objective_fun\n",
      "    cnn = build_model(  X.shape[1:], len(np.unique(y)),\n",
      "          ^^^^^^^^^^^^^^^^^^^^^^^^^^^^^^^^^^^^^^^^^^^^^\n",
      "  File \"C:\\Users\\emanu\\AppData\\Local\\Temp\\ipykernel_19432\\1937663146.py\", line 27, in build_model\n",
      "    model.add(Conv1D(filters=filters, kernel_size=kernel_size, activation='relu', name=f\"extra_conv_{i}\"))\n",
      "  File \"C:\\Users\\emanu\\.virtualenvs\\DM2-HUE9YkAX\\Lib\\site-packages\\tensorflow\\python\\trackable\\base.py\", line 205, in _method_wrapper\n",
      "    result = method(self, *args, **kwargs)\n",
      "             ^^^^^^^^^^^^^^^^^^^^^^^^^^^^^\n",
      "  File \"C:\\Users\\emanu\\.virtualenvs\\DM2-HUE9YkAX\\Lib\\site-packages\\keras\\utils\\traceback_utils.py\", line 70, in error_handler\n",
      "    raise e.with_traceback(filtered_tb) from None\n",
      "  File \"C:\\Users\\emanu\\.virtualenvs\\DM2-HUE9YkAX\\Lib\\site-packages\\keras\\layers\\convolutional\\base_conv.py\", line 354, in compute_output_shape\n",
      "    raise ValueError(\n",
      "ValueError: One of the dimensions in the output is <= 0 due to downsampling in extra_conv_1. Consider increasing the input size. Received input shape [None, 7, 7] which would produce output shape with a zero or negative value in a dimension.\n",
      "[W 2023-06-30 16:19:14,848] Trial 78 failed with value None.\n"
     ]
    },
    {
     "name": "stdout",
     "output_type": "stream",
     "text": [
      "Running little bitch having n_conv=2, dropout=0.054565542054407654, hidden_nodes=61\n"
     ]
    },
    {
     "name": "stderr",
     "output_type": "stream",
     "text": [
      "[W 2023-06-30 16:19:14,863] Trial 77 failed with parameters: {'n_conv': 2, 'n_hidden': 3, 'hidden_nodes': 79, 'dropout': 0.056597536865498635, 'filters': 7, 'kernel_size': 11, 'batch_size': 33, 'epochs': 64} because of the following error: ValueError('One of the dimensions in the output is <= 0 due to downsampling in extra_conv_1. Consider increasing the input size. Received input shape [None, 7, 7] which would produce output shape with a zero or negative value in a dimension.').\n",
      "Traceback (most recent call last):\n",
      "  File \"C:\\Users\\emanu\\.virtualenvs\\DM2-HUE9YkAX\\Lib\\site-packages\\optuna\\study\\_optimize.py\", line 200, in _run_trial\n",
      "    value_or_values = func(trial)\n",
      "                      ^^^^^^^^^^^\n",
      "  File \"C:\\Users\\emanu\\AppData\\Local\\Temp\\ipykernel_19432\\1072382922.py\", line 34, in <lambda>\n",
      "    trial_function = lambda trial: objective_fun(trial,\n",
      "                                  ^^^^^^^^^^^^^^^^^^^^^\n",
      "  File \"C:\\Users\\emanu\\AppData\\Local\\Temp\\ipykernel_19432\\1072382922.py\", line 15, in objective_fun\n",
      "    cnn = build_model(  X.shape[1:], len(np.unique(y)),\n",
      "          ^^^^^^^^^^^^^^^^^^^^^^^^^^^^^^^^^^^^^^^^^^^^^\n",
      "  File \"C:\\Users\\emanu\\AppData\\Local\\Temp\\ipykernel_19432\\1937663146.py\", line 27, in build_model\n",
      "    model.add(Conv1D(filters=filters, kernel_size=kernel_size, activation='relu', name=f\"extra_conv_{i}\"))\n",
      "  File \"C:\\Users\\emanu\\.virtualenvs\\DM2-HUE9YkAX\\Lib\\site-packages\\tensorflow\\python\\trackable\\base.py\", line 205, in _method_wrapper\n",
      "    result = method(self, *args, **kwargs)\n",
      "             ^^^^^^^^^^^^^^^^^^^^^^^^^^^^^\n",
      "  File \"C:\\Users\\emanu\\.virtualenvs\\DM2-HUE9YkAX\\Lib\\site-packages\\keras\\utils\\traceback_utils.py\", line 70, in error_handler\n",
      "    raise e.with_traceback(filtered_tb) from None\n",
      "  File \"C:\\Users\\emanu\\.virtualenvs\\DM2-HUE9YkAX\\Lib\\site-packages\\keras\\layers\\convolutional\\base_conv.py\", line 354, in compute_output_shape\n",
      "    raise ValueError(\n",
      "ValueError: One of the dimensions in the output is <= 0 due to downsampling in extra_conv_1. Consider increasing the input size. Received input shape [None, 7, 7] which would produce output shape with a zero or negative value in a dimension.\n",
      "[W 2023-06-30 16:19:14,914] Trial 77 failed with value None.\n"
     ]
    },
    {
     "name": "stdout",
     "output_type": "stream",
     "text": [
      "Running little bitch having n_conv=2, dropout=0.04923627389388474, hidden_nodes=75\n",
      "Running little bitch having n_conv=2, dropout=0.047819101263112916, hidden_nodes=90\n"
     ]
    },
    {
     "name": "stderr",
     "output_type": "stream",
     "text": [
      "[W 2023-06-30 16:19:15,414] Trial 79 failed with parameters: {'n_conv': 2, 'n_hidden': 3, 'hidden_nodes': 61, 'dropout': 0.054565542054407654, 'filters': 7, 'kernel_size': 11, 'batch_size': 33, 'epochs': 67} because of the following error: ValueError('One of the dimensions in the output is <= 0 due to downsampling in extra_conv_1. Consider increasing the input size. Received input shape [None, 7, 7] which would produce output shape with a zero or negative value in a dimension.').\n",
      "Traceback (most recent call last):\n",
      "  File \"C:\\Users\\emanu\\.virtualenvs\\DM2-HUE9YkAX\\Lib\\site-packages\\optuna\\study\\_optimize.py\", line 200, in _run_trial\n",
      "    value_or_values = func(trial)\n",
      "                      ^^^^^^^^^^^\n",
      "  File \"C:\\Users\\emanu\\AppData\\Local\\Temp\\ipykernel_19432\\1072382922.py\", line 34, in <lambda>\n",
      "    trial_function = lambda trial: objective_fun(trial,\n",
      "                                  ^^^^^^^^^^^^^^^^^^^^^\n",
      "  File \"C:\\Users\\emanu\\AppData\\Local\\Temp\\ipykernel_19432\\1072382922.py\", line 15, in objective_fun\n",
      "    cnn = build_model(  X.shape[1:], len(np.unique(y)),\n",
      "          ^^^^^^^^^^^^^^^^^^^^^^^^^^^^^^^^^^^^^^^^^^^^^\n",
      "  File \"C:\\Users\\emanu\\AppData\\Local\\Temp\\ipykernel_19432\\1937663146.py\", line 27, in build_model\n",
      "    model.add(Conv1D(filters=filters, kernel_size=kernel_size, activation='relu', name=f\"extra_conv_{i}\"))\n",
      "  File \"C:\\Users\\emanu\\.virtualenvs\\DM2-HUE9YkAX\\Lib\\site-packages\\tensorflow\\python\\trackable\\base.py\", line 205, in _method_wrapper\n",
      "    result = method(self, *args, **kwargs)\n",
      "             ^^^^^^^^^^^^^^^^^^^^^^^^^^^^^\n",
      "  File \"C:\\Users\\emanu\\.virtualenvs\\DM2-HUE9YkAX\\Lib\\site-packages\\keras\\utils\\traceback_utils.py\", line 70, in error_handler\n",
      "    raise e.with_traceback(filtered_tb) from None\n",
      "  File \"C:\\Users\\emanu\\.virtualenvs\\DM2-HUE9YkAX\\Lib\\site-packages\\keras\\layers\\convolutional\\base_conv.py\", line 354, in compute_output_shape\n",
      "    raise ValueError(\n",
      "ValueError: One of the dimensions in the output is <= 0 due to downsampling in extra_conv_1. Consider increasing the input size. Received input shape [None, 7, 7] which would produce output shape with a zero or negative value in a dimension.\n",
      "[W 2023-06-30 16:19:15,450] Trial 79 failed with value None.\n",
      "[W 2023-06-30 16:19:15,769] Trial 80 failed with parameters: {'n_conv': 2, 'n_hidden': 3, 'hidden_nodes': 75, 'dropout': 0.04923627389388474, 'filters': 7, 'kernel_size': 11, 'batch_size': 33, 'epochs': 66} because of the following error: ValueError('One of the dimensions in the output is <= 0 due to downsampling in extra_conv_1. Consider increasing the input size. Received input shape [None, 7, 7] which would produce output shape with a zero or negative value in a dimension.').\n",
      "Traceback (most recent call last):\n",
      "  File \"C:\\Users\\emanu\\.virtualenvs\\DM2-HUE9YkAX\\Lib\\site-packages\\optuna\\study\\_optimize.py\", line 200, in _run_trial\n",
      "    value_or_values = func(trial)\n",
      "                      ^^^^^^^^^^^\n",
      "  File \"C:\\Users\\emanu\\AppData\\Local\\Temp\\ipykernel_19432\\1072382922.py\", line 34, in <lambda>\n",
      "    trial_function = lambda trial: objective_fun(trial,\n",
      "                                  ^^^^^^^^^^^^^^^^^^^^^\n",
      "  File \"C:\\Users\\emanu\\AppData\\Local\\Temp\\ipykernel_19432\\1072382922.py\", line 15, in objective_fun\n",
      "    cnn = build_model(  X.shape[1:], len(np.unique(y)),\n",
      "          ^^^^^^^^^^^^^^^^^^^^^^^^^^^^^^^^^^^^^^^^^^^^^\n",
      "  File \"C:\\Users\\emanu\\AppData\\Local\\Temp\\ipykernel_19432\\1937663146.py\", line 27, in build_model\n",
      "    model.add(Conv1D(filters=filters, kernel_size=kernel_size, activation='relu', name=f\"extra_conv_{i}\"))\n",
      "  File \"C:\\Users\\emanu\\.virtualenvs\\DM2-HUE9YkAX\\Lib\\site-packages\\tensorflow\\python\\trackable\\base.py\", line 205, in _method_wrapper\n",
      "    result = method(self, *args, **kwargs)\n",
      "             ^^^^^^^^^^^^^^^^^^^^^^^^^^^^^\n",
      "  File \"C:\\Users\\emanu\\.virtualenvs\\DM2-HUE9YkAX\\Lib\\site-packages\\keras\\utils\\traceback_utils.py\", line 70, in error_handler\n",
      "    raise e.with_traceback(filtered_tb) from None\n",
      "  File \"C:\\Users\\emanu\\.virtualenvs\\DM2-HUE9YkAX\\Lib\\site-packages\\keras\\layers\\convolutional\\base_conv.py\", line 354, in compute_output_shape\n",
      "    raise ValueError(\n",
      "ValueError: One of the dimensions in the output is <= 0 due to downsampling in extra_conv_1. Consider increasing the input size. Received input shape [None, 7, 7] which would produce output shape with a zero or negative value in a dimension.\n",
      "[W 2023-06-30 16:19:15,819] Trial 80 failed with value None.\n"
     ]
    },
    {
     "name": "stdout",
     "output_type": "stream",
     "text": [
      "Running little bitch having n_conv=2, dropout=0.00037056903018845705, hidden_nodes=71\n"
     ]
    },
    {
     "name": "stderr",
     "output_type": "stream",
     "text": [
      "[W 2023-06-30 16:19:15,863] Trial 81 failed with parameters: {'n_conv': 2, 'n_hidden': 3, 'hidden_nodes': 90, 'dropout': 0.047819101263112916, 'filters': 7, 'kernel_size': 11, 'batch_size': 33, 'epochs': 71} because of the following error: ValueError('One of the dimensions in the output is <= 0 due to downsampling in extra_conv_1. Consider increasing the input size. Received input shape [None, 7, 7] which would produce output shape with a zero or negative value in a dimension.').\n",
      "Traceback (most recent call last):\n",
      "  File \"C:\\Users\\emanu\\.virtualenvs\\DM2-HUE9YkAX\\Lib\\site-packages\\optuna\\study\\_optimize.py\", line 200, in _run_trial\n",
      "    value_or_values = func(trial)\n",
      "                      ^^^^^^^^^^^\n",
      "  File \"C:\\Users\\emanu\\AppData\\Local\\Temp\\ipykernel_19432\\1072382922.py\", line 34, in <lambda>\n",
      "    trial_function = lambda trial: objective_fun(trial,\n",
      "                                  ^^^^^^^^^^^^^^^^^^^^^\n",
      "  File \"C:\\Users\\emanu\\AppData\\Local\\Temp\\ipykernel_19432\\1072382922.py\", line 15, in objective_fun\n",
      "    cnn = build_model(  X.shape[1:], len(np.unique(y)),\n",
      "          ^^^^^^^^^^^^^^^^^^^^^^^^^^^^^^^^^^^^^^^^^^^^^\n",
      "  File \"C:\\Users\\emanu\\AppData\\Local\\Temp\\ipykernel_19432\\1937663146.py\", line 27, in build_model\n",
      "    model.add(Conv1D(filters=filters, kernel_size=kernel_size, activation='relu', name=f\"extra_conv_{i}\"))\n",
      "  File \"C:\\Users\\emanu\\.virtualenvs\\DM2-HUE9YkAX\\Lib\\site-packages\\tensorflow\\python\\trackable\\base.py\", line 205, in _method_wrapper\n",
      "    result = method(self, *args, **kwargs)\n",
      "             ^^^^^^^^^^^^^^^^^^^^^^^^^^^^^\n",
      "  File \"C:\\Users\\emanu\\.virtualenvs\\DM2-HUE9YkAX\\Lib\\site-packages\\keras\\utils\\traceback_utils.py\", line 70, in error_handler\n",
      "    raise e.with_traceback(filtered_tb) from None\n",
      "  File \"C:\\Users\\emanu\\.virtualenvs\\DM2-HUE9YkAX\\Lib\\site-packages\\keras\\layers\\convolutional\\base_conv.py\", line 354, in compute_output_shape\n",
      "    raise ValueError(\n",
      "ValueError: One of the dimensions in the output is <= 0 due to downsampling in extra_conv_1. Consider increasing the input size. Received input shape [None, 7, 7] which would produce output shape with a zero or negative value in a dimension.\n",
      "[W 2023-06-30 16:19:15,920] Trial 81 failed with value None.\n"
     ]
    },
    {
     "name": "stdout",
     "output_type": "stream",
     "text": [
      "Running little bitch having n_conv=2, dropout=0.0008169256520842785, hidden_nodes=78\n",
      "Running little bitch having n_conv=2, dropout=0.046634272712106156, hidden_nodes=89\n"
     ]
    },
    {
     "name": "stderr",
     "output_type": "stream",
     "text": [
      "[W 2023-06-30 16:19:16,415] Trial 82 failed with parameters: {'n_conv': 2, 'n_hidden': 3, 'hidden_nodes': 71, 'dropout': 0.00037056903018845705, 'filters': 7, 'kernel_size': 11, 'batch_size': 33, 'epochs': 73} because of the following error: ValueError('One of the dimensions in the output is <= 0 due to downsampling in extra_conv_1. Consider increasing the input size. Received input shape [None, 7, 7] which would produce output shape with a zero or negative value in a dimension.').\n",
      "Traceback (most recent call last):\n",
      "  File \"C:\\Users\\emanu\\.virtualenvs\\DM2-HUE9YkAX\\Lib\\site-packages\\optuna\\study\\_optimize.py\", line 200, in _run_trial\n",
      "    value_or_values = func(trial)\n",
      "                      ^^^^^^^^^^^\n",
      "  File \"C:\\Users\\emanu\\AppData\\Local\\Temp\\ipykernel_19432\\1072382922.py\", line 34, in <lambda>\n",
      "    trial_function = lambda trial: objective_fun(trial,\n",
      "                                  ^^^^^^^^^^^^^^^^^^^^^\n",
      "  File \"C:\\Users\\emanu\\AppData\\Local\\Temp\\ipykernel_19432\\1072382922.py\", line 15, in objective_fun\n",
      "    cnn = build_model(  X.shape[1:], len(np.unique(y)),\n",
      "          ^^^^^^^^^^^^^^^^^^^^^^^^^^^^^^^^^^^^^^^^^^^^^\n",
      "  File \"C:\\Users\\emanu\\AppData\\Local\\Temp\\ipykernel_19432\\1937663146.py\", line 27, in build_model\n",
      "    model.add(Conv1D(filters=filters, kernel_size=kernel_size, activation='relu', name=f\"extra_conv_{i}\"))\n",
      "  File \"C:\\Users\\emanu\\.virtualenvs\\DM2-HUE9YkAX\\Lib\\site-packages\\tensorflow\\python\\trackable\\base.py\", line 205, in _method_wrapper\n",
      "    result = method(self, *args, **kwargs)\n",
      "             ^^^^^^^^^^^^^^^^^^^^^^^^^^^^^\n",
      "  File \"C:\\Users\\emanu\\.virtualenvs\\DM2-HUE9YkAX\\Lib\\site-packages\\keras\\utils\\traceback_utils.py\", line 70, in error_handler\n",
      "    raise e.with_traceback(filtered_tb) from None\n",
      "  File \"C:\\Users\\emanu\\.virtualenvs\\DM2-HUE9YkAX\\Lib\\site-packages\\keras\\layers\\convolutional\\base_conv.py\", line 354, in compute_output_shape\n",
      "    raise ValueError(\n",
      "ValueError: One of the dimensions in the output is <= 0 due to downsampling in extra_conv_1. Consider increasing the input size. Received input shape [None, 7, 7] which would produce output shape with a zero or negative value in a dimension.\n",
      "[W 2023-06-30 16:19:16,458] Trial 82 failed with value None.\n",
      "[W 2023-06-30 16:19:16,791] Trial 83 failed with parameters: {'n_conv': 2, 'n_hidden': 3, 'hidden_nodes': 78, 'dropout': 0.0008169256520842785, 'filters': 7, 'kernel_size': 11, 'batch_size': 33, 'epochs': 69} because of the following error: ValueError('One of the dimensions in the output is <= 0 due to downsampling in extra_conv_1. Consider increasing the input size. Received input shape [None, 7, 7] which would produce output shape with a zero or negative value in a dimension.').\n",
      "Traceback (most recent call last):\n",
      "  File \"C:\\Users\\emanu\\.virtualenvs\\DM2-HUE9YkAX\\Lib\\site-packages\\optuna\\study\\_optimize.py\", line 200, in _run_trial\n",
      "    value_or_values = func(trial)\n",
      "                      ^^^^^^^^^^^\n",
      "  File \"C:\\Users\\emanu\\AppData\\Local\\Temp\\ipykernel_19432\\1072382922.py\", line 34, in <lambda>\n",
      "    trial_function = lambda trial: objective_fun(trial,\n",
      "                                  ^^^^^^^^^^^^^^^^^^^^^\n",
      "  File \"C:\\Users\\emanu\\AppData\\Local\\Temp\\ipykernel_19432\\1072382922.py\", line 15, in objective_fun\n",
      "    cnn = build_model(  X.shape[1:], len(np.unique(y)),\n",
      "          ^^^^^^^^^^^^^^^^^^^^^^^^^^^^^^^^^^^^^^^^^^^^^\n",
      "  File \"C:\\Users\\emanu\\AppData\\Local\\Temp\\ipykernel_19432\\1937663146.py\", line 27, in build_model\n",
      "    model.add(Conv1D(filters=filters, kernel_size=kernel_size, activation='relu', name=f\"extra_conv_{i}\"))\n",
      "  File \"C:\\Users\\emanu\\.virtualenvs\\DM2-HUE9YkAX\\Lib\\site-packages\\tensorflow\\python\\trackable\\base.py\", line 205, in _method_wrapper\n",
      "    result = method(self, *args, **kwargs)\n",
      "             ^^^^^^^^^^^^^^^^^^^^^^^^^^^^^\n",
      "  File \"C:\\Users\\emanu\\.virtualenvs\\DM2-HUE9YkAX\\Lib\\site-packages\\keras\\utils\\traceback_utils.py\", line 70, in error_handler\n",
      "    raise e.with_traceback(filtered_tb) from None\n",
      "  File \"C:\\Users\\emanu\\.virtualenvs\\DM2-HUE9YkAX\\Lib\\site-packages\\keras\\layers\\convolutional\\base_conv.py\", line 354, in compute_output_shape\n",
      "    raise ValueError(\n",
      "ValueError: One of the dimensions in the output is <= 0 due to downsampling in extra_conv_1. Consider increasing the input size. Received input shape [None, 7, 7] which would produce output shape with a zero or negative value in a dimension.\n",
      "[W 2023-06-30 16:19:16,812] Trial 83 failed with value None.\n"
     ]
    },
    {
     "name": "stdout",
     "output_type": "stream",
     "text": [
      "Running little bitch having n_conv=2, dropout=0.04715562683188836, hidden_nodes=65\n"
     ]
    },
    {
     "name": "stderr",
     "output_type": "stream",
     "text": [
      "[W 2023-06-30 16:19:16,960] Trial 84 failed with parameters: {'n_conv': 2, 'n_hidden': 3, 'hidden_nodes': 89, 'dropout': 0.046634272712106156, 'filters': 7, 'kernel_size': 11, 'batch_size': 34, 'epochs': 67} because of the following error: ValueError('One of the dimensions in the output is <= 0 due to downsampling in extra_conv_1. Consider increasing the input size. Received input shape [None, 7, 7] which would produce output shape with a zero or negative value in a dimension.').\n",
      "Traceback (most recent call last):\n",
      "  File \"C:\\Users\\emanu\\.virtualenvs\\DM2-HUE9YkAX\\Lib\\site-packages\\optuna\\study\\_optimize.py\", line 200, in _run_trial\n",
      "    value_or_values = func(trial)\n",
      "                      ^^^^^^^^^^^\n",
      "  File \"C:\\Users\\emanu\\AppData\\Local\\Temp\\ipykernel_19432\\1072382922.py\", line 34, in <lambda>\n",
      "    trial_function = lambda trial: objective_fun(trial,\n",
      "                                  ^^^^^^^^^^^^^^^^^^^^^\n",
      "  File \"C:\\Users\\emanu\\AppData\\Local\\Temp\\ipykernel_19432\\1072382922.py\", line 15, in objective_fun\n",
      "    cnn = build_model(  X.shape[1:], len(np.unique(y)),\n",
      "          ^^^^^^^^^^^^^^^^^^^^^^^^^^^^^^^^^^^^^^^^^^^^^\n",
      "  File \"C:\\Users\\emanu\\AppData\\Local\\Temp\\ipykernel_19432\\1937663146.py\", line 27, in build_model\n",
      "    model.add(Conv1D(filters=filters, kernel_size=kernel_size, activation='relu', name=f\"extra_conv_{i}\"))\n",
      "  File \"C:\\Users\\emanu\\.virtualenvs\\DM2-HUE9YkAX\\Lib\\site-packages\\tensorflow\\python\\trackable\\base.py\", line 205, in _method_wrapper\n",
      "    result = method(self, *args, **kwargs)\n",
      "             ^^^^^^^^^^^^^^^^^^^^^^^^^^^^^\n",
      "  File \"C:\\Users\\emanu\\.virtualenvs\\DM2-HUE9YkAX\\Lib\\site-packages\\keras\\utils\\traceback_utils.py\", line 70, in error_handler\n",
      "    raise e.with_traceback(filtered_tb) from None\n",
      "  File \"C:\\Users\\emanu\\.virtualenvs\\DM2-HUE9YkAX\\Lib\\site-packages\\keras\\layers\\convolutional\\base_conv.py\", line 354, in compute_output_shape\n",
      "    raise ValueError(\n",
      "ValueError: One of the dimensions in the output is <= 0 due to downsampling in extra_conv_1. Consider increasing the input size. Received input shape [None, 7, 7] which would produce output shape with a zero or negative value in a dimension.\n",
      "[W 2023-06-30 16:19:16,998] Trial 84 failed with value None.\n"
     ]
    },
    {
     "name": "stdout",
     "output_type": "stream",
     "text": [
      "Running little bitch having n_conv=2, dropout=0.057189788861061214, hidden_nodes=77\n",
      "Running little bitch having n_conv=2, dropout=0.05104678528105254, hidden_nodes=72\n"
     ]
    },
    {
     "name": "stderr",
     "output_type": "stream",
     "text": [
      "[W 2023-06-30 16:19:17,462] Trial 85 failed with parameters: {'n_conv': 2, 'n_hidden': 3, 'hidden_nodes': 65, 'dropout': 0.04715562683188836, 'filters': 7, 'kernel_size': 11, 'batch_size': 33, 'epochs': 69} because of the following error: ValueError('One of the dimensions in the output is <= 0 due to downsampling in extra_conv_1. Consider increasing the input size. Received input shape [None, 7, 7] which would produce output shape with a zero or negative value in a dimension.').\n",
      "Traceback (most recent call last):\n",
      "  File \"C:\\Users\\emanu\\.virtualenvs\\DM2-HUE9YkAX\\Lib\\site-packages\\optuna\\study\\_optimize.py\", line 200, in _run_trial\n",
      "    value_or_values = func(trial)\n",
      "                      ^^^^^^^^^^^\n",
      "  File \"C:\\Users\\emanu\\AppData\\Local\\Temp\\ipykernel_19432\\1072382922.py\", line 34, in <lambda>\n",
      "    trial_function = lambda trial: objective_fun(trial,\n",
      "                                  ^^^^^^^^^^^^^^^^^^^^^\n",
      "  File \"C:\\Users\\emanu\\AppData\\Local\\Temp\\ipykernel_19432\\1072382922.py\", line 15, in objective_fun\n",
      "    cnn = build_model(  X.shape[1:], len(np.unique(y)),\n",
      "          ^^^^^^^^^^^^^^^^^^^^^^^^^^^^^^^^^^^^^^^^^^^^^\n",
      "  File \"C:\\Users\\emanu\\AppData\\Local\\Temp\\ipykernel_19432\\1937663146.py\", line 27, in build_model\n",
      "    model.add(Conv1D(filters=filters, kernel_size=kernel_size, activation='relu', name=f\"extra_conv_{i}\"))\n",
      "  File \"C:\\Users\\emanu\\.virtualenvs\\DM2-HUE9YkAX\\Lib\\site-packages\\tensorflow\\python\\trackable\\base.py\", line 205, in _method_wrapper\n",
      "    result = method(self, *args, **kwargs)\n",
      "             ^^^^^^^^^^^^^^^^^^^^^^^^^^^^^\n",
      "  File \"C:\\Users\\emanu\\.virtualenvs\\DM2-HUE9YkAX\\Lib\\site-packages\\keras\\utils\\traceback_utils.py\", line 70, in error_handler\n",
      "    raise e.with_traceback(filtered_tb) from None\n",
      "  File \"C:\\Users\\emanu\\.virtualenvs\\DM2-HUE9YkAX\\Lib\\site-packages\\keras\\layers\\convolutional\\base_conv.py\", line 354, in compute_output_shape\n",
      "    raise ValueError(\n",
      "ValueError: One of the dimensions in the output is <= 0 due to downsampling in extra_conv_1. Consider increasing the input size. Received input shape [None, 7, 7] which would produce output shape with a zero or negative value in a dimension.\n",
      "[W 2023-06-30 16:19:17,498] Trial 85 failed with value None.\n",
      "[W 2023-06-30 16:19:17,772] Trial 86 failed with parameters: {'n_conv': 2, 'n_hidden': 3, 'hidden_nodes': 77, 'dropout': 0.057189788861061214, 'filters': 7, 'kernel_size': 11, 'batch_size': 31, 'epochs': 69} because of the following error: ValueError('One of the dimensions in the output is <= 0 due to downsampling in extra_conv_1. Consider increasing the input size. Received input shape [None, 7, 7] which would produce output shape with a zero or negative value in a dimension.').\n",
      "Traceback (most recent call last):\n",
      "  File \"C:\\Users\\emanu\\.virtualenvs\\DM2-HUE9YkAX\\Lib\\site-packages\\optuna\\study\\_optimize.py\", line 200, in _run_trial\n",
      "    value_or_values = func(trial)\n",
      "                      ^^^^^^^^^^^\n",
      "  File \"C:\\Users\\emanu\\AppData\\Local\\Temp\\ipykernel_19432\\1072382922.py\", line 34, in <lambda>\n",
      "    trial_function = lambda trial: objective_fun(trial,\n",
      "                                  ^^^^^^^^^^^^^^^^^^^^^\n",
      "  File \"C:\\Users\\emanu\\AppData\\Local\\Temp\\ipykernel_19432\\1072382922.py\", line 15, in objective_fun\n",
      "    cnn = build_model(  X.shape[1:], len(np.unique(y)),\n",
      "          ^^^^^^^^^^^^^^^^^^^^^^^^^^^^^^^^^^^^^^^^^^^^^\n",
      "  File \"C:\\Users\\emanu\\AppData\\Local\\Temp\\ipykernel_19432\\1937663146.py\", line 27, in build_model\n",
      "    model.add(Conv1D(filters=filters, kernel_size=kernel_size, activation='relu', name=f\"extra_conv_{i}\"))\n",
      "  File \"C:\\Users\\emanu\\.virtualenvs\\DM2-HUE9YkAX\\Lib\\site-packages\\tensorflow\\python\\trackable\\base.py\", line 205, in _method_wrapper\n",
      "    result = method(self, *args, **kwargs)\n",
      "             ^^^^^^^^^^^^^^^^^^^^^^^^^^^^^\n",
      "  File \"C:\\Users\\emanu\\.virtualenvs\\DM2-HUE9YkAX\\Lib\\site-packages\\keras\\utils\\traceback_utils.py\", line 70, in error_handler\n",
      "    raise e.with_traceback(filtered_tb) from None\n",
      "  File \"C:\\Users\\emanu\\.virtualenvs\\DM2-HUE9YkAX\\Lib\\site-packages\\keras\\layers\\convolutional\\base_conv.py\", line 354, in compute_output_shape\n",
      "    raise ValueError(\n",
      "ValueError: One of the dimensions in the output is <= 0 due to downsampling in extra_conv_1. Consider increasing the input size. Received input shape [None, 7, 7] which would produce output shape with a zero or negative value in a dimension.\n",
      "[W 2023-06-30 16:19:17,796] Trial 86 failed with value None.\n"
     ]
    },
    {
     "name": "stdout",
     "output_type": "stream",
     "text": [
      "Running little bitch having n_conv=2, dropout=0.05490582126265653, hidden_nodes=82\n"
     ]
    },
    {
     "name": "stderr",
     "output_type": "stream",
     "text": [
      "[W 2023-06-30 16:19:17,975] Trial 87 failed with parameters: {'n_conv': 2, 'n_hidden': 3, 'hidden_nodes': 72, 'dropout': 0.05104678528105254, 'filters': 7, 'kernel_size': 11, 'batch_size': 33, 'epochs': 68} because of the following error: ValueError('One of the dimensions in the output is <= 0 due to downsampling in extra_conv_1. Consider increasing the input size. Received input shape [None, 7, 7] which would produce output shape with a zero or negative value in a dimension.').\n",
      "Traceback (most recent call last):\n",
      "  File \"C:\\Users\\emanu\\.virtualenvs\\DM2-HUE9YkAX\\Lib\\site-packages\\optuna\\study\\_optimize.py\", line 200, in _run_trial\n",
      "    value_or_values = func(trial)\n",
      "                      ^^^^^^^^^^^\n",
      "  File \"C:\\Users\\emanu\\AppData\\Local\\Temp\\ipykernel_19432\\1072382922.py\", line 34, in <lambda>\n",
      "    trial_function = lambda trial: objective_fun(trial,\n",
      "                                  ^^^^^^^^^^^^^^^^^^^^^\n",
      "  File \"C:\\Users\\emanu\\AppData\\Local\\Temp\\ipykernel_19432\\1072382922.py\", line 15, in objective_fun\n",
      "    cnn = build_model(  X.shape[1:], len(np.unique(y)),\n",
      "          ^^^^^^^^^^^^^^^^^^^^^^^^^^^^^^^^^^^^^^^^^^^^^\n",
      "  File \"C:\\Users\\emanu\\AppData\\Local\\Temp\\ipykernel_19432\\1937663146.py\", line 27, in build_model\n",
      "    model.add(Conv1D(filters=filters, kernel_size=kernel_size, activation='relu', name=f\"extra_conv_{i}\"))\n",
      "  File \"C:\\Users\\emanu\\.virtualenvs\\DM2-HUE9YkAX\\Lib\\site-packages\\tensorflow\\python\\trackable\\base.py\", line 205, in _method_wrapper\n",
      "    result = method(self, *args, **kwargs)\n",
      "             ^^^^^^^^^^^^^^^^^^^^^^^^^^^^^\n",
      "  File \"C:\\Users\\emanu\\.virtualenvs\\DM2-HUE9YkAX\\Lib\\site-packages\\keras\\utils\\traceback_utils.py\", line 70, in error_handler\n",
      "    raise e.with_traceback(filtered_tb) from None\n",
      "  File \"C:\\Users\\emanu\\.virtualenvs\\DM2-HUE9YkAX\\Lib\\site-packages\\keras\\layers\\convolutional\\base_conv.py\", line 354, in compute_output_shape\n",
      "    raise ValueError(\n",
      "ValueError: One of the dimensions in the output is <= 0 due to downsampling in extra_conv_1. Consider increasing the input size. Received input shape [None, 7, 7] which would produce output shape with a zero or negative value in a dimension.\n",
      "[W 2023-06-30 16:19:17,996] Trial 87 failed with value None.\n"
     ]
    },
    {
     "name": "stdout",
     "output_type": "stream",
     "text": [
      "Running little bitch having n_conv=2, dropout=0.0006745594634528437, hidden_nodes=88\n",
      "Running little bitch having n_conv=2, dropout=0.05503876222711569, hidden_nodes=79\n"
     ]
    },
    {
     "name": "stderr",
     "output_type": "stream",
     "text": [
      "[W 2023-06-30 16:19:18,341] Trial 88 failed with parameters: {'n_conv': 2, 'n_hidden': 3, 'hidden_nodes': 82, 'dropout': 0.05490582126265653, 'filters': 7, 'kernel_size': 11, 'batch_size': 33, 'epochs': 70} because of the following error: ValueError('One of the dimensions in the output is <= 0 due to downsampling in extra_conv_1. Consider increasing the input size. Received input shape [None, 7, 7] which would produce output shape with a zero or negative value in a dimension.').\n",
      "Traceback (most recent call last):\n",
      "  File \"C:\\Users\\emanu\\.virtualenvs\\DM2-HUE9YkAX\\Lib\\site-packages\\optuna\\study\\_optimize.py\", line 200, in _run_trial\n",
      "    value_or_values = func(trial)\n",
      "                      ^^^^^^^^^^^\n",
      "  File \"C:\\Users\\emanu\\AppData\\Local\\Temp\\ipykernel_19432\\1072382922.py\", line 34, in <lambda>\n",
      "    trial_function = lambda trial: objective_fun(trial,\n",
      "                                  ^^^^^^^^^^^^^^^^^^^^^\n",
      "  File \"C:\\Users\\emanu\\AppData\\Local\\Temp\\ipykernel_19432\\1072382922.py\", line 15, in objective_fun\n",
      "    cnn = build_model(  X.shape[1:], len(np.unique(y)),\n",
      "          ^^^^^^^^^^^^^^^^^^^^^^^^^^^^^^^^^^^^^^^^^^^^^\n",
      "  File \"C:\\Users\\emanu\\AppData\\Local\\Temp\\ipykernel_19432\\1937663146.py\", line 27, in build_model\n",
      "    model.add(Conv1D(filters=filters, kernel_size=kernel_size, activation='relu', name=f\"extra_conv_{i}\"))\n",
      "  File \"C:\\Users\\emanu\\.virtualenvs\\DM2-HUE9YkAX\\Lib\\site-packages\\tensorflow\\python\\trackable\\base.py\", line 205, in _method_wrapper\n",
      "    result = method(self, *args, **kwargs)\n",
      "             ^^^^^^^^^^^^^^^^^^^^^^^^^^^^^\n",
      "  File \"C:\\Users\\emanu\\.virtualenvs\\DM2-HUE9YkAX\\Lib\\site-packages\\keras\\utils\\traceback_utils.py\", line 70, in error_handler\n",
      "    raise e.with_traceback(filtered_tb) from None\n",
      "  File \"C:\\Users\\emanu\\.virtualenvs\\DM2-HUE9YkAX\\Lib\\site-packages\\keras\\layers\\convolutional\\base_conv.py\", line 354, in compute_output_shape\n",
      "    raise ValueError(\n",
      "ValueError: One of the dimensions in the output is <= 0 due to downsampling in extra_conv_1. Consider increasing the input size. Received input shape [None, 7, 7] which would produce output shape with a zero or negative value in a dimension.\n",
      "[W 2023-06-30 16:19:18,351] Trial 88 failed with value None.\n",
      "[W 2023-06-30 16:19:18,721] Trial 89 failed with parameters: {'n_conv': 2, 'n_hidden': 3, 'hidden_nodes': 88, 'dropout': 0.0006745594634528437, 'filters': 6, 'kernel_size': 12, 'batch_size': 34, 'epochs': 69} because of the following error: ValueError('One of the dimensions in the output is <= 0 due to downsampling in extra_conv_1. Consider increasing the input size. Received input shape [None, 5, 6] which would produce output shape with a zero or negative value in a dimension.').\n",
      "Traceback (most recent call last):\n",
      "  File \"C:\\Users\\emanu\\.virtualenvs\\DM2-HUE9YkAX\\Lib\\site-packages\\optuna\\study\\_optimize.py\", line 200, in _run_trial\n",
      "    value_or_values = func(trial)\n",
      "                      ^^^^^^^^^^^\n",
      "  File \"C:\\Users\\emanu\\AppData\\Local\\Temp\\ipykernel_19432\\1072382922.py\", line 34, in <lambda>\n",
      "    trial_function = lambda trial: objective_fun(trial,\n",
      "                                  ^^^^^^^^^^^^^^^^^^^^^\n",
      "  File \"C:\\Users\\emanu\\AppData\\Local\\Temp\\ipykernel_19432\\1072382922.py\", line 15, in objective_fun\n",
      "    cnn = build_model(  X.shape[1:], len(np.unique(y)),\n",
      "          ^^^^^^^^^^^^^^^^^^^^^^^^^^^^^^^^^^^^^^^^^^^^^\n",
      "  File \"C:\\Users\\emanu\\AppData\\Local\\Temp\\ipykernel_19432\\1937663146.py\", line 27, in build_model\n",
      "    model.add(Conv1D(filters=filters, kernel_size=kernel_size, activation='relu', name=f\"extra_conv_{i}\"))\n",
      "  File \"C:\\Users\\emanu\\.virtualenvs\\DM2-HUE9YkAX\\Lib\\site-packages\\tensorflow\\python\\trackable\\base.py\", line 205, in _method_wrapper\n",
      "    result = method(self, *args, **kwargs)\n",
      "             ^^^^^^^^^^^^^^^^^^^^^^^^^^^^^\n",
      "  File \"C:\\Users\\emanu\\.virtualenvs\\DM2-HUE9YkAX\\Lib\\site-packages\\keras\\utils\\traceback_utils.py\", line 70, in error_handler\n",
      "    raise e.with_traceback(filtered_tb) from None\n",
      "  File \"C:\\Users\\emanu\\.virtualenvs\\DM2-HUE9YkAX\\Lib\\site-packages\\keras\\layers\\convolutional\\base_conv.py\", line 354, in compute_output_shape\n",
      "    raise ValueError(\n",
      "ValueError: One of the dimensions in the output is <= 0 due to downsampling in extra_conv_1. Consider increasing the input size. Received input shape [None, 5, 6] which would produce output shape with a zero or negative value in a dimension.\n",
      "[W 2023-06-30 16:19:18,750] Trial 89 failed with value None.\n"
     ]
    },
    {
     "name": "stdout",
     "output_type": "stream",
     "text": [
      "Running little bitch having n_conv=2, dropout=0.04986680758495653, hidden_nodes=75\n"
     ]
    },
    {
     "name": "stderr",
     "output_type": "stream",
     "text": [
      "[W 2023-06-30 16:19:18,951] Trial 90 failed with parameters: {'n_conv': 2, 'n_hidden': 3, 'hidden_nodes': 79, 'dropout': 0.05503876222711569, 'filters': 7, 'kernel_size': 12, 'batch_size': 32, 'epochs': 70} because of the following error: ValueError('One of the dimensions in the output is <= 0 due to downsampling in extra_conv_1. Consider increasing the input size. Received input shape [None, 5, 7] which would produce output shape with a zero or negative value in a dimension.').\n",
      "Traceback (most recent call last):\n",
      "  File \"C:\\Users\\emanu\\.virtualenvs\\DM2-HUE9YkAX\\Lib\\site-packages\\optuna\\study\\_optimize.py\", line 200, in _run_trial\n",
      "    value_or_values = func(trial)\n",
      "                      ^^^^^^^^^^^\n",
      "  File \"C:\\Users\\emanu\\AppData\\Local\\Temp\\ipykernel_19432\\1072382922.py\", line 34, in <lambda>\n",
      "    trial_function = lambda trial: objective_fun(trial,\n",
      "                                  ^^^^^^^^^^^^^^^^^^^^^\n",
      "  File \"C:\\Users\\emanu\\AppData\\Local\\Temp\\ipykernel_19432\\1072382922.py\", line 15, in objective_fun\n",
      "    cnn = build_model(  X.shape[1:], len(np.unique(y)),\n",
      "          ^^^^^^^^^^^^^^^^^^^^^^^^^^^^^^^^^^^^^^^^^^^^^\n",
      "  File \"C:\\Users\\emanu\\AppData\\Local\\Temp\\ipykernel_19432\\1937663146.py\", line 27, in build_model\n",
      "    model.add(Conv1D(filters=filters, kernel_size=kernel_size, activation='relu', name=f\"extra_conv_{i}\"))\n",
      "  File \"C:\\Users\\emanu\\.virtualenvs\\DM2-HUE9YkAX\\Lib\\site-packages\\tensorflow\\python\\trackable\\base.py\", line 205, in _method_wrapper\n",
      "    result = method(self, *args, **kwargs)\n",
      "             ^^^^^^^^^^^^^^^^^^^^^^^^^^^^^\n",
      "  File \"C:\\Users\\emanu\\.virtualenvs\\DM2-HUE9YkAX\\Lib\\site-packages\\keras\\utils\\traceback_utils.py\", line 70, in error_handler\n",
      "    raise e.with_traceback(filtered_tb) from None\n",
      "  File \"C:\\Users\\emanu\\.virtualenvs\\DM2-HUE9YkAX\\Lib\\site-packages\\keras\\layers\\convolutional\\base_conv.py\", line 354, in compute_output_shape\n",
      "    raise ValueError(\n",
      "ValueError: One of the dimensions in the output is <= 0 due to downsampling in extra_conv_1. Consider increasing the input size. Received input shape [None, 5, 7] which would produce output shape with a zero or negative value in a dimension.\n",
      "[W 2023-06-30 16:19:18,984] Trial 90 failed with value None.\n"
     ]
    },
    {
     "name": "stdout",
     "output_type": "stream",
     "text": [
      "Running little bitch having n_conv=2, dropout=0.0011182957306613839, hidden_nodes=65\n",
      "Running little bitch having n_conv=2, dropout=0.052024324538890485, hidden_nodes=80\n"
     ]
    },
    {
     "name": "stderr",
     "output_type": "stream",
     "text": [
      "[W 2023-06-30 16:19:19,581] Trial 91 failed with parameters: {'n_conv': 2, 'n_hidden': 3, 'hidden_nodes': 75, 'dropout': 0.04986680758495653, 'filters': 7, 'kernel_size': 11, 'batch_size': 33, 'epochs': 69} because of the following error: ValueError('One of the dimensions in the output is <= 0 due to downsampling in extra_conv_1. Consider increasing the input size. Received input shape [None, 7, 7] which would produce output shape with a zero or negative value in a dimension.').\n",
      "Traceback (most recent call last):\n",
      "  File \"C:\\Users\\emanu\\.virtualenvs\\DM2-HUE9YkAX\\Lib\\site-packages\\optuna\\study\\_optimize.py\", line 200, in _run_trial\n",
      "    value_or_values = func(trial)\n",
      "                      ^^^^^^^^^^^\n",
      "  File \"C:\\Users\\emanu\\AppData\\Local\\Temp\\ipykernel_19432\\1072382922.py\", line 34, in <lambda>\n",
      "    trial_function = lambda trial: objective_fun(trial,\n",
      "                                  ^^^^^^^^^^^^^^^^^^^^^\n",
      "  File \"C:\\Users\\emanu\\AppData\\Local\\Temp\\ipykernel_19432\\1072382922.py\", line 15, in objective_fun\n",
      "    cnn = build_model(  X.shape[1:], len(np.unique(y)),\n",
      "          ^^^^^^^^^^^^^^^^^^^^^^^^^^^^^^^^^^^^^^^^^^^^^\n",
      "  File \"C:\\Users\\emanu\\AppData\\Local\\Temp\\ipykernel_19432\\1937663146.py\", line 27, in build_model\n",
      "    model.add(Conv1D(filters=filters, kernel_size=kernel_size, activation='relu', name=f\"extra_conv_{i}\"))\n",
      "  File \"C:\\Users\\emanu\\.virtualenvs\\DM2-HUE9YkAX\\Lib\\site-packages\\tensorflow\\python\\trackable\\base.py\", line 205, in _method_wrapper\n",
      "    result = method(self, *args, **kwargs)\n",
      "             ^^^^^^^^^^^^^^^^^^^^^^^^^^^^^\n",
      "  File \"C:\\Users\\emanu\\.virtualenvs\\DM2-HUE9YkAX\\Lib\\site-packages\\keras\\utils\\traceback_utils.py\", line 70, in error_handler\n",
      "    raise e.with_traceback(filtered_tb) from None\n",
      "  File \"C:\\Users\\emanu\\.virtualenvs\\DM2-HUE9YkAX\\Lib\\site-packages\\keras\\layers\\convolutional\\base_conv.py\", line 354, in compute_output_shape\n",
      "    raise ValueError(\n",
      "ValueError: One of the dimensions in the output is <= 0 due to downsampling in extra_conv_1. Consider increasing the input size. Received input shape [None, 7, 7] which would produce output shape with a zero or negative value in a dimension.\n",
      "[W 2023-06-30 16:19:19,609] Trial 91 failed with value None.\n",
      "[W 2023-06-30 16:19:19,830] Trial 92 failed with parameters: {'n_conv': 2, 'n_hidden': 3, 'hidden_nodes': 65, 'dropout': 0.0011182957306613839, 'filters': 7, 'kernel_size': 11, 'batch_size': 32, 'epochs': 66} because of the following error: ValueError('One of the dimensions in the output is <= 0 due to downsampling in extra_conv_1. Consider increasing the input size. Received input shape [None, 7, 7] which would produce output shape with a zero or negative value in a dimension.').\n",
      "Traceback (most recent call last):\n",
      "  File \"C:\\Users\\emanu\\.virtualenvs\\DM2-HUE9YkAX\\Lib\\site-packages\\optuna\\study\\_optimize.py\", line 200, in _run_trial\n",
      "    value_or_values = func(trial)\n",
      "                      ^^^^^^^^^^^\n",
      "  File \"C:\\Users\\emanu\\AppData\\Local\\Temp\\ipykernel_19432\\1072382922.py\", line 34, in <lambda>\n",
      "    trial_function = lambda trial: objective_fun(trial,\n",
      "                                  ^^^^^^^^^^^^^^^^^^^^^\n",
      "  File \"C:\\Users\\emanu\\AppData\\Local\\Temp\\ipykernel_19432\\1072382922.py\", line 15, in objective_fun\n",
      "    cnn = build_model(  X.shape[1:], len(np.unique(y)),\n",
      "          ^^^^^^^^^^^^^^^^^^^^^^^^^^^^^^^^^^^^^^^^^^^^^\n",
      "  File \"C:\\Users\\emanu\\AppData\\Local\\Temp\\ipykernel_19432\\1937663146.py\", line 27, in build_model\n",
      "    model.add(Conv1D(filters=filters, kernel_size=kernel_size, activation='relu', name=f\"extra_conv_{i}\"))\n",
      "  File \"C:\\Users\\emanu\\.virtualenvs\\DM2-HUE9YkAX\\Lib\\site-packages\\tensorflow\\python\\trackable\\base.py\", line 205, in _method_wrapper\n",
      "    result = method(self, *args, **kwargs)\n",
      "             ^^^^^^^^^^^^^^^^^^^^^^^^^^^^^\n",
      "  File \"C:\\Users\\emanu\\.virtualenvs\\DM2-HUE9YkAX\\Lib\\site-packages\\keras\\utils\\traceback_utils.py\", line 70, in error_handler\n",
      "    raise e.with_traceback(filtered_tb) from None\n",
      "  File \"C:\\Users\\emanu\\.virtualenvs\\DM2-HUE9YkAX\\Lib\\site-packages\\keras\\layers\\convolutional\\base_conv.py\", line 354, in compute_output_shape\n",
      "    raise ValueError(\n",
      "ValueError: One of the dimensions in the output is <= 0 due to downsampling in extra_conv_1. Consider increasing the input size. Received input shape [None, 7, 7] which would produce output shape with a zero or negative value in a dimension.\n",
      "[W 2023-06-30 16:19:19,885] Trial 92 failed with value None.\n",
      "[W 2023-06-30 16:19:19,901] Trial 93 failed with parameters: {'n_conv': 2, 'n_hidden': 3, 'hidden_nodes': 80, 'dropout': 0.052024324538890485, 'filters': 7, 'kernel_size': 11, 'batch_size': 33, 'epochs': 68} because of the following error: ValueError('One of the dimensions in the output is <= 0 due to downsampling in extra_conv_1. Consider increasing the input size. Received input shape [None, 7, 7] which would produce output shape with a zero or negative value in a dimension.').\n",
      "Traceback (most recent call last):\n",
      "  File \"C:\\Users\\emanu\\.virtualenvs\\DM2-HUE9YkAX\\Lib\\site-packages\\optuna\\study\\_optimize.py\", line 200, in _run_trial\n",
      "    value_or_values = func(trial)\n",
      "                      ^^^^^^^^^^^\n",
      "  File \"C:\\Users\\emanu\\AppData\\Local\\Temp\\ipykernel_19432\\1072382922.py\", line 34, in <lambda>\n",
      "    trial_function = lambda trial: objective_fun(trial,\n",
      "                                  ^^^^^^^^^^^^^^^^^^^^^\n",
      "  File \"C:\\Users\\emanu\\AppData\\Local\\Temp\\ipykernel_19432\\1072382922.py\", line 15, in objective_fun\n",
      "    cnn = build_model(  X.shape[1:], len(np.unique(y)),\n",
      "          ^^^^^^^^^^^^^^^^^^^^^^^^^^^^^^^^^^^^^^^^^^^^^\n",
      "  File \"C:\\Users\\emanu\\AppData\\Local\\Temp\\ipykernel_19432\\1937663146.py\", line 27, in build_model\n",
      "    model.add(Conv1D(filters=filters, kernel_size=kernel_size, activation='relu', name=f\"extra_conv_{i}\"))\n",
      "  File \"C:\\Users\\emanu\\.virtualenvs\\DM2-HUE9YkAX\\Lib\\site-packages\\tensorflow\\python\\trackable\\base.py\", line 205, in _method_wrapper\n",
      "    result = method(self, *args, **kwargs)\n",
      "             ^^^^^^^^^^^^^^^^^^^^^^^^^^^^^\n",
      "  File \"C:\\Users\\emanu\\.virtualenvs\\DM2-HUE9YkAX\\Lib\\site-packages\\keras\\utils\\traceback_utils.py\", line 70, in error_handler\n",
      "    raise e.with_traceback(filtered_tb) from None\n",
      "  File \"C:\\Users\\emanu\\.virtualenvs\\DM2-HUE9YkAX\\Lib\\site-packages\\keras\\layers\\convolutional\\base_conv.py\", line 354, in compute_output_shape\n",
      "    raise ValueError(\n",
      "ValueError: One of the dimensions in the output is <= 0 due to downsampling in extra_conv_1. Consider increasing the input size. Received input shape [None, 7, 7] which would produce output shape with a zero or negative value in a dimension.\n",
      "[W 2023-06-30 16:19:19,984] Trial 93 failed with value None.\n"
     ]
    },
    {
     "name": "stdout",
     "output_type": "stream",
     "text": [
      "Running little bitch having n_conv=2, dropout=0.050152187524513975, hidden_nodes=82\n",
      "Running little bitch having n_conv=2, dropout=0.04853641326542915, hidden_nodes=75\n",
      "Running little bitch having n_conv=2, dropout=0.00018946547368781097, hidden_nodes=79\n"
     ]
    },
    {
     "name": "stderr",
     "output_type": "stream",
     "text": [
      "[W 2023-06-30 16:19:20,661] Trial 94 failed with parameters: {'n_conv': 2, 'n_hidden': 3, 'hidden_nodes': 82, 'dropout': 0.050152187524513975, 'filters': 7, 'kernel_size': 11, 'batch_size': 33, 'epochs': 69} because of the following error: ValueError('One of the dimensions in the output is <= 0 due to downsampling in extra_conv_1. Consider increasing the input size. Received input shape [None, 7, 7] which would produce output shape with a zero or negative value in a dimension.').\n",
      "Traceback (most recent call last):\n",
      "  File \"C:\\Users\\emanu\\.virtualenvs\\DM2-HUE9YkAX\\Lib\\site-packages\\optuna\\study\\_optimize.py\", line 200, in _run_trial\n",
      "    value_or_values = func(trial)\n",
      "                      ^^^^^^^^^^^\n",
      "  File \"C:\\Users\\emanu\\AppData\\Local\\Temp\\ipykernel_19432\\1072382922.py\", line 34, in <lambda>\n",
      "    trial_function = lambda trial: objective_fun(trial,\n",
      "                                  ^^^^^^^^^^^^^^^^^^^^^\n",
      "  File \"C:\\Users\\emanu\\AppData\\Local\\Temp\\ipykernel_19432\\1072382922.py\", line 15, in objective_fun\n",
      "    cnn = build_model(  X.shape[1:], len(np.unique(y)),\n",
      "          ^^^^^^^^^^^^^^^^^^^^^^^^^^^^^^^^^^^^^^^^^^^^^\n",
      "  File \"C:\\Users\\emanu\\AppData\\Local\\Temp\\ipykernel_19432\\1937663146.py\", line 27, in build_model\n",
      "    model.add(Conv1D(filters=filters, kernel_size=kernel_size, activation='relu', name=f\"extra_conv_{i}\"))\n",
      "  File \"C:\\Users\\emanu\\.virtualenvs\\DM2-HUE9YkAX\\Lib\\site-packages\\tensorflow\\python\\trackable\\base.py\", line 205, in _method_wrapper\n",
      "    result = method(self, *args, **kwargs)\n",
      "             ^^^^^^^^^^^^^^^^^^^^^^^^^^^^^\n",
      "  File \"C:\\Users\\emanu\\.virtualenvs\\DM2-HUE9YkAX\\Lib\\site-packages\\keras\\utils\\traceback_utils.py\", line 70, in error_handler\n",
      "    raise e.with_traceback(filtered_tb) from None\n",
      "  File \"C:\\Users\\emanu\\.virtualenvs\\DM2-HUE9YkAX\\Lib\\site-packages\\keras\\layers\\convolutional\\base_conv.py\", line 354, in compute_output_shape\n",
      "    raise ValueError(\n",
      "ValueError: One of the dimensions in the output is <= 0 due to downsampling in extra_conv_1. Consider increasing the input size. Received input shape [None, 7, 7] which would produce output shape with a zero or negative value in a dimension.\n",
      "[W 2023-06-30 16:19:20,691] Trial 94 failed with value None.\n",
      "[W 2023-06-30 16:19:20,869] Trial 95 failed with parameters: {'n_conv': 2, 'n_hidden': 3, 'hidden_nodes': 75, 'dropout': 0.04853641326542915, 'filters': 7, 'kernel_size': 11, 'batch_size': 33, 'epochs': 69} because of the following error: ValueError('One of the dimensions in the output is <= 0 due to downsampling in extra_conv_1. Consider increasing the input size. Received input shape [None, 7, 7] which would produce output shape with a zero or negative value in a dimension.').\n",
      "Traceback (most recent call last):\n",
      "  File \"C:\\Users\\emanu\\.virtualenvs\\DM2-HUE9YkAX\\Lib\\site-packages\\optuna\\study\\_optimize.py\", line 200, in _run_trial\n",
      "    value_or_values = func(trial)\n",
      "                      ^^^^^^^^^^^\n",
      "  File \"C:\\Users\\emanu\\AppData\\Local\\Temp\\ipykernel_19432\\1072382922.py\", line 34, in <lambda>\n",
      "    trial_function = lambda trial: objective_fun(trial,\n",
      "                                  ^^^^^^^^^^^^^^^^^^^^^\n",
      "  File \"C:\\Users\\emanu\\AppData\\Local\\Temp\\ipykernel_19432\\1072382922.py\", line 15, in objective_fun\n",
      "    cnn = build_model(  X.shape[1:], len(np.unique(y)),\n",
      "          ^^^^^^^^^^^^^^^^^^^^^^^^^^^^^^^^^^^^^^^^^^^^^\n",
      "  File \"C:\\Users\\emanu\\AppData\\Local\\Temp\\ipykernel_19432\\1937663146.py\", line 27, in build_model\n",
      "    model.add(Conv1D(filters=filters, kernel_size=kernel_size, activation='relu', name=f\"extra_conv_{i}\"))\n",
      "  File \"C:\\Users\\emanu\\.virtualenvs\\DM2-HUE9YkAX\\Lib\\site-packages\\tensorflow\\python\\trackable\\base.py\", line 205, in _method_wrapper\n",
      "    result = method(self, *args, **kwargs)\n",
      "             ^^^^^^^^^^^^^^^^^^^^^^^^^^^^^\n",
      "  File \"C:\\Users\\emanu\\.virtualenvs\\DM2-HUE9YkAX\\Lib\\site-packages\\keras\\utils\\traceback_utils.py\", line 70, in error_handler\n",
      "    raise e.with_traceback(filtered_tb) from None\n",
      "  File \"C:\\Users\\emanu\\.virtualenvs\\DM2-HUE9YkAX\\Lib\\site-packages\\keras\\layers\\convolutional\\base_conv.py\", line 354, in compute_output_shape\n",
      "    raise ValueError(\n",
      "ValueError: One of the dimensions in the output is <= 0 due to downsampling in extra_conv_1. Consider increasing the input size. Received input shape [None, 7, 7] which would produce output shape with a zero or negative value in a dimension.\n",
      "[W 2023-06-30 16:19:20,871] Trial 96 failed with parameters: {'n_conv': 2, 'n_hidden': 3, 'hidden_nodes': 79, 'dropout': 0.00018946547368781097, 'filters': 7, 'kernel_size': 11, 'batch_size': 33, 'epochs': 69} because of the following error: ValueError('One of the dimensions in the output is <= 0 due to downsampling in extra_conv_1. Consider increasing the input size. Received input shape [None, 7, 7] which would produce output shape with a zero or negative value in a dimension.').\n",
      "Traceback (most recent call last):\n",
      "  File \"C:\\Users\\emanu\\.virtualenvs\\DM2-HUE9YkAX\\Lib\\site-packages\\optuna\\study\\_optimize.py\", line 200, in _run_trial\n",
      "    value_or_values = func(trial)\n",
      "                      ^^^^^^^^^^^\n",
      "  File \"C:\\Users\\emanu\\AppData\\Local\\Temp\\ipykernel_19432\\1072382922.py\", line 34, in <lambda>\n",
      "    trial_function = lambda trial: objective_fun(trial,\n",
      "                                  ^^^^^^^^^^^^^^^^^^^^^\n",
      "  File \"C:\\Users\\emanu\\AppData\\Local\\Temp\\ipykernel_19432\\1072382922.py\", line 15, in objective_fun\n",
      "    cnn = build_model(  X.shape[1:], len(np.unique(y)),\n",
      "          ^^^^^^^^^^^^^^^^^^^^^^^^^^^^^^^^^^^^^^^^^^^^^\n",
      "  File \"C:\\Users\\emanu\\AppData\\Local\\Temp\\ipykernel_19432\\1937663146.py\", line 27, in build_model\n",
      "    model.add(Conv1D(filters=filters, kernel_size=kernel_size, activation='relu', name=f\"extra_conv_{i}\"))\n",
      "  File \"C:\\Users\\emanu\\.virtualenvs\\DM2-HUE9YkAX\\Lib\\site-packages\\tensorflow\\python\\trackable\\base.py\", line 205, in _method_wrapper\n",
      "    result = method(self, *args, **kwargs)\n",
      "             ^^^^^^^^^^^^^^^^^^^^^^^^^^^^^\n",
      "  File \"C:\\Users\\emanu\\.virtualenvs\\DM2-HUE9YkAX\\Lib\\site-packages\\keras\\utils\\traceback_utils.py\", line 70, in error_handler\n",
      "    raise e.with_traceback(filtered_tb) from None\n",
      "  File \"C:\\Users\\emanu\\.virtualenvs\\DM2-HUE9YkAX\\Lib\\site-packages\\keras\\layers\\convolutional\\base_conv.py\", line 354, in compute_output_shape\n",
      "    raise ValueError(\n",
      "ValueError: One of the dimensions in the output is <= 0 due to downsampling in extra_conv_1. Consider increasing the input size. Received input shape [None, 7, 7] which would produce output shape with a zero or negative value in a dimension.\n",
      "[W 2023-06-30 16:19:20,942] Trial 96 failed with value None.\n",
      "[W 2023-06-30 16:19:20,914] Trial 95 failed with value None.\n"
     ]
    },
    {
     "name": "stdout",
     "output_type": "stream",
     "text": [
      "Running little bitch having n_conv=2, dropout=0.00016410691710184305, hidden_nodes=67\n",
      "Running little bitch having n_conv=2, dropout=0.05120061317322238, hidden_nodes=74\n",
      "Running little bitch having n_conv=2, dropout=0.0423071910396319, hidden_nodes=90\n"
     ]
    },
    {
     "name": "stderr",
     "output_type": "stream",
     "text": [
      "[W 2023-06-30 16:19:21,614] Trial 97 failed with parameters: {'n_conv': 2, 'n_hidden': 3, 'hidden_nodes': 67, 'dropout': 0.00016410691710184305, 'filters': 7, 'kernel_size': 11, 'batch_size': 33, 'epochs': 67} because of the following error: ValueError('One of the dimensions in the output is <= 0 due to downsampling in extra_conv_1. Consider increasing the input size. Received input shape [None, 7, 7] which would produce output shape with a zero or negative value in a dimension.').\n",
      "Traceback (most recent call last):\n",
      "  File \"C:\\Users\\emanu\\.virtualenvs\\DM2-HUE9YkAX\\Lib\\site-packages\\optuna\\study\\_optimize.py\", line 200, in _run_trial\n",
      "    value_or_values = func(trial)\n",
      "                      ^^^^^^^^^^^\n",
      "  File \"C:\\Users\\emanu\\AppData\\Local\\Temp\\ipykernel_19432\\1072382922.py\", line 34, in <lambda>\n",
      "    trial_function = lambda trial: objective_fun(trial,\n",
      "                                  ^^^^^^^^^^^^^^^^^^^^^\n",
      "  File \"C:\\Users\\emanu\\AppData\\Local\\Temp\\ipykernel_19432\\1072382922.py\", line 15, in objective_fun\n",
      "    cnn = build_model(  X.shape[1:], len(np.unique(y)),\n",
      "          ^^^^^^^^^^^^^^^^^^^^^^^^^^^^^^^^^^^^^^^^^^^^^\n",
      "  File \"C:\\Users\\emanu\\AppData\\Local\\Temp\\ipykernel_19432\\1937663146.py\", line 27, in build_model\n",
      "    model.add(Conv1D(filters=filters, kernel_size=kernel_size, activation='relu', name=f\"extra_conv_{i}\"))\n",
      "  File \"C:\\Users\\emanu\\.virtualenvs\\DM2-HUE9YkAX\\Lib\\site-packages\\tensorflow\\python\\trackable\\base.py\", line 205, in _method_wrapper\n",
      "    result = method(self, *args, **kwargs)\n",
      "             ^^^^^^^^^^^^^^^^^^^^^^^^^^^^^\n",
      "  File \"C:\\Users\\emanu\\.virtualenvs\\DM2-HUE9YkAX\\Lib\\site-packages\\keras\\utils\\traceback_utils.py\", line 70, in error_handler\n",
      "    raise e.with_traceback(filtered_tb) from None\n",
      "  File \"C:\\Users\\emanu\\.virtualenvs\\DM2-HUE9YkAX\\Lib\\site-packages\\keras\\layers\\convolutional\\base_conv.py\", line 354, in compute_output_shape\n",
      "    raise ValueError(\n",
      "ValueError: One of the dimensions in the output is <= 0 due to downsampling in extra_conv_1. Consider increasing the input size. Received input shape [None, 7, 7] which would produce output shape with a zero or negative value in a dimension.\n",
      "[W 2023-06-30 16:19:21,649] Trial 97 failed with value None.\n",
      "[W 2023-06-30 16:19:21,871] Trial 99 failed with parameters: {'n_conv': 2, 'n_hidden': 3, 'hidden_nodes': 74, 'dropout': 0.05120061317322238, 'filters': 7, 'kernel_size': 11, 'batch_size': 33, 'epochs': 65} because of the following error: ValueError('One of the dimensions in the output is <= 0 due to downsampling in extra_conv_1. Consider increasing the input size. Received input shape [None, 7, 7] which would produce output shape with a zero or negative value in a dimension.').\n",
      "Traceback (most recent call last):\n",
      "  File \"C:\\Users\\emanu\\.virtualenvs\\DM2-HUE9YkAX\\Lib\\site-packages\\optuna\\study\\_optimize.py\", line 200, in _run_trial\n",
      "    value_or_values = func(trial)\n",
      "                      ^^^^^^^^^^^\n",
      "  File \"C:\\Users\\emanu\\AppData\\Local\\Temp\\ipykernel_19432\\1072382922.py\", line 34, in <lambda>\n",
      "    trial_function = lambda trial: objective_fun(trial,\n",
      "                                  ^^^^^^^^^^^^^^^^^^^^^\n",
      "  File \"C:\\Users\\emanu\\AppData\\Local\\Temp\\ipykernel_19432\\1072382922.py\", line 15, in objective_fun\n",
      "    cnn = build_model(  X.shape[1:], len(np.unique(y)),\n",
      "          ^^^^^^^^^^^^^^^^^^^^^^^^^^^^^^^^^^^^^^^^^^^^^\n",
      "  File \"C:\\Users\\emanu\\AppData\\Local\\Temp\\ipykernel_19432\\1937663146.py\", line 27, in build_model\n",
      "    model.add(Conv1D(filters=filters, kernel_size=kernel_size, activation='relu', name=f\"extra_conv_{i}\"))\n",
      "  File \"C:\\Users\\emanu\\.virtualenvs\\DM2-HUE9YkAX\\Lib\\site-packages\\tensorflow\\python\\trackable\\base.py\", line 205, in _method_wrapper\n",
      "    result = method(self, *args, **kwargs)\n",
      "             ^^^^^^^^^^^^^^^^^^^^^^^^^^^^^\n",
      "  File \"C:\\Users\\emanu\\.virtualenvs\\DM2-HUE9YkAX\\Lib\\site-packages\\keras\\utils\\traceback_utils.py\", line 70, in error_handler\n",
      "    raise e.with_traceback(filtered_tb) from None\n",
      "  File \"C:\\Users\\emanu\\.virtualenvs\\DM2-HUE9YkAX\\Lib\\site-packages\\keras\\layers\\convolutional\\base_conv.py\", line 354, in compute_output_shape\n",
      "    raise ValueError(\n",
      "ValueError: One of the dimensions in the output is <= 0 due to downsampling in extra_conv_1. Consider increasing the input size. Received input shape [None, 7, 7] which would produce output shape with a zero or negative value in a dimension.\n",
      "[W 2023-06-30 16:19:21,891] Trial 99 failed with value None.\n",
      "[W 2023-06-30 16:19:21,899] Trial 98 failed with parameters: {'n_conv': 2, 'n_hidden': 3, 'hidden_nodes': 90, 'dropout': 0.0423071910396319, 'filters': 7, 'kernel_size': 11, 'batch_size': 34, 'epochs': 70} because of the following error: ValueError('One of the dimensions in the output is <= 0 due to downsampling in extra_conv_1. Consider increasing the input size. Received input shape [None, 7, 7] which would produce output shape with a zero or negative value in a dimension.').\n",
      "Traceback (most recent call last):\n",
      "  File \"C:\\Users\\emanu\\.virtualenvs\\DM2-HUE9YkAX\\Lib\\site-packages\\optuna\\study\\_optimize.py\", line 200, in _run_trial\n",
      "    value_or_values = func(trial)\n",
      "                      ^^^^^^^^^^^\n",
      "  File \"C:\\Users\\emanu\\AppData\\Local\\Temp\\ipykernel_19432\\1072382922.py\", line 34, in <lambda>\n",
      "    trial_function = lambda trial: objective_fun(trial,\n",
      "                                  ^^^^^^^^^^^^^^^^^^^^^\n",
      "  File \"C:\\Users\\emanu\\AppData\\Local\\Temp\\ipykernel_19432\\1072382922.py\", line 15, in objective_fun\n",
      "    cnn = build_model(  X.shape[1:], len(np.unique(y)),\n",
      "          ^^^^^^^^^^^^^^^^^^^^^^^^^^^^^^^^^^^^^^^^^^^^^\n",
      "  File \"C:\\Users\\emanu\\AppData\\Local\\Temp\\ipykernel_19432\\1937663146.py\", line 27, in build_model\n",
      "    model.add(Conv1D(filters=filters, kernel_size=kernel_size, activation='relu', name=f\"extra_conv_{i}\"))\n",
      "  File \"C:\\Users\\emanu\\.virtualenvs\\DM2-HUE9YkAX\\Lib\\site-packages\\tensorflow\\python\\trackable\\base.py\", line 205, in _method_wrapper\n",
      "    result = method(self, *args, **kwargs)\n",
      "             ^^^^^^^^^^^^^^^^^^^^^^^^^^^^^\n",
      "  File \"C:\\Users\\emanu\\.virtualenvs\\DM2-HUE9YkAX\\Lib\\site-packages\\keras\\utils\\traceback_utils.py\", line 70, in error_handler\n",
      "    raise e.with_traceback(filtered_tb) from None\n",
      "  File \"C:\\Users\\emanu\\.virtualenvs\\DM2-HUE9YkAX\\Lib\\site-packages\\keras\\layers\\convolutional\\base_conv.py\", line 354, in compute_output_shape\n",
      "    raise ValueError(\n",
      "ValueError: One of the dimensions in the output is <= 0 due to downsampling in extra_conv_1. Consider increasing the input size. Received input shape [None, 7, 7] which would produce output shape with a zero or negative value in a dimension.\n",
      "[W 2023-06-30 16:19:21,940] Trial 98 failed with value None.\n"
     ]
    },
    {
     "name": "stdout",
     "output_type": "stream",
     "text": [
      "Running little bitch having n_conv=2, dropout=0.048023542034479505, hidden_nodes=94\n",
      "Running little bitch having n_conv=2, dropout=0.05040249782023976, hidden_nodes=78\n",
      "Running little bitch having n_conv=2, dropout=0.05159231965097355, hidden_nodes=57\n"
     ]
    },
    {
     "name": "stderr",
     "output_type": "stream",
     "text": [
      "[W 2023-06-30 16:19:22,431] Trial 100 failed with parameters: {'n_conv': 2, 'n_hidden': 3, 'hidden_nodes': 94, 'dropout': 0.048023542034479505, 'filters': 7, 'kernel_size': 11, 'batch_size': 34, 'epochs': 68} because of the following error: ValueError('One of the dimensions in the output is <= 0 due to downsampling in extra_conv_1. Consider increasing the input size. Received input shape [None, 7, 7] which would produce output shape with a zero or negative value in a dimension.').\n",
      "Traceback (most recent call last):\n",
      "  File \"C:\\Users\\emanu\\.virtualenvs\\DM2-HUE9YkAX\\Lib\\site-packages\\optuna\\study\\_optimize.py\", line 200, in _run_trial\n",
      "    value_or_values = func(trial)\n",
      "                      ^^^^^^^^^^^\n",
      "  File \"C:\\Users\\emanu\\AppData\\Local\\Temp\\ipykernel_19432\\1072382922.py\", line 34, in <lambda>\n",
      "    trial_function = lambda trial: objective_fun(trial,\n",
      "                                  ^^^^^^^^^^^^^^^^^^^^^\n",
      "  File \"C:\\Users\\emanu\\AppData\\Local\\Temp\\ipykernel_19432\\1072382922.py\", line 15, in objective_fun\n",
      "    cnn = build_model(  X.shape[1:], len(np.unique(y)),\n",
      "          ^^^^^^^^^^^^^^^^^^^^^^^^^^^^^^^^^^^^^^^^^^^^^\n",
      "  File \"C:\\Users\\emanu\\AppData\\Local\\Temp\\ipykernel_19432\\1937663146.py\", line 27, in build_model\n",
      "    model.add(Conv1D(filters=filters, kernel_size=kernel_size, activation='relu', name=f\"extra_conv_{i}\"))\n",
      "  File \"C:\\Users\\emanu\\.virtualenvs\\DM2-HUE9YkAX\\Lib\\site-packages\\tensorflow\\python\\trackable\\base.py\", line 205, in _method_wrapper\n",
      "    result = method(self, *args, **kwargs)\n",
      "             ^^^^^^^^^^^^^^^^^^^^^^^^^^^^^\n",
      "  File \"C:\\Users\\emanu\\.virtualenvs\\DM2-HUE9YkAX\\Lib\\site-packages\\keras\\utils\\traceback_utils.py\", line 70, in error_handler\n",
      "    raise e.with_traceback(filtered_tb) from None\n",
      "  File \"C:\\Users\\emanu\\.virtualenvs\\DM2-HUE9YkAX\\Lib\\site-packages\\keras\\layers\\convolutional\\base_conv.py\", line 354, in compute_output_shape\n",
      "    raise ValueError(\n",
      "ValueError: One of the dimensions in the output is <= 0 due to downsampling in extra_conv_1. Consider increasing the input size. Received input shape [None, 7, 7] which would produce output shape with a zero or negative value in a dimension.\n",
      "[W 2023-06-30 16:19:22,449] Trial 100 failed with value None.\n",
      "[W 2023-06-30 16:19:22,683] Trial 101 failed with parameters: {'n_conv': 2, 'n_hidden': 3, 'hidden_nodes': 78, 'dropout': 0.05040249782023976, 'filters': 7, 'kernel_size': 12, 'batch_size': 33, 'epochs': 65} because of the following error: ValueError('One of the dimensions in the output is <= 0 due to downsampling in extra_conv_1. Consider increasing the input size. Received input shape [None, 5, 7] which would produce output shape with a zero or negative value in a dimension.').\n",
      "Traceback (most recent call last):\n",
      "  File \"C:\\Users\\emanu\\.virtualenvs\\DM2-HUE9YkAX\\Lib\\site-packages\\optuna\\study\\_optimize.py\", line 200, in _run_trial\n",
      "    value_or_values = func(trial)\n",
      "                      ^^^^^^^^^^^\n",
      "  File \"C:\\Users\\emanu\\AppData\\Local\\Temp\\ipykernel_19432\\1072382922.py\", line 34, in <lambda>\n",
      "    trial_function = lambda trial: objective_fun(trial,\n",
      "                                  ^^^^^^^^^^^^^^^^^^^^^\n",
      "  File \"C:\\Users\\emanu\\AppData\\Local\\Temp\\ipykernel_19432\\1072382922.py\", line 15, in objective_fun\n",
      "    cnn = build_model(  X.shape[1:], len(np.unique(y)),\n",
      "          ^^^^^^^^^^^^^^^^^^^^^^^^^^^^^^^^^^^^^^^^^^^^^\n",
      "  File \"C:\\Users\\emanu\\AppData\\Local\\Temp\\ipykernel_19432\\1937663146.py\", line 27, in build_model\n",
      "    model.add(Conv1D(filters=filters, kernel_size=kernel_size, activation='relu', name=f\"extra_conv_{i}\"))\n",
      "  File \"C:\\Users\\emanu\\.virtualenvs\\DM2-HUE9YkAX\\Lib\\site-packages\\tensorflow\\python\\trackable\\base.py\", line 205, in _method_wrapper\n",
      "    result = method(self, *args, **kwargs)\n",
      "             ^^^^^^^^^^^^^^^^^^^^^^^^^^^^^\n",
      "  File \"C:\\Users\\emanu\\.virtualenvs\\DM2-HUE9YkAX\\Lib\\site-packages\\keras\\utils\\traceback_utils.py\", line 70, in error_handler\n",
      "    raise e.with_traceback(filtered_tb) from None\n",
      "  File \"C:\\Users\\emanu\\.virtualenvs\\DM2-HUE9YkAX\\Lib\\site-packages\\keras\\layers\\convolutional\\base_conv.py\", line 354, in compute_output_shape\n",
      "    raise ValueError(\n",
      "ValueError: One of the dimensions in the output is <= 0 due to downsampling in extra_conv_1. Consider increasing the input size. Received input shape [None, 5, 7] which would produce output shape with a zero or negative value in a dimension.\n",
      "[W 2023-06-30 16:19:22,711] Trial 101 failed with value None.\n"
     ]
    },
    {
     "name": "stdout",
     "output_type": "stream",
     "text": [
      "Running little bitch having n_conv=2, dropout=0.05124801990149711, hidden_nodes=72\n"
     ]
    },
    {
     "name": "stderr",
     "output_type": "stream",
     "text": [
      "[W 2023-06-30 16:19:22,796] Trial 102 failed with parameters: {'n_conv': 2, 'n_hidden': 3, 'hidden_nodes': 57, 'dropout': 0.05159231965097355, 'filters': 7, 'kernel_size': 11, 'batch_size': 33, 'epochs': 68} because of the following error: ValueError('One of the dimensions in the output is <= 0 due to downsampling in extra_conv_1. Consider increasing the input size. Received input shape [None, 7, 7] which would produce output shape with a zero or negative value in a dimension.').\n",
      "Traceback (most recent call last):\n",
      "  File \"C:\\Users\\emanu\\.virtualenvs\\DM2-HUE9YkAX\\Lib\\site-packages\\optuna\\study\\_optimize.py\", line 200, in _run_trial\n",
      "    value_or_values = func(trial)\n",
      "                      ^^^^^^^^^^^\n",
      "  File \"C:\\Users\\emanu\\AppData\\Local\\Temp\\ipykernel_19432\\1072382922.py\", line 34, in <lambda>\n",
      "    trial_function = lambda trial: objective_fun(trial,\n",
      "                                  ^^^^^^^^^^^^^^^^^^^^^\n",
      "  File \"C:\\Users\\emanu\\AppData\\Local\\Temp\\ipykernel_19432\\1072382922.py\", line 15, in objective_fun\n",
      "    cnn = build_model(  X.shape[1:], len(np.unique(y)),\n",
      "          ^^^^^^^^^^^^^^^^^^^^^^^^^^^^^^^^^^^^^^^^^^^^^\n",
      "  File \"C:\\Users\\emanu\\AppData\\Local\\Temp\\ipykernel_19432\\1937663146.py\", line 27, in build_model\n",
      "    model.add(Conv1D(filters=filters, kernel_size=kernel_size, activation='relu', name=f\"extra_conv_{i}\"))\n",
      "  File \"C:\\Users\\emanu\\.virtualenvs\\DM2-HUE9YkAX\\Lib\\site-packages\\tensorflow\\python\\trackable\\base.py\", line 205, in _method_wrapper\n",
      "    result = method(self, *args, **kwargs)\n",
      "             ^^^^^^^^^^^^^^^^^^^^^^^^^^^^^\n",
      "  File \"C:\\Users\\emanu\\.virtualenvs\\DM2-HUE9YkAX\\Lib\\site-packages\\keras\\utils\\traceback_utils.py\", line 70, in error_handler\n",
      "    raise e.with_traceback(filtered_tb) from None\n",
      "  File \"C:\\Users\\emanu\\.virtualenvs\\DM2-HUE9YkAX\\Lib\\site-packages\\keras\\layers\\convolutional\\base_conv.py\", line 354, in compute_output_shape\n",
      "    raise ValueError(\n",
      "ValueError: One of the dimensions in the output is <= 0 due to downsampling in extra_conv_1. Consider increasing the input size. Received input shape [None, 7, 7] which would produce output shape with a zero or negative value in a dimension.\n",
      "[W 2023-06-30 16:19:22,840] Trial 102 failed with value None.\n"
     ]
    },
    {
     "name": "stdout",
     "output_type": "stream",
     "text": [
      "Running little bitch having n_conv=2, dropout=3.011221316147686e-05, hidden_nodes=88\n",
      "Running little bitch having n_conv=2, dropout=0.05239761344792036, hidden_nodes=75\n"
     ]
    },
    {
     "name": "stderr",
     "output_type": "stream",
     "text": [
      "[W 2023-06-30 16:19:23,182] Trial 103 failed with parameters: {'n_conv': 2, 'n_hidden': 3, 'hidden_nodes': 72, 'dropout': 0.05124801990149711, 'filters': 7, 'kernel_size': 12, 'batch_size': 32, 'epochs': 69} because of the following error: ValueError('One of the dimensions in the output is <= 0 due to downsampling in extra_conv_1. Consider increasing the input size. Received input shape [None, 5, 7] which would produce output shape with a zero or negative value in a dimension.').\n",
      "Traceback (most recent call last):\n",
      "  File \"C:\\Users\\emanu\\.virtualenvs\\DM2-HUE9YkAX\\Lib\\site-packages\\optuna\\study\\_optimize.py\", line 200, in _run_trial\n",
      "    value_or_values = func(trial)\n",
      "                      ^^^^^^^^^^^\n",
      "  File \"C:\\Users\\emanu\\AppData\\Local\\Temp\\ipykernel_19432\\1072382922.py\", line 34, in <lambda>\n",
      "    trial_function = lambda trial: objective_fun(trial,\n",
      "                                  ^^^^^^^^^^^^^^^^^^^^^\n",
      "  File \"C:\\Users\\emanu\\AppData\\Local\\Temp\\ipykernel_19432\\1072382922.py\", line 15, in objective_fun\n",
      "    cnn = build_model(  X.shape[1:], len(np.unique(y)),\n",
      "          ^^^^^^^^^^^^^^^^^^^^^^^^^^^^^^^^^^^^^^^^^^^^^\n",
      "  File \"C:\\Users\\emanu\\AppData\\Local\\Temp\\ipykernel_19432\\1937663146.py\", line 27, in build_model\n",
      "    model.add(Conv1D(filters=filters, kernel_size=kernel_size, activation='relu', name=f\"extra_conv_{i}\"))\n",
      "  File \"C:\\Users\\emanu\\.virtualenvs\\DM2-HUE9YkAX\\Lib\\site-packages\\tensorflow\\python\\trackable\\base.py\", line 205, in _method_wrapper\n",
      "    result = method(self, *args, **kwargs)\n",
      "             ^^^^^^^^^^^^^^^^^^^^^^^^^^^^^\n",
      "  File \"C:\\Users\\emanu\\.virtualenvs\\DM2-HUE9YkAX\\Lib\\site-packages\\keras\\utils\\traceback_utils.py\", line 70, in error_handler\n",
      "    raise e.with_traceback(filtered_tb) from None\n",
      "  File \"C:\\Users\\emanu\\.virtualenvs\\DM2-HUE9YkAX\\Lib\\site-packages\\keras\\layers\\convolutional\\base_conv.py\", line 354, in compute_output_shape\n",
      "    raise ValueError(\n",
      "ValueError: One of the dimensions in the output is <= 0 due to downsampling in extra_conv_1. Consider increasing the input size. Received input shape [None, 5, 7] which would produce output shape with a zero or negative value in a dimension.\n",
      "[W 2023-06-30 16:19:23,202] Trial 103 failed with value None.\n",
      "[W 2023-06-30 16:19:23,370] Trial 104 failed with parameters: {'n_conv': 2, 'n_hidden': 3, 'hidden_nodes': 88, 'dropout': 3.011221316147686e-05, 'filters': 7, 'kernel_size': 11, 'batch_size': 34, 'epochs': 68} because of the following error: ValueError('One of the dimensions in the output is <= 0 due to downsampling in extra_conv_1. Consider increasing the input size. Received input shape [None, 7, 7] which would produce output shape with a zero or negative value in a dimension.').\n",
      "Traceback (most recent call last):\n",
      "  File \"C:\\Users\\emanu\\.virtualenvs\\DM2-HUE9YkAX\\Lib\\site-packages\\optuna\\study\\_optimize.py\", line 200, in _run_trial\n",
      "    value_or_values = func(trial)\n",
      "                      ^^^^^^^^^^^\n",
      "  File \"C:\\Users\\emanu\\AppData\\Local\\Temp\\ipykernel_19432\\1072382922.py\", line 34, in <lambda>\n",
      "    trial_function = lambda trial: objective_fun(trial,\n",
      "                                  ^^^^^^^^^^^^^^^^^^^^^\n",
      "  File \"C:\\Users\\emanu\\AppData\\Local\\Temp\\ipykernel_19432\\1072382922.py\", line 15, in objective_fun\n",
      "    cnn = build_model(  X.shape[1:], len(np.unique(y)),\n",
      "          ^^^^^^^^^^^^^^^^^^^^^^^^^^^^^^^^^^^^^^^^^^^^^\n",
      "  File \"C:\\Users\\emanu\\AppData\\Local\\Temp\\ipykernel_19432\\1937663146.py\", line 27, in build_model\n",
      "    model.add(Conv1D(filters=filters, kernel_size=kernel_size, activation='relu', name=f\"extra_conv_{i}\"))\n",
      "  File \"C:\\Users\\emanu\\.virtualenvs\\DM2-HUE9YkAX\\Lib\\site-packages\\tensorflow\\python\\trackable\\base.py\", line 205, in _method_wrapper\n",
      "    result = method(self, *args, **kwargs)\n",
      "             ^^^^^^^^^^^^^^^^^^^^^^^^^^^^^\n",
      "  File \"C:\\Users\\emanu\\.virtualenvs\\DM2-HUE9YkAX\\Lib\\site-packages\\keras\\utils\\traceback_utils.py\", line 70, in error_handler\n",
      "    raise e.with_traceback(filtered_tb) from None\n",
      "  File \"C:\\Users\\emanu\\.virtualenvs\\DM2-HUE9YkAX\\Lib\\site-packages\\keras\\layers\\convolutional\\base_conv.py\", line 354, in compute_output_shape\n",
      "    raise ValueError(\n",
      "ValueError: One of the dimensions in the output is <= 0 due to downsampling in extra_conv_1. Consider increasing the input size. Received input shape [None, 7, 7] which would produce output shape with a zero or negative value in a dimension.\n",
      "[W 2023-06-30 16:19:23,395] Trial 104 failed with value None.\n",
      "[W 2023-06-30 16:19:23,406] Trial 105 failed with parameters: {'n_conv': 2, 'n_hidden': 3, 'hidden_nodes': 75, 'dropout': 0.05239761344792036, 'filters': 7, 'kernel_size': 11, 'batch_size': 33, 'epochs': 69} because of the following error: ValueError('One of the dimensions in the output is <= 0 due to downsampling in extra_conv_1. Consider increasing the input size. Received input shape [None, 7, 7] which would produce output shape with a zero or negative value in a dimension.').\n",
      "Traceback (most recent call last):\n",
      "  File \"C:\\Users\\emanu\\.virtualenvs\\DM2-HUE9YkAX\\Lib\\site-packages\\optuna\\study\\_optimize.py\", line 200, in _run_trial\n",
      "    value_or_values = func(trial)\n",
      "                      ^^^^^^^^^^^\n",
      "  File \"C:\\Users\\emanu\\AppData\\Local\\Temp\\ipykernel_19432\\1072382922.py\", line 34, in <lambda>\n",
      "    trial_function = lambda trial: objective_fun(trial,\n",
      "                                  ^^^^^^^^^^^^^^^^^^^^^\n",
      "  File \"C:\\Users\\emanu\\AppData\\Local\\Temp\\ipykernel_19432\\1072382922.py\", line 15, in objective_fun\n",
      "    cnn = build_model(  X.shape[1:], len(np.unique(y)),\n",
      "          ^^^^^^^^^^^^^^^^^^^^^^^^^^^^^^^^^^^^^^^^^^^^^\n",
      "  File \"C:\\Users\\emanu\\AppData\\Local\\Temp\\ipykernel_19432\\1937663146.py\", line 27, in build_model\n",
      "    model.add(Conv1D(filters=filters, kernel_size=kernel_size, activation='relu', name=f\"extra_conv_{i}\"))\n",
      "  File \"C:\\Users\\emanu\\.virtualenvs\\DM2-HUE9YkAX\\Lib\\site-packages\\tensorflow\\python\\trackable\\base.py\", line 205, in _method_wrapper\n",
      "    result = method(self, *args, **kwargs)\n",
      "             ^^^^^^^^^^^^^^^^^^^^^^^^^^^^^\n",
      "  File \"C:\\Users\\emanu\\.virtualenvs\\DM2-HUE9YkAX\\Lib\\site-packages\\keras\\utils\\traceback_utils.py\", line 70, in error_handler\n",
      "    raise e.with_traceback(filtered_tb) from None\n",
      "  File \"C:\\Users\\emanu\\.virtualenvs\\DM2-HUE9YkAX\\Lib\\site-packages\\keras\\layers\\convolutional\\base_conv.py\", line 354, in compute_output_shape\n",
      "    raise ValueError(\n",
      "ValueError: One of the dimensions in the output is <= 0 due to downsampling in extra_conv_1. Consider increasing the input size. Received input shape [None, 7, 7] which would produce output shape with a zero or negative value in a dimension.\n",
      "[W 2023-06-30 16:19:23,432] Trial 105 failed with value None.\n"
     ]
    },
    {
     "name": "stdout",
     "output_type": "stream",
     "text": [
      "Running little bitch having n_conv=2, dropout=0.05029084510433943, hidden_nodes=72\n",
      "Running little bitch having n_conv=2, dropout=0.05039359232874227, hidden_nodes=81\n",
      "Running little bitch having n_conv=2, dropout=0.04802645934201211, hidden_nodes=73\n"
     ]
    },
    {
     "name": "stderr",
     "output_type": "stream",
     "text": [
      "[W 2023-06-30 16:19:23,916] Trial 106 failed with parameters: {'n_conv': 2, 'n_hidden': 3, 'hidden_nodes': 72, 'dropout': 0.05029084510433943, 'filters': 7, 'kernel_size': 11, 'batch_size': 33, 'epochs': 70} because of the following error: ValueError('One of the dimensions in the output is <= 0 due to downsampling in extra_conv_1. Consider increasing the input size. Received input shape [None, 7, 7] which would produce output shape with a zero or negative value in a dimension.').\n",
      "Traceback (most recent call last):\n",
      "  File \"C:\\Users\\emanu\\.virtualenvs\\DM2-HUE9YkAX\\Lib\\site-packages\\optuna\\study\\_optimize.py\", line 200, in _run_trial\n",
      "    value_or_values = func(trial)\n",
      "                      ^^^^^^^^^^^\n",
      "  File \"C:\\Users\\emanu\\AppData\\Local\\Temp\\ipykernel_19432\\1072382922.py\", line 34, in <lambda>\n",
      "    trial_function = lambda trial: objective_fun(trial,\n",
      "                                  ^^^^^^^^^^^^^^^^^^^^^\n",
      "  File \"C:\\Users\\emanu\\AppData\\Local\\Temp\\ipykernel_19432\\1072382922.py\", line 15, in objective_fun\n",
      "    cnn = build_model(  X.shape[1:], len(np.unique(y)),\n",
      "          ^^^^^^^^^^^^^^^^^^^^^^^^^^^^^^^^^^^^^^^^^^^^^\n",
      "  File \"C:\\Users\\emanu\\AppData\\Local\\Temp\\ipykernel_19432\\1937663146.py\", line 27, in build_model\n",
      "    model.add(Conv1D(filters=filters, kernel_size=kernel_size, activation='relu', name=f\"extra_conv_{i}\"))\n",
      "  File \"C:\\Users\\emanu\\.virtualenvs\\DM2-HUE9YkAX\\Lib\\site-packages\\tensorflow\\python\\trackable\\base.py\", line 205, in _method_wrapper\n",
      "    result = method(self, *args, **kwargs)\n",
      "             ^^^^^^^^^^^^^^^^^^^^^^^^^^^^^\n",
      "  File \"C:\\Users\\emanu\\.virtualenvs\\DM2-HUE9YkAX\\Lib\\site-packages\\keras\\utils\\traceback_utils.py\", line 70, in error_handler\n",
      "    raise e.with_traceback(filtered_tb) from None\n",
      "  File \"C:\\Users\\emanu\\.virtualenvs\\DM2-HUE9YkAX\\Lib\\site-packages\\keras\\layers\\convolutional\\base_conv.py\", line 354, in compute_output_shape\n",
      "    raise ValueError(\n",
      "ValueError: One of the dimensions in the output is <= 0 due to downsampling in extra_conv_1. Consider increasing the input size. Received input shape [None, 7, 7] which would produce output shape with a zero or negative value in a dimension.\n",
      "[W 2023-06-30 16:19:23,924] Trial 106 failed with value None.\n",
      "[W 2023-06-30 16:19:24,084] Trial 108 failed with parameters: {'n_conv': 2, 'n_hidden': 3, 'hidden_nodes': 73, 'dropout': 0.04802645934201211, 'filters': 8, 'kernel_size': 11, 'batch_size': 31, 'epochs': 70} because of the following error: ValueError('One of the dimensions in the output is <= 0 due to downsampling in extra_conv_1. Consider increasing the input size. Received input shape [None, 7, 8] which would produce output shape with a zero or negative value in a dimension.').\n",
      "Traceback (most recent call last):\n",
      "  File \"C:\\Users\\emanu\\.virtualenvs\\DM2-HUE9YkAX\\Lib\\site-packages\\optuna\\study\\_optimize.py\", line 200, in _run_trial\n",
      "    value_or_values = func(trial)\n",
      "                      ^^^^^^^^^^^\n",
      "  File \"C:\\Users\\emanu\\AppData\\Local\\Temp\\ipykernel_19432\\1072382922.py\", line 34, in <lambda>\n",
      "    trial_function = lambda trial: objective_fun(trial,\n",
      "                                  ^^^^^^^^^^^^^^^^^^^^^\n",
      "  File \"C:\\Users\\emanu\\AppData\\Local\\Temp\\ipykernel_19432\\1072382922.py\", line 15, in objective_fun\n",
      "    cnn = build_model(  X.shape[1:], len(np.unique(y)),\n",
      "          ^^^^^^^^^^^^^^^^^^^^^^^^^^^^^^^^^^^^^^^^^^^^^\n",
      "  File \"C:\\Users\\emanu\\AppData\\Local\\Temp\\ipykernel_19432\\1937663146.py\", line 27, in build_model\n",
      "    model.add(Conv1D(filters=filters, kernel_size=kernel_size, activation='relu', name=f\"extra_conv_{i}\"))\n",
      "  File \"C:\\Users\\emanu\\.virtualenvs\\DM2-HUE9YkAX\\Lib\\site-packages\\tensorflow\\python\\trackable\\base.py\", line 205, in _method_wrapper\n",
      "    result = method(self, *args, **kwargs)\n",
      "             ^^^^^^^^^^^^^^^^^^^^^^^^^^^^^\n",
      "  File \"C:\\Users\\emanu\\.virtualenvs\\DM2-HUE9YkAX\\Lib\\site-packages\\keras\\utils\\traceback_utils.py\", line 70, in error_handler\n",
      "    raise e.with_traceback(filtered_tb) from None\n",
      "  File \"C:\\Users\\emanu\\.virtualenvs\\DM2-HUE9YkAX\\Lib\\site-packages\\keras\\layers\\convolutional\\base_conv.py\", line 354, in compute_output_shape\n",
      "    raise ValueError(\n",
      "ValueError: One of the dimensions in the output is <= 0 due to downsampling in extra_conv_1. Consider increasing the input size. Received input shape [None, 7, 8] which would produce output shape with a zero or negative value in a dimension.\n",
      "[W 2023-06-30 16:19:24,115] Trial 108 failed with value None.\n",
      "[W 2023-06-30 16:19:24,111] Trial 107 failed with parameters: {'n_conv': 2, 'n_hidden': 3, 'hidden_nodes': 81, 'dropout': 0.05039359232874227, 'filters': 6, 'kernel_size': 11, 'batch_size': 34, 'epochs': 70} because of the following error: ValueError('One of the dimensions in the output is <= 0 due to downsampling in extra_conv_1. Consider increasing the input size. Received input shape [None, 7, 6] which would produce output shape with a zero or negative value in a dimension.').\n",
      "Traceback (most recent call last):\n",
      "  File \"C:\\Users\\emanu\\.virtualenvs\\DM2-HUE9YkAX\\Lib\\site-packages\\optuna\\study\\_optimize.py\", line 200, in _run_trial\n",
      "    value_or_values = func(trial)\n",
      "                      ^^^^^^^^^^^\n",
      "  File \"C:\\Users\\emanu\\AppData\\Local\\Temp\\ipykernel_19432\\1072382922.py\", line 34, in <lambda>\n",
      "    trial_function = lambda trial: objective_fun(trial,\n",
      "                                  ^^^^^^^^^^^^^^^^^^^^^\n",
      "  File \"C:\\Users\\emanu\\AppData\\Local\\Temp\\ipykernel_19432\\1072382922.py\", line 15, in objective_fun\n",
      "    cnn = build_model(  X.shape[1:], len(np.unique(y)),\n",
      "          ^^^^^^^^^^^^^^^^^^^^^^^^^^^^^^^^^^^^^^^^^^^^^\n",
      "  File \"C:\\Users\\emanu\\AppData\\Local\\Temp\\ipykernel_19432\\1937663146.py\", line 27, in build_model\n",
      "    model.add(Conv1D(filters=filters, kernel_size=kernel_size, activation='relu', name=f\"extra_conv_{i}\"))\n",
      "  File \"C:\\Users\\emanu\\.virtualenvs\\DM2-HUE9YkAX\\Lib\\site-packages\\tensorflow\\python\\trackable\\base.py\", line 205, in _method_wrapper\n",
      "    result = method(self, *args, **kwargs)\n",
      "             ^^^^^^^^^^^^^^^^^^^^^^^^^^^^^\n",
      "  File \"C:\\Users\\emanu\\.virtualenvs\\DM2-HUE9YkAX\\Lib\\site-packages\\keras\\utils\\traceback_utils.py\", line 70, in error_handler\n",
      "    raise e.with_traceback(filtered_tb) from None\n",
      "  File \"C:\\Users\\emanu\\.virtualenvs\\DM2-HUE9YkAX\\Lib\\site-packages\\keras\\layers\\convolutional\\base_conv.py\", line 354, in compute_output_shape\n",
      "    raise ValueError(\n",
      "ValueError: One of the dimensions in the output is <= 0 due to downsampling in extra_conv_1. Consider increasing the input size. Received input shape [None, 7, 6] which would produce output shape with a zero or negative value in a dimension.\n",
      "[W 2023-06-30 16:19:24,170] Trial 107 failed with value None.\n"
     ]
    },
    {
     "name": "stdout",
     "output_type": "stream",
     "text": [
      "Running little bitch having n_conv=2, dropout=0.05409925890071713, hidden_nodes=85\n",
      "Running little bitch having n_conv=2, dropout=0.051143821269754114, hidden_nodes=86\n",
      "Running little bitch having n_conv=2, dropout=0.05087267960546676, hidden_nodes=81\n"
     ]
    },
    {
     "name": "stderr",
     "output_type": "stream",
     "text": [
      "[W 2023-06-30 16:19:24,853] Trial 109 failed with parameters: {'n_conv': 2, 'n_hidden': 3, 'hidden_nodes': 85, 'dropout': 0.05409925890071713, 'filters': 7, 'kernel_size': 11, 'batch_size': 33, 'epochs': 69} because of the following error: ValueError('One of the dimensions in the output is <= 0 due to downsampling in extra_conv_1. Consider increasing the input size. Received input shape [None, 7, 7] which would produce output shape with a zero or negative value in a dimension.').\n",
      "Traceback (most recent call last):\n",
      "  File \"C:\\Users\\emanu\\.virtualenvs\\DM2-HUE9YkAX\\Lib\\site-packages\\optuna\\study\\_optimize.py\", line 200, in _run_trial\n",
      "    value_or_values = func(trial)\n",
      "                      ^^^^^^^^^^^\n",
      "  File \"C:\\Users\\emanu\\AppData\\Local\\Temp\\ipykernel_19432\\1072382922.py\", line 34, in <lambda>\n",
      "    trial_function = lambda trial: objective_fun(trial,\n",
      "                                  ^^^^^^^^^^^^^^^^^^^^^\n",
      "  File \"C:\\Users\\emanu\\AppData\\Local\\Temp\\ipykernel_19432\\1072382922.py\", line 15, in objective_fun\n",
      "    cnn = build_model(  X.shape[1:], len(np.unique(y)),\n",
      "          ^^^^^^^^^^^^^^^^^^^^^^^^^^^^^^^^^^^^^^^^^^^^^\n",
      "  File \"C:\\Users\\emanu\\AppData\\Local\\Temp\\ipykernel_19432\\1937663146.py\", line 27, in build_model\n",
      "    model.add(Conv1D(filters=filters, kernel_size=kernel_size, activation='relu', name=f\"extra_conv_{i}\"))\n",
      "  File \"C:\\Users\\emanu\\.virtualenvs\\DM2-HUE9YkAX\\Lib\\site-packages\\tensorflow\\python\\trackable\\base.py\", line 205, in _method_wrapper\n",
      "    result = method(self, *args, **kwargs)\n",
      "             ^^^^^^^^^^^^^^^^^^^^^^^^^^^^^\n",
      "  File \"C:\\Users\\emanu\\.virtualenvs\\DM2-HUE9YkAX\\Lib\\site-packages\\keras\\utils\\traceback_utils.py\", line 70, in error_handler\n",
      "    raise e.with_traceback(filtered_tb) from None\n",
      "  File \"C:\\Users\\emanu\\.virtualenvs\\DM2-HUE9YkAX\\Lib\\site-packages\\keras\\layers\\convolutional\\base_conv.py\", line 354, in compute_output_shape\n",
      "    raise ValueError(\n",
      "ValueError: One of the dimensions in the output is <= 0 due to downsampling in extra_conv_1. Consider increasing the input size. Received input shape [None, 7, 7] which would produce output shape with a zero or negative value in a dimension.\n",
      "[W 2023-06-30 16:19:24,881] Trial 109 failed with value None.\n",
      "[W 2023-06-30 16:19:24,960] Trial 110 failed with parameters: {'n_conv': 2, 'n_hidden': 3, 'hidden_nodes': 86, 'dropout': 0.051143821269754114, 'filters': 7, 'kernel_size': 11, 'batch_size': 33, 'epochs': 70} because of the following error: ValueError('One of the dimensions in the output is <= 0 due to downsampling in extra_conv_1. Consider increasing the input size. Received input shape [None, 7, 7] which would produce output shape with a zero or negative value in a dimension.').\n",
      "Traceback (most recent call last):\n",
      "  File \"C:\\Users\\emanu\\.virtualenvs\\DM2-HUE9YkAX\\Lib\\site-packages\\optuna\\study\\_optimize.py\", line 200, in _run_trial\n",
      "    value_or_values = func(trial)\n",
      "                      ^^^^^^^^^^^\n",
      "  File \"C:\\Users\\emanu\\AppData\\Local\\Temp\\ipykernel_19432\\1072382922.py\", line 34, in <lambda>\n",
      "    trial_function = lambda trial: objective_fun(trial,\n",
      "                                  ^^^^^^^^^^^^^^^^^^^^^\n",
      "  File \"C:\\Users\\emanu\\AppData\\Local\\Temp\\ipykernel_19432\\1072382922.py\", line 15, in objective_fun\n",
      "    cnn = build_model(  X.shape[1:], len(np.unique(y)),\n",
      "          ^^^^^^^^^^^^^^^^^^^^^^^^^^^^^^^^^^^^^^^^^^^^^\n",
      "  File \"C:\\Users\\emanu\\AppData\\Local\\Temp\\ipykernel_19432\\1937663146.py\", line 27, in build_model\n",
      "    model.add(Conv1D(filters=filters, kernel_size=kernel_size, activation='relu', name=f\"extra_conv_{i}\"))\n",
      "  File \"C:\\Users\\emanu\\.virtualenvs\\DM2-HUE9YkAX\\Lib\\site-packages\\tensorflow\\python\\trackable\\base.py\", line 205, in _method_wrapper\n",
      "    result = method(self, *args, **kwargs)\n",
      "             ^^^^^^^^^^^^^^^^^^^^^^^^^^^^^\n",
      "  File \"C:\\Users\\emanu\\.virtualenvs\\DM2-HUE9YkAX\\Lib\\site-packages\\keras\\utils\\traceback_utils.py\", line 70, in error_handler\n",
      "    raise e.with_traceback(filtered_tb) from None\n",
      "  File \"C:\\Users\\emanu\\.virtualenvs\\DM2-HUE9YkAX\\Lib\\site-packages\\keras\\layers\\convolutional\\base_conv.py\", line 354, in compute_output_shape\n",
      "    raise ValueError(\n",
      "ValueError: One of the dimensions in the output is <= 0 due to downsampling in extra_conv_1. Consider increasing the input size. Received input shape [None, 7, 7] which would produce output shape with a zero or negative value in a dimension.\n",
      "[W 2023-06-30 16:19:25,014] Trial 110 failed with value None.\n",
      "[W 2023-06-30 16:19:25,200] Trial 111 failed with parameters: {'n_conv': 2, 'n_hidden': 3, 'hidden_nodes': 81, 'dropout': 0.05087267960546676, 'filters': 7, 'kernel_size': 12, 'batch_size': 32, 'epochs': 71} because of the following error: ValueError('One of the dimensions in the output is <= 0 due to downsampling in extra_conv_1. Consider increasing the input size. Received input shape [None, 5, 7] which would produce output shape with a zero or negative value in a dimension.').\n",
      "Traceback (most recent call last):\n",
      "  File \"C:\\Users\\emanu\\.virtualenvs\\DM2-HUE9YkAX\\Lib\\site-packages\\optuna\\study\\_optimize.py\", line 200, in _run_trial\n",
      "    value_or_values = func(trial)\n",
      "                      ^^^^^^^^^^^\n",
      "  File \"C:\\Users\\emanu\\AppData\\Local\\Temp\\ipykernel_19432\\1072382922.py\", line 34, in <lambda>\n",
      "    trial_function = lambda trial: objective_fun(trial,\n",
      "                                  ^^^^^^^^^^^^^^^^^^^^^\n",
      "  File \"C:\\Users\\emanu\\AppData\\Local\\Temp\\ipykernel_19432\\1072382922.py\", line 15, in objective_fun\n",
      "    cnn = build_model(  X.shape[1:], len(np.unique(y)),\n",
      "          ^^^^^^^^^^^^^^^^^^^^^^^^^^^^^^^^^^^^^^^^^^^^^\n",
      "  File \"C:\\Users\\emanu\\AppData\\Local\\Temp\\ipykernel_19432\\1937663146.py\", line 27, in build_model\n",
      "    model.add(Conv1D(filters=filters, kernel_size=kernel_size, activation='relu', name=f\"extra_conv_{i}\"))\n",
      "  File \"C:\\Users\\emanu\\.virtualenvs\\DM2-HUE9YkAX\\Lib\\site-packages\\tensorflow\\python\\trackable\\base.py\", line 205, in _method_wrapper\n",
      "    result = method(self, *args, **kwargs)\n",
      "             ^^^^^^^^^^^^^^^^^^^^^^^^^^^^^\n",
      "  File \"C:\\Users\\emanu\\.virtualenvs\\DM2-HUE9YkAX\\Lib\\site-packages\\keras\\utils\\traceback_utils.py\", line 70, in error_handler\n",
      "    raise e.with_traceback(filtered_tb) from None\n",
      "  File \"C:\\Users\\emanu\\.virtualenvs\\DM2-HUE9YkAX\\Lib\\site-packages\\keras\\layers\\convolutional\\base_conv.py\", line 354, in compute_output_shape\n",
      "    raise ValueError(\n",
      "ValueError: One of the dimensions in the output is <= 0 due to downsampling in extra_conv_1. Consider increasing the input size. Received input shape [None, 5, 7] which would produce output shape with a zero or negative value in a dimension.\n",
      "[W 2023-06-30 16:19:25,266] Trial 111 failed with value None.\n"
     ]
    },
    {
     "name": "stdout",
     "output_type": "stream",
     "text": [
      "Running little bitch having n_conv=2, dropout=0.04943699359704713, hidden_nodes=75\n",
      "Running little bitch having n_conv=2, dropout=4.835547568655951e-05, hidden_nodes=92\n",
      "Running little bitch having n_conv=2, dropout=0.05176923577663914, hidden_nodes=77\n"
     ]
    },
    {
     "name": "stderr",
     "output_type": "stream",
     "text": [
      "[W 2023-06-30 16:19:25,969] Trial 112 failed with parameters: {'n_conv': 2, 'n_hidden': 3, 'hidden_nodes': 75, 'dropout': 0.04943699359704713, 'filters': 7, 'kernel_size': 11, 'batch_size': 35, 'epochs': 70} because of the following error: ValueError('One of the dimensions in the output is <= 0 due to downsampling in extra_conv_1. Consider increasing the input size. Received input shape [None, 7, 7] which would produce output shape with a zero or negative value in a dimension.').\n",
      "Traceback (most recent call last):\n",
      "  File \"C:\\Users\\emanu\\.virtualenvs\\DM2-HUE9YkAX\\Lib\\site-packages\\optuna\\study\\_optimize.py\", line 200, in _run_trial\n",
      "    value_or_values = func(trial)\n",
      "                      ^^^^^^^^^^^\n",
      "  File \"C:\\Users\\emanu\\AppData\\Local\\Temp\\ipykernel_19432\\1072382922.py\", line 34, in <lambda>\n",
      "    trial_function = lambda trial: objective_fun(trial,\n",
      "                                  ^^^^^^^^^^^^^^^^^^^^^\n",
      "  File \"C:\\Users\\emanu\\AppData\\Local\\Temp\\ipykernel_19432\\1072382922.py\", line 15, in objective_fun\n",
      "    cnn = build_model(  X.shape[1:], len(np.unique(y)),\n",
      "          ^^^^^^^^^^^^^^^^^^^^^^^^^^^^^^^^^^^^^^^^^^^^^\n",
      "  File \"C:\\Users\\emanu\\AppData\\Local\\Temp\\ipykernel_19432\\1937663146.py\", line 27, in build_model\n",
      "    model.add(Conv1D(filters=filters, kernel_size=kernel_size, activation='relu', name=f\"extra_conv_{i}\"))\n",
      "  File \"C:\\Users\\emanu\\.virtualenvs\\DM2-HUE9YkAX\\Lib\\site-packages\\tensorflow\\python\\trackable\\base.py\", line 205, in _method_wrapper\n",
      "    result = method(self, *args, **kwargs)\n",
      "             ^^^^^^^^^^^^^^^^^^^^^^^^^^^^^\n",
      "  File \"C:\\Users\\emanu\\.virtualenvs\\DM2-HUE9YkAX\\Lib\\site-packages\\keras\\utils\\traceback_utils.py\", line 70, in error_handler\n",
      "    raise e.with_traceback(filtered_tb) from None\n",
      "  File \"C:\\Users\\emanu\\.virtualenvs\\DM2-HUE9YkAX\\Lib\\site-packages\\keras\\layers\\convolutional\\base_conv.py\", line 354, in compute_output_shape\n",
      "    raise ValueError(\n",
      "ValueError: One of the dimensions in the output is <= 0 due to downsampling in extra_conv_1. Consider increasing the input size. Received input shape [None, 7, 7] which would produce output shape with a zero or negative value in a dimension.\n",
      "[W 2023-06-30 16:19:25,982] Trial 112 failed with value None.\n",
      "[W 2023-06-30 16:19:26,121] Trial 113 failed with parameters: {'n_conv': 2, 'n_hidden': 3, 'hidden_nodes': 92, 'dropout': 4.835547568655951e-05, 'filters': 7, 'kernel_size': 11, 'batch_size': 33, 'epochs': 69} because of the following error: ValueError('One of the dimensions in the output is <= 0 due to downsampling in extra_conv_1. Consider increasing the input size. Received input shape [None, 7, 7] which would produce output shape with a zero or negative value in a dimension.').\n",
      "Traceback (most recent call last):\n",
      "  File \"C:\\Users\\emanu\\.virtualenvs\\DM2-HUE9YkAX\\Lib\\site-packages\\optuna\\study\\_optimize.py\", line 200, in _run_trial\n",
      "    value_or_values = func(trial)\n",
      "                      ^^^^^^^^^^^\n",
      "  File \"C:\\Users\\emanu\\AppData\\Local\\Temp\\ipykernel_19432\\1072382922.py\", line 34, in <lambda>\n",
      "    trial_function = lambda trial: objective_fun(trial,\n",
      "                                  ^^^^^^^^^^^^^^^^^^^^^\n",
      "  File \"C:\\Users\\emanu\\AppData\\Local\\Temp\\ipykernel_19432\\1072382922.py\", line 15, in objective_fun\n",
      "    cnn = build_model(  X.shape[1:], len(np.unique(y)),\n",
      "          ^^^^^^^^^^^^^^^^^^^^^^^^^^^^^^^^^^^^^^^^^^^^^\n",
      "  File \"C:\\Users\\emanu\\AppData\\Local\\Temp\\ipykernel_19432\\1937663146.py\", line 27, in build_model\n",
      "    model.add(Conv1D(filters=filters, kernel_size=kernel_size, activation='relu', name=f\"extra_conv_{i}\"))\n",
      "  File \"C:\\Users\\emanu\\.virtualenvs\\DM2-HUE9YkAX\\Lib\\site-packages\\tensorflow\\python\\trackable\\base.py\", line 205, in _method_wrapper\n",
      "    result = method(self, *args, **kwargs)\n",
      "             ^^^^^^^^^^^^^^^^^^^^^^^^^^^^^\n",
      "  File \"C:\\Users\\emanu\\.virtualenvs\\DM2-HUE9YkAX\\Lib\\site-packages\\keras\\utils\\traceback_utils.py\", line 70, in error_handler\n",
      "    raise e.with_traceback(filtered_tb) from None\n",
      "  File \"C:\\Users\\emanu\\.virtualenvs\\DM2-HUE9YkAX\\Lib\\site-packages\\keras\\layers\\convolutional\\base_conv.py\", line 354, in compute_output_shape\n",
      "    raise ValueError(\n",
      "ValueError: One of the dimensions in the output is <= 0 due to downsampling in extra_conv_1. Consider increasing the input size. Received input shape [None, 7, 7] which would produce output shape with a zero or negative value in a dimension.\n",
      "[W 2023-06-30 16:19:26,166] Trial 113 failed with value None.\n",
      "[W 2023-06-30 16:19:26,263] Trial 114 failed with parameters: {'n_conv': 2, 'n_hidden': 3, 'hidden_nodes': 77, 'dropout': 0.05176923577663914, 'filters': 7, 'kernel_size': 11, 'batch_size': 33, 'epochs': 65} because of the following error: ValueError('One of the dimensions in the output is <= 0 due to downsampling in extra_conv_1. Consider increasing the input size. Received input shape [None, 7, 7] which would produce output shape with a zero or negative value in a dimension.').\n",
      "Traceback (most recent call last):\n",
      "  File \"C:\\Users\\emanu\\.virtualenvs\\DM2-HUE9YkAX\\Lib\\site-packages\\optuna\\study\\_optimize.py\", line 200, in _run_trial\n",
      "    value_or_values = func(trial)\n",
      "                      ^^^^^^^^^^^\n",
      "  File \"C:\\Users\\emanu\\AppData\\Local\\Temp\\ipykernel_19432\\1072382922.py\", line 34, in <lambda>\n",
      "    trial_function = lambda trial: objective_fun(trial,\n",
      "                                  ^^^^^^^^^^^^^^^^^^^^^\n",
      "  File \"C:\\Users\\emanu\\AppData\\Local\\Temp\\ipykernel_19432\\1072382922.py\", line 15, in objective_fun\n",
      "    cnn = build_model(  X.shape[1:], len(np.unique(y)),\n",
      "          ^^^^^^^^^^^^^^^^^^^^^^^^^^^^^^^^^^^^^^^^^^^^^\n",
      "  File \"C:\\Users\\emanu\\AppData\\Local\\Temp\\ipykernel_19432\\1937663146.py\", line 27, in build_model\n",
      "    model.add(Conv1D(filters=filters, kernel_size=kernel_size, activation='relu', name=f\"extra_conv_{i}\"))\n",
      "  File \"C:\\Users\\emanu\\.virtualenvs\\DM2-HUE9YkAX\\Lib\\site-packages\\tensorflow\\python\\trackable\\base.py\", line 205, in _method_wrapper\n",
      "    result = method(self, *args, **kwargs)\n",
      "             ^^^^^^^^^^^^^^^^^^^^^^^^^^^^^\n",
      "  File \"C:\\Users\\emanu\\.virtualenvs\\DM2-HUE9YkAX\\Lib\\site-packages\\keras\\utils\\traceback_utils.py\", line 70, in error_handler\n",
      "    raise e.with_traceback(filtered_tb) from None\n",
      "  File \"C:\\Users\\emanu\\.virtualenvs\\DM2-HUE9YkAX\\Lib\\site-packages\\keras\\layers\\convolutional\\base_conv.py\", line 354, in compute_output_shape\n",
      "    raise ValueError(\n",
      "ValueError: One of the dimensions in the output is <= 0 due to downsampling in extra_conv_1. Consider increasing the input size. Received input shape [None, 7, 7] which would produce output shape with a zero or negative value in a dimension.\n",
      "[W 2023-06-30 16:19:26,341] Trial 114 failed with value None.\n"
     ]
    },
    {
     "name": "stdout",
     "output_type": "stream",
     "text": [
      "Running little bitch having n_conv=2, dropout=0.05263290759705428, hidden_nodes=77\n",
      "Running little bitch having n_conv=2, dropout=0.00032945741349179117, hidden_nodes=80\n",
      "Running little bitch having n_conv=2, dropout=7.488253030794867e-05, hidden_nodes=75\n"
     ]
    },
    {
     "name": "stderr",
     "output_type": "stream",
     "text": [
      "[W 2023-06-30 16:19:27,110] Trial 115 failed with parameters: {'n_conv': 2, 'n_hidden': 3, 'hidden_nodes': 77, 'dropout': 0.05263290759705428, 'filters': 7, 'kernel_size': 12, 'batch_size': 33, 'epochs': 64} because of the following error: ValueError('One of the dimensions in the output is <= 0 due to downsampling in extra_conv_1. Consider increasing the input size. Received input shape [None, 5, 7] which would produce output shape with a zero or negative value in a dimension.').\n",
      "Traceback (most recent call last):\n",
      "  File \"C:\\Users\\emanu\\.virtualenvs\\DM2-HUE9YkAX\\Lib\\site-packages\\optuna\\study\\_optimize.py\", line 200, in _run_trial\n",
      "    value_or_values = func(trial)\n",
      "                      ^^^^^^^^^^^\n",
      "  File \"C:\\Users\\emanu\\AppData\\Local\\Temp\\ipykernel_19432\\1072382922.py\", line 34, in <lambda>\n",
      "    trial_function = lambda trial: objective_fun(trial,\n",
      "                                  ^^^^^^^^^^^^^^^^^^^^^\n",
      "  File \"C:\\Users\\emanu\\AppData\\Local\\Temp\\ipykernel_19432\\1072382922.py\", line 15, in objective_fun\n",
      "    cnn = build_model(  X.shape[1:], len(np.unique(y)),\n",
      "          ^^^^^^^^^^^^^^^^^^^^^^^^^^^^^^^^^^^^^^^^^^^^^\n",
      "  File \"C:\\Users\\emanu\\AppData\\Local\\Temp\\ipykernel_19432\\1937663146.py\", line 27, in build_model\n",
      "    model.add(Conv1D(filters=filters, kernel_size=kernel_size, activation='relu', name=f\"extra_conv_{i}\"))\n",
      "  File \"C:\\Users\\emanu\\.virtualenvs\\DM2-HUE9YkAX\\Lib\\site-packages\\tensorflow\\python\\trackable\\base.py\", line 205, in _method_wrapper\n",
      "    result = method(self, *args, **kwargs)\n",
      "             ^^^^^^^^^^^^^^^^^^^^^^^^^^^^^\n",
      "  File \"C:\\Users\\emanu\\.virtualenvs\\DM2-HUE9YkAX\\Lib\\site-packages\\keras\\utils\\traceback_utils.py\", line 70, in error_handler\n",
      "    raise e.with_traceback(filtered_tb) from None\n",
      "  File \"C:\\Users\\emanu\\.virtualenvs\\DM2-HUE9YkAX\\Lib\\site-packages\\keras\\layers\\convolutional\\base_conv.py\", line 354, in compute_output_shape\n",
      "    raise ValueError(\n",
      "ValueError: One of the dimensions in the output is <= 0 due to downsampling in extra_conv_1. Consider increasing the input size. Received input shape [None, 5, 7] which would produce output shape with a zero or negative value in a dimension.\n",
      "[W 2023-06-30 16:19:27,142] Trial 115 failed with value None.\n",
      "[W 2023-06-30 16:19:27,180] Trial 116 failed with parameters: {'n_conv': 2, 'n_hidden': 3, 'hidden_nodes': 80, 'dropout': 0.00032945741349179117, 'filters': 6, 'kernel_size': 11, 'batch_size': 33, 'epochs': 68} because of the following error: ValueError('One of the dimensions in the output is <= 0 due to downsampling in extra_conv_1. Consider increasing the input size. Received input shape [None, 7, 6] which would produce output shape with a zero or negative value in a dimension.').\n",
      "Traceback (most recent call last):\n",
      "  File \"C:\\Users\\emanu\\.virtualenvs\\DM2-HUE9YkAX\\Lib\\site-packages\\optuna\\study\\_optimize.py\", line 200, in _run_trial\n",
      "    value_or_values = func(trial)\n",
      "                      ^^^^^^^^^^^\n",
      "  File \"C:\\Users\\emanu\\AppData\\Local\\Temp\\ipykernel_19432\\1072382922.py\", line 34, in <lambda>\n",
      "    trial_function = lambda trial: objective_fun(trial,\n",
      "                                  ^^^^^^^^^^^^^^^^^^^^^\n",
      "  File \"C:\\Users\\emanu\\AppData\\Local\\Temp\\ipykernel_19432\\1072382922.py\", line 15, in objective_fun\n",
      "    cnn = build_model(  X.shape[1:], len(np.unique(y)),\n",
      "          ^^^^^^^^^^^^^^^^^^^^^^^^^^^^^^^^^^^^^^^^^^^^^\n",
      "  File \"C:\\Users\\emanu\\AppData\\Local\\Temp\\ipykernel_19432\\1937663146.py\", line 27, in build_model\n",
      "    model.add(Conv1D(filters=filters, kernel_size=kernel_size, activation='relu', name=f\"extra_conv_{i}\"))\n",
      "  File \"C:\\Users\\emanu\\.virtualenvs\\DM2-HUE9YkAX\\Lib\\site-packages\\tensorflow\\python\\trackable\\base.py\", line 205, in _method_wrapper\n",
      "    result = method(self, *args, **kwargs)\n",
      "             ^^^^^^^^^^^^^^^^^^^^^^^^^^^^^\n",
      "  File \"C:\\Users\\emanu\\.virtualenvs\\DM2-HUE9YkAX\\Lib\\site-packages\\keras\\utils\\traceback_utils.py\", line 70, in error_handler\n",
      "    raise e.with_traceback(filtered_tb) from None\n",
      "  File \"C:\\Users\\emanu\\.virtualenvs\\DM2-HUE9YkAX\\Lib\\site-packages\\keras\\layers\\convolutional\\base_conv.py\", line 354, in compute_output_shape\n",
      "    raise ValueError(\n",
      "ValueError: One of the dimensions in the output is <= 0 due to downsampling in extra_conv_1. Consider increasing the input size. Received input shape [None, 7, 6] which would produce output shape with a zero or negative value in a dimension.\n",
      "[W 2023-06-30 16:19:27,252] Trial 116 failed with value None.\n",
      "[W 2023-06-30 16:19:27,507] Trial 117 failed with parameters: {'n_conv': 2, 'n_hidden': 3, 'hidden_nodes': 75, 'dropout': 7.488253030794867e-05, 'filters': 7, 'kernel_size': 11, 'batch_size': 32, 'epochs': 70} because of the following error: ValueError('One of the dimensions in the output is <= 0 due to downsampling in extra_conv_1. Consider increasing the input size. Received input shape [None, 7, 7] which would produce output shape with a zero or negative value in a dimension.').\n",
      "Traceback (most recent call last):\n",
      "  File \"C:\\Users\\emanu\\.virtualenvs\\DM2-HUE9YkAX\\Lib\\site-packages\\optuna\\study\\_optimize.py\", line 200, in _run_trial\n",
      "    value_or_values = func(trial)\n",
      "                      ^^^^^^^^^^^\n",
      "  File \"C:\\Users\\emanu\\AppData\\Local\\Temp\\ipykernel_19432\\1072382922.py\", line 34, in <lambda>\n",
      "    trial_function = lambda trial: objective_fun(trial,\n",
      "                                  ^^^^^^^^^^^^^^^^^^^^^\n",
      "  File \"C:\\Users\\emanu\\AppData\\Local\\Temp\\ipykernel_19432\\1072382922.py\", line 15, in objective_fun\n",
      "    cnn = build_model(  X.shape[1:], len(np.unique(y)),\n",
      "          ^^^^^^^^^^^^^^^^^^^^^^^^^^^^^^^^^^^^^^^^^^^^^\n",
      "  File \"C:\\Users\\emanu\\AppData\\Local\\Temp\\ipykernel_19432\\1937663146.py\", line 27, in build_model\n",
      "    model.add(Conv1D(filters=filters, kernel_size=kernel_size, activation='relu', name=f\"extra_conv_{i}\"))\n",
      "  File \"C:\\Users\\emanu\\.virtualenvs\\DM2-HUE9YkAX\\Lib\\site-packages\\tensorflow\\python\\trackable\\base.py\", line 205, in _method_wrapper\n",
      "    result = method(self, *args, **kwargs)\n",
      "             ^^^^^^^^^^^^^^^^^^^^^^^^^^^^^\n",
      "  File \"C:\\Users\\emanu\\.virtualenvs\\DM2-HUE9YkAX\\Lib\\site-packages\\keras\\utils\\traceback_utils.py\", line 70, in error_handler\n",
      "    raise e.with_traceback(filtered_tb) from None\n",
      "  File \"C:\\Users\\emanu\\.virtualenvs\\DM2-HUE9YkAX\\Lib\\site-packages\\keras\\layers\\convolutional\\base_conv.py\", line 354, in compute_output_shape\n",
      "    raise ValueError(\n",
      "ValueError: One of the dimensions in the output is <= 0 due to downsampling in extra_conv_1. Consider increasing the input size. Received input shape [None, 7, 7] which would produce output shape with a zero or negative value in a dimension.\n",
      "[W 2023-06-30 16:19:27,524] Trial 117 failed with value None.\n"
     ]
    },
    {
     "name": "stdout",
     "output_type": "stream",
     "text": [
      "Running little bitch having n_conv=3, dropout=0.05215413160517023, hidden_nodes=76\n",
      "Running little bitch having n_conv=2, dropout=0.04881684334668941, hidden_nodes=82\n",
      "Running little bitch having n_conv=2, dropout=0.05186342202211974, hidden_nodes=71\n"
     ]
    },
    {
     "name": "stderr",
     "output_type": "stream",
     "text": [
      "[W 2023-06-30 16:19:27,881] Trial 119 failed with parameters: {'n_conv': 2, 'n_hidden': 3, 'hidden_nodes': 82, 'dropout': 0.04881684334668941, 'filters': 7, 'kernel_size': 11, 'batch_size': 33, 'epochs': 68} because of the following error: ValueError('One of the dimensions in the output is <= 0 due to downsampling in extra_conv_1. Consider increasing the input size. Received input shape [None, 7, 7] which would produce output shape with a zero or negative value in a dimension.').\n",
      "Traceback (most recent call last):\n",
      "  File \"C:\\Users\\emanu\\.virtualenvs\\DM2-HUE9YkAX\\Lib\\site-packages\\optuna\\study\\_optimize.py\", line 200, in _run_trial\n",
      "    value_or_values = func(trial)\n",
      "                      ^^^^^^^^^^^\n",
      "  File \"C:\\Users\\emanu\\AppData\\Local\\Temp\\ipykernel_19432\\1072382922.py\", line 34, in <lambda>\n",
      "    trial_function = lambda trial: objective_fun(trial,\n",
      "                                  ^^^^^^^^^^^^^^^^^^^^^\n",
      "  File \"C:\\Users\\emanu\\AppData\\Local\\Temp\\ipykernel_19432\\1072382922.py\", line 15, in objective_fun\n",
      "    cnn = build_model(  X.shape[1:], len(np.unique(y)),\n",
      "          ^^^^^^^^^^^^^^^^^^^^^^^^^^^^^^^^^^^^^^^^^^^^^\n",
      "  File \"C:\\Users\\emanu\\AppData\\Local\\Temp\\ipykernel_19432\\1937663146.py\", line 27, in build_model\n",
      "    model.add(Conv1D(filters=filters, kernel_size=kernel_size, activation='relu', name=f\"extra_conv_{i}\"))\n",
      "  File \"C:\\Users\\emanu\\.virtualenvs\\DM2-HUE9YkAX\\Lib\\site-packages\\tensorflow\\python\\trackable\\base.py\", line 205, in _method_wrapper\n",
      "    result = method(self, *args, **kwargs)\n",
      "             ^^^^^^^^^^^^^^^^^^^^^^^^^^^^^\n",
      "  File \"C:\\Users\\emanu\\.virtualenvs\\DM2-HUE9YkAX\\Lib\\site-packages\\keras\\utils\\traceback_utils.py\", line 70, in error_handler\n",
      "    raise e.with_traceback(filtered_tb) from None\n",
      "  File \"C:\\Users\\emanu\\.virtualenvs\\DM2-HUE9YkAX\\Lib\\site-packages\\keras\\layers\\convolutional\\base_conv.py\", line 354, in compute_output_shape\n",
      "    raise ValueError(\n",
      "ValueError: One of the dimensions in the output is <= 0 due to downsampling in extra_conv_1. Consider increasing the input size. Received input shape [None, 7, 7] which would produce output shape with a zero or negative value in a dimension.\n",
      "[W 2023-06-30 16:19:27,898] Trial 119 failed with value None.\n",
      "[W 2023-06-30 16:19:27,907] Trial 118 failed with parameters: {'n_conv': 3, 'n_hidden': 3, 'hidden_nodes': 76, 'dropout': 0.05215413160517023, 'filters': 7, 'kernel_size': 11, 'batch_size': 34, 'epochs': 68} because of the following error: ValueError('One of the dimensions in the output is <= 0 due to downsampling in extra_conv_1. Consider increasing the input size. Received input shape [None, 7, 7] which would produce output shape with a zero or negative value in a dimension.').\n",
      "Traceback (most recent call last):\n",
      "  File \"C:\\Users\\emanu\\.virtualenvs\\DM2-HUE9YkAX\\Lib\\site-packages\\optuna\\study\\_optimize.py\", line 200, in _run_trial\n",
      "    value_or_values = func(trial)\n",
      "                      ^^^^^^^^^^^\n",
      "  File \"C:\\Users\\emanu\\AppData\\Local\\Temp\\ipykernel_19432\\1072382922.py\", line 34, in <lambda>\n",
      "    trial_function = lambda trial: objective_fun(trial,\n",
      "                                  ^^^^^^^^^^^^^^^^^^^^^\n",
      "  File \"C:\\Users\\emanu\\AppData\\Local\\Temp\\ipykernel_19432\\1072382922.py\", line 15, in objective_fun\n",
      "    cnn = build_model(  X.shape[1:], len(np.unique(y)),\n",
      "          ^^^^^^^^^^^^^^^^^^^^^^^^^^^^^^^^^^^^^^^^^^^^^\n",
      "  File \"C:\\Users\\emanu\\AppData\\Local\\Temp\\ipykernel_19432\\1937663146.py\", line 27, in build_model\n",
      "    model.add(Conv1D(filters=filters, kernel_size=kernel_size, activation='relu', name=f\"extra_conv_{i}\"))\n",
      "  File \"C:\\Users\\emanu\\.virtualenvs\\DM2-HUE9YkAX\\Lib\\site-packages\\tensorflow\\python\\trackable\\base.py\", line 205, in _method_wrapper\n",
      "    result = method(self, *args, **kwargs)\n",
      "             ^^^^^^^^^^^^^^^^^^^^^^^^^^^^^\n",
      "  File \"C:\\Users\\emanu\\.virtualenvs\\DM2-HUE9YkAX\\Lib\\site-packages\\keras\\utils\\traceback_utils.py\", line 70, in error_handler\n",
      "    raise e.with_traceback(filtered_tb) from None\n",
      "  File \"C:\\Users\\emanu\\.virtualenvs\\DM2-HUE9YkAX\\Lib\\site-packages\\keras\\layers\\convolutional\\base_conv.py\", line 354, in compute_output_shape\n",
      "    raise ValueError(\n",
      "ValueError: One of the dimensions in the output is <= 0 due to downsampling in extra_conv_1. Consider increasing the input size. Received input shape [None, 7, 7] which would produce output shape with a zero or negative value in a dimension.\n",
      "[W 2023-06-30 16:19:27,944] Trial 118 failed with value None.\n",
      "[W 2023-06-30 16:19:28,157] Trial 120 failed with parameters: {'n_conv': 2, 'n_hidden': 3, 'hidden_nodes': 71, 'dropout': 0.05186342202211974, 'filters': 7, 'kernel_size': 11, 'batch_size': 34, 'epochs': 70} because of the following error: ValueError('One of the dimensions in the output is <= 0 due to downsampling in extra_conv_1. Consider increasing the input size. Received input shape [None, 7, 7] which would produce output shape with a zero or negative value in a dimension.').\n",
      "Traceback (most recent call last):\n",
      "  File \"C:\\Users\\emanu\\.virtualenvs\\DM2-HUE9YkAX\\Lib\\site-packages\\optuna\\study\\_optimize.py\", line 200, in _run_trial\n",
      "    value_or_values = func(trial)\n",
      "                      ^^^^^^^^^^^\n",
      "  File \"C:\\Users\\emanu\\AppData\\Local\\Temp\\ipykernel_19432\\1072382922.py\", line 34, in <lambda>\n",
      "    trial_function = lambda trial: objective_fun(trial,\n",
      "                                  ^^^^^^^^^^^^^^^^^^^^^\n",
      "  File \"C:\\Users\\emanu\\AppData\\Local\\Temp\\ipykernel_19432\\1072382922.py\", line 15, in objective_fun\n",
      "    cnn = build_model(  X.shape[1:], len(np.unique(y)),\n",
      "          ^^^^^^^^^^^^^^^^^^^^^^^^^^^^^^^^^^^^^^^^^^^^^\n",
      "  File \"C:\\Users\\emanu\\AppData\\Local\\Temp\\ipykernel_19432\\1937663146.py\", line 27, in build_model\n",
      "    model.add(Conv1D(filters=filters, kernel_size=kernel_size, activation='relu', name=f\"extra_conv_{i}\"))\n",
      "  File \"C:\\Users\\emanu\\.virtualenvs\\DM2-HUE9YkAX\\Lib\\site-packages\\tensorflow\\python\\trackable\\base.py\", line 205, in _method_wrapper\n",
      "    result = method(self, *args, **kwargs)\n",
      "             ^^^^^^^^^^^^^^^^^^^^^^^^^^^^^\n",
      "  File \"C:\\Users\\emanu\\.virtualenvs\\DM2-HUE9YkAX\\Lib\\site-packages\\keras\\utils\\traceback_utils.py\", line 70, in error_handler\n",
      "    raise e.with_traceback(filtered_tb) from None\n",
      "  File \"C:\\Users\\emanu\\.virtualenvs\\DM2-HUE9YkAX\\Lib\\site-packages\\keras\\layers\\convolutional\\base_conv.py\", line 354, in compute_output_shape\n",
      "    raise ValueError(\n",
      "ValueError: One of the dimensions in the output is <= 0 due to downsampling in extra_conv_1. Consider increasing the input size. Received input shape [None, 7, 7] which would produce output shape with a zero or negative value in a dimension.\n",
      "[W 2023-06-30 16:19:28,174] Trial 120 failed with value None.\n"
     ]
    },
    {
     "name": "stdout",
     "output_type": "stream",
     "text": [
      "Running little bitch having n_conv=2, dropout=0.04726534402112554, hidden_nodes=73\n",
      "Running little bitch having n_conv=2, dropout=0.04817452371486265, hidden_nodes=68\n",
      "Running little bitch having n_conv=2, dropout=0.050061146027602206, hidden_nodes=52\n"
     ]
    },
    {
     "name": "stderr",
     "output_type": "stream",
     "text": [
      "[W 2023-06-30 16:19:28,529] Trial 121 failed with parameters: {'n_conv': 2, 'n_hidden': 3, 'hidden_nodes': 73, 'dropout': 0.04726534402112554, 'filters': 7, 'kernel_size': 11, 'batch_size': 33, 'epochs': 70} because of the following error: ValueError('One of the dimensions in the output is <= 0 due to downsampling in extra_conv_1. Consider increasing the input size. Received input shape [None, 7, 7] which would produce output shape with a zero or negative value in a dimension.').\n",
      "Traceback (most recent call last):\n",
      "  File \"C:\\Users\\emanu\\.virtualenvs\\DM2-HUE9YkAX\\Lib\\site-packages\\optuna\\study\\_optimize.py\", line 200, in _run_trial\n",
      "    value_or_values = func(trial)\n",
      "                      ^^^^^^^^^^^\n",
      "  File \"C:\\Users\\emanu\\AppData\\Local\\Temp\\ipykernel_19432\\1072382922.py\", line 34, in <lambda>\n",
      "    trial_function = lambda trial: objective_fun(trial,\n",
      "                                  ^^^^^^^^^^^^^^^^^^^^^\n",
      "  File \"C:\\Users\\emanu\\AppData\\Local\\Temp\\ipykernel_19432\\1072382922.py\", line 15, in objective_fun\n",
      "    cnn = build_model(  X.shape[1:], len(np.unique(y)),\n",
      "          ^^^^^^^^^^^^^^^^^^^^^^^^^^^^^^^^^^^^^^^^^^^^^\n",
      "  File \"C:\\Users\\emanu\\AppData\\Local\\Temp\\ipykernel_19432\\1937663146.py\", line 27, in build_model\n",
      "    model.add(Conv1D(filters=filters, kernel_size=kernel_size, activation='relu', name=f\"extra_conv_{i}\"))\n",
      "  File \"C:\\Users\\emanu\\.virtualenvs\\DM2-HUE9YkAX\\Lib\\site-packages\\tensorflow\\python\\trackable\\base.py\", line 205, in _method_wrapper\n",
      "    result = method(self, *args, **kwargs)\n",
      "             ^^^^^^^^^^^^^^^^^^^^^^^^^^^^^\n",
      "  File \"C:\\Users\\emanu\\.virtualenvs\\DM2-HUE9YkAX\\Lib\\site-packages\\keras\\utils\\traceback_utils.py\", line 70, in error_handler\n",
      "    raise e.with_traceback(filtered_tb) from None\n",
      "  File \"C:\\Users\\emanu\\.virtualenvs\\DM2-HUE9YkAX\\Lib\\site-packages\\keras\\layers\\convolutional\\base_conv.py\", line 354, in compute_output_shape\n",
      "    raise ValueError(\n",
      "ValueError: One of the dimensions in the output is <= 0 due to downsampling in extra_conv_1. Consider increasing the input size. Received input shape [None, 7, 7] which would produce output shape with a zero or negative value in a dimension.\n",
      "[W 2023-06-30 16:19:28,531] Trial 122 failed with parameters: {'n_conv': 2, 'n_hidden': 3, 'hidden_nodes': 68, 'dropout': 0.04817452371486265, 'filters': 7, 'kernel_size': 11, 'batch_size': 33, 'epochs': 76} because of the following error: ValueError('One of the dimensions in the output is <= 0 due to downsampling in extra_conv_1. Consider increasing the input size. Received input shape [None, 7, 7] which would produce output shape with a zero or negative value in a dimension.').\n",
      "Traceback (most recent call last):\n",
      "  File \"C:\\Users\\emanu\\.virtualenvs\\DM2-HUE9YkAX\\Lib\\site-packages\\optuna\\study\\_optimize.py\", line 200, in _run_trial\n",
      "    value_or_values = func(trial)\n",
      "                      ^^^^^^^^^^^\n",
      "  File \"C:\\Users\\emanu\\AppData\\Local\\Temp\\ipykernel_19432\\1072382922.py\", line 34, in <lambda>\n",
      "    trial_function = lambda trial: objective_fun(trial,\n",
      "                                  ^^^^^^^^^^^^^^^^^^^^^\n",
      "  File \"C:\\Users\\emanu\\AppData\\Local\\Temp\\ipykernel_19432\\1072382922.py\", line 15, in objective_fun\n",
      "    cnn = build_model(  X.shape[1:], len(np.unique(y)),\n",
      "          ^^^^^^^^^^^^^^^^^^^^^^^^^^^^^^^^^^^^^^^^^^^^^\n",
      "  File \"C:\\Users\\emanu\\AppData\\Local\\Temp\\ipykernel_19432\\1937663146.py\", line 27, in build_model\n",
      "    model.add(Conv1D(filters=filters, kernel_size=kernel_size, activation='relu', name=f\"extra_conv_{i}\"))\n",
      "  File \"C:\\Users\\emanu\\.virtualenvs\\DM2-HUE9YkAX\\Lib\\site-packages\\tensorflow\\python\\trackable\\base.py\", line 205, in _method_wrapper\n",
      "    result = method(self, *args, **kwargs)\n",
      "             ^^^^^^^^^^^^^^^^^^^^^^^^^^^^^\n",
      "  File \"C:\\Users\\emanu\\.virtualenvs\\DM2-HUE9YkAX\\Lib\\site-packages\\keras\\utils\\traceback_utils.py\", line 70, in error_handler\n",
      "    raise e.with_traceback(filtered_tb) from None\n",
      "  File \"C:\\Users\\emanu\\.virtualenvs\\DM2-HUE9YkAX\\Lib\\site-packages\\keras\\layers\\convolutional\\base_conv.py\", line 354, in compute_output_shape\n",
      "    raise ValueError(\n",
      "ValueError: One of the dimensions in the output is <= 0 due to downsampling in extra_conv_1. Consider increasing the input size. Received input shape [None, 7, 7] which would produce output shape with a zero or negative value in a dimension.\n",
      "[W 2023-06-30 16:19:28,539] Trial 121 failed with value None.\n",
      "[W 2023-06-30 16:19:28,554] Trial 122 failed with value None.\n",
      "[W 2023-06-30 16:19:28,782] Trial 123 failed with parameters: {'n_conv': 2, 'n_hidden': 3, 'hidden_nodes': 52, 'dropout': 0.050061146027602206, 'filters': 7, 'kernel_size': 11, 'batch_size': 31, 'epochs': 67} because of the following error: ValueError('One of the dimensions in the output is <= 0 due to downsampling in extra_conv_1. Consider increasing the input size. Received input shape [None, 7, 7] which would produce output shape with a zero or negative value in a dimension.').\n",
      "Traceback (most recent call last):\n",
      "  File \"C:\\Users\\emanu\\.virtualenvs\\DM2-HUE9YkAX\\Lib\\site-packages\\optuna\\study\\_optimize.py\", line 200, in _run_trial\n",
      "    value_or_values = func(trial)\n",
      "                      ^^^^^^^^^^^\n",
      "  File \"C:\\Users\\emanu\\AppData\\Local\\Temp\\ipykernel_19432\\1072382922.py\", line 34, in <lambda>\n",
      "    trial_function = lambda trial: objective_fun(trial,\n",
      "                                  ^^^^^^^^^^^^^^^^^^^^^\n",
      "  File \"C:\\Users\\emanu\\AppData\\Local\\Temp\\ipykernel_19432\\1072382922.py\", line 15, in objective_fun\n",
      "    cnn = build_model(  X.shape[1:], len(np.unique(y)),\n",
      "          ^^^^^^^^^^^^^^^^^^^^^^^^^^^^^^^^^^^^^^^^^^^^^\n",
      "  File \"C:\\Users\\emanu\\AppData\\Local\\Temp\\ipykernel_19432\\1937663146.py\", line 27, in build_model\n",
      "    model.add(Conv1D(filters=filters, kernel_size=kernel_size, activation='relu', name=f\"extra_conv_{i}\"))\n",
      "  File \"C:\\Users\\emanu\\.virtualenvs\\DM2-HUE9YkAX\\Lib\\site-packages\\tensorflow\\python\\trackable\\base.py\", line 205, in _method_wrapper\n",
      "    result = method(self, *args, **kwargs)\n",
      "             ^^^^^^^^^^^^^^^^^^^^^^^^^^^^^\n",
      "  File \"C:\\Users\\emanu\\.virtualenvs\\DM2-HUE9YkAX\\Lib\\site-packages\\keras\\utils\\traceback_utils.py\", line 70, in error_handler\n",
      "    raise e.with_traceback(filtered_tb) from None\n",
      "  File \"C:\\Users\\emanu\\.virtualenvs\\DM2-HUE9YkAX\\Lib\\site-packages\\keras\\layers\\convolutional\\base_conv.py\", line 354, in compute_output_shape\n",
      "    raise ValueError(\n",
      "ValueError: One of the dimensions in the output is <= 0 due to downsampling in extra_conv_1. Consider increasing the input size. Received input shape [None, 7, 7] which would produce output shape with a zero or negative value in a dimension.\n",
      "[W 2023-06-30 16:19:28,792] Trial 123 failed with value None.\n"
     ]
    },
    {
     "name": "stdout",
     "output_type": "stream",
     "text": [
      "Running little bitch having n_conv=2, dropout=0.0009155607339515898, hidden_nodes=79\n",
      "Running little bitch having n_conv=2, dropout=0.052128735230600326, hidden_nodes=66\n",
      "Running little bitch having n_conv=2, dropout=0.05256488059624502, hidden_nodes=85\n"
     ]
    },
    {
     "name": "stderr",
     "output_type": "stream",
     "text": [
      "[W 2023-06-30 16:19:29,448] Trial 125 failed with parameters: {'n_conv': 2, 'n_hidden': 3, 'hidden_nodes': 66, 'dropout': 0.052128735230600326, 'filters': 7, 'kernel_size': 11, 'batch_size': 31, 'epochs': 72} because of the following error: ValueError('One of the dimensions in the output is <= 0 due to downsampling in extra_conv_1. Consider increasing the input size. Received input shape [None, 7, 7] which would produce output shape with a zero or negative value in a dimension.').\n",
      "Traceback (most recent call last):\n",
      "  File \"C:\\Users\\emanu\\.virtualenvs\\DM2-HUE9YkAX\\Lib\\site-packages\\optuna\\study\\_optimize.py\", line 200, in _run_trial\n",
      "    value_or_values = func(trial)\n",
      "                      ^^^^^^^^^^^\n",
      "  File \"C:\\Users\\emanu\\AppData\\Local\\Temp\\ipykernel_19432\\1072382922.py\", line 34, in <lambda>\n",
      "    trial_function = lambda trial: objective_fun(trial,\n",
      "                                  ^^^^^^^^^^^^^^^^^^^^^\n",
      "  File \"C:\\Users\\emanu\\AppData\\Local\\Temp\\ipykernel_19432\\1072382922.py\", line 15, in objective_fun\n",
      "    cnn = build_model(  X.shape[1:], len(np.unique(y)),\n",
      "          ^^^^^^^^^^^^^^^^^^^^^^^^^^^^^^^^^^^^^^^^^^^^^\n",
      "  File \"C:\\Users\\emanu\\AppData\\Local\\Temp\\ipykernel_19432\\1937663146.py\", line 27, in build_model\n",
      "    model.add(Conv1D(filters=filters, kernel_size=kernel_size, activation='relu', name=f\"extra_conv_{i}\"))\n",
      "  File \"C:\\Users\\emanu\\.virtualenvs\\DM2-HUE9YkAX\\Lib\\site-packages\\tensorflow\\python\\trackable\\base.py\", line 205, in _method_wrapper\n",
      "    result = method(self, *args, **kwargs)\n",
      "             ^^^^^^^^^^^^^^^^^^^^^^^^^^^^^\n",
      "  File \"C:\\Users\\emanu\\.virtualenvs\\DM2-HUE9YkAX\\Lib\\site-packages\\keras\\utils\\traceback_utils.py\", line 70, in error_handler\n",
      "    raise e.with_traceback(filtered_tb) from None\n",
      "  File \"C:\\Users\\emanu\\.virtualenvs\\DM2-HUE9YkAX\\Lib\\site-packages\\keras\\layers\\convolutional\\base_conv.py\", line 354, in compute_output_shape\n",
      "    raise ValueError(\n",
      "ValueError: One of the dimensions in the output is <= 0 due to downsampling in extra_conv_1. Consider increasing the input size. Received input shape [None, 7, 7] which would produce output shape with a zero or negative value in a dimension.\n",
      "[W 2023-06-30 16:19:29,496] Trial 125 failed with value None.\n",
      "[W 2023-06-30 16:19:29,517] Trial 124 failed with parameters: {'n_conv': 2, 'n_hidden': 3, 'hidden_nodes': 79, 'dropout': 0.0009155607339515898, 'filters': 7, 'kernel_size': 11, 'batch_size': 34, 'epochs': 69} because of the following error: ValueError('One of the dimensions in the output is <= 0 due to downsampling in extra_conv_1. Consider increasing the input size. Received input shape [None, 7, 7] which would produce output shape with a zero or negative value in a dimension.').\n",
      "Traceback (most recent call last):\n",
      "  File \"C:\\Users\\emanu\\.virtualenvs\\DM2-HUE9YkAX\\Lib\\site-packages\\optuna\\study\\_optimize.py\", line 200, in _run_trial\n",
      "    value_or_values = func(trial)\n",
      "                      ^^^^^^^^^^^\n",
      "  File \"C:\\Users\\emanu\\AppData\\Local\\Temp\\ipykernel_19432\\1072382922.py\", line 34, in <lambda>\n",
      "    trial_function = lambda trial: objective_fun(trial,\n",
      "                                  ^^^^^^^^^^^^^^^^^^^^^\n",
      "  File \"C:\\Users\\emanu\\AppData\\Local\\Temp\\ipykernel_19432\\1072382922.py\", line 15, in objective_fun\n",
      "    cnn = build_model(  X.shape[1:], len(np.unique(y)),\n",
      "          ^^^^^^^^^^^^^^^^^^^^^^^^^^^^^^^^^^^^^^^^^^^^^\n",
      "  File \"C:\\Users\\emanu\\AppData\\Local\\Temp\\ipykernel_19432\\1937663146.py\", line 27, in build_model\n",
      "    model.add(Conv1D(filters=filters, kernel_size=kernel_size, activation='relu', name=f\"extra_conv_{i}\"))\n",
      "  File \"C:\\Users\\emanu\\.virtualenvs\\DM2-HUE9YkAX\\Lib\\site-packages\\tensorflow\\python\\trackable\\base.py\", line 205, in _method_wrapper\n",
      "    result = method(self, *args, **kwargs)\n",
      "             ^^^^^^^^^^^^^^^^^^^^^^^^^^^^^\n",
      "  File \"C:\\Users\\emanu\\.virtualenvs\\DM2-HUE9YkAX\\Lib\\site-packages\\keras\\utils\\traceback_utils.py\", line 70, in error_handler\n",
      "    raise e.with_traceback(filtered_tb) from None\n",
      "  File \"C:\\Users\\emanu\\.virtualenvs\\DM2-HUE9YkAX\\Lib\\site-packages\\keras\\layers\\convolutional\\base_conv.py\", line 354, in compute_output_shape\n",
      "    raise ValueError(\n",
      "ValueError: One of the dimensions in the output is <= 0 due to downsampling in extra_conv_1. Consider increasing the input size. Received input shape [None, 7, 7] which would produce output shape with a zero or negative value in a dimension.\n",
      "[W 2023-06-30 16:19:29,614] Trial 124 failed with value None.\n",
      "[W 2023-06-30 16:19:29,850] Trial 126 failed with parameters: {'n_conv': 2, 'n_hidden': 3, 'hidden_nodes': 85, 'dropout': 0.05256488059624502, 'filters': 7, 'kernel_size': 11, 'batch_size': 33, 'epochs': 71} because of the following error: ValueError('One of the dimensions in the output is <= 0 due to downsampling in extra_conv_1. Consider increasing the input size. Received input shape [None, 7, 7] which would produce output shape with a zero or negative value in a dimension.').\n",
      "Traceback (most recent call last):\n",
      "  File \"C:\\Users\\emanu\\.virtualenvs\\DM2-HUE9YkAX\\Lib\\site-packages\\optuna\\study\\_optimize.py\", line 200, in _run_trial\n",
      "    value_or_values = func(trial)\n",
      "                      ^^^^^^^^^^^\n",
      "  File \"C:\\Users\\emanu\\AppData\\Local\\Temp\\ipykernel_19432\\1072382922.py\", line 34, in <lambda>\n",
      "    trial_function = lambda trial: objective_fun(trial,\n",
      "                                  ^^^^^^^^^^^^^^^^^^^^^\n",
      "  File \"C:\\Users\\emanu\\AppData\\Local\\Temp\\ipykernel_19432\\1072382922.py\", line 15, in objective_fun\n",
      "    cnn = build_model(  X.shape[1:], len(np.unique(y)),\n",
      "          ^^^^^^^^^^^^^^^^^^^^^^^^^^^^^^^^^^^^^^^^^^^^^\n",
      "  File \"C:\\Users\\emanu\\AppData\\Local\\Temp\\ipykernel_19432\\1937663146.py\", line 27, in build_model\n",
      "    model.add(Conv1D(filters=filters, kernel_size=kernel_size, activation='relu', name=f\"extra_conv_{i}\"))\n",
      "  File \"C:\\Users\\emanu\\.virtualenvs\\DM2-HUE9YkAX\\Lib\\site-packages\\tensorflow\\python\\trackable\\base.py\", line 205, in _method_wrapper\n",
      "    result = method(self, *args, **kwargs)\n",
      "             ^^^^^^^^^^^^^^^^^^^^^^^^^^^^^\n",
      "  File \"C:\\Users\\emanu\\.virtualenvs\\DM2-HUE9YkAX\\Lib\\site-packages\\keras\\utils\\traceback_utils.py\", line 70, in error_handler\n",
      "    raise e.with_traceback(filtered_tb) from None\n",
      "  File \"C:\\Users\\emanu\\.virtualenvs\\DM2-HUE9YkAX\\Lib\\site-packages\\keras\\layers\\convolutional\\base_conv.py\", line 354, in compute_output_shape\n",
      "    raise ValueError(\n",
      "ValueError: One of the dimensions in the output is <= 0 due to downsampling in extra_conv_1. Consider increasing the input size. Received input shape [None, 7, 7] which would produce output shape with a zero or negative value in a dimension.\n",
      "[W 2023-06-30 16:19:29,870] Trial 126 failed with value None.\n"
     ]
    },
    {
     "name": "stdout",
     "output_type": "stream",
     "text": [
      "Running little bitch having n_conv=2, dropout=0.05176856400298159, hidden_nodes=88\n",
      "Running little bitch having n_conv=2, dropout=0.05091578952144017, hidden_nodes=99\n",
      " 3/13 [=====>........................] - ETA: 0s Running little bitch having n_conv=2, dropout=0.0007118872602316639, hidden_nodes=67\n",
      "13/13 [==============================] - 1s 22ms/step\n"
     ]
    },
    {
     "name": "stderr",
     "output_type": "stream",
     "text": [
      "[I 2023-06-30 16:19:30,451] Trial 19 finished with value: 0.9612403100775194 and parameters: {'n_conv': 0, 'n_hidden': 2, 'hidden_nodes': 84, 'dropout': 0.004037746213558147, 'filters': 5, 'kernel_size': 7, 'batch_size': 61, 'epochs': 61}. Best is trial 12 with value: 0.9844961240310077.\n",
      "[W 2023-06-30 16:19:30,573] Trial 127 failed with parameters: {'n_conv': 2, 'n_hidden': 3, 'hidden_nodes': 88, 'dropout': 0.05176856400298159, 'filters': 7, 'kernel_size': 11, 'batch_size': 33, 'epochs': 69} because of the following error: ValueError('One of the dimensions in the output is <= 0 due to downsampling in extra_conv_1. Consider increasing the input size. Received input shape [None, 7, 7] which would produce output shape with a zero or negative value in a dimension.').\n",
      "Traceback (most recent call last):\n",
      "  File \"C:\\Users\\emanu\\.virtualenvs\\DM2-HUE9YkAX\\Lib\\site-packages\\optuna\\study\\_optimize.py\", line 200, in _run_trial\n",
      "    value_or_values = func(trial)\n",
      "                      ^^^^^^^^^^^\n",
      "  File \"C:\\Users\\emanu\\AppData\\Local\\Temp\\ipykernel_19432\\1072382922.py\", line 34, in <lambda>\n",
      "    trial_function = lambda trial: objective_fun(trial,\n",
      "                                  ^^^^^^^^^^^^^^^^^^^^^\n",
      "  File \"C:\\Users\\emanu\\AppData\\Local\\Temp\\ipykernel_19432\\1072382922.py\", line 15, in objective_fun\n",
      "    cnn = build_model(  X.shape[1:], len(np.unique(y)),\n",
      "          ^^^^^^^^^^^^^^^^^^^^^^^^^^^^^^^^^^^^^^^^^^^^^\n",
      "  File \"C:\\Users\\emanu\\AppData\\Local\\Temp\\ipykernel_19432\\1937663146.py\", line 27, in build_model\n",
      "    model.add(Conv1D(filters=filters, kernel_size=kernel_size, activation='relu', name=f\"extra_conv_{i}\"))\n",
      "  File \"C:\\Users\\emanu\\.virtualenvs\\DM2-HUE9YkAX\\Lib\\site-packages\\tensorflow\\python\\trackable\\base.py\", line 205, in _method_wrapper\n",
      "    result = method(self, *args, **kwargs)\n",
      "             ^^^^^^^^^^^^^^^^^^^^^^^^^^^^^\n",
      "  File \"C:\\Users\\emanu\\.virtualenvs\\DM2-HUE9YkAX\\Lib\\site-packages\\keras\\utils\\traceback_utils.py\", line 70, in error_handler\n",
      "    raise e.with_traceback(filtered_tb) from None\n",
      "  File \"C:\\Users\\emanu\\.virtualenvs\\DM2-HUE9YkAX\\Lib\\site-packages\\keras\\layers\\convolutional\\base_conv.py\", line 354, in compute_output_shape\n",
      "    raise ValueError(\n",
      "ValueError: One of the dimensions in the output is <= 0 due to downsampling in extra_conv_1. Consider increasing the input size. Received input shape [None, 7, 7] which would produce output shape with a zero or negative value in a dimension.\n",
      "[W 2023-06-30 16:19:30,630] Trial 128 failed with parameters: {'n_conv': 2, 'n_hidden': 3, 'hidden_nodes': 99, 'dropout': 0.05091578952144017, 'filters': 7, 'kernel_size': 11, 'batch_size': 33, 'epochs': 66} because of the following error: ValueError('One of the dimensions in the output is <= 0 due to downsampling in extra_conv_1. Consider increasing the input size. Received input shape [None, 7, 7] which would produce output shape with a zero or negative value in a dimension.').\n",
      "Traceback (most recent call last):\n",
      "  File \"C:\\Users\\emanu\\.virtualenvs\\DM2-HUE9YkAX\\Lib\\site-packages\\optuna\\study\\_optimize.py\", line 200, in _run_trial\n",
      "    value_or_values = func(trial)\n",
      "                      ^^^^^^^^^^^\n",
      "  File \"C:\\Users\\emanu\\AppData\\Local\\Temp\\ipykernel_19432\\1072382922.py\", line 34, in <lambda>\n",
      "    trial_function = lambda trial: objective_fun(trial,\n",
      "                                  ^^^^^^^^^^^^^^^^^^^^^\n",
      "  File \"C:\\Users\\emanu\\AppData\\Local\\Temp\\ipykernel_19432\\1072382922.py\", line 15, in objective_fun\n",
      "    cnn = build_model(  X.shape[1:], len(np.unique(y)),\n",
      "          ^^^^^^^^^^^^^^^^^^^^^^^^^^^^^^^^^^^^^^^^^^^^^\n",
      "  File \"C:\\Users\\emanu\\AppData\\Local\\Temp\\ipykernel_19432\\1937663146.py\", line 27, in build_model\n",
      "    model.add(Conv1D(filters=filters, kernel_size=kernel_size, activation='relu', name=f\"extra_conv_{i}\"))\n",
      "  File \"C:\\Users\\emanu\\.virtualenvs\\DM2-HUE9YkAX\\Lib\\site-packages\\tensorflow\\python\\trackable\\base.py\", line 205, in _method_wrapper\n",
      "    result = method(self, *args, **kwargs)\n",
      "             ^^^^^^^^^^^^^^^^^^^^^^^^^^^^^\n",
      "  File \"C:\\Users\\emanu\\.virtualenvs\\DM2-HUE9YkAX\\Lib\\site-packages\\keras\\utils\\traceback_utils.py\", line 70, in error_handler\n",
      "    raise e.with_traceback(filtered_tb) from None\n",
      "  File \"C:\\Users\\emanu\\.virtualenvs\\DM2-HUE9YkAX\\Lib\\site-packages\\keras\\layers\\convolutional\\base_conv.py\", line 354, in compute_output_shape\n",
      "    raise ValueError(\n",
      "ValueError: One of the dimensions in the output is <= 0 due to downsampling in extra_conv_1. Consider increasing the input size. Received input shape [None, 7, 7] which would produce output shape with a zero or negative value in a dimension.\n",
      "[W 2023-06-30 16:19:30,730] Trial 128 failed with value None.\n",
      "[W 2023-06-30 16:19:30,679] Trial 127 failed with value None.\n"
     ]
    },
    {
     "name": "stdout",
     "output_type": "stream",
     "text": [
      "Running little bitch having n_conv=2, dropout=0.05042279874590949, hidden_nodes=103\n"
     ]
    },
    {
     "name": "stderr",
     "output_type": "stream",
     "text": [
      "[W 2023-06-30 16:19:30,939] Trial 129 failed with parameters: {'n_conv': 2, 'n_hidden': 3, 'hidden_nodes': 67, 'dropout': 0.0007118872602316639, 'filters': 7, 'kernel_size': 11, 'batch_size': 33, 'epochs': 72} because of the following error: ValueError('One of the dimensions in the output is <= 0 due to downsampling in extra_conv_1. Consider increasing the input size. Received input shape [None, 7, 7] which would produce output shape with a zero or negative value in a dimension.').\n",
      "Traceback (most recent call last):\n",
      "  File \"C:\\Users\\emanu\\.virtualenvs\\DM2-HUE9YkAX\\Lib\\site-packages\\optuna\\study\\_optimize.py\", line 200, in _run_trial\n",
      "    value_or_values = func(trial)\n",
      "                      ^^^^^^^^^^^\n",
      "  File \"C:\\Users\\emanu\\AppData\\Local\\Temp\\ipykernel_19432\\1072382922.py\", line 34, in <lambda>\n",
      "    trial_function = lambda trial: objective_fun(trial,\n",
      "                                  ^^^^^^^^^^^^^^^^^^^^^\n",
      "  File \"C:\\Users\\emanu\\AppData\\Local\\Temp\\ipykernel_19432\\1072382922.py\", line 15, in objective_fun\n",
      "    cnn = build_model(  X.shape[1:], len(np.unique(y)),\n",
      "          ^^^^^^^^^^^^^^^^^^^^^^^^^^^^^^^^^^^^^^^^^^^^^\n",
      "  File \"C:\\Users\\emanu\\AppData\\Local\\Temp\\ipykernel_19432\\1937663146.py\", line 27, in build_model\n",
      "    model.add(Conv1D(filters=filters, kernel_size=kernel_size, activation='relu', name=f\"extra_conv_{i}\"))\n",
      "  File \"C:\\Users\\emanu\\.virtualenvs\\DM2-HUE9YkAX\\Lib\\site-packages\\tensorflow\\python\\trackable\\base.py\", line 205, in _method_wrapper\n",
      "    result = method(self, *args, **kwargs)\n",
      "             ^^^^^^^^^^^^^^^^^^^^^^^^^^^^^\n",
      "  File \"C:\\Users\\emanu\\.virtualenvs\\DM2-HUE9YkAX\\Lib\\site-packages\\keras\\utils\\traceback_utils.py\", line 70, in error_handler\n",
      "    raise e.with_traceback(filtered_tb) from None\n",
      "  File \"C:\\Users\\emanu\\.virtualenvs\\DM2-HUE9YkAX\\Lib\\site-packages\\keras\\layers\\convolutional\\base_conv.py\", line 354, in compute_output_shape\n",
      "    raise ValueError(\n",
      "ValueError: One of the dimensions in the output is <= 0 due to downsampling in extra_conv_1. Consider increasing the input size. Received input shape [None, 7, 7] which would produce output shape with a zero or negative value in a dimension.\n",
      "[W 2023-06-30 16:19:31,042] Trial 129 failed with value None.\n"
     ]
    },
    {
     "name": "stdout",
     "output_type": "stream",
     "text": [
      "Running little bitch having n_conv=2, dropout=0.050647991392952174, hidden_nodes=97Running little bitch having n_conv=2, dropout=0.05250151226991763, hidden_nodes=85\n",
      "\n",
      "Running little bitch having n_conv=2, dropout=0.05164870206648076, hidden_nodes=93\n"
     ]
    },
    {
     "name": "stderr",
     "output_type": "stream",
     "text": [
      "[W 2023-06-30 16:19:31,671] Trial 130 failed with parameters: {'n_conv': 2, 'n_hidden': 3, 'hidden_nodes': 103, 'dropout': 0.05042279874590949, 'filters': 7, 'kernel_size': 11, 'batch_size': 35, 'epochs': 75} because of the following error: ValueError('One of the dimensions in the output is <= 0 due to downsampling in extra_conv_1. Consider increasing the input size. Received input shape [None, 7, 7] which would produce output shape with a zero or negative value in a dimension.').\n",
      "Traceback (most recent call last):\n",
      "  File \"C:\\Users\\emanu\\.virtualenvs\\DM2-HUE9YkAX\\Lib\\site-packages\\optuna\\study\\_optimize.py\", line 200, in _run_trial\n",
      "    value_or_values = func(trial)\n",
      "                      ^^^^^^^^^^^\n",
      "  File \"C:\\Users\\emanu\\AppData\\Local\\Temp\\ipykernel_19432\\1072382922.py\", line 34, in <lambda>\n",
      "    trial_function = lambda trial: objective_fun(trial,\n",
      "                                  ^^^^^^^^^^^^^^^^^^^^^\n",
      "  File \"C:\\Users\\emanu\\AppData\\Local\\Temp\\ipykernel_19432\\1072382922.py\", line 15, in objective_fun\n",
      "    cnn = build_model(  X.shape[1:], len(np.unique(y)),\n",
      "          ^^^^^^^^^^^^^^^^^^^^^^^^^^^^^^^^^^^^^^^^^^^^^\n",
      "  File \"C:\\Users\\emanu\\AppData\\Local\\Temp\\ipykernel_19432\\1937663146.py\", line 27, in build_model\n",
      "    model.add(Conv1D(filters=filters, kernel_size=kernel_size, activation='relu', name=f\"extra_conv_{i}\"))\n",
      "  File \"C:\\Users\\emanu\\.virtualenvs\\DM2-HUE9YkAX\\Lib\\site-packages\\tensorflow\\python\\trackable\\base.py\", line 205, in _method_wrapper\n",
      "    result = method(self, *args, **kwargs)\n",
      "             ^^^^^^^^^^^^^^^^^^^^^^^^^^^^^\n",
      "  File \"C:\\Users\\emanu\\.virtualenvs\\DM2-HUE9YkAX\\Lib\\site-packages\\keras\\utils\\traceback_utils.py\", line 70, in error_handler\n",
      "    raise e.with_traceback(filtered_tb) from None\n",
      "  File \"C:\\Users\\emanu\\.virtualenvs\\DM2-HUE9YkAX\\Lib\\site-packages\\keras\\layers\\convolutional\\base_conv.py\", line 354, in compute_output_shape\n",
      "    raise ValueError(\n",
      "ValueError: One of the dimensions in the output is <= 0 due to downsampling in extra_conv_1. Consider increasing the input size. Received input shape [None, 7, 7] which would produce output shape with a zero or negative value in a dimension.\n",
      "[W 2023-06-30 16:19:31,710] Trial 130 failed with value None.\n",
      "[W 2023-06-30 16:19:31,800] Trial 132 failed with parameters: {'n_conv': 2, 'n_hidden': 3, 'hidden_nodes': 85, 'dropout': 0.05250151226991763, 'filters': 7, 'kernel_size': 11, 'batch_size': 33, 'epochs': 75} because of the following error: ValueError('One of the dimensions in the output is <= 0 due to downsampling in extra_conv_1. Consider increasing the input size. Received input shape [None, 7, 7] which would produce output shape with a zero or negative value in a dimension.').\n",
      "Traceback (most recent call last):\n",
      "  File \"C:\\Users\\emanu\\.virtualenvs\\DM2-HUE9YkAX\\Lib\\site-packages\\optuna\\study\\_optimize.py\", line 200, in _run_trial\n",
      "    value_or_values = func(trial)\n",
      "                      ^^^^^^^^^^^\n",
      "  File \"C:\\Users\\emanu\\AppData\\Local\\Temp\\ipykernel_19432\\1072382922.py\", line 34, in <lambda>\n",
      "    trial_function = lambda trial: objective_fun(trial,\n",
      "                                  ^^^^^^^^^^^^^^^^^^^^^\n",
      "  File \"C:\\Users\\emanu\\AppData\\Local\\Temp\\ipykernel_19432\\1072382922.py\", line 15, in objective_fun\n",
      "    cnn = build_model(  X.shape[1:], len(np.unique(y)),\n",
      "          ^^^^^^^^^^^^^^^^^^^^^^^^^^^^^^^^^^^^^^^^^^^^^\n",
      "  File \"C:\\Users\\emanu\\AppData\\Local\\Temp\\ipykernel_19432\\1937663146.py\", line 27, in build_model\n",
      "    model.add(Conv1D(filters=filters, kernel_size=kernel_size, activation='relu', name=f\"extra_conv_{i}\"))\n",
      "  File \"C:\\Users\\emanu\\.virtualenvs\\DM2-HUE9YkAX\\Lib\\site-packages\\tensorflow\\python\\trackable\\base.py\", line 205, in _method_wrapper\n",
      "    result = method(self, *args, **kwargs)\n",
      "             ^^^^^^^^^^^^^^^^^^^^^^^^^^^^^\n",
      "  File \"C:\\Users\\emanu\\.virtualenvs\\DM2-HUE9YkAX\\Lib\\site-packages\\keras\\utils\\traceback_utils.py\", line 70, in error_handler\n",
      "    raise e.with_traceback(filtered_tb) from None\n",
      "  File \"C:\\Users\\emanu\\.virtualenvs\\DM2-HUE9YkAX\\Lib\\site-packages\\keras\\layers\\convolutional\\base_conv.py\", line 354, in compute_output_shape\n",
      "    raise ValueError(\n",
      "ValueError: One of the dimensions in the output is <= 0 due to downsampling in extra_conv_1. Consider increasing the input size. Received input shape [None, 7, 7] which would produce output shape with a zero or negative value in a dimension.\n",
      "[W 2023-06-30 16:19:31,850] Trial 132 failed with value None.\n",
      "[W 2023-06-30 16:19:31,989] Trial 131 failed with parameters: {'n_conv': 2, 'n_hidden': 3, 'hidden_nodes': 97, 'dropout': 0.050647991392952174, 'filters': 7, 'kernel_size': 11, 'batch_size': 34, 'epochs': 73} because of the following error: ValueError('One of the dimensions in the output is <= 0 due to downsampling in extra_conv_1. Consider increasing the input size. Received input shape [None, 7, 7] which would produce output shape with a zero or negative value in a dimension.').\n",
      "Traceback (most recent call last):\n",
      "  File \"C:\\Users\\emanu\\.virtualenvs\\DM2-HUE9YkAX\\Lib\\site-packages\\optuna\\study\\_optimize.py\", line 200, in _run_trial\n",
      "    value_or_values = func(trial)\n",
      "                      ^^^^^^^^^^^\n",
      "  File \"C:\\Users\\emanu\\AppData\\Local\\Temp\\ipykernel_19432\\1072382922.py\", line 34, in <lambda>\n",
      "    trial_function = lambda trial: objective_fun(trial,\n",
      "                                  ^^^^^^^^^^^^^^^^^^^^^\n",
      "  File \"C:\\Users\\emanu\\AppData\\Local\\Temp\\ipykernel_19432\\1072382922.py\", line 15, in objective_fun\n",
      "    cnn = build_model(  X.shape[1:], len(np.unique(y)),\n",
      "          ^^^^^^^^^^^^^^^^^^^^^^^^^^^^^^^^^^^^^^^^^^^^^\n",
      "  File \"C:\\Users\\emanu\\AppData\\Local\\Temp\\ipykernel_19432\\1937663146.py\", line 27, in build_model\n",
      "    model.add(Conv1D(filters=filters, kernel_size=kernel_size, activation='relu', name=f\"extra_conv_{i}\"))\n",
      "  File \"C:\\Users\\emanu\\.virtualenvs\\DM2-HUE9YkAX\\Lib\\site-packages\\tensorflow\\python\\trackable\\base.py\", line 205, in _method_wrapper\n",
      "    result = method(self, *args, **kwargs)\n",
      "             ^^^^^^^^^^^^^^^^^^^^^^^^^^^^^\n",
      "  File \"C:\\Users\\emanu\\.virtualenvs\\DM2-HUE9YkAX\\Lib\\site-packages\\keras\\utils\\traceback_utils.py\", line 70, in error_handler\n",
      "    raise e.with_traceback(filtered_tb) from None\n",
      "  File \"C:\\Users\\emanu\\.virtualenvs\\DM2-HUE9YkAX\\Lib\\site-packages\\keras\\layers\\convolutional\\base_conv.py\", line 354, in compute_output_shape\n",
      "    raise ValueError(\n",
      "ValueError: One of the dimensions in the output is <= 0 due to downsampling in extra_conv_1. Consider increasing the input size. Received input shape [None, 7, 7] which would produce output shape with a zero or negative value in a dimension.\n",
      "[W 2023-06-30 16:19:32,041] Trial 131 failed with value None.\n"
     ]
    },
    {
     "name": "stdout",
     "output_type": "stream",
     "text": [
      "Running little bitch having n_conv=2, dropout=0.04291520803524906, hidden_nodes=100\n",
      "Running little bitch having n_conv=2, dropout=0.05147652728123539, hidden_nodes=73\n"
     ]
    },
    {
     "name": "stderr",
     "output_type": "stream",
     "text": [
      "[W 2023-06-30 16:19:32,089] Trial 133 failed with parameters: {'n_conv': 2, 'n_hidden': 3, 'hidden_nodes': 93, 'dropout': 0.05164870206648076, 'filters': 7, 'kernel_size': 11, 'batch_size': 33, 'epochs': 74} because of the following error: ValueError('One of the dimensions in the output is <= 0 due to downsampling in extra_conv_1. Consider increasing the input size. Received input shape [None, 7, 7] which would produce output shape with a zero or negative value in a dimension.').\n",
      "Traceback (most recent call last):\n",
      "  File \"C:\\Users\\emanu\\.virtualenvs\\DM2-HUE9YkAX\\Lib\\site-packages\\optuna\\study\\_optimize.py\", line 200, in _run_trial\n",
      "    value_or_values = func(trial)\n",
      "                      ^^^^^^^^^^^\n",
      "  File \"C:\\Users\\emanu\\AppData\\Local\\Temp\\ipykernel_19432\\1072382922.py\", line 34, in <lambda>\n",
      "    trial_function = lambda trial: objective_fun(trial,\n",
      "                                  ^^^^^^^^^^^^^^^^^^^^^\n",
      "  File \"C:\\Users\\emanu\\AppData\\Local\\Temp\\ipykernel_19432\\1072382922.py\", line 15, in objective_fun\n",
      "    cnn = build_model(  X.shape[1:], len(np.unique(y)),\n",
      "          ^^^^^^^^^^^^^^^^^^^^^^^^^^^^^^^^^^^^^^^^^^^^^\n",
      "  File \"C:\\Users\\emanu\\AppData\\Local\\Temp\\ipykernel_19432\\1937663146.py\", line 27, in build_model\n",
      "    model.add(Conv1D(filters=filters, kernel_size=kernel_size, activation='relu', name=f\"extra_conv_{i}\"))\n",
      "  File \"C:\\Users\\emanu\\.virtualenvs\\DM2-HUE9YkAX\\Lib\\site-packages\\tensorflow\\python\\trackable\\base.py\", line 205, in _method_wrapper\n",
      "    result = method(self, *args, **kwargs)\n",
      "             ^^^^^^^^^^^^^^^^^^^^^^^^^^^^^\n",
      "  File \"C:\\Users\\emanu\\.virtualenvs\\DM2-HUE9YkAX\\Lib\\site-packages\\keras\\utils\\traceback_utils.py\", line 70, in error_handler\n",
      "    raise e.with_traceback(filtered_tb) from None\n",
      "  File \"C:\\Users\\emanu\\.virtualenvs\\DM2-HUE9YkAX\\Lib\\site-packages\\keras\\layers\\convolutional\\base_conv.py\", line 354, in compute_output_shape\n",
      "    raise ValueError(\n",
      "ValueError: One of the dimensions in the output is <= 0 due to downsampling in extra_conv_1. Consider increasing the input size. Received input shape [None, 7, 7] which would produce output shape with a zero or negative value in a dimension.\n",
      "[W 2023-06-30 16:19:32,181] Trial 133 failed with value None.\n"
     ]
    },
    {
     "name": "stdout",
     "output_type": "stream",
     "text": [
      "Running little bitch having n_conv=2, dropout=0.04930074993622628, hidden_nodes=90\n",
      "Running little bitch having n_conv=2, dropout=0.05038777694068776, hidden_nodes=101\n"
     ]
    },
    {
     "name": "stderr",
     "output_type": "stream",
     "text": [
      "[W 2023-06-30 16:19:32,781] Trial 134 failed with parameters: {'n_conv': 2, 'n_hidden': 3, 'hidden_nodes': 100, 'dropout': 0.04291520803524906, 'filters': 7, 'kernel_size': 11, 'batch_size': 35, 'epochs': 75} because of the following error: ValueError('One of the dimensions in the output is <= 0 due to downsampling in extra_conv_1. Consider increasing the input size. Received input shape [None, 7, 7] which would produce output shape with a zero or negative value in a dimension.').\n",
      "Traceback (most recent call last):\n",
      "  File \"C:\\Users\\emanu\\.virtualenvs\\DM2-HUE9YkAX\\Lib\\site-packages\\optuna\\study\\_optimize.py\", line 200, in _run_trial\n",
      "    value_or_values = func(trial)\n",
      "                      ^^^^^^^^^^^\n",
      "  File \"C:\\Users\\emanu\\AppData\\Local\\Temp\\ipykernel_19432\\1072382922.py\", line 34, in <lambda>\n",
      "    trial_function = lambda trial: objective_fun(trial,\n",
      "                                  ^^^^^^^^^^^^^^^^^^^^^\n",
      "  File \"C:\\Users\\emanu\\AppData\\Local\\Temp\\ipykernel_19432\\1072382922.py\", line 15, in objective_fun\n",
      "    cnn = build_model(  X.shape[1:], len(np.unique(y)),\n",
      "          ^^^^^^^^^^^^^^^^^^^^^^^^^^^^^^^^^^^^^^^^^^^^^\n",
      "  File \"C:\\Users\\emanu\\AppData\\Local\\Temp\\ipykernel_19432\\1937663146.py\", line 27, in build_model\n",
      "    model.add(Conv1D(filters=filters, kernel_size=kernel_size, activation='relu', name=f\"extra_conv_{i}\"))\n",
      "  File \"C:\\Users\\emanu\\.virtualenvs\\DM2-HUE9YkAX\\Lib\\site-packages\\tensorflow\\python\\trackable\\base.py\", line 205, in _method_wrapper\n",
      "    result = method(self, *args, **kwargs)\n",
      "             ^^^^^^^^^^^^^^^^^^^^^^^^^^^^^\n",
      "  File \"C:\\Users\\emanu\\.virtualenvs\\DM2-HUE9YkAX\\Lib\\site-packages\\keras\\utils\\traceback_utils.py\", line 70, in error_handler\n",
      "    raise e.with_traceback(filtered_tb) from None\n",
      "  File \"C:\\Users\\emanu\\.virtualenvs\\DM2-HUE9YkAX\\Lib\\site-packages\\keras\\layers\\convolutional\\base_conv.py\", line 354, in compute_output_shape\n",
      "    raise ValueError(\n",
      "ValueError: One of the dimensions in the output is <= 0 due to downsampling in extra_conv_1. Consider increasing the input size. Received input shape [None, 7, 7] which would produce output shape with a zero or negative value in a dimension.\n",
      "[W 2023-06-30 16:19:32,831] Trial 134 failed with value None.\n",
      "[W 2023-06-30 16:19:33,081] Trial 136 failed with parameters: {'n_conv': 2, 'n_hidden': 3, 'hidden_nodes': 90, 'dropout': 0.04930074993622628, 'filters': 7, 'kernel_size': 11, 'batch_size': 32, 'epochs': 74} because of the following error: ValueError('One of the dimensions in the output is <= 0 due to downsampling in extra_conv_1. Consider increasing the input size. Received input shape [None, 7, 7] which would produce output shape with a zero or negative value in a dimension.').\n",
      "Traceback (most recent call last):\n",
      "  File \"C:\\Users\\emanu\\.virtualenvs\\DM2-HUE9YkAX\\Lib\\site-packages\\optuna\\study\\_optimize.py\", line 200, in _run_trial\n",
      "    value_or_values = func(trial)\n",
      "                      ^^^^^^^^^^^\n",
      "  File \"C:\\Users\\emanu\\AppData\\Local\\Temp\\ipykernel_19432\\1072382922.py\", line 34, in <lambda>\n",
      "    trial_function = lambda trial: objective_fun(trial,\n",
      "                                  ^^^^^^^^^^^^^^^^^^^^^\n",
      "  File \"C:\\Users\\emanu\\AppData\\Local\\Temp\\ipykernel_19432\\1072382922.py\", line 15, in objective_fun\n",
      "    cnn = build_model(  X.shape[1:], len(np.unique(y)),\n",
      "          ^^^^^^^^^^^^^^^^^^^^^^^^^^^^^^^^^^^^^^^^^^^^^\n",
      "  File \"C:\\Users\\emanu\\AppData\\Local\\Temp\\ipykernel_19432\\1937663146.py\", line 27, in build_model\n",
      "    model.add(Conv1D(filters=filters, kernel_size=kernel_size, activation='relu', name=f\"extra_conv_{i}\"))\n",
      "  File \"C:\\Users\\emanu\\.virtualenvs\\DM2-HUE9YkAX\\Lib\\site-packages\\tensorflow\\python\\trackable\\base.py\", line 205, in _method_wrapper\n",
      "    result = method(self, *args, **kwargs)\n",
      "             ^^^^^^^^^^^^^^^^^^^^^^^^^^^^^\n",
      "  File \"C:\\Users\\emanu\\.virtualenvs\\DM2-HUE9YkAX\\Lib\\site-packages\\keras\\utils\\traceback_utils.py\", line 70, in error_handler\n",
      "    raise e.with_traceback(filtered_tb) from None\n",
      "  File \"C:\\Users\\emanu\\.virtualenvs\\DM2-HUE9YkAX\\Lib\\site-packages\\keras\\layers\\convolutional\\base_conv.py\", line 354, in compute_output_shape\n",
      "    raise ValueError(\n",
      "ValueError: One of the dimensions in the output is <= 0 due to downsampling in extra_conv_1. Consider increasing the input size. Received input shape [None, 7, 7] which would produce output shape with a zero or negative value in a dimension.\n",
      "[W 2023-06-30 16:19:33,115] Trial 136 failed with value None.\n",
      "[W 2023-06-30 16:19:33,115] Trial 135 failed with parameters: {'n_conv': 2, 'n_hidden': 3, 'hidden_nodes': 73, 'dropout': 0.05147652728123539, 'filters': 7, 'kernel_size': 11, 'batch_size': 33, 'epochs': 79} because of the following error: ValueError('One of the dimensions in the output is <= 0 due to downsampling in extra_conv_1. Consider increasing the input size. Received input shape [None, 7, 7] which would produce output shape with a zero or negative value in a dimension.').\n",
      "Traceback (most recent call last):\n",
      "  File \"C:\\Users\\emanu\\.virtualenvs\\DM2-HUE9YkAX\\Lib\\site-packages\\optuna\\study\\_optimize.py\", line 200, in _run_trial\n",
      "    value_or_values = func(trial)\n",
      "                      ^^^^^^^^^^^\n",
      "  File \"C:\\Users\\emanu\\AppData\\Local\\Temp\\ipykernel_19432\\1072382922.py\", line 34, in <lambda>\n",
      "    trial_function = lambda trial: objective_fun(trial,\n",
      "                                  ^^^^^^^^^^^^^^^^^^^^^\n",
      "  File \"C:\\Users\\emanu\\AppData\\Local\\Temp\\ipykernel_19432\\1072382922.py\", line 15, in objective_fun\n",
      "    cnn = build_model(  X.shape[1:], len(np.unique(y)),\n",
      "          ^^^^^^^^^^^^^^^^^^^^^^^^^^^^^^^^^^^^^^^^^^^^^\n",
      "  File \"C:\\Users\\emanu\\AppData\\Local\\Temp\\ipykernel_19432\\1937663146.py\", line 27, in build_model\n",
      "    model.add(Conv1D(filters=filters, kernel_size=kernel_size, activation='relu', name=f\"extra_conv_{i}\"))\n",
      "  File \"C:\\Users\\emanu\\.virtualenvs\\DM2-HUE9YkAX\\Lib\\site-packages\\tensorflow\\python\\trackable\\base.py\", line 205, in _method_wrapper\n",
      "    result = method(self, *args, **kwargs)\n",
      "             ^^^^^^^^^^^^^^^^^^^^^^^^^^^^^\n",
      "  File \"C:\\Users\\emanu\\.virtualenvs\\DM2-HUE9YkAX\\Lib\\site-packages\\keras\\utils\\traceback_utils.py\", line 70, in error_handler\n",
      "    raise e.with_traceback(filtered_tb) from None\n",
      "  File \"C:\\Users\\emanu\\.virtualenvs\\DM2-HUE9YkAX\\Lib\\site-packages\\keras\\layers\\convolutional\\base_conv.py\", line 354, in compute_output_shape\n",
      "    raise ValueError(\n",
      "ValueError: One of the dimensions in the output is <= 0 due to downsampling in extra_conv_1. Consider increasing the input size. Received input shape [None, 7, 7] which would produce output shape with a zero or negative value in a dimension.\n",
      "[W 2023-06-30 16:19:33,164] Trial 135 failed with value None.\n"
     ]
    },
    {
     "name": "stdout",
     "output_type": "stream",
     "text": [
      "Running little bitch having n_conv=2, dropout=0.050167844489795846, hidden_nodes=88\n"
     ]
    },
    {
     "name": "stderr",
     "output_type": "stream",
     "text": [
      "[W 2023-06-30 16:19:33,231] Trial 137 failed with parameters: {'n_conv': 2, 'n_hidden': 3, 'hidden_nodes': 101, 'dropout': 0.05038777694068776, 'filters': 7, 'kernel_size': 11, 'batch_size': 33, 'epochs': 73} because of the following error: ValueError('One of the dimensions in the output is <= 0 due to downsampling in extra_conv_1. Consider increasing the input size. Received input shape [None, 7, 7] which would produce output shape with a zero or negative value in a dimension.').\n",
      "Traceback (most recent call last):\n",
      "  File \"C:\\Users\\emanu\\.virtualenvs\\DM2-HUE9YkAX\\Lib\\site-packages\\optuna\\study\\_optimize.py\", line 200, in _run_trial\n",
      "    value_or_values = func(trial)\n",
      "                      ^^^^^^^^^^^\n",
      "  File \"C:\\Users\\emanu\\AppData\\Local\\Temp\\ipykernel_19432\\1072382922.py\", line 34, in <lambda>\n",
      "    trial_function = lambda trial: objective_fun(trial,\n",
      "                                  ^^^^^^^^^^^^^^^^^^^^^\n",
      "  File \"C:\\Users\\emanu\\AppData\\Local\\Temp\\ipykernel_19432\\1072382922.py\", line 15, in objective_fun\n",
      "    cnn = build_model(  X.shape[1:], len(np.unique(y)),\n",
      "          ^^^^^^^^^^^^^^^^^^^^^^^^^^^^^^^^^^^^^^^^^^^^^\n",
      "  File \"C:\\Users\\emanu\\AppData\\Local\\Temp\\ipykernel_19432\\1937663146.py\", line 27, in build_model\n",
      "    model.add(Conv1D(filters=filters, kernel_size=kernel_size, activation='relu', name=f\"extra_conv_{i}\"))\n",
      "  File \"C:\\Users\\emanu\\.virtualenvs\\DM2-HUE9YkAX\\Lib\\site-packages\\tensorflow\\python\\trackable\\base.py\", line 205, in _method_wrapper\n",
      "    result = method(self, *args, **kwargs)\n",
      "             ^^^^^^^^^^^^^^^^^^^^^^^^^^^^^\n",
      "  File \"C:\\Users\\emanu\\.virtualenvs\\DM2-HUE9YkAX\\Lib\\site-packages\\keras\\utils\\traceback_utils.py\", line 70, in error_handler\n",
      "    raise e.with_traceback(filtered_tb) from None\n",
      "  File \"C:\\Users\\emanu\\.virtualenvs\\DM2-HUE9YkAX\\Lib\\site-packages\\keras\\layers\\convolutional\\base_conv.py\", line 354, in compute_output_shape\n",
      "    raise ValueError(\n",
      "ValueError: One of the dimensions in the output is <= 0 due to downsampling in extra_conv_1. Consider increasing the input size. Received input shape [None, 7, 7] which would produce output shape with a zero or negative value in a dimension.\n",
      "[W 2023-06-30 16:19:33,319] Trial 137 failed with value None.\n"
     ]
    },
    {
     "name": "stdout",
     "output_type": "stream",
     "text": [
      "Running little bitch having n_conv=2, dropout=0.048382723125338575, hidden_nodes=88\n",
      "Running little bitch having n_conv=2, dropout=0.046106226140609045, hidden_nodes=88\n",
      "Running little bitch having n_conv=2, dropout=0.05222733076989297, hidden_nodes=80\n"
     ]
    },
    {
     "name": "stderr",
     "output_type": "stream",
     "text": [
      "[W 2023-06-30 16:19:33,920] Trial 138 failed with parameters: {'n_conv': 2, 'n_hidden': 3, 'hidden_nodes': 88, 'dropout': 0.050167844489795846, 'filters': 7, 'kernel_size': 11, 'batch_size': 33, 'epochs': 74} because of the following error: ValueError('One of the dimensions in the output is <= 0 due to downsampling in extra_conv_1. Consider increasing the input size. Received input shape [None, 7, 7] which would produce output shape with a zero or negative value in a dimension.').\n",
      "Traceback (most recent call last):\n",
      "  File \"C:\\Users\\emanu\\.virtualenvs\\DM2-HUE9YkAX\\Lib\\site-packages\\optuna\\study\\_optimize.py\", line 200, in _run_trial\n",
      "    value_or_values = func(trial)\n",
      "                      ^^^^^^^^^^^\n",
      "  File \"C:\\Users\\emanu\\AppData\\Local\\Temp\\ipykernel_19432\\1072382922.py\", line 34, in <lambda>\n",
      "    trial_function = lambda trial: objective_fun(trial,\n",
      "                                  ^^^^^^^^^^^^^^^^^^^^^\n",
      "  File \"C:\\Users\\emanu\\AppData\\Local\\Temp\\ipykernel_19432\\1072382922.py\", line 15, in objective_fun\n",
      "    cnn = build_model(  X.shape[1:], len(np.unique(y)),\n",
      "          ^^^^^^^^^^^^^^^^^^^^^^^^^^^^^^^^^^^^^^^^^^^^^\n",
      "  File \"C:\\Users\\emanu\\AppData\\Local\\Temp\\ipykernel_19432\\1937663146.py\", line 27, in build_model\n",
      "    model.add(Conv1D(filters=filters, kernel_size=kernel_size, activation='relu', name=f\"extra_conv_{i}\"))\n",
      "  File \"C:\\Users\\emanu\\.virtualenvs\\DM2-HUE9YkAX\\Lib\\site-packages\\tensorflow\\python\\trackable\\base.py\", line 205, in _method_wrapper\n",
      "    result = method(self, *args, **kwargs)\n",
      "             ^^^^^^^^^^^^^^^^^^^^^^^^^^^^^\n",
      "  File \"C:\\Users\\emanu\\.virtualenvs\\DM2-HUE9YkAX\\Lib\\site-packages\\keras\\utils\\traceback_utils.py\", line 70, in error_handler\n",
      "    raise e.with_traceback(filtered_tb) from None\n",
      "  File \"C:\\Users\\emanu\\.virtualenvs\\DM2-HUE9YkAX\\Lib\\site-packages\\keras\\layers\\convolutional\\base_conv.py\", line 354, in compute_output_shape\n",
      "    raise ValueError(\n",
      "ValueError: One of the dimensions in the output is <= 0 due to downsampling in extra_conv_1. Consider increasing the input size. Received input shape [None, 7, 7] which would produce output shape with a zero or negative value in a dimension.\n",
      "[W 2023-06-30 16:19:33,950] Trial 138 failed with value None.\n",
      "[W 2023-06-30 16:19:34,270] Trial 139 failed with parameters: {'n_conv': 2, 'n_hidden': 3, 'hidden_nodes': 88, 'dropout': 0.048382723125338575, 'filters': 7, 'kernel_size': 11, 'batch_size': 32, 'epochs': 75} because of the following error: ValueError('One of the dimensions in the output is <= 0 due to downsampling in extra_conv_1. Consider increasing the input size. Received input shape [None, 7, 7] which would produce output shape with a zero or negative value in a dimension.').\n",
      "Traceback (most recent call last):\n",
      "  File \"C:\\Users\\emanu\\.virtualenvs\\DM2-HUE9YkAX\\Lib\\site-packages\\optuna\\study\\_optimize.py\", line 200, in _run_trial\n",
      "    value_or_values = func(trial)\n",
      "                      ^^^^^^^^^^^\n",
      "  File \"C:\\Users\\emanu\\AppData\\Local\\Temp\\ipykernel_19432\\1072382922.py\", line 34, in <lambda>\n",
      "    trial_function = lambda trial: objective_fun(trial,\n",
      "                                  ^^^^^^^^^^^^^^^^^^^^^\n",
      "  File \"C:\\Users\\emanu\\AppData\\Local\\Temp\\ipykernel_19432\\1072382922.py\", line 15, in objective_fun\n",
      "    cnn = build_model(  X.shape[1:], len(np.unique(y)),\n",
      "          ^^^^^^^^^^^^^^^^^^^^^^^^^^^^^^^^^^^^^^^^^^^^^\n",
      "  File \"C:\\Users\\emanu\\AppData\\Local\\Temp\\ipykernel_19432\\1937663146.py\", line 27, in build_model\n",
      "    model.add(Conv1D(filters=filters, kernel_size=kernel_size, activation='relu', name=f\"extra_conv_{i}\"))\n",
      "  File \"C:\\Users\\emanu\\.virtualenvs\\DM2-HUE9YkAX\\Lib\\site-packages\\tensorflow\\python\\trackable\\base.py\", line 205, in _method_wrapper\n",
      "    result = method(self, *args, **kwargs)\n",
      "             ^^^^^^^^^^^^^^^^^^^^^^^^^^^^^\n",
      "  File \"C:\\Users\\emanu\\.virtualenvs\\DM2-HUE9YkAX\\Lib\\site-packages\\keras\\utils\\traceback_utils.py\", line 70, in error_handler\n",
      "    raise e.with_traceback(filtered_tb) from None\n",
      "  File \"C:\\Users\\emanu\\.virtualenvs\\DM2-HUE9YkAX\\Lib\\site-packages\\keras\\layers\\convolutional\\base_conv.py\", line 354, in compute_output_shape\n",
      "    raise ValueError(\n",
      "ValueError: One of the dimensions in the output is <= 0 due to downsampling in extra_conv_1. Consider increasing the input size. Received input shape [None, 7, 7] which would produce output shape with a zero or negative value in a dimension.\n",
      "[W 2023-06-30 16:19:34,320] Trial 139 failed with value None.\n"
     ]
    },
    {
     "name": "stdout",
     "output_type": "stream",
     "text": [
      "Running little bitch having n_conv=2, dropout=0.048976036766203615, hidden_nodes=92\n"
     ]
    },
    {
     "name": "stderr",
     "output_type": "stream",
     "text": [
      "[W 2023-06-30 16:19:34,463] Trial 140 failed with parameters: {'n_conv': 2, 'n_hidden': 3, 'hidden_nodes': 88, 'dropout': 0.046106226140609045, 'filters': 7, 'kernel_size': 11, 'batch_size': 33, 'epochs': 75} because of the following error: ValueError('One of the dimensions in the output is <= 0 due to downsampling in extra_conv_1. Consider increasing the input size. Received input shape [None, 7, 7] which would produce output shape with a zero or negative value in a dimension.').\n",
      "Traceback (most recent call last):\n",
      "  File \"C:\\Users\\emanu\\.virtualenvs\\DM2-HUE9YkAX\\Lib\\site-packages\\optuna\\study\\_optimize.py\", line 200, in _run_trial\n",
      "    value_or_values = func(trial)\n",
      "                      ^^^^^^^^^^^\n",
      "  File \"C:\\Users\\emanu\\AppData\\Local\\Temp\\ipykernel_19432\\1072382922.py\", line 34, in <lambda>\n",
      "    trial_function = lambda trial: objective_fun(trial,\n",
      "                                  ^^^^^^^^^^^^^^^^^^^^^\n",
      "  File \"C:\\Users\\emanu\\AppData\\Local\\Temp\\ipykernel_19432\\1072382922.py\", line 15, in objective_fun\n",
      "    cnn = build_model(  X.shape[1:], len(np.unique(y)),\n",
      "          ^^^^^^^^^^^^^^^^^^^^^^^^^^^^^^^^^^^^^^^^^^^^^\n",
      "  File \"C:\\Users\\emanu\\AppData\\Local\\Temp\\ipykernel_19432\\1937663146.py\", line 27, in build_model\n",
      "    model.add(Conv1D(filters=filters, kernel_size=kernel_size, activation='relu', name=f\"extra_conv_{i}\"))\n",
      "  File \"C:\\Users\\emanu\\.virtualenvs\\DM2-HUE9YkAX\\Lib\\site-packages\\tensorflow\\python\\trackable\\base.py\", line 205, in _method_wrapper\n",
      "    result = method(self, *args, **kwargs)\n",
      "             ^^^^^^^^^^^^^^^^^^^^^^^^^^^^^\n",
      "  File \"C:\\Users\\emanu\\.virtualenvs\\DM2-HUE9YkAX\\Lib\\site-packages\\keras\\utils\\traceback_utils.py\", line 70, in error_handler\n",
      "    raise e.with_traceback(filtered_tb) from None\n",
      "  File \"C:\\Users\\emanu\\.virtualenvs\\DM2-HUE9YkAX\\Lib\\site-packages\\keras\\layers\\convolutional\\base_conv.py\", line 354, in compute_output_shape\n",
      "    raise ValueError(\n",
      "ValueError: One of the dimensions in the output is <= 0 due to downsampling in extra_conv_1. Consider increasing the input size. Received input shape [None, 7, 7] which would produce output shape with a zero or negative value in a dimension.\n",
      "[W 2023-06-30 16:19:34,522] Trial 141 failed with parameters: {'n_conv': 2, 'n_hidden': 3, 'hidden_nodes': 80, 'dropout': 0.05222733076989297, 'filters': 8, 'kernel_size': 11, 'batch_size': 33, 'epochs': 73} because of the following error: ValueError('One of the dimensions in the output is <= 0 due to downsampling in extra_conv_1. Consider increasing the input size. Received input shape [None, 7, 8] which would produce output shape with a zero or negative value in a dimension.').\n",
      "Traceback (most recent call last):\n",
      "  File \"C:\\Users\\emanu\\.virtualenvs\\DM2-HUE9YkAX\\Lib\\site-packages\\optuna\\study\\_optimize.py\", line 200, in _run_trial\n",
      "    value_or_values = func(trial)\n",
      "                      ^^^^^^^^^^^\n",
      "  File \"C:\\Users\\emanu\\AppData\\Local\\Temp\\ipykernel_19432\\1072382922.py\", line 34, in <lambda>\n",
      "    trial_function = lambda trial: objective_fun(trial,\n",
      "                                  ^^^^^^^^^^^^^^^^^^^^^\n",
      "  File \"C:\\Users\\emanu\\AppData\\Local\\Temp\\ipykernel_19432\\1072382922.py\", line 15, in objective_fun\n",
      "    cnn = build_model(  X.shape[1:], len(np.unique(y)),\n",
      "          ^^^^^^^^^^^^^^^^^^^^^^^^^^^^^^^^^^^^^^^^^^^^^\n",
      "  File \"C:\\Users\\emanu\\AppData\\Local\\Temp\\ipykernel_19432\\1937663146.py\", line 27, in build_model\n",
      "    model.add(Conv1D(filters=filters, kernel_size=kernel_size, activation='relu', name=f\"extra_conv_{i}\"))\n",
      "  File \"C:\\Users\\emanu\\.virtualenvs\\DM2-HUE9YkAX\\Lib\\site-packages\\tensorflow\\python\\trackable\\base.py\", line 205, in _method_wrapper\n",
      "    result = method(self, *args, **kwargs)\n",
      "             ^^^^^^^^^^^^^^^^^^^^^^^^^^^^^\n",
      "  File \"C:\\Users\\emanu\\.virtualenvs\\DM2-HUE9YkAX\\Lib\\site-packages\\keras\\utils\\traceback_utils.py\", line 70, in error_handler\n",
      "    raise e.with_traceback(filtered_tb) from None\n",
      "  File \"C:\\Users\\emanu\\.virtualenvs\\DM2-HUE9YkAX\\Lib\\site-packages\\keras\\layers\\convolutional\\base_conv.py\", line 354, in compute_output_shape\n",
      "    raise ValueError(\n",
      "ValueError: One of the dimensions in the output is <= 0 due to downsampling in extra_conv_1. Consider increasing the input size. Received input shape [None, 7, 8] which would produce output shape with a zero or negative value in a dimension.\n",
      "[W 2023-06-30 16:19:34,535] Trial 140 failed with value None.\n",
      "[W 2023-06-30 16:19:34,559] Trial 141 failed with value None.\n"
     ]
    },
    {
     "name": "stdout",
     "output_type": "stream",
     "text": [
      "Running little bitch having n_conv=2, dropout=0.050716292250917824, hidden_nodes=96\n",
      "Running little bitch having n_conv=2, dropout=0.05285407382934843, hidden_nodes=96\n",
      "Running little bitch having n_conv=2, dropout=0.0485587159498138, hidden_nodes=88\n"
     ]
    },
    {
     "name": "stderr",
     "output_type": "stream",
     "text": [
      "[W 2023-06-30 16:19:35,053] Trial 142 failed with parameters: {'n_conv': 2, 'n_hidden': 3, 'hidden_nodes': 92, 'dropout': 0.048976036766203615, 'filters': 7, 'kernel_size': 11, 'batch_size': 34, 'epochs': 68} because of the following error: ValueError('One of the dimensions in the output is <= 0 due to downsampling in extra_conv_1. Consider increasing the input size. Received input shape [None, 7, 7] which would produce output shape with a zero or negative value in a dimension.').\n",
      "Traceback (most recent call last):\n",
      "  File \"C:\\Users\\emanu\\.virtualenvs\\DM2-HUE9YkAX\\Lib\\site-packages\\optuna\\study\\_optimize.py\", line 200, in _run_trial\n",
      "    value_or_values = func(trial)\n",
      "                      ^^^^^^^^^^^\n",
      "  File \"C:\\Users\\emanu\\AppData\\Local\\Temp\\ipykernel_19432\\1072382922.py\", line 34, in <lambda>\n",
      "    trial_function = lambda trial: objective_fun(trial,\n",
      "                                  ^^^^^^^^^^^^^^^^^^^^^\n",
      "  File \"C:\\Users\\emanu\\AppData\\Local\\Temp\\ipykernel_19432\\1072382922.py\", line 15, in objective_fun\n",
      "    cnn = build_model(  X.shape[1:], len(np.unique(y)),\n",
      "          ^^^^^^^^^^^^^^^^^^^^^^^^^^^^^^^^^^^^^^^^^^^^^\n",
      "  File \"C:\\Users\\emanu\\AppData\\Local\\Temp\\ipykernel_19432\\1937663146.py\", line 27, in build_model\n",
      "    model.add(Conv1D(filters=filters, kernel_size=kernel_size, activation='relu', name=f\"extra_conv_{i}\"))\n",
      "  File \"C:\\Users\\emanu\\.virtualenvs\\DM2-HUE9YkAX\\Lib\\site-packages\\tensorflow\\python\\trackable\\base.py\", line 205, in _method_wrapper\n",
      "    result = method(self, *args, **kwargs)\n",
      "             ^^^^^^^^^^^^^^^^^^^^^^^^^^^^^\n",
      "  File \"C:\\Users\\emanu\\.virtualenvs\\DM2-HUE9YkAX\\Lib\\site-packages\\keras\\utils\\traceback_utils.py\", line 70, in error_handler\n",
      "    raise e.with_traceback(filtered_tb) from None\n",
      "  File \"C:\\Users\\emanu\\.virtualenvs\\DM2-HUE9YkAX\\Lib\\site-packages\\keras\\layers\\convolutional\\base_conv.py\", line 354, in compute_output_shape\n",
      "    raise ValueError(\n",
      "ValueError: One of the dimensions in the output is <= 0 due to downsampling in extra_conv_1. Consider increasing the input size. Received input shape [None, 7, 7] which would produce output shape with a zero or negative value in a dimension.\n",
      "[W 2023-06-30 16:19:35,090] Trial 142 failed with value None.\n"
     ]
    },
    {
     "name": "stdout",
     "output_type": "stream",
     "text": [
      "Running little bitch having n_conv=2, dropout=0.05213042786920778, hidden_nodes=96\n"
     ]
    },
    {
     "name": "stderr",
     "output_type": "stream",
     "text": [
      "[W 2023-06-30 16:19:35,539] Trial 144 failed with parameters: {'n_conv': 2, 'n_hidden': 3, 'hidden_nodes': 96, 'dropout': 0.05285407382934843, 'filters': 7, 'kernel_size': 11, 'batch_size': 33, 'epochs': 75} because of the following error: ValueError('One of the dimensions in the output is <= 0 due to downsampling in extra_conv_1. Consider increasing the input size. Received input shape [None, 7, 7] which would produce output shape with a zero or negative value in a dimension.').\n",
      "Traceback (most recent call last):\n",
      "  File \"C:\\Users\\emanu\\.virtualenvs\\DM2-HUE9YkAX\\Lib\\site-packages\\optuna\\study\\_optimize.py\", line 200, in _run_trial\n",
      "    value_or_values = func(trial)\n",
      "                      ^^^^^^^^^^^\n",
      "  File \"C:\\Users\\emanu\\AppData\\Local\\Temp\\ipykernel_19432\\1072382922.py\", line 34, in <lambda>\n",
      "    trial_function = lambda trial: objective_fun(trial,\n",
      "                                  ^^^^^^^^^^^^^^^^^^^^^\n",
      "  File \"C:\\Users\\emanu\\AppData\\Local\\Temp\\ipykernel_19432\\1072382922.py\", line 15, in objective_fun\n",
      "    cnn = build_model(  X.shape[1:], len(np.unique(y)),\n",
      "          ^^^^^^^^^^^^^^^^^^^^^^^^^^^^^^^^^^^^^^^^^^^^^\n",
      "  File \"C:\\Users\\emanu\\AppData\\Local\\Temp\\ipykernel_19432\\1937663146.py\", line 27, in build_model\n",
      "    model.add(Conv1D(filters=filters, kernel_size=kernel_size, activation='relu', name=f\"extra_conv_{i}\"))\n",
      "  File \"C:\\Users\\emanu\\.virtualenvs\\DM2-HUE9YkAX\\Lib\\site-packages\\tensorflow\\python\\trackable\\base.py\", line 205, in _method_wrapper\n",
      "    result = method(self, *args, **kwargs)\n",
      "             ^^^^^^^^^^^^^^^^^^^^^^^^^^^^^\n",
      "  File \"C:\\Users\\emanu\\.virtualenvs\\DM2-HUE9YkAX\\Lib\\site-packages\\keras\\utils\\traceback_utils.py\", line 70, in error_handler\n",
      "    raise e.with_traceback(filtered_tb) from None\n",
      "  File \"C:\\Users\\emanu\\.virtualenvs\\DM2-HUE9YkAX\\Lib\\site-packages\\keras\\layers\\convolutional\\base_conv.py\", line 354, in compute_output_shape\n",
      "    raise ValueError(\n",
      "ValueError: One of the dimensions in the output is <= 0 due to downsampling in extra_conv_1. Consider increasing the input size. Received input shape [None, 7, 7] which would produce output shape with a zero or negative value in a dimension.\n",
      "[W 2023-06-30 16:19:35,570] Trial 143 failed with parameters: {'n_conv': 2, 'n_hidden': 3, 'hidden_nodes': 96, 'dropout': 0.050716292250917824, 'filters': 7, 'kernel_size': 11, 'batch_size': 34, 'epochs': 72} because of the following error: ValueError('One of the dimensions in the output is <= 0 due to downsampling in extra_conv_1. Consider increasing the input size. Received input shape [None, 7, 7] which would produce output shape with a zero or negative value in a dimension.').\n",
      "Traceback (most recent call last):\n",
      "  File \"C:\\Users\\emanu\\.virtualenvs\\DM2-HUE9YkAX\\Lib\\site-packages\\optuna\\study\\_optimize.py\", line 200, in _run_trial\n",
      "    value_or_values = func(trial)\n",
      "                      ^^^^^^^^^^^\n",
      "  File \"C:\\Users\\emanu\\AppData\\Local\\Temp\\ipykernel_19432\\1072382922.py\", line 34, in <lambda>\n",
      "    trial_function = lambda trial: objective_fun(trial,\n",
      "                                  ^^^^^^^^^^^^^^^^^^^^^\n",
      "  File \"C:\\Users\\emanu\\AppData\\Local\\Temp\\ipykernel_19432\\1072382922.py\", line 15, in objective_fun\n",
      "    cnn = build_model(  X.shape[1:], len(np.unique(y)),\n",
      "          ^^^^^^^^^^^^^^^^^^^^^^^^^^^^^^^^^^^^^^^^^^^^^\n",
      "  File \"C:\\Users\\emanu\\AppData\\Local\\Temp\\ipykernel_19432\\1937663146.py\", line 27, in build_model\n",
      "    model.add(Conv1D(filters=filters, kernel_size=kernel_size, activation='relu', name=f\"extra_conv_{i}\"))\n",
      "  File \"C:\\Users\\emanu\\.virtualenvs\\DM2-HUE9YkAX\\Lib\\site-packages\\tensorflow\\python\\trackable\\base.py\", line 205, in _method_wrapper\n",
      "    result = method(self, *args, **kwargs)\n",
      "             ^^^^^^^^^^^^^^^^^^^^^^^^^^^^^\n",
      "  File \"C:\\Users\\emanu\\.virtualenvs\\DM2-HUE9YkAX\\Lib\\site-packages\\keras\\utils\\traceback_utils.py\", line 70, in error_handler\n",
      "    raise e.with_traceback(filtered_tb) from None\n",
      "  File \"C:\\Users\\emanu\\.virtualenvs\\DM2-HUE9YkAX\\Lib\\site-packages\\keras\\layers\\convolutional\\base_conv.py\", line 354, in compute_output_shape\n",
      "    raise ValueError(\n",
      "ValueError: One of the dimensions in the output is <= 0 due to downsampling in extra_conv_1. Consider increasing the input size. Received input shape [None, 7, 7] which would produce output shape with a zero or negative value in a dimension.\n",
      "[W 2023-06-30 16:19:35,583] Trial 144 failed with value None.\n",
      "[W 2023-06-30 16:19:35,631] Trial 143 failed with value None.\n",
      "[W 2023-06-30 16:19:35,754] Trial 145 failed with parameters: {'n_conv': 2, 'n_hidden': 3, 'hidden_nodes': 88, 'dropout': 0.0485587159498138, 'filters': 7, 'kernel_size': 11, 'batch_size': 33, 'epochs': 78} because of the following error: ValueError('One of the dimensions in the output is <= 0 due to downsampling in extra_conv_1. Consider increasing the input size. Received input shape [None, 7, 7] which would produce output shape with a zero or negative value in a dimension.').\n",
      "Traceback (most recent call last):\n",
      "  File \"C:\\Users\\emanu\\.virtualenvs\\DM2-HUE9YkAX\\Lib\\site-packages\\optuna\\study\\_optimize.py\", line 200, in _run_trial\n",
      "    value_or_values = func(trial)\n",
      "                      ^^^^^^^^^^^\n",
      "  File \"C:\\Users\\emanu\\AppData\\Local\\Temp\\ipykernel_19432\\1072382922.py\", line 34, in <lambda>\n",
      "    trial_function = lambda trial: objective_fun(trial,\n",
      "                                  ^^^^^^^^^^^^^^^^^^^^^\n",
      "  File \"C:\\Users\\emanu\\AppData\\Local\\Temp\\ipykernel_19432\\1072382922.py\", line 15, in objective_fun\n",
      "    cnn = build_model(  X.shape[1:], len(np.unique(y)),\n",
      "          ^^^^^^^^^^^^^^^^^^^^^^^^^^^^^^^^^^^^^^^^^^^^^\n",
      "  File \"C:\\Users\\emanu\\AppData\\Local\\Temp\\ipykernel_19432\\1937663146.py\", line 27, in build_model\n",
      "    model.add(Conv1D(filters=filters, kernel_size=kernel_size, activation='relu', name=f\"extra_conv_{i}\"))\n",
      "  File \"C:\\Users\\emanu\\.virtualenvs\\DM2-HUE9YkAX\\Lib\\site-packages\\tensorflow\\python\\trackable\\base.py\", line 205, in _method_wrapper\n",
      "    result = method(self, *args, **kwargs)\n",
      "             ^^^^^^^^^^^^^^^^^^^^^^^^^^^^^\n",
      "  File \"C:\\Users\\emanu\\.virtualenvs\\DM2-HUE9YkAX\\Lib\\site-packages\\keras\\utils\\traceback_utils.py\", line 70, in error_handler\n",
      "    raise e.with_traceback(filtered_tb) from None\n",
      "  File \"C:\\Users\\emanu\\.virtualenvs\\DM2-HUE9YkAX\\Lib\\site-packages\\keras\\layers\\convolutional\\base_conv.py\", line 354, in compute_output_shape\n",
      "    raise ValueError(\n",
      "ValueError: One of the dimensions in the output is <= 0 due to downsampling in extra_conv_1. Consider increasing the input size. Received input shape [None, 7, 7] which would produce output shape with a zero or negative value in a dimension.\n",
      "[W 2023-06-30 16:19:35,800] Trial 145 failed with value None.\n"
     ]
    },
    {
     "name": "stdout",
     "output_type": "stream",
     "text": [
      "Running little bitch having n_conv=2, dropout=0.049977948835062444, hidden_nodes=86\n",
      "Running little bitch having n_conv=2, dropout=0.05031256962235697, hidden_nodes=78\n",
      "Running little bitch having n_conv=2, dropout=0.05015586916837237, hidden_nodes=93\n"
     ]
    },
    {
     "name": "stderr",
     "output_type": "stream",
     "text": [
      "[W 2023-06-30 16:19:36,151] Trial 146 failed with parameters: {'n_conv': 2, 'n_hidden': 3, 'hidden_nodes': 96, 'dropout': 0.05213042786920778, 'filters': 7, 'kernel_size': 11, 'batch_size': 33, 'epochs': 77} because of the following error: ValueError('One of the dimensions in the output is <= 0 due to downsampling in extra_conv_1. Consider increasing the input size. Received input shape [None, 7, 7] which would produce output shape with a zero or negative value in a dimension.').\n",
      "Traceback (most recent call last):\n",
      "  File \"C:\\Users\\emanu\\.virtualenvs\\DM2-HUE9YkAX\\Lib\\site-packages\\optuna\\study\\_optimize.py\", line 200, in _run_trial\n",
      "    value_or_values = func(trial)\n",
      "                      ^^^^^^^^^^^\n",
      "  File \"C:\\Users\\emanu\\AppData\\Local\\Temp\\ipykernel_19432\\1072382922.py\", line 34, in <lambda>\n",
      "    trial_function = lambda trial: objective_fun(trial,\n",
      "                                  ^^^^^^^^^^^^^^^^^^^^^\n",
      "  File \"C:\\Users\\emanu\\AppData\\Local\\Temp\\ipykernel_19432\\1072382922.py\", line 15, in objective_fun\n",
      "    cnn = build_model(  X.shape[1:], len(np.unique(y)),\n",
      "          ^^^^^^^^^^^^^^^^^^^^^^^^^^^^^^^^^^^^^^^^^^^^^\n",
      "  File \"C:\\Users\\emanu\\AppData\\Local\\Temp\\ipykernel_19432\\1937663146.py\", line 27, in build_model\n",
      "    model.add(Conv1D(filters=filters, kernel_size=kernel_size, activation='relu', name=f\"extra_conv_{i}\"))\n",
      "  File \"C:\\Users\\emanu\\.virtualenvs\\DM2-HUE9YkAX\\Lib\\site-packages\\tensorflow\\python\\trackable\\base.py\", line 205, in _method_wrapper\n",
      "    result = method(self, *args, **kwargs)\n",
      "             ^^^^^^^^^^^^^^^^^^^^^^^^^^^^^\n",
      "  File \"C:\\Users\\emanu\\.virtualenvs\\DM2-HUE9YkAX\\Lib\\site-packages\\keras\\utils\\traceback_utils.py\", line 70, in error_handler\n",
      "    raise e.with_traceback(filtered_tb) from None\n",
      "  File \"C:\\Users\\emanu\\.virtualenvs\\DM2-HUE9YkAX\\Lib\\site-packages\\keras\\layers\\convolutional\\base_conv.py\", line 354, in compute_output_shape\n",
      "    raise ValueError(\n",
      "ValueError: One of the dimensions in the output is <= 0 due to downsampling in extra_conv_1. Consider increasing the input size. Received input shape [None, 7, 7] which would produce output shape with a zero or negative value in a dimension.\n",
      "[W 2023-06-30 16:19:36,180] Trial 146 failed with value None.\n",
      "[W 2023-06-30 16:19:36,500] Trial 147 failed with parameters: {'n_conv': 2, 'n_hidden': 3, 'hidden_nodes': 86, 'dropout': 0.049977948835062444, 'filters': 7, 'kernel_size': 11, 'batch_size': 34, 'epochs': 79} because of the following error: ValueError('One of the dimensions in the output is <= 0 due to downsampling in extra_conv_1. Consider increasing the input size. Received input shape [None, 7, 7] which would produce output shape with a zero or negative value in a dimension.').\n",
      "Traceback (most recent call last):\n",
      "  File \"C:\\Users\\emanu\\.virtualenvs\\DM2-HUE9YkAX\\Lib\\site-packages\\optuna\\study\\_optimize.py\", line 200, in _run_trial\n",
      "    value_or_values = func(trial)\n",
      "                      ^^^^^^^^^^^\n",
      "  File \"C:\\Users\\emanu\\AppData\\Local\\Temp\\ipykernel_19432\\1072382922.py\", line 34, in <lambda>\n",
      "    trial_function = lambda trial: objective_fun(trial,\n",
      "                                  ^^^^^^^^^^^^^^^^^^^^^\n",
      "  File \"C:\\Users\\emanu\\AppData\\Local\\Temp\\ipykernel_19432\\1072382922.py\", line 15, in objective_fun\n",
      "    cnn = build_model(  X.shape[1:], len(np.unique(y)),\n",
      "          ^^^^^^^^^^^^^^^^^^^^^^^^^^^^^^^^^^^^^^^^^^^^^\n",
      "  File \"C:\\Users\\emanu\\AppData\\Local\\Temp\\ipykernel_19432\\1937663146.py\", line 27, in build_model\n",
      "    model.add(Conv1D(filters=filters, kernel_size=kernel_size, activation='relu', name=f\"extra_conv_{i}\"))\n",
      "  File \"C:\\Users\\emanu\\.virtualenvs\\DM2-HUE9YkAX\\Lib\\site-packages\\tensorflow\\python\\trackable\\base.py\", line 205, in _method_wrapper\n",
      "    result = method(self, *args, **kwargs)\n",
      "             ^^^^^^^^^^^^^^^^^^^^^^^^^^^^^\n",
      "  File \"C:\\Users\\emanu\\.virtualenvs\\DM2-HUE9YkAX\\Lib\\site-packages\\keras\\utils\\traceback_utils.py\", line 70, in error_handler\n",
      "    raise e.with_traceback(filtered_tb) from None\n",
      "  File \"C:\\Users\\emanu\\.virtualenvs\\DM2-HUE9YkAX\\Lib\\site-packages\\keras\\layers\\convolutional\\base_conv.py\", line 354, in compute_output_shape\n",
      "    raise ValueError(\n",
      "ValueError: One of the dimensions in the output is <= 0 due to downsampling in extra_conv_1. Consider increasing the input size. Received input shape [None, 7, 7] which would produce output shape with a zero or negative value in a dimension.\n",
      "[W 2023-06-30 16:19:36,533] Trial 147 failed with value None.\n",
      "[W 2023-06-30 16:19:36,533] Trial 148 failed with parameters: {'n_conv': 2, 'n_hidden': 3, 'hidden_nodes': 78, 'dropout': 0.05031256962235697, 'filters': 7, 'kernel_size': 11, 'batch_size': 34, 'epochs': 79} because of the following error: ValueError('One of the dimensions in the output is <= 0 due to downsampling in extra_conv_1. Consider increasing the input size. Received input shape [None, 7, 7] which would produce output shape with a zero or negative value in a dimension.').\n",
      "Traceback (most recent call last):\n",
      "  File \"C:\\Users\\emanu\\.virtualenvs\\DM2-HUE9YkAX\\Lib\\site-packages\\optuna\\study\\_optimize.py\", line 200, in _run_trial\n",
      "    value_or_values = func(trial)\n",
      "                      ^^^^^^^^^^^\n",
      "  File \"C:\\Users\\emanu\\AppData\\Local\\Temp\\ipykernel_19432\\1072382922.py\", line 34, in <lambda>\n",
      "    trial_function = lambda trial: objective_fun(trial,\n",
      "                                  ^^^^^^^^^^^^^^^^^^^^^\n",
      "  File \"C:\\Users\\emanu\\AppData\\Local\\Temp\\ipykernel_19432\\1072382922.py\", line 15, in objective_fun\n",
      "    cnn = build_model(  X.shape[1:], len(np.unique(y)),\n",
      "          ^^^^^^^^^^^^^^^^^^^^^^^^^^^^^^^^^^^^^^^^^^^^^\n",
      "  File \"C:\\Users\\emanu\\AppData\\Local\\Temp\\ipykernel_19432\\1937663146.py\", line 27, in build_model\n",
      "    model.add(Conv1D(filters=filters, kernel_size=kernel_size, activation='relu', name=f\"extra_conv_{i}\"))\n",
      "  File \"C:\\Users\\emanu\\.virtualenvs\\DM2-HUE9YkAX\\Lib\\site-packages\\tensorflow\\python\\trackable\\base.py\", line 205, in _method_wrapper\n",
      "    result = method(self, *args, **kwargs)\n",
      "             ^^^^^^^^^^^^^^^^^^^^^^^^^^^^^\n",
      "  File \"C:\\Users\\emanu\\.virtualenvs\\DM2-HUE9YkAX\\Lib\\site-packages\\keras\\utils\\traceback_utils.py\", line 70, in error_handler\n",
      "    raise e.with_traceback(filtered_tb) from None\n",
      "  File \"C:\\Users\\emanu\\.virtualenvs\\DM2-HUE9YkAX\\Lib\\site-packages\\keras\\layers\\convolutional\\base_conv.py\", line 354, in compute_output_shape\n",
      "    raise ValueError(\n",
      "ValueError: One of the dimensions in the output is <= 0 due to downsampling in extra_conv_1. Consider increasing the input size. Received input shape [None, 7, 7] which would produce output shape with a zero or negative value in a dimension.\n",
      "[W 2023-06-30 16:19:36,559] Trial 148 failed with value None.\n",
      "[W 2023-06-30 16:19:36,615] Trial 149 failed with parameters: {'n_conv': 2, 'n_hidden': 3, 'hidden_nodes': 93, 'dropout': 0.05015586916837237, 'filters': 7, 'kernel_size': 12, 'batch_size': 33, 'epochs': 76} because of the following error: ValueError('One of the dimensions in the output is <= 0 due to downsampling in extra_conv_1. Consider increasing the input size. Received input shape [None, 5, 7] which would produce output shape with a zero or negative value in a dimension.').\n",
      "Traceback (most recent call last):\n",
      "  File \"C:\\Users\\emanu\\.virtualenvs\\DM2-HUE9YkAX\\Lib\\site-packages\\optuna\\study\\_optimize.py\", line 200, in _run_trial\n",
      "    value_or_values = func(trial)\n",
      "                      ^^^^^^^^^^^\n",
      "  File \"C:\\Users\\emanu\\AppData\\Local\\Temp\\ipykernel_19432\\1072382922.py\", line 34, in <lambda>\n",
      "    trial_function = lambda trial: objective_fun(trial,\n",
      "                                  ^^^^^^^^^^^^^^^^^^^^^\n",
      "  File \"C:\\Users\\emanu\\AppData\\Local\\Temp\\ipykernel_19432\\1072382922.py\", line 15, in objective_fun\n",
      "    cnn = build_model(  X.shape[1:], len(np.unique(y)),\n",
      "          ^^^^^^^^^^^^^^^^^^^^^^^^^^^^^^^^^^^^^^^^^^^^^\n",
      "  File \"C:\\Users\\emanu\\AppData\\Local\\Temp\\ipykernel_19432\\1937663146.py\", line 27, in build_model\n",
      "    model.add(Conv1D(filters=filters, kernel_size=kernel_size, activation='relu', name=f\"extra_conv_{i}\"))\n",
      "  File \"C:\\Users\\emanu\\.virtualenvs\\DM2-HUE9YkAX\\Lib\\site-packages\\tensorflow\\python\\trackable\\base.py\", line 205, in _method_wrapper\n",
      "    result = method(self, *args, **kwargs)\n",
      "             ^^^^^^^^^^^^^^^^^^^^^^^^^^^^^\n",
      "  File \"C:\\Users\\emanu\\.virtualenvs\\DM2-HUE9YkAX\\Lib\\site-packages\\keras\\utils\\traceback_utils.py\", line 70, in error_handler\n",
      "    raise e.with_traceback(filtered_tb) from None\n",
      "  File \"C:\\Users\\emanu\\.virtualenvs\\DM2-HUE9YkAX\\Lib\\site-packages\\keras\\layers\\convolutional\\base_conv.py\", line 354, in compute_output_shape\n",
      "    raise ValueError(\n",
      "ValueError: One of the dimensions in the output is <= 0 due to downsampling in extra_conv_1. Consider increasing the input size. Received input shape [None, 5, 7] which would produce output shape with a zero or negative value in a dimension.\n"
     ]
    },
    {
     "name": "stderr",
     "output_type": "stream",
     "text": [
      "[W 2023-06-30 16:19:36,620] Trial 149 failed with value None.\n"
     ]
    },
    {
     "name": "stdout",
     "output_type": "stream",
     "text": [
      "13/13 [==============================] - 1s 3ms/step\n"
     ]
    },
    {
     "name": "stderr",
     "output_type": "stream",
     "text": [
      "[I 2023-06-30 16:19:36,741] Trial 22 finished with value: 0.9870801033591732 and parameters: {'n_conv': 1, 'n_hidden': 1, 'hidden_nodes': 68, 'dropout': 0.1559344088622886, 'filters': 9, 'kernel_size': 8, 'batch_size': 41, 'epochs': 38}. Best is trial 22 with value: 0.9870801033591732.\n"
     ]
    },
    {
     "name": "stdout",
     "output_type": "stream",
     "text": [
      "13/13 [==============================] - 0s 2ms/step\n"
     ]
    },
    {
     "name": "stderr",
     "output_type": "stream",
     "text": [
      "[I 2023-06-30 16:19:37,373] Trial 16 finished with value: 0.958656330749354 and parameters: {'n_conv': 0, 'n_hidden': 2, 'hidden_nodes': 139, 'dropout': 0.062052216498724215, 'filters': 14, 'kernel_size': 13, 'batch_size': 37, 'epochs': 77}. Best is trial 22 with value: 0.9870801033591732.\n"
     ]
    },
    {
     "name": "stdout",
     "output_type": "stream",
     "text": [
      "13/13 [==============================] - 0s 2ms/step\n"
     ]
    },
    {
     "name": "stderr",
     "output_type": "stream",
     "text": [
      "[I 2023-06-30 16:19:41,116] Trial 18 finished with value: 0.9741602067183462 and parameters: {'n_conv': 3, 'n_hidden': 3, 'hidden_nodes': 27, 'dropout': 0.1149931982448079, 'filters': 6, 'kernel_size': 6, 'batch_size': 52, 'epochs': 50}. Best is trial 22 with value: 0.9870801033591732.\n"
     ]
    },
    {
     "name": "stdout",
     "output_type": "stream",
     "text": [
      "13/13 [==============================] - 0s 3ms/step\n"
     ]
    },
    {
     "name": "stderr",
     "output_type": "stream",
     "text": [
      "[I 2023-06-30 16:20:11,171] Trial 24 finished with value: 0.9896640826873385 and parameters: {'n_conv': 3, 'n_hidden': 3, 'hidden_nodes': 239, 'dropout': 0.060551943725558194, 'filters': 13, 'kernel_size': 4, 'batch_size': 46, 'epochs': 90}. Best is trial 24 with value: 0.9896640826873385.\n"
     ]
    }
   ],
   "source": [
    "# objective function to be minimized\n",
    "def objective_fun(trial, X, y, validation_X, validation_y):\n",
    "\n",
    "    n_conv = trial.suggest_int('n_conv', 0, 3)\n",
    "    n_hidden = trial.suggest_int('n_hidden', 0, 3)\n",
    "    hidden_nodes = trial.suggest_int('hidden_nodes', 8, 256)\n",
    "    dropout = trial.suggest_float('dropout', 0, 0.2)\n",
    "    filters = trial.suggest_int('filters', 2, 16)\n",
    "    kernel_size = trial.suggest_int('kernel_size', 2, 16)\n",
    "    batch_size = trial.suggest_int('batch_size', 16, 64)\n",
    "    epochs = trial.suggest_int('epochs', 5, 90)\n",
    "    \n",
    "    print(f\"Running little bitch having n_conv={n_conv}, dropout={dropout}, hidden_nodes={hidden_nodes}\")\n",
    "    \n",
    "    cnn = build_model(  X.shape[1:], len(np.unique(y)),\n",
    "                        n_hidden=n_hidden,\n",
    "                        hidden_nodes=hidden_nodes,\n",
    "                        n_conv=n_conv,\n",
    "                        dropout=dropout,\n",
    "                        filters=filters,\n",
    "                        kernel_size=kernel_size,\n",
    "                       )\n",
    "\n",
    "    cnn.fit(X, y, batch_size=batch_size, epochs=epochs, verbose=False)\n",
    "    \n",
    "    y_pred = np.argmax(cnn.predict(validation_X), axis=1)\n",
    "\n",
    "    error = accuracy_score(validation_y, y_pred)\n",
    "\n",
    "    return error\n",
    "\n",
    "\n",
    "study = optuna.create_study(direction='maximize')\n",
    "trial_function = lambda trial: objective_fun(trial, \n",
    "                                             X_train, y_train,\n",
    "                                             X_val, y_val)\n",
    "study.optimize(trial_function, n_trials=150, n_jobs=-1, catch=ValueError)"
   ]
  },
  {
   "cell_type": "code",
   "execution_count": 191,
   "metadata": {},
   "outputs": [
    {
     "data": {
      "text/plain": [
       "<matplotlib.legend.Legend at 0x237ac5a0590>"
      ]
     },
     "execution_count": 191,
     "metadata": {},
     "output_type": "execute_result"
    },
    {
     "data": {
      "image/png": "[encoded data removed]",
      "text/plain": [
       "<Figure size 354.331x236.22 with 1 Axes>"
      ]
     },
     "metadata": {},
     "output_type": "display_data"
    }
   ],
   "source": [
    "plt.plot(test_model.history.history[\"accuracy\"], label=\"accuracy\")\n",
    "plt.legend()"
   ]
  },
  {
   "cell_type": "code",
   "execution_count": 192,
   "metadata": {
    "ExecuteTime": {
     "end_time": "2023-06-26T15:10:30.163142Z",
     "start_time": "2023-06-26T15:10:30.161643Z"
    }
   },
   "outputs": [],
   "source": [
    "best_params = study.best_params\n",
    "# best_params = dict(n_conv=0, n_hidden=1, hidden_nodes=248, dropout=0.752200, filters=8, kernel_size=14, batch_size=19, epochs=75)"
   ]
  },
  {
   "cell_type": "code",
   "execution_count": 193,
   "metadata": {
    "ExecuteTime": {
     "end_time": "2023-06-26T15:10:35.671819Z",
     "start_time": "2023-06-26T15:10:30.163896Z"
    }
   },
   "outputs": [
    {
     "name": "stdout",
     "output_type": "stream",
     "text": [
      "Model: \"sequential_2\"\n",
      "_________________________________________________________________\n",
      " Layer (type)                Output Shape              Param #   \n",
      "=================================================================\n",
      " base_conv (Conv1D)          (None, 24, 13)            1417      \n",
      "                                                                 \n",
      " batch_normalization_6 (Batc  (None, 24, 13)           52        \n",
      " hNormalization)                                                 \n",
      "                                                                 \n",
      " activation_6 (Activation)   (None, 24, 13)            0         \n",
      "                                                                 \n",
      " extra_conv_0 (Conv1D)       (None, 21, 13)            689       \n",
      "                                                                 \n",
      " batch_normalization_7 (Batc  (None, 21, 13)           52        \n",
      " hNormalization)                                                 \n",
      "                                                                 \n",
      " activation_7 (Activation)   (None, 21, 13)            0         \n",
      "                                                                 \n",
      " dropout_4 (Dropout)         (None, 21, 13)            0         \n",
      "                                                                 \n",
      " extra_conv_1 (Conv1D)       (None, 18, 13)            689       \n",
      "                                                                 \n",
      " batch_normalization_8 (Batc  (None, 18, 13)           52        \n",
      " hNormalization)                                                 \n",
      "                                                                 \n",
      " activation_8 (Activation)   (None, 18, 13)            0         \n",
      "                                                                 \n",
      " dropout_5 (Dropout)         (None, 18, 13)            0         \n",
      "                                                                 \n",
      " extra_conv_2 (Conv1D)       (None, 15, 13)            689       \n",
      "                                                                 \n",
      " batch_normalization_9 (Batc  (None, 15, 13)           52        \n",
      " hNormalization)                                                 \n",
      "                                                                 \n",
      " activation_9 (Activation)   (None, 15, 13)            0         \n",
      "                                                                 \n",
      " dropout_6 (Dropout)         (None, 15, 13)            0         \n",
      "                                                                 \n",
      " global_average_pooling1d_2   (None, 13)               0         \n",
      " (GlobalAveragePooling1D)                                        \n",
      "                                                                 \n",
      " dense_6 (Dense)             (None, 239)               3346      \n",
      "                                                                 \n",
      " dense_7 (Dense)             (None, 239)               57360     \n",
      "                                                                 \n",
      " dense_8 (Dense)             (None, 239)               57360     \n",
      "                                                                 \n",
      " dense_9 (Dense)             (None, 2)                 480       \n",
      "                                                                 \n",
      "=================================================================\n",
      "Total params: 122,238\n",
      "Trainable params: 122,134\n",
      "Non-trainable params: 104\n",
      "_________________________________________________________________\n",
      "Epoch 1/90\n",
      "42/42 [==============================] - 3s 8ms/step - loss: 0.6369 - accuracy: 0.6579\n",
      "Epoch 2/90\n",
      "42/42 [==============================] - 0s 8ms/step - loss: 0.3685 - accuracy: 0.8478\n",
      "Epoch 3/90\n",
      "42/42 [==============================] - 0s 9ms/step - loss: 0.2010 - accuracy: 0.9177\n",
      "Epoch 4/90\n",
      "42/42 [==============================] - 1s 12ms/step - loss: 0.1513 - accuracy: 0.9348\n",
      "Epoch 5/90\n",
      "42/42 [==============================] - 0s 12ms/step - loss: 0.1219 - accuracy: 0.9539\n",
      "Epoch 6/90\n",
      "42/42 [==============================] - 0s 11ms/step - loss: 0.0805 - accuracy: 0.9684\n",
      "Epoch 7/90\n",
      "42/42 [==============================] - 0s 10ms/step - loss: 0.0730 - accuracy: 0.9726\n",
      "Epoch 8/90\n",
      "42/42 [==============================] - 0s 9ms/step - loss: 0.0793 - accuracy: 0.9695\n",
      "Epoch 9/90\n",
      "42/42 [==============================] - 0s 8ms/step - loss: 0.0600 - accuracy: 0.9788\n",
      "Epoch 10/90\n",
      "42/42 [==============================] - 0s 7ms/step - loss: 0.0514 - accuracy: 0.9772\n",
      "Epoch 11/90\n",
      "42/42 [==============================] - 0s 8ms/step - loss: 0.0437 - accuracy: 0.9865\n",
      "Epoch 12/90\n",
      "42/42 [==============================] - 0s 8ms/step - loss: 0.0471 - accuracy: 0.9814\n",
      "Epoch 13/90\n",
      "42/42 [==============================] - 0s 7ms/step - loss: 0.0281 - accuracy: 0.9891\n",
      "Epoch 14/90\n",
      "42/42 [==============================] - 0s 8ms/step - loss: 0.0446 - accuracy: 0.9824\n",
      "Epoch 15/90\n",
      "42/42 [==============================] - 0s 11ms/step - loss: 0.0319 - accuracy: 0.9881\n",
      "Epoch 16/90\n",
      "42/42 [==============================] - 0s 10ms/step - loss: 0.0296 - accuracy: 0.9871\n",
      "Epoch 17/90\n",
      "42/42 [==============================] - 0s 11ms/step - loss: 0.0307 - accuracy: 0.9912\n",
      "Epoch 18/90\n",
      "42/42 [==============================] - 0s 10ms/step - loss: 0.0359 - accuracy: 0.9845\n",
      "Epoch 19/90\n",
      "42/42 [==============================] - 0s 12ms/step - loss: 0.0262 - accuracy: 0.9907\n",
      "Epoch 20/90\n",
      "42/42 [==============================] - 1s 12ms/step - loss: 0.0270 - accuracy: 0.9891\n",
      "Epoch 21/90\n",
      "42/42 [==============================] - 0s 12ms/step - loss: 0.0176 - accuracy: 0.9969\n",
      "Epoch 22/90\n",
      "42/42 [==============================] - 0s 9ms/step - loss: 0.0236 - accuracy: 0.9886\n",
      "Epoch 23/90\n",
      "42/42 [==============================] - 0s 9ms/step - loss: 0.0223 - accuracy: 0.9912\n",
      "Epoch 24/90\n",
      "42/42 [==============================] - 0s 11ms/step - loss: 0.0199 - accuracy: 0.9943\n",
      "Epoch 25/90\n",
      "42/42 [==============================] - 0s 9ms/step - loss: 0.0183 - accuracy: 0.9933\n",
      "Epoch 26/90\n",
      "42/42 [==============================] - 0s 9ms/step - loss: 0.0167 - accuracy: 0.9938\n",
      "Epoch 27/90\n",
      "42/42 [==============================] - 1s 13ms/step - loss: 0.0109 - accuracy: 0.9948\n",
      "Epoch 28/90\n",
      "42/42 [==============================] - 0s 9ms/step - loss: 0.0174 - accuracy: 0.9933\n",
      "Epoch 29/90\n",
      "42/42 [==============================] - 1s 12ms/step - loss: 0.0229 - accuracy: 0.9917\n",
      "Epoch 30/90\n",
      "42/42 [==============================] - 1s 13ms/step - loss: 0.0257 - accuracy: 0.9907\n",
      "Epoch 31/90\n",
      "42/42 [==============================] - 0s 8ms/step - loss: 0.0100 - accuracy: 0.9974\n",
      "Epoch 32/90\n",
      "42/42 [==============================] - 0s 9ms/step - loss: 0.0121 - accuracy: 0.9948\n",
      "Epoch 33/90\n",
      "42/42 [==============================] - 0s 9ms/step - loss: 0.0219 - accuracy: 0.9922\n",
      "Epoch 34/90\n",
      "42/42 [==============================] - 0s 10ms/step - loss: 0.0096 - accuracy: 0.9969\n",
      "Epoch 35/90\n",
      "42/42 [==============================] - 1s 12ms/step - loss: 0.0130 - accuracy: 0.9959\n",
      "Epoch 36/90\n",
      "42/42 [==============================] - 1s 13ms/step - loss: 0.0151 - accuracy: 0.9943\n",
      "Epoch 37/90\n",
      "42/42 [==============================] - 0s 10ms/step - loss: 0.0082 - accuracy: 0.9964\n",
      "Epoch 38/90\n",
      "42/42 [==============================] - 0s 9ms/step - loss: 0.0129 - accuracy: 0.9959\n",
      "Epoch 39/90\n",
      "42/42 [==============================] - 1s 13ms/step - loss: 0.0212 - accuracy: 0.9922\n",
      "Epoch 40/90\n",
      "42/42 [==============================] - 0s 10ms/step - loss: 0.0094 - accuracy: 0.9974\n",
      "Epoch 41/90\n",
      "42/42 [==============================] - 0s 9ms/step - loss: 0.0084 - accuracy: 0.9953\n",
      "Epoch 42/90\n",
      "42/42 [==============================] - 0s 9ms/step - loss: 0.0140 - accuracy: 0.9953\n",
      "Epoch 43/90\n",
      "42/42 [==============================] - 0s 9ms/step - loss: 0.0081 - accuracy: 0.9979\n",
      "Epoch 44/90\n",
      "42/42 [==============================] - 0s 9ms/step - loss: 0.0101 - accuracy: 0.9964\n",
      "Epoch 45/90\n",
      "42/42 [==============================] - 0s 8ms/step - loss: 0.0074 - accuracy: 0.9969\n",
      "Epoch 46/90\n",
      "42/42 [==============================] - 0s 8ms/step - loss: 0.0098 - accuracy: 0.9974\n",
      "Epoch 47/90\n",
      "42/42 [==============================] - 0s 8ms/step - loss: 0.0100 - accuracy: 0.9974\n",
      "Epoch 48/90\n",
      "42/42 [==============================] - 0s 8ms/step - loss: 0.0101 - accuracy: 0.9964\n",
      "Epoch 49/90\n"
     ]
    },
    {
     "name": "stdout",
     "output_type": "stream",
     "text": [
      "42/42 [==============================] - 0s 8ms/step - loss: 0.0081 - accuracy: 0.9974\n",
      "Epoch 50/90\n",
      "42/42 [==============================] - 0s 12ms/step - loss: 0.0067 - accuracy: 0.9979\n",
      "Epoch 51/90\n",
      "42/42 [==============================] - 1s 15ms/step - loss: 0.0101 - accuracy: 0.9984\n",
      "Epoch 52/90\n",
      "42/42 [==============================] - 1s 16ms/step - loss: 0.0153 - accuracy: 0.9953\n",
      "Epoch 53/90\n",
      "42/42 [==============================] - 1s 12ms/step - loss: 0.0048 - accuracy: 0.9984\n",
      "Epoch 54/90\n",
      "42/42 [==============================] - 1s 12ms/step - loss: 0.0076 - accuracy: 0.9979\n",
      "Epoch 55/90\n",
      "42/42 [==============================] - 0s 11ms/step - loss: 0.0113 - accuracy: 0.9964\n",
      "Epoch 56/90\n",
      "42/42 [==============================] - 0s 11ms/step - loss: 0.0252 - accuracy: 0.9922\n",
      "Epoch 57/90\n",
      "42/42 [==============================] - 0s 11ms/step - loss: 0.0053 - accuracy: 0.9995\n",
      "Epoch 58/90\n",
      "42/42 [==============================] - 1s 12ms/step - loss: 0.0147 - accuracy: 0.9943\n",
      "Epoch 59/90\n",
      "42/42 [==============================] - 0s 11ms/step - loss: 0.0145 - accuracy: 0.9943\n",
      "Epoch 60/90\n",
      "42/42 [==============================] - 0s 11ms/step - loss: 0.0054 - accuracy: 0.9984\n",
      "Epoch 61/90\n",
      "42/42 [==============================] - 0s 10ms/step - loss: 0.0054 - accuracy: 0.9974\n",
      "Epoch 62/90\n",
      "42/42 [==============================] - 1s 13ms/step - loss: 0.0097 - accuracy: 0.9974\n",
      "Epoch 63/90\n",
      "42/42 [==============================] - 1s 13ms/step - loss: 0.0048 - accuracy: 0.9990\n",
      "Epoch 64/90\n",
      "42/42 [==============================] - 1s 17ms/step - loss: 0.0016 - accuracy: 0.9995\n",
      "Epoch 65/90\n",
      "42/42 [==============================] - 0s 12ms/step - loss: 0.0056 - accuracy: 0.9984\n",
      "Epoch 66/90\n",
      "42/42 [==============================] - 0s 12ms/step - loss: 0.0128 - accuracy: 0.9969\n",
      "Epoch 67/90\n",
      "42/42 [==============================] - 0s 10ms/step - loss: 0.0116 - accuracy: 0.9953\n",
      "Epoch 68/90\n",
      "42/42 [==============================] - 0s 7ms/step - loss: 0.0050 - accuracy: 0.9974\n",
      "Epoch 69/90\n",
      "42/42 [==============================] - 0s 9ms/step - loss: 0.0159 - accuracy: 0.9943\n",
      "Epoch 70/90\n",
      "42/42 [==============================] - 0s 10ms/step - loss: 0.0051 - accuracy: 0.9990\n",
      "Epoch 71/90\n",
      "42/42 [==============================] - 0s 10ms/step - loss: 0.0050 - accuracy: 0.9979\n",
      "Epoch 72/90\n",
      "42/42 [==============================] - 0s 9ms/step - loss: 0.0069 - accuracy: 0.9969\n",
      "Epoch 73/90\n",
      "42/42 [==============================] - 0s 10ms/step - loss: 0.0148 - accuracy: 0.9938\n",
      "Epoch 74/90\n",
      "42/42 [==============================] - 0s 10ms/step - loss: 0.0140 - accuracy: 0.9964\n",
      "Epoch 75/90\n",
      "42/42 [==============================] - 1s 12ms/step - loss: 0.0083 - accuracy: 0.9969\n",
      "Epoch 76/90\n",
      "42/42 [==============================] - 0s 9ms/step - loss: 0.0185 - accuracy: 0.9933\n",
      "Epoch 77/90\n",
      "42/42 [==============================] - 0s 12ms/step - loss: 0.0039 - accuracy: 0.9984\n",
      "Epoch 78/90\n",
      "42/42 [==============================] - 0s 7ms/step - loss: 0.0033 - accuracy: 0.9984\n",
      "Epoch 79/90\n",
      "42/42 [==============================] - 0s 8ms/step - loss: 0.0060 - accuracy: 0.9959\n",
      "Epoch 80/90\n",
      "42/42 [==============================] - 0s 9ms/step - loss: 0.0088 - accuracy: 0.9964\n",
      "Epoch 81/90\n",
      "42/42 [==============================] - 0s 9ms/step - loss: 0.0026 - accuracy: 0.9995\n",
      "Epoch 82/90\n",
      "42/42 [==============================] - 0s 8ms/step - loss: 0.0138 - accuracy: 0.9959\n",
      "Epoch 83/90\n",
      "42/42 [==============================] - 0s 9ms/step - loss: 0.0111 - accuracy: 0.9948\n",
      "Epoch 84/90\n",
      "42/42 [==============================] - 0s 10ms/step - loss: 0.0053 - accuracy: 0.9990\n",
      "Epoch 85/90\n",
      "42/42 [==============================] - 1s 13ms/step - loss: 0.0016 - accuracy: 1.0000\n",
      "Epoch 86/90\n",
      "42/42 [==============================] - 0s 12ms/step - loss: 0.0103 - accuracy: 0.9953\n",
      "Epoch 87/90\n",
      "42/42 [==============================] - 0s 9ms/step - loss: 0.0031 - accuracy: 0.9990\n",
      "Epoch 88/90\n",
      "42/42 [==============================] - 0s 9ms/step - loss: 0.0069 - accuracy: 0.9979\n",
      "Epoch 89/90\n",
      "42/42 [==============================] - 0s 9ms/step - loss: 0.0074 - accuracy: 0.9964\n",
      "Epoch 90/90\n",
      "42/42 [==============================] - 0s 8ms/step - loss: 0.0093 - accuracy: 0.9984\n"
     ]
    },
    {
     "data": {
      "text/plain": [
       "<keras.callbacks.History at 0x23794576450>"
      ]
     },
     "execution_count": 193,
     "metadata": {},
     "output_type": "execute_result"
    }
   ],
   "source": [
    "cnn = build_model((27,27), 2, **best_params)\n",
    "cnn.summary()\n",
    "cnn.fit( np.concatenate((X_train, X_val)), np.concatenate((y_train, y_val)), \n",
    "            epochs=best_params[\"epochs\"], \n",
    "            batch_size=best_params[\"batch_size\"])"
   ]
  },
  {
   "cell_type": "code",
   "execution_count": 194,
   "metadata": {
    "ExecuteTime": {
     "end_time": "2023-06-26T15:10:35.828612Z",
     "start_time": "2023-06-26T15:10:35.675759Z"
    },
    "scrolled": false
   },
   "outputs": [
    {
     "name": "stdout",
     "output_type": "stream",
     "text": [
      "17/17 [==============================] - 0s 2ms/step\n",
      "Cohen k 0.9230769230769231\n",
      "Accuracy 0.9615384615384616\n",
      "F1-score [0.96153846 0.96153846]\n",
      "              precision    recall  f1-score   support\n",
      "\n",
      "           0       0.96      0.96      0.96       260\n",
      "           1       0.96      0.96      0.96       260\n",
      "\n",
      "    accuracy                           0.96       520\n",
      "   macro avg       0.96      0.96      0.96       520\n",
      "weighted avg       0.96      0.96      0.96       520\n",
      "\n"
     ]
    }
   ],
   "source": [
    "from sklearn.metrics import f1_score, classification_report, cohen_kappa_score\n",
    "\n",
    "y_pred = np.argmax(cnn.predict(X_test), axis=1)\n",
    "\n",
    "print(f'Cohen k {cohen_kappa_score(y_test, y_pred)}')\n",
    "print('Accuracy %s' % accuracy_score(y_test, y_pred))\n",
    "print('F1-score %s' % f1_score(y_test, y_pred, average=None))\n",
    "print(classification_report(y_test, y_pred))"
   ]
  },
  {
   "cell_type": "markdown",
   "metadata": {},
   "source": [
    "   # LIME Explainer "
   ]
  },
  {
   "cell_type": "markdown",
   "metadata": {},
   "source": [
    "## setting the classifier for explain_instance using the cnn"
   ]
  },
  {
   "cell_type": "code",
   "execution_count": 65,
   "metadata": {},
   "outputs": [],
   "source": [
    "from lime import lime_image\n",
    "from PIL import Image\n",
    "from skimage.segmentation import mark_boundaries\n"
   ]
  },
  {
   "cell_type": "code",
   "execution_count": null,
   "metadata": {},
   "outputs": [],
   "source": [
    "#To plot the heatmap\n",
    "rgb_traces = []\n",
    "\n",
    "for i in range(len(X_test)):\n",
    "    trace = X_test[i].reshape(27,27)\n",
    "    \n",
    "    min_value = np.min(trace)\n",
    "    max_value = np.max(trace)\n",
    "    matrice_normalizzata = (trace - min_value) / (max_value - min_value)\n",
    "\n",
    "    # Crea una matrice 27x27x3 con valori dei canali di colore basati sulla matrice normalizzata\n",
    "    rosso = matrice_normalizzata\n",
    "    verde = np.zeros_like(matrice_normalizzata)\n",
    "    blu = np.zeros_like(matrice_normalizzata)\n",
    "    heatmap = np.dstack((rosso, verde, blu))\n",
    "    rgb_traces.append(heatmap)\n",
    "\n",
    "rgb_traces = np.array([np.array(trace) for trace in rgb_traces])"
   ]
  },
  {
   "cell_type": "code",
   "execution_count": 195,
   "metadata": {},
   "outputs": [],
   "source": [
    "explainer = lime_image.LimeImageExplainer()"
   ]
  },
  {
   "cell_type": "code",
   "execution_count": 196,
   "metadata": {},
   "outputs": [],
   "source": [
    "import skimage\n",
    "from skimage.color import gray2rgb, rgb2gray\n",
    "\n",
    "def make_prediction(color_img):\n",
    "    gray_img = rgb2gray(color_img).reshape(-1,27,27)\n",
    "    preds = cnn.predict(gray_img)\n",
    "    return preds"
   ]
  },
  {
   "cell_type": "code",
   "execution_count": 298,
   "metadata": {
    "scrolled": true
   },
   "outputs": [
    {
     "data": {
      "application/vnd.jupyter.widget-view+json": {
       "model_id": "6abb0c266e0c448db319c4811d39a85d",
       "version_major": 2,
       "version_minor": 0
      },
      "text/plain": [
       "  0%|          | 0/50 [00:00<?, ?it/s]"
      ]
     },
     "metadata": {},
     "output_type": "display_data"
    },
    {
     "name": "stdout",
     "output_type": "stream",
     "text": [
      "1/1 [==============================] - 0s 39ms/step\n",
      "1/1 [==============================] - 0s 16ms/step\n",
      "1/1 [==============================] - 0s 16ms/step\n",
      "1/1 [==============================] - 0s 19ms/step\n",
      "1/1 [==============================] - 0s 15ms/step\n"
     ]
    },
    {
     "data": {
      "application/vnd.jupyter.widget-view+json": {
       "model_id": "98aee539b2874ab6ae9fb3be10161fa7",
       "version_major": 2,
       "version_minor": 0
      },
      "text/plain": [
       "  0%|          | 0/50 [00:00<?, ?it/s]"
      ]
     },
     "metadata": {},
     "output_type": "display_data"
    },
    {
     "name": "stdout",
     "output_type": "stream",
     "text": [
      "1/1 [==============================] - 0s 13ms/step\n",
      "1/1 [==============================] - 0s 17ms/step\n",
      "1/1 [==============================] - 0s 13ms/step\n",
      "1/1 [==============================] - 0s 19ms/step\n",
      "1/1 [==============================] - 0s 18ms/step\n"
     ]
    },
    {
     "data": {
      "application/vnd.jupyter.widget-view+json": {
       "model_id": "19160380faa84f30b108c181063bb50d",
       "version_major": 2,
       "version_minor": 0
      },
      "text/plain": [
       "  0%|          | 0/50 [00:00<?, ?it/s]"
      ]
     },
     "metadata": {},
     "output_type": "display_data"
    },
    {
     "name": "stdout",
     "output_type": "stream",
     "text": [
      "1/1 [==============================] - 0s 17ms/step\n",
      "1/1 [==============================] - 0s 17ms/step\n",
      "1/1 [==============================] - 0s 18ms/step\n",
      "1/1 [==============================] - 0s 20ms/step\n",
      "1/1 [==============================] - 0s 21ms/step\n"
     ]
    },
    {
     "data": {
      "application/vnd.jupyter.widget-view+json": {
       "model_id": "01b547898b5b4137891323831a5feb1a",
       "version_major": 2,
       "version_minor": 0
      },
      "text/plain": [
       "  0%|          | 0/50 [00:00<?, ?it/s]"
      ]
     },
     "metadata": {},
     "output_type": "display_data"
    },
    {
     "name": "stdout",
     "output_type": "stream",
     "text": [
      "1/1 [==============================] - 0s 12ms/step\n",
      "1/1 [==============================] - 0s 20ms/step\n",
      "1/1 [==============================] - 0s 17ms/step\n",
      "1/1 [==============================] - 0s 19ms/step\n",
      "1/1 [==============================] - 0s 19ms/step\n"
     ]
    },
    {
     "data": {
      "application/vnd.jupyter.widget-view+json": {
       "model_id": "a26747731b5a491c9c1ff4f368902661",
       "version_major": 2,
       "version_minor": 0
      },
      "text/plain": [
       "  0%|          | 0/50 [00:00<?, ?it/s]"
      ]
     },
     "metadata": {},
     "output_type": "display_data"
    },
    {
     "name": "stdout",
     "output_type": "stream",
     "text": [
      "1/1 [==============================] - 0s 21ms/step\n",
      "1/1 [==============================] - 0s 19ms/step\n",
      "1/1 [==============================] - 0s 18ms/step\n",
      "1/1 [==============================] - 0s 24ms/step\n",
      "1/1 [==============================] - 0s 17ms/step\n",
      "1/1 [==============================] - 0s 14ms/step\n",
      "Prediction :  1\n",
      "Actual : 1       index:4\n"
     ]
    },
    {
     "data": {
      "application/vnd.jupyter.widget-view+json": {
       "model_id": "427f25a1a06b4a79b2476c5db827b770",
       "version_major": 2,
       "version_minor": 0
      },
      "text/plain": [
       "  0%|          | 0/50 [00:00<?, ?it/s]"
      ]
     },
     "metadata": {},
     "output_type": "display_data"
    },
    {
     "name": "stdout",
     "output_type": "stream",
     "text": [
      "1/1 [==============================] - 0s 20ms/step\n",
      "1/1 [==============================] - 0s 13ms/step\n",
      "1/1 [==============================] - 0s 17ms/step\n",
      "1/1 [==============================] - 0s 20ms/step\n",
      "1/1 [==============================] - 0s 22ms/step\n"
     ]
    },
    {
     "data": {
      "application/vnd.jupyter.widget-view+json": {
       "model_id": "f4acc4a362eb430297fe0d550f7dba91",
       "version_major": 2,
       "version_minor": 0
      },
      "text/plain": [
       "  0%|          | 0/50 [00:00<?, ?it/s]"
      ]
     },
     "metadata": {},
     "output_type": "display_data"
    },
    {
     "name": "stdout",
     "output_type": "stream",
     "text": [
      "1/1 [==============================] - 0s 27ms/step\n",
      "1/1 [==============================] - 0s 16ms/step\n",
      "1/1 [==============================] - 0s 15ms/step\n",
      "1/1 [==============================] - 0s 17ms/step\n",
      "1/1 [==============================] - 0s 18ms/step\n"
     ]
    },
    {
     "data": {
      "application/vnd.jupyter.widget-view+json": {
       "model_id": "cf164c57adac42d291cc60293083170f",
       "version_major": 2,
       "version_minor": 0
      },
      "text/plain": [
       "  0%|          | 0/50 [00:00<?, ?it/s]"
      ]
     },
     "metadata": {},
     "output_type": "display_data"
    },
    {
     "name": "stdout",
     "output_type": "stream",
     "text": [
      "1/1 [==============================] - 0s 25ms/step\n",
      "1/1 [==============================] - 0s 20ms/step\n",
      "1/1 [==============================] - 0s 19ms/step\n",
      "1/1 [==============================] - 0s 17ms/step\n",
      "1/1 [==============================] - 0s 21ms/step\n"
     ]
    },
    {
     "data": {
      "application/vnd.jupyter.widget-view+json": {
       "model_id": "9aa3940e76b84684bd0d5e0e530b5217",
       "version_major": 2,
       "version_minor": 0
      },
      "text/plain": [
       "  0%|          | 0/50 [00:00<?, ?it/s]"
      ]
     },
     "metadata": {},
     "output_type": "display_data"
    },
    {
     "name": "stdout",
     "output_type": "stream",
     "text": [
      "1/1 [==============================] - 0s 13ms/step\n",
      "1/1 [==============================] - 0s 22ms/step\n",
      "1/1 [==============================] - 0s 21ms/step\n",
      "1/1 [==============================] - 0s 19ms/step\n",
      "1/1 [==============================] - 0s 20ms/step\n"
     ]
    },
    {
     "data": {
      "application/vnd.jupyter.widget-view+json": {
       "model_id": "cfbc713a423446728ab0a256e7964b35",
       "version_major": 2,
       "version_minor": 0
      },
      "text/plain": [
       "  0%|          | 0/50 [00:00<?, ?it/s]"
      ]
     },
     "metadata": {},
     "output_type": "display_data"
    },
    {
     "name": "stdout",
     "output_type": "stream",
     "text": [
      "1/1 [==============================] - 0s 17ms/step\n",
      "1/1 [==============================] - 0s 17ms/step\n",
      "1/1 [==============================] - 0s 14ms/step\n",
      "1/1 [==============================] - 0s 15ms/step\n",
      "1/1 [==============================] - 0s 18ms/step\n"
     ]
    },
    {
     "data": {
      "application/vnd.jupyter.widget-view+json": {
       "model_id": "9806fab9b60346178598d93fc3539b6b",
       "version_major": 2,
       "version_minor": 0
      },
      "text/plain": [
       "  0%|          | 0/50 [00:00<?, ?it/s]"
      ]
     },
     "metadata": {},
     "output_type": "display_data"
    },
    {
     "name": "stdout",
     "output_type": "stream",
     "text": [
      "1/1 [==============================] - 0s 27ms/step\n",
      "1/1 [==============================] - 0s 16ms/step\n",
      "1/1 [==============================] - 0s 19ms/step\n",
      "1/1 [==============================] - 0s 20ms/step\n",
      "1/1 [==============================] - 0s 20ms/step\n"
     ]
    },
    {
     "data": {
      "application/vnd.jupyter.widget-view+json": {
       "model_id": "9ffc530ae7d14567935239c81ad6cb62",
       "version_major": 2,
       "version_minor": 0
      },
      "text/plain": [
       "  0%|          | 0/50 [00:00<?, ?it/s]"
      ]
     },
     "metadata": {},
     "output_type": "display_data"
    },
    {
     "name": "stdout",
     "output_type": "stream",
     "text": [
      "1/1 [==============================] - 0s 16ms/step\n",
      "1/1 [==============================] - 0s 18ms/step\n",
      "1/1 [==============================] - 0s 20ms/step\n",
      "1/1 [==============================] - 0s 11ms/step\n",
      "1/1 [==============================] - 0s 12ms/step\n"
     ]
    },
    {
     "data": {
      "application/vnd.jupyter.widget-view+json": {
       "model_id": "3ddd1b9e22064484b385cc31664b8bd8",
       "version_major": 2,
       "version_minor": 0
      },
      "text/plain": [
       "  0%|          | 0/50 [00:00<?, ?it/s]"
      ]
     },
     "metadata": {},
     "output_type": "display_data"
    },
    {
     "name": "stdout",
     "output_type": "stream",
     "text": [
      "1/1 [==============================] - 0s 15ms/step\n",
      "1/1 [==============================] - 0s 21ms/step\n",
      "1/1 [==============================] - 0s 17ms/step\n",
      "1/1 [==============================] - 0s 19ms/step\n",
      "1/1 [==============================] - 0s 11ms/step\n"
     ]
    },
    {
     "data": {
      "application/vnd.jupyter.widget-view+json": {
       "model_id": "22e4cc91214245eab4c5b41b4a99deaa",
       "version_major": 2,
       "version_minor": 0
      },
      "text/plain": [
       "  0%|          | 0/50 [00:00<?, ?it/s]"
      ]
     },
     "metadata": {},
     "output_type": "display_data"
    },
    {
     "name": "stdout",
     "output_type": "stream",
     "text": [
      "1/1 [==============================] - 0s 24ms/step\n",
      "1/1 [==============================] - 0s 19ms/step\n",
      "1/1 [==============================] - 0s 23ms/step\n",
      "1/1 [==============================] - 0s 13ms/step\n",
      "1/1 [==============================] - 0s 17ms/step\n"
     ]
    },
    {
     "data": {
      "application/vnd.jupyter.widget-view+json": {
       "model_id": "a6f0db1a0b9e4763b8b5da86f4084403",
       "version_major": 2,
       "version_minor": 0
      },
      "text/plain": [
       "  0%|          | 0/50 [00:00<?, ?it/s]"
      ]
     },
     "metadata": {},
     "output_type": "display_data"
    },
    {
     "name": "stdout",
     "output_type": "stream",
     "text": [
      "1/1 [==============================] - 0s 19ms/step\n",
      "1/1 [==============================] - 0s 19ms/step\n",
      "1/1 [==============================] - 0s 16ms/step\n",
      "1/1 [==============================] - 0s 16ms/step\n",
      "1/1 [==============================] - 0s 18ms/step\n",
      "1/1 [==============================] - 0s 16ms/step\n",
      "Prediction :  0\n",
      "Actual : 0       index:14\n"
     ]
    },
    {
     "data": {
      "application/vnd.jupyter.widget-view+json": {
       "model_id": "981c2e0d96da4b12bb30ed34f99ac255",
       "version_major": 2,
       "version_minor": 0
      },
      "text/plain": [
       "  0%|          | 0/50 [00:00<?, ?it/s]"
      ]
     },
     "metadata": {},
     "output_type": "display_data"
    },
    {
     "name": "stdout",
     "output_type": "stream",
     "text": [
      "1/1 [==============================] - 0s 18ms/step\n",
      "1/1 [==============================] - 0s 17ms/step\n",
      "1/1 [==============================] - 0s 10ms/step\n",
      "1/1 [==============================] - 0s 16ms/step\n",
      "1/1 [==============================] - 0s 17ms/step\n"
     ]
    },
    {
     "data": {
      "application/vnd.jupyter.widget-view+json": {
       "model_id": "a9be861eb00d455392f86c6ae3895a9a",
       "version_major": 2,
       "version_minor": 0
      },
      "text/plain": [
       "  0%|          | 0/50 [00:00<?, ?it/s]"
      ]
     },
     "metadata": {},
     "output_type": "display_data"
    },
    {
     "name": "stdout",
     "output_type": "stream",
     "text": [
      "1/1 [==============================] - 0s 20ms/step\n",
      "1/1 [==============================] - 0s 18ms/step\n",
      "1/1 [==============================] - 0s 17ms/step\n",
      "1/1 [==============================] - 0s 18ms/step\n",
      "1/1 [==============================] - 0s 17ms/step\n"
     ]
    },
    {
     "data": {
      "application/vnd.jupyter.widget-view+json": {
       "model_id": "b33b7bccdb6a4ac4923bfb8971796360",
       "version_major": 2,
       "version_minor": 0
      },
      "text/plain": [
       "  0%|          | 0/50 [00:00<?, ?it/s]"
      ]
     },
     "metadata": {},
     "output_type": "display_data"
    },
    {
     "name": "stdout",
     "output_type": "stream",
     "text": [
      "1/1 [==============================] - 0s 14ms/step\n",
      "1/1 [==============================] - 0s 11ms/step\n",
      "1/1 [==============================] - 0s 18ms/step\n",
      "1/1 [==============================] - 0s 20ms/step\n",
      "1/1 [==============================] - 0s 18ms/step\n"
     ]
    },
    {
     "data": {
      "application/vnd.jupyter.widget-view+json": {
       "model_id": "cb0e2fc73aee434a84a3ea1c36319dbb",
       "version_major": 2,
       "version_minor": 0
      },
      "text/plain": [
       "  0%|          | 0/50 [00:00<?, ?it/s]"
      ]
     },
     "metadata": {},
     "output_type": "display_data"
    },
    {
     "name": "stdout",
     "output_type": "stream",
     "text": [
      "1/1 [==============================] - 0s 18ms/step\n",
      "1/1 [==============================] - 0s 16ms/step\n",
      "1/1 [==============================] - 0s 20ms/step\n",
      "1/1 [==============================] - 0s 18ms/step\n",
      "1/1 [==============================] - 0s 34ms/step\n"
     ]
    },
    {
     "data": {
      "application/vnd.jupyter.widget-view+json": {
       "model_id": "97b1972c87184b54a63f257a9f87110d",
       "version_major": 2,
       "version_minor": 0
      },
      "text/plain": [
       "  0%|          | 0/50 [00:00<?, ?it/s]"
      ]
     },
     "metadata": {},
     "output_type": "display_data"
    },
    {
     "name": "stdout",
     "output_type": "stream",
     "text": [
      "1/1 [==============================] - 0s 27ms/step\n",
      "1/1 [==============================] - 0s 20ms/step\n",
      "1/1 [==============================] - 0s 24ms/step\n",
      "1/1 [==============================] - 0s 32ms/step\n",
      "1/1 [==============================] - 0s 20ms/step\n",
      "1/1 [==============================] - 0s 21ms/step\n",
      "Prediction :  0\n",
      "Actual : 0       index:19\n",
      "1/1 [==============================] - 0s 11ms/step\n"
     ]
    }
   ],
   "source": [
    "#Search for images that aren't full classified\n",
    "indexes = []\n",
    "for idx in range(20):\n",
    "    explanation = explainer.explain_instance(gray2rgb(X_test[idx]), classifier_fn=make_prediction, num_samples=50)\n",
    "    temp, mask = explanation.get_image_and_mask(1, num_features=10, hide_rest=False)\n",
    "    if ((not np.all(mask==0))&(not np.all(mask==1))):\n",
    "        print(\"Prediction : \", np.argmax(cnn.predict(X_test[idx].reshape(-1,27,27))))\n",
    "        print(f\"Actual : {y_test[idx]}       index:{idx}\")\n",
    "        indexes.append(idx)\n",
    "explained = pd.DataFrame()\n",
    "explained['Index'] = indexes\n",
    "explained['Prediction'] = np.argmax(cnn.predict(X_test[indexes].reshape(-len(indexes),27,27)), axis=1)\n",
    "explained['Actual'] = y_test[indexes]"
   ]
  },
  {
   "cell_type": "code",
   "execution_count": 299,
   "metadata": {},
   "outputs": [
    {
     "data": {
      "text/html": [
       "<div>\n",
       "<style scoped>\n",
       "    .dataframe tbody tr th:only-of-type {\n",
       "        vertical-align: middle;\n",
       "    }\n",
       "\n",
       "    .dataframe tbody tr th {\n",
       "        vertical-align: top;\n",
       "    }\n",
       "\n",
       "    .dataframe thead th {\n",
       "        text-align: right;\n",
       "    }\n",
       "</style>\n",
       "<table border=\"1\" class=\"dataframe\">\n",
       "  <thead>\n",
       "    <tr style=\"text-align: right;\">\n",
       "      <th></th>\n",
       "      <th>Index</th>\n",
       "      <th>Prediction</th>\n",
       "      <th>Actual</th>\n",
       "    </tr>\n",
       "  </thead>\n",
       "  <tbody>\n",
       "    <tr>\n",
       "      <th>0</th>\n",
       "      <td>4</td>\n",
       "      <td>1</td>\n",
       "      <td>1</td>\n",
       "    </tr>\n",
       "    <tr>\n",
       "      <th>1</th>\n",
       "      <td>14</td>\n",
       "      <td>0</td>\n",
       "      <td>0</td>\n",
       "    </tr>\n",
       "    <tr>\n",
       "      <th>2</th>\n",
       "      <td>19</td>\n",
       "      <td>0</td>\n",
       "      <td>0</td>\n",
       "    </tr>\n",
       "  </tbody>\n",
       "</table>\n",
       "</div>"
      ],
      "text/plain": [
       "   Index  Prediction  Actual\n",
       "0      4           1       1\n",
       "1     14           0       0\n",
       "2     19           0       0"
      ]
     },
     "execution_count": 299,
     "metadata": {},
     "output_type": "execute_result"
    }
   ],
   "source": [
    "explained"
   ]
  },
  {
   "cell_type": "code",
   "execution_count": 301,
   "metadata": {},
   "outputs": [
    {
     "data": {
      "application/vnd.jupyter.widget-view+json": {
       "model_id": "fa512e6aaa474e658db3c0355c6c20f1",
       "version_major": 2,
       "version_minor": 0
      },
      "text/plain": [
       "  0%|          | 0/50 [00:00<?, ?it/s]"
      ]
     },
     "metadata": {},
     "output_type": "display_data"
    },
    {
     "name": "stdout",
     "output_type": "stream",
     "text": [
      "1/1 [==============================] - 0s 35ms/step\n",
      "1/1 [==============================] - 0s 22ms/step\n",
      "1/1 [==============================] - 0s 17ms/step\n",
      "1/1 [==============================] - 0s 19ms/step\n",
      "1/1 [==============================] - 0s 12ms/step\n"
     ]
    }
   ],
   "source": [
    "idx=0 #choose the index between 0-len(inedexes)\n",
    "explanation = explainer.explain_instance(gray2rgb(X_test[indexes[idx]]), classifier_fn=make_prediction, num_samples=50)\n",
    "temp, mask = explanation.get_image_and_mask(y_test[indexes[idx]], num_features=10, hide_rest=False)"
   ]
  },
  {
   "cell_type": "code",
   "execution_count": 305,
   "metadata": {
    "scrolled": false
   },
   "outputs": [
    {
     "name": "stderr",
     "output_type": "stream",
     "text": [
      "Clipping input data to the valid range for imshow with RGB data ([0..1] for floats or [0..255] for integers).\n"
     ]
    },
    {
     "data": {
      "text/plain": [
       "<matplotlib.image.AxesImage at 0x2379c0a2c50>"
      ]
     },
     "execution_count": 305,
     "metadata": {},
     "output_type": "execute_result"
    },
    {
     "data": {
      "image/png": "[encoded data removed]",
      "text/plain": [
       "<Figure size 354.331x236.22 with 1 Axes>"
      ]
     },
     "metadata": {},
     "output_type": "display_data"
    }
   ],
   "source": [
    "marked_image = mark_boundaries(temp , mask)\n",
    "plt.title(f'test_trace_{indexes[idx]} with prediction { explained[\"Prediction\"][idx] }')\n",
    "plt.imshow(marked_image)"
   ]
  },
  {
   "cell_type": "code",
   "execution_count": 329,
   "metadata": {},
   "outputs": [
    {
     "name": "stderr",
     "output_type": "stream",
     "text": [
      "Clipping input data to the valid range for imshow with RGB data ([0..1] for floats or [0..255] for integers).\n",
      "Clipping input data to the valid range for imshow with RGB data ([0..1] for floats or [0..255] for integers).\n"
     ]
    },
    {
     "data": {
      "text/plain": [
       "Text(0.5, 1.0, 'LIME Explanation')"
      ]
     },
     "execution_count": 329,
     "metadata": {},
     "output_type": "execute_result"
    },
    {
     "data": {
      "image/png": "[encoded data removed]",
      "text/plain": [
       "<Figure size 354.331x236.22 with 2 Axes>"
      ]
     },
     "metadata": {},
     "output_type": "display_data"
    }
   ],
   "source": [
    "plt.subplot(1,2, 1)\n",
    "plt.imshow(gray2rgb(X_test[indexes[0]]), cmap='gray')\n",
    "plt.title('Original Image')\n",
    "\n",
    "plt.subplot(1, 2, 2)\n",
    "plt.imshow(marked_image)\n",
    "plt.title('LIME Explanation')"
   ]
  },
  {
   "cell_type": "code",
   "execution_count": 330,
   "metadata": {},
   "outputs": [
    {
     "data": {
      "text/plain": [
       "Text(0.5, 1.0, 'Heatmap')"
      ]
     },
     "execution_count": 330,
     "metadata": {},
     "output_type": "execute_result"
    },
    {
     "data": {
      "image/png": "[encoded data removed]",
      "text/plain": [
       "<Figure size 400x400 with 1 Axes>"
      ]
     },
     "metadata": {},
     "output_type": "display_data"
    }
   ],
   "source": [
    "\n",
    "plt.matshow(rgb_traces_test[indexes[0]])\n",
    "plt.title('Heatmap')"
   ]
  }
 ],
 "metadata": {
  "kernelspec": {
   "display_name": "DM2-HUE9YkAX",
   "language": "python",
   "name": "dm2-hue9ykax"
  },
  "language_info": {
   "codemirror_mode": {
    "name": "ipython",
    "version": 3
   },
   "file_extension": ".py",
   "mimetype": "text/x-python",
   "name": "python",
   "nbconvert_exporter": "python",
   "pygments_lexer": "ipython3",
   "version": "3.11.0"
  }
 },
 "nbformat": 4,
 "nbformat_minor": 1
}
