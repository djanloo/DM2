{
 "cells": [
  {
   "cell_type": "code",
   "execution_count": 1,
   "metadata": {
    "ExecuteTime": {
     "end_time": "2023-07-03T17:57:24.661805Z",
     "start_time": "2023-07-03T17:57:24.658425Z"
    }
   },
   "outputs": [],
   "source": [
    "import os\n",
    "import numpy as np\n",
    "import pandas as pd\n",
    "import matplotlib.pyplot as plt\n",
    "import seaborn as sns; sns.set()\n",
    "\n",
    "import sys\n",
    "sys.path.append('../')\n",
    "import default_style"
   ]
  },
  {
   "cell_type": "code",
   "execution_count": 2,
   "metadata": {
    "ExecuteTime": {
     "end_time": "2023-07-03T17:57:24.664492Z",
     "start_time": "2023-07-03T17:57:24.662731Z"
    }
   },
   "outputs": [],
   "source": [
    "TS_DATASET_FOLDER = os.path.join('..', 'dataset')\n",
    "TS_PREPROC_FOLDER = os.path.join(TS_DATASET_FOLDER, 'preprocessed_traces')\n",
    "DF_PREPROC_FILE = os.path.join(TS_PREPROC_FOLDER, 'preproc_ts.df')\n",
    "\n",
    "IMAGE_FOLDER = os.path.join('..', 'images')\n",
    "\n",
    "TARGET = 'statement'\n",
    "TRACES = 'syllables_02_STFT'"
   ]
  },
  {
   "cell_type": "code",
   "execution_count": 3,
   "metadata": {
    "ExecuteTime": {
     "end_time": "2023-07-03T17:57:24.687355Z",
     "start_time": "2023-07-03T17:57:24.665524Z"
    }
   },
   "outputs": [
    {
     "data": {
      "text/html": [
       "<div>\n",
       "<style scoped>\n",
       "    .dataframe tbody tr th:only-of-type {\n",
       "        vertical-align: middle;\n",
       "    }\n",
       "\n",
       "    .dataframe tbody tr th {\n",
       "        vertical-align: top;\n",
       "    }\n",
       "\n",
       "    .dataframe thead th {\n",
       "        text-align: right;\n",
       "    }\n",
       "</style>\n",
       "<table border=\"1\" class=\"dataframe\">\n",
       "  <thead>\n",
       "    <tr style=\"text-align: right;\">\n",
       "      <th></th>\n",
       "      <th>vocal_channel</th>\n",
       "      <th>emotion</th>\n",
       "      <th>emotional_intensity</th>\n",
       "      <th>statement</th>\n",
       "      <th>repetition</th>\n",
       "      <th>actor</th>\n",
       "      <th>path</th>\n",
       "      <th>sex</th>\n",
       "      <th>begin_s</th>\n",
       "      <th>end_s</th>\n",
       "      <th>...</th>\n",
       "      <th>filtered_fourier_coeffs</th>\n",
       "      <th>syll_0_start_index</th>\n",
       "      <th>syll_1_start_index</th>\n",
       "      <th>syll_2_start_index</th>\n",
       "      <th>syll_3_start_index</th>\n",
       "      <th>syll_4_start_index</th>\n",
       "      <th>syll_5_start_index</th>\n",
       "      <th>syll_6_start_index</th>\n",
       "      <th>syll_7_start_index</th>\n",
       "      <th>actor_number</th>\n",
       "    </tr>\n",
       "  </thead>\n",
       "  <tbody>\n",
       "    <tr>\n",
       "      <th>0</th>\n",
       "      <td>speech</td>\n",
       "      <td>neutral</td>\n",
       "      <td>normal</td>\n",
       "      <td>kids</td>\n",
       "      <td>1st</td>\n",
       "      <td>actor_01</td>\n",
       "      <td>../dataset/Audio_Speech_Actors_01-24/Actor_01/...</td>\n",
       "      <td>M</td>\n",
       "      <td>1.009833</td>\n",
       "      <td>2.252000</td>\n",
       "      <td>...</td>\n",
       "      <td>[1.9371510e-07 1.2311473e-02 1.1168692e-02 ......</td>\n",
       "      <td>0</td>\n",
       "      <td>1128</td>\n",
       "      <td>2240</td>\n",
       "      <td>3200</td>\n",
       "      <td>4304</td>\n",
       "      <td>5208</td>\n",
       "      <td>5808</td>\n",
       "      <td>7448</td>\n",
       "      <td>1</td>\n",
       "    </tr>\n",
       "    <tr>\n",
       "      <th>1</th>\n",
       "      <td>speech</td>\n",
       "      <td>neutral</td>\n",
       "      <td>normal</td>\n",
       "      <td>kids</td>\n",
       "      <td>2nd</td>\n",
       "      <td>actor_01</td>\n",
       "      <td>../dataset/Audio_Speech_Actors_01-24/Actor_01/...</td>\n",
       "      <td>M</td>\n",
       "      <td>1.068500</td>\n",
       "      <td>2.294667</td>\n",
       "      <td>...</td>\n",
       "      <td>[3.5017729e-07 2.6198970e-02 2.5683273e-02 ......</td>\n",
       "      <td>0</td>\n",
       "      <td>2008</td>\n",
       "      <td>3208</td>\n",
       "      <td>3880</td>\n",
       "      <td>4224</td>\n",
       "      <td>5112</td>\n",
       "      <td>5800</td>\n",
       "      <td>7352</td>\n",
       "      <td>1</td>\n",
       "    </tr>\n",
       "    <tr>\n",
       "      <th>2</th>\n",
       "      <td>speech</td>\n",
       "      <td>neutral</td>\n",
       "      <td>normal</td>\n",
       "      <td>dogs</td>\n",
       "      <td>1st</td>\n",
       "      <td>actor_01</td>\n",
       "      <td>../dataset/Audio_Speech_Actors_01-24/Actor_01/...</td>\n",
       "      <td>M</td>\n",
       "      <td>1.012000</td>\n",
       "      <td>2.238500</td>\n",
       "      <td>...</td>\n",
       "      <td>[2.49594450e-07 1.23483688e-02 1.06786685e-02 ...</td>\n",
       "      <td>0</td>\n",
       "      <td>2816</td>\n",
       "      <td>3352</td>\n",
       "      <td>3912</td>\n",
       "      <td>4296</td>\n",
       "      <td>5232</td>\n",
       "      <td>5880</td>\n",
       "      <td>7352</td>\n",
       "      <td>1</td>\n",
       "    </tr>\n",
       "    <tr>\n",
       "      <th>3</th>\n",
       "      <td>speech</td>\n",
       "      <td>neutral</td>\n",
       "      <td>normal</td>\n",
       "      <td>dogs</td>\n",
       "      <td>2nd</td>\n",
       "      <td>actor_01</td>\n",
       "      <td>../dataset/Audio_Speech_Actors_01-24/Actor_01/...</td>\n",
       "      <td>M</td>\n",
       "      <td>1.008833</td>\n",
       "      <td>2.187167</td>\n",
       "      <td>...</td>\n",
       "      <td>[1.1920929e-07 1.2154780e-02 1.6620707e-02 ......</td>\n",
       "      <td>0</td>\n",
       "      <td>1664</td>\n",
       "      <td>2664</td>\n",
       "      <td>3208</td>\n",
       "      <td>3672</td>\n",
       "      <td>4840</td>\n",
       "      <td>5448</td>\n",
       "      <td>7064</td>\n",
       "      <td>1</td>\n",
       "    </tr>\n",
       "    <tr>\n",
       "      <th>4</th>\n",
       "      <td>speech</td>\n",
       "      <td>calm</td>\n",
       "      <td>normal</td>\n",
       "      <td>kids</td>\n",
       "      <td>1st</td>\n",
       "      <td>actor_01</td>\n",
       "      <td>../dataset/Audio_Speech_Actors_01-24/Actor_01/...</td>\n",
       "      <td>M</td>\n",
       "      <td>1.023667</td>\n",
       "      <td>2.534167</td>\n",
       "      <td>...</td>\n",
       "      <td>[1.1920929e-07 2.0026902e-03 7.9688808e-04 ......</td>\n",
       "      <td>0</td>\n",
       "      <td>2088</td>\n",
       "      <td>3584</td>\n",
       "      <td>4832</td>\n",
       "      <td>5800</td>\n",
       "      <td>6944</td>\n",
       "      <td>7560</td>\n",
       "      <td>9056</td>\n",
       "      <td>1</td>\n",
       "    </tr>\n",
       "  </tbody>\n",
       "</table>\n",
       "<p>5 rows × 21 columns</p>\n",
       "</div>"
      ],
      "text/plain": [
       "  vocal_channel  emotion emotional_intensity statement repetition     actor   \n",
       "0        speech  neutral              normal      kids        1st  actor_01  \\\n",
       "1        speech  neutral              normal      kids        2nd  actor_01   \n",
       "2        speech  neutral              normal      dogs        1st  actor_01   \n",
       "3        speech  neutral              normal      dogs        2nd  actor_01   \n",
       "4        speech     calm              normal      kids        1st  actor_01   \n",
       "\n",
       "                                                path sex   begin_s     end_s   \n",
       "0  ../dataset/Audio_Speech_Actors_01-24/Actor_01/...   M  1.009833  2.252000  \\\n",
       "1  ../dataset/Audio_Speech_Actors_01-24/Actor_01/...   M  1.068500  2.294667   \n",
       "2  ../dataset/Audio_Speech_Actors_01-24/Actor_01/...   M  1.012000  2.238500   \n",
       "3  ../dataset/Audio_Speech_Actors_01-24/Actor_01/...   M  1.008833  2.187167   \n",
       "4  ../dataset/Audio_Speech_Actors_01-24/Actor_01/...   M  1.023667  2.534167   \n",
       "\n",
       "   ...                            filtered_fourier_coeffs syll_0_start_index   \n",
       "0  ...  [1.9371510e-07 1.2311473e-02 1.1168692e-02 ......                  0  \\\n",
       "1  ...  [3.5017729e-07 2.6198970e-02 2.5683273e-02 ......                  0   \n",
       "2  ...  [2.49594450e-07 1.23483688e-02 1.06786685e-02 ...                  0   \n",
       "3  ...  [1.1920929e-07 1.2154780e-02 1.6620707e-02 ......                  0   \n",
       "4  ...  [1.1920929e-07 2.0026902e-03 7.9688808e-04 ......                  0   \n",
       "\n",
       "   syll_1_start_index  syll_2_start_index  syll_3_start_index   \n",
       "0                1128                2240                3200  \\\n",
       "1                2008                3208                3880   \n",
       "2                2816                3352                3912   \n",
       "3                1664                2664                3208   \n",
       "4                2088                3584                4832   \n",
       "\n",
       "   syll_4_start_index  syll_5_start_index  syll_6_start_index   \n",
       "0                4304                5208                5808  \\\n",
       "1                4224                5112                5800   \n",
       "2                4296                5232                5880   \n",
       "3                3672                4840                5448   \n",
       "4                5800                6944                7560   \n",
       "\n",
       "   syll_7_start_index  actor_number  \n",
       "0                7448             1  \n",
       "1                7352             1  \n",
       "2                7352             1  \n",
       "3                7064             1  \n",
       "4                9056             1  \n",
       "\n",
       "[5 rows x 21 columns]"
      ]
     },
     "execution_count": 3,
     "metadata": {},
     "output_type": "execute_result"
    }
   ],
   "source": [
    "df = pd.read_csv(DF_PREPROC_FILE).drop(columns=['Unnamed: 0'])\n",
    "df[\"actor_number\"] = df.actor.apply(lambda x: int(x.split(\"_\")[1]))\n",
    "df.head()"
   ]
  },
  {
   "cell_type": "code",
   "execution_count": 4,
   "metadata": {
    "ExecuteTime": {
     "end_time": "2023-07-03T17:57:24.696357Z",
     "start_time": "2023-07-03T17:57:24.686312Z"
    }
   },
   "outputs": [],
   "source": [
    "traces_dict = {}\n",
    "files = os.listdir(TS_PREPROC_FOLDER)\n",
    "\n",
    "file_path = os.path.join(TS_PREPROC_FOLDER, f\"{TRACES}.npy\")\n",
    "traces_dict[TRACES] = np.load(file_path, allow_pickle=True)"
   ]
  },
  {
   "cell_type": "code",
   "execution_count": 5,
   "metadata": {
    "ExecuteTime": {
     "end_time": "2023-07-03T17:57:24.699146Z",
     "start_time": "2023-07-03T17:57:24.696089Z"
    }
   },
   "outputs": [
    {
     "data": {
      "text/plain": [
       "(2452, 27, 27)"
      ]
     },
     "execution_count": 5,
     "metadata": {},
     "output_type": "execute_result"
    }
   ],
   "source": [
    "traces = traces_dict[TRACES]\n",
    "# traces = traces.reshape(2452, 729)\n",
    "traces.shape"
   ]
  },
  {
   "cell_type": "code",
   "execution_count": 6,
   "metadata": {
    "ExecuteTime": {
     "end_time": "2023-07-03T17:57:24.876375Z",
     "start_time": "2023-07-03T17:57:24.703194Z"
    }
   },
   "outputs": [
    {
     "data": {
      "image/png": "[encoded data removed]",
      "text/plain": [
       "<Figure size 354.331x236.22 with 1 Axes>"
      ]
     },
     "metadata": {},
     "output_type": "display_data"
    }
   ],
   "source": [
    "index = 0\n",
    "statement = df['statement'][index]\n",
    "plt.plot(traces[index])\n",
    "plt.title(f'Time series at row #{index}, statement: {statement}')\n",
    "plt.show()"
   ]
  },
  {
   "cell_type": "code",
   "execution_count": 7,
   "metadata": {
    "ExecuteTime": {
     "end_time": "2023-07-03T17:57:25.011923Z",
     "start_time": "2023-07-03T17:57:24.876792Z"
    }
   },
   "outputs": [],
   "source": [
    "from sklearn.model_selection import train_test_split"
   ]
  },
  {
   "cell_type": "code",
   "execution_count": 8,
   "metadata": {
    "ExecuteTime": {
     "end_time": "2023-07-03T17:57:25.031344Z",
     "start_time": "2023-07-03T17:57:25.001530Z"
    }
   },
   "outputs": [
    {
     "data": {
      "text/plain": [
       "((1545, 27, 27), (387, 27, 27), (520, 27, 27), (1545,), (387,), (520,))"
      ]
     },
     "execution_count": 8,
     "metadata": {},
     "output_type": "execute_result"
    }
   ],
   "source": [
    "# Sets tests to be over actor 19 (excluded)\n",
    "X_test = traces[df.actor_number > 19]\n",
    "y_test = df[TARGET][df.actor_number > 19].to_numpy()\n",
    "\n",
    "# Sets the train and validation inside actors < 19\n",
    "X_train, X_val, y_train, y_val = train_test_split(  traces[df.actor_number <= 19], \n",
    "                                                    df[TARGET][df.actor_number <= 19].to_numpy(), \n",
    "                                                    test_size=0.2, random_state=100)\n",
    "\n",
    "X_train.shape, X_val.shape, X_test.shape, y_train.shape, y_val.shape, y_test.shape"
   ]
  },
  {
   "cell_type": "code",
   "execution_count": 9,
   "metadata": {
    "ExecuteTime": {
     "end_time": "2023-07-03T17:57:25.178398Z",
     "start_time": "2023-07-03T17:57:25.016667Z"
    }
   },
   "outputs": [
    {
     "name": "stderr",
     "output_type": "stream",
     "text": [
      "/Users/paolomollica/Desktop/DM2/venv/lib/python3.9/site-packages/IPython/core/events.py:89: UserWarning: This figure includes Axes that are not compatible with tight_layout, so results might be incorrect.\n",
      "  func(*args, **kwargs)\n",
      "/Users/paolomollica/Desktop/DM2/venv/lib/python3.9/site-packages/IPython/core/pylabtools.py:152: UserWarning: This figure includes Axes that are not compatible with tight_layout, so results might be incorrect.\n",
      "  fig.canvas.print_figure(bytes_io, **kw)\n"
     ]
    },
    {
     "data": {
      "image/png": "[encoded data removed]",
      "text/plain": [
       "<Figure size 400x400 with 1 Axes>"
      ]
     },
     "metadata": {},
     "output_type": "display_data"
    }
   ],
   "source": [
    "plt.matshow(X_test[0]);plt.grid(ls=\"\")\n",
    "plt.title(\"axis 0 is time, axis 1 is freq\");"
   ]
  },
  {
   "cell_type": "markdown",
   "metadata": {},
   "source": [
    "# CNN for statement and syllables 0&2"
   ]
  },
  {
   "cell_type": "code",
   "execution_count": 10,
   "metadata": {
    "ExecuteTime": {
     "end_time": "2023-07-03T17:57:25.178572Z",
     "start_time": "2023-07-03T17:57:25.166557Z"
    }
   },
   "outputs": [
    {
     "name": "stdout",
     "output_type": "stream",
     "text": [
      "dogs\n",
      "0\n"
     ]
    }
   ],
   "source": [
    "from sklearn.preprocessing import LabelEncoder\n",
    "\n",
    "label_encoder = LabelEncoder()\n",
    "\n",
    "print(y_train[0])\n",
    "\n",
    "y_train = label_encoder.fit_transform(y_train)\n",
    "y_val = label_encoder.transform(y_val)\n",
    "y_test = label_encoder.transform(y_test)\n",
    "\n",
    "print(y_train[0])"
   ]
  },
  {
   "cell_type": "code",
   "execution_count": 11,
   "metadata": {
    "ExecuteTime": {
     "end_time": "2023-07-03T17:57:28.171422Z",
     "start_time": "2023-07-03T17:57:25.173097Z"
    }
   },
   "outputs": [],
   "source": [
    "import optuna\n",
    "from keras.layers import BatchNormalization, Activation\n",
    "from keras.models import Sequential\n",
    "from keras.layers import Dense, Conv1D, Dropout, GlobalAveragePooling1D\n",
    "from sklearn.metrics import accuracy_score\n",
    "\n",
    "def build_model(input_shape, n_categories,\n",
    "                n_conv=0, n_hidden=0, hidden_nodes=32,\n",
    "                dropout=0.01, filters=8, kernel_size=5, **kwargs):\n",
    "    \n",
    "    # Stuff must be given in (timestep, spectral_coeff) format\n",
    "    n_timesteps = input_shape[0]\n",
    "    n_features = input_shape[1]\n",
    "\n",
    "    model = Sequential()\n",
    "\n",
    "    model.add(Conv1D(filters=filters,\n",
    "                     kernel_size=kernel_size,\n",
    "                     activation='relu',\n",
    "                     input_shape=(n_timesteps, n_features),\n",
    "                     name=\"base_conv\"\n",
    "                     ))\n",
    "    model.add(BatchNormalization())\n",
    "    model.add(Activation('relu'))\n",
    "\n",
    "    for i in range(n_conv):\n",
    "        model.add(Conv1D(filters=filters, kernel_size=kernel_size, activation='relu', name=f\"extra_conv_{i}\"))\n",
    "        model.add(BatchNormalization())\n",
    "        model.add(Activation('relu'))\n",
    "\n",
    "        model.add(Dropout(dropout))\n",
    "\n",
    "    model.add(GlobalAveragePooling1D())\n",
    "\n",
    "    for i in range(n_hidden):\n",
    "        model.add(Dense(hidden_nodes, activation='relu'))\n",
    "\n",
    "    model.add(Dense(n_categories, activation='softmax'))    \n",
    "    model.compile(loss='sparse_categorical_crossentropy', optimizer='adam', metrics=['accuracy'])\n",
    "    \n",
    "    return model"
   ]
  },
  {
   "cell_type": "code",
   "execution_count": 12,
   "metadata": {
    "ExecuteTime": {
     "end_time": "2023-07-03T17:57:28.175481Z",
     "start_time": "2023-07-03T17:57:28.173615Z"
    }
   },
   "outputs": [],
   "source": [
    "# objective function to be minimized\n",
    "def objective_fun(trial, X, y, validation_X, validation_y):\n",
    "\n",
    "    n_conv = trial.suggest_int('n_conv', 0, 3)\n",
    "    n_hidden = trial.suggest_int('n_hidden', 0, 3)\n",
    "    hidden_nodes = trial.suggest_int('hidden_nodes', 8, 256)\n",
    "    dropout = trial.suggest_float('dropout', 0, 0.4)\n",
    "    filters = trial.suggest_int('filters', 2, 16)\n",
    "    kernel_size = trial.suggest_int('kernel_size', 2, 16)\n",
    "    batch_size = trial.suggest_int('batch_size', 16, 64)\n",
    "    epochs = trial.suggest_int('epochs', 5, 90)\n",
    "    \n",
    "    print(f\"Running little bitch having n_conv={n_conv}, dropout={dropout}, hidden_nodes={hidden_nodes}\")\n",
    "    \n",
    "    cnn = build_model(  X.shape[1:], len(np.unique(y)),\n",
    "                        n_hidden=n_hidden,\n",
    "                        hidden_nodes=hidden_nodes,\n",
    "                        n_conv=n_conv,\n",
    "                        dropout=dropout,\n",
    "                        filters=filters,\n",
    "                        kernel_size=kernel_size,\n",
    "                       )\n",
    "\n",
    "    cnn.fit(X, y, batch_size=batch_size, epochs=epochs, verbose=False)\n",
    "    \n",
    "    y_pred = np.argmax(cnn.predict(validation_X), axis=1)\n",
    "\n",
    "    error = accuracy_score(validation_y, y_pred)\n",
    "\n",
    "    return error\n",
    "\n",
    "\n",
    "#study = optuna.create_study(direction='maximize')\n",
    "#trial_function = lambda trial: objective_fun(trial, X_train, y_train, X_val, y_val)\n",
    "#study.optimize(trial_function, n_trials=150, n_jobs=-1, catch=ValueError)"
   ]
  },
  {
   "cell_type": "code",
   "execution_count": 13,
   "metadata": {
    "ExecuteTime": {
     "end_time": "2023-07-03T17:57:28.179756Z",
     "start_time": "2023-07-03T17:57:28.176268Z"
    }
   },
   "outputs": [
    {
     "data": {
      "text/plain": "{'n_conv': 1,\n 'n_hidden': 2,\n 'hidden_nodes': 52,\n 'dropout': 0.018010877668116265,\n 'filters': 12,\n 'kernel_size': 10,\n 'batch_size': 62,\n 'epochs': 82}"
     },
     "execution_count": 13,
     "metadata": {},
     "output_type": "execute_result"
    }
   ],
   "source": [
    "#best_params = study.best_params\n",
    "best_params = {'n_conv': 1,\n",
    "               'n_hidden': 2,\n",
    "               'hidden_nodes': 52,\n",
    "               'dropout': 0.018010877668116265,\n",
    "               'filters': 12,\n",
    "               'kernel_size': 10,\n",
    "               'batch_size': 62,\n",
    "               'epochs': 82}\n",
    "best_params"
   ]
  },
  {
   "cell_type": "code",
   "execution_count": 14,
   "metadata": {
    "ExecuteTime": {
     "end_time": "2023-07-03T17:57:33.625064Z",
     "start_time": "2023-07-03T17:57:28.180548Z"
    }
   },
   "outputs": [
    {
     "name": "stdout",
     "output_type": "stream",
     "text": [
      "Model: \"sequential\"\n",
      "_________________________________________________________________\n",
      " Layer (type)                Output Shape              Param #   \n",
      "=================================================================\n",
      " base_conv (Conv1D)          (None, 18, 12)            3252      \n",
      "                                                                 \n",
      " batch_normalization (Batch  (None, 18, 12)            48        \n",
      " Normalization)                                                  \n",
      "                                                                 \n",
      " activation (Activation)     (None, 18, 12)            0         \n",
      "                                                                 \n",
      " extra_conv_0 (Conv1D)       (None, 9, 12)             1452      \n",
      "                                                                 \n",
      " batch_normalization_1 (Bat  (None, 9, 12)             48        \n",
      " chNormalization)                                                \n",
      "                                                                 \n",
      " activation_1 (Activation)   (None, 9, 12)             0         \n",
      "                                                                 \n",
      " dropout (Dropout)           (None, 9, 12)             0         \n",
      "                                                                 \n",
      " global_average_pooling1d (  (None, 12)                0         \n",
      " GlobalAveragePooling1D)                                         \n",
      "                                                                 \n",
      " dense (Dense)               (None, 52)                676       \n",
      "                                                                 \n",
      " dense_1 (Dense)             (None, 52)                2756      \n",
      "                                                                 \n",
      " dense_2 (Dense)             (None, 2)                 106       \n",
      "                                                                 \n",
      "=================================================================\n",
      "Total params: 8338 (32.57 KB)\n",
      "Trainable params: 8290 (32.38 KB)\n",
      "Non-trainable params: 48 (192.00 Byte)\n",
      "_________________________________________________________________\n",
      "Epoch 1/82\n",
      "32/32 [==============================] - 0s 2ms/step - loss: 0.5606 - accuracy: 0.7521\n",
      "Epoch 2/82\n",
      "32/32 [==============================] - 0s 2ms/step - loss: 0.2492 - accuracy: 0.9317\n",
      "Epoch 3/82\n",
      "32/32 [==============================] - 0s 2ms/step - loss: 0.1022 - accuracy: 0.9689\n",
      "Epoch 4/82\n",
      "32/32 [==============================] - 0s 2ms/step - loss: 0.0614 - accuracy: 0.9772\n",
      "Epoch 5/82\n",
      "32/32 [==============================] - 0s 2ms/step - loss: 0.0400 - accuracy: 0.9865\n",
      "Epoch 6/82\n",
      "32/32 [==============================] - 0s 2ms/step - loss: 0.0402 - accuracy: 0.9881\n",
      "Epoch 7/82\n",
      "32/32 [==============================] - 0s 2ms/step - loss: 0.0249 - accuracy: 0.9938\n",
      "Epoch 8/82\n",
      "32/32 [==============================] - 0s 2ms/step - loss: 0.0177 - accuracy: 0.9948\n",
      "Epoch 9/82\n",
      "32/32 [==============================] - 0s 2ms/step - loss: 0.0143 - accuracy: 0.9953\n",
      "Epoch 10/82\n",
      "32/32 [==============================] - 0s 2ms/step - loss: 0.0169 - accuracy: 0.9933\n",
      "Epoch 11/82\n",
      "32/32 [==============================] - 0s 2ms/step - loss: 0.0104 - accuracy: 0.9969\n",
      "Epoch 12/82\n",
      "32/32 [==============================] - 0s 2ms/step - loss: 0.0101 - accuracy: 0.9969\n",
      "Epoch 13/82\n",
      "32/32 [==============================] - 0s 2ms/step - loss: 0.0111 - accuracy: 0.9964\n",
      "Epoch 14/82\n",
      "32/32 [==============================] - 0s 2ms/step - loss: 0.0425 - accuracy: 0.9876\n",
      "Epoch 15/82\n",
      "32/32 [==============================] - 0s 2ms/step - loss: 0.0265 - accuracy: 0.9907\n",
      "Epoch 16/82\n",
      "32/32 [==============================] - 0s 2ms/step - loss: 0.0206 - accuracy: 0.9938\n",
      "Epoch 17/82\n",
      "32/32 [==============================] - 0s 2ms/step - loss: 0.0181 - accuracy: 0.9928\n",
      "Epoch 18/82\n",
      "32/32 [==============================] - 0s 2ms/step - loss: 0.0080 - accuracy: 0.9974\n",
      "Epoch 19/82\n",
      "32/32 [==============================] - 0s 2ms/step - loss: 0.0057 - accuracy: 0.9990\n",
      "Epoch 20/82\n",
      "32/32 [==============================] - 0s 2ms/step - loss: 0.0051 - accuracy: 0.9990\n",
      "Epoch 21/82\n",
      "32/32 [==============================] - 0s 2ms/step - loss: 0.0455 - accuracy: 0.9845\n",
      "Epoch 22/82\n",
      "32/32 [==============================] - 0s 2ms/step - loss: 0.0176 - accuracy: 0.9948\n",
      "Epoch 23/82\n",
      "32/32 [==============================] - 0s 2ms/step - loss: 0.0251 - accuracy: 0.9917\n",
      "Epoch 24/82\n",
      "32/32 [==============================] - 0s 2ms/step - loss: 0.0116 - accuracy: 0.9964\n",
      "Epoch 25/82\n",
      "32/32 [==============================] - 0s 2ms/step - loss: 0.0050 - accuracy: 0.9990\n",
      "Epoch 26/82\n",
      "32/32 [==============================] - 0s 2ms/step - loss: 0.0032 - accuracy: 0.9995\n",
      "Epoch 27/82\n",
      "32/32 [==============================] - 0s 2ms/step - loss: 0.0025 - accuracy: 1.0000\n",
      "Epoch 28/82\n",
      "32/32 [==============================] - 0s 2ms/step - loss: 0.0013 - accuracy: 1.0000\n",
      "Epoch 29/82\n",
      "32/32 [==============================] - 0s 2ms/step - loss: 0.0034 - accuracy: 0.9995\n",
      "Epoch 30/82\n",
      "32/32 [==============================] - 0s 2ms/step - loss: 0.0427 - accuracy: 0.9881\n",
      "Epoch 31/82\n",
      "32/32 [==============================] - 0s 2ms/step - loss: 0.0051 - accuracy: 0.9995\n",
      "Epoch 32/82\n",
      "32/32 [==============================] - 0s 2ms/step - loss: 0.0049 - accuracy: 0.9990\n",
      "Epoch 33/82\n",
      "32/32 [==============================] - 0s 2ms/step - loss: 0.0053 - accuracy: 0.9984\n",
      "Epoch 34/82\n",
      "32/32 [==============================] - 0s 2ms/step - loss: 0.0323 - accuracy: 0.9891\n",
      "Epoch 35/82\n",
      "32/32 [==============================] - 0s 2ms/step - loss: 0.0056 - accuracy: 0.9990\n",
      "Epoch 36/82\n",
      "32/32 [==============================] - 0s 2ms/step - loss: 0.0081 - accuracy: 0.9974\n",
      "Epoch 37/82\n",
      "32/32 [==============================] - 0s 2ms/step - loss: 0.0043 - accuracy: 0.9990\n",
      "Epoch 38/82\n",
      "32/32 [==============================] - 0s 2ms/step - loss: 0.0025 - accuracy: 1.0000\n",
      "Epoch 39/82\n",
      "32/32 [==============================] - 0s 2ms/step - loss: 0.0024 - accuracy: 0.9995\n",
      "Epoch 40/82\n",
      "32/32 [==============================] - 0s 2ms/step - loss: 0.0018 - accuracy: 1.0000\n",
      "Epoch 41/82\n",
      "32/32 [==============================] - 0s 2ms/step - loss: 0.0029 - accuracy: 0.9995\n",
      "Epoch 42/82\n",
      "32/32 [==============================] - 0s 2ms/step - loss: 0.0155 - accuracy: 0.9953\n",
      "Epoch 43/82\n",
      "32/32 [==============================] - 0s 2ms/step - loss: 0.0167 - accuracy: 0.9948\n",
      "Epoch 44/82\n",
      "32/32 [==============================] - 0s 2ms/step - loss: 0.0456 - accuracy: 0.9840\n",
      "Epoch 45/82\n",
      "32/32 [==============================] - 0s 2ms/step - loss: 0.0142 - accuracy: 0.9938\n",
      "Epoch 46/82\n",
      "32/32 [==============================] - 0s 3ms/step - loss: 0.0056 - accuracy: 0.9984\n",
      "Epoch 47/82\n",
      "32/32 [==============================] - 0s 3ms/step - loss: 0.0055 - accuracy: 0.9984\n",
      "Epoch 48/82\n",
      "32/32 [==============================] - 0s 3ms/step - loss: 0.0035 - accuracy: 0.9984\n",
      "Epoch 49/82\n",
      "32/32 [==============================] - 0s 2ms/step - loss: 0.0022 - accuracy: 0.9995\n",
      "Epoch 50/82\n",
      "32/32 [==============================] - 0s 2ms/step - loss: 0.0028 - accuracy: 0.9990\n",
      "Epoch 51/82\n",
      "32/32 [==============================] - 0s 2ms/step - loss: 0.0030 - accuracy: 0.9995\n",
      "Epoch 52/82\n",
      "32/32 [==============================] - 0s 2ms/step - loss: 0.0014 - accuracy: 1.0000\n",
      "Epoch 53/82\n",
      "32/32 [==============================] - 0s 2ms/step - loss: 0.0013 - accuracy: 1.0000\n",
      "Epoch 54/82\n",
      "32/32 [==============================] - 0s 2ms/step - loss: 0.0016 - accuracy: 1.0000\n",
      "Epoch 55/82\n",
      "32/32 [==============================] - 0s 2ms/step - loss: 0.0014 - accuracy: 1.0000\n",
      "Epoch 56/82\n",
      "32/32 [==============================] - 0s 2ms/step - loss: 6.7720e-04 - accuracy: 1.0000\n",
      "Epoch 57/82\n",
      "32/32 [==============================] - 0s 2ms/step - loss: 7.0313e-04 - accuracy: 1.0000\n",
      "Epoch 58/82\n",
      "32/32 [==============================] - 0s 2ms/step - loss: 0.0010 - accuracy: 1.0000\n",
      "Epoch 59/82\n",
      "32/32 [==============================] - 0s 2ms/step - loss: 7.2534e-04 - accuracy: 1.0000\n",
      "Epoch 60/82\n",
      "32/32 [==============================] - 0s 2ms/step - loss: 6.5738e-04 - accuracy: 1.0000\n",
      "Epoch 61/82\n",
      "32/32 [==============================] - 0s 2ms/step - loss: 5.7413e-04 - accuracy: 1.0000\n",
      "Epoch 62/82\n",
      "32/32 [==============================] - 0s 2ms/step - loss: 3.8395e-04 - accuracy: 1.0000\n",
      "Epoch 63/82\n",
      "32/32 [==============================] - 0s 2ms/step - loss: 4.5047e-04 - accuracy: 1.0000\n",
      "Epoch 64/82\n",
      "32/32 [==============================] - 0s 2ms/step - loss: 0.0012 - accuracy: 1.0000\n",
      "Epoch 65/82\n",
      "32/32 [==============================] - 0s 2ms/step - loss: 0.0086 - accuracy: 0.9984\n",
      "Epoch 66/82\n",
      "32/32 [==============================] - 0s 2ms/step - loss: 0.0024 - accuracy: 0.9990\n",
      "Epoch 67/82\n",
      "32/32 [==============================] - 0s 2ms/step - loss: 0.0016 - accuracy: 0.9990\n",
      "Epoch 68/82\n",
      "32/32 [==============================] - 0s 2ms/step - loss: 0.0021 - accuracy: 0.9995\n",
      "Epoch 69/82\n",
      "32/32 [==============================] - 0s 2ms/step - loss: 0.0018 - accuracy: 0.9995\n",
      "Epoch 70/82\n",
      "32/32 [==============================] - 0s 2ms/step - loss: 0.0014 - accuracy: 0.9995\n",
      "Epoch 71/82\n",
      "32/32 [==============================] - 0s 2ms/step - loss: 3.2046e-04 - accuracy: 1.0000\n",
      "Epoch 72/82\n",
      "32/32 [==============================] - 0s 2ms/step - loss: 3.0908e-04 - accuracy: 1.0000\n",
      "Epoch 73/82\n",
      "32/32 [==============================] - 0s 2ms/step - loss: 2.0917e-04 - accuracy: 1.0000\n",
      "Epoch 74/82\n",
      "32/32 [==============================] - 0s 2ms/step - loss: 2.6643e-04 - accuracy: 1.0000\n",
      "Epoch 75/82\n",
      "32/32 [==============================] - 0s 2ms/step - loss: 3.9427e-04 - accuracy: 1.0000\n",
      "Epoch 76/82\n",
      "32/32 [==============================] - 0s 2ms/step - loss: 4.3431e-04 - accuracy: 1.0000\n",
      "Epoch 77/82\n",
      "32/32 [==============================] - 0s 2ms/step - loss: 2.3588e-04 - accuracy: 1.0000\n",
      "Epoch 78/82\n",
      "32/32 [==============================] - 0s 2ms/step - loss: 1.5690e-04 - accuracy: 1.0000\n",
      "Epoch 79/82\n",
      "32/32 [==============================] - 0s 2ms/step - loss: 1.8794e-04 - accuracy: 1.0000\n",
      "Epoch 80/82\n",
      "32/32 [==============================] - 0s 2ms/step - loss: 5.4293e-04 - accuracy: 1.0000\n",
      "Epoch 81/82\n",
      "32/32 [==============================] - 0s 2ms/step - loss: 1.8372e-04 - accuracy: 1.0000\n",
      "Epoch 82/82\n",
      "32/32 [==============================] - 0s 2ms/step - loss: 1.9538e-04 - accuracy: 1.0000\n"
     ]
    }
   ],
   "source": [
    "cnn = build_model((27,27), 2, **best_params)\n",
    "cnn.summary()\n",
    "history = cnn.fit( np.concatenate((X_train, X_val)), np.concatenate((y_train, y_val)),\n",
    "            epochs=best_params[\"epochs\"], \n",
    "            batch_size=best_params[\"batch_size\"])"
   ]
  },
  {
   "cell_type": "code",
   "execution_count": 15,
   "metadata": {
    "ExecuteTime": {
     "end_time": "2023-07-03T17:57:33.713438Z",
     "start_time": "2023-07-03T17:57:33.622762Z"
    }
   },
   "outputs": [
    {
     "name": "stdout",
     "output_type": "stream",
     "text": [
      "17/17 [==============================] - 0s 698us/step\n",
      "Cohen k 0.95\n",
      "Accuracy 0.975\n",
      "F1-score [0.97465887 0.97533207]\n",
      "              precision    recall  f1-score   support\n",
      "\n",
      "           0       0.99      0.96      0.97       260\n",
      "           1       0.96      0.99      0.98       260\n",
      "\n",
      "    accuracy                           0.97       520\n",
      "   macro avg       0.98      0.98      0.97       520\n",
      "weighted avg       0.98      0.97      0.97       520\n",
      "\n"
     ]
    }
   ],
   "source": [
    "from sklearn.metrics import f1_score, classification_report, cohen_kappa_score\n",
    "\n",
    "y_pred = np.argmax(cnn.predict(X_test), axis=1)\n",
    "\n",
    "print(f'Cohen k {cohen_kappa_score(y_test, y_pred)}')\n",
    "print('Accuracy %s' % accuracy_score(y_test, y_pred))\n",
    "print('F1-score %s' % f1_score(y_test, y_pred, average=None))\n",
    "print(classification_report(y_test, y_pred))"
   ]
  },
  {
   "cell_type": "code",
   "execution_count": 16,
   "outputs": [
    {
     "data": {
      "text/plain": "<Figure size 354.331x236.22 with 1 Axes>",
      "image/png": "[encoded data removed]"
     },
     "metadata": {},
     "output_type": "display_data"
    }
   ],
   "source": [
    "from sklearn.metrics import confusion_matrix\n",
    "\n",
    "cf = confusion_matrix(y_test, y_pred)\n",
    "sns.heatmap(cf, annot=True, cmap='Accent', fmt=\".4g\", cbar=False)\n",
    "plt.xlabel('True')\n",
    "plt.ylabel('Predicted')\n",
    "plt.xticks(ticks=[0.5, 1.5], labels=['dogs', 'kids'])\n",
    "plt.yticks(ticks=[0.5, 1.5], labels=['dogs', 'kids'])\n",
    "plt.title('Confusion matrix')\n",
    "plt.savefig(os.path.join(IMAGE_FOLDER, 'ts_cnn_heatmap.pdf'), format='pdf')\n",
    "plt.show()"
   ],
   "metadata": {
    "collapsed": false,
    "ExecuteTime": {
     "end_time": "2023-07-03T17:57:33.913746Z",
     "start_time": "2023-07-03T17:57:33.740448Z"
    }
   }
  },
  {
   "cell_type": "code",
   "execution_count": 17,
   "outputs": [
    {
     "data": {
      "text/plain": "<Figure size 800x600 with 1 Axes>",
      "image/png": "[encoded data removed]"
     },
     "metadata": {},
     "output_type": "display_data"
    },
    {
     "data": {
      "text/plain": "<Figure size 800x600 with 1 Axes>",
      "image/png": "[encoded data removed]"
     },
     "metadata": {},
     "output_type": "display_data"
    }
   ],
   "source": [
    "train_loss = history.history['loss']\n",
    "#val_loss = history.history['val_loss']\n",
    "train_accuracy = history.history['accuracy']\n",
    "#val_accuracy = history.history['val_accuracy']\n",
    "\n",
    "plt.figure(figsize=(8, 6))\n",
    "plt.plot(train_loss, label='Train Loss')\n",
    "#plt.plot(val_loss, label='Validation Loss')\n",
    "plt.title('Loss')\n",
    "plt.xlabel('Epochs')\n",
    "plt.ylabel('Loss')\n",
    "plt.legend()\n",
    "plt.grid(True)\n",
    "plt.show()\n",
    "\n",
    "plt.figure(figsize=(8, 6))\n",
    "plt.plot(train_accuracy, label='Train Accuracy')\n",
    "#plt.plot(val_accuracy, label='Validation Accuracy')\n",
    "plt.title('Accuracy')\n",
    "plt.xlabel('Epochs')\n",
    "plt.ylabel('Accuracy')\n",
    "plt.legend()\n",
    "plt.grid(True)\n",
    "plt.show()"
   ],
   "metadata": {
    "collapsed": false,
    "ExecuteTime": {
     "end_time": "2023-07-03T17:57:34.244651Z",
     "start_time": "2023-07-03T17:57:33.925472Z"
    }
   }
  },
  {
   "cell_type": "markdown",
   "metadata": {},
   "source": [
    "   # LIME Explainer "
   ]
  },
  {
   "cell_type": "markdown",
   "metadata": {},
   "source": [
    "## setting the classifier for explain_instance using the cnn"
   ]
  },
  {
   "cell_type": "code",
   "execution_count": 18,
   "metadata": {
    "ExecuteTime": {
     "end_time": "2023-07-03T17:57:34.414152Z",
     "start_time": "2023-07-03T17:57:34.244962Z"
    }
   },
   "outputs": [],
   "source": [
    "from lime import lime_image\n",
    "from PIL import Image\n",
    "from skimage.segmentation import mark_boundaries\n"
   ]
  },
  {
   "cell_type": "code",
   "execution_count": 19,
   "metadata": {
    "ExecuteTime": {
     "end_time": "2023-07-03T17:57:34.432408Z",
     "start_time": "2023-07-03T17:57:34.415407Z"
    }
   },
   "outputs": [],
   "source": [
    "#To plot the heatmap\n",
    "rgb_traces = []\n",
    "\n",
    "for i in range(len(X_test)):\n",
    "    trace = X_test[i].reshape(27,27)\n",
    "    \n",
    "    min_value = np.min(trace)\n",
    "    max_value = np.max(trace)\n",
    "    matrice_normalizzata = (trace - min_value) / (max_value - min_value)\n",
    "\n",
    "    # Crea una matrice 27x27x3 con valori dei canali di colore basati sulla matrice normalizzata\n",
    "    rosso = matrice_normalizzata\n",
    "    verde = np.zeros_like(matrice_normalizzata)\n",
    "    blu = np.zeros_like(matrice_normalizzata)\n",
    "    heatmap = np.dstack((rosso, verde, blu))\n",
    "    rgb_traces.append(heatmap)\n",
    "\n",
    "rgb_traces = np.array([np.array(trace) for trace in rgb_traces])"
   ]
  },
  {
   "cell_type": "code",
   "execution_count": 20,
   "metadata": {
    "ExecuteTime": {
     "end_time": "2023-07-03T17:57:34.441811Z",
     "start_time": "2023-07-03T17:57:34.432811Z"
    }
   },
   "outputs": [],
   "source": [
    "explainer = lime_image.LimeImageExplainer()"
   ]
  },
  {
   "cell_type": "code",
   "execution_count": 21,
   "metadata": {
    "ExecuteTime": {
     "end_time": "2023-07-03T17:57:34.445972Z",
     "start_time": "2023-07-03T17:57:34.435491Z"
    }
   },
   "outputs": [],
   "source": [
    "import skimage\n",
    "from skimage.color import gray2rgb, rgb2gray\n",
    "\n",
    "def make_prediction(color_img):\n",
    "    gray_img = rgb2gray(color_img).reshape(-1,27,27)\n",
    "    preds = cnn.predict(gray_img)\n",
    "    return preds"
   ]
  },
  {
   "cell_type": "code",
   "execution_count": 22,
   "metadata": {
    "ExecuteTime": {
     "end_time": "2023-07-03T17:57:50.696196Z",
     "start_time": "2023-07-03T17:57:34.439513Z"
    }
   },
   "outputs": [
    {
     "name": "stdout",
     "output_type": "stream",
     "text": [
      "1/1 [==============================] - 0s 9ms/step\n"
     ]
    },
    {
     "data": {
      "application/vnd.jupyter.widget-view+json": {
       "model_id": "c9502ded8a064822a141ad16e3a22644",
       "version_major": 2,
       "version_minor": 0,
       "model_id": "d2521874c2e34312b7ef125d0c56f378"
      }
     },
     "metadata": {},
     "output_type": "display_data"
    },
    {
     "name": "stdout",
     "output_type": "stream",
     "text": [
      "1/1 [==============================] - 0s 10ms/step\n",
      "1/1 [==============================] - 0s 11ms/step\n",
      "1/1 [==============================] - 0s 9ms/step\n",
      "1/1 [==============================] - 0s 11ms/step\n",
      "1/1 [==============================] - 0s 13ms/step\n",
      "1/1 [==============================] - 0s 11ms/step\n"
     ]
    },
    {
     "data": {
      "application/vnd.jupyter.widget-view+json": {
       "model_id": "bd85554b0b4a4640adeee7bf31e9994a",
       "version_major": 2,
       "version_minor": 0,
       "model_id": "fb299b0b38e243e5b0f2bc56abcb7d0e"
      }
     },
     "metadata": {},
     "output_type": "display_data"
    },
    {
     "name": "stdout",
     "output_type": "stream",
     "text": [
      "1/1 [==============================] - 0s 9ms/step\n",
      "1/1 [==============================] - 0s 12ms/step\n",
      "1/1 [==============================] - 0s 9ms/step\n",
      "1/1 [==============================] - 0s 13ms/step\n",
      "1/1 [==============================] - 0s 9ms/step\n",
      "1/1 [==============================] - 0s 10ms/step\n"
     ]
    },
    {
     "data": {
      "text/plain": "  0%|          | 0/50 [00:00<?, ?it/s]",
      "application/vnd.jupyter.widget-view+json": {
       "version_major": 2,
       "version_minor": 0,
       "model_id": "018b70f90b9f4f84827bde86ae027e25"
      }
     },
     "metadata": {},
     "output_type": "display_data"
    },
    {
     "name": "stdout",
     "output_type": "stream",
     "text": [
      "1/1 [==============================] - 0s 11ms/step\n",
      "1/1 [==============================] - 0s 10ms/step\n",
      "1/1 [==============================] - 0s 11ms/step\n",
      "1/1 [==============================] - 0s 9ms/step\n",
      "1/1 [==============================] - 0s 12ms/step\n",
      "1/1 [==============================] - 0s 8ms/step\n"
     ]
    },
    {
     "data": {
      "text/plain": "  0%|          | 0/50 [00:00<?, ?it/s]",
      "application/vnd.jupyter.widget-view+json": {
       "version_major": 2,
       "version_minor": 0,
       "model_id": "2446897bebaf41f2bd955a8c3a93b964"
      }
     },
     "metadata": {},
     "output_type": "display_data"
    },
    {
     "name": "stdout",
     "output_type": "stream",
     "text": [
      "1/1 [==============================] - 0s 14ms/step\n",
      "1/1 [==============================] - 0s 14ms/step\n",
      "1/1 [==============================] - 0s 20ms/step\n",
      "1/1 [==============================] - 0s 13ms/step\n",
      "1/1 [==============================] - 0s 13ms/step\n",
      "1/1 [==============================] - 0s 14ms/step\n"
     ]
    },
    {
     "data": {
      "application/vnd.jupyter.widget-view+json": {
       "model_id": "47877668ba9f40998c2ec19b8eb05f27",
       "version_major": 2,
       "version_minor": 0,
       "model_id": "0007aed812444038b538c05a6c450744"
      }
     },
     "metadata": {},
     "output_type": "display_data"
    },
    {
     "name": "stdout",
     "output_type": "stream",
     "text": [
      "1/1 [==============================] - 0s 11ms/step\n",
      "1/1 [==============================] - 0s 8ms/step\n",
      "1/1 [==============================] - 0s 8ms/step\n",
      "1/1 [==============================] - 0s 9ms/step\n",
      "1/1 [==============================] - 0s 14ms/step\n",
      "Prediction:  1\n",
      "Actual: 1 \tindex: 4\n",
      "1/1 [==============================] - 0s 12ms/step\n"
     ]
    },
    {
     "data": {
      "text/plain": "  0%|          | 0/50 [00:00<?, ?it/s]",
      "application/vnd.jupyter.widget-view+json": {
       "version_major": 2,
       "version_minor": 0,
       "model_id": "d20a9e2bec3d4ebf8f1642f850dd499d"
      }
     },
     "metadata": {},
     "output_type": "display_data"
    },
    {
     "name": "stdout",
     "output_type": "stream",
     "text": [
      "1/1 [==============================] - 0s 13ms/step\n",
      "1/1 [==============================] - 0s 9ms/step\n",
      "1/1 [==============================] - 0s 10ms/step\n",
      "1/1 [==============================] - 0s 8ms/step\n",
      "1/1 [==============================] - 0s 8ms/step\n",
      "1/1 [==============================] - 0s 12ms/step\n"
     ]
    },
    {
     "data": {
      "text/plain": "  0%|          | 0/50 [00:00<?, ?it/s]",
      "application/vnd.jupyter.widget-view+json": {
       "version_major": 2,
       "version_minor": 0,
       "model_id": "04330b111f004056b99efd1f1a3b88a4"
      }
     },
     "metadata": {},
     "output_type": "display_data"
    },
    {
     "name": "stdout",
     "output_type": "stream",
     "text": [
      "1/1 [==============================] - 0s 10ms/step\n",
      "1/1 [==============================] - 0s 9ms/step\n",
      "1/1 [==============================] - 0s 10ms/step\n",
      "1/1 [==============================] - 0s 11ms/step\n",
      "1/1 [==============================] - 0s 10ms/step\n",
      "1/1 [==============================] - 0s 12ms/step\n"
     ]
    },
    {
     "data": {
      "text/plain": "  0%|          | 0/50 [00:00<?, ?it/s]",
      "application/vnd.jupyter.widget-view+json": {
       "version_major": 2,
       "version_minor": 0,
       "model_id": "424f4d9d28cb4413a17cc490ac23c81e"
      }
     },
     "metadata": {},
     "output_type": "display_data"
    },
    {
     "name": "stdout",
     "output_type": "stream",
     "text": [
      "1/1 [==============================] - 0s 11ms/step\n",
      "1/1 [==============================] - 0s 10ms/step\n",
      "1/1 [==============================] - 0s 8ms/step\n",
      "1/1 [==============================] - 0s 10ms/step\n",
      "1/1 [==============================] - 0s 7ms/step\n",
      "1/1 [==============================] - 0s 9ms/step\n"
     ]
    },
    {
     "data": {
      "text/plain": "  0%|          | 0/50 [00:00<?, ?it/s]",
      "application/vnd.jupyter.widget-view+json": {
       "version_major": 2,
       "version_minor": 0,
       "model_id": "1bc613a436c340d194d055b0673766a1"
      }
     },
     "metadata": {},
     "output_type": "display_data"
    },
    {
     "name": "stdout",
     "output_type": "stream",
     "text": [
      "1/1 [==============================] - 0s 10ms/step\n",
      "1/1 [==============================] - 0s 12ms/step\n",
      "1/1 [==============================] - 0s 11ms/step\n",
      "1/1 [==============================] - 0s 12ms/step\n",
      "1/1 [==============================] - 0s 9ms/step\n",
      "1/1 [==============================] - 0s 9ms/step\n"
     ]
    },
    {
     "data": {
      "text/plain": "  0%|          | 0/50 [00:00<?, ?it/s]",
      "application/vnd.jupyter.widget-view+json": {
       "version_major": 2,
       "version_minor": 0,
       "model_id": "9fa63b8978404deabae5e2fb04987234"
      }
     },
     "metadata": {},
     "output_type": "display_data"
    },
    {
     "name": "stdout",
     "output_type": "stream",
     "text": [
      "1/1 [==============================] - 0s 10ms/step\n",
      "1/1 [==============================] - 0s 9ms/step\n",
      "1/1 [==============================] - 0s 9ms/step\n",
      "1/1 [==============================] - 0s 7ms/step\n",
      "1/1 [==============================] - 0s 11ms/step\n",
      "1/1 [==============================] - 0s 12ms/step\n"
     ]
    },
    {
     "data": {
      "text/plain": "  0%|          | 0/50 [00:00<?, ?it/s]",
      "application/vnd.jupyter.widget-view+json": {
       "version_major": 2,
       "version_minor": 0,
       "model_id": "6fb17ca2bc86433ab20a964072203ba2"
      }
     },
     "metadata": {},
     "output_type": "display_data"
    },
    {
     "name": "stdout",
     "output_type": "stream",
     "text": [
      "1/1 [==============================] - 0s 8ms/step\n",
      "1/1 [==============================] - 0s 9ms/step\n",
      "1/1 [==============================] - 0s 9ms/step\n",
      "1/1 [==============================] - 0s 8ms/step\n",
      "1/1 [==============================] - 0s 9ms/step\n",
      "1/1 [==============================] - 0s 10ms/step\n"
     ]
    },
    {
     "data": {
      "text/plain": "  0%|          | 0/50 [00:00<?, ?it/s]",
      "application/vnd.jupyter.widget-view+json": {
       "version_major": 2,
       "version_minor": 0,
       "model_id": "05df760cc4ef44c2b8f51fa1e15954b5"
      }
     },
     "metadata": {},
     "output_type": "display_data"
    },
    {
     "name": "stdout",
     "output_type": "stream",
     "text": [
      "1/1 [==============================] - 0s 10ms/step\n",
      "1/1 [==============================] - 0s 12ms/step\n",
      "1/1 [==============================] - 0s 8ms/step\n",
      "1/1 [==============================] - 0s 9ms/step\n",
      "1/1 [==============================] - 0s 9ms/step\n",
      "1/1 [==============================] - 0s 10ms/step\n"
     ]
    },
    {
     "data": {
      "text/plain": "  0%|          | 0/50 [00:00<?, ?it/s]",
      "application/vnd.jupyter.widget-view+json": {
       "version_major": 2,
       "version_minor": 0,
       "model_id": "33aeb7b9f4874a0dbee83a23243175d8"
      }
     },
     "metadata": {},
     "output_type": "display_data"
    },
    {
     "name": "stdout",
     "output_type": "stream",
     "text": [
      "1/1 [==============================] - 0s 13ms/step\n",
      "1/1 [==============================] - 0s 8ms/step\n",
      "1/1 [==============================] - 0s 9ms/step\n",
      "1/1 [==============================] - 0s 7ms/step\n",
      "1/1 [==============================] - 0s 9ms/step\n",
      "1/1 [==============================] - 0s 13ms/step\n"
     ]
    },
    {
     "data": {
      "text/plain": "  0%|          | 0/50 [00:00<?, ?it/s]",
      "application/vnd.jupyter.widget-view+json": {
       "version_major": 2,
       "version_minor": 0,
       "model_id": "7e92d06bcd124b138cba07319927f408"
      }
     },
     "metadata": {},
     "output_type": "display_data"
    },
    {
     "name": "stdout",
     "output_type": "stream",
     "text": [
      "1/1 [==============================] - 0s 8ms/step\n",
      "1/1 [==============================] - 0s 13ms/step\n",
      "1/1 [==============================] - 0s 7ms/step\n",
      "1/1 [==============================] - 0s 8ms/step\n",
      "1/1 [==============================] - 0s 9ms/step\n",
      "1/1 [==============================] - 0s 13ms/step\n"
     ]
    },
    {
     "data": {
      "text/plain": "  0%|          | 0/50 [00:00<?, ?it/s]",
      "application/vnd.jupyter.widget-view+json": {
       "version_major": 2,
       "version_minor": 0,
       "model_id": "ee58b462f4dd4de8bdf2adf605add5b0"
      }
     },
     "metadata": {},
     "output_type": "display_data"
    },
    {
     "name": "stdout",
     "output_type": "stream",
     "text": [
      "1/1 [==============================] - 0s 11ms/step\n",
      "1/1 [==============================] - 0s 9ms/step\n",
      "1/1 [==============================] - 0s 8ms/step\n",
      "1/1 [==============================] - 0s 8ms/step\n",
      "1/1 [==============================] - 0s 7ms/step\n",
      "Prediction:  0\n",
      "Actual: 0 \tindex: 14\n",
      "1/1 [==============================] - 0s 12ms/step\n"
     ]
    },
    {
     "data": {
      "text/plain": "  0%|          | 0/50 [00:00<?, ?it/s]",
      "application/vnd.jupyter.widget-view+json": {
       "version_major": 2,
       "version_minor": 0,
       "model_id": "62578759e3d34176a5c94fa696c5f218"
      }
     },
     "metadata": {},
     "output_type": "display_data"
    },
    {
     "name": "stdout",
     "output_type": "stream",
     "text": [
      "1/1 [==============================] - 0s 13ms/step\n",
      "1/1 [==============================] - 0s 10ms/step\n",
      "1/1 [==============================] - 0s 7ms/step\n",
      "1/1 [==============================] - 0s 8ms/step\n",
      "1/1 [==============================] - 0s 9ms/step\n",
      "1/1 [==============================] - 0s 10ms/step\n"
     ]
    },
    {
     "data": {
      "text/plain": "  0%|          | 0/50 [00:00<?, ?it/s]",
      "application/vnd.jupyter.widget-view+json": {
       "version_major": 2,
       "version_minor": 0,
       "model_id": "1fce7537162b46b98fad2f72369de51d"
      }
     },
     "metadata": {},
     "output_type": "display_data"
    },
    {
     "name": "stdout",
     "output_type": "stream",
     "text": [
      "1/1 [==============================] - 0s 8ms/step\n",
      "1/1 [==============================] - 0s 9ms/step\n",
      "1/1 [==============================] - 0s 9ms/step\n",
      "1/1 [==============================] - 0s 8ms/step\n",
      "1/1 [==============================] - 0s 9ms/step\n",
      "1/1 [==============================] - 0s 10ms/step\n"
     ]
    },
    {
     "data": {
      "text/plain": "  0%|          | 0/50 [00:00<?, ?it/s]",
      "application/vnd.jupyter.widget-view+json": {
       "version_major": 2,
       "version_minor": 0,
       "model_id": "c0d8461e34804ffb885553f632ff2c8d"
      }
     },
     "metadata": {},
     "output_type": "display_data"
    },
    {
     "name": "stdout",
     "output_type": "stream",
     "text": [
      "1/1 [==============================] - 0s 10ms/step\n",
      "1/1 [==============================] - 0s 10ms/step\n",
      "1/1 [==============================] - 0s 8ms/step\n",
      "1/1 [==============================] - 0s 8ms/step\n",
      "1/1 [==============================] - 0s 12ms/step\n",
      "1/1 [==============================] - 0s 12ms/step\n"
     ]
    },
    {
     "data": {
      "text/plain": "  0%|          | 0/50 [00:00<?, ?it/s]",
      "application/vnd.jupyter.widget-view+json": {
       "version_major": 2,
       "version_minor": 0,
       "model_id": "0c9f10a545ed41e795a74302bd1686b2"
      }
     },
     "metadata": {},
     "output_type": "display_data"
    },
    {
     "name": "stdout",
     "output_type": "stream",
     "text": [
      "1/1 [==============================] - 0s 14ms/step\n",
      "1/1 [==============================] - 0s 10ms/step\n",
      "1/1 [==============================] - 0s 14ms/step\n",
      "1/1 [==============================] - 0s 13ms/step\n",
      "1/1 [==============================] - 0s 10ms/step\n",
      "1/1 [==============================] - 0s 14ms/step\n"
     ]
    },
    {
     "data": {
      "text/plain": "  0%|          | 0/50 [00:00<?, ?it/s]",
      "application/vnd.jupyter.widget-view+json": {
       "version_major": 2,
       "version_minor": 0,
       "model_id": "df7c626879a14463b1b9cd7e7e109981"
      }
     },
     "metadata": {},
     "output_type": "display_data"
    },
    {
     "name": "stdout",
     "output_type": "stream",
     "text": [
      "1/1 [==============================] - 0s 10ms/step\n",
      "1/1 [==============================] - 0s 8ms/step\n",
      "1/1 [==============================] - 0s 8ms/step\n",
      "1/1 [==============================] - 0s 10ms/step\n",
      "1/1 [==============================] - 0s 7ms/step\n",
      "Prediction:  0\n",
      "Actual: 0 \tindex: 19\n",
      "1/1 [==============================] - 0s 8ms/step\n"
     ]
    },
    {
     "data": {
      "text/plain": "  0%|          | 0/50 [00:00<?, ?it/s]",
      "application/vnd.jupyter.widget-view+json": {
       "version_major": 2,
       "version_minor": 0,
       "model_id": "bd30eba2d2d346c782cf4948b0d605c6"
      }
     },
     "metadata": {},
     "output_type": "display_data"
    },
    {
     "name": "stdout",
     "output_type": "stream",
     "text": [
      "1/1 [==============================] - 0s 8ms/step\n",
      "1/1 [==============================] - 0s 11ms/step\n",
      "1/1 [==============================] - 0s 10ms/step\n",
      "1/1 [==============================] - 0s 8ms/step\n",
      "1/1 [==============================] - 0s 10ms/step\n",
      "1/1 [==============================] - 0s 13ms/step\n"
     ]
    },
    {
     "data": {
      "text/plain": "  0%|          | 0/50 [00:00<?, ?it/s]",
      "application/vnd.jupyter.widget-view+json": {
       "version_major": 2,
       "version_minor": 0,
       "model_id": "263973e31442468a93e4aed87998456c"
      }
     },
     "metadata": {},
     "output_type": "display_data"
    },
    {
     "name": "stdout",
     "output_type": "stream",
     "text": [
      "1/1 [==============================] - 0s 11ms/step\n",
      "1/1 [==============================] - 0s 9ms/step\n",
      "1/1 [==============================] - 0s 9ms/step\n",
      "1/1 [==============================] - 0s 8ms/step\n",
      "1/1 [==============================] - 0s 9ms/step\n",
      "1/1 [==============================] - 0s 13ms/step\n"
     ]
    },
    {
     "data": {
      "text/plain": "  0%|          | 0/50 [00:00<?, ?it/s]",
      "application/vnd.jupyter.widget-view+json": {
       "version_major": 2,
       "version_minor": 0,
       "model_id": "6fee36c4b5754b8eb9232d5601086a4b"
      }
     },
     "metadata": {},
     "output_type": "display_data"
    },
    {
     "name": "stdout",
     "output_type": "stream",
     "text": [
      "1/1 [==============================] - 0s 7ms/step\n",
      "1/1 [==============================] - 0s 10ms/step\n",
      "1/1 [==============================] - 0s 9ms/step\n",
      "1/1 [==============================] - 0s 8ms/step\n",
      "1/1 [==============================] - 0s 9ms/step\n",
      "1/1 [==============================] - 0s 10ms/step\n"
     ]
    },
    {
     "data": {
      "text/plain": "  0%|          | 0/50 [00:00<?, ?it/s]",
      "application/vnd.jupyter.widget-view+json": {
       "version_major": 2,
       "version_minor": 0,
       "model_id": "df95096cb2e84db5b060bbe9c8a2a6a6"
      }
     },
     "metadata": {},
     "output_type": "display_data"
    },
    {
     "name": "stdout",
     "output_type": "stream",
     "text": [
      "1/1 [==============================] - 0s 11ms/step\n",
      "1/1 [==============================] - 0s 12ms/step\n",
      "1/1 [==============================] - 0s 12ms/step\n",
      "1/1 [==============================] - 0s 9ms/step\n",
      "1/1 [==============================] - 0s 12ms/step\n",
      "1/1 [==============================] - 0s 12ms/step\n"
     ]
    },
    {
     "data": {
      "text/plain": "  0%|          | 0/50 [00:00<?, ?it/s]",
      "application/vnd.jupyter.widget-view+json": {
       "version_major": 2,
       "version_minor": 0,
       "model_id": "35a6519f88c042e8a8f4f6d4f1ebea61"
      }
     },
     "metadata": {},
     "output_type": "display_data"
    },
    {
     "name": "stdout",
     "output_type": "stream",
     "text": [
      "1/1 [==============================] - 0s 11ms/step\n",
      "1/1 [==============================] - 0s 9ms/step\n",
      "1/1 [==============================] - 0s 8ms/step\n",
      "1/1 [==============================] - 0s 8ms/step\n",
      "1/1 [==============================] - 0s 10ms/step\n",
      "1/1 [==============================] - 0s 14ms/step\n"
     ]
    },
    {
     "data": {
      "text/plain": "  0%|          | 0/50 [00:00<?, ?it/s]",
      "application/vnd.jupyter.widget-view+json": {
       "version_major": 2,
       "version_minor": 0,
       "model_id": "37bea2784c8e421e8892f547b1d2e666"
      }
     },
     "metadata": {},
     "output_type": "display_data"
    },
    {
     "name": "stdout",
     "output_type": "stream",
     "text": [
      "1/1 [==============================] - 0s 11ms/step\n",
      "1/1 [==============================] - 0s 8ms/step\n",
      "1/1 [==============================] - 0s 9ms/step\n",
      "1/1 [==============================] - 0s 8ms/step\n",
      "1/1 [==============================] - 0s 12ms/step\n",
      "1/1 [==============================] - 0s 14ms/step\n"
     ]
    },
    {
     "data": {
      "text/plain": "  0%|          | 0/50 [00:00<?, ?it/s]",
      "application/vnd.jupyter.widget-view+json": {
       "version_major": 2,
       "version_minor": 0,
       "model_id": "8e27cb53871e472abc6af39924204b00"
      }
     },
     "metadata": {},
     "output_type": "display_data"
    },
    {
     "name": "stdout",
     "output_type": "stream",
     "text": [
      "1/1 [==============================] - 0s 9ms/step\n",
      "1/1 [==============================] - 0s 9ms/step\n",
      "1/1 [==============================] - 0s 9ms/step\n",
      "1/1 [==============================] - 0s 8ms/step\n",
      "1/1 [==============================] - 0s 10ms/step\n",
      "1/1 [==============================] - 0s 16ms/step\n"
     ]
    },
    {
     "data": {
      "text/plain": "  0%|          | 0/50 [00:00<?, ?it/s]",
      "application/vnd.jupyter.widget-view+json": {
       "version_major": 2,
       "version_minor": 0,
       "model_id": "e60270b3c78b42129363ee663824d318"
      }
     },
     "metadata": {},
     "output_type": "display_data"
    },
    {
     "name": "stdout",
     "output_type": "stream",
     "text": [
      "1/1 [==============================] - 0s 40ms/step\n",
      "1/1 [==============================] - 0s 21ms/step\n",
      "1/1 [==============================] - 0s 11ms/step\n",
      "1/1 [==============================] - 0s 13ms/step\n",
      "1/1 [==============================] - 0s 20ms/step\n",
      "Prediction:  0\n",
      "Actual: 0 \tindex: 27\n",
      "1/1 [==============================] - 0s 13ms/step\n"
     ]
    },
    {
     "data": {
      "text/plain": "  0%|          | 0/50 [00:00<?, ?it/s]",
      "application/vnd.jupyter.widget-view+json": {
       "version_major": 2,
       "version_minor": 0,
       "model_id": "53b5b7b720794409aa4fe23b09d3c6d3"
      }
     },
     "metadata": {},
     "output_type": "display_data"
    },
    {
     "name": "stdout",
     "output_type": "stream",
     "text": [
      "1/1 [==============================] - 0s 18ms/step\n",
      "1/1 [==============================] - 0s 14ms/step\n",
      "1/1 [==============================] - 0s 14ms/step\n",
      "1/1 [==============================] - 0s 27ms/step\n",
      "1/1 [==============================] - 0s 23ms/step\n",
      "1/1 [==============================] - 0s 17ms/step\n"
     ]
    },
    {
     "data": {
      "text/plain": "  0%|          | 0/50 [00:00<?, ?it/s]",
      "application/vnd.jupyter.widget-view+json": {
       "version_major": 2,
       "version_minor": 0,
       "model_id": "6b9f6746765c42f1bb3ae5f4f5943ea3"
      }
     },
     "metadata": {},
     "output_type": "display_data"
    },
    {
     "name": "stdout",
     "output_type": "stream",
     "text": [
      "1/1 [==============================] - 0s 17ms/step\n",
      "1/1 [==============================] - 0s 12ms/step\n",
      "1/1 [==============================] - 0s 13ms/step\n",
      "1/1 [==============================] - 0s 9ms/step\n",
      "1/1 [==============================] - 0s 11ms/step\n",
      "1/1 [==============================] - 0s 13ms/step\n"
     ]
    },
    {
     "data": {
      "application/vnd.jupyter.widget-view+json": {
       "model_id": "e7bf59bbbe864174b927666aa7b86ace",
       "version_major": 2,
       "version_minor": 0,
       "model_id": "87b7db82c0734a36b52b89ab7ecae35c"
      }
     },
     "metadata": {},
     "output_type": "display_data"
    },
    {
     "name": "stdout",
     "output_type": "stream",
     "text": [
      "1/1 [==============================] - 0s 9ms/step\n",
      "1/1 [==============================] - 0s 9ms/step\n",
      "1/1 [==============================] - 0s 10ms/step\n",
      "1/1 [==============================] - 0s 11ms/step\n",
      "1/1 [==============================] - 0s 10ms/step\n",
      "1/1 [==============================] - 0s 14ms/step\n"
     ]
    },
    {
     "data": {
      "application/vnd.jupyter.widget-view+json": {
       "model_id": "a694ace7d55c4883a2619a6fae9a696a",
       "version_major": 2,
       "version_minor": 0,
       "model_id": "2881b03c07c94ebe84ac7165134fbbab"
      }
     },
     "metadata": {},
     "output_type": "display_data"
    },
    {
     "name": "stdout",
     "output_type": "stream",
     "text": [
      "1/1 [==============================] - 0s 12ms/step\n",
      "1/1 [==============================] - 0s 12ms/step\n",
      "1/1 [==============================] - 0s 9ms/step\n",
      "1/1 [==============================] - 0s 9ms/step\n",
      "1/1 [==============================] - 0s 9ms/step\n",
      "Prediction:  0\n",
      "Actual: 0 \tindex: 31\n",
      "1/1 [==============================] - 0s 11ms/step\n"
     ]
    },
    {
     "data": {
      "application/vnd.jupyter.widget-view+json": {
       "model_id": "5d3a9c0fda554817aa83fe6e95561ef9",
       "version_major": 2,
       "version_minor": 0,
       "model_id": "8336f826bbb04750897a17d1bafcb9d7"
      }
     },
     "metadata": {},
     "output_type": "display_data"
    },
    {
     "name": "stdout",
     "output_type": "stream",
     "text": [
      "1/1 [==============================] - 0s 10ms/step\n",
      "1/1 [==============================] - 0s 9ms/step\n",
      "1/1 [==============================] - 0s 9ms/step\n",
      "1/1 [==============================] - 0s 10ms/step\n",
      "1/1 [==============================] - 0s 11ms/step\n",
      "1/1 [==============================] - 0s 9ms/step\n"
     ]
    },
    {
     "data": {
      "application/vnd.jupyter.widget-view+json": {
       "model_id": "f4ffa7de4d314cb687a9a715fea7e2a6",
       "version_major": 2,
       "version_minor": 0,
       "model_id": "df640a81725f4906b2780736c8c16246"
      }
     },
     "metadata": {},
     "output_type": "display_data"
    },
    {
     "name": "stdout",
     "output_type": "stream",
     "text": [
      "1/1 [==============================] - 0s 10ms/step\n",
      "1/1 [==============================] - 0s 10ms/step\n",
      "1/1 [==============================] - 0s 11ms/step\n",
      "1/1 [==============================] - 0s 8ms/step\n",
      "1/1 [==============================] - 0s 9ms/step\n",
      "1/1 [==============================] - 0s 12ms/step\n"
     ]
    },
    {
     "data": {
      "text/plain": "  0%|          | 0/50 [00:00<?, ?it/s]",
      "application/vnd.jupyter.widget-view+json": {
       "version_major": 2,
       "version_minor": 0,
       "model_id": "3ab4714ffeb04ea1b8c783faa8710e93"
      }
     },
     "metadata": {},
     "output_type": "display_data"
    },
    {
     "name": "stdout",
     "output_type": "stream",
     "text": [
      "1/1 [==============================] - 0s 14ms/step\n",
      "1/1 [==============================] - 0s 7ms/step\n",
      "1/1 [==============================] - 0s 8ms/step\n",
      "1/1 [==============================] - 0s 9ms/step\n",
      "1/1 [==============================] - 0s 8ms/step\n",
      "1/1 [==============================] - 0s 12ms/step\n"
     ]
    },
    {
     "data": {
      "application/vnd.jupyter.widget-view+json": {
       "model_id": "772bd55e52ea482e88ba19d6bbc88b10",
       "version_major": 2,
       "version_minor": 0,
       "model_id": "7a462289dbda4c3f82bab16db8be25a2"
      }
     },
     "metadata": {},
     "output_type": "display_data"
    },
    {
     "name": "stdout",
     "output_type": "stream",
     "text": [
      "1/1 [==============================] - 0s 11ms/step\n",
      "1/1 [==============================] - 0s 9ms/step\n",
      "1/1 [==============================] - 0s 10ms/step\n",
      "1/1 [==============================] - 0s 8ms/step\n",
      "1/1 [==============================] - 0s 9ms/step\n",
      "1/1 [==============================] - 0s 9ms/step\n"
     ]
    },
    {
     "data": {
      "text/plain": "  0%|          | 0/50 [00:00<?, ?it/s]",
      "application/vnd.jupyter.widget-view+json": {
       "version_major": 2,
       "version_minor": 0,
       "model_id": "24814c602df34c00b50641017839c274"
      }
     },
     "metadata": {},
     "output_type": "display_data"
    },
    {
     "name": "stdout",
     "output_type": "stream",
     "text": [
      "1/1 [==============================] - 0s 8ms/step\n",
      "1/1 [==============================] - 0s 9ms/step\n",
      "1/1 [==============================] - 0s 9ms/step\n",
      "1/1 [==============================] - 0s 8ms/step\n",
      "1/1 [==============================] - 0s 11ms/step\n",
      "1/1 [==============================] - 0s 10ms/step\n"
     ]
    },
    {
     "data": {
      "text/plain": "  0%|          | 0/50 [00:00<?, ?it/s]",
      "application/vnd.jupyter.widget-view+json": {
       "version_major": 2,
       "version_minor": 0,
       "model_id": "846f6e83cf3f4fe49cf1e009ace7bcce"
      }
     },
     "metadata": {},
     "output_type": "display_data"
    },
    {
     "name": "stdout",
     "output_type": "stream",
     "text": [
      "1/1 [==============================] - 0s 10ms/step\n",
      "1/1 [==============================] - 0s 14ms/step\n",
      "1/1 [==============================] - 0s 9ms/step\n",
      "1/1 [==============================] - 0s 9ms/step\n",
      "1/1 [==============================] - 0s 8ms/step\n",
      "1/1 [==============================] - 0s 9ms/step\n"
     ]
    },
    {
     "data": {
      "text/plain": "  0%|          | 0/50 [00:00<?, ?it/s]",
      "application/vnd.jupyter.widget-view+json": {
       "version_major": 2,
       "version_minor": 0,
       "model_id": "993601c273a342f1808afd86c53f1fdf"
      }
     },
     "metadata": {},
     "output_type": "display_data"
    },
    {
     "name": "stdout",
     "output_type": "stream",
     "text": [
      "1/1 [==============================] - 0s 10ms/step\n",
      "1/1 [==============================] - 0s 9ms/step\n",
      "1/1 [==============================] - 0s 9ms/step\n",
      "1/1 [==============================] - 0s 8ms/step\n",
      "1/1 [==============================] - 0s 10ms/step\n",
      "Prediction:  0\n",
      "Actual: 0 \tindex: 38\n",
      "1/1 [==============================] - 0s 9ms/step\n"
     ]
    },
    {
     "data": {
      "text/plain": "  0%|          | 0/50 [00:00<?, ?it/s]",
      "application/vnd.jupyter.widget-view+json": {
       "version_major": 2,
       "version_minor": 0,
       "model_id": "7caadd655d71489aafc7bd7d7433d4ef"
      }
     },
     "metadata": {},
     "output_type": "display_data"
    },
    {
     "name": "stdout",
     "output_type": "stream",
     "text": [
      "1/1 [==============================] - 0s 11ms/step\n",
      "1/1 [==============================] - 0s 11ms/step\n",
      "1/1 [==============================] - 0s 10ms/step\n",
      "1/1 [==============================] - 0s 11ms/step\n",
      "1/1 [==============================] - 0s 9ms/step\n",
      "1/1 [==============================] - 0s 8ms/step\n"
     ]
    },
    {
     "data": {
      "text/plain": "  0%|          | 0/50 [00:00<?, ?it/s]",
      "application/vnd.jupyter.widget-view+json": {
       "version_major": 2,
       "version_minor": 0,
       "model_id": "a88ba3e219f8443aa8a8bf446ba5375a"
      }
     },
     "metadata": {},
     "output_type": "display_data"
    },
    {
     "name": "stdout",
     "output_type": "stream",
     "text": [
      "1/1 [==============================] - 0s 11ms/step\n",
      "1/1 [==============================] - 0s 12ms/step\n",
      "1/1 [==============================] - 0s 9ms/step\n",
      "1/1 [==============================] - 0s 10ms/step\n",
      "1/1 [==============================] - 0s 10ms/step\n",
      "1/1 [==============================] - 0s 11ms/step\n"
     ]
    },
    {
     "data": {
      "application/vnd.jupyter.widget-view+json": {
       "model_id": "8e0afbbbf5744805adef4ef3c8073fed",
       "version_major": 2,
       "version_minor": 0,
       "model_id": "cc5db09eb7c84fad85799821c8c5a7b6"
      }
     },
     "metadata": {},
     "output_type": "display_data"
    },
    {
     "name": "stdout",
     "output_type": "stream",
     "text": [
      "1/1 [==============================] - 0s 12ms/step\n",
      "1/1 [==============================] - 0s 9ms/step\n",
      "1/1 [==============================] - 0s 7ms/step\n",
      "1/1 [==============================] - 0s 8ms/step\n",
      "1/1 [==============================] - 0s 13ms/step\n",
      "1/1 [==============================] - 0s 12ms/step\n"
     ]
    },
    {
     "data": {
      "application/vnd.jupyter.widget-view+json": {
       "model_id": "35ec1917bca740cca30920bd54af55a8",
       "version_major": 2,
       "version_minor": 0,
       "model_id": "d50ca5a246e24180822b54d61fe6764c"
      }
     },
     "metadata": {},
     "output_type": "display_data"
    },
    {
     "name": "stdout",
     "output_type": "stream",
     "text": [
      "1/1 [==============================] - 0s 13ms/step\n",
      "1/1 [==============================] - 0s 8ms/step\n",
      "1/1 [==============================] - 0s 9ms/step\n",
      "1/1 [==============================] - 0s 8ms/step\n",
      "1/1 [==============================] - 0s 9ms/step\n",
      "1/1 [==============================] - 0s 9ms/step\n"
     ]
    },
    {
     "data": {
      "application/vnd.jupyter.widget-view+json": {
       "model_id": "201b1aa2d81e4de9968debcf5c09d42e",
       "version_major": 2,
       "version_minor": 0,
       "model_id": "01a236e3b7b341f38dbda84e3e671cab"
      }
     },
     "metadata": {},
     "output_type": "display_data"
    },
    {
     "name": "stdout",
     "output_type": "stream",
     "text": [
      "1/1 [==============================] - 0s 8ms/step\n",
      "1/1 [==============================] - 0s 9ms/step\n",
      "1/1 [==============================] - 0s 8ms/step\n",
      "1/1 [==============================] - 0s 10ms/step\n",
      "1/1 [==============================] - 0s 7ms/step\n",
      "1/1 [==============================] - 0s 10ms/step\n"
     ]
    },
    {
     "data": {
      "text/plain": "  0%|          | 0/50 [00:00<?, ?it/s]",
      "application/vnd.jupyter.widget-view+json": {
       "version_major": 2,
       "version_minor": 0,
       "model_id": "0b1f0e66183c4432a5c8e240d716b3b0"
      }
     },
     "metadata": {},
     "output_type": "display_data"
    },
    {
     "name": "stdout",
     "output_type": "stream",
     "text": [
      "1/1 [==============================] - 0s 10ms/step\n",
      "1/1 [==============================] - 0s 9ms/step\n",
      "1/1 [==============================] - 0s 9ms/step\n",
      "1/1 [==============================] - 0s 8ms/step\n",
      "1/1 [==============================] - 0s 9ms/step\n",
      "Prediction:  1\n",
      "Actual: 1 \tindex: 44\n",
      "1/1 [==============================] - 0s 11ms/step\n"
     ]
    },
    {
     "data": {
      "application/vnd.jupyter.widget-view+json": {
       "model_id": "4b1194d147dd487083a8fc578170e6cb",
       "version_major": 2,
       "version_minor": 0,
       "model_id": "7209e27b463342f7bb6bd95475830c0d"
      }
     },
     "metadata": {},
     "output_type": "display_data"
    },
    {
     "name": "stdout",
     "output_type": "stream",
     "text": [
      "1/1 [==============================] - 0s 10ms/step\n",
      "1/1 [==============================] - 0s 8ms/step\n",
      "1/1 [==============================] - 0s 10ms/step\n",
      "1/1 [==============================] - 0s 8ms/step\n",
      "1/1 [==============================] - 0s 9ms/step\n",
      "1/1 [==============================] - 0s 12ms/step\n"
     ]
    },
    {
     "data": {
      "text/plain": "  0%|          | 0/50 [00:00<?, ?it/s]",
      "application/vnd.jupyter.widget-view+json": {
       "version_major": 2,
       "version_minor": 0,
       "model_id": "2bd1b6fb43bd48209826fc9e5a5e8513"
      }
     },
     "metadata": {},
     "output_type": "display_data"
    },
    {
     "name": "stdout",
     "output_type": "stream",
     "text": [
      "1/1 [==============================] - 0s 8ms/step\n",
      "1/1 [==============================] - 0s 8ms/step\n",
      "1/1 [==============================] - 0s 10ms/step\n",
      "1/1 [==============================] - 0s 10ms/step\n",
      "1/1 [==============================] - 0s 9ms/step\n",
      "1/1 [==============================] - 0s 12ms/step\n"
     ]
    },
    {
     "data": {
      "text/plain": "  0%|          | 0/50 [00:00<?, ?it/s]",
      "application/vnd.jupyter.widget-view+json": {
       "version_major": 2,
       "version_minor": 0,
       "model_id": "3b65db943d4241628f1cd4f09f54a700"
      }
     },
     "metadata": {},
     "output_type": "display_data"
    },
    {
     "name": "stdout",
     "output_type": "stream",
     "text": [
      "1/1 [==============================] - 0s 8ms/step\n",
      "1/1 [==============================] - 0s 11ms/step\n",
      "1/1 [==============================] - 0s 7ms/step\n",
      "1/1 [==============================] - 0s 12ms/step\n",
      "1/1 [==============================] - 0s 10ms/step\n",
      "1/1 [==============================] - 0s 10ms/step\n"
     ]
    },
    {
     "data": {
      "text/plain": "  0%|          | 0/50 [00:00<?, ?it/s]",
      "application/vnd.jupyter.widget-view+json": {
       "version_major": 2,
       "version_minor": 0,
       "model_id": "c8039463db9b4181b18b793a36f5fedf"
      }
     },
     "metadata": {},
     "output_type": "display_data"
    },
    {
     "name": "stdout",
     "output_type": "stream",
     "text": [
      "1/1 [==============================] - 0s 10ms/step\n",
      "1/1 [==============================] - 0s 7ms/step\n",
      "1/1 [==============================] - 0s 14ms/step\n",
      "1/1 [==============================] - 0s 7ms/step\n",
      "1/1 [==============================] - 0s 16ms/step\n",
      "1/1 [==============================] - 0s 13ms/step\n"
     ]
    },
    {
     "data": {
      "text/plain": "  0%|          | 0/50 [00:00<?, ?it/s]",
      "application/vnd.jupyter.widget-view+json": {
       "version_major": 2,
       "version_minor": 0,
       "model_id": "91a510780b0f4e3baac789d322ecf29f"
      }
     },
     "metadata": {},
     "output_type": "display_data"
    },
    {
     "name": "stdout",
     "output_type": "stream",
     "text": [
      "1/1 [==============================] - 0s 9ms/step\n",
      "1/1 [==============================] - 0s 14ms/step\n",
      "1/1 [==============================] - 0s 9ms/step\n",
      "1/1 [==============================] - 0s 12ms/step\n",
      "1/1 [==============================] - 0s 11ms/step\n",
      "1/1 [==============================] - 0s 9ms/step\n"
     ]
    },
    {
     "data": {
      "text/plain": "  0%|          | 0/50 [00:00<?, ?it/s]",
      "application/vnd.jupyter.widget-view+json": {
       "version_major": 2,
       "version_minor": 0,
       "model_id": "687ed8bb970146d4bf55f61b4dcfbffb"
      }
     },
     "metadata": {},
     "output_type": "display_data"
    },
    {
     "name": "stdout",
     "output_type": "stream",
     "text": [
      "1/1 [==============================] - 0s 9ms/step\n",
      "1/1 [==============================] - 0s 11ms/step\n",
      "1/1 [==============================] - 0s 9ms/step\n",
      "1/1 [==============================] - 0s 10ms/step\n",
      "1/1 [==============================] - 0s 10ms/step\n",
      "1/1 [==============================] - 0s 12ms/step\n"
     ]
    },
    {
     "data": {
      "text/plain": "  0%|          | 0/50 [00:00<?, ?it/s]",
      "application/vnd.jupyter.widget-view+json": {
       "version_major": 2,
       "version_minor": 0,
       "model_id": "30b69b9a778a4daab7b94e536740d2e1"
      }
     },
     "metadata": {},
     "output_type": "display_data"
    },
    {
     "name": "stdout",
     "output_type": "stream",
     "text": [
      "1/1 [==============================] - 0s 9ms/step\n",
      "1/1 [==============================] - 0s 9ms/step\n",
      "1/1 [==============================] - 0s 8ms/step\n",
      "1/1 [==============================] - 0s 9ms/step\n",
      "1/1 [==============================] - 0s 11ms/step\n",
      "1/1 [==============================] - 0s 10ms/step\n"
     ]
    },
    {
     "data": {
      "text/plain": "  0%|          | 0/50 [00:00<?, ?it/s]",
      "application/vnd.jupyter.widget-view+json": {
       "version_major": 2,
       "version_minor": 0,
       "model_id": "40d7c70c1bda45d3921d1ea6e9a2f7cf"
      }
     },
     "metadata": {},
     "output_type": "display_data"
    },
    {
     "name": "stdout",
     "output_type": "stream",
     "text": [
      "1/1 [==============================] - 0s 13ms/step\n",
      "1/1 [==============================] - 0s 14ms/step\n",
      "1/1 [==============================] - 0s 8ms/step\n",
      "1/1 [==============================] - 0s 11ms/step\n",
      "1/1 [==============================] - 0s 10ms/step\n",
      "1/1 [==============================] - 0s 28ms/step\n"
     ]
    },
    {
     "data": {
      "text/plain": "  0%|          | 0/50 [00:00<?, ?it/s]",
      "application/vnd.jupyter.widget-view+json": {
       "version_major": 2,
       "version_minor": 0,
       "model_id": "12133af27c524d19b43836c2900bafed"
      }
     },
     "metadata": {},
     "output_type": "display_data"
    },
    {
     "name": "stdout",
     "output_type": "stream",
     "text": [
      "1/1 [==============================] - 0s 9ms/step\n",
      "1/1 [==============================] - 0s 9ms/step\n",
      "1/1 [==============================] - 0s 10ms/step\n",
      "1/1 [==============================] - 0s 8ms/step\n",
      "1/1 [==============================] - 0s 9ms/step\n",
      "1/1 [==============================] - 0s 10ms/step\n"
     ]
    },
    {
     "data": {
      "text/plain": "  0%|          | 0/50 [00:00<?, ?it/s]",
      "application/vnd.jupyter.widget-view+json": {
       "version_major": 2,
       "version_minor": 0,
       "model_id": "e154b415d2694baca7eec939d9e30f22"
      }
     },
     "metadata": {},
     "output_type": "display_data"
    },
    {
     "name": "stdout",
     "output_type": "stream",
     "text": [
      "1/1 [==============================] - 0s 11ms/step\n",
      "1/1 [==============================] - 0s 9ms/step\n",
      "1/1 [==============================] - 0s 12ms/step\n",
      "1/1 [==============================] - 0s 11ms/step\n",
      "1/1 [==============================] - 0s 11ms/step\n",
      "1/1 [==============================] - 0s 13ms/step\n"
     ]
    },
    {
     "data": {
      "text/plain": "  0%|          | 0/50 [00:00<?, ?it/s]",
      "application/vnd.jupyter.widget-view+json": {
       "version_major": 2,
       "version_minor": 0,
       "model_id": "92581c0938724ccc95d01e5cc5817467"
      }
     },
     "metadata": {},
     "output_type": "display_data"
    },
    {
     "name": "stdout",
     "output_type": "stream",
     "text": [
      "1/1 [==============================] - 0s 11ms/step\n",
      "1/1 [==============================] - 0s 11ms/step\n",
      "1/1 [==============================] - 0s 8ms/step\n",
      "1/1 [==============================] - 0s 10ms/step\n",
      "1/1 [==============================] - 0s 11ms/step\n",
      "1/1 [==============================] - 0s 11ms/step\n"
     ]
    },
    {
     "data": {
      "text/plain": "  0%|          | 0/50 [00:00<?, ?it/s]",
      "application/vnd.jupyter.widget-view+json": {
       "version_major": 2,
       "version_minor": 0,
       "model_id": "fe9a023c2c554d87950ffd9322a1816c"
      }
     },
     "metadata": {},
     "output_type": "display_data"
    },
    {
     "name": "stdout",
     "output_type": "stream",
     "text": [
      "1/1 [==============================] - 0s 10ms/step\n",
      "1/1 [==============================] - 0s 10ms/step\n",
      "1/1 [==============================] - 0s 8ms/step\n",
      "1/1 [==============================] - 0s 8ms/step\n",
      "1/1 [==============================] - 0s 10ms/step\n",
      "1/1 [==============================] - 0s 10ms/step\n"
     ]
    },
    {
     "data": {
      "text/plain": "  0%|          | 0/50 [00:00<?, ?it/s]",
      "application/vnd.jupyter.widget-view+json": {
       "version_major": 2,
       "version_minor": 0,
       "model_id": "394a751f6c0c4fd5b3e50bfa1fb3a87c"
      }
     },
     "metadata": {},
     "output_type": "display_data"
    },
    {
     "name": "stdout",
     "output_type": "stream",
     "text": [
      "1/1 [==============================] - 0s 9ms/step\n",
      "1/1 [==============================] - 0s 11ms/step\n",
      "1/1 [==============================] - 0s 8ms/step\n",
      "1/1 [==============================] - 0s 8ms/step\n",
      "1/1 [==============================] - 0s 10ms/step\n",
      "1/1 [==============================] - 0s 11ms/step\n"
     ]
    },
    {
     "data": {
      "text/plain": "  0%|          | 0/50 [00:00<?, ?it/s]",
      "application/vnd.jupyter.widget-view+json": {
       "version_major": 2,
       "version_minor": 0,
       "model_id": "bb8b4981b4e540379c0cb1f94c4005f4"
      }
     },
     "metadata": {},
     "output_type": "display_data"
    },
    {
     "name": "stdout",
     "output_type": "stream",
     "text": [
      "1/1 [==============================] - 0s 10ms/step\n",
      "1/1 [==============================] - 0s 13ms/step\n",
      "1/1 [==============================] - 0s 9ms/step\n",
      "1/1 [==============================] - 0s 15ms/step\n",
      "1/1 [==============================] - 0s 10ms/step\n",
      "1/1 [==============================] - 0s 13ms/step\n"
     ]
    },
    {
     "data": {
      "text/plain": "  0%|          | 0/50 [00:00<?, ?it/s]",
      "application/vnd.jupyter.widget-view+json": {
       "version_major": 2,
       "version_minor": 0,
       "model_id": "73c0cbec04d94a1b927c428e016be98e"
      }
     },
     "metadata": {},
     "output_type": "display_data"
    },
    {
     "name": "stdout",
     "output_type": "stream",
     "text": [
      "1/1 [==============================] - 0s 11ms/step\n",
      "1/1 [==============================] - 0s 9ms/step\n",
      "1/1 [==============================] - 0s 11ms/step\n",
      "1/1 [==============================] - 0s 9ms/step\n",
      "1/1 [==============================] - 0s 12ms/step\n",
      "1/1 [==============================] - 0s 8ms/step\n"
     ]
    },
    {
     "data": {
      "text/plain": "  0%|          | 0/50 [00:00<?, ?it/s]",
      "application/vnd.jupyter.widget-view+json": {
       "version_major": 2,
       "version_minor": 0,
       "model_id": "63fa772c8b2e4b2b90e06187f55aa4a4"
      }
     },
     "metadata": {},
     "output_type": "display_data"
    },
    {
     "name": "stdout",
     "output_type": "stream",
     "text": [
      "1/1 [==============================] - 0s 8ms/step\n",
      "1/1 [==============================] - 0s 14ms/step\n",
      "1/1 [==============================] - 0s 7ms/step\n",
      "1/1 [==============================] - 0s 16ms/step\n",
      "1/1 [==============================] - 0s 15ms/step\n",
      "1/1 [==============================] - 0s 15ms/step\n"
     ]
    },
    {
     "data": {
      "application/vnd.jupyter.widget-view+json": {
       "model_id": "b4fb5e75987d46e0b6079e1f95fb5ffc",
       "version_major": 2,
       "version_minor": 0,
       "model_id": "a2c067aff8ab4ae0a0415211ee7bedf5"
      }
     },
     "metadata": {},
     "output_type": "display_data"
    },
    {
     "name": "stdout",
     "output_type": "stream",
     "text": [
      "1/1 [==============================] - 0s 9ms/step\n",
      "1/1 [==============================] - 0s 9ms/step\n",
      "1/1 [==============================] - 0s 11ms/step\n",
      "1/1 [==============================] - 0s 9ms/step\n",
      "1/1 [==============================] - 0s 14ms/step\n",
      "1/1 [==============================] - 0s 13ms/step\n"
     ]
    },
    {
     "data": {
      "application/vnd.jupyter.widget-view+json": {
       "model_id": "33591802e36f435ead7c50f70412cc19",
       "version_major": 2,
       "version_minor": 0,
       "model_id": "a1fb26fb7b0d4c8fbefebc31c7e6a439"
      }
     },
     "metadata": {},
     "output_type": "display_data"
    },
    {
     "name": "stdout",
     "output_type": "stream",
     "text": [
      "1/1 [==============================] - 0s 10ms/step\n",
      "1/1 [==============================] - 0s 10ms/step\n",
      "1/1 [==============================] - 0s 7ms/step\n",
      "1/1 [==============================] - 0s 8ms/step\n",
      "1/1 [==============================] - 0s 10ms/step\n",
      "Prediction:  1\n",
      "Actual: 0 \tindex: 62\n",
      "1/1 [==============================] - 0s 10ms/step\n"
     ]
    },
    {
     "data": {
      "application/vnd.jupyter.widget-view+json": {
       "model_id": "c0b7a361972a47f8b43c433b286436f6",
       "version_major": 2,
       "version_minor": 0,
       "model_id": "fa407a87584a4aec8c00c327ecd5a867"
      }
     },
     "metadata": {},
     "output_type": "display_data"
    },
    {
     "name": "stdout",
     "output_type": "stream",
     "text": [
      "1/1 [==============================] - 0s 7ms/step\n",
      "1/1 [==============================] - 0s 8ms/step\n",
      "1/1 [==============================] - 0s 10ms/step\n",
      "1/1 [==============================] - 0s 9ms/step\n",
      "1/1 [==============================] - 0s 8ms/step\n",
      "1/1 [==============================] - 0s 10ms/step\n"
     ]
    },
    {
     "data": {
      "application/vnd.jupyter.widget-view+json": {
       "model_id": "2c10c242ddec4f26bf9b53a18d70a836",
       "version_major": 2,
       "version_minor": 0,
       "model_id": "baf9ce1a531b4a20ab00b1fa98caf9e0"
      }
     },
     "metadata": {},
     "output_type": "display_data"
    },
    {
     "name": "stdout",
     "output_type": "stream",
     "text": [
      "1/1 [==============================] - 0s 11ms/step\n",
      "1/1 [==============================] - 0s 8ms/step\n",
      "1/1 [==============================] - 0s 9ms/step\n",
      "1/1 [==============================] - 0s 9ms/step\n",
      "1/1 [==============================] - 0s 9ms/step\n",
      "1/1 [==============================] - 0s 13ms/step\n"
     ]
    },
    {
     "data": {
      "application/vnd.jupyter.widget-view+json": {
       "model_id": "b5ae9297281745c8a579862a4981b55b",
       "version_major": 2,
       "version_minor": 0,
       "model_id": "ac9f05b3d9e84fab9e7f0c78fe4f4c5a"
      }
     },
     "metadata": {},
     "output_type": "display_data"
    },
    {
     "name": "stdout",
     "output_type": "stream",
     "text": [
      "1/1 [==============================] - 0s 14ms/step\n",
      "1/1 [==============================] - 0s 11ms/step\n",
      "1/1 [==============================] - 0s 9ms/step\n",
      "1/1 [==============================] - 0s 8ms/step\n",
      "1/1 [==============================] - 0s 11ms/step\n",
      "Prediction:  1\n",
      "Actual: 1 \tindex: 65\n",
      "1/1 [==============================] - 0s 12ms/step\n"
     ]
    },
    {
     "data": {
      "application/vnd.jupyter.widget-view+json": {
       "model_id": "3cdb98dfbd814929ac15dda4acd47ebd",
       "version_major": 2,
       "version_minor": 0,
       "model_id": "dcc2f5ebf2ec4055948ff714a5339eca"
      }
     },
     "metadata": {},
     "output_type": "display_data"
    },
    {
     "name": "stdout",
     "output_type": "stream",
     "text": [
      "1/1 [==============================] - 0s 11ms/step\n",
      "1/1 [==============================] - 0s 12ms/step\n",
      "1/1 [==============================] - 0s 9ms/step\n",
      "1/1 [==============================] - 0s 9ms/step\n",
      "1/1 [==============================] - 0s 10ms/step\n",
      "1/1 [==============================] - 0s 11ms/step\n"
     ]
    },
    {
     "data": {
      "application/vnd.jupyter.widget-view+json": {
       "model_id": "7c57d15ef22f4c3a8fd24d8e49760023",
       "version_major": 2,
       "version_minor": 0,
       "model_id": "b956d064f8e1492692375b8d6fc73344"
      }
     },
     "metadata": {},
     "output_type": "display_data"
    },
    {
     "name": "stdout",
     "output_type": "stream",
     "text": [
      "1/1 [==============================] - 0s 11ms/step\n",
      "1/1 [==============================] - 0s 12ms/step\n",
      "1/1 [==============================] - 0s 9ms/step\n",
      "1/1 [==============================] - 0s 11ms/step\n",
      "1/1 [==============================] - 0s 9ms/step\n",
      "Prediction:  0\n",
      "Actual: 0 \tindex: 67\n",
      "1/1 [==============================] - 0s 13ms/step\n"
     ]
    },
    {
     "data": {
      "application/vnd.jupyter.widget-view+json": {
       "model_id": "8c35b1ce6d5c4ff28c38cbddf94e518b",
       "version_major": 2,
       "version_minor": 0,
       "model_id": "3b0c2787092e4adeb0e70dd987b23530"
      }
     },
     "metadata": {},
     "output_type": "display_data"
    },
    {
     "name": "stdout",
     "output_type": "stream",
     "text": [
      "1/1 [==============================] - 0s 11ms/step\n",
      "1/1 [==============================] - 0s 11ms/step\n",
      "1/1 [==============================] - 0s 11ms/step\n",
      "1/1 [==============================] - 0s 13ms/step\n",
      "1/1 [==============================] - 0s 8ms/step\n",
      "1/1 [==============================] - 0s 11ms/step\n"
     ]
    },
    {
     "data": {
      "text/plain": "  0%|          | 0/50 [00:00<?, ?it/s]",
      "application/vnd.jupyter.widget-view+json": {
       "version_major": 2,
       "version_minor": 0,
       "model_id": "bac62b7a39014eeeb5b7ca8fd1fdf5cc"
      }
     },
     "metadata": {},
     "output_type": "display_data"
    },
    {
     "name": "stdout",
     "output_type": "stream",
     "text": [
      "1/1 [==============================] - 0s 11ms/step\n",
      "1/1 [==============================] - 0s 10ms/step\n",
      "1/1 [==============================] - 0s 11ms/step\n",
      "1/1 [==============================] - 0s 13ms/step\n",
      "1/1 [==============================] - 0s 16ms/step\n",
      "1/1 [==============================] - 0s 16ms/step\n"
     ]
    },
    {
     "data": {
      "application/vnd.jupyter.widget-view+json": {
       "model_id": "afa2397606274e29929058c531d0abe2",
       "version_major": 2,
       "version_minor": 0,
       "model_id": "d04d8834d4064076aa4b85eeb2661b97"
      }
     },
     "metadata": {},
     "output_type": "display_data"
    },
    {
     "name": "stdout",
     "output_type": "stream",
     "text": [
      "1/1 [==============================] - 0s 16ms/step\n",
      "1/1 [==============================] - 0s 12ms/step\n",
      "1/1 [==============================] - 0s 9ms/step\n",
      "1/1 [==============================] - 0s 15ms/step\n",
      "1/1 [==============================] - 0s 12ms/step\n",
      "1/1 [==============================] - 0s 33ms/step\n"
     ]
    },
    {
     "data": {
      "text/plain": "  0%|          | 0/50 [00:00<?, ?it/s]",
      "application/vnd.jupyter.widget-view+json": {
       "version_major": 2,
       "version_minor": 0,
       "model_id": "84795342684a4d99b74f0e224fa4eb0a"
      }
     },
     "metadata": {},
     "output_type": "display_data"
    },
    {
     "name": "stdout",
     "output_type": "stream",
     "text": [
      "1/1 [==============================] - 0s 25ms/step\n",
      "1/1 [==============================] - 0s 15ms/step\n",
      "1/1 [==============================] - 0s 29ms/step\n",
      "1/1 [==============================] - 0s 22ms/step\n",
      "1/1 [==============================] - 0s 18ms/step\n",
      "1/1 [==============================] - 0s 13ms/step\n"
     ]
    },
    {
     "data": {
      "text/plain": "  0%|          | 0/50 [00:00<?, ?it/s]",
      "application/vnd.jupyter.widget-view+json": {
       "version_major": 2,
       "version_minor": 0,
       "model_id": "a9be514e0e8a44bb8455c3d95159e47e"
      }
     },
     "metadata": {},
     "output_type": "display_data"
    },
    {
     "name": "stdout",
     "output_type": "stream",
     "text": [
      "1/1 [==============================] - 0s 14ms/step\n",
      "1/1 [==============================] - 0s 10ms/step\n",
      "1/1 [==============================] - 0s 12ms/step\n",
      "1/1 [==============================] - 0s 13ms/step\n",
      "1/1 [==============================] - 0s 14ms/step\n",
      "1/1 [==============================] - 0s 13ms/step\n"
     ]
    },
    {
     "data": {
      "text/plain": "  0%|          | 0/50 [00:00<?, ?it/s]",
      "application/vnd.jupyter.widget-view+json": {
       "version_major": 2,
       "version_minor": 0,
       "model_id": "11f87ee623804427ae60a722c80e7d69"
      }
     },
     "metadata": {},
     "output_type": "display_data"
    },
    {
     "name": "stdout",
     "output_type": "stream",
     "text": [
      "1/1 [==============================] - 0s 15ms/step\n",
      "1/1 [==============================] - 0s 11ms/step\n",
      "1/1 [==============================] - 0s 9ms/step\n",
      "1/1 [==============================] - 0s 9ms/step\n",
      "1/1 [==============================] - 0s 13ms/step\n",
      "1/1 [==============================] - 0s 11ms/step\n"
     ]
    },
    {
     "data": {
      "text/plain": "  0%|          | 0/50 [00:00<?, ?it/s]",
      "application/vnd.jupyter.widget-view+json": {
       "version_major": 2,
       "version_minor": 0,
       "model_id": "931d69a0b31f4b0b81ff83dd22928d4c"
      }
     },
     "metadata": {},
     "output_type": "display_data"
    },
    {
     "name": "stdout",
     "output_type": "stream",
     "text": [
      "1/1 [==============================] - 0s 12ms/step\n",
      "1/1 [==============================] - 0s 12ms/step\n",
      "1/1 [==============================] - 0s 8ms/step\n",
      "1/1 [==============================] - 0s 11ms/step\n",
      "1/1 [==============================] - 0s 9ms/step\n",
      "1/1 [==============================] - 0s 10ms/step\n"
     ]
    },
    {
     "data": {
      "text/plain": "  0%|          | 0/50 [00:00<?, ?it/s]",
      "application/vnd.jupyter.widget-view+json": {
       "version_major": 2,
       "version_minor": 0,
       "model_id": "4c673bfa55fe4cc98d231fa26d2dab4d"
      }
     },
     "metadata": {},
     "output_type": "display_data"
    },
    {
     "name": "stdout",
     "output_type": "stream",
     "text": [
      "1/1 [==============================] - 0s 12ms/step\n",
      "1/1 [==============================] - 0s 12ms/step\n",
      "1/1 [==============================] - 0s 8ms/step\n",
      "1/1 [==============================] - 0s 10ms/step\n",
      "1/1 [==============================] - 0s 9ms/step\n",
      "1/1 [==============================] - 0s 10ms/step\n"
     ]
    },
    {
     "data": {
      "text/plain": "  0%|          | 0/50 [00:00<?, ?it/s]",
      "application/vnd.jupyter.widget-view+json": {
       "version_major": 2,
       "version_minor": 0,
       "model_id": "07513aa19b9541178dee710d8c8bce8a"
      }
     },
     "metadata": {},
     "output_type": "display_data"
    },
    {
     "name": "stdout",
     "output_type": "stream",
     "text": [
      "1/1 [==============================] - 0s 12ms/step\n",
      "1/1 [==============================] - 0s 9ms/step\n",
      "1/1 [==============================] - 0s 9ms/step\n",
      "1/1 [==============================] - 0s 9ms/step\n",
      "1/1 [==============================] - 0s 8ms/step\n",
      "1/1 [==============================] - 0s 12ms/step\n"
     ]
    },
    {
     "data": {
      "text/plain": "  0%|          | 0/50 [00:00<?, ?it/s]",
      "application/vnd.jupyter.widget-view+json": {
       "version_major": 2,
       "version_minor": 0,
       "model_id": "0d1fa440608147bd86266f4c6bc24d29"
      }
     },
     "metadata": {},
     "output_type": "display_data"
    },
    {
     "name": "stdout",
     "output_type": "stream",
     "text": [
      "1/1 [==============================] - 0s 9ms/step\n",
      "1/1 [==============================] - 0s 16ms/step\n",
      "1/1 [==============================] - 0s 11ms/step\n",
      "1/1 [==============================] - 0s 16ms/step\n",
      "1/1 [==============================] - 0s 14ms/step\n",
      "1/1 [==============================] - 0s 8ms/step\n"
     ]
    },
    {
     "data": {
      "text/plain": "  0%|          | 0/50 [00:00<?, ?it/s]",
      "application/vnd.jupyter.widget-view+json": {
       "version_major": 2,
       "version_minor": 0,
       "model_id": "bc54056a55684c00baa4c372f545f4af"
      }
     },
     "metadata": {},
     "output_type": "display_data"
    },
    {
     "name": "stdout",
     "output_type": "stream",
     "text": [
      "1/1 [==============================] - 0s 12ms/step\n",
      "1/1 [==============================] - 0s 9ms/step\n",
      "1/1 [==============================] - 0s 9ms/step\n",
      "1/1 [==============================] - 0s 9ms/step\n",
      "1/1 [==============================] - 0s 10ms/step\n",
      "1/1 [==============================] - 0s 12ms/step\n"
     ]
    },
    {
     "data": {
      "text/plain": "  0%|          | 0/50 [00:00<?, ?it/s]",
      "application/vnd.jupyter.widget-view+json": {
       "version_major": 2,
       "version_minor": 0,
       "model_id": "581ad121fd9b48a0859e592f907f52bc"
      }
     },
     "metadata": {},
     "output_type": "display_data"
    },
    {
     "name": "stdout",
     "output_type": "stream",
     "text": [
      "1/1 [==============================] - 0s 12ms/step\n",
      "1/1 [==============================] - 0s 10ms/step\n",
      "1/1 [==============================] - 0s 8ms/step\n",
      "1/1 [==============================] - 0s 8ms/step\n",
      "1/1 [==============================] - 0s 11ms/step\n",
      "1/1 [==============================] - 0s 12ms/step\n"
     ]
    }
   ],
   "source": [
    "#Search for images that aren't full classified\n",
    "indexes = []\n",
    "\n",
    "for idx in range(80):\n",
    "    pred = np.argmax(cnn.predict(X_test[idx].reshape(-1, 27, 27)))\n",
    "\n",
    "    explanation = explainer.explain_instance(gray2rgb(X_test[idx]), classifier_fn=make_prediction, num_samples=50)\n",
    "    temp, mask = explanation.get_image_and_mask(pred, num_features=10, hide_rest=False)\n",
    "\n",
    "    if (not np.all(mask == 0)) & (not np.all(mask == 1)):\n",
    "        print(\"Prediction: \", pred)\n",
    "        print(f\"Actual: {y_test[idx]} \\tindex: {idx}\")\n",
    "        indexes.append(idx)\n",
    "\n",
    "explained = pd.DataFrame()\n",
    "explained['Index'] = indexes\n",
    "explained['Prediction'] = np.argmax(cnn.predict(X_test[indexes].reshape(-len(indexes), 27, 27)), axis=1)\n",
    "explained['Actual'] = y_test[indexes]"
   ]
  },
  {
   "cell_type": "code",
   "execution_count": 23,
   "metadata": {
    "ExecuteTime": {
     "end_time": "2023-07-03T17:57:50.703873Z",
     "start_time": "2023-07-03T17:57:50.690654Z"
    }
   },
   "outputs": [
    {
     "data": {
      "text/plain": "   Index  Prediction  Actual\n0      4           1       1\n1     14           0       0\n2     19           0       0\n3     27           0       0\n4     31           0       0\n5     38           0       0\n6     44           1       1\n7     62           1       0\n8     65           1       1\n9     67           0       0",
      "text/html": "<div>\n<style scoped>\n    .dataframe tbody tr th:only-of-type {\n        vertical-align: middle;\n    }\n\n    .dataframe tbody tr th {\n        vertical-align: top;\n    }\n\n    .dataframe thead th {\n        text-align: right;\n    }\n</style>\n<table border=\"1\" class=\"dataframe\">\n  <thead>\n    <tr style=\"text-align: right;\">\n      <th></th>\n      <th>Index</th>\n      <th>Prediction</th>\n      <th>Actual</th>\n    </tr>\n  </thead>\n  <tbody>\n    <tr>\n      <th>0</th>\n      <td>4</td>\n      <td>1</td>\n      <td>1</td>\n    </tr>\n    <tr>\n      <th>1</th>\n      <td>14</td>\n      <td>0</td>\n      <td>0</td>\n    </tr>\n    <tr>\n      <th>2</th>\n      <td>19</td>\n      <td>0</td>\n      <td>0</td>\n    </tr>\n    <tr>\n      <th>3</th>\n      <td>27</td>\n      <td>0</td>\n      <td>0</td>\n    </tr>\n    <tr>\n      <th>4</th>\n      <td>31</td>\n      <td>0</td>\n      <td>0</td>\n    </tr>\n    <tr>\n      <th>5</th>\n      <td>38</td>\n      <td>0</td>\n      <td>0</td>\n    </tr>\n    <tr>\n      <th>6</th>\n      <td>44</td>\n      <td>1</td>\n      <td>1</td>\n    </tr>\n    <tr>\n      <th>7</th>\n      <td>62</td>\n      <td>1</td>\n      <td>0</td>\n    </tr>\n    <tr>\n      <th>8</th>\n      <td>65</td>\n      <td>1</td>\n      <td>1</td>\n    </tr>\n    <tr>\n      <th>9</th>\n      <td>67</td>\n      <td>0</td>\n      <td>0</td>\n    </tr>\n  </tbody>\n</table>\n</div>"
     },
     "execution_count": 23,
     "metadata": {},
     "output_type": "execute_result"
    }
   ],
   "source": [
    "explained"
   ]
  },
  {
   "cell_type": "code",
   "execution_count": 24,
   "metadata": {
    "ExecuteTime": {
     "end_time": "2023-07-03T17:57:50.859049Z",
     "start_time": "2023-07-03T17:57:50.701609Z"
    }
   },
   "outputs": [
    {
     "data": {
      "application/vnd.jupyter.widget-view+json": {
       "model_id": "fd4ce85ae7ec4f6ba16bb8bd00818d72",
       "version_major": 2,
       "version_minor": 0,
       "model_id": "4f0b81ed5d324d72ba163f8bb5c6f180"
      }
     },
     "metadata": {},
     "output_type": "display_data"
    },
    {
     "name": "stdout",
     "output_type": "stream",
     "text": [
      "1/1 [==============================] - 0s 11ms/step\n",
      "1/1 [==============================] - 0s 8ms/step\n",
      "1/1 [==============================] - 0s 8ms/step\n",
      "1/1 [==============================] - 0s 9ms/step\n",
      "1/1 [==============================] - 0s 11ms/step\n"
     ]
    }
   ],
   "source": [
    "idx = 0 #choose the index between 0 and len(indexes)\n",
    "explanation = explainer.explain_instance(gray2rgb(X_test[indexes[idx]]), classifier_fn=make_prediction, num_samples=50)\n",
    "temp, mask = explanation.get_image_and_mask(y_test[indexes[idx]], num_features=10, hide_rest=False)"
   ]
  },
  {
   "cell_type": "code",
   "execution_count": 25,
   "metadata": {
    "ExecuteTime": {
     "end_time": "2023-07-03T17:57:51.166002Z",
     "start_time": "2023-07-03T17:57:50.849089Z"
    }
   },
   "outputs": [
    {
     "name": "stderr",
     "output_type": "stream",
     "text": [
      "Clipping input data to the valid range for imshow with RGB data ([0..1] for floats or [0..255] for integers).\n"
     ]
    },
    {
     "data": {
      "text/plain": "<matplotlib.image.AxesImage at 0x176965640>"
     },
     "execution_count": 25,
     "metadata": {},
     "output_type": "execute_result"
    },
    {
     "data": {
      "image/png": "[encoded data removed]",
      "text/plain": [
       "<Figure size 354.331x236.22 with 1 Axes>"
      ]
     },
     "metadata": {},
     "output_type": "display_data"
    }
   ],
   "source": [
    "marked_image = mark_boundaries(temp , mask)\n",
    "plt.title(f'test_trace_{indexes[idx]} with prediction {explained[\"Prediction\"][idx]}')\n",
    "plt.imshow(marked_image)"
   ]
  },
  {
   "cell_type": "code",
   "execution_count": 26,
   "metadata": {
    "ExecuteTime": {
     "end_time": "2023-07-03T17:57:51.518755Z",
     "start_time": "2023-07-03T17:57:51.165753Z"
    }
   },
   "outputs": [
    {
     "name": "stderr",
     "output_type": "stream",
     "text": [
      "Clipping input data to the valid range for imshow with RGB data ([0..1] for floats or [0..255] for integers).\n",
      "Clipping input data to the valid range for imshow with RGB data ([0..1] for floats or [0..255] for integers).\n"
     ]
    },
    {
     "data": {
      "text/plain": [
       "Text(0.5, 1.0, 'LIME Explanation')"
      ]
     },
     "execution_count": 26,
     "metadata": {},
     "output_type": "execute_result"
    },
    {
     "data": {
      "image/png": "[encoded data removed]",
      "text/plain": [
       "<Figure size 354.331x236.22 with 2 Axes>"
      ]
     },
     "metadata": {},
     "output_type": "display_data"
    }
   ],
   "source": [
    "plt.subplot(1,2, 1)\n",
    "plt.imshow(gray2rgb(X_test[indexes[0]]), cmap='gray')\n",
    "plt.title('Original Image')\n",
    "\n",
    "plt.subplot(1, 2, 2)\n",
    "plt.imshow(marked_image)\n",
    "plt.title('LIME Explanation')"
   ]
  },
  {
   "cell_type": "code",
   "execution_count": 27,
   "metadata": {
    "ExecuteTime": {
     "end_time": "2023-07-03T17:57:51.521874Z",
     "start_time": "2023-07-03T17:57:51.518523Z"
    }
   },
   "outputs": [],
   "source": [
    "from skimage.segmentation import mark_boundaries\n",
    "import matplotlib.pyplot as plt\n",
    "\n",
    "def plot_comparison(main_image, image, mask):\n",
    "    fig = plt.figure(figsize=(15,5))\n",
    "\n",
    "    ax = fig.add_subplot(141)\n",
    "    ax.imshow(main_image, cmap=\"gray\")\n",
    "    ax.set_title(\"Original Image\")\n",
    "    ax = fig.add_subplot(142)\n",
    "    ax.imshow(image)\n",
    "    ax.set_title(\"Image\")\n",
    "    ax = fig.add_subplot(143)\n",
    "    ax.imshow(mask)\n",
    "    ax.set_title(\"Mask\")\n",
    "    ax = fig.add_subplot(144)\n",
    "    ax.imshow(marked_image)\n",
    "    ax.set_title(\"Image+Mask Combined\")\n",
    "\n",
    "    plt.show()"
   ]
  },
  {
   "cell_type": "code",
   "execution_count": 28,
   "outputs": [
    {
     "name": "stdout",
     "output_type": "stream",
     "text": [
      "1/1 [==============================] - 0s 9ms/step\n"
     ]
    },
    {
     "data": {
      "application/vnd.jupyter.widget-view+json": {
       "model_id": "18730e9ee8b3444c9ac87e80802f8222",
       "version_major": 2,
       "version_minor": 0,
       "model_id": "5be53caf361c4333a28a94495489e418"
      }
     },
     "metadata": {},
     "output_type": "display_data"
    },
    {
     "name": "stdout",
     "output_type": "stream",
     "text": [
      "1/1 [==============================] - 0s 8ms/step\n",
      "1/1 [==============================] - 0s 13ms/step\n",
      "1/1 [==============================] - 0s 15ms/step\n",
      "1/1 [==============================] - 0s 11ms/step\n",
      "1/1 [==============================] - 0s 14ms/step\n"
     ]
    },
    {
     "name": "stderr",
     "output_type": "stream",
     "text": [
      "Clipping input data to the valid range for imshow with RGB data ([0..1] for floats or [0..255] for integers).\n"
     ]
    },
    {
     "name": "stdout",
     "output_type": "stream",
     "text": [
      "Predicted: kids talk\n",
      "Actual: kids talk\n",
      "Emotion: sad\n",
      "Emotional Intensity: normal\n",
      "Sex: M\n"
     ]
    },
    {
     "name": "stderr",
     "output_type": "stream",
     "text": [
      "Clipping input data to the valid range for imshow with RGB data ([0..1] for floats or [0..255] for integers).\n"
     ]
    },
    {
     "data": {
      "image/png": "[encoded data removed]",
      "text/plain": [
       "<Figure size 1500x500 with 4 Axes>"
      ]
     },
     "metadata": {},
     "output_type": "display_data"
    },
    {
     "name": "stdout",
     "output_type": "stream",
     "text": [
      "1/1 [==============================] - 0s 21ms/step\n"
     ]
    },
    {
     "data": {
      "application/vnd.jupyter.widget-view+json": {
       "model_id": "5088cd20a74a46a28751e446c7408012",
       "version_major": 2,
       "version_minor": 0,
       "model_id": "5f696c7385b04fa3bd7d25c26d232530"
      }
     },
     "metadata": {},
     "output_type": "display_data"
    },
    {
     "name": "stdout",
     "output_type": "stream",
     "text": [
      "1/1 [==============================] - 0s 10ms/step\n",
      "1/1 [==============================] - 0s 11ms/step\n",
      "1/1 [==============================] - 0s 11ms/step\n",
      "1/1 [==============================] - 0s 12ms/step\n",
      "1/1 [==============================] - 0s 18ms/step\n",
      "Predicted: dogs sit\n",
      "Actual: dogs sit\n",
      "Emotion: angry\n",
      "Emotional Intensity: normal\n",
      "Sex: M\n"
     ]
    },
    {
     "name": "stderr",
     "output_type": "stream",
     "text": [
      "Clipping input data to the valid range for imshow with RGB data ([0..1] for floats or [0..255] for integers).\n",
      "Clipping input data to the valid range for imshow with RGB data ([0..1] for floats or [0..255] for integers).\n"
     ]
    },
    {
     "data": {
      "image/png": "[encoded data removed]",
      "text/plain": [
       "<Figure size 1500x500 with 4 Axes>"
      ]
     },
     "metadata": {},
     "output_type": "display_data"
    },
    {
     "name": "stdout",
     "output_type": "stream",
     "text": [
      "1/1 [==============================] - 0s 18ms/step\n"
     ]
    },
    {
     "data": {
      "application/vnd.jupyter.widget-view+json": {
       "model_id": "9d498a3fddc14d639930a911b71efc72",
       "version_major": 2,
       "version_minor": 0,
       "model_id": "b15d2917719e4d65a2802b07d519876a"
      }
     },
     "metadata": {},
     "output_type": "display_data"
    },
    {
     "name": "stdout",
     "output_type": "stream",
     "text": [
      "1/1 [==============================] - 0s 21ms/step\n",
      "1/1 [==============================] - 0s 13ms/step\n",
      "1/1 [==============================] - 0s 14ms/step\n",
      "1/1 [==============================] - 0s 19ms/step\n",
      "1/1 [==============================] - 0s 23ms/step\n",
      "Predicted: dogs sit\n",
      "Actual: dogs sit\n",
      "Emotion: fearful\n",
      "Emotional Intensity: normal\n",
      "Sex: M\n"
     ]
    },
    {
     "name": "stderr",
     "output_type": "stream",
     "text": [
      "Clipping input data to the valid range for imshow with RGB data ([0..1] for floats or [0..255] for integers).\n",
      "Clipping input data to the valid range for imshow with RGB data ([0..1] for floats or [0..255] for integers).\n"
     ]
    },
    {
     "data": {
      "image/png": "[encoded data removed]",
      "text/plain": [
       "<Figure size 1500x500 with 4 Axes>"
      ]
     },
     "metadata": {},
     "output_type": "display_data"
    },
    {
     "name": "stdout",
     "output_type": "stream",
     "text": [
      "1/1 [==============================] - 0s 9ms/step\n"
     ]
    },
    {
     "data": {
      "application/vnd.jupyter.widget-view+json": {
       "model_id": "a428819831fb454bbc9051708145cedb",
       "version_major": 2,
       "version_minor": 0,
       "model_id": "02d83840313540b7b4b8e71bd2fbf299"
      }
     },
     "metadata": {},
     "output_type": "display_data"
    },
    {
     "name": "stdout",
     "output_type": "stream",
     "text": [
      "1/1 [==============================] - 0s 16ms/step\n",
      "1/1 [==============================] - 0s 17ms/step\n",
      "1/1 [==============================] - 0s 11ms/step\n",
      "1/1 [==============================] - 0s 19ms/step\n",
      "1/1 [==============================] - 0s 12ms/step\n",
      "Predicted: dogs sit\n",
      "Actual: dogs sit\n",
      "Emotion: neutral\n",
      "Emotional Intensity: normal\n",
      "Sex: F\n"
     ]
    },
    {
     "name": "stderr",
     "output_type": "stream",
     "text": [
      "Clipping input data to the valid range for imshow with RGB data ([0..1] for floats or [0..255] for integers).\n",
      "Clipping input data to the valid range for imshow with RGB data ([0..1] for floats or [0..255] for integers).\n"
     ]
    },
    {
     "data": {
      "image/png": "[encoded data removed]",
      "text/plain": [
       "<Figure size 1500x500 with 4 Axes>"
      ]
     },
     "metadata": {},
     "output_type": "display_data"
    },
    {
     "name": "stdout",
     "output_type": "stream",
     "text": [
      "1/1 [==============================] - 0s 8ms/step\n"
     ]
    },
    {
     "data": {
      "application/vnd.jupyter.widget-view+json": {
       "model_id": "8b8dff9a06fb4d009984aa28529af79f",
       "version_major": 2,
       "version_minor": 0,
       "model_id": "c69497dbe70b462e87be2032842deb6d"
      }
     },
     "metadata": {},
     "output_type": "display_data"
    },
    {
     "name": "stdout",
     "output_type": "stream",
     "text": [
      "1/1 [==============================] - 0s 9ms/step\n",
      "1/1 [==============================] - 0s 9ms/step\n",
      "1/1 [==============================] - 0s 8ms/step\n",
      "1/1 [==============================] - 0s 9ms/step\n",
      "1/1 [==============================] - 0s 9ms/step\n"
     ]
    },
    {
     "name": "stderr",
     "output_type": "stream",
     "text": [
      "Clipping input data to the valid range for imshow with RGB data ([0..1] for floats or [0..255] for integers).\n",
      "Clipping input data to the valid range for imshow with RGB data ([0..1] for floats or [0..255] for integers).\n"
     ]
    },
    {
     "name": "stdout",
     "output_type": "stream",
     "text": [
      "Predicted: dogs sit\n",
      "Actual: dogs sit\n",
      "Emotion: calm\n",
      "Emotional Intensity: normal\n",
      "Sex: F\n"
     ]
    },
    {
     "data": {
      "image/png": "[encoded data removed]",
      "text/plain": [
       "<Figure size 1500x500 with 4 Axes>"
      ]
     },
     "metadata": {},
     "output_type": "display_data"
    },
    {
     "name": "stdout",
     "output_type": "stream",
     "text": [
      "1/1 [==============================] - 0s 7ms/step\n"
     ]
    },
    {
     "data": {
      "application/vnd.jupyter.widget-view+json": {
       "model_id": "9e22c9b70ef3444885f82519f3ba978e",
       "version_major": 2,
       "version_minor": 0,
       "model_id": "898479fa15b846f0b14b7cc6a032bf35"
      }
     },
     "metadata": {},
     "output_type": "display_data"
    },
    {
     "name": "stdout",
     "output_type": "stream",
     "text": [
      "1/1 [==============================] - 0s 7ms/step\n",
      "1/1 [==============================] - 0s 8ms/step\n",
      "1/1 [==============================] - 0s 9ms/step\n",
      "1/1 [==============================] - 0s 10ms/step\n",
      "1/1 [==============================] - 0s 13ms/step\n"
     ]
    },
    {
     "name": "stderr",
     "output_type": "stream",
     "text": [
      "Clipping input data to the valid range for imshow with RGB data ([0..1] for floats or [0..255] for integers).\n",
      "Clipping input data to the valid range for imshow with RGB data ([0..1] for floats or [0..255] for integers).\n"
     ]
    },
    {
     "name": "stdout",
     "output_type": "stream",
     "text": [
      "Predicted: dogs sit\n",
      "Actual: dogs sit\n",
      "Emotion: calm\n",
      "Emotional Intensity: strong\n",
      "Sex: F\n"
     ]
    },
    {
     "data": {
      "text/plain": "<Figure size 1500x500 with 4 Axes>",
      "image/png": "[encoded data removed]"
     },
     "metadata": {},
     "output_type": "display_data"
    },
    {
     "name": "stdout",
     "output_type": "stream",
     "text": [
      "1/1 [==============================] - 0s 7ms/step\n"
     ]
    },
    {
     "data": {
      "application/vnd.jupyter.widget-view+json": {
       "model_id": "744b798a1e6a43a8b80563ff5fc60ad5",
       "version_major": 2,
       "version_minor": 0,
       "model_id": "347a1be5d969482f9d92bb69f78de0d3"
      }
     },
     "metadata": {},
     "output_type": "display_data"
    },
    {
     "name": "stdout",
     "output_type": "stream",
     "text": [
      "1/1 [==============================] - 0s 8ms/step\n",
      "1/1 [==============================] - 0s 8ms/step\n",
      "1/1 [==============================] - 0s 8ms/step\n",
      "1/1 [==============================] - 0s 9ms/step\n",
      "1/1 [==============================] - 0s 11ms/step\n"
     ]
    },
    {
     "name": "stderr",
     "output_type": "stream",
     "text": [
      "Clipping input data to the valid range for imshow with RGB data ([0..1] for floats or [0..255] for integers).\n",
      "Clipping input data to the valid range for imshow with RGB data ([0..1] for floats or [0..255] for integers).\n"
     ]
    },
    {
     "name": "stdout",
     "output_type": "stream",
     "text": [
      "Predicted: kids talk\n",
      "Actual: kids talk\n",
      "Emotion: happy\n",
      "Emotional Intensity: strong\n",
      "Sex: F\n"
     ]
    },
    {
     "data": {
      "text/plain": "<Figure size 1500x500 with 4 Axes>",
      "image/png": "[encoded data removed]"
     },
     "metadata": {},
     "output_type": "display_data"
    },
    {
     "name": "stdout",
     "output_type": "stream",
     "text": [
      "1/1 [==============================] - 0s 9ms/step\n"
     ]
    },
    {
     "data": {
      "text/plain": "  0%|          | 0/50 [00:00<?, ?it/s]",
      "application/vnd.jupyter.widget-view+json": {
       "version_major": 2,
       "version_minor": 0,
       "model_id": "798ca2f14221450980974c23a78ffa5d"
      }
     },
     "metadata": {},
     "output_type": "display_data"
    },
    {
     "name": "stdout",
     "output_type": "stream",
     "text": [
      "1/1 [==============================] - 0s 8ms/step\n",
      "1/1 [==============================] - 0s 7ms/step\n",
      "1/1 [==============================] - 0s 8ms/step\n",
      "1/1 [==============================] - 0s 12ms/step\n",
      "1/1 [==============================] - 0s 9ms/step\n"
     ]
    },
    {
     "name": "stderr",
     "output_type": "stream",
     "text": [
      "Clipping input data to the valid range for imshow with RGB data ([0..1] for floats or [0..255] for integers).\n",
      "Clipping input data to the valid range for imshow with RGB data ([0..1] for floats or [0..255] for integers).\n"
     ]
    },
    {
     "name": "stdout",
     "output_type": "stream",
     "text": [
      "Predicted: kids talk\n",
      "Actual: dogs sit\n",
      "Emotion: angry\n",
      "Emotional Intensity: strong\n",
      "Sex: F\n"
     ]
    },
    {
     "data": {
      "text/plain": "<Figure size 1500x500 with 4 Axes>",
      "image/png": "[encoded data removed]"
     },
     "metadata": {},
     "output_type": "display_data"
    },
    {
     "name": "stdout",
     "output_type": "stream",
     "text": [
      "1/1 [==============================] - 0s 8ms/step\n"
     ]
    },
    {
     "data": {
      "text/plain": "  0%|          | 0/50 [00:00<?, ?it/s]",
      "application/vnd.jupyter.widget-view+json": {
       "version_major": 2,
       "version_minor": 0,
       "model_id": "8b3f4cce8512403c94728d80f03f3f90"
      }
     },
     "metadata": {},
     "output_type": "display_data"
    },
    {
     "name": "stdout",
     "output_type": "stream",
     "text": [
      "1/1 [==============================] - 0s 13ms/step\n",
      "1/1 [==============================] - 0s 15ms/step\n",
      "1/1 [==============================] - 0s 21ms/step\n",
      "1/1 [==============================] - 0s 25ms/step\n",
      "1/1 [==============================] - 0s 13ms/step\n",
      "Predicted: kids talk\n",
      "Actual: kids talk\n",
      "Emotion: fearful\n",
      "Emotional Intensity: normal\n",
      "Sex: F\n"
     ]
    },
    {
     "name": "stderr",
     "output_type": "stream",
     "text": [
      "Clipping input data to the valid range for imshow with RGB data ([0..1] for floats or [0..255] for integers).\n",
      "Clipping input data to the valid range for imshow with RGB data ([0..1] for floats or [0..255] for integers).\n"
     ]
    },
    {
     "data": {
      "text/plain": "<Figure size 1500x500 with 4 Axes>",
      "image/png": "[encoded data removed]"
     },
     "metadata": {},
     "output_type": "display_data"
    },
    {
     "name": "stdout",
     "output_type": "stream",
     "text": [
      "1/1 [==============================] - 0s 9ms/step\n"
     ]
    },
    {
     "data": {
      "text/plain": "  0%|          | 0/50 [00:00<?, ?it/s]",
      "application/vnd.jupyter.widget-view+json": {
       "version_major": 2,
       "version_minor": 0,
       "model_id": "35dfa06f78354ea2b461c715c8dce1ed"
      }
     },
     "metadata": {},
     "output_type": "display_data"
    },
    {
     "name": "stdout",
     "output_type": "stream",
     "text": [
      "1/1 [==============================] - 0s 9ms/step\n",
      "1/1 [==============================] - 0s 9ms/step\n",
      "1/1 [==============================] - 0s 8ms/step\n",
      "1/1 [==============================] - 0s 15ms/step\n",
      "1/1 [==============================] - 0s 15ms/step\n"
     ]
    },
    {
     "name": "stderr",
     "output_type": "stream",
     "text": [
      "Clipping input data to the valid range for imshow with RGB data ([0..1] for floats or [0..255] for integers).\n",
      "Clipping input data to the valid range for imshow with RGB data ([0..1] for floats or [0..255] for integers).\n"
     ]
    },
    {
     "name": "stdout",
     "output_type": "stream",
     "text": [
      "Predicted: dogs sit\n",
      "Actual: dogs sit\n",
      "Emotion: fearful\n",
      "Emotional Intensity: strong\n",
      "Sex: F\n"
     ]
    },
    {
     "data": {
      "image/png": "[encoded data removed]",
      "text/plain": [
       "<Figure size 1500x500 with 4 Axes>"
      ]
     },
     "metadata": {},
     "output_type": "display_data"
    }
   ],
   "source": [
    "for i in indexes:\n",
    "    pred = np.argmax(cnn.predict(X_test[i].reshape(-1, 27, 27)))\n",
    "\n",
    "    explanation = explainer.explain_instance(gray2rgb(X_test[i]), classifier_fn=make_prediction, num_samples=50)\n",
    "    temp, mask = explanation.get_image_and_mask(pred, num_features=10, hide_rest=False)\n",
    "    marked_image = mark_boundaries(temp , mask)\n",
    "\n",
    "    pred_statement = 'dogs sit' if pred == 0 else 'kids talk'\n",
    "    actual_statement = 'dogs sit' if y_test[i] == 0 else 'kids talk'\n",
    "\n",
    "    print(f'Predicted: {pred_statement}')\n",
    "    print(f'Actual: {actual_statement}')\n",
    "    print(f'Emotion: {df[\"emotion\"][i + len(X_train)]}')\n",
    "    print(f'Emotional Intensity: {df[\"emotional_intensity\"][i + len(X_train)]}')\n",
    "    print(f'Sex: {df[\"sex\"][i + len(X_train)]}')\n",
    "\n",
    "    plot_comparison(X_test[i], gray2rgb(X_test[i]), mask)"
   ],
   "metadata": {
    "collapsed": false,
    "ExecuteTime": {
     "end_time": "2023-07-03T17:58:00.006317Z",
     "start_time": "2023-07-03T17:57:51.526979Z"
    }
   }
  },
  {
   "cell_type": "code",
   "execution_count": 28,
   "metadata": {
    "ExecuteTime": {
     "end_time": "2023-07-03T17:58:00.009671Z",
     "start_time": "2023-07-03T17:58:00.007115Z"
    }
   },
   "outputs": [],
   "source": []
  }
 ],
 "metadata": {
  "kernelspec": {
   "display_name": "Python 3 (ipykernel)",
   "language": "python",
   "name": "python3"
  },
  "language_info": {
   "codemirror_mode": {
    "name": "ipython",
    "version": 3
   },
   "file_extension": ".py",
   "mimetype": "text/x-python",
   "name": "python",
   "nbconvert_exporter": "python",
   "pygments_lexer": "ipython3",
   "version": "3.10.6"
  }
 },
 "nbformat": 4,
 "nbformat_minor": 1
}
