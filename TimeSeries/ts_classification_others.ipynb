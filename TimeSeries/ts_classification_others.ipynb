{
 "cells": [
  {
   "cell_type": "code",
   "execution_count": 1,
   "metadata": {
    "ExecuteTime": {
     "end_time": "2023-06-27T17:44:30.280685Z",
     "start_time": "2023-06-27T17:44:30.278746Z"
    }
   },
   "outputs": [],
   "source": [
    "import os\n",
    "import numpy as np\n",
    "import pandas as pd\n",
    "import matplotlib.pyplot as plt\n",
    "import seaborn as sns; sns.set()\n",
    "\n",
    "import sys\n",
    "sys.path.append('../')\n",
    "import default_style"
   ]
  },
  {
   "cell_type": "code",
   "execution_count": 2,
   "metadata": {
    "ExecuteTime": {
     "end_time": "2023-06-27T17:44:30.285292Z",
     "start_time": "2023-06-27T17:44:30.283703Z"
    }
   },
   "outputs": [],
   "source": [
    "TS_DATASET_FOLDER = os.path.join('..', 'dataset')\n",
    "TS_PREPROC_FOLDER = os.path.join(TS_DATASET_FOLDER, 'preprocessed_traces')\n",
    "DF_PREPROC_FILE = os.path.join(TS_PREPROC_FOLDER, 'preproc_ts.df')\n",
    "\n",
    "TARGET = 'statement'\n",
    "TRACES = 'syllables_02_STFT'"
   ]
  },
  {
   "cell_type": "code",
   "execution_count": 3,
   "metadata": {
    "ExecuteTime": {
     "end_time": "2023-06-27T17:44:30.310644Z",
     "start_time": "2023-06-27T17:44:30.286112Z"
    }
   },
   "outputs": [
    {
     "data": {
      "text/plain": "  vocal_channel  emotion emotional_intensity statement repetition     actor  \\\n0        speech  neutral              normal      kids        1st  actor_01   \n1        speech  neutral              normal      kids        2nd  actor_01   \n2        speech  neutral              normal      dogs        1st  actor_01   \n3        speech  neutral              normal      dogs        2nd  actor_01   \n4        speech     calm              normal      kids        1st  actor_01   \n\n                                                path sex   begin_s     end_s  \\\n0  ../dataset/Audio_Speech_Actors_01-24/Actor_01/...   M  1.009833  2.252000   \n1  ../dataset/Audio_Speech_Actors_01-24/Actor_01/...   M  1.068500  2.294667   \n2  ../dataset/Audio_Speech_Actors_01-24/Actor_01/...   M  1.012000  2.238500   \n3  ../dataset/Audio_Speech_Actors_01-24/Actor_01/...   M  1.008833  2.187167   \n4  ../dataset/Audio_Speech_Actors_01-24/Actor_01/...   M  1.023667  2.534167   \n\n   ...                            filtered_fourier_coeffs syll_0_start_index  \\\n0  ...  [1.9371510e-07 1.2311473e-02 1.1168692e-02 ......                  0   \n1  ...  [3.5017729e-07 2.6198970e-02 2.5683273e-02 ......                  0   \n2  ...  [2.49594450e-07 1.23483688e-02 1.06786685e-02 ...                  0   \n3  ...  [1.1920929e-07 1.2154780e-02 1.6620707e-02 ......                  0   \n4  ...  [1.1920929e-07 2.0026902e-03 7.9688808e-04 ......                  0   \n\n   syll_1_start_index  syll_2_start_index  syll_3_start_index  \\\n0                1128                2240                3200   \n1                2008                3208                3880   \n2                2816                3352                3912   \n3                1664                2664                3208   \n4                2088                3584                4832   \n\n   syll_4_start_index  syll_5_start_index  syll_6_start_index  \\\n0                4304                5208                5808   \n1                4224                5112                5800   \n2                4296                5232                5880   \n3                3672                4840                5448   \n4                5800                6944                7560   \n\n   syll_7_start_index  actor_number  \n0                7448             1  \n1                7352             1  \n2                7352             1  \n3                7064             1  \n4                9056             1  \n\n[5 rows x 21 columns]",
      "text/html": "<div>\n<style scoped>\n    .dataframe tbody tr th:only-of-type {\n        vertical-align: middle;\n    }\n\n    .dataframe tbody tr th {\n        vertical-align: top;\n    }\n\n    .dataframe thead th {\n        text-align: right;\n    }\n</style>\n<table border=\"1\" class=\"dataframe\">\n  <thead>\n    <tr style=\"text-align: right;\">\n      <th></th>\n      <th>vocal_channel</th>\n      <th>emotion</th>\n      <th>emotional_intensity</th>\n      <th>statement</th>\n      <th>repetition</th>\n      <th>actor</th>\n      <th>path</th>\n      <th>sex</th>\n      <th>begin_s</th>\n      <th>end_s</th>\n      <th>...</th>\n      <th>filtered_fourier_coeffs</th>\n      <th>syll_0_start_index</th>\n      <th>syll_1_start_index</th>\n      <th>syll_2_start_index</th>\n      <th>syll_3_start_index</th>\n      <th>syll_4_start_index</th>\n      <th>syll_5_start_index</th>\n      <th>syll_6_start_index</th>\n      <th>syll_7_start_index</th>\n      <th>actor_number</th>\n    </tr>\n  </thead>\n  <tbody>\n    <tr>\n      <th>0</th>\n      <td>speech</td>\n      <td>neutral</td>\n      <td>normal</td>\n      <td>kids</td>\n      <td>1st</td>\n      <td>actor_01</td>\n      <td>../dataset/Audio_Speech_Actors_01-24/Actor_01/...</td>\n      <td>M</td>\n      <td>1.009833</td>\n      <td>2.252000</td>\n      <td>...</td>\n      <td>[1.9371510e-07 1.2311473e-02 1.1168692e-02 ......</td>\n      <td>0</td>\n      <td>1128</td>\n      <td>2240</td>\n      <td>3200</td>\n      <td>4304</td>\n      <td>5208</td>\n      <td>5808</td>\n      <td>7448</td>\n      <td>1</td>\n    </tr>\n    <tr>\n      <th>1</th>\n      <td>speech</td>\n      <td>neutral</td>\n      <td>normal</td>\n      <td>kids</td>\n      <td>2nd</td>\n      <td>actor_01</td>\n      <td>../dataset/Audio_Speech_Actors_01-24/Actor_01/...</td>\n      <td>M</td>\n      <td>1.068500</td>\n      <td>2.294667</td>\n      <td>...</td>\n      <td>[3.5017729e-07 2.6198970e-02 2.5683273e-02 ......</td>\n      <td>0</td>\n      <td>2008</td>\n      <td>3208</td>\n      <td>3880</td>\n      <td>4224</td>\n      <td>5112</td>\n      <td>5800</td>\n      <td>7352</td>\n      <td>1</td>\n    </tr>\n    <tr>\n      <th>2</th>\n      <td>speech</td>\n      <td>neutral</td>\n      <td>normal</td>\n      <td>dogs</td>\n      <td>1st</td>\n      <td>actor_01</td>\n      <td>../dataset/Audio_Speech_Actors_01-24/Actor_01/...</td>\n      <td>M</td>\n      <td>1.012000</td>\n      <td>2.238500</td>\n      <td>...</td>\n      <td>[2.49594450e-07 1.23483688e-02 1.06786685e-02 ...</td>\n      <td>0</td>\n      <td>2816</td>\n      <td>3352</td>\n      <td>3912</td>\n      <td>4296</td>\n      <td>5232</td>\n      <td>5880</td>\n      <td>7352</td>\n      <td>1</td>\n    </tr>\n    <tr>\n      <th>3</th>\n      <td>speech</td>\n      <td>neutral</td>\n      <td>normal</td>\n      <td>dogs</td>\n      <td>2nd</td>\n      <td>actor_01</td>\n      <td>../dataset/Audio_Speech_Actors_01-24/Actor_01/...</td>\n      <td>M</td>\n      <td>1.008833</td>\n      <td>2.187167</td>\n      <td>...</td>\n      <td>[1.1920929e-07 1.2154780e-02 1.6620707e-02 ......</td>\n      <td>0</td>\n      <td>1664</td>\n      <td>2664</td>\n      <td>3208</td>\n      <td>3672</td>\n      <td>4840</td>\n      <td>5448</td>\n      <td>7064</td>\n      <td>1</td>\n    </tr>\n    <tr>\n      <th>4</th>\n      <td>speech</td>\n      <td>calm</td>\n      <td>normal</td>\n      <td>kids</td>\n      <td>1st</td>\n      <td>actor_01</td>\n      <td>../dataset/Audio_Speech_Actors_01-24/Actor_01/...</td>\n      <td>M</td>\n      <td>1.023667</td>\n      <td>2.534167</td>\n      <td>...</td>\n      <td>[1.1920929e-07 2.0026902e-03 7.9688808e-04 ......</td>\n      <td>0</td>\n      <td>2088</td>\n      <td>3584</td>\n      <td>4832</td>\n      <td>5800</td>\n      <td>6944</td>\n      <td>7560</td>\n      <td>9056</td>\n      <td>1</td>\n    </tr>\n  </tbody>\n</table>\n<p>5 rows × 21 columns</p>\n</div>"
     },
     "execution_count": 3,
     "metadata": {},
     "output_type": "execute_result"
    }
   ],
   "source": [
    "df = pd.read_csv(DF_PREPROC_FILE).drop(columns=['Unnamed: 0'])\n",
    "df[\"actor_number\"] = df.actor.apply(lambda x: int(x.split(\"_\")[1]))\n",
    "df.head()"
   ]
  },
  {
   "cell_type": "code",
   "execution_count": 4,
   "metadata": {
    "ExecuteTime": {
     "end_time": "2023-06-27T17:44:30.318794Z",
     "start_time": "2023-06-27T17:44:30.305650Z"
    }
   },
   "outputs": [],
   "source": [
    "traces_dict = {}\n",
    "files = os.listdir(TS_PREPROC_FOLDER)\n",
    "\n",
    "# SORRY PAOLINO BUT I HAVE A CHICCO PC AND I CANNOT LOAD IT ALL\n",
    "\n",
    "# for file in files:\n",
    "\n",
    "#     if file.endswith('.npy'):\n",
    "#         file_path = os.path.join(TS_PREPROC_FOLDER, file)\n",
    "#         # dictionary keys are the file names\n",
    "#         key = os.path.splitext(file)[0]\n",
    "#         # load array\n",
    "#         traces_dict[key] = np.load(file_path, allow_pickle=True)\n",
    "\n",
    "# traces_dict.keys()\n",
    "\n",
    "file_path = os.path.join(TS_PREPROC_FOLDER, f\"{TRACES}.npy\")\n",
    "traces_dict[TRACES] = np.load(file_path, allow_pickle=True)\n"
   ]
  },
  {
   "cell_type": "code",
   "execution_count": 5,
   "metadata": {
    "ExecuteTime": {
     "end_time": "2023-06-27T17:44:30.319205Z",
     "start_time": "2023-06-27T17:44:30.313563Z"
    }
   },
   "outputs": [
    {
     "data": {
      "text/plain": "(2452, 27, 27)"
     },
     "execution_count": 5,
     "metadata": {},
     "output_type": "execute_result"
    }
   ],
   "source": [
    "traces = traces_dict[TRACES]\n",
    "traces.shape"
   ]
  },
  {
   "cell_type": "code",
   "execution_count": 6,
   "metadata": {
    "ExecuteTime": {
     "end_time": "2023-06-27T17:44:30.475150Z",
     "start_time": "2023-06-27T17:44:30.316852Z"
    }
   },
   "outputs": [
    {
     "data": {
      "text/plain": "<Figure size 354.331x236.22 with 1 Axes>",
      "image/png": "[encoded data removed]"
     },
     "metadata": {},
     "output_type": "display_data"
    }
   ],
   "source": [
    "index = 0\n",
    "statement = df['statement'][index]\n",
    "plt.plot(traces[index])\n",
    "plt.title(f'Time series at row #{index}, statement: {statement}')\n",
    "plt.show()"
   ]
  },
  {
   "cell_type": "code",
   "execution_count": 7,
   "metadata": {
    "ExecuteTime": {
     "end_time": "2023-06-27T17:44:30.587099Z",
     "start_time": "2023-06-27T17:44:30.478437Z"
    }
   },
   "outputs": [
    {
     "name": "stderr",
     "output_type": "stream",
     "text": [
      "/Users/paolomollica/.local/share/virtualenvs/DM2-RcLdGQSz/lib/python3.10/site-packages/IPython/core/events.py:93: UserWarning: This figure includes Axes that are not compatible with tight_layout, so results might be incorrect.\n",
      "  func(*args, **kwargs)\n",
      "/Users/paolomollica/.local/share/virtualenvs/DM2-RcLdGQSz/lib/python3.10/site-packages/IPython/core/pylabtools.py:152: UserWarning: This figure includes Axes that are not compatible with tight_layout, so results might be incorrect.\n",
      "  fig.canvas.print_figure(bytes_io, **kw)\n"
     ]
    },
    {
     "data": {
      "text/plain": "<Figure size 400x400 with 1 Axes>",
      "image/png": "[encoded data removed]"
     },
     "metadata": {},
     "output_type": "display_data"
    }
   ],
   "source": [
    "plt.matshow(traces[index]);plt.grid(ls=\"\")\n",
    "plt.title(\"axis 0 is time, axis 1 is freq\");"
   ]
  },
  {
   "cell_type": "markdown",
   "metadata": {},
   "source": [
    "# CNN for statement and syllables 0&2"
   ]
  },
  {
   "cell_type": "code",
   "execution_count": 8,
   "outputs": [
    {
     "data": {
      "text/plain": "array([[[ -1.10747149,  -0.97617703,  -0.60846052, ...,  -2.96828048,\n          -4.09263893,  -4.62753109],\n        [ -1.71513247,   0.27687076,   0.50267377, ...,  -4.63013794,\n          -5.74555753,  -5.37554136],\n        [ -3.57340298,  -0.77249375,  -1.28029229, ...,  -4.52111422,\n          -2.9441364 ,  -4.39698024],\n        ...,\n        [ -5.19948408,   3.44166846,   3.29583055, ...,  -7.35062662,\n          -6.82925689,  -6.70243275],\n        [ -1.51982871,   1.09495341,   1.92227177, ...,  -6.21119579,\n          -5.87432141,  -5.96493419],\n        [  0.80618236,   2.44447952,   1.60928003, ...,  -4.34356478,\n          -4.79592291,  -5.21560531]],\n\n       [[ -1.79580597,   5.33930592,   4.28180894, ...,  -2.1412618 ,\n          -2.79822912,  -3.28907853],\n        [ -2.82856474,   5.46358596,   4.79957268, ...,  -0.32784125,\n          -1.25164982,  -1.94051521],\n        [ -3.07690379,   5.81201582,   5.85955333, ...,  -0.20043023,\n          -0.61282373,  -0.62059929],\n        ...,\n        [ -2.5905266 ,   0.6642727 ,   5.29763781, ...,  -1.76593772,\n          -2.96458804,  -3.60217123],\n        [ -0.83862601,  -1.59788889,   7.10513399, ...,   0.77068857,\n          -2.75967432,  -2.73758705],\n        [ -0.55722699,  -1.40814169,   7.39847115, ...,   0.34354172,\n          -3.44429902,  -0.47901775]],\n\n       [[ -1.97754096,   5.52384305,   3.51758228, ...,  -2.99589471,\n          -2.93409045,  -2.56112371],\n        [ -0.77235369,   5.63066975,   3.1344957 , ...,  -4.41597794,\n          -2.87144573,  -2.3419355 ],\n        [ -1.9121593 ,   5.74466044,   3.78607812, ...,  -4.10273607,\n          -4.81166933,  -3.6127424 ],\n        ...,\n        [ -0.39074116,  -0.47172738,   8.0465754 , ...,  -3.46615921,\n           0.30838231,  -3.93676242],\n        [ -1.57573441,  -2.731317  ,   7.7384918 , ...,  -4.68506616,\n          -0.96026278,  -3.81593228],\n        [ -2.01231593,  -2.63370618,   7.82919211, ...,  -4.05679157,\n          -2.86458591,  -4.32311407]],\n\n       ...,\n\n       [[ -5.56474453,  -3.30120809,  -1.08046398, ...,  -5.36263543,\n          -6.60300105,  -5.91912696],\n        [ -5.27748901,  -1.54879286,  -0.20955977, ...,  -6.86149253,\n          -7.06696185,  -7.22662838],\n        [ -5.23818165,  -3.18097314,  -3.05627942, ...,  -9.91046714,\n          -9.3178722 ,  -9.49512236],\n        ...,\n        [ -3.85399309,   0.50199892,   1.702858  , ...,  -4.64314865,\n          -4.45158081,  -4.00661078],\n        [ -2.73981612,  -1.07923636,  -0.61584219, ...,  -2.54775528,\n          -3.46529607,  -4.82622624],\n        [ -4.87090856,  -2.99318517,  -2.49710067, ...,  -5.61251899,\n          -5.93543594,  -5.97002914]],\n\n       [[ -0.66080254,  -1.67073212,  -2.00745259, ...,  -2.7761397 ,\n          -3.11389397,  -1.82544622],\n        [ -2.34678931,  -3.08545069,  -1.34400205, ...,  -1.56058927,\n           2.44131783,   0.03823018],\n        [ -2.44894886,  -4.1696559 ,  -2.46057703, ...,  -4.49629626,\n           2.94622934,   0.79678184],\n        ...,\n        [ -1.6415216 ,  -1.89897908,   6.63625578, ...,  -6.14307541,\n          -3.1008337 ,  -4.52455023],\n        [ -2.56619768,  -0.34357798,   6.77740801, ...,  -5.86021914,\n          -5.65809248,  -5.61783612],\n        [ -3.11282437,  -1.26050989,   3.4784246 , ...,  -8.08000884,\n          -7.19155975,  -8.25678659]],\n\n       [[ -5.95480123,  -0.2329736 ,  -2.37086322, ...,  -1.14616754,\n          -1.62493855,  -2.22941709],\n        [ -2.23999997,  -0.96484276,  -1.95191588, ...,  -0.49227558,\n          -3.00012516,   0.52924986],\n        [ -2.10557845,  -6.28597494,  -2.64692436, ...,   0.06832215,\n           1.23908641,   2.24475822],\n        ...,\n        [ -2.79277041,  -3.71150328,  -2.2037901 , ...,  -4.3220988 ,\n          -5.09082031,  -4.46620636],\n        [ -1.75803929,  -0.86283232,  -2.7805739 , ...,  -7.92957822,\n          -6.77331009,  -4.41434306],\n        [-10.40276479,  -1.76181143,  -2.28401353, ...,  -6.6348886 ,\n          -5.25859892,  -6.20374485]]])"
     },
     "execution_count": 8,
     "metadata": {},
     "output_type": "execute_result"
    }
   ],
   "source": [
    "sorted_indices = df['actor'].argsort()\n",
    "df = df.iloc[sorted_indices].reset_index(drop=True)\n",
    "\n",
    "traces = traces[sorted_indices]\n",
    "\n",
    "traces"
   ],
   "metadata": {
    "collapsed": false,
    "ExecuteTime": {
     "end_time": "2023-06-27T17:44:30.599111Z",
     "start_time": "2023-06-27T17:44:30.588914Z"
    }
   }
  },
  {
   "cell_type": "code",
   "execution_count": 9,
   "metadata": {
    "scrolled": true,
    "ExecuteTime": {
     "end_time": "2023-06-27T17:44:30.748914Z",
     "start_time": "2023-06-27T17:44:30.600447Z"
    }
   },
   "outputs": [],
   "source": [
    "from sklearn.model_selection import train_test_split\n",
    "\n",
    "# Sets tests to be over actor 19 (excluded)\n",
    "X_test = traces[df.actor_number > 19]\n",
    "y_test = df[TARGET][df.actor_number > 19].to_numpy()\n",
    "\n",
    "# Sets the train and validation inside actors < 19\n",
    "X_train, X_val, y_train, y_val = train_test_split(  traces[df.actor_number <= 19], \n",
    "                                                    df[TARGET][df.actor_number <= 19].to_numpy(), \n",
    "                                                    test_size=0.2, random_state=100)\n",
    "\n",
    "X_train.shape, X_val.shape, X_test.shape, y_train.shape, y_val.shape, y_test.shape\n",
    "\n",
    "\n",
    "from sklearn.preprocessing import LabelEncoder\n",
    "label_encoder = LabelEncoder()\n",
    "\n",
    "y_train = label_encoder.fit_transform(y_train)\n",
    "y_val = label_encoder.transform(y_val)\n",
    "y_test = label_encoder.transform(y_test)"
   ]
  },
  {
   "cell_type": "code",
   "execution_count": 10,
   "metadata": {
    "ExecuteTime": {
     "end_time": "2023-06-27T17:44:32.550362Z",
     "start_time": "2023-06-27T17:44:30.753239Z"
    }
   },
   "outputs": [
    {
     "name": "stdout",
     "output_type": "stream",
     "text": [
      "Requirement already satisfied: tensorflow in /Users/paolomollica/Desktop/DM2/venv/lib/python3.9/site-packages (2.13.0rc1)\r\n",
      "Requirement already satisfied: tensorflow-macos==2.13.0-rc1 in /Users/paolomollica/Desktop/DM2/venv/lib/python3.9/site-packages (from tensorflow) (2.13.0rc1)\r\n",
      "Requirement already satisfied: absl-py>=1.0.0 in /Users/paolomollica/Desktop/DM2/venv/lib/python3.9/site-packages (from tensorflow-macos==2.13.0-rc1->tensorflow) (1.4.0)\r\n",
      "Requirement already satisfied: astunparse>=1.6.0 in /Users/paolomollica/Desktop/DM2/venv/lib/python3.9/site-packages (from tensorflow-macos==2.13.0-rc1->tensorflow) (1.6.3)\r\n",
      "Requirement already satisfied: flatbuffers>=23.1.21 in /Users/paolomollica/Desktop/DM2/venv/lib/python3.9/site-packages (from tensorflow-macos==2.13.0-rc1->tensorflow) (23.5.26)\r\n",
      "Requirement already satisfied: gast<=0.4.0,>=0.2.1 in /Users/paolomollica/Desktop/DM2/venv/lib/python3.9/site-packages (from tensorflow-macos==2.13.0-rc1->tensorflow) (0.4.0)\r\n",
      "Requirement already satisfied: google-pasta>=0.1.1 in /Users/paolomollica/Desktop/DM2/venv/lib/python3.9/site-packages (from tensorflow-macos==2.13.0-rc1->tensorflow) (0.2.0)\r\n",
      "Requirement already satisfied: h5py>=2.9.0 in /Users/paolomollica/Desktop/DM2/venv/lib/python3.9/site-packages (from tensorflow-macos==2.13.0-rc1->tensorflow) (3.8.0)\r\n",
      "Requirement already satisfied: libclang>=13.0.0 in /Users/paolomollica/Desktop/DM2/venv/lib/python3.9/site-packages (from tensorflow-macos==2.13.0-rc1->tensorflow) (16.0.0)\r\n",
      "Requirement already satisfied: numpy>=1.22 in /Users/paolomollica/Desktop/DM2/venv/lib/python3.9/site-packages (from tensorflow-macos==2.13.0-rc1->tensorflow) (1.24.3)\r\n",
      "Requirement already satisfied: opt-einsum>=2.3.2 in /Users/paolomollica/Desktop/DM2/venv/lib/python3.9/site-packages (from tensorflow-macos==2.13.0-rc1->tensorflow) (3.3.0)\r\n",
      "Requirement already satisfied: packaging in /Users/paolomollica/Desktop/DM2/venv/lib/python3.9/site-packages (from tensorflow-macos==2.13.0-rc1->tensorflow) (23.1)\r\n",
      "Requirement already satisfied: protobuf!=4.21.0,!=4.21.1,!=4.21.2,!=4.21.3,!=4.21.4,!=4.21.5,<5.0.0dev,>=3.20.3 in /Users/paolomollica/Desktop/DM2/venv/lib/python3.9/site-packages (from tensorflow-macos==2.13.0-rc1->tensorflow) (4.23.2)\r\n",
      "Requirement already satisfied: setuptools in /Users/paolomollica/Desktop/DM2/venv/lib/python3.9/site-packages (from tensorflow-macos==2.13.0-rc1->tensorflow) (65.5.1)\r\n",
      "Requirement already satisfied: six>=1.12.0 in /Users/paolomollica/Desktop/DM2/venv/lib/python3.9/site-packages (from tensorflow-macos==2.13.0-rc1->tensorflow) (1.16.0)\r\n",
      "Requirement already satisfied: termcolor>=1.1.0 in /Users/paolomollica/Desktop/DM2/venv/lib/python3.9/site-packages (from tensorflow-macos==2.13.0-rc1->tensorflow) (2.3.0)\r\n",
      "Requirement already satisfied: typing-extensions>=3.6.6 in /Users/paolomollica/Desktop/DM2/venv/lib/python3.9/site-packages (from tensorflow-macos==2.13.0-rc1->tensorflow) (4.5.0)\r\n",
      "Requirement already satisfied: wrapt>=1.11.0 in /Users/paolomollica/Desktop/DM2/venv/lib/python3.9/site-packages (from tensorflow-macos==2.13.0-rc1->tensorflow) (1.15.0)\r\n",
      "Requirement already satisfied: grpcio<2.0,>=1.24.3 in /Users/paolomollica/Desktop/DM2/venv/lib/python3.9/site-packages (from tensorflow-macos==2.13.0-rc1->tensorflow) (1.54.2)\r\n",
      "Requirement already satisfied: tensorboard<2.14,>=2.13 in /Users/paolomollica/Desktop/DM2/venv/lib/python3.9/site-packages (from tensorflow-macos==2.13.0-rc1->tensorflow) (2.13.0)\r\n",
      "Requirement already satisfied: tensorflow-estimator<2.14,>=2.13.0rc0 in /Users/paolomollica/Desktop/DM2/venv/lib/python3.9/site-packages (from tensorflow-macos==2.13.0-rc1->tensorflow) (2.13.0rc0)\r\n",
      "Requirement already satisfied: keras<2.14,>=2.13.1rc0 in /Users/paolomollica/Desktop/DM2/venv/lib/python3.9/site-packages (from tensorflow-macos==2.13.0-rc1->tensorflow) (2.13.1rc0)\r\n",
      "Requirement already satisfied: wheel<1.0,>=0.23.0 in /Users/paolomollica/Desktop/DM2/venv/lib/python3.9/site-packages (from astunparse>=1.6.0->tensorflow-macos==2.13.0-rc1->tensorflow) (0.38.4)\r\n",
      "Requirement already satisfied: google-auth<3,>=1.6.3 in /Users/paolomollica/Desktop/DM2/venv/lib/python3.9/site-packages (from tensorboard<2.14,>=2.13->tensorflow-macos==2.13.0-rc1->tensorflow) (2.19.1)\r\n",
      "Requirement already satisfied: google-auth-oauthlib<1.1,>=0.5 in /Users/paolomollica/Desktop/DM2/venv/lib/python3.9/site-packages (from tensorboard<2.14,>=2.13->tensorflow-macos==2.13.0-rc1->tensorflow) (1.0.0)\r\n",
      "Requirement already satisfied: markdown>=2.6.8 in /Users/paolomollica/Desktop/DM2/venv/lib/python3.9/site-packages (from tensorboard<2.14,>=2.13->tensorflow-macos==2.13.0-rc1->tensorflow) (3.4.3)\r\n",
      "Requirement already satisfied: requests<3,>=2.21.0 in /Users/paolomollica/Desktop/DM2/venv/lib/python3.9/site-packages (from tensorboard<2.14,>=2.13->tensorflow-macos==2.13.0-rc1->tensorflow) (2.30.0)\r\n",
      "Requirement already satisfied: tensorboard-data-server<0.8.0,>=0.7.0 in /Users/paolomollica/Desktop/DM2/venv/lib/python3.9/site-packages (from tensorboard<2.14,>=2.13->tensorflow-macos==2.13.0-rc1->tensorflow) (0.7.0)\r\n",
      "Requirement already satisfied: werkzeug>=1.0.1 in /Users/paolomollica/Desktop/DM2/venv/lib/python3.9/site-packages (from tensorboard<2.14,>=2.13->tensorflow-macos==2.13.0-rc1->tensorflow) (2.3.4)\r\n",
      "Requirement already satisfied: cachetools<6.0,>=2.0.0 in /Users/paolomollica/Desktop/DM2/venv/lib/python3.9/site-packages (from google-auth<3,>=1.6.3->tensorboard<2.14,>=2.13->tensorflow-macos==2.13.0-rc1->tensorflow) (5.3.1)\r\n",
      "Requirement already satisfied: pyasn1-modules>=0.2.1 in /Users/paolomollica/Desktop/DM2/venv/lib/python3.9/site-packages (from google-auth<3,>=1.6.3->tensorboard<2.14,>=2.13->tensorflow-macos==2.13.0-rc1->tensorflow) (0.3.0)\r\n",
      "Requirement already satisfied: rsa<5,>=3.1.4 in /Users/paolomollica/Desktop/DM2/venv/lib/python3.9/site-packages (from google-auth<3,>=1.6.3->tensorboard<2.14,>=2.13->tensorflow-macos==2.13.0-rc1->tensorflow) (4.9)\r\n",
      "Requirement already satisfied: urllib3<2.0 in /Users/paolomollica/Desktop/DM2/venv/lib/python3.9/site-packages (from google-auth<3,>=1.6.3->tensorboard<2.14,>=2.13->tensorflow-macos==2.13.0-rc1->tensorflow) (1.26.16)\r\n",
      "Requirement already satisfied: requests-oauthlib>=0.7.0 in /Users/paolomollica/Desktop/DM2/venv/lib/python3.9/site-packages (from google-auth-oauthlib<1.1,>=0.5->tensorboard<2.14,>=2.13->tensorflow-macos==2.13.0-rc1->tensorflow) (1.3.1)\r\n",
      "Requirement already satisfied: importlib-metadata>=4.4 in /Users/paolomollica/Desktop/DM2/venv/lib/python3.9/site-packages (from markdown>=2.6.8->tensorboard<2.14,>=2.13->tensorflow-macos==2.13.0-rc1->tensorflow) (6.6.0)\r\n",
      "Requirement already satisfied: charset-normalizer<4,>=2 in /Users/paolomollica/Desktop/DM2/venv/lib/python3.9/site-packages (from requests<3,>=2.21.0->tensorboard<2.14,>=2.13->tensorflow-macos==2.13.0-rc1->tensorflow) (3.1.0)\r\n",
      "Requirement already satisfied: idna<4,>=2.5 in /Users/paolomollica/Desktop/DM2/venv/lib/python3.9/site-packages (from requests<3,>=2.21.0->tensorboard<2.14,>=2.13->tensorflow-macos==2.13.0-rc1->tensorflow) (3.4)\r\n",
      "Requirement already satisfied: certifi>=2017.4.17 in /Users/paolomollica/Desktop/DM2/venv/lib/python3.9/site-packages (from requests<3,>=2.21.0->tensorboard<2.14,>=2.13->tensorflow-macos==2.13.0-rc1->tensorflow) (2023.5.7)\r\n",
      "Requirement already satisfied: MarkupSafe>=2.1.1 in /Users/paolomollica/Desktop/DM2/venv/lib/python3.9/site-packages (from werkzeug>=1.0.1->tensorboard<2.14,>=2.13->tensorflow-macos==2.13.0-rc1->tensorflow) (2.1.2)\r\n",
      "Requirement already satisfied: zipp>=0.5 in /Users/paolomollica/Desktop/DM2/venv/lib/python3.9/site-packages (from importlib-metadata>=4.4->markdown>=2.6.8->tensorboard<2.14,>=2.13->tensorflow-macos==2.13.0-rc1->tensorflow) (3.15.0)\r\n",
      "Requirement already satisfied: pyasn1<0.6.0,>=0.4.6 in /Users/paolomollica/Desktop/DM2/venv/lib/python3.9/site-packages (from pyasn1-modules>=0.2.1->google-auth<3,>=1.6.3->tensorboard<2.14,>=2.13->tensorflow-macos==2.13.0-rc1->tensorflow) (0.5.0)\r\n",
      "Requirement already satisfied: oauthlib>=3.0.0 in /Users/paolomollica/Desktop/DM2/venv/lib/python3.9/site-packages (from requests-oauthlib>=0.7.0->google-auth-oauthlib<1.1,>=0.5->tensorboard<2.14,>=2.13->tensorflow-macos==2.13.0-rc1->tensorflow) (3.2.2)\r\n"
     ]
    },
    {
     "ename": "ModuleNotFoundError",
     "evalue": "No module named 'tensorflow'",
     "output_type": "error",
     "traceback": [
      "\u001B[0;31m---------------------------------------------------------------------------\u001B[0m",
      "\u001B[0;31mModuleNotFoundError\u001B[0m                       Traceback (most recent call last)",
      "Cell \u001B[0;32mIn[10], line 3\u001B[0m\n\u001B[1;32m      1\u001B[0m \u001B[38;5;28;01mimport\u001B[39;00m \u001B[38;5;21;01moptuna\u001B[39;00m\n\u001B[1;32m      2\u001B[0m get_ipython()\u001B[38;5;241m.\u001B[39msystem(\u001B[38;5;124m'\u001B[39m\u001B[38;5;124mpip install tensorflow\u001B[39m\u001B[38;5;124m'\u001B[39m)\n\u001B[0;32m----> 3\u001B[0m \u001B[38;5;28;01mfrom\u001B[39;00m \u001B[38;5;21;01mkeras\u001B[39;00m\u001B[38;5;21;01m.\u001B[39;00m\u001B[38;5;21;01mlayers\u001B[39;00m \u001B[38;5;28;01mimport\u001B[39;00m BatchNormalization, Activation\n\u001B[1;32m      4\u001B[0m \u001B[38;5;28;01mfrom\u001B[39;00m \u001B[38;5;21;01mkeras\u001B[39;00m\u001B[38;5;21;01m.\u001B[39;00m\u001B[38;5;21;01mmodels\u001B[39;00m \u001B[38;5;28;01mimport\u001B[39;00m Sequential\n\u001B[1;32m      5\u001B[0m \u001B[38;5;28;01mfrom\u001B[39;00m \u001B[38;5;21;01mkeras\u001B[39;00m\u001B[38;5;21;01m.\u001B[39;00m\u001B[38;5;21;01mlayers\u001B[39;00m \u001B[38;5;28;01mimport\u001B[39;00m Dense, Conv1D, Dropout, GlobalAveragePooling1D\n",
      "File \u001B[0;32m~/.local/share/virtualenvs/DM2-RcLdGQSz/lib/python3.10/site-packages/keras/__init__.py:21\u001B[0m\n\u001B[1;32m     15\u001B[0m \u001B[38;5;124;03m\"\"\"Implementation of the Keras API, the high-level API of TensorFlow.\u001B[39;00m\n\u001B[1;32m     16\u001B[0m \n\u001B[1;32m     17\u001B[0m \u001B[38;5;124;03mDetailed documentation and user guides are available at\u001B[39;00m\n\u001B[1;32m     18\u001B[0m \u001B[38;5;124;03m[keras.io](https://keras.io).\u001B[39;00m\n\u001B[1;32m     19\u001B[0m \u001B[38;5;124;03m\"\"\"\u001B[39;00m\n\u001B[1;32m     20\u001B[0m \u001B[38;5;28;01mfrom\u001B[39;00m \u001B[38;5;21;01mkeras\u001B[39;00m \u001B[38;5;28;01mimport\u001B[39;00m distribute\n\u001B[0;32m---> 21\u001B[0m \u001B[38;5;28;01mfrom\u001B[39;00m \u001B[38;5;21;01mkeras\u001B[39;00m \u001B[38;5;28;01mimport\u001B[39;00m models\n\u001B[1;32m     22\u001B[0m \u001B[38;5;28;01mfrom\u001B[39;00m \u001B[38;5;21;01mkeras\u001B[39;00m\u001B[38;5;21;01m.\u001B[39;00m\u001B[38;5;21;01mengine\u001B[39;00m\u001B[38;5;21;01m.\u001B[39;00m\u001B[38;5;21;01minput_layer\u001B[39;00m \u001B[38;5;28;01mimport\u001B[39;00m Input\n\u001B[1;32m     23\u001B[0m \u001B[38;5;28;01mfrom\u001B[39;00m \u001B[38;5;21;01mkeras\u001B[39;00m\u001B[38;5;21;01m.\u001B[39;00m\u001B[38;5;21;01mengine\u001B[39;00m\u001B[38;5;21;01m.\u001B[39;00m\u001B[38;5;21;01msequential\u001B[39;00m \u001B[38;5;28;01mimport\u001B[39;00m Sequential\n",
      "File \u001B[0;32m~/.local/share/virtualenvs/DM2-RcLdGQSz/lib/python3.10/site-packages/keras/models/__init__.py:18\u001B[0m\n\u001B[1;32m      1\u001B[0m \u001B[38;5;66;03m# Copyright 2022 The TensorFlow Authors. All Rights Reserved.\u001B[39;00m\n\u001B[1;32m      2\u001B[0m \u001B[38;5;66;03m#\u001B[39;00m\n\u001B[1;32m      3\u001B[0m \u001B[38;5;66;03m# Licensed under the Apache License, Version 2.0 (the \"License\");\u001B[39;00m\n\u001B[0;32m   (...)\u001B[0m\n\u001B[1;32m     13\u001B[0m \u001B[38;5;66;03m# limitations under the License.\u001B[39;00m\n\u001B[1;32m     14\u001B[0m \u001B[38;5;66;03m# ==============================================================================\u001B[39;00m\n\u001B[1;32m     15\u001B[0m \u001B[38;5;124;03m\"\"\"Keras models API.\"\"\"\u001B[39;00m\n\u001B[0;32m---> 18\u001B[0m \u001B[38;5;28;01mfrom\u001B[39;00m \u001B[38;5;21;01mkeras\u001B[39;00m\u001B[38;5;21;01m.\u001B[39;00m\u001B[38;5;21;01mengine\u001B[39;00m\u001B[38;5;21;01m.\u001B[39;00m\u001B[38;5;21;01mfunctional\u001B[39;00m \u001B[38;5;28;01mimport\u001B[39;00m Functional\n\u001B[1;32m     19\u001B[0m \u001B[38;5;28;01mfrom\u001B[39;00m \u001B[38;5;21;01mkeras\u001B[39;00m\u001B[38;5;21;01m.\u001B[39;00m\u001B[38;5;21;01mengine\u001B[39;00m\u001B[38;5;21;01m.\u001B[39;00m\u001B[38;5;21;01msequential\u001B[39;00m \u001B[38;5;28;01mimport\u001B[39;00m Sequential\n\u001B[1;32m     20\u001B[0m \u001B[38;5;28;01mfrom\u001B[39;00m \u001B[38;5;21;01mkeras\u001B[39;00m\u001B[38;5;21;01m.\u001B[39;00m\u001B[38;5;21;01mengine\u001B[39;00m\u001B[38;5;21;01m.\u001B[39;00m\u001B[38;5;21;01mtraining\u001B[39;00m \u001B[38;5;28;01mimport\u001B[39;00m Model\n",
      "File \u001B[0;32m~/.local/share/virtualenvs/DM2-RcLdGQSz/lib/python3.10/site-packages/keras/engine/functional.py:24\u001B[0m\n\u001B[1;32m     21\u001B[0m \u001B[38;5;28;01mimport\u001B[39;00m \u001B[38;5;21;01mitertools\u001B[39;00m\n\u001B[1;32m     22\u001B[0m \u001B[38;5;28;01mimport\u001B[39;00m \u001B[38;5;21;01mwarnings\u001B[39;00m\n\u001B[0;32m---> 24\u001B[0m \u001B[38;5;28;01mimport\u001B[39;00m \u001B[38;5;21;01mtensorflow\u001B[39;00m\u001B[38;5;21;01m.\u001B[39;00m\u001B[38;5;21;01mcompat\u001B[39;00m\u001B[38;5;21;01m.\u001B[39;00m\u001B[38;5;21;01mv2\u001B[39;00m \u001B[38;5;28;01mas\u001B[39;00m \u001B[38;5;21;01mtf\u001B[39;00m\n\u001B[1;32m     26\u001B[0m \u001B[38;5;28;01mfrom\u001B[39;00m \u001B[38;5;21;01mkeras\u001B[39;00m \u001B[38;5;28;01mimport\u001B[39;00m backend\n\u001B[1;32m     27\u001B[0m \u001B[38;5;28;01mfrom\u001B[39;00m \u001B[38;5;21;01mkeras\u001B[39;00m\u001B[38;5;21;01m.\u001B[39;00m\u001B[38;5;21;01mdtensor\u001B[39;00m \u001B[38;5;28;01mimport\u001B[39;00m layout_map \u001B[38;5;28;01mas\u001B[39;00m layout_map_lib\n",
      "\u001B[0;31mModuleNotFoundError\u001B[0m: No module named 'tensorflow'"
     ]
    }
   ],
   "source": [
    "import optuna\n",
    "from keras.layers import BatchNormalization, Activation\n",
    "from keras.models import Sequential\n",
    "from keras.layers import Dense, Conv1D, Dropout, GlobalAveragePooling1D\n",
    "from sklearn.metrics import accuracy_score\n",
    "\n",
    "def build_model(input_shape, n_categories,\n",
    "                n_conv=0, n_hidden=0, hidden_nodes=32,\n",
    "                dropout=0.01, filters=8, kernel_size=5, **kwargs):\n",
    "    \n",
    "    # Stuff must be given in (timestep, spectral_coeff) format\n",
    "    n_timesteps = input_shape[0]\n",
    "    n_features = input_shape[1]\n",
    "\n",
    "    model = Sequential()\n",
    "\n",
    "    model.add(Conv1D(filters=filters,\n",
    "                     kernel_size=kernel_size,\n",
    "                     activation='relu',\n",
    "                     input_shape=(n_timesteps, n_features),\n",
    "                     name=\"base_conv\",\n",
    "                     padding=\"causal\"\n",
    "                     ))\n",
    "    model.add(BatchNormalization())\n",
    "    model.add(Activation('relu'))\n",
    "\n",
    "    for i in range(n_conv):\n",
    "        model.add(Conv1D(filters=filters, kernel_size=kernel_size, activation='relu',padding=\"causal\", name=f\"extra_conv_{i}\"))\n",
    "        model.add(BatchNormalization())\n",
    "        model.add(Activation('relu'))\n",
    "\n",
    "        model.add(Dropout(dropout))\n",
    "\n",
    "    model.add(GlobalAveragePooling1D())\n",
    "\n",
    "    for i in range(n_hidden):\n",
    "        model.add(Dense(hidden_nodes, activation='relu'))\n",
    "\n",
    "    model.add(Dense(n_categories, activation='softmax'))    \n",
    "    model.compile(loss='sparse_categorical_crossentropy', optimizer='adam', metrics=['accuracy'])\n",
    "    \n",
    "    return model"
   ]
  },
  {
   "cell_type": "code",
   "execution_count": null,
   "metadata": {},
   "outputs": [],
   "source": [
    "# Test to check the accuracy of a \"belly\" network\n",
    "test_model = build_model((27,27), 2, \n",
    "                         n_conv=2, n_hidden=3, hidden_nodes=256)\n",
    "test_model.summary()\n",
    "test_model.fit(X_train, y_train,  verbose=True, epochs=8)"
   ]
  },
  {
   "cell_type": "code",
   "execution_count": null,
   "metadata": {},
   "outputs": [],
   "source": [
    "# objective function to be minimized\n",
    "def objective_fun(trial, X, y, validation_X, validation_y):\n",
    "\n",
    "    n_conv = trial.suggest_int('n_conv', 0, 3)\n",
    "    n_hidden = trial.suggest_int('n_hidden', 0, 3)\n",
    "    hidden_nodes = trial.suggest_int('hidden_nodes', 8, 256)\n",
    "    dropout = trial.suggest_float('dropout', 0, 0.2)\n",
    "    filters = trial.suggest_int('filters', 2, 16)\n",
    "    kernel_size = trial.suggest_int('kernel_size', 2, 16)\n",
    "    batch_size = trial.suggest_int('batch_size', 16, 64)\n",
    "    epochs = trial.suggest_int('epochs', 5, 90)\n",
    "    \n",
    "    print(f\"Running little bitch having n_conv={n_conv}, dropout={dropout}, hidden_nodes={hidden_nodes}\")\n",
    "    \n",
    "    cnn = build_model(  X.shape[1:], len(np.unique(y)),\n",
    "                        n_hidden=n_hidden,\n",
    "                        hidden_nodes=hidden_nodes,\n",
    "                        n_conv=n_conv,\n",
    "                        dropout=dropout,\n",
    "                        filters=filters,\n",
    "                        kernel_size=kernel_size,\n",
    "                       )\n",
    "\n",
    "    cnn.fit(X, y, batch_size=batch_size, epochs=epochs, verbose=False)\n",
    "    \n",
    "    y_pred = np.argmax(cnn.predict(validation_X), axis=1)\n",
    "\n",
    "    error = accuracy_score(validation_y, y_pred)\n",
    "\n",
    "    return error\n",
    "\n",
    "\n",
    "study = optuna.create_study(direction='maximize')\n",
    "trial_function = lambda trial: objective_fun(trial, \n",
    "                                             X_train, y_train,\n",
    "                                             X_val, y_val)\n",
    "study.optimize(trial_function, n_trials=150, n_jobs=-1, catch=ValueError)"
   ]
  },
  {
   "cell_type": "code",
   "execution_count": null,
   "metadata": {},
   "outputs": [],
   "source": [
    "plt.plot(test_model.history.history[\"accuracy\"], label=\"accuracy\")\n",
    "plt.legend()"
   ]
  },
  {
   "cell_type": "code",
   "execution_count": null,
   "metadata": {},
   "outputs": [],
   "source": [
    "best_params = study.best_params\n",
    "# best_params = dict(n_conv=0, n_hidden=1, hidden_nodes=248, dropout=0.752200, filters=8, kernel_size=14, batch_size=19, epochs=75)"
   ]
  },
  {
   "cell_type": "code",
   "execution_count": null,
   "metadata": {},
   "outputs": [],
   "source": [
    "cnn = build_model((27,27), 2, **best_params)\n",
    "cnn.summary()\n",
    "cnn.fit( np.concatenate((X_train, X_val)), np.concatenate((y_train, y_val)), \n",
    "            epochs=best_params[\"epochs\"], \n",
    "            batch_size=best_params[\"batch_size\"])"
   ]
  },
  {
   "cell_type": "code",
   "execution_count": null,
   "metadata": {},
   "outputs": [],
   "source": [
    "from sklearn.metrics import f1_score, classification_report, cohen_kappa_score\n",
    "\n",
    "# to be saved for explainability\n",
    "predictions = cnn.predict(X_test)\n",
    "y_pred = np.argmax(predictions, axis=1)\n",
    "\n",
    "predictions_path = os.path.join(TS_PREPROC_FOLDER, 'predictions.npy')\n",
    "np.save(predictions_path, predictions)\n",
    "\n",
    "print(f'Cohen k {cohen_kappa_score(y_test, y_pred)}')\n",
    "print('Accuracy %s' % accuracy_score(y_test, y_pred))\n",
    "print('F1-score %s' % f1_score(y_test, y_pred, average=None))\n",
    "print(classification_report(y_test, y_pred))"
   ]
  },
  {
   "cell_type": "markdown",
   "metadata": {},
   "source": [
    "## CNN and sex-emotion using syllables02 (mixed actors mode)"
   ]
  },
  {
   "cell_type": "code",
   "execution_count": null,
   "metadata": {},
   "outputs": [],
   "source": [
    "## Note: errors may be due to actors not being ever analysed\n",
    "## Check by random partitioning instead of actor < 19\n",
    "y = np.array([f\"{s}-{e}\" for s,e in zip(df.sex, df.emotion)])\n",
    "indexes = np.arange(len(df))\n",
    "np.random.shuffle(indexes)\n",
    "train_indxs, test_indxs, val_indxs = np.split(indexes, (len(df)*np.cumsum([0.7, 0.2])).astype(int))\n",
    "\n",
    "X_train, X_test, X_val = traces[train_indxs], traces[test_indxs], traces[val_indxs], \n",
    "y_train, y_test, y_val = y[train_indxs], y[test_indxs], y[val_indxs]\n",
    "\n",
    "# #### Labels ####\n",
    "label_encoder = LabelEncoder()\n",
    "\n",
    "y_train = label_encoder.fit_transform(y_train)\n",
    "y_val = label_encoder.transform(y_val)\n",
    "y_test = label_encoder.transform(y_test)\n",
    "\n",
    "print(X_train.shape)\n",
    "print(X_test.shape)\n",
    "print(X_val.shape)\n",
    "\n",
    "print(np.unique(y_train))"
   ]
  },
  {
   "cell_type": "code",
   "execution_count": null,
   "metadata": {},
   "outputs": [],
   "source": [
    "study = optuna.create_study(direction='maximize')\n",
    "trial_function = lambda trial: objective_fun(trial, \n",
    "                                             X_train, y_train,\n",
    "                                             X_val, y_val)\n",
    "study.optimize(trial_function, n_trials=150, n_jobs=-1, catch=ValueError)"
   ]
  },
  {
   "cell_type": "code",
   "execution_count": null,
   "metadata": {},
   "outputs": [],
   "source": [
    "best_params = study.best_params\n",
    "print(best_params)\n",
    "cnn_emosex = build_model((27,27), 16, **best_params)\n",
    "cnn_emosex.summary()\n",
    "cnn_emosex.fit( np.concatenate((X_train, X_val)), np.concatenate((y_train, y_val)), \n",
    "            epochs=best_params[\"epochs\"], \n",
    "            batch_size=best_params[\"batch_size\"])"
   ]
  },
  {
   "cell_type": "code",
   "execution_count": null,
   "metadata": {},
   "outputs": [],
   "source": [
    "from sklearn.metrics import f1_score, classification_report, cohen_kappa_score, confusion_matrix\n",
    "\n",
    "y_pred = np.argmax(cnn_emosex.predict(X_test), axis=1)\n",
    "\n",
    "print(f'Cohen k {cohen_kappa_score(y_test, y_pred)}')\n",
    "print('Accuracy %s' % accuracy_score(y_test, y_pred))\n",
    "print('F1-score %s' % f1_score(y_test, y_pred, average=None))\n",
    "print(classification_report(y_test, y_pred))"
   ]
  },
  {
   "cell_type": "code",
   "execution_count": null,
   "metadata": {},
   "outputs": [],
   "source": [
    "plt.matshow(confusion_matrix(y_test, y_pred))\n",
    "plt.grid(ls=\"\")"
   ]
  },
  {
   "cell_type": "markdown",
   "metadata": {},
   "source": [
    "## CNN and emotion using complete STFT"
   ]
  },
  {
   "cell_type": "code",
   "execution_count": null,
   "metadata": {},
   "outputs": [],
   "source": [
    "file_path = os.path.join(TS_PREPROC_FOLDER, f\"full_stft.npy\")\n",
    "full_stft = np.load(file_path, allow_pickle=True)\n",
    "\n",
    "\n",
    "# Sets tests to be over actor 19 (excluded)\n",
    "X_test = full_stft[df.actor_number > 19]\n",
    "y_test = df[\"emotion\"][df.actor_number > 19].to_numpy()\n",
    "\n",
    "# Sets the train and validation inside actors < 19\n",
    "X_train, X_val, y_train, y_val = train_test_split(  full_stft[df.actor_number <= 19], \n",
    "                                                    df[\"emotion\"][df.actor_number <= 19].to_numpy(), \n",
    "                                                    test_size=0.2, random_state=100)\n",
    "\n",
    "X_train.shape, X_val.shape, X_test.shape, y_train.shape, y_val.shape, y_test.shape"
   ]
  },
  {
   "cell_type": "code",
   "execution_count": null,
   "metadata": {},
   "outputs": [],
   "source": [
    "label_encoder = LabelEncoder()\n",
    "\n",
    "y_train = label_encoder.fit_transform(y_train)\n",
    "y_val = label_encoder.transform(y_val)\n",
    "y_test = label_encoder.transform(y_test)\n",
    "\n",
    "print(np.unique(y_train))"
   ]
  },
  {
   "cell_type": "code",
   "execution_count": null,
   "metadata": {},
   "outputs": [],
   "source": [
    "plt.matshow(X_train[0]);\n",
    "plt.grid(ls=\"\")"
   ]
  },
  {
   "cell_type": "code",
   "execution_count": null,
   "metadata": {},
   "outputs": [],
   "source": [
    "# objective function to be minimized\n",
    "def objective_fun_bigger_model(trial, X, y, validation_X, validation_y):\n",
    "\n",
    "    n_conv = trial.suggest_int('n_conv', 2, 5)\n",
    "    n_hidden = trial.suggest_int('n_hidden', 2, 5)\n",
    "    hidden_nodes = trial.suggest_int('hidden_nodes', 256, 512)\n",
    "    dropout = trial.suggest_float('dropout', 0, 0.2)\n",
    "    filters = trial.suggest_int('filters', 16, 32)\n",
    "    kernel_size = trial.suggest_int('kernel_size', 2, 32)\n",
    "    batch_size = trial.suggest_int('batch_size', 16, 64)\n",
    "    epochs = trial.suggest_int('epochs', 40, 90)\n",
    "    \n",
    "    print(f\"Running little bitch having n_conv={n_conv}, dropout={dropout}, hidden_nodes={hidden_nodes}\")\n",
    "    \n",
    "    cnn = build_model(  X.shape[1:], len(np.unique(y)),\n",
    "                        n_hidden=n_hidden,\n",
    "                        hidden_nodes=hidden_nodes,\n",
    "                        n_conv=n_conv,\n",
    "                        dropout=dropout,\n",
    "                        filters=filters,\n",
    "                        kernel_size=kernel_size,\n",
    "                       )\n",
    "\n",
    "    cnn.fit(X, y, batch_size=batch_size, epochs=epochs, verbose=False)\n",
    "    \n",
    "    y_pred = np.argmax(cnn.predict(validation_X), axis=1)\n",
    "\n",
    "    error = accuracy_score(validation_y, y_pred)\n",
    "\n",
    "    return error\n"
   ]
  },
  {
   "cell_type": "code",
   "execution_count": null,
   "metadata": {},
   "outputs": [],
   "source": [
    "# Test to check the accuracy of a \"belly\" network\n",
    "test_model = build_model((54,54), 8, \n",
    "                         n_conv=5, n_hidden=5, hidden_nodes=512, filters=32, kernel_size=16)\n",
    "test_model.summary()\n",
    "test_model.fit(X_train, y_train,  verbose=True, epochs=90)"
   ]
  },
  {
   "cell_type": "code",
   "execution_count": null,
   "metadata": {},
   "outputs": [],
   "source": [
    "study = optuna.create_study(direction='maximize')\n",
    "trial_function = lambda trial: objective_fun_bigger_model(trial, \n",
    "                                             X_train, y_train,\n",
    "                                             X_val, y_val)\n",
    "study.optimize(trial_function, n_trials=150, n_jobs=-1, catch=ValueError)"
   ]
  },
  {
   "cell_type": "code",
   "execution_count": null,
   "metadata": {},
   "outputs": [],
   "source": [
    "best_params = study.best_params\n",
    "print(best_params)\n",
    "cnn = build_model((54,54), 2, **best_params)\n",
    "cnn.summary()\n",
    "cnn.fit( np.concatenate((X_train, X_val)), np.concatenate((y_train, y_val)), \n",
    "            epochs=best_params[\"epochs\"], \n",
    "            batch_size=best_params[\"batch_size\"])"
   ]
  },
  {
   "cell_type": "code",
   "execution_count": null,
   "metadata": {},
   "outputs": [],
   "source": [
    "from sklearn.metrics import f1_score, classification_report, cohen_kappa_score\n",
    "\n",
    "y_pred = np.argmax(cnn.predict(X_test), axis=1)\n",
    "\n",
    "print(f'Cohen k {cohen_kappa_score(y_test, y_pred)}')\n",
    "print('Accuracy %s' % accuracy_score(y_test, y_pred))\n",
    "print('F1-score %s' % f1_score(y_test, y_pred, average=None))\n",
    "print(classification_report(y_test, y_pred))"
   ]
  },
  {
   "cell_type": "markdown",
   "metadata": {},
   "source": [
    "## LSTM and emotion using full STFT"
   ]
  },
  {
   "cell_type": "code",
   "execution_count": null,
   "metadata": {},
   "outputs": [],
   "source": [
    "from keras.layers import LSTM, Dense\n",
    "from keras.models import Sequential\n",
    "\n",
    "def build_LSTM(input_shape, n_categories,\n",
    "                lstm_nodes=64,  \n",
    "                n_dense=0, dense_nodes=32,\n",
    "                dropout=0.01, **kwargs):\n",
    "    \n",
    "    # Stuff must be given in (timestep, spectral_coeff) format\n",
    "    n_timesteps = input_shape[0]\n",
    "    n_features = input_shape[1]\n",
    "\n",
    "    model = Sequential()\n",
    "    model.add(LSTM(lstm_nodes, \n",
    "                   input_shape=input_shape,\n",
    "                   dropout=0.05,\n",
    "                   recurrent_dropout=0.05,\n",
    "                   name=\"LSTM_base\"))\n",
    "\n",
    "#     for i in range(n_lstm):\n",
    "#         model.add(LSTM(lstm_nodes, name=f\"extra_LSTM_{i}\"))\n",
    "#         model.add(Dropout(dropout))\n",
    "\n",
    "    for i in range(n_dense):\n",
    "        model.add(Dense(dense_nodes, activation='relu', name=f\"extra_Dense_{i}\"))\n",
    "        model.add(Dropout(dropout))\n",
    "    model.add(Dense(n_categories, activation='softmax')) \n",
    "    \n",
    "    model.compile(loss='sparse_categorical_crossentropy', optimizer='adam', metrics=['accuracy'])\n",
    "    \n",
    "    return model"
   ]
  },
  {
   "cell_type": "code",
   "execution_count": null,
   "metadata": {},
   "outputs": [],
   "source": [
    "file_path = os.path.join(TS_PREPROC_FOLDER, f\"full_stft.npy\")\n",
    "full_stft = np.load(file_path, allow_pickle=True)\n",
    "y = df.statement.to_numpy()\n",
    "\n",
    "## Note: errors may be due to actors not being ever analysed\n",
    "## Check by random partitioning instead of actor < 19\n",
    "\n",
    "indexes = np.arange(len(df))\n",
    "np.random.shuffle(indexes)\n",
    "train_indxs, test_indxs, val_indxs = np.split(indexes, (len(df)*np.cumsum([0.7, 0.2])).astype(int))\n",
    "\n",
    "X_train, X_test, X_val = full_stft[train_indxs], full_stft[test_indxs], full_stft[val_indxs], \n",
    "y_train, y_test, y_val = y[train_indxs], y[test_indxs], y[val_indxs]\n",
    "\n",
    "# #### Labels ####\n",
    "label_encoder = LabelEncoder()\n",
    "\n",
    "y_train = label_encoder.fit_transform(y_train)\n",
    "y_val = label_encoder.transform(y_val)\n",
    "y_test = label_encoder.transform(y_test)\n",
    "\n",
    "print(X_train.shape)\n",
    "print(X_test.shape)\n",
    "print(X_val.shape)\n",
    "\n",
    "print(np.unique(y_train))"
   ]
  },
  {
   "cell_type": "code",
   "execution_count": null,
   "metadata": {},
   "outputs": [],
   "source": [
    "# Test to check the accuracy of a \"belly\" network\n",
    "test_model = build_LSTM((54,54), len(np.unique(y_train)), \n",
    "                        lstm_nodes=64, \n",
    "                        n_dense=2, dense_nodes=64)\n",
    "test_model.summary()\n",
    "test_model.fit(X_train, y_train,  verbose=True, epochs=8)"
   ]
  },
  {
   "cell_type": "code",
   "execution_count": null,
   "metadata": {},
   "outputs": [],
   "source": [
    "# objective function to be minimized\n",
    "def objective_fun_LSTM_model(trial, X, y, validation_X, validation_y):\n",
    "    \n",
    "    cnn = build_model(  X.shape[1:], len(np.unique(y)),\n",
    "                        lstm_nodes=trial.suggest_int('lstm_nodes', 32, 128),\n",
    "                        n_dense=trial.suggest_int('n_hidden', 1, 4),\n",
    "                        dense_nodes=trial.suggest_int('dense_nodes', 64, 512),\n",
    "                        dropout=trial.suggest_float('dropout', 0, 0.10),\n",
    "                       )\n",
    "\n",
    "    cnn.fit(X, y, \n",
    "            batch_size=trial.suggest_int('batch_size', 16, 64), \n",
    "            epochs=trial.suggest_int('epochs', 8, 60), \n",
    "            verbose=False)\n",
    "    \n",
    "    y_pred = np.argmax(cnn.predict(validation_X), axis=1)\n",
    "\n",
    "    error = accuracy_score(validation_y, y_pred)\n",
    "\n",
    "    return error"
   ]
  },
  {
   "cell_type": "code",
   "execution_count": null,
   "metadata": {},
   "outputs": [],
   "source": [
    "study = optuna.create_study(direction='maximize')\n",
    "trial_function = lambda trial: objective_fun_LSTM_model(trial, \n",
    "                                             X_train, y_train,\n",
    "                                             X_val, y_val)\n",
    "study.optimize(trial_function, n_trials=50, n_jobs=-1, catch=ValueError)"
   ]
  },
  {
   "cell_type": "code",
   "execution_count": null,
   "metadata": {},
   "outputs": [],
   "source": [
    "best_params = study.best_params\n",
    "print(best_params)\n",
    "lstm = build_model((54,54), 8, **best_params)\n",
    "lstm.summary()\n",
    "lstm.fit( np.concatenate((X_train, X_val)), np.concatenate((y_train, y_val)), \n",
    "            epochs=best_params[\"epochs\"], \n",
    "            batch_size=best_params[\"batch_size\"])"
   ]
  },
  {
   "cell_type": "code",
   "execution_count": null,
   "metadata": {},
   "outputs": [],
   "source": [
    "y_pred = np.argmax(lstm.predict(X_test), axis=1)\n",
    "\n",
    "print(f'Cohen k {cohen_kappa_score(y_test, y_pred)}')\n",
    "print('Accuracy %s' % accuracy_score(y_test, y_pred))\n",
    "print('F1-score %s' % f1_score(y_test, y_pred, average=None))\n",
    "print(classification_report(y_test, y_pred))"
   ]
  },
  {
   "cell_type": "code",
   "execution_count": null,
   "metadata": {},
   "outputs": [],
   "source": [
    "from sklearn.metrics import confusion_matrix\n",
    "\n",
    "plt.matshow(confusion_matrix(y_test, y_pred))\n",
    "plt.grid(ls=\"\")"
   ]
  },
  {
   "cell_type": "code",
   "execution_count": null,
   "metadata": {},
   "outputs": [],
   "source": [
    "indx = 800\n",
    "plt.matshow(X_train[indx])\n",
    "plt.title(f\"{df.emotion[indx]} {df.vocal_channel[indx]}\")\n",
    "plt.grid(ls=\"\")"
   ]
  },
  {
   "cell_type": "code",
   "execution_count": null,
   "metadata": {},
   "outputs": [],
   "source": []
  }
 ],
 "metadata": {
  "kernelspec": {
   "display_name": "DM2",
   "language": "python",
   "name": "dm2"
  },
  "language_info": {
   "codemirror_mode": {
    "name": "ipython",
    "version": 3
   },
   "file_extension": ".py",
   "mimetype": "text/x-python",
   "name": "python",
   "nbconvert_exporter": "python",
   "pygments_lexer": "ipython3",
   "version": "3.10.6"
  }
 },
 "nbformat": 4,
 "nbformat_minor": 1
}
