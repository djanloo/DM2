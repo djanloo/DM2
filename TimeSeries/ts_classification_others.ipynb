{
 "cells": [
  {
   "cell_type": "code",
   "execution_count": 1,
   "metadata": {
    "ExecuteTime": {
     "end_time": "2023-06-25T16:50:55.153120Z",
     "start_time": "2023-06-25T16:50:55.151410Z"
    }
   },
   "outputs": [],
   "source": [
    "import os\n",
    "import numpy as np\n",
    "import pandas as pd\n",
    "import matplotlib.pyplot as plt\n",
    "import seaborn as sns; sns.set()\n",
    "\n",
    "import sys\n",
    "sys.path.append('../')\n",
    "import default_style"
   ]
  },
  {
   "cell_type": "code",
   "execution_count": 2,
   "metadata": {
    "ExecuteTime": {
     "end_time": "2023-06-25T16:50:55.156213Z",
     "start_time": "2023-06-25T16:50:55.153699Z"
    }
   },
   "outputs": [],
   "source": [
    "TS_DATASET_FOLDER = os.path.join('..', 'dataset')\n",
    "TS_PREPROC_FOLDER = os.path.join(TS_DATASET_FOLDER, 'preprocessed_traces')\n",
    "DF_PREPROC_FILE = os.path.join(TS_PREPROC_FOLDER, 'preproc_ts.df')\n",
    "\n",
    "TARGET = 'statement'\n",
    "TRACES = 'syllables_02_STFT'"
   ]
  },
  {
   "cell_type": "code",
   "execution_count": 3,
   "metadata": {
    "ExecuteTime": {
     "end_time": "2023-06-25T16:50:55.181504Z",
     "start_time": "2023-06-25T16:50:55.156460Z"
    }
   },
   "outputs": [
    {
     "data": {
      "text/html": [
       "<div>\n",
       "<style scoped>\n",
       "    .dataframe tbody tr th:only-of-type {\n",
       "        vertical-align: middle;\n",
       "    }\n",
       "\n",
       "    .dataframe tbody tr th {\n",
       "        vertical-align: top;\n",
       "    }\n",
       "\n",
       "    .dataframe thead th {\n",
       "        text-align: right;\n",
       "    }\n",
       "</style>\n",
       "<table border=\"1\" class=\"dataframe\">\n",
       "  <thead>\n",
       "    <tr style=\"text-align: right;\">\n",
       "      <th></th>\n",
       "      <th>vocal_channel</th>\n",
       "      <th>emotion</th>\n",
       "      <th>emotional_intensity</th>\n",
       "      <th>statement</th>\n",
       "      <th>repetition</th>\n",
       "      <th>actor</th>\n",
       "      <th>path</th>\n",
       "      <th>sex</th>\n",
       "      <th>begin_s</th>\n",
       "      <th>end_s</th>\n",
       "      <th>fourier_coeffs</th>\n",
       "      <th>filtered_fourier_coeffs</th>\n",
       "      <th>syll_0_start_index</th>\n",
       "      <th>syll_1_start_index</th>\n",
       "      <th>syll_2_start_index</th>\n",
       "      <th>syll_3_start_index</th>\n",
       "      <th>syll_4_start_index</th>\n",
       "      <th>syll_5_start_index</th>\n",
       "      <th>syll_6_start_index</th>\n",
       "      <th>syll_7_start_index</th>\n",
       "    </tr>\n",
       "  </thead>\n",
       "  <tbody>\n",
       "    <tr>\n",
       "      <th>0</th>\n",
       "      <td>speech</td>\n",
       "      <td>happy</td>\n",
       "      <td>normal</td>\n",
       "      <td>kids</td>\n",
       "      <td>2nd</td>\n",
       "      <td>actor_01</td>\n",
       "      <td>../dataset/Audio_Speech_Actors_01-24/Actor_01/...</td>\n",
       "      <td>M</td>\n",
       "      <td>1.061167</td>\n",
       "      <td>2.701833</td>\n",
       "      <td>[5.9604645e-08 9.2448331e-02 7.0120022e-02 ......</td>\n",
       "      <td>[5.9604645e-08 9.2448264e-02 7.0119813e-02 ......</td>\n",
       "      <td>0</td>\n",
       "      <td>1304</td>\n",
       "      <td>2464</td>\n",
       "      <td>3832</td>\n",
       "      <td>4680</td>\n",
       "      <td>5664</td>\n",
       "      <td>6488</td>\n",
       "      <td>9840</td>\n",
       "    </tr>\n",
       "    <tr>\n",
       "      <th>1</th>\n",
       "      <td>speech</td>\n",
       "      <td>calm</td>\n",
       "      <td>strong</td>\n",
       "      <td>dogs</td>\n",
       "      <td>2nd</td>\n",
       "      <td>actor_01</td>\n",
       "      <td>../dataset/Audio_Speech_Actors_01-24/Actor_01/...</td>\n",
       "      <td>M</td>\n",
       "      <td>1.020167</td>\n",
       "      <td>2.983000</td>\n",
       "      <td>[3.3713877e-07 6.0990662e-03 8.3317356e-03 ......</td>\n",
       "      <td>[3.3713877e-07 6.0990625e-03 8.3317189e-03 ......</td>\n",
       "      <td>0</td>\n",
       "      <td>2112</td>\n",
       "      <td>5664</td>\n",
       "      <td>6304</td>\n",
       "      <td>6840</td>\n",
       "      <td>7704</td>\n",
       "      <td>9304</td>\n",
       "      <td>11776</td>\n",
       "    </tr>\n",
       "    <tr>\n",
       "      <th>2</th>\n",
       "      <td>speech</td>\n",
       "      <td>fearful</td>\n",
       "      <td>normal</td>\n",
       "      <td>kids</td>\n",
       "      <td>2nd</td>\n",
       "      <td>actor_01</td>\n",
       "      <td>../dataset/Audio_Speech_Actors_01-24/Actor_01/...</td>\n",
       "      <td>M</td>\n",
       "      <td>1.057000</td>\n",
       "      <td>2.642500</td>\n",
       "      <td>[4.5448542e-07 2.2871135e-02 2.1308422e-02 ......</td>\n",
       "      <td>[4.5448542e-07 2.2871116e-02 2.1308355e-02 ......</td>\n",
       "      <td>0</td>\n",
       "      <td>2032</td>\n",
       "      <td>3168</td>\n",
       "      <td>4648</td>\n",
       "      <td>5800</td>\n",
       "      <td>6728</td>\n",
       "      <td>7400</td>\n",
       "      <td>9512</td>\n",
       "    </tr>\n",
       "    <tr>\n",
       "      <th>3</th>\n",
       "      <td>speech</td>\n",
       "      <td>neutral</td>\n",
       "      <td>normal</td>\n",
       "      <td>kids</td>\n",
       "      <td>2nd</td>\n",
       "      <td>actor_01</td>\n",
       "      <td>../dataset/Audio_Speech_Actors_01-24/Actor_01/...</td>\n",
       "      <td>M</td>\n",
       "      <td>1.068500</td>\n",
       "      <td>2.294667</td>\n",
       "      <td>[3.5017729e-07 2.6199006e-02 2.5683409e-02 ......</td>\n",
       "      <td>[3.5017729e-07 2.6198970e-02 2.5683273e-02 ......</td>\n",
       "      <td>0</td>\n",
       "      <td>928</td>\n",
       "      <td>1984</td>\n",
       "      <td>3232</td>\n",
       "      <td>4120</td>\n",
       "      <td>5120</td>\n",
       "      <td>5808</td>\n",
       "      <td>7352</td>\n",
       "    </tr>\n",
       "    <tr>\n",
       "      <th>4</th>\n",
       "      <td>speech</td>\n",
       "      <td>calm</td>\n",
       "      <td>normal</td>\n",
       "      <td>kids</td>\n",
       "      <td>1st</td>\n",
       "      <td>actor_01</td>\n",
       "      <td>../dataset/Audio_Speech_Actors_01-24/Actor_01/...</td>\n",
       "      <td>M</td>\n",
       "      <td>1.023667</td>\n",
       "      <td>2.534167</td>\n",
       "      <td>[1.1920929e-07 2.0026919e-03 7.9689088e-04 ......</td>\n",
       "      <td>[1.1920929e-07 2.0026902e-03 7.9688808e-04 ......</td>\n",
       "      <td>0</td>\n",
       "      <td>2104</td>\n",
       "      <td>3672</td>\n",
       "      <td>4808</td>\n",
       "      <td>5928</td>\n",
       "      <td>6944</td>\n",
       "      <td>7600</td>\n",
       "      <td>9056</td>\n",
       "    </tr>\n",
       "  </tbody>\n",
       "</table>\n",
       "</div>"
      ],
      "text/plain": [
       "  vocal_channel  emotion emotional_intensity statement repetition     actor  \\\n",
       "0        speech    happy              normal      kids        2nd  actor_01   \n",
       "1        speech     calm              strong      dogs        2nd  actor_01   \n",
       "2        speech  fearful              normal      kids        2nd  actor_01   \n",
       "3        speech  neutral              normal      kids        2nd  actor_01   \n",
       "4        speech     calm              normal      kids        1st  actor_01   \n",
       "\n",
       "                                                path sex   begin_s     end_s  \\\n",
       "0  ../dataset/Audio_Speech_Actors_01-24/Actor_01/...   M  1.061167  2.701833   \n",
       "1  ../dataset/Audio_Speech_Actors_01-24/Actor_01/...   M  1.020167  2.983000   \n",
       "2  ../dataset/Audio_Speech_Actors_01-24/Actor_01/...   M  1.057000  2.642500   \n",
       "3  ../dataset/Audio_Speech_Actors_01-24/Actor_01/...   M  1.068500  2.294667   \n",
       "4  ../dataset/Audio_Speech_Actors_01-24/Actor_01/...   M  1.023667  2.534167   \n",
       "\n",
       "                                      fourier_coeffs  \\\n",
       "0  [5.9604645e-08 9.2448331e-02 7.0120022e-02 ......   \n",
       "1  [3.3713877e-07 6.0990662e-03 8.3317356e-03 ......   \n",
       "2  [4.5448542e-07 2.2871135e-02 2.1308422e-02 ......   \n",
       "3  [3.5017729e-07 2.6199006e-02 2.5683409e-02 ......   \n",
       "4  [1.1920929e-07 2.0026919e-03 7.9689088e-04 ......   \n",
       "\n",
       "                             filtered_fourier_coeffs  syll_0_start_index  \\\n",
       "0  [5.9604645e-08 9.2448264e-02 7.0119813e-02 ......                   0   \n",
       "1  [3.3713877e-07 6.0990625e-03 8.3317189e-03 ......                   0   \n",
       "2  [4.5448542e-07 2.2871116e-02 2.1308355e-02 ......                   0   \n",
       "3  [3.5017729e-07 2.6198970e-02 2.5683273e-02 ......                   0   \n",
       "4  [1.1920929e-07 2.0026902e-03 7.9688808e-04 ......                   0   \n",
       "\n",
       "   syll_1_start_index  syll_2_start_index  syll_3_start_index  \\\n",
       "0                1304                2464                3832   \n",
       "1                2112                5664                6304   \n",
       "2                2032                3168                4648   \n",
       "3                 928                1984                3232   \n",
       "4                2104                3672                4808   \n",
       "\n",
       "   syll_4_start_index  syll_5_start_index  syll_6_start_index  \\\n",
       "0                4680                5664                6488   \n",
       "1                6840                7704                9304   \n",
       "2                5800                6728                7400   \n",
       "3                4120                5120                5808   \n",
       "4                5928                6944                7600   \n",
       "\n",
       "   syll_7_start_index  \n",
       "0                9840  \n",
       "1               11776  \n",
       "2                9512  \n",
       "3                7352  \n",
       "4                9056  "
      ]
     },
     "execution_count": 3,
     "metadata": {},
     "output_type": "execute_result"
    }
   ],
   "source": [
    "df = pd.read_csv(DF_PREPROC_FILE).drop(columns=['Unnamed: 0'])\n",
    "df.head()"
   ]
  },
  {
   "cell_type": "code",
   "execution_count": 4,
   "metadata": {
    "ExecuteTime": {
     "end_time": "2023-06-25T16:50:56.230138Z",
     "start_time": "2023-06-25T16:50:55.179849Z"
    }
   },
   "outputs": [],
   "source": [
    "traces_dict = {}\n",
    "files = os.listdir(TS_PREPROC_FOLDER)\n",
    "\n",
    "# SORRY PAOLINO BUT I HAVE A CHICCO PC AND I CANNOT LOAD IT ALL\n",
    "\n",
    "# for file in files:\n",
    "\n",
    "#     if file.endswith('.npy'):\n",
    "#         file_path = os.path.join(TS_PREPROC_FOLDER, file)\n",
    "#         # dictionary keys are the file names\n",
    "#         key = os.path.splitext(file)[0]\n",
    "#         # load array\n",
    "#         traces_dict[key] = np.load(file_path, allow_pickle=True)\n",
    "\n",
    "# traces_dict.keys()\n",
    "\n",
    "file_path = os.path.join(TS_PREPROC_FOLDER, f\"{TRACES}.npy\")\n",
    "traces_dict[TRACES] = np.load(file_path, allow_pickle=True)\n"
   ]
  },
  {
   "cell_type": "code",
   "execution_count": 5,
   "metadata": {
    "ExecuteTime": {
     "end_time": "2023-06-25T16:50:56.230778Z",
     "start_time": "2023-06-25T16:50:56.229530Z"
    }
   },
   "outputs": [
    {
     "data": {
      "text/plain": [
       "(2452, 23, 23)"
      ]
     },
     "execution_count": 5,
     "metadata": {},
     "output_type": "execute_result"
    }
   ],
   "source": [
    "traces = traces_dict[TRACES]\n",
    "traces.shape"
   ]
  },
  {
   "cell_type": "code",
   "execution_count": 6,
   "metadata": {
    "ExecuteTime": {
     "end_time": "2023-06-25T16:50:56.395233Z",
     "start_time": "2023-06-25T16:50:56.230604Z"
    }
   },
   "outputs": [
    {
     "data": {
      "image/png": "[encoded data removed]",
      "text/plain": [
       "<Figure size 354.331x236.22 with 1 Axes>"
      ]
     },
     "metadata": {},
     "output_type": "display_data"
    }
   ],
   "source": [
    "index = 0\n",
    "statement = df['statement'][index]\n",
    "plt.plot(traces[index])\n",
    "plt.title(f'Time series at row #{index}, statement: {statement}')\n",
    "plt.show()"
   ]
  },
  {
   "cell_type": "code",
   "execution_count": 7,
   "metadata": {
    "ExecuteTime": {
     "end_time": "2023-06-25T16:50:56.405778Z",
     "start_time": "2023-06-25T16:50:56.394392Z"
    }
   },
   "outputs": [],
   "source": [
    "# sort by actors\n",
    "sorted_indices = df['actor'].argsort()\n",
    "df = df.iloc[sorted_indices].reset_index(drop=True)\n",
    "\n",
    "traces = traces[sorted_indices]\n",
    "\n",
    "# traces"
   ]
  },
  {
   "cell_type": "code",
   "execution_count": 8,
   "metadata": {
    "ExecuteTime": {
     "end_time": "2023-06-25T16:50:56.578540Z",
     "start_time": "2023-06-25T16:50:56.407787Z"
    }
   },
   "outputs": [
    {
     "data": {
      "text/plain": [
       "((1462, 23, 23), (366, 23, 23), (624, 23, 23), (1462,), (366,), (624,))"
      ]
     },
     "execution_count": 8,
     "metadata": {},
     "output_type": "execute_result"
    }
   ],
   "source": [
    "from sklearn.model_selection import train_test_split\n",
    "\n",
    "split_index = df[df['actor'] == 'actor_19'].index[0]\n",
    "\n",
    "X_train = traces[:split_index]\n",
    "X_test = traces[split_index:]\n",
    "\n",
    "y_train = df[TARGET][:split_index].to_numpy()\n",
    "y_test = df[TARGET][split_index:].to_numpy()\n",
    "\n",
    "X_train_v, X_valid, y_train_v, y_valid = train_test_split(X_train, y_train, test_size=0.2, random_state=100)\n",
    "\n",
    "X_train_v.shape, X_valid.shape, X_test.shape, y_train_v.shape, y_valid.shape, y_test.shape"
   ]
  },
  {
   "cell_type": "markdown",
   "metadata": {},
   "source": [
    "# CNN"
   ]
  },
  {
   "cell_type": "code",
   "execution_count": 9,
   "metadata": {
    "ExecuteTime": {
     "end_time": "2023-06-25T16:50:56.581291Z",
     "start_time": "2023-06-25T16:50:56.579016Z"
    }
   },
   "outputs": [
    {
     "data": {
      "text/plain": [
       "0"
      ]
     },
     "execution_count": 9,
     "metadata": {},
     "output_type": "execute_result"
    }
   ],
   "source": [
    "from sklearn.preprocessing import LabelEncoder\n",
    "\n",
    "label_encoder = LabelEncoder()\n",
    "\n",
    "y_train = label_encoder.fit_transform(y_train)\n",
    "y_train_v = label_encoder.transform(y_train_v)\n",
    "y_valid = label_encoder.transform(y_valid)\n",
    "y_test = label_encoder.transform(y_test)\n",
    "\n",
    "y_valid[0]"
   ]
  },
  {
   "cell_type": "code",
   "execution_count": 10,
   "metadata": {
    "ExecuteTime": {
     "end_time": "2023-06-25T16:50:56.586938Z",
     "start_time": "2023-06-25T16:50:56.584556Z"
    }
   },
   "outputs": [
    {
     "name": "stderr",
     "output_type": "stream",
     "text": [
      "2023-06-26 13:02:38.676059: I tensorflow/tsl/cuda/cudart_stub.cc:28] Could not find cuda drivers on your machine, GPU will not be used.\n",
      "2023-06-26 13:02:38.760466: I tensorflow/tsl/cuda/cudart_stub.cc:28] Could not find cuda drivers on your machine, GPU will not be used.\n",
      "2023-06-26 13:02:38.762233: I tensorflow/core/platform/cpu_feature_guard.cc:182] This TensorFlow binary is optimized to use available CPU instructions in performance-critical operations.\n",
      "To enable the following instructions: AVX2 FMA, in other operations, rebuild TensorFlow with the appropriate compiler flags.\n",
      "2023-06-26 13:02:40.357346: W tensorflow/compiler/tf2tensorrt/utils/py_utils.cc:38] TF-TRT Warning: Could not find TensorRT\n"
     ]
    }
   ],
   "source": [
    "import optuna\n",
    "from keras.layers import BatchNormalization, Activation\n",
    "from keras.models import Sequential\n",
    "from keras.layers import Dense, Conv1D, Dropout, GlobalAveragePooling1D\n",
    "from sklearn.metrics import accuracy_score\n",
    "\n",
    "def build_and_fit_cnn(X=X_train, y=y_train,\n",
    "                      n_conv=0, n_hidden=0, hidden_nodes=32,\n",
    "                      dropout=0.01, filters=8, kernel_size=5, batch_size=16,\n",
    "                      epochs=32, validation_split=0., verbose=False):\n",
    "\n",
    "    n_timesteps = X.shape[1]\n",
    "    n_outputs = len(np.unique(y))\n",
    "    n_features = X.shape[2]\n",
    "\n",
    "    model = Sequential()\n",
    "\n",
    "    model.add(Conv1D(filters=filters,\n",
    "                     kernel_size=kernel_size,\n",
    "                     activation='relu',\n",
    "                     input_shape=(n_timesteps, n_features),\n",
    "                     name=\"base_conv\"\n",
    "                     ))\n",
    "    model.add(BatchNormalization())\n",
    "    model.add(Activation('relu'))\n",
    "\n",
    "    for i in range(n_conv):\n",
    "        model.add(Conv1D(filters=filters, kernel_size=kernel_size, activation='relu', name=f\"extra_conv_{i}\"))\n",
    "        model.add(BatchNormalization())\n",
    "        model.add(Activation('relu'))\n",
    "\n",
    "        model.add(Dropout(dropout))\n",
    "\n",
    "    model.add(GlobalAveragePooling1D())\n",
    "\n",
    "    for i in range(n_hidden):\n",
    "        model.add(Dense(hidden_nodes, activation='relu'))\n",
    "\n",
    "    model.add(Dense(n_outputs, activation='softmax'))\n",
    "    model.compile(loss='sparse_categorical_crossentropy', optimizer='adam', metrics=['accuracy'])\n",
    "\n",
    "    model.fit(X, y, batch_size=batch_size, epochs=epochs, verbose=verbose, validation_split=validation_split)\n",
    "\n",
    "    return model"
   ]
  },
  {
   "cell_type": "code",
   "execution_count": 11,
   "metadata": {},
   "outputs": [
    {
     "name": "stdout",
     "output_type": "stream",
     "text": [
      "Epoch 1/8\n",
      "115/115 [==============================] - 5s 7ms/step - loss: 0.4842 - accuracy: 0.7659\n",
      "Epoch 2/8\n",
      "115/115 [==============================] - 1s 8ms/step - loss: 0.2378 - accuracy: 0.9081\n",
      "Epoch 3/8\n",
      "115/115 [==============================] - 1s 8ms/step - loss: 0.1819 - accuracy: 0.9316\n",
      "Epoch 4/8\n",
      "115/115 [==============================] - 1s 8ms/step - loss: 0.1454 - accuracy: 0.9475\n",
      "Epoch 5/8\n",
      "115/115 [==============================] - 1s 10ms/step - loss: 0.1236 - accuracy: 0.9562\n",
      "Epoch 6/8\n",
      "115/115 [==============================] - 1s 11ms/step - loss: 0.1125 - accuracy: 0.9551\n",
      "Epoch 7/8\n",
      "115/115 [==============================] - 1s 8ms/step - loss: 0.0948 - accuracy: 0.9655\n",
      "Epoch 8/8\n",
      "115/115 [==============================] - 1s 7ms/step - loss: 0.0908 - accuracy: 0.9710\n"
     ]
    }
   ],
   "source": [
    "# Test to check the accuracy of a \"belly\" network\n",
    "test_model = build_and_fit_cnn(n_conv=2, n_hidden=3, hidden_nodes=256, epochs=8, verbose=True)"
   ]
  },
  {
   "cell_type": "code",
   "execution_count": 12,
   "metadata": {
    "ExecuteTime": {
     "end_time": "2023-06-25T16:51:44.666535Z",
     "start_time": "2023-06-25T16:50:56.589413Z"
    }
   },
   "outputs": [
    {
     "name": "stderr",
     "output_type": "stream",
     "text": [
      "[I 2023-06-26 13:02:54,871] A new study created in memory with name: no-name-3308537d-492b-489a-b6c1-ca3c153a2b50\n"
     ]
    },
    {
     "name": "stdout",
     "output_type": "stream",
     "text": [
      "Running little bitch having n_conv=3, dropout=0.6777308541204436, hidden_nodes=244\n",
      "Running little bitch having n_conv=0, dropout=0.7196261746574508, hidden_nodes=65\n",
      "Running little bitch having n_conv=0, dropout=0.8262229236107901, hidden_nodes=30\n",
      "Running little bitch having n_conv=0, dropout=0.28464217181316875, hidden_nodes=212\n"
     ]
    },
    {
     "name": "stderr",
     "output_type": "stream",
     "text": [
      "[W 2023-06-26 13:02:55,477] Trial 0 failed with parameters: {'n_conv': 3, 'n_hidden': 0, 'hidden_nodes': 244, 'dropout': 0.6777308541204436, 'filters': 7, 'kernel_size': 12, 'batch_size': 55, 'epochs': 81} because of the following error: ValueError('One of the dimensions in the output is <= 0 due to downsampling in extra_conv_1. Consider increasing the input size. Received input shape [None, 1, 7] which would produce output shape with a zero or negative value in a dimension.').\n",
      "Traceback (most recent call last):\n",
      "  File \"/home/djanloo/.local/share/virtualenvs/DM2-PeqFRmfa/lib/python3.10/site-packages/optuna/study/_optimize.py\", line 200, in _run_trial\n",
      "    value_or_values = func(trial)\n",
      "  File \"/tmp/ipykernel_25375/4273198217.py\", line 15, in objective_fun\n",
      "    cnn = build_and_fit_cnn(X=X_train_v,\n",
      "  File \"/tmp/ipykernel_25375/2256047732.py\", line 28, in build_and_fit_cnn\n",
      "    model.add(Conv1D(filters=filters, kernel_size=kernel_size, activation='relu', name=f\"extra_conv_{i}\"))\n",
      "  File \"/home/djanloo/.local/share/virtualenvs/DM2-PeqFRmfa/lib/python3.10/site-packages/tensorflow/python/trackable/base.py\", line 205, in _method_wrapper\n",
      "    result = method(self, *args, **kwargs)\n",
      "  File \"/home/djanloo/.local/share/virtualenvs/DM2-PeqFRmfa/lib/python3.10/site-packages/keras/utils/traceback_utils.py\", line 70, in error_handler\n",
      "    raise e.with_traceback(filtered_tb) from None\n",
      "  File \"/home/djanloo/.local/share/virtualenvs/DM2-PeqFRmfa/lib/python3.10/site-packages/keras/layers/convolutional/base_conv.py\", line 354, in compute_output_shape\n",
      "    raise ValueError(\n",
      "ValueError: One of the dimensions in the output is <= 0 due to downsampling in extra_conv_1. Consider increasing the input size. Received input shape [None, 1, 7] which would produce output shape with a zero or negative value in a dimension.\n",
      "[W 2023-06-26 13:02:55,523] Trial 0 failed with value None.\n"
     ]
    },
    {
     "name": "stdout",
     "output_type": "stream",
     "text": [
      "Running little bitch having n_conv=1, dropout=0.02526260121223156, hidden_nodes=141\n"
     ]
    },
    {
     "name": "stderr",
     "output_type": "stream",
     "text": [
      "[W 2023-06-26 13:02:55,823] Trial 4 failed with parameters: {'n_conv': 1, 'n_hidden': 2, 'hidden_nodes': 141, 'dropout': 0.02526260121223156, 'filters': 3, 'kernel_size': 15, 'batch_size': 60, 'epochs': 36} because of the following error: ValueError('One of the dimensions in the output is <= 0 due to downsampling in extra_conv_0. Consider increasing the input size. Received input shape [None, 9, 3] which would produce output shape with a zero or negative value in a dimension.').\n",
      "Traceback (most recent call last):\n",
      "  File \"/home/djanloo/.local/share/virtualenvs/DM2-PeqFRmfa/lib/python3.10/site-packages/optuna/study/_optimize.py\", line 200, in _run_trial\n",
      "    value_or_values = func(trial)\n",
      "  File \"/tmp/ipykernel_25375/4273198217.py\", line 15, in objective_fun\n",
      "    cnn = build_and_fit_cnn(X=X_train_v,\n",
      "  File \"/tmp/ipykernel_25375/2256047732.py\", line 28, in build_and_fit_cnn\n",
      "    model.add(Conv1D(filters=filters, kernel_size=kernel_size, activation='relu', name=f\"extra_conv_{i}\"))\n",
      "  File \"/home/djanloo/.local/share/virtualenvs/DM2-PeqFRmfa/lib/python3.10/site-packages/tensorflow/python/trackable/base.py\", line 205, in _method_wrapper\n",
      "    result = method(self, *args, **kwargs)\n",
      "  File \"/home/djanloo/.local/share/virtualenvs/DM2-PeqFRmfa/lib/python3.10/site-packages/keras/utils/traceback_utils.py\", line 70, in error_handler\n",
      "    raise e.with_traceback(filtered_tb) from None\n",
      "  File \"/home/djanloo/.local/share/virtualenvs/DM2-PeqFRmfa/lib/python3.10/site-packages/keras/layers/convolutional/base_conv.py\", line 354, in compute_output_shape\n",
      "    raise ValueError(\n",
      "ValueError: One of the dimensions in the output is <= 0 due to downsampling in extra_conv_0. Consider increasing the input size. Received input shape [None, 9, 3] which would produce output shape with a zero or negative value in a dimension.\n",
      "[W 2023-06-26 13:02:55,839] Trial 4 failed with value None.\n"
     ]
    },
    {
     "name": "stdout",
     "output_type": "stream",
     "text": [
      "Running little bitch having n_conv=1, dropout=0.5026840403992158, hidden_nodes=130\n",
      "12/12 [==============================] - 1s 15ms/step\n"
     ]
    },
    {
     "name": "stderr",
     "output_type": "stream",
     "text": [
      "[I 2023-06-26 13:03:18,605] Trial 1 finished with value: 0.9836065573770492 and parameters: {'n_conv': 0, 'n_hidden': 2, 'hidden_nodes': 65, 'dropout': 0.7196261746574508, 'filters': 6, 'kernel_size': 12, 'batch_size': 22, 'epochs': 17}. Best is trial 1 with value: 0.9836065573770492.\n"
     ]
    },
    {
     "name": "stdout",
     "output_type": "stream",
     "text": [
      "Running little bitch having n_conv=0, dropout=0.03895960138289145, hidden_nodes=128\n",
      "12/12 [==============================] - 1s 12ms/step\n"
     ]
    },
    {
     "name": "stderr",
     "output_type": "stream",
     "text": [
      "[I 2023-06-26 13:03:31,277] Trial 3 finished with value: 0.9562841530054644 and parameters: {'n_conv': 0, 'n_hidden': 3, 'hidden_nodes': 212, 'dropout': 0.28464217181316875, 'filters': 15, 'kernel_size': 16, 'batch_size': 43, 'epochs': 56}. Best is trial 1 with value: 0.9836065573770492.\n"
     ]
    },
    {
     "name": "stdout",
     "output_type": "stream",
     "text": [
      "Running little bitch having n_conv=2, dropout=0.8315454375943376, hidden_nodes=52\n"
     ]
    },
    {
     "name": "stderr",
     "output_type": "stream",
     "text": [
      "[W 2023-06-26 13:03:31,546] Trial 7 failed with parameters: {'n_conv': 2, 'n_hidden': 2, 'hidden_nodes': 52, 'dropout': 0.8315454375943376, 'filters': 5, 'kernel_size': 16, 'batch_size': 58, 'epochs': 41} because of the following error: ValueError('One of the dimensions in the output is <= 0 due to downsampling in extra_conv_0. Consider increasing the input size. Received input shape [None, 8, 5] which would produce output shape with a zero or negative value in a dimension.').\n",
      "Traceback (most recent call last):\n",
      "  File \"/home/djanloo/.local/share/virtualenvs/DM2-PeqFRmfa/lib/python3.10/site-packages/optuna/study/_optimize.py\", line 200, in _run_trial\n",
      "    value_or_values = func(trial)\n",
      "  File \"/tmp/ipykernel_25375/4273198217.py\", line 15, in objective_fun\n",
      "    cnn = build_and_fit_cnn(X=X_train_v,\n",
      "  File \"/tmp/ipykernel_25375/2256047732.py\", line 28, in build_and_fit_cnn\n",
      "    model.add(Conv1D(filters=filters, kernel_size=kernel_size, activation='relu', name=f\"extra_conv_{i}\"))\n",
      "  File \"/home/djanloo/.local/share/virtualenvs/DM2-PeqFRmfa/lib/python3.10/site-packages/tensorflow/python/trackable/base.py\", line 205, in _method_wrapper\n",
      "    result = method(self, *args, **kwargs)\n",
      "  File \"/home/djanloo/.local/share/virtualenvs/DM2-PeqFRmfa/lib/python3.10/site-packages/keras/utils/traceback_utils.py\", line 70, in error_handler\n",
      "    raise e.with_traceback(filtered_tb) from None\n",
      "  File \"/home/djanloo/.local/share/virtualenvs/DM2-PeqFRmfa/lib/python3.10/site-packages/keras/layers/convolutional/base_conv.py\", line 354, in compute_output_shape\n",
      "    raise ValueError(\n",
      "ValueError: One of the dimensions in the output is <= 0 due to downsampling in extra_conv_0. Consider increasing the input size. Received input shape [None, 8, 5] which would produce output shape with a zero or negative value in a dimension.\n",
      "[W 2023-06-26 13:03:31,547] Trial 7 failed with value None.\n"
     ]
    },
    {
     "name": "stdout",
     "output_type": "stream",
     "text": [
      "Running little bitch having n_conv=1, dropout=0.8909211468914999, hidden_nodes=137\n"
     ]
    },
    {
     "name": "stderr",
     "output_type": "stream",
     "text": [
      "[W 2023-06-26 13:03:31,787] Trial 8 failed with parameters: {'n_conv': 1, 'n_hidden': 3, 'hidden_nodes': 137, 'dropout': 0.8909211468914999, 'filters': 7, 'kernel_size': 13, 'batch_size': 22, 'epochs': 63} because of the following error: ValueError('One of the dimensions in the output is <= 0 due to downsampling in extra_conv_0. Consider increasing the input size. Received input shape [None, 11, 7] which would produce output shape with a zero or negative value in a dimension.').\n",
      "Traceback (most recent call last):\n",
      "  File \"/home/djanloo/.local/share/virtualenvs/DM2-PeqFRmfa/lib/python3.10/site-packages/optuna/study/_optimize.py\", line 200, in _run_trial\n",
      "    value_or_values = func(trial)\n",
      "  File \"/tmp/ipykernel_25375/4273198217.py\", line 15, in objective_fun\n",
      "    cnn = build_and_fit_cnn(X=X_train_v,\n",
      "  File \"/tmp/ipykernel_25375/2256047732.py\", line 28, in build_and_fit_cnn\n",
      "    model.add(Conv1D(filters=filters, kernel_size=kernel_size, activation='relu', name=f\"extra_conv_{i}\"))\n",
      "  File \"/home/djanloo/.local/share/virtualenvs/DM2-PeqFRmfa/lib/python3.10/site-packages/tensorflow/python/trackable/base.py\", line 205, in _method_wrapper\n",
      "    result = method(self, *args, **kwargs)\n",
      "  File \"/home/djanloo/.local/share/virtualenvs/DM2-PeqFRmfa/lib/python3.10/site-packages/keras/utils/traceback_utils.py\", line 70, in error_handler\n",
      "    raise e.with_traceback(filtered_tb) from None\n",
      "  File \"/home/djanloo/.local/share/virtualenvs/DM2-PeqFRmfa/lib/python3.10/site-packages/keras/layers/convolutional/base_conv.py\", line 354, in compute_output_shape\n",
      "    raise ValueError(\n",
      "ValueError: One of the dimensions in the output is <= 0 due to downsampling in extra_conv_0. Consider increasing the input size. Received input shape [None, 11, 7] which would produce output shape with a zero or negative value in a dimension.\n",
      "[W 2023-06-26 13:03:31,793] Trial 8 failed with value None.\n"
     ]
    },
    {
     "name": "stdout",
     "output_type": "stream",
     "text": [
      "Running little bitch having n_conv=1, dropout=0.18657737506664185, hidden_nodes=170\n"
     ]
    },
    {
     "name": "stderr",
     "output_type": "stream",
     "text": [
      "[W 2023-06-26 13:03:32,094] Trial 9 failed with parameters: {'n_conv': 1, 'n_hidden': 3, 'hidden_nodes': 170, 'dropout': 0.18657737506664185, 'filters': 9, 'kernel_size': 13, 'batch_size': 55, 'epochs': 45} because of the following error: ValueError('One of the dimensions in the output is <= 0 due to downsampling in extra_conv_0. Consider increasing the input size. Received input shape [None, 11, 9] which would produce output shape with a zero or negative value in a dimension.').\n",
      "Traceback (most recent call last):\n",
      "  File \"/home/djanloo/.local/share/virtualenvs/DM2-PeqFRmfa/lib/python3.10/site-packages/optuna/study/_optimize.py\", line 200, in _run_trial\n",
      "    value_or_values = func(trial)\n",
      "  File \"/tmp/ipykernel_25375/4273198217.py\", line 15, in objective_fun\n",
      "    cnn = build_and_fit_cnn(X=X_train_v,\n",
      "  File \"/tmp/ipykernel_25375/2256047732.py\", line 28, in build_and_fit_cnn\n",
      "    model.add(Conv1D(filters=filters, kernel_size=kernel_size, activation='relu', name=f\"extra_conv_{i}\"))\n",
      "  File \"/home/djanloo/.local/share/virtualenvs/DM2-PeqFRmfa/lib/python3.10/site-packages/tensorflow/python/trackable/base.py\", line 205, in _method_wrapper\n",
      "    result = method(self, *args, **kwargs)\n",
      "  File \"/home/djanloo/.local/share/virtualenvs/DM2-PeqFRmfa/lib/python3.10/site-packages/keras/utils/traceback_utils.py\", line 70, in error_handler\n",
      "    raise e.with_traceback(filtered_tb) from None\n",
      "  File \"/home/djanloo/.local/share/virtualenvs/DM2-PeqFRmfa/lib/python3.10/site-packages/keras/layers/convolutional/base_conv.py\", line 354, in compute_output_shape\n",
      "    raise ValueError(\n",
      "ValueError: One of the dimensions in the output is <= 0 due to downsampling in extra_conv_0. Consider increasing the input size. Received input shape [None, 11, 9] which would produce output shape with a zero or negative value in a dimension.\n",
      "[W 2023-06-26 13:03:32,114] Trial 9 failed with value None.\n"
     ]
    },
    {
     "name": "stdout",
     "output_type": "stream",
     "text": [
      "Running little bitch having n_conv=3, dropout=0.6139122332589948, hidden_nodes=57\n",
      "12/12 [==============================] - 0s 6ms/step\n"
     ]
    },
    {
     "name": "stderr",
     "output_type": "stream",
     "text": [
      "[I 2023-06-26 13:03:37,735] Trial 6 finished with value: 0.9617486338797814 and parameters: {'n_conv': 0, 'n_hidden': 3, 'hidden_nodes': 128, 'dropout': 0.03895960138289145, 'filters': 5, 'kernel_size': 12, 'batch_size': 54, 'epochs': 26}. Best is trial 1 with value: 0.9836065573770492.\n"
     ]
    },
    {
     "name": "stdout",
     "output_type": "stream",
     "text": [
      "Running little bitch having n_conv=3, dropout=0.9939326676281257, hidden_nodes=193\n"
     ]
    },
    {
     "name": "stderr",
     "output_type": "stream",
     "text": [
      "[W 2023-06-26 13:03:38,078] Trial 11 failed with parameters: {'n_conv': 3, 'n_hidden': 0, 'hidden_nodes': 193, 'dropout': 0.9939326676281257, 'filters': 7, 'kernel_size': 12, 'batch_size': 63, 'epochs': 19} because of the following error: ValueError('One of the dimensions in the output is <= 0 due to downsampling in extra_conv_1. Consider increasing the input size. Received input shape [None, 1, 7] which would produce output shape with a zero or negative value in a dimension.').\n",
      "Traceback (most recent call last):\n",
      "  File \"/home/djanloo/.local/share/virtualenvs/DM2-PeqFRmfa/lib/python3.10/site-packages/optuna/study/_optimize.py\", line 200, in _run_trial\n",
      "    value_or_values = func(trial)\n",
      "  File \"/tmp/ipykernel_25375/4273198217.py\", line 15, in objective_fun\n",
      "    cnn = build_and_fit_cnn(X=X_train_v,\n",
      "  File \"/tmp/ipykernel_25375/2256047732.py\", line 28, in build_and_fit_cnn\n",
      "    model.add(Conv1D(filters=filters, kernel_size=kernel_size, activation='relu', name=f\"extra_conv_{i}\"))\n",
      "  File \"/home/djanloo/.local/share/virtualenvs/DM2-PeqFRmfa/lib/python3.10/site-packages/tensorflow/python/trackable/base.py\", line 205, in _method_wrapper\n",
      "    result = method(self, *args, **kwargs)\n",
      "  File \"/home/djanloo/.local/share/virtualenvs/DM2-PeqFRmfa/lib/python3.10/site-packages/keras/utils/traceback_utils.py\", line 70, in error_handler\n",
      "    raise e.with_traceback(filtered_tb) from None\n",
      "  File \"/home/djanloo/.local/share/virtualenvs/DM2-PeqFRmfa/lib/python3.10/site-packages/keras/layers/convolutional/base_conv.py\", line 354, in compute_output_shape\n",
      "    raise ValueError(\n",
      "ValueError: One of the dimensions in the output is <= 0 due to downsampling in extra_conv_1. Consider increasing the input size. Received input shape [None, 1, 7] which would produce output shape with a zero or negative value in a dimension.\n",
      "[W 2023-06-26 13:03:38,083] Trial 11 failed with value None.\n"
     ]
    },
    {
     "name": "stdout",
     "output_type": "stream",
     "text": [
      "Running little bitch having n_conv=1, dropout=0.3437490685450034, hidden_nodes=69\n",
      "12/12 [==============================] - 1s 6ms/step\n"
     ]
    },
    {
     "name": "stderr",
     "output_type": "stream",
     "text": [
      "[I 2023-06-26 13:03:43,304] Trial 5 finished with value: 0.9672131147540983 and parameters: {'n_conv': 1, 'n_hidden': 0, 'hidden_nodes': 130, 'dropout': 0.5026840403992158, 'filters': 6, 'kernel_size': 6, 'batch_size': 36, 'epochs': 85}. Best is trial 1 with value: 0.9836065573770492.\n"
     ]
    },
    {
     "name": "stdout",
     "output_type": "stream",
     "text": [
      "Running little bitch having n_conv=1, dropout=0.789625402799694, hidden_nodes=152\n",
      "12/12 [==============================] - 1s 5ms/step\n"
     ]
    },
    {
     "name": "stderr",
     "output_type": "stream",
     "text": [
      "[I 2023-06-26 13:03:48,258] Trial 2 finished with value: 0.9781420765027322 and parameters: {'n_conv': 0, 'n_hidden': 3, 'hidden_nodes': 30, 'dropout': 0.8262229236107901, 'filters': 3, 'kernel_size': 15, 'batch_size': 36, 'epochs': 66}. Best is trial 1 with value: 0.9836065573770492.\n"
     ]
    },
    {
     "name": "stdout",
     "output_type": "stream",
     "text": [
      "Running little bitch having n_conv=2, dropout=0.18057921765225426, hidden_nodes=185\n"
     ]
    },
    {
     "name": "stderr",
     "output_type": "stream",
     "text": [
      "[W 2023-06-26 13:03:48,552] Trial 14 failed with parameters: {'n_conv': 2, 'n_hidden': 3, 'hidden_nodes': 185, 'dropout': 0.18057921765225426, 'filters': 8, 'kernel_size': 16, 'batch_size': 31, 'epochs': 13} because of the following error: ValueError('One of the dimensions in the output is <= 0 due to downsampling in extra_conv_0. Consider increasing the input size. Received input shape [None, 8, 8] which would produce output shape with a zero or negative value in a dimension.').\n",
      "Traceback (most recent call last):\n",
      "  File \"/home/djanloo/.local/share/virtualenvs/DM2-PeqFRmfa/lib/python3.10/site-packages/optuna/study/_optimize.py\", line 200, in _run_trial\n",
      "    value_or_values = func(trial)\n",
      "  File \"/tmp/ipykernel_25375/4273198217.py\", line 15, in objective_fun\n",
      "    cnn = build_and_fit_cnn(X=X_train_v,\n",
      "  File \"/tmp/ipykernel_25375/2256047732.py\", line 28, in build_and_fit_cnn\n",
      "    model.add(Conv1D(filters=filters, kernel_size=kernel_size, activation='relu', name=f\"extra_conv_{i}\"))\n",
      "  File \"/home/djanloo/.local/share/virtualenvs/DM2-PeqFRmfa/lib/python3.10/site-packages/tensorflow/python/trackable/base.py\", line 205, in _method_wrapper\n",
      "    result = method(self, *args, **kwargs)\n",
      "  File \"/home/djanloo/.local/share/virtualenvs/DM2-PeqFRmfa/lib/python3.10/site-packages/keras/utils/traceback_utils.py\", line 70, in error_handler\n",
      "    raise e.with_traceback(filtered_tb) from None\n",
      "  File \"/home/djanloo/.local/share/virtualenvs/DM2-PeqFRmfa/lib/python3.10/site-packages/keras/layers/convolutional/base_conv.py\", line 354, in compute_output_shape\n",
      "    raise ValueError(\n",
      "ValueError: One of the dimensions in the output is <= 0 due to downsampling in extra_conv_0. Consider increasing the input size. Received input shape [None, 8, 8] which would produce output shape with a zero or negative value in a dimension.\n",
      "[W 2023-06-26 13:03:48,558] Trial 14 failed with value None.\n"
     ]
    },
    {
     "name": "stdout",
     "output_type": "stream",
     "text": [
      "Running little bitch having n_conv=2, dropout=0.7733303891773246, hidden_nodes=162\n"
     ]
    },
    {
     "name": "stderr",
     "output_type": "stream",
     "text": [
      "[W 2023-06-26 13:03:48,862] Trial 15 failed with parameters: {'n_conv': 2, 'n_hidden': 1, 'hidden_nodes': 162, 'dropout': 0.7733303891773246, 'filters': 16, 'kernel_size': 13, 'batch_size': 40, 'epochs': 44} because of the following error: ValueError('One of the dimensions in the output is <= 0 due to downsampling in extra_conv_0. Consider increasing the input size. Received input shape [None, 11, 16] which would produce output shape with a zero or negative value in a dimension.').\n",
      "Traceback (most recent call last):\n",
      "  File \"/home/djanloo/.local/share/virtualenvs/DM2-PeqFRmfa/lib/python3.10/site-packages/optuna/study/_optimize.py\", line 200, in _run_trial\n",
      "    value_or_values = func(trial)\n",
      "  File \"/tmp/ipykernel_25375/4273198217.py\", line 15, in objective_fun\n",
      "    cnn = build_and_fit_cnn(X=X_train_v,\n",
      "  File \"/tmp/ipykernel_25375/2256047732.py\", line 28, in build_and_fit_cnn\n",
      "    model.add(Conv1D(filters=filters, kernel_size=kernel_size, activation='relu', name=f\"extra_conv_{i}\"))\n",
      "  File \"/home/djanloo/.local/share/virtualenvs/DM2-PeqFRmfa/lib/python3.10/site-packages/tensorflow/python/trackable/base.py\", line 205, in _method_wrapper\n",
      "    result = method(self, *args, **kwargs)\n",
      "  File \"/home/djanloo/.local/share/virtualenvs/DM2-PeqFRmfa/lib/python3.10/site-packages/keras/utils/traceback_utils.py\", line 70, in error_handler\n",
      "    raise e.with_traceback(filtered_tb) from None\n",
      "  File \"/home/djanloo/.local/share/virtualenvs/DM2-PeqFRmfa/lib/python3.10/site-packages/keras/layers/convolutional/base_conv.py\", line 354, in compute_output_shape\n",
      "    raise ValueError(\n",
      "ValueError: One of the dimensions in the output is <= 0 due to downsampling in extra_conv_0. Consider increasing the input size. Received input shape [None, 11, 16] which would produce output shape with a zero or negative value in a dimension.\n",
      "[W 2023-06-26 13:03:48,885] Trial 15 failed with value None.\n"
     ]
    },
    {
     "name": "stdout",
     "output_type": "stream",
     "text": [
      "Running little bitch having n_conv=0, dropout=0.752200505285764, hidden_nodes=248\n",
      "12/12 [==============================] - 1s 8ms/step\n",
      "12/12 [==============================] - 1s 10ms/step\n"
     ]
    },
    {
     "name": "stderr",
     "output_type": "stream",
     "text": [
      "[I 2023-06-26 13:03:59,910] Trial 10 finished with value: 0.9207650273224044 and parameters: {'n_conv': 3, 'n_hidden': 2, 'hidden_nodes': 57, 'dropout': 0.6139122332589948, 'filters': 7, 'kernel_size': 4, 'batch_size': 62, 'epochs': 24}. Best is trial 1 with value: 0.9836065573770492.\n"
     ]
    },
    {
     "name": "stdout",
     "output_type": "stream",
     "text": [
      "Running little bitch having n_conv=1, dropout=0.45317057896810975, hidden_nodes=175\n"
     ]
    },
    {
     "name": "stderr",
     "output_type": "stream",
     "text": [
      "[I 2023-06-26 13:04:00,051] Trial 12 finished with value: 0.9726775956284153 and parameters: {'n_conv': 1, 'n_hidden': 2, 'hidden_nodes': 69, 'dropout': 0.3437490685450034, 'filters': 6, 'kernel_size': 6, 'batch_size': 41, 'epochs': 29}. Best is trial 1 with value: 0.9836065573770492.\n"
     ]
    },
    {
     "name": "stdout",
     "output_type": "stream",
     "text": [
      "Running little bitch having n_conv=1, dropout=0.1698432404760306, hidden_nodes=73\n"
     ]
    },
    {
     "name": "stderr",
     "output_type": "stream",
     "text": [
      "[W 2023-06-26 13:04:00,331] Trial 18 failed with parameters: {'n_conv': 1, 'n_hidden': 3, 'hidden_nodes': 73, 'dropout': 0.1698432404760306, 'filters': 14, 'kernel_size': 15, 'batch_size': 30, 'epochs': 18} because of the following error: ValueError('One of the dimensions in the output is <= 0 due to downsampling in extra_conv_0. Consider increasing the input size. Received input shape [None, 9, 14] which would produce output shape with a zero or negative value in a dimension.').\n",
      "Traceback (most recent call last):\n",
      "  File \"/home/djanloo/.local/share/virtualenvs/DM2-PeqFRmfa/lib/python3.10/site-packages/optuna/study/_optimize.py\", line 200, in _run_trial\n",
      "    value_or_values = func(trial)\n",
      "  File \"/tmp/ipykernel_25375/4273198217.py\", line 15, in objective_fun\n",
      "    cnn = build_and_fit_cnn(X=X_train_v,\n",
      "  File \"/tmp/ipykernel_25375/2256047732.py\", line 28, in build_and_fit_cnn\n",
      "    model.add(Conv1D(filters=filters, kernel_size=kernel_size, activation='relu', name=f\"extra_conv_{i}\"))\n",
      "  File \"/home/djanloo/.local/share/virtualenvs/DM2-PeqFRmfa/lib/python3.10/site-packages/tensorflow/python/trackable/base.py\", line 205, in _method_wrapper\n",
      "    result = method(self, *args, **kwargs)\n",
      "  File \"/home/djanloo/.local/share/virtualenvs/DM2-PeqFRmfa/lib/python3.10/site-packages/keras/utils/traceback_utils.py\", line 70, in error_handler\n",
      "    raise e.with_traceback(filtered_tb) from None\n",
      "  File \"/home/djanloo/.local/share/virtualenvs/DM2-PeqFRmfa/lib/python3.10/site-packages/keras/layers/convolutional/base_conv.py\", line 354, in compute_output_shape\n",
      "    raise ValueError(\n",
      "ValueError: One of the dimensions in the output is <= 0 due to downsampling in extra_conv_0. Consider increasing the input size. Received input shape [None, 9, 14] which would produce output shape with a zero or negative value in a dimension.\n",
      "[W 2023-06-26 13:04:00,345] Trial 18 failed with value None.\n"
     ]
    },
    {
     "name": "stdout",
     "output_type": "stream",
     "text": [
      "Running little bitch having n_conv=3, dropout=0.8429364788840755, hidden_nodes=234\n",
      "12/12 [==============================] - 0s 6ms/step\n"
     ]
    },
    {
     "name": "stderr",
     "output_type": "stream",
     "text": [
      "[I 2023-06-26 13:04:22,449] Trial 17 finished with value: 0.9016393442622951 and parameters: {'n_conv': 1, 'n_hidden': 1, 'hidden_nodes': 175, 'dropout': 0.45317057896810975, 'filters': 3, 'kernel_size': 3, 'batch_size': 55, 'epochs': 31}. Best is trial 1 with value: 0.9836065573770492.\n"
     ]
    },
    {
     "name": "stdout",
     "output_type": "stream",
     "text": [
      "Running little bitch having n_conv=2, dropout=0.10845745156615938, hidden_nodes=14\n",
      "12/12 [==============================] - 1s 9ms/step\n"
     ]
    },
    {
     "name": "stderr",
     "output_type": "stream",
     "text": [
      "[I 2023-06-26 13:04:35,558] Trial 13 finished with value: 0.9781420765027322 and parameters: {'n_conv': 1, 'n_hidden': 3, 'hidden_nodes': 152, 'dropout': 0.789625402799694, 'filters': 6, 'kernel_size': 6, 'batch_size': 39, 'epochs': 60}. Best is trial 1 with value: 0.9836065573770492.\n"
     ]
    },
    {
     "name": "stdout",
     "output_type": "stream",
     "text": [
      "Running little bitch having n_conv=3, dropout=0.646859298330417, hidden_nodes=124\n",
      "12/12 [==============================] - 1s 17ms/step\n"
     ]
    },
    {
     "name": "stderr",
     "output_type": "stream",
     "text": [
      "[I 2023-06-26 13:04:46,518] Trial 16 finished with value: 0.9890710382513661 and parameters: {'n_conv': 0, 'n_hidden': 1, 'hidden_nodes': 248, 'dropout': 0.752200505285764, 'filters': 8, 'kernel_size': 14, 'batch_size': 19, 'epochs': 75}. Best is trial 16 with value: 0.9890710382513661.\n"
     ]
    },
    {
     "name": "stdout",
     "output_type": "stream",
     "text": [
      "Running little bitch having n_conv=3, dropout=0.9808399770803508, hidden_nodes=256\n"
     ]
    },
    {
     "name": "stderr",
     "output_type": "stream",
     "text": [
      "[W 2023-06-26 13:04:47,677] Trial 22 failed with parameters: {'n_conv': 3, 'n_hidden': 0, 'hidden_nodes': 256, 'dropout': 0.9808399770803508, 'filters': 11, 'kernel_size': 11, 'batch_size': 16, 'epochs': 90} because of the following error: ValueError('One of the dimensions in the output is <= 0 due to downsampling in extra_conv_1. Consider increasing the input size. Received input shape [None, 3, 11] which would produce output shape with a zero or negative value in a dimension.').\n",
      "Traceback (most recent call last):\n",
      "  File \"/home/djanloo/.local/share/virtualenvs/DM2-PeqFRmfa/lib/python3.10/site-packages/optuna/study/_optimize.py\", line 200, in _run_trial\n",
      "    value_or_values = func(trial)\n",
      "  File \"/tmp/ipykernel_25375/4273198217.py\", line 15, in objective_fun\n",
      "    cnn = build_and_fit_cnn(X=X_train_v,\n",
      "  File \"/tmp/ipykernel_25375/2256047732.py\", line 28, in build_and_fit_cnn\n",
      "    model.add(Conv1D(filters=filters, kernel_size=kernel_size, activation='relu', name=f\"extra_conv_{i}\"))\n",
      "  File \"/home/djanloo/.local/share/virtualenvs/DM2-PeqFRmfa/lib/python3.10/site-packages/tensorflow/python/trackable/base.py\", line 205, in _method_wrapper\n",
      "    result = method(self, *args, **kwargs)\n",
      "  File \"/home/djanloo/.local/share/virtualenvs/DM2-PeqFRmfa/lib/python3.10/site-packages/keras/utils/traceback_utils.py\", line 70, in error_handler\n",
      "    raise e.with_traceback(filtered_tb) from None\n",
      "  File \"/home/djanloo/.local/share/virtualenvs/DM2-PeqFRmfa/lib/python3.10/site-packages/keras/layers/convolutional/base_conv.py\", line 354, in compute_output_shape\n",
      "    raise ValueError(\n",
      "ValueError: One of the dimensions in the output is <= 0 due to downsampling in extra_conv_1. Consider increasing the input size. Received input shape [None, 3, 11] which would produce output shape with a zero or negative value in a dimension.\n",
      "[W 2023-06-26 13:04:47,696] Trial 22 failed with value None.\n"
     ]
    },
    {
     "name": "stdout",
     "output_type": "stream",
     "text": [
      "Running little bitch having n_conv=3, dropout=0.9998112185146255, hidden_nodes=255\n"
     ]
    },
    {
     "name": "stderr",
     "output_type": "stream",
     "text": [
      "[W 2023-06-26 13:04:48,935] Trial 23 failed with parameters: {'n_conv': 3, 'n_hidden': 0, 'hidden_nodes': 255, 'dropout': 0.9998112185146255, 'filters': 11, 'kernel_size': 11, 'batch_size': 16, 'epochs': 90} because of the following error: ValueError('One of the dimensions in the output is <= 0 due to downsampling in extra_conv_1. Consider increasing the input size. Received input shape [None, 3, 11] which would produce output shape with a zero or negative value in a dimension.').\n",
      "Traceback (most recent call last):\n",
      "  File \"/home/djanloo/.local/share/virtualenvs/DM2-PeqFRmfa/lib/python3.10/site-packages/optuna/study/_optimize.py\", line 200, in _run_trial\n",
      "    value_or_values = func(trial)\n",
      "  File \"/tmp/ipykernel_25375/4273198217.py\", line 15, in objective_fun\n",
      "    cnn = build_and_fit_cnn(X=X_train_v,\n",
      "  File \"/tmp/ipykernel_25375/2256047732.py\", line 28, in build_and_fit_cnn\n",
      "    model.add(Conv1D(filters=filters, kernel_size=kernel_size, activation='relu', name=f\"extra_conv_{i}\"))\n",
      "  File \"/home/djanloo/.local/share/virtualenvs/DM2-PeqFRmfa/lib/python3.10/site-packages/tensorflow/python/trackable/base.py\", line 205, in _method_wrapper\n",
      "    result = method(self, *args, **kwargs)\n",
      "  File \"/home/djanloo/.local/share/virtualenvs/DM2-PeqFRmfa/lib/python3.10/site-packages/keras/utils/traceback_utils.py\", line 70, in error_handler\n",
      "    raise e.with_traceback(filtered_tb) from None\n",
      "  File \"/home/djanloo/.local/share/virtualenvs/DM2-PeqFRmfa/lib/python3.10/site-packages/keras/layers/convolutional/base_conv.py\", line 354, in compute_output_shape\n",
      "    raise ValueError(\n",
      "ValueError: One of the dimensions in the output is <= 0 due to downsampling in extra_conv_1. Consider increasing the input size. Received input shape [None, 3, 11] which would produce output shape with a zero or negative value in a dimension.\n",
      "[W 2023-06-26 13:04:48,938] Trial 23 failed with value None.\n"
     ]
    },
    {
     "name": "stdout",
     "output_type": "stream",
     "text": [
      "Running little bitch having n_conv=3, dropout=0.9264339110903295, hidden_nodes=249\n"
     ]
    },
    {
     "name": "stderr",
     "output_type": "stream",
     "text": [
      "[W 2023-06-26 13:04:51,114] Trial 24 failed with parameters: {'n_conv': 3, 'n_hidden': 0, 'hidden_nodes': 249, 'dropout': 0.9264339110903295, 'filters': 11, 'kernel_size': 11, 'batch_size': 18, 'epochs': 88} because of the following error: ValueError('One of the dimensions in the output is <= 0 due to downsampling in extra_conv_1. Consider increasing the input size. Received input shape [None, 3, 11] which would produce output shape with a zero or negative value in a dimension.').\n",
      "Traceback (most recent call last):\n",
      "  File \"/home/djanloo/.local/share/virtualenvs/DM2-PeqFRmfa/lib/python3.10/site-packages/optuna/study/_optimize.py\", line 200, in _run_trial\n",
      "    value_or_values = func(trial)\n",
      "  File \"/tmp/ipykernel_25375/4273198217.py\", line 15, in objective_fun\n",
      "    cnn = build_and_fit_cnn(X=X_train_v,\n",
      "  File \"/tmp/ipykernel_25375/2256047732.py\", line 28, in build_and_fit_cnn\n",
      "    model.add(Conv1D(filters=filters, kernel_size=kernel_size, activation='relu', name=f\"extra_conv_{i}\"))\n",
      "  File \"/home/djanloo/.local/share/virtualenvs/DM2-PeqFRmfa/lib/python3.10/site-packages/tensorflow/python/trackable/base.py\", line 205, in _method_wrapper\n",
      "    result = method(self, *args, **kwargs)\n",
      "  File \"/home/djanloo/.local/share/virtualenvs/DM2-PeqFRmfa/lib/python3.10/site-packages/keras/utils/traceback_utils.py\", line 70, in error_handler\n",
      "    raise e.with_traceback(filtered_tb) from None\n",
      "  File \"/home/djanloo/.local/share/virtualenvs/DM2-PeqFRmfa/lib/python3.10/site-packages/keras/layers/convolutional/base_conv.py\", line 354, in compute_output_shape\n",
      "    raise ValueError(\n",
      "ValueError: One of the dimensions in the output is <= 0 due to downsampling in extra_conv_1. Consider increasing the input size. Received input shape [None, 3, 11] which would produce output shape with a zero or negative value in a dimension.\n",
      "[W 2023-06-26 13:04:51,146] Trial 24 failed with value None.\n"
     ]
    },
    {
     "name": "stdout",
     "output_type": "stream",
     "text": [
      "Running little bitch having n_conv=3, dropout=0.946636263595733, hidden_nodes=256\n"
     ]
    },
    {
     "name": "stderr",
     "output_type": "stream",
     "text": [
      "[W 2023-06-26 13:04:52,345] Trial 25 failed with parameters: {'n_conv': 3, 'n_hidden': 0, 'hidden_nodes': 256, 'dropout': 0.946636263595733, 'filters': 11, 'kernel_size': 11, 'batch_size': 16, 'epochs': 90} because of the following error: ValueError('One of the dimensions in the output is <= 0 due to downsampling in extra_conv_1. Consider increasing the input size. Received input shape [None, 3, 11] which would produce output shape with a zero or negative value in a dimension.').\n",
      "Traceback (most recent call last):\n",
      "  File \"/home/djanloo/.local/share/virtualenvs/DM2-PeqFRmfa/lib/python3.10/site-packages/optuna/study/_optimize.py\", line 200, in _run_trial\n",
      "    value_or_values = func(trial)\n",
      "  File \"/tmp/ipykernel_25375/4273198217.py\", line 15, in objective_fun\n",
      "    cnn = build_and_fit_cnn(X=X_train_v,\n",
      "  File \"/tmp/ipykernel_25375/2256047732.py\", line 28, in build_and_fit_cnn\n",
      "    model.add(Conv1D(filters=filters, kernel_size=kernel_size, activation='relu', name=f\"extra_conv_{i}\"))\n",
      "  File \"/home/djanloo/.local/share/virtualenvs/DM2-PeqFRmfa/lib/python3.10/site-packages/tensorflow/python/trackable/base.py\", line 205, in _method_wrapper\n",
      "    result = method(self, *args, **kwargs)\n",
      "  File \"/home/djanloo/.local/share/virtualenvs/DM2-PeqFRmfa/lib/python3.10/site-packages/keras/utils/traceback_utils.py\", line 70, in error_handler\n",
      "    raise e.with_traceback(filtered_tb) from None\n",
      "  File \"/home/djanloo/.local/share/virtualenvs/DM2-PeqFRmfa/lib/python3.10/site-packages/keras/layers/convolutional/base_conv.py\", line 354, in compute_output_shape\n",
      "    raise ValueError(\n",
      "ValueError: One of the dimensions in the output is <= 0 due to downsampling in extra_conv_1. Consider increasing the input size. Received input shape [None, 3, 11] which would produce output shape with a zero or negative value in a dimension.\n",
      "[W 2023-06-26 13:04:52,358] Trial 25 failed with value None.\n"
     ]
    },
    {
     "name": "stdout",
     "output_type": "stream",
     "text": [
      "Running little bitch having n_conv=3, dropout=0.9736808146466526, hidden_nodes=253\n"
     ]
    },
    {
     "name": "stderr",
     "output_type": "stream",
     "text": [
      "[W 2023-06-26 13:04:53,083] Trial 26 failed with parameters: {'n_conv': 3, 'n_hidden': 0, 'hidden_nodes': 253, 'dropout': 0.9736808146466526, 'filters': 11, 'kernel_size': 11, 'batch_size': 16, 'epochs': 90} because of the following error: ValueError('One of the dimensions in the output is <= 0 due to downsampling in extra_conv_1. Consider increasing the input size. Received input shape [None, 3, 11] which would produce output shape with a zero or negative value in a dimension.').\n",
      "Traceback (most recent call last):\n",
      "  File \"/home/djanloo/.local/share/virtualenvs/DM2-PeqFRmfa/lib/python3.10/site-packages/optuna/study/_optimize.py\", line 200, in _run_trial\n",
      "    value_or_values = func(trial)\n",
      "  File \"/tmp/ipykernel_25375/4273198217.py\", line 15, in objective_fun\n",
      "    cnn = build_and_fit_cnn(X=X_train_v,\n",
      "  File \"/tmp/ipykernel_25375/2256047732.py\", line 28, in build_and_fit_cnn\n",
      "    model.add(Conv1D(filters=filters, kernel_size=kernel_size, activation='relu', name=f\"extra_conv_{i}\"))\n",
      "  File \"/home/djanloo/.local/share/virtualenvs/DM2-PeqFRmfa/lib/python3.10/site-packages/tensorflow/python/trackable/base.py\", line 205, in _method_wrapper\n",
      "    result = method(self, *args, **kwargs)\n",
      "  File \"/home/djanloo/.local/share/virtualenvs/DM2-PeqFRmfa/lib/python3.10/site-packages/keras/utils/traceback_utils.py\", line 70, in error_handler\n",
      "    raise e.with_traceback(filtered_tb) from None\n",
      "  File \"/home/djanloo/.local/share/virtualenvs/DM2-PeqFRmfa/lib/python3.10/site-packages/keras/layers/convolutional/base_conv.py\", line 354, in compute_output_shape\n",
      "    raise ValueError(\n",
      "ValueError: One of the dimensions in the output is <= 0 due to downsampling in extra_conv_1. Consider increasing the input size. Received input shape [None, 3, 11] which would produce output shape with a zero or negative value in a dimension.\n",
      "[W 2023-06-26 13:04:53,094] Trial 26 failed with value None.\n"
     ]
    },
    {
     "name": "stdout",
     "output_type": "stream",
     "text": [
      "Running little bitch having n_conv=3, dropout=0.9135041532348396, hidden_nodes=250\n"
     ]
    },
    {
     "name": "stderr",
     "output_type": "stream",
     "text": [
      "[W 2023-06-26 13:04:53,653] Trial 27 failed with parameters: {'n_conv': 3, 'n_hidden': 0, 'hidden_nodes': 250, 'dropout': 0.9135041532348396, 'filters': 11, 'kernel_size': 11, 'batch_size': 16, 'epochs': 89} because of the following error: ValueError('One of the dimensions in the output is <= 0 due to downsampling in extra_conv_1. Consider increasing the input size. Received input shape [None, 3, 11] which would produce output shape with a zero or negative value in a dimension.').\n",
      "Traceback (most recent call last):\n",
      "  File \"/home/djanloo/.local/share/virtualenvs/DM2-PeqFRmfa/lib/python3.10/site-packages/optuna/study/_optimize.py\", line 200, in _run_trial\n",
      "    value_or_values = func(trial)\n",
      "  File \"/tmp/ipykernel_25375/4273198217.py\", line 15, in objective_fun\n",
      "    cnn = build_and_fit_cnn(X=X_train_v,\n",
      "  File \"/tmp/ipykernel_25375/2256047732.py\", line 28, in build_and_fit_cnn\n",
      "    model.add(Conv1D(filters=filters, kernel_size=kernel_size, activation='relu', name=f\"extra_conv_{i}\"))\n",
      "  File \"/home/djanloo/.local/share/virtualenvs/DM2-PeqFRmfa/lib/python3.10/site-packages/tensorflow/python/trackable/base.py\", line 205, in _method_wrapper\n",
      "    result = method(self, *args, **kwargs)\n",
      "  File \"/home/djanloo/.local/share/virtualenvs/DM2-PeqFRmfa/lib/python3.10/site-packages/keras/utils/traceback_utils.py\", line 70, in error_handler\n",
      "    raise e.with_traceback(filtered_tb) from None\n",
      "  File \"/home/djanloo/.local/share/virtualenvs/DM2-PeqFRmfa/lib/python3.10/site-packages/keras/layers/convolutional/base_conv.py\", line 354, in compute_output_shape\n",
      "    raise ValueError(\n",
      "ValueError: One of the dimensions in the output is <= 0 due to downsampling in extra_conv_1. Consider increasing the input size. Received input shape [None, 3, 11] which would produce output shape with a zero or negative value in a dimension.\n",
      "[W 2023-06-26 13:04:53,670] Trial 27 failed with value None.\n"
     ]
    },
    {
     "name": "stdout",
     "output_type": "stream",
     "text": [
      "Running little bitch having n_conv=3, dropout=0.9184418171970219, hidden_nodes=255\n"
     ]
    },
    {
     "name": "stderr",
     "output_type": "stream",
     "text": [
      "[W 2023-06-26 13:04:54,296] Trial 28 failed with parameters: {'n_conv': 3, 'n_hidden': 0, 'hidden_nodes': 255, 'dropout': 0.9184418171970219, 'filters': 11, 'kernel_size': 11, 'batch_size': 18, 'epochs': 88} because of the following error: ValueError('One of the dimensions in the output is <= 0 due to downsampling in extra_conv_1. Consider increasing the input size. Received input shape [None, 3, 11] which would produce output shape with a zero or negative value in a dimension.').\n",
      "Traceback (most recent call last):\n",
      "  File \"/home/djanloo/.local/share/virtualenvs/DM2-PeqFRmfa/lib/python3.10/site-packages/optuna/study/_optimize.py\", line 200, in _run_trial\n",
      "    value_or_values = func(trial)\n",
      "  File \"/tmp/ipykernel_25375/4273198217.py\", line 15, in objective_fun\n",
      "    cnn = build_and_fit_cnn(X=X_train_v,\n",
      "  File \"/tmp/ipykernel_25375/2256047732.py\", line 28, in build_and_fit_cnn\n",
      "    model.add(Conv1D(filters=filters, kernel_size=kernel_size, activation='relu', name=f\"extra_conv_{i}\"))\n",
      "  File \"/home/djanloo/.local/share/virtualenvs/DM2-PeqFRmfa/lib/python3.10/site-packages/tensorflow/python/trackable/base.py\", line 205, in _method_wrapper\n",
      "    result = method(self, *args, **kwargs)\n",
      "  File \"/home/djanloo/.local/share/virtualenvs/DM2-PeqFRmfa/lib/python3.10/site-packages/keras/utils/traceback_utils.py\", line 70, in error_handler\n",
      "    raise e.with_traceback(filtered_tb) from None\n",
      "  File \"/home/djanloo/.local/share/virtualenvs/DM2-PeqFRmfa/lib/python3.10/site-packages/keras/layers/convolutional/base_conv.py\", line 354, in compute_output_shape\n",
      "    raise ValueError(\n",
      "ValueError: One of the dimensions in the output is <= 0 due to downsampling in extra_conv_1. Consider increasing the input size. Received input shape [None, 3, 11] which would produce output shape with a zero or negative value in a dimension.\n",
      "[W 2023-06-26 13:04:54,308] Trial 28 failed with value None.\n"
     ]
    },
    {
     "name": "stdout",
     "output_type": "stream",
     "text": [
      "Running little bitch having n_conv=3, dropout=0.9557768186232769, hidden_nodes=248\n"
     ]
    },
    {
     "name": "stderr",
     "output_type": "stream",
     "text": [
      "[W 2023-06-26 13:04:54,958] Trial 29 failed with parameters: {'n_conv': 3, 'n_hidden': 0, 'hidden_nodes': 248, 'dropout': 0.9557768186232769, 'filters': 11, 'kernel_size': 11, 'batch_size': 18, 'epochs': 88} because of the following error: ValueError('One of the dimensions in the output is <= 0 due to downsampling in extra_conv_1. Consider increasing the input size. Received input shape [None, 3, 11] which would produce output shape with a zero or negative value in a dimension.').\n",
      "Traceback (most recent call last):\n",
      "  File \"/home/djanloo/.local/share/virtualenvs/DM2-PeqFRmfa/lib/python3.10/site-packages/optuna/study/_optimize.py\", line 200, in _run_trial\n",
      "    value_or_values = func(trial)\n",
      "  File \"/tmp/ipykernel_25375/4273198217.py\", line 15, in objective_fun\n",
      "    cnn = build_and_fit_cnn(X=X_train_v,\n",
      "  File \"/tmp/ipykernel_25375/2256047732.py\", line 28, in build_and_fit_cnn\n",
      "    model.add(Conv1D(filters=filters, kernel_size=kernel_size, activation='relu', name=f\"extra_conv_{i}\"))\n",
      "  File \"/home/djanloo/.local/share/virtualenvs/DM2-PeqFRmfa/lib/python3.10/site-packages/tensorflow/python/trackable/base.py\", line 205, in _method_wrapper\n",
      "    result = method(self, *args, **kwargs)\n",
      "  File \"/home/djanloo/.local/share/virtualenvs/DM2-PeqFRmfa/lib/python3.10/site-packages/keras/utils/traceback_utils.py\", line 70, in error_handler\n",
      "    raise e.with_traceback(filtered_tb) from None\n",
      "  File \"/home/djanloo/.local/share/virtualenvs/DM2-PeqFRmfa/lib/python3.10/site-packages/keras/layers/convolutional/base_conv.py\", line 354, in compute_output_shape\n",
      "    raise ValueError(\n",
      "ValueError: One of the dimensions in the output is <= 0 due to downsampling in extra_conv_1. Consider increasing the input size. Received input shape [None, 3, 11] which would produce output shape with a zero or negative value in a dimension.\n",
      "[W 2023-06-26 13:04:54,964] Trial 29 failed with value None.\n"
     ]
    },
    {
     "name": "stdout",
     "output_type": "stream",
     "text": [
      "Running little bitch having n_conv=3, dropout=0.9722499259028441, hidden_nodes=254\n"
     ]
    },
    {
     "name": "stderr",
     "output_type": "stream",
     "text": [
      "[W 2023-06-26 13:04:55,535] Trial 30 failed with parameters: {'n_conv': 3, 'n_hidden': 0, 'hidden_nodes': 254, 'dropout': 0.9722499259028441, 'filters': 12, 'kernel_size': 11, 'batch_size': 19, 'epochs': 89} because of the following error: ValueError('One of the dimensions in the output is <= 0 due to downsampling in extra_conv_1. Consider increasing the input size. Received input shape [None, 3, 12] which would produce output shape with a zero or negative value in a dimension.').\n",
      "Traceback (most recent call last):\n",
      "  File \"/home/djanloo/.local/share/virtualenvs/DM2-PeqFRmfa/lib/python3.10/site-packages/optuna/study/_optimize.py\", line 200, in _run_trial\n",
      "    value_or_values = func(trial)\n",
      "  File \"/tmp/ipykernel_25375/4273198217.py\", line 15, in objective_fun\n",
      "    cnn = build_and_fit_cnn(X=X_train_v,\n",
      "  File \"/tmp/ipykernel_25375/2256047732.py\", line 28, in build_and_fit_cnn\n",
      "    model.add(Conv1D(filters=filters, kernel_size=kernel_size, activation='relu', name=f\"extra_conv_{i}\"))\n",
      "  File \"/home/djanloo/.local/share/virtualenvs/DM2-PeqFRmfa/lib/python3.10/site-packages/tensorflow/python/trackable/base.py\", line 205, in _method_wrapper\n",
      "    result = method(self, *args, **kwargs)\n",
      "  File \"/home/djanloo/.local/share/virtualenvs/DM2-PeqFRmfa/lib/python3.10/site-packages/keras/utils/traceback_utils.py\", line 70, in error_handler\n",
      "    raise e.with_traceback(filtered_tb) from None\n",
      "  File \"/home/djanloo/.local/share/virtualenvs/DM2-PeqFRmfa/lib/python3.10/site-packages/keras/layers/convolutional/base_conv.py\", line 354, in compute_output_shape\n",
      "    raise ValueError(\n",
      "ValueError: One of the dimensions in the output is <= 0 due to downsampling in extra_conv_1. Consider increasing the input size. Received input shape [None, 3, 12] which would produce output shape with a zero or negative value in a dimension.\n",
      "[W 2023-06-26 13:04:55,545] Trial 30 failed with value None.\n"
     ]
    },
    {
     "name": "stdout",
     "output_type": "stream",
     "text": [
      "Running little bitch having n_conv=3, dropout=0.9975521241544834, hidden_nodes=251\n"
     ]
    },
    {
     "name": "stderr",
     "output_type": "stream",
     "text": [
      "[W 2023-06-26 13:04:56,203] Trial 31 failed with parameters: {'n_conv': 3, 'n_hidden': 0, 'hidden_nodes': 251, 'dropout': 0.9975521241544834, 'filters': 11, 'kernel_size': 11, 'batch_size': 18, 'epochs': 90} because of the following error: ValueError('One of the dimensions in the output is <= 0 due to downsampling in extra_conv_1. Consider increasing the input size. Received input shape [None, 3, 11] which would produce output shape with a zero or negative value in a dimension.').\n",
      "Traceback (most recent call last):\n",
      "  File \"/home/djanloo/.local/share/virtualenvs/DM2-PeqFRmfa/lib/python3.10/site-packages/optuna/study/_optimize.py\", line 200, in _run_trial\n",
      "    value_or_values = func(trial)\n",
      "  File \"/tmp/ipykernel_25375/4273198217.py\", line 15, in objective_fun\n",
      "    cnn = build_and_fit_cnn(X=X_train_v,\n",
      "  File \"/tmp/ipykernel_25375/2256047732.py\", line 28, in build_and_fit_cnn\n",
      "    model.add(Conv1D(filters=filters, kernel_size=kernel_size, activation='relu', name=f\"extra_conv_{i}\"))\n",
      "  File \"/home/djanloo/.local/share/virtualenvs/DM2-PeqFRmfa/lib/python3.10/site-packages/tensorflow/python/trackable/base.py\", line 205, in _method_wrapper\n",
      "    result = method(self, *args, **kwargs)\n",
      "  File \"/home/djanloo/.local/share/virtualenvs/DM2-PeqFRmfa/lib/python3.10/site-packages/keras/utils/traceback_utils.py\", line 70, in error_handler\n",
      "    raise e.with_traceback(filtered_tb) from None\n",
      "  File \"/home/djanloo/.local/share/virtualenvs/DM2-PeqFRmfa/lib/python3.10/site-packages/keras/layers/convolutional/base_conv.py\", line 354, in compute_output_shape\n",
      "    raise ValueError(\n",
      "ValueError: One of the dimensions in the output is <= 0 due to downsampling in extra_conv_1. Consider increasing the input size. Received input shape [None, 3, 11] which would produce output shape with a zero or negative value in a dimension.\n",
      "[W 2023-06-26 13:04:56,205] Trial 31 failed with value None.\n"
     ]
    },
    {
     "name": "stdout",
     "output_type": "stream",
     "text": [
      "Running little bitch having n_conv=3, dropout=0.9748283980202062, hidden_nodes=250\n"
     ]
    },
    {
     "name": "stderr",
     "output_type": "stream",
     "text": [
      "[W 2023-06-26 13:04:57,079] Trial 32 failed with parameters: {'n_conv': 3, 'n_hidden': 0, 'hidden_nodes': 250, 'dropout': 0.9748283980202062, 'filters': 11, 'kernel_size': 11, 'batch_size': 16, 'epochs': 87} because of the following error: ValueError('One of the dimensions in the output is <= 0 due to downsampling in extra_conv_1. Consider increasing the input size. Received input shape [None, 3, 11] which would produce output shape with a zero or negative value in a dimension.').\n",
      "Traceback (most recent call last):\n",
      "  File \"/home/djanloo/.local/share/virtualenvs/DM2-PeqFRmfa/lib/python3.10/site-packages/optuna/study/_optimize.py\", line 200, in _run_trial\n",
      "    value_or_values = func(trial)\n",
      "  File \"/tmp/ipykernel_25375/4273198217.py\", line 15, in objective_fun\n",
      "    cnn = build_and_fit_cnn(X=X_train_v,\n",
      "  File \"/tmp/ipykernel_25375/2256047732.py\", line 28, in build_and_fit_cnn\n",
      "    model.add(Conv1D(filters=filters, kernel_size=kernel_size, activation='relu', name=f\"extra_conv_{i}\"))\n",
      "  File \"/home/djanloo/.local/share/virtualenvs/DM2-PeqFRmfa/lib/python3.10/site-packages/tensorflow/python/trackable/base.py\", line 205, in _method_wrapper\n",
      "    result = method(self, *args, **kwargs)\n",
      "  File \"/home/djanloo/.local/share/virtualenvs/DM2-PeqFRmfa/lib/python3.10/site-packages/keras/utils/traceback_utils.py\", line 70, in error_handler\n",
      "    raise e.with_traceback(filtered_tb) from None\n",
      "  File \"/home/djanloo/.local/share/virtualenvs/DM2-PeqFRmfa/lib/python3.10/site-packages/keras/layers/convolutional/base_conv.py\", line 354, in compute_output_shape\n",
      "    raise ValueError(\n",
      "ValueError: One of the dimensions in the output is <= 0 due to downsampling in extra_conv_1. Consider increasing the input size. Received input shape [None, 3, 11] which would produce output shape with a zero or negative value in a dimension.\n",
      "[W 2023-06-26 13:04:57,092] Trial 32 failed with value None.\n"
     ]
    },
    {
     "name": "stdout",
     "output_type": "stream",
     "text": [
      "Running little bitch having n_conv=3, dropout=0.9986651628185375, hidden_nodes=253\n"
     ]
    },
    {
     "name": "stderr",
     "output_type": "stream",
     "text": [
      "[W 2023-06-26 13:04:57,906] Trial 33 failed with parameters: {'n_conv': 3, 'n_hidden': 0, 'hidden_nodes': 253, 'dropout': 0.9986651628185375, 'filters': 11, 'kernel_size': 11, 'batch_size': 17, 'epochs': 89} because of the following error: ValueError('One of the dimensions in the output is <= 0 due to downsampling in extra_conv_1. Consider increasing the input size. Received input shape [None, 3, 11] which would produce output shape with a zero or negative value in a dimension.').\n",
      "Traceback (most recent call last):\n",
      "  File \"/home/djanloo/.local/share/virtualenvs/DM2-PeqFRmfa/lib/python3.10/site-packages/optuna/study/_optimize.py\", line 200, in _run_trial\n",
      "    value_or_values = func(trial)\n",
      "  File \"/tmp/ipykernel_25375/4273198217.py\", line 15, in objective_fun\n",
      "    cnn = build_and_fit_cnn(X=X_train_v,\n",
      "  File \"/tmp/ipykernel_25375/2256047732.py\", line 28, in build_and_fit_cnn\n",
      "    model.add(Conv1D(filters=filters, kernel_size=kernel_size, activation='relu', name=f\"extra_conv_{i}\"))\n",
      "  File \"/home/djanloo/.local/share/virtualenvs/DM2-PeqFRmfa/lib/python3.10/site-packages/tensorflow/python/trackable/base.py\", line 205, in _method_wrapper\n",
      "    result = method(self, *args, **kwargs)\n",
      "  File \"/home/djanloo/.local/share/virtualenvs/DM2-PeqFRmfa/lib/python3.10/site-packages/keras/utils/traceback_utils.py\", line 70, in error_handler\n",
      "    raise e.with_traceback(filtered_tb) from None\n",
      "  File \"/home/djanloo/.local/share/virtualenvs/DM2-PeqFRmfa/lib/python3.10/site-packages/keras/layers/convolutional/base_conv.py\", line 354, in compute_output_shape\n",
      "    raise ValueError(\n",
      "ValueError: One of the dimensions in the output is <= 0 due to downsampling in extra_conv_1. Consider increasing the input size. Received input shape [None, 3, 11] which would produce output shape with a zero or negative value in a dimension.\n",
      "[W 2023-06-26 13:04:57,922] Trial 33 failed with value None.\n"
     ]
    },
    {
     "name": "stdout",
     "output_type": "stream",
     "text": [
      "Running little bitch having n_conv=3, dropout=0.9905225383826803, hidden_nodes=244\n"
     ]
    },
    {
     "name": "stderr",
     "output_type": "stream",
     "text": [
      "[W 2023-06-26 13:04:58,641] Trial 34 failed with parameters: {'n_conv': 3, 'n_hidden': 0, 'hidden_nodes': 244, 'dropout': 0.9905225383826803, 'filters': 11, 'kernel_size': 11, 'batch_size': 16, 'epochs': 90} because of the following error: ValueError('One of the dimensions in the output is <= 0 due to downsampling in extra_conv_1. Consider increasing the input size. Received input shape [None, 3, 11] which would produce output shape with a zero or negative value in a dimension.').\n",
      "Traceback (most recent call last):\n",
      "  File \"/home/djanloo/.local/share/virtualenvs/DM2-PeqFRmfa/lib/python3.10/site-packages/optuna/study/_optimize.py\", line 200, in _run_trial\n",
      "    value_or_values = func(trial)\n",
      "  File \"/tmp/ipykernel_25375/4273198217.py\", line 15, in objective_fun\n",
      "    cnn = build_and_fit_cnn(X=X_train_v,\n",
      "  File \"/tmp/ipykernel_25375/2256047732.py\", line 28, in build_and_fit_cnn\n",
      "    model.add(Conv1D(filters=filters, kernel_size=kernel_size, activation='relu', name=f\"extra_conv_{i}\"))\n",
      "  File \"/home/djanloo/.local/share/virtualenvs/DM2-PeqFRmfa/lib/python3.10/site-packages/tensorflow/python/trackable/base.py\", line 205, in _method_wrapper\n",
      "    result = method(self, *args, **kwargs)\n",
      "  File \"/home/djanloo/.local/share/virtualenvs/DM2-PeqFRmfa/lib/python3.10/site-packages/keras/utils/traceback_utils.py\", line 70, in error_handler\n",
      "    raise e.with_traceback(filtered_tb) from None\n",
      "  File \"/home/djanloo/.local/share/virtualenvs/DM2-PeqFRmfa/lib/python3.10/site-packages/keras/layers/convolutional/base_conv.py\", line 354, in compute_output_shape\n",
      "    raise ValueError(\n",
      "ValueError: One of the dimensions in the output is <= 0 due to downsampling in extra_conv_1. Consider increasing the input size. Received input shape [None, 3, 11] which would produce output shape with a zero or negative value in a dimension.\n",
      "[W 2023-06-26 13:04:58,651] Trial 34 failed with value None.\n"
     ]
    },
    {
     "name": "stdout",
     "output_type": "stream",
     "text": [
      "Running little bitch having n_conv=3, dropout=0.9672452630581965, hidden_nodes=256\n"
     ]
    },
    {
     "name": "stderr",
     "output_type": "stream",
     "text": [
      "[W 2023-06-26 13:04:59,347] Trial 35 failed with parameters: {'n_conv': 3, 'n_hidden': 0, 'hidden_nodes': 256, 'dropout': 0.9672452630581965, 'filters': 10, 'kernel_size': 11, 'batch_size': 16, 'epochs': 90} because of the following error: ValueError('One of the dimensions in the output is <= 0 due to downsampling in extra_conv_1. Consider increasing the input size. Received input shape [None, 3, 10] which would produce output shape with a zero or negative value in a dimension.').\n",
      "Traceback (most recent call last):\n",
      "  File \"/home/djanloo/.local/share/virtualenvs/DM2-PeqFRmfa/lib/python3.10/site-packages/optuna/study/_optimize.py\", line 200, in _run_trial\n",
      "    value_or_values = func(trial)\n",
      "  File \"/tmp/ipykernel_25375/4273198217.py\", line 15, in objective_fun\n",
      "    cnn = build_and_fit_cnn(X=X_train_v,\n",
      "  File \"/tmp/ipykernel_25375/2256047732.py\", line 28, in build_and_fit_cnn\n",
      "    model.add(Conv1D(filters=filters, kernel_size=kernel_size, activation='relu', name=f\"extra_conv_{i}\"))\n",
      "  File \"/home/djanloo/.local/share/virtualenvs/DM2-PeqFRmfa/lib/python3.10/site-packages/tensorflow/python/trackable/base.py\", line 205, in _method_wrapper\n",
      "    result = method(self, *args, **kwargs)\n",
      "  File \"/home/djanloo/.local/share/virtualenvs/DM2-PeqFRmfa/lib/python3.10/site-packages/keras/utils/traceback_utils.py\", line 70, in error_handler\n",
      "    raise e.with_traceback(filtered_tb) from None\n",
      "  File \"/home/djanloo/.local/share/virtualenvs/DM2-PeqFRmfa/lib/python3.10/site-packages/keras/layers/convolutional/base_conv.py\", line 354, in compute_output_shape\n",
      "    raise ValueError(\n",
      "ValueError: One of the dimensions in the output is <= 0 due to downsampling in extra_conv_1. Consider increasing the input size. Received input shape [None, 3, 10] which would produce output shape with a zero or negative value in a dimension.\n",
      "[W 2023-06-26 13:04:59,354] Trial 35 failed with value None.\n"
     ]
    },
    {
     "name": "stdout",
     "output_type": "stream",
     "text": [
      "Running little bitch having n_conv=3, dropout=0.9080283200886025, hidden_nodes=255\n"
     ]
    },
    {
     "name": "stderr",
     "output_type": "stream",
     "text": [
      "[W 2023-06-26 13:04:59,920] Trial 36 failed with parameters: {'n_conv': 3, 'n_hidden': 0, 'hidden_nodes': 255, 'dropout': 0.9080283200886025, 'filters': 11, 'kernel_size': 11, 'batch_size': 17, 'epochs': 89} because of the following error: ValueError('One of the dimensions in the output is <= 0 due to downsampling in extra_conv_1. Consider increasing the input size. Received input shape [None, 3, 11] which would produce output shape with a zero or negative value in a dimension.').\n",
      "Traceback (most recent call last):\n",
      "  File \"/home/djanloo/.local/share/virtualenvs/DM2-PeqFRmfa/lib/python3.10/site-packages/optuna/study/_optimize.py\", line 200, in _run_trial\n",
      "    value_or_values = func(trial)\n",
      "  File \"/tmp/ipykernel_25375/4273198217.py\", line 15, in objective_fun\n",
      "    cnn = build_and_fit_cnn(X=X_train_v,\n",
      "  File \"/tmp/ipykernel_25375/2256047732.py\", line 28, in build_and_fit_cnn\n",
      "    model.add(Conv1D(filters=filters, kernel_size=kernel_size, activation='relu', name=f\"extra_conv_{i}\"))\n",
      "  File \"/home/djanloo/.local/share/virtualenvs/DM2-PeqFRmfa/lib/python3.10/site-packages/tensorflow/python/trackable/base.py\", line 205, in _method_wrapper\n",
      "    result = method(self, *args, **kwargs)\n",
      "  File \"/home/djanloo/.local/share/virtualenvs/DM2-PeqFRmfa/lib/python3.10/site-packages/keras/utils/traceback_utils.py\", line 70, in error_handler\n",
      "    raise e.with_traceback(filtered_tb) from None\n",
      "  File \"/home/djanloo/.local/share/virtualenvs/DM2-PeqFRmfa/lib/python3.10/site-packages/keras/layers/convolutional/base_conv.py\", line 354, in compute_output_shape\n",
      "    raise ValueError(\n",
      "ValueError: One of the dimensions in the output is <= 0 due to downsampling in extra_conv_1. Consider increasing the input size. Received input shape [None, 3, 11] which would produce output shape with a zero or negative value in a dimension.\n",
      "[W 2023-06-26 13:04:59,925] Trial 36 failed with value None.\n"
     ]
    },
    {
     "name": "stdout",
     "output_type": "stream",
     "text": [
      "Running little bitch having n_conv=3, dropout=0.9751473709130488, hidden_nodes=256\n"
     ]
    },
    {
     "name": "stderr",
     "output_type": "stream",
     "text": [
      "[W 2023-06-26 13:05:00,520] Trial 37 failed with parameters: {'n_conv': 3, 'n_hidden': 0, 'hidden_nodes': 256, 'dropout': 0.9751473709130488, 'filters': 11, 'kernel_size': 11, 'batch_size': 18, 'epochs': 90} because of the following error: ValueError('One of the dimensions in the output is <= 0 due to downsampling in extra_conv_1. Consider increasing the input size. Received input shape [None, 3, 11] which would produce output shape with a zero or negative value in a dimension.').\n",
      "Traceback (most recent call last):\n",
      "  File \"/home/djanloo/.local/share/virtualenvs/DM2-PeqFRmfa/lib/python3.10/site-packages/optuna/study/_optimize.py\", line 200, in _run_trial\n",
      "    value_or_values = func(trial)\n",
      "  File \"/tmp/ipykernel_25375/4273198217.py\", line 15, in objective_fun\n",
      "    cnn = build_and_fit_cnn(X=X_train_v,\n",
      "  File \"/tmp/ipykernel_25375/2256047732.py\", line 28, in build_and_fit_cnn\n",
      "    model.add(Conv1D(filters=filters, kernel_size=kernel_size, activation='relu', name=f\"extra_conv_{i}\"))\n",
      "  File \"/home/djanloo/.local/share/virtualenvs/DM2-PeqFRmfa/lib/python3.10/site-packages/tensorflow/python/trackable/base.py\", line 205, in _method_wrapper\n",
      "    result = method(self, *args, **kwargs)\n",
      "  File \"/home/djanloo/.local/share/virtualenvs/DM2-PeqFRmfa/lib/python3.10/site-packages/keras/utils/traceback_utils.py\", line 70, in error_handler\n",
      "    raise e.with_traceback(filtered_tb) from None\n",
      "  File \"/home/djanloo/.local/share/virtualenvs/DM2-PeqFRmfa/lib/python3.10/site-packages/keras/layers/convolutional/base_conv.py\", line 354, in compute_output_shape\n",
      "    raise ValueError(\n",
      "ValueError: One of the dimensions in the output is <= 0 due to downsampling in extra_conv_1. Consider increasing the input size. Received input shape [None, 3, 11] which would produce output shape with a zero or negative value in a dimension.\n",
      "[W 2023-06-26 13:05:00,528] Trial 37 failed with value None.\n"
     ]
    },
    {
     "name": "stdout",
     "output_type": "stream",
     "text": [
      "Running little bitch having n_conv=3, dropout=0.9997855850446548, hidden_nodes=256\n"
     ]
    },
    {
     "name": "stderr",
     "output_type": "stream",
     "text": [
      "[W 2023-06-26 13:05:01,189] Trial 38 failed with parameters: {'n_conv': 3, 'n_hidden': 0, 'hidden_nodes': 256, 'dropout': 0.9997855850446548, 'filters': 11, 'kernel_size': 11, 'batch_size': 19, 'epochs': 89} because of the following error: ValueError('One of the dimensions in the output is <= 0 due to downsampling in extra_conv_1. Consider increasing the input size. Received input shape [None, 3, 11] which would produce output shape with a zero or negative value in a dimension.').\n",
      "Traceback (most recent call last):\n",
      "  File \"/home/djanloo/.local/share/virtualenvs/DM2-PeqFRmfa/lib/python3.10/site-packages/optuna/study/_optimize.py\", line 200, in _run_trial\n",
      "    value_or_values = func(trial)\n",
      "  File \"/tmp/ipykernel_25375/4273198217.py\", line 15, in objective_fun\n",
      "    cnn = build_and_fit_cnn(X=X_train_v,\n",
      "  File \"/tmp/ipykernel_25375/2256047732.py\", line 28, in build_and_fit_cnn\n",
      "    model.add(Conv1D(filters=filters, kernel_size=kernel_size, activation='relu', name=f\"extra_conv_{i}\"))\n",
      "  File \"/home/djanloo/.local/share/virtualenvs/DM2-PeqFRmfa/lib/python3.10/site-packages/tensorflow/python/trackable/base.py\", line 205, in _method_wrapper\n",
      "    result = method(self, *args, **kwargs)\n",
      "  File \"/home/djanloo/.local/share/virtualenvs/DM2-PeqFRmfa/lib/python3.10/site-packages/keras/utils/traceback_utils.py\", line 70, in error_handler\n",
      "    raise e.with_traceback(filtered_tb) from None\n",
      "  File \"/home/djanloo/.local/share/virtualenvs/DM2-PeqFRmfa/lib/python3.10/site-packages/keras/layers/convolutional/base_conv.py\", line 354, in compute_output_shape\n",
      "    raise ValueError(\n",
      "ValueError: One of the dimensions in the output is <= 0 due to downsampling in extra_conv_1. Consider increasing the input size. Received input shape [None, 3, 11] which would produce output shape with a zero or negative value in a dimension.\n",
      "[W 2023-06-26 13:05:01,204] Trial 38 failed with value None.\n"
     ]
    },
    {
     "name": "stdout",
     "output_type": "stream",
     "text": [
      "Running little bitch having n_conv=3, dropout=0.9629302683235793, hidden_nodes=254\n"
     ]
    },
    {
     "name": "stderr",
     "output_type": "stream",
     "text": [
      "[W 2023-06-26 13:05:01,770] Trial 39 failed with parameters: {'n_conv': 3, 'n_hidden': 0, 'hidden_nodes': 254, 'dropout': 0.9629302683235793, 'filters': 11, 'kernel_size': 11, 'batch_size': 18, 'epochs': 88} because of the following error: ValueError('One of the dimensions in the output is <= 0 due to downsampling in extra_conv_1. Consider increasing the input size. Received input shape [None, 3, 11] which would produce output shape with a zero or negative value in a dimension.').\n",
      "Traceback (most recent call last):\n",
      "  File \"/home/djanloo/.local/share/virtualenvs/DM2-PeqFRmfa/lib/python3.10/site-packages/optuna/study/_optimize.py\", line 200, in _run_trial\n",
      "    value_or_values = func(trial)\n",
      "  File \"/tmp/ipykernel_25375/4273198217.py\", line 15, in objective_fun\n",
      "    cnn = build_and_fit_cnn(X=X_train_v,\n",
      "  File \"/tmp/ipykernel_25375/2256047732.py\", line 28, in build_and_fit_cnn\n",
      "    model.add(Conv1D(filters=filters, kernel_size=kernel_size, activation='relu', name=f\"extra_conv_{i}\"))\n",
      "  File \"/home/djanloo/.local/share/virtualenvs/DM2-PeqFRmfa/lib/python3.10/site-packages/tensorflow/python/trackable/base.py\", line 205, in _method_wrapper\n",
      "    result = method(self, *args, **kwargs)\n",
      "  File \"/home/djanloo/.local/share/virtualenvs/DM2-PeqFRmfa/lib/python3.10/site-packages/keras/utils/traceback_utils.py\", line 70, in error_handler\n",
      "    raise e.with_traceback(filtered_tb) from None\n",
      "  File \"/home/djanloo/.local/share/virtualenvs/DM2-PeqFRmfa/lib/python3.10/site-packages/keras/layers/convolutional/base_conv.py\", line 354, in compute_output_shape\n",
      "    raise ValueError(\n",
      "ValueError: One of the dimensions in the output is <= 0 due to downsampling in extra_conv_1. Consider increasing the input size. Received input shape [None, 3, 11] which would produce output shape with a zero or negative value in a dimension.\n",
      "[W 2023-06-26 13:05:01,774] Trial 39 failed with value None.\n"
     ]
    },
    {
     "name": "stdout",
     "output_type": "stream",
     "text": [
      "Running little bitch having n_conv=3, dropout=0.9972437133520716, hidden_nodes=223\n"
     ]
    },
    {
     "name": "stderr",
     "output_type": "stream",
     "text": [
      "[W 2023-06-26 13:05:02,417] Trial 40 failed with parameters: {'n_conv': 3, 'n_hidden': 0, 'hidden_nodes': 223, 'dropout': 0.9972437133520716, 'filters': 11, 'kernel_size': 11, 'batch_size': 16, 'epochs': 90} because of the following error: ValueError('One of the dimensions in the output is <= 0 due to downsampling in extra_conv_1. Consider increasing the input size. Received input shape [None, 3, 11] which would produce output shape with a zero or negative value in a dimension.').\n",
      "Traceback (most recent call last):\n",
      "  File \"/home/djanloo/.local/share/virtualenvs/DM2-PeqFRmfa/lib/python3.10/site-packages/optuna/study/_optimize.py\", line 200, in _run_trial\n",
      "    value_or_values = func(trial)\n",
      "  File \"/tmp/ipykernel_25375/4273198217.py\", line 15, in objective_fun\n",
      "    cnn = build_and_fit_cnn(X=X_train_v,\n",
      "  File \"/tmp/ipykernel_25375/2256047732.py\", line 28, in build_and_fit_cnn\n",
      "    model.add(Conv1D(filters=filters, kernel_size=kernel_size, activation='relu', name=f\"extra_conv_{i}\"))\n",
      "  File \"/home/djanloo/.local/share/virtualenvs/DM2-PeqFRmfa/lib/python3.10/site-packages/tensorflow/python/trackable/base.py\", line 205, in _method_wrapper\n",
      "    result = method(self, *args, **kwargs)\n",
      "  File \"/home/djanloo/.local/share/virtualenvs/DM2-PeqFRmfa/lib/python3.10/site-packages/keras/utils/traceback_utils.py\", line 70, in error_handler\n",
      "    raise e.with_traceback(filtered_tb) from None\n",
      "  File \"/home/djanloo/.local/share/virtualenvs/DM2-PeqFRmfa/lib/python3.10/site-packages/keras/layers/convolutional/base_conv.py\", line 354, in compute_output_shape\n",
      "    raise ValueError(\n",
      "ValueError: One of the dimensions in the output is <= 0 due to downsampling in extra_conv_1. Consider increasing the input size. Received input shape [None, 3, 11] which would produce output shape with a zero or negative value in a dimension.\n",
      "[W 2023-06-26 13:05:02,435] Trial 40 failed with value None.\n"
     ]
    },
    {
     "name": "stdout",
     "output_type": "stream",
     "text": [
      "Running little bitch having n_conv=3, dropout=0.9987009021162769, hidden_nodes=251\n"
     ]
    },
    {
     "name": "stderr",
     "output_type": "stream",
     "text": [
      "[W 2023-06-26 13:05:03,002] Trial 41 failed with parameters: {'n_conv': 3, 'n_hidden': 0, 'hidden_nodes': 251, 'dropout': 0.9987009021162769, 'filters': 13, 'kernel_size': 11, 'batch_size': 16, 'epochs': 88} because of the following error: ValueError('One of the dimensions in the output is <= 0 due to downsampling in extra_conv_1. Consider increasing the input size. Received input shape [None, 3, 13] which would produce output shape with a zero or negative value in a dimension.').\n",
      "Traceback (most recent call last):\n",
      "  File \"/home/djanloo/.local/share/virtualenvs/DM2-PeqFRmfa/lib/python3.10/site-packages/optuna/study/_optimize.py\", line 200, in _run_trial\n",
      "    value_or_values = func(trial)\n",
      "  File \"/tmp/ipykernel_25375/4273198217.py\", line 15, in objective_fun\n",
      "    cnn = build_and_fit_cnn(X=X_train_v,\n",
      "  File \"/tmp/ipykernel_25375/2256047732.py\", line 28, in build_and_fit_cnn\n",
      "    model.add(Conv1D(filters=filters, kernel_size=kernel_size, activation='relu', name=f\"extra_conv_{i}\"))\n",
      "  File \"/home/djanloo/.local/share/virtualenvs/DM2-PeqFRmfa/lib/python3.10/site-packages/tensorflow/python/trackable/base.py\", line 205, in _method_wrapper\n",
      "    result = method(self, *args, **kwargs)\n",
      "  File \"/home/djanloo/.local/share/virtualenvs/DM2-PeqFRmfa/lib/python3.10/site-packages/keras/utils/traceback_utils.py\", line 70, in error_handler\n",
      "    raise e.with_traceback(filtered_tb) from None\n",
      "  File \"/home/djanloo/.local/share/virtualenvs/DM2-PeqFRmfa/lib/python3.10/site-packages/keras/layers/convolutional/base_conv.py\", line 354, in compute_output_shape\n",
      "    raise ValueError(\n",
      "ValueError: One of the dimensions in the output is <= 0 due to downsampling in extra_conv_1. Consider increasing the input size. Received input shape [None, 3, 13] which would produce output shape with a zero or negative value in a dimension.\n",
      "[W 2023-06-26 13:05:03,023] Trial 41 failed with value None.\n"
     ]
    },
    {
     "name": "stdout",
     "output_type": "stream",
     "text": [
      "Running little bitch having n_conv=3, dropout=0.9768665733183997, hidden_nodes=249\n"
     ]
    },
    {
     "name": "stderr",
     "output_type": "stream",
     "text": [
      "[W 2023-06-26 13:05:03,675] Trial 42 failed with parameters: {'n_conv': 3, 'n_hidden': 0, 'hidden_nodes': 249, 'dropout': 0.9768665733183997, 'filters': 11, 'kernel_size': 11, 'batch_size': 16, 'epochs': 88} because of the following error: ValueError('One of the dimensions in the output is <= 0 due to downsampling in extra_conv_1. Consider increasing the input size. Received input shape [None, 3, 11] which would produce output shape with a zero or negative value in a dimension.').\n",
      "Traceback (most recent call last):\n",
      "  File \"/home/djanloo/.local/share/virtualenvs/DM2-PeqFRmfa/lib/python3.10/site-packages/optuna/study/_optimize.py\", line 200, in _run_trial\n",
      "    value_or_values = func(trial)\n",
      "  File \"/tmp/ipykernel_25375/4273198217.py\", line 15, in objective_fun\n",
      "    cnn = build_and_fit_cnn(X=X_train_v,\n",
      "  File \"/tmp/ipykernel_25375/2256047732.py\", line 28, in build_and_fit_cnn\n",
      "    model.add(Conv1D(filters=filters, kernel_size=kernel_size, activation='relu', name=f\"extra_conv_{i}\"))\n",
      "  File \"/home/djanloo/.local/share/virtualenvs/DM2-PeqFRmfa/lib/python3.10/site-packages/tensorflow/python/trackable/base.py\", line 205, in _method_wrapper\n",
      "    result = method(self, *args, **kwargs)\n",
      "  File \"/home/djanloo/.local/share/virtualenvs/DM2-PeqFRmfa/lib/python3.10/site-packages/keras/utils/traceback_utils.py\", line 70, in error_handler\n",
      "    raise e.with_traceback(filtered_tb) from None\n",
      "  File \"/home/djanloo/.local/share/virtualenvs/DM2-PeqFRmfa/lib/python3.10/site-packages/keras/layers/convolutional/base_conv.py\", line 354, in compute_output_shape\n",
      "    raise ValueError(\n",
      "ValueError: One of the dimensions in the output is <= 0 due to downsampling in extra_conv_1. Consider increasing the input size. Received input shape [None, 3, 11] which would produce output shape with a zero or negative value in a dimension.\n",
      "[W 2023-06-26 13:05:03,686] Trial 42 failed with value None.\n"
     ]
    },
    {
     "name": "stdout",
     "output_type": "stream",
     "text": [
      "Running little bitch having n_conv=3, dropout=0.9739677886674871, hidden_nodes=241\n"
     ]
    },
    {
     "name": "stderr",
     "output_type": "stream",
     "text": [
      "[W 2023-06-26 13:05:04,353] Trial 43 failed with parameters: {'n_conv': 3, 'n_hidden': 0, 'hidden_nodes': 241, 'dropout': 0.9739677886674871, 'filters': 11, 'kernel_size': 11, 'batch_size': 17, 'epochs': 89} because of the following error: ValueError('One of the dimensions in the output is <= 0 due to downsampling in extra_conv_1. Consider increasing the input size. Received input shape [None, 3, 11] which would produce output shape with a zero or negative value in a dimension.').\n",
      "Traceback (most recent call last):\n",
      "  File \"/home/djanloo/.local/share/virtualenvs/DM2-PeqFRmfa/lib/python3.10/site-packages/optuna/study/_optimize.py\", line 200, in _run_trial\n",
      "    value_or_values = func(trial)\n",
      "  File \"/tmp/ipykernel_25375/4273198217.py\", line 15, in objective_fun\n",
      "    cnn = build_and_fit_cnn(X=X_train_v,\n",
      "  File \"/tmp/ipykernel_25375/2256047732.py\", line 28, in build_and_fit_cnn\n",
      "    model.add(Conv1D(filters=filters, kernel_size=kernel_size, activation='relu', name=f\"extra_conv_{i}\"))\n",
      "  File \"/home/djanloo/.local/share/virtualenvs/DM2-PeqFRmfa/lib/python3.10/site-packages/tensorflow/python/trackable/base.py\", line 205, in _method_wrapper\n",
      "    result = method(self, *args, **kwargs)\n",
      "  File \"/home/djanloo/.local/share/virtualenvs/DM2-PeqFRmfa/lib/python3.10/site-packages/keras/utils/traceback_utils.py\", line 70, in error_handler\n",
      "    raise e.with_traceback(filtered_tb) from None\n",
      "  File \"/home/djanloo/.local/share/virtualenvs/DM2-PeqFRmfa/lib/python3.10/site-packages/keras/layers/convolutional/base_conv.py\", line 354, in compute_output_shape\n",
      "    raise ValueError(\n",
      "ValueError: One of the dimensions in the output is <= 0 due to downsampling in extra_conv_1. Consider increasing the input size. Received input shape [None, 3, 11] which would produce output shape with a zero or negative value in a dimension.\n",
      "[W 2023-06-26 13:05:04,361] Trial 43 failed with value None.\n"
     ]
    },
    {
     "name": "stdout",
     "output_type": "stream",
     "text": [
      "Running little bitch having n_conv=3, dropout=0.8760261974957564, hidden_nodes=247\n"
     ]
    },
    {
     "name": "stderr",
     "output_type": "stream",
     "text": [
      "[W 2023-06-26 13:05:05,063] Trial 44 failed with parameters: {'n_conv': 3, 'n_hidden': 0, 'hidden_nodes': 247, 'dropout': 0.8760261974957564, 'filters': 11, 'kernel_size': 12, 'batch_size': 17, 'epochs': 90} because of the following error: ValueError('One of the dimensions in the output is <= 0 due to downsampling in extra_conv_1. Consider increasing the input size. Received input shape [None, 1, 11] which would produce output shape with a zero or negative value in a dimension.').\n",
      "Traceback (most recent call last):\n",
      "  File \"/home/djanloo/.local/share/virtualenvs/DM2-PeqFRmfa/lib/python3.10/site-packages/optuna/study/_optimize.py\", line 200, in _run_trial\n",
      "    value_or_values = func(trial)\n",
      "  File \"/tmp/ipykernel_25375/4273198217.py\", line 15, in objective_fun\n",
      "    cnn = build_and_fit_cnn(X=X_train_v,\n",
      "  File \"/tmp/ipykernel_25375/2256047732.py\", line 28, in build_and_fit_cnn\n",
      "    model.add(Conv1D(filters=filters, kernel_size=kernel_size, activation='relu', name=f\"extra_conv_{i}\"))\n",
      "  File \"/home/djanloo/.local/share/virtualenvs/DM2-PeqFRmfa/lib/python3.10/site-packages/tensorflow/python/trackable/base.py\", line 205, in _method_wrapper\n",
      "    result = method(self, *args, **kwargs)\n",
      "  File \"/home/djanloo/.local/share/virtualenvs/DM2-PeqFRmfa/lib/python3.10/site-packages/keras/utils/traceback_utils.py\", line 70, in error_handler\n",
      "    raise e.with_traceback(filtered_tb) from None\n",
      "  File \"/home/djanloo/.local/share/virtualenvs/DM2-PeqFRmfa/lib/python3.10/site-packages/keras/layers/convolutional/base_conv.py\", line 354, in compute_output_shape\n",
      "    raise ValueError(\n",
      "ValueError: One of the dimensions in the output is <= 0 due to downsampling in extra_conv_1. Consider increasing the input size. Received input shape [None, 1, 11] which would produce output shape with a zero or negative value in a dimension.\n",
      "[W 2023-06-26 13:05:05,069] Trial 44 failed with value None.\n"
     ]
    },
    {
     "name": "stdout",
     "output_type": "stream",
     "text": [
      "Running little bitch having n_conv=3, dropout=0.9366362585490161, hidden_nodes=239\n"
     ]
    },
    {
     "name": "stderr",
     "output_type": "stream",
     "text": [
      "[W 2023-06-26 13:05:05,673] Trial 45 failed with parameters: {'n_conv': 3, 'n_hidden': 0, 'hidden_nodes': 239, 'dropout': 0.9366362585490161, 'filters': 11, 'kernel_size': 11, 'batch_size': 16, 'epochs': 89} because of the following error: ValueError('One of the dimensions in the output is <= 0 due to downsampling in extra_conv_1. Consider increasing the input size. Received input shape [None, 3, 11] which would produce output shape with a zero or negative value in a dimension.').\n",
      "Traceback (most recent call last):\n",
      "  File \"/home/djanloo/.local/share/virtualenvs/DM2-PeqFRmfa/lib/python3.10/site-packages/optuna/study/_optimize.py\", line 200, in _run_trial\n",
      "    value_or_values = func(trial)\n",
      "  File \"/tmp/ipykernel_25375/4273198217.py\", line 15, in objective_fun\n",
      "    cnn = build_and_fit_cnn(X=X_train_v,\n",
      "  File \"/tmp/ipykernel_25375/2256047732.py\", line 28, in build_and_fit_cnn\n",
      "    model.add(Conv1D(filters=filters, kernel_size=kernel_size, activation='relu', name=f\"extra_conv_{i}\"))\n",
      "  File \"/home/djanloo/.local/share/virtualenvs/DM2-PeqFRmfa/lib/python3.10/site-packages/tensorflow/python/trackable/base.py\", line 205, in _method_wrapper\n",
      "    result = method(self, *args, **kwargs)\n",
      "  File \"/home/djanloo/.local/share/virtualenvs/DM2-PeqFRmfa/lib/python3.10/site-packages/keras/utils/traceback_utils.py\", line 70, in error_handler\n",
      "    raise e.with_traceback(filtered_tb) from None\n",
      "  File \"/home/djanloo/.local/share/virtualenvs/DM2-PeqFRmfa/lib/python3.10/site-packages/keras/layers/convolutional/base_conv.py\", line 354, in compute_output_shape\n",
      "    raise ValueError(\n",
      "ValueError: One of the dimensions in the output is <= 0 due to downsampling in extra_conv_1. Consider increasing the input size. Received input shape [None, 3, 11] which would produce output shape with a zero or negative value in a dimension.\n",
      "[W 2023-06-26 13:05:05,676] Trial 45 failed with value None.\n"
     ]
    },
    {
     "name": "stdout",
     "output_type": "stream",
     "text": [
      "Running little bitch having n_conv=3, dropout=0.9801776849349659, hidden_nodes=256\n"
     ]
    },
    {
     "name": "stderr",
     "output_type": "stream",
     "text": [
      "[W 2023-06-26 13:05:06,158] Trial 46 failed with parameters: {'n_conv': 3, 'n_hidden': 0, 'hidden_nodes': 256, 'dropout': 0.9801776849349659, 'filters': 11, 'kernel_size': 11, 'batch_size': 16, 'epochs': 82} because of the following error: ValueError('One of the dimensions in the output is <= 0 due to downsampling in extra_conv_1. Consider increasing the input size. Received input shape [None, 3, 11] which would produce output shape with a zero or negative value in a dimension.').\n",
      "Traceback (most recent call last):\n",
      "  File \"/home/djanloo/.local/share/virtualenvs/DM2-PeqFRmfa/lib/python3.10/site-packages/optuna/study/_optimize.py\", line 200, in _run_trial\n",
      "    value_or_values = func(trial)\n",
      "  File \"/tmp/ipykernel_25375/4273198217.py\", line 15, in objective_fun\n",
      "    cnn = build_and_fit_cnn(X=X_train_v,\n",
      "  File \"/tmp/ipykernel_25375/2256047732.py\", line 28, in build_and_fit_cnn\n",
      "    model.add(Conv1D(filters=filters, kernel_size=kernel_size, activation='relu', name=f\"extra_conv_{i}\"))\n",
      "  File \"/home/djanloo/.local/share/virtualenvs/DM2-PeqFRmfa/lib/python3.10/site-packages/tensorflow/python/trackable/base.py\", line 205, in _method_wrapper\n",
      "    result = method(self, *args, **kwargs)\n",
      "  File \"/home/djanloo/.local/share/virtualenvs/DM2-PeqFRmfa/lib/python3.10/site-packages/keras/utils/traceback_utils.py\", line 70, in error_handler\n",
      "    raise e.with_traceback(filtered_tb) from None\n",
      "  File \"/home/djanloo/.local/share/virtualenvs/DM2-PeqFRmfa/lib/python3.10/site-packages/keras/layers/convolutional/base_conv.py\", line 354, in compute_output_shape\n",
      "    raise ValueError(\n",
      "ValueError: One of the dimensions in the output is <= 0 due to downsampling in extra_conv_1. Consider increasing the input size. Received input shape [None, 3, 11] which would produce output shape with a zero or negative value in a dimension.\n",
      "[W 2023-06-26 13:05:06,174] Trial 46 failed with value None.\n"
     ]
    },
    {
     "name": "stdout",
     "output_type": "stream",
     "text": [
      "Running little bitch having n_conv=3, dropout=0.8533859032965441, hidden_nodes=252\n"
     ]
    },
    {
     "name": "stderr",
     "output_type": "stream",
     "text": [
      "[W 2023-06-26 13:05:06,827] Trial 47 failed with parameters: {'n_conv': 3, 'n_hidden': 0, 'hidden_nodes': 252, 'dropout': 0.8533859032965441, 'filters': 12, 'kernel_size': 11, 'batch_size': 17, 'epochs': 89} because of the following error: ValueError('One of the dimensions in the output is <= 0 due to downsampling in extra_conv_1. Consider increasing the input size. Received input shape [None, 3, 12] which would produce output shape with a zero or negative value in a dimension.').\n",
      "Traceback (most recent call last):\n",
      "  File \"/home/djanloo/.local/share/virtualenvs/DM2-PeqFRmfa/lib/python3.10/site-packages/optuna/study/_optimize.py\", line 200, in _run_trial\n",
      "    value_or_values = func(trial)\n",
      "  File \"/tmp/ipykernel_25375/4273198217.py\", line 15, in objective_fun\n",
      "    cnn = build_and_fit_cnn(X=X_train_v,\n",
      "  File \"/tmp/ipykernel_25375/2256047732.py\", line 28, in build_and_fit_cnn\n",
      "    model.add(Conv1D(filters=filters, kernel_size=kernel_size, activation='relu', name=f\"extra_conv_{i}\"))\n",
      "  File \"/home/djanloo/.local/share/virtualenvs/DM2-PeqFRmfa/lib/python3.10/site-packages/tensorflow/python/trackable/base.py\", line 205, in _method_wrapper\n",
      "    result = method(self, *args, **kwargs)\n",
      "  File \"/home/djanloo/.local/share/virtualenvs/DM2-PeqFRmfa/lib/python3.10/site-packages/keras/utils/traceback_utils.py\", line 70, in error_handler\n",
      "    raise e.with_traceback(filtered_tb) from None\n",
      "  File \"/home/djanloo/.local/share/virtualenvs/DM2-PeqFRmfa/lib/python3.10/site-packages/keras/layers/convolutional/base_conv.py\", line 354, in compute_output_shape\n",
      "    raise ValueError(\n",
      "ValueError: One of the dimensions in the output is <= 0 due to downsampling in extra_conv_1. Consider increasing the input size. Received input shape [None, 3, 12] which would produce output shape with a zero or negative value in a dimension.\n",
      "[W 2023-06-26 13:05:06,840] Trial 47 failed with value None.\n"
     ]
    },
    {
     "name": "stdout",
     "output_type": "stream",
     "text": [
      "Running little bitch having n_conv=3, dropout=0.9403227604228759, hidden_nodes=239\n"
     ]
    },
    {
     "name": "stderr",
     "output_type": "stream",
     "text": [
      "[W 2023-06-26 13:05:07,410] Trial 48 failed with parameters: {'n_conv': 3, 'n_hidden': 0, 'hidden_nodes': 239, 'dropout': 0.9403227604228759, 'filters': 11, 'kernel_size': 11, 'batch_size': 16, 'epochs': 85} because of the following error: ValueError('One of the dimensions in the output is <= 0 due to downsampling in extra_conv_1. Consider increasing the input size. Received input shape [None, 3, 11] which would produce output shape with a zero or negative value in a dimension.').\n",
      "Traceback (most recent call last):\n",
      "  File \"/home/djanloo/.local/share/virtualenvs/DM2-PeqFRmfa/lib/python3.10/site-packages/optuna/study/_optimize.py\", line 200, in _run_trial\n",
      "    value_or_values = func(trial)\n",
      "  File \"/tmp/ipykernel_25375/4273198217.py\", line 15, in objective_fun\n",
      "    cnn = build_and_fit_cnn(X=X_train_v,\n",
      "  File \"/tmp/ipykernel_25375/2256047732.py\", line 28, in build_and_fit_cnn\n",
      "    model.add(Conv1D(filters=filters, kernel_size=kernel_size, activation='relu', name=f\"extra_conv_{i}\"))\n",
      "  File \"/home/djanloo/.local/share/virtualenvs/DM2-PeqFRmfa/lib/python3.10/site-packages/tensorflow/python/trackable/base.py\", line 205, in _method_wrapper\n",
      "    result = method(self, *args, **kwargs)\n",
      "  File \"/home/djanloo/.local/share/virtualenvs/DM2-PeqFRmfa/lib/python3.10/site-packages/keras/utils/traceback_utils.py\", line 70, in error_handler\n",
      "    raise e.with_traceback(filtered_tb) from None\n",
      "  File \"/home/djanloo/.local/share/virtualenvs/DM2-PeqFRmfa/lib/python3.10/site-packages/keras/layers/convolutional/base_conv.py\", line 354, in compute_output_shape\n",
      "    raise ValueError(\n",
      "ValueError: One of the dimensions in the output is <= 0 due to downsampling in extra_conv_1. Consider increasing the input size. Received input shape [None, 3, 11] which would produce output shape with a zero or negative value in a dimension.\n",
      "[W 2023-06-26 13:05:07,422] Trial 48 failed with value None.\n"
     ]
    },
    {
     "name": "stdout",
     "output_type": "stream",
     "text": [
      "Running little bitch having n_conv=3, dropout=0.9916291845060251, hidden_nodes=247\n"
     ]
    },
    {
     "name": "stderr",
     "output_type": "stream",
     "text": [
      "[W 2023-06-26 13:05:07,988] Trial 49 failed with parameters: {'n_conv': 3, 'n_hidden': 0, 'hidden_nodes': 247, 'dropout': 0.9916291845060251, 'filters': 13, 'kernel_size': 11, 'batch_size': 17, 'epochs': 89} because of the following error: ValueError('One of the dimensions in the output is <= 0 due to downsampling in extra_conv_1. Consider increasing the input size. Received input shape [None, 3, 13] which would produce output shape with a zero or negative value in a dimension.').\n",
      "Traceback (most recent call last):\n",
      "  File \"/home/djanloo/.local/share/virtualenvs/DM2-PeqFRmfa/lib/python3.10/site-packages/optuna/study/_optimize.py\", line 200, in _run_trial\n",
      "    value_or_values = func(trial)\n",
      "  File \"/tmp/ipykernel_25375/4273198217.py\", line 15, in objective_fun\n",
      "    cnn = build_and_fit_cnn(X=X_train_v,\n",
      "  File \"/tmp/ipykernel_25375/2256047732.py\", line 28, in build_and_fit_cnn\n",
      "    model.add(Conv1D(filters=filters, kernel_size=kernel_size, activation='relu', name=f\"extra_conv_{i}\"))\n",
      "  File \"/home/djanloo/.local/share/virtualenvs/DM2-PeqFRmfa/lib/python3.10/site-packages/tensorflow/python/trackable/base.py\", line 205, in _method_wrapper\n",
      "    result = method(self, *args, **kwargs)\n",
      "  File \"/home/djanloo/.local/share/virtualenvs/DM2-PeqFRmfa/lib/python3.10/site-packages/keras/utils/traceback_utils.py\", line 70, in error_handler\n",
      "    raise e.with_traceback(filtered_tb) from None\n",
      "  File \"/home/djanloo/.local/share/virtualenvs/DM2-PeqFRmfa/lib/python3.10/site-packages/keras/layers/convolutional/base_conv.py\", line 354, in compute_output_shape\n",
      "    raise ValueError(\n",
      "ValueError: One of the dimensions in the output is <= 0 due to downsampling in extra_conv_1. Consider increasing the input size. Received input shape [None, 3, 13] which would produce output shape with a zero or negative value in a dimension.\n",
      "[W 2023-06-26 13:05:07,999] Trial 49 failed with value None.\n"
     ]
    },
    {
     "name": "stdout",
     "output_type": "stream",
     "text": [
      "Running little bitch having n_conv=3, dropout=0.9848011238114667, hidden_nodes=256\n"
     ]
    },
    {
     "name": "stderr",
     "output_type": "stream",
     "text": [
      "[W 2023-06-26 13:05:08,625] Trial 50 failed with parameters: {'n_conv': 3, 'n_hidden': 0, 'hidden_nodes': 256, 'dropout': 0.9848011238114667, 'filters': 12, 'kernel_size': 11, 'batch_size': 17, 'epochs': 87} because of the following error: ValueError('One of the dimensions in the output is <= 0 due to downsampling in extra_conv_1. Consider increasing the input size. Received input shape [None, 3, 12] which would produce output shape with a zero or negative value in a dimension.').\n",
      "Traceback (most recent call last):\n",
      "  File \"/home/djanloo/.local/share/virtualenvs/DM2-PeqFRmfa/lib/python3.10/site-packages/optuna/study/_optimize.py\", line 200, in _run_trial\n",
      "    value_or_values = func(trial)\n",
      "  File \"/tmp/ipykernel_25375/4273198217.py\", line 15, in objective_fun\n",
      "    cnn = build_and_fit_cnn(X=X_train_v,\n",
      "  File \"/tmp/ipykernel_25375/2256047732.py\", line 28, in build_and_fit_cnn\n",
      "    model.add(Conv1D(filters=filters, kernel_size=kernel_size, activation='relu', name=f\"extra_conv_{i}\"))\n",
      "  File \"/home/djanloo/.local/share/virtualenvs/DM2-PeqFRmfa/lib/python3.10/site-packages/tensorflow/python/trackable/base.py\", line 205, in _method_wrapper\n",
      "    result = method(self, *args, **kwargs)\n",
      "  File \"/home/djanloo/.local/share/virtualenvs/DM2-PeqFRmfa/lib/python3.10/site-packages/keras/utils/traceback_utils.py\", line 70, in error_handler\n",
      "    raise e.with_traceback(filtered_tb) from None\n",
      "  File \"/home/djanloo/.local/share/virtualenvs/DM2-PeqFRmfa/lib/python3.10/site-packages/keras/layers/convolutional/base_conv.py\", line 354, in compute_output_shape\n",
      "    raise ValueError(\n",
      "ValueError: One of the dimensions in the output is <= 0 due to downsampling in extra_conv_1. Consider increasing the input size. Received input shape [None, 3, 12] which would produce output shape with a zero or negative value in a dimension.\n",
      "[W 2023-06-26 13:05:08,637] Trial 50 failed with value None.\n"
     ]
    },
    {
     "name": "stdout",
     "output_type": "stream",
     "text": [
      "Running little bitch having n_conv=3, dropout=0.9314922807598239, hidden_nodes=233\n"
     ]
    },
    {
     "name": "stderr",
     "output_type": "stream",
     "text": [
      "[W 2023-06-26 13:05:09,233] Trial 51 failed with parameters: {'n_conv': 3, 'n_hidden': 0, 'hidden_nodes': 233, 'dropout': 0.9314922807598239, 'filters': 11, 'kernel_size': 11, 'batch_size': 17, 'epochs': 89} because of the following error: ValueError('One of the dimensions in the output is <= 0 due to downsampling in extra_conv_1. Consider increasing the input size. Received input shape [None, 3, 11] which would produce output shape with a zero or negative value in a dimension.').\n",
      "Traceback (most recent call last):\n",
      "  File \"/home/djanloo/.local/share/virtualenvs/DM2-PeqFRmfa/lib/python3.10/site-packages/optuna/study/_optimize.py\", line 200, in _run_trial\n",
      "    value_or_values = func(trial)\n",
      "  File \"/tmp/ipykernel_25375/4273198217.py\", line 15, in objective_fun\n",
      "    cnn = build_and_fit_cnn(X=X_train_v,\n",
      "  File \"/tmp/ipykernel_25375/2256047732.py\", line 28, in build_and_fit_cnn\n",
      "    model.add(Conv1D(filters=filters, kernel_size=kernel_size, activation='relu', name=f\"extra_conv_{i}\"))\n",
      "  File \"/home/djanloo/.local/share/virtualenvs/DM2-PeqFRmfa/lib/python3.10/site-packages/tensorflow/python/trackable/base.py\", line 205, in _method_wrapper\n",
      "    result = method(self, *args, **kwargs)\n",
      "  File \"/home/djanloo/.local/share/virtualenvs/DM2-PeqFRmfa/lib/python3.10/site-packages/keras/utils/traceback_utils.py\", line 70, in error_handler\n",
      "    raise e.with_traceback(filtered_tb) from None\n",
      "  File \"/home/djanloo/.local/share/virtualenvs/DM2-PeqFRmfa/lib/python3.10/site-packages/keras/layers/convolutional/base_conv.py\", line 354, in compute_output_shape\n",
      "    raise ValueError(\n",
      "ValueError: One of the dimensions in the output is <= 0 due to downsampling in extra_conv_1. Consider increasing the input size. Received input shape [None, 3, 11] which would produce output shape with a zero or negative value in a dimension.\n",
      "[W 2023-06-26 13:05:09,237] Trial 51 failed with value None.\n"
     ]
    },
    {
     "name": "stdout",
     "output_type": "stream",
     "text": [
      "Running little bitch having n_conv=3, dropout=0.8501159169026276, hidden_nodes=246\n"
     ]
    },
    {
     "name": "stderr",
     "output_type": "stream",
     "text": [
      "[W 2023-06-26 13:05:09,793] Trial 52 failed with parameters: {'n_conv': 3, 'n_hidden': 0, 'hidden_nodes': 246, 'dropout': 0.8501159169026276, 'filters': 11, 'kernel_size': 11, 'batch_size': 16, 'epochs': 89} because of the following error: ValueError('One of the dimensions in the output is <= 0 due to downsampling in extra_conv_1. Consider increasing the input size. Received input shape [None, 3, 11] which would produce output shape with a zero or negative value in a dimension.').\n",
      "Traceback (most recent call last):\n",
      "  File \"/home/djanloo/.local/share/virtualenvs/DM2-PeqFRmfa/lib/python3.10/site-packages/optuna/study/_optimize.py\", line 200, in _run_trial\n",
      "    value_or_values = func(trial)\n",
      "  File \"/tmp/ipykernel_25375/4273198217.py\", line 15, in objective_fun\n",
      "    cnn = build_and_fit_cnn(X=X_train_v,\n",
      "  File \"/tmp/ipykernel_25375/2256047732.py\", line 28, in build_and_fit_cnn\n",
      "    model.add(Conv1D(filters=filters, kernel_size=kernel_size, activation='relu', name=f\"extra_conv_{i}\"))\n",
      "  File \"/home/djanloo/.local/share/virtualenvs/DM2-PeqFRmfa/lib/python3.10/site-packages/tensorflow/python/trackable/base.py\", line 205, in _method_wrapper\n",
      "    result = method(self, *args, **kwargs)\n",
      "  File \"/home/djanloo/.local/share/virtualenvs/DM2-PeqFRmfa/lib/python3.10/site-packages/keras/utils/traceback_utils.py\", line 70, in error_handler\n",
      "    raise e.with_traceback(filtered_tb) from None\n",
      "  File \"/home/djanloo/.local/share/virtualenvs/DM2-PeqFRmfa/lib/python3.10/site-packages/keras/layers/convolutional/base_conv.py\", line 354, in compute_output_shape\n",
      "    raise ValueError(\n",
      "ValueError: One of the dimensions in the output is <= 0 due to downsampling in extra_conv_1. Consider increasing the input size. Received input shape [None, 3, 11] which would produce output shape with a zero or negative value in a dimension.\n",
      "[W 2023-06-26 13:05:09,795] Trial 52 failed with value None.\n"
     ]
    },
    {
     "name": "stdout",
     "output_type": "stream",
     "text": [
      "Running little bitch having n_conv=3, dropout=0.9993262593819391, hidden_nodes=249\n"
     ]
    },
    {
     "name": "stderr",
     "output_type": "stream",
     "text": [
      "[W 2023-06-26 13:05:10,304] Trial 53 failed with parameters: {'n_conv': 3, 'n_hidden': 0, 'hidden_nodes': 249, 'dropout': 0.9993262593819391, 'filters': 11, 'kernel_size': 11, 'batch_size': 16, 'epochs': 88} because of the following error: ValueError('One of the dimensions in the output is <= 0 due to downsampling in extra_conv_1. Consider increasing the input size. Received input shape [None, 3, 11] which would produce output shape with a zero or negative value in a dimension.').\n",
      "Traceback (most recent call last):\n",
      "  File \"/home/djanloo/.local/share/virtualenvs/DM2-PeqFRmfa/lib/python3.10/site-packages/optuna/study/_optimize.py\", line 200, in _run_trial\n",
      "    value_or_values = func(trial)\n",
      "  File \"/tmp/ipykernel_25375/4273198217.py\", line 15, in objective_fun\n",
      "    cnn = build_and_fit_cnn(X=X_train_v,\n",
      "  File \"/tmp/ipykernel_25375/2256047732.py\", line 28, in build_and_fit_cnn\n",
      "    model.add(Conv1D(filters=filters, kernel_size=kernel_size, activation='relu', name=f\"extra_conv_{i}\"))\n",
      "  File \"/home/djanloo/.local/share/virtualenvs/DM2-PeqFRmfa/lib/python3.10/site-packages/tensorflow/python/trackable/base.py\", line 205, in _method_wrapper\n",
      "    result = method(self, *args, **kwargs)\n",
      "  File \"/home/djanloo/.local/share/virtualenvs/DM2-PeqFRmfa/lib/python3.10/site-packages/keras/utils/traceback_utils.py\", line 70, in error_handler\n",
      "    raise e.with_traceback(filtered_tb) from None\n",
      "  File \"/home/djanloo/.local/share/virtualenvs/DM2-PeqFRmfa/lib/python3.10/site-packages/keras/layers/convolutional/base_conv.py\", line 354, in compute_output_shape\n",
      "    raise ValueError(\n",
      "ValueError: One of the dimensions in the output is <= 0 due to downsampling in extra_conv_1. Consider increasing the input size. Received input shape [None, 3, 11] which would produce output shape with a zero or negative value in a dimension.\n",
      "[W 2023-06-26 13:05:10,313] Trial 53 failed with value None.\n"
     ]
    },
    {
     "name": "stdout",
     "output_type": "stream",
     "text": [
      "Running little bitch having n_conv=3, dropout=0.9863018147441859, hidden_nodes=249\n"
     ]
    },
    {
     "name": "stderr",
     "output_type": "stream",
     "text": [
      "[W 2023-06-26 13:05:10,837] Trial 54 failed with parameters: {'n_conv': 3, 'n_hidden': 0, 'hidden_nodes': 249, 'dropout': 0.9863018147441859, 'filters': 11, 'kernel_size': 11, 'batch_size': 18, 'epochs': 86} because of the following error: ValueError('One of the dimensions in the output is <= 0 due to downsampling in extra_conv_1. Consider increasing the input size. Received input shape [None, 3, 11] which would produce output shape with a zero or negative value in a dimension.').\n",
      "Traceback (most recent call last):\n",
      "  File \"/home/djanloo/.local/share/virtualenvs/DM2-PeqFRmfa/lib/python3.10/site-packages/optuna/study/_optimize.py\", line 200, in _run_trial\n",
      "    value_or_values = func(trial)\n",
      "  File \"/tmp/ipykernel_25375/4273198217.py\", line 15, in objective_fun\n",
      "    cnn = build_and_fit_cnn(X=X_train_v,\n",
      "  File \"/tmp/ipykernel_25375/2256047732.py\", line 28, in build_and_fit_cnn\n",
      "    model.add(Conv1D(filters=filters, kernel_size=kernel_size, activation='relu', name=f\"extra_conv_{i}\"))\n",
      "  File \"/home/djanloo/.local/share/virtualenvs/DM2-PeqFRmfa/lib/python3.10/site-packages/tensorflow/python/trackable/base.py\", line 205, in _method_wrapper\n",
      "    result = method(self, *args, **kwargs)\n",
      "  File \"/home/djanloo/.local/share/virtualenvs/DM2-PeqFRmfa/lib/python3.10/site-packages/keras/utils/traceback_utils.py\", line 70, in error_handler\n",
      "    raise e.with_traceback(filtered_tb) from None\n",
      "  File \"/home/djanloo/.local/share/virtualenvs/DM2-PeqFRmfa/lib/python3.10/site-packages/keras/layers/convolutional/base_conv.py\", line 354, in compute_output_shape\n",
      "    raise ValueError(\n",
      "ValueError: One of the dimensions in the output is <= 0 due to downsampling in extra_conv_1. Consider increasing the input size. Received input shape [None, 3, 11] which would produce output shape with a zero or negative value in a dimension.\n",
      "[W 2023-06-26 13:05:10,847] Trial 54 failed with value None.\n"
     ]
    },
    {
     "name": "stdout",
     "output_type": "stream",
     "text": [
      "Running little bitch having n_conv=2, dropout=0.9927532827240333, hidden_nodes=226\n"
     ]
    },
    {
     "name": "stderr",
     "output_type": "stream",
     "text": [
      "[W 2023-06-26 13:05:11,416] Trial 55 failed with parameters: {'n_conv': 2, 'n_hidden': 0, 'hidden_nodes': 226, 'dropout': 0.9927532827240333, 'filters': 11, 'kernel_size': 11, 'batch_size': 22, 'epochs': 84} because of the following error: ValueError('One of the dimensions in the output is <= 0 due to downsampling in extra_conv_1. Consider increasing the input size. Received input shape [None, 3, 11] which would produce output shape with a zero or negative value in a dimension.').\n",
      "Traceback (most recent call last):\n",
      "  File \"/home/djanloo/.local/share/virtualenvs/DM2-PeqFRmfa/lib/python3.10/site-packages/optuna/study/_optimize.py\", line 200, in _run_trial\n",
      "    value_or_values = func(trial)\n",
      "  File \"/tmp/ipykernel_25375/4273198217.py\", line 15, in objective_fun\n",
      "    cnn = build_and_fit_cnn(X=X_train_v,\n",
      "  File \"/tmp/ipykernel_25375/2256047732.py\", line 28, in build_and_fit_cnn\n",
      "    model.add(Conv1D(filters=filters, kernel_size=kernel_size, activation='relu', name=f\"extra_conv_{i}\"))\n",
      "  File \"/home/djanloo/.local/share/virtualenvs/DM2-PeqFRmfa/lib/python3.10/site-packages/tensorflow/python/trackable/base.py\", line 205, in _method_wrapper\n",
      "    result = method(self, *args, **kwargs)\n",
      "  File \"/home/djanloo/.local/share/virtualenvs/DM2-PeqFRmfa/lib/python3.10/site-packages/keras/utils/traceback_utils.py\", line 70, in error_handler\n",
      "    raise e.with_traceback(filtered_tb) from None\n",
      "  File \"/home/djanloo/.local/share/virtualenvs/DM2-PeqFRmfa/lib/python3.10/site-packages/keras/layers/convolutional/base_conv.py\", line 354, in compute_output_shape\n",
      "    raise ValueError(\n",
      "ValueError: One of the dimensions in the output is <= 0 due to downsampling in extra_conv_1. Consider increasing the input size. Received input shape [None, 3, 11] which would produce output shape with a zero or negative value in a dimension.\n",
      "[W 2023-06-26 13:05:11,422] Trial 55 failed with value None.\n"
     ]
    },
    {
     "name": "stdout",
     "output_type": "stream",
     "text": [
      "Running little bitch having n_conv=3, dropout=0.9928605246659941, hidden_nodes=249\n"
     ]
    },
    {
     "name": "stderr",
     "output_type": "stream",
     "text": [
      "[W 2023-06-26 13:05:11,976] Trial 56 failed with parameters: {'n_conv': 3, 'n_hidden': 0, 'hidden_nodes': 249, 'dropout': 0.9928605246659941, 'filters': 11, 'kernel_size': 12, 'batch_size': 16, 'epochs': 84} because of the following error: ValueError('One of the dimensions in the output is <= 0 due to downsampling in extra_conv_1. Consider increasing the input size. Received input shape [None, 1, 11] which would produce output shape with a zero or negative value in a dimension.').\n",
      "Traceback (most recent call last):\n",
      "  File \"/home/djanloo/.local/share/virtualenvs/DM2-PeqFRmfa/lib/python3.10/site-packages/optuna/study/_optimize.py\", line 200, in _run_trial\n",
      "    value_or_values = func(trial)\n",
      "  File \"/tmp/ipykernel_25375/4273198217.py\", line 15, in objective_fun\n",
      "    cnn = build_and_fit_cnn(X=X_train_v,\n",
      "  File \"/tmp/ipykernel_25375/2256047732.py\", line 28, in build_and_fit_cnn\n",
      "    model.add(Conv1D(filters=filters, kernel_size=kernel_size, activation='relu', name=f\"extra_conv_{i}\"))\n",
      "  File \"/home/djanloo/.local/share/virtualenvs/DM2-PeqFRmfa/lib/python3.10/site-packages/tensorflow/python/trackable/base.py\", line 205, in _method_wrapper\n",
      "    result = method(self, *args, **kwargs)\n",
      "  File \"/home/djanloo/.local/share/virtualenvs/DM2-PeqFRmfa/lib/python3.10/site-packages/keras/utils/traceback_utils.py\", line 70, in error_handler\n",
      "    raise e.with_traceback(filtered_tb) from None\n",
      "  File \"/home/djanloo/.local/share/virtualenvs/DM2-PeqFRmfa/lib/python3.10/site-packages/keras/layers/convolutional/base_conv.py\", line 354, in compute_output_shape\n",
      "    raise ValueError(\n",
      "ValueError: One of the dimensions in the output is <= 0 due to downsampling in extra_conv_1. Consider increasing the input size. Received input shape [None, 1, 11] which would produce output shape with a zero or negative value in a dimension.\n",
      "[W 2023-06-26 13:05:11,984] Trial 56 failed with value None.\n"
     ]
    },
    {
     "name": "stdout",
     "output_type": "stream",
     "text": [
      "Running little bitch having n_conv=3, dropout=0.9626853901088168, hidden_nodes=249\n"
     ]
    },
    {
     "name": "stderr",
     "output_type": "stream",
     "text": [
      "[W 2023-06-26 13:05:12,538] Trial 57 failed with parameters: {'n_conv': 3, 'n_hidden': 0, 'hidden_nodes': 249, 'dropout': 0.9626853901088168, 'filters': 11, 'kernel_size': 11, 'batch_size': 19, 'epochs': 87} because of the following error: ValueError('One of the dimensions in the output is <= 0 due to downsampling in extra_conv_1. Consider increasing the input size. Received input shape [None, 3, 11] which would produce output shape with a zero or negative value in a dimension.').\n",
      "Traceback (most recent call last):\n",
      "  File \"/home/djanloo/.local/share/virtualenvs/DM2-PeqFRmfa/lib/python3.10/site-packages/optuna/study/_optimize.py\", line 200, in _run_trial\n",
      "    value_or_values = func(trial)\n",
      "  File \"/tmp/ipykernel_25375/4273198217.py\", line 15, in objective_fun\n",
      "    cnn = build_and_fit_cnn(X=X_train_v,\n",
      "  File \"/tmp/ipykernel_25375/2256047732.py\", line 28, in build_and_fit_cnn\n",
      "    model.add(Conv1D(filters=filters, kernel_size=kernel_size, activation='relu', name=f\"extra_conv_{i}\"))\n",
      "  File \"/home/djanloo/.local/share/virtualenvs/DM2-PeqFRmfa/lib/python3.10/site-packages/tensorflow/python/trackable/base.py\", line 205, in _method_wrapper\n",
      "    result = method(self, *args, **kwargs)\n",
      "  File \"/home/djanloo/.local/share/virtualenvs/DM2-PeqFRmfa/lib/python3.10/site-packages/keras/utils/traceback_utils.py\", line 70, in error_handler\n",
      "    raise e.with_traceback(filtered_tb) from None\n",
      "  File \"/home/djanloo/.local/share/virtualenvs/DM2-PeqFRmfa/lib/python3.10/site-packages/keras/layers/convolutional/base_conv.py\", line 354, in compute_output_shape\n",
      "    raise ValueError(\n",
      "ValueError: One of the dimensions in the output is <= 0 due to downsampling in extra_conv_1. Consider increasing the input size. Received input shape [None, 3, 11] which would produce output shape with a zero or negative value in a dimension.\n",
      "[W 2023-06-26 13:05:12,540] Trial 57 failed with value None.\n"
     ]
    },
    {
     "name": "stdout",
     "output_type": "stream",
     "text": [
      "Running little bitch having n_conv=3, dropout=0.9966121081649276, hidden_nodes=227\n"
     ]
    },
    {
     "name": "stderr",
     "output_type": "stream",
     "text": [
      "[W 2023-06-26 13:05:13,040] Trial 58 failed with parameters: {'n_conv': 3, 'n_hidden': 0, 'hidden_nodes': 227, 'dropout': 0.9966121081649276, 'filters': 11, 'kernel_size': 11, 'batch_size': 18, 'epochs': 88} because of the following error: ValueError('One of the dimensions in the output is <= 0 due to downsampling in extra_conv_1. Consider increasing the input size. Received input shape [None, 3, 11] which would produce output shape with a zero or negative value in a dimension.').\n",
      "Traceback (most recent call last):\n",
      "  File \"/home/djanloo/.local/share/virtualenvs/DM2-PeqFRmfa/lib/python3.10/site-packages/optuna/study/_optimize.py\", line 200, in _run_trial\n",
      "    value_or_values = func(trial)\n",
      "  File \"/tmp/ipykernel_25375/4273198217.py\", line 15, in objective_fun\n",
      "    cnn = build_and_fit_cnn(X=X_train_v,\n",
      "  File \"/tmp/ipykernel_25375/2256047732.py\", line 28, in build_and_fit_cnn\n",
      "    model.add(Conv1D(filters=filters, kernel_size=kernel_size, activation='relu', name=f\"extra_conv_{i}\"))\n",
      "  File \"/home/djanloo/.local/share/virtualenvs/DM2-PeqFRmfa/lib/python3.10/site-packages/tensorflow/python/trackable/base.py\", line 205, in _method_wrapper\n",
      "    result = method(self, *args, **kwargs)\n",
      "  File \"/home/djanloo/.local/share/virtualenvs/DM2-PeqFRmfa/lib/python3.10/site-packages/keras/utils/traceback_utils.py\", line 70, in error_handler\n",
      "    raise e.with_traceback(filtered_tb) from None\n",
      "  File \"/home/djanloo/.local/share/virtualenvs/DM2-PeqFRmfa/lib/python3.10/site-packages/keras/layers/convolutional/base_conv.py\", line 354, in compute_output_shape\n",
      "    raise ValueError(\n",
      "ValueError: One of the dimensions in the output is <= 0 due to downsampling in extra_conv_1. Consider increasing the input size. Received input shape [None, 3, 11] which would produce output shape with a zero or negative value in a dimension.\n",
      "[W 2023-06-26 13:05:13,043] Trial 58 failed with value None.\n"
     ]
    },
    {
     "name": "stdout",
     "output_type": "stream",
     "text": [
      "Running little bitch having n_conv=3, dropout=0.9981623940164626, hidden_nodes=254\n"
     ]
    },
    {
     "name": "stderr",
     "output_type": "stream",
     "text": [
      "[W 2023-06-26 13:05:13,606] Trial 59 failed with parameters: {'n_conv': 3, 'n_hidden': 0, 'hidden_nodes': 254, 'dropout': 0.9981623940164626, 'filters': 11, 'kernel_size': 11, 'batch_size': 19, 'epochs': 90} because of the following error: ValueError('One of the dimensions in the output is <= 0 due to downsampling in extra_conv_1. Consider increasing the input size. Received input shape [None, 3, 11] which would produce output shape with a zero or negative value in a dimension.').\n",
      "Traceback (most recent call last):\n",
      "  File \"/home/djanloo/.local/share/virtualenvs/DM2-PeqFRmfa/lib/python3.10/site-packages/optuna/study/_optimize.py\", line 200, in _run_trial\n",
      "    value_or_values = func(trial)\n",
      "  File \"/tmp/ipykernel_25375/4273198217.py\", line 15, in objective_fun\n",
      "    cnn = build_and_fit_cnn(X=X_train_v,\n",
      "  File \"/tmp/ipykernel_25375/2256047732.py\", line 28, in build_and_fit_cnn\n",
      "    model.add(Conv1D(filters=filters, kernel_size=kernel_size, activation='relu', name=f\"extra_conv_{i}\"))\n",
      "  File \"/home/djanloo/.local/share/virtualenvs/DM2-PeqFRmfa/lib/python3.10/site-packages/tensorflow/python/trackable/base.py\", line 205, in _method_wrapper\n",
      "    result = method(self, *args, **kwargs)\n",
      "  File \"/home/djanloo/.local/share/virtualenvs/DM2-PeqFRmfa/lib/python3.10/site-packages/keras/utils/traceback_utils.py\", line 70, in error_handler\n",
      "    raise e.with_traceback(filtered_tb) from None\n",
      "  File \"/home/djanloo/.local/share/virtualenvs/DM2-PeqFRmfa/lib/python3.10/site-packages/keras/layers/convolutional/base_conv.py\", line 354, in compute_output_shape\n",
      "    raise ValueError(\n",
      "ValueError: One of the dimensions in the output is <= 0 due to downsampling in extra_conv_1. Consider increasing the input size. Received input shape [None, 3, 11] which would produce output shape with a zero or negative value in a dimension.\n",
      "[W 2023-06-26 13:05:13,617] Trial 59 failed with value None.\n"
     ]
    },
    {
     "name": "stdout",
     "output_type": "stream",
     "text": [
      "Running little bitch having n_conv=3, dropout=0.9928965426278417, hidden_nodes=251\n"
     ]
    },
    {
     "name": "stderr",
     "output_type": "stream",
     "text": [
      "[W 2023-06-26 13:05:14,174] Trial 60 failed with parameters: {'n_conv': 3, 'n_hidden': 0, 'hidden_nodes': 251, 'dropout': 0.9928965426278417, 'filters': 12, 'kernel_size': 11, 'batch_size': 19, 'epochs': 89} because of the following error: ValueError('One of the dimensions in the output is <= 0 due to downsampling in extra_conv_1. Consider increasing the input size. Received input shape [None, 3, 12] which would produce output shape with a zero or negative value in a dimension.').\n",
      "Traceback (most recent call last):\n",
      "  File \"/home/djanloo/.local/share/virtualenvs/DM2-PeqFRmfa/lib/python3.10/site-packages/optuna/study/_optimize.py\", line 200, in _run_trial\n",
      "    value_or_values = func(trial)\n",
      "  File \"/tmp/ipykernel_25375/4273198217.py\", line 15, in objective_fun\n",
      "    cnn = build_and_fit_cnn(X=X_train_v,\n",
      "  File \"/tmp/ipykernel_25375/2256047732.py\", line 28, in build_and_fit_cnn\n",
      "    model.add(Conv1D(filters=filters, kernel_size=kernel_size, activation='relu', name=f\"extra_conv_{i}\"))\n",
      "  File \"/home/djanloo/.local/share/virtualenvs/DM2-PeqFRmfa/lib/python3.10/site-packages/tensorflow/python/trackable/base.py\", line 205, in _method_wrapper\n",
      "    result = method(self, *args, **kwargs)\n",
      "  File \"/home/djanloo/.local/share/virtualenvs/DM2-PeqFRmfa/lib/python3.10/site-packages/keras/utils/traceback_utils.py\", line 70, in error_handler\n",
      "    raise e.with_traceback(filtered_tb) from None\n",
      "  File \"/home/djanloo/.local/share/virtualenvs/DM2-PeqFRmfa/lib/python3.10/site-packages/keras/layers/convolutional/base_conv.py\", line 354, in compute_output_shape\n",
      "    raise ValueError(\n",
      "ValueError: One of the dimensions in the output is <= 0 due to downsampling in extra_conv_1. Consider increasing the input size. Received input shape [None, 3, 12] which would produce output shape with a zero or negative value in a dimension.\n",
      "[W 2023-06-26 13:05:14,177] Trial 60 failed with value None.\n"
     ]
    },
    {
     "name": "stdout",
     "output_type": "stream",
     "text": [
      "Running little bitch having n_conv=3, dropout=0.9613169523632067, hidden_nodes=253\n"
     ]
    },
    {
     "name": "stderr",
     "output_type": "stream",
     "text": [
      "[W 2023-06-26 13:05:14,798] Trial 61 failed with parameters: {'n_conv': 3, 'n_hidden': 0, 'hidden_nodes': 253, 'dropout': 0.9613169523632067, 'filters': 11, 'kernel_size': 11, 'batch_size': 16, 'epochs': 84} because of the following error: ValueError('One of the dimensions in the output is <= 0 due to downsampling in extra_conv_1. Consider increasing the input size. Received input shape [None, 3, 11] which would produce output shape with a zero or negative value in a dimension.').\n",
      "Traceback (most recent call last):\n",
      "  File \"/home/djanloo/.local/share/virtualenvs/DM2-PeqFRmfa/lib/python3.10/site-packages/optuna/study/_optimize.py\", line 200, in _run_trial\n",
      "    value_or_values = func(trial)\n",
      "  File \"/tmp/ipykernel_25375/4273198217.py\", line 15, in objective_fun\n",
      "    cnn = build_and_fit_cnn(X=X_train_v,\n",
      "  File \"/tmp/ipykernel_25375/2256047732.py\", line 28, in build_and_fit_cnn\n",
      "    model.add(Conv1D(filters=filters, kernel_size=kernel_size, activation='relu', name=f\"extra_conv_{i}\"))\n",
      "  File \"/home/djanloo/.local/share/virtualenvs/DM2-PeqFRmfa/lib/python3.10/site-packages/tensorflow/python/trackable/base.py\", line 205, in _method_wrapper\n",
      "    result = method(self, *args, **kwargs)\n",
      "  File \"/home/djanloo/.local/share/virtualenvs/DM2-PeqFRmfa/lib/python3.10/site-packages/keras/utils/traceback_utils.py\", line 70, in error_handler\n",
      "    raise e.with_traceback(filtered_tb) from None\n",
      "  File \"/home/djanloo/.local/share/virtualenvs/DM2-PeqFRmfa/lib/python3.10/site-packages/keras/layers/convolutional/base_conv.py\", line 354, in compute_output_shape\n",
      "    raise ValueError(\n",
      "ValueError: One of the dimensions in the output is <= 0 due to downsampling in extra_conv_1. Consider increasing the input size. Received input shape [None, 3, 11] which would produce output shape with a zero or negative value in a dimension.\n",
      "[W 2023-06-26 13:05:14,801] Trial 61 failed with value None.\n"
     ]
    },
    {
     "name": "stdout",
     "output_type": "stream",
     "text": [
      "Running little bitch having n_conv=3, dropout=0.9404309384120013, hidden_nodes=250\n"
     ]
    },
    {
     "name": "stderr",
     "output_type": "stream",
     "text": [
      "[W 2023-06-26 13:05:15,360] Trial 62 failed with parameters: {'n_conv': 3, 'n_hidden': 0, 'hidden_nodes': 250, 'dropout': 0.9404309384120013, 'filters': 11, 'kernel_size': 11, 'batch_size': 19, 'epochs': 89} because of the following error: ValueError('One of the dimensions in the output is <= 0 due to downsampling in extra_conv_1. Consider increasing the input size. Received input shape [None, 3, 11] which would produce output shape with a zero or negative value in a dimension.').\n",
      "Traceback (most recent call last):\n",
      "  File \"/home/djanloo/.local/share/virtualenvs/DM2-PeqFRmfa/lib/python3.10/site-packages/optuna/study/_optimize.py\", line 200, in _run_trial\n",
      "    value_or_values = func(trial)\n",
      "  File \"/tmp/ipykernel_25375/4273198217.py\", line 15, in objective_fun\n",
      "    cnn = build_and_fit_cnn(X=X_train_v,\n",
      "  File \"/tmp/ipykernel_25375/2256047732.py\", line 28, in build_and_fit_cnn\n",
      "    model.add(Conv1D(filters=filters, kernel_size=kernel_size, activation='relu', name=f\"extra_conv_{i}\"))\n",
      "  File \"/home/djanloo/.local/share/virtualenvs/DM2-PeqFRmfa/lib/python3.10/site-packages/tensorflow/python/trackable/base.py\", line 205, in _method_wrapper\n",
      "    result = method(self, *args, **kwargs)\n",
      "  File \"/home/djanloo/.local/share/virtualenvs/DM2-PeqFRmfa/lib/python3.10/site-packages/keras/utils/traceback_utils.py\", line 70, in error_handler\n",
      "    raise e.with_traceback(filtered_tb) from None\n",
      "  File \"/home/djanloo/.local/share/virtualenvs/DM2-PeqFRmfa/lib/python3.10/site-packages/keras/layers/convolutional/base_conv.py\", line 354, in compute_output_shape\n",
      "    raise ValueError(\n",
      "ValueError: One of the dimensions in the output is <= 0 due to downsampling in extra_conv_1. Consider increasing the input size. Received input shape [None, 3, 11] which would produce output shape with a zero or negative value in a dimension.\n",
      "[W 2023-06-26 13:05:15,370] Trial 62 failed with value None.\n"
     ]
    },
    {
     "name": "stdout",
     "output_type": "stream",
     "text": [
      "Running little bitch having n_conv=3, dropout=0.9959817802820118, hidden_nodes=251\n"
     ]
    },
    {
     "name": "stderr",
     "output_type": "stream",
     "text": [
      "[W 2023-06-26 13:05:15,912] Trial 63 failed with parameters: {'n_conv': 3, 'n_hidden': 0, 'hidden_nodes': 251, 'dropout': 0.9959817802820118, 'filters': 11, 'kernel_size': 11, 'batch_size': 16, 'epochs': 89} because of the following error: ValueError('One of the dimensions in the output is <= 0 due to downsampling in extra_conv_1. Consider increasing the input size. Received input shape [None, 3, 11] which would produce output shape with a zero or negative value in a dimension.').\n",
      "Traceback (most recent call last):\n",
      "  File \"/home/djanloo/.local/share/virtualenvs/DM2-PeqFRmfa/lib/python3.10/site-packages/optuna/study/_optimize.py\", line 200, in _run_trial\n",
      "    value_or_values = func(trial)\n",
      "  File \"/tmp/ipykernel_25375/4273198217.py\", line 15, in objective_fun\n",
      "    cnn = build_and_fit_cnn(X=X_train_v,\n",
      "  File \"/tmp/ipykernel_25375/2256047732.py\", line 28, in build_and_fit_cnn\n",
      "    model.add(Conv1D(filters=filters, kernel_size=kernel_size, activation='relu', name=f\"extra_conv_{i}\"))\n",
      "  File \"/home/djanloo/.local/share/virtualenvs/DM2-PeqFRmfa/lib/python3.10/site-packages/tensorflow/python/trackable/base.py\", line 205, in _method_wrapper\n",
      "    result = method(self, *args, **kwargs)\n",
      "  File \"/home/djanloo/.local/share/virtualenvs/DM2-PeqFRmfa/lib/python3.10/site-packages/keras/utils/traceback_utils.py\", line 70, in error_handler\n",
      "    raise e.with_traceback(filtered_tb) from None\n",
      "  File \"/home/djanloo/.local/share/virtualenvs/DM2-PeqFRmfa/lib/python3.10/site-packages/keras/layers/convolutional/base_conv.py\", line 354, in compute_output_shape\n",
      "    raise ValueError(\n",
      "ValueError: One of the dimensions in the output is <= 0 due to downsampling in extra_conv_1. Consider increasing the input size. Received input shape [None, 3, 11] which would produce output shape with a zero or negative value in a dimension.\n",
      "[W 2023-06-26 13:05:15,917] Trial 63 failed with value None.\n"
     ]
    },
    {
     "name": "stdout",
     "output_type": "stream",
     "text": [
      "Running little bitch having n_conv=3, dropout=0.9265202150811059, hidden_nodes=246\n"
     ]
    },
    {
     "name": "stderr",
     "output_type": "stream",
     "text": [
      "[W 2023-06-26 13:05:16,533] Trial 64 failed with parameters: {'n_conv': 3, 'n_hidden': 0, 'hidden_nodes': 246, 'dropout': 0.9265202150811059, 'filters': 11, 'kernel_size': 11, 'batch_size': 19, 'epochs': 90} because of the following error: ValueError('One of the dimensions in the output is <= 0 due to downsampling in extra_conv_1. Consider increasing the input size. Received input shape [None, 3, 11] which would produce output shape with a zero or negative value in a dimension.').\n",
      "Traceback (most recent call last):\n",
      "  File \"/home/djanloo/.local/share/virtualenvs/DM2-PeqFRmfa/lib/python3.10/site-packages/optuna/study/_optimize.py\", line 200, in _run_trial\n",
      "    value_or_values = func(trial)\n",
      "  File \"/tmp/ipykernel_25375/4273198217.py\", line 15, in objective_fun\n",
      "    cnn = build_and_fit_cnn(X=X_train_v,\n",
      "  File \"/tmp/ipykernel_25375/2256047732.py\", line 28, in build_and_fit_cnn\n",
      "    model.add(Conv1D(filters=filters, kernel_size=kernel_size, activation='relu', name=f\"extra_conv_{i}\"))\n",
      "  File \"/home/djanloo/.local/share/virtualenvs/DM2-PeqFRmfa/lib/python3.10/site-packages/tensorflow/python/trackable/base.py\", line 205, in _method_wrapper\n",
      "    result = method(self, *args, **kwargs)\n",
      "  File \"/home/djanloo/.local/share/virtualenvs/DM2-PeqFRmfa/lib/python3.10/site-packages/keras/utils/traceback_utils.py\", line 70, in error_handler\n",
      "    raise e.with_traceback(filtered_tb) from None\n",
      "  File \"/home/djanloo/.local/share/virtualenvs/DM2-PeqFRmfa/lib/python3.10/site-packages/keras/layers/convolutional/base_conv.py\", line 354, in compute_output_shape\n",
      "    raise ValueError(\n",
      "ValueError: One of the dimensions in the output is <= 0 due to downsampling in extra_conv_1. Consider increasing the input size. Received input shape [None, 3, 11] which would produce output shape with a zero or negative value in a dimension.\n",
      "[W 2023-06-26 13:05:16,540] Trial 64 failed with value None.\n"
     ]
    },
    {
     "name": "stdout",
     "output_type": "stream",
     "text": [
      "Running little bitch having n_conv=3, dropout=0.990093503696309, hidden_nodes=256\n"
     ]
    },
    {
     "name": "stderr",
     "output_type": "stream",
     "text": [
      "[W 2023-06-26 13:05:17,074] Trial 65 failed with parameters: {'n_conv': 3, 'n_hidden': 0, 'hidden_nodes': 256, 'dropout': 0.990093503696309, 'filters': 11, 'kernel_size': 11, 'batch_size': 19, 'epochs': 89} because of the following error: ValueError('One of the dimensions in the output is <= 0 due to downsampling in extra_conv_1. Consider increasing the input size. Received input shape [None, 3, 11] which would produce output shape with a zero or negative value in a dimension.').\n",
      "Traceback (most recent call last):\n",
      "  File \"/home/djanloo/.local/share/virtualenvs/DM2-PeqFRmfa/lib/python3.10/site-packages/optuna/study/_optimize.py\", line 200, in _run_trial\n",
      "    value_or_values = func(trial)\n",
      "  File \"/tmp/ipykernel_25375/4273198217.py\", line 15, in objective_fun\n",
      "    cnn = build_and_fit_cnn(X=X_train_v,\n",
      "  File \"/tmp/ipykernel_25375/2256047732.py\", line 28, in build_and_fit_cnn\n",
      "    model.add(Conv1D(filters=filters, kernel_size=kernel_size, activation='relu', name=f\"extra_conv_{i}\"))\n",
      "  File \"/home/djanloo/.local/share/virtualenvs/DM2-PeqFRmfa/lib/python3.10/site-packages/tensorflow/python/trackable/base.py\", line 205, in _method_wrapper\n",
      "    result = method(self, *args, **kwargs)\n",
      "  File \"/home/djanloo/.local/share/virtualenvs/DM2-PeqFRmfa/lib/python3.10/site-packages/keras/utils/traceback_utils.py\", line 70, in error_handler\n",
      "    raise e.with_traceback(filtered_tb) from None\n",
      "  File \"/home/djanloo/.local/share/virtualenvs/DM2-PeqFRmfa/lib/python3.10/site-packages/keras/layers/convolutional/base_conv.py\", line 354, in compute_output_shape\n",
      "    raise ValueError(\n",
      "ValueError: One of the dimensions in the output is <= 0 due to downsampling in extra_conv_1. Consider increasing the input size. Received input shape [None, 3, 11] which would produce output shape with a zero or negative value in a dimension.\n",
      "[W 2023-06-26 13:05:17,083] Trial 65 failed with value None.\n"
     ]
    },
    {
     "name": "stdout",
     "output_type": "stream",
     "text": [
      "Running little bitch having n_conv=3, dropout=0.990648825505316, hidden_nodes=251\n"
     ]
    },
    {
     "name": "stderr",
     "output_type": "stream",
     "text": [
      "[W 2023-06-26 13:05:17,642] Trial 66 failed with parameters: {'n_conv': 3, 'n_hidden': 0, 'hidden_nodes': 251, 'dropout': 0.990648825505316, 'filters': 11, 'kernel_size': 11, 'batch_size': 16, 'epochs': 85} because of the following error: ValueError('One of the dimensions in the output is <= 0 due to downsampling in extra_conv_1. Consider increasing the input size. Received input shape [None, 3, 11] which would produce output shape with a zero or negative value in a dimension.').\n",
      "Traceback (most recent call last):\n",
      "  File \"/home/djanloo/.local/share/virtualenvs/DM2-PeqFRmfa/lib/python3.10/site-packages/optuna/study/_optimize.py\", line 200, in _run_trial\n",
      "    value_or_values = func(trial)\n",
      "  File \"/tmp/ipykernel_25375/4273198217.py\", line 15, in objective_fun\n",
      "    cnn = build_and_fit_cnn(X=X_train_v,\n",
      "  File \"/tmp/ipykernel_25375/2256047732.py\", line 28, in build_and_fit_cnn\n",
      "    model.add(Conv1D(filters=filters, kernel_size=kernel_size, activation='relu', name=f\"extra_conv_{i}\"))\n",
      "  File \"/home/djanloo/.local/share/virtualenvs/DM2-PeqFRmfa/lib/python3.10/site-packages/tensorflow/python/trackable/base.py\", line 205, in _method_wrapper\n",
      "    result = method(self, *args, **kwargs)\n",
      "  File \"/home/djanloo/.local/share/virtualenvs/DM2-PeqFRmfa/lib/python3.10/site-packages/keras/utils/traceback_utils.py\", line 70, in error_handler\n",
      "    raise e.with_traceback(filtered_tb) from None\n",
      "  File \"/home/djanloo/.local/share/virtualenvs/DM2-PeqFRmfa/lib/python3.10/site-packages/keras/layers/convolutional/base_conv.py\", line 354, in compute_output_shape\n",
      "    raise ValueError(\n",
      "ValueError: One of the dimensions in the output is <= 0 due to downsampling in extra_conv_1. Consider increasing the input size. Received input shape [None, 3, 11] which would produce output shape with a zero or negative value in a dimension.\n",
      "[W 2023-06-26 13:05:17,651] Trial 66 failed with value None.\n"
     ]
    },
    {
     "name": "stdout",
     "output_type": "stream",
     "text": [
      "Running little bitch having n_conv=3, dropout=0.9707365232928704, hidden_nodes=246\n"
     ]
    },
    {
     "name": "stderr",
     "output_type": "stream",
     "text": [
      "[W 2023-06-26 13:05:18,305] Trial 67 failed with parameters: {'n_conv': 3, 'n_hidden': 0, 'hidden_nodes': 246, 'dropout': 0.9707365232928704, 'filters': 12, 'kernel_size': 11, 'batch_size': 16, 'epochs': 90} because of the following error: ValueError('One of the dimensions in the output is <= 0 due to downsampling in extra_conv_1. Consider increasing the input size. Received input shape [None, 3, 12] which would produce output shape with a zero or negative value in a dimension.').\n",
      "Traceback (most recent call last):\n",
      "  File \"/home/djanloo/.local/share/virtualenvs/DM2-PeqFRmfa/lib/python3.10/site-packages/optuna/study/_optimize.py\", line 200, in _run_trial\n",
      "    value_or_values = func(trial)\n",
      "  File \"/tmp/ipykernel_25375/4273198217.py\", line 15, in objective_fun\n",
      "    cnn = build_and_fit_cnn(X=X_train_v,\n",
      "  File \"/tmp/ipykernel_25375/2256047732.py\", line 28, in build_and_fit_cnn\n",
      "    model.add(Conv1D(filters=filters, kernel_size=kernel_size, activation='relu', name=f\"extra_conv_{i}\"))\n",
      "  File \"/home/djanloo/.local/share/virtualenvs/DM2-PeqFRmfa/lib/python3.10/site-packages/tensorflow/python/trackable/base.py\", line 205, in _method_wrapper\n",
      "    result = method(self, *args, **kwargs)\n",
      "  File \"/home/djanloo/.local/share/virtualenvs/DM2-PeqFRmfa/lib/python3.10/site-packages/keras/utils/traceback_utils.py\", line 70, in error_handler\n",
      "    raise e.with_traceback(filtered_tb) from None\n",
      "  File \"/home/djanloo/.local/share/virtualenvs/DM2-PeqFRmfa/lib/python3.10/site-packages/keras/layers/convolutional/base_conv.py\", line 354, in compute_output_shape\n",
      "    raise ValueError(\n",
      "ValueError: One of the dimensions in the output is <= 0 due to downsampling in extra_conv_1. Consider increasing the input size. Received input shape [None, 3, 12] which would produce output shape with a zero or negative value in a dimension.\n",
      "[W 2023-06-26 13:05:18,309] Trial 67 failed with value None.\n"
     ]
    },
    {
     "name": "stdout",
     "output_type": "stream",
     "text": [
      "Running little bitch having n_conv=3, dropout=0.983312340629353, hidden_nodes=243\n"
     ]
    },
    {
     "name": "stderr",
     "output_type": "stream",
     "text": [
      "[W 2023-06-26 13:05:18,858] Trial 68 failed with parameters: {'n_conv': 3, 'n_hidden': 0, 'hidden_nodes': 243, 'dropout': 0.983312340629353, 'filters': 11, 'kernel_size': 11, 'batch_size': 16, 'epochs': 89} because of the following error: ValueError('One of the dimensions in the output is <= 0 due to downsampling in extra_conv_1. Consider increasing the input size. Received input shape [None, 3, 11] which would produce output shape with a zero or negative value in a dimension.').\n",
      "Traceback (most recent call last):\n",
      "  File \"/home/djanloo/.local/share/virtualenvs/DM2-PeqFRmfa/lib/python3.10/site-packages/optuna/study/_optimize.py\", line 200, in _run_trial\n",
      "    value_or_values = func(trial)\n",
      "  File \"/tmp/ipykernel_25375/4273198217.py\", line 15, in objective_fun\n",
      "    cnn = build_and_fit_cnn(X=X_train_v,\n",
      "  File \"/tmp/ipykernel_25375/2256047732.py\", line 28, in build_and_fit_cnn\n",
      "    model.add(Conv1D(filters=filters, kernel_size=kernel_size, activation='relu', name=f\"extra_conv_{i}\"))\n",
      "  File \"/home/djanloo/.local/share/virtualenvs/DM2-PeqFRmfa/lib/python3.10/site-packages/tensorflow/python/trackable/base.py\", line 205, in _method_wrapper\n",
      "    result = method(self, *args, **kwargs)\n",
      "  File \"/home/djanloo/.local/share/virtualenvs/DM2-PeqFRmfa/lib/python3.10/site-packages/keras/utils/traceback_utils.py\", line 70, in error_handler\n",
      "    raise e.with_traceback(filtered_tb) from None\n",
      "  File \"/home/djanloo/.local/share/virtualenvs/DM2-PeqFRmfa/lib/python3.10/site-packages/keras/layers/convolutional/base_conv.py\", line 354, in compute_output_shape\n",
      "    raise ValueError(\n",
      "ValueError: One of the dimensions in the output is <= 0 due to downsampling in extra_conv_1. Consider increasing the input size. Received input shape [None, 3, 11] which would produce output shape with a zero or negative value in a dimension.\n",
      "[W 2023-06-26 13:05:18,867] Trial 68 failed with value None.\n"
     ]
    },
    {
     "name": "stdout",
     "output_type": "stream",
     "text": [
      "Running little bitch having n_conv=3, dropout=0.9998891880077815, hidden_nodes=243\n"
     ]
    },
    {
     "name": "stderr",
     "output_type": "stream",
     "text": [
      "[W 2023-06-26 13:05:19,378] Trial 69 failed with parameters: {'n_conv': 3, 'n_hidden': 0, 'hidden_nodes': 243, 'dropout': 0.9998891880077815, 'filters': 11, 'kernel_size': 11, 'batch_size': 17, 'epochs': 88} because of the following error: ValueError('One of the dimensions in the output is <= 0 due to downsampling in extra_conv_1. Consider increasing the input size. Received input shape [None, 3, 11] which would produce output shape with a zero or negative value in a dimension.').\n",
      "Traceback (most recent call last):\n",
      "  File \"/home/djanloo/.local/share/virtualenvs/DM2-PeqFRmfa/lib/python3.10/site-packages/optuna/study/_optimize.py\", line 200, in _run_trial\n",
      "    value_or_values = func(trial)\n",
      "  File \"/tmp/ipykernel_25375/4273198217.py\", line 15, in objective_fun\n",
      "    cnn = build_and_fit_cnn(X=X_train_v,\n",
      "  File \"/tmp/ipykernel_25375/2256047732.py\", line 28, in build_and_fit_cnn\n",
      "    model.add(Conv1D(filters=filters, kernel_size=kernel_size, activation='relu', name=f\"extra_conv_{i}\"))\n",
      "  File \"/home/djanloo/.local/share/virtualenvs/DM2-PeqFRmfa/lib/python3.10/site-packages/tensorflow/python/trackable/base.py\", line 205, in _method_wrapper\n",
      "    result = method(self, *args, **kwargs)\n",
      "  File \"/home/djanloo/.local/share/virtualenvs/DM2-PeqFRmfa/lib/python3.10/site-packages/keras/utils/traceback_utils.py\", line 70, in error_handler\n",
      "    raise e.with_traceback(filtered_tb) from None\n",
      "  File \"/home/djanloo/.local/share/virtualenvs/DM2-PeqFRmfa/lib/python3.10/site-packages/keras/layers/convolutional/base_conv.py\", line 354, in compute_output_shape\n",
      "    raise ValueError(\n",
      "ValueError: One of the dimensions in the output is <= 0 due to downsampling in extra_conv_1. Consider increasing the input size. Received input shape [None, 3, 11] which would produce output shape with a zero or negative value in a dimension.\n",
      "[W 2023-06-26 13:05:19,383] Trial 69 failed with value None.\n"
     ]
    },
    {
     "name": "stdout",
     "output_type": "stream",
     "text": [
      "Running little bitch having n_conv=3, dropout=0.9042855919105114, hidden_nodes=252\n",
      "12/12 [==============================] - 1s 10ms/step\n"
     ]
    },
    {
     "name": "stderr",
     "output_type": "stream",
     "text": [
      "[W 2023-06-26 13:05:19,892] Trial 70 failed with parameters: {'n_conv': 3, 'n_hidden': 0, 'hidden_nodes': 252, 'dropout': 0.9042855919105114, 'filters': 11, 'kernel_size': 11, 'batch_size': 16, 'epochs': 88} because of the following error: ValueError('One of the dimensions in the output is <= 0 due to downsampling in extra_conv_1. Consider increasing the input size. Received input shape [None, 3, 11] which would produce output shape with a zero or negative value in a dimension.').\n",
      "Traceback (most recent call last):\n",
      "  File \"/home/djanloo/.local/share/virtualenvs/DM2-PeqFRmfa/lib/python3.10/site-packages/optuna/study/_optimize.py\", line 200, in _run_trial\n",
      "    value_or_values = func(trial)\n",
      "  File \"/tmp/ipykernel_25375/4273198217.py\", line 15, in objective_fun\n",
      "    cnn = build_and_fit_cnn(X=X_train_v,\n",
      "  File \"/tmp/ipykernel_25375/2256047732.py\", line 28, in build_and_fit_cnn\n",
      "    model.add(Conv1D(filters=filters, kernel_size=kernel_size, activation='relu', name=f\"extra_conv_{i}\"))\n",
      "  File \"/home/djanloo/.local/share/virtualenvs/DM2-PeqFRmfa/lib/python3.10/site-packages/tensorflow/python/trackable/base.py\", line 205, in _method_wrapper\n",
      "    result = method(self, *args, **kwargs)\n",
      "  File \"/home/djanloo/.local/share/virtualenvs/DM2-PeqFRmfa/lib/python3.10/site-packages/keras/utils/traceback_utils.py\", line 70, in error_handler\n",
      "    raise e.with_traceback(filtered_tb) from None\n",
      "  File \"/home/djanloo/.local/share/virtualenvs/DM2-PeqFRmfa/lib/python3.10/site-packages/keras/layers/convolutional/base_conv.py\", line 354, in compute_output_shape\n",
      "    raise ValueError(\n",
      "ValueError: One of the dimensions in the output is <= 0 due to downsampling in extra_conv_1. Consider increasing the input size. Received input shape [None, 3, 11] which would produce output shape with a zero or negative value in a dimension.\n",
      "[W 2023-06-26 13:05:19,896] Trial 70 failed with value None.\n",
      "[I 2023-06-26 13:05:19,974] Trial 19 finished with value: 0.7759562841530054 and parameters: {'n_conv': 3, 'n_hidden': 3, 'hidden_nodes': 234, 'dropout': 0.8429364788840755, 'filters': 7, 'kernel_size': 2, 'batch_size': 27, 'epochs': 63}. Best is trial 16 with value: 0.9890710382513661.\n"
     ]
    },
    {
     "name": "stdout",
     "output_type": "stream",
     "text": [
      "Running little bitch having n_conv=3, dropout=0.9557788214898781, hidden_nodes=248\n",
      "Running little bitch having n_conv=2, dropout=0.9877209632157226, hidden_nodes=80\n"
     ]
    },
    {
     "name": "stderr",
     "output_type": "stream",
     "text": [
      "[W 2023-06-26 13:05:20,620] Trial 72 failed with parameters: {'n_conv': 2, 'n_hidden': 1, 'hidden_nodes': 80, 'dropout': 0.9877209632157226, 'filters': 11, 'kernel_size': 12, 'batch_size': 17, 'epochs': 8} because of the following error: ValueError('One of the dimensions in the output is <= 0 due to downsampling in extra_conv_1. Consider increasing the input size. Received input shape [None, 1, 11] which would produce output shape with a zero or negative value in a dimension.').\n",
      "Traceback (most recent call last):\n",
      "  File \"/home/djanloo/.local/share/virtualenvs/DM2-PeqFRmfa/lib/python3.10/site-packages/optuna/study/_optimize.py\", line 200, in _run_trial\n",
      "    value_or_values = func(trial)\n",
      "  File \"/tmp/ipykernel_25375/4273198217.py\", line 15, in objective_fun\n",
      "    cnn = build_and_fit_cnn(X=X_train_v,\n",
      "  File \"/tmp/ipykernel_25375/2256047732.py\", line 28, in build_and_fit_cnn\n",
      "    model.add(Conv1D(filters=filters, kernel_size=kernel_size, activation='relu', name=f\"extra_conv_{i}\"))\n",
      "  File \"/home/djanloo/.local/share/virtualenvs/DM2-PeqFRmfa/lib/python3.10/site-packages/tensorflow/python/trackable/base.py\", line 205, in _method_wrapper\n",
      "    result = method(self, *args, **kwargs)\n",
      "  File \"/home/djanloo/.local/share/virtualenvs/DM2-PeqFRmfa/lib/python3.10/site-packages/keras/utils/traceback_utils.py\", line 70, in error_handler\n",
      "    raise e.with_traceback(filtered_tb) from None\n",
      "  File \"/home/djanloo/.local/share/virtualenvs/DM2-PeqFRmfa/lib/python3.10/site-packages/keras/layers/convolutional/base_conv.py\", line 354, in compute_output_shape\n",
      "    raise ValueError(\n",
      "ValueError: One of the dimensions in the output is <= 0 due to downsampling in extra_conv_1. Consider increasing the input size. Received input shape [None, 1, 11] which would produce output shape with a zero or negative value in a dimension.\n",
      "[W 2023-06-26 13:05:20,622] Trial 71 failed with parameters: {'n_conv': 3, 'n_hidden': 0, 'hidden_nodes': 248, 'dropout': 0.9557788214898781, 'filters': 11, 'kernel_size': 11, 'batch_size': 18, 'epochs': 89} because of the following error: ValueError('One of the dimensions in the output is <= 0 due to downsampling in extra_conv_1. Consider increasing the input size. Received input shape [None, 3, 11] which would produce output shape with a zero or negative value in a dimension.').\n",
      "Traceback (most recent call last):\n",
      "  File \"/home/djanloo/.local/share/virtualenvs/DM2-PeqFRmfa/lib/python3.10/site-packages/optuna/study/_optimize.py\", line 200, in _run_trial\n",
      "    value_or_values = func(trial)\n",
      "  File \"/tmp/ipykernel_25375/4273198217.py\", line 15, in objective_fun\n",
      "    cnn = build_and_fit_cnn(X=X_train_v,\n",
      "  File \"/tmp/ipykernel_25375/2256047732.py\", line 28, in build_and_fit_cnn\n",
      "    model.add(Conv1D(filters=filters, kernel_size=kernel_size, activation='relu', name=f\"extra_conv_{i}\"))\n",
      "  File \"/home/djanloo/.local/share/virtualenvs/DM2-PeqFRmfa/lib/python3.10/site-packages/tensorflow/python/trackable/base.py\", line 205, in _method_wrapper\n",
      "    result = method(self, *args, **kwargs)\n",
      "  File \"/home/djanloo/.local/share/virtualenvs/DM2-PeqFRmfa/lib/python3.10/site-packages/keras/utils/traceback_utils.py\", line 70, in error_handler\n",
      "    raise e.with_traceback(filtered_tb) from None\n",
      "  File \"/home/djanloo/.local/share/virtualenvs/DM2-PeqFRmfa/lib/python3.10/site-packages/keras/layers/convolutional/base_conv.py\", line 354, in compute_output_shape\n",
      "    raise ValueError(\n",
      "ValueError: One of the dimensions in the output is <= 0 due to downsampling in extra_conv_1. Consider increasing the input size. Received input shape [None, 3, 11] which would produce output shape with a zero or negative value in a dimension.\n",
      "[W 2023-06-26 13:05:20,635] Trial 71 failed with value None.\n",
      "[W 2023-06-26 13:05:20,628] Trial 72 failed with value None.\n"
     ]
    },
    {
     "name": "stdout",
     "output_type": "stream",
     "text": [
      "Running little bitch having n_conv=2, dropout=0.9656238529544316, hidden_nodes=90\n",
      "Running little bitch having n_conv=2, dropout=0.9680393848906325, hidden_nodes=97\n"
     ]
    },
    {
     "name": "stderr",
     "output_type": "stream",
     "text": [
      "[W 2023-06-26 13:05:21,292] Trial 74 failed with parameters: {'n_conv': 2, 'n_hidden': 1, 'hidden_nodes': 90, 'dropout': 0.9656238529544316, 'filters': 11, 'kernel_size': 12, 'batch_size': 19, 'epochs': 6} because of the following error: ValueError('One of the dimensions in the output is <= 0 due to downsampling in extra_conv_1. Consider increasing the input size. Received input shape [None, 1, 11] which would produce output shape with a zero or negative value in a dimension.').\n",
      "Traceback (most recent call last):\n",
      "  File \"/home/djanloo/.local/share/virtualenvs/DM2-PeqFRmfa/lib/python3.10/site-packages/optuna/study/_optimize.py\", line 200, in _run_trial\n",
      "    value_or_values = func(trial)\n",
      "  File \"/tmp/ipykernel_25375/4273198217.py\", line 15, in objective_fun\n",
      "    cnn = build_and_fit_cnn(X=X_train_v,\n",
      "  File \"/tmp/ipykernel_25375/2256047732.py\", line 28, in build_and_fit_cnn\n",
      "    model.add(Conv1D(filters=filters, kernel_size=kernel_size, activation='relu', name=f\"extra_conv_{i}\"))\n",
      "  File \"/home/djanloo/.local/share/virtualenvs/DM2-PeqFRmfa/lib/python3.10/site-packages/tensorflow/python/trackable/base.py\", line 205, in _method_wrapper\n",
      "    result = method(self, *args, **kwargs)\n",
      "  File \"/home/djanloo/.local/share/virtualenvs/DM2-PeqFRmfa/lib/python3.10/site-packages/keras/utils/traceback_utils.py\", line 70, in error_handler\n",
      "    raise e.with_traceback(filtered_tb) from None\n",
      "  File \"/home/djanloo/.local/share/virtualenvs/DM2-PeqFRmfa/lib/python3.10/site-packages/keras/layers/convolutional/base_conv.py\", line 354, in compute_output_shape\n",
      "    raise ValueError(\n",
      "ValueError: One of the dimensions in the output is <= 0 due to downsampling in extra_conv_1. Consider increasing the input size. Received input shape [None, 1, 11] which would produce output shape with a zero or negative value in a dimension.\n",
      "[W 2023-06-26 13:05:21,304] Trial 74 failed with value None.\n",
      "[W 2023-06-26 13:05:21,310] Trial 73 failed with parameters: {'n_conv': 2, 'n_hidden': 1, 'hidden_nodes': 97, 'dropout': 0.9680393848906325, 'filters': 11, 'kernel_size': 12, 'batch_size': 16, 'epochs': 10} because of the following error: ValueError('One of the dimensions in the output is <= 0 due to downsampling in extra_conv_1. Consider increasing the input size. Received input shape [None, 1, 11] which would produce output shape with a zero or negative value in a dimension.').\n",
      "Traceback (most recent call last):\n",
      "  File \"/home/djanloo/.local/share/virtualenvs/DM2-PeqFRmfa/lib/python3.10/site-packages/optuna/study/_optimize.py\", line 200, in _run_trial\n",
      "    value_or_values = func(trial)\n",
      "  File \"/tmp/ipykernel_25375/4273198217.py\", line 15, in objective_fun\n",
      "    cnn = build_and_fit_cnn(X=X_train_v,\n",
      "  File \"/tmp/ipykernel_25375/2256047732.py\", line 28, in build_and_fit_cnn\n",
      "    model.add(Conv1D(filters=filters, kernel_size=kernel_size, activation='relu', name=f\"extra_conv_{i}\"))\n",
      "  File \"/home/djanloo/.local/share/virtualenvs/DM2-PeqFRmfa/lib/python3.10/site-packages/tensorflow/python/trackable/base.py\", line 205, in _method_wrapper\n",
      "    result = method(self, *args, **kwargs)\n",
      "  File \"/home/djanloo/.local/share/virtualenvs/DM2-PeqFRmfa/lib/python3.10/site-packages/keras/utils/traceback_utils.py\", line 70, in error_handler\n",
      "    raise e.with_traceback(filtered_tb) from None\n",
      "  File \"/home/djanloo/.local/share/virtualenvs/DM2-PeqFRmfa/lib/python3.10/site-packages/keras/layers/convolutional/base_conv.py\", line 354, in compute_output_shape\n",
      "    raise ValueError(\n",
      "ValueError: One of the dimensions in the output is <= 0 due to downsampling in extra_conv_1. Consider increasing the input size. Received input shape [None, 1, 11] which would produce output shape with a zero or negative value in a dimension.\n",
      "[W 2023-06-26 13:05:21,420] Trial 73 failed with value None.\n"
     ]
    },
    {
     "name": "stdout",
     "output_type": "stream",
     "text": [
      "Running little bitch having n_conv=2, dropout=0.6901923531461686, hidden_nodes=91\n",
      "Running little bitch having n_conv=2, dropout=0.9821913792011787, hidden_nodes=89\n"
     ]
    },
    {
     "name": "stderr",
     "output_type": "stream",
     "text": [
      "[W 2023-06-26 13:05:21,945] Trial 75 failed with parameters: {'n_conv': 2, 'n_hidden': 1, 'hidden_nodes': 91, 'dropout': 0.6901923531461686, 'filters': 11, 'kernel_size': 12, 'batch_size': 18, 'epochs': 7} because of the following error: ValueError('One of the dimensions in the output is <= 0 due to downsampling in extra_conv_1. Consider increasing the input size. Received input shape [None, 1, 11] which would produce output shape with a zero or negative value in a dimension.').\n",
      "Traceback (most recent call last):\n",
      "  File \"/home/djanloo/.local/share/virtualenvs/DM2-PeqFRmfa/lib/python3.10/site-packages/optuna/study/_optimize.py\", line 200, in _run_trial\n",
      "    value_or_values = func(trial)\n",
      "  File \"/tmp/ipykernel_25375/4273198217.py\", line 15, in objective_fun\n",
      "    cnn = build_and_fit_cnn(X=X_train_v,\n",
      "  File \"/tmp/ipykernel_25375/2256047732.py\", line 28, in build_and_fit_cnn\n",
      "    model.add(Conv1D(filters=filters, kernel_size=kernel_size, activation='relu', name=f\"extra_conv_{i}\"))\n",
      "  File \"/home/djanloo/.local/share/virtualenvs/DM2-PeqFRmfa/lib/python3.10/site-packages/tensorflow/python/trackable/base.py\", line 205, in _method_wrapper\n",
      "    result = method(self, *args, **kwargs)\n",
      "  File \"/home/djanloo/.local/share/virtualenvs/DM2-PeqFRmfa/lib/python3.10/site-packages/keras/utils/traceback_utils.py\", line 70, in error_handler\n",
      "    raise e.with_traceback(filtered_tb) from None\n",
      "  File \"/home/djanloo/.local/share/virtualenvs/DM2-PeqFRmfa/lib/python3.10/site-packages/keras/layers/convolutional/base_conv.py\", line 354, in compute_output_shape\n",
      "    raise ValueError(\n",
      "ValueError: One of the dimensions in the output is <= 0 due to downsampling in extra_conv_1. Consider increasing the input size. Received input shape [None, 1, 11] which would produce output shape with a zero or negative value in a dimension.\n",
      "[W 2023-06-26 13:05:21,967] Trial 75 failed with value None.\n",
      "[W 2023-06-26 13:05:22,083] Trial 76 failed with parameters: {'n_conv': 2, 'n_hidden': 1, 'hidden_nodes': 89, 'dropout': 0.9821913792011787, 'filters': 11, 'kernel_size': 12, 'batch_size': 17, 'epochs': 6} because of the following error: ValueError('One of the dimensions in the output is <= 0 due to downsampling in extra_conv_1. Consider increasing the input size. Received input shape [None, 1, 11] which would produce output shape with a zero or negative value in a dimension.').\n",
      "Traceback (most recent call last):\n",
      "  File \"/home/djanloo/.local/share/virtualenvs/DM2-PeqFRmfa/lib/python3.10/site-packages/optuna/study/_optimize.py\", line 200, in _run_trial\n",
      "    value_or_values = func(trial)\n",
      "  File \"/tmp/ipykernel_25375/4273198217.py\", line 15, in objective_fun\n",
      "    cnn = build_and_fit_cnn(X=X_train_v,\n",
      "  File \"/tmp/ipykernel_25375/2256047732.py\", line 28, in build_and_fit_cnn\n",
      "    model.add(Conv1D(filters=filters, kernel_size=kernel_size, activation='relu', name=f\"extra_conv_{i}\"))\n",
      "  File \"/home/djanloo/.local/share/virtualenvs/DM2-PeqFRmfa/lib/python3.10/site-packages/tensorflow/python/trackable/base.py\", line 205, in _method_wrapper\n",
      "    result = method(self, *args, **kwargs)\n",
      "  File \"/home/djanloo/.local/share/virtualenvs/DM2-PeqFRmfa/lib/python3.10/site-packages/keras/utils/traceback_utils.py\", line 70, in error_handler\n",
      "    raise e.with_traceback(filtered_tb) from None\n",
      "  File \"/home/djanloo/.local/share/virtualenvs/DM2-PeqFRmfa/lib/python3.10/site-packages/keras/layers/convolutional/base_conv.py\", line 354, in compute_output_shape\n",
      "    raise ValueError(\n",
      "ValueError: One of the dimensions in the output is <= 0 due to downsampling in extra_conv_1. Consider increasing the input size. Received input shape [None, 1, 11] which would produce output shape with a zero or negative value in a dimension.\n",
      "[W 2023-06-26 13:05:22,090] Trial 76 failed with value None.\n"
     ]
    },
    {
     "name": "stdout",
     "output_type": "stream",
     "text": [
      "Running little bitch having n_conv=2, dropout=0.9237094957597509, hidden_nodes=251\n",
      "Running little bitch having n_conv=2, dropout=0.9809266178426272, hidden_nodes=93\n"
     ]
    },
    {
     "name": "stderr",
     "output_type": "stream",
     "text": [
      "[W 2023-06-26 13:05:22,622] Trial 77 failed with parameters: {'n_conv': 2, 'n_hidden': 1, 'hidden_nodes': 251, 'dropout': 0.9237094957597509, 'filters': 11, 'kernel_size': 12, 'batch_size': 16, 'epochs': 8} because of the following error: ValueError('One of the dimensions in the output is <= 0 due to downsampling in extra_conv_1. Consider increasing the input size. Received input shape [None, 1, 11] which would produce output shape with a zero or negative value in a dimension.').\n",
      "Traceback (most recent call last):\n",
      "  File \"/home/djanloo/.local/share/virtualenvs/DM2-PeqFRmfa/lib/python3.10/site-packages/optuna/study/_optimize.py\", line 200, in _run_trial\n",
      "    value_or_values = func(trial)\n",
      "  File \"/tmp/ipykernel_25375/4273198217.py\", line 15, in objective_fun\n",
      "    cnn = build_and_fit_cnn(X=X_train_v,\n",
      "  File \"/tmp/ipykernel_25375/2256047732.py\", line 28, in build_and_fit_cnn\n",
      "    model.add(Conv1D(filters=filters, kernel_size=kernel_size, activation='relu', name=f\"extra_conv_{i}\"))\n",
      "  File \"/home/djanloo/.local/share/virtualenvs/DM2-PeqFRmfa/lib/python3.10/site-packages/tensorflow/python/trackable/base.py\", line 205, in _method_wrapper\n",
      "    result = method(self, *args, **kwargs)\n",
      "  File \"/home/djanloo/.local/share/virtualenvs/DM2-PeqFRmfa/lib/python3.10/site-packages/keras/utils/traceback_utils.py\", line 70, in error_handler\n",
      "    raise e.with_traceback(filtered_tb) from None\n",
      "  File \"/home/djanloo/.local/share/virtualenvs/DM2-PeqFRmfa/lib/python3.10/site-packages/keras/layers/convolutional/base_conv.py\", line 354, in compute_output_shape\n",
      "    raise ValueError(\n",
      "ValueError: One of the dimensions in the output is <= 0 due to downsampling in extra_conv_1. Consider increasing the input size. Received input shape [None, 1, 11] which would produce output shape with a zero or negative value in a dimension.\n",
      "[W 2023-06-26 13:05:22,632] Trial 77 failed with value None.\n",
      "[W 2023-06-26 13:05:22,859] Trial 78 failed with parameters: {'n_conv': 2, 'n_hidden': 1, 'hidden_nodes': 93, 'dropout': 0.9809266178426272, 'filters': 10, 'kernel_size': 12, 'batch_size': 17, 'epochs': 10} because of the following error: ValueError('One of the dimensions in the output is <= 0 due to downsampling in extra_conv_1. Consider increasing the input size. Received input shape [None, 1, 10] which would produce output shape with a zero or negative value in a dimension.').\n",
      "Traceback (most recent call last):\n",
      "  File \"/home/djanloo/.local/share/virtualenvs/DM2-PeqFRmfa/lib/python3.10/site-packages/optuna/study/_optimize.py\", line 200, in _run_trial\n",
      "    value_or_values = func(trial)\n",
      "  File \"/tmp/ipykernel_25375/4273198217.py\", line 15, in objective_fun\n",
      "    cnn = build_and_fit_cnn(X=X_train_v,\n",
      "  File \"/tmp/ipykernel_25375/2256047732.py\", line 28, in build_and_fit_cnn\n",
      "    model.add(Conv1D(filters=filters, kernel_size=kernel_size, activation='relu', name=f\"extra_conv_{i}\"))\n",
      "  File \"/home/djanloo/.local/share/virtualenvs/DM2-PeqFRmfa/lib/python3.10/site-packages/tensorflow/python/trackable/base.py\", line 205, in _method_wrapper\n",
      "    result = method(self, *args, **kwargs)\n",
      "  File \"/home/djanloo/.local/share/virtualenvs/DM2-PeqFRmfa/lib/python3.10/site-packages/keras/utils/traceback_utils.py\", line 70, in error_handler\n",
      "    raise e.with_traceback(filtered_tb) from None\n",
      "  File \"/home/djanloo/.local/share/virtualenvs/DM2-PeqFRmfa/lib/python3.10/site-packages/keras/layers/convolutional/base_conv.py\", line 354, in compute_output_shape\n",
      "    raise ValueError(\n",
      "ValueError: One of the dimensions in the output is <= 0 due to downsampling in extra_conv_1. Consider increasing the input size. Received input shape [None, 1, 10] which would produce output shape with a zero or negative value in a dimension.\n",
      "[W 2023-06-26 13:05:22,871] Trial 78 failed with value None.\n"
     ]
    },
    {
     "name": "stdout",
     "output_type": "stream",
     "text": [
      "Running little bitch having n_conv=2, dropout=0.9308573525219861, hidden_nodes=93\n",
      "Running little bitch having n_conv=2, dropout=0.952199803469717, hidden_nodes=71\n"
     ]
    },
    {
     "name": "stderr",
     "output_type": "stream",
     "text": [
      "[W 2023-06-26 13:05:23,340] Trial 79 failed with parameters: {'n_conv': 2, 'n_hidden': 1, 'hidden_nodes': 93, 'dropout': 0.9308573525219861, 'filters': 11, 'kernel_size': 12, 'batch_size': 16, 'epochs': 5} because of the following error: ValueError('One of the dimensions in the output is <= 0 due to downsampling in extra_conv_1. Consider increasing the input size. Received input shape [None, 1, 11] which would produce output shape with a zero or negative value in a dimension.').\n",
      "Traceback (most recent call last):\n",
      "  File \"/home/djanloo/.local/share/virtualenvs/DM2-PeqFRmfa/lib/python3.10/site-packages/optuna/study/_optimize.py\", line 200, in _run_trial\n",
      "    value_or_values = func(trial)\n",
      "  File \"/tmp/ipykernel_25375/4273198217.py\", line 15, in objective_fun\n",
      "    cnn = build_and_fit_cnn(X=X_train_v,\n",
      "  File \"/tmp/ipykernel_25375/2256047732.py\", line 28, in build_and_fit_cnn\n",
      "    model.add(Conv1D(filters=filters, kernel_size=kernel_size, activation='relu', name=f\"extra_conv_{i}\"))\n",
      "  File \"/home/djanloo/.local/share/virtualenvs/DM2-PeqFRmfa/lib/python3.10/site-packages/tensorflow/python/trackable/base.py\", line 205, in _method_wrapper\n",
      "    result = method(self, *args, **kwargs)\n",
      "  File \"/home/djanloo/.local/share/virtualenvs/DM2-PeqFRmfa/lib/python3.10/site-packages/keras/utils/traceback_utils.py\", line 70, in error_handler\n",
      "    raise e.with_traceback(filtered_tb) from None\n",
      "  File \"/home/djanloo/.local/share/virtualenvs/DM2-PeqFRmfa/lib/python3.10/site-packages/keras/layers/convolutional/base_conv.py\", line 354, in compute_output_shape\n",
      "    raise ValueError(\n",
      "ValueError: One of the dimensions in the output is <= 0 due to downsampling in extra_conv_1. Consider increasing the input size. Received input shape [None, 1, 11] which would produce output shape with a zero or negative value in a dimension.\n",
      "[W 2023-06-26 13:05:23,353] Trial 79 failed with value None.\n",
      "[W 2023-06-26 13:05:23,548] Trial 80 failed with parameters: {'n_conv': 2, 'n_hidden': 1, 'hidden_nodes': 71, 'dropout': 0.952199803469717, 'filters': 11, 'kernel_size': 12, 'batch_size': 18, 'epochs': 7} because of the following error: ValueError('One of the dimensions in the output is <= 0 due to downsampling in extra_conv_1. Consider increasing the input size. Received input shape [None, 1, 11] which would produce output shape with a zero or negative value in a dimension.').\n",
      "Traceback (most recent call last):\n",
      "  File \"/home/djanloo/.local/share/virtualenvs/DM2-PeqFRmfa/lib/python3.10/site-packages/optuna/study/_optimize.py\", line 200, in _run_trial\n",
      "    value_or_values = func(trial)\n",
      "  File \"/tmp/ipykernel_25375/4273198217.py\", line 15, in objective_fun\n",
      "    cnn = build_and_fit_cnn(X=X_train_v,\n",
      "  File \"/tmp/ipykernel_25375/2256047732.py\", line 28, in build_and_fit_cnn\n",
      "    model.add(Conv1D(filters=filters, kernel_size=kernel_size, activation='relu', name=f\"extra_conv_{i}\"))\n",
      "  File \"/home/djanloo/.local/share/virtualenvs/DM2-PeqFRmfa/lib/python3.10/site-packages/tensorflow/python/trackable/base.py\", line 205, in _method_wrapper\n",
      "    result = method(self, *args, **kwargs)\n",
      "  File \"/home/djanloo/.local/share/virtualenvs/DM2-PeqFRmfa/lib/python3.10/site-packages/keras/utils/traceback_utils.py\", line 70, in error_handler\n",
      "    raise e.with_traceback(filtered_tb) from None\n",
      "  File \"/home/djanloo/.local/share/virtualenvs/DM2-PeqFRmfa/lib/python3.10/site-packages/keras/layers/convolutional/base_conv.py\", line 354, in compute_output_shape\n",
      "    raise ValueError(\n",
      "ValueError: One of the dimensions in the output is <= 0 due to downsampling in extra_conv_1. Consider increasing the input size. Received input shape [None, 1, 11] which would produce output shape with a zero or negative value in a dimension.\n",
      "[W 2023-06-26 13:05:23,560] Trial 80 failed with value None.\n"
     ]
    },
    {
     "name": "stdout",
     "output_type": "stream",
     "text": [
      "Running little bitch having n_conv=2, dropout=0.9978592512099446, hidden_nodes=91\n",
      "Running little bitch having n_conv=2, dropout=0.6849086379625031, hidden_nodes=91\n"
     ]
    },
    {
     "name": "stderr",
     "output_type": "stream",
     "text": [
      "[W 2023-06-26 13:05:24,082] Trial 81 failed with parameters: {'n_conv': 2, 'n_hidden': 1, 'hidden_nodes': 91, 'dropout': 0.9978592512099446, 'filters': 11, 'kernel_size': 12, 'batch_size': 16, 'epochs': 90} because of the following error: ValueError('One of the dimensions in the output is <= 0 due to downsampling in extra_conv_1. Consider increasing the input size. Received input shape [None, 1, 11] which would produce output shape with a zero or negative value in a dimension.').\n",
      "Traceback (most recent call last):\n",
      "  File \"/home/djanloo/.local/share/virtualenvs/DM2-PeqFRmfa/lib/python3.10/site-packages/optuna/study/_optimize.py\", line 200, in _run_trial\n",
      "    value_or_values = func(trial)\n",
      "  File \"/tmp/ipykernel_25375/4273198217.py\", line 15, in objective_fun\n",
      "    cnn = build_and_fit_cnn(X=X_train_v,\n",
      "  File \"/tmp/ipykernel_25375/2256047732.py\", line 28, in build_and_fit_cnn\n",
      "    model.add(Conv1D(filters=filters, kernel_size=kernel_size, activation='relu', name=f\"extra_conv_{i}\"))\n",
      "  File \"/home/djanloo/.local/share/virtualenvs/DM2-PeqFRmfa/lib/python3.10/site-packages/tensorflow/python/trackable/base.py\", line 205, in _method_wrapper\n",
      "    result = method(self, *args, **kwargs)\n",
      "  File \"/home/djanloo/.local/share/virtualenvs/DM2-PeqFRmfa/lib/python3.10/site-packages/keras/utils/traceback_utils.py\", line 70, in error_handler\n",
      "    raise e.with_traceback(filtered_tb) from None\n",
      "  File \"/home/djanloo/.local/share/virtualenvs/DM2-PeqFRmfa/lib/python3.10/site-packages/keras/layers/convolutional/base_conv.py\", line 354, in compute_output_shape\n",
      "    raise ValueError(\n",
      "ValueError: One of the dimensions in the output is <= 0 due to downsampling in extra_conv_1. Consider increasing the input size. Received input shape [None, 1, 11] which would produce output shape with a zero or negative value in a dimension.\n",
      "[W 2023-06-26 13:05:24,085] Trial 81 failed with value None.\n",
      "[W 2023-06-26 13:05:24,300] Trial 82 failed with parameters: {'n_conv': 2, 'n_hidden': 1, 'hidden_nodes': 91, 'dropout': 0.6849086379625031, 'filters': 12, 'kernel_size': 12, 'batch_size': 17, 'epochs': 6} because of the following error: ValueError('One of the dimensions in the output is <= 0 due to downsampling in extra_conv_1. Consider increasing the input size. Received input shape [None, 1, 12] which would produce output shape with a zero or negative value in a dimension.').\n",
      "Traceback (most recent call last):\n",
      "  File \"/home/djanloo/.local/share/virtualenvs/DM2-PeqFRmfa/lib/python3.10/site-packages/optuna/study/_optimize.py\", line 200, in _run_trial\n",
      "    value_or_values = func(trial)\n",
      "  File \"/tmp/ipykernel_25375/4273198217.py\", line 15, in objective_fun\n",
      "    cnn = build_and_fit_cnn(X=X_train_v,\n",
      "  File \"/tmp/ipykernel_25375/2256047732.py\", line 28, in build_and_fit_cnn\n",
      "    model.add(Conv1D(filters=filters, kernel_size=kernel_size, activation='relu', name=f\"extra_conv_{i}\"))\n",
      "  File \"/home/djanloo/.local/share/virtualenvs/DM2-PeqFRmfa/lib/python3.10/site-packages/tensorflow/python/trackable/base.py\", line 205, in _method_wrapper\n",
      "    result = method(self, *args, **kwargs)\n",
      "  File \"/home/djanloo/.local/share/virtualenvs/DM2-PeqFRmfa/lib/python3.10/site-packages/keras/utils/traceback_utils.py\", line 70, in error_handler\n",
      "    raise e.with_traceback(filtered_tb) from None\n",
      "  File \"/home/djanloo/.local/share/virtualenvs/DM2-PeqFRmfa/lib/python3.10/site-packages/keras/layers/convolutional/base_conv.py\", line 354, in compute_output_shape\n",
      "    raise ValueError(\n",
      "ValueError: One of the dimensions in the output is <= 0 due to downsampling in extra_conv_1. Consider increasing the input size. Received input shape [None, 1, 12] which would produce output shape with a zero or negative value in a dimension.\n",
      "[W 2023-06-26 13:05:24,315] Trial 82 failed with value None.\n"
     ]
    },
    {
     "name": "stdout",
     "output_type": "stream",
     "text": [
      "Running little bitch having n_conv=2, dropout=0.9435545038409492, hidden_nodes=94\n",
      "Running little bitch having n_conv=2, dropout=0.9691013829460541, hidden_nodes=91\n"
     ]
    },
    {
     "name": "stderr",
     "output_type": "stream",
     "text": [
      "[W 2023-06-26 13:05:24,707] Trial 83 failed with parameters: {'n_conv': 2, 'n_hidden': 1, 'hidden_nodes': 94, 'dropout': 0.9435545038409492, 'filters': 12, 'kernel_size': 12, 'batch_size': 18, 'epochs': 9} because of the following error: ValueError('One of the dimensions in the output is <= 0 due to downsampling in extra_conv_1. Consider increasing the input size. Received input shape [None, 1, 12] which would produce output shape with a zero or negative value in a dimension.').\n",
      "Traceback (most recent call last):\n",
      "  File \"/home/djanloo/.local/share/virtualenvs/DM2-PeqFRmfa/lib/python3.10/site-packages/optuna/study/_optimize.py\", line 200, in _run_trial\n",
      "    value_or_values = func(trial)\n",
      "  File \"/tmp/ipykernel_25375/4273198217.py\", line 15, in objective_fun\n",
      "    cnn = build_and_fit_cnn(X=X_train_v,\n",
      "  File \"/tmp/ipykernel_25375/2256047732.py\", line 28, in build_and_fit_cnn\n",
      "    model.add(Conv1D(filters=filters, kernel_size=kernel_size, activation='relu', name=f\"extra_conv_{i}\"))\n",
      "  File \"/home/djanloo/.local/share/virtualenvs/DM2-PeqFRmfa/lib/python3.10/site-packages/tensorflow/python/trackable/base.py\", line 205, in _method_wrapper\n",
      "    result = method(self, *args, **kwargs)\n",
      "  File \"/home/djanloo/.local/share/virtualenvs/DM2-PeqFRmfa/lib/python3.10/site-packages/keras/utils/traceback_utils.py\", line 70, in error_handler\n",
      "    raise e.with_traceback(filtered_tb) from None\n",
      "  File \"/home/djanloo/.local/share/virtualenvs/DM2-PeqFRmfa/lib/python3.10/site-packages/keras/layers/convolutional/base_conv.py\", line 354, in compute_output_shape\n",
      "    raise ValueError(\n",
      "ValueError: One of the dimensions in the output is <= 0 due to downsampling in extra_conv_1. Consider increasing the input size. Received input shape [None, 1, 12] which would produce output shape with a zero or negative value in a dimension.\n",
      "[W 2023-06-26 13:05:24,712] Trial 83 failed with value None.\n",
      "[W 2023-06-26 13:05:24,875] Trial 84 failed with parameters: {'n_conv': 2, 'n_hidden': 1, 'hidden_nodes': 91, 'dropout': 0.9691013829460541, 'filters': 11, 'kernel_size': 12, 'batch_size': 18, 'epochs': 9} because of the following error: ValueError('One of the dimensions in the output is <= 0 due to downsampling in extra_conv_1. Consider increasing the input size. Received input shape [None, 1, 11] which would produce output shape with a zero or negative value in a dimension.').\n",
      "Traceback (most recent call last):\n",
      "  File \"/home/djanloo/.local/share/virtualenvs/DM2-PeqFRmfa/lib/python3.10/site-packages/optuna/study/_optimize.py\", line 200, in _run_trial\n",
      "    value_or_values = func(trial)\n",
      "  File \"/tmp/ipykernel_25375/4273198217.py\", line 15, in objective_fun\n",
      "    cnn = build_and_fit_cnn(X=X_train_v,\n",
      "  File \"/tmp/ipykernel_25375/2256047732.py\", line 28, in build_and_fit_cnn\n",
      "    model.add(Conv1D(filters=filters, kernel_size=kernel_size, activation='relu', name=f\"extra_conv_{i}\"))\n",
      "  File \"/home/djanloo/.local/share/virtualenvs/DM2-PeqFRmfa/lib/python3.10/site-packages/tensorflow/python/trackable/base.py\", line 205, in _method_wrapper\n",
      "    result = method(self, *args, **kwargs)\n",
      "  File \"/home/djanloo/.local/share/virtualenvs/DM2-PeqFRmfa/lib/python3.10/site-packages/keras/utils/traceback_utils.py\", line 70, in error_handler\n",
      "    raise e.with_traceback(filtered_tb) from None\n",
      "  File \"/home/djanloo/.local/share/virtualenvs/DM2-PeqFRmfa/lib/python3.10/site-packages/keras/layers/convolutional/base_conv.py\", line 354, in compute_output_shape\n",
      "    raise ValueError(\n",
      "ValueError: One of the dimensions in the output is <= 0 due to downsampling in extra_conv_1. Consider increasing the input size. Received input shape [None, 1, 11] which would produce output shape with a zero or negative value in a dimension.\n",
      "[W 2023-06-26 13:05:24,881] Trial 84 failed with value None.\n"
     ]
    },
    {
     "name": "stdout",
     "output_type": "stream",
     "text": [
      "Running little bitch having n_conv=2, dropout=0.6812172334389245, hidden_nodes=92\n",
      "Running little bitch having n_conv=2, dropout=0.9744882267446285, hidden_nodes=93\n"
     ]
    },
    {
     "name": "stderr",
     "output_type": "stream",
     "text": [
      "[W 2023-06-26 13:05:25,239] Trial 85 failed with parameters: {'n_conv': 2, 'n_hidden': 1, 'hidden_nodes': 92, 'dropout': 0.6812172334389245, 'filters': 12, 'kernel_size': 12, 'batch_size': 16, 'epochs': 6} because of the following error: ValueError('One of the dimensions in the output is <= 0 due to downsampling in extra_conv_1. Consider increasing the input size. Received input shape [None, 1, 12] which would produce output shape with a zero or negative value in a dimension.').\n",
      "Traceback (most recent call last):\n",
      "  File \"/home/djanloo/.local/share/virtualenvs/DM2-PeqFRmfa/lib/python3.10/site-packages/optuna/study/_optimize.py\", line 200, in _run_trial\n",
      "    value_or_values = func(trial)\n",
      "  File \"/tmp/ipykernel_25375/4273198217.py\", line 15, in objective_fun\n",
      "    cnn = build_and_fit_cnn(X=X_train_v,\n",
      "  File \"/tmp/ipykernel_25375/2256047732.py\", line 28, in build_and_fit_cnn\n",
      "    model.add(Conv1D(filters=filters, kernel_size=kernel_size, activation='relu', name=f\"extra_conv_{i}\"))\n",
      "  File \"/home/djanloo/.local/share/virtualenvs/DM2-PeqFRmfa/lib/python3.10/site-packages/tensorflow/python/trackable/base.py\", line 205, in _method_wrapper\n",
      "    result = method(self, *args, **kwargs)\n",
      "  File \"/home/djanloo/.local/share/virtualenvs/DM2-PeqFRmfa/lib/python3.10/site-packages/keras/utils/traceback_utils.py\", line 70, in error_handler\n",
      "    raise e.with_traceback(filtered_tb) from None\n",
      "  File \"/home/djanloo/.local/share/virtualenvs/DM2-PeqFRmfa/lib/python3.10/site-packages/keras/layers/convolutional/base_conv.py\", line 354, in compute_output_shape\n",
      "    raise ValueError(\n",
      "ValueError: One of the dimensions in the output is <= 0 due to downsampling in extra_conv_1. Consider increasing the input size. Received input shape [None, 1, 12] which would produce output shape with a zero or negative value in a dimension.\n",
      "[W 2023-06-26 13:05:25,242] Trial 85 failed with value None.\n",
      "[W 2023-06-26 13:05:25,408] Trial 86 failed with parameters: {'n_conv': 2, 'n_hidden': 1, 'hidden_nodes': 93, 'dropout': 0.9744882267446285, 'filters': 11, 'kernel_size': 11, 'batch_size': 18, 'epochs': 11} because of the following error: ValueError('One of the dimensions in the output is <= 0 due to downsampling in extra_conv_1. Consider increasing the input size. Received input shape [None, 3, 11] which would produce output shape with a zero or negative value in a dimension.').\n",
      "Traceback (most recent call last):\n",
      "  File \"/home/djanloo/.local/share/virtualenvs/DM2-PeqFRmfa/lib/python3.10/site-packages/optuna/study/_optimize.py\", line 200, in _run_trial\n",
      "    value_or_values = func(trial)\n",
      "  File \"/tmp/ipykernel_25375/4273198217.py\", line 15, in objective_fun\n",
      "    cnn = build_and_fit_cnn(X=X_train_v,\n",
      "  File \"/tmp/ipykernel_25375/2256047732.py\", line 28, in build_and_fit_cnn\n",
      "    model.add(Conv1D(filters=filters, kernel_size=kernel_size, activation='relu', name=f\"extra_conv_{i}\"))\n",
      "  File \"/home/djanloo/.local/share/virtualenvs/DM2-PeqFRmfa/lib/python3.10/site-packages/tensorflow/python/trackable/base.py\", line 205, in _method_wrapper\n",
      "    result = method(self, *args, **kwargs)\n",
      "  File \"/home/djanloo/.local/share/virtualenvs/DM2-PeqFRmfa/lib/python3.10/site-packages/keras/utils/traceback_utils.py\", line 70, in error_handler\n",
      "    raise e.with_traceback(filtered_tb) from None\n",
      "  File \"/home/djanloo/.local/share/virtualenvs/DM2-PeqFRmfa/lib/python3.10/site-packages/keras/layers/convolutional/base_conv.py\", line 354, in compute_output_shape\n",
      "    raise ValueError(\n",
      "ValueError: One of the dimensions in the output is <= 0 due to downsampling in extra_conv_1. Consider increasing the input size. Received input shape [None, 3, 11] which would produce output shape with a zero or negative value in a dimension.\n",
      "[W 2023-06-26 13:05:25,411] Trial 86 failed with value None.\n"
     ]
    },
    {
     "name": "stdout",
     "output_type": "stream",
     "text": [
      "Running little bitch having n_conv=2, dropout=0.9941333712930669, hidden_nodes=91\n",
      "Running little bitch having n_conv=2, dropout=0.9921838470209043, hidden_nodes=91\n"
     ]
    },
    {
     "name": "stderr",
     "output_type": "stream",
     "text": [
      "[W 2023-06-26 13:05:25,773] Trial 87 failed with parameters: {'n_conv': 2, 'n_hidden': 1, 'hidden_nodes': 91, 'dropout': 0.9941333712930669, 'filters': 11, 'kernel_size': 12, 'batch_size': 16, 'epochs': 6} because of the following error: ValueError('One of the dimensions in the output is <= 0 due to downsampling in extra_conv_1. Consider increasing the input size. Received input shape [None, 1, 11] which would produce output shape with a zero or negative value in a dimension.').\n",
      "Traceback (most recent call last):\n",
      "  File \"/home/djanloo/.local/share/virtualenvs/DM2-PeqFRmfa/lib/python3.10/site-packages/optuna/study/_optimize.py\", line 200, in _run_trial\n",
      "    value_or_values = func(trial)\n",
      "  File \"/tmp/ipykernel_25375/4273198217.py\", line 15, in objective_fun\n",
      "    cnn = build_and_fit_cnn(X=X_train_v,\n",
      "  File \"/tmp/ipykernel_25375/2256047732.py\", line 28, in build_and_fit_cnn\n",
      "    model.add(Conv1D(filters=filters, kernel_size=kernel_size, activation='relu', name=f\"extra_conv_{i}\"))\n",
      "  File \"/home/djanloo/.local/share/virtualenvs/DM2-PeqFRmfa/lib/python3.10/site-packages/tensorflow/python/trackable/base.py\", line 205, in _method_wrapper\n",
      "    result = method(self, *args, **kwargs)\n",
      "  File \"/home/djanloo/.local/share/virtualenvs/DM2-PeqFRmfa/lib/python3.10/site-packages/keras/utils/traceback_utils.py\", line 70, in error_handler\n",
      "    raise e.with_traceback(filtered_tb) from None\n",
      "  File \"/home/djanloo/.local/share/virtualenvs/DM2-PeqFRmfa/lib/python3.10/site-packages/keras/layers/convolutional/base_conv.py\", line 354, in compute_output_shape\n",
      "    raise ValueError(\n",
      "ValueError: One of the dimensions in the output is <= 0 due to downsampling in extra_conv_1. Consider increasing the input size. Received input shape [None, 1, 11] which would produce output shape with a zero or negative value in a dimension.\n",
      "[W 2023-06-26 13:05:25,786] Trial 87 failed with value None.\n",
      "[W 2023-06-26 13:05:25,942] Trial 88 failed with parameters: {'n_conv': 2, 'n_hidden': 1, 'hidden_nodes': 91, 'dropout': 0.9921838470209043, 'filters': 11, 'kernel_size': 11, 'batch_size': 16, 'epochs': 10} because of the following error: ValueError('One of the dimensions in the output is <= 0 due to downsampling in extra_conv_1. Consider increasing the input size. Received input shape [None, 3, 11] which would produce output shape with a zero or negative value in a dimension.').\n",
      "Traceback (most recent call last):\n",
      "  File \"/home/djanloo/.local/share/virtualenvs/DM2-PeqFRmfa/lib/python3.10/site-packages/optuna/study/_optimize.py\", line 200, in _run_trial\n",
      "    value_or_values = func(trial)\n",
      "  File \"/tmp/ipykernel_25375/4273198217.py\", line 15, in objective_fun\n",
      "    cnn = build_and_fit_cnn(X=X_train_v,\n",
      "  File \"/tmp/ipykernel_25375/2256047732.py\", line 28, in build_and_fit_cnn\n",
      "    model.add(Conv1D(filters=filters, kernel_size=kernel_size, activation='relu', name=f\"extra_conv_{i}\"))\n",
      "  File \"/home/djanloo/.local/share/virtualenvs/DM2-PeqFRmfa/lib/python3.10/site-packages/tensorflow/python/trackable/base.py\", line 205, in _method_wrapper\n",
      "    result = method(self, *args, **kwargs)\n",
      "  File \"/home/djanloo/.local/share/virtualenvs/DM2-PeqFRmfa/lib/python3.10/site-packages/keras/utils/traceback_utils.py\", line 70, in error_handler\n",
      "    raise e.with_traceback(filtered_tb) from None\n",
      "  File \"/home/djanloo/.local/share/virtualenvs/DM2-PeqFRmfa/lib/python3.10/site-packages/keras/layers/convolutional/base_conv.py\", line 354, in compute_output_shape\n",
      "    raise ValueError(\n",
      "ValueError: One of the dimensions in the output is <= 0 due to downsampling in extra_conv_1. Consider increasing the input size. Received input shape [None, 3, 11] which would produce output shape with a zero or negative value in a dimension.\n",
      "[W 2023-06-26 13:05:25,947] Trial 88 failed with value None.\n"
     ]
    },
    {
     "name": "stdout",
     "output_type": "stream",
     "text": [
      "Running little bitch having n_conv=2, dropout=0.9988833238510018, hidden_nodes=78\n",
      "Running little bitch having n_conv=2, dropout=0.9636323438407954, hidden_nodes=94\n"
     ]
    },
    {
     "name": "stderr",
     "output_type": "stream",
     "text": [
      "[W 2023-06-26 13:05:26,313] Trial 89 failed with parameters: {'n_conv': 2, 'n_hidden': 1, 'hidden_nodes': 78, 'dropout': 0.9988833238510018, 'filters': 11, 'kernel_size': 12, 'batch_size': 16, 'epochs': 9} because of the following error: ValueError('One of the dimensions in the output is <= 0 due to downsampling in extra_conv_1. Consider increasing the input size. Received input shape [None, 1, 11] which would produce output shape with a zero or negative value in a dimension.').\n",
      "Traceback (most recent call last):\n",
      "  File \"/home/djanloo/.local/share/virtualenvs/DM2-PeqFRmfa/lib/python3.10/site-packages/optuna/study/_optimize.py\", line 200, in _run_trial\n",
      "    value_or_values = func(trial)\n",
      "  File \"/tmp/ipykernel_25375/4273198217.py\", line 15, in objective_fun\n",
      "    cnn = build_and_fit_cnn(X=X_train_v,\n",
      "  File \"/tmp/ipykernel_25375/2256047732.py\", line 28, in build_and_fit_cnn\n",
      "    model.add(Conv1D(filters=filters, kernel_size=kernel_size, activation='relu', name=f\"extra_conv_{i}\"))\n",
      "  File \"/home/djanloo/.local/share/virtualenvs/DM2-PeqFRmfa/lib/python3.10/site-packages/tensorflow/python/trackable/base.py\", line 205, in _method_wrapper\n",
      "    result = method(self, *args, **kwargs)\n",
      "  File \"/home/djanloo/.local/share/virtualenvs/DM2-PeqFRmfa/lib/python3.10/site-packages/keras/utils/traceback_utils.py\", line 70, in error_handler\n",
      "    raise e.with_traceback(filtered_tb) from None\n",
      "  File \"/home/djanloo/.local/share/virtualenvs/DM2-PeqFRmfa/lib/python3.10/site-packages/keras/layers/convolutional/base_conv.py\", line 354, in compute_output_shape\n",
      "    raise ValueError(\n",
      "ValueError: One of the dimensions in the output is <= 0 due to downsampling in extra_conv_1. Consider increasing the input size. Received input shape [None, 1, 11] which would produce output shape with a zero or negative value in a dimension.\n",
      "[W 2023-06-26 13:05:26,317] Trial 89 failed with value None.\n",
      "[W 2023-06-26 13:05:26,496] Trial 90 failed with parameters: {'n_conv': 2, 'n_hidden': 1, 'hidden_nodes': 94, 'dropout': 0.9636323438407954, 'filters': 11, 'kernel_size': 11, 'batch_size': 16, 'epochs': 6} because of the following error: ValueError('One of the dimensions in the output is <= 0 due to downsampling in extra_conv_1. Consider increasing the input size. Received input shape [None, 3, 11] which would produce output shape with a zero or negative value in a dimension.').\n",
      "Traceback (most recent call last):\n",
      "  File \"/home/djanloo/.local/share/virtualenvs/DM2-PeqFRmfa/lib/python3.10/site-packages/optuna/study/_optimize.py\", line 200, in _run_trial\n",
      "    value_or_values = func(trial)\n",
      "  File \"/tmp/ipykernel_25375/4273198217.py\", line 15, in objective_fun\n",
      "    cnn = build_and_fit_cnn(X=X_train_v,\n",
      "  File \"/tmp/ipykernel_25375/2256047732.py\", line 28, in build_and_fit_cnn\n",
      "    model.add(Conv1D(filters=filters, kernel_size=kernel_size, activation='relu', name=f\"extra_conv_{i}\"))\n",
      "  File \"/home/djanloo/.local/share/virtualenvs/DM2-PeqFRmfa/lib/python3.10/site-packages/tensorflow/python/trackable/base.py\", line 205, in _method_wrapper\n",
      "    result = method(self, *args, **kwargs)\n",
      "  File \"/home/djanloo/.local/share/virtualenvs/DM2-PeqFRmfa/lib/python3.10/site-packages/keras/utils/traceback_utils.py\", line 70, in error_handler\n",
      "    raise e.with_traceback(filtered_tb) from None\n",
      "  File \"/home/djanloo/.local/share/virtualenvs/DM2-PeqFRmfa/lib/python3.10/site-packages/keras/layers/convolutional/base_conv.py\", line 354, in compute_output_shape\n",
      "    raise ValueError(\n",
      "ValueError: One of the dimensions in the output is <= 0 due to downsampling in extra_conv_1. Consider increasing the input size. Received input shape [None, 3, 11] which would produce output shape with a zero or negative value in a dimension.\n",
      "[W 2023-06-26 13:05:26,515] Trial 90 failed with value None.\n"
     ]
    },
    {
     "name": "stdout",
     "output_type": "stream",
     "text": [
      "Running little bitch having n_conv=2, dropout=0.9213785336190174, hidden_nodes=92\n",
      "Running little bitch having n_conv=2, dropout=0.9244275674413353, hidden_nodes=88\n"
     ]
    },
    {
     "name": "stderr",
     "output_type": "stream",
     "text": [
      "[W 2023-06-26 13:05:26,834] Trial 91 failed with parameters: {'n_conv': 2, 'n_hidden': 1, 'hidden_nodes': 92, 'dropout': 0.9213785336190174, 'filters': 11, 'kernel_size': 12, 'batch_size': 17, 'epochs': 6} because of the following error: ValueError('One of the dimensions in the output is <= 0 due to downsampling in extra_conv_1. Consider increasing the input size. Received input shape [None, 1, 11] which would produce output shape with a zero or negative value in a dimension.').\n",
      "Traceback (most recent call last):\n",
      "  File \"/home/djanloo/.local/share/virtualenvs/DM2-PeqFRmfa/lib/python3.10/site-packages/optuna/study/_optimize.py\", line 200, in _run_trial\n",
      "    value_or_values = func(trial)\n",
      "  File \"/tmp/ipykernel_25375/4273198217.py\", line 15, in objective_fun\n",
      "    cnn = build_and_fit_cnn(X=X_train_v,\n",
      "  File \"/tmp/ipykernel_25375/2256047732.py\", line 28, in build_and_fit_cnn\n",
      "    model.add(Conv1D(filters=filters, kernel_size=kernel_size, activation='relu', name=f\"extra_conv_{i}\"))\n",
      "  File \"/home/djanloo/.local/share/virtualenvs/DM2-PeqFRmfa/lib/python3.10/site-packages/tensorflow/python/trackable/base.py\", line 205, in _method_wrapper\n",
      "    result = method(self, *args, **kwargs)\n",
      "  File \"/home/djanloo/.local/share/virtualenvs/DM2-PeqFRmfa/lib/python3.10/site-packages/keras/utils/traceback_utils.py\", line 70, in error_handler\n",
      "    raise e.with_traceback(filtered_tb) from None\n",
      "  File \"/home/djanloo/.local/share/virtualenvs/DM2-PeqFRmfa/lib/python3.10/site-packages/keras/layers/convolutional/base_conv.py\", line 354, in compute_output_shape\n",
      "    raise ValueError(\n",
      "ValueError: One of the dimensions in the output is <= 0 due to downsampling in extra_conv_1. Consider increasing the input size. Received input shape [None, 1, 11] which would produce output shape with a zero or negative value in a dimension.\n",
      "[W 2023-06-26 13:05:26,839] Trial 91 failed with value None.\n",
      "[W 2023-06-26 13:05:27,009] Trial 92 failed with parameters: {'n_conv': 2, 'n_hidden': 1, 'hidden_nodes': 88, 'dropout': 0.9244275674413353, 'filters': 11, 'kernel_size': 12, 'batch_size': 16, 'epochs': 12} because of the following error: ValueError('One of the dimensions in the output is <= 0 due to downsampling in extra_conv_1. Consider increasing the input size. Received input shape [None, 1, 11] which would produce output shape with a zero or negative value in a dimension.').\n",
      "Traceback (most recent call last):\n",
      "  File \"/home/djanloo/.local/share/virtualenvs/DM2-PeqFRmfa/lib/python3.10/site-packages/optuna/study/_optimize.py\", line 200, in _run_trial\n",
      "    value_or_values = func(trial)\n",
      "  File \"/tmp/ipykernel_25375/4273198217.py\", line 15, in objective_fun\n",
      "    cnn = build_and_fit_cnn(X=X_train_v,\n",
      "  File \"/tmp/ipykernel_25375/2256047732.py\", line 28, in build_and_fit_cnn\n",
      "    model.add(Conv1D(filters=filters, kernel_size=kernel_size, activation='relu', name=f\"extra_conv_{i}\"))\n",
      "  File \"/home/djanloo/.local/share/virtualenvs/DM2-PeqFRmfa/lib/python3.10/site-packages/tensorflow/python/trackable/base.py\", line 205, in _method_wrapper\n",
      "    result = method(self, *args, **kwargs)\n",
      "  File \"/home/djanloo/.local/share/virtualenvs/DM2-PeqFRmfa/lib/python3.10/site-packages/keras/utils/traceback_utils.py\", line 70, in error_handler\n",
      "    raise e.with_traceback(filtered_tb) from None\n",
      "  File \"/home/djanloo/.local/share/virtualenvs/DM2-PeqFRmfa/lib/python3.10/site-packages/keras/layers/convolutional/base_conv.py\", line 354, in compute_output_shape\n",
      "    raise ValueError(\n",
      "ValueError: One of the dimensions in the output is <= 0 due to downsampling in extra_conv_1. Consider increasing the input size. Received input shape [None, 1, 11] which would produce output shape with a zero or negative value in a dimension.\n",
      "[W 2023-06-26 13:05:27,018] Trial 92 failed with value None.\n"
     ]
    },
    {
     "name": "stdout",
     "output_type": "stream",
     "text": [
      "Running little bitch having n_conv=2, dropout=0.998040372839612, hidden_nodes=91\n",
      "Running little bitch having n_conv=2, dropout=0.9895402737590298, hidden_nodes=93\n"
     ]
    },
    {
     "name": "stderr",
     "output_type": "stream",
     "text": [
      "[W 2023-06-26 13:05:27,382] Trial 93 failed with parameters: {'n_conv': 2, 'n_hidden': 1, 'hidden_nodes': 91, 'dropout': 0.998040372839612, 'filters': 11, 'kernel_size': 12, 'batch_size': 18, 'epochs': 80} because of the following error: ValueError('One of the dimensions in the output is <= 0 due to downsampling in extra_conv_1. Consider increasing the input size. Received input shape [None, 1, 11] which would produce output shape with a zero or negative value in a dimension.').\n",
      "Traceback (most recent call last):\n",
      "  File \"/home/djanloo/.local/share/virtualenvs/DM2-PeqFRmfa/lib/python3.10/site-packages/optuna/study/_optimize.py\", line 200, in _run_trial\n",
      "    value_or_values = func(trial)\n",
      "  File \"/tmp/ipykernel_25375/4273198217.py\", line 15, in objective_fun\n",
      "    cnn = build_and_fit_cnn(X=X_train_v,\n",
      "  File \"/tmp/ipykernel_25375/2256047732.py\", line 28, in build_and_fit_cnn\n",
      "    model.add(Conv1D(filters=filters, kernel_size=kernel_size, activation='relu', name=f\"extra_conv_{i}\"))\n",
      "  File \"/home/djanloo/.local/share/virtualenvs/DM2-PeqFRmfa/lib/python3.10/site-packages/tensorflow/python/trackable/base.py\", line 205, in _method_wrapper\n",
      "    result = method(self, *args, **kwargs)\n",
      "  File \"/home/djanloo/.local/share/virtualenvs/DM2-PeqFRmfa/lib/python3.10/site-packages/keras/utils/traceback_utils.py\", line 70, in error_handler\n",
      "    raise e.with_traceback(filtered_tb) from None\n",
      "  File \"/home/djanloo/.local/share/virtualenvs/DM2-PeqFRmfa/lib/python3.10/site-packages/keras/layers/convolutional/base_conv.py\", line 354, in compute_output_shape\n",
      "    raise ValueError(\n",
      "ValueError: One of the dimensions in the output is <= 0 due to downsampling in extra_conv_1. Consider increasing the input size. Received input shape [None, 1, 11] which would produce output shape with a zero or negative value in a dimension.\n",
      "[W 2023-06-26 13:05:27,386] Trial 93 failed with value None.\n",
      "[W 2023-06-26 13:05:27,526] Trial 94 failed with parameters: {'n_conv': 2, 'n_hidden': 1, 'hidden_nodes': 93, 'dropout': 0.9895402737590298, 'filters': 11, 'kernel_size': 11, 'batch_size': 18, 'epochs': 7} because of the following error: ValueError('One of the dimensions in the output is <= 0 due to downsampling in extra_conv_1. Consider increasing the input size. Received input shape [None, 3, 11] which would produce output shape with a zero or negative value in a dimension.').\n",
      "Traceback (most recent call last):\n",
      "  File \"/home/djanloo/.local/share/virtualenvs/DM2-PeqFRmfa/lib/python3.10/site-packages/optuna/study/_optimize.py\", line 200, in _run_trial\n",
      "    value_or_values = func(trial)\n",
      "  File \"/tmp/ipykernel_25375/4273198217.py\", line 15, in objective_fun\n",
      "    cnn = build_and_fit_cnn(X=X_train_v,\n",
      "  File \"/tmp/ipykernel_25375/2256047732.py\", line 28, in build_and_fit_cnn\n",
      "    model.add(Conv1D(filters=filters, kernel_size=kernel_size, activation='relu', name=f\"extra_conv_{i}\"))\n",
      "  File \"/home/djanloo/.local/share/virtualenvs/DM2-PeqFRmfa/lib/python3.10/site-packages/tensorflow/python/trackable/base.py\", line 205, in _method_wrapper\n",
      "    result = method(self, *args, **kwargs)\n",
      "  File \"/home/djanloo/.local/share/virtualenvs/DM2-PeqFRmfa/lib/python3.10/site-packages/keras/utils/traceback_utils.py\", line 70, in error_handler\n",
      "    raise e.with_traceback(filtered_tb) from None\n",
      "  File \"/home/djanloo/.local/share/virtualenvs/DM2-PeqFRmfa/lib/python3.10/site-packages/keras/layers/convolutional/base_conv.py\", line 354, in compute_output_shape\n",
      "    raise ValueError(\n",
      "ValueError: One of the dimensions in the output is <= 0 due to downsampling in extra_conv_1. Consider increasing the input size. Received input shape [None, 3, 11] which would produce output shape with a zero or negative value in a dimension.\n",
      "[W 2023-06-26 13:05:27,531] Trial 94 failed with value None.\n"
     ]
    },
    {
     "name": "stdout",
     "output_type": "stream",
     "text": [
      "Running little bitch having n_conv=2, dropout=0.9638541799030491, hidden_nodes=98\n",
      "Running little bitch having n_conv=2, dropout=0.9793717348674532, hidden_nodes=93\n"
     ]
    },
    {
     "name": "stderr",
     "output_type": "stream",
     "text": [
      "[W 2023-06-26 13:05:27,933] Trial 96 failed with parameters: {'n_conv': 2, 'n_hidden': 1, 'hidden_nodes': 93, 'dropout': 0.9793717348674532, 'filters': 11, 'kernel_size': 12, 'batch_size': 16, 'epochs': 12} because of the following error: ValueError('One of the dimensions in the output is <= 0 due to downsampling in extra_conv_1. Consider increasing the input size. Received input shape [None, 1, 11] which would produce output shape with a zero or negative value in a dimension.').\n",
      "Traceback (most recent call last):\n",
      "  File \"/home/djanloo/.local/share/virtualenvs/DM2-PeqFRmfa/lib/python3.10/site-packages/optuna/study/_optimize.py\", line 200, in _run_trial\n",
      "    value_or_values = func(trial)\n",
      "  File \"/tmp/ipykernel_25375/4273198217.py\", line 15, in objective_fun\n",
      "    cnn = build_and_fit_cnn(X=X_train_v,\n",
      "  File \"/tmp/ipykernel_25375/2256047732.py\", line 28, in build_and_fit_cnn\n",
      "    model.add(Conv1D(filters=filters, kernel_size=kernel_size, activation='relu', name=f\"extra_conv_{i}\"))\n",
      "  File \"/home/djanloo/.local/share/virtualenvs/DM2-PeqFRmfa/lib/python3.10/site-packages/tensorflow/python/trackable/base.py\", line 205, in _method_wrapper\n",
      "    result = method(self, *args, **kwargs)\n",
      "  File \"/home/djanloo/.local/share/virtualenvs/DM2-PeqFRmfa/lib/python3.10/site-packages/keras/utils/traceback_utils.py\", line 70, in error_handler\n",
      "    raise e.with_traceback(filtered_tb) from None\n",
      "  File \"/home/djanloo/.local/share/virtualenvs/DM2-PeqFRmfa/lib/python3.10/site-packages/keras/layers/convolutional/base_conv.py\", line 354, in compute_output_shape\n",
      "    raise ValueError(\n",
      "ValueError: One of the dimensions in the output is <= 0 due to downsampling in extra_conv_1. Consider increasing the input size. Received input shape [None, 1, 11] which would produce output shape with a zero or negative value in a dimension.\n",
      "[W 2023-06-26 13:05:27,944] Trial 96 failed with value None.\n",
      "[W 2023-06-26 13:05:27,955] Trial 95 failed with parameters: {'n_conv': 2, 'n_hidden': 1, 'hidden_nodes': 98, 'dropout': 0.9638541799030491, 'filters': 11, 'kernel_size': 12, 'batch_size': 16, 'epochs': 9} because of the following error: ValueError('One of the dimensions in the output is <= 0 due to downsampling in extra_conv_1. Consider increasing the input size. Received input shape [None, 1, 11] which would produce output shape with a zero or negative value in a dimension.').\n",
      "Traceback (most recent call last):\n",
      "  File \"/home/djanloo/.local/share/virtualenvs/DM2-PeqFRmfa/lib/python3.10/site-packages/optuna/study/_optimize.py\", line 200, in _run_trial\n",
      "    value_or_values = func(trial)\n",
      "  File \"/tmp/ipykernel_25375/4273198217.py\", line 15, in objective_fun\n",
      "    cnn = build_and_fit_cnn(X=X_train_v,\n",
      "  File \"/tmp/ipykernel_25375/2256047732.py\", line 28, in build_and_fit_cnn\n",
      "    model.add(Conv1D(filters=filters, kernel_size=kernel_size, activation='relu', name=f\"extra_conv_{i}\"))\n",
      "  File \"/home/djanloo/.local/share/virtualenvs/DM2-PeqFRmfa/lib/python3.10/site-packages/tensorflow/python/trackable/base.py\", line 205, in _method_wrapper\n",
      "    result = method(self, *args, **kwargs)\n",
      "  File \"/home/djanloo/.local/share/virtualenvs/DM2-PeqFRmfa/lib/python3.10/site-packages/keras/utils/traceback_utils.py\", line 70, in error_handler\n",
      "    raise e.with_traceback(filtered_tb) from None\n",
      "  File \"/home/djanloo/.local/share/virtualenvs/DM2-PeqFRmfa/lib/python3.10/site-packages/keras/layers/convolutional/base_conv.py\", line 354, in compute_output_shape\n",
      "    raise ValueError(\n",
      "ValueError: One of the dimensions in the output is <= 0 due to downsampling in extra_conv_1. Consider increasing the input size. Received input shape [None, 1, 11] which would produce output shape with a zero or negative value in a dimension.\n",
      "[W 2023-06-26 13:05:27,980] Trial 95 failed with value None.\n"
     ]
    },
    {
     "name": "stdout",
     "output_type": "stream",
     "text": [
      "Running little bitch having n_conv=2, dropout=0.989387017756372, hidden_nodes=100\n",
      "Running little bitch having n_conv=2, dropout=0.9601941548981634, hidden_nodes=98\n"
     ]
    },
    {
     "name": "stderr",
     "output_type": "stream",
     "text": [
      "[W 2023-06-26 13:05:28,423] Trial 97 failed with parameters: {'n_conv': 2, 'n_hidden': 1, 'hidden_nodes': 100, 'dropout': 0.989387017756372, 'filters': 11, 'kernel_size': 12, 'batch_size': 16, 'epochs': 90} because of the following error: ValueError('One of the dimensions in the output is <= 0 due to downsampling in extra_conv_1. Consider increasing the input size. Received input shape [None, 1, 11] which would produce output shape with a zero or negative value in a dimension.').\n",
      "Traceback (most recent call last):\n",
      "  File \"/home/djanloo/.local/share/virtualenvs/DM2-PeqFRmfa/lib/python3.10/site-packages/optuna/study/_optimize.py\", line 200, in _run_trial\n",
      "    value_or_values = func(trial)\n",
      "  File \"/tmp/ipykernel_25375/4273198217.py\", line 15, in objective_fun\n",
      "    cnn = build_and_fit_cnn(X=X_train_v,\n",
      "  File \"/tmp/ipykernel_25375/2256047732.py\", line 28, in build_and_fit_cnn\n",
      "    model.add(Conv1D(filters=filters, kernel_size=kernel_size, activation='relu', name=f\"extra_conv_{i}\"))\n",
      "  File \"/home/djanloo/.local/share/virtualenvs/DM2-PeqFRmfa/lib/python3.10/site-packages/tensorflow/python/trackable/base.py\", line 205, in _method_wrapper\n",
      "    result = method(self, *args, **kwargs)\n",
      "  File \"/home/djanloo/.local/share/virtualenvs/DM2-PeqFRmfa/lib/python3.10/site-packages/keras/utils/traceback_utils.py\", line 70, in error_handler\n",
      "    raise e.with_traceback(filtered_tb) from None\n",
      "  File \"/home/djanloo/.local/share/virtualenvs/DM2-PeqFRmfa/lib/python3.10/site-packages/keras/layers/convolutional/base_conv.py\", line 354, in compute_output_shape\n",
      "    raise ValueError(\n",
      "ValueError: One of the dimensions in the output is <= 0 due to downsampling in extra_conv_1. Consider increasing the input size. Received input shape [None, 1, 11] which would produce output shape with a zero or negative value in a dimension.\n",
      "[W 2023-06-26 13:05:28,426] Trial 97 failed with value None.\n",
      "[W 2023-06-26 13:05:28,589] Trial 98 failed with parameters: {'n_conv': 2, 'n_hidden': 1, 'hidden_nodes': 98, 'dropout': 0.9601941548981634, 'filters': 11, 'kernel_size': 11, 'batch_size': 17, 'epochs': 9} because of the following error: ValueError('One of the dimensions in the output is <= 0 due to downsampling in extra_conv_1. Consider increasing the input size. Received input shape [None, 3, 11] which would produce output shape with a zero or negative value in a dimension.').\n",
      "Traceback (most recent call last):\n",
      "  File \"/home/djanloo/.local/share/virtualenvs/DM2-PeqFRmfa/lib/python3.10/site-packages/optuna/study/_optimize.py\", line 200, in _run_trial\n",
      "    value_or_values = func(trial)\n",
      "  File \"/tmp/ipykernel_25375/4273198217.py\", line 15, in objective_fun\n",
      "    cnn = build_and_fit_cnn(X=X_train_v,\n",
      "  File \"/tmp/ipykernel_25375/2256047732.py\", line 28, in build_and_fit_cnn\n",
      "    model.add(Conv1D(filters=filters, kernel_size=kernel_size, activation='relu', name=f\"extra_conv_{i}\"))\n",
      "  File \"/home/djanloo/.local/share/virtualenvs/DM2-PeqFRmfa/lib/python3.10/site-packages/tensorflow/python/trackable/base.py\", line 205, in _method_wrapper\n",
      "    result = method(self, *args, **kwargs)\n",
      "  File \"/home/djanloo/.local/share/virtualenvs/DM2-PeqFRmfa/lib/python3.10/site-packages/keras/utils/traceback_utils.py\", line 70, in error_handler\n",
      "    raise e.with_traceback(filtered_tb) from None\n",
      "  File \"/home/djanloo/.local/share/virtualenvs/DM2-PeqFRmfa/lib/python3.10/site-packages/keras/layers/convolutional/base_conv.py\", line 354, in compute_output_shape\n",
      "    raise ValueError(\n",
      "ValueError: One of the dimensions in the output is <= 0 due to downsampling in extra_conv_1. Consider increasing the input size. Received input shape [None, 3, 11] which would produce output shape with a zero or negative value in a dimension.\n",
      "[W 2023-06-26 13:05:28,597] Trial 98 failed with value None.\n"
     ]
    },
    {
     "name": "stdout",
     "output_type": "stream",
     "text": [
      "Running little bitch having n_conv=2, dropout=0.9827657877241167, hidden_nodes=92\n",
      "Running little bitch having n_conv=2, dropout=0.9972058069623502, hidden_nodes=88\n"
     ]
    },
    {
     "name": "stderr",
     "output_type": "stream",
     "text": [
      "[W 2023-06-26 13:05:28,937] Trial 99 failed with parameters: {'n_conv': 2, 'n_hidden': 1, 'hidden_nodes': 92, 'dropout': 0.9827657877241167, 'filters': 12, 'kernel_size': 12, 'batch_size': 16, 'epochs': 5} because of the following error: ValueError('One of the dimensions in the output is <= 0 due to downsampling in extra_conv_1. Consider increasing the input size. Received input shape [None, 1, 12] which would produce output shape with a zero or negative value in a dimension.').\n",
      "Traceback (most recent call last):\n",
      "  File \"/home/djanloo/.local/share/virtualenvs/DM2-PeqFRmfa/lib/python3.10/site-packages/optuna/study/_optimize.py\", line 200, in _run_trial\n",
      "    value_or_values = func(trial)\n",
      "  File \"/tmp/ipykernel_25375/4273198217.py\", line 15, in objective_fun\n",
      "    cnn = build_and_fit_cnn(X=X_train_v,\n",
      "  File \"/tmp/ipykernel_25375/2256047732.py\", line 28, in build_and_fit_cnn\n",
      "    model.add(Conv1D(filters=filters, kernel_size=kernel_size, activation='relu', name=f\"extra_conv_{i}\"))\n",
      "  File \"/home/djanloo/.local/share/virtualenvs/DM2-PeqFRmfa/lib/python3.10/site-packages/tensorflow/python/trackable/base.py\", line 205, in _method_wrapper\n",
      "    result = method(self, *args, **kwargs)\n",
      "  File \"/home/djanloo/.local/share/virtualenvs/DM2-PeqFRmfa/lib/python3.10/site-packages/keras/utils/traceback_utils.py\", line 70, in error_handler\n",
      "    raise e.with_traceback(filtered_tb) from None\n",
      "  File \"/home/djanloo/.local/share/virtualenvs/DM2-PeqFRmfa/lib/python3.10/site-packages/keras/layers/convolutional/base_conv.py\", line 354, in compute_output_shape\n",
      "    raise ValueError(\n",
      "ValueError: One of the dimensions in the output is <= 0 due to downsampling in extra_conv_1. Consider increasing the input size. Received input shape [None, 1, 12] which would produce output shape with a zero or negative value in a dimension.\n",
      "[W 2023-06-26 13:05:28,939] Trial 99 failed with value None.\n",
      "[W 2023-06-26 13:05:29,131] Trial 100 failed with parameters: {'n_conv': 2, 'n_hidden': 1, 'hidden_nodes': 88, 'dropout': 0.9972058069623502, 'filters': 11, 'kernel_size': 12, 'batch_size': 16, 'epochs': 12} because of the following error: ValueError('One of the dimensions in the output is <= 0 due to downsampling in extra_conv_1. Consider increasing the input size. Received input shape [None, 1, 11] which would produce output shape with a zero or negative value in a dimension.').\n",
      "Traceback (most recent call last):\n",
      "  File \"/home/djanloo/.local/share/virtualenvs/DM2-PeqFRmfa/lib/python3.10/site-packages/optuna/study/_optimize.py\", line 200, in _run_trial\n",
      "    value_or_values = func(trial)\n",
      "  File \"/tmp/ipykernel_25375/4273198217.py\", line 15, in objective_fun\n",
      "    cnn = build_and_fit_cnn(X=X_train_v,\n",
      "  File \"/tmp/ipykernel_25375/2256047732.py\", line 28, in build_and_fit_cnn\n",
      "    model.add(Conv1D(filters=filters, kernel_size=kernel_size, activation='relu', name=f\"extra_conv_{i}\"))\n",
      "  File \"/home/djanloo/.local/share/virtualenvs/DM2-PeqFRmfa/lib/python3.10/site-packages/tensorflow/python/trackable/base.py\", line 205, in _method_wrapper\n",
      "    result = method(self, *args, **kwargs)\n",
      "  File \"/home/djanloo/.local/share/virtualenvs/DM2-PeqFRmfa/lib/python3.10/site-packages/keras/utils/traceback_utils.py\", line 70, in error_handler\n",
      "    raise e.with_traceback(filtered_tb) from None\n",
      "  File \"/home/djanloo/.local/share/virtualenvs/DM2-PeqFRmfa/lib/python3.10/site-packages/keras/layers/convolutional/base_conv.py\", line 354, in compute_output_shape\n",
      "    raise ValueError(\n",
      "ValueError: One of the dimensions in the output is <= 0 due to downsampling in extra_conv_1. Consider increasing the input size. Received input shape [None, 1, 11] which would produce output shape with a zero or negative value in a dimension.\n",
      "[W 2023-06-26 13:05:29,135] Trial 100 failed with value None.\n"
     ]
    },
    {
     "name": "stdout",
     "output_type": "stream",
     "text": [
      "Running little bitch having n_conv=2, dropout=0.9928935535859387, hidden_nodes=105\n",
      "Running little bitch having n_conv=2, dropout=0.9559265194995001, hidden_nodes=91\n"
     ]
    },
    {
     "name": "stderr",
     "output_type": "stream",
     "text": [
      "[W 2023-06-26 13:05:29,467] Trial 101 failed with parameters: {'n_conv': 2, 'n_hidden': 1, 'hidden_nodes': 105, 'dropout': 0.9928935535859387, 'filters': 10, 'kernel_size': 12, 'batch_size': 16, 'epochs': 7} because of the following error: ValueError('One of the dimensions in the output is <= 0 due to downsampling in extra_conv_1. Consider increasing the input size. Received input shape [None, 1, 10] which would produce output shape with a zero or negative value in a dimension.').\n",
      "Traceback (most recent call last):\n",
      "  File \"/home/djanloo/.local/share/virtualenvs/DM2-PeqFRmfa/lib/python3.10/site-packages/optuna/study/_optimize.py\", line 200, in _run_trial\n",
      "    value_or_values = func(trial)\n",
      "  File \"/tmp/ipykernel_25375/4273198217.py\", line 15, in objective_fun\n",
      "    cnn = build_and_fit_cnn(X=X_train_v,\n",
      "  File \"/tmp/ipykernel_25375/2256047732.py\", line 28, in build_and_fit_cnn\n",
      "    model.add(Conv1D(filters=filters, kernel_size=kernel_size, activation='relu', name=f\"extra_conv_{i}\"))\n",
      "  File \"/home/djanloo/.local/share/virtualenvs/DM2-PeqFRmfa/lib/python3.10/site-packages/tensorflow/python/trackable/base.py\", line 205, in _method_wrapper\n",
      "    result = method(self, *args, **kwargs)\n",
      "  File \"/home/djanloo/.local/share/virtualenvs/DM2-PeqFRmfa/lib/python3.10/site-packages/keras/utils/traceback_utils.py\", line 70, in error_handler\n",
      "    raise e.with_traceback(filtered_tb) from None\n",
      "  File \"/home/djanloo/.local/share/virtualenvs/DM2-PeqFRmfa/lib/python3.10/site-packages/keras/layers/convolutional/base_conv.py\", line 354, in compute_output_shape\n",
      "    raise ValueError(\n",
      "ValueError: One of the dimensions in the output is <= 0 due to downsampling in extra_conv_1. Consider increasing the input size. Received input shape [None, 1, 10] which would produce output shape with a zero or negative value in a dimension.\n",
      "[W 2023-06-26 13:05:29,476] Trial 101 failed with value None.\n",
      "[W 2023-06-26 13:05:29,644] Trial 102 failed with parameters: {'n_conv': 2, 'n_hidden': 1, 'hidden_nodes': 91, 'dropout': 0.9559265194995001, 'filters': 12, 'kernel_size': 12, 'batch_size': 16, 'epochs': 5} because of the following error: ValueError('One of the dimensions in the output is <= 0 due to downsampling in extra_conv_1. Consider increasing the input size. Received input shape [None, 1, 12] which would produce output shape with a zero or negative value in a dimension.').\n",
      "Traceback (most recent call last):\n",
      "  File \"/home/djanloo/.local/share/virtualenvs/DM2-PeqFRmfa/lib/python3.10/site-packages/optuna/study/_optimize.py\", line 200, in _run_trial\n",
      "    value_or_values = func(trial)\n",
      "  File \"/tmp/ipykernel_25375/4273198217.py\", line 15, in objective_fun\n",
      "    cnn = build_and_fit_cnn(X=X_train_v,\n",
      "  File \"/tmp/ipykernel_25375/2256047732.py\", line 28, in build_and_fit_cnn\n",
      "    model.add(Conv1D(filters=filters, kernel_size=kernel_size, activation='relu', name=f\"extra_conv_{i}\"))\n",
      "  File \"/home/djanloo/.local/share/virtualenvs/DM2-PeqFRmfa/lib/python3.10/site-packages/tensorflow/python/trackable/base.py\", line 205, in _method_wrapper\n",
      "    result = method(self, *args, **kwargs)\n",
      "  File \"/home/djanloo/.local/share/virtualenvs/DM2-PeqFRmfa/lib/python3.10/site-packages/keras/utils/traceback_utils.py\", line 70, in error_handler\n",
      "    raise e.with_traceback(filtered_tb) from None\n",
      "  File \"/home/djanloo/.local/share/virtualenvs/DM2-PeqFRmfa/lib/python3.10/site-packages/keras/layers/convolutional/base_conv.py\", line 354, in compute_output_shape\n",
      "    raise ValueError(\n",
      "ValueError: One of the dimensions in the output is <= 0 due to downsampling in extra_conv_1. Consider increasing the input size. Received input shape [None, 1, 12] which would produce output shape with a zero or negative value in a dimension.\n",
      "[W 2023-06-26 13:05:29,657] Trial 102 failed with value None.\n"
     ]
    },
    {
     "name": "stdout",
     "output_type": "stream",
     "text": [
      "Running little bitch having n_conv=2, dropout=0.9245575011359946, hidden_nodes=89\n",
      "Running little bitch having n_conv=2, dropout=0.9534992223981511, hidden_nodes=93\n"
     ]
    },
    {
     "name": "stderr",
     "output_type": "stream",
     "text": [
      "[W 2023-06-26 13:05:29,977] Trial 103 failed with parameters: {'n_conv': 2, 'n_hidden': 1, 'hidden_nodes': 89, 'dropout': 0.9245575011359946, 'filters': 11, 'kernel_size': 12, 'batch_size': 16, 'epochs': 6} because of the following error: ValueError('One of the dimensions in the output is <= 0 due to downsampling in extra_conv_1. Consider increasing the input size. Received input shape [None, 1, 11] which would produce output shape with a zero or negative value in a dimension.').\n",
      "Traceback (most recent call last):\n",
      "  File \"/home/djanloo/.local/share/virtualenvs/DM2-PeqFRmfa/lib/python3.10/site-packages/optuna/study/_optimize.py\", line 200, in _run_trial\n",
      "    value_or_values = func(trial)\n",
      "  File \"/tmp/ipykernel_25375/4273198217.py\", line 15, in objective_fun\n",
      "    cnn = build_and_fit_cnn(X=X_train_v,\n",
      "  File \"/tmp/ipykernel_25375/2256047732.py\", line 28, in build_and_fit_cnn\n",
      "    model.add(Conv1D(filters=filters, kernel_size=kernel_size, activation='relu', name=f\"extra_conv_{i}\"))\n",
      "  File \"/home/djanloo/.local/share/virtualenvs/DM2-PeqFRmfa/lib/python3.10/site-packages/tensorflow/python/trackable/base.py\", line 205, in _method_wrapper\n",
      "    result = method(self, *args, **kwargs)\n",
      "  File \"/home/djanloo/.local/share/virtualenvs/DM2-PeqFRmfa/lib/python3.10/site-packages/keras/utils/traceback_utils.py\", line 70, in error_handler\n",
      "    raise e.with_traceback(filtered_tb) from None\n",
      "  File \"/home/djanloo/.local/share/virtualenvs/DM2-PeqFRmfa/lib/python3.10/site-packages/keras/layers/convolutional/base_conv.py\", line 354, in compute_output_shape\n",
      "    raise ValueError(\n",
      "ValueError: One of the dimensions in the output is <= 0 due to downsampling in extra_conv_1. Consider increasing the input size. Received input shape [None, 1, 11] which would produce output shape with a zero or negative value in a dimension.\n",
      "[W 2023-06-26 13:05:29,981] Trial 103 failed with value None.\n",
      "[W 2023-06-26 13:05:30,196] Trial 104 failed with parameters: {'n_conv': 2, 'n_hidden': 1, 'hidden_nodes': 93, 'dropout': 0.9534992223981511, 'filters': 10, 'kernel_size': 12, 'batch_size': 16, 'epochs': 7} because of the following error: ValueError('One of the dimensions in the output is <= 0 due to downsampling in extra_conv_1. Consider increasing the input size. Received input shape [None, 1, 10] which would produce output shape with a zero or negative value in a dimension.').\n",
      "Traceback (most recent call last):\n",
      "  File \"/home/djanloo/.local/share/virtualenvs/DM2-PeqFRmfa/lib/python3.10/site-packages/optuna/study/_optimize.py\", line 200, in _run_trial\n",
      "    value_or_values = func(trial)\n",
      "  File \"/tmp/ipykernel_25375/4273198217.py\", line 15, in objective_fun\n",
      "    cnn = build_and_fit_cnn(X=X_train_v,\n",
      "  File \"/tmp/ipykernel_25375/2256047732.py\", line 28, in build_and_fit_cnn\n",
      "    model.add(Conv1D(filters=filters, kernel_size=kernel_size, activation='relu', name=f\"extra_conv_{i}\"))\n",
      "  File \"/home/djanloo/.local/share/virtualenvs/DM2-PeqFRmfa/lib/python3.10/site-packages/tensorflow/python/trackable/base.py\", line 205, in _method_wrapper\n",
      "    result = method(self, *args, **kwargs)\n",
      "  File \"/home/djanloo/.local/share/virtualenvs/DM2-PeqFRmfa/lib/python3.10/site-packages/keras/utils/traceback_utils.py\", line 70, in error_handler\n",
      "    raise e.with_traceback(filtered_tb) from None\n",
      "  File \"/home/djanloo/.local/share/virtualenvs/DM2-PeqFRmfa/lib/python3.10/site-packages/keras/layers/convolutional/base_conv.py\", line 354, in compute_output_shape\n",
      "    raise ValueError(\n",
      "ValueError: One of the dimensions in the output is <= 0 due to downsampling in extra_conv_1. Consider increasing the input size. Received input shape [None, 1, 10] which would produce output shape with a zero or negative value in a dimension.\n",
      "[W 2023-06-26 13:05:30,210] Trial 104 failed with value None.\n"
     ]
    },
    {
     "name": "stdout",
     "output_type": "stream",
     "text": [
      "Running little bitch having n_conv=2, dropout=0.9486339565720071, hidden_nodes=104\n",
      "Running little bitch having n_conv=2, dropout=0.9719806709358088, hidden_nodes=95\n"
     ]
    },
    {
     "name": "stderr",
     "output_type": "stream",
     "text": [
      "[W 2023-06-26 13:05:30,474] Trial 105 failed with parameters: {'n_conv': 2, 'n_hidden': 1, 'hidden_nodes': 104, 'dropout': 0.9486339565720071, 'filters': 11, 'kernel_size': 12, 'batch_size': 16, 'epochs': 6} because of the following error: ValueError('One of the dimensions in the output is <= 0 due to downsampling in extra_conv_1. Consider increasing the input size. Received input shape [None, 1, 11] which would produce output shape with a zero or negative value in a dimension.').\n",
      "Traceback (most recent call last):\n",
      "  File \"/home/djanloo/.local/share/virtualenvs/DM2-PeqFRmfa/lib/python3.10/site-packages/optuna/study/_optimize.py\", line 200, in _run_trial\n",
      "    value_or_values = func(trial)\n",
      "  File \"/tmp/ipykernel_25375/4273198217.py\", line 15, in objective_fun\n",
      "    cnn = build_and_fit_cnn(X=X_train_v,\n",
      "  File \"/tmp/ipykernel_25375/2256047732.py\", line 28, in build_and_fit_cnn\n",
      "    model.add(Conv1D(filters=filters, kernel_size=kernel_size, activation='relu', name=f\"extra_conv_{i}\"))\n",
      "  File \"/home/djanloo/.local/share/virtualenvs/DM2-PeqFRmfa/lib/python3.10/site-packages/tensorflow/python/trackable/base.py\", line 205, in _method_wrapper\n",
      "    result = method(self, *args, **kwargs)\n",
      "  File \"/home/djanloo/.local/share/virtualenvs/DM2-PeqFRmfa/lib/python3.10/site-packages/keras/utils/traceback_utils.py\", line 70, in error_handler\n",
      "    raise e.with_traceback(filtered_tb) from None\n",
      "  File \"/home/djanloo/.local/share/virtualenvs/DM2-PeqFRmfa/lib/python3.10/site-packages/keras/layers/convolutional/base_conv.py\", line 354, in compute_output_shape\n",
      "    raise ValueError(\n",
      "ValueError: One of the dimensions in the output is <= 0 due to downsampling in extra_conv_1. Consider increasing the input size. Received input shape [None, 1, 11] which would produce output shape with a zero or negative value in a dimension.\n",
      "[W 2023-06-26 13:05:30,484] Trial 105 failed with value None.\n",
      "[W 2023-06-26 13:05:30,734] Trial 106 failed with parameters: {'n_conv': 2, 'n_hidden': 1, 'hidden_nodes': 95, 'dropout': 0.9719806709358088, 'filters': 11, 'kernel_size': 12, 'batch_size': 16, 'epochs': 9} because of the following error: ValueError('One of the dimensions in the output is <= 0 due to downsampling in extra_conv_1. Consider increasing the input size. Received input shape [None, 1, 11] which would produce output shape with a zero or negative value in a dimension.').\n",
      "Traceback (most recent call last):\n",
      "  File \"/home/djanloo/.local/share/virtualenvs/DM2-PeqFRmfa/lib/python3.10/site-packages/optuna/study/_optimize.py\", line 200, in _run_trial\n",
      "    value_or_values = func(trial)\n",
      "  File \"/tmp/ipykernel_25375/4273198217.py\", line 15, in objective_fun\n",
      "    cnn = build_and_fit_cnn(X=X_train_v,\n",
      "  File \"/tmp/ipykernel_25375/2256047732.py\", line 28, in build_and_fit_cnn\n",
      "    model.add(Conv1D(filters=filters, kernel_size=kernel_size, activation='relu', name=f\"extra_conv_{i}\"))\n",
      "  File \"/home/djanloo/.local/share/virtualenvs/DM2-PeqFRmfa/lib/python3.10/site-packages/tensorflow/python/trackable/base.py\", line 205, in _method_wrapper\n",
      "    result = method(self, *args, **kwargs)\n",
      "  File \"/home/djanloo/.local/share/virtualenvs/DM2-PeqFRmfa/lib/python3.10/site-packages/keras/utils/traceback_utils.py\", line 70, in error_handler\n",
      "    raise e.with_traceback(filtered_tb) from None\n",
      "  File \"/home/djanloo/.local/share/virtualenvs/DM2-PeqFRmfa/lib/python3.10/site-packages/keras/layers/convolutional/base_conv.py\", line 354, in compute_output_shape\n",
      "    raise ValueError(\n",
      "ValueError: One of the dimensions in the output is <= 0 due to downsampling in extra_conv_1. Consider increasing the input size. Received input shape [None, 1, 11] which would produce output shape with a zero or negative value in a dimension.\n",
      "[W 2023-06-26 13:05:30,739] Trial 106 failed with value None.\n"
     ]
    },
    {
     "name": "stdout",
     "output_type": "stream",
     "text": [
      "Running little bitch having n_conv=2, dropout=0.9713356995424174, hidden_nodes=91\n"
     ]
    },
    {
     "name": "stderr",
     "output_type": "stream",
     "text": [
      "[W 2023-06-26 13:05:31,017] Trial 107 failed with parameters: {'n_conv': 2, 'n_hidden': 1, 'hidden_nodes': 91, 'dropout': 0.9713356995424174, 'filters': 11, 'kernel_size': 12, 'batch_size': 16, 'epochs': 6} because of the following error: ValueError('One of the dimensions in the output is <= 0 due to downsampling in extra_conv_1. Consider increasing the input size. Received input shape [None, 1, 11] which would produce output shape with a zero or negative value in a dimension.').\n",
      "Traceback (most recent call last):\n",
      "  File \"/home/djanloo/.local/share/virtualenvs/DM2-PeqFRmfa/lib/python3.10/site-packages/optuna/study/_optimize.py\", line 200, in _run_trial\n",
      "    value_or_values = func(trial)\n",
      "  File \"/tmp/ipykernel_25375/4273198217.py\", line 15, in objective_fun\n",
      "    cnn = build_and_fit_cnn(X=X_train_v,\n",
      "  File \"/tmp/ipykernel_25375/2256047732.py\", line 28, in build_and_fit_cnn\n",
      "    model.add(Conv1D(filters=filters, kernel_size=kernel_size, activation='relu', name=f\"extra_conv_{i}\"))\n",
      "  File \"/home/djanloo/.local/share/virtualenvs/DM2-PeqFRmfa/lib/python3.10/site-packages/tensorflow/python/trackable/base.py\", line 205, in _method_wrapper\n",
      "    result = method(self, *args, **kwargs)\n",
      "  File \"/home/djanloo/.local/share/virtualenvs/DM2-PeqFRmfa/lib/python3.10/site-packages/keras/utils/traceback_utils.py\", line 70, in error_handler\n",
      "    raise e.with_traceback(filtered_tb) from None\n",
      "  File \"/home/djanloo/.local/share/virtualenvs/DM2-PeqFRmfa/lib/python3.10/site-packages/keras/layers/convolutional/base_conv.py\", line 354, in compute_output_shape\n",
      "    raise ValueError(\n",
      "ValueError: One of the dimensions in the output is <= 0 due to downsampling in extra_conv_1. Consider increasing the input size. Received input shape [None, 1, 11] which would produce output shape with a zero or negative value in a dimension.\n",
      "[W 2023-06-26 13:05:31,032] Trial 107 failed with value None.\n"
     ]
    },
    {
     "name": "stdout",
     "output_type": "stream",
     "text": [
      "Running little bitch having n_conv=2, dropout=0.6739565018742972, hidden_nodes=89\n"
     ]
    },
    {
     "name": "stderr",
     "output_type": "stream",
     "text": [
      "[W 2023-06-26 13:05:31,265] Trial 108 failed with parameters: {'n_conv': 2, 'n_hidden': 1, 'hidden_nodes': 89, 'dropout': 0.6739565018742972, 'filters': 11, 'kernel_size': 12, 'batch_size': 16, 'epochs': 5} because of the following error: ValueError('One of the dimensions in the output is <= 0 due to downsampling in extra_conv_1. Consider increasing the input size. Received input shape [None, 1, 11] which would produce output shape with a zero or negative value in a dimension.').\n",
      "Traceback (most recent call last):\n",
      "  File \"/home/djanloo/.local/share/virtualenvs/DM2-PeqFRmfa/lib/python3.10/site-packages/optuna/study/_optimize.py\", line 200, in _run_trial\n",
      "    value_or_values = func(trial)\n",
      "  File \"/tmp/ipykernel_25375/4273198217.py\", line 15, in objective_fun\n",
      "    cnn = build_and_fit_cnn(X=X_train_v,\n",
      "  File \"/tmp/ipykernel_25375/2256047732.py\", line 28, in build_and_fit_cnn\n",
      "    model.add(Conv1D(filters=filters, kernel_size=kernel_size, activation='relu', name=f\"extra_conv_{i}\"))\n",
      "  File \"/home/djanloo/.local/share/virtualenvs/DM2-PeqFRmfa/lib/python3.10/site-packages/tensorflow/python/trackable/base.py\", line 205, in _method_wrapper\n",
      "    result = method(self, *args, **kwargs)\n",
      "  File \"/home/djanloo/.local/share/virtualenvs/DM2-PeqFRmfa/lib/python3.10/site-packages/keras/utils/traceback_utils.py\", line 70, in error_handler\n",
      "    raise e.with_traceback(filtered_tb) from None\n",
      "  File \"/home/djanloo/.local/share/virtualenvs/DM2-PeqFRmfa/lib/python3.10/site-packages/keras/layers/convolutional/base_conv.py\", line 354, in compute_output_shape\n",
      "    raise ValueError(\n",
      "ValueError: One of the dimensions in the output is <= 0 due to downsampling in extra_conv_1. Consider increasing the input size. Received input shape [None, 1, 11] which would produce output shape with a zero or negative value in a dimension.\n",
      "[W 2023-06-26 13:05:31,268] Trial 108 failed with value None.\n"
     ]
    },
    {
     "name": "stdout",
     "output_type": "stream",
     "text": [
      "Running little bitch having n_conv=2, dropout=0.9977294097251616, hidden_nodes=91\n"
     ]
    },
    {
     "name": "stderr",
     "output_type": "stream",
     "text": [
      "[W 2023-06-26 13:05:31,564] Trial 109 failed with parameters: {'n_conv': 2, 'n_hidden': 1, 'hidden_nodes': 91, 'dropout': 0.9977294097251616, 'filters': 11, 'kernel_size': 12, 'batch_size': 16, 'epochs': 8} because of the following error: ValueError('One of the dimensions in the output is <= 0 due to downsampling in extra_conv_1. Consider increasing the input size. Received input shape [None, 1, 11] which would produce output shape with a zero or negative value in a dimension.').\n",
      "Traceback (most recent call last):\n",
      "  File \"/home/djanloo/.local/share/virtualenvs/DM2-PeqFRmfa/lib/python3.10/site-packages/optuna/study/_optimize.py\", line 200, in _run_trial\n",
      "    value_or_values = func(trial)\n",
      "  File \"/tmp/ipykernel_25375/4273198217.py\", line 15, in objective_fun\n",
      "    cnn = build_and_fit_cnn(X=X_train_v,\n",
      "  File \"/tmp/ipykernel_25375/2256047732.py\", line 28, in build_and_fit_cnn\n",
      "    model.add(Conv1D(filters=filters, kernel_size=kernel_size, activation='relu', name=f\"extra_conv_{i}\"))\n",
      "  File \"/home/djanloo/.local/share/virtualenvs/DM2-PeqFRmfa/lib/python3.10/site-packages/tensorflow/python/trackable/base.py\", line 205, in _method_wrapper\n",
      "    result = method(self, *args, **kwargs)\n",
      "  File \"/home/djanloo/.local/share/virtualenvs/DM2-PeqFRmfa/lib/python3.10/site-packages/keras/utils/traceback_utils.py\", line 70, in error_handler\n",
      "    raise e.with_traceback(filtered_tb) from None\n",
      "  File \"/home/djanloo/.local/share/virtualenvs/DM2-PeqFRmfa/lib/python3.10/site-packages/keras/layers/convolutional/base_conv.py\", line 354, in compute_output_shape\n",
      "    raise ValueError(\n",
      "ValueError: One of the dimensions in the output is <= 0 due to downsampling in extra_conv_1. Consider increasing the input size. Received input shape [None, 1, 11] which would produce output shape with a zero or negative value in a dimension.\n",
      "[W 2023-06-26 13:05:31,568] Trial 109 failed with value None.\n"
     ]
    },
    {
     "name": "stdout",
     "output_type": "stream",
     "text": [
      "Running little bitch having n_conv=2, dropout=0.9643059105876102, hidden_nodes=89\n"
     ]
    },
    {
     "name": "stderr",
     "output_type": "stream",
     "text": [
      "[W 2023-06-26 13:05:31,805] Trial 110 failed with parameters: {'n_conv': 2, 'n_hidden': 1, 'hidden_nodes': 89, 'dropout': 0.9643059105876102, 'filters': 11, 'kernel_size': 12, 'batch_size': 16, 'epochs': 8} because of the following error: ValueError('One of the dimensions in the output is <= 0 due to downsampling in extra_conv_1. Consider increasing the input size. Received input shape [None, 1, 11] which would produce output shape with a zero or negative value in a dimension.').\n",
      "Traceback (most recent call last):\n",
      "  File \"/home/djanloo/.local/share/virtualenvs/DM2-PeqFRmfa/lib/python3.10/site-packages/optuna/study/_optimize.py\", line 200, in _run_trial\n",
      "    value_or_values = func(trial)\n",
      "  File \"/tmp/ipykernel_25375/4273198217.py\", line 15, in objective_fun\n",
      "    cnn = build_and_fit_cnn(X=X_train_v,\n",
      "  File \"/tmp/ipykernel_25375/2256047732.py\", line 28, in build_and_fit_cnn\n",
      "    model.add(Conv1D(filters=filters, kernel_size=kernel_size, activation='relu', name=f\"extra_conv_{i}\"))\n",
      "  File \"/home/djanloo/.local/share/virtualenvs/DM2-PeqFRmfa/lib/python3.10/site-packages/tensorflow/python/trackable/base.py\", line 205, in _method_wrapper\n",
      "    result = method(self, *args, **kwargs)\n",
      "  File \"/home/djanloo/.local/share/virtualenvs/DM2-PeqFRmfa/lib/python3.10/site-packages/keras/utils/traceback_utils.py\", line 70, in error_handler\n",
      "    raise e.with_traceback(filtered_tb) from None\n",
      "  File \"/home/djanloo/.local/share/virtualenvs/DM2-PeqFRmfa/lib/python3.10/site-packages/keras/layers/convolutional/base_conv.py\", line 354, in compute_output_shape\n",
      "    raise ValueError(\n",
      "ValueError: One of the dimensions in the output is <= 0 due to downsampling in extra_conv_1. Consider increasing the input size. Received input shape [None, 1, 11] which would produce output shape with a zero or negative value in a dimension.\n",
      "[W 2023-06-26 13:05:31,810] Trial 110 failed with value None.\n"
     ]
    },
    {
     "name": "stdout",
     "output_type": "stream",
     "text": [
      "Running little bitch having n_conv=2, dropout=0.979970455677744, hidden_nodes=100\n"
     ]
    },
    {
     "name": "stderr",
     "output_type": "stream",
     "text": [
      "[W 2023-06-26 13:05:32,110] Trial 111 failed with parameters: {'n_conv': 2, 'n_hidden': 1, 'hidden_nodes': 100, 'dropout': 0.979970455677744, 'filters': 11, 'kernel_size': 12, 'batch_size': 17, 'epochs': 5} because of the following error: ValueError('One of the dimensions in the output is <= 0 due to downsampling in extra_conv_1. Consider increasing the input size. Received input shape [None, 1, 11] which would produce output shape with a zero or negative value in a dimension.').\n",
      "Traceback (most recent call last):\n",
      "  File \"/home/djanloo/.local/share/virtualenvs/DM2-PeqFRmfa/lib/python3.10/site-packages/optuna/study/_optimize.py\", line 200, in _run_trial\n",
      "    value_or_values = func(trial)\n",
      "  File \"/tmp/ipykernel_25375/4273198217.py\", line 15, in objective_fun\n",
      "    cnn = build_and_fit_cnn(X=X_train_v,\n",
      "  File \"/tmp/ipykernel_25375/2256047732.py\", line 28, in build_and_fit_cnn\n",
      "    model.add(Conv1D(filters=filters, kernel_size=kernel_size, activation='relu', name=f\"extra_conv_{i}\"))\n",
      "  File \"/home/djanloo/.local/share/virtualenvs/DM2-PeqFRmfa/lib/python3.10/site-packages/tensorflow/python/trackable/base.py\", line 205, in _method_wrapper\n",
      "    result = method(self, *args, **kwargs)\n",
      "  File \"/home/djanloo/.local/share/virtualenvs/DM2-PeqFRmfa/lib/python3.10/site-packages/keras/utils/traceback_utils.py\", line 70, in error_handler\n",
      "    raise e.with_traceback(filtered_tb) from None\n",
      "  File \"/home/djanloo/.local/share/virtualenvs/DM2-PeqFRmfa/lib/python3.10/site-packages/keras/layers/convolutional/base_conv.py\", line 354, in compute_output_shape\n",
      "    raise ValueError(\n",
      "ValueError: One of the dimensions in the output is <= 0 due to downsampling in extra_conv_1. Consider increasing the input size. Received input shape [None, 1, 11] which would produce output shape with a zero or negative value in a dimension.\n",
      "[W 2023-06-26 13:05:32,116] Trial 111 failed with value None.\n"
     ]
    },
    {
     "name": "stdout",
     "output_type": "stream",
     "text": [
      "Running little bitch having n_conv=2, dropout=0.9630062690597032, hidden_nodes=88\n"
     ]
    },
    {
     "name": "stderr",
     "output_type": "stream",
     "text": [
      "[W 2023-06-26 13:05:32,320] Trial 112 failed with parameters: {'n_conv': 2, 'n_hidden': 1, 'hidden_nodes': 88, 'dropout': 0.9630062690597032, 'filters': 11, 'kernel_size': 12, 'batch_size': 17, 'epochs': 6} because of the following error: ValueError('One of the dimensions in the output is <= 0 due to downsampling in extra_conv_1. Consider increasing the input size. Received input shape [None, 1, 11] which would produce output shape with a zero or negative value in a dimension.').\n",
      "Traceback (most recent call last):\n",
      "  File \"/home/djanloo/.local/share/virtualenvs/DM2-PeqFRmfa/lib/python3.10/site-packages/optuna/study/_optimize.py\", line 200, in _run_trial\n",
      "    value_or_values = func(trial)\n",
      "  File \"/tmp/ipykernel_25375/4273198217.py\", line 15, in objective_fun\n",
      "    cnn = build_and_fit_cnn(X=X_train_v,\n",
      "  File \"/tmp/ipykernel_25375/2256047732.py\", line 28, in build_and_fit_cnn\n",
      "    model.add(Conv1D(filters=filters, kernel_size=kernel_size, activation='relu', name=f\"extra_conv_{i}\"))\n",
      "  File \"/home/djanloo/.local/share/virtualenvs/DM2-PeqFRmfa/lib/python3.10/site-packages/tensorflow/python/trackable/base.py\", line 205, in _method_wrapper\n",
      "    result = method(self, *args, **kwargs)\n",
      "  File \"/home/djanloo/.local/share/virtualenvs/DM2-PeqFRmfa/lib/python3.10/site-packages/keras/utils/traceback_utils.py\", line 70, in error_handler\n",
      "    raise e.with_traceback(filtered_tb) from None\n",
      "  File \"/home/djanloo/.local/share/virtualenvs/DM2-PeqFRmfa/lib/python3.10/site-packages/keras/layers/convolutional/base_conv.py\", line 354, in compute_output_shape\n",
      "    raise ValueError(\n",
      "ValueError: One of the dimensions in the output is <= 0 due to downsampling in extra_conv_1. Consider increasing the input size. Received input shape [None, 1, 11] which would produce output shape with a zero or negative value in a dimension.\n",
      "[W 2023-06-26 13:05:32,337] Trial 112 failed with value None.\n"
     ]
    },
    {
     "name": "stdout",
     "output_type": "stream",
     "text": [
      "Running little bitch having n_conv=2, dropout=0.936240944789543, hidden_nodes=96\n",
      "Running little bitch having n_conv=2, dropout=0.9717365788048326, hidden_nodes=92\n"
     ]
    },
    {
     "name": "stderr",
     "output_type": "stream",
     "text": [
      "[W 2023-06-26 13:05:32,670] Trial 113 failed with parameters: {'n_conv': 2, 'n_hidden': 1, 'hidden_nodes': 96, 'dropout': 0.936240944789543, 'filters': 11, 'kernel_size': 12, 'batch_size': 17, 'epochs': 9} because of the following error: ValueError('One of the dimensions in the output is <= 0 due to downsampling in extra_conv_1. Consider increasing the input size. Received input shape [None, 1, 11] which would produce output shape with a zero or negative value in a dimension.').\n",
      "Traceback (most recent call last):\n",
      "  File \"/home/djanloo/.local/share/virtualenvs/DM2-PeqFRmfa/lib/python3.10/site-packages/optuna/study/_optimize.py\", line 200, in _run_trial\n",
      "    value_or_values = func(trial)\n",
      "  File \"/tmp/ipykernel_25375/4273198217.py\", line 15, in objective_fun\n",
      "    cnn = build_and_fit_cnn(X=X_train_v,\n",
      "  File \"/tmp/ipykernel_25375/2256047732.py\", line 28, in build_and_fit_cnn\n",
      "    model.add(Conv1D(filters=filters, kernel_size=kernel_size, activation='relu', name=f\"extra_conv_{i}\"))\n",
      "  File \"/home/djanloo/.local/share/virtualenvs/DM2-PeqFRmfa/lib/python3.10/site-packages/tensorflow/python/trackable/base.py\", line 205, in _method_wrapper\n",
      "    result = method(self, *args, **kwargs)\n",
      "  File \"/home/djanloo/.local/share/virtualenvs/DM2-PeqFRmfa/lib/python3.10/site-packages/keras/utils/traceback_utils.py\", line 70, in error_handler\n",
      "    raise e.with_traceback(filtered_tb) from None\n",
      "  File \"/home/djanloo/.local/share/virtualenvs/DM2-PeqFRmfa/lib/python3.10/site-packages/keras/layers/convolutional/base_conv.py\", line 354, in compute_output_shape\n",
      "    raise ValueError(\n",
      "ValueError: One of the dimensions in the output is <= 0 due to downsampling in extra_conv_1. Consider increasing the input size. Received input shape [None, 1, 11] which would produce output shape with a zero or negative value in a dimension.\n",
      "[W 2023-06-26 13:05:32,675] Trial 113 failed with value None.\n",
      "[W 2023-06-26 13:05:32,917] Trial 114 failed with parameters: {'n_conv': 2, 'n_hidden': 1, 'hidden_nodes': 92, 'dropout': 0.9717365788048326, 'filters': 11, 'kernel_size': 11, 'batch_size': 22, 'epochs': 5} because of the following error: ValueError('One of the dimensions in the output is <= 0 due to downsampling in extra_conv_1. Consider increasing the input size. Received input shape [None, 3, 11] which would produce output shape with a zero or negative value in a dimension.').\n",
      "Traceback (most recent call last):\n",
      "  File \"/home/djanloo/.local/share/virtualenvs/DM2-PeqFRmfa/lib/python3.10/site-packages/optuna/study/_optimize.py\", line 200, in _run_trial\n",
      "    value_or_values = func(trial)\n",
      "  File \"/tmp/ipykernel_25375/4273198217.py\", line 15, in objective_fun\n",
      "    cnn = build_and_fit_cnn(X=X_train_v,\n",
      "  File \"/tmp/ipykernel_25375/2256047732.py\", line 28, in build_and_fit_cnn\n",
      "    model.add(Conv1D(filters=filters, kernel_size=kernel_size, activation='relu', name=f\"extra_conv_{i}\"))\n",
      "  File \"/home/djanloo/.local/share/virtualenvs/DM2-PeqFRmfa/lib/python3.10/site-packages/tensorflow/python/trackable/base.py\", line 205, in _method_wrapper\n",
      "    result = method(self, *args, **kwargs)\n",
      "  File \"/home/djanloo/.local/share/virtualenvs/DM2-PeqFRmfa/lib/python3.10/site-packages/keras/utils/traceback_utils.py\", line 70, in error_handler\n",
      "    raise e.with_traceback(filtered_tb) from None\n",
      "  File \"/home/djanloo/.local/share/virtualenvs/DM2-PeqFRmfa/lib/python3.10/site-packages/keras/layers/convolutional/base_conv.py\", line 354, in compute_output_shape\n",
      "    raise ValueError(\n",
      "ValueError: One of the dimensions in the output is <= 0 due to downsampling in extra_conv_1. Consider increasing the input size. Received input shape [None, 3, 11] which would produce output shape with a zero or negative value in a dimension.\n",
      "[W 2023-06-26 13:05:32,930] Trial 114 failed with value None.\n"
     ]
    },
    {
     "name": "stdout",
     "output_type": "stream",
     "text": [
      "Running little bitch having n_conv=2, dropout=0.9201115444684629, hidden_nodes=94\n"
     ]
    },
    {
     "name": "stderr",
     "output_type": "stream",
     "text": [
      "[W 2023-06-26 13:05:33,196] Trial 115 failed with parameters: {'n_conv': 2, 'n_hidden': 1, 'hidden_nodes': 94, 'dropout': 0.9201115444684629, 'filters': 11, 'kernel_size': 12, 'batch_size': 16, 'epochs': 5} because of the following error: ValueError('One of the dimensions in the output is <= 0 due to downsampling in extra_conv_1. Consider increasing the input size. Received input shape [None, 1, 11] which would produce output shape with a zero or negative value in a dimension.').\n",
      "Traceback (most recent call last):\n",
      "  File \"/home/djanloo/.local/share/virtualenvs/DM2-PeqFRmfa/lib/python3.10/site-packages/optuna/study/_optimize.py\", line 200, in _run_trial\n",
      "    value_or_values = func(trial)\n",
      "  File \"/tmp/ipykernel_25375/4273198217.py\", line 15, in objective_fun\n",
      "    cnn = build_and_fit_cnn(X=X_train_v,\n",
      "  File \"/tmp/ipykernel_25375/2256047732.py\", line 28, in build_and_fit_cnn\n",
      "    model.add(Conv1D(filters=filters, kernel_size=kernel_size, activation='relu', name=f\"extra_conv_{i}\"))\n",
      "  File \"/home/djanloo/.local/share/virtualenvs/DM2-PeqFRmfa/lib/python3.10/site-packages/tensorflow/python/trackable/base.py\", line 205, in _method_wrapper\n",
      "    result = method(self, *args, **kwargs)\n",
      "  File \"/home/djanloo/.local/share/virtualenvs/DM2-PeqFRmfa/lib/python3.10/site-packages/keras/utils/traceback_utils.py\", line 70, in error_handler\n",
      "    raise e.with_traceback(filtered_tb) from None\n",
      "  File \"/home/djanloo/.local/share/virtualenvs/DM2-PeqFRmfa/lib/python3.10/site-packages/keras/layers/convolutional/base_conv.py\", line 354, in compute_output_shape\n",
      "    raise ValueError(\n",
      "ValueError: One of the dimensions in the output is <= 0 due to downsampling in extra_conv_1. Consider increasing the input size. Received input shape [None, 1, 11] which would produce output shape with a zero or negative value in a dimension.\n",
      "[W 2023-06-26 13:05:33,201] Trial 115 failed with value None.\n"
     ]
    },
    {
     "name": "stdout",
     "output_type": "stream",
     "text": [
      "Running little bitch having n_conv=2, dropout=0.9940926414480179, hidden_nodes=92\n",
      "Running little bitch having n_conv=2, dropout=0.9947682363208716, hidden_nodes=93\n"
     ]
    },
    {
     "name": "stderr",
     "output_type": "stream",
     "text": [
      "[W 2023-06-26 13:05:33,514] Trial 116 failed with parameters: {'n_conv': 2, 'n_hidden': 1, 'hidden_nodes': 92, 'dropout': 0.9940926414480179, 'filters': 11, 'kernel_size': 12, 'batch_size': 17, 'epochs': 9} because of the following error: ValueError('One of the dimensions in the output is <= 0 due to downsampling in extra_conv_1. Consider increasing the input size. Received input shape [None, 1, 11] which would produce output shape with a zero or negative value in a dimension.').\n",
      "Traceback (most recent call last):\n",
      "  File \"/home/djanloo/.local/share/virtualenvs/DM2-PeqFRmfa/lib/python3.10/site-packages/optuna/study/_optimize.py\", line 200, in _run_trial\n",
      "    value_or_values = func(trial)\n",
      "  File \"/tmp/ipykernel_25375/4273198217.py\", line 15, in objective_fun\n",
      "    cnn = build_and_fit_cnn(X=X_train_v,\n",
      "  File \"/tmp/ipykernel_25375/2256047732.py\", line 28, in build_and_fit_cnn\n",
      "    model.add(Conv1D(filters=filters, kernel_size=kernel_size, activation='relu', name=f\"extra_conv_{i}\"))\n",
      "  File \"/home/djanloo/.local/share/virtualenvs/DM2-PeqFRmfa/lib/python3.10/site-packages/tensorflow/python/trackable/base.py\", line 205, in _method_wrapper\n",
      "    result = method(self, *args, **kwargs)\n",
      "  File \"/home/djanloo/.local/share/virtualenvs/DM2-PeqFRmfa/lib/python3.10/site-packages/keras/utils/traceback_utils.py\", line 70, in error_handler\n",
      "    raise e.with_traceback(filtered_tb) from None\n",
      "  File \"/home/djanloo/.local/share/virtualenvs/DM2-PeqFRmfa/lib/python3.10/site-packages/keras/layers/convolutional/base_conv.py\", line 354, in compute_output_shape\n",
      "    raise ValueError(\n",
      "ValueError: One of the dimensions in the output is <= 0 due to downsampling in extra_conv_1. Consider increasing the input size. Received input shape [None, 1, 11] which would produce output shape with a zero or negative value in a dimension.\n",
      "[W 2023-06-26 13:05:33,526] Trial 116 failed with value None.\n",
      "[W 2023-06-26 13:05:33,725] Trial 117 failed with parameters: {'n_conv': 2, 'n_hidden': 1, 'hidden_nodes': 93, 'dropout': 0.9947682363208716, 'filters': 12, 'kernel_size': 12, 'batch_size': 17, 'epochs': 9} because of the following error: ValueError('One of the dimensions in the output is <= 0 due to downsampling in extra_conv_1. Consider increasing the input size. Received input shape [None, 1, 12] which would produce output shape with a zero or negative value in a dimension.').\n",
      "Traceback (most recent call last):\n",
      "  File \"/home/djanloo/.local/share/virtualenvs/DM2-PeqFRmfa/lib/python3.10/site-packages/optuna/study/_optimize.py\", line 200, in _run_trial\n",
      "    value_or_values = func(trial)\n",
      "  File \"/tmp/ipykernel_25375/4273198217.py\", line 15, in objective_fun\n",
      "    cnn = build_and_fit_cnn(X=X_train_v,\n",
      "  File \"/tmp/ipykernel_25375/2256047732.py\", line 28, in build_and_fit_cnn\n",
      "    model.add(Conv1D(filters=filters, kernel_size=kernel_size, activation='relu', name=f\"extra_conv_{i}\"))\n",
      "  File \"/home/djanloo/.local/share/virtualenvs/DM2-PeqFRmfa/lib/python3.10/site-packages/tensorflow/python/trackable/base.py\", line 205, in _method_wrapper\n",
      "    result = method(self, *args, **kwargs)\n",
      "  File \"/home/djanloo/.local/share/virtualenvs/DM2-PeqFRmfa/lib/python3.10/site-packages/keras/utils/traceback_utils.py\", line 70, in error_handler\n",
      "    raise e.with_traceback(filtered_tb) from None\n",
      "  File \"/home/djanloo/.local/share/virtualenvs/DM2-PeqFRmfa/lib/python3.10/site-packages/keras/layers/convolutional/base_conv.py\", line 354, in compute_output_shape\n",
      "    raise ValueError(\n",
      "ValueError: One of the dimensions in the output is <= 0 due to downsampling in extra_conv_1. Consider increasing the input size. Received input shape [None, 1, 12] which would produce output shape with a zero or negative value in a dimension.\n",
      "[W 2023-06-26 13:05:33,730] Trial 117 failed with value None.\n"
     ]
    },
    {
     "name": "stdout",
     "output_type": "stream",
     "text": [
      "Running little bitch having n_conv=2, dropout=0.9805414325575659, hidden_nodes=79\n",
      "Running little bitch having n_conv=2, dropout=0.7005628682733699, hidden_nodes=86\n"
     ]
    },
    {
     "name": "stderr",
     "output_type": "stream",
     "text": [
      "[W 2023-06-26 13:05:34,085] Trial 118 failed with parameters: {'n_conv': 2, 'n_hidden': 1, 'hidden_nodes': 79, 'dropout': 0.9805414325575659, 'filters': 12, 'kernel_size': 12, 'batch_size': 18, 'epochs': 11} because of the following error: ValueError('One of the dimensions in the output is <= 0 due to downsampling in extra_conv_1. Consider increasing the input size. Received input shape [None, 1, 12] which would produce output shape with a zero or negative value in a dimension.').\n",
      "Traceback (most recent call last):\n",
      "  File \"/home/djanloo/.local/share/virtualenvs/DM2-PeqFRmfa/lib/python3.10/site-packages/optuna/study/_optimize.py\", line 200, in _run_trial\n",
      "    value_or_values = func(trial)\n",
      "  File \"/tmp/ipykernel_25375/4273198217.py\", line 15, in objective_fun\n",
      "    cnn = build_and_fit_cnn(X=X_train_v,\n",
      "  File \"/tmp/ipykernel_25375/2256047732.py\", line 28, in build_and_fit_cnn\n",
      "    model.add(Conv1D(filters=filters, kernel_size=kernel_size, activation='relu', name=f\"extra_conv_{i}\"))\n",
      "  File \"/home/djanloo/.local/share/virtualenvs/DM2-PeqFRmfa/lib/python3.10/site-packages/tensorflow/python/trackable/base.py\", line 205, in _method_wrapper\n",
      "    result = method(self, *args, **kwargs)\n",
      "  File \"/home/djanloo/.local/share/virtualenvs/DM2-PeqFRmfa/lib/python3.10/site-packages/keras/utils/traceback_utils.py\", line 70, in error_handler\n",
      "    raise e.with_traceback(filtered_tb) from None\n",
      "  File \"/home/djanloo/.local/share/virtualenvs/DM2-PeqFRmfa/lib/python3.10/site-packages/keras/layers/convolutional/base_conv.py\", line 354, in compute_output_shape\n",
      "    raise ValueError(\n",
      "ValueError: One of the dimensions in the output is <= 0 due to downsampling in extra_conv_1. Consider increasing the input size. Received input shape [None, 1, 12] which would produce output shape with a zero or negative value in a dimension.\n",
      "[W 2023-06-26 13:05:34,091] Trial 118 failed with value None.\n",
      "[W 2023-06-26 13:05:34,227] Trial 119 failed with parameters: {'n_conv': 2, 'n_hidden': 1, 'hidden_nodes': 86, 'dropout': 0.7005628682733699, 'filters': 11, 'kernel_size': 12, 'batch_size': 17, 'epochs': 10} because of the following error: ValueError('One of the dimensions in the output is <= 0 due to downsampling in extra_conv_1. Consider increasing the input size. Received input shape [None, 1, 11] which would produce output shape with a zero or negative value in a dimension.').\n",
      "Traceback (most recent call last):\n",
      "  File \"/home/djanloo/.local/share/virtualenvs/DM2-PeqFRmfa/lib/python3.10/site-packages/optuna/study/_optimize.py\", line 200, in _run_trial\n",
      "    value_or_values = func(trial)\n",
      "  File \"/tmp/ipykernel_25375/4273198217.py\", line 15, in objective_fun\n",
      "    cnn = build_and_fit_cnn(X=X_train_v,\n",
      "  File \"/tmp/ipykernel_25375/2256047732.py\", line 28, in build_and_fit_cnn\n",
      "    model.add(Conv1D(filters=filters, kernel_size=kernel_size, activation='relu', name=f\"extra_conv_{i}\"))\n",
      "  File \"/home/djanloo/.local/share/virtualenvs/DM2-PeqFRmfa/lib/python3.10/site-packages/tensorflow/python/trackable/base.py\", line 205, in _method_wrapper\n",
      "    result = method(self, *args, **kwargs)\n",
      "  File \"/home/djanloo/.local/share/virtualenvs/DM2-PeqFRmfa/lib/python3.10/site-packages/keras/utils/traceback_utils.py\", line 70, in error_handler\n",
      "    raise e.with_traceback(filtered_tb) from None\n",
      "  File \"/home/djanloo/.local/share/virtualenvs/DM2-PeqFRmfa/lib/python3.10/site-packages/keras/layers/convolutional/base_conv.py\", line 354, in compute_output_shape\n",
      "    raise ValueError(\n",
      "ValueError: One of the dimensions in the output is <= 0 due to downsampling in extra_conv_1. Consider increasing the input size. Received input shape [None, 1, 11] which would produce output shape with a zero or negative value in a dimension.\n",
      "[W 2023-06-26 13:05:34,232] Trial 119 failed with value None.\n"
     ]
    },
    {
     "name": "stdout",
     "output_type": "stream",
     "text": [
      "Running little bitch having n_conv=2, dropout=0.9787808905670284, hidden_nodes=87\n",
      "Running little bitch having n_conv=2, dropout=0.985822947963851, hidden_nodes=90\n"
     ]
    },
    {
     "name": "stderr",
     "output_type": "stream",
     "text": [
      "[W 2023-06-26 13:05:34,641] Trial 120 failed with parameters: {'n_conv': 2, 'n_hidden': 1, 'hidden_nodes': 87, 'dropout': 0.9787808905670284, 'filters': 11, 'kernel_size': 12, 'batch_size': 16, 'epochs': 6} because of the following error: ValueError('One of the dimensions in the output is <= 0 due to downsampling in extra_conv_1. Consider increasing the input size. Received input shape [None, 1, 11] which would produce output shape with a zero or negative value in a dimension.').\n",
      "Traceback (most recent call last):\n",
      "  File \"/home/djanloo/.local/share/virtualenvs/DM2-PeqFRmfa/lib/python3.10/site-packages/optuna/study/_optimize.py\", line 200, in _run_trial\n",
      "    value_or_values = func(trial)\n",
      "  File \"/tmp/ipykernel_25375/4273198217.py\", line 15, in objective_fun\n",
      "    cnn = build_and_fit_cnn(X=X_train_v,\n",
      "  File \"/tmp/ipykernel_25375/2256047732.py\", line 28, in build_and_fit_cnn\n",
      "    model.add(Conv1D(filters=filters, kernel_size=kernel_size, activation='relu', name=f\"extra_conv_{i}\"))\n",
      "  File \"/home/djanloo/.local/share/virtualenvs/DM2-PeqFRmfa/lib/python3.10/site-packages/tensorflow/python/trackable/base.py\", line 205, in _method_wrapper\n",
      "    result = method(self, *args, **kwargs)\n",
      "  File \"/home/djanloo/.local/share/virtualenvs/DM2-PeqFRmfa/lib/python3.10/site-packages/keras/utils/traceback_utils.py\", line 70, in error_handler\n",
      "    raise e.with_traceback(filtered_tb) from None\n",
      "  File \"/home/djanloo/.local/share/virtualenvs/DM2-PeqFRmfa/lib/python3.10/site-packages/keras/layers/convolutional/base_conv.py\", line 354, in compute_output_shape\n",
      "    raise ValueError(\n",
      "ValueError: One of the dimensions in the output is <= 0 due to downsampling in extra_conv_1. Consider increasing the input size. Received input shape [None, 1, 11] which would produce output shape with a zero or negative value in a dimension.\n",
      "[W 2023-06-26 13:05:34,651] Trial 120 failed with value None.\n",
      "[W 2023-06-26 13:05:34,760] Trial 121 failed with parameters: {'n_conv': 2, 'n_hidden': 1, 'hidden_nodes': 90, 'dropout': 0.985822947963851, 'filters': 11, 'kernel_size': 11, 'batch_size': 16, 'epochs': 6} because of the following error: ValueError('One of the dimensions in the output is <= 0 due to downsampling in extra_conv_1. Consider increasing the input size. Received input shape [None, 3, 11] which would produce output shape with a zero or negative value in a dimension.').\n",
      "Traceback (most recent call last):\n",
      "  File \"/home/djanloo/.local/share/virtualenvs/DM2-PeqFRmfa/lib/python3.10/site-packages/optuna/study/_optimize.py\", line 200, in _run_trial\n",
      "    value_or_values = func(trial)\n",
      "  File \"/tmp/ipykernel_25375/4273198217.py\", line 15, in objective_fun\n",
      "    cnn = build_and_fit_cnn(X=X_train_v,\n",
      "  File \"/tmp/ipykernel_25375/2256047732.py\", line 28, in build_and_fit_cnn\n",
      "    model.add(Conv1D(filters=filters, kernel_size=kernel_size, activation='relu', name=f\"extra_conv_{i}\"))\n",
      "  File \"/home/djanloo/.local/share/virtualenvs/DM2-PeqFRmfa/lib/python3.10/site-packages/tensorflow/python/trackable/base.py\", line 205, in _method_wrapper\n",
      "    result = method(self, *args, **kwargs)\n",
      "  File \"/home/djanloo/.local/share/virtualenvs/DM2-PeqFRmfa/lib/python3.10/site-packages/keras/utils/traceback_utils.py\", line 70, in error_handler\n",
      "    raise e.with_traceback(filtered_tb) from None\n",
      "  File \"/home/djanloo/.local/share/virtualenvs/DM2-PeqFRmfa/lib/python3.10/site-packages/keras/layers/convolutional/base_conv.py\", line 354, in compute_output_shape\n",
      "    raise ValueError(\n",
      "ValueError: One of the dimensions in the output is <= 0 due to downsampling in extra_conv_1. Consider increasing the input size. Received input shape [None, 3, 11] which would produce output shape with a zero or negative value in a dimension.\n",
      "[W 2023-06-26 13:05:34,766] Trial 121 failed with value None.\n"
     ]
    },
    {
     "name": "stdout",
     "output_type": "stream",
     "text": [
      "Running little bitch having n_conv=2, dropout=0.9924069203324797, hidden_nodes=89\n",
      "Running little bitch having n_conv=2, dropout=0.9396333671398163, hidden_nodes=94\n"
     ]
    },
    {
     "name": "stderr",
     "output_type": "stream",
     "text": [
      "[W 2023-06-26 13:05:35,190] Trial 122 failed with parameters: {'n_conv': 2, 'n_hidden': 1, 'hidden_nodes': 89, 'dropout': 0.9924069203324797, 'filters': 11, 'kernel_size': 12, 'batch_size': 16, 'epochs': 9} because of the following error: ValueError('One of the dimensions in the output is <= 0 due to downsampling in extra_conv_1. Consider increasing the input size. Received input shape [None, 1, 11] which would produce output shape with a zero or negative value in a dimension.').\n",
      "Traceback (most recent call last):\n",
      "  File \"/home/djanloo/.local/share/virtualenvs/DM2-PeqFRmfa/lib/python3.10/site-packages/optuna/study/_optimize.py\", line 200, in _run_trial\n",
      "    value_or_values = func(trial)\n",
      "  File \"/tmp/ipykernel_25375/4273198217.py\", line 15, in objective_fun\n",
      "    cnn = build_and_fit_cnn(X=X_train_v,\n",
      "  File \"/tmp/ipykernel_25375/2256047732.py\", line 28, in build_and_fit_cnn\n",
      "    model.add(Conv1D(filters=filters, kernel_size=kernel_size, activation='relu', name=f\"extra_conv_{i}\"))\n",
      "  File \"/home/djanloo/.local/share/virtualenvs/DM2-PeqFRmfa/lib/python3.10/site-packages/tensorflow/python/trackable/base.py\", line 205, in _method_wrapper\n",
      "    result = method(self, *args, **kwargs)\n",
      "  File \"/home/djanloo/.local/share/virtualenvs/DM2-PeqFRmfa/lib/python3.10/site-packages/keras/utils/traceback_utils.py\", line 70, in error_handler\n",
      "    raise e.with_traceback(filtered_tb) from None\n",
      "  File \"/home/djanloo/.local/share/virtualenvs/DM2-PeqFRmfa/lib/python3.10/site-packages/keras/layers/convolutional/base_conv.py\", line 354, in compute_output_shape\n",
      "    raise ValueError(\n",
      "ValueError: One of the dimensions in the output is <= 0 due to downsampling in extra_conv_1. Consider increasing the input size. Received input shape [None, 1, 11] which would produce output shape with a zero or negative value in a dimension.\n",
      "[W 2023-06-26 13:05:35,204] Trial 123 failed with parameters: {'n_conv': 2, 'n_hidden': 1, 'hidden_nodes': 94, 'dropout': 0.9396333671398163, 'filters': 11, 'kernel_size': 12, 'batch_size': 16, 'epochs': 5} because of the following error: ValueError('One of the dimensions in the output is <= 0 due to downsampling in extra_conv_1. Consider increasing the input size. Received input shape [None, 1, 11] which would produce output shape with a zero or negative value in a dimension.').\n",
      "Traceback (most recent call last):\n",
      "  File \"/home/djanloo/.local/share/virtualenvs/DM2-PeqFRmfa/lib/python3.10/site-packages/optuna/study/_optimize.py\", line 200, in _run_trial\n",
      "    value_or_values = func(trial)\n",
      "  File \"/tmp/ipykernel_25375/4273198217.py\", line 15, in objective_fun\n",
      "    cnn = build_and_fit_cnn(X=X_train_v,\n",
      "  File \"/tmp/ipykernel_25375/2256047732.py\", line 28, in build_and_fit_cnn\n",
      "    model.add(Conv1D(filters=filters, kernel_size=kernel_size, activation='relu', name=f\"extra_conv_{i}\"))\n",
      "  File \"/home/djanloo/.local/share/virtualenvs/DM2-PeqFRmfa/lib/python3.10/site-packages/tensorflow/python/trackable/base.py\", line 205, in _method_wrapper\n",
      "    result = method(self, *args, **kwargs)\n",
      "  File \"/home/djanloo/.local/share/virtualenvs/DM2-PeqFRmfa/lib/python3.10/site-packages/keras/utils/traceback_utils.py\", line 70, in error_handler\n",
      "    raise e.with_traceback(filtered_tb) from None\n",
      "  File \"/home/djanloo/.local/share/virtualenvs/DM2-PeqFRmfa/lib/python3.10/site-packages/keras/layers/convolutional/base_conv.py\", line 354, in compute_output_shape\n",
      "    raise ValueError(\n",
      "ValueError: One of the dimensions in the output is <= 0 due to downsampling in extra_conv_1. Consider increasing the input size. Received input shape [None, 1, 11] which would produce output shape with a zero or negative value in a dimension.\n",
      "[W 2023-06-26 13:05:35,205] Trial 122 failed with value None.\n",
      "[W 2023-06-26 13:05:35,207] Trial 123 failed with value None.\n"
     ]
    },
    {
     "name": "stdout",
     "output_type": "stream",
     "text": [
      "Running little bitch having n_conv=2, dropout=0.9815187265062149, hidden_nodes=88\n",
      "Running little bitch having n_conv=2, dropout=0.9995144170584701, hidden_nodes=94\n"
     ]
    },
    {
     "name": "stderr",
     "output_type": "stream",
     "text": [
      "[W 2023-06-26 13:05:35,727] Trial 124 failed with parameters: {'n_conv': 2, 'n_hidden': 1, 'hidden_nodes': 88, 'dropout': 0.9815187265062149, 'filters': 11, 'kernel_size': 12, 'batch_size': 16, 'epochs': 10} because of the following error: ValueError('One of the dimensions in the output is <= 0 due to downsampling in extra_conv_1. Consider increasing the input size. Received input shape [None, 1, 11] which would produce output shape with a zero or negative value in a dimension.').\n",
      "Traceback (most recent call last):\n",
      "  File \"/home/djanloo/.local/share/virtualenvs/DM2-PeqFRmfa/lib/python3.10/site-packages/optuna/study/_optimize.py\", line 200, in _run_trial\n",
      "    value_or_values = func(trial)\n",
      "  File \"/tmp/ipykernel_25375/4273198217.py\", line 15, in objective_fun\n",
      "    cnn = build_and_fit_cnn(X=X_train_v,\n",
      "  File \"/tmp/ipykernel_25375/2256047732.py\", line 28, in build_and_fit_cnn\n",
      "    model.add(Conv1D(filters=filters, kernel_size=kernel_size, activation='relu', name=f\"extra_conv_{i}\"))\n",
      "  File \"/home/djanloo/.local/share/virtualenvs/DM2-PeqFRmfa/lib/python3.10/site-packages/tensorflow/python/trackable/base.py\", line 205, in _method_wrapper\n",
      "    result = method(self, *args, **kwargs)\n",
      "  File \"/home/djanloo/.local/share/virtualenvs/DM2-PeqFRmfa/lib/python3.10/site-packages/keras/utils/traceback_utils.py\", line 70, in error_handler\n",
      "    raise e.with_traceback(filtered_tb) from None\n",
      "  File \"/home/djanloo/.local/share/virtualenvs/DM2-PeqFRmfa/lib/python3.10/site-packages/keras/layers/convolutional/base_conv.py\", line 354, in compute_output_shape\n",
      "    raise ValueError(\n",
      "ValueError: One of the dimensions in the output is <= 0 due to downsampling in extra_conv_1. Consider increasing the input size. Received input shape [None, 1, 11] which would produce output shape with a zero or negative value in a dimension.\n",
      "[W 2023-06-26 13:05:35,742] Trial 124 failed with value None.\n",
      "[W 2023-06-26 13:05:35,755] Trial 125 failed with parameters: {'n_conv': 2, 'n_hidden': 1, 'hidden_nodes': 94, 'dropout': 0.9995144170584701, 'filters': 11, 'kernel_size': 12, 'batch_size': 17, 'epochs': 5} because of the following error: ValueError('One of the dimensions in the output is <= 0 due to downsampling in extra_conv_1. Consider increasing the input size. Received input shape [None, 1, 11] which would produce output shape with a zero or negative value in a dimension.').\n",
      "Traceback (most recent call last):\n",
      "  File \"/home/djanloo/.local/share/virtualenvs/DM2-PeqFRmfa/lib/python3.10/site-packages/optuna/study/_optimize.py\", line 200, in _run_trial\n",
      "    value_or_values = func(trial)\n",
      "  File \"/tmp/ipykernel_25375/4273198217.py\", line 15, in objective_fun\n",
      "    cnn = build_and_fit_cnn(X=X_train_v,\n",
      "  File \"/tmp/ipykernel_25375/2256047732.py\", line 28, in build_and_fit_cnn\n",
      "    model.add(Conv1D(filters=filters, kernel_size=kernel_size, activation='relu', name=f\"extra_conv_{i}\"))\n",
      "  File \"/home/djanloo/.local/share/virtualenvs/DM2-PeqFRmfa/lib/python3.10/site-packages/tensorflow/python/trackable/base.py\", line 205, in _method_wrapper\n",
      "    result = method(self, *args, **kwargs)\n",
      "  File \"/home/djanloo/.local/share/virtualenvs/DM2-PeqFRmfa/lib/python3.10/site-packages/keras/utils/traceback_utils.py\", line 70, in error_handler\n",
      "    raise e.with_traceback(filtered_tb) from None\n",
      "  File \"/home/djanloo/.local/share/virtualenvs/DM2-PeqFRmfa/lib/python3.10/site-packages/keras/layers/convolutional/base_conv.py\", line 354, in compute_output_shape\n",
      "    raise ValueError(\n",
      "ValueError: One of the dimensions in the output is <= 0 due to downsampling in extra_conv_1. Consider increasing the input size. Received input shape [None, 1, 11] which would produce output shape with a zero or negative value in a dimension.\n",
      "[W 2023-06-26 13:05:35,827] Trial 125 failed with value None.\n"
     ]
    },
    {
     "name": "stdout",
     "output_type": "stream",
     "text": [
      "Running little bitch having n_conv=2, dropout=0.9546752022947882, hidden_nodes=91\n",
      "Running little bitch having n_conv=2, dropout=0.9932423482209292, hidden_nodes=95\n"
     ]
    },
    {
     "name": "stderr",
     "output_type": "stream",
     "text": [
      "[W 2023-06-26 13:05:36,274] Trial 127 failed with parameters: {'n_conv': 2, 'n_hidden': 1, 'hidden_nodes': 95, 'dropout': 0.9932423482209292, 'filters': 11, 'kernel_size': 12, 'batch_size': 16, 'epochs': 7} because of the following error: ValueError('One of the dimensions in the output is <= 0 due to downsampling in extra_conv_1. Consider increasing the input size. Received input shape [None, 1, 11] which would produce output shape with a zero or negative value in a dimension.').\n",
      "Traceback (most recent call last):\n",
      "  File \"/home/djanloo/.local/share/virtualenvs/DM2-PeqFRmfa/lib/python3.10/site-packages/optuna/study/_optimize.py\", line 200, in _run_trial\n",
      "    value_or_values = func(trial)\n",
      "  File \"/tmp/ipykernel_25375/4273198217.py\", line 15, in objective_fun\n",
      "    cnn = build_and_fit_cnn(X=X_train_v,\n",
      "  File \"/tmp/ipykernel_25375/2256047732.py\", line 28, in build_and_fit_cnn\n",
      "    model.add(Conv1D(filters=filters, kernel_size=kernel_size, activation='relu', name=f\"extra_conv_{i}\"))\n",
      "  File \"/home/djanloo/.local/share/virtualenvs/DM2-PeqFRmfa/lib/python3.10/site-packages/tensorflow/python/trackable/base.py\", line 205, in _method_wrapper\n",
      "    result = method(self, *args, **kwargs)\n",
      "  File \"/home/djanloo/.local/share/virtualenvs/DM2-PeqFRmfa/lib/python3.10/site-packages/keras/utils/traceback_utils.py\", line 70, in error_handler\n",
      "    raise e.with_traceback(filtered_tb) from None\n",
      "  File \"/home/djanloo/.local/share/virtualenvs/DM2-PeqFRmfa/lib/python3.10/site-packages/keras/layers/convolutional/base_conv.py\", line 354, in compute_output_shape\n",
      "    raise ValueError(\n",
      "ValueError: One of the dimensions in the output is <= 0 due to downsampling in extra_conv_1. Consider increasing the input size. Received input shape [None, 1, 11] which would produce output shape with a zero or negative value in a dimension.\n",
      "[W 2023-06-26 13:05:36,280] Trial 127 failed with value None.\n",
      "[W 2023-06-26 13:05:36,338] Trial 126 failed with parameters: {'n_conv': 2, 'n_hidden': 1, 'hidden_nodes': 91, 'dropout': 0.9546752022947882, 'filters': 11, 'kernel_size': 12, 'batch_size': 19, 'epochs': 6} because of the following error: ValueError('One of the dimensions in the output is <= 0 due to downsampling in extra_conv_1. Consider increasing the input size. Received input shape [None, 1, 11] which would produce output shape with a zero or negative value in a dimension.').\n",
      "Traceback (most recent call last):\n",
      "  File \"/home/djanloo/.local/share/virtualenvs/DM2-PeqFRmfa/lib/python3.10/site-packages/optuna/study/_optimize.py\", line 200, in _run_trial\n",
      "    value_or_values = func(trial)\n",
      "  File \"/tmp/ipykernel_25375/4273198217.py\", line 15, in objective_fun\n",
      "    cnn = build_and_fit_cnn(X=X_train_v,\n",
      "  File \"/tmp/ipykernel_25375/2256047732.py\", line 28, in build_and_fit_cnn\n",
      "    model.add(Conv1D(filters=filters, kernel_size=kernel_size, activation='relu', name=f\"extra_conv_{i}\"))\n",
      "  File \"/home/djanloo/.local/share/virtualenvs/DM2-PeqFRmfa/lib/python3.10/site-packages/tensorflow/python/trackable/base.py\", line 205, in _method_wrapper\n",
      "    result = method(self, *args, **kwargs)\n",
      "  File \"/home/djanloo/.local/share/virtualenvs/DM2-PeqFRmfa/lib/python3.10/site-packages/keras/utils/traceback_utils.py\", line 70, in error_handler\n",
      "    raise e.with_traceback(filtered_tb) from None\n",
      "  File \"/home/djanloo/.local/share/virtualenvs/DM2-PeqFRmfa/lib/python3.10/site-packages/keras/layers/convolutional/base_conv.py\", line 354, in compute_output_shape\n",
      "    raise ValueError(\n",
      "ValueError: One of the dimensions in the output is <= 0 due to downsampling in extra_conv_1. Consider increasing the input size. Received input shape [None, 1, 11] which would produce output shape with a zero or negative value in a dimension.\n",
      "[W 2023-06-26 13:05:36,401] Trial 126 failed with value None.\n"
     ]
    },
    {
     "name": "stdout",
     "output_type": "stream",
     "text": [
      "Running little bitch having n_conv=2, dropout=0.9620171552124221, hidden_nodes=88\n",
      "Running little bitch having n_conv=2, dropout=0.9943510338233774, hidden_nodes=90\n"
     ]
    },
    {
     "name": "stderr",
     "output_type": "stream",
     "text": [
      "[W 2023-06-26 13:05:36,817] Trial 129 failed with parameters: {'n_conv': 2, 'n_hidden': 1, 'hidden_nodes': 90, 'dropout': 0.9943510338233774, 'filters': 11, 'kernel_size': 12, 'batch_size': 16, 'epochs': 8} because of the following error: ValueError('One of the dimensions in the output is <= 0 due to downsampling in extra_conv_1. Consider increasing the input size. Received input shape [None, 1, 11] which would produce output shape with a zero or negative value in a dimension.').\n",
      "Traceback (most recent call last):\n",
      "  File \"/home/djanloo/.local/share/virtualenvs/DM2-PeqFRmfa/lib/python3.10/site-packages/optuna/study/_optimize.py\", line 200, in _run_trial\n",
      "    value_or_values = func(trial)\n",
      "  File \"/tmp/ipykernel_25375/4273198217.py\", line 15, in objective_fun\n",
      "    cnn = build_and_fit_cnn(X=X_train_v,\n",
      "  File \"/tmp/ipykernel_25375/2256047732.py\", line 28, in build_and_fit_cnn\n",
      "    model.add(Conv1D(filters=filters, kernel_size=kernel_size, activation='relu', name=f\"extra_conv_{i}\"))\n",
      "  File \"/home/djanloo/.local/share/virtualenvs/DM2-PeqFRmfa/lib/python3.10/site-packages/tensorflow/python/trackable/base.py\", line 205, in _method_wrapper\n",
      "    result = method(self, *args, **kwargs)\n",
      "  File \"/home/djanloo/.local/share/virtualenvs/DM2-PeqFRmfa/lib/python3.10/site-packages/keras/utils/traceback_utils.py\", line 70, in error_handler\n",
      "    raise e.with_traceback(filtered_tb) from None\n",
      "  File \"/home/djanloo/.local/share/virtualenvs/DM2-PeqFRmfa/lib/python3.10/site-packages/keras/layers/convolutional/base_conv.py\", line 354, in compute_output_shape\n",
      "    raise ValueError(\n",
      "ValueError: One of the dimensions in the output is <= 0 due to downsampling in extra_conv_1. Consider increasing the input size. Received input shape [None, 1, 11] which would produce output shape with a zero or negative value in a dimension.\n",
      "[W 2023-06-26 13:05:36,822] Trial 129 failed with value None.\n",
      "[W 2023-06-26 13:05:36,865] Trial 128 failed with parameters: {'n_conv': 2, 'n_hidden': 1, 'hidden_nodes': 88, 'dropout': 0.9620171552124221, 'filters': 12, 'kernel_size': 12, 'batch_size': 18, 'epochs': 10} because of the following error: ValueError('One of the dimensions in the output is <= 0 due to downsampling in extra_conv_1. Consider increasing the input size. Received input shape [None, 1, 12] which would produce output shape with a zero or negative value in a dimension.').\n",
      "Traceback (most recent call last):\n",
      "  File \"/home/djanloo/.local/share/virtualenvs/DM2-PeqFRmfa/lib/python3.10/site-packages/optuna/study/_optimize.py\", line 200, in _run_trial\n",
      "    value_or_values = func(trial)\n",
      "  File \"/tmp/ipykernel_25375/4273198217.py\", line 15, in objective_fun\n",
      "    cnn = build_and_fit_cnn(X=X_train_v,\n",
      "  File \"/tmp/ipykernel_25375/2256047732.py\", line 28, in build_and_fit_cnn\n",
      "    model.add(Conv1D(filters=filters, kernel_size=kernel_size, activation='relu', name=f\"extra_conv_{i}\"))\n",
      "  File \"/home/djanloo/.local/share/virtualenvs/DM2-PeqFRmfa/lib/python3.10/site-packages/tensorflow/python/trackable/base.py\", line 205, in _method_wrapper\n",
      "    result = method(self, *args, **kwargs)\n",
      "  File \"/home/djanloo/.local/share/virtualenvs/DM2-PeqFRmfa/lib/python3.10/site-packages/keras/utils/traceback_utils.py\", line 70, in error_handler\n",
      "    raise e.with_traceback(filtered_tb) from None\n",
      "  File \"/home/djanloo/.local/share/virtualenvs/DM2-PeqFRmfa/lib/python3.10/site-packages/keras/layers/convolutional/base_conv.py\", line 354, in compute_output_shape\n",
      "    raise ValueError(\n",
      "ValueError: One of the dimensions in the output is <= 0 due to downsampling in extra_conv_1. Consider increasing the input size. Received input shape [None, 1, 12] which would produce output shape with a zero or negative value in a dimension.\n",
      "[W 2023-06-26 13:05:36,925] Trial 128 failed with value None.\n"
     ]
    },
    {
     "name": "stdout",
     "output_type": "stream",
     "text": [
      "Running little bitch having n_conv=2, dropout=0.9850034538170667, hidden_nodes=88\n",
      "Running little bitch having n_conv=2, dropout=0.9842465572358963, hidden_nodes=93\n"
     ]
    },
    {
     "name": "stderr",
     "output_type": "stream",
     "text": [
      "[W 2023-06-26 13:05:37,514] Trial 131 failed with parameters: {'n_conv': 2, 'n_hidden': 1, 'hidden_nodes': 93, 'dropout': 0.9842465572358963, 'filters': 11, 'kernel_size': 12, 'batch_size': 16, 'epochs': 86} because of the following error: ValueError('One of the dimensions in the output is <= 0 due to downsampling in extra_conv_1. Consider increasing the input size. Received input shape [None, 1, 11] which would produce output shape with a zero or negative value in a dimension.').\n",
      "Traceback (most recent call last):\n",
      "  File \"/home/djanloo/.local/share/virtualenvs/DM2-PeqFRmfa/lib/python3.10/site-packages/optuna/study/_optimize.py\", line 200, in _run_trial\n",
      "    value_or_values = func(trial)\n",
      "  File \"/tmp/ipykernel_25375/4273198217.py\", line 15, in objective_fun\n",
      "    cnn = build_and_fit_cnn(X=X_train_v,\n",
      "  File \"/tmp/ipykernel_25375/2256047732.py\", line 28, in build_and_fit_cnn\n",
      "    model.add(Conv1D(filters=filters, kernel_size=kernel_size, activation='relu', name=f\"extra_conv_{i}\"))\n",
      "  File \"/home/djanloo/.local/share/virtualenvs/DM2-PeqFRmfa/lib/python3.10/site-packages/tensorflow/python/trackable/base.py\", line 205, in _method_wrapper\n",
      "    result = method(self, *args, **kwargs)\n",
      "  File \"/home/djanloo/.local/share/virtualenvs/DM2-PeqFRmfa/lib/python3.10/site-packages/keras/utils/traceback_utils.py\", line 70, in error_handler\n",
      "    raise e.with_traceback(filtered_tb) from None\n",
      "  File \"/home/djanloo/.local/share/virtualenvs/DM2-PeqFRmfa/lib/python3.10/site-packages/keras/layers/convolutional/base_conv.py\", line 354, in compute_output_shape\n",
      "    raise ValueError(\n",
      "ValueError: One of the dimensions in the output is <= 0 due to downsampling in extra_conv_1. Consider increasing the input size. Received input shape [None, 1, 11] which would produce output shape with a zero or negative value in a dimension.\n",
      "[W 2023-06-26 13:05:37,526] Trial 131 failed with value None.\n",
      "[W 2023-06-26 13:05:37,641] Trial 130 failed with parameters: {'n_conv': 2, 'n_hidden': 1, 'hidden_nodes': 88, 'dropout': 0.9850034538170667, 'filters': 11, 'kernel_size': 12, 'batch_size': 16, 'epochs': 7} because of the following error: ValueError('One of the dimensions in the output is <= 0 due to downsampling in extra_conv_1. Consider increasing the input size. Received input shape [None, 1, 11] which would produce output shape with a zero or negative value in a dimension.').\n",
      "Traceback (most recent call last):\n",
      "  File \"/home/djanloo/.local/share/virtualenvs/DM2-PeqFRmfa/lib/python3.10/site-packages/optuna/study/_optimize.py\", line 200, in _run_trial\n",
      "    value_or_values = func(trial)\n",
      "  File \"/tmp/ipykernel_25375/4273198217.py\", line 15, in objective_fun\n",
      "    cnn = build_and_fit_cnn(X=X_train_v,\n",
      "  File \"/tmp/ipykernel_25375/2256047732.py\", line 28, in build_and_fit_cnn\n",
      "    model.add(Conv1D(filters=filters, kernel_size=kernel_size, activation='relu', name=f\"extra_conv_{i}\"))\n",
      "  File \"/home/djanloo/.local/share/virtualenvs/DM2-PeqFRmfa/lib/python3.10/site-packages/tensorflow/python/trackable/base.py\", line 205, in _method_wrapper\n",
      "    result = method(self, *args, **kwargs)\n",
      "  File \"/home/djanloo/.local/share/virtualenvs/DM2-PeqFRmfa/lib/python3.10/site-packages/keras/utils/traceback_utils.py\", line 70, in error_handler\n",
      "    raise e.with_traceback(filtered_tb) from None\n",
      "  File \"/home/djanloo/.local/share/virtualenvs/DM2-PeqFRmfa/lib/python3.10/site-packages/keras/layers/convolutional/base_conv.py\", line 354, in compute_output_shape\n",
      "    raise ValueError(\n",
      "ValueError: One of the dimensions in the output is <= 0 due to downsampling in extra_conv_1. Consider increasing the input size. Received input shape [None, 1, 11] which would produce output shape with a zero or negative value in a dimension.\n",
      "[W 2023-06-26 13:05:37,662] Trial 130 failed with value None.\n"
     ]
    },
    {
     "name": "stdout",
     "output_type": "stream",
     "text": [
      "Running little bitch having n_conv=2, dropout=0.991696647065198, hidden_nodes=92\n",
      "Running little bitch having n_conv=2, dropout=0.9982061524730151, hidden_nodes=80\n",
      " 1/12 [=>............................] - ETA: 12s"
     ]
    },
    {
     "name": "stderr",
     "output_type": "stream",
     "text": [
      "[W 2023-06-26 13:05:38,148] Trial 132 failed with parameters: {'n_conv': 2, 'n_hidden': 1, 'hidden_nodes': 92, 'dropout': 0.991696647065198, 'filters': 11, 'kernel_size': 12, 'batch_size': 16, 'epochs': 5} because of the following error: ValueError('One of the dimensions in the output is <= 0 due to downsampling in extra_conv_1. Consider increasing the input size. Received input shape [None, 1, 11] which would produce output shape with a zero or negative value in a dimension.').\n",
      "Traceback (most recent call last):\n",
      "  File \"/home/djanloo/.local/share/virtualenvs/DM2-PeqFRmfa/lib/python3.10/site-packages/optuna/study/_optimize.py\", line 200, in _run_trial\n",
      "    value_or_values = func(trial)\n",
      "  File \"/tmp/ipykernel_25375/4273198217.py\", line 15, in objective_fun\n",
      "    cnn = build_and_fit_cnn(X=X_train_v,\n",
      "  File \"/tmp/ipykernel_25375/2256047732.py\", line 28, in build_and_fit_cnn\n",
      "    model.add(Conv1D(filters=filters, kernel_size=kernel_size, activation='relu', name=f\"extra_conv_{i}\"))\n",
      "  File \"/home/djanloo/.local/share/virtualenvs/DM2-PeqFRmfa/lib/python3.10/site-packages/tensorflow/python/trackable/base.py\", line 205, in _method_wrapper\n",
      "    result = method(self, *args, **kwargs)\n",
      "  File \"/home/djanloo/.local/share/virtualenvs/DM2-PeqFRmfa/lib/python3.10/site-packages/keras/utils/traceback_utils.py\", line 70, in error_handler\n",
      "    raise e.with_traceback(filtered_tb) from None\n",
      "  File \"/home/djanloo/.local/share/virtualenvs/DM2-PeqFRmfa/lib/python3.10/site-packages/keras/layers/convolutional/base_conv.py\", line 354, in compute_output_shape\n",
      "    raise ValueError(\n",
      "ValueError: One of the dimensions in the output is <= 0 due to downsampling in extra_conv_1. Consider increasing the input size. Received input shape [None, 1, 11] which would produce output shape with a zero or negative value in a dimension.\n",
      "[W 2023-06-26 13:05:38,168] Trial 132 failed with value None.\n"
     ]
    },
    {
     "name": "stdout",
     "output_type": "stream",
     "text": [
      "\b\b\b\b\b\b\b\b\b\b\b\b\b\b\b\b\b\b\b\b\b\b\b\b\b\b\b\b\b\b\b\b\b\b\b\b\b\b\b\b\b\b\b\b\b\b\b\b\b\r",
      " 8/12 [===================>..........] - ETA: 0s "
     ]
    },
    {
     "name": "stderr",
     "output_type": "stream",
     "text": [
      "[W 2023-06-26 13:05:38,185] Trial 133 failed with parameters: {'n_conv': 2, 'n_hidden': 1, 'hidden_nodes': 80, 'dropout': 0.9982061524730151, 'filters': 11, 'kernel_size': 12, 'batch_size': 16, 'epochs': 6} because of the following error: ValueError('One of the dimensions in the output is <= 0 due to downsampling in extra_conv_1. Consider increasing the input size. Received input shape [None, 1, 11] which would produce output shape with a zero or negative value in a dimension.').\n",
      "Traceback (most recent call last):\n",
      "  File \"/home/djanloo/.local/share/virtualenvs/DM2-PeqFRmfa/lib/python3.10/site-packages/optuna/study/_optimize.py\", line 200, in _run_trial\n",
      "    value_or_values = func(trial)\n",
      "  File \"/tmp/ipykernel_25375/4273198217.py\", line 15, in objective_fun\n",
      "    cnn = build_and_fit_cnn(X=X_train_v,\n",
      "  File \"/tmp/ipykernel_25375/2256047732.py\", line 28, in build_and_fit_cnn\n",
      "    model.add(Conv1D(filters=filters, kernel_size=kernel_size, activation='relu', name=f\"extra_conv_{i}\"))\n",
      "  File \"/home/djanloo/.local/share/virtualenvs/DM2-PeqFRmfa/lib/python3.10/site-packages/tensorflow/python/trackable/base.py\", line 205, in _method_wrapper\n",
      "    result = method(self, *args, **kwargs)\n",
      "  File \"/home/djanloo/.local/share/virtualenvs/DM2-PeqFRmfa/lib/python3.10/site-packages/keras/utils/traceback_utils.py\", line 70, in error_handler\n",
      "    raise e.with_traceback(filtered_tb) from None\n",
      "  File \"/home/djanloo/.local/share/virtualenvs/DM2-PeqFRmfa/lib/python3.10/site-packages/keras/layers/convolutional/base_conv.py\", line 354, in compute_output_shape\n",
      "    raise ValueError(\n",
      "ValueError: One of the dimensions in the output is <= 0 due to downsampling in extra_conv_1. Consider increasing the input size. Received input shape [None, 1, 11] which would produce output shape with a zero or negative value in a dimension.\n",
      "[W 2023-06-26 13:05:38,231] Trial 133 failed with value None.\n"
     ]
    },
    {
     "name": "stdout",
     "output_type": "stream",
     "text": [
      "11/12 [==========================>...] - ETA: 0sRunning little bitch having n_conv=2, dropout=0.9910926822559504, hidden_nodes=89\n",
      "12/12 [==============================] - 1s 23ms/step\n",
      "Running little bitch having n_conv=2, dropout=0.9906161281843573, hidden_nodes=91\n",
      "12/12 [==============================] - 1s 8ms/step\n"
     ]
    },
    {
     "name": "stderr",
     "output_type": "stream",
     "text": [
      "[W 2023-06-26 13:05:38,719] Trial 135 failed with parameters: {'n_conv': 2, 'n_hidden': 1, 'hidden_nodes': 91, 'dropout': 0.9906161281843573, 'filters': 11, 'kernel_size': 12, 'batch_size': 17, 'epochs': 7} because of the following error: ValueError('One of the dimensions in the output is <= 0 due to downsampling in extra_conv_1. Consider increasing the input size. Received input shape [None, 1, 11] which would produce output shape with a zero or negative value in a dimension.').\n",
      "Traceback (most recent call last):\n",
      "  File \"/home/djanloo/.local/share/virtualenvs/DM2-PeqFRmfa/lib/python3.10/site-packages/optuna/study/_optimize.py\", line 200, in _run_trial\n",
      "    value_or_values = func(trial)\n",
      "  File \"/tmp/ipykernel_25375/4273198217.py\", line 15, in objective_fun\n",
      "    cnn = build_and_fit_cnn(X=X_train_v,\n",
      "  File \"/tmp/ipykernel_25375/2256047732.py\", line 28, in build_and_fit_cnn\n",
      "    model.add(Conv1D(filters=filters, kernel_size=kernel_size, activation='relu', name=f\"extra_conv_{i}\"))\n",
      "  File \"/home/djanloo/.local/share/virtualenvs/DM2-PeqFRmfa/lib/python3.10/site-packages/tensorflow/python/trackable/base.py\", line 205, in _method_wrapper\n",
      "    result = method(self, *args, **kwargs)\n",
      "  File \"/home/djanloo/.local/share/virtualenvs/DM2-PeqFRmfa/lib/python3.10/site-packages/keras/utils/traceback_utils.py\", line 70, in error_handler\n",
      "    raise e.with_traceback(filtered_tb) from None\n",
      "  File \"/home/djanloo/.local/share/virtualenvs/DM2-PeqFRmfa/lib/python3.10/site-packages/keras/layers/convolutional/base_conv.py\", line 354, in compute_output_shape\n",
      "    raise ValueError(\n",
      "ValueError: One of the dimensions in the output is <= 0 due to downsampling in extra_conv_1. Consider increasing the input size. Received input shape [None, 1, 11] which would produce output shape with a zero or negative value in a dimension.\n",
      "[W 2023-06-26 13:05:38,722] Trial 135 failed with value None.\n",
      "[W 2023-06-26 13:05:38,783] Trial 134 failed with parameters: {'n_conv': 2, 'n_hidden': 1, 'hidden_nodes': 89, 'dropout': 0.9910926822559504, 'filters': 12, 'kernel_size': 12, 'batch_size': 16, 'epochs': 9} because of the following error: ValueError('One of the dimensions in the output is <= 0 due to downsampling in extra_conv_1. Consider increasing the input size. Received input shape [None, 1, 12] which would produce output shape with a zero or negative value in a dimension.').\n",
      "Traceback (most recent call last):\n",
      "  File \"/home/djanloo/.local/share/virtualenvs/DM2-PeqFRmfa/lib/python3.10/site-packages/optuna/study/_optimize.py\", line 200, in _run_trial\n",
      "    value_or_values = func(trial)\n",
      "  File \"/tmp/ipykernel_25375/4273198217.py\", line 15, in objective_fun\n",
      "    cnn = build_and_fit_cnn(X=X_train_v,\n",
      "  File \"/tmp/ipykernel_25375/2256047732.py\", line 28, in build_and_fit_cnn\n",
      "    model.add(Conv1D(filters=filters, kernel_size=kernel_size, activation='relu', name=f\"extra_conv_{i}\"))\n",
      "  File \"/home/djanloo/.local/share/virtualenvs/DM2-PeqFRmfa/lib/python3.10/site-packages/tensorflow/python/trackable/base.py\", line 205, in _method_wrapper\n",
      "    result = method(self, *args, **kwargs)\n",
      "  File \"/home/djanloo/.local/share/virtualenvs/DM2-PeqFRmfa/lib/python3.10/site-packages/keras/utils/traceback_utils.py\", line 70, in error_handler\n",
      "    raise e.with_traceback(filtered_tb) from None\n",
      "  File \"/home/djanloo/.local/share/virtualenvs/DM2-PeqFRmfa/lib/python3.10/site-packages/keras/layers/convolutional/base_conv.py\", line 354, in compute_output_shape\n",
      "    raise ValueError(\n",
      "ValueError: One of the dimensions in the output is <= 0 due to downsampling in extra_conv_1. Consider increasing the input size. Received input shape [None, 1, 12] which would produce output shape with a zero or negative value in a dimension.\n",
      "[I 2023-06-26 13:05:38,821] Trial 20 finished with value: 0.9672131147540983 and parameters: {'n_conv': 2, 'n_hidden': 2, 'hidden_nodes': 14, 'dropout': 0.10845745156615938, 'filters': 6, 'kernel_size': 2, 'batch_size': 27, 'epochs': 87}. Best is trial 16 with value: 0.9890710382513661.\n",
      "[W 2023-06-26 13:05:38,834] Trial 134 failed with value None.\n"
     ]
    },
    {
     "name": "stdout",
     "output_type": "stream",
     "text": [
      "Running little bitch having n_conv=2, dropout=0.9220593271651681, hidden_nodes=90\n",
      "Running little bitch having n_conv=0, dropout=0.940445817654923, hidden_nodes=85\n"
     ]
    },
    {
     "name": "stderr",
     "output_type": "stream",
     "text": [
      "[I 2023-06-26 13:05:39,065] Trial 21 finished with value: 0.9098360655737705 and parameters: {'n_conv': 3, 'n_hidden': 0, 'hidden_nodes': 124, 'dropout': 0.646859298330417, 'filters': 11, 'kernel_size': 6, 'batch_size': 17, 'epochs': 27}. Best is trial 16 with value: 0.9890710382513661.\n"
     ]
    },
    {
     "name": "stdout",
     "output_type": "stream",
     "text": [
      "Running little bitch having n_conv=0, dropout=0.9690648285311831, hidden_nodes=91\n",
      "Running little bitch having n_conv=0, dropout=0.9877135267239981, hidden_nodes=83\n"
     ]
    },
    {
     "name": "stderr",
     "output_type": "stream",
     "text": [
      "[W 2023-06-26 13:05:39,631] Trial 136 failed with parameters: {'n_conv': 2, 'n_hidden': 1, 'hidden_nodes': 90, 'dropout': 0.9220593271651681, 'filters': 11, 'kernel_size': 12, 'batch_size': 16, 'epochs': 90} because of the following error: ValueError('One of the dimensions in the output is <= 0 due to downsampling in extra_conv_1. Consider increasing the input size. Received input shape [None, 1, 11] which would produce output shape with a zero or negative value in a dimension.').\n",
      "Traceback (most recent call last):\n",
      "  File \"/home/djanloo/.local/share/virtualenvs/DM2-PeqFRmfa/lib/python3.10/site-packages/optuna/study/_optimize.py\", line 200, in _run_trial\n",
      "    value_or_values = func(trial)\n",
      "  File \"/tmp/ipykernel_25375/4273198217.py\", line 15, in objective_fun\n",
      "    cnn = build_and_fit_cnn(X=X_train_v,\n",
      "  File \"/tmp/ipykernel_25375/2256047732.py\", line 28, in build_and_fit_cnn\n",
      "    model.add(Conv1D(filters=filters, kernel_size=kernel_size, activation='relu', name=f\"extra_conv_{i}\"))\n",
      "  File \"/home/djanloo/.local/share/virtualenvs/DM2-PeqFRmfa/lib/python3.10/site-packages/tensorflow/python/trackable/base.py\", line 205, in _method_wrapper\n",
      "    result = method(self, *args, **kwargs)\n",
      "  File \"/home/djanloo/.local/share/virtualenvs/DM2-PeqFRmfa/lib/python3.10/site-packages/keras/utils/traceback_utils.py\", line 70, in error_handler\n",
      "    raise e.with_traceback(filtered_tb) from None\n",
      "  File \"/home/djanloo/.local/share/virtualenvs/DM2-PeqFRmfa/lib/python3.10/site-packages/keras/layers/convolutional/base_conv.py\", line 354, in compute_output_shape\n",
      "    raise ValueError(\n",
      "ValueError: One of the dimensions in the output is <= 0 due to downsampling in extra_conv_1. Consider increasing the input size. Received input shape [None, 1, 11] which would produce output shape with a zero or negative value in a dimension.\n",
      "[W 2023-06-26 13:05:39,640] Trial 136 failed with value None.\n"
     ]
    },
    {
     "name": "stdout",
     "output_type": "stream",
     "text": [
      "Running little bitch having n_conv=0, dropout=0.9308796808170554, hidden_nodes=89\n",
      "12/12 [==============================] - 0s 7ms/step\n"
     ]
    },
    {
     "name": "stderr",
     "output_type": "stream",
     "text": [
      "[I 2023-06-26 13:05:51,466] Trial 139 finished with value: 0.9754098360655737 and parameters: {'n_conv': 0, 'n_hidden': 1, 'hidden_nodes': 83, 'dropout': 0.9877135267239981, 'filters': 10, 'kernel_size': 12, 'batch_size': 16, 'epochs': 5}. Best is trial 16 with value: 0.9890710382513661.\n"
     ]
    },
    {
     "name": "stdout",
     "output_type": "stream",
     "text": [
      "Running little bitch having n_conv=2, dropout=0.693435736363669, hidden_nodes=255\n",
      " 1/12 [=>............................] - ETA: 4s"
     ]
    },
    {
     "name": "stderr",
     "output_type": "stream",
     "text": [
      "[W 2023-06-26 13:05:51,987] Trial 141 failed with parameters: {'n_conv': 2, 'n_hidden': 1, 'hidden_nodes': 255, 'dropout': 0.693435736363669, 'filters': 12, 'kernel_size': 12, 'batch_size': 24, 'epochs': 5} because of the following error: ValueError('One of the dimensions in the output is <= 0 due to downsampling in extra_conv_1. Consider increasing the input size. Received input shape [None, 1, 12] which would produce output shape with a zero or negative value in a dimension.').\n",
      "Traceback (most recent call last):\n",
      "  File \"/home/djanloo/.local/share/virtualenvs/DM2-PeqFRmfa/lib/python3.10/site-packages/optuna/study/_optimize.py\", line 200, in _run_trial\n",
      "    value_or_values = func(trial)\n",
      "  File \"/tmp/ipykernel_25375/4273198217.py\", line 15, in objective_fun\n",
      "    cnn = build_and_fit_cnn(X=X_train_v,\n",
      "  File \"/tmp/ipykernel_25375/2256047732.py\", line 28, in build_and_fit_cnn\n",
      "    model.add(Conv1D(filters=filters, kernel_size=kernel_size, activation='relu', name=f\"extra_conv_{i}\"))\n",
      "  File \"/home/djanloo/.local/share/virtualenvs/DM2-PeqFRmfa/lib/python3.10/site-packages/tensorflow/python/trackable/base.py\", line 205, in _method_wrapper\n",
      "    result = method(self, *args, **kwargs)\n",
      "  File \"/home/djanloo/.local/share/virtualenvs/DM2-PeqFRmfa/lib/python3.10/site-packages/keras/utils/traceback_utils.py\", line 70, in error_handler\n",
      "    raise e.with_traceback(filtered_tb) from None\n",
      "  File \"/home/djanloo/.local/share/virtualenvs/DM2-PeqFRmfa/lib/python3.10/site-packages/keras/layers/convolutional/base_conv.py\", line 354, in compute_output_shape\n",
      "    raise ValueError(\n",
      "ValueError: One of the dimensions in the output is <= 0 due to downsampling in extra_conv_1. Consider increasing the input size. Received input shape [None, 1, 12] which would produce output shape with a zero or negative value in a dimension.\n",
      "[W 2023-06-26 13:05:52,001] Trial 141 failed with value None.\n"
     ]
    },
    {
     "name": "stdout",
     "output_type": "stream",
     "text": [
      " 8/12 [===================>..........] - ETA: 0sRunning little bitch having n_conv=2, dropout=0.6955388385575803, hidden_nodes=1\n",
      "12/12 [==============================] - 1s 16ms/step\n"
     ]
    },
    {
     "name": "stderr",
     "output_type": "stream",
     "text": [
      "[I 2023-06-26 13:05:52,282] Trial 137 finished with value: 0.9781420765027322 and parameters: {'n_conv': 0, 'n_hidden': 1, 'hidden_nodes': 85, 'dropout': 0.940445817654923, 'filters': 11, 'kernel_size': 12, 'batch_size': 17, 'epochs': 7}. Best is trial 16 with value: 0.9890710382513661.\n"
     ]
    },
    {
     "name": "stdout",
     "output_type": "stream",
     "text": [
      "Running little bitch having n_conv=2, dropout=0.7364132794401232, hidden_nodes=250\n"
     ]
    },
    {
     "name": "stderr",
     "output_type": "stream",
     "text": [
      "[W 2023-06-26 13:05:52,627] Trial 142 failed with parameters: {'n_conv': 2, 'n_hidden': 1, 'hidden_nodes': 191, 'dropout': 0.6955388385575803, 'filters': 12, 'kernel_size': 12, 'batch_size': 24, 'epochs': 44} because of the following error: ValueError('One of the dimensions in the output is <= 0 due to downsampling in extra_conv_1. Consider increasing the input size. Received input shape [None, 1, 12] which would produce output shape with a zero or negative value in a dimension.').\n",
      "Traceback (most recent call last):\n",
      "  File \"/home/djanloo/.local/share/virtualenvs/DM2-PeqFRmfa/lib/python3.10/site-packages/optuna/study/_optimize.py\", line 200, in _run_trial\n",
      "    value_or_values = func(trial)\n",
      "  File \"/tmp/ipykernel_25375/4273198217.py\", line 15, in objective_fun\n",
      "    cnn = build_and_fit_cnn(X=X_train_v,\n",
      "  File \"/tmp/ipykernel_25375/2256047732.py\", line 28, in build_and_fit_cnn\n",
      "    model.add(Conv1D(filters=filters, kernel_size=kernel_size, activation='relu', name=f\"extra_conv_{i}\"))\n",
      "  File \"/home/djanloo/.local/share/virtualenvs/DM2-PeqFRmfa/lib/python3.10/site-packages/tensorflow/python/trackable/base.py\", line 205, in _method_wrapper\n",
      "    result = method(self, *args, **kwargs)\n",
      "  File \"/home/djanloo/.local/share/virtualenvs/DM2-PeqFRmfa/lib/python3.10/site-packages/keras/utils/traceback_utils.py\", line 70, in error_handler\n",
      "    raise e.with_traceback(filtered_tb) from None\n",
      "  File \"/home/djanloo/.local/share/virtualenvs/DM2-PeqFRmfa/lib/python3.10/site-packages/keras/layers/convolutional/base_conv.py\", line 354, in compute_output_shape\n",
      "    raise ValueError(\n",
      "ValueError: One of the dimensions in the output is <= 0 due to downsampling in extra_conv_1. Consider increasing the input size. Received input shape [None, 1, 12] which would produce output shape with a zero or negative value in a dimension.\n",
      "[W 2023-06-26 13:05:52,632] Trial 142 failed with value None.\n"
     ]
    },
    {
     "name": "stdout",
     "output_type": "stream",
     "text": [
      "Running little bitch having n_conv=2, dropout=0.6953782577194803, hidden_nodes=245\n"
     ]
    },
    {
     "name": "stderr",
     "output_type": "stream",
     "text": [
      "[W 2023-06-26 13:05:52,956] Trial 143 failed with parameters: {'n_conv': 2, 'n_hidden': 1, 'hidden_nodes': 250, 'dropout': 0.7364132794401232, 'filters': 9, 'kernel_size': 10, 'batch_size': 26, 'epochs': 43} because of the following error: ValueError('One of the dimensions in the output is <= 0 due to downsampling in extra_conv_1. Consider increasing the input size. Received input shape [None, 5, 9] which would produce output shape with a zero or negative value in a dimension.').\n",
      "Traceback (most recent call last):\n",
      "  File \"/home/djanloo/.local/share/virtualenvs/DM2-PeqFRmfa/lib/python3.10/site-packages/optuna/study/_optimize.py\", line 200, in _run_trial\n",
      "    value_or_values = func(trial)\n",
      "  File \"/tmp/ipykernel_25375/4273198217.py\", line 15, in objective_fun\n",
      "    cnn = build_and_fit_cnn(X=X_train_v,\n",
      "  File \"/tmp/ipykernel_25375/2256047732.py\", line 28, in build_and_fit_cnn\n",
      "    model.add(Conv1D(filters=filters, kernel_size=kernel_size, activation='relu', name=f\"extra_conv_{i}\"))\n",
      "  File \"/home/djanloo/.local/share/virtualenvs/DM2-PeqFRmfa/lib/python3.10/site-packages/tensorflow/python/trackable/base.py\", line 205, in _method_wrapper\n",
      "    result = method(self, *args, **kwargs)\n",
      "  File \"/home/djanloo/.local/share/virtualenvs/DM2-PeqFRmfa/lib/python3.10/site-packages/keras/utils/traceback_utils.py\", line 70, in error_handler\n",
      "    raise e.with_traceback(filtered_tb) from None\n",
      "  File \"/home/djanloo/.local/share/virtualenvs/DM2-PeqFRmfa/lib/python3.10/site-packages/keras/layers/convolutional/base_conv.py\", line 354, in compute_output_shape\n",
      "    raise ValueError(\n",
      "ValueError: One of the dimensions in the output is <= 0 due to downsampling in extra_conv_1. Consider increasing the input size. Received input shape [None, 5, 9] which would produce output shape with a zero or negative value in a dimension.\n",
      "[W 2023-06-26 13:05:52,970] Trial 143 failed with value None.\n",
      "[W 2023-06-26 13:05:53,264] Trial 144 failed with parameters: {'n_conv': 2, 'n_hidden': 1, 'hidden_nodes': 245, 'dropout': 0.6953782577194803, 'filters': 13, 'kernel_size': 10, 'batch_size': 25, 'epochs': 75} because of the following error: ValueError('One of the dimensions in the output is <= 0 due to downsampling in extra_conv_1. Consider increasing the input size. Received input shape [None, 5, 13] which would produce output shape with a zero or negative value in a dimension.').\n",
      "Traceback (most recent call last):\n",
      "  File \"/home/djanloo/.local/share/virtualenvs/DM2-PeqFRmfa/lib/python3.10/site-packages/optuna/study/_optimize.py\", line 200, in _run_trial\n",
      "    value_or_values = func(trial)\n",
      "  File \"/tmp/ipykernel_25375/4273198217.py\", line 15, in objective_fun\n",
      "    cnn = build_and_fit_cnn(X=X_train_v,\n",
      "  File \"/tmp/ipykernel_25375/2256047732.py\", line 28, in build_and_fit_cnn\n",
      "    model.add(Conv1D(filters=filters, kernel_size=kernel_size, activation='relu', name=f\"extra_conv_{i}\"))\n",
      "  File \"/home/djanloo/.local/share/virtualenvs/DM2-PeqFRmfa/lib/python3.10/site-packages/tensorflow/python/trackable/base.py\", line 205, in _method_wrapper\n",
      "    result = method(self, *args, **kwargs)\n",
      "  File \"/home/djanloo/.local/share/virtualenvs/DM2-PeqFRmfa/lib/python3.10/site-packages/keras/utils/traceback_utils.py\", line 70, in error_handler\n",
      "    raise e.with_traceback(filtered_tb) from None\n",
      "  File \"/home/djanloo/.local/share/virtualenvs/DM2-PeqFRmfa/lib/python3.10/site-packages/keras/layers/convolutional/base_conv.py\", line 354, in compute_output_shape\n",
      "    raise ValueError(\n",
      "ValueError: One of the dimensions in the output is <= 0 due to downsampling in extra_conv_1. Consider increasing the input size. Received input shape [None, 5, 13] which would produce output shape with a zero or negative value in a dimension.\n",
      "[W 2023-06-26 13:05:53,268] Trial 144 failed with value None.\n"
     ]
    },
    {
     "name": "stdout",
     "output_type": "stream",
     "text": [
      "Running little bitch having n_conv=2, dropout=0.6762883392516071, hidden_nodes=256\n",
      "Running little bitch having n_conv=2, dropout=0.7065584336536137, hidden_nodes=253\n"
     ]
    },
    {
     "name": "stderr",
     "output_type": "stream",
     "text": [
      "[W 2023-06-26 13:05:53,598] Trial 145 failed with parameters: {'n_conv': 2, 'n_hidden': 1, 'hidden_nodes': 256, 'dropout': 0.6762883392516071, 'filters': 13, 'kernel_size': 10, 'batch_size': 26, 'epochs': 75} because of the following error: ValueError('One of the dimensions in the output is <= 0 due to downsampling in extra_conv_1. Consider increasing the input size. Received input shape [None, 5, 13] which would produce output shape with a zero or negative value in a dimension.').\n",
      "Traceback (most recent call last):\n",
      "  File \"/home/djanloo/.local/share/virtualenvs/DM2-PeqFRmfa/lib/python3.10/site-packages/optuna/study/_optimize.py\", line 200, in _run_trial\n",
      "    value_or_values = func(trial)\n",
      "  File \"/tmp/ipykernel_25375/4273198217.py\", line 15, in objective_fun\n",
      "    cnn = build_and_fit_cnn(X=X_train_v,\n",
      "  File \"/tmp/ipykernel_25375/2256047732.py\", line 28, in build_and_fit_cnn\n",
      "    model.add(Conv1D(filters=filters, kernel_size=kernel_size, activation='relu', name=f\"extra_conv_{i}\"))\n",
      "  File \"/home/djanloo/.local/share/virtualenvs/DM2-PeqFRmfa/lib/python3.10/site-packages/tensorflow/python/trackable/base.py\", line 205, in _method_wrapper\n",
      "    result = method(self, *args, **kwargs)\n",
      "  File \"/home/djanloo/.local/share/virtualenvs/DM2-PeqFRmfa/lib/python3.10/site-packages/keras/utils/traceback_utils.py\", line 70, in error_handler\n",
      "    raise e.with_traceback(filtered_tb) from None\n",
      "  File \"/home/djanloo/.local/share/virtualenvs/DM2-PeqFRmfa/lib/python3.10/site-packages/keras/layers/convolutional/base_conv.py\", line 354, in compute_output_shape\n",
      "    raise ValueError(\n",
      "ValueError: One of the dimensions in the output is <= 0 due to downsampling in extra_conv_1. Consider increasing the input size. Received input shape [None, 5, 13] which would produce output shape with a zero or negative value in a dimension.\n",
      "[W 2023-06-26 13:05:53,601] Trial 145 failed with value None.\n",
      "[W 2023-06-26 13:05:53,823] Trial 146 failed with parameters: {'n_conv': 2, 'n_hidden': 1, 'hidden_nodes': 253, 'dropout': 0.7065584336536137, 'filters': 14, 'kernel_size': 10, 'batch_size': 26, 'epochs': 47} because of the following error: ValueError('One of the dimensions in the output is <= 0 due to downsampling in extra_conv_1. Consider increasing the input size. Received input shape [None, 5, 14] which would produce output shape with a zero or negative value in a dimension.').\n",
      "Traceback (most recent call last):\n",
      "  File \"/home/djanloo/.local/share/virtualenvs/DM2-PeqFRmfa/lib/python3.10/site-packages/optuna/study/_optimize.py\", line 200, in _run_trial\n",
      "    value_or_values = func(trial)\n",
      "  File \"/tmp/ipykernel_25375/4273198217.py\", line 15, in objective_fun\n",
      "    cnn = build_and_fit_cnn(X=X_train_v,\n",
      "  File \"/tmp/ipykernel_25375/2256047732.py\", line 28, in build_and_fit_cnn\n",
      "    model.add(Conv1D(filters=filters, kernel_size=kernel_size, activation='relu', name=f\"extra_conv_{i}\"))\n",
      "  File \"/home/djanloo/.local/share/virtualenvs/DM2-PeqFRmfa/lib/python3.10/site-packages/tensorflow/python/trackable/base.py\", line 205, in _method_wrapper\n",
      "    result = method(self, *args, **kwargs)\n",
      "  File \"/home/djanloo/.local/share/virtualenvs/DM2-PeqFRmfa/lib/python3.10/site-packages/keras/utils/traceback_utils.py\", line 70, in error_handler\n",
      "    raise e.with_traceback(filtered_tb) from None\n",
      "  File \"/home/djanloo/.local/share/virtualenvs/DM2-PeqFRmfa/lib/python3.10/site-packages/keras/layers/convolutional/base_conv.py\", line 354, in compute_output_shape\n",
      "    raise ValueError(\n",
      "ValueError: One of the dimensions in the output is <= 0 due to downsampling in extra_conv_1. Consider increasing the input size. Received input shape [None, 5, 14] which would produce output shape with a zero or negative value in a dimension.\n",
      "[W 2023-06-26 13:05:53,832] Trial 146 failed with value None.\n"
     ]
    },
    {
     "name": "stdout",
     "output_type": "stream",
     "text": [
      "Running little bitch having n_conv=2, dropout=0.7245653332595181, hidden_nodes=245\n",
      "Running little bitch having n_conv=2, dropout=0.6946749444543517, hidden_nodes=248\n"
     ]
    },
    {
     "name": "stderr",
     "output_type": "stream",
     "text": [
      "[W 2023-06-26 13:05:53,997] Trial 147 failed with parameters: {'n_conv': 2, 'n_hidden': 1, 'hidden_nodes': 245, 'dropout': 0.7245653332595181, 'filters': 13, 'kernel_size': 14, 'batch_size': 26, 'epochs': 43} because of the following error: ValueError('One of the dimensions in the output is <= 0 due to downsampling in extra_conv_0. Consider increasing the input size. Received input shape [None, 10, 13] which would produce output shape with a zero or negative value in a dimension.').\n",
      "Traceback (most recent call last):\n",
      "  File \"/home/djanloo/.local/share/virtualenvs/DM2-PeqFRmfa/lib/python3.10/site-packages/optuna/study/_optimize.py\", line 200, in _run_trial\n",
      "    value_or_values = func(trial)\n",
      "  File \"/tmp/ipykernel_25375/4273198217.py\", line 15, in objective_fun\n",
      "    cnn = build_and_fit_cnn(X=X_train_v,\n",
      "  File \"/tmp/ipykernel_25375/2256047732.py\", line 28, in build_and_fit_cnn\n",
      "    model.add(Conv1D(filters=filters, kernel_size=kernel_size, activation='relu', name=f\"extra_conv_{i}\"))\n",
      "  File \"/home/djanloo/.local/share/virtualenvs/DM2-PeqFRmfa/lib/python3.10/site-packages/tensorflow/python/trackable/base.py\", line 205, in _method_wrapper\n",
      "    result = method(self, *args, **kwargs)\n",
      "  File \"/home/djanloo/.local/share/virtualenvs/DM2-PeqFRmfa/lib/python3.10/site-packages/keras/utils/traceback_utils.py\", line 70, in error_handler\n",
      "    raise e.with_traceback(filtered_tb) from None\n",
      "  File \"/home/djanloo/.local/share/virtualenvs/DM2-PeqFRmfa/lib/python3.10/site-packages/keras/layers/convolutional/base_conv.py\", line 354, in compute_output_shape\n",
      "    raise ValueError(\n",
      "ValueError: One of the dimensions in the output is <= 0 due to downsampling in extra_conv_0. Consider increasing the input size. Received input shape [None, 10, 13] which would produce output shape with a zero or negative value in a dimension.\n",
      "[W 2023-06-26 13:05:54,000] Trial 147 failed with value None.\n"
     ]
    },
    {
     "name": "stdout",
     "output_type": "stream",
     "text": [
      "Running little bitch having n_conv=2, dropout=0.7112412657122165, hidden_nodes=195\n"
     ]
    },
    {
     "name": "stderr",
     "output_type": "stream",
     "text": [
      "[W 2023-06-26 13:05:54,402] Trial 148 failed with parameters: {'n_conv': 2, 'n_hidden': 1, 'hidden_nodes': 248, 'dropout': 0.6946749444543517, 'filters': 13, 'kernel_size': 10, 'batch_size': 25, 'epochs': 42} because of the following error: ValueError('One of the dimensions in the output is <= 0 due to downsampling in extra_conv_1. Consider increasing the input size. Received input shape [None, 5, 13] which would produce output shape with a zero or negative value in a dimension.').\n",
      "Traceback (most recent call last):\n",
      "  File \"/home/djanloo/.local/share/virtualenvs/DM2-PeqFRmfa/lib/python3.10/site-packages/optuna/study/_optimize.py\", line 200, in _run_trial\n",
      "    value_or_values = func(trial)\n",
      "  File \"/tmp/ipykernel_25375/4273198217.py\", line 15, in objective_fun\n",
      "    cnn = build_and_fit_cnn(X=X_train_v,\n",
      "  File \"/tmp/ipykernel_25375/2256047732.py\", line 28, in build_and_fit_cnn\n",
      "    model.add(Conv1D(filters=filters, kernel_size=kernel_size, activation='relu', name=f\"extra_conv_{i}\"))\n",
      "  File \"/home/djanloo/.local/share/virtualenvs/DM2-PeqFRmfa/lib/python3.10/site-packages/tensorflow/python/trackable/base.py\", line 205, in _method_wrapper\n",
      "    result = method(self, *args, **kwargs)\n",
      "  File \"/home/djanloo/.local/share/virtualenvs/DM2-PeqFRmfa/lib/python3.10/site-packages/keras/utils/traceback_utils.py\", line 70, in error_handler\n",
      "    raise e.with_traceback(filtered_tb) from None\n",
      "  File \"/home/djanloo/.local/share/virtualenvs/DM2-PeqFRmfa/lib/python3.10/site-packages/keras/layers/convolutional/base_conv.py\", line 354, in compute_output_shape\n",
      "    raise ValueError(\n",
      "ValueError: One of the dimensions in the output is <= 0 due to downsampling in extra_conv_1. Consider increasing the input size. Received input shape [None, 5, 13] which would produce output shape with a zero or negative value in a dimension.\n",
      "[W 2023-06-26 13:05:54,409] Trial 148 failed with value None.\n",
      "[W 2023-06-26 13:05:54,452] Trial 149 failed with parameters: {'n_conv': 2, 'n_hidden': 1, 'hidden_nodes': 195, 'dropout': 0.7112412657122165, 'filters': 14, 'kernel_size': 10, 'batch_size': 25, 'epochs': 43} because of the following error: ValueError('One of the dimensions in the output is <= 0 due to downsampling in extra_conv_1. Consider increasing the input size. Received input shape [None, 5, 14] which would produce output shape with a zero or negative value in a dimension.').\n",
      "Traceback (most recent call last):\n",
      "  File \"/home/djanloo/.local/share/virtualenvs/DM2-PeqFRmfa/lib/python3.10/site-packages/optuna/study/_optimize.py\", line 200, in _run_trial\n",
      "    value_or_values = func(trial)\n",
      "  File \"/tmp/ipykernel_25375/4273198217.py\", line 15, in objective_fun\n",
      "    cnn = build_and_fit_cnn(X=X_train_v,\n",
      "  File \"/tmp/ipykernel_25375/2256047732.py\", line 28, in build_and_fit_cnn\n",
      "    model.add(Conv1D(filters=filters, kernel_size=kernel_size, activation='relu', name=f\"extra_conv_{i}\"))\n",
      "  File \"/home/djanloo/.local/share/virtualenvs/DM2-PeqFRmfa/lib/python3.10/site-packages/tensorflow/python/trackable/base.py\", line 205, in _method_wrapper\n",
      "    result = method(self, *args, **kwargs)\n",
      "  File \"/home/djanloo/.local/share/virtualenvs/DM2-PeqFRmfa/lib/python3.10/site-packages/keras/utils/traceback_utils.py\", line 70, in error_handler\n",
      "    raise e.with_traceback(filtered_tb) from None\n",
      "  File \"/home/djanloo/.local/share/virtualenvs/DM2-PeqFRmfa/lib/python3.10/site-packages/keras/layers/convolutional/base_conv.py\", line 354, in compute_output_shape\n",
      "    raise ValueError(\n",
      "ValueError: One of the dimensions in the output is <= 0 due to downsampling in extra_conv_1. Consider increasing the input size. Received input shape [None, 5, 14] which would produce output shape with a zero or negative value in a dimension.\n",
      "[W 2023-06-26 13:05:54,455] Trial 149 failed with value None.\n"
     ]
    },
    {
     "name": "stdout",
     "output_type": "stream",
     "text": [
      "12/12 [==============================] - 0s 3ms/step\n"
     ]
    },
    {
     "name": "stderr",
     "output_type": "stream",
     "text": [
      "[I 2023-06-26 13:05:54,747] Trial 140 finished with value: 0.9672131147540983 and parameters: {'n_conv': 0, 'n_hidden': 1, 'hidden_nodes': 89, 'dropout': 0.9308796808170554, 'filters': 10, 'kernel_size': 12, 'batch_size': 16, 'epochs': 5}. Best is trial 16 with value: 0.9890710382513661.\n"
     ]
    },
    {
     "name": "stdout",
     "output_type": "stream",
     "text": [
      "12/12 [==============================] - 0s 2ms/step\n"
     ]
    },
    {
     "name": "stderr",
     "output_type": "stream",
     "text": [
      "[I 2023-06-26 13:05:55,615] Trial 138 finished with value: 0.9562841530054644 and parameters: {'n_conv': 0, 'n_hidden': 1, 'hidden_nodes': 91, 'dropout': 0.9690648285311831, 'filters': 11, 'kernel_size': 12, 'batch_size': 16, 'epochs': 12}. Best is trial 16 with value: 0.9890710382513661.\n"
     ]
    }
   ],
   "source": [
    "# objective function to be minimized\n",
    "def objective_fun(trial):\n",
    "\n",
    "    n_conv = trial.suggest_int('n_conv', 0, 3)\n",
    "    n_hidden = trial.suggest_int('n_hidden', 0, 3)\n",
    "    hidden_nodes = trial.suggest_int('hidden_nodes', 8, 256)\n",
    "    dropout = trial.suggest_float('dropout', 0, 1)\n",
    "    filters = trial.suggest_int('filters', 2, 16)\n",
    "    kernel_size = trial.suggest_int('kernel_size', 2, 16)\n",
    "    batch_size = trial.suggest_int('batch_size', 16, 64)\n",
    "    epochs = trial.suggest_int('epochs', 5, 90)\n",
    "    \n",
    "    print(f\"Running little bitch having n_conv={n_conv}, dropout={dropout}, hidden_nodes={hidden_nodes}\")\n",
    "    \n",
    "    cnn = build_and_fit_cnn(X=X_train_v,\n",
    "                            y=y_train_v,\n",
    "                            n_hidden=n_hidden,\n",
    "                            hidden_nodes=hidden_nodes,\n",
    "                            n_conv=n_conv,\n",
    "                            dropout=dropout,\n",
    "                            filters=filters,\n",
    "                            kernel_size=kernel_size,\n",
    "                            batch_size=batch_size,\n",
    "                            epochs=epochs,\n",
    "                            verbose=False\n",
    "                           )\n",
    "\n",
    "    y_pred = np.argmax(cnn.predict(X_valid), axis=1)\n",
    "\n",
    "    error = accuracy_score(y_valid, y_pred)\n",
    "\n",
    "    return error\n",
    "\n",
    "\n",
    "study = optuna.create_study(direction='maximize')\n",
    "study.optimize(objective_fun, n_trials=150, n_jobs=-1, catch=ValueError)"
   ]
  },
  {
   "cell_type": "code",
   "execution_count": 13,
   "metadata": {
    "ExecuteTime": {
     "end_time": "2023-06-25T16:51:44.670744Z",
     "start_time": "2023-06-25T16:51:44.667917Z"
    }
   },
   "outputs": [
    {
     "data": {
      "text/plain": [
       "{'n_conv': 0,\n",
       " 'n_hidden': 1,\n",
       " 'hidden_nodes': 248,\n",
       " 'dropout': 0.752200505285764,\n",
       " 'filters': 8,\n",
       " 'kernel_size': 14,\n",
       " 'batch_size': 19,\n",
       " 'epochs': 75}"
      ]
     },
     "execution_count": 13,
     "metadata": {},
     "output_type": "execute_result"
    }
   ],
   "source": [
    "best_params = study.best_params\n",
    "best_params"
   ]
  },
  {
   "cell_type": "code",
   "execution_count": 14,
   "metadata": {
    "ExecuteTime": {
     "end_time": "2023-06-25T16:51:51.439577Z",
     "start_time": "2023-06-25T16:51:44.672475Z"
    }
   },
   "outputs": [
    {
     "name": "stdout",
     "output_type": "stream",
     "text": [
      "Model: \"sequential_1\"\n",
      "_________________________________________________________________\n",
      " Layer (type)                Output Shape              Param #   \n",
      "=================================================================\n",
      " base_conv (Conv1D)          (None, 10, 8)             2584      \n",
      "                                                                 \n",
      " batch_normalization_3 (Batc  (None, 10, 8)            32        \n",
      " hNormalization)                                                 \n",
      "                                                                 \n",
      " activation_3 (Activation)   (None, 10, 8)             0         \n",
      "                                                                 \n",
      " global_average_pooling1d_1   (None, 8)                0         \n",
      " (GlobalAveragePooling1D)                                        \n",
      "                                                                 \n",
      " dense_4 (Dense)             (None, 248)               2232      \n",
      "                                                                 \n",
      " dense_5 (Dense)             (None, 2)                 498       \n",
      "                                                                 \n",
      "=================================================================\n",
      "Total params: 5,346\n",
      "Trainable params: 5,330\n",
      "Non-trainable params: 16\n",
      "_________________________________________________________________\n"
     ]
    }
   ],
   "source": [
    "cnn = build_and_fit_cnn(**best_params)\n",
    "cnn.summary()"
   ]
  },
  {
   "cell_type": "code",
   "execution_count": 15,
   "metadata": {
    "ExecuteTime": {
     "end_time": "2023-06-25T16:51:51.525838Z",
     "start_time": "2023-06-25T16:51:51.446069Z"
    }
   },
   "outputs": [
    {
     "name": "stdout",
     "output_type": "stream",
     "text": [
      "20/20 [==============================] - 0s 2ms/step\n",
      "Cohen k 0.9551282051282052\n",
      "Accuracy 0.9775641025641025\n",
      "F1-score [0.97727273 0.9778481 ]\n",
      "              precision    recall  f1-score   support\n",
      "\n",
      "           0       0.99      0.96      0.98       312\n",
      "           1       0.97      0.99      0.98       312\n",
      "\n",
      "    accuracy                           0.98       624\n",
      "   macro avg       0.98      0.98      0.98       624\n",
      "weighted avg       0.98      0.98      0.98       624\n",
      "\n"
     ]
    }
   ],
   "source": [
    "from sklearn.metrics import f1_score, classification_report, cohen_kappa_score\n",
    "\n",
    "y_pred = np.argmax(cnn.predict(X_test), axis=1)\n",
    "\n",
    "print(f'Cohen k {cohen_kappa_score(y_test, y_pred)}')\n",
    "print('Accuracy %s' % accuracy_score(y_test, y_pred))\n",
    "print('F1-score %s' % f1_score(y_test, y_pred, average=None))\n",
    "print(classification_report(y_test, y_pred))"
   ]
  },
  {
   "cell_type": "code",
   "execution_count": null,
   "metadata": {},
   "outputs": [],
   "source": []
  }
 ],
 "metadata": {
  "kernelspec": {
   "display_name": "DM2",
   "language": "python",
   "name": "dm2"
  },
  "language_info": {
   "codemirror_mode": {
    "name": "ipython",
    "version": 3
   },
   "file_extension": ".py",
   "mimetype": "text/x-python",
   "name": "python",
   "nbconvert_exporter": "python",
   "pygments_lexer": "ipython3",
   "version": "3.10.6"
  }
 },
 "nbformat": 4,
 "nbformat_minor": 1
}
