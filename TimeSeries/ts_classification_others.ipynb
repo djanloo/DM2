{
 "cells": [
  {
   "cell_type": "code",
   "execution_count": 1,
   "metadata": {
    "ExecuteTime": {
     "end_time": "2023-06-25T16:50:55.153120Z",
     "start_time": "2023-06-25T16:50:55.151410Z"
    }
   },
   "outputs": [],
   "source": [
    "import os\n",
    "import numpy as np\n",
    "import pandas as pd\n",
    "import matplotlib.pyplot as plt\n",
    "import seaborn as sns; sns.set()\n",
    "\n",
    "import sys\n",
    "sys.path.append('../')\n",
    "import default_style"
   ]
  },
  {
   "cell_type": "code",
   "execution_count": 2,
   "metadata": {
    "ExecuteTime": {
     "end_time": "2023-06-25T16:50:55.156213Z",
     "start_time": "2023-06-25T16:50:55.153699Z"
    }
   },
   "outputs": [],
   "source": [
    "TS_DATASET_FOLDER = os.path.join('..', 'dataset')\n",
    "TS_PREPROC_FOLDER = os.path.join(TS_DATASET_FOLDER, 'preprocessed_traces')\n",
    "DF_PREPROC_FILE = os.path.join(TS_PREPROC_FOLDER, 'preproc_ts.df')\n",
    "\n",
    "TARGET = 'statement'\n",
    "TRACES = 'syllables_02_STFT'"
   ]
  },
  {
   "cell_type": "code",
   "execution_count": 3,
   "metadata": {
    "ExecuteTime": {
     "end_time": "2023-06-25T16:50:55.181504Z",
     "start_time": "2023-06-25T16:50:55.156460Z"
    }
   },
   "outputs": [
    {
     "data": {
      "text/html": [
       "<div>\n",
       "<style scoped>\n",
       "    .dataframe tbody tr th:only-of-type {\n",
       "        vertical-align: middle;\n",
       "    }\n",
       "\n",
       "    .dataframe tbody tr th {\n",
       "        vertical-align: top;\n",
       "    }\n",
       "\n",
       "    .dataframe thead th {\n",
       "        text-align: right;\n",
       "    }\n",
       "</style>\n",
       "<table border=\"1\" class=\"dataframe\">\n",
       "  <thead>\n",
       "    <tr style=\"text-align: right;\">\n",
       "      <th></th>\n",
       "      <th>vocal_channel</th>\n",
       "      <th>emotion</th>\n",
       "      <th>emotional_intensity</th>\n",
       "      <th>statement</th>\n",
       "      <th>repetition</th>\n",
       "      <th>actor</th>\n",
       "      <th>path</th>\n",
       "      <th>sex</th>\n",
       "      <th>begin_s</th>\n",
       "      <th>end_s</th>\n",
       "      <th>...</th>\n",
       "      <th>filtered_fourier_coeffs</th>\n",
       "      <th>syll_0_start_index</th>\n",
       "      <th>syll_1_start_index</th>\n",
       "      <th>syll_2_start_index</th>\n",
       "      <th>syll_3_start_index</th>\n",
       "      <th>syll_4_start_index</th>\n",
       "      <th>syll_5_start_index</th>\n",
       "      <th>syll_6_start_index</th>\n",
       "      <th>syll_7_start_index</th>\n",
       "      <th>actor_number</th>\n",
       "    </tr>\n",
       "  </thead>\n",
       "  <tbody>\n",
       "    <tr>\n",
       "      <th>0</th>\n",
       "      <td>speech</td>\n",
       "      <td>happy</td>\n",
       "      <td>normal</td>\n",
       "      <td>kids</td>\n",
       "      <td>2nd</td>\n",
       "      <td>actor_01</td>\n",
       "      <td>../dataset/Audio_Speech_Actors_01-24/Actor_01/...</td>\n",
       "      <td>M</td>\n",
       "      <td>1.061167</td>\n",
       "      <td>2.701833</td>\n",
       "      <td>...</td>\n",
       "      <td>[5.9604645e-08 9.2448264e-02 7.0119813e-02 ......</td>\n",
       "      <td>0</td>\n",
       "      <td>1304</td>\n",
       "      <td>2464</td>\n",
       "      <td>3832</td>\n",
       "      <td>4680</td>\n",
       "      <td>5664</td>\n",
       "      <td>6488</td>\n",
       "      <td>9840</td>\n",
       "      <td>1</td>\n",
       "    </tr>\n",
       "    <tr>\n",
       "      <th>1</th>\n",
       "      <td>speech</td>\n",
       "      <td>calm</td>\n",
       "      <td>strong</td>\n",
       "      <td>dogs</td>\n",
       "      <td>2nd</td>\n",
       "      <td>actor_01</td>\n",
       "      <td>../dataset/Audio_Speech_Actors_01-24/Actor_01/...</td>\n",
       "      <td>M</td>\n",
       "      <td>1.020167</td>\n",
       "      <td>2.983000</td>\n",
       "      <td>...</td>\n",
       "      <td>[3.3713877e-07 6.0990625e-03 8.3317189e-03 ......</td>\n",
       "      <td>0</td>\n",
       "      <td>2112</td>\n",
       "      <td>5664</td>\n",
       "      <td>6304</td>\n",
       "      <td>6840</td>\n",
       "      <td>7704</td>\n",
       "      <td>9304</td>\n",
       "      <td>11776</td>\n",
       "      <td>1</td>\n",
       "    </tr>\n",
       "    <tr>\n",
       "      <th>2</th>\n",
       "      <td>speech</td>\n",
       "      <td>fearful</td>\n",
       "      <td>normal</td>\n",
       "      <td>kids</td>\n",
       "      <td>2nd</td>\n",
       "      <td>actor_01</td>\n",
       "      <td>../dataset/Audio_Speech_Actors_01-24/Actor_01/...</td>\n",
       "      <td>M</td>\n",
       "      <td>1.057000</td>\n",
       "      <td>2.642500</td>\n",
       "      <td>...</td>\n",
       "      <td>[4.5448542e-07 2.2871116e-02 2.1308355e-02 ......</td>\n",
       "      <td>0</td>\n",
       "      <td>2032</td>\n",
       "      <td>3168</td>\n",
       "      <td>4648</td>\n",
       "      <td>5800</td>\n",
       "      <td>6728</td>\n",
       "      <td>7400</td>\n",
       "      <td>9512</td>\n",
       "      <td>1</td>\n",
       "    </tr>\n",
       "    <tr>\n",
       "      <th>3</th>\n",
       "      <td>speech</td>\n",
       "      <td>neutral</td>\n",
       "      <td>normal</td>\n",
       "      <td>kids</td>\n",
       "      <td>2nd</td>\n",
       "      <td>actor_01</td>\n",
       "      <td>../dataset/Audio_Speech_Actors_01-24/Actor_01/...</td>\n",
       "      <td>M</td>\n",
       "      <td>1.068500</td>\n",
       "      <td>2.294667</td>\n",
       "      <td>...</td>\n",
       "      <td>[3.5017729e-07 2.6198970e-02 2.5683273e-02 ......</td>\n",
       "      <td>0</td>\n",
       "      <td>928</td>\n",
       "      <td>1984</td>\n",
       "      <td>3232</td>\n",
       "      <td>4120</td>\n",
       "      <td>5120</td>\n",
       "      <td>5808</td>\n",
       "      <td>7352</td>\n",
       "      <td>1</td>\n",
       "    </tr>\n",
       "    <tr>\n",
       "      <th>4</th>\n",
       "      <td>speech</td>\n",
       "      <td>calm</td>\n",
       "      <td>normal</td>\n",
       "      <td>kids</td>\n",
       "      <td>1st</td>\n",
       "      <td>actor_01</td>\n",
       "      <td>../dataset/Audio_Speech_Actors_01-24/Actor_01/...</td>\n",
       "      <td>M</td>\n",
       "      <td>1.023667</td>\n",
       "      <td>2.534167</td>\n",
       "      <td>...</td>\n",
       "      <td>[1.1920929e-07 2.0026902e-03 7.9688808e-04 ......</td>\n",
       "      <td>0</td>\n",
       "      <td>2104</td>\n",
       "      <td>3672</td>\n",
       "      <td>4808</td>\n",
       "      <td>5928</td>\n",
       "      <td>6944</td>\n",
       "      <td>7600</td>\n",
       "      <td>9056</td>\n",
       "      <td>1</td>\n",
       "    </tr>\n",
       "  </tbody>\n",
       "</table>\n",
       "<p>5 rows × 21 columns</p>\n",
       "</div>"
      ],
      "text/plain": [
       "  vocal_channel  emotion emotional_intensity statement repetition     actor  \\\n",
       "0        speech    happy              normal      kids        2nd  actor_01   \n",
       "1        speech     calm              strong      dogs        2nd  actor_01   \n",
       "2        speech  fearful              normal      kids        2nd  actor_01   \n",
       "3        speech  neutral              normal      kids        2nd  actor_01   \n",
       "4        speech     calm              normal      kids        1st  actor_01   \n",
       "\n",
       "                                                path sex   begin_s     end_s  \\\n",
       "0  ../dataset/Audio_Speech_Actors_01-24/Actor_01/...   M  1.061167  2.701833   \n",
       "1  ../dataset/Audio_Speech_Actors_01-24/Actor_01/...   M  1.020167  2.983000   \n",
       "2  ../dataset/Audio_Speech_Actors_01-24/Actor_01/...   M  1.057000  2.642500   \n",
       "3  ../dataset/Audio_Speech_Actors_01-24/Actor_01/...   M  1.068500  2.294667   \n",
       "4  ../dataset/Audio_Speech_Actors_01-24/Actor_01/...   M  1.023667  2.534167   \n",
       "\n",
       "   ...                            filtered_fourier_coeffs syll_0_start_index  \\\n",
       "0  ...  [5.9604645e-08 9.2448264e-02 7.0119813e-02 ......                  0   \n",
       "1  ...  [3.3713877e-07 6.0990625e-03 8.3317189e-03 ......                  0   \n",
       "2  ...  [4.5448542e-07 2.2871116e-02 2.1308355e-02 ......                  0   \n",
       "3  ...  [3.5017729e-07 2.6198970e-02 2.5683273e-02 ......                  0   \n",
       "4  ...  [1.1920929e-07 2.0026902e-03 7.9688808e-04 ......                  0   \n",
       "\n",
       "   syll_1_start_index  syll_2_start_index  syll_3_start_index  \\\n",
       "0                1304                2464                3832   \n",
       "1                2112                5664                6304   \n",
       "2                2032                3168                4648   \n",
       "3                 928                1984                3232   \n",
       "4                2104                3672                4808   \n",
       "\n",
       "   syll_4_start_index  syll_5_start_index  syll_6_start_index  \\\n",
       "0                4680                5664                6488   \n",
       "1                6840                7704                9304   \n",
       "2                5800                6728                7400   \n",
       "3                4120                5120                5808   \n",
       "4                5928                6944                7600   \n",
       "\n",
       "   syll_7_start_index  actor_number  \n",
       "0                9840             1  \n",
       "1               11776             1  \n",
       "2                9512             1  \n",
       "3                7352             1  \n",
       "4                9056             1  \n",
       "\n",
       "[5 rows x 21 columns]"
      ]
     },
     "execution_count": 3,
     "metadata": {},
     "output_type": "execute_result"
    }
   ],
   "source": [
    "df = pd.read_csv(DF_PREPROC_FILE).drop(columns=['Unnamed: 0'])\n",
    "df[\"actor_number\"] = df.actor.apply(lambda x: int(x.split(\"_\")[1]))\n",
    "df.head()"
   ]
  },
  {
   "cell_type": "code",
   "execution_count": 4,
   "metadata": {
    "ExecuteTime": {
     "end_time": "2023-06-25T16:50:56.230138Z",
     "start_time": "2023-06-25T16:50:55.179849Z"
    }
   },
   "outputs": [],
   "source": [
    "traces_dict = {}\n",
    "files = os.listdir(TS_PREPROC_FOLDER)\n",
    "\n",
    "# SORRY PAOLINO BUT I HAVE A CHICCO PC AND I CANNOT LOAD IT ALL\n",
    "\n",
    "# for file in files:\n",
    "\n",
    "#     if file.endswith('.npy'):\n",
    "#         file_path = os.path.join(TS_PREPROC_FOLDER, file)\n",
    "#         # dictionary keys are the file names\n",
    "#         key = os.path.splitext(file)[0]\n",
    "#         # load array\n",
    "#         traces_dict[key] = np.load(file_path, allow_pickle=True)\n",
    "\n",
    "# traces_dict.keys()\n",
    "\n",
    "file_path = os.path.join(TS_PREPROC_FOLDER, f\"{TRACES}.npy\")\n",
    "traces_dict[TRACES] = np.load(file_path, allow_pickle=True)\n"
   ]
  },
  {
   "cell_type": "code",
   "execution_count": 5,
   "metadata": {
    "ExecuteTime": {
     "end_time": "2023-06-25T16:50:56.230778Z",
     "start_time": "2023-06-25T16:50:56.229530Z"
    }
   },
   "outputs": [
    {
     "data": {
      "text/plain": [
       "(2452, 23, 23)"
      ]
     },
     "execution_count": 5,
     "metadata": {},
     "output_type": "execute_result"
    }
   ],
   "source": [
    "traces = traces_dict[TRACES]\n",
    "traces.shape"
   ]
  },
  {
   "cell_type": "code",
   "execution_count": 6,
   "metadata": {
    "ExecuteTime": {
     "end_time": "2023-06-25T16:50:56.395233Z",
     "start_time": "2023-06-25T16:50:56.230604Z"
    }
   },
   "outputs": [
    {
     "data": {
      "image/png": "[encoded data removed]",
      "text/plain": [
       "<Figure size 354.331x236.22 with 1 Axes>"
      ]
     },
     "metadata": {},
     "output_type": "display_data"
    }
   ],
   "source": [
    "index = 0\n",
    "statement = df['statement'][index]\n",
    "plt.plot(traces[index])\n",
    "plt.title(f'Time series at row #{index}, statement: {statement}')\n",
    "plt.show()"
   ]
  },
  {
   "cell_type": "code",
   "execution_count": 7,
   "metadata": {},
   "outputs": [
    {
     "name": "stderr",
     "output_type": "stream",
     "text": [
      "/home/djanloo/.local/share/virtualenvs/DM2-PeqFRmfa/lib/python3.10/site-packages/IPython/core/events.py:93: UserWarning: This figure includes Axes that are not compatible with tight_layout, so results might be incorrect.\n",
      "  func(*args, **kwargs)\n",
      "/home/djanloo/.local/share/virtualenvs/DM2-PeqFRmfa/lib/python3.10/site-packages/IPython/core/pylabtools.py:152: UserWarning: This figure includes Axes that are not compatible with tight_layout, so results might be incorrect.\n",
      "  fig.canvas.print_figure(bytes_io, **kw)\n"
     ]
    },
    {
     "data": {
      "image/png": "[encoded data removed]",
      "text/plain": [
       "<Figure size 400x400 with 1 Axes>"
      ]
     },
     "metadata": {},
     "output_type": "display_data"
    }
   ],
   "source": [
    "plt.matshow(traces[index]);plt.grid(ls=\"\")\n",
    "plt.title(\"axis 0 is time, axis 1 is freq\");"
   ]
  },
  {
   "cell_type": "code",
   "execution_count": 8,
   "metadata": {
    "ExecuteTime": {
     "end_time": "2023-06-25T16:50:56.578540Z",
     "start_time": "2023-06-25T16:50:56.407787Z"
    },
    "scrolled": true
   },
   "outputs": [
    {
     "data": {
      "text/plain": [
       "((1545, 23, 23), (387, 23, 23), (520, 23, 23), (1545,), (387,), (520,))"
      ]
     },
     "execution_count": 8,
     "metadata": {},
     "output_type": "execute_result"
    }
   ],
   "source": [
    "from sklearn.model_selection import train_test_split\n",
    "\n",
    "# Sets tests to be over actor 19 (excluded)\n",
    "X_test = traces[df.actor_number > 19]\n",
    "y_test = df[TARGET][df.actor_number > 19].to_numpy()\n",
    "\n",
    "# Sets the train and validation inside actors < 19\n",
    "X_train, X_val, y_train, y_val = train_test_split(  traces[df.actor_number <= 19], \n",
    "                                                    df[TARGET][df.actor_number <= 19].to_numpy(), \n",
    "                                                    test_size=0.2, random_state=100)\n",
    "\n",
    "X_train.shape, X_val.shape, X_test.shape, y_train.shape, y_val.shape, y_test.shape"
   ]
  },
  {
   "cell_type": "markdown",
   "metadata": {},
   "source": [
    "# CNN for statement and syllables 0&2"
   ]
  },
  {
   "cell_type": "code",
   "execution_count": 9,
   "metadata": {
    "ExecuteTime": {
     "end_time": "2023-06-25T16:50:56.581291Z",
     "start_time": "2023-06-25T16:50:56.579016Z"
    }
   },
   "outputs": [],
   "source": [
    "from sklearn.preprocessing import LabelEncoder\n",
    "\n",
    "label_encoder = LabelEncoder()\n",
    "\n",
    "y_train = label_encoder.fit_transform(y_train)\n",
    "y_val = label_encoder.transform(y_val)\n",
    "y_test = label_encoder.transform(y_test)"
   ]
  },
  {
   "cell_type": "code",
   "execution_count": 10,
   "metadata": {
    "ExecuteTime": {
     "end_time": "2023-06-25T16:50:56.586938Z",
     "start_time": "2023-06-25T16:50:56.584556Z"
    }
   },
   "outputs": [
    {
     "name": "stderr",
     "output_type": "stream",
     "text": [
      "2023-06-26 17:33:53.560874: I tensorflow/tsl/cuda/cudart_stub.cc:28] Could not find cuda drivers on your machine, GPU will not be used.\n",
      "2023-06-26 17:33:53.644904: I tensorflow/tsl/cuda/cudart_stub.cc:28] Could not find cuda drivers on your machine, GPU will not be used.\n",
      "2023-06-26 17:33:53.646246: I tensorflow/core/platform/cpu_feature_guard.cc:182] This TensorFlow binary is optimized to use available CPU instructions in performance-critical operations.\n",
      "To enable the following instructions: AVX2 FMA, in other operations, rebuild TensorFlow with the appropriate compiler flags.\n",
      "2023-06-26 17:33:55.046247: W tensorflow/compiler/tf2tensorrt/utils/py_utils.cc:38] TF-TRT Warning: Could not find TensorRT\n"
     ]
    }
   ],
   "source": [
    "import optuna\n",
    "from keras.layers import BatchNormalization, Activation\n",
    "from keras.models import Sequential\n",
    "from keras.layers import Dense, Conv1D, Dropout, GlobalAveragePooling1D\n",
    "from sklearn.metrics import accuracy_score\n",
    "\n",
    "def build_model(input_shape, n_categories,\n",
    "                n_conv=0, n_hidden=0, hidden_nodes=32,\n",
    "                dropout=0.01, filters=8, kernel_size=5):\n",
    "    \n",
    "    # Stuff must be given in (timestep, spectral_coeff) format\n",
    "    n_timesteps = input_shape[0]\n",
    "    n_features = input_shape[1]\n",
    "\n",
    "    model = Sequential()\n",
    "\n",
    "    model.add(Conv1D(filters=filters,\n",
    "                     kernel_size=kernel_size,\n",
    "                     activation='relu',\n",
    "                     input_shape=(n_timesteps, n_features),\n",
    "                     name=\"base_conv\"\n",
    "                     ))\n",
    "    model.add(BatchNormalization())\n",
    "    model.add(Activation('relu'))\n",
    "\n",
    "    for i in range(n_conv):\n",
    "        model.add(Conv1D(filters=filters, kernel_size=kernel_size, activation='relu', name=f\"extra_conv_{i}\"))\n",
    "        model.add(BatchNormalization())\n",
    "        model.add(Activation('relu'))\n",
    "\n",
    "        model.add(Dropout(dropout))\n",
    "\n",
    "    model.add(GlobalAveragePooling1D())\n",
    "\n",
    "    for i in range(n_hidden):\n",
    "        model.add(Dense(hidden_nodes, activation='relu'))\n",
    "\n",
    "    model.add(Dense(n_categories, activation='softmax'))    \n",
    "    model.compile(loss='sparse_categorical_crossentropy', optimizer='adam', metrics=['accuracy'])\n",
    "    \n",
    "    return model"
   ]
  },
  {
   "cell_type": "code",
   "execution_count": 11,
   "metadata": {},
   "outputs": [
    {
     "name": "stdout",
     "output_type": "stream",
     "text": [
      "Model: \"sequential\"\n",
      "_________________________________________________________________\n",
      " Layer (type)                Output Shape              Param #   \n",
      "=================================================================\n",
      " base_conv (Conv1D)          (None, 19, 8)             928       \n",
      "                                                                 \n",
      " batch_normalization (BatchN  (None, 19, 8)            32        \n",
      " ormalization)                                                   \n",
      "                                                                 \n",
      " activation (Activation)     (None, 19, 8)             0         \n",
      "                                                                 \n",
      " extra_conv_0 (Conv1D)       (None, 15, 8)             328       \n",
      "                                                                 \n",
      " batch_normalization_1 (Batc  (None, 15, 8)            32        \n",
      " hNormalization)                                                 \n",
      "                                                                 \n",
      " activation_1 (Activation)   (None, 15, 8)             0         \n",
      "                                                                 \n",
      " dropout (Dropout)           (None, 15, 8)             0         \n",
      "                                                                 \n",
      " extra_conv_1 (Conv1D)       (None, 11, 8)             328       \n",
      "                                                                 \n",
      " batch_normalization_2 (Batc  (None, 11, 8)            32        \n",
      " hNormalization)                                                 \n",
      "                                                                 \n",
      " activation_2 (Activation)   (None, 11, 8)             0         \n",
      "                                                                 \n",
      " dropout_1 (Dropout)         (None, 11, 8)             0         \n",
      "                                                                 \n",
      " global_average_pooling1d (G  (None, 8)                0         \n",
      " lobalAveragePooling1D)                                          \n",
      "                                                                 \n",
      " dense (Dense)               (None, 256)               2304      \n",
      "                                                                 \n",
      " dense_1 (Dense)             (None, 256)               65792     \n",
      "                                                                 \n",
      " dense_2 (Dense)             (None, 256)               65792     \n",
      "                                                                 \n",
      " dense_3 (Dense)             (None, 2)                 514       \n",
      "                                                                 \n",
      "=================================================================\n",
      "Total params: 136,082\n",
      "Trainable params: 136,034\n",
      "Non-trainable params: 48\n",
      "_________________________________________________________________\n",
      "Epoch 1/8\n",
      "49/49 [==============================] - 4s 9ms/step - loss: 0.5398 - accuracy: 0.7320\n",
      "Epoch 2/8\n",
      "49/49 [==============================] - 0s 8ms/step - loss: 0.3077 - accuracy: 0.8796\n",
      "Epoch 3/8\n",
      "49/49 [==============================] - 0s 10ms/step - loss: 0.1906 - accuracy: 0.9236\n",
      "Epoch 4/8\n",
      "49/49 [==============================] - 0s 9ms/step - loss: 0.1331 - accuracy: 0.9476\n",
      "Epoch 5/8\n",
      "49/49 [==============================] - 0s 9ms/step - loss: 0.1274 - accuracy: 0.9515\n",
      "Epoch 6/8\n",
      "49/49 [==============================] - 0s 9ms/step - loss: 0.1007 - accuracy: 0.9566\n",
      "Epoch 7/8\n",
      "49/49 [==============================] - 0s 9ms/step - loss: 0.0758 - accuracy: 0.9631\n",
      "Epoch 8/8\n",
      "49/49 [==============================] - 0s 9ms/step - loss: 0.0652 - accuracy: 0.9741\n"
     ]
    },
    {
     "data": {
      "text/plain": [
       "<keras.callbacks.History at 0x7fd5d851b520>"
      ]
     },
     "execution_count": 11,
     "metadata": {},
     "output_type": "execute_result"
    }
   ],
   "source": [
    "# Test to check the accuracy of a \"belly\" network\n",
    "test_model = build_model((23,23), 2, \n",
    "                         n_conv=2, n_hidden=3, hidden_nodes=256)\n",
    "test_model.summary()\n",
    "test_model.fit(X_train, y_train,  verbose=True, epochs=8)"
   ]
  },
  {
   "cell_type": "code",
   "execution_count": 12,
   "metadata": {
    "ExecuteTime": {
     "end_time": "2023-06-25T16:51:44.666535Z",
     "start_time": "2023-06-25T16:50:56.589413Z"
    }
   },
   "outputs": [
    {
     "name": "stderr",
     "output_type": "stream",
     "text": [
      "[I 2023-06-26 17:34:04,241] A new study created in memory with name: no-name-736d9599-46d0-4141-b7a4-3353f10ea9e3\n"
     ]
    },
    {
     "name": "stdout",
     "output_type": "stream",
     "text": [
      "Running little bitch having n_conv=1, dropout=0.9067288246196787, hidden_nodes=198\n",
      "Running little bitch having n_conv=1, dropout=0.8484644186204721, hidden_nodes=180\n",
      "Running little bitch having n_conv=2, dropout=0.4661733742787627, hidden_nodes=229\n",
      "Running little bitch having n_conv=2, dropout=0.5267892280411214, hidden_nodes=175\n"
     ]
    },
    {
     "name": "stderr",
     "output_type": "stream",
     "text": [
      "[W 2023-06-26 17:34:04,550] Trial 1 failed with parameters: {'n_conv': 1, 'n_hidden': 2, 'hidden_nodes': 180, 'dropout': 0.8484644186204721, 'filters': 15, 'kernel_size': 15, 'batch_size': 25, 'epochs': 32} because of the following error: ValueError('One of the dimensions in the output is <= 0 due to downsampling in extra_conv_0. Consider increasing the input size. Received input shape [None, 9, 15] which would produce output shape with a zero or negative value in a dimension.').\n",
      "Traceback (most recent call last):\n",
      "  File \"/home/djanloo/.local/share/virtualenvs/DM2-PeqFRmfa/lib/python3.10/site-packages/optuna/study/_optimize.py\", line 200, in _run_trial\n",
      "    value_or_values = func(trial)\n",
      "  File \"/tmp/ipykernel_38777/4091589858.py\", line 34, in <lambda>\n",
      "    trial_function = lambda trial: objective_fun(trial,\n",
      "  File \"/tmp/ipykernel_38777/4091589858.py\", line 15, in objective_fun\n",
      "    cnn = build_model(  X.shape[1:], len(np.unique(y)),\n",
      "  File \"/tmp/ipykernel_38777/1167308510.py\", line 27, in build_model\n",
      "    model.add(Conv1D(filters=filters, kernel_size=kernel_size, activation='relu', name=f\"extra_conv_{i}\"))\n",
      "  File \"/home/djanloo/.local/share/virtualenvs/DM2-PeqFRmfa/lib/python3.10/site-packages/tensorflow/python/trackable/base.py\", line 205, in _method_wrapper\n",
      "    result = method(self, *args, **kwargs)\n",
      "  File \"/home/djanloo/.local/share/virtualenvs/DM2-PeqFRmfa/lib/python3.10/site-packages/keras/utils/traceback_utils.py\", line 70, in error_handler\n",
      "    raise e.with_traceback(filtered_tb) from None\n",
      "  File \"/home/djanloo/.local/share/virtualenvs/DM2-PeqFRmfa/lib/python3.10/site-packages/keras/layers/convolutional/base_conv.py\", line 354, in compute_output_shape\n",
      "    raise ValueError(\n",
      "ValueError: One of the dimensions in the output is <= 0 due to downsampling in extra_conv_0. Consider increasing the input size. Received input shape [None, 9, 15] which would produce output shape with a zero or negative value in a dimension.\n",
      "[W 2023-06-26 17:34:04,585] Trial 1 failed with value None.\n"
     ]
    },
    {
     "name": "stdout",
     "output_type": "stream",
     "text": [
      "Running little bitch having n_conv=3, dropout=0.6689096855590054, hidden_nodes=74\n"
     ]
    },
    {
     "name": "stderr",
     "output_type": "stream",
     "text": [
      "[W 2023-06-26 17:34:04,949] Trial 3 failed with parameters: {'n_conv': 2, 'n_hidden': 3, 'hidden_nodes': 175, 'dropout': 0.5267892280411214, 'filters': 11, 'kernel_size': 11, 'batch_size': 16, 'epochs': 24} because of the following error: ValueError('One of the dimensions in the output is <= 0 due to downsampling in extra_conv_1. Consider increasing the input size. Received input shape [None, 3, 11] which would produce output shape with a zero or negative value in a dimension.').\n",
      "Traceback (most recent call last):\n",
      "  File \"/home/djanloo/.local/share/virtualenvs/DM2-PeqFRmfa/lib/python3.10/site-packages/optuna/study/_optimize.py\", line 200, in _run_trial\n",
      "    value_or_values = func(trial)\n",
      "  File \"/tmp/ipykernel_38777/4091589858.py\", line 34, in <lambda>\n",
      "    trial_function = lambda trial: objective_fun(trial,\n",
      "  File \"/tmp/ipykernel_38777/4091589858.py\", line 15, in objective_fun\n",
      "    cnn = build_model(  X.shape[1:], len(np.unique(y)),\n",
      "  File \"/tmp/ipykernel_38777/1167308510.py\", line 27, in build_model\n",
      "    model.add(Conv1D(filters=filters, kernel_size=kernel_size, activation='relu', name=f\"extra_conv_{i}\"))\n",
      "  File \"/home/djanloo/.local/share/virtualenvs/DM2-PeqFRmfa/lib/python3.10/site-packages/tensorflow/python/trackable/base.py\", line 205, in _method_wrapper\n",
      "    result = method(self, *args, **kwargs)\n",
      "  File \"/home/djanloo/.local/share/virtualenvs/DM2-PeqFRmfa/lib/python3.10/site-packages/keras/utils/traceback_utils.py\", line 70, in error_handler\n",
      "    raise e.with_traceback(filtered_tb) from None\n",
      "  File \"/home/djanloo/.local/share/virtualenvs/DM2-PeqFRmfa/lib/python3.10/site-packages/keras/layers/convolutional/base_conv.py\", line 354, in compute_output_shape\n",
      "    raise ValueError(\n",
      "ValueError: One of the dimensions in the output is <= 0 due to downsampling in extra_conv_1. Consider increasing the input size. Received input shape [None, 3, 11] which would produce output shape with a zero or negative value in a dimension.\n",
      "[W 2023-06-26 17:34:04,959] Trial 3 failed with value None.\n"
     ]
    },
    {
     "name": "stdout",
     "output_type": "stream",
     "text": [
      "Running little bitch having n_conv=1, dropout=0.7825661246659592, hidden_nodes=34\n"
     ]
    },
    {
     "name": "stderr",
     "output_type": "stream",
     "text": [
      "[W 2023-06-26 17:34:05,303] Trial 5 failed with parameters: {'n_conv': 1, 'n_hidden': 2, 'hidden_nodes': 34, 'dropout': 0.7825661246659592, 'filters': 8, 'kernel_size': 15, 'batch_size': 41, 'epochs': 15} because of the following error: ValueError('One of the dimensions in the output is <= 0 due to downsampling in extra_conv_0. Consider increasing the input size. Received input shape [None, 9, 8] which would produce output shape with a zero or negative value in a dimension.').\n",
      "Traceback (most recent call last):\n",
      "  File \"/home/djanloo/.local/share/virtualenvs/DM2-PeqFRmfa/lib/python3.10/site-packages/optuna/study/_optimize.py\", line 200, in _run_trial\n",
      "    value_or_values = func(trial)\n",
      "  File \"/tmp/ipykernel_38777/4091589858.py\", line 34, in <lambda>\n",
      "    trial_function = lambda trial: objective_fun(trial,\n",
      "  File \"/tmp/ipykernel_38777/4091589858.py\", line 15, in objective_fun\n",
      "    cnn = build_model(  X.shape[1:], len(np.unique(y)),\n",
      "  File \"/tmp/ipykernel_38777/1167308510.py\", line 27, in build_model\n",
      "    model.add(Conv1D(filters=filters, kernel_size=kernel_size, activation='relu', name=f\"extra_conv_{i}\"))\n",
      "  File \"/home/djanloo/.local/share/virtualenvs/DM2-PeqFRmfa/lib/python3.10/site-packages/tensorflow/python/trackable/base.py\", line 205, in _method_wrapper\n",
      "    result = method(self, *args, **kwargs)\n",
      "  File \"/home/djanloo/.local/share/virtualenvs/DM2-PeqFRmfa/lib/python3.10/site-packages/keras/utils/traceback_utils.py\", line 70, in error_handler\n",
      "    raise e.with_traceback(filtered_tb) from None\n",
      "  File \"/home/djanloo/.local/share/virtualenvs/DM2-PeqFRmfa/lib/python3.10/site-packages/keras/layers/convolutional/base_conv.py\", line 354, in compute_output_shape\n",
      "    raise ValueError(\n",
      "ValueError: One of the dimensions in the output is <= 0 due to downsampling in extra_conv_0. Consider increasing the input size. Received input shape [None, 9, 8] which would produce output shape with a zero or negative value in a dimension.\n",
      "[W 2023-06-26 17:34:05,307] Trial 5 failed with value None.\n",
      "[W 2023-06-26 17:34:05,379] Trial 4 failed with parameters: {'n_conv': 3, 'n_hidden': 3, 'hidden_nodes': 74, 'dropout': 0.6689096855590054, 'filters': 13, 'kernel_size': 12, 'batch_size': 43, 'epochs': 43} because of the following error: ValueError('One of the dimensions in the output is <= 0 due to downsampling in extra_conv_1. Consider increasing the input size. Received input shape [None, 1, 13] which would produce output shape with a zero or negative value in a dimension.').\n",
      "Traceback (most recent call last):\n",
      "  File \"/home/djanloo/.local/share/virtualenvs/DM2-PeqFRmfa/lib/python3.10/site-packages/optuna/study/_optimize.py\", line 200, in _run_trial\n",
      "    value_or_values = func(trial)\n",
      "  File \"/tmp/ipykernel_38777/4091589858.py\", line 34, in <lambda>\n",
      "    trial_function = lambda trial: objective_fun(trial,\n",
      "  File \"/tmp/ipykernel_38777/4091589858.py\", line 15, in objective_fun\n",
      "    cnn = build_model(  X.shape[1:], len(np.unique(y)),\n",
      "  File \"/tmp/ipykernel_38777/1167308510.py\", line 27, in build_model\n",
      "    model.add(Conv1D(filters=filters, kernel_size=kernel_size, activation='relu', name=f\"extra_conv_{i}\"))\n",
      "  File \"/home/djanloo/.local/share/virtualenvs/DM2-PeqFRmfa/lib/python3.10/site-packages/tensorflow/python/trackable/base.py\", line 205, in _method_wrapper\n",
      "    result = method(self, *args, **kwargs)\n",
      "  File \"/home/djanloo/.local/share/virtualenvs/DM2-PeqFRmfa/lib/python3.10/site-packages/keras/utils/traceback_utils.py\", line 70, in error_handler\n",
      "    raise e.with_traceback(filtered_tb) from None\n",
      "  File \"/home/djanloo/.local/share/virtualenvs/DM2-PeqFRmfa/lib/python3.10/site-packages/keras/layers/convolutional/base_conv.py\", line 354, in compute_output_shape\n",
      "    raise ValueError(\n",
      "ValueError: One of the dimensions in the output is <= 0 due to downsampling in extra_conv_1. Consider increasing the input size. Received input shape [None, 1, 13] which would produce output shape with a zero or negative value in a dimension.\n",
      "[W 2023-06-26 17:34:05,398] Trial 4 failed with value None.\n"
     ]
    },
    {
     "name": "stdout",
     "output_type": "stream",
     "text": [
      "Running little bitch having n_conv=3, dropout=0.9709823185604265, hidden_nodes=245\n",
      "Running little bitch having n_conv=1, dropout=0.6955830839340889, hidden_nodes=224\n"
     ]
    },
    {
     "name": "stderr",
     "output_type": "stream",
     "text": [
      "[W 2023-06-26 17:34:05,621] Trial 6 failed with parameters: {'n_conv': 3, 'n_hidden': 3, 'hidden_nodes': 245, 'dropout': 0.9709823185604265, 'filters': 10, 'kernel_size': 14, 'batch_size': 37, 'epochs': 74} because of the following error: ValueError('One of the dimensions in the output is <= 0 due to downsampling in extra_conv_0. Consider increasing the input size. Received input shape [None, 10, 10] which would produce output shape with a zero or negative value in a dimension.').\n",
      "Traceback (most recent call last):\n",
      "  File \"/home/djanloo/.local/share/virtualenvs/DM2-PeqFRmfa/lib/python3.10/site-packages/optuna/study/_optimize.py\", line 200, in _run_trial\n",
      "    value_or_values = func(trial)\n",
      "  File \"/tmp/ipykernel_38777/4091589858.py\", line 34, in <lambda>\n",
      "    trial_function = lambda trial: objective_fun(trial,\n",
      "  File \"/tmp/ipykernel_38777/4091589858.py\", line 15, in objective_fun\n",
      "    cnn = build_model(  X.shape[1:], len(np.unique(y)),\n",
      "  File \"/tmp/ipykernel_38777/1167308510.py\", line 27, in build_model\n",
      "    model.add(Conv1D(filters=filters, kernel_size=kernel_size, activation='relu', name=f\"extra_conv_{i}\"))\n",
      "  File \"/home/djanloo/.local/share/virtualenvs/DM2-PeqFRmfa/lib/python3.10/site-packages/tensorflow/python/trackable/base.py\", line 205, in _method_wrapper\n",
      "    result = method(self, *args, **kwargs)\n",
      "  File \"/home/djanloo/.local/share/virtualenvs/DM2-PeqFRmfa/lib/python3.10/site-packages/keras/utils/traceback_utils.py\", line 70, in error_handler\n",
      "    raise e.with_traceback(filtered_tb) from None\n",
      "  File \"/home/djanloo/.local/share/virtualenvs/DM2-PeqFRmfa/lib/python3.10/site-packages/keras/layers/convolutional/base_conv.py\", line 354, in compute_output_shape\n",
      "    raise ValueError(\n",
      "ValueError: One of the dimensions in the output is <= 0 due to downsampling in extra_conv_0. Consider increasing the input size. Received input shape [None, 10, 10] which would produce output shape with a zero or negative value in a dimension.\n",
      "[W 2023-06-26 17:34:05,626] Trial 6 failed with value None.\n",
      "[W 2023-06-26 17:34:05,697] Trial 7 failed with parameters: {'n_conv': 1, 'n_hidden': 1, 'hidden_nodes': 224, 'dropout': 0.6955830839340889, 'filters': 8, 'kernel_size': 15, 'batch_size': 19, 'epochs': 25} because of the following error: ValueError('One of the dimensions in the output is <= 0 due to downsampling in extra_conv_0. Consider increasing the input size. Received input shape [None, 9, 8] which would produce output shape with a zero or negative value in a dimension.').\n",
      "Traceback (most recent call last):\n",
      "  File \"/home/djanloo/.local/share/virtualenvs/DM2-PeqFRmfa/lib/python3.10/site-packages/optuna/study/_optimize.py\", line 200, in _run_trial\n",
      "    value_or_values = func(trial)\n",
      "  File \"/tmp/ipykernel_38777/4091589858.py\", line 34, in <lambda>\n",
      "    trial_function = lambda trial: objective_fun(trial,\n",
      "  File \"/tmp/ipykernel_38777/4091589858.py\", line 15, in objective_fun\n",
      "    cnn = build_model(  X.shape[1:], len(np.unique(y)),\n",
      "  File \"/tmp/ipykernel_38777/1167308510.py\", line 27, in build_model\n",
      "    model.add(Conv1D(filters=filters, kernel_size=kernel_size, activation='relu', name=f\"extra_conv_{i}\"))\n",
      "  File \"/home/djanloo/.local/share/virtualenvs/DM2-PeqFRmfa/lib/python3.10/site-packages/tensorflow/python/trackable/base.py\", line 205, in _method_wrapper\n",
      "    result = method(self, *args, **kwargs)\n",
      "  File \"/home/djanloo/.local/share/virtualenvs/DM2-PeqFRmfa/lib/python3.10/site-packages/keras/utils/traceback_utils.py\", line 70, in error_handler\n",
      "    raise e.with_traceback(filtered_tb) from None\n",
      "  File \"/home/djanloo/.local/share/virtualenvs/DM2-PeqFRmfa/lib/python3.10/site-packages/keras/layers/convolutional/base_conv.py\", line 354, in compute_output_shape\n",
      "    raise ValueError(\n",
      "ValueError: One of the dimensions in the output is <= 0 due to downsampling in extra_conv_0. Consider increasing the input size. Received input shape [None, 9, 8] which would produce output shape with a zero or negative value in a dimension.\n",
      "[W 2023-06-26 17:34:05,707] Trial 7 failed with value None.\n"
     ]
    },
    {
     "name": "stdout",
     "output_type": "stream",
     "text": [
      "Running little bitch having n_conv=0, dropout=0.11221847257812934, hidden_nodes=90\n",
      "Running little bitch having n_conv=2, dropout=0.7332502917342925, hidden_nodes=199\n",
      "13/13 [==============================] - 1s 8ms/step\n"
     ]
    },
    {
     "name": "stderr",
     "output_type": "stream",
     "text": [
      "[I 2023-06-26 17:34:22,889] Trial 0 finished with value: 0.9457364341085271 and parameters: {'n_conv': 1, 'n_hidden': 0, 'hidden_nodes': 198, 'dropout': 0.9067288246196787, 'filters': 5, 'kernel_size': 8, 'batch_size': 60, 'epochs': 22}. Best is trial 0 with value: 0.9457364341085271.\n"
     ]
    },
    {
     "name": "stdout",
     "output_type": "stream",
     "text": [
      "Running little bitch having n_conv=2, dropout=0.9787214197782138, hidden_nodes=122\n"
     ]
    },
    {
     "name": "stderr",
     "output_type": "stream",
     "text": [
      "[W 2023-06-26 17:34:23,164] Trial 10 failed with parameters: {'n_conv': 2, 'n_hidden': 3, 'hidden_nodes': 122, 'dropout': 0.9787214197782138, 'filters': 13, 'kernel_size': 15, 'batch_size': 54, 'epochs': 26} because of the following error: ValueError('One of the dimensions in the output is <= 0 due to downsampling in extra_conv_0. Consider increasing the input size. Received input shape [None, 9, 13] which would produce output shape with a zero or negative value in a dimension.').\n",
      "Traceback (most recent call last):\n",
      "  File \"/home/djanloo/.local/share/virtualenvs/DM2-PeqFRmfa/lib/python3.10/site-packages/optuna/study/_optimize.py\", line 200, in _run_trial\n",
      "    value_or_values = func(trial)\n",
      "  File \"/tmp/ipykernel_38777/4091589858.py\", line 34, in <lambda>\n",
      "    trial_function = lambda trial: objective_fun(trial,\n",
      "  File \"/tmp/ipykernel_38777/4091589858.py\", line 15, in objective_fun\n",
      "    cnn = build_model(  X.shape[1:], len(np.unique(y)),\n",
      "  File \"/tmp/ipykernel_38777/1167308510.py\", line 27, in build_model\n",
      "    model.add(Conv1D(filters=filters, kernel_size=kernel_size, activation='relu', name=f\"extra_conv_{i}\"))\n",
      "  File \"/home/djanloo/.local/share/virtualenvs/DM2-PeqFRmfa/lib/python3.10/site-packages/tensorflow/python/trackable/base.py\", line 205, in _method_wrapper\n",
      "    result = method(self, *args, **kwargs)\n",
      "  File \"/home/djanloo/.local/share/virtualenvs/DM2-PeqFRmfa/lib/python3.10/site-packages/keras/utils/traceback_utils.py\", line 70, in error_handler\n",
      "    raise e.with_traceback(filtered_tb) from None\n",
      "  File \"/home/djanloo/.local/share/virtualenvs/DM2-PeqFRmfa/lib/python3.10/site-packages/keras/layers/convolutional/base_conv.py\", line 354, in compute_output_shape\n",
      "    raise ValueError(\n",
      "ValueError: One of the dimensions in the output is <= 0 due to downsampling in extra_conv_0. Consider increasing the input size. Received input shape [None, 9, 13] which would produce output shape with a zero or negative value in a dimension.\n",
      "[W 2023-06-26 17:34:23,173] Trial 10 failed with value None.\n"
     ]
    },
    {
     "name": "stdout",
     "output_type": "stream",
     "text": [
      "Running little bitch having n_conv=3, dropout=0.47331750878277157, hidden_nodes=131\n"
     ]
    },
    {
     "name": "stderr",
     "output_type": "stream",
     "text": [
      "[W 2023-06-26 17:34:23,623] Trial 11 failed with parameters: {'n_conv': 3, 'n_hidden': 3, 'hidden_nodes': 131, 'dropout': 0.47331750878277157, 'filters': 8, 'kernel_size': 12, 'batch_size': 58, 'epochs': 50} because of the following error: ValueError('One of the dimensions in the output is <= 0 due to downsampling in extra_conv_1. Consider increasing the input size. Received input shape [None, 1, 8] which would produce output shape with a zero or negative value in a dimension.').\n",
      "Traceback (most recent call last):\n",
      "  File \"/home/djanloo/.local/share/virtualenvs/DM2-PeqFRmfa/lib/python3.10/site-packages/optuna/study/_optimize.py\", line 200, in _run_trial\n",
      "    value_or_values = func(trial)\n",
      "  File \"/tmp/ipykernel_38777/4091589858.py\", line 34, in <lambda>\n",
      "    trial_function = lambda trial: objective_fun(trial,\n",
      "  File \"/tmp/ipykernel_38777/4091589858.py\", line 15, in objective_fun\n",
      "    cnn = build_model(  X.shape[1:], len(np.unique(y)),\n",
      "  File \"/tmp/ipykernel_38777/1167308510.py\", line 27, in build_model\n",
      "    model.add(Conv1D(filters=filters, kernel_size=kernel_size, activation='relu', name=f\"extra_conv_{i}\"))\n",
      "  File \"/home/djanloo/.local/share/virtualenvs/DM2-PeqFRmfa/lib/python3.10/site-packages/tensorflow/python/trackable/base.py\", line 205, in _method_wrapper\n",
      "    result = method(self, *args, **kwargs)\n",
      "  File \"/home/djanloo/.local/share/virtualenvs/DM2-PeqFRmfa/lib/python3.10/site-packages/keras/utils/traceback_utils.py\", line 70, in error_handler\n",
      "    raise e.with_traceback(filtered_tb) from None\n",
      "  File \"/home/djanloo/.local/share/virtualenvs/DM2-PeqFRmfa/lib/python3.10/site-packages/keras/layers/convolutional/base_conv.py\", line 354, in compute_output_shape\n",
      "    raise ValueError(\n",
      "ValueError: One of the dimensions in the output is <= 0 due to downsampling in extra_conv_1. Consider increasing the input size. Received input shape [None, 1, 8] which would produce output shape with a zero or negative value in a dimension.\n",
      "[W 2023-06-26 17:34:23,631] Trial 11 failed with value None.\n"
     ]
    },
    {
     "name": "stdout",
     "output_type": "stream",
     "text": [
      "Running little bitch having n_conv=2, dropout=0.18792287726472923, hidden_nodes=89\n"
     ]
    },
    {
     "name": "stderr",
     "output_type": "stream",
     "text": [
      "[W 2023-06-26 17:34:23,907] Trial 12 failed with parameters: {'n_conv': 2, 'n_hidden': 1, 'hidden_nodes': 89, 'dropout': 0.18792287726472923, 'filters': 9, 'kernel_size': 15, 'batch_size': 34, 'epochs': 70} because of the following error: ValueError('One of the dimensions in the output is <= 0 due to downsampling in extra_conv_0. Consider increasing the input size. Received input shape [None, 9, 9] which would produce output shape with a zero or negative value in a dimension.').\n",
      "Traceback (most recent call last):\n",
      "  File \"/home/djanloo/.local/share/virtualenvs/DM2-PeqFRmfa/lib/python3.10/site-packages/optuna/study/_optimize.py\", line 200, in _run_trial\n",
      "    value_or_values = func(trial)\n",
      "  File \"/tmp/ipykernel_38777/4091589858.py\", line 34, in <lambda>\n",
      "    trial_function = lambda trial: objective_fun(trial,\n",
      "  File \"/tmp/ipykernel_38777/4091589858.py\", line 15, in objective_fun\n",
      "    cnn = build_model(  X.shape[1:], len(np.unique(y)),\n",
      "  File \"/tmp/ipykernel_38777/1167308510.py\", line 27, in build_model\n",
      "    model.add(Conv1D(filters=filters, kernel_size=kernel_size, activation='relu', name=f\"extra_conv_{i}\"))\n",
      "  File \"/home/djanloo/.local/share/virtualenvs/DM2-PeqFRmfa/lib/python3.10/site-packages/tensorflow/python/trackable/base.py\", line 205, in _method_wrapper\n",
      "    result = method(self, *args, **kwargs)\n",
      "  File \"/home/djanloo/.local/share/virtualenvs/DM2-PeqFRmfa/lib/python3.10/site-packages/keras/utils/traceback_utils.py\", line 70, in error_handler\n",
      "    raise e.with_traceback(filtered_tb) from None\n",
      "  File \"/home/djanloo/.local/share/virtualenvs/DM2-PeqFRmfa/lib/python3.10/site-packages/keras/layers/convolutional/base_conv.py\", line 354, in compute_output_shape\n",
      "    raise ValueError(\n",
      "ValueError: One of the dimensions in the output is <= 0 due to downsampling in extra_conv_0. Consider increasing the input size. Received input shape [None, 9, 9] which would produce output shape with a zero or negative value in a dimension.\n",
      "[W 2023-06-26 17:34:23,914] Trial 12 failed with value None.\n"
     ]
    },
    {
     "name": "stdout",
     "output_type": "stream",
     "text": [
      "Running little bitch having n_conv=2, dropout=0.6442948475596868, hidden_nodes=110\n"
     ]
    },
    {
     "name": "stderr",
     "output_type": "stream",
     "text": [
      "[W 2023-06-26 17:34:24,187] Trial 13 failed with parameters: {'n_conv': 2, 'n_hidden': 3, 'hidden_nodes': 110, 'dropout': 0.6442948475596868, 'filters': 6, 'kernel_size': 16, 'batch_size': 23, 'epochs': 74} because of the following error: ValueError('One of the dimensions in the output is <= 0 due to downsampling in extra_conv_0. Consider increasing the input size. Received input shape [None, 8, 6] which would produce output shape with a zero or negative value in a dimension.').\n",
      "Traceback (most recent call last):\n",
      "  File \"/home/djanloo/.local/share/virtualenvs/DM2-PeqFRmfa/lib/python3.10/site-packages/optuna/study/_optimize.py\", line 200, in _run_trial\n",
      "    value_or_values = func(trial)\n",
      "  File \"/tmp/ipykernel_38777/4091589858.py\", line 34, in <lambda>\n",
      "    trial_function = lambda trial: objective_fun(trial,\n",
      "  File \"/tmp/ipykernel_38777/4091589858.py\", line 15, in objective_fun\n",
      "    cnn = build_model(  X.shape[1:], len(np.unique(y)),\n",
      "  File \"/tmp/ipykernel_38777/1167308510.py\", line 27, in build_model\n",
      "    model.add(Conv1D(filters=filters, kernel_size=kernel_size, activation='relu', name=f\"extra_conv_{i}\"))\n",
      "  File \"/home/djanloo/.local/share/virtualenvs/DM2-PeqFRmfa/lib/python3.10/site-packages/tensorflow/python/trackable/base.py\", line 205, in _method_wrapper\n",
      "    result = method(self, *args, **kwargs)\n",
      "  File \"/home/djanloo/.local/share/virtualenvs/DM2-PeqFRmfa/lib/python3.10/site-packages/keras/utils/traceback_utils.py\", line 70, in error_handler\n",
      "    raise e.with_traceback(filtered_tb) from None\n",
      "  File \"/home/djanloo/.local/share/virtualenvs/DM2-PeqFRmfa/lib/python3.10/site-packages/keras/layers/convolutional/base_conv.py\", line 354, in compute_output_shape\n",
      "    raise ValueError(\n",
      "ValueError: One of the dimensions in the output is <= 0 due to downsampling in extra_conv_0. Consider increasing the input size. Received input shape [None, 8, 6] which would produce output shape with a zero or negative value in a dimension.\n",
      "[W 2023-06-26 17:34:24,190] Trial 13 failed with value None.\n"
     ]
    },
    {
     "name": "stdout",
     "output_type": "stream",
     "text": [
      "Running little bitch having n_conv=1, dropout=0.24615992457863434, hidden_nodes=84\n",
      "13/13 [==============================] - 1s 11ms/step\n"
     ]
    },
    {
     "name": "stderr",
     "output_type": "stream",
     "text": [
      "[I 2023-06-26 17:34:32,712] Trial 9 finished with value: 0.9509043927648578 and parameters: {'n_conv': 2, 'n_hidden': 1, 'hidden_nodes': 199, 'dropout': 0.7332502917342925, 'filters': 14, 'kernel_size': 4, 'batch_size': 34, 'epochs': 14}. Best is trial 9 with value: 0.9509043927648578.\n"
     ]
    },
    {
     "name": "stdout",
     "output_type": "stream",
     "text": [
      "Running little bitch having n_conv=1, dropout=0.5706693489981097, hidden_nodes=195\n",
      "13/13 [==============================] - 0s 7ms/step\n"
     ]
    },
    {
     "name": "stderr",
     "output_type": "stream",
     "text": [
      "[I 2023-06-26 17:34:39,053] Trial 8 finished with value: 0.979328165374677 and parameters: {'n_conv': 0, 'n_hidden': 3, 'hidden_nodes': 90, 'dropout': 0.11221847257812934, 'filters': 9, 'kernel_size': 13, 'batch_size': 63, 'epochs': 79}. Best is trial 8 with value: 0.979328165374677.\n"
     ]
    },
    {
     "name": "stdout",
     "output_type": "stream",
     "text": [
      "Running little bitch having n_conv=3, dropout=0.7904650708980957, hidden_nodes=13\n"
     ]
    },
    {
     "name": "stderr",
     "output_type": "stream",
     "text": [
      "[W 2023-06-26 17:34:39,609] Trial 16 failed with parameters: {'n_conv': 3, 'n_hidden': 2, 'hidden_nodes': 13, 'dropout': 0.7904650708980957, 'filters': 14, 'kernel_size': 7, 'batch_size': 24, 'epochs': 34} because of the following error: ValueError('One of the dimensions in the output is <= 0 due to downsampling in extra_conv_2. Consider increasing the input size. Received input shape [None, 5, 14] which would produce output shape with a zero or negative value in a dimension.').\n",
      "Traceback (most recent call last):\n",
      "  File \"/home/djanloo/.local/share/virtualenvs/DM2-PeqFRmfa/lib/python3.10/site-packages/optuna/study/_optimize.py\", line 200, in _run_trial\n",
      "    value_or_values = func(trial)\n",
      "  File \"/tmp/ipykernel_38777/4091589858.py\", line 34, in <lambda>\n",
      "    trial_function = lambda trial: objective_fun(trial,\n",
      "  File \"/tmp/ipykernel_38777/4091589858.py\", line 15, in objective_fun\n",
      "    cnn = build_model(  X.shape[1:], len(np.unique(y)),\n",
      "  File \"/tmp/ipykernel_38777/1167308510.py\", line 27, in build_model\n",
      "    model.add(Conv1D(filters=filters, kernel_size=kernel_size, activation='relu', name=f\"extra_conv_{i}\"))\n",
      "  File \"/home/djanloo/.local/share/virtualenvs/DM2-PeqFRmfa/lib/python3.10/site-packages/tensorflow/python/trackable/base.py\", line 205, in _method_wrapper\n",
      "    result = method(self, *args, **kwargs)\n",
      "  File \"/home/djanloo/.local/share/virtualenvs/DM2-PeqFRmfa/lib/python3.10/site-packages/keras/utils/traceback_utils.py\", line 70, in error_handler\n",
      "    raise e.with_traceback(filtered_tb) from None\n",
      "  File \"/home/djanloo/.local/share/virtualenvs/DM2-PeqFRmfa/lib/python3.10/site-packages/keras/layers/convolutional/base_conv.py\", line 354, in compute_output_shape\n",
      "    raise ValueError(\n",
      "ValueError: One of the dimensions in the output is <= 0 due to downsampling in extra_conv_2. Consider increasing the input size. Received input shape [None, 5, 14] which would produce output shape with a zero or negative value in a dimension.\n",
      "[W 2023-06-26 17:34:39,618] Trial 16 failed with value None.\n"
     ]
    },
    {
     "name": "stdout",
     "output_type": "stream",
     "text": [
      "Running little bitch having n_conv=3, dropout=0.7797362366804346, hidden_nodes=40\n"
     ]
    },
    {
     "name": "stderr",
     "output_type": "stream",
     "text": [
      "[W 2023-06-26 17:34:39,986] Trial 17 failed with parameters: {'n_conv': 3, 'n_hidden': 2, 'hidden_nodes': 40, 'dropout': 0.7797362366804346, 'filters': 8, 'kernel_size': 12, 'batch_size': 41, 'epochs': 43} because of the following error: ValueError('One of the dimensions in the output is <= 0 due to downsampling in extra_conv_1. Consider increasing the input size. Received input shape [None, 1, 8] which would produce output shape with a zero or negative value in a dimension.').\n",
      "Traceback (most recent call last):\n",
      "  File \"/home/djanloo/.local/share/virtualenvs/DM2-PeqFRmfa/lib/python3.10/site-packages/optuna/study/_optimize.py\", line 200, in _run_trial\n",
      "    value_or_values = func(trial)\n",
      "  File \"/tmp/ipykernel_38777/4091589858.py\", line 34, in <lambda>\n",
      "    trial_function = lambda trial: objective_fun(trial,\n",
      "  File \"/tmp/ipykernel_38777/4091589858.py\", line 15, in objective_fun\n",
      "    cnn = build_model(  X.shape[1:], len(np.unique(y)),\n",
      "  File \"/tmp/ipykernel_38777/1167308510.py\", line 27, in build_model\n",
      "    model.add(Conv1D(filters=filters, kernel_size=kernel_size, activation='relu', name=f\"extra_conv_{i}\"))\n",
      "  File \"/home/djanloo/.local/share/virtualenvs/DM2-PeqFRmfa/lib/python3.10/site-packages/tensorflow/python/trackable/base.py\", line 205, in _method_wrapper\n",
      "    result = method(self, *args, **kwargs)\n",
      "  File \"/home/djanloo/.local/share/virtualenvs/DM2-PeqFRmfa/lib/python3.10/site-packages/keras/utils/traceback_utils.py\", line 70, in error_handler\n",
      "    raise e.with_traceback(filtered_tb) from None\n",
      "  File \"/home/djanloo/.local/share/virtualenvs/DM2-PeqFRmfa/lib/python3.10/site-packages/keras/layers/convolutional/base_conv.py\", line 354, in compute_output_shape\n",
      "    raise ValueError(\n",
      "ValueError: One of the dimensions in the output is <= 0 due to downsampling in extra_conv_1. Consider increasing the input size. Received input shape [None, 1, 8] which would produce output shape with a zero or negative value in a dimension.\n",
      "[W 2023-06-26 17:34:39,992] Trial 17 failed with value None.\n"
     ]
    },
    {
     "name": "stdout",
     "output_type": "stream",
     "text": [
      "Running little bitch having n_conv=0, dropout=0.7551505122785813, hidden_nodes=83\n",
      "13/13 [==============================] - 1s 13ms/step\n"
     ]
    },
    {
     "name": "stderr",
     "output_type": "stream",
     "text": [
      "[I 2023-06-26 17:34:42,810] Trial 2 finished with value: 0.9638242894056848 and parameters: {'n_conv': 2, 'n_hidden': 2, 'hidden_nodes': 229, 'dropout': 0.4661733742787627, 'filters': 14, 'kernel_size': 4, 'batch_size': 40, 'epochs': 23}. Best is trial 8 with value: 0.979328165374677.\n"
     ]
    },
    {
     "name": "stdout",
     "output_type": "stream",
     "text": [
      "Running little bitch having n_conv=3, dropout=0.09912034138330994, hidden_nodes=123\n",
      "13/13 [==============================] - 1s 11ms/step\n"
     ]
    },
    {
     "name": "stderr",
     "output_type": "stream",
     "text": [
      "[I 2023-06-26 17:34:55,258] Trial 14 finished with value: 0.9664082687338501 and parameters: {'n_conv': 1, 'n_hidden': 0, 'hidden_nodes': 84, 'dropout': 0.24615992457863434, 'filters': 11, 'kernel_size': 12, 'batch_size': 38, 'epochs': 33}. Best is trial 8 with value: 0.979328165374677.\n"
     ]
    },
    {
     "name": "stdout",
     "output_type": "stream",
     "text": [
      "Running little bitch having n_conv=2, dropout=0.5544246795576697, hidden_nodes=96\n",
      "13/13 [==============================] - 1s 11ms/step\n"
     ]
    },
    {
     "name": "stderr",
     "output_type": "stream",
     "text": [
      "[I 2023-06-26 17:34:57,207] Trial 18 finished with value: 0.8630490956072352 and parameters: {'n_conv': 0, 'n_hidden': 2, 'hidden_nodes': 83, 'dropout': 0.7551505122785813, 'filters': 13, 'kernel_size': 2, 'batch_size': 37, 'epochs': 19}. Best is trial 8 with value: 0.979328165374677.\n"
     ]
    },
    {
     "name": "stdout",
     "output_type": "stream",
     "text": [
      "Running little bitch having n_conv=0, dropout=0.9239450548135527, hidden_nodes=165\n",
      "13/13 [==============================] - 1s 11ms/step\n"
     ]
    },
    {
     "name": "stderr",
     "output_type": "stream",
     "text": [
      "[I 2023-06-26 17:35:12,254] Trial 21 finished with value: 0.9457364341085271 and parameters: {'n_conv': 0, 'n_hidden': 1, 'hidden_nodes': 165, 'dropout': 0.9239450548135527, 'filters': 9, 'kernel_size': 4, 'batch_size': 26, 'epochs': 12}. Best is trial 8 with value: 0.979328165374677.\n"
     ]
    },
    {
     "name": "stdout",
     "output_type": "stream",
     "text": [
      "Running little bitch having n_conv=2, dropout=0.669957742404931, hidden_nodes=146\n"
     ]
    },
    {
     "name": "stderr",
     "output_type": "stream",
     "text": [
      "[W 2023-06-26 17:35:12,536] Trial 22 failed with parameters: {'n_conv': 2, 'n_hidden': 0, 'hidden_nodes': 146, 'dropout': 0.669957742404931, 'filters': 13, 'kernel_size': 15, 'batch_size': 44, 'epochs': 17} because of the following error: ValueError('One of the dimensions in the output is <= 0 due to downsampling in extra_conv_0. Consider increasing the input size. Received input shape [None, 9, 13] which would produce output shape with a zero or negative value in a dimension.').\n",
      "Traceback (most recent call last):\n",
      "  File \"/home/djanloo/.local/share/virtualenvs/DM2-PeqFRmfa/lib/python3.10/site-packages/optuna/study/_optimize.py\", line 200, in _run_trial\n",
      "    value_or_values = func(trial)\n",
      "  File \"/tmp/ipykernel_38777/4091589858.py\", line 34, in <lambda>\n",
      "    trial_function = lambda trial: objective_fun(trial,\n",
      "  File \"/tmp/ipykernel_38777/4091589858.py\", line 15, in objective_fun\n",
      "    cnn = build_model(  X.shape[1:], len(np.unique(y)),\n",
      "  File \"/tmp/ipykernel_38777/1167308510.py\", line 27, in build_model\n",
      "    model.add(Conv1D(filters=filters, kernel_size=kernel_size, activation='relu', name=f\"extra_conv_{i}\"))\n",
      "  File \"/home/djanloo/.local/share/virtualenvs/DM2-PeqFRmfa/lib/python3.10/site-packages/tensorflow/python/trackable/base.py\", line 205, in _method_wrapper\n",
      "    result = method(self, *args, **kwargs)\n",
      "  File \"/home/djanloo/.local/share/virtualenvs/DM2-PeqFRmfa/lib/python3.10/site-packages/keras/utils/traceback_utils.py\", line 70, in error_handler\n",
      "    raise e.with_traceback(filtered_tb) from None\n",
      "  File \"/home/djanloo/.local/share/virtualenvs/DM2-PeqFRmfa/lib/python3.10/site-packages/keras/layers/convolutional/base_conv.py\", line 354, in compute_output_shape\n",
      "    raise ValueError(\n",
      "ValueError: One of the dimensions in the output is <= 0 due to downsampling in extra_conv_0. Consider increasing the input size. Received input shape [None, 9, 13] which would produce output shape with a zero or negative value in a dimension.\n",
      "[W 2023-06-26 17:35:12,543] Trial 22 failed with value None.\n"
     ]
    },
    {
     "name": "stdout",
     "output_type": "stream",
     "text": [
      "Running little bitch having n_conv=3, dropout=0.7639955832333076, hidden_nodes=176\n"
     ]
    },
    {
     "name": "stderr",
     "output_type": "stream",
     "text": [
      "[W 2023-06-26 17:35:13,028] Trial 23 failed with parameters: {'n_conv': 3, 'n_hidden': 0, 'hidden_nodes': 176, 'dropout': 0.7639955832333076, 'filters': 10, 'kernel_size': 10, 'batch_size': 51, 'epochs': 7} because of the following error: ValueError('One of the dimensions in the output is <= 0 due to downsampling in extra_conv_1. Consider increasing the input size. Received input shape [None, 5, 10] which would produce output shape with a zero or negative value in a dimension.').\n",
      "Traceback (most recent call last):\n",
      "  File \"/home/djanloo/.local/share/virtualenvs/DM2-PeqFRmfa/lib/python3.10/site-packages/optuna/study/_optimize.py\", line 200, in _run_trial\n",
      "    value_or_values = func(trial)\n",
      "  File \"/tmp/ipykernel_38777/4091589858.py\", line 34, in <lambda>\n",
      "    trial_function = lambda trial: objective_fun(trial,\n",
      "  File \"/tmp/ipykernel_38777/4091589858.py\", line 15, in objective_fun\n",
      "    cnn = build_model(  X.shape[1:], len(np.unique(y)),\n",
      "  File \"/tmp/ipykernel_38777/1167308510.py\", line 27, in build_model\n",
      "    model.add(Conv1D(filters=filters, kernel_size=kernel_size, activation='relu', name=f\"extra_conv_{i}\"))\n",
      "  File \"/home/djanloo/.local/share/virtualenvs/DM2-PeqFRmfa/lib/python3.10/site-packages/tensorflow/python/trackable/base.py\", line 205, in _method_wrapper\n",
      "    result = method(self, *args, **kwargs)\n",
      "  File \"/home/djanloo/.local/share/virtualenvs/DM2-PeqFRmfa/lib/python3.10/site-packages/keras/utils/traceback_utils.py\", line 70, in error_handler\n",
      "    raise e.with_traceback(filtered_tb) from None\n",
      "  File \"/home/djanloo/.local/share/virtualenvs/DM2-PeqFRmfa/lib/python3.10/site-packages/keras/layers/convolutional/base_conv.py\", line 354, in compute_output_shape\n",
      "    raise ValueError(\n",
      "ValueError: One of the dimensions in the output is <= 0 due to downsampling in extra_conv_1. Consider increasing the input size. Received input shape [None, 5, 10] which would produce output shape with a zero or negative value in a dimension.\n",
      "[W 2023-06-26 17:35:13,037] Trial 23 failed with value None.\n"
     ]
    },
    {
     "name": "stdout",
     "output_type": "stream",
     "text": [
      "Running little bitch having n_conv=1, dropout=0.8182491376217416, hidden_nodes=19\n",
      "13/13 [==============================] - 1s 9ms/step\n"
     ]
    },
    {
     "name": "stderr",
     "output_type": "stream",
     "text": [
      "[I 2023-06-26 17:35:14,515] Trial 15 finished with value: 0.937984496124031 and parameters: {'n_conv': 1, 'n_hidden': 3, 'hidden_nodes': 195, 'dropout': 0.5706693489981097, 'filters': 3, 'kernel_size': 6, 'batch_size': 39, 'epochs': 59}. Best is trial 8 with value: 0.979328165374677.\n"
     ]
    },
    {
     "name": "stdout",
     "output_type": "stream",
     "text": [
      "Running little bitch having n_conv=2, dropout=0.11758425550318652, hidden_nodes=22\n",
      "13/13 [==============================] - 1s 7ms/step\n"
     ]
    },
    {
     "name": "stderr",
     "output_type": "stream",
     "text": [
      "[I 2023-06-26 17:35:39,148] Trial 24 finished with value: 0.9638242894056848 and parameters: {'n_conv': 1, 'n_hidden': 3, 'hidden_nodes': 19, 'dropout': 0.8182491376217416, 'filters': 6, 'kernel_size': 9, 'batch_size': 51, 'epochs': 34}. Best is trial 8 with value: 0.979328165374677.\n"
     ]
    },
    {
     "name": "stdout",
     "output_type": "stream",
     "text": [
      "Running little bitch having n_conv=1, dropout=0.41740692526218137, hidden_nodes=31\n",
      "13/13 [==============================] - 1s 11ms/step\n"
     ]
    },
    {
     "name": "stderr",
     "output_type": "stream",
     "text": [
      "[I 2023-06-26 17:35:42,441] Trial 19 finished with value: 0.937984496124031 and parameters: {'n_conv': 3, 'n_hidden': 1, 'hidden_nodes': 123, 'dropout': 0.09912034138330994, 'filters': 2, 'kernel_size': 5, 'batch_size': 50, 'epochs': 76}. Best is trial 8 with value: 0.979328165374677.\n"
     ]
    },
    {
     "name": "stdout",
     "output_type": "stream",
     "text": [
      "Running little bitch having n_conv=0, dropout=0.013196311121722148, hidden_nodes=18\n",
      "13/13 [==============================] - 1s 10ms/step\n"
     ]
    },
    {
     "name": "stderr",
     "output_type": "stream",
     "text": [
      "[I 2023-06-26 17:35:54,308] Trial 20 finished with value: 0.9870801033591732 and parameters: {'n_conv': 2, 'n_hidden': 1, 'hidden_nodes': 96, 'dropout': 0.5544246795576697, 'filters': 9, 'kernel_size': 7, 'batch_size': 18, 'epochs': 48}. Best is trial 20 with value: 0.9870801033591732.\n"
     ]
    },
    {
     "name": "stdout",
     "output_type": "stream",
     "text": [
      "Running little bitch having n_conv=3, dropout=0.06083857869725019, hidden_nodes=65\n"
     ]
    },
    {
     "name": "stderr",
     "output_type": "stream",
     "text": [
      "[W 2023-06-26 17:35:54,738] Trial 28 failed with parameters: {'n_conv': 3, 'n_hidden': 2, 'hidden_nodes': 65, 'dropout': 0.06083857869725019, 'filters': 9, 'kernel_size': 16, 'batch_size': 17, 'epochs': 88} because of the following error: ValueError('One of the dimensions in the output is <= 0 due to downsampling in extra_conv_0. Consider increasing the input size. Received input shape [None, 8, 9] which would produce output shape with a zero or negative value in a dimension.').\n",
      "Traceback (most recent call last):\n",
      "  File \"/home/djanloo/.local/share/virtualenvs/DM2-PeqFRmfa/lib/python3.10/site-packages/optuna/study/_optimize.py\", line 200, in _run_trial\n",
      "    value_or_values = func(trial)\n",
      "  File \"/tmp/ipykernel_38777/4091589858.py\", line 34, in <lambda>\n",
      "    trial_function = lambda trial: objective_fun(trial,\n",
      "  File \"/tmp/ipykernel_38777/4091589858.py\", line 15, in objective_fun\n",
      "    cnn = build_model(  X.shape[1:], len(np.unique(y)),\n",
      "  File \"/tmp/ipykernel_38777/1167308510.py\", line 27, in build_model\n",
      "    model.add(Conv1D(filters=filters, kernel_size=kernel_size, activation='relu', name=f\"extra_conv_{i}\"))\n",
      "  File \"/home/djanloo/.local/share/virtualenvs/DM2-PeqFRmfa/lib/python3.10/site-packages/tensorflow/python/trackable/base.py\", line 205, in _method_wrapper\n",
      "    result = method(self, *args, **kwargs)\n",
      "  File \"/home/djanloo/.local/share/virtualenvs/DM2-PeqFRmfa/lib/python3.10/site-packages/keras/utils/traceback_utils.py\", line 70, in error_handler\n",
      "    raise e.with_traceback(filtered_tb) from None\n",
      "  File \"/home/djanloo/.local/share/virtualenvs/DM2-PeqFRmfa/lib/python3.10/site-packages/keras/layers/convolutional/base_conv.py\", line 354, in compute_output_shape\n",
      "    raise ValueError(\n",
      "ValueError: One of the dimensions in the output is <= 0 due to downsampling in extra_conv_0. Consider increasing the input size. Received input shape [None, 8, 9] which would produce output shape with a zero or negative value in a dimension.\n",
      "[W 2023-06-26 17:35:54,760] Trial 28 failed with value None.\n"
     ]
    },
    {
     "name": "stdout",
     "output_type": "stream",
     "text": [
      "Running little bitch having n_conv=3, dropout=0.005333471813011137, hidden_nodes=61\n"
     ]
    },
    {
     "name": "stderr",
     "output_type": "stream",
     "text": [
      "[W 2023-06-26 17:35:55,126] Trial 29 failed with parameters: {'n_conv': 3, 'n_hidden': 2, 'hidden_nodes': 61, 'dropout': 0.005333471813011137, 'filters': 9, 'kernel_size': 16, 'batch_size': 17, 'epochs': 87} because of the following error: ValueError('One of the dimensions in the output is <= 0 due to downsampling in extra_conv_0. Consider increasing the input size. Received input shape [None, 8, 9] which would produce output shape with a zero or negative value in a dimension.').\n",
      "Traceback (most recent call last):\n",
      "  File \"/home/djanloo/.local/share/virtualenvs/DM2-PeqFRmfa/lib/python3.10/site-packages/optuna/study/_optimize.py\", line 200, in _run_trial\n",
      "    value_or_values = func(trial)\n",
      "  File \"/tmp/ipykernel_38777/4091589858.py\", line 34, in <lambda>\n",
      "    trial_function = lambda trial: objective_fun(trial,\n",
      "  File \"/tmp/ipykernel_38777/4091589858.py\", line 15, in objective_fun\n",
      "    cnn = build_model(  X.shape[1:], len(np.unique(y)),\n",
      "  File \"/tmp/ipykernel_38777/1167308510.py\", line 27, in build_model\n",
      "    model.add(Conv1D(filters=filters, kernel_size=kernel_size, activation='relu', name=f\"extra_conv_{i}\"))\n",
      "  File \"/home/djanloo/.local/share/virtualenvs/DM2-PeqFRmfa/lib/python3.10/site-packages/tensorflow/python/trackable/base.py\", line 205, in _method_wrapper\n",
      "    result = method(self, *args, **kwargs)\n",
      "  File \"/home/djanloo/.local/share/virtualenvs/DM2-PeqFRmfa/lib/python3.10/site-packages/keras/utils/traceback_utils.py\", line 70, in error_handler\n",
      "    raise e.with_traceback(filtered_tb) from None\n",
      "  File \"/home/djanloo/.local/share/virtualenvs/DM2-PeqFRmfa/lib/python3.10/site-packages/keras/layers/convolutional/base_conv.py\", line 354, in compute_output_shape\n",
      "    raise ValueError(\n",
      "ValueError: One of the dimensions in the output is <= 0 due to downsampling in extra_conv_0. Consider increasing the input size. Received input shape [None, 8, 9] which would produce output shape with a zero or negative value in a dimension.\n",
      "[W 2023-06-26 17:35:55,141] Trial 29 failed with value None.\n"
     ]
    },
    {
     "name": "stdout",
     "output_type": "stream",
     "text": [
      "Running little bitch having n_conv=3, dropout=0.02768639495340816, hidden_nodes=52\n"
     ]
    },
    {
     "name": "stderr",
     "output_type": "stream",
     "text": [
      "[W 2023-06-26 17:35:55,510] Trial 30 failed with parameters: {'n_conv': 3, 'n_hidden': 2, 'hidden_nodes': 52, 'dropout': 0.02768639495340816, 'filters': 9, 'kernel_size': 16, 'batch_size': 18, 'epochs': 85} because of the following error: ValueError('One of the dimensions in the output is <= 0 due to downsampling in extra_conv_0. Consider increasing the input size. Received input shape [None, 8, 9] which would produce output shape with a zero or negative value in a dimension.').\n",
      "Traceback (most recent call last):\n",
      "  File \"/home/djanloo/.local/share/virtualenvs/DM2-PeqFRmfa/lib/python3.10/site-packages/optuna/study/_optimize.py\", line 200, in _run_trial\n",
      "    value_or_values = func(trial)\n",
      "  File \"/tmp/ipykernel_38777/4091589858.py\", line 34, in <lambda>\n",
      "    trial_function = lambda trial: objective_fun(trial,\n",
      "  File \"/tmp/ipykernel_38777/4091589858.py\", line 15, in objective_fun\n",
      "    cnn = build_model(  X.shape[1:], len(np.unique(y)),\n",
      "  File \"/tmp/ipykernel_38777/1167308510.py\", line 27, in build_model\n",
      "    model.add(Conv1D(filters=filters, kernel_size=kernel_size, activation='relu', name=f\"extra_conv_{i}\"))\n",
      "  File \"/home/djanloo/.local/share/virtualenvs/DM2-PeqFRmfa/lib/python3.10/site-packages/tensorflow/python/trackable/base.py\", line 205, in _method_wrapper\n",
      "    result = method(self, *args, **kwargs)\n",
      "  File \"/home/djanloo/.local/share/virtualenvs/DM2-PeqFRmfa/lib/python3.10/site-packages/keras/utils/traceback_utils.py\", line 70, in error_handler\n",
      "    raise e.with_traceback(filtered_tb) from None\n",
      "  File \"/home/djanloo/.local/share/virtualenvs/DM2-PeqFRmfa/lib/python3.10/site-packages/keras/layers/convolutional/base_conv.py\", line 354, in compute_output_shape\n",
      "    raise ValueError(\n",
      "ValueError: One of the dimensions in the output is <= 0 due to downsampling in extra_conv_0. Consider increasing the input size. Received input shape [None, 8, 9] which would produce output shape with a zero or negative value in a dimension.\n",
      "[W 2023-06-26 17:35:55,516] Trial 30 failed with value None.\n"
     ]
    },
    {
     "name": "stdout",
     "output_type": "stream",
     "text": [
      "Running little bitch having n_conv=3, dropout=0.0048495694715049165, hidden_nodes=58\n"
     ]
    },
    {
     "name": "stderr",
     "output_type": "stream",
     "text": [
      "[W 2023-06-26 17:35:55,945] Trial 31 failed with parameters: {'n_conv': 3, 'n_hidden': 2, 'hidden_nodes': 58, 'dropout': 0.0048495694715049165, 'filters': 9, 'kernel_size': 16, 'batch_size': 16, 'epochs': 81} because of the following error: ValueError('One of the dimensions in the output is <= 0 due to downsampling in extra_conv_0. Consider increasing the input size. Received input shape [None, 8, 9] which would produce output shape with a zero or negative value in a dimension.').\n",
      "Traceback (most recent call last):\n",
      "  File \"/home/djanloo/.local/share/virtualenvs/DM2-PeqFRmfa/lib/python3.10/site-packages/optuna/study/_optimize.py\", line 200, in _run_trial\n",
      "    value_or_values = func(trial)\n",
      "  File \"/tmp/ipykernel_38777/4091589858.py\", line 34, in <lambda>\n",
      "    trial_function = lambda trial: objective_fun(trial,\n",
      "  File \"/tmp/ipykernel_38777/4091589858.py\", line 15, in objective_fun\n",
      "    cnn = build_model(  X.shape[1:], len(np.unique(y)),\n",
      "  File \"/tmp/ipykernel_38777/1167308510.py\", line 27, in build_model\n",
      "    model.add(Conv1D(filters=filters, kernel_size=kernel_size, activation='relu', name=f\"extra_conv_{i}\"))\n",
      "  File \"/home/djanloo/.local/share/virtualenvs/DM2-PeqFRmfa/lib/python3.10/site-packages/tensorflow/python/trackable/base.py\", line 205, in _method_wrapper\n",
      "    result = method(self, *args, **kwargs)\n",
      "  File \"/home/djanloo/.local/share/virtualenvs/DM2-PeqFRmfa/lib/python3.10/site-packages/keras/utils/traceback_utils.py\", line 70, in error_handler\n",
      "    raise e.with_traceback(filtered_tb) from None\n",
      "  File \"/home/djanloo/.local/share/virtualenvs/DM2-PeqFRmfa/lib/python3.10/site-packages/keras/layers/convolutional/base_conv.py\", line 354, in compute_output_shape\n",
      "    raise ValueError(\n",
      "ValueError: One of the dimensions in the output is <= 0 due to downsampling in extra_conv_0. Consider increasing the input size. Received input shape [None, 8, 9] which would produce output shape with a zero or negative value in a dimension.\n",
      "[W 2023-06-26 17:35:55,949] Trial 31 failed with value None.\n"
     ]
    },
    {
     "name": "stdout",
     "output_type": "stream",
     "text": [
      "Running little bitch having n_conv=3, dropout=0.0027039700373930192, hidden_nodes=64\n"
     ]
    },
    {
     "name": "stderr",
     "output_type": "stream",
     "text": [
      "[W 2023-06-26 17:35:56,341] Trial 32 failed with parameters: {'n_conv': 3, 'n_hidden': 2, 'hidden_nodes': 64, 'dropout': 0.0027039700373930192, 'filters': 9, 'kernel_size': 16, 'batch_size': 17, 'epochs': 88} because of the following error: ValueError('One of the dimensions in the output is <= 0 due to downsampling in extra_conv_0. Consider increasing the input size. Received input shape [None, 8, 9] which would produce output shape with a zero or negative value in a dimension.').\n",
      "Traceback (most recent call last):\n",
      "  File \"/home/djanloo/.local/share/virtualenvs/DM2-PeqFRmfa/lib/python3.10/site-packages/optuna/study/_optimize.py\", line 200, in _run_trial\n",
      "    value_or_values = func(trial)\n",
      "  File \"/tmp/ipykernel_38777/4091589858.py\", line 34, in <lambda>\n",
      "    trial_function = lambda trial: objective_fun(trial,\n",
      "  File \"/tmp/ipykernel_38777/4091589858.py\", line 15, in objective_fun\n",
      "    cnn = build_model(  X.shape[1:], len(np.unique(y)),\n",
      "  File \"/tmp/ipykernel_38777/1167308510.py\", line 27, in build_model\n",
      "    model.add(Conv1D(filters=filters, kernel_size=kernel_size, activation='relu', name=f\"extra_conv_{i}\"))\n",
      "  File \"/home/djanloo/.local/share/virtualenvs/DM2-PeqFRmfa/lib/python3.10/site-packages/tensorflow/python/trackable/base.py\", line 205, in _method_wrapper\n",
      "    result = method(self, *args, **kwargs)\n",
      "  File \"/home/djanloo/.local/share/virtualenvs/DM2-PeqFRmfa/lib/python3.10/site-packages/keras/utils/traceback_utils.py\", line 70, in error_handler\n",
      "    raise e.with_traceback(filtered_tb) from None\n",
      "  File \"/home/djanloo/.local/share/virtualenvs/DM2-PeqFRmfa/lib/python3.10/site-packages/keras/layers/convolutional/base_conv.py\", line 354, in compute_output_shape\n",
      "    raise ValueError(\n",
      "ValueError: One of the dimensions in the output is <= 0 due to downsampling in extra_conv_0. Consider increasing the input size. Received input shape [None, 8, 9] which would produce output shape with a zero or negative value in a dimension.\n",
      "[W 2023-06-26 17:35:56,348] Trial 32 failed with value None.\n",
      "[W 2023-06-26 17:35:56,675] Trial 33 failed with parameters: {'n_conv': 3, 'n_hidden': 2, 'hidden_nodes': 57, 'dropout': 0.06136565371033953, 'filters': 9, 'kernel_size': 15, 'batch_size': 16, 'epochs': 90} because of the following error: ValueError('One of the dimensions in the output is <= 0 due to downsampling in extra_conv_0. Consider increasing the input size. Received input shape [None, 9, 9] which would produce output shape with a zero or negative value in a dimension.').\n",
      "Traceback (most recent call last):\n",
      "  File \"/home/djanloo/.local/share/virtualenvs/DM2-PeqFRmfa/lib/python3.10/site-packages/optuna/study/_optimize.py\", line 200, in _run_trial\n",
      "    value_or_values = func(trial)\n",
      "  File \"/tmp/ipykernel_38777/4091589858.py\", line 34, in <lambda>\n",
      "    trial_function = lambda trial: objective_fun(trial,\n",
      "  File \"/tmp/ipykernel_38777/4091589858.py\", line 15, in objective_fun\n",
      "    cnn = build_model(  X.shape[1:], len(np.unique(y)),\n",
      "  File \"/tmp/ipykernel_38777/1167308510.py\", line 27, in build_model\n",
      "    model.add(Conv1D(filters=filters, kernel_size=kernel_size, activation='relu', name=f\"extra_conv_{i}\"))\n",
      "  File \"/home/djanloo/.local/share/virtualenvs/DM2-PeqFRmfa/lib/python3.10/site-packages/tensorflow/python/trackable/base.py\", line 205, in _method_wrapper\n",
      "    result = method(self, *args, **kwargs)\n",
      "  File \"/home/djanloo/.local/share/virtualenvs/DM2-PeqFRmfa/lib/python3.10/site-packages/keras/utils/traceback_utils.py\", line 70, in error_handler\n",
      "    raise e.with_traceback(filtered_tb) from None\n",
      "  File \"/home/djanloo/.local/share/virtualenvs/DM2-PeqFRmfa/lib/python3.10/site-packages/keras/layers/convolutional/base_conv.py\", line 354, in compute_output_shape\n",
      "    raise ValueError(\n",
      "ValueError: One of the dimensions in the output is <= 0 due to downsampling in extra_conv_0. Consider increasing the input size. Received input shape [None, 9, 9] which would produce output shape with a zero or negative value in a dimension.\n"
     ]
    },
    {
     "name": "stdout",
     "output_type": "stream",
     "text": [
      "Running little bitch having n_conv=3, dropout=0.06136565371033953, hidden_nodes=57\n"
     ]
    },
    {
     "name": "stderr",
     "output_type": "stream",
     "text": [
      "[W 2023-06-26 17:35:56,684] Trial 33 failed with value None.\n"
     ]
    },
    {
     "name": "stdout",
     "output_type": "stream",
     "text": [
      "Running little bitch having n_conv=3, dropout=0.007119426583798369, hidden_nodes=54\n"
     ]
    },
    {
     "name": "stderr",
     "output_type": "stream",
     "text": [
      "[W 2023-06-26 17:35:57,067] Trial 34 failed with parameters: {'n_conv': 3, 'n_hidden': 2, 'hidden_nodes': 54, 'dropout': 0.007119426583798369, 'filters': 9, 'kernel_size': 15, 'batch_size': 17, 'epochs': 90} because of the following error: ValueError('One of the dimensions in the output is <= 0 due to downsampling in extra_conv_0. Consider increasing the input size. Received input shape [None, 9, 9] which would produce output shape with a zero or negative value in a dimension.').\n",
      "Traceback (most recent call last):\n",
      "  File \"/home/djanloo/.local/share/virtualenvs/DM2-PeqFRmfa/lib/python3.10/site-packages/optuna/study/_optimize.py\", line 200, in _run_trial\n",
      "    value_or_values = func(trial)\n",
      "  File \"/tmp/ipykernel_38777/4091589858.py\", line 34, in <lambda>\n",
      "    trial_function = lambda trial: objective_fun(trial,\n",
      "  File \"/tmp/ipykernel_38777/4091589858.py\", line 15, in objective_fun\n",
      "    cnn = build_model(  X.shape[1:], len(np.unique(y)),\n",
      "  File \"/tmp/ipykernel_38777/1167308510.py\", line 27, in build_model\n",
      "    model.add(Conv1D(filters=filters, kernel_size=kernel_size, activation='relu', name=f\"extra_conv_{i}\"))\n",
      "  File \"/home/djanloo/.local/share/virtualenvs/DM2-PeqFRmfa/lib/python3.10/site-packages/tensorflow/python/trackable/base.py\", line 205, in _method_wrapper\n",
      "    result = method(self, *args, **kwargs)\n",
      "  File \"/home/djanloo/.local/share/virtualenvs/DM2-PeqFRmfa/lib/python3.10/site-packages/keras/utils/traceback_utils.py\", line 70, in error_handler\n",
      "    raise e.with_traceback(filtered_tb) from None\n",
      "  File \"/home/djanloo/.local/share/virtualenvs/DM2-PeqFRmfa/lib/python3.10/site-packages/keras/layers/convolutional/base_conv.py\", line 354, in compute_output_shape\n",
      "    raise ValueError(\n",
      "ValueError: One of the dimensions in the output is <= 0 due to downsampling in extra_conv_0. Consider increasing the input size. Received input shape [None, 9, 9] which would produce output shape with a zero or negative value in a dimension.\n",
      "[W 2023-06-26 17:35:57,074] Trial 34 failed with value None.\n",
      "[W 2023-06-26 17:35:57,476] Trial 35 failed with parameters: {'n_conv': 3, 'n_hidden': 2, 'hidden_nodes': 59, 'dropout': 0.007227718043312015, 'filters': 9, 'kernel_size': 16, 'batch_size': 16, 'epochs': 87} because of the following error: ValueError('One of the dimensions in the output is <= 0 due to downsampling in extra_conv_0. Consider increasing the input size. Received input shape [None, 8, 9] which would produce output shape with a zero or negative value in a dimension.').\n",
      "Traceback (most recent call last):\n",
      "  File \"/home/djanloo/.local/share/virtualenvs/DM2-PeqFRmfa/lib/python3.10/site-packages/optuna/study/_optimize.py\", line 200, in _run_trial\n",
      "    value_or_values = func(trial)\n",
      "  File \"/tmp/ipykernel_38777/4091589858.py\", line 34, in <lambda>\n",
      "    trial_function = lambda trial: objective_fun(trial,\n",
      "  File \"/tmp/ipykernel_38777/4091589858.py\", line 15, in objective_fun\n",
      "    cnn = build_model(  X.shape[1:], len(np.unique(y)),\n",
      "  File \"/tmp/ipykernel_38777/1167308510.py\", line 27, in build_model\n",
      "    model.add(Conv1D(filters=filters, kernel_size=kernel_size, activation='relu', name=f\"extra_conv_{i}\"))\n",
      "  File \"/home/djanloo/.local/share/virtualenvs/DM2-PeqFRmfa/lib/python3.10/site-packages/tensorflow/python/trackable/base.py\", line 205, in _method_wrapper\n",
      "    result = method(self, *args, **kwargs)\n",
      "  File \"/home/djanloo/.local/share/virtualenvs/DM2-PeqFRmfa/lib/python3.10/site-packages/keras/utils/traceback_utils.py\", line 70, in error_handler\n",
      "    raise e.with_traceback(filtered_tb) from None\n",
      "  File \"/home/djanloo/.local/share/virtualenvs/DM2-PeqFRmfa/lib/python3.10/site-packages/keras/layers/convolutional/base_conv.py\", line 354, in compute_output_shape\n",
      "    raise ValueError(\n",
      "ValueError: One of the dimensions in the output is <= 0 due to downsampling in extra_conv_0. Consider increasing the input size. Received input shape [None, 8, 9] which would produce output shape with a zero or negative value in a dimension.\n",
      "[W 2023-06-26 17:35:57,480] Trial 35 failed with value None.\n"
     ]
    },
    {
     "name": "stdout",
     "output_type": "stream",
     "text": [
      "Running little bitch having n_conv=3, dropout=0.007227718043312015, hidden_nodes=59\n",
      "Running little bitch having n_conv=3, dropout=0.004629721463968228, hidden_nodes=50\n"
     ]
    },
    {
     "name": "stderr",
     "output_type": "stream",
     "text": [
      "[W 2023-06-26 17:35:57,880] Trial 36 failed with parameters: {'n_conv': 3, 'n_hidden': 2, 'hidden_nodes': 50, 'dropout': 0.004629721463968228, 'filters': 9, 'kernel_size': 16, 'batch_size': 17, 'epochs': 89} because of the following error: ValueError('One of the dimensions in the output is <= 0 due to downsampling in extra_conv_0. Consider increasing the input size. Received input shape [None, 8, 9] which would produce output shape with a zero or negative value in a dimension.').\n",
      "Traceback (most recent call last):\n",
      "  File \"/home/djanloo/.local/share/virtualenvs/DM2-PeqFRmfa/lib/python3.10/site-packages/optuna/study/_optimize.py\", line 200, in _run_trial\n",
      "    value_or_values = func(trial)\n",
      "  File \"/tmp/ipykernel_38777/4091589858.py\", line 34, in <lambda>\n",
      "    trial_function = lambda trial: objective_fun(trial,\n",
      "  File \"/tmp/ipykernel_38777/4091589858.py\", line 15, in objective_fun\n",
      "    cnn = build_model(  X.shape[1:], len(np.unique(y)),\n",
      "  File \"/tmp/ipykernel_38777/1167308510.py\", line 27, in build_model\n",
      "    model.add(Conv1D(filters=filters, kernel_size=kernel_size, activation='relu', name=f\"extra_conv_{i}\"))\n",
      "  File \"/home/djanloo/.local/share/virtualenvs/DM2-PeqFRmfa/lib/python3.10/site-packages/tensorflow/python/trackable/base.py\", line 205, in _method_wrapper\n",
      "    result = method(self, *args, **kwargs)\n",
      "  File \"/home/djanloo/.local/share/virtualenvs/DM2-PeqFRmfa/lib/python3.10/site-packages/keras/utils/traceback_utils.py\", line 70, in error_handler\n",
      "    raise e.with_traceback(filtered_tb) from None\n",
      "  File \"/home/djanloo/.local/share/virtualenvs/DM2-PeqFRmfa/lib/python3.10/site-packages/keras/layers/convolutional/base_conv.py\", line 354, in compute_output_shape\n",
      "    raise ValueError(\n",
      "ValueError: One of the dimensions in the output is <= 0 due to downsampling in extra_conv_0. Consider increasing the input size. Received input shape [None, 8, 9] which would produce output shape with a zero or negative value in a dimension.\n",
      "[W 2023-06-26 17:35:57,884] Trial 36 failed with value None.\n"
     ]
    },
    {
     "name": "stdout",
     "output_type": "stream",
     "text": [
      "Running little bitch having n_conv=3, dropout=0.0034145865575405665, hidden_nodes=72\n"
     ]
    },
    {
     "name": "stderr",
     "output_type": "stream",
     "text": [
      "[W 2023-06-26 17:35:58,326] Trial 37 failed with parameters: {'n_conv': 3, 'n_hidden': 2, 'hidden_nodes': 72, 'dropout': 0.0034145865575405665, 'filters': 9, 'kernel_size': 14, 'batch_size': 16, 'epochs': 89} because of the following error: ValueError('One of the dimensions in the output is <= 0 due to downsampling in extra_conv_0. Consider increasing the input size. Received input shape [None, 10, 9] which would produce output shape with a zero or negative value in a dimension.').\n",
      "Traceback (most recent call last):\n",
      "  File \"/home/djanloo/.local/share/virtualenvs/DM2-PeqFRmfa/lib/python3.10/site-packages/optuna/study/_optimize.py\", line 200, in _run_trial\n",
      "    value_or_values = func(trial)\n",
      "  File \"/tmp/ipykernel_38777/4091589858.py\", line 34, in <lambda>\n",
      "    trial_function = lambda trial: objective_fun(trial,\n",
      "  File \"/tmp/ipykernel_38777/4091589858.py\", line 15, in objective_fun\n",
      "    cnn = build_model(  X.shape[1:], len(np.unique(y)),\n",
      "  File \"/tmp/ipykernel_38777/1167308510.py\", line 27, in build_model\n",
      "    model.add(Conv1D(filters=filters, kernel_size=kernel_size, activation='relu', name=f\"extra_conv_{i}\"))\n",
      "  File \"/home/djanloo/.local/share/virtualenvs/DM2-PeqFRmfa/lib/python3.10/site-packages/tensorflow/python/trackable/base.py\", line 205, in _method_wrapper\n",
      "    result = method(self, *args, **kwargs)\n",
      "  File \"/home/djanloo/.local/share/virtualenvs/DM2-PeqFRmfa/lib/python3.10/site-packages/keras/utils/traceback_utils.py\", line 70, in error_handler\n",
      "    raise e.with_traceback(filtered_tb) from None\n",
      "  File \"/home/djanloo/.local/share/virtualenvs/DM2-PeqFRmfa/lib/python3.10/site-packages/keras/layers/convolutional/base_conv.py\", line 354, in compute_output_shape\n",
      "    raise ValueError(\n",
      "ValueError: One of the dimensions in the output is <= 0 due to downsampling in extra_conv_0. Consider increasing the input size. Received input shape [None, 10, 9] which would produce output shape with a zero or negative value in a dimension.\n",
      "[W 2023-06-26 17:35:58,334] Trial 37 failed with value None.\n",
      "[W 2023-06-26 17:35:58,722] Trial 38 failed with parameters: {'n_conv': 3, 'n_hidden': 2, 'hidden_nodes': 58, 'dropout': 0.005032495025262124, 'filters': 9, 'kernel_size': 16, 'batch_size': 20, 'epochs': 90} because of the following error: ValueError('One of the dimensions in the output is <= 0 due to downsampling in extra_conv_0. Consider increasing the input size. Received input shape [None, 8, 9] which would produce output shape with a zero or negative value in a dimension.').\n",
      "Traceback (most recent call last):\n",
      "  File \"/home/djanloo/.local/share/virtualenvs/DM2-PeqFRmfa/lib/python3.10/site-packages/optuna/study/_optimize.py\", line 200, in _run_trial\n",
      "    value_or_values = func(trial)\n",
      "  File \"/tmp/ipykernel_38777/4091589858.py\", line 34, in <lambda>\n",
      "    trial_function = lambda trial: objective_fun(trial,\n",
      "  File \"/tmp/ipykernel_38777/4091589858.py\", line 15, in objective_fun\n",
      "    cnn = build_model(  X.shape[1:], len(np.unique(y)),\n",
      "  File \"/tmp/ipykernel_38777/1167308510.py\", line 27, in build_model\n",
      "    model.add(Conv1D(filters=filters, kernel_size=kernel_size, activation='relu', name=f\"extra_conv_{i}\"))\n",
      "  File \"/home/djanloo/.local/share/virtualenvs/DM2-PeqFRmfa/lib/python3.10/site-packages/tensorflow/python/trackable/base.py\", line 205, in _method_wrapper\n",
      "    result = method(self, *args, **kwargs)\n",
      "  File \"/home/djanloo/.local/share/virtualenvs/DM2-PeqFRmfa/lib/python3.10/site-packages/keras/utils/traceback_utils.py\", line 70, in error_handler\n",
      "    raise e.with_traceback(filtered_tb) from None\n",
      "  File \"/home/djanloo/.local/share/virtualenvs/DM2-PeqFRmfa/lib/python3.10/site-packages/keras/layers/convolutional/base_conv.py\", line 354, in compute_output_shape\n",
      "    raise ValueError(\n",
      "ValueError: One of the dimensions in the output is <= 0 due to downsampling in extra_conv_0. Consider increasing the input size. Received input shape [None, 8, 9] which would produce output shape with a zero or negative value in a dimension.\n"
     ]
    },
    {
     "name": "stdout",
     "output_type": "stream",
     "text": [
      "Running little bitch having n_conv=3, dropout=0.005032495025262124, hidden_nodes=58\n"
     ]
    },
    {
     "name": "stderr",
     "output_type": "stream",
     "text": [
      "[W 2023-06-26 17:35:58,731] Trial 38 failed with value None.\n"
     ]
    },
    {
     "name": "stdout",
     "output_type": "stream",
     "text": [
      "Running little bitch having n_conv=3, dropout=0.015210018740668185, hidden_nodes=55\n"
     ]
    },
    {
     "name": "stderr",
     "output_type": "stream",
     "text": [
      "[W 2023-06-26 17:35:59,142] Trial 39 failed with parameters: {'n_conv': 3, 'n_hidden': 2, 'hidden_nodes': 55, 'dropout': 0.015210018740668185, 'filters': 9, 'kernel_size': 16, 'batch_size': 16, 'epochs': 88} because of the following error: ValueError('One of the dimensions in the output is <= 0 due to downsampling in extra_conv_0. Consider increasing the input size. Received input shape [None, 8, 9] which would produce output shape with a zero or negative value in a dimension.').\n",
      "Traceback (most recent call last):\n",
      "  File \"/home/djanloo/.local/share/virtualenvs/DM2-PeqFRmfa/lib/python3.10/site-packages/optuna/study/_optimize.py\", line 200, in _run_trial\n",
      "    value_or_values = func(trial)\n",
      "  File \"/tmp/ipykernel_38777/4091589858.py\", line 34, in <lambda>\n",
      "    trial_function = lambda trial: objective_fun(trial,\n",
      "  File \"/tmp/ipykernel_38777/4091589858.py\", line 15, in objective_fun\n",
      "    cnn = build_model(  X.shape[1:], len(np.unique(y)),\n",
      "  File \"/tmp/ipykernel_38777/1167308510.py\", line 27, in build_model\n",
      "    model.add(Conv1D(filters=filters, kernel_size=kernel_size, activation='relu', name=f\"extra_conv_{i}\"))\n",
      "  File \"/home/djanloo/.local/share/virtualenvs/DM2-PeqFRmfa/lib/python3.10/site-packages/tensorflow/python/trackable/base.py\", line 205, in _method_wrapper\n",
      "    result = method(self, *args, **kwargs)\n",
      "  File \"/home/djanloo/.local/share/virtualenvs/DM2-PeqFRmfa/lib/python3.10/site-packages/keras/utils/traceback_utils.py\", line 70, in error_handler\n",
      "    raise e.with_traceback(filtered_tb) from None\n",
      "  File \"/home/djanloo/.local/share/virtualenvs/DM2-PeqFRmfa/lib/python3.10/site-packages/keras/layers/convolutional/base_conv.py\", line 354, in compute_output_shape\n",
      "    raise ValueError(\n",
      "ValueError: One of the dimensions in the output is <= 0 due to downsampling in extra_conv_0. Consider increasing the input size. Received input shape [None, 8, 9] which would produce output shape with a zero or negative value in a dimension.\n",
      "[W 2023-06-26 17:35:59,152] Trial 39 failed with value None.\n",
      "[W 2023-06-26 17:35:59,495] Trial 40 failed with parameters: {'n_conv': 3, 'n_hidden': 2, 'hidden_nodes': 54, 'dropout': 0.005265367122657683, 'filters': 9, 'kernel_size': 16, 'batch_size': 16, 'epochs': 83} because of the following error: ValueError('One of the dimensions in the output is <= 0 due to downsampling in extra_conv_0. Consider increasing the input size. Received input shape [None, 8, 9] which would produce output shape with a zero or negative value in a dimension.').\n",
      "Traceback (most recent call last):\n",
      "  File \"/home/djanloo/.local/share/virtualenvs/DM2-PeqFRmfa/lib/python3.10/site-packages/optuna/study/_optimize.py\", line 200, in _run_trial\n",
      "    value_or_values = func(trial)\n",
      "  File \"/tmp/ipykernel_38777/4091589858.py\", line 34, in <lambda>\n",
      "    trial_function = lambda trial: objective_fun(trial,\n",
      "  File \"/tmp/ipykernel_38777/4091589858.py\", line 15, in objective_fun\n",
      "    cnn = build_model(  X.shape[1:], len(np.unique(y)),\n",
      "  File \"/tmp/ipykernel_38777/1167308510.py\", line 27, in build_model\n",
      "    model.add(Conv1D(filters=filters, kernel_size=kernel_size, activation='relu', name=f\"extra_conv_{i}\"))\n",
      "  File \"/home/djanloo/.local/share/virtualenvs/DM2-PeqFRmfa/lib/python3.10/site-packages/tensorflow/python/trackable/base.py\", line 205, in _method_wrapper\n",
      "    result = method(self, *args, **kwargs)\n",
      "  File \"/home/djanloo/.local/share/virtualenvs/DM2-PeqFRmfa/lib/python3.10/site-packages/keras/utils/traceback_utils.py\", line 70, in error_handler\n",
      "    raise e.with_traceback(filtered_tb) from None\n",
      "  File \"/home/djanloo/.local/share/virtualenvs/DM2-PeqFRmfa/lib/python3.10/site-packages/keras/layers/convolutional/base_conv.py\", line 354, in compute_output_shape\n",
      "    raise ValueError(\n",
      "ValueError: One of the dimensions in the output is <= 0 due to downsampling in extra_conv_0. Consider increasing the input size. Received input shape [None, 8, 9] which would produce output shape with a zero or negative value in a dimension.\n",
      "[W 2023-06-26 17:35:59,505] Trial 40 failed with value None.\n"
     ]
    },
    {
     "name": "stdout",
     "output_type": "stream",
     "text": [
      "Running little bitch having n_conv=3, dropout=0.005265367122657683, hidden_nodes=54\n",
      "Running little bitch having n_conv=3, dropout=0.0002900345985121927, hidden_nodes=65\n"
     ]
    },
    {
     "name": "stderr",
     "output_type": "stream",
     "text": [
      "[W 2023-06-26 17:35:59,858] Trial 41 failed with parameters: {'n_conv': 3, 'n_hidden': 2, 'hidden_nodes': 65, 'dropout': 0.0002900345985121927, 'filters': 9, 'kernel_size': 15, 'batch_size': 17, 'epochs': 80} because of the following error: ValueError('One of the dimensions in the output is <= 0 due to downsampling in extra_conv_0. Consider increasing the input size. Received input shape [None, 9, 9] which would produce output shape with a zero or negative value in a dimension.').\n",
      "Traceback (most recent call last):\n",
      "  File \"/home/djanloo/.local/share/virtualenvs/DM2-PeqFRmfa/lib/python3.10/site-packages/optuna/study/_optimize.py\", line 200, in _run_trial\n",
      "    value_or_values = func(trial)\n",
      "  File \"/tmp/ipykernel_38777/4091589858.py\", line 34, in <lambda>\n",
      "    trial_function = lambda trial: objective_fun(trial,\n",
      "  File \"/tmp/ipykernel_38777/4091589858.py\", line 15, in objective_fun\n",
      "    cnn = build_model(  X.shape[1:], len(np.unique(y)),\n",
      "  File \"/tmp/ipykernel_38777/1167308510.py\", line 27, in build_model\n",
      "    model.add(Conv1D(filters=filters, kernel_size=kernel_size, activation='relu', name=f\"extra_conv_{i}\"))\n",
      "  File \"/home/djanloo/.local/share/virtualenvs/DM2-PeqFRmfa/lib/python3.10/site-packages/tensorflow/python/trackable/base.py\", line 205, in _method_wrapper\n",
      "    result = method(self, *args, **kwargs)\n",
      "  File \"/home/djanloo/.local/share/virtualenvs/DM2-PeqFRmfa/lib/python3.10/site-packages/keras/utils/traceback_utils.py\", line 70, in error_handler\n",
      "    raise e.with_traceback(filtered_tb) from None\n",
      "  File \"/home/djanloo/.local/share/virtualenvs/DM2-PeqFRmfa/lib/python3.10/site-packages/keras/layers/convolutional/base_conv.py\", line 354, in compute_output_shape\n",
      "    raise ValueError(\n",
      "ValueError: One of the dimensions in the output is <= 0 due to downsampling in extra_conv_0. Consider increasing the input size. Received input shape [None, 9, 9] which would produce output shape with a zero or negative value in a dimension.\n",
      "[W 2023-06-26 17:35:59,867] Trial 41 failed with value None.\n"
     ]
    },
    {
     "name": "stdout",
     "output_type": "stream",
     "text": [
      "Running little bitch having n_conv=3, dropout=0.05125501871303738, hidden_nodes=58\n"
     ]
    },
    {
     "name": "stderr",
     "output_type": "stream",
     "text": [
      "[W 2023-06-26 17:36:00,485] Trial 42 failed with parameters: {'n_conv': 3, 'n_hidden': 2, 'hidden_nodes': 58, 'dropout': 0.05125501871303738, 'filters': 9, 'kernel_size': 16, 'batch_size': 18, 'epochs': 82} because of the following error: ValueError('One of the dimensions in the output is <= 0 due to downsampling in extra_conv_0. Consider increasing the input size. Received input shape [None, 8, 9] which would produce output shape with a zero or negative value in a dimension.').\n",
      "Traceback (most recent call last):\n",
      "  File \"/home/djanloo/.local/share/virtualenvs/DM2-PeqFRmfa/lib/python3.10/site-packages/optuna/study/_optimize.py\", line 200, in _run_trial\n",
      "    value_or_values = func(trial)\n",
      "  File \"/tmp/ipykernel_38777/4091589858.py\", line 34, in <lambda>\n",
      "    trial_function = lambda trial: objective_fun(trial,\n",
      "  File \"/tmp/ipykernel_38777/4091589858.py\", line 15, in objective_fun\n",
      "    cnn = build_model(  X.shape[1:], len(np.unique(y)),\n",
      "  File \"/tmp/ipykernel_38777/1167308510.py\", line 27, in build_model\n",
      "    model.add(Conv1D(filters=filters, kernel_size=kernel_size, activation='relu', name=f\"extra_conv_{i}\"))\n",
      "  File \"/home/djanloo/.local/share/virtualenvs/DM2-PeqFRmfa/lib/python3.10/site-packages/tensorflow/python/trackable/base.py\", line 205, in _method_wrapper\n",
      "    result = method(self, *args, **kwargs)\n",
      "  File \"/home/djanloo/.local/share/virtualenvs/DM2-PeqFRmfa/lib/python3.10/site-packages/keras/utils/traceback_utils.py\", line 70, in error_handler\n",
      "    raise e.with_traceback(filtered_tb) from None\n",
      "  File \"/home/djanloo/.local/share/virtualenvs/DM2-PeqFRmfa/lib/python3.10/site-packages/keras/layers/convolutional/base_conv.py\", line 354, in compute_output_shape\n",
      "    raise ValueError(\n",
      "ValueError: One of the dimensions in the output is <= 0 due to downsampling in extra_conv_0. Consider increasing the input size. Received input shape [None, 8, 9] which would produce output shape with a zero or negative value in a dimension.\n",
      "[W 2023-06-26 17:36:00,500] Trial 42 failed with value None.\n",
      "[W 2023-06-26 17:36:00,855] Trial 43 failed with parameters: {'n_conv': 3, 'n_hidden': 2, 'hidden_nodes': 65, 'dropout': 0.31947838785687005, 'filters': 9, 'kernel_size': 16, 'batch_size': 22, 'epochs': 87} because of the following error: ValueError('One of the dimensions in the output is <= 0 due to downsampling in extra_conv_0. Consider increasing the input size. Received input shape [None, 8, 9] which would produce output shape with a zero or negative value in a dimension.').\n",
      "Traceback (most recent call last):\n",
      "  File \"/home/djanloo/.local/share/virtualenvs/DM2-PeqFRmfa/lib/python3.10/site-packages/optuna/study/_optimize.py\", line 200, in _run_trial\n",
      "    value_or_values = func(trial)\n",
      "  File \"/tmp/ipykernel_38777/4091589858.py\", line 34, in <lambda>\n",
      "    trial_function = lambda trial: objective_fun(trial,\n",
      "  File \"/tmp/ipykernel_38777/4091589858.py\", line 15, in objective_fun\n",
      "    cnn = build_model(  X.shape[1:], len(np.unique(y)),\n",
      "  File \"/tmp/ipykernel_38777/1167308510.py\", line 27, in build_model\n",
      "    model.add(Conv1D(filters=filters, kernel_size=kernel_size, activation='relu', name=f\"extra_conv_{i}\"))\n",
      "  File \"/home/djanloo/.local/share/virtualenvs/DM2-PeqFRmfa/lib/python3.10/site-packages/tensorflow/python/trackable/base.py\", line 205, in _method_wrapper\n",
      "    result = method(self, *args, **kwargs)\n",
      "  File \"/home/djanloo/.local/share/virtualenvs/DM2-PeqFRmfa/lib/python3.10/site-packages/keras/utils/traceback_utils.py\", line 70, in error_handler\n",
      "    raise e.with_traceback(filtered_tb) from None\n",
      "  File \"/home/djanloo/.local/share/virtualenvs/DM2-PeqFRmfa/lib/python3.10/site-packages/keras/layers/convolutional/base_conv.py\", line 354, in compute_output_shape\n",
      "    raise ValueError(\n",
      "ValueError: One of the dimensions in the output is <= 0 due to downsampling in extra_conv_0. Consider increasing the input size. Received input shape [None, 8, 9] which would produce output shape with a zero or negative value in a dimension.\n",
      "[W 2023-06-26 17:36:00,860] Trial 43 failed with value None.\n"
     ]
    },
    {
     "name": "stdout",
     "output_type": "stream",
     "text": [
      "Running little bitch having n_conv=3, dropout=0.31947838785687005, hidden_nodes=65\n"
     ]
    },
    {
     "name": "stderr",
     "output_type": "stream",
     "text": [
      "[W 2023-06-26 17:36:01,197] Trial 44 failed with parameters: {'n_conv': 3, 'n_hidden': 2, 'hidden_nodes': 59, 'dropout': 0.042039550400304326, 'filters': 8, 'kernel_size': 15, 'batch_size': 17, 'epochs': 89} because of the following error: ValueError('One of the dimensions in the output is <= 0 due to downsampling in extra_conv_0. Consider increasing the input size. Received input shape [None, 9, 8] which would produce output shape with a zero or negative value in a dimension.').\n",
      "Traceback (most recent call last):\n",
      "  File \"/home/djanloo/.local/share/virtualenvs/DM2-PeqFRmfa/lib/python3.10/site-packages/optuna/study/_optimize.py\", line 200, in _run_trial\n",
      "    value_or_values = func(trial)\n",
      "  File \"/tmp/ipykernel_38777/4091589858.py\", line 34, in <lambda>\n",
      "    trial_function = lambda trial: objective_fun(trial,\n",
      "  File \"/tmp/ipykernel_38777/4091589858.py\", line 15, in objective_fun\n",
      "    cnn = build_model(  X.shape[1:], len(np.unique(y)),\n",
      "  File \"/tmp/ipykernel_38777/1167308510.py\", line 27, in build_model\n",
      "    model.add(Conv1D(filters=filters, kernel_size=kernel_size, activation='relu', name=f\"extra_conv_{i}\"))\n",
      "  File \"/home/djanloo/.local/share/virtualenvs/DM2-PeqFRmfa/lib/python3.10/site-packages/tensorflow/python/trackable/base.py\", line 205, in _method_wrapper\n",
      "    result = method(self, *args, **kwargs)\n",
      "  File \"/home/djanloo/.local/share/virtualenvs/DM2-PeqFRmfa/lib/python3.10/site-packages/keras/utils/traceback_utils.py\", line 70, in error_handler\n",
      "    raise e.with_traceback(filtered_tb) from None\n",
      "  File \"/home/djanloo/.local/share/virtualenvs/DM2-PeqFRmfa/lib/python3.10/site-packages/keras/layers/convolutional/base_conv.py\", line 354, in compute_output_shape\n",
      "    raise ValueError(\n",
      "ValueError: One of the dimensions in the output is <= 0 due to downsampling in extra_conv_0. Consider increasing the input size. Received input shape [None, 9, 8] which would produce output shape with a zero or negative value in a dimension.\n",
      "[W 2023-06-26 17:36:01,209] Trial 44 failed with value None.\n"
     ]
    },
    {
     "name": "stdout",
     "output_type": "stream",
     "text": [
      "Running little bitch having n_conv=3, dropout=0.042039550400304326, hidden_nodes=59\n",
      "Running little bitch having n_conv=3, dropout=0.3441654673795194, hidden_nodes=57\n"
     ]
    },
    {
     "name": "stderr",
     "output_type": "stream",
     "text": [
      "[W 2023-06-26 17:36:01,551] Trial 45 failed with parameters: {'n_conv': 3, 'n_hidden': 2, 'hidden_nodes': 57, 'dropout': 0.3441654673795194, 'filters': 9, 'kernel_size': 16, 'batch_size': 16, 'epochs': 86} because of the following error: ValueError('One of the dimensions in the output is <= 0 due to downsampling in extra_conv_0. Consider increasing the input size. Received input shape [None, 8, 9] which would produce output shape with a zero or negative value in a dimension.').\n",
      "Traceback (most recent call last):\n",
      "  File \"/home/djanloo/.local/share/virtualenvs/DM2-PeqFRmfa/lib/python3.10/site-packages/optuna/study/_optimize.py\", line 200, in _run_trial\n",
      "    value_or_values = func(trial)\n",
      "  File \"/tmp/ipykernel_38777/4091589858.py\", line 34, in <lambda>\n",
      "    trial_function = lambda trial: objective_fun(trial,\n",
      "  File \"/tmp/ipykernel_38777/4091589858.py\", line 15, in objective_fun\n",
      "    cnn = build_model(  X.shape[1:], len(np.unique(y)),\n",
      "  File \"/tmp/ipykernel_38777/1167308510.py\", line 27, in build_model\n",
      "    model.add(Conv1D(filters=filters, kernel_size=kernel_size, activation='relu', name=f\"extra_conv_{i}\"))\n",
      "  File \"/home/djanloo/.local/share/virtualenvs/DM2-PeqFRmfa/lib/python3.10/site-packages/tensorflow/python/trackable/base.py\", line 205, in _method_wrapper\n",
      "    result = method(self, *args, **kwargs)\n",
      "  File \"/home/djanloo/.local/share/virtualenvs/DM2-PeqFRmfa/lib/python3.10/site-packages/keras/utils/traceback_utils.py\", line 70, in error_handler\n",
      "    raise e.with_traceback(filtered_tb) from None\n",
      "  File \"/home/djanloo/.local/share/virtualenvs/DM2-PeqFRmfa/lib/python3.10/site-packages/keras/layers/convolutional/base_conv.py\", line 354, in compute_output_shape\n",
      "    raise ValueError(\n",
      "ValueError: One of the dimensions in the output is <= 0 due to downsampling in extra_conv_0. Consider increasing the input size. Received input shape [None, 8, 9] which would produce output shape with a zero or negative value in a dimension.\n",
      "[W 2023-06-26 17:36:01,583] Trial 45 failed with value None.\n"
     ]
    },
    {
     "name": "stdout",
     "output_type": "stream",
     "text": [
      "Running little bitch having n_conv=3, dropout=0.34538599117807606, hidden_nodes=54\n"
     ]
    },
    {
     "name": "stderr",
     "output_type": "stream",
     "text": [
      "[W 2023-06-26 17:36:02,041] Trial 46 failed with parameters: {'n_conv': 3, 'n_hidden': 2, 'hidden_nodes': 54, 'dropout': 0.34538599117807606, 'filters': 9, 'kernel_size': 16, 'batch_size': 17, 'epochs': 81} because of the following error: ValueError('One of the dimensions in the output is <= 0 due to downsampling in extra_conv_0. Consider increasing the input size. Received input shape [None, 8, 9] which would produce output shape with a zero or negative value in a dimension.').\n",
      "Traceback (most recent call last):\n",
      "  File \"/home/djanloo/.local/share/virtualenvs/DM2-PeqFRmfa/lib/python3.10/site-packages/optuna/study/_optimize.py\", line 200, in _run_trial\n",
      "    value_or_values = func(trial)\n",
      "  File \"/tmp/ipykernel_38777/4091589858.py\", line 34, in <lambda>\n",
      "    trial_function = lambda trial: objective_fun(trial,\n",
      "  File \"/tmp/ipykernel_38777/4091589858.py\", line 15, in objective_fun\n",
      "    cnn = build_model(  X.shape[1:], len(np.unique(y)),\n",
      "  File \"/tmp/ipykernel_38777/1167308510.py\", line 27, in build_model\n",
      "    model.add(Conv1D(filters=filters, kernel_size=kernel_size, activation='relu', name=f\"extra_conv_{i}\"))\n",
      "  File \"/home/djanloo/.local/share/virtualenvs/DM2-PeqFRmfa/lib/python3.10/site-packages/tensorflow/python/trackable/base.py\", line 205, in _method_wrapper\n",
      "    result = method(self, *args, **kwargs)\n",
      "  File \"/home/djanloo/.local/share/virtualenvs/DM2-PeqFRmfa/lib/python3.10/site-packages/keras/utils/traceback_utils.py\", line 70, in error_handler\n",
      "    raise e.with_traceback(filtered_tb) from None\n",
      "  File \"/home/djanloo/.local/share/virtualenvs/DM2-PeqFRmfa/lib/python3.10/site-packages/keras/layers/convolutional/base_conv.py\", line 354, in compute_output_shape\n",
      "    raise ValueError(\n",
      "ValueError: One of the dimensions in the output is <= 0 due to downsampling in extra_conv_0. Consider increasing the input size. Received input shape [None, 8, 9] which would produce output shape with a zero or negative value in a dimension.\n",
      "[W 2023-06-26 17:36:02,047] Trial 46 failed with value None.\n",
      "[W 2023-06-26 17:36:02,378] Trial 47 failed with parameters: {'n_conv': 3, 'n_hidden': 2, 'hidden_nodes': 58, 'dropout': 0.3302846370021689, 'filters': 9, 'kernel_size': 15, 'batch_size': 16, 'epochs': 86} because of the following error: ValueError('One of the dimensions in the output is <= 0 due to downsampling in extra_conv_0. Consider increasing the input size. Received input shape [None, 9, 9] which would produce output shape with a zero or negative value in a dimension.').\n",
      "Traceback (most recent call last):\n",
      "  File \"/home/djanloo/.local/share/virtualenvs/DM2-PeqFRmfa/lib/python3.10/site-packages/optuna/study/_optimize.py\", line 200, in _run_trial\n",
      "    value_or_values = func(trial)\n",
      "  File \"/tmp/ipykernel_38777/4091589858.py\", line 34, in <lambda>\n",
      "    trial_function = lambda trial: objective_fun(trial,\n",
      "  File \"/tmp/ipykernel_38777/4091589858.py\", line 15, in objective_fun\n",
      "    cnn = build_model(  X.shape[1:], len(np.unique(y)),\n",
      "  File \"/tmp/ipykernel_38777/1167308510.py\", line 27, in build_model\n",
      "    model.add(Conv1D(filters=filters, kernel_size=kernel_size, activation='relu', name=f\"extra_conv_{i}\"))\n",
      "  File \"/home/djanloo/.local/share/virtualenvs/DM2-PeqFRmfa/lib/python3.10/site-packages/tensorflow/python/trackable/base.py\", line 205, in _method_wrapper\n",
      "    result = method(self, *args, **kwargs)\n",
      "  File \"/home/djanloo/.local/share/virtualenvs/DM2-PeqFRmfa/lib/python3.10/site-packages/keras/utils/traceback_utils.py\", line 70, in error_handler\n",
      "    raise e.with_traceback(filtered_tb) from None\n",
      "  File \"/home/djanloo/.local/share/virtualenvs/DM2-PeqFRmfa/lib/python3.10/site-packages/keras/layers/convolutional/base_conv.py\", line 354, in compute_output_shape\n",
      "    raise ValueError(\n",
      "ValueError: One of the dimensions in the output is <= 0 due to downsampling in extra_conv_0. Consider increasing the input size. Received input shape [None, 9, 9] which would produce output shape with a zero or negative value in a dimension.\n",
      "[W 2023-06-26 17:36:02,382] Trial 47 failed with value None.\n"
     ]
    },
    {
     "name": "stdout",
     "output_type": "stream",
     "text": [
      "Running little bitch having n_conv=3, dropout=0.3302846370021689, hidden_nodes=58\n",
      "Running little bitch having n_conv=3, dropout=0.06393225221280041, hidden_nodes=54\n"
     ]
    },
    {
     "name": "stderr",
     "output_type": "stream",
     "text": [
      "[W 2023-06-26 17:36:02,740] Trial 48 failed with parameters: {'n_conv': 3, 'n_hidden': 2, 'hidden_nodes': 54, 'dropout': 0.06393225221280041, 'filters': 9, 'kernel_size': 16, 'batch_size': 16, 'epochs': 90} because of the following error: ValueError('One of the dimensions in the output is <= 0 due to downsampling in extra_conv_0. Consider increasing the input size. Received input shape [None, 8, 9] which would produce output shape with a zero or negative value in a dimension.').\n",
      "Traceback (most recent call last):\n",
      "  File \"/home/djanloo/.local/share/virtualenvs/DM2-PeqFRmfa/lib/python3.10/site-packages/optuna/study/_optimize.py\", line 200, in _run_trial\n",
      "    value_or_values = func(trial)\n",
      "  File \"/tmp/ipykernel_38777/4091589858.py\", line 34, in <lambda>\n",
      "    trial_function = lambda trial: objective_fun(trial,\n",
      "  File \"/tmp/ipykernel_38777/4091589858.py\", line 15, in objective_fun\n",
      "    cnn = build_model(  X.shape[1:], len(np.unique(y)),\n",
      "  File \"/tmp/ipykernel_38777/1167308510.py\", line 27, in build_model\n",
      "    model.add(Conv1D(filters=filters, kernel_size=kernel_size, activation='relu', name=f\"extra_conv_{i}\"))\n",
      "  File \"/home/djanloo/.local/share/virtualenvs/DM2-PeqFRmfa/lib/python3.10/site-packages/tensorflow/python/trackable/base.py\", line 205, in _method_wrapper\n",
      "    result = method(self, *args, **kwargs)\n",
      "  File \"/home/djanloo/.local/share/virtualenvs/DM2-PeqFRmfa/lib/python3.10/site-packages/keras/utils/traceback_utils.py\", line 70, in error_handler\n",
      "    raise e.with_traceback(filtered_tb) from None\n",
      "  File \"/home/djanloo/.local/share/virtualenvs/DM2-PeqFRmfa/lib/python3.10/site-packages/keras/layers/convolutional/base_conv.py\", line 354, in compute_output_shape\n",
      "    raise ValueError(\n",
      "ValueError: One of the dimensions in the output is <= 0 due to downsampling in extra_conv_0. Consider increasing the input size. Received input shape [None, 8, 9] which would produce output shape with a zero or negative value in a dimension.\n",
      "[W 2023-06-26 17:36:02,756] Trial 48 failed with value None.\n",
      "[W 2023-06-26 17:36:03,113] Trial 49 failed with parameters: {'n_conv': 3, 'n_hidden': 2, 'hidden_nodes': 54, 'dropout': 0.005042696010494341, 'filters': 9, 'kernel_size': 16, 'batch_size': 20, 'epochs': 81} because of the following error: ValueError('One of the dimensions in the output is <= 0 due to downsampling in extra_conv_0. Consider increasing the input size. Received input shape [None, 8, 9] which would produce output shape with a zero or negative value in a dimension.').\n",
      "Traceback (most recent call last):\n",
      "  File \"/home/djanloo/.local/share/virtualenvs/DM2-PeqFRmfa/lib/python3.10/site-packages/optuna/study/_optimize.py\", line 200, in _run_trial\n",
      "    value_or_values = func(trial)\n",
      "  File \"/tmp/ipykernel_38777/4091589858.py\", line 34, in <lambda>\n",
      "    trial_function = lambda trial: objective_fun(trial,\n",
      "  File \"/tmp/ipykernel_38777/4091589858.py\", line 15, in objective_fun\n",
      "    cnn = build_model(  X.shape[1:], len(np.unique(y)),\n",
      "  File \"/tmp/ipykernel_38777/1167308510.py\", line 27, in build_model\n",
      "    model.add(Conv1D(filters=filters, kernel_size=kernel_size, activation='relu', name=f\"extra_conv_{i}\"))\n",
      "  File \"/home/djanloo/.local/share/virtualenvs/DM2-PeqFRmfa/lib/python3.10/site-packages/tensorflow/python/trackable/base.py\", line 205, in _method_wrapper\n",
      "    result = method(self, *args, **kwargs)\n",
      "  File \"/home/djanloo/.local/share/virtualenvs/DM2-PeqFRmfa/lib/python3.10/site-packages/keras/utils/traceback_utils.py\", line 70, in error_handler\n",
      "    raise e.with_traceback(filtered_tb) from None\n",
      "  File \"/home/djanloo/.local/share/virtualenvs/DM2-PeqFRmfa/lib/python3.10/site-packages/keras/layers/convolutional/base_conv.py\", line 354, in compute_output_shape\n",
      "    raise ValueError(\n",
      "ValueError: One of the dimensions in the output is <= 0 due to downsampling in extra_conv_0. Consider increasing the input size. Received input shape [None, 8, 9] which would produce output shape with a zero or negative value in a dimension.\n"
     ]
    },
    {
     "name": "stdout",
     "output_type": "stream",
     "text": [
      "Running little bitch having n_conv=3, dropout=0.005042696010494341, hidden_nodes=54\n"
     ]
    },
    {
     "name": "stderr",
     "output_type": "stream",
     "text": [
      "[W 2023-06-26 17:36:03,128] Trial 49 failed with value None.\n",
      "[W 2023-06-26 17:36:03,427] Trial 50 failed with parameters: {'n_conv': 3, 'n_hidden': 2, 'hidden_nodes': 59, 'dropout': 0.0474283268562643, 'filters': 9, 'kernel_size': 16, 'batch_size': 16, 'epochs': 90} because of the following error: ValueError('One of the dimensions in the output is <= 0 due to downsampling in extra_conv_0. Consider increasing the input size. Received input shape [None, 8, 9] which would produce output shape with a zero or negative value in a dimension.').\n",
      "Traceback (most recent call last):\n",
      "  File \"/home/djanloo/.local/share/virtualenvs/DM2-PeqFRmfa/lib/python3.10/site-packages/optuna/study/_optimize.py\", line 200, in _run_trial\n",
      "    value_or_values = func(trial)\n",
      "  File \"/tmp/ipykernel_38777/4091589858.py\", line 34, in <lambda>\n",
      "    trial_function = lambda trial: objective_fun(trial,\n",
      "  File \"/tmp/ipykernel_38777/4091589858.py\", line 15, in objective_fun\n",
      "    cnn = build_model(  X.shape[1:], len(np.unique(y)),\n",
      "  File \"/tmp/ipykernel_38777/1167308510.py\", line 27, in build_model\n",
      "    model.add(Conv1D(filters=filters, kernel_size=kernel_size, activation='relu', name=f\"extra_conv_{i}\"))\n",
      "  File \"/home/djanloo/.local/share/virtualenvs/DM2-PeqFRmfa/lib/python3.10/site-packages/tensorflow/python/trackable/base.py\", line 205, in _method_wrapper\n",
      "    result = method(self, *args, **kwargs)\n",
      "  File \"/home/djanloo/.local/share/virtualenvs/DM2-PeqFRmfa/lib/python3.10/site-packages/keras/utils/traceback_utils.py\", line 70, in error_handler\n",
      "    raise e.with_traceback(filtered_tb) from None\n",
      "  File \"/home/djanloo/.local/share/virtualenvs/DM2-PeqFRmfa/lib/python3.10/site-packages/keras/layers/convolutional/base_conv.py\", line 354, in compute_output_shape\n",
      "    raise ValueError(\n",
      "ValueError: One of the dimensions in the output is <= 0 due to downsampling in extra_conv_0. Consider increasing the input size. Received input shape [None, 8, 9] which would produce output shape with a zero or negative value in a dimension.\n",
      "[W 2023-06-26 17:36:03,434] Trial 50 failed with value None.\n"
     ]
    },
    {
     "name": "stdout",
     "output_type": "stream",
     "text": [
      "Running little bitch having n_conv=3, dropout=0.0474283268562643, hidden_nodes=59\n",
      "Running little bitch having n_conv=3, dropout=0.014122379778602312, hidden_nodes=59\n"
     ]
    },
    {
     "name": "stderr",
     "output_type": "stream",
     "text": [
      "[W 2023-06-26 17:36:03,792] Trial 51 failed with parameters: {'n_conv': 3, 'n_hidden': 2, 'hidden_nodes': 59, 'dropout': 0.014122379778602312, 'filters': 9, 'kernel_size': 16, 'batch_size': 18, 'epochs': 81} because of the following error: ValueError('One of the dimensions in the output is <= 0 due to downsampling in extra_conv_0. Consider increasing the input size. Received input shape [None, 8, 9] which would produce output shape with a zero or negative value in a dimension.').\n",
      "Traceback (most recent call last):\n",
      "  File \"/home/djanloo/.local/share/virtualenvs/DM2-PeqFRmfa/lib/python3.10/site-packages/optuna/study/_optimize.py\", line 200, in _run_trial\n",
      "    value_or_values = func(trial)\n",
      "  File \"/tmp/ipykernel_38777/4091589858.py\", line 34, in <lambda>\n",
      "    trial_function = lambda trial: objective_fun(trial,\n",
      "  File \"/tmp/ipykernel_38777/4091589858.py\", line 15, in objective_fun\n",
      "    cnn = build_model(  X.shape[1:], len(np.unique(y)),\n",
      "  File \"/tmp/ipykernel_38777/1167308510.py\", line 27, in build_model\n",
      "    model.add(Conv1D(filters=filters, kernel_size=kernel_size, activation='relu', name=f\"extra_conv_{i}\"))\n",
      "  File \"/home/djanloo/.local/share/virtualenvs/DM2-PeqFRmfa/lib/python3.10/site-packages/tensorflow/python/trackable/base.py\", line 205, in _method_wrapper\n",
      "    result = method(self, *args, **kwargs)\n",
      "  File \"/home/djanloo/.local/share/virtualenvs/DM2-PeqFRmfa/lib/python3.10/site-packages/keras/utils/traceback_utils.py\", line 70, in error_handler\n",
      "    raise e.with_traceback(filtered_tb) from None\n",
      "  File \"/home/djanloo/.local/share/virtualenvs/DM2-PeqFRmfa/lib/python3.10/site-packages/keras/layers/convolutional/base_conv.py\", line 354, in compute_output_shape\n",
      "    raise ValueError(\n",
      "ValueError: One of the dimensions in the output is <= 0 due to downsampling in extra_conv_0. Consider increasing the input size. Received input shape [None, 8, 9] which would produce output shape with a zero or negative value in a dimension.\n",
      "[W 2023-06-26 17:36:03,802] Trial 51 failed with value None.\n"
     ]
    },
    {
     "name": "stdout",
     "output_type": "stream",
     "text": [
      "Running little bitch having n_conv=2, dropout=0.025258358634124956, hidden_nodes=52\n"
     ]
    },
    {
     "name": "stderr",
     "output_type": "stream",
     "text": [
      "[W 2023-06-26 17:36:04,276] Trial 52 failed with parameters: {'n_conv': 2, 'n_hidden': 2, 'hidden_nodes': 52, 'dropout': 0.025258358634124956, 'filters': 9, 'kernel_size': 16, 'batch_size': 16, 'epochs': 83} because of the following error: ValueError('One of the dimensions in the output is <= 0 due to downsampling in extra_conv_0. Consider increasing the input size. Received input shape [None, 8, 9] which would produce output shape with a zero or negative value in a dimension.').\n",
      "Traceback (most recent call last):\n",
      "  File \"/home/djanloo/.local/share/virtualenvs/DM2-PeqFRmfa/lib/python3.10/site-packages/optuna/study/_optimize.py\", line 200, in _run_trial\n",
      "    value_or_values = func(trial)\n",
      "  File \"/tmp/ipykernel_38777/4091589858.py\", line 34, in <lambda>\n",
      "    trial_function = lambda trial: objective_fun(trial,\n",
      "  File \"/tmp/ipykernel_38777/4091589858.py\", line 15, in objective_fun\n",
      "    cnn = build_model(  X.shape[1:], len(np.unique(y)),\n",
      "  File \"/tmp/ipykernel_38777/1167308510.py\", line 27, in build_model\n",
      "    model.add(Conv1D(filters=filters, kernel_size=kernel_size, activation='relu', name=f\"extra_conv_{i}\"))\n",
      "  File \"/home/djanloo/.local/share/virtualenvs/DM2-PeqFRmfa/lib/python3.10/site-packages/tensorflow/python/trackable/base.py\", line 205, in _method_wrapper\n",
      "    result = method(self, *args, **kwargs)\n",
      "  File \"/home/djanloo/.local/share/virtualenvs/DM2-PeqFRmfa/lib/python3.10/site-packages/keras/utils/traceback_utils.py\", line 70, in error_handler\n",
      "    raise e.with_traceback(filtered_tb) from None\n",
      "  File \"/home/djanloo/.local/share/virtualenvs/DM2-PeqFRmfa/lib/python3.10/site-packages/keras/layers/convolutional/base_conv.py\", line 354, in compute_output_shape\n",
      "    raise ValueError(\n",
      "ValueError: One of the dimensions in the output is <= 0 due to downsampling in extra_conv_0. Consider increasing the input size. Received input shape [None, 8, 9] which would produce output shape with a zero or negative value in a dimension.\n",
      "[W 2023-06-26 17:36:04,293] Trial 52 failed with value None.\n"
     ]
    },
    {
     "name": "stdout",
     "output_type": "stream",
     "text": [
      "Running little bitch having n_conv=3, dropout=0.039480673816945186, hidden_nodes=82\n"
     ]
    },
    {
     "name": "stderr",
     "output_type": "stream",
     "text": [
      "[W 2023-06-26 17:36:04,778] Trial 53 failed with parameters: {'n_conv': 3, 'n_hidden': 2, 'hidden_nodes': 82, 'dropout': 0.039480673816945186, 'filters': 9, 'kernel_size': 16, 'batch_size': 21, 'epochs': 89} because of the following error: ValueError('One of the dimensions in the output is <= 0 due to downsampling in extra_conv_0. Consider increasing the input size. Received input shape [None, 8, 9] which would produce output shape with a zero or negative value in a dimension.').\n",
      "Traceback (most recent call last):\n",
      "  File \"/home/djanloo/.local/share/virtualenvs/DM2-PeqFRmfa/lib/python3.10/site-packages/optuna/study/_optimize.py\", line 200, in _run_trial\n",
      "    value_or_values = func(trial)\n",
      "  File \"/tmp/ipykernel_38777/4091589858.py\", line 34, in <lambda>\n",
      "    trial_function = lambda trial: objective_fun(trial,\n",
      "  File \"/tmp/ipykernel_38777/4091589858.py\", line 15, in objective_fun\n",
      "    cnn = build_model(  X.shape[1:], len(np.unique(y)),\n",
      "  File \"/tmp/ipykernel_38777/1167308510.py\", line 27, in build_model\n",
      "    model.add(Conv1D(filters=filters, kernel_size=kernel_size, activation='relu', name=f\"extra_conv_{i}\"))\n",
      "  File \"/home/djanloo/.local/share/virtualenvs/DM2-PeqFRmfa/lib/python3.10/site-packages/tensorflow/python/trackable/base.py\", line 205, in _method_wrapper\n",
      "    result = method(self, *args, **kwargs)\n",
      "  File \"/home/djanloo/.local/share/virtualenvs/DM2-PeqFRmfa/lib/python3.10/site-packages/keras/utils/traceback_utils.py\", line 70, in error_handler\n",
      "    raise e.with_traceback(filtered_tb) from None\n",
      "  File \"/home/djanloo/.local/share/virtualenvs/DM2-PeqFRmfa/lib/python3.10/site-packages/keras/layers/convolutional/base_conv.py\", line 354, in compute_output_shape\n",
      "    raise ValueError(\n",
      "ValueError: One of the dimensions in the output is <= 0 due to downsampling in extra_conv_0. Consider increasing the input size. Received input shape [None, 8, 9] which would produce output shape with a zero or negative value in a dimension.\n",
      "[W 2023-06-26 17:36:04,784] Trial 53 failed with value None.\n"
     ]
    },
    {
     "name": "stdout",
     "output_type": "stream",
     "text": [
      "Running little bitch having n_conv=3, dropout=0.008174165941871633, hidden_nodes=54\n"
     ]
    },
    {
     "name": "stderr",
     "output_type": "stream",
     "text": [
      "[W 2023-06-26 17:36:05,175] Trial 54 failed with parameters: {'n_conv': 3, 'n_hidden': 2, 'hidden_nodes': 54, 'dropout': 0.008174165941871633, 'filters': 9, 'kernel_size': 16, 'batch_size': 16, 'epochs': 86} because of the following error: ValueError('One of the dimensions in the output is <= 0 due to downsampling in extra_conv_0. Consider increasing the input size. Received input shape [None, 8, 9] which would produce output shape with a zero or negative value in a dimension.').\n",
      "Traceback (most recent call last):\n",
      "  File \"/home/djanloo/.local/share/virtualenvs/DM2-PeqFRmfa/lib/python3.10/site-packages/optuna/study/_optimize.py\", line 200, in _run_trial\n",
      "    value_or_values = func(trial)\n",
      "  File \"/tmp/ipykernel_38777/4091589858.py\", line 34, in <lambda>\n",
      "    trial_function = lambda trial: objective_fun(trial,\n",
      "  File \"/tmp/ipykernel_38777/4091589858.py\", line 15, in objective_fun\n",
      "    cnn = build_model(  X.shape[1:], len(np.unique(y)),\n",
      "  File \"/tmp/ipykernel_38777/1167308510.py\", line 27, in build_model\n",
      "    model.add(Conv1D(filters=filters, kernel_size=kernel_size, activation='relu', name=f\"extra_conv_{i}\"))\n",
      "  File \"/home/djanloo/.local/share/virtualenvs/DM2-PeqFRmfa/lib/python3.10/site-packages/tensorflow/python/trackable/base.py\", line 205, in _method_wrapper\n",
      "    result = method(self, *args, **kwargs)\n",
      "  File \"/home/djanloo/.local/share/virtualenvs/DM2-PeqFRmfa/lib/python3.10/site-packages/keras/utils/traceback_utils.py\", line 70, in error_handler\n",
      "    raise e.with_traceback(filtered_tb) from None\n",
      "  File \"/home/djanloo/.local/share/virtualenvs/DM2-PeqFRmfa/lib/python3.10/site-packages/keras/layers/convolutional/base_conv.py\", line 354, in compute_output_shape\n",
      "    raise ValueError(\n",
      "ValueError: One of the dimensions in the output is <= 0 due to downsampling in extra_conv_0. Consider increasing the input size. Received input shape [None, 8, 9] which would produce output shape with a zero or negative value in a dimension.\n",
      "[W 2023-06-26 17:36:05,185] Trial 54 failed with value None.\n",
      "[W 2023-06-26 17:36:05,493] Trial 55 failed with parameters: {'n_conv': 3, 'n_hidden': 2, 'hidden_nodes': 55, 'dropout': 0.028208023831191836, 'filters': 9, 'kernel_size': 14, 'batch_size': 22, 'epochs': 88} because of the following error: ValueError('One of the dimensions in the output is <= 0 due to downsampling in extra_conv_0. Consider increasing the input size. Received input shape [None, 10, 9] which would produce output shape with a zero or negative value in a dimension.').\n",
      "Traceback (most recent call last):\n",
      "  File \"/home/djanloo/.local/share/virtualenvs/DM2-PeqFRmfa/lib/python3.10/site-packages/optuna/study/_optimize.py\", line 200, in _run_trial\n",
      "    value_or_values = func(trial)\n",
      "  File \"/tmp/ipykernel_38777/4091589858.py\", line 34, in <lambda>\n",
      "    trial_function = lambda trial: objective_fun(trial,\n",
      "  File \"/tmp/ipykernel_38777/4091589858.py\", line 15, in objective_fun\n",
      "    cnn = build_model(  X.shape[1:], len(np.unique(y)),\n",
      "  File \"/tmp/ipykernel_38777/1167308510.py\", line 27, in build_model\n",
      "    model.add(Conv1D(filters=filters, kernel_size=kernel_size, activation='relu', name=f\"extra_conv_{i}\"))\n",
      "  File \"/home/djanloo/.local/share/virtualenvs/DM2-PeqFRmfa/lib/python3.10/site-packages/tensorflow/python/trackable/base.py\", line 205, in _method_wrapper\n",
      "    result = method(self, *args, **kwargs)\n",
      "  File \"/home/djanloo/.local/share/virtualenvs/DM2-PeqFRmfa/lib/python3.10/site-packages/keras/utils/traceback_utils.py\", line 70, in error_handler\n",
      "    raise e.with_traceback(filtered_tb) from None\n",
      "  File \"/home/djanloo/.local/share/virtualenvs/DM2-PeqFRmfa/lib/python3.10/site-packages/keras/layers/convolutional/base_conv.py\", line 354, in compute_output_shape\n",
      "    raise ValueError(\n",
      "ValueError: One of the dimensions in the output is <= 0 due to downsampling in extra_conv_0. Consider increasing the input size. Received input shape [None, 10, 9] which would produce output shape with a zero or negative value in a dimension.\n",
      "[W 2023-06-26 17:36:05,506] Trial 55 failed with value None.\n"
     ]
    },
    {
     "name": "stdout",
     "output_type": "stream",
     "text": [
      "Running little bitch having n_conv=3, dropout=0.028208023831191836, hidden_nodes=55\n",
      "Running little bitch having n_conv=3, dropout=0.3346384735770228, hidden_nodes=55\n"
     ]
    },
    {
     "name": "stderr",
     "output_type": "stream",
     "text": [
      "[W 2023-06-26 17:36:05,876] Trial 56 failed with parameters: {'n_conv': 3, 'n_hidden': 2, 'hidden_nodes': 55, 'dropout': 0.3346384735770228, 'filters': 9, 'kernel_size': 16, 'batch_size': 16, 'epochs': 85} because of the following error: ValueError('One of the dimensions in the output is <= 0 due to downsampling in extra_conv_0. Consider increasing the input size. Received input shape [None, 8, 9] which would produce output shape with a zero or negative value in a dimension.').\n",
      "Traceback (most recent call last):\n",
      "  File \"/home/djanloo/.local/share/virtualenvs/DM2-PeqFRmfa/lib/python3.10/site-packages/optuna/study/_optimize.py\", line 200, in _run_trial\n",
      "    value_or_values = func(trial)\n",
      "  File \"/tmp/ipykernel_38777/4091589858.py\", line 34, in <lambda>\n",
      "    trial_function = lambda trial: objective_fun(trial,\n",
      "  File \"/tmp/ipykernel_38777/4091589858.py\", line 15, in objective_fun\n",
      "    cnn = build_model(  X.shape[1:], len(np.unique(y)),\n",
      "  File \"/tmp/ipykernel_38777/1167308510.py\", line 27, in build_model\n",
      "    model.add(Conv1D(filters=filters, kernel_size=kernel_size, activation='relu', name=f\"extra_conv_{i}\"))\n",
      "  File \"/home/djanloo/.local/share/virtualenvs/DM2-PeqFRmfa/lib/python3.10/site-packages/tensorflow/python/trackable/base.py\", line 205, in _method_wrapper\n",
      "    result = method(self, *args, **kwargs)\n",
      "  File \"/home/djanloo/.local/share/virtualenvs/DM2-PeqFRmfa/lib/python3.10/site-packages/keras/utils/traceback_utils.py\", line 70, in error_handler\n",
      "    raise e.with_traceback(filtered_tb) from None\n",
      "  File \"/home/djanloo/.local/share/virtualenvs/DM2-PeqFRmfa/lib/python3.10/site-packages/keras/layers/convolutional/base_conv.py\", line 354, in compute_output_shape\n",
      "    raise ValueError(\n",
      "ValueError: One of the dimensions in the output is <= 0 due to downsampling in extra_conv_0. Consider increasing the input size. Received input shape [None, 8, 9] which would produce output shape with a zero or negative value in a dimension.\n",
      "[W 2023-06-26 17:36:05,880] Trial 56 failed with value None.\n"
     ]
    },
    {
     "name": "stdout",
     "output_type": "stream",
     "text": [
      "Running little bitch having n_conv=3, dropout=0.32229190037773114, hidden_nodes=55\n"
     ]
    },
    {
     "name": "stderr",
     "output_type": "stream",
     "text": [
      "[W 2023-06-26 17:36:06,342] Trial 57 failed with parameters: {'n_conv': 3, 'n_hidden': 2, 'hidden_nodes': 55, 'dropout': 0.32229190037773114, 'filters': 9, 'kernel_size': 16, 'batch_size': 20, 'epochs': 90} because of the following error: ValueError('One of the dimensions in the output is <= 0 due to downsampling in extra_conv_0. Consider increasing the input size. Received input shape [None, 8, 9] which would produce output shape with a zero or negative value in a dimension.').\n",
      "Traceback (most recent call last):\n",
      "  File \"/home/djanloo/.local/share/virtualenvs/DM2-PeqFRmfa/lib/python3.10/site-packages/optuna/study/_optimize.py\", line 200, in _run_trial\n",
      "    value_or_values = func(trial)\n",
      "  File \"/tmp/ipykernel_38777/4091589858.py\", line 34, in <lambda>\n",
      "    trial_function = lambda trial: objective_fun(trial,\n",
      "  File \"/tmp/ipykernel_38777/4091589858.py\", line 15, in objective_fun\n",
      "    cnn = build_model(  X.shape[1:], len(np.unique(y)),\n",
      "  File \"/tmp/ipykernel_38777/1167308510.py\", line 27, in build_model\n",
      "    model.add(Conv1D(filters=filters, kernel_size=kernel_size, activation='relu', name=f\"extra_conv_{i}\"))\n",
      "  File \"/home/djanloo/.local/share/virtualenvs/DM2-PeqFRmfa/lib/python3.10/site-packages/tensorflow/python/trackable/base.py\", line 205, in _method_wrapper\n",
      "    result = method(self, *args, **kwargs)\n",
      "  File \"/home/djanloo/.local/share/virtualenvs/DM2-PeqFRmfa/lib/python3.10/site-packages/keras/utils/traceback_utils.py\", line 70, in error_handler\n",
      "    raise e.with_traceback(filtered_tb) from None\n",
      "  File \"/home/djanloo/.local/share/virtualenvs/DM2-PeqFRmfa/lib/python3.10/site-packages/keras/layers/convolutional/base_conv.py\", line 354, in compute_output_shape\n",
      "    raise ValueError(\n",
      "ValueError: One of the dimensions in the output is <= 0 due to downsampling in extra_conv_0. Consider increasing the input size. Received input shape [None, 8, 9] which would produce output shape with a zero or negative value in a dimension.\n",
      "[W 2023-06-26 17:36:06,350] Trial 57 failed with value None.\n"
     ]
    },
    {
     "name": "stdout",
     "output_type": "stream",
     "text": [
      "Running little bitch having n_conv=3, dropout=0.04644158892661954, hidden_nodes=54\n"
     ]
    },
    {
     "name": "stderr",
     "output_type": "stream",
     "text": [
      "[W 2023-06-26 17:36:06,714] Trial 58 failed with parameters: {'n_conv': 3, 'n_hidden': 2, 'hidden_nodes': 54, 'dropout': 0.04644158892661954, 'filters': 9, 'kernel_size': 15, 'batch_size': 17, 'epochs': 85} because of the following error: ValueError('One of the dimensions in the output is <= 0 due to downsampling in extra_conv_0. Consider increasing the input size. Received input shape [None, 9, 9] which would produce output shape with a zero or negative value in a dimension.').\n",
      "Traceback (most recent call last):\n",
      "  File \"/home/djanloo/.local/share/virtualenvs/DM2-PeqFRmfa/lib/python3.10/site-packages/optuna/study/_optimize.py\", line 200, in _run_trial\n",
      "    value_or_values = func(trial)\n",
      "  File \"/tmp/ipykernel_38777/4091589858.py\", line 34, in <lambda>\n",
      "    trial_function = lambda trial: objective_fun(trial,\n",
      "  File \"/tmp/ipykernel_38777/4091589858.py\", line 15, in objective_fun\n",
      "    cnn = build_model(  X.shape[1:], len(np.unique(y)),\n",
      "  File \"/tmp/ipykernel_38777/1167308510.py\", line 27, in build_model\n",
      "    model.add(Conv1D(filters=filters, kernel_size=kernel_size, activation='relu', name=f\"extra_conv_{i}\"))\n",
      "  File \"/home/djanloo/.local/share/virtualenvs/DM2-PeqFRmfa/lib/python3.10/site-packages/tensorflow/python/trackable/base.py\", line 205, in _method_wrapper\n",
      "    result = method(self, *args, **kwargs)\n",
      "  File \"/home/djanloo/.local/share/virtualenvs/DM2-PeqFRmfa/lib/python3.10/site-packages/keras/utils/traceback_utils.py\", line 70, in error_handler\n",
      "    raise e.with_traceback(filtered_tb) from None\n",
      "  File \"/home/djanloo/.local/share/virtualenvs/DM2-PeqFRmfa/lib/python3.10/site-packages/keras/layers/convolutional/base_conv.py\", line 354, in compute_output_shape\n",
      "    raise ValueError(\n",
      "ValueError: One of the dimensions in the output is <= 0 due to downsampling in extra_conv_0. Consider increasing the input size. Received input shape [None, 9, 9] which would produce output shape with a zero or negative value in a dimension.\n",
      "[W 2023-06-26 17:36:06,725] Trial 58 failed with value None.\n",
      "[W 2023-06-26 17:36:07,042] Trial 59 failed with parameters: {'n_conv': 3, 'n_hidden': 2, 'hidden_nodes': 58, 'dropout': 0.0008298087530999032, 'filters': 9, 'kernel_size': 16, 'batch_size': 17, 'epochs': 90} because of the following error: ValueError('One of the dimensions in the output is <= 0 due to downsampling in extra_conv_0. Consider increasing the input size. Received input shape [None, 8, 9] which would produce output shape with a zero or negative value in a dimension.').\n",
      "Traceback (most recent call last):\n",
      "  File \"/home/djanloo/.local/share/virtualenvs/DM2-PeqFRmfa/lib/python3.10/site-packages/optuna/study/_optimize.py\", line 200, in _run_trial\n",
      "    value_or_values = func(trial)\n",
      "  File \"/tmp/ipykernel_38777/4091589858.py\", line 34, in <lambda>\n",
      "    trial_function = lambda trial: objective_fun(trial,\n",
      "  File \"/tmp/ipykernel_38777/4091589858.py\", line 15, in objective_fun\n",
      "    cnn = build_model(  X.shape[1:], len(np.unique(y)),\n",
      "  File \"/tmp/ipykernel_38777/1167308510.py\", line 27, in build_model\n",
      "    model.add(Conv1D(filters=filters, kernel_size=kernel_size, activation='relu', name=f\"extra_conv_{i}\"))\n",
      "  File \"/home/djanloo/.local/share/virtualenvs/DM2-PeqFRmfa/lib/python3.10/site-packages/tensorflow/python/trackable/base.py\", line 205, in _method_wrapper\n",
      "    result = method(self, *args, **kwargs)\n",
      "  File \"/home/djanloo/.local/share/virtualenvs/DM2-PeqFRmfa/lib/python3.10/site-packages/keras/utils/traceback_utils.py\", line 70, in error_handler\n",
      "    raise e.with_traceback(filtered_tb) from None\n",
      "  File \"/home/djanloo/.local/share/virtualenvs/DM2-PeqFRmfa/lib/python3.10/site-packages/keras/layers/convolutional/base_conv.py\", line 354, in compute_output_shape\n",
      "    raise ValueError(\n",
      "ValueError: One of the dimensions in the output is <= 0 due to downsampling in extra_conv_0. Consider increasing the input size. Received input shape [None, 8, 9] which would produce output shape with a zero or negative value in a dimension.\n",
      "[W 2023-06-26 17:36:07,055] Trial 59 failed with value None.\n"
     ]
    },
    {
     "name": "stdout",
     "output_type": "stream",
     "text": [
      "Running little bitch having n_conv=3, dropout=0.0008298087530999032, hidden_nodes=58\n"
     ]
    },
    {
     "name": "stderr",
     "output_type": "stream",
     "text": [
      "[W 2023-06-26 17:36:07,394] Trial 60 failed with parameters: {'n_conv': 3, 'n_hidden': 2, 'hidden_nodes': 69, 'dropout': 0.017290216067021483, 'filters': 9, 'kernel_size': 16, 'batch_size': 16, 'epochs': 89} because of the following error: ValueError('One of the dimensions in the output is <= 0 due to downsampling in extra_conv_0. Consider increasing the input size. Received input shape [None, 8, 9] which would produce output shape with a zero or negative value in a dimension.').\n",
      "Traceback (most recent call last):\n",
      "  File \"/home/djanloo/.local/share/virtualenvs/DM2-PeqFRmfa/lib/python3.10/site-packages/optuna/study/_optimize.py\", line 200, in _run_trial\n",
      "    value_or_values = func(trial)\n",
      "  File \"/tmp/ipykernel_38777/4091589858.py\", line 34, in <lambda>\n",
      "    trial_function = lambda trial: objective_fun(trial,\n",
      "  File \"/tmp/ipykernel_38777/4091589858.py\", line 15, in objective_fun\n",
      "    cnn = build_model(  X.shape[1:], len(np.unique(y)),\n",
      "  File \"/tmp/ipykernel_38777/1167308510.py\", line 27, in build_model\n",
      "    model.add(Conv1D(filters=filters, kernel_size=kernel_size, activation='relu', name=f\"extra_conv_{i}\"))\n",
      "  File \"/home/djanloo/.local/share/virtualenvs/DM2-PeqFRmfa/lib/python3.10/site-packages/tensorflow/python/trackable/base.py\", line 205, in _method_wrapper\n",
      "    result = method(self, *args, **kwargs)\n",
      "  File \"/home/djanloo/.local/share/virtualenvs/DM2-PeqFRmfa/lib/python3.10/site-packages/keras/utils/traceback_utils.py\", line 70, in error_handler\n",
      "    raise e.with_traceback(filtered_tb) from None\n",
      "  File \"/home/djanloo/.local/share/virtualenvs/DM2-PeqFRmfa/lib/python3.10/site-packages/keras/layers/convolutional/base_conv.py\", line 354, in compute_output_shape\n",
      "    raise ValueError(\n",
      "ValueError: One of the dimensions in the output is <= 0 due to downsampling in extra_conv_0. Consider increasing the input size. Received input shape [None, 8, 9] which would produce output shape with a zero or negative value in a dimension.\n",
      "[W 2023-06-26 17:36:07,401] Trial 60 failed with value None.\n"
     ]
    },
    {
     "name": "stdout",
     "output_type": "stream",
     "text": [
      "Running little bitch having n_conv=3, dropout=0.017290216067021483, hidden_nodes=69\n",
      "Running little bitch having n_conv=3, dropout=0.324915809316883, hidden_nodes=57\n"
     ]
    },
    {
     "name": "stderr",
     "output_type": "stream",
     "text": [
      "[W 2023-06-26 17:36:07,785] Trial 61 failed with parameters: {'n_conv': 3, 'n_hidden': 2, 'hidden_nodes': 57, 'dropout': 0.324915809316883, 'filters': 9, 'kernel_size': 16, 'batch_size': 17, 'epochs': 87} because of the following error: ValueError('One of the dimensions in the output is <= 0 due to downsampling in extra_conv_0. Consider increasing the input size. Received input shape [None, 8, 9] which would produce output shape with a zero or negative value in a dimension.').\n",
      "Traceback (most recent call last):\n",
      "  File \"/home/djanloo/.local/share/virtualenvs/DM2-PeqFRmfa/lib/python3.10/site-packages/optuna/study/_optimize.py\", line 200, in _run_trial\n",
      "    value_or_values = func(trial)\n",
      "  File \"/tmp/ipykernel_38777/4091589858.py\", line 34, in <lambda>\n",
      "    trial_function = lambda trial: objective_fun(trial,\n",
      "  File \"/tmp/ipykernel_38777/4091589858.py\", line 15, in objective_fun\n",
      "    cnn = build_model(  X.shape[1:], len(np.unique(y)),\n",
      "  File \"/tmp/ipykernel_38777/1167308510.py\", line 27, in build_model\n",
      "    model.add(Conv1D(filters=filters, kernel_size=kernel_size, activation='relu', name=f\"extra_conv_{i}\"))\n",
      "  File \"/home/djanloo/.local/share/virtualenvs/DM2-PeqFRmfa/lib/python3.10/site-packages/tensorflow/python/trackable/base.py\", line 205, in _method_wrapper\n",
      "    result = method(self, *args, **kwargs)\n",
      "  File \"/home/djanloo/.local/share/virtualenvs/DM2-PeqFRmfa/lib/python3.10/site-packages/keras/utils/traceback_utils.py\", line 70, in error_handler\n",
      "    raise e.with_traceback(filtered_tb) from None\n",
      "  File \"/home/djanloo/.local/share/virtualenvs/DM2-PeqFRmfa/lib/python3.10/site-packages/keras/layers/convolutional/base_conv.py\", line 354, in compute_output_shape\n",
      "    raise ValueError(\n",
      "ValueError: One of the dimensions in the output is <= 0 due to downsampling in extra_conv_0. Consider increasing the input size. Received input shape [None, 8, 9] which would produce output shape with a zero or negative value in a dimension.\n",
      "[W 2023-06-26 17:36:07,800] Trial 61 failed with value None.\n",
      "[W 2023-06-26 17:36:08,143] Trial 62 failed with parameters: {'n_conv': 3, 'n_hidden': 2, 'hidden_nodes': 52, 'dropout': 0.3445708859048155, 'filters': 9, 'kernel_size': 16, 'batch_size': 17, 'epochs': 90} because of the following error: ValueError('One of the dimensions in the output is <= 0 due to downsampling in extra_conv_0. Consider increasing the input size. Received input shape [None, 8, 9] which would produce output shape with a zero or negative value in a dimension.').\n",
      "Traceback (most recent call last):\n",
      "  File \"/home/djanloo/.local/share/virtualenvs/DM2-PeqFRmfa/lib/python3.10/site-packages/optuna/study/_optimize.py\", line 200, in _run_trial\n",
      "    value_or_values = func(trial)\n",
      "  File \"/tmp/ipykernel_38777/4091589858.py\", line 34, in <lambda>\n",
      "    trial_function = lambda trial: objective_fun(trial,\n",
      "  File \"/tmp/ipykernel_38777/4091589858.py\", line 15, in objective_fun\n",
      "    cnn = build_model(  X.shape[1:], len(np.unique(y)),\n",
      "  File \"/tmp/ipykernel_38777/1167308510.py\", line 27, in build_model\n",
      "    model.add(Conv1D(filters=filters, kernel_size=kernel_size, activation='relu', name=f\"extra_conv_{i}\"))\n",
      "  File \"/home/djanloo/.local/share/virtualenvs/DM2-PeqFRmfa/lib/python3.10/site-packages/tensorflow/python/trackable/base.py\", line 205, in _method_wrapper\n",
      "    result = method(self, *args, **kwargs)\n",
      "  File \"/home/djanloo/.local/share/virtualenvs/DM2-PeqFRmfa/lib/python3.10/site-packages/keras/utils/traceback_utils.py\", line 70, in error_handler\n",
      "    raise e.with_traceback(filtered_tb) from None\n",
      "  File \"/home/djanloo/.local/share/virtualenvs/DM2-PeqFRmfa/lib/python3.10/site-packages/keras/layers/convolutional/base_conv.py\", line 354, in compute_output_shape\n",
      "    raise ValueError(\n",
      "ValueError: One of the dimensions in the output is <= 0 due to downsampling in extra_conv_0. Consider increasing the input size. Received input shape [None, 8, 9] which would produce output shape with a zero or negative value in a dimension.\n",
      "[W 2023-06-26 17:36:08,155] Trial 62 failed with value None.\n"
     ]
    },
    {
     "name": "stdout",
     "output_type": "stream",
     "text": [
      "Running little bitch having n_conv=3, dropout=0.3445708859048155, hidden_nodes=52\n"
     ]
    },
    {
     "name": "stderr",
     "output_type": "stream",
     "text": [
      "[W 2023-06-26 17:36:08,471] Trial 63 failed with parameters: {'n_conv': 3, 'n_hidden': 2, 'hidden_nodes': 56, 'dropout': 0.33499701583141617, 'filters': 9, 'kernel_size': 16, 'batch_size': 16, 'epochs': 83} because of the following error: ValueError('One of the dimensions in the output is <= 0 due to downsampling in extra_conv_0. Consider increasing the input size. Received input shape [None, 8, 9] which would produce output shape with a zero or negative value in a dimension.').\n",
      "Traceback (most recent call last):\n",
      "  File \"/home/djanloo/.local/share/virtualenvs/DM2-PeqFRmfa/lib/python3.10/site-packages/optuna/study/_optimize.py\", line 200, in _run_trial\n",
      "    value_or_values = func(trial)\n",
      "  File \"/tmp/ipykernel_38777/4091589858.py\", line 34, in <lambda>\n",
      "    trial_function = lambda trial: objective_fun(trial,\n",
      "  File \"/tmp/ipykernel_38777/4091589858.py\", line 15, in objective_fun\n",
      "    cnn = build_model(  X.shape[1:], len(np.unique(y)),\n",
      "  File \"/tmp/ipykernel_38777/1167308510.py\", line 27, in build_model\n",
      "    model.add(Conv1D(filters=filters, kernel_size=kernel_size, activation='relu', name=f\"extra_conv_{i}\"))\n",
      "  File \"/home/djanloo/.local/share/virtualenvs/DM2-PeqFRmfa/lib/python3.10/site-packages/tensorflow/python/trackable/base.py\", line 205, in _method_wrapper\n",
      "    result = method(self, *args, **kwargs)\n",
      "  File \"/home/djanloo/.local/share/virtualenvs/DM2-PeqFRmfa/lib/python3.10/site-packages/keras/utils/traceback_utils.py\", line 70, in error_handler\n",
      "    raise e.with_traceback(filtered_tb) from None\n",
      "  File \"/home/djanloo/.local/share/virtualenvs/DM2-PeqFRmfa/lib/python3.10/site-packages/keras/layers/convolutional/base_conv.py\", line 354, in compute_output_shape\n",
      "    raise ValueError(\n",
      "ValueError: One of the dimensions in the output is <= 0 due to downsampling in extra_conv_0. Consider increasing the input size. Received input shape [None, 8, 9] which would produce output shape with a zero or negative value in a dimension.\n",
      "[W 2023-06-26 17:36:08,479] Trial 63 failed with value None.\n"
     ]
    },
    {
     "name": "stdout",
     "output_type": "stream",
     "text": [
      "Running little bitch having n_conv=3, dropout=0.33499701583141617, hidden_nodes=56\n",
      "Running little bitch having n_conv=3, dropout=0.006666133484675915, hidden_nodes=58\n"
     ]
    },
    {
     "name": "stderr",
     "output_type": "stream",
     "text": [
      "[W 2023-06-26 17:36:08,848] Trial 64 failed with parameters: {'n_conv': 3, 'n_hidden': 2, 'hidden_nodes': 58, 'dropout': 0.006666133484675915, 'filters': 9, 'kernel_size': 16, 'batch_size': 16, 'epochs': 88} because of the following error: ValueError('One of the dimensions in the output is <= 0 due to downsampling in extra_conv_0. Consider increasing the input size. Received input shape [None, 8, 9] which would produce output shape with a zero or negative value in a dimension.').\n",
      "Traceback (most recent call last):\n",
      "  File \"/home/djanloo/.local/share/virtualenvs/DM2-PeqFRmfa/lib/python3.10/site-packages/optuna/study/_optimize.py\", line 200, in _run_trial\n",
      "    value_or_values = func(trial)\n",
      "  File \"/tmp/ipykernel_38777/4091589858.py\", line 34, in <lambda>\n",
      "    trial_function = lambda trial: objective_fun(trial,\n",
      "  File \"/tmp/ipykernel_38777/4091589858.py\", line 15, in objective_fun\n",
      "    cnn = build_model(  X.shape[1:], len(np.unique(y)),\n",
      "  File \"/tmp/ipykernel_38777/1167308510.py\", line 27, in build_model\n",
      "    model.add(Conv1D(filters=filters, kernel_size=kernel_size, activation='relu', name=f\"extra_conv_{i}\"))\n",
      "  File \"/home/djanloo/.local/share/virtualenvs/DM2-PeqFRmfa/lib/python3.10/site-packages/tensorflow/python/trackable/base.py\", line 205, in _method_wrapper\n",
      "    result = method(self, *args, **kwargs)\n",
      "  File \"/home/djanloo/.local/share/virtualenvs/DM2-PeqFRmfa/lib/python3.10/site-packages/keras/utils/traceback_utils.py\", line 70, in error_handler\n",
      "    raise e.with_traceback(filtered_tb) from None\n",
      "  File \"/home/djanloo/.local/share/virtualenvs/DM2-PeqFRmfa/lib/python3.10/site-packages/keras/layers/convolutional/base_conv.py\", line 354, in compute_output_shape\n",
      "    raise ValueError(\n",
      "ValueError: One of the dimensions in the output is <= 0 due to downsampling in extra_conv_0. Consider increasing the input size. Received input shape [None, 8, 9] which would produce output shape with a zero or negative value in a dimension.\n",
      "[W 2023-06-26 17:36:08,861] Trial 64 failed with value None.\n"
     ]
    },
    {
     "name": "stdout",
     "output_type": "stream",
     "text": [
      "Running little bitch having n_conv=3, dropout=0.023150715300245484, hidden_nodes=52\n"
     ]
    },
    {
     "name": "stderr",
     "output_type": "stream",
     "text": [
      "[W 2023-06-26 17:36:09,190] Trial 65 failed with parameters: {'n_conv': 3, 'n_hidden': 2, 'hidden_nodes': 52, 'dropout': 0.023150715300245484, 'filters': 9, 'kernel_size': 16, 'batch_size': 18, 'epochs': 90} because of the following error: ValueError('One of the dimensions in the output is <= 0 due to downsampling in extra_conv_0. Consider increasing the input size. Received input shape [None, 8, 9] which would produce output shape with a zero or negative value in a dimension.').\n",
      "Traceback (most recent call last):\n",
      "  File \"/home/djanloo/.local/share/virtualenvs/DM2-PeqFRmfa/lib/python3.10/site-packages/optuna/study/_optimize.py\", line 200, in _run_trial\n",
      "    value_or_values = func(trial)\n",
      "  File \"/tmp/ipykernel_38777/4091589858.py\", line 34, in <lambda>\n",
      "    trial_function = lambda trial: objective_fun(trial,\n",
      "  File \"/tmp/ipykernel_38777/4091589858.py\", line 15, in objective_fun\n",
      "    cnn = build_model(  X.shape[1:], len(np.unique(y)),\n",
      "  File \"/tmp/ipykernel_38777/1167308510.py\", line 27, in build_model\n",
      "    model.add(Conv1D(filters=filters, kernel_size=kernel_size, activation='relu', name=f\"extra_conv_{i}\"))\n",
      "  File \"/home/djanloo/.local/share/virtualenvs/DM2-PeqFRmfa/lib/python3.10/site-packages/tensorflow/python/trackable/base.py\", line 205, in _method_wrapper\n",
      "    result = method(self, *args, **kwargs)\n",
      "  File \"/home/djanloo/.local/share/virtualenvs/DM2-PeqFRmfa/lib/python3.10/site-packages/keras/utils/traceback_utils.py\", line 70, in error_handler\n",
      "    raise e.with_traceback(filtered_tb) from None\n",
      "  File \"/home/djanloo/.local/share/virtualenvs/DM2-PeqFRmfa/lib/python3.10/site-packages/keras/layers/convolutional/base_conv.py\", line 354, in compute_output_shape\n",
      "    raise ValueError(\n",
      "ValueError: One of the dimensions in the output is <= 0 due to downsampling in extra_conv_0. Consider increasing the input size. Received input shape [None, 8, 9] which would produce output shape with a zero or negative value in a dimension.\n",
      "[W 2023-06-26 17:36:09,199] Trial 65 failed with value None.\n"
     ]
    },
    {
     "name": "stdout",
     "output_type": "stream",
     "text": [
      "Running little bitch having n_conv=3, dropout=0.010699891304615461, hidden_nodes=58\n"
     ]
    },
    {
     "name": "stderr",
     "output_type": "stream",
     "text": [
      "[W 2023-06-26 17:36:09,572] Trial 66 failed with parameters: {'n_conv': 3, 'n_hidden': 2, 'hidden_nodes': 58, 'dropout': 0.010699891304615461, 'filters': 9, 'kernel_size': 16, 'batch_size': 17, 'epochs': 87} because of the following error: ValueError('One of the dimensions in the output is <= 0 due to downsampling in extra_conv_0. Consider increasing the input size. Received input shape [None, 8, 9] which would produce output shape with a zero or negative value in a dimension.').\n",
      "Traceback (most recent call last):\n",
      "  File \"/home/djanloo/.local/share/virtualenvs/DM2-PeqFRmfa/lib/python3.10/site-packages/optuna/study/_optimize.py\", line 200, in _run_trial\n",
      "    value_or_values = func(trial)\n",
      "  File \"/tmp/ipykernel_38777/4091589858.py\", line 34, in <lambda>\n",
      "    trial_function = lambda trial: objective_fun(trial,\n",
      "  File \"/tmp/ipykernel_38777/4091589858.py\", line 15, in objective_fun\n",
      "    cnn = build_model(  X.shape[1:], len(np.unique(y)),\n",
      "  File \"/tmp/ipykernel_38777/1167308510.py\", line 27, in build_model\n",
      "    model.add(Conv1D(filters=filters, kernel_size=kernel_size, activation='relu', name=f\"extra_conv_{i}\"))\n",
      "  File \"/home/djanloo/.local/share/virtualenvs/DM2-PeqFRmfa/lib/python3.10/site-packages/tensorflow/python/trackable/base.py\", line 205, in _method_wrapper\n",
      "    result = method(self, *args, **kwargs)\n",
      "  File \"/home/djanloo/.local/share/virtualenvs/DM2-PeqFRmfa/lib/python3.10/site-packages/keras/utils/traceback_utils.py\", line 70, in error_handler\n",
      "    raise e.with_traceback(filtered_tb) from None\n",
      "  File \"/home/djanloo/.local/share/virtualenvs/DM2-PeqFRmfa/lib/python3.10/site-packages/keras/layers/convolutional/base_conv.py\", line 354, in compute_output_shape\n",
      "    raise ValueError(\n",
      "ValueError: One of the dimensions in the output is <= 0 due to downsampling in extra_conv_0. Consider increasing the input size. Received input shape [None, 8, 9] which would produce output shape with a zero or negative value in a dimension.\n",
      "[W 2023-06-26 17:36:09,589] Trial 66 failed with value None.\n"
     ]
    },
    {
     "name": "stdout",
     "output_type": "stream",
     "text": [
      "Running little bitch having n_conv=3, dropout=0.010808331247742081, hidden_nodes=58\n"
     ]
    },
    {
     "name": "stderr",
     "output_type": "stream",
     "text": [
      "[W 2023-06-26 17:36:09,986] Trial 67 failed with parameters: {'n_conv': 3, 'n_hidden': 2, 'hidden_nodes': 58, 'dropout': 0.010808331247742081, 'filters': 9, 'kernel_size': 16, 'batch_size': 17, 'epochs': 84} because of the following error: ValueError('One of the dimensions in the output is <= 0 due to downsampling in extra_conv_0. Consider increasing the input size. Received input shape [None, 8, 9] which would produce output shape with a zero or negative value in a dimension.').\n",
      "Traceback (most recent call last):\n",
      "  File \"/home/djanloo/.local/share/virtualenvs/DM2-PeqFRmfa/lib/python3.10/site-packages/optuna/study/_optimize.py\", line 200, in _run_trial\n",
      "    value_or_values = func(trial)\n",
      "  File \"/tmp/ipykernel_38777/4091589858.py\", line 34, in <lambda>\n",
      "    trial_function = lambda trial: objective_fun(trial,\n",
      "  File \"/tmp/ipykernel_38777/4091589858.py\", line 15, in objective_fun\n",
      "    cnn = build_model(  X.shape[1:], len(np.unique(y)),\n",
      "  File \"/tmp/ipykernel_38777/1167308510.py\", line 27, in build_model\n",
      "    model.add(Conv1D(filters=filters, kernel_size=kernel_size, activation='relu', name=f\"extra_conv_{i}\"))\n",
      "  File \"/home/djanloo/.local/share/virtualenvs/DM2-PeqFRmfa/lib/python3.10/site-packages/tensorflow/python/trackable/base.py\", line 205, in _method_wrapper\n",
      "    result = method(self, *args, **kwargs)\n",
      "  File \"/home/djanloo/.local/share/virtualenvs/DM2-PeqFRmfa/lib/python3.10/site-packages/keras/utils/traceback_utils.py\", line 70, in error_handler\n",
      "    raise e.with_traceback(filtered_tb) from None\n",
      "  File \"/home/djanloo/.local/share/virtualenvs/DM2-PeqFRmfa/lib/python3.10/site-packages/keras/layers/convolutional/base_conv.py\", line 354, in compute_output_shape\n",
      "    raise ValueError(\n",
      "ValueError: One of the dimensions in the output is <= 0 due to downsampling in extra_conv_0. Consider increasing the input size. Received input shape [None, 8, 9] which would produce output shape with a zero or negative value in a dimension.\n",
      "[W 2023-06-26 17:36:09,993] Trial 67 failed with value None.\n"
     ]
    },
    {
     "name": "stdout",
     "output_type": "stream",
     "text": [
      "Running little bitch having n_conv=3, dropout=0.3403022804892796, hidden_nodes=59\n"
     ]
    },
    {
     "name": "stderr",
     "output_type": "stream",
     "text": [
      "[W 2023-06-26 17:36:10,329] Trial 68 failed with parameters: {'n_conv': 3, 'n_hidden': 2, 'hidden_nodes': 59, 'dropout': 0.3403022804892796, 'filters': 9, 'kernel_size': 15, 'batch_size': 16, 'epochs': 90} because of the following error: ValueError('One of the dimensions in the output is <= 0 due to downsampling in extra_conv_0. Consider increasing the input size. Received input shape [None, 9, 9] which would produce output shape with a zero or negative value in a dimension.').\n",
      "Traceback (most recent call last):\n",
      "  File \"/home/djanloo/.local/share/virtualenvs/DM2-PeqFRmfa/lib/python3.10/site-packages/optuna/study/_optimize.py\", line 200, in _run_trial\n",
      "    value_or_values = func(trial)\n",
      "  File \"/tmp/ipykernel_38777/4091589858.py\", line 34, in <lambda>\n",
      "    trial_function = lambda trial: objective_fun(trial,\n",
      "  File \"/tmp/ipykernel_38777/4091589858.py\", line 15, in objective_fun\n",
      "    cnn = build_model(  X.shape[1:], len(np.unique(y)),\n",
      "  File \"/tmp/ipykernel_38777/1167308510.py\", line 27, in build_model\n",
      "    model.add(Conv1D(filters=filters, kernel_size=kernel_size, activation='relu', name=f\"extra_conv_{i}\"))\n",
      "  File \"/home/djanloo/.local/share/virtualenvs/DM2-PeqFRmfa/lib/python3.10/site-packages/tensorflow/python/trackable/base.py\", line 205, in _method_wrapper\n",
      "    result = method(self, *args, **kwargs)\n",
      "  File \"/home/djanloo/.local/share/virtualenvs/DM2-PeqFRmfa/lib/python3.10/site-packages/keras/utils/traceback_utils.py\", line 70, in error_handler\n",
      "    raise e.with_traceback(filtered_tb) from None\n",
      "  File \"/home/djanloo/.local/share/virtualenvs/DM2-PeqFRmfa/lib/python3.10/site-packages/keras/layers/convolutional/base_conv.py\", line 354, in compute_output_shape\n",
      "    raise ValueError(\n",
      "ValueError: One of the dimensions in the output is <= 0 due to downsampling in extra_conv_0. Consider increasing the input size. Received input shape [None, 9, 9] which would produce output shape with a zero or negative value in a dimension.\n",
      "[W 2023-06-26 17:36:10,355] Trial 68 failed with value None.\n",
      "[W 2023-06-26 17:36:10,666] Trial 69 failed with parameters: {'n_conv': 3, 'n_hidden': 2, 'hidden_nodes': 61, 'dropout': 0.05144597686156295, 'filters': 9, 'kernel_size': 16, 'batch_size': 20, 'epochs': 90} because of the following error: ValueError('One of the dimensions in the output is <= 0 due to downsampling in extra_conv_0. Consider increasing the input size. Received input shape [None, 8, 9] which would produce output shape with a zero or negative value in a dimension.').\n",
      "Traceback (most recent call last):\n",
      "  File \"/home/djanloo/.local/share/virtualenvs/DM2-PeqFRmfa/lib/python3.10/site-packages/optuna/study/_optimize.py\", line 200, in _run_trial\n",
      "    value_or_values = func(trial)\n",
      "  File \"/tmp/ipykernel_38777/4091589858.py\", line 34, in <lambda>\n",
      "    trial_function = lambda trial: objective_fun(trial,\n",
      "  File \"/tmp/ipykernel_38777/4091589858.py\", line 15, in objective_fun\n",
      "    cnn = build_model(  X.shape[1:], len(np.unique(y)),\n",
      "  File \"/tmp/ipykernel_38777/1167308510.py\", line 27, in build_model\n",
      "    model.add(Conv1D(filters=filters, kernel_size=kernel_size, activation='relu', name=f\"extra_conv_{i}\"))\n",
      "  File \"/home/djanloo/.local/share/virtualenvs/DM2-PeqFRmfa/lib/python3.10/site-packages/tensorflow/python/trackable/base.py\", line 205, in _method_wrapper\n",
      "    result = method(self, *args, **kwargs)\n",
      "  File \"/home/djanloo/.local/share/virtualenvs/DM2-PeqFRmfa/lib/python3.10/site-packages/keras/utils/traceback_utils.py\", line 70, in error_handler\n",
      "    raise e.with_traceback(filtered_tb) from None\n",
      "  File \"/home/djanloo/.local/share/virtualenvs/DM2-PeqFRmfa/lib/python3.10/site-packages/keras/layers/convolutional/base_conv.py\", line 354, in compute_output_shape\n",
      "    raise ValueError(\n",
      "ValueError: One of the dimensions in the output is <= 0 due to downsampling in extra_conv_0. Consider increasing the input size. Received input shape [None, 8, 9] which would produce output shape with a zero or negative value in a dimension.\n",
      "[W 2023-06-26 17:36:10,679] Trial 69 failed with value None.\n"
     ]
    },
    {
     "name": "stdout",
     "output_type": "stream",
     "text": [
      "Running little bitch having n_conv=3, dropout=0.05144597686156295, hidden_nodes=61\n",
      " 4/13 [========>.....................] - ETA: 0s Running little bitch having n_conv=3, dropout=0.010262387492923922, hidden_nodes=58\n",
      "13/13 [==============================] - 1s 15ms/step\n"
     ]
    },
    {
     "name": "stderr",
     "output_type": "stream",
     "text": [
      "[W 2023-06-26 17:36:11,094] Trial 70 failed with parameters: {'n_conv': 3, 'n_hidden': 2, 'hidden_nodes': 58, 'dropout': 0.010262387492923922, 'filters': 9, 'kernel_size': 16, 'batch_size': 20, 'epochs': 88} because of the following error: ValueError('One of the dimensions in the output is <= 0 due to downsampling in extra_conv_0. Consider increasing the input size. Received input shape [None, 8, 9] which would produce output shape with a zero or negative value in a dimension.').\n",
      "Traceback (most recent call last):\n",
      "  File \"/home/djanloo/.local/share/virtualenvs/DM2-PeqFRmfa/lib/python3.10/site-packages/optuna/study/_optimize.py\", line 200, in _run_trial\n",
      "    value_or_values = func(trial)\n",
      "  File \"/tmp/ipykernel_38777/4091589858.py\", line 34, in <lambda>\n",
      "    trial_function = lambda trial: objective_fun(trial,\n",
      "  File \"/tmp/ipykernel_38777/4091589858.py\", line 15, in objective_fun\n",
      "    cnn = build_model(  X.shape[1:], len(np.unique(y)),\n",
      "  File \"/tmp/ipykernel_38777/1167308510.py\", line 27, in build_model\n",
      "    model.add(Conv1D(filters=filters, kernel_size=kernel_size, activation='relu', name=f\"extra_conv_{i}\"))\n",
      "  File \"/home/djanloo/.local/share/virtualenvs/DM2-PeqFRmfa/lib/python3.10/site-packages/tensorflow/python/trackable/base.py\", line 205, in _method_wrapper\n",
      "    result = method(self, *args, **kwargs)\n",
      "  File \"/home/djanloo/.local/share/virtualenvs/DM2-PeqFRmfa/lib/python3.10/site-packages/keras/utils/traceback_utils.py\", line 70, in error_handler\n",
      "    raise e.with_traceback(filtered_tb) from None\n",
      "  File \"/home/djanloo/.local/share/virtualenvs/DM2-PeqFRmfa/lib/python3.10/site-packages/keras/layers/convolutional/base_conv.py\", line 354, in compute_output_shape\n",
      "    raise ValueError(\n",
      "ValueError: One of the dimensions in the output is <= 0 due to downsampling in extra_conv_0. Consider increasing the input size. Received input shape [None, 8, 9] which would produce output shape with a zero or negative value in a dimension.\n",
      "[W 2023-06-26 17:36:11,101] Trial 70 failed with value None.\n",
      "[I 2023-06-26 17:36:11,105] Trial 25 finished with value: 0.9819121447028424 and parameters: {'n_conv': 2, 'n_hidden': 3, 'hidden_nodes': 22, 'dropout': 0.11758425550318652, 'filters': 12, 'kernel_size': 4, 'batch_size': 49, 'epochs': 73}. Best is trial 20 with value: 0.9870801033591732.\n"
     ]
    },
    {
     "name": "stdout",
     "output_type": "stream",
     "text": [
      "Running little bitch having n_conv=3, dropout=0.29535470672351966, hidden_nodes=30\n",
      "Running little bitch having n_conv=3, dropout=0.3470600194408203, hidden_nodes=10\n"
     ]
    },
    {
     "name": "stderr",
     "output_type": "stream",
     "text": [
      "[W 2023-06-26 17:36:11,535] Trial 71 failed with parameters: {'n_conv': 3, 'n_hidden': 2, 'hidden_nodes': 10, 'dropout': 0.3470600194408203, 'filters': 11, 'kernel_size': 16, 'batch_size': 26, 'epochs': 64} because of the following error: ValueError('One of the dimensions in the output is <= 0 due to downsampling in extra_conv_0. Consider increasing the input size. Received input shape [None, 8, 11] which would produce output shape with a zero or negative value in a dimension.').\n",
      "Traceback (most recent call last):\n",
      "  File \"/home/djanloo/.local/share/virtualenvs/DM2-PeqFRmfa/lib/python3.10/site-packages/optuna/study/_optimize.py\", line 200, in _run_trial\n",
      "    value_or_values = func(trial)\n",
      "  File \"/tmp/ipykernel_38777/4091589858.py\", line 34, in <lambda>\n",
      "    trial_function = lambda trial: objective_fun(trial,\n",
      "  File \"/tmp/ipykernel_38777/4091589858.py\", line 15, in objective_fun\n",
      "    cnn = build_model(  X.shape[1:], len(np.unique(y)),\n",
      "  File \"/tmp/ipykernel_38777/1167308510.py\", line 27, in build_model\n",
      "    model.add(Conv1D(filters=filters, kernel_size=kernel_size, activation='relu', name=f\"extra_conv_{i}\"))\n",
      "  File \"/home/djanloo/.local/share/virtualenvs/DM2-PeqFRmfa/lib/python3.10/site-packages/tensorflow/python/trackable/base.py\", line 205, in _method_wrapper\n",
      "    result = method(self, *args, **kwargs)\n",
      "  File \"/home/djanloo/.local/share/virtualenvs/DM2-PeqFRmfa/lib/python3.10/site-packages/keras/utils/traceback_utils.py\", line 70, in error_handler\n",
      "    raise e.with_traceback(filtered_tb) from None\n",
      "  File \"/home/djanloo/.local/share/virtualenvs/DM2-PeqFRmfa/lib/python3.10/site-packages/keras/layers/convolutional/base_conv.py\", line 354, in compute_output_shape\n",
      "    raise ValueError(\n",
      "ValueError: One of the dimensions in the output is <= 0 due to downsampling in extra_conv_0. Consider increasing the input size. Received input shape [None, 8, 11] which would produce output shape with a zero or negative value in a dimension.\n",
      "[W 2023-06-26 17:36:11,543] Trial 71 failed with value None.\n",
      "[W 2023-06-26 17:36:11,620] Trial 72 failed with parameters: {'n_conv': 3, 'n_hidden': 2, 'hidden_nodes': 30, 'dropout': 0.29535470672351966, 'filters': 16, 'kernel_size': 16, 'batch_size': 18, 'epochs': 59} because of the following error: ValueError('One of the dimensions in the output is <= 0 due to downsampling in extra_conv_0. Consider increasing the input size. Received input shape [None, 8, 16] which would produce output shape with a zero or negative value in a dimension.').\n",
      "Traceback (most recent call last):\n",
      "  File \"/home/djanloo/.local/share/virtualenvs/DM2-PeqFRmfa/lib/python3.10/site-packages/optuna/study/_optimize.py\", line 200, in _run_trial\n",
      "    value_or_values = func(trial)\n",
      "  File \"/tmp/ipykernel_38777/4091589858.py\", line 34, in <lambda>\n",
      "    trial_function = lambda trial: objective_fun(trial,\n",
      "  File \"/tmp/ipykernel_38777/4091589858.py\", line 15, in objective_fun\n",
      "    cnn = build_model(  X.shape[1:], len(np.unique(y)),\n",
      "  File \"/tmp/ipykernel_38777/1167308510.py\", line 27, in build_model\n",
      "    model.add(Conv1D(filters=filters, kernel_size=kernel_size, activation='relu', name=f\"extra_conv_{i}\"))\n",
      "  File \"/home/djanloo/.local/share/virtualenvs/DM2-PeqFRmfa/lib/python3.10/site-packages/tensorflow/python/trackable/base.py\", line 205, in _method_wrapper\n",
      "    result = method(self, *args, **kwargs)\n",
      "  File \"/home/djanloo/.local/share/virtualenvs/DM2-PeqFRmfa/lib/python3.10/site-packages/keras/utils/traceback_utils.py\", line 70, in error_handler\n",
      "    raise e.with_traceback(filtered_tb) from None\n",
      "  File \"/home/djanloo/.local/share/virtualenvs/DM2-PeqFRmfa/lib/python3.10/site-packages/keras/layers/convolutional/base_conv.py\", line 354, in compute_output_shape\n",
      "    raise ValueError(\n",
      "ValueError: One of the dimensions in the output is <= 0 due to downsampling in extra_conv_0. Consider increasing the input size. Received input shape [None, 8, 16] which would produce output shape with a zero or negative value in a dimension.\n",
      "[W 2023-06-26 17:36:11,678] Trial 72 failed with value None.\n"
     ]
    },
    {
     "name": "stdout",
     "output_type": "stream",
     "text": [
      "Running little bitch having n_conv=3, dropout=0.3395058562743759, hidden_nodes=8\n",
      "Running little bitch having n_conv=3, dropout=0.34712159576361323, hidden_nodes=25\n"
     ]
    },
    {
     "name": "stderr",
     "output_type": "stream",
     "text": [
      "[W 2023-06-26 17:36:12,038] Trial 73 failed with parameters: {'n_conv': 3, 'n_hidden': 2, 'hidden_nodes': 8, 'dropout': 0.3395058562743759, 'filters': 10, 'kernel_size': 16, 'batch_size': 16, 'epochs': 59} because of the following error: ValueError('One of the dimensions in the output is <= 0 due to downsampling in extra_conv_0. Consider increasing the input size. Received input shape [None, 8, 10] which would produce output shape with a zero or negative value in a dimension.').\n",
      "Traceback (most recent call last):\n",
      "  File \"/home/djanloo/.local/share/virtualenvs/DM2-PeqFRmfa/lib/python3.10/site-packages/optuna/study/_optimize.py\", line 200, in _run_trial\n",
      "    value_or_values = func(trial)\n",
      "  File \"/tmp/ipykernel_38777/4091589858.py\", line 34, in <lambda>\n",
      "    trial_function = lambda trial: objective_fun(trial,\n",
      "  File \"/tmp/ipykernel_38777/4091589858.py\", line 15, in objective_fun\n",
      "    cnn = build_model(  X.shape[1:], len(np.unique(y)),\n",
      "  File \"/tmp/ipykernel_38777/1167308510.py\", line 27, in build_model\n",
      "    model.add(Conv1D(filters=filters, kernel_size=kernel_size, activation='relu', name=f\"extra_conv_{i}\"))\n",
      "  File \"/home/djanloo/.local/share/virtualenvs/DM2-PeqFRmfa/lib/python3.10/site-packages/tensorflow/python/trackable/base.py\", line 205, in _method_wrapper\n",
      "    result = method(self, *args, **kwargs)\n",
      "  File \"/home/djanloo/.local/share/virtualenvs/DM2-PeqFRmfa/lib/python3.10/site-packages/keras/utils/traceback_utils.py\", line 70, in error_handler\n",
      "    raise e.with_traceback(filtered_tb) from None\n",
      "  File \"/home/djanloo/.local/share/virtualenvs/DM2-PeqFRmfa/lib/python3.10/site-packages/keras/layers/convolutional/base_conv.py\", line 354, in compute_output_shape\n",
      "    raise ValueError(\n",
      "ValueError: One of the dimensions in the output is <= 0 due to downsampling in extra_conv_0. Consider increasing the input size. Received input shape [None, 8, 10] which would produce output shape with a zero or negative value in a dimension.\n",
      "[W 2023-06-26 17:36:12,060] Trial 73 failed with value None.\n"
     ]
    },
    {
     "name": "stdout",
     "output_type": "stream",
     "text": [
      "Running little bitch having n_conv=3, dropout=0.360204458661317, hidden_nodes=17\n"
     ]
    },
    {
     "name": "stderr",
     "output_type": "stream",
     "text": [
      "[W 2023-06-26 17:36:12,424] Trial 75 failed with parameters: {'n_conv': 3, 'n_hidden': 2, 'hidden_nodes': 17, 'dropout': 0.360204458661317, 'filters': 11, 'kernel_size': 16, 'batch_size': 21, 'epochs': 60} because of the following error: ValueError('One of the dimensions in the output is <= 0 due to downsampling in extra_conv_0. Consider increasing the input size. Received input shape [None, 8, 11] which would produce output shape with a zero or negative value in a dimension.').\n",
      "Traceback (most recent call last):\n",
      "  File \"/home/djanloo/.local/share/virtualenvs/DM2-PeqFRmfa/lib/python3.10/site-packages/optuna/study/_optimize.py\", line 200, in _run_trial\n",
      "    value_or_values = func(trial)\n",
      "  File \"/tmp/ipykernel_38777/4091589858.py\", line 34, in <lambda>\n",
      "    trial_function = lambda trial: objective_fun(trial,\n",
      "  File \"/tmp/ipykernel_38777/4091589858.py\", line 15, in objective_fun\n",
      "    cnn = build_model(  X.shape[1:], len(np.unique(y)),\n",
      "  File \"/tmp/ipykernel_38777/1167308510.py\", line 27, in build_model\n",
      "    model.add(Conv1D(filters=filters, kernel_size=kernel_size, activation='relu', name=f\"extra_conv_{i}\"))\n",
      "  File \"/home/djanloo/.local/share/virtualenvs/DM2-PeqFRmfa/lib/python3.10/site-packages/tensorflow/python/trackable/base.py\", line 205, in _method_wrapper\n",
      "    result = method(self, *args, **kwargs)\n",
      "  File \"/home/djanloo/.local/share/virtualenvs/DM2-PeqFRmfa/lib/python3.10/site-packages/keras/utils/traceback_utils.py\", line 70, in error_handler\n",
      "    raise e.with_traceback(filtered_tb) from None\n",
      "  File \"/home/djanloo/.local/share/virtualenvs/DM2-PeqFRmfa/lib/python3.10/site-packages/keras/layers/convolutional/base_conv.py\", line 354, in compute_output_shape\n",
      "    raise ValueError(\n",
      "ValueError: One of the dimensions in the output is <= 0 due to downsampling in extra_conv_0. Consider increasing the input size. Received input shape [None, 8, 11] which would produce output shape with a zero or negative value in a dimension.\n",
      "[W 2023-06-26 17:36:12,431] Trial 75 failed with value None.\n",
      "[W 2023-06-26 17:36:12,721] Trial 74 failed with parameters: {'n_conv': 3, 'n_hidden': 2, 'hidden_nodes': 25, 'dropout': 0.34712159576361323, 'filters': 16, 'kernel_size': 8, 'batch_size': 17, 'epochs': 58} because of the following error: ValueError('One of the dimensions in the output is <= 0 due to downsampling in extra_conv_2. Consider increasing the input size. Received input shape [None, 2, 16] which would produce output shape with a zero or negative value in a dimension.').\n",
      "Traceback (most recent call last):\n",
      "  File \"/home/djanloo/.local/share/virtualenvs/DM2-PeqFRmfa/lib/python3.10/site-packages/optuna/study/_optimize.py\", line 200, in _run_trial\n",
      "    value_or_values = func(trial)\n",
      "  File \"/tmp/ipykernel_38777/4091589858.py\", line 34, in <lambda>\n",
      "    trial_function = lambda trial: objective_fun(trial,\n",
      "  File \"/tmp/ipykernel_38777/4091589858.py\", line 15, in objective_fun\n",
      "    cnn = build_model(  X.shape[1:], len(np.unique(y)),\n",
      "  File \"/tmp/ipykernel_38777/1167308510.py\", line 27, in build_model\n",
      "    model.add(Conv1D(filters=filters, kernel_size=kernel_size, activation='relu', name=f\"extra_conv_{i}\"))\n",
      "  File \"/home/djanloo/.local/share/virtualenvs/DM2-PeqFRmfa/lib/python3.10/site-packages/tensorflow/python/trackable/base.py\", line 205, in _method_wrapper\n",
      "    result = method(self, *args, **kwargs)\n",
      "  File \"/home/djanloo/.local/share/virtualenvs/DM2-PeqFRmfa/lib/python3.10/site-packages/keras/utils/traceback_utils.py\", line 70, in error_handler\n",
      "    raise e.with_traceback(filtered_tb) from None\n",
      "  File \"/home/djanloo/.local/share/virtualenvs/DM2-PeqFRmfa/lib/python3.10/site-packages/keras/layers/convolutional/base_conv.py\", line 354, in compute_output_shape\n",
      "    raise ValueError(\n",
      "ValueError: One of the dimensions in the output is <= 0 due to downsampling in extra_conv_2. Consider increasing the input size. Received input shape [None, 2, 16] which would produce output shape with a zero or negative value in a dimension.\n",
      "[W 2023-06-26 17:36:12,726] Trial 74 failed with value None.\n"
     ]
    },
    {
     "name": "stdout",
     "output_type": "stream",
     "text": [
      "Running little bitch having n_conv=3, dropout=0.3621934938700035, hidden_nodes=13\n"
     ]
    },
    {
     "name": "stderr",
     "output_type": "stream",
     "text": [
      "[W 2023-06-26 17:36:12,899] Trial 76 failed with parameters: {'n_conv': 3, 'n_hidden': 2, 'hidden_nodes': 13, 'dropout': 0.3621934938700035, 'filters': 16, 'kernel_size': 16, 'batch_size': 16, 'epochs': 59} because of the following error: ValueError('One of the dimensions in the output is <= 0 due to downsampling in extra_conv_0. Consider increasing the input size. Received input shape [None, 8, 16] which would produce output shape with a zero or negative value in a dimension.').\n",
      "Traceback (most recent call last):\n",
      "  File \"/home/djanloo/.local/share/virtualenvs/DM2-PeqFRmfa/lib/python3.10/site-packages/optuna/study/_optimize.py\", line 200, in _run_trial\n",
      "    value_or_values = func(trial)\n",
      "  File \"/tmp/ipykernel_38777/4091589858.py\", line 34, in <lambda>\n",
      "    trial_function = lambda trial: objective_fun(trial,\n",
      "  File \"/tmp/ipykernel_38777/4091589858.py\", line 15, in objective_fun\n",
      "    cnn = build_model(  X.shape[1:], len(np.unique(y)),\n",
      "  File \"/tmp/ipykernel_38777/1167308510.py\", line 27, in build_model\n",
      "    model.add(Conv1D(filters=filters, kernel_size=kernel_size, activation='relu', name=f\"extra_conv_{i}\"))\n",
      "  File \"/home/djanloo/.local/share/virtualenvs/DM2-PeqFRmfa/lib/python3.10/site-packages/tensorflow/python/trackable/base.py\", line 205, in _method_wrapper\n",
      "    result = method(self, *args, **kwargs)\n",
      "  File \"/home/djanloo/.local/share/virtualenvs/DM2-PeqFRmfa/lib/python3.10/site-packages/keras/utils/traceback_utils.py\", line 70, in error_handler\n",
      "    raise e.with_traceback(filtered_tb) from None\n",
      "  File \"/home/djanloo/.local/share/virtualenvs/DM2-PeqFRmfa/lib/python3.10/site-packages/keras/layers/convolutional/base_conv.py\", line 354, in compute_output_shape\n",
      "    raise ValueError(\n",
      "ValueError: One of the dimensions in the output is <= 0 due to downsampling in extra_conv_0. Consider increasing the input size. Received input shape [None, 8, 16] which would produce output shape with a zero or negative value in a dimension.\n",
      "[W 2023-06-26 17:36:12,916] Trial 76 failed with value None.\n"
     ]
    },
    {
     "name": "stdout",
     "output_type": "stream",
     "text": [
      "Running little bitch having n_conv=3, dropout=0.34727205299647623, hidden_nodes=10\n",
      "Running little bitch having n_conv=3, dropout=0.34426326294637044, hidden_nodes=11\n"
     ]
    },
    {
     "name": "stderr",
     "output_type": "stream",
     "text": [
      "[W 2023-06-26 17:36:13,194] Trial 77 failed with parameters: {'n_conv': 3, 'n_hidden': 2, 'hidden_nodes': 10, 'dropout': 0.34727205299647623, 'filters': 16, 'kernel_size': 16, 'batch_size': 20, 'epochs': 59} because of the following error: ValueError('One of the dimensions in the output is <= 0 due to downsampling in extra_conv_0. Consider increasing the input size. Received input shape [None, 8, 16] which would produce output shape with a zero or negative value in a dimension.').\n",
      "Traceback (most recent call last):\n",
      "  File \"/home/djanloo/.local/share/virtualenvs/DM2-PeqFRmfa/lib/python3.10/site-packages/optuna/study/_optimize.py\", line 200, in _run_trial\n",
      "    value_or_values = func(trial)\n",
      "  File \"/tmp/ipykernel_38777/4091589858.py\", line 34, in <lambda>\n",
      "    trial_function = lambda trial: objective_fun(trial,\n",
      "  File \"/tmp/ipykernel_38777/4091589858.py\", line 15, in objective_fun\n",
      "    cnn = build_model(  X.shape[1:], len(np.unique(y)),\n",
      "  File \"/tmp/ipykernel_38777/1167308510.py\", line 27, in build_model\n",
      "    model.add(Conv1D(filters=filters, kernel_size=kernel_size, activation='relu', name=f\"extra_conv_{i}\"))\n",
      "  File \"/home/djanloo/.local/share/virtualenvs/DM2-PeqFRmfa/lib/python3.10/site-packages/tensorflow/python/trackable/base.py\", line 205, in _method_wrapper\n",
      "    result = method(self, *args, **kwargs)\n",
      "  File \"/home/djanloo/.local/share/virtualenvs/DM2-PeqFRmfa/lib/python3.10/site-packages/keras/utils/traceback_utils.py\", line 70, in error_handler\n",
      "    raise e.with_traceback(filtered_tb) from None\n",
      "  File \"/home/djanloo/.local/share/virtualenvs/DM2-PeqFRmfa/lib/python3.10/site-packages/keras/layers/convolutional/base_conv.py\", line 354, in compute_output_shape\n",
      "    raise ValueError(\n",
      "ValueError: One of the dimensions in the output is <= 0 due to downsampling in extra_conv_0. Consider increasing the input size. Received input shape [None, 8, 16] which would produce output shape with a zero or negative value in a dimension.\n",
      "[W 2023-06-26 17:36:13,197] Trial 77 failed with value None.\n"
     ]
    },
    {
     "name": "stdout",
     "output_type": "stream",
     "text": [
      "Running little bitch having n_conv=3, dropout=0.3831089226270011, hidden_nodes=9\n"
     ]
    },
    {
     "name": "stderr",
     "output_type": "stream",
     "text": [
      "[W 2023-06-26 17:36:13,569] Trial 79 failed with parameters: {'n_conv': 3, 'n_hidden': 2, 'hidden_nodes': 9, 'dropout': 0.3831089226270011, 'filters': 16, 'kernel_size': 16, 'batch_size': 23, 'epochs': 61} because of the following error: ValueError('One of the dimensions in the output is <= 0 due to downsampling in extra_conv_0. Consider increasing the input size. Received input shape [None, 8, 16] which would produce output shape with a zero or negative value in a dimension.').\n",
      "Traceback (most recent call last):\n",
      "  File \"/home/djanloo/.local/share/virtualenvs/DM2-PeqFRmfa/lib/python3.10/site-packages/optuna/study/_optimize.py\", line 200, in _run_trial\n",
      "    value_or_values = func(trial)\n",
      "  File \"/tmp/ipykernel_38777/4091589858.py\", line 34, in <lambda>\n",
      "    trial_function = lambda trial: objective_fun(trial,\n",
      "  File \"/tmp/ipykernel_38777/4091589858.py\", line 15, in objective_fun\n",
      "    cnn = build_model(  X.shape[1:], len(np.unique(y)),\n",
      "  File \"/tmp/ipykernel_38777/1167308510.py\", line 27, in build_model\n",
      "    model.add(Conv1D(filters=filters, kernel_size=kernel_size, activation='relu', name=f\"extra_conv_{i}\"))\n",
      "  File \"/home/djanloo/.local/share/virtualenvs/DM2-PeqFRmfa/lib/python3.10/site-packages/tensorflow/python/trackable/base.py\", line 205, in _method_wrapper\n",
      "    result = method(self, *args, **kwargs)\n",
      "  File \"/home/djanloo/.local/share/virtualenvs/DM2-PeqFRmfa/lib/python3.10/site-packages/keras/utils/traceback_utils.py\", line 70, in error_handler\n",
      "    raise e.with_traceback(filtered_tb) from None\n",
      "  File \"/home/djanloo/.local/share/virtualenvs/DM2-PeqFRmfa/lib/python3.10/site-packages/keras/layers/convolutional/base_conv.py\", line 354, in compute_output_shape\n",
      "    raise ValueError(\n",
      "ValueError: One of the dimensions in the output is <= 0 due to downsampling in extra_conv_0. Consider increasing the input size. Received input shape [None, 8, 16] which would produce output shape with a zero or negative value in a dimension.\n",
      "[W 2023-06-26 17:36:13,572] Trial 79 failed with value None.\n"
     ]
    },
    {
     "name": "stdout",
     "output_type": "stream",
     "text": [
      "Running little bitch having n_conv=3, dropout=0.4051833658020018, hidden_nodes=14\n"
     ]
    },
    {
     "name": "stderr",
     "output_type": "stream",
     "text": [
      "[W 2023-06-26 17:36:13,975] Trial 78 failed with parameters: {'n_conv': 3, 'n_hidden': 2, 'hidden_nodes': 11, 'dropout': 0.34426326294637044, 'filters': 16, 'kernel_size': 7, 'batch_size': 17, 'epochs': 59} because of the following error: ValueError('One of the dimensions in the output is <= 0 due to downsampling in extra_conv_2. Consider increasing the input size. Received input shape [None, 5, 16] which would produce output shape with a zero or negative value in a dimension.').\n",
      "Traceback (most recent call last):\n",
      "  File \"/home/djanloo/.local/share/virtualenvs/DM2-PeqFRmfa/lib/python3.10/site-packages/optuna/study/_optimize.py\", line 200, in _run_trial\n",
      "    value_or_values = func(trial)\n",
      "  File \"/tmp/ipykernel_38777/4091589858.py\", line 34, in <lambda>\n",
      "    trial_function = lambda trial: objective_fun(trial,\n",
      "  File \"/tmp/ipykernel_38777/4091589858.py\", line 15, in objective_fun\n",
      "    cnn = build_model(  X.shape[1:], len(np.unique(y)),\n",
      "  File \"/tmp/ipykernel_38777/1167308510.py\", line 27, in build_model\n",
      "    model.add(Conv1D(filters=filters, kernel_size=kernel_size, activation='relu', name=f\"extra_conv_{i}\"))\n",
      "  File \"/home/djanloo/.local/share/virtualenvs/DM2-PeqFRmfa/lib/python3.10/site-packages/tensorflow/python/trackable/base.py\", line 205, in _method_wrapper\n",
      "    result = method(self, *args, **kwargs)\n",
      "  File \"/home/djanloo/.local/share/virtualenvs/DM2-PeqFRmfa/lib/python3.10/site-packages/keras/utils/traceback_utils.py\", line 70, in error_handler\n",
      "    raise e.with_traceback(filtered_tb) from None\n",
      "  File \"/home/djanloo/.local/share/virtualenvs/DM2-PeqFRmfa/lib/python3.10/site-packages/keras/layers/convolutional/base_conv.py\", line 354, in compute_output_shape\n",
      "    raise ValueError(\n",
      "ValueError: One of the dimensions in the output is <= 0 due to downsampling in extra_conv_2. Consider increasing the input size. Received input shape [None, 5, 16] which would produce output shape with a zero or negative value in a dimension.\n",
      "[W 2023-06-26 17:36:13,988] Trial 78 failed with value None.\n"
     ]
    },
    {
     "name": "stdout",
     "output_type": "stream",
     "text": [
      "Running little bitch having n_conv=3, dropout=0.3450482888548675, hidden_nodes=11\n"
     ]
    },
    {
     "name": "stderr",
     "output_type": "stream",
     "text": [
      "[W 2023-06-26 17:36:14,384] Trial 81 failed with parameters: {'n_conv': 3, 'n_hidden': 2, 'hidden_nodes': 11, 'dropout': 0.3450482888548675, 'filters': 16, 'kernel_size': 16, 'batch_size': 16, 'epochs': 58} because of the following error: ValueError('One of the dimensions in the output is <= 0 due to downsampling in extra_conv_0. Consider increasing the input size. Received input shape [None, 8, 16] which would produce output shape with a zero or negative value in a dimension.').\n",
      "Traceback (most recent call last):\n",
      "  File \"/home/djanloo/.local/share/virtualenvs/DM2-PeqFRmfa/lib/python3.10/site-packages/optuna/study/_optimize.py\", line 200, in _run_trial\n",
      "    value_or_values = func(trial)\n",
      "  File \"/tmp/ipykernel_38777/4091589858.py\", line 34, in <lambda>\n",
      "    trial_function = lambda trial: objective_fun(trial,\n",
      "  File \"/tmp/ipykernel_38777/4091589858.py\", line 15, in objective_fun\n",
      "    cnn = build_model(  X.shape[1:], len(np.unique(y)),\n",
      "  File \"/tmp/ipykernel_38777/1167308510.py\", line 27, in build_model\n",
      "    model.add(Conv1D(filters=filters, kernel_size=kernel_size, activation='relu', name=f\"extra_conv_{i}\"))\n",
      "  File \"/home/djanloo/.local/share/virtualenvs/DM2-PeqFRmfa/lib/python3.10/site-packages/tensorflow/python/trackable/base.py\", line 205, in _method_wrapper\n",
      "    result = method(self, *args, **kwargs)\n",
      "  File \"/home/djanloo/.local/share/virtualenvs/DM2-PeqFRmfa/lib/python3.10/site-packages/keras/utils/traceback_utils.py\", line 70, in error_handler\n",
      "    raise e.with_traceback(filtered_tb) from None\n",
      "  File \"/home/djanloo/.local/share/virtualenvs/DM2-PeqFRmfa/lib/python3.10/site-packages/keras/layers/convolutional/base_conv.py\", line 354, in compute_output_shape\n",
      "    raise ValueError(\n",
      "ValueError: One of the dimensions in the output is <= 0 due to downsampling in extra_conv_0. Consider increasing the input size. Received input shape [None, 8, 16] which would produce output shape with a zero or negative value in a dimension.\n",
      "[W 2023-06-26 17:36:14,390] Trial 81 failed with value None.\n",
      "[W 2023-06-26 17:36:14,581] Trial 80 failed with parameters: {'n_conv': 3, 'n_hidden': 2, 'hidden_nodes': 14, 'dropout': 0.4051833658020018, 'filters': 16, 'kernel_size': 8, 'batch_size': 16, 'epochs': 58} because of the following error: ValueError('One of the dimensions in the output is <= 0 due to downsampling in extra_conv_2. Consider increasing the input size. Received input shape [None, 2, 16] which would produce output shape with a zero or negative value in a dimension.').\n",
      "Traceback (most recent call last):\n",
      "  File \"/home/djanloo/.local/share/virtualenvs/DM2-PeqFRmfa/lib/python3.10/site-packages/optuna/study/_optimize.py\", line 200, in _run_trial\n",
      "    value_or_values = func(trial)\n",
      "  File \"/tmp/ipykernel_38777/4091589858.py\", line 34, in <lambda>\n",
      "    trial_function = lambda trial: objective_fun(trial,\n",
      "  File \"/tmp/ipykernel_38777/4091589858.py\", line 15, in objective_fun\n",
      "    cnn = build_model(  X.shape[1:], len(np.unique(y)),\n",
      "  File \"/tmp/ipykernel_38777/1167308510.py\", line 27, in build_model\n",
      "    model.add(Conv1D(filters=filters, kernel_size=kernel_size, activation='relu', name=f\"extra_conv_{i}\"))\n",
      "  File \"/home/djanloo/.local/share/virtualenvs/DM2-PeqFRmfa/lib/python3.10/site-packages/tensorflow/python/trackable/base.py\", line 205, in _method_wrapper\n",
      "    result = method(self, *args, **kwargs)\n",
      "  File \"/home/djanloo/.local/share/virtualenvs/DM2-PeqFRmfa/lib/python3.10/site-packages/keras/utils/traceback_utils.py\", line 70, in error_handler\n",
      "    raise e.with_traceback(filtered_tb) from None\n",
      "  File \"/home/djanloo/.local/share/virtualenvs/DM2-PeqFRmfa/lib/python3.10/site-packages/keras/layers/convolutional/base_conv.py\", line 354, in compute_output_shape\n",
      "    raise ValueError(\n",
      "ValueError: One of the dimensions in the output is <= 0 due to downsampling in extra_conv_2. Consider increasing the input size. Received input shape [None, 2, 16] which would produce output shape with a zero or negative value in a dimension.\n",
      "[W 2023-06-26 17:36:14,591] Trial 80 failed with value None.\n"
     ]
    },
    {
     "name": "stdout",
     "output_type": "stream",
     "text": [
      "Running little bitch having n_conv=3, dropout=0.3453075894943647, hidden_nodes=15\n",
      "Running little bitch having n_conv=3, dropout=0.35269963238376734, hidden_nodes=12\n"
     ]
    },
    {
     "name": "stderr",
     "output_type": "stream",
     "text": [
      "[W 2023-06-26 17:36:15,280] Trial 82 failed with parameters: {'n_conv': 3, 'n_hidden': 2, 'hidden_nodes': 15, 'dropout': 0.3453075894943647, 'filters': 11, 'kernel_size': 7, 'batch_size': 16, 'epochs': 57} because of the following error: ValueError('One of the dimensions in the output is <= 0 due to downsampling in extra_conv_2. Consider increasing the input size. Received input shape [None, 5, 11] which would produce output shape with a zero or negative value in a dimension.').\n",
      "Traceback (most recent call last):\n",
      "  File \"/home/djanloo/.local/share/virtualenvs/DM2-PeqFRmfa/lib/python3.10/site-packages/optuna/study/_optimize.py\", line 200, in _run_trial\n",
      "    value_or_values = func(trial)\n",
      "  File \"/tmp/ipykernel_38777/4091589858.py\", line 34, in <lambda>\n",
      "    trial_function = lambda trial: objective_fun(trial,\n",
      "  File \"/tmp/ipykernel_38777/4091589858.py\", line 15, in objective_fun\n",
      "    cnn = build_model(  X.shape[1:], len(np.unique(y)),\n",
      "  File \"/tmp/ipykernel_38777/1167308510.py\", line 27, in build_model\n",
      "    model.add(Conv1D(filters=filters, kernel_size=kernel_size, activation='relu', name=f\"extra_conv_{i}\"))\n",
      "  File \"/home/djanloo/.local/share/virtualenvs/DM2-PeqFRmfa/lib/python3.10/site-packages/tensorflow/python/trackable/base.py\", line 205, in _method_wrapper\n",
      "    result = method(self, *args, **kwargs)\n",
      "  File \"/home/djanloo/.local/share/virtualenvs/DM2-PeqFRmfa/lib/python3.10/site-packages/keras/utils/traceback_utils.py\", line 70, in error_handler\n",
      "    raise e.with_traceback(filtered_tb) from None\n",
      "  File \"/home/djanloo/.local/share/virtualenvs/DM2-PeqFRmfa/lib/python3.10/site-packages/keras/layers/convolutional/base_conv.py\", line 354, in compute_output_shape\n",
      "    raise ValueError(\n",
      "ValueError: One of the dimensions in the output is <= 0 due to downsampling in extra_conv_2. Consider increasing the input size. Received input shape [None, 5, 11] which would produce output shape with a zero or negative value in a dimension.\n",
      "[W 2023-06-26 17:36:15,284] Trial 82 failed with value None.\n",
      "[W 2023-06-26 17:36:15,583] Trial 83 failed with parameters: {'n_conv': 3, 'n_hidden': 2, 'hidden_nodes': 12, 'dropout': 0.35269963238376734, 'filters': 16, 'kernel_size': 7, 'batch_size': 18, 'epochs': 57} because of the following error: ValueError('One of the dimensions in the output is <= 0 due to downsampling in extra_conv_2. Consider increasing the input size. Received input shape [None, 5, 16] which would produce output shape with a zero or negative value in a dimension.').\n",
      "Traceback (most recent call last):\n",
      "  File \"/home/djanloo/.local/share/virtualenvs/DM2-PeqFRmfa/lib/python3.10/site-packages/optuna/study/_optimize.py\", line 200, in _run_trial\n",
      "    value_or_values = func(trial)\n",
      "  File \"/tmp/ipykernel_38777/4091589858.py\", line 34, in <lambda>\n",
      "    trial_function = lambda trial: objective_fun(trial,\n",
      "  File \"/tmp/ipykernel_38777/4091589858.py\", line 15, in objective_fun\n",
      "    cnn = build_model(  X.shape[1:], len(np.unique(y)),\n",
      "  File \"/tmp/ipykernel_38777/1167308510.py\", line 27, in build_model\n",
      "    model.add(Conv1D(filters=filters, kernel_size=kernel_size, activation='relu', name=f\"extra_conv_{i}\"))\n",
      "  File \"/home/djanloo/.local/share/virtualenvs/DM2-PeqFRmfa/lib/python3.10/site-packages/tensorflow/python/trackable/base.py\", line 205, in _method_wrapper\n",
      "    result = method(self, *args, **kwargs)\n",
      "  File \"/home/djanloo/.local/share/virtualenvs/DM2-PeqFRmfa/lib/python3.10/site-packages/keras/utils/traceback_utils.py\", line 70, in error_handler\n",
      "    raise e.with_traceback(filtered_tb) from None\n",
      "  File \"/home/djanloo/.local/share/virtualenvs/DM2-PeqFRmfa/lib/python3.10/site-packages/keras/layers/convolutional/base_conv.py\", line 354, in compute_output_shape\n",
      "    raise ValueError(\n",
      "ValueError: One of the dimensions in the output is <= 0 due to downsampling in extra_conv_2. Consider increasing the input size. Received input shape [None, 5, 16] which would produce output shape with a zero or negative value in a dimension.\n",
      "[W 2023-06-26 17:36:15,597] Trial 83 failed with value None.\n"
     ]
    },
    {
     "name": "stdout",
     "output_type": "stream",
     "text": [
      "Running little bitch having n_conv=3, dropout=0.34131773787187114, hidden_nodes=8\n",
      "Running little bitch having n_conv=3, dropout=0.3594784358309058, hidden_nodes=10\n"
     ]
    },
    {
     "name": "stderr",
     "output_type": "stream",
     "text": [
      "[W 2023-06-26 17:36:16,249] Trial 84 failed with parameters: {'n_conv': 3, 'n_hidden': 2, 'hidden_nodes': 8, 'dropout': 0.34131773787187114, 'filters': 16, 'kernel_size': 7, 'batch_size': 18, 'epochs': 61} because of the following error: ValueError('One of the dimensions in the output is <= 0 due to downsampling in extra_conv_2. Consider increasing the input size. Received input shape [None, 5, 16] which would produce output shape with a zero or negative value in a dimension.').\n",
      "Traceback (most recent call last):\n",
      "  File \"/home/djanloo/.local/share/virtualenvs/DM2-PeqFRmfa/lib/python3.10/site-packages/optuna/study/_optimize.py\", line 200, in _run_trial\n",
      "    value_or_values = func(trial)\n",
      "  File \"/tmp/ipykernel_38777/4091589858.py\", line 34, in <lambda>\n",
      "    trial_function = lambda trial: objective_fun(trial,\n",
      "  File \"/tmp/ipykernel_38777/4091589858.py\", line 15, in objective_fun\n",
      "    cnn = build_model(  X.shape[1:], len(np.unique(y)),\n",
      "  File \"/tmp/ipykernel_38777/1167308510.py\", line 27, in build_model\n",
      "    model.add(Conv1D(filters=filters, kernel_size=kernel_size, activation='relu', name=f\"extra_conv_{i}\"))\n",
      "  File \"/home/djanloo/.local/share/virtualenvs/DM2-PeqFRmfa/lib/python3.10/site-packages/tensorflow/python/trackable/base.py\", line 205, in _method_wrapper\n",
      "    result = method(self, *args, **kwargs)\n",
      "  File \"/home/djanloo/.local/share/virtualenvs/DM2-PeqFRmfa/lib/python3.10/site-packages/keras/utils/traceback_utils.py\", line 70, in error_handler\n",
      "    raise e.with_traceback(filtered_tb) from None\n",
      "  File \"/home/djanloo/.local/share/virtualenvs/DM2-PeqFRmfa/lib/python3.10/site-packages/keras/layers/convolutional/base_conv.py\", line 354, in compute_output_shape\n",
      "    raise ValueError(\n",
      "ValueError: One of the dimensions in the output is <= 0 due to downsampling in extra_conv_2. Consider increasing the input size. Received input shape [None, 5, 16] which would produce output shape with a zero or negative value in a dimension.\n",
      "[W 2023-06-26 17:36:16,268] Trial 84 failed with value None.\n",
      "[W 2023-06-26 17:36:16,514] Trial 85 failed with parameters: {'n_conv': 3, 'n_hidden': 2, 'hidden_nodes': 10, 'dropout': 0.3594784358309058, 'filters': 16, 'kernel_size': 8, 'batch_size': 16, 'epochs': 57} because of the following error: ValueError('One of the dimensions in the output is <= 0 due to downsampling in extra_conv_2. Consider increasing the input size. Received input shape [None, 2, 16] which would produce output shape with a zero or negative value in a dimension.').\n",
      "Traceback (most recent call last):\n",
      "  File \"/home/djanloo/.local/share/virtualenvs/DM2-PeqFRmfa/lib/python3.10/site-packages/optuna/study/_optimize.py\", line 200, in _run_trial\n",
      "    value_or_values = func(trial)\n",
      "  File \"/tmp/ipykernel_38777/4091589858.py\", line 34, in <lambda>\n",
      "    trial_function = lambda trial: objective_fun(trial,\n",
      "  File \"/tmp/ipykernel_38777/4091589858.py\", line 15, in objective_fun\n",
      "    cnn = build_model(  X.shape[1:], len(np.unique(y)),\n",
      "  File \"/tmp/ipykernel_38777/1167308510.py\", line 27, in build_model\n",
      "    model.add(Conv1D(filters=filters, kernel_size=kernel_size, activation='relu', name=f\"extra_conv_{i}\"))\n",
      "  File \"/home/djanloo/.local/share/virtualenvs/DM2-PeqFRmfa/lib/python3.10/site-packages/tensorflow/python/trackable/base.py\", line 205, in _method_wrapper\n",
      "    result = method(self, *args, **kwargs)\n",
      "  File \"/home/djanloo/.local/share/virtualenvs/DM2-PeqFRmfa/lib/python3.10/site-packages/keras/utils/traceback_utils.py\", line 70, in error_handler\n",
      "    raise e.with_traceback(filtered_tb) from None\n",
      "  File \"/home/djanloo/.local/share/virtualenvs/DM2-PeqFRmfa/lib/python3.10/site-packages/keras/layers/convolutional/base_conv.py\", line 354, in compute_output_shape\n",
      "    raise ValueError(\n",
      "ValueError: One of the dimensions in the output is <= 0 due to downsampling in extra_conv_2. Consider increasing the input size. Received input shape [None, 2, 16] which would produce output shape with a zero or negative value in a dimension.\n",
      "[W 2023-06-26 17:36:16,524] Trial 85 failed with value None.\n"
     ]
    },
    {
     "name": "stdout",
     "output_type": "stream",
     "text": [
      "Running little bitch having n_conv=3, dropout=0.3641598890539428, hidden_nodes=9\n"
     ]
    },
    {
     "name": "stderr",
     "output_type": "stream",
     "text": [
      "[W 2023-06-26 17:36:16,767] Trial 86 failed with parameters: {'n_conv': 3, 'n_hidden': 2, 'hidden_nodes': 9, 'dropout': 0.3641598890539428, 'filters': 16, 'kernel_size': 16, 'batch_size': 16, 'epochs': 59} because of the following error: ValueError('One of the dimensions in the output is <= 0 due to downsampling in extra_conv_0. Consider increasing the input size. Received input shape [None, 8, 16] which would produce output shape with a zero or negative value in a dimension.').\n",
      "Traceback (most recent call last):\n",
      "  File \"/home/djanloo/.local/share/virtualenvs/DM2-PeqFRmfa/lib/python3.10/site-packages/optuna/study/_optimize.py\", line 200, in _run_trial\n",
      "    value_or_values = func(trial)\n",
      "  File \"/tmp/ipykernel_38777/4091589858.py\", line 34, in <lambda>\n",
      "    trial_function = lambda trial: objective_fun(trial,\n",
      "  File \"/tmp/ipykernel_38777/4091589858.py\", line 15, in objective_fun\n",
      "    cnn = build_model(  X.shape[1:], len(np.unique(y)),\n",
      "  File \"/tmp/ipykernel_38777/1167308510.py\", line 27, in build_model\n",
      "    model.add(Conv1D(filters=filters, kernel_size=kernel_size, activation='relu', name=f\"extra_conv_{i}\"))\n",
      "  File \"/home/djanloo/.local/share/virtualenvs/DM2-PeqFRmfa/lib/python3.10/site-packages/tensorflow/python/trackable/base.py\", line 205, in _method_wrapper\n",
      "    result = method(self, *args, **kwargs)\n",
      "  File \"/home/djanloo/.local/share/virtualenvs/DM2-PeqFRmfa/lib/python3.10/site-packages/keras/utils/traceback_utils.py\", line 70, in error_handler\n",
      "    raise e.with_traceback(filtered_tb) from None\n",
      "  File \"/home/djanloo/.local/share/virtualenvs/DM2-PeqFRmfa/lib/python3.10/site-packages/keras/layers/convolutional/base_conv.py\", line 354, in compute_output_shape\n",
      "    raise ValueError(\n",
      "ValueError: One of the dimensions in the output is <= 0 due to downsampling in extra_conv_0. Consider increasing the input size. Received input shape [None, 8, 16] which would produce output shape with a zero or negative value in a dimension.\n",
      "[W 2023-06-26 17:36:16,792] Trial 86 failed with value None.\n"
     ]
    },
    {
     "name": "stdout",
     "output_type": "stream",
     "text": [
      "Running little bitch having n_conv=3, dropout=0.37908965400914396, hidden_nodes=10\n",
      "Running little bitch having n_conv=3, dropout=0.3231645740741036, hidden_nodes=25\n"
     ]
    },
    {
     "name": "stderr",
     "output_type": "stream",
     "text": [
      "[W 2023-06-26 17:36:17,189] Trial 88 failed with parameters: {'n_conv': 3, 'n_hidden': 2, 'hidden_nodes': 25, 'dropout': 0.3231645740741036, 'filters': 16, 'kernel_size': 16, 'batch_size': 19, 'epochs': 58} because of the following error: ValueError('One of the dimensions in the output is <= 0 due to downsampling in extra_conv_0. Consider increasing the input size. Received input shape [None, 8, 16] which would produce output shape with a zero or negative value in a dimension.').\n",
      "Traceback (most recent call last):\n",
      "  File \"/home/djanloo/.local/share/virtualenvs/DM2-PeqFRmfa/lib/python3.10/site-packages/optuna/study/_optimize.py\", line 200, in _run_trial\n",
      "    value_or_values = func(trial)\n",
      "  File \"/tmp/ipykernel_38777/4091589858.py\", line 34, in <lambda>\n",
      "    trial_function = lambda trial: objective_fun(trial,\n",
      "  File \"/tmp/ipykernel_38777/4091589858.py\", line 15, in objective_fun\n",
      "    cnn = build_model(  X.shape[1:], len(np.unique(y)),\n",
      "  File \"/tmp/ipykernel_38777/1167308510.py\", line 27, in build_model\n",
      "    model.add(Conv1D(filters=filters, kernel_size=kernel_size, activation='relu', name=f\"extra_conv_{i}\"))\n",
      "  File \"/home/djanloo/.local/share/virtualenvs/DM2-PeqFRmfa/lib/python3.10/site-packages/tensorflow/python/trackable/base.py\", line 205, in _method_wrapper\n",
      "    result = method(self, *args, **kwargs)\n",
      "  File \"/home/djanloo/.local/share/virtualenvs/DM2-PeqFRmfa/lib/python3.10/site-packages/keras/utils/traceback_utils.py\", line 70, in error_handler\n",
      "    raise e.with_traceback(filtered_tb) from None\n",
      "  File \"/home/djanloo/.local/share/virtualenvs/DM2-PeqFRmfa/lib/python3.10/site-packages/keras/layers/convolutional/base_conv.py\", line 354, in compute_output_shape\n",
      "    raise ValueError(\n",
      "ValueError: One of the dimensions in the output is <= 0 due to downsampling in extra_conv_0. Consider increasing the input size. Received input shape [None, 8, 16] which would produce output shape with a zero or negative value in a dimension.\n",
      "[W 2023-06-26 17:36:17,209] Trial 88 failed with value None.\n"
     ]
    },
    {
     "name": "stdout",
     "output_type": "stream",
     "text": [
      "Running little bitch having n_conv=3, dropout=0.37195381927762006, hidden_nodes=24\n"
     ]
    },
    {
     "name": "stderr",
     "output_type": "stream",
     "text": [
      "[W 2023-06-26 17:36:17,576] Trial 89 failed with parameters: {'n_conv': 3, 'n_hidden': 2, 'hidden_nodes': 24, 'dropout': 0.37195381927762006, 'filters': 16, 'kernel_size': 16, 'batch_size': 18, 'epochs': 56} because of the following error: ValueError('One of the dimensions in the output is <= 0 due to downsampling in extra_conv_0. Consider increasing the input size. Received input shape [None, 8, 16] which would produce output shape with a zero or negative value in a dimension.').\n",
      "Traceback (most recent call last):\n",
      "  File \"/home/djanloo/.local/share/virtualenvs/DM2-PeqFRmfa/lib/python3.10/site-packages/optuna/study/_optimize.py\", line 200, in _run_trial\n",
      "    value_or_values = func(trial)\n",
      "  File \"/tmp/ipykernel_38777/4091589858.py\", line 34, in <lambda>\n",
      "    trial_function = lambda trial: objective_fun(trial,\n",
      "  File \"/tmp/ipykernel_38777/4091589858.py\", line 15, in objective_fun\n",
      "    cnn = build_model(  X.shape[1:], len(np.unique(y)),\n",
      "  File \"/tmp/ipykernel_38777/1167308510.py\", line 27, in build_model\n",
      "    model.add(Conv1D(filters=filters, kernel_size=kernel_size, activation='relu', name=f\"extra_conv_{i}\"))\n",
      "  File \"/home/djanloo/.local/share/virtualenvs/DM2-PeqFRmfa/lib/python3.10/site-packages/tensorflow/python/trackable/base.py\", line 205, in _method_wrapper\n",
      "    result = method(self, *args, **kwargs)\n",
      "  File \"/home/djanloo/.local/share/virtualenvs/DM2-PeqFRmfa/lib/python3.10/site-packages/keras/utils/traceback_utils.py\", line 70, in error_handler\n",
      "    raise e.with_traceback(filtered_tb) from None\n",
      "  File \"/home/djanloo/.local/share/virtualenvs/DM2-PeqFRmfa/lib/python3.10/site-packages/keras/layers/convolutional/base_conv.py\", line 354, in compute_output_shape\n",
      "    raise ValueError(\n",
      "ValueError: One of the dimensions in the output is <= 0 due to downsampling in extra_conv_0. Consider increasing the input size. Received input shape [None, 8, 16] which would produce output shape with a zero or negative value in a dimension.\n",
      "[W 2023-06-26 17:36:17,587] Trial 89 failed with value None.\n",
      "[W 2023-06-26 17:36:17,586] Trial 87 failed with parameters: {'n_conv': 3, 'n_hidden': 2, 'hidden_nodes': 10, 'dropout': 0.37908965400914396, 'filters': 16, 'kernel_size': 7, 'batch_size': 16, 'epochs': 55} because of the following error: ValueError('One of the dimensions in the output is <= 0 due to downsampling in extra_conv_2. Consider increasing the input size. Received input shape [None, 5, 16] which would produce output shape with a zero or negative value in a dimension.').\n",
      "Traceback (most recent call last):\n",
      "  File \"/home/djanloo/.local/share/virtualenvs/DM2-PeqFRmfa/lib/python3.10/site-packages/optuna/study/_optimize.py\", line 200, in _run_trial\n",
      "    value_or_values = func(trial)\n",
      "  File \"/tmp/ipykernel_38777/4091589858.py\", line 34, in <lambda>\n",
      "    trial_function = lambda trial: objective_fun(trial,\n",
      "  File \"/tmp/ipykernel_38777/4091589858.py\", line 15, in objective_fun\n",
      "    cnn = build_model(  X.shape[1:], len(np.unique(y)),\n",
      "  File \"/tmp/ipykernel_38777/1167308510.py\", line 27, in build_model\n",
      "    model.add(Conv1D(filters=filters, kernel_size=kernel_size, activation='relu', name=f\"extra_conv_{i}\"))\n",
      "  File \"/home/djanloo/.local/share/virtualenvs/DM2-PeqFRmfa/lib/python3.10/site-packages/tensorflow/python/trackable/base.py\", line 205, in _method_wrapper\n",
      "    result = method(self, *args, **kwargs)\n",
      "  File \"/home/djanloo/.local/share/virtualenvs/DM2-PeqFRmfa/lib/python3.10/site-packages/keras/utils/traceback_utils.py\", line 70, in error_handler\n",
      "    raise e.with_traceback(filtered_tb) from None\n",
      "  File \"/home/djanloo/.local/share/virtualenvs/DM2-PeqFRmfa/lib/python3.10/site-packages/keras/layers/convolutional/base_conv.py\", line 354, in compute_output_shape\n",
      "    raise ValueError(\n",
      "ValueError: One of the dimensions in the output is <= 0 due to downsampling in extra_conv_2. Consider increasing the input size. Received input shape [None, 5, 16] which would produce output shape with a zero or negative value in a dimension.\n",
      "[W 2023-06-26 17:36:17,603] Trial 87 failed with value None.\n"
     ]
    },
    {
     "name": "stdout",
     "output_type": "stream",
     "text": [
      "Running little bitch having n_conv=3, dropout=0.34527568878191434, hidden_nodes=16Running little bitch having n_conv=3, dropout=0.35668072820772073, hidden_nodes=30\n",
      "\n"
     ]
    },
    {
     "name": "stderr",
     "output_type": "stream",
     "text": [
      "[W 2023-06-26 17:36:18,029] Trial 91 failed with parameters: {'n_conv': 3, 'n_hidden': 2, 'hidden_nodes': 16, 'dropout': 0.34527568878191434, 'filters': 16, 'kernel_size': 16, 'batch_size': 16, 'epochs': 60} because of the following error: ValueError('One of the dimensions in the output is <= 0 due to downsampling in extra_conv_0. Consider increasing the input size. Received input shape [None, 8, 16] which would produce output shape with a zero or negative value in a dimension.').\n",
      "Traceback (most recent call last):\n",
      "  File \"/home/djanloo/.local/share/virtualenvs/DM2-PeqFRmfa/lib/python3.10/site-packages/optuna/study/_optimize.py\", line 200, in _run_trial\n",
      "    value_or_values = func(trial)\n",
      "  File \"/tmp/ipykernel_38777/4091589858.py\", line 34, in <lambda>\n",
      "    trial_function = lambda trial: objective_fun(trial,\n",
      "  File \"/tmp/ipykernel_38777/4091589858.py\", line 15, in objective_fun\n",
      "    cnn = build_model(  X.shape[1:], len(np.unique(y)),\n",
      "  File \"/tmp/ipykernel_38777/1167308510.py\", line 27, in build_model\n",
      "    model.add(Conv1D(filters=filters, kernel_size=kernel_size, activation='relu', name=f\"extra_conv_{i}\"))\n",
      "  File \"/home/djanloo/.local/share/virtualenvs/DM2-PeqFRmfa/lib/python3.10/site-packages/tensorflow/python/trackable/base.py\", line 205, in _method_wrapper\n",
      "    result = method(self, *args, **kwargs)\n",
      "  File \"/home/djanloo/.local/share/virtualenvs/DM2-PeqFRmfa/lib/python3.10/site-packages/keras/utils/traceback_utils.py\", line 70, in error_handler\n",
      "    raise e.with_traceback(filtered_tb) from None\n",
      "  File \"/home/djanloo/.local/share/virtualenvs/DM2-PeqFRmfa/lib/python3.10/site-packages/keras/layers/convolutional/base_conv.py\", line 354, in compute_output_shape\n",
      "    raise ValueError(\n",
      "ValueError: One of the dimensions in the output is <= 0 due to downsampling in extra_conv_0. Consider increasing the input size. Received input shape [None, 8, 16] which would produce output shape with a zero or negative value in a dimension.\n",
      "[W 2023-06-26 17:36:18,041] Trial 91 failed with value None.\n",
      "[W 2023-06-26 17:36:18,089] Trial 90 failed with parameters: {'n_conv': 3, 'n_hidden': 2, 'hidden_nodes': 30, 'dropout': 0.35668072820772073, 'filters': 11, 'kernel_size': 16, 'batch_size': 18, 'epochs': 54} because of the following error: ValueError('One of the dimensions in the output is <= 0 due to downsampling in extra_conv_0. Consider increasing the input size. Received input shape [None, 8, 11] which would produce output shape with a zero or negative value in a dimension.').\n",
      "Traceback (most recent call last):\n",
      "  File \"/home/djanloo/.local/share/virtualenvs/DM2-PeqFRmfa/lib/python3.10/site-packages/optuna/study/_optimize.py\", line 200, in _run_trial\n",
      "    value_or_values = func(trial)\n",
      "  File \"/tmp/ipykernel_38777/4091589858.py\", line 34, in <lambda>\n",
      "    trial_function = lambda trial: objective_fun(trial,\n",
      "  File \"/tmp/ipykernel_38777/4091589858.py\", line 15, in objective_fun\n",
      "    cnn = build_model(  X.shape[1:], len(np.unique(y)),\n",
      "  File \"/tmp/ipykernel_38777/1167308510.py\", line 27, in build_model\n",
      "    model.add(Conv1D(filters=filters, kernel_size=kernel_size, activation='relu', name=f\"extra_conv_{i}\"))\n",
      "  File \"/home/djanloo/.local/share/virtualenvs/DM2-PeqFRmfa/lib/python3.10/site-packages/tensorflow/python/trackable/base.py\", line 205, in _method_wrapper\n",
      "    result = method(self, *args, **kwargs)\n",
      "  File \"/home/djanloo/.local/share/virtualenvs/DM2-PeqFRmfa/lib/python3.10/site-packages/keras/utils/traceback_utils.py\", line 70, in error_handler\n",
      "    raise e.with_traceback(filtered_tb) from None\n",
      "  File \"/home/djanloo/.local/share/virtualenvs/DM2-PeqFRmfa/lib/python3.10/site-packages/keras/layers/convolutional/base_conv.py\", line 354, in compute_output_shape\n",
      "    raise ValueError(\n",
      "ValueError: One of the dimensions in the output is <= 0 due to downsampling in extra_conv_0. Consider increasing the input size. Received input shape [None, 8, 11] which would produce output shape with a zero or negative value in a dimension.\n",
      "[W 2023-06-26 17:36:18,145] Trial 90 failed with value None.\n"
     ]
    },
    {
     "name": "stdout",
     "output_type": "stream",
     "text": [
      "Running little bitch having n_conv=3, dropout=0.3524099617823093, hidden_nodes=13\n",
      "Running little bitch having n_conv=3, dropout=0.3706027549603297, hidden_nodes=12\n"
     ]
    },
    {
     "name": "stderr",
     "output_type": "stream",
     "text": [
      "[W 2023-06-26 17:36:18,907] Trial 92 failed with parameters: {'n_conv': 3, 'n_hidden': 2, 'hidden_nodes': 13, 'dropout': 0.3524099617823093, 'filters': 11, 'kernel_size': 7, 'batch_size': 16, 'epochs': 57} because of the following error: ValueError('One of the dimensions in the output is <= 0 due to downsampling in extra_conv_2. Consider increasing the input size. Received input shape [None, 5, 11] which would produce output shape with a zero or negative value in a dimension.').\n",
      "Traceback (most recent call last):\n",
      "  File \"/home/djanloo/.local/share/virtualenvs/DM2-PeqFRmfa/lib/python3.10/site-packages/optuna/study/_optimize.py\", line 200, in _run_trial\n",
      "    value_or_values = func(trial)\n",
      "  File \"/tmp/ipykernel_38777/4091589858.py\", line 34, in <lambda>\n",
      "    trial_function = lambda trial: objective_fun(trial,\n",
      "  File \"/tmp/ipykernel_38777/4091589858.py\", line 15, in objective_fun\n",
      "    cnn = build_model(  X.shape[1:], len(np.unique(y)),\n",
      "  File \"/tmp/ipykernel_38777/1167308510.py\", line 27, in build_model\n",
      "    model.add(Conv1D(filters=filters, kernel_size=kernel_size, activation='relu', name=f\"extra_conv_{i}\"))\n",
      "  File \"/home/djanloo/.local/share/virtualenvs/DM2-PeqFRmfa/lib/python3.10/site-packages/tensorflow/python/trackable/base.py\", line 205, in _method_wrapper\n",
      "    result = method(self, *args, **kwargs)\n",
      "  File \"/home/djanloo/.local/share/virtualenvs/DM2-PeqFRmfa/lib/python3.10/site-packages/keras/utils/traceback_utils.py\", line 70, in error_handler\n",
      "    raise e.with_traceback(filtered_tb) from None\n",
      "  File \"/home/djanloo/.local/share/virtualenvs/DM2-PeqFRmfa/lib/python3.10/site-packages/keras/layers/convolutional/base_conv.py\", line 354, in compute_output_shape\n",
      "    raise ValueError(\n",
      "ValueError: One of the dimensions in the output is <= 0 due to downsampling in extra_conv_2. Consider increasing the input size. Received input shape [None, 5, 11] which would produce output shape with a zero or negative value in a dimension.\n",
      "[W 2023-06-26 17:36:18,917] Trial 92 failed with value None.\n",
      "[W 2023-06-26 17:36:19,078] Trial 93 failed with parameters: {'n_conv': 3, 'n_hidden': 2, 'hidden_nodes': 12, 'dropout': 0.3706027549603297, 'filters': 16, 'kernel_size': 7, 'batch_size': 18, 'epochs': 57} because of the following error: ValueError('One of the dimensions in the output is <= 0 due to downsampling in extra_conv_2. Consider increasing the input size. Received input shape [None, 5, 16] which would produce output shape with a zero or negative value in a dimension.').\n",
      "Traceback (most recent call last):\n",
      "  File \"/home/djanloo/.local/share/virtualenvs/DM2-PeqFRmfa/lib/python3.10/site-packages/optuna/study/_optimize.py\", line 200, in _run_trial\n",
      "    value_or_values = func(trial)\n",
      "  File \"/tmp/ipykernel_38777/4091589858.py\", line 34, in <lambda>\n",
      "    trial_function = lambda trial: objective_fun(trial,\n",
      "  File \"/tmp/ipykernel_38777/4091589858.py\", line 15, in objective_fun\n",
      "    cnn = build_model(  X.shape[1:], len(np.unique(y)),\n",
      "  File \"/tmp/ipykernel_38777/1167308510.py\", line 27, in build_model\n",
      "    model.add(Conv1D(filters=filters, kernel_size=kernel_size, activation='relu', name=f\"extra_conv_{i}\"))\n",
      "  File \"/home/djanloo/.local/share/virtualenvs/DM2-PeqFRmfa/lib/python3.10/site-packages/tensorflow/python/trackable/base.py\", line 205, in _method_wrapper\n",
      "    result = method(self, *args, **kwargs)\n",
      "  File \"/home/djanloo/.local/share/virtualenvs/DM2-PeqFRmfa/lib/python3.10/site-packages/keras/utils/traceback_utils.py\", line 70, in error_handler\n",
      "    raise e.with_traceback(filtered_tb) from None\n",
      "  File \"/home/djanloo/.local/share/virtualenvs/DM2-PeqFRmfa/lib/python3.10/site-packages/keras/layers/convolutional/base_conv.py\", line 354, in compute_output_shape\n",
      "    raise ValueError(\n",
      "ValueError: One of the dimensions in the output is <= 0 due to downsampling in extra_conv_2. Consider increasing the input size. Received input shape [None, 5, 16] which would produce output shape with a zero or negative value in a dimension.\n",
      "[W 2023-06-26 17:36:19,095] Trial 93 failed with value None.\n"
     ]
    },
    {
     "name": "stdout",
     "output_type": "stream",
     "text": [
      "Running little bitch having n_conv=3, dropout=0.3546424202576684, hidden_nodes=37\n",
      "Running little bitch having n_conv=3, dropout=0.32690735000931326, hidden_nodes=12\n"
     ]
    },
    {
     "name": "stderr",
     "output_type": "stream",
     "text": [
      "[W 2023-06-26 17:36:19,427] Trial 95 failed with parameters: {'n_conv': 3, 'n_hidden': 2, 'hidden_nodes': 12, 'dropout': 0.32690735000931326, 'filters': 16, 'kernel_size': 16, 'batch_size': 19, 'epochs': 58} because of the following error: ValueError('One of the dimensions in the output is <= 0 due to downsampling in extra_conv_0. Consider increasing the input size. Received input shape [None, 8, 16] which would produce output shape with a zero or negative value in a dimension.').\n",
      "Traceback (most recent call last):\n",
      "  File \"/home/djanloo/.local/share/virtualenvs/DM2-PeqFRmfa/lib/python3.10/site-packages/optuna/study/_optimize.py\", line 200, in _run_trial\n",
      "    value_or_values = func(trial)\n",
      "  File \"/tmp/ipykernel_38777/4091589858.py\", line 34, in <lambda>\n",
      "    trial_function = lambda trial: objective_fun(trial,\n",
      "  File \"/tmp/ipykernel_38777/4091589858.py\", line 15, in objective_fun\n",
      "    cnn = build_model(  X.shape[1:], len(np.unique(y)),\n",
      "  File \"/tmp/ipykernel_38777/1167308510.py\", line 27, in build_model\n",
      "    model.add(Conv1D(filters=filters, kernel_size=kernel_size, activation='relu', name=f\"extra_conv_{i}\"))\n",
      "  File \"/home/djanloo/.local/share/virtualenvs/DM2-PeqFRmfa/lib/python3.10/site-packages/tensorflow/python/trackable/base.py\", line 205, in _method_wrapper\n",
      "    result = method(self, *args, **kwargs)\n",
      "  File \"/home/djanloo/.local/share/virtualenvs/DM2-PeqFRmfa/lib/python3.10/site-packages/keras/utils/traceback_utils.py\", line 70, in error_handler\n",
      "    raise e.with_traceback(filtered_tb) from None\n",
      "  File \"/home/djanloo/.local/share/virtualenvs/DM2-PeqFRmfa/lib/python3.10/site-packages/keras/layers/convolutional/base_conv.py\", line 354, in compute_output_shape\n",
      "    raise ValueError(\n",
      "ValueError: One of the dimensions in the output is <= 0 due to downsampling in extra_conv_0. Consider increasing the input size. Received input shape [None, 8, 16] which would produce output shape with a zero or negative value in a dimension.\n",
      "[W 2023-06-26 17:36:19,443] Trial 95 failed with value None.\n",
      "[W 2023-06-26 17:36:19,506] Trial 94 failed with parameters: {'n_conv': 3, 'n_hidden': 2, 'hidden_nodes': 37, 'dropout': 0.3546424202576684, 'filters': 16, 'kernel_size': 16, 'batch_size': 16, 'epochs': 60} because of the following error: ValueError('One of the dimensions in the output is <= 0 due to downsampling in extra_conv_0. Consider increasing the input size. Received input shape [None, 8, 16] which would produce output shape with a zero or negative value in a dimension.').\n",
      "Traceback (most recent call last):\n",
      "  File \"/home/djanloo/.local/share/virtualenvs/DM2-PeqFRmfa/lib/python3.10/site-packages/optuna/study/_optimize.py\", line 200, in _run_trial\n",
      "    value_or_values = func(trial)\n",
      "  File \"/tmp/ipykernel_38777/4091589858.py\", line 34, in <lambda>\n",
      "    trial_function = lambda trial: objective_fun(trial,\n",
      "  File \"/tmp/ipykernel_38777/4091589858.py\", line 15, in objective_fun\n",
      "    cnn = build_model(  X.shape[1:], len(np.unique(y)),\n",
      "  File \"/tmp/ipykernel_38777/1167308510.py\", line 27, in build_model\n",
      "    model.add(Conv1D(filters=filters, kernel_size=kernel_size, activation='relu', name=f\"extra_conv_{i}\"))\n",
      "  File \"/home/djanloo/.local/share/virtualenvs/DM2-PeqFRmfa/lib/python3.10/site-packages/tensorflow/python/trackable/base.py\", line 205, in _method_wrapper\n",
      "    result = method(self, *args, **kwargs)\n",
      "  File \"/home/djanloo/.local/share/virtualenvs/DM2-PeqFRmfa/lib/python3.10/site-packages/keras/utils/traceback_utils.py\", line 70, in error_handler\n",
      "    raise e.with_traceback(filtered_tb) from None\n",
      "  File \"/home/djanloo/.local/share/virtualenvs/DM2-PeqFRmfa/lib/python3.10/site-packages/keras/layers/convolutional/base_conv.py\", line 354, in compute_output_shape\n",
      "    raise ValueError(\n",
      "ValueError: One of the dimensions in the output is <= 0 due to downsampling in extra_conv_0. Consider increasing the input size. Received input shape [None, 8, 16] which would produce output shape with a zero or negative value in a dimension.\n",
      "[W 2023-06-26 17:36:19,547] Trial 94 failed with value None.\n"
     ]
    },
    {
     "name": "stdout",
     "output_type": "stream",
     "text": [
      "Running little bitch having n_conv=3, dropout=0.34503157966885134, hidden_nodes=15\n",
      "Running little bitch having n_conv=3, dropout=0.3436011941150714, hidden_nodes=12\n"
     ]
    },
    {
     "name": "stderr",
     "output_type": "stream",
     "text": [
      "[W 2023-06-26 17:36:20,340] Trial 96 failed with parameters: {'n_conv': 3, 'n_hidden': 2, 'hidden_nodes': 15, 'dropout': 0.34503157966885134, 'filters': 16, 'kernel_size': 7, 'batch_size': 16, 'epochs': 57} because of the following error: ValueError('One of the dimensions in the output is <= 0 due to downsampling in extra_conv_2. Consider increasing the input size. Received input shape [None, 5, 16] which would produce output shape with a zero or negative value in a dimension.').\n",
      "Traceback (most recent call last):\n",
      "  File \"/home/djanloo/.local/share/virtualenvs/DM2-PeqFRmfa/lib/python3.10/site-packages/optuna/study/_optimize.py\", line 200, in _run_trial\n",
      "    value_or_values = func(trial)\n",
      "  File \"/tmp/ipykernel_38777/4091589858.py\", line 34, in <lambda>\n",
      "    trial_function = lambda trial: objective_fun(trial,\n",
      "  File \"/tmp/ipykernel_38777/4091589858.py\", line 15, in objective_fun\n",
      "    cnn = build_model(  X.shape[1:], len(np.unique(y)),\n",
      "  File \"/tmp/ipykernel_38777/1167308510.py\", line 27, in build_model\n",
      "    model.add(Conv1D(filters=filters, kernel_size=kernel_size, activation='relu', name=f\"extra_conv_{i}\"))\n",
      "  File \"/home/djanloo/.local/share/virtualenvs/DM2-PeqFRmfa/lib/python3.10/site-packages/tensorflow/python/trackable/base.py\", line 205, in _method_wrapper\n",
      "    result = method(self, *args, **kwargs)\n",
      "  File \"/home/djanloo/.local/share/virtualenvs/DM2-PeqFRmfa/lib/python3.10/site-packages/keras/utils/traceback_utils.py\", line 70, in error_handler\n",
      "    raise e.with_traceback(filtered_tb) from None\n",
      "  File \"/home/djanloo/.local/share/virtualenvs/DM2-PeqFRmfa/lib/python3.10/site-packages/keras/layers/convolutional/base_conv.py\", line 354, in compute_output_shape\n",
      "    raise ValueError(\n",
      "ValueError: One of the dimensions in the output is <= 0 due to downsampling in extra_conv_2. Consider increasing the input size. Received input shape [None, 5, 16] which would produce output shape with a zero or negative value in a dimension.\n",
      "[W 2023-06-26 17:36:20,369] Trial 97 failed with parameters: {'n_conv': 3, 'n_hidden': 2, 'hidden_nodes': 12, 'dropout': 0.3436011941150714, 'filters': 16, 'kernel_size': 7, 'batch_size': 18, 'epochs': 58} because of the following error: ValueError('One of the dimensions in the output is <= 0 due to downsampling in extra_conv_2. Consider increasing the input size. Received input shape [None, 5, 16] which would produce output shape with a zero or negative value in a dimension.').\n",
      "Traceback (most recent call last):\n",
      "  File \"/home/djanloo/.local/share/virtualenvs/DM2-PeqFRmfa/lib/python3.10/site-packages/optuna/study/_optimize.py\", line 200, in _run_trial\n",
      "    value_or_values = func(trial)\n",
      "  File \"/tmp/ipykernel_38777/4091589858.py\", line 34, in <lambda>\n",
      "    trial_function = lambda trial: objective_fun(trial,\n",
      "  File \"/tmp/ipykernel_38777/4091589858.py\", line 15, in objective_fun\n",
      "    cnn = build_model(  X.shape[1:], len(np.unique(y)),\n",
      "  File \"/tmp/ipykernel_38777/1167308510.py\", line 27, in build_model\n",
      "    model.add(Conv1D(filters=filters, kernel_size=kernel_size, activation='relu', name=f\"extra_conv_{i}\"))\n",
      "  File \"/home/djanloo/.local/share/virtualenvs/DM2-PeqFRmfa/lib/python3.10/site-packages/tensorflow/python/trackable/base.py\", line 205, in _method_wrapper\n",
      "    result = method(self, *args, **kwargs)\n",
      "  File \"/home/djanloo/.local/share/virtualenvs/DM2-PeqFRmfa/lib/python3.10/site-packages/keras/utils/traceback_utils.py\", line 70, in error_handler\n",
      "    raise e.with_traceback(filtered_tb) from None\n",
      "  File \"/home/djanloo/.local/share/virtualenvs/DM2-PeqFRmfa/lib/python3.10/site-packages/keras/layers/convolutional/base_conv.py\", line 354, in compute_output_shape\n",
      "    raise ValueError(\n",
      "ValueError: One of the dimensions in the output is <= 0 due to downsampling in extra_conv_2. Consider increasing the input size. Received input shape [None, 5, 16] which would produce output shape with a zero or negative value in a dimension.\n",
      "[W 2023-06-26 17:36:20,376] Trial 97 failed with value None.\n",
      "[W 2023-06-26 17:36:20,369] Trial 96 failed with value None.\n"
     ]
    },
    {
     "name": "stdout",
     "output_type": "stream",
     "text": [
      "Running little bitch having n_conv=3, dropout=0.3617964011837456, hidden_nodes=51\n",
      "Running little bitch having n_conv=3, dropout=0.34803965832371647, hidden_nodes=11\n"
     ]
    },
    {
     "name": "stderr",
     "output_type": "stream",
     "text": [
      "[W 2023-06-26 17:36:20,797] Trial 98 failed with parameters: {'n_conv': 3, 'n_hidden': 2, 'hidden_nodes': 51, 'dropout': 0.3617964011837456, 'filters': 16, 'kernel_size': 16, 'batch_size': 20, 'epochs': 58} because of the following error: ValueError('One of the dimensions in the output is <= 0 due to downsampling in extra_conv_0. Consider increasing the input size. Received input shape [None, 8, 16] which would produce output shape with a zero or negative value in a dimension.').\n",
      "Traceback (most recent call last):\n",
      "  File \"/home/djanloo/.local/share/virtualenvs/DM2-PeqFRmfa/lib/python3.10/site-packages/optuna/study/_optimize.py\", line 200, in _run_trial\n",
      "    value_or_values = func(trial)\n",
      "  File \"/tmp/ipykernel_38777/4091589858.py\", line 34, in <lambda>\n",
      "    trial_function = lambda trial: objective_fun(trial,\n",
      "  File \"/tmp/ipykernel_38777/4091589858.py\", line 15, in objective_fun\n",
      "    cnn = build_model(  X.shape[1:], len(np.unique(y)),\n",
      "  File \"/tmp/ipykernel_38777/1167308510.py\", line 27, in build_model\n",
      "    model.add(Conv1D(filters=filters, kernel_size=kernel_size, activation='relu', name=f\"extra_conv_{i}\"))\n",
      "  File \"/home/djanloo/.local/share/virtualenvs/DM2-PeqFRmfa/lib/python3.10/site-packages/tensorflow/python/trackable/base.py\", line 205, in _method_wrapper\n",
      "    result = method(self, *args, **kwargs)\n",
      "  File \"/home/djanloo/.local/share/virtualenvs/DM2-PeqFRmfa/lib/python3.10/site-packages/keras/utils/traceback_utils.py\", line 70, in error_handler\n",
      "    raise e.with_traceback(filtered_tb) from None\n",
      "  File \"/home/djanloo/.local/share/virtualenvs/DM2-PeqFRmfa/lib/python3.10/site-packages/keras/layers/convolutional/base_conv.py\", line 354, in compute_output_shape\n",
      "    raise ValueError(\n",
      "ValueError: One of the dimensions in the output is <= 0 due to downsampling in extra_conv_0. Consider increasing the input size. Received input shape [None, 8, 16] which would produce output shape with a zero or negative value in a dimension.\n",
      "[W 2023-06-26 17:36:20,805] Trial 98 failed with value None.\n",
      "[W 2023-06-26 17:36:20,966] Trial 99 failed with parameters: {'n_conv': 3, 'n_hidden': 2, 'hidden_nodes': 11, 'dropout': 0.34803965832371647, 'filters': 16, 'kernel_size': 16, 'batch_size': 17, 'epochs': 57} because of the following error: ValueError('One of the dimensions in the output is <= 0 due to downsampling in extra_conv_0. Consider increasing the input size. Received input shape [None, 8, 16] which would produce output shape with a zero or negative value in a dimension.').\n",
      "Traceback (most recent call last):\n",
      "  File \"/home/djanloo/.local/share/virtualenvs/DM2-PeqFRmfa/lib/python3.10/site-packages/optuna/study/_optimize.py\", line 200, in _run_trial\n",
      "    value_or_values = func(trial)\n",
      "  File \"/tmp/ipykernel_38777/4091589858.py\", line 34, in <lambda>\n",
      "    trial_function = lambda trial: objective_fun(trial,\n",
      "  File \"/tmp/ipykernel_38777/4091589858.py\", line 15, in objective_fun\n",
      "    cnn = build_model(  X.shape[1:], len(np.unique(y)),\n",
      "  File \"/tmp/ipykernel_38777/1167308510.py\", line 27, in build_model\n",
      "    model.add(Conv1D(filters=filters, kernel_size=kernel_size, activation='relu', name=f\"extra_conv_{i}\"))\n",
      "  File \"/home/djanloo/.local/share/virtualenvs/DM2-PeqFRmfa/lib/python3.10/site-packages/tensorflow/python/trackable/base.py\", line 205, in _method_wrapper\n",
      "    result = method(self, *args, **kwargs)\n",
      "  File \"/home/djanloo/.local/share/virtualenvs/DM2-PeqFRmfa/lib/python3.10/site-packages/keras/utils/traceback_utils.py\", line 70, in error_handler\n",
      "    raise e.with_traceback(filtered_tb) from None\n",
      "  File \"/home/djanloo/.local/share/virtualenvs/DM2-PeqFRmfa/lib/python3.10/site-packages/keras/layers/convolutional/base_conv.py\", line 354, in compute_output_shape\n",
      "    raise ValueError(\n",
      "ValueError: One of the dimensions in the output is <= 0 due to downsampling in extra_conv_0. Consider increasing the input size. Received input shape [None, 8, 16] which would produce output shape with a zero or negative value in a dimension.\n",
      "[W 2023-06-26 17:36:20,990] Trial 99 failed with value None.\n"
     ]
    },
    {
     "name": "stdout",
     "output_type": "stream",
     "text": [
      "Running little bitch having n_conv=3, dropout=0.36658530404487794, hidden_nodes=8\n",
      "Running little bitch having n_conv=3, dropout=0.3225107498329641, hidden_nodes=8\n"
     ]
    },
    {
     "name": "stderr",
     "output_type": "stream",
     "text": [
      "[W 2023-06-26 17:36:21,319] Trial 100 failed with parameters: {'n_conv': 3, 'n_hidden': 2, 'hidden_nodes': 8, 'dropout': 0.36658530404487794, 'filters': 11, 'kernel_size': 16, 'batch_size': 22, 'epochs': 60} because of the following error: ValueError('One of the dimensions in the output is <= 0 due to downsampling in extra_conv_0. Consider increasing the input size. Received input shape [None, 8, 11] which would produce output shape with a zero or negative value in a dimension.').\n",
      "Traceback (most recent call last):\n",
      "  File \"/home/djanloo/.local/share/virtualenvs/DM2-PeqFRmfa/lib/python3.10/site-packages/optuna/study/_optimize.py\", line 200, in _run_trial\n",
      "    value_or_values = func(trial)\n",
      "  File \"/tmp/ipykernel_38777/4091589858.py\", line 34, in <lambda>\n",
      "    trial_function = lambda trial: objective_fun(trial,\n",
      "  File \"/tmp/ipykernel_38777/4091589858.py\", line 15, in objective_fun\n",
      "    cnn = build_model(  X.shape[1:], len(np.unique(y)),\n",
      "  File \"/tmp/ipykernel_38777/1167308510.py\", line 27, in build_model\n",
      "    model.add(Conv1D(filters=filters, kernel_size=kernel_size, activation='relu', name=f\"extra_conv_{i}\"))\n",
      "  File \"/home/djanloo/.local/share/virtualenvs/DM2-PeqFRmfa/lib/python3.10/site-packages/tensorflow/python/trackable/base.py\", line 205, in _method_wrapper\n",
      "    result = method(self, *args, **kwargs)\n",
      "  File \"/home/djanloo/.local/share/virtualenvs/DM2-PeqFRmfa/lib/python3.10/site-packages/keras/utils/traceback_utils.py\", line 70, in error_handler\n",
      "    raise e.with_traceback(filtered_tb) from None\n",
      "  File \"/home/djanloo/.local/share/virtualenvs/DM2-PeqFRmfa/lib/python3.10/site-packages/keras/layers/convolutional/base_conv.py\", line 354, in compute_output_shape\n",
      "    raise ValueError(\n",
      "ValueError: One of the dimensions in the output is <= 0 due to downsampling in extra_conv_0. Consider increasing the input size. Received input shape [None, 8, 11] which would produce output shape with a zero or negative value in a dimension.\n",
      "[W 2023-06-26 17:36:21,326] Trial 100 failed with value None.\n",
      "[W 2023-06-26 17:36:21,477] Trial 101 failed with parameters: {'n_conv': 3, 'n_hidden': 2, 'hidden_nodes': 8, 'dropout': 0.3225107498329641, 'filters': 16, 'kernel_size': 16, 'batch_size': 16, 'epochs': 59} because of the following error: ValueError('One of the dimensions in the output is <= 0 due to downsampling in extra_conv_0. Consider increasing the input size. Received input shape [None, 8, 16] which would produce output shape with a zero or negative value in a dimension.').\n",
      "Traceback (most recent call last):\n",
      "  File \"/home/djanloo/.local/share/virtualenvs/DM2-PeqFRmfa/lib/python3.10/site-packages/optuna/study/_optimize.py\", line 200, in _run_trial\n",
      "    value_or_values = func(trial)\n",
      "  File \"/tmp/ipykernel_38777/4091589858.py\", line 34, in <lambda>\n",
      "    trial_function = lambda trial: objective_fun(trial,\n",
      "  File \"/tmp/ipykernel_38777/4091589858.py\", line 15, in objective_fun\n",
      "    cnn = build_model(  X.shape[1:], len(np.unique(y)),\n",
      "  File \"/tmp/ipykernel_38777/1167308510.py\", line 27, in build_model\n",
      "    model.add(Conv1D(filters=filters, kernel_size=kernel_size, activation='relu', name=f\"extra_conv_{i}\"))\n",
      "  File \"/home/djanloo/.local/share/virtualenvs/DM2-PeqFRmfa/lib/python3.10/site-packages/tensorflow/python/trackable/base.py\", line 205, in _method_wrapper\n",
      "    result = method(self, *args, **kwargs)\n",
      "  File \"/home/djanloo/.local/share/virtualenvs/DM2-PeqFRmfa/lib/python3.10/site-packages/keras/utils/traceback_utils.py\", line 70, in error_handler\n",
      "    raise e.with_traceback(filtered_tb) from None\n",
      "  File \"/home/djanloo/.local/share/virtualenvs/DM2-PeqFRmfa/lib/python3.10/site-packages/keras/layers/convolutional/base_conv.py\", line 354, in compute_output_shape\n",
      "    raise ValueError(\n",
      "ValueError: One of the dimensions in the output is <= 0 due to downsampling in extra_conv_0. Consider increasing the input size. Received input shape [None, 8, 16] which would produce output shape with a zero or negative value in a dimension.\n",
      "[W 2023-06-26 17:36:21,498] Trial 101 failed with value None.\n"
     ]
    },
    {
     "name": "stdout",
     "output_type": "stream",
     "text": [
      "Running little bitch having n_conv=3, dropout=0.3531094883962695, hidden_nodes=18\n",
      "Running little bitch having n_conv=3, dropout=0.34834958021529466, hidden_nodes=15\n"
     ]
    },
    {
     "name": "stderr",
     "output_type": "stream",
     "text": [
      "[W 2023-06-26 17:36:21,845] Trial 102 failed with parameters: {'n_conv': 3, 'n_hidden': 2, 'hidden_nodes': 18, 'dropout': 0.3531094883962695, 'filters': 11, 'kernel_size': 16, 'batch_size': 16, 'epochs': 58} because of the following error: ValueError('One of the dimensions in the output is <= 0 due to downsampling in extra_conv_0. Consider increasing the input size. Received input shape [None, 8, 11] which would produce output shape with a zero or negative value in a dimension.').\n",
      "Traceback (most recent call last):\n",
      "  File \"/home/djanloo/.local/share/virtualenvs/DM2-PeqFRmfa/lib/python3.10/site-packages/optuna/study/_optimize.py\", line 200, in _run_trial\n",
      "    value_or_values = func(trial)\n",
      "  File \"/tmp/ipykernel_38777/4091589858.py\", line 34, in <lambda>\n",
      "    trial_function = lambda trial: objective_fun(trial,\n",
      "  File \"/tmp/ipykernel_38777/4091589858.py\", line 15, in objective_fun\n",
      "    cnn = build_model(  X.shape[1:], len(np.unique(y)),\n",
      "  File \"/tmp/ipykernel_38777/1167308510.py\", line 27, in build_model\n",
      "    model.add(Conv1D(filters=filters, kernel_size=kernel_size, activation='relu', name=f\"extra_conv_{i}\"))\n",
      "  File \"/home/djanloo/.local/share/virtualenvs/DM2-PeqFRmfa/lib/python3.10/site-packages/tensorflow/python/trackable/base.py\", line 205, in _method_wrapper\n",
      "    result = method(self, *args, **kwargs)\n",
      "  File \"/home/djanloo/.local/share/virtualenvs/DM2-PeqFRmfa/lib/python3.10/site-packages/keras/utils/traceback_utils.py\", line 70, in error_handler\n",
      "    raise e.with_traceback(filtered_tb) from None\n",
      "  File \"/home/djanloo/.local/share/virtualenvs/DM2-PeqFRmfa/lib/python3.10/site-packages/keras/layers/convolutional/base_conv.py\", line 354, in compute_output_shape\n",
      "    raise ValueError(\n",
      "ValueError: One of the dimensions in the output is <= 0 due to downsampling in extra_conv_0. Consider increasing the input size. Received input shape [None, 8, 11] which would produce output shape with a zero or negative value in a dimension.\n",
      "[W 2023-06-26 17:36:21,859] Trial 102 failed with value None.\n"
     ]
    },
    {
     "name": "stdout",
     "output_type": "stream",
     "text": [
      "Running little bitch having n_conv=3, dropout=0.35487724023512385, hidden_nodes=9\n"
     ]
    },
    {
     "name": "stderr",
     "output_type": "stream",
     "text": [
      "[W 2023-06-26 17:36:22,341] Trial 103 failed with parameters: {'n_conv': 3, 'n_hidden': 2, 'hidden_nodes': 15, 'dropout': 0.34834958021529466, 'filters': 16, 'kernel_size': 7, 'batch_size': 16, 'epochs': 53} because of the following error: ValueError('One of the dimensions in the output is <= 0 due to downsampling in extra_conv_2. Consider increasing the input size. Received input shape [None, 5, 16] which would produce output shape with a zero or negative value in a dimension.').\n",
      "Traceback (most recent call last):\n",
      "  File \"/home/djanloo/.local/share/virtualenvs/DM2-PeqFRmfa/lib/python3.10/site-packages/optuna/study/_optimize.py\", line 200, in _run_trial\n",
      "    value_or_values = func(trial)\n",
      "  File \"/tmp/ipykernel_38777/4091589858.py\", line 34, in <lambda>\n",
      "    trial_function = lambda trial: objective_fun(trial,\n",
      "  File \"/tmp/ipykernel_38777/4091589858.py\", line 15, in objective_fun\n",
      "    cnn = build_model(  X.shape[1:], len(np.unique(y)),\n",
      "  File \"/tmp/ipykernel_38777/1167308510.py\", line 27, in build_model\n",
      "    model.add(Conv1D(filters=filters, kernel_size=kernel_size, activation='relu', name=f\"extra_conv_{i}\"))\n",
      "  File \"/home/djanloo/.local/share/virtualenvs/DM2-PeqFRmfa/lib/python3.10/site-packages/tensorflow/python/trackable/base.py\", line 205, in _method_wrapper\n",
      "    result = method(self, *args, **kwargs)\n",
      "  File \"/home/djanloo/.local/share/virtualenvs/DM2-PeqFRmfa/lib/python3.10/site-packages/keras/utils/traceback_utils.py\", line 70, in error_handler\n",
      "    raise e.with_traceback(filtered_tb) from None\n",
      "  File \"/home/djanloo/.local/share/virtualenvs/DM2-PeqFRmfa/lib/python3.10/site-packages/keras/layers/convolutional/base_conv.py\", line 354, in compute_output_shape\n",
      "    raise ValueError(\n",
      "ValueError: One of the dimensions in the output is <= 0 due to downsampling in extra_conv_2. Consider increasing the input size. Received input shape [None, 5, 16] which would produce output shape with a zero or negative value in a dimension.\n",
      "[W 2023-06-26 17:36:22,361] Trial 103 failed with value None.\n"
     ]
    },
    {
     "name": "stdout",
     "output_type": "stream",
     "text": [
      "Running little bitch having n_conv=3, dropout=0.3520629881662818, hidden_nodes=16\n"
     ]
    },
    {
     "name": "stderr",
     "output_type": "stream",
     "text": [
      "[W 2023-06-26 17:36:22,748] Trial 104 failed with parameters: {'n_conv': 3, 'n_hidden': 2, 'hidden_nodes': 9, 'dropout': 0.35487724023512385, 'filters': 16, 'kernel_size': 7, 'batch_size': 22, 'epochs': 59} because of the following error: ValueError('One of the dimensions in the output is <= 0 due to downsampling in extra_conv_2. Consider increasing the input size. Received input shape [None, 5, 16] which would produce output shape with a zero or negative value in a dimension.').\n",
      "Traceback (most recent call last):\n",
      "  File \"/home/djanloo/.local/share/virtualenvs/DM2-PeqFRmfa/lib/python3.10/site-packages/optuna/study/_optimize.py\", line 200, in _run_trial\n",
      "    value_or_values = func(trial)\n",
      "  File \"/tmp/ipykernel_38777/4091589858.py\", line 34, in <lambda>\n",
      "    trial_function = lambda trial: objective_fun(trial,\n",
      "  File \"/tmp/ipykernel_38777/4091589858.py\", line 15, in objective_fun\n",
      "    cnn = build_model(  X.shape[1:], len(np.unique(y)),\n",
      "  File \"/tmp/ipykernel_38777/1167308510.py\", line 27, in build_model\n",
      "    model.add(Conv1D(filters=filters, kernel_size=kernel_size, activation='relu', name=f\"extra_conv_{i}\"))\n",
      "  File \"/home/djanloo/.local/share/virtualenvs/DM2-PeqFRmfa/lib/python3.10/site-packages/tensorflow/python/trackable/base.py\", line 205, in _method_wrapper\n",
      "    result = method(self, *args, **kwargs)\n",
      "  File \"/home/djanloo/.local/share/virtualenvs/DM2-PeqFRmfa/lib/python3.10/site-packages/keras/utils/traceback_utils.py\", line 70, in error_handler\n",
      "    raise e.with_traceback(filtered_tb) from None\n",
      "  File \"/home/djanloo/.local/share/virtualenvs/DM2-PeqFRmfa/lib/python3.10/site-packages/keras/layers/convolutional/base_conv.py\", line 354, in compute_output_shape\n",
      "    raise ValueError(\n",
      "ValueError: One of the dimensions in the output is <= 0 due to downsampling in extra_conv_2. Consider increasing the input size. Received input shape [None, 5, 16] which would produce output shape with a zero or negative value in a dimension.\n",
      "[W 2023-06-26 17:36:22,751] Trial 104 failed with value None.\n",
      "[W 2023-06-26 17:36:22,753] Trial 105 failed with parameters: {'n_conv': 3, 'n_hidden': 2, 'hidden_nodes': 16, 'dropout': 0.3520629881662818, 'filters': 16, 'kernel_size': 16, 'batch_size': 16, 'epochs': 60} because of the following error: ValueError('One of the dimensions in the output is <= 0 due to downsampling in extra_conv_0. Consider increasing the input size. Received input shape [None, 8, 16] which would produce output shape with a zero or negative value in a dimension.').\n",
      "Traceback (most recent call last):\n",
      "  File \"/home/djanloo/.local/share/virtualenvs/DM2-PeqFRmfa/lib/python3.10/site-packages/optuna/study/_optimize.py\", line 200, in _run_trial\n",
      "    value_or_values = func(trial)\n",
      "  File \"/tmp/ipykernel_38777/4091589858.py\", line 34, in <lambda>\n",
      "    trial_function = lambda trial: objective_fun(trial,\n",
      "  File \"/tmp/ipykernel_38777/4091589858.py\", line 15, in objective_fun\n",
      "    cnn = build_model(  X.shape[1:], len(np.unique(y)),\n",
      "  File \"/tmp/ipykernel_38777/1167308510.py\", line 27, in build_model\n",
      "    model.add(Conv1D(filters=filters, kernel_size=kernel_size, activation='relu', name=f\"extra_conv_{i}\"))\n",
      "  File \"/home/djanloo/.local/share/virtualenvs/DM2-PeqFRmfa/lib/python3.10/site-packages/tensorflow/python/trackable/base.py\", line 205, in _method_wrapper\n",
      "    result = method(self, *args, **kwargs)\n",
      "  File \"/home/djanloo/.local/share/virtualenvs/DM2-PeqFRmfa/lib/python3.10/site-packages/keras/utils/traceback_utils.py\", line 70, in error_handler\n",
      "    raise e.with_traceback(filtered_tb) from None\n",
      "  File \"/home/djanloo/.local/share/virtualenvs/DM2-PeqFRmfa/lib/python3.10/site-packages/keras/layers/convolutional/base_conv.py\", line 354, in compute_output_shape\n",
      "    raise ValueError(\n",
      "ValueError: One of the dimensions in the output is <= 0 due to downsampling in extra_conv_0. Consider increasing the input size. Received input shape [None, 8, 16] which would produce output shape with a zero or negative value in a dimension.\n",
      "[W 2023-06-26 17:36:22,838] Trial 105 failed with value None.\n"
     ]
    },
    {
     "name": "stdout",
     "output_type": "stream",
     "text": [
      "Running little bitch having n_conv=3, dropout=0.35151483588483456, hidden_nodes=12\n",
      "Running little bitch having n_conv=3, dropout=0.3448226066988488, hidden_nodes=10\n"
     ]
    },
    {
     "name": "stderr",
     "output_type": "stream",
     "text": [
      "[W 2023-06-26 17:36:23,209] Trial 107 failed with parameters: {'n_conv': 3, 'n_hidden': 2, 'hidden_nodes': 10, 'dropout': 0.3448226066988488, 'filters': 16, 'kernel_size': 16, 'batch_size': 19, 'epochs': 57} because of the following error: ValueError('One of the dimensions in the output is <= 0 due to downsampling in extra_conv_0. Consider increasing the input size. Received input shape [None, 8, 16] which would produce output shape with a zero or negative value in a dimension.').\n",
      "Traceback (most recent call last):\n",
      "  File \"/home/djanloo/.local/share/virtualenvs/DM2-PeqFRmfa/lib/python3.10/site-packages/optuna/study/_optimize.py\", line 200, in _run_trial\n",
      "    value_or_values = func(trial)\n",
      "  File \"/tmp/ipykernel_38777/4091589858.py\", line 34, in <lambda>\n",
      "    trial_function = lambda trial: objective_fun(trial,\n",
      "  File \"/tmp/ipykernel_38777/4091589858.py\", line 15, in objective_fun\n",
      "    cnn = build_model(  X.shape[1:], len(np.unique(y)),\n",
      "  File \"/tmp/ipykernel_38777/1167308510.py\", line 27, in build_model\n",
      "    model.add(Conv1D(filters=filters, kernel_size=kernel_size, activation='relu', name=f\"extra_conv_{i}\"))\n",
      "  File \"/home/djanloo/.local/share/virtualenvs/DM2-PeqFRmfa/lib/python3.10/site-packages/tensorflow/python/trackable/base.py\", line 205, in _method_wrapper\n",
      "    result = method(self, *args, **kwargs)\n",
      "  File \"/home/djanloo/.local/share/virtualenvs/DM2-PeqFRmfa/lib/python3.10/site-packages/keras/utils/traceback_utils.py\", line 70, in error_handler\n",
      "    raise e.with_traceback(filtered_tb) from None\n",
      "  File \"/home/djanloo/.local/share/virtualenvs/DM2-PeqFRmfa/lib/python3.10/site-packages/keras/layers/convolutional/base_conv.py\", line 354, in compute_output_shape\n",
      "    raise ValueError(\n",
      "ValueError: One of the dimensions in the output is <= 0 due to downsampling in extra_conv_0. Consider increasing the input size. Received input shape [None, 8, 16] which would produce output shape with a zero or negative value in a dimension.\n",
      "[W 2023-06-26 17:36:23,221] Trial 107 failed with value None.\n"
     ]
    },
    {
     "name": "stdout",
     "output_type": "stream",
     "text": [
      "Running little bitch having n_conv=3, dropout=0.31871375687059084, hidden_nodes=40\n"
     ]
    },
    {
     "name": "stderr",
     "output_type": "stream",
     "text": [
      "[W 2023-06-26 17:36:23,852] Trial 106 failed with parameters: {'n_conv': 3, 'n_hidden': 2, 'hidden_nodes': 12, 'dropout': 0.35151483588483456, 'filters': 16, 'kernel_size': 7, 'batch_size': 17, 'epochs': 55} because of the following error: ValueError('One of the dimensions in the output is <= 0 due to downsampling in extra_conv_2. Consider increasing the input size. Received input shape [None, 5, 16] which would produce output shape with a zero or negative value in a dimension.').\n",
      "Traceback (most recent call last):\n",
      "  File \"/home/djanloo/.local/share/virtualenvs/DM2-PeqFRmfa/lib/python3.10/site-packages/optuna/study/_optimize.py\", line 200, in _run_trial\n",
      "    value_or_values = func(trial)\n",
      "  File \"/tmp/ipykernel_38777/4091589858.py\", line 34, in <lambda>\n",
      "    trial_function = lambda trial: objective_fun(trial,\n",
      "  File \"/tmp/ipykernel_38777/4091589858.py\", line 15, in objective_fun\n",
      "    cnn = build_model(  X.shape[1:], len(np.unique(y)),\n",
      "  File \"/tmp/ipykernel_38777/1167308510.py\", line 27, in build_model\n",
      "    model.add(Conv1D(filters=filters, kernel_size=kernel_size, activation='relu', name=f\"extra_conv_{i}\"))\n",
      "  File \"/home/djanloo/.local/share/virtualenvs/DM2-PeqFRmfa/lib/python3.10/site-packages/tensorflow/python/trackable/base.py\", line 205, in _method_wrapper\n",
      "    result = method(self, *args, **kwargs)\n",
      "  File \"/home/djanloo/.local/share/virtualenvs/DM2-PeqFRmfa/lib/python3.10/site-packages/keras/utils/traceback_utils.py\", line 70, in error_handler\n",
      "    raise e.with_traceback(filtered_tb) from None\n",
      "  File \"/home/djanloo/.local/share/virtualenvs/DM2-PeqFRmfa/lib/python3.10/site-packages/keras/layers/convolutional/base_conv.py\", line 354, in compute_output_shape\n",
      "    raise ValueError(\n",
      "ValueError: One of the dimensions in the output is <= 0 due to downsampling in extra_conv_2. Consider increasing the input size. Received input shape [None, 5, 16] which would produce output shape with a zero or negative value in a dimension.\n",
      "[W 2023-06-26 17:36:23,872] Trial 106 failed with value None.\n"
     ]
    },
    {
     "name": "stdout",
     "output_type": "stream",
     "text": [
      "Running little bitch having n_conv=3, dropout=0.34182819567559136, hidden_nodes=13\n"
     ]
    },
    {
     "name": "stderr",
     "output_type": "stream",
     "text": [
      "[W 2023-06-26 17:36:24,375] Trial 108 failed with parameters: {'n_conv': 3, 'n_hidden': 2, 'hidden_nodes': 40, 'dropout': 0.31871375687059084, 'filters': 11, 'kernel_size': 7, 'batch_size': 16, 'epochs': 59} because of the following error: ValueError('One of the dimensions in the output is <= 0 due to downsampling in extra_conv_2. Consider increasing the input size. Received input shape [None, 5, 11] which would produce output shape with a zero or negative value in a dimension.').\n",
      "Traceback (most recent call last):\n",
      "  File \"/home/djanloo/.local/share/virtualenvs/DM2-PeqFRmfa/lib/python3.10/site-packages/optuna/study/_optimize.py\", line 200, in _run_trial\n",
      "    value_or_values = func(trial)\n",
      "  File \"/tmp/ipykernel_38777/4091589858.py\", line 34, in <lambda>\n",
      "    trial_function = lambda trial: objective_fun(trial,\n",
      "  File \"/tmp/ipykernel_38777/4091589858.py\", line 15, in objective_fun\n",
      "    cnn = build_model(  X.shape[1:], len(np.unique(y)),\n",
      "  File \"/tmp/ipykernel_38777/1167308510.py\", line 27, in build_model\n",
      "    model.add(Conv1D(filters=filters, kernel_size=kernel_size, activation='relu', name=f\"extra_conv_{i}\"))\n",
      "  File \"/home/djanloo/.local/share/virtualenvs/DM2-PeqFRmfa/lib/python3.10/site-packages/tensorflow/python/trackable/base.py\", line 205, in _method_wrapper\n",
      "    result = method(self, *args, **kwargs)\n",
      "  File \"/home/djanloo/.local/share/virtualenvs/DM2-PeqFRmfa/lib/python3.10/site-packages/keras/utils/traceback_utils.py\", line 70, in error_handler\n",
      "    raise e.with_traceback(filtered_tb) from None\n",
      "  File \"/home/djanloo/.local/share/virtualenvs/DM2-PeqFRmfa/lib/python3.10/site-packages/keras/layers/convolutional/base_conv.py\", line 354, in compute_output_shape\n",
      "    raise ValueError(\n",
      "ValueError: One of the dimensions in the output is <= 0 due to downsampling in extra_conv_2. Consider increasing the input size. Received input shape [None, 5, 11] which would produce output shape with a zero or negative value in a dimension.\n",
      "[W 2023-06-26 17:36:24,406] Trial 108 failed with value None.\n"
     ]
    },
    {
     "name": "stdout",
     "output_type": "stream",
     "text": [
      "Running little bitch having n_conv=3, dropout=0.3616165730005952, hidden_nodes=21\n"
     ]
    },
    {
     "name": "stderr",
     "output_type": "stream",
     "text": [
      "[W 2023-06-26 17:36:24,902] Trial 110 failed with parameters: {'n_conv': 3, 'n_hidden': 2, 'hidden_nodes': 21, 'dropout': 0.3616165730005952, 'filters': 16, 'kernel_size': 16, 'batch_size': 22, 'epochs': 58} because of the following error: ValueError('One of the dimensions in the output is <= 0 due to downsampling in extra_conv_0. Consider increasing the input size. Received input shape [None, 8, 16] which would produce output shape with a zero or negative value in a dimension.').\n",
      "Traceback (most recent call last):\n",
      "  File \"/home/djanloo/.local/share/virtualenvs/DM2-PeqFRmfa/lib/python3.10/site-packages/optuna/study/_optimize.py\", line 200, in _run_trial\n",
      "    value_or_values = func(trial)\n",
      "  File \"/tmp/ipykernel_38777/4091589858.py\", line 34, in <lambda>\n",
      "    trial_function = lambda trial: objective_fun(trial,\n",
      "  File \"/tmp/ipykernel_38777/4091589858.py\", line 15, in objective_fun\n",
      "    cnn = build_model(  X.shape[1:], len(np.unique(y)),\n",
      "  File \"/tmp/ipykernel_38777/1167308510.py\", line 27, in build_model\n",
      "    model.add(Conv1D(filters=filters, kernel_size=kernel_size, activation='relu', name=f\"extra_conv_{i}\"))\n",
      "  File \"/home/djanloo/.local/share/virtualenvs/DM2-PeqFRmfa/lib/python3.10/site-packages/tensorflow/python/trackable/base.py\", line 205, in _method_wrapper\n",
      "    result = method(self, *args, **kwargs)\n",
      "  File \"/home/djanloo/.local/share/virtualenvs/DM2-PeqFRmfa/lib/python3.10/site-packages/keras/utils/traceback_utils.py\", line 70, in error_handler\n",
      "    raise e.with_traceback(filtered_tb) from None\n",
      "  File \"/home/djanloo/.local/share/virtualenvs/DM2-PeqFRmfa/lib/python3.10/site-packages/keras/layers/convolutional/base_conv.py\", line 354, in compute_output_shape\n",
      "    raise ValueError(\n",
      "ValueError: One of the dimensions in the output is <= 0 due to downsampling in extra_conv_0. Consider increasing the input size. Received input shape [None, 8, 16] which would produce output shape with a zero or negative value in a dimension.\n",
      "[W 2023-06-26 17:36:24,940] Trial 110 failed with value None.\n",
      "[W 2023-06-26 17:36:25,053] Trial 109 failed with parameters: {'n_conv': 3, 'n_hidden': 2, 'hidden_nodes': 13, 'dropout': 0.34182819567559136, 'filters': 16, 'kernel_size': 7, 'batch_size': 20, 'epochs': 58} because of the following error: ValueError('One of the dimensions in the output is <= 0 due to downsampling in extra_conv_2. Consider increasing the input size. Received input shape [None, 5, 16] which would produce output shape with a zero or negative value in a dimension.').\n",
      "Traceback (most recent call last):\n",
      "  File \"/home/djanloo/.local/share/virtualenvs/DM2-PeqFRmfa/lib/python3.10/site-packages/optuna/study/_optimize.py\", line 200, in _run_trial\n",
      "    value_or_values = func(trial)\n",
      "  File \"/tmp/ipykernel_38777/4091589858.py\", line 34, in <lambda>\n",
      "    trial_function = lambda trial: objective_fun(trial,\n",
      "  File \"/tmp/ipykernel_38777/4091589858.py\", line 15, in objective_fun\n",
      "    cnn = build_model(  X.shape[1:], len(np.unique(y)),\n",
      "  File \"/tmp/ipykernel_38777/1167308510.py\", line 27, in build_model\n",
      "    model.add(Conv1D(filters=filters, kernel_size=kernel_size, activation='relu', name=f\"extra_conv_{i}\"))\n",
      "  File \"/home/djanloo/.local/share/virtualenvs/DM2-PeqFRmfa/lib/python3.10/site-packages/tensorflow/python/trackable/base.py\", line 205, in _method_wrapper\n",
      "    result = method(self, *args, **kwargs)\n",
      "  File \"/home/djanloo/.local/share/virtualenvs/DM2-PeqFRmfa/lib/python3.10/site-packages/keras/utils/traceback_utils.py\", line 70, in error_handler\n",
      "    raise e.with_traceback(filtered_tb) from None\n",
      "  File \"/home/djanloo/.local/share/virtualenvs/DM2-PeqFRmfa/lib/python3.10/site-packages/keras/layers/convolutional/base_conv.py\", line 354, in compute_output_shape\n",
      "    raise ValueError(\n",
      "ValueError: One of the dimensions in the output is <= 0 due to downsampling in extra_conv_2. Consider increasing the input size. Received input shape [None, 5, 16] which would produce output shape with a zero or negative value in a dimension.\n",
      "[W 2023-06-26 17:36:25,067] Trial 109 failed with value None.\n"
     ]
    },
    {
     "name": "stdout",
     "output_type": "stream",
     "text": [
      "Running little bitch having n_conv=3, dropout=0.35539559571018214, hidden_nodes=8\n",
      "Running little bitch having n_conv=3, dropout=0.3595333991524102, hidden_nodes=19\n"
     ]
    },
    {
     "name": "stderr",
     "output_type": "stream",
     "text": [
      "[W 2023-06-26 17:36:25,580] Trial 111 failed with parameters: {'n_conv': 3, 'n_hidden': 2, 'hidden_nodes': 8, 'dropout': 0.35539559571018214, 'filters': 11, 'kernel_size': 16, 'batch_size': 16, 'epochs': 58} because of the following error: ValueError('One of the dimensions in the output is <= 0 due to downsampling in extra_conv_0. Consider increasing the input size. Received input shape [None, 8, 11] which would produce output shape with a zero or negative value in a dimension.').\n",
      "Traceback (most recent call last):\n",
      "  File \"/home/djanloo/.local/share/virtualenvs/DM2-PeqFRmfa/lib/python3.10/site-packages/optuna/study/_optimize.py\", line 200, in _run_trial\n",
      "    value_or_values = func(trial)\n",
      "  File \"/tmp/ipykernel_38777/4091589858.py\", line 34, in <lambda>\n",
      "    trial_function = lambda trial: objective_fun(trial,\n",
      "  File \"/tmp/ipykernel_38777/4091589858.py\", line 15, in objective_fun\n",
      "    cnn = build_model(  X.shape[1:], len(np.unique(y)),\n",
      "  File \"/tmp/ipykernel_38777/1167308510.py\", line 27, in build_model\n",
      "    model.add(Conv1D(filters=filters, kernel_size=kernel_size, activation='relu', name=f\"extra_conv_{i}\"))\n",
      "  File \"/home/djanloo/.local/share/virtualenvs/DM2-PeqFRmfa/lib/python3.10/site-packages/tensorflow/python/trackable/base.py\", line 205, in _method_wrapper\n",
      "    result = method(self, *args, **kwargs)\n",
      "  File \"/home/djanloo/.local/share/virtualenvs/DM2-PeqFRmfa/lib/python3.10/site-packages/keras/utils/traceback_utils.py\", line 70, in error_handler\n",
      "    raise e.with_traceback(filtered_tb) from None\n",
      "  File \"/home/djanloo/.local/share/virtualenvs/DM2-PeqFRmfa/lib/python3.10/site-packages/keras/layers/convolutional/base_conv.py\", line 354, in compute_output_shape\n",
      "    raise ValueError(\n",
      "ValueError: One of the dimensions in the output is <= 0 due to downsampling in extra_conv_0. Consider increasing the input size. Received input shape [None, 8, 11] which would produce output shape with a zero or negative value in a dimension.\n",
      "[W 2023-06-26 17:36:25,606] Trial 111 failed with value None.\n",
      "[W 2023-06-26 17:36:25,624] Trial 112 failed with parameters: {'n_conv': 3, 'n_hidden': 2, 'hidden_nodes': 19, 'dropout': 0.3595333991524102, 'filters': 16, 'kernel_size': 16, 'batch_size': 16, 'epochs': 58} because of the following error: ValueError('One of the dimensions in the output is <= 0 due to downsampling in extra_conv_0. Consider increasing the input size. Received input shape [None, 8, 16] which would produce output shape with a zero or negative value in a dimension.').\n",
      "Traceback (most recent call last):\n",
      "  File \"/home/djanloo/.local/share/virtualenvs/DM2-PeqFRmfa/lib/python3.10/site-packages/optuna/study/_optimize.py\", line 200, in _run_trial\n",
      "    value_or_values = func(trial)\n",
      "  File \"/tmp/ipykernel_38777/4091589858.py\", line 34, in <lambda>\n",
      "    trial_function = lambda trial: objective_fun(trial,\n",
      "  File \"/tmp/ipykernel_38777/4091589858.py\", line 15, in objective_fun\n",
      "    cnn = build_model(  X.shape[1:], len(np.unique(y)),\n",
      "  File \"/tmp/ipykernel_38777/1167308510.py\", line 27, in build_model\n",
      "    model.add(Conv1D(filters=filters, kernel_size=kernel_size, activation='relu', name=f\"extra_conv_{i}\"))\n",
      "  File \"/home/djanloo/.local/share/virtualenvs/DM2-PeqFRmfa/lib/python3.10/site-packages/tensorflow/python/trackable/base.py\", line 205, in _method_wrapper\n",
      "    result = method(self, *args, **kwargs)\n",
      "  File \"/home/djanloo/.local/share/virtualenvs/DM2-PeqFRmfa/lib/python3.10/site-packages/keras/utils/traceback_utils.py\", line 70, in error_handler\n",
      "    raise e.with_traceback(filtered_tb) from None\n",
      "  File \"/home/djanloo/.local/share/virtualenvs/DM2-PeqFRmfa/lib/python3.10/site-packages/keras/layers/convolutional/base_conv.py\", line 354, in compute_output_shape\n",
      "    raise ValueError(\n",
      "ValueError: One of the dimensions in the output is <= 0 due to downsampling in extra_conv_0. Consider increasing the input size. Received input shape [None, 8, 16] which would produce output shape with a zero or negative value in a dimension.\n",
      "[W 2023-06-26 17:36:25,660] Trial 112 failed with value None.\n"
     ]
    },
    {
     "name": "stdout",
     "output_type": "stream",
     "text": [
      "Running little bitch having n_conv=3, dropout=0.34502475067399563, hidden_nodes=29\n",
      "Running little bitch having n_conv=3, dropout=0.37438013330534586, hidden_nodes=9\n"
     ]
    },
    {
     "name": "stderr",
     "output_type": "stream",
     "text": [
      "[W 2023-06-26 17:36:26,770] Trial 113 failed with parameters: {'n_conv': 3, 'n_hidden': 2, 'hidden_nodes': 29, 'dropout': 0.34502475067399563, 'filters': 10, 'kernel_size': 7, 'batch_size': 16, 'epochs': 60} because of the following error: ValueError('One of the dimensions in the output is <= 0 due to downsampling in extra_conv_2. Consider increasing the input size. Received input shape [None, 5, 10] which would produce output shape with a zero or negative value in a dimension.').\n",
      "Traceback (most recent call last):\n",
      "  File \"/home/djanloo/.local/share/virtualenvs/DM2-PeqFRmfa/lib/python3.10/site-packages/optuna/study/_optimize.py\", line 200, in _run_trial\n",
      "    value_or_values = func(trial)\n",
      "  File \"/tmp/ipykernel_38777/4091589858.py\", line 34, in <lambda>\n",
      "    trial_function = lambda trial: objective_fun(trial,\n",
      "  File \"/tmp/ipykernel_38777/4091589858.py\", line 15, in objective_fun\n",
      "    cnn = build_model(  X.shape[1:], len(np.unique(y)),\n",
      "  File \"/tmp/ipykernel_38777/1167308510.py\", line 27, in build_model\n",
      "    model.add(Conv1D(filters=filters, kernel_size=kernel_size, activation='relu', name=f\"extra_conv_{i}\"))\n",
      "  File \"/home/djanloo/.local/share/virtualenvs/DM2-PeqFRmfa/lib/python3.10/site-packages/tensorflow/python/trackable/base.py\", line 205, in _method_wrapper\n",
      "    result = method(self, *args, **kwargs)\n",
      "  File \"/home/djanloo/.local/share/virtualenvs/DM2-PeqFRmfa/lib/python3.10/site-packages/keras/utils/traceback_utils.py\", line 70, in error_handler\n",
      "    raise e.with_traceback(filtered_tb) from None\n",
      "  File \"/home/djanloo/.local/share/virtualenvs/DM2-PeqFRmfa/lib/python3.10/site-packages/keras/layers/convolutional/base_conv.py\", line 354, in compute_output_shape\n",
      "    raise ValueError(\n",
      "ValueError: One of the dimensions in the output is <= 0 due to downsampling in extra_conv_2. Consider increasing the input size. Received input shape [None, 5, 10] which would produce output shape with a zero or negative value in a dimension.\n",
      "[W 2023-06-26 17:36:26,793] Trial 113 failed with value None.\n",
      "[W 2023-06-26 17:36:27,067] Trial 114 failed with parameters: {'n_conv': 3, 'n_hidden': 2, 'hidden_nodes': 9, 'dropout': 0.37438013330534586, 'filters': 16, 'kernel_size': 7, 'batch_size': 21, 'epochs': 58} because of the following error: ValueError('One of the dimensions in the output is <= 0 due to downsampling in extra_conv_2. Consider increasing the input size. Received input shape [None, 5, 16] which would produce output shape with a zero or negative value in a dimension.').\n",
      "Traceback (most recent call last):\n",
      "  File \"/home/djanloo/.local/share/virtualenvs/DM2-PeqFRmfa/lib/python3.10/site-packages/optuna/study/_optimize.py\", line 200, in _run_trial\n",
      "    value_or_values = func(trial)\n",
      "  File \"/tmp/ipykernel_38777/4091589858.py\", line 34, in <lambda>\n",
      "    trial_function = lambda trial: objective_fun(trial,\n",
      "  File \"/tmp/ipykernel_38777/4091589858.py\", line 15, in objective_fun\n",
      "    cnn = build_model(  X.shape[1:], len(np.unique(y)),\n",
      "  File \"/tmp/ipykernel_38777/1167308510.py\", line 27, in build_model\n",
      "    model.add(Conv1D(filters=filters, kernel_size=kernel_size, activation='relu', name=f\"extra_conv_{i}\"))\n",
      "  File \"/home/djanloo/.local/share/virtualenvs/DM2-PeqFRmfa/lib/python3.10/site-packages/tensorflow/python/trackable/base.py\", line 205, in _method_wrapper\n",
      "    result = method(self, *args, **kwargs)\n",
      "  File \"/home/djanloo/.local/share/virtualenvs/DM2-PeqFRmfa/lib/python3.10/site-packages/keras/utils/traceback_utils.py\", line 70, in error_handler\n",
      "    raise e.with_traceback(filtered_tb) from None\n",
      "  File \"/home/djanloo/.local/share/virtualenvs/DM2-PeqFRmfa/lib/python3.10/site-packages/keras/layers/convolutional/base_conv.py\", line 354, in compute_output_shape\n",
      "    raise ValueError(\n",
      "ValueError: One of the dimensions in the output is <= 0 due to downsampling in extra_conv_2. Consider increasing the input size. Received input shape [None, 5, 16] which would produce output shape with a zero or negative value in a dimension.\n",
      "[W 2023-06-26 17:36:27,077] Trial 114 failed with value None.\n"
     ]
    },
    {
     "name": "stdout",
     "output_type": "stream",
     "text": [
      "Running little bitch having n_conv=3, dropout=0.3543697168804965, hidden_nodes=8\n",
      "Running little bitch having n_conv=3, dropout=0.35834318770530843, hidden_nodes=11\n"
     ]
    },
    {
     "name": "stderr",
     "output_type": "stream",
     "text": [
      "[W 2023-06-26 17:36:27,708] Trial 116 failed with parameters: {'n_conv': 3, 'n_hidden': 2, 'hidden_nodes': 11, 'dropout': 0.35834318770530843, 'filters': 16, 'kernel_size': 16, 'batch_size': 16, 'epochs': 60} because of the following error: ValueError('One of the dimensions in the output is <= 0 due to downsampling in extra_conv_0. Consider increasing the input size. Received input shape [None, 8, 16] which would produce output shape with a zero or negative value in a dimension.').\n",
      "Traceback (most recent call last):\n",
      "  File \"/home/djanloo/.local/share/virtualenvs/DM2-PeqFRmfa/lib/python3.10/site-packages/optuna/study/_optimize.py\", line 200, in _run_trial\n",
      "    value_or_values = func(trial)\n",
      "  File \"/tmp/ipykernel_38777/4091589858.py\", line 34, in <lambda>\n",
      "    trial_function = lambda trial: objective_fun(trial,\n",
      "  File \"/tmp/ipykernel_38777/4091589858.py\", line 15, in objective_fun\n",
      "    cnn = build_model(  X.shape[1:], len(np.unique(y)),\n",
      "  File \"/tmp/ipykernel_38777/1167308510.py\", line 27, in build_model\n",
      "    model.add(Conv1D(filters=filters, kernel_size=kernel_size, activation='relu', name=f\"extra_conv_{i}\"))\n",
      "  File \"/home/djanloo/.local/share/virtualenvs/DM2-PeqFRmfa/lib/python3.10/site-packages/tensorflow/python/trackable/base.py\", line 205, in _method_wrapper\n",
      "    result = method(self, *args, **kwargs)\n",
      "  File \"/home/djanloo/.local/share/virtualenvs/DM2-PeqFRmfa/lib/python3.10/site-packages/keras/utils/traceback_utils.py\", line 70, in error_handler\n",
      "    raise e.with_traceback(filtered_tb) from None\n",
      "  File \"/home/djanloo/.local/share/virtualenvs/DM2-PeqFRmfa/lib/python3.10/site-packages/keras/layers/convolutional/base_conv.py\", line 354, in compute_output_shape\n",
      "    raise ValueError(\n",
      "ValueError: One of the dimensions in the output is <= 0 due to downsampling in extra_conv_0. Consider increasing the input size. Received input shape [None, 8, 16] which would produce output shape with a zero or negative value in a dimension.\n",
      "[W 2023-06-26 17:36:27,731] Trial 116 failed with value None.\n",
      "[W 2023-06-26 17:36:28,123] Trial 115 failed with parameters: {'n_conv': 3, 'n_hidden': 2, 'hidden_nodes': 8, 'dropout': 0.3543697168804965, 'filters': 16, 'kernel_size': 7, 'batch_size': 16, 'epochs': 57} because of the following error: ValueError('One of the dimensions in the output is <= 0 due to downsampling in extra_conv_2. Consider increasing the input size. Received input shape [None, 5, 16] which would produce output shape with a zero or negative value in a dimension.').\n",
      "Traceback (most recent call last):\n",
      "  File \"/home/djanloo/.local/share/virtualenvs/DM2-PeqFRmfa/lib/python3.10/site-packages/optuna/study/_optimize.py\", line 200, in _run_trial\n",
      "    value_or_values = func(trial)\n",
      "  File \"/tmp/ipykernel_38777/4091589858.py\", line 34, in <lambda>\n",
      "    trial_function = lambda trial: objective_fun(trial,\n",
      "  File \"/tmp/ipykernel_38777/4091589858.py\", line 15, in objective_fun\n",
      "    cnn = build_model(  X.shape[1:], len(np.unique(y)),\n",
      "  File \"/tmp/ipykernel_38777/1167308510.py\", line 27, in build_model\n",
      "    model.add(Conv1D(filters=filters, kernel_size=kernel_size, activation='relu', name=f\"extra_conv_{i}\"))\n",
      "  File \"/home/djanloo/.local/share/virtualenvs/DM2-PeqFRmfa/lib/python3.10/site-packages/tensorflow/python/trackable/base.py\", line 205, in _method_wrapper\n",
      "    result = method(self, *args, **kwargs)\n",
      "  File \"/home/djanloo/.local/share/virtualenvs/DM2-PeqFRmfa/lib/python3.10/site-packages/keras/utils/traceback_utils.py\", line 70, in error_handler\n",
      "    raise e.with_traceback(filtered_tb) from None\n",
      "  File \"/home/djanloo/.local/share/virtualenvs/DM2-PeqFRmfa/lib/python3.10/site-packages/keras/layers/convolutional/base_conv.py\", line 354, in compute_output_shape\n",
      "    raise ValueError(\n",
      "ValueError: One of the dimensions in the output is <= 0 due to downsampling in extra_conv_2. Consider increasing the input size. Received input shape [None, 5, 16] which would produce output shape with a zero or negative value in a dimension.\n",
      "[W 2023-06-26 17:36:28,126] Trial 115 failed with value None.\n"
     ]
    },
    {
     "name": "stdout",
     "output_type": "stream",
     "text": [
      "Running little bitch having n_conv=3, dropout=0.34227383515299903, hidden_nodes=11\n",
      "Running little bitch having n_conv=3, dropout=0.33165721147544236, hidden_nodes=33\n"
     ]
    },
    {
     "name": "stderr",
     "output_type": "stream",
     "text": [
      "[W 2023-06-26 17:36:28,527] Trial 118 failed with parameters: {'n_conv': 3, 'n_hidden': 2, 'hidden_nodes': 33, 'dropout': 0.33165721147544236, 'filters': 16, 'kernel_size': 16, 'batch_size': 16, 'epochs': 61} because of the following error: ValueError('One of the dimensions in the output is <= 0 due to downsampling in extra_conv_0. Consider increasing the input size. Received input shape [None, 8, 16] which would produce output shape with a zero or negative value in a dimension.').\n",
      "Traceback (most recent call last):\n",
      "  File \"/home/djanloo/.local/share/virtualenvs/DM2-PeqFRmfa/lib/python3.10/site-packages/optuna/study/_optimize.py\", line 200, in _run_trial\n",
      "    value_or_values = func(trial)\n",
      "  File \"/tmp/ipykernel_38777/4091589858.py\", line 34, in <lambda>\n",
      "    trial_function = lambda trial: objective_fun(trial,\n",
      "  File \"/tmp/ipykernel_38777/4091589858.py\", line 15, in objective_fun\n",
      "    cnn = build_model(  X.shape[1:], len(np.unique(y)),\n",
      "  File \"/tmp/ipykernel_38777/1167308510.py\", line 27, in build_model\n",
      "    model.add(Conv1D(filters=filters, kernel_size=kernel_size, activation='relu', name=f\"extra_conv_{i}\"))\n",
      "  File \"/home/djanloo/.local/share/virtualenvs/DM2-PeqFRmfa/lib/python3.10/site-packages/tensorflow/python/trackable/base.py\", line 205, in _method_wrapper\n",
      "    result = method(self, *args, **kwargs)\n",
      "  File \"/home/djanloo/.local/share/virtualenvs/DM2-PeqFRmfa/lib/python3.10/site-packages/keras/utils/traceback_utils.py\", line 70, in error_handler\n",
      "    raise e.with_traceback(filtered_tb) from None\n",
      "  File \"/home/djanloo/.local/share/virtualenvs/DM2-PeqFRmfa/lib/python3.10/site-packages/keras/layers/convolutional/base_conv.py\", line 354, in compute_output_shape\n",
      "    raise ValueError(\n",
      "ValueError: One of the dimensions in the output is <= 0 due to downsampling in extra_conv_0. Consider increasing the input size. Received input shape [None, 8, 16] which would produce output shape with a zero or negative value in a dimension.\n",
      "[W 2023-06-26 17:36:28,540] Trial 118 failed with value None.\n",
      "[W 2023-06-26 17:36:28,837] Trial 117 failed with parameters: {'n_conv': 3, 'n_hidden': 2, 'hidden_nodes': 11, 'dropout': 0.34227383515299903, 'filters': 16, 'kernel_size': 7, 'batch_size': 16, 'epochs': 64} because of the following error: ValueError('One of the dimensions in the output is <= 0 due to downsampling in extra_conv_2. Consider increasing the input size. Received input shape [None, 5, 16] which would produce output shape with a zero or negative value in a dimension.').\n",
      "Traceback (most recent call last):\n",
      "  File \"/home/djanloo/.local/share/virtualenvs/DM2-PeqFRmfa/lib/python3.10/site-packages/optuna/study/_optimize.py\", line 200, in _run_trial\n",
      "    value_or_values = func(trial)\n",
      "  File \"/tmp/ipykernel_38777/4091589858.py\", line 34, in <lambda>\n",
      "    trial_function = lambda trial: objective_fun(trial,\n",
      "  File \"/tmp/ipykernel_38777/4091589858.py\", line 15, in objective_fun\n",
      "    cnn = build_model(  X.shape[1:], len(np.unique(y)),\n",
      "  File \"/tmp/ipykernel_38777/1167308510.py\", line 27, in build_model\n",
      "    model.add(Conv1D(filters=filters, kernel_size=kernel_size, activation='relu', name=f\"extra_conv_{i}\"))\n",
      "  File \"/home/djanloo/.local/share/virtualenvs/DM2-PeqFRmfa/lib/python3.10/site-packages/tensorflow/python/trackable/base.py\", line 205, in _method_wrapper\n",
      "    result = method(self, *args, **kwargs)\n",
      "  File \"/home/djanloo/.local/share/virtualenvs/DM2-PeqFRmfa/lib/python3.10/site-packages/keras/utils/traceback_utils.py\", line 70, in error_handler\n",
      "    raise e.with_traceback(filtered_tb) from None\n",
      "  File \"/home/djanloo/.local/share/virtualenvs/DM2-PeqFRmfa/lib/python3.10/site-packages/keras/layers/convolutional/base_conv.py\", line 354, in compute_output_shape\n",
      "    raise ValueError(\n",
      "ValueError: One of the dimensions in the output is <= 0 due to downsampling in extra_conv_2. Consider increasing the input size. Received input shape [None, 5, 16] which would produce output shape with a zero or negative value in a dimension.\n",
      "[W 2023-06-26 17:36:28,849] Trial 117 failed with value None.\n"
     ]
    },
    {
     "name": "stdout",
     "output_type": "stream",
     "text": [
      "Running little bitch having n_conv=3, dropout=0.3784058266606007, hidden_nodes=13\n",
      "Running little bitch having n_conv=3, dropout=0.30447412476543867, hidden_nodes=10\n"
     ]
    },
    {
     "name": "stderr",
     "output_type": "stream",
     "text": [
      "[W 2023-06-26 17:36:29,438] Trial 119 failed with parameters: {'n_conv': 3, 'n_hidden': 2, 'hidden_nodes': 13, 'dropout': 0.3784058266606007, 'filters': 16, 'kernel_size': 7, 'batch_size': 17, 'epochs': 57} because of the following error: ValueError('One of the dimensions in the output is <= 0 due to downsampling in extra_conv_2. Consider increasing the input size. Received input shape [None, 5, 16] which would produce output shape with a zero or negative value in a dimension.').\n",
      "Traceback (most recent call last):\n",
      "  File \"/home/djanloo/.local/share/virtualenvs/DM2-PeqFRmfa/lib/python3.10/site-packages/optuna/study/_optimize.py\", line 200, in _run_trial\n",
      "    value_or_values = func(trial)\n",
      "  File \"/tmp/ipykernel_38777/4091589858.py\", line 34, in <lambda>\n",
      "    trial_function = lambda trial: objective_fun(trial,\n",
      "  File \"/tmp/ipykernel_38777/4091589858.py\", line 15, in objective_fun\n",
      "    cnn = build_model(  X.shape[1:], len(np.unique(y)),\n",
      "  File \"/tmp/ipykernel_38777/1167308510.py\", line 27, in build_model\n",
      "    model.add(Conv1D(filters=filters, kernel_size=kernel_size, activation='relu', name=f\"extra_conv_{i}\"))\n",
      "  File \"/home/djanloo/.local/share/virtualenvs/DM2-PeqFRmfa/lib/python3.10/site-packages/tensorflow/python/trackable/base.py\", line 205, in _method_wrapper\n",
      "    result = method(self, *args, **kwargs)\n",
      "  File \"/home/djanloo/.local/share/virtualenvs/DM2-PeqFRmfa/lib/python3.10/site-packages/keras/utils/traceback_utils.py\", line 70, in error_handler\n",
      "    raise e.with_traceback(filtered_tb) from None\n",
      "  File \"/home/djanloo/.local/share/virtualenvs/DM2-PeqFRmfa/lib/python3.10/site-packages/keras/layers/convolutional/base_conv.py\", line 354, in compute_output_shape\n",
      "    raise ValueError(\n",
      "ValueError: One of the dimensions in the output is <= 0 due to downsampling in extra_conv_2. Consider increasing the input size. Received input shape [None, 5, 16] which would produce output shape with a zero or negative value in a dimension.\n",
      "[W 2023-06-26 17:36:29,441] Trial 119 failed with value None.\n",
      "[W 2023-06-26 17:36:29,736] Trial 120 failed with parameters: {'n_conv': 3, 'n_hidden': 2, 'hidden_nodes': 10, 'dropout': 0.30447412476543867, 'filters': 16, 'kernel_size': 7, 'batch_size': 20, 'epochs': 58} because of the following error: ValueError('One of the dimensions in the output is <= 0 due to downsampling in extra_conv_2. Consider increasing the input size. Received input shape [None, 5, 16] which would produce output shape with a zero or negative value in a dimension.').\n",
      "Traceback (most recent call last):\n",
      "  File \"/home/djanloo/.local/share/virtualenvs/DM2-PeqFRmfa/lib/python3.10/site-packages/optuna/study/_optimize.py\", line 200, in _run_trial\n",
      "    value_or_values = func(trial)\n",
      "  File \"/tmp/ipykernel_38777/4091589858.py\", line 34, in <lambda>\n",
      "    trial_function = lambda trial: objective_fun(trial,\n",
      "  File \"/tmp/ipykernel_38777/4091589858.py\", line 15, in objective_fun\n",
      "    cnn = build_model(  X.shape[1:], len(np.unique(y)),\n",
      "  File \"/tmp/ipykernel_38777/1167308510.py\", line 27, in build_model\n",
      "    model.add(Conv1D(filters=filters, kernel_size=kernel_size, activation='relu', name=f\"extra_conv_{i}\"))\n",
      "  File \"/home/djanloo/.local/share/virtualenvs/DM2-PeqFRmfa/lib/python3.10/site-packages/tensorflow/python/trackable/base.py\", line 205, in _method_wrapper\n",
      "    result = method(self, *args, **kwargs)\n",
      "  File \"/home/djanloo/.local/share/virtualenvs/DM2-PeqFRmfa/lib/python3.10/site-packages/keras/utils/traceback_utils.py\", line 70, in error_handler\n",
      "    raise e.with_traceback(filtered_tb) from None\n",
      "  File \"/home/djanloo/.local/share/virtualenvs/DM2-PeqFRmfa/lib/python3.10/site-packages/keras/layers/convolutional/base_conv.py\", line 354, in compute_output_shape\n",
      "    raise ValueError(\n",
      "ValueError: One of the dimensions in the output is <= 0 due to downsampling in extra_conv_2. Consider increasing the input size. Received input shape [None, 5, 16] which would produce output shape with a zero or negative value in a dimension.\n",
      "[W 2023-06-26 17:36:29,750] Trial 120 failed with value None.\n"
     ]
    },
    {
     "name": "stdout",
     "output_type": "stream",
     "text": [
      "Running little bitch having n_conv=3, dropout=0.3257576026862681, hidden_nodes=9\n"
     ]
    },
    {
     "name": "stderr",
     "output_type": "stream",
     "text": [
      "[W 2023-06-26 17:36:29,853] Trial 121 failed with parameters: {'n_conv': 3, 'n_hidden': 2, 'hidden_nodes': 9, 'dropout': 0.3257576026862681, 'filters': 16, 'kernel_size': 16, 'batch_size': 20, 'epochs': 53} because of the following error: ValueError('One of the dimensions in the output is <= 0 due to downsampling in extra_conv_0. Consider increasing the input size. Received input shape [None, 8, 16] which would produce output shape with a zero or negative value in a dimension.').\n",
      "Traceback (most recent call last):\n",
      "  File \"/home/djanloo/.local/share/virtualenvs/DM2-PeqFRmfa/lib/python3.10/site-packages/optuna/study/_optimize.py\", line 200, in _run_trial\n",
      "    value_or_values = func(trial)\n",
      "  File \"/tmp/ipykernel_38777/4091589858.py\", line 34, in <lambda>\n",
      "    trial_function = lambda trial: objective_fun(trial,\n",
      "  File \"/tmp/ipykernel_38777/4091589858.py\", line 15, in objective_fun\n",
      "    cnn = build_model(  X.shape[1:], len(np.unique(y)),\n",
      "  File \"/tmp/ipykernel_38777/1167308510.py\", line 27, in build_model\n",
      "    model.add(Conv1D(filters=filters, kernel_size=kernel_size, activation='relu', name=f\"extra_conv_{i}\"))\n",
      "  File \"/home/djanloo/.local/share/virtualenvs/DM2-PeqFRmfa/lib/python3.10/site-packages/tensorflow/python/trackable/base.py\", line 205, in _method_wrapper\n",
      "    result = method(self, *args, **kwargs)\n",
      "  File \"/home/djanloo/.local/share/virtualenvs/DM2-PeqFRmfa/lib/python3.10/site-packages/keras/utils/traceback_utils.py\", line 70, in error_handler\n",
      "    raise e.with_traceback(filtered_tb) from None\n",
      "  File \"/home/djanloo/.local/share/virtualenvs/DM2-PeqFRmfa/lib/python3.10/site-packages/keras/layers/convolutional/base_conv.py\", line 354, in compute_output_shape\n",
      "    raise ValueError(\n",
      "ValueError: One of the dimensions in the output is <= 0 due to downsampling in extra_conv_0. Consider increasing the input size. Received input shape [None, 8, 16] which would produce output shape with a zero or negative value in a dimension.\n",
      "[W 2023-06-26 17:36:29,856] Trial 121 failed with value None.\n"
     ]
    },
    {
     "name": "stdout",
     "output_type": "stream",
     "text": [
      "Running little bitch having n_conv=3, dropout=0.3666450730793032, hidden_nodes=8Running little bitch having n_conv=3, dropout=0.3262003402732291, hidden_nodes=13\n",
      "\n"
     ]
    },
    {
     "name": "stderr",
     "output_type": "stream",
     "text": [
      "[W 2023-06-26 17:36:30,748] Trial 122 failed with parameters: {'n_conv': 3, 'n_hidden': 2, 'hidden_nodes': 13, 'dropout': 0.3262003402732291, 'filters': 16, 'kernel_size': 7, 'batch_size': 17, 'epochs': 58} because of the following error: ValueError('One of the dimensions in the output is <= 0 due to downsampling in extra_conv_2. Consider increasing the input size. Received input shape [None, 5, 16] which would produce output shape with a zero or negative value in a dimension.').\n",
      "Traceback (most recent call last):\n",
      "  File \"/home/djanloo/.local/share/virtualenvs/DM2-PeqFRmfa/lib/python3.10/site-packages/optuna/study/_optimize.py\", line 200, in _run_trial\n",
      "    value_or_values = func(trial)\n",
      "  File \"/tmp/ipykernel_38777/4091589858.py\", line 34, in <lambda>\n",
      "    trial_function = lambda trial: objective_fun(trial,\n",
      "  File \"/tmp/ipykernel_38777/4091589858.py\", line 15, in objective_fun\n",
      "    cnn = build_model(  X.shape[1:], len(np.unique(y)),\n",
      "  File \"/tmp/ipykernel_38777/1167308510.py\", line 27, in build_model\n",
      "    model.add(Conv1D(filters=filters, kernel_size=kernel_size, activation='relu', name=f\"extra_conv_{i}\"))\n",
      "  File \"/home/djanloo/.local/share/virtualenvs/DM2-PeqFRmfa/lib/python3.10/site-packages/tensorflow/python/trackable/base.py\", line 205, in _method_wrapper\n",
      "    result = method(self, *args, **kwargs)\n",
      "  File \"/home/djanloo/.local/share/virtualenvs/DM2-PeqFRmfa/lib/python3.10/site-packages/keras/utils/traceback_utils.py\", line 70, in error_handler\n",
      "    raise e.with_traceback(filtered_tb) from None\n",
      "  File \"/home/djanloo/.local/share/virtualenvs/DM2-PeqFRmfa/lib/python3.10/site-packages/keras/layers/convolutional/base_conv.py\", line 354, in compute_output_shape\n",
      "    raise ValueError(\n",
      "ValueError: One of the dimensions in the output is <= 0 due to downsampling in extra_conv_2. Consider increasing the input size. Received input shape [None, 5, 16] which would produce output shape with a zero or negative value in a dimension.\n",
      "[W 2023-06-26 17:36:30,754] Trial 122 failed with value None.\n",
      "[W 2023-06-26 17:36:30,871] Trial 123 failed with parameters: {'n_conv': 3, 'n_hidden': 2, 'hidden_nodes': 8, 'dropout': 0.3666450730793032, 'filters': 16, 'kernel_size': 7, 'batch_size': 17, 'epochs': 59} because of the following error: ValueError('One of the dimensions in the output is <= 0 due to downsampling in extra_conv_2. Consider increasing the input size. Received input shape [None, 5, 16] which would produce output shape with a zero or negative value in a dimension.').\n",
      "Traceback (most recent call last):\n",
      "  File \"/home/djanloo/.local/share/virtualenvs/DM2-PeqFRmfa/lib/python3.10/site-packages/optuna/study/_optimize.py\", line 200, in _run_trial\n",
      "    value_or_values = func(trial)\n",
      "  File \"/tmp/ipykernel_38777/4091589858.py\", line 34, in <lambda>\n",
      "    trial_function = lambda trial: objective_fun(trial,\n",
      "  File \"/tmp/ipykernel_38777/4091589858.py\", line 15, in objective_fun\n",
      "    cnn = build_model(  X.shape[1:], len(np.unique(y)),\n",
      "  File \"/tmp/ipykernel_38777/1167308510.py\", line 27, in build_model\n",
      "    model.add(Conv1D(filters=filters, kernel_size=kernel_size, activation='relu', name=f\"extra_conv_{i}\"))\n",
      "  File \"/home/djanloo/.local/share/virtualenvs/DM2-PeqFRmfa/lib/python3.10/site-packages/tensorflow/python/trackable/base.py\", line 205, in _method_wrapper\n",
      "    result = method(self, *args, **kwargs)\n",
      "  File \"/home/djanloo/.local/share/virtualenvs/DM2-PeqFRmfa/lib/python3.10/site-packages/keras/utils/traceback_utils.py\", line 70, in error_handler\n",
      "    raise e.with_traceback(filtered_tb) from None\n",
      "  File \"/home/djanloo/.local/share/virtualenvs/DM2-PeqFRmfa/lib/python3.10/site-packages/keras/layers/convolutional/base_conv.py\", line 354, in compute_output_shape\n",
      "    raise ValueError(\n",
      "ValueError: One of the dimensions in the output is <= 0 due to downsampling in extra_conv_2. Consider increasing the input size. Received input shape [None, 5, 16] which would produce output shape with a zero or negative value in a dimension.\n",
      "[W 2023-06-26 17:36:30,901] Trial 123 failed with value None.\n"
     ]
    },
    {
     "name": "stdout",
     "output_type": "stream",
     "text": [
      "Running little bitch having n_conv=3, dropout=0.3588020036472808, hidden_nodes=28\n",
      "Running little bitch having n_conv=3, dropout=0.4238361988369882, hidden_nodes=10\n",
      "13/13 [==============================] - 1s 12ms/step\n"
     ]
    },
    {
     "name": "stderr",
     "output_type": "stream",
     "text": [
      "[I 2023-06-26 17:36:31,509] Trial 27 finished with value: 0.9870801033591732 and parameters: {'n_conv': 0, 'n_hidden': 3, 'hidden_nodes': 18, 'dropout': 0.013196311121722148, 'filters': 8, 'kernel_size': 16, 'batch_size': 63, 'epochs': 90}. Best is trial 20 with value: 0.9870801033591732.\n",
      "[W 2023-06-26 17:36:31,754] Trial 124 failed with parameters: {'n_conv': 3, 'n_hidden': 2, 'hidden_nodes': 28, 'dropout': 0.3588020036472808, 'filters': 16, 'kernel_size': 7, 'batch_size': 17, 'epochs': 61} because of the following error: ValueError('One of the dimensions in the output is <= 0 due to downsampling in extra_conv_2. Consider increasing the input size. Received input shape [None, 5, 16] which would produce output shape with a zero or negative value in a dimension.').\n",
      "Traceback (most recent call last):\n",
      "  File \"/home/djanloo/.local/share/virtualenvs/DM2-PeqFRmfa/lib/python3.10/site-packages/optuna/study/_optimize.py\", line 200, in _run_trial\n",
      "    value_or_values = func(trial)\n",
      "  File \"/tmp/ipykernel_38777/4091589858.py\", line 34, in <lambda>\n",
      "    trial_function = lambda trial: objective_fun(trial,\n",
      "  File \"/tmp/ipykernel_38777/4091589858.py\", line 15, in objective_fun\n",
      "    cnn = build_model(  X.shape[1:], len(np.unique(y)),\n",
      "  File \"/tmp/ipykernel_38777/1167308510.py\", line 27, in build_model\n",
      "    model.add(Conv1D(filters=filters, kernel_size=kernel_size, activation='relu', name=f\"extra_conv_{i}\"))\n",
      "  File \"/home/djanloo/.local/share/virtualenvs/DM2-PeqFRmfa/lib/python3.10/site-packages/tensorflow/python/trackable/base.py\", line 205, in _method_wrapper\n",
      "    result = method(self, *args, **kwargs)\n",
      "  File \"/home/djanloo/.local/share/virtualenvs/DM2-PeqFRmfa/lib/python3.10/site-packages/keras/utils/traceback_utils.py\", line 70, in error_handler\n",
      "    raise e.with_traceback(filtered_tb) from None\n",
      "  File \"/home/djanloo/.local/share/virtualenvs/DM2-PeqFRmfa/lib/python3.10/site-packages/keras/layers/convolutional/base_conv.py\", line 354, in compute_output_shape\n",
      "    raise ValueError(\n",
      "ValueError: One of the dimensions in the output is <= 0 due to downsampling in extra_conv_2. Consider increasing the input size. Received input shape [None, 5, 16] which would produce output shape with a zero or negative value in a dimension.\n",
      "[W 2023-06-26 17:36:31,765] Trial 124 failed with value None.\n"
     ]
    },
    {
     "name": "stdout",
     "output_type": "stream",
     "text": [
      "Running little bitch having n_conv=3, dropout=0.36776787700542235, hidden_nodes=44\n"
     ]
    },
    {
     "name": "stderr",
     "output_type": "stream",
     "text": [
      "[W 2023-06-26 17:36:31,956] Trial 125 failed with parameters: {'n_conv': 3, 'n_hidden': 2, 'hidden_nodes': 10, 'dropout': 0.4238361988369882, 'filters': 16, 'kernel_size': 7, 'batch_size': 17, 'epochs': 59} because of the following error: ValueError('One of the dimensions in the output is <= 0 due to downsampling in extra_conv_2. Consider increasing the input size. Received input shape [None, 5, 16] which would produce output shape with a zero or negative value in a dimension.').\n",
      "Traceback (most recent call last):\n",
      "  File \"/home/djanloo/.local/share/virtualenvs/DM2-PeqFRmfa/lib/python3.10/site-packages/optuna/study/_optimize.py\", line 200, in _run_trial\n",
      "    value_or_values = func(trial)\n",
      "  File \"/tmp/ipykernel_38777/4091589858.py\", line 34, in <lambda>\n",
      "    trial_function = lambda trial: objective_fun(trial,\n",
      "  File \"/tmp/ipykernel_38777/4091589858.py\", line 15, in objective_fun\n",
      "    cnn = build_model(  X.shape[1:], len(np.unique(y)),\n",
      "  File \"/tmp/ipykernel_38777/1167308510.py\", line 27, in build_model\n",
      "    model.add(Conv1D(filters=filters, kernel_size=kernel_size, activation='relu', name=f\"extra_conv_{i}\"))\n",
      "  File \"/home/djanloo/.local/share/virtualenvs/DM2-PeqFRmfa/lib/python3.10/site-packages/tensorflow/python/trackable/base.py\", line 205, in _method_wrapper\n",
      "    result = method(self, *args, **kwargs)\n",
      "  File \"/home/djanloo/.local/share/virtualenvs/DM2-PeqFRmfa/lib/python3.10/site-packages/keras/utils/traceback_utils.py\", line 70, in error_handler\n",
      "    raise e.with_traceback(filtered_tb) from None\n",
      "  File \"/home/djanloo/.local/share/virtualenvs/DM2-PeqFRmfa/lib/python3.10/site-packages/keras/layers/convolutional/base_conv.py\", line 354, in compute_output_shape\n",
      "    raise ValueError(\n",
      "ValueError: One of the dimensions in the output is <= 0 due to downsampling in extra_conv_2. Consider increasing the input size. Received input shape [None, 5, 16] which would produce output shape with a zero or negative value in a dimension.\n",
      "[W 2023-06-26 17:36:31,973] Trial 125 failed with value None.\n"
     ]
    },
    {
     "name": "stdout",
     "output_type": "stream",
     "text": [
      "Running little bitch having n_conv=3, dropout=0.336577941747802, hidden_nodes=49\n",
      "Running little bitch having n_conv=3, dropout=0.35481769921370215, hidden_nodes=50\n"
     ]
    },
    {
     "name": "stderr",
     "output_type": "stream",
     "text": [
      "[W 2023-06-26 17:36:32,207] Trial 126 failed with parameters: {'n_conv': 3, 'n_hidden': 2, 'hidden_nodes': 44, 'dropout': 0.36776787700542235, 'filters': 7, 'kernel_size': 16, 'batch_size': 16, 'epochs': 89} because of the following error: ValueError('One of the dimensions in the output is <= 0 due to downsampling in extra_conv_0. Consider increasing the input size. Received input shape [None, 8, 7] which would produce output shape with a zero or negative value in a dimension.').\n",
      "Traceback (most recent call last):\n",
      "  File \"/home/djanloo/.local/share/virtualenvs/DM2-PeqFRmfa/lib/python3.10/site-packages/optuna/study/_optimize.py\", line 200, in _run_trial\n",
      "    value_or_values = func(trial)\n",
      "  File \"/tmp/ipykernel_38777/4091589858.py\", line 34, in <lambda>\n",
      "    trial_function = lambda trial: objective_fun(trial,\n",
      "  File \"/tmp/ipykernel_38777/4091589858.py\", line 15, in objective_fun\n",
      "    cnn = build_model(  X.shape[1:], len(np.unique(y)),\n",
      "  File \"/tmp/ipykernel_38777/1167308510.py\", line 27, in build_model\n",
      "    model.add(Conv1D(filters=filters, kernel_size=kernel_size, activation='relu', name=f\"extra_conv_{i}\"))\n",
      "  File \"/home/djanloo/.local/share/virtualenvs/DM2-PeqFRmfa/lib/python3.10/site-packages/tensorflow/python/trackable/base.py\", line 205, in _method_wrapper\n",
      "    result = method(self, *args, **kwargs)\n",
      "  File \"/home/djanloo/.local/share/virtualenvs/DM2-PeqFRmfa/lib/python3.10/site-packages/keras/utils/traceback_utils.py\", line 70, in error_handler\n",
      "    raise e.with_traceback(filtered_tb) from None\n",
      "  File \"/home/djanloo/.local/share/virtualenvs/DM2-PeqFRmfa/lib/python3.10/site-packages/keras/layers/convolutional/base_conv.py\", line 354, in compute_output_shape\n",
      "    raise ValueError(\n",
      "ValueError: One of the dimensions in the output is <= 0 due to downsampling in extra_conv_0. Consider increasing the input size. Received input shape [None, 8, 7] which would produce output shape with a zero or negative value in a dimension.\n",
      "[W 2023-06-26 17:36:32,221] Trial 126 failed with value None.\n",
      "[W 2023-06-26 17:36:32,439] Trial 127 failed with parameters: {'n_conv': 3, 'n_hidden': 2, 'hidden_nodes': 49, 'dropout': 0.336577941747802, 'filters': 7, 'kernel_size': 16, 'batch_size': 18, 'epochs': 90} because of the following error: ValueError('One of the dimensions in the output is <= 0 due to downsampling in extra_conv_0. Consider increasing the input size. Received input shape [None, 8, 7] which would produce output shape with a zero or negative value in a dimension.').\n",
      "Traceback (most recent call last):\n",
      "  File \"/home/djanloo/.local/share/virtualenvs/DM2-PeqFRmfa/lib/python3.10/site-packages/optuna/study/_optimize.py\", line 200, in _run_trial\n",
      "    value_or_values = func(trial)\n",
      "  File \"/tmp/ipykernel_38777/4091589858.py\", line 34, in <lambda>\n",
      "    trial_function = lambda trial: objective_fun(trial,\n",
      "  File \"/tmp/ipykernel_38777/4091589858.py\", line 15, in objective_fun\n",
      "    cnn = build_model(  X.shape[1:], len(np.unique(y)),\n",
      "  File \"/tmp/ipykernel_38777/1167308510.py\", line 27, in build_model\n",
      "    model.add(Conv1D(filters=filters, kernel_size=kernel_size, activation='relu', name=f\"extra_conv_{i}\"))\n",
      "  File \"/home/djanloo/.local/share/virtualenvs/DM2-PeqFRmfa/lib/python3.10/site-packages/tensorflow/python/trackable/base.py\", line 205, in _method_wrapper\n",
      "    result = method(self, *args, **kwargs)\n",
      "  File \"/home/djanloo/.local/share/virtualenvs/DM2-PeqFRmfa/lib/python3.10/site-packages/keras/utils/traceback_utils.py\", line 70, in error_handler\n",
      "    raise e.with_traceback(filtered_tb) from None\n",
      "  File \"/home/djanloo/.local/share/virtualenvs/DM2-PeqFRmfa/lib/python3.10/site-packages/keras/layers/convolutional/base_conv.py\", line 354, in compute_output_shape\n",
      "    raise ValueError(\n",
      "ValueError: One of the dimensions in the output is <= 0 due to downsampling in extra_conv_0. Consider increasing the input size. Received input shape [None, 8, 7] which would produce output shape with a zero or negative value in a dimension.\n",
      "[W 2023-06-26 17:36:32,450] Trial 127 failed with value None.\n"
     ]
    },
    {
     "name": "stdout",
     "output_type": "stream",
     "text": [
      "Running little bitch having n_conv=3, dropout=0.3651359774664531, hidden_nodes=47\n",
      "Running little bitch having n_conv=3, dropout=0.34409421080021474, hidden_nodes=40\n"
     ]
    },
    {
     "name": "stderr",
     "output_type": "stream",
     "text": [
      "[W 2023-06-26 17:36:32,639] Trial 128 failed with parameters: {'n_conv': 3, 'n_hidden': 2, 'hidden_nodes': 50, 'dropout': 0.35481769921370215, 'filters': 7, 'kernel_size': 16, 'batch_size': 16, 'epochs': 90} because of the following error: ValueError('One of the dimensions in the output is <= 0 due to downsampling in extra_conv_0. Consider increasing the input size. Received input shape [None, 8, 7] which would produce output shape with a zero or negative value in a dimension.').\n",
      "Traceback (most recent call last):\n",
      "  File \"/home/djanloo/.local/share/virtualenvs/DM2-PeqFRmfa/lib/python3.10/site-packages/optuna/study/_optimize.py\", line 200, in _run_trial\n",
      "    value_or_values = func(trial)\n",
      "  File \"/tmp/ipykernel_38777/4091589858.py\", line 34, in <lambda>\n",
      "    trial_function = lambda trial: objective_fun(trial,\n",
      "  File \"/tmp/ipykernel_38777/4091589858.py\", line 15, in objective_fun\n",
      "    cnn = build_model(  X.shape[1:], len(np.unique(y)),\n",
      "  File \"/tmp/ipykernel_38777/1167308510.py\", line 27, in build_model\n",
      "    model.add(Conv1D(filters=filters, kernel_size=kernel_size, activation='relu', name=f\"extra_conv_{i}\"))\n",
      "  File \"/home/djanloo/.local/share/virtualenvs/DM2-PeqFRmfa/lib/python3.10/site-packages/tensorflow/python/trackable/base.py\", line 205, in _method_wrapper\n",
      "    result = method(self, *args, **kwargs)\n",
      "  File \"/home/djanloo/.local/share/virtualenvs/DM2-PeqFRmfa/lib/python3.10/site-packages/keras/utils/traceback_utils.py\", line 70, in error_handler\n",
      "    raise e.with_traceback(filtered_tb) from None\n",
      "  File \"/home/djanloo/.local/share/virtualenvs/DM2-PeqFRmfa/lib/python3.10/site-packages/keras/layers/convolutional/base_conv.py\", line 354, in compute_output_shape\n",
      "    raise ValueError(\n",
      "ValueError: One of the dimensions in the output is <= 0 due to downsampling in extra_conv_0. Consider increasing the input size. Received input shape [None, 8, 7] which would produce output shape with a zero or negative value in a dimension.\n",
      "[W 2023-06-26 17:36:32,666] Trial 128 failed with value None.\n",
      "[W 2023-06-26 17:36:32,905] Trial 129 failed with parameters: {'n_conv': 3, 'n_hidden': 2, 'hidden_nodes': 47, 'dropout': 0.3651359774664531, 'filters': 7, 'kernel_size': 16, 'batch_size': 16, 'epochs': 53} because of the following error: ValueError('One of the dimensions in the output is <= 0 due to downsampling in extra_conv_0. Consider increasing the input size. Received input shape [None, 8, 7] which would produce output shape with a zero or negative value in a dimension.').\n",
      "Traceback (most recent call last):\n",
      "  File \"/home/djanloo/.local/share/virtualenvs/DM2-PeqFRmfa/lib/python3.10/site-packages/optuna/study/_optimize.py\", line 200, in _run_trial\n",
      "    value_or_values = func(trial)\n",
      "  File \"/tmp/ipykernel_38777/4091589858.py\", line 34, in <lambda>\n",
      "    trial_function = lambda trial: objective_fun(trial,\n",
      "  File \"/tmp/ipykernel_38777/4091589858.py\", line 15, in objective_fun\n",
      "    cnn = build_model(  X.shape[1:], len(np.unique(y)),\n",
      "  File \"/tmp/ipykernel_38777/1167308510.py\", line 27, in build_model\n",
      "    model.add(Conv1D(filters=filters, kernel_size=kernel_size, activation='relu', name=f\"extra_conv_{i}\"))\n",
      "  File \"/home/djanloo/.local/share/virtualenvs/DM2-PeqFRmfa/lib/python3.10/site-packages/tensorflow/python/trackable/base.py\", line 205, in _method_wrapper\n",
      "    result = method(self, *args, **kwargs)\n",
      "  File \"/home/djanloo/.local/share/virtualenvs/DM2-PeqFRmfa/lib/python3.10/site-packages/keras/utils/traceback_utils.py\", line 70, in error_handler\n",
      "    raise e.with_traceback(filtered_tb) from None\n",
      "  File \"/home/djanloo/.local/share/virtualenvs/DM2-PeqFRmfa/lib/python3.10/site-packages/keras/layers/convolutional/base_conv.py\", line 354, in compute_output_shape\n",
      "    raise ValueError(\n",
      "ValueError: One of the dimensions in the output is <= 0 due to downsampling in extra_conv_0. Consider increasing the input size. Received input shape [None, 8, 7] which would produce output shape with a zero or negative value in a dimension.\n",
      "[W 2023-06-26 17:36:32,929] Trial 129 failed with value None.\n",
      "[W 2023-06-26 17:36:32,937] Trial 130 failed with parameters: {'n_conv': 3, 'n_hidden': 2, 'hidden_nodes': 40, 'dropout': 0.34409421080021474, 'filters': 7, 'kernel_size': 16, 'batch_size': 16, 'epochs': 90} because of the following error: ValueError('One of the dimensions in the output is <= 0 due to downsampling in extra_conv_0. Consider increasing the input size. Received input shape [None, 8, 7] which would produce output shape with a zero or negative value in a dimension.').\n",
      "Traceback (most recent call last):\n",
      "  File \"/home/djanloo/.local/share/virtualenvs/DM2-PeqFRmfa/lib/python3.10/site-packages/optuna/study/_optimize.py\", line 200, in _run_trial\n",
      "    value_or_values = func(trial)\n",
      "  File \"/tmp/ipykernel_38777/4091589858.py\", line 34, in <lambda>\n",
      "    trial_function = lambda trial: objective_fun(trial,\n",
      "  File \"/tmp/ipykernel_38777/4091589858.py\", line 15, in objective_fun\n",
      "    cnn = build_model(  X.shape[1:], len(np.unique(y)),\n",
      "  File \"/tmp/ipykernel_38777/1167308510.py\", line 27, in build_model\n",
      "    model.add(Conv1D(filters=filters, kernel_size=kernel_size, activation='relu', name=f\"extra_conv_{i}\"))\n",
      "  File \"/home/djanloo/.local/share/virtualenvs/DM2-PeqFRmfa/lib/python3.10/site-packages/tensorflow/python/trackable/base.py\", line 205, in _method_wrapper\n",
      "    result = method(self, *args, **kwargs)\n",
      "  File \"/home/djanloo/.local/share/virtualenvs/DM2-PeqFRmfa/lib/python3.10/site-packages/keras/utils/traceback_utils.py\", line 70, in error_handler\n",
      "    raise e.with_traceback(filtered_tb) from None\n",
      "  File \"/home/djanloo/.local/share/virtualenvs/DM2-PeqFRmfa/lib/python3.10/site-packages/keras/layers/convolutional/base_conv.py\", line 354, in compute_output_shape\n",
      "    raise ValueError(\n",
      "ValueError: One of the dimensions in the output is <= 0 due to downsampling in extra_conv_0. Consider increasing the input size. Received input shape [None, 8, 7] which would produce output shape with a zero or negative value in a dimension.\n"
     ]
    },
    {
     "name": "stdout",
     "output_type": "stream",
     "text": [
      "Running little bitch having n_conv=3, dropout=0.3534766580061017, hidden_nodes=49\n",
      "Running little bitch having n_conv=3, dropout=0.36934854132920014, hidden_nodes=47\n"
     ]
    },
    {
     "name": "stderr",
     "output_type": "stream",
     "text": [
      "[W 2023-06-26 17:36:33,050] Trial 130 failed with value None.\n",
      "[W 2023-06-26 17:36:33,299] Trial 131 failed with parameters: {'n_conv': 3, 'n_hidden': 2, 'hidden_nodes': 49, 'dropout': 0.3534766580061017, 'filters': 7, 'kernel_size': 16, 'batch_size': 17, 'epochs': 56} because of the following error: ValueError('One of the dimensions in the output is <= 0 due to downsampling in extra_conv_0. Consider increasing the input size. Received input shape [None, 8, 7] which would produce output shape with a zero or negative value in a dimension.').\n",
      "Traceback (most recent call last):\n",
      "  File \"/home/djanloo/.local/share/virtualenvs/DM2-PeqFRmfa/lib/python3.10/site-packages/optuna/study/_optimize.py\", line 200, in _run_trial\n",
      "    value_or_values = func(trial)\n",
      "  File \"/tmp/ipykernel_38777/4091589858.py\", line 34, in <lambda>\n",
      "    trial_function = lambda trial: objective_fun(trial,\n",
      "  File \"/tmp/ipykernel_38777/4091589858.py\", line 15, in objective_fun\n",
      "    cnn = build_model(  X.shape[1:], len(np.unique(y)),\n",
      "  File \"/tmp/ipykernel_38777/1167308510.py\", line 27, in build_model\n",
      "    model.add(Conv1D(filters=filters, kernel_size=kernel_size, activation='relu', name=f\"extra_conv_{i}\"))\n",
      "  File \"/home/djanloo/.local/share/virtualenvs/DM2-PeqFRmfa/lib/python3.10/site-packages/tensorflow/python/trackable/base.py\", line 205, in _method_wrapper\n",
      "    result = method(self, *args, **kwargs)\n",
      "  File \"/home/djanloo/.local/share/virtualenvs/DM2-PeqFRmfa/lib/python3.10/site-packages/keras/utils/traceback_utils.py\", line 70, in error_handler\n",
      "    raise e.with_traceback(filtered_tb) from None\n",
      "  File \"/home/djanloo/.local/share/virtualenvs/DM2-PeqFRmfa/lib/python3.10/site-packages/keras/layers/convolutional/base_conv.py\", line 354, in compute_output_shape\n",
      "    raise ValueError(\n",
      "ValueError: One of the dimensions in the output is <= 0 due to downsampling in extra_conv_0. Consider increasing the input size. Received input shape [None, 8, 7] which would produce output shape with a zero or negative value in a dimension.\n",
      "[W 2023-06-26 17:36:33,310] Trial 131 failed with value None.\n"
     ]
    },
    {
     "name": "stdout",
     "output_type": "stream",
     "text": [
      "Running little bitch having n_conv=3, dropout=0.3735022594128777, hidden_nodes=50\n"
     ]
    },
    {
     "name": "stderr",
     "output_type": "stream",
     "text": [
      "[W 2023-06-26 17:36:33,472] Trial 132 failed with parameters: {'n_conv': 3, 'n_hidden': 2, 'hidden_nodes': 47, 'dropout': 0.36934854132920014, 'filters': 7, 'kernel_size': 16, 'batch_size': 16, 'epochs': 58} because of the following error: ValueError('One of the dimensions in the output is <= 0 due to downsampling in extra_conv_0. Consider increasing the input size. Received input shape [None, 8, 7] which would produce output shape with a zero or negative value in a dimension.').\n",
      "Traceback (most recent call last):\n",
      "  File \"/home/djanloo/.local/share/virtualenvs/DM2-PeqFRmfa/lib/python3.10/site-packages/optuna/study/_optimize.py\", line 200, in _run_trial\n",
      "    value_or_values = func(trial)\n",
      "  File \"/tmp/ipykernel_38777/4091589858.py\", line 34, in <lambda>\n",
      "    trial_function = lambda trial: objective_fun(trial,\n",
      "  File \"/tmp/ipykernel_38777/4091589858.py\", line 15, in objective_fun\n",
      "    cnn = build_model(  X.shape[1:], len(np.unique(y)),\n",
      "  File \"/tmp/ipykernel_38777/1167308510.py\", line 27, in build_model\n",
      "    model.add(Conv1D(filters=filters, kernel_size=kernel_size, activation='relu', name=f\"extra_conv_{i}\"))\n",
      "  File \"/home/djanloo/.local/share/virtualenvs/DM2-PeqFRmfa/lib/python3.10/site-packages/tensorflow/python/trackable/base.py\", line 205, in _method_wrapper\n",
      "    result = method(self, *args, **kwargs)\n",
      "  File \"/home/djanloo/.local/share/virtualenvs/DM2-PeqFRmfa/lib/python3.10/site-packages/keras/utils/traceback_utils.py\", line 70, in error_handler\n",
      "    raise e.with_traceback(filtered_tb) from None\n",
      "  File \"/home/djanloo/.local/share/virtualenvs/DM2-PeqFRmfa/lib/python3.10/site-packages/keras/layers/convolutional/base_conv.py\", line 354, in compute_output_shape\n",
      "    raise ValueError(\n",
      "ValueError: One of the dimensions in the output is <= 0 due to downsampling in extra_conv_0. Consider increasing the input size. Received input shape [None, 8, 7] which would produce output shape with a zero or negative value in a dimension.\n",
      "[W 2023-06-26 17:36:33,482] Trial 132 failed with value None.\n"
     ]
    },
    {
     "name": "stdout",
     "output_type": "stream",
     "text": [
      "Running little bitch having n_conv=3, dropout=0.31717732047806646, hidden_nodes=42\n",
      "Running little bitch having n_conv=3, dropout=0.33669018908272064, hidden_nodes=54\n"
     ]
    },
    {
     "name": "stderr",
     "output_type": "stream",
     "text": [
      "[W 2023-06-26 17:36:33,710] Trial 133 failed with parameters: {'n_conv': 3, 'n_hidden': 2, 'hidden_nodes': 50, 'dropout': 0.3735022594128777, 'filters': 7, 'kernel_size': 16, 'batch_size': 17, 'epochs': 56} because of the following error: ValueError('One of the dimensions in the output is <= 0 due to downsampling in extra_conv_0. Consider increasing the input size. Received input shape [None, 8, 7] which would produce output shape with a zero or negative value in a dimension.').\n",
      "Traceback (most recent call last):\n",
      "  File \"/home/djanloo/.local/share/virtualenvs/DM2-PeqFRmfa/lib/python3.10/site-packages/optuna/study/_optimize.py\", line 200, in _run_trial\n",
      "    value_or_values = func(trial)\n",
      "  File \"/tmp/ipykernel_38777/4091589858.py\", line 34, in <lambda>\n",
      "    trial_function = lambda trial: objective_fun(trial,\n",
      "  File \"/tmp/ipykernel_38777/4091589858.py\", line 15, in objective_fun\n",
      "    cnn = build_model(  X.shape[1:], len(np.unique(y)),\n",
      "  File \"/tmp/ipykernel_38777/1167308510.py\", line 27, in build_model\n",
      "    model.add(Conv1D(filters=filters, kernel_size=kernel_size, activation='relu', name=f\"extra_conv_{i}\"))\n",
      "  File \"/home/djanloo/.local/share/virtualenvs/DM2-PeqFRmfa/lib/python3.10/site-packages/tensorflow/python/trackable/base.py\", line 205, in _method_wrapper\n",
      "    result = method(self, *args, **kwargs)\n",
      "  File \"/home/djanloo/.local/share/virtualenvs/DM2-PeqFRmfa/lib/python3.10/site-packages/keras/utils/traceback_utils.py\", line 70, in error_handler\n",
      "    raise e.with_traceback(filtered_tb) from None\n",
      "  File \"/home/djanloo/.local/share/virtualenvs/DM2-PeqFRmfa/lib/python3.10/site-packages/keras/layers/convolutional/base_conv.py\", line 354, in compute_output_shape\n",
      "    raise ValueError(\n",
      "ValueError: One of the dimensions in the output is <= 0 due to downsampling in extra_conv_0. Consider increasing the input size. Received input shape [None, 8, 7] which would produce output shape with a zero or negative value in a dimension.\n",
      "[W 2023-06-26 17:36:33,721] Trial 133 failed with value None.\n",
      "[W 2023-06-26 17:36:33,904] Trial 134 failed with parameters: {'n_conv': 3, 'n_hidden': 2, 'hidden_nodes': 42, 'dropout': 0.31717732047806646, 'filters': 7, 'kernel_size': 16, 'batch_size': 17, 'epochs': 90} because of the following error: ValueError('One of the dimensions in the output is <= 0 due to downsampling in extra_conv_0. Consider increasing the input size. Received input shape [None, 8, 7] which would produce output shape with a zero or negative value in a dimension.').\n",
      "Traceback (most recent call last):\n",
      "  File \"/home/djanloo/.local/share/virtualenvs/DM2-PeqFRmfa/lib/python3.10/site-packages/optuna/study/_optimize.py\", line 200, in _run_trial\n",
      "    value_or_values = func(trial)\n",
      "  File \"/tmp/ipykernel_38777/4091589858.py\", line 34, in <lambda>\n",
      "    trial_function = lambda trial: objective_fun(trial,\n",
      "  File \"/tmp/ipykernel_38777/4091589858.py\", line 15, in objective_fun\n",
      "    cnn = build_model(  X.shape[1:], len(np.unique(y)),\n",
      "  File \"/tmp/ipykernel_38777/1167308510.py\", line 27, in build_model\n",
      "    model.add(Conv1D(filters=filters, kernel_size=kernel_size, activation='relu', name=f\"extra_conv_{i}\"))\n",
      "  File \"/home/djanloo/.local/share/virtualenvs/DM2-PeqFRmfa/lib/python3.10/site-packages/tensorflow/python/trackable/base.py\", line 205, in _method_wrapper\n",
      "    result = method(self, *args, **kwargs)\n",
      "  File \"/home/djanloo/.local/share/virtualenvs/DM2-PeqFRmfa/lib/python3.10/site-packages/keras/utils/traceback_utils.py\", line 70, in error_handler\n",
      "    raise e.with_traceback(filtered_tb) from None\n",
      "  File \"/home/djanloo/.local/share/virtualenvs/DM2-PeqFRmfa/lib/python3.10/site-packages/keras/layers/convolutional/base_conv.py\", line 354, in compute_output_shape\n",
      "    raise ValueError(\n",
      "ValueError: One of the dimensions in the output is <= 0 due to downsampling in extra_conv_0. Consider increasing the input size. Received input shape [None, 8, 7] which would produce output shape with a zero or negative value in a dimension.\n",
      "[W 2023-06-26 17:36:33,917] Trial 134 failed with value None.\n"
     ]
    },
    {
     "name": "stdout",
     "output_type": "stream",
     "text": [
      "Running little bitch having n_conv=3, dropout=0.331694674225437, hidden_nodes=50\n",
      "Running little bitch having n_conv=3, dropout=0.3550387399971279, hidden_nodes=53\n"
     ]
    },
    {
     "name": "stderr",
     "output_type": "stream",
     "text": [
      "[W 2023-06-26 17:36:34,083] Trial 135 failed with parameters: {'n_conv': 3, 'n_hidden': 2, 'hidden_nodes': 54, 'dropout': 0.33669018908272064, 'filters': 6, 'kernel_size': 16, 'batch_size': 16, 'epochs': 90} because of the following error: ValueError('One of the dimensions in the output is <= 0 due to downsampling in extra_conv_0. Consider increasing the input size. Received input shape [None, 8, 6] which would produce output shape with a zero or negative value in a dimension.').\n",
      "Traceback (most recent call last):\n",
      "  File \"/home/djanloo/.local/share/virtualenvs/DM2-PeqFRmfa/lib/python3.10/site-packages/optuna/study/_optimize.py\", line 200, in _run_trial\n",
      "    value_or_values = func(trial)\n",
      "  File \"/tmp/ipykernel_38777/4091589858.py\", line 34, in <lambda>\n",
      "    trial_function = lambda trial: objective_fun(trial,\n",
      "  File \"/tmp/ipykernel_38777/4091589858.py\", line 15, in objective_fun\n",
      "    cnn = build_model(  X.shape[1:], len(np.unique(y)),\n",
      "  File \"/tmp/ipykernel_38777/1167308510.py\", line 27, in build_model\n",
      "    model.add(Conv1D(filters=filters, kernel_size=kernel_size, activation='relu', name=f\"extra_conv_{i}\"))\n",
      "  File \"/home/djanloo/.local/share/virtualenvs/DM2-PeqFRmfa/lib/python3.10/site-packages/tensorflow/python/trackable/base.py\", line 205, in _method_wrapper\n",
      "    result = method(self, *args, **kwargs)\n",
      "  File \"/home/djanloo/.local/share/virtualenvs/DM2-PeqFRmfa/lib/python3.10/site-packages/keras/utils/traceback_utils.py\", line 70, in error_handler\n",
      "    raise e.with_traceback(filtered_tb) from None\n",
      "  File \"/home/djanloo/.local/share/virtualenvs/DM2-PeqFRmfa/lib/python3.10/site-packages/keras/layers/convolutional/base_conv.py\", line 354, in compute_output_shape\n",
      "    raise ValueError(\n",
      "ValueError: One of the dimensions in the output is <= 0 due to downsampling in extra_conv_0. Consider increasing the input size. Received input shape [None, 8, 6] which would produce output shape with a zero or negative value in a dimension.\n",
      "[W 2023-06-26 17:36:34,090] Trial 135 failed with value None.\n",
      "[W 2023-06-26 17:36:34,403] Trial 137 failed with parameters: {'n_conv': 3, 'n_hidden': 2, 'hidden_nodes': 53, 'dropout': 0.3550387399971279, 'filters': 7, 'kernel_size': 16, 'batch_size': 16, 'epochs': 58} because of the following error: ValueError('One of the dimensions in the output is <= 0 due to downsampling in extra_conv_0. Consider increasing the input size. Received input shape [None, 8, 7] which would produce output shape with a zero or negative value in a dimension.').\n",
      "Traceback (most recent call last):\n",
      "  File \"/home/djanloo/.local/share/virtualenvs/DM2-PeqFRmfa/lib/python3.10/site-packages/optuna/study/_optimize.py\", line 200, in _run_trial\n",
      "    value_or_values = func(trial)\n",
      "  File \"/tmp/ipykernel_38777/4091589858.py\", line 34, in <lambda>\n",
      "    trial_function = lambda trial: objective_fun(trial,\n",
      "  File \"/tmp/ipykernel_38777/4091589858.py\", line 15, in objective_fun\n",
      "    cnn = build_model(  X.shape[1:], len(np.unique(y)),\n",
      "  File \"/tmp/ipykernel_38777/1167308510.py\", line 27, in build_model\n",
      "    model.add(Conv1D(filters=filters, kernel_size=kernel_size, activation='relu', name=f\"extra_conv_{i}\"))\n",
      "  File \"/home/djanloo/.local/share/virtualenvs/DM2-PeqFRmfa/lib/python3.10/site-packages/tensorflow/python/trackable/base.py\", line 205, in _method_wrapper\n",
      "    result = method(self, *args, **kwargs)\n",
      "  File \"/home/djanloo/.local/share/virtualenvs/DM2-PeqFRmfa/lib/python3.10/site-packages/keras/utils/traceback_utils.py\", line 70, in error_handler\n",
      "    raise e.with_traceback(filtered_tb) from None\n",
      "  File \"/home/djanloo/.local/share/virtualenvs/DM2-PeqFRmfa/lib/python3.10/site-packages/keras/layers/convolutional/base_conv.py\", line 354, in compute_output_shape\n",
      "    raise ValueError(\n",
      "ValueError: One of the dimensions in the output is <= 0 due to downsampling in extra_conv_0. Consider increasing the input size. Received input shape [None, 8, 7] which would produce output shape with a zero or negative value in a dimension.\n",
      "[W 2023-06-26 17:36:34,417] Trial 137 failed with value None.\n"
     ]
    },
    {
     "name": "stdout",
     "output_type": "stream",
     "text": [
      "Running little bitch having n_conv=3, dropout=0.3557534818772127, hidden_nodes=47\n"
     ]
    },
    {
     "name": "stderr",
     "output_type": "stream",
     "text": [
      "[W 2023-06-26 17:36:34,592] Trial 138 failed with parameters: {'n_conv': 3, 'n_hidden': 2, 'hidden_nodes': 47, 'dropout': 0.3557534818772127, 'filters': 7, 'kernel_size': 16, 'batch_size': 16, 'epochs': 53} because of the following error: ValueError('One of the dimensions in the output is <= 0 due to downsampling in extra_conv_0. Consider increasing the input size. Received input shape [None, 8, 7] which would produce output shape with a zero or negative value in a dimension.').\n",
      "Traceback (most recent call last):\n",
      "  File \"/home/djanloo/.local/share/virtualenvs/DM2-PeqFRmfa/lib/python3.10/site-packages/optuna/study/_optimize.py\", line 200, in _run_trial\n",
      "    value_or_values = func(trial)\n",
      "  File \"/tmp/ipykernel_38777/4091589858.py\", line 34, in <lambda>\n",
      "    trial_function = lambda trial: objective_fun(trial,\n",
      "  File \"/tmp/ipykernel_38777/4091589858.py\", line 15, in objective_fun\n",
      "    cnn = build_model(  X.shape[1:], len(np.unique(y)),\n",
      "  File \"/tmp/ipykernel_38777/1167308510.py\", line 27, in build_model\n",
      "    model.add(Conv1D(filters=filters, kernel_size=kernel_size, activation='relu', name=f\"extra_conv_{i}\"))\n",
      "  File \"/home/djanloo/.local/share/virtualenvs/DM2-PeqFRmfa/lib/python3.10/site-packages/tensorflow/python/trackable/base.py\", line 205, in _method_wrapper\n",
      "    result = method(self, *args, **kwargs)\n",
      "  File \"/home/djanloo/.local/share/virtualenvs/DM2-PeqFRmfa/lib/python3.10/site-packages/keras/utils/traceback_utils.py\", line 70, in error_handler\n",
      "    raise e.with_traceback(filtered_tb) from None\n",
      "  File \"/home/djanloo/.local/share/virtualenvs/DM2-PeqFRmfa/lib/python3.10/site-packages/keras/layers/convolutional/base_conv.py\", line 354, in compute_output_shape\n",
      "    raise ValueError(\n",
      "ValueError: One of the dimensions in the output is <= 0 due to downsampling in extra_conv_0. Consider increasing the input size. Received input shape [None, 8, 7] which would produce output shape with a zero or negative value in a dimension.\n",
      "[W 2023-06-26 17:36:34,603] Trial 138 failed with value None.\n"
     ]
    },
    {
     "name": "stdout",
     "output_type": "stream",
     "text": [
      "Running little bitch having n_conv=3, dropout=0.4192440246737047, hidden_nodes=50\n",
      "Running little bitch having n_conv=3, dropout=0.36393522003267276, hidden_nodes=47\n"
     ]
    },
    {
     "name": "stderr",
     "output_type": "stream",
     "text": [
      "[W 2023-06-26 17:36:34,826] Trial 136 failed with parameters: {'n_conv': 3, 'n_hidden': 2, 'hidden_nodes': 50, 'dropout': 0.331694674225437, 'filters': 7, 'kernel_size': 11, 'batch_size': 18, 'epochs': 56} because of the following error: ValueError('One of the dimensions in the output is <= 0 due to downsampling in extra_conv_1. Consider increasing the input size. Received input shape [None, 3, 7] which would produce output shape with a zero or negative value in a dimension.').\n",
      "Traceback (most recent call last):\n",
      "  File \"/home/djanloo/.local/share/virtualenvs/DM2-PeqFRmfa/lib/python3.10/site-packages/optuna/study/_optimize.py\", line 200, in _run_trial\n",
      "    value_or_values = func(trial)\n",
      "  File \"/tmp/ipykernel_38777/4091589858.py\", line 34, in <lambda>\n",
      "    trial_function = lambda trial: objective_fun(trial,\n",
      "  File \"/tmp/ipykernel_38777/4091589858.py\", line 15, in objective_fun\n",
      "    cnn = build_model(  X.shape[1:], len(np.unique(y)),\n",
      "  File \"/tmp/ipykernel_38777/1167308510.py\", line 27, in build_model\n",
      "    model.add(Conv1D(filters=filters, kernel_size=kernel_size, activation='relu', name=f\"extra_conv_{i}\"))\n",
      "  File \"/home/djanloo/.local/share/virtualenvs/DM2-PeqFRmfa/lib/python3.10/site-packages/tensorflow/python/trackable/base.py\", line 205, in _method_wrapper\n",
      "    result = method(self, *args, **kwargs)\n",
      "  File \"/home/djanloo/.local/share/virtualenvs/DM2-PeqFRmfa/lib/python3.10/site-packages/keras/utils/traceback_utils.py\", line 70, in error_handler\n",
      "    raise e.with_traceback(filtered_tb) from None\n",
      "  File \"/home/djanloo/.local/share/virtualenvs/DM2-PeqFRmfa/lib/python3.10/site-packages/keras/layers/convolutional/base_conv.py\", line 354, in compute_output_shape\n",
      "    raise ValueError(\n",
      "ValueError: One of the dimensions in the output is <= 0 due to downsampling in extra_conv_1. Consider increasing the input size. Received input shape [None, 3, 7] which would produce output shape with a zero or negative value in a dimension.\n",
      "[W 2023-06-26 17:36:34,844] Trial 136 failed with value None.\n",
      "[W 2023-06-26 17:36:35,045] Trial 139 failed with parameters: {'n_conv': 3, 'n_hidden': 2, 'hidden_nodes': 50, 'dropout': 0.4192440246737047, 'filters': 7, 'kernel_size': 15, 'batch_size': 18, 'epochs': 55} because of the following error: ValueError('One of the dimensions in the output is <= 0 due to downsampling in extra_conv_0. Consider increasing the input size. Received input shape [None, 9, 7] which would produce output shape with a zero or negative value in a dimension.').\n",
      "Traceback (most recent call last):\n",
      "  File \"/home/djanloo/.local/share/virtualenvs/DM2-PeqFRmfa/lib/python3.10/site-packages/optuna/study/_optimize.py\", line 200, in _run_trial\n",
      "    value_or_values = func(trial)\n",
      "  File \"/tmp/ipykernel_38777/4091589858.py\", line 34, in <lambda>\n",
      "    trial_function = lambda trial: objective_fun(trial,\n",
      "  File \"/tmp/ipykernel_38777/4091589858.py\", line 15, in objective_fun\n",
      "    cnn = build_model(  X.shape[1:], len(np.unique(y)),\n",
      "  File \"/tmp/ipykernel_38777/1167308510.py\", line 27, in build_model\n",
      "    model.add(Conv1D(filters=filters, kernel_size=kernel_size, activation='relu', name=f\"extra_conv_{i}\"))\n",
      "  File \"/home/djanloo/.local/share/virtualenvs/DM2-PeqFRmfa/lib/python3.10/site-packages/tensorflow/python/trackable/base.py\", line 205, in _method_wrapper\n",
      "    result = method(self, *args, **kwargs)\n",
      "  File \"/home/djanloo/.local/share/virtualenvs/DM2-PeqFRmfa/lib/python3.10/site-packages/keras/utils/traceback_utils.py\", line 70, in error_handler\n",
      "    raise e.with_traceback(filtered_tb) from None\n",
      "  File \"/home/djanloo/.local/share/virtualenvs/DM2-PeqFRmfa/lib/python3.10/site-packages/keras/layers/convolutional/base_conv.py\", line 354, in compute_output_shape\n",
      "    raise ValueError(\n",
      "ValueError: One of the dimensions in the output is <= 0 due to downsampling in extra_conv_0. Consider increasing the input size. Received input shape [None, 9, 7] which would produce output shape with a zero or negative value in a dimension.\n",
      "[W 2023-06-26 17:36:35,055] Trial 139 failed with value None.\n"
     ]
    },
    {
     "name": "stdout",
     "output_type": "stream",
     "text": [
      "Running little bitch having n_conv=3, dropout=0.35651870317256584, hidden_nodes=59\n",
      "Running little bitch having n_conv=3, dropout=0.3634891107120016, hidden_nodes=43\n"
     ]
    },
    {
     "name": "stderr",
     "output_type": "stream",
     "text": [
      "[W 2023-06-26 17:36:35,223] Trial 140 failed with parameters: {'n_conv': 3, 'n_hidden': 2, 'hidden_nodes': 47, 'dropout': 0.36393522003267276, 'filters': 7, 'kernel_size': 16, 'batch_size': 18, 'epochs': 90} because of the following error: ValueError('One of the dimensions in the output is <= 0 due to downsampling in extra_conv_0. Consider increasing the input size. Received input shape [None, 8, 7] which would produce output shape with a zero or negative value in a dimension.').\n",
      "Traceback (most recent call last):\n",
      "  File \"/home/djanloo/.local/share/virtualenvs/DM2-PeqFRmfa/lib/python3.10/site-packages/optuna/study/_optimize.py\", line 200, in _run_trial\n",
      "    value_or_values = func(trial)\n",
      "  File \"/tmp/ipykernel_38777/4091589858.py\", line 34, in <lambda>\n",
      "    trial_function = lambda trial: objective_fun(trial,\n",
      "  File \"/tmp/ipykernel_38777/4091589858.py\", line 15, in objective_fun\n",
      "    cnn = build_model(  X.shape[1:], len(np.unique(y)),\n",
      "  File \"/tmp/ipykernel_38777/1167308510.py\", line 27, in build_model\n",
      "    model.add(Conv1D(filters=filters, kernel_size=kernel_size, activation='relu', name=f\"extra_conv_{i}\"))\n",
      "  File \"/home/djanloo/.local/share/virtualenvs/DM2-PeqFRmfa/lib/python3.10/site-packages/tensorflow/python/trackable/base.py\", line 205, in _method_wrapper\n",
      "    result = method(self, *args, **kwargs)\n",
      "  File \"/home/djanloo/.local/share/virtualenvs/DM2-PeqFRmfa/lib/python3.10/site-packages/keras/utils/traceback_utils.py\", line 70, in error_handler\n",
      "    raise e.with_traceback(filtered_tb) from None\n",
      "  File \"/home/djanloo/.local/share/virtualenvs/DM2-PeqFRmfa/lib/python3.10/site-packages/keras/layers/convolutional/base_conv.py\", line 354, in compute_output_shape\n",
      "    raise ValueError(\n",
      "ValueError: One of the dimensions in the output is <= 0 due to downsampling in extra_conv_0. Consider increasing the input size. Received input shape [None, 8, 7] which would produce output shape with a zero or negative value in a dimension.\n",
      "[W 2023-06-26 17:36:35,233] Trial 140 failed with value None.\n",
      "[W 2023-06-26 17:36:35,428] Trial 141 failed with parameters: {'n_conv': 3, 'n_hidden': 2, 'hidden_nodes': 59, 'dropout': 0.35651870317256584, 'filters': 7, 'kernel_size': 16, 'batch_size': 17, 'epochs': 58} because of the following error: ValueError('One of the dimensions in the output is <= 0 due to downsampling in extra_conv_0. Consider increasing the input size. Received input shape [None, 8, 7] which would produce output shape with a zero or negative value in a dimension.').\n",
      "Traceback (most recent call last):\n",
      "  File \"/home/djanloo/.local/share/virtualenvs/DM2-PeqFRmfa/lib/python3.10/site-packages/optuna/study/_optimize.py\", line 200, in _run_trial\n",
      "    value_or_values = func(trial)\n",
      "  File \"/tmp/ipykernel_38777/4091589858.py\", line 34, in <lambda>\n",
      "    trial_function = lambda trial: objective_fun(trial,\n",
      "  File \"/tmp/ipykernel_38777/4091589858.py\", line 15, in objective_fun\n",
      "    cnn = build_model(  X.shape[1:], len(np.unique(y)),\n",
      "  File \"/tmp/ipykernel_38777/1167308510.py\", line 27, in build_model\n",
      "    model.add(Conv1D(filters=filters, kernel_size=kernel_size, activation='relu', name=f\"extra_conv_{i}\"))\n",
      "  File \"/home/djanloo/.local/share/virtualenvs/DM2-PeqFRmfa/lib/python3.10/site-packages/tensorflow/python/trackable/base.py\", line 205, in _method_wrapper\n",
      "    result = method(self, *args, **kwargs)\n",
      "  File \"/home/djanloo/.local/share/virtualenvs/DM2-PeqFRmfa/lib/python3.10/site-packages/keras/utils/traceback_utils.py\", line 70, in error_handler\n",
      "    raise e.with_traceback(filtered_tb) from None\n",
      "  File \"/home/djanloo/.local/share/virtualenvs/DM2-PeqFRmfa/lib/python3.10/site-packages/keras/layers/convolutional/base_conv.py\", line 354, in compute_output_shape\n",
      "    raise ValueError(\n",
      "ValueError: One of the dimensions in the output is <= 0 due to downsampling in extra_conv_0. Consider increasing the input size. Received input shape [None, 8, 7] which would produce output shape with a zero or negative value in a dimension.\n",
      "[W 2023-06-26 17:36:35,435] Trial 141 failed with value None.\n"
     ]
    },
    {
     "name": "stdout",
     "output_type": "stream",
     "text": [
      "Running little bitch having n_conv=3, dropout=0.3536161777119782, hidden_nodes=49\n",
      "Running little bitch having n_conv=3, dropout=0.3517224334444647, hidden_nodes=41\n"
     ]
    },
    {
     "name": "stderr",
     "output_type": "stream",
     "text": [
      "[W 2023-06-26 17:36:35,638] Trial 142 failed with parameters: {'n_conv': 3, 'n_hidden': 2, 'hidden_nodes': 43, 'dropout': 0.3634891107120016, 'filters': 6, 'kernel_size': 16, 'batch_size': 18, 'epochs': 90} because of the following error: ValueError('One of the dimensions in the output is <= 0 due to downsampling in extra_conv_0. Consider increasing the input size. Received input shape [None, 8, 6] which would produce output shape with a zero or negative value in a dimension.').\n",
      "Traceback (most recent call last):\n",
      "  File \"/home/djanloo/.local/share/virtualenvs/DM2-PeqFRmfa/lib/python3.10/site-packages/optuna/study/_optimize.py\", line 200, in _run_trial\n",
      "    value_or_values = func(trial)\n",
      "  File \"/tmp/ipykernel_38777/4091589858.py\", line 34, in <lambda>\n",
      "    trial_function = lambda trial: objective_fun(trial,\n",
      "  File \"/tmp/ipykernel_38777/4091589858.py\", line 15, in objective_fun\n",
      "    cnn = build_model(  X.shape[1:], len(np.unique(y)),\n",
      "  File \"/tmp/ipykernel_38777/1167308510.py\", line 27, in build_model\n",
      "    model.add(Conv1D(filters=filters, kernel_size=kernel_size, activation='relu', name=f\"extra_conv_{i}\"))\n",
      "  File \"/home/djanloo/.local/share/virtualenvs/DM2-PeqFRmfa/lib/python3.10/site-packages/tensorflow/python/trackable/base.py\", line 205, in _method_wrapper\n",
      "    result = method(self, *args, **kwargs)\n",
      "  File \"/home/djanloo/.local/share/virtualenvs/DM2-PeqFRmfa/lib/python3.10/site-packages/keras/utils/traceback_utils.py\", line 70, in error_handler\n",
      "    raise e.with_traceback(filtered_tb) from None\n",
      "  File \"/home/djanloo/.local/share/virtualenvs/DM2-PeqFRmfa/lib/python3.10/site-packages/keras/layers/convolutional/base_conv.py\", line 354, in compute_output_shape\n",
      "    raise ValueError(\n",
      "ValueError: One of the dimensions in the output is <= 0 due to downsampling in extra_conv_0. Consider increasing the input size. Received input shape [None, 8, 6] which would produce output shape with a zero or negative value in a dimension.\n",
      "[W 2023-06-26 17:36:35,653] Trial 142 failed with value None.\n"
     ]
    },
    {
     "name": "stdout",
     "output_type": "stream",
     "text": [
      "\r",
      " 1/13 [=>............................] - ETA: 14s"
     ]
    },
    {
     "name": "stderr",
     "output_type": "stream",
     "text": [
      "[W 2023-06-26 17:36:35,835] Trial 143 failed with parameters: {'n_conv': 3, 'n_hidden': 2, 'hidden_nodes': 49, 'dropout': 0.3536161777119782, 'filters': 6, 'kernel_size': 16, 'batch_size': 16, 'epochs': 90} because of the following error: ValueError('One of the dimensions in the output is <= 0 due to downsampling in extra_conv_0. Consider increasing the input size. Received input shape [None, 8, 6] which would produce output shape with a zero or negative value in a dimension.').\n",
      "Traceback (most recent call last):\n",
      "  File \"/home/djanloo/.local/share/virtualenvs/DM2-PeqFRmfa/lib/python3.10/site-packages/optuna/study/_optimize.py\", line 200, in _run_trial\n",
      "    value_or_values = func(trial)\n",
      "  File \"/tmp/ipykernel_38777/4091589858.py\", line 34, in <lambda>\n",
      "    trial_function = lambda trial: objective_fun(trial,\n",
      "  File \"/tmp/ipykernel_38777/4091589858.py\", line 15, in objective_fun\n",
      "    cnn = build_model(  X.shape[1:], len(np.unique(y)),\n",
      "  File \"/tmp/ipykernel_38777/1167308510.py\", line 27, in build_model\n",
      "    model.add(Conv1D(filters=filters, kernel_size=kernel_size, activation='relu', name=f\"extra_conv_{i}\"))\n",
      "  File \"/home/djanloo/.local/share/virtualenvs/DM2-PeqFRmfa/lib/python3.10/site-packages/tensorflow/python/trackable/base.py\", line 205, in _method_wrapper\n",
      "    result = method(self, *args, **kwargs)\n",
      "  File \"/home/djanloo/.local/share/virtualenvs/DM2-PeqFRmfa/lib/python3.10/site-packages/keras/utils/traceback_utils.py\", line 70, in error_handler\n",
      "    raise e.with_traceback(filtered_tb) from None\n",
      "  File \"/home/djanloo/.local/share/virtualenvs/DM2-PeqFRmfa/lib/python3.10/site-packages/keras/layers/convolutional/base_conv.py\", line 354, in compute_output_shape\n",
      "    raise ValueError(\n",
      "ValueError: One of the dimensions in the output is <= 0 due to downsampling in extra_conv_0. Consider increasing the input size. Received input shape [None, 8, 6] which would produce output shape with a zero or negative value in a dimension.\n",
      "[W 2023-06-26 17:36:35,848] Trial 143 failed with value None.\n"
     ]
    },
    {
     "name": "stdout",
     "output_type": "stream",
     "text": [
      "Running little bitch having n_conv=3, dropout=0.3197487190880219, hidden_nodes=49\n",
      " 3/13 [=====>........................] - ETA: 1sRunning little bitch having n_conv=3, dropout=0.3462871470631141, hidden_nodes=57\n",
      "13/13 [==============================] - 2s 32ms/step\n"
     ]
    },
    {
     "name": "stderr",
     "output_type": "stream",
     "text": [
      "[W 2023-06-26 17:36:36,174] Trial 145 failed with parameters: {'n_conv': 3, 'n_hidden': 2, 'hidden_nodes': 49, 'dropout': 0.3197487190880219, 'filters': 7, 'kernel_size': 16, 'batch_size': 16, 'epochs': 90} because of the following error: ValueError('One of the dimensions in the output is <= 0 due to downsampling in extra_conv_0. Consider increasing the input size. Received input shape [None, 8, 7] which would produce output shape with a zero or negative value in a dimension.').\n",
      "Traceback (most recent call last):\n",
      "  File \"/home/djanloo/.local/share/virtualenvs/DM2-PeqFRmfa/lib/python3.10/site-packages/optuna/study/_optimize.py\", line 200, in _run_trial\n",
      "    value_or_values = func(trial)\n",
      "  File \"/tmp/ipykernel_38777/4091589858.py\", line 34, in <lambda>\n",
      "    trial_function = lambda trial: objective_fun(trial,\n",
      "  File \"/tmp/ipykernel_38777/4091589858.py\", line 15, in objective_fun\n",
      "    cnn = build_model(  X.shape[1:], len(np.unique(y)),\n",
      "  File \"/tmp/ipykernel_38777/1167308510.py\", line 27, in build_model\n",
      "    model.add(Conv1D(filters=filters, kernel_size=kernel_size, activation='relu', name=f\"extra_conv_{i}\"))\n",
      "  File \"/home/djanloo/.local/share/virtualenvs/DM2-PeqFRmfa/lib/python3.10/site-packages/tensorflow/python/trackable/base.py\", line 205, in _method_wrapper\n",
      "    result = method(self, *args, **kwargs)\n",
      "  File \"/home/djanloo/.local/share/virtualenvs/DM2-PeqFRmfa/lib/python3.10/site-packages/keras/utils/traceback_utils.py\", line 70, in error_handler\n",
      "    raise e.with_traceback(filtered_tb) from None\n",
      "  File \"/home/djanloo/.local/share/virtualenvs/DM2-PeqFRmfa/lib/python3.10/site-packages/keras/layers/convolutional/base_conv.py\", line 354, in compute_output_shape\n",
      "    raise ValueError(\n",
      "ValueError: One of the dimensions in the output is <= 0 due to downsampling in extra_conv_0. Consider increasing the input size. Received input shape [None, 8, 7] which would produce output shape with a zero or negative value in a dimension.\n",
      "[W 2023-06-26 17:36:36,185] Trial 145 failed with value None.\n"
     ]
    },
    {
     "name": "stdout",
     "output_type": "stream",
     "text": [
      "Running little bitch having n_conv=3, dropout=0.35701055284338806, hidden_nodes=49\n"
     ]
    },
    {
     "name": "stderr",
     "output_type": "stream",
     "text": [
      "[W 2023-06-26 17:36:36,301] Trial 144 failed with parameters: {'n_conv': 3, 'n_hidden': 2, 'hidden_nodes': 41, 'dropout': 0.3517224334444647, 'filters': 7, 'kernel_size': 11, 'batch_size': 16, 'epochs': 56} because of the following error: ValueError('One of the dimensions in the output is <= 0 due to downsampling in extra_conv_1. Consider increasing the input size. Received input shape [None, 3, 7] which would produce output shape with a zero or negative value in a dimension.').\n",
      "Traceback (most recent call last):\n",
      "  File \"/home/djanloo/.local/share/virtualenvs/DM2-PeqFRmfa/lib/python3.10/site-packages/optuna/study/_optimize.py\", line 200, in _run_trial\n",
      "    value_or_values = func(trial)\n",
      "  File \"/tmp/ipykernel_38777/4091589858.py\", line 34, in <lambda>\n",
      "    trial_function = lambda trial: objective_fun(trial,\n",
      "  File \"/tmp/ipykernel_38777/4091589858.py\", line 15, in objective_fun\n",
      "    cnn = build_model(  X.shape[1:], len(np.unique(y)),\n",
      "  File \"/tmp/ipykernel_38777/1167308510.py\", line 27, in build_model\n",
      "    model.add(Conv1D(filters=filters, kernel_size=kernel_size, activation='relu', name=f\"extra_conv_{i}\"))\n",
      "  File \"/home/djanloo/.local/share/virtualenvs/DM2-PeqFRmfa/lib/python3.10/site-packages/tensorflow/python/trackable/base.py\", line 205, in _method_wrapper\n",
      "    result = method(self, *args, **kwargs)\n",
      "  File \"/home/djanloo/.local/share/virtualenvs/DM2-PeqFRmfa/lib/python3.10/site-packages/keras/utils/traceback_utils.py\", line 70, in error_handler\n",
      "    raise e.with_traceback(filtered_tb) from None\n",
      "  File \"/home/djanloo/.local/share/virtualenvs/DM2-PeqFRmfa/lib/python3.10/site-packages/keras/layers/convolutional/base_conv.py\", line 354, in compute_output_shape\n",
      "    raise ValueError(\n",
      "ValueError: One of the dimensions in the output is <= 0 due to downsampling in extra_conv_1. Consider increasing the input size. Received input shape [None, 3, 7] which would produce output shape with a zero or negative value in a dimension.\n",
      "[W 2023-06-26 17:36:36,335] Trial 144 failed with value None.\n",
      "[I 2023-06-26 17:36:36,347] Trial 26 finished with value: 0.9896640826873385 and parameters: {'n_conv': 1, 'n_hidden': 1, 'hidden_nodes': 31, 'dropout': 0.41740692526218137, 'filters': 15, 'kernel_size': 7, 'batch_size': 49, 'epochs': 73}. Best is trial 26 with value: 0.9896640826873385.\n",
      "[W 2023-06-26 17:36:36,368] Trial 146 failed with parameters: {'n_conv': 3, 'n_hidden': 2, 'hidden_nodes': 57, 'dropout': 0.3462871470631141, 'filters': 7, 'kernel_size': 16, 'batch_size': 17, 'epochs': 57} because of the following error: ValueError('One of the dimensions in the output is <= 0 due to downsampling in extra_conv_0. Consider increasing the input size. Received input shape [None, 8, 7] which would produce output shape with a zero or negative value in a dimension.').\n",
      "Traceback (most recent call last):\n",
      "  File \"/home/djanloo/.local/share/virtualenvs/DM2-PeqFRmfa/lib/python3.10/site-packages/optuna/study/_optimize.py\", line 200, in _run_trial\n",
      "    value_or_values = func(trial)\n",
      "  File \"/tmp/ipykernel_38777/4091589858.py\", line 34, in <lambda>\n",
      "    trial_function = lambda trial: objective_fun(trial,\n",
      "  File \"/tmp/ipykernel_38777/4091589858.py\", line 15, in objective_fun\n",
      "    cnn = build_model(  X.shape[1:], len(np.unique(y)),\n",
      "  File \"/tmp/ipykernel_38777/1167308510.py\", line 27, in build_model\n",
      "    model.add(Conv1D(filters=filters, kernel_size=kernel_size, activation='relu', name=f\"extra_conv_{i}\"))\n",
      "  File \"/home/djanloo/.local/share/virtualenvs/DM2-PeqFRmfa/lib/python3.10/site-packages/tensorflow/python/trackable/base.py\", line 205, in _method_wrapper\n",
      "    result = method(self, *args, **kwargs)\n",
      "  File \"/home/djanloo/.local/share/virtualenvs/DM2-PeqFRmfa/lib/python3.10/site-packages/keras/utils/traceback_utils.py\", line 70, in error_handler\n",
      "    raise e.with_traceback(filtered_tb) from None\n",
      "  File \"/home/djanloo/.local/share/virtualenvs/DM2-PeqFRmfa/lib/python3.10/site-packages/keras/layers/convolutional/base_conv.py\", line 354, in compute_output_shape\n",
      "    raise ValueError(\n",
      "ValueError: One of the dimensions in the output is <= 0 due to downsampling in extra_conv_0. Consider increasing the input size. Received input shape [None, 8, 7] which would produce output shape with a zero or negative value in a dimension.\n",
      "[W 2023-06-26 17:36:36,575] Trial 146 failed with value None.\n",
      "[W 2023-06-26 17:36:36,759] Trial 147 failed with parameters: {'n_conv': 3, 'n_hidden': 2, 'hidden_nodes': 49, 'dropout': 0.35701055284338806, 'filters': 7, 'kernel_size': 16, 'batch_size': 16, 'epochs': 55} because of the following error: ValueError('One of the dimensions in the output is <= 0 due to downsampling in extra_conv_0. Consider increasing the input size. Received input shape [None, 8, 7] which would produce output shape with a zero or negative value in a dimension.').\n",
      "Traceback (most recent call last):\n",
      "  File \"/home/djanloo/.local/share/virtualenvs/DM2-PeqFRmfa/lib/python3.10/site-packages/optuna/study/_optimize.py\", line 200, in _run_trial\n",
      "    value_or_values = func(trial)\n",
      "  File \"/tmp/ipykernel_38777/4091589858.py\", line 34, in <lambda>\n",
      "    trial_function = lambda trial: objective_fun(trial,\n",
      "  File \"/tmp/ipykernel_38777/4091589858.py\", line 15, in objective_fun\n",
      "    cnn = build_model(  X.shape[1:], len(np.unique(y)),\n",
      "  File \"/tmp/ipykernel_38777/1167308510.py\", line 27, in build_model\n",
      "    model.add(Conv1D(filters=filters, kernel_size=kernel_size, activation='relu', name=f\"extra_conv_{i}\"))\n",
      "  File \"/home/djanloo/.local/share/virtualenvs/DM2-PeqFRmfa/lib/python3.10/site-packages/tensorflow/python/trackable/base.py\", line 205, in _method_wrapper\n",
      "    result = method(self, *args, **kwargs)\n",
      "  File \"/home/djanloo/.local/share/virtualenvs/DM2-PeqFRmfa/lib/python3.10/site-packages/keras/utils/traceback_utils.py\", line 70, in error_handler\n",
      "    raise e.with_traceback(filtered_tb) from None\n",
      "  File \"/home/djanloo/.local/share/virtualenvs/DM2-PeqFRmfa/lib/python3.10/site-packages/keras/layers/convolutional/base_conv.py\", line 354, in compute_output_shape\n",
      "    raise ValueError(\n",
      "ValueError: One of the dimensions in the output is <= 0 due to downsampling in extra_conv_0. Consider increasing the input size. Received input shape [None, 8, 7] which would produce output shape with a zero or negative value in a dimension.\n",
      "[W 2023-06-26 17:36:36,766] Trial 147 failed with value None.\n"
     ]
    },
    {
     "name": "stdout",
     "output_type": "stream",
     "text": [
      "Running little bitch having n_conv=3, dropout=0.4346171659145525, hidden_nodes=55\n",
      "Running little bitch having n_conv=3, dropout=0.34738476027637355, hidden_nodes=52\n"
     ]
    },
    {
     "name": "stderr",
     "output_type": "stream",
     "text": [
      "[W 2023-06-26 17:36:36,835] Trial 148 failed with parameters: {'n_conv': 3, 'n_hidden': 2, 'hidden_nodes': 52, 'dropout': 0.34738476027637355, 'filters': 7, 'kernel_size': 15, 'batch_size': 18, 'epochs': 59} because of the following error: ValueError('One of the dimensions in the output is <= 0 due to downsampling in extra_conv_0. Consider increasing the input size. Received input shape [None, 9, 7] which would produce output shape with a zero or negative value in a dimension.').\n",
      "Traceback (most recent call last):\n",
      "  File \"/home/djanloo/.local/share/virtualenvs/DM2-PeqFRmfa/lib/python3.10/site-packages/optuna/study/_optimize.py\", line 200, in _run_trial\n",
      "    value_or_values = func(trial)\n",
      "  File \"/tmp/ipykernel_38777/4091589858.py\", line 34, in <lambda>\n",
      "    trial_function = lambda trial: objective_fun(trial,\n",
      "  File \"/tmp/ipykernel_38777/4091589858.py\", line 15, in objective_fun\n",
      "    cnn = build_model(  X.shape[1:], len(np.unique(y)),\n",
      "  File \"/tmp/ipykernel_38777/1167308510.py\", line 27, in build_model\n",
      "    model.add(Conv1D(filters=filters, kernel_size=kernel_size, activation='relu', name=f\"extra_conv_{i}\"))\n",
      "  File \"/home/djanloo/.local/share/virtualenvs/DM2-PeqFRmfa/lib/python3.10/site-packages/tensorflow/python/trackable/base.py\", line 205, in _method_wrapper\n",
      "    result = method(self, *args, **kwargs)\n",
      "  File \"/home/djanloo/.local/share/virtualenvs/DM2-PeqFRmfa/lib/python3.10/site-packages/keras/utils/traceback_utils.py\", line 70, in error_handler\n",
      "    raise e.with_traceback(filtered_tb) from None\n",
      "  File \"/home/djanloo/.local/share/virtualenvs/DM2-PeqFRmfa/lib/python3.10/site-packages/keras/layers/convolutional/base_conv.py\", line 354, in compute_output_shape\n",
      "    raise ValueError(\n",
      "ValueError: One of the dimensions in the output is <= 0 due to downsampling in extra_conv_0. Consider increasing the input size. Received input shape [None, 9, 7] which would produce output shape with a zero or negative value in a dimension.\n",
      "[W 2023-06-26 17:36:36,837] Trial 148 failed with value None.\n",
      "[W 2023-06-26 17:36:36,956] Trial 149 failed with parameters: {'n_conv': 3, 'n_hidden': 1, 'hidden_nodes': 55, 'dropout': 0.4346171659145525, 'filters': 16, 'kernel_size': 7, 'batch_size': 17, 'epochs': 54} because of the following error: ValueError('One of the dimensions in the output is <= 0 due to downsampling in extra_conv_2. Consider increasing the input size. Received input shape [None, 5, 16] which would produce output shape with a zero or negative value in a dimension.').\n",
      "Traceback (most recent call last):\n",
      "  File \"/home/djanloo/.local/share/virtualenvs/DM2-PeqFRmfa/lib/python3.10/site-packages/optuna/study/_optimize.py\", line 200, in _run_trial\n",
      "    value_or_values = func(trial)\n",
      "  File \"/tmp/ipykernel_38777/4091589858.py\", line 34, in <lambda>\n",
      "    trial_function = lambda trial: objective_fun(trial,\n",
      "  File \"/tmp/ipykernel_38777/4091589858.py\", line 15, in objective_fun\n",
      "    cnn = build_model(  X.shape[1:], len(np.unique(y)),\n",
      "  File \"/tmp/ipykernel_38777/1167308510.py\", line 27, in build_model\n",
      "    model.add(Conv1D(filters=filters, kernel_size=kernel_size, activation='relu', name=f\"extra_conv_{i}\"))\n",
      "  File \"/home/djanloo/.local/share/virtualenvs/DM2-PeqFRmfa/lib/python3.10/site-packages/tensorflow/python/trackable/base.py\", line 205, in _method_wrapper\n",
      "    result = method(self, *args, **kwargs)\n",
      "  File \"/home/djanloo/.local/share/virtualenvs/DM2-PeqFRmfa/lib/python3.10/site-packages/keras/utils/traceback_utils.py\", line 70, in error_handler\n",
      "    raise e.with_traceback(filtered_tb) from None\n",
      "  File \"/home/djanloo/.local/share/virtualenvs/DM2-PeqFRmfa/lib/python3.10/site-packages/keras/layers/convolutional/base_conv.py\", line 354, in compute_output_shape\n",
      "    raise ValueError(\n",
      "ValueError: One of the dimensions in the output is <= 0 due to downsampling in extra_conv_2. Consider increasing the input size. Received input shape [None, 5, 16] which would produce output shape with a zero or negative value in a dimension.\n",
      "[W 2023-06-26 17:36:36,958] Trial 149 failed with value None.\n"
     ]
    }
   ],
   "source": [
    "# objective function to be minimized\n",
    "def objective_fun(trial, X, y, validation_X, validation_y):\n",
    "\n",
    "    n_conv = trial.suggest_int('n_conv', 0, 3)\n",
    "    n_hidden = trial.suggest_int('n_hidden', 0, 3)\n",
    "    hidden_nodes = trial.suggest_int('hidden_nodes', 8, 256)\n",
    "    dropout = trial.suggest_float('dropout', 0, 1)\n",
    "    filters = trial.suggest_int('filters', 2, 16)\n",
    "    kernel_size = trial.suggest_int('kernel_size', 2, 16)\n",
    "    batch_size = trial.suggest_int('batch_size', 16, 64)\n",
    "    epochs = trial.suggest_int('epochs', 5, 90)\n",
    "    \n",
    "    print(f\"Running little bitch having n_conv={n_conv}, dropout={dropout}, hidden_nodes={hidden_nodes}\")\n",
    "    \n",
    "    cnn = build_model(  X.shape[1:], len(np.unique(y)),\n",
    "                        n_hidden=n_hidden,\n",
    "                        hidden_nodes=hidden_nodes,\n",
    "                        n_conv=n_conv,\n",
    "                        dropout=dropout,\n",
    "                        filters=filters,\n",
    "                        kernel_size=kernel_size,\n",
    "                       )\n",
    "\n",
    "    cnn.fit(X, y, batch_size=batch_size, epochs=epochs, verbose=False)\n",
    "    \n",
    "    y_pred = np.argmax(cnn.predict(validation_X), axis=1)\n",
    "\n",
    "    error = accuracy_score(validation_y, y_pred)\n",
    "\n",
    "    return error\n",
    "\n",
    "\n",
    "study = optuna.create_study(direction='maximize')\n",
    "trial_function = lambda trial: objective_fun(trial, \n",
    "                                             X_train, y_train,\n",
    "                                             X_val, y_val)\n",
    "study.optimize(trial_function, n_trials=150, n_jobs=-1, catch=ValueError)"
   ]
  },
  {
   "cell_type": "code",
   "execution_count": 14,
   "metadata": {},
   "outputs": [
    {
     "data": {
      "text/plain": [
       "<matplotlib.legend.Legend at 0x7fd5ac632d70>"
      ]
     },
     "execution_count": 14,
     "metadata": {},
     "output_type": "execute_result"
    },
    {
     "data": {
      "image/png": "[encoded data removed]",
      "text/plain": [
       "<Figure size 354.331x236.22 with 1 Axes>"
      ]
     },
     "metadata": {},
     "output_type": "display_data"
    }
   ],
   "source": [
    "plt.plot(test_model.history.history[\"accuracy\"], label=\"accuracy\")\n",
    "plt.legend()"
   ]
  },
  {
   "cell_type": "code",
   "execution_count": 15,
   "metadata": {
    "ExecuteTime": {
     "end_time": "2023-06-25T16:51:44.670744Z",
     "start_time": "2023-06-25T16:51:44.667917Z"
    }
   },
   "outputs": [],
   "source": [
    "best_params = study.best_params\n",
    "# best_params = dict(n_conv=0, n_hidden=1, hidden_nodes=248, dropout=0.752200, filters=8, kernel_size=14, batch_size=19, epochs=75)"
   ]
  },
  {
   "cell_type": "code",
   "execution_count": 17,
   "metadata": {
    "ExecuteTime": {
     "end_time": "2023-06-25T16:51:51.439577Z",
     "start_time": "2023-06-25T16:51:44.672475Z"
    }
   },
   "outputs": [
    {
     "ename": "TypeError",
     "evalue": "build_model() got an unexpected keyword argument 'batch_size'",
     "output_type": "error",
     "traceback": [
      "\u001b[0;31m---------------------------------------------------------------------------\u001b[0m",
      "\u001b[0;31mTypeError\u001b[0m                                 Traceback (most recent call last)",
      "Cell \u001b[0;32mIn[17], line 1\u001b[0m\n\u001b[0;32m----> 1\u001b[0m cnn \u001b[38;5;241m=\u001b[39m \u001b[43mbuild_model\u001b[49m\u001b[43m(\u001b[49m\u001b[38;5;241;43m*\u001b[39;49m\u001b[38;5;241;43m*\u001b[39;49m\u001b[43mbest_params\u001b[49m\u001b[43m)\u001b[49m\n\u001b[1;32m      2\u001b[0m cnn\u001b[38;5;241m.\u001b[39msummary()\n",
      "\u001b[0;31mTypeError\u001b[0m: build_model() got an unexpected keyword argument 'batch_size'"
     ]
    }
   ],
   "source": [
    "cnn = build_model(**best_params)\n",
    "cnn.summary()"
   ]
  },
  {
   "cell_type": "code",
   "execution_count": 19,
   "metadata": {
    "ExecuteTime": {
     "end_time": "2023-06-25T16:51:51.525838Z",
     "start_time": "2023-06-25T16:51:51.446069Z"
    }
   },
   "outputs": [
    {
     "name": "stdout",
     "output_type": "stream",
     "text": [
      "20/20 [==============================] - 0s 4ms/step\n",
      "Cohen k 0.9519230769230769\n",
      "Accuracy 0.9759615384615384\n",
      "F1-score [0.97560976 0.97630332]\n",
      "              precision    recall  f1-score   support\n",
      "\n",
      "           0       0.99      0.96      0.98       312\n",
      "           1       0.96      0.99      0.98       312\n",
      "\n",
      "    accuracy                           0.98       624\n",
      "   macro avg       0.98      0.98      0.98       624\n",
      "weighted avg       0.98      0.98      0.98       624\n",
      "\n"
     ]
    }
   ],
   "source": [
    "from sklearn.metrics import f1_score, classification_report, cohen_kappa_score\n",
    "\n",
    "y_pred = np.argmax(cnn.predict(X_test), axis=1)\n",
    "\n",
    "print(f'Cohen k {cohen_kappa_score(y_test, y_pred)}')\n",
    "print('Accuracy %s' % accuracy_score(y_test, y_pred))\n",
    "print('F1-score %s' % f1_score(y_test, y_pred, average=None))\n",
    "print(classification_report(y_test, y_pred))"
   ]
  },
  {
   "cell_type": "markdown",
   "metadata": {},
   "source": [
    "## CNN and emotion using complete STFT"
   ]
  },
  {
   "cell_type": "code",
   "execution_count": 38,
   "metadata": {},
   "outputs": [
    {
     "data": {
      "text/plain": [
       "((1462, 54, 54), (366, 54, 54), (624, 54, 54), (1462,), (366,), (624,))"
      ]
     },
     "execution_count": 38,
     "metadata": {},
     "output_type": "execute_result"
    }
   ],
   "source": [
    "X = np.load(os.path.join(TS_PREPROC_FOLDER, \"full_stft.npy\"))\n",
    "\n",
    "split_index = df[df['actor'] == 'actor_19'].index[0]\n",
    "\n",
    "X_train = X[:split_index]\n",
    "X_test = X[split_index:]\n",
    "\n",
    "y_train = df[\"emotion\"][:split_index].to_numpy()\n",
    "y_test = df[\"emotion\"][split_index:].to_numpy()\n",
    "\n",
    "X_train_v, X_val, y_train_v, y_val = train_test_split(X_train, y_train, test_size=0.2, random_state=100)\n",
    "\n",
    "X_train_v.shape, X_val.shape, X_test.shape, y_train_v.shape, y_val.shape, y_test.shape"
   ]
  },
  {
   "cell_type": "code",
   "execution_count": 39,
   "metadata": {},
   "outputs": [
    {
     "data": {
      "text/plain": [
       "array([2, 0, 6, 4, 4, 0, 3, 6, 2, 6])"
      ]
     },
     "execution_count": 39,
     "metadata": {},
     "output_type": "execute_result"
    }
   ],
   "source": [
    "label_encoder = LabelEncoder()\n",
    "\n",
    "y_train = label_encoder.fit_transform(y_train)\n",
    "y_train_v = label_encoder.transform(y_train_v)\n",
    "y_val = label_encoder.transform(y_val)\n",
    "y_test = label_encoder.transform(y_test)\n",
    "\n",
    "y_val[:10]"
   ]
  },
  {
   "cell_type": "code",
   "execution_count": 40,
   "metadata": {},
   "outputs": [
    {
     "name": "stdout",
     "output_type": "stream",
     "text": [
      "Epoch 1/8\n",
      "115/115 [==============================] - 5s 12ms/step - loss: 2.0459 - accuracy: 0.1674\n",
      "Epoch 2/8\n",
      "115/115 [==============================] - 1s 10ms/step - loss: 2.0373 - accuracy: 0.1570\n",
      "Epoch 3/8\n",
      "115/115 [==============================] - 1s 11ms/step - loss: 2.0310 - accuracy: 0.1712\n",
      "Epoch 4/8\n",
      "115/115 [==============================] - 1s 10ms/step - loss: 2.0270 - accuracy: 0.1690\n",
      "Epoch 5/8\n",
      "115/115 [==============================] - 1s 10ms/step - loss: 2.0141 - accuracy: 0.1772\n",
      "Epoch 6/8\n",
      "115/115 [==============================] - 1s 11ms/step - loss: 2.0127 - accuracy: 0.1729\n",
      "Epoch 7/8\n",
      "115/115 [==============================] - 1s 11ms/step - loss: 2.0085 - accuracy: 0.1926\n",
      "Epoch 8/8\n",
      "115/115 [==============================] - 1s 11ms/step - loss: 1.9945 - accuracy: 0.1947\n"
     ]
    }
   ],
   "source": [
    "# Test to check the accuracy of a \"belly\" network\n",
    "test_model = build_and_fit_cnn(X=X_train, y=y_train, n_conv=2, n_hidden=3, hidden_nodes=256, epochs=8, verbose=True)"
   ]
  },
  {
   "cell_type": "code",
   "execution_count": 48,
   "metadata": {},
   "outputs": [
    {
     "name": "stderr",
     "output_type": "stream",
     "text": [
      "[I 2023-06-26 17:21:59,181] A new study created in memory with name: no-name-6e421921-3fd5-48e4-bf0b-dd4b1379f0a0\n",
      "[W 2023-06-26 17:21:59,205] Trial 0 failed with parameters: {'n_conv': 2, 'n_hidden': 2, 'hidden_nodes': 190, 'dropout': 0.13536993545843246, 'filters': 11, 'kernel_size': 14, 'batch_size': 57, 'epochs': 17} because of the following error: TypeError(\"build_model() missing 1 required positional argument: 'n_categories'\").\n",
      "Traceback (most recent call last):\n",
      "  File \"/home/djanloo/.local/share/virtualenvs/DM2-PeqFRmfa/lib/python3.10/site-packages/optuna/study/_optimize.py\", line 200, in _run_trial\n",
      "    value_or_values = func(trial)\n",
      "  File \"/tmp/ipykernel_35043/2900296876.py\", line 2, in <lambda>\n",
      "    trial_function = lambda trial: objective_fun(trial, X_train, y_train )\n",
      "  File \"/tmp/ipykernel_35043/2718163810.py\", line 15, in objective_fun\n",
      "    cnn = build_model(  X.shape,\n",
      "TypeError: build_model() missing 1 required positional argument: 'n_categories'\n",
      "[W 2023-06-26 17:21:59,209] Trial 1 failed with parameters: {'n_conv': 0, 'n_hidden': 1, 'hidden_nodes': 88, 'dropout': 0.8349298195911011, 'filters': 3, 'kernel_size': 7, 'batch_size': 64, 'epochs': 6} because of the following error: TypeError(\"build_model() missing 1 required positional argument: 'n_categories'\").\n",
      "Traceback (most recent call last):\n",
      "  File \"/home/djanloo/.local/share/virtualenvs/DM2-PeqFRmfa/lib/python3.10/site-packages/optuna/study/_optimize.py\", line 200, in _run_trial\n",
      "    value_or_values = func(trial)\n",
      "  File \"/tmp/ipykernel_35043/2900296876.py\", line 2, in <lambda>\n",
      "    trial_function = lambda trial: objective_fun(trial, X_train, y_train )\n",
      "  File \"/tmp/ipykernel_35043/2718163810.py\", line 15, in objective_fun\n",
      "    cnn = build_model(  X.shape,\n",
      "TypeError: build_model() missing 1 required positional argument: 'n_categories'\n",
      "[W 2023-06-26 17:21:59,222] Trial 1 failed with value None.\n",
      "[W 2023-06-26 17:21:59,217] Trial 2 failed with parameters: {'n_conv': 3, 'n_hidden': 3, 'hidden_nodes': 146, 'dropout': 0.11512356360583886, 'filters': 7, 'kernel_size': 13, 'batch_size': 41, 'epochs': 81} because of the following error: TypeError(\"build_model() missing 1 required positional argument: 'n_categories'\").\n",
      "Traceback (most recent call last):\n",
      "  File \"/home/djanloo/.local/share/virtualenvs/DM2-PeqFRmfa/lib/python3.10/site-packages/optuna/study/_optimize.py\", line 200, in _run_trial\n",
      "    value_or_values = func(trial)\n",
      "  File \"/tmp/ipykernel_35043/2900296876.py\", line 2, in <lambda>\n",
      "    trial_function = lambda trial: objective_fun(trial, X_train, y_train )\n",
      "  File \"/tmp/ipykernel_35043/2718163810.py\", line 15, in objective_fun\n",
      "    cnn = build_model(  X.shape,\n",
      "TypeError: build_model() missing 1 required positional argument: 'n_categories'\n",
      "[W 2023-06-26 17:21:59,218] Trial 0 failed with value None.\n",
      "[W 2023-06-26 17:21:59,233] Trial 3 failed with parameters: {'n_conv': 2, 'n_hidden': 2, 'hidden_nodes': 17, 'dropout': 0.5653741796537336, 'filters': 8, 'kernel_size': 9, 'batch_size': 52, 'epochs': 15} because of the following error: TypeError(\"build_model() missing 1 required positional argument: 'n_categories'\").\n",
      "Traceback (most recent call last):\n",
      "  File \"/home/djanloo/.local/share/virtualenvs/DM2-PeqFRmfa/lib/python3.10/site-packages/optuna/study/_optimize.py\", line 200, in _run_trial\n",
      "    value_or_values = func(trial)\n",
      "  File \"/tmp/ipykernel_35043/2900296876.py\", line 2, in <lambda>\n",
      "    trial_function = lambda trial: objective_fun(trial, X_train, y_train )\n",
      "  File \"/tmp/ipykernel_35043/2718163810.py\", line 15, in objective_fun\n",
      "    cnn = build_model(  X.shape,\n",
      "TypeError: build_model() missing 1 required positional argument: 'n_categories'\n",
      "[W 2023-06-26 17:21:59,235] Trial 2 failed with value None.\n",
      "[W 2023-06-26 17:21:59,247] Trial 3 failed with value None.\n"
     ]
    },
    {
     "name": "stdout",
     "output_type": "stream",
     "text": [
      "Running little bitch having n_conv=2, dropout=0.13536993545843246, hidden_nodes=190\n",
      "Running little bitch having n_conv=0, dropout=0.8349298195911011, hidden_nodes=88\n",
      "Running little bitch having n_conv=3, dropout=0.11512356360583886, hidden_nodes=146\n",
      "Running little bitch having n_conv=2, dropout=0.5653741796537336, hidden_nodes=17\n"
     ]
    },
    {
     "ename": "TypeError",
     "evalue": "build_model() missing 1 required positional argument: 'n_categories'",
     "output_type": "error",
     "traceback": [
      "\u001b[0;31m---------------------------------------------------------------------------\u001b[0m",
      "\u001b[0;31mTypeError\u001b[0m                                 Traceback (most recent call last)",
      "Cell \u001b[0;32mIn[48], line 3\u001b[0m\n\u001b[1;32m      1\u001b[0m study \u001b[38;5;241m=\u001b[39m optuna\u001b[38;5;241m.\u001b[39mcreate_study(direction\u001b[38;5;241m=\u001b[39m\u001b[38;5;124m'\u001b[39m\u001b[38;5;124mmaximize\u001b[39m\u001b[38;5;124m'\u001b[39m)\n\u001b[1;32m      2\u001b[0m trial_function \u001b[38;5;241m=\u001b[39m \u001b[38;5;28;01mlambda\u001b[39;00m trial: objective_fun(trial, X_train, y_train )\n\u001b[0;32m----> 3\u001b[0m \u001b[43mstudy\u001b[49m\u001b[38;5;241;43m.\u001b[39;49m\u001b[43moptimize\u001b[49m\u001b[43m(\u001b[49m\u001b[43mtrial_function\u001b[49m\u001b[43m,\u001b[49m\u001b[43m \u001b[49m\u001b[43mn_trials\u001b[49m\u001b[38;5;241;43m=\u001b[39;49m\u001b[38;5;241;43m150\u001b[39;49m\u001b[43m,\u001b[49m\u001b[43m \u001b[49m\u001b[43mn_jobs\u001b[49m\u001b[38;5;241;43m=\u001b[39;49m\u001b[38;5;241;43m-\u001b[39;49m\u001b[38;5;241;43m1\u001b[39;49m\u001b[43m,\u001b[49m\u001b[43m \u001b[49m\u001b[43mcatch\u001b[49m\u001b[38;5;241;43m=\u001b[39;49m\u001b[38;5;167;43;01mValueError\u001b[39;49;00m\u001b[43m)\u001b[49m\n",
      "File \u001b[0;32m~/.local/share/virtualenvs/DM2-PeqFRmfa/lib/python3.10/site-packages/optuna/study/study.py:443\u001b[0m, in \u001b[0;36mStudy.optimize\u001b[0;34m(self, func, n_trials, timeout, n_jobs, catch, callbacks, gc_after_trial, show_progress_bar)\u001b[0m\n\u001b[1;32m    339\u001b[0m \u001b[38;5;28;01mdef\u001b[39;00m \u001b[38;5;21moptimize\u001b[39m(\n\u001b[1;32m    340\u001b[0m     \u001b[38;5;28mself\u001b[39m,\n\u001b[1;32m    341\u001b[0m     func: ObjectiveFuncType,\n\u001b[0;32m   (...)\u001b[0m\n\u001b[1;32m    348\u001b[0m     show_progress_bar: \u001b[38;5;28mbool\u001b[39m \u001b[38;5;241m=\u001b[39m \u001b[38;5;28;01mFalse\u001b[39;00m,\n\u001b[1;32m    349\u001b[0m ) \u001b[38;5;241m-\u001b[39m\u001b[38;5;241m>\u001b[39m \u001b[38;5;28;01mNone\u001b[39;00m:\n\u001b[1;32m    350\u001b[0m \u001b[38;5;250m    \u001b[39m\u001b[38;5;124;03m\"\"\"Optimize an objective function.\u001b[39;00m\n\u001b[1;32m    351\u001b[0m \n\u001b[1;32m    352\u001b[0m \u001b[38;5;124;03m    Optimization is done by choosing a suitable set of hyperparameter values from a given\u001b[39;00m\n\u001b[0;32m   (...)\u001b[0m\n\u001b[1;32m    440\u001b[0m \u001b[38;5;124;03m            If nested invocation of this method occurs.\u001b[39;00m\n\u001b[1;32m    441\u001b[0m \u001b[38;5;124;03m    \"\"\"\u001b[39;00m\n\u001b[0;32m--> 443\u001b[0m     \u001b[43m_optimize\u001b[49m\u001b[43m(\u001b[49m\n\u001b[1;32m    444\u001b[0m \u001b[43m        \u001b[49m\u001b[43mstudy\u001b[49m\u001b[38;5;241;43m=\u001b[39;49m\u001b[38;5;28;43mself\u001b[39;49m\u001b[43m,\u001b[49m\n\u001b[1;32m    445\u001b[0m \u001b[43m        \u001b[49m\u001b[43mfunc\u001b[49m\u001b[38;5;241;43m=\u001b[39;49m\u001b[43mfunc\u001b[49m\u001b[43m,\u001b[49m\n\u001b[1;32m    446\u001b[0m \u001b[43m        \u001b[49m\u001b[43mn_trials\u001b[49m\u001b[38;5;241;43m=\u001b[39;49m\u001b[43mn_trials\u001b[49m\u001b[43m,\u001b[49m\n\u001b[1;32m    447\u001b[0m \u001b[43m        \u001b[49m\u001b[43mtimeout\u001b[49m\u001b[38;5;241;43m=\u001b[39;49m\u001b[43mtimeout\u001b[49m\u001b[43m,\u001b[49m\n\u001b[1;32m    448\u001b[0m \u001b[43m        \u001b[49m\u001b[43mn_jobs\u001b[49m\u001b[38;5;241;43m=\u001b[39;49m\u001b[43mn_jobs\u001b[49m\u001b[43m,\u001b[49m\n\u001b[1;32m    449\u001b[0m \u001b[43m        \u001b[49m\u001b[43mcatch\u001b[49m\u001b[38;5;241;43m=\u001b[39;49m\u001b[38;5;28;43mtuple\u001b[39;49m\u001b[43m(\u001b[49m\u001b[43mcatch\u001b[49m\u001b[43m)\u001b[49m\u001b[43m \u001b[49m\u001b[38;5;28;43;01mif\u001b[39;49;00m\u001b[43m \u001b[49m\u001b[38;5;28;43misinstance\u001b[39;49m\u001b[43m(\u001b[49m\u001b[43mcatch\u001b[49m\u001b[43m,\u001b[49m\u001b[43m \u001b[49m\u001b[43mIterable\u001b[49m\u001b[43m)\u001b[49m\u001b[43m \u001b[49m\u001b[38;5;28;43;01melse\u001b[39;49;00m\u001b[43m \u001b[49m\u001b[43m(\u001b[49m\u001b[43mcatch\u001b[49m\u001b[43m,\u001b[49m\u001b[43m)\u001b[49m\u001b[43m,\u001b[49m\n\u001b[1;32m    450\u001b[0m \u001b[43m        \u001b[49m\u001b[43mcallbacks\u001b[49m\u001b[38;5;241;43m=\u001b[39;49m\u001b[43mcallbacks\u001b[49m\u001b[43m,\u001b[49m\n\u001b[1;32m    451\u001b[0m \u001b[43m        \u001b[49m\u001b[43mgc_after_trial\u001b[49m\u001b[38;5;241;43m=\u001b[39;49m\u001b[43mgc_after_trial\u001b[49m\u001b[43m,\u001b[49m\n\u001b[1;32m    452\u001b[0m \u001b[43m        \u001b[49m\u001b[43mshow_progress_bar\u001b[49m\u001b[38;5;241;43m=\u001b[39;49m\u001b[43mshow_progress_bar\u001b[49m\u001b[43m,\u001b[49m\n\u001b[1;32m    453\u001b[0m \u001b[43m    \u001b[49m\u001b[43m)\u001b[49m\n",
      "File \u001b[0;32m~/.local/share/virtualenvs/DM2-PeqFRmfa/lib/python3.10/site-packages/optuna/study/_optimize.py:103\u001b[0m, in \u001b[0;36m_optimize\u001b[0;34m(study, func, n_trials, timeout, n_jobs, catch, callbacks, gc_after_trial, show_progress_bar)\u001b[0m\n\u001b[1;32m    101\u001b[0m                     \u001b[38;5;66;03m# Raise if exception occurred in executing the completed futures.\u001b[39;00m\n\u001b[1;32m    102\u001b[0m                     \u001b[38;5;28;01mfor\u001b[39;00m f \u001b[38;5;129;01min\u001b[39;00m completed:\n\u001b[0;32m--> 103\u001b[0m                         \u001b[43mf\u001b[49m\u001b[38;5;241;43m.\u001b[39;49m\u001b[43mresult\u001b[49m\u001b[43m(\u001b[49m\u001b[43m)\u001b[49m\n\u001b[1;32m    105\u001b[0m                 futures\u001b[38;5;241m.\u001b[39madd(\n\u001b[1;32m    106\u001b[0m                     executor\u001b[38;5;241m.\u001b[39msubmit(\n\u001b[1;32m    107\u001b[0m                         _optimize_sequential,\n\u001b[0;32m   (...)\u001b[0m\n\u001b[1;32m    118\u001b[0m                     )\n\u001b[1;32m    119\u001b[0m                 )\n\u001b[1;32m    120\u001b[0m \u001b[38;5;28;01mfinally\u001b[39;00m:\n",
      "File \u001b[0;32m/usr/lib/python3.10/concurrent/futures/_base.py:451\u001b[0m, in \u001b[0;36mFuture.result\u001b[0;34m(self, timeout)\u001b[0m\n\u001b[1;32m    449\u001b[0m     \u001b[38;5;28;01mraise\u001b[39;00m CancelledError()\n\u001b[1;32m    450\u001b[0m \u001b[38;5;28;01melif\u001b[39;00m \u001b[38;5;28mself\u001b[39m\u001b[38;5;241m.\u001b[39m_state \u001b[38;5;241m==\u001b[39m FINISHED:\n\u001b[0;32m--> 451\u001b[0m     \u001b[38;5;28;01mreturn\u001b[39;00m \u001b[38;5;28;43mself\u001b[39;49m\u001b[38;5;241;43m.\u001b[39;49m\u001b[43m__get_result\u001b[49m\u001b[43m(\u001b[49m\u001b[43m)\u001b[49m\n\u001b[1;32m    453\u001b[0m \u001b[38;5;28mself\u001b[39m\u001b[38;5;241m.\u001b[39m_condition\u001b[38;5;241m.\u001b[39mwait(timeout)\n\u001b[1;32m    455\u001b[0m \u001b[38;5;28;01mif\u001b[39;00m \u001b[38;5;28mself\u001b[39m\u001b[38;5;241m.\u001b[39m_state \u001b[38;5;129;01min\u001b[39;00m [CANCELLED, CANCELLED_AND_NOTIFIED]:\n",
      "File \u001b[0;32m/usr/lib/python3.10/concurrent/futures/_base.py:403\u001b[0m, in \u001b[0;36mFuture.__get_result\u001b[0;34m(self)\u001b[0m\n\u001b[1;32m    401\u001b[0m \u001b[38;5;28;01mif\u001b[39;00m \u001b[38;5;28mself\u001b[39m\u001b[38;5;241m.\u001b[39m_exception:\n\u001b[1;32m    402\u001b[0m     \u001b[38;5;28;01mtry\u001b[39;00m:\n\u001b[0;32m--> 403\u001b[0m         \u001b[38;5;28;01mraise\u001b[39;00m \u001b[38;5;28mself\u001b[39m\u001b[38;5;241m.\u001b[39m_exception\n\u001b[1;32m    404\u001b[0m     \u001b[38;5;28;01mfinally\u001b[39;00m:\n\u001b[1;32m    405\u001b[0m         \u001b[38;5;66;03m# Break a reference cycle with the exception in self._exception\u001b[39;00m\n\u001b[1;32m    406\u001b[0m         \u001b[38;5;28mself\u001b[39m \u001b[38;5;241m=\u001b[39m \u001b[38;5;28;01mNone\u001b[39;00m\n",
      "File \u001b[0;32m/usr/lib/python3.10/concurrent/futures/thread.py:58\u001b[0m, in \u001b[0;36m_WorkItem.run\u001b[0;34m(self)\u001b[0m\n\u001b[1;32m     55\u001b[0m     \u001b[38;5;28;01mreturn\u001b[39;00m\n\u001b[1;32m     57\u001b[0m \u001b[38;5;28;01mtry\u001b[39;00m:\n\u001b[0;32m---> 58\u001b[0m     result \u001b[38;5;241m=\u001b[39m \u001b[38;5;28;43mself\u001b[39;49m\u001b[38;5;241;43m.\u001b[39;49m\u001b[43mfn\u001b[49m\u001b[43m(\u001b[49m\u001b[38;5;241;43m*\u001b[39;49m\u001b[38;5;28;43mself\u001b[39;49m\u001b[38;5;241;43m.\u001b[39;49m\u001b[43margs\u001b[49m\u001b[43m,\u001b[49m\u001b[43m \u001b[49m\u001b[38;5;241;43m*\u001b[39;49m\u001b[38;5;241;43m*\u001b[39;49m\u001b[38;5;28;43mself\u001b[39;49m\u001b[38;5;241;43m.\u001b[39;49m\u001b[43mkwargs\u001b[49m\u001b[43m)\u001b[49m\n\u001b[1;32m     59\u001b[0m \u001b[38;5;28;01mexcept\u001b[39;00m \u001b[38;5;167;01mBaseException\u001b[39;00m \u001b[38;5;28;01mas\u001b[39;00m exc:\n\u001b[1;32m     60\u001b[0m     \u001b[38;5;28mself\u001b[39m\u001b[38;5;241m.\u001b[39mfuture\u001b[38;5;241m.\u001b[39mset_exception(exc)\n",
      "File \u001b[0;32m~/.local/share/virtualenvs/DM2-PeqFRmfa/lib/python3.10/site-packages/optuna/study/_optimize.py:163\u001b[0m, in \u001b[0;36m_optimize_sequential\u001b[0;34m(study, func, n_trials, timeout, catch, callbacks, gc_after_trial, reseed_sampler_rng, time_start, progress_bar)\u001b[0m\n\u001b[1;32m    160\u001b[0m         \u001b[38;5;28;01mbreak\u001b[39;00m\n\u001b[1;32m    162\u001b[0m \u001b[38;5;28;01mtry\u001b[39;00m:\n\u001b[0;32m--> 163\u001b[0m     frozen_trial \u001b[38;5;241m=\u001b[39m \u001b[43m_run_trial\u001b[49m\u001b[43m(\u001b[49m\u001b[43mstudy\u001b[49m\u001b[43m,\u001b[49m\u001b[43m \u001b[49m\u001b[43mfunc\u001b[49m\u001b[43m,\u001b[49m\u001b[43m \u001b[49m\u001b[43mcatch\u001b[49m\u001b[43m)\u001b[49m\n\u001b[1;32m    164\u001b[0m \u001b[38;5;28;01mfinally\u001b[39;00m:\n\u001b[1;32m    165\u001b[0m     \u001b[38;5;66;03m# The following line mitigates memory problems that can be occurred in some\u001b[39;00m\n\u001b[1;32m    166\u001b[0m     \u001b[38;5;66;03m# environments (e.g., services that use computing containers such as GitHub Actions).\u001b[39;00m\n\u001b[1;32m    167\u001b[0m     \u001b[38;5;66;03m# Please refer to the following PR for further details:\u001b[39;00m\n\u001b[1;32m    168\u001b[0m     \u001b[38;5;66;03m# https://github.com/optuna/optuna/pull/325.\u001b[39;00m\n\u001b[1;32m    169\u001b[0m     \u001b[38;5;28;01mif\u001b[39;00m gc_after_trial:\n",
      "File \u001b[0;32m~/.local/share/virtualenvs/DM2-PeqFRmfa/lib/python3.10/site-packages/optuna/study/_optimize.py:251\u001b[0m, in \u001b[0;36m_run_trial\u001b[0;34m(study, func, catch)\u001b[0m\n\u001b[1;32m    244\u001b[0m         \u001b[38;5;28;01massert\u001b[39;00m \u001b[38;5;28;01mFalse\u001b[39;00m, \u001b[38;5;124m\"\u001b[39m\u001b[38;5;124mShould not reach.\u001b[39m\u001b[38;5;124m\"\u001b[39m\n\u001b[1;32m    246\u001b[0m \u001b[38;5;28;01mif\u001b[39;00m (\n\u001b[1;32m    247\u001b[0m     frozen_trial\u001b[38;5;241m.\u001b[39mstate \u001b[38;5;241m==\u001b[39m TrialState\u001b[38;5;241m.\u001b[39mFAIL\n\u001b[1;32m    248\u001b[0m     \u001b[38;5;129;01mand\u001b[39;00m func_err \u001b[38;5;129;01mis\u001b[39;00m \u001b[38;5;129;01mnot\u001b[39;00m \u001b[38;5;28;01mNone\u001b[39;00m\n\u001b[1;32m    249\u001b[0m     \u001b[38;5;129;01mand\u001b[39;00m \u001b[38;5;129;01mnot\u001b[39;00m \u001b[38;5;28misinstance\u001b[39m(func_err, catch)\n\u001b[1;32m    250\u001b[0m ):\n\u001b[0;32m--> 251\u001b[0m     \u001b[38;5;28;01mraise\u001b[39;00m func_err\n\u001b[1;32m    252\u001b[0m \u001b[38;5;28;01mreturn\u001b[39;00m frozen_trial\n",
      "File \u001b[0;32m~/.local/share/virtualenvs/DM2-PeqFRmfa/lib/python3.10/site-packages/optuna/study/_optimize.py:200\u001b[0m, in \u001b[0;36m_run_trial\u001b[0;34m(study, func, catch)\u001b[0m\n\u001b[1;32m    198\u001b[0m \u001b[38;5;28;01mwith\u001b[39;00m get_heartbeat_thread(trial\u001b[38;5;241m.\u001b[39m_trial_id, study\u001b[38;5;241m.\u001b[39m_storage):\n\u001b[1;32m    199\u001b[0m     \u001b[38;5;28;01mtry\u001b[39;00m:\n\u001b[0;32m--> 200\u001b[0m         value_or_values \u001b[38;5;241m=\u001b[39m \u001b[43mfunc\u001b[49m\u001b[43m(\u001b[49m\u001b[43mtrial\u001b[49m\u001b[43m)\u001b[49m\n\u001b[1;32m    201\u001b[0m     \u001b[38;5;28;01mexcept\u001b[39;00m exceptions\u001b[38;5;241m.\u001b[39mTrialPruned \u001b[38;5;28;01mas\u001b[39;00m e:\n\u001b[1;32m    202\u001b[0m         \u001b[38;5;66;03m# TODO(mamu): Handle multi-objective cases.\u001b[39;00m\n\u001b[1;32m    203\u001b[0m         state \u001b[38;5;241m=\u001b[39m TrialState\u001b[38;5;241m.\u001b[39mPRUNED\n",
      "Cell \u001b[0;32mIn[48], line 2\u001b[0m, in \u001b[0;36m<lambda>\u001b[0;34m(trial)\u001b[0m\n\u001b[1;32m      1\u001b[0m study \u001b[38;5;241m=\u001b[39m optuna\u001b[38;5;241m.\u001b[39mcreate_study(direction\u001b[38;5;241m=\u001b[39m\u001b[38;5;124m'\u001b[39m\u001b[38;5;124mmaximize\u001b[39m\u001b[38;5;124m'\u001b[39m)\n\u001b[0;32m----> 2\u001b[0m trial_function \u001b[38;5;241m=\u001b[39m \u001b[38;5;28;01mlambda\u001b[39;00m trial: \u001b[43mobjective_fun\u001b[49m\u001b[43m(\u001b[49m\u001b[43mtrial\u001b[49m\u001b[43m,\u001b[49m\u001b[43m \u001b[49m\u001b[43mX_train\u001b[49m\u001b[43m,\u001b[49m\u001b[43m \u001b[49m\u001b[43my_train\u001b[49m\u001b[43m \u001b[49m\u001b[43m)\u001b[49m\n\u001b[1;32m      3\u001b[0m study\u001b[38;5;241m.\u001b[39moptimize(trial_function, n_trials\u001b[38;5;241m=\u001b[39m\u001b[38;5;241m150\u001b[39m, n_jobs\u001b[38;5;241m=\u001b[39m\u001b[38;5;241m-\u001b[39m\u001b[38;5;241m1\u001b[39m, catch\u001b[38;5;241m=\u001b[39m\u001b[38;5;167;01mValueError\u001b[39;00m)\n",
      "Cell \u001b[0;32mIn[46], line 15\u001b[0m, in \u001b[0;36mobjective_fun\u001b[0;34m(trial, X, y)\u001b[0m\n\u001b[1;32m     11\u001b[0m epochs \u001b[38;5;241m=\u001b[39m trial\u001b[38;5;241m.\u001b[39msuggest_int(\u001b[38;5;124m'\u001b[39m\u001b[38;5;124mepochs\u001b[39m\u001b[38;5;124m'\u001b[39m, \u001b[38;5;241m5\u001b[39m, \u001b[38;5;241m90\u001b[39m)\n\u001b[1;32m     13\u001b[0m \u001b[38;5;28mprint\u001b[39m(\u001b[38;5;124mf\u001b[39m\u001b[38;5;124m\"\u001b[39m\u001b[38;5;124mRunning little bitch having n_conv=\u001b[39m\u001b[38;5;132;01m{\u001b[39;00mn_conv\u001b[38;5;132;01m}\u001b[39;00m\u001b[38;5;124m, dropout=\u001b[39m\u001b[38;5;132;01m{\u001b[39;00mdropout\u001b[38;5;132;01m}\u001b[39;00m\u001b[38;5;124m, hidden_nodes=\u001b[39m\u001b[38;5;132;01m{\u001b[39;00mhidden_nodes\u001b[38;5;132;01m}\u001b[39;00m\u001b[38;5;124m\"\u001b[39m)\n\u001b[0;32m---> 15\u001b[0m cnn \u001b[38;5;241m=\u001b[39m \u001b[43mbuild_model\u001b[49m\u001b[43m(\u001b[49m\u001b[43m  \u001b[49m\u001b[43mX\u001b[49m\u001b[38;5;241;43m.\u001b[39;49m\u001b[43mshape\u001b[49m\u001b[43m,\u001b[49m\n\u001b[1;32m     16\u001b[0m \u001b[43m                    \u001b[49m\u001b[43mn_hidden\u001b[49m\u001b[38;5;241;43m=\u001b[39;49m\u001b[43mn_hidden\u001b[49m\u001b[43m,\u001b[49m\n\u001b[1;32m     17\u001b[0m \u001b[43m                    \u001b[49m\u001b[43mhidden_nodes\u001b[49m\u001b[38;5;241;43m=\u001b[39;49m\u001b[43mhidden_nodes\u001b[49m\u001b[43m,\u001b[49m\n\u001b[1;32m     18\u001b[0m \u001b[43m                    \u001b[49m\u001b[43mn_conv\u001b[49m\u001b[38;5;241;43m=\u001b[39;49m\u001b[43mn_conv\u001b[49m\u001b[43m,\u001b[49m\n\u001b[1;32m     19\u001b[0m \u001b[43m                    \u001b[49m\u001b[43mdropout\u001b[49m\u001b[38;5;241;43m=\u001b[39;49m\u001b[43mdropout\u001b[49m\u001b[43m,\u001b[49m\n\u001b[1;32m     20\u001b[0m \u001b[43m                    \u001b[49m\u001b[43mfilters\u001b[49m\u001b[38;5;241;43m=\u001b[39;49m\u001b[43mfilters\u001b[49m\u001b[43m,\u001b[49m\n\u001b[1;32m     21\u001b[0m \u001b[43m                    \u001b[49m\u001b[43mkernel_size\u001b[49m\u001b[38;5;241;43m=\u001b[39;49m\u001b[43mkernel_size\u001b[49m\u001b[43m,\u001b[49m\n\u001b[1;32m     22\u001b[0m \u001b[43m                   \u001b[49m\u001b[43m)\u001b[49m\n\u001b[1;32m     24\u001b[0m cnn\u001b[38;5;241m.\u001b[39mfit(X, y, batch_size\u001b[38;5;241m=\u001b[39mbatch_size, epochs\u001b[38;5;241m=\u001b[39mepochs, verbose\u001b[38;5;241m=\u001b[39mverbose)\n\u001b[1;32m     26\u001b[0m y_pred \u001b[38;5;241m=\u001b[39m np\u001b[38;5;241m.\u001b[39margmax(cnn\u001b[38;5;241m.\u001b[39mpredict(X_valid), axis\u001b[38;5;241m=\u001b[39m\u001b[38;5;241m1\u001b[39m)\n",
      "\u001b[0;31mTypeError\u001b[0m: build_model() missing 1 required positional argument: 'n_categories'"
     ]
    }
   ],
   "source": [
    "study = optuna.create_study(direction='maximize')\n",
    "trial_function = lambda trial: objective_fun(trial, X_train, y_train )\n",
    "study.optimize(trial_function, n_trials=150, n_jobs=-1, catch=ValueError)"
   ]
  },
  {
   "cell_type": "code",
   "execution_count": 32,
   "metadata": {},
   "outputs": [
    {
     "name": "stdout",
     "output_type": "stream",
     "text": [
      "Model: \"sequential_5\"\n",
      "_________________________________________________________________\n",
      " Layer (type)                Output Shape              Param #   \n",
      "=================================================================\n",
      " base_conv (Conv1D)          (None, 10, 8)             2584      \n",
      "                                                                 \n",
      " batch_normalization_11 (Bat  (None, 10, 8)            32        \n",
      " chNormalization)                                                \n",
      "                                                                 \n",
      " activation_11 (Activation)  (None, 10, 8)             0         \n",
      "                                                                 \n",
      " global_average_pooling1d_5   (None, 8)                0         \n",
      " (GlobalAveragePooling1D)                                        \n",
      "                                                                 \n",
      " dense_16 (Dense)            (None, 248)               2232      \n",
      "                                                                 \n",
      " dense_17 (Dense)            (None, 2)                 498       \n",
      "                                                                 \n",
      "=================================================================\n",
      "Total params: 5,346\n",
      "Trainable params: 5,330\n",
      "Non-trainable params: 16\n",
      "_________________________________________________________________\n"
     ]
    }
   ],
   "source": [
    "best_params = study.best_params\n",
    "best_params = dict(n_conv=0, n_hidden=1, hidden_nodes=248, dropout=0.752200, filters=8, kernel_size=14, batch_size=19, epochs=75)\n",
    "cnn = build_and_fit_cnn(**best_params)\n",
    "cnn.summary()"
   ]
  },
  {
   "cell_type": "code",
   "execution_count": 33,
   "metadata": {},
   "outputs": [
    {
     "ename": "ValueError",
     "evalue": "in user code:\n\n    File \"/home/djanloo/.local/share/virtualenvs/DM2-PeqFRmfa/lib/python3.10/site-packages/keras/engine/training.py\", line 2169, in predict_function  *\n        return step_function(self, iterator)\n    File \"/home/djanloo/.local/share/virtualenvs/DM2-PeqFRmfa/lib/python3.10/site-packages/keras/engine/training.py\", line 2155, in step_function  **\n        outputs = model.distribute_strategy.run(run_step, args=(data,))\n    File \"/home/djanloo/.local/share/virtualenvs/DM2-PeqFRmfa/lib/python3.10/site-packages/keras/engine/training.py\", line 2143, in run_step  **\n        outputs = model.predict_step(data)\n    File \"/home/djanloo/.local/share/virtualenvs/DM2-PeqFRmfa/lib/python3.10/site-packages/keras/engine/training.py\", line 2111, in predict_step\n        return self(x, training=False)\n    File \"/home/djanloo/.local/share/virtualenvs/DM2-PeqFRmfa/lib/python3.10/site-packages/keras/utils/traceback_utils.py\", line 70, in error_handler\n        raise e.with_traceback(filtered_tb) from None\n    File \"/home/djanloo/.local/share/virtualenvs/DM2-PeqFRmfa/lib/python3.10/site-packages/keras/engine/input_spec.py\", line 298, in assert_input_compatibility\n        raise ValueError(\n\n    ValueError: Input 0 of layer \"sequential_5\" is incompatible with the layer: expected shape=(None, 23, 23), found shape=(None, 54, 54)\n",
     "output_type": "error",
     "traceback": [
      "\u001b[0;31m---------------------------------------------------------------------------\u001b[0m",
      "\u001b[0;31mValueError\u001b[0m                                Traceback (most recent call last)",
      "Cell \u001b[0;32mIn[33], line 3\u001b[0m\n\u001b[1;32m      1\u001b[0m \u001b[38;5;28;01mfrom\u001b[39;00m \u001b[38;5;21;01msklearn\u001b[39;00m\u001b[38;5;21;01m.\u001b[39;00m\u001b[38;5;21;01mmetrics\u001b[39;00m \u001b[38;5;28;01mimport\u001b[39;00m f1_score, classification_report, cohen_kappa_score\n\u001b[0;32m----> 3\u001b[0m y_pred \u001b[38;5;241m=\u001b[39m np\u001b[38;5;241m.\u001b[39margmax(\u001b[43mcnn\u001b[49m\u001b[38;5;241;43m.\u001b[39;49m\u001b[43mpredict\u001b[49m\u001b[43m(\u001b[49m\u001b[43mX_test\u001b[49m\u001b[43m)\u001b[49m, axis\u001b[38;5;241m=\u001b[39m\u001b[38;5;241m1\u001b[39m)\n\u001b[1;32m      5\u001b[0m \u001b[38;5;28mprint\u001b[39m(\u001b[38;5;124mf\u001b[39m\u001b[38;5;124m'\u001b[39m\u001b[38;5;124mCohen k \u001b[39m\u001b[38;5;132;01m{\u001b[39;00mcohen_kappa_score(y_test,\u001b[38;5;250m \u001b[39my_pred)\u001b[38;5;132;01m}\u001b[39;00m\u001b[38;5;124m'\u001b[39m)\n\u001b[1;32m      6\u001b[0m \u001b[38;5;28mprint\u001b[39m(\u001b[38;5;124m'\u001b[39m\u001b[38;5;124mAccuracy \u001b[39m\u001b[38;5;132;01m%s\u001b[39;00m\u001b[38;5;124m'\u001b[39m \u001b[38;5;241m%\u001b[39m accuracy_score(y_test, y_pred))\n",
      "File \u001b[0;32m~/.local/share/virtualenvs/DM2-PeqFRmfa/lib/python3.10/site-packages/keras/utils/traceback_utils.py:70\u001b[0m, in \u001b[0;36mfilter_traceback.<locals>.error_handler\u001b[0;34m(*args, **kwargs)\u001b[0m\n\u001b[1;32m     67\u001b[0m     filtered_tb \u001b[38;5;241m=\u001b[39m _process_traceback_frames(e\u001b[38;5;241m.\u001b[39m__traceback__)\n\u001b[1;32m     68\u001b[0m     \u001b[38;5;66;03m# To get the full stack trace, call:\u001b[39;00m\n\u001b[1;32m     69\u001b[0m     \u001b[38;5;66;03m# `tf.debugging.disable_traceback_filtering()`\u001b[39;00m\n\u001b[0;32m---> 70\u001b[0m     \u001b[38;5;28;01mraise\u001b[39;00m e\u001b[38;5;241m.\u001b[39mwith_traceback(filtered_tb) \u001b[38;5;28;01mfrom\u001b[39;00m \u001b[38;5;28;01mNone\u001b[39;00m\n\u001b[1;32m     71\u001b[0m \u001b[38;5;28;01mfinally\u001b[39;00m:\n\u001b[1;32m     72\u001b[0m     \u001b[38;5;28;01mdel\u001b[39;00m filtered_tb\n",
      "File \u001b[0;32m/tmp/__autograph_generated_fileguewf2iv.py:15\u001b[0m, in \u001b[0;36mouter_factory.<locals>.inner_factory.<locals>.tf__predict_function\u001b[0;34m(iterator)\u001b[0m\n\u001b[1;32m     13\u001b[0m \u001b[38;5;28;01mtry\u001b[39;00m:\n\u001b[1;32m     14\u001b[0m     do_return \u001b[38;5;241m=\u001b[39m \u001b[38;5;28;01mTrue\u001b[39;00m\n\u001b[0;32m---> 15\u001b[0m     retval_ \u001b[38;5;241m=\u001b[39m ag__\u001b[38;5;241m.\u001b[39mconverted_call(ag__\u001b[38;5;241m.\u001b[39mld(step_function), (ag__\u001b[38;5;241m.\u001b[39mld(\u001b[38;5;28mself\u001b[39m), ag__\u001b[38;5;241m.\u001b[39mld(iterator)), \u001b[38;5;28;01mNone\u001b[39;00m, fscope)\n\u001b[1;32m     16\u001b[0m \u001b[38;5;28;01mexcept\u001b[39;00m:\n\u001b[1;32m     17\u001b[0m     do_return \u001b[38;5;241m=\u001b[39m \u001b[38;5;28;01mFalse\u001b[39;00m\n",
      "\u001b[0;31mValueError\u001b[0m: in user code:\n\n    File \"/home/djanloo/.local/share/virtualenvs/DM2-PeqFRmfa/lib/python3.10/site-packages/keras/engine/training.py\", line 2169, in predict_function  *\n        return step_function(self, iterator)\n    File \"/home/djanloo/.local/share/virtualenvs/DM2-PeqFRmfa/lib/python3.10/site-packages/keras/engine/training.py\", line 2155, in step_function  **\n        outputs = model.distribute_strategy.run(run_step, args=(data,))\n    File \"/home/djanloo/.local/share/virtualenvs/DM2-PeqFRmfa/lib/python3.10/site-packages/keras/engine/training.py\", line 2143, in run_step  **\n        outputs = model.predict_step(data)\n    File \"/home/djanloo/.local/share/virtualenvs/DM2-PeqFRmfa/lib/python3.10/site-packages/keras/engine/training.py\", line 2111, in predict_step\n        return self(x, training=False)\n    File \"/home/djanloo/.local/share/virtualenvs/DM2-PeqFRmfa/lib/python3.10/site-packages/keras/utils/traceback_utils.py\", line 70, in error_handler\n        raise e.with_traceback(filtered_tb) from None\n    File \"/home/djanloo/.local/share/virtualenvs/DM2-PeqFRmfa/lib/python3.10/site-packages/keras/engine/input_spec.py\", line 298, in assert_input_compatibility\n        raise ValueError(\n\n    ValueError: Input 0 of layer \"sequential_5\" is incompatible with the layer: expected shape=(None, 23, 23), found shape=(None, 54, 54)\n"
     ]
    }
   ],
   "source": [
    "from sklearn.metrics import f1_score, classification_report, cohen_kappa_score\n",
    "\n",
    "y_pred = np.argmax(cnn.predict(X_test), axis=1)\n",
    "\n",
    "print(f'Cohen k {cohen_kappa_score(y_test, y_pred)}')\n",
    "print('Accuracy %s' % accuracy_score(y_test, y_pred))\n",
    "print('F1-score %s' % f1_score(y_test, y_pred, average=None))\n",
    "print(classification_report(y_test, y_pred))"
   ]
  },
  {
   "cell_type": "code",
   "execution_count": null,
   "metadata": {},
   "outputs": [],
   "source": []
  }
 ],
 "metadata": {
  "kernelspec": {
   "display_name": "DM2",
   "language": "python",
   "name": "dm2"
  },
  "language_info": {
   "codemirror_mode": {
    "name": "ipython",
    "version": 3
   },
   "file_extension": ".py",
   "mimetype": "text/x-python",
   "name": "python",
   "nbconvert_exporter": "python",
   "pygments_lexer": "ipython3",
   "version": "3.10.6"
  }
 },
 "nbformat": 4,
 "nbformat_minor": 1
}
