{
 "cells": [
  {
   "cell_type": "code",
   "execution_count": 1,
   "metadata": {
    "ExecuteTime": {
     "end_time": "2023-06-25T16:50:55.153120Z",
     "start_time": "2023-06-25T16:50:55.151410Z"
    }
   },
   "outputs": [],
   "source": [
    "import os\n",
    "import numpy as np\n",
    "import pandas as pd\n",
    "import matplotlib.pyplot as plt\n",
    "import seaborn as sns; sns.set()\n",
    "\n",
    "import sys\n",
    "sys.path.append('../')\n",
    "import default_style"
   ]
  },
  {
   "cell_type": "code",
   "execution_count": 2,
   "metadata": {
    "ExecuteTime": {
     "end_time": "2023-06-25T16:50:55.156213Z",
     "start_time": "2023-06-25T16:50:55.153699Z"
    }
   },
   "outputs": [],
   "source": [
    "TS_DATASET_FOLDER = os.path.join('..', 'dataset')\n",
    "TS_PREPROC_FOLDER = os.path.join(TS_DATASET_FOLDER, 'preprocessed_traces')\n",
    "DF_PREPROC_FILE = os.path.join(TS_PREPROC_FOLDER, 'preproc_ts.df')\n",
    "\n",
    "TARGET = 'statement'\n",
    "TRACES = 'syllables_02_STFT'"
   ]
  },
  {
   "cell_type": "code",
   "execution_count": 3,
   "metadata": {
    "ExecuteTime": {
     "end_time": "2023-06-25T16:50:55.181504Z",
     "start_time": "2023-06-25T16:50:55.156460Z"
    }
   },
   "outputs": [
    {
     "data": {
      "text/html": [
       "<div>\n",
       "<style scoped>\n",
       "    .dataframe tbody tr th:only-of-type {\n",
       "        vertical-align: middle;\n",
       "    }\n",
       "\n",
       "    .dataframe tbody tr th {\n",
       "        vertical-align: top;\n",
       "    }\n",
       "\n",
       "    .dataframe thead th {\n",
       "        text-align: right;\n",
       "    }\n",
       "</style>\n",
       "<table border=\"1\" class=\"dataframe\">\n",
       "  <thead>\n",
       "    <tr style=\"text-align: right;\">\n",
       "      <th></th>\n",
       "      <th>vocal_channel</th>\n",
       "      <th>emotion</th>\n",
       "      <th>emotional_intensity</th>\n",
       "      <th>statement</th>\n",
       "      <th>repetition</th>\n",
       "      <th>actor</th>\n",
       "      <th>path</th>\n",
       "      <th>sex</th>\n",
       "      <th>begin_s</th>\n",
       "      <th>end_s</th>\n",
       "      <th>fourier_coeffs</th>\n",
       "      <th>filtered_fourier_coeffs</th>\n",
       "      <th>syll_0_start_index</th>\n",
       "      <th>syll_1_start_index</th>\n",
       "      <th>syll_2_start_index</th>\n",
       "      <th>syll_3_start_index</th>\n",
       "      <th>syll_4_start_index</th>\n",
       "      <th>syll_5_start_index</th>\n",
       "      <th>syll_6_start_index</th>\n",
       "      <th>syll_7_start_index</th>\n",
       "    </tr>\n",
       "  </thead>\n",
       "  <tbody>\n",
       "    <tr>\n",
       "      <th>0</th>\n",
       "      <td>speech</td>\n",
       "      <td>happy</td>\n",
       "      <td>normal</td>\n",
       "      <td>kids</td>\n",
       "      <td>2nd</td>\n",
       "      <td>actor_01</td>\n",
       "      <td>../dataset/Audio_Speech_Actors_01-24/Actor_01/...</td>\n",
       "      <td>M</td>\n",
       "      <td>1.061167</td>\n",
       "      <td>2.701833</td>\n",
       "      <td>[5.9604645e-08 9.2448331e-02 7.0120022e-02 ......</td>\n",
       "      <td>[5.9604645e-08 9.2448264e-02 7.0119813e-02 ......</td>\n",
       "      <td>0</td>\n",
       "      <td>1304</td>\n",
       "      <td>2464</td>\n",
       "      <td>3832</td>\n",
       "      <td>4680</td>\n",
       "      <td>5664</td>\n",
       "      <td>6488</td>\n",
       "      <td>9840</td>\n",
       "    </tr>\n",
       "    <tr>\n",
       "      <th>1</th>\n",
       "      <td>speech</td>\n",
       "      <td>calm</td>\n",
       "      <td>strong</td>\n",
       "      <td>dogs</td>\n",
       "      <td>2nd</td>\n",
       "      <td>actor_01</td>\n",
       "      <td>../dataset/Audio_Speech_Actors_01-24/Actor_01/...</td>\n",
       "      <td>M</td>\n",
       "      <td>1.020167</td>\n",
       "      <td>2.983000</td>\n",
       "      <td>[3.3713877e-07 6.0990662e-03 8.3317356e-03 ......</td>\n",
       "      <td>[3.3713877e-07 6.0990625e-03 8.3317189e-03 ......</td>\n",
       "      <td>0</td>\n",
       "      <td>2112</td>\n",
       "      <td>5664</td>\n",
       "      <td>6304</td>\n",
       "      <td>6840</td>\n",
       "      <td>7704</td>\n",
       "      <td>9304</td>\n",
       "      <td>11776</td>\n",
       "    </tr>\n",
       "    <tr>\n",
       "      <th>2</th>\n",
       "      <td>speech</td>\n",
       "      <td>fearful</td>\n",
       "      <td>normal</td>\n",
       "      <td>kids</td>\n",
       "      <td>2nd</td>\n",
       "      <td>actor_01</td>\n",
       "      <td>../dataset/Audio_Speech_Actors_01-24/Actor_01/...</td>\n",
       "      <td>M</td>\n",
       "      <td>1.057000</td>\n",
       "      <td>2.642500</td>\n",
       "      <td>[4.5448542e-07 2.2871135e-02 2.1308422e-02 ......</td>\n",
       "      <td>[4.5448542e-07 2.2871116e-02 2.1308355e-02 ......</td>\n",
       "      <td>0</td>\n",
       "      <td>2032</td>\n",
       "      <td>3168</td>\n",
       "      <td>4648</td>\n",
       "      <td>5800</td>\n",
       "      <td>6728</td>\n",
       "      <td>7400</td>\n",
       "      <td>9512</td>\n",
       "    </tr>\n",
       "    <tr>\n",
       "      <th>3</th>\n",
       "      <td>speech</td>\n",
       "      <td>neutral</td>\n",
       "      <td>normal</td>\n",
       "      <td>kids</td>\n",
       "      <td>2nd</td>\n",
       "      <td>actor_01</td>\n",
       "      <td>../dataset/Audio_Speech_Actors_01-24/Actor_01/...</td>\n",
       "      <td>M</td>\n",
       "      <td>1.068500</td>\n",
       "      <td>2.294667</td>\n",
       "      <td>[3.5017729e-07 2.6199006e-02 2.5683409e-02 ......</td>\n",
       "      <td>[3.5017729e-07 2.6198970e-02 2.5683273e-02 ......</td>\n",
       "      <td>0</td>\n",
       "      <td>928</td>\n",
       "      <td>1984</td>\n",
       "      <td>3232</td>\n",
       "      <td>4120</td>\n",
       "      <td>5120</td>\n",
       "      <td>5808</td>\n",
       "      <td>7352</td>\n",
       "    </tr>\n",
       "    <tr>\n",
       "      <th>4</th>\n",
       "      <td>speech</td>\n",
       "      <td>calm</td>\n",
       "      <td>normal</td>\n",
       "      <td>kids</td>\n",
       "      <td>1st</td>\n",
       "      <td>actor_01</td>\n",
       "      <td>../dataset/Audio_Speech_Actors_01-24/Actor_01/...</td>\n",
       "      <td>M</td>\n",
       "      <td>1.023667</td>\n",
       "      <td>2.534167</td>\n",
       "      <td>[1.1920929e-07 2.0026919e-03 7.9689088e-04 ......</td>\n",
       "      <td>[1.1920929e-07 2.0026902e-03 7.9688808e-04 ......</td>\n",
       "      <td>0</td>\n",
       "      <td>2104</td>\n",
       "      <td>3672</td>\n",
       "      <td>4808</td>\n",
       "      <td>5928</td>\n",
       "      <td>6944</td>\n",
       "      <td>7600</td>\n",
       "      <td>9056</td>\n",
       "    </tr>\n",
       "  </tbody>\n",
       "</table>\n",
       "</div>"
      ],
      "text/plain": [
       "  vocal_channel  emotion emotional_intensity statement repetition     actor  \\\n",
       "0        speech    happy              normal      kids        2nd  actor_01   \n",
       "1        speech     calm              strong      dogs        2nd  actor_01   \n",
       "2        speech  fearful              normal      kids        2nd  actor_01   \n",
       "3        speech  neutral              normal      kids        2nd  actor_01   \n",
       "4        speech     calm              normal      kids        1st  actor_01   \n",
       "\n",
       "                                                path sex   begin_s     end_s  \\\n",
       "0  ../dataset/Audio_Speech_Actors_01-24/Actor_01/...   M  1.061167  2.701833   \n",
       "1  ../dataset/Audio_Speech_Actors_01-24/Actor_01/...   M  1.020167  2.983000   \n",
       "2  ../dataset/Audio_Speech_Actors_01-24/Actor_01/...   M  1.057000  2.642500   \n",
       "3  ../dataset/Audio_Speech_Actors_01-24/Actor_01/...   M  1.068500  2.294667   \n",
       "4  ../dataset/Audio_Speech_Actors_01-24/Actor_01/...   M  1.023667  2.534167   \n",
       "\n",
       "                                      fourier_coeffs  \\\n",
       "0  [5.9604645e-08 9.2448331e-02 7.0120022e-02 ......   \n",
       "1  [3.3713877e-07 6.0990662e-03 8.3317356e-03 ......   \n",
       "2  [4.5448542e-07 2.2871135e-02 2.1308422e-02 ......   \n",
       "3  [3.5017729e-07 2.6199006e-02 2.5683409e-02 ......   \n",
       "4  [1.1920929e-07 2.0026919e-03 7.9689088e-04 ......   \n",
       "\n",
       "                             filtered_fourier_coeffs  syll_0_start_index  \\\n",
       "0  [5.9604645e-08 9.2448264e-02 7.0119813e-02 ......                   0   \n",
       "1  [3.3713877e-07 6.0990625e-03 8.3317189e-03 ......                   0   \n",
       "2  [4.5448542e-07 2.2871116e-02 2.1308355e-02 ......                   0   \n",
       "3  [3.5017729e-07 2.6198970e-02 2.5683273e-02 ......                   0   \n",
       "4  [1.1920929e-07 2.0026902e-03 7.9688808e-04 ......                   0   \n",
       "\n",
       "   syll_1_start_index  syll_2_start_index  syll_3_start_index  \\\n",
       "0                1304                2464                3832   \n",
       "1                2112                5664                6304   \n",
       "2                2032                3168                4648   \n",
       "3                 928                1984                3232   \n",
       "4                2104                3672                4808   \n",
       "\n",
       "   syll_4_start_index  syll_5_start_index  syll_6_start_index  \\\n",
       "0                4680                5664                6488   \n",
       "1                6840                7704                9304   \n",
       "2                5800                6728                7400   \n",
       "3                4120                5120                5808   \n",
       "4                5928                6944                7600   \n",
       "\n",
       "   syll_7_start_index  \n",
       "0                9840  \n",
       "1               11776  \n",
       "2                9512  \n",
       "3                7352  \n",
       "4                9056  "
      ]
     },
     "execution_count": 3,
     "metadata": {},
     "output_type": "execute_result"
    }
   ],
   "source": [
    "df = pd.read_csv(DF_PREPROC_FILE).drop(columns=['Unnamed: 0'])\n",
    "df.head()"
   ]
  },
  {
   "cell_type": "code",
   "execution_count": 4,
   "metadata": {
    "ExecuteTime": {
     "end_time": "2023-06-25T16:50:56.230138Z",
     "start_time": "2023-06-25T16:50:55.179849Z"
    }
   },
   "outputs": [],
   "source": [
    "traces_dict = {}\n",
    "files = os.listdir(TS_PREPROC_FOLDER)\n",
    "\n",
    "# SORRY PAOLINO BUT I HAVE A CHICCO PC AND I CANNOT LOAD IT ALL\n",
    "\n",
    "# for file in files:\n",
    "\n",
    "#     if file.endswith('.npy'):\n",
    "#         file_path = os.path.join(TS_PREPROC_FOLDER, file)\n",
    "#         # dictionary keys are the file names\n",
    "#         key = os.path.splitext(file)[0]\n",
    "#         # load array\n",
    "#         traces_dict[key] = np.load(file_path, allow_pickle=True)\n",
    "\n",
    "# traces_dict.keys()\n",
    "\n",
    "file_path = os.path.join(TS_PREPROC_FOLDER, f\"{TRACES}.npy\")\n",
    "traces_dict[TRACES] = np.load(file_path, allow_pickle=True)\n"
   ]
  },
  {
   "cell_type": "code",
   "execution_count": 5,
   "metadata": {
    "ExecuteTime": {
     "end_time": "2023-06-25T16:50:56.230778Z",
     "start_time": "2023-06-25T16:50:56.229530Z"
    }
   },
   "outputs": [
    {
     "data": {
      "text/plain": [
       "(2452, 23, 23)"
      ]
     },
     "execution_count": 5,
     "metadata": {},
     "output_type": "execute_result"
    }
   ],
   "source": [
    "traces = traces_dict[TRACES]\n",
    "traces.shape"
   ]
  },
  {
   "cell_type": "code",
   "execution_count": 6,
   "metadata": {
    "ExecuteTime": {
     "end_time": "2023-06-25T16:50:56.395233Z",
     "start_time": "2023-06-25T16:50:56.230604Z"
    }
   },
   "outputs": [
    {
     "data": {
      "image/png": "[encoded data removed]",
      "text/plain": [
       "<Figure size 354.331x236.22 with 1 Axes>"
      ]
     },
     "metadata": {},
     "output_type": "display_data"
    }
   ],
   "source": [
    "index = 0\n",
    "statement = df['statement'][index]\n",
    "plt.plot(traces[index])\n",
    "plt.title(f'Time series at row #{index}, statement: {statement}')\n",
    "plt.show()"
   ]
  },
  {
   "cell_type": "code",
   "execution_count": 7,
   "metadata": {
    "ExecuteTime": {
     "end_time": "2023-06-25T16:50:56.405778Z",
     "start_time": "2023-06-25T16:50:56.394392Z"
    }
   },
   "outputs": [],
   "source": [
    "# sort by actors\n",
    "sorted_indices = df['actor'].argsort()\n",
    "df = df.iloc[sorted_indices].reset_index(drop=True)\n",
    "\n",
    "traces = traces[sorted_indices]\n",
    "\n",
    "# traces"
   ]
  },
  {
   "cell_type": "code",
   "execution_count": 8,
   "metadata": {
    "ExecuteTime": {
     "end_time": "2023-06-25T16:50:56.578540Z",
     "start_time": "2023-06-25T16:50:56.407787Z"
    }
   },
   "outputs": [
    {
     "data": {
      "text/plain": [
       "((1462, 23, 23), (366, 23, 23), (624, 23, 23), (1462,), (366,), (624,))"
      ]
     },
     "execution_count": 8,
     "metadata": {},
     "output_type": "execute_result"
    }
   ],
   "source": [
    "from sklearn.model_selection import train_test_split\n",
    "\n",
    "split_index = df[df['actor'] == 'actor_19'].index[0]\n",
    "\n",
    "X_train = traces[:split_index]\n",
    "X_test = traces[split_index:]\n",
    "\n",
    "y_train = df[TARGET][:split_index].to_numpy()\n",
    "y_test = df[TARGET][split_index:].to_numpy()\n",
    "\n",
    "X_train_v, X_valid, y_train_v, y_valid = train_test_split(X_train, y_train, test_size=0.2, random_state=100)\n",
    "\n",
    "X_train_v.shape, X_valid.shape, X_test.shape, y_train_v.shape, y_valid.shape, y_test.shape"
   ]
  },
  {
   "cell_type": "markdown",
   "metadata": {},
   "source": [
    "# CNN"
   ]
  },
  {
   "cell_type": "code",
   "execution_count": 9,
   "metadata": {
    "ExecuteTime": {
     "end_time": "2023-06-25T16:50:56.581291Z",
     "start_time": "2023-06-25T16:50:56.579016Z"
    }
   },
   "outputs": [
    {
     "data": {
      "text/plain": [
       "0"
      ]
     },
     "execution_count": 9,
     "metadata": {},
     "output_type": "execute_result"
    }
   ],
   "source": [
    "from sklearn.preprocessing import LabelEncoder\n",
    "\n",
    "label_encoder = LabelEncoder()\n",
    "\n",
    "y_train = label_encoder.fit_transform(y_train)\n",
    "y_train_v = label_encoder.transform(y_train_v)\n",
    "y_valid = label_encoder.transform(y_valid)\n",
    "y_test = label_encoder.transform(y_test)\n",
    "\n",
    "y_valid[0]"
   ]
  },
  {
   "cell_type": "code",
   "execution_count": 10,
   "metadata": {
    "ExecuteTime": {
     "end_time": "2023-06-25T16:50:56.586938Z",
     "start_time": "2023-06-25T16:50:56.584556Z"
    }
   },
   "outputs": [
    {
     "name": "stderr",
     "output_type": "stream",
     "text": [
      "2023-06-26 12:33:12.177586: I tensorflow/tsl/cuda/cudart_stub.cc:28] Could not find cuda drivers on your machine, GPU will not be used.\n",
      "2023-06-26 12:33:12.260448: I tensorflow/tsl/cuda/cudart_stub.cc:28] Could not find cuda drivers on your machine, GPU will not be used.\n",
      "2023-06-26 12:33:12.262045: I tensorflow/core/platform/cpu_feature_guard.cc:182] This TensorFlow binary is optimized to use available CPU instructions in performance-critical operations.\n",
      "To enable the following instructions: AVX2 FMA, in other operations, rebuild TensorFlow with the appropriate compiler flags.\n",
      "2023-06-26 12:33:14.140438: W tensorflow/compiler/tf2tensorrt/utils/py_utils.cc:38] TF-TRT Warning: Could not find TensorRT\n"
     ]
    }
   ],
   "source": [
    "import optuna\n",
    "from keras.layers import BatchNormalization, Activation\n",
    "from keras.models import Sequential\n",
    "from keras.layers import Dense, Conv1D, Dropout, GlobalAveragePooling1D\n",
    "from sklearn.metrics import accuracy_score\n",
    "\n",
    "def build_and_fit_cnn(X=X_train, y=y_train,\n",
    "                      n_conv=0, n_hidden=0, hidden_nodes=32,\n",
    "                      dropout=0.01, filters=8, kernel_size=5, batch_size=16,\n",
    "                      epochs=32, validation_split=0., verbose=False):\n",
    "\n",
    "    n_timesteps = X.shape[1]\n",
    "    n_outputs = len(np.unique(y))\n",
    "    n_features = X.shape[2]\n",
    "\n",
    "    model = Sequential()\n",
    "\n",
    "    model.add(Conv1D(filters=filters,\n",
    "                     kernel_size=kernel_size,\n",
    "                     activation='relu',\n",
    "                     input_shape=(n_timesteps, n_features),\n",
    "                     name=\"base_conv\"\n",
    "                     ))\n",
    "    model.add(BatchNormalization())\n",
    "    model.add(Activation('relu'))\n",
    "\n",
    "    for i in range(n_conv):\n",
    "        model.add(Conv1D(filters=filters, kernel_size=kernel_size, activation='relu', name=f\"extra_conv_{i}\"))\n",
    "        model.add(BatchNormalization())\n",
    "        model.add(Activation('relu'))\n",
    "\n",
    "        model.add(Dropout(dropout))\n",
    "\n",
    "    model.add(GlobalAveragePooling1D())\n",
    "\n",
    "    for i in range(n_hidden):\n",
    "        model.add(Dense(hidden_nodes, activation='relu'))\n",
    "\n",
    "    model.add(Dense(n_outputs, activation='softmax'))\n",
    "    model.compile(loss='sparse_categorical_crossentropy', optimizer='adam', metrics=['accuracy'])\n",
    "\n",
    "    model.fit(X, y, batch_size=batch_size, epochs=epochs, verbose=verbose, validation_split=validation_split)\n",
    "\n",
    "    return model"
   ]
  },
  {
   "cell_type": "code",
   "execution_count": 11,
   "metadata": {},
   "outputs": [
    {
     "name": "stdout",
     "output_type": "stream",
     "text": [
      "Epoch 1/8\n",
      "115/115 [==============================] - 6s 9ms/step - loss: 0.4668 - accuracy: 0.7653\n",
      "Epoch 2/8\n",
      "115/115 [==============================] - 1s 9ms/step - loss: 0.2290 - accuracy: 0.9097\n",
      "Epoch 3/8\n",
      "115/115 [==============================] - 1s 8ms/step - loss: 0.1656 - accuracy: 0.9305\n",
      "Epoch 4/8\n",
      "115/115 [==============================] - 1s 7ms/step - loss: 0.1181 - accuracy: 0.9535\n",
      "Epoch 5/8\n",
      "115/115 [==============================] - 1s 8ms/step - loss: 0.1268 - accuracy: 0.9551\n",
      "Epoch 6/8\n",
      "115/115 [==============================] - 1s 7ms/step - loss: 0.0993 - accuracy: 0.9650\n",
      "Epoch 7/8\n",
      "115/115 [==============================] - 1s 7ms/step - loss: 0.0910 - accuracy: 0.9688\n",
      "Epoch 8/8\n",
      "115/115 [==============================] - 1s 7ms/step - loss: 0.0875 - accuracy: 0.9677\n"
     ]
    }
   ],
   "source": [
    "# Test to check the accuracy of a \"belly\" network\n",
    "test_model = build_and_fit_cnn(n_conv=2, n_hidden=3, hidden_nodes=256, epochs=8, verbose=True)"
   ]
  },
  {
   "cell_type": "code",
   "execution_count": 12,
   "metadata": {
    "ExecuteTime": {
     "end_time": "2023-06-25T16:51:44.666535Z",
     "start_time": "2023-06-25T16:50:56.589413Z"
    }
   },
   "outputs": [
    {
     "name": "stderr",
     "output_type": "stream",
     "text": [
      "[I 2023-06-26 12:33:28,355] A new study created in memory with name: no-name-3c7c23e7-79cb-4c89-ac58-92c45b44f6df\n"
     ]
    },
    {
     "name": "stdout",
     "output_type": "stream",
     "text": [
      "Running little bitch having n_conv=3, dropout=0.9414931102510006, hidden_nodes=79\n",
      "Running little bitch having n_conv=0, dropout=0.31513721378862014, hidden_nodes=145\n",
      "Running little bitch having n_conv=1, dropout=0.3570974101760761, hidden_nodes=210\n",
      "Running little bitch having n_conv=2, dropout=0.009969487582548564, hidden_nodes=173\n"
     ]
    },
    {
     "name": "stderr",
     "output_type": "stream",
     "text": [
      "[W 2023-06-26 12:33:28,705] Trial 0 failed with parameters: {'n_conv': 3, 'n_hidden': 1, 'hidden_nodes': 79, 'dropout': 0.9414931102510006, 'filters': 9, 'kernel_size': 14, 'batch_size': 43, 'epochs': 83} because of the following error: ValueError('One of the dimensions in the output is <= 0 due to downsampling in extra_conv_0. Consider increasing the input size. Received input shape [None, 10, 9] which would produce output shape with a zero or negative value in a dimension.').\n",
      "Traceback (most recent call last):\n",
      "  File \"/home/djanloo/.local/share/virtualenvs/DM2-PeqFRmfa/lib/python3.10/site-packages/optuna/study/_optimize.py\", line 200, in _run_trial\n",
      "    value_or_values = func(trial)\n",
      "  File \"/tmp/ipykernel_22119/4273198217.py\", line 15, in objective_fun\n",
      "    cnn = build_and_fit_cnn(X=X_train_v,\n",
      "  File \"/tmp/ipykernel_22119/2256047732.py\", line 28, in build_and_fit_cnn\n",
      "    model.add(Conv1D(filters=filters, kernel_size=kernel_size, activation='relu', name=f\"extra_conv_{i}\"))\n",
      "  File \"/home/djanloo/.local/share/virtualenvs/DM2-PeqFRmfa/lib/python3.10/site-packages/tensorflow/python/trackable/base.py\", line 205, in _method_wrapper\n",
      "    result = method(self, *args, **kwargs)\n",
      "  File \"/home/djanloo/.local/share/virtualenvs/DM2-PeqFRmfa/lib/python3.10/site-packages/keras/utils/traceback_utils.py\", line 70, in error_handler\n",
      "    raise e.with_traceback(filtered_tb) from None\n",
      "  File \"/home/djanloo/.local/share/virtualenvs/DM2-PeqFRmfa/lib/python3.10/site-packages/keras/layers/convolutional/base_conv.py\", line 354, in compute_output_shape\n",
      "    raise ValueError(\n",
      "ValueError: One of the dimensions in the output is <= 0 due to downsampling in extra_conv_0. Consider increasing the input size. Received input shape [None, 10, 9] which would produce output shape with a zero or negative value in a dimension.\n",
      "[W 2023-06-26 12:33:28,741] Trial 2 failed with parameters: {'n_conv': 1, 'n_hidden': 0, 'hidden_nodes': 210, 'dropout': 0.3570974101760761, 'filters': 14, 'kernel_size': 15, 'batch_size': 42, 'epochs': 23} because of the following error: ValueError('One of the dimensions in the output is <= 0 due to downsampling in extra_conv_0. Consider increasing the input size. Received input shape [None, 9, 14] which would produce output shape with a zero or negative value in a dimension.').\n",
      "Traceback (most recent call last):\n",
      "  File \"/home/djanloo/.local/share/virtualenvs/DM2-PeqFRmfa/lib/python3.10/site-packages/optuna/study/_optimize.py\", line 200, in _run_trial\n",
      "    value_or_values = func(trial)\n",
      "  File \"/tmp/ipykernel_22119/4273198217.py\", line 15, in objective_fun\n",
      "    cnn = build_and_fit_cnn(X=X_train_v,\n",
      "  File \"/tmp/ipykernel_22119/2256047732.py\", line 28, in build_and_fit_cnn\n",
      "    model.add(Conv1D(filters=filters, kernel_size=kernel_size, activation='relu', name=f\"extra_conv_{i}\"))\n",
      "  File \"/home/djanloo/.local/share/virtualenvs/DM2-PeqFRmfa/lib/python3.10/site-packages/tensorflow/python/trackable/base.py\", line 205, in _method_wrapper\n",
      "    result = method(self, *args, **kwargs)\n",
      "  File \"/home/djanloo/.local/share/virtualenvs/DM2-PeqFRmfa/lib/python3.10/site-packages/keras/utils/traceback_utils.py\", line 70, in error_handler\n",
      "    raise e.with_traceback(filtered_tb) from None\n",
      "  File \"/home/djanloo/.local/share/virtualenvs/DM2-PeqFRmfa/lib/python3.10/site-packages/keras/layers/convolutional/base_conv.py\", line 354, in compute_output_shape\n",
      "    raise ValueError(\n",
      "ValueError: One of the dimensions in the output is <= 0 due to downsampling in extra_conv_0. Consider increasing the input size. Received input shape [None, 9, 14] which would produce output shape with a zero or negative value in a dimension.\n",
      "[W 2023-06-26 12:33:28,760] Trial 0 failed with value None.\n",
      "[W 2023-06-26 12:33:28,782] Trial 2 failed with value None.\n",
      "[W 2023-06-26 12:33:28,944] Trial 3 failed with parameters: {'n_conv': 2, 'n_hidden': 3, 'hidden_nodes': 173, 'dropout': 0.009969487582548564, 'filters': 2, 'kernel_size': 11, 'batch_size': 17, 'epochs': 28} because of the following error: ValueError('One of the dimensions in the output is <= 0 due to downsampling in extra_conv_1. Consider increasing the input size. Received input shape [None, 3, 2] which would produce output shape with a zero or negative value in a dimension.').\n",
      "Traceback (most recent call last):\n",
      "  File \"/home/djanloo/.local/share/virtualenvs/DM2-PeqFRmfa/lib/python3.10/site-packages/optuna/study/_optimize.py\", line 200, in _run_trial\n",
      "    value_or_values = func(trial)\n",
      "  File \"/tmp/ipykernel_22119/4273198217.py\", line 15, in objective_fun\n",
      "    cnn = build_and_fit_cnn(X=X_train_v,\n",
      "  File \"/tmp/ipykernel_22119/2256047732.py\", line 28, in build_and_fit_cnn\n",
      "    model.add(Conv1D(filters=filters, kernel_size=kernel_size, activation='relu', name=f\"extra_conv_{i}\"))\n",
      "  File \"/home/djanloo/.local/share/virtualenvs/DM2-PeqFRmfa/lib/python3.10/site-packages/tensorflow/python/trackable/base.py\", line 205, in _method_wrapper\n",
      "    result = method(self, *args, **kwargs)\n",
      "  File \"/home/djanloo/.local/share/virtualenvs/DM2-PeqFRmfa/lib/python3.10/site-packages/keras/utils/traceback_utils.py\", line 70, in error_handler\n",
      "    raise e.with_traceback(filtered_tb) from None\n",
      "  File \"/home/djanloo/.local/share/virtualenvs/DM2-PeqFRmfa/lib/python3.10/site-packages/keras/layers/convolutional/base_conv.py\", line 354, in compute_output_shape\n",
      "    raise ValueError(\n",
      "ValueError: One of the dimensions in the output is <= 0 due to downsampling in extra_conv_1. Consider increasing the input size. Received input shape [None, 3, 2] which would produce output shape with a zero or negative value in a dimension.\n",
      "[W 2023-06-26 12:33:28,959] Trial 3 failed with value None.\n"
     ]
    },
    {
     "name": "stdout",
     "output_type": "stream",
     "text": [
      "Running little bitch having n_conv=1, dropout=0.14673641028961548, hidden_nodes=172\n",
      "Running little bitch having n_conv=0, dropout=0.7944939808563942, hidden_nodes=19\n",
      "Running little bitch having n_conv=3, dropout=0.024679104090898685, hidden_nodes=15\n"
     ]
    },
    {
     "name": "stderr",
     "output_type": "stream",
     "text": [
      "[W 2023-06-26 12:33:29,140] Trial 4 failed with parameters: {'n_conv': 1, 'n_hidden': 1, 'hidden_nodes': 172, 'dropout': 0.14673641028961548, 'filters': 9, 'kernel_size': 15, 'batch_size': 31, 'epochs': 16} because of the following error: ValueError('One of the dimensions in the output is <= 0 due to downsampling in extra_conv_0. Consider increasing the input size. Received input shape [None, 9, 9] which would produce output shape with a zero or negative value in a dimension.').\n",
      "Traceback (most recent call last):\n",
      "  File \"/home/djanloo/.local/share/virtualenvs/DM2-PeqFRmfa/lib/python3.10/site-packages/optuna/study/_optimize.py\", line 200, in _run_trial\n",
      "    value_or_values = func(trial)\n",
      "  File \"/tmp/ipykernel_22119/4273198217.py\", line 15, in objective_fun\n",
      "    cnn = build_and_fit_cnn(X=X_train_v,\n",
      "  File \"/tmp/ipykernel_22119/2256047732.py\", line 28, in build_and_fit_cnn\n",
      "    model.add(Conv1D(filters=filters, kernel_size=kernel_size, activation='relu', name=f\"extra_conv_{i}\"))\n",
      "  File \"/home/djanloo/.local/share/virtualenvs/DM2-PeqFRmfa/lib/python3.10/site-packages/tensorflow/python/trackable/base.py\", line 205, in _method_wrapper\n",
      "    result = method(self, *args, **kwargs)\n",
      "  File \"/home/djanloo/.local/share/virtualenvs/DM2-PeqFRmfa/lib/python3.10/site-packages/keras/utils/traceback_utils.py\", line 70, in error_handler\n",
      "    raise e.with_traceback(filtered_tb) from None\n",
      "  File \"/home/djanloo/.local/share/virtualenvs/DM2-PeqFRmfa/lib/python3.10/site-packages/keras/layers/convolutional/base_conv.py\", line 354, in compute_output_shape\n",
      "    raise ValueError(\n",
      "ValueError: One of the dimensions in the output is <= 0 due to downsampling in extra_conv_0. Consider increasing the input size. Received input shape [None, 9, 9] which would produce output shape with a zero or negative value in a dimension.\n",
      "[W 2023-06-26 12:33:29,152] Trial 4 failed with value None.\n",
      "[W 2023-06-26 12:33:29,287] Trial 6 failed with parameters: {'n_conv': 3, 'n_hidden': 3, 'hidden_nodes': 15, 'dropout': 0.024679104090898685, 'filters': 3, 'kernel_size': 13, 'batch_size': 49, 'epochs': 55} because of the following error: ValueError('One of the dimensions in the output is <= 0 due to downsampling in extra_conv_0. Consider increasing the input size. Received input shape [None, 11, 3] which would produce output shape with a zero or negative value in a dimension.').\n",
      "Traceback (most recent call last):\n",
      "  File \"/home/djanloo/.local/share/virtualenvs/DM2-PeqFRmfa/lib/python3.10/site-packages/optuna/study/_optimize.py\", line 200, in _run_trial\n",
      "    value_or_values = func(trial)\n",
      "  File \"/tmp/ipykernel_22119/4273198217.py\", line 15, in objective_fun\n",
      "    cnn = build_and_fit_cnn(X=X_train_v,\n",
      "  File \"/tmp/ipykernel_22119/2256047732.py\", line 28, in build_and_fit_cnn\n",
      "    model.add(Conv1D(filters=filters, kernel_size=kernel_size, activation='relu', name=f\"extra_conv_{i}\"))\n",
      "  File \"/home/djanloo/.local/share/virtualenvs/DM2-PeqFRmfa/lib/python3.10/site-packages/tensorflow/python/trackable/base.py\", line 205, in _method_wrapper\n",
      "    result = method(self, *args, **kwargs)\n",
      "  File \"/home/djanloo/.local/share/virtualenvs/DM2-PeqFRmfa/lib/python3.10/site-packages/keras/utils/traceback_utils.py\", line 70, in error_handler\n",
      "    raise e.with_traceback(filtered_tb) from None\n",
      "  File \"/home/djanloo/.local/share/virtualenvs/DM2-PeqFRmfa/lib/python3.10/site-packages/keras/layers/convolutional/base_conv.py\", line 354, in compute_output_shape\n",
      "    raise ValueError(\n",
      "ValueError: One of the dimensions in the output is <= 0 due to downsampling in extra_conv_0. Consider increasing the input size. Received input shape [None, 11, 3] which would produce output shape with a zero or negative value in a dimension.\n",
      "[W 2023-06-26 12:33:29,294] Trial 6 failed with value None.\n"
     ]
    },
    {
     "name": "stdout",
     "output_type": "stream",
     "text": [
      "Running little bitch having n_conv=0, dropout=0.6106496066541305, hidden_nodes=112\n",
      "Running little bitch having n_conv=0, dropout=0.7355594379820543, hidden_nodes=30\n",
      "12/12 [==============================] - 1s 8ms/step\n"
     ]
    },
    {
     "name": "stderr",
     "output_type": "stream",
     "text": [
      "[I 2023-06-26 12:33:52,572] Trial 1 finished with value: 0.9781420765027322 and parameters: {'n_conv': 0, 'n_hidden': 1, 'hidden_nodes': 145, 'dropout': 0.31513721378862014, 'filters': 15, 'kernel_size': 11, 'batch_size': 50, 'epochs': 40}. Best is trial 1 with value: 0.9781420765027322.\n"
     ]
    },
    {
     "name": "stdout",
     "output_type": "stream",
     "text": [
      "Running little bitch having n_conv=1, dropout=0.04504333581731257, hidden_nodes=66\n",
      "12/12 [==============================] - 1s 9ms/step\n"
     ]
    },
    {
     "name": "stderr",
     "output_type": "stream",
     "text": [
      "[I 2023-06-26 12:33:56,945] Trial 8 finished with value: 0.9699453551912568 and parameters: {'n_conv': 0, 'n_hidden': 2, 'hidden_nodes': 30, 'dropout': 0.7355594379820543, 'filters': 6, 'kernel_size': 8, 'batch_size': 60, 'epochs': 61}. Best is trial 1 with value: 0.9781420765027322.\n"
     ]
    },
    {
     "name": "stdout",
     "output_type": "stream",
     "text": [
      "Running little bitch having n_conv=0, dropout=0.27547850146663333, hidden_nodes=247\n",
      "12/12 [==============================] - 0s 8ms/step\n"
     ]
    },
    {
     "name": "stderr",
     "output_type": "stream",
     "text": [
      "[I 2023-06-26 12:34:00,743] Trial 5 finished with value: 0.9754098360655737 and parameters: {'n_conv': 0, 'n_hidden': 1, 'hidden_nodes': 19, 'dropout': 0.7944939808563942, 'filters': 7, 'kernel_size': 11, 'batch_size': 23, 'epochs': 33}. Best is trial 1 with value: 0.9781420765027322.\n"
     ]
    },
    {
     "name": "stdout",
     "output_type": "stream",
     "text": [
      "Running little bitch having n_conv=2, dropout=0.6547252771536956, hidden_nodes=218\n",
      "12/12 [==============================] - 1s 9ms/step\n"
     ]
    },
    {
     "name": "stderr",
     "output_type": "stream",
     "text": [
      "[I 2023-06-26 12:34:10,345] Trial 9 finished with value: 0.9562841530054644 and parameters: {'n_conv': 1, 'n_hidden': 3, 'hidden_nodes': 66, 'dropout': 0.04504333581731257, 'filters': 16, 'kernel_size': 10, 'batch_size': 55, 'epochs': 8}. Best is trial 1 with value: 0.9781420765027322.\n"
     ]
    },
    {
     "name": "stdout",
     "output_type": "stream",
     "text": [
      "Running little bitch having n_conv=1, dropout=0.4669060174622238, hidden_nodes=135\n"
     ]
    },
    {
     "name": "stderr",
     "output_type": "stream",
     "text": [
      "[W 2023-06-26 12:34:10,761] Trial 12 failed with parameters: {'n_conv': 1, 'n_hidden': 0, 'hidden_nodes': 135, 'dropout': 0.4669060174622238, 'filters': 2, 'kernel_size': 14, 'batch_size': 35, 'epochs': 31} because of the following error: ValueError('One of the dimensions in the output is <= 0 due to downsampling in extra_conv_0. Consider increasing the input size. Received input shape [None, 10, 2] which would produce output shape with a zero or negative value in a dimension.').\n",
      "Traceback (most recent call last):\n",
      "  File \"/home/djanloo/.local/share/virtualenvs/DM2-PeqFRmfa/lib/python3.10/site-packages/optuna/study/_optimize.py\", line 200, in _run_trial\n",
      "    value_or_values = func(trial)\n",
      "  File \"/tmp/ipykernel_22119/4273198217.py\", line 15, in objective_fun\n",
      "    cnn = build_and_fit_cnn(X=X_train_v,\n",
      "  File \"/tmp/ipykernel_22119/2256047732.py\", line 28, in build_and_fit_cnn\n",
      "    model.add(Conv1D(filters=filters, kernel_size=kernel_size, activation='relu', name=f\"extra_conv_{i}\"))\n",
      "  File \"/home/djanloo/.local/share/virtualenvs/DM2-PeqFRmfa/lib/python3.10/site-packages/tensorflow/python/trackable/base.py\", line 205, in _method_wrapper\n",
      "    result = method(self, *args, **kwargs)\n",
      "  File \"/home/djanloo/.local/share/virtualenvs/DM2-PeqFRmfa/lib/python3.10/site-packages/keras/utils/traceback_utils.py\", line 70, in error_handler\n",
      "    raise e.with_traceback(filtered_tb) from None\n",
      "  File \"/home/djanloo/.local/share/virtualenvs/DM2-PeqFRmfa/lib/python3.10/site-packages/keras/layers/convolutional/base_conv.py\", line 354, in compute_output_shape\n",
      "    raise ValueError(\n",
      "ValueError: One of the dimensions in the output is <= 0 due to downsampling in extra_conv_0. Consider increasing the input size. Received input shape [None, 10, 2] which would produce output shape with a zero or negative value in a dimension.\n",
      "[W 2023-06-26 12:34:10,772] Trial 12 failed with value None.\n"
     ]
    },
    {
     "name": "stdout",
     "output_type": "stream",
     "text": [
      "Running little bitch having n_conv=3, dropout=0.4837912012543141, hidden_nodes=236\n"
     ]
    },
    {
     "name": "stderr",
     "output_type": "stream",
     "text": [
      "[W 2023-06-26 12:34:11,063] Trial 13 failed with parameters: {'n_conv': 3, 'n_hidden': 1, 'hidden_nodes': 236, 'dropout': 0.4837912012543141, 'filters': 7, 'kernel_size': 14, 'batch_size': 31, 'epochs': 45} because of the following error: ValueError('One of the dimensions in the output is <= 0 due to downsampling in extra_conv_0. Consider increasing the input size. Received input shape [None, 10, 7] which would produce output shape with a zero or negative value in a dimension.').\n",
      "Traceback (most recent call last):\n",
      "  File \"/home/djanloo/.local/share/virtualenvs/DM2-PeqFRmfa/lib/python3.10/site-packages/optuna/study/_optimize.py\", line 200, in _run_trial\n",
      "    value_or_values = func(trial)\n",
      "  File \"/tmp/ipykernel_22119/4273198217.py\", line 15, in objective_fun\n",
      "    cnn = build_and_fit_cnn(X=X_train_v,\n",
      "  File \"/tmp/ipykernel_22119/2256047732.py\", line 28, in build_and_fit_cnn\n",
      "    model.add(Conv1D(filters=filters, kernel_size=kernel_size, activation='relu', name=f\"extra_conv_{i}\"))\n",
      "  File \"/home/djanloo/.local/share/virtualenvs/DM2-PeqFRmfa/lib/python3.10/site-packages/tensorflow/python/trackable/base.py\", line 205, in _method_wrapper\n",
      "    result = method(self, *args, **kwargs)\n",
      "  File \"/home/djanloo/.local/share/virtualenvs/DM2-PeqFRmfa/lib/python3.10/site-packages/keras/utils/traceback_utils.py\", line 70, in error_handler\n",
      "    raise e.with_traceback(filtered_tb) from None\n",
      "  File \"/home/djanloo/.local/share/virtualenvs/DM2-PeqFRmfa/lib/python3.10/site-packages/keras/layers/convolutional/base_conv.py\", line 354, in compute_output_shape\n",
      "    raise ValueError(\n",
      "ValueError: One of the dimensions in the output is <= 0 due to downsampling in extra_conv_0. Consider increasing the input size. Received input shape [None, 10, 7] which would produce output shape with a zero or negative value in a dimension.\n",
      "[W 2023-06-26 12:34:11,075] Trial 13 failed with value None.\n"
     ]
    },
    {
     "name": "stdout",
     "output_type": "stream",
     "text": [
      "Running little bitch having n_conv=0, dropout=0.15107627552047387, hidden_nodes=62\n",
      "12/12 [==============================] - 0s 9ms/step\n"
     ]
    },
    {
     "name": "stderr",
     "output_type": "stream",
     "text": [
      "[I 2023-06-26 12:34:25,418] Trial 10 finished with value: 0.9726775956284153 and parameters: {'n_conv': 0, 'n_hidden': 0, 'hidden_nodes': 247, 'dropout': 0.27547850146663333, 'filters': 8, 'kernel_size': 6, 'batch_size': 61, 'epochs': 51}. Best is trial 1 with value: 0.9781420765027322.\n"
     ]
    },
    {
     "name": "stdout",
     "output_type": "stream",
     "text": [
      "Running little bitch having n_conv=2, dropout=0.982671850227596, hidden_nodes=54\n",
      "12/12 [==============================] - 0s 9ms/step\n"
     ]
    },
    {
     "name": "stderr",
     "output_type": "stream",
     "text": [
      "[I 2023-06-26 12:34:33,789] Trial 14 finished with value: 0.9836065573770492 and parameters: {'n_conv': 0, 'n_hidden': 0, 'hidden_nodes': 62, 'dropout': 0.15107627552047387, 'filters': 12, 'kernel_size': 10, 'batch_size': 16, 'epochs': 21}. Best is trial 14 with value: 0.9836065573770492.\n"
     ]
    },
    {
     "name": "stdout",
     "output_type": "stream",
     "text": [
      "Running little bitch having n_conv=0, dropout=0.1821586301655992, hidden_nodes=174\n",
      "12/12 [==============================] - 1s 10ms/step\n",
      " 9/12 [=====================>........] - ETA: 0s"
     ]
    },
    {
     "name": "stderr",
     "output_type": "stream",
     "text": [
      "[I 2023-06-26 12:34:42,109] Trial 7 finished with value: 0.9617486338797814 and parameters: {'n_conv': 0, 'n_hidden': 0, 'hidden_nodes': 112, 'dropout': 0.6106496066541305, 'filters': 4, 'kernel_size': 9, 'batch_size': 19, 'epochs': 87}. Best is trial 14 with value: 0.9836065573770492.\n"
     ]
    },
    {
     "name": "stdout",
     "output_type": "stream",
     "text": [
      "12/12 [==============================] - 1s 14ms/step\n",
      "Running little bitch having n_conv=3, dropout=0.3533578662840742, hidden_nodes=24\n"
     ]
    },
    {
     "name": "stderr",
     "output_type": "stream",
     "text": [
      "[I 2023-06-26 12:34:42,226] Trial 11 finished with value: 0.9726775956284153 and parameters: {'n_conv': 2, 'n_hidden': 2, 'hidden_nodes': 218, 'dropout': 0.6547252771536956, 'filters': 6, 'kernel_size': 8, 'batch_size': 60, 'epochs': 73}. Best is trial 14 with value: 0.9836065573770492.\n"
     ]
    },
    {
     "name": "stdout",
     "output_type": "stream",
     "text": [
      "Running little bitch having n_conv=3, dropout=0.8514452938688089, hidden_nodes=32\n"
     ]
    },
    {
     "name": "stderr",
     "output_type": "stream",
     "text": [
      "[W 2023-06-26 12:34:42,959] Trial 18 failed with parameters: {'n_conv': 3, 'n_hidden': 1, 'hidden_nodes': 32, 'dropout': 0.8514452938688089, 'filters': 9, 'kernel_size': 8, 'batch_size': 29, 'epochs': 51} because of the following error: ValueError('One of the dimensions in the output is <= 0 due to downsampling in extra_conv_2. Consider increasing the input size. Received input shape [None, 2, 9] which would produce output shape with a zero or negative value in a dimension.').\n",
      "Traceback (most recent call last):\n",
      "  File \"/home/djanloo/.local/share/virtualenvs/DM2-PeqFRmfa/lib/python3.10/site-packages/optuna/study/_optimize.py\", line 200, in _run_trial\n",
      "    value_or_values = func(trial)\n",
      "  File \"/tmp/ipykernel_22119/4273198217.py\", line 15, in objective_fun\n",
      "    cnn = build_and_fit_cnn(X=X_train_v,\n",
      "  File \"/tmp/ipykernel_22119/2256047732.py\", line 28, in build_and_fit_cnn\n",
      "    model.add(Conv1D(filters=filters, kernel_size=kernel_size, activation='relu', name=f\"extra_conv_{i}\"))\n",
      "  File \"/home/djanloo/.local/share/virtualenvs/DM2-PeqFRmfa/lib/python3.10/site-packages/tensorflow/python/trackable/base.py\", line 205, in _method_wrapper\n",
      "    result = method(self, *args, **kwargs)\n",
      "  File \"/home/djanloo/.local/share/virtualenvs/DM2-PeqFRmfa/lib/python3.10/site-packages/keras/utils/traceback_utils.py\", line 70, in error_handler\n",
      "    raise e.with_traceback(filtered_tb) from None\n",
      "  File \"/home/djanloo/.local/share/virtualenvs/DM2-PeqFRmfa/lib/python3.10/site-packages/keras/layers/convolutional/base_conv.py\", line 354, in compute_output_shape\n",
      "    raise ValueError(\n",
      "ValueError: One of the dimensions in the output is <= 0 due to downsampling in extra_conv_2. Consider increasing the input size. Received input shape [None, 2, 9] which would produce output shape with a zero or negative value in a dimension.\n",
      "[W 2023-06-26 12:34:42,969] Trial 18 failed with value None.\n"
     ]
    },
    {
     "name": "stdout",
     "output_type": "stream",
     "text": [
      "Running little bitch having n_conv=1, dropout=0.6046082362177693, hidden_nodes=179\n",
      "12/12 [==============================] - 1s 11ms/step\n"
     ]
    },
    {
     "name": "stderr",
     "output_type": "stream",
     "text": [
      "[I 2023-06-26 12:34:56,158] Trial 16 finished with value: 0.9836065573770492 and parameters: {'n_conv': 0, 'n_hidden': 2, 'hidden_nodes': 174, 'dropout': 0.1821586301655992, 'filters': 12, 'kernel_size': 12, 'batch_size': 60, 'epochs': 31}. Best is trial 14 with value: 0.9836065573770492.\n"
     ]
    },
    {
     "name": "stdout",
     "output_type": "stream",
     "text": [
      "Running little bitch having n_conv=2, dropout=0.5256276730945134, hidden_nodes=37\n"
     ]
    },
    {
     "name": "stderr",
     "output_type": "stream",
     "text": [
      "[W 2023-06-26 12:34:56,468] Trial 20 failed with parameters: {'n_conv': 2, 'n_hidden': 2, 'hidden_nodes': 37, 'dropout': 0.5256276730945134, 'filters': 4, 'kernel_size': 15, 'batch_size': 22, 'epochs': 41} because of the following error: ValueError('One of the dimensions in the output is <= 0 due to downsampling in extra_conv_0. Consider increasing the input size. Received input shape [None, 9, 4] which would produce output shape with a zero or negative value in a dimension.').\n",
      "Traceback (most recent call last):\n",
      "  File \"/home/djanloo/.local/share/virtualenvs/DM2-PeqFRmfa/lib/python3.10/site-packages/optuna/study/_optimize.py\", line 200, in _run_trial\n",
      "    value_or_values = func(trial)\n",
      "  File \"/tmp/ipykernel_22119/4273198217.py\", line 15, in objective_fun\n",
      "    cnn = build_and_fit_cnn(X=X_train_v,\n",
      "  File \"/tmp/ipykernel_22119/2256047732.py\", line 28, in build_and_fit_cnn\n",
      "    model.add(Conv1D(filters=filters, kernel_size=kernel_size, activation='relu', name=f\"extra_conv_{i}\"))\n",
      "  File \"/home/djanloo/.local/share/virtualenvs/DM2-PeqFRmfa/lib/python3.10/site-packages/tensorflow/python/trackable/base.py\", line 205, in _method_wrapper\n",
      "    result = method(self, *args, **kwargs)\n",
      "  File \"/home/djanloo/.local/share/virtualenvs/DM2-PeqFRmfa/lib/python3.10/site-packages/keras/utils/traceback_utils.py\", line 70, in error_handler\n",
      "    raise e.with_traceback(filtered_tb) from None\n",
      "  File \"/home/djanloo/.local/share/virtualenvs/DM2-PeqFRmfa/lib/python3.10/site-packages/keras/layers/convolutional/base_conv.py\", line 354, in compute_output_shape\n",
      "    raise ValueError(\n",
      "ValueError: One of the dimensions in the output is <= 0 due to downsampling in extra_conv_0. Consider increasing the input size. Received input shape [None, 9, 4] which would produce output shape with a zero or negative value in a dimension.\n",
      "[W 2023-06-26 12:34:56,474] Trial 20 failed with value None.\n"
     ]
    },
    {
     "name": "stdout",
     "output_type": "stream",
     "text": [
      "Running little bitch having n_conv=2, dropout=0.13465002965172845, hidden_nodes=146\n"
     ]
    },
    {
     "name": "stderr",
     "output_type": "stream",
     "text": [
      "[W 2023-06-26 12:34:56,786] Trial 21 failed with parameters: {'n_conv': 2, 'n_hidden': 1, 'hidden_nodes': 146, 'dropout': 0.13465002965172845, 'filters': 6, 'kernel_size': 15, 'batch_size': 30, 'epochs': 5} because of the following error: ValueError('One of the dimensions in the output is <= 0 due to downsampling in extra_conv_0. Consider increasing the input size. Received input shape [None, 9, 6] which would produce output shape with a zero or negative value in a dimension.').\n",
      "Traceback (most recent call last):\n",
      "  File \"/home/djanloo/.local/share/virtualenvs/DM2-PeqFRmfa/lib/python3.10/site-packages/optuna/study/_optimize.py\", line 200, in _run_trial\n",
      "    value_or_values = func(trial)\n",
      "  File \"/tmp/ipykernel_22119/4273198217.py\", line 15, in objective_fun\n",
      "    cnn = build_and_fit_cnn(X=X_train_v,\n",
      "  File \"/tmp/ipykernel_22119/2256047732.py\", line 28, in build_and_fit_cnn\n",
      "    model.add(Conv1D(filters=filters, kernel_size=kernel_size, activation='relu', name=f\"extra_conv_{i}\"))\n",
      "  File \"/home/djanloo/.local/share/virtualenvs/DM2-PeqFRmfa/lib/python3.10/site-packages/tensorflow/python/trackable/base.py\", line 205, in _method_wrapper\n",
      "    result = method(self, *args, **kwargs)\n",
      "  File \"/home/djanloo/.local/share/virtualenvs/DM2-PeqFRmfa/lib/python3.10/site-packages/keras/utils/traceback_utils.py\", line 70, in error_handler\n",
      "    raise e.with_traceback(filtered_tb) from None\n",
      "  File \"/home/djanloo/.local/share/virtualenvs/DM2-PeqFRmfa/lib/python3.10/site-packages/keras/layers/convolutional/base_conv.py\", line 354, in compute_output_shape\n",
      "    raise ValueError(\n",
      "ValueError: One of the dimensions in the output is <= 0 due to downsampling in extra_conv_0. Consider increasing the input size. Received input shape [None, 9, 6] which would produce output shape with a zero or negative value in a dimension.\n",
      "[W 2023-06-26 12:34:56,794] Trial 21 failed with value None.\n"
     ]
    },
    {
     "name": "stdout",
     "output_type": "stream",
     "text": [
      "Running little bitch having n_conv=1, dropout=0.33856303358615725, hidden_nodes=137\n",
      "12/12 [==============================] - 1s 9ms/step\n"
     ]
    },
    {
     "name": "stderr",
     "output_type": "stream",
     "text": [
      "[I 2023-06-26 12:35:13,253] Trial 22 finished with value: 0.8825136612021858 and parameters: {'n_conv': 1, 'n_hidden': 1, 'hidden_nodes': 137, 'dropout': 0.33856303358615725, 'filters': 9, 'kernel_size': 3, 'batch_size': 53, 'epochs': 9}. Best is trial 14 with value: 0.9836065573770492.\n"
     ]
    },
    {
     "name": "stdout",
     "output_type": "stream",
     "text": [
      "Running little bitch having n_conv=3, dropout=0.8987573588099101, hidden_nodes=86\n"
     ]
    },
    {
     "name": "stderr",
     "output_type": "stream",
     "text": [
      "[W 2023-06-26 12:35:13,774] Trial 23 failed with parameters: {'n_conv': 3, 'n_hidden': 0, 'hidden_nodes': 86, 'dropout': 0.8987573588099101, 'filters': 12, 'kernel_size': 15, 'batch_size': 31, 'epochs': 27} because of the following error: ValueError('One of the dimensions in the output is <= 0 due to downsampling in extra_conv_0. Consider increasing the input size. Received input shape [None, 9, 12] which would produce output shape with a zero or negative value in a dimension.').\n",
      "Traceback (most recent call last):\n",
      "  File \"/home/djanloo/.local/share/virtualenvs/DM2-PeqFRmfa/lib/python3.10/site-packages/optuna/study/_optimize.py\", line 200, in _run_trial\n",
      "    value_or_values = func(trial)\n",
      "  File \"/tmp/ipykernel_22119/4273198217.py\", line 15, in objective_fun\n",
      "    cnn = build_and_fit_cnn(X=X_train_v,\n",
      "  File \"/tmp/ipykernel_22119/2256047732.py\", line 28, in build_and_fit_cnn\n",
      "    model.add(Conv1D(filters=filters, kernel_size=kernel_size, activation='relu', name=f\"extra_conv_{i}\"))\n",
      "  File \"/home/djanloo/.local/share/virtualenvs/DM2-PeqFRmfa/lib/python3.10/site-packages/tensorflow/python/trackable/base.py\", line 205, in _method_wrapper\n",
      "    result = method(self, *args, **kwargs)\n",
      "  File \"/home/djanloo/.local/share/virtualenvs/DM2-PeqFRmfa/lib/python3.10/site-packages/keras/utils/traceback_utils.py\", line 70, in error_handler\n",
      "    raise e.with_traceback(filtered_tb) from None\n",
      "  File \"/home/djanloo/.local/share/virtualenvs/DM2-PeqFRmfa/lib/python3.10/site-packages/keras/layers/convolutional/base_conv.py\", line 354, in compute_output_shape\n",
      "    raise ValueError(\n",
      "ValueError: One of the dimensions in the output is <= 0 due to downsampling in extra_conv_0. Consider increasing the input size. Received input shape [None, 9, 12] which would produce output shape with a zero or negative value in a dimension.\n",
      "[W 2023-06-26 12:35:13,786] Trial 23 failed with value None.\n",
      "[W 2023-06-26 12:35:14,107] Trial 24 failed with parameters: {'n_conv': 3, 'n_hidden': 0, 'hidden_nodes': 85, 'dropout': 0.9720086005171996, 'filters': 12, 'kernel_size': 15, 'batch_size': 31, 'epochs': 21} because of the following error: ValueError('One of the dimensions in the output is <= 0 due to downsampling in extra_conv_0. Consider increasing the input size. Received input shape [None, 9, 12] which would produce output shape with a zero or negative value in a dimension.').\n",
      "Traceback (most recent call last):\n",
      "  File \"/home/djanloo/.local/share/virtualenvs/DM2-PeqFRmfa/lib/python3.10/site-packages/optuna/study/_optimize.py\", line 200, in _run_trial\n",
      "    value_or_values = func(trial)\n",
      "  File \"/tmp/ipykernel_22119/4273198217.py\", line 15, in objective_fun\n",
      "    cnn = build_and_fit_cnn(X=X_train_v,\n",
      "  File \"/tmp/ipykernel_22119/2256047732.py\", line 28, in build_and_fit_cnn\n",
      "    model.add(Conv1D(filters=filters, kernel_size=kernel_size, activation='relu', name=f\"extra_conv_{i}\"))\n",
      "  File \"/home/djanloo/.local/share/virtualenvs/DM2-PeqFRmfa/lib/python3.10/site-packages/tensorflow/python/trackable/base.py\", line 205, in _method_wrapper\n",
      "    result = method(self, *args, **kwargs)\n",
      "  File \"/home/djanloo/.local/share/virtualenvs/DM2-PeqFRmfa/lib/python3.10/site-packages/keras/utils/traceback_utils.py\", line 70, in error_handler\n",
      "    raise e.with_traceback(filtered_tb) from None\n",
      "  File \"/home/djanloo/.local/share/virtualenvs/DM2-PeqFRmfa/lib/python3.10/site-packages/keras/layers/convolutional/base_conv.py\", line 354, in compute_output_shape\n",
      "    raise ValueError(\n",
      "ValueError: One of the dimensions in the output is <= 0 due to downsampling in extra_conv_0. Consider increasing the input size. Received input shape [None, 9, 12] which would produce output shape with a zero or negative value in a dimension.\n",
      "[W 2023-06-26 12:35:14,111] Trial 24 failed with value None.\n"
     ]
    },
    {
     "name": "stdout",
     "output_type": "stream",
     "text": [
      "Running little bitch having n_conv=3, dropout=0.9720086005171996, hidden_nodes=85\n"
     ]
    },
    {
     "name": "stderr",
     "output_type": "stream",
     "text": [
      "[W 2023-06-26 12:35:14,386] Trial 25 failed with parameters: {'n_conv': 3, 'n_hidden': 0, 'hidden_nodes': 80, 'dropout': 0.9683722684597732, 'filters': 12, 'kernel_size': 15, 'batch_size': 32, 'epochs': 20} because of the following error: ValueError('One of the dimensions in the output is <= 0 due to downsampling in extra_conv_0. Consider increasing the input size. Received input shape [None, 9, 12] which would produce output shape with a zero or negative value in a dimension.').\n",
      "Traceback (most recent call last):\n",
      "  File \"/home/djanloo/.local/share/virtualenvs/DM2-PeqFRmfa/lib/python3.10/site-packages/optuna/study/_optimize.py\", line 200, in _run_trial\n",
      "    value_or_values = func(trial)\n",
      "  File \"/tmp/ipykernel_22119/4273198217.py\", line 15, in objective_fun\n",
      "    cnn = build_and_fit_cnn(X=X_train_v,\n",
      "  File \"/tmp/ipykernel_22119/2256047732.py\", line 28, in build_and_fit_cnn\n",
      "    model.add(Conv1D(filters=filters, kernel_size=kernel_size, activation='relu', name=f\"extra_conv_{i}\"))\n",
      "  File \"/home/djanloo/.local/share/virtualenvs/DM2-PeqFRmfa/lib/python3.10/site-packages/tensorflow/python/trackable/base.py\", line 205, in _method_wrapper\n",
      "    result = method(self, *args, **kwargs)\n",
      "  File \"/home/djanloo/.local/share/virtualenvs/DM2-PeqFRmfa/lib/python3.10/site-packages/keras/utils/traceback_utils.py\", line 70, in error_handler\n",
      "    raise e.with_traceback(filtered_tb) from None\n",
      "  File \"/home/djanloo/.local/share/virtualenvs/DM2-PeqFRmfa/lib/python3.10/site-packages/keras/layers/convolutional/base_conv.py\", line 354, in compute_output_shape\n",
      "    raise ValueError(\n",
      "ValueError: One of the dimensions in the output is <= 0 due to downsampling in extra_conv_0. Consider increasing the input size. Received input shape [None, 9, 12] which would produce output shape with a zero or negative value in a dimension.\n",
      "[W 2023-06-26 12:35:14,390] Trial 25 failed with value None.\n"
     ]
    },
    {
     "name": "stdout",
     "output_type": "stream",
     "text": [
      "Running little bitch having n_conv=3, dropout=0.9683722684597732, hidden_nodes=80\n"
     ]
    },
    {
     "name": "stderr",
     "output_type": "stream",
     "text": [
      "[W 2023-06-26 12:35:14,673] Trial 26 failed with parameters: {'n_conv': 3, 'n_hidden': 0, 'hidden_nodes': 78, 'dropout': 0.9220455911044024, 'filters': 12, 'kernel_size': 16, 'batch_size': 33, 'epochs': 23} because of the following error: ValueError('One of the dimensions in the output is <= 0 due to downsampling in extra_conv_0. Consider increasing the input size. Received input shape [None, 8, 12] which would produce output shape with a zero or negative value in a dimension.').\n",
      "Traceback (most recent call last):\n",
      "  File \"/home/djanloo/.local/share/virtualenvs/DM2-PeqFRmfa/lib/python3.10/site-packages/optuna/study/_optimize.py\", line 200, in _run_trial\n",
      "    value_or_values = func(trial)\n",
      "  File \"/tmp/ipykernel_22119/4273198217.py\", line 15, in objective_fun\n",
      "    cnn = build_and_fit_cnn(X=X_train_v,\n",
      "  File \"/tmp/ipykernel_22119/2256047732.py\", line 28, in build_and_fit_cnn\n",
      "    model.add(Conv1D(filters=filters, kernel_size=kernel_size, activation='relu', name=f\"extra_conv_{i}\"))\n",
      "  File \"/home/djanloo/.local/share/virtualenvs/DM2-PeqFRmfa/lib/python3.10/site-packages/tensorflow/python/trackable/base.py\", line 205, in _method_wrapper\n",
      "    result = method(self, *args, **kwargs)\n",
      "  File \"/home/djanloo/.local/share/virtualenvs/DM2-PeqFRmfa/lib/python3.10/site-packages/keras/utils/traceback_utils.py\", line 70, in error_handler\n",
      "    raise e.with_traceback(filtered_tb) from None\n",
      "  File \"/home/djanloo/.local/share/virtualenvs/DM2-PeqFRmfa/lib/python3.10/site-packages/keras/layers/convolutional/base_conv.py\", line 354, in compute_output_shape\n",
      "    raise ValueError(\n",
      "ValueError: One of the dimensions in the output is <= 0 due to downsampling in extra_conv_0. Consider increasing the input size. Received input shape [None, 8, 12] which would produce output shape with a zero or negative value in a dimension.\n",
      "[W 2023-06-26 12:35:14,679] Trial 26 failed with value None.\n"
     ]
    },
    {
     "name": "stdout",
     "output_type": "stream",
     "text": [
      "Running little bitch having n_conv=3, dropout=0.9220455911044024, hidden_nodes=78\n"
     ]
    },
    {
     "name": "stderr",
     "output_type": "stream",
     "text": [
      "[W 2023-06-26 12:35:14,965] Trial 27 failed with parameters: {'n_conv': 3, 'n_hidden': 0, 'hidden_nodes': 80, 'dropout': 0.474424574823738, 'filters': 12, 'kernel_size': 14, 'batch_size': 32, 'epochs': 21} because of the following error: ValueError('One of the dimensions in the output is <= 0 due to downsampling in extra_conv_0. Consider increasing the input size. Received input shape [None, 10, 12] which would produce output shape with a zero or negative value in a dimension.').\n",
      "Traceback (most recent call last):\n",
      "  File \"/home/djanloo/.local/share/virtualenvs/DM2-PeqFRmfa/lib/python3.10/site-packages/optuna/study/_optimize.py\", line 200, in _run_trial\n",
      "    value_or_values = func(trial)\n",
      "  File \"/tmp/ipykernel_22119/4273198217.py\", line 15, in objective_fun\n",
      "    cnn = build_and_fit_cnn(X=X_train_v,\n",
      "  File \"/tmp/ipykernel_22119/2256047732.py\", line 28, in build_and_fit_cnn\n",
      "    model.add(Conv1D(filters=filters, kernel_size=kernel_size, activation='relu', name=f\"extra_conv_{i}\"))\n",
      "  File \"/home/djanloo/.local/share/virtualenvs/DM2-PeqFRmfa/lib/python3.10/site-packages/tensorflow/python/trackable/base.py\", line 205, in _method_wrapper\n",
      "    result = method(self, *args, **kwargs)\n",
      "  File \"/home/djanloo/.local/share/virtualenvs/DM2-PeqFRmfa/lib/python3.10/site-packages/keras/utils/traceback_utils.py\", line 70, in error_handler\n",
      "    raise e.with_traceback(filtered_tb) from None\n",
      "  File \"/home/djanloo/.local/share/virtualenvs/DM2-PeqFRmfa/lib/python3.10/site-packages/keras/layers/convolutional/base_conv.py\", line 354, in compute_output_shape\n",
      "    raise ValueError(\n",
      "ValueError: One of the dimensions in the output is <= 0 due to downsampling in extra_conv_0. Consider increasing the input size. Received input shape [None, 10, 12] which would produce output shape with a zero or negative value in a dimension.\n",
      "[W 2023-06-26 12:35:14,971] Trial 27 failed with value None.\n"
     ]
    },
    {
     "name": "stdout",
     "output_type": "stream",
     "text": [
      "Running little bitch having n_conv=3, dropout=0.474424574823738, hidden_nodes=80\n"
     ]
    },
    {
     "name": "stderr",
     "output_type": "stream",
     "text": [
      "[W 2023-06-26 12:35:15,258] Trial 28 failed with parameters: {'n_conv': 2, 'n_hidden': 0, 'hidden_nodes': 71, 'dropout': 0.9412677307280072, 'filters': 13, 'kernel_size': 16, 'batch_size': 31, 'epochs': 22} because of the following error: ValueError('One of the dimensions in the output is <= 0 due to downsampling in extra_conv_0. Consider increasing the input size. Received input shape [None, 8, 13] which would produce output shape with a zero or negative value in a dimension.').\n",
      "Traceback (most recent call last):\n",
      "  File \"/home/djanloo/.local/share/virtualenvs/DM2-PeqFRmfa/lib/python3.10/site-packages/optuna/study/_optimize.py\", line 200, in _run_trial\n",
      "    value_or_values = func(trial)\n",
      "  File \"/tmp/ipykernel_22119/4273198217.py\", line 15, in objective_fun\n",
      "    cnn = build_and_fit_cnn(X=X_train_v,\n",
      "  File \"/tmp/ipykernel_22119/2256047732.py\", line 28, in build_and_fit_cnn\n",
      "    model.add(Conv1D(filters=filters, kernel_size=kernel_size, activation='relu', name=f\"extra_conv_{i}\"))\n",
      "  File \"/home/djanloo/.local/share/virtualenvs/DM2-PeqFRmfa/lib/python3.10/site-packages/tensorflow/python/trackable/base.py\", line 205, in _method_wrapper\n",
      "    result = method(self, *args, **kwargs)\n",
      "  File \"/home/djanloo/.local/share/virtualenvs/DM2-PeqFRmfa/lib/python3.10/site-packages/keras/utils/traceback_utils.py\", line 70, in error_handler\n",
      "    raise e.with_traceback(filtered_tb) from None\n",
      "  File \"/home/djanloo/.local/share/virtualenvs/DM2-PeqFRmfa/lib/python3.10/site-packages/keras/layers/convolutional/base_conv.py\", line 354, in compute_output_shape\n",
      "    raise ValueError(\n",
      "ValueError: One of the dimensions in the output is <= 0 due to downsampling in extra_conv_0. Consider increasing the input size. Received input shape [None, 8, 13] which would produce output shape with a zero or negative value in a dimension.\n",
      "[W 2023-06-26 12:35:15,261] Trial 28 failed with value None.\n"
     ]
    },
    {
     "name": "stdout",
     "output_type": "stream",
     "text": [
      "Running little bitch having n_conv=2, dropout=0.9412677307280072, hidden_nodes=71\n"
     ]
    },
    {
     "name": "stderr",
     "output_type": "stream",
     "text": [
      "[W 2023-06-26 12:35:15,566] Trial 29 failed with parameters: {'n_conv': 3, 'n_hidden': 0, 'hidden_nodes': 79, 'dropout': 0.014447378514221343, 'filters': 12, 'kernel_size': 16, 'batch_size': 32, 'epochs': 22} because of the following error: ValueError('One of the dimensions in the output is <= 0 due to downsampling in extra_conv_0. Consider increasing the input size. Received input shape [None, 8, 12] which would produce output shape with a zero or negative value in a dimension.').\n",
      "Traceback (most recent call last):\n",
      "  File \"/home/djanloo/.local/share/virtualenvs/DM2-PeqFRmfa/lib/python3.10/site-packages/optuna/study/_optimize.py\", line 200, in _run_trial\n",
      "    value_or_values = func(trial)\n",
      "  File \"/tmp/ipykernel_22119/4273198217.py\", line 15, in objective_fun\n",
      "    cnn = build_and_fit_cnn(X=X_train_v,\n",
      "  File \"/tmp/ipykernel_22119/2256047732.py\", line 28, in build_and_fit_cnn\n",
      "    model.add(Conv1D(filters=filters, kernel_size=kernel_size, activation='relu', name=f\"extra_conv_{i}\"))\n",
      "  File \"/home/djanloo/.local/share/virtualenvs/DM2-PeqFRmfa/lib/python3.10/site-packages/tensorflow/python/trackable/base.py\", line 205, in _method_wrapper\n",
      "    result = method(self, *args, **kwargs)\n",
      "  File \"/home/djanloo/.local/share/virtualenvs/DM2-PeqFRmfa/lib/python3.10/site-packages/keras/utils/traceback_utils.py\", line 70, in error_handler\n",
      "    raise e.with_traceback(filtered_tb) from None\n",
      "  File \"/home/djanloo/.local/share/virtualenvs/DM2-PeqFRmfa/lib/python3.10/site-packages/keras/layers/convolutional/base_conv.py\", line 354, in compute_output_shape\n",
      "    raise ValueError(\n",
      "ValueError: One of the dimensions in the output is <= 0 due to downsampling in extra_conv_0. Consider increasing the input size. Received input shape [None, 8, 12] which would produce output shape with a zero or negative value in a dimension.\n",
      "[W 2023-06-26 12:35:15,574] Trial 29 failed with value None.\n"
     ]
    },
    {
     "name": "stdout",
     "output_type": "stream",
     "text": [
      "Running little bitch having n_conv=3, dropout=0.014447378514221343, hidden_nodes=79\n"
     ]
    },
    {
     "name": "stderr",
     "output_type": "stream",
     "text": [
      "[W 2023-06-26 12:35:15,842] Trial 30 failed with parameters: {'n_conv': 3, 'n_hidden': 0, 'hidden_nodes': 91, 'dropout': 0.9077257517020328, 'filters': 12, 'kernel_size': 15, 'batch_size': 31, 'epochs': 22} because of the following error: ValueError('One of the dimensions in the output is <= 0 due to downsampling in extra_conv_0. Consider increasing the input size. Received input shape [None, 9, 12] which would produce output shape with a zero or negative value in a dimension.').\n",
      "Traceback (most recent call last):\n",
      "  File \"/home/djanloo/.local/share/virtualenvs/DM2-PeqFRmfa/lib/python3.10/site-packages/optuna/study/_optimize.py\", line 200, in _run_trial\n",
      "    value_or_values = func(trial)\n",
      "  File \"/tmp/ipykernel_22119/4273198217.py\", line 15, in objective_fun\n",
      "    cnn = build_and_fit_cnn(X=X_train_v,\n",
      "  File \"/tmp/ipykernel_22119/2256047732.py\", line 28, in build_and_fit_cnn\n",
      "    model.add(Conv1D(filters=filters, kernel_size=kernel_size, activation='relu', name=f\"extra_conv_{i}\"))\n",
      "  File \"/home/djanloo/.local/share/virtualenvs/DM2-PeqFRmfa/lib/python3.10/site-packages/tensorflow/python/trackable/base.py\", line 205, in _method_wrapper\n",
      "    result = method(self, *args, **kwargs)\n",
      "  File \"/home/djanloo/.local/share/virtualenvs/DM2-PeqFRmfa/lib/python3.10/site-packages/keras/utils/traceback_utils.py\", line 70, in error_handler\n",
      "    raise e.with_traceback(filtered_tb) from None\n",
      "  File \"/home/djanloo/.local/share/virtualenvs/DM2-PeqFRmfa/lib/python3.10/site-packages/keras/layers/convolutional/base_conv.py\", line 354, in compute_output_shape\n",
      "    raise ValueError(\n",
      "ValueError: One of the dimensions in the output is <= 0 due to downsampling in extra_conv_0. Consider increasing the input size. Received input shape [None, 9, 12] which would produce output shape with a zero or negative value in a dimension.\n",
      "[W 2023-06-26 12:35:15,845] Trial 30 failed with value None.\n"
     ]
    },
    {
     "name": "stdout",
     "output_type": "stream",
     "text": [
      "Running little bitch having n_conv=3, dropout=0.9077257517020328, hidden_nodes=91\n"
     ]
    },
    {
     "name": "stderr",
     "output_type": "stream",
     "text": [
      "[W 2023-06-26 12:35:16,113] Trial 31 failed with parameters: {'n_conv': 3, 'n_hidden': 0, 'hidden_nodes': 80, 'dropout': 0.4865169437145476, 'filters': 12, 'kernel_size': 16, 'batch_size': 31, 'epochs': 23} because of the following error: ValueError('One of the dimensions in the output is <= 0 due to downsampling in extra_conv_0. Consider increasing the input size. Received input shape [None, 8, 12] which would produce output shape with a zero or negative value in a dimension.').\n",
      "Traceback (most recent call last):\n",
      "  File \"/home/djanloo/.local/share/virtualenvs/DM2-PeqFRmfa/lib/python3.10/site-packages/optuna/study/_optimize.py\", line 200, in _run_trial\n",
      "    value_or_values = func(trial)\n",
      "  File \"/tmp/ipykernel_22119/4273198217.py\", line 15, in objective_fun\n",
      "    cnn = build_and_fit_cnn(X=X_train_v,\n",
      "  File \"/tmp/ipykernel_22119/2256047732.py\", line 28, in build_and_fit_cnn\n",
      "    model.add(Conv1D(filters=filters, kernel_size=kernel_size, activation='relu', name=f\"extra_conv_{i}\"))\n",
      "  File \"/home/djanloo/.local/share/virtualenvs/DM2-PeqFRmfa/lib/python3.10/site-packages/tensorflow/python/trackable/base.py\", line 205, in _method_wrapper\n",
      "    result = method(self, *args, **kwargs)\n",
      "  File \"/home/djanloo/.local/share/virtualenvs/DM2-PeqFRmfa/lib/python3.10/site-packages/keras/utils/traceback_utils.py\", line 70, in error_handler\n",
      "    raise e.with_traceback(filtered_tb) from None\n",
      "  File \"/home/djanloo/.local/share/virtualenvs/DM2-PeqFRmfa/lib/python3.10/site-packages/keras/layers/convolutional/base_conv.py\", line 354, in compute_output_shape\n",
      "    raise ValueError(\n",
      "ValueError: One of the dimensions in the output is <= 0 due to downsampling in extra_conv_0. Consider increasing the input size. Received input shape [None, 8, 12] which would produce output shape with a zero or negative value in a dimension.\n",
      "[W 2023-06-26 12:35:16,121] Trial 31 failed with value None.\n"
     ]
    },
    {
     "name": "stdout",
     "output_type": "stream",
     "text": [
      "Running little bitch having n_conv=3, dropout=0.4865169437145476, hidden_nodes=80\n"
     ]
    },
    {
     "name": "stderr",
     "output_type": "stream",
     "text": [
      "[W 2023-06-26 12:35:16,392] Trial 32 failed with parameters: {'n_conv': 3, 'n_hidden': 0, 'hidden_nodes': 72, 'dropout': 0.018432772164167832, 'filters': 12, 'kernel_size': 16, 'batch_size': 31, 'epochs': 21} because of the following error: ValueError('One of the dimensions in the output is <= 0 due to downsampling in extra_conv_0. Consider increasing the input size. Received input shape [None, 8, 12] which would produce output shape with a zero or negative value in a dimension.').\n",
      "Traceback (most recent call last):\n",
      "  File \"/home/djanloo/.local/share/virtualenvs/DM2-PeqFRmfa/lib/python3.10/site-packages/optuna/study/_optimize.py\", line 200, in _run_trial\n",
      "    value_or_values = func(trial)\n",
      "  File \"/tmp/ipykernel_22119/4273198217.py\", line 15, in objective_fun\n",
      "    cnn = build_and_fit_cnn(X=X_train_v,\n",
      "  File \"/tmp/ipykernel_22119/2256047732.py\", line 28, in build_and_fit_cnn\n",
      "    model.add(Conv1D(filters=filters, kernel_size=kernel_size, activation='relu', name=f\"extra_conv_{i}\"))\n",
      "  File \"/home/djanloo/.local/share/virtualenvs/DM2-PeqFRmfa/lib/python3.10/site-packages/tensorflow/python/trackable/base.py\", line 205, in _method_wrapper\n",
      "    result = method(self, *args, **kwargs)\n",
      "  File \"/home/djanloo/.local/share/virtualenvs/DM2-PeqFRmfa/lib/python3.10/site-packages/keras/utils/traceback_utils.py\", line 70, in error_handler\n",
      "    raise e.with_traceback(filtered_tb) from None\n",
      "  File \"/home/djanloo/.local/share/virtualenvs/DM2-PeqFRmfa/lib/python3.10/site-packages/keras/layers/convolutional/base_conv.py\", line 354, in compute_output_shape\n",
      "    raise ValueError(\n",
      "ValueError: One of the dimensions in the output is <= 0 due to downsampling in extra_conv_0. Consider increasing the input size. Received input shape [None, 8, 12] which would produce output shape with a zero or negative value in a dimension.\n",
      "[W 2023-06-26 12:35:16,402] Trial 32 failed with value None.\n"
     ]
    },
    {
     "name": "stdout",
     "output_type": "stream",
     "text": [
      "Running little bitch having n_conv=3, dropout=0.018432772164167832, hidden_nodes=72\n"
     ]
    },
    {
     "name": "stderr",
     "output_type": "stream",
     "text": [
      "[W 2023-06-26 12:35:16,703] Trial 33 failed with parameters: {'n_conv': 3, 'n_hidden': 0, 'hidden_nodes': 74, 'dropout': 0.9267608122093588, 'filters': 12, 'kernel_size': 16, 'batch_size': 31, 'epochs': 21} because of the following error: ValueError('One of the dimensions in the output is <= 0 due to downsampling in extra_conv_0. Consider increasing the input size. Received input shape [None, 8, 12] which would produce output shape with a zero or negative value in a dimension.').\n",
      "Traceback (most recent call last):\n",
      "  File \"/home/djanloo/.local/share/virtualenvs/DM2-PeqFRmfa/lib/python3.10/site-packages/optuna/study/_optimize.py\", line 200, in _run_trial\n",
      "    value_or_values = func(trial)\n",
      "  File \"/tmp/ipykernel_22119/4273198217.py\", line 15, in objective_fun\n",
      "    cnn = build_and_fit_cnn(X=X_train_v,\n",
      "  File \"/tmp/ipykernel_22119/2256047732.py\", line 28, in build_and_fit_cnn\n",
      "    model.add(Conv1D(filters=filters, kernel_size=kernel_size, activation='relu', name=f\"extra_conv_{i}\"))\n",
      "  File \"/home/djanloo/.local/share/virtualenvs/DM2-PeqFRmfa/lib/python3.10/site-packages/tensorflow/python/trackable/base.py\", line 205, in _method_wrapper\n",
      "    result = method(self, *args, **kwargs)\n",
      "  File \"/home/djanloo/.local/share/virtualenvs/DM2-PeqFRmfa/lib/python3.10/site-packages/keras/utils/traceback_utils.py\", line 70, in error_handler\n",
      "    raise e.with_traceback(filtered_tb) from None\n",
      "  File \"/home/djanloo/.local/share/virtualenvs/DM2-PeqFRmfa/lib/python3.10/site-packages/keras/layers/convolutional/base_conv.py\", line 354, in compute_output_shape\n",
      "    raise ValueError(\n",
      "ValueError: One of the dimensions in the output is <= 0 due to downsampling in extra_conv_0. Consider increasing the input size. Received input shape [None, 8, 12] which would produce output shape with a zero or negative value in a dimension.\n",
      "[W 2023-06-26 12:35:16,706] Trial 33 failed with value None.\n"
     ]
    },
    {
     "name": "stdout",
     "output_type": "stream",
     "text": [
      "Running little bitch having n_conv=3, dropout=0.9267608122093588, hidden_nodes=74\n"
     ]
    },
    {
     "name": "stderr",
     "output_type": "stream",
     "text": [
      "[W 2023-06-26 12:35:16,986] Trial 34 failed with parameters: {'n_conv': 3, 'n_hidden': 0, 'hidden_nodes': 83, 'dropout': 0.9797243768241132, 'filters': 12, 'kernel_size': 16, 'batch_size': 33, 'epochs': 21} because of the following error: ValueError('One of the dimensions in the output is <= 0 due to downsampling in extra_conv_0. Consider increasing the input size. Received input shape [None, 8, 12] which would produce output shape with a zero or negative value in a dimension.').\n",
      "Traceback (most recent call last):\n",
      "  File \"/home/djanloo/.local/share/virtualenvs/DM2-PeqFRmfa/lib/python3.10/site-packages/optuna/study/_optimize.py\", line 200, in _run_trial\n",
      "    value_or_values = func(trial)\n",
      "  File \"/tmp/ipykernel_22119/4273198217.py\", line 15, in objective_fun\n",
      "    cnn = build_and_fit_cnn(X=X_train_v,\n",
      "  File \"/tmp/ipykernel_22119/2256047732.py\", line 28, in build_and_fit_cnn\n",
      "    model.add(Conv1D(filters=filters, kernel_size=kernel_size, activation='relu', name=f\"extra_conv_{i}\"))\n",
      "  File \"/home/djanloo/.local/share/virtualenvs/DM2-PeqFRmfa/lib/python3.10/site-packages/tensorflow/python/trackable/base.py\", line 205, in _method_wrapper\n",
      "    result = method(self, *args, **kwargs)\n",
      "  File \"/home/djanloo/.local/share/virtualenvs/DM2-PeqFRmfa/lib/python3.10/site-packages/keras/utils/traceback_utils.py\", line 70, in error_handler\n",
      "    raise e.with_traceback(filtered_tb) from None\n",
      "  File \"/home/djanloo/.local/share/virtualenvs/DM2-PeqFRmfa/lib/python3.10/site-packages/keras/layers/convolutional/base_conv.py\", line 354, in compute_output_shape\n",
      "    raise ValueError(\n",
      "ValueError: One of the dimensions in the output is <= 0 due to downsampling in extra_conv_0. Consider increasing the input size. Received input shape [None, 8, 12] which would produce output shape with a zero or negative value in a dimension.\n",
      "[W 2023-06-26 12:35:16,989] Trial 34 failed with value None.\n"
     ]
    },
    {
     "name": "stdout",
     "output_type": "stream",
     "text": [
      "Running little bitch having n_conv=3, dropout=0.9797243768241132, hidden_nodes=83\n",
      "Running little bitch having n_conv=3, dropout=0.9778796033050652, hidden_nodes=90\n"
     ]
    },
    {
     "name": "stderr",
     "output_type": "stream",
     "text": [
      "[W 2023-06-26 12:35:17,321] Trial 35 failed with parameters: {'n_conv': 3, 'n_hidden': 0, 'hidden_nodes': 90, 'dropout': 0.9778796033050652, 'filters': 12, 'kernel_size': 16, 'batch_size': 31, 'epochs': 22} because of the following error: ValueError('One of the dimensions in the output is <= 0 due to downsampling in extra_conv_0. Consider increasing the input size. Received input shape [None, 8, 12] which would produce output shape with a zero or negative value in a dimension.').\n",
      "Traceback (most recent call last):\n",
      "  File \"/home/djanloo/.local/share/virtualenvs/DM2-PeqFRmfa/lib/python3.10/site-packages/optuna/study/_optimize.py\", line 200, in _run_trial\n",
      "    value_or_values = func(trial)\n",
      "  File \"/tmp/ipykernel_22119/4273198217.py\", line 15, in objective_fun\n",
      "    cnn = build_and_fit_cnn(X=X_train_v,\n",
      "  File \"/tmp/ipykernel_22119/2256047732.py\", line 28, in build_and_fit_cnn\n",
      "    model.add(Conv1D(filters=filters, kernel_size=kernel_size, activation='relu', name=f\"extra_conv_{i}\"))\n",
      "  File \"/home/djanloo/.local/share/virtualenvs/DM2-PeqFRmfa/lib/python3.10/site-packages/tensorflow/python/trackable/base.py\", line 205, in _method_wrapper\n",
      "    result = method(self, *args, **kwargs)\n",
      "  File \"/home/djanloo/.local/share/virtualenvs/DM2-PeqFRmfa/lib/python3.10/site-packages/keras/utils/traceback_utils.py\", line 70, in error_handler\n",
      "    raise e.with_traceback(filtered_tb) from None\n",
      "  File \"/home/djanloo/.local/share/virtualenvs/DM2-PeqFRmfa/lib/python3.10/site-packages/keras/layers/convolutional/base_conv.py\", line 354, in compute_output_shape\n",
      "    raise ValueError(\n",
      "ValueError: One of the dimensions in the output is <= 0 due to downsampling in extra_conv_0. Consider increasing the input size. Received input shape [None, 8, 12] which would produce output shape with a zero or negative value in a dimension.\n",
      "[W 2023-06-26 12:35:17,338] Trial 35 failed with value None.\n",
      "[W 2023-06-26 12:35:17,640] Trial 36 failed with parameters: {'n_conv': 3, 'n_hidden': 0, 'hidden_nodes': 84, 'dropout': 0.9841139583450426, 'filters': 12, 'kernel_size': 16, 'batch_size': 31, 'epochs': 23} because of the following error: ValueError('One of the dimensions in the output is <= 0 due to downsampling in extra_conv_0. Consider increasing the input size. Received input shape [None, 8, 12] which would produce output shape with a zero or negative value in a dimension.').\n",
      "Traceback (most recent call last):\n",
      "  File \"/home/djanloo/.local/share/virtualenvs/DM2-PeqFRmfa/lib/python3.10/site-packages/optuna/study/_optimize.py\", line 200, in _run_trial\n",
      "    value_or_values = func(trial)\n",
      "  File \"/tmp/ipykernel_22119/4273198217.py\", line 15, in objective_fun\n",
      "    cnn = build_and_fit_cnn(X=X_train_v,\n",
      "  File \"/tmp/ipykernel_22119/2256047732.py\", line 28, in build_and_fit_cnn\n",
      "    model.add(Conv1D(filters=filters, kernel_size=kernel_size, activation='relu', name=f\"extra_conv_{i}\"))\n",
      "  File \"/home/djanloo/.local/share/virtualenvs/DM2-PeqFRmfa/lib/python3.10/site-packages/tensorflow/python/trackable/base.py\", line 205, in _method_wrapper\n",
      "    result = method(self, *args, **kwargs)\n",
      "  File \"/home/djanloo/.local/share/virtualenvs/DM2-PeqFRmfa/lib/python3.10/site-packages/keras/utils/traceback_utils.py\", line 70, in error_handler\n",
      "    raise e.with_traceback(filtered_tb) from None\n",
      "  File \"/home/djanloo/.local/share/virtualenvs/DM2-PeqFRmfa/lib/python3.10/site-packages/keras/layers/convolutional/base_conv.py\", line 354, in compute_output_shape\n",
      "    raise ValueError(\n",
      "ValueError: One of the dimensions in the output is <= 0 due to downsampling in extra_conv_0. Consider increasing the input size. Received input shape [None, 8, 12] which would produce output shape with a zero or negative value in a dimension.\n",
      "[W 2023-06-26 12:35:17,651] Trial 36 failed with value None.\n"
     ]
    },
    {
     "name": "stdout",
     "output_type": "stream",
     "text": [
      "Running little bitch having n_conv=3, dropout=0.9841139583450426, hidden_nodes=84\n",
      "Running little bitch having n_conv=3, dropout=0.0006059246883597658, hidden_nodes=78\n"
     ]
    },
    {
     "name": "stderr",
     "output_type": "stream",
     "text": [
      "[W 2023-06-26 12:35:18,077] Trial 37 failed with parameters: {'n_conv': 3, 'n_hidden': 0, 'hidden_nodes': 78, 'dropout': 0.0006059246883597658, 'filters': 12, 'kernel_size': 16, 'batch_size': 31, 'epochs': 21} because of the following error: ValueError('One of the dimensions in the output is <= 0 due to downsampling in extra_conv_0. Consider increasing the input size. Received input shape [None, 8, 12] which would produce output shape with a zero or negative value in a dimension.').\n",
      "Traceback (most recent call last):\n",
      "  File \"/home/djanloo/.local/share/virtualenvs/DM2-PeqFRmfa/lib/python3.10/site-packages/optuna/study/_optimize.py\", line 200, in _run_trial\n",
      "    value_or_values = func(trial)\n",
      "  File \"/tmp/ipykernel_22119/4273198217.py\", line 15, in objective_fun\n",
      "    cnn = build_and_fit_cnn(X=X_train_v,\n",
      "  File \"/tmp/ipykernel_22119/2256047732.py\", line 28, in build_and_fit_cnn\n",
      "    model.add(Conv1D(filters=filters, kernel_size=kernel_size, activation='relu', name=f\"extra_conv_{i}\"))\n",
      "  File \"/home/djanloo/.local/share/virtualenvs/DM2-PeqFRmfa/lib/python3.10/site-packages/tensorflow/python/trackable/base.py\", line 205, in _method_wrapper\n",
      "    result = method(self, *args, **kwargs)\n",
      "  File \"/home/djanloo/.local/share/virtualenvs/DM2-PeqFRmfa/lib/python3.10/site-packages/keras/utils/traceback_utils.py\", line 70, in error_handler\n",
      "    raise e.with_traceback(filtered_tb) from None\n",
      "  File \"/home/djanloo/.local/share/virtualenvs/DM2-PeqFRmfa/lib/python3.10/site-packages/keras/layers/convolutional/base_conv.py\", line 354, in compute_output_shape\n",
      "    raise ValueError(\n",
      "ValueError: One of the dimensions in the output is <= 0 due to downsampling in extra_conv_0. Consider increasing the input size. Received input shape [None, 8, 12] which would produce output shape with a zero or negative value in a dimension.\n",
      "[W 2023-06-26 12:35:18,086] Trial 37 failed with value None.\n"
     ]
    },
    {
     "name": "stdout",
     "output_type": "stream",
     "text": [
      "Running little bitch having n_conv=3, dropout=0.005519007375072549, hidden_nodes=76\n",
      "12/12 [==============================] - 1s 8ms/step\n"
     ]
    },
    {
     "name": "stderr",
     "output_type": "stream",
     "text": [
      "[W 2023-06-26 12:35:18,467] Trial 38 failed with parameters: {'n_conv': 3, 'n_hidden': 0, 'hidden_nodes': 76, 'dropout': 0.005519007375072549, 'filters': 12, 'kernel_size': 16, 'batch_size': 32, 'epochs': 21} because of the following error: ValueError('One of the dimensions in the output is <= 0 due to downsampling in extra_conv_0. Consider increasing the input size. Received input shape [None, 8, 12] which would produce output shape with a zero or negative value in a dimension.').\n",
      "Traceback (most recent call last):\n",
      "  File \"/home/djanloo/.local/share/virtualenvs/DM2-PeqFRmfa/lib/python3.10/site-packages/optuna/study/_optimize.py\", line 200, in _run_trial\n",
      "    value_or_values = func(trial)\n",
      "  File \"/tmp/ipykernel_22119/4273198217.py\", line 15, in objective_fun\n",
      "    cnn = build_and_fit_cnn(X=X_train_v,\n",
      "  File \"/tmp/ipykernel_22119/2256047732.py\", line 28, in build_and_fit_cnn\n",
      "    model.add(Conv1D(filters=filters, kernel_size=kernel_size, activation='relu', name=f\"extra_conv_{i}\"))\n",
      "  File \"/home/djanloo/.local/share/virtualenvs/DM2-PeqFRmfa/lib/python3.10/site-packages/tensorflow/python/trackable/base.py\", line 205, in _method_wrapper\n",
      "    result = method(self, *args, **kwargs)\n",
      "  File \"/home/djanloo/.local/share/virtualenvs/DM2-PeqFRmfa/lib/python3.10/site-packages/keras/utils/traceback_utils.py\", line 70, in error_handler\n",
      "    raise e.with_traceback(filtered_tb) from None\n",
      "  File \"/home/djanloo/.local/share/virtualenvs/DM2-PeqFRmfa/lib/python3.10/site-packages/keras/layers/convolutional/base_conv.py\", line 354, in compute_output_shape\n",
      "    raise ValueError(\n",
      "ValueError: One of the dimensions in the output is <= 0 due to downsampling in extra_conv_0. Consider increasing the input size. Received input shape [None, 8, 12] which would produce output shape with a zero or negative value in a dimension.\n",
      "[W 2023-06-26 12:35:18,486] Trial 38 failed with value None.\n",
      "[I 2023-06-26 12:35:18,624] Trial 19 finished with value: 0.9426229508196722 and parameters: {'n_conv': 1, 'n_hidden': 0, 'hidden_nodes': 179, 'dropout': 0.6046082362177693, 'filters': 7, 'kernel_size': 3, 'batch_size': 52, 'epochs': 46}. Best is trial 14 with value: 0.9836065573770492.\n"
     ]
    },
    {
     "name": "stdout",
     "output_type": "stream",
     "text": [
      "Running little bitch having n_conv=3, dropout=0.9791708919052526, hidden_nodes=78\n",
      "Running little bitch having n_conv=3, dropout=0.003056337726812297, hidden_nodes=84\n"
     ]
    },
    {
     "name": "stderr",
     "output_type": "stream",
     "text": [
      "[W 2023-06-26 12:35:18,985] Trial 39 failed with parameters: {'n_conv': 3, 'n_hidden': 0, 'hidden_nodes': 78, 'dropout': 0.9791708919052526, 'filters': 12, 'kernel_size': 16, 'batch_size': 30, 'epochs': 22} because of the following error: ValueError('One of the dimensions in the output is <= 0 due to downsampling in extra_conv_0. Consider increasing the input size. Received input shape [None, 8, 12] which would produce output shape with a zero or negative value in a dimension.').\n",
      "Traceback (most recent call last):\n",
      "  File \"/home/djanloo/.local/share/virtualenvs/DM2-PeqFRmfa/lib/python3.10/site-packages/optuna/study/_optimize.py\", line 200, in _run_trial\n",
      "    value_or_values = func(trial)\n",
      "  File \"/tmp/ipykernel_22119/4273198217.py\", line 15, in objective_fun\n",
      "    cnn = build_and_fit_cnn(X=X_train_v,\n",
      "  File \"/tmp/ipykernel_22119/2256047732.py\", line 28, in build_and_fit_cnn\n",
      "    model.add(Conv1D(filters=filters, kernel_size=kernel_size, activation='relu', name=f\"extra_conv_{i}\"))\n",
      "  File \"/home/djanloo/.local/share/virtualenvs/DM2-PeqFRmfa/lib/python3.10/site-packages/tensorflow/python/trackable/base.py\", line 205, in _method_wrapper\n",
      "    result = method(self, *args, **kwargs)\n",
      "  File \"/home/djanloo/.local/share/virtualenvs/DM2-PeqFRmfa/lib/python3.10/site-packages/keras/utils/traceback_utils.py\", line 70, in error_handler\n",
      "    raise e.with_traceback(filtered_tb) from None\n",
      "  File \"/home/djanloo/.local/share/virtualenvs/DM2-PeqFRmfa/lib/python3.10/site-packages/keras/layers/convolutional/base_conv.py\", line 354, in compute_output_shape\n",
      "    raise ValueError(\n",
      "ValueError: One of the dimensions in the output is <= 0 due to downsampling in extra_conv_0. Consider increasing the input size. Received input shape [None, 8, 12] which would produce output shape with a zero or negative value in a dimension.\n",
      "[W 2023-06-26 12:35:18,997] Trial 39 failed with value None.\n",
      "[W 2023-06-26 12:35:19,093] Trial 40 failed with parameters: {'n_conv': 3, 'n_hidden': 3, 'hidden_nodes': 84, 'dropout': 0.003056337726812297, 'filters': 12, 'kernel_size': 15, 'batch_size': 31, 'epochs': 25} because of the following error: ValueError('One of the dimensions in the output is <= 0 due to downsampling in extra_conv_0. Consider increasing the input size. Received input shape [None, 9, 12] which would produce output shape with a zero or negative value in a dimension.').\n",
      "Traceback (most recent call last):\n",
      "  File \"/home/djanloo/.local/share/virtualenvs/DM2-PeqFRmfa/lib/python3.10/site-packages/optuna/study/_optimize.py\", line 200, in _run_trial\n",
      "    value_or_values = func(trial)\n",
      "  File \"/tmp/ipykernel_22119/4273198217.py\", line 15, in objective_fun\n",
      "    cnn = build_and_fit_cnn(X=X_train_v,\n",
      "  File \"/tmp/ipykernel_22119/2256047732.py\", line 28, in build_and_fit_cnn\n",
      "    model.add(Conv1D(filters=filters, kernel_size=kernel_size, activation='relu', name=f\"extra_conv_{i}\"))\n",
      "  File \"/home/djanloo/.local/share/virtualenvs/DM2-PeqFRmfa/lib/python3.10/site-packages/tensorflow/python/trackable/base.py\", line 205, in _method_wrapper\n",
      "    result = method(self, *args, **kwargs)\n",
      "  File \"/home/djanloo/.local/share/virtualenvs/DM2-PeqFRmfa/lib/python3.10/site-packages/keras/utils/traceback_utils.py\", line 70, in error_handler\n",
      "    raise e.with_traceback(filtered_tb) from None\n",
      "  File \"/home/djanloo/.local/share/virtualenvs/DM2-PeqFRmfa/lib/python3.10/site-packages/keras/layers/convolutional/base_conv.py\", line 354, in compute_output_shape\n",
      "    raise ValueError(\n",
      "ValueError: One of the dimensions in the output is <= 0 due to downsampling in extra_conv_0. Consider increasing the input size. Received input shape [None, 9, 12] which would produce output shape with a zero or negative value in a dimension.\n",
      "[W 2023-06-26 12:35:19,116] Trial 40 failed with value None.\n"
     ]
    },
    {
     "name": "stdout",
     "output_type": "stream",
     "text": [
      "Running little bitch having n_conv=3, dropout=0.016420489181118936, hidden_nodes=80\n",
      "Running little bitch having n_conv=3, dropout=0.11916463044475643, hidden_nodes=84\n"
     ]
    },
    {
     "name": "stderr",
     "output_type": "stream",
     "text": [
      "[W 2023-06-26 12:35:19,535] Trial 41 failed with parameters: {'n_conv': 3, 'n_hidden': 3, 'hidden_nodes': 80, 'dropout': 0.016420489181118936, 'filters': 12, 'kernel_size': 15, 'batch_size': 30, 'epochs': 26} because of the following error: ValueError('One of the dimensions in the output is <= 0 due to downsampling in extra_conv_0. Consider increasing the input size. Received input shape [None, 9, 12] which would produce output shape with a zero or negative value in a dimension.').\n",
      "Traceback (most recent call last):\n",
      "  File \"/home/djanloo/.local/share/virtualenvs/DM2-PeqFRmfa/lib/python3.10/site-packages/optuna/study/_optimize.py\", line 200, in _run_trial\n",
      "    value_or_values = func(trial)\n",
      "  File \"/tmp/ipykernel_22119/4273198217.py\", line 15, in objective_fun\n",
      "    cnn = build_and_fit_cnn(X=X_train_v,\n",
      "  File \"/tmp/ipykernel_22119/2256047732.py\", line 28, in build_and_fit_cnn\n",
      "    model.add(Conv1D(filters=filters, kernel_size=kernel_size, activation='relu', name=f\"extra_conv_{i}\"))\n",
      "  File \"/home/djanloo/.local/share/virtualenvs/DM2-PeqFRmfa/lib/python3.10/site-packages/tensorflow/python/trackable/base.py\", line 205, in _method_wrapper\n",
      "    result = method(self, *args, **kwargs)\n",
      "  File \"/home/djanloo/.local/share/virtualenvs/DM2-PeqFRmfa/lib/python3.10/site-packages/keras/utils/traceback_utils.py\", line 70, in error_handler\n",
      "    raise e.with_traceback(filtered_tb) from None\n",
      "  File \"/home/djanloo/.local/share/virtualenvs/DM2-PeqFRmfa/lib/python3.10/site-packages/keras/layers/convolutional/base_conv.py\", line 354, in compute_output_shape\n",
      "    raise ValueError(\n",
      "ValueError: One of the dimensions in the output is <= 0 due to downsampling in extra_conv_0. Consider increasing the input size. Received input shape [None, 9, 12] which would produce output shape with a zero or negative value in a dimension.\n",
      "[W 2023-06-26 12:35:19,550] Trial 41 failed with value None.\n",
      "[W 2023-06-26 12:35:19,710] Trial 42 failed with parameters: {'n_conv': 3, 'n_hidden': 3, 'hidden_nodes': 84, 'dropout': 0.11916463044475643, 'filters': 12, 'kernel_size': 15, 'batch_size': 34, 'epochs': 25} because of the following error: ValueError('One of the dimensions in the output is <= 0 due to downsampling in extra_conv_0. Consider increasing the input size. Received input shape [None, 9, 12] which would produce output shape with a zero or negative value in a dimension.').\n",
      "Traceback (most recent call last):\n",
      "  File \"/home/djanloo/.local/share/virtualenvs/DM2-PeqFRmfa/lib/python3.10/site-packages/optuna/study/_optimize.py\", line 200, in _run_trial\n",
      "    value_or_values = func(trial)\n",
      "  File \"/tmp/ipykernel_22119/4273198217.py\", line 15, in objective_fun\n",
      "    cnn = build_and_fit_cnn(X=X_train_v,\n",
      "  File \"/tmp/ipykernel_22119/2256047732.py\", line 28, in build_and_fit_cnn\n",
      "    model.add(Conv1D(filters=filters, kernel_size=kernel_size, activation='relu', name=f\"extra_conv_{i}\"))\n",
      "  File \"/home/djanloo/.local/share/virtualenvs/DM2-PeqFRmfa/lib/python3.10/site-packages/tensorflow/python/trackable/base.py\", line 205, in _method_wrapper\n",
      "    result = method(self, *args, **kwargs)\n",
      "  File \"/home/djanloo/.local/share/virtualenvs/DM2-PeqFRmfa/lib/python3.10/site-packages/keras/utils/traceback_utils.py\", line 70, in error_handler\n",
      "    raise e.with_traceback(filtered_tb) from None\n",
      "  File \"/home/djanloo/.local/share/virtualenvs/DM2-PeqFRmfa/lib/python3.10/site-packages/keras/layers/convolutional/base_conv.py\", line 354, in compute_output_shape\n",
      "    raise ValueError(\n",
      "ValueError: One of the dimensions in the output is <= 0 due to downsampling in extra_conv_0. Consider increasing the input size. Received input shape [None, 9, 12] which would produce output shape with a zero or negative value in a dimension.\n",
      "[W 2023-06-26 12:35:19,720] Trial 42 failed with value None.\n"
     ]
    },
    {
     "name": "stdout",
     "output_type": "stream",
     "text": [
      "Running little bitch having n_conv=3, dropout=0.061588090751146976, hidden_nodes=90\n",
      "Running little bitch having n_conv=3, dropout=0.03428714903371766, hidden_nodes=87\n"
     ]
    },
    {
     "name": "stderr",
     "output_type": "stream",
     "text": [
      "[W 2023-06-26 12:35:20,061] Trial 43 failed with parameters: {'n_conv': 3, 'n_hidden': 3, 'hidden_nodes': 90, 'dropout': 0.061588090751146976, 'filters': 12, 'kernel_size': 15, 'batch_size': 31, 'epochs': 24} because of the following error: ValueError('One of the dimensions in the output is <= 0 due to downsampling in extra_conv_0. Consider increasing the input size. Received input shape [None, 9, 12] which would produce output shape with a zero or negative value in a dimension.').\n",
      "Traceback (most recent call last):\n",
      "  File \"/home/djanloo/.local/share/virtualenvs/DM2-PeqFRmfa/lib/python3.10/site-packages/optuna/study/_optimize.py\", line 200, in _run_trial\n",
      "    value_or_values = func(trial)\n",
      "  File \"/tmp/ipykernel_22119/4273198217.py\", line 15, in objective_fun\n",
      "    cnn = build_and_fit_cnn(X=X_train_v,\n",
      "  File \"/tmp/ipykernel_22119/2256047732.py\", line 28, in build_and_fit_cnn\n",
      "    model.add(Conv1D(filters=filters, kernel_size=kernel_size, activation='relu', name=f\"extra_conv_{i}\"))\n",
      "  File \"/home/djanloo/.local/share/virtualenvs/DM2-PeqFRmfa/lib/python3.10/site-packages/tensorflow/python/trackable/base.py\", line 205, in _method_wrapper\n",
      "    result = method(self, *args, **kwargs)\n",
      "  File \"/home/djanloo/.local/share/virtualenvs/DM2-PeqFRmfa/lib/python3.10/site-packages/keras/utils/traceback_utils.py\", line 70, in error_handler\n",
      "    raise e.with_traceback(filtered_tb) from None\n",
      "  File \"/home/djanloo/.local/share/virtualenvs/DM2-PeqFRmfa/lib/python3.10/site-packages/keras/layers/convolutional/base_conv.py\", line 354, in compute_output_shape\n",
      "    raise ValueError(\n",
      "ValueError: One of the dimensions in the output is <= 0 due to downsampling in extra_conv_0. Consider increasing the input size. Received input shape [None, 9, 12] which would produce output shape with a zero or negative value in a dimension.\n",
      "[W 2023-06-26 12:35:20,068] Trial 43 failed with value None.\n",
      "[W 2023-06-26 12:35:20,125] Trial 44 failed with parameters: {'n_conv': 3, 'n_hidden': 3, 'hidden_nodes': 87, 'dropout': 0.03428714903371766, 'filters': 12, 'kernel_size': 15, 'batch_size': 34, 'epochs': 23} because of the following error: ValueError('One of the dimensions in the output is <= 0 due to downsampling in extra_conv_0. Consider increasing the input size. Received input shape [None, 9, 12] which would produce output shape with a zero or negative value in a dimension.').\n",
      "Traceback (most recent call last):\n",
      "  File \"/home/djanloo/.local/share/virtualenvs/DM2-PeqFRmfa/lib/python3.10/site-packages/optuna/study/_optimize.py\", line 200, in _run_trial\n",
      "    value_or_values = func(trial)\n",
      "  File \"/tmp/ipykernel_22119/4273198217.py\", line 15, in objective_fun\n",
      "    cnn = build_and_fit_cnn(X=X_train_v,\n",
      "  File \"/tmp/ipykernel_22119/2256047732.py\", line 28, in build_and_fit_cnn\n",
      "    model.add(Conv1D(filters=filters, kernel_size=kernel_size, activation='relu', name=f\"extra_conv_{i}\"))\n",
      "  File \"/home/djanloo/.local/share/virtualenvs/DM2-PeqFRmfa/lib/python3.10/site-packages/tensorflow/python/trackable/base.py\", line 205, in _method_wrapper\n",
      "    result = method(self, *args, **kwargs)\n",
      "  File \"/home/djanloo/.local/share/virtualenvs/DM2-PeqFRmfa/lib/python3.10/site-packages/keras/utils/traceback_utils.py\", line 70, in error_handler\n",
      "    raise e.with_traceback(filtered_tb) from None\n",
      "  File \"/home/djanloo/.local/share/virtualenvs/DM2-PeqFRmfa/lib/python3.10/site-packages/keras/layers/convolutional/base_conv.py\", line 354, in compute_output_shape\n",
      "    raise ValueError(\n",
      "ValueError: One of the dimensions in the output is <= 0 due to downsampling in extra_conv_0. Consider increasing the input size. Received input shape [None, 9, 12] which would produce output shape with a zero or negative value in a dimension.\n",
      "[W 2023-06-26 12:35:20,167] Trial 44 failed with value None.\n"
     ]
    },
    {
     "name": "stdout",
     "output_type": "stream",
     "text": [
      "Running little bitch having n_conv=3, dropout=0.0010342873830901933, hidden_nodes=86\n",
      "Running little bitch having n_conv=3, dropout=0.026102610842110074, hidden_nodes=93\n"
     ]
    },
    {
     "name": "stderr",
     "output_type": "stream",
     "text": [
      "[W 2023-06-26 12:35:20,603] Trial 46 failed with parameters: {'n_conv': 3, 'n_hidden': 3, 'hidden_nodes': 93, 'dropout': 0.026102610842110074, 'filters': 12, 'kernel_size': 15, 'batch_size': 33, 'epochs': 25} because of the following error: ValueError('One of the dimensions in the output is <= 0 due to downsampling in extra_conv_0. Consider increasing the input size. Received input shape [None, 9, 12] which would produce output shape with a zero or negative value in a dimension.').\n",
      "Traceback (most recent call last):\n",
      "  File \"/home/djanloo/.local/share/virtualenvs/DM2-PeqFRmfa/lib/python3.10/site-packages/optuna/study/_optimize.py\", line 200, in _run_trial\n",
      "    value_or_values = func(trial)\n",
      "  File \"/tmp/ipykernel_22119/4273198217.py\", line 15, in objective_fun\n",
      "    cnn = build_and_fit_cnn(X=X_train_v,\n",
      "  File \"/tmp/ipykernel_22119/2256047732.py\", line 28, in build_and_fit_cnn\n",
      "    model.add(Conv1D(filters=filters, kernel_size=kernel_size, activation='relu', name=f\"extra_conv_{i}\"))\n",
      "  File \"/home/djanloo/.local/share/virtualenvs/DM2-PeqFRmfa/lib/python3.10/site-packages/tensorflow/python/trackable/base.py\", line 205, in _method_wrapper\n",
      "    result = method(self, *args, **kwargs)\n",
      "  File \"/home/djanloo/.local/share/virtualenvs/DM2-PeqFRmfa/lib/python3.10/site-packages/keras/utils/traceback_utils.py\", line 70, in error_handler\n",
      "    raise e.with_traceback(filtered_tb) from None\n",
      "  File \"/home/djanloo/.local/share/virtualenvs/DM2-PeqFRmfa/lib/python3.10/site-packages/keras/layers/convolutional/base_conv.py\", line 354, in compute_output_shape\n",
      "    raise ValueError(\n",
      "ValueError: One of the dimensions in the output is <= 0 due to downsampling in extra_conv_0. Consider increasing the input size. Received input shape [None, 9, 12] which would produce output shape with a zero or negative value in a dimension.\n",
      "[W 2023-06-26 12:35:20,621] Trial 46 failed with value None.\n",
      "[W 2023-06-26 12:35:20,638] Trial 45 failed with parameters: {'n_conv': 3, 'n_hidden': 3, 'hidden_nodes': 86, 'dropout': 0.0010342873830901933, 'filters': 12, 'kernel_size': 15, 'batch_size': 33, 'epochs': 23} because of the following error: ValueError('One of the dimensions in the output is <= 0 due to downsampling in extra_conv_0. Consider increasing the input size. Received input shape [None, 9, 12] which would produce output shape with a zero or negative value in a dimension.').\n",
      "Traceback (most recent call last):\n",
      "  File \"/home/djanloo/.local/share/virtualenvs/DM2-PeqFRmfa/lib/python3.10/site-packages/optuna/study/_optimize.py\", line 200, in _run_trial\n",
      "    value_or_values = func(trial)\n",
      "  File \"/tmp/ipykernel_22119/4273198217.py\", line 15, in objective_fun\n",
      "    cnn = build_and_fit_cnn(X=X_train_v,\n",
      "  File \"/tmp/ipykernel_22119/2256047732.py\", line 28, in build_and_fit_cnn\n",
      "    model.add(Conv1D(filters=filters, kernel_size=kernel_size, activation='relu', name=f\"extra_conv_{i}\"))\n",
      "  File \"/home/djanloo/.local/share/virtualenvs/DM2-PeqFRmfa/lib/python3.10/site-packages/tensorflow/python/trackable/base.py\", line 205, in _method_wrapper\n",
      "    result = method(self, *args, **kwargs)\n",
      "  File \"/home/djanloo/.local/share/virtualenvs/DM2-PeqFRmfa/lib/python3.10/site-packages/keras/utils/traceback_utils.py\", line 70, in error_handler\n",
      "    raise e.with_traceback(filtered_tb) from None\n",
      "  File \"/home/djanloo/.local/share/virtualenvs/DM2-PeqFRmfa/lib/python3.10/site-packages/keras/layers/convolutional/base_conv.py\", line 354, in compute_output_shape\n",
      "    raise ValueError(\n",
      "ValueError: One of the dimensions in the output is <= 0 due to downsampling in extra_conv_0. Consider increasing the input size. Received input shape [None, 9, 12] which would produce output shape with a zero or negative value in a dimension.\n",
      "[W 2023-06-26 12:35:20,643] Trial 45 failed with value None.\n"
     ]
    },
    {
     "name": "stdout",
     "output_type": "stream",
     "text": [
      "Running little bitch having n_conv=3, dropout=0.05273495922732052, hidden_nodes=82\n",
      "Running little bitch having n_conv=3, dropout=0.04395108128294062, hidden_nodes=84\n"
     ]
    },
    {
     "name": "stderr",
     "output_type": "stream",
     "text": [
      "[W 2023-06-26 12:35:21,108] Trial 47 failed with parameters: {'n_conv': 3, 'n_hidden': 3, 'hidden_nodes': 82, 'dropout': 0.05273495922732052, 'filters': 12, 'kernel_size': 16, 'batch_size': 30, 'epochs': 25} because of the following error: ValueError('One of the dimensions in the output is <= 0 due to downsampling in extra_conv_0. Consider increasing the input size. Received input shape [None, 8, 12] which would produce output shape with a zero or negative value in a dimension.').\n",
      "Traceback (most recent call last):\n",
      "  File \"/home/djanloo/.local/share/virtualenvs/DM2-PeqFRmfa/lib/python3.10/site-packages/optuna/study/_optimize.py\", line 200, in _run_trial\n",
      "    value_or_values = func(trial)\n",
      "  File \"/tmp/ipykernel_22119/4273198217.py\", line 15, in objective_fun\n",
      "    cnn = build_and_fit_cnn(X=X_train_v,\n",
      "  File \"/tmp/ipykernel_22119/2256047732.py\", line 28, in build_and_fit_cnn\n",
      "    model.add(Conv1D(filters=filters, kernel_size=kernel_size, activation='relu', name=f\"extra_conv_{i}\"))\n",
      "  File \"/home/djanloo/.local/share/virtualenvs/DM2-PeqFRmfa/lib/python3.10/site-packages/tensorflow/python/trackable/base.py\", line 205, in _method_wrapper\n",
      "    result = method(self, *args, **kwargs)\n",
      "  File \"/home/djanloo/.local/share/virtualenvs/DM2-PeqFRmfa/lib/python3.10/site-packages/keras/utils/traceback_utils.py\", line 70, in error_handler\n",
      "    raise e.with_traceback(filtered_tb) from None\n",
      "  File \"/home/djanloo/.local/share/virtualenvs/DM2-PeqFRmfa/lib/python3.10/site-packages/keras/layers/convolutional/base_conv.py\", line 354, in compute_output_shape\n",
      "    raise ValueError(\n",
      "ValueError: One of the dimensions in the output is <= 0 due to downsampling in extra_conv_0. Consider increasing the input size. Received input shape [None, 8, 12] which would produce output shape with a zero or negative value in a dimension.\n",
      "[W 2023-06-26 12:35:21,121] Trial 47 failed with value None.\n",
      "[W 2023-06-26 12:35:21,189] Trial 48 failed with parameters: {'n_conv': 3, 'n_hidden': 3, 'hidden_nodes': 84, 'dropout': 0.04395108128294062, 'filters': 12, 'kernel_size': 15, 'batch_size': 34, 'epochs': 24} because of the following error: ValueError('One of the dimensions in the output is <= 0 due to downsampling in extra_conv_0. Consider increasing the input size. Received input shape [None, 9, 12] which would produce output shape with a zero or negative value in a dimension.').\n",
      "Traceback (most recent call last):\n",
      "  File \"/home/djanloo/.local/share/virtualenvs/DM2-PeqFRmfa/lib/python3.10/site-packages/optuna/study/_optimize.py\", line 200, in _run_trial\n",
      "    value_or_values = func(trial)\n",
      "  File \"/tmp/ipykernel_22119/4273198217.py\", line 15, in objective_fun\n",
      "    cnn = build_and_fit_cnn(X=X_train_v,\n",
      "  File \"/tmp/ipykernel_22119/2256047732.py\", line 28, in build_and_fit_cnn\n",
      "    model.add(Conv1D(filters=filters, kernel_size=kernel_size, activation='relu', name=f\"extra_conv_{i}\"))\n",
      "  File \"/home/djanloo/.local/share/virtualenvs/DM2-PeqFRmfa/lib/python3.10/site-packages/tensorflow/python/trackable/base.py\", line 205, in _method_wrapper\n",
      "    result = method(self, *args, **kwargs)\n",
      "  File \"/home/djanloo/.local/share/virtualenvs/DM2-PeqFRmfa/lib/python3.10/site-packages/keras/utils/traceback_utils.py\", line 70, in error_handler\n",
      "    raise e.with_traceback(filtered_tb) from None\n",
      "  File \"/home/djanloo/.local/share/virtualenvs/DM2-PeqFRmfa/lib/python3.10/site-packages/keras/layers/convolutional/base_conv.py\", line 354, in compute_output_shape\n",
      "    raise ValueError(\n",
      "ValueError: One of the dimensions in the output is <= 0 due to downsampling in extra_conv_0. Consider increasing the input size. Received input shape [None, 9, 12] which would produce output shape with a zero or negative value in a dimension.\n",
      "[W 2023-06-26 12:35:21,220] Trial 48 failed with value None.\n"
     ]
    },
    {
     "name": "stdout",
     "output_type": "stream",
     "text": [
      "Running little bitch having n_conv=3, dropout=0.06569531750297201, hidden_nodes=87\n",
      "Running little bitch having n_conv=3, dropout=0.06643542648270284, hidden_nodes=87\n"
     ]
    },
    {
     "name": "stderr",
     "output_type": "stream",
     "text": [
      "[W 2023-06-26 12:35:21,692] Trial 49 failed with parameters: {'n_conv': 3, 'n_hidden': 3, 'hidden_nodes': 87, 'dropout': 0.06643542648270284, 'filters': 12, 'kernel_size': 15, 'batch_size': 32, 'epochs': 25} because of the following error: ValueError('One of the dimensions in the output is <= 0 due to downsampling in extra_conv_0. Consider increasing the input size. Received input shape [None, 9, 12] which would produce output shape with a zero or negative value in a dimension.').\n",
      "Traceback (most recent call last):\n",
      "  File \"/home/djanloo/.local/share/virtualenvs/DM2-PeqFRmfa/lib/python3.10/site-packages/optuna/study/_optimize.py\", line 200, in _run_trial\n",
      "    value_or_values = func(trial)\n",
      "  File \"/tmp/ipykernel_22119/4273198217.py\", line 15, in objective_fun\n",
      "    cnn = build_and_fit_cnn(X=X_train_v,\n",
      "  File \"/tmp/ipykernel_22119/2256047732.py\", line 28, in build_and_fit_cnn\n",
      "    model.add(Conv1D(filters=filters, kernel_size=kernel_size, activation='relu', name=f\"extra_conv_{i}\"))\n",
      "  File \"/home/djanloo/.local/share/virtualenvs/DM2-PeqFRmfa/lib/python3.10/site-packages/tensorflow/python/trackable/base.py\", line 205, in _method_wrapper\n",
      "    result = method(self, *args, **kwargs)\n",
      "  File \"/home/djanloo/.local/share/virtualenvs/DM2-PeqFRmfa/lib/python3.10/site-packages/keras/utils/traceback_utils.py\", line 70, in error_handler\n",
      "    raise e.with_traceback(filtered_tb) from None\n",
      "  File \"/home/djanloo/.local/share/virtualenvs/DM2-PeqFRmfa/lib/python3.10/site-packages/keras/layers/convolutional/base_conv.py\", line 354, in compute_output_shape\n",
      "    raise ValueError(\n",
      "ValueError: One of the dimensions in the output is <= 0 due to downsampling in extra_conv_0. Consider increasing the input size. Received input shape [None, 9, 12] which would produce output shape with a zero or negative value in a dimension.\n",
      "[W 2023-06-26 12:35:21,699] Trial 50 failed with parameters: {'n_conv': 3, 'n_hidden': 3, 'hidden_nodes': 87, 'dropout': 0.06569531750297201, 'filters': 12, 'kernel_size': 15, 'batch_size': 33, 'epochs': 28} because of the following error: ValueError('One of the dimensions in the output is <= 0 due to downsampling in extra_conv_0. Consider increasing the input size. Received input shape [None, 9, 12] which would produce output shape with a zero or negative value in a dimension.').\n",
      "Traceback (most recent call last):\n",
      "  File \"/home/djanloo/.local/share/virtualenvs/DM2-PeqFRmfa/lib/python3.10/site-packages/optuna/study/_optimize.py\", line 200, in _run_trial\n",
      "    value_or_values = func(trial)\n",
      "  File \"/tmp/ipykernel_22119/4273198217.py\", line 15, in objective_fun\n",
      "    cnn = build_and_fit_cnn(X=X_train_v,\n",
      "  File \"/tmp/ipykernel_22119/2256047732.py\", line 28, in build_and_fit_cnn\n",
      "    model.add(Conv1D(filters=filters, kernel_size=kernel_size, activation='relu', name=f\"extra_conv_{i}\"))\n",
      "  File \"/home/djanloo/.local/share/virtualenvs/DM2-PeqFRmfa/lib/python3.10/site-packages/tensorflow/python/trackable/base.py\", line 205, in _method_wrapper\n",
      "    result = method(self, *args, **kwargs)\n",
      "  File \"/home/djanloo/.local/share/virtualenvs/DM2-PeqFRmfa/lib/python3.10/site-packages/keras/utils/traceback_utils.py\", line 70, in error_handler\n",
      "    raise e.with_traceback(filtered_tb) from None\n",
      "  File \"/home/djanloo/.local/share/virtualenvs/DM2-PeqFRmfa/lib/python3.10/site-packages/keras/layers/convolutional/base_conv.py\", line 354, in compute_output_shape\n",
      "    raise ValueError(\n",
      "ValueError: One of the dimensions in the output is <= 0 due to downsampling in extra_conv_0. Consider increasing the input size. Received input shape [None, 9, 12] which would produce output shape with a zero or negative value in a dimension.\n",
      "[W 2023-06-26 12:35:21,712] Trial 50 failed with value None.\n",
      "[W 2023-06-26 12:35:21,703] Trial 49 failed with value None.\n"
     ]
    },
    {
     "name": "stdout",
     "output_type": "stream",
     "text": [
      "Running little bitch having n_conv=3, dropout=0.018526454281520277, hidden_nodes=82\n",
      "Running little bitch having n_conv=3, dropout=0.04167879162644275, hidden_nodes=83\n"
     ]
    },
    {
     "name": "stderr",
     "output_type": "stream",
     "text": [
      "[W 2023-06-26 12:35:22,226] Trial 51 failed with parameters: {'n_conv': 3, 'n_hidden': 3, 'hidden_nodes': 83, 'dropout': 0.04167879162644275, 'filters': 12, 'kernel_size': 14, 'batch_size': 32, 'epochs': 26} because of the following error: ValueError('One of the dimensions in the output is <= 0 due to downsampling in extra_conv_0. Consider increasing the input size. Received input shape [None, 10, 12] which would produce output shape with a zero or negative value in a dimension.').\n",
      "Traceback (most recent call last):\n",
      "  File \"/home/djanloo/.local/share/virtualenvs/DM2-PeqFRmfa/lib/python3.10/site-packages/optuna/study/_optimize.py\", line 200, in _run_trial\n",
      "    value_or_values = func(trial)\n",
      "  File \"/tmp/ipykernel_22119/4273198217.py\", line 15, in objective_fun\n",
      "    cnn = build_and_fit_cnn(X=X_train_v,\n",
      "  File \"/tmp/ipykernel_22119/2256047732.py\", line 28, in build_and_fit_cnn\n",
      "    model.add(Conv1D(filters=filters, kernel_size=kernel_size, activation='relu', name=f\"extra_conv_{i}\"))\n",
      "  File \"/home/djanloo/.local/share/virtualenvs/DM2-PeqFRmfa/lib/python3.10/site-packages/tensorflow/python/trackable/base.py\", line 205, in _method_wrapper\n",
      "    result = method(self, *args, **kwargs)\n",
      "  File \"/home/djanloo/.local/share/virtualenvs/DM2-PeqFRmfa/lib/python3.10/site-packages/keras/utils/traceback_utils.py\", line 70, in error_handler\n",
      "    raise e.with_traceback(filtered_tb) from None\n",
      "  File \"/home/djanloo/.local/share/virtualenvs/DM2-PeqFRmfa/lib/python3.10/site-packages/keras/layers/convolutional/base_conv.py\", line 354, in compute_output_shape\n",
      "    raise ValueError(\n",
      "ValueError: One of the dimensions in the output is <= 0 due to downsampling in extra_conv_0. Consider increasing the input size. Received input shape [None, 10, 12] which would produce output shape with a zero or negative value in a dimension.\n",
      "[W 2023-06-26 12:35:22,235] Trial 51 failed with value None.\n",
      "[W 2023-06-26 12:35:22,268] Trial 52 failed with parameters: {'n_conv': 3, 'n_hidden': 3, 'hidden_nodes': 82, 'dropout': 0.018526454281520277, 'filters': 12, 'kernel_size': 15, 'batch_size': 33, 'epochs': 25} because of the following error: ValueError('One of the dimensions in the output is <= 0 due to downsampling in extra_conv_0. Consider increasing the input size. Received input shape [None, 9, 12] which would produce output shape with a zero or negative value in a dimension.').\n",
      "Traceback (most recent call last):\n",
      "  File \"/home/djanloo/.local/share/virtualenvs/DM2-PeqFRmfa/lib/python3.10/site-packages/optuna/study/_optimize.py\", line 200, in _run_trial\n",
      "    value_or_values = func(trial)\n",
      "  File \"/tmp/ipykernel_22119/4273198217.py\", line 15, in objective_fun\n",
      "    cnn = build_and_fit_cnn(X=X_train_v,\n",
      "  File \"/tmp/ipykernel_22119/2256047732.py\", line 28, in build_and_fit_cnn\n",
      "    model.add(Conv1D(filters=filters, kernel_size=kernel_size, activation='relu', name=f\"extra_conv_{i}\"))\n",
      "  File \"/home/djanloo/.local/share/virtualenvs/DM2-PeqFRmfa/lib/python3.10/site-packages/tensorflow/python/trackable/base.py\", line 205, in _method_wrapper\n",
      "    result = method(self, *args, **kwargs)\n",
      "  File \"/home/djanloo/.local/share/virtualenvs/DM2-PeqFRmfa/lib/python3.10/site-packages/keras/utils/traceback_utils.py\", line 70, in error_handler\n",
      "    raise e.with_traceback(filtered_tb) from None\n",
      "  File \"/home/djanloo/.local/share/virtualenvs/DM2-PeqFRmfa/lib/python3.10/site-packages/keras/layers/convolutional/base_conv.py\", line 354, in compute_output_shape\n",
      "    raise ValueError(\n",
      "ValueError: One of the dimensions in the output is <= 0 due to downsampling in extra_conv_0. Consider increasing the input size. Received input shape [None, 9, 12] which would produce output shape with a zero or negative value in a dimension.\n",
      "[W 2023-06-26 12:35:22,313] Trial 52 failed with value None.\n"
     ]
    },
    {
     "name": "stdout",
     "output_type": "stream",
     "text": [
      "Running little bitch having n_conv=3, dropout=0.003435254935058474, hidden_nodes=81\n",
      "Running little bitch having n_conv=3, dropout=0.08077732033539906, hidden_nodes=83\n"
     ]
    },
    {
     "name": "stderr",
     "output_type": "stream",
     "text": [
      "[W 2023-06-26 12:35:22,757] Trial 53 failed with parameters: {'n_conv': 3, 'n_hidden': 3, 'hidden_nodes': 81, 'dropout': 0.003435254935058474, 'filters': 12, 'kernel_size': 15, 'batch_size': 33, 'epochs': 26} because of the following error: ValueError('One of the dimensions in the output is <= 0 due to downsampling in extra_conv_0. Consider increasing the input size. Received input shape [None, 9, 12] which would produce output shape with a zero or negative value in a dimension.').\n",
      "Traceback (most recent call last):\n",
      "  File \"/home/djanloo/.local/share/virtualenvs/DM2-PeqFRmfa/lib/python3.10/site-packages/optuna/study/_optimize.py\", line 200, in _run_trial\n",
      "    value_or_values = func(trial)\n",
      "  File \"/tmp/ipykernel_22119/4273198217.py\", line 15, in objective_fun\n",
      "    cnn = build_and_fit_cnn(X=X_train_v,\n",
      "  File \"/tmp/ipykernel_22119/2256047732.py\", line 28, in build_and_fit_cnn\n",
      "    model.add(Conv1D(filters=filters, kernel_size=kernel_size, activation='relu', name=f\"extra_conv_{i}\"))\n",
      "  File \"/home/djanloo/.local/share/virtualenvs/DM2-PeqFRmfa/lib/python3.10/site-packages/tensorflow/python/trackable/base.py\", line 205, in _method_wrapper\n",
      "    result = method(self, *args, **kwargs)\n",
      "  File \"/home/djanloo/.local/share/virtualenvs/DM2-PeqFRmfa/lib/python3.10/site-packages/keras/utils/traceback_utils.py\", line 70, in error_handler\n",
      "    raise e.with_traceback(filtered_tb) from None\n",
      "  File \"/home/djanloo/.local/share/virtualenvs/DM2-PeqFRmfa/lib/python3.10/site-packages/keras/layers/convolutional/base_conv.py\", line 354, in compute_output_shape\n",
      "    raise ValueError(\n",
      "ValueError: One of the dimensions in the output is <= 0 due to downsampling in extra_conv_0. Consider increasing the input size. Received input shape [None, 9, 12] which would produce output shape with a zero or negative value in a dimension.\n",
      "[W 2023-06-26 12:35:22,767] Trial 53 failed with value None.\n",
      "[W 2023-06-26 12:35:22,785] Trial 54 failed with parameters: {'n_conv': 3, 'n_hidden': 3, 'hidden_nodes': 83, 'dropout': 0.08077732033539906, 'filters': 12, 'kernel_size': 15, 'batch_size': 34, 'epochs': 25} because of the following error: ValueError('One of the dimensions in the output is <= 0 due to downsampling in extra_conv_0. Consider increasing the input size. Received input shape [None, 9, 12] which would produce output shape with a zero or negative value in a dimension.').\n",
      "Traceback (most recent call last):\n",
      "  File \"/home/djanloo/.local/share/virtualenvs/DM2-PeqFRmfa/lib/python3.10/site-packages/optuna/study/_optimize.py\", line 200, in _run_trial\n",
      "    value_or_values = func(trial)\n",
      "  File \"/tmp/ipykernel_22119/4273198217.py\", line 15, in objective_fun\n",
      "    cnn = build_and_fit_cnn(X=X_train_v,\n",
      "  File \"/tmp/ipykernel_22119/2256047732.py\", line 28, in build_and_fit_cnn\n",
      "    model.add(Conv1D(filters=filters, kernel_size=kernel_size, activation='relu', name=f\"extra_conv_{i}\"))\n",
      "  File \"/home/djanloo/.local/share/virtualenvs/DM2-PeqFRmfa/lib/python3.10/site-packages/tensorflow/python/trackable/base.py\", line 205, in _method_wrapper\n",
      "    result = method(self, *args, **kwargs)\n",
      "  File \"/home/djanloo/.local/share/virtualenvs/DM2-PeqFRmfa/lib/python3.10/site-packages/keras/utils/traceback_utils.py\", line 70, in error_handler\n",
      "    raise e.with_traceback(filtered_tb) from None\n",
      "  File \"/home/djanloo/.local/share/virtualenvs/DM2-PeqFRmfa/lib/python3.10/site-packages/keras/layers/convolutional/base_conv.py\", line 354, in compute_output_shape\n",
      "    raise ValueError(\n",
      "ValueError: One of the dimensions in the output is <= 0 due to downsampling in extra_conv_0. Consider increasing the input size. Received input shape [None, 9, 12] which would produce output shape with a zero or negative value in a dimension.\n",
      "[W 2023-06-26 12:35:22,811] Trial 54 failed with value None.\n"
     ]
    },
    {
     "name": "stdout",
     "output_type": "stream",
     "text": [
      "Running little bitch having n_conv=3, dropout=0.058825306749048095, hidden_nodes=90\n",
      "Running little bitch having n_conv=3, dropout=0.0026715121812834752, hidden_nodes=89\n"
     ]
    },
    {
     "name": "stderr",
     "output_type": "stream",
     "text": [
      "[W 2023-06-26 12:35:23,315] Trial 56 failed with parameters: {'n_conv': 3, 'n_hidden': 3, 'hidden_nodes': 89, 'dropout': 0.0026715121812834752, 'filters': 12, 'kernel_size': 14, 'batch_size': 34, 'epochs': 19} because of the following error: ValueError('One of the dimensions in the output is <= 0 due to downsampling in extra_conv_0. Consider increasing the input size. Received input shape [None, 10, 12] which would produce output shape with a zero or negative value in a dimension.').\n",
      "Traceback (most recent call last):\n",
      "  File \"/home/djanloo/.local/share/virtualenvs/DM2-PeqFRmfa/lib/python3.10/site-packages/optuna/study/_optimize.py\", line 200, in _run_trial\n",
      "    value_or_values = func(trial)\n",
      "  File \"/tmp/ipykernel_22119/4273198217.py\", line 15, in objective_fun\n",
      "    cnn = build_and_fit_cnn(X=X_train_v,\n",
      "  File \"/tmp/ipykernel_22119/2256047732.py\", line 28, in build_and_fit_cnn\n",
      "    model.add(Conv1D(filters=filters, kernel_size=kernel_size, activation='relu', name=f\"extra_conv_{i}\"))\n",
      "  File \"/home/djanloo/.local/share/virtualenvs/DM2-PeqFRmfa/lib/python3.10/site-packages/tensorflow/python/trackable/base.py\", line 205, in _method_wrapper\n",
      "    result = method(self, *args, **kwargs)\n",
      "  File \"/home/djanloo/.local/share/virtualenvs/DM2-PeqFRmfa/lib/python3.10/site-packages/keras/utils/traceback_utils.py\", line 70, in error_handler\n",
      "    raise e.with_traceback(filtered_tb) from None\n",
      "  File \"/home/djanloo/.local/share/virtualenvs/DM2-PeqFRmfa/lib/python3.10/site-packages/keras/layers/convolutional/base_conv.py\", line 354, in compute_output_shape\n",
      "    raise ValueError(\n",
      "ValueError: One of the dimensions in the output is <= 0 due to downsampling in extra_conv_0. Consider increasing the input size. Received input shape [None, 10, 12] which would produce output shape with a zero or negative value in a dimension.\n",
      "[W 2023-06-26 12:35:23,324] Trial 55 failed with parameters: {'n_conv': 3, 'n_hidden': 3, 'hidden_nodes': 90, 'dropout': 0.058825306749048095, 'filters': 12, 'kernel_size': 15, 'batch_size': 34, 'epochs': 25} because of the following error: ValueError('One of the dimensions in the output is <= 0 due to downsampling in extra_conv_0. Consider increasing the input size. Received input shape [None, 9, 12] which would produce output shape with a zero or negative value in a dimension.').\n",
      "Traceback (most recent call last):\n",
      "  File \"/home/djanloo/.local/share/virtualenvs/DM2-PeqFRmfa/lib/python3.10/site-packages/optuna/study/_optimize.py\", line 200, in _run_trial\n",
      "    value_or_values = func(trial)\n",
      "  File \"/tmp/ipykernel_22119/4273198217.py\", line 15, in objective_fun\n",
      "    cnn = build_and_fit_cnn(X=X_train_v,\n",
      "  File \"/tmp/ipykernel_22119/2256047732.py\", line 28, in build_and_fit_cnn\n",
      "    model.add(Conv1D(filters=filters, kernel_size=kernel_size, activation='relu', name=f\"extra_conv_{i}\"))\n",
      "  File \"/home/djanloo/.local/share/virtualenvs/DM2-PeqFRmfa/lib/python3.10/site-packages/tensorflow/python/trackable/base.py\", line 205, in _method_wrapper\n",
      "    result = method(self, *args, **kwargs)\n",
      "  File \"/home/djanloo/.local/share/virtualenvs/DM2-PeqFRmfa/lib/python3.10/site-packages/keras/utils/traceback_utils.py\", line 70, in error_handler\n",
      "    raise e.with_traceback(filtered_tb) from None\n",
      "  File \"/home/djanloo/.local/share/virtualenvs/DM2-PeqFRmfa/lib/python3.10/site-packages/keras/layers/convolutional/base_conv.py\", line 354, in compute_output_shape\n",
      "    raise ValueError(\n",
      "ValueError: One of the dimensions in the output is <= 0 due to downsampling in extra_conv_0. Consider increasing the input size. Received input shape [None, 9, 12] which would produce output shape with a zero or negative value in a dimension.\n",
      "[W 2023-06-26 12:35:23,346] Trial 55 failed with value None.\n",
      "[W 2023-06-26 12:35:23,331] Trial 56 failed with value None.\n"
     ]
    },
    {
     "name": "stdout",
     "output_type": "stream",
     "text": [
      "Running little bitch having n_conv=3, dropout=0.03178018259420118, hidden_nodes=73Running little bitch having n_conv=2, dropout=0.08748585943786169, hidden_nodes=93\n",
      "\n"
     ]
    },
    {
     "name": "stderr",
     "output_type": "stream",
     "text": [
      "[W 2023-06-26 12:35:23,833] Trial 57 failed with parameters: {'n_conv': 2, 'n_hidden': 3, 'hidden_nodes': 93, 'dropout': 0.08748585943786169, 'filters': 12, 'kernel_size': 16, 'batch_size': 32, 'epochs': 25} because of the following error: ValueError('One of the dimensions in the output is <= 0 due to downsampling in extra_conv_0. Consider increasing the input size. Received input shape [None, 8, 12] which would produce output shape with a zero or negative value in a dimension.').\n",
      "Traceback (most recent call last):\n",
      "  File \"/home/djanloo/.local/share/virtualenvs/DM2-PeqFRmfa/lib/python3.10/site-packages/optuna/study/_optimize.py\", line 200, in _run_trial\n",
      "    value_or_values = func(trial)\n",
      "  File \"/tmp/ipykernel_22119/4273198217.py\", line 15, in objective_fun\n",
      "    cnn = build_and_fit_cnn(X=X_train_v,\n",
      "  File \"/tmp/ipykernel_22119/2256047732.py\", line 28, in build_and_fit_cnn\n",
      "    model.add(Conv1D(filters=filters, kernel_size=kernel_size, activation='relu', name=f\"extra_conv_{i}\"))\n",
      "  File \"/home/djanloo/.local/share/virtualenvs/DM2-PeqFRmfa/lib/python3.10/site-packages/tensorflow/python/trackable/base.py\", line 205, in _method_wrapper\n",
      "    result = method(self, *args, **kwargs)\n",
      "  File \"/home/djanloo/.local/share/virtualenvs/DM2-PeqFRmfa/lib/python3.10/site-packages/keras/utils/traceback_utils.py\", line 70, in error_handler\n",
      "    raise e.with_traceback(filtered_tb) from None\n",
      "  File \"/home/djanloo/.local/share/virtualenvs/DM2-PeqFRmfa/lib/python3.10/site-packages/keras/layers/convolutional/base_conv.py\", line 354, in compute_output_shape\n",
      "    raise ValueError(\n",
      "ValueError: One of the dimensions in the output is <= 0 due to downsampling in extra_conv_0. Consider increasing the input size. Received input shape [None, 8, 12] which would produce output shape with a zero or negative value in a dimension.\n",
      "[W 2023-06-26 12:35:23,840] Trial 57 failed with value None.\n",
      "[W 2023-06-26 12:35:23,839] Trial 58 failed with parameters: {'n_conv': 3, 'n_hidden': 3, 'hidden_nodes': 73, 'dropout': 0.03178018259420118, 'filters': 12, 'kernel_size': 15, 'batch_size': 33, 'epochs': 25} because of the following error: ValueError('One of the dimensions in the output is <= 0 due to downsampling in extra_conv_0. Consider increasing the input size. Received input shape [None, 9, 12] which would produce output shape with a zero or negative value in a dimension.').\n",
      "Traceback (most recent call last):\n",
      "  File \"/home/djanloo/.local/share/virtualenvs/DM2-PeqFRmfa/lib/python3.10/site-packages/optuna/study/_optimize.py\", line 200, in _run_trial\n",
      "    value_or_values = func(trial)\n",
      "  File \"/tmp/ipykernel_22119/4273198217.py\", line 15, in objective_fun\n",
      "    cnn = build_and_fit_cnn(X=X_train_v,\n",
      "  File \"/tmp/ipykernel_22119/2256047732.py\", line 28, in build_and_fit_cnn\n",
      "    model.add(Conv1D(filters=filters, kernel_size=kernel_size, activation='relu', name=f\"extra_conv_{i}\"))\n",
      "  File \"/home/djanloo/.local/share/virtualenvs/DM2-PeqFRmfa/lib/python3.10/site-packages/tensorflow/python/trackable/base.py\", line 205, in _method_wrapper\n",
      "    result = method(self, *args, **kwargs)\n",
      "  File \"/home/djanloo/.local/share/virtualenvs/DM2-PeqFRmfa/lib/python3.10/site-packages/keras/utils/traceback_utils.py\", line 70, in error_handler\n",
      "    raise e.with_traceback(filtered_tb) from None\n",
      "  File \"/home/djanloo/.local/share/virtualenvs/DM2-PeqFRmfa/lib/python3.10/site-packages/keras/layers/convolutional/base_conv.py\", line 354, in compute_output_shape\n",
      "    raise ValueError(\n",
      "ValueError: One of the dimensions in the output is <= 0 due to downsampling in extra_conv_0. Consider increasing the input size. Received input shape [None, 9, 12] which would produce output shape with a zero or negative value in a dimension.\n",
      "[W 2023-06-26 12:35:23,873] Trial 58 failed with value None.\n"
     ]
    },
    {
     "name": "stdout",
     "output_type": "stream",
     "text": [
      "Running little bitch having n_conv=3, dropout=0.08762845217192766, hidden_nodes=85\n",
      "Running little bitch having n_conv=3, dropout=0.02640698106062589, hidden_nodes=92\n"
     ]
    },
    {
     "name": "stderr",
     "output_type": "stream",
     "text": [
      "[W 2023-06-26 12:35:24,320] Trial 59 failed with parameters: {'n_conv': 3, 'n_hidden': 3, 'hidden_nodes': 85, 'dropout': 0.08762845217192766, 'filters': 12, 'kernel_size': 15, 'batch_size': 34, 'epochs': 26} because of the following error: ValueError('One of the dimensions in the output is <= 0 due to downsampling in extra_conv_0. Consider increasing the input size. Received input shape [None, 9, 12] which would produce output shape with a zero or negative value in a dimension.').\n",
      "Traceback (most recent call last):\n",
      "  File \"/home/djanloo/.local/share/virtualenvs/DM2-PeqFRmfa/lib/python3.10/site-packages/optuna/study/_optimize.py\", line 200, in _run_trial\n",
      "    value_or_values = func(trial)\n",
      "  File \"/tmp/ipykernel_22119/4273198217.py\", line 15, in objective_fun\n",
      "    cnn = build_and_fit_cnn(X=X_train_v,\n",
      "  File \"/tmp/ipykernel_22119/2256047732.py\", line 28, in build_and_fit_cnn\n",
      "    model.add(Conv1D(filters=filters, kernel_size=kernel_size, activation='relu', name=f\"extra_conv_{i}\"))\n",
      "  File \"/home/djanloo/.local/share/virtualenvs/DM2-PeqFRmfa/lib/python3.10/site-packages/tensorflow/python/trackable/base.py\", line 205, in _method_wrapper\n",
      "    result = method(self, *args, **kwargs)\n",
      "  File \"/home/djanloo/.local/share/virtualenvs/DM2-PeqFRmfa/lib/python3.10/site-packages/keras/utils/traceback_utils.py\", line 70, in error_handler\n",
      "    raise e.with_traceback(filtered_tb) from None\n",
      "  File \"/home/djanloo/.local/share/virtualenvs/DM2-PeqFRmfa/lib/python3.10/site-packages/keras/layers/convolutional/base_conv.py\", line 354, in compute_output_shape\n",
      "    raise ValueError(\n",
      "ValueError: One of the dimensions in the output is <= 0 due to downsampling in extra_conv_0. Consider increasing the input size. Received input shape [None, 9, 12] which would produce output shape with a zero or negative value in a dimension.\n",
      "[W 2023-06-26 12:35:24,322] Trial 59 failed with value None.\n",
      "[W 2023-06-26 12:35:24,480] Trial 60 failed with parameters: {'n_conv': 3, 'n_hidden': 3, 'hidden_nodes': 92, 'dropout': 0.02640698106062589, 'filters': 12, 'kernel_size': 15, 'batch_size': 33, 'epochs': 24} because of the following error: ValueError('One of the dimensions in the output is <= 0 due to downsampling in extra_conv_0. Consider increasing the input size. Received input shape [None, 9, 12] which would produce output shape with a zero or negative value in a dimension.').\n",
      "Traceback (most recent call last):\n",
      "  File \"/home/djanloo/.local/share/virtualenvs/DM2-PeqFRmfa/lib/python3.10/site-packages/optuna/study/_optimize.py\", line 200, in _run_trial\n",
      "    value_or_values = func(trial)\n",
      "  File \"/tmp/ipykernel_22119/4273198217.py\", line 15, in objective_fun\n",
      "    cnn = build_and_fit_cnn(X=X_train_v,\n",
      "  File \"/tmp/ipykernel_22119/2256047732.py\", line 28, in build_and_fit_cnn\n",
      "    model.add(Conv1D(filters=filters, kernel_size=kernel_size, activation='relu', name=f\"extra_conv_{i}\"))\n",
      "  File \"/home/djanloo/.local/share/virtualenvs/DM2-PeqFRmfa/lib/python3.10/site-packages/tensorflow/python/trackable/base.py\", line 205, in _method_wrapper\n",
      "    result = method(self, *args, **kwargs)\n",
      "  File \"/home/djanloo/.local/share/virtualenvs/DM2-PeqFRmfa/lib/python3.10/site-packages/keras/utils/traceback_utils.py\", line 70, in error_handler\n",
      "    raise e.with_traceback(filtered_tb) from None\n",
      "  File \"/home/djanloo/.local/share/virtualenvs/DM2-PeqFRmfa/lib/python3.10/site-packages/keras/layers/convolutional/base_conv.py\", line 354, in compute_output_shape\n",
      "    raise ValueError(\n",
      "ValueError: One of the dimensions in the output is <= 0 due to downsampling in extra_conv_0. Consider increasing the input size. Received input shape [None, 9, 12] which would produce output shape with a zero or negative value in a dimension.\n",
      "[W 2023-06-26 12:35:24,501] Trial 60 failed with value None.\n"
     ]
    },
    {
     "name": "stdout",
     "output_type": "stream",
     "text": [
      "Running little bitch having n_conv=3, dropout=0.024438912988920536, hidden_nodes=97\n",
      "Running little bitch having n_conv=3, dropout=0.02299278133980151, hidden_nodes=78\n"
     ]
    },
    {
     "name": "stderr",
     "output_type": "stream",
     "text": [
      "[W 2023-06-26 12:35:24,845] Trial 61 failed with parameters: {'n_conv': 3, 'n_hidden': 3, 'hidden_nodes': 97, 'dropout': 0.024438912988920536, 'filters': 12, 'kernel_size': 15, 'batch_size': 38, 'epochs': 26} because of the following error: ValueError('One of the dimensions in the output is <= 0 due to downsampling in extra_conv_0. Consider increasing the input size. Received input shape [None, 9, 12] which would produce output shape with a zero or negative value in a dimension.').\n",
      "Traceback (most recent call last):\n",
      "  File \"/home/djanloo/.local/share/virtualenvs/DM2-PeqFRmfa/lib/python3.10/site-packages/optuna/study/_optimize.py\", line 200, in _run_trial\n",
      "    value_or_values = func(trial)\n",
      "  File \"/tmp/ipykernel_22119/4273198217.py\", line 15, in objective_fun\n",
      "    cnn = build_and_fit_cnn(X=X_train_v,\n",
      "  File \"/tmp/ipykernel_22119/2256047732.py\", line 28, in build_and_fit_cnn\n",
      "    model.add(Conv1D(filters=filters, kernel_size=kernel_size, activation='relu', name=f\"extra_conv_{i}\"))\n",
      "  File \"/home/djanloo/.local/share/virtualenvs/DM2-PeqFRmfa/lib/python3.10/site-packages/tensorflow/python/trackable/base.py\", line 205, in _method_wrapper\n",
      "    result = method(self, *args, **kwargs)\n",
      "  File \"/home/djanloo/.local/share/virtualenvs/DM2-PeqFRmfa/lib/python3.10/site-packages/keras/utils/traceback_utils.py\", line 70, in error_handler\n",
      "    raise e.with_traceback(filtered_tb) from None\n",
      "  File \"/home/djanloo/.local/share/virtualenvs/DM2-PeqFRmfa/lib/python3.10/site-packages/keras/layers/convolutional/base_conv.py\", line 354, in compute_output_shape\n",
      "    raise ValueError(\n",
      "ValueError: One of the dimensions in the output is <= 0 due to downsampling in extra_conv_0. Consider increasing the input size. Received input shape [None, 9, 12] which would produce output shape with a zero or negative value in a dimension.\n",
      "[W 2023-06-26 12:35:24,866] Trial 61 failed with value None.\n",
      "[W 2023-06-26 12:35:24,960] Trial 62 failed with parameters: {'n_conv': 3, 'n_hidden': 3, 'hidden_nodes': 78, 'dropout': 0.02299278133980151, 'filters': 12, 'kernel_size': 15, 'batch_size': 34, 'epochs': 21} because of the following error: ValueError('One of the dimensions in the output is <= 0 due to downsampling in extra_conv_0. Consider increasing the input size. Received input shape [None, 9, 12] which would produce output shape with a zero or negative value in a dimension.').\n",
      "Traceback (most recent call last):\n",
      "  File \"/home/djanloo/.local/share/virtualenvs/DM2-PeqFRmfa/lib/python3.10/site-packages/optuna/study/_optimize.py\", line 200, in _run_trial\n",
      "    value_or_values = func(trial)\n",
      "  File \"/tmp/ipykernel_22119/4273198217.py\", line 15, in objective_fun\n",
      "    cnn = build_and_fit_cnn(X=X_train_v,\n",
      "  File \"/tmp/ipykernel_22119/2256047732.py\", line 28, in build_and_fit_cnn\n",
      "    model.add(Conv1D(filters=filters, kernel_size=kernel_size, activation='relu', name=f\"extra_conv_{i}\"))\n",
      "  File \"/home/djanloo/.local/share/virtualenvs/DM2-PeqFRmfa/lib/python3.10/site-packages/tensorflow/python/trackable/base.py\", line 205, in _method_wrapper\n",
      "    result = method(self, *args, **kwargs)\n",
      "  File \"/home/djanloo/.local/share/virtualenvs/DM2-PeqFRmfa/lib/python3.10/site-packages/keras/utils/traceback_utils.py\", line 70, in error_handler\n",
      "    raise e.with_traceback(filtered_tb) from None\n",
      "  File \"/home/djanloo/.local/share/virtualenvs/DM2-PeqFRmfa/lib/python3.10/site-packages/keras/layers/convolutional/base_conv.py\", line 354, in compute_output_shape\n",
      "    raise ValueError(\n",
      "ValueError: One of the dimensions in the output is <= 0 due to downsampling in extra_conv_0. Consider increasing the input size. Received input shape [None, 9, 12] which would produce output shape with a zero or negative value in a dimension.\n",
      "[W 2023-06-26 12:35:24,978] Trial 62 failed with value None.\n"
     ]
    },
    {
     "name": "stdout",
     "output_type": "stream",
     "text": [
      "Running little bitch having n_conv=3, dropout=0.004861126667604465, hidden_nodes=84\n",
      "Running little bitch having n_conv=2, dropout=0.026530271304983366, hidden_nodes=92\n"
     ]
    },
    {
     "name": "stderr",
     "output_type": "stream",
     "text": [
      "[W 2023-06-26 12:35:25,376] Trial 64 failed with parameters: {'n_conv': 2, 'n_hidden': 3, 'hidden_nodes': 92, 'dropout': 0.026530271304983366, 'filters': 12, 'kernel_size': 16, 'batch_size': 34, 'epochs': 26} because of the following error: ValueError('One of the dimensions in the output is <= 0 due to downsampling in extra_conv_0. Consider increasing the input size. Received input shape [None, 8, 12] which would produce output shape with a zero or negative value in a dimension.').\n",
      "Traceback (most recent call last):\n",
      "  File \"/home/djanloo/.local/share/virtualenvs/DM2-PeqFRmfa/lib/python3.10/site-packages/optuna/study/_optimize.py\", line 200, in _run_trial\n",
      "    value_or_values = func(trial)\n",
      "  File \"/tmp/ipykernel_22119/4273198217.py\", line 15, in objective_fun\n",
      "    cnn = build_and_fit_cnn(X=X_train_v,\n",
      "  File \"/tmp/ipykernel_22119/2256047732.py\", line 28, in build_and_fit_cnn\n",
      "    model.add(Conv1D(filters=filters, kernel_size=kernel_size, activation='relu', name=f\"extra_conv_{i}\"))\n",
      "  File \"/home/djanloo/.local/share/virtualenvs/DM2-PeqFRmfa/lib/python3.10/site-packages/tensorflow/python/trackable/base.py\", line 205, in _method_wrapper\n",
      "    result = method(self, *args, **kwargs)\n",
      "  File \"/home/djanloo/.local/share/virtualenvs/DM2-PeqFRmfa/lib/python3.10/site-packages/keras/utils/traceback_utils.py\", line 70, in error_handler\n",
      "    raise e.with_traceback(filtered_tb) from None\n",
      "  File \"/home/djanloo/.local/share/virtualenvs/DM2-PeqFRmfa/lib/python3.10/site-packages/keras/layers/convolutional/base_conv.py\", line 354, in compute_output_shape\n",
      "    raise ValueError(\n",
      "ValueError: One of the dimensions in the output is <= 0 due to downsampling in extra_conv_0. Consider increasing the input size. Received input shape [None, 8, 12] which would produce output shape with a zero or negative value in a dimension.\n",
      "[W 2023-06-26 12:35:25,389] Trial 64 failed with value None.\n",
      "[W 2023-06-26 12:35:25,532] Trial 63 failed with parameters: {'n_conv': 3, 'n_hidden': 3, 'hidden_nodes': 84, 'dropout': 0.004861126667604465, 'filters': 12, 'kernel_size': 15, 'batch_size': 33, 'epochs': 26} because of the following error: ValueError('One of the dimensions in the output is <= 0 due to downsampling in extra_conv_0. Consider increasing the input size. Received input shape [None, 9, 12] which would produce output shape with a zero or negative value in a dimension.').\n",
      "Traceback (most recent call last):\n",
      "  File \"/home/djanloo/.local/share/virtualenvs/DM2-PeqFRmfa/lib/python3.10/site-packages/optuna/study/_optimize.py\", line 200, in _run_trial\n",
      "    value_or_values = func(trial)\n",
      "  File \"/tmp/ipykernel_22119/4273198217.py\", line 15, in objective_fun\n",
      "    cnn = build_and_fit_cnn(X=X_train_v,\n",
      "  File \"/tmp/ipykernel_22119/2256047732.py\", line 28, in build_and_fit_cnn\n",
      "    model.add(Conv1D(filters=filters, kernel_size=kernel_size, activation='relu', name=f\"extra_conv_{i}\"))\n",
      "  File \"/home/djanloo/.local/share/virtualenvs/DM2-PeqFRmfa/lib/python3.10/site-packages/tensorflow/python/trackable/base.py\", line 205, in _method_wrapper\n",
      "    result = method(self, *args, **kwargs)\n",
      "  File \"/home/djanloo/.local/share/virtualenvs/DM2-PeqFRmfa/lib/python3.10/site-packages/keras/utils/traceback_utils.py\", line 70, in error_handler\n",
      "    raise e.with_traceback(filtered_tb) from None\n",
      "  File \"/home/djanloo/.local/share/virtualenvs/DM2-PeqFRmfa/lib/python3.10/site-packages/keras/layers/convolutional/base_conv.py\", line 354, in compute_output_shape\n",
      "    raise ValueError(\n",
      "ValueError: One of the dimensions in the output is <= 0 due to downsampling in extra_conv_0. Consider increasing the input size. Received input shape [None, 9, 12] which would produce output shape with a zero or negative value in a dimension.\n",
      "[W 2023-06-26 12:35:25,541] Trial 63 failed with value None.\n"
     ]
    },
    {
     "name": "stdout",
     "output_type": "stream",
     "text": [
      "Running little bitch having n_conv=3, dropout=0.018886947178507474, hidden_nodes=80\n",
      "Running little bitch having n_conv=3, dropout=0.013210882113690647, hidden_nodes=96\n"
     ]
    },
    {
     "name": "stderr",
     "output_type": "stream",
     "text": [
      "[W 2023-06-26 12:35:25,928] Trial 65 failed with parameters: {'n_conv': 3, 'n_hidden': 3, 'hidden_nodes': 80, 'dropout': 0.018886947178507474, 'filters': 12, 'kernel_size': 15, 'batch_size': 32, 'epochs': 24} because of the following error: ValueError('One of the dimensions in the output is <= 0 due to downsampling in extra_conv_0. Consider increasing the input size. Received input shape [None, 9, 12] which would produce output shape with a zero or negative value in a dimension.').\n",
      "Traceback (most recent call last):\n",
      "  File \"/home/djanloo/.local/share/virtualenvs/DM2-PeqFRmfa/lib/python3.10/site-packages/optuna/study/_optimize.py\", line 200, in _run_trial\n",
      "    value_or_values = func(trial)\n",
      "  File \"/tmp/ipykernel_22119/4273198217.py\", line 15, in objective_fun\n",
      "    cnn = build_and_fit_cnn(X=X_train_v,\n",
      "  File \"/tmp/ipykernel_22119/2256047732.py\", line 28, in build_and_fit_cnn\n",
      "    model.add(Conv1D(filters=filters, kernel_size=kernel_size, activation='relu', name=f\"extra_conv_{i}\"))\n",
      "  File \"/home/djanloo/.local/share/virtualenvs/DM2-PeqFRmfa/lib/python3.10/site-packages/tensorflow/python/trackable/base.py\", line 205, in _method_wrapper\n",
      "    result = method(self, *args, **kwargs)\n",
      "  File \"/home/djanloo/.local/share/virtualenvs/DM2-PeqFRmfa/lib/python3.10/site-packages/keras/utils/traceback_utils.py\", line 70, in error_handler\n",
      "    raise e.with_traceback(filtered_tb) from None\n",
      "  File \"/home/djanloo/.local/share/virtualenvs/DM2-PeqFRmfa/lib/python3.10/site-packages/keras/layers/convolutional/base_conv.py\", line 354, in compute_output_shape\n",
      "    raise ValueError(\n",
      "ValueError: One of the dimensions in the output is <= 0 due to downsampling in extra_conv_0. Consider increasing the input size. Received input shape [None, 9, 12] which would produce output shape with a zero or negative value in a dimension.\n",
      "[W 2023-06-26 12:35:25,936] Trial 65 failed with value None.\n",
      "[W 2023-06-26 12:35:25,940] Trial 66 failed with parameters: {'n_conv': 3, 'n_hidden': 3, 'hidden_nodes': 96, 'dropout': 0.013210882113690647, 'filters': 12, 'kernel_size': 15, 'batch_size': 35, 'epochs': 25} because of the following error: ValueError('One of the dimensions in the output is <= 0 due to downsampling in extra_conv_0. Consider increasing the input size. Received input shape [None, 9, 12] which would produce output shape with a zero or negative value in a dimension.').\n",
      "Traceback (most recent call last):\n",
      "  File \"/home/djanloo/.local/share/virtualenvs/DM2-PeqFRmfa/lib/python3.10/site-packages/optuna/study/_optimize.py\", line 200, in _run_trial\n",
      "    value_or_values = func(trial)\n",
      "  File \"/tmp/ipykernel_22119/4273198217.py\", line 15, in objective_fun\n",
      "    cnn = build_and_fit_cnn(X=X_train_v,\n",
      "  File \"/tmp/ipykernel_22119/2256047732.py\", line 28, in build_and_fit_cnn\n",
      "    model.add(Conv1D(filters=filters, kernel_size=kernel_size, activation='relu', name=f\"extra_conv_{i}\"))\n",
      "  File \"/home/djanloo/.local/share/virtualenvs/DM2-PeqFRmfa/lib/python3.10/site-packages/tensorflow/python/trackable/base.py\", line 205, in _method_wrapper\n",
      "    result = method(self, *args, **kwargs)\n",
      "  File \"/home/djanloo/.local/share/virtualenvs/DM2-PeqFRmfa/lib/python3.10/site-packages/keras/utils/traceback_utils.py\", line 70, in error_handler\n",
      "    raise e.with_traceback(filtered_tb) from None\n",
      "  File \"/home/djanloo/.local/share/virtualenvs/DM2-PeqFRmfa/lib/python3.10/site-packages/keras/layers/convolutional/base_conv.py\", line 354, in compute_output_shape\n",
      "    raise ValueError(\n",
      "ValueError: One of the dimensions in the output is <= 0 due to downsampling in extra_conv_0. Consider increasing the input size. Received input shape [None, 9, 12] which would produce output shape with a zero or negative value in a dimension.\n",
      "[W 2023-06-26 12:35:25,970] Trial 66 failed with value None.\n"
     ]
    },
    {
     "name": "stdout",
     "output_type": "stream",
     "text": [
      "Running little bitch having n_conv=3, dropout=0.06796048192395326, hidden_nodes=88\n",
      "Running little bitch having n_conv=3, dropout=0.005647548877098618, hidden_nodes=79\n"
     ]
    },
    {
     "name": "stderr",
     "output_type": "stream",
     "text": [
      "[W 2023-06-26 12:35:26,433] Trial 67 failed with parameters: {'n_conv': 3, 'n_hidden': 3, 'hidden_nodes': 88, 'dropout': 0.06796048192395326, 'filters': 12, 'kernel_size': 15, 'batch_size': 34, 'epochs': 24} because of the following error: ValueError('One of the dimensions in the output is <= 0 due to downsampling in extra_conv_0. Consider increasing the input size. Received input shape [None, 9, 12] which would produce output shape with a zero or negative value in a dimension.').\n",
      "Traceback (most recent call last):\n",
      "  File \"/home/djanloo/.local/share/virtualenvs/DM2-PeqFRmfa/lib/python3.10/site-packages/optuna/study/_optimize.py\", line 200, in _run_trial\n",
      "    value_or_values = func(trial)\n",
      "  File \"/tmp/ipykernel_22119/4273198217.py\", line 15, in objective_fun\n",
      "    cnn = build_and_fit_cnn(X=X_train_v,\n",
      "  File \"/tmp/ipykernel_22119/2256047732.py\", line 28, in build_and_fit_cnn\n",
      "    model.add(Conv1D(filters=filters, kernel_size=kernel_size, activation='relu', name=f\"extra_conv_{i}\"))\n",
      "  File \"/home/djanloo/.local/share/virtualenvs/DM2-PeqFRmfa/lib/python3.10/site-packages/tensorflow/python/trackable/base.py\", line 205, in _method_wrapper\n",
      "    result = method(self, *args, **kwargs)\n",
      "  File \"/home/djanloo/.local/share/virtualenvs/DM2-PeqFRmfa/lib/python3.10/site-packages/keras/utils/traceback_utils.py\", line 70, in error_handler\n",
      "    raise e.with_traceback(filtered_tb) from None\n",
      "  File \"/home/djanloo/.local/share/virtualenvs/DM2-PeqFRmfa/lib/python3.10/site-packages/keras/layers/convolutional/base_conv.py\", line 354, in compute_output_shape\n",
      "    raise ValueError(\n",
      "ValueError: One of the dimensions in the output is <= 0 due to downsampling in extra_conv_0. Consider increasing the input size. Received input shape [None, 9, 12] which would produce output shape with a zero or negative value in a dimension.\n",
      "[W 2023-06-26 12:35:26,437] Trial 67 failed with value None.\n",
      "[W 2023-06-26 12:35:26,485] Trial 68 failed with parameters: {'n_conv': 3, 'n_hidden': 3, 'hidden_nodes': 79, 'dropout': 0.005647548877098618, 'filters': 12, 'kernel_size': 15, 'batch_size': 34, 'epochs': 25} because of the following error: ValueError('One of the dimensions in the output is <= 0 due to downsampling in extra_conv_0. Consider increasing the input size. Received input shape [None, 9, 12] which would produce output shape with a zero or negative value in a dimension.').\n",
      "Traceback (most recent call last):\n",
      "  File \"/home/djanloo/.local/share/virtualenvs/DM2-PeqFRmfa/lib/python3.10/site-packages/optuna/study/_optimize.py\", line 200, in _run_trial\n",
      "    value_or_values = func(trial)\n",
      "  File \"/tmp/ipykernel_22119/4273198217.py\", line 15, in objective_fun\n",
      "    cnn = build_and_fit_cnn(X=X_train_v,\n",
      "  File \"/tmp/ipykernel_22119/2256047732.py\", line 28, in build_and_fit_cnn\n",
      "    model.add(Conv1D(filters=filters, kernel_size=kernel_size, activation='relu', name=f\"extra_conv_{i}\"))\n",
      "  File \"/home/djanloo/.local/share/virtualenvs/DM2-PeqFRmfa/lib/python3.10/site-packages/tensorflow/python/trackable/base.py\", line 205, in _method_wrapper\n",
      "    result = method(self, *args, **kwargs)\n",
      "  File \"/home/djanloo/.local/share/virtualenvs/DM2-PeqFRmfa/lib/python3.10/site-packages/keras/utils/traceback_utils.py\", line 70, in error_handler\n",
      "    raise e.with_traceback(filtered_tb) from None\n",
      "  File \"/home/djanloo/.local/share/virtualenvs/DM2-PeqFRmfa/lib/python3.10/site-packages/keras/layers/convolutional/base_conv.py\", line 354, in compute_output_shape\n",
      "    raise ValueError(\n",
      "ValueError: One of the dimensions in the output is <= 0 due to downsampling in extra_conv_0. Consider increasing the input size. Received input shape [None, 9, 12] which would produce output shape with a zero or negative value in a dimension.\n",
      "[W 2023-06-26 12:35:26,519] Trial 68 failed with value None.\n"
     ]
    },
    {
     "name": "stdout",
     "output_type": "stream",
     "text": [
      "Running little bitch having n_conv=3, dropout=0.05027520505377478, hidden_nodes=80\n",
      "Running little bitch having n_conv=3, dropout=0.022884962773734363, hidden_nodes=84\n"
     ]
    },
    {
     "name": "stderr",
     "output_type": "stream",
     "text": [
      "[W 2023-06-26 12:35:26,967] Trial 69 failed with parameters: {'n_conv': 3, 'n_hidden': 3, 'hidden_nodes': 84, 'dropout': 0.022884962773734363, 'filters': 12, 'kernel_size': 16, 'batch_size': 32, 'epochs': 26} because of the following error: ValueError('One of the dimensions in the output is <= 0 due to downsampling in extra_conv_0. Consider increasing the input size. Received input shape [None, 8, 12] which would produce output shape with a zero or negative value in a dimension.').\n",
      "Traceback (most recent call last):\n",
      "  File \"/home/djanloo/.local/share/virtualenvs/DM2-PeqFRmfa/lib/python3.10/site-packages/optuna/study/_optimize.py\", line 200, in _run_trial\n",
      "    value_or_values = func(trial)\n",
      "  File \"/tmp/ipykernel_22119/4273198217.py\", line 15, in objective_fun\n",
      "    cnn = build_and_fit_cnn(X=X_train_v,\n",
      "  File \"/tmp/ipykernel_22119/2256047732.py\", line 28, in build_and_fit_cnn\n",
      "    model.add(Conv1D(filters=filters, kernel_size=kernel_size, activation='relu', name=f\"extra_conv_{i}\"))\n",
      "  File \"/home/djanloo/.local/share/virtualenvs/DM2-PeqFRmfa/lib/python3.10/site-packages/tensorflow/python/trackable/base.py\", line 205, in _method_wrapper\n",
      "    result = method(self, *args, **kwargs)\n",
      "  File \"/home/djanloo/.local/share/virtualenvs/DM2-PeqFRmfa/lib/python3.10/site-packages/keras/utils/traceback_utils.py\", line 70, in error_handler\n",
      "    raise e.with_traceback(filtered_tb) from None\n",
      "  File \"/home/djanloo/.local/share/virtualenvs/DM2-PeqFRmfa/lib/python3.10/site-packages/keras/layers/convolutional/base_conv.py\", line 354, in compute_output_shape\n",
      "    raise ValueError(\n",
      "ValueError: One of the dimensions in the output is <= 0 due to downsampling in extra_conv_0. Consider increasing the input size. Received input shape [None, 8, 12] which would produce output shape with a zero or negative value in a dimension.\n",
      "[W 2023-06-26 12:35:26,974] Trial 69 failed with value None.\n",
      "[W 2023-06-26 12:35:26,993] Trial 70 failed with parameters: {'n_conv': 3, 'n_hidden': 3, 'hidden_nodes': 80, 'dropout': 0.05027520505377478, 'filters': 13, 'kernel_size': 15, 'batch_size': 29, 'epochs': 27} because of the following error: ValueError('One of the dimensions in the output is <= 0 due to downsampling in extra_conv_0. Consider increasing the input size. Received input shape [None, 9, 13] which would produce output shape with a zero or negative value in a dimension.').\n",
      "Traceback (most recent call last):\n",
      "  File \"/home/djanloo/.local/share/virtualenvs/DM2-PeqFRmfa/lib/python3.10/site-packages/optuna/study/_optimize.py\", line 200, in _run_trial\n",
      "    value_or_values = func(trial)\n",
      "  File \"/tmp/ipykernel_22119/4273198217.py\", line 15, in objective_fun\n",
      "    cnn = build_and_fit_cnn(X=X_train_v,\n",
      "  File \"/tmp/ipykernel_22119/2256047732.py\", line 28, in build_and_fit_cnn\n",
      "    model.add(Conv1D(filters=filters, kernel_size=kernel_size, activation='relu', name=f\"extra_conv_{i}\"))\n",
      "  File \"/home/djanloo/.local/share/virtualenvs/DM2-PeqFRmfa/lib/python3.10/site-packages/tensorflow/python/trackable/base.py\", line 205, in _method_wrapper\n",
      "    result = method(self, *args, **kwargs)\n",
      "  File \"/home/djanloo/.local/share/virtualenvs/DM2-PeqFRmfa/lib/python3.10/site-packages/keras/utils/traceback_utils.py\", line 70, in error_handler\n",
      "    raise e.with_traceback(filtered_tb) from None\n",
      "  File \"/home/djanloo/.local/share/virtualenvs/DM2-PeqFRmfa/lib/python3.10/site-packages/keras/layers/convolutional/base_conv.py\", line 354, in compute_output_shape\n",
      "    raise ValueError(\n",
      "ValueError: One of the dimensions in the output is <= 0 due to downsampling in extra_conv_0. Consider increasing the input size. Received input shape [None, 9, 13] which would produce output shape with a zero or negative value in a dimension.\n",
      "[W 2023-06-26 12:35:27,008] Trial 70 failed with value None.\n"
     ]
    },
    {
     "name": "stdout",
     "output_type": "stream",
     "text": [
      "Running little bitch having n_conv=3, dropout=0.01813236533509968, hidden_nodes=77\n",
      "Running little bitch having n_conv=3, dropout=0.04194805128984347, hidden_nodes=82\n"
     ]
    },
    {
     "name": "stderr",
     "output_type": "stream",
     "text": [
      "[W 2023-06-26 12:35:27,483] Trial 72 failed with parameters: {'n_conv': 3, 'n_hidden': 3, 'hidden_nodes': 77, 'dropout': 0.01813236533509968, 'filters': 12, 'kernel_size': 15, 'batch_size': 33, 'epochs': 25} because of the following error: ValueError('One of the dimensions in the output is <= 0 due to downsampling in extra_conv_0. Consider increasing the input size. Received input shape [None, 9, 12] which would produce output shape with a zero or negative value in a dimension.').\n",
      "Traceback (most recent call last):\n",
      "  File \"/home/djanloo/.local/share/virtualenvs/DM2-PeqFRmfa/lib/python3.10/site-packages/optuna/study/_optimize.py\", line 200, in _run_trial\n",
      "    value_or_values = func(trial)\n",
      "  File \"/tmp/ipykernel_22119/4273198217.py\", line 15, in objective_fun\n",
      "    cnn = build_and_fit_cnn(X=X_train_v,\n",
      "  File \"/tmp/ipykernel_22119/2256047732.py\", line 28, in build_and_fit_cnn\n",
      "    model.add(Conv1D(filters=filters, kernel_size=kernel_size, activation='relu', name=f\"extra_conv_{i}\"))\n",
      "  File \"/home/djanloo/.local/share/virtualenvs/DM2-PeqFRmfa/lib/python3.10/site-packages/tensorflow/python/trackable/base.py\", line 205, in _method_wrapper\n",
      "    result = method(self, *args, **kwargs)\n",
      "  File \"/home/djanloo/.local/share/virtualenvs/DM2-PeqFRmfa/lib/python3.10/site-packages/keras/utils/traceback_utils.py\", line 70, in error_handler\n",
      "    raise e.with_traceback(filtered_tb) from None\n",
      "  File \"/home/djanloo/.local/share/virtualenvs/DM2-PeqFRmfa/lib/python3.10/site-packages/keras/layers/convolutional/base_conv.py\", line 354, in compute_output_shape\n",
      "    raise ValueError(\n",
      "ValueError: One of the dimensions in the output is <= 0 due to downsampling in extra_conv_0. Consider increasing the input size. Received input shape [None, 9, 12] which would produce output shape with a zero or negative value in a dimension.\n",
      "[W 2023-06-26 12:35:27,492] Trial 72 failed with value None.\n",
      "[W 2023-06-26 12:35:27,650] Trial 71 failed with parameters: {'n_conv': 3, 'n_hidden': 3, 'hidden_nodes': 82, 'dropout': 0.04194805128984347, 'filters': 12, 'kernel_size': 14, 'batch_size': 33, 'epochs': 24} because of the following error: ValueError('One of the dimensions in the output is <= 0 due to downsampling in extra_conv_0. Consider increasing the input size. Received input shape [None, 10, 12] which would produce output shape with a zero or negative value in a dimension.').\n",
      "Traceback (most recent call last):\n",
      "  File \"/home/djanloo/.local/share/virtualenvs/DM2-PeqFRmfa/lib/python3.10/site-packages/optuna/study/_optimize.py\", line 200, in _run_trial\n",
      "    value_or_values = func(trial)\n",
      "  File \"/tmp/ipykernel_22119/4273198217.py\", line 15, in objective_fun\n",
      "    cnn = build_and_fit_cnn(X=X_train_v,\n",
      "  File \"/tmp/ipykernel_22119/2256047732.py\", line 28, in build_and_fit_cnn\n",
      "    model.add(Conv1D(filters=filters, kernel_size=kernel_size, activation='relu', name=f\"extra_conv_{i}\"))\n",
      "  File \"/home/djanloo/.local/share/virtualenvs/DM2-PeqFRmfa/lib/python3.10/site-packages/tensorflow/python/trackable/base.py\", line 205, in _method_wrapper\n",
      "    result = method(self, *args, **kwargs)\n",
      "  File \"/home/djanloo/.local/share/virtualenvs/DM2-PeqFRmfa/lib/python3.10/site-packages/keras/utils/traceback_utils.py\", line 70, in error_handler\n",
      "    raise e.with_traceback(filtered_tb) from None\n",
      "  File \"/home/djanloo/.local/share/virtualenvs/DM2-PeqFRmfa/lib/python3.10/site-packages/keras/layers/convolutional/base_conv.py\", line 354, in compute_output_shape\n",
      "    raise ValueError(\n",
      "ValueError: One of the dimensions in the output is <= 0 due to downsampling in extra_conv_0. Consider increasing the input size. Received input shape [None, 10, 12] which would produce output shape with a zero or negative value in a dimension.\n",
      "[W 2023-06-26 12:35:27,665] Trial 71 failed with value None.\n"
     ]
    },
    {
     "name": "stdout",
     "output_type": "stream",
     "text": [
      "Running little bitch having n_conv=3, dropout=0.033541021070295995, hidden_nodes=93\n",
      "Running little bitch having n_conv=3, dropout=0.004892043844807625, hidden_nodes=82\n"
     ]
    },
    {
     "name": "stderr",
     "output_type": "stream",
     "text": [
      "[W 2023-06-26 12:35:27,998] Trial 73 failed with parameters: {'n_conv': 3, 'n_hidden': 3, 'hidden_nodes': 93, 'dropout': 0.033541021070295995, 'filters': 12, 'kernel_size': 15, 'batch_size': 33, 'epochs': 24} because of the following error: ValueError('One of the dimensions in the output is <= 0 due to downsampling in extra_conv_0. Consider increasing the input size. Received input shape [None, 9, 12] which would produce output shape with a zero or negative value in a dimension.').\n",
      "Traceback (most recent call last):\n",
      "  File \"/home/djanloo/.local/share/virtualenvs/DM2-PeqFRmfa/lib/python3.10/site-packages/optuna/study/_optimize.py\", line 200, in _run_trial\n",
      "    value_or_values = func(trial)\n",
      "  File \"/tmp/ipykernel_22119/4273198217.py\", line 15, in objective_fun\n",
      "    cnn = build_and_fit_cnn(X=X_train_v,\n",
      "  File \"/tmp/ipykernel_22119/2256047732.py\", line 28, in build_and_fit_cnn\n",
      "    model.add(Conv1D(filters=filters, kernel_size=kernel_size, activation='relu', name=f\"extra_conv_{i}\"))\n",
      "  File \"/home/djanloo/.local/share/virtualenvs/DM2-PeqFRmfa/lib/python3.10/site-packages/tensorflow/python/trackable/base.py\", line 205, in _method_wrapper\n",
      "    result = method(self, *args, **kwargs)\n",
      "  File \"/home/djanloo/.local/share/virtualenvs/DM2-PeqFRmfa/lib/python3.10/site-packages/keras/utils/traceback_utils.py\", line 70, in error_handler\n",
      "    raise e.with_traceback(filtered_tb) from None\n",
      "  File \"/home/djanloo/.local/share/virtualenvs/DM2-PeqFRmfa/lib/python3.10/site-packages/keras/layers/convolutional/base_conv.py\", line 354, in compute_output_shape\n",
      "    raise ValueError(\n",
      "ValueError: One of the dimensions in the output is <= 0 due to downsampling in extra_conv_0. Consider increasing the input size. Received input shape [None, 9, 12] which would produce output shape with a zero or negative value in a dimension.\n",
      "[W 2023-06-26 12:35:28,006] Trial 73 failed with value None.\n",
      "[W 2023-06-26 12:35:28,189] Trial 74 failed with parameters: {'n_conv': 3, 'n_hidden': 3, 'hidden_nodes': 82, 'dropout': 0.004892043844807625, 'filters': 12, 'kernel_size': 15, 'batch_size': 31, 'epochs': 25} because of the following error: ValueError('One of the dimensions in the output is <= 0 due to downsampling in extra_conv_0. Consider increasing the input size. Received input shape [None, 9, 12] which would produce output shape with a zero or negative value in a dimension.').\n",
      "Traceback (most recent call last):\n",
      "  File \"/home/djanloo/.local/share/virtualenvs/DM2-PeqFRmfa/lib/python3.10/site-packages/optuna/study/_optimize.py\", line 200, in _run_trial\n",
      "    value_or_values = func(trial)\n",
      "  File \"/tmp/ipykernel_22119/4273198217.py\", line 15, in objective_fun\n",
      "    cnn = build_and_fit_cnn(X=X_train_v,\n",
      "  File \"/tmp/ipykernel_22119/2256047732.py\", line 28, in build_and_fit_cnn\n",
      "    model.add(Conv1D(filters=filters, kernel_size=kernel_size, activation='relu', name=f\"extra_conv_{i}\"))\n",
      "  File \"/home/djanloo/.local/share/virtualenvs/DM2-PeqFRmfa/lib/python3.10/site-packages/tensorflow/python/trackable/base.py\", line 205, in _method_wrapper\n",
      "    result = method(self, *args, **kwargs)\n",
      "  File \"/home/djanloo/.local/share/virtualenvs/DM2-PeqFRmfa/lib/python3.10/site-packages/keras/utils/traceback_utils.py\", line 70, in error_handler\n",
      "    raise e.with_traceback(filtered_tb) from None\n",
      "  File \"/home/djanloo/.local/share/virtualenvs/DM2-PeqFRmfa/lib/python3.10/site-packages/keras/layers/convolutional/base_conv.py\", line 354, in compute_output_shape\n",
      "    raise ValueError(\n",
      "ValueError: One of the dimensions in the output is <= 0 due to downsampling in extra_conv_0. Consider increasing the input size. Received input shape [None, 9, 12] which would produce output shape with a zero or negative value in a dimension.\n",
      "[W 2023-06-26 12:35:28,212] Trial 74 failed with value None.\n"
     ]
    },
    {
     "name": "stdout",
     "output_type": "stream",
     "text": [
      "Running little bitch having n_conv=3, dropout=0.02574512523296607, hidden_nodes=86\n"
     ]
    },
    {
     "name": "stderr",
     "output_type": "stream",
     "text": [
      "[W 2023-06-26 12:35:28,475] Trial 75 failed with parameters: {'n_conv': 3, 'n_hidden': 3, 'hidden_nodes': 86, 'dropout': 0.02574512523296607, 'filters': 12, 'kernel_size': 16, 'batch_size': 35, 'epochs': 24} because of the following error: ValueError('One of the dimensions in the output is <= 0 due to downsampling in extra_conv_0. Consider increasing the input size. Received input shape [None, 8, 12] which would produce output shape with a zero or negative value in a dimension.').\n",
      "Traceback (most recent call last):\n",
      "  File \"/home/djanloo/.local/share/virtualenvs/DM2-PeqFRmfa/lib/python3.10/site-packages/optuna/study/_optimize.py\", line 200, in _run_trial\n",
      "    value_or_values = func(trial)\n",
      "  File \"/tmp/ipykernel_22119/4273198217.py\", line 15, in objective_fun\n",
      "    cnn = build_and_fit_cnn(X=X_train_v,\n",
      "  File \"/tmp/ipykernel_22119/2256047732.py\", line 28, in build_and_fit_cnn\n",
      "    model.add(Conv1D(filters=filters, kernel_size=kernel_size, activation='relu', name=f\"extra_conv_{i}\"))\n",
      "  File \"/home/djanloo/.local/share/virtualenvs/DM2-PeqFRmfa/lib/python3.10/site-packages/tensorflow/python/trackable/base.py\", line 205, in _method_wrapper\n",
      "    result = method(self, *args, **kwargs)\n",
      "  File \"/home/djanloo/.local/share/virtualenvs/DM2-PeqFRmfa/lib/python3.10/site-packages/keras/utils/traceback_utils.py\", line 70, in error_handler\n",
      "    raise e.with_traceback(filtered_tb) from None\n",
      "  File \"/home/djanloo/.local/share/virtualenvs/DM2-PeqFRmfa/lib/python3.10/site-packages/keras/layers/convolutional/base_conv.py\", line 354, in compute_output_shape\n",
      "    raise ValueError(\n",
      "ValueError: One of the dimensions in the output is <= 0 due to downsampling in extra_conv_0. Consider increasing the input size. Received input shape [None, 8, 12] which would produce output shape with a zero or negative value in a dimension.\n",
      "[W 2023-06-26 12:35:28,488] Trial 75 failed with value None.\n"
     ]
    },
    {
     "name": "stdout",
     "output_type": "stream",
     "text": [
      "Running little bitch having n_conv=3, dropout=0.04297176316888976, hidden_nodes=99\n"
     ]
    },
    {
     "name": "stderr",
     "output_type": "stream",
     "text": [
      "[W 2023-06-26 12:35:28,779] Trial 76 failed with parameters: {'n_conv': 3, 'n_hidden': 3, 'hidden_nodes': 99, 'dropout': 0.04297176316888976, 'filters': 12, 'kernel_size': 15, 'batch_size': 35, 'epochs': 25} because of the following error: ValueError('One of the dimensions in the output is <= 0 due to downsampling in extra_conv_0. Consider increasing the input size. Received input shape [None, 9, 12] which would produce output shape with a zero or negative value in a dimension.').\n",
      "Traceback (most recent call last):\n",
      "  File \"/home/djanloo/.local/share/virtualenvs/DM2-PeqFRmfa/lib/python3.10/site-packages/optuna/study/_optimize.py\", line 200, in _run_trial\n",
      "    value_or_values = func(trial)\n",
      "  File \"/tmp/ipykernel_22119/4273198217.py\", line 15, in objective_fun\n",
      "    cnn = build_and_fit_cnn(X=X_train_v,\n",
      "  File \"/tmp/ipykernel_22119/2256047732.py\", line 28, in build_and_fit_cnn\n",
      "    model.add(Conv1D(filters=filters, kernel_size=kernel_size, activation='relu', name=f\"extra_conv_{i}\"))\n",
      "  File \"/home/djanloo/.local/share/virtualenvs/DM2-PeqFRmfa/lib/python3.10/site-packages/tensorflow/python/trackable/base.py\", line 205, in _method_wrapper\n",
      "    result = method(self, *args, **kwargs)\n",
      "  File \"/home/djanloo/.local/share/virtualenvs/DM2-PeqFRmfa/lib/python3.10/site-packages/keras/utils/traceback_utils.py\", line 70, in error_handler\n",
      "    raise e.with_traceback(filtered_tb) from None\n",
      "  File \"/home/djanloo/.local/share/virtualenvs/DM2-PeqFRmfa/lib/python3.10/site-packages/keras/layers/convolutional/base_conv.py\", line 354, in compute_output_shape\n",
      "    raise ValueError(\n",
      "ValueError: One of the dimensions in the output is <= 0 due to downsampling in extra_conv_0. Consider increasing the input size. Received input shape [None, 9, 12] which would produce output shape with a zero or negative value in a dimension.\n",
      "[W 2023-06-26 12:35:28,790] Trial 76 failed with value None.\n"
     ]
    },
    {
     "name": "stdout",
     "output_type": "stream",
     "text": [
      "Running little bitch having n_conv=3, dropout=0.012960580130602195, hidden_nodes=77\n"
     ]
    },
    {
     "name": "stderr",
     "output_type": "stream",
     "text": [
      "[W 2023-06-26 12:35:29,003] Trial 77 failed with parameters: {'n_conv': 3, 'n_hidden': 3, 'hidden_nodes': 77, 'dropout': 0.012960580130602195, 'filters': 12, 'kernel_size': 14, 'batch_size': 32, 'epochs': 24} because of the following error: ValueError('One of the dimensions in the output is <= 0 due to downsampling in extra_conv_0. Consider increasing the input size. Received input shape [None, 10, 12] which would produce output shape with a zero or negative value in a dimension.').\n",
      "Traceback (most recent call last):\n",
      "  File \"/home/djanloo/.local/share/virtualenvs/DM2-PeqFRmfa/lib/python3.10/site-packages/optuna/study/_optimize.py\", line 200, in _run_trial\n",
      "    value_or_values = func(trial)\n",
      "  File \"/tmp/ipykernel_22119/4273198217.py\", line 15, in objective_fun\n",
      "    cnn = build_and_fit_cnn(X=X_train_v,\n",
      "  File \"/tmp/ipykernel_22119/2256047732.py\", line 28, in build_and_fit_cnn\n",
      "    model.add(Conv1D(filters=filters, kernel_size=kernel_size, activation='relu', name=f\"extra_conv_{i}\"))\n",
      "  File \"/home/djanloo/.local/share/virtualenvs/DM2-PeqFRmfa/lib/python3.10/site-packages/tensorflow/python/trackable/base.py\", line 205, in _method_wrapper\n",
      "    result = method(self, *args, **kwargs)\n",
      "  File \"/home/djanloo/.local/share/virtualenvs/DM2-PeqFRmfa/lib/python3.10/site-packages/keras/utils/traceback_utils.py\", line 70, in error_handler\n",
      "    raise e.with_traceback(filtered_tb) from None\n",
      "  File \"/home/djanloo/.local/share/virtualenvs/DM2-PeqFRmfa/lib/python3.10/site-packages/keras/layers/convolutional/base_conv.py\", line 354, in compute_output_shape\n",
      "    raise ValueError(\n",
      "ValueError: One of the dimensions in the output is <= 0 due to downsampling in extra_conv_0. Consider increasing the input size. Received input shape [None, 10, 12] which would produce output shape with a zero or negative value in a dimension.\n",
      "[W 2023-06-26 12:35:29,021] Trial 77 failed with value None.\n"
     ]
    },
    {
     "name": "stdout",
     "output_type": "stream",
     "text": [
      "Running little bitch having n_conv=3, dropout=0.06204214333861083, hidden_nodes=87\n"
     ]
    },
    {
     "name": "stderr",
     "output_type": "stream",
     "text": [
      "[W 2023-06-26 12:35:29,325] Trial 78 failed with parameters: {'n_conv': 3, 'n_hidden': 3, 'hidden_nodes': 87, 'dropout': 0.06204214333861083, 'filters': 12, 'kernel_size': 15, 'batch_size': 33, 'epochs': 24} because of the following error: ValueError('One of the dimensions in the output is <= 0 due to downsampling in extra_conv_0. Consider increasing the input size. Received input shape [None, 9, 12] which would produce output shape with a zero or negative value in a dimension.').\n",
      "Traceback (most recent call last):\n",
      "  File \"/home/djanloo/.local/share/virtualenvs/DM2-PeqFRmfa/lib/python3.10/site-packages/optuna/study/_optimize.py\", line 200, in _run_trial\n",
      "    value_or_values = func(trial)\n",
      "  File \"/tmp/ipykernel_22119/4273198217.py\", line 15, in objective_fun\n",
      "    cnn = build_and_fit_cnn(X=X_train_v,\n",
      "  File \"/tmp/ipykernel_22119/2256047732.py\", line 28, in build_and_fit_cnn\n",
      "    model.add(Conv1D(filters=filters, kernel_size=kernel_size, activation='relu', name=f\"extra_conv_{i}\"))\n",
      "  File \"/home/djanloo/.local/share/virtualenvs/DM2-PeqFRmfa/lib/python3.10/site-packages/tensorflow/python/trackable/base.py\", line 205, in _method_wrapper\n",
      "    result = method(self, *args, **kwargs)\n",
      "  File \"/home/djanloo/.local/share/virtualenvs/DM2-PeqFRmfa/lib/python3.10/site-packages/keras/utils/traceback_utils.py\", line 70, in error_handler\n",
      "    raise e.with_traceback(filtered_tb) from None\n",
      "  File \"/home/djanloo/.local/share/virtualenvs/DM2-PeqFRmfa/lib/python3.10/site-packages/keras/layers/convolutional/base_conv.py\", line 354, in compute_output_shape\n",
      "    raise ValueError(\n",
      "ValueError: One of the dimensions in the output is <= 0 due to downsampling in extra_conv_0. Consider increasing the input size. Received input shape [None, 9, 12] which would produce output shape with a zero or negative value in a dimension.\n",
      "[W 2023-06-26 12:35:29,337] Trial 78 failed with value None.\n"
     ]
    },
    {
     "name": "stdout",
     "output_type": "stream",
     "text": [
      "Running little bitch having n_conv=2, dropout=0.04751448281506865, hidden_nodes=89\n"
     ]
    },
    {
     "name": "stderr",
     "output_type": "stream",
     "text": [
      "[W 2023-06-26 12:35:29,520] Trial 79 failed with parameters: {'n_conv': 2, 'n_hidden': 3, 'hidden_nodes': 89, 'dropout': 0.04751448281506865, 'filters': 12, 'kernel_size': 15, 'batch_size': 34, 'epochs': 26} because of the following error: ValueError('One of the dimensions in the output is <= 0 due to downsampling in extra_conv_0. Consider increasing the input size. Received input shape [None, 9, 12] which would produce output shape with a zero or negative value in a dimension.').\n",
      "Traceback (most recent call last):\n",
      "  File \"/home/djanloo/.local/share/virtualenvs/DM2-PeqFRmfa/lib/python3.10/site-packages/optuna/study/_optimize.py\", line 200, in _run_trial\n",
      "    value_or_values = func(trial)\n",
      "  File \"/tmp/ipykernel_22119/4273198217.py\", line 15, in objective_fun\n",
      "    cnn = build_and_fit_cnn(X=X_train_v,\n",
      "  File \"/tmp/ipykernel_22119/2256047732.py\", line 28, in build_and_fit_cnn\n",
      "    model.add(Conv1D(filters=filters, kernel_size=kernel_size, activation='relu', name=f\"extra_conv_{i}\"))\n",
      "  File \"/home/djanloo/.local/share/virtualenvs/DM2-PeqFRmfa/lib/python3.10/site-packages/tensorflow/python/trackable/base.py\", line 205, in _method_wrapper\n",
      "    result = method(self, *args, **kwargs)\n",
      "  File \"/home/djanloo/.local/share/virtualenvs/DM2-PeqFRmfa/lib/python3.10/site-packages/keras/utils/traceback_utils.py\", line 70, in error_handler\n",
      "    raise e.with_traceback(filtered_tb) from None\n",
      "  File \"/home/djanloo/.local/share/virtualenvs/DM2-PeqFRmfa/lib/python3.10/site-packages/keras/layers/convolutional/base_conv.py\", line 354, in compute_output_shape\n",
      "    raise ValueError(\n",
      "ValueError: One of the dimensions in the output is <= 0 due to downsampling in extra_conv_0. Consider increasing the input size. Received input shape [None, 9, 12] which would produce output shape with a zero or negative value in a dimension.\n",
      "[W 2023-06-26 12:35:29,529] Trial 79 failed with value None.\n"
     ]
    },
    {
     "name": "stdout",
     "output_type": "stream",
     "text": [
      "Running little bitch having n_conv=3, dropout=0.02695222610561429, hidden_nodes=90\n",
      "Running little bitch having n_conv=3, dropout=0.0023383476397080827, hidden_nodes=88\n"
     ]
    },
    {
     "name": "stderr",
     "output_type": "stream",
     "text": [
      "[W 2023-06-26 12:35:29,833] Trial 80 failed with parameters: {'n_conv': 3, 'n_hidden': 3, 'hidden_nodes': 90, 'dropout': 0.02695222610561429, 'filters': 12, 'kernel_size': 15, 'batch_size': 32, 'epochs': 24} because of the following error: ValueError('One of the dimensions in the output is <= 0 due to downsampling in extra_conv_0. Consider increasing the input size. Received input shape [None, 9, 12] which would produce output shape with a zero or negative value in a dimension.').\n",
      "Traceback (most recent call last):\n",
      "  File \"/home/djanloo/.local/share/virtualenvs/DM2-PeqFRmfa/lib/python3.10/site-packages/optuna/study/_optimize.py\", line 200, in _run_trial\n",
      "    value_or_values = func(trial)\n",
      "  File \"/tmp/ipykernel_22119/4273198217.py\", line 15, in objective_fun\n",
      "    cnn = build_and_fit_cnn(X=X_train_v,\n",
      "  File \"/tmp/ipykernel_22119/2256047732.py\", line 28, in build_and_fit_cnn\n",
      "    model.add(Conv1D(filters=filters, kernel_size=kernel_size, activation='relu', name=f\"extra_conv_{i}\"))\n",
      "  File \"/home/djanloo/.local/share/virtualenvs/DM2-PeqFRmfa/lib/python3.10/site-packages/tensorflow/python/trackable/base.py\", line 205, in _method_wrapper\n",
      "    result = method(self, *args, **kwargs)\n",
      "  File \"/home/djanloo/.local/share/virtualenvs/DM2-PeqFRmfa/lib/python3.10/site-packages/keras/utils/traceback_utils.py\", line 70, in error_handler\n",
      "    raise e.with_traceback(filtered_tb) from None\n",
      "  File \"/home/djanloo/.local/share/virtualenvs/DM2-PeqFRmfa/lib/python3.10/site-packages/keras/layers/convolutional/base_conv.py\", line 354, in compute_output_shape\n",
      "    raise ValueError(\n",
      "ValueError: One of the dimensions in the output is <= 0 due to downsampling in extra_conv_0. Consider increasing the input size. Received input shape [None, 9, 12] which would produce output shape with a zero or negative value in a dimension.\n",
      "[W 2023-06-26 12:35:29,849] Trial 80 failed with value None.\n",
      "[W 2023-06-26 12:35:30,085] Trial 81 failed with parameters: {'n_conv': 3, 'n_hidden': 3, 'hidden_nodes': 88, 'dropout': 0.0023383476397080827, 'filters': 12, 'kernel_size': 15, 'batch_size': 33, 'epochs': 25} because of the following error: ValueError('One of the dimensions in the output is <= 0 due to downsampling in extra_conv_0. Consider increasing the input size. Received input shape [None, 9, 12] which would produce output shape with a zero or negative value in a dimension.').\n",
      "Traceback (most recent call last):\n",
      "  File \"/home/djanloo/.local/share/virtualenvs/DM2-PeqFRmfa/lib/python3.10/site-packages/optuna/study/_optimize.py\", line 200, in _run_trial\n",
      "    value_or_values = func(trial)\n",
      "  File \"/tmp/ipykernel_22119/4273198217.py\", line 15, in objective_fun\n",
      "    cnn = build_and_fit_cnn(X=X_train_v,\n",
      "  File \"/tmp/ipykernel_22119/2256047732.py\", line 28, in build_and_fit_cnn\n",
      "    model.add(Conv1D(filters=filters, kernel_size=kernel_size, activation='relu', name=f\"extra_conv_{i}\"))\n",
      "  File \"/home/djanloo/.local/share/virtualenvs/DM2-PeqFRmfa/lib/python3.10/site-packages/tensorflow/python/trackable/base.py\", line 205, in _method_wrapper\n",
      "    result = method(self, *args, **kwargs)\n",
      "  File \"/home/djanloo/.local/share/virtualenvs/DM2-PeqFRmfa/lib/python3.10/site-packages/keras/utils/traceback_utils.py\", line 70, in error_handler\n",
      "    raise e.with_traceback(filtered_tb) from None\n",
      "  File \"/home/djanloo/.local/share/virtualenvs/DM2-PeqFRmfa/lib/python3.10/site-packages/keras/layers/convolutional/base_conv.py\", line 354, in compute_output_shape\n",
      "    raise ValueError(\n",
      "ValueError: One of the dimensions in the output is <= 0 due to downsampling in extra_conv_0. Consider increasing the input size. Received input shape [None, 9, 12] which would produce output shape with a zero or negative value in a dimension.\n",
      "[W 2023-06-26 12:35:30,101] Trial 81 failed with value None.\n"
     ]
    },
    {
     "name": "stdout",
     "output_type": "stream",
     "text": [
      "Running little bitch having n_conv=2, dropout=0.03529093513824333, hidden_nodes=81\n"
     ]
    },
    {
     "name": "stderr",
     "output_type": "stream",
     "text": [
      "[W 2023-06-26 12:35:30,364] Trial 82 failed with parameters: {'n_conv': 2, 'n_hidden': 3, 'hidden_nodes': 81, 'dropout': 0.03529093513824333, 'filters': 12, 'kernel_size': 15, 'batch_size': 32, 'epochs': 25} because of the following error: ValueError('One of the dimensions in the output is <= 0 due to downsampling in extra_conv_0. Consider increasing the input size. Received input shape [None, 9, 12] which would produce output shape with a zero or negative value in a dimension.').\n",
      "Traceback (most recent call last):\n",
      "  File \"/home/djanloo/.local/share/virtualenvs/DM2-PeqFRmfa/lib/python3.10/site-packages/optuna/study/_optimize.py\", line 200, in _run_trial\n",
      "    value_or_values = func(trial)\n",
      "  File \"/tmp/ipykernel_22119/4273198217.py\", line 15, in objective_fun\n",
      "    cnn = build_and_fit_cnn(X=X_train_v,\n",
      "  File \"/tmp/ipykernel_22119/2256047732.py\", line 28, in build_and_fit_cnn\n",
      "    model.add(Conv1D(filters=filters, kernel_size=kernel_size, activation='relu', name=f\"extra_conv_{i}\"))\n",
      "  File \"/home/djanloo/.local/share/virtualenvs/DM2-PeqFRmfa/lib/python3.10/site-packages/tensorflow/python/trackable/base.py\", line 205, in _method_wrapper\n",
      "    result = method(self, *args, **kwargs)\n",
      "  File \"/home/djanloo/.local/share/virtualenvs/DM2-PeqFRmfa/lib/python3.10/site-packages/keras/utils/traceback_utils.py\", line 70, in error_handler\n",
      "    raise e.with_traceback(filtered_tb) from None\n",
      "  File \"/home/djanloo/.local/share/virtualenvs/DM2-PeqFRmfa/lib/python3.10/site-packages/keras/layers/convolutional/base_conv.py\", line 354, in compute_output_shape\n",
      "    raise ValueError(\n",
      "ValueError: One of the dimensions in the output is <= 0 due to downsampling in extra_conv_0. Consider increasing the input size. Received input shape [None, 9, 12] which would produce output shape with a zero or negative value in a dimension.\n",
      "[W 2023-06-26 12:35:30,375] Trial 82 failed with value None.\n"
     ]
    },
    {
     "name": "stdout",
     "output_type": "stream",
     "text": [
      "Running little bitch having n_conv=3, dropout=0.0009700700866717704, hidden_nodes=85\n"
     ]
    },
    {
     "name": "stderr",
     "output_type": "stream",
     "text": [
      "[W 2023-06-26 12:35:30,603] Trial 83 failed with parameters: {'n_conv': 3, 'n_hidden': 3, 'hidden_nodes': 85, 'dropout': 0.0009700700866717704, 'filters': 12, 'kernel_size': 15, 'batch_size': 34, 'epochs': 26} because of the following error: ValueError('One of the dimensions in the output is <= 0 due to downsampling in extra_conv_0. Consider increasing the input size. Received input shape [None, 9, 12] which would produce output shape with a zero or negative value in a dimension.').\n",
      "Traceback (most recent call last):\n",
      "  File \"/home/djanloo/.local/share/virtualenvs/DM2-PeqFRmfa/lib/python3.10/site-packages/optuna/study/_optimize.py\", line 200, in _run_trial\n",
      "    value_or_values = func(trial)\n",
      "  File \"/tmp/ipykernel_22119/4273198217.py\", line 15, in objective_fun\n",
      "    cnn = build_and_fit_cnn(X=X_train_v,\n",
      "  File \"/tmp/ipykernel_22119/2256047732.py\", line 28, in build_and_fit_cnn\n",
      "    model.add(Conv1D(filters=filters, kernel_size=kernel_size, activation='relu', name=f\"extra_conv_{i}\"))\n",
      "  File \"/home/djanloo/.local/share/virtualenvs/DM2-PeqFRmfa/lib/python3.10/site-packages/tensorflow/python/trackable/base.py\", line 205, in _method_wrapper\n",
      "    result = method(self, *args, **kwargs)\n",
      "  File \"/home/djanloo/.local/share/virtualenvs/DM2-PeqFRmfa/lib/python3.10/site-packages/keras/utils/traceback_utils.py\", line 70, in error_handler\n",
      "    raise e.with_traceback(filtered_tb) from None\n",
      "  File \"/home/djanloo/.local/share/virtualenvs/DM2-PeqFRmfa/lib/python3.10/site-packages/keras/layers/convolutional/base_conv.py\", line 354, in compute_output_shape\n",
      "    raise ValueError(\n",
      "ValueError: One of the dimensions in the output is <= 0 due to downsampling in extra_conv_0. Consider increasing the input size. Received input shape [None, 9, 12] which would produce output shape with a zero or negative value in a dimension.\n",
      "[W 2023-06-26 12:35:30,612] Trial 83 failed with value None.\n"
     ]
    },
    {
     "name": "stdout",
     "output_type": "stream",
     "text": [
      "Running little bitch having n_conv=3, dropout=0.024212553939120363, hidden_nodes=75\n"
     ]
    },
    {
     "name": "stderr",
     "output_type": "stream",
     "text": [
      "[W 2023-06-26 12:35:30,876] Trial 84 failed with parameters: {'n_conv': 3, 'n_hidden': 3, 'hidden_nodes': 75, 'dropout': 0.024212553939120363, 'filters': 12, 'kernel_size': 15, 'batch_size': 33, 'epochs': 24} because of the following error: ValueError('One of the dimensions in the output is <= 0 due to downsampling in extra_conv_0. Consider increasing the input size. Received input shape [None, 9, 12] which would produce output shape with a zero or negative value in a dimension.').\n",
      "Traceback (most recent call last):\n",
      "  File \"/home/djanloo/.local/share/virtualenvs/DM2-PeqFRmfa/lib/python3.10/site-packages/optuna/study/_optimize.py\", line 200, in _run_trial\n",
      "    value_or_values = func(trial)\n",
      "  File \"/tmp/ipykernel_22119/4273198217.py\", line 15, in objective_fun\n",
      "    cnn = build_and_fit_cnn(X=X_train_v,\n",
      "  File \"/tmp/ipykernel_22119/2256047732.py\", line 28, in build_and_fit_cnn\n",
      "    model.add(Conv1D(filters=filters, kernel_size=kernel_size, activation='relu', name=f\"extra_conv_{i}\"))\n",
      "  File \"/home/djanloo/.local/share/virtualenvs/DM2-PeqFRmfa/lib/python3.10/site-packages/tensorflow/python/trackable/base.py\", line 205, in _method_wrapper\n",
      "    result = method(self, *args, **kwargs)\n",
      "  File \"/home/djanloo/.local/share/virtualenvs/DM2-PeqFRmfa/lib/python3.10/site-packages/keras/utils/traceback_utils.py\", line 70, in error_handler\n",
      "    raise e.with_traceback(filtered_tb) from None\n",
      "  File \"/home/djanloo/.local/share/virtualenvs/DM2-PeqFRmfa/lib/python3.10/site-packages/keras/layers/convolutional/base_conv.py\", line 354, in compute_output_shape\n",
      "    raise ValueError(\n",
      "ValueError: One of the dimensions in the output is <= 0 due to downsampling in extra_conv_0. Consider increasing the input size. Received input shape [None, 9, 12] which would produce output shape with a zero or negative value in a dimension.\n",
      "[W 2023-06-26 12:35:30,893] Trial 84 failed with value None.\n"
     ]
    },
    {
     "name": "stdout",
     "output_type": "stream",
     "text": [
      "Running little bitch having n_conv=3, dropout=0.030002267464738885, hidden_nodes=91\n"
     ]
    },
    {
     "name": "stderr",
     "output_type": "stream",
     "text": [
      "[W 2023-06-26 12:35:31,141] Trial 85 failed with parameters: {'n_conv': 3, 'n_hidden': 3, 'hidden_nodes': 91, 'dropout': 0.030002267464738885, 'filters': 12, 'kernel_size': 15, 'batch_size': 32, 'epochs': 24} because of the following error: ValueError('One of the dimensions in the output is <= 0 due to downsampling in extra_conv_0. Consider increasing the input size. Received input shape [None, 9, 12] which would produce output shape with a zero or negative value in a dimension.').\n",
      "Traceback (most recent call last):\n",
      "  File \"/home/djanloo/.local/share/virtualenvs/DM2-PeqFRmfa/lib/python3.10/site-packages/optuna/study/_optimize.py\", line 200, in _run_trial\n",
      "    value_or_values = func(trial)\n",
      "  File \"/tmp/ipykernel_22119/4273198217.py\", line 15, in objective_fun\n",
      "    cnn = build_and_fit_cnn(X=X_train_v,\n",
      "  File \"/tmp/ipykernel_22119/2256047732.py\", line 28, in build_and_fit_cnn\n",
      "    model.add(Conv1D(filters=filters, kernel_size=kernel_size, activation='relu', name=f\"extra_conv_{i}\"))\n",
      "  File \"/home/djanloo/.local/share/virtualenvs/DM2-PeqFRmfa/lib/python3.10/site-packages/tensorflow/python/trackable/base.py\", line 205, in _method_wrapper\n",
      "    result = method(self, *args, **kwargs)\n",
      "  File \"/home/djanloo/.local/share/virtualenvs/DM2-PeqFRmfa/lib/python3.10/site-packages/keras/utils/traceback_utils.py\", line 70, in error_handler\n",
      "    raise e.with_traceback(filtered_tb) from None\n",
      "  File \"/home/djanloo/.local/share/virtualenvs/DM2-PeqFRmfa/lib/python3.10/site-packages/keras/layers/convolutional/base_conv.py\", line 354, in compute_output_shape\n",
      "    raise ValueError(\n",
      "ValueError: One of the dimensions in the output is <= 0 due to downsampling in extra_conv_0. Consider increasing the input size. Received input shape [None, 9, 12] which would produce output shape with a zero or negative value in a dimension.\n",
      "[W 2023-06-26 12:35:31,148] Trial 85 failed with value None.\n"
     ]
    },
    {
     "name": "stdout",
     "output_type": "stream",
     "text": [
      "Running little bitch having n_conv=3, dropout=0.04033278480557881, hidden_nodes=83\n"
     ]
    },
    {
     "name": "stderr",
     "output_type": "stream",
     "text": [
      "[W 2023-06-26 12:35:31,455] Trial 86 failed with parameters: {'n_conv': 3, 'n_hidden': 3, 'hidden_nodes': 83, 'dropout': 0.04033278480557881, 'filters': 12, 'kernel_size': 16, 'batch_size': 33, 'epochs': 27} because of the following error: ValueError('One of the dimensions in the output is <= 0 due to downsampling in extra_conv_0. Consider increasing the input size. Received input shape [None, 8, 12] which would produce output shape with a zero or negative value in a dimension.').\n",
      "Traceback (most recent call last):\n",
      "  File \"/home/djanloo/.local/share/virtualenvs/DM2-PeqFRmfa/lib/python3.10/site-packages/optuna/study/_optimize.py\", line 200, in _run_trial\n",
      "    value_or_values = func(trial)\n",
      "  File \"/tmp/ipykernel_22119/4273198217.py\", line 15, in objective_fun\n",
      "    cnn = build_and_fit_cnn(X=X_train_v,\n",
      "  File \"/tmp/ipykernel_22119/2256047732.py\", line 28, in build_and_fit_cnn\n",
      "    model.add(Conv1D(filters=filters, kernel_size=kernel_size, activation='relu', name=f\"extra_conv_{i}\"))\n",
      "  File \"/home/djanloo/.local/share/virtualenvs/DM2-PeqFRmfa/lib/python3.10/site-packages/tensorflow/python/trackable/base.py\", line 205, in _method_wrapper\n",
      "    result = method(self, *args, **kwargs)\n",
      "  File \"/home/djanloo/.local/share/virtualenvs/DM2-PeqFRmfa/lib/python3.10/site-packages/keras/utils/traceback_utils.py\", line 70, in error_handler\n",
      "    raise e.with_traceback(filtered_tb) from None\n",
      "  File \"/home/djanloo/.local/share/virtualenvs/DM2-PeqFRmfa/lib/python3.10/site-packages/keras/layers/convolutional/base_conv.py\", line 354, in compute_output_shape\n",
      "    raise ValueError(\n",
      "ValueError: One of the dimensions in the output is <= 0 due to downsampling in extra_conv_0. Consider increasing the input size. Received input shape [None, 8, 12] which would produce output shape with a zero or negative value in a dimension.\n",
      "[W 2023-06-26 12:35:31,467] Trial 86 failed with value None.\n"
     ]
    },
    {
     "name": "stdout",
     "output_type": "stream",
     "text": [
      "Running little bitch having n_conv=3, dropout=0.026644718811707657, hidden_nodes=80\n"
     ]
    },
    {
     "name": "stderr",
     "output_type": "stream",
     "text": [
      "[W 2023-06-26 12:35:31,651] Trial 87 failed with parameters: {'n_conv': 3, 'n_hidden': 3, 'hidden_nodes': 80, 'dropout': 0.026644718811707657, 'filters': 12, 'kernel_size': 15, 'batch_size': 35, 'epochs': 25} because of the following error: ValueError('One of the dimensions in the output is <= 0 due to downsampling in extra_conv_0. Consider increasing the input size. Received input shape [None, 9, 12] which would produce output shape with a zero or negative value in a dimension.').\n",
      "Traceback (most recent call last):\n",
      "  File \"/home/djanloo/.local/share/virtualenvs/DM2-PeqFRmfa/lib/python3.10/site-packages/optuna/study/_optimize.py\", line 200, in _run_trial\n",
      "    value_or_values = func(trial)\n",
      "  File \"/tmp/ipykernel_22119/4273198217.py\", line 15, in objective_fun\n",
      "    cnn = build_and_fit_cnn(X=X_train_v,\n",
      "  File \"/tmp/ipykernel_22119/2256047732.py\", line 28, in build_and_fit_cnn\n",
      "    model.add(Conv1D(filters=filters, kernel_size=kernel_size, activation='relu', name=f\"extra_conv_{i}\"))\n",
      "  File \"/home/djanloo/.local/share/virtualenvs/DM2-PeqFRmfa/lib/python3.10/site-packages/tensorflow/python/trackable/base.py\", line 205, in _method_wrapper\n",
      "    result = method(self, *args, **kwargs)\n",
      "  File \"/home/djanloo/.local/share/virtualenvs/DM2-PeqFRmfa/lib/python3.10/site-packages/keras/utils/traceback_utils.py\", line 70, in error_handler\n",
      "    raise e.with_traceback(filtered_tb) from None\n",
      "  File \"/home/djanloo/.local/share/virtualenvs/DM2-PeqFRmfa/lib/python3.10/site-packages/keras/layers/convolutional/base_conv.py\", line 354, in compute_output_shape\n",
      "    raise ValueError(\n",
      "ValueError: One of the dimensions in the output is <= 0 due to downsampling in extra_conv_0. Consider increasing the input size. Received input shape [None, 9, 12] which would produce output shape with a zero or negative value in a dimension.\n",
      "[W 2023-06-26 12:35:31,662] Trial 87 failed with value None.\n"
     ]
    },
    {
     "name": "stdout",
     "output_type": "stream",
     "text": [
      "Running little bitch having n_conv=3, dropout=0.031009650690299317, hidden_nodes=79\n",
      "Running little bitch having n_conv=3, dropout=0.03349384028575608, hidden_nodes=84\n"
     ]
    },
    {
     "name": "stderr",
     "output_type": "stream",
     "text": [
      "[W 2023-06-26 12:35:31,976] Trial 88 failed with parameters: {'n_conv': 3, 'n_hidden': 3, 'hidden_nodes': 79, 'dropout': 0.031009650690299317, 'filters': 12, 'kernel_size': 15, 'batch_size': 34, 'epochs': 23} because of the following error: ValueError('One of the dimensions in the output is <= 0 due to downsampling in extra_conv_0. Consider increasing the input size. Received input shape [None, 9, 12] which would produce output shape with a zero or negative value in a dimension.').\n",
      "Traceback (most recent call last):\n",
      "  File \"/home/djanloo/.local/share/virtualenvs/DM2-PeqFRmfa/lib/python3.10/site-packages/optuna/study/_optimize.py\", line 200, in _run_trial\n",
      "    value_or_values = func(trial)\n",
      "  File \"/tmp/ipykernel_22119/4273198217.py\", line 15, in objective_fun\n",
      "    cnn = build_and_fit_cnn(X=X_train_v,\n",
      "  File \"/tmp/ipykernel_22119/2256047732.py\", line 28, in build_and_fit_cnn\n",
      "    model.add(Conv1D(filters=filters, kernel_size=kernel_size, activation='relu', name=f\"extra_conv_{i}\"))\n",
      "  File \"/home/djanloo/.local/share/virtualenvs/DM2-PeqFRmfa/lib/python3.10/site-packages/tensorflow/python/trackable/base.py\", line 205, in _method_wrapper\n",
      "    result = method(self, *args, **kwargs)\n",
      "  File \"/home/djanloo/.local/share/virtualenvs/DM2-PeqFRmfa/lib/python3.10/site-packages/keras/utils/traceback_utils.py\", line 70, in error_handler\n",
      "    raise e.with_traceback(filtered_tb) from None\n",
      "  File \"/home/djanloo/.local/share/virtualenvs/DM2-PeqFRmfa/lib/python3.10/site-packages/keras/layers/convolutional/base_conv.py\", line 354, in compute_output_shape\n",
      "    raise ValueError(\n",
      "ValueError: One of the dimensions in the output is <= 0 due to downsampling in extra_conv_0. Consider increasing the input size. Received input shape [None, 9, 12] which would produce output shape with a zero or negative value in a dimension.\n",
      "[W 2023-06-26 12:35:31,991] Trial 88 failed with value None.\n",
      "[W 2023-06-26 12:35:32,225] Trial 89 failed with parameters: {'n_conv': 3, 'n_hidden': 3, 'hidden_nodes': 84, 'dropout': 0.03349384028575608, 'filters': 12, 'kernel_size': 15, 'batch_size': 35, 'epochs': 24} because of the following error: ValueError('One of the dimensions in the output is <= 0 due to downsampling in extra_conv_0. Consider increasing the input size. Received input shape [None, 9, 12] which would produce output shape with a zero or negative value in a dimension.').\n",
      "Traceback (most recent call last):\n",
      "  File \"/home/djanloo/.local/share/virtualenvs/DM2-PeqFRmfa/lib/python3.10/site-packages/optuna/study/_optimize.py\", line 200, in _run_trial\n",
      "    value_or_values = func(trial)\n",
      "  File \"/tmp/ipykernel_22119/4273198217.py\", line 15, in objective_fun\n",
      "    cnn = build_and_fit_cnn(X=X_train_v,\n",
      "  File \"/tmp/ipykernel_22119/2256047732.py\", line 28, in build_and_fit_cnn\n",
      "    model.add(Conv1D(filters=filters, kernel_size=kernel_size, activation='relu', name=f\"extra_conv_{i}\"))\n",
      "  File \"/home/djanloo/.local/share/virtualenvs/DM2-PeqFRmfa/lib/python3.10/site-packages/tensorflow/python/trackable/base.py\", line 205, in _method_wrapper\n",
      "    result = method(self, *args, **kwargs)\n",
      "  File \"/home/djanloo/.local/share/virtualenvs/DM2-PeqFRmfa/lib/python3.10/site-packages/keras/utils/traceback_utils.py\", line 70, in error_handler\n",
      "    raise e.with_traceback(filtered_tb) from None\n",
      "  File \"/home/djanloo/.local/share/virtualenvs/DM2-PeqFRmfa/lib/python3.10/site-packages/keras/layers/convolutional/base_conv.py\", line 354, in compute_output_shape\n",
      "    raise ValueError(\n",
      "ValueError: One of the dimensions in the output is <= 0 due to downsampling in extra_conv_0. Consider increasing the input size. Received input shape [None, 9, 12] which would produce output shape with a zero or negative value in a dimension.\n",
      "[W 2023-06-26 12:35:32,233] Trial 89 failed with value None.\n"
     ]
    },
    {
     "name": "stdout",
     "output_type": "stream",
     "text": [
      "Running little bitch having n_conv=3, dropout=0.020162999876975007, hidden_nodes=100\n"
     ]
    },
    {
     "name": "stderr",
     "output_type": "stream",
     "text": [
      "[W 2023-06-26 12:35:32,523] Trial 90 failed with parameters: {'n_conv': 3, 'n_hidden': 3, 'hidden_nodes': 100, 'dropout': 0.020162999876975007, 'filters': 12, 'kernel_size': 15, 'batch_size': 34, 'epochs': 26} because of the following error: ValueError('One of the dimensions in the output is <= 0 due to downsampling in extra_conv_0. Consider increasing the input size. Received input shape [None, 9, 12] which would produce output shape with a zero or negative value in a dimension.').\n",
      "Traceback (most recent call last):\n",
      "  File \"/home/djanloo/.local/share/virtualenvs/DM2-PeqFRmfa/lib/python3.10/site-packages/optuna/study/_optimize.py\", line 200, in _run_trial\n",
      "    value_or_values = func(trial)\n",
      "  File \"/tmp/ipykernel_22119/4273198217.py\", line 15, in objective_fun\n",
      "    cnn = build_and_fit_cnn(X=X_train_v,\n",
      "  File \"/tmp/ipykernel_22119/2256047732.py\", line 28, in build_and_fit_cnn\n",
      "    model.add(Conv1D(filters=filters, kernel_size=kernel_size, activation='relu', name=f\"extra_conv_{i}\"))\n",
      "  File \"/home/djanloo/.local/share/virtualenvs/DM2-PeqFRmfa/lib/python3.10/site-packages/tensorflow/python/trackable/base.py\", line 205, in _method_wrapper\n",
      "    result = method(self, *args, **kwargs)\n",
      "  File \"/home/djanloo/.local/share/virtualenvs/DM2-PeqFRmfa/lib/python3.10/site-packages/keras/utils/traceback_utils.py\", line 70, in error_handler\n",
      "    raise e.with_traceback(filtered_tb) from None\n",
      "  File \"/home/djanloo/.local/share/virtualenvs/DM2-PeqFRmfa/lib/python3.10/site-packages/keras/layers/convolutional/base_conv.py\", line 354, in compute_output_shape\n",
      "    raise ValueError(\n",
      "ValueError: One of the dimensions in the output is <= 0 due to downsampling in extra_conv_0. Consider increasing the input size. Received input shape [None, 9, 12] which would produce output shape with a zero or negative value in a dimension.\n",
      "[W 2023-06-26 12:35:32,531] Trial 90 failed with value None.\n"
     ]
    },
    {
     "name": "stdout",
     "output_type": "stream",
     "text": [
      "Running little bitch having n_conv=3, dropout=0.006220005572180665, hidden_nodes=91\n"
     ]
    },
    {
     "name": "stderr",
     "output_type": "stream",
     "text": [
      "[W 2023-06-26 12:35:32,768] Trial 91 failed with parameters: {'n_conv': 3, 'n_hidden': 3, 'hidden_nodes': 91, 'dropout': 0.006220005572180665, 'filters': 13, 'kernel_size': 15, 'batch_size': 33, 'epochs': 26} because of the following error: ValueError('One of the dimensions in the output is <= 0 due to downsampling in extra_conv_0. Consider increasing the input size. Received input shape [None, 9, 13] which would produce output shape with a zero or negative value in a dimension.').\n",
      "Traceback (most recent call last):\n",
      "  File \"/home/djanloo/.local/share/virtualenvs/DM2-PeqFRmfa/lib/python3.10/site-packages/optuna/study/_optimize.py\", line 200, in _run_trial\n",
      "    value_or_values = func(trial)\n",
      "  File \"/tmp/ipykernel_22119/4273198217.py\", line 15, in objective_fun\n",
      "    cnn = build_and_fit_cnn(X=X_train_v,\n",
      "  File \"/tmp/ipykernel_22119/2256047732.py\", line 28, in build_and_fit_cnn\n",
      "    model.add(Conv1D(filters=filters, kernel_size=kernel_size, activation='relu', name=f\"extra_conv_{i}\"))\n",
      "  File \"/home/djanloo/.local/share/virtualenvs/DM2-PeqFRmfa/lib/python3.10/site-packages/tensorflow/python/trackable/base.py\", line 205, in _method_wrapper\n",
      "    result = method(self, *args, **kwargs)\n",
      "  File \"/home/djanloo/.local/share/virtualenvs/DM2-PeqFRmfa/lib/python3.10/site-packages/keras/utils/traceback_utils.py\", line 70, in error_handler\n",
      "    raise e.with_traceback(filtered_tb) from None\n",
      "  File \"/home/djanloo/.local/share/virtualenvs/DM2-PeqFRmfa/lib/python3.10/site-packages/keras/layers/convolutional/base_conv.py\", line 354, in compute_output_shape\n",
      "    raise ValueError(\n",
      "ValueError: One of the dimensions in the output is <= 0 due to downsampling in extra_conv_0. Consider increasing the input size. Received input shape [None, 9, 13] which would produce output shape with a zero or negative value in a dimension.\n",
      "[W 2023-06-26 12:35:32,778] Trial 91 failed with value None.\n"
     ]
    },
    {
     "name": "stdout",
     "output_type": "stream",
     "text": [
      "Running little bitch having n_conv=3, dropout=0.006032487516568152, hidden_nodes=86\n"
     ]
    },
    {
     "name": "stderr",
     "output_type": "stream",
     "text": [
      "[W 2023-06-26 12:35:33,058] Trial 92 failed with parameters: {'n_conv': 3, 'n_hidden': 3, 'hidden_nodes': 86, 'dropout': 0.006032487516568152, 'filters': 13, 'kernel_size': 15, 'batch_size': 34, 'epochs': 25} because of the following error: ValueError('One of the dimensions in the output is <= 0 due to downsampling in extra_conv_0. Consider increasing the input size. Received input shape [None, 9, 13] which would produce output shape with a zero or negative value in a dimension.').\n",
      "Traceback (most recent call last):\n",
      "  File \"/home/djanloo/.local/share/virtualenvs/DM2-PeqFRmfa/lib/python3.10/site-packages/optuna/study/_optimize.py\", line 200, in _run_trial\n",
      "    value_or_values = func(trial)\n",
      "  File \"/tmp/ipykernel_22119/4273198217.py\", line 15, in objective_fun\n",
      "    cnn = build_and_fit_cnn(X=X_train_v,\n",
      "  File \"/tmp/ipykernel_22119/2256047732.py\", line 28, in build_and_fit_cnn\n",
      "    model.add(Conv1D(filters=filters, kernel_size=kernel_size, activation='relu', name=f\"extra_conv_{i}\"))\n",
      "  File \"/home/djanloo/.local/share/virtualenvs/DM2-PeqFRmfa/lib/python3.10/site-packages/tensorflow/python/trackable/base.py\", line 205, in _method_wrapper\n",
      "    result = method(self, *args, **kwargs)\n",
      "  File \"/home/djanloo/.local/share/virtualenvs/DM2-PeqFRmfa/lib/python3.10/site-packages/keras/utils/traceback_utils.py\", line 70, in error_handler\n",
      "    raise e.with_traceback(filtered_tb) from None\n",
      "  File \"/home/djanloo/.local/share/virtualenvs/DM2-PeqFRmfa/lib/python3.10/site-packages/keras/layers/convolutional/base_conv.py\", line 354, in compute_output_shape\n",
      "    raise ValueError(\n",
      "ValueError: One of the dimensions in the output is <= 0 due to downsampling in extra_conv_0. Consider increasing the input size. Received input shape [None, 9, 13] which would produce output shape with a zero or negative value in a dimension.\n",
      "[W 2023-06-26 12:35:33,066] Trial 92 failed with value None.\n"
     ]
    },
    {
     "name": "stdout",
     "output_type": "stream",
     "text": [
      "Running little bitch having n_conv=3, dropout=0.01185795141399798, hidden_nodes=83\n"
     ]
    },
    {
     "name": "stderr",
     "output_type": "stream",
     "text": [
      "[W 2023-06-26 12:35:33,343] Trial 93 failed with parameters: {'n_conv': 3, 'n_hidden': 3, 'hidden_nodes': 83, 'dropout': 0.01185795141399798, 'filters': 12, 'kernel_size': 15, 'batch_size': 33, 'epochs': 25} because of the following error: ValueError('One of the dimensions in the output is <= 0 due to downsampling in extra_conv_0. Consider increasing the input size. Received input shape [None, 9, 12] which would produce output shape with a zero or negative value in a dimension.').\n",
      "Traceback (most recent call last):\n",
      "  File \"/home/djanloo/.local/share/virtualenvs/DM2-PeqFRmfa/lib/python3.10/site-packages/optuna/study/_optimize.py\", line 200, in _run_trial\n",
      "    value_or_values = func(trial)\n",
      "  File \"/tmp/ipykernel_22119/4273198217.py\", line 15, in objective_fun\n",
      "    cnn = build_and_fit_cnn(X=X_train_v,\n",
      "  File \"/tmp/ipykernel_22119/2256047732.py\", line 28, in build_and_fit_cnn\n",
      "    model.add(Conv1D(filters=filters, kernel_size=kernel_size, activation='relu', name=f\"extra_conv_{i}\"))\n",
      "  File \"/home/djanloo/.local/share/virtualenvs/DM2-PeqFRmfa/lib/python3.10/site-packages/tensorflow/python/trackable/base.py\", line 205, in _method_wrapper\n",
      "    result = method(self, *args, **kwargs)\n",
      "  File \"/home/djanloo/.local/share/virtualenvs/DM2-PeqFRmfa/lib/python3.10/site-packages/keras/utils/traceback_utils.py\", line 70, in error_handler\n",
      "    raise e.with_traceback(filtered_tb) from None\n",
      "  File \"/home/djanloo/.local/share/virtualenvs/DM2-PeqFRmfa/lib/python3.10/site-packages/keras/layers/convolutional/base_conv.py\", line 354, in compute_output_shape\n",
      "    raise ValueError(\n",
      "ValueError: One of the dimensions in the output is <= 0 due to downsampling in extra_conv_0. Consider increasing the input size. Received input shape [None, 9, 12] which would produce output shape with a zero or negative value in a dimension.\n",
      "[W 2023-06-26 12:35:33,350] Trial 93 failed with value None.\n"
     ]
    },
    {
     "name": "stdout",
     "output_type": "stream",
     "text": [
      "Running little bitch having n_conv=3, dropout=0.006038638700523624, hidden_nodes=83\n"
     ]
    },
    {
     "name": "stderr",
     "output_type": "stream",
     "text": [
      "[W 2023-06-26 12:35:33,571] Trial 94 failed with parameters: {'n_conv': 3, 'n_hidden': 3, 'hidden_nodes': 83, 'dropout': 0.006038638700523624, 'filters': 12, 'kernel_size': 15, 'batch_size': 33, 'epochs': 26} because of the following error: ValueError('One of the dimensions in the output is <= 0 due to downsampling in extra_conv_0. Consider increasing the input size. Received input shape [None, 9, 12] which would produce output shape with a zero or negative value in a dimension.').\n",
      "Traceback (most recent call last):\n",
      "  File \"/home/djanloo/.local/share/virtualenvs/DM2-PeqFRmfa/lib/python3.10/site-packages/optuna/study/_optimize.py\", line 200, in _run_trial\n",
      "    value_or_values = func(trial)\n",
      "  File \"/tmp/ipykernel_22119/4273198217.py\", line 15, in objective_fun\n",
      "    cnn = build_and_fit_cnn(X=X_train_v,\n",
      "  File \"/tmp/ipykernel_22119/2256047732.py\", line 28, in build_and_fit_cnn\n",
      "    model.add(Conv1D(filters=filters, kernel_size=kernel_size, activation='relu', name=f\"extra_conv_{i}\"))\n",
      "  File \"/home/djanloo/.local/share/virtualenvs/DM2-PeqFRmfa/lib/python3.10/site-packages/tensorflow/python/trackable/base.py\", line 205, in _method_wrapper\n",
      "    result = method(self, *args, **kwargs)\n",
      "  File \"/home/djanloo/.local/share/virtualenvs/DM2-PeqFRmfa/lib/python3.10/site-packages/keras/utils/traceback_utils.py\", line 70, in error_handler\n",
      "    raise e.with_traceback(filtered_tb) from None\n",
      "  File \"/home/djanloo/.local/share/virtualenvs/DM2-PeqFRmfa/lib/python3.10/site-packages/keras/layers/convolutional/base_conv.py\", line 354, in compute_output_shape\n",
      "    raise ValueError(\n",
      "ValueError: One of the dimensions in the output is <= 0 due to downsampling in extra_conv_0. Consider increasing the input size. Received input shape [None, 9, 12] which would produce output shape with a zero or negative value in a dimension.\n",
      "[W 2023-06-26 12:35:33,584] Trial 94 failed with value None.\n"
     ]
    },
    {
     "name": "stdout",
     "output_type": "stream",
     "text": [
      "Running little bitch having n_conv=3, dropout=0.01718823288536342, hidden_nodes=87\n",
      "Running little bitch having n_conv=3, dropout=0.009687443004830626, hidden_nodes=99\n"
     ]
    },
    {
     "name": "stderr",
     "output_type": "stream",
     "text": [
      "[W 2023-06-26 12:35:33,909] Trial 95 failed with parameters: {'n_conv': 3, 'n_hidden': 3, 'hidden_nodes': 87, 'dropout': 0.01718823288536342, 'filters': 12, 'kernel_size': 15, 'batch_size': 33, 'epochs': 26} because of the following error: ValueError('One of the dimensions in the output is <= 0 due to downsampling in extra_conv_0. Consider increasing the input size. Received input shape [None, 9, 12] which would produce output shape with a zero or negative value in a dimension.').\n",
      "Traceback (most recent call last):\n",
      "  File \"/home/djanloo/.local/share/virtualenvs/DM2-PeqFRmfa/lib/python3.10/site-packages/optuna/study/_optimize.py\", line 200, in _run_trial\n",
      "    value_or_values = func(trial)\n",
      "  File \"/tmp/ipykernel_22119/4273198217.py\", line 15, in objective_fun\n",
      "    cnn = build_and_fit_cnn(X=X_train_v,\n",
      "  File \"/tmp/ipykernel_22119/2256047732.py\", line 28, in build_and_fit_cnn\n",
      "    model.add(Conv1D(filters=filters, kernel_size=kernel_size, activation='relu', name=f\"extra_conv_{i}\"))\n",
      "  File \"/home/djanloo/.local/share/virtualenvs/DM2-PeqFRmfa/lib/python3.10/site-packages/tensorflow/python/trackable/base.py\", line 205, in _method_wrapper\n",
      "    result = method(self, *args, **kwargs)\n",
      "  File \"/home/djanloo/.local/share/virtualenvs/DM2-PeqFRmfa/lib/python3.10/site-packages/keras/utils/traceback_utils.py\", line 70, in error_handler\n",
      "    raise e.with_traceback(filtered_tb) from None\n",
      "  File \"/home/djanloo/.local/share/virtualenvs/DM2-PeqFRmfa/lib/python3.10/site-packages/keras/layers/convolutional/base_conv.py\", line 354, in compute_output_shape\n",
      "    raise ValueError(\n",
      "ValueError: One of the dimensions in the output is <= 0 due to downsampling in extra_conv_0. Consider increasing the input size. Received input shape [None, 9, 12] which would produce output shape with a zero or negative value in a dimension.\n",
      "[W 2023-06-26 12:35:33,933] Trial 95 failed with value None.\n",
      "[W 2023-06-26 12:35:34,070] Trial 96 failed with parameters: {'n_conv': 3, 'n_hidden': 3, 'hidden_nodes': 99, 'dropout': 0.009687443004830626, 'filters': 12, 'kernel_size': 15, 'batch_size': 33, 'epochs': 25} because of the following error: ValueError('One of the dimensions in the output is <= 0 due to downsampling in extra_conv_0. Consider increasing the input size. Received input shape [None, 9, 12] which would produce output shape with a zero or negative value in a dimension.').\n",
      "Traceback (most recent call last):\n",
      "  File \"/home/djanloo/.local/share/virtualenvs/DM2-PeqFRmfa/lib/python3.10/site-packages/optuna/study/_optimize.py\", line 200, in _run_trial\n",
      "    value_or_values = func(trial)\n",
      "  File \"/tmp/ipykernel_22119/4273198217.py\", line 15, in objective_fun\n",
      "    cnn = build_and_fit_cnn(X=X_train_v,\n",
      "  File \"/tmp/ipykernel_22119/2256047732.py\", line 28, in build_and_fit_cnn\n",
      "    model.add(Conv1D(filters=filters, kernel_size=kernel_size, activation='relu', name=f\"extra_conv_{i}\"))\n",
      "  File \"/home/djanloo/.local/share/virtualenvs/DM2-PeqFRmfa/lib/python3.10/site-packages/tensorflow/python/trackable/base.py\", line 205, in _method_wrapper\n",
      "    result = method(self, *args, **kwargs)\n",
      "  File \"/home/djanloo/.local/share/virtualenvs/DM2-PeqFRmfa/lib/python3.10/site-packages/keras/utils/traceback_utils.py\", line 70, in error_handler\n",
      "    raise e.with_traceback(filtered_tb) from None\n",
      "  File \"/home/djanloo/.local/share/virtualenvs/DM2-PeqFRmfa/lib/python3.10/site-packages/keras/layers/convolutional/base_conv.py\", line 354, in compute_output_shape\n",
      "    raise ValueError(\n",
      "ValueError: One of the dimensions in the output is <= 0 due to downsampling in extra_conv_0. Consider increasing the input size. Received input shape [None, 9, 12] which would produce output shape with a zero or negative value in a dimension.\n",
      "[W 2023-06-26 12:35:34,091] Trial 96 failed with value None.\n"
     ]
    },
    {
     "name": "stdout",
     "output_type": "stream",
     "text": [
      "Running little bitch having n_conv=3, dropout=0.004900832466236016, hidden_nodes=82\n",
      "Running little bitch having n_conv=2, dropout=0.016886214018691753, hidden_nodes=87\n"
     ]
    },
    {
     "name": "stderr",
     "output_type": "stream",
     "text": [
      "[W 2023-06-26 12:35:34,461] Trial 97 failed with parameters: {'n_conv': 3, 'n_hidden': 3, 'hidden_nodes': 82, 'dropout': 0.004900832466236016, 'filters': 12, 'kernel_size': 14, 'batch_size': 33, 'epochs': 25} because of the following error: ValueError('One of the dimensions in the output is <= 0 due to downsampling in extra_conv_0. Consider increasing the input size. Received input shape [None, 10, 12] which would produce output shape with a zero or negative value in a dimension.').\n",
      "Traceback (most recent call last):\n",
      "  File \"/home/djanloo/.local/share/virtualenvs/DM2-PeqFRmfa/lib/python3.10/site-packages/optuna/study/_optimize.py\", line 200, in _run_trial\n",
      "    value_or_values = func(trial)\n",
      "  File \"/tmp/ipykernel_22119/4273198217.py\", line 15, in objective_fun\n",
      "    cnn = build_and_fit_cnn(X=X_train_v,\n",
      "  File \"/tmp/ipykernel_22119/2256047732.py\", line 28, in build_and_fit_cnn\n",
      "    model.add(Conv1D(filters=filters, kernel_size=kernel_size, activation='relu', name=f\"extra_conv_{i}\"))\n",
      "  File \"/home/djanloo/.local/share/virtualenvs/DM2-PeqFRmfa/lib/python3.10/site-packages/tensorflow/python/trackable/base.py\", line 205, in _method_wrapper\n",
      "    result = method(self, *args, **kwargs)\n",
      "  File \"/home/djanloo/.local/share/virtualenvs/DM2-PeqFRmfa/lib/python3.10/site-packages/keras/utils/traceback_utils.py\", line 70, in error_handler\n",
      "    raise e.with_traceback(filtered_tb) from None\n",
      "  File \"/home/djanloo/.local/share/virtualenvs/DM2-PeqFRmfa/lib/python3.10/site-packages/keras/layers/convolutional/base_conv.py\", line 354, in compute_output_shape\n",
      "    raise ValueError(\n",
      "ValueError: One of the dimensions in the output is <= 0 due to downsampling in extra_conv_0. Consider increasing the input size. Received input shape [None, 10, 12] which would produce output shape with a zero or negative value in a dimension.\n",
      "[W 2023-06-26 12:35:34,479] Trial 97 failed with value None.\n",
      "[W 2023-06-26 12:35:34,522] Trial 98 failed with parameters: {'n_conv': 2, 'n_hidden': 3, 'hidden_nodes': 87, 'dropout': 0.016886214018691753, 'filters': 12, 'kernel_size': 15, 'batch_size': 34, 'epochs': 23} because of the following error: ValueError('One of the dimensions in the output is <= 0 due to downsampling in extra_conv_0. Consider increasing the input size. Received input shape [None, 9, 12] which would produce output shape with a zero or negative value in a dimension.').\n",
      "Traceback (most recent call last):\n",
      "  File \"/home/djanloo/.local/share/virtualenvs/DM2-PeqFRmfa/lib/python3.10/site-packages/optuna/study/_optimize.py\", line 200, in _run_trial\n",
      "    value_or_values = func(trial)\n",
      "  File \"/tmp/ipykernel_22119/4273198217.py\", line 15, in objective_fun\n",
      "    cnn = build_and_fit_cnn(X=X_train_v,\n",
      "  File \"/tmp/ipykernel_22119/2256047732.py\", line 28, in build_and_fit_cnn\n",
      "    model.add(Conv1D(filters=filters, kernel_size=kernel_size, activation='relu', name=f\"extra_conv_{i}\"))\n",
      "  File \"/home/djanloo/.local/share/virtualenvs/DM2-PeqFRmfa/lib/python3.10/site-packages/tensorflow/python/trackable/base.py\", line 205, in _method_wrapper\n",
      "    result = method(self, *args, **kwargs)\n",
      "  File \"/home/djanloo/.local/share/virtualenvs/DM2-PeqFRmfa/lib/python3.10/site-packages/keras/utils/traceback_utils.py\", line 70, in error_handler\n",
      "    raise e.with_traceback(filtered_tb) from None\n",
      "  File \"/home/djanloo/.local/share/virtualenvs/DM2-PeqFRmfa/lib/python3.10/site-packages/keras/layers/convolutional/base_conv.py\", line 354, in compute_output_shape\n",
      "    raise ValueError(\n",
      "ValueError: One of the dimensions in the output is <= 0 due to downsampling in extra_conv_0. Consider increasing the input size. Received input shape [None, 9, 12] which would produce output shape with a zero or negative value in a dimension.\n",
      "[W 2023-06-26 12:35:34,546] Trial 98 failed with value None.\n"
     ]
    },
    {
     "name": "stdout",
     "output_type": "stream",
     "text": [
      "Running little bitch having n_conv=3, dropout=0.05266679809352917, hidden_nodes=71\n",
      "Running little bitch having n_conv=3, dropout=0.004711050483479695, hidden_nodes=70\n"
     ]
    },
    {
     "name": "stderr",
     "output_type": "stream",
     "text": [
      "[W 2023-06-26 12:35:34,952] Trial 100 failed with parameters: {'n_conv': 3, 'n_hidden': 3, 'hidden_nodes': 71, 'dropout': 0.05266679809352917, 'filters': 12, 'kernel_size': 15, 'batch_size': 32, 'epochs': 26} because of the following error: ValueError('One of the dimensions in the output is <= 0 due to downsampling in extra_conv_0. Consider increasing the input size. Received input shape [None, 9, 12] which would produce output shape with a zero or negative value in a dimension.').\n",
      "Traceback (most recent call last):\n",
      "  File \"/home/djanloo/.local/share/virtualenvs/DM2-PeqFRmfa/lib/python3.10/site-packages/optuna/study/_optimize.py\", line 200, in _run_trial\n",
      "    value_or_values = func(trial)\n",
      "  File \"/tmp/ipykernel_22119/4273198217.py\", line 15, in objective_fun\n",
      "    cnn = build_and_fit_cnn(X=X_train_v,\n",
      "  File \"/tmp/ipykernel_22119/2256047732.py\", line 28, in build_and_fit_cnn\n",
      "    model.add(Conv1D(filters=filters, kernel_size=kernel_size, activation='relu', name=f\"extra_conv_{i}\"))\n",
      "  File \"/home/djanloo/.local/share/virtualenvs/DM2-PeqFRmfa/lib/python3.10/site-packages/tensorflow/python/trackable/base.py\", line 205, in _method_wrapper\n",
      "    result = method(self, *args, **kwargs)\n",
      "  File \"/home/djanloo/.local/share/virtualenvs/DM2-PeqFRmfa/lib/python3.10/site-packages/keras/utils/traceback_utils.py\", line 70, in error_handler\n",
      "    raise e.with_traceback(filtered_tb) from None\n",
      "  File \"/home/djanloo/.local/share/virtualenvs/DM2-PeqFRmfa/lib/python3.10/site-packages/keras/layers/convolutional/base_conv.py\", line 354, in compute_output_shape\n",
      "    raise ValueError(\n",
      "ValueError: One of the dimensions in the output is <= 0 due to downsampling in extra_conv_0. Consider increasing the input size. Received input shape [None, 9, 12] which would produce output shape with a zero or negative value in a dimension.\n",
      "[W 2023-06-26 12:35:34,966] Trial 100 failed with value None.\n",
      "[W 2023-06-26 12:35:35,042] Trial 99 failed with parameters: {'n_conv': 3, 'n_hidden': 3, 'hidden_nodes': 70, 'dropout': 0.004711050483479695, 'filters': 12, 'kernel_size': 15, 'batch_size': 33, 'epochs': 26} because of the following error: ValueError('One of the dimensions in the output is <= 0 due to downsampling in extra_conv_0. Consider increasing the input size. Received input shape [None, 9, 12] which would produce output shape with a zero or negative value in a dimension.').\n",
      "Traceback (most recent call last):\n",
      "  File \"/home/djanloo/.local/share/virtualenvs/DM2-PeqFRmfa/lib/python3.10/site-packages/optuna/study/_optimize.py\", line 200, in _run_trial\n",
      "    value_or_values = func(trial)\n",
      "  File \"/tmp/ipykernel_22119/4273198217.py\", line 15, in objective_fun\n",
      "    cnn = build_and_fit_cnn(X=X_train_v,\n",
      "  File \"/tmp/ipykernel_22119/2256047732.py\", line 28, in build_and_fit_cnn\n",
      "    model.add(Conv1D(filters=filters, kernel_size=kernel_size, activation='relu', name=f\"extra_conv_{i}\"))\n",
      "  File \"/home/djanloo/.local/share/virtualenvs/DM2-PeqFRmfa/lib/python3.10/site-packages/tensorflow/python/trackable/base.py\", line 205, in _method_wrapper\n",
      "    result = method(self, *args, **kwargs)\n",
      "  File \"/home/djanloo/.local/share/virtualenvs/DM2-PeqFRmfa/lib/python3.10/site-packages/keras/utils/traceback_utils.py\", line 70, in error_handler\n",
      "    raise e.with_traceback(filtered_tb) from None\n",
      "  File \"/home/djanloo/.local/share/virtualenvs/DM2-PeqFRmfa/lib/python3.10/site-packages/keras/layers/convolutional/base_conv.py\", line 354, in compute_output_shape\n",
      "    raise ValueError(\n",
      "ValueError: One of the dimensions in the output is <= 0 due to downsampling in extra_conv_0. Consider increasing the input size. Received input shape [None, 9, 12] which would produce output shape with a zero or negative value in a dimension.\n",
      "[W 2023-06-26 12:35:35,101] Trial 99 failed with value None.\n"
     ]
    },
    {
     "name": "stdout",
     "output_type": "stream",
     "text": [
      "Running little bitch having n_conv=3, dropout=0.03532244772095505, hidden_nodes=96\n",
      "Running little bitch having n_conv=3, dropout=0.025712732112179393, hidden_nodes=103\n"
     ]
    },
    {
     "name": "stderr",
     "output_type": "stream",
     "text": [
      "[W 2023-06-26 12:35:35,527] Trial 102 failed with parameters: {'n_conv': 3, 'n_hidden': 3, 'hidden_nodes': 103, 'dropout': 0.025712732112179393, 'filters': 12, 'kernel_size': 16, 'batch_size': 33, 'epochs': 28} because of the following error: ValueError('One of the dimensions in the output is <= 0 due to downsampling in extra_conv_0. Consider increasing the input size. Received input shape [None, 8, 12] which would produce output shape with a zero or negative value in a dimension.').\n",
      "Traceback (most recent call last):\n",
      "  File \"/home/djanloo/.local/share/virtualenvs/DM2-PeqFRmfa/lib/python3.10/site-packages/optuna/study/_optimize.py\", line 200, in _run_trial\n",
      "    value_or_values = func(trial)\n",
      "  File \"/tmp/ipykernel_22119/4273198217.py\", line 15, in objective_fun\n",
      "    cnn = build_and_fit_cnn(X=X_train_v,\n",
      "  File \"/tmp/ipykernel_22119/2256047732.py\", line 28, in build_and_fit_cnn\n",
      "    model.add(Conv1D(filters=filters, kernel_size=kernel_size, activation='relu', name=f\"extra_conv_{i}\"))\n",
      "  File \"/home/djanloo/.local/share/virtualenvs/DM2-PeqFRmfa/lib/python3.10/site-packages/tensorflow/python/trackable/base.py\", line 205, in _method_wrapper\n",
      "    result = method(self, *args, **kwargs)\n",
      "  File \"/home/djanloo/.local/share/virtualenvs/DM2-PeqFRmfa/lib/python3.10/site-packages/keras/utils/traceback_utils.py\", line 70, in error_handler\n",
      "    raise e.with_traceback(filtered_tb) from None\n",
      "  File \"/home/djanloo/.local/share/virtualenvs/DM2-PeqFRmfa/lib/python3.10/site-packages/keras/layers/convolutional/base_conv.py\", line 354, in compute_output_shape\n",
      "    raise ValueError(\n",
      "ValueError: One of the dimensions in the output is <= 0 due to downsampling in extra_conv_0. Consider increasing the input size. Received input shape [None, 8, 12] which would produce output shape with a zero or negative value in a dimension.\n",
      "[W 2023-06-26 12:35:35,542] Trial 101 failed with parameters: {'n_conv': 3, 'n_hidden': 3, 'hidden_nodes': 96, 'dropout': 0.03532244772095505, 'filters': 12, 'kernel_size': 15, 'batch_size': 33, 'epochs': 27} because of the following error: ValueError('One of the dimensions in the output is <= 0 due to downsampling in extra_conv_0. Consider increasing the input size. Received input shape [None, 9, 12] which would produce output shape with a zero or negative value in a dimension.').\n",
      "Traceback (most recent call last):\n",
      "  File \"/home/djanloo/.local/share/virtualenvs/DM2-PeqFRmfa/lib/python3.10/site-packages/optuna/study/_optimize.py\", line 200, in _run_trial\n",
      "    value_or_values = func(trial)\n",
      "  File \"/tmp/ipykernel_22119/4273198217.py\", line 15, in objective_fun\n",
      "    cnn = build_and_fit_cnn(X=X_train_v,\n",
      "  File \"/tmp/ipykernel_22119/2256047732.py\", line 28, in build_and_fit_cnn\n",
      "    model.add(Conv1D(filters=filters, kernel_size=kernel_size, activation='relu', name=f\"extra_conv_{i}\"))\n",
      "  File \"/home/djanloo/.local/share/virtualenvs/DM2-PeqFRmfa/lib/python3.10/site-packages/tensorflow/python/trackable/base.py\", line 205, in _method_wrapper\n",
      "    result = method(self, *args, **kwargs)\n",
      "  File \"/home/djanloo/.local/share/virtualenvs/DM2-PeqFRmfa/lib/python3.10/site-packages/keras/utils/traceback_utils.py\", line 70, in error_handler\n",
      "    raise e.with_traceback(filtered_tb) from None\n",
      "  File \"/home/djanloo/.local/share/virtualenvs/DM2-PeqFRmfa/lib/python3.10/site-packages/keras/layers/convolutional/base_conv.py\", line 354, in compute_output_shape\n",
      "    raise ValueError(\n",
      "ValueError: One of the dimensions in the output is <= 0 due to downsampling in extra_conv_0. Consider increasing the input size. Received input shape [None, 9, 12] which would produce output shape with a zero or negative value in a dimension.\n",
      "[W 2023-06-26 12:35:35,545] Trial 102 failed with value None.\n",
      "[W 2023-06-26 12:35:35,551] Trial 101 failed with value None.\n"
     ]
    },
    {
     "name": "stdout",
     "output_type": "stream",
     "text": [
      "Running little bitch having n_conv=3, dropout=0.029940382257834852, hidden_nodes=90\n",
      "Running little bitch having n_conv=3, dropout=0.10988622400233787, hidden_nodes=85\n"
     ]
    },
    {
     "name": "stderr",
     "output_type": "stream",
     "text": [
      "[W 2023-06-26 12:35:36,068] Trial 103 failed with parameters: {'n_conv': 3, 'n_hidden': 3, 'hidden_nodes': 85, 'dropout': 0.10988622400233787, 'filters': 12, 'kernel_size': 15, 'batch_size': 31, 'epochs': 23} because of the following error: ValueError('One of the dimensions in the output is <= 0 due to downsampling in extra_conv_0. Consider increasing the input size. Received input shape [None, 9, 12] which would produce output shape with a zero or negative value in a dimension.').\n",
      "Traceback (most recent call last):\n",
      "  File \"/home/djanloo/.local/share/virtualenvs/DM2-PeqFRmfa/lib/python3.10/site-packages/optuna/study/_optimize.py\", line 200, in _run_trial\n",
      "    value_or_values = func(trial)\n",
      "  File \"/tmp/ipykernel_22119/4273198217.py\", line 15, in objective_fun\n",
      "    cnn = build_and_fit_cnn(X=X_train_v,\n",
      "  File \"/tmp/ipykernel_22119/2256047732.py\", line 28, in build_and_fit_cnn\n",
      "    model.add(Conv1D(filters=filters, kernel_size=kernel_size, activation='relu', name=f\"extra_conv_{i}\"))\n",
      "  File \"/home/djanloo/.local/share/virtualenvs/DM2-PeqFRmfa/lib/python3.10/site-packages/tensorflow/python/trackable/base.py\", line 205, in _method_wrapper\n",
      "    result = method(self, *args, **kwargs)\n",
      "  File \"/home/djanloo/.local/share/virtualenvs/DM2-PeqFRmfa/lib/python3.10/site-packages/keras/utils/traceback_utils.py\", line 70, in error_handler\n",
      "    raise e.with_traceback(filtered_tb) from None\n",
      "  File \"/home/djanloo/.local/share/virtualenvs/DM2-PeqFRmfa/lib/python3.10/site-packages/keras/layers/convolutional/base_conv.py\", line 354, in compute_output_shape\n",
      "    raise ValueError(\n",
      "ValueError: One of the dimensions in the output is <= 0 due to downsampling in extra_conv_0. Consider increasing the input size. Received input shape [None, 9, 12] which would produce output shape with a zero or negative value in a dimension.\n",
      "[W 2023-06-26 12:35:36,085] Trial 103 failed with value None.\n",
      "[W 2023-06-26 12:35:36,091] Trial 104 failed with parameters: {'n_conv': 3, 'n_hidden': 3, 'hidden_nodes': 90, 'dropout': 0.029940382257834852, 'filters': 12, 'kernel_size': 16, 'batch_size': 34, 'epochs': 19} because of the following error: ValueError('One of the dimensions in the output is <= 0 due to downsampling in extra_conv_0. Consider increasing the input size. Received input shape [None, 8, 12] which would produce output shape with a zero or negative value in a dimension.').\n",
      "Traceback (most recent call last):\n",
      "  File \"/home/djanloo/.local/share/virtualenvs/DM2-PeqFRmfa/lib/python3.10/site-packages/optuna/study/_optimize.py\", line 200, in _run_trial\n",
      "    value_or_values = func(trial)\n",
      "  File \"/tmp/ipykernel_22119/4273198217.py\", line 15, in objective_fun\n",
      "    cnn = build_and_fit_cnn(X=X_train_v,\n",
      "  File \"/tmp/ipykernel_22119/2256047732.py\", line 28, in build_and_fit_cnn\n",
      "    model.add(Conv1D(filters=filters, kernel_size=kernel_size, activation='relu', name=f\"extra_conv_{i}\"))\n",
      "  File \"/home/djanloo/.local/share/virtualenvs/DM2-PeqFRmfa/lib/python3.10/site-packages/tensorflow/python/trackable/base.py\", line 205, in _method_wrapper\n",
      "    result = method(self, *args, **kwargs)\n",
      "  File \"/home/djanloo/.local/share/virtualenvs/DM2-PeqFRmfa/lib/python3.10/site-packages/keras/utils/traceback_utils.py\", line 70, in error_handler\n",
      "    raise e.with_traceback(filtered_tb) from None\n",
      "  File \"/home/djanloo/.local/share/virtualenvs/DM2-PeqFRmfa/lib/python3.10/site-packages/keras/layers/convolutional/base_conv.py\", line 354, in compute_output_shape\n",
      "    raise ValueError(\n",
      "ValueError: One of the dimensions in the output is <= 0 due to downsampling in extra_conv_0. Consider increasing the input size. Received input shape [None, 8, 12] which would produce output shape with a zero or negative value in a dimension.\n",
      "[W 2023-06-26 12:35:36,133] Trial 104 failed with value None.\n"
     ]
    },
    {
     "name": "stdout",
     "output_type": "stream",
     "text": [
      "Running little bitch having n_conv=3, dropout=0.010618329076139466, hidden_nodes=80\n",
      "Running little bitch having n_conv=3, dropout=0.0005112850633155475, hidden_nodes=84\n"
     ]
    },
    {
     "name": "stderr",
     "output_type": "stream",
     "text": [
      "[W 2023-06-26 12:35:36,585] Trial 105 failed with parameters: {'n_conv': 3, 'n_hidden': 3, 'hidden_nodes': 80, 'dropout': 0.010618329076139466, 'filters': 12, 'kernel_size': 16, 'batch_size': 34, 'epochs': 23} because of the following error: ValueError('One of the dimensions in the output is <= 0 due to downsampling in extra_conv_0. Consider increasing the input size. Received input shape [None, 8, 12] which would produce output shape with a zero or negative value in a dimension.').\n",
      "Traceback (most recent call last):\n",
      "  File \"/home/djanloo/.local/share/virtualenvs/DM2-PeqFRmfa/lib/python3.10/site-packages/optuna/study/_optimize.py\", line 200, in _run_trial\n",
      "    value_or_values = func(trial)\n",
      "  File \"/tmp/ipykernel_22119/4273198217.py\", line 15, in objective_fun\n",
      "    cnn = build_and_fit_cnn(X=X_train_v,\n",
      "  File \"/tmp/ipykernel_22119/2256047732.py\", line 28, in build_and_fit_cnn\n",
      "    model.add(Conv1D(filters=filters, kernel_size=kernel_size, activation='relu', name=f\"extra_conv_{i}\"))\n",
      "  File \"/home/djanloo/.local/share/virtualenvs/DM2-PeqFRmfa/lib/python3.10/site-packages/tensorflow/python/trackable/base.py\", line 205, in _method_wrapper\n",
      "    result = method(self, *args, **kwargs)\n",
      "  File \"/home/djanloo/.local/share/virtualenvs/DM2-PeqFRmfa/lib/python3.10/site-packages/keras/utils/traceback_utils.py\", line 70, in error_handler\n",
      "    raise e.with_traceback(filtered_tb) from None\n",
      "  File \"/home/djanloo/.local/share/virtualenvs/DM2-PeqFRmfa/lib/python3.10/site-packages/keras/layers/convolutional/base_conv.py\", line 354, in compute_output_shape\n",
      "    raise ValueError(\n",
      "ValueError: One of the dimensions in the output is <= 0 due to downsampling in extra_conv_0. Consider increasing the input size. Received input shape [None, 8, 12] which would produce output shape with a zero or negative value in a dimension.\n",
      "[W 2023-06-26 12:35:36,605] Trial 105 failed with value None.\n",
      "[W 2023-06-26 12:35:36,620] Trial 106 failed with parameters: {'n_conv': 3, 'n_hidden': 3, 'hidden_nodes': 84, 'dropout': 0.0005112850633155475, 'filters': 12, 'kernel_size': 16, 'batch_size': 36, 'epochs': 25} because of the following error: ValueError('One of the dimensions in the output is <= 0 due to downsampling in extra_conv_0. Consider increasing the input size. Received input shape [None, 8, 12] which would produce output shape with a zero or negative value in a dimension.').\n",
      "Traceback (most recent call last):\n",
      "  File \"/home/djanloo/.local/share/virtualenvs/DM2-PeqFRmfa/lib/python3.10/site-packages/optuna/study/_optimize.py\", line 200, in _run_trial\n",
      "    value_or_values = func(trial)\n",
      "  File \"/tmp/ipykernel_22119/4273198217.py\", line 15, in objective_fun\n",
      "    cnn = build_and_fit_cnn(X=X_train_v,\n",
      "  File \"/tmp/ipykernel_22119/2256047732.py\", line 28, in build_and_fit_cnn\n",
      "    model.add(Conv1D(filters=filters, kernel_size=kernel_size, activation='relu', name=f\"extra_conv_{i}\"))\n",
      "  File \"/home/djanloo/.local/share/virtualenvs/DM2-PeqFRmfa/lib/python3.10/site-packages/tensorflow/python/trackable/base.py\", line 205, in _method_wrapper\n",
      "    result = method(self, *args, **kwargs)\n",
      "  File \"/home/djanloo/.local/share/virtualenvs/DM2-PeqFRmfa/lib/python3.10/site-packages/keras/utils/traceback_utils.py\", line 70, in error_handler\n",
      "    raise e.with_traceback(filtered_tb) from None\n",
      "  File \"/home/djanloo/.local/share/virtualenvs/DM2-PeqFRmfa/lib/python3.10/site-packages/keras/layers/convolutional/base_conv.py\", line 354, in compute_output_shape\n",
      "    raise ValueError(\n",
      "ValueError: One of the dimensions in the output is <= 0 due to downsampling in extra_conv_0. Consider increasing the input size. Received input shape [None, 8, 12] which would produce output shape with a zero or negative value in a dimension.\n",
      "[W 2023-06-26 12:35:36,639] Trial 106 failed with value None.\n"
     ]
    },
    {
     "name": "stdout",
     "output_type": "stream",
     "text": [
      "Running little bitch having n_conv=3, dropout=0.04127111651066129, hidden_nodes=77\n",
      "Running little bitch having n_conv=3, dropout=0.01679754133526995, hidden_nodes=91\n"
     ]
    },
    {
     "name": "stderr",
     "output_type": "stream",
     "text": [
      "[W 2023-06-26 12:35:37,224] Trial 108 failed with parameters: {'n_conv': 3, 'n_hidden': 3, 'hidden_nodes': 91, 'dropout': 0.01679754133526995, 'filters': 12, 'kernel_size': 15, 'batch_size': 34, 'epochs': 26} because of the following error: ValueError('One of the dimensions in the output is <= 0 due to downsampling in extra_conv_0. Consider increasing the input size. Received input shape [None, 9, 12] which would produce output shape with a zero or negative value in a dimension.').\n",
      "Traceback (most recent call last):\n",
      "  File \"/home/djanloo/.local/share/virtualenvs/DM2-PeqFRmfa/lib/python3.10/site-packages/optuna/study/_optimize.py\", line 200, in _run_trial\n",
      "    value_or_values = func(trial)\n",
      "  File \"/tmp/ipykernel_22119/4273198217.py\", line 15, in objective_fun\n",
      "    cnn = build_and_fit_cnn(X=X_train_v,\n",
      "  File \"/tmp/ipykernel_22119/2256047732.py\", line 28, in build_and_fit_cnn\n",
      "    model.add(Conv1D(filters=filters, kernel_size=kernel_size, activation='relu', name=f\"extra_conv_{i}\"))\n",
      "  File \"/home/djanloo/.local/share/virtualenvs/DM2-PeqFRmfa/lib/python3.10/site-packages/tensorflow/python/trackable/base.py\", line 205, in _method_wrapper\n",
      "    result = method(self, *args, **kwargs)\n",
      "  File \"/home/djanloo/.local/share/virtualenvs/DM2-PeqFRmfa/lib/python3.10/site-packages/keras/utils/traceback_utils.py\", line 70, in error_handler\n",
      "    raise e.with_traceback(filtered_tb) from None\n",
      "  File \"/home/djanloo/.local/share/virtualenvs/DM2-PeqFRmfa/lib/python3.10/site-packages/keras/layers/convolutional/base_conv.py\", line 354, in compute_output_shape\n",
      "    raise ValueError(\n",
      "ValueError: One of the dimensions in the output is <= 0 due to downsampling in extra_conv_0. Consider increasing the input size. Received input shape [None, 9, 12] which would produce output shape with a zero or negative value in a dimension.\n",
      "[W 2023-06-26 12:35:37,247] Trial 108 failed with value None.\n",
      "[W 2023-06-26 12:35:37,256] Trial 107 failed with parameters: {'n_conv': 3, 'n_hidden': 3, 'hidden_nodes': 77, 'dropout': 0.04127111651066129, 'filters': 12, 'kernel_size': 15, 'batch_size': 33, 'epochs': 24} because of the following error: ValueError('One of the dimensions in the output is <= 0 due to downsampling in extra_conv_0. Consider increasing the input size. Received input shape [None, 9, 12] which would produce output shape with a zero or negative value in a dimension.').\n",
      "Traceback (most recent call last):\n",
      "  File \"/home/djanloo/.local/share/virtualenvs/DM2-PeqFRmfa/lib/python3.10/site-packages/optuna/study/_optimize.py\", line 200, in _run_trial\n",
      "    value_or_values = func(trial)\n",
      "  File \"/tmp/ipykernel_22119/4273198217.py\", line 15, in objective_fun\n",
      "    cnn = build_and_fit_cnn(X=X_train_v,\n",
      "  File \"/tmp/ipykernel_22119/2256047732.py\", line 28, in build_and_fit_cnn\n",
      "    model.add(Conv1D(filters=filters, kernel_size=kernel_size, activation='relu', name=f\"extra_conv_{i}\"))\n",
      "  File \"/home/djanloo/.local/share/virtualenvs/DM2-PeqFRmfa/lib/python3.10/site-packages/tensorflow/python/trackable/base.py\", line 205, in _method_wrapper\n",
      "    result = method(self, *args, **kwargs)\n",
      "  File \"/home/djanloo/.local/share/virtualenvs/DM2-PeqFRmfa/lib/python3.10/site-packages/keras/utils/traceback_utils.py\", line 70, in error_handler\n",
      "    raise e.with_traceback(filtered_tb) from None\n",
      "  File \"/home/djanloo/.local/share/virtualenvs/DM2-PeqFRmfa/lib/python3.10/site-packages/keras/layers/convolutional/base_conv.py\", line 354, in compute_output_shape\n",
      "    raise ValueError(\n",
      "ValueError: One of the dimensions in the output is <= 0 due to downsampling in extra_conv_0. Consider increasing the input size. Received input shape [None, 9, 12] which would produce output shape with a zero or negative value in a dimension.\n",
      "[W 2023-06-26 12:35:37,294] Trial 107 failed with value None.\n"
     ]
    },
    {
     "name": "stdout",
     "output_type": "stream",
     "text": [
      "Running little bitch having n_conv=3, dropout=0.0013579687237387783, hidden_nodes=81\n",
      "Running little bitch having n_conv=3, dropout=0.00482215242899689, hidden_nodes=93\n"
     ]
    },
    {
     "name": "stderr",
     "output_type": "stream",
     "text": [
      "[W 2023-06-26 12:35:37,778] Trial 109 failed with parameters: {'n_conv': 3, 'n_hidden': 3, 'hidden_nodes': 93, 'dropout': 0.00482215242899689, 'filters': 13, 'kernel_size': 15, 'batch_size': 34, 'epochs': 25} because of the following error: ValueError('One of the dimensions in the output is <= 0 due to downsampling in extra_conv_0. Consider increasing the input size. Received input shape [None, 9, 13] which would produce output shape with a zero or negative value in a dimension.').\n",
      "Traceback (most recent call last):\n",
      "  File \"/home/djanloo/.local/share/virtualenvs/DM2-PeqFRmfa/lib/python3.10/site-packages/optuna/study/_optimize.py\", line 200, in _run_trial\n",
      "    value_or_values = func(trial)\n",
      "  File \"/tmp/ipykernel_22119/4273198217.py\", line 15, in objective_fun\n",
      "    cnn = build_and_fit_cnn(X=X_train_v,\n",
      "  File \"/tmp/ipykernel_22119/2256047732.py\", line 28, in build_and_fit_cnn\n",
      "    model.add(Conv1D(filters=filters, kernel_size=kernel_size, activation='relu', name=f\"extra_conv_{i}\"))\n",
      "  File \"/home/djanloo/.local/share/virtualenvs/DM2-PeqFRmfa/lib/python3.10/site-packages/tensorflow/python/trackable/base.py\", line 205, in _method_wrapper\n",
      "    result = method(self, *args, **kwargs)\n",
      "  File \"/home/djanloo/.local/share/virtualenvs/DM2-PeqFRmfa/lib/python3.10/site-packages/keras/utils/traceback_utils.py\", line 70, in error_handler\n",
      "    raise e.with_traceback(filtered_tb) from None\n",
      "  File \"/home/djanloo/.local/share/virtualenvs/DM2-PeqFRmfa/lib/python3.10/site-packages/keras/layers/convolutional/base_conv.py\", line 354, in compute_output_shape\n",
      "    raise ValueError(\n",
      "ValueError: One of the dimensions in the output is <= 0 due to downsampling in extra_conv_0. Consider increasing the input size. Received input shape [None, 9, 13] which would produce output shape with a zero or negative value in a dimension.\n",
      "[W 2023-06-26 12:35:37,787] Trial 109 failed with value None.\n",
      "[W 2023-06-26 12:35:37,796] Trial 110 failed with parameters: {'n_conv': 3, 'n_hidden': 3, 'hidden_nodes': 81, 'dropout': 0.0013579687237387783, 'filters': 12, 'kernel_size': 15, 'batch_size': 33, 'epochs': 27} because of the following error: ValueError('One of the dimensions in the output is <= 0 due to downsampling in extra_conv_0. Consider increasing the input size. Received input shape [None, 9, 12] which would produce output shape with a zero or negative value in a dimension.').\n",
      "Traceback (most recent call last):\n",
      "  File \"/home/djanloo/.local/share/virtualenvs/DM2-PeqFRmfa/lib/python3.10/site-packages/optuna/study/_optimize.py\", line 200, in _run_trial\n",
      "    value_or_values = func(trial)\n",
      "  File \"/tmp/ipykernel_22119/4273198217.py\", line 15, in objective_fun\n",
      "    cnn = build_and_fit_cnn(X=X_train_v,\n",
      "  File \"/tmp/ipykernel_22119/2256047732.py\", line 28, in build_and_fit_cnn\n",
      "    model.add(Conv1D(filters=filters, kernel_size=kernel_size, activation='relu', name=f\"extra_conv_{i}\"))\n",
      "  File \"/home/djanloo/.local/share/virtualenvs/DM2-PeqFRmfa/lib/python3.10/site-packages/tensorflow/python/trackable/base.py\", line 205, in _method_wrapper\n",
      "    result = method(self, *args, **kwargs)\n",
      "  File \"/home/djanloo/.local/share/virtualenvs/DM2-PeqFRmfa/lib/python3.10/site-packages/keras/utils/traceback_utils.py\", line 70, in error_handler\n",
      "    raise e.with_traceback(filtered_tb) from None\n",
      "  File \"/home/djanloo/.local/share/virtualenvs/DM2-PeqFRmfa/lib/python3.10/site-packages/keras/layers/convolutional/base_conv.py\", line 354, in compute_output_shape\n",
      "    raise ValueError(\n",
      "ValueError: One of the dimensions in the output is <= 0 due to downsampling in extra_conv_0. Consider increasing the input size. Received input shape [None, 9, 12] which would produce output shape with a zero or negative value in a dimension.\n",
      "[W 2023-06-26 12:35:37,829] Trial 110 failed with value None.\n"
     ]
    },
    {
     "name": "stdout",
     "output_type": "stream",
     "text": [
      "Running little bitch having n_conv=3, dropout=0.9669444935466666, hidden_nodes=87\n",
      "Running little bitch having n_conv=3, dropout=0.07316067918440974, hidden_nodes=81\n"
     ]
    },
    {
     "name": "stderr",
     "output_type": "stream",
     "text": [
      "[W 2023-06-26 12:35:38,405] Trial 111 failed with parameters: {'n_conv': 3, 'n_hidden': 3, 'hidden_nodes': 87, 'dropout': 0.9669444935466666, 'filters': 12, 'kernel_size': 14, 'batch_size': 33, 'epochs': 27} because of the following error: ValueError('One of the dimensions in the output is <= 0 due to downsampling in extra_conv_0. Consider increasing the input size. Received input shape [None, 10, 12] which would produce output shape with a zero or negative value in a dimension.').\n",
      "Traceback (most recent call last):\n",
      "  File \"/home/djanloo/.local/share/virtualenvs/DM2-PeqFRmfa/lib/python3.10/site-packages/optuna/study/_optimize.py\", line 200, in _run_trial\n",
      "    value_or_values = func(trial)\n",
      "  File \"/tmp/ipykernel_22119/4273198217.py\", line 15, in objective_fun\n",
      "    cnn = build_and_fit_cnn(X=X_train_v,\n",
      "  File \"/tmp/ipykernel_22119/2256047732.py\", line 28, in build_and_fit_cnn\n",
      "    model.add(Conv1D(filters=filters, kernel_size=kernel_size, activation='relu', name=f\"extra_conv_{i}\"))\n",
      "  File \"/home/djanloo/.local/share/virtualenvs/DM2-PeqFRmfa/lib/python3.10/site-packages/tensorflow/python/trackable/base.py\", line 205, in _method_wrapper\n",
      "    result = method(self, *args, **kwargs)\n",
      "  File \"/home/djanloo/.local/share/virtualenvs/DM2-PeqFRmfa/lib/python3.10/site-packages/keras/utils/traceback_utils.py\", line 70, in error_handler\n",
      "    raise e.with_traceback(filtered_tb) from None\n",
      "  File \"/home/djanloo/.local/share/virtualenvs/DM2-PeqFRmfa/lib/python3.10/site-packages/keras/layers/convolutional/base_conv.py\", line 354, in compute_output_shape\n",
      "    raise ValueError(\n",
      "ValueError: One of the dimensions in the output is <= 0 due to downsampling in extra_conv_0. Consider increasing the input size. Received input shape [None, 10, 12] which would produce output shape with a zero or negative value in a dimension.\n",
      "[W 2023-06-26 12:35:38,417] Trial 111 failed with value None.\n",
      "[W 2023-06-26 12:35:38,408] Trial 112 failed with parameters: {'n_conv': 3, 'n_hidden': 3, 'hidden_nodes': 81, 'dropout': 0.07316067918440974, 'filters': 12, 'kernel_size': 16, 'batch_size': 32, 'epochs': 25} because of the following error: ValueError('One of the dimensions in the output is <= 0 due to downsampling in extra_conv_0. Consider increasing the input size. Received input shape [None, 8, 12] which would produce output shape with a zero or negative value in a dimension.').\n",
      "Traceback (most recent call last):\n",
      "  File \"/home/djanloo/.local/share/virtualenvs/DM2-PeqFRmfa/lib/python3.10/site-packages/optuna/study/_optimize.py\", line 200, in _run_trial\n",
      "    value_or_values = func(trial)\n",
      "  File \"/tmp/ipykernel_22119/4273198217.py\", line 15, in objective_fun\n",
      "    cnn = build_and_fit_cnn(X=X_train_v,\n",
      "  File \"/tmp/ipykernel_22119/2256047732.py\", line 28, in build_and_fit_cnn\n",
      "    model.add(Conv1D(filters=filters, kernel_size=kernel_size, activation='relu', name=f\"extra_conv_{i}\"))\n",
      "  File \"/home/djanloo/.local/share/virtualenvs/DM2-PeqFRmfa/lib/python3.10/site-packages/tensorflow/python/trackable/base.py\", line 205, in _method_wrapper\n",
      "    result = method(self, *args, **kwargs)\n",
      "  File \"/home/djanloo/.local/share/virtualenvs/DM2-PeqFRmfa/lib/python3.10/site-packages/keras/utils/traceback_utils.py\", line 70, in error_handler\n",
      "    raise e.with_traceback(filtered_tb) from None\n",
      "  File \"/home/djanloo/.local/share/virtualenvs/DM2-PeqFRmfa/lib/python3.10/site-packages/keras/layers/convolutional/base_conv.py\", line 354, in compute_output_shape\n",
      "    raise ValueError(\n",
      "ValueError: One of the dimensions in the output is <= 0 due to downsampling in extra_conv_0. Consider increasing the input size. Received input shape [None, 8, 12] which would produce output shape with a zero or negative value in a dimension.\n",
      "[W 2023-06-26 12:35:38,488] Trial 112 failed with value None.\n"
     ]
    },
    {
     "name": "stdout",
     "output_type": "stream",
     "text": [
      "Running little bitch having n_conv=3, dropout=0.03240981286542477, hidden_nodes=82\n",
      "Running little bitch having n_conv=3, dropout=0.014834602040262601, hidden_nodes=88\n"
     ]
    },
    {
     "name": "stderr",
     "output_type": "stream",
     "text": [
      "[W 2023-06-26 12:35:38,924] Trial 114 failed with parameters: {'n_conv': 3, 'n_hidden': 3, 'hidden_nodes': 82, 'dropout': 0.03240981286542477, 'filters': 12, 'kernel_size': 15, 'batch_size': 36, 'epochs': 23} because of the following error: ValueError('One of the dimensions in the output is <= 0 due to downsampling in extra_conv_0. Consider increasing the input size. Received input shape [None, 9, 12] which would produce output shape with a zero or negative value in a dimension.').\n",
      "Traceback (most recent call last):\n",
      "  File \"/home/djanloo/.local/share/virtualenvs/DM2-PeqFRmfa/lib/python3.10/site-packages/optuna/study/_optimize.py\", line 200, in _run_trial\n",
      "    value_or_values = func(trial)\n",
      "  File \"/tmp/ipykernel_22119/4273198217.py\", line 15, in objective_fun\n",
      "    cnn = build_and_fit_cnn(X=X_train_v,\n",
      "  File \"/tmp/ipykernel_22119/2256047732.py\", line 28, in build_and_fit_cnn\n",
      "    model.add(Conv1D(filters=filters, kernel_size=kernel_size, activation='relu', name=f\"extra_conv_{i}\"))\n",
      "  File \"/home/djanloo/.local/share/virtualenvs/DM2-PeqFRmfa/lib/python3.10/site-packages/tensorflow/python/trackable/base.py\", line 205, in _method_wrapper\n",
      "    result = method(self, *args, **kwargs)\n",
      "  File \"/home/djanloo/.local/share/virtualenvs/DM2-PeqFRmfa/lib/python3.10/site-packages/keras/utils/traceback_utils.py\", line 70, in error_handler\n",
      "    raise e.with_traceback(filtered_tb) from None\n",
      "  File \"/home/djanloo/.local/share/virtualenvs/DM2-PeqFRmfa/lib/python3.10/site-packages/keras/layers/convolutional/base_conv.py\", line 354, in compute_output_shape\n",
      "    raise ValueError(\n",
      "ValueError: One of the dimensions in the output is <= 0 due to downsampling in extra_conv_0. Consider increasing the input size. Received input shape [None, 9, 12] which would produce output shape with a zero or negative value in a dimension.\n",
      "[W 2023-06-26 12:35:38,934] Trial 114 failed with value None.\n",
      "[W 2023-06-26 12:35:38,940] Trial 113 failed with parameters: {'n_conv': 3, 'n_hidden': 3, 'hidden_nodes': 88, 'dropout': 0.014834602040262601, 'filters': 12, 'kernel_size': 15, 'batch_size': 33, 'epochs': 25} because of the following error: ValueError('One of the dimensions in the output is <= 0 due to downsampling in extra_conv_0. Consider increasing the input size. Received input shape [None, 9, 12] which would produce output shape with a zero or negative value in a dimension.').\n",
      "Traceback (most recent call last):\n",
      "  File \"/home/djanloo/.local/share/virtualenvs/DM2-PeqFRmfa/lib/python3.10/site-packages/optuna/study/_optimize.py\", line 200, in _run_trial\n",
      "    value_or_values = func(trial)\n",
      "  File \"/tmp/ipykernel_22119/4273198217.py\", line 15, in objective_fun\n",
      "    cnn = build_and_fit_cnn(X=X_train_v,\n",
      "  File \"/tmp/ipykernel_22119/2256047732.py\", line 28, in build_and_fit_cnn\n",
      "    model.add(Conv1D(filters=filters, kernel_size=kernel_size, activation='relu', name=f\"extra_conv_{i}\"))\n",
      "  File \"/home/djanloo/.local/share/virtualenvs/DM2-PeqFRmfa/lib/python3.10/site-packages/tensorflow/python/trackable/base.py\", line 205, in _method_wrapper\n",
      "    result = method(self, *args, **kwargs)\n",
      "  File \"/home/djanloo/.local/share/virtualenvs/DM2-PeqFRmfa/lib/python3.10/site-packages/keras/utils/traceback_utils.py\", line 70, in error_handler\n",
      "    raise e.with_traceback(filtered_tb) from None\n",
      "  File \"/home/djanloo/.local/share/virtualenvs/DM2-PeqFRmfa/lib/python3.10/site-packages/keras/layers/convolutional/base_conv.py\", line 354, in compute_output_shape\n",
      "    raise ValueError(\n",
      "ValueError: One of the dimensions in the output is <= 0 due to downsampling in extra_conv_0. Consider increasing the input size. Received input shape [None, 9, 12] which would produce output shape with a zero or negative value in a dimension.\n",
      "[W 2023-06-26 12:35:38,982] Trial 113 failed with value None.\n"
     ]
    },
    {
     "name": "stdout",
     "output_type": "stream",
     "text": [
      "Running little bitch having n_conv=3, dropout=0.014650577733291259, hidden_nodes=80\n",
      "Running little bitch having n_conv=3, dropout=0.00388247170497108, hidden_nodes=76\n"
     ]
    },
    {
     "name": "stderr",
     "output_type": "stream",
     "text": [
      "[W 2023-06-26 12:35:39,453] Trial 115 failed with parameters: {'n_conv': 3, 'n_hidden': 3, 'hidden_nodes': 80, 'dropout': 0.014650577733291259, 'filters': 12, 'kernel_size': 15, 'batch_size': 33, 'epochs': 25} because of the following error: ValueError('One of the dimensions in the output is <= 0 due to downsampling in extra_conv_0. Consider increasing the input size. Received input shape [None, 9, 12] which would produce output shape with a zero or negative value in a dimension.').\n",
      "Traceback (most recent call last):\n",
      "  File \"/home/djanloo/.local/share/virtualenvs/DM2-PeqFRmfa/lib/python3.10/site-packages/optuna/study/_optimize.py\", line 200, in _run_trial\n",
      "    value_or_values = func(trial)\n",
      "  File \"/tmp/ipykernel_22119/4273198217.py\", line 15, in objective_fun\n",
      "    cnn = build_and_fit_cnn(X=X_train_v,\n",
      "  File \"/tmp/ipykernel_22119/2256047732.py\", line 28, in build_and_fit_cnn\n",
      "    model.add(Conv1D(filters=filters, kernel_size=kernel_size, activation='relu', name=f\"extra_conv_{i}\"))\n",
      "  File \"/home/djanloo/.local/share/virtualenvs/DM2-PeqFRmfa/lib/python3.10/site-packages/tensorflow/python/trackable/base.py\", line 205, in _method_wrapper\n",
      "    result = method(self, *args, **kwargs)\n",
      "  File \"/home/djanloo/.local/share/virtualenvs/DM2-PeqFRmfa/lib/python3.10/site-packages/keras/utils/traceback_utils.py\", line 70, in error_handler\n",
      "    raise e.with_traceback(filtered_tb) from None\n",
      "  File \"/home/djanloo/.local/share/virtualenvs/DM2-PeqFRmfa/lib/python3.10/site-packages/keras/layers/convolutional/base_conv.py\", line 354, in compute_output_shape\n",
      "    raise ValueError(\n",
      "ValueError: One of the dimensions in the output is <= 0 due to downsampling in extra_conv_0. Consider increasing the input size. Received input shape [None, 9, 12] which would produce output shape with a zero or negative value in a dimension.\n",
      "[W 2023-06-26 12:35:39,462] Trial 115 failed with value None.\n",
      "[W 2023-06-26 12:35:39,563] Trial 116 failed with parameters: {'n_conv': 3, 'n_hidden': 3, 'hidden_nodes': 76, 'dropout': 0.00388247170497108, 'filters': 12, 'kernel_size': 15, 'batch_size': 33, 'epochs': 22} because of the following error: ValueError('One of the dimensions in the output is <= 0 due to downsampling in extra_conv_0. Consider increasing the input size. Received input shape [None, 9, 12] which would produce output shape with a zero or negative value in a dimension.').\n",
      "Traceback (most recent call last):\n",
      "  File \"/home/djanloo/.local/share/virtualenvs/DM2-PeqFRmfa/lib/python3.10/site-packages/optuna/study/_optimize.py\", line 200, in _run_trial\n",
      "    value_or_values = func(trial)\n",
      "  File \"/tmp/ipykernel_22119/4273198217.py\", line 15, in objective_fun\n",
      "    cnn = build_and_fit_cnn(X=X_train_v,\n",
      "  File \"/tmp/ipykernel_22119/2256047732.py\", line 28, in build_and_fit_cnn\n",
      "    model.add(Conv1D(filters=filters, kernel_size=kernel_size, activation='relu', name=f\"extra_conv_{i}\"))\n",
      "  File \"/home/djanloo/.local/share/virtualenvs/DM2-PeqFRmfa/lib/python3.10/site-packages/tensorflow/python/trackable/base.py\", line 205, in _method_wrapper\n",
      "    result = method(self, *args, **kwargs)\n",
      "  File \"/home/djanloo/.local/share/virtualenvs/DM2-PeqFRmfa/lib/python3.10/site-packages/keras/utils/traceback_utils.py\", line 70, in error_handler\n",
      "    raise e.with_traceback(filtered_tb) from None\n",
      "  File \"/home/djanloo/.local/share/virtualenvs/DM2-PeqFRmfa/lib/python3.10/site-packages/keras/layers/convolutional/base_conv.py\", line 354, in compute_output_shape\n",
      "    raise ValueError(\n",
      "ValueError: One of the dimensions in the output is <= 0 due to downsampling in extra_conv_0. Consider increasing the input size. Received input shape [None, 9, 12] which would produce output shape with a zero or negative value in a dimension.\n",
      "[W 2023-06-26 12:35:39,587] Trial 116 failed with value None.\n"
     ]
    },
    {
     "name": "stdout",
     "output_type": "stream",
     "text": [
      "Running little bitch having n_conv=3, dropout=0.019303630417767503, hidden_nodes=83\n",
      "Running little bitch having n_conv=3, dropout=0.022023715985553638, hidden_nodes=86\n"
     ]
    },
    {
     "name": "stderr",
     "output_type": "stream",
     "text": [
      "[W 2023-06-26 12:35:39,984] Trial 118 failed with parameters: {'n_conv': 3, 'n_hidden': 3, 'hidden_nodes': 86, 'dropout': 0.022023715985553638, 'filters': 12, 'kernel_size': 15, 'batch_size': 33, 'epochs': 24} because of the following error: ValueError('One of the dimensions in the output is <= 0 due to downsampling in extra_conv_0. Consider increasing the input size. Received input shape [None, 9, 12] which would produce output shape with a zero or negative value in a dimension.').\n",
      "Traceback (most recent call last):\n",
      "  File \"/home/djanloo/.local/share/virtualenvs/DM2-PeqFRmfa/lib/python3.10/site-packages/optuna/study/_optimize.py\", line 200, in _run_trial\n",
      "    value_or_values = func(trial)\n",
      "  File \"/tmp/ipykernel_22119/4273198217.py\", line 15, in objective_fun\n",
      "    cnn = build_and_fit_cnn(X=X_train_v,\n",
      "  File \"/tmp/ipykernel_22119/2256047732.py\", line 28, in build_and_fit_cnn\n",
      "    model.add(Conv1D(filters=filters, kernel_size=kernel_size, activation='relu', name=f\"extra_conv_{i}\"))\n",
      "  File \"/home/djanloo/.local/share/virtualenvs/DM2-PeqFRmfa/lib/python3.10/site-packages/tensorflow/python/trackable/base.py\", line 205, in _method_wrapper\n",
      "    result = method(self, *args, **kwargs)\n",
      "  File \"/home/djanloo/.local/share/virtualenvs/DM2-PeqFRmfa/lib/python3.10/site-packages/keras/utils/traceback_utils.py\", line 70, in error_handler\n",
      "    raise e.with_traceback(filtered_tb) from None\n",
      "  File \"/home/djanloo/.local/share/virtualenvs/DM2-PeqFRmfa/lib/python3.10/site-packages/keras/layers/convolutional/base_conv.py\", line 354, in compute_output_shape\n",
      "    raise ValueError(\n",
      "ValueError: One of the dimensions in the output is <= 0 due to downsampling in extra_conv_0. Consider increasing the input size. Received input shape [None, 9, 12] which would produce output shape with a zero or negative value in a dimension.\n",
      "[W 2023-06-26 12:35:40,005] Trial 118 failed with value None.\n",
      "[W 2023-06-26 12:35:40,027] Trial 117 failed with parameters: {'n_conv': 3, 'n_hidden': 3, 'hidden_nodes': 83, 'dropout': 0.019303630417767503, 'filters': 12, 'kernel_size': 15, 'batch_size': 33, 'epochs': 26} because of the following error: ValueError('One of the dimensions in the output is <= 0 due to downsampling in extra_conv_0. Consider increasing the input size. Received input shape [None, 9, 12] which would produce output shape with a zero or negative value in a dimension.').\n",
      "Traceback (most recent call last):\n",
      "  File \"/home/djanloo/.local/share/virtualenvs/DM2-PeqFRmfa/lib/python3.10/site-packages/optuna/study/_optimize.py\", line 200, in _run_trial\n",
      "    value_or_values = func(trial)\n",
      "  File \"/tmp/ipykernel_22119/4273198217.py\", line 15, in objective_fun\n",
      "    cnn = build_and_fit_cnn(X=X_train_v,\n",
      "  File \"/tmp/ipykernel_22119/2256047732.py\", line 28, in build_and_fit_cnn\n",
      "    model.add(Conv1D(filters=filters, kernel_size=kernel_size, activation='relu', name=f\"extra_conv_{i}\"))\n",
      "  File \"/home/djanloo/.local/share/virtualenvs/DM2-PeqFRmfa/lib/python3.10/site-packages/tensorflow/python/trackable/base.py\", line 205, in _method_wrapper\n",
      "    result = method(self, *args, **kwargs)\n",
      "  File \"/home/djanloo/.local/share/virtualenvs/DM2-PeqFRmfa/lib/python3.10/site-packages/keras/utils/traceback_utils.py\", line 70, in error_handler\n",
      "    raise e.with_traceback(filtered_tb) from None\n",
      "  File \"/home/djanloo/.local/share/virtualenvs/DM2-PeqFRmfa/lib/python3.10/site-packages/keras/layers/convolutional/base_conv.py\", line 354, in compute_output_shape\n",
      "    raise ValueError(\n",
      "ValueError: One of the dimensions in the output is <= 0 due to downsampling in extra_conv_0. Consider increasing the input size. Received input shape [None, 9, 12] which would produce output shape with a zero or negative value in a dimension.\n",
      "[W 2023-06-26 12:35:40,034] Trial 117 failed with value None.\n"
     ]
    },
    {
     "name": "stdout",
     "output_type": "stream",
     "text": [
      "Running little bitch having n_conv=3, dropout=0.04057200396354249, hidden_nodes=86Running little bitch having n_conv=3, dropout=0.00959830403903239, hidden_nodes=77\n",
      "\n"
     ]
    },
    {
     "name": "stderr",
     "output_type": "stream",
     "text": [
      "[W 2023-06-26 12:35:40,634] Trial 120 failed with parameters: {'n_conv': 3, 'n_hidden': 3, 'hidden_nodes': 77, 'dropout': 0.00959830403903239, 'filters': 12, 'kernel_size': 15, 'batch_size': 33, 'epochs': 23} because of the following error: ValueError('One of the dimensions in the output is <= 0 due to downsampling in extra_conv_0. Consider increasing the input size. Received input shape [None, 9, 12] which would produce output shape with a zero or negative value in a dimension.').\n",
      "Traceback (most recent call last):\n",
      "  File \"/home/djanloo/.local/share/virtualenvs/DM2-PeqFRmfa/lib/python3.10/site-packages/optuna/study/_optimize.py\", line 200, in _run_trial\n",
      "    value_or_values = func(trial)\n",
      "  File \"/tmp/ipykernel_22119/4273198217.py\", line 15, in objective_fun\n",
      "    cnn = build_and_fit_cnn(X=X_train_v,\n",
      "  File \"/tmp/ipykernel_22119/2256047732.py\", line 28, in build_and_fit_cnn\n",
      "    model.add(Conv1D(filters=filters, kernel_size=kernel_size, activation='relu', name=f\"extra_conv_{i}\"))\n",
      "  File \"/home/djanloo/.local/share/virtualenvs/DM2-PeqFRmfa/lib/python3.10/site-packages/tensorflow/python/trackable/base.py\", line 205, in _method_wrapper\n",
      "    result = method(self, *args, **kwargs)\n",
      "  File \"/home/djanloo/.local/share/virtualenvs/DM2-PeqFRmfa/lib/python3.10/site-packages/keras/utils/traceback_utils.py\", line 70, in error_handler\n",
      "    raise e.with_traceback(filtered_tb) from None\n",
      "  File \"/home/djanloo/.local/share/virtualenvs/DM2-PeqFRmfa/lib/python3.10/site-packages/keras/layers/convolutional/base_conv.py\", line 354, in compute_output_shape\n",
      "    raise ValueError(\n",
      "ValueError: One of the dimensions in the output is <= 0 due to downsampling in extra_conv_0. Consider increasing the input size. Received input shape [None, 9, 12] which would produce output shape with a zero or negative value in a dimension.\n",
      "[W 2023-06-26 12:35:40,709] Trial 120 failed with value None.\n",
      "[W 2023-06-26 12:35:40,724] Trial 119 failed with parameters: {'n_conv': 3, 'n_hidden': 3, 'hidden_nodes': 86, 'dropout': 0.04057200396354249, 'filters': 12, 'kernel_size': 16, 'batch_size': 32, 'epochs': 25} because of the following error: ValueError('One of the dimensions in the output is <= 0 due to downsampling in extra_conv_0. Consider increasing the input size. Received input shape [None, 8, 12] which would produce output shape with a zero or negative value in a dimension.').\n",
      "Traceback (most recent call last):\n",
      "  File \"/home/djanloo/.local/share/virtualenvs/DM2-PeqFRmfa/lib/python3.10/site-packages/optuna/study/_optimize.py\", line 200, in _run_trial\n",
      "    value_or_values = func(trial)\n",
      "  File \"/tmp/ipykernel_22119/4273198217.py\", line 15, in objective_fun\n",
      "    cnn = build_and_fit_cnn(X=X_train_v,\n",
      "  File \"/tmp/ipykernel_22119/2256047732.py\", line 28, in build_and_fit_cnn\n",
      "    model.add(Conv1D(filters=filters, kernel_size=kernel_size, activation='relu', name=f\"extra_conv_{i}\"))\n",
      "  File \"/home/djanloo/.local/share/virtualenvs/DM2-PeqFRmfa/lib/python3.10/site-packages/tensorflow/python/trackable/base.py\", line 205, in _method_wrapper\n",
      "    result = method(self, *args, **kwargs)\n",
      "  File \"/home/djanloo/.local/share/virtualenvs/DM2-PeqFRmfa/lib/python3.10/site-packages/keras/utils/traceback_utils.py\", line 70, in error_handler\n",
      "    raise e.with_traceback(filtered_tb) from None\n",
      "  File \"/home/djanloo/.local/share/virtualenvs/DM2-PeqFRmfa/lib/python3.10/site-packages/keras/layers/convolutional/base_conv.py\", line 354, in compute_output_shape\n",
      "    raise ValueError(\n",
      "ValueError: One of the dimensions in the output is <= 0 due to downsampling in extra_conv_0. Consider increasing the input size. Received input shape [None, 8, 12] which would produce output shape with a zero or negative value in a dimension.\n",
      "[W 2023-06-26 12:35:40,761] Trial 119 failed with value None.\n"
     ]
    },
    {
     "name": "stdout",
     "output_type": "stream",
     "text": [
      "Running little bitch having n_conv=3, dropout=0.000838380018971685, hidden_nodes=79\n",
      "Running little bitch having n_conv=3, dropout=0.00239815806923227, hidden_nodes=87\n"
     ]
    },
    {
     "name": "stderr",
     "output_type": "stream",
     "text": [
      "[W 2023-06-26 12:35:41,408] Trial 121 failed with parameters: {'n_conv': 3, 'n_hidden': 3, 'hidden_nodes': 79, 'dropout': 0.000838380018971685, 'filters': 12, 'kernel_size': 15, 'batch_size': 35, 'epochs': 24} because of the following error: ValueError('One of the dimensions in the output is <= 0 due to downsampling in extra_conv_0. Consider increasing the input size. Received input shape [None, 9, 12] which would produce output shape with a zero or negative value in a dimension.').\n",
      "Traceback (most recent call last):\n",
      "  File \"/home/djanloo/.local/share/virtualenvs/DM2-PeqFRmfa/lib/python3.10/site-packages/optuna/study/_optimize.py\", line 200, in _run_trial\n",
      "    value_or_values = func(trial)\n",
      "  File \"/tmp/ipykernel_22119/4273198217.py\", line 15, in objective_fun\n",
      "    cnn = build_and_fit_cnn(X=X_train_v,\n",
      "  File \"/tmp/ipykernel_22119/2256047732.py\", line 28, in build_and_fit_cnn\n",
      "    model.add(Conv1D(filters=filters, kernel_size=kernel_size, activation='relu', name=f\"extra_conv_{i}\"))\n",
      "  File \"/home/djanloo/.local/share/virtualenvs/DM2-PeqFRmfa/lib/python3.10/site-packages/tensorflow/python/trackable/base.py\", line 205, in _method_wrapper\n",
      "    result = method(self, *args, **kwargs)\n",
      "  File \"/home/djanloo/.local/share/virtualenvs/DM2-PeqFRmfa/lib/python3.10/site-packages/keras/utils/traceback_utils.py\", line 70, in error_handler\n",
      "    raise e.with_traceback(filtered_tb) from None\n",
      "  File \"/home/djanloo/.local/share/virtualenvs/DM2-PeqFRmfa/lib/python3.10/site-packages/keras/layers/convolutional/base_conv.py\", line 354, in compute_output_shape\n",
      "    raise ValueError(\n",
      "ValueError: One of the dimensions in the output is <= 0 due to downsampling in extra_conv_0. Consider increasing the input size. Received input shape [None, 9, 12] which would produce output shape with a zero or negative value in a dimension.\n",
      "[W 2023-06-26 12:35:41,421] Trial 121 failed with value None.\n",
      "[W 2023-06-26 12:35:41,516] Trial 122 failed with parameters: {'n_conv': 3, 'n_hidden': 3, 'hidden_nodes': 87, 'dropout': 0.00239815806923227, 'filters': 12, 'kernel_size': 15, 'batch_size': 31, 'epochs': 25} because of the following error: ValueError('One of the dimensions in the output is <= 0 due to downsampling in extra_conv_0. Consider increasing the input size. Received input shape [None, 9, 12] which would produce output shape with a zero or negative value in a dimension.').\n",
      "Traceback (most recent call last):\n",
      "  File \"/home/djanloo/.local/share/virtualenvs/DM2-PeqFRmfa/lib/python3.10/site-packages/optuna/study/_optimize.py\", line 200, in _run_trial\n",
      "    value_or_values = func(trial)\n",
      "  File \"/tmp/ipykernel_22119/4273198217.py\", line 15, in objective_fun\n",
      "    cnn = build_and_fit_cnn(X=X_train_v,\n",
      "  File \"/tmp/ipykernel_22119/2256047732.py\", line 28, in build_and_fit_cnn\n",
      "    model.add(Conv1D(filters=filters, kernel_size=kernel_size, activation='relu', name=f\"extra_conv_{i}\"))\n",
      "  File \"/home/djanloo/.local/share/virtualenvs/DM2-PeqFRmfa/lib/python3.10/site-packages/tensorflow/python/trackable/base.py\", line 205, in _method_wrapper\n",
      "    result = method(self, *args, **kwargs)\n",
      "  File \"/home/djanloo/.local/share/virtualenvs/DM2-PeqFRmfa/lib/python3.10/site-packages/keras/utils/traceback_utils.py\", line 70, in error_handler\n",
      "    raise e.with_traceback(filtered_tb) from None\n",
      "  File \"/home/djanloo/.local/share/virtualenvs/DM2-PeqFRmfa/lib/python3.10/site-packages/keras/layers/convolutional/base_conv.py\", line 354, in compute_output_shape\n",
      "    raise ValueError(\n",
      "ValueError: One of the dimensions in the output is <= 0 due to downsampling in extra_conv_0. Consider increasing the input size. Received input shape [None, 9, 12] which would produce output shape with a zero or negative value in a dimension.\n",
      "[W 2023-06-26 12:35:41,597] Trial 122 failed with value None.\n"
     ]
    },
    {
     "name": "stdout",
     "output_type": "stream",
     "text": [
      "Running little bitch having n_conv=3, dropout=0.010542453179268718, hidden_nodes=88\n",
      "Running little bitch having n_conv=3, dropout=0.06386082303001059, hidden_nodes=82\n"
     ]
    },
    {
     "name": "stderr",
     "output_type": "stream",
     "text": [
      "[W 2023-06-26 12:35:41,956] Trial 124 failed with parameters: {'n_conv': 3, 'n_hidden': 3, 'hidden_nodes': 82, 'dropout': 0.06386082303001059, 'filters': 12, 'kernel_size': 15, 'batch_size': 33, 'epochs': 26} because of the following error: ValueError('One of the dimensions in the output is <= 0 due to downsampling in extra_conv_0. Consider increasing the input size. Received input shape [None, 9, 12] which would produce output shape with a zero or negative value in a dimension.').\n",
      "Traceback (most recent call last):\n",
      "  File \"/home/djanloo/.local/share/virtualenvs/DM2-PeqFRmfa/lib/python3.10/site-packages/optuna/study/_optimize.py\", line 200, in _run_trial\n",
      "    value_or_values = func(trial)\n",
      "  File \"/tmp/ipykernel_22119/4273198217.py\", line 15, in objective_fun\n",
      "    cnn = build_and_fit_cnn(X=X_train_v,\n",
      "  File \"/tmp/ipykernel_22119/2256047732.py\", line 28, in build_and_fit_cnn\n",
      "    model.add(Conv1D(filters=filters, kernel_size=kernel_size, activation='relu', name=f\"extra_conv_{i}\"))\n",
      "  File \"/home/djanloo/.local/share/virtualenvs/DM2-PeqFRmfa/lib/python3.10/site-packages/tensorflow/python/trackable/base.py\", line 205, in _method_wrapper\n",
      "    result = method(self, *args, **kwargs)\n",
      "  File \"/home/djanloo/.local/share/virtualenvs/DM2-PeqFRmfa/lib/python3.10/site-packages/keras/utils/traceback_utils.py\", line 70, in error_handler\n",
      "    raise e.with_traceback(filtered_tb) from None\n",
      "  File \"/home/djanloo/.local/share/virtualenvs/DM2-PeqFRmfa/lib/python3.10/site-packages/keras/layers/convolutional/base_conv.py\", line 354, in compute_output_shape\n",
      "    raise ValueError(\n",
      "ValueError: One of the dimensions in the output is <= 0 due to downsampling in extra_conv_0. Consider increasing the input size. Received input shape [None, 9, 12] which would produce output shape with a zero or negative value in a dimension.\n",
      "[W 2023-06-26 12:35:41,972] Trial 124 failed with value None.\n",
      "[W 2023-06-26 12:35:42,018] Trial 123 failed with parameters: {'n_conv': 3, 'n_hidden': 3, 'hidden_nodes': 88, 'dropout': 0.010542453179268718, 'filters': 12, 'kernel_size': 15, 'batch_size': 37, 'epochs': 23} because of the following error: ValueError('One of the dimensions in the output is <= 0 due to downsampling in extra_conv_0. Consider increasing the input size. Received input shape [None, 9, 12] which would produce output shape with a zero or negative value in a dimension.').\n",
      "Traceback (most recent call last):\n",
      "  File \"/home/djanloo/.local/share/virtualenvs/DM2-PeqFRmfa/lib/python3.10/site-packages/optuna/study/_optimize.py\", line 200, in _run_trial\n",
      "    value_or_values = func(trial)\n",
      "  File \"/tmp/ipykernel_22119/4273198217.py\", line 15, in objective_fun\n",
      "    cnn = build_and_fit_cnn(X=X_train_v,\n",
      "  File \"/tmp/ipykernel_22119/2256047732.py\", line 28, in build_and_fit_cnn\n",
      "    model.add(Conv1D(filters=filters, kernel_size=kernel_size, activation='relu', name=f\"extra_conv_{i}\"))\n",
      "  File \"/home/djanloo/.local/share/virtualenvs/DM2-PeqFRmfa/lib/python3.10/site-packages/tensorflow/python/trackable/base.py\", line 205, in _method_wrapper\n",
      "    result = method(self, *args, **kwargs)\n",
      "  File \"/home/djanloo/.local/share/virtualenvs/DM2-PeqFRmfa/lib/python3.10/site-packages/keras/utils/traceback_utils.py\", line 70, in error_handler\n",
      "    raise e.with_traceback(filtered_tb) from None\n",
      "  File \"/home/djanloo/.local/share/virtualenvs/DM2-PeqFRmfa/lib/python3.10/site-packages/keras/layers/convolutional/base_conv.py\", line 354, in compute_output_shape\n",
      "    raise ValueError(\n",
      "ValueError: One of the dimensions in the output is <= 0 due to downsampling in extra_conv_0. Consider increasing the input size. Received input shape [None, 9, 12] which would produce output shape with a zero or negative value in a dimension.\n",
      "[W 2023-06-26 12:35:42,037] Trial 123 failed with value None.\n"
     ]
    },
    {
     "name": "stdout",
     "output_type": "stream",
     "text": [
      "Running little bitch having n_conv=2, dropout=0.01676760957377449, hidden_nodes=86\n",
      "Running little bitch having n_conv=3, dropout=0.007646382534517826, hidden_nodes=72\n"
     ]
    },
    {
     "name": "stderr",
     "output_type": "stream",
     "text": [
      "[W 2023-06-26 12:35:42,523] Trial 126 failed with parameters: {'n_conv': 3, 'n_hidden': 3, 'hidden_nodes': 72, 'dropout': 0.007646382534517826, 'filters': 12, 'kernel_size': 15, 'batch_size': 36, 'epochs': 23} because of the following error: ValueError('One of the dimensions in the output is <= 0 due to downsampling in extra_conv_0. Consider increasing the input size. Received input shape [None, 9, 12] which would produce output shape with a zero or negative value in a dimension.').\n",
      "Traceback (most recent call last):\n",
      "  File \"/home/djanloo/.local/share/virtualenvs/DM2-PeqFRmfa/lib/python3.10/site-packages/optuna/study/_optimize.py\", line 200, in _run_trial\n",
      "    value_or_values = func(trial)\n",
      "  File \"/tmp/ipykernel_22119/4273198217.py\", line 15, in objective_fun\n",
      "    cnn = build_and_fit_cnn(X=X_train_v,\n",
      "  File \"/tmp/ipykernel_22119/2256047732.py\", line 28, in build_and_fit_cnn\n",
      "    model.add(Conv1D(filters=filters, kernel_size=kernel_size, activation='relu', name=f\"extra_conv_{i}\"))\n",
      "  File \"/home/djanloo/.local/share/virtualenvs/DM2-PeqFRmfa/lib/python3.10/site-packages/tensorflow/python/trackable/base.py\", line 205, in _method_wrapper\n",
      "    result = method(self, *args, **kwargs)\n",
      "  File \"/home/djanloo/.local/share/virtualenvs/DM2-PeqFRmfa/lib/python3.10/site-packages/keras/utils/traceback_utils.py\", line 70, in error_handler\n",
      "    raise e.with_traceback(filtered_tb) from None\n",
      "  File \"/home/djanloo/.local/share/virtualenvs/DM2-PeqFRmfa/lib/python3.10/site-packages/keras/layers/convolutional/base_conv.py\", line 354, in compute_output_shape\n",
      "    raise ValueError(\n",
      "ValueError: One of the dimensions in the output is <= 0 due to downsampling in extra_conv_0. Consider increasing the input size. Received input shape [None, 9, 12] which would produce output shape with a zero or negative value in a dimension.\n",
      "[W 2023-06-26 12:35:42,537] Trial 126 failed with value None.\n",
      "[W 2023-06-26 12:35:42,668] Trial 125 failed with parameters: {'n_conv': 2, 'n_hidden': 3, 'hidden_nodes': 86, 'dropout': 0.01676760957377449, 'filters': 12, 'kernel_size': 15, 'batch_size': 33, 'epochs': 25} because of the following error: ValueError('One of the dimensions in the output is <= 0 due to downsampling in extra_conv_0. Consider increasing the input size. Received input shape [None, 9, 12] which would produce output shape with a zero or negative value in a dimension.').\n",
      "Traceback (most recent call last):\n",
      "  File \"/home/djanloo/.local/share/virtualenvs/DM2-PeqFRmfa/lib/python3.10/site-packages/optuna/study/_optimize.py\", line 200, in _run_trial\n",
      "    value_or_values = func(trial)\n",
      "  File \"/tmp/ipykernel_22119/4273198217.py\", line 15, in objective_fun\n",
      "    cnn = build_and_fit_cnn(X=X_train_v,\n",
      "  File \"/tmp/ipykernel_22119/2256047732.py\", line 28, in build_and_fit_cnn\n",
      "    model.add(Conv1D(filters=filters, kernel_size=kernel_size, activation='relu', name=f\"extra_conv_{i}\"))\n",
      "  File \"/home/djanloo/.local/share/virtualenvs/DM2-PeqFRmfa/lib/python3.10/site-packages/tensorflow/python/trackable/base.py\", line 205, in _method_wrapper\n",
      "    result = method(self, *args, **kwargs)\n",
      "  File \"/home/djanloo/.local/share/virtualenvs/DM2-PeqFRmfa/lib/python3.10/site-packages/keras/utils/traceback_utils.py\", line 70, in error_handler\n",
      "    raise e.with_traceback(filtered_tb) from None\n",
      "  File \"/home/djanloo/.local/share/virtualenvs/DM2-PeqFRmfa/lib/python3.10/site-packages/keras/layers/convolutional/base_conv.py\", line 354, in compute_output_shape\n",
      "    raise ValueError(\n",
      "ValueError: One of the dimensions in the output is <= 0 due to downsampling in extra_conv_0. Consider increasing the input size. Received input shape [None, 9, 12] which would produce output shape with a zero or negative value in a dimension.\n",
      "[W 2023-06-26 12:35:42,681] Trial 125 failed with value None.\n"
     ]
    },
    {
     "name": "stdout",
     "output_type": "stream",
     "text": [
      "Running little bitch having n_conv=3, dropout=0.015113339421001182, hidden_nodes=81\n",
      "Running little bitch having n_conv=3, dropout=0.09247568875440294, hidden_nodes=69\n"
     ]
    },
    {
     "name": "stderr",
     "output_type": "stream",
     "text": [
      "[W 2023-06-26 12:35:43,144] Trial 128 failed with parameters: {'n_conv': 3, 'n_hidden': 3, 'hidden_nodes': 69, 'dropout': 0.09247568875440294, 'filters': 12, 'kernel_size': 14, 'batch_size': 33, 'epochs': 25} because of the following error: ValueError('One of the dimensions in the output is <= 0 due to downsampling in extra_conv_0. Consider increasing the input size. Received input shape [None, 10, 12] which would produce output shape with a zero or negative value in a dimension.').\n",
      "Traceback (most recent call last):\n",
      "  File \"/home/djanloo/.local/share/virtualenvs/DM2-PeqFRmfa/lib/python3.10/site-packages/optuna/study/_optimize.py\", line 200, in _run_trial\n",
      "    value_or_values = func(trial)\n",
      "  File \"/tmp/ipykernel_22119/4273198217.py\", line 15, in objective_fun\n",
      "    cnn = build_and_fit_cnn(X=X_train_v,\n",
      "  File \"/tmp/ipykernel_22119/2256047732.py\", line 28, in build_and_fit_cnn\n",
      "    model.add(Conv1D(filters=filters, kernel_size=kernel_size, activation='relu', name=f\"extra_conv_{i}\"))\n",
      "  File \"/home/djanloo/.local/share/virtualenvs/DM2-PeqFRmfa/lib/python3.10/site-packages/tensorflow/python/trackable/base.py\", line 205, in _method_wrapper\n",
      "    result = method(self, *args, **kwargs)\n",
      "  File \"/home/djanloo/.local/share/virtualenvs/DM2-PeqFRmfa/lib/python3.10/site-packages/keras/utils/traceback_utils.py\", line 70, in error_handler\n",
      "    raise e.with_traceback(filtered_tb) from None\n",
      "  File \"/home/djanloo/.local/share/virtualenvs/DM2-PeqFRmfa/lib/python3.10/site-packages/keras/layers/convolutional/base_conv.py\", line 354, in compute_output_shape\n",
      "    raise ValueError(\n",
      "ValueError: One of the dimensions in the output is <= 0 due to downsampling in extra_conv_0. Consider increasing the input size. Received input shape [None, 10, 12] which would produce output shape with a zero or negative value in a dimension.\n",
      "[W 2023-06-26 12:35:43,148] Trial 128 failed with value None.\n",
      "[W 2023-06-26 12:35:43,213] Trial 127 failed with parameters: {'n_conv': 3, 'n_hidden': 3, 'hidden_nodes': 81, 'dropout': 0.015113339421001182, 'filters': 12, 'kernel_size': 16, 'batch_size': 34, 'epochs': 25} because of the following error: ValueError('One of the dimensions in the output is <= 0 due to downsampling in extra_conv_0. Consider increasing the input size. Received input shape [None, 8, 12] which would produce output shape with a zero or negative value in a dimension.').\n",
      "Traceback (most recent call last):\n",
      "  File \"/home/djanloo/.local/share/virtualenvs/DM2-PeqFRmfa/lib/python3.10/site-packages/optuna/study/_optimize.py\", line 200, in _run_trial\n",
      "    value_or_values = func(trial)\n",
      "  File \"/tmp/ipykernel_22119/4273198217.py\", line 15, in objective_fun\n",
      "    cnn = build_and_fit_cnn(X=X_train_v,\n",
      "  File \"/tmp/ipykernel_22119/2256047732.py\", line 28, in build_and_fit_cnn\n",
      "    model.add(Conv1D(filters=filters, kernel_size=kernel_size, activation='relu', name=f\"extra_conv_{i}\"))\n",
      "  File \"/home/djanloo/.local/share/virtualenvs/DM2-PeqFRmfa/lib/python3.10/site-packages/tensorflow/python/trackable/base.py\", line 205, in _method_wrapper\n",
      "    result = method(self, *args, **kwargs)\n",
      "  File \"/home/djanloo/.local/share/virtualenvs/DM2-PeqFRmfa/lib/python3.10/site-packages/keras/utils/traceback_utils.py\", line 70, in error_handler\n",
      "    raise e.with_traceback(filtered_tb) from None\n",
      "  File \"/home/djanloo/.local/share/virtualenvs/DM2-PeqFRmfa/lib/python3.10/site-packages/keras/layers/convolutional/base_conv.py\", line 354, in compute_output_shape\n",
      "    raise ValueError(\n",
      "ValueError: One of the dimensions in the output is <= 0 due to downsampling in extra_conv_0. Consider increasing the input size. Received input shape [None, 8, 12] which would produce output shape with a zero or negative value in a dimension.\n",
      "[W 2023-06-26 12:35:43,292] Trial 127 failed with value None.\n"
     ]
    },
    {
     "name": "stdout",
     "output_type": "stream",
     "text": [
      "Running little bitch having n_conv=3, dropout=0.03568011215297637, hidden_nodes=100\n",
      "Running little bitch having n_conv=3, dropout=0.06037980218833372, hidden_nodes=85\n"
     ]
    },
    {
     "name": "stderr",
     "output_type": "stream",
     "text": [
      "[W 2023-06-26 12:35:43,709] Trial 130 failed with parameters: {'n_conv': 3, 'n_hidden': 3, 'hidden_nodes': 85, 'dropout': 0.06037980218833372, 'filters': 12, 'kernel_size': 15, 'batch_size': 36, 'epochs': 24} because of the following error: ValueError('One of the dimensions in the output is <= 0 due to downsampling in extra_conv_0. Consider increasing the input size. Received input shape [None, 9, 12] which would produce output shape with a zero or negative value in a dimension.').\n",
      "Traceback (most recent call last):\n",
      "  File \"/home/djanloo/.local/share/virtualenvs/DM2-PeqFRmfa/lib/python3.10/site-packages/optuna/study/_optimize.py\", line 200, in _run_trial\n",
      "    value_or_values = func(trial)\n",
      "  File \"/tmp/ipykernel_22119/4273198217.py\", line 15, in objective_fun\n",
      "    cnn = build_and_fit_cnn(X=X_train_v,\n",
      "  File \"/tmp/ipykernel_22119/2256047732.py\", line 28, in build_and_fit_cnn\n",
      "    model.add(Conv1D(filters=filters, kernel_size=kernel_size, activation='relu', name=f\"extra_conv_{i}\"))\n",
      "  File \"/home/djanloo/.local/share/virtualenvs/DM2-PeqFRmfa/lib/python3.10/site-packages/tensorflow/python/trackable/base.py\", line 205, in _method_wrapper\n",
      "    result = method(self, *args, **kwargs)\n",
      "  File \"/home/djanloo/.local/share/virtualenvs/DM2-PeqFRmfa/lib/python3.10/site-packages/keras/utils/traceback_utils.py\", line 70, in error_handler\n",
      "    raise e.with_traceback(filtered_tb) from None\n",
      "  File \"/home/djanloo/.local/share/virtualenvs/DM2-PeqFRmfa/lib/python3.10/site-packages/keras/layers/convolutional/base_conv.py\", line 354, in compute_output_shape\n",
      "    raise ValueError(\n",
      "ValueError: One of the dimensions in the output is <= 0 due to downsampling in extra_conv_0. Consider increasing the input size. Received input shape [None, 9, 12] which would produce output shape with a zero or negative value in a dimension.\n",
      "[W 2023-06-26 12:35:43,722] Trial 129 failed with parameters: {'n_conv': 3, 'n_hidden': 3, 'hidden_nodes': 100, 'dropout': 0.03568011215297637, 'filters': 12, 'kernel_size': 15, 'batch_size': 34, 'epochs': 24} because of the following error: ValueError('One of the dimensions in the output is <= 0 due to downsampling in extra_conv_0. Consider increasing the input size. Received input shape [None, 9, 12] which would produce output shape with a zero or negative value in a dimension.').\n",
      "Traceback (most recent call last):\n",
      "  File \"/home/djanloo/.local/share/virtualenvs/DM2-PeqFRmfa/lib/python3.10/site-packages/optuna/study/_optimize.py\", line 200, in _run_trial\n",
      "    value_or_values = func(trial)\n",
      "  File \"/tmp/ipykernel_22119/4273198217.py\", line 15, in objective_fun\n",
      "    cnn = build_and_fit_cnn(X=X_train_v,\n",
      "  File \"/tmp/ipykernel_22119/2256047732.py\", line 28, in build_and_fit_cnn\n",
      "    model.add(Conv1D(filters=filters, kernel_size=kernel_size, activation='relu', name=f\"extra_conv_{i}\"))\n",
      "  File \"/home/djanloo/.local/share/virtualenvs/DM2-PeqFRmfa/lib/python3.10/site-packages/tensorflow/python/trackable/base.py\", line 205, in _method_wrapper\n",
      "    result = method(self, *args, **kwargs)\n",
      "  File \"/home/djanloo/.local/share/virtualenvs/DM2-PeqFRmfa/lib/python3.10/site-packages/keras/utils/traceback_utils.py\", line 70, in error_handler\n",
      "    raise e.with_traceback(filtered_tb) from None\n",
      "  File \"/home/djanloo/.local/share/virtualenvs/DM2-PeqFRmfa/lib/python3.10/site-packages/keras/layers/convolutional/base_conv.py\", line 354, in compute_output_shape\n",
      "    raise ValueError(\n",
      "ValueError: One of the dimensions in the output is <= 0 due to downsampling in extra_conv_0. Consider increasing the input size. Received input shape [None, 9, 12] which would produce output shape with a zero or negative value in a dimension.\n",
      "[W 2023-06-26 12:35:43,734] Trial 129 failed with value None.\n",
      "[W 2023-06-26 12:35:43,727] Trial 130 failed with value None.\n"
     ]
    },
    {
     "name": "stdout",
     "output_type": "stream",
     "text": [
      "Running little bitch having n_conv=3, dropout=0.001413246307937599, hidden_nodes=83\n",
      "Running little bitch having n_conv=3, dropout=0.0056446937487904525, hidden_nodes=78\n"
     ]
    },
    {
     "name": "stderr",
     "output_type": "stream",
     "text": [
      "[W 2023-06-26 12:35:44,350] Trial 131 failed with parameters: {'n_conv': 3, 'n_hidden': 3, 'hidden_nodes': 78, 'dropout': 0.0056446937487904525, 'filters': 12, 'kernel_size': 15, 'batch_size': 30, 'epochs': 20} because of the following error: ValueError('One of the dimensions in the output is <= 0 due to downsampling in extra_conv_0. Consider increasing the input size. Received input shape [None, 9, 12] which would produce output shape with a zero or negative value in a dimension.').\n",
      "Traceback (most recent call last):\n",
      "  File \"/home/djanloo/.local/share/virtualenvs/DM2-PeqFRmfa/lib/python3.10/site-packages/optuna/study/_optimize.py\", line 200, in _run_trial\n",
      "    value_or_values = func(trial)\n",
      "  File \"/tmp/ipykernel_22119/4273198217.py\", line 15, in objective_fun\n",
      "    cnn = build_and_fit_cnn(X=X_train_v,\n",
      "  File \"/tmp/ipykernel_22119/2256047732.py\", line 28, in build_and_fit_cnn\n",
      "    model.add(Conv1D(filters=filters, kernel_size=kernel_size, activation='relu', name=f\"extra_conv_{i}\"))\n",
      "  File \"/home/djanloo/.local/share/virtualenvs/DM2-PeqFRmfa/lib/python3.10/site-packages/tensorflow/python/trackable/base.py\", line 205, in _method_wrapper\n",
      "    result = method(self, *args, **kwargs)\n",
      "  File \"/home/djanloo/.local/share/virtualenvs/DM2-PeqFRmfa/lib/python3.10/site-packages/keras/utils/traceback_utils.py\", line 70, in error_handler\n",
      "    raise e.with_traceback(filtered_tb) from None\n",
      "  File \"/home/djanloo/.local/share/virtualenvs/DM2-PeqFRmfa/lib/python3.10/site-packages/keras/layers/convolutional/base_conv.py\", line 354, in compute_output_shape\n",
      "    raise ValueError(\n",
      "ValueError: One of the dimensions in the output is <= 0 due to downsampling in extra_conv_0. Consider increasing the input size. Received input shape [None, 9, 12] which would produce output shape with a zero or negative value in a dimension.\n",
      "[W 2023-06-26 12:35:44,353] Trial 131 failed with value None.\n",
      "[W 2023-06-26 12:35:44,430] Trial 132 failed with parameters: {'n_conv': 3, 'n_hidden': 3, 'hidden_nodes': 83, 'dropout': 0.001413246307937599, 'filters': 12, 'kernel_size': 15, 'batch_size': 33, 'epochs': 26} because of the following error: ValueError('One of the dimensions in the output is <= 0 due to downsampling in extra_conv_0. Consider increasing the input size. Received input shape [None, 9, 12] which would produce output shape with a zero or negative value in a dimension.').\n",
      "Traceback (most recent call last):\n",
      "  File \"/home/djanloo/.local/share/virtualenvs/DM2-PeqFRmfa/lib/python3.10/site-packages/optuna/study/_optimize.py\", line 200, in _run_trial\n",
      "    value_or_values = func(trial)\n",
      "  File \"/tmp/ipykernel_22119/4273198217.py\", line 15, in objective_fun\n",
      "    cnn = build_and_fit_cnn(X=X_train_v,\n",
      "  File \"/tmp/ipykernel_22119/2256047732.py\", line 28, in build_and_fit_cnn\n",
      "    model.add(Conv1D(filters=filters, kernel_size=kernel_size, activation='relu', name=f\"extra_conv_{i}\"))\n",
      "  File \"/home/djanloo/.local/share/virtualenvs/DM2-PeqFRmfa/lib/python3.10/site-packages/tensorflow/python/trackable/base.py\", line 205, in _method_wrapper\n",
      "    result = method(self, *args, **kwargs)\n",
      "  File \"/home/djanloo/.local/share/virtualenvs/DM2-PeqFRmfa/lib/python3.10/site-packages/keras/utils/traceback_utils.py\", line 70, in error_handler\n",
      "    raise e.with_traceback(filtered_tb) from None\n",
      "  File \"/home/djanloo/.local/share/virtualenvs/DM2-PeqFRmfa/lib/python3.10/site-packages/keras/layers/convolutional/base_conv.py\", line 354, in compute_output_shape\n",
      "    raise ValueError(\n",
      "ValueError: One of the dimensions in the output is <= 0 due to downsampling in extra_conv_0. Consider increasing the input size. Received input shape [None, 9, 12] which would produce output shape with a zero or negative value in a dimension.\n",
      "[W 2023-06-26 12:35:44,473] Trial 132 failed with value None.\n"
     ]
    },
    {
     "name": "stdout",
     "output_type": "stream",
     "text": [
      "Running little bitch having n_conv=3, dropout=0.01951267817279634, hidden_nodes=87\n",
      "Running little bitch having n_conv=2, dropout=0.009430630153594632, hidden_nodes=84\n"
     ]
    },
    {
     "name": "stderr",
     "output_type": "stream",
     "text": [
      "[W 2023-06-26 12:35:45,212] Trial 134 failed with parameters: {'n_conv': 3, 'n_hidden': 3, 'hidden_nodes': 87, 'dropout': 0.01951267817279634, 'filters': 12, 'kernel_size': 16, 'batch_size': 32, 'epochs': 25} because of the following error: ValueError('One of the dimensions in the output is <= 0 due to downsampling in extra_conv_0. Consider increasing the input size. Received input shape [None, 8, 12] which would produce output shape with a zero or negative value in a dimension.').\n",
      "Traceback (most recent call last):\n",
      "  File \"/home/djanloo/.local/share/virtualenvs/DM2-PeqFRmfa/lib/python3.10/site-packages/optuna/study/_optimize.py\", line 200, in _run_trial\n",
      "    value_or_values = func(trial)\n",
      "  File \"/tmp/ipykernel_22119/4273198217.py\", line 15, in objective_fun\n",
      "    cnn = build_and_fit_cnn(X=X_train_v,\n",
      "  File \"/tmp/ipykernel_22119/2256047732.py\", line 28, in build_and_fit_cnn\n",
      "    model.add(Conv1D(filters=filters, kernel_size=kernel_size, activation='relu', name=f\"extra_conv_{i}\"))\n",
      "  File \"/home/djanloo/.local/share/virtualenvs/DM2-PeqFRmfa/lib/python3.10/site-packages/tensorflow/python/trackable/base.py\", line 205, in _method_wrapper\n",
      "    result = method(self, *args, **kwargs)\n",
      "  File \"/home/djanloo/.local/share/virtualenvs/DM2-PeqFRmfa/lib/python3.10/site-packages/keras/utils/traceback_utils.py\", line 70, in error_handler\n",
      "    raise e.with_traceback(filtered_tb) from None\n",
      "  File \"/home/djanloo/.local/share/virtualenvs/DM2-PeqFRmfa/lib/python3.10/site-packages/keras/layers/convolutional/base_conv.py\", line 354, in compute_output_shape\n",
      "    raise ValueError(\n",
      "ValueError: One of the dimensions in the output is <= 0 due to downsampling in extra_conv_0. Consider increasing the input size. Received input shape [None, 8, 12] which would produce output shape with a zero or negative value in a dimension.\n",
      "[W 2023-06-26 12:35:45,215] Trial 133 failed with parameters: {'n_conv': 2, 'n_hidden': 3, 'hidden_nodes': 84, 'dropout': 0.009430630153594632, 'filters': 12, 'kernel_size': 15, 'batch_size': 34, 'epochs': 22} because of the following error: ValueError('One of the dimensions in the output is <= 0 due to downsampling in extra_conv_0. Consider increasing the input size. Received input shape [None, 9, 12] which would produce output shape with a zero or negative value in a dimension.').\n",
      "Traceback (most recent call last):\n",
      "  File \"/home/djanloo/.local/share/virtualenvs/DM2-PeqFRmfa/lib/python3.10/site-packages/optuna/study/_optimize.py\", line 200, in _run_trial\n",
      "    value_or_values = func(trial)\n",
      "  File \"/tmp/ipykernel_22119/4273198217.py\", line 15, in objective_fun\n",
      "    cnn = build_and_fit_cnn(X=X_train_v,\n",
      "  File \"/tmp/ipykernel_22119/2256047732.py\", line 28, in build_and_fit_cnn\n",
      "    model.add(Conv1D(filters=filters, kernel_size=kernel_size, activation='relu', name=f\"extra_conv_{i}\"))\n",
      "  File \"/home/djanloo/.local/share/virtualenvs/DM2-PeqFRmfa/lib/python3.10/site-packages/tensorflow/python/trackable/base.py\", line 205, in _method_wrapper\n",
      "    result = method(self, *args, **kwargs)\n",
      "  File \"/home/djanloo/.local/share/virtualenvs/DM2-PeqFRmfa/lib/python3.10/site-packages/keras/utils/traceback_utils.py\", line 70, in error_handler\n",
      "    raise e.with_traceback(filtered_tb) from None\n",
      "  File \"/home/djanloo/.local/share/virtualenvs/DM2-PeqFRmfa/lib/python3.10/site-packages/keras/layers/convolutional/base_conv.py\", line 354, in compute_output_shape\n",
      "    raise ValueError(\n",
      "ValueError: One of the dimensions in the output is <= 0 due to downsampling in extra_conv_0. Consider increasing the input size. Received input shape [None, 9, 12] which would produce output shape with a zero or negative value in a dimension.\n",
      "[W 2023-06-26 12:35:45,234] Trial 133 failed with value None.\n",
      "[W 2023-06-26 12:35:45,225] Trial 134 failed with value None.\n"
     ]
    },
    {
     "name": "stdout",
     "output_type": "stream",
     "text": [
      "Running little bitch having n_conv=3, dropout=0.010145836729874819, hidden_nodes=83\n",
      "Running little bitch having n_conv=3, dropout=0.003957312375457517, hidden_nodes=83\n"
     ]
    },
    {
     "name": "stderr",
     "output_type": "stream",
     "text": [
      "[W 2023-06-26 12:35:45,843] Trial 135 failed with parameters: {'n_conv': 3, 'n_hidden': 3, 'hidden_nodes': 83, 'dropout': 0.010145836729874819, 'filters': 12, 'kernel_size': 15, 'batch_size': 34, 'epochs': 22} because of the following error: ValueError('One of the dimensions in the output is <= 0 due to downsampling in extra_conv_0. Consider increasing the input size. Received input shape [None, 9, 12] which would produce output shape with a zero or negative value in a dimension.').\n",
      "Traceback (most recent call last):\n",
      "  File \"/home/djanloo/.local/share/virtualenvs/DM2-PeqFRmfa/lib/python3.10/site-packages/optuna/study/_optimize.py\", line 200, in _run_trial\n",
      "    value_or_values = func(trial)\n",
      "  File \"/tmp/ipykernel_22119/4273198217.py\", line 15, in objective_fun\n",
      "    cnn = build_and_fit_cnn(X=X_train_v,\n",
      "  File \"/tmp/ipykernel_22119/2256047732.py\", line 28, in build_and_fit_cnn\n",
      "    model.add(Conv1D(filters=filters, kernel_size=kernel_size, activation='relu', name=f\"extra_conv_{i}\"))\n",
      "  File \"/home/djanloo/.local/share/virtualenvs/DM2-PeqFRmfa/lib/python3.10/site-packages/tensorflow/python/trackable/base.py\", line 205, in _method_wrapper\n",
      "    result = method(self, *args, **kwargs)\n",
      "  File \"/home/djanloo/.local/share/virtualenvs/DM2-PeqFRmfa/lib/python3.10/site-packages/keras/utils/traceback_utils.py\", line 70, in error_handler\n",
      "    raise e.with_traceback(filtered_tb) from None\n",
      "  File \"/home/djanloo/.local/share/virtualenvs/DM2-PeqFRmfa/lib/python3.10/site-packages/keras/layers/convolutional/base_conv.py\", line 354, in compute_output_shape\n",
      "    raise ValueError(\n",
      "ValueError: One of the dimensions in the output is <= 0 due to downsampling in extra_conv_0. Consider increasing the input size. Received input shape [None, 9, 12] which would produce output shape with a zero or negative value in a dimension.\n",
      "[W 2023-06-26 12:35:45,853] Trial 135 failed with value None.\n",
      "[W 2023-06-26 12:35:45,945] Trial 136 failed with parameters: {'n_conv': 3, 'n_hidden': 3, 'hidden_nodes': 83, 'dropout': 0.003957312375457517, 'filters': 12, 'kernel_size': 15, 'batch_size': 40, 'epochs': 24} because of the following error: ValueError('One of the dimensions in the output is <= 0 due to downsampling in extra_conv_0. Consider increasing the input size. Received input shape [None, 9, 12] which would produce output shape with a zero or negative value in a dimension.').\n",
      "Traceback (most recent call last):\n",
      "  File \"/home/djanloo/.local/share/virtualenvs/DM2-PeqFRmfa/lib/python3.10/site-packages/optuna/study/_optimize.py\", line 200, in _run_trial\n",
      "    value_or_values = func(trial)\n",
      "  File \"/tmp/ipykernel_22119/4273198217.py\", line 15, in objective_fun\n",
      "    cnn = build_and_fit_cnn(X=X_train_v,\n",
      "  File \"/tmp/ipykernel_22119/2256047732.py\", line 28, in build_and_fit_cnn\n",
      "    model.add(Conv1D(filters=filters, kernel_size=kernel_size, activation='relu', name=f\"extra_conv_{i}\"))\n",
      "  File \"/home/djanloo/.local/share/virtualenvs/DM2-PeqFRmfa/lib/python3.10/site-packages/tensorflow/python/trackable/base.py\", line 205, in _method_wrapper\n",
      "    result = method(self, *args, **kwargs)\n",
      "  File \"/home/djanloo/.local/share/virtualenvs/DM2-PeqFRmfa/lib/python3.10/site-packages/keras/utils/traceback_utils.py\", line 70, in error_handler\n",
      "    raise e.with_traceback(filtered_tb) from None\n",
      "  File \"/home/djanloo/.local/share/virtualenvs/DM2-PeqFRmfa/lib/python3.10/site-packages/keras/layers/convolutional/base_conv.py\", line 354, in compute_output_shape\n",
      "    raise ValueError(\n",
      "ValueError: One of the dimensions in the output is <= 0 due to downsampling in extra_conv_0. Consider increasing the input size. Received input shape [None, 9, 12] which would produce output shape with a zero or negative value in a dimension.\n",
      "[W 2023-06-26 12:35:45,984] Trial 136 failed with value None.\n"
     ]
    },
    {
     "name": "stdout",
     "output_type": "stream",
     "text": [
      "Running little bitch having n_conv=3, dropout=0.03909062689075948, hidden_nodes=83\n"
     ]
    },
    {
     "name": "stderr",
     "output_type": "stream",
     "text": [
      "[W 2023-06-26 12:35:46,444] Trial 137 failed with parameters: {'n_conv': 3, 'n_hidden': 3, 'hidden_nodes': 83, 'dropout': 0.03909062689075948, 'filters': 12, 'kernel_size': 16, 'batch_size': 35, 'epochs': 25} because of the following error: ValueError('One of the dimensions in the output is <= 0 due to downsampling in extra_conv_0. Consider increasing the input size. Received input shape [None, 8, 12] which would produce output shape with a zero or negative value in a dimension.').\n",
      "Traceback (most recent call last):\n",
      "  File \"/home/djanloo/.local/share/virtualenvs/DM2-PeqFRmfa/lib/python3.10/site-packages/optuna/study/_optimize.py\", line 200, in _run_trial\n",
      "    value_or_values = func(trial)\n",
      "  File \"/tmp/ipykernel_22119/4273198217.py\", line 15, in objective_fun\n",
      "    cnn = build_and_fit_cnn(X=X_train_v,\n",
      "  File \"/tmp/ipykernel_22119/2256047732.py\", line 28, in build_and_fit_cnn\n",
      "    model.add(Conv1D(filters=filters, kernel_size=kernel_size, activation='relu', name=f\"extra_conv_{i}\"))\n",
      "  File \"/home/djanloo/.local/share/virtualenvs/DM2-PeqFRmfa/lib/python3.10/site-packages/tensorflow/python/trackable/base.py\", line 205, in _method_wrapper\n",
      "    result = method(self, *args, **kwargs)\n",
      "  File \"/home/djanloo/.local/share/virtualenvs/DM2-PeqFRmfa/lib/python3.10/site-packages/keras/utils/traceback_utils.py\", line 70, in error_handler\n",
      "    raise e.with_traceback(filtered_tb) from None\n",
      "  File \"/home/djanloo/.local/share/virtualenvs/DM2-PeqFRmfa/lib/python3.10/site-packages/keras/layers/convolutional/base_conv.py\", line 354, in compute_output_shape\n",
      "    raise ValueError(\n",
      "ValueError: One of the dimensions in the output is <= 0 due to downsampling in extra_conv_0. Consider increasing the input size. Received input shape [None, 8, 12] which would produce output shape with a zero or negative value in a dimension.\n",
      "[W 2023-06-26 12:35:46,453] Trial 137 failed with value None.\n"
     ]
    },
    {
     "name": "stdout",
     "output_type": "stream",
     "text": [
      "Running little bitch having n_conv=3, dropout=0.008790849960868236, hidden_nodes=88\n"
     ]
    },
    {
     "name": "stderr",
     "output_type": "stream",
     "text": [
      "[W 2023-06-26 12:35:46,734] Trial 138 failed with parameters: {'n_conv': 3, 'n_hidden': 3, 'hidden_nodes': 88, 'dropout': 0.008790849960868236, 'filters': 12, 'kernel_size': 15, 'batch_size': 34, 'epochs': 24} because of the following error: ValueError('One of the dimensions in the output is <= 0 due to downsampling in extra_conv_0. Consider increasing the input size. Received input shape [None, 9, 12] which would produce output shape with a zero or negative value in a dimension.').\n",
      "Traceback (most recent call last):\n",
      "  File \"/home/djanloo/.local/share/virtualenvs/DM2-PeqFRmfa/lib/python3.10/site-packages/optuna/study/_optimize.py\", line 200, in _run_trial\n",
      "    value_or_values = func(trial)\n",
      "  File \"/tmp/ipykernel_22119/4273198217.py\", line 15, in objective_fun\n",
      "    cnn = build_and_fit_cnn(X=X_train_v,\n",
      "  File \"/tmp/ipykernel_22119/2256047732.py\", line 28, in build_and_fit_cnn\n",
      "    model.add(Conv1D(filters=filters, kernel_size=kernel_size, activation='relu', name=f\"extra_conv_{i}\"))\n",
      "  File \"/home/djanloo/.local/share/virtualenvs/DM2-PeqFRmfa/lib/python3.10/site-packages/tensorflow/python/trackable/base.py\", line 205, in _method_wrapper\n",
      "    result = method(self, *args, **kwargs)\n",
      "  File \"/home/djanloo/.local/share/virtualenvs/DM2-PeqFRmfa/lib/python3.10/site-packages/keras/utils/traceback_utils.py\", line 70, in error_handler\n",
      "    raise e.with_traceback(filtered_tb) from None\n",
      "  File \"/home/djanloo/.local/share/virtualenvs/DM2-PeqFRmfa/lib/python3.10/site-packages/keras/layers/convolutional/base_conv.py\", line 354, in compute_output_shape\n",
      "    raise ValueError(\n",
      "ValueError: One of the dimensions in the output is <= 0 due to downsampling in extra_conv_0. Consider increasing the input size. Received input shape [None, 9, 12] which would produce output shape with a zero or negative value in a dimension.\n",
      "[W 2023-06-26 12:35:46,752] Trial 138 failed with value None.\n"
     ]
    },
    {
     "name": "stdout",
     "output_type": "stream",
     "text": [
      "Running little bitch having n_conv=3, dropout=0.1601709614001696, hidden_nodes=75\n"
     ]
    },
    {
     "name": "stderr",
     "output_type": "stream",
     "text": [
      "[W 2023-06-26 12:35:47,114] Trial 139 failed with parameters: {'n_conv': 3, 'n_hidden': 3, 'hidden_nodes': 75, 'dropout': 0.1601709614001696, 'filters': 12, 'kernel_size': 15, 'batch_size': 34, 'epochs': 28} because of the following error: ValueError('One of the dimensions in the output is <= 0 due to downsampling in extra_conv_0. Consider increasing the input size. Received input shape [None, 9, 12] which would produce output shape with a zero or negative value in a dimension.').\n",
      "Traceback (most recent call last):\n",
      "  File \"/home/djanloo/.local/share/virtualenvs/DM2-PeqFRmfa/lib/python3.10/site-packages/optuna/study/_optimize.py\", line 200, in _run_trial\n",
      "    value_or_values = func(trial)\n",
      "  File \"/tmp/ipykernel_22119/4273198217.py\", line 15, in objective_fun\n",
      "    cnn = build_and_fit_cnn(X=X_train_v,\n",
      "  File \"/tmp/ipykernel_22119/2256047732.py\", line 28, in build_and_fit_cnn\n",
      "    model.add(Conv1D(filters=filters, kernel_size=kernel_size, activation='relu', name=f\"extra_conv_{i}\"))\n",
      "  File \"/home/djanloo/.local/share/virtualenvs/DM2-PeqFRmfa/lib/python3.10/site-packages/tensorflow/python/trackable/base.py\", line 205, in _method_wrapper\n",
      "    result = method(self, *args, **kwargs)\n",
      "  File \"/home/djanloo/.local/share/virtualenvs/DM2-PeqFRmfa/lib/python3.10/site-packages/keras/utils/traceback_utils.py\", line 70, in error_handler\n",
      "    raise e.with_traceback(filtered_tb) from None\n",
      "  File \"/home/djanloo/.local/share/virtualenvs/DM2-PeqFRmfa/lib/python3.10/site-packages/keras/layers/convolutional/base_conv.py\", line 354, in compute_output_shape\n",
      "    raise ValueError(\n",
      "ValueError: One of the dimensions in the output is <= 0 due to downsampling in extra_conv_0. Consider increasing the input size. Received input shape [None, 9, 12] which would produce output shape with a zero or negative value in a dimension.\n",
      "[W 2023-06-26 12:35:47,123] Trial 139 failed with value None.\n"
     ]
    },
    {
     "name": "stdout",
     "output_type": "stream",
     "text": [
      "Running little bitch having n_conv=3, dropout=0.0004903983873540407, hidden_nodes=86\n"
     ]
    },
    {
     "name": "stderr",
     "output_type": "stream",
     "text": [
      "[W 2023-06-26 12:35:47,468] Trial 140 failed with parameters: {'n_conv': 3, 'n_hidden': 3, 'hidden_nodes': 86, 'dropout': 0.0004903983873540407, 'filters': 12, 'kernel_size': 15, 'batch_size': 33, 'epochs': 25} because of the following error: ValueError('One of the dimensions in the output is <= 0 due to downsampling in extra_conv_0. Consider increasing the input size. Received input shape [None, 9, 12] which would produce output shape with a zero or negative value in a dimension.').\n",
      "Traceback (most recent call last):\n",
      "  File \"/home/djanloo/.local/share/virtualenvs/DM2-PeqFRmfa/lib/python3.10/site-packages/optuna/study/_optimize.py\", line 200, in _run_trial\n",
      "    value_or_values = func(trial)\n",
      "  File \"/tmp/ipykernel_22119/4273198217.py\", line 15, in objective_fun\n",
      "    cnn = build_and_fit_cnn(X=X_train_v,\n",
      "  File \"/tmp/ipykernel_22119/2256047732.py\", line 28, in build_and_fit_cnn\n",
      "    model.add(Conv1D(filters=filters, kernel_size=kernel_size, activation='relu', name=f\"extra_conv_{i}\"))\n",
      "  File \"/home/djanloo/.local/share/virtualenvs/DM2-PeqFRmfa/lib/python3.10/site-packages/tensorflow/python/trackable/base.py\", line 205, in _method_wrapper\n",
      "    result = method(self, *args, **kwargs)\n",
      "  File \"/home/djanloo/.local/share/virtualenvs/DM2-PeqFRmfa/lib/python3.10/site-packages/keras/utils/traceback_utils.py\", line 70, in error_handler\n",
      "    raise e.with_traceback(filtered_tb) from None\n",
      "  File \"/home/djanloo/.local/share/virtualenvs/DM2-PeqFRmfa/lib/python3.10/site-packages/keras/layers/convolutional/base_conv.py\", line 354, in compute_output_shape\n",
      "    raise ValueError(\n",
      "ValueError: One of the dimensions in the output is <= 0 due to downsampling in extra_conv_0. Consider increasing the input size. Received input shape [None, 9, 12] which would produce output shape with a zero or negative value in a dimension.\n",
      "[W 2023-06-26 12:35:47,484] Trial 140 failed with value None.\n"
     ]
    },
    {
     "name": "stdout",
     "output_type": "stream",
     "text": [
      "Running little bitch having n_conv=3, dropout=0.044258011754547216, hidden_nodes=88\n",
      "Running little bitch having n_conv=3, dropout=0.014640262267116538, hidden_nodes=95\n"
     ]
    },
    {
     "name": "stderr",
     "output_type": "stream",
     "text": [
      "[W 2023-06-26 12:35:47,861] Trial 141 failed with parameters: {'n_conv': 3, 'n_hidden': 3, 'hidden_nodes': 88, 'dropout': 0.044258011754547216, 'filters': 12, 'kernel_size': 15, 'batch_size': 34, 'epochs': 25} because of the following error: ValueError('One of the dimensions in the output is <= 0 due to downsampling in extra_conv_0. Consider increasing the input size. Received input shape [None, 9, 12] which would produce output shape with a zero or negative value in a dimension.').\n",
      "Traceback (most recent call last):\n",
      "  File \"/home/djanloo/.local/share/virtualenvs/DM2-PeqFRmfa/lib/python3.10/site-packages/optuna/study/_optimize.py\", line 200, in _run_trial\n",
      "    value_or_values = func(trial)\n",
      "  File \"/tmp/ipykernel_22119/4273198217.py\", line 15, in objective_fun\n",
      "    cnn = build_and_fit_cnn(X=X_train_v,\n",
      "  File \"/tmp/ipykernel_22119/2256047732.py\", line 28, in build_and_fit_cnn\n",
      "    model.add(Conv1D(filters=filters, kernel_size=kernel_size, activation='relu', name=f\"extra_conv_{i}\"))\n",
      "  File \"/home/djanloo/.local/share/virtualenvs/DM2-PeqFRmfa/lib/python3.10/site-packages/tensorflow/python/trackable/base.py\", line 205, in _method_wrapper\n",
      "    result = method(self, *args, **kwargs)\n",
      "  File \"/home/djanloo/.local/share/virtualenvs/DM2-PeqFRmfa/lib/python3.10/site-packages/keras/utils/traceback_utils.py\", line 70, in error_handler\n",
      "    raise e.with_traceback(filtered_tb) from None\n",
      "  File \"/home/djanloo/.local/share/virtualenvs/DM2-PeqFRmfa/lib/python3.10/site-packages/keras/layers/convolutional/base_conv.py\", line 354, in compute_output_shape\n",
      "    raise ValueError(\n",
      "ValueError: One of the dimensions in the output is <= 0 due to downsampling in extra_conv_0. Consider increasing the input size. Received input shape [None, 9, 12] which would produce output shape with a zero or negative value in a dimension.\n",
      "[W 2023-06-26 12:35:47,873] Trial 141 failed with value None.\n",
      "[W 2023-06-26 12:35:48,070] Trial 142 failed with parameters: {'n_conv': 3, 'n_hidden': 3, 'hidden_nodes': 95, 'dropout': 0.014640262267116538, 'filters': 12, 'kernel_size': 15, 'batch_size': 32, 'epochs': 24} because of the following error: ValueError('One of the dimensions in the output is <= 0 due to downsampling in extra_conv_0. Consider increasing the input size. Received input shape [None, 9, 12] which would produce output shape with a zero or negative value in a dimension.').\n",
      "Traceback (most recent call last):\n",
      "  File \"/home/djanloo/.local/share/virtualenvs/DM2-PeqFRmfa/lib/python3.10/site-packages/optuna/study/_optimize.py\", line 200, in _run_trial\n",
      "    value_or_values = func(trial)\n",
      "  File \"/tmp/ipykernel_22119/4273198217.py\", line 15, in objective_fun\n",
      "    cnn = build_and_fit_cnn(X=X_train_v,\n",
      "  File \"/tmp/ipykernel_22119/2256047732.py\", line 28, in build_and_fit_cnn\n",
      "    model.add(Conv1D(filters=filters, kernel_size=kernel_size, activation='relu', name=f\"extra_conv_{i}\"))\n",
      "  File \"/home/djanloo/.local/share/virtualenvs/DM2-PeqFRmfa/lib/python3.10/site-packages/tensorflow/python/trackable/base.py\", line 205, in _method_wrapper\n",
      "    result = method(self, *args, **kwargs)\n",
      "  File \"/home/djanloo/.local/share/virtualenvs/DM2-PeqFRmfa/lib/python3.10/site-packages/keras/utils/traceback_utils.py\", line 70, in error_handler\n",
      "    raise e.with_traceback(filtered_tb) from None\n",
      "  File \"/home/djanloo/.local/share/virtualenvs/DM2-PeqFRmfa/lib/python3.10/site-packages/keras/layers/convolutional/base_conv.py\", line 354, in compute_output_shape\n",
      "    raise ValueError(\n",
      "ValueError: One of the dimensions in the output is <= 0 due to downsampling in extra_conv_0. Consider increasing the input size. Received input shape [None, 9, 12] which would produce output shape with a zero or negative value in a dimension.\n",
      "[W 2023-06-26 12:35:48,085] Trial 142 failed with value None.\n"
     ]
    },
    {
     "name": "stdout",
     "output_type": "stream",
     "text": [
      "Running little bitch having n_conv=3, dropout=0.013036257803855034, hidden_nodes=81\n"
     ]
    },
    {
     "name": "stderr",
     "output_type": "stream",
     "text": [
      "[W 2023-06-26 12:35:48,477] Trial 143 failed with parameters: {'n_conv': 3, 'n_hidden': 3, 'hidden_nodes': 81, 'dropout': 0.013036257803855034, 'filters': 12, 'kernel_size': 15, 'batch_size': 32, 'epochs': 25} because of the following error: ValueError('One of the dimensions in the output is <= 0 due to downsampling in extra_conv_0. Consider increasing the input size. Received input shape [None, 9, 12] which would produce output shape with a zero or negative value in a dimension.').\n",
      "Traceback (most recent call last):\n",
      "  File \"/home/djanloo/.local/share/virtualenvs/DM2-PeqFRmfa/lib/python3.10/site-packages/optuna/study/_optimize.py\", line 200, in _run_trial\n",
      "    value_or_values = func(trial)\n",
      "  File \"/tmp/ipykernel_22119/4273198217.py\", line 15, in objective_fun\n",
      "    cnn = build_and_fit_cnn(X=X_train_v,\n",
      "  File \"/tmp/ipykernel_22119/2256047732.py\", line 28, in build_and_fit_cnn\n",
      "    model.add(Conv1D(filters=filters, kernel_size=kernel_size, activation='relu', name=f\"extra_conv_{i}\"))\n",
      "  File \"/home/djanloo/.local/share/virtualenvs/DM2-PeqFRmfa/lib/python3.10/site-packages/tensorflow/python/trackable/base.py\", line 205, in _method_wrapper\n",
      "    result = method(self, *args, **kwargs)\n",
      "  File \"/home/djanloo/.local/share/virtualenvs/DM2-PeqFRmfa/lib/python3.10/site-packages/keras/utils/traceback_utils.py\", line 70, in error_handler\n",
      "    raise e.with_traceback(filtered_tb) from None\n",
      "  File \"/home/djanloo/.local/share/virtualenvs/DM2-PeqFRmfa/lib/python3.10/site-packages/keras/layers/convolutional/base_conv.py\", line 354, in compute_output_shape\n",
      "    raise ValueError(\n",
      "ValueError: One of the dimensions in the output is <= 0 due to downsampling in extra_conv_0. Consider increasing the input size. Received input shape [None, 9, 12] which would produce output shape with a zero or negative value in a dimension.\n",
      "[W 2023-06-26 12:35:48,486] Trial 143 failed with value None.\n"
     ]
    },
    {
     "name": "stdout",
     "output_type": "stream",
     "text": [
      "Running little bitch having n_conv=3, dropout=0.033453093446653925, hidden_nodes=88\n"
     ]
    },
    {
     "name": "stderr",
     "output_type": "stream",
     "text": [
      "[W 2023-06-26 12:35:48,714] Trial 144 failed with parameters: {'n_conv': 3, 'n_hidden': 3, 'hidden_nodes': 88, 'dropout': 0.033453093446653925, 'filters': 12, 'kernel_size': 15, 'batch_size': 36, 'epochs': 25} because of the following error: ValueError('One of the dimensions in the output is <= 0 due to downsampling in extra_conv_0. Consider increasing the input size. Received input shape [None, 9, 12] which would produce output shape with a zero or negative value in a dimension.').\n",
      "Traceback (most recent call last):\n",
      "  File \"/home/djanloo/.local/share/virtualenvs/DM2-PeqFRmfa/lib/python3.10/site-packages/optuna/study/_optimize.py\", line 200, in _run_trial\n",
      "    value_or_values = func(trial)\n",
      "  File \"/tmp/ipykernel_22119/4273198217.py\", line 15, in objective_fun\n",
      "    cnn = build_and_fit_cnn(X=X_train_v,\n",
      "  File \"/tmp/ipykernel_22119/2256047732.py\", line 28, in build_and_fit_cnn\n",
      "    model.add(Conv1D(filters=filters, kernel_size=kernel_size, activation='relu', name=f\"extra_conv_{i}\"))\n",
      "  File \"/home/djanloo/.local/share/virtualenvs/DM2-PeqFRmfa/lib/python3.10/site-packages/tensorflow/python/trackable/base.py\", line 205, in _method_wrapper\n",
      "    result = method(self, *args, **kwargs)\n",
      "  File \"/home/djanloo/.local/share/virtualenvs/DM2-PeqFRmfa/lib/python3.10/site-packages/keras/utils/traceback_utils.py\", line 70, in error_handler\n",
      "    raise e.with_traceback(filtered_tb) from None\n",
      "  File \"/home/djanloo/.local/share/virtualenvs/DM2-PeqFRmfa/lib/python3.10/site-packages/keras/layers/convolutional/base_conv.py\", line 354, in compute_output_shape\n",
      "    raise ValueError(\n",
      "ValueError: One of the dimensions in the output is <= 0 due to downsampling in extra_conv_0. Consider increasing the input size. Received input shape [None, 9, 12] which would produce output shape with a zero or negative value in a dimension.\n",
      "[W 2023-06-26 12:35:48,737] Trial 144 failed with value None.\n"
     ]
    },
    {
     "name": "stdout",
     "output_type": "stream",
     "text": [
      "Running little bitch having n_conv=3, dropout=0.07117207967576175, hidden_nodes=86\n",
      "Running little bitch having n_conv=3, dropout=0.033361450280502414, hidden_nodes=84\n"
     ]
    },
    {
     "name": "stderr",
     "output_type": "stream",
     "text": [
      "[W 2023-06-26 12:35:49,222] Trial 146 failed with parameters: {'n_conv': 3, 'n_hidden': 3, 'hidden_nodes': 84, 'dropout': 0.033361450280502414, 'filters': 13, 'kernel_size': 15, 'batch_size': 34, 'epochs': 25} because of the following error: ValueError('One of the dimensions in the output is <= 0 due to downsampling in extra_conv_0. Consider increasing the input size. Received input shape [None, 9, 13] which would produce output shape with a zero or negative value in a dimension.').\n",
      "Traceback (most recent call last):\n",
      "  File \"/home/djanloo/.local/share/virtualenvs/DM2-PeqFRmfa/lib/python3.10/site-packages/optuna/study/_optimize.py\", line 200, in _run_trial\n",
      "    value_or_values = func(trial)\n",
      "  File \"/tmp/ipykernel_22119/4273198217.py\", line 15, in objective_fun\n",
      "    cnn = build_and_fit_cnn(X=X_train_v,\n",
      "  File \"/tmp/ipykernel_22119/2256047732.py\", line 28, in build_and_fit_cnn\n",
      "    model.add(Conv1D(filters=filters, kernel_size=kernel_size, activation='relu', name=f\"extra_conv_{i}\"))\n",
      "  File \"/home/djanloo/.local/share/virtualenvs/DM2-PeqFRmfa/lib/python3.10/site-packages/tensorflow/python/trackable/base.py\", line 205, in _method_wrapper\n",
      "    result = method(self, *args, **kwargs)\n",
      "  File \"/home/djanloo/.local/share/virtualenvs/DM2-PeqFRmfa/lib/python3.10/site-packages/keras/utils/traceback_utils.py\", line 70, in error_handler\n",
      "    raise e.with_traceback(filtered_tb) from None\n",
      "  File \"/home/djanloo/.local/share/virtualenvs/DM2-PeqFRmfa/lib/python3.10/site-packages/keras/layers/convolutional/base_conv.py\", line 354, in compute_output_shape\n",
      "    raise ValueError(\n",
      "ValueError: One of the dimensions in the output is <= 0 due to downsampling in extra_conv_0. Consider increasing the input size. Received input shape [None, 9, 13] which would produce output shape with a zero or negative value in a dimension.\n",
      "[W 2023-06-26 12:35:49,241] Trial 146 failed with value None.\n",
      "[W 2023-06-26 12:35:49,368] Trial 145 failed with parameters: {'n_conv': 3, 'n_hidden': 3, 'hidden_nodes': 86, 'dropout': 0.07117207967576175, 'filters': 13, 'kernel_size': 15, 'batch_size': 33, 'epochs': 24} because of the following error: ValueError('One of the dimensions in the output is <= 0 due to downsampling in extra_conv_0. Consider increasing the input size. Received input shape [None, 9, 13] which would produce output shape with a zero or negative value in a dimension.').\n",
      "Traceback (most recent call last):\n",
      "  File \"/home/djanloo/.local/share/virtualenvs/DM2-PeqFRmfa/lib/python3.10/site-packages/optuna/study/_optimize.py\", line 200, in _run_trial\n",
      "    value_or_values = func(trial)\n",
      "  File \"/tmp/ipykernel_22119/4273198217.py\", line 15, in objective_fun\n",
      "    cnn = build_and_fit_cnn(X=X_train_v,\n",
      "  File \"/tmp/ipykernel_22119/2256047732.py\", line 28, in build_and_fit_cnn\n",
      "    model.add(Conv1D(filters=filters, kernel_size=kernel_size, activation='relu', name=f\"extra_conv_{i}\"))\n",
      "  File \"/home/djanloo/.local/share/virtualenvs/DM2-PeqFRmfa/lib/python3.10/site-packages/tensorflow/python/trackable/base.py\", line 205, in _method_wrapper\n",
      "    result = method(self, *args, **kwargs)\n",
      "  File \"/home/djanloo/.local/share/virtualenvs/DM2-PeqFRmfa/lib/python3.10/site-packages/keras/utils/traceback_utils.py\", line 70, in error_handler\n",
      "    raise e.with_traceback(filtered_tb) from None\n",
      "  File \"/home/djanloo/.local/share/virtualenvs/DM2-PeqFRmfa/lib/python3.10/site-packages/keras/layers/convolutional/base_conv.py\", line 354, in compute_output_shape\n",
      "    raise ValueError(\n",
      "ValueError: One of the dimensions in the output is <= 0 due to downsampling in extra_conv_0. Consider increasing the input size. Received input shape [None, 9, 13] which would produce output shape with a zero or negative value in a dimension.\n",
      "[W 2023-06-26 12:35:49,391] Trial 145 failed with value None.\n"
     ]
    },
    {
     "name": "stdout",
     "output_type": "stream",
     "text": [
      "Running little bitch having n_conv=3, dropout=0.04239633527729347, hidden_nodes=77\n"
     ]
    },
    {
     "name": "stderr",
     "output_type": "stream",
     "text": [
      "[W 2023-06-26 12:35:49,755] Trial 147 failed with parameters: {'n_conv': 3, 'n_hidden': 3, 'hidden_nodes': 77, 'dropout': 0.04239633527729347, 'filters': 12, 'kernel_size': 15, 'batch_size': 33, 'epochs': 24} because of the following error: ValueError('One of the dimensions in the output is <= 0 due to downsampling in extra_conv_0. Consider increasing the input size. Received input shape [None, 9, 12] which would produce output shape with a zero or negative value in a dimension.').\n",
      "Traceback (most recent call last):\n",
      "  File \"/home/djanloo/.local/share/virtualenvs/DM2-PeqFRmfa/lib/python3.10/site-packages/optuna/study/_optimize.py\", line 200, in _run_trial\n",
      "    value_or_values = func(trial)\n",
      "  File \"/tmp/ipykernel_22119/4273198217.py\", line 15, in objective_fun\n",
      "    cnn = build_and_fit_cnn(X=X_train_v,\n",
      "  File \"/tmp/ipykernel_22119/2256047732.py\", line 28, in build_and_fit_cnn\n",
      "    model.add(Conv1D(filters=filters, kernel_size=kernel_size, activation='relu', name=f\"extra_conv_{i}\"))\n",
      "  File \"/home/djanloo/.local/share/virtualenvs/DM2-PeqFRmfa/lib/python3.10/site-packages/tensorflow/python/trackable/base.py\", line 205, in _method_wrapper\n",
      "    result = method(self, *args, **kwargs)\n",
      "  File \"/home/djanloo/.local/share/virtualenvs/DM2-PeqFRmfa/lib/python3.10/site-packages/keras/utils/traceback_utils.py\", line 70, in error_handler\n",
      "    raise e.with_traceback(filtered_tb) from None\n",
      "  File \"/home/djanloo/.local/share/virtualenvs/DM2-PeqFRmfa/lib/python3.10/site-packages/keras/layers/convolutional/base_conv.py\", line 354, in compute_output_shape\n",
      "    raise ValueError(\n",
      "ValueError: One of the dimensions in the output is <= 0 due to downsampling in extra_conv_0. Consider increasing the input size. Received input shape [None, 9, 12] which would produce output shape with a zero or negative value in a dimension.\n",
      "[W 2023-06-26 12:35:49,785] Trial 147 failed with value None.\n"
     ]
    },
    {
     "name": "stdout",
     "output_type": "stream",
     "text": [
      "Running little bitch having n_conv=3, dropout=0.034027399103017136, hidden_nodes=83\n"
     ]
    },
    {
     "name": "stderr",
     "output_type": "stream",
     "text": [
      "[W 2023-06-26 12:35:50,219] Trial 148 failed with parameters: {'n_conv': 3, 'n_hidden': 3, 'hidden_nodes': 83, 'dropout': 0.034027399103017136, 'filters': 12, 'kernel_size': 15, 'batch_size': 32, 'epochs': 25} because of the following error: ValueError('One of the dimensions in the output is <= 0 due to downsampling in extra_conv_0. Consider increasing the input size. Received input shape [None, 9, 12] which would produce output shape with a zero or negative value in a dimension.').\n",
      "Traceback (most recent call last):\n",
      "  File \"/home/djanloo/.local/share/virtualenvs/DM2-PeqFRmfa/lib/python3.10/site-packages/optuna/study/_optimize.py\", line 200, in _run_trial\n",
      "    value_or_values = func(trial)\n",
      "  File \"/tmp/ipykernel_22119/4273198217.py\", line 15, in objective_fun\n",
      "    cnn = build_and_fit_cnn(X=X_train_v,\n",
      "  File \"/tmp/ipykernel_22119/2256047732.py\", line 28, in build_and_fit_cnn\n",
      "    model.add(Conv1D(filters=filters, kernel_size=kernel_size, activation='relu', name=f\"extra_conv_{i}\"))\n",
      "  File \"/home/djanloo/.local/share/virtualenvs/DM2-PeqFRmfa/lib/python3.10/site-packages/tensorflow/python/trackable/base.py\", line 205, in _method_wrapper\n",
      "    result = method(self, *args, **kwargs)\n",
      "  File \"/home/djanloo/.local/share/virtualenvs/DM2-PeqFRmfa/lib/python3.10/site-packages/keras/utils/traceback_utils.py\", line 70, in error_handler\n",
      "    raise e.with_traceback(filtered_tb) from None\n",
      "  File \"/home/djanloo/.local/share/virtualenvs/DM2-PeqFRmfa/lib/python3.10/site-packages/keras/layers/convolutional/base_conv.py\", line 354, in compute_output_shape\n",
      "    raise ValueError(\n",
      "ValueError: One of the dimensions in the output is <= 0 due to downsampling in extra_conv_0. Consider increasing the input size. Received input shape [None, 9, 12] which would produce output shape with a zero or negative value in a dimension.\n",
      "[W 2023-06-26 12:35:50,229] Trial 148 failed with value None.\n"
     ]
    },
    {
     "name": "stdout",
     "output_type": "stream",
     "text": [
      "Running little bitch having n_conv=3, dropout=0.0741120653143085, hidden_nodes=87\n"
     ]
    },
    {
     "name": "stderr",
     "output_type": "stream",
     "text": [
      "[W 2023-06-26 12:35:50,385] Trial 149 failed with parameters: {'n_conv': 3, 'n_hidden': 3, 'hidden_nodes': 87, 'dropout': 0.0741120653143085, 'filters': 12, 'kernel_size': 13, 'batch_size': 34, 'epochs': 24} because of the following error: ValueError('One of the dimensions in the output is <= 0 due to downsampling in extra_conv_0. Consider increasing the input size. Received input shape [None, 11, 12] which would produce output shape with a zero or negative value in a dimension.').\n",
      "Traceback (most recent call last):\n",
      "  File \"/home/djanloo/.local/share/virtualenvs/DM2-PeqFRmfa/lib/python3.10/site-packages/optuna/study/_optimize.py\", line 200, in _run_trial\n",
      "    value_or_values = func(trial)\n",
      "  File \"/tmp/ipykernel_22119/4273198217.py\", line 15, in objective_fun\n",
      "    cnn = build_and_fit_cnn(X=X_train_v,\n",
      "  File \"/tmp/ipykernel_22119/2256047732.py\", line 28, in build_and_fit_cnn\n",
      "    model.add(Conv1D(filters=filters, kernel_size=kernel_size, activation='relu', name=f\"extra_conv_{i}\"))\n",
      "  File \"/home/djanloo/.local/share/virtualenvs/DM2-PeqFRmfa/lib/python3.10/site-packages/tensorflow/python/trackable/base.py\", line 205, in _method_wrapper\n",
      "    result = method(self, *args, **kwargs)\n",
      "  File \"/home/djanloo/.local/share/virtualenvs/DM2-PeqFRmfa/lib/python3.10/site-packages/keras/utils/traceback_utils.py\", line 70, in error_handler\n",
      "    raise e.with_traceback(filtered_tb) from None\n",
      "  File \"/home/djanloo/.local/share/virtualenvs/DM2-PeqFRmfa/lib/python3.10/site-packages/keras/layers/convolutional/base_conv.py\", line 354, in compute_output_shape\n",
      "    raise ValueError(\n",
      "ValueError: One of the dimensions in the output is <= 0 due to downsampling in extra_conv_0. Consider increasing the input size. Received input shape [None, 11, 12] which would produce output shape with a zero or negative value in a dimension.\n",
      "[W 2023-06-26 12:35:50,388] Trial 149 failed with value None.\n"
     ]
    },
    {
     "name": "stdout",
     "output_type": "stream",
     "text": [
      "12/12 [==============================] - 1s 9ms/step\n"
     ]
    },
    {
     "name": "stderr",
     "output_type": "stream",
     "text": [
      "[I 2023-06-26 12:35:57,828] Trial 15 finished with value: 0.7404371584699454 and parameters: {'n_conv': 2, 'n_hidden': 3, 'hidden_nodes': 54, 'dropout': 0.982671850227596, 'filters': 13, 'kernel_size': 4, 'batch_size': 20, 'epochs': 69}. Best is trial 14 with value: 0.9836065573770492.\n"
     ]
    },
    {
     "name": "stdout",
     "output_type": "stream",
     "text": [
      "12/12 [==============================] - 0s 4ms/step\n"
     ]
    },
    {
     "name": "stderr",
     "output_type": "stream",
     "text": [
      "[I 2023-06-26 12:36:00,854] Trial 17 finished with value: 0.953551912568306 and parameters: {'n_conv': 3, 'n_hidden': 1, 'hidden_nodes': 24, 'dropout': 0.3533578662840742, 'filters': 16, 'kernel_size': 2, 'batch_size': 28, 'epochs': 62}. Best is trial 14 with value: 0.9836065573770492.\n"
     ]
    }
   ],
   "source": [
    "# objective function to be minimized\n",
    "def objective_fun(trial):\n",
    "\n",
    "    n_conv = trial.suggest_int('n_conv', 0, 3)\n",
    "    n_hidden = trial.suggest_int('n_hidden', 0, 3)\n",
    "    hidden_nodes = trial.suggest_int('hidden_nodes', 8, 256)\n",
    "    dropout = trial.suggest_float('dropout', 0, 1)\n",
    "    filters = trial.suggest_int('filters', 2, 16)\n",
    "    kernel_size = trial.suggest_int('kernel_size', 2, 16)\n",
    "    batch_size = trial.suggest_int('batch_size', 16, 64)\n",
    "    epochs = trial.suggest_int('epochs', 5, 90)\n",
    "    \n",
    "    print(f\"Running little bitch having n_conv={n_conv}, dropout={dropout}, hidden_nodes={hidden_nodes}\")\n",
    "    \n",
    "    cnn = build_and_fit_cnn(X=X_train_v,\n",
    "                            y=y_train_v,\n",
    "                            n_hidden=n_hidden,\n",
    "                            hidden_nodes=hidden_nodes,\n",
    "                            n_conv=n_conv,\n",
    "                            dropout=dropout,\n",
    "                            filters=filters,\n",
    "                            kernel_size=kernel_size,\n",
    "                            batch_size=batch_size,\n",
    "                            epochs=epochs,\n",
    "                            verbose=False\n",
    "                           )\n",
    "\n",
    "    y_pred = np.argmax(cnn.predict(X_valid), axis=1)\n",
    "\n",
    "    error = accuracy_score(y_valid, y_pred)\n",
    "\n",
    "    return error\n",
    "\n",
    "\n",
    "study = optuna.create_study(direction='maximize')\n",
    "study.optimize(objective_fun, n_trials=150, n_jobs=-1, catch=ValueError)"
   ]
  },
  {
   "cell_type": "code",
   "execution_count": 13,
   "metadata": {
    "ExecuteTime": {
     "end_time": "2023-06-25T16:51:44.670744Z",
     "start_time": "2023-06-25T16:51:44.667917Z"
    }
   },
   "outputs": [
    {
     "data": {
      "text/plain": [
       "{'n_conv': 0,\n",
       " 'n_hidden': 0,\n",
       " 'hidden_nodes': 62,\n",
       " 'dropout': 0.15107627552047387,\n",
       " 'filters': 12,\n",
       " 'kernel_size': 10,\n",
       " 'batch_size': 16,\n",
       " 'epochs': 21}"
      ]
     },
     "execution_count": 13,
     "metadata": {},
     "output_type": "execute_result"
    }
   ],
   "source": [
    "best_params = study.best_params\n",
    "best_params"
   ]
  },
  {
   "cell_type": "code",
   "execution_count": 14,
   "metadata": {
    "ExecuteTime": {
     "end_time": "2023-06-25T16:51:51.439577Z",
     "start_time": "2023-06-25T16:51:44.672475Z"
    }
   },
   "outputs": [
    {
     "name": "stdout",
     "output_type": "stream",
     "text": [
      "Model: \"sequential_1\"\n",
      "_________________________________________________________________\n",
      " Layer (type)                Output Shape              Param #   \n",
      "=================================================================\n",
      " base_conv (Conv1D)          (None, 14, 12)            2772      \n",
      "                                                                 \n",
      " batch_normalization_3 (Batc  (None, 14, 12)           48        \n",
      " hNormalization)                                                 \n",
      "                                                                 \n",
      " activation_3 (Activation)   (None, 14, 12)            0         \n",
      "                                                                 \n",
      " global_average_pooling1d_1   (None, 12)               0         \n",
      " (GlobalAveragePooling1D)                                        \n",
      "                                                                 \n",
      " dense_4 (Dense)             (None, 2)                 26        \n",
      "                                                                 \n",
      "=================================================================\n",
      "Total params: 2,846\n",
      "Trainable params: 2,822\n",
      "Non-trainable params: 24\n",
      "_________________________________________________________________\n"
     ]
    }
   ],
   "source": [
    "cnn = build_and_fit_cnn(**best_params)\n",
    "cnn.summary()"
   ]
  },
  {
   "cell_type": "code",
   "execution_count": 15,
   "metadata": {
    "ExecuteTime": {
     "end_time": "2023-06-25T16:51:51.525838Z",
     "start_time": "2023-06-25T16:51:51.446069Z"
    }
   },
   "outputs": [
    {
     "name": "stdout",
     "output_type": "stream",
     "text": [
      "20/20 [==============================] - 0s 3ms/step\n",
      "Accuracy 0.9791666666666666\n",
      "F1-score [0.97899838 0.97933227]\n",
      "              precision    recall  f1-score   support\n",
      "\n",
      "           0       0.99      0.97      0.98       312\n",
      "           1       0.97      0.99      0.98       312\n",
      "\n",
      "    accuracy                           0.98       624\n",
      "   macro avg       0.98      0.98      0.98       624\n",
      "weighted avg       0.98      0.98      0.98       624\n",
      "\n"
     ]
    }
   ],
   "source": [
    "from sklearn.metrics import f1_score, classification_report\n",
    "\n",
    "y_pred = np.argmax(cnn.predict(X_test), axis=1)\n",
    "\n",
    "print('Accuracy %s' % accuracy_score(y_test, y_pred))\n",
    "print('F1-score %s' % f1_score(y_test, y_pred, average=None))\n",
    "print(classification_report(y_test, y_pred))"
   ]
  },
  {
   "cell_type": "code",
   "execution_count": null,
   "metadata": {},
   "outputs": [],
   "source": []
  }
 ],
 "metadata": {
  "kernelspec": {
   "display_name": "DM2",
   "language": "python",
   "name": "dm2"
  },
  "language_info": {
   "codemirror_mode": {
    "name": "ipython",
    "version": 3
   },
   "file_extension": ".py",
   "mimetype": "text/x-python",
   "name": "python",
   "nbconvert_exporter": "python",
   "pygments_lexer": "ipython3",
   "version": "3.10.6"
  }
 },
 "nbformat": 4,
 "nbformat_minor": 1
}
