{
 "cells": [
  {
   "cell_type": "code",
   "execution_count": 1,
   "id": "e834b2ca",
   "metadata": {},
   "outputs": [],
   "source": [
    "import os\n",
    "import numpy as np\n",
    "import pandas as pd\n",
    "import matplotlib.pyplot as plt\n",
    "import seaborn as sns; sns.set()\n",
    "\n",
    "import librosa\n",
    "from tqdm import tqdm\n",
    "from IPython.display import Audio\n",
    "from pandas.api.types import is_numeric_dtype\n",
    "\n",
    "import sys\n",
    "sys.path.append('../')\n",
    "import default_style\n",
    "\n",
    "TS_DATASET_FOLDER = os.path.join(\"..\", \"dataset\")\n",
    "TS_PREPROC_FOLDER = os.path.join(TS_DATASET_FOLDER, \"preprocessed_traces\")\n",
    "DF_PREPROC_FILE = os.path.join(TS_PREPROC_FOLDER, \"preproc_ts.df\")\n",
    "\n",
    "INTERESTING_TRACES = [\"clean_trace\"]\n",
    "\n",
    "\n",
    "df = pd.read_csv(DF_PREPROC_FILE)\n",
    "traces = dict()\n",
    "for t in INTERESTING_TRACES:\n",
    "    traces[t] = np.load(os.path.join(TS_PREPROC_FOLDER, f\"{t}.npy\"), allow_pickle=True)\n",
    "\n",
    "# traces[\"syll_labels\"] = np.repeat(np.arange(7), len(traces[\"syllables_fourier\"])//7)\n",
    "# print(traces[\"syll_labels\"].shape)\n",
    "\n",
    "SAMPLING_RATE = 48_000/8\n",
    "\n",
    "%load_ext autoreload\n",
    "%autoreload 2"
   ]
  },
  {
   "cell_type": "markdown",
   "id": "2952f5d9",
   "metadata": {},
   "source": [
    "## Define a model"
   ]
  },
  {
   "cell_type": "code",
   "execution_count": 2,
   "id": "4c2fe3f3",
   "metadata": {},
   "outputs": [
    {
     "name": "stderr",
     "output_type": "stream",
     "text": [
      "2023-07-02 12:58:00.138920: I tensorflow/tsl/cuda/cudart_stub.cc:28] Could not find cuda drivers on your machine, GPU will not be used.\n",
      "2023-07-02 12:58:00.273433: I tensorflow/tsl/cuda/cudart_stub.cc:28] Could not find cuda drivers on your machine, GPU will not be used.\n",
      "2023-07-02 12:58:00.276582: I tensorflow/core/platform/cpu_feature_guard.cc:182] This TensorFlow binary is optimized to use available CPU instructions in performance-critical operations.\n",
      "To enable the following instructions: AVX2 FMA, in other operations, rebuild TensorFlow with the appropriate compiler flags.\n",
      "2023-07-02 12:58:01.989807: W tensorflow/compiler/tf2tensorrt/utils/py_utils.cc:38] TF-TRT Warning: Could not find TensorRT\n"
     ]
    }
   ],
   "source": [
    "from keras.layers import Conv1D, Dense, Flatten, AveragePooling1D\n",
    "from keras.models import Sequential\n",
    "\n",
    "# Use different conv layers\n",
    "def build_model(input_shape, n_categories,\n",
    "                \n",
    "                # Convolution parameters\n",
    "                conv_filter_sizes = [16, 8],\n",
    "                conv_kernel_sizes = [5, 3],\n",
    "                conv_pool_sizes = [2, None],\n",
    "                \n",
    "                # Dense parameters\n",
    "                n_dense_layers=2,\n",
    "                dense_nodes=256,\n",
    "                **kwargs):\n",
    "    \n",
    "    n_conv_blocks = len(conv_filter_sizes)\n",
    "\n",
    "    model = Sequential()\n",
    "    \n",
    "    # Conv1d + temporal average pooling\n",
    "    for block_id in range(n_conv_blocks):\n",
    "        conv = Conv1D(conv_filter_sizes[block_id], conv_kernel_sizes[block_id], \n",
    "                      input_shape=input_shape,\n",
    "                      activation=\"relu\", \n",
    "                      name=f\"conv_{block_id}\",\n",
    "#                         padding=\"valid\"\n",
    "                     )\n",
    "        \n",
    "        \n",
    "        model.add(conv)\n",
    "        if block_id < n_conv_blocks - 1:\n",
    "            pool = AveragePooling1D(pool_size=conv_pool_sizes[block_id], name=f\"avg_pooling_{block_id}\")\n",
    "            model.add(pool)\n",
    "            \n",
    "    # Flattens stuff :3\n",
    "    model.add(Flatten())\n",
    "    \n",
    "    # A good dose of Dense layers never hurted anybody\n",
    "    for block_id in range(n_dense_layers):\n",
    "        model.add(Dense(dense_nodes, \n",
    "                        activation=\"relu\", \n",
    "                        name=f\"dense_{block_id}\"))\n",
    "    \n",
    "    # Let the garbage out\n",
    "    model.add(Dense(n_categories, \n",
    "                    activation=\"softmax\",\n",
    "                    name=\"output\"))\n",
    "    \n",
    "    model.compile(optimizer=\"adam\", \n",
    "                  loss=\"sparse_categorical_crossentropy\", \n",
    "                  metrics=['accuracy'])\n",
    "    return model"
   ]
  },
  {
   "cell_type": "markdown",
   "id": "6e3d6c60",
   "metadata": {},
   "source": [
    "## Tuning (for prediction of almost all categories)"
   ]
  },
  {
   "cell_type": "markdown",
   "id": "f66a6e5f",
   "metadata": {},
   "source": [
    "### Prepare the different resolutions"
   ]
  },
  {
   "cell_type": "code",
   "execution_count": 3,
   "id": "1b1e7b09",
   "metadata": {},
   "outputs": [
    {
     "name": "stderr",
     "output_type": "stream",
     "text": [
      "100%|████████████████████████████████████████████████████████████████████████████████████████████████████████████| 2452/2452 [00:11<00:00, 217.96it/s]\n",
      "100%|████████████████████████████████████████████████████████████████████████████████████████████████████████████| 2452/2452 [00:07<00:00, 315.57it/s]\n",
      "100%|████████████████████████████████████████████████████████████████████████████████████████████████████████████| 2452/2452 [00:05<00:00, 430.57it/s]\n",
      "100%|████████████████████████████████████████████████████████████████████████████████████████████████████████████| 2452/2452 [00:11<00:00, 215.66it/s]\n"
     ]
    }
   ],
   "source": [
    "# In the tuning the spectral resolution is optimized too\n",
    "from djanloo_fourier import FixedResolutionSTFTransformer\n",
    "from tensorflow.keras.preprocessing.sequence import pad_sequences\n",
    "\n",
    "STFT_dict = dict()\n",
    "possible_resolutions = [90, 100, 110, 115]\n",
    "for res in possible_resolutions:\n",
    "    ## Really gets the dataset of STFTs\n",
    "    fixedtr = FixedResolutionSTFTransformer(n_spectral_points=res,\n",
    "                                            pad_spectra=False,\n",
    "                                            verbose=True)\n",
    "    \n",
    "    # Gets STFTs\n",
    "    STFTs = fixedtr.transform(traces[\"clean_trace\"])\n",
    "    STFT_dict[res] = pad_sequences(STFTs)"
   ]
  },
  {
   "cell_type": "code",
   "execution_count": 4,
   "id": "914e11ed",
   "metadata": {},
   "outputs": [],
   "source": [
    "from sklearn.preprocessing import LabelEncoder\n",
    "\n",
    "# Gets labels\n",
    "enc = LabelEncoder()\n",
    "labels = np.array([f\"{s}{e}{vc}\" for s,e,vc in zip(df.sex, df.emotion, df.vocal_channel)])\n",
    "y = enc.fit_transform(labels)"
   ]
  },
  {
   "cell_type": "markdown",
   "id": "36ac9cfe",
   "metadata": {},
   "source": [
    "### Define the objective function to maximise"
   ]
  },
  {
   "cell_type": "code",
   "execution_count": 5,
   "id": "425eba53",
   "metadata": {},
   "outputs": [],
   "source": [
    "from sklearn.preprocessing import LabelEncoder\n",
    "from sklearn.metrics import accuracy_score\n",
    "\n",
    "def objective(trial, train_idxs, val_idxs):\n",
    "    global y, possible_resolutions\n",
    "    \n",
    "    epochs=trial.suggest_int('epochs',15,40)\n",
    "    \n",
    "    # Gets the data\n",
    "    X = STFT_dict[trial.suggest_categorical(\"resolution\", choices=possible_resolutions)]\n",
    "    \n",
    "    # Builds the convolutional parameters\n",
    "    n_conv_blocks = trial.suggest_int('n_conv_blocks', 1, 3)\n",
    "    filter_sizes, kernel_sizes, pool_sizes = [], [], []  \n",
    "    for block_id in range(n_conv_blocks):\n",
    "        filter_sizes.append(trial.suggest_int(f'filters_{block_id}', 2, 16))\n",
    "        kernel_sizes.append(trial.suggest_int(f'kernels_{block_id}', 3, 9))\n",
    "        pool_sizes.append(trial.suggest_int(f'pool_{block_id}', 2, 8))\n",
    "\n",
    "    \n",
    "    ## Concerning the model ...\n",
    "    pars = dict(## Conv stuff \n",
    "                conv_filter_sizes=filter_sizes, \n",
    "                conv_kernel_sizes=kernel_sizes, \n",
    "                conv_pool_sizes=pool_sizes,\n",
    "                \n",
    "                ## Dense stuff\n",
    "                n_dense_layers=trial.suggest_int('n_dense_layers', 1, 3), \n",
    "                dense_nodes=trial.suggest_int('dense_nodes', 16, 512)\n",
    "               )\n",
    "    print(f\"running model having {pars} with SpRes = {fixedtr.n_spectral_points} for epochs = {epochs}\")\n",
    "    \n",
    "    model = build_model(X.shape[1:], len(np.unique(y)), **pars)\n",
    "    model.fit(\n",
    "                    X[train_idxs], y[train_idxs], \n",
    "                    epochs=epochs,\n",
    "                    batch_size=trial.suggest_int('batch_size', 16, 32),\n",
    "                    verbose=False\n",
    "                    )\n",
    "    \n",
    "    ## Estimate accuracy\n",
    "    y_pred = np.argmax(model.predict(X[val_idxs], verbose=False), axis=1)\n",
    "    acc = accuracy_score(y[val_idxs], y_pred)\n",
    "    \n",
    "    return acc"
   ]
  },
  {
   "cell_type": "code",
   "execution_count": 6,
   "id": "e46e9c93",
   "metadata": {},
   "outputs": [],
   "source": [
    "## Splits the dataset\n",
    "idxs = np.arange(len(df))\n",
    "np.random.shuffle(idxs)\n",
    "train_idxs, val_idxs, test_idxs = np.split(idxs, (len(df)*np.array([0.7, 0.8])).astype(int))"
   ]
  },
  {
   "cell_type": "code",
   "execution_count": 7,
   "id": "2094f569",
   "metadata": {},
   "outputs": [
    {
     "name": "stderr",
     "output_type": "stream",
     "text": [
      "[I 2023-07-02 12:58:42,352] A new study created in memory with name: no-name-118db4cf-ea09-4f5b-bf64-833340812565\n"
     ]
    },
    {
     "name": "stdout",
     "output_type": "stream",
     "text": [
      "running model having {'conv_filter_sizes': [11, 11], 'conv_kernel_sizes': [5, 7], 'conv_pool_sizes': [5, 7], 'n_dense_layers': 1, 'dense_nodes': 394} with SpRes = 115 for epochs = 23\n"
     ]
    },
    {
     "name": "stderr",
     "output_type": "stream",
     "text": [
      "2023-07-02 12:58:42.701960: W tensorflow/tsl/framework/cpu_allocator_impl.cc:83] Allocation of 207979200 exceeds 10% of free system memory.\n",
      "[I 2023-07-02 12:59:20,429] Trial 0 finished with value: 0.363265306122449 and parameters: {'epochs': 23, 'resolution': 100, 'n_conv_blocks': 2, 'filters_0': 11, 'kernels_0': 5, 'pool_0': 5, 'filters_1': 11, 'kernels_1': 7, 'pool_1': 7, 'n_dense_layers': 1, 'dense_nodes': 394, 'batch_size': 21}. Best is trial 0 with value: 0.363265306122449.\n"
     ]
    }
   ],
   "source": [
    "import optuna\n",
    "study = optuna.create_study(direction='maximize')\n",
    "trial_function = lambda trial: objective(trial, train_idxs, val_idxs)\n",
    "study.optimize(trial_function, n_trials=1, n_jobs=1, catch=ValueError)"
   ]
  },
  {
   "cell_type": "markdown",
   "id": "c7d3d5f8",
   "metadata": {},
   "source": [
    "## Results"
   ]
  },
  {
   "cell_type": "code",
   "execution_count": 8,
   "id": "84721277",
   "metadata": {},
   "outputs": [
    {
     "name": "stdout",
     "output_type": "stream",
     "text": [
      "for all-class best is {'epochs': 23, 'resolution': 100, 'n_conv_blocks': 2, 'filters_0': 11, 'kernels_0': 5, 'pool_0': 5, 'filters_1': 11, 'kernels_1': 7, 'pool_1': 7, 'n_dense_layers': 1, 'dense_nodes': 394, 'batch_size': 21, 'conv_filter_sizes': [11, 11], 'conv_kernel_sizes': [5, 7], 'conv_pool_sizes': [5, 7]}\n",
      "Model: \"sequential_1\"\n",
      "_________________________________________________________________\n",
      " Layer (type)                Output Shape              Param #   \n",
      "=================================================================\n",
      " conv_0 (Conv1D)             (None, 299, 11)           5511      \n",
      "                                                                 \n",
      " avg_pooling_0 (AveragePooli  (None, 59, 11)           0         \n",
      " ng1D)                                                           \n",
      "                                                                 \n",
      " conv_1 (Conv1D)             (None, 53, 11)            858       \n",
      "                                                                 \n",
      " flatten_1 (Flatten)         (None, 583)               0         \n",
      "                                                                 \n",
      " dense_0 (Dense)             (None, 394)               230096    \n",
      "                                                                 \n",
      " output (Dense)              (None, 28)                11060     \n",
      "                                                                 \n",
      "=================================================================\n",
      "Total params: 247,525\n",
      "Trainable params: 247,525\n",
      "Non-trainable params: 0\n",
      "_________________________________________________________________\n",
      "Epoch 1/23\n"
     ]
    },
    {
     "name": "stderr",
     "output_type": "stream",
     "text": [
      "2023-07-02 12:59:20.970407: W tensorflow/tsl/framework/cpu_allocator_impl.cc:83] Allocation of 237673200 exceeds 10% of free system memory.\n"
     ]
    },
    {
     "name": "stdout",
     "output_type": "stream",
     "text": [
      "94/94 [==============================] - 4s 27ms/step - loss: 2.6771 - accuracy: 0.2035\n",
      "Epoch 2/23\n",
      "94/94 [==============================] - 2s 26ms/step - loss: 1.9431 - accuracy: 0.3335\n",
      "Epoch 3/23\n",
      "94/94 [==============================] - 2s 22ms/step - loss: 1.6812 - accuracy: 0.4335\n",
      "Epoch 4/23\n",
      "94/94 [==============================] - 2s 21ms/step - loss: 1.5505 - accuracy: 0.4860\n",
      "Epoch 5/23\n",
      "94/94 [==============================] - 2s 22ms/step - loss: 1.3339 - accuracy: 0.5487\n",
      "Epoch 6/23\n",
      "94/94 [==============================] - 2s 22ms/step - loss: 1.1251 - accuracy: 0.6109\n",
      "Epoch 7/23\n",
      "94/94 [==============================] - 2s 22ms/step - loss: 0.9367 - accuracy: 0.6803\n",
      "Epoch 8/23\n",
      "94/94 [==============================] - 2s 21ms/step - loss: 0.7877 - accuracy: 0.7307\n",
      "Epoch 9/23\n",
      "94/94 [==============================] - 2s 21ms/step - loss: 0.6402 - accuracy: 0.7731\n",
      "Epoch 10/23\n",
      "94/94 [==============================] - 2s 21ms/step - loss: 0.5281 - accuracy: 0.8281\n",
      "Epoch 11/23\n",
      "94/94 [==============================] - 2s 20ms/step - loss: 0.4356 - accuracy: 0.8526\n",
      "Epoch 12/23\n",
      "94/94 [==============================] - 2s 20ms/step - loss: 0.3556 - accuracy: 0.8899\n",
      "Epoch 13/23\n",
      "94/94 [==============================] - 2s 21ms/step - loss: 0.2845 - accuracy: 0.9133\n",
      "Epoch 14/23\n",
      "94/94 [==============================] - 2s 21ms/step - loss: 0.1982 - accuracy: 0.9480\n",
      "Epoch 15/23\n",
      "94/94 [==============================] - 2s 21ms/step - loss: 0.2231 - accuracy: 0.9342\n",
      "Epoch 16/23\n",
      "94/94 [==============================] - 2s 23ms/step - loss: 0.1473 - accuracy: 0.9638\n",
      "Epoch 17/23\n",
      "94/94 [==============================] - 2s 22ms/step - loss: 0.1360 - accuracy: 0.9663\n",
      "Epoch 18/23\n",
      "94/94 [==============================] - 2s 22ms/step - loss: 0.1067 - accuracy: 0.9709\n",
      "Epoch 19/23\n",
      "94/94 [==============================] - 2s 23ms/step - loss: 0.0654 - accuracy: 0.9878\n",
      "Epoch 20/23\n",
      "94/94 [==============================] - 2s 23ms/step - loss: 0.0403 - accuracy: 0.9934\n",
      "Epoch 21/23\n",
      "94/94 [==============================] - 2s 24ms/step - loss: 0.0281 - accuracy: 0.9954\n",
      "Epoch 22/23\n",
      "94/94 [==============================] - 2s 21ms/step - loss: 0.0190 - accuracy: 0.9980\n",
      "Epoch 23/23\n",
      "94/94 [==============================] - 2s 21ms/step - loss: 0.0092 - accuracy: 1.0000\n"
     ]
    },
    {
     "data": {
      "text/plain": [
       "<keras.callbacks.History at 0x7f6fdcfebb80>"
      ]
     },
     "execution_count": 8,
     "metadata": {},
     "output_type": "execute_result"
    }
   ],
   "source": [
    "best_params_allclass = study.best_params.copy()\n",
    "\n",
    "# Retrieves best parameters form the dict and saves them as a list\n",
    "best_params_allclass[\"conv_filter_sizes\"] = []\n",
    "best_params_allclass[\"conv_kernel_sizes\"] = []\n",
    "best_params_allclass[\"conv_pool_sizes\"] = []\n",
    "\n",
    "for key in np.sort(list(study.best_params.keys())):\n",
    "    if \"filter\" in key:\n",
    "        best_params_allclass[\"conv_filter_sizes\"].append(study.best_params[key])\n",
    "    if \"kernel\" in key:\n",
    "        best_params_allclass[\"conv_kernel_sizes\"].append(study.best_params[key])\n",
    "    if \"pool\" in key:\n",
    "        best_params_allclass[\"conv_pool_sizes\"].append(study.best_params[key])\n",
    "\n",
    "print(\"for all-class best is\", best_params_allclass)\n",
    "        \n",
    "        \n",
    "        \n",
    "X = STFT_dict[best_params_allclass[\"resolution\"]]\n",
    "\n",
    "cnn = build_model(X.shape[1:], len(np.unique(y)), **best_params_allclass)\n",
    "cnn.summary()\n",
    "\n",
    "# Train on train+validation\n",
    "final_train_idxs = np.concatenate((train_idxs, val_idxs))\n",
    "\n",
    "cnn.fit(X[final_train_idxs], \n",
    "        y[final_train_idxs], \n",
    "        epochs=best_params_allclass[\"epochs\"], \n",
    "        batch_size=best_params_allclass[\"batch_size\"])"
   ]
  },
  {
   "cell_type": "code",
   "execution_count": 9,
   "id": "d77031ac",
   "metadata": {},
   "outputs": [
    {
     "name": "stdout",
     "output_type": "stream",
     "text": [
      "16/16 [==============================] - 0s 10ms/step\n",
      "0.4663951120162933\n"
     ]
    }
   ],
   "source": [
    "from sklearn.metrics import accuracy_score\n",
    "\n",
    "ypred = np.argmax(cnn.predict(X[test_idxs]), axis=1)\n",
    "\n",
    "print(accuracy_score(y[test_idxs], ypred))"
   ]
  },
  {
   "cell_type": "code",
   "execution_count": 10,
   "id": "3a722123",
   "metadata": {
    "scrolled": true
   },
   "outputs": [
    {
     "name": "stderr",
     "output_type": "stream",
     "text": [
      "/home/djanloo/.local/share/virtualenvs/DM2-PeqFRmfa/lib/python3.10/site-packages/IPython/core/events.py:93: UserWarning: This figure includes Axes that are not compatible with tight_layout, so results might be incorrect.\n",
      "  func(*args, **kwargs)\n",
      "/home/djanloo/.local/share/virtualenvs/DM2-PeqFRmfa/lib/python3.10/site-packages/IPython/core/pylabtools.py:152: UserWarning: This figure includes Axes that are not compatible with tight_layout, so results might be incorrect.\n",
      "  fig.canvas.print_figure(bytes_io, **kw)\n"
     ]
    },
    {
     "data": {
      "image/png": "[encoded data removed]",
      "text/plain": [
       "<Figure size 400x400 with 1 Axes>"
      ]
     },
     "metadata": {},
     "output_type": "display_data"
    }
   ],
   "source": [
    "from sklearn.metrics import confusion_matrix\n",
    "\n",
    "plt.matshow(confusion_matrix(y[test_idxs], ypred))\n",
    "plt.xticks(np.unique(y), labels = enc.inverse_transform(np.unique(y)), rotation=90);\n",
    "plt.yticks(np.unique(y), labels = enc.inverse_transform(np.unique(y)), rotation=0);\n",
    "\n",
    "plt.title(f\"accuracy = {accuracy_score(y[test_idxs], ypred)*100:.2f}\")\n",
    "plt.grid(ls=\"\")"
   ]
  },
  {
   "cell_type": "markdown",
   "id": "aaddc071",
   "metadata": {},
   "source": [
    "## Tuning (for prediction of emotion only)"
   ]
  },
  {
   "cell_type": "markdown",
   "id": "e49930ce",
   "metadata": {},
   "source": [
    "### Get labels"
   ]
  },
  {
   "cell_type": "code",
   "execution_count": 11,
   "id": "5254c7e8",
   "metadata": {},
   "outputs": [],
   "source": [
    "from sklearn.preprocessing import LabelEncoder\n",
    "enc = LabelEncoder()\n",
    "labels = df.emotion.to_numpy()\n",
    "y = enc.fit_transform(labels)"
   ]
  },
  {
   "cell_type": "markdown",
   "id": "43039be7",
   "metadata": {},
   "source": [
    "### Split dataset"
   ]
  },
  {
   "cell_type": "code",
   "execution_count": 12,
   "id": "45fdc806",
   "metadata": {},
   "outputs": [],
   "source": [
    "idxs = np.arange(len(df))\n",
    "np.random.shuffle(idxs)\n",
    "train_idxs, val_idxs, test_idxs = np.split(idxs, (len(df)*np.array([0.7, 0.8])).astype(int))"
   ]
  },
  {
   "cell_type": "markdown",
   "id": "335ec9d2",
   "metadata": {},
   "source": [
    "### Start the study"
   ]
  },
  {
   "cell_type": "code",
   "execution_count": 13,
   "id": "1bac2fa3",
   "metadata": {},
   "outputs": [
    {
     "name": "stderr",
     "output_type": "stream",
     "text": [
      "[I 2023-07-02 13:00:14,102] A new study created in memory with name: no-name-bf30716d-caf5-4591-9036-0cf733445935\n"
     ]
    },
    {
     "name": "stdout",
     "output_type": "stream",
     "text": [
      "running model having {'conv_filter_sizes': [14, 15], 'conv_kernel_sizes': [7, 7], 'conv_pool_sizes': [5, 4], 'n_dense_layers': 2, 'dense_nodes': 132} with SpRes = 115 for epochs = 15\n"
     ]
    },
    {
     "name": "stderr",
     "output_type": "stream",
     "text": [
      "2023-07-02 13:00:14.342612: W tensorflow/tsl/framework/cpu_allocator_impl.cc:83] Allocation of 208185120 exceeds 10% of free system memory.\n",
      "[I 2023-07-02 13:00:44,413] Trial 0 finished with value: 0.46122448979591835 and parameters: {'epochs': 15, 'resolution': 90, 'n_conv_blocks': 2, 'filters_0': 14, 'kernels_0': 7, 'pool_0': 5, 'filters_1': 15, 'kernels_1': 7, 'pool_1': 4, 'n_dense_layers': 2, 'dense_nodes': 132, 'batch_size': 20}. Best is trial 0 with value: 0.46122448979591835.\n"
     ]
    }
   ],
   "source": [
    "import optuna\n",
    "study = optuna.create_study(direction='maximize')\n",
    "trial_function = lambda trial: objective(trial, train_idxs, val_idxs)\n",
    "study.optimize(trial_function, n_trials=1, n_jobs=2, catch=ValueError)"
   ]
  },
  {
   "cell_type": "markdown",
   "id": "52604fa0",
   "metadata": {},
   "source": [
    "## Results"
   ]
  },
  {
   "cell_type": "code",
   "execution_count": 14,
   "id": "315cac82",
   "metadata": {},
   "outputs": [
    {
     "name": "stdout",
     "output_type": "stream",
     "text": [
      "for all-class best is {'epochs': 15, 'resolution': 90, 'n_conv_blocks': 2, 'filters_0': 14, 'kernels_0': 7, 'pool_0': 5, 'filters_1': 15, 'kernels_1': 7, 'pool_1': 4, 'n_dense_layers': 2, 'dense_nodes': 132, 'batch_size': 20, 'conv_filter_sizes': [14, 15], 'conv_kernel_sizes': [7, 7], 'conv_pool_sizes': [5, 4]}\n",
      "Model: \"sequential_2\"\n",
      "_________________________________________________________________\n",
      " Layer (type)                Output Shape              Param #   \n",
      "=================================================================\n",
      " conv_0 (Conv1D)             (None, 331, 14)           8834      \n",
      "                                                                 \n",
      " avg_pooling_0 (AveragePooli  (None, 66, 14)           0         \n",
      " ng1D)                                                           \n",
      "                                                                 \n",
      " conv_1 (Conv1D)             (None, 60, 15)            1485      \n",
      "                                                                 \n",
      " flatten_2 (Flatten)         (None, 900)               0         \n",
      "                                                                 \n",
      " dense_0 (Dense)             (None, 132)               118932    \n",
      "                                                                 \n",
      " dense_1 (Dense)             (None, 132)               17556     \n",
      "                                                                 \n",
      " output (Dense)              (None, 8)                 1064      \n",
      "                                                                 \n",
      "=================================================================\n",
      "Total params: 147,871\n",
      "Trainable params: 147,871\n",
      "Non-trainable params: 0\n",
      "_________________________________________________________________\n",
      "Epoch 1/15\n"
     ]
    },
    {
     "name": "stderr",
     "output_type": "stream",
     "text": [
      "2023-07-02 13:00:45.109932: W tensorflow/tsl/framework/cpu_allocator_impl.cc:83] Allocation of 237908520 exceeds 10% of free system memory.\n"
     ]
    },
    {
     "name": "stdout",
     "output_type": "stream",
     "text": [
      "99/99 [==============================] - 4s 26ms/step - loss: 1.9785 - accuracy: 0.2060\n",
      "Epoch 2/15\n",
      "99/99 [==============================] - 3s 25ms/step - loss: 1.8580 - accuracy: 0.2453\n",
      "Epoch 3/15\n",
      "99/99 [==============================] - 3s 26ms/step - loss: 1.7435 - accuracy: 0.3274\n",
      "Epoch 4/15\n",
      "99/99 [==============================] - 3s 26ms/step - loss: 1.6029 - accuracy: 0.3763\n",
      "Epoch 5/15\n",
      "99/99 [==============================] - 3s 27ms/step - loss: 1.5279 - accuracy: 0.4258\n",
      "Epoch 6/15\n",
      "99/99 [==============================] - 2s 25ms/step - loss: 1.3100 - accuracy: 0.5074\n",
      "Epoch 7/15\n",
      "99/99 [==============================] - 3s 28ms/step - loss: 1.1377 - accuracy: 0.5854\n",
      "Epoch 8/15\n",
      "99/99 [==============================] - 3s 28ms/step - loss: 0.9104 - accuracy: 0.6588\n",
      "Epoch 9/15\n",
      "99/99 [==============================] - 3s 26ms/step - loss: 0.7396 - accuracy: 0.7190\n",
      "Epoch 10/15\n",
      "99/99 [==============================] - 3s 26ms/step - loss: 0.5906 - accuracy: 0.7817\n",
      "Epoch 11/15\n",
      "99/99 [==============================] - 2s 25ms/step - loss: 0.4606 - accuracy: 0.8399\n",
      "Epoch 12/15\n",
      "99/99 [==============================] - 3s 26ms/step - loss: 0.3183 - accuracy: 0.8950\n",
      "Epoch 13/15\n",
      "99/99 [==============================] - 2s 25ms/step - loss: 0.2484 - accuracy: 0.9230\n",
      "Epoch 14/15\n",
      "99/99 [==============================] - 2s 24ms/step - loss: 0.1842 - accuracy: 0.9378\n",
      "Epoch 15/15\n",
      "99/99 [==============================] - 2s 25ms/step - loss: 0.1883 - accuracy: 0.9408\n"
     ]
    },
    {
     "data": {
      "text/plain": [
       "<keras.callbacks.History at 0x7f6fddf22fe0>"
      ]
     },
     "execution_count": 14,
     "metadata": {},
     "output_type": "execute_result"
    }
   ],
   "source": [
    "best_params_emotion = study.best_params.copy()\n",
    "\n",
    "# Retrieves best parameters form the dict and saves them as a list\n",
    "best_params_emotion[\"conv_filter_sizes\"] = []\n",
    "best_params_emotion[\"conv_kernel_sizes\"] = []\n",
    "best_params_emotion[\"conv_pool_sizes\"] = []\n",
    "\n",
    "for key in np.sort(list(study.best_params.keys())):\n",
    "    if \"filter\" in key:\n",
    "        best_params_emotion[\"conv_filter_sizes\"].append(study.best_params[key])\n",
    "    if \"kernel\" in key:\n",
    "        best_params_emotion[\"conv_kernel_sizes\"].append(study.best_params[key])\n",
    "    if \"pool\" in key:\n",
    "        best_params_emotion[\"conv_pool_sizes\"].append(study.best_params[key])\n",
    "\n",
    "print(\"for all-class best is\", best_params_emotion)\n",
    "        \n",
    "        \n",
    "        \n",
    "X = STFT_dict[best_params_emotion[\"resolution\"]]\n",
    "\n",
    "cnn = build_model(X.shape[1:], len(np.unique(y)), **best_params_emotion)\n",
    "cnn.summary()\n",
    "\n",
    "# Train on train+validation\n",
    "final_train_idxs = np.concatenate((train_idxs, val_idxs))\n",
    "\n",
    "cnn.fit(X[final_train_idxs], \n",
    "        y[final_train_idxs], \n",
    "        epochs=best_params_emotion[\"epochs\"], \n",
    "        batch_size=best_params_emotion[\"batch_size\"])"
   ]
  },
  {
   "cell_type": "code",
   "execution_count": 15,
   "id": "88014cff",
   "metadata": {},
   "outputs": [
    {
     "name": "stdout",
     "output_type": "stream",
     "text": [
      "16/16 [==============================] - 0s 10ms/step\n",
      "0.39918533604887985\n"
     ]
    }
   ],
   "source": [
    "from sklearn.metrics import accuracy_score\n",
    "\n",
    "ypred = np.argmax(cnn.predict(X[test_idxs]), axis=1)\n",
    "\n",
    "print(accuracy_score(y[test_idxs], ypred))"
   ]
  },
  {
   "cell_type": "code",
   "execution_count": 16,
   "id": "001fe9ce",
   "metadata": {
    "scrolled": true
   },
   "outputs": [
    {
     "name": "stdout",
     "output_type": "stream",
     "text": [
      "              precision    recall  f1-score   support\n",
      "\n",
      "       angry       0.50      0.41      0.45        69\n",
      "        calm       0.49      0.48      0.48        84\n",
      "     disgust       0.51      0.49      0.50        37\n",
      "     fearful       0.30      0.26      0.27        70\n",
      "       happy       0.38      0.38      0.38        72\n",
      "     neutral       0.36      0.63      0.46        41\n",
      "         sad       0.28      0.32      0.30        75\n",
      "   surprised       0.52      0.35      0.42        43\n",
      "\n",
      "    accuracy                           0.40       491\n",
      "   macro avg       0.42      0.41      0.41       491\n",
      "weighted avg       0.41      0.40      0.40       491\n",
      "\n"
     ]
    },
    {
     "name": "stderr",
     "output_type": "stream",
     "text": [
      "/home/djanloo/.local/share/virtualenvs/DM2-PeqFRmfa/lib/python3.10/site-packages/IPython/core/events.py:93: UserWarning: This figure includes Axes that are not compatible with tight_layout, so results might be incorrect.\n",
      "  func(*args, **kwargs)\n",
      "/home/djanloo/.local/share/virtualenvs/DM2-PeqFRmfa/lib/python3.10/site-packages/IPython/core/pylabtools.py:152: UserWarning: This figure includes Axes that are not compatible with tight_layout, so results might be incorrect.\n",
      "  fig.canvas.print_figure(bytes_io, **kw)\n"
     ]
    },
    {
     "data": {
      "image/png": "[encoded data removed]",
      "text/plain": [
       "<Figure size 400x400 with 1 Axes>"
      ]
     },
     "metadata": {},
     "output_type": "display_data"
    }
   ],
   "source": [
    "from sklearn.metrics import confusion_matrix\n",
    "from sklearn.metrics import classification_report\n",
    "\n",
    "plt.matshow(confusion_matrix(y[test_idxs], ypred))\n",
    "plt.xticks(np.unique(y), labels = enc.inverse_transform(np.unique(y)), rotation=90);\n",
    "plt.yticks(np.unique(y), labels = enc.inverse_transform(np.unique(y)), rotation=0);\n",
    "\n",
    "plt.title(f\"accuracy = {accuracy_score(y[test_idxs], ypred)*100:.2f}\")\n",
    "plt.grid(ls=\"\")\n",
    "\n",
    "print(classification_report(enc.inverse_transform(y[test_idxs]), enc.inverse_transform(ypred)))"
   ]
  },
  {
   "cell_type": "markdown",
   "id": "98db8451",
   "metadata": {},
   "source": [
    "## Print filters"
   ]
  },
  {
   "cell_type": "code",
   "execution_count": 17,
   "id": "88f1f27e",
   "metadata": {},
   "outputs": [
    {
     "name": "stdout",
     "output_type": "stream",
     "text": [
      "conv_0 (7, 90, 14)\n",
      "conv_1 (7, 14, 15)\n"
     ]
    }
   ],
   "source": [
    "for layer in cnn.layers:\n",
    "    # check for convolutional layer\n",
    "    if 'conv' not in layer.name:\n",
    "        continue\n",
    "    # get filter weights\n",
    "    filters, biases = layer.get_weights()\n",
    "    print(layer.name, filters.shape)\n"
   ]
  },
  {
   "cell_type": "code",
   "execution_count": 18,
   "id": "8b9e70c3",
   "metadata": {},
   "outputs": [
    {
     "data": {
      "image/png": "[encoded data removed]",
      "text/plain": [
       "<Figure size 1000x500 with 14 Axes>"
      ]
     },
     "metadata": {},
     "output_type": "display_data"
    }
   ],
   "source": [
    "filters, biases = cnn.get_layer(\"conv_0\").get_weights()\n",
    "\n",
    "n_filters = filters.shape[-1]\n",
    "fig, axes = plt.subplots(n_filters, 1, \n",
    "                         sharex=True, \n",
    "                         figsize=(10, 5), \n",
    "                         constrained_layout=True)\n",
    "for i in range(n_filters):\n",
    "    axes[i].axis(\"off\")\n",
    "    axes[i].matshow(filters[:,:,i])\n"
   ]
  },
  {
   "cell_type": "code",
   "execution_count": null,
   "id": "a663314c",
   "metadata": {},
   "outputs": [],
   "source": []
  },
  {
   "cell_type": "code",
   "execution_count": null,
   "id": "04159508",
   "metadata": {},
   "outputs": [],
   "source": []
  }
 ],
 "metadata": {
  "kernelspec": {
   "display_name": "DM2",
   "language": "python",
   "name": "dm2"
  },
  "language_info": {
   "codemirror_mode": {
    "name": "ipython",
    "version": 3
   },
   "file_extension": ".py",
   "mimetype": "text/x-python",
   "name": "python",
   "nbconvert_exporter": "python",
   "pygments_lexer": "ipython3",
   "version": "3.10.6"
  }
 },
 "nbformat": 4,
 "nbformat_minor": 5
}
