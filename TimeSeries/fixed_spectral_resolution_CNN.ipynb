{
 "cells": [
  {
   "cell_type": "code",
   "execution_count": 1,
   "id": "e834b2ca",
   "metadata": {},
   "outputs": [],
   "source": [
    "import os\n",
    "import numpy as np\n",
    "import pandas as pd\n",
    "import matplotlib.pyplot as plt\n",
    "import seaborn as sns; sns.set()\n",
    "\n",
    "import librosa\n",
    "from tqdm import tqdm\n",
    "from IPython.display import Audio\n",
    "from pandas.api.types import is_numeric_dtype\n",
    "\n",
    "import sys\n",
    "sys.path.append('../')\n",
    "import default_style\n",
    "\n",
    "TS_DATASET_FOLDER = os.path.join(\"..\", \"dataset\")\n",
    "TS_PREPROC_FOLDER = os.path.join(TS_DATASET_FOLDER, \"preprocessed_traces\")\n",
    "DF_PREPROC_FILE = os.path.join(TS_PREPROC_FOLDER, \"preproc_ts.df\")\n",
    "\n",
    "INTERESTING_TRACES = [\"clean_trace\"]\n",
    "\n",
    "\n",
    "df = pd.read_csv(DF_PREPROC_FILE)\n",
    "traces = dict()\n",
    "for t in INTERESTING_TRACES:\n",
    "    traces[t] = np.load(os.path.join(TS_PREPROC_FOLDER, f\"{t}.npy\"), allow_pickle=True)\n",
    "\n",
    "# traces[\"syll_labels\"] = np.repeat(np.arange(7), len(traces[\"syllables_fourier\"])//7)\n",
    "# print(traces[\"syll_labels\"].shape)\n",
    "\n",
    "SAMPLING_RATE = 48_000/8\n",
    "\n",
    "%load_ext autoreload\n",
    "%autoreload 2"
   ]
  },
  {
   "cell_type": "code",
   "execution_count": 2,
   "id": "fe6d6916",
   "metadata": {},
   "outputs": [],
   "source": [
    "from djanloo_fourier import FixedResolutionSTFTransformer\n",
    "\n",
    "# fixedtr = FixedResolutionSTFTransformer(n_spectral_points=100, pad_spectra=False)\n",
    "# STFTs = fixedtr.transform(traces[\"clean_trace\"])"
   ]
  },
  {
   "cell_type": "code",
   "execution_count": 3,
   "id": "4c2fe3f3",
   "metadata": {},
   "outputs": [
    {
     "name": "stderr",
     "output_type": "stream",
     "text": [
      "2023-07-01 15:01:53.679587: I tensorflow/tsl/cuda/cudart_stub.cc:28] Could not find cuda drivers on your machine, GPU will not be used.\n",
      "2023-07-01 15:01:53.911763: I tensorflow/tsl/cuda/cudart_stub.cc:28] Could not find cuda drivers on your machine, GPU will not be used.\n",
      "2023-07-01 15:01:53.913003: I tensorflow/core/platform/cpu_feature_guard.cc:182] This TensorFlow binary is optimized to use available CPU instructions in performance-critical operations.\n",
      "To enable the following instructions: AVX2 FMA, in other operations, rebuild TensorFlow with the appropriate compiler flags.\n",
      "2023-07-01 15:01:55.897967: W tensorflow/compiler/tf2tensorrt/utils/py_utils.cc:38] TF-TRT Warning: Could not find TensorRT\n"
     ]
    }
   ],
   "source": [
    "from keras.layers import Conv1D, Dense, Flatten, AveragePooling1D\n",
    "from keras.models import Sequential\n",
    "\n",
    "def build_model(input_shape, n_categories,\n",
    "                n_conv_blocks=2, n_dense_blocks=2, \n",
    "                filters=16, kernel_size=5, pool_size=2, \n",
    "                dense_nodes=256, **kwargs):\n",
    "\n",
    "    model = Sequential()\n",
    "    # Conv1d + temporal average pooling\n",
    "    for block_id in range(n_conv_blocks):\n",
    "        conv = Conv1D(filters, kernel_size, \n",
    "                      input_shape=input_shape,\n",
    "                      activation=\"relu\", \n",
    "                      name=f\"conv_{block_id}\",\n",
    "                        padding=\"causal\")\n",
    "        \n",
    "        \n",
    "        model.add(conv)\n",
    "        if block_id < n_conv_blocks - 1:\n",
    "            pool = AveragePooling1D(pool_size=pool_size, name=f\"avg_pooling_{block_id}\")\n",
    "            model.add(pool)\n",
    "            \n",
    "    # Flattens stuff :3\n",
    "    model.add(Flatten())\n",
    "    \n",
    "    # A good dose of Dense layers never hurted anybody\n",
    "    for block_id in range(n_dense_blocks):\n",
    "        model.add(Dense(dense_nodes, \n",
    "                        activation=\"relu\", \n",
    "                        name=f\"dense_{block_id}\"))\n",
    "    \n",
    "    # Let the garbage out\n",
    "    model.add(Dense(n_categories, \n",
    "                    activation=\"softmax\",\n",
    "                    name=\"output\"))\n",
    "    \n",
    "    model.compile(optimizer=\"adam\", \n",
    "                  loss=\"sparse_categorical_crossentropy\", \n",
    "                  metrics=['accuracy'])\n",
    "    return model"
   ]
  },
  {
   "cell_type": "code",
   "execution_count": 5,
   "id": "eab0ba89",
   "metadata": {},
   "outputs": [],
   "source": [
    "from sklearn.preprocessing import LabelEncoder\n",
    "from tensorflow.keras.preprocessing.sequence import pad_sequences\n",
    "from sklearn.model_selection import train_test_split\n",
    "\n",
    "\n",
    "## TEST the net with a guess\n",
    "# enc = LabelEncoder()\n",
    "# subset = np.ones(len(df)).astype(bool)#(df.vocal_channel == \"song\")\n",
    "# labels = np.array([f\"{s}{e}{vc}\" for s,e,vc in zip(df.sex, df.emotion, df.vocal_channel)])\n",
    "\n",
    "# y = enc.fit_transform(labels[subset])\n",
    "# X = pad_sequences(STFTs)[subset]\n",
    "# Xtrain, Xtest, ytrain, ytest = train_test_split(X, y, test_size=0.2)\n",
    "\n",
    "# print(np.unique(y),\"tot\", len(np.unique(y)), \"samples are\", len(y))\n",
    "# print(np.unique(ytrain),\"tot\", len(np.unique(ytrain)), \"samples are\", len(ytrain))\n",
    "# print(np.unique(ytest),\"tot\", len(np.unique(ytest)), \"samples are\", len(ytest))\n",
    "\n",
    "\n",
    "# test_params = {'n_conv_blocks': 3, 'filters': 16, 'kernel_size': 5, 'pool_size': 2, 'n_dense_blocks': 3, 'dense_nodes': 256}\n",
    "# test_model = build_model(Xtrain.shape[1:], len(np.unique(y)), **test_params)\n",
    "# test_model.summary()\n",
    "# hist = test_model.fit(Xtrain, ytrain, epochs=20, validation_split=0.2)"
   ]
  },
  {
   "cell_type": "markdown",
   "id": "6e3d6c60",
   "metadata": {},
   "source": [
    "## Tuning (for prediction of almost all categories)"
   ]
  },
  {
   "cell_type": "markdown",
   "id": "f66a6e5f",
   "metadata": {},
   "source": [
    "### Prepare the different resolutions"
   ]
  },
  {
   "cell_type": "code",
   "execution_count": 6,
   "id": "1b1e7b09",
   "metadata": {},
   "outputs": [
    {
     "name": "stderr",
     "output_type": "stream",
     "text": [
      " 85%|████████████████████████████████████████████████████████████████████████████████████████████                | 2089/2452 [00:04<00:00, 513.19it/s]\n"
     ]
    },
    {
     "ename": "KeyboardInterrupt",
     "evalue": "",
     "output_type": "error",
     "traceback": [
      "\u001b[0;31m---------------------------------------------------------------------------\u001b[0m",
      "\u001b[0;31mKeyboardInterrupt\u001b[0m                         Traceback (most recent call last)",
      "Cell \u001b[0;32mIn[6], line 14\u001b[0m\n\u001b[1;32m      9\u001b[0m     fixedtr \u001b[38;5;241m=\u001b[39m FixedResolutionSTFTransformer(n_spectral_points\u001b[38;5;241m=\u001b[39mres,\n\u001b[1;32m     10\u001b[0m                                             pad_spectra\u001b[38;5;241m=\u001b[39m\u001b[38;5;28;01mFalse\u001b[39;00m,\n\u001b[1;32m     11\u001b[0m                                             verbose\u001b[38;5;241m=\u001b[39m\u001b[38;5;28;01mTrue\u001b[39;00m)\n\u001b[1;32m     13\u001b[0m     \u001b[38;5;66;03m# Gets STFTs\u001b[39;00m\n\u001b[0;32m---> 14\u001b[0m     STFTs \u001b[38;5;241m=\u001b[39m \u001b[43mfixedtr\u001b[49m\u001b[38;5;241;43m.\u001b[39;49m\u001b[43mtransform\u001b[49m\u001b[43m(\u001b[49m\u001b[43mtraces\u001b[49m\u001b[43m[\u001b[49m\u001b[38;5;124;43m\"\u001b[39;49m\u001b[38;5;124;43mclean_trace\u001b[39;49m\u001b[38;5;124;43m\"\u001b[39;49m\u001b[43m]\u001b[49m\u001b[43m)\u001b[49m\n\u001b[1;32m     15\u001b[0m     STFT_dict[res] \u001b[38;5;241m=\u001b[39m pad_sequences(STFTs)\n\u001b[1;32m     18\u001b[0m \u001b[38;5;66;03m# Gets labels\u001b[39;00m\n",
      "File \u001b[0;32m~/Desktop/DM2/TimeSeries/djanloo_fourier.py:262\u001b[0m, in \u001b[0;36mFixedResolutionSTFTransformer.transform\u001b[0;34m(self, traces)\u001b[0m\n\u001b[1;32m    258\u001b[0m \u001b[38;5;28;01mfor\u001b[39;00m tr \u001b[38;5;129;01min\u001b[39;00m iterable:\n\u001b[1;32m    260\u001b[0m     signal \u001b[38;5;241m=\u001b[39m tr[\u001b[38;5;241m~\u001b[39mnp\u001b[38;5;241m.\u001b[39misnan(tr)]\n\u001b[0;32m--> 262\u001b[0m     f, t, STFT \u001b[38;5;241m=\u001b[39m \u001b[43mstft\u001b[49m\u001b[43m(\u001b[49m\u001b[43msignal\u001b[49m\u001b[43m,\u001b[49m\u001b[43m \u001b[49m\u001b[43mnperseg\u001b[49m\u001b[38;5;241;43m=\u001b[39;49m\u001b[38;5;241;43m2\u001b[39;49m\u001b[38;5;241;43m*\u001b[39;49m\u001b[38;5;28;43mself\u001b[39;49m\u001b[38;5;241;43m.\u001b[39;49m\u001b[43mn_spectral_points\u001b[49m\u001b[43m \u001b[49m\u001b[38;5;241;43m-\u001b[39;49m\u001b[43m \u001b[49m\u001b[38;5;241;43m1\u001b[39;49m\u001b[43m)\u001b[49m\n\u001b[1;32m    263\u001b[0m     STFT[np\u001b[38;5;241m.\u001b[39mabs(STFT) \u001b[38;5;241m<\u001b[39m \u001b[38;5;241m1e-16\u001b[39m] \u001b[38;5;241m=\u001b[39m \u001b[38;5;241m1e-16\u001b[39m\n\u001b[1;32m    264\u001b[0m     log_stft \u001b[38;5;241m=\u001b[39m np\u001b[38;5;241m.\u001b[39mlog(np\u001b[38;5;241m.\u001b[39mabs(STFT\u001b[38;5;241m.\u001b[39mT))\n",
      "File \u001b[0;32m~/.local/share/virtualenvs/DM2-PeqFRmfa/lib/python3.10/site-packages/scipy/signal/_spectral_py.py:1211\u001b[0m, in \u001b[0;36mstft\u001b[0;34m(x, fs, window, nperseg, noverlap, nfft, detrend, return_onesided, boundary, padded, axis, scaling)\u001b[0m\n\u001b[1;32m   1208\u001b[0m \u001b[38;5;28;01melif\u001b[39;00m scaling \u001b[38;5;241m!=\u001b[39m \u001b[38;5;124m'\u001b[39m\u001b[38;5;124mspectrum\u001b[39m\u001b[38;5;124m'\u001b[39m:\n\u001b[1;32m   1209\u001b[0m     \u001b[38;5;28;01mraise\u001b[39;00m \u001b[38;5;167;01mValueError\u001b[39;00m(\u001b[38;5;124mf\u001b[39m\u001b[38;5;124m\"\u001b[39m\u001b[38;5;124mParameter \u001b[39m\u001b[38;5;132;01m{\u001b[39;00mscaling\u001b[38;5;132;01m=}\u001b[39;00m\u001b[38;5;124m not in [\u001b[39m\u001b[38;5;124m'\u001b[39m\u001b[38;5;124mspectrum\u001b[39m\u001b[38;5;124m'\u001b[39m\u001b[38;5;124m, \u001b[39m\u001b[38;5;124m'\u001b[39m\u001b[38;5;124mpsd\u001b[39m\u001b[38;5;124m'\u001b[39m\u001b[38;5;124m]!\u001b[39m\u001b[38;5;124m\"\u001b[39m)\n\u001b[0;32m-> 1211\u001b[0m freqs, time, Zxx \u001b[38;5;241m=\u001b[39m \u001b[43m_spectral_helper\u001b[49m\u001b[43m(\u001b[49m\u001b[43mx\u001b[49m\u001b[43m,\u001b[49m\u001b[43m \u001b[49m\u001b[43mx\u001b[49m\u001b[43m,\u001b[49m\u001b[43m \u001b[49m\u001b[43mfs\u001b[49m\u001b[43m,\u001b[49m\u001b[43m \u001b[49m\u001b[43mwindow\u001b[49m\u001b[43m,\u001b[49m\u001b[43m \u001b[49m\u001b[43mnperseg\u001b[49m\u001b[43m,\u001b[49m\u001b[43m \u001b[49m\u001b[43mnoverlap\u001b[49m\u001b[43m,\u001b[49m\n\u001b[1;32m   1212\u001b[0m \u001b[43m                                    \u001b[49m\u001b[43mnfft\u001b[49m\u001b[43m,\u001b[49m\u001b[43m \u001b[49m\u001b[43mdetrend\u001b[49m\u001b[43m,\u001b[49m\u001b[43m \u001b[49m\u001b[43mreturn_onesided\u001b[49m\u001b[43m,\u001b[49m\n\u001b[1;32m   1213\u001b[0m \u001b[43m                                    \u001b[49m\u001b[43mscaling\u001b[49m\u001b[38;5;241;43m=\u001b[39;49m\u001b[43mscaling\u001b[49m\u001b[43m,\u001b[49m\u001b[43m \u001b[49m\u001b[43maxis\u001b[49m\u001b[38;5;241;43m=\u001b[39;49m\u001b[43maxis\u001b[49m\u001b[43m,\u001b[49m\n\u001b[1;32m   1214\u001b[0m \u001b[43m                                    \u001b[49m\u001b[43mmode\u001b[49m\u001b[38;5;241;43m=\u001b[39;49m\u001b[38;5;124;43m'\u001b[39;49m\u001b[38;5;124;43mstft\u001b[39;49m\u001b[38;5;124;43m'\u001b[39;49m\u001b[43m,\u001b[49m\u001b[43m \u001b[49m\u001b[43mboundary\u001b[49m\u001b[38;5;241;43m=\u001b[39;49m\u001b[43mboundary\u001b[49m\u001b[43m,\u001b[49m\n\u001b[1;32m   1215\u001b[0m \u001b[43m                                    \u001b[49m\u001b[43mpadded\u001b[49m\u001b[38;5;241;43m=\u001b[39;49m\u001b[43mpadded\u001b[49m\u001b[43m)\u001b[49m\n\u001b[1;32m   1217\u001b[0m \u001b[38;5;28;01mreturn\u001b[39;00m freqs, time, Zxx\n",
      "File \u001b[0;32m~/.local/share/virtualenvs/DM2-PeqFRmfa/lib/python3.10/site-packages/scipy/signal/_spectral_py.py:1631\u001b[0m, in \u001b[0;36m_spectral_helper\u001b[0;34m(x, y, fs, window, nperseg, noverlap, nfft, detrend, return_onesided, scaling, axis, mode, boundary, padded)\u001b[0m\n\u001b[1;32m   1626\u001b[0m     Cxy \u001b[38;5;241m=\u001b[39m np\u001b[38;5;241m.\u001b[39mabs(Pxy)\u001b[38;5;241m*\u001b[39m\u001b[38;5;241m*\u001b[39m\u001b[38;5;241m2\u001b[39m \u001b[38;5;241m/\u001b[39m Pxx \u001b[38;5;241m/\u001b[39m Pyy\n\u001b[1;32m   1628\u001b[0m     \u001b[38;5;28;01mreturn\u001b[39;00m freqs, Cxy\n\u001b[0;32m-> 1631\u001b[0m \u001b[38;5;28;01mdef\u001b[39;00m \u001b[38;5;21m_spectral_helper\u001b[39m(x, y, fs\u001b[38;5;241m=\u001b[39m\u001b[38;5;241m1.0\u001b[39m, window\u001b[38;5;241m=\u001b[39m\u001b[38;5;124m'\u001b[39m\u001b[38;5;124mhann\u001b[39m\u001b[38;5;124m'\u001b[39m, nperseg\u001b[38;5;241m=\u001b[39m\u001b[38;5;28;01mNone\u001b[39;00m, noverlap\u001b[38;5;241m=\u001b[39m\u001b[38;5;28;01mNone\u001b[39;00m,\n\u001b[1;32m   1632\u001b[0m                      nfft\u001b[38;5;241m=\u001b[39m\u001b[38;5;28;01mNone\u001b[39;00m, detrend\u001b[38;5;241m=\u001b[39m\u001b[38;5;124m'\u001b[39m\u001b[38;5;124mconstant\u001b[39m\u001b[38;5;124m'\u001b[39m, return_onesided\u001b[38;5;241m=\u001b[39m\u001b[38;5;28;01mTrue\u001b[39;00m,\n\u001b[1;32m   1633\u001b[0m                      scaling\u001b[38;5;241m=\u001b[39m\u001b[38;5;124m'\u001b[39m\u001b[38;5;124mdensity\u001b[39m\u001b[38;5;124m'\u001b[39m, axis\u001b[38;5;241m=\u001b[39m\u001b[38;5;241m-\u001b[39m\u001b[38;5;241m1\u001b[39m, mode\u001b[38;5;241m=\u001b[39m\u001b[38;5;124m'\u001b[39m\u001b[38;5;124mpsd\u001b[39m\u001b[38;5;124m'\u001b[39m, boundary\u001b[38;5;241m=\u001b[39m\u001b[38;5;28;01mNone\u001b[39;00m,\n\u001b[1;32m   1634\u001b[0m                      padded\u001b[38;5;241m=\u001b[39m\u001b[38;5;28;01mFalse\u001b[39;00m):\n\u001b[1;32m   1635\u001b[0m \u001b[38;5;250m    \u001b[39m\u001b[38;5;124;03m\"\"\"Calculate various forms of windowed FFTs for PSD, CSD, etc.\u001b[39;00m\n\u001b[1;32m   1636\u001b[0m \n\u001b[1;32m   1637\u001b[0m \u001b[38;5;124;03m    This is a helper function that implements the commonality between\u001b[39;00m\n\u001b[0;32m   (...)\u001b[0m\n\u001b[1;32m   1719\u001b[0m \u001b[38;5;124;03m    .. versionadded:: 0.16.0\u001b[39;00m\n\u001b[1;32m   1720\u001b[0m \u001b[38;5;124;03m    \"\"\"\u001b[39;00m\n\u001b[1;32m   1721\u001b[0m     \u001b[38;5;28;01mif\u001b[39;00m mode \u001b[38;5;129;01mnot\u001b[39;00m \u001b[38;5;129;01min\u001b[39;00m [\u001b[38;5;124m'\u001b[39m\u001b[38;5;124mpsd\u001b[39m\u001b[38;5;124m'\u001b[39m, \u001b[38;5;124m'\u001b[39m\u001b[38;5;124mstft\u001b[39m\u001b[38;5;124m'\u001b[39m]:\n",
      "\u001b[0;31mKeyboardInterrupt\u001b[0m: "
     ]
    }
   ],
   "source": [
    "# In the tuning the spectral resolution is optimized too\n",
    "from djanloo_fourier import FixedResolutionSTFTransformer\n",
    "from tensorflow.keras.preprocessing.sequence import pad_sequences\n",
    "\n",
    "STFT_dict = dict()\n",
    "possible_resolutions = [50, 70, 100, 120, 150]\n",
    "for res in possible_resolutions:\n",
    "    ## Really gets the dataset of STFTs\n",
    "    fixedtr = FixedResolutionSTFTransformer(n_spectral_points=res,\n",
    "                                            pad_spectra=False,\n",
    "                                            verbose=True)\n",
    "    \n",
    "    # Gets STFTs\n",
    "    STFTs = fixedtr.transform(traces[\"clean_trace\"])\n",
    "    STFT_dict[res] = pad_sequences(STFTs)\n",
    "\n",
    "\n",
    "# Gets labels\n",
    "enc = LabelEncoder()\n",
    "labels = np.array([f\"{s}{e}{vc}\" for s,e,vc in zip(df.sex, df.emotion, df.vocal_channel)])\n",
    "y = enc.fit_transform(labels)"
   ]
  },
  {
   "cell_type": "markdown",
   "id": "36ac9cfe",
   "metadata": {},
   "source": [
    "### Define the objective function to maximise"
   ]
  },
  {
   "cell_type": "code",
   "execution_count": 4,
   "id": "425eba53",
   "metadata": {},
   "outputs": [],
   "source": [
    "from sklearn.preprocessing import LabelEncoder\n",
    "from sklearn.metrics import accuracy_score\n",
    "\n",
    "def objective(trial, train_idxs, val_idxs):\n",
    "    global y, possible_resolutions\n",
    "    \n",
    "    epochs=trial.suggest_int('epochs',15,40)\n",
    "    \n",
    "    # Gets the data\n",
    "    X = STFT_dict[trial.suggest_categorical(\"resolution\", choices=possible_resolutions)]\n",
    "    \n",
    "    ## Concerning the model ...\n",
    "    pars = dict(## Conv stuff\n",
    "                n_conv_blocks=trial.suggest_int('n_conv_blocks', 1, 3), \n",
    "                filters=trial.suggest_int('filters', 2, 16), \n",
    "                kernel_size=trial.suggest_int('kernel_size', 3, 9), \n",
    "                pool_size=trial.suggest_int('pool_size', 2, 8),\n",
    "                \n",
    "                ## Dense stuff\n",
    "                n_dense_blocks=trial.suggest_int('n_dense_blocks', 1, 3), \n",
    "                dense_nodes=trial.suggest_int('dense_nodes', 16, 512)\n",
    "               )\n",
    "    print(f\"running model having {pars} with SpRes = {fixedtr.n_spectral_points} for epochs = {epochs}\")\n",
    "    \n",
    "    model = build_model(X.shape[1:], len(np.unique(y)), **pars)\n",
    "    model.fit(\n",
    "                    X[train_idxs], y[train_idxs], \n",
    "                    epochs=epochs,\n",
    "                    batch_size=trial.suggest_int('batch_size', 16, 32),\n",
    "                    verbose=False\n",
    "                    )\n",
    "    \n",
    "    ## Estimate accuracy\n",
    "    y_pred = np.argmax(model.predict(X[val_idxs], verbose=False), axis=1)\n",
    "    acc = accuracy_score(y[val_idxs], y_pred)\n",
    "    \n",
    "    return acc"
   ]
  },
  {
   "cell_type": "code",
   "execution_count": 5,
   "id": "e46e9c93",
   "metadata": {},
   "outputs": [],
   "source": [
    "## Splits the dataset\n",
    "idxs = np.arange(len(df))\n",
    "np.random.shuffle(idxs)\n",
    "train_idxs, val_idxs, test_idxs = np.split(idxs, (len(df)*np.array([0.7, 0.8])).astype(int))"
   ]
  },
  {
   "cell_type": "code",
   "execution_count": 8,
   "id": "2094f569",
   "metadata": {},
   "outputs": [
    {
     "name": "stderr",
     "output_type": "stream",
     "text": [
      "[I 2023-07-01 02:18:30,973] A new study created in memory with name: no-name-24c88f0b-007d-45ce-811e-d0e6469a796e\n"
     ]
    },
    {
     "name": "stdout",
     "output_type": "stream",
     "text": [
      "running model having {'n_conv_blocks': 2, 'filters': 7, 'kernel_size': 7, 'pool_size': 6, 'n_dense_blocks': 2, 'dense_nodes': 96} with SpRes = 150 for epochs = 20\n"
     ]
    },
    {
     "name": "stderr",
     "output_type": "stream",
     "text": [
      "2023-07-01 02:18:31.306199: W tensorflow/tsl/framework/cpu_allocator_impl.cc:83] Allocation of 209008800 exceeds 10% of free system memory.\n",
      "[I 2023-07-01 02:19:00,774] Trial 0 finished with value: 0.2897959183673469 and parameters: {'epochs': 20, 'resolution': 150, 'n_conv_blocks': 2, 'filters': 7, 'kernel_size': 7, 'pool_size': 6, 'n_dense_blocks': 2, 'dense_nodes': 96, 'batch_size': 22}. Best is trial 0 with value: 0.2897959183673469.\n"
     ]
    },
    {
     "name": "stdout",
     "output_type": "stream",
     "text": [
      "running model having {'n_conv_blocks': 3, 'filters': 2, 'kernel_size': 8, 'pool_size': 2, 'n_dense_blocks': 2, 'dense_nodes': 97} with SpRes = 150 for epochs = 24\n"
     ]
    },
    {
     "name": "stderr",
     "output_type": "stream",
     "text": [
      "2023-07-01 02:19:01.014280: W tensorflow/tsl/framework/cpu_allocator_impl.cc:83] Allocation of 207636000 exceeds 10% of free system memory.\n",
      "[I 2023-07-01 02:19:41,754] Trial 1 finished with value: 0.20816326530612245 and parameters: {'epochs': 24, 'resolution': 50, 'n_conv_blocks': 3, 'filters': 2, 'kernel_size': 8, 'pool_size': 2, 'n_dense_blocks': 2, 'dense_nodes': 97, 'batch_size': 28}. Best is trial 0 with value: 0.2897959183673469.\n"
     ]
    },
    {
     "name": "stdout",
     "output_type": "stream",
     "text": [
      "running model having {'n_conv_blocks': 3, 'filters': 11, 'kernel_size': 3, 'pool_size': 3, 'n_dense_blocks': 2, 'dense_nodes': 24} with SpRes = 150 for epochs = 20\n"
     ]
    },
    {
     "name": "stderr",
     "output_type": "stream",
     "text": [
      "2023-07-01 02:19:41.995324: W tensorflow/tsl/framework/cpu_allocator_impl.cc:83] Allocation of 209008800 exceeds 10% of free system memory.\n",
      "[I 2023-07-01 02:20:01,236] Trial 2 finished with value: 0.3224489795918367 and parameters: {'epochs': 20, 'resolution': 150, 'n_conv_blocks': 3, 'filters': 11, 'kernel_size': 3, 'pool_size': 3, 'n_dense_blocks': 2, 'dense_nodes': 24, 'batch_size': 28}. Best is trial 2 with value: 0.3224489795918367.\n"
     ]
    },
    {
     "name": "stdout",
     "output_type": "stream",
     "text": [
      "running model having {'n_conv_blocks': 3, 'filters': 11, 'kernel_size': 4, 'pool_size': 2, 'n_dense_blocks': 1, 'dense_nodes': 183} with SpRes = 150 for epochs = 33\n"
     ]
    },
    {
     "name": "stderr",
     "output_type": "stream",
     "text": [
      "2023-07-01 02:20:01.564344: W tensorflow/tsl/framework/cpu_allocator_impl.cc:83] Allocation of 207979200 exceeds 10% of free system memory.\n",
      "[I 2023-07-01 02:20:46,856] Trial 3 finished with value: 0.45714285714285713 and parameters: {'epochs': 33, 'resolution': 100, 'n_conv_blocks': 3, 'filters': 11, 'kernel_size': 4, 'pool_size': 2, 'n_dense_blocks': 1, 'dense_nodes': 183, 'batch_size': 18}. Best is trial 3 with value: 0.45714285714285713.\n"
     ]
    },
    {
     "name": "stdout",
     "output_type": "stream",
     "text": [
      "running model having {'n_conv_blocks': 1, 'filters': 9, 'kernel_size': 8, 'pool_size': 6, 'n_dense_blocks': 3, 'dense_nodes': 102} with SpRes = 150 for epochs = 39\n"
     ]
    },
    {
     "name": "stderr",
     "output_type": "stream",
     "text": [
      "2023-07-01 02:20:47.204046: W tensorflow/tsl/framework/cpu_allocator_impl.cc:83] Allocation of 208391040 exceeds 10% of free system memory.\n",
      "[I 2023-07-01 02:22:00,055] Trial 4 finished with value: 0.30612244897959184 and parameters: {'epochs': 39, 'resolution': 120, 'n_conv_blocks': 1, 'filters': 9, 'kernel_size': 8, 'pool_size': 6, 'n_dense_blocks': 3, 'dense_nodes': 102, 'batch_size': 26}. Best is trial 3 with value: 0.45714285714285713.\n"
     ]
    },
    {
     "name": "stdout",
     "output_type": "stream",
     "text": [
      "running model having {'n_conv_blocks': 2, 'filters': 10, 'kernel_size': 6, 'pool_size': 3, 'n_dense_blocks': 1, 'dense_nodes': 139} with SpRes = 150 for epochs = 15\n"
     ]
    },
    {
     "name": "stderr",
     "output_type": "stream",
     "text": [
      "[I 2023-07-01 02:22:22,487] Trial 5 finished with value: 0.33877551020408164 and parameters: {'epochs': 15, 'resolution': 100, 'n_conv_blocks': 2, 'filters': 10, 'kernel_size': 6, 'pool_size': 3, 'n_dense_blocks': 1, 'dense_nodes': 139, 'batch_size': 30}. Best is trial 3 with value: 0.45714285714285713.\n"
     ]
    },
    {
     "name": "stdout",
     "output_type": "stream",
     "text": [
      "running model having {'n_conv_blocks': 3, 'filters': 10, 'kernel_size': 3, 'pool_size': 5, 'n_dense_blocks': 1, 'dense_nodes': 54} with SpRes = 150 for epochs = 30\n"
     ]
    },
    {
     "name": "stderr",
     "output_type": "stream",
     "text": [
      "[I 2023-07-01 02:22:55,965] Trial 6 finished with value: 0.3183673469387755 and parameters: {'epochs': 30, 'resolution': 120, 'n_conv_blocks': 3, 'filters': 10, 'kernel_size': 3, 'pool_size': 5, 'n_dense_blocks': 1, 'dense_nodes': 54, 'batch_size': 22}. Best is trial 3 with value: 0.45714285714285713.\n"
     ]
    },
    {
     "name": "stdout",
     "output_type": "stream",
     "text": [
      "running model having {'n_conv_blocks': 1, 'filters': 3, 'kernel_size': 9, 'pool_size': 3, 'n_dense_blocks': 2, 'dense_nodes': 58} with SpRes = 150 for epochs = 37\n"
     ]
    },
    {
     "name": "stderr",
     "output_type": "stream",
     "text": [
      "[I 2023-07-01 02:24:02,517] Trial 7 finished with value: 0.2530612244897959 and parameters: {'epochs': 37, 'resolution': 50, 'n_conv_blocks': 1, 'filters': 3, 'kernel_size': 9, 'pool_size': 3, 'n_dense_blocks': 2, 'dense_nodes': 58, 'batch_size': 21}. Best is trial 3 with value: 0.45714285714285713.\n"
     ]
    },
    {
     "name": "stdout",
     "output_type": "stream",
     "text": [
      "running model having {'n_conv_blocks': 2, 'filters': 9, 'kernel_size': 8, 'pool_size': 5, 'n_dense_blocks': 2, 'dense_nodes': 68} with SpRes = 150 for epochs = 29\n"
     ]
    },
    {
     "name": "stderr",
     "output_type": "stream",
     "text": [
      "[I 2023-07-01 02:25:00,097] Trial 8 finished with value: 0.363265306122449 and parameters: {'epochs': 29, 'resolution': 150, 'n_conv_blocks': 2, 'filters': 9, 'kernel_size': 8, 'pool_size': 5, 'n_dense_blocks': 2, 'dense_nodes': 68, 'batch_size': 19}. Best is trial 3 with value: 0.45714285714285713.\n"
     ]
    },
    {
     "name": "stdout",
     "output_type": "stream",
     "text": [
      "running model having {'n_conv_blocks': 1, 'filters': 8, 'kernel_size': 9, 'pool_size': 7, 'n_dense_blocks': 1, 'dense_nodes': 75} with SpRes = 150 for epochs = 37\n"
     ]
    },
    {
     "name": "stderr",
     "output_type": "stream",
     "text": [
      "[I 2023-07-01 02:26:14,203] Trial 9 finished with value: 0.2530612244897959 and parameters: {'epochs': 37, 'resolution': 50, 'n_conv_blocks': 1, 'filters': 8, 'kernel_size': 9, 'pool_size': 7, 'n_dense_blocks': 1, 'dense_nodes': 75, 'batch_size': 19}. Best is trial 3 with value: 0.45714285714285713.\n",
      "[W 2023-07-01 02:26:14,351] Trial 10 failed with parameters: {'epochs': 33, 'resolution': 100, 'n_conv_blocks': 3, 'filters': 15, 'kernel_size': 5, 'pool_size': 8, 'n_dense_blocks': 3, 'dense_nodes': 213} because of the following error: ValueError('Exception encountered when calling layer \"conv_2\" (type Conv1D).\\n\\nNegative dimension size caused by subtracting 5 from 4 for \\'{{node conv_2/Conv1D}} = Conv2D[T=DT_FLOAT, data_format=\"NHWC\", dilations=[1, 1, 1, 1], explicit_paddings=[], padding=\"VALID\", strides=[1, 1, 1, 1], use_cudnn_on_gpu=true](conv_2/Conv1D/ExpandDims, conv_2/Conv1D/ExpandDims_1)\\' with input shapes: [?,1,4,15], [1,5,15,15].\\n\\nCall arguments received by layer \"conv_2\" (type Conv1D):\\n  • inputs=tf.Tensor(shape=(None, 4, 15), dtype=float32)').\n",
      "Traceback (most recent call last):\n",
      "  File \"/home/djanloo/.local/share/virtualenvs/DM2-PeqFRmfa/lib/python3.10/site-packages/optuna/study/_optimize.py\", line 200, in _run_trial\n",
      "    value_or_values = func(trial)\n",
      "  File \"/tmp/ipykernel_14321/3311194114.py\", line 3, in <lambda>\n",
      "    trial_function = lambda trial: objective(trial, train_idxs, val_idxs)\n",
      "  File \"/tmp/ipykernel_14321/3086810912.py\", line 25, in objective\n",
      "    model = build_model(X.shape[1:], len(np.unique(y)), **pars)\n",
      "  File \"/tmp/ipykernel_14321/2093002277.py\", line 18, in build_model\n",
      "    model.add(conv)\n",
      "  File \"/home/djanloo/.local/share/virtualenvs/DM2-PeqFRmfa/lib/python3.10/site-packages/tensorflow/python/trackable/base.py\", line 205, in _method_wrapper\n",
      "    result = method(self, *args, **kwargs)\n",
      "  File \"/home/djanloo/.local/share/virtualenvs/DM2-PeqFRmfa/lib/python3.10/site-packages/keras/utils/traceback_utils.py\", line 70, in error_handler\n",
      "    raise e.with_traceback(filtered_tb) from None\n",
      "  File \"/home/djanloo/.local/share/virtualenvs/DM2-PeqFRmfa/lib/python3.10/site-packages/tensorflow/python/framework/ops.py\", line 1973, in _create_c_op\n",
      "    raise ValueError(e.message)\n",
      "ValueError: Exception encountered when calling layer \"conv_2\" (type Conv1D).\n",
      "\n",
      "Negative dimension size caused by subtracting 5 from 4 for '{{node conv_2/Conv1D}} = Conv2D[T=DT_FLOAT, data_format=\"NHWC\", dilations=[1, 1, 1, 1], explicit_paddings=[], padding=\"VALID\", strides=[1, 1, 1, 1], use_cudnn_on_gpu=true](conv_2/Conv1D/ExpandDims, conv_2/Conv1D/ExpandDims_1)' with input shapes: [?,1,4,15], [1,5,15,15].\n",
      "\n",
      "Call arguments received by layer \"conv_2\" (type Conv1D):\n",
      "  • inputs=tf.Tensor(shape=(None, 4, 15), dtype=float32)\n",
      "[W 2023-07-01 02:26:14,354] Trial 10 failed with value None.\n"
     ]
    },
    {
     "name": "stdout",
     "output_type": "stream",
     "text": [
      "running model having {'n_conv_blocks': 3, 'filters': 15, 'kernel_size': 5, 'pool_size': 8, 'n_dense_blocks': 3, 'dense_nodes': 213} with SpRes = 150 for epochs = 33\n",
      "running model having {'n_conv_blocks': 3, 'filters': 16, 'kernel_size': 5, 'pool_size': 8, 'n_dense_blocks': 3, 'dense_nodes': 216} with SpRes = 150 for epochs = 34\n"
     ]
    },
    {
     "name": "stderr",
     "output_type": "stream",
     "text": [
      "[W 2023-07-01 02:26:14,522] Trial 11 failed with parameters: {'epochs': 34, 'resolution': 100, 'n_conv_blocks': 3, 'filters': 16, 'kernel_size': 5, 'pool_size': 8, 'n_dense_blocks': 3, 'dense_nodes': 216} because of the following error: ValueError('Exception encountered when calling layer \"conv_2\" (type Conv1D).\\n\\nNegative dimension size caused by subtracting 5 from 4 for \\'{{node conv_2/Conv1D}} = Conv2D[T=DT_FLOAT, data_format=\"NHWC\", dilations=[1, 1, 1, 1], explicit_paddings=[], padding=\"VALID\", strides=[1, 1, 1, 1], use_cudnn_on_gpu=true](conv_2/Conv1D/ExpandDims, conv_2/Conv1D/ExpandDims_1)\\' with input shapes: [?,1,4,16], [1,5,16,16].\\n\\nCall arguments received by layer \"conv_2\" (type Conv1D):\\n  • inputs=tf.Tensor(shape=(None, 4, 16), dtype=float32)').\n",
      "Traceback (most recent call last):\n",
      "  File \"/home/djanloo/.local/share/virtualenvs/DM2-PeqFRmfa/lib/python3.10/site-packages/optuna/study/_optimize.py\", line 200, in _run_trial\n",
      "    value_or_values = func(trial)\n",
      "  File \"/tmp/ipykernel_14321/3311194114.py\", line 3, in <lambda>\n",
      "    trial_function = lambda trial: objective(trial, train_idxs, val_idxs)\n",
      "  File \"/tmp/ipykernel_14321/3086810912.py\", line 25, in objective\n",
      "    model = build_model(X.shape[1:], len(np.unique(y)), **pars)\n",
      "  File \"/tmp/ipykernel_14321/2093002277.py\", line 18, in build_model\n",
      "    model.add(conv)\n",
      "  File \"/home/djanloo/.local/share/virtualenvs/DM2-PeqFRmfa/lib/python3.10/site-packages/tensorflow/python/trackable/base.py\", line 205, in _method_wrapper\n",
      "    result = method(self, *args, **kwargs)\n",
      "  File \"/home/djanloo/.local/share/virtualenvs/DM2-PeqFRmfa/lib/python3.10/site-packages/keras/utils/traceback_utils.py\", line 70, in error_handler\n",
      "    raise e.with_traceback(filtered_tb) from None\n",
      "  File \"/home/djanloo/.local/share/virtualenvs/DM2-PeqFRmfa/lib/python3.10/site-packages/tensorflow/python/framework/ops.py\", line 1973, in _create_c_op\n",
      "    raise ValueError(e.message)\n",
      "ValueError: Exception encountered when calling layer \"conv_2\" (type Conv1D).\n",
      "\n",
      "Negative dimension size caused by subtracting 5 from 4 for '{{node conv_2/Conv1D}} = Conv2D[T=DT_FLOAT, data_format=\"NHWC\", dilations=[1, 1, 1, 1], explicit_paddings=[], padding=\"VALID\", strides=[1, 1, 1, 1], use_cudnn_on_gpu=true](conv_2/Conv1D/ExpandDims, conv_2/Conv1D/ExpandDims_1)' with input shapes: [?,1,4,16], [1,5,16,16].\n",
      "\n",
      "Call arguments received by layer \"conv_2\" (type Conv1D):\n",
      "  • inputs=tf.Tensor(shape=(None, 4, 16), dtype=float32)\n",
      "[W 2023-07-01 02:26:14,524] Trial 11 failed with value None.\n",
      "[W 2023-07-01 02:26:14,658] Trial 12 failed with parameters: {'epochs': 33, 'resolution': 100, 'n_conv_blocks': 3, 'filters': 16, 'kernel_size': 5, 'pool_size': 8, 'n_dense_blocks': 3, 'dense_nodes': 214} because of the following error: ValueError('Exception encountered when calling layer \"conv_2\" (type Conv1D).\\n\\nNegative dimension size caused by subtracting 5 from 4 for \\'{{node conv_2/Conv1D}} = Conv2D[T=DT_FLOAT, data_format=\"NHWC\", dilations=[1, 1, 1, 1], explicit_paddings=[], padding=\"VALID\", strides=[1, 1, 1, 1], use_cudnn_on_gpu=true](conv_2/Conv1D/ExpandDims, conv_2/Conv1D/ExpandDims_1)\\' with input shapes: [?,1,4,16], [1,5,16,16].\\n\\nCall arguments received by layer \"conv_2\" (type Conv1D):\\n  • inputs=tf.Tensor(shape=(None, 4, 16), dtype=float32)').\n",
      "Traceback (most recent call last):\n",
      "  File \"/home/djanloo/.local/share/virtualenvs/DM2-PeqFRmfa/lib/python3.10/site-packages/optuna/study/_optimize.py\", line 200, in _run_trial\n",
      "    value_or_values = func(trial)\n",
      "  File \"/tmp/ipykernel_14321/3311194114.py\", line 3, in <lambda>\n",
      "    trial_function = lambda trial: objective(trial, train_idxs, val_idxs)\n",
      "  File \"/tmp/ipykernel_14321/3086810912.py\", line 25, in objective\n",
      "    model = build_model(X.shape[1:], len(np.unique(y)), **pars)\n",
      "  File \"/tmp/ipykernel_14321/2093002277.py\", line 18, in build_model\n",
      "    model.add(conv)\n",
      "  File \"/home/djanloo/.local/share/virtualenvs/DM2-PeqFRmfa/lib/python3.10/site-packages/tensorflow/python/trackable/base.py\", line 205, in _method_wrapper\n",
      "    result = method(self, *args, **kwargs)\n",
      "  File \"/home/djanloo/.local/share/virtualenvs/DM2-PeqFRmfa/lib/python3.10/site-packages/keras/utils/traceback_utils.py\", line 70, in error_handler\n",
      "    raise e.with_traceback(filtered_tb) from None\n",
      "  File \"/home/djanloo/.local/share/virtualenvs/DM2-PeqFRmfa/lib/python3.10/site-packages/tensorflow/python/framework/ops.py\", line 1973, in _create_c_op\n",
      "    raise ValueError(e.message)\n",
      "ValueError: Exception encountered when calling layer \"conv_2\" (type Conv1D).\n",
      "\n",
      "Negative dimension size caused by subtracting 5 from 4 for '{{node conv_2/Conv1D}} = Conv2D[T=DT_FLOAT, data_format=\"NHWC\", dilations=[1, 1, 1, 1], explicit_paddings=[], padding=\"VALID\", strides=[1, 1, 1, 1], use_cudnn_on_gpu=true](conv_2/Conv1D/ExpandDims, conv_2/Conv1D/ExpandDims_1)' with input shapes: [?,1,4,16], [1,5,16,16].\n",
      "\n",
      "Call arguments received by layer \"conv_2\" (type Conv1D):\n",
      "  • inputs=tf.Tensor(shape=(None, 4, 16), dtype=float32)\n",
      "[W 2023-07-01 02:26:14,659] Trial 12 failed with value None.\n"
     ]
    },
    {
     "name": "stdout",
     "output_type": "stream",
     "text": [
      "running model having {'n_conv_blocks': 3, 'filters': 16, 'kernel_size': 5, 'pool_size': 8, 'n_dense_blocks': 3, 'dense_nodes': 214} with SpRes = 150 for epochs = 33\n",
      "running model having {'n_conv_blocks': 3, 'filters': 15, 'kernel_size': 5, 'pool_size': 8, 'n_dense_blocks': 3, 'dense_nodes': 222} with SpRes = 150 for epochs = 33\n"
     ]
    },
    {
     "name": "stderr",
     "output_type": "stream",
     "text": [
      "[W 2023-07-01 02:26:14,795] Trial 13 failed with parameters: {'epochs': 33, 'resolution': 100, 'n_conv_blocks': 3, 'filters': 15, 'kernel_size': 5, 'pool_size': 8, 'n_dense_blocks': 3, 'dense_nodes': 222} because of the following error: ValueError('Exception encountered when calling layer \"conv_2\" (type Conv1D).\\n\\nNegative dimension size caused by subtracting 5 from 4 for \\'{{node conv_2/Conv1D}} = Conv2D[T=DT_FLOAT, data_format=\"NHWC\", dilations=[1, 1, 1, 1], explicit_paddings=[], padding=\"VALID\", strides=[1, 1, 1, 1], use_cudnn_on_gpu=true](conv_2/Conv1D/ExpandDims, conv_2/Conv1D/ExpandDims_1)\\' with input shapes: [?,1,4,15], [1,5,15,15].\\n\\nCall arguments received by layer \"conv_2\" (type Conv1D):\\n  • inputs=tf.Tensor(shape=(None, 4, 15), dtype=float32)').\n",
      "Traceback (most recent call last):\n",
      "  File \"/home/djanloo/.local/share/virtualenvs/DM2-PeqFRmfa/lib/python3.10/site-packages/optuna/study/_optimize.py\", line 200, in _run_trial\n",
      "    value_or_values = func(trial)\n",
      "  File \"/tmp/ipykernel_14321/3311194114.py\", line 3, in <lambda>\n",
      "    trial_function = lambda trial: objective(trial, train_idxs, val_idxs)\n",
      "  File \"/tmp/ipykernel_14321/3086810912.py\", line 25, in objective\n",
      "    model = build_model(X.shape[1:], len(np.unique(y)), **pars)\n",
      "  File \"/tmp/ipykernel_14321/2093002277.py\", line 18, in build_model\n",
      "    model.add(conv)\n",
      "  File \"/home/djanloo/.local/share/virtualenvs/DM2-PeqFRmfa/lib/python3.10/site-packages/tensorflow/python/trackable/base.py\", line 205, in _method_wrapper\n",
      "    result = method(self, *args, **kwargs)\n",
      "  File \"/home/djanloo/.local/share/virtualenvs/DM2-PeqFRmfa/lib/python3.10/site-packages/keras/utils/traceback_utils.py\", line 70, in error_handler\n",
      "    raise e.with_traceback(filtered_tb) from None\n",
      "  File \"/home/djanloo/.local/share/virtualenvs/DM2-PeqFRmfa/lib/python3.10/site-packages/tensorflow/python/framework/ops.py\", line 1973, in _create_c_op\n",
      "    raise ValueError(e.message)\n",
      "ValueError: Exception encountered when calling layer \"conv_2\" (type Conv1D).\n",
      "\n",
      "Negative dimension size caused by subtracting 5 from 4 for '{{node conv_2/Conv1D}} = Conv2D[T=DT_FLOAT, data_format=\"NHWC\", dilations=[1, 1, 1, 1], explicit_paddings=[], padding=\"VALID\", strides=[1, 1, 1, 1], use_cudnn_on_gpu=true](conv_2/Conv1D/ExpandDims, conv_2/Conv1D/ExpandDims_1)' with input shapes: [?,1,4,15], [1,5,15,15].\n",
      "\n",
      "Call arguments received by layer \"conv_2\" (type Conv1D):\n",
      "  • inputs=tf.Tensor(shape=(None, 4, 15), dtype=float32)\n",
      "[W 2023-07-01 02:26:14,797] Trial 13 failed with value None.\n",
      "[W 2023-07-01 02:26:14,932] Trial 14 failed with parameters: {'epochs': 33, 'resolution': 100, 'n_conv_blocks': 3, 'filters': 16, 'kernel_size': 5, 'pool_size': 8, 'n_dense_blocks': 3, 'dense_nodes': 237} because of the following error: ValueError('Exception encountered when calling layer \"conv_2\" (type Conv1D).\\n\\nNegative dimension size caused by subtracting 5 from 4 for \\'{{node conv_2/Conv1D}} = Conv2D[T=DT_FLOAT, data_format=\"NHWC\", dilations=[1, 1, 1, 1], explicit_paddings=[], padding=\"VALID\", strides=[1, 1, 1, 1], use_cudnn_on_gpu=true](conv_2/Conv1D/ExpandDims, conv_2/Conv1D/ExpandDims_1)\\' with input shapes: [?,1,4,16], [1,5,16,16].\\n\\nCall arguments received by layer \"conv_2\" (type Conv1D):\\n  • inputs=tf.Tensor(shape=(None, 4, 16), dtype=float32)').\n",
      "Traceback (most recent call last):\n",
      "  File \"/home/djanloo/.local/share/virtualenvs/DM2-PeqFRmfa/lib/python3.10/site-packages/optuna/study/_optimize.py\", line 200, in _run_trial\n",
      "    value_or_values = func(trial)\n",
      "  File \"/tmp/ipykernel_14321/3311194114.py\", line 3, in <lambda>\n",
      "    trial_function = lambda trial: objective(trial, train_idxs, val_idxs)\n",
      "  File \"/tmp/ipykernel_14321/3086810912.py\", line 25, in objective\n",
      "    model = build_model(X.shape[1:], len(np.unique(y)), **pars)\n",
      "  File \"/tmp/ipykernel_14321/2093002277.py\", line 18, in build_model\n",
      "    model.add(conv)\n",
      "  File \"/home/djanloo/.local/share/virtualenvs/DM2-PeqFRmfa/lib/python3.10/site-packages/tensorflow/python/trackable/base.py\", line 205, in _method_wrapper\n",
      "    result = method(self, *args, **kwargs)\n",
      "  File \"/home/djanloo/.local/share/virtualenvs/DM2-PeqFRmfa/lib/python3.10/site-packages/keras/utils/traceback_utils.py\", line 70, in error_handler\n",
      "    raise e.with_traceback(filtered_tb) from None\n",
      "  File \"/home/djanloo/.local/share/virtualenvs/DM2-PeqFRmfa/lib/python3.10/site-packages/tensorflow/python/framework/ops.py\", line 1973, in _create_c_op\n",
      "    raise ValueError(e.message)\n",
      "ValueError: Exception encountered when calling layer \"conv_2\" (type Conv1D).\n",
      "\n",
      "Negative dimension size caused by subtracting 5 from 4 for '{{node conv_2/Conv1D}} = Conv2D[T=DT_FLOAT, data_format=\"NHWC\", dilations=[1, 1, 1, 1], explicit_paddings=[], padding=\"VALID\", strides=[1, 1, 1, 1], use_cudnn_on_gpu=true](conv_2/Conv1D/ExpandDims, conv_2/Conv1D/ExpandDims_1)' with input shapes: [?,1,4,16], [1,5,16,16].\n",
      "\n",
      "Call arguments received by layer \"conv_2\" (type Conv1D):\n",
      "  • inputs=tf.Tensor(shape=(None, 4, 16), dtype=float32)\n",
      "[W 2023-07-01 02:26:14,934] Trial 14 failed with value None.\n"
     ]
    },
    {
     "name": "stdout",
     "output_type": "stream",
     "text": [
      "running model having {'n_conv_blocks': 3, 'filters': 16, 'kernel_size': 5, 'pool_size': 8, 'n_dense_blocks': 3, 'dense_nodes': 237} with SpRes = 150 for epochs = 33\n",
      "running model having {'n_conv_blocks': 3, 'filters': 16, 'kernel_size': 5, 'pool_size': 8, 'n_dense_blocks': 3, 'dense_nodes': 213} with SpRes = 150 for epochs = 33\n"
     ]
    },
    {
     "name": "stderr",
     "output_type": "stream",
     "text": [
      "[W 2023-07-01 02:26:15,067] Trial 15 failed with parameters: {'epochs': 33, 'resolution': 100, 'n_conv_blocks': 3, 'filters': 16, 'kernel_size': 5, 'pool_size': 8, 'n_dense_blocks': 3, 'dense_nodes': 213} because of the following error: ValueError('Exception encountered when calling layer \"conv_2\" (type Conv1D).\\n\\nNegative dimension size caused by subtracting 5 from 4 for \\'{{node conv_2/Conv1D}} = Conv2D[T=DT_FLOAT, data_format=\"NHWC\", dilations=[1, 1, 1, 1], explicit_paddings=[], padding=\"VALID\", strides=[1, 1, 1, 1], use_cudnn_on_gpu=true](conv_2/Conv1D/ExpandDims, conv_2/Conv1D/ExpandDims_1)\\' with input shapes: [?,1,4,16], [1,5,16,16].\\n\\nCall arguments received by layer \"conv_2\" (type Conv1D):\\n  • inputs=tf.Tensor(shape=(None, 4, 16), dtype=float32)').\n",
      "Traceback (most recent call last):\n",
      "  File \"/home/djanloo/.local/share/virtualenvs/DM2-PeqFRmfa/lib/python3.10/site-packages/optuna/study/_optimize.py\", line 200, in _run_trial\n",
      "    value_or_values = func(trial)\n",
      "  File \"/tmp/ipykernel_14321/3311194114.py\", line 3, in <lambda>\n",
      "    trial_function = lambda trial: objective(trial, train_idxs, val_idxs)\n",
      "  File \"/tmp/ipykernel_14321/3086810912.py\", line 25, in objective\n",
      "    model = build_model(X.shape[1:], len(np.unique(y)), **pars)\n",
      "  File \"/tmp/ipykernel_14321/2093002277.py\", line 18, in build_model\n",
      "    model.add(conv)\n",
      "  File \"/home/djanloo/.local/share/virtualenvs/DM2-PeqFRmfa/lib/python3.10/site-packages/tensorflow/python/trackable/base.py\", line 205, in _method_wrapper\n",
      "    result = method(self, *args, **kwargs)\n",
      "  File \"/home/djanloo/.local/share/virtualenvs/DM2-PeqFRmfa/lib/python3.10/site-packages/keras/utils/traceback_utils.py\", line 70, in error_handler\n",
      "    raise e.with_traceback(filtered_tb) from None\n",
      "  File \"/home/djanloo/.local/share/virtualenvs/DM2-PeqFRmfa/lib/python3.10/site-packages/tensorflow/python/framework/ops.py\", line 1973, in _create_c_op\n",
      "    raise ValueError(e.message)\n",
      "ValueError: Exception encountered when calling layer \"conv_2\" (type Conv1D).\n",
      "\n",
      "Negative dimension size caused by subtracting 5 from 4 for '{{node conv_2/Conv1D}} = Conv2D[T=DT_FLOAT, data_format=\"NHWC\", dilations=[1, 1, 1, 1], explicit_paddings=[], padding=\"VALID\", strides=[1, 1, 1, 1], use_cudnn_on_gpu=true](conv_2/Conv1D/ExpandDims, conv_2/Conv1D/ExpandDims_1)' with input shapes: [?,1,4,16], [1,5,16,16].\n",
      "\n",
      "Call arguments received by layer \"conv_2\" (type Conv1D):\n",
      "  • inputs=tf.Tensor(shape=(None, 4, 16), dtype=float32)\n",
      "[W 2023-07-01 02:26:15,070] Trial 15 failed with value None.\n"
     ]
    },
    {
     "name": "stdout",
     "output_type": "stream",
     "text": [
      "running model having {'n_conv_blocks': 3, 'filters': 16, 'kernel_size': 5, 'pool_size': 2, 'n_dense_blocks': 3, 'dense_nodes': 209} with SpRes = 150 for epochs = 33\n"
     ]
    },
    {
     "name": "stderr",
     "output_type": "stream",
     "text": [
      "[I 2023-07-01 02:27:16,838] Trial 16 finished with value: 0.4204081632653061 and parameters: {'epochs': 33, 'resolution': 100, 'n_conv_blocks': 3, 'filters': 16, 'kernel_size': 5, 'pool_size': 2, 'n_dense_blocks': 3, 'dense_nodes': 209, 'batch_size': 16}. Best is trial 3 with value: 0.45714285714285713.\n"
     ]
    },
    {
     "name": "stdout",
     "output_type": "stream",
     "text": [
      "running model having {'n_conv_blocks': 3, 'filters': 16, 'kernel_size': 5, 'pool_size': 2, 'n_dense_blocks': 3, 'dense_nodes': 215} with SpRes = 150 for epochs = 33\n"
     ]
    },
    {
     "name": "stderr",
     "output_type": "stream",
     "text": [
      "[I 2023-07-01 02:28:19,743] Trial 17 finished with value: 0.3836734693877551 and parameters: {'epochs': 33, 'resolution': 100, 'n_conv_blocks': 3, 'filters': 16, 'kernel_size': 5, 'pool_size': 2, 'n_dense_blocks': 3, 'dense_nodes': 215, 'batch_size': 16}. Best is trial 3 with value: 0.45714285714285713.\n"
     ]
    },
    {
     "name": "stdout",
     "output_type": "stream",
     "text": [
      "running model having {'n_conv_blocks': 3, 'filters': 16, 'kernel_size': 5, 'pool_size': 4, 'n_dense_blocks': 3, 'dense_nodes': 214} with SpRes = 150 for epochs = 34\n"
     ]
    },
    {
     "name": "stderr",
     "output_type": "stream",
     "text": [
      "[I 2023-07-01 02:29:10,403] Trial 18 finished with value: 0.4204081632653061 and parameters: {'epochs': 34, 'resolution': 100, 'n_conv_blocks': 3, 'filters': 16, 'kernel_size': 5, 'pool_size': 4, 'n_dense_blocks': 3, 'dense_nodes': 214, 'batch_size': 17}. Best is trial 3 with value: 0.45714285714285713.\n"
     ]
    },
    {
     "name": "stdout",
     "output_type": "stream",
     "text": [
      "running model having {'n_conv_blocks': 3, 'filters': 13, 'kernel_size': 4, 'pool_size': 2, 'n_dense_blocks': 1, 'dense_nodes': 167} with SpRes = 150 for epochs = 33\n"
     ]
    },
    {
     "name": "stderr",
     "output_type": "stream",
     "text": [
      "[I 2023-07-01 02:30:03,766] Trial 19 finished with value: 0.43673469387755104 and parameters: {'epochs': 33, 'resolution': 70, 'n_conv_blocks': 3, 'filters': 13, 'kernel_size': 4, 'pool_size': 2, 'n_dense_blocks': 1, 'dense_nodes': 167, 'batch_size': 16}. Best is trial 3 with value: 0.45714285714285713.\n"
     ]
    },
    {
     "name": "stdout",
     "output_type": "stream",
     "text": [
      "running model having {'n_conv_blocks': 2, 'filters': 13, 'kernel_size': 4, 'pool_size': 4, 'n_dense_blocks': 1, 'dense_nodes': 166} with SpRes = 150 for epochs = 26\n"
     ]
    },
    {
     "name": "stderr",
     "output_type": "stream",
     "text": [
      "[I 2023-07-01 02:30:40,814] Trial 20 finished with value: 0.44081632653061226 and parameters: {'epochs': 26, 'resolution': 70, 'n_conv_blocks': 2, 'filters': 13, 'kernel_size': 4, 'pool_size': 4, 'n_dense_blocks': 1, 'dense_nodes': 166, 'batch_size': 19}. Best is trial 3 with value: 0.45714285714285713.\n"
     ]
    },
    {
     "name": "stdout",
     "output_type": "stream",
     "text": [
      "running model having {'n_conv_blocks': 2, 'filters': 13, 'kernel_size': 4, 'pool_size': 4, 'n_dense_blocks': 1, 'dense_nodes': 171} with SpRes = 150 for epochs = 25\n"
     ]
    },
    {
     "name": "stderr",
     "output_type": "stream",
     "text": [
      "[I 2023-07-01 02:31:11,800] Trial 21 finished with value: 0.39183673469387753 and parameters: {'epochs': 25, 'resolution': 70, 'n_conv_blocks': 2, 'filters': 13, 'kernel_size': 4, 'pool_size': 4, 'n_dense_blocks': 1, 'dense_nodes': 171, 'batch_size': 24}. Best is trial 3 with value: 0.45714285714285713.\n"
     ]
    },
    {
     "name": "stdout",
     "output_type": "stream",
     "text": [
      "running model having {'n_conv_blocks': 2, 'filters': 13, 'kernel_size': 4, 'pool_size': 8, 'n_dense_blocks': 1, 'dense_nodes': 174} with SpRes = 150 for epochs = 26\n"
     ]
    },
    {
     "name": "stderr",
     "output_type": "stream",
     "text": [
      "[I 2023-07-01 02:31:41,940] Trial 22 finished with value: 0.5265306122448979 and parameters: {'epochs': 26, 'resolution': 70, 'n_conv_blocks': 2, 'filters': 13, 'kernel_size': 4, 'pool_size': 8, 'n_dense_blocks': 1, 'dense_nodes': 174, 'batch_size': 20}. Best is trial 22 with value: 0.5265306122448979.\n"
     ]
    },
    {
     "name": "stdout",
     "output_type": "stream",
     "text": [
      "running model having {'n_conv_blocks': 2, 'filters': 6, 'kernel_size': 6, 'pool_size': 8, 'n_dense_blocks': 1, 'dense_nodes': 234} with SpRes = 150 for epochs = 22\n"
     ]
    },
    {
     "name": "stderr",
     "output_type": "stream",
     "text": [
      "[I 2023-07-01 02:32:11,572] Trial 23 finished with value: 0.33877551020408164 and parameters: {'epochs': 22, 'resolution': 70, 'n_conv_blocks': 2, 'filters': 6, 'kernel_size': 6, 'pool_size': 8, 'n_dense_blocks': 1, 'dense_nodes': 234, 'batch_size': 24}. Best is trial 22 with value: 0.5265306122448979.\n"
     ]
    },
    {
     "name": "stdout",
     "output_type": "stream",
     "text": [
      "running model having {'n_conv_blocks': 1, 'filters': 12, 'kernel_size': 3, 'pool_size': 8, 'n_dense_blocks': 1, 'dense_nodes': 137} with SpRes = 150 for epochs = 29\n"
     ]
    },
    {
     "name": "stderr",
     "output_type": "stream",
     "text": [
      "[I 2023-07-01 02:32:50,210] Trial 24 finished with value: 0.2979591836734694 and parameters: {'epochs': 29, 'resolution': 100, 'n_conv_blocks': 1, 'filters': 12, 'kernel_size': 3, 'pool_size': 8, 'n_dense_blocks': 1, 'dense_nodes': 137, 'batch_size': 21}. Best is trial 22 with value: 0.5265306122448979.\n"
     ]
    },
    {
     "name": "stdout",
     "output_type": "stream",
     "text": [
      "running model having {'n_conv_blocks': 2, 'filters': 14, 'kernel_size': 4, 'pool_size': 7, 'n_dense_blocks': 1, 'dense_nodes': 185} with SpRes = 150 for epochs = 31\n"
     ]
    },
    {
     "name": "stderr",
     "output_type": "stream",
     "text": [
      "[I 2023-07-01 02:33:23,442] Trial 25 finished with value: 0.5265306122448979 and parameters: {'epochs': 31, 'resolution': 70, 'n_conv_blocks': 2, 'filters': 14, 'kernel_size': 4, 'pool_size': 7, 'n_dense_blocks': 1, 'dense_nodes': 185, 'batch_size': 32}. Best is trial 22 with value: 0.5265306122448979.\n"
     ]
    },
    {
     "name": "stdout",
     "output_type": "stream",
     "text": [
      "running model having {'n_conv_blocks': 2, 'filters': 14, 'kernel_size': 5, 'pool_size': 7, 'n_dense_blocks': 2, 'dense_nodes': 199} with SpRes = 150 for epochs = 15\n"
     ]
    },
    {
     "name": "stderr",
     "output_type": "stream",
     "text": [
      "[I 2023-07-01 02:33:44,630] Trial 26 finished with value: 0.5183673469387755 and parameters: {'epochs': 15, 'resolution': 70, 'n_conv_blocks': 2, 'filters': 14, 'kernel_size': 5, 'pool_size': 7, 'n_dense_blocks': 2, 'dense_nodes': 199, 'batch_size': 32}. Best is trial 22 with value: 0.5265306122448979.\n"
     ]
    },
    {
     "name": "stdout",
     "output_type": "stream",
     "text": [
      "running model having {'n_conv_blocks': 2, 'filters': 14, 'kernel_size': 5, 'pool_size': 7, 'n_dense_blocks': 2, 'dense_nodes': 246} with SpRes = 150 for epochs = 15\n"
     ]
    },
    {
     "name": "stderr",
     "output_type": "stream",
     "text": [
      "[I 2023-07-01 02:34:07,583] Trial 27 finished with value: 0.46122448979591835 and parameters: {'epochs': 15, 'resolution': 70, 'n_conv_blocks': 2, 'filters': 14, 'kernel_size': 5, 'pool_size': 7, 'n_dense_blocks': 2, 'dense_nodes': 246, 'batch_size': 32}. Best is trial 22 with value: 0.5265306122448979.\n"
     ]
    },
    {
     "name": "stdout",
     "output_type": "stream",
     "text": [
      "running model having {'n_conv_blocks': 2, 'filters': 14, 'kernel_size': 4, 'pool_size': 7, 'n_dense_blocks': 2, 'dense_nodes': 189} with SpRes = 150 for epochs = 18\n"
     ]
    },
    {
     "name": "stderr",
     "output_type": "stream",
     "text": [
      "[I 2023-07-01 02:34:28,265] Trial 28 finished with value: 0.49387755102040815 and parameters: {'epochs': 18, 'resolution': 70, 'n_conv_blocks': 2, 'filters': 14, 'kernel_size': 4, 'pool_size': 7, 'n_dense_blocks': 2, 'dense_nodes': 189, 'batch_size': 32}. Best is trial 22 with value: 0.5265306122448979.\n"
     ]
    },
    {
     "name": "stdout",
     "output_type": "stream",
     "text": [
      "running model having {'n_conv_blocks': 2, 'filters': 15, 'kernel_size': 6, 'pool_size': 8, 'n_dense_blocks': 1, 'dense_nodes': 153} with SpRes = 150 for epochs = 28\n"
     ]
    },
    {
     "name": "stderr",
     "output_type": "stream",
     "text": [
      "[I 2023-07-01 02:35:08,042] Trial 29 finished with value: 0.4857142857142857 and parameters: {'epochs': 28, 'resolution': 70, 'n_conv_blocks': 2, 'filters': 15, 'kernel_size': 6, 'pool_size': 8, 'n_dense_blocks': 1, 'dense_nodes': 153, 'batch_size': 30}. Best is trial 22 with value: 0.5265306122448979.\n"
     ]
    },
    {
     "name": "stdout",
     "output_type": "stream",
     "text": [
      "running model having {'n_conv_blocks': 2, 'filters': 14, 'kernel_size': 5, 'pool_size': 6, 'n_dense_blocks': 2, 'dense_nodes': 196} with SpRes = 150 for epochs = 17\n"
     ]
    },
    {
     "name": "stderr",
     "output_type": "stream",
     "text": [
      "[I 2023-07-01 02:35:32,050] Trial 30 finished with value: 0.47346938775510206 and parameters: {'epochs': 17, 'resolution': 70, 'n_conv_blocks': 2, 'filters': 14, 'kernel_size': 5, 'pool_size': 6, 'n_dense_blocks': 2, 'dense_nodes': 196, 'batch_size': 30}. Best is trial 22 with value: 0.5265306122448979.\n"
     ]
    },
    {
     "name": "stdout",
     "output_type": "stream",
     "text": [
      "running model having {'n_conv_blocks': 2, 'filters': 12, 'kernel_size': 3, 'pool_size': 7, 'n_dense_blocks': 1, 'dense_nodes': 235} with SpRes = 150 for epochs = 22\n"
     ]
    },
    {
     "name": "stderr",
     "output_type": "stream",
     "text": [
      "[I 2023-07-01 02:35:54,232] Trial 31 finished with value: 0.47346938775510206 and parameters: {'epochs': 22, 'resolution': 70, 'n_conv_blocks': 2, 'filters': 12, 'kernel_size': 3, 'pool_size': 7, 'n_dense_blocks': 1, 'dense_nodes': 235, 'batch_size': 27}. Best is trial 22 with value: 0.5265306122448979.\n"
     ]
    },
    {
     "name": "stdout",
     "output_type": "stream",
     "text": [
      "running model having {'n_conv_blocks': 1, 'filters': 15, 'kernel_size': 6, 'pool_size': 8, 'n_dense_blocks': 2, 'dense_nodes': 193} with SpRes = 150 for epochs = 31\n"
     ]
    },
    {
     "name": "stderr",
     "output_type": "stream",
     "text": [
      "[I 2023-07-01 02:37:00,705] Trial 32 finished with value: 0.3673469387755102 and parameters: {'epochs': 31, 'resolution': 70, 'n_conv_blocks': 1, 'filters': 15, 'kernel_size': 6, 'pool_size': 8, 'n_dense_blocks': 2, 'dense_nodes': 193, 'batch_size': 31}. Best is trial 22 with value: 0.5265306122448979.\n"
     ]
    },
    {
     "name": "stdout",
     "output_type": "stream",
     "text": [
      "running model having {'n_conv_blocks': 2, 'filters': 12, 'kernel_size': 4, 'pool_size': 7, 'n_dense_blocks': 1, 'dense_nodes': 119} with SpRes = 150 for epochs = 26\n"
     ]
    },
    {
     "name": "stderr",
     "output_type": "stream",
     "text": [
      "[I 2023-07-01 02:37:28,094] Trial 33 finished with value: 0.47346938775510206 and parameters: {'epochs': 26, 'resolution': 70, 'n_conv_blocks': 2, 'filters': 12, 'kernel_size': 4, 'pool_size': 7, 'n_dense_blocks': 1, 'dense_nodes': 119, 'batch_size': 26}. Best is trial 22 with value: 0.5265306122448979.\n"
     ]
    },
    {
     "name": "stdout",
     "output_type": "stream",
     "text": [
      "running model having {'n_conv_blocks': 2, 'filters': 15, 'kernel_size': 5, 'pool_size': 6, 'n_dense_blocks': 2, 'dense_nodes': 224} with SpRes = 150 for epochs = 23\n"
     ]
    },
    {
     "name": "stderr",
     "output_type": "stream",
     "text": [
      "[I 2023-07-01 02:37:59,000] Trial 34 finished with value: 0.4530612244897959 and parameters: {'epochs': 23, 'resolution': 120, 'n_conv_blocks': 2, 'filters': 15, 'kernel_size': 5, 'pool_size': 6, 'n_dense_blocks': 2, 'dense_nodes': 224, 'batch_size': 29}. Best is trial 22 with value: 0.5265306122448979.\n"
     ]
    },
    {
     "name": "stdout",
     "output_type": "stream",
     "text": [
      "running model having {'n_conv_blocks': 1, 'filters': 6, 'kernel_size': 7, 'pool_size': 8, 'n_dense_blocks': 3, 'dense_nodes': 152} with SpRes = 150 for epochs = 20\n"
     ]
    },
    {
     "name": "stderr",
     "output_type": "stream",
     "text": [
      "[I 2023-07-01 02:38:28,631] Trial 35 finished with value: 0.14285714285714285 and parameters: {'epochs': 20, 'resolution': 150, 'n_conv_blocks': 1, 'filters': 6, 'kernel_size': 7, 'pool_size': 8, 'n_dense_blocks': 3, 'dense_nodes': 152, 'batch_size': 22}. Best is trial 22 with value: 0.5265306122448979.\n"
     ]
    },
    {
     "name": "stdout",
     "output_type": "stream",
     "text": [
      "running model having {'n_conv_blocks': 2, 'filters': 14, 'kernel_size': 7, 'pool_size': 7, 'n_dense_blocks': 1, 'dense_nodes': 119} with SpRes = 150 for epochs = 36\n"
     ]
    },
    {
     "name": "stderr",
     "output_type": "stream",
     "text": [
      "[I 2023-07-01 02:39:26,250] Trial 36 finished with value: 0.3673469387755102 and parameters: {'epochs': 36, 'resolution': 70, 'n_conv_blocks': 2, 'filters': 14, 'kernel_size': 7, 'pool_size': 7, 'n_dense_blocks': 1, 'dense_nodes': 119, 'batch_size': 32}. Best is trial 22 with value: 0.5265306122448979.\n"
     ]
    },
    {
     "name": "stdout",
     "output_type": "stream",
     "text": [
      "running model having {'n_conv_blocks': 2, 'filters': 14, 'kernel_size': 4, 'pool_size': 7, 'n_dense_blocks': 2, 'dense_nodes': 188} with SpRes = 150 for epochs = 18\n"
     ]
    },
    {
     "name": "stderr",
     "output_type": "stream",
     "text": [
      "[I 2023-07-01 02:39:46,995] Trial 37 finished with value: 0.45714285714285713 and parameters: {'epochs': 18, 'resolution': 70, 'n_conv_blocks': 2, 'filters': 14, 'kernel_size': 4, 'pool_size': 7, 'n_dense_blocks': 2, 'dense_nodes': 188, 'batch_size': 32}. Best is trial 22 with value: 0.5265306122448979.\n"
     ]
    },
    {
     "name": "stdout",
     "output_type": "stream",
     "text": [
      "running model having {'n_conv_blocks': 2, 'filters': 13, 'kernel_size': 4, 'pool_size': 6, 'n_dense_blocks': 2, 'dense_nodes': 203} with SpRes = 150 for epochs = 17\n"
     ]
    },
    {
     "name": "stderr",
     "output_type": "stream",
     "text": [
      "[I 2023-07-01 02:40:07,215] Trial 38 finished with value: 0.4163265306122449 and parameters: {'epochs': 17, 'resolution': 70, 'n_conv_blocks': 2, 'filters': 13, 'kernel_size': 4, 'pool_size': 6, 'n_dense_blocks': 2, 'dense_nodes': 203, 'batch_size': 31}. Best is trial 22 with value: 0.5265306122448979.\n"
     ]
    },
    {
     "name": "stdout",
     "output_type": "stream",
     "text": [
      "running model having {'n_conv_blocks': 2, 'filters': 15, 'kernel_size': 3, 'pool_size': 7, 'n_dense_blocks': 2, 'dense_nodes': 181} with SpRes = 150 for epochs = 19\n"
     ]
    },
    {
     "name": "stderr",
     "output_type": "stream",
     "text": [
      "[I 2023-07-01 02:40:27,470] Trial 39 finished with value: 0.49795918367346936 and parameters: {'epochs': 19, 'resolution': 70, 'n_conv_blocks': 2, 'filters': 15, 'kernel_size': 3, 'pool_size': 7, 'n_dense_blocks': 2, 'dense_nodes': 181, 'batch_size': 29}. Best is trial 22 with value: 0.5265306122448979.\n"
     ]
    },
    {
     "name": "stdout",
     "output_type": "stream",
     "text": [
      "running model having {'n_conv_blocks': 2, 'filters': 15, 'kernel_size': 3, 'pool_size': 8, 'n_dense_blocks': 2, 'dense_nodes': 174} with SpRes = 150 for epochs = 20\n"
     ]
    },
    {
     "name": "stderr",
     "output_type": "stream",
     "text": [
      "[I 2023-07-01 02:40:51,222] Trial 40 finished with value: 0.4775510204081633 and parameters: {'epochs': 20, 'resolution': 50, 'n_conv_blocks': 2, 'filters': 15, 'kernel_size': 3, 'pool_size': 8, 'n_dense_blocks': 2, 'dense_nodes': 174, 'batch_size': 28}. Best is trial 22 with value: 0.5265306122448979.\n"
     ]
    },
    {
     "name": "stdout",
     "output_type": "stream",
     "text": [
      "running model having {'n_conv_blocks': 2, 'filters': 11, 'kernel_size': 3, 'pool_size': 6, 'n_dense_blocks': 2, 'dense_nodes': 148} with SpRes = 150 for epochs = 16\n"
     ]
    },
    {
     "name": "stderr",
     "output_type": "stream",
     "text": [
      "[I 2023-07-01 02:41:07,391] Trial 41 finished with value: 0.46530612244897956 and parameters: {'epochs': 16, 'resolution': 70, 'n_conv_blocks': 2, 'filters': 11, 'kernel_size': 3, 'pool_size': 6, 'n_dense_blocks': 2, 'dense_nodes': 148, 'batch_size': 29}. Best is trial 22 with value: 0.5265306122448979.\n"
     ]
    },
    {
     "name": "stdout",
     "output_type": "stream",
     "text": [
      "running model having {'n_conv_blocks': 2, 'filters': 16, 'kernel_size': 3, 'pool_size': 7, 'n_dense_blocks': 3, 'dense_nodes': 177} with SpRes = 150 for epochs = 19\n"
     ]
    },
    {
     "name": "stderr",
     "output_type": "stream",
     "text": [
      "[I 2023-07-01 02:41:25,344] Trial 42 finished with value: 0.46938775510204084 and parameters: {'epochs': 19, 'resolution': 150, 'n_conv_blocks': 2, 'filters': 16, 'kernel_size': 3, 'pool_size': 7, 'n_dense_blocks': 3, 'dense_nodes': 177, 'batch_size': 26}. Best is trial 22 with value: 0.5265306122448979.\n"
     ]
    },
    {
     "name": "stdout",
     "output_type": "stream",
     "text": [
      "running model having {'n_conv_blocks': 2, 'filters': 11, 'kernel_size': 3, 'pool_size': 8, 'n_dense_blocks': 1, 'dense_nodes': 256} with SpRes = 150 for epochs = 31\n"
     ]
    },
    {
     "name": "stderr",
     "output_type": "stream",
     "text": [
      "[I 2023-07-01 02:41:52,466] Trial 43 finished with value: 0.3877551020408163 and parameters: {'epochs': 31, 'resolution': 120, 'n_conv_blocks': 2, 'filters': 11, 'kernel_size': 3, 'pool_size': 8, 'n_dense_blocks': 1, 'dense_nodes': 256, 'batch_size': 31}. Best is trial 22 with value: 0.5265306122448979.\n"
     ]
    },
    {
     "name": "stdout",
     "output_type": "stream",
     "text": [
      "running model having {'n_conv_blocks': 1, 'filters': 12, 'kernel_size': 4, 'pool_size': 6, 'n_dense_blocks': 2, 'dense_nodes': 160} with SpRes = 150 for epochs = 40\n"
     ]
    },
    {
     "name": "stderr",
     "output_type": "stream",
     "text": [
      "[I 2023-07-01 02:42:54,930] Trial 44 finished with value: 0.4530612244897959 and parameters: {'epochs': 40, 'resolution': 70, 'n_conv_blocks': 1, 'filters': 12, 'kernel_size': 4, 'pool_size': 6, 'n_dense_blocks': 2, 'dense_nodes': 160, 'batch_size': 29}. Best is trial 22 with value: 0.5265306122448979.\n"
     ]
    },
    {
     "name": "stdout",
     "output_type": "stream",
     "text": [
      "running model having {'n_conv_blocks': 3, 'filters': 4, 'kernel_size': 5, 'pool_size': 7, 'n_dense_blocks': 1, 'dense_nodes': 129} with SpRes = 150 for epochs = 24\n"
     ]
    },
    {
     "name": "stderr",
     "output_type": "stream",
     "text": [
      "[I 2023-07-01 02:43:24,250] Trial 45 finished with value: 0.012244897959183673 and parameters: {'epochs': 24, 'resolution': 70, 'n_conv_blocks': 3, 'filters': 4, 'kernel_size': 5, 'pool_size': 7, 'n_dense_blocks': 1, 'dense_nodes': 129, 'batch_size': 25}. Best is trial 22 with value: 0.5265306122448979.\n"
     ]
    },
    {
     "name": "stdout",
     "output_type": "stream",
     "text": [
      "running model having {'n_conv_blocks': 2, 'filters': 10, 'kernel_size': 4, 'pool_size': 8, 'n_dense_blocks': 2, 'dense_nodes': 200} with SpRes = 150 for epochs = 27\n"
     ]
    },
    {
     "name": "stderr",
     "output_type": "stream",
     "text": [
      "[I 2023-07-01 02:43:57,401] Trial 46 finished with value: 0.49795918367346936 and parameters: {'epochs': 27, 'resolution': 50, 'n_conv_blocks': 2, 'filters': 10, 'kernel_size': 4, 'pool_size': 8, 'n_dense_blocks': 2, 'dense_nodes': 200, 'batch_size': 23}. Best is trial 22 with value: 0.5265306122448979.\n"
     ]
    },
    {
     "name": "stdout",
     "output_type": "stream",
     "text": [
      "running model having {'n_conv_blocks': 2, 'filters': 10, 'kernel_size': 4, 'pool_size': 8, 'n_dense_blocks': 2, 'dense_nodes': 226} with SpRes = 150 for epochs = 28\n"
     ]
    },
    {
     "name": "stderr",
     "output_type": "stream",
     "text": [
      "[I 2023-07-01 02:44:32,319] Trial 47 finished with value: 0.46122448979591835 and parameters: {'epochs': 28, 'resolution': 50, 'n_conv_blocks': 2, 'filters': 10, 'kernel_size': 4, 'pool_size': 8, 'n_dense_blocks': 2, 'dense_nodes': 226, 'batch_size': 23}. Best is trial 22 with value: 0.5265306122448979.\n"
     ]
    },
    {
     "name": "stdout",
     "output_type": "stream",
     "text": [
      "running model having {'n_conv_blocks': 2, 'filters': 9, 'kernel_size': 3, 'pool_size': 8, 'n_dense_blocks': 2, 'dense_nodes': 202} with SpRes = 150 for epochs = 26\n"
     ]
    },
    {
     "name": "stderr",
     "output_type": "stream",
     "text": [
      "[I 2023-07-01 02:45:01,669] Trial 48 finished with value: 0.4897959183673469 and parameters: {'epochs': 26, 'resolution': 50, 'n_conv_blocks': 2, 'filters': 9, 'kernel_size': 3, 'pool_size': 8, 'n_dense_blocks': 2, 'dense_nodes': 202, 'batch_size': 20}. Best is trial 22 with value: 0.5265306122448979.\n"
     ]
    },
    {
     "name": "stdout",
     "output_type": "stream",
     "text": [
      "running model having {'n_conv_blocks': 2, 'filters': 15, 'kernel_size': 4, 'pool_size': 7, 'n_dense_blocks': 2, 'dense_nodes': 184} with SpRes = 150 for epochs = 31\n"
     ]
    },
    {
     "name": "stderr",
     "output_type": "stream",
     "text": [
      "[I 2023-07-01 02:45:43,431] Trial 49 finished with value: 0.5265306122448979 and parameters: {'epochs': 31, 'resolution': 50, 'n_conv_blocks': 2, 'filters': 15, 'kernel_size': 4, 'pool_size': 7, 'n_dense_blocks': 2, 'dense_nodes': 184, 'batch_size': 23}. Best is trial 22 with value: 0.5265306122448979.\n"
     ]
    },
    {
     "name": "stdout",
     "output_type": "stream",
     "text": [
      "running model having {'n_conv_blocks': 2, 'filters': 15, 'kernel_size': 5, 'pool_size': 5, 'n_dense_blocks': 2, 'dense_nodes': 26} with SpRes = 150 for epochs = 31\n"
     ]
    },
    {
     "name": "stderr",
     "output_type": "stream",
     "text": [
      "[I 2023-07-01 02:46:25,473] Trial 50 finished with value: 0.39591836734693875 and parameters: {'epochs': 31, 'resolution': 50, 'n_conv_blocks': 2, 'filters': 15, 'kernel_size': 5, 'pool_size': 5, 'n_dense_blocks': 2, 'dense_nodes': 26, 'batch_size': 27}. Best is trial 22 with value: 0.5265306122448979.\n"
     ]
    },
    {
     "name": "stdout",
     "output_type": "stream",
     "text": [
      "running model having {'n_conv_blocks': 2, 'filters': 16, 'kernel_size': 4, 'pool_size': 7, 'n_dense_blocks': 3, 'dense_nodes': 181} with SpRes = 150 for epochs = 35\n"
     ]
    },
    {
     "name": "stderr",
     "output_type": "stream",
     "text": [
      "[I 2023-07-01 02:47:05,575] Trial 51 finished with value: 0.45714285714285713 and parameters: {'epochs': 35, 'resolution': 120, 'n_conv_blocks': 2, 'filters': 16, 'kernel_size': 4, 'pool_size': 7, 'n_dense_blocks': 3, 'dense_nodes': 181, 'batch_size': 21}. Best is trial 22 with value: 0.5265306122448979.\n"
     ]
    },
    {
     "name": "stdout",
     "output_type": "stream",
     "text": [
      "running model having {'n_conv_blocks': 2, 'filters': 15, 'kernel_size': 3, 'pool_size': 6, 'n_dense_blocks': 2, 'dense_nodes': 217} with SpRes = 150 for epochs = 30\n"
     ]
    },
    {
     "name": "stderr",
     "output_type": "stream",
     "text": [
      "[I 2023-07-01 02:47:34,102] Trial 52 finished with value: 0.5224489795918368 and parameters: {'epochs': 30, 'resolution': 150, 'n_conv_blocks': 2, 'filters': 15, 'kernel_size': 3, 'pool_size': 6, 'n_dense_blocks': 2, 'dense_nodes': 217, 'batch_size': 31}. Best is trial 22 with value: 0.5265306122448979.\n",
      "[W 2023-07-01 02:47:34,255] Trial 53 failed with parameters: {'epochs': 32, 'resolution': 150, 'n_conv_blocks': 3, 'filters': 13, 'kernel_size': 5, 'pool_size': 6, 'n_dense_blocks': 1, 'dense_nodes': 212} because of the following error: ValueError('Exception encountered when calling layer \"conv_2\" (type Conv1D).\\n\\nNegative dimension size caused by subtracting 5 from 4 for \\'{{node conv_2/Conv1D}} = Conv2D[T=DT_FLOAT, data_format=\"NHWC\", dilations=[1, 1, 1, 1], explicit_paddings=[], padding=\"VALID\", strides=[1, 1, 1, 1], use_cudnn_on_gpu=true](conv_2/Conv1D/ExpandDims, conv_2/Conv1D/ExpandDims_1)\\' with input shapes: [?,1,4,13], [1,5,13,13].\\n\\nCall arguments received by layer \"conv_2\" (type Conv1D):\\n  • inputs=tf.Tensor(shape=(None, 4, 13), dtype=float32)').\n",
      "Traceback (most recent call last):\n",
      "  File \"/home/djanloo/.local/share/virtualenvs/DM2-PeqFRmfa/lib/python3.10/site-packages/optuna/study/_optimize.py\", line 200, in _run_trial\n",
      "    value_or_values = func(trial)\n",
      "  File \"/tmp/ipykernel_14321/3311194114.py\", line 3, in <lambda>\n",
      "    trial_function = lambda trial: objective(trial, train_idxs, val_idxs)\n",
      "  File \"/tmp/ipykernel_14321/3086810912.py\", line 25, in objective\n",
      "    model = build_model(X.shape[1:], len(np.unique(y)), **pars)\n",
      "  File \"/tmp/ipykernel_14321/2093002277.py\", line 18, in build_model\n",
      "    model.add(conv)\n",
      "  File \"/home/djanloo/.local/share/virtualenvs/DM2-PeqFRmfa/lib/python3.10/site-packages/tensorflow/python/trackable/base.py\", line 205, in _method_wrapper\n",
      "    result = method(self, *args, **kwargs)\n",
      "  File \"/home/djanloo/.local/share/virtualenvs/DM2-PeqFRmfa/lib/python3.10/site-packages/keras/utils/traceback_utils.py\", line 70, in error_handler\n",
      "    raise e.with_traceback(filtered_tb) from None\n",
      "  File \"/home/djanloo/.local/share/virtualenvs/DM2-PeqFRmfa/lib/python3.10/site-packages/tensorflow/python/framework/ops.py\", line 1973, in _create_c_op\n",
      "    raise ValueError(e.message)\n",
      "ValueError: Exception encountered when calling layer \"conv_2\" (type Conv1D).\n",
      "\n",
      "Negative dimension size caused by subtracting 5 from 4 for '{{node conv_2/Conv1D}} = Conv2D[T=DT_FLOAT, data_format=\"NHWC\", dilations=[1, 1, 1, 1], explicit_paddings=[], padding=\"VALID\", strides=[1, 1, 1, 1], use_cudnn_on_gpu=true](conv_2/Conv1D/ExpandDims, conv_2/Conv1D/ExpandDims_1)' with input shapes: [?,1,4,13], [1,5,13,13].\n",
      "\n",
      "Call arguments received by layer \"conv_2\" (type Conv1D):\n",
      "  • inputs=tf.Tensor(shape=(None, 4, 13), dtype=float32)\n",
      "[W 2023-07-01 02:47:34,260] Trial 53 failed with value None.\n"
     ]
    },
    {
     "name": "stdout",
     "output_type": "stream",
     "text": [
      "running model having {'n_conv_blocks': 3, 'filters': 13, 'kernel_size': 5, 'pool_size': 6, 'n_dense_blocks': 1, 'dense_nodes': 212} with SpRes = 150 for epochs = 32\n",
      "running model having {'n_conv_blocks': 3, 'filters': 13, 'kernel_size': 5, 'pool_size': 6, 'n_dense_blocks': 1, 'dense_nodes': 214} with SpRes = 150 for epochs = 32\n"
     ]
    },
    {
     "name": "stderr",
     "output_type": "stream",
     "text": [
      "[W 2023-07-01 02:47:34,409] Trial 54 failed with parameters: {'epochs': 32, 'resolution': 150, 'n_conv_blocks': 3, 'filters': 13, 'kernel_size': 5, 'pool_size': 6, 'n_dense_blocks': 1, 'dense_nodes': 214} because of the following error: ValueError('Exception encountered when calling layer \"conv_2\" (type Conv1D).\\n\\nNegative dimension size caused by subtracting 5 from 4 for \\'{{node conv_2/Conv1D}} = Conv2D[T=DT_FLOAT, data_format=\"NHWC\", dilations=[1, 1, 1, 1], explicit_paddings=[], padding=\"VALID\", strides=[1, 1, 1, 1], use_cudnn_on_gpu=true](conv_2/Conv1D/ExpandDims, conv_2/Conv1D/ExpandDims_1)\\' with input shapes: [?,1,4,13], [1,5,13,13].\\n\\nCall arguments received by layer \"conv_2\" (type Conv1D):\\n  • inputs=tf.Tensor(shape=(None, 4, 13), dtype=float32)').\n",
      "Traceback (most recent call last):\n",
      "  File \"/home/djanloo/.local/share/virtualenvs/DM2-PeqFRmfa/lib/python3.10/site-packages/optuna/study/_optimize.py\", line 200, in _run_trial\n",
      "    value_or_values = func(trial)\n",
      "  File \"/tmp/ipykernel_14321/3311194114.py\", line 3, in <lambda>\n",
      "    trial_function = lambda trial: objective(trial, train_idxs, val_idxs)\n",
      "  File \"/tmp/ipykernel_14321/3086810912.py\", line 25, in objective\n",
      "    model = build_model(X.shape[1:], len(np.unique(y)), **pars)\n",
      "  File \"/tmp/ipykernel_14321/2093002277.py\", line 18, in build_model\n",
      "    model.add(conv)\n",
      "  File \"/home/djanloo/.local/share/virtualenvs/DM2-PeqFRmfa/lib/python3.10/site-packages/tensorflow/python/trackable/base.py\", line 205, in _method_wrapper\n",
      "    result = method(self, *args, **kwargs)\n",
      "  File \"/home/djanloo/.local/share/virtualenvs/DM2-PeqFRmfa/lib/python3.10/site-packages/keras/utils/traceback_utils.py\", line 70, in error_handler\n",
      "    raise e.with_traceback(filtered_tb) from None\n",
      "  File \"/home/djanloo/.local/share/virtualenvs/DM2-PeqFRmfa/lib/python3.10/site-packages/tensorflow/python/framework/ops.py\", line 1973, in _create_c_op\n",
      "    raise ValueError(e.message)\n",
      "ValueError: Exception encountered when calling layer \"conv_2\" (type Conv1D).\n",
      "\n",
      "Negative dimension size caused by subtracting 5 from 4 for '{{node conv_2/Conv1D}} = Conv2D[T=DT_FLOAT, data_format=\"NHWC\", dilations=[1, 1, 1, 1], explicit_paddings=[], padding=\"VALID\", strides=[1, 1, 1, 1], use_cudnn_on_gpu=true](conv_2/Conv1D/ExpandDims, conv_2/Conv1D/ExpandDims_1)' with input shapes: [?,1,4,13], [1,5,13,13].\n",
      "\n",
      "Call arguments received by layer \"conv_2\" (type Conv1D):\n",
      "  • inputs=tf.Tensor(shape=(None, 4, 13), dtype=float32)\n",
      "[W 2023-07-01 02:47:34,410] Trial 54 failed with value None.\n",
      "[W 2023-07-01 02:47:34,555] Trial 55 failed with parameters: {'epochs': 30, 'resolution': 150, 'n_conv_blocks': 3, 'filters': 13, 'kernel_size': 5, 'pool_size': 6, 'n_dense_blocks': 1, 'dense_nodes': 223} because of the following error: ValueError('Exception encountered when calling layer \"conv_2\" (type Conv1D).\\n\\nNegative dimension size caused by subtracting 5 from 4 for \\'{{node conv_2/Conv1D}} = Conv2D[T=DT_FLOAT, data_format=\"NHWC\", dilations=[1, 1, 1, 1], explicit_paddings=[], padding=\"VALID\", strides=[1, 1, 1, 1], use_cudnn_on_gpu=true](conv_2/Conv1D/ExpandDims, conv_2/Conv1D/ExpandDims_1)\\' with input shapes: [?,1,4,13], [1,5,13,13].\\n\\nCall arguments received by layer \"conv_2\" (type Conv1D):\\n  • inputs=tf.Tensor(shape=(None, 4, 13), dtype=float32)').\n",
      "Traceback (most recent call last):\n",
      "  File \"/home/djanloo/.local/share/virtualenvs/DM2-PeqFRmfa/lib/python3.10/site-packages/optuna/study/_optimize.py\", line 200, in _run_trial\n",
      "    value_or_values = func(trial)\n",
      "  File \"/tmp/ipykernel_14321/3311194114.py\", line 3, in <lambda>\n",
      "    trial_function = lambda trial: objective(trial, train_idxs, val_idxs)\n",
      "  File \"/tmp/ipykernel_14321/3086810912.py\", line 25, in objective\n",
      "    model = build_model(X.shape[1:], len(np.unique(y)), **pars)\n",
      "  File \"/tmp/ipykernel_14321/2093002277.py\", line 18, in build_model\n",
      "    model.add(conv)\n",
      "  File \"/home/djanloo/.local/share/virtualenvs/DM2-PeqFRmfa/lib/python3.10/site-packages/tensorflow/python/trackable/base.py\", line 205, in _method_wrapper\n",
      "    result = method(self, *args, **kwargs)\n",
      "  File \"/home/djanloo/.local/share/virtualenvs/DM2-PeqFRmfa/lib/python3.10/site-packages/keras/utils/traceback_utils.py\", line 70, in error_handler\n",
      "    raise e.with_traceback(filtered_tb) from None\n",
      "  File \"/home/djanloo/.local/share/virtualenvs/DM2-PeqFRmfa/lib/python3.10/site-packages/tensorflow/python/framework/ops.py\", line 1973, in _create_c_op\n",
      "    raise ValueError(e.message)\n",
      "ValueError: Exception encountered when calling layer \"conv_2\" (type Conv1D).\n",
      "\n",
      "Negative dimension size caused by subtracting 5 from 4 for '{{node conv_2/Conv1D}} = Conv2D[T=DT_FLOAT, data_format=\"NHWC\", dilations=[1, 1, 1, 1], explicit_paddings=[], padding=\"VALID\", strides=[1, 1, 1, 1], use_cudnn_on_gpu=true](conv_2/Conv1D/ExpandDims, conv_2/Conv1D/ExpandDims_1)' with input shapes: [?,1,4,13], [1,5,13,13].\n",
      "\n",
      "Call arguments received by layer \"conv_2\" (type Conv1D):\n",
      "  • inputs=tf.Tensor(shape=(None, 4, 13), dtype=float32)\n",
      "[W 2023-07-01 02:47:34,556] Trial 55 failed with value None.\n"
     ]
    },
    {
     "name": "stdout",
     "output_type": "stream",
     "text": [
      "running model having {'n_conv_blocks': 3, 'filters': 13, 'kernel_size': 5, 'pool_size': 6, 'n_dense_blocks': 1, 'dense_nodes': 223} with SpRes = 150 for epochs = 30\n",
      "running model having {'n_conv_blocks': 3, 'filters': 13, 'kernel_size': 5, 'pool_size': 6, 'n_dense_blocks': 1, 'dense_nodes': 212} with SpRes = 150 for epochs = 30\n"
     ]
    },
    {
     "name": "stderr",
     "output_type": "stream",
     "text": [
      "[W 2023-07-01 02:47:34,705] Trial 56 failed with parameters: {'epochs': 30, 'resolution': 150, 'n_conv_blocks': 3, 'filters': 13, 'kernel_size': 5, 'pool_size': 6, 'n_dense_blocks': 1, 'dense_nodes': 212} because of the following error: ValueError('Exception encountered when calling layer \"conv_2\" (type Conv1D).\\n\\nNegative dimension size caused by subtracting 5 from 4 for \\'{{node conv_2/Conv1D}} = Conv2D[T=DT_FLOAT, data_format=\"NHWC\", dilations=[1, 1, 1, 1], explicit_paddings=[], padding=\"VALID\", strides=[1, 1, 1, 1], use_cudnn_on_gpu=true](conv_2/Conv1D/ExpandDims, conv_2/Conv1D/ExpandDims_1)\\' with input shapes: [?,1,4,13], [1,5,13,13].\\n\\nCall arguments received by layer \"conv_2\" (type Conv1D):\\n  • inputs=tf.Tensor(shape=(None, 4, 13), dtype=float32)').\n",
      "Traceback (most recent call last):\n",
      "  File \"/home/djanloo/.local/share/virtualenvs/DM2-PeqFRmfa/lib/python3.10/site-packages/optuna/study/_optimize.py\", line 200, in _run_trial\n",
      "    value_or_values = func(trial)\n",
      "  File \"/tmp/ipykernel_14321/3311194114.py\", line 3, in <lambda>\n",
      "    trial_function = lambda trial: objective(trial, train_idxs, val_idxs)\n",
      "  File \"/tmp/ipykernel_14321/3086810912.py\", line 25, in objective\n",
      "    model = build_model(X.shape[1:], len(np.unique(y)), **pars)\n",
      "  File \"/tmp/ipykernel_14321/2093002277.py\", line 18, in build_model\n",
      "    model.add(conv)\n",
      "  File \"/home/djanloo/.local/share/virtualenvs/DM2-PeqFRmfa/lib/python3.10/site-packages/tensorflow/python/trackable/base.py\", line 205, in _method_wrapper\n",
      "    result = method(self, *args, **kwargs)\n",
      "  File \"/home/djanloo/.local/share/virtualenvs/DM2-PeqFRmfa/lib/python3.10/site-packages/keras/utils/traceback_utils.py\", line 70, in error_handler\n",
      "    raise e.with_traceback(filtered_tb) from None\n",
      "  File \"/home/djanloo/.local/share/virtualenvs/DM2-PeqFRmfa/lib/python3.10/site-packages/tensorflow/python/framework/ops.py\", line 1973, in _create_c_op\n",
      "    raise ValueError(e.message)\n",
      "ValueError: Exception encountered when calling layer \"conv_2\" (type Conv1D).\n",
      "\n",
      "Negative dimension size caused by subtracting 5 from 4 for '{{node conv_2/Conv1D}} = Conv2D[T=DT_FLOAT, data_format=\"NHWC\", dilations=[1, 1, 1, 1], explicit_paddings=[], padding=\"VALID\", strides=[1, 1, 1, 1], use_cudnn_on_gpu=true](conv_2/Conv1D/ExpandDims, conv_2/Conv1D/ExpandDims_1)' with input shapes: [?,1,4,13], [1,5,13,13].\n",
      "\n",
      "Call arguments received by layer \"conv_2\" (type Conv1D):\n",
      "  • inputs=tf.Tensor(shape=(None, 4, 13), dtype=float32)\n",
      "[W 2023-07-01 02:47:34,706] Trial 56 failed with value None.\n",
      "[W 2023-07-01 02:47:34,849] Trial 57 failed with parameters: {'epochs': 30, 'resolution': 150, 'n_conv_blocks': 3, 'filters': 13, 'kernel_size': 5, 'pool_size': 6, 'n_dense_blocks': 1, 'dense_nodes': 218} because of the following error: ValueError('Exception encountered when calling layer \"conv_2\" (type Conv1D).\\n\\nNegative dimension size caused by subtracting 5 from 4 for \\'{{node conv_2/Conv1D}} = Conv2D[T=DT_FLOAT, data_format=\"NHWC\", dilations=[1, 1, 1, 1], explicit_paddings=[], padding=\"VALID\", strides=[1, 1, 1, 1], use_cudnn_on_gpu=true](conv_2/Conv1D/ExpandDims, conv_2/Conv1D/ExpandDims_1)\\' with input shapes: [?,1,4,13], [1,5,13,13].\\n\\nCall arguments received by layer \"conv_2\" (type Conv1D):\\n  • inputs=tf.Tensor(shape=(None, 4, 13), dtype=float32)').\n",
      "Traceback (most recent call last):\n",
      "  File \"/home/djanloo/.local/share/virtualenvs/DM2-PeqFRmfa/lib/python3.10/site-packages/optuna/study/_optimize.py\", line 200, in _run_trial\n",
      "    value_or_values = func(trial)\n",
      "  File \"/tmp/ipykernel_14321/3311194114.py\", line 3, in <lambda>\n",
      "    trial_function = lambda trial: objective(trial, train_idxs, val_idxs)\n",
      "  File \"/tmp/ipykernel_14321/3086810912.py\", line 25, in objective\n",
      "    model = build_model(X.shape[1:], len(np.unique(y)), **pars)\n",
      "  File \"/tmp/ipykernel_14321/2093002277.py\", line 18, in build_model\n",
      "    model.add(conv)\n",
      "  File \"/home/djanloo/.local/share/virtualenvs/DM2-PeqFRmfa/lib/python3.10/site-packages/tensorflow/python/trackable/base.py\", line 205, in _method_wrapper\n",
      "    result = method(self, *args, **kwargs)\n",
      "  File \"/home/djanloo/.local/share/virtualenvs/DM2-PeqFRmfa/lib/python3.10/site-packages/keras/utils/traceback_utils.py\", line 70, in error_handler\n",
      "    raise e.with_traceback(filtered_tb) from None\n",
      "  File \"/home/djanloo/.local/share/virtualenvs/DM2-PeqFRmfa/lib/python3.10/site-packages/tensorflow/python/framework/ops.py\", line 1973, in _create_c_op\n",
      "    raise ValueError(e.message)\n",
      "ValueError: Exception encountered when calling layer \"conv_2\" (type Conv1D).\n",
      "\n",
      "Negative dimension size caused by subtracting 5 from 4 for '{{node conv_2/Conv1D}} = Conv2D[T=DT_FLOAT, data_format=\"NHWC\", dilations=[1, 1, 1, 1], explicit_paddings=[], padding=\"VALID\", strides=[1, 1, 1, 1], use_cudnn_on_gpu=true](conv_2/Conv1D/ExpandDims, conv_2/Conv1D/ExpandDims_1)' with input shapes: [?,1,4,13], [1,5,13,13].\n",
      "\n",
      "Call arguments received by layer \"conv_2\" (type Conv1D):\n",
      "  • inputs=tf.Tensor(shape=(None, 4, 13), dtype=float32)\n",
      "[W 2023-07-01 02:47:34,851] Trial 57 failed with value None.\n"
     ]
    },
    {
     "name": "stdout",
     "output_type": "stream",
     "text": [
      "running model having {'n_conv_blocks': 3, 'filters': 13, 'kernel_size': 5, 'pool_size': 6, 'n_dense_blocks': 1, 'dense_nodes': 218} with SpRes = 150 for epochs = 30\n",
      "running model having {'n_conv_blocks': 3, 'filters': 13, 'kernel_size': 5, 'pool_size': 6, 'n_dense_blocks': 1, 'dense_nodes': 216} with SpRes = 150 for epochs = 29\n"
     ]
    },
    {
     "name": "stderr",
     "output_type": "stream",
     "text": [
      "[W 2023-07-01 02:47:35,000] Trial 58 failed with parameters: {'epochs': 29, 'resolution': 150, 'n_conv_blocks': 3, 'filters': 13, 'kernel_size': 5, 'pool_size': 6, 'n_dense_blocks': 1, 'dense_nodes': 216} because of the following error: ValueError('Exception encountered when calling layer \"conv_2\" (type Conv1D).\\n\\nNegative dimension size caused by subtracting 5 from 4 for \\'{{node conv_2/Conv1D}} = Conv2D[T=DT_FLOAT, data_format=\"NHWC\", dilations=[1, 1, 1, 1], explicit_paddings=[], padding=\"VALID\", strides=[1, 1, 1, 1], use_cudnn_on_gpu=true](conv_2/Conv1D/ExpandDims, conv_2/Conv1D/ExpandDims_1)\\' with input shapes: [?,1,4,13], [1,5,13,13].\\n\\nCall arguments received by layer \"conv_2\" (type Conv1D):\\n  • inputs=tf.Tensor(shape=(None, 4, 13), dtype=float32)').\n",
      "Traceback (most recent call last):\n",
      "  File \"/home/djanloo/.local/share/virtualenvs/DM2-PeqFRmfa/lib/python3.10/site-packages/optuna/study/_optimize.py\", line 200, in _run_trial\n",
      "    value_or_values = func(trial)\n",
      "  File \"/tmp/ipykernel_14321/3311194114.py\", line 3, in <lambda>\n",
      "    trial_function = lambda trial: objective(trial, train_idxs, val_idxs)\n",
      "  File \"/tmp/ipykernel_14321/3086810912.py\", line 25, in objective\n",
      "    model = build_model(X.shape[1:], len(np.unique(y)), **pars)\n",
      "  File \"/tmp/ipykernel_14321/2093002277.py\", line 18, in build_model\n",
      "    model.add(conv)\n",
      "  File \"/home/djanloo/.local/share/virtualenvs/DM2-PeqFRmfa/lib/python3.10/site-packages/tensorflow/python/trackable/base.py\", line 205, in _method_wrapper\n",
      "    result = method(self, *args, **kwargs)\n",
      "  File \"/home/djanloo/.local/share/virtualenvs/DM2-PeqFRmfa/lib/python3.10/site-packages/keras/utils/traceback_utils.py\", line 70, in error_handler\n",
      "    raise e.with_traceback(filtered_tb) from None\n",
      "  File \"/home/djanloo/.local/share/virtualenvs/DM2-PeqFRmfa/lib/python3.10/site-packages/tensorflow/python/framework/ops.py\", line 1973, in _create_c_op\n",
      "    raise ValueError(e.message)\n",
      "ValueError: Exception encountered when calling layer \"conv_2\" (type Conv1D).\n",
      "\n",
      "Negative dimension size caused by subtracting 5 from 4 for '{{node conv_2/Conv1D}} = Conv2D[T=DT_FLOAT, data_format=\"NHWC\", dilations=[1, 1, 1, 1], explicit_paddings=[], padding=\"VALID\", strides=[1, 1, 1, 1], use_cudnn_on_gpu=true](conv_2/Conv1D/ExpandDims, conv_2/Conv1D/ExpandDims_1)' with input shapes: [?,1,4,13], [1,5,13,13].\n",
      "\n",
      "Call arguments received by layer \"conv_2\" (type Conv1D):\n",
      "  • inputs=tf.Tensor(shape=(None, 4, 13), dtype=float32)\n",
      "[W 2023-07-01 02:47:35,001] Trial 58 failed with value None.\n",
      "[W 2023-07-01 02:47:35,150] Trial 59 failed with parameters: {'epochs': 32, 'resolution': 150, 'n_conv_blocks': 3, 'filters': 13, 'kernel_size': 5, 'pool_size': 6, 'n_dense_blocks': 1, 'dense_nodes': 213} because of the following error: ValueError('Exception encountered when calling layer \"conv_2\" (type Conv1D).\\n\\nNegative dimension size caused by subtracting 5 from 4 for \\'{{node conv_2/Conv1D}} = Conv2D[T=DT_FLOAT, data_format=\"NHWC\", dilations=[1, 1, 1, 1], explicit_paddings=[], padding=\"VALID\", strides=[1, 1, 1, 1], use_cudnn_on_gpu=true](conv_2/Conv1D/ExpandDims, conv_2/Conv1D/ExpandDims_1)\\' with input shapes: [?,1,4,13], [1,5,13,13].\\n\\nCall arguments received by layer \"conv_2\" (type Conv1D):\\n  • inputs=tf.Tensor(shape=(None, 4, 13), dtype=float32)').\n",
      "Traceback (most recent call last):\n",
      "  File \"/home/djanloo/.local/share/virtualenvs/DM2-PeqFRmfa/lib/python3.10/site-packages/optuna/study/_optimize.py\", line 200, in _run_trial\n",
      "    value_or_values = func(trial)\n",
      "  File \"/tmp/ipykernel_14321/3311194114.py\", line 3, in <lambda>\n",
      "    trial_function = lambda trial: objective(trial, train_idxs, val_idxs)\n",
      "  File \"/tmp/ipykernel_14321/3086810912.py\", line 25, in objective\n",
      "    model = build_model(X.shape[1:], len(np.unique(y)), **pars)\n",
      "  File \"/tmp/ipykernel_14321/2093002277.py\", line 18, in build_model\n",
      "    model.add(conv)\n",
      "  File \"/home/djanloo/.local/share/virtualenvs/DM2-PeqFRmfa/lib/python3.10/site-packages/tensorflow/python/trackable/base.py\", line 205, in _method_wrapper\n",
      "    result = method(self, *args, **kwargs)\n",
      "  File \"/home/djanloo/.local/share/virtualenvs/DM2-PeqFRmfa/lib/python3.10/site-packages/keras/utils/traceback_utils.py\", line 70, in error_handler\n",
      "    raise e.with_traceback(filtered_tb) from None\n",
      "  File \"/home/djanloo/.local/share/virtualenvs/DM2-PeqFRmfa/lib/python3.10/site-packages/tensorflow/python/framework/ops.py\", line 1973, in _create_c_op\n",
      "    raise ValueError(e.message)\n",
      "ValueError: Exception encountered when calling layer \"conv_2\" (type Conv1D).\n",
      "\n",
      "Negative dimension size caused by subtracting 5 from 4 for '{{node conv_2/Conv1D}} = Conv2D[T=DT_FLOAT, data_format=\"NHWC\", dilations=[1, 1, 1, 1], explicit_paddings=[], padding=\"VALID\", strides=[1, 1, 1, 1], use_cudnn_on_gpu=true](conv_2/Conv1D/ExpandDims, conv_2/Conv1D/ExpandDims_1)' with input shapes: [?,1,4,13], [1,5,13,13].\n",
      "\n",
      "Call arguments received by layer \"conv_2\" (type Conv1D):\n",
      "  • inputs=tf.Tensor(shape=(None, 4, 13), dtype=float32)\n",
      "[W 2023-07-01 02:47:35,151] Trial 59 failed with value None.\n"
     ]
    },
    {
     "name": "stdout",
     "output_type": "stream",
     "text": [
      "running model having {'n_conv_blocks': 3, 'filters': 13, 'kernel_size': 5, 'pool_size': 6, 'n_dense_blocks': 1, 'dense_nodes': 213} with SpRes = 150 for epochs = 32\n",
      "running model having {'n_conv_blocks': 3, 'filters': 13, 'kernel_size': 5, 'pool_size': 6, 'n_dense_blocks': 1, 'dense_nodes': 217} with SpRes = 150 for epochs = 30\n"
     ]
    },
    {
     "name": "stderr",
     "output_type": "stream",
     "text": [
      "[W 2023-07-01 02:47:35,302] Trial 60 failed with parameters: {'epochs': 30, 'resolution': 150, 'n_conv_blocks': 3, 'filters': 13, 'kernel_size': 5, 'pool_size': 6, 'n_dense_blocks': 1, 'dense_nodes': 217} because of the following error: ValueError('Exception encountered when calling layer \"conv_2\" (type Conv1D).\\n\\nNegative dimension size caused by subtracting 5 from 4 for \\'{{node conv_2/Conv1D}} = Conv2D[T=DT_FLOAT, data_format=\"NHWC\", dilations=[1, 1, 1, 1], explicit_paddings=[], padding=\"VALID\", strides=[1, 1, 1, 1], use_cudnn_on_gpu=true](conv_2/Conv1D/ExpandDims, conv_2/Conv1D/ExpandDims_1)\\' with input shapes: [?,1,4,13], [1,5,13,13].\\n\\nCall arguments received by layer \"conv_2\" (type Conv1D):\\n  • inputs=tf.Tensor(shape=(None, 4, 13), dtype=float32)').\n",
      "Traceback (most recent call last):\n",
      "  File \"/home/djanloo/.local/share/virtualenvs/DM2-PeqFRmfa/lib/python3.10/site-packages/optuna/study/_optimize.py\", line 200, in _run_trial\n",
      "    value_or_values = func(trial)\n",
      "  File \"/tmp/ipykernel_14321/3311194114.py\", line 3, in <lambda>\n",
      "    trial_function = lambda trial: objective(trial, train_idxs, val_idxs)\n",
      "  File \"/tmp/ipykernel_14321/3086810912.py\", line 25, in objective\n",
      "    model = build_model(X.shape[1:], len(np.unique(y)), **pars)\n",
      "  File \"/tmp/ipykernel_14321/2093002277.py\", line 18, in build_model\n",
      "    model.add(conv)\n",
      "  File \"/home/djanloo/.local/share/virtualenvs/DM2-PeqFRmfa/lib/python3.10/site-packages/tensorflow/python/trackable/base.py\", line 205, in _method_wrapper\n",
      "    result = method(self, *args, **kwargs)\n",
      "  File \"/home/djanloo/.local/share/virtualenvs/DM2-PeqFRmfa/lib/python3.10/site-packages/keras/utils/traceback_utils.py\", line 70, in error_handler\n",
      "    raise e.with_traceback(filtered_tb) from None\n",
      "  File \"/home/djanloo/.local/share/virtualenvs/DM2-PeqFRmfa/lib/python3.10/site-packages/tensorflow/python/framework/ops.py\", line 1973, in _create_c_op\n",
      "    raise ValueError(e.message)\n",
      "ValueError: Exception encountered when calling layer \"conv_2\" (type Conv1D).\n",
      "\n",
      "Negative dimension size caused by subtracting 5 from 4 for '{{node conv_2/Conv1D}} = Conv2D[T=DT_FLOAT, data_format=\"NHWC\", dilations=[1, 1, 1, 1], explicit_paddings=[], padding=\"VALID\", strides=[1, 1, 1, 1], use_cudnn_on_gpu=true](conv_2/Conv1D/ExpandDims, conv_2/Conv1D/ExpandDims_1)' with input shapes: [?,1,4,13], [1,5,13,13].\n",
      "\n",
      "Call arguments received by layer \"conv_2\" (type Conv1D):\n",
      "  • inputs=tf.Tensor(shape=(None, 4, 13), dtype=float32)\n",
      "[W 2023-07-01 02:47:35,303] Trial 60 failed with value None.\n",
      "[W 2023-07-01 02:47:35,455] Trial 61 failed with parameters: {'epochs': 32, 'resolution': 150, 'n_conv_blocks': 3, 'filters': 13, 'kernel_size': 5, 'pool_size': 6, 'n_dense_blocks': 1, 'dense_nodes': 218} because of the following error: ValueError('Exception encountered when calling layer \"conv_2\" (type Conv1D).\\n\\nNegative dimension size caused by subtracting 5 from 4 for \\'{{node conv_2/Conv1D}} = Conv2D[T=DT_FLOAT, data_format=\"NHWC\", dilations=[1, 1, 1, 1], explicit_paddings=[], padding=\"VALID\", strides=[1, 1, 1, 1], use_cudnn_on_gpu=true](conv_2/Conv1D/ExpandDims, conv_2/Conv1D/ExpandDims_1)\\' with input shapes: [?,1,4,13], [1,5,13,13].\\n\\nCall arguments received by layer \"conv_2\" (type Conv1D):\\n  • inputs=tf.Tensor(shape=(None, 4, 13), dtype=float32)').\n",
      "Traceback (most recent call last):\n",
      "  File \"/home/djanloo/.local/share/virtualenvs/DM2-PeqFRmfa/lib/python3.10/site-packages/optuna/study/_optimize.py\", line 200, in _run_trial\n",
      "    value_or_values = func(trial)\n",
      "  File \"/tmp/ipykernel_14321/3311194114.py\", line 3, in <lambda>\n",
      "    trial_function = lambda trial: objective(trial, train_idxs, val_idxs)\n",
      "  File \"/tmp/ipykernel_14321/3086810912.py\", line 25, in objective\n",
      "    model = build_model(X.shape[1:], len(np.unique(y)), **pars)\n",
      "  File \"/tmp/ipykernel_14321/2093002277.py\", line 18, in build_model\n",
      "    model.add(conv)\n",
      "  File \"/home/djanloo/.local/share/virtualenvs/DM2-PeqFRmfa/lib/python3.10/site-packages/tensorflow/python/trackable/base.py\", line 205, in _method_wrapper\n",
      "    result = method(self, *args, **kwargs)\n",
      "  File \"/home/djanloo/.local/share/virtualenvs/DM2-PeqFRmfa/lib/python3.10/site-packages/keras/utils/traceback_utils.py\", line 70, in error_handler\n",
      "    raise e.with_traceback(filtered_tb) from None\n",
      "  File \"/home/djanloo/.local/share/virtualenvs/DM2-PeqFRmfa/lib/python3.10/site-packages/tensorflow/python/framework/ops.py\", line 1973, in _create_c_op\n",
      "    raise ValueError(e.message)\n",
      "ValueError: Exception encountered when calling layer \"conv_2\" (type Conv1D).\n",
      "\n",
      "Negative dimension size caused by subtracting 5 from 4 for '{{node conv_2/Conv1D}} = Conv2D[T=DT_FLOAT, data_format=\"NHWC\", dilations=[1, 1, 1, 1], explicit_paddings=[], padding=\"VALID\", strides=[1, 1, 1, 1], use_cudnn_on_gpu=true](conv_2/Conv1D/ExpandDims, conv_2/Conv1D/ExpandDims_1)' with input shapes: [?,1,4,13], [1,5,13,13].\n",
      "\n",
      "Call arguments received by layer \"conv_2\" (type Conv1D):\n",
      "  • inputs=tf.Tensor(shape=(None, 4, 13), dtype=float32)\n",
      "[W 2023-07-01 02:47:35,456] Trial 61 failed with value None.\n"
     ]
    },
    {
     "name": "stdout",
     "output_type": "stream",
     "text": [
      "running model having {'n_conv_blocks': 3, 'filters': 13, 'kernel_size': 5, 'pool_size': 6, 'n_dense_blocks': 1, 'dense_nodes': 218} with SpRes = 150 for epochs = 32\n",
      "running model having {'n_conv_blocks': 3, 'filters': 13, 'kernel_size': 5, 'pool_size': 6, 'n_dense_blocks': 1, 'dense_nodes': 214} with SpRes = 150 for epochs = 30\n"
     ]
    },
    {
     "name": "stderr",
     "output_type": "stream",
     "text": [
      "[W 2023-07-01 02:47:35,606] Trial 62 failed with parameters: {'epochs': 30, 'resolution': 150, 'n_conv_blocks': 3, 'filters': 13, 'kernel_size': 5, 'pool_size': 6, 'n_dense_blocks': 1, 'dense_nodes': 214} because of the following error: ValueError('Exception encountered when calling layer \"conv_2\" (type Conv1D).\\n\\nNegative dimension size caused by subtracting 5 from 4 for \\'{{node conv_2/Conv1D}} = Conv2D[T=DT_FLOAT, data_format=\"NHWC\", dilations=[1, 1, 1, 1], explicit_paddings=[], padding=\"VALID\", strides=[1, 1, 1, 1], use_cudnn_on_gpu=true](conv_2/Conv1D/ExpandDims, conv_2/Conv1D/ExpandDims_1)\\' with input shapes: [?,1,4,13], [1,5,13,13].\\n\\nCall arguments received by layer \"conv_2\" (type Conv1D):\\n  • inputs=tf.Tensor(shape=(None, 4, 13), dtype=float32)').\n",
      "Traceback (most recent call last):\n",
      "  File \"/home/djanloo/.local/share/virtualenvs/DM2-PeqFRmfa/lib/python3.10/site-packages/optuna/study/_optimize.py\", line 200, in _run_trial\n",
      "    value_or_values = func(trial)\n",
      "  File \"/tmp/ipykernel_14321/3311194114.py\", line 3, in <lambda>\n",
      "    trial_function = lambda trial: objective(trial, train_idxs, val_idxs)\n",
      "  File \"/tmp/ipykernel_14321/3086810912.py\", line 25, in objective\n",
      "    model = build_model(X.shape[1:], len(np.unique(y)), **pars)\n",
      "  File \"/tmp/ipykernel_14321/2093002277.py\", line 18, in build_model\n",
      "    model.add(conv)\n",
      "  File \"/home/djanloo/.local/share/virtualenvs/DM2-PeqFRmfa/lib/python3.10/site-packages/tensorflow/python/trackable/base.py\", line 205, in _method_wrapper\n",
      "    result = method(self, *args, **kwargs)\n",
      "  File \"/home/djanloo/.local/share/virtualenvs/DM2-PeqFRmfa/lib/python3.10/site-packages/keras/utils/traceback_utils.py\", line 70, in error_handler\n",
      "    raise e.with_traceback(filtered_tb) from None\n",
      "  File \"/home/djanloo/.local/share/virtualenvs/DM2-PeqFRmfa/lib/python3.10/site-packages/tensorflow/python/framework/ops.py\", line 1973, in _create_c_op\n",
      "    raise ValueError(e.message)\n",
      "ValueError: Exception encountered when calling layer \"conv_2\" (type Conv1D).\n",
      "\n",
      "Negative dimension size caused by subtracting 5 from 4 for '{{node conv_2/Conv1D}} = Conv2D[T=DT_FLOAT, data_format=\"NHWC\", dilations=[1, 1, 1, 1], explicit_paddings=[], padding=\"VALID\", strides=[1, 1, 1, 1], use_cudnn_on_gpu=true](conv_2/Conv1D/ExpandDims, conv_2/Conv1D/ExpandDims_1)' with input shapes: [?,1,4,13], [1,5,13,13].\n",
      "\n",
      "Call arguments received by layer \"conv_2\" (type Conv1D):\n",
      "  • inputs=tf.Tensor(shape=(None, 4, 13), dtype=float32)\n",
      "[W 2023-07-01 02:47:35,607] Trial 62 failed with value None.\n",
      "[W 2023-07-01 02:47:35,752] Trial 63 failed with parameters: {'epochs': 30, 'resolution': 150, 'n_conv_blocks': 3, 'filters': 13, 'kernel_size': 5, 'pool_size': 6, 'n_dense_blocks': 1, 'dense_nodes': 212} because of the following error: ValueError('Exception encountered when calling layer \"conv_2\" (type Conv1D).\\n\\nNegative dimension size caused by subtracting 5 from 4 for \\'{{node conv_2/Conv1D}} = Conv2D[T=DT_FLOAT, data_format=\"NHWC\", dilations=[1, 1, 1, 1], explicit_paddings=[], padding=\"VALID\", strides=[1, 1, 1, 1], use_cudnn_on_gpu=true](conv_2/Conv1D/ExpandDims, conv_2/Conv1D/ExpandDims_1)\\' with input shapes: [?,1,4,13], [1,5,13,13].\\n\\nCall arguments received by layer \"conv_2\" (type Conv1D):\\n  • inputs=tf.Tensor(shape=(None, 4, 13), dtype=float32)').\n",
      "Traceback (most recent call last):\n",
      "  File \"/home/djanloo/.local/share/virtualenvs/DM2-PeqFRmfa/lib/python3.10/site-packages/optuna/study/_optimize.py\", line 200, in _run_trial\n",
      "    value_or_values = func(trial)\n",
      "  File \"/tmp/ipykernel_14321/3311194114.py\", line 3, in <lambda>\n",
      "    trial_function = lambda trial: objective(trial, train_idxs, val_idxs)\n",
      "  File \"/tmp/ipykernel_14321/3086810912.py\", line 25, in objective\n",
      "    model = build_model(X.shape[1:], len(np.unique(y)), **pars)\n",
      "  File \"/tmp/ipykernel_14321/2093002277.py\", line 18, in build_model\n",
      "    model.add(conv)\n",
      "  File \"/home/djanloo/.local/share/virtualenvs/DM2-PeqFRmfa/lib/python3.10/site-packages/tensorflow/python/trackable/base.py\", line 205, in _method_wrapper\n",
      "    result = method(self, *args, **kwargs)\n",
      "  File \"/home/djanloo/.local/share/virtualenvs/DM2-PeqFRmfa/lib/python3.10/site-packages/keras/utils/traceback_utils.py\", line 70, in error_handler\n",
      "    raise e.with_traceback(filtered_tb) from None\n",
      "  File \"/home/djanloo/.local/share/virtualenvs/DM2-PeqFRmfa/lib/python3.10/site-packages/tensorflow/python/framework/ops.py\", line 1973, in _create_c_op\n",
      "    raise ValueError(e.message)\n",
      "ValueError: Exception encountered when calling layer \"conv_2\" (type Conv1D).\n",
      "\n",
      "Negative dimension size caused by subtracting 5 from 4 for '{{node conv_2/Conv1D}} = Conv2D[T=DT_FLOAT, data_format=\"NHWC\", dilations=[1, 1, 1, 1], explicit_paddings=[], padding=\"VALID\", strides=[1, 1, 1, 1], use_cudnn_on_gpu=true](conv_2/Conv1D/ExpandDims, conv_2/Conv1D/ExpandDims_1)' with input shapes: [?,1,4,13], [1,5,13,13].\n",
      "\n",
      "Call arguments received by layer \"conv_2\" (type Conv1D):\n",
      "  • inputs=tf.Tensor(shape=(None, 4, 13), dtype=float32)\n",
      "[W 2023-07-01 02:47:35,753] Trial 63 failed with value None.\n"
     ]
    },
    {
     "name": "stdout",
     "output_type": "stream",
     "text": [
      "running model having {'n_conv_blocks': 3, 'filters': 13, 'kernel_size': 5, 'pool_size': 6, 'n_dense_blocks': 1, 'dense_nodes': 212} with SpRes = 150 for epochs = 30\n",
      "running model having {'n_conv_blocks': 3, 'filters': 13, 'kernel_size': 5, 'pool_size': 6, 'n_dense_blocks': 1, 'dense_nodes': 218} with SpRes = 150 for epochs = 29\n"
     ]
    },
    {
     "name": "stderr",
     "output_type": "stream",
     "text": [
      "[W 2023-07-01 02:47:35,945] Trial 64 failed with parameters: {'epochs': 29, 'resolution': 150, 'n_conv_blocks': 3, 'filters': 13, 'kernel_size': 5, 'pool_size': 6, 'n_dense_blocks': 1, 'dense_nodes': 218} because of the following error: ValueError('Exception encountered when calling layer \"conv_2\" (type Conv1D).\\n\\nNegative dimension size caused by subtracting 5 from 4 for \\'{{node conv_2/Conv1D}} = Conv2D[T=DT_FLOAT, data_format=\"NHWC\", dilations=[1, 1, 1, 1], explicit_paddings=[], padding=\"VALID\", strides=[1, 1, 1, 1], use_cudnn_on_gpu=true](conv_2/Conv1D/ExpandDims, conv_2/Conv1D/ExpandDims_1)\\' with input shapes: [?,1,4,13], [1,5,13,13].\\n\\nCall arguments received by layer \"conv_2\" (type Conv1D):\\n  • inputs=tf.Tensor(shape=(None, 4, 13), dtype=float32)').\n",
      "Traceback (most recent call last):\n",
      "  File \"/home/djanloo/.local/share/virtualenvs/DM2-PeqFRmfa/lib/python3.10/site-packages/optuna/study/_optimize.py\", line 200, in _run_trial\n",
      "    value_or_values = func(trial)\n",
      "  File \"/tmp/ipykernel_14321/3311194114.py\", line 3, in <lambda>\n",
      "    trial_function = lambda trial: objective(trial, train_idxs, val_idxs)\n",
      "  File \"/tmp/ipykernel_14321/3086810912.py\", line 25, in objective\n",
      "    model = build_model(X.shape[1:], len(np.unique(y)), **pars)\n",
      "  File \"/tmp/ipykernel_14321/2093002277.py\", line 18, in build_model\n",
      "    model.add(conv)\n",
      "  File \"/home/djanloo/.local/share/virtualenvs/DM2-PeqFRmfa/lib/python3.10/site-packages/tensorflow/python/trackable/base.py\", line 205, in _method_wrapper\n",
      "    result = method(self, *args, **kwargs)\n",
      "  File \"/home/djanloo/.local/share/virtualenvs/DM2-PeqFRmfa/lib/python3.10/site-packages/keras/utils/traceback_utils.py\", line 70, in error_handler\n",
      "    raise e.with_traceback(filtered_tb) from None\n",
      "  File \"/home/djanloo/.local/share/virtualenvs/DM2-PeqFRmfa/lib/python3.10/site-packages/tensorflow/python/framework/ops.py\", line 1973, in _create_c_op\n",
      "    raise ValueError(e.message)\n",
      "ValueError: Exception encountered when calling layer \"conv_2\" (type Conv1D).\n",
      "\n",
      "Negative dimension size caused by subtracting 5 from 4 for '{{node conv_2/Conv1D}} = Conv2D[T=DT_FLOAT, data_format=\"NHWC\", dilations=[1, 1, 1, 1], explicit_paddings=[], padding=\"VALID\", strides=[1, 1, 1, 1], use_cudnn_on_gpu=true](conv_2/Conv1D/ExpandDims, conv_2/Conv1D/ExpandDims_1)' with input shapes: [?,1,4,13], [1,5,13,13].\n",
      "\n",
      "Call arguments received by layer \"conv_2\" (type Conv1D):\n",
      "  • inputs=tf.Tensor(shape=(None, 4, 13), dtype=float32)\n",
      "[W 2023-07-01 02:47:35,946] Trial 64 failed with value None.\n",
      "[W 2023-07-01 02:47:36,091] Trial 65 failed with parameters: {'epochs': 30, 'resolution': 150, 'n_conv_blocks': 3, 'filters': 13, 'kernel_size': 5, 'pool_size': 6, 'n_dense_blocks': 1, 'dense_nodes': 217} because of the following error: ValueError('Exception encountered when calling layer \"conv_2\" (type Conv1D).\\n\\nNegative dimension size caused by subtracting 5 from 4 for \\'{{node conv_2/Conv1D}} = Conv2D[T=DT_FLOAT, data_format=\"NHWC\", dilations=[1, 1, 1, 1], explicit_paddings=[], padding=\"VALID\", strides=[1, 1, 1, 1], use_cudnn_on_gpu=true](conv_2/Conv1D/ExpandDims, conv_2/Conv1D/ExpandDims_1)\\' with input shapes: [?,1,4,13], [1,5,13,13].\\n\\nCall arguments received by layer \"conv_2\" (type Conv1D):\\n  • inputs=tf.Tensor(shape=(None, 4, 13), dtype=float32)').\n",
      "Traceback (most recent call last):\n",
      "  File \"/home/djanloo/.local/share/virtualenvs/DM2-PeqFRmfa/lib/python3.10/site-packages/optuna/study/_optimize.py\", line 200, in _run_trial\n",
      "    value_or_values = func(trial)\n",
      "  File \"/tmp/ipykernel_14321/3311194114.py\", line 3, in <lambda>\n",
      "    trial_function = lambda trial: objective(trial, train_idxs, val_idxs)\n",
      "  File \"/tmp/ipykernel_14321/3086810912.py\", line 25, in objective\n",
      "    model = build_model(X.shape[1:], len(np.unique(y)), **pars)\n",
      "  File \"/tmp/ipykernel_14321/2093002277.py\", line 18, in build_model\n",
      "    model.add(conv)\n",
      "  File \"/home/djanloo/.local/share/virtualenvs/DM2-PeqFRmfa/lib/python3.10/site-packages/tensorflow/python/trackable/base.py\", line 205, in _method_wrapper\n",
      "    result = method(self, *args, **kwargs)\n",
      "  File \"/home/djanloo/.local/share/virtualenvs/DM2-PeqFRmfa/lib/python3.10/site-packages/keras/utils/traceback_utils.py\", line 70, in error_handler\n",
      "    raise e.with_traceback(filtered_tb) from None\n",
      "  File \"/home/djanloo/.local/share/virtualenvs/DM2-PeqFRmfa/lib/python3.10/site-packages/tensorflow/python/framework/ops.py\", line 1973, in _create_c_op\n",
      "    raise ValueError(e.message)\n",
      "ValueError: Exception encountered when calling layer \"conv_2\" (type Conv1D).\n",
      "\n",
      "Negative dimension size caused by subtracting 5 from 4 for '{{node conv_2/Conv1D}} = Conv2D[T=DT_FLOAT, data_format=\"NHWC\", dilations=[1, 1, 1, 1], explicit_paddings=[], padding=\"VALID\", strides=[1, 1, 1, 1], use_cudnn_on_gpu=true](conv_2/Conv1D/ExpandDims, conv_2/Conv1D/ExpandDims_1)' with input shapes: [?,1,4,13], [1,5,13,13].\n",
      "\n",
      "Call arguments received by layer \"conv_2\" (type Conv1D):\n",
      "  • inputs=tf.Tensor(shape=(None, 4, 13), dtype=float32)\n",
      "[W 2023-07-01 02:47:36,092] Trial 65 failed with value None.\n"
     ]
    },
    {
     "name": "stdout",
     "output_type": "stream",
     "text": [
      "running model having {'n_conv_blocks': 3, 'filters': 13, 'kernel_size': 5, 'pool_size': 6, 'n_dense_blocks': 1, 'dense_nodes': 217} with SpRes = 150 for epochs = 30\n",
      "running model having {'n_conv_blocks': 3, 'filters': 13, 'kernel_size': 5, 'pool_size': 6, 'n_dense_blocks': 1, 'dense_nodes': 214} with SpRes = 150 for epochs = 30\n"
     ]
    },
    {
     "name": "stderr",
     "output_type": "stream",
     "text": [
      "[W 2023-07-01 02:47:36,247] Trial 66 failed with parameters: {'epochs': 30, 'resolution': 150, 'n_conv_blocks': 3, 'filters': 13, 'kernel_size': 5, 'pool_size': 6, 'n_dense_blocks': 1, 'dense_nodes': 214} because of the following error: ValueError('Exception encountered when calling layer \"conv_2\" (type Conv1D).\\n\\nNegative dimension size caused by subtracting 5 from 4 for \\'{{node conv_2/Conv1D}} = Conv2D[T=DT_FLOAT, data_format=\"NHWC\", dilations=[1, 1, 1, 1], explicit_paddings=[], padding=\"VALID\", strides=[1, 1, 1, 1], use_cudnn_on_gpu=true](conv_2/Conv1D/ExpandDims, conv_2/Conv1D/ExpandDims_1)\\' with input shapes: [?,1,4,13], [1,5,13,13].\\n\\nCall arguments received by layer \"conv_2\" (type Conv1D):\\n  • inputs=tf.Tensor(shape=(None, 4, 13), dtype=float32)').\n",
      "Traceback (most recent call last):\n",
      "  File \"/home/djanloo/.local/share/virtualenvs/DM2-PeqFRmfa/lib/python3.10/site-packages/optuna/study/_optimize.py\", line 200, in _run_trial\n",
      "    value_or_values = func(trial)\n",
      "  File \"/tmp/ipykernel_14321/3311194114.py\", line 3, in <lambda>\n",
      "    trial_function = lambda trial: objective(trial, train_idxs, val_idxs)\n",
      "  File \"/tmp/ipykernel_14321/3086810912.py\", line 25, in objective\n",
      "    model = build_model(X.shape[1:], len(np.unique(y)), **pars)\n",
      "  File \"/tmp/ipykernel_14321/2093002277.py\", line 18, in build_model\n",
      "    model.add(conv)\n",
      "  File \"/home/djanloo/.local/share/virtualenvs/DM2-PeqFRmfa/lib/python3.10/site-packages/tensorflow/python/trackable/base.py\", line 205, in _method_wrapper\n",
      "    result = method(self, *args, **kwargs)\n",
      "  File \"/home/djanloo/.local/share/virtualenvs/DM2-PeqFRmfa/lib/python3.10/site-packages/keras/utils/traceback_utils.py\", line 70, in error_handler\n",
      "    raise e.with_traceback(filtered_tb) from None\n",
      "  File \"/home/djanloo/.local/share/virtualenvs/DM2-PeqFRmfa/lib/python3.10/site-packages/tensorflow/python/framework/ops.py\", line 1973, in _create_c_op\n",
      "    raise ValueError(e.message)\n",
      "ValueError: Exception encountered when calling layer \"conv_2\" (type Conv1D).\n",
      "\n",
      "Negative dimension size caused by subtracting 5 from 4 for '{{node conv_2/Conv1D}} = Conv2D[T=DT_FLOAT, data_format=\"NHWC\", dilations=[1, 1, 1, 1], explicit_paddings=[], padding=\"VALID\", strides=[1, 1, 1, 1], use_cudnn_on_gpu=true](conv_2/Conv1D/ExpandDims, conv_2/Conv1D/ExpandDims_1)' with input shapes: [?,1,4,13], [1,5,13,13].\n",
      "\n",
      "Call arguments received by layer \"conv_2\" (type Conv1D):\n",
      "  • inputs=tf.Tensor(shape=(None, 4, 13), dtype=float32)\n",
      "[W 2023-07-01 02:47:36,248] Trial 66 failed with value None.\n",
      "[W 2023-07-01 02:47:36,399] Trial 67 failed with parameters: {'epochs': 30, 'resolution': 150, 'n_conv_blocks': 3, 'filters': 14, 'kernel_size': 5, 'pool_size': 6, 'n_dense_blocks': 1, 'dense_nodes': 214} because of the following error: ValueError('Exception encountered when calling layer \"conv_2\" (type Conv1D).\\n\\nNegative dimension size caused by subtracting 5 from 4 for \\'{{node conv_2/Conv1D}} = Conv2D[T=DT_FLOAT, data_format=\"NHWC\", dilations=[1, 1, 1, 1], explicit_paddings=[], padding=\"VALID\", strides=[1, 1, 1, 1], use_cudnn_on_gpu=true](conv_2/Conv1D/ExpandDims, conv_2/Conv1D/ExpandDims_1)\\' with input shapes: [?,1,4,14], [1,5,14,14].\\n\\nCall arguments received by layer \"conv_2\" (type Conv1D):\\n  • inputs=tf.Tensor(shape=(None, 4, 14), dtype=float32)').\n",
      "Traceback (most recent call last):\n",
      "  File \"/home/djanloo/.local/share/virtualenvs/DM2-PeqFRmfa/lib/python3.10/site-packages/optuna/study/_optimize.py\", line 200, in _run_trial\n",
      "    value_or_values = func(trial)\n",
      "  File \"/tmp/ipykernel_14321/3311194114.py\", line 3, in <lambda>\n",
      "    trial_function = lambda trial: objective(trial, train_idxs, val_idxs)\n",
      "  File \"/tmp/ipykernel_14321/3086810912.py\", line 25, in objective\n",
      "    model = build_model(X.shape[1:], len(np.unique(y)), **pars)\n",
      "  File \"/tmp/ipykernel_14321/2093002277.py\", line 18, in build_model\n",
      "    model.add(conv)\n",
      "  File \"/home/djanloo/.local/share/virtualenvs/DM2-PeqFRmfa/lib/python3.10/site-packages/tensorflow/python/trackable/base.py\", line 205, in _method_wrapper\n",
      "    result = method(self, *args, **kwargs)\n",
      "  File \"/home/djanloo/.local/share/virtualenvs/DM2-PeqFRmfa/lib/python3.10/site-packages/keras/utils/traceback_utils.py\", line 70, in error_handler\n",
      "    raise e.with_traceback(filtered_tb) from None\n",
      "  File \"/home/djanloo/.local/share/virtualenvs/DM2-PeqFRmfa/lib/python3.10/site-packages/tensorflow/python/framework/ops.py\", line 1973, in _create_c_op\n",
      "    raise ValueError(e.message)\n",
      "ValueError: Exception encountered when calling layer \"conv_2\" (type Conv1D).\n",
      "\n",
      "Negative dimension size caused by subtracting 5 from 4 for '{{node conv_2/Conv1D}} = Conv2D[T=DT_FLOAT, data_format=\"NHWC\", dilations=[1, 1, 1, 1], explicit_paddings=[], padding=\"VALID\", strides=[1, 1, 1, 1], use_cudnn_on_gpu=true](conv_2/Conv1D/ExpandDims, conv_2/Conv1D/ExpandDims_1)' with input shapes: [?,1,4,14], [1,5,14,14].\n",
      "\n",
      "Call arguments received by layer \"conv_2\" (type Conv1D):\n",
      "  • inputs=tf.Tensor(shape=(None, 4, 14), dtype=float32)\n",
      "[W 2023-07-01 02:47:36,400] Trial 67 failed with value None.\n"
     ]
    },
    {
     "name": "stdout",
     "output_type": "stream",
     "text": [
      "running model having {'n_conv_blocks': 3, 'filters': 14, 'kernel_size': 5, 'pool_size': 6, 'n_dense_blocks': 1, 'dense_nodes': 214} with SpRes = 150 for epochs = 30\n",
      "running model having {'n_conv_blocks': 3, 'filters': 13, 'kernel_size': 5, 'pool_size': 6, 'n_dense_blocks': 1, 'dense_nodes': 216} with SpRes = 150 for epochs = 30\n"
     ]
    },
    {
     "name": "stderr",
     "output_type": "stream",
     "text": [
      "[W 2023-07-01 02:47:36,550] Trial 68 failed with parameters: {'epochs': 30, 'resolution': 150, 'n_conv_blocks': 3, 'filters': 13, 'kernel_size': 5, 'pool_size': 6, 'n_dense_blocks': 1, 'dense_nodes': 216} because of the following error: ValueError('Exception encountered when calling layer \"conv_2\" (type Conv1D).\\n\\nNegative dimension size caused by subtracting 5 from 4 for \\'{{node conv_2/Conv1D}} = Conv2D[T=DT_FLOAT, data_format=\"NHWC\", dilations=[1, 1, 1, 1], explicit_paddings=[], padding=\"VALID\", strides=[1, 1, 1, 1], use_cudnn_on_gpu=true](conv_2/Conv1D/ExpandDims, conv_2/Conv1D/ExpandDims_1)\\' with input shapes: [?,1,4,13], [1,5,13,13].\\n\\nCall arguments received by layer \"conv_2\" (type Conv1D):\\n  • inputs=tf.Tensor(shape=(None, 4, 13), dtype=float32)').\n",
      "Traceback (most recent call last):\n",
      "  File \"/home/djanloo/.local/share/virtualenvs/DM2-PeqFRmfa/lib/python3.10/site-packages/optuna/study/_optimize.py\", line 200, in _run_trial\n",
      "    value_or_values = func(trial)\n",
      "  File \"/tmp/ipykernel_14321/3311194114.py\", line 3, in <lambda>\n",
      "    trial_function = lambda trial: objective(trial, train_idxs, val_idxs)\n",
      "  File \"/tmp/ipykernel_14321/3086810912.py\", line 25, in objective\n",
      "    model = build_model(X.shape[1:], len(np.unique(y)), **pars)\n",
      "  File \"/tmp/ipykernel_14321/2093002277.py\", line 18, in build_model\n",
      "    model.add(conv)\n",
      "  File \"/home/djanloo/.local/share/virtualenvs/DM2-PeqFRmfa/lib/python3.10/site-packages/tensorflow/python/trackable/base.py\", line 205, in _method_wrapper\n",
      "    result = method(self, *args, **kwargs)\n",
      "  File \"/home/djanloo/.local/share/virtualenvs/DM2-PeqFRmfa/lib/python3.10/site-packages/keras/utils/traceback_utils.py\", line 70, in error_handler\n",
      "    raise e.with_traceback(filtered_tb) from None\n",
      "  File \"/home/djanloo/.local/share/virtualenvs/DM2-PeqFRmfa/lib/python3.10/site-packages/tensorflow/python/framework/ops.py\", line 1973, in _create_c_op\n",
      "    raise ValueError(e.message)\n",
      "ValueError: Exception encountered when calling layer \"conv_2\" (type Conv1D).\n",
      "\n",
      "Negative dimension size caused by subtracting 5 from 4 for '{{node conv_2/Conv1D}} = Conv2D[T=DT_FLOAT, data_format=\"NHWC\", dilations=[1, 1, 1, 1], explicit_paddings=[], padding=\"VALID\", strides=[1, 1, 1, 1], use_cudnn_on_gpu=true](conv_2/Conv1D/ExpandDims, conv_2/Conv1D/ExpandDims_1)' with input shapes: [?,1,4,13], [1,5,13,13].\n",
      "\n",
      "Call arguments received by layer \"conv_2\" (type Conv1D):\n",
      "  • inputs=tf.Tensor(shape=(None, 4, 13), dtype=float32)\n",
      "[W 2023-07-01 02:47:36,552] Trial 68 failed with value None.\n",
      "[W 2023-07-01 02:47:36,697] Trial 69 failed with parameters: {'epochs': 30, 'resolution': 150, 'n_conv_blocks': 3, 'filters': 13, 'kernel_size': 5, 'pool_size': 6, 'n_dense_blocks': 1, 'dense_nodes': 215} because of the following error: ValueError('Exception encountered when calling layer \"conv_2\" (type Conv1D).\\n\\nNegative dimension size caused by subtracting 5 from 4 for \\'{{node conv_2/Conv1D}} = Conv2D[T=DT_FLOAT, data_format=\"NHWC\", dilations=[1, 1, 1, 1], explicit_paddings=[], padding=\"VALID\", strides=[1, 1, 1, 1], use_cudnn_on_gpu=true](conv_2/Conv1D/ExpandDims, conv_2/Conv1D/ExpandDims_1)\\' with input shapes: [?,1,4,13], [1,5,13,13].\\n\\nCall arguments received by layer \"conv_2\" (type Conv1D):\\n  • inputs=tf.Tensor(shape=(None, 4, 13), dtype=float32)').\n",
      "Traceback (most recent call last):\n",
      "  File \"/home/djanloo/.local/share/virtualenvs/DM2-PeqFRmfa/lib/python3.10/site-packages/optuna/study/_optimize.py\", line 200, in _run_trial\n",
      "    value_or_values = func(trial)\n",
      "  File \"/tmp/ipykernel_14321/3311194114.py\", line 3, in <lambda>\n",
      "    trial_function = lambda trial: objective(trial, train_idxs, val_idxs)\n",
      "  File \"/tmp/ipykernel_14321/3086810912.py\", line 25, in objective\n",
      "    model = build_model(X.shape[1:], len(np.unique(y)), **pars)\n",
      "  File \"/tmp/ipykernel_14321/2093002277.py\", line 18, in build_model\n",
      "    model.add(conv)\n",
      "  File \"/home/djanloo/.local/share/virtualenvs/DM2-PeqFRmfa/lib/python3.10/site-packages/tensorflow/python/trackable/base.py\", line 205, in _method_wrapper\n",
      "    result = method(self, *args, **kwargs)\n",
      "  File \"/home/djanloo/.local/share/virtualenvs/DM2-PeqFRmfa/lib/python3.10/site-packages/keras/utils/traceback_utils.py\", line 70, in error_handler\n",
      "    raise e.with_traceback(filtered_tb) from None\n",
      "  File \"/home/djanloo/.local/share/virtualenvs/DM2-PeqFRmfa/lib/python3.10/site-packages/tensorflow/python/framework/ops.py\", line 1973, in _create_c_op\n",
      "    raise ValueError(e.message)\n",
      "ValueError: Exception encountered when calling layer \"conv_2\" (type Conv1D).\n",
      "\n",
      "Negative dimension size caused by subtracting 5 from 4 for '{{node conv_2/Conv1D}} = Conv2D[T=DT_FLOAT, data_format=\"NHWC\", dilations=[1, 1, 1, 1], explicit_paddings=[], padding=\"VALID\", strides=[1, 1, 1, 1], use_cudnn_on_gpu=true](conv_2/Conv1D/ExpandDims, conv_2/Conv1D/ExpandDims_1)' with input shapes: [?,1,4,13], [1,5,13,13].\n",
      "\n",
      "Call arguments received by layer \"conv_2\" (type Conv1D):\n",
      "  • inputs=tf.Tensor(shape=(None, 4, 13), dtype=float32)\n",
      "[W 2023-07-01 02:47:36,698] Trial 69 failed with value None.\n"
     ]
    },
    {
     "name": "stdout",
     "output_type": "stream",
     "text": [
      "running model having {'n_conv_blocks': 3, 'filters': 13, 'kernel_size': 5, 'pool_size': 6, 'n_dense_blocks': 1, 'dense_nodes': 215} with SpRes = 150 for epochs = 30\n",
      "running model having {'n_conv_blocks': 3, 'filters': 13, 'kernel_size': 5, 'pool_size': 6, 'n_dense_blocks': 1, 'dense_nodes': 223} with SpRes = 150 for epochs = 30\n"
     ]
    },
    {
     "name": "stderr",
     "output_type": "stream",
     "text": [
      "[W 2023-07-01 02:47:36,850] Trial 70 failed with parameters: {'epochs': 30, 'resolution': 150, 'n_conv_blocks': 3, 'filters': 13, 'kernel_size': 5, 'pool_size': 6, 'n_dense_blocks': 1, 'dense_nodes': 223} because of the following error: ValueError('Exception encountered when calling layer \"conv_2\" (type Conv1D).\\n\\nNegative dimension size caused by subtracting 5 from 4 for \\'{{node conv_2/Conv1D}} = Conv2D[T=DT_FLOAT, data_format=\"NHWC\", dilations=[1, 1, 1, 1], explicit_paddings=[], padding=\"VALID\", strides=[1, 1, 1, 1], use_cudnn_on_gpu=true](conv_2/Conv1D/ExpandDims, conv_2/Conv1D/ExpandDims_1)\\' with input shapes: [?,1,4,13], [1,5,13,13].\\n\\nCall arguments received by layer \"conv_2\" (type Conv1D):\\n  • inputs=tf.Tensor(shape=(None, 4, 13), dtype=float32)').\n",
      "Traceback (most recent call last):\n",
      "  File \"/home/djanloo/.local/share/virtualenvs/DM2-PeqFRmfa/lib/python3.10/site-packages/optuna/study/_optimize.py\", line 200, in _run_trial\n",
      "    value_or_values = func(trial)\n",
      "  File \"/tmp/ipykernel_14321/3311194114.py\", line 3, in <lambda>\n",
      "    trial_function = lambda trial: objective(trial, train_idxs, val_idxs)\n",
      "  File \"/tmp/ipykernel_14321/3086810912.py\", line 25, in objective\n",
      "    model = build_model(X.shape[1:], len(np.unique(y)), **pars)\n",
      "  File \"/tmp/ipykernel_14321/2093002277.py\", line 18, in build_model\n",
      "    model.add(conv)\n",
      "  File \"/home/djanloo/.local/share/virtualenvs/DM2-PeqFRmfa/lib/python3.10/site-packages/tensorflow/python/trackable/base.py\", line 205, in _method_wrapper\n",
      "    result = method(self, *args, **kwargs)\n",
      "  File \"/home/djanloo/.local/share/virtualenvs/DM2-PeqFRmfa/lib/python3.10/site-packages/keras/utils/traceback_utils.py\", line 70, in error_handler\n",
      "    raise e.with_traceback(filtered_tb) from None\n",
      "  File \"/home/djanloo/.local/share/virtualenvs/DM2-PeqFRmfa/lib/python3.10/site-packages/tensorflow/python/framework/ops.py\", line 1973, in _create_c_op\n",
      "    raise ValueError(e.message)\n",
      "ValueError: Exception encountered when calling layer \"conv_2\" (type Conv1D).\n",
      "\n",
      "Negative dimension size caused by subtracting 5 from 4 for '{{node conv_2/Conv1D}} = Conv2D[T=DT_FLOAT, data_format=\"NHWC\", dilations=[1, 1, 1, 1], explicit_paddings=[], padding=\"VALID\", strides=[1, 1, 1, 1], use_cudnn_on_gpu=true](conv_2/Conv1D/ExpandDims, conv_2/Conv1D/ExpandDims_1)' with input shapes: [?,1,4,13], [1,5,13,13].\n",
      "\n",
      "Call arguments received by layer \"conv_2\" (type Conv1D):\n",
      "  • inputs=tf.Tensor(shape=(None, 4, 13), dtype=float32)\n",
      "[W 2023-07-01 02:47:36,851] Trial 70 failed with value None.\n",
      "[W 2023-07-01 02:47:37,003] Trial 71 failed with parameters: {'epochs': 30, 'resolution': 150, 'n_conv_blocks': 3, 'filters': 14, 'kernel_size': 5, 'pool_size': 6, 'n_dense_blocks': 1, 'dense_nodes': 220} because of the following error: ValueError('Exception encountered when calling layer \"conv_2\" (type Conv1D).\\n\\nNegative dimension size caused by subtracting 5 from 4 for \\'{{node conv_2/Conv1D}} = Conv2D[T=DT_FLOAT, data_format=\"NHWC\", dilations=[1, 1, 1, 1], explicit_paddings=[], padding=\"VALID\", strides=[1, 1, 1, 1], use_cudnn_on_gpu=true](conv_2/Conv1D/ExpandDims, conv_2/Conv1D/ExpandDims_1)\\' with input shapes: [?,1,4,14], [1,5,14,14].\\n\\nCall arguments received by layer \"conv_2\" (type Conv1D):\\n  • inputs=tf.Tensor(shape=(None, 4, 14), dtype=float32)').\n",
      "Traceback (most recent call last):\n",
      "  File \"/home/djanloo/.local/share/virtualenvs/DM2-PeqFRmfa/lib/python3.10/site-packages/optuna/study/_optimize.py\", line 200, in _run_trial\n",
      "    value_or_values = func(trial)\n",
      "  File \"/tmp/ipykernel_14321/3311194114.py\", line 3, in <lambda>\n",
      "    trial_function = lambda trial: objective(trial, train_idxs, val_idxs)\n",
      "  File \"/tmp/ipykernel_14321/3086810912.py\", line 25, in objective\n",
      "    model = build_model(X.shape[1:], len(np.unique(y)), **pars)\n",
      "  File \"/tmp/ipykernel_14321/2093002277.py\", line 18, in build_model\n",
      "    model.add(conv)\n",
      "  File \"/home/djanloo/.local/share/virtualenvs/DM2-PeqFRmfa/lib/python3.10/site-packages/tensorflow/python/trackable/base.py\", line 205, in _method_wrapper\n",
      "    result = method(self, *args, **kwargs)\n",
      "  File \"/home/djanloo/.local/share/virtualenvs/DM2-PeqFRmfa/lib/python3.10/site-packages/keras/utils/traceback_utils.py\", line 70, in error_handler\n",
      "    raise e.with_traceback(filtered_tb) from None\n",
      "  File \"/home/djanloo/.local/share/virtualenvs/DM2-PeqFRmfa/lib/python3.10/site-packages/tensorflow/python/framework/ops.py\", line 1973, in _create_c_op\n",
      "    raise ValueError(e.message)\n",
      "ValueError: Exception encountered when calling layer \"conv_2\" (type Conv1D).\n",
      "\n",
      "Negative dimension size caused by subtracting 5 from 4 for '{{node conv_2/Conv1D}} = Conv2D[T=DT_FLOAT, data_format=\"NHWC\", dilations=[1, 1, 1, 1], explicit_paddings=[], padding=\"VALID\", strides=[1, 1, 1, 1], use_cudnn_on_gpu=true](conv_2/Conv1D/ExpandDims, conv_2/Conv1D/ExpandDims_1)' with input shapes: [?,1,4,14], [1,5,14,14].\n",
      "\n",
      "Call arguments received by layer \"conv_2\" (type Conv1D):\n",
      "  • inputs=tf.Tensor(shape=(None, 4, 14), dtype=float32)\n",
      "[W 2023-07-01 02:47:37,004] Trial 71 failed with value None.\n"
     ]
    },
    {
     "name": "stdout",
     "output_type": "stream",
     "text": [
      "running model having {'n_conv_blocks': 3, 'filters': 14, 'kernel_size': 5, 'pool_size': 6, 'n_dense_blocks': 1, 'dense_nodes': 220} with SpRes = 150 for epochs = 30\n",
      "running model having {'n_conv_blocks': 3, 'filters': 13, 'kernel_size': 5, 'pool_size': 6, 'n_dense_blocks': 1, 'dense_nodes': 219} with SpRes = 150 for epochs = 30\n"
     ]
    },
    {
     "name": "stderr",
     "output_type": "stream",
     "text": [
      "[W 2023-07-01 02:47:37,157] Trial 72 failed with parameters: {'epochs': 30, 'resolution': 150, 'n_conv_blocks': 3, 'filters': 13, 'kernel_size': 5, 'pool_size': 6, 'n_dense_blocks': 1, 'dense_nodes': 219} because of the following error: ValueError('Exception encountered when calling layer \"conv_2\" (type Conv1D).\\n\\nNegative dimension size caused by subtracting 5 from 4 for \\'{{node conv_2/Conv1D}} = Conv2D[T=DT_FLOAT, data_format=\"NHWC\", dilations=[1, 1, 1, 1], explicit_paddings=[], padding=\"VALID\", strides=[1, 1, 1, 1], use_cudnn_on_gpu=true](conv_2/Conv1D/ExpandDims, conv_2/Conv1D/ExpandDims_1)\\' with input shapes: [?,1,4,13], [1,5,13,13].\\n\\nCall arguments received by layer \"conv_2\" (type Conv1D):\\n  • inputs=tf.Tensor(shape=(None, 4, 13), dtype=float32)').\n",
      "Traceback (most recent call last):\n",
      "  File \"/home/djanloo/.local/share/virtualenvs/DM2-PeqFRmfa/lib/python3.10/site-packages/optuna/study/_optimize.py\", line 200, in _run_trial\n",
      "    value_or_values = func(trial)\n",
      "  File \"/tmp/ipykernel_14321/3311194114.py\", line 3, in <lambda>\n",
      "    trial_function = lambda trial: objective(trial, train_idxs, val_idxs)\n",
      "  File \"/tmp/ipykernel_14321/3086810912.py\", line 25, in objective\n",
      "    model = build_model(X.shape[1:], len(np.unique(y)), **pars)\n",
      "  File \"/tmp/ipykernel_14321/2093002277.py\", line 18, in build_model\n",
      "    model.add(conv)\n",
      "  File \"/home/djanloo/.local/share/virtualenvs/DM2-PeqFRmfa/lib/python3.10/site-packages/tensorflow/python/trackable/base.py\", line 205, in _method_wrapper\n",
      "    result = method(self, *args, **kwargs)\n",
      "  File \"/home/djanloo/.local/share/virtualenvs/DM2-PeqFRmfa/lib/python3.10/site-packages/keras/utils/traceback_utils.py\", line 70, in error_handler\n",
      "    raise e.with_traceback(filtered_tb) from None\n",
      "  File \"/home/djanloo/.local/share/virtualenvs/DM2-PeqFRmfa/lib/python3.10/site-packages/tensorflow/python/framework/ops.py\", line 1973, in _create_c_op\n",
      "    raise ValueError(e.message)\n",
      "ValueError: Exception encountered when calling layer \"conv_2\" (type Conv1D).\n",
      "\n",
      "Negative dimension size caused by subtracting 5 from 4 for '{{node conv_2/Conv1D}} = Conv2D[T=DT_FLOAT, data_format=\"NHWC\", dilations=[1, 1, 1, 1], explicit_paddings=[], padding=\"VALID\", strides=[1, 1, 1, 1], use_cudnn_on_gpu=true](conv_2/Conv1D/ExpandDims, conv_2/Conv1D/ExpandDims_1)' with input shapes: [?,1,4,13], [1,5,13,13].\n",
      "\n",
      "Call arguments received by layer \"conv_2\" (type Conv1D):\n",
      "  • inputs=tf.Tensor(shape=(None, 4, 13), dtype=float32)\n",
      "[W 2023-07-01 02:47:37,158] Trial 72 failed with value None.\n",
      "[W 2023-07-01 02:47:37,303] Trial 73 failed with parameters: {'epochs': 30, 'resolution': 150, 'n_conv_blocks': 3, 'filters': 13, 'kernel_size': 5, 'pool_size': 6, 'n_dense_blocks': 1, 'dense_nodes': 217} because of the following error: ValueError('Exception encountered when calling layer \"conv_2\" (type Conv1D).\\n\\nNegative dimension size caused by subtracting 5 from 4 for \\'{{node conv_2/Conv1D}} = Conv2D[T=DT_FLOAT, data_format=\"NHWC\", dilations=[1, 1, 1, 1], explicit_paddings=[], padding=\"VALID\", strides=[1, 1, 1, 1], use_cudnn_on_gpu=true](conv_2/Conv1D/ExpandDims, conv_2/Conv1D/ExpandDims_1)\\' with input shapes: [?,1,4,13], [1,5,13,13].\\n\\nCall arguments received by layer \"conv_2\" (type Conv1D):\\n  • inputs=tf.Tensor(shape=(None, 4, 13), dtype=float32)').\n",
      "Traceback (most recent call last):\n",
      "  File \"/home/djanloo/.local/share/virtualenvs/DM2-PeqFRmfa/lib/python3.10/site-packages/optuna/study/_optimize.py\", line 200, in _run_trial\n",
      "    value_or_values = func(trial)\n",
      "  File \"/tmp/ipykernel_14321/3311194114.py\", line 3, in <lambda>\n",
      "    trial_function = lambda trial: objective(trial, train_idxs, val_idxs)\n",
      "  File \"/tmp/ipykernel_14321/3086810912.py\", line 25, in objective\n",
      "    model = build_model(X.shape[1:], len(np.unique(y)), **pars)\n",
      "  File \"/tmp/ipykernel_14321/2093002277.py\", line 18, in build_model\n",
      "    model.add(conv)\n",
      "  File \"/home/djanloo/.local/share/virtualenvs/DM2-PeqFRmfa/lib/python3.10/site-packages/tensorflow/python/trackable/base.py\", line 205, in _method_wrapper\n",
      "    result = method(self, *args, **kwargs)\n",
      "  File \"/home/djanloo/.local/share/virtualenvs/DM2-PeqFRmfa/lib/python3.10/site-packages/keras/utils/traceback_utils.py\", line 70, in error_handler\n",
      "    raise e.with_traceback(filtered_tb) from None\n",
      "  File \"/home/djanloo/.local/share/virtualenvs/DM2-PeqFRmfa/lib/python3.10/site-packages/tensorflow/python/framework/ops.py\", line 1973, in _create_c_op\n",
      "    raise ValueError(e.message)\n",
      "ValueError: Exception encountered when calling layer \"conv_2\" (type Conv1D).\n",
      "\n",
      "Negative dimension size caused by subtracting 5 from 4 for '{{node conv_2/Conv1D}} = Conv2D[T=DT_FLOAT, data_format=\"NHWC\", dilations=[1, 1, 1, 1], explicit_paddings=[], padding=\"VALID\", strides=[1, 1, 1, 1], use_cudnn_on_gpu=true](conv_2/Conv1D/ExpandDims, conv_2/Conv1D/ExpandDims_1)' with input shapes: [?,1,4,13], [1,5,13,13].\n",
      "\n",
      "Call arguments received by layer \"conv_2\" (type Conv1D):\n",
      "  • inputs=tf.Tensor(shape=(None, 4, 13), dtype=float32)\n",
      "[W 2023-07-01 02:47:37,304] Trial 73 failed with value None.\n"
     ]
    },
    {
     "name": "stdout",
     "output_type": "stream",
     "text": [
      "running model having {'n_conv_blocks': 3, 'filters': 13, 'kernel_size': 5, 'pool_size': 6, 'n_dense_blocks': 1, 'dense_nodes': 217} with SpRes = 150 for epochs = 30\n",
      "running model having {'n_conv_blocks': 3, 'filters': 13, 'kernel_size': 5, 'pool_size': 6, 'n_dense_blocks': 1, 'dense_nodes': 209} with SpRes = 150 for epochs = 30\n"
     ]
    },
    {
     "name": "stderr",
     "output_type": "stream",
     "text": [
      "[W 2023-07-01 02:47:37,449] Trial 74 failed with parameters: {'epochs': 30, 'resolution': 150, 'n_conv_blocks': 3, 'filters': 13, 'kernel_size': 5, 'pool_size': 6, 'n_dense_blocks': 1, 'dense_nodes': 209} because of the following error: ValueError('Exception encountered when calling layer \"conv_2\" (type Conv1D).\\n\\nNegative dimension size caused by subtracting 5 from 4 for \\'{{node conv_2/Conv1D}} = Conv2D[T=DT_FLOAT, data_format=\"NHWC\", dilations=[1, 1, 1, 1], explicit_paddings=[], padding=\"VALID\", strides=[1, 1, 1, 1], use_cudnn_on_gpu=true](conv_2/Conv1D/ExpandDims, conv_2/Conv1D/ExpandDims_1)\\' with input shapes: [?,1,4,13], [1,5,13,13].\\n\\nCall arguments received by layer \"conv_2\" (type Conv1D):\\n  • inputs=tf.Tensor(shape=(None, 4, 13), dtype=float32)').\n",
      "Traceback (most recent call last):\n",
      "  File \"/home/djanloo/.local/share/virtualenvs/DM2-PeqFRmfa/lib/python3.10/site-packages/optuna/study/_optimize.py\", line 200, in _run_trial\n",
      "    value_or_values = func(trial)\n",
      "  File \"/tmp/ipykernel_14321/3311194114.py\", line 3, in <lambda>\n",
      "    trial_function = lambda trial: objective(trial, train_idxs, val_idxs)\n",
      "  File \"/tmp/ipykernel_14321/3086810912.py\", line 25, in objective\n",
      "    model = build_model(X.shape[1:], len(np.unique(y)), **pars)\n",
      "  File \"/tmp/ipykernel_14321/2093002277.py\", line 18, in build_model\n",
      "    model.add(conv)\n",
      "  File \"/home/djanloo/.local/share/virtualenvs/DM2-PeqFRmfa/lib/python3.10/site-packages/tensorflow/python/trackable/base.py\", line 205, in _method_wrapper\n",
      "    result = method(self, *args, **kwargs)\n",
      "  File \"/home/djanloo/.local/share/virtualenvs/DM2-PeqFRmfa/lib/python3.10/site-packages/keras/utils/traceback_utils.py\", line 70, in error_handler\n",
      "    raise e.with_traceback(filtered_tb) from None\n",
      "  File \"/home/djanloo/.local/share/virtualenvs/DM2-PeqFRmfa/lib/python3.10/site-packages/tensorflow/python/framework/ops.py\", line 1973, in _create_c_op\n",
      "    raise ValueError(e.message)\n",
      "ValueError: Exception encountered when calling layer \"conv_2\" (type Conv1D).\n",
      "\n",
      "Negative dimension size caused by subtracting 5 from 4 for '{{node conv_2/Conv1D}} = Conv2D[T=DT_FLOAT, data_format=\"NHWC\", dilations=[1, 1, 1, 1], explicit_paddings=[], padding=\"VALID\", strides=[1, 1, 1, 1], use_cudnn_on_gpu=true](conv_2/Conv1D/ExpandDims, conv_2/Conv1D/ExpandDims_1)' with input shapes: [?,1,4,13], [1,5,13,13].\n",
      "\n",
      "Call arguments received by layer \"conv_2\" (type Conv1D):\n",
      "  • inputs=tf.Tensor(shape=(None, 4, 13), dtype=float32)\n",
      "[W 2023-07-01 02:47:37,451] Trial 74 failed with value None.\n",
      "[W 2023-07-01 02:47:37,598] Trial 75 failed with parameters: {'epochs': 30, 'resolution': 150, 'n_conv_blocks': 3, 'filters': 13, 'kernel_size': 5, 'pool_size': 6, 'n_dense_blocks': 1, 'dense_nodes': 216} because of the following error: ValueError('Exception encountered when calling layer \"conv_2\" (type Conv1D).\\n\\nNegative dimension size caused by subtracting 5 from 4 for \\'{{node conv_2/Conv1D}} = Conv2D[T=DT_FLOAT, data_format=\"NHWC\", dilations=[1, 1, 1, 1], explicit_paddings=[], padding=\"VALID\", strides=[1, 1, 1, 1], use_cudnn_on_gpu=true](conv_2/Conv1D/ExpandDims, conv_2/Conv1D/ExpandDims_1)\\' with input shapes: [?,1,4,13], [1,5,13,13].\\n\\nCall arguments received by layer \"conv_2\" (type Conv1D):\\n  • inputs=tf.Tensor(shape=(None, 4, 13), dtype=float32)').\n",
      "Traceback (most recent call last):\n",
      "  File \"/home/djanloo/.local/share/virtualenvs/DM2-PeqFRmfa/lib/python3.10/site-packages/optuna/study/_optimize.py\", line 200, in _run_trial\n",
      "    value_or_values = func(trial)\n",
      "  File \"/tmp/ipykernel_14321/3311194114.py\", line 3, in <lambda>\n",
      "    trial_function = lambda trial: objective(trial, train_idxs, val_idxs)\n",
      "  File \"/tmp/ipykernel_14321/3086810912.py\", line 25, in objective\n",
      "    model = build_model(X.shape[1:], len(np.unique(y)), **pars)\n",
      "  File \"/tmp/ipykernel_14321/2093002277.py\", line 18, in build_model\n",
      "    model.add(conv)\n",
      "  File \"/home/djanloo/.local/share/virtualenvs/DM2-PeqFRmfa/lib/python3.10/site-packages/tensorflow/python/trackable/base.py\", line 205, in _method_wrapper\n",
      "    result = method(self, *args, **kwargs)\n",
      "  File \"/home/djanloo/.local/share/virtualenvs/DM2-PeqFRmfa/lib/python3.10/site-packages/keras/utils/traceback_utils.py\", line 70, in error_handler\n",
      "    raise e.with_traceback(filtered_tb) from None\n",
      "  File \"/home/djanloo/.local/share/virtualenvs/DM2-PeqFRmfa/lib/python3.10/site-packages/tensorflow/python/framework/ops.py\", line 1973, in _create_c_op\n",
      "    raise ValueError(e.message)\n",
      "ValueError: Exception encountered when calling layer \"conv_2\" (type Conv1D).\n",
      "\n",
      "Negative dimension size caused by subtracting 5 from 4 for '{{node conv_2/Conv1D}} = Conv2D[T=DT_FLOAT, data_format=\"NHWC\", dilations=[1, 1, 1, 1], explicit_paddings=[], padding=\"VALID\", strides=[1, 1, 1, 1], use_cudnn_on_gpu=true](conv_2/Conv1D/ExpandDims, conv_2/Conv1D/ExpandDims_1)' with input shapes: [?,1,4,13], [1,5,13,13].\n",
      "\n",
      "Call arguments received by layer \"conv_2\" (type Conv1D):\n",
      "  • inputs=tf.Tensor(shape=(None, 4, 13), dtype=float32)\n",
      "[W 2023-07-01 02:47:37,599] Trial 75 failed with value None.\n"
     ]
    },
    {
     "name": "stdout",
     "output_type": "stream",
     "text": [
      "running model having {'n_conv_blocks': 3, 'filters': 13, 'kernel_size': 5, 'pool_size': 6, 'n_dense_blocks': 1, 'dense_nodes': 216} with SpRes = 150 for epochs = 30\n",
      "running model having {'n_conv_blocks': 3, 'filters': 13, 'kernel_size': 5, 'pool_size': 6, 'n_dense_blocks': 1, 'dense_nodes': 213} with SpRes = 150 for epochs = 30\n"
     ]
    },
    {
     "name": "stderr",
     "output_type": "stream",
     "text": [
      "[W 2023-07-01 02:47:37,755] Trial 76 failed with parameters: {'epochs': 30, 'resolution': 150, 'n_conv_blocks': 3, 'filters': 13, 'kernel_size': 5, 'pool_size': 6, 'n_dense_blocks': 1, 'dense_nodes': 213} because of the following error: ValueError('Exception encountered when calling layer \"conv_2\" (type Conv1D).\\n\\nNegative dimension size caused by subtracting 5 from 4 for \\'{{node conv_2/Conv1D}} = Conv2D[T=DT_FLOAT, data_format=\"NHWC\", dilations=[1, 1, 1, 1], explicit_paddings=[], padding=\"VALID\", strides=[1, 1, 1, 1], use_cudnn_on_gpu=true](conv_2/Conv1D/ExpandDims, conv_2/Conv1D/ExpandDims_1)\\' with input shapes: [?,1,4,13], [1,5,13,13].\\n\\nCall arguments received by layer \"conv_2\" (type Conv1D):\\n  • inputs=tf.Tensor(shape=(None, 4, 13), dtype=float32)').\n",
      "Traceback (most recent call last):\n",
      "  File \"/home/djanloo/.local/share/virtualenvs/DM2-PeqFRmfa/lib/python3.10/site-packages/optuna/study/_optimize.py\", line 200, in _run_trial\n",
      "    value_or_values = func(trial)\n",
      "  File \"/tmp/ipykernel_14321/3311194114.py\", line 3, in <lambda>\n",
      "    trial_function = lambda trial: objective(trial, train_idxs, val_idxs)\n",
      "  File \"/tmp/ipykernel_14321/3086810912.py\", line 25, in objective\n",
      "    model = build_model(X.shape[1:], len(np.unique(y)), **pars)\n",
      "  File \"/tmp/ipykernel_14321/2093002277.py\", line 18, in build_model\n",
      "    model.add(conv)\n",
      "  File \"/home/djanloo/.local/share/virtualenvs/DM2-PeqFRmfa/lib/python3.10/site-packages/tensorflow/python/trackable/base.py\", line 205, in _method_wrapper\n",
      "    result = method(self, *args, **kwargs)\n",
      "  File \"/home/djanloo/.local/share/virtualenvs/DM2-PeqFRmfa/lib/python3.10/site-packages/keras/utils/traceback_utils.py\", line 70, in error_handler\n",
      "    raise e.with_traceback(filtered_tb) from None\n",
      "  File \"/home/djanloo/.local/share/virtualenvs/DM2-PeqFRmfa/lib/python3.10/site-packages/tensorflow/python/framework/ops.py\", line 1973, in _create_c_op\n",
      "    raise ValueError(e.message)\n",
      "ValueError: Exception encountered when calling layer \"conv_2\" (type Conv1D).\n",
      "\n",
      "Negative dimension size caused by subtracting 5 from 4 for '{{node conv_2/Conv1D}} = Conv2D[T=DT_FLOAT, data_format=\"NHWC\", dilations=[1, 1, 1, 1], explicit_paddings=[], padding=\"VALID\", strides=[1, 1, 1, 1], use_cudnn_on_gpu=true](conv_2/Conv1D/ExpandDims, conv_2/Conv1D/ExpandDims_1)' with input shapes: [?,1,4,13], [1,5,13,13].\n",
      "\n",
      "Call arguments received by layer \"conv_2\" (type Conv1D):\n",
      "  • inputs=tf.Tensor(shape=(None, 4, 13), dtype=float32)\n",
      "[W 2023-07-01 02:47:37,756] Trial 76 failed with value None.\n",
      "[W 2023-07-01 02:47:37,905] Trial 77 failed with parameters: {'epochs': 30, 'resolution': 150, 'n_conv_blocks': 3, 'filters': 13, 'kernel_size': 5, 'pool_size': 6, 'n_dense_blocks': 1, 'dense_nodes': 219} because of the following error: ValueError('Exception encountered when calling layer \"conv_2\" (type Conv1D).\\n\\nNegative dimension size caused by subtracting 5 from 4 for \\'{{node conv_2/Conv1D}} = Conv2D[T=DT_FLOAT, data_format=\"NHWC\", dilations=[1, 1, 1, 1], explicit_paddings=[], padding=\"VALID\", strides=[1, 1, 1, 1], use_cudnn_on_gpu=true](conv_2/Conv1D/ExpandDims, conv_2/Conv1D/ExpandDims_1)\\' with input shapes: [?,1,4,13], [1,5,13,13].\\n\\nCall arguments received by layer \"conv_2\" (type Conv1D):\\n  • inputs=tf.Tensor(shape=(None, 4, 13), dtype=float32)').\n",
      "Traceback (most recent call last):\n",
      "  File \"/home/djanloo/.local/share/virtualenvs/DM2-PeqFRmfa/lib/python3.10/site-packages/optuna/study/_optimize.py\", line 200, in _run_trial\n",
      "    value_or_values = func(trial)\n",
      "  File \"/tmp/ipykernel_14321/3311194114.py\", line 3, in <lambda>\n",
      "    trial_function = lambda trial: objective(trial, train_idxs, val_idxs)\n",
      "  File \"/tmp/ipykernel_14321/3086810912.py\", line 25, in objective\n",
      "    model = build_model(X.shape[1:], len(np.unique(y)), **pars)\n",
      "  File \"/tmp/ipykernel_14321/2093002277.py\", line 18, in build_model\n",
      "    model.add(conv)\n",
      "  File \"/home/djanloo/.local/share/virtualenvs/DM2-PeqFRmfa/lib/python3.10/site-packages/tensorflow/python/trackable/base.py\", line 205, in _method_wrapper\n",
      "    result = method(self, *args, **kwargs)\n",
      "  File \"/home/djanloo/.local/share/virtualenvs/DM2-PeqFRmfa/lib/python3.10/site-packages/keras/utils/traceback_utils.py\", line 70, in error_handler\n",
      "    raise e.with_traceback(filtered_tb) from None\n",
      "  File \"/home/djanloo/.local/share/virtualenvs/DM2-PeqFRmfa/lib/python3.10/site-packages/tensorflow/python/framework/ops.py\", line 1973, in _create_c_op\n",
      "    raise ValueError(e.message)\n",
      "ValueError: Exception encountered when calling layer \"conv_2\" (type Conv1D).\n",
      "\n",
      "Negative dimension size caused by subtracting 5 from 4 for '{{node conv_2/Conv1D}} = Conv2D[T=DT_FLOAT, data_format=\"NHWC\", dilations=[1, 1, 1, 1], explicit_paddings=[], padding=\"VALID\", strides=[1, 1, 1, 1], use_cudnn_on_gpu=true](conv_2/Conv1D/ExpandDims, conv_2/Conv1D/ExpandDims_1)' with input shapes: [?,1,4,13], [1,5,13,13].\n",
      "\n",
      "Call arguments received by layer \"conv_2\" (type Conv1D):\n",
      "  • inputs=tf.Tensor(shape=(None, 4, 13), dtype=float32)\n",
      "[W 2023-07-01 02:47:37,907] Trial 77 failed with value None.\n"
     ]
    },
    {
     "name": "stdout",
     "output_type": "stream",
     "text": [
      "running model having {'n_conv_blocks': 3, 'filters': 13, 'kernel_size': 5, 'pool_size': 6, 'n_dense_blocks': 1, 'dense_nodes': 219} with SpRes = 150 for epochs = 30\n",
      "running model having {'n_conv_blocks': 3, 'filters': 14, 'kernel_size': 5, 'pool_size': 6, 'n_dense_blocks': 1, 'dense_nodes': 217} with SpRes = 150 for epochs = 30\n"
     ]
    },
    {
     "name": "stderr",
     "output_type": "stream",
     "text": [
      "[W 2023-07-01 02:47:38,056] Trial 78 failed with parameters: {'epochs': 30, 'resolution': 150, 'n_conv_blocks': 3, 'filters': 14, 'kernel_size': 5, 'pool_size': 6, 'n_dense_blocks': 1, 'dense_nodes': 217} because of the following error: ValueError('Exception encountered when calling layer \"conv_2\" (type Conv1D).\\n\\nNegative dimension size caused by subtracting 5 from 4 for \\'{{node conv_2/Conv1D}} = Conv2D[T=DT_FLOAT, data_format=\"NHWC\", dilations=[1, 1, 1, 1], explicit_paddings=[], padding=\"VALID\", strides=[1, 1, 1, 1], use_cudnn_on_gpu=true](conv_2/Conv1D/ExpandDims, conv_2/Conv1D/ExpandDims_1)\\' with input shapes: [?,1,4,14], [1,5,14,14].\\n\\nCall arguments received by layer \"conv_2\" (type Conv1D):\\n  • inputs=tf.Tensor(shape=(None, 4, 14), dtype=float32)').\n",
      "Traceback (most recent call last):\n",
      "  File \"/home/djanloo/.local/share/virtualenvs/DM2-PeqFRmfa/lib/python3.10/site-packages/optuna/study/_optimize.py\", line 200, in _run_trial\n",
      "    value_or_values = func(trial)\n",
      "  File \"/tmp/ipykernel_14321/3311194114.py\", line 3, in <lambda>\n",
      "    trial_function = lambda trial: objective(trial, train_idxs, val_idxs)\n",
      "  File \"/tmp/ipykernel_14321/3086810912.py\", line 25, in objective\n",
      "    model = build_model(X.shape[1:], len(np.unique(y)), **pars)\n",
      "  File \"/tmp/ipykernel_14321/2093002277.py\", line 18, in build_model\n",
      "    model.add(conv)\n",
      "  File \"/home/djanloo/.local/share/virtualenvs/DM2-PeqFRmfa/lib/python3.10/site-packages/tensorflow/python/trackable/base.py\", line 205, in _method_wrapper\n",
      "    result = method(self, *args, **kwargs)\n",
      "  File \"/home/djanloo/.local/share/virtualenvs/DM2-PeqFRmfa/lib/python3.10/site-packages/keras/utils/traceback_utils.py\", line 70, in error_handler\n",
      "    raise e.with_traceback(filtered_tb) from None\n",
      "  File \"/home/djanloo/.local/share/virtualenvs/DM2-PeqFRmfa/lib/python3.10/site-packages/tensorflow/python/framework/ops.py\", line 1973, in _create_c_op\n",
      "    raise ValueError(e.message)\n",
      "ValueError: Exception encountered when calling layer \"conv_2\" (type Conv1D).\n",
      "\n",
      "Negative dimension size caused by subtracting 5 from 4 for '{{node conv_2/Conv1D}} = Conv2D[T=DT_FLOAT, data_format=\"NHWC\", dilations=[1, 1, 1, 1], explicit_paddings=[], padding=\"VALID\", strides=[1, 1, 1, 1], use_cudnn_on_gpu=true](conv_2/Conv1D/ExpandDims, conv_2/Conv1D/ExpandDims_1)' with input shapes: [?,1,4,14], [1,5,14,14].\n",
      "\n",
      "Call arguments received by layer \"conv_2\" (type Conv1D):\n",
      "  • inputs=tf.Tensor(shape=(None, 4, 14), dtype=float32)\n",
      "[W 2023-07-01 02:47:38,057] Trial 78 failed with value None.\n",
      "[W 2023-07-01 02:47:38,204] Trial 79 failed with parameters: {'epochs': 30, 'resolution': 150, 'n_conv_blocks': 3, 'filters': 13, 'kernel_size': 5, 'pool_size': 6, 'n_dense_blocks': 1, 'dense_nodes': 218} because of the following error: ValueError('Exception encountered when calling layer \"conv_2\" (type Conv1D).\\n\\nNegative dimension size caused by subtracting 5 from 4 for \\'{{node conv_2/Conv1D}} = Conv2D[T=DT_FLOAT, data_format=\"NHWC\", dilations=[1, 1, 1, 1], explicit_paddings=[], padding=\"VALID\", strides=[1, 1, 1, 1], use_cudnn_on_gpu=true](conv_2/Conv1D/ExpandDims, conv_2/Conv1D/ExpandDims_1)\\' with input shapes: [?,1,4,13], [1,5,13,13].\\n\\nCall arguments received by layer \"conv_2\" (type Conv1D):\\n  • inputs=tf.Tensor(shape=(None, 4, 13), dtype=float32)').\n",
      "Traceback (most recent call last):\n",
      "  File \"/home/djanloo/.local/share/virtualenvs/DM2-PeqFRmfa/lib/python3.10/site-packages/optuna/study/_optimize.py\", line 200, in _run_trial\n",
      "    value_or_values = func(trial)\n",
      "  File \"/tmp/ipykernel_14321/3311194114.py\", line 3, in <lambda>\n",
      "    trial_function = lambda trial: objective(trial, train_idxs, val_idxs)\n",
      "  File \"/tmp/ipykernel_14321/3086810912.py\", line 25, in objective\n",
      "    model = build_model(X.shape[1:], len(np.unique(y)), **pars)\n",
      "  File \"/tmp/ipykernel_14321/2093002277.py\", line 18, in build_model\n",
      "    model.add(conv)\n",
      "  File \"/home/djanloo/.local/share/virtualenvs/DM2-PeqFRmfa/lib/python3.10/site-packages/tensorflow/python/trackable/base.py\", line 205, in _method_wrapper\n",
      "    result = method(self, *args, **kwargs)\n",
      "  File \"/home/djanloo/.local/share/virtualenvs/DM2-PeqFRmfa/lib/python3.10/site-packages/keras/utils/traceback_utils.py\", line 70, in error_handler\n",
      "    raise e.with_traceback(filtered_tb) from None\n",
      "  File \"/home/djanloo/.local/share/virtualenvs/DM2-PeqFRmfa/lib/python3.10/site-packages/tensorflow/python/framework/ops.py\", line 1973, in _create_c_op\n",
      "    raise ValueError(e.message)\n",
      "ValueError: Exception encountered when calling layer \"conv_2\" (type Conv1D).\n",
      "\n",
      "Negative dimension size caused by subtracting 5 from 4 for '{{node conv_2/Conv1D}} = Conv2D[T=DT_FLOAT, data_format=\"NHWC\", dilations=[1, 1, 1, 1], explicit_paddings=[], padding=\"VALID\", strides=[1, 1, 1, 1], use_cudnn_on_gpu=true](conv_2/Conv1D/ExpandDims, conv_2/Conv1D/ExpandDims_1)' with input shapes: [?,1,4,13], [1,5,13,13].\n",
      "\n",
      "Call arguments received by layer \"conv_2\" (type Conv1D):\n",
      "  • inputs=tf.Tensor(shape=(None, 4, 13), dtype=float32)\n",
      "[W 2023-07-01 02:47:38,205] Trial 79 failed with value None.\n"
     ]
    },
    {
     "name": "stdout",
     "output_type": "stream",
     "text": [
      "running model having {'n_conv_blocks': 3, 'filters': 13, 'kernel_size': 5, 'pool_size': 6, 'n_dense_blocks': 1, 'dense_nodes': 218} with SpRes = 150 for epochs = 30\n",
      "running model having {'n_conv_blocks': 3, 'filters': 13, 'kernel_size': 5, 'pool_size': 6, 'n_dense_blocks': 1, 'dense_nodes': 212} with SpRes = 150 for epochs = 30\n"
     ]
    },
    {
     "name": "stderr",
     "output_type": "stream",
     "text": [
      "[W 2023-07-01 02:47:38,352] Trial 80 failed with parameters: {'epochs': 30, 'resolution': 150, 'n_conv_blocks': 3, 'filters': 13, 'kernel_size': 5, 'pool_size': 6, 'n_dense_blocks': 1, 'dense_nodes': 212} because of the following error: ValueError('Exception encountered when calling layer \"conv_2\" (type Conv1D).\\n\\nNegative dimension size caused by subtracting 5 from 4 for \\'{{node conv_2/Conv1D}} = Conv2D[T=DT_FLOAT, data_format=\"NHWC\", dilations=[1, 1, 1, 1], explicit_paddings=[], padding=\"VALID\", strides=[1, 1, 1, 1], use_cudnn_on_gpu=true](conv_2/Conv1D/ExpandDims, conv_2/Conv1D/ExpandDims_1)\\' with input shapes: [?,1,4,13], [1,5,13,13].\\n\\nCall arguments received by layer \"conv_2\" (type Conv1D):\\n  • inputs=tf.Tensor(shape=(None, 4, 13), dtype=float32)').\n",
      "Traceback (most recent call last):\n",
      "  File \"/home/djanloo/.local/share/virtualenvs/DM2-PeqFRmfa/lib/python3.10/site-packages/optuna/study/_optimize.py\", line 200, in _run_trial\n",
      "    value_or_values = func(trial)\n",
      "  File \"/tmp/ipykernel_14321/3311194114.py\", line 3, in <lambda>\n",
      "    trial_function = lambda trial: objective(trial, train_idxs, val_idxs)\n",
      "  File \"/tmp/ipykernel_14321/3086810912.py\", line 25, in objective\n",
      "    model = build_model(X.shape[1:], len(np.unique(y)), **pars)\n",
      "  File \"/tmp/ipykernel_14321/2093002277.py\", line 18, in build_model\n",
      "    model.add(conv)\n",
      "  File \"/home/djanloo/.local/share/virtualenvs/DM2-PeqFRmfa/lib/python3.10/site-packages/tensorflow/python/trackable/base.py\", line 205, in _method_wrapper\n",
      "    result = method(self, *args, **kwargs)\n",
      "  File \"/home/djanloo/.local/share/virtualenvs/DM2-PeqFRmfa/lib/python3.10/site-packages/keras/utils/traceback_utils.py\", line 70, in error_handler\n",
      "    raise e.with_traceback(filtered_tb) from None\n",
      "  File \"/home/djanloo/.local/share/virtualenvs/DM2-PeqFRmfa/lib/python3.10/site-packages/tensorflow/python/framework/ops.py\", line 1973, in _create_c_op\n",
      "    raise ValueError(e.message)\n",
      "ValueError: Exception encountered when calling layer \"conv_2\" (type Conv1D).\n",
      "\n",
      "Negative dimension size caused by subtracting 5 from 4 for '{{node conv_2/Conv1D}} = Conv2D[T=DT_FLOAT, data_format=\"NHWC\", dilations=[1, 1, 1, 1], explicit_paddings=[], padding=\"VALID\", strides=[1, 1, 1, 1], use_cudnn_on_gpu=true](conv_2/Conv1D/ExpandDims, conv_2/Conv1D/ExpandDims_1)' with input shapes: [?,1,4,13], [1,5,13,13].\n",
      "\n",
      "Call arguments received by layer \"conv_2\" (type Conv1D):\n",
      "  • inputs=tf.Tensor(shape=(None, 4, 13), dtype=float32)\n",
      "[W 2023-07-01 02:47:38,353] Trial 80 failed with value None.\n",
      "[W 2023-07-01 02:47:38,503] Trial 81 failed with parameters: {'epochs': 30, 'resolution': 150, 'n_conv_blocks': 3, 'filters': 13, 'kernel_size': 5, 'pool_size': 6, 'n_dense_blocks': 1, 'dense_nodes': 217} because of the following error: ValueError('Exception encountered when calling layer \"conv_2\" (type Conv1D).\\n\\nNegative dimension size caused by subtracting 5 from 4 for \\'{{node conv_2/Conv1D}} = Conv2D[T=DT_FLOAT, data_format=\"NHWC\", dilations=[1, 1, 1, 1], explicit_paddings=[], padding=\"VALID\", strides=[1, 1, 1, 1], use_cudnn_on_gpu=true](conv_2/Conv1D/ExpandDims, conv_2/Conv1D/ExpandDims_1)\\' with input shapes: [?,1,4,13], [1,5,13,13].\\n\\nCall arguments received by layer \"conv_2\" (type Conv1D):\\n  • inputs=tf.Tensor(shape=(None, 4, 13), dtype=float32)').\n",
      "Traceback (most recent call last):\n",
      "  File \"/home/djanloo/.local/share/virtualenvs/DM2-PeqFRmfa/lib/python3.10/site-packages/optuna/study/_optimize.py\", line 200, in _run_trial\n",
      "    value_or_values = func(trial)\n",
      "  File \"/tmp/ipykernel_14321/3311194114.py\", line 3, in <lambda>\n",
      "    trial_function = lambda trial: objective(trial, train_idxs, val_idxs)\n",
      "  File \"/tmp/ipykernel_14321/3086810912.py\", line 25, in objective\n",
      "    model = build_model(X.shape[1:], len(np.unique(y)), **pars)\n",
      "  File \"/tmp/ipykernel_14321/2093002277.py\", line 18, in build_model\n",
      "    model.add(conv)\n",
      "  File \"/home/djanloo/.local/share/virtualenvs/DM2-PeqFRmfa/lib/python3.10/site-packages/tensorflow/python/trackable/base.py\", line 205, in _method_wrapper\n",
      "    result = method(self, *args, **kwargs)\n",
      "  File \"/home/djanloo/.local/share/virtualenvs/DM2-PeqFRmfa/lib/python3.10/site-packages/keras/utils/traceback_utils.py\", line 70, in error_handler\n",
      "    raise e.with_traceback(filtered_tb) from None\n",
      "  File \"/home/djanloo/.local/share/virtualenvs/DM2-PeqFRmfa/lib/python3.10/site-packages/tensorflow/python/framework/ops.py\", line 1973, in _create_c_op\n",
      "    raise ValueError(e.message)\n",
      "ValueError: Exception encountered when calling layer \"conv_2\" (type Conv1D).\n",
      "\n",
      "Negative dimension size caused by subtracting 5 from 4 for '{{node conv_2/Conv1D}} = Conv2D[T=DT_FLOAT, data_format=\"NHWC\", dilations=[1, 1, 1, 1], explicit_paddings=[], padding=\"VALID\", strides=[1, 1, 1, 1], use_cudnn_on_gpu=true](conv_2/Conv1D/ExpandDims, conv_2/Conv1D/ExpandDims_1)' with input shapes: [?,1,4,13], [1,5,13,13].\n",
      "\n",
      "Call arguments received by layer \"conv_2\" (type Conv1D):\n",
      "  • inputs=tf.Tensor(shape=(None, 4, 13), dtype=float32)\n",
      "[W 2023-07-01 02:47:38,504] Trial 81 failed with value None.\n"
     ]
    },
    {
     "name": "stdout",
     "output_type": "stream",
     "text": [
      "running model having {'n_conv_blocks': 3, 'filters': 13, 'kernel_size': 5, 'pool_size': 6, 'n_dense_blocks': 1, 'dense_nodes': 217} with SpRes = 150 for epochs = 30\n",
      "running model having {'n_conv_blocks': 3, 'filters': 13, 'kernel_size': 5, 'pool_size': 6, 'n_dense_blocks': 1, 'dense_nodes': 215} with SpRes = 150 for epochs = 30\n"
     ]
    },
    {
     "name": "stderr",
     "output_type": "stream",
     "text": [
      "[W 2023-07-01 02:47:38,660] Trial 82 failed with parameters: {'epochs': 30, 'resolution': 150, 'n_conv_blocks': 3, 'filters': 13, 'kernel_size': 5, 'pool_size': 6, 'n_dense_blocks': 1, 'dense_nodes': 215} because of the following error: ValueError('Exception encountered when calling layer \"conv_2\" (type Conv1D).\\n\\nNegative dimension size caused by subtracting 5 from 4 for \\'{{node conv_2/Conv1D}} = Conv2D[T=DT_FLOAT, data_format=\"NHWC\", dilations=[1, 1, 1, 1], explicit_paddings=[], padding=\"VALID\", strides=[1, 1, 1, 1], use_cudnn_on_gpu=true](conv_2/Conv1D/ExpandDims, conv_2/Conv1D/ExpandDims_1)\\' with input shapes: [?,1,4,13], [1,5,13,13].\\n\\nCall arguments received by layer \"conv_2\" (type Conv1D):\\n  • inputs=tf.Tensor(shape=(None, 4, 13), dtype=float32)').\n",
      "Traceback (most recent call last):\n",
      "  File \"/home/djanloo/.local/share/virtualenvs/DM2-PeqFRmfa/lib/python3.10/site-packages/optuna/study/_optimize.py\", line 200, in _run_trial\n",
      "    value_or_values = func(trial)\n",
      "  File \"/tmp/ipykernel_14321/3311194114.py\", line 3, in <lambda>\n",
      "    trial_function = lambda trial: objective(trial, train_idxs, val_idxs)\n",
      "  File \"/tmp/ipykernel_14321/3086810912.py\", line 25, in objective\n",
      "    model = build_model(X.shape[1:], len(np.unique(y)), **pars)\n",
      "  File \"/tmp/ipykernel_14321/2093002277.py\", line 18, in build_model\n",
      "    model.add(conv)\n",
      "  File \"/home/djanloo/.local/share/virtualenvs/DM2-PeqFRmfa/lib/python3.10/site-packages/tensorflow/python/trackable/base.py\", line 205, in _method_wrapper\n",
      "    result = method(self, *args, **kwargs)\n",
      "  File \"/home/djanloo/.local/share/virtualenvs/DM2-PeqFRmfa/lib/python3.10/site-packages/keras/utils/traceback_utils.py\", line 70, in error_handler\n",
      "    raise e.with_traceback(filtered_tb) from None\n",
      "  File \"/home/djanloo/.local/share/virtualenvs/DM2-PeqFRmfa/lib/python3.10/site-packages/tensorflow/python/framework/ops.py\", line 1973, in _create_c_op\n",
      "    raise ValueError(e.message)\n",
      "ValueError: Exception encountered when calling layer \"conv_2\" (type Conv1D).\n",
      "\n",
      "Negative dimension size caused by subtracting 5 from 4 for '{{node conv_2/Conv1D}} = Conv2D[T=DT_FLOAT, data_format=\"NHWC\", dilations=[1, 1, 1, 1], explicit_paddings=[], padding=\"VALID\", strides=[1, 1, 1, 1], use_cudnn_on_gpu=true](conv_2/Conv1D/ExpandDims, conv_2/Conv1D/ExpandDims_1)' with input shapes: [?,1,4,13], [1,5,13,13].\n",
      "\n",
      "Call arguments received by layer \"conv_2\" (type Conv1D):\n",
      "  • inputs=tf.Tensor(shape=(None, 4, 13), dtype=float32)\n",
      "[W 2023-07-01 02:47:38,661] Trial 82 failed with value None.\n",
      "[W 2023-07-01 02:47:38,809] Trial 83 failed with parameters: {'epochs': 30, 'resolution': 150, 'n_conv_blocks': 3, 'filters': 13, 'kernel_size': 5, 'pool_size': 6, 'n_dense_blocks': 1, 'dense_nodes': 212} because of the following error: ValueError('Exception encountered when calling layer \"conv_2\" (type Conv1D).\\n\\nNegative dimension size caused by subtracting 5 from 4 for \\'{{node conv_2/Conv1D}} = Conv2D[T=DT_FLOAT, data_format=\"NHWC\", dilations=[1, 1, 1, 1], explicit_paddings=[], padding=\"VALID\", strides=[1, 1, 1, 1], use_cudnn_on_gpu=true](conv_2/Conv1D/ExpandDims, conv_2/Conv1D/ExpandDims_1)\\' with input shapes: [?,1,4,13], [1,5,13,13].\\n\\nCall arguments received by layer \"conv_2\" (type Conv1D):\\n  • inputs=tf.Tensor(shape=(None, 4, 13), dtype=float32)').\n",
      "Traceback (most recent call last):\n",
      "  File \"/home/djanloo/.local/share/virtualenvs/DM2-PeqFRmfa/lib/python3.10/site-packages/optuna/study/_optimize.py\", line 200, in _run_trial\n",
      "    value_or_values = func(trial)\n",
      "  File \"/tmp/ipykernel_14321/3311194114.py\", line 3, in <lambda>\n",
      "    trial_function = lambda trial: objective(trial, train_idxs, val_idxs)\n",
      "  File \"/tmp/ipykernel_14321/3086810912.py\", line 25, in objective\n",
      "    model = build_model(X.shape[1:], len(np.unique(y)), **pars)\n",
      "  File \"/tmp/ipykernel_14321/2093002277.py\", line 18, in build_model\n",
      "    model.add(conv)\n",
      "  File \"/home/djanloo/.local/share/virtualenvs/DM2-PeqFRmfa/lib/python3.10/site-packages/tensorflow/python/trackable/base.py\", line 205, in _method_wrapper\n",
      "    result = method(self, *args, **kwargs)\n",
      "  File \"/home/djanloo/.local/share/virtualenvs/DM2-PeqFRmfa/lib/python3.10/site-packages/keras/utils/traceback_utils.py\", line 70, in error_handler\n",
      "    raise e.with_traceback(filtered_tb) from None\n",
      "  File \"/home/djanloo/.local/share/virtualenvs/DM2-PeqFRmfa/lib/python3.10/site-packages/tensorflow/python/framework/ops.py\", line 1973, in _create_c_op\n",
      "    raise ValueError(e.message)\n",
      "ValueError: Exception encountered when calling layer \"conv_2\" (type Conv1D).\n",
      "\n",
      "Negative dimension size caused by subtracting 5 from 4 for '{{node conv_2/Conv1D}} = Conv2D[T=DT_FLOAT, data_format=\"NHWC\", dilations=[1, 1, 1, 1], explicit_paddings=[], padding=\"VALID\", strides=[1, 1, 1, 1], use_cudnn_on_gpu=true](conv_2/Conv1D/ExpandDims, conv_2/Conv1D/ExpandDims_1)' with input shapes: [?,1,4,13], [1,5,13,13].\n",
      "\n",
      "Call arguments received by layer \"conv_2\" (type Conv1D):\n",
      "  • inputs=tf.Tensor(shape=(None, 4, 13), dtype=float32)\n",
      "[W 2023-07-01 02:47:38,810] Trial 83 failed with value None.\n"
     ]
    },
    {
     "name": "stdout",
     "output_type": "stream",
     "text": [
      "running model having {'n_conv_blocks': 3, 'filters': 13, 'kernel_size': 5, 'pool_size': 6, 'n_dense_blocks': 1, 'dense_nodes': 212} with SpRes = 150 for epochs = 30\n",
      "running model having {'n_conv_blocks': 3, 'filters': 13, 'kernel_size': 5, 'pool_size': 6, 'n_dense_blocks': 1, 'dense_nodes': 216} with SpRes = 150 for epochs = 30\n"
     ]
    },
    {
     "name": "stderr",
     "output_type": "stream",
     "text": [
      "[W 2023-07-01 02:47:38,958] Trial 84 failed with parameters: {'epochs': 30, 'resolution': 150, 'n_conv_blocks': 3, 'filters': 13, 'kernel_size': 5, 'pool_size': 6, 'n_dense_blocks': 1, 'dense_nodes': 216} because of the following error: ValueError('Exception encountered when calling layer \"conv_2\" (type Conv1D).\\n\\nNegative dimension size caused by subtracting 5 from 4 for \\'{{node conv_2/Conv1D}} = Conv2D[T=DT_FLOAT, data_format=\"NHWC\", dilations=[1, 1, 1, 1], explicit_paddings=[], padding=\"VALID\", strides=[1, 1, 1, 1], use_cudnn_on_gpu=true](conv_2/Conv1D/ExpandDims, conv_2/Conv1D/ExpandDims_1)\\' with input shapes: [?,1,4,13], [1,5,13,13].\\n\\nCall arguments received by layer \"conv_2\" (type Conv1D):\\n  • inputs=tf.Tensor(shape=(None, 4, 13), dtype=float32)').\n",
      "Traceback (most recent call last):\n",
      "  File \"/home/djanloo/.local/share/virtualenvs/DM2-PeqFRmfa/lib/python3.10/site-packages/optuna/study/_optimize.py\", line 200, in _run_trial\n",
      "    value_or_values = func(trial)\n",
      "  File \"/tmp/ipykernel_14321/3311194114.py\", line 3, in <lambda>\n",
      "    trial_function = lambda trial: objective(trial, train_idxs, val_idxs)\n",
      "  File \"/tmp/ipykernel_14321/3086810912.py\", line 25, in objective\n",
      "    model = build_model(X.shape[1:], len(np.unique(y)), **pars)\n",
      "  File \"/tmp/ipykernel_14321/2093002277.py\", line 18, in build_model\n",
      "    model.add(conv)\n",
      "  File \"/home/djanloo/.local/share/virtualenvs/DM2-PeqFRmfa/lib/python3.10/site-packages/tensorflow/python/trackable/base.py\", line 205, in _method_wrapper\n",
      "    result = method(self, *args, **kwargs)\n",
      "  File \"/home/djanloo/.local/share/virtualenvs/DM2-PeqFRmfa/lib/python3.10/site-packages/keras/utils/traceback_utils.py\", line 70, in error_handler\n",
      "    raise e.with_traceback(filtered_tb) from None\n",
      "  File \"/home/djanloo/.local/share/virtualenvs/DM2-PeqFRmfa/lib/python3.10/site-packages/tensorflow/python/framework/ops.py\", line 1973, in _create_c_op\n",
      "    raise ValueError(e.message)\n",
      "ValueError: Exception encountered when calling layer \"conv_2\" (type Conv1D).\n",
      "\n",
      "Negative dimension size caused by subtracting 5 from 4 for '{{node conv_2/Conv1D}} = Conv2D[T=DT_FLOAT, data_format=\"NHWC\", dilations=[1, 1, 1, 1], explicit_paddings=[], padding=\"VALID\", strides=[1, 1, 1, 1], use_cudnn_on_gpu=true](conv_2/Conv1D/ExpandDims, conv_2/Conv1D/ExpandDims_1)' with input shapes: [?,1,4,13], [1,5,13,13].\n",
      "\n",
      "Call arguments received by layer \"conv_2\" (type Conv1D):\n",
      "  • inputs=tf.Tensor(shape=(None, 4, 13), dtype=float32)\n",
      "[W 2023-07-01 02:47:38,960] Trial 84 failed with value None.\n",
      "[W 2023-07-01 02:47:39,109] Trial 85 failed with parameters: {'epochs': 30, 'resolution': 150, 'n_conv_blocks': 3, 'filters': 13, 'kernel_size': 5, 'pool_size': 6, 'n_dense_blocks': 1, 'dense_nodes': 214} because of the following error: ValueError('Exception encountered when calling layer \"conv_2\" (type Conv1D).\\n\\nNegative dimension size caused by subtracting 5 from 4 for \\'{{node conv_2/Conv1D}} = Conv2D[T=DT_FLOAT, data_format=\"NHWC\", dilations=[1, 1, 1, 1], explicit_paddings=[], padding=\"VALID\", strides=[1, 1, 1, 1], use_cudnn_on_gpu=true](conv_2/Conv1D/ExpandDims, conv_2/Conv1D/ExpandDims_1)\\' with input shapes: [?,1,4,13], [1,5,13,13].\\n\\nCall arguments received by layer \"conv_2\" (type Conv1D):\\n  • inputs=tf.Tensor(shape=(None, 4, 13), dtype=float32)').\n",
      "Traceback (most recent call last):\n",
      "  File \"/home/djanloo/.local/share/virtualenvs/DM2-PeqFRmfa/lib/python3.10/site-packages/optuna/study/_optimize.py\", line 200, in _run_trial\n",
      "    value_or_values = func(trial)\n",
      "  File \"/tmp/ipykernel_14321/3311194114.py\", line 3, in <lambda>\n",
      "    trial_function = lambda trial: objective(trial, train_idxs, val_idxs)\n",
      "  File \"/tmp/ipykernel_14321/3086810912.py\", line 25, in objective\n",
      "    model = build_model(X.shape[1:], len(np.unique(y)), **pars)\n",
      "  File \"/tmp/ipykernel_14321/2093002277.py\", line 18, in build_model\n",
      "    model.add(conv)\n",
      "  File \"/home/djanloo/.local/share/virtualenvs/DM2-PeqFRmfa/lib/python3.10/site-packages/tensorflow/python/trackable/base.py\", line 205, in _method_wrapper\n",
      "    result = method(self, *args, **kwargs)\n",
      "  File \"/home/djanloo/.local/share/virtualenvs/DM2-PeqFRmfa/lib/python3.10/site-packages/keras/utils/traceback_utils.py\", line 70, in error_handler\n",
      "    raise e.with_traceback(filtered_tb) from None\n",
      "  File \"/home/djanloo/.local/share/virtualenvs/DM2-PeqFRmfa/lib/python3.10/site-packages/tensorflow/python/framework/ops.py\", line 1973, in _create_c_op\n",
      "    raise ValueError(e.message)\n",
      "ValueError: Exception encountered when calling layer \"conv_2\" (type Conv1D).\n",
      "\n",
      "Negative dimension size caused by subtracting 5 from 4 for '{{node conv_2/Conv1D}} = Conv2D[T=DT_FLOAT, data_format=\"NHWC\", dilations=[1, 1, 1, 1], explicit_paddings=[], padding=\"VALID\", strides=[1, 1, 1, 1], use_cudnn_on_gpu=true](conv_2/Conv1D/ExpandDims, conv_2/Conv1D/ExpandDims_1)' with input shapes: [?,1,4,13], [1,5,13,13].\n",
      "\n",
      "Call arguments received by layer \"conv_2\" (type Conv1D):\n",
      "  • inputs=tf.Tensor(shape=(None, 4, 13), dtype=float32)\n",
      "[W 2023-07-01 02:47:39,110] Trial 85 failed with value None.\n"
     ]
    },
    {
     "name": "stdout",
     "output_type": "stream",
     "text": [
      "running model having {'n_conv_blocks': 3, 'filters': 13, 'kernel_size': 5, 'pool_size': 6, 'n_dense_blocks': 1, 'dense_nodes': 214} with SpRes = 150 for epochs = 30\n",
      "running model having {'n_conv_blocks': 3, 'filters': 13, 'kernel_size': 5, 'pool_size': 6, 'n_dense_blocks': 1, 'dense_nodes': 221} with SpRes = 150 for epochs = 30\n"
     ]
    },
    {
     "name": "stderr",
     "output_type": "stream",
     "text": [
      "[W 2023-07-01 02:47:39,262] Trial 86 failed with parameters: {'epochs': 30, 'resolution': 150, 'n_conv_blocks': 3, 'filters': 13, 'kernel_size': 5, 'pool_size': 6, 'n_dense_blocks': 1, 'dense_nodes': 221} because of the following error: ValueError('Exception encountered when calling layer \"conv_2\" (type Conv1D).\\n\\nNegative dimension size caused by subtracting 5 from 4 for \\'{{node conv_2/Conv1D}} = Conv2D[T=DT_FLOAT, data_format=\"NHWC\", dilations=[1, 1, 1, 1], explicit_paddings=[], padding=\"VALID\", strides=[1, 1, 1, 1], use_cudnn_on_gpu=true](conv_2/Conv1D/ExpandDims, conv_2/Conv1D/ExpandDims_1)\\' with input shapes: [?,1,4,13], [1,5,13,13].\\n\\nCall arguments received by layer \"conv_2\" (type Conv1D):\\n  • inputs=tf.Tensor(shape=(None, 4, 13), dtype=float32)').\n",
      "Traceback (most recent call last):\n",
      "  File \"/home/djanloo/.local/share/virtualenvs/DM2-PeqFRmfa/lib/python3.10/site-packages/optuna/study/_optimize.py\", line 200, in _run_trial\n",
      "    value_or_values = func(trial)\n",
      "  File \"/tmp/ipykernel_14321/3311194114.py\", line 3, in <lambda>\n",
      "    trial_function = lambda trial: objective(trial, train_idxs, val_idxs)\n",
      "  File \"/tmp/ipykernel_14321/3086810912.py\", line 25, in objective\n",
      "    model = build_model(X.shape[1:], len(np.unique(y)), **pars)\n",
      "  File \"/tmp/ipykernel_14321/2093002277.py\", line 18, in build_model\n",
      "    model.add(conv)\n",
      "  File \"/home/djanloo/.local/share/virtualenvs/DM2-PeqFRmfa/lib/python3.10/site-packages/tensorflow/python/trackable/base.py\", line 205, in _method_wrapper\n",
      "    result = method(self, *args, **kwargs)\n",
      "  File \"/home/djanloo/.local/share/virtualenvs/DM2-PeqFRmfa/lib/python3.10/site-packages/keras/utils/traceback_utils.py\", line 70, in error_handler\n",
      "    raise e.with_traceback(filtered_tb) from None\n",
      "  File \"/home/djanloo/.local/share/virtualenvs/DM2-PeqFRmfa/lib/python3.10/site-packages/tensorflow/python/framework/ops.py\", line 1973, in _create_c_op\n",
      "    raise ValueError(e.message)\n",
      "ValueError: Exception encountered when calling layer \"conv_2\" (type Conv1D).\n",
      "\n",
      "Negative dimension size caused by subtracting 5 from 4 for '{{node conv_2/Conv1D}} = Conv2D[T=DT_FLOAT, data_format=\"NHWC\", dilations=[1, 1, 1, 1], explicit_paddings=[], padding=\"VALID\", strides=[1, 1, 1, 1], use_cudnn_on_gpu=true](conv_2/Conv1D/ExpandDims, conv_2/Conv1D/ExpandDims_1)' with input shapes: [?,1,4,13], [1,5,13,13].\n",
      "\n",
      "Call arguments received by layer \"conv_2\" (type Conv1D):\n",
      "  • inputs=tf.Tensor(shape=(None, 4, 13), dtype=float32)\n",
      "[W 2023-07-01 02:47:39,263] Trial 86 failed with value None.\n",
      "[W 2023-07-01 02:47:39,411] Trial 87 failed with parameters: {'epochs': 32, 'resolution': 150, 'n_conv_blocks': 3, 'filters': 13, 'kernel_size': 5, 'pool_size': 6, 'n_dense_blocks': 1, 'dense_nodes': 218} because of the following error: ValueError('Exception encountered when calling layer \"conv_2\" (type Conv1D).\\n\\nNegative dimension size caused by subtracting 5 from 4 for \\'{{node conv_2/Conv1D}} = Conv2D[T=DT_FLOAT, data_format=\"NHWC\", dilations=[1, 1, 1, 1], explicit_paddings=[], padding=\"VALID\", strides=[1, 1, 1, 1], use_cudnn_on_gpu=true](conv_2/Conv1D/ExpandDims, conv_2/Conv1D/ExpandDims_1)\\' with input shapes: [?,1,4,13], [1,5,13,13].\\n\\nCall arguments received by layer \"conv_2\" (type Conv1D):\\n  • inputs=tf.Tensor(shape=(None, 4, 13), dtype=float32)').\n",
      "Traceback (most recent call last):\n",
      "  File \"/home/djanloo/.local/share/virtualenvs/DM2-PeqFRmfa/lib/python3.10/site-packages/optuna/study/_optimize.py\", line 200, in _run_trial\n",
      "    value_or_values = func(trial)\n",
      "  File \"/tmp/ipykernel_14321/3311194114.py\", line 3, in <lambda>\n",
      "    trial_function = lambda trial: objective(trial, train_idxs, val_idxs)\n",
      "  File \"/tmp/ipykernel_14321/3086810912.py\", line 25, in objective\n",
      "    model = build_model(X.shape[1:], len(np.unique(y)), **pars)\n",
      "  File \"/tmp/ipykernel_14321/2093002277.py\", line 18, in build_model\n",
      "    model.add(conv)\n",
      "  File \"/home/djanloo/.local/share/virtualenvs/DM2-PeqFRmfa/lib/python3.10/site-packages/tensorflow/python/trackable/base.py\", line 205, in _method_wrapper\n",
      "    result = method(self, *args, **kwargs)\n",
      "  File \"/home/djanloo/.local/share/virtualenvs/DM2-PeqFRmfa/lib/python3.10/site-packages/keras/utils/traceback_utils.py\", line 70, in error_handler\n",
      "    raise e.with_traceback(filtered_tb) from None\n",
      "  File \"/home/djanloo/.local/share/virtualenvs/DM2-PeqFRmfa/lib/python3.10/site-packages/tensorflow/python/framework/ops.py\", line 1973, in _create_c_op\n",
      "    raise ValueError(e.message)\n",
      "ValueError: Exception encountered when calling layer \"conv_2\" (type Conv1D).\n",
      "\n",
      "Negative dimension size caused by subtracting 5 from 4 for '{{node conv_2/Conv1D}} = Conv2D[T=DT_FLOAT, data_format=\"NHWC\", dilations=[1, 1, 1, 1], explicit_paddings=[], padding=\"VALID\", strides=[1, 1, 1, 1], use_cudnn_on_gpu=true](conv_2/Conv1D/ExpandDims, conv_2/Conv1D/ExpandDims_1)' with input shapes: [?,1,4,13], [1,5,13,13].\n",
      "\n",
      "Call arguments received by layer \"conv_2\" (type Conv1D):\n",
      "  • inputs=tf.Tensor(shape=(None, 4, 13), dtype=float32)\n",
      "[W 2023-07-01 02:47:39,412] Trial 87 failed with value None.\n"
     ]
    },
    {
     "name": "stdout",
     "output_type": "stream",
     "text": [
      "running model having {'n_conv_blocks': 3, 'filters': 13, 'kernel_size': 5, 'pool_size': 6, 'n_dense_blocks': 1, 'dense_nodes': 218} with SpRes = 150 for epochs = 32\n",
      "running model having {'n_conv_blocks': 3, 'filters': 13, 'kernel_size': 5, 'pool_size': 6, 'n_dense_blocks': 1, 'dense_nodes': 211} with SpRes = 150 for epochs = 32\n"
     ]
    },
    {
     "name": "stderr",
     "output_type": "stream",
     "text": [
      "[W 2023-07-01 02:47:39,564] Trial 88 failed with parameters: {'epochs': 32, 'resolution': 150, 'n_conv_blocks': 3, 'filters': 13, 'kernel_size': 5, 'pool_size': 6, 'n_dense_blocks': 1, 'dense_nodes': 211} because of the following error: ValueError('Exception encountered when calling layer \"conv_2\" (type Conv1D).\\n\\nNegative dimension size caused by subtracting 5 from 4 for \\'{{node conv_2/Conv1D}} = Conv2D[T=DT_FLOAT, data_format=\"NHWC\", dilations=[1, 1, 1, 1], explicit_paddings=[], padding=\"VALID\", strides=[1, 1, 1, 1], use_cudnn_on_gpu=true](conv_2/Conv1D/ExpandDims, conv_2/Conv1D/ExpandDims_1)\\' with input shapes: [?,1,4,13], [1,5,13,13].\\n\\nCall arguments received by layer \"conv_2\" (type Conv1D):\\n  • inputs=tf.Tensor(shape=(None, 4, 13), dtype=float32)').\n",
      "Traceback (most recent call last):\n",
      "  File \"/home/djanloo/.local/share/virtualenvs/DM2-PeqFRmfa/lib/python3.10/site-packages/optuna/study/_optimize.py\", line 200, in _run_trial\n",
      "    value_or_values = func(trial)\n",
      "  File \"/tmp/ipykernel_14321/3311194114.py\", line 3, in <lambda>\n",
      "    trial_function = lambda trial: objective(trial, train_idxs, val_idxs)\n",
      "  File \"/tmp/ipykernel_14321/3086810912.py\", line 25, in objective\n",
      "    model = build_model(X.shape[1:], len(np.unique(y)), **pars)\n",
      "  File \"/tmp/ipykernel_14321/2093002277.py\", line 18, in build_model\n",
      "    model.add(conv)\n",
      "  File \"/home/djanloo/.local/share/virtualenvs/DM2-PeqFRmfa/lib/python3.10/site-packages/tensorflow/python/trackable/base.py\", line 205, in _method_wrapper\n",
      "    result = method(self, *args, **kwargs)\n",
      "  File \"/home/djanloo/.local/share/virtualenvs/DM2-PeqFRmfa/lib/python3.10/site-packages/keras/utils/traceback_utils.py\", line 70, in error_handler\n",
      "    raise e.with_traceback(filtered_tb) from None\n",
      "  File \"/home/djanloo/.local/share/virtualenvs/DM2-PeqFRmfa/lib/python3.10/site-packages/tensorflow/python/framework/ops.py\", line 1973, in _create_c_op\n",
      "    raise ValueError(e.message)\n",
      "ValueError: Exception encountered when calling layer \"conv_2\" (type Conv1D).\n",
      "\n",
      "Negative dimension size caused by subtracting 5 from 4 for '{{node conv_2/Conv1D}} = Conv2D[T=DT_FLOAT, data_format=\"NHWC\", dilations=[1, 1, 1, 1], explicit_paddings=[], padding=\"VALID\", strides=[1, 1, 1, 1], use_cudnn_on_gpu=true](conv_2/Conv1D/ExpandDims, conv_2/Conv1D/ExpandDims_1)' with input shapes: [?,1,4,13], [1,5,13,13].\n",
      "\n",
      "Call arguments received by layer \"conv_2\" (type Conv1D):\n",
      "  • inputs=tf.Tensor(shape=(None, 4, 13), dtype=float32)\n",
      "[W 2023-07-01 02:47:39,565] Trial 88 failed with value None.\n",
      "[W 2023-07-01 02:47:39,710] Trial 89 failed with parameters: {'epochs': 30, 'resolution': 150, 'n_conv_blocks': 3, 'filters': 13, 'kernel_size': 5, 'pool_size': 6, 'n_dense_blocks': 1, 'dense_nodes': 217} because of the following error: ValueError('Exception encountered when calling layer \"conv_2\" (type Conv1D).\\n\\nNegative dimension size caused by subtracting 5 from 4 for \\'{{node conv_2/Conv1D}} = Conv2D[T=DT_FLOAT, data_format=\"NHWC\", dilations=[1, 1, 1, 1], explicit_paddings=[], padding=\"VALID\", strides=[1, 1, 1, 1], use_cudnn_on_gpu=true](conv_2/Conv1D/ExpandDims, conv_2/Conv1D/ExpandDims_1)\\' with input shapes: [?,1,4,13], [1,5,13,13].\\n\\nCall arguments received by layer \"conv_2\" (type Conv1D):\\n  • inputs=tf.Tensor(shape=(None, 4, 13), dtype=float32)').\n",
      "Traceback (most recent call last):\n",
      "  File \"/home/djanloo/.local/share/virtualenvs/DM2-PeqFRmfa/lib/python3.10/site-packages/optuna/study/_optimize.py\", line 200, in _run_trial\n",
      "    value_or_values = func(trial)\n",
      "  File \"/tmp/ipykernel_14321/3311194114.py\", line 3, in <lambda>\n",
      "    trial_function = lambda trial: objective(trial, train_idxs, val_idxs)\n",
      "  File \"/tmp/ipykernel_14321/3086810912.py\", line 25, in objective\n",
      "    model = build_model(X.shape[1:], len(np.unique(y)), **pars)\n",
      "  File \"/tmp/ipykernel_14321/2093002277.py\", line 18, in build_model\n",
      "    model.add(conv)\n",
      "  File \"/home/djanloo/.local/share/virtualenvs/DM2-PeqFRmfa/lib/python3.10/site-packages/tensorflow/python/trackable/base.py\", line 205, in _method_wrapper\n",
      "    result = method(self, *args, **kwargs)\n",
      "  File \"/home/djanloo/.local/share/virtualenvs/DM2-PeqFRmfa/lib/python3.10/site-packages/keras/utils/traceback_utils.py\", line 70, in error_handler\n",
      "    raise e.with_traceback(filtered_tb) from None\n",
      "  File \"/home/djanloo/.local/share/virtualenvs/DM2-PeqFRmfa/lib/python3.10/site-packages/tensorflow/python/framework/ops.py\", line 1973, in _create_c_op\n",
      "    raise ValueError(e.message)\n",
      "ValueError: Exception encountered when calling layer \"conv_2\" (type Conv1D).\n",
      "\n",
      "Negative dimension size caused by subtracting 5 from 4 for '{{node conv_2/Conv1D}} = Conv2D[T=DT_FLOAT, data_format=\"NHWC\", dilations=[1, 1, 1, 1], explicit_paddings=[], padding=\"VALID\", strides=[1, 1, 1, 1], use_cudnn_on_gpu=true](conv_2/Conv1D/ExpandDims, conv_2/Conv1D/ExpandDims_1)' with input shapes: [?,1,4,13], [1,5,13,13].\n",
      "\n",
      "Call arguments received by layer \"conv_2\" (type Conv1D):\n",
      "  • inputs=tf.Tensor(shape=(None, 4, 13), dtype=float32)\n",
      "[W 2023-07-01 02:47:39,711] Trial 89 failed with value None.\n"
     ]
    },
    {
     "name": "stdout",
     "output_type": "stream",
     "text": [
      "running model having {'n_conv_blocks': 3, 'filters': 13, 'kernel_size': 5, 'pool_size': 6, 'n_dense_blocks': 1, 'dense_nodes': 217} with SpRes = 150 for epochs = 30\n",
      "running model having {'n_conv_blocks': 3, 'filters': 13, 'kernel_size': 5, 'pool_size': 6, 'n_dense_blocks': 1, 'dense_nodes': 215} with SpRes = 150 for epochs = 30\n"
     ]
    },
    {
     "name": "stderr",
     "output_type": "stream",
     "text": [
      "[W 2023-07-01 02:47:39,858] Trial 90 failed with parameters: {'epochs': 30, 'resolution': 150, 'n_conv_blocks': 3, 'filters': 13, 'kernel_size': 5, 'pool_size': 6, 'n_dense_blocks': 1, 'dense_nodes': 215} because of the following error: ValueError('Exception encountered when calling layer \"conv_2\" (type Conv1D).\\n\\nNegative dimension size caused by subtracting 5 from 4 for \\'{{node conv_2/Conv1D}} = Conv2D[T=DT_FLOAT, data_format=\"NHWC\", dilations=[1, 1, 1, 1], explicit_paddings=[], padding=\"VALID\", strides=[1, 1, 1, 1], use_cudnn_on_gpu=true](conv_2/Conv1D/ExpandDims, conv_2/Conv1D/ExpandDims_1)\\' with input shapes: [?,1,4,13], [1,5,13,13].\\n\\nCall arguments received by layer \"conv_2\" (type Conv1D):\\n  • inputs=tf.Tensor(shape=(None, 4, 13), dtype=float32)').\n",
      "Traceback (most recent call last):\n",
      "  File \"/home/djanloo/.local/share/virtualenvs/DM2-PeqFRmfa/lib/python3.10/site-packages/optuna/study/_optimize.py\", line 200, in _run_trial\n",
      "    value_or_values = func(trial)\n",
      "  File \"/tmp/ipykernel_14321/3311194114.py\", line 3, in <lambda>\n",
      "    trial_function = lambda trial: objective(trial, train_idxs, val_idxs)\n",
      "  File \"/tmp/ipykernel_14321/3086810912.py\", line 25, in objective\n",
      "    model = build_model(X.shape[1:], len(np.unique(y)), **pars)\n",
      "  File \"/tmp/ipykernel_14321/2093002277.py\", line 18, in build_model\n",
      "    model.add(conv)\n",
      "  File \"/home/djanloo/.local/share/virtualenvs/DM2-PeqFRmfa/lib/python3.10/site-packages/tensorflow/python/trackable/base.py\", line 205, in _method_wrapper\n",
      "    result = method(self, *args, **kwargs)\n",
      "  File \"/home/djanloo/.local/share/virtualenvs/DM2-PeqFRmfa/lib/python3.10/site-packages/keras/utils/traceback_utils.py\", line 70, in error_handler\n",
      "    raise e.with_traceback(filtered_tb) from None\n",
      "  File \"/home/djanloo/.local/share/virtualenvs/DM2-PeqFRmfa/lib/python3.10/site-packages/tensorflow/python/framework/ops.py\", line 1973, in _create_c_op\n",
      "    raise ValueError(e.message)\n",
      "ValueError: Exception encountered when calling layer \"conv_2\" (type Conv1D).\n",
      "\n",
      "Negative dimension size caused by subtracting 5 from 4 for '{{node conv_2/Conv1D}} = Conv2D[T=DT_FLOAT, data_format=\"NHWC\", dilations=[1, 1, 1, 1], explicit_paddings=[], padding=\"VALID\", strides=[1, 1, 1, 1], use_cudnn_on_gpu=true](conv_2/Conv1D/ExpandDims, conv_2/Conv1D/ExpandDims_1)' with input shapes: [?,1,4,13], [1,5,13,13].\n",
      "\n",
      "Call arguments received by layer \"conv_2\" (type Conv1D):\n",
      "  • inputs=tf.Tensor(shape=(None, 4, 13), dtype=float32)\n",
      "[W 2023-07-01 02:47:39,860] Trial 90 failed with value None.\n",
      "[W 2023-07-01 02:47:40,007] Trial 91 failed with parameters: {'epochs': 30, 'resolution': 150, 'n_conv_blocks': 3, 'filters': 13, 'kernel_size': 5, 'pool_size': 6, 'n_dense_blocks': 1, 'dense_nodes': 214} because of the following error: ValueError('Exception encountered when calling layer \"conv_2\" (type Conv1D).\\n\\nNegative dimension size caused by subtracting 5 from 4 for \\'{{node conv_2/Conv1D}} = Conv2D[T=DT_FLOAT, data_format=\"NHWC\", dilations=[1, 1, 1, 1], explicit_paddings=[], padding=\"VALID\", strides=[1, 1, 1, 1], use_cudnn_on_gpu=true](conv_2/Conv1D/ExpandDims, conv_2/Conv1D/ExpandDims_1)\\' with input shapes: [?,1,4,13], [1,5,13,13].\\n\\nCall arguments received by layer \"conv_2\" (type Conv1D):\\n  • inputs=tf.Tensor(shape=(None, 4, 13), dtype=float32)').\n",
      "Traceback (most recent call last):\n",
      "  File \"/home/djanloo/.local/share/virtualenvs/DM2-PeqFRmfa/lib/python3.10/site-packages/optuna/study/_optimize.py\", line 200, in _run_trial\n",
      "    value_or_values = func(trial)\n",
      "  File \"/tmp/ipykernel_14321/3311194114.py\", line 3, in <lambda>\n",
      "    trial_function = lambda trial: objective(trial, train_idxs, val_idxs)\n",
      "  File \"/tmp/ipykernel_14321/3086810912.py\", line 25, in objective\n",
      "    model = build_model(X.shape[1:], len(np.unique(y)), **pars)\n",
      "  File \"/tmp/ipykernel_14321/2093002277.py\", line 18, in build_model\n",
      "    model.add(conv)\n",
      "  File \"/home/djanloo/.local/share/virtualenvs/DM2-PeqFRmfa/lib/python3.10/site-packages/tensorflow/python/trackable/base.py\", line 205, in _method_wrapper\n",
      "    result = method(self, *args, **kwargs)\n",
      "  File \"/home/djanloo/.local/share/virtualenvs/DM2-PeqFRmfa/lib/python3.10/site-packages/keras/utils/traceback_utils.py\", line 70, in error_handler\n",
      "    raise e.with_traceback(filtered_tb) from None\n",
      "  File \"/home/djanloo/.local/share/virtualenvs/DM2-PeqFRmfa/lib/python3.10/site-packages/tensorflow/python/framework/ops.py\", line 1973, in _create_c_op\n",
      "    raise ValueError(e.message)\n",
      "ValueError: Exception encountered when calling layer \"conv_2\" (type Conv1D).\n",
      "\n",
      "Negative dimension size caused by subtracting 5 from 4 for '{{node conv_2/Conv1D}} = Conv2D[T=DT_FLOAT, data_format=\"NHWC\", dilations=[1, 1, 1, 1], explicit_paddings=[], padding=\"VALID\", strides=[1, 1, 1, 1], use_cudnn_on_gpu=true](conv_2/Conv1D/ExpandDims, conv_2/Conv1D/ExpandDims_1)' with input shapes: [?,1,4,13], [1,5,13,13].\n",
      "\n",
      "Call arguments received by layer \"conv_2\" (type Conv1D):\n",
      "  • inputs=tf.Tensor(shape=(None, 4, 13), dtype=float32)\n",
      "[W 2023-07-01 02:47:40,008] Trial 91 failed with value None.\n"
     ]
    },
    {
     "name": "stdout",
     "output_type": "stream",
     "text": [
      "running model having {'n_conv_blocks': 3, 'filters': 13, 'kernel_size': 5, 'pool_size': 6, 'n_dense_blocks': 1, 'dense_nodes': 214} with SpRes = 150 for epochs = 30\n",
      "running model having {'n_conv_blocks': 3, 'filters': 13, 'kernel_size': 5, 'pool_size': 6, 'n_dense_blocks': 1, 'dense_nodes': 213} with SpRes = 150 for epochs = 30\n"
     ]
    },
    {
     "name": "stderr",
     "output_type": "stream",
     "text": [
      "[W 2023-07-01 02:47:40,155] Trial 92 failed with parameters: {'epochs': 30, 'resolution': 150, 'n_conv_blocks': 3, 'filters': 13, 'kernel_size': 5, 'pool_size': 6, 'n_dense_blocks': 1, 'dense_nodes': 213} because of the following error: ValueError('Exception encountered when calling layer \"conv_2\" (type Conv1D).\\n\\nNegative dimension size caused by subtracting 5 from 4 for \\'{{node conv_2/Conv1D}} = Conv2D[T=DT_FLOAT, data_format=\"NHWC\", dilations=[1, 1, 1, 1], explicit_paddings=[], padding=\"VALID\", strides=[1, 1, 1, 1], use_cudnn_on_gpu=true](conv_2/Conv1D/ExpandDims, conv_2/Conv1D/ExpandDims_1)\\' with input shapes: [?,1,4,13], [1,5,13,13].\\n\\nCall arguments received by layer \"conv_2\" (type Conv1D):\\n  • inputs=tf.Tensor(shape=(None, 4, 13), dtype=float32)').\n",
      "Traceback (most recent call last):\n",
      "  File \"/home/djanloo/.local/share/virtualenvs/DM2-PeqFRmfa/lib/python3.10/site-packages/optuna/study/_optimize.py\", line 200, in _run_trial\n",
      "    value_or_values = func(trial)\n",
      "  File \"/tmp/ipykernel_14321/3311194114.py\", line 3, in <lambda>\n",
      "    trial_function = lambda trial: objective(trial, train_idxs, val_idxs)\n",
      "  File \"/tmp/ipykernel_14321/3086810912.py\", line 25, in objective\n",
      "    model = build_model(X.shape[1:], len(np.unique(y)), **pars)\n",
      "  File \"/tmp/ipykernel_14321/2093002277.py\", line 18, in build_model\n",
      "    model.add(conv)\n",
      "  File \"/home/djanloo/.local/share/virtualenvs/DM2-PeqFRmfa/lib/python3.10/site-packages/tensorflow/python/trackable/base.py\", line 205, in _method_wrapper\n",
      "    result = method(self, *args, **kwargs)\n",
      "  File \"/home/djanloo/.local/share/virtualenvs/DM2-PeqFRmfa/lib/python3.10/site-packages/keras/utils/traceback_utils.py\", line 70, in error_handler\n",
      "    raise e.with_traceback(filtered_tb) from None\n",
      "  File \"/home/djanloo/.local/share/virtualenvs/DM2-PeqFRmfa/lib/python3.10/site-packages/tensorflow/python/framework/ops.py\", line 1973, in _create_c_op\n",
      "    raise ValueError(e.message)\n",
      "ValueError: Exception encountered when calling layer \"conv_2\" (type Conv1D).\n",
      "\n",
      "Negative dimension size caused by subtracting 5 from 4 for '{{node conv_2/Conv1D}} = Conv2D[T=DT_FLOAT, data_format=\"NHWC\", dilations=[1, 1, 1, 1], explicit_paddings=[], padding=\"VALID\", strides=[1, 1, 1, 1], use_cudnn_on_gpu=true](conv_2/Conv1D/ExpandDims, conv_2/Conv1D/ExpandDims_1)' with input shapes: [?,1,4,13], [1,5,13,13].\n",
      "\n",
      "Call arguments received by layer \"conv_2\" (type Conv1D):\n",
      "  • inputs=tf.Tensor(shape=(None, 4, 13), dtype=float32)\n",
      "[W 2023-07-01 02:47:40,156] Trial 92 failed with value None.\n",
      "[W 2023-07-01 02:47:40,304] Trial 93 failed with parameters: {'epochs': 30, 'resolution': 150, 'n_conv_blocks': 3, 'filters': 13, 'kernel_size': 5, 'pool_size': 6, 'n_dense_blocks': 1, 'dense_nodes': 216} because of the following error: ValueError('Exception encountered when calling layer \"conv_2\" (type Conv1D).\\n\\nNegative dimension size caused by subtracting 5 from 4 for \\'{{node conv_2/Conv1D}} = Conv2D[T=DT_FLOAT, data_format=\"NHWC\", dilations=[1, 1, 1, 1], explicit_paddings=[], padding=\"VALID\", strides=[1, 1, 1, 1], use_cudnn_on_gpu=true](conv_2/Conv1D/ExpandDims, conv_2/Conv1D/ExpandDims_1)\\' with input shapes: [?,1,4,13], [1,5,13,13].\\n\\nCall arguments received by layer \"conv_2\" (type Conv1D):\\n  • inputs=tf.Tensor(shape=(None, 4, 13), dtype=float32)').\n",
      "Traceback (most recent call last):\n",
      "  File \"/home/djanloo/.local/share/virtualenvs/DM2-PeqFRmfa/lib/python3.10/site-packages/optuna/study/_optimize.py\", line 200, in _run_trial\n",
      "    value_or_values = func(trial)\n",
      "  File \"/tmp/ipykernel_14321/3311194114.py\", line 3, in <lambda>\n",
      "    trial_function = lambda trial: objective(trial, train_idxs, val_idxs)\n",
      "  File \"/tmp/ipykernel_14321/3086810912.py\", line 25, in objective\n",
      "    model = build_model(X.shape[1:], len(np.unique(y)), **pars)\n",
      "  File \"/tmp/ipykernel_14321/2093002277.py\", line 18, in build_model\n",
      "    model.add(conv)\n",
      "  File \"/home/djanloo/.local/share/virtualenvs/DM2-PeqFRmfa/lib/python3.10/site-packages/tensorflow/python/trackable/base.py\", line 205, in _method_wrapper\n",
      "    result = method(self, *args, **kwargs)\n",
      "  File \"/home/djanloo/.local/share/virtualenvs/DM2-PeqFRmfa/lib/python3.10/site-packages/keras/utils/traceback_utils.py\", line 70, in error_handler\n",
      "    raise e.with_traceback(filtered_tb) from None\n",
      "  File \"/home/djanloo/.local/share/virtualenvs/DM2-PeqFRmfa/lib/python3.10/site-packages/tensorflow/python/framework/ops.py\", line 1973, in _create_c_op\n",
      "    raise ValueError(e.message)\n",
      "ValueError: Exception encountered when calling layer \"conv_2\" (type Conv1D).\n",
      "\n",
      "Negative dimension size caused by subtracting 5 from 4 for '{{node conv_2/Conv1D}} = Conv2D[T=DT_FLOAT, data_format=\"NHWC\", dilations=[1, 1, 1, 1], explicit_paddings=[], padding=\"VALID\", strides=[1, 1, 1, 1], use_cudnn_on_gpu=true](conv_2/Conv1D/ExpandDims, conv_2/Conv1D/ExpandDims_1)' with input shapes: [?,1,4,13], [1,5,13,13].\n",
      "\n",
      "Call arguments received by layer \"conv_2\" (type Conv1D):\n",
      "  • inputs=tf.Tensor(shape=(None, 4, 13), dtype=float32)\n",
      "[W 2023-07-01 02:47:40,305] Trial 93 failed with value None.\n"
     ]
    },
    {
     "name": "stdout",
     "output_type": "stream",
     "text": [
      "running model having {'n_conv_blocks': 3, 'filters': 13, 'kernel_size': 5, 'pool_size': 6, 'n_dense_blocks': 1, 'dense_nodes': 216} with SpRes = 150 for epochs = 30\n",
      "running model having {'n_conv_blocks': 3, 'filters': 13, 'kernel_size': 5, 'pool_size': 6, 'n_dense_blocks': 1, 'dense_nodes': 217} with SpRes = 150 for epochs = 32\n"
     ]
    },
    {
     "name": "stderr",
     "output_type": "stream",
     "text": [
      "[W 2023-07-01 02:47:40,455] Trial 94 failed with parameters: {'epochs': 32, 'resolution': 150, 'n_conv_blocks': 3, 'filters': 13, 'kernel_size': 5, 'pool_size': 6, 'n_dense_blocks': 1, 'dense_nodes': 217} because of the following error: ValueError('Exception encountered when calling layer \"conv_2\" (type Conv1D).\\n\\nNegative dimension size caused by subtracting 5 from 4 for \\'{{node conv_2/Conv1D}} = Conv2D[T=DT_FLOAT, data_format=\"NHWC\", dilations=[1, 1, 1, 1], explicit_paddings=[], padding=\"VALID\", strides=[1, 1, 1, 1], use_cudnn_on_gpu=true](conv_2/Conv1D/ExpandDims, conv_2/Conv1D/ExpandDims_1)\\' with input shapes: [?,1,4,13], [1,5,13,13].\\n\\nCall arguments received by layer \"conv_2\" (type Conv1D):\\n  • inputs=tf.Tensor(shape=(None, 4, 13), dtype=float32)').\n",
      "Traceback (most recent call last):\n",
      "  File \"/home/djanloo/.local/share/virtualenvs/DM2-PeqFRmfa/lib/python3.10/site-packages/optuna/study/_optimize.py\", line 200, in _run_trial\n",
      "    value_or_values = func(trial)\n",
      "  File \"/tmp/ipykernel_14321/3311194114.py\", line 3, in <lambda>\n",
      "    trial_function = lambda trial: objective(trial, train_idxs, val_idxs)\n",
      "  File \"/tmp/ipykernel_14321/3086810912.py\", line 25, in objective\n",
      "    model = build_model(X.shape[1:], len(np.unique(y)), **pars)\n",
      "  File \"/tmp/ipykernel_14321/2093002277.py\", line 18, in build_model\n",
      "    model.add(conv)\n",
      "  File \"/home/djanloo/.local/share/virtualenvs/DM2-PeqFRmfa/lib/python3.10/site-packages/tensorflow/python/trackable/base.py\", line 205, in _method_wrapper\n",
      "    result = method(self, *args, **kwargs)\n",
      "  File \"/home/djanloo/.local/share/virtualenvs/DM2-PeqFRmfa/lib/python3.10/site-packages/keras/utils/traceback_utils.py\", line 70, in error_handler\n",
      "    raise e.with_traceback(filtered_tb) from None\n",
      "  File \"/home/djanloo/.local/share/virtualenvs/DM2-PeqFRmfa/lib/python3.10/site-packages/tensorflow/python/framework/ops.py\", line 1973, in _create_c_op\n",
      "    raise ValueError(e.message)\n",
      "ValueError: Exception encountered when calling layer \"conv_2\" (type Conv1D).\n",
      "\n",
      "Negative dimension size caused by subtracting 5 from 4 for '{{node conv_2/Conv1D}} = Conv2D[T=DT_FLOAT, data_format=\"NHWC\", dilations=[1, 1, 1, 1], explicit_paddings=[], padding=\"VALID\", strides=[1, 1, 1, 1], use_cudnn_on_gpu=true](conv_2/Conv1D/ExpandDims, conv_2/Conv1D/ExpandDims_1)' with input shapes: [?,1,4,13], [1,5,13,13].\n",
      "\n",
      "Call arguments received by layer \"conv_2\" (type Conv1D):\n",
      "  • inputs=tf.Tensor(shape=(None, 4, 13), dtype=float32)\n",
      "[W 2023-07-01 02:47:40,456] Trial 94 failed with value None.\n",
      "[W 2023-07-01 02:47:40,606] Trial 95 failed with parameters: {'epochs': 30, 'resolution': 150, 'n_conv_blocks': 3, 'filters': 13, 'kernel_size': 5, 'pool_size': 6, 'n_dense_blocks': 1, 'dense_nodes': 214} because of the following error: ValueError('Exception encountered when calling layer \"conv_2\" (type Conv1D).\\n\\nNegative dimension size caused by subtracting 5 from 4 for \\'{{node conv_2/Conv1D}} = Conv2D[T=DT_FLOAT, data_format=\"NHWC\", dilations=[1, 1, 1, 1], explicit_paddings=[], padding=\"VALID\", strides=[1, 1, 1, 1], use_cudnn_on_gpu=true](conv_2/Conv1D/ExpandDims, conv_2/Conv1D/ExpandDims_1)\\' with input shapes: [?,1,4,13], [1,5,13,13].\\n\\nCall arguments received by layer \"conv_2\" (type Conv1D):\\n  • inputs=tf.Tensor(shape=(None, 4, 13), dtype=float32)').\n",
      "Traceback (most recent call last):\n",
      "  File \"/home/djanloo/.local/share/virtualenvs/DM2-PeqFRmfa/lib/python3.10/site-packages/optuna/study/_optimize.py\", line 200, in _run_trial\n",
      "    value_or_values = func(trial)\n",
      "  File \"/tmp/ipykernel_14321/3311194114.py\", line 3, in <lambda>\n",
      "    trial_function = lambda trial: objective(trial, train_idxs, val_idxs)\n",
      "  File \"/tmp/ipykernel_14321/3086810912.py\", line 25, in objective\n",
      "    model = build_model(X.shape[1:], len(np.unique(y)), **pars)\n",
      "  File \"/tmp/ipykernel_14321/2093002277.py\", line 18, in build_model\n",
      "    model.add(conv)\n",
      "  File \"/home/djanloo/.local/share/virtualenvs/DM2-PeqFRmfa/lib/python3.10/site-packages/tensorflow/python/trackable/base.py\", line 205, in _method_wrapper\n",
      "    result = method(self, *args, **kwargs)\n",
      "  File \"/home/djanloo/.local/share/virtualenvs/DM2-PeqFRmfa/lib/python3.10/site-packages/keras/utils/traceback_utils.py\", line 70, in error_handler\n",
      "    raise e.with_traceback(filtered_tb) from None\n",
      "  File \"/home/djanloo/.local/share/virtualenvs/DM2-PeqFRmfa/lib/python3.10/site-packages/tensorflow/python/framework/ops.py\", line 1973, in _create_c_op\n",
      "    raise ValueError(e.message)\n",
      "ValueError: Exception encountered when calling layer \"conv_2\" (type Conv1D).\n",
      "\n",
      "Negative dimension size caused by subtracting 5 from 4 for '{{node conv_2/Conv1D}} = Conv2D[T=DT_FLOAT, data_format=\"NHWC\", dilations=[1, 1, 1, 1], explicit_paddings=[], padding=\"VALID\", strides=[1, 1, 1, 1], use_cudnn_on_gpu=true](conv_2/Conv1D/ExpandDims, conv_2/Conv1D/ExpandDims_1)' with input shapes: [?,1,4,13], [1,5,13,13].\n",
      "\n",
      "Call arguments received by layer \"conv_2\" (type Conv1D):\n",
      "  • inputs=tf.Tensor(shape=(None, 4, 13), dtype=float32)\n",
      "[W 2023-07-01 02:47:40,608] Trial 95 failed with value None.\n"
     ]
    },
    {
     "name": "stdout",
     "output_type": "stream",
     "text": [
      "running model having {'n_conv_blocks': 3, 'filters': 13, 'kernel_size': 5, 'pool_size': 6, 'n_dense_blocks': 1, 'dense_nodes': 214} with SpRes = 150 for epochs = 30\n",
      "running model having {'n_conv_blocks': 3, 'filters': 13, 'kernel_size': 5, 'pool_size': 6, 'n_dense_blocks': 1, 'dense_nodes': 214} with SpRes = 150 for epochs = 30\n"
     ]
    },
    {
     "name": "stderr",
     "output_type": "stream",
     "text": [
      "[W 2023-07-01 02:47:40,757] Trial 96 failed with parameters: {'epochs': 30, 'resolution': 150, 'n_conv_blocks': 3, 'filters': 13, 'kernel_size': 5, 'pool_size': 6, 'n_dense_blocks': 1, 'dense_nodes': 214} because of the following error: ValueError('Exception encountered when calling layer \"conv_2\" (type Conv1D).\\n\\nNegative dimension size caused by subtracting 5 from 4 for \\'{{node conv_2/Conv1D}} = Conv2D[T=DT_FLOAT, data_format=\"NHWC\", dilations=[1, 1, 1, 1], explicit_paddings=[], padding=\"VALID\", strides=[1, 1, 1, 1], use_cudnn_on_gpu=true](conv_2/Conv1D/ExpandDims, conv_2/Conv1D/ExpandDims_1)\\' with input shapes: [?,1,4,13], [1,5,13,13].\\n\\nCall arguments received by layer \"conv_2\" (type Conv1D):\\n  • inputs=tf.Tensor(shape=(None, 4, 13), dtype=float32)').\n",
      "Traceback (most recent call last):\n",
      "  File \"/home/djanloo/.local/share/virtualenvs/DM2-PeqFRmfa/lib/python3.10/site-packages/optuna/study/_optimize.py\", line 200, in _run_trial\n",
      "    value_or_values = func(trial)\n",
      "  File \"/tmp/ipykernel_14321/3311194114.py\", line 3, in <lambda>\n",
      "    trial_function = lambda trial: objective(trial, train_idxs, val_idxs)\n",
      "  File \"/tmp/ipykernel_14321/3086810912.py\", line 25, in objective\n",
      "    model = build_model(X.shape[1:], len(np.unique(y)), **pars)\n",
      "  File \"/tmp/ipykernel_14321/2093002277.py\", line 18, in build_model\n",
      "    model.add(conv)\n",
      "  File \"/home/djanloo/.local/share/virtualenvs/DM2-PeqFRmfa/lib/python3.10/site-packages/tensorflow/python/trackable/base.py\", line 205, in _method_wrapper\n",
      "    result = method(self, *args, **kwargs)\n",
      "  File \"/home/djanloo/.local/share/virtualenvs/DM2-PeqFRmfa/lib/python3.10/site-packages/keras/utils/traceback_utils.py\", line 70, in error_handler\n",
      "    raise e.with_traceback(filtered_tb) from None\n",
      "  File \"/home/djanloo/.local/share/virtualenvs/DM2-PeqFRmfa/lib/python3.10/site-packages/tensorflow/python/framework/ops.py\", line 1973, in _create_c_op\n",
      "    raise ValueError(e.message)\n",
      "ValueError: Exception encountered when calling layer \"conv_2\" (type Conv1D).\n",
      "\n",
      "Negative dimension size caused by subtracting 5 from 4 for '{{node conv_2/Conv1D}} = Conv2D[T=DT_FLOAT, data_format=\"NHWC\", dilations=[1, 1, 1, 1], explicit_paddings=[], padding=\"VALID\", strides=[1, 1, 1, 1], use_cudnn_on_gpu=true](conv_2/Conv1D/ExpandDims, conv_2/Conv1D/ExpandDims_1)' with input shapes: [?,1,4,13], [1,5,13,13].\n",
      "\n",
      "Call arguments received by layer \"conv_2\" (type Conv1D):\n",
      "  • inputs=tf.Tensor(shape=(None, 4, 13), dtype=float32)\n",
      "[W 2023-07-01 02:47:40,758] Trial 96 failed with value None.\n",
      "[W 2023-07-01 02:47:40,907] Trial 97 failed with parameters: {'epochs': 30, 'resolution': 150, 'n_conv_blocks': 3, 'filters': 13, 'kernel_size': 5, 'pool_size': 6, 'n_dense_blocks': 1, 'dense_nodes': 219} because of the following error: ValueError('Exception encountered when calling layer \"conv_2\" (type Conv1D).\\n\\nNegative dimension size caused by subtracting 5 from 4 for \\'{{node conv_2/Conv1D}} = Conv2D[T=DT_FLOAT, data_format=\"NHWC\", dilations=[1, 1, 1, 1], explicit_paddings=[], padding=\"VALID\", strides=[1, 1, 1, 1], use_cudnn_on_gpu=true](conv_2/Conv1D/ExpandDims, conv_2/Conv1D/ExpandDims_1)\\' with input shapes: [?,1,4,13], [1,5,13,13].\\n\\nCall arguments received by layer \"conv_2\" (type Conv1D):\\n  • inputs=tf.Tensor(shape=(None, 4, 13), dtype=float32)').\n",
      "Traceback (most recent call last):\n",
      "  File \"/home/djanloo/.local/share/virtualenvs/DM2-PeqFRmfa/lib/python3.10/site-packages/optuna/study/_optimize.py\", line 200, in _run_trial\n",
      "    value_or_values = func(trial)\n",
      "  File \"/tmp/ipykernel_14321/3311194114.py\", line 3, in <lambda>\n",
      "    trial_function = lambda trial: objective(trial, train_idxs, val_idxs)\n",
      "  File \"/tmp/ipykernel_14321/3086810912.py\", line 25, in objective\n",
      "    model = build_model(X.shape[1:], len(np.unique(y)), **pars)\n",
      "  File \"/tmp/ipykernel_14321/2093002277.py\", line 18, in build_model\n",
      "    model.add(conv)\n",
      "  File \"/home/djanloo/.local/share/virtualenvs/DM2-PeqFRmfa/lib/python3.10/site-packages/tensorflow/python/trackable/base.py\", line 205, in _method_wrapper\n",
      "    result = method(self, *args, **kwargs)\n",
      "  File \"/home/djanloo/.local/share/virtualenvs/DM2-PeqFRmfa/lib/python3.10/site-packages/keras/utils/traceback_utils.py\", line 70, in error_handler\n",
      "    raise e.with_traceback(filtered_tb) from None\n",
      "  File \"/home/djanloo/.local/share/virtualenvs/DM2-PeqFRmfa/lib/python3.10/site-packages/tensorflow/python/framework/ops.py\", line 1973, in _create_c_op\n",
      "    raise ValueError(e.message)\n",
      "ValueError: Exception encountered when calling layer \"conv_2\" (type Conv1D).\n",
      "\n",
      "Negative dimension size caused by subtracting 5 from 4 for '{{node conv_2/Conv1D}} = Conv2D[T=DT_FLOAT, data_format=\"NHWC\", dilations=[1, 1, 1, 1], explicit_paddings=[], padding=\"VALID\", strides=[1, 1, 1, 1], use_cudnn_on_gpu=true](conv_2/Conv1D/ExpandDims, conv_2/Conv1D/ExpandDims_1)' with input shapes: [?,1,4,13], [1,5,13,13].\n",
      "\n",
      "Call arguments received by layer \"conv_2\" (type Conv1D):\n",
      "  • inputs=tf.Tensor(shape=(None, 4, 13), dtype=float32)\n",
      "[W 2023-07-01 02:47:40,908] Trial 97 failed with value None.\n"
     ]
    },
    {
     "name": "stdout",
     "output_type": "stream",
     "text": [
      "running model having {'n_conv_blocks': 3, 'filters': 13, 'kernel_size': 5, 'pool_size': 6, 'n_dense_blocks': 1, 'dense_nodes': 219} with SpRes = 150 for epochs = 30\n",
      "running model having {'n_conv_blocks': 3, 'filters': 13, 'kernel_size': 5, 'pool_size': 6, 'n_dense_blocks': 1, 'dense_nodes': 215} with SpRes = 150 for epochs = 30\n"
     ]
    },
    {
     "name": "stderr",
     "output_type": "stream",
     "text": [
      "[W 2023-07-01 02:47:41,054] Trial 98 failed with parameters: {'epochs': 30, 'resolution': 150, 'n_conv_blocks': 3, 'filters': 13, 'kernel_size': 5, 'pool_size': 6, 'n_dense_blocks': 1, 'dense_nodes': 215} because of the following error: ValueError('Exception encountered when calling layer \"conv_2\" (type Conv1D).\\n\\nNegative dimension size caused by subtracting 5 from 4 for \\'{{node conv_2/Conv1D}} = Conv2D[T=DT_FLOAT, data_format=\"NHWC\", dilations=[1, 1, 1, 1], explicit_paddings=[], padding=\"VALID\", strides=[1, 1, 1, 1], use_cudnn_on_gpu=true](conv_2/Conv1D/ExpandDims, conv_2/Conv1D/ExpandDims_1)\\' with input shapes: [?,1,4,13], [1,5,13,13].\\n\\nCall arguments received by layer \"conv_2\" (type Conv1D):\\n  • inputs=tf.Tensor(shape=(None, 4, 13), dtype=float32)').\n",
      "Traceback (most recent call last):\n",
      "  File \"/home/djanloo/.local/share/virtualenvs/DM2-PeqFRmfa/lib/python3.10/site-packages/optuna/study/_optimize.py\", line 200, in _run_trial\n",
      "    value_or_values = func(trial)\n",
      "  File \"/tmp/ipykernel_14321/3311194114.py\", line 3, in <lambda>\n",
      "    trial_function = lambda trial: objective(trial, train_idxs, val_idxs)\n",
      "  File \"/tmp/ipykernel_14321/3086810912.py\", line 25, in objective\n",
      "    model = build_model(X.shape[1:], len(np.unique(y)), **pars)\n",
      "  File \"/tmp/ipykernel_14321/2093002277.py\", line 18, in build_model\n",
      "    model.add(conv)\n",
      "  File \"/home/djanloo/.local/share/virtualenvs/DM2-PeqFRmfa/lib/python3.10/site-packages/tensorflow/python/trackable/base.py\", line 205, in _method_wrapper\n",
      "    result = method(self, *args, **kwargs)\n",
      "  File \"/home/djanloo/.local/share/virtualenvs/DM2-PeqFRmfa/lib/python3.10/site-packages/keras/utils/traceback_utils.py\", line 70, in error_handler\n",
      "    raise e.with_traceback(filtered_tb) from None\n",
      "  File \"/home/djanloo/.local/share/virtualenvs/DM2-PeqFRmfa/lib/python3.10/site-packages/tensorflow/python/framework/ops.py\", line 1973, in _create_c_op\n",
      "    raise ValueError(e.message)\n",
      "ValueError: Exception encountered when calling layer \"conv_2\" (type Conv1D).\n",
      "\n",
      "Negative dimension size caused by subtracting 5 from 4 for '{{node conv_2/Conv1D}} = Conv2D[T=DT_FLOAT, data_format=\"NHWC\", dilations=[1, 1, 1, 1], explicit_paddings=[], padding=\"VALID\", strides=[1, 1, 1, 1], use_cudnn_on_gpu=true](conv_2/Conv1D/ExpandDims, conv_2/Conv1D/ExpandDims_1)' with input shapes: [?,1,4,13], [1,5,13,13].\n",
      "\n",
      "Call arguments received by layer \"conv_2\" (type Conv1D):\n",
      "  • inputs=tf.Tensor(shape=(None, 4, 13), dtype=float32)\n",
      "[W 2023-07-01 02:47:41,056] Trial 98 failed with value None.\n",
      "[W 2023-07-01 02:47:41,203] Trial 99 failed with parameters: {'epochs': 30, 'resolution': 150, 'n_conv_blocks': 3, 'filters': 13, 'kernel_size': 5, 'pool_size': 6, 'n_dense_blocks': 1, 'dense_nodes': 218} because of the following error: ValueError('Exception encountered when calling layer \"conv_2\" (type Conv1D).\\n\\nNegative dimension size caused by subtracting 5 from 4 for \\'{{node conv_2/Conv1D}} = Conv2D[T=DT_FLOAT, data_format=\"NHWC\", dilations=[1, 1, 1, 1], explicit_paddings=[], padding=\"VALID\", strides=[1, 1, 1, 1], use_cudnn_on_gpu=true](conv_2/Conv1D/ExpandDims, conv_2/Conv1D/ExpandDims_1)\\' with input shapes: [?,1,4,13], [1,5,13,13].\\n\\nCall arguments received by layer \"conv_2\" (type Conv1D):\\n  • inputs=tf.Tensor(shape=(None, 4, 13), dtype=float32)').\n",
      "Traceback (most recent call last):\n",
      "  File \"/home/djanloo/.local/share/virtualenvs/DM2-PeqFRmfa/lib/python3.10/site-packages/optuna/study/_optimize.py\", line 200, in _run_trial\n",
      "    value_or_values = func(trial)\n",
      "  File \"/tmp/ipykernel_14321/3311194114.py\", line 3, in <lambda>\n",
      "    trial_function = lambda trial: objective(trial, train_idxs, val_idxs)\n",
      "  File \"/tmp/ipykernel_14321/3086810912.py\", line 25, in objective\n",
      "    model = build_model(X.shape[1:], len(np.unique(y)), **pars)\n",
      "  File \"/tmp/ipykernel_14321/2093002277.py\", line 18, in build_model\n",
      "    model.add(conv)\n",
      "  File \"/home/djanloo/.local/share/virtualenvs/DM2-PeqFRmfa/lib/python3.10/site-packages/tensorflow/python/trackable/base.py\", line 205, in _method_wrapper\n",
      "    result = method(self, *args, **kwargs)\n",
      "  File \"/home/djanloo/.local/share/virtualenvs/DM2-PeqFRmfa/lib/python3.10/site-packages/keras/utils/traceback_utils.py\", line 70, in error_handler\n",
      "    raise e.with_traceback(filtered_tb) from None\n",
      "  File \"/home/djanloo/.local/share/virtualenvs/DM2-PeqFRmfa/lib/python3.10/site-packages/tensorflow/python/framework/ops.py\", line 1973, in _create_c_op\n",
      "    raise ValueError(e.message)\n",
      "ValueError: Exception encountered when calling layer \"conv_2\" (type Conv1D).\n",
      "\n",
      "Negative dimension size caused by subtracting 5 from 4 for '{{node conv_2/Conv1D}} = Conv2D[T=DT_FLOAT, data_format=\"NHWC\", dilations=[1, 1, 1, 1], explicit_paddings=[], padding=\"VALID\", strides=[1, 1, 1, 1], use_cudnn_on_gpu=true](conv_2/Conv1D/ExpandDims, conv_2/Conv1D/ExpandDims_1)' with input shapes: [?,1,4,13], [1,5,13,13].\n",
      "\n",
      "Call arguments received by layer \"conv_2\" (type Conv1D):\n",
      "  • inputs=tf.Tensor(shape=(None, 4, 13), dtype=float32)\n",
      "[W 2023-07-01 02:47:41,204] Trial 99 failed with value None.\n"
     ]
    },
    {
     "name": "stdout",
     "output_type": "stream",
     "text": [
      "running model having {'n_conv_blocks': 3, 'filters': 13, 'kernel_size': 5, 'pool_size': 6, 'n_dense_blocks': 1, 'dense_nodes': 218} with SpRes = 150 for epochs = 30\n",
      "running model having {'n_conv_blocks': 3, 'filters': 13, 'kernel_size': 5, 'pool_size': 6, 'n_dense_blocks': 1, 'dense_nodes': 215} with SpRes = 150 for epochs = 32\n"
     ]
    },
    {
     "name": "stderr",
     "output_type": "stream",
     "text": [
      "[W 2023-07-01 02:47:41,353] Trial 100 failed with parameters: {'epochs': 32, 'resolution': 150, 'n_conv_blocks': 3, 'filters': 13, 'kernel_size': 5, 'pool_size': 6, 'n_dense_blocks': 1, 'dense_nodes': 215} because of the following error: ValueError('Exception encountered when calling layer \"conv_2\" (type Conv1D).\\n\\nNegative dimension size caused by subtracting 5 from 4 for \\'{{node conv_2/Conv1D}} = Conv2D[T=DT_FLOAT, data_format=\"NHWC\", dilations=[1, 1, 1, 1], explicit_paddings=[], padding=\"VALID\", strides=[1, 1, 1, 1], use_cudnn_on_gpu=true](conv_2/Conv1D/ExpandDims, conv_2/Conv1D/ExpandDims_1)\\' with input shapes: [?,1,4,13], [1,5,13,13].\\n\\nCall arguments received by layer \"conv_2\" (type Conv1D):\\n  • inputs=tf.Tensor(shape=(None, 4, 13), dtype=float32)').\n",
      "Traceback (most recent call last):\n",
      "  File \"/home/djanloo/.local/share/virtualenvs/DM2-PeqFRmfa/lib/python3.10/site-packages/optuna/study/_optimize.py\", line 200, in _run_trial\n",
      "    value_or_values = func(trial)\n",
      "  File \"/tmp/ipykernel_14321/3311194114.py\", line 3, in <lambda>\n",
      "    trial_function = lambda trial: objective(trial, train_idxs, val_idxs)\n",
      "  File \"/tmp/ipykernel_14321/3086810912.py\", line 25, in objective\n",
      "    model = build_model(X.shape[1:], len(np.unique(y)), **pars)\n",
      "  File \"/tmp/ipykernel_14321/2093002277.py\", line 18, in build_model\n",
      "    model.add(conv)\n",
      "  File \"/home/djanloo/.local/share/virtualenvs/DM2-PeqFRmfa/lib/python3.10/site-packages/tensorflow/python/trackable/base.py\", line 205, in _method_wrapper\n",
      "    result = method(self, *args, **kwargs)\n",
      "  File \"/home/djanloo/.local/share/virtualenvs/DM2-PeqFRmfa/lib/python3.10/site-packages/keras/utils/traceback_utils.py\", line 70, in error_handler\n",
      "    raise e.with_traceback(filtered_tb) from None\n",
      "  File \"/home/djanloo/.local/share/virtualenvs/DM2-PeqFRmfa/lib/python3.10/site-packages/tensorflow/python/framework/ops.py\", line 1973, in _create_c_op\n",
      "    raise ValueError(e.message)\n",
      "ValueError: Exception encountered when calling layer \"conv_2\" (type Conv1D).\n",
      "\n",
      "Negative dimension size caused by subtracting 5 from 4 for '{{node conv_2/Conv1D}} = Conv2D[T=DT_FLOAT, data_format=\"NHWC\", dilations=[1, 1, 1, 1], explicit_paddings=[], padding=\"VALID\", strides=[1, 1, 1, 1], use_cudnn_on_gpu=true](conv_2/Conv1D/ExpandDims, conv_2/Conv1D/ExpandDims_1)' with input shapes: [?,1,4,13], [1,5,13,13].\n",
      "\n",
      "Call arguments received by layer \"conv_2\" (type Conv1D):\n",
      "  • inputs=tf.Tensor(shape=(None, 4, 13), dtype=float32)\n",
      "[W 2023-07-01 02:47:41,354] Trial 100 failed with value None.\n",
      "[W 2023-07-01 02:47:41,505] Trial 101 failed with parameters: {'epochs': 30, 'resolution': 150, 'n_conv_blocks': 3, 'filters': 13, 'kernel_size': 5, 'pool_size': 6, 'n_dense_blocks': 1, 'dense_nodes': 215} because of the following error: ValueError('Exception encountered when calling layer \"conv_2\" (type Conv1D).\\n\\nNegative dimension size caused by subtracting 5 from 4 for \\'{{node conv_2/Conv1D}} = Conv2D[T=DT_FLOAT, data_format=\"NHWC\", dilations=[1, 1, 1, 1], explicit_paddings=[], padding=\"VALID\", strides=[1, 1, 1, 1], use_cudnn_on_gpu=true](conv_2/Conv1D/ExpandDims, conv_2/Conv1D/ExpandDims_1)\\' with input shapes: [?,1,4,13], [1,5,13,13].\\n\\nCall arguments received by layer \"conv_2\" (type Conv1D):\\n  • inputs=tf.Tensor(shape=(None, 4, 13), dtype=float32)').\n",
      "Traceback (most recent call last):\n",
      "  File \"/home/djanloo/.local/share/virtualenvs/DM2-PeqFRmfa/lib/python3.10/site-packages/optuna/study/_optimize.py\", line 200, in _run_trial\n",
      "    value_or_values = func(trial)\n",
      "  File \"/tmp/ipykernel_14321/3311194114.py\", line 3, in <lambda>\n",
      "    trial_function = lambda trial: objective(trial, train_idxs, val_idxs)\n",
      "  File \"/tmp/ipykernel_14321/3086810912.py\", line 25, in objective\n",
      "    model = build_model(X.shape[1:], len(np.unique(y)), **pars)\n",
      "  File \"/tmp/ipykernel_14321/2093002277.py\", line 18, in build_model\n",
      "    model.add(conv)\n",
      "  File \"/home/djanloo/.local/share/virtualenvs/DM2-PeqFRmfa/lib/python3.10/site-packages/tensorflow/python/trackable/base.py\", line 205, in _method_wrapper\n",
      "    result = method(self, *args, **kwargs)\n",
      "  File \"/home/djanloo/.local/share/virtualenvs/DM2-PeqFRmfa/lib/python3.10/site-packages/keras/utils/traceback_utils.py\", line 70, in error_handler\n",
      "    raise e.with_traceback(filtered_tb) from None\n",
      "  File \"/home/djanloo/.local/share/virtualenvs/DM2-PeqFRmfa/lib/python3.10/site-packages/tensorflow/python/framework/ops.py\", line 1973, in _create_c_op\n",
      "    raise ValueError(e.message)\n",
      "ValueError: Exception encountered when calling layer \"conv_2\" (type Conv1D).\n",
      "\n",
      "Negative dimension size caused by subtracting 5 from 4 for '{{node conv_2/Conv1D}} = Conv2D[T=DT_FLOAT, data_format=\"NHWC\", dilations=[1, 1, 1, 1], explicit_paddings=[], padding=\"VALID\", strides=[1, 1, 1, 1], use_cudnn_on_gpu=true](conv_2/Conv1D/ExpandDims, conv_2/Conv1D/ExpandDims_1)' with input shapes: [?,1,4,13], [1,5,13,13].\n",
      "\n",
      "Call arguments received by layer \"conv_2\" (type Conv1D):\n",
      "  • inputs=tf.Tensor(shape=(None, 4, 13), dtype=float32)\n",
      "[W 2023-07-01 02:47:41,506] Trial 101 failed with value None.\n"
     ]
    },
    {
     "name": "stdout",
     "output_type": "stream",
     "text": [
      "running model having {'n_conv_blocks': 3, 'filters': 13, 'kernel_size': 5, 'pool_size': 6, 'n_dense_blocks': 1, 'dense_nodes': 215} with SpRes = 150 for epochs = 30\n",
      "running model having {'n_conv_blocks': 3, 'filters': 13, 'kernel_size': 5, 'pool_size': 6, 'n_dense_blocks': 1, 'dense_nodes': 213} with SpRes = 150 for epochs = 30\n"
     ]
    },
    {
     "name": "stderr",
     "output_type": "stream",
     "text": [
      "[W 2023-07-01 02:47:41,658] Trial 102 failed with parameters: {'epochs': 30, 'resolution': 150, 'n_conv_blocks': 3, 'filters': 13, 'kernel_size': 5, 'pool_size': 6, 'n_dense_blocks': 1, 'dense_nodes': 213} because of the following error: ValueError('Exception encountered when calling layer \"conv_2\" (type Conv1D).\\n\\nNegative dimension size caused by subtracting 5 from 4 for \\'{{node conv_2/Conv1D}} = Conv2D[T=DT_FLOAT, data_format=\"NHWC\", dilations=[1, 1, 1, 1], explicit_paddings=[], padding=\"VALID\", strides=[1, 1, 1, 1], use_cudnn_on_gpu=true](conv_2/Conv1D/ExpandDims, conv_2/Conv1D/ExpandDims_1)\\' with input shapes: [?,1,4,13], [1,5,13,13].\\n\\nCall arguments received by layer \"conv_2\" (type Conv1D):\\n  • inputs=tf.Tensor(shape=(None, 4, 13), dtype=float32)').\n",
      "Traceback (most recent call last):\n",
      "  File \"/home/djanloo/.local/share/virtualenvs/DM2-PeqFRmfa/lib/python3.10/site-packages/optuna/study/_optimize.py\", line 200, in _run_trial\n",
      "    value_or_values = func(trial)\n",
      "  File \"/tmp/ipykernel_14321/3311194114.py\", line 3, in <lambda>\n",
      "    trial_function = lambda trial: objective(trial, train_idxs, val_idxs)\n",
      "  File \"/tmp/ipykernel_14321/3086810912.py\", line 25, in objective\n",
      "    model = build_model(X.shape[1:], len(np.unique(y)), **pars)\n",
      "  File \"/tmp/ipykernel_14321/2093002277.py\", line 18, in build_model\n",
      "    model.add(conv)\n",
      "  File \"/home/djanloo/.local/share/virtualenvs/DM2-PeqFRmfa/lib/python3.10/site-packages/tensorflow/python/trackable/base.py\", line 205, in _method_wrapper\n",
      "    result = method(self, *args, **kwargs)\n",
      "  File \"/home/djanloo/.local/share/virtualenvs/DM2-PeqFRmfa/lib/python3.10/site-packages/keras/utils/traceback_utils.py\", line 70, in error_handler\n",
      "    raise e.with_traceback(filtered_tb) from None\n",
      "  File \"/home/djanloo/.local/share/virtualenvs/DM2-PeqFRmfa/lib/python3.10/site-packages/tensorflow/python/framework/ops.py\", line 1973, in _create_c_op\n",
      "    raise ValueError(e.message)\n",
      "ValueError: Exception encountered when calling layer \"conv_2\" (type Conv1D).\n",
      "\n",
      "Negative dimension size caused by subtracting 5 from 4 for '{{node conv_2/Conv1D}} = Conv2D[T=DT_FLOAT, data_format=\"NHWC\", dilations=[1, 1, 1, 1], explicit_paddings=[], padding=\"VALID\", strides=[1, 1, 1, 1], use_cudnn_on_gpu=true](conv_2/Conv1D/ExpandDims, conv_2/Conv1D/ExpandDims_1)' with input shapes: [?,1,4,13], [1,5,13,13].\n",
      "\n",
      "Call arguments received by layer \"conv_2\" (type Conv1D):\n",
      "  • inputs=tf.Tensor(shape=(None, 4, 13), dtype=float32)\n",
      "[W 2023-07-01 02:47:41,659] Trial 102 failed with value None.\n"
     ]
    },
    {
     "name": "stdout",
     "output_type": "stream",
     "text": [
      "running model having {'n_conv_blocks': 2, 'filters': 13, 'kernel_size': 5, 'pool_size': 6, 'n_dense_blocks': 1, 'dense_nodes': 216} with SpRes = 150 for epochs = 30\n"
     ]
    },
    {
     "name": "stderr",
     "output_type": "stream",
     "text": [
      "[I 2023-07-01 02:48:21,409] Trial 103 finished with value: 0.4530612244897959 and parameters: {'epochs': 30, 'resolution': 150, 'n_conv_blocks': 2, 'filters': 13, 'kernel_size': 5, 'pool_size': 6, 'n_dense_blocks': 1, 'dense_nodes': 216, 'batch_size': 18}. Best is trial 22 with value: 0.5265306122448979.\n"
     ]
    },
    {
     "name": "stdout",
     "output_type": "stream",
     "text": [
      "running model having {'n_conv_blocks': 3, 'filters': 14, 'kernel_size': 4, 'pool_size': 5, 'n_dense_blocks': 2, 'dense_nodes': 224} with SpRes = 150 for epochs = 32\n"
     ]
    },
    {
     "name": "stderr",
     "output_type": "stream",
     "text": [
      "[I 2023-07-01 02:48:58,982] Trial 104 finished with value: 0.44081632653061226 and parameters: {'epochs': 32, 'resolution': 150, 'n_conv_blocks': 3, 'filters': 14, 'kernel_size': 4, 'pool_size': 5, 'n_dense_blocks': 2, 'dense_nodes': 224, 'batch_size': 20}. Best is trial 22 with value: 0.5265306122448979.\n"
     ]
    },
    {
     "name": "stdout",
     "output_type": "stream",
     "text": [
      "running model having {'n_conv_blocks': 2, 'filters': 16, 'kernel_size': 5, 'pool_size': 6, 'n_dense_blocks': 1, 'dense_nodes': 209} with SpRes = 150 for epochs = 34\n"
     ]
    },
    {
     "name": "stderr",
     "output_type": "stream",
     "text": [
      "[I 2023-07-01 02:49:39,859] Trial 105 finished with value: 0.5224489795918368 and parameters: {'epochs': 34, 'resolution': 150, 'n_conv_blocks': 2, 'filters': 16, 'kernel_size': 5, 'pool_size': 6, 'n_dense_blocks': 1, 'dense_nodes': 209, 'batch_size': 31}. Best is trial 22 with value: 0.5265306122448979.\n"
     ]
    },
    {
     "name": "stdout",
     "output_type": "stream",
     "text": [
      "running model having {'n_conv_blocks': 1, 'filters': 16, 'kernel_size': 4, 'pool_size': 5, 'n_dense_blocks': 1, 'dense_nodes': 211} with SpRes = 150 for epochs = 35\n"
     ]
    },
    {
     "name": "stderr",
     "output_type": "stream",
     "text": [
      "[I 2023-07-01 02:50:29,584] Trial 106 finished with value: 0.3469387755102041 and parameters: {'epochs': 35, 'resolution': 150, 'n_conv_blocks': 1, 'filters': 16, 'kernel_size': 4, 'pool_size': 5, 'n_dense_blocks': 1, 'dense_nodes': 211, 'batch_size': 31}. Best is trial 22 with value: 0.5265306122448979.\n"
     ]
    },
    {
     "name": "stdout",
     "output_type": "stream",
     "text": [
      "running model having {'n_conv_blocks': 2, 'filters': 16, 'kernel_size': 5, 'pool_size': 6, 'n_dense_blocks': 1, 'dense_nodes': 237} with SpRes = 150 for epochs = 32\n"
     ]
    },
    {
     "name": "stderr",
     "output_type": "stream",
     "text": [
      "[I 2023-07-01 02:51:11,139] Trial 107 finished with value: 0.40408163265306124 and parameters: {'epochs': 32, 'resolution': 150, 'n_conv_blocks': 2, 'filters': 16, 'kernel_size': 5, 'pool_size': 6, 'n_dense_blocks': 1, 'dense_nodes': 237, 'batch_size': 30}. Best is trial 22 with value: 0.5265306122448979.\n"
     ]
    },
    {
     "name": "stdout",
     "output_type": "stream",
     "text": [
      "running model having {'n_conv_blocks': 2, 'filters': 15, 'kernel_size': 6, 'pool_size': 5, 'n_dense_blocks': 1, 'dense_nodes': 206} with SpRes = 150 for epochs = 29\n"
     ]
    },
    {
     "name": "stderr",
     "output_type": "stream",
     "text": [
      "[I 2023-07-01 02:51:52,994] Trial 108 finished with value: 0.3346938775510204 and parameters: {'epochs': 29, 'resolution': 150, 'n_conv_blocks': 2, 'filters': 15, 'kernel_size': 6, 'pool_size': 5, 'n_dense_blocks': 1, 'dense_nodes': 206, 'batch_size': 31}. Best is trial 22 with value: 0.5265306122448979.\n"
     ]
    },
    {
     "name": "stdout",
     "output_type": "stream",
     "text": [
      "running model having {'n_conv_blocks': 2, 'filters': 14, 'kernel_size': 5, 'pool_size': 6, 'n_dense_blocks': 1, 'dense_nodes': 166} with SpRes = 150 for epochs = 38\n"
     ]
    },
    {
     "name": "stderr",
     "output_type": "stream",
     "text": [
      "[I 2023-07-01 02:52:41,677] Trial 109 finished with value: 0.45714285714285713 and parameters: {'epochs': 38, 'resolution': 150, 'n_conv_blocks': 2, 'filters': 14, 'kernel_size': 5, 'pool_size': 6, 'n_dense_blocks': 1, 'dense_nodes': 166, 'batch_size': 32}. Best is trial 22 with value: 0.5265306122448979.\n"
     ]
    },
    {
     "name": "stdout",
     "output_type": "stream",
     "text": [
      "running model having {'n_conv_blocks': 2, 'filters': 13, 'kernel_size': 6, 'pool_size': 7, 'n_dense_blocks': 1, 'dense_nodes': 190} with SpRes = 150 for epochs = 30\n"
     ]
    },
    {
     "name": "stderr",
     "output_type": "stream",
     "text": [
      "[I 2023-07-01 02:53:23,946] Trial 110 finished with value: 0.2 and parameters: {'epochs': 30, 'resolution': 150, 'n_conv_blocks': 2, 'filters': 13, 'kernel_size': 6, 'pool_size': 7, 'n_dense_blocks': 1, 'dense_nodes': 190, 'batch_size': 30}. Best is trial 22 with value: 0.5265306122448979.\n"
     ]
    },
    {
     "name": "stdout",
     "output_type": "stream",
     "text": [
      "running model having {'n_conv_blocks': 2, 'filters': 15, 'kernel_size': 5, 'pool_size': 6, 'n_dense_blocks': 1, 'dense_nodes': 213} with SpRes = 150 for epochs = 34\n"
     ]
    },
    {
     "name": "stderr",
     "output_type": "stream",
     "text": [
      "[I 2023-07-01 02:54:08,893] Trial 111 finished with value: 0.4816326530612245 and parameters: {'epochs': 34, 'resolution': 100, 'n_conv_blocks': 2, 'filters': 15, 'kernel_size': 5, 'pool_size': 6, 'n_dense_blocks': 1, 'dense_nodes': 213, 'batch_size': 23}. Best is trial 22 with value: 0.5265306122448979.\n"
     ]
    },
    {
     "name": "stdout",
     "output_type": "stream",
     "text": [
      "running model having {'n_conv_blocks': 2, 'filters': 16, 'kernel_size': 4, 'pool_size': 7, 'n_dense_blocks': 2, 'dense_nodes': 222} with SpRes = 150 for epochs = 32\n"
     ]
    },
    {
     "name": "stderr",
     "output_type": "stream",
     "text": [
      "[I 2023-07-01 02:54:56,300] Trial 112 finished with value: 0.5224489795918368 and parameters: {'epochs': 32, 'resolution': 50, 'n_conv_blocks': 2, 'filters': 16, 'kernel_size': 4, 'pool_size': 7, 'n_dense_blocks': 2, 'dense_nodes': 222, 'batch_size': 18}. Best is trial 22 with value: 0.5265306122448979.\n"
     ]
    },
    {
     "name": "stdout",
     "output_type": "stream",
     "text": [
      "running model having {'n_conv_blocks': 2, 'filters': 16, 'kernel_size': 3, 'pool_size': 6, 'n_dense_blocks': 1, 'dense_nodes': 241} with SpRes = 150 for epochs = 32\n"
     ]
    },
    {
     "name": "stderr",
     "output_type": "stream",
     "text": [
      "[I 2023-07-01 02:55:43,223] Trial 113 finished with value: 0.5020408163265306 and parameters: {'epochs': 32, 'resolution': 50, 'n_conv_blocks': 2, 'filters': 16, 'kernel_size': 3, 'pool_size': 6, 'n_dense_blocks': 1, 'dense_nodes': 241, 'batch_size': 17}. Best is trial 22 with value: 0.5265306122448979.\n"
     ]
    },
    {
     "name": "stdout",
     "output_type": "stream",
     "text": [
      "running model having {'n_conv_blocks': 3, 'filters': 16, 'kernel_size': 4, 'pool_size': 7, 'n_dense_blocks': 2, 'dense_nodes': 226} with SpRes = 150 for epochs = 34\n"
     ]
    },
    {
     "name": "stderr",
     "output_type": "stream",
     "text": [
      "[I 2023-07-01 02:56:25,712] Trial 114 finished with value: 0.4489795918367347 and parameters: {'epochs': 34, 'resolution': 50, 'n_conv_blocks': 3, 'filters': 16, 'kernel_size': 4, 'pool_size': 7, 'n_dense_blocks': 2, 'dense_nodes': 226, 'batch_size': 18}. Best is trial 22 with value: 0.5265306122448979.\n"
     ]
    },
    {
     "name": "stdout",
     "output_type": "stream",
     "text": [
      "running model having {'n_conv_blocks': 2, 'filters': 15, 'kernel_size': 4, 'pool_size': 7, 'n_dense_blocks': 3, 'dense_nodes': 251} with SpRes = 150 for epochs = 29\n"
     ]
    },
    {
     "name": "stderr",
     "output_type": "stream",
     "text": [
      "[I 2023-07-01 02:57:11,957] Trial 115 finished with value: 0.43673469387755104 and parameters: {'epochs': 29, 'resolution': 50, 'n_conv_blocks': 2, 'filters': 15, 'kernel_size': 4, 'pool_size': 7, 'n_dense_blocks': 3, 'dense_nodes': 251, 'batch_size': 20}. Best is trial 22 with value: 0.5265306122448979.\n"
     ]
    },
    {
     "name": "stdout",
     "output_type": "stream",
     "text": [
      "running model having {'n_conv_blocks': 2, 'filters': 14, 'kernel_size': 3, 'pool_size': 4, 'n_dense_blocks': 1, 'dense_nodes': 218} with SpRes = 150 for epochs = 33\n"
     ]
    },
    {
     "name": "stderr",
     "output_type": "stream",
     "text": [
      "[I 2023-07-01 02:58:04,284] Trial 116 finished with value: 0.40408163265306124 and parameters: {'epochs': 33, 'resolution': 50, 'n_conv_blocks': 2, 'filters': 14, 'kernel_size': 3, 'pool_size': 4, 'n_dense_blocks': 1, 'dense_nodes': 218, 'batch_size': 18}. Best is trial 22 with value: 0.5265306122448979.\n"
     ]
    },
    {
     "name": "stdout",
     "output_type": "stream",
     "text": [
      "running model having {'n_conv_blocks': 2, 'filters': 16, 'kernel_size': 5, 'pool_size': 7, 'n_dense_blocks': 2, 'dense_nodes': 196} with SpRes = 150 for epochs = 31\n"
     ]
    },
    {
     "name": "stderr",
     "output_type": "stream",
     "text": [
      "[I 2023-07-01 02:58:48,156] Trial 117 finished with value: 0.40816326530612246 and parameters: {'epochs': 31, 'resolution': 150, 'n_conv_blocks': 2, 'filters': 16, 'kernel_size': 5, 'pool_size': 7, 'n_dense_blocks': 2, 'dense_nodes': 196, 'batch_size': 17}. Best is trial 22 with value: 0.5265306122448979.\n"
     ]
    },
    {
     "name": "stdout",
     "output_type": "stream",
     "text": [
      "running model having {'n_conv_blocks': 2, 'filters': 13, 'kernel_size': 4, 'pool_size': 7, 'n_dense_blocks': 2, 'dense_nodes': 187} with SpRes = 150 for epochs = 30\n"
     ]
    },
    {
     "name": "stderr",
     "output_type": "stream",
     "text": [
      "[I 2023-07-01 02:59:27,474] Trial 118 finished with value: 0.46938775510204084 and parameters: {'epochs': 30, 'resolution': 50, 'n_conv_blocks': 2, 'filters': 13, 'kernel_size': 4, 'pool_size': 7, 'n_dense_blocks': 2, 'dense_nodes': 187, 'batch_size': 32}. Best is trial 22 with value: 0.5265306122448979.\n"
     ]
    },
    {
     "name": "stdout",
     "output_type": "stream",
     "text": [
      "running model having {'n_conv_blocks': 2, 'filters': 15, 'kernel_size': 4, 'pool_size': 8, 'n_dense_blocks': 2, 'dense_nodes': 161} with SpRes = 150 for epochs = 35\n"
     ]
    },
    {
     "name": "stderr",
     "output_type": "stream",
     "text": [
      "[I 2023-07-01 03:00:08,789] Trial 119 finished with value: 0.4897959183673469 and parameters: {'epochs': 35, 'resolution': 100, 'n_conv_blocks': 2, 'filters': 15, 'kernel_size': 4, 'pool_size': 8, 'n_dense_blocks': 2, 'dense_nodes': 161, 'batch_size': 19}. Best is trial 22 with value: 0.5265306122448979.\n"
     ]
    },
    {
     "name": "stdout",
     "output_type": "stream",
     "text": [
      "running model having {'n_conv_blocks': 2, 'filters': 14, 'kernel_size': 4, 'pool_size': 6, 'n_dense_blocks': 2, 'dense_nodes': 231} with SpRes = 150 for epochs = 37\n"
     ]
    },
    {
     "name": "stderr",
     "output_type": "stream",
     "text": [
      "[I 2023-07-01 03:00:57,305] Trial 120 finished with value: 0.49387755102040815 and parameters: {'epochs': 37, 'resolution': 70, 'n_conv_blocks': 2, 'filters': 14, 'kernel_size': 4, 'pool_size': 6, 'n_dense_blocks': 2, 'dense_nodes': 231, 'batch_size': 22}. Best is trial 22 with value: 0.5265306122448979.\n"
     ]
    },
    {
     "name": "stdout",
     "output_type": "stream",
     "text": [
      "running model having {'n_conv_blocks': 2, 'filters': 14, 'kernel_size': 5, 'pool_size': 7, 'n_dense_blocks': 2, 'dense_nodes': 92} with SpRes = 150 for epochs = 27\n"
     ]
    },
    {
     "name": "stderr",
     "output_type": "stream",
     "text": [
      "[I 2023-07-01 03:01:31,982] Trial 121 finished with value: 0.39591836734693875 and parameters: {'epochs': 27, 'resolution': 120, 'n_conv_blocks': 2, 'filters': 14, 'kernel_size': 5, 'pool_size': 7, 'n_dense_blocks': 2, 'dense_nodes': 92, 'batch_size': 25}. Best is trial 22 with value: 0.5265306122448979.\n"
     ]
    },
    {
     "name": "stdout",
     "output_type": "stream",
     "text": [
      "running model having {'n_conv_blocks': 2, 'filters': 12, 'kernel_size': 6, 'pool_size': 7, 'n_dense_blocks': 2, 'dense_nodes': 207} with SpRes = 150 for epochs = 32\n"
     ]
    },
    {
     "name": "stderr",
     "output_type": "stream",
     "text": [
      "[I 2023-07-01 03:02:17,176] Trial 122 finished with value: 0.363265306122449 and parameters: {'epochs': 32, 'resolution': 150, 'n_conv_blocks': 2, 'filters': 12, 'kernel_size': 6, 'pool_size': 7, 'n_dense_blocks': 2, 'dense_nodes': 207, 'batch_size': 30}. Best is trial 22 with value: 0.5265306122448979.\n"
     ]
    },
    {
     "name": "stdout",
     "output_type": "stream",
     "text": [
      "running model having {'n_conv_blocks': 2, 'filters': 15, 'kernel_size': 9, 'pool_size': 8, 'n_dense_blocks': 2, 'dense_nodes': 174} with SpRes = 150 for epochs = 33\n"
     ]
    },
    {
     "name": "stderr",
     "output_type": "stream",
     "text": [
      "[I 2023-07-01 03:03:30,772] Trial 123 finished with value: 0.5142857142857142 and parameters: {'epochs': 33, 'resolution': 70, 'n_conv_blocks': 2, 'filters': 15, 'kernel_size': 9, 'pool_size': 8, 'n_dense_blocks': 2, 'dense_nodes': 174, 'batch_size': 31}. Best is trial 22 with value: 0.5265306122448979.\n"
     ]
    },
    {
     "name": "stdout",
     "output_type": "stream",
     "text": [
      "running model having {'n_conv_blocks': 2, 'filters': 13, 'kernel_size': 3, 'pool_size': 6, 'n_dense_blocks': 1, 'dense_nodes': 219} with SpRes = 150 for epochs = 36\n"
     ]
    },
    {
     "name": "stderr",
     "output_type": "stream",
     "text": [
      "[I 2023-07-01 03:04:14,083] Trial 124 finished with value: 0.49387755102040815 and parameters: {'epochs': 36, 'resolution': 50, 'n_conv_blocks': 2, 'filters': 13, 'kernel_size': 3, 'pool_size': 6, 'n_dense_blocks': 1, 'dense_nodes': 219, 'batch_size': 28}. Best is trial 22 with value: 0.5265306122448979.\n"
     ]
    },
    {
     "name": "stdout",
     "output_type": "stream",
     "text": [
      "running model having {'n_conv_blocks': 2, 'filters': 7, 'kernel_size': 8, 'pool_size': 7, 'n_dense_blocks': 1, 'dense_nodes': 196} with SpRes = 150 for epochs = 28\n"
     ]
    },
    {
     "name": "stderr",
     "output_type": "stream",
     "text": [
      "[I 2023-07-01 03:04:56,850] Trial 125 finished with value: 0.34285714285714286 and parameters: {'epochs': 28, 'resolution': 70, 'n_conv_blocks': 2, 'filters': 7, 'kernel_size': 8, 'pool_size': 7, 'n_dense_blocks': 1, 'dense_nodes': 196, 'batch_size': 32}. Best is trial 22 with value: 0.5265306122448979.\n"
     ]
    },
    {
     "name": "stdout",
     "output_type": "stream",
     "text": [
      "running model having {'n_conv_blocks': 2, 'filters': 16, 'kernel_size': 4, 'pool_size': 8, 'n_dense_blocks': 3, 'dense_nodes': 184} with SpRes = 150 for epochs = 22\n"
     ]
    },
    {
     "name": "stderr",
     "output_type": "stream",
     "text": [
      "[I 2023-07-01 03:05:23,246] Trial 126 finished with value: 0.5102040816326531 and parameters: {'epochs': 22, 'resolution': 70, 'n_conv_blocks': 2, 'filters': 16, 'kernel_size': 4, 'pool_size': 8, 'n_dense_blocks': 3, 'dense_nodes': 184, 'batch_size': 31}. Best is trial 22 with value: 0.5265306122448979.\n"
     ]
    },
    {
     "name": "stdout",
     "output_type": "stream",
     "text": [
      "running model having {'n_conv_blocks': 2, 'filters': 15, 'kernel_size': 8, 'pool_size': 8, 'n_dense_blocks': 2, 'dense_nodes': 175} with SpRes = 150 for epochs = 33\n"
     ]
    },
    {
     "name": "stderr",
     "output_type": "stream",
     "text": [
      "[I 2023-07-01 03:06:23,297] Trial 127 finished with value: 0.49387755102040815 and parameters: {'epochs': 33, 'resolution': 70, 'n_conv_blocks': 2, 'filters': 15, 'kernel_size': 8, 'pool_size': 8, 'n_dense_blocks': 2, 'dense_nodes': 175, 'batch_size': 31}. Best is trial 22 with value: 0.5265306122448979.\n"
     ]
    },
    {
     "name": "stdout",
     "output_type": "stream",
     "text": [
      "running model having {'n_conv_blocks': 2, 'filters': 15, 'kernel_size': 9, 'pool_size': 8, 'n_dense_blocks': 2, 'dense_nodes': 145} with SpRes = 150 for epochs = 34\n"
     ]
    },
    {
     "name": "stderr",
     "output_type": "stream",
     "text": [
      "[I 2023-07-01 03:07:36,061] Trial 128 finished with value: 0.39183673469387753 and parameters: {'epochs': 34, 'resolution': 70, 'n_conv_blocks': 2, 'filters': 15, 'kernel_size': 9, 'pool_size': 8, 'n_dense_blocks': 2, 'dense_nodes': 145, 'batch_size': 32}. Best is trial 22 with value: 0.5265306122448979.\n"
     ]
    },
    {
     "name": "stdout",
     "output_type": "stream",
     "text": [
      "running model having {'n_conv_blocks': 2, 'filters': 14, 'kernel_size': 6, 'pool_size': 8, 'n_dense_blocks': 2, 'dense_nodes': 160} with SpRes = 150 for epochs = 31\n"
     ]
    },
    {
     "name": "stderr",
     "output_type": "stream",
     "text": [
      "[I 2023-07-01 03:08:23,308] Trial 129 finished with value: 0.4775510204081633 and parameters: {'epochs': 31, 'resolution': 70, 'n_conv_blocks': 2, 'filters': 14, 'kernel_size': 6, 'pool_size': 8, 'n_dense_blocks': 2, 'dense_nodes': 160, 'batch_size': 31}. Best is trial 22 with value: 0.5265306122448979.\n"
     ]
    },
    {
     "name": "stdout",
     "output_type": "stream",
     "text": [
      "running model having {'n_conv_blocks': 2, 'filters': 15, 'kernel_size': 7, 'pool_size': 7, 'n_dense_blocks': 2, 'dense_nodes': 169} with SpRes = 150 for epochs = 34\n"
     ]
    },
    {
     "name": "stderr",
     "output_type": "stream",
     "text": [
      "[I 2023-07-01 03:09:21,421] Trial 130 finished with value: 0.49795918367346936 and parameters: {'epochs': 34, 'resolution': 70, 'n_conv_blocks': 2, 'filters': 15, 'kernel_size': 7, 'pool_size': 7, 'n_dense_blocks': 2, 'dense_nodes': 169, 'batch_size': 29}. Best is trial 22 with value: 0.5265306122448979.\n"
     ]
    },
    {
     "name": "stdout",
     "output_type": "stream",
     "text": [
      "running model having {'n_conv_blocks': 2, 'filters': 16, 'kernel_size': 9, 'pool_size': 8, 'n_dense_blocks': 2, 'dense_nodes': 198} with SpRes = 150 for epochs = 32\n"
     ]
    },
    {
     "name": "stderr",
     "output_type": "stream",
     "text": [
      "[I 2023-07-01 03:10:26,494] Trial 131 finished with value: 0.47346938775510206 and parameters: {'epochs': 32, 'resolution': 70, 'n_conv_blocks': 2, 'filters': 16, 'kernel_size': 9, 'pool_size': 8, 'n_dense_blocks': 2, 'dense_nodes': 198, 'batch_size': 32}. Best is trial 22 with value: 0.5265306122448979.\n"
     ]
    },
    {
     "name": "stdout",
     "output_type": "stream",
     "text": [
      "running model having {'n_conv_blocks': 2, 'filters': 14, 'kernel_size': 7, 'pool_size': 7, 'n_dense_blocks': 2, 'dense_nodes': 183} with SpRes = 150 for epochs = 30\n"
     ]
    },
    {
     "name": "stderr",
     "output_type": "stream",
     "text": [
      "[I 2023-07-01 03:11:16,807] Trial 132 finished with value: 0.49795918367346936 and parameters: {'epochs': 30, 'resolution': 100, 'n_conv_blocks': 2, 'filters': 14, 'kernel_size': 7, 'pool_size': 7, 'n_dense_blocks': 2, 'dense_nodes': 183, 'batch_size': 30}. Best is trial 22 with value: 0.5265306122448979.\n"
     ]
    },
    {
     "name": "stdout",
     "output_type": "stream",
     "text": [
      "running model having {'n_conv_blocks': 2, 'filters': 13, 'kernel_size': 5, 'pool_size': 8, 'n_dense_blocks': 2, 'dense_nodes': 207} with SpRes = 150 for epochs = 33\n"
     ]
    },
    {
     "name": "stderr",
     "output_type": "stream",
     "text": [
      "[I 2023-07-01 03:12:03,919] Trial 133 finished with value: 0.4204081632653061 and parameters: {'epochs': 33, 'resolution': 150, 'n_conv_blocks': 2, 'filters': 13, 'kernel_size': 5, 'pool_size': 8, 'n_dense_blocks': 2, 'dense_nodes': 207, 'batch_size': 17}. Best is trial 22 with value: 0.5265306122448979.\n"
     ]
    },
    {
     "name": "stdout",
     "output_type": "stream",
     "text": [
      "running model having {'n_conv_blocks': 2, 'filters': 15, 'kernel_size': 3, 'pool_size': 3, 'n_dense_blocks': 2, 'dense_nodes': 178} with SpRes = 150 for epochs = 30\n"
     ]
    },
    {
     "name": "stderr",
     "output_type": "stream",
     "text": [
      "[I 2023-07-01 03:12:48,288] Trial 134 finished with value: 0.5102040816326531 and parameters: {'epochs': 30, 'resolution': 70, 'n_conv_blocks': 2, 'filters': 15, 'kernel_size': 3, 'pool_size': 3, 'n_dense_blocks': 2, 'dense_nodes': 178, 'batch_size': 21}. Best is trial 22 with value: 0.5265306122448979.\n"
     ]
    },
    {
     "name": "stdout",
     "output_type": "stream",
     "text": [
      "running model having {'n_conv_blocks': 2, 'filters': 16, 'kernel_size': 4, 'pool_size': 6, 'n_dense_blocks': 2, 'dense_nodes': 191} with SpRes = 150 for epochs = 21\n"
     ]
    },
    {
     "name": "stderr",
     "output_type": "stream",
     "text": [
      "[I 2023-07-01 03:13:18,677] Trial 135 finished with value: 0.4326530612244898 and parameters: {'epochs': 21, 'resolution': 50, 'n_conv_blocks': 2, 'filters': 16, 'kernel_size': 4, 'pool_size': 6, 'n_dense_blocks': 2, 'dense_nodes': 191, 'batch_size': 25}. Best is trial 22 with value: 0.5265306122448979.\n"
     ]
    },
    {
     "name": "stdout",
     "output_type": "stream",
     "text": [
      "running model having {'n_conv_blocks': 2, 'filters': 2, 'kernel_size': 4, 'pool_size': 7, 'n_dense_blocks': 1, 'dense_nodes': 243} with SpRes = 150 for epochs = 36\n"
     ]
    },
    {
     "name": "stderr",
     "output_type": "stream",
     "text": [
      "[I 2023-07-01 03:13:51,750] Trial 136 finished with value: 0.23673469387755103 and parameters: {'epochs': 36, 'resolution': 120, 'n_conv_blocks': 2, 'filters': 2, 'kernel_size': 4, 'pool_size': 7, 'n_dense_blocks': 1, 'dense_nodes': 243, 'batch_size': 22}. Best is trial 22 with value: 0.5265306122448979.\n"
     ]
    },
    {
     "name": "stdout",
     "output_type": "stream",
     "text": [
      "running model having {'n_conv_blocks': 2, 'filters': 16, 'kernel_size': 4, 'pool_size': 8, 'n_dense_blocks': 3, 'dense_nodes': 186} with SpRes = 150 for epochs = 25\n"
     ]
    },
    {
     "name": "stderr",
     "output_type": "stream",
     "text": [
      "[I 2023-07-01 03:14:20,957] Trial 137 finished with value: 0.5020408163265306 and parameters: {'epochs': 25, 'resolution': 70, 'n_conv_blocks': 2, 'filters': 16, 'kernel_size': 4, 'pool_size': 8, 'n_dense_blocks': 3, 'dense_nodes': 186, 'batch_size': 31}. Best is trial 22 with value: 0.5265306122448979.\n"
     ]
    },
    {
     "name": "stdout",
     "output_type": "stream",
     "text": [
      "running model having {'n_conv_blocks': 2, 'filters': 16, 'kernel_size': 4, 'pool_size': 8, 'n_dense_blocks': 3, 'dense_nodes': 171} with SpRes = 150 for epochs = 15\n"
     ]
    },
    {
     "name": "stderr",
     "output_type": "stream",
     "text": [
      "[I 2023-07-01 03:14:39,683] Trial 138 finished with value: 0.46938775510204084 and parameters: {'epochs': 15, 'resolution': 70, 'n_conv_blocks': 2, 'filters': 16, 'kernel_size': 4, 'pool_size': 8, 'n_dense_blocks': 3, 'dense_nodes': 171, 'batch_size': 30}. Best is trial 22 with value: 0.5265306122448979.\n"
     ]
    },
    {
     "name": "stdout",
     "output_type": "stream",
     "text": [
      "running model having {'n_conv_blocks': 2, 'filters': 15, 'kernel_size': 5, 'pool_size': 8, 'n_dense_blocks': 3, 'dense_nodes': 203} with SpRes = 150 for epochs = 21\n"
     ]
    },
    {
     "name": "stderr",
     "output_type": "stream",
     "text": [
      "[I 2023-07-01 03:15:11,258] Trial 139 finished with value: 0.46938775510204084 and parameters: {'epochs': 21, 'resolution': 70, 'n_conv_blocks': 2, 'filters': 15, 'kernel_size': 5, 'pool_size': 8, 'n_dense_blocks': 3, 'dense_nodes': 203, 'batch_size': 31}. Best is trial 22 with value: 0.5265306122448979.\n"
     ]
    },
    {
     "name": "stdout",
     "output_type": "stream",
     "text": [
      "running model having {'n_conv_blocks': 2, 'filters': 14, 'kernel_size': 4, 'pool_size': 8, 'n_dense_blocks': 2, 'dense_nodes': 155} with SpRes = 150 for epochs = 29\n"
     ]
    },
    {
     "name": "stderr",
     "output_type": "stream",
     "text": [
      "[I 2023-07-01 03:15:43,833] Trial 140 finished with value: 0.45714285714285713 and parameters: {'epochs': 29, 'resolution': 70, 'n_conv_blocks': 2, 'filters': 14, 'kernel_size': 4, 'pool_size': 8, 'n_dense_blocks': 2, 'dense_nodes': 155, 'batch_size': 32}. Best is trial 22 with value: 0.5265306122448979.\n"
     ]
    },
    {
     "name": "stdout",
     "output_type": "stream",
     "text": [
      "running model having {'n_conv_blocks': 2, 'filters': 15, 'kernel_size': 3, 'pool_size': 7, 'n_dense_blocks': 2, 'dense_nodes': 193} with SpRes = 150 for epochs = 25\n"
     ]
    },
    {
     "name": "stderr",
     "output_type": "stream",
     "text": [
      "[I 2023-07-01 03:16:10,518] Trial 141 finished with value: 0.49387755102040815 and parameters: {'epochs': 25, 'resolution': 70, 'n_conv_blocks': 2, 'filters': 15, 'kernel_size': 3, 'pool_size': 7, 'n_dense_blocks': 2, 'dense_nodes': 193, 'batch_size': 31}. Best is trial 22 with value: 0.5265306122448979.\n"
     ]
    },
    {
     "name": "stdout",
     "output_type": "stream",
     "text": [
      "running model having {'n_conv_blocks': 2, 'filters': 16, 'kernel_size': 4, 'pool_size': 5, 'n_dense_blocks': 3, 'dense_nodes': 182} with SpRes = 150 for epochs = 31\n"
     ]
    },
    {
     "name": "stderr",
     "output_type": "stream",
     "text": [
      "[I 2023-07-01 03:16:49,620] Trial 142 finished with value: 0.42857142857142855 and parameters: {'epochs': 31, 'resolution': 150, 'n_conv_blocks': 2, 'filters': 16, 'kernel_size': 4, 'pool_size': 5, 'n_dense_blocks': 3, 'dense_nodes': 182, 'batch_size': 19}. Best is trial 22 with value: 0.5265306122448979.\n"
     ]
    },
    {
     "name": "stdout",
     "output_type": "stream",
     "text": [
      "running model having {'n_conv_blocks': 2, 'filters': 16, 'kernel_size': 5, 'pool_size': 8, 'n_dense_blocks': 1, 'dense_nodes': 222} with SpRes = 150 for epochs = 33\n"
     ]
    },
    {
     "name": "stderr",
     "output_type": "stream",
     "text": [
      "[I 2023-07-01 03:17:40,136] Trial 143 finished with value: 0.46530612244897956 and parameters: {'epochs': 33, 'resolution': 70, 'n_conv_blocks': 2, 'filters': 16, 'kernel_size': 5, 'pool_size': 8, 'n_dense_blocks': 1, 'dense_nodes': 222, 'batch_size': 16}. Best is trial 22 with value: 0.5265306122448979.\n"
     ]
    },
    {
     "name": "stdout",
     "output_type": "stream",
     "text": [
      "running model having {'n_conv_blocks': 2, 'filters': 15, 'kernel_size': 4, 'pool_size': 7, 'n_dense_blocks': 2, 'dense_nodes': 228} with SpRes = 150 for epochs = 24\n"
     ]
    },
    {
     "name": "stderr",
     "output_type": "stream",
     "text": [
      "[I 2023-07-01 03:18:14,020] Trial 144 finished with value: 0.5387755102040817 and parameters: {'epochs': 24, 'resolution': 50, 'n_conv_blocks': 2, 'filters': 15, 'kernel_size': 4, 'pool_size': 7, 'n_dense_blocks': 2, 'dense_nodes': 228, 'batch_size': 30}. Best is trial 144 with value: 0.5387755102040817.\n"
     ]
    },
    {
     "name": "stdout",
     "output_type": "stream",
     "text": [
      "running model having {'n_conv_blocks': 2, 'filters': 14, 'kernel_size': 3, 'pool_size': 6, 'n_dense_blocks': 2, 'dense_nodes': 210} with SpRes = 150 for epochs = 24\n"
     ]
    },
    {
     "name": "stderr",
     "output_type": "stream",
     "text": [
      "[I 2023-07-01 03:18:43,802] Trial 145 finished with value: 0.49795918367346936 and parameters: {'epochs': 24, 'resolution': 50, 'n_conv_blocks': 2, 'filters': 14, 'kernel_size': 3, 'pool_size': 6, 'n_dense_blocks': 2, 'dense_nodes': 210, 'batch_size': 30}. Best is trial 144 with value: 0.5387755102040817.\n"
     ]
    },
    {
     "name": "stdout",
     "output_type": "stream",
     "text": [
      "running model having {'n_conv_blocks': 2, 'filters': 15, 'kernel_size': 6, 'pool_size': 7, 'n_dense_blocks': 2, 'dense_nodes': 234} with SpRes = 150 for epochs = 27\n"
     ]
    },
    {
     "name": "stderr",
     "output_type": "stream",
     "text": [
      "[I 2023-07-01 03:19:32,852] Trial 146 finished with value: 0.43673469387755104 and parameters: {'epochs': 27, 'resolution': 50, 'n_conv_blocks': 2, 'filters': 15, 'kernel_size': 6, 'pool_size': 7, 'n_dense_blocks': 2, 'dense_nodes': 234, 'batch_size': 27}. Best is trial 144 with value: 0.5387755102040817.\n"
     ]
    },
    {
     "name": "stdout",
     "output_type": "stream",
     "text": [
      "running model having {'n_conv_blocks': 2, 'filters': 15, 'kernel_size': 4, 'pool_size': 7, 'n_dense_blocks': 2, 'dense_nodes': 216} with SpRes = 150 for epochs = 22\n"
     ]
    },
    {
     "name": "stderr",
     "output_type": "stream",
     "text": [
      "[I 2023-07-01 03:20:03,107] Trial 147 finished with value: 0.4857142857142857 and parameters: {'epochs': 22, 'resolution': 50, 'n_conv_blocks': 2, 'filters': 15, 'kernel_size': 4, 'pool_size': 7, 'n_dense_blocks': 2, 'dense_nodes': 216, 'batch_size': 31}. Best is trial 144 with value: 0.5387755102040817.\n"
     ]
    },
    {
     "name": "stdout",
     "output_type": "stream",
     "text": [
      "running model having {'n_conv_blocks': 2, 'filters': 16, 'kernel_size': 4, 'pool_size': 7, 'n_dense_blocks': 2, 'dense_nodes': 226} with SpRes = 150 for epochs = 26\n"
     ]
    },
    {
     "name": "stderr",
     "output_type": "stream",
     "text": [
      "[I 2023-07-01 03:20:38,017] Trial 148 finished with value: 0.5428571428571428 and parameters: {'epochs': 26, 'resolution': 50, 'n_conv_blocks': 2, 'filters': 16, 'kernel_size': 4, 'pool_size': 7, 'n_dense_blocks': 2, 'dense_nodes': 226, 'batch_size': 32}. Best is trial 148 with value: 0.5428571428571428.\n"
     ]
    },
    {
     "name": "stdout",
     "output_type": "stream",
     "text": [
      "running model having {'n_conv_blocks': 2, 'filters': 14, 'kernel_size': 4, 'pool_size': 7, 'n_dense_blocks': 2, 'dense_nodes': 228} with SpRes = 150 for epochs = 26\n"
     ]
    },
    {
     "name": "stderr",
     "output_type": "stream",
     "text": [
      "[I 2023-07-01 03:21:12,850] Trial 149 finished with value: 0.46122448979591835 and parameters: {'epochs': 26, 'resolution': 50, 'n_conv_blocks': 2, 'filters': 14, 'kernel_size': 4, 'pool_size': 7, 'n_dense_blocks': 2, 'dense_nodes': 228, 'batch_size': 32}. Best is trial 148 with value: 0.5428571428571428.\n"
     ]
    },
    {
     "name": "stdout",
     "output_type": "stream",
     "text": [
      "running model having {'n_conv_blocks': 2, 'filters': 13, 'kernel_size': 4, 'pool_size': 7, 'n_dense_blocks': 2, 'dense_nodes': 246} with SpRes = 150 for epochs = 23\n"
     ]
    },
    {
     "name": "stderr",
     "output_type": "stream",
     "text": [
      "[I 2023-07-01 03:21:45,813] Trial 150 finished with value: 0.4775510204081633 and parameters: {'epochs': 23, 'resolution': 50, 'n_conv_blocks': 2, 'filters': 13, 'kernel_size': 4, 'pool_size': 7, 'n_dense_blocks': 2, 'dense_nodes': 246, 'batch_size': 32}. Best is trial 148 with value: 0.5428571428571428.\n"
     ]
    },
    {
     "name": "stdout",
     "output_type": "stream",
     "text": [
      "running model having {'n_conv_blocks': 2, 'filters': 15, 'kernel_size': 5, 'pool_size': 7, 'n_dense_blocks': 2, 'dense_nodes': 237} with SpRes = 150 for epochs = 28\n"
     ]
    },
    {
     "name": "stderr",
     "output_type": "stream",
     "text": [
      "[I 2023-07-01 03:22:31,357] Trial 151 finished with value: 0.39591836734693875 and parameters: {'epochs': 28, 'resolution': 50, 'n_conv_blocks': 2, 'filters': 15, 'kernel_size': 5, 'pool_size': 7, 'n_dense_blocks': 2, 'dense_nodes': 237, 'batch_size': 32}. Best is trial 148 with value: 0.5428571428571428.\n"
     ]
    },
    {
     "name": "stdout",
     "output_type": "stream",
     "text": [
      "running model having {'n_conv_blocks': 2, 'filters': 16, 'kernel_size': 3, 'pool_size': 6, 'n_dense_blocks': 2, 'dense_nodes': 201} with SpRes = 150 for epochs = 24\n"
     ]
    },
    {
     "name": "stderr",
     "output_type": "stream",
     "text": [
      "[I 2023-07-01 03:23:02,865] Trial 152 finished with value: 0.5061224489795918 and parameters: {'epochs': 24, 'resolution': 50, 'n_conv_blocks': 2, 'filters': 16, 'kernel_size': 3, 'pool_size': 6, 'n_dense_blocks': 2, 'dense_nodes': 201, 'batch_size': 24}. Best is trial 148 with value: 0.5428571428571428.\n"
     ]
    },
    {
     "name": "stdout",
     "output_type": "stream",
     "text": [
      "running model having {'n_conv_blocks': 2, 'filters': 15, 'kernel_size': 5, 'pool_size': 7, 'n_dense_blocks': 1, 'dense_nodes': 220} with SpRes = 150 for epochs = 25\n"
     ]
    },
    {
     "name": "stderr",
     "output_type": "stream",
     "text": [
      "[I 2023-07-01 03:23:41,291] Trial 153 finished with value: 0.5142857142857142 and parameters: {'epochs': 25, 'resolution': 50, 'n_conv_blocks': 2, 'filters': 15, 'kernel_size': 5, 'pool_size': 7, 'n_dense_blocks': 1, 'dense_nodes': 220, 'batch_size': 29}. Best is trial 148 with value: 0.5428571428571428.\n"
     ]
    },
    {
     "name": "stdout",
     "output_type": "stream",
     "text": [
      "running model having {'n_conv_blocks': 2, 'filters': 14, 'kernel_size': 4, 'pool_size': 6, 'n_dense_blocks': 2, 'dense_nodes': 214} with SpRes = 150 for epochs = 32\n"
     ]
    },
    {
     "name": "stderr",
     "output_type": "stream",
     "text": [
      "[I 2023-07-01 03:24:17,925] Trial 154 finished with value: 0.49795918367346936 and parameters: {'epochs': 32, 'resolution': 150, 'n_conv_blocks': 2, 'filters': 14, 'kernel_size': 4, 'pool_size': 6, 'n_dense_blocks': 2, 'dense_nodes': 214, 'batch_size': 31}. Best is trial 148 with value: 0.5428571428571428.\n"
     ]
    },
    {
     "name": "stdout",
     "output_type": "stream",
     "text": [
      "running model having {'n_conv_blocks': 2, 'filters': 11, 'kernel_size': 3, 'pool_size': 7, 'n_dense_blocks': 2, 'dense_nodes': 232} with SpRes = 150 for epochs = 27\n"
     ]
    },
    {
     "name": "stderr",
     "output_type": "stream",
     "text": [
      "[I 2023-07-01 03:24:49,097] Trial 155 finished with value: 0.4489795918367347 and parameters: {'epochs': 27, 'resolution': 50, 'n_conv_blocks': 2, 'filters': 11, 'kernel_size': 3, 'pool_size': 7, 'n_dense_blocks': 2, 'dense_nodes': 232, 'batch_size': 30}. Best is trial 148 with value: 0.5428571428571428.\n"
     ]
    },
    {
     "name": "stdout",
     "output_type": "stream",
     "text": [
      "running model having {'n_conv_blocks': 2, 'filters': 12, 'kernel_size': 4, 'pool_size': 7, 'n_dense_blocks': 2, 'dense_nodes': 227} with SpRes = 150 for epochs = 26\n"
     ]
    },
    {
     "name": "stderr",
     "output_type": "stream",
     "text": [
      "[I 2023-07-01 03:25:21,448] Trial 156 finished with value: 0.4204081632653061 and parameters: {'epochs': 26, 'resolution': 150, 'n_conv_blocks': 2, 'filters': 12, 'kernel_size': 4, 'pool_size': 7, 'n_dense_blocks': 2, 'dense_nodes': 227, 'batch_size': 20}. Best is trial 148 with value: 0.5428571428571428.\n"
     ]
    },
    {
     "name": "stdout",
     "output_type": "stream",
     "text": [
      "running model having {'n_conv_blocks': 2, 'filters': 15, 'kernel_size': 5, 'pool_size': 7, 'n_dense_blocks': 1, 'dense_nodes': 222} with SpRes = 150 for epochs = 25\n"
     ]
    },
    {
     "name": "stderr",
     "output_type": "stream",
     "text": [
      "[I 2023-07-01 03:25:58,771] Trial 157 finished with value: 0.4816326530612245 and parameters: {'epochs': 25, 'resolution': 50, 'n_conv_blocks': 2, 'filters': 15, 'kernel_size': 5, 'pool_size': 7, 'n_dense_blocks': 1, 'dense_nodes': 222, 'batch_size': 29}. Best is trial 148 with value: 0.5428571428571428.\n"
     ]
    },
    {
     "name": "stdout",
     "output_type": "stream",
     "text": [
      "running model having {'n_conv_blocks': 2, 'filters': 15, 'kernel_size': 5, 'pool_size': 7, 'n_dense_blocks': 1, 'dense_nodes': 219} with SpRes = 150 for epochs = 25\n"
     ]
    },
    {
     "name": "stderr",
     "output_type": "stream",
     "text": [
      "[I 2023-07-01 03:26:36,949] Trial 158 finished with value: 0.35918367346938773 and parameters: {'epochs': 25, 'resolution': 50, 'n_conv_blocks': 2, 'filters': 15, 'kernel_size': 5, 'pool_size': 7, 'n_dense_blocks': 1, 'dense_nodes': 219, 'batch_size': 28}. Best is trial 148 with value: 0.5428571428571428.\n"
     ]
    },
    {
     "name": "stdout",
     "output_type": "stream",
     "text": [
      "running model having {'n_conv_blocks': 2, 'filters': 16, 'kernel_size': 5, 'pool_size': 7, 'n_dense_blocks': 1, 'dense_nodes': 211} with SpRes = 150 for epochs = 29\n"
     ]
    },
    {
     "name": "stderr",
     "output_type": "stream",
     "text": [
      "[I 2023-07-01 03:27:18,588] Trial 159 finished with value: 0.4816326530612245 and parameters: {'epochs': 29, 'resolution': 50, 'n_conv_blocks': 2, 'filters': 16, 'kernel_size': 5, 'pool_size': 7, 'n_dense_blocks': 1, 'dense_nodes': 211, 'batch_size': 32}. Best is trial 148 with value: 0.5428571428571428.\n"
     ]
    },
    {
     "name": "stdout",
     "output_type": "stream",
     "text": [
      "running model having {'n_conv_blocks': 2, 'filters': 15, 'kernel_size': 5, 'pool_size': 4, 'n_dense_blocks': 1, 'dense_nodes': 205} with SpRes = 150 for epochs = 31\n"
     ]
    },
    {
     "name": "stderr",
     "output_type": "stream",
     "text": [
      "[I 2023-07-01 03:28:08,975] Trial 160 finished with value: 0.42448979591836733 and parameters: {'epochs': 31, 'resolution': 50, 'n_conv_blocks': 2, 'filters': 15, 'kernel_size': 5, 'pool_size': 4, 'n_dense_blocks': 1, 'dense_nodes': 205, 'batch_size': 30}. Best is trial 148 with value: 0.5428571428571428.\n"
     ]
    },
    {
     "name": "stdout",
     "output_type": "stream",
     "text": [
      "running model having {'n_conv_blocks': 2, 'filters': 14, 'kernel_size': 6, 'pool_size': 7, 'n_dense_blocks': 1, 'dense_nodes': 197} with SpRes = 150 for epochs = 16\n"
     ]
    },
    {
     "name": "stderr",
     "output_type": "stream",
     "text": [
      "[I 2023-07-01 03:28:37,993] Trial 161 finished with value: 0.4775510204081633 and parameters: {'epochs': 16, 'resolution': 50, 'n_conv_blocks': 2, 'filters': 14, 'kernel_size': 6, 'pool_size': 7, 'n_dense_blocks': 1, 'dense_nodes': 197, 'batch_size': 31}. Best is trial 148 with value: 0.5428571428571428.\n"
     ]
    },
    {
     "name": "stdout",
     "output_type": "stream",
     "text": [
      "running model having {'n_conv_blocks': 2, 'filters': 16, 'kernel_size': 4, 'pool_size': 7, 'n_dense_blocks': 1, 'dense_nodes': 240} with SpRes = 150 for epochs = 23\n"
     ]
    },
    {
     "name": "stderr",
     "output_type": "stream",
     "text": [
      "[I 2023-07-01 03:29:15,708] Trial 162 finished with value: 0.5795918367346938 and parameters: {'epochs': 23, 'resolution': 100, 'n_conv_blocks': 2, 'filters': 16, 'kernel_size': 4, 'pool_size': 7, 'n_dense_blocks': 1, 'dense_nodes': 240, 'batch_size': 18}. Best is trial 162 with value: 0.5795918367346938.\n"
     ]
    },
    {
     "name": "stdout",
     "output_type": "stream",
     "text": [
      "running model having {'n_conv_blocks': 2, 'filters': 16, 'kernel_size': 4, 'pool_size': 5, 'n_dense_blocks': 1, 'dense_nodes': 249} with SpRes = 150 for epochs = 23\n"
     ]
    },
    {
     "name": "stderr",
     "output_type": "stream",
     "text": [
      "[I 2023-07-01 03:29:46,044] Trial 163 finished with value: 0.5306122448979592 and parameters: {'epochs': 23, 'resolution': 100, 'n_conv_blocks': 2, 'filters': 16, 'kernel_size': 4, 'pool_size': 5, 'n_dense_blocks': 1, 'dense_nodes': 249, 'batch_size': 18}. Best is trial 162 with value: 0.5795918367346938.\n"
     ]
    },
    {
     "name": "stdout",
     "output_type": "stream",
     "text": [
      "running model having {'n_conv_blocks': 2, 'filters': 16, 'kernel_size': 4, 'pool_size': 6, 'n_dense_blocks': 1, 'dense_nodes': 242} with SpRes = 150 for epochs = 23\n"
     ]
    },
    {
     "name": "stderr",
     "output_type": "stream",
     "text": [
      "[I 2023-07-01 03:30:14,798] Trial 164 finished with value: 0.4163265306122449 and parameters: {'epochs': 23, 'resolution': 100, 'n_conv_blocks': 2, 'filters': 16, 'kernel_size': 4, 'pool_size': 6, 'n_dense_blocks': 1, 'dense_nodes': 242, 'batch_size': 18}. Best is trial 162 with value: 0.5795918367346938.\n"
     ]
    },
    {
     "name": "stdout",
     "output_type": "stream",
     "text": [
      "running model having {'n_conv_blocks': 2, 'filters': 16, 'kernel_size': 4, 'pool_size': 5, 'n_dense_blocks': 1, 'dense_nodes': 253} with SpRes = 150 for epochs = 23\n"
     ]
    },
    {
     "name": "stderr",
     "output_type": "stream",
     "text": [
      "[I 2023-07-01 03:30:44,923] Trial 165 finished with value: 0.45714285714285713 and parameters: {'epochs': 23, 'resolution': 100, 'n_conv_blocks': 2, 'filters': 16, 'kernel_size': 4, 'pool_size': 5, 'n_dense_blocks': 1, 'dense_nodes': 253, 'batch_size': 18}. Best is trial 162 with value: 0.5795918367346938.\n"
     ]
    },
    {
     "name": "stdout",
     "output_type": "stream",
     "text": [
      "running model having {'n_conv_blocks': 2, 'filters': 16, 'kernel_size': 4, 'pool_size': 5, 'n_dense_blocks': 1, 'dense_nodes': 249} with SpRes = 150 for epochs = 21\n"
     ]
    },
    {
     "name": "stderr",
     "output_type": "stream",
     "text": [
      "[I 2023-07-01 03:31:13,607] Trial 166 finished with value: 0.45714285714285713 and parameters: {'epochs': 21, 'resolution': 100, 'n_conv_blocks': 2, 'filters': 16, 'kernel_size': 4, 'pool_size': 5, 'n_dense_blocks': 1, 'dense_nodes': 249, 'batch_size': 17}. Best is trial 162 with value: 0.5795918367346938.\n"
     ]
    },
    {
     "name": "stdout",
     "output_type": "stream",
     "text": [
      "running model having {'n_conv_blocks': 2, 'filters': 16, 'kernel_size': 4, 'pool_size': 5, 'n_dense_blocks': 1, 'dense_nodes': 238} with SpRes = 150 for epochs = 26\n"
     ]
    },
    {
     "name": "stderr",
     "output_type": "stream",
     "text": [
      "[I 2023-07-01 03:31:47,250] Trial 167 finished with value: 0.5224489795918368 and parameters: {'epochs': 26, 'resolution': 100, 'n_conv_blocks': 2, 'filters': 16, 'kernel_size': 4, 'pool_size': 5, 'n_dense_blocks': 1, 'dense_nodes': 238, 'batch_size': 18}. Best is trial 162 with value: 0.5795918367346938.\n"
     ]
    },
    {
     "name": "stdout",
     "output_type": "stream",
     "text": [
      "running model having {'n_conv_blocks': 2, 'filters': 16, 'kernel_size': 4, 'pool_size': 5, 'n_dense_blocks': 1, 'dense_nodes': 231} with SpRes = 150 for epochs = 26\n"
     ]
    },
    {
     "name": "stderr",
     "output_type": "stream",
     "text": [
      "[I 2023-07-01 03:32:21,090] Trial 168 finished with value: 0.5102040816326531 and parameters: {'epochs': 26, 'resolution': 100, 'n_conv_blocks': 2, 'filters': 16, 'kernel_size': 4, 'pool_size': 5, 'n_dense_blocks': 1, 'dense_nodes': 231, 'batch_size': 19}. Best is trial 162 with value: 0.5795918367346938.\n"
     ]
    },
    {
     "name": "stdout",
     "output_type": "stream",
     "text": [
      "running model having {'n_conv_blocks': 2, 'filters': 16, 'kernel_size': 4, 'pool_size': 5, 'n_dense_blocks': 1, 'dense_nodes': 256} with SpRes = 150 for epochs = 24\n"
     ]
    },
    {
     "name": "stderr",
     "output_type": "stream",
     "text": [
      "[I 2023-07-01 03:32:55,070] Trial 169 finished with value: 0.5142857142857142 and parameters: {'epochs': 24, 'resolution': 100, 'n_conv_blocks': 2, 'filters': 16, 'kernel_size': 4, 'pool_size': 5, 'n_dense_blocks': 1, 'dense_nodes': 256, 'batch_size': 18}. Best is trial 162 with value: 0.5795918367346938.\n"
     ]
    },
    {
     "name": "stdout",
     "output_type": "stream",
     "text": [
      "running model having {'n_conv_blocks': 2, 'filters': 5, 'kernel_size': 4, 'pool_size': 5, 'n_dense_blocks': 1, 'dense_nodes': 235} with SpRes = 150 for epochs = 26\n"
     ]
    },
    {
     "name": "stderr",
     "output_type": "stream",
     "text": [
      "[I 2023-07-01 03:33:23,716] Trial 170 finished with value: 0.34285714285714286 and parameters: {'epochs': 26, 'resolution': 100, 'n_conv_blocks': 2, 'filters': 5, 'kernel_size': 4, 'pool_size': 5, 'n_dense_blocks': 1, 'dense_nodes': 235, 'batch_size': 17}. Best is trial 162 with value: 0.5795918367346938.\n"
     ]
    },
    {
     "name": "stdout",
     "output_type": "stream",
     "text": [
      "running model having {'n_conv_blocks': 2, 'filters': 8, 'kernel_size': 4, 'pool_size': 5, 'n_dense_blocks': 1, 'dense_nodes': 246} with SpRes = 150 for epochs = 24\n"
     ]
    },
    {
     "name": "stderr",
     "output_type": "stream",
     "text": [
      "[I 2023-07-01 03:33:50,451] Trial 171 finished with value: 0.3877551020408163 and parameters: {'epochs': 24, 'resolution': 100, 'n_conv_blocks': 2, 'filters': 8, 'kernel_size': 4, 'pool_size': 5, 'n_dense_blocks': 1, 'dense_nodes': 246, 'batch_size': 19}. Best is trial 162 with value: 0.5795918367346938.\n"
     ]
    },
    {
     "name": "stdout",
     "output_type": "stream",
     "text": [
      "running model having {'n_conv_blocks': 2, 'filters': 16, 'kernel_size': 4, 'pool_size': 5, 'n_dense_blocks': 1, 'dense_nodes': 241} with SpRes = 150 for epochs = 27\n"
     ]
    },
    {
     "name": "stderr",
     "output_type": "stream",
     "text": [
      "[I 2023-07-01 03:34:27,260] Trial 172 finished with value: 0.5469387755102041 and parameters: {'epochs': 27, 'resolution': 100, 'n_conv_blocks': 2, 'filters': 16, 'kernel_size': 4, 'pool_size': 5, 'n_dense_blocks': 1, 'dense_nodes': 241, 'batch_size': 18}. Best is trial 162 with value: 0.5795918367346938.\n"
     ]
    },
    {
     "name": "stdout",
     "output_type": "stream",
     "text": [
      "running model having {'n_conv_blocks': 2, 'filters': 16, 'kernel_size': 4, 'pool_size': 4, 'n_dense_blocks': 1, 'dense_nodes': 237} with SpRes = 150 for epochs = 27\n"
     ]
    },
    {
     "name": "stderr",
     "output_type": "stream",
     "text": [
      "[I 2023-07-01 03:35:04,451] Trial 173 finished with value: 0.4204081632653061 and parameters: {'epochs': 27, 'resolution': 100, 'n_conv_blocks': 2, 'filters': 16, 'kernel_size': 4, 'pool_size': 4, 'n_dense_blocks': 1, 'dense_nodes': 237, 'batch_size': 18}. Best is trial 162 with value: 0.5795918367346938.\n"
     ]
    },
    {
     "name": "stdout",
     "output_type": "stream",
     "text": [
      "running model having {'n_conv_blocks': 2, 'filters': 16, 'kernel_size': 4, 'pool_size': 5, 'n_dense_blocks': 1, 'dense_nodes': 250} with SpRes = 150 for epochs = 23\n"
     ]
    },
    {
     "name": "stderr",
     "output_type": "stream",
     "text": [
      "[I 2023-07-01 03:35:34,785] Trial 174 finished with value: 0.39183673469387753 and parameters: {'epochs': 23, 'resolution': 100, 'n_conv_blocks': 2, 'filters': 16, 'kernel_size': 4, 'pool_size': 5, 'n_dense_blocks': 1, 'dense_nodes': 250, 'batch_size': 20}. Best is trial 162 with value: 0.5795918367346938.\n"
     ]
    },
    {
     "name": "stdout",
     "output_type": "stream",
     "text": [
      "running model having {'n_conv_blocks': 2, 'filters': 16, 'kernel_size': 4, 'pool_size': 5, 'n_dense_blocks': 1, 'dense_nodes': 241} with SpRes = 150 for epochs = 28\n"
     ]
    },
    {
     "name": "stderr",
     "output_type": "stream",
     "text": [
      "[I 2023-07-01 03:36:12,308] Trial 175 finished with value: 0.4897959183673469 and parameters: {'epochs': 28, 'resolution': 100, 'n_conv_blocks': 2, 'filters': 16, 'kernel_size': 4, 'pool_size': 5, 'n_dense_blocks': 1, 'dense_nodes': 241, 'batch_size': 17}. Best is trial 162 with value: 0.5795918367346938.\n"
     ]
    },
    {
     "name": "stdout",
     "output_type": "stream",
     "text": [
      "running model having {'n_conv_blocks': 2, 'filters': 16, 'kernel_size': 4, 'pool_size': 4, 'n_dense_blocks': 1, 'dense_nodes': 229} with SpRes = 150 for epochs = 30\n"
     ]
    },
    {
     "name": "stderr",
     "output_type": "stream",
     "text": [
      "[I 2023-07-01 03:36:54,169] Trial 176 finished with value: 0.5265306122448979 and parameters: {'epochs': 30, 'resolution': 100, 'n_conv_blocks': 2, 'filters': 16, 'kernel_size': 4, 'pool_size': 4, 'n_dense_blocks': 1, 'dense_nodes': 229, 'batch_size': 18}. Best is trial 162 with value: 0.5795918367346938.\n"
     ]
    },
    {
     "name": "stdout",
     "output_type": "stream",
     "text": [
      "running model having {'n_conv_blocks': 2, 'filters': 16, 'kernel_size': 4, 'pool_size': 4, 'n_dense_blocks': 1, 'dense_nodes': 228} with SpRes = 150 for epochs = 30\n"
     ]
    },
    {
     "name": "stderr",
     "output_type": "stream",
     "text": [
      "[I 2023-07-01 03:37:34,878] Trial 177 finished with value: 0.49387755102040815 and parameters: {'epochs': 30, 'resolution': 100, 'n_conv_blocks': 2, 'filters': 16, 'kernel_size': 4, 'pool_size': 4, 'n_dense_blocks': 1, 'dense_nodes': 228, 'batch_size': 18}. Best is trial 162 with value: 0.5795918367346938.\n"
     ]
    },
    {
     "name": "stdout",
     "output_type": "stream",
     "text": [
      "running model having {'n_conv_blocks': 2, 'filters': 15, 'kernel_size': 4, 'pool_size': 3, 'n_dense_blocks': 1, 'dense_nodes': 231} with SpRes = 150 for epochs = 29\n"
     ]
    },
    {
     "name": "stderr",
     "output_type": "stream",
     "text": [
      "[I 2023-07-01 03:38:19,255] Trial 178 finished with value: 0.3836734693877551 and parameters: {'epochs': 29, 'resolution': 100, 'n_conv_blocks': 2, 'filters': 15, 'kernel_size': 4, 'pool_size': 3, 'n_dense_blocks': 1, 'dense_nodes': 231, 'batch_size': 19}. Best is trial 162 with value: 0.5795918367346938.\n"
     ]
    },
    {
     "name": "stdout",
     "output_type": "stream",
     "text": [
      "running model having {'n_conv_blocks': 2, 'filters': 16, 'kernel_size': 4, 'pool_size': 4, 'n_dense_blocks': 1, 'dense_nodes': 239} with SpRes = 150 for epochs = 28\n"
     ]
    },
    {
     "name": "stderr",
     "output_type": "stream",
     "text": [
      "[I 2023-07-01 03:38:59,532] Trial 179 finished with value: 0.45714285714285713 and parameters: {'epochs': 28, 'resolution': 100, 'n_conv_blocks': 2, 'filters': 16, 'kernel_size': 4, 'pool_size': 4, 'n_dense_blocks': 1, 'dense_nodes': 239, 'batch_size': 16}. Best is trial 162 with value: 0.5795918367346938.\n"
     ]
    },
    {
     "name": "stdout",
     "output_type": "stream",
     "text": [
      "running model having {'n_conv_blocks': 2, 'filters': 15, 'kernel_size': 4, 'pool_size': 5, 'n_dense_blocks': 1, 'dense_nodes': 245} with SpRes = 150 for epochs = 25\n"
     ]
    },
    {
     "name": "stderr",
     "output_type": "stream",
     "text": [
      "[I 2023-07-01 03:39:35,214] Trial 180 finished with value: 0.39183673469387753 and parameters: {'epochs': 25, 'resolution': 100, 'n_conv_blocks': 2, 'filters': 15, 'kernel_size': 4, 'pool_size': 5, 'n_dense_blocks': 1, 'dense_nodes': 245, 'batch_size': 17}. Best is trial 162 with value: 0.5795918367346938.\n"
     ]
    },
    {
     "name": "stdout",
     "output_type": "stream",
     "text": [
      "running model having {'n_conv_blocks': 2, 'filters': 16, 'kernel_size': 3, 'pool_size': 4, 'n_dense_blocks': 1, 'dense_nodes': 225} with SpRes = 150 for epochs = 26\n"
     ]
    },
    {
     "name": "stderr",
     "output_type": "stream",
     "text": [
      "[I 2023-07-01 03:40:06,258] Trial 181 finished with value: 0.4489795918367347 and parameters: {'epochs': 26, 'resolution': 100, 'n_conv_blocks': 2, 'filters': 16, 'kernel_size': 3, 'pool_size': 4, 'n_dense_blocks': 1, 'dense_nodes': 225, 'batch_size': 19}. Best is trial 162 with value: 0.5795918367346938.\n"
     ]
    },
    {
     "name": "stdout",
     "output_type": "stream",
     "text": [
      "running model having {'n_conv_blocks': 2, 'filters': 16, 'kernel_size': 4, 'pool_size': 6, 'n_dense_blocks': 1, 'dense_nodes': 128} with SpRes = 150 for epochs = 27\n"
     ]
    },
    {
     "name": "stderr",
     "output_type": "stream",
     "text": [
      "[I 2023-07-01 03:40:37,591] Trial 182 finished with value: 0.46530612244897956 and parameters: {'epochs': 27, 'resolution': 100, 'n_conv_blocks': 2, 'filters': 16, 'kernel_size': 4, 'pool_size': 6, 'n_dense_blocks': 1, 'dense_nodes': 128, 'batch_size': 18}. Best is trial 162 with value: 0.5795918367346938.\n"
     ]
    },
    {
     "name": "stdout",
     "output_type": "stream",
     "text": [
      "running model having {'n_conv_blocks': 2, 'filters': 15, 'kernel_size': 3, 'pool_size': 5, 'n_dense_blocks': 1, 'dense_nodes': 239} with SpRes = 150 for epochs = 30\n"
     ]
    },
    {
     "name": "stderr",
     "output_type": "stream",
     "text": [
      "[I 2023-07-01 03:41:12,310] Trial 183 finished with value: 0.46938775510204084 and parameters: {'epochs': 30, 'resolution': 120, 'n_conv_blocks': 2, 'filters': 15, 'kernel_size': 3, 'pool_size': 5, 'n_dense_blocks': 1, 'dense_nodes': 239, 'batch_size': 18}. Best is trial 162 with value: 0.5795918367346938.\n"
     ]
    },
    {
     "name": "stdout",
     "output_type": "stream",
     "text": [
      "running model having {'n_conv_blocks': 2, 'filters': 16, 'kernel_size': 4, 'pool_size': 2, 'n_dense_blocks': 1, 'dense_nodes': 223} with SpRes = 150 for epochs = 32\n"
     ]
    },
    {
     "name": "stderr",
     "output_type": "stream",
     "text": [
      "[I 2023-07-01 03:42:10,847] Trial 184 finished with value: 0.4489795918367347 and parameters: {'epochs': 32, 'resolution': 100, 'n_conv_blocks': 2, 'filters': 16, 'kernel_size': 4, 'pool_size': 2, 'n_dense_blocks': 1, 'dense_nodes': 223, 'batch_size': 17}. Best is trial 162 with value: 0.5795918367346938.\n"
     ]
    },
    {
     "name": "stdout",
     "output_type": "stream",
     "text": [
      "running model having {'n_conv_blocks': 2, 'filters': 15, 'kernel_size': 4, 'pool_size': 6, 'n_dense_blocks': 1, 'dense_nodes': 249} with SpRes = 150 for epochs = 31\n"
     ]
    },
    {
     "name": "stderr",
     "output_type": "stream",
     "text": [
      "[I 2023-07-01 03:42:50,522] Trial 185 finished with value: 0.4775510204081633 and parameters: {'epochs': 31, 'resolution': 150, 'n_conv_blocks': 2, 'filters': 15, 'kernel_size': 4, 'pool_size': 6, 'n_dense_blocks': 1, 'dense_nodes': 249, 'batch_size': 19}. Best is trial 162 with value: 0.5795918367346938.\n"
     ]
    },
    {
     "name": "stdout",
     "output_type": "stream",
     "text": [
      "running model having {'n_conv_blocks': 2, 'filters': 15, 'kernel_size': 4, 'pool_size': 6, 'n_dense_blocks': 1, 'dense_nodes': 215} with SpRes = 150 for epochs = 29\n"
     ]
    },
    {
     "name": "stderr",
     "output_type": "stream",
     "text": [
      "[I 2023-07-01 03:43:28,378] Trial 186 finished with value: 0.5224489795918368 and parameters: {'epochs': 29, 'resolution': 100, 'n_conv_blocks': 2, 'filters': 15, 'kernel_size': 4, 'pool_size': 6, 'n_dense_blocks': 1, 'dense_nodes': 215, 'batch_size': 21}. Best is trial 162 with value: 0.5795918367346938.\n"
     ]
    },
    {
     "name": "stdout",
     "output_type": "stream",
     "text": [
      "running model having {'n_conv_blocks': 2, 'filters': 15, 'kernel_size': 4, 'pool_size': 6, 'n_dense_blocks': 1, 'dense_nodes': 215} with SpRes = 150 for epochs = 29\n"
     ]
    },
    {
     "name": "stderr",
     "output_type": "stream",
     "text": [
      "[I 2023-07-01 03:44:05,589] Trial 187 finished with value: 0.39591836734693875 and parameters: {'epochs': 29, 'resolution': 100, 'n_conv_blocks': 2, 'filters': 15, 'kernel_size': 4, 'pool_size': 6, 'n_dense_blocks': 1, 'dense_nodes': 215, 'batch_size': 21}. Best is trial 162 with value: 0.5795918367346938.\n"
     ]
    },
    {
     "name": "stdout",
     "output_type": "stream",
     "text": [
      "running model having {'n_conv_blocks': 2, 'filters': 16, 'kernel_size': 4, 'pool_size': 6, 'n_dense_blocks': 1, 'dense_nodes': 229} with SpRes = 150 for epochs = 22\n"
     ]
    },
    {
     "name": "stderr",
     "output_type": "stream",
     "text": [
      "[I 2023-07-01 03:44:32,834] Trial 188 finished with value: 0.4897959183673469 and parameters: {'epochs': 22, 'resolution': 100, 'n_conv_blocks': 2, 'filters': 16, 'kernel_size': 4, 'pool_size': 6, 'n_dense_blocks': 1, 'dense_nodes': 229, 'batch_size': 23}. Best is trial 162 with value: 0.5795918367346938.\n"
     ]
    },
    {
     "name": "stdout",
     "output_type": "stream",
     "text": [
      "running model having {'n_conv_blocks': 2, 'filters': 15, 'kernel_size': 4, 'pool_size': 5, 'n_dense_blocks': 1, 'dense_nodes': 18} with SpRes = 150 for epochs = 28\n"
     ]
    },
    {
     "name": "stderr",
     "output_type": "stream",
     "text": [
      "[I 2023-07-01 03:45:02,819] Trial 189 finished with value: 0.2897959183673469 and parameters: {'epochs': 28, 'resolution': 100, 'n_conv_blocks': 2, 'filters': 15, 'kernel_size': 4, 'pool_size': 5, 'n_dense_blocks': 1, 'dense_nodes': 18, 'batch_size': 22}. Best is trial 162 with value: 0.5795918367346938.\n"
     ]
    },
    {
     "name": "stdout",
     "output_type": "stream",
     "text": [
      "running model having {'n_conv_blocks': 2, 'filters': 16, 'kernel_size': 4, 'pool_size': 6, 'n_dense_blocks': 1, 'dense_nodes': 210} with SpRes = 150 for epochs = 30\n"
     ]
    },
    {
     "name": "stderr",
     "output_type": "stream",
     "text": [
      "[I 2023-07-01 03:45:39,012] Trial 190 finished with value: 0.4816326530612245 and parameters: {'epochs': 30, 'resolution': 100, 'n_conv_blocks': 2, 'filters': 16, 'kernel_size': 4, 'pool_size': 6, 'n_dense_blocks': 1, 'dense_nodes': 210, 'batch_size': 20}. Best is trial 162 with value: 0.5795918367346938.\n"
     ]
    },
    {
     "name": "stdout",
     "output_type": "stream",
     "text": [
      "running model having {'n_conv_blocks': 2, 'filters': 15, 'kernel_size': 4, 'pool_size': 7, 'n_dense_blocks': 1, 'dense_nodes': 234} with SpRes = 150 for epochs = 31\n"
     ]
    },
    {
     "name": "stderr",
     "output_type": "stream",
     "text": [
      "[I 2023-07-01 03:46:15,521] Trial 191 finished with value: 0.49387755102040815 and parameters: {'epochs': 31, 'resolution': 150, 'n_conv_blocks': 2, 'filters': 15, 'kernel_size': 4, 'pool_size': 7, 'n_dense_blocks': 1, 'dense_nodes': 234, 'batch_size': 24}. Best is trial 162 with value: 0.5795918367346938.\n"
     ]
    },
    {
     "name": "stdout",
     "output_type": "stream",
     "text": [
      "running model having {'n_conv_blocks': 2, 'filters': 16, 'kernel_size': 3, 'pool_size': 5, 'n_dense_blocks': 1, 'dense_nodes': 221} with SpRes = 150 for epochs = 27\n"
     ]
    },
    {
     "name": "stderr",
     "output_type": "stream",
     "text": [
      "[I 2023-07-01 03:46:46,072] Trial 192 finished with value: 0.5346938775510204 and parameters: {'epochs': 27, 'resolution': 100, 'n_conv_blocks': 2, 'filters': 16, 'kernel_size': 3, 'pool_size': 5, 'n_dense_blocks': 1, 'dense_nodes': 221, 'batch_size': 18}. Best is trial 162 with value: 0.5795918367346938.\n"
     ]
    },
    {
     "name": "stdout",
     "output_type": "stream",
     "text": [
      "running model having {'n_conv_blocks': 2, 'filters': 16, 'kernel_size': 3, 'pool_size': 5, 'n_dense_blocks': 1, 'dense_nodes': 39} with SpRes = 150 for epochs = 27\n"
     ]
    },
    {
     "name": "stderr",
     "output_type": "stream",
     "text": [
      "[I 2023-07-01 03:47:11,368] Trial 193 finished with value: 0.3224489795918367 and parameters: {'epochs': 27, 'resolution': 100, 'n_conv_blocks': 2, 'filters': 16, 'kernel_size': 3, 'pool_size': 5, 'n_dense_blocks': 1, 'dense_nodes': 39, 'batch_size': 18}. Best is trial 162 with value: 0.5795918367346938.\n"
     ]
    },
    {
     "name": "stdout",
     "output_type": "stream",
     "text": [
      "running model having {'n_conv_blocks': 2, 'filters': 16, 'kernel_size': 3, 'pool_size': 5, 'n_dense_blocks': 1, 'dense_nodes': 224} with SpRes = 150 for epochs = 23\n"
     ]
    },
    {
     "name": "stderr",
     "output_type": "stream",
     "text": [
      "[I 2023-07-01 03:47:36,236] Trial 194 finished with value: 0.3469387755102041 and parameters: {'epochs': 23, 'resolution': 150, 'n_conv_blocks': 2, 'filters': 16, 'kernel_size': 3, 'pool_size': 5, 'n_dense_blocks': 1, 'dense_nodes': 224, 'batch_size': 18}. Best is trial 162 with value: 0.5795918367346938.\n"
     ]
    },
    {
     "name": "stdout",
     "output_type": "stream",
     "text": [
      "running model having {'n_conv_blocks': 2, 'filters': 16, 'kernel_size': 3, 'pool_size': 5, 'n_dense_blocks': 1, 'dense_nodes': 243} with SpRes = 150 for epochs = 26\n"
     ]
    },
    {
     "name": "stderr",
     "output_type": "stream",
     "text": [
      "[I 2023-07-01 03:48:05,970] Trial 195 finished with value: 0.5387755102040817 and parameters: {'epochs': 26, 'resolution': 120, 'n_conv_blocks': 2, 'filters': 16, 'kernel_size': 3, 'pool_size': 5, 'n_dense_blocks': 1, 'dense_nodes': 243, 'batch_size': 17}. Best is trial 162 with value: 0.5795918367346938.\n"
     ]
    },
    {
     "name": "stdout",
     "output_type": "stream",
     "text": [
      "running model having {'n_conv_blocks': 2, 'filters': 16, 'kernel_size': 3, 'pool_size': 5, 'n_dense_blocks': 1, 'dense_nodes': 242} with SpRes = 150 for epochs = 24\n"
     ]
    },
    {
     "name": "stderr",
     "output_type": "stream",
     "text": [
      "[I 2023-07-01 03:48:33,960] Trial 196 finished with value: 0.46122448979591835 and parameters: {'epochs': 24, 'resolution': 120, 'n_conv_blocks': 2, 'filters': 16, 'kernel_size': 3, 'pool_size': 5, 'n_dense_blocks': 1, 'dense_nodes': 242, 'batch_size': 17}. Best is trial 162 with value: 0.5795918367346938.\n"
     ]
    },
    {
     "name": "stdout",
     "output_type": "stream",
     "text": [
      "running model having {'n_conv_blocks': 2, 'filters': 16, 'kernel_size': 3, 'pool_size': 5, 'n_dense_blocks': 1, 'dense_nodes': 255} with SpRes = 150 for epochs = 26\n"
     ]
    },
    {
     "name": "stderr",
     "output_type": "stream",
     "text": [
      "[I 2023-07-01 03:49:04,689] Trial 197 finished with value: 0.4448979591836735 and parameters: {'epochs': 26, 'resolution': 120, 'n_conv_blocks': 2, 'filters': 16, 'kernel_size': 3, 'pool_size': 5, 'n_dense_blocks': 1, 'dense_nodes': 255, 'batch_size': 16}. Best is trial 162 with value: 0.5795918367346938.\n"
     ]
    },
    {
     "name": "stdout",
     "output_type": "stream",
     "text": [
      "running model having {'n_conv_blocks': 2, 'filters': 16, 'kernel_size': 3, 'pool_size': 5, 'n_dense_blocks': 1, 'dense_nodes': 233} with SpRes = 150 for epochs = 25\n"
     ]
    },
    {
     "name": "stderr",
     "output_type": "stream",
     "text": [
      "[I 2023-07-01 03:49:32,068] Trial 198 finished with value: 0.4816326530612245 and parameters: {'epochs': 25, 'resolution': 120, 'n_conv_blocks': 2, 'filters': 16, 'kernel_size': 3, 'pool_size': 5, 'n_dense_blocks': 1, 'dense_nodes': 233, 'batch_size': 19}. Best is trial 162 with value: 0.5795918367346938.\n"
     ]
    },
    {
     "name": "stdout",
     "output_type": "stream",
     "text": [
      "running model having {'n_conv_blocks': 2, 'filters': 16, 'kernel_size': 3, 'pool_size': 5, 'n_dense_blocks': 1, 'dense_nodes': 220} with SpRes = 150 for epochs = 27\n"
     ]
    },
    {
     "name": "stderr",
     "output_type": "stream",
     "text": [
      "[I 2023-07-01 03:50:02,930] Trial 199 finished with value: 0.46122448979591835 and parameters: {'epochs': 27, 'resolution': 120, 'n_conv_blocks': 2, 'filters': 16, 'kernel_size': 3, 'pool_size': 5, 'n_dense_blocks': 1, 'dense_nodes': 220, 'batch_size': 18}. Best is trial 162 with value: 0.5795918367346938.\n"
     ]
    },
    {
     "name": "stdout",
     "output_type": "stream",
     "text": [
      "running model having {'n_conv_blocks': 2, 'filters': 15, 'kernel_size': 3, 'pool_size': 5, 'n_dense_blocks': 1, 'dense_nodes': 247} with SpRes = 150 for epochs = 26\n"
     ]
    },
    {
     "name": "stderr",
     "output_type": "stream",
     "text": [
      "[I 2023-07-01 03:50:34,649] Trial 200 finished with value: 0.4775510204081633 and parameters: {'epochs': 26, 'resolution': 100, 'n_conv_blocks': 2, 'filters': 15, 'kernel_size': 3, 'pool_size': 5, 'n_dense_blocks': 1, 'dense_nodes': 247, 'batch_size': 17}. Best is trial 162 with value: 0.5795918367346938.\n"
     ]
    },
    {
     "name": "stdout",
     "output_type": "stream",
     "text": [
      "running model having {'n_conv_blocks': 2, 'filters': 16, 'kernel_size': 3, 'pool_size': 4, 'n_dense_blocks': 1, 'dense_nodes': 238} with SpRes = 150 for epochs = 25\n"
     ]
    },
    {
     "name": "stderr",
     "output_type": "stream",
     "text": [
      "[I 2023-07-01 03:51:19,155] Trial 201 finished with value: 0.5020408163265306 and parameters: {'epochs': 25, 'resolution': 50, 'n_conv_blocks': 2, 'filters': 16, 'kernel_size': 3, 'pool_size': 4, 'n_dense_blocks': 1, 'dense_nodes': 238, 'batch_size': 18}. Best is trial 162 with value: 0.5795918367346938.\n"
     ]
    },
    {
     "name": "stdout",
     "output_type": "stream",
     "text": [
      "running model having {'n_conv_blocks': 2, 'filters': 15, 'kernel_size': 4, 'pool_size': 7, 'n_dense_blocks': 1, 'dense_nodes': 243} with SpRes = 150 for epochs = 28\n"
     ]
    },
    {
     "name": "stderr",
     "output_type": "stream",
     "text": [
      "[I 2023-07-01 03:51:55,626] Trial 202 finished with value: 0.3142857142857143 and parameters: {'epochs': 28, 'resolution': 150, 'n_conv_blocks': 2, 'filters': 15, 'kernel_size': 4, 'pool_size': 7, 'n_dense_blocks': 1, 'dense_nodes': 243, 'batch_size': 16}. Best is trial 162 with value: 0.5795918367346938.\n"
     ]
    },
    {
     "name": "stdout",
     "output_type": "stream",
     "text": [
      "running model having {'n_conv_blocks': 2, 'filters': 16, 'kernel_size': 4, 'pool_size': 5, 'n_dense_blocks': 2, 'dense_nodes': 228} with SpRes = 150 for epochs = 26\n"
     ]
    },
    {
     "name": "stderr",
     "output_type": "stream",
     "text": [
      "[I 2023-07-01 03:52:33,188] Trial 203 finished with value: 0.49387755102040815 and parameters: {'epochs': 26, 'resolution': 120, 'n_conv_blocks': 2, 'filters': 16, 'kernel_size': 4, 'pool_size': 5, 'n_dense_blocks': 2, 'dense_nodes': 228, 'batch_size': 17}. Best is trial 162 with value: 0.5795918367346938.\n"
     ]
    },
    {
     "name": "stdout",
     "output_type": "stream",
     "text": [
      "running model having {'n_conv_blocks': 2, 'filters': 15, 'kernel_size': 3, 'pool_size': 3, 'n_dense_blocks': 1, 'dense_nodes': 232} with SpRes = 150 for epochs = 32\n"
     ]
    },
    {
     "name": "stderr",
     "output_type": "stream",
     "text": [
      "[I 2023-07-01 03:53:17,410] Trial 204 finished with value: 0.46122448979591835 and parameters: {'epochs': 32, 'resolution': 100, 'n_conv_blocks': 2, 'filters': 15, 'kernel_size': 3, 'pool_size': 3, 'n_dense_blocks': 1, 'dense_nodes': 232, 'batch_size': 19}. Best is trial 162 with value: 0.5795918367346938.\n"
     ]
    },
    {
     "name": "stdout",
     "output_type": "stream",
     "text": [
      "running model having {'n_conv_blocks': 2, 'filters': 16, 'kernel_size': 4, 'pool_size': 7, 'n_dense_blocks': 1, 'dense_nodes': 218} with SpRes = 150 for epochs = 24\n"
     ]
    },
    {
     "name": "stderr",
     "output_type": "stream",
     "text": [
      "[I 2023-07-01 03:53:52,510] Trial 205 finished with value: 0.47346938775510206 and parameters: {'epochs': 24, 'resolution': 50, 'n_conv_blocks': 2, 'filters': 16, 'kernel_size': 4, 'pool_size': 7, 'n_dense_blocks': 1, 'dense_nodes': 218, 'batch_size': 19}. Best is trial 162 with value: 0.5795918367346938.\n"
     ]
    },
    {
     "name": "stdout",
     "output_type": "stream",
     "text": [
      "running model having {'n_conv_blocks': 2, 'filters': 16, 'kernel_size': 4, 'pool_size': 7, 'n_dense_blocks': 1, 'dense_nodes': 225} with SpRes = 150 for epochs = 27\n"
     ]
    },
    {
     "name": "stderr",
     "output_type": "stream",
     "text": [
      "[I 2023-07-01 03:54:25,527] Trial 206 finished with value: 0.5346938775510204 and parameters: {'epochs': 27, 'resolution': 100, 'n_conv_blocks': 2, 'filters': 16, 'kernel_size': 4, 'pool_size': 7, 'n_dense_blocks': 1, 'dense_nodes': 225, 'batch_size': 18}. Best is trial 162 with value: 0.5795918367346938.\n"
     ]
    },
    {
     "name": "stdout",
     "output_type": "stream",
     "text": [
      "running model having {'n_conv_blocks': 2, 'filters': 16, 'kernel_size': 4, 'pool_size': 7, 'n_dense_blocks': 1, 'dense_nodes': 104} with SpRes = 150 for epochs = 27\n"
     ]
    },
    {
     "name": "stderr",
     "output_type": "stream",
     "text": [
      "[I 2023-07-01 03:54:56,039] Trial 207 finished with value: 0.4489795918367347 and parameters: {'epochs': 27, 'resolution': 100, 'n_conv_blocks': 2, 'filters': 16, 'kernel_size': 4, 'pool_size': 7, 'n_dense_blocks': 1, 'dense_nodes': 104, 'batch_size': 18}. Best is trial 162 with value: 0.5795918367346938.\n"
     ]
    },
    {
     "name": "stdout",
     "output_type": "stream",
     "text": [
      "running model having {'n_conv_blocks': 2, 'filters': 16, 'kernel_size': 4, 'pool_size': 7, 'n_dense_blocks': 1, 'dense_nodes': 224} with SpRes = 150 for epochs = 27\n"
     ]
    },
    {
     "name": "stderr",
     "output_type": "stream",
     "text": [
      "[I 2023-07-01 03:55:30,175] Trial 208 finished with value: 0.4448979591836735 and parameters: {'epochs': 27, 'resolution': 100, 'n_conv_blocks': 2, 'filters': 16, 'kernel_size': 4, 'pool_size': 7, 'n_dense_blocks': 1, 'dense_nodes': 224, 'batch_size': 18}. Best is trial 162 with value: 0.5795918367346938.\n"
     ]
    },
    {
     "name": "stdout",
     "output_type": "stream",
     "text": [
      "running model having {'n_conv_blocks': 2, 'filters': 15, 'kernel_size': 4, 'pool_size': 7, 'n_dense_blocks': 1, 'dense_nodes': 237} with SpRes = 150 for epochs = 26\n"
     ]
    },
    {
     "name": "stderr",
     "output_type": "stream",
     "text": [
      "[I 2023-07-01 03:56:03,543] Trial 209 finished with value: 0.4816326530612245 and parameters: {'epochs': 26, 'resolution': 100, 'n_conv_blocks': 2, 'filters': 15, 'kernel_size': 4, 'pool_size': 7, 'n_dense_blocks': 1, 'dense_nodes': 237, 'batch_size': 17}. Best is trial 162 with value: 0.5795918367346938.\n"
     ]
    },
    {
     "name": "stdout",
     "output_type": "stream",
     "text": [
      "running model having {'n_conv_blocks': 2, 'filters': 16, 'kernel_size': 4, 'pool_size': 7, 'n_dense_blocks': 1, 'dense_nodes': 252} with SpRes = 150 for epochs = 28\n"
     ]
    },
    {
     "name": "stderr",
     "output_type": "stream",
     "text": [
      "[I 2023-07-01 03:56:38,409] Trial 210 finished with value: 0.45714285714285713 and parameters: {'epochs': 28, 'resolution': 100, 'n_conv_blocks': 2, 'filters': 16, 'kernel_size': 4, 'pool_size': 7, 'n_dense_blocks': 1, 'dense_nodes': 252, 'batch_size': 18}. Best is trial 162 with value: 0.5795918367346938.\n"
     ]
    },
    {
     "name": "stdout",
     "output_type": "stream",
     "text": [
      "running model having {'n_conv_blocks': 2, 'filters': 9, 'kernel_size': 4, 'pool_size': 5, 'n_dense_blocks': 1, 'dense_nodes': 229} with SpRes = 150 for epochs = 25\n"
     ]
    },
    {
     "name": "stderr",
     "output_type": "stream",
     "text": [
      "[I 2023-07-01 03:57:10,219] Trial 211 finished with value: 0.4816326530612245 and parameters: {'epochs': 25, 'resolution': 50, 'n_conv_blocks': 2, 'filters': 9, 'kernel_size': 4, 'pool_size': 5, 'n_dense_blocks': 1, 'dense_nodes': 229, 'batch_size': 26}. Best is trial 162 with value: 0.5795918367346938.\n"
     ]
    },
    {
     "name": "stdout",
     "output_type": "stream",
     "text": [
      "running model having {'n_conv_blocks': 2, 'filters': 16, 'kernel_size': 4, 'pool_size': 7, 'n_dense_blocks': 2, 'dense_nodes': 211} with SpRes = 150 for epochs = 22\n"
     ]
    },
    {
     "name": "stderr",
     "output_type": "stream",
     "text": [
      "[I 2023-07-01 03:57:38,699] Trial 212 finished with value: 0.49387755102040815 and parameters: {'epochs': 22, 'resolution': 100, 'n_conv_blocks': 2, 'filters': 16, 'kernel_size': 4, 'pool_size': 7, 'n_dense_blocks': 2, 'dense_nodes': 211, 'batch_size': 19}. Best is trial 162 with value: 0.5795918367346938.\n"
     ]
    },
    {
     "name": "stdout",
     "output_type": "stream",
     "text": [
      "running model having {'n_conv_blocks': 2, 'filters': 15, 'kernel_size': 3, 'pool_size': 7, 'n_dense_blocks': 1, 'dense_nodes': 221} with SpRes = 150 for epochs = 23\n"
     ]
    },
    {
     "name": "stderr",
     "output_type": "stream",
     "text": [
      "[I 2023-07-01 03:57:59,851] Trial 213 finished with value: 0.40816326530612246 and parameters: {'epochs': 23, 'resolution': 150, 'n_conv_blocks': 2, 'filters': 15, 'kernel_size': 3, 'pool_size': 7, 'n_dense_blocks': 1, 'dense_nodes': 221, 'batch_size': 32}. Best is trial 162 with value: 0.5795918367346938.\n"
     ]
    },
    {
     "name": "stdout",
     "output_type": "stream",
     "text": [
      "running model having {'n_conv_blocks': 2, 'filters': 14, 'kernel_size': 4, 'pool_size': 5, 'n_dense_blocks': 2, 'dense_nodes': 206} with SpRes = 150 for epochs = 34\n"
     ]
    },
    {
     "name": "stderr",
     "output_type": "stream",
     "text": [
      "[I 2023-07-01 03:58:56,765] Trial 214 finished with value: 0.5428571428571428 and parameters: {'epochs': 34, 'resolution': 50, 'n_conv_blocks': 2, 'filters': 14, 'kernel_size': 4, 'pool_size': 5, 'n_dense_blocks': 2, 'dense_nodes': 206, 'batch_size': 17}. Best is trial 162 with value: 0.5795918367346938.\n"
     ]
    },
    {
     "name": "stdout",
     "output_type": "stream",
     "text": [
      "running model having {'n_conv_blocks': 2, 'filters': 14, 'kernel_size': 4, 'pool_size': 7, 'n_dense_blocks': 2, 'dense_nodes': 205} with SpRes = 150 for epochs = 34\n"
     ]
    },
    {
     "name": "stderr",
     "output_type": "stream",
     "text": [
      "[I 2023-07-01 03:59:50,706] Trial 215 finished with value: 0.4816326530612245 and parameters: {'epochs': 34, 'resolution': 50, 'n_conv_blocks': 2, 'filters': 14, 'kernel_size': 4, 'pool_size': 7, 'n_dense_blocks': 2, 'dense_nodes': 205, 'batch_size': 16}. Best is trial 162 with value: 0.5795918367346938.\n"
     ]
    },
    {
     "name": "stdout",
     "output_type": "stream",
     "text": [
      "running model having {'n_conv_blocks': 2, 'filters': 14, 'kernel_size': 4, 'pool_size': 4, 'n_dense_blocks': 2, 'dense_nodes': 193} with SpRes = 150 for epochs = 35\n"
     ]
    },
    {
     "name": "stderr",
     "output_type": "stream",
     "text": [
      "[I 2023-07-01 04:00:53,233] Trial 216 finished with value: 0.49795918367346936 and parameters: {'epochs': 35, 'resolution': 50, 'n_conv_blocks': 2, 'filters': 14, 'kernel_size': 4, 'pool_size': 4, 'n_dense_blocks': 2, 'dense_nodes': 193, 'batch_size': 17}. Best is trial 162 with value: 0.5795918367346938.\n"
     ]
    },
    {
     "name": "stdout",
     "output_type": "stream",
     "text": [
      "running model having {'n_conv_blocks': 2, 'filters': 16, 'kernel_size': 4, 'pool_size': 5, 'n_dense_blocks': 2, 'dense_nodes': 215} with SpRes = 150 for epochs = 33\n"
     ]
    },
    {
     "name": "stderr",
     "output_type": "stream",
     "text": [
      "[I 2023-07-01 04:01:52,201] Trial 217 finished with value: 0.5510204081632653 and parameters: {'epochs': 33, 'resolution': 50, 'n_conv_blocks': 2, 'filters': 16, 'kernel_size': 4, 'pool_size': 5, 'n_dense_blocks': 2, 'dense_nodes': 215, 'batch_size': 18}. Best is trial 162 with value: 0.5795918367346938.\n"
     ]
    },
    {
     "name": "stdout",
     "output_type": "stream",
     "text": [
      "running model having {'n_conv_blocks': 2, 'filters': 13, 'kernel_size': 4, 'pool_size': 5, 'n_dense_blocks': 2, 'dense_nodes': 216} with SpRes = 150 for epochs = 33\n"
     ]
    },
    {
     "name": "stderr",
     "output_type": "stream",
     "text": [
      "[I 2023-07-01 04:02:48,160] Trial 218 finished with value: 0.4122448979591837 and parameters: {'epochs': 33, 'resolution': 50, 'n_conv_blocks': 2, 'filters': 13, 'kernel_size': 4, 'pool_size': 5, 'n_dense_blocks': 2, 'dense_nodes': 216, 'batch_size': 17}. Best is trial 162 with value: 0.5795918367346938.\n"
     ]
    },
    {
     "name": "stdout",
     "output_type": "stream",
     "text": [
      "running model having {'n_conv_blocks': 2, 'filters': 16, 'kernel_size': 4, 'pool_size': 5, 'n_dense_blocks': 2, 'dense_nodes': 208} with SpRes = 150 for epochs = 35\n"
     ]
    },
    {
     "name": "stderr",
     "output_type": "stream",
     "text": [
      "[I 2023-07-01 04:03:47,945] Trial 219 finished with value: 0.5142857142857142 and parameters: {'epochs': 35, 'resolution': 50, 'n_conv_blocks': 2, 'filters': 16, 'kernel_size': 4, 'pool_size': 5, 'n_dense_blocks': 2, 'dense_nodes': 208, 'batch_size': 18}. Best is trial 162 with value: 0.5795918367346938.\n"
     ]
    },
    {
     "name": "stdout",
     "output_type": "stream",
     "text": [
      "running model having {'n_conv_blocks': 2, 'filters': 14, 'kernel_size': 4, 'pool_size': 5, 'n_dense_blocks': 2, 'dense_nodes': 199} with SpRes = 150 for epochs = 33\n"
     ]
    },
    {
     "name": "stderr",
     "output_type": "stream",
     "text": [
      "[I 2023-07-01 04:04:43,761] Trial 220 finished with value: 0.5020408163265306 and parameters: {'epochs': 33, 'resolution': 50, 'n_conv_blocks': 2, 'filters': 14, 'kernel_size': 4, 'pool_size': 5, 'n_dense_blocks': 2, 'dense_nodes': 199, 'batch_size': 17}. Best is trial 162 with value: 0.5795918367346938.\n"
     ]
    },
    {
     "name": "stdout",
     "output_type": "stream",
     "text": [
      "running model having {'n_conv_blocks': 2, 'filters': 15, 'kernel_size': 4, 'pool_size': 5, 'n_dense_blocks': 2, 'dense_nodes': 212} with SpRes = 150 for epochs = 34\n"
     ]
    },
    {
     "name": "stderr",
     "output_type": "stream",
     "text": [
      "[I 2023-07-01 04:05:43,570] Trial 221 finished with value: 0.4204081632653061 and parameters: {'epochs': 34, 'resolution': 50, 'n_conv_blocks': 2, 'filters': 15, 'kernel_size': 4, 'pool_size': 5, 'n_dense_blocks': 2, 'dense_nodes': 212, 'batch_size': 18}. Best is trial 162 with value: 0.5795918367346938.\n"
     ]
    },
    {
     "name": "stdout",
     "output_type": "stream",
     "text": [
      "running model having {'n_conv_blocks': 2, 'filters': 16, 'kernel_size': 4, 'pool_size': 7, 'n_dense_blocks': 2, 'dense_nodes': 225} with SpRes = 150 for epochs = 32\n"
     ]
    },
    {
     "name": "stderr",
     "output_type": "stream",
     "text": [
      "[I 2023-07-01 04:06:35,170] Trial 222 finished with value: 0.47346938775510206 and parameters: {'epochs': 32, 'resolution': 50, 'n_conv_blocks': 2, 'filters': 16, 'kernel_size': 4, 'pool_size': 7, 'n_dense_blocks': 2, 'dense_nodes': 225, 'batch_size': 17}. Best is trial 162 with value: 0.5795918367346938.\n"
     ]
    },
    {
     "name": "stdout",
     "output_type": "stream",
     "text": [
      "running model having {'n_conv_blocks': 2, 'filters': 15, 'kernel_size': 4, 'pool_size': 5, 'n_dense_blocks': 2, 'dense_nodes': 202} with SpRes = 150 for epochs = 31\n"
     ]
    },
    {
     "name": "stderr",
     "output_type": "stream",
     "text": [
      "[I 2023-07-01 04:07:28,572] Trial 223 finished with value: 0.5306122448979592 and parameters: {'epochs': 31, 'resolution': 50, 'n_conv_blocks': 2, 'filters': 15, 'kernel_size': 4, 'pool_size': 5, 'n_dense_blocks': 2, 'dense_nodes': 202, 'batch_size': 19}. Best is trial 162 with value: 0.5795918367346938.\n"
     ]
    },
    {
     "name": "stdout",
     "output_type": "stream",
     "text": [
      "running model having {'n_conv_blocks': 2, 'filters': 15, 'kernel_size': 4, 'pool_size': 5, 'n_dense_blocks': 2, 'dense_nodes': 188} with SpRes = 150 for epochs = 35\n"
     ]
    },
    {
     "name": "stderr",
     "output_type": "stream",
     "text": [
      "[I 2023-07-01 04:08:27,800] Trial 224 finished with value: 0.5142857142857142 and parameters: {'epochs': 35, 'resolution': 50, 'n_conv_blocks': 2, 'filters': 15, 'kernel_size': 4, 'pool_size': 5, 'n_dense_blocks': 2, 'dense_nodes': 188, 'batch_size': 19}. Best is trial 162 with value: 0.5795918367346938.\n"
     ]
    },
    {
     "name": "stdout",
     "output_type": "stream",
     "text": [
      "running model having {'n_conv_blocks': 2, 'filters': 15, 'kernel_size': 3, 'pool_size': 5, 'n_dense_blocks': 2, 'dense_nodes': 204} with SpRes = 150 for epochs = 36\n"
     ]
    },
    {
     "name": "stderr",
     "output_type": "stream",
     "text": [
      "[I 2023-07-01 04:09:22,918] Trial 225 finished with value: 0.5142857142857142 and parameters: {'epochs': 36, 'resolution': 50, 'n_conv_blocks': 2, 'filters': 15, 'kernel_size': 3, 'pool_size': 5, 'n_dense_blocks': 2, 'dense_nodes': 204, 'batch_size': 20}. Best is trial 162 with value: 0.5795918367346938.\n"
     ]
    },
    {
     "name": "stdout",
     "output_type": "stream",
     "text": [
      "running model having {'n_conv_blocks': 2, 'filters': 14, 'kernel_size': 4, 'pool_size': 5, 'n_dense_blocks': 2, 'dense_nodes': 180} with SpRes = 150 for epochs = 31\n"
     ]
    },
    {
     "name": "stderr",
     "output_type": "stream",
     "text": [
      "[I 2023-07-01 04:10:01,843] Trial 226 finished with value: 0.43673469387755104 and parameters: {'epochs': 31, 'resolution': 150, 'n_conv_blocks': 2, 'filters': 14, 'kernel_size': 4, 'pool_size': 5, 'n_dense_blocks': 2, 'dense_nodes': 180, 'batch_size': 18}. Best is trial 162 with value: 0.5795918367346938.\n"
     ]
    },
    {
     "name": "stdout",
     "output_type": "stream",
     "text": [
      "running model having {'n_conv_blocks': 2, 'filters': 16, 'kernel_size': 4, 'pool_size': 5, 'n_dense_blocks': 2, 'dense_nodes': 217} with SpRes = 150 for epochs = 32\n"
     ]
    },
    {
     "name": "stderr",
     "output_type": "stream",
     "text": [
      "[I 2023-07-01 04:10:56,944] Trial 227 finished with value: 0.5142857142857142 and parameters: {'epochs': 32, 'resolution': 50, 'n_conv_blocks': 2, 'filters': 16, 'kernel_size': 4, 'pool_size': 5, 'n_dense_blocks': 2, 'dense_nodes': 217, 'batch_size': 19}. Best is trial 162 with value: 0.5795918367346938.\n"
     ]
    },
    {
     "name": "stdout",
     "output_type": "stream",
     "text": [
      "running model having {'n_conv_blocks': 2, 'filters': 16, 'kernel_size': 4, 'pool_size': 5, 'n_dense_blocks': 2, 'dense_nodes': 202} with SpRes = 150 for epochs = 31\n"
     ]
    },
    {
     "name": "stderr",
     "output_type": "stream",
     "text": [
      "[I 2023-07-01 04:11:49,400] Trial 228 finished with value: 0.5591836734693878 and parameters: {'epochs': 31, 'resolution': 50, 'n_conv_blocks': 2, 'filters': 16, 'kernel_size': 4, 'pool_size': 5, 'n_dense_blocks': 2, 'dense_nodes': 202, 'batch_size': 18}. Best is trial 162 with value: 0.5795918367346938.\n"
     ]
    },
    {
     "name": "stdout",
     "output_type": "stream",
     "text": [
      "running model having {'n_conv_blocks': 2, 'filters': 15, 'kernel_size': 4, 'pool_size': 4, 'n_dense_blocks': 2, 'dense_nodes': 210} with SpRes = 150 for epochs = 31\n"
     ]
    },
    {
     "name": "stderr",
     "output_type": "stream",
     "text": [
      "[I 2023-07-01 04:12:50,043] Trial 229 finished with value: 0.4816326530612245 and parameters: {'epochs': 31, 'resolution': 50, 'n_conv_blocks': 2, 'filters': 15, 'kernel_size': 4, 'pool_size': 4, 'n_dense_blocks': 2, 'dense_nodes': 210, 'batch_size': 18}. Best is trial 162 with value: 0.5795918367346938.\n"
     ]
    },
    {
     "name": "stdout",
     "output_type": "stream",
     "text": [
      "running model having {'n_conv_blocks': 2, 'filters': 16, 'kernel_size': 4, 'pool_size': 5, 'n_dense_blocks': 2, 'dense_nodes': 199} with SpRes = 150 for epochs = 30\n"
     ]
    },
    {
     "name": "stderr",
     "output_type": "stream",
     "text": [
      "[I 2023-07-01 04:13:41,215] Trial 230 finished with value: 0.363265306122449 and parameters: {'epochs': 30, 'resolution': 50, 'n_conv_blocks': 2, 'filters': 16, 'kernel_size': 4, 'pool_size': 5, 'n_dense_blocks': 2, 'dense_nodes': 199, 'batch_size': 19}. Best is trial 162 with value: 0.5795918367346938.\n"
     ]
    },
    {
     "name": "stdout",
     "output_type": "stream",
     "text": [
      "running model having {'n_conv_blocks': 2, 'filters': 16, 'kernel_size': 4, 'pool_size': 5, 'n_dense_blocks': 2, 'dense_nodes': 192} with SpRes = 150 for epochs = 30\n"
     ]
    },
    {
     "name": "stderr",
     "output_type": "stream",
     "text": [
      "[I 2023-07-01 04:14:22,448] Trial 231 finished with value: 0.44081632653061226 and parameters: {'epochs': 30, 'resolution': 50, 'n_conv_blocks': 2, 'filters': 16, 'kernel_size': 4, 'pool_size': 5, 'n_dense_blocks': 2, 'dense_nodes': 192, 'batch_size': 32}. Best is trial 162 with value: 0.5795918367346938.\n"
     ]
    },
    {
     "name": "stdout",
     "output_type": "stream",
     "text": [
      "running model having {'n_conv_blocks': 2, 'filters': 13, 'kernel_size': 4, 'pool_size': 5, 'n_dense_blocks': 2, 'dense_nodes': 205} with SpRes = 150 for epochs = 31\n"
     ]
    },
    {
     "name": "stderr",
     "output_type": "stream",
     "text": [
      "[I 2023-07-01 04:15:14,674] Trial 232 finished with value: 0.39183673469387753 and parameters: {'epochs': 31, 'resolution': 50, 'n_conv_blocks': 2, 'filters': 13, 'kernel_size': 4, 'pool_size': 5, 'n_dense_blocks': 2, 'dense_nodes': 205, 'batch_size': 17}. Best is trial 162 with value: 0.5795918367346938.\n"
     ]
    },
    {
     "name": "stdout",
     "output_type": "stream",
     "text": [
      "running model having {'n_conv_blocks': 2, 'filters': 15, 'kernel_size': 4, 'pool_size': 5, 'n_dense_blocks': 2, 'dense_nodes': 195} with SpRes = 150 for epochs = 29\n"
     ]
    },
    {
     "name": "stderr",
     "output_type": "stream",
     "text": [
      "[I 2023-07-01 04:15:49,537] Trial 233 finished with value: 0.3224489795918367 and parameters: {'epochs': 29, 'resolution': 120, 'n_conv_blocks': 2, 'filters': 15, 'kernel_size': 4, 'pool_size': 5, 'n_dense_blocks': 2, 'dense_nodes': 195, 'batch_size': 31}. Best is trial 162 with value: 0.5795918367346938.\n"
     ]
    },
    {
     "name": "stdout",
     "output_type": "stream",
     "text": [
      "running model having {'n_conv_blocks': 2, 'filters': 16, 'kernel_size': 3, 'pool_size': 6, 'n_dense_blocks': 2, 'dense_nodes': 165} with SpRes = 150 for epochs = 34\n"
     ]
    },
    {
     "name": "stderr",
     "output_type": "stream",
     "text": [
      "[I 2023-07-01 04:16:36,464] Trial 234 finished with value: 0.5061224489795918 and parameters: {'epochs': 34, 'resolution': 50, 'n_conv_blocks': 2, 'filters': 16, 'kernel_size': 3, 'pool_size': 6, 'n_dense_blocks': 2, 'dense_nodes': 165, 'batch_size': 18}. Best is trial 162 with value: 0.5795918367346938.\n"
     ]
    },
    {
     "name": "stdout",
     "output_type": "stream",
     "text": [
      "running model having {'n_conv_blocks': 2, 'filters': 16, 'kernel_size': 4, 'pool_size': 3, 'n_dense_blocks': 2, 'dense_nodes': 219} with SpRes = 150 for epochs = 30\n"
     ]
    },
    {
     "name": "stderr",
     "output_type": "stream",
     "text": [
      "[I 2023-07-01 04:17:25,475] Trial 235 finished with value: 0.5346938775510204 and parameters: {'epochs': 30, 'resolution': 70, 'n_conv_blocks': 2, 'filters': 16, 'kernel_size': 4, 'pool_size': 3, 'n_dense_blocks': 2, 'dense_nodes': 219, 'batch_size': 24}. Best is trial 162 with value: 0.5795918367346938.\n"
     ]
    },
    {
     "name": "stdout",
     "output_type": "stream",
     "text": [
      "running model having {'n_conv_blocks': 2, 'filters': 16, 'kernel_size': 4, 'pool_size': 2, 'n_dense_blocks': 2, 'dense_nodes': 229} with SpRes = 150 for epochs = 30\n"
     ]
    },
    {
     "name": "stderr",
     "output_type": "stream",
     "text": [
      "[I 2023-07-01 04:18:20,139] Trial 236 finished with value: 0.42448979591836733 and parameters: {'epochs': 30, 'resolution': 70, 'n_conv_blocks': 2, 'filters': 16, 'kernel_size': 4, 'pool_size': 2, 'n_dense_blocks': 2, 'dense_nodes': 229, 'batch_size': 26}. Best is trial 162 with value: 0.5795918367346938.\n"
     ]
    },
    {
     "name": "stdout",
     "output_type": "stream",
     "text": [
      "running model having {'n_conv_blocks': 2, 'filters': 16, 'kernel_size': 4, 'pool_size': 3, 'n_dense_blocks': 2, 'dense_nodes': 214} with SpRes = 150 for epochs = 31\n"
     ]
    },
    {
     "name": "stderr",
     "output_type": "stream",
     "text": [
      "[I 2023-07-01 04:19:10,730] Trial 237 finished with value: 0.5265306122448979 and parameters: {'epochs': 31, 'resolution': 70, 'n_conv_blocks': 2, 'filters': 16, 'kernel_size': 4, 'pool_size': 3, 'n_dense_blocks': 2, 'dense_nodes': 214, 'batch_size': 24}. Best is trial 162 with value: 0.5795918367346938.\n"
     ]
    },
    {
     "name": "stdout",
     "output_type": "stream",
     "text": [
      "running model having {'n_conv_blocks': 2, 'filters': 16, 'kernel_size': 4, 'pool_size': 3, 'n_dense_blocks': 2, 'dense_nodes': 219} with SpRes = 150 for epochs = 31\n"
     ]
    },
    {
     "name": "stderr",
     "output_type": "stream",
     "text": [
      "[I 2023-07-01 04:20:01,017] Trial 238 finished with value: 0.43673469387755104 and parameters: {'epochs': 31, 'resolution': 70, 'n_conv_blocks': 2, 'filters': 16, 'kernel_size': 4, 'pool_size': 3, 'n_dense_blocks': 2, 'dense_nodes': 219, 'batch_size': 25}. Best is trial 162 with value: 0.5795918367346938.\n"
     ]
    },
    {
     "name": "stdout",
     "output_type": "stream",
     "text": [
      "running model having {'n_conv_blocks': 2, 'filters': 15, 'kernel_size': 4, 'pool_size': 3, 'n_dense_blocks': 2, 'dense_nodes': 214} with SpRes = 150 for epochs = 30\n"
     ]
    },
    {
     "name": "stderr",
     "output_type": "stream",
     "text": [
      "[I 2023-07-01 04:20:50,560] Trial 239 finished with value: 0.45714285714285713 and parameters: {'epochs': 30, 'resolution': 70, 'n_conv_blocks': 2, 'filters': 15, 'kernel_size': 4, 'pool_size': 3, 'n_dense_blocks': 2, 'dense_nodes': 214, 'batch_size': 24}. Best is trial 162 with value: 0.5795918367346938.\n"
     ]
    },
    {
     "name": "stdout",
     "output_type": "stream",
     "text": [
      "running model having {'n_conv_blocks': 2, 'filters': 16, 'kernel_size': 4, 'pool_size': 4, 'n_dense_blocks': 2, 'dense_nodes': 202} with SpRes = 150 for epochs = 31\n"
     ]
    },
    {
     "name": "stderr",
     "output_type": "stream",
     "text": [
      "[I 2023-07-01 04:21:35,901] Trial 240 finished with value: 0.4489795918367347 and parameters: {'epochs': 31, 'resolution': 70, 'n_conv_blocks': 2, 'filters': 16, 'kernel_size': 4, 'pool_size': 4, 'n_dense_blocks': 2, 'dense_nodes': 202, 'batch_size': 24}. Best is trial 162 with value: 0.5795918367346938.\n"
     ]
    },
    {
     "name": "stdout",
     "output_type": "stream",
     "text": [
      "running model having {'n_conv_blocks': 2, 'filters': 16, 'kernel_size': 4, 'pool_size': 3, 'n_dense_blocks': 2, 'dense_nodes': 223} with SpRes = 150 for epochs = 32\n"
     ]
    },
    {
     "name": "stderr",
     "output_type": "stream",
     "text": [
      "[I 2023-07-01 04:22:30,659] Trial 241 finished with value: 0.5265306122448979 and parameters: {'epochs': 32, 'resolution': 70, 'n_conv_blocks': 2, 'filters': 16, 'kernel_size': 4, 'pool_size': 3, 'n_dense_blocks': 2, 'dense_nodes': 223, 'batch_size': 23}. Best is trial 162 with value: 0.5795918367346938.\n"
     ]
    },
    {
     "name": "stdout",
     "output_type": "stream",
     "text": [
      "running model having {'n_conv_blocks': 2, 'filters': 16, 'kernel_size': 4, 'pool_size': 3, 'n_dense_blocks': 2, 'dense_nodes': 234} with SpRes = 150 for epochs = 32\n"
     ]
    },
    {
     "name": "stderr",
     "output_type": "stream",
     "text": [
      "[I 2023-07-01 04:23:24,321] Trial 242 finished with value: 0.5061224489795918 and parameters: {'epochs': 32, 'resolution': 70, 'n_conv_blocks': 2, 'filters': 16, 'kernel_size': 4, 'pool_size': 3, 'n_dense_blocks': 2, 'dense_nodes': 234, 'batch_size': 23}. Best is trial 162 with value: 0.5795918367346938.\n"
     ]
    },
    {
     "name": "stdout",
     "output_type": "stream",
     "text": [
      "running model having {'n_conv_blocks': 2, 'filters': 16, 'kernel_size': 4, 'pool_size': 3, 'n_dense_blocks': 2, 'dense_nodes': 221} with SpRes = 150 for epochs = 31\n"
     ]
    },
    {
     "name": "stderr",
     "output_type": "stream",
     "text": [
      "[I 2023-07-01 04:24:16,335] Trial 243 finished with value: 0.4775510204081633 and parameters: {'epochs': 31, 'resolution': 70, 'n_conv_blocks': 2, 'filters': 16, 'kernel_size': 4, 'pool_size': 3, 'n_dense_blocks': 2, 'dense_nodes': 221, 'batch_size': 23}. Best is trial 162 with value: 0.5795918367346938.\n"
     ]
    },
    {
     "name": "stdout",
     "output_type": "stream",
     "text": [
      "running model having {'n_conv_blocks': 2, 'filters': 16, 'kernel_size': 4, 'pool_size': 3, 'n_dense_blocks': 2, 'dense_nodes': 225} with SpRes = 150 for epochs = 32\n"
     ]
    },
    {
     "name": "stderr",
     "output_type": "stream",
     "text": [
      "[I 2023-07-01 04:25:09,132] Trial 244 finished with value: 0.5102040816326531 and parameters: {'epochs': 32, 'resolution': 70, 'n_conv_blocks': 2, 'filters': 16, 'kernel_size': 4, 'pool_size': 3, 'n_dense_blocks': 2, 'dense_nodes': 225, 'batch_size': 24}. Best is trial 162 with value: 0.5795918367346938.\n"
     ]
    },
    {
     "name": "stdout",
     "output_type": "stream",
     "text": [
      "running model having {'n_conv_blocks': 2, 'filters': 16, 'kernel_size': 4, 'pool_size': 3, 'n_dense_blocks': 2, 'dense_nodes': 246} with SpRes = 150 for epochs = 33\n"
     ]
    },
    {
     "name": "stderr",
     "output_type": "stream",
     "text": [
      "[I 2023-07-01 04:26:06,414] Trial 245 finished with value: 0.46938775510204084 and parameters: {'epochs': 33, 'resolution': 70, 'n_conv_blocks': 2, 'filters': 16, 'kernel_size': 4, 'pool_size': 3, 'n_dense_blocks': 2, 'dense_nodes': 246, 'batch_size': 24}. Best is trial 162 with value: 0.5795918367346938.\n"
     ]
    },
    {
     "name": "stdout",
     "output_type": "stream",
     "text": [
      "running model having {'n_conv_blocks': 2, 'filters': 16, 'kernel_size': 4, 'pool_size': 3, 'n_dense_blocks': 2, 'dense_nodes': 186} with SpRes = 150 for epochs = 27\n"
     ]
    },
    {
     "name": "stderr",
     "output_type": "stream",
     "text": [
      "[I 2023-07-01 04:26:49,781] Trial 246 finished with value: 0.45714285714285713 and parameters: {'epochs': 27, 'resolution': 70, 'n_conv_blocks': 2, 'filters': 16, 'kernel_size': 4, 'pool_size': 3, 'n_dense_blocks': 2, 'dense_nodes': 186, 'batch_size': 23}. Best is trial 162 with value: 0.5795918367346938.\n"
     ]
    },
    {
     "name": "stdout",
     "output_type": "stream",
     "text": [
      "running model having {'n_conv_blocks': 2, 'filters': 15, 'kernel_size': 4, 'pool_size': 3, 'n_dense_blocks': 2, 'dense_nodes': 214} with SpRes = 150 for epochs = 29\n"
     ]
    },
    {
     "name": "stderr",
     "output_type": "stream",
     "text": [
      "[I 2023-07-01 04:27:37,438] Trial 247 finished with value: 0.46122448979591835 and parameters: {'epochs': 29, 'resolution': 70, 'n_conv_blocks': 2, 'filters': 15, 'kernel_size': 4, 'pool_size': 3, 'n_dense_blocks': 2, 'dense_nodes': 214, 'batch_size': 25}. Best is trial 162 with value: 0.5795918367346938.\n"
     ]
    },
    {
     "name": "stdout",
     "output_type": "stream",
     "text": [
      "running model having {'n_conv_blocks': 2, 'filters': 15, 'kernel_size': 4, 'pool_size': 3, 'n_dense_blocks': 2, 'dense_nodes': 219} with SpRes = 150 for epochs = 31\n"
     ]
    },
    {
     "name": "stderr",
     "output_type": "stream",
     "text": [
      "[I 2023-07-01 04:28:29,452] Trial 248 finished with value: 0.39183673469387753 and parameters: {'epochs': 31, 'resolution': 70, 'n_conv_blocks': 2, 'filters': 15, 'kernel_size': 4, 'pool_size': 3, 'n_dense_blocks': 2, 'dense_nodes': 219, 'batch_size': 23}. Best is trial 162 with value: 0.5795918367346938.\n"
     ]
    },
    {
     "name": "stdout",
     "output_type": "stream",
     "text": [
      "running model having {'n_conv_blocks': 2, 'filters': 16, 'kernel_size': 4, 'pool_size': 3, 'n_dense_blocks': 2, 'dense_nodes': 227} with SpRes = 150 for epochs = 30\n"
     ]
    },
    {
     "name": "stderr",
     "output_type": "stream",
     "text": [
      "[I 2023-07-01 04:29:19,196] Trial 249 finished with value: 0.46938775510204084 and parameters: {'epochs': 30, 'resolution': 70, 'n_conv_blocks': 2, 'filters': 16, 'kernel_size': 4, 'pool_size': 3, 'n_dense_blocks': 2, 'dense_nodes': 227, 'batch_size': 25}. Best is trial 162 with value: 0.5795918367346938.\n"
     ]
    },
    {
     "name": "stdout",
     "output_type": "stream",
     "text": [
      "running model having {'n_conv_blocks': 2, 'filters': 16, 'kernel_size': 4, 'pool_size': 3, 'n_dense_blocks': 2, 'dense_nodes': 234} with SpRes = 150 for epochs = 33\n"
     ]
    },
    {
     "name": "stderr",
     "output_type": "stream",
     "text": [
      "[I 2023-07-01 04:30:09,073] Trial 250 finished with value: 0.5346938775510204 and parameters: {'epochs': 33, 'resolution': 100, 'n_conv_blocks': 2, 'filters': 16, 'kernel_size': 4, 'pool_size': 3, 'n_dense_blocks': 2, 'dense_nodes': 234, 'batch_size': 22}. Best is trial 162 with value: 0.5795918367346938.\n"
     ]
    },
    {
     "name": "stdout",
     "output_type": "stream",
     "text": [
      "running model having {'n_conv_blocks': 2, 'filters': 16, 'kernel_size': 4, 'pool_size': 3, 'n_dense_blocks': 2, 'dense_nodes': 241} with SpRes = 150 for epochs = 33\n"
     ]
    },
    {
     "name": "stderr",
     "output_type": "stream",
     "text": [
      "[I 2023-07-01 04:30:59,958] Trial 251 finished with value: 0.4775510204081633 and parameters: {'epochs': 33, 'resolution': 100, 'n_conv_blocks': 2, 'filters': 16, 'kernel_size': 4, 'pool_size': 3, 'n_dense_blocks': 2, 'dense_nodes': 241, 'batch_size': 23}. Best is trial 162 with value: 0.5795918367346938.\n"
     ]
    },
    {
     "name": "stdout",
     "output_type": "stream",
     "text": [
      "running model having {'n_conv_blocks': 2, 'filters': 16, 'kernel_size': 4, 'pool_size': 2, 'n_dense_blocks': 2, 'dense_nodes': 232} with SpRes = 150 for epochs = 32\n"
     ]
    },
    {
     "name": "stderr",
     "output_type": "stream",
     "text": [
      "[I 2023-07-01 04:31:54,194] Trial 252 finished with value: 0.45714285714285713 and parameters: {'epochs': 32, 'resolution': 100, 'n_conv_blocks': 2, 'filters': 16, 'kernel_size': 4, 'pool_size': 2, 'n_dense_blocks': 2, 'dense_nodes': 232, 'batch_size': 22}. Best is trial 162 with value: 0.5795918367346938.\n"
     ]
    },
    {
     "name": "stdout",
     "output_type": "stream",
     "text": [
      "running model having {'n_conv_blocks': 2, 'filters': 16, 'kernel_size': 4, 'pool_size': 3, 'n_dense_blocks': 2, 'dense_nodes': 234} with SpRes = 150 for epochs = 33\n"
     ]
    },
    {
     "name": "stderr",
     "output_type": "stream",
     "text": [
      "[I 2023-07-01 04:32:45,272] Trial 253 finished with value: 0.45714285714285713 and parameters: {'epochs': 33, 'resolution': 100, 'n_conv_blocks': 2, 'filters': 16, 'kernel_size': 4, 'pool_size': 3, 'n_dense_blocks': 2, 'dense_nodes': 234, 'batch_size': 22}. Best is trial 162 with value: 0.5795918367346938.\n"
     ]
    },
    {
     "name": "stdout",
     "output_type": "stream",
     "text": [
      "running model having {'n_conv_blocks': 2, 'filters': 16, 'kernel_size': 4, 'pool_size': 3, 'n_dense_blocks': 2, 'dense_nodes': 176} with SpRes = 150 for epochs = 32\n"
     ]
    },
    {
     "name": "stderr",
     "output_type": "stream",
     "text": [
      "[I 2023-07-01 04:33:25,129] Trial 254 finished with value: 0.5142857142857142 and parameters: {'epochs': 32, 'resolution': 100, 'n_conv_blocks': 2, 'filters': 16, 'kernel_size': 4, 'pool_size': 3, 'n_dense_blocks': 2, 'dense_nodes': 176, 'batch_size': 24}. Best is trial 162 with value: 0.5795918367346938.\n"
     ]
    },
    {
     "name": "stdout",
     "output_type": "stream",
     "text": [
      "running model having {'n_conv_blocks': 2, 'filters': 16, 'kernel_size': 4, 'pool_size': 3, 'n_dense_blocks': 2, 'dense_nodes': 67} with SpRes = 150 for epochs = 27\n"
     ]
    },
    {
     "name": "stderr",
     "output_type": "stream",
     "text": [
      "[I 2023-07-01 04:33:56,230] Trial 255 finished with value: 0.49387755102040815 and parameters: {'epochs': 27, 'resolution': 100, 'n_conv_blocks': 2, 'filters': 16, 'kernel_size': 4, 'pool_size': 3, 'n_dense_blocks': 2, 'dense_nodes': 67, 'batch_size': 20}. Best is trial 162 with value: 0.5795918367346938.\n"
     ]
    },
    {
     "name": "stdout",
     "output_type": "stream",
     "text": [
      "running model having {'n_conv_blocks': 2, 'filters': 16, 'kernel_size': 4, 'pool_size': 3, 'n_dense_blocks': 2, 'dense_nodes': 239} with SpRes = 150 for epochs = 24\n"
     ]
    },
    {
     "name": "stderr",
     "output_type": "stream",
     "text": [
      "[I 2023-07-01 04:34:36,045] Trial 256 finished with value: 0.46122448979591835 and parameters: {'epochs': 24, 'resolution': 70, 'n_conv_blocks': 2, 'filters': 16, 'kernel_size': 4, 'pool_size': 3, 'n_dense_blocks': 2, 'dense_nodes': 239, 'batch_size': 18}. Best is trial 162 with value: 0.5795918367346938.\n"
     ]
    },
    {
     "name": "stdout",
     "output_type": "stream",
     "text": [
      "running model having {'n_conv_blocks': 2, 'filters': 15, 'kernel_size': 4, 'pool_size': 5, 'n_dense_blocks': 2, 'dense_nodes': 222} with SpRes = 150 for epochs = 30\n"
     ]
    },
    {
     "name": "stderr",
     "output_type": "stream",
     "text": [
      "[I 2023-07-01 04:35:18,992] Trial 257 finished with value: 0.4163265306122449 and parameters: {'epochs': 30, 'resolution': 50, 'n_conv_blocks': 2, 'filters': 15, 'kernel_size': 4, 'pool_size': 5, 'n_dense_blocks': 2, 'dense_nodes': 222, 'batch_size': 23}. Best is trial 162 with value: 0.5795918367346938.\n"
     ]
    },
    {
     "name": "stdout",
     "output_type": "stream",
     "text": [
      "running model having {'n_conv_blocks': 2, 'filters': 15, 'kernel_size': 4, 'pool_size': 5, 'n_dense_blocks': 2, 'dense_nodes': 211} with SpRes = 150 for epochs = 28\n"
     ]
    },
    {
     "name": "stderr",
     "output_type": "stream",
     "text": [
      "[I 2023-07-01 04:35:55,063] Trial 258 finished with value: 0.5346938775510204 and parameters: {'epochs': 28, 'resolution': 100, 'n_conv_blocks': 2, 'filters': 15, 'kernel_size': 4, 'pool_size': 5, 'n_dense_blocks': 2, 'dense_nodes': 211, 'batch_size': 18}. Best is trial 162 with value: 0.5795918367346938.\n"
     ]
    },
    {
     "name": "stdout",
     "output_type": "stream",
     "text": [
      "running model having {'n_conv_blocks': 2, 'filters': 15, 'kernel_size': 4, 'pool_size': 5, 'n_dense_blocks': 2, 'dense_nodes': 211} with SpRes = 150 for epochs = 26\n"
     ]
    },
    {
     "name": "stderr",
     "output_type": "stream",
     "text": [
      "[I 2023-07-01 04:36:25,731] Trial 259 finished with value: 0.3510204081632653 and parameters: {'epochs': 26, 'resolution': 100, 'n_conv_blocks': 2, 'filters': 15, 'kernel_size': 4, 'pool_size': 5, 'n_dense_blocks': 2, 'dense_nodes': 211, 'batch_size': 22}. Best is trial 162 with value: 0.5795918367346938.\n"
     ]
    },
    {
     "name": "stdout",
     "output_type": "stream",
     "text": [
      "running model having {'n_conv_blocks': 2, 'filters': 14, 'kernel_size': 4, 'pool_size': 5, 'n_dense_blocks': 2, 'dense_nodes': 208} with SpRes = 150 for epochs = 28\n"
     ]
    },
    {
     "name": "stderr",
     "output_type": "stream",
     "text": [
      "[I 2023-07-01 04:37:00,955] Trial 260 finished with value: 0.3551020408163265 and parameters: {'epochs': 28, 'resolution': 100, 'n_conv_blocks': 2, 'filters': 14, 'kernel_size': 4, 'pool_size': 5, 'n_dense_blocks': 2, 'dense_nodes': 208, 'batch_size': 18}. Best is trial 162 with value: 0.5795918367346938.\n"
     ]
    },
    {
     "name": "stdout",
     "output_type": "stream",
     "text": [
      "running model having {'n_conv_blocks': 2, 'filters': 16, 'kernel_size': 4, 'pool_size': 5, 'n_dense_blocks': 2, 'dense_nodes': 228} with SpRes = 150 for epochs = 32\n"
     ]
    },
    {
     "name": "stderr",
     "output_type": "stream",
     "text": [
      "[I 2023-07-01 04:37:41,749] Trial 261 finished with value: 0.5346938775510204 and parameters: {'epochs': 32, 'resolution': 100, 'n_conv_blocks': 2, 'filters': 16, 'kernel_size': 4, 'pool_size': 5, 'n_dense_blocks': 2, 'dense_nodes': 228, 'batch_size': 18}. Best is trial 162 with value: 0.5795918367346938.\n"
     ]
    },
    {
     "name": "stdout",
     "output_type": "stream",
     "text": [
      "running model having {'n_conv_blocks': 2, 'filters': 15, 'kernel_size': 4, 'pool_size': 5, 'n_dense_blocks': 2, 'dense_nodes': 229} with SpRes = 150 for epochs = 23\n"
     ]
    },
    {
     "name": "stderr",
     "output_type": "stream",
     "text": [
      "[I 2023-07-01 04:38:12,373] Trial 262 finished with value: 0.42857142857142855 and parameters: {'epochs': 23, 'resolution': 100, 'n_conv_blocks': 2, 'filters': 15, 'kernel_size': 4, 'pool_size': 5, 'n_dense_blocks': 2, 'dense_nodes': 229, 'batch_size': 18}. Best is trial 162 with value: 0.5795918367346938.\n"
     ]
    },
    {
     "name": "stdout",
     "output_type": "stream",
     "text": [
      "running model having {'n_conv_blocks': 2, 'filters': 16, 'kernel_size': 4, 'pool_size': 5, 'n_dense_blocks': 1, 'dense_nodes': 243} with SpRes = 150 for epochs = 34\n"
     ]
    },
    {
     "name": "stderr",
     "output_type": "stream",
     "text": [
      "[I 2023-07-01 04:38:55,383] Trial 263 finished with value: 0.5510204081632653 and parameters: {'epochs': 34, 'resolution': 100, 'n_conv_blocks': 2, 'filters': 16, 'kernel_size': 4, 'pool_size': 5, 'n_dense_blocks': 1, 'dense_nodes': 243, 'batch_size': 17}. Best is trial 162 with value: 0.5795918367346938.\n"
     ]
    },
    {
     "name": "stdout",
     "output_type": "stream",
     "text": [
      "running model having {'n_conv_blocks': 2, 'filters': 16, 'kernel_size': 4, 'pool_size': 5, 'n_dense_blocks': 1, 'dense_nodes': 236} with SpRes = 150 for epochs = 33\n"
     ]
    },
    {
     "name": "stderr",
     "output_type": "stream",
     "text": [
      "[I 2023-07-01 04:39:37,016] Trial 264 finished with value: 0.5020408163265306 and parameters: {'epochs': 33, 'resolution': 100, 'n_conv_blocks': 2, 'filters': 16, 'kernel_size': 4, 'pool_size': 5, 'n_dense_blocks': 1, 'dense_nodes': 236, 'batch_size': 17}. Best is trial 162 with value: 0.5795918367346938.\n"
     ]
    },
    {
     "name": "stdout",
     "output_type": "stream",
     "text": [
      "running model having {'n_conv_blocks': 2, 'filters': 16, 'kernel_size': 4, 'pool_size': 5, 'n_dense_blocks': 1, 'dense_nodes': 250} with SpRes = 150 for epochs = 34\n"
     ]
    },
    {
     "name": "stderr",
     "output_type": "stream",
     "text": [
      "[I 2023-07-01 04:40:20,237] Trial 265 finished with value: 0.40816326530612246 and parameters: {'epochs': 34, 'resolution': 100, 'n_conv_blocks': 2, 'filters': 16, 'kernel_size': 4, 'pool_size': 5, 'n_dense_blocks': 1, 'dense_nodes': 250, 'batch_size': 17}. Best is trial 162 with value: 0.5795918367346938.\n"
     ]
    },
    {
     "name": "stdout",
     "output_type": "stream",
     "text": [
      "running model having {'n_conv_blocks': 2, 'filters': 15, 'kernel_size': 4, 'pool_size': 5, 'n_dense_blocks': 1, 'dense_nodes': 237} with SpRes = 150 for epochs = 27\n"
     ]
    },
    {
     "name": "stderr",
     "output_type": "stream",
     "text": [
      "[I 2023-07-01 04:40:54,426] Trial 266 finished with value: 0.46530612244897956 and parameters: {'epochs': 27, 'resolution': 100, 'n_conv_blocks': 2, 'filters': 15, 'kernel_size': 4, 'pool_size': 5, 'n_dense_blocks': 1, 'dense_nodes': 237, 'batch_size': 18}. Best is trial 162 with value: 0.5795918367346938.\n"
     ]
    },
    {
     "name": "stdout",
     "output_type": "stream",
     "text": [
      "running model having {'n_conv_blocks': 2, 'filters': 16, 'kernel_size': 4, 'pool_size': 5, 'n_dense_blocks': 1, 'dense_nodes': 244} with SpRes = 150 for epochs = 31\n"
     ]
    },
    {
     "name": "stderr",
     "output_type": "stream",
     "text": [
      "[I 2023-07-01 04:41:32,867] Trial 267 finished with value: 0.4326530612244898 and parameters: {'epochs': 31, 'resolution': 100, 'n_conv_blocks': 2, 'filters': 16, 'kernel_size': 4, 'pool_size': 5, 'n_dense_blocks': 1, 'dense_nodes': 244, 'batch_size': 18}. Best is trial 162 with value: 0.5795918367346938.\n"
     ]
    },
    {
     "name": "stdout",
     "output_type": "stream",
     "text": [
      "running model having {'n_conv_blocks': 2, 'filters': 16, 'kernel_size': 4, 'pool_size': 5, 'n_dense_blocks': 1, 'dense_nodes': 242} with SpRes = 150 for epochs = 33\n"
     ]
    },
    {
     "name": "stderr",
     "output_type": "stream",
     "text": [
      "[I 2023-07-01 04:42:13,453] Trial 268 finished with value: 0.42448979591836733 and parameters: {'epochs': 33, 'resolution': 100, 'n_conv_blocks': 2, 'filters': 16, 'kernel_size': 4, 'pool_size': 5, 'n_dense_blocks': 1, 'dense_nodes': 242, 'batch_size': 19}. Best is trial 162 with value: 0.5795918367346938.\n"
     ]
    },
    {
     "name": "stdout",
     "output_type": "stream",
     "text": [
      "running model having {'n_conv_blocks': 1, 'filters': 16, 'kernel_size': 4, 'pool_size': 5, 'n_dense_blocks': 1, 'dense_nodes': 248} with SpRes = 150 for epochs = 28\n"
     ]
    },
    {
     "name": "stderr",
     "output_type": "stream",
     "text": [
      "[I 2023-07-01 04:43:12,297] Trial 269 finished with value: 0.2938775510204082 and parameters: {'epochs': 28, 'resolution': 100, 'n_conv_blocks': 1, 'filters': 16, 'kernel_size': 4, 'pool_size': 5, 'n_dense_blocks': 1, 'dense_nodes': 248, 'batch_size': 18}. Best is trial 162 with value: 0.5795918367346938.\n"
     ]
    },
    {
     "name": "stdout",
     "output_type": "stream",
     "text": [
      "running model having {'n_conv_blocks': 2, 'filters': 16, 'kernel_size': 4, 'pool_size': 5, 'n_dense_blocks': 2, 'dense_nodes': 231} with SpRes = 150 for epochs = 34\n"
     ]
    },
    {
     "name": "stderr",
     "output_type": "stream",
     "text": [
      "[I 2023-07-01 04:43:58,386] Trial 270 finished with value: 0.4530612244897959 and parameters: {'epochs': 34, 'resolution': 100, 'n_conv_blocks': 2, 'filters': 16, 'kernel_size': 4, 'pool_size': 5, 'n_dense_blocks': 2, 'dense_nodes': 231, 'batch_size': 17}. Best is trial 162 with value: 0.5795918367346938.\n"
     ]
    },
    {
     "name": "stdout",
     "output_type": "stream",
     "text": [
      "running model having {'n_conv_blocks': 2, 'filters': 15, 'kernel_size': 4, 'pool_size': 5, 'n_dense_blocks': 1, 'dense_nodes': 203} with SpRes = 150 for epochs = 31\n"
     ]
    },
    {
     "name": "stderr",
     "output_type": "stream",
     "text": [
      "[I 2023-07-01 04:44:36,779] Trial 271 finished with value: 0.5142857142857142 and parameters: {'epochs': 31, 'resolution': 100, 'n_conv_blocks': 2, 'filters': 15, 'kernel_size': 4, 'pool_size': 5, 'n_dense_blocks': 1, 'dense_nodes': 203, 'batch_size': 18}. Best is trial 162 with value: 0.5795918367346938.\n"
     ]
    },
    {
     "name": "stdout",
     "output_type": "stream",
     "text": [
      "running model having {'n_conv_blocks': 2, 'filters': 16, 'kernel_size': 4, 'pool_size': 5, 'n_dense_blocks': 1, 'dense_nodes': 216} with SpRes = 150 for epochs = 26\n"
     ]
    },
    {
     "name": "stderr",
     "output_type": "stream",
     "text": [
      "[I 2023-07-01 04:45:07,933] Trial 272 finished with value: 0.4326530612244898 and parameters: {'epochs': 26, 'resolution': 120, 'n_conv_blocks': 2, 'filters': 16, 'kernel_size': 4, 'pool_size': 5, 'n_dense_blocks': 1, 'dense_nodes': 216, 'batch_size': 19}. Best is trial 162 with value: 0.5795918367346938.\n"
     ]
    },
    {
     "name": "stdout",
     "output_type": "stream",
     "text": [
      "running model having {'n_conv_blocks': 2, 'filters': 16, 'kernel_size': 4, 'pool_size': 5, 'n_dense_blocks': 2, 'dense_nodes': 225} with SpRes = 150 for epochs = 32\n"
     ]
    },
    {
     "name": "stderr",
     "output_type": "stream",
     "text": [
      "[I 2023-07-01 04:45:49,791] Trial 273 finished with value: 0.4326530612244898 and parameters: {'epochs': 32, 'resolution': 100, 'n_conv_blocks': 2, 'filters': 16, 'kernel_size': 4, 'pool_size': 5, 'n_dense_blocks': 2, 'dense_nodes': 225, 'batch_size': 17}. Best is trial 162 with value: 0.5795918367346938.\n"
     ]
    },
    {
     "name": "stdout",
     "output_type": "stream",
     "text": [
      "running model having {'n_conv_blocks': 2, 'filters': 15, 'kernel_size': 4, 'pool_size': 5, 'n_dense_blocks': 2, 'dense_nodes': 207} with SpRes = 150 for epochs = 27\n"
     ]
    },
    {
     "name": "stderr",
     "output_type": "stream",
     "text": [
      "[I 2023-07-01 04:46:31,833] Trial 274 finished with value: 0.39183673469387753 and parameters: {'epochs': 27, 'resolution': 50, 'n_conv_blocks': 2, 'filters': 15, 'kernel_size': 4, 'pool_size': 5, 'n_dense_blocks': 2, 'dense_nodes': 207, 'batch_size': 18}. Best is trial 162 with value: 0.5795918367346938.\n"
     ]
    },
    {
     "name": "stdout",
     "output_type": "stream",
     "text": [
      "running model having {'n_conv_blocks': 2, 'filters': 16, 'kernel_size': 4, 'pool_size': 5, 'n_dense_blocks': 1, 'dense_nodes': 229} with SpRes = 150 for epochs = 29\n"
     ]
    },
    {
     "name": "stderr",
     "output_type": "stream",
     "text": [
      "[I 2023-07-01 04:47:08,880] Trial 275 finished with value: 0.4897959183673469 and parameters: {'epochs': 29, 'resolution': 100, 'n_conv_blocks': 2, 'filters': 16, 'kernel_size': 4, 'pool_size': 5, 'n_dense_blocks': 1, 'dense_nodes': 229, 'batch_size': 16}. Best is trial 162 with value: 0.5795918367346938.\n"
     ]
    },
    {
     "name": "stdout",
     "output_type": "stream",
     "text": [
      "running model having {'n_conv_blocks': 2, 'filters': 16, 'kernel_size': 4, 'pool_size': 5, 'n_dense_blocks': 2, 'dense_nodes': 198} with SpRes = 150 for epochs = 34\n"
     ]
    },
    {
     "name": "stderr",
     "output_type": "stream",
     "text": [
      "[I 2023-07-01 04:48:00,567] Trial 276 finished with value: 0.4489795918367347 and parameters: {'epochs': 34, 'resolution': 50, 'n_conv_blocks': 2, 'filters': 16, 'kernel_size': 4, 'pool_size': 5, 'n_dense_blocks': 2, 'dense_nodes': 198, 'batch_size': 18}. Best is trial 162 with value: 0.5795918367346938.\n"
     ]
    },
    {
     "name": "stdout",
     "output_type": "stream",
     "text": [
      "running model having {'n_conv_blocks': 2, 'filters': 16, 'kernel_size': 4, 'pool_size': 5, 'n_dense_blocks': 2, 'dense_nodes': 222} with SpRes = 150 for epochs = 32\n"
     ]
    },
    {
     "name": "stderr",
     "output_type": "stream",
     "text": [
      "[I 2023-07-01 04:48:41,970] Trial 277 finished with value: 0.5061224489795918 and parameters: {'epochs': 32, 'resolution': 70, 'n_conv_blocks': 2, 'filters': 16, 'kernel_size': 4, 'pool_size': 5, 'n_dense_blocks': 2, 'dense_nodes': 222, 'batch_size': 21}. Best is trial 162 with value: 0.5795918367346938.\n"
     ]
    },
    {
     "name": "stdout",
     "output_type": "stream",
     "text": [
      "running model having {'n_conv_blocks': 2, 'filters': 16, 'kernel_size': 4, 'pool_size': 5, 'n_dense_blocks': 2, 'dense_nodes': 218} with SpRes = 150 for epochs = 32\n"
     ]
    },
    {
     "name": "stderr",
     "output_type": "stream",
     "text": [
      "[I 2023-07-01 04:49:18,781] Trial 278 finished with value: 0.363265306122449 and parameters: {'epochs': 32, 'resolution': 100, 'n_conv_blocks': 2, 'filters': 16, 'kernel_size': 4, 'pool_size': 5, 'n_dense_blocks': 2, 'dense_nodes': 218, 'batch_size': 24}. Best is trial 162 with value: 0.5795918367346938.\n"
     ]
    },
    {
     "name": "stdout",
     "output_type": "stream",
     "text": [
      "running model having {'n_conv_blocks': 2, 'filters': 16, 'kernel_size': 4, 'pool_size': 5, 'n_dense_blocks': 2, 'dense_nodes': 226} with SpRes = 150 for epochs = 31\n"
     ]
    },
    {
     "name": "stderr",
     "output_type": "stream",
     "text": [
      "[I 2023-07-01 04:50:09,025] Trial 279 finished with value: 0.4326530612244898 and parameters: {'epochs': 31, 'resolution': 50, 'n_conv_blocks': 2, 'filters': 16, 'kernel_size': 4, 'pool_size': 5, 'n_dense_blocks': 2, 'dense_nodes': 226, 'batch_size': 17}. Best is trial 162 with value: 0.5795918367346938.\n"
     ]
    },
    {
     "name": "stdout",
     "output_type": "stream",
     "text": [
      "running model having {'n_conv_blocks': 2, 'filters': 16, 'kernel_size': 4, 'pool_size': 3, 'n_dense_blocks': 2, 'dense_nodes': 235} with SpRes = 150 for epochs = 22\n"
     ]
    },
    {
     "name": "stderr",
     "output_type": "stream",
     "text": [
      "[I 2023-07-01 04:50:42,668] Trial 280 finished with value: 0.45714285714285713 and parameters: {'epochs': 22, 'resolution': 100, 'n_conv_blocks': 2, 'filters': 16, 'kernel_size': 4, 'pool_size': 3, 'n_dense_blocks': 2, 'dense_nodes': 235, 'batch_size': 18}. Best is trial 162 with value: 0.5795918367346938.\n"
     ]
    },
    {
     "name": "stdout",
     "output_type": "stream",
     "text": [
      "running model having {'n_conv_blocks': 2, 'filters': 16, 'kernel_size': 4, 'pool_size': 7, 'n_dense_blocks': 2, 'dense_nodes': 215} with SpRes = 150 for epochs = 33\n"
     ]
    },
    {
     "name": "stderr",
     "output_type": "stream",
     "text": [
      "[I 2023-07-01 04:51:24,357] Trial 281 finished with value: 0.5183673469387755 and parameters: {'epochs': 33, 'resolution': 70, 'n_conv_blocks': 2, 'filters': 16, 'kernel_size': 4, 'pool_size': 7, 'n_dense_blocks': 2, 'dense_nodes': 215, 'batch_size': 19}. Best is trial 162 with value: 0.5795918367346938.\n"
     ]
    },
    {
     "name": "stdout",
     "output_type": "stream",
     "text": [
      "running model having {'n_conv_blocks': 2, 'filters': 14, 'kernel_size': 4, 'pool_size': 5, 'n_dense_blocks': 2, 'dense_nodes': 244} with SpRes = 150 for epochs = 25\n"
     ]
    },
    {
     "name": "stderr",
     "output_type": "stream",
     "text": [
      "[I 2023-07-01 04:52:04,744] Trial 282 finished with value: 0.45714285714285713 and parameters: {'epochs': 25, 'resolution': 50, 'n_conv_blocks': 2, 'filters': 14, 'kernel_size': 4, 'pool_size': 5, 'n_dense_blocks': 2, 'dense_nodes': 244, 'batch_size': 18}. Best is trial 162 with value: 0.5795918367346938.\n"
     ]
    },
    {
     "name": "stdout",
     "output_type": "stream",
     "text": [
      "running model having {'n_conv_blocks': 2, 'filters': 15, 'kernel_size': 4, 'pool_size': 5, 'n_dense_blocks': 1, 'dense_nodes': 212} with SpRes = 150 for epochs = 32\n"
     ]
    },
    {
     "name": "stderr",
     "output_type": "stream",
     "text": [
      "[I 2023-07-01 04:52:46,505] Trial 283 finished with value: 0.5469387755102041 and parameters: {'epochs': 32, 'resolution': 100, 'n_conv_blocks': 2, 'filters': 15, 'kernel_size': 4, 'pool_size': 5, 'n_dense_blocks': 1, 'dense_nodes': 212, 'batch_size': 17}. Best is trial 162 with value: 0.5795918367346938.\n"
     ]
    },
    {
     "name": "stdout",
     "output_type": "stream",
     "text": [
      "running model having {'n_conv_blocks': 2, 'filters': 15, 'kernel_size': 4, 'pool_size': 5, 'n_dense_blocks': 1, 'dense_nodes': 212} with SpRes = 150 for epochs = 31\n"
     ]
    },
    {
     "name": "stderr",
     "output_type": "stream",
     "text": [
      "[I 2023-07-01 04:53:25,519] Trial 284 finished with value: 0.46530612244897956 and parameters: {'epochs': 31, 'resolution': 100, 'n_conv_blocks': 2, 'filters': 15, 'kernel_size': 4, 'pool_size': 5, 'n_dense_blocks': 1, 'dense_nodes': 212, 'batch_size': 17}. Best is trial 162 with value: 0.5795918367346938.\n"
     ]
    },
    {
     "name": "stdout",
     "output_type": "stream",
     "text": [
      "running model having {'n_conv_blocks': 2, 'filters': 15, 'kernel_size': 4, 'pool_size': 5, 'n_dense_blocks': 1, 'dense_nodes': 208} with SpRes = 150 for epochs = 26\n"
     ]
    },
    {
     "name": "stderr",
     "output_type": "stream",
     "text": [
      "[I 2023-07-01 04:53:58,097] Trial 285 finished with value: 0.5142857142857142 and parameters: {'epochs': 26, 'resolution': 100, 'n_conv_blocks': 2, 'filters': 15, 'kernel_size': 4, 'pool_size': 5, 'n_dense_blocks': 1, 'dense_nodes': 208, 'batch_size': 17}. Best is trial 162 with value: 0.5795918367346938.\n"
     ]
    },
    {
     "name": "stdout",
     "output_type": "stream",
     "text": [
      "running model having {'n_conv_blocks': 2, 'filters': 15, 'kernel_size': 4, 'pool_size': 5, 'n_dense_blocks': 1, 'dense_nodes': 253} with SpRes = 150 for epochs = 30\n"
     ]
    },
    {
     "name": "stderr",
     "output_type": "stream",
     "text": [
      "[I 2023-07-01 04:54:37,959] Trial 286 finished with value: 0.4816326530612245 and parameters: {'epochs': 30, 'resolution': 100, 'n_conv_blocks': 2, 'filters': 15, 'kernel_size': 4, 'pool_size': 5, 'n_dense_blocks': 1, 'dense_nodes': 253, 'batch_size': 16}. Best is trial 162 with value: 0.5795918367346938.\n"
     ]
    },
    {
     "name": "stdout",
     "output_type": "stream",
     "text": [
      "running model having {'n_conv_blocks': 2, 'filters': 16, 'kernel_size': 4, 'pool_size': 4, 'n_dense_blocks': 1, 'dense_nodes': 223} with SpRes = 150 for epochs = 32\n"
     ]
    },
    {
     "name": "stderr",
     "output_type": "stream",
     "text": [
      "[I 2023-07-01 04:55:18,840] Trial 287 finished with value: 0.44081632653061226 and parameters: {'epochs': 32, 'resolution': 100, 'n_conv_blocks': 2, 'filters': 16, 'kernel_size': 4, 'pool_size': 4, 'n_dense_blocks': 1, 'dense_nodes': 223, 'batch_size': 18}. Best is trial 162 with value: 0.5795918367346938.\n"
     ]
    },
    {
     "name": "stdout",
     "output_type": "stream",
     "text": [
      "running model having {'n_conv_blocks': 2, 'filters': 16, 'kernel_size': 4, 'pool_size': 7, 'n_dense_blocks': 1, 'dense_nodes': 220} with SpRes = 150 for epochs = 32\n"
     ]
    },
    {
     "name": "stderr",
     "output_type": "stream",
     "text": [
      "[I 2023-07-01 04:55:53,081] Trial 288 finished with value: 0.5265306122448979 and parameters: {'epochs': 32, 'resolution': 120, 'n_conv_blocks': 2, 'filters': 16, 'kernel_size': 4, 'pool_size': 7, 'n_dense_blocks': 1, 'dense_nodes': 220, 'batch_size': 24}. Best is trial 162 with value: 0.5795918367346938.\n"
     ]
    },
    {
     "name": "stdout",
     "output_type": "stream",
     "text": [
      "running model having {'n_conv_blocks': 2, 'filters': 16, 'kernel_size': 4, 'pool_size': 3, 'n_dense_blocks': 1, 'dense_nodes': 231} with SpRes = 150 for epochs = 33\n"
     ]
    },
    {
     "name": "stderr",
     "output_type": "stream",
     "text": [
      "[I 2023-07-01 04:56:40,638] Trial 289 finished with value: 0.4448979591836735 and parameters: {'epochs': 33, 'resolution': 100, 'n_conv_blocks': 2, 'filters': 16, 'kernel_size': 4, 'pool_size': 3, 'n_dense_blocks': 1, 'dense_nodes': 231, 'batch_size': 17}. Best is trial 162 with value: 0.5795918367346938.\n"
     ]
    },
    {
     "name": "stdout",
     "output_type": "stream",
     "text": [
      "running model having {'n_conv_blocks': 2, 'filters': 15, 'kernel_size': 4, 'pool_size': 7, 'n_dense_blocks': 2, 'dense_nodes': 212} with SpRes = 150 for epochs = 23\n"
     ]
    },
    {
     "name": "stderr",
     "output_type": "stream",
     "text": [
      "[I 2023-07-01 04:57:11,573] Trial 290 finished with value: 0.5591836734693878 and parameters: {'epochs': 23, 'resolution': 70, 'n_conv_blocks': 2, 'filters': 15, 'kernel_size': 4, 'pool_size': 7, 'n_dense_blocks': 2, 'dense_nodes': 212, 'batch_size': 18}. Best is trial 162 with value: 0.5795918367346938.\n"
     ]
    },
    {
     "name": "stdout",
     "output_type": "stream",
     "text": [
      "running model having {'n_conv_blocks': 2, 'filters': 15, 'kernel_size': 4, 'pool_size': 7, 'n_dense_blocks': 1, 'dense_nodes': 201} with SpRes = 150 for epochs = 22\n"
     ]
    },
    {
     "name": "stderr",
     "output_type": "stream",
     "text": [
      "[I 2023-07-01 04:57:42,180] Trial 291 finished with value: 0.5387755102040817 and parameters: {'epochs': 22, 'resolution': 50, 'n_conv_blocks': 2, 'filters': 15, 'kernel_size': 4, 'pool_size': 7, 'n_dense_blocks': 1, 'dense_nodes': 201, 'batch_size': 18}. Best is trial 162 with value: 0.5795918367346938.\n"
     ]
    },
    {
     "name": "stdout",
     "output_type": "stream",
     "text": [
      "running model having {'n_conv_blocks': 2, 'filters': 14, 'kernel_size': 4, 'pool_size': 7, 'n_dense_blocks': 1, 'dense_nodes': 201} with SpRes = 150 for epochs = 23\n"
     ]
    },
    {
     "name": "stderr",
     "output_type": "stream",
     "text": [
      "[I 2023-07-01 04:58:13,533] Trial 292 finished with value: 0.46938775510204084 and parameters: {'epochs': 23, 'resolution': 50, 'n_conv_blocks': 2, 'filters': 14, 'kernel_size': 4, 'pool_size': 7, 'n_dense_blocks': 1, 'dense_nodes': 201, 'batch_size': 18}. Best is trial 162 with value: 0.5795918367346938.\n"
     ]
    },
    {
     "name": "stdout",
     "output_type": "stream",
     "text": [
      "running model having {'n_conv_blocks': 2, 'filters': 15, 'kernel_size': 4, 'pool_size': 7, 'n_dense_blocks': 1, 'dense_nodes': 202} with SpRes = 150 for epochs = 23\n"
     ]
    },
    {
     "name": "stderr",
     "output_type": "stream",
     "text": [
      "[I 2023-07-01 04:58:46,481] Trial 293 finished with value: 0.5428571428571428 and parameters: {'epochs': 23, 'resolution': 50, 'n_conv_blocks': 2, 'filters': 15, 'kernel_size': 4, 'pool_size': 7, 'n_dense_blocks': 1, 'dense_nodes': 202, 'batch_size': 18}. Best is trial 162 with value: 0.5795918367346938.\n"
     ]
    },
    {
     "name": "stdout",
     "output_type": "stream",
     "text": [
      "running model having {'n_conv_blocks': 2, 'filters': 15, 'kernel_size': 4, 'pool_size': 7, 'n_dense_blocks': 1, 'dense_nodes': 192} with SpRes = 150 for epochs = 22\n"
     ]
    },
    {
     "name": "stderr",
     "output_type": "stream",
     "text": [
      "[I 2023-07-01 04:59:16,545] Trial 294 finished with value: 0.5020408163265306 and parameters: {'epochs': 22, 'resolution': 50, 'n_conv_blocks': 2, 'filters': 15, 'kernel_size': 4, 'pool_size': 7, 'n_dense_blocks': 1, 'dense_nodes': 192, 'batch_size': 18}. Best is trial 162 with value: 0.5795918367346938.\n"
     ]
    },
    {
     "name": "stdout",
     "output_type": "stream",
     "text": [
      "running model having {'n_conv_blocks': 2, 'filters': 15, 'kernel_size': 4, 'pool_size': 7, 'n_dense_blocks': 1, 'dense_nodes': 203} with SpRes = 150 for epochs = 22\n"
     ]
    },
    {
     "name": "stderr",
     "output_type": "stream",
     "text": [
      "[I 2023-07-01 04:59:46,839] Trial 295 finished with value: 0.49387755102040815 and parameters: {'epochs': 22, 'resolution': 50, 'n_conv_blocks': 2, 'filters': 15, 'kernel_size': 4, 'pool_size': 7, 'n_dense_blocks': 1, 'dense_nodes': 203, 'batch_size': 19}. Best is trial 162 with value: 0.5795918367346938.\n"
     ]
    },
    {
     "name": "stdout",
     "output_type": "stream",
     "text": [
      "running model having {'n_conv_blocks': 2, 'filters': 15, 'kernel_size': 4, 'pool_size': 7, 'n_dense_blocks': 1, 'dense_nodes': 199} with SpRes = 150 for epochs = 23\n"
     ]
    },
    {
     "name": "stderr",
     "output_type": "stream",
     "text": [
      "[I 2023-07-01 05:00:18,689] Trial 296 finished with value: 0.4326530612244898 and parameters: {'epochs': 23, 'resolution': 50, 'n_conv_blocks': 2, 'filters': 15, 'kernel_size': 4, 'pool_size': 7, 'n_dense_blocks': 1, 'dense_nodes': 199, 'batch_size': 18}. Best is trial 162 with value: 0.5795918367346938.\n"
     ]
    },
    {
     "name": "stdout",
     "output_type": "stream",
     "text": [
      "running model having {'n_conv_blocks': 2, 'filters': 14, 'kernel_size': 4, 'pool_size': 7, 'n_dense_blocks': 1, 'dense_nodes': 205} with SpRes = 150 for epochs = 21\n"
     ]
    },
    {
     "name": "stderr",
     "output_type": "stream",
     "text": [
      "[I 2023-07-01 05:00:47,519] Trial 297 finished with value: 0.49387755102040815 and parameters: {'epochs': 21, 'resolution': 50, 'n_conv_blocks': 2, 'filters': 14, 'kernel_size': 4, 'pool_size': 7, 'n_dense_blocks': 1, 'dense_nodes': 205, 'batch_size': 18}. Best is trial 162 with value: 0.5795918367346938.\n"
     ]
    },
    {
     "name": "stdout",
     "output_type": "stream",
     "text": [
      "running model having {'n_conv_blocks': 2, 'filters': 15, 'kernel_size': 4, 'pool_size': 7, 'n_dense_blocks': 1, 'dense_nodes': 186} with SpRes = 150 for epochs = 24\n"
     ]
    },
    {
     "name": "stderr",
     "output_type": "stream",
     "text": [
      "[I 2023-07-01 05:01:20,261] Trial 298 finished with value: 0.4897959183673469 and parameters: {'epochs': 24, 'resolution': 50, 'n_conv_blocks': 2, 'filters': 15, 'kernel_size': 4, 'pool_size': 7, 'n_dense_blocks': 1, 'dense_nodes': 186, 'batch_size': 18}. Best is trial 162 with value: 0.5795918367346938.\n"
     ]
    },
    {
     "name": "stdout",
     "output_type": "stream",
     "text": [
      "running model having {'n_conv_blocks': 2, 'filters': 15, 'kernel_size': 4, 'pool_size': 7, 'n_dense_blocks': 1, 'dense_nodes': 212} with SpRes = 150 for epochs = 23\n"
     ]
    },
    {
     "name": "stderr",
     "output_type": "stream",
     "text": [
      "[I 2023-07-01 05:01:53,032] Trial 299 finished with value: 0.40816326530612246 and parameters: {'epochs': 23, 'resolution': 50, 'n_conv_blocks': 2, 'filters': 15, 'kernel_size': 4, 'pool_size': 7, 'n_dense_blocks': 1, 'dense_nodes': 212, 'batch_size': 17}. Best is trial 162 with value: 0.5795918367346938.\n"
     ]
    }
   ],
   "source": [
    "import optuna\n",
    "study = optuna.create_study(direction='maximize')\n",
    "trial_function = lambda trial: objective(trial, train_idxs, val_idxs)\n",
    "# study.optimize(trial_function, n_trials=300, n_jobs=1, catch=ValueError)"
   ]
  },
  {
   "cell_type": "markdown",
   "id": "c7d3d5f8",
   "metadata": {},
   "source": [
    "## Results"
   ]
  },
  {
   "cell_type": "code",
   "execution_count": 14,
   "id": "84721277",
   "metadata": {},
   "outputs": [
    {
     "name": "stdout",
     "output_type": "stream",
     "text": [
      "Model: \"sequential_300\"\n",
      "_________________________________________________________________\n",
      " Layer (type)                Output Shape              Param #   \n",
      "=================================================================\n",
      " conv_0 (Conv1D)             (None, 300, 16)           6416      \n",
      "                                                                 \n",
      " avg_pooling_0 (AveragePooli  (None, 42, 16)           0         \n",
      " ng1D)                                                           \n",
      "                                                                 \n",
      " conv_1 (Conv1D)             (None, 39, 16)            1040      \n",
      "                                                                 \n",
      " flatten_244 (Flatten)       (None, 624)               0         \n",
      "                                                                 \n",
      " dense_0 (Dense)             (None, 240)               150000    \n",
      "                                                                 \n",
      " output (Dense)              (None, 28)                6748      \n",
      "                                                                 \n",
      "=================================================================\n",
      "Total params: 164,204\n",
      "Trainable params: 164,204\n",
      "Non-trainable params: 0\n",
      "_________________________________________________________________\n",
      "Epoch 1/23\n",
      "109/109 [==============================] - 3s 16ms/step - loss: 2.7224 - accuracy: 0.1719\n",
      "Epoch 2/23\n",
      "109/109 [==============================] - 2s 15ms/step - loss: 2.0839 - accuracy: 0.3044\n",
      "Epoch 3/23\n",
      "109/109 [==============================] - 2s 16ms/step - loss: 1.7662 - accuracy: 0.4115\n",
      "Epoch 4/23\n",
      "109/109 [==============================] - 2s 15ms/step - loss: 1.5251 - accuracy: 0.4850\n",
      "Epoch 5/23\n",
      "109/109 [==============================] - 2s 15ms/step - loss: 1.3363 - accuracy: 0.5298\n",
      "Epoch 6/23\n",
      "109/109 [==============================] - 2s 15ms/step - loss: 1.1607 - accuracy: 0.5885\n",
      "Epoch 7/23\n",
      "109/109 [==============================] - 2s 16ms/step - loss: 0.9640 - accuracy: 0.6721\n",
      "Epoch 8/23\n",
      "109/109 [==============================] - 2s 20ms/step - loss: 0.8683 - accuracy: 0.6961\n",
      "Epoch 9/23\n",
      "109/109 [==============================] - 2s 15ms/step - loss: 0.7253 - accuracy: 0.7318\n",
      "Epoch 10/23\n",
      "109/109 [==============================] - 2s 15ms/step - loss: 0.6248 - accuracy: 0.7828\n",
      "Epoch 11/23\n",
      "109/109 [==============================] - 2s 16ms/step - loss: 0.5012 - accuracy: 0.8317\n",
      "Epoch 12/23\n",
      "109/109 [==============================] - 2s 15ms/step - loss: 0.4311 - accuracy: 0.8506\n",
      "Epoch 13/23\n",
      "109/109 [==============================] - 2s 15ms/step - loss: 0.3564 - accuracy: 0.8797\n",
      "Epoch 14/23\n",
      "109/109 [==============================] - 2s 15ms/step - loss: 0.3004 - accuracy: 0.9026\n",
      "Epoch 15/23\n",
      "109/109 [==============================] - 2s 15ms/step - loss: 0.2713 - accuracy: 0.9148\n",
      "Epoch 16/23\n",
      "109/109 [==============================] - 2s 16ms/step - loss: 0.2493 - accuracy: 0.9306\n",
      "Epoch 17/23\n",
      "109/109 [==============================] - 2s 15ms/step - loss: 0.2077 - accuracy: 0.9363\n",
      "Epoch 18/23\n",
      "109/109 [==============================] - 2s 15ms/step - loss: 0.1628 - accuracy: 0.9505\n",
      "Epoch 19/23\n",
      "109/109 [==============================] - 2s 15ms/step - loss: 0.1172 - accuracy: 0.9653\n",
      "Epoch 20/23\n",
      "109/109 [==============================] - 2s 16ms/step - loss: 0.0984 - accuracy: 0.9740\n",
      "Epoch 21/23\n",
      "109/109 [==============================] - 2s 17ms/step - loss: 0.0811 - accuracy: 0.9816\n",
      "Epoch 22/23\n",
      "109/109 [==============================] - 2s 19ms/step - loss: 0.0574 - accuracy: 0.9842\n",
      "Epoch 23/23\n",
      "109/109 [==============================] - 2s 18ms/step - loss: 0.0434 - accuracy: 0.9893\n"
     ]
    },
    {
     "data": {
      "text/plain": [
       "<keras.callbacks.History at 0x7f2e8c49cf40>"
      ]
     },
     "execution_count": 14,
     "metadata": {},
     "output_type": "execute_result"
    }
   ],
   "source": [
    "best_params = {'epochs': 23, \n",
    "               'resolution': 100, \n",
    "               'n_conv_blocks': 2, \n",
    "               'filters': 16, \n",
    "               'kernel_size': 4, \n",
    "               'pool_size': 7, \n",
    "               'n_dense_blocks': 1, \n",
    "               'dense_nodes': 240, \n",
    "               'batch_size': 18}\n",
    "\n",
    "X = STFT_dict[best_params[\"resolution\"]]\n",
    "\n",
    "cnn = build_model(X.shape[1:], len(np.unique(y)), **best_params)\n",
    "cnn.summary()\n",
    "\n",
    "# Train on train+validation\n",
    "final_train_idxs = np.concatenate((train_idxs, val_idxs))\n",
    "\n",
    "cnn.fit(X[final_train_idxs], \n",
    "        y[final_train_idxs], \n",
    "        epochs=best_params[\"epochs\"], \n",
    "        batch_size=best_params[\"batch_size\"])"
   ]
  },
  {
   "cell_type": "code",
   "execution_count": 16,
   "id": "d77031ac",
   "metadata": {},
   "outputs": [
    {
     "name": "stdout",
     "output_type": "stream",
     "text": [
      "16/16 [==============================] - 0s 9ms/step\n",
      "0.5132382892057027\n"
     ]
    }
   ],
   "source": [
    "from sklearn.metrics import accuracy_score\n",
    "\n",
    "ypred = np.argmax(cnn.predict(X[test_idxs]), axis=1)\n",
    "\n",
    "print(accuracy_score(y[test_idxs], ypred))"
   ]
  },
  {
   "cell_type": "code",
   "execution_count": 18,
   "id": "3a722123",
   "metadata": {
    "scrolled": true
   },
   "outputs": [
    {
     "name": "stderr",
     "output_type": "stream",
     "text": [
      "/home/djanloo/.local/share/virtualenvs/DM2-PeqFRmfa/lib/python3.10/site-packages/IPython/core/events.py:93: UserWarning: This figure includes Axes that are not compatible with tight_layout, so results might be incorrect.\n",
      "  func(*args, **kwargs)\n",
      "/home/djanloo/.local/share/virtualenvs/DM2-PeqFRmfa/lib/python3.10/site-packages/IPython/core/pylabtools.py:152: UserWarning: This figure includes Axes that are not compatible with tight_layout, so results might be incorrect.\n",
      "  fig.canvas.print_figure(bytes_io, **kw)\n"
     ]
    },
    {
     "data": {
      "image/png": "[encoded data removed]",
      "text/plain": [
       "<Figure size 400x400 with 1 Axes>"
      ]
     },
     "metadata": {},
     "output_type": "display_data"
    }
   ],
   "source": [
    "from sklearn.metrics import confusion_matrix\n",
    "\n",
    "plt.matshow(confusion_matrix(y[test_idxs], ypred))\n",
    "plt.xticks(np.unique(y), labels = enc.inverse_transform(np.unique(y)), rotation=90);\n",
    "plt.yticks(np.unique(y), labels = enc.inverse_transform(np.unique(y)), rotation=0);\n",
    "\n",
    "plt.title(f\"accuracy = {accuracy_score(y[test_idxs], ypred)*100:.2f}\")\n",
    "plt.grid(ls=\"\")"
   ]
  },
  {
   "cell_type": "markdown",
   "id": "b4d4f60f",
   "metadata": {},
   "source": [
    "## Tuning (for prediction of emotion only)"
   ]
  },
  {
   "cell_type": "markdown",
   "id": "084beee9",
   "metadata": {},
   "source": [
    "### Prepare the different resolutions"
   ]
  },
  {
   "cell_type": "code",
   "execution_count": 6,
   "id": "4cfcda31",
   "metadata": {},
   "outputs": [
    {
     "name": "stderr",
     "output_type": "stream",
     "text": [
      "100%|████████████████████████████████████████████████████████████████████████████████████████████████████████████| 2452/2452 [00:10<00:00, 229.73it/s]\n",
      "100%|████████████████████████████████████████████████████████████████████████████████████████████████████████████| 2452/2452 [00:08<00:00, 297.57it/s]\n",
      "100%|████████████████████████████████████████████████████████████████████████████████████████████████████████████| 2452/2452 [00:05<00:00, 435.17it/s]\n"
     ]
    }
   ],
   "source": [
    "# In the tuning the spectral resolution is optimized too\n",
    "from djanloo_fourier import FixedResolutionSTFTransformer\n",
    "from tensorflow.keras.preprocessing.sequence import pad_sequences\n",
    "\n",
    "STFT_dict = dict()\n",
    "possible_resolutions = [ 90, 100, 110]\n",
    "for res in possible_resolutions:\n",
    "    ## Really gets the dataset of STFTs\n",
    "    fixedtr = FixedResolutionSTFTransformer(n_spectral_points=res,\n",
    "                                            pad_spectra=False,\n",
    "                                            verbose=True)\n",
    "    \n",
    "    # Gets STFTs\n",
    "    STFTs = fixedtr.transform(traces[\"clean_trace\"])\n",
    "    STFT_dict[res] = pad_sequences(STFTs)\n",
    "\n",
    "\n",
    "# Gets labels\n",
    "enc = LabelEncoder()\n",
    "labels = df.emotion.to_numpy()\n",
    "y = enc.fit_transform(labels)"
   ]
  },
  {
   "cell_type": "code",
   "execution_count": 7,
   "id": "42830b65",
   "metadata": {},
   "outputs": [],
   "source": [
    "## Splits the dataset\n",
    "idxs = np.arange(len(df))\n",
    "np.random.shuffle(idxs)\n",
    "train_idxs, val_idxs, test_idxs = np.split(idxs, (len(df)*np.array([0.7, 0.8])).astype(int))"
   ]
  },
  {
   "cell_type": "code",
   "execution_count": 8,
   "id": "f9a3522f",
   "metadata": {},
   "outputs": [
    {
     "name": "stderr",
     "output_type": "stream",
     "text": [
      "[I 2023-07-01 15:02:48,362] A new study created in memory with name: no-name-e19ed0f8-3235-4460-98bf-69fae3ed1fda\n"
     ]
    },
    {
     "name": "stdout",
     "output_type": "stream",
     "text": [
      "running model having {'n_conv_blocks': 3, 'filters': 2, 'kernel_size': 9, 'pool_size': 7, 'n_dense_blocks': 2, 'dense_nodes': 231} with SpRes = 110 for epochs = 33\n",
      "running model having {'n_conv_blocks': 1, 'filters': 5, 'kernel_size': 7, 'pool_size': 6, 'n_dense_blocks': 3, 'dense_nodes': 250} with SpRes = 110 for epochs = 22\n"
     ]
    },
    {
     "name": "stderr",
     "output_type": "stream",
     "text": [
      "2023-07-01 15:02:48.937751: W tensorflow/tsl/framework/cpu_allocator_impl.cc:83] Allocation of 207979200 exceeds 10% of free system memory.\n",
      "2023-07-01 15:02:49.752415: W tensorflow/tsl/framework/cpu_allocator_impl.cc:83] Allocation of 208185120 exceeds 10% of free system memory.\n",
      "[I 2023-07-01 15:04:15,513] Trial 1 finished with value: 0.17959183673469387 and parameters: {'epochs': 22, 'resolution': 100, 'n_conv_blocks': 1, 'filters': 5, 'kernel_size': 7, 'pool_size': 6, 'n_dense_blocks': 3, 'dense_nodes': 250, 'batch_size': 18}. Best is trial 1 with value: 0.17959183673469387.\n"
     ]
    },
    {
     "name": "stdout",
     "output_type": "stream",
     "text": [
      "running model having {'n_conv_blocks': 1, 'filters': 9, 'kernel_size': 7, 'pool_size': 4, 'n_dense_blocks': 2, 'dense_nodes': 372} with SpRes = 110 for epochs = 27\n"
     ]
    },
    {
     "name": "stderr",
     "output_type": "stream",
     "text": [
      "2023-07-01 15:04:16.177167: W tensorflow/tsl/framework/cpu_allocator_impl.cc:83] Allocation of 208185120 exceeds 10% of free system memory.\n",
      "[I 2023-07-01 15:04:44,603] Trial 0 finished with value: 0.39183673469387753 and parameters: {'epochs': 33, 'resolution': 90, 'n_conv_blocks': 3, 'filters': 2, 'kernel_size': 9, 'pool_size': 7, 'n_dense_blocks': 2, 'dense_nodes': 231, 'batch_size': 24}. Best is trial 0 with value: 0.39183673469387753.\n"
     ]
    },
    {
     "name": "stdout",
     "output_type": "stream",
     "text": [
      "running model having {'n_conv_blocks': 2, 'filters': 10, 'kernel_size': 4, 'pool_size': 5, 'n_dense_blocks': 3, 'dense_nodes': 390} with SpRes = 110 for epochs = 29\n"
     ]
    },
    {
     "name": "stderr",
     "output_type": "stream",
     "text": [
      "2023-07-01 15:04:45.568776: W tensorflow/tsl/framework/cpu_allocator_impl.cc:83] Allocation of 207979200 exceeds 10% of free system memory.\n",
      "[I 2023-07-01 15:06:00,885] Trial 2 finished with value: 0.1836734693877551 and parameters: {'epochs': 27, 'resolution': 90, 'n_conv_blocks': 1, 'filters': 9, 'kernel_size': 7, 'pool_size': 4, 'n_dense_blocks': 2, 'dense_nodes': 372, 'batch_size': 32}. Best is trial 0 with value: 0.39183673469387753.\n"
     ]
    },
    {
     "name": "stdout",
     "output_type": "stream",
     "text": [
      "running model having {'n_conv_blocks': 2, 'filters': 8, 'kernel_size': 4, 'pool_size': 5, 'n_dense_blocks': 1, 'dense_nodes': 477} with SpRes = 110 for epochs = 26\n"
     ]
    },
    {
     "name": "stderr",
     "output_type": "stream",
     "text": [
      "2023-07-01 15:06:01.441865: W tensorflow/tsl/framework/cpu_allocator_impl.cc:83] Allocation of 208185120 exceeds 10% of free system memory.\n",
      "[I 2023-07-01 15:06:49,316] Trial 4 finished with value: 0.39591836734693875 and parameters: {'epochs': 26, 'resolution': 90, 'n_conv_blocks': 2, 'filters': 8, 'kernel_size': 4, 'pool_size': 5, 'n_dense_blocks': 1, 'dense_nodes': 477, 'batch_size': 26}. Best is trial 4 with value: 0.39591836734693875.\n"
     ]
    },
    {
     "name": "stdout",
     "output_type": "stream",
     "text": [
      "running model having {'n_conv_blocks': 1, 'filters': 4, 'kernel_size': 3, 'pool_size': 8, 'n_dense_blocks': 2, 'dense_nodes': 251} with SpRes = 110 for epochs = 31\n"
     ]
    },
    {
     "name": "stderr",
     "output_type": "stream",
     "text": [
      "[I 2023-07-01 15:07:12,019] Trial 3 finished with value: 0.4326530612244898 and parameters: {'epochs': 29, 'resolution': 100, 'n_conv_blocks': 2, 'filters': 10, 'kernel_size': 4, 'pool_size': 5, 'n_dense_blocks': 3, 'dense_nodes': 390, 'batch_size': 16}. Best is trial 3 with value: 0.4326530612244898.\n"
     ]
    },
    {
     "name": "stdout",
     "output_type": "stream",
     "text": [
      "running model having {'n_conv_blocks': 1, 'filters': 14, 'kernel_size': 9, 'pool_size': 7, 'n_dense_blocks': 1, 'dense_nodes': 455} with SpRes = 110 for epochs = 35\n"
     ]
    },
    {
     "name": "stderr",
     "output_type": "stream",
     "text": [
      "[I 2023-07-01 15:07:30,269] Trial 5 finished with value: 0.2897959183673469 and parameters: {'epochs': 31, 'resolution': 100, 'n_conv_blocks': 1, 'filters': 4, 'kernel_size': 3, 'pool_size': 8, 'n_dense_blocks': 2, 'dense_nodes': 251, 'batch_size': 32}. Best is trial 3 with value: 0.4326530612244898.\n"
     ]
    },
    {
     "name": "stdout",
     "output_type": "stream",
     "text": [
      "running model having {'n_conv_blocks': 1, 'filters': 8, 'kernel_size': 7, 'pool_size': 4, 'n_dense_blocks': 2, 'dense_nodes': 329} with SpRes = 110 for epochs = 17\n"
     ]
    },
    {
     "name": "stderr",
     "output_type": "stream",
     "text": [
      "[I 2023-07-01 15:08:56,830] Trial 7 finished with value: 0.12653061224489795 and parameters: {'epochs': 17, 'resolution': 100, 'n_conv_blocks': 1, 'filters': 8, 'kernel_size': 7, 'pool_size': 4, 'n_dense_blocks': 2, 'dense_nodes': 329, 'batch_size': 26}. Best is trial 3 with value: 0.4326530612244898.\n"
     ]
    },
    {
     "name": "stdout",
     "output_type": "stream",
     "text": [
      "running model having {'n_conv_blocks': 3, 'filters': 5, 'kernel_size': 9, 'pool_size': 3, 'n_dense_blocks': 2, 'dense_nodes': 348} with SpRes = 110 for epochs = 38\n"
     ]
    },
    {
     "name": "stderr",
     "output_type": "stream",
     "text": [
      "[I 2023-07-01 15:10:13,745] Trial 6 finished with value: 0.15510204081632653 and parameters: {'epochs': 35, 'resolution': 100, 'n_conv_blocks': 1, 'filters': 14, 'kernel_size': 9, 'pool_size': 7, 'n_dense_blocks': 1, 'dense_nodes': 455, 'batch_size': 28}. Best is trial 3 with value: 0.4326530612244898.\n"
     ]
    },
    {
     "name": "stdout",
     "output_type": "stream",
     "text": [
      "running model having {'n_conv_blocks': 2, 'filters': 10, 'kernel_size': 3, 'pool_size': 7, 'n_dense_blocks': 1, 'dense_nodes': 490} with SpRes = 110 for epochs = 25\n"
     ]
    },
    {
     "name": "stderr",
     "output_type": "stream",
     "text": [
      "[I 2023-07-01 15:11:10,069] Trial 8 finished with value: 0.34285714285714286 and parameters: {'epochs': 38, 'resolution': 110, 'n_conv_blocks': 3, 'filters': 5, 'kernel_size': 9, 'pool_size': 3, 'n_dense_blocks': 2, 'dense_nodes': 348, 'batch_size': 21}. Best is trial 3 with value: 0.4326530612244898.\n"
     ]
    },
    {
     "name": "stdout",
     "output_type": "stream",
     "text": [
      "running model having {'n_conv_blocks': 3, 'filters': 6, 'kernel_size': 7, 'pool_size': 5, 'n_dense_blocks': 2, 'dense_nodes': 86} with SpRes = 110 for epochs = 27\n"
     ]
    },
    {
     "name": "stderr",
     "output_type": "stream",
     "text": [
      "[I 2023-07-01 15:11:41,494] Trial 9 finished with value: 0.4489795918367347 and parameters: {'epochs': 25, 'resolution': 100, 'n_conv_blocks': 2, 'filters': 10, 'kernel_size': 3, 'pool_size': 7, 'n_dense_blocks': 1, 'dense_nodes': 490, 'batch_size': 31}. Best is trial 9 with value: 0.4489795918367347.\n"
     ]
    },
    {
     "name": "stdout",
     "output_type": "stream",
     "text": [
      "running model having {'n_conv_blocks': 2, 'filters': 16, 'kernel_size': 5, 'pool_size': 2, 'n_dense_blocks': 1, 'dense_nodes': 66} with SpRes = 110 for epochs = 15\n"
     ]
    },
    {
     "name": "stderr",
     "output_type": "stream",
     "text": [
      "[I 2023-07-01 15:12:08,532] Trial 11 finished with value: 0.363265306122449 and parameters: {'epochs': 15, 'resolution': 110, 'n_conv_blocks': 2, 'filters': 16, 'kernel_size': 5, 'pool_size': 2, 'n_dense_blocks': 1, 'dense_nodes': 66, 'batch_size': 29}. Best is trial 9 with value: 0.4489795918367347.\n"
     ]
    },
    {
     "name": "stdout",
     "output_type": "stream",
     "text": [
      "running model having {'n_conv_blocks': 2, 'filters': 12, 'kernel_size': 3, 'pool_size': 6, 'n_dense_blocks': 3, 'dense_nodes': 512} with SpRes = 110 for epochs = 22\n"
     ]
    },
    {
     "name": "stderr",
     "output_type": "stream",
     "text": [
      "[I 2023-07-01 15:12:34,757] Trial 10 finished with value: 0.4448979591836735 and parameters: {'epochs': 27, 'resolution': 110, 'n_conv_blocks': 3, 'filters': 6, 'kernel_size': 7, 'pool_size': 5, 'n_dense_blocks': 2, 'dense_nodes': 86, 'batch_size': 20}. Best is trial 9 with value: 0.4489795918367347.\n"
     ]
    },
    {
     "name": "stdout",
     "output_type": "stream",
     "text": [
      "running model having {'n_conv_blocks': 3, 'filters': 11, 'kernel_size': 6, 'pool_size': 6, 'n_dense_blocks': 1, 'dense_nodes': 22} with SpRes = 110 for epochs = 23\n"
     ]
    },
    {
     "name": "stderr",
     "output_type": "stream",
     "text": [
      "[I 2023-07-01 15:13:02,390] Trial 12 finished with value: 0.43673469387755104 and parameters: {'epochs': 22, 'resolution': 100, 'n_conv_blocks': 2, 'filters': 12, 'kernel_size': 3, 'pool_size': 6, 'n_dense_blocks': 3, 'dense_nodes': 512, 'batch_size': 16}. Best is trial 9 with value: 0.4489795918367347.\n"
     ]
    },
    {
     "name": "stdout",
     "output_type": "stream",
     "text": [
      "running model having {'n_conv_blocks': 3, 'filters': 11, 'kernel_size': 6, 'pool_size': 8, 'n_dense_blocks': 1, 'dense_nodes': 23} with SpRes = 110 for epochs = 22\n"
     ]
    },
    {
     "name": "stderr",
     "output_type": "stream",
     "text": [
      "[I 2023-07-01 15:13:40,747] Trial 13 finished with value: 0.3836734693877551 and parameters: {'epochs': 23, 'resolution': 110, 'n_conv_blocks': 3, 'filters': 11, 'kernel_size': 6, 'pool_size': 6, 'n_dense_blocks': 1, 'dense_nodes': 22, 'batch_size': 21}. Best is trial 9 with value: 0.4489795918367347.\n"
     ]
    },
    {
     "name": "stdout",
     "output_type": "stream",
     "text": [
      "running model having {'n_conv_blocks': 3, 'filters': 7, 'kernel_size': 6, 'pool_size': 8, 'n_dense_blocks': 1, 'dense_nodes': 138} with SpRes = 110 for epochs = 19\n"
     ]
    },
    {
     "name": "stderr",
     "output_type": "stream",
     "text": [
      "[I 2023-07-01 15:14:14,936] Trial 15 finished with value: 0.34285714285714286 and parameters: {'epochs': 19, 'resolution': 110, 'n_conv_blocks': 3, 'filters': 7, 'kernel_size': 6, 'pool_size': 8, 'n_dense_blocks': 1, 'dense_nodes': 138, 'batch_size': 21}. Best is trial 9 with value: 0.4489795918367347.\n"
     ]
    },
    {
     "name": "stdout",
     "output_type": "stream",
     "text": [
      "running model having {'n_conv_blocks': 2, 'filters': 13, 'kernel_size': 8, 'pool_size': 4, 'n_dense_blocks': 1, 'dense_nodes': 146} with SpRes = 110 for epochs = 25\n"
     ]
    },
    {
     "name": "stderr",
     "output_type": "stream",
     "text": [
      "[I 2023-07-01 15:14:28,639] Trial 14 finished with value: 0.27755102040816326 and parameters: {'epochs': 22, 'resolution': 110, 'n_conv_blocks': 3, 'filters': 11, 'kernel_size': 6, 'pool_size': 8, 'n_dense_blocks': 1, 'dense_nodes': 23, 'batch_size': 21}. Best is trial 9 with value: 0.4489795918367347.\n"
     ]
    },
    {
     "name": "stdout",
     "output_type": "stream",
     "text": [
      "running model having {'n_conv_blocks': 2, 'filters': 6, 'kernel_size': 5, 'pool_size': 4, 'n_dense_blocks': 3, 'dense_nodes': 159} with SpRes = 110 for epochs = 25\n"
     ]
    },
    {
     "name": "stderr",
     "output_type": "stream",
     "text": [
      "[I 2023-07-01 15:15:23,848] Trial 17 finished with value: 0.49387755102040815 and parameters: {'epochs': 25, 'resolution': 110, 'n_conv_blocks': 2, 'filters': 6, 'kernel_size': 5, 'pool_size': 4, 'n_dense_blocks': 3, 'dense_nodes': 159, 'batch_size': 24}. Best is trial 17 with value: 0.49387755102040815.\n"
     ]
    },
    {
     "name": "stdout",
     "output_type": "stream",
     "text": [
      "running model having {'n_conv_blocks': 2, 'filters': 2, 'kernel_size': 4, 'pool_size': 3, 'n_dense_blocks': 3, 'dense_nodes': 178} with SpRes = 110 for epochs = 25\n"
     ]
    },
    {
     "name": "stderr",
     "output_type": "stream",
     "text": [
      "[I 2023-07-01 15:15:30,475] Trial 16 finished with value: 0.39591836734693875 and parameters: {'epochs': 25, 'resolution': 110, 'n_conv_blocks': 2, 'filters': 13, 'kernel_size': 8, 'pool_size': 4, 'n_dense_blocks': 1, 'dense_nodes': 146, 'batch_size': 24}. Best is trial 17 with value: 0.49387755102040815.\n"
     ]
    },
    {
     "name": "stdout",
     "output_type": "stream",
     "text": [
      "running model having {'n_conv_blocks': 2, 'filters': 2, 'kernel_size': 4, 'pool_size': 2, 'n_dense_blocks': 3, 'dense_nodes': 192} with SpRes = 110 for epochs = 30\n"
     ]
    },
    {
     "name": "stderr",
     "output_type": "stream",
     "text": [
      "[I 2023-07-01 15:16:12,255] Trial 18 finished with value: 0.34285714285714286 and parameters: {'epochs': 25, 'resolution': 100, 'n_conv_blocks': 2, 'filters': 2, 'kernel_size': 4, 'pool_size': 3, 'n_dense_blocks': 3, 'dense_nodes': 178, 'batch_size': 24}. Best is trial 17 with value: 0.49387755102040815.\n"
     ]
    },
    {
     "name": "stdout",
     "output_type": "stream",
     "text": [
      "running model having {'n_conv_blocks': 2, 'filters': 9, 'kernel_size': 5, 'pool_size': 7, 'n_dense_blocks': 3, 'dense_nodes': 193} with SpRes = 110 for epochs = 30\n"
     ]
    },
    {
     "name": "stderr",
     "output_type": "stream",
     "text": [
      "[I 2023-07-01 15:16:54,400] Trial 20 finished with value: 0.44081632653061226 and parameters: {'epochs': 30, 'resolution': 90, 'n_conv_blocks': 2, 'filters': 9, 'kernel_size': 5, 'pool_size': 7, 'n_dense_blocks': 3, 'dense_nodes': 193, 'batch_size': 30}. Best is trial 17 with value: 0.49387755102040815.\n"
     ]
    },
    {
     "name": "stdout",
     "output_type": "stream",
     "text": [
      "running model having {'n_conv_blocks': 2, 'filters': 15, 'kernel_size': 5, 'pool_size': 2, 'n_dense_blocks': 3, 'dense_nodes': 308} with SpRes = 110 for epochs = 19\n"
     ]
    },
    {
     "name": "stderr",
     "output_type": "stream",
     "text": [
      "[I 2023-07-01 15:16:56,402] Trial 19 finished with value: 0.18775510204081633 and parameters: {'epochs': 30, 'resolution': 100, 'n_conv_blocks': 2, 'filters': 2, 'kernel_size': 4, 'pool_size': 2, 'n_dense_blocks': 3, 'dense_nodes': 192, 'batch_size': 30}. Best is trial 17 with value: 0.49387755102040815.\n"
     ]
    },
    {
     "name": "stdout",
     "output_type": "stream",
     "text": [
      "running model having {'n_conv_blocks': 2, 'filters': 6, 'kernel_size': 5, 'pool_size': 5, 'n_dense_blocks': 2, 'dense_nodes': 84} with SpRes = 110 for epochs = 19\n"
     ]
    },
    {
     "name": "stderr",
     "output_type": "stream",
     "text": [
      "[I 2023-07-01 15:17:41,449] Trial 22 finished with value: 0.33877551020408164 and parameters: {'epochs': 19, 'resolution': 110, 'n_conv_blocks': 2, 'filters': 6, 'kernel_size': 5, 'pool_size': 5, 'n_dense_blocks': 2, 'dense_nodes': 84, 'batch_size': 18}. Best is trial 17 with value: 0.49387755102040815.\n"
     ]
    },
    {
     "name": "stdout",
     "output_type": "stream",
     "text": [
      "running model having {'n_conv_blocks': 3, 'filters': 7, 'kernel_size': 8, 'pool_size': 5, 'n_dense_blocks': 2, 'dense_nodes': 102} with SpRes = 110 for epochs = 28\n"
     ]
    },
    {
     "name": "stderr",
     "output_type": "stream",
     "text": [
      "[I 2023-07-01 15:17:55,200] Trial 21 finished with value: 0.3224489795918367 and parameters: {'epochs': 19, 'resolution': 110, 'n_conv_blocks': 2, 'filters': 15, 'kernel_size': 5, 'pool_size': 2, 'n_dense_blocks': 3, 'dense_nodes': 308, 'batch_size': 26}. Best is trial 17 with value: 0.49387755102040815.\n"
     ]
    },
    {
     "name": "stdout",
     "output_type": "stream",
     "text": [
      "running model having {'n_conv_blocks': 3, 'filters': 4, 'kernel_size': 8, 'pool_size': 4, 'n_dense_blocks': 2, 'dense_nodes': 106} with SpRes = 110 for epochs = 28\n"
     ]
    },
    {
     "name": "stderr",
     "output_type": "stream",
     "text": [
      "[I 2023-07-01 15:18:52,473] Trial 23 finished with value: 0.43673469387755104 and parameters: {'epochs': 28, 'resolution': 110, 'n_conv_blocks': 3, 'filters': 7, 'kernel_size': 8, 'pool_size': 5, 'n_dense_blocks': 2, 'dense_nodes': 102, 'batch_size': 26}. Best is trial 17 with value: 0.49387755102040815.\n"
     ]
    },
    {
     "name": "stdout",
     "output_type": "stream",
     "text": [
      "running model having {'n_conv_blocks': 3, 'filters': 4, 'kernel_size': 3, 'pool_size': 3, 'n_dense_blocks': 2, 'dense_nodes': 127} with SpRes = 110 for epochs = 24\n"
     ]
    },
    {
     "name": "stderr",
     "output_type": "stream",
     "text": [
      "[I 2023-07-01 15:19:11,549] Trial 24 finished with value: 0.4448979591836735 and parameters: {'epochs': 28, 'resolution': 110, 'n_conv_blocks': 3, 'filters': 4, 'kernel_size': 8, 'pool_size': 4, 'n_dense_blocks': 2, 'dense_nodes': 106, 'batch_size': 19}. Best is trial 17 with value: 0.49387755102040815.\n"
     ]
    },
    {
     "name": "stdout",
     "output_type": "stream",
     "text": [
      "running model having {'n_conv_blocks': 2, 'filters': 6, 'kernel_size': 3, 'pool_size': 3, 'n_dense_blocks': 2, 'dense_nodes': 412} with SpRes = 110 for epochs = 24\n"
     ]
    },
    {
     "name": "stderr",
     "output_type": "stream",
     "text": [
      "[I 2023-07-01 15:19:35,070] Trial 25 finished with value: 0.39591836734693875 and parameters: {'epochs': 24, 'resolution': 110, 'n_conv_blocks': 3, 'filters': 4, 'kernel_size': 3, 'pool_size': 3, 'n_dense_blocks': 2, 'dense_nodes': 127, 'batch_size': 22}. Best is trial 17 with value: 0.49387755102040815.\n"
     ]
    },
    {
     "name": "stdout",
     "output_type": "stream",
     "text": [
      "running model having {'n_conv_blocks': 2, 'filters': 6, 'kernel_size': 6, 'pool_size': 6, 'n_dense_blocks': 1, 'dense_nodes': 423} with SpRes = 110 for epochs = 33\n"
     ]
    },
    {
     "name": "stderr",
     "output_type": "stream",
     "text": [
      "[I 2023-07-01 15:20:07,203] Trial 26 finished with value: 0.3183673469387755 and parameters: {'epochs': 24, 'resolution': 110, 'n_conv_blocks': 2, 'filters': 6, 'kernel_size': 3, 'pool_size': 3, 'n_dense_blocks': 2, 'dense_nodes': 412, 'batch_size': 19}. Best is trial 17 with value: 0.49387755102040815.\n"
     ]
    },
    {
     "name": "stdout",
     "output_type": "stream",
     "text": [
      "running model having {'n_conv_blocks': 2, 'filters': 9, 'kernel_size': 6, 'pool_size': 6, 'n_dense_blocks': 3, 'dense_nodes': 292} with SpRes = 110 for epochs = 33\n"
     ]
    },
    {
     "name": "stderr",
     "output_type": "stream",
     "text": [
      "[I 2023-07-01 15:20:51,190] Trial 27 finished with value: 0.4122448979591837 and parameters: {'epochs': 33, 'resolution': 110, 'n_conv_blocks': 2, 'filters': 6, 'kernel_size': 6, 'pool_size': 6, 'n_dense_blocks': 1, 'dense_nodes': 423, 'batch_size': 23}. Best is trial 17 with value: 0.49387755102040815.\n"
     ]
    },
    {
     "name": "stdout",
     "output_type": "stream",
     "text": [
      "running model having {'n_conv_blocks': 3, 'filters': 9, 'kernel_size': 7, 'pool_size': 5, 'n_dense_blocks': 3, 'dense_nodes': 284} with SpRes = 110 for epochs = 32\n"
     ]
    },
    {
     "name": "stderr",
     "output_type": "stream",
     "text": [
      "[I 2023-07-01 15:22:05,829] Trial 29 finished with value: 0.4326530612244898 and parameters: {'epochs': 32, 'resolution': 90, 'n_conv_blocks': 3, 'filters': 9, 'kernel_size': 7, 'pool_size': 5, 'n_dense_blocks': 3, 'dense_nodes': 284, 'batch_size': 28}. Best is trial 17 with value: 0.49387755102040815.\n"
     ]
    },
    {
     "name": "stdout",
     "output_type": "stream",
     "text": [
      "running model having {'n_conv_blocks': 3, 'filters': 3, 'kernel_size': 4, 'pool_size': 7, 'n_dense_blocks': 2, 'dense_nodes': 217} with SpRes = 110 for epochs = 40\n"
     ]
    },
    {
     "name": "stderr",
     "output_type": "stream",
     "text": [
      "[I 2023-07-01 15:22:34,908] Trial 28 finished with value: 0.39183673469387753 and parameters: {'epochs': 33, 'resolution': 110, 'n_conv_blocks': 2, 'filters': 9, 'kernel_size': 6, 'pool_size': 6, 'n_dense_blocks': 3, 'dense_nodes': 292, 'batch_size': 23}. Best is trial 17 with value: 0.49387755102040815.\n"
     ]
    },
    {
     "name": "stdout",
     "output_type": "stream",
     "text": [
      "running model having {'n_conv_blocks': 3, 'filters': 3, 'kernel_size': 4, 'pool_size': 7, 'n_dense_blocks': 2, 'dense_nodes': 68} with SpRes = 110 for epochs = 35\n"
     ]
    },
    {
     "name": "stderr",
     "output_type": "stream",
     "text": [
      "[I 2023-07-01 15:22:58,170] Trial 30 finished with value: 0.37142857142857144 and parameters: {'epochs': 40, 'resolution': 100, 'n_conv_blocks': 3, 'filters': 3, 'kernel_size': 4, 'pool_size': 7, 'n_dense_blocks': 2, 'dense_nodes': 217, 'batch_size': 23}. Best is trial 17 with value: 0.49387755102040815.\n"
     ]
    },
    {
     "name": "stdout",
     "output_type": "stream",
     "text": [
      "running model having {'n_conv_blocks': 3, 'filters': 4, 'kernel_size': 8, 'pool_size': 4, 'n_dense_blocks': 2, 'dense_nodes': 71} with SpRes = 110 for epochs = 28\n"
     ]
    },
    {
     "name": "stderr",
     "output_type": "stream",
     "text": [
      "[I 2023-07-01 15:23:36,683] Trial 31 finished with value: 0.40816326530612246 and parameters: {'epochs': 35, 'resolution': 100, 'n_conv_blocks': 3, 'filters': 3, 'kernel_size': 4, 'pool_size': 7, 'n_dense_blocks': 2, 'dense_nodes': 68, 'batch_size': 25}. Best is trial 17 with value: 0.49387755102040815.\n"
     ]
    },
    {
     "name": "stdout",
     "output_type": "stream",
     "text": [
      "running model having {'n_conv_blocks': 3, 'filters': 5, 'kernel_size': 8, 'pool_size': 4, 'n_dense_blocks': 2, 'dense_nodes': 101} with SpRes = 110 for epochs = 27\n"
     ]
    },
    {
     "name": "stderr",
     "output_type": "stream",
     "text": [
      "[I 2023-07-01 15:24:12,379] Trial 32 finished with value: 0.23265306122448978 and parameters: {'epochs': 28, 'resolution': 110, 'n_conv_blocks': 3, 'filters': 4, 'kernel_size': 8, 'pool_size': 4, 'n_dense_blocks': 2, 'dense_nodes': 71, 'batch_size': 18}. Best is trial 17 with value: 0.49387755102040815.\n"
     ]
    },
    {
     "name": "stdout",
     "output_type": "stream",
     "text": [
      "running model having {'n_conv_blocks': 3, 'filters': 5, 'kernel_size': 7, 'pool_size': 4, 'n_dense_blocks': 2, 'dense_nodes': 107} with SpRes = 110 for epochs = 27\n"
     ]
    },
    {
     "name": "stderr",
     "output_type": "stream",
     "text": [
      "[I 2023-07-01 15:24:49,955] Trial 33 finished with value: 0.40408163265306124 and parameters: {'epochs': 27, 'resolution': 110, 'n_conv_blocks': 3, 'filters': 5, 'kernel_size': 8, 'pool_size': 4, 'n_dense_blocks': 2, 'dense_nodes': 101, 'batch_size': 19}. Best is trial 17 with value: 0.49387755102040815.\n"
     ]
    },
    {
     "name": "stdout",
     "output_type": "stream",
     "text": [
      "running model having {'n_conv_blocks': 2, 'filters': 7, 'kernel_size': 7, 'pool_size': 4, 'n_dense_blocks': 2, 'dense_nodes': 45} with SpRes = 110 for epochs = 26\n"
     ]
    },
    {
     "name": "stderr",
     "output_type": "stream",
     "text": [
      "[I 2023-07-01 15:25:23,606] Trial 34 finished with value: 0.4 and parameters: {'epochs': 27, 'resolution': 110, 'n_conv_blocks': 3, 'filters': 5, 'kernel_size': 7, 'pool_size': 4, 'n_dense_blocks': 2, 'dense_nodes': 107, 'batch_size': 19}. Best is trial 17 with value: 0.49387755102040815.\n"
     ]
    },
    {
     "name": "stdout",
     "output_type": "stream",
     "text": [
      "running model having {'n_conv_blocks': 1, 'filters': 7, 'kernel_size': 7, 'pool_size': 5, 'n_dense_blocks': 1, 'dense_nodes': 170} with SpRes = 110 for epochs = 26\n"
     ]
    },
    {
     "name": "stderr",
     "output_type": "stream",
     "text": [
      "[I 2023-07-01 15:25:59,289] Trial 35 finished with value: 0.4326530612244898 and parameters: {'epochs': 26, 'resolution': 90, 'n_conv_blocks': 2, 'filters': 7, 'kernel_size': 7, 'pool_size': 4, 'n_dense_blocks': 2, 'dense_nodes': 45, 'batch_size': 20}. Best is trial 17 with value: 0.49387755102040815.\n"
     ]
    },
    {
     "name": "stdout",
     "output_type": "stream",
     "text": [
      "running model having {'n_conv_blocks': 1, 'filters': 10, 'kernel_size': 9, 'pool_size': 5, 'n_dense_blocks': 1, 'dense_nodes': 157} with SpRes = 110 for epochs = 22\n"
     ]
    },
    {
     "name": "stderr",
     "output_type": "stream",
     "text": [
      "[I 2023-07-01 15:26:48,162] Trial 36 finished with value: 0.17142857142857143 and parameters: {'epochs': 26, 'resolution': 90, 'n_conv_blocks': 1, 'filters': 7, 'kernel_size': 7, 'pool_size': 5, 'n_dense_blocks': 1, 'dense_nodes': 170, 'batch_size': 17}. Best is trial 17 with value: 0.49387755102040815.\n"
     ]
    },
    {
     "name": "stdout",
     "output_type": "stream",
     "text": [
      "running model having {'n_conv_blocks': 2, 'filters': 10, 'kernel_size': 9, 'pool_size': 5, 'n_dense_blocks': 3, 'dense_nodes': 229} with SpRes = 110 for epochs = 29\n"
     ]
    },
    {
     "name": "stderr",
     "output_type": "stream",
     "text": [
      "[I 2023-07-01 15:28:07,768] Trial 38 finished with value: 0.5183673469387755 and parameters: {'epochs': 29, 'resolution': 110, 'n_conv_blocks': 2, 'filters': 10, 'kernel_size': 9, 'pool_size': 5, 'n_dense_blocks': 3, 'dense_nodes': 229, 'batch_size': 32}. Best is trial 38 with value: 0.5183673469387755.\n"
     ]
    },
    {
     "name": "stdout",
     "output_type": "stream",
     "text": [
      "running model having {'n_conv_blocks': 2, 'filters': 10, 'kernel_size': 9, 'pool_size': 5, 'n_dense_blocks': 3, 'dense_nodes': 224} with SpRes = 110 for epochs = 30\n"
     ]
    },
    {
     "name": "stderr",
     "output_type": "stream",
     "text": [
      "[I 2023-07-01 15:28:24,099] Trial 37 finished with value: 0.22857142857142856 and parameters: {'epochs': 22, 'resolution': 90, 'n_conv_blocks': 1, 'filters': 10, 'kernel_size': 9, 'pool_size': 5, 'n_dense_blocks': 1, 'dense_nodes': 157, 'batch_size': 17}. Best is trial 38 with value: 0.5183673469387755.\n"
     ]
    },
    {
     "name": "stdout",
     "output_type": "stream",
     "text": [
      "running model having {'n_conv_blocks': 2, 'filters': 10, 'kernel_size': 9, 'pool_size': 6, 'n_dense_blocks': 3, 'dense_nodes': 233} with SpRes = 110 for epochs = 30\n"
     ]
    },
    {
     "name": "stderr",
     "output_type": "stream",
     "text": [
      "[I 2023-07-01 15:29:57,825] Trial 40 finished with value: 0.42448979591836733 and parameters: {'epochs': 30, 'resolution': 100, 'n_conv_blocks': 2, 'filters': 10, 'kernel_size': 9, 'pool_size': 6, 'n_dense_blocks': 3, 'dense_nodes': 233, 'batch_size': 32}. Best is trial 38 with value: 0.5183673469387755.\n"
     ]
    },
    {
     "name": "stdout",
     "output_type": "stream",
     "text": [
      "running model having {'n_conv_blocks': 2, 'filters': 8, 'kernel_size': 5, 'pool_size': 5, 'n_dense_blocks': 3, 'dense_nodes': 218} with SpRes = 110 for epochs = 20\n"
     ]
    },
    {
     "name": "stderr",
     "output_type": "stream",
     "text": [
      "[I 2023-07-01 15:30:22,551] Trial 41 finished with value: 0.3346938775510204 and parameters: {'epochs': 20, 'resolution': 100, 'n_conv_blocks': 2, 'filters': 8, 'kernel_size': 5, 'pool_size': 5, 'n_dense_blocks': 3, 'dense_nodes': 218, 'batch_size': 31}. Best is trial 38 with value: 0.5183673469387755.\n"
     ]
    },
    {
     "name": "stdout",
     "output_type": "stream",
     "text": [
      "running model having {'n_conv_blocks': 2, 'filters': 12, 'kernel_size': 8, 'pool_size': 5, 'n_dense_blocks': 3, 'dense_nodes': 271} with SpRes = 110 for epochs = 29\n"
     ]
    },
    {
     "name": "stderr",
     "output_type": "stream",
     "text": [
      "[I 2023-07-01 15:30:32,463] Trial 39 finished with value: 0.40816326530612246 and parameters: {'epochs': 30, 'resolution': 100, 'n_conv_blocks': 2, 'filters': 10, 'kernel_size': 9, 'pool_size': 5, 'n_dense_blocks': 3, 'dense_nodes': 224, 'batch_size': 32}. Best is trial 38 with value: 0.5183673469387755.\n"
     ]
    },
    {
     "name": "stdout",
     "output_type": "stream",
     "text": [
      "running model having {'n_conv_blocks': 2, 'filters': 11, 'kernel_size': 8, 'pool_size': 4, 'n_dense_blocks': 3, 'dense_nodes': 255} with SpRes = 110 for epochs = 29\n"
     ]
    },
    {
     "name": "stderr",
     "output_type": "stream",
     "text": [
      "[I 2023-07-01 15:32:00,548] Trial 43 finished with value: 0.4326530612244898 and parameters: {'epochs': 29, 'resolution': 110, 'n_conv_blocks': 2, 'filters': 11, 'kernel_size': 8, 'pool_size': 4, 'n_dense_blocks': 3, 'dense_nodes': 255, 'batch_size': 28}. Best is trial 38 with value: 0.5183673469387755.\n"
     ]
    },
    {
     "name": "stdout",
     "output_type": "stream",
     "text": [
      "running model having {'n_conv_blocks': 2, 'filters': 8, 'kernel_size': 8, 'pool_size': 4, 'n_dense_blocks': 3, 'dense_nodes': 123} with SpRes = 110 for epochs = 28\n"
     ]
    },
    {
     "name": "stderr",
     "output_type": "stream",
     "text": [
      "[I 2023-07-01 15:32:47,190] Trial 42 finished with value: 0.1673469387755102 and parameters: {'epochs': 29, 'resolution': 110, 'n_conv_blocks': 2, 'filters': 12, 'kernel_size': 8, 'pool_size': 5, 'n_dense_blocks': 3, 'dense_nodes': 271, 'batch_size': 31}. Best is trial 38 with value: 0.5183673469387755.\n"
     ]
    },
    {
     "name": "stdout",
     "output_type": "stream",
     "text": [
      "running model having {'n_conv_blocks': 1, 'filters': 8, 'kernel_size': 9, 'pool_size': 3, 'n_dense_blocks': 2, 'dense_nodes': 125} with SpRes = 110 for epochs = 25\n"
     ]
    },
    {
     "name": "stderr",
     "output_type": "stream",
     "text": [
      "[I 2023-07-01 15:33:03,413] Trial 44 finished with value: 0.19591836734693877 and parameters: {'epochs': 28, 'resolution': 110, 'n_conv_blocks': 2, 'filters': 8, 'kernel_size': 8, 'pool_size': 4, 'n_dense_blocks': 3, 'dense_nodes': 123, 'batch_size': 31}. Best is trial 38 with value: 0.5183673469387755.\n"
     ]
    },
    {
     "name": "stdout",
     "output_type": "stream",
     "text": [
      "running model having {'n_conv_blocks': 1, 'filters': 3, 'kernel_size': 9, 'pool_size': 3, 'n_dense_blocks': 2, 'dense_nodes': 366} with SpRes = 110 for epochs = 24\n"
     ]
    },
    {
     "name": "stderr",
     "output_type": "stream",
     "text": [
      "[I 2023-07-01 15:34:27,146] Trial 45 finished with value: 0.16326530612244897 and parameters: {'epochs': 25, 'resolution': 110, 'n_conv_blocks': 1, 'filters': 8, 'kernel_size': 9, 'pool_size': 3, 'n_dense_blocks': 2, 'dense_nodes': 125, 'batch_size': 27}. Best is trial 38 with value: 0.5183673469387755.\n"
     ]
    },
    {
     "name": "stdout",
     "output_type": "stream",
     "text": [
      "running model having {'n_conv_blocks': 3, 'filters': 3, 'kernel_size': 7, 'pool_size': 6, 'n_dense_blocks': 2, 'dense_nodes': 494} with SpRes = 110 for epochs = 35\n"
     ]
    },
    {
     "name": "stderr",
     "output_type": "stream",
     "text": [
      "[I 2023-07-01 15:34:29,121] Trial 46 finished with value: 0.17551020408163265 and parameters: {'epochs': 24, 'resolution': 110, 'n_conv_blocks': 1, 'filters': 3, 'kernel_size': 9, 'pool_size': 3, 'n_dense_blocks': 2, 'dense_nodes': 366, 'batch_size': 20}. Best is trial 38 with value: 0.5183673469387755.\n"
     ]
    },
    {
     "name": "stdout",
     "output_type": "stream",
     "text": [
      "running model having {'n_conv_blocks': 2, 'filters': 12, 'kernel_size': 7, 'pool_size': 6, 'n_dense_blocks': 1, 'dense_nodes': 46} with SpRes = 110 for epochs = 26\n"
     ]
    },
    {
     "name": "stderr",
     "output_type": "stream",
     "text": [
      "[I 2023-07-01 15:35:59,516] Trial 47 finished with value: 0.3224489795918367 and parameters: {'epochs': 35, 'resolution': 110, 'n_conv_blocks': 3, 'filters': 3, 'kernel_size': 7, 'pool_size': 6, 'n_dense_blocks': 2, 'dense_nodes': 494, 'batch_size': 20}. Best is trial 38 with value: 0.5183673469387755.\n"
     ]
    },
    {
     "name": "stdout",
     "output_type": "stream",
     "text": [
      "running model having {'n_conv_blocks': 2, 'filters': 6, 'kernel_size': 8, 'pool_size': 6, 'n_dense_blocks': 1, 'dense_nodes': 194} with SpRes = 110 for epochs = 21\n"
     ]
    },
    {
     "name": "stderr",
     "output_type": "stream",
     "text": [
      "[I 2023-07-01 15:36:33,403] Trial 49 finished with value: 0.42448979591836733 and parameters: {'epochs': 21, 'resolution': 110, 'n_conv_blocks': 2, 'filters': 6, 'kernel_size': 8, 'pool_size': 6, 'n_dense_blocks': 1, 'dense_nodes': 194, 'batch_size': 29}. Best is trial 38 with value: 0.5183673469387755.\n",
      "[I 2023-07-01 15:36:54,346] Trial 48 finished with value: 0.39591836734693875 and parameters: {'epochs': 26, 'resolution': 110, 'n_conv_blocks': 2, 'filters': 12, 'kernel_size': 7, 'pool_size': 6, 'n_dense_blocks': 1, 'dense_nodes': 46, 'batch_size': 29}. Best is trial 38 with value: 0.5183673469387755.\n"
     ]
    }
   ],
   "source": [
    "import optuna\n",
    "study = optuna.create_study(direction='maximize')\n",
    "trial_function = lambda trial: objective(trial, train_idxs, val_idxs)\n",
    "study.optimize(trial_function, n_trials=50, n_jobs=2, catch=ValueError)"
   ]
  },
  {
   "cell_type": "markdown",
   "id": "fd3d36ae",
   "metadata": {},
   "source": [
    "## Results"
   ]
  },
  {
   "cell_type": "code",
   "execution_count": 13,
   "id": "4d8f76b7",
   "metadata": {},
   "outputs": [
    {
     "name": "stdout",
     "output_type": "stream",
     "text": [
      "for emotion best is {'epochs': 29, 'resolution': 110, 'n_conv_blocks': 2, 'filters': 10, 'kernel_size': 9, 'pool_size': 5, 'n_dense_blocks': 3, 'dense_nodes': 229, 'batch_size': 32}\n",
      "Model: \"sequential_1\"\n",
      "_________________________________________________________________\n",
      " Layer (type)                Output Shape              Param #   \n",
      "=================================================================\n",
      " conv_0 (Conv1D)             (None, 303, 16)           8016      \n",
      "                                                                 \n",
      " avg_pooling_0 (AveragePooli  (None, 60, 16)           0         \n",
      " ng1D)                                                           \n",
      "                                                                 \n",
      " conv_1 (Conv1D)             (None, 60, 16)            1296      \n",
      "                                                                 \n",
      " avg_pooling_1 (AveragePooli  (None, 12, 16)           0         \n",
      " ng1D)                                                           \n",
      "                                                                 \n",
      " conv_2 (Conv1D)             (None, 12, 16)            1296      \n",
      "                                                                 \n",
      " flatten_1 (Flatten)         (None, 192)               0         \n",
      "                                                                 \n",
      " dense_0 (Dense)             (None, 256)               49408     \n",
      "                                                                 \n",
      " output (Dense)              (None, 8)                 2056      \n",
      "                                                                 \n",
      "=================================================================\n",
      "Total params: 62,072\n",
      "Trainable params: 62,072\n",
      "Non-trainable params: 0\n",
      "_________________________________________________________________\n",
      "Epoch 1/40\n",
      "76/76 [==============================] - 4s 28ms/step - loss: 1.9435 - accuracy: 0.2392\n",
      "Epoch 2/40\n",
      "76/76 [==============================] - 2s 24ms/step - loss: 1.7728 - accuracy: 0.3111\n",
      "Epoch 3/40\n",
      "76/76 [==============================] - 2s 25ms/step - loss: 1.6045 - accuracy: 0.3692\n",
      "Epoch 4/40\n",
      "76/76 [==============================] - 2s 24ms/step - loss: 1.5203 - accuracy: 0.4090\n",
      "Epoch 5/40\n",
      "76/76 [==============================] - 2s 24ms/step - loss: 1.4677 - accuracy: 0.4171\n",
      "Epoch 6/40\n",
      "76/76 [==============================] - 2s 24ms/step - loss: 1.3972 - accuracy: 0.4452\n",
      "Epoch 7/40\n",
      "76/76 [==============================] - 2s 24ms/step - loss: 1.3077 - accuracy: 0.4901\n",
      "Epoch 8/40\n",
      "76/76 [==============================] - 2s 26ms/step - loss: 1.3133 - accuracy: 0.4946\n",
      "Epoch 9/40\n",
      "76/76 [==============================] - 2s 24ms/step - loss: 1.2547 - accuracy: 0.5038\n",
      "Epoch 10/40\n",
      "76/76 [==============================] - 2s 24ms/step - loss: 1.2232 - accuracy: 0.5161\n",
      "Epoch 11/40\n",
      "76/76 [==============================] - 2s 24ms/step - loss: 1.1549 - accuracy: 0.5451\n",
      "Epoch 12/40\n",
      "76/76 [==============================] - 2s 24ms/step - loss: 1.1155 - accuracy: 0.5701\n",
      "Epoch 13/40\n",
      "76/76 [==============================] - 2s 24ms/step - loss: 1.1434 - accuracy: 0.5461\n",
      "Epoch 14/40\n",
      "76/76 [==============================] - 2s 24ms/step - loss: 1.0988 - accuracy: 0.5747\n",
      "Epoch 15/40\n",
      "76/76 [==============================] - 2s 23ms/step - loss: 1.0560 - accuracy: 0.5926\n",
      "Epoch 16/40\n",
      "76/76 [==============================] - 2s 24ms/step - loss: 1.0876 - accuracy: 0.5706\n",
      "Epoch 17/40\n",
      "76/76 [==============================] - 2s 23ms/step - loss: 0.9792 - accuracy: 0.6160\n",
      "Epoch 18/40\n",
      "76/76 [==============================] - 2s 23ms/step - loss: 0.9674 - accuracy: 0.6150\n",
      "Epoch 19/40\n",
      "76/76 [==============================] - 2s 24ms/step - loss: 0.9286 - accuracy: 0.6476\n",
      "Epoch 20/40\n",
      "76/76 [==============================] - 2s 25ms/step - loss: 1.0474 - accuracy: 0.5839\n",
      "Epoch 21/40\n",
      "76/76 [==============================] - 2s 25ms/step - loss: 0.9240 - accuracy: 0.6313\n",
      "Epoch 22/40\n",
      "76/76 [==============================] - 2s 24ms/step - loss: 0.8318 - accuracy: 0.6859\n",
      "Epoch 23/40\n",
      "76/76 [==============================] - 2s 26ms/step - loss: 0.8130 - accuracy: 0.6884\n",
      "Epoch 24/40\n",
      "76/76 [==============================] - 2s 26ms/step - loss: 0.8331 - accuracy: 0.6828\n",
      "Epoch 25/40\n",
      "76/76 [==============================] - 2s 23ms/step - loss: 0.7776 - accuracy: 0.6976\n",
      "Epoch 26/40\n",
      "76/76 [==============================] - 2s 24ms/step - loss: 0.7552 - accuracy: 0.7155\n",
      "Epoch 27/40\n",
      "76/76 [==============================] - 2s 26ms/step - loss: 0.7466 - accuracy: 0.7226\n",
      "Epoch 28/40\n",
      "76/76 [==============================] - 2s 24ms/step - loss: 0.7150 - accuracy: 0.7272\n",
      "Epoch 29/40\n",
      "76/76 [==============================] - 2s 25ms/step - loss: 0.7135 - accuracy: 0.7241\n",
      "Epoch 30/40\n",
      "76/76 [==============================] - 2s 26ms/step - loss: 0.6438 - accuracy: 0.7608\n",
      "Epoch 31/40\n",
      "76/76 [==============================] - 2s 24ms/step - loss: 0.6156 - accuracy: 0.7695\n",
      "Epoch 32/40\n",
      "76/76 [==============================] - 2s 23ms/step - loss: 0.6291 - accuracy: 0.7578\n",
      "Epoch 33/40\n",
      "76/76 [==============================] - 2s 24ms/step - loss: 0.5910 - accuracy: 0.7838\n",
      "Epoch 34/40\n",
      "76/76 [==============================] - 2s 24ms/step - loss: 0.6456 - accuracy: 0.7466\n",
      "Epoch 35/40\n",
      "76/76 [==============================] - 2s 24ms/step - loss: 0.5274 - accuracy: 0.8078\n",
      "Epoch 36/40\n",
      "76/76 [==============================] - 2s 24ms/step - loss: 0.5036 - accuracy: 0.8113\n",
      "Epoch 37/40\n",
      "76/76 [==============================] - 2s 23ms/step - loss: 0.5600 - accuracy: 0.7884\n",
      "Epoch 38/40\n",
      "76/76 [==============================] - 2s 23ms/step - loss: 0.4750 - accuracy: 0.8261\n",
      "Epoch 39/40\n",
      "76/76 [==============================] - 2s 24ms/step - loss: 0.4325 - accuracy: 0.8455\n",
      "Epoch 40/40\n",
      "76/76 [==============================] - 2s 24ms/step - loss: 0.5026 - accuracy: 0.8098\n"
     ]
    },
    {
     "data": {
      "text/plain": [
       "<keras.callbacks.History at 0x7fcef905a500>"
      ]
     },
     "execution_count": 13,
     "metadata": {},
     "output_type": "execute_result"
    }
   ],
   "source": [
    "print(\"for emotion best is\", study.best_params)\n",
    "best_params_emotion = study.best_params\n",
    "best_params_emotion = dict(epochs=40, resolution=100, n_conv_blocks=3,\n",
    "                          filters=16, kernel_size=5, pool_size=5,\n",
    "                          n_dense_blocks=1 ,dense_nodes=256, batch_size=26)\n",
    "\n",
    "X = STFT_dict[best_params_emotion[\"resolution\"]]\n",
    "\n",
    "cnn = build_model(X.shape[1:], len(np.unique(y)), **best_params_emotion)\n",
    "cnn.summary()\n",
    "\n",
    "# Train on train+validation\n",
    "final_train_idxs = np.concatenate((train_idxs, val_idxs))\n",
    "\n",
    "cnn.fit(X[final_train_idxs], \n",
    "        y[final_train_idxs], \n",
    "        epochs=best_params_emotion[\"epochs\"], \n",
    "        batch_size=best_params_emotion[\"batch_size\"])"
   ]
  },
  {
   "cell_type": "code",
   "execution_count": 14,
   "id": "001f133b",
   "metadata": {},
   "outputs": [
    {
     "name": "stdout",
     "output_type": "stream",
     "text": [
      "16/16 [==============================] - 0s 10ms/step\n",
      "0.5193482688391039\n"
     ]
    }
   ],
   "source": [
    "from sklearn.metrics import accuracy_score\n",
    "\n",
    "ypred = np.argmax(cnn.predict(X[test_idxs]), axis=1)\n",
    "\n",
    "print(accuracy_score(y[test_idxs], ypred))"
   ]
  },
  {
   "cell_type": "code",
   "execution_count": 15,
   "id": "382ccc65",
   "metadata": {
    "scrolled": true
   },
   "outputs": [
    {
     "name": "stdout",
     "output_type": "stream",
     "text": [
      "              precision    recall  f1-score   support\n",
      "\n",
      "       angry       0.46      0.61      0.52        74\n",
      "        calm       0.62      0.75      0.68        85\n",
      "     disgust       0.38      0.50      0.43        40\n",
      "     fearful       0.56      0.36      0.43        70\n",
      "       happy       0.61      0.62      0.62        72\n",
      "     neutral       0.63      0.36      0.46        33\n",
      "         sad       0.59      0.33      0.42        82\n",
      "   surprised       0.32      0.49      0.39        35\n",
      "\n",
      "    accuracy                           0.52       491\n",
      "   macro avg       0.52      0.50      0.49       491\n",
      "weighted avg       0.54      0.52      0.51       491\n",
      "\n"
     ]
    },
    {
     "name": "stderr",
     "output_type": "stream",
     "text": [
      "/home/djanloo/.local/share/virtualenvs/DM2-PeqFRmfa/lib/python3.10/site-packages/IPython/core/events.py:93: UserWarning: This figure includes Axes that are not compatible with tight_layout, so results might be incorrect.\n",
      "  func(*args, **kwargs)\n",
      "/home/djanloo/.local/share/virtualenvs/DM2-PeqFRmfa/lib/python3.10/site-packages/IPython/core/pylabtools.py:152: UserWarning: This figure includes Axes that are not compatible with tight_layout, so results might be incorrect.\n",
      "  fig.canvas.print_figure(bytes_io, **kw)\n"
     ]
    },
    {
     "data": {
      "image/png": "[encoded data removed]",
      "text/plain": [
       "<Figure size 400x400 with 1 Axes>"
      ]
     },
     "metadata": {},
     "output_type": "display_data"
    }
   ],
   "source": [
    "from sklearn.metrics import confusion_matrix\n",
    "from sklearn.metrics import classification_report\n",
    "\n",
    "plt.matshow(confusion_matrix(y[test_idxs], ypred))\n",
    "plt.xticks(np.unique(y), labels = enc.inverse_transform(np.unique(y)), rotation=90);\n",
    "plt.yticks(np.unique(y), labels = enc.inverse_transform(np.unique(y)), rotation=0);\n",
    "\n",
    "plt.title(f\"accuracy = {accuracy_score(y[test_idxs], ypred)*100:.2f}\")\n",
    "plt.grid(ls=\"\")\n",
    "\n",
    "print(classification_report(enc.inverse_transform(y[test_idxs]), enc.inverse_transform(ypred)))"
   ]
  },
  {
   "cell_type": "code",
   "execution_count": 1,
   "id": "d856b7fe",
   "metadata": {},
   "outputs": [
    {
     "ename": "NameError",
     "evalue": "name 'cnn' is not defined",
     "output_type": "error",
     "traceback": [
      "\u001b[0;31m---------------------------------------------------------------------------\u001b[0m",
      "\u001b[0;31mNameError\u001b[0m                                 Traceback (most recent call last)",
      "Cell \u001b[0;32mIn[1], line 1\u001b[0m\n\u001b[0;32m----> 1\u001b[0m \u001b[43mcnn\u001b[49m\n",
      "\u001b[0;31mNameError\u001b[0m: name 'cnn' is not defined"
     ]
    }
   ],
   "source": [
    "cnn"
   ]
  },
  {
   "cell_type": "code",
   "execution_count": null,
   "id": "7f46041a",
   "metadata": {},
   "outputs": [],
   "source": []
  }
 ],
 "metadata": {
  "kernelspec": {
   "display_name": "DM2",
   "language": "python",
   "name": "dm2"
  },
  "language_info": {
   "codemirror_mode": {
    "name": "ipython",
    "version": 3
   },
   "file_extension": ".py",
   "mimetype": "text/x-python",
   "name": "python",
   "nbconvert_exporter": "python",
   "pygments_lexer": "ipython3",
   "version": "3.10.6"
  }
 },
 "nbformat": 4,
 "nbformat_minor": 5
}
