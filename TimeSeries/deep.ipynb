{
 "cells": [
  {
   "cell_type": "code",
   "execution_count": null,
   "id": "cf86f677",
   "metadata": {},
   "outputs": [],
   "source": [
    "import os\n",
    "import numpy as np\n",
    "import pandas as pd\n",
    "import matplotlib.pyplot as plt\n",
    "import seaborn as sns; sns.set()\n",
    "\n",
    "from tqdm.notebook import tqdm\n",
    "\n",
    "import sys\n",
    "sys.path.append('../')\n",
    "import default_style\n",
    "\n",
    "TS_DATASET_FOLDER = os.path.join(\"..\", \"dataset\")\n",
    "TS_PREPROC_FOLDER = os.path.join(TS_DATASET_FOLDER, \"preprocessed_traces\")\n",
    "DF_PREPROC_FILE = os.path.join(TS_PREPROC_FOLDER, \"preproc_ts.df\")\n",
    "\n",
    "INTERESTING_TRACES = [\"denoised_trace\", \"std_phon_trace\", \"phonetic_trace\"]\n",
    "\n",
    "## Save folder for long-run estimators\n",
    "ESTIMATORS_FOLDER = os.path.join(\"..\", \"estimators\")"
   ]
  },
  {
   "cell_type": "code",
   "execution_count": null,
   "id": "8a4ddead",
   "metadata": {},
   "outputs": [],
   "source": [
    "# Load stuff\n",
    "df = pd.read_csv(DF_PREPROC_FILE)\n",
    "\n",
    "traces = dict()\n",
    "for t in INTERESTING_TRACES:\n",
    "    traces[t] = np.load(os.path.join(TS_PREPROC_FOLDER, f\"{t}.npy\"))"
   ]
  },
  {
   "cell_type": "code",
   "execution_count": null,
   "id": "34da2efe",
   "metadata": {},
   "outputs": [],
   "source": [
    "# Minimal preprocessing\n",
    "from sklearn.preprocessing import OneHotEncoder\n",
    "from sklearn.model_selection import train_test_split\n",
    "\n",
    "X = traces[\"denoised_trace\"]\n",
    "X[X==np.nan] = 0\n",
    "\n",
    "ohenc = OneHotEncoder()\n",
    "y = ehenc.fit_transform(df.emotion)\n",
    "\n",
    "\n",
    "X_train, X_test, y_train, y_test = train_test_split(X, y, test_size=0.2)"
   ]
  },
  {
   "cell_type": "code",
   "execution_count": null,
   "id": "0400b1aa",
   "metadata": {},
   "outputs": [],
   "source": [
    "# Define the model\n",
    "from keras.layers import LSTM, GRU, Conv1D, Input, Dense\n",
    "from keras.metrics import CategoricalCrossentropy as cat_cross_metric, CategoricalAccuracy as cat_acc_metric\n",
    "from keras.losses import CategoricalCrossentropy\n",
    "from keras.models import model\n",
    "\n",
    "# Model\n",
    "input_layer = Input(shape=X.shape[1], name=\"input\")\n",
    "lstm = LSTM(128)(input_layer)\n",
    "dense = Dense(128)(lstm)\n",
    "dense = Dense(128)(dense)\n",
    "output = Dense(y.shape[1], activation=\"softmax\", name=\"output\")(dense)\n",
    "\n",
    "# Compilation\n",
    "model = Model(inputs=input, outputs=output, name=\"LSTM_dense\")\n",
    "model.compile(optimizer=\"adam\",\n",
    "            loss=CategoricalCrossentropy(),\n",
    "            metrics= [cat_cross_metric(), cat_acc_metric()],\n",
    "\n",
    "model.summary()"
   ]
  },
  {
   "cell_type": "code",
   "execution_count": null,
   "id": "61a0cd19",
   "metadata": {},
   "outputs": [],
   "source": [
    "# Fit\n",
    "history = model.fit(\n",
    "                    X_train, y_train, \n",
    "                    epochs=10, batch_size=10, verbose=1, \n",
    "                    validation_split = 0.05\n",
    "                   )"
   ]
  }
 ],
 "metadata": {
  "kernelspec": {
   "display_name": "DM2",
   "language": "python",
   "name": "dm2"
  },
  "language_info": {
   "codemirror_mode": {
    "name": "ipython",
    "version": 3
   },
   "file_extension": ".py",
   "mimetype": "text/x-python",
   "name": "python",
   "nbconvert_exporter": "python",
   "pygments_lexer": "ipython3",
   "version": "3.10.6"
  }
 },
 "nbformat": 4,
 "nbformat_minor": 5
}
