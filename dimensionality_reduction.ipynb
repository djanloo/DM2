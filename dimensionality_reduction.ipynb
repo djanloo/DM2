{
 "cells": [
  {
   "cell_type": "code",
   "execution_count": 1,
   "metadata": {},
   "outputs": [],
   "source": [
    "import pandas as pd\n",
    "import numpy as np\n",
    "import matplotlib.pyplot as plt\n",
    "import seaborn as sns; sns.set()\n",
    "import os\n",
    "from pandas.core.dtypes.common import is_numeric_dtype\n",
    "\n",
    "DATA_FOLDER = 'dataset'\n",
    "DATASET = os.path.join(DATA_FOLDER, 'preprocessed_df.csv')\n",
    "\n",
    "df = pd.read_csv(DATASET)\n",
    "numerical_attr_list = [col for col in df.columns if is_numeric_dtype(df[col])]"
   ]
  },
  {
   "cell_type": "code",
   "execution_count": 5,
   "metadata": {},
   "outputs": [
    {
     "data": {
      "text/html": [
       "<style>#sk-container-id-3 {color: black;background-color: white;}#sk-container-id-3 pre{padding: 0;}#sk-container-id-3 div.sk-toggleable {background-color: white;}#sk-container-id-3 label.sk-toggleable__label {cursor: pointer;display: block;width: 100%;margin-bottom: 0;padding: 0.3em;box-sizing: border-box;text-align: center;}#sk-container-id-3 label.sk-toggleable__label-arrow:before {content: \"▸\";float: left;margin-right: 0.25em;color: #696969;}#sk-container-id-3 label.sk-toggleable__label-arrow:hover:before {color: black;}#sk-container-id-3 div.sk-estimator:hover label.sk-toggleable__label-arrow:before {color: black;}#sk-container-id-3 div.sk-toggleable__content {max-height: 0;max-width: 0;overflow: hidden;text-align: left;background-color: #f0f8ff;}#sk-container-id-3 div.sk-toggleable__content pre {margin: 0.2em;color: black;border-radius: 0.25em;background-color: #f0f8ff;}#sk-container-id-3 input.sk-toggleable__control:checked~div.sk-toggleable__content {max-height: 200px;max-width: 100%;overflow: auto;}#sk-container-id-3 input.sk-toggleable__control:checked~label.sk-toggleable__label-arrow:before {content: \"▾\";}#sk-container-id-3 div.sk-estimator input.sk-toggleable__control:checked~label.sk-toggleable__label {background-color: #d4ebff;}#sk-container-id-3 div.sk-label input.sk-toggleable__control:checked~label.sk-toggleable__label {background-color: #d4ebff;}#sk-container-id-3 input.sk-hidden--visually {border: 0;clip: rect(1px 1px 1px 1px);clip: rect(1px, 1px, 1px, 1px);height: 1px;margin: -1px;overflow: hidden;padding: 0;position: absolute;width: 1px;}#sk-container-id-3 div.sk-estimator {font-family: monospace;background-color: #f0f8ff;border: 1px dotted black;border-radius: 0.25em;box-sizing: border-box;margin-bottom: 0.5em;}#sk-container-id-3 div.sk-estimator:hover {background-color: #d4ebff;}#sk-container-id-3 div.sk-parallel-item::after {content: \"\";width: 100%;border-bottom: 1px solid gray;flex-grow: 1;}#sk-container-id-3 div.sk-label:hover label.sk-toggleable__label {background-color: #d4ebff;}#sk-container-id-3 div.sk-serial::before {content: \"\";position: absolute;border-left: 1px solid gray;box-sizing: border-box;top: 0;bottom: 0;left: 50%;z-index: 0;}#sk-container-id-3 div.sk-serial {display: flex;flex-direction: column;align-items: center;background-color: white;padding-right: 0.2em;padding-left: 0.2em;position: relative;}#sk-container-id-3 div.sk-item {position: relative;z-index: 1;}#sk-container-id-3 div.sk-parallel {display: flex;align-items: stretch;justify-content: center;background-color: white;position: relative;}#sk-container-id-3 div.sk-item::before, #sk-container-id-3 div.sk-parallel-item::before {content: \"\";position: absolute;border-left: 1px solid gray;box-sizing: border-box;top: 0;bottom: 0;left: 50%;z-index: -1;}#sk-container-id-3 div.sk-parallel-item {display: flex;flex-direction: column;z-index: 1;position: relative;background-color: white;}#sk-container-id-3 div.sk-parallel-item:first-child::after {align-self: flex-end;width: 50%;}#sk-container-id-3 div.sk-parallel-item:last-child::after {align-self: flex-start;width: 50%;}#sk-container-id-3 div.sk-parallel-item:only-child::after {width: 0;}#sk-container-id-3 div.sk-dashed-wrapped {border: 1px dashed gray;margin: 0 0.4em 0.5em 0.4em;box-sizing: border-box;padding-bottom: 0.4em;background-color: white;}#sk-container-id-3 div.sk-label label {font-family: monospace;font-weight: bold;display: inline-block;line-height: 1.2em;}#sk-container-id-3 div.sk-label-container {text-align: center;}#sk-container-id-3 div.sk-container {/* jupyter's `normalize.less` sets `[hidden] { display: none; }` but bootstrap.min.css set `[hidden] { display: none !important; }` so we also need the `!important` here to be able to override the default hidden behavior on the sphinx rendered scikit-learn.org. See: https://github.com/scikit-learn/scikit-learn/issues/21755 */display: inline-block !important;position: relative;}#sk-container-id-3 div.sk-text-repr-fallback {display: none;}</style><div id=\"sk-container-id-3\" class=\"sk-top-container\"><div class=\"sk-text-repr-fallback\"><pre>PCA(n_components=array([[ 1.58558000e+05,  1.45080566e-01,  9.14999977e-07, ...,\n",
       "         8.96606432e-01,  6.74219030e+00, -1.70621500e+00],\n",
       "       [ 1.60160000e+05,  1.14318848e-01,  7.13779019e-07, ...,\n",
       "         8.74713009e-01, -7.00420243e-01, -2.01495219e-01],\n",
       "       [ 1.56956000e+05,  1.49963379e-01,  9.55448526e-07, ...,\n",
       "         8.99156306e-01,  1.68898567e+00, -1.02477319e+00],\n",
       "       ...,\n",
       "       [ 2.06606000e+05,  5.73760986e-01,  2.77707804e-06, ...,\n",
       "         7.29065582e-01, -9.97740143e-01, -3.01337696e-03],\n",
       "       [ 2.03404000e+05,  7.92572021e-01,  3.89654098e-06, ...,\n",
       "         7.98052569e-01, -6.70500299e-01, -3.25275998e-01],\n",
       "       [ 2.13013000e+05,  3.55529785e-01,  1.66905205e-06, ...,\n",
       "         8.22546573e-01, -5.38010620e-01, -6.13432901e-01]]))</pre><b>In a Jupyter environment, please rerun this cell to show the HTML representation or trust the notebook. <br />On GitHub, the HTML representation is unable to render, please try loading this page with nbviewer.org.</b></div><div class=\"sk-container\" hidden><div class=\"sk-item\"><div class=\"sk-estimator sk-toggleable\"><input class=\"sk-toggleable__control sk-hidden--visually\" id=\"sk-estimator-id-3\" type=\"checkbox\" checked><label for=\"sk-estimator-id-3\" class=\"sk-toggleable__label sk-toggleable__label-arrow\">PCA</label><div class=\"sk-toggleable__content\"><pre>PCA(n_components=array([[ 1.58558000e+05,  1.45080566e-01,  9.14999977e-07, ...,\n",
       "         8.96606432e-01,  6.74219030e+00, -1.70621500e+00],\n",
       "       [ 1.60160000e+05,  1.14318848e-01,  7.13779019e-07, ...,\n",
       "         8.74713009e-01, -7.00420243e-01, -2.01495219e-01],\n",
       "       [ 1.56956000e+05,  1.49963379e-01,  9.55448526e-07, ...,\n",
       "         8.99156306e-01,  1.68898567e+00, -1.02477319e+00],\n",
       "       ...,\n",
       "       [ 2.06606000e+05,  5.73760986e-01,  2.77707804e-06, ...,\n",
       "         7.29065582e-01, -9.97740143e-01, -3.01337696e-03],\n",
       "       [ 2.03404000e+05,  7.92572021e-01,  3.89654098e-06, ...,\n",
       "         7.98052569e-01, -6.70500299e-01, -3.25275998e-01],\n",
       "       [ 2.13013000e+05,  3.55529785e-01,  1.66905205e-06, ...,\n",
       "         8.22546573e-01, -5.38010620e-01, -6.13432901e-01]]))</pre></div></div></div></div></div>"
      ],
      "text/plain": [
       "PCA(n_components=array([[ 1.58558000e+05,  1.45080566e-01,  9.14999977e-07, ...,\n",
       "         8.96606432e-01,  6.74219030e+00, -1.70621500e+00],\n",
       "       [ 1.60160000e+05,  1.14318848e-01,  7.13779019e-07, ...,\n",
       "         8.74713009e-01, -7.00420243e-01, -2.01495219e-01],\n",
       "       [ 1.56956000e+05,  1.49963379e-01,  9.55448526e-07, ...,\n",
       "         8.99156306e-01,  1.68898567e+00, -1.02477319e+00],\n",
       "       ...,\n",
       "       [ 2.06606000e+05,  5.73760986e-01,  2.77707804e-06, ...,\n",
       "         7.29065582e-01, -9.97740143e-01, -3.01337696e-03],\n",
       "       [ 2.03404000e+05,  7.92572021e-01,  3.89654098e-06, ...,\n",
       "         7.98052569e-01, -6.70500299e-01, -3.25275998e-01],\n",
       "       [ 2.13013000e+05,  3.55529785e-01,  1.66905205e-06, ...,\n",
       "         8.22546573e-01, -5.38010620e-01, -6.13432901e-01]]))"
      ]
     },
     "execution_count": 5,
     "metadata": {},
     "output_type": "execute_result"
    }
   ],
   "source": [
    "from sklearn.decomposition import PCA\n",
    "from sklearn.preprocessing import MinMaxScaler\n",
    "res = PCA(MinMaxdf[numerical_attr_list].values)\n",
    "res"
   ]
  },
  {
   "cell_type": "code",
   "execution_count": null,
   "metadata": {},
   "outputs": [],
   "source": []
  }
 ],
 "metadata": {
  "kernelspec": {
   "display_name": "DM2-PeqFRmfa",
   "language": "python",
   "name": "python3"
  },
  "language_info": {
   "codemirror_mode": {
    "name": "ipython",
    "version": 3
   },
   "file_extension": ".py",
   "mimetype": "text/x-python",
   "name": "python",
   "nbconvert_exporter": "python",
   "pygments_lexer": "ipython3",
   "version": "3.10.6"
  },
  "orig_nbformat": 4
 },
 "nbformat": 4,
 "nbformat_minor": 2
}
