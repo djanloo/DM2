{
 "cells": [
  {
   "cell_type": "code",
   "execution_count": 7,
   "metadata": {},
   "outputs": [],
   "source": [
    "import pandas as pd\n",
    "import numpy as np\n",
    "import matplotlib.pyplot as plt\n",
    "import seaborn as sns; sns.set()\n",
    "import os\n",
    "from pandas.core.dtypes.common import is_numeric_dtype\n",
    "from sklearn.preprocessing import MinMaxScaler\n",
    "\n",
    "DATA_FOLDER = 'dataset'\n",
    "DATASET = os.path.join(DATA_FOLDER, 'preprocessed_df.csv')\n",
    "\n",
    "df = pd.read_csv(DATASET)\n",
    "numerical_attr_list = [col for col in df.columns if is_numeric_dtype(df[col])]\n",
    "\n",
    "normalized_df = MinMaxScaler().fit_transform(df[numerical_attr_list].values)"
   ]
  },
  {
   "cell_type": "code",
   "execution_count": 12,
   "metadata": {},
   "outputs": [],
   "source": [
    "def plot_outliers_in_embedding(embedding):\n",
    "    fig, axes = plt.subplots(2,2, sharex=True, sharey=True)\n",
    "    axabod, axlof, axisfo, _ = axes.flatten()\n",
    "    methods = [s.format(cat=\"vc\") for s in [\"is_outlier_{cat}_ABOD\",\n",
    "                                            \"is_outlier_{cat}_LOF\", \n",
    "                                            \"is_outlier_{cat}_ISFO\"]\n",
    "                ]\n",
    "    for ax, method in zip([axabod, axlof, axisfo], [\"is_outlier\"]):\n",
    "        ax.scatter(*embedding.T, c=df[method], cmap=\"plasma\")\n",
    "    return fig, axes"
   ]
  },
  {
   "cell_type": "code",
   "execution_count": null,
   "metadata": {},
   "outputs": [],
   "source": [
    "from sklearn.decomposition import PCA\n",
    "res = PCA(n_components=2)\n",
    "embedding = res.fit_transform(normalized_df)\n",
    "plot_outliers_in_embedding(embedding)"
   ]
  },
  {
   "cell_type": "code",
   "execution_count": null,
   "metadata": {},
   "outputs": [],
   "source": [
    "import umap\n",
    "reducer = umap.UMAP(n_components=2, n_neighbors=6)\n",
    "embedding = reducer.fit_transform(normalized_df)\n",
    "plot_outliers_in_embedding(embedding)"
   ]
  },
  {
   "cell_type": "code",
   "execution_count": null,
   "metadata": {},
   "outputs": [],
   "source": [
    "from sklearn.manifold import Isomap\n",
    "reducer = Isomap(n_components=2, n_neighbors=6)\n",
    "embedding = reducer.fit_transform(normalized_df)"
   ]
  }
 ],
 "metadata": {
  "kernelspec": {
   "display_name": "DM2-PeqFRmfa",
   "language": "python",
   "name": "python3"
  },
  "language_info": {
   "codemirror_mode": {
    "name": "ipython",
    "version": 3
   },
   "file_extension": ".py",
   "mimetype": "text/x-python",
   "name": "python",
   "nbconvert_exporter": "python",
   "pygments_lexer": "ipython3",
   "version": "3.10.6"
  },
  "orig_nbformat": 4
 },
 "nbformat": 4,
 "nbformat_minor": 2
}
