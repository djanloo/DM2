{
 "cells": [
  {
   "cell_type": "code",
   "execution_count": 2,
   "metadata": {
    "collapsed": true,
    "ExecuteTime": {
     "end_time": "2023-06-06T16:55:16.425916Z",
     "start_time": "2023-06-06T16:55:16.215068Z"
    }
   },
   "outputs": [],
   "source": [
    "import os\n",
    "import re\n",
    "\n",
    "import numpy as np\n",
    "import pandas as pd\n",
    "import matplotlib.pyplot as plt\n",
    "import seaborn as sns\n",
    "\n",
    "from pandas.core.dtypes.common import is_numeric_dtype\n",
    "from sklearn.feature_selection import mutual_info_regression, f_regression, SelectKBest\n",
    "from sklearn.preprocessing import MinMaxScaler"
   ]
  },
  {
   "cell_type": "code",
   "execution_count": 3,
   "outputs": [],
   "source": [
    "DATA_FOLDER = 'dataset'\n",
    "DATASET = os.path.join(DATA_FOLDER, 'outliers_removed.csv')"
   ],
   "metadata": {
    "collapsed": false,
    "ExecuteTime": {
     "end_time": "2023-06-06T16:55:16.428770Z",
     "start_time": "2023-06-06T16:55:16.426902Z"
    }
   }
  },
  {
   "cell_type": "code",
   "execution_count": 4,
   "outputs": [
    {
     "data": {
      "text/plain": "   frame_count       sum          mean       std       min       max   \n0       158558  0.145081  9.150000e-07  0.004001 -0.038422  0.040588  \\\n1       160160  0.114319  7.137790e-07  0.004283 -0.042603  0.048157   \n2       156956  0.149963  9.554485e-07  0.005084 -0.037018  0.058472   \n3       152152  0.139618  9.176213e-07  0.004886 -0.036652  0.062683   \n4       169769  0.137665  8.108948e-07  0.002956 -0.026245  0.026215   \n\n        q01       q05       q25  q75  ...  actor_actor_24  actor_actor_3   \n0 -0.012586 -0.005890 -0.000031  0.0  ...               0              0  \\\n1 -0.013550 -0.006104 -0.000031  0.0  ...               0              0   \n2 -0.015822 -0.007294  0.000000  0.0  ...               0              0   \n3 -0.014923 -0.006714 -0.000031  0.0  ...               0              0   \n4 -0.009399 -0.004364 -0.000031  0.0  ...               0              0   \n\n   actor_actor_4  actor_actor_5  actor_actor_6  actor_actor_7  actor_actor_8   \n0              0              0              0              0              0  \\\n1              0              0              0              0              0   \n2              0              0              0              0              0   \n3              0              0              0              0              0   \n4              0              0              0              0              0   \n\n   actor_actor_9  sex_F  sex_M  \n0              0      0      1  \n1              0      0      1  \n2              0      0      1  \n3              0      0      1  \n4              0      0      1  \n\n[5 rows x 285 columns]",
      "text/html": "<div>\n<style scoped>\n    .dataframe tbody tr th:only-of-type {\n        vertical-align: middle;\n    }\n\n    .dataframe tbody tr th {\n        vertical-align: top;\n    }\n\n    .dataframe thead th {\n        text-align: right;\n    }\n</style>\n<table border=\"1\" class=\"dataframe\">\n  <thead>\n    <tr style=\"text-align: right;\">\n      <th></th>\n      <th>frame_count</th>\n      <th>sum</th>\n      <th>mean</th>\n      <th>std</th>\n      <th>min</th>\n      <th>max</th>\n      <th>q01</th>\n      <th>q05</th>\n      <th>q25</th>\n      <th>q75</th>\n      <th>...</th>\n      <th>actor_actor_24</th>\n      <th>actor_actor_3</th>\n      <th>actor_actor_4</th>\n      <th>actor_actor_5</th>\n      <th>actor_actor_6</th>\n      <th>actor_actor_7</th>\n      <th>actor_actor_8</th>\n      <th>actor_actor_9</th>\n      <th>sex_F</th>\n      <th>sex_M</th>\n    </tr>\n  </thead>\n  <tbody>\n    <tr>\n      <th>0</th>\n      <td>158558</td>\n      <td>0.145081</td>\n      <td>9.150000e-07</td>\n      <td>0.004001</td>\n      <td>-0.038422</td>\n      <td>0.040588</td>\n      <td>-0.012586</td>\n      <td>-0.005890</td>\n      <td>-0.000031</td>\n      <td>0.0</td>\n      <td>...</td>\n      <td>0</td>\n      <td>0</td>\n      <td>0</td>\n      <td>0</td>\n      <td>0</td>\n      <td>0</td>\n      <td>0</td>\n      <td>0</td>\n      <td>0</td>\n      <td>1</td>\n    </tr>\n    <tr>\n      <th>1</th>\n      <td>160160</td>\n      <td>0.114319</td>\n      <td>7.137790e-07</td>\n      <td>0.004283</td>\n      <td>-0.042603</td>\n      <td>0.048157</td>\n      <td>-0.013550</td>\n      <td>-0.006104</td>\n      <td>-0.000031</td>\n      <td>0.0</td>\n      <td>...</td>\n      <td>0</td>\n      <td>0</td>\n      <td>0</td>\n      <td>0</td>\n      <td>0</td>\n      <td>0</td>\n      <td>0</td>\n      <td>0</td>\n      <td>0</td>\n      <td>1</td>\n    </tr>\n    <tr>\n      <th>2</th>\n      <td>156956</td>\n      <td>0.149963</td>\n      <td>9.554485e-07</td>\n      <td>0.005084</td>\n      <td>-0.037018</td>\n      <td>0.058472</td>\n      <td>-0.015822</td>\n      <td>-0.007294</td>\n      <td>0.000000</td>\n      <td>0.0</td>\n      <td>...</td>\n      <td>0</td>\n      <td>0</td>\n      <td>0</td>\n      <td>0</td>\n      <td>0</td>\n      <td>0</td>\n      <td>0</td>\n      <td>0</td>\n      <td>0</td>\n      <td>1</td>\n    </tr>\n    <tr>\n      <th>3</th>\n      <td>152152</td>\n      <td>0.139618</td>\n      <td>9.176213e-07</td>\n      <td>0.004886</td>\n      <td>-0.036652</td>\n      <td>0.062683</td>\n      <td>-0.014923</td>\n      <td>-0.006714</td>\n      <td>-0.000031</td>\n      <td>0.0</td>\n      <td>...</td>\n      <td>0</td>\n      <td>0</td>\n      <td>0</td>\n      <td>0</td>\n      <td>0</td>\n      <td>0</td>\n      <td>0</td>\n      <td>0</td>\n      <td>0</td>\n      <td>1</td>\n    </tr>\n    <tr>\n      <th>4</th>\n      <td>169769</td>\n      <td>0.137665</td>\n      <td>8.108948e-07</td>\n      <td>0.002956</td>\n      <td>-0.026245</td>\n      <td>0.026215</td>\n      <td>-0.009399</td>\n      <td>-0.004364</td>\n      <td>-0.000031</td>\n      <td>0.0</td>\n      <td>...</td>\n      <td>0</td>\n      <td>0</td>\n      <td>0</td>\n      <td>0</td>\n      <td>0</td>\n      <td>0</td>\n      <td>0</td>\n      <td>0</td>\n      <td>0</td>\n      <td>1</td>\n    </tr>\n  </tbody>\n</table>\n<p>5 rows × 285 columns</p>\n</div>"
     },
     "execution_count": 4,
     "metadata": {},
     "output_type": "execute_result"
    }
   ],
   "source": [
    "df = pd.read_csv(DATASET)\n",
    "\n",
    "categorical_attr_list = [col for col in df.columns if not is_numeric_dtype(df[col])]\n",
    "\n",
    "# one hot encoding\n",
    "df_reg = df.drop(columns=categorical_attr_list)\n",
    "df_reg = df_reg.join(pd.get_dummies(df[categorical_attr_list], columns=categorical_attr_list).astype(int))\n",
    "\n",
    "df_reg.head()"
   ],
   "metadata": {
    "collapsed": false,
    "ExecuteTime": {
     "end_time": "2023-06-06T16:55:16.512528Z",
     "start_time": "2023-06-06T16:55:16.430191Z"
    }
   }
  },
  {
   "cell_type": "code",
   "execution_count": 5,
   "outputs": [
    {
     "data": {
      "text/plain": "stft_min    False\nsc_min      False\ndtype: bool"
     },
     "execution_count": 5,
     "metadata": {},
     "output_type": "execute_result"
    }
   ],
   "source": [
    "features_to_correct = ['stft_min', 'sc_min']\n",
    "(df[features_to_correct] < 0).any()"
   ],
   "metadata": {
    "collapsed": false,
    "ExecuteTime": {
     "end_time": "2023-06-06T16:55:16.516709Z",
     "start_time": "2023-06-06T16:55:16.514621Z"
    }
   }
  },
  {
   "cell_type": "markdown",
   "source": [
    "# stft_min"
   ],
   "metadata": {
    "collapsed": false
   }
  },
  {
   "cell_type": "code",
   "execution_count": 6,
   "outputs": [
    {
     "data": {
      "text/plain": "['mfcc_q50',\n 'sc_q01',\n 'sc_q05',\n 'stft_q01',\n 'stft_q05',\n 'mfcc_q25_w1',\n 'mfcc_q50_w1',\n 'sc_q05_w1',\n 'sc_q25_w1',\n 'stft_q05_w1',\n 'q50_w2',\n 'q50_w3',\n 'lag1_q50_w3',\n 'q75_w4']"
     },
     "execution_count": 6,
     "metadata": {},
     "output_type": "execute_result"
    }
   ],
   "source": [
    "TARGET = 'stft_min'\n",
    "\n",
    "# drop quantile columns with high percentage of zeros (20%)\n",
    "zero_percentage = (df_reg == 0).mean()\n",
    "to_drop = [col for col in df_reg.columns if zero_percentage[col] > 0.2 and re.search(r'q\\d{2}', col)]\n",
    "df_reg = df_reg.drop(columns=to_drop)\n",
    "to_drop"
   ],
   "metadata": {
    "collapsed": false,
    "ExecuteTime": {
     "end_time": "2023-06-06T16:55:16.524184Z",
     "start_time": "2023-06-06T16:55:16.519093Z"
    }
   }
  },
  {
   "cell_type": "code",
   "execution_count": 7,
   "outputs": [
    {
     "data": {
      "text/plain": "<Figure size 640x480 with 1 Axes>",
      "image/png": "[encoded data removed]"
     },
     "metadata": {},
     "output_type": "display_data"
    }
   ],
   "source": [
    "sns.histplot(data=df, x=df[TARGET])\n",
    "plt.xlabel(f'{TARGET}')\n",
    "plt.ylabel('Count')\n",
    "plt.title(f'Distribution of {TARGET}')\n",
    "plt.show()"
   ],
   "metadata": {
    "collapsed": false,
    "ExecuteTime": {
     "end_time": "2023-06-06T16:55:16.776014Z",
     "start_time": "2023-06-06T16:55:16.525901Z"
    }
   }
  },
  {
   "cell_type": "code",
   "execution_count": 8,
   "outputs": [
    {
     "name": "stdout",
     "output_type": "stream",
     "text": [
      "(847, 270) (212, 270) (361, 270) (1009, 270)\n"
     ]
    }
   ],
   "source": [
    "from sklearn.model_selection import train_test_split\n",
    "\n",
    "# rows to be fixed, do not reset indexes!\n",
    "df_zero = df_reg[df_reg[TARGET] == 0]\n",
    "df_nz = df_reg[df_reg[TARGET] != 0].reset_index(drop=True)\n",
    "\n",
    "# dataframe has been one hot encoded\n",
    "split_index = df_nz.index[df_nz['actor_actor_19'] == 1][0]\n",
    "\n",
    "df_train = df_nz[:split_index]\n",
    "df_test = df_nz[split_index:]\n",
    "\n",
    "df_train, df_valid = train_test_split(df_train, test_size=0.2, random_state=100)\n",
    "\n",
    "y_train = np.log10(df_train[TARGET].to_numpy())\n",
    "y_valid = np.log10(df_valid[TARGET].to_numpy())\n",
    "y_test = np.log10(df_test[TARGET].to_numpy())\n",
    "\n",
    "df_zero = df_zero.drop([TARGET], axis=1)\n",
    "df_train = df_train.drop([TARGET], axis=1)\n",
    "df_valid = df_valid.drop([TARGET], axis=1)\n",
    "df_test = df_test.drop([TARGET], axis=1)\n",
    "\n",
    "X_to_pred = df_zero.to_numpy()\n",
    "X_train = df_train.to_numpy()\n",
    "X_valid = df_valid.to_numpy()\n",
    "X_test = df_test.to_numpy()\n",
    "\n",
    "print(X_train.shape, X_valid.shape, X_test.shape, X_to_pred.shape)"
   ],
   "metadata": {
    "collapsed": false,
    "ExecuteTime": {
     "end_time": "2023-06-06T16:55:16.780411Z",
     "start_time": "2023-06-06T16:55:16.772266Z"
    }
   }
  },
  {
   "cell_type": "code",
   "execution_count": 9,
   "outputs": [
    {
     "data": {
      "text/plain": "<Figure size 1000x400 with 1 Axes>",
      "image/png": "[encoded data removed]"
     },
     "metadata": {},
     "output_type": "display_data"
    }
   ],
   "source": [
    "f_selector = SelectKBest(score_func=f_regression, k='all')\n",
    "f_selector.fit(X_train, y_train)\n",
    "\n",
    "plt.figure(figsize=(10, 4))\n",
    "plt.bar([i for i in range(len(f_selector.scores_))], f_selector.scores_)\n",
    "plt.xlabel('Feature index')\n",
    "plt.ylabel('Estimated value')\n",
    "plt.show()"
   ],
   "metadata": {
    "collapsed": false,
    "ExecuteTime": {
     "end_time": "2023-06-06T16:55:17.331118Z",
     "start_time": "2023-06-06T16:55:16.782490Z"
    }
   }
  },
  {
   "cell_type": "code",
   "execution_count": 10,
   "outputs": [
    {
     "data": {
      "text/plain": "      mfcc_q25    mfcc_q99  stft_mean  stft_std  stft_q25  mfcc_q25_w2   \n259 -18.582673  133.537021   0.391166  0.350493  0.037039   -25.548968  \\\n157  -2.432008  140.389436   0.618064  0.281252  0.400627   -11.883626   \n667 -10.434671  169.611666   0.499650  0.347630  0.142961   -18.150980   \n707 -11.989990  140.775630   0.500564  0.321720  0.203172   -19.689170   \n125  -6.579166   90.324497   0.475922  0.349201  0.106374   -15.118881   \n..         ...         ...        ...       ...       ...          ...   \n802 -10.531611  188.840487   0.448354  0.342674  0.105303   -16.788827   \n53  -10.841864  159.482310   0.512951  0.316919  0.221845   -20.016054   \n350  -7.651122  151.113206   0.543641  0.328328  0.233966   -13.594585   \n79  -10.683922  143.316089   0.513574  0.286984  0.275286   -11.417866   \n792  -2.116944  152.105091   0.636902  0.295871  0.413712   -10.847955   \n\n     mfcc_q50_w2  mfcc_q99_w2  stft_sum_w2  stft_q05_w2  stft_q25_w2   \n259   -14.335812   131.763970   316.827272     0.002076     0.019907  \\\n157     0.331137   157.141432   487.714941     0.047736     0.247174   \n667    -7.070016   177.324767   409.154710     0.007334     0.053486   \n707    -6.076445   132.367535   424.497157     0.012076     0.085660   \n125     0.000000    92.440168   351.456816     0.002707     0.027473   \n..           ...          ...          ...          ...          ...   \n802    -4.730709   181.582949   469.988087     0.016418     0.071749   \n53     -4.384253   176.553050   452.237700     0.045298     0.156050   \n350    -2.200245   156.181359   492.584031     0.025636     0.164514   \n79     -2.853683   147.437486   577.809521     0.057310     0.276032   \n792     0.000000   148.006489   482.397157     0.036796     0.246890   \n\n     stft_skew_w2   mfcc_sum_w3  mfcc_q25_w3  mfcc_q50_w3  mfcc_q75_w3   \n259      1.368237 -70611.711781   -25.377122   -12.167407    -1.477520  \\\n157     -0.016021 -37384.776127    -9.452207     0.308263     9.277478   \n667      0.865939 -39253.197492   -17.626914    -5.782738     6.776643   \n707      0.328339 -46073.398204   -21.128508   -10.204088     2.029520   \n125      0.804747 -39812.423944   -25.070787    -7.274005     9.855553   \n..            ...           ...          ...          ...          ...   \n802      0.886020 -54877.142055   -18.882193    -4.978764     7.866954   \n53       0.706239 -30872.660059   -18.504748    -4.311820    10.084295   \n350      0.347103 -38947.164248   -17.357152    -6.596020     6.551662   \n79       0.175891 -37772.767541   -16.525048    -5.833418     5.294950   \n792      0.027626 -28996.039009   -10.309630    -1.024038    10.095972   \n\n     mfcc_q99_w3  stft_q25_w3  sex_F  sex_M  \n259   141.949765     0.006469      1      0  \n157   208.015807     0.228734      0      1  \n667   182.314767     0.089444      0      1  \n707   174.004688     0.052809      1      0  \n125   124.347880     0.013650      1      0  \n..           ...          ...    ...    ...  \n802   207.137736     0.043049      0      1  \n53    166.648179     0.122665      0      1  \n350   192.158127     0.081348      1      0  \n79    171.602208     0.172040      0      1  \n792   213.165450     0.153596      0      1  \n\n[847 rows x 20 columns]",
      "text/html": "<div>\n<style scoped>\n    .dataframe tbody tr th:only-of-type {\n        vertical-align: middle;\n    }\n\n    .dataframe tbody tr th {\n        vertical-align: top;\n    }\n\n    .dataframe thead th {\n        text-align: right;\n    }\n</style>\n<table border=\"1\" class=\"dataframe\">\n  <thead>\n    <tr style=\"text-align: right;\">\n      <th></th>\n      <th>mfcc_q25</th>\n      <th>mfcc_q99</th>\n      <th>stft_mean</th>\n      <th>stft_std</th>\n      <th>stft_q25</th>\n      <th>mfcc_q25_w2</th>\n      <th>mfcc_q50_w2</th>\n      <th>mfcc_q99_w2</th>\n      <th>stft_sum_w2</th>\n      <th>stft_q05_w2</th>\n      <th>stft_q25_w2</th>\n      <th>stft_skew_w2</th>\n      <th>mfcc_sum_w3</th>\n      <th>mfcc_q25_w3</th>\n      <th>mfcc_q50_w3</th>\n      <th>mfcc_q75_w3</th>\n      <th>mfcc_q99_w3</th>\n      <th>stft_q25_w3</th>\n      <th>sex_F</th>\n      <th>sex_M</th>\n    </tr>\n  </thead>\n  <tbody>\n    <tr>\n      <th>259</th>\n      <td>-18.582673</td>\n      <td>133.537021</td>\n      <td>0.391166</td>\n      <td>0.350493</td>\n      <td>0.037039</td>\n      <td>-25.548968</td>\n      <td>-14.335812</td>\n      <td>131.763970</td>\n      <td>316.827272</td>\n      <td>0.002076</td>\n      <td>0.019907</td>\n      <td>1.368237</td>\n      <td>-70611.711781</td>\n      <td>-25.377122</td>\n      <td>-12.167407</td>\n      <td>-1.477520</td>\n      <td>141.949765</td>\n      <td>0.006469</td>\n      <td>1</td>\n      <td>0</td>\n    </tr>\n    <tr>\n      <th>157</th>\n      <td>-2.432008</td>\n      <td>140.389436</td>\n      <td>0.618064</td>\n      <td>0.281252</td>\n      <td>0.400627</td>\n      <td>-11.883626</td>\n      <td>0.331137</td>\n      <td>157.141432</td>\n      <td>487.714941</td>\n      <td>0.047736</td>\n      <td>0.247174</td>\n      <td>-0.016021</td>\n      <td>-37384.776127</td>\n      <td>-9.452207</td>\n      <td>0.308263</td>\n      <td>9.277478</td>\n      <td>208.015807</td>\n      <td>0.228734</td>\n      <td>0</td>\n      <td>1</td>\n    </tr>\n    <tr>\n      <th>667</th>\n      <td>-10.434671</td>\n      <td>169.611666</td>\n      <td>0.499650</td>\n      <td>0.347630</td>\n      <td>0.142961</td>\n      <td>-18.150980</td>\n      <td>-7.070016</td>\n      <td>177.324767</td>\n      <td>409.154710</td>\n      <td>0.007334</td>\n      <td>0.053486</td>\n      <td>0.865939</td>\n      <td>-39253.197492</td>\n      <td>-17.626914</td>\n      <td>-5.782738</td>\n      <td>6.776643</td>\n      <td>182.314767</td>\n      <td>0.089444</td>\n      <td>0</td>\n      <td>1</td>\n    </tr>\n    <tr>\n      <th>707</th>\n      <td>-11.989990</td>\n      <td>140.775630</td>\n      <td>0.500564</td>\n      <td>0.321720</td>\n      <td>0.203172</td>\n      <td>-19.689170</td>\n      <td>-6.076445</td>\n      <td>132.367535</td>\n      <td>424.497157</td>\n      <td>0.012076</td>\n      <td>0.085660</td>\n      <td>0.328339</td>\n      <td>-46073.398204</td>\n      <td>-21.128508</td>\n      <td>-10.204088</td>\n      <td>2.029520</td>\n      <td>174.004688</td>\n      <td>0.052809</td>\n      <td>1</td>\n      <td>0</td>\n    </tr>\n    <tr>\n      <th>125</th>\n      <td>-6.579166</td>\n      <td>90.324497</td>\n      <td>0.475922</td>\n      <td>0.349201</td>\n      <td>0.106374</td>\n      <td>-15.118881</td>\n      <td>0.000000</td>\n      <td>92.440168</td>\n      <td>351.456816</td>\n      <td>0.002707</td>\n      <td>0.027473</td>\n      <td>0.804747</td>\n      <td>-39812.423944</td>\n      <td>-25.070787</td>\n      <td>-7.274005</td>\n      <td>9.855553</td>\n      <td>124.347880</td>\n      <td>0.013650</td>\n      <td>1</td>\n      <td>0</td>\n    </tr>\n    <tr>\n      <th>...</th>\n      <td>...</td>\n      <td>...</td>\n      <td>...</td>\n      <td>...</td>\n      <td>...</td>\n      <td>...</td>\n      <td>...</td>\n      <td>...</td>\n      <td>...</td>\n      <td>...</td>\n      <td>...</td>\n      <td>...</td>\n      <td>...</td>\n      <td>...</td>\n      <td>...</td>\n      <td>...</td>\n      <td>...</td>\n      <td>...</td>\n      <td>...</td>\n      <td>...</td>\n    </tr>\n    <tr>\n      <th>802</th>\n      <td>-10.531611</td>\n      <td>188.840487</td>\n      <td>0.448354</td>\n      <td>0.342674</td>\n      <td>0.105303</td>\n      <td>-16.788827</td>\n      <td>-4.730709</td>\n      <td>181.582949</td>\n      <td>469.988087</td>\n      <td>0.016418</td>\n      <td>0.071749</td>\n      <td>0.886020</td>\n      <td>-54877.142055</td>\n      <td>-18.882193</td>\n      <td>-4.978764</td>\n      <td>7.866954</td>\n      <td>207.137736</td>\n      <td>0.043049</td>\n      <td>0</td>\n      <td>1</td>\n    </tr>\n    <tr>\n      <th>53</th>\n      <td>-10.841864</td>\n      <td>159.482310</td>\n      <td>0.512951</td>\n      <td>0.316919</td>\n      <td>0.221845</td>\n      <td>-20.016054</td>\n      <td>-4.384253</td>\n      <td>176.553050</td>\n      <td>452.237700</td>\n      <td>0.045298</td>\n      <td>0.156050</td>\n      <td>0.706239</td>\n      <td>-30872.660059</td>\n      <td>-18.504748</td>\n      <td>-4.311820</td>\n      <td>10.084295</td>\n      <td>166.648179</td>\n      <td>0.122665</td>\n      <td>0</td>\n      <td>1</td>\n    </tr>\n    <tr>\n      <th>350</th>\n      <td>-7.651122</td>\n      <td>151.113206</td>\n      <td>0.543641</td>\n      <td>0.328328</td>\n      <td>0.233966</td>\n      <td>-13.594585</td>\n      <td>-2.200245</td>\n      <td>156.181359</td>\n      <td>492.584031</td>\n      <td>0.025636</td>\n      <td>0.164514</td>\n      <td>0.347103</td>\n      <td>-38947.164248</td>\n      <td>-17.357152</td>\n      <td>-6.596020</td>\n      <td>6.551662</td>\n      <td>192.158127</td>\n      <td>0.081348</td>\n      <td>1</td>\n      <td>0</td>\n    </tr>\n    <tr>\n      <th>79</th>\n      <td>-10.683922</td>\n      <td>143.316089</td>\n      <td>0.513574</td>\n      <td>0.286984</td>\n      <td>0.275286</td>\n      <td>-11.417866</td>\n      <td>-2.853683</td>\n      <td>147.437486</td>\n      <td>577.809521</td>\n      <td>0.057310</td>\n      <td>0.276032</td>\n      <td>0.175891</td>\n      <td>-37772.767541</td>\n      <td>-16.525048</td>\n      <td>-5.833418</td>\n      <td>5.294950</td>\n      <td>171.602208</td>\n      <td>0.172040</td>\n      <td>0</td>\n      <td>1</td>\n    </tr>\n    <tr>\n      <th>792</th>\n      <td>-2.116944</td>\n      <td>152.105091</td>\n      <td>0.636902</td>\n      <td>0.295871</td>\n      <td>0.413712</td>\n      <td>-10.847955</td>\n      <td>0.000000</td>\n      <td>148.006489</td>\n      <td>482.397157</td>\n      <td>0.036796</td>\n      <td>0.246890</td>\n      <td>0.027626</td>\n      <td>-28996.039009</td>\n      <td>-10.309630</td>\n      <td>-1.024038</td>\n      <td>10.095972</td>\n      <td>213.165450</td>\n      <td>0.153596</td>\n      <td>0</td>\n      <td>1</td>\n    </tr>\n  </tbody>\n</table>\n<p>847 rows × 20 columns</p>\n</div>"
     },
     "execution_count": 10,
     "metadata": {},
     "output_type": "execute_result"
    }
   ],
   "source": [
    "f_selector = SelectKBest(score_func=f_regression, k=20)\n",
    "f_selector.fit(X_train, y_train)\n",
    "\n",
    "X_train = f_selector.transform(X_train)\n",
    "X_valid = f_selector.transform(X_valid)\n",
    "X_test = f_selector.transform(X_test)\n",
    "X_to_pred = f_selector.transform(X_to_pred)\n",
    "\n",
    "# selected columns\n",
    "selected_indices = f_selector.get_support(indices=True)\n",
    "df_train.iloc[:, selected_indices]"
   ],
   "metadata": {
    "collapsed": false,
    "ExecuteTime": {
     "end_time": "2023-06-06T16:55:17.489763Z",
     "start_time": "2023-06-06T16:55:17.332700Z"
    }
   }
  },
  {
   "cell_type": "code",
   "execution_count": 11,
   "outputs": [],
   "source": [
    "scaler = MinMaxScaler()\n",
    "\n",
    "X_train = scaler.fit_transform(X_train)\n",
    "X_valid = scaler.fit_transform(X_valid)\n",
    "X_test = scaler.fit_transform(X_test)\n",
    "X_to_pred = scaler.fit_transform(X_to_pred)"
   ],
   "metadata": {
    "collapsed": false,
    "ExecuteTime": {
     "end_time": "2023-06-06T16:55:17.490038Z",
     "start_time": "2023-06-06T16:55:17.382087Z"
    }
   }
  },
  {
   "cell_type": "markdown",
   "source": [
    "## XGBoost"
   ],
   "metadata": {
    "collapsed": false
   }
  },
  {
   "cell_type": "code",
   "execution_count": 12,
   "outputs": [
    {
     "name": "stderr",
     "output_type": "stream",
     "text": [
      "[I 2023-06-06 18:55:17,594] A new study created in memory with name: no-name-cbe8de46-b1b7-4c12-9ff4-e1b2b34b77ce\n",
      "[I 2023-06-06 18:55:19,529] Trial 4 finished with value: 0.11796647465753987 and parameters: {'booster': 'gbtree', 'gamma': 1.7037425866491451, 'max_depth': 8, 'min_child_weight': 1, 'subsample': 0.4156858596445524}. Best is trial 4 with value: 0.11796647465753987.\n",
      "[I 2023-06-06 18:55:20,859] Trial 0 finished with value: 0.10250763442487572 and parameters: {'booster': 'gbtree', 'gamma': 3.9110924420764532, 'max_depth': 11, 'min_child_weight': 3, 'subsample': 0.9427092505420954}. Best is trial 0 with value: 0.10250763442487572.\n",
      "[I 2023-06-06 18:55:21,260] Trial 7 finished with value: 0.10851934395318798 and parameters: {'booster': 'dart', 'gamma': 3.960382159131991, 'max_depth': 5, 'min_child_weight': 1, 'subsample': 0.8149627386308748}. Best is trial 0 with value: 0.10250763442487572.\n",
      "[I 2023-06-06 18:55:22,047] Trial 5 finished with value: 0.09984923142932843 and parameters: {'booster': 'gbtree', 'gamma': 4.50385846629295, 'max_depth': 16, 'min_child_weight': 2, 'subsample': 0.7236126737154256}. Best is trial 5 with value: 0.09984923142932843.\n",
      "[I 2023-06-06 18:55:22,138] Trial 2 finished with value: 0.1072137738204432 and parameters: {'booster': 'gbtree', 'gamma': 0.3307880643976835, 'max_depth': 17, 'min_child_weight': 3, 'subsample': 0.952419001038029}. Best is trial 5 with value: 0.09984923142932843.\n",
      "[I 2023-06-06 18:55:22,366] Trial 1 finished with value: 0.10586102012360489 and parameters: {'booster': 'gbtree', 'gamma': 3.7085124141894403, 'max_depth': 15, 'min_child_weight': 1, 'subsample': 0.8429762092139987}. Best is trial 5 with value: 0.09984923142932843.\n",
      "[I 2023-06-06 18:55:22,455] Trial 3 finished with value: 0.10344954617566499 and parameters: {'booster': 'gbtree', 'gamma': 0.6878541612943662, 'max_depth': 20, 'min_child_weight': 3, 'subsample': 0.9415796360503599}. Best is trial 5 with value: 0.09984923142932843.\n",
      "[I 2023-06-06 18:55:22,673] Trial 6 finished with value: 0.1176804259341192 and parameters: {'booster': 'dart', 'gamma': 2.406533255001926, 'max_depth': 9, 'min_child_weight': 2, 'subsample': 0.45837527022524766}. Best is trial 5 with value: 0.09984923142932843.\n",
      "[I 2023-06-06 18:55:23,030] Trial 8 finished with value: 0.10402808683555036 and parameters: {'booster': 'dart', 'gamma': 4.930147506815783, 'max_depth': 4, 'min_child_weight': 1, 'subsample': 0.9622256638275279}. Best is trial 5 with value: 0.09984923142932843.\n",
      "[I 2023-06-06 18:55:26,237] Trial 10 finished with value: 0.1098379690106523 and parameters: {'booster': 'dart', 'gamma': 2.1192683544656177, 'max_depth': 9, 'min_child_weight': 3, 'subsample': 0.664195726208759}. Best is trial 5 with value: 0.09984923142932843.\n",
      "[I 2023-06-06 18:55:27,317] Trial 15 finished with value: 0.10775657415302206 and parameters: {'booster': 'gbtree', 'gamma': 0.7364696621488709, 'max_depth': 16, 'min_child_weight': 1, 'subsample': 0.9333821041454832}. Best is trial 5 with value: 0.09984923142932843.\n",
      "[I 2023-06-06 18:55:27,510] Trial 9 finished with value: 0.11622015852910836 and parameters: {'booster': 'dart', 'gamma': 4.651898218700143, 'max_depth': 17, 'min_child_weight': 2, 'subsample': 0.5597354795038678}. Best is trial 5 with value: 0.09984923142932843.\n",
      "[I 2023-06-06 18:55:27,830] Trial 16 finished with value: 0.11376834991689219 and parameters: {'booster': 'dart', 'gamma': 4.035279845741386, 'max_depth': 9, 'min_child_weight': 2, 'subsample': 0.5360334226129373}. Best is trial 5 with value: 0.09984923142932843.\n",
      "[I 2023-06-06 18:55:28,926] Trial 11 finished with value: 0.10138226285970817 and parameters: {'booster': 'dart', 'gamma': 3.6966405335241976, 'max_depth': 15, 'min_child_weight': 1, 'subsample': 0.633989234095016}. Best is trial 5 with value: 0.09984923142932843.\n",
      "[I 2023-06-06 18:55:29,454] Trial 13 finished with value: 0.10079627163432137 and parameters: {'booster': 'dart', 'gamma': 3.1128804122448077, 'max_depth': 16, 'min_child_weight': 2, 'subsample': 0.7548819953281931}. Best is trial 5 with value: 0.09984923142932843.\n",
      "[I 2023-06-06 18:55:29,576] Trial 12 finished with value: 0.10106816446648798 and parameters: {'booster': 'dart', 'gamma': 4.352724143304761, 'max_depth': 17, 'min_child_weight': 2, 'subsample': 0.8079555312702362}. Best is trial 5 with value: 0.09984923142932843.\n",
      "[I 2023-06-06 18:55:30,003] Trial 14 finished with value: 0.10178600769950684 and parameters: {'booster': 'dart', 'gamma': 1.5877065556977665, 'max_depth': 20, 'min_child_weight': 3, 'subsample': 0.9134866368032143}. Best is trial 5 with value: 0.09984923142932843.\n",
      "[I 2023-06-06 18:55:30,273] Trial 17 finished with value: 0.10448759587050369 and parameters: {'booster': 'gbtree', 'gamma': 4.839463354050019, 'max_depth': 15, 'min_child_weight': 2, 'subsample': 0.6629464908168178}. Best is trial 5 with value: 0.09984923142932843.\n",
      "[I 2023-06-06 18:55:30,935] Trial 18 finished with value: 0.10710125402467419 and parameters: {'booster': 'gbtree', 'gamma': 3.4900545501700955, 'max_depth': 13, 'min_child_weight': 2, 'subsample': 0.6688976616836941}. Best is trial 5 with value: 0.09984923142932843.\n",
      "[I 2023-06-06 18:55:31,100] Trial 19 finished with value: 0.10892907163709248 and parameters: {'booster': 'gbtree', 'gamma': 3.4799134779709755, 'max_depth': 13, 'min_child_weight': 2, 'subsample': 0.7400237431871213}. Best is trial 5 with value: 0.09984923142932843.\n",
      "[I 2023-06-06 18:55:31,328] Trial 20 finished with value: 0.10027965805029505 and parameters: {'booster': 'gbtree', 'gamma': 3.172330680912614, 'max_depth': 13, 'min_child_weight': 3, 'subsample': 0.7693901807030965}. Best is trial 5 with value: 0.09984923142932843.\n",
      "[I 2023-06-06 18:55:33,041] Trial 23 finished with value: 0.10359679860198272 and parameters: {'booster': 'gbtree', 'gamma': 3.011018063923793, 'max_depth': 13, 'min_child_weight': 2, 'subsample': 0.7582937769473141}. Best is trial 5 with value: 0.09984923142932843.\n",
      "[I 2023-06-06 18:55:33,571] Trial 24 finished with value: 0.10117974634469995 and parameters: {'booster': 'gbtree', 'gamma': 3.25784866217391, 'max_depth': 13, 'min_child_weight': 2, 'subsample': 0.7384201051112353}. Best is trial 5 with value: 0.09984923142932843.\n",
      "[I 2023-06-06 18:55:34,006] Trial 25 finished with value: 0.09626483240458396 and parameters: {'booster': 'gbtree', 'gamma': 3.111589032301432, 'max_depth': 13, 'min_child_weight': 2, 'subsample': 0.7418582950035281}. Best is trial 25 with value: 0.09626483240458396.\n",
      "[I 2023-06-06 18:55:34,153] Trial 22 finished with value: 0.1014920086878931 and parameters: {'booster': 'gbtree', 'gamma': 3.0576879978310854, 'max_depth': 20, 'min_child_weight': 2, 'subsample': 0.7473439810041079}. Best is trial 25 with value: 0.09626483240458396.\n",
      "[I 2023-06-06 18:55:34,286] Trial 26 finished with value: 0.09603736986533955 and parameters: {'booster': 'gbtree', 'gamma': 3.0805391911211384, 'max_depth': 12, 'min_child_weight': 2, 'subsample': 0.7507295203539861}. Best is trial 26 with value: 0.09603736986533955.\n",
      "[I 2023-06-06 18:55:34,589] Trial 28 finished with value: 0.10432300624046689 and parameters: {'booster': 'gbtree', 'gamma': 3.026613397117507, 'max_depth': 12, 'min_child_weight': 2, 'subsample': 0.7329995145702186}. Best is trial 26 with value: 0.09603736986533955.\n",
      "[I 2023-06-06 18:55:35,512] Trial 21 finished with value: 0.10117221753960673 and parameters: {'booster': 'dart', 'gamma': 3.0560705432302506, 'max_depth': 14, 'min_child_weight': 2, 'subsample': 0.7131971388180584}. Best is trial 26 with value: 0.09603736986533955.\n",
      "[I 2023-06-06 18:55:35,800] Trial 27 finished with value: 0.0951846044231484 and parameters: {'booster': 'gbtree', 'gamma': 3.103170331957249, 'max_depth': 19, 'min_child_weight': 2, 'subsample': 0.7405842529721048}. Best is trial 27 with value: 0.0951846044231484.\n",
      "[I 2023-06-06 18:55:35,991] Trial 33 finished with value: 0.1057393462223226 and parameters: {'booster': 'gbtree', 'gamma': 2.596902057530838, 'max_depth': 7, 'min_child_weight': 2, 'subsample': 0.8682551873955932}. Best is trial 27 with value: 0.0951846044231484.\n",
      "[I 2023-06-06 18:55:37,044] Trial 31 finished with value: 0.10219733375382851 and parameters: {'booster': 'gbtree', 'gamma': 2.949914647211176, 'max_depth': 11, 'min_child_weight': 3, 'subsample': 0.8690643131905864}. Best is trial 27 with value: 0.0951846044231484.\n",
      "[I 2023-06-06 18:55:37,088] Trial 32 finished with value: 0.10362272547150925 and parameters: {'booster': 'gbtree', 'gamma': 4.324966418630325, 'max_depth': 11, 'min_child_weight': 3, 'subsample': 0.8608863422634934}. Best is trial 27 with value: 0.0951846044231484.\n",
      "[I 2023-06-06 18:55:37,146] Trial 29 finished with value: 0.10097710379090921 and parameters: {'booster': 'gbtree', 'gamma': 2.9672023001924814, 'max_depth': 19, 'min_child_weight': 3, 'subsample': 0.7303235430944522}. Best is trial 27 with value: 0.0951846044231484.\n",
      "[I 2023-06-06 18:55:37,487] Trial 34 finished with value: 0.10239118630992922 and parameters: {'booster': 'gbtree', 'gamma': 4.488873896698372, 'max_depth': 11, 'min_child_weight': 2, 'subsample': 0.7001924727519494}. Best is trial 27 with value: 0.0951846044231484.\n",
      "[I 2023-06-06 18:55:37,647] Trial 30 finished with value: 0.09878718395174481 and parameters: {'booster': 'gbtree', 'gamma': 2.9918356092018525, 'max_depth': 19, 'min_child_weight': 3, 'subsample': 0.7186690744465546}. Best is trial 27 with value: 0.0951846044231484.\n",
      "[I 2023-06-06 18:55:38,654] Trial 36 finished with value: 0.10226290738431199 and parameters: {'booster': 'gbtree', 'gamma': 2.6468476123486484, 'max_depth': 11, 'min_child_weight': 3, 'subsample': 0.8870393748544716}. Best is trial 27 with value: 0.0951846044231484.\n",
      "[I 2023-06-06 18:55:38,691] Trial 35 finished with value: 0.1032767961259402 and parameters: {'booster': 'gbtree', 'gamma': 4.520237761224426, 'max_depth': 11, 'min_child_weight': 2, 'subsample': 0.8615924547866044}. Best is trial 27 with value: 0.0951846044231484.\n",
      "[I 2023-06-06 18:55:38,875] Trial 37 finished with value: 0.09366986453766302 and parameters: {'booster': 'gbtree', 'gamma': 2.6097726072333662, 'max_depth': 11, 'min_child_weight': 3, 'subsample': 0.7908633556878183}. Best is trial 37 with value: 0.09366986453766302.\n",
      "[I 2023-06-06 18:55:40,116] Trial 45 finished with value: 0.09813719183439149 and parameters: {'booster': 'gbtree', 'gamma': 3.512141971298198, 'max_depth': 6, 'min_child_weight': 1, 'subsample': 0.815201814710907}. Best is trial 37 with value: 0.09366986453766302.\n",
      "[I 2023-06-06 18:55:41,783] Trial 38 finished with value: 0.10442341304150586 and parameters: {'booster': 'gbtree', 'gamma': 4.129708597082081, 'max_depth': 18, 'min_child_weight': 2, 'subsample': 0.7856410930912141}. Best is trial 37 with value: 0.09366986453766302.\n",
      "[I 2023-06-06 18:55:41,811] Trial 39 finished with value: 0.09938257314463823 and parameters: {'booster': 'gbtree', 'gamma': 3.753537952108314, 'max_depth': 18, 'min_child_weight': 2, 'subsample': 0.802727339236552}. Best is trial 37 with value: 0.09366986453766302.\n",
      "[I 2023-06-06 18:55:41,885] Trial 40 finished with value: 0.09866119317623197 and parameters: {'booster': 'gbtree', 'gamma': 3.7536857261377543, 'max_depth': 18, 'min_child_weight': 2, 'subsample': 0.7894874057280394}. Best is trial 37 with value: 0.09366986453766302.\n",
      "[I 2023-06-06 18:55:41,921] Trial 42 finished with value: 0.10396427796947343 and parameters: {'booster': 'gbtree', 'gamma': 2.7053355852958, 'max_depth': 18, 'min_child_weight': 3, 'subsample': 0.7974676714333033}. Best is trial 37 with value: 0.09366986453766302.\n",
      "[I 2023-06-06 18:55:42,240] Trial 41 finished with value: 0.10179647961450913 and parameters: {'booster': 'gbtree', 'gamma': 3.8456735592640086, 'max_depth': 18, 'min_child_weight': 2, 'subsample': 0.7801982948751391}. Best is trial 37 with value: 0.09366986453766302.\n",
      "[I 2023-06-06 18:55:42,725] Trial 51 finished with value: 0.10590420811524633 and parameters: {'booster': 'gbtree', 'gamma': 3.3666110334689083, 'max_depth': 3, 'min_child_weight': 1, 'subsample': 0.8253254204386498}. Best is trial 37 with value: 0.09366986453766302.\n",
      "[I 2023-06-06 18:55:42,924] Trial 46 finished with value: 0.0988897967397458 and parameters: {'booster': 'gbtree', 'gamma': 2.2234349067504895, 'max_depth': 10, 'min_child_weight': 2, 'subsample': 0.7809288948851709}. Best is trial 37 with value: 0.09366986453766302.\n",
      "[I 2023-06-06 18:55:43,134] Trial 49 finished with value: 0.10220345230883392 and parameters: {'booster': 'gbtree', 'gamma': 2.729018596037507, 'max_depth': 6, 'min_child_weight': 1, 'subsample': 0.8288591356414878}. Best is trial 37 with value: 0.09366986453766302.\n",
      "[I 2023-06-06 18:55:43,151] Trial 48 finished with value: 0.10712171180373517 and parameters: {'booster': 'gbtree', 'gamma': 3.519454664084707, 'max_depth': 6, 'min_child_weight': 1, 'subsample': 0.8322614584684974}. Best is trial 37 with value: 0.09366986453766302.\n",
      "[I 2023-06-06 18:55:43,571] Trial 50 finished with value: 0.10106134730369945 and parameters: {'booster': 'gbtree', 'gamma': 3.387703542592508, 'max_depth': 7, 'min_child_weight': 1, 'subsample': 0.8348384492346903}. Best is trial 37 with value: 0.09366986453766302.\n",
      "[I 2023-06-06 18:55:43,585] Trial 43 finished with value: 0.104239726350775 and parameters: {'booster': 'gbtree', 'gamma': 3.554730190775378, 'max_depth': 18, 'min_child_weight': 2, 'subsample': 0.8245529883420177}. Best is trial 37 with value: 0.09366986453766302.\n",
      "[I 2023-06-06 18:55:43,705] Trial 44 finished with value: 0.09922317212302975 and parameters: {'booster': 'gbtree', 'gamma': 3.7135438982135636, 'max_depth': 18, 'min_child_weight': 1, 'subsample': 0.790184190289063}. Best is trial 37 with value: 0.09366986453766302.\n",
      "[I 2023-06-06 18:55:43,990] Trial 52 finished with value: 0.1032149454181431 and parameters: {'booster': 'gbtree', 'gamma': 3.4502461806518854, 'max_depth': 6, 'min_child_weight': 1, 'subsample': 0.8184482618958634}. Best is trial 37 with value: 0.09366986453766302.\n",
      "[I 2023-06-06 18:55:44,094] Trial 54 finished with value: 0.10588899236878317 and parameters: {'booster': 'gbtree', 'gamma': 3.5871523185547516, 'max_depth': 5, 'min_child_weight': 1, 'subsample': 0.8299003444881151}. Best is trial 37 with value: 0.09366986453766302.\n",
      "[I 2023-06-06 18:55:44,170] Trial 53 finished with value: 0.09928059917542863 and parameters: {'booster': 'gbtree', 'gamma': 3.5214678926916707, 'max_depth': 6, 'min_child_weight': 1, 'subsample': 0.8144240747007487}. Best is trial 37 with value: 0.09366986453766302.\n",
      "[I 2023-06-06 18:55:44,620] Trial 47 finished with value: 0.10288642198431129 and parameters: {'booster': 'gbtree', 'gamma': 3.7479923392218084, 'max_depth': 10, 'min_child_weight': 2, 'subsample': 0.7965178662787327}. Best is trial 37 with value: 0.09366986453766302.\n",
      "[I 2023-06-06 18:55:44,961] Trial 55 finished with value: 0.11119143803000417 and parameters: {'booster': 'gbtree', 'gamma': 3.304101563814305, 'max_depth': 8, 'min_child_weight': 1, 'subsample': 0.6868658786468469}. Best is trial 37 with value: 0.09366986453766302.\n",
      "[I 2023-06-06 18:55:45,518] Trial 57 finished with value: 0.10170494230341766 and parameters: {'booster': 'gbtree', 'gamma': 2.414167334042683, 'max_depth': 8, 'min_child_weight': 1, 'subsample': 0.9905283634981517}. Best is trial 37 with value: 0.09366986453766302.\n",
      "[I 2023-06-06 18:55:45,550] Trial 56 finished with value: 0.09494101387412693 and parameters: {'booster': 'gbtree', 'gamma': 2.3303784940688823, 'max_depth': 8, 'min_child_weight': 1, 'subsample': 0.7626445519695524}. Best is trial 37 with value: 0.09366986453766302.\n",
      "[I 2023-06-06 18:55:46,342] Trial 58 finished with value: 0.09985824592271209 and parameters: {'booster': 'gbtree', 'gamma': 3.30854414582307, 'max_depth': 10, 'min_child_weight': 2, 'subsample': 0.7667675468924896}. Best is trial 37 with value: 0.09366986453766302.\n",
      "[I 2023-06-06 18:55:46,617] Trial 59 finished with value: 0.09984145366759842 and parameters: {'booster': 'gbtree', 'gamma': 3.2797515606643515, 'max_depth': 10, 'min_child_weight': 2, 'subsample': 0.7655154201769668}. Best is trial 37 with value: 0.09366986453766302.\n",
      "[I 2023-06-06 18:55:48,075] Trial 61 finished with value: 0.10108708338986346 and parameters: {'booster': 'gbtree', 'gamma': 2.8048778993884826, 'max_depth': 14, 'min_child_weight': 2, 'subsample': 0.7540796892835078}. Best is trial 37 with value: 0.09366986453766302.\n",
      "[I 2023-06-06 18:55:48,198] Trial 60 finished with value: 0.09798185083266736 and parameters: {'booster': 'gbtree', 'gamma': 3.2544636096031234, 'max_depth': 15, 'min_child_weight': 2, 'subsample': 0.7553328013002534}. Best is trial 37 with value: 0.09366986453766302.\n",
      "[I 2023-06-06 18:55:48,788] Trial 62 finished with value: 0.10075340836314971 and parameters: {'booster': 'gbtree', 'gamma': 3.2077062560293457, 'max_depth': 15, 'min_child_weight': 2, 'subsample': 0.7549345180085107}. Best is trial 37 with value: 0.09366986453766302.\n",
      "[I 2023-06-06 18:55:51,570] Trial 63 finished with value: 0.1014342375996961 and parameters: {'booster': 'dart', 'gamma': 4.043736944688926, 'max_depth': 14, 'min_child_weight': 2, 'subsample': 0.7779169949053062}. Best is trial 37 with value: 0.09366986453766302.\n",
      "[I 2023-06-06 18:55:52,060] Trial 64 finished with value: 0.10453631336434883 and parameters: {'booster': 'dart', 'gamma': 3.994839834019284, 'max_depth': 14, 'min_child_weight': 2, 'subsample': 0.7586154168066022}. Best is trial 37 with value: 0.09366986453766302.\n",
      "[I 2023-06-06 18:55:52,301] Trial 65 finished with value: 0.10095768585675857 and parameters: {'booster': 'dart', 'gamma': 2.8295049304651108, 'max_depth': 14, 'min_child_weight': 1, 'subsample': 0.7502188293715375}. Best is trial 37 with value: 0.09366986453766302.\n",
      "[I 2023-06-06 18:55:52,951] Trial 66 finished with value: 0.10110887314362411 and parameters: {'booster': 'dart', 'gamma': 2.802415795236249, 'max_depth': 14, 'min_child_weight': 1, 'subsample': 0.750037512201715}. Best is trial 37 with value: 0.09366986453766302.\n",
      "[I 2023-06-06 18:55:53,348] Trial 67 finished with value: 0.09985126646078461 and parameters: {'booster': 'dart', 'gamma': 2.776058567692125, 'max_depth': 14, 'min_child_weight': 1, 'subsample': 0.7578915650843252}. Best is trial 37 with value: 0.09366986453766302.\n",
      "[I 2023-06-06 18:55:54,130] Trial 68 finished with value: 0.09927680789601508 and parameters: {'booster': 'dart', 'gamma': 2.4910201665497973, 'max_depth': 12, 'min_child_weight': 2, 'subsample': 0.7204671063499369}. Best is trial 37 with value: 0.09366986453766302.\n",
      "[I 2023-06-06 18:55:54,252] Trial 69 finished with value: 0.10140624359071869 and parameters: {'booster': 'dart', 'gamma': 2.796355831533196, 'max_depth': 12, 'min_child_weight': 2, 'subsample': 0.7119914190846962}. Best is trial 37 with value: 0.09366986453766302.\n",
      "[I 2023-06-06 18:55:54,896] Trial 70 finished with value: 0.10223872100655201 and parameters: {'booster': 'dart', 'gamma': 2.4842469194840513, 'max_depth': 12, 'min_child_weight': 1, 'subsample': 0.713073922128584}. Best is trial 37 with value: 0.09366986453766302.\n",
      "[I 2023-06-06 18:55:55,396] Trial 72 finished with value: 0.09862759533902048 and parameters: {'booster': 'gbtree', 'gamma': 2.8449800992949976, 'max_depth': 12, 'min_child_weight': 1, 'subsample': 0.7083643641165382}. Best is trial 37 with value: 0.09366986453766302.\n",
      "[I 2023-06-06 18:55:55,398] Trial 73 finished with value: 0.10035148505763304 and parameters: {'booster': 'gbtree', 'gamma': 2.5334138664884804, 'max_depth': 12, 'min_child_weight': 3, 'subsample': 0.7213473063813315}. Best is trial 37 with value: 0.09366986453766302.\n",
      "[I 2023-06-06 18:55:56,359] Trial 75 finished with value: 0.09587388507751433 and parameters: {'booster': 'gbtree', 'gamma': 2.4835176657023816, 'max_depth': 12, 'min_child_weight': 3, 'subsample': 0.7241706494519125}. Best is trial 37 with value: 0.09366986453766302.\n",
      "[I 2023-06-06 18:55:56,360] Trial 77 finished with value: 0.10204366129860133 and parameters: {'booster': 'gbtree', 'gamma': 3.178910924524128, 'max_depth': 9, 'min_child_weight': 3, 'subsample': 0.701719473613049}. Best is trial 37 with value: 0.09366986453766302.\n",
      "[I 2023-06-06 18:55:56,605] Trial 74 finished with value: 0.09573233715119678 and parameters: {'booster': 'gbtree', 'gamma': 2.5154054907963754, 'max_depth': 15, 'min_child_weight': 3, 'subsample': 0.71713470311108}. Best is trial 37 with value: 0.09366986453766302.\n",
      "[I 2023-06-06 18:55:57,132] Trial 76 finished with value: 0.09407469401894628 and parameters: {'booster': 'gbtree', 'gamma': 3.1358615355069444, 'max_depth': 12, 'min_child_weight': 3, 'subsample': 0.6960191706710891}. Best is trial 37 with value: 0.09366986453766302.\n",
      "[I 2023-06-06 18:55:57,497] Trial 71 finished with value: 0.09781725544068605 and parameters: {'booster': 'dart', 'gamma': 2.8377666489983238, 'max_depth': 12, 'min_child_weight': 1, 'subsample': 0.7248548069319863}. Best is trial 37 with value: 0.09366986453766302.\n",
      "[I 2023-06-06 18:55:59,213] Trial 79 finished with value: 0.0939177839837843 and parameters: {'booster': 'gbtree', 'gamma': 3.138321511303348, 'max_depth': 16, 'min_child_weight': 3, 'subsample': 0.7330804462671691}. Best is trial 37 with value: 0.09366986453766302.\n",
      "[I 2023-06-06 18:55:59,302] Trial 78 finished with value: 0.10004458596456361 and parameters: {'booster': 'gbtree', 'gamma': 3.155267708823216, 'max_depth': 16, 'min_child_weight': 2, 'subsample': 0.8040149845041299}. Best is trial 37 with value: 0.09366986453766302.\n",
      "[I 2023-06-06 18:55:59,666] Trial 80 finished with value: 0.09401677541813391 and parameters: {'booster': 'gbtree', 'gamma': 3.125409577825987, 'max_depth': 15, 'min_child_weight': 1, 'subsample': 0.734413085368504}. Best is trial 37 with value: 0.09366986453766302.\n",
      "[I 2023-06-06 18:56:00,189] Trial 81 finished with value: 0.10218338426158226 and parameters: {'booster': 'gbtree', 'gamma': 2.240232530317128, 'max_depth': 16, 'min_child_weight': 3, 'subsample': 0.7401127179160694}. Best is trial 37 with value: 0.09366986453766302.\n",
      "[I 2023-06-06 18:56:00,221] Trial 82 finished with value: 0.10041192990094015 and parameters: {'booster': 'gbtree', 'gamma': 3.1215258234248133, 'max_depth': 16, 'min_child_weight': 3, 'subsample': 0.7362770993799251}. Best is trial 37 with value: 0.09366986453766302.\n",
      "[I 2023-06-06 18:56:00,298] Trial 84 finished with value: 0.10472436487181211 and parameters: {'booster': 'gbtree', 'gamma': 2.258921712670311, 'max_depth': 13, 'min_child_weight': 3, 'subsample': 0.6809785089761613}. Best is trial 37 with value: 0.09366986453766302.\n",
      "[I 2023-06-06 18:56:00,416] Trial 83 finished with value: 0.09703190735618814 and parameters: {'booster': 'gbtree', 'gamma': 2.241634877598557, 'max_depth': 16, 'min_child_weight': 3, 'subsample': 0.7334906969509045}. Best is trial 37 with value: 0.09366986453766302.\n",
      "[I 2023-06-06 18:56:00,693] Trial 85 finished with value: 0.10084119290300675 and parameters: {'booster': 'gbtree', 'gamma': 2.3804569464948337, 'max_depth': 13, 'min_child_weight': 3, 'subsample': 0.6790099264904018}. Best is trial 37 with value: 0.09366986453766302.\n",
      "[I 2023-06-06 18:56:02,960] Trial 86 finished with value: 0.09970774812994421 and parameters: {'booster': 'gbtree', 'gamma': 2.203098212814844, 'max_depth': 16, 'min_child_weight': 3, 'subsample': 0.6824121748871783}. Best is trial 37 with value: 0.09366986453766302.\n",
      "[I 2023-06-06 18:56:03,115] Trial 87 finished with value: 0.10490244039984542 and parameters: {'booster': 'gbtree', 'gamma': 2.2508859048671006, 'max_depth': 17, 'min_child_weight': 3, 'subsample': 0.6773406338494301}. Best is trial 37 with value: 0.09366986453766302.\n",
      "[I 2023-06-06 18:56:03,432] Trial 88 finished with value: 0.10074758818261449 and parameters: {'booster': 'gbtree', 'gamma': 2.329732865494737, 'max_depth': 17, 'min_child_weight': 3, 'subsample': 0.6809755273515241}. Best is trial 37 with value: 0.09366986453766302.\n",
      "[I 2023-06-06 18:56:03,993] Trial 90 finished with value: 0.10350188527223232 and parameters: {'booster': 'gbtree', 'gamma': 2.6523174225439177, 'max_depth': 17, 'min_child_weight': 3, 'subsample': 0.6677311523533084}. Best is trial 37 with value: 0.09366986453766302.\n",
      "[I 2023-06-06 18:56:04,068] Trial 89 finished with value: 0.09800320319412215 and parameters: {'booster': 'gbtree', 'gamma': 2.6442982902176624, 'max_depth': 17, 'min_child_weight': 3, 'subsample': 0.6854788746222392}. Best is trial 37 with value: 0.09366986453766302.\n",
      "[I 2023-06-06 18:56:04,195] Trial 91 finished with value: 0.09865199335494969 and parameters: {'booster': 'gbtree', 'gamma': 2.6085949980082432, 'max_depth': 17, 'min_child_weight': 3, 'subsample': 0.6888340165222275}. Best is trial 37 with value: 0.09366986453766302.\n",
      "[I 2023-06-06 18:56:04,326] Trial 92 finished with value: 0.10568187297182177 and parameters: {'booster': 'gbtree', 'gamma': 2.6606021563308877, 'max_depth': 17, 'min_child_weight': 3, 'subsample': 0.6927395645365495}. Best is trial 37 with value: 0.09366986453766302.\n",
      "[I 2023-06-06 18:56:04,451] Trial 93 finished with value: 0.09731363753667573 and parameters: {'booster': 'gbtree', 'gamma': 2.6322544928931424, 'max_depth': 17, 'min_child_weight': 3, 'subsample': 0.6488754510926013}. Best is trial 37 with value: 0.09366986453766302.\n",
      "[I 2023-06-06 18:56:05,750] Trial 95 finished with value: 0.11149797392146037 and parameters: {'booster': 'gbtree', 'gamma': 2.9536236133384683, 'max_depth': 15, 'min_child_weight': 3, 'subsample': 0.6533734587514711}. Best is trial 37 with value: 0.09366986453766302.\n",
      "[I 2023-06-06 18:56:05,767] Trial 94 finished with value: 0.10679541245417518 and parameters: {'booster': 'gbtree', 'gamma': 2.6344267855835954, 'max_depth': 15, 'min_child_weight': 3, 'subsample': 0.6985014049137761}. Best is trial 37 with value: 0.09366986453766302.\n",
      "[I 2023-06-06 18:56:05,857] Trial 97 finished with value: 0.10374128776218947 and parameters: {'booster': 'gbtree', 'gamma': 2.9884691324933406, 'max_depth': 11, 'min_child_weight': 3, 'subsample': 0.6985036104764187}. Best is trial 37 with value: 0.09366986453766302.\n",
      "[I 2023-06-06 18:56:06,068] Trial 96 finished with value: 0.09943372709851327 and parameters: {'booster': 'gbtree', 'gamma': 2.6220651714873884, 'max_depth': 20, 'min_child_weight': 3, 'subsample': 0.6524395352867732}. Best is trial 37 with value: 0.09366986453766302.\n",
      "[I 2023-06-06 18:56:06,175] Trial 98 finished with value: 0.09718673844355964 and parameters: {'booster': 'gbtree', 'gamma': 2.977616812039691, 'max_depth': 15, 'min_child_weight': 3, 'subsample': 0.7722667772179671}. Best is trial 37 with value: 0.09366986453766302.\n",
      "[I 2023-06-06 18:56:06,195] Trial 99 finished with value: 0.1022136001368548 and parameters: {'booster': 'gbtree', 'gamma': 2.962266641272433, 'max_depth': 15, 'min_child_weight': 3, 'subsample': 0.7008629724911981}. Best is trial 37 with value: 0.09366986453766302.\n"
     ]
    }
   ],
   "source": [
    "from sklearn.metrics import mean_squared_error, r2_score\n",
    "from xgboost import XGBRegressor\n",
    "import optuna\n",
    "\n",
    "# objective function to be minimized\n",
    "def objective_fun(trial):\n",
    "\n",
    "    booster = trial.suggest_categorical('booster', ['gbtree', 'dart'])\n",
    "    gamma = trial.suggest_float('gamma', 0, 5)\n",
    "    max_depth = trial.suggest_int('max_depth', 3, 20)\n",
    "    min_child_weight = trial.suggest_int('min_child_weight', 1, 3)\n",
    "    subsample = trial.suggest_float('subsample', 0.4, 1)\n",
    "\n",
    "    xgb = XGBRegressor(booster=booster, gamma=gamma, max_depth=max_depth, min_child_weight=min_child_weight, subsample=subsample)\n",
    "\n",
    "    xgb.fit(X_train, y_train)\n",
    "    y_pred = xgb.predict(X_valid)\n",
    "\n",
    "    error = mean_squared_error(y_valid, y_pred)\n",
    "\n",
    "    return error\n",
    "\n",
    "\n",
    "study = optuna.create_study()\n",
    "study.optimize(objective_fun, n_trials=100, n_jobs=-1)"
   ],
   "metadata": {
    "collapsed": false,
    "ExecuteTime": {
     "end_time": "2023-06-06T16:56:06.206362Z",
     "start_time": "2023-06-06T16:55:17.395929Z"
    }
   }
  },
  {
   "cell_type": "code",
   "execution_count": 13,
   "outputs": [
    {
     "name": "stdout",
     "output_type": "stream",
     "text": [
      "{'booster': 'gbtree', 'gamma': 2.6097726072333662, 'max_depth': 11, 'min_child_weight': 3, 'subsample': 0.7908633556878183}\n",
      "Root mean squared error = 0.3973\n",
      "R-squared = 0.6552\n"
     ]
    }
   ],
   "source": [
    "best_params = study.best_params\n",
    "\n",
    "xgb = XGBRegressor(**best_params)\n",
    "xgb.fit(X_train, y_train)\n",
    "\n",
    "y_pred_test = xgb.predict(X_test)\n",
    "\n",
    "print(best_params)\n",
    "print('Root mean squared error = %.4f' % np.sqrt(mean_squared_error(y_test, y_pred_test)))\n",
    "print('R-squared = %.4f' % r2_score(y_test, y_pred_test))"
   ],
   "metadata": {
    "collapsed": false,
    "ExecuteTime": {
     "end_time": "2023-06-06T16:56:06.493466Z",
     "start_time": "2023-06-06T16:56:06.201192Z"
    }
   }
  },
  {
   "cell_type": "code",
   "execution_count": 14,
   "outputs": [
    {
     "data": {
      "text/plain": "array([0.01002509, 0.01002509, 0.00939152, ..., 0.00018898, 0.00011112,\n       0.00011112], dtype=float32)"
     },
     "execution_count": 14,
     "metadata": {},
     "output_type": "execute_result"
    }
   ],
   "source": [
    "y_pred = xgb.predict(X_to_pred)\n",
    "y_pred = np.power(10, y_pred)\n",
    "y_pred"
   ],
   "metadata": {
    "collapsed": false,
    "ExecuteTime": {
     "end_time": "2023-06-06T16:56:06.498191Z",
     "start_time": "2023-06-06T16:56:06.494635Z"
    }
   }
  },
  {
   "cell_type": "code",
   "execution_count": 15,
   "outputs": [
    {
     "data": {
      "text/plain": "0"
     },
     "execution_count": 15,
     "metadata": {},
     "output_type": "execute_result"
    }
   ],
   "source": [
    "# negative values predicted\n",
    "np.count_nonzero(y_pred < 0)"
   ],
   "metadata": {
    "collapsed": false,
    "ExecuteTime": {
     "end_time": "2023-06-06T16:56:06.503802Z",
     "start_time": "2023-06-06T16:56:06.501643Z"
    }
   }
  },
  {
   "cell_type": "code",
   "execution_count": 16,
   "outputs": [],
   "source": [
    "df_zero[TARGET] = y_pred\n",
    "df.update(df_zero)"
   ],
   "metadata": {
    "collapsed": false,
    "ExecuteTime": {
     "end_time": "2023-06-06T16:56:06.543241Z",
     "start_time": "2023-06-06T16:56:06.503960Z"
    }
   }
  },
  {
   "cell_type": "code",
   "execution_count": 17,
   "outputs": [
    {
     "data": {
      "text/plain": "<Figure size 640x480 with 1 Axes>",
      "image/png": "[encoded data removed]"
     },
     "metadata": {},
     "output_type": "display_data"
    }
   ],
   "source": [
    "sns.histplot(data=df, x=TARGET)\n",
    "plt.xlabel(f'{TARGET}')\n",
    "plt.ylabel('Count')\n",
    "plt.title(f'Distribution of {TARGET}')\n",
    "plt.show()"
   ],
   "metadata": {
    "collapsed": false,
    "ExecuteTime": {
     "end_time": "2023-06-06T16:56:06.762345Z",
     "start_time": "2023-06-06T16:56:06.528497Z"
    }
   }
  },
  {
   "cell_type": "code",
   "execution_count": 18,
   "outputs": [
    {
     "data": {
      "text/plain": "<Figure size 640x480 with 1 Axes>",
      "image/png": "[encoded data removed]"
     },
     "metadata": {},
     "output_type": "display_data"
    }
   ],
   "source": [
    "sns.histplot(data=df, x=TARGET, log_scale=True)\n",
    "plt.xlabel(f'{TARGET}')\n",
    "plt.ylabel('Count')\n",
    "plt.title(f'Distribution of {TARGET}')\n",
    "plt.show()"
   ],
   "metadata": {
    "collapsed": false,
    "ExecuteTime": {
     "end_time": "2023-06-06T16:56:07.164492Z",
     "start_time": "2023-06-06T16:56:06.762947Z"
    }
   }
  },
  {
   "cell_type": "markdown",
   "source": [
    "## Neural Network"
   ],
   "metadata": {
    "collapsed": false
   }
  },
  {
   "cell_type": "code",
   "execution_count": 19,
   "outputs": [
    {
     "name": "stderr",
     "output_type": "stream",
     "text": [
      "[I 2023-06-06 18:56:10,204] A new study created in memory with name: no-name-cb0c9579-e81e-45d7-8d72-36621dfda84b\n",
      "WARNING:absl:At this time, the v2.11+ optimizer `tf.keras.optimizers.Adam` runs slowly on M1/M2 Macs, please use the legacy Keras optimizer instead, located at `tf.keras.optimizers.legacy.Adam`.\n",
      "WARNING:absl:At this time, the v2.11+ optimizer `tf.keras.optimizers.Adam` runs slowly on M1/M2 Macs, please use the legacy Keras optimizer instead, located at `tf.keras.optimizers.legacy.Adam`.\n",
      "WARNING:absl:At this time, the v2.11+ optimizer `tf.keras.optimizers.Adam` runs slowly on M1/M2 Macs, please use the legacy Keras optimizer instead, located at `tf.keras.optimizers.legacy.Adam`.\n",
      "WARNING:absl:At this time, the v2.11+ optimizer `tf.keras.optimizers.Adam` runs slowly on M1/M2 Macs, please use the legacy Keras optimizer instead, located at `tf.keras.optimizers.legacy.Adam`.\n",
      "WARNING:absl:At this time, the v2.11+ optimizer `tf.keras.optimizers.Adam` runs slowly on M1/M2 Macs, please use the legacy Keras optimizer instead, located at `tf.keras.optimizers.legacy.Adam`.\n",
      "WARNING:absl:At this time, the v2.11+ optimizer `tf.keras.optimizers.Adam` runs slowly on M1/M2 Macs, please use the legacy Keras optimizer instead, located at `tf.keras.optimizers.legacy.Adam`.\n",
      "WARNING:absl:At this time, the v2.11+ optimizer `tf.keras.optimizers.Adam` runs slowly on M1/M2 Macs, please use the legacy Keras optimizer instead, located at `tf.keras.optimizers.legacy.Adam`.\n",
      "WARNING:absl:At this time, the v2.11+ optimizer `tf.keras.optimizers.Adam` runs slowly on M1/M2 Macs, please use the legacy Keras optimizer instead, located at `tf.keras.optimizers.legacy.Adam`.\n",
      "WARNING:absl:There is a known slowdown when using v2.11+ Keras optimizers on M1/M2 Macs. Falling back to the legacy Keras optimizer, i.e., `tf.keras.optimizers.legacy.Adam`.\n",
      "WARNING:absl:There is a known slowdown when using v2.11+ Keras optimizers on M1/M2 Macs. Falling back to the legacy Keras optimizer, i.e., `tf.keras.optimizers.legacy.Adam`.\n",
      "WARNING:absl:There is a known slowdown when using v2.11+ Keras optimizers on M1/M2 Macs. Falling back to the legacy Keras optimizer, i.e., `tf.keras.optimizers.legacy.Adam`.\n",
      "WARNING:absl:There is a known slowdown when using v2.11+ Keras optimizers on M1/M2 Macs. Falling back to the legacy Keras optimizer, i.e., `tf.keras.optimizers.legacy.Adam`.\n",
      "WARNING:absl:There is a known slowdown when using v2.11+ Keras optimizers on M1/M2 Macs. Falling back to the legacy Keras optimizer, i.e., `tf.keras.optimizers.legacy.Adam`.\n",
      "WARNING:absl:There is a known slowdown when using v2.11+ Keras optimizers on M1/M2 Macs. Falling back to the legacy Keras optimizer, i.e., `tf.keras.optimizers.legacy.Adam`.\n",
      "WARNING:absl:There is a known slowdown when using v2.11+ Keras optimizers on M1/M2 Macs. Falling back to the legacy Keras optimizer, i.e., `tf.keras.optimizers.legacy.Adam`.\n",
      "WARNING:absl:There is a known slowdown when using v2.11+ Keras optimizers on M1/M2 Macs. Falling back to the legacy Keras optimizer, i.e., `tf.keras.optimizers.legacy.Adam`.\n"
     ]
    },
    {
     "name": "stdout",
     "output_type": "stream",
     "text": [
      "WARNING:tensorflow:5 out of the last 8 calls to <function Model.make_test_function.<locals>.test_function at 0x2b525d700> triggered tf.function retracing. Tracing is expensive and the excessive number of tracings could be due to (1) creating @tf.function repeatedly in a loop, (2) passing tensors with different shapes, (3) passing Python objects instead of tensors. For (1), please define your @tf.function outside of the loop. For (2), @tf.function has reduce_retracing=True option that can avoid unnecessary retracing. For (3), please refer to https://www.tensorflow.org/guide/function#controlling_retracing and https://www.tensorflow.org/api_docs/python/tf/function for  more details.\n"
     ]
    },
    {
     "name": "stderr",
     "output_type": "stream",
     "text": [
      "WARNING:tensorflow:5 out of the last 8 calls to <function Model.make_test_function.<locals>.test_function at 0x2b525d700> triggered tf.function retracing. Tracing is expensive and the excessive number of tracings could be due to (1) creating @tf.function repeatedly in a loop, (2) passing tensors with different shapes, (3) passing Python objects instead of tensors. For (1), please define your @tf.function outside of the loop. For (2), @tf.function has reduce_retracing=True option that can avoid unnecessary retracing. For (3), please refer to https://www.tensorflow.org/guide/function#controlling_retracing and https://www.tensorflow.org/api_docs/python/tf/function for  more details.\n"
     ]
    },
    {
     "name": "stdout",
     "output_type": "stream",
     "text": [
      "WARNING:tensorflow:6 out of the last 11 calls to <function Model.make_test_function.<locals>.test_function at 0x2b525dd30> triggered tf.function retracing. Tracing is expensive and the excessive number of tracings could be due to (1) creating @tf.function repeatedly in a loop, (2) passing tensors with different shapes, (3) passing Python objects instead of tensors. For (1), please define your @tf.function outside of the loop. For (2), @tf.function has reduce_retracing=True option that can avoid unnecessary retracing. For (3), please refer to https://www.tensorflow.org/guide/function#controlling_retracing and https://www.tensorflow.org/api_docs/python/tf/function for  more details.\n"
     ]
    },
    {
     "name": "stderr",
     "output_type": "stream",
     "text": [
      "WARNING:tensorflow:6 out of the last 11 calls to <function Model.make_test_function.<locals>.test_function at 0x2b525dd30> triggered tf.function retracing. Tracing is expensive and the excessive number of tracings could be due to (1) creating @tf.function repeatedly in a loop, (2) passing tensors with different shapes, (3) passing Python objects instead of tensors. For (1), please define your @tf.function outside of the loop. For (2), @tf.function has reduce_retracing=True option that can avoid unnecessary retracing. For (3), please refer to https://www.tensorflow.org/guide/function#controlling_retracing and https://www.tensorflow.org/api_docs/python/tf/function for  more details.\n",
      "[I 2023-06-06 18:56:13,010] Trial 6 finished with value: 0.14700718224048615 and parameters: {'n_hidden': 1, 'n_units': 57, 'learning_rate': 0.050216681313764604}. Best is trial 6 with value: 0.14700718224048615.\n",
      "[I 2023-06-06 18:56:13,014] Trial 7 finished with value: 0.16439925134181976 and parameters: {'n_hidden': 1, 'n_units': 58, 'learning_rate': 0.04244036258415641}. Best is trial 6 with value: 0.14700718224048615.\n",
      "[I 2023-06-06 18:56:13,061] Trial 3 finished with value: 0.224782332777977 and parameters: {'n_hidden': 1, 'n_units': 110, 'learning_rate': 0.07382860955648406}. Best is trial 6 with value: 0.14700718224048615.\n",
      "WARNING:absl:At this time, the v2.11+ optimizer `tf.keras.optimizers.Adam` runs slowly on M1/M2 Macs, please use the legacy Keras optimizer instead, located at `tf.keras.optimizers.legacy.Adam`.\n",
      "WARNING:absl:There is a known slowdown when using v2.11+ Keras optimizers on M1/M2 Macs. Falling back to the legacy Keras optimizer, i.e., `tf.keras.optimizers.legacy.Adam`.\n",
      "[I 2023-06-06 18:56:13,129] Trial 1 finished with value: 0.202677384018898 and parameters: {'n_hidden': 1, 'n_units': 94, 'learning_rate': 0.0004715473813257265}. Best is trial 6 with value: 0.14700718224048615.\n",
      "WARNING:absl:At this time, the v2.11+ optimizer `tf.keras.optimizers.Adam` runs slowly on M1/M2 Macs, please use the legacy Keras optimizer instead, located at `tf.keras.optimizers.legacy.Adam`.\n",
      "WARNING:absl:At this time, the v2.11+ optimizer `tf.keras.optimizers.Adam` runs slowly on M1/M2 Macs, please use the legacy Keras optimizer instead, located at `tf.keras.optimizers.legacy.Adam`.\n",
      "WARNING:absl:There is a known slowdown when using v2.11+ Keras optimizers on M1/M2 Macs. Falling back to the legacy Keras optimizer, i.e., `tf.keras.optimizers.legacy.Adam`.\n",
      "[I 2023-06-06 18:56:13,193] Trial 2 finished with value: 0.12603917717933655 and parameters: {'n_hidden': 2, 'n_units': 51, 'learning_rate': 0.047070178326929675}. Best is trial 2 with value: 0.12603917717933655.\n",
      "WARNING:absl:There is a known slowdown when using v2.11+ Keras optimizers on M1/M2 Macs. Falling back to the legacy Keras optimizer, i.e., `tf.keras.optimizers.legacy.Adam`.\n",
      "[I 2023-06-06 18:56:13,203] Trial 0 finished with value: 0.12156123667955399 and parameters: {'n_hidden': 1, 'n_units': 124, 'learning_rate': 0.011140925832628285}. Best is trial 0 with value: 0.12156123667955399.\n",
      "WARNING:absl:At this time, the v2.11+ optimizer `tf.keras.optimizers.Adam` runs slowly on M1/M2 Macs, please use the legacy Keras optimizer instead, located at `tf.keras.optimizers.legacy.Adam`.\n",
      "[I 2023-06-06 18:56:13,295] Trial 4 finished with value: 0.589845597743988 and parameters: {'n_hidden': 2, 'n_units': 118, 'learning_rate': 0.06846898919469131}. Best is trial 0 with value: 0.12156123667955399.\n",
      "WARNING:absl:There is a known slowdown when using v2.11+ Keras optimizers on M1/M2 Macs. Falling back to the legacy Keras optimizer, i.e., `tf.keras.optimizers.legacy.Adam`.\n",
      "WARNING:absl:At this time, the v2.11+ optimizer `tf.keras.optimizers.Adam` runs slowly on M1/M2 Macs, please use the legacy Keras optimizer instead, located at `tf.keras.optimizers.legacy.Adam`.\n",
      "[I 2023-06-06 18:56:13,358] Trial 5 finished with value: 0.181585893034935 and parameters: {'n_hidden': 2, 'n_units': 89, 'learning_rate': 0.01877416081010944}. Best is trial 0 with value: 0.12156123667955399.\n",
      "WARNING:absl:There is a known slowdown when using v2.11+ Keras optimizers on M1/M2 Macs. Falling back to the legacy Keras optimizer, i.e., `tf.keras.optimizers.legacy.Adam`.\n",
      "WARNING:absl:At this time, the v2.11+ optimizer `tf.keras.optimizers.Adam` runs slowly on M1/M2 Macs, please use the legacy Keras optimizer instead, located at `tf.keras.optimizers.legacy.Adam`.\n",
      "WARNING:absl:At this time, the v2.11+ optimizer `tf.keras.optimizers.Adam` runs slowly on M1/M2 Macs, please use the legacy Keras optimizer instead, located at `tf.keras.optimizers.legacy.Adam`.\n",
      "WARNING:absl:There is a known slowdown when using v2.11+ Keras optimizers on M1/M2 Macs. Falling back to the legacy Keras optimizer, i.e., `tf.keras.optimizers.legacy.Adam`.\n",
      "WARNING:absl:There is a known slowdown when using v2.11+ Keras optimizers on M1/M2 Macs. Falling back to the legacy Keras optimizer, i.e., `tf.keras.optimizers.legacy.Adam`.\n",
      "WARNING:absl:At this time, the v2.11+ optimizer `tf.keras.optimizers.Adam` runs slowly on M1/M2 Macs, please use the legacy Keras optimizer instead, located at `tf.keras.optimizers.legacy.Adam`.\n",
      "WARNING:absl:There is a known slowdown when using v2.11+ Keras optimizers on M1/M2 Macs. Falling back to the legacy Keras optimizer, i.e., `tf.keras.optimizers.legacy.Adam`.\n",
      "[I 2023-06-06 18:56:15,899] Trial 8 finished with value: 0.15990586578845978 and parameters: {'n_hidden': 1, 'n_units': 93, 'learning_rate': 0.08197422310454676}. Best is trial 0 with value: 0.12156123667955399.\n",
      "WARNING:absl:At this time, the v2.11+ optimizer `tf.keras.optimizers.Adam` runs slowly on M1/M2 Macs, please use the legacy Keras optimizer instead, located at `tf.keras.optimizers.legacy.Adam`.\n",
      "WARNING:absl:There is a known slowdown when using v2.11+ Keras optimizers on M1/M2 Macs. Falling back to the legacy Keras optimizer, i.e., `tf.keras.optimizers.legacy.Adam`.\n",
      "[I 2023-06-06 18:56:16,035] Trial 9 finished with value: 0.10951240360736847 and parameters: {'n_hidden': 3, 'n_units': 76, 'learning_rate': 0.003311356973087233}. Best is trial 9 with value: 0.10951240360736847.\n",
      "[I 2023-06-06 18:56:16,094] Trial 10 finished with value: 0.5700446367263794 and parameters: {'n_hidden': 2, 'n_units': 127, 'learning_rate': 0.07373173182013376}. Best is trial 9 with value: 0.10951240360736847.\n",
      "[I 2023-06-06 18:56:16,098] Trial 12 finished with value: 0.21795497834682465 and parameters: {'n_hidden': 1, 'n_units': 120, 'learning_rate': 0.05686849865633862}. Best is trial 9 with value: 0.10951240360736847.\n",
      "WARNING:absl:At this time, the v2.11+ optimizer `tf.keras.optimizers.Adam` runs slowly on M1/M2 Macs, please use the legacy Keras optimizer instead, located at `tf.keras.optimizers.legacy.Adam`.\n",
      "WARNING:absl:There is a known slowdown when using v2.11+ Keras optimizers on M1/M2 Macs. Falling back to the legacy Keras optimizer, i.e., `tf.keras.optimizers.legacy.Adam`.\n",
      "WARNING:absl:At this time, the v2.11+ optimizer `tf.keras.optimizers.Adam` runs slowly on M1/M2 Macs, please use the legacy Keras optimizer instead, located at `tf.keras.optimizers.legacy.Adam`.\n",
      "WARNING:absl:There is a known slowdown when using v2.11+ Keras optimizers on M1/M2 Macs. Falling back to the legacy Keras optimizer, i.e., `tf.keras.optimizers.legacy.Adam`.\n",
      "WARNING:absl:At this time, the v2.11+ optimizer `tf.keras.optimizers.Adam` runs slowly on M1/M2 Macs, please use the legacy Keras optimizer instead, located at `tf.keras.optimizers.legacy.Adam`.\n",
      "WARNING:absl:There is a known slowdown when using v2.11+ Keras optimizers on M1/M2 Macs. Falling back to the legacy Keras optimizer, i.e., `tf.keras.optimizers.legacy.Adam`.\n",
      "[I 2023-06-06 18:56:16,375] Trial 11 finished with value: 0.6121655702590942 and parameters: {'n_hidden': 3, 'n_units': 89, 'learning_rate': 0.053333331298961895}. Best is trial 9 with value: 0.10951240360736847.\n",
      "[I 2023-06-06 18:56:16,414] Trial 13 finished with value: 0.24341356754302979 and parameters: {'n_hidden': 2, 'n_units': 126, 'learning_rate': 0.07372278506637298}. Best is trial 9 with value: 0.10951240360736847.\n",
      "WARNING:absl:At this time, the v2.11+ optimizer `tf.keras.optimizers.Adam` runs slowly on M1/M2 Macs, please use the legacy Keras optimizer instead, located at `tf.keras.optimizers.legacy.Adam`.\n",
      "WARNING:absl:At this time, the v2.11+ optimizer `tf.keras.optimizers.Adam` runs slowly on M1/M2 Macs, please use the legacy Keras optimizer instead, located at `tf.keras.optimizers.legacy.Adam`.\n",
      "[I 2023-06-06 18:56:16,629] Trial 14 finished with value: 0.791620671749115 and parameters: {'n_hidden': 3, 'n_units': 124, 'learning_rate': 0.08703118501512386}. Best is trial 9 with value: 0.10951240360736847.\n",
      "WARNING:absl:There is a known slowdown when using v2.11+ Keras optimizers on M1/M2 Macs. Falling back to the legacy Keras optimizer, i.e., `tf.keras.optimizers.legacy.Adam`.\n",
      "WARNING:absl:There is a known slowdown when using v2.11+ Keras optimizers on M1/M2 Macs. Falling back to the legacy Keras optimizer, i.e., `tf.keras.optimizers.legacy.Adam`.\n",
      "WARNING:absl:At this time, the v2.11+ optimizer `tf.keras.optimizers.Adam` runs slowly on M1/M2 Macs, please use the legacy Keras optimizer instead, located at `tf.keras.optimizers.legacy.Adam`.\n",
      "WARNING:absl:There is a known slowdown when using v2.11+ Keras optimizers on M1/M2 Macs. Falling back to the legacy Keras optimizer, i.e., `tf.keras.optimizers.legacy.Adam`.\n",
      "[I 2023-06-06 18:56:17,245] Trial 15 finished with value: 0.1536930799484253 and parameters: {'n_hidden': 2, 'n_units': 120, 'learning_rate': 0.03656125719989969}. Best is trial 9 with value: 0.10951240360736847.\n",
      "WARNING:absl:At this time, the v2.11+ optimizer `tf.keras.optimizers.Adam` runs slowly on M1/M2 Macs, please use the legacy Keras optimizer instead, located at `tf.keras.optimizers.legacy.Adam`.\n",
      "WARNING:absl:There is a known slowdown when using v2.11+ Keras optimizers on M1/M2 Macs. Falling back to the legacy Keras optimizer, i.e., `tf.keras.optimizers.legacy.Adam`.\n",
      "[I 2023-06-06 18:56:18,816] Trial 16 finished with value: 0.5683013796806335 and parameters: {'n_hidden': 2, 'n_units': 33, 'learning_rate': 0.08024916709505292}. Best is trial 9 with value: 0.10951240360736847.\n",
      "WARNING:absl:At this time, the v2.11+ optimizer `tf.keras.optimizers.Adam` runs slowly on M1/M2 Macs, please use the legacy Keras optimizer instead, located at `tf.keras.optimizers.legacy.Adam`.\n",
      "WARNING:absl:There is a known slowdown when using v2.11+ Keras optimizers on M1/M2 Macs. Falling back to the legacy Keras optimizer, i.e., `tf.keras.optimizers.legacy.Adam`.\n",
      "[I 2023-06-06 18:56:18,962] Trial 19 finished with value: 0.1407693475484848 and parameters: {'n_hidden': 3, 'n_units': 70, 'learning_rate': 0.0008081039821215595}. Best is trial 9 with value: 0.10951240360736847.\n",
      "[I 2023-06-06 18:56:19,030] Trial 17 finished with value: 0.5682872533798218 and parameters: {'n_hidden': 3, 'n_units': 34, 'learning_rate': 0.0995404897992634}. Best is trial 9 with value: 0.10951240360736847.\n",
      "WARNING:absl:At this time, the v2.11+ optimizer `tf.keras.optimizers.Adam` runs slowly on M1/M2 Macs, please use the legacy Keras optimizer instead, located at `tf.keras.optimizers.legacy.Adam`.\n",
      "WARNING:absl:There is a known slowdown when using v2.11+ Keras optimizers on M1/M2 Macs. Falling back to the legacy Keras optimizer, i.e., `tf.keras.optimizers.legacy.Adam`.\n",
      "WARNING:absl:At this time, the v2.11+ optimizer `tf.keras.optimizers.Adam` runs slowly on M1/M2 Macs, please use the legacy Keras optimizer instead, located at `tf.keras.optimizers.legacy.Adam`.\n",
      "[I 2023-06-06 18:56:19,233] Trial 18 finished with value: 0.12266341596841812 and parameters: {'n_hidden': 3, 'n_units': 72, 'learning_rate': 0.0010672187687112786}. Best is trial 9 with value: 0.10951240360736847.\n",
      "WARNING:absl:There is a known slowdown when using v2.11+ Keras optimizers on M1/M2 Macs. Falling back to the legacy Keras optimizer, i.e., `tf.keras.optimizers.legacy.Adam`.\n",
      "[I 2023-06-06 18:56:19,349] Trial 20 finished with value: 0.20361007750034332 and parameters: {'n_hidden': 3, 'n_units': 73, 'learning_rate': 0.00020933506540234126}. Best is trial 9 with value: 0.10951240360736847.\n",
      "WARNING:absl:At this time, the v2.11+ optimizer `tf.keras.optimizers.Adam` runs slowly on M1/M2 Macs, please use the legacy Keras optimizer instead, located at `tf.keras.optimizers.legacy.Adam`.\n",
      "WARNING:absl:At this time, the v2.11+ optimizer `tf.keras.optimizers.Adam` runs slowly on M1/M2 Macs, please use the legacy Keras optimizer instead, located at `tf.keras.optimizers.legacy.Adam`.\n",
      "WARNING:absl:There is a known slowdown when using v2.11+ Keras optimizers on M1/M2 Macs. Falling back to the legacy Keras optimizer, i.e., `tf.keras.optimizers.legacy.Adam`.\n",
      "WARNING:absl:There is a known slowdown when using v2.11+ Keras optimizers on M1/M2 Macs. Falling back to the legacy Keras optimizer, i.e., `tf.keras.optimizers.legacy.Adam`.\n",
      "[I 2023-06-06 18:56:19,675] Trial 21 finished with value: 0.44574445486068726 and parameters: {'n_hidden': 3, 'n_units': 71, 'learning_rate': 0.00013147494021824822}. Best is trial 9 with value: 0.10951240360736847.\n",
      "[I 2023-06-06 18:56:19,857] Trial 22 finished with value: 0.12726546823978424 and parameters: {'n_hidden': 3, 'n_units': 74, 'learning_rate': 0.0023167923665186707}. Best is trial 9 with value: 0.10951240360736847.\n",
      "WARNING:absl:At this time, the v2.11+ optimizer `tf.keras.optimizers.Adam` runs slowly on M1/M2 Macs, please use the legacy Keras optimizer instead, located at `tf.keras.optimizers.legacy.Adam`.\n",
      "WARNING:absl:There is a known slowdown when using v2.11+ Keras optimizers on M1/M2 Macs. Falling back to the legacy Keras optimizer, i.e., `tf.keras.optimizers.legacy.Adam`.\n",
      "WARNING:absl:At this time, the v2.11+ optimizer `tf.keras.optimizers.Adam` runs slowly on M1/M2 Macs, please use the legacy Keras optimizer instead, located at `tf.keras.optimizers.legacy.Adam`.\n",
      "WARNING:absl:There is a known slowdown when using v2.11+ Keras optimizers on M1/M2 Macs. Falling back to the legacy Keras optimizer, i.e., `tf.keras.optimizers.legacy.Adam`.\n",
      "[I 2023-06-06 18:56:20,410] Trial 23 finished with value: 0.1245172768831253 and parameters: {'n_hidden': 3, 'n_units': 72, 'learning_rate': 0.003848123958853577}. Best is trial 9 with value: 0.10951240360736847.\n",
      "WARNING:absl:At this time, the v2.11+ optimizer `tf.keras.optimizers.Adam` runs slowly on M1/M2 Macs, please use the legacy Keras optimizer instead, located at `tf.keras.optimizers.legacy.Adam`.\n",
      "WARNING:absl:There is a known slowdown when using v2.11+ Keras optimizers on M1/M2 Macs. Falling back to the legacy Keras optimizer, i.e., `tf.keras.optimizers.legacy.Adam`.\n",
      "[I 2023-06-06 18:56:22,001] Trial 24 finished with value: 2.880638360977173 and parameters: {'n_hidden': 3, 'n_units': 73, 'learning_rate': 4.104910190064074e-05}. Best is trial 9 with value: 0.10951240360736847.\n",
      "WARNING:absl:At this time, the v2.11+ optimizer `tf.keras.optimizers.Adam` runs slowly on M1/M2 Macs, please use the legacy Keras optimizer instead, located at `tf.keras.optimizers.legacy.Adam`.\n",
      "WARNING:absl:There is a known slowdown when using v2.11+ Keras optimizers on M1/M2 Macs. Falling back to the legacy Keras optimizer, i.e., `tf.keras.optimizers.legacy.Adam`.\n",
      "[I 2023-06-06 18:56:22,251] Trial 25 finished with value: 0.12005428224802017 and parameters: {'n_hidden': 3, 'n_units': 74, 'learning_rate': 0.014550942949743368}. Best is trial 9 with value: 0.10951240360736847.\n",
      "[I 2023-06-06 18:56:22,266] Trial 26 finished with value: 0.11416256427764893 and parameters: {'n_hidden': 3, 'n_units': 75, 'learning_rate': 0.01724394323416885}. Best is trial 9 with value: 0.10951240360736847.\n",
      "WARNING:absl:At this time, the v2.11+ optimizer `tf.keras.optimizers.Adam` runs slowly on M1/M2 Macs, please use the legacy Keras optimizer instead, located at `tf.keras.optimizers.legacy.Adam`.\n",
      "WARNING:absl:At this time, the v2.11+ optimizer `tf.keras.optimizers.Adam` runs slowly on M1/M2 Macs, please use the legacy Keras optimizer instead, located at `tf.keras.optimizers.legacy.Adam`.\n",
      "WARNING:absl:There is a known slowdown when using v2.11+ Keras optimizers on M1/M2 Macs. Falling back to the legacy Keras optimizer, i.e., `tf.keras.optimizers.legacy.Adam`.\n",
      "WARNING:absl:There is a known slowdown when using v2.11+ Keras optimizers on M1/M2 Macs. Falling back to the legacy Keras optimizer, i.e., `tf.keras.optimizers.legacy.Adam`.\n",
      "[I 2023-06-06 18:56:22,596] Trial 27 finished with value: 0.10999204218387604 and parameters: {'n_hidden': 3, 'n_units': 103, 'learning_rate': 0.01866340958868867}. Best is trial 9 with value: 0.10951240360736847.\n",
      "[I 2023-06-06 18:56:22,669] Trial 28 finished with value: 0.1503511220216751 and parameters: {'n_hidden': 3, 'n_units': 105, 'learning_rate': 0.01550289743469243}. Best is trial 9 with value: 0.10951240360736847.\n",
      "WARNING:absl:At this time, the v2.11+ optimizer `tf.keras.optimizers.Adam` runs slowly on M1/M2 Macs, please use the legacy Keras optimizer instead, located at `tf.keras.optimizers.legacy.Adam`.\n",
      "WARNING:absl:There is a known slowdown when using v2.11+ Keras optimizers on M1/M2 Macs. Falling back to the legacy Keras optimizer, i.e., `tf.keras.optimizers.legacy.Adam`.\n",
      "WARNING:absl:At this time, the v2.11+ optimizer `tf.keras.optimizers.Adam` runs slowly on M1/M2 Macs, please use the legacy Keras optimizer instead, located at `tf.keras.optimizers.legacy.Adam`.\n",
      "WARNING:absl:There is a known slowdown when using v2.11+ Keras optimizers on M1/M2 Macs. Falling back to the legacy Keras optimizer, i.e., `tf.keras.optimizers.legacy.Adam`.\n",
      "[I 2023-06-06 18:56:23,042] Trial 29 finished with value: 0.16672679781913757 and parameters: {'n_hidden': 3, 'n_units': 104, 'learning_rate': 0.016069155542508692}. Best is trial 9 with value: 0.10951240360736847.\n",
      "WARNING:absl:At this time, the v2.11+ optimizer `tf.keras.optimizers.Adam` runs slowly on M1/M2 Macs, please use the legacy Keras optimizer instead, located at `tf.keras.optimizers.legacy.Adam`.\n",
      "WARNING:absl:There is a known slowdown when using v2.11+ Keras optimizers on M1/M2 Macs. Falling back to the legacy Keras optimizer, i.e., `tf.keras.optimizers.legacy.Adam`.\n",
      "[I 2023-06-06 18:56:23,670] Trial 31 finished with value: 0.13390003144741058 and parameters: {'n_hidden': 3, 'n_units': 104, 'learning_rate': 0.015644017272375445}. Best is trial 9 with value: 0.10951240360736847.\n",
      "WARNING:absl:At this time, the v2.11+ optimizer `tf.keras.optimizers.Adam` runs slowly on M1/M2 Macs, please use the legacy Keras optimizer instead, located at `tf.keras.optimizers.legacy.Adam`.\n",
      "WARNING:absl:There is a known slowdown when using v2.11+ Keras optimizers on M1/M2 Macs. Falling back to the legacy Keras optimizer, i.e., `tf.keras.optimizers.legacy.Adam`.\n",
      "[I 2023-06-06 18:56:23,852] Trial 30 finished with value: 0.11374012380838394 and parameters: {'n_hidden': 3, 'n_units': 104, 'learning_rate': 0.014317883404169243}. Best is trial 9 with value: 0.10951240360736847.\n",
      "WARNING:absl:At this time, the v2.11+ optimizer `tf.keras.optimizers.Adam` runs slowly on M1/M2 Macs, please use the legacy Keras optimizer instead, located at `tf.keras.optimizers.legacy.Adam`.\n",
      "WARNING:absl:There is a known slowdown when using v2.11+ Keras optimizers on M1/M2 Macs. Falling back to the legacy Keras optimizer, i.e., `tf.keras.optimizers.legacy.Adam`.\n",
      "[I 2023-06-06 18:56:25,203] Trial 32 finished with value: 0.12101736664772034 and parameters: {'n_hidden': 3, 'n_units': 101, 'learning_rate': 0.01423088574007811}. Best is trial 9 with value: 0.10951240360736847.\n",
      "[I 2023-06-06 18:56:25,225] Trial 33 finished with value: 0.15327399969100952 and parameters: {'n_hidden': 2, 'n_units': 104, 'learning_rate': 0.014159260922833237}. Best is trial 9 with value: 0.10951240360736847.\n",
      "[I 2023-06-06 18:56:25,295] Trial 34 finished with value: 0.17080381512641907 and parameters: {'n_hidden': 3, 'n_units': 81, 'learning_rate': 0.023232910310118243}. Best is trial 9 with value: 0.10951240360736847.\n",
      "WARNING:absl:At this time, the v2.11+ optimizer `tf.keras.optimizers.Adam` runs slowly on M1/M2 Macs, please use the legacy Keras optimizer instead, located at `tf.keras.optimizers.legacy.Adam`.\n",
      "WARNING:absl:There is a known slowdown when using v2.11+ Keras optimizers on M1/M2 Macs. Falling back to the legacy Keras optimizer, i.e., `tf.keras.optimizers.legacy.Adam`.\n",
      "WARNING:absl:At this time, the v2.11+ optimizer `tf.keras.optimizers.Adam` runs slowly on M1/M2 Macs, please use the legacy Keras optimizer instead, located at `tf.keras.optimizers.legacy.Adam`.\n",
      "WARNING:absl:There is a known slowdown when using v2.11+ Keras optimizers on M1/M2 Macs. Falling back to the legacy Keras optimizer, i.e., `tf.keras.optimizers.legacy.Adam`.\n",
      "WARNING:absl:At this time, the v2.11+ optimizer `tf.keras.optimizers.Adam` runs slowly on M1/M2 Macs, please use the legacy Keras optimizer instead, located at `tf.keras.optimizers.legacy.Adam`.\n",
      "WARNING:absl:There is a known slowdown when using v2.11+ Keras optimizers on M1/M2 Macs. Falling back to the legacy Keras optimizer, i.e., `tf.keras.optimizers.legacy.Adam`.\n",
      "[I 2023-06-06 18:56:25,832] Trial 35 finished with value: 0.12689173221588135 and parameters: {'n_hidden': 3, 'n_units': 104, 'learning_rate': 0.02388614971710732}. Best is trial 9 with value: 0.10951240360736847.\n",
      "[I 2023-06-06 18:56:25,940] Trial 36 finished with value: 0.132968470454216 and parameters: {'n_hidden': 3, 'n_units': 82, 'learning_rate': 0.018514336850542098}. Best is trial 9 with value: 0.10951240360736847.\n",
      "WARNING:absl:At this time, the v2.11+ optimizer `tf.keras.optimizers.Adam` runs slowly on M1/M2 Macs, please use the legacy Keras optimizer instead, located at `tf.keras.optimizers.legacy.Adam`.\n",
      "WARNING:absl:There is a known slowdown when using v2.11+ Keras optimizers on M1/M2 Macs. Falling back to the legacy Keras optimizer, i.e., `tf.keras.optimizers.legacy.Adam`.\n",
      "WARNING:absl:At this time, the v2.11+ optimizer `tf.keras.optimizers.Adam` runs slowly on M1/M2 Macs, please use the legacy Keras optimizer instead, located at `tf.keras.optimizers.legacy.Adam`.\n",
      "WARNING:absl:There is a known slowdown when using v2.11+ Keras optimizers on M1/M2 Macs. Falling back to the legacy Keras optimizer, i.e., `tf.keras.optimizers.legacy.Adam`.\n",
      "[I 2023-06-06 18:56:26,341] Trial 37 finished with value: 0.12474796175956726 and parameters: {'n_hidden': 3, 'n_units': 82, 'learning_rate': 0.028269585378951606}. Best is trial 9 with value: 0.10951240360736847.\n",
      "WARNING:absl:At this time, the v2.11+ optimizer `tf.keras.optimizers.Adam` runs slowly on M1/M2 Macs, please use the legacy Keras optimizer instead, located at `tf.keras.optimizers.legacy.Adam`.\n",
      "WARNING:absl:There is a known slowdown when using v2.11+ Keras optimizers on M1/M2 Macs. Falling back to the legacy Keras optimizer, i.e., `tf.keras.optimizers.legacy.Adam`.\n",
      "[I 2023-06-06 18:56:27,170] Trial 39 finished with value: 0.13698582351207733 and parameters: {'n_hidden': 3, 'n_units': 84, 'learning_rate': 0.02292876497736802}. Best is trial 9 with value: 0.10951240360736847.\n",
      "[I 2023-06-06 18:56:27,291] Trial 38 finished with value: 0.11407051980495453 and parameters: {'n_hidden': 3, 'n_units': 84, 'learning_rate': 0.026018652120331026}. Best is trial 9 with value: 0.10951240360736847.\n",
      "WARNING:absl:At this time, the v2.11+ optimizer `tf.keras.optimizers.Adam` runs slowly on M1/M2 Macs, please use the legacy Keras optimizer instead, located at `tf.keras.optimizers.legacy.Adam`.\n",
      "WARNING:absl:There is a known slowdown when using v2.11+ Keras optimizers on M1/M2 Macs. Falling back to the legacy Keras optimizer, i.e., `tf.keras.optimizers.legacy.Adam`.\n",
      "WARNING:absl:At this time, the v2.11+ optimizer `tf.keras.optimizers.Adam` runs slowly on M1/M2 Macs, please use the legacy Keras optimizer instead, located at `tf.keras.optimizers.legacy.Adam`.\n",
      "WARNING:absl:There is a known slowdown when using v2.11+ Keras optimizers on M1/M2 Macs. Falling back to the legacy Keras optimizer, i.e., `tf.keras.optimizers.legacy.Adam`.\n",
      "[I 2023-06-06 18:56:28,418] Trial 40 finished with value: 0.16407550871372223 and parameters: {'n_hidden': 3, 'n_units': 81, 'learning_rate': 0.02344172081427403}. Best is trial 9 with value: 0.10951240360736847.\n",
      "[I 2023-06-06 18:56:28,484] Trial 41 finished with value: 0.16329973936080933 and parameters: {'n_hidden': 3, 'n_units': 80, 'learning_rate': 0.02281020322311686}. Best is trial 9 with value: 0.10951240360736847.\n",
      "WARNING:absl:At this time, the v2.11+ optimizer `tf.keras.optimizers.Adam` runs slowly on M1/M2 Macs, please use the legacy Keras optimizer instead, located at `tf.keras.optimizers.legacy.Adam`.\n",
      "WARNING:absl:There is a known slowdown when using v2.11+ Keras optimizers on M1/M2 Macs. Falling back to the legacy Keras optimizer, i.e., `tf.keras.optimizers.legacy.Adam`.\n",
      "[I 2023-06-06 18:56:28,595] Trial 42 finished with value: 0.10276579111814499 and parameters: {'n_hidden': 3, 'n_units': 82, 'learning_rate': 0.025381844050372027}. Best is trial 42 with value: 0.10276579111814499.\n",
      "WARNING:absl:At this time, the v2.11+ optimizer `tf.keras.optimizers.Adam` runs slowly on M1/M2 Macs, please use the legacy Keras optimizer instead, located at `tf.keras.optimizers.legacy.Adam`.\n",
      "WARNING:absl:There is a known slowdown when using v2.11+ Keras optimizers on M1/M2 Macs. Falling back to the legacy Keras optimizer, i.e., `tf.keras.optimizers.legacy.Adam`.\n",
      "WARNING:absl:At this time, the v2.11+ optimizer `tf.keras.optimizers.Adam` runs slowly on M1/M2 Macs, please use the legacy Keras optimizer instead, located at `tf.keras.optimizers.legacy.Adam`.\n",
      "WARNING:absl:There is a known slowdown when using v2.11+ Keras optimizers on M1/M2 Macs. Falling back to the legacy Keras optimizer, i.e., `tf.keras.optimizers.legacy.Adam`.\n",
      "[I 2023-06-06 18:56:29,140] Trial 43 finished with value: 0.12627166509628296 and parameters: {'n_hidden': 3, 'n_units': 82, 'learning_rate': 0.009733002075853378}. Best is trial 42 with value: 0.10276579111814499.\n",
      "WARNING:absl:At this time, the v2.11+ optimizer `tf.keras.optimizers.Adam` runs slowly on M1/M2 Macs, please use the legacy Keras optimizer instead, located at `tf.keras.optimizers.legacy.Adam`.\n",
      "WARNING:absl:There is a known slowdown when using v2.11+ Keras optimizers on M1/M2 Macs. Falling back to the legacy Keras optimizer, i.e., `tf.keras.optimizers.legacy.Adam`.\n",
      "[I 2023-06-06 18:56:29,547] Trial 44 finished with value: 0.13978272676467896 and parameters: {'n_hidden': 2, 'n_units': 114, 'learning_rate': 0.027085893598753387}. Best is trial 42 with value: 0.10276579111814499.\n",
      "WARNING:absl:At this time, the v2.11+ optimizer `tf.keras.optimizers.Adam` runs slowly on M1/M2 Macs, please use the legacy Keras optimizer instead, located at `tf.keras.optimizers.legacy.Adam`.\n",
      "[I 2023-06-06 18:56:29,702] Trial 45 finished with value: 0.09658299386501312 and parameters: {'n_hidden': 2, 'n_units': 112, 'learning_rate': 0.009786518928066281}. Best is trial 45 with value: 0.09658299386501312.\n",
      "WARNING:absl:There is a known slowdown when using v2.11+ Keras optimizers on M1/M2 Macs. Falling back to the legacy Keras optimizer, i.e., `tf.keras.optimizers.legacy.Adam`.\n",
      "WARNING:absl:At this time, the v2.11+ optimizer `tf.keras.optimizers.Adam` runs slowly on M1/M2 Macs, please use the legacy Keras optimizer instead, located at `tf.keras.optimizers.legacy.Adam`.\n",
      "WARNING:absl:There is a known slowdown when using v2.11+ Keras optimizers on M1/M2 Macs. Falling back to the legacy Keras optimizer, i.e., `tf.keras.optimizers.legacy.Adam`.\n",
      "[I 2023-06-06 18:56:30,136] Trial 46 finished with value: 0.12902462482452393 and parameters: {'n_hidden': 2, 'n_units': 112, 'learning_rate': 0.007440649481511272}. Best is trial 45 with value: 0.09658299386501312.\n",
      "WARNING:absl:At this time, the v2.11+ optimizer `tf.keras.optimizers.Adam` runs slowly on M1/M2 Macs, please use the legacy Keras optimizer instead, located at `tf.keras.optimizers.legacy.Adam`.\n",
      "WARNING:absl:There is a known slowdown when using v2.11+ Keras optimizers on M1/M2 Macs. Falling back to the legacy Keras optimizer, i.e., `tf.keras.optimizers.legacy.Adam`.\n",
      "[I 2023-06-06 18:56:30,533] Trial 47 finished with value: 0.11594221740961075 and parameters: {'n_hidden': 2, 'n_units': 113, 'learning_rate': 0.008216066433212883}. Best is trial 45 with value: 0.09658299386501312.\n",
      "WARNING:absl:At this time, the v2.11+ optimizer `tf.keras.optimizers.Adam` runs slowly on M1/M2 Macs, please use the legacy Keras optimizer instead, located at `tf.keras.optimizers.legacy.Adam`.\n",
      "WARNING:absl:There is a known slowdown when using v2.11+ Keras optimizers on M1/M2 Macs. Falling back to the legacy Keras optimizer, i.e., `tf.keras.optimizers.legacy.Adam`.\n",
      "[I 2023-06-06 18:56:31,535] Trial 49 finished with value: 0.12379048764705658 and parameters: {'n_hidden': 2, 'n_units': 64, 'learning_rate': 0.008908273624356457}. Best is trial 45 with value: 0.09658299386501312.\n",
      "[I 2023-06-06 18:56:31,549] Trial 50 finished with value: 0.12427123636007309 and parameters: {'n_hidden': 2, 'n_units': 94, 'learning_rate': 0.00963127241459448}. Best is trial 45 with value: 0.09658299386501312.\n",
      "[I 2023-06-06 18:56:31,602] Trial 48 finished with value: 0.11489073187112808 and parameters: {'n_hidden': 3, 'n_units': 112, 'learning_rate': 0.008659792395263535}. Best is trial 45 with value: 0.09658299386501312.\n",
      "WARNING:absl:At this time, the v2.11+ optimizer `tf.keras.optimizers.Adam` runs slowly on M1/M2 Macs, please use the legacy Keras optimizer instead, located at `tf.keras.optimizers.legacy.Adam`.\n",
      "WARNING:absl:There is a known slowdown when using v2.11+ Keras optimizers on M1/M2 Macs. Falling back to the legacy Keras optimizer, i.e., `tf.keras.optimizers.legacy.Adam`.\n",
      "WARNING:absl:At this time, the v2.11+ optimizer `tf.keras.optimizers.Adam` runs slowly on M1/M2 Macs, please use the legacy Keras optimizer instead, located at `tf.keras.optimizers.legacy.Adam`.\n",
      "WARNING:absl:There is a known slowdown when using v2.11+ Keras optimizers on M1/M2 Macs. Falling back to the legacy Keras optimizer, i.e., `tf.keras.optimizers.legacy.Adam`.\n",
      "WARNING:absl:At this time, the v2.11+ optimizer `tf.keras.optimizers.Adam` runs slowly on M1/M2 Macs, please use the legacy Keras optimizer instead, located at `tf.keras.optimizers.legacy.Adam`.\n",
      "WARNING:absl:There is a known slowdown when using v2.11+ Keras optimizers on M1/M2 Macs. Falling back to the legacy Keras optimizer, i.e., `tf.keras.optimizers.legacy.Adam`.\n",
      "[I 2023-06-06 18:56:32,217] Trial 51 finished with value: 0.09718435257673264 and parameters: {'n_hidden': 2, 'n_units': 112, 'learning_rate': 0.009180628646485351}. Best is trial 45 with value: 0.09658299386501312.\n",
      "WARNING:absl:At this time, the v2.11+ optimizer `tf.keras.optimizers.Adam` runs slowly on M1/M2 Macs, please use the legacy Keras optimizer instead, located at `tf.keras.optimizers.legacy.Adam`.\n",
      "WARNING:absl:There is a known slowdown when using v2.11+ Keras optimizers on M1/M2 Macs. Falling back to the legacy Keras optimizer, i.e., `tf.keras.optimizers.legacy.Adam`.\n",
      "[I 2023-06-06 18:56:32,459] Trial 52 finished with value: 0.12142381072044373 and parameters: {'n_hidden': 2, 'n_units': 66, 'learning_rate': 0.01100366454777333}. Best is trial 45 with value: 0.09658299386501312.\n",
      "WARNING:absl:At this time, the v2.11+ optimizer `tf.keras.optimizers.Adam` runs slowly on M1/M2 Macs, please use the legacy Keras optimizer instead, located at `tf.keras.optimizers.legacy.Adam`.\n",
      "WARNING:absl:There is a known slowdown when using v2.11+ Keras optimizers on M1/M2 Macs. Falling back to the legacy Keras optimizer, i.e., `tf.keras.optimizers.legacy.Adam`.\n",
      "[I 2023-06-06 18:56:32,706] Trial 53 finished with value: 0.1345423012971878 and parameters: {'n_hidden': 2, 'n_units': 96, 'learning_rate': 0.008075195878876977}. Best is trial 45 with value: 0.09658299386501312.\n",
      "WARNING:absl:At this time, the v2.11+ optimizer `tf.keras.optimizers.Adam` runs slowly on M1/M2 Macs, please use the legacy Keras optimizer instead, located at `tf.keras.optimizers.legacy.Adam`.\n",
      "WARNING:absl:There is a known slowdown when using v2.11+ Keras optimizers on M1/M2 Macs. Falling back to the legacy Keras optimizer, i.e., `tf.keras.optimizers.legacy.Adam`.\n",
      "[I 2023-06-06 18:56:33,481] Trial 54 finished with value: 0.11554866284132004 and parameters: {'n_hidden': 2, 'n_units': 64, 'learning_rate': 0.007721660698986256}. Best is trial 45 with value: 0.09658299386501312.\n",
      "WARNING:absl:At this time, the v2.11+ optimizer `tf.keras.optimizers.Adam` runs slowly on M1/M2 Macs, please use the legacy Keras optimizer instead, located at `tf.keras.optimizers.legacy.Adam`.\n",
      "WARNING:absl:There is a known slowdown when using v2.11+ Keras optimizers on M1/M2 Macs. Falling back to the legacy Keras optimizer, i.e., `tf.keras.optimizers.legacy.Adam`.\n",
      "[I 2023-06-06 18:56:33,780] Trial 55 finished with value: 0.12348078191280365 and parameters: {'n_hidden': 2, 'n_units': 95, 'learning_rate': 0.009596130570481358}. Best is trial 45 with value: 0.09658299386501312.\n",
      "WARNING:absl:At this time, the v2.11+ optimizer `tf.keras.optimizers.Adam` runs slowly on M1/M2 Macs, please use the legacy Keras optimizer instead, located at `tf.keras.optimizers.legacy.Adam`.\n",
      "WARNING:absl:There is a known slowdown when using v2.11+ Keras optimizers on M1/M2 Macs. Falling back to the legacy Keras optimizer, i.e., `tf.keras.optimizers.legacy.Adam`.\n",
      "[I 2023-06-06 18:56:34,593] Trial 58 finished with value: 0.1262611299753189 and parameters: {'n_hidden': 2, 'n_units': 92, 'learning_rate': 0.031950129125019905}. Best is trial 45 with value: 0.09658299386501312.\n",
      "WARNING:absl:At this time, the v2.11+ optimizer `tf.keras.optimizers.Adam` runs slowly on M1/M2 Macs, please use the legacy Keras optimizer instead, located at `tf.keras.optimizers.legacy.Adam`.\n",
      "WARNING:absl:There is a known slowdown when using v2.11+ Keras optimizers on M1/M2 Macs. Falling back to the legacy Keras optimizer, i.e., `tf.keras.optimizers.legacy.Adam`.\n",
      "[I 2023-06-06 18:56:34,742] Trial 56 finished with value: 0.11250096559524536 and parameters: {'n_hidden': 2, 'n_units': 95, 'learning_rate': 0.006828493529361653}. Best is trial 45 with value: 0.09658299386501312.\n",
      "WARNING:absl:At this time, the v2.11+ optimizer `tf.keras.optimizers.Adam` runs slowly on M1/M2 Macs, please use the legacy Keras optimizer instead, located at `tf.keras.optimizers.legacy.Adam`.\n",
      "WARNING:absl:There is a known slowdown when using v2.11+ Keras optimizers on M1/M2 Macs. Falling back to the legacy Keras optimizer, i.e., `tf.keras.optimizers.legacy.Adam`.\n",
      "[I 2023-06-06 18:56:35,398] Trial 61 finished with value: 0.1358622908592224 and parameters: {'n_hidden': 1, 'n_units': 118, 'learning_rate': 0.005542040069006361}. Best is trial 45 with value: 0.09658299386501312.\n",
      "[I 2023-06-06 18:56:35,411] Trial 57 finished with value: 0.1550360918045044 and parameters: {'n_hidden': 2, 'n_units': 97, 'learning_rate': 0.03240059753849367}. Best is trial 45 with value: 0.09658299386501312.\n",
      "[I 2023-06-06 18:56:35,415] Trial 59 finished with value: 0.13333941996097565 and parameters: {'n_hidden': 2, 'n_units': 98, 'learning_rate': 0.005417943200378576}. Best is trial 45 with value: 0.09658299386501312.\n",
      "[I 2023-06-06 18:56:35,444] Trial 60 finished with value: 0.13527938723564148 and parameters: {'n_hidden': 2, 'n_units': 98, 'learning_rate': 0.005671691100992388}. Best is trial 45 with value: 0.09658299386501312.\n",
      "WARNING:absl:At this time, the v2.11+ optimizer `tf.keras.optimizers.Adam` runs slowly on M1/M2 Macs, please use the legacy Keras optimizer instead, located at `tf.keras.optimizers.legacy.Adam`.\n",
      "WARNING:absl:At this time, the v2.11+ optimizer `tf.keras.optimizers.Adam` runs slowly on M1/M2 Macs, please use the legacy Keras optimizer instead, located at `tf.keras.optimizers.legacy.Adam`.\n",
      "WARNING:absl:There is a known slowdown when using v2.11+ Keras optimizers on M1/M2 Macs. Falling back to the legacy Keras optimizer, i.e., `tf.keras.optimizers.legacy.Adam`.\n",
      "WARNING:absl:At this time, the v2.11+ optimizer `tf.keras.optimizers.Adam` runs slowly on M1/M2 Macs, please use the legacy Keras optimizer instead, located at `tf.keras.optimizers.legacy.Adam`.\n",
      "WARNING:absl:There is a known slowdown when using v2.11+ Keras optimizers on M1/M2 Macs. Falling back to the legacy Keras optimizer, i.e., `tf.keras.optimizers.legacy.Adam`.\n",
      "WARNING:absl:At this time, the v2.11+ optimizer `tf.keras.optimizers.Adam` runs slowly on M1/M2 Macs, please use the legacy Keras optimizer instead, located at `tf.keras.optimizers.legacy.Adam`.\n",
      "WARNING:absl:There is a known slowdown when using v2.11+ Keras optimizers on M1/M2 Macs. Falling back to the legacy Keras optimizer, i.e., `tf.keras.optimizers.legacy.Adam`.\n",
      "WARNING:absl:There is a known slowdown when using v2.11+ Keras optimizers on M1/M2 Macs. Falling back to the legacy Keras optimizer, i.e., `tf.keras.optimizers.legacy.Adam`.\n",
      "[I 2023-06-06 18:56:36,394] Trial 62 finished with value: 0.14790508151054382 and parameters: {'n_hidden': 1, 'n_units': 117, 'learning_rate': 0.0055236924600002985}. Best is trial 45 with value: 0.09658299386501312.\n",
      "WARNING:absl:At this time, the v2.11+ optimizer `tf.keras.optimizers.Adam` runs slowly on M1/M2 Macs, please use the legacy Keras optimizer instead, located at `tf.keras.optimizers.legacy.Adam`.\n",
      "WARNING:absl:There is a known slowdown when using v2.11+ Keras optimizers on M1/M2 Macs. Falling back to the legacy Keras optimizer, i.e., `tf.keras.optimizers.legacy.Adam`.\n",
      "[I 2023-06-06 18:56:36,818] Trial 63 finished with value: 0.13206346333026886 and parameters: {'n_hidden': 1, 'n_units': 119, 'learning_rate': 0.004822492473217095}. Best is trial 45 with value: 0.09658299386501312.\n",
      "WARNING:absl:At this time, the v2.11+ optimizer `tf.keras.optimizers.Adam` runs slowly on M1/M2 Macs, please use the legacy Keras optimizer instead, located at `tf.keras.optimizers.legacy.Adam`.\n",
      "WARNING:absl:There is a known slowdown when using v2.11+ Keras optimizers on M1/M2 Macs. Falling back to the legacy Keras optimizer, i.e., `tf.keras.optimizers.legacy.Adam`.\n",
      "[I 2023-06-06 18:56:37,522] Trial 64 finished with value: 0.12811826169490814 and parameters: {'n_hidden': 1, 'n_units': 100, 'learning_rate': 0.0041280627066851115}. Best is trial 45 with value: 0.09658299386501312.\n",
      "WARNING:absl:At this time, the v2.11+ optimizer `tf.keras.optimizers.Adam` runs slowly on M1/M2 Macs, please use the legacy Keras optimizer instead, located at `tf.keras.optimizers.legacy.Adam`.\n",
      "WARNING:absl:There is a known slowdown when using v2.11+ Keras optimizers on M1/M2 Macs. Falling back to the legacy Keras optimizer, i.e., `tf.keras.optimizers.legacy.Adam`.\n",
      "[I 2023-06-06 18:56:37,715] Trial 65 finished with value: 0.10759183019399643 and parameters: {'n_hidden': 1, 'n_units': 118, 'learning_rate': 0.004509420912262685}. Best is trial 45 with value: 0.09658299386501312.\n",
      "WARNING:absl:At this time, the v2.11+ optimizer `tf.keras.optimizers.Adam` runs slowly on M1/M2 Macs, please use the legacy Keras optimizer instead, located at `tf.keras.optimizers.legacy.Adam`.\n",
      "WARNING:absl:There is a known slowdown when using v2.11+ Keras optimizers on M1/M2 Macs. Falling back to the legacy Keras optimizer, i.e., `tf.keras.optimizers.legacy.Adam`.\n",
      "[I 2023-06-06 18:56:38,271] Trial 67 finished with value: 0.14166909456253052 and parameters: {'n_hidden': 2, 'n_units': 108, 'learning_rate': 0.004496446253856217}. Best is trial 45 with value: 0.09658299386501312.\n",
      "WARNING:absl:At this time, the v2.11+ optimizer `tf.keras.optimizers.Adam` runs slowly on M1/M2 Macs, please use the legacy Keras optimizer instead, located at `tf.keras.optimizers.legacy.Adam`.\n",
      "WARNING:absl:There is a known slowdown when using v2.11+ Keras optimizers on M1/M2 Macs. Falling back to the legacy Keras optimizer, i.e., `tf.keras.optimizers.legacy.Adam`.\n",
      "[I 2023-06-06 18:56:38,437] Trial 69 finished with value: 0.12334662675857544 and parameters: {'n_hidden': 2, 'n_units': 89, 'learning_rate': 0.019136030922641184}. Best is trial 45 with value: 0.09658299386501312.\n",
      "[I 2023-06-06 18:56:38,441] Trial 66 finished with value: 0.13087284564971924 and parameters: {'n_hidden': 2, 'n_units': 108, 'learning_rate': 0.019579791386433263}. Best is trial 45 with value: 0.09658299386501312.\n",
      "[I 2023-06-06 18:56:38,574] Trial 68 finished with value: 0.11291243135929108 and parameters: {'n_hidden': 2, 'n_units': 108, 'learning_rate': 0.0037470694836834123}. Best is trial 45 with value: 0.09658299386501312.\n",
      "WARNING:absl:At this time, the v2.11+ optimizer `tf.keras.optimizers.Adam` runs slowly on M1/M2 Macs, please use the legacy Keras optimizer instead, located at `tf.keras.optimizers.legacy.Adam`.\n",
      "WARNING:absl:There is a known slowdown when using v2.11+ Keras optimizers on M1/M2 Macs. Falling back to the legacy Keras optimizer, i.e., `tf.keras.optimizers.legacy.Adam`.\n",
      "WARNING:absl:At this time, the v2.11+ optimizer `tf.keras.optimizers.Adam` runs slowly on M1/M2 Macs, please use the legacy Keras optimizer instead, located at `tf.keras.optimizers.legacy.Adam`.\n",
      "WARNING:absl:There is a known slowdown when using v2.11+ Keras optimizers on M1/M2 Macs. Falling back to the legacy Keras optimizer, i.e., `tf.keras.optimizers.legacy.Adam`.\n",
      "WARNING:absl:At this time, the v2.11+ optimizer `tf.keras.optimizers.Adam` runs slowly on M1/M2 Macs, please use the legacy Keras optimizer instead, located at `tf.keras.optimizers.legacy.Adam`.\n",
      "WARNING:absl:There is a known slowdown when using v2.11+ Keras optimizers on M1/M2 Macs. Falling back to the legacy Keras optimizer, i.e., `tf.keras.optimizers.legacy.Adam`.\n",
      "[I 2023-06-06 18:56:39,387] Trial 70 finished with value: 0.16456381976604462 and parameters: {'n_hidden': 2, 'n_units': 90, 'learning_rate': 0.01255463157595589}. Best is trial 45 with value: 0.09658299386501312.\n",
      "WARNING:absl:At this time, the v2.11+ optimizer `tf.keras.optimizers.Adam` runs slowly on M1/M2 Macs, please use the legacy Keras optimizer instead, located at `tf.keras.optimizers.legacy.Adam`.\n",
      "WARNING:absl:There is a known slowdown when using v2.11+ Keras optimizers on M1/M2 Macs. Falling back to the legacy Keras optimizer, i.e., `tf.keras.optimizers.legacy.Adam`.\n",
      "[I 2023-06-06 18:56:39,893] Trial 71 finished with value: 0.15228889882564545 and parameters: {'n_hidden': 2, 'n_units': 88, 'learning_rate': 0.019226987249541343}. Best is trial 45 with value: 0.09658299386501312.\n",
      "WARNING:absl:At this time, the v2.11+ optimizer `tf.keras.optimizers.Adam` runs slowly on M1/M2 Macs, please use the legacy Keras optimizer instead, located at `tf.keras.optimizers.legacy.Adam`.\n",
      "WARNING:absl:There is a known slowdown when using v2.11+ Keras optimizers on M1/M2 Macs. Falling back to the legacy Keras optimizer, i.e., `tf.keras.optimizers.legacy.Adam`.\n",
      "[I 2023-06-06 18:56:40,732] Trial 73 finished with value: 0.12294995039701462 and parameters: {'n_hidden': 1, 'n_units': 123, 'learning_rate': 0.012290976310022725}. Best is trial 45 with value: 0.09658299386501312.\n",
      "WARNING:absl:At this time, the v2.11+ optimizer `tf.keras.optimizers.Adam` runs slowly on M1/M2 Macs, please use the legacy Keras optimizer instead, located at `tf.keras.optimizers.legacy.Adam`.\n",
      "WARNING:absl:There is a known slowdown when using v2.11+ Keras optimizers on M1/M2 Macs. Falling back to the legacy Keras optimizer, i.e., `tf.keras.optimizers.legacy.Adam`.\n",
      "[I 2023-06-06 18:56:40,995] Trial 74 finished with value: 0.12180500477552414 and parameters: {'n_hidden': 1, 'n_units': 89, 'learning_rate': 0.020217920496206222}. Best is trial 45 with value: 0.09658299386501312.\n",
      "WARNING:absl:At this time, the v2.11+ optimizer `tf.keras.optimizers.Adam` runs slowly on M1/M2 Macs, please use the legacy Keras optimizer instead, located at `tf.keras.optimizers.legacy.Adam`.\n",
      "WARNING:absl:There is a known slowdown when using v2.11+ Keras optimizers on M1/M2 Macs. Falling back to the legacy Keras optimizer, i.e., `tf.keras.optimizers.legacy.Adam`.\n",
      "[I 2023-06-06 18:56:41,271] Trial 75 finished with value: 0.13689787685871124 and parameters: {'n_hidden': 1, 'n_units': 122, 'learning_rate': 0.002297134036089052}. Best is trial 45 with value: 0.09658299386501312.\n",
      "WARNING:absl:At this time, the v2.11+ optimizer `tf.keras.optimizers.Adam` runs slowly on M1/M2 Macs, please use the legacy Keras optimizer instead, located at `tf.keras.optimizers.legacy.Adam`.\n",
      "WARNING:absl:There is a known slowdown when using v2.11+ Keras optimizers on M1/M2 Macs. Falling back to the legacy Keras optimizer, i.e., `tf.keras.optimizers.legacy.Adam`.\n",
      "[I 2023-06-06 18:56:41,517] Trial 76 finished with value: 0.12013743072748184 and parameters: {'n_hidden': 1, 'n_units': 108, 'learning_rate': 0.011840983021884365}. Best is trial 45 with value: 0.09658299386501312.\n",
      "WARNING:absl:At this time, the v2.11+ optimizer `tf.keras.optimizers.Adam` runs slowly on M1/M2 Macs, please use the legacy Keras optimizer instead, located at `tf.keras.optimizers.legacy.Adam`.\n",
      "WARNING:absl:There is a known slowdown when using v2.11+ Keras optimizers on M1/M2 Macs. Falling back to the legacy Keras optimizer, i.e., `tf.keras.optimizers.legacy.Adam`.\n",
      "[I 2023-06-06 18:56:41,972] Trial 78 finished with value: 0.12431023269891739 and parameters: {'n_hidden': 1, 'n_units': 126, 'learning_rate': 0.011580227886901578}. Best is trial 45 with value: 0.09658299386501312.\n",
      "[I 2023-06-06 18:56:41,982] Trial 77 finished with value: 0.12253905832767487 and parameters: {'n_hidden': 1, 'n_units': 90, 'learning_rate': 0.012454175979844297}. Best is trial 45 with value: 0.09658299386501312.\n",
      "WARNING:absl:At this time, the v2.11+ optimizer `tf.keras.optimizers.Adam` runs slowly on M1/M2 Macs, please use the legacy Keras optimizer instead, located at `tf.keras.optimizers.legacy.Adam`.\n",
      "WARNING:absl:At this time, the v2.11+ optimizer `tf.keras.optimizers.Adam` runs slowly on M1/M2 Macs, please use the legacy Keras optimizer instead, located at `tf.keras.optimizers.legacy.Adam`.\n",
      "WARNING:absl:There is a known slowdown when using v2.11+ Keras optimizers on M1/M2 Macs. Falling back to the legacy Keras optimizer, i.e., `tf.keras.optimizers.legacy.Adam`.\n",
      "WARNING:absl:There is a known slowdown when using v2.11+ Keras optimizers on M1/M2 Macs. Falling back to the legacy Keras optimizer, i.e., `tf.keras.optimizers.legacy.Adam`.\n",
      "[I 2023-06-06 18:56:42,710] Trial 79 finished with value: 0.1243302971124649 and parameters: {'n_hidden': 1, 'n_units': 125, 'learning_rate': 0.012205386258357407}. Best is trial 45 with value: 0.09658299386501312.\n",
      "WARNING:absl:At this time, the v2.11+ optimizer `tf.keras.optimizers.Adam` runs slowly on M1/M2 Macs, please use the legacy Keras optimizer instead, located at `tf.keras.optimizers.legacy.Adam`.\n",
      "WARNING:absl:There is a known slowdown when using v2.11+ Keras optimizers on M1/M2 Macs. Falling back to the legacy Keras optimizer, i.e., `tf.keras.optimizers.legacy.Adam`.\n",
      "[I 2023-06-06 18:56:43,264] Trial 72 finished with value: 0.1161467432975769 and parameters: {'n_hidden': 2, 'n_units': 123, 'learning_rate': 0.020036875982970378}. Best is trial 45 with value: 0.09658299386501312.\n",
      "WARNING:absl:At this time, the v2.11+ optimizer `tf.keras.optimizers.Adam` runs slowly on M1/M2 Macs, please use the legacy Keras optimizer instead, located at `tf.keras.optimizers.legacy.Adam`.\n",
      "WARNING:absl:There is a known slowdown when using v2.11+ Keras optimizers on M1/M2 Macs. Falling back to the legacy Keras optimizer, i.e., `tf.keras.optimizers.legacy.Adam`.\n",
      "[I 2023-06-06 18:56:43,591] Trial 80 finished with value: 0.13121642172336578 and parameters: {'n_hidden': 2, 'n_units': 107, 'learning_rate': 0.0023877170897841546}. Best is trial 45 with value: 0.09658299386501312.\n",
      "WARNING:absl:At this time, the v2.11+ optimizer `tf.keras.optimizers.Adam` runs slowly on M1/M2 Macs, please use the legacy Keras optimizer instead, located at `tf.keras.optimizers.legacy.Adam`.\n",
      "WARNING:absl:There is a known slowdown when using v2.11+ Keras optimizers on M1/M2 Macs. Falling back to the legacy Keras optimizer, i.e., `tf.keras.optimizers.legacy.Adam`.\n",
      "[I 2023-06-06 18:56:43,765] Trial 81 finished with value: 0.11438938975334167 and parameters: {'n_hidden': 2, 'n_units': 109, 'learning_rate': 0.0030456745489788922}. Best is trial 45 with value: 0.09658299386501312.\n",
      "WARNING:absl:At this time, the v2.11+ optimizer `tf.keras.optimizers.Adam` runs slowly on M1/M2 Macs, please use the legacy Keras optimizer instead, located at `tf.keras.optimizers.legacy.Adam`.\n",
      "WARNING:absl:There is a known slowdown when using v2.11+ Keras optimizers on M1/M2 Macs. Falling back to the legacy Keras optimizer, i.e., `tf.keras.optimizers.legacy.Adam`.\n",
      "[I 2023-06-06 18:56:44,276] Trial 82 finished with value: 0.11806746572256088 and parameters: {'n_hidden': 2, 'n_units': 127, 'learning_rate': 0.0021367060172415627}. Best is trial 45 with value: 0.09658299386501312.\n",
      "[I 2023-06-06 18:56:44,410] Trial 83 finished with value: 0.11652106046676636 and parameters: {'n_hidden': 2, 'n_units': 116, 'learning_rate': 0.0016953145541894164}. Best is trial 45 with value: 0.09658299386501312.\n",
      "WARNING:absl:At this time, the v2.11+ optimizer `tf.keras.optimizers.Adam` runs slowly on M1/M2 Macs, please use the legacy Keras optimizer instead, located at `tf.keras.optimizers.legacy.Adam`.\n",
      "WARNING:absl:There is a known slowdown when using v2.11+ Keras optimizers on M1/M2 Macs. Falling back to the legacy Keras optimizer, i.e., `tf.keras.optimizers.legacy.Adam`.\n",
      "WARNING:absl:At this time, the v2.11+ optimizer `tf.keras.optimizers.Adam` runs slowly on M1/M2 Macs, please use the legacy Keras optimizer instead, located at `tf.keras.optimizers.legacy.Adam`.\n",
      "WARNING:absl:There is a known slowdown when using v2.11+ Keras optimizers on M1/M2 Macs. Falling back to the legacy Keras optimizer, i.e., `tf.keras.optimizers.legacy.Adam`.\n",
      "[I 2023-06-06 18:56:44,714] Trial 85 finished with value: 0.1370001584291458 and parameters: {'n_hidden': 2, 'n_units': 39, 'learning_rate': 0.0021329385702367233}. Best is trial 45 with value: 0.09658299386501312.\n",
      "[I 2023-06-06 18:56:44,847] Trial 84 finished with value: 0.14342032372951508 and parameters: {'n_hidden': 2, 'n_units': 116, 'learning_rate': 0.0025799786919819363}. Best is trial 45 with value: 0.09658299386501312.\n",
      "WARNING:absl:At this time, the v2.11+ optimizer `tf.keras.optimizers.Adam` runs slowly on M1/M2 Macs, please use the legacy Keras optimizer instead, located at `tf.keras.optimizers.legacy.Adam`.\n",
      "WARNING:absl:There is a known slowdown when using v2.11+ Keras optimizers on M1/M2 Macs. Falling back to the legacy Keras optimizer, i.e., `tf.keras.optimizers.legacy.Adam`.\n",
      "WARNING:absl:At this time, the v2.11+ optimizer `tf.keras.optimizers.Adam` runs slowly on M1/M2 Macs, please use the legacy Keras optimizer instead, located at `tf.keras.optimizers.legacy.Adam`.\n",
      "WARNING:absl:There is a known slowdown when using v2.11+ Keras optimizers on M1/M2 Macs. Falling back to the legacy Keras optimizer, i.e., `tf.keras.optimizers.legacy.Adam`.\n",
      "[I 2023-06-06 18:56:45,894] Trial 86 finished with value: 0.14008554816246033 and parameters: {'n_hidden': 2, 'n_units': 77, 'learning_rate': 0.0022858390335801794}. Best is trial 45 with value: 0.09658299386501312.\n",
      "WARNING:absl:At this time, the v2.11+ optimizer `tf.keras.optimizers.Adam` runs slowly on M1/M2 Macs, please use the legacy Keras optimizer instead, located at `tf.keras.optimizers.legacy.Adam`.\n",
      "WARNING:absl:There is a known slowdown when using v2.11+ Keras optimizers on M1/M2 Macs. Falling back to the legacy Keras optimizer, i.e., `tf.keras.optimizers.legacy.Adam`.\n",
      "[I 2023-06-06 18:56:46,575] Trial 87 finished with value: 0.1478799283504486 and parameters: {'n_hidden': 2, 'n_units': 101, 'learning_rate': 0.0022692042509457563}. Best is trial 45 with value: 0.09658299386501312.\n",
      "WARNING:absl:At this time, the v2.11+ optimizer `tf.keras.optimizers.Adam` runs slowly on M1/M2 Macs, please use the legacy Keras optimizer instead, located at `tf.keras.optimizers.legacy.Adam`.\n",
      "WARNING:absl:There is a known slowdown when using v2.11+ Keras optimizers on M1/M2 Macs. Falling back to the legacy Keras optimizer, i.e., `tf.keras.optimizers.legacy.Adam`.\n",
      "[I 2023-06-06 18:56:46,937] Trial 88 finished with value: 0.10651156306266785 and parameters: {'n_hidden': 3, 'n_units': 102, 'learning_rate': 0.016113632618326473}. Best is trial 45 with value: 0.09658299386501312.\n",
      "[I 2023-06-06 18:56:47,108] Trial 89 finished with value: 0.10854808241128922 and parameters: {'n_hidden': 3, 'n_units': 102, 'learning_rate': 0.014529702840639834}. Best is trial 45 with value: 0.09658299386501312.\n",
      "WARNING:absl:At this time, the v2.11+ optimizer `tf.keras.optimizers.Adam` runs slowly on M1/M2 Macs, please use the legacy Keras optimizer instead, located at `tf.keras.optimizers.legacy.Adam`.\n",
      "WARNING:absl:There is a known slowdown when using v2.11+ Keras optimizers on M1/M2 Macs. Falling back to the legacy Keras optimizer, i.e., `tf.keras.optimizers.legacy.Adam`.\n",
      "WARNING:absl:At this time, the v2.11+ optimizer `tf.keras.optimizers.Adam` runs slowly on M1/M2 Macs, please use the legacy Keras optimizer instead, located at `tf.keras.optimizers.legacy.Adam`.\n",
      "WARNING:absl:There is a known slowdown when using v2.11+ Keras optimizers on M1/M2 Macs. Falling back to the legacy Keras optimizer, i.e., `tf.keras.optimizers.legacy.Adam`.\n",
      "[I 2023-06-06 18:56:47,713] Trial 90 finished with value: 0.11983998864889145 and parameters: {'n_hidden': 3, 'n_units': 115, 'learning_rate': 0.016684060536030963}. Best is trial 45 with value: 0.09658299386501312.\n",
      "[I 2023-06-06 18:56:47,786] Trial 91 finished with value: 0.12040523439645767 and parameters: {'n_hidden': 3, 'n_units': 101, 'learning_rate': 0.015996038287286077}. Best is trial 45 with value: 0.09658299386501312.\n",
      "WARNING:absl:At this time, the v2.11+ optimizer `tf.keras.optimizers.Adam` runs slowly on M1/M2 Macs, please use the legacy Keras optimizer instead, located at `tf.keras.optimizers.legacy.Adam`.\n",
      "WARNING:absl:There is a known slowdown when using v2.11+ Keras optimizers on M1/M2 Macs. Falling back to the legacy Keras optimizer, i.e., `tf.keras.optimizers.legacy.Adam`.\n",
      "WARNING:absl:At this time, the v2.11+ optimizer `tf.keras.optimizers.Adam` runs slowly on M1/M2 Macs, please use the legacy Keras optimizer instead, located at `tf.keras.optimizers.legacy.Adam`.\n",
      "WARNING:absl:There is a known slowdown when using v2.11+ Keras optimizers on M1/M2 Macs. Falling back to the legacy Keras optimizer, i.e., `tf.keras.optimizers.legacy.Adam`.\n",
      "[I 2023-06-06 18:56:48,193] Trial 92 finished with value: 0.15001997351646423 and parameters: {'n_hidden': 3, 'n_units': 102, 'learning_rate': 0.016334855638479643}. Best is trial 45 with value: 0.09658299386501312.\n",
      "[I 2023-06-06 18:56:48,618] Trial 93 finished with value: 0.12507164478302002 and parameters: {'n_hidden': 3, 'n_units': 102, 'learning_rate': 0.015484034218707466}. Best is trial 45 with value: 0.09658299386501312.\n",
      "[I 2023-06-06 18:56:48,862] Trial 94 finished with value: 0.144216850399971 and parameters: {'n_hidden': 3, 'n_units': 101, 'learning_rate': 0.016744508207924856}. Best is trial 45 with value: 0.09658299386501312.\n",
      "[I 2023-06-06 18:56:49,140] Trial 95 finished with value: 0.15385082364082336 and parameters: {'n_hidden': 3, 'n_units': 111, 'learning_rate': 0.016309482900258975}. Best is trial 45 with value: 0.09658299386501312.\n",
      "[I 2023-06-06 18:56:49,288] Trial 96 finished with value: 0.12606747448444366 and parameters: {'n_hidden': 3, 'n_units': 111, 'learning_rate': 0.016242377462250667}. Best is trial 45 with value: 0.09658299386501312.\n",
      "[I 2023-06-06 18:56:49,311] Trial 97 finished with value: 0.12706564366817474 and parameters: {'n_hidden': 3, 'n_units': 78, 'learning_rate': 0.01767088577667383}. Best is trial 45 with value: 0.09658299386501312.\n",
      "[I 2023-06-06 18:56:49,450] Trial 98 finished with value: 0.11456874758005142 and parameters: {'n_hidden': 3, 'n_units': 111, 'learning_rate': 0.01572243544300172}. Best is trial 45 with value: 0.09658299386501312.\n",
      "[I 2023-06-06 18:56:49,526] Trial 99 finished with value: 0.11670269072055817 and parameters: {'n_hidden': 3, 'n_units': 110, 'learning_rate': 0.00742848916995726}. Best is trial 45 with value: 0.09658299386501312.\n"
     ]
    }
   ],
   "source": [
    "import tensorflow\n",
    "from keras import Sequential\n",
    "from keras.layers import Dense\n",
    "\n",
    "def create_model(trial):\n",
    "\n",
    "    n_hidden = trial.suggest_int('n_hidden', 1, 3)\n",
    "    n_units = trial.suggest_int('n_units', 32, 128)\n",
    "    learn_rate = trial.suggest_float('learning_rate', 1e-5, 1e-1)\n",
    "\n",
    "    model = Sequential()\n",
    "    model.add(Dense(n_units, input_dim=X_train.shape[1], activation='relu'))\n",
    "\n",
    "    for i in range(n_hidden):\n",
    "        model.add(Dense(n_units, activation='relu'))\n",
    "\n",
    "    model.add(Dense(1))\n",
    "    model.compile(loss='mean_squared_error', optimizer=tensorflow.keras.optimizers.Adam(learning_rate=learn_rate),\n",
    "                  metrics=tensorflow.keras.metrics.MeanSquaredError())\n",
    "    return model\n",
    "\n",
    "\n",
    "# objective function to be minimized\n",
    "def objective_fun(trial):\n",
    "\n",
    "    model = create_model(trial)\n",
    "    model.fit(X_train, y_train, epochs=30, batch_size=128, validation_data=(X_valid, y_valid), verbose=False)\n",
    "\n",
    "    error = model.evaluate(X_valid, y_valid, verbose=False)[1]\n",
    "\n",
    "    return error\n",
    "\n",
    "\n",
    "study = optuna.create_study()\n",
    "study.optimize(objective_fun, n_trials=100, n_jobs=-1)"
   ],
   "metadata": {
    "collapsed": false,
    "ExecuteTime": {
     "end_time": "2023-06-06T16:56:49.529810Z",
     "start_time": "2023-06-06T16:56:07.167168Z"
    }
   }
  },
  {
   "cell_type": "code",
   "execution_count": 20,
   "outputs": [
    {
     "name": "stderr",
     "output_type": "stream",
     "text": [
      "WARNING:absl:At this time, the v2.11+ optimizer `tf.keras.optimizers.Adam` runs slowly on M1/M2 Macs, please use the legacy Keras optimizer instead, located at `tf.keras.optimizers.legacy.Adam`.\n",
      "WARNING:absl:There is a known slowdown when using v2.11+ Keras optimizers on M1/M2 Macs. Falling back to the legacy Keras optimizer, i.e., `tf.keras.optimizers.legacy.Adam`.\n"
     ]
    },
    {
     "name": "stdout",
     "output_type": "stream",
     "text": [
      "12/12 [==============================] - 0s 370us/step\n",
      "Root mean squared error = 0.5130\n",
      "R-squared = 0.4250\n"
     ]
    }
   ],
   "source": [
    "model = create_model(study.best_trial)\n",
    "model.fit(X_train, y_train, epochs=30, batch_size=128, validation_data=(X_valid, y_valid), verbose=False)\n",
    "\n",
    "y_pred_test = model.predict(X_test)\n",
    "\n",
    "print('Root mean squared error = %.4f' % np.sqrt(mean_squared_error(y_test, y_pred_test)))\n",
    "print('R-squared = %.4f' % r2_score(y_test, y_pred_test))"
   ],
   "metadata": {
    "collapsed": false,
    "ExecuteTime": {
     "end_time": "2023-06-06T16:56:50.245132Z",
     "start_time": "2023-06-06T16:56:49.531724Z"
    }
   }
  },
  {
   "cell_type": "code",
   "execution_count": 21,
   "outputs": [
    {
     "name": "stdout",
     "output_type": "stream",
     "text": [
      "32/32 [==============================] - 0s 372us/step\n"
     ]
    },
    {
     "data": {
      "text/plain": "array([[0.0197151 ],\n       [0.02003535],\n       [0.01469635],\n       ...,\n       [0.00014938],\n       [0.00015547],\n       [0.00013633]], dtype=float32)"
     },
     "execution_count": 21,
     "metadata": {},
     "output_type": "execute_result"
    }
   ],
   "source": [
    "y_pred = model.predict(X_to_pred)\n",
    "y_pred = np.power(10, y_pred)\n",
    "y_pred"
   ],
   "metadata": {
    "collapsed": false,
    "ExecuteTime": {
     "end_time": "2023-06-06T16:56:50.288313Z",
     "start_time": "2023-06-06T16:56:50.245990Z"
    }
   }
  },
  {
   "cell_type": "code",
   "execution_count": 21,
   "outputs": [],
   "source": [],
   "metadata": {
    "collapsed": false,
    "ExecuteTime": {
     "end_time": "2023-06-06T16:56:50.289481Z",
     "start_time": "2023-06-06T16:56:50.287282Z"
    }
   }
  }
 ],
 "metadata": {
  "kernelspec": {
   "display_name": "Python 3",
   "language": "python",
   "name": "python3"
  },
  "language_info": {
   "codemirror_mode": {
    "name": "ipython",
    "version": 2
   },
   "file_extension": ".py",
   "mimetype": "text/x-python",
   "name": "python",
   "nbconvert_exporter": "python",
   "pygments_lexer": "ipython2",
   "version": "2.7.6"
  }
 },
 "nbformat": 4,
 "nbformat_minor": 0
}
