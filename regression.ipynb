{
 "cells": [
  {
   "cell_type": "code",
   "execution_count": 1,
   "metadata": {
    "collapsed": true,
    "ExecuteTime": {
     "end_time": "2023-06-04T14:38:42.785129Z",
     "start_time": "2023-06-04T14:38:42.533089Z"
    }
   },
   "outputs": [],
   "source": [
    "import os\n",
    "\n",
    "import numpy as np\n",
    "import pandas as pd\n",
    "import matplotlib.pyplot as plt\n",
    "import seaborn as sns\n",
    "\n",
    "from pandas.core.dtypes.common import is_numeric_dtype\n",
    "from sklearn.feature_selection import mutual_info_regression, SelectKBest\n",
    "from sklearn.preprocessing import MinMaxScaler"
   ]
  },
  {
   "cell_type": "code",
   "execution_count": 2,
   "outputs": [],
   "source": [
    "DATA_FOLDER = 'dataset'\n",
    "DATASET = os.path.join(DATA_FOLDER, 'outliers_removed.csv')"
   ],
   "metadata": {
    "collapsed": false,
    "ExecuteTime": {
     "end_time": "2023-06-04T14:38:42.791787Z",
     "start_time": "2023-06-04T14:38:42.784321Z"
    }
   }
  },
  {
   "cell_type": "code",
   "execution_count": 3,
   "outputs": [
    {
     "data": {
      "text/plain": "   frame_count       sum          mean       std       min       max   \n0       160160  0.114319  7.137790e-07  0.004283 -0.042603  0.048157  \\\n1       156956  0.149963  9.554485e-07  0.005084 -0.037018  0.058472   \n2       152152  0.139618  9.176213e-07  0.004886 -0.036652  0.062683   \n3       169769  0.137665  8.108948e-07  0.002956 -0.026245  0.026215   \n4       172972  0.140289  8.110521e-07  0.003085 -0.032349  0.028961   \n\n        q01       q05       q25  q75  ...  actor_actor_24  actor_actor_3   \n0 -0.013550 -0.006104 -0.000031  0.0  ...               0              0  \\\n1 -0.015822 -0.007294  0.000000  0.0  ...               0              0   \n2 -0.014923 -0.006714 -0.000031  0.0  ...               0              0   \n3 -0.009399 -0.004364 -0.000031  0.0  ...               0              0   \n4 -0.008942 -0.004242 -0.000031  0.0  ...               0              0   \n\n   actor_actor_4  actor_actor_5  actor_actor_6  actor_actor_7  actor_actor_8   \n0              0              0              0              0              0  \\\n1              0              0              0              0              0   \n2              0              0              0              0              0   \n3              0              0              0              0              0   \n4              0              0              0              0              0   \n\n   actor_actor_9  sex_F  sex_M  \n0              0      0      1  \n1              0      0      1  \n2              0      0      1  \n3              0      0      1  \n4              0      0      1  \n\n[5 rows x 285 columns]",
      "text/html": "<div>\n<style scoped>\n    .dataframe tbody tr th:only-of-type {\n        vertical-align: middle;\n    }\n\n    .dataframe tbody tr th {\n        vertical-align: top;\n    }\n\n    .dataframe thead th {\n        text-align: right;\n    }\n</style>\n<table border=\"1\" class=\"dataframe\">\n  <thead>\n    <tr style=\"text-align: right;\">\n      <th></th>\n      <th>frame_count</th>\n      <th>sum</th>\n      <th>mean</th>\n      <th>std</th>\n      <th>min</th>\n      <th>max</th>\n      <th>q01</th>\n      <th>q05</th>\n      <th>q25</th>\n      <th>q75</th>\n      <th>...</th>\n      <th>actor_actor_24</th>\n      <th>actor_actor_3</th>\n      <th>actor_actor_4</th>\n      <th>actor_actor_5</th>\n      <th>actor_actor_6</th>\n      <th>actor_actor_7</th>\n      <th>actor_actor_8</th>\n      <th>actor_actor_9</th>\n      <th>sex_F</th>\n      <th>sex_M</th>\n    </tr>\n  </thead>\n  <tbody>\n    <tr>\n      <th>0</th>\n      <td>160160</td>\n      <td>0.114319</td>\n      <td>7.137790e-07</td>\n      <td>0.004283</td>\n      <td>-0.042603</td>\n      <td>0.048157</td>\n      <td>-0.013550</td>\n      <td>-0.006104</td>\n      <td>-0.000031</td>\n      <td>0.0</td>\n      <td>...</td>\n      <td>0</td>\n      <td>0</td>\n      <td>0</td>\n      <td>0</td>\n      <td>0</td>\n      <td>0</td>\n      <td>0</td>\n      <td>0</td>\n      <td>0</td>\n      <td>1</td>\n    </tr>\n    <tr>\n      <th>1</th>\n      <td>156956</td>\n      <td>0.149963</td>\n      <td>9.554485e-07</td>\n      <td>0.005084</td>\n      <td>-0.037018</td>\n      <td>0.058472</td>\n      <td>-0.015822</td>\n      <td>-0.007294</td>\n      <td>0.000000</td>\n      <td>0.0</td>\n      <td>...</td>\n      <td>0</td>\n      <td>0</td>\n      <td>0</td>\n      <td>0</td>\n      <td>0</td>\n      <td>0</td>\n      <td>0</td>\n      <td>0</td>\n      <td>0</td>\n      <td>1</td>\n    </tr>\n    <tr>\n      <th>2</th>\n      <td>152152</td>\n      <td>0.139618</td>\n      <td>9.176213e-07</td>\n      <td>0.004886</td>\n      <td>-0.036652</td>\n      <td>0.062683</td>\n      <td>-0.014923</td>\n      <td>-0.006714</td>\n      <td>-0.000031</td>\n      <td>0.0</td>\n      <td>...</td>\n      <td>0</td>\n      <td>0</td>\n      <td>0</td>\n      <td>0</td>\n      <td>0</td>\n      <td>0</td>\n      <td>0</td>\n      <td>0</td>\n      <td>0</td>\n      <td>1</td>\n    </tr>\n    <tr>\n      <th>3</th>\n      <td>169769</td>\n      <td>0.137665</td>\n      <td>8.108948e-07</td>\n      <td>0.002956</td>\n      <td>-0.026245</td>\n      <td>0.026215</td>\n      <td>-0.009399</td>\n      <td>-0.004364</td>\n      <td>-0.000031</td>\n      <td>0.0</td>\n      <td>...</td>\n      <td>0</td>\n      <td>0</td>\n      <td>0</td>\n      <td>0</td>\n      <td>0</td>\n      <td>0</td>\n      <td>0</td>\n      <td>0</td>\n      <td>0</td>\n      <td>1</td>\n    </tr>\n    <tr>\n      <th>4</th>\n      <td>172972</td>\n      <td>0.140289</td>\n      <td>8.110521e-07</td>\n      <td>0.003085</td>\n      <td>-0.032349</td>\n      <td>0.028961</td>\n      <td>-0.008942</td>\n      <td>-0.004242</td>\n      <td>-0.000031</td>\n      <td>0.0</td>\n      <td>...</td>\n      <td>0</td>\n      <td>0</td>\n      <td>0</td>\n      <td>0</td>\n      <td>0</td>\n      <td>0</td>\n      <td>0</td>\n      <td>0</td>\n      <td>0</td>\n      <td>1</td>\n    </tr>\n  </tbody>\n</table>\n<p>5 rows × 285 columns</p>\n</div>"
     },
     "execution_count": 3,
     "metadata": {},
     "output_type": "execute_result"
    }
   ],
   "source": [
    "df = pd.read_csv(DATASET)\n",
    "\n",
    "categorical_attr_list = [col for col in df.columns if not is_numeric_dtype(df[col])]\n",
    "\n",
    "# one hot encoding\n",
    "df_reg = df.drop(categorical_attr_list, axis=1)\n",
    "df_reg = df_reg.join(pd.get_dummies(df[categorical_attr_list], columns=categorical_attr_list).astype(int))\n",
    "df_reg.head()"
   ],
   "metadata": {
    "collapsed": false,
    "ExecuteTime": {
     "end_time": "2023-06-04T14:38:42.877178Z",
     "start_time": "2023-06-04T14:38:42.789276Z"
    }
   }
  },
  {
   "cell_type": "code",
   "execution_count": 4,
   "outputs": [
    {
     "data": {
      "text/plain": "stft_min    False\nsc_min      False\ndtype: bool"
     },
     "execution_count": 4,
     "metadata": {},
     "output_type": "execute_result"
    }
   ],
   "source": [
    "features_to_correct = ['stft_min', 'sc_min']\n",
    "(df[features_to_correct] < 0).any()"
   ],
   "metadata": {
    "collapsed": false,
    "ExecuteTime": {
     "end_time": "2023-06-04T14:38:42.891598Z",
     "start_time": "2023-06-04T14:38:42.879274Z"
    }
   }
  },
  {
   "cell_type": "markdown",
   "source": [
    "# stft_min"
   ],
   "metadata": {
    "collapsed": false
   }
  },
  {
   "cell_type": "code",
   "execution_count": 5,
   "outputs": [
    {
     "data": {
      "text/plain": "<Figure size 640x480 with 1 Axes>",
      "image/png": "[encoded data removed]"
     },
     "metadata": {},
     "output_type": "display_data"
    }
   ],
   "source": [
    "sns.histplot(data=df, x=df['stft_min'], stat='density')\n",
    "plt.xlabel('stft_min')\n",
    "plt.ylabel('Count')\n",
    "plt.title('Distribution of stft_min')\n",
    "plt.show()"
   ],
   "metadata": {
    "collapsed": false,
    "ExecuteTime": {
     "end_time": "2023-06-04T14:38:43.091391Z",
     "start_time": "2023-06-04T14:38:42.882610Z"
    }
   }
  },
  {
   "cell_type": "code",
   "execution_count": 6,
   "outputs": [
    {
     "name": "stdout",
     "output_type": "stream",
     "text": [
      "(793, 284) (265, 284) (362, 284) (1009, 284)\n"
     ]
    }
   ],
   "source": [
    "from sklearn.model_selection import train_test_split\n",
    "\n",
    "# rows to be fixed, do not reset indexes!\n",
    "df_zero = df_reg[df_reg['stft_min'] == 0]\n",
    "df_nz = df_reg[df_reg['stft_min'] != 0].reset_index(drop=True)\n",
    "\n",
    "# dataframe has been one hot encoded\n",
    "split_index = df_nz.index[df_nz['actor_actor_19'] == 1][0]\n",
    "\n",
    "df_train = df_nz[:split_index]\n",
    "df_test = df_nz[split_index:]\n",
    "\n",
    "df_train, df_valid = train_test_split(df_train, test_size=0.25, random_state=100)\n",
    "\n",
    "y_train = np.log10(df_train['stft_min'].to_numpy())\n",
    "y_valid = np.log10(df_valid['stft_min'].to_numpy())\n",
    "y_test = np.log10(df_test['stft_min'].to_numpy())\n",
    "\n",
    "df_zero = df_zero.drop(['stft_min'], axis=1)\n",
    "df_train = df_train.drop(['stft_min'], axis=1)\n",
    "df_valid = df_valid.drop(['stft_min'], axis=1)\n",
    "df_test = df_test.drop(['stft_min'], axis=1)\n",
    "\n",
    "X_to_pred = df_zero.to_numpy()\n",
    "X_train = df_train.to_numpy()\n",
    "X_valid = df_valid.to_numpy()\n",
    "X_test = df_test.to_numpy()\n",
    "\n",
    "print(X_train.shape, X_valid.shape, X_test.shape, X_to_pred.shape)"
   ],
   "metadata": {
    "collapsed": false,
    "ExecuteTime": {
     "end_time": "2023-06-04T14:38:43.097801Z",
     "start_time": "2023-06-04T14:38:43.087976Z"
    }
   }
  },
  {
   "cell_type": "code",
   "execution_count": 7,
   "outputs": [
    {
     "data": {
      "text/plain": "<Figure size 1000x400 with 1 Axes>",
      "image/png": "[encoded data removed]"
     },
     "metadata": {},
     "output_type": "display_data"
    }
   ],
   "source": [
    "f_selector = SelectKBest(score_func=mutual_info_regression, k='all')\n",
    "f_selector.fit(X_train, y_train)\n",
    "\n",
    "plt.figure(figsize=(10, 4))\n",
    "plt.bar([i for i in range(len(f_selector.scores_))], f_selector.scores_)\n",
    "plt.xlabel('Feature index')\n",
    "plt.ylabel('Estimated MI value')\n",
    "plt.show()"
   ],
   "metadata": {
    "collapsed": false,
    "ExecuteTime": {
     "end_time": "2023-06-04T14:38:43.901725Z",
     "start_time": "2023-06-04T14:38:43.099910Z"
    }
   }
  },
  {
   "cell_type": "code",
   "execution_count": 8,
   "outputs": [
    {
     "data": {
      "text/plain": "       mfcc_q25    mfcc_q99  stft_mean  stft_std  stft_min  stft_q01   \n0     -3.248759  165.340459   0.629568  0.277748  0.008878  0.048266  \\\n1     -2.454553  175.846084   0.619984  0.279639  0.000000  0.039225   \n2     -2.546799  165.640911   0.612607  0.263994  0.032363  0.058727   \n3     -3.493539  167.973568   0.608243  0.293414  0.000000  0.011911   \n4     -2.329377  167.472222   0.644044  0.271359  0.000000  0.063752   \n...         ...         ...        ...       ...       ...       ...   \n2424 -14.566319  122.559663   0.380013  0.358211  0.000000  0.000000   \n2425 -16.516638  108.475085   0.384475  0.342570  0.000000  0.000000   \n2426 -15.071037  111.296732   0.379459  0.343235  0.000000  0.000000   \n2427 -14.316145  113.483748   0.393004  0.353190  0.000000  0.000000   \n2428 -15.411550  105.115996   0.397366  0.352221  0.000000  0.000000   \n\n      stft_q05  mfcc_q05_w2  mfcc_q25_w2  mfcc_q95_w2  stft_sum_w2   \n0     0.116556  -120.117107   -11.527863    52.003055   484.868805  \\\n1     0.103585   -75.363458   -11.434454    48.559144   468.430938   \n2     0.152042   -68.998278   -10.588931    47.860892   478.721360   \n3     0.097330   -83.044930   -10.651319    56.442131   480.684962   \n4     0.148925   -73.239906   -10.560717    59.259329   527.873676   \n...        ...          ...          ...          ...          ...   \n2424  0.000000   -99.759052   -20.961018    45.060317   392.845148   \n2425  0.000535   -94.174167   -21.225479    49.527611   391.581885   \n2426  0.000000   -95.961729   -21.014818    52.465301   387.840356   \n2427  0.000000  -104.770460   -21.403561    51.408106   397.483970   \n2428  0.000000  -107.748358   -21.518580    50.185415   430.894688   \n\n      stft_std_w2  stft_q05_w2  stft_q25_w2  mfcc_q05_w3  mfcc_q25_w3   \n0        0.293215     0.069133     0.261142   -67.755763    -9.989349  \\\n1        0.302636     0.063778     0.239860   -71.935123    -9.649912   \n2        0.293498     0.099196     0.268918   -69.634357    -8.167052   \n3        0.293618     0.074663     0.222230   -65.700882   -11.507271   \n4        0.281825     0.085910     0.288242   -64.224837    -9.563899   \n...           ...          ...          ...          ...          ...   \n2424     0.334506     0.000275     0.013865   -94.788390   -22.633643   \n2425     0.327351     0.002639     0.026575  -129.524864   -25.793420   \n2426     0.329636     0.005785     0.031443   -84.901732   -23.546573   \n2427     0.340376     0.004331     0.028292   -84.443920   -23.132294   \n2428     0.341262     0.001986     0.031289   -98.461715   -25.297283   \n\n      mfcc_q50_w3  mfcc_q95_w3  stft_std_w3  stft_q01_w3  \n0       -0.172550    62.708651     0.290738     0.047669  \n1       -0.237159    63.767483     0.285455     0.046734  \n2        0.444741    63.596519     0.280918     0.049062  \n3       -0.839454    69.896139     0.290291     0.046423  \n4        0.129829    62.749889     0.274131     0.069192  \n...           ...          ...          ...          ...  \n2424   -11.140555    56.190917     0.318587     0.000218  \n2425   -12.820762    56.286695     0.319367     0.000418  \n2426   -12.323875    55.225316     0.318763     0.000521  \n2427   -10.467500    62.430943     0.321830     0.000820  \n2428   -12.561055    65.639251     0.328212     0.000717  \n\n[2429 rows x 20 columns]",
      "text/html": "<div>\n<style scoped>\n    .dataframe tbody tr th:only-of-type {\n        vertical-align: middle;\n    }\n\n    .dataframe tbody tr th {\n        vertical-align: top;\n    }\n\n    .dataframe thead th {\n        text-align: right;\n    }\n</style>\n<table border=\"1\" class=\"dataframe\">\n  <thead>\n    <tr style=\"text-align: right;\">\n      <th></th>\n      <th>mfcc_q25</th>\n      <th>mfcc_q99</th>\n      <th>stft_mean</th>\n      <th>stft_std</th>\n      <th>stft_min</th>\n      <th>stft_q01</th>\n      <th>stft_q05</th>\n      <th>mfcc_q05_w2</th>\n      <th>mfcc_q25_w2</th>\n      <th>mfcc_q95_w2</th>\n      <th>stft_sum_w2</th>\n      <th>stft_std_w2</th>\n      <th>stft_q05_w2</th>\n      <th>stft_q25_w2</th>\n      <th>mfcc_q05_w3</th>\n      <th>mfcc_q25_w3</th>\n      <th>mfcc_q50_w3</th>\n      <th>mfcc_q95_w3</th>\n      <th>stft_std_w3</th>\n      <th>stft_q01_w3</th>\n    </tr>\n  </thead>\n  <tbody>\n    <tr>\n      <th>0</th>\n      <td>-3.248759</td>\n      <td>165.340459</td>\n      <td>0.629568</td>\n      <td>0.277748</td>\n      <td>0.008878</td>\n      <td>0.048266</td>\n      <td>0.116556</td>\n      <td>-120.117107</td>\n      <td>-11.527863</td>\n      <td>52.003055</td>\n      <td>484.868805</td>\n      <td>0.293215</td>\n      <td>0.069133</td>\n      <td>0.261142</td>\n      <td>-67.755763</td>\n      <td>-9.989349</td>\n      <td>-0.172550</td>\n      <td>62.708651</td>\n      <td>0.290738</td>\n      <td>0.047669</td>\n    </tr>\n    <tr>\n      <th>1</th>\n      <td>-2.454553</td>\n      <td>175.846084</td>\n      <td>0.619984</td>\n      <td>0.279639</td>\n      <td>0.000000</td>\n      <td>0.039225</td>\n      <td>0.103585</td>\n      <td>-75.363458</td>\n      <td>-11.434454</td>\n      <td>48.559144</td>\n      <td>468.430938</td>\n      <td>0.302636</td>\n      <td>0.063778</td>\n      <td>0.239860</td>\n      <td>-71.935123</td>\n      <td>-9.649912</td>\n      <td>-0.237159</td>\n      <td>63.767483</td>\n      <td>0.285455</td>\n      <td>0.046734</td>\n    </tr>\n    <tr>\n      <th>2</th>\n      <td>-2.546799</td>\n      <td>165.640911</td>\n      <td>0.612607</td>\n      <td>0.263994</td>\n      <td>0.032363</td>\n      <td>0.058727</td>\n      <td>0.152042</td>\n      <td>-68.998278</td>\n      <td>-10.588931</td>\n      <td>47.860892</td>\n      <td>478.721360</td>\n      <td>0.293498</td>\n      <td>0.099196</td>\n      <td>0.268918</td>\n      <td>-69.634357</td>\n      <td>-8.167052</td>\n      <td>0.444741</td>\n      <td>63.596519</td>\n      <td>0.280918</td>\n      <td>0.049062</td>\n    </tr>\n    <tr>\n      <th>3</th>\n      <td>-3.493539</td>\n      <td>167.973568</td>\n      <td>0.608243</td>\n      <td>0.293414</td>\n      <td>0.000000</td>\n      <td>0.011911</td>\n      <td>0.097330</td>\n      <td>-83.044930</td>\n      <td>-10.651319</td>\n      <td>56.442131</td>\n      <td>480.684962</td>\n      <td>0.293618</td>\n      <td>0.074663</td>\n      <td>0.222230</td>\n      <td>-65.700882</td>\n      <td>-11.507271</td>\n      <td>-0.839454</td>\n      <td>69.896139</td>\n      <td>0.290291</td>\n      <td>0.046423</td>\n    </tr>\n    <tr>\n      <th>4</th>\n      <td>-2.329377</td>\n      <td>167.472222</td>\n      <td>0.644044</td>\n      <td>0.271359</td>\n      <td>0.000000</td>\n      <td>0.063752</td>\n      <td>0.148925</td>\n      <td>-73.239906</td>\n      <td>-10.560717</td>\n      <td>59.259329</td>\n      <td>527.873676</td>\n      <td>0.281825</td>\n      <td>0.085910</td>\n      <td>0.288242</td>\n      <td>-64.224837</td>\n      <td>-9.563899</td>\n      <td>0.129829</td>\n      <td>62.749889</td>\n      <td>0.274131</td>\n      <td>0.069192</td>\n    </tr>\n    <tr>\n      <th>...</th>\n      <td>...</td>\n      <td>...</td>\n      <td>...</td>\n      <td>...</td>\n      <td>...</td>\n      <td>...</td>\n      <td>...</td>\n      <td>...</td>\n      <td>...</td>\n      <td>...</td>\n      <td>...</td>\n      <td>...</td>\n      <td>...</td>\n      <td>...</td>\n      <td>...</td>\n      <td>...</td>\n      <td>...</td>\n      <td>...</td>\n      <td>...</td>\n      <td>...</td>\n    </tr>\n    <tr>\n      <th>2424</th>\n      <td>-14.566319</td>\n      <td>122.559663</td>\n      <td>0.380013</td>\n      <td>0.358211</td>\n      <td>0.000000</td>\n      <td>0.000000</td>\n      <td>0.000000</td>\n      <td>-99.759052</td>\n      <td>-20.961018</td>\n      <td>45.060317</td>\n      <td>392.845148</td>\n      <td>0.334506</td>\n      <td>0.000275</td>\n      <td>0.013865</td>\n      <td>-94.788390</td>\n      <td>-22.633643</td>\n      <td>-11.140555</td>\n      <td>56.190917</td>\n      <td>0.318587</td>\n      <td>0.000218</td>\n    </tr>\n    <tr>\n      <th>2425</th>\n      <td>-16.516638</td>\n      <td>108.475085</td>\n      <td>0.384475</td>\n      <td>0.342570</td>\n      <td>0.000000</td>\n      <td>0.000000</td>\n      <td>0.000535</td>\n      <td>-94.174167</td>\n      <td>-21.225479</td>\n      <td>49.527611</td>\n      <td>391.581885</td>\n      <td>0.327351</td>\n      <td>0.002639</td>\n      <td>0.026575</td>\n      <td>-129.524864</td>\n      <td>-25.793420</td>\n      <td>-12.820762</td>\n      <td>56.286695</td>\n      <td>0.319367</td>\n      <td>0.000418</td>\n    </tr>\n    <tr>\n      <th>2426</th>\n      <td>-15.071037</td>\n      <td>111.296732</td>\n      <td>0.379459</td>\n      <td>0.343235</td>\n      <td>0.000000</td>\n      <td>0.000000</td>\n      <td>0.000000</td>\n      <td>-95.961729</td>\n      <td>-21.014818</td>\n      <td>52.465301</td>\n      <td>387.840356</td>\n      <td>0.329636</td>\n      <td>0.005785</td>\n      <td>0.031443</td>\n      <td>-84.901732</td>\n      <td>-23.546573</td>\n      <td>-12.323875</td>\n      <td>55.225316</td>\n      <td>0.318763</td>\n      <td>0.000521</td>\n    </tr>\n    <tr>\n      <th>2427</th>\n      <td>-14.316145</td>\n      <td>113.483748</td>\n      <td>0.393004</td>\n      <td>0.353190</td>\n      <td>0.000000</td>\n      <td>0.000000</td>\n      <td>0.000000</td>\n      <td>-104.770460</td>\n      <td>-21.403561</td>\n      <td>51.408106</td>\n      <td>397.483970</td>\n      <td>0.340376</td>\n      <td>0.004331</td>\n      <td>0.028292</td>\n      <td>-84.443920</td>\n      <td>-23.132294</td>\n      <td>-10.467500</td>\n      <td>62.430943</td>\n      <td>0.321830</td>\n      <td>0.000820</td>\n    </tr>\n    <tr>\n      <th>2428</th>\n      <td>-15.411550</td>\n      <td>105.115996</td>\n      <td>0.397366</td>\n      <td>0.352221</td>\n      <td>0.000000</td>\n      <td>0.000000</td>\n      <td>0.000000</td>\n      <td>-107.748358</td>\n      <td>-21.518580</td>\n      <td>50.185415</td>\n      <td>430.894688</td>\n      <td>0.341262</td>\n      <td>0.001986</td>\n      <td>0.031289</td>\n      <td>-98.461715</td>\n      <td>-25.297283</td>\n      <td>-12.561055</td>\n      <td>65.639251</td>\n      <td>0.328212</td>\n      <td>0.000717</td>\n    </tr>\n  </tbody>\n</table>\n<p>2429 rows × 20 columns</p>\n</div>"
     },
     "execution_count": 8,
     "metadata": {},
     "output_type": "execute_result"
    }
   ],
   "source": [
    "f_selector = SelectKBest(score_func=mutual_info_regression, k=20)\n",
    "f_selector.fit(X_train, y_train)\n",
    "\n",
    "X_train = f_selector.transform(X_train)\n",
    "X_valid = f_selector.transform(X_valid)\n",
    "X_test = f_selector.transform(X_test)\n",
    "X_to_pred = f_selector.transform(X_to_pred)\n",
    "\n",
    "# selected columns\n",
    "selected_indices = f_selector.get_support(indices=True)\n",
    "df_reg.iloc[:, selected_indices]"
   ],
   "metadata": {
    "collapsed": false,
    "ExecuteTime": {
     "end_time": "2023-06-04T14:38:44.720678Z",
     "start_time": "2023-06-04T14:38:43.902920Z"
    }
   }
  },
  {
   "cell_type": "code",
   "execution_count": 9,
   "outputs": [],
   "source": [
    "scaler = MinMaxScaler()\n",
    "\n",
    "X_train = scaler.fit_transform(X_train)\n",
    "X_valid = scaler.fit_transform(X_valid)\n",
    "X_test = scaler.fit_transform(X_test)\n",
    "X_to_pred = scaler.fit_transform(X_to_pred)"
   ],
   "metadata": {
    "collapsed": false,
    "ExecuteTime": {
     "end_time": "2023-06-04T14:38:44.725883Z",
     "start_time": "2023-06-04T14:38:44.721569Z"
    }
   }
  },
  {
   "cell_type": "code",
   "execution_count": 10,
   "outputs": [
    {
     "name": "stderr",
     "output_type": "stream",
     "text": [
      "[I 2023-06-04 16:38:45,056] A new study created in memory with name: no-name-202c8976-3f68-4361-b441-8b791651eae8\n",
      "[I 2023-06-04 16:38:49,734] Trial 0 finished with value: 0.054938922228540875 and parameters: {'booster': 'dart', 'gamma': 1.960299315742609, 'max_depth': 6, 'min_child_weight': 3, 'subsample': 0.8247611200915452}. Best is trial 0 with value: 0.054938922228540875.\n",
      "[I 2023-06-04 16:38:49,831] Trial 4 finished with value: 0.058648555244369946 and parameters: {'booster': 'dart', 'gamma': 0.41695944736450774, 'max_depth': 6, 'min_child_weight': 2, 'subsample': 0.7094468535826581}. Best is trial 0 with value: 0.054938922228540875.\n",
      "[I 2023-06-04 16:38:50,229] Trial 7 finished with value: 0.05659757837845611 and parameters: {'booster': 'gbtree', 'gamma': 1.0003635332484357, 'max_depth': 14, 'min_child_weight': 1, 'subsample': 0.9015847775449902}. Best is trial 0 with value: 0.054938922228540875.\n",
      "[I 2023-06-04 16:38:50,265] Trial 6 finished with value: 0.06023698434771141 and parameters: {'booster': 'gbtree', 'gamma': 0.7249422832719277, 'max_depth': 17, 'min_child_weight': 3, 'subsample': 0.8924230700769498}. Best is trial 0 with value: 0.054938922228540875.\n",
      "[I 2023-06-04 16:38:52,100] Trial 5 finished with value: 0.056257319419423406 and parameters: {'booster': 'dart', 'gamma': 1.595459261522258, 'max_depth': 17, 'min_child_weight': 3, 'subsample': 0.6557424117725908}. Best is trial 0 with value: 0.054938922228540875.\n",
      "[I 2023-06-04 16:38:52,222] Trial 1 finished with value: 0.05827716298437075 and parameters: {'booster': 'dart', 'gamma': 2.100068056164483, 'max_depth': 14, 'min_child_weight': 2, 'subsample': 0.7469508197952078}. Best is trial 0 with value: 0.054938922228540875.\n",
      "[I 2023-06-04 16:38:52,420] Trial 3 finished with value: 0.060774141561613225 and parameters: {'booster': 'dart', 'gamma': 0.5044747556592749, 'max_depth': 14, 'min_child_weight': 1, 'subsample': 0.7954239350462158}. Best is trial 0 with value: 0.054938922228540875.\n",
      "[I 2023-06-04 16:38:52,784] Trial 12 finished with value: 0.05766712861673977 and parameters: {'booster': 'gbtree', 'gamma': 2.937514875688198, 'max_depth': 4, 'min_child_weight': 1, 'subsample': 0.8905192070491175}. Best is trial 0 with value: 0.054938922228540875.\n",
      "[I 2023-06-04 16:38:52,885] Trial 10 finished with value: 0.05742048274184535 and parameters: {'booster': 'gbtree', 'gamma': 3.8514154662514932, 'max_depth': 13, 'min_child_weight': 3, 'subsample': 0.5433774237924658}. Best is trial 0 with value: 0.054938922228540875.\n",
      "[I 2023-06-04 16:38:53,017] Trial 2 finished with value: 0.06260631312926358 and parameters: {'booster': 'dart', 'gamma': 0.712584580005306, 'max_depth': 19, 'min_child_weight': 2, 'subsample': 0.7449532838517303}. Best is trial 0 with value: 0.054938922228540875.\n",
      "[I 2023-06-04 16:38:53,598] Trial 15 finished with value: 0.05459041944368135 and parameters: {'booster': 'gbtree', 'gamma': 3.4768960583157797, 'max_depth': 5, 'min_child_weight': 3, 'subsample': 0.4542441742145067}. Best is trial 15 with value: 0.05459041944368135.\n",
      "[I 2023-06-04 16:38:54,206] Trial 8 finished with value: 0.06079655789672837 and parameters: {'booster': 'dart', 'gamma': 0.31589971128226313, 'max_depth': 9, 'min_child_weight': 1, 'subsample': 0.5812546443142933}. Best is trial 15 with value: 0.05459041944368135.\n",
      "[I 2023-06-04 16:38:54,529] Trial 16 finished with value: 0.05685078134443242 and parameters: {'booster': 'gbtree', 'gamma': 0.9118704607320993, 'max_depth': 8, 'min_child_weight': 1, 'subsample': 0.9967458485377528}. Best is trial 15 with value: 0.05459041944368135.\n",
      "[I 2023-06-04 16:38:54,984] Trial 20 finished with value: 0.060121404715979286 and parameters: {'booster': 'gbtree', 'gamma': 4.968541032810721, 'max_depth': 3, 'min_child_weight': 3, 'subsample': 0.40693300205218563}. Best is trial 15 with value: 0.05459041944368135.\n",
      "[I 2023-06-04 16:38:55,063] Trial 18 finished with value: 0.05921016614379288 and parameters: {'booster': 'gbtree', 'gamma': 4.936768424266793, 'max_depth': 8, 'min_child_weight': 3, 'subsample': 0.40166953306086256}. Best is trial 15 with value: 0.05459041944368135.\n",
      "[I 2023-06-04 16:38:55,305] Trial 9 finished with value: 0.060254781486459026 and parameters: {'booster': 'dart', 'gamma': 0.37661792891810764, 'max_depth': 13, 'min_child_weight': 1, 'subsample': 0.49748494008013416}. Best is trial 15 with value: 0.05459041944368135.\n",
      "[I 2023-06-04 16:38:55,451] Trial 11 finished with value: 0.05891352410011108 and parameters: {'booster': 'dart', 'gamma': 1.0291848560613897, 'max_depth': 11, 'min_child_weight': 1, 'subsample': 0.7602529631925867}. Best is trial 15 with value: 0.05459041944368135.\n",
      "[I 2023-06-04 16:38:55,474] Trial 14 finished with value: 0.0605761236171377 and parameters: {'booster': 'dart', 'gamma': 3.774442156882371, 'max_depth': 4, 'min_child_weight': 2, 'subsample': 0.46686162183105573}. Best is trial 15 with value: 0.05459041944368135.\n",
      "[I 2023-06-04 16:38:55,735] Trial 19 finished with value: 0.060121404715979286 and parameters: {'booster': 'gbtree', 'gamma': 4.899642052247704, 'max_depth': 8, 'min_child_weight': 3, 'subsample': 0.40697506164716485}. Best is trial 15 with value: 0.05459041944368135.\n",
      "[I 2023-06-04 16:38:56,197] Trial 23 finished with value: 0.05611823829419488 and parameters: {'booster': 'gbtree', 'gamma': 2.9586526697726856, 'max_depth': 5, 'min_child_weight': 3, 'subsample': 0.6023011570021052}. Best is trial 15 with value: 0.05459041944368135.\n",
      "[I 2023-06-04 16:38:56,341] Trial 24 finished with value: 0.054648966548391416 and parameters: {'booster': 'gbtree', 'gamma': 3.0985600771655633, 'max_depth': 5, 'min_child_weight': 3, 'subsample': 0.6396053214012353}. Best is trial 15 with value: 0.05459041944368135.\n",
      "[I 2023-06-04 16:38:56,456] Trial 25 finished with value: 0.05437971447506751 and parameters: {'booster': 'gbtree', 'gamma': 2.529190226345797, 'max_depth': 5, 'min_child_weight': 3, 'subsample': 0.6435921185237465}. Best is trial 25 with value: 0.05437971447506751.\n",
      "[I 2023-06-04 16:38:56,947] Trial 29 finished with value: 0.05520145620973449 and parameters: {'booster': 'gbtree', 'gamma': 2.6281628867032096, 'max_depth': 3, 'min_child_weight': 2, 'subsample': 0.6408102257720462}. Best is trial 25 with value: 0.05437971447506751.\n",
      "[I 2023-06-04 16:38:56,966] Trial 26 finished with value: 0.055274756979338154 and parameters: {'booster': 'gbtree', 'gamma': 2.5368165654287145, 'max_depth': 6, 'min_child_weight': 3, 'subsample': 0.6359104150319635}. Best is trial 25 with value: 0.05437971447506751.\n",
      "[I 2023-06-04 16:38:57,236] Trial 17 finished with value: 0.05652067670537372 and parameters: {'booster': 'dart', 'gamma': 2.8519658517670106, 'max_depth': 8, 'min_child_weight': 3, 'subsample': 0.9856988209547652}. Best is trial 25 with value: 0.05437971447506751.\n",
      "[I 2023-06-04 16:38:57,526] Trial 28 finished with value: 0.05419695406540508 and parameters: {'booster': 'gbtree', 'gamma': 2.3649120331151288, 'max_depth': 6, 'min_child_weight': 3, 'subsample': 0.6205546742604182}. Best is trial 28 with value: 0.05419695406540508.\n",
      "[I 2023-06-04 16:38:57,730] Trial 13 finished with value: 0.05638292811974839 and parameters: {'booster': 'dart', 'gamma': 2.6906027820224616, 'max_depth': 15, 'min_child_weight': 2, 'subsample': 0.4472401982930034}. Best is trial 28 with value: 0.05419695406540508.\n",
      "[I 2023-06-04 16:38:57,990] Trial 30 finished with value: 0.0532009416223193 and parameters: {'booster': 'gbtree', 'gamma': 3.289963267053621, 'max_depth': 6, 'min_child_weight': 3, 'subsample': 0.647374493260451}. Best is trial 30 with value: 0.0532009416223193.\n",
      "[I 2023-06-04 16:38:58,369] Trial 22 finished with value: 0.05807092470187212 and parameters: {'booster': 'dart', 'gamma': 2.6504024923148504, 'max_depth': 5, 'min_child_weight': 3, 'subsample': 0.49165169975410683}. Best is trial 30 with value: 0.0532009416223193.\n",
      "[I 2023-06-04 16:38:58,985] Trial 31 finished with value: 0.054917597014457885 and parameters: {'booster': 'gbtree', 'gamma': 3.5265963650335665, 'max_depth': 10, 'min_child_weight': 3, 'subsample': 0.5622527759792924}. Best is trial 30 with value: 0.0532009416223193.\n",
      "[I 2023-06-04 16:38:59,222] Trial 21 finished with value: 0.0566535589411983 and parameters: {'booster': 'dart', 'gamma': 2.8701922811246066, 'max_depth': 9, 'min_child_weight': 3, 'subsample': 0.4240359018340885}. Best is trial 30 with value: 0.0532009416223193.\n",
      "[I 2023-06-04 16:38:59,427] Trial 32 finished with value: 0.058294186893681654 and parameters: {'booster': 'gbtree', 'gamma': 3.3597273049935077, 'max_depth': 10, 'min_child_weight': 2, 'subsample': 0.5566398558194806}. Best is trial 30 with value: 0.0532009416223193.\n",
      "[I 2023-06-04 16:38:59,771] Trial 27 finished with value: 0.05399911826217986 and parameters: {'booster': 'dart', 'gamma': 2.0238878332038146, 'max_depth': 6, 'min_child_weight': 2, 'subsample': 0.6593989516710534}. Best is trial 30 with value: 0.0532009416223193.\n",
      "[I 2023-06-04 16:38:59,805] Trial 34 finished with value: 0.05683235389984489 and parameters: {'booster': 'gbtree', 'gamma': 3.364580076510621, 'max_depth': 10, 'min_child_weight': 3, 'subsample': 0.5122781928988067}. Best is trial 30 with value: 0.0532009416223193.\n",
      "[I 2023-06-04 16:39:00,023] Trial 33 finished with value: 0.055814815480365376 and parameters: {'booster': 'gbtree', 'gamma': 2.096938433030399, 'max_depth': 11, 'min_child_weight': 2, 'subsample': 0.5599188071154582}. Best is trial 30 with value: 0.0532009416223193.\n",
      "[I 2023-06-04 16:39:00,364] Trial 35 finished with value: 0.05794078517503452 and parameters: {'booster': 'gbtree', 'gamma': 2.2048821685087256, 'max_depth': 10, 'min_child_weight': 2, 'subsample': 0.6881588210957152}. Best is trial 30 with value: 0.0532009416223193.\n",
      "[I 2023-06-04 16:39:00,426] Trial 37 finished with value: 0.056453014357317234 and parameters: {'booster': 'gbtree', 'gamma': 2.196993806023019, 'max_depth': 7, 'min_child_weight': 2, 'subsample': 0.6931828126833358}. Best is trial 30 with value: 0.0532009416223193.\n",
      "[I 2023-06-04 16:39:00,495] Trial 38 finished with value: 0.05723544799474141 and parameters: {'booster': 'gbtree', 'gamma': 2.1170161704784487, 'max_depth': 7, 'min_child_weight': 3, 'subsample': 0.5270917470119749}. Best is trial 30 with value: 0.0532009416223193.\n",
      "[I 2023-06-04 16:39:00,538] Trial 39 finished with value: 0.05683550466932142 and parameters: {'booster': 'gbtree', 'gamma': 2.2573259813124666, 'max_depth': 6, 'min_child_weight': 3, 'subsample': 0.6840796865771812}. Best is trial 30 with value: 0.0532009416223193.\n",
      "[I 2023-06-04 16:39:01,116] Trial 40 finished with value: 0.05535645630773115 and parameters: {'booster': 'gbtree', 'gamma': 2.1514774864865593, 'max_depth': 7, 'min_child_weight': 2, 'subsample': 0.7062502202135479}. Best is trial 30 with value: 0.0532009416223193.\n",
      "[I 2023-06-04 16:39:01,173] Trial 36 finished with value: 0.05598275071553423 and parameters: {'booster': 'gbtree', 'gamma': 2.0077664933673844, 'max_depth': 11, 'min_child_weight': 2, 'subsample': 0.6959201551846628}. Best is trial 30 with value: 0.0532009416223193.\n",
      "[I 2023-06-04 16:39:01,188] Trial 41 finished with value: 0.058050165452645464 and parameters: {'booster': 'gbtree', 'gamma': 2.309968458370092, 'max_depth': 7, 'min_child_weight': 2, 'subsample': 0.6882312208350336}. Best is trial 30 with value: 0.0532009416223193.\n",
      "[I 2023-06-04 16:39:01,490] Trial 42 finished with value: 0.0565831762151522 and parameters: {'booster': 'gbtree', 'gamma': 2.1572175655530414, 'max_depth': 7, 'min_child_weight': 2, 'subsample': 0.6910165959157798}. Best is trial 30 with value: 0.0532009416223193.\n",
      "[I 2023-06-04 16:39:01,923] Trial 43 finished with value: 0.058321749261335876 and parameters: {'booster': 'gbtree', 'gamma': 1.915699779499283, 'max_depth': 7, 'min_child_weight': 2, 'subsample': 0.6919340661564622}. Best is trial 30 with value: 0.0532009416223193.\n",
      "[I 2023-06-04 16:39:02,055] Trial 44 finished with value: 0.05500843248232167 and parameters: {'booster': 'gbtree', 'gamma': 1.725845287388095, 'max_depth': 7, 'min_child_weight': 2, 'subsample': 0.7209523415036654}. Best is trial 30 with value: 0.0532009416223193.\n",
      "[I 2023-06-04 16:39:02,281] Trial 48 finished with value: 0.05353572177721524 and parameters: {'booster': 'gbtree', 'gamma': 1.7798830577271507, 'max_depth': 5, 'min_child_weight': 3, 'subsample': 0.6029042218702864}. Best is trial 30 with value: 0.0532009416223193.\n",
      "[I 2023-06-04 16:39:04,592] Trial 47 finished with value: 0.055396914681586 and parameters: {'booster': 'dart', 'gamma': 1.707874325645609, 'max_depth': 4, 'min_child_weight': 2, 'subsample': 0.6023740647716166}. Best is trial 30 with value: 0.0532009416223193.\n",
      "[I 2023-06-04 16:39:04,614] Trial 49 finished with value: 0.05641708407737887 and parameters: {'booster': 'dart', 'gamma': 1.622050302758657, 'max_depth': 4, 'min_child_weight': 3, 'subsample': 0.6093547891436868}. Best is trial 30 with value: 0.0532009416223193.\n",
      "[I 2023-06-04 16:39:04,678] Trial 45 finished with value: 0.05657183527666781 and parameters: {'booster': 'dart', 'gamma': 1.759157795134943, 'max_depth': 7, 'min_child_weight': 2, 'subsample': 0.5986541993366}. Best is trial 30 with value: 0.0532009416223193.\n",
      "[I 2023-06-04 16:39:04,755] Trial 46 finished with value: 0.05353872711998124 and parameters: {'booster': 'dart', 'gamma': 1.6342242703438687, 'max_depth': 7, 'min_child_weight': 2, 'subsample': 0.6175729063324561}. Best is trial 30 with value: 0.0532009416223193.\n",
      "[I 2023-06-04 16:39:04,910] Trial 50 finished with value: 0.055052830083745584 and parameters: {'booster': 'dart', 'gamma': 1.8690820666794141, 'max_depth': 4, 'min_child_weight': 3, 'subsample': 0.6006088380489535}. Best is trial 30 with value: 0.0532009416223193.\n",
      "[I 2023-06-04 16:39:05,289] Trial 51 finished with value: 0.05433364440037479 and parameters: {'booster': 'dart', 'gamma': 1.7175655339336857, 'max_depth': 4, 'min_child_weight': 3, 'subsample': 0.6116531552237019}. Best is trial 30 with value: 0.0532009416223193.\n",
      "[I 2023-06-04 16:39:05,371] Trial 52 finished with value: 0.05531052679645705 and parameters: {'booster': 'dart', 'gamma': 1.5865395997638267, 'max_depth': 4, 'min_child_weight': 3, 'subsample': 0.6104962975767761}. Best is trial 30 with value: 0.0532009416223193.\n",
      "[I 2023-06-04 16:39:05,512] Trial 53 finished with value: 0.05267567888018581 and parameters: {'booster': 'dart', 'gamma': 1.422669799515667, 'max_depth': 4, 'min_child_weight': 3, 'subsample': 0.6130381398080836}. Best is trial 53 with value: 0.05267567888018581.\n",
      "[I 2023-06-04 16:39:07,546] Trial 55 finished with value: 0.05873622926101137 and parameters: {'booster': 'dart', 'gamma': 1.2928552216559916, 'max_depth': 3, 'min_child_weight': 3, 'subsample': 0.6595756684676768}. Best is trial 53 with value: 0.05267567888018581.\n",
      "[I 2023-06-04 16:39:07,596] Trial 56 finished with value: 0.05849597829604833 and parameters: {'booster': 'dart', 'gamma': 1.4435722193386464, 'max_depth': 3, 'min_child_weight': 3, 'subsample': 0.6589000825203577}. Best is trial 53 with value: 0.05267567888018581.\n",
      "[I 2023-06-04 16:39:07,701] Trial 54 finished with value: 0.05390206833613184 and parameters: {'booster': 'dart', 'gamma': 2.4820034032392035, 'max_depth': 4, 'min_child_weight': 3, 'subsample': 0.6169933862243477}. Best is trial 53 with value: 0.05267567888018581.\n",
      "[I 2023-06-04 16:39:08,513] Trial 58 finished with value: 0.05531604000206134 and parameters: {'booster': 'dart', 'gamma': 1.50064392412365, 'max_depth': 6, 'min_child_weight': 3, 'subsample': 0.6589519435770809}. Best is trial 53 with value: 0.05267567888018581.\n",
      "[I 2023-06-04 16:39:09,149] Trial 60 finished with value: 0.05845224992576705 and parameters: {'booster': 'dart', 'gamma': 1.4440466235557357, 'max_depth': 6, 'min_child_weight': 3, 'subsample': 0.6615232938907013}. Best is trial 53 with value: 0.05267567888018581.\n",
      "[I 2023-06-04 16:39:09,349] Trial 61 finished with value: 0.0543465906062918 and parameters: {'booster': 'dart', 'gamma': 1.376101492911054, 'max_depth': 6, 'min_child_weight': 3, 'subsample': 0.6632096207991194}. Best is trial 53 with value: 0.05267567888018581.\n",
      "[I 2023-06-04 16:39:11,458] Trial 64 finished with value: 0.057867432549053306 and parameters: {'booster': 'dart', 'gamma': 1.157271424368214, 'max_depth': 5, 'min_child_weight': 2, 'subsample': 0.5770657159476071}. Best is trial 53 with value: 0.05267567888018581.\n",
      "[I 2023-06-04 16:39:11,480] Trial 59 finished with value: 0.054379602519918586 and parameters: {'booster': 'dart', 'gamma': 1.347155655769253, 'max_depth': 19, 'min_child_weight': 3, 'subsample': 0.6232427526662644}. Best is trial 53 with value: 0.05267567888018581.\n",
      "[I 2023-06-04 16:39:11,567] Trial 62 finished with value: 0.05744807244953434 and parameters: {'booster': 'dart', 'gamma': 1.4878495676233743, 'max_depth': 6, 'min_child_weight': 3, 'subsample': 0.6556008152479572}. Best is trial 53 with value: 0.05267567888018581.\n",
      "[I 2023-06-04 16:39:11,579] Trial 63 finished with value: 0.05525191286243816 and parameters: {'booster': 'dart', 'gamma': 1.2223140887488184, 'max_depth': 6, 'min_child_weight': 2, 'subsample': 0.5650039037836952}. Best is trial 53 with value: 0.05267567888018581.\n",
      "[I 2023-06-04 16:39:11,905] Trial 57 finished with value: 0.05617294740298265 and parameters: {'booster': 'dart', 'gamma': 1.4682760121167577, 'max_depth': 19, 'min_child_weight': 1, 'subsample': 0.6574367273475691}. Best is trial 53 with value: 0.05267567888018581.\n",
      "[I 2023-06-04 16:39:12,253] Trial 65 finished with value: 0.05558664884271184 and parameters: {'booster': 'dart', 'gamma': 1.9463708979173417, 'max_depth': 5, 'min_child_weight': 2, 'subsample': 0.5813776857924223}. Best is trial 53 with value: 0.05267567888018581.\n",
      "[I 2023-06-04 16:39:12,740] Trial 66 finished with value: 0.05793218541191552 and parameters: {'booster': 'dart', 'gamma': 1.1826026084172234, 'max_depth': 5, 'min_child_weight': 1, 'subsample': 0.5826656867123117}. Best is trial 53 with value: 0.05267567888018581.\n",
      "[I 2023-06-04 16:39:14,981] Trial 69 finished with value: 0.054695199977862936 and parameters: {'booster': 'dart', 'gamma': 2.415843823766891, 'max_depth': 5, 'min_child_weight': 3, 'subsample': 0.5842417374462192}. Best is trial 53 with value: 0.05267567888018581.\n",
      "[I 2023-06-04 16:39:15,095] Trial 71 finished with value: 0.054708814517170024 and parameters: {'booster': 'dart', 'gamma': 2.4328419074542285, 'max_depth': 5, 'min_child_weight': 3, 'subsample': 0.5831056512518928}. Best is trial 53 with value: 0.05267567888018581.\n",
      "[I 2023-06-04 16:39:15,149] Trial 70 finished with value: 0.05667492310406828 and parameters: {'booster': 'dart', 'gamma': 2.4655612694413747, 'max_depth': 5, 'min_child_weight': 3, 'subsample': 0.62251176682829}. Best is trial 53 with value: 0.05267567888018581.\n",
      "[I 2023-06-04 16:39:15,477] Trial 72 finished with value: 0.05672928313893988 and parameters: {'booster': 'dart', 'gamma': 2.3641919490174836, 'max_depth': 5, 'min_child_weight': 3, 'subsample': 0.6272534729178492}. Best is trial 53 with value: 0.05267567888018581.\n",
      "[I 2023-06-04 16:39:16,182] Trial 67 finished with value: 0.06104084018498406 and parameters: {'booster': 'dart', 'gamma': 1.0797751520608856, 'max_depth': 19, 'min_child_weight': 1, 'subsample': 0.5776861913952241}. Best is trial 53 with value: 0.05267567888018581.\n",
      "[I 2023-06-04 16:39:16,608] Trial 73 finished with value: 0.05466718170715438 and parameters: {'booster': 'dart', 'gamma': 0.8275009449823493, 'max_depth': 8, 'min_child_weight': 3, 'subsample': 0.6252916853269843}. Best is trial 53 with value: 0.05267567888018581.\n",
      "[I 2023-06-04 16:39:17,029] Trial 77 finished with value: 0.054831688297767994 and parameters: {'booster': 'gbtree', 'gamma': 2.0039698117742994, 'max_depth': 9, 'min_child_weight': 3, 'subsample': 0.6318634444206219}. Best is trial 53 with value: 0.05267567888018581.\n",
      "[I 2023-06-04 16:39:17,309] Trial 74 finished with value: 0.05379575904227464 and parameters: {'booster': 'dart', 'gamma': 2.4026448079773086, 'max_depth': 9, 'min_child_weight': 3, 'subsample': 0.639640621551998}. Best is trial 53 with value: 0.05267567888018581.\n",
      "[I 2023-06-04 16:39:17,466] Trial 68 finished with value: 0.05664822245486538 and parameters: {'booster': 'dart', 'gamma': 2.397429359411613, 'max_depth': 18, 'min_child_weight': 3, 'subsample': 0.6264883560420575}. Best is trial 53 with value: 0.05267567888018581.\n",
      "[I 2023-06-04 16:39:18,499] Trial 78 finished with value: 0.055066030812754616 and parameters: {'booster': 'dart', 'gamma': 1.8097760254879818, 'max_depth': 4, 'min_child_weight': 3, 'subsample': 0.6279920539128532}. Best is trial 53 with value: 0.05267567888018581.\n",
      "[I 2023-06-04 16:39:18,863] Trial 75 finished with value: 0.05484758044035905 and parameters: {'booster': 'dart', 'gamma': 1.8663541947776183, 'max_depth': 8, 'min_child_weight': 3, 'subsample': 0.6265024367869076}. Best is trial 53 with value: 0.05267567888018581.\n",
      "[I 2023-06-04 16:39:19,078] Trial 79 finished with value: 0.0550792324611057 and parameters: {'booster': 'dart', 'gamma': 1.8233719264133907, 'max_depth': 4, 'min_child_weight': 3, 'subsample': 0.6239547662323605}. Best is trial 53 with value: 0.05267567888018581.\n",
      "[I 2023-06-04 16:39:19,211] Trial 83 finished with value: 0.05919522538901045 and parameters: {'booster': 'gbtree', 'gamma': 2.7949083837472983, 'max_depth': 9, 'min_child_weight': 3, 'subsample': 0.5436433268999579}. Best is trial 53 with value: 0.05267567888018581.\n",
      "[I 2023-06-04 16:39:19,273] Trial 76 finished with value: 0.056334136265001444 and parameters: {'booster': 'dart', 'gamma': 2.698493175324593, 'max_depth': 9, 'min_child_weight': 3, 'subsample': 0.6273331503691556}. Best is trial 53 with value: 0.05267567888018581.\n",
      "[I 2023-06-04 16:39:19,317] Trial 80 finished with value: 0.056112830062549975 and parameters: {'booster': 'dart', 'gamma': 1.8298267667698969, 'max_depth': 3, 'min_child_weight': 3, 'subsample': 0.5427051173514268}. Best is trial 53 with value: 0.05267567888018581.\n",
      "[I 2023-06-04 16:39:19,700] Trial 81 finished with value: 0.056448817956007334 and parameters: {'booster': 'dart', 'gamma': 1.8158065950949343, 'max_depth': 3, 'min_child_weight': 3, 'subsample': 0.544998633160185}. Best is trial 53 with value: 0.05267567888018581.\n",
      "[I 2023-06-04 16:39:19,761] Trial 89 finished with value: 0.05314239666941994 and parameters: {'booster': 'gbtree', 'gamma': 2.075542664588704, 'max_depth': 3, 'min_child_weight': 3, 'subsample': 0.6460300206264747}. Best is trial 53 with value: 0.05267567888018581.\n",
      "[I 2023-06-04 16:39:20,000] Trial 84 finished with value: 0.058005283409380104 and parameters: {'booster': 'gbtree', 'gamma': 2.732090376039647, 'max_depth': 8, 'min_child_weight': 3, 'subsample': 0.5403599168541919}. Best is trial 53 with value: 0.05267567888018581.\n",
      "[I 2023-06-04 16:39:20,653] Trial 85 finished with value: 0.05821837270534476 and parameters: {'booster': 'gbtree', 'gamma': 2.7240195224029042, 'max_depth': 9, 'min_child_weight': 3, 'subsample': 0.5432475713248234}. Best is trial 53 with value: 0.05267567888018581.\n",
      "[I 2023-06-04 16:39:21,160] Trial 82 finished with value: 0.0567423613104241 and parameters: {'booster': 'dart', 'gamma': 2.270523575858667, 'max_depth': 9, 'min_child_weight': 3, 'subsample': 0.5457969003750514}. Best is trial 53 with value: 0.05267567888018581.\n",
      "[I 2023-06-04 16:39:21,378] Trial 91 finished with value: 0.05399809510799169 and parameters: {'booster': 'gbtree', 'gamma': 2.0293711838863837, 'max_depth': 8, 'min_child_weight': 2, 'subsample': 0.6752868628664648}. Best is trial 53 with value: 0.05267567888018581.\n",
      "[I 2023-06-04 16:39:22,279] Trial 86 finished with value: 0.05822799515544486 and parameters: {'booster': 'gbtree', 'gamma': 2.7058676182642487, 'max_depth': 13, 'min_child_weight': 2, 'subsample': 0.5427078759854675}. Best is trial 53 with value: 0.05267567888018581.\n",
      "[I 2023-06-04 16:39:22,567] Trial 88 finished with value: 0.05658082959274345 and parameters: {'booster': 'dart', 'gamma': 2.0627520620827244, 'max_depth': 3, 'min_child_weight': 3, 'subsample': 0.6731558161208033}. Best is trial 53 with value: 0.05267567888018581.\n",
      "[I 2023-06-04 16:39:23,002] Trial 87 finished with value: 0.0543737063876463 and parameters: {'booster': 'gbtree', 'gamma': 2.593815289333593, 'max_depth': 13, 'min_child_weight': 2, 'subsample': 0.6430705403904541}. Best is trial 53 with value: 0.05267567888018581.\n",
      "[I 2023-06-04 16:39:23,441] Trial 90 finished with value: 0.05399518560638212 and parameters: {'booster': 'gbtree', 'gamma': 2.0450092668322397, 'max_depth': 13, 'min_child_weight': 3, 'subsample': 0.6749240965500728}. Best is trial 53 with value: 0.05267567888018581.\n",
      "[I 2023-06-04 16:39:25,103] Trial 98 finished with value: 0.05889482306181156 and parameters: {'booster': 'gbtree', 'gamma': 2.0170181681457025, 'max_depth': 6, 'min_child_weight': 2, 'subsample': 0.6800443789574044}. Best is trial 53 with value: 0.05267567888018581.\n",
      "[I 2023-06-04 16:39:25,195] Trial 93 finished with value: 0.05722407112940613 and parameters: {'booster': 'gbtree', 'gamma': 2.229529910447937, 'max_depth': 12, 'min_child_weight': 2, 'subsample': 0.6784280296217609}. Best is trial 53 with value: 0.05267567888018581.\n",
      "[I 2023-06-04 16:39:25,197] Trial 92 finished with value: 0.05314965292986708 and parameters: {'booster': 'gbtree', 'gamma': 2.0391116711613617, 'max_depth': 16, 'min_child_weight': 2, 'subsample': 0.6445318134817075}. Best is trial 53 with value: 0.05267567888018581.\n",
      "[I 2023-06-04 16:39:26,016] Trial 94 finished with value: 0.05887344891280615 and parameters: {'booster': 'gbtree', 'gamma': 2.561771093247181, 'max_depth': 13, 'min_child_weight': 2, 'subsample': 0.6773256374890726}. Best is trial 53 with value: 0.05267567888018581.\n",
      "[I 2023-06-04 16:39:26,227] Trial 95 finished with value: 0.05855981051131001 and parameters: {'booster': 'gbtree', 'gamma': 2.1021951179697513, 'max_depth': 13, 'min_child_weight': 2, 'subsample': 0.6767367122992674}. Best is trial 53 with value: 0.05267567888018581.\n",
      "[I 2023-06-04 16:39:26,907] Trial 96 finished with value: 0.05889193633600927 and parameters: {'booster': 'gbtree', 'gamma': 2.0147698620432206, 'max_depth': 14, 'min_child_weight': 2, 'subsample': 0.6758957187588409}. Best is trial 53 with value: 0.05267567888018581.\n",
      "[I 2023-06-04 16:39:27,166] Trial 99 finished with value: 0.05536674734368907 and parameters: {'booster': 'gbtree', 'gamma': 1.965925694828084, 'max_depth': 12, 'min_child_weight': 2, 'subsample': 0.7133298632070129}. Best is trial 53 with value: 0.05267567888018581.\n",
      "[I 2023-06-04 16:39:27,258] Trial 97 finished with value: 0.05360432380126123 and parameters: {'booster': 'gbtree', 'gamma': 2.0024392810614624, 'max_depth': 16, 'min_child_weight': 2, 'subsample': 0.6438131280829379}. Best is trial 53 with value: 0.05267567888018581.\n",
      "[I 2023-06-04 16:39:27,703] Trial 100 finished with value: 0.055264297246206774 and parameters: {'booster': 'gbtree', 'gamma': 2.2448887342754045, 'max_depth': 11, 'min_child_weight': 2, 'subsample': 0.7199249166212304}. Best is trial 53 with value: 0.05267567888018581.\n",
      "[I 2023-06-04 16:39:28,370] Trial 102 finished with value: 0.05534454797634906 and parameters: {'booster': 'gbtree', 'gamma': 2.1515349289226253, 'max_depth': 14, 'min_child_weight': 2, 'subsample': 0.6416336349057761}. Best is trial 53 with value: 0.05267567888018581.\n",
      "[I 2023-06-04 16:39:28,575] Trial 101 finished with value: 0.05441245409262307 and parameters: {'booster': 'gbtree', 'gamma': 1.6277860814945375, 'max_depth': 15, 'min_child_weight': 2, 'subsample': 0.6444865050859676}. Best is trial 53 with value: 0.05267567888018581.\n",
      "[I 2023-06-04 16:39:29,132] Trial 103 finished with value: 0.05424785230509319 and parameters: {'booster': 'gbtree', 'gamma': 1.6209113956371768, 'max_depth': 14, 'min_child_weight': 2, 'subsample': 0.6483799102450151}. Best is trial 53 with value: 0.05267567888018581.\n",
      "[I 2023-06-04 16:39:29,499] Trial 104 finished with value: 0.053022733092772084 and parameters: {'booster': 'gbtree', 'gamma': 1.9252934415977614, 'max_depth': 15, 'min_child_weight': 2, 'subsample': 0.6448048973076513}. Best is trial 53 with value: 0.05267567888018581.\n",
      "[I 2023-06-04 16:39:29,709] Trial 105 finished with value: 0.05451114655554464 and parameters: {'booster': 'gbtree', 'gamma': 1.6198932689049421, 'max_depth': 14, 'min_child_weight': 3, 'subsample': 0.644082573524867}. Best is trial 53 with value: 0.05267567888018581.\n",
      "[I 2023-06-04 16:39:30,130] Trial 106 finished with value: 0.05441694627900779 and parameters: {'booster': 'gbtree', 'gamma': 1.6563625429596038, 'max_depth': 15, 'min_child_weight': 3, 'subsample': 0.6468778730382012}. Best is trial 53 with value: 0.05267567888018581.\n",
      "[I 2023-06-04 16:39:30,395] Trial 107 finished with value: 0.05441022928398582 and parameters: {'booster': 'gbtree', 'gamma': 1.6324010282351424, 'max_depth': 17, 'min_child_weight': 3, 'subsample': 0.6450838900736203}. Best is trial 53 with value: 0.05267567888018581.\n",
      "[I 2023-06-04 16:39:31,016] Trial 108 finished with value: 0.05440687454519774 and parameters: {'booster': 'gbtree', 'gamma': 1.6155326669976273, 'max_depth': 15, 'min_child_weight': 2, 'subsample': 0.6448758831635455}. Best is trial 53 with value: 0.05267567888018581.\n",
      "[I 2023-06-04 16:39:31,856] Trial 109 finished with value: 0.05429054644900515 and parameters: {'booster': 'gbtree', 'gamma': 1.6489387036011285, 'max_depth': 16, 'min_child_weight': 2, 'subsample': 0.6488395285473176}. Best is trial 53 with value: 0.05267567888018581.\n",
      "[I 2023-06-04 16:39:32,033] Trial 110 finished with value: 0.05304375068054436 and parameters: {'booster': 'gbtree', 'gamma': 2.312857639100239, 'max_depth': 16, 'min_child_weight': 2, 'subsample': 0.6481457150273755}. Best is trial 53 with value: 0.05267567888018581.\n",
      "[I 2023-06-04 16:39:32,087] Trial 111 finished with value: 0.054713329916414144 and parameters: {'booster': 'gbtree', 'gamma': 2.3216223448142688, 'max_depth': 16, 'min_child_weight': 3, 'subsample': 0.5957655932169028}. Best is trial 53 with value: 0.05267567888018581.\n",
      "[I 2023-06-04 16:39:32,526] Trial 112 finished with value: 0.05437779468206273 and parameters: {'booster': 'gbtree', 'gamma': 2.288921152303925, 'max_depth': 16, 'min_child_weight': 3, 'subsample': 0.6096974779934925}. Best is trial 53 with value: 0.05267567888018581.\n",
      "[I 2023-06-04 16:39:32,704] Trial 113 finished with value: 0.054727867088609224 and parameters: {'booster': 'gbtree', 'gamma': 2.312873377860802, 'max_depth': 16, 'min_child_weight': 3, 'subsample': 0.5966210055916822}. Best is trial 53 with value: 0.05267567888018581.\n",
      "[I 2023-06-04 16:39:33,189] Trial 114 finished with value: 0.05363780481332634 and parameters: {'booster': 'gbtree', 'gamma': 1.914808633986769, 'max_depth': 16, 'min_child_weight': 3, 'subsample': 0.611037714305246}. Best is trial 53 with value: 0.05267567888018581.\n",
      "[I 2023-06-04 16:39:33,465] Trial 115 finished with value: 0.054188003498483274 and parameters: {'booster': 'gbtree', 'gamma': 1.9152903266016623, 'max_depth': 16, 'min_child_weight': 3, 'subsample': 0.6106409200940401}. Best is trial 53 with value: 0.05267567888018581.\n",
      "[I 2023-06-04 16:39:34,064] Trial 116 finished with value: 0.054188596686892875 and parameters: {'booster': 'gbtree', 'gamma': 2.3209097116951245, 'max_depth': 16, 'min_child_weight': 3, 'subsample': 0.61096825081368}. Best is trial 53 with value: 0.05267567888018581.\n",
      "[I 2023-06-04 16:39:34,940] Trial 117 finished with value: 0.05366222662014179 and parameters: {'booster': 'gbtree', 'gamma': 1.90891318704182, 'max_depth': 16, 'min_child_weight': 3, 'subsample': 0.6136441589743362}. Best is trial 53 with value: 0.05267567888018581.\n",
      "[I 2023-06-04 16:39:35,439] Trial 118 finished with value: 0.053318081545002755 and parameters: {'booster': 'gbtree', 'gamma': 1.890585708491334, 'max_depth': 16, 'min_child_weight': 2, 'subsample': 0.611940657130072}. Best is trial 53 with value: 0.05267567888018581.\n",
      "[I 2023-06-04 16:39:35,523] Trial 119 finished with value: 0.05418554180418063 and parameters: {'booster': 'gbtree', 'gamma': 2.1199409503110624, 'max_depth': 16, 'min_child_weight': 2, 'subsample': 0.6132710392857891}. Best is trial 53 with value: 0.05267567888018581.\n",
      "[I 2023-06-04 16:39:36,127] Trial 120 finished with value: 0.05366224596654398 and parameters: {'booster': 'gbtree', 'gamma': 1.9050695848811319, 'max_depth': 17, 'min_child_weight': 2, 'subsample': 0.6135360352845873}. Best is trial 53 with value: 0.05267567888018581.\n",
      "[I 2023-06-04 16:39:36,281] Trial 121 finished with value: 0.05369925401667622 and parameters: {'booster': 'gbtree', 'gamma': 1.9326087756765393, 'max_depth': 17, 'min_child_weight': 2, 'subsample': 0.6136588173695072}. Best is trial 53 with value: 0.05267567888018581.\n",
      "[I 2023-06-04 16:39:36,934] Trial 122 finished with value: 0.054402375508570855 and parameters: {'booster': 'gbtree', 'gamma': 1.9052845627476043, 'max_depth': 20, 'min_child_weight': 2, 'subsample': 0.6084993858504174}. Best is trial 53 with value: 0.05267567888018581.\n",
      "[I 2023-06-04 16:39:36,992] Trial 123 finished with value: 0.0541784687775093 and parameters: {'booster': 'gbtree', 'gamma': 2.1437908321964447, 'max_depth': 17, 'min_child_weight': 2, 'subsample': 0.6127799230035551}. Best is trial 53 with value: 0.05267567888018581.\n",
      "[I 2023-06-04 16:39:37,504] Trial 124 finished with value: 0.05593641182528839 and parameters: {'booster': 'gbtree', 'gamma': 2.5006919352676884, 'max_depth': 17, 'min_child_weight': 2, 'subsample': 0.5933690454893142}. Best is trial 53 with value: 0.05267567888018581.\n",
      "[I 2023-06-04 16:39:38,378] Trial 125 finished with value: 0.05363533517592681 and parameters: {'booster': 'gbtree', 'gamma': 1.7657177883561619, 'max_depth': 17, 'min_child_weight': 2, 'subsample': 0.5939525773367368}. Best is trial 53 with value: 0.05267567888018581.\n",
      "[I 2023-06-04 16:39:38,785] Trial 126 finished with value: 0.05482325263997024 and parameters: {'booster': 'gbtree', 'gamma': 1.7239920301671556, 'max_depth': 17, 'min_child_weight': 2, 'subsample': 0.5921493827554636}. Best is trial 53 with value: 0.05267567888018581.\n",
      "[I 2023-06-04 16:39:38,883] Trial 127 finished with value: 0.05481873961677355 and parameters: {'booster': 'gbtree', 'gamma': 1.7592841658918985, 'max_depth': 17, 'min_child_weight': 2, 'subsample': 0.5930626072184024}. Best is trial 53 with value: 0.05267567888018581.\n",
      "[I 2023-06-04 16:39:39,456] Trial 128 finished with value: 0.05378503383692923 and parameters: {'booster': 'gbtree', 'gamma': 1.7508181577542983, 'max_depth': 17, 'min_child_weight': 2, 'subsample': 0.5946333913911747}. Best is trial 53 with value: 0.05267567888018581.\n",
      "[I 2023-06-04 16:39:39,658] Trial 129 finished with value: 0.05380090277213358 and parameters: {'booster': 'gbtree', 'gamma': 1.7639727355647696, 'max_depth': 18, 'min_child_weight': 2, 'subsample': 0.5953199391888235}. Best is trial 53 with value: 0.05267567888018581.\n",
      "[I 2023-06-04 16:39:40,221] Trial 130 finished with value: 0.0548190335549329 and parameters: {'booster': 'gbtree', 'gamma': 1.765466722504466, 'max_depth': 17, 'min_child_weight': 2, 'subsample': 0.5932908454966784}. Best is trial 53 with value: 0.05267567888018581.\n",
      "[I 2023-06-04 16:39:40,381] Trial 131 finished with value: 0.05363535640700096 and parameters: {'booster': 'gbtree', 'gamma': 1.7671426987746632, 'max_depth': 18, 'min_child_weight': 2, 'subsample': 0.594026057863132}. Best is trial 53 with value: 0.05267567888018581.\n",
      "[I 2023-06-04 16:39:41,003] Trial 132 finished with value: 0.05538512381906178 and parameters: {'booster': 'gbtree', 'gamma': 1.7225729854944274, 'max_depth': 18, 'min_child_weight': 2, 'subsample': 0.6326637447631471}. Best is trial 53 with value: 0.05267567888018581.\n",
      "[I 2023-06-04 16:39:41,708] Trial 133 finished with value: 0.05482243464490727 and parameters: {'booster': 'gbtree', 'gamma': 1.7504635338032246, 'max_depth': 18, 'min_child_weight': 2, 'subsample': 0.5913221226902506}. Best is trial 53 with value: 0.05267567888018581.\n",
      "[I 2023-06-04 16:39:42,121] Trial 134 finished with value: 0.05481534999642049 and parameters: {'booster': 'gbtree', 'gamma': 1.746964415311297, 'max_depth': 18, 'min_child_weight': 2, 'subsample': 0.5725623478760438}. Best is trial 53 with value: 0.05267567888018581.\n",
      "[I 2023-06-04 16:39:42,227] Trial 135 finished with value: 0.05617606995588436 and parameters: {'booster': 'gbtree', 'gamma': 1.5046777075236633, 'max_depth': 18, 'min_child_weight': 2, 'subsample': 0.5727356948631218}. Best is trial 53 with value: 0.05267567888018581.\n",
      "[I 2023-06-04 16:39:42,777] Trial 137 finished with value: 0.05501447404231018 and parameters: {'booster': 'gbtree', 'gamma': 1.8425081517317934, 'max_depth': 15, 'min_child_weight': 2, 'subsample': 0.5706172135920091}. Best is trial 53 with value: 0.05267567888018581.\n",
      "[I 2023-06-04 16:39:43,025] Trial 136 finished with value: 0.055262278675382984 and parameters: {'booster': 'gbtree', 'gamma': 1.492915698142291, 'max_depth': 18, 'min_child_weight': 2, 'subsample': 0.6346971056169314}. Best is trial 53 with value: 0.05267567888018581.\n",
      "[I 2023-06-04 16:39:43,446] Trial 138 finished with value: 0.055524605076756335 and parameters: {'booster': 'gbtree', 'gamma': 1.8691878554738317, 'max_depth': 15, 'min_child_weight': 2, 'subsample': 0.6343486768465296}. Best is trial 53 with value: 0.05267567888018581.\n",
      "[I 2023-06-04 16:39:43,705] Trial 139 finished with value: 0.05674308687831214 and parameters: {'booster': 'gbtree', 'gamma': 1.502452424636285, 'max_depth': 18, 'min_child_weight': 2, 'subsample': 0.5709787443364925}. Best is trial 53 with value: 0.05267567888018581.\n",
      "[I 2023-06-04 16:39:44,341] Trial 140 finished with value: 0.056041616762204136 and parameters: {'booster': 'gbtree', 'gamma': 1.4708298667653348, 'max_depth': 15, 'min_child_weight': 2, 'subsample': 0.6614806176813903}. Best is trial 53 with value: 0.05267567888018581.\n",
      "[I 2023-06-04 16:39:44,831] Trial 141 finished with value: 0.05674222211297072 and parameters: {'booster': 'gbtree', 'gamma': 1.4996136231411263, 'max_depth': 15, 'min_child_weight': 2, 'subsample': 0.5708333203238769}. Best is trial 53 with value: 0.05267567888018581.\n",
      "[I 2023-06-04 16:39:45,425] Trial 142 finished with value: 0.054073009466431884 and parameters: {'booster': 'gbtree', 'gamma': 1.872597008862886, 'max_depth': 15, 'min_child_weight': 2, 'subsample': 0.6634314005523583}. Best is trial 53 with value: 0.05267567888018581.\n",
      "[I 2023-06-04 16:39:45,466] Trial 143 finished with value: 0.054701852294117 and parameters: {'booster': 'gbtree', 'gamma': 1.5385707574065437, 'max_depth': 15, 'min_child_weight': 2, 'subsample': 0.6333507237878597}. Best is trial 53 with value: 0.05267567888018581.\n",
      "[I 2023-06-04 16:39:45,810] Trial 144 finished with value: 0.054059371043405836 and parameters: {'booster': 'gbtree', 'gamma': 1.533382659857862, 'max_depth': 15, 'min_child_weight': 2, 'subsample': 0.6344304593574636}. Best is trial 53 with value: 0.05267567888018581.\n",
      "[I 2023-06-04 16:39:45,980] Trial 145 finished with value: 0.054022666802103526 and parameters: {'booster': 'gbtree', 'gamma': 1.979857832332897, 'max_depth': 15, 'min_child_weight': 2, 'subsample': 0.6650026491248296}. Best is trial 53 with value: 0.05267567888018581.\n",
      "[I 2023-06-04 16:39:46,240] Trial 146 finished with value: 0.055994522386350776 and parameters: {'booster': 'gbtree', 'gamma': 1.3692724456254934, 'max_depth': 16, 'min_child_weight': 2, 'subsample': 0.6637700125517446}. Best is trial 53 with value: 0.05267567888018581.\n",
      "[I 2023-06-04 16:39:46,318] Trial 147 finished with value: 0.0573064453761633 and parameters: {'booster': 'gbtree', 'gamma': 1.369490311334413, 'max_depth': 16, 'min_child_weight': 2, 'subsample': 0.6627978952536513}. Best is trial 53 with value: 0.05267567888018581.\n",
      "[I 2023-06-04 16:39:46,457] Trial 148 finished with value: 0.05374901204645387 and parameters: {'booster': 'gbtree', 'gamma': 1.9274431483938765, 'max_depth': 16, 'min_child_weight': 2, 'subsample': 0.6220281358617264}. Best is trial 53 with value: 0.05267567888018581.\n",
      "[I 2023-06-04 16:39:46,539] Trial 149 finished with value: 0.053511078950769654 and parameters: {'booster': 'gbtree', 'gamma': 1.927742147216133, 'max_depth': 16, 'min_child_weight': 2, 'subsample': 0.6183818283306668}. Best is trial 53 with value: 0.05267567888018581.\n"
     ]
    }
   ],
   "source": [
    "from sklearn.metrics import mean_squared_error, r2_score\n",
    "from xgboost import XGBRegressor\n",
    "import optuna\n",
    "\n",
    "# objective function to be minimized\n",
    "def objective_fun(trial):\n",
    "\n",
    "    booster = trial.suggest_categorical('booster', ['gbtree', 'dart'])\n",
    "    gamma = trial.suggest_float('gamma', 0, 5)\n",
    "    max_depth = trial.suggest_int('max_depth', 3, 20)\n",
    "    min_child_weight = trial.suggest_int('min_child_weight', 1, 3)\n",
    "    subsample = trial.suggest_float('subsample', 0.4, 1)\n",
    "\n",
    "    xgb = XGBRegressor(booster=booster, gamma=gamma, max_depth=max_depth, min_child_weight=min_child_weight, subsample=subsample)\n",
    "\n",
    "    xgb.fit(X_train, y_train)\n",
    "    y_pred = xgb.predict(X_valid)\n",
    "\n",
    "    error = mean_squared_error(y_valid, y_pred)\n",
    "\n",
    "    return error\n",
    "\n",
    "\n",
    "study = optuna.create_study()\n",
    "study.optimize(objective_fun, n_trials=150, n_jobs=-1)"
   ],
   "metadata": {
    "collapsed": false,
    "ExecuteTime": {
     "end_time": "2023-06-04T14:39:46.545196Z",
     "start_time": "2023-06-04T14:38:44.731649Z"
    }
   }
  },
  {
   "cell_type": "code",
   "execution_count": 11,
   "outputs": [
    {
     "name": "stdout",
     "output_type": "stream",
     "text": [
      "{'booster': 'dart', 'gamma': 1.422669799515667, 'max_depth': 4, 'min_child_weight': 3, 'subsample': 0.6130381398080836}\n",
      "Root mean squared error = 0.3045\n",
      "R-squared = 0.7970\n"
     ]
    }
   ],
   "source": [
    "best_params = study.best_params\n",
    "\n",
    "xgb = XGBRegressor(**best_params)\n",
    "xgb.fit(X_train, y_train)\n",
    "\n",
    "y_pred_test = xgb.predict(X_test)\n",
    "\n",
    "print(best_params)\n",
    "print('Root mean squared error = %.4f' % np.sqrt(mean_squared_error(y_test, y_pred_test)))\n",
    "print('R-squared = %.4f' % r2_score(y_test, y_pred_test))"
   ],
   "metadata": {
    "collapsed": false,
    "ExecuteTime": {
     "end_time": "2023-06-04T14:39:46.891525Z",
     "start_time": "2023-06-04T14:39:46.546981Z"
    }
   }
  },
  {
   "cell_type": "code",
   "execution_count": 12,
   "outputs": [
    {
     "data": {
      "text/plain": "array([1.1736777e-02, 2.6076012e-03, 1.7623922e-02, ..., 5.4100765e-05,\n       5.4100765e-05, 3.9794628e-05], dtype=float32)"
     },
     "execution_count": 12,
     "metadata": {},
     "output_type": "execute_result"
    }
   ],
   "source": [
    "y_pred = xgb.predict(X_to_pred)\n",
    "y_pred = np.power(10, y_pred)\n",
    "y_pred"
   ],
   "metadata": {
    "collapsed": false,
    "ExecuteTime": {
     "end_time": "2023-06-04T14:39:46.943494Z",
     "start_time": "2023-06-04T14:39:46.892011Z"
    }
   }
  },
  {
   "cell_type": "code",
   "execution_count": 13,
   "outputs": [
    {
     "data": {
      "text/plain": "0"
     },
     "execution_count": 13,
     "metadata": {},
     "output_type": "execute_result"
    }
   ],
   "source": [
    "# negative values predicted\n",
    "np.count_nonzero(y_pred < 0)"
   ],
   "metadata": {
    "collapsed": false,
    "ExecuteTime": {
     "end_time": "2023-06-04T14:39:46.952041Z",
     "start_time": "2023-06-04T14:39:46.910469Z"
    }
   }
  },
  {
   "cell_type": "code",
   "execution_count": 14,
   "outputs": [],
   "source": [
    "df_zero['stft_min'] = y_pred\n",
    "df.update(df_zero)"
   ],
   "metadata": {
    "collapsed": false,
    "ExecuteTime": {
     "end_time": "2023-06-04T14:39:46.952607Z",
     "start_time": "2023-06-04T14:39:46.918710Z"
    }
   }
  },
  {
   "cell_type": "code",
   "execution_count": 15,
   "outputs": [
    {
     "data": {
      "text/plain": "<Figure size 640x480 with 1 Axes>",
      "image/png": "[encoded data removed]"
     },
     "metadata": {},
     "output_type": "display_data"
    }
   ],
   "source": [
    "sns.histplot(data=df, x='stft_min', stat='density')\n",
    "plt.xlabel('stft_min')\n",
    "plt.ylabel('Count')\n",
    "plt.title('Distribution of stft_min')\n",
    "plt.show()"
   ],
   "metadata": {
    "collapsed": false,
    "ExecuteTime": {
     "end_time": "2023-06-04T14:39:47.138807Z",
     "start_time": "2023-06-04T14:39:46.946341Z"
    }
   }
  },
  {
   "cell_type": "code",
   "execution_count": 16,
   "outputs": [
    {
     "data": {
      "text/plain": "0.9270518739282905"
     },
     "execution_count": 16,
     "metadata": {},
     "output_type": "execute_result"
    }
   ],
   "source": [
    "df['stft_min'].corr(df['stft_q01'], method='spearman')"
   ],
   "metadata": {
    "collapsed": false,
    "ExecuteTime": {
     "end_time": "2023-06-04T14:39:47.156114Z",
     "start_time": "2023-06-04T14:39:47.140747Z"
    }
   }
  },
  {
   "cell_type": "markdown",
   "source": [
    "# frame_count"
   ],
   "metadata": {
    "collapsed": false
   }
  },
  {
   "cell_type": "code",
   "execution_count": 17,
   "outputs": [
    {
     "data": {
      "text/plain": "<Figure size 640x480 with 1 Axes>",
      "image/png": "[encoded data removed]"
     },
     "metadata": {},
     "output_type": "display_data"
    }
   ],
   "source": [
    "sns.histplot(data=df, x=df['frame_count'], stat='density')\n",
    "plt.xlabel('frame_count')\n",
    "plt.ylabel('Count')\n",
    "plt.title('Distribution of frame_count')\n",
    "plt.show()"
   ],
   "metadata": {
    "collapsed": false,
    "ExecuteTime": {
     "end_time": "2023-06-04T14:39:47.305367Z",
     "start_time": "2023-06-04T14:39:47.149668Z"
    }
   }
  },
  {
   "cell_type": "code",
   "execution_count": 18,
   "outputs": [
    {
     "name": "stdout",
     "output_type": "stream",
     "text": [
      "(1357, 284) (453, 284) (619, 284)\n"
     ]
    }
   ],
   "source": [
    "from sklearn.model_selection import train_test_split\n",
    "\n",
    "# dataframe has been one hot encoded\n",
    "split_index = df_reg.index[df_reg['actor_actor_19'] == 1][0]\n",
    "\n",
    "df_train = df_reg[:split_index]\n",
    "df_test = df_reg[split_index:]\n",
    "\n",
    "df_train, df_valid = train_test_split(df_train, test_size=0.25, random_state=100)\n",
    "\n",
    "y_train = df_train['frame_count'].to_numpy()\n",
    "y_valid = df_valid['frame_count'].to_numpy()\n",
    "y_test = df_test['frame_count'].to_numpy()\n",
    "\n",
    "df_train = df_train.drop(['frame_count'], axis=1)\n",
    "df_valid = df_valid.drop(['frame_count'], axis=1)\n",
    "df_test = df_test.drop(['frame_count'], axis=1)\n",
    "\n",
    "X_train = df_train.to_numpy()\n",
    "X_valid = df_valid.to_numpy()\n",
    "X_test = df_test.to_numpy()\n",
    "\n",
    "print(X_train.shape, X_valid.shape, X_test.shape)"
   ],
   "metadata": {
    "collapsed": false,
    "ExecuteTime": {
     "end_time": "2023-06-04T14:39:47.305880Z",
     "start_time": "2023-06-04T14:39:47.291515Z"
    }
   }
  },
  {
   "cell_type": "code",
   "execution_count": 19,
   "outputs": [
    {
     "data": {
      "text/plain": "<Figure size 1000x400 with 1 Axes>",
      "image/png": "[encoded data removed]"
     },
     "metadata": {},
     "output_type": "display_data"
    }
   ],
   "source": [
    "f_selector = SelectKBest(score_func=mutual_info_regression, k='all')\n",
    "f_selector.fit(X_train, y_train)\n",
    "\n",
    "plt.figure(figsize=(10, 4))\n",
    "plt.bar([i for i in range(len(f_selector.scores_))], f_selector.scores_)\n",
    "plt.xlabel('Feature index')\n",
    "plt.ylabel('Estimated MI value')\n",
    "plt.show()"
   ],
   "metadata": {
    "collapsed": false,
    "ExecuteTime": {
     "end_time": "2023-06-04T14:39:48.438135Z",
     "start_time": "2023-06-04T14:39:47.306431Z"
    }
   }
  },
  {
   "cell_type": "code",
   "execution_count": 20,
   "outputs": [
    {
     "data": {
      "text/plain": "      stft_skew  stft_skew_w1  stft_skew_w2  stft_q25_w3\n0     -0.492174     -0.561529      0.155481     0.209817\n1     -0.473775     -0.280715      0.128863     0.221506\n2     -0.269943     -0.205140      0.096396     0.295453\n3     -0.414662     -1.838410      0.303969     0.189045\n4     -0.457552     -0.729845      0.164317     0.257204\n...         ...           ...           ...          ...\n2424   0.411823      0.320232      0.936319     0.009999\n2425   0.460356      0.154591      0.940912     0.010816\n2426   0.506281      0.107261      0.879905     0.009420\n2427   0.375856      0.201044      0.769979     0.012667\n2428   0.344423      0.378186      0.708949     0.013682\n\n[2429 rows x 4 columns]",
      "text/html": "<div>\n<style scoped>\n    .dataframe tbody tr th:only-of-type {\n        vertical-align: middle;\n    }\n\n    .dataframe tbody tr th {\n        vertical-align: top;\n    }\n\n    .dataframe thead th {\n        text-align: right;\n    }\n</style>\n<table border=\"1\" class=\"dataframe\">\n  <thead>\n    <tr style=\"text-align: right;\">\n      <th></th>\n      <th>stft_skew</th>\n      <th>stft_skew_w1</th>\n      <th>stft_skew_w2</th>\n      <th>stft_q25_w3</th>\n    </tr>\n  </thead>\n  <tbody>\n    <tr>\n      <th>0</th>\n      <td>-0.492174</td>\n      <td>-0.561529</td>\n      <td>0.155481</td>\n      <td>0.209817</td>\n    </tr>\n    <tr>\n      <th>1</th>\n      <td>-0.473775</td>\n      <td>-0.280715</td>\n      <td>0.128863</td>\n      <td>0.221506</td>\n    </tr>\n    <tr>\n      <th>2</th>\n      <td>-0.269943</td>\n      <td>-0.205140</td>\n      <td>0.096396</td>\n      <td>0.295453</td>\n    </tr>\n    <tr>\n      <th>3</th>\n      <td>-0.414662</td>\n      <td>-1.838410</td>\n      <td>0.303969</td>\n      <td>0.189045</td>\n    </tr>\n    <tr>\n      <th>4</th>\n      <td>-0.457552</td>\n      <td>-0.729845</td>\n      <td>0.164317</td>\n      <td>0.257204</td>\n    </tr>\n    <tr>\n      <th>...</th>\n      <td>...</td>\n      <td>...</td>\n      <td>...</td>\n      <td>...</td>\n    </tr>\n    <tr>\n      <th>2424</th>\n      <td>0.411823</td>\n      <td>0.320232</td>\n      <td>0.936319</td>\n      <td>0.009999</td>\n    </tr>\n    <tr>\n      <th>2425</th>\n      <td>0.460356</td>\n      <td>0.154591</td>\n      <td>0.940912</td>\n      <td>0.010816</td>\n    </tr>\n    <tr>\n      <th>2426</th>\n      <td>0.506281</td>\n      <td>0.107261</td>\n      <td>0.879905</td>\n      <td>0.009420</td>\n    </tr>\n    <tr>\n      <th>2427</th>\n      <td>0.375856</td>\n      <td>0.201044</td>\n      <td>0.769979</td>\n      <td>0.012667</td>\n    </tr>\n    <tr>\n      <th>2428</th>\n      <td>0.344423</td>\n      <td>0.378186</td>\n      <td>0.708949</td>\n      <td>0.013682</td>\n    </tr>\n  </tbody>\n</table>\n<p>2429 rows × 4 columns</p>\n</div>"
     },
     "execution_count": 20,
     "metadata": {},
     "output_type": "execute_result"
    }
   ],
   "source": [
    "f_selector = SelectKBest(score_func=mutual_info_regression, k=4)\n",
    "f_selector.fit(X_train, y_train)\n",
    "\n",
    "X_train = f_selector.transform(X_train)\n",
    "X_valid = f_selector.transform(X_valid)\n",
    "X_test = f_selector.transform(X_test)\n",
    "\n",
    "# selected columns\n",
    "selected_indices = f_selector.get_support(indices=True)\n",
    "df_reg.iloc[:, selected_indices]"
   ],
   "metadata": {
    "collapsed": false,
    "ExecuteTime": {
     "end_time": "2023-06-04T14:39:49.275145Z",
     "start_time": "2023-06-04T14:39:48.437903Z"
    }
   }
  },
  {
   "cell_type": "code",
   "execution_count": 21,
   "outputs": [],
   "source": [
    "scaler = MinMaxScaler()\n",
    "\n",
    "X_train = scaler.fit_transform(X_train)\n",
    "X_valid = scaler.fit_transform(X_valid)\n",
    "X_test = scaler.fit_transform(X_test)"
   ],
   "metadata": {
    "collapsed": false,
    "ExecuteTime": {
     "end_time": "2023-06-04T14:39:49.278722Z",
     "start_time": "2023-06-04T14:39:49.273976Z"
    }
   }
  },
  {
   "cell_type": "code",
   "execution_count": 22,
   "outputs": [
    {
     "name": "stderr",
     "output_type": "stream",
     "text": [
      "[I 2023-06-04 16:39:49,276] A new study created in memory with name: no-name-3573fd46-e005-4680-b2a2-174a976ee821\n",
      "[I 2023-06-04 16:39:49,938] Trial 1 finished with value: 7632778.43263659 and parameters: {'booster': 'gbtree', 'gamma': 2.5649731088141374, 'max_depth': 6, 'min_child_weight': 2, 'subsample': 0.7354804083150712}. Best is trial 1 with value: 7632778.43263659.\n",
      "[I 2023-06-04 16:39:50,449] Trial 7 finished with value: 7598105.277857901 and parameters: {'booster': 'gbtree', 'gamma': 3.148519391529364, 'max_depth': 11, 'min_child_weight': 1, 'subsample': 0.5305765453335871}. Best is trial 7 with value: 7598105.277857901.\n",
      "[I 2023-06-04 16:39:51,147] Trial 0 finished with value: 7566152.011760787 and parameters: {'booster': 'gbtree', 'gamma': 1.842183154441695, 'max_depth': 18, 'min_child_weight': 1, 'subsample': 0.6383221876682283}. Best is trial 0 with value: 7566152.011760787.\n",
      "[I 2023-06-04 16:39:51,181] Trial 2 finished with value: 7604272.300679929 and parameters: {'booster': 'gbtree', 'gamma': 2.841808819438105, 'max_depth': 19, 'min_child_weight': 2, 'subsample': 0.6583807241560613}. Best is trial 0 with value: 7566152.011760787.\n",
      "[I 2023-06-04 16:39:51,507] Trial 8 finished with value: 7740016.991215249 and parameters: {'booster': 'gbtree', 'gamma': 3.523662066992215, 'max_depth': 16, 'min_child_weight': 2, 'subsample': 0.4384709711773461}. Best is trial 0 with value: 7566152.011760787.\n",
      "[I 2023-06-04 16:39:52,405] Trial 6 finished with value: 7511099.749323089 and parameters: {'booster': 'dart', 'gamma': 1.3050482733281776, 'max_depth': 6, 'min_child_weight': 3, 'subsample': 0.5355899434196679}. Best is trial 6 with value: 7511099.749323089.\n",
      "[I 2023-06-04 16:39:52,406] Trial 5 finished with value: 7602858.937637969 and parameters: {'booster': 'dart', 'gamma': 2.9184421478734572, 'max_depth': 6, 'min_child_weight': 3, 'subsample': 0.8862564540264737}. Best is trial 6 with value: 7511099.749323089.\n",
      "[I 2023-06-04 16:39:52,485] Trial 4 finished with value: 7577031.677068782 and parameters: {'booster': 'dart', 'gamma': 3.755598248085694, 'max_depth': 7, 'min_child_weight': 1, 'subsample': 0.816454931011467}. Best is trial 6 with value: 7511099.749323089.\n",
      "[I 2023-06-04 16:39:52,774] Trial 12 finished with value: 7546825.964204026 and parameters: {'booster': 'gbtree', 'gamma': 2.5295773243497646, 'max_depth': 12, 'min_child_weight': 1, 'subsample': 0.7305500254408288}. Best is trial 6 with value: 7511099.749323089.\n",
      "[I 2023-06-04 16:39:52,873] Trial 15 finished with value: 7666475.745861466 and parameters: {'booster': 'gbtree', 'gamma': 3.52342551782314, 'max_depth': 3, 'min_child_weight': 3, 'subsample': 0.8052626397352431}. Best is trial 6 with value: 7511099.749323089.\n",
      "[I 2023-06-04 16:39:52,889] Trial 3 finished with value: 7557183.808557641 and parameters: {'booster': 'dart', 'gamma': 4.659210112004834, 'max_depth': 11, 'min_child_weight': 2, 'subsample': 0.6638400264601794}. Best is trial 6 with value: 7511099.749323089.\n",
      "[I 2023-06-04 16:39:53,250] Trial 14 finished with value: 7604799.654407358 and parameters: {'booster': 'gbtree', 'gamma': 2.8942828877465003, 'max_depth': 8, 'min_child_weight': 3, 'subsample': 0.9489649741953928}. Best is trial 6 with value: 7511099.749323089.\n",
      "[I 2023-06-04 16:39:53,357] Trial 16 finished with value: 7652038.821802674 and parameters: {'booster': 'gbtree', 'gamma': 4.072298771984921, 'max_depth': 5, 'min_child_weight': 2, 'subsample': 0.7573940130267895}. Best is trial 6 with value: 7511099.749323089.\n",
      "[I 2023-06-04 16:39:54,568] Trial 11 finished with value: 7576507.56315158 and parameters: {'booster': 'dart', 'gamma': 1.910669977494115, 'max_depth': 8, 'min_child_weight': 1, 'subsample': 0.8554004506196414}. Best is trial 6 with value: 7511099.749323089.\n",
      "[I 2023-06-04 16:39:54,836] Trial 9 finished with value: 7439887.319287432 and parameters: {'booster': 'dart', 'gamma': 2.0952281404905744, 'max_depth': 18, 'min_child_weight': 1, 'subsample': 0.5496834482299999}. Best is trial 9 with value: 7439887.319287432.\n",
      "[I 2023-06-04 16:39:55,302] Trial 13 finished with value: 7665034.629910838 and parameters: {'booster': 'dart', 'gamma': 3.792760150171261, 'max_depth': 3, 'min_child_weight': 1, 'subsample': 0.6072373406677749}. Best is trial 9 with value: 7439887.319287432.\n",
      "[I 2023-06-04 16:39:55,320] Trial 10 finished with value: 7576275.526951939 and parameters: {'booster': 'dart', 'gamma': 0.23289746636362185, 'max_depth': 16, 'min_child_weight': 1, 'subsample': 0.9672668501336055}. Best is trial 9 with value: 7439887.319287432.\n",
      "[I 2023-06-04 16:39:56,617] Trial 17 finished with value: 7603763.6978967255 and parameters: {'booster': 'dart', 'gamma': 0.2761086477859216, 'max_depth': 11, 'min_child_weight': 3, 'subsample': 0.9991517229072173}. Best is trial 9 with value: 7439887.319287432.\n",
      "[I 2023-06-04 16:39:56,876] Trial 18 finished with value: 7575503.04356967 and parameters: {'booster': 'dart', 'gamma': 0.6791888885170133, 'max_depth': 14, 'min_child_weight': 3, 'subsample': 0.5495269414123474}. Best is trial 9 with value: 7439887.319287432.\n",
      "[I 2023-06-04 16:39:57,252] Trial 19 finished with value: 7447821.452857146 and parameters: {'booster': 'dart', 'gamma': 0.6476450747570124, 'max_depth': 14, 'min_child_weight': 3, 'subsample': 0.5582662340329071}. Best is trial 9 with value: 7439887.319287432.\n",
      "[I 2023-06-04 16:39:57,548] Trial 20 finished with value: 7472427.223319687 and parameters: {'booster': 'dart', 'gamma': 0.7428215017941507, 'max_depth': 15, 'min_child_weight': 1, 'subsample': 0.5589595656118099}. Best is trial 9 with value: 7439887.319287432.\n",
      "[I 2023-06-04 16:39:58,655] Trial 21 finished with value: 7524051.366673349 and parameters: {'booster': 'dart', 'gamma': 0.705464570502306, 'max_depth': 15, 'min_child_weight': 3, 'subsample': 0.56838705546713}. Best is trial 9 with value: 7439887.319287432.\n",
      "[I 2023-06-04 16:39:58,967] Trial 22 finished with value: 7455638.6658868175 and parameters: {'booster': 'dart', 'gamma': 0.5953011139509895, 'max_depth': 15, 'min_child_weight': 3, 'subsample': 0.5602721312311367}. Best is trial 9 with value: 7439887.319287432.\n",
      "[I 2023-06-04 16:39:59,271] Trial 23 finished with value: 7575737.333695502 and parameters: {'booster': 'dart', 'gamma': 0.8116171461907282, 'max_depth': 14, 'min_child_weight': 3, 'subsample': 0.5401101911379546}. Best is trial 9 with value: 7439887.319287432.\n",
      "[I 2023-06-04 16:39:59,295] Trial 24 finished with value: 7630674.410552911 and parameters: {'booster': 'dart', 'gamma': 1.1235567854343231, 'max_depth': 14, 'min_child_weight': 3, 'subsample': 0.5458415927229563}. Best is trial 9 with value: 7439887.319287432.\n",
      "[I 2023-06-04 16:40:00,630] Trial 25 finished with value: 7628542.211076008 and parameters: {'booster': 'dart', 'gamma': 1.2103580996708945, 'max_depth': 14, 'min_child_weight': 3, 'subsample': 0.5550397258560786}. Best is trial 9 with value: 7439887.319287432.\n",
      "[I 2023-06-04 16:40:00,863] Trial 26 finished with value: 7491202.1376198605 and parameters: {'booster': 'dart', 'gamma': 1.2359065658785342, 'max_depth': 14, 'min_child_weight': 2, 'subsample': 0.4112865817267125}. Best is trial 9 with value: 7439887.319287432.\n",
      "[I 2023-06-04 16:40:01,787] Trial 28 finished with value: 7532528.534874383 and parameters: {'booster': 'dart', 'gamma': 0.9824794123362133, 'max_depth': 16, 'min_child_weight': 1, 'subsample': 0.46311363235437225}. Best is trial 9 with value: 7439887.319287432.\n",
      "[I 2023-06-04 16:40:01,816] Trial 27 finished with value: 7464911.013234793 and parameters: {'booster': 'dart', 'gamma': 1.1123007312559492, 'max_depth': 20, 'min_child_weight': 2, 'subsample': 0.4392372576866509}. Best is trial 9 with value: 7439887.319287432.\n",
      "[I 2023-06-04 16:40:03,276] Trial 29 finished with value: 7494904.3382350085 and parameters: {'booster': 'dart', 'gamma': 1.3493171754731663, 'max_depth': 20, 'min_child_weight': 1, 'subsample': 0.4673150726749611}. Best is trial 9 with value: 7439887.319287432.\n",
      "[I 2023-06-04 16:40:03,628] Trial 30 finished with value: 7504143.995067066 and parameters: {'booster': 'dart', 'gamma': 0.03530812161191499, 'max_depth': 20, 'min_child_weight': 3, 'subsample': 0.4737312757733142}. Best is trial 9 with value: 7439887.319287432.\n",
      "[I 2023-06-04 16:40:03,879] Trial 31 finished with value: 7505487.703535673 and parameters: {'booster': 'dart', 'gamma': 1.3586199162081392, 'max_depth': 20, 'min_child_weight': 2, 'subsample': 0.46957240538725276}. Best is trial 9 with value: 7439887.319287432.\n",
      "[I 2023-06-04 16:40:03,903] Trial 32 finished with value: 7471759.386660544 and parameters: {'booster': 'dart', 'gamma': 0.1181529388049547, 'max_depth': 20, 'min_child_weight': 2, 'subsample': 0.4448550916518556}. Best is trial 9 with value: 7439887.319287432.\n",
      "[I 2023-06-04 16:40:05,208] Trial 34 finished with value: 7469990.407296625 and parameters: {'booster': 'dart', 'gamma': 1.7096417343198864, 'max_depth': 18, 'min_child_weight': 2, 'subsample': 0.4762508042787743}. Best is trial 9 with value: 7439887.319287432.\n",
      "[I 2023-06-04 16:40:05,245] Trial 33 finished with value: 7475144.736697839 and parameters: {'booster': 'dart', 'gamma': 0.009918785267975405, 'max_depth': 20, 'min_child_weight': 2, 'subsample': 0.44210356936039713}. Best is trial 9 with value: 7439887.319287432.\n",
      "[I 2023-06-04 16:40:06,268] Trial 36 finished with value: 7596973.2035049535 and parameters: {'booster': 'dart', 'gamma': 1.8849793892531745, 'max_depth': 18, 'min_child_weight': 2, 'subsample': 0.6244226998816321}. Best is trial 9 with value: 7439887.319287432.\n",
      "[I 2023-06-04 16:40:06,406] Trial 35 finished with value: 7482608.146961877 and parameters: {'booster': 'dart', 'gamma': 0.09080939545013478, 'max_depth': 20, 'min_child_weight': 2, 'subsample': 0.47455007171352714}. Best is trial 9 with value: 7439887.319287432.\n",
      "[I 2023-06-04 16:40:07,743] Trial 37 finished with value: 7597007.571057856 and parameters: {'booster': 'dart', 'gamma': 1.791552821839617, 'max_depth': 18, 'min_child_weight': 2, 'subsample': 0.6255780064068182}. Best is trial 9 with value: 7439887.319287432.\n",
      "[I 2023-06-04 16:40:08,087] Trial 38 finished with value: 7603520.331717586 and parameters: {'booster': 'dart', 'gamma': 1.6839226636985805, 'max_depth': 18, 'min_child_weight': 2, 'subsample': 0.6066386333040293}. Best is trial 9 with value: 7439887.319287432.\n",
      "[I 2023-06-04 16:40:08,330] Trial 40 finished with value: 7598594.4127259245 and parameters: {'booster': 'dart', 'gamma': 1.8705618470862158, 'max_depth': 18, 'min_child_weight': 2, 'subsample': 0.6147324078521583}. Best is trial 9 with value: 7439887.319287432.\n",
      "[I 2023-06-04 16:40:08,367] Trial 39 finished with value: 7599536.634792572 and parameters: {'booster': 'dart', 'gamma': 1.7759807057268355, 'max_depth': 18, 'min_child_weight': 2, 'subsample': 0.6172093206712849}. Best is trial 9 with value: 7439887.319287432.\n",
      "[I 2023-06-04 16:40:09,676] Trial 41 finished with value: 7598609.934522347 and parameters: {'booster': 'dart', 'gamma': 1.870953877441456, 'max_depth': 18, 'min_child_weight': 2, 'subsample': 0.6154838548804472}. Best is trial 9 with value: 7439887.319287432.\n",
      "[I 2023-06-04 16:40:09,734] Trial 42 finished with value: 7597388.13038295 and parameters: {'booster': 'dart', 'gamma': 2.1219343923019354, 'max_depth': 18, 'min_child_weight': 2, 'subsample': 0.6201063971514202}. Best is trial 9 with value: 7439887.319287432.\n",
      "[I 2023-06-04 16:40:10,641] Trial 43 finished with value: 7514363.020765966 and parameters: {'booster': 'dart', 'gamma': 0.4446947994068498, 'max_depth': 17, 'min_child_weight': 2, 'subsample': 0.49944150543313126}. Best is trial 9 with value: 7439887.319287432.\n",
      "[I 2023-06-04 16:40:10,682] Trial 44 finished with value: 7536193.168412838 and parameters: {'booster': 'dart', 'gamma': 2.146050131902874, 'max_depth': 17, 'min_child_weight': 3, 'subsample': 0.6658014634587286}. Best is trial 9 with value: 7439887.319287432.\n",
      "[I 2023-06-04 16:40:12,011] Trial 52 finished with value: 7546768.001295616 and parameters: {'booster': 'gbtree', 'gamma': 0.43717837083467764, 'max_depth': 13, 'min_child_weight': 3, 'subsample': 0.5187123524356373}. Best is trial 9 with value: 7439887.319287432.\n",
      "[I 2023-06-04 16:40:12,044] Trial 45 finished with value: 7527539.508176825 and parameters: {'booster': 'dart', 'gamma': 2.252782932289499, 'max_depth': 17, 'min_child_weight': 3, 'subsample': 0.6712703034564941}. Best is trial 9 with value: 7439887.319287432.\n",
      "[I 2023-06-04 16:40:12,447] Trial 46 finished with value: 7496083.670911911 and parameters: {'booster': 'dart', 'gamma': 0.44871460957171266, 'max_depth': 17, 'min_child_weight': 3, 'subsample': 0.5080326629604286}. Best is trial 9 with value: 7439887.319287432.\n",
      "[I 2023-06-04 16:40:12,639] Trial 47 finished with value: 7492830.0026596775 and parameters: {'booster': 'dart', 'gamma': 0.4610729525008104, 'max_depth': 17, 'min_child_weight': 3, 'subsample': 0.5071962770921887}. Best is trial 9 with value: 7439887.319287432.\n",
      "[I 2023-06-04 16:40:12,715] Trial 48 finished with value: 7503655.784824261 and parameters: {'booster': 'dart', 'gamma': 2.1368841410641157, 'max_depth': 17, 'min_child_weight': 3, 'subsample': 0.5060948820999502}. Best is trial 9 with value: 7439887.319287432.\n",
      "[I 2023-06-04 16:40:13,987] Trial 49 finished with value: 7496406.092245274 and parameters: {'booster': 'dart', 'gamma': 2.225166710155862, 'max_depth': 17, 'min_child_weight': 3, 'subsample': 0.5040810629974334}. Best is trial 9 with value: 7439887.319287432.\n",
      "[I 2023-06-04 16:40:14,028] Trial 50 finished with value: 7498713.221312668 and parameters: {'booster': 'dart', 'gamma': 0.47526014703399216, 'max_depth': 17, 'min_child_weight': 3, 'subsample': 0.5139846000145485}. Best is trial 9 with value: 7439887.319287432.\n",
      "[I 2023-06-04 16:40:14,448] Trial 55 finished with value: 7638927.492293672 and parameters: {'booster': 'gbtree', 'gamma': 1.4389903087852596, 'max_depth': 19, 'min_child_weight': 1, 'subsample': 0.41150013229511456}. Best is trial 9 with value: 7439887.319287432.\n",
      "[I 2023-06-04 16:40:14,620] Trial 56 finished with value: 7601577.3115444565 and parameters: {'booster': 'gbtree', 'gamma': 1.4256702785696018, 'max_depth': 19, 'min_child_weight': 1, 'subsample': 0.5855792010460635}. Best is trial 9 with value: 7439887.319287432.\n",
      "[I 2023-06-04 16:40:14,721] Trial 57 finished with value: 7598117.833809219 and parameters: {'booster': 'gbtree', 'gamma': 1.5447480610699096, 'max_depth': 19, 'min_child_weight': 1, 'subsample': 0.5744964909903214}. Best is trial 9 with value: 7439887.319287432.\n",
      "[I 2023-06-04 16:40:14,893] Trial 51 finished with value: 7493061.798017557 and parameters: {'booster': 'dart', 'gamma': 2.246525071639185, 'max_depth': 17, 'min_child_weight': 3, 'subsample': 0.507725378674788}. Best is trial 9 with value: 7439887.319287432.\n",
      "[I 2023-06-04 16:40:15,917] Trial 58 finished with value: 7685841.498262452 and parameters: {'booster': 'gbtree', 'gamma': 1.591308400919767, 'max_depth': 19, 'min_child_weight': 2, 'subsample': 0.4003716827148887}. Best is trial 9 with value: 7439887.319287432.\n",
      "[I 2023-06-04 16:40:16,006] Trial 59 finished with value: 7676342.749274584 and parameters: {'booster': 'gbtree', 'gamma': 1.5432000956873861, 'max_depth': 19, 'min_child_weight': 1, 'subsample': 0.4021434052966226}. Best is trial 9 with value: 7439887.319287432.\n",
      "[I 2023-06-04 16:40:16,463] Trial 53 finished with value: 7456397.041032871 and parameters: {'booster': 'dart', 'gamma': 0.9756468529090915, 'max_depth': 19, 'min_child_weight': 1, 'subsample': 0.494428641331807}. Best is trial 9 with value: 7439887.319287432.\n",
      "[I 2023-06-04 16:40:16,529] Trial 54 finished with value: 7488324.554980684 and parameters: {'booster': 'dart', 'gamma': 1.4380493519574715, 'max_depth': 19, 'min_child_weight': 1, 'subsample': 0.506424515587625}. Best is trial 9 with value: 7439887.319287432.\n",
      "[I 2023-06-04 16:40:18,132] Trial 61 finished with value: 7485354.223325616 and parameters: {'booster': 'dart', 'gamma': 0.9538817990402422, 'max_depth': 10, 'min_child_weight': 2, 'subsample': 0.4380125314468418}. Best is trial 9 with value: 7439887.319287432.\n",
      "[I 2023-06-04 16:40:18,582] Trial 63 finished with value: 7535847.278103658 and parameters: {'booster': 'dart', 'gamma': 1.0217157514791, 'max_depth': 12, 'min_child_weight': 2, 'subsample': 0.401879905708917}. Best is trial 9 with value: 7439887.319287432.\n",
      "[I 2023-06-04 16:40:18,922] Trial 60 finished with value: 7616675.48225157 and parameters: {'booster': 'dart', 'gamma': 1.0706181131340786, 'max_depth': 19, 'min_child_weight': 2, 'subsample': 0.5812062343950872}. Best is trial 9 with value: 7439887.319287432.\n",
      "[I 2023-06-04 16:40:19,119] Trial 62 finished with value: 7528118.573854425 and parameters: {'booster': 'dart', 'gamma': 1.003751161709659, 'max_depth': 19, 'min_child_weight': 2, 'subsample': 0.42827563857515627}. Best is trial 9 with value: 7439887.319287432.\n",
      "[I 2023-06-04 16:40:19,666] Trial 64 finished with value: 7500860.929680494 and parameters: {'booster': 'dart', 'gamma': 0.8374694255905145, 'max_depth': 12, 'min_child_weight': 2, 'subsample': 0.5328286495234349}. Best is trial 9 with value: 7439887.319287432.\n",
      "[I 2023-06-04 16:40:19,737] Trial 65 finished with value: 7473401.68839141 and parameters: {'booster': 'dart', 'gamma': 0.9427556645074208, 'max_depth': 12, 'min_child_weight': 2, 'subsample': 0.4384821311269259}. Best is trial 9 with value: 7439887.319287432.\n",
      "[I 2023-06-04 16:40:20,117] Trial 67 finished with value: 7455615.559608578 and parameters: {'booster': 'dart', 'gamma': 0.9990607276686774, 'max_depth': 10, 'min_child_weight': 1, 'subsample': 0.5294870405769136}. Best is trial 9 with value: 7439887.319287432.\n",
      "[I 2023-06-04 16:40:20,277] Trial 66 finished with value: 7508978.124197516 and parameters: {'booster': 'dart', 'gamma': 1.2099818483843174, 'max_depth': 12, 'min_child_weight': 1, 'subsample': 0.5391600248102514}. Best is trial 9 with value: 7439887.319287432.\n",
      "[I 2023-06-04 16:40:22,232] Trial 68 finished with value: 7501395.199088865 and parameters: {'booster': 'dart', 'gamma': 1.0472108618868394, 'max_depth': 15, 'min_child_weight': 1, 'subsample': 0.5462674719167916}. Best is trial 9 with value: 7439887.319287432.\n",
      "[I 2023-06-04 16:40:22,725] Trial 69 finished with value: 7488980.005525231 and parameters: {'booster': 'dart', 'gamma': 0.7114724929166891, 'max_depth': 15, 'min_child_weight': 1, 'subsample': 0.5414186259064608}. Best is trial 9 with value: 7439887.319287432.\n",
      "[I 2023-06-04 16:40:23,007] Trial 70 finished with value: 7451558.378935892 and parameters: {'booster': 'dart', 'gamma': 0.7764770564996273, 'max_depth': 15, 'min_child_weight': 1, 'subsample': 0.5304874240731731}. Best is trial 9 with value: 7439887.319287432.\n",
      "[I 2023-06-04 16:40:23,263] Trial 71 finished with value: 7504853.457042567 and parameters: {'booster': 'dart', 'gamma': 0.8646503826626949, 'max_depth': 15, 'min_child_weight': 1, 'subsample': 0.5399461935827183}. Best is trial 9 with value: 7439887.319287432.\n",
      "[I 2023-06-04 16:40:23,552] Trial 74 finished with value: 7470453.716175475 and parameters: {'booster': 'dart', 'gamma': 1.217665728640052, 'max_depth': 9, 'min_child_weight': 1, 'subsample': 0.48669445602068195}. Best is trial 9 with value: 7439887.319287432.\n",
      "[I 2023-06-04 16:40:23,742] Trial 75 finished with value: 7486073.330993787 and parameters: {'booster': 'dart', 'gamma': 0.6153067151491931, 'max_depth': 9, 'min_child_weight': 1, 'subsample': 0.48330199037444665}. Best is trial 9 with value: 7439887.319287432.\n",
      "[I 2023-06-04 16:40:23,795] Trial 72 finished with value: 7533736.016695878 and parameters: {'booster': 'dart', 'gamma': 1.202690459073477, 'max_depth': 15, 'min_child_weight': 1, 'subsample': 0.4557129281932212}. Best is trial 9 with value: 7439887.319287432.\n",
      "[I 2023-06-04 16:40:23,966] Trial 73 finished with value: 7482391.072851994 and parameters: {'booster': 'dart', 'gamma': 0.6261640693476509, 'max_depth': 16, 'min_child_weight': 1, 'subsample': 0.48734662244350685}. Best is trial 9 with value: 7439887.319287432.\n",
      "[I 2023-06-04 16:40:25,798] Trial 76 finished with value: 7457232.98097805 and parameters: {'booster': 'dart', 'gamma': 0.6648511713310765, 'max_depth': 10, 'min_child_weight': 1, 'subsample': 0.4793861452735506}. Best is trial 9 with value: 7439887.319287432.\n",
      "[I 2023-06-04 16:40:26,067] Trial 77 finished with value: 7459991.506689885 and parameters: {'booster': 'dart', 'gamma': 1.219596489598985, 'max_depth': 8, 'min_child_weight': 1, 'subsample': 0.4786695794893348}. Best is trial 9 with value: 7439887.319287432.\n",
      "[I 2023-06-04 16:40:26,479] Trial 78 finished with value: 7503964.720778577 and parameters: {'booster': 'dart', 'gamma': 0.6538682516387876, 'max_depth': 9, 'min_child_weight': 1, 'subsample': 0.4897513540667589}. Best is trial 9 with value: 7439887.319287432.\n",
      "[I 2023-06-04 16:40:26,821] Trial 79 finished with value: 7478966.485960028 and parameters: {'booster': 'dart', 'gamma': 0.6898834279799032, 'max_depth': 10, 'min_child_weight': 1, 'subsample': 0.48440362221945454}. Best is trial 9 with value: 7439887.319287432.\n",
      "[I 2023-06-04 16:40:27,061] Trial 80 finished with value: 7477286.030830704 and parameters: {'booster': 'dart', 'gamma': 0.5897440080908493, 'max_depth': 10, 'min_child_weight': 1, 'subsample': 0.4838498467230407}. Best is trial 9 with value: 7439887.319287432.\n",
      "[I 2023-06-04 16:40:27,837] Trial 83 finished with value: 7484189.783027969 and parameters: {'booster': 'dart', 'gamma': 0.8327686871805896, 'max_depth': 13, 'min_child_weight': 1, 'subsample': 0.56260499186372}. Best is trial 9 with value: 7439887.319287432.\n",
      "[I 2023-06-04 16:40:27,899] Trial 81 finished with value: 7531781.500808412 and parameters: {'booster': 'dart', 'gamma': 0.7889883043161681, 'max_depth': 16, 'min_child_weight': 1, 'subsample': 0.45981434986893466}. Best is trial 9 with value: 7439887.319287432.\n",
      "[I 2023-06-04 16:40:28,014] Trial 82 finished with value: 7484238.357732305 and parameters: {'booster': 'dart', 'gamma': 0.6007422444498394, 'max_depth': 16, 'min_child_weight': 1, 'subsample': 0.564139347387626}. Best is trial 9 with value: 7439887.319287432.\n",
      "[I 2023-06-04 16:40:29,286] Trial 85 finished with value: 7486365.10251966 and parameters: {'booster': 'dart', 'gamma': 0.7580694207949105, 'max_depth': 7, 'min_child_weight': 1, 'subsample': 0.5623312518665753}. Best is trial 9 with value: 7439887.319287432.\n",
      "[I 2023-06-04 16:40:29,307] Trial 84 finished with value: 7539547.066664403 and parameters: {'booster': 'dart', 'gamma': 0.26046047254590454, 'max_depth': 10, 'min_child_weight': 1, 'subsample': 0.5682102022260339}. Best is trial 9 with value: 7439887.319287432.\n",
      "[I 2023-06-04 16:40:29,885] Trial 87 finished with value: 7556146.882350088 and parameters: {'booster': 'dart', 'gamma': 0.21926924855175367, 'max_depth': 6, 'min_child_weight': 1, 'subsample': 0.5241953966300715}. Best is trial 9 with value: 7439887.319287432.\n",
      "[I 2023-06-04 16:40:29,956] Trial 86 finished with value: 7480591.087906794 and parameters: {'booster': 'dart', 'gamma': 0.23828958816717138, 'max_depth': 10, 'min_child_weight': 1, 'subsample': 0.5590922093518755}. Best is trial 9 with value: 7439887.319287432.\n",
      "[I 2023-06-04 16:40:30,225] Trial 88 finished with value: 7498341.9246791145 and parameters: {'booster': 'dart', 'gamma': 0.8681038835673298, 'max_depth': 7, 'min_child_weight': 1, 'subsample': 0.5238400625969105}. Best is trial 9 with value: 7439887.319287432.\n",
      "[I 2023-06-04 16:40:30,918] Trial 89 finished with value: 7576640.839691229 and parameters: {'booster': 'dart', 'gamma': 0.8101101619544596, 'max_depth': 7, 'min_child_weight': 1, 'subsample': 0.5201284961525894}. Best is trial 9 with value: 7439887.319287432.\n",
      "[I 2023-06-04 16:40:30,999] Trial 90 finished with value: 7501696.043455954 and parameters: {'booster': 'dart', 'gamma': 0.27123085460090757, 'max_depth': 7, 'min_child_weight': 1, 'subsample': 0.5227781928037905}. Best is trial 9 with value: 7439887.319287432.\n",
      "[I 2023-06-04 16:40:31,095] Trial 91 finished with value: 7462830.658749073 and parameters: {'booster': 'dart', 'gamma': 0.25070169554587535, 'max_depth': 7, 'min_child_weight': 1, 'subsample': 0.5263707565538401}. Best is trial 9 with value: 7439887.319287432.\n",
      "[I 2023-06-04 16:40:32,443] Trial 92 finished with value: 7492829.902396027 and parameters: {'booster': 'dart', 'gamma': 0.22470507033353937, 'max_depth': 8, 'min_child_weight': 1, 'subsample': 0.5217949295859959}. Best is trial 9 with value: 7439887.319287432.\n",
      "[I 2023-06-04 16:40:32,776] Trial 93 finished with value: 7484183.4939951105 and parameters: {'booster': 'dart', 'gamma': 1.127839647650851, 'max_depth': 11, 'min_child_weight': 1, 'subsample': 0.5310449140173938}. Best is trial 9 with value: 7439887.319287432.\n",
      "[I 2023-06-04 16:40:33,084] Trial 94 finished with value: 7450408.148605111 and parameters: {'booster': 'dart', 'gamma': 1.0816167187715018, 'max_depth': 8, 'min_child_weight': 1, 'subsample': 0.5248517725406067}. Best is trial 9 with value: 7439887.319287432.\n",
      "[I 2023-06-04 16:40:33,132] Trial 95 finished with value: 7644413.033756079 and parameters: {'booster': 'dart', 'gamma': 1.1220337459611742, 'max_depth': 8, 'min_child_weight': 1, 'subsample': 0.5925671730740395}. Best is trial 9 with value: 7439887.319287432.\n",
      "[I 2023-06-04 16:40:33,752] Trial 96 finished with value: 7486609.732201448 and parameters: {'booster': 'dart', 'gamma': 1.0824614000118764, 'max_depth': 11, 'min_child_weight': 1, 'subsample': 0.5229474895900866}. Best is trial 9 with value: 7439887.319287432.\n",
      "[I 2023-06-04 16:40:34,339] Trial 99 finished with value: 7660078.408295823 and parameters: {'booster': 'dart', 'gamma': 0.5188589293279007, 'max_depth': 8, 'min_child_weight': 1, 'subsample': 0.5960376602686374}. Best is trial 9 with value: 7439887.319287432.\n",
      "[I 2023-06-04 16:40:34,451] Trial 97 finished with value: 7536767.30388286 and parameters: {'booster': 'dart', 'gamma': 1.2926988065289837, 'max_depth': 11, 'min_child_weight': 1, 'subsample': 0.45744715854551415}. Best is trial 9 with value: 7439887.319287432.\n",
      "[I 2023-06-04 16:40:34,528] Trial 98 finished with value: 7530736.888073111 and parameters: {'booster': 'dart', 'gamma': 1.3096205823099127, 'max_depth': 11, 'min_child_weight': 1, 'subsample': 0.4635031316945641}. Best is trial 9 with value: 7439887.319287432.\n",
      "[I 2023-06-04 16:40:35,336] Trial 100 finished with value: 7473824.141122982 and parameters: {'booster': 'dart', 'gamma': 0.5107864777653098, 'max_depth': 4, 'min_child_weight': 1, 'subsample': 0.4940351116097613}. Best is trial 9 with value: 7439887.319287432.\n",
      "[I 2023-06-04 16:40:35,769] Trial 101 finished with value: 7477718.738614855 and parameters: {'booster': 'dart', 'gamma': 0.3787053266876752, 'max_depth': 5, 'min_child_weight': 1, 'subsample': 0.49510291991517597}. Best is trial 9 with value: 7439887.319287432.\n",
      "[I 2023-06-04 16:40:36,078] Trial 102 finished with value: 7637450.164104537 and parameters: {'booster': 'dart', 'gamma': 0.33950101684636547, 'max_depth': 5, 'min_child_weight': 1, 'subsample': 0.5904498342446579}. Best is trial 9 with value: 7439887.319287432.\n",
      "[I 2023-06-04 16:40:36,599] Trial 104 finished with value: 7478658.484390629 and parameters: {'booster': 'dart', 'gamma': 0.3682133524419879, 'max_depth': 4, 'min_child_weight': 1, 'subsample': 0.495915288449697}. Best is trial 9 with value: 7439887.319287432.\n",
      "[I 2023-06-04 16:40:36,930] Trial 103 finished with value: 7434353.711506623 and parameters: {'booster': 'dart', 'gamma': 0.955966253233209, 'max_depth': 13, 'min_child_weight': 1, 'subsample': 0.5489749993161848}. Best is trial 103 with value: 7434353.711506623.\n",
      "[I 2023-06-04 16:40:37,409] Trial 105 finished with value: 7474773.270844651 and parameters: {'booster': 'dart', 'gamma': 0.3650181057803409, 'max_depth': 6, 'min_child_weight': 1, 'subsample': 0.4966644268382457}. Best is trial 103 with value: 7434353.711506623.\n",
      "[I 2023-06-04 16:40:37,427] Trial 106 finished with value: 7515081.93821302 and parameters: {'booster': 'dart', 'gamma': 0.8953831245992059, 'max_depth': 5, 'min_child_weight': 1, 'subsample': 0.5516353569124554}. Best is trial 103 with value: 7434353.711506623.\n",
      "[I 2023-06-04 16:40:37,545] Trial 107 finished with value: 7469365.411181318 and parameters: {'booster': 'dart', 'gamma': 0.3872815395355388, 'max_depth': 5, 'min_child_weight': 1, 'subsample': 0.5496377871307415}. Best is trial 103 with value: 7434353.711506623.\n",
      "[I 2023-06-04 16:40:38,864] Trial 115 finished with value: 7610485.684609655 and parameters: {'booster': 'gbtree', 'gamma': 0.9115909422074827, 'max_depth': 13, 'min_child_weight': 1, 'subsample': 0.5798674041453165}. Best is trial 103 with value: 7434353.711506623.\n",
      "[I 2023-06-04 16:40:38,880] Trial 114 finished with value: 7598347.2742507635 and parameters: {'booster': 'gbtree', 'gamma': 0.9465454055786067, 'max_depth': 14, 'min_child_weight': 1, 'subsample': 0.5760098817440658}. Best is trial 103 with value: 7434353.711506623.\n",
      "[I 2023-06-04 16:40:39,081] Trial 108 finished with value: 7578573.399964322 and parameters: {'booster': 'dart', 'gamma': 0.9440680866306428, 'max_depth': 13, 'min_child_weight': 3, 'subsample': 0.5498560363161008}. Best is trial 103 with value: 7434353.711506623.\n",
      "[I 2023-06-04 16:40:39,108] Trial 109 finished with value: 7630357.24514683 and parameters: {'booster': 'dart', 'gamma': 0.9151961784300982, 'max_depth': 9, 'min_child_weight': 3, 'subsample': 0.5552811696141837}. Best is trial 103 with value: 7434353.711506623.\n",
      "[I 2023-06-04 16:40:39,687] Trial 111 finished with value: 7519817.795397222 and parameters: {'booster': 'dart', 'gamma': 0.9728394877282123, 'max_depth': 6, 'min_child_weight': 3, 'subsample': 0.47576215968204827}. Best is trial 103 with value: 7434353.711506623.\n",
      "[I 2023-06-04 16:40:39,819] Trial 110 finished with value: 7568465.46757888 and parameters: {'booster': 'dart', 'gamma': 0.9130340904634335, 'max_depth': 13, 'min_child_weight': 3, 'subsample': 0.5486831504341168}. Best is trial 103 with value: 7434353.711506623.\n",
      "[I 2023-06-04 16:40:40,894] Trial 112 finished with value: 7440943.964178157 and parameters: {'booster': 'dart', 'gamma': 0.9063098802084137, 'max_depth': 14, 'min_child_weight': 1, 'subsample': 0.5490989708390852}. Best is trial 103 with value: 7434353.711506623.\n",
      "[I 2023-06-04 16:40:41,273] Trial 113 finished with value: 7485148.364389854 and parameters: {'booster': 'dart', 'gamma': 0.9229923176777757, 'max_depth': 13, 'min_child_weight': 1, 'subsample': 0.5565890655204632}. Best is trial 103 with value: 7434353.711506623.\n",
      "[I 2023-06-04 16:40:42,326] Trial 117 finished with value: 7561816.672766949 and parameters: {'booster': 'dart', 'gamma': 0.7014588435700986, 'max_depth': 9, 'min_child_weight': 3, 'subsample': 0.5354111135964653}. Best is trial 103 with value: 7434353.711506623.\n",
      "[I 2023-06-04 16:40:42,844] Trial 116 finished with value: 7564828.198885684 and parameters: {'booster': 'dart', 'gamma': 0.7461602457803121, 'max_depth': 14, 'min_child_weight': 3, 'subsample': 0.5356553970068356}. Best is trial 103 with value: 7434353.711506623.\n",
      "[I 2023-06-04 16:40:43,031] Trial 118 finished with value: 7492948.310222432 and parameters: {'booster': 'dart', 'gamma': 0.7274064218971709, 'max_depth': 14, 'min_child_weight': 3, 'subsample': 0.4754154348053059}. Best is trial 103 with value: 7434353.711506623.\n",
      "[I 2023-06-04 16:40:43,671] Trial 119 finished with value: 7460691.842866674 and parameters: {'booster': 'dart', 'gamma': 0.734438923613566, 'max_depth': 20, 'min_child_weight': 1, 'subsample': 0.533443077439227}. Best is trial 103 with value: 7434353.711506623.\n",
      "[I 2023-06-04 16:40:44,253] Trial 120 finished with value: 7433385.569941708 and parameters: {'booster': 'dart', 'gamma': 0.7347887392370638, 'max_depth': 20, 'min_child_weight': 1, 'subsample': 0.5355079348379447}. Best is trial 120 with value: 7433385.569941708.\n",
      "[I 2023-06-04 16:40:44,414] Trial 121 finished with value: 7572290.918679615 and parameters: {'booster': 'dart', 'gamma': 0.7306797168065207, 'max_depth': 20, 'min_child_weight': 1, 'subsample': 0.5142804607535129}. Best is trial 120 with value: 7433385.569941708.\n",
      "[I 2023-06-04 16:40:44,942] Trial 122 finished with value: 7431984.568011219 and parameters: {'booster': 'dart', 'gamma': 0.7608123023582499, 'max_depth': 14, 'min_child_weight': 1, 'subsample': 0.5349553341653134}. Best is trial 122 with value: 7431984.568011219.\n",
      "[I 2023-06-04 16:40:45,253] Trial 123 finished with value: 7488628.331646984 and parameters: {'booster': 'dart', 'gamma': 0.7469984907483431, 'max_depth': 14, 'min_child_weight': 1, 'subsample': 0.5085330582723744}. Best is trial 122 with value: 7431984.568011219.\n",
      "[I 2023-06-04 16:40:46,318] Trial 124 finished with value: 7486043.373469406 and parameters: {'booster': 'dart', 'gamma': 0.7499732651351031, 'max_depth': 14, 'min_child_weight': 1, 'subsample': 0.5110529375223055}. Best is trial 122 with value: 7431984.568011219.\n",
      "[I 2023-06-04 16:40:46,775] Trial 125 finished with value: 7488289.395323494 and parameters: {'booster': 'dart', 'gamma': 0.5644387488673674, 'max_depth': 14, 'min_child_weight': 1, 'subsample': 0.5067324924814349}. Best is trial 122 with value: 7431984.568011219.\n",
      "[I 2023-06-04 16:40:46,987] Trial 126 finished with value: 7488347.488453172 and parameters: {'booster': 'dart', 'gamma': 1.1491900912711814, 'max_depth': 14, 'min_child_weight': 1, 'subsample': 0.5057547083189889}. Best is trial 122 with value: 7431984.568011219.\n",
      "[I 2023-06-04 16:40:48,262] Trial 127 finished with value: 7487402.639202193 and parameters: {'booster': 'dart', 'gamma': 1.180067372100405, 'max_depth': 20, 'min_child_weight': 1, 'subsample': 0.5149938144886479}. Best is trial 122 with value: 7431984.568011219.\n",
      "[I 2023-06-04 16:40:48,913] Trial 128 finished with value: 7570688.561102524 and parameters: {'booster': 'dart', 'gamma': 1.1446378814490095, 'max_depth': 20, 'min_child_weight': 1, 'subsample': 0.5157776371826466}. Best is trial 122 with value: 7431984.568011219.\n",
      "[I 2023-06-04 16:40:49,074] Trial 130 finished with value: 7517825.986346988 and parameters: {'booster': 'dart', 'gamma': 1.031982631575491, 'max_depth': 14, 'min_child_weight': 1, 'subsample': 0.5108096254272227}. Best is trial 122 with value: 7431984.568011219.\n",
      "[I 2023-06-04 16:40:49,112] Trial 129 finished with value: 7488616.1622381825 and parameters: {'booster': 'dart', 'gamma': 0.5361561008457245, 'max_depth': 20, 'min_child_weight': 1, 'subsample': 0.507268990070106}. Best is trial 122 with value: 7431984.568011219.\n",
      "[I 2023-06-04 16:40:49,565] Trial 131 finished with value: 7559148.087153892 and parameters: {'booster': 'dart', 'gamma': 0.5725219344350194, 'max_depth': 15, 'min_child_weight': 1, 'subsample': 0.5747685396649417}. Best is trial 122 with value: 7431984.568011219.\n",
      "[I 2023-06-04 16:40:50,823] Trial 132 finished with value: 7582842.088794969 and parameters: {'booster': 'dart', 'gamma': 0.5675148550689716, 'max_depth': 15, 'min_child_weight': 1, 'subsample': 0.5714269041802656}. Best is trial 122 with value: 7431984.568011219.\n",
      "[I 2023-06-04 16:40:51,332] Trial 133 finished with value: 7582948.439380368 and parameters: {'booster': 'dart', 'gamma': 1.0717636773662838, 'max_depth': 15, 'min_child_weight': 1, 'subsample': 0.5714284440748915}. Best is trial 122 with value: 7431984.568011219.\n",
      "[I 2023-06-04 16:40:51,615] Trial 134 finished with value: 7636999.791465641 and parameters: {'booster': 'dart', 'gamma': 0.5078018959073323, 'max_depth': 15, 'min_child_weight': 1, 'subsample': 0.5696145669247721}. Best is trial 122 with value: 7431984.568011219.\n",
      "[I 2023-06-04 16:40:52,933] Trial 135 finished with value: 7578671.091970953 and parameters: {'booster': 'dart', 'gamma': 1.0443033219097233, 'max_depth': 15, 'min_child_weight': 1, 'subsample': 0.5706973394062906}. Best is trial 122 with value: 7431984.568011219.\n",
      "[I 2023-06-04 16:40:53,601] Trial 136 finished with value: 7559111.618814565 and parameters: {'booster': 'dart', 'gamma': 0.5787941249280223, 'max_depth': 15, 'min_child_weight': 1, 'subsample': 0.5748783636491573}. Best is trial 122 with value: 7431984.568011219.\n",
      "[I 2023-06-04 16:40:53,796] Trial 137 finished with value: 7577617.742220376 and parameters: {'booster': 'dart', 'gamma': 0.5354289123540569, 'max_depth': 15, 'min_child_weight': 1, 'subsample': 0.5719974535899267}. Best is trial 122 with value: 7431984.568011219.\n",
      "[I 2023-06-04 16:40:53,843] Trial 138 finished with value: 7537988.595212688 and parameters: {'booster': 'dart', 'gamma': 0.642351069318831, 'max_depth': 15, 'min_child_weight': 1, 'subsample': 0.5681870453098411}. Best is trial 122 with value: 7431984.568011219.\n",
      "[I 2023-06-04 16:40:54,581] Trial 139 finished with value: 7507472.491696524 and parameters: {'booster': 'dart', 'gamma': 1.0456247661736429, 'max_depth': 19, 'min_child_weight': 1, 'subsample': 0.5397343688362717}. Best is trial 122 with value: 7431984.568011219.\n",
      "[I 2023-06-04 16:40:56,008] Trial 140 finished with value: 7488980.202860919 and parameters: {'booster': 'dart', 'gamma': 1.016330232601045, 'max_depth': 16, 'min_child_weight': 1, 'subsample': 0.5418082796831125}. Best is trial 122 with value: 7431984.568011219.\n",
      "[I 2023-06-04 16:40:56,684] Trial 141 finished with value: 7435053.243135499 and parameters: {'booster': 'dart', 'gamma': 0.8302774713491592, 'max_depth': 16, 'min_child_weight': 1, 'subsample': 0.5384692967926619}. Best is trial 122 with value: 7431984.568011219.\n",
      "[I 2023-06-04 16:40:57,190] Trial 142 finished with value: 7460711.409966542 and parameters: {'booster': 'dart', 'gamma': 0.819494951986034, 'max_depth': 19, 'min_child_weight': 1, 'subsample': 0.5330688478164564}. Best is trial 122 with value: 7431984.568011219.\n",
      "[I 2023-06-04 16:40:58,129] Trial 143 finished with value: 7462311.7887181165 and parameters: {'booster': 'dart', 'gamma': 0.8380137396563996, 'max_depth': 19, 'min_child_weight': 1, 'subsample': 0.5342978291476629}. Best is trial 122 with value: 7431984.568011219.\n",
      "[I 2023-06-04 16:40:58,523] Trial 144 finished with value: 7433387.95769846 and parameters: {'booster': 'dart', 'gamma': 0.8012416904760624, 'max_depth': 19, 'min_child_weight': 1, 'subsample': 0.5355933759720967}. Best is trial 122 with value: 7431984.568011219.\n",
      "[I 2023-06-04 16:40:58,625] Trial 145 finished with value: 7485164.668448408 and parameters: {'booster': 'dart', 'gamma': 0.8303770720031137, 'max_depth': 19, 'min_child_weight': 1, 'subsample': 0.5322523404748122}. Best is trial 122 with value: 7431984.568011219.\n",
      "[I 2023-06-04 16:40:58,672] Trial 146 finished with value: 7429463.973731439 and parameters: {'booster': 'dart', 'gamma': 0.8199863830436156, 'max_depth': 19, 'min_child_weight': 1, 'subsample': 0.5369020152431427}. Best is trial 146 with value: 7429463.973731439.\n",
      "[I 2023-06-04 16:40:58,834] Trial 148 finished with value: 7480210.01594082 and parameters: {'booster': 'dart', 'gamma': 0.8597128311528351, 'max_depth': 8, 'min_child_weight': 1, 'subsample': 0.531111688784678}. Best is trial 146 with value: 7429463.973731439.\n",
      "[I 2023-06-04 16:40:58,840] Trial 147 finished with value: 7453070.80462121 and parameters: {'booster': 'dart', 'gamma': 0.8100885052383842, 'max_depth': 16, 'min_child_weight': 1, 'subsample': 0.5309222585320225}. Best is trial 146 with value: 7429463.973731439.\n",
      "[I 2023-06-04 16:40:59,101] Trial 149 finished with value: 7429525.569826913 and parameters: {'booster': 'dart', 'gamma': 0.8414907519235568, 'max_depth': 19, 'min_child_weight': 1, 'subsample': 0.5366848182095612}. Best is trial 146 with value: 7429463.973731439.\n"
     ]
    }
   ],
   "source": [
    "from sklearn.metrics import mean_squared_error, r2_score\n",
    "from xgboost import XGBRegressor\n",
    "import optuna\n",
    "\n",
    "# objective function to be minimized\n",
    "def objective_fun(trial):\n",
    "\n",
    "    booster = trial.suggest_categorical('booster', ['gbtree', 'dart'])\n",
    "    gamma = trial.suggest_float('gamma', 0, 5)\n",
    "    max_depth = trial.suggest_int('max_depth', 3, 20)\n",
    "    min_child_weight = trial.suggest_int('min_child_weight', 1, 3)\n",
    "    subsample = trial.suggest_float('subsample', 0.4, 1)\n",
    "\n",
    "    xgb = XGBRegressor(booster=booster, gamma=gamma, max_depth=max_depth, min_child_weight=min_child_weight, subsample=subsample)\n",
    "\n",
    "    xgb.fit(X_train, y_train)\n",
    "    y_pred = xgb.predict(X_valid)\n",
    "\n",
    "    error = mean_squared_error(y_valid, y_pred)\n",
    "\n",
    "    return error\n",
    "\n",
    "\n",
    "study = optuna.create_study()\n",
    "study.optimize(objective_fun, n_trials=150, n_jobs=-1)"
   ],
   "metadata": {
    "collapsed": false,
    "ExecuteTime": {
     "end_time": "2023-06-04T14:40:59.104959Z",
     "start_time": "2023-06-04T14:39:49.277390Z"
    }
   }
  },
  {
   "cell_type": "code",
   "execution_count": 23,
   "outputs": [
    {
     "name": "stdout",
     "output_type": "stream",
     "text": [
      "{'booster': 'dart', 'gamma': 0.8199863830436156, 'max_depth': 19, 'min_child_weight': 1, 'subsample': 0.5369020152431427}\n",
      "Root mean squared error = 9281.2573\n",
      "R-squared = 0.8963\n"
     ]
    }
   ],
   "source": [
    "best_params = study.best_params\n",
    "\n",
    "xgb = XGBRegressor(**best_params)\n",
    "xgb.fit(X_train, y_train)\n",
    "\n",
    "y_pred_test = xgb.predict(X_test)\n",
    "\n",
    "print(best_params)\n",
    "print('Root mean squared error = %.4f' % np.sqrt(mean_squared_error(y_test, y_pred_test)))\n",
    "print('R-squared = %.4f' % r2_score(y_test, y_pred_test))"
   ],
   "metadata": {
    "collapsed": false,
    "ExecuteTime": {
     "end_time": "2023-06-04T14:40:59.551920Z",
     "start_time": "2023-06-04T14:40:59.107631Z"
    }
   }
  },
  {
   "cell_type": "code",
   "execution_count": 24,
   "outputs": [
    {
     "data": {
      "text/plain": "       test           pred\n0    161762  155354.906250\n1    155355  148948.984375\n2    160160  153753.203125\n3    158558  152152.281250\n4    176176  168168.031250\n..      ...            ...\n614  219419  209809.437500\n615  217817  208207.843750\n616  206606  196997.078125\n617  203404  193793.953125\n618  213013  203403.171875\n\n[619 rows x 2 columns]",
      "text/html": "<div>\n<style scoped>\n    .dataframe tbody tr th:only-of-type {\n        vertical-align: middle;\n    }\n\n    .dataframe tbody tr th {\n        vertical-align: top;\n    }\n\n    .dataframe thead th {\n        text-align: right;\n    }\n</style>\n<table border=\"1\" class=\"dataframe\">\n  <thead>\n    <tr style=\"text-align: right;\">\n      <th></th>\n      <th>test</th>\n      <th>pred</th>\n    </tr>\n  </thead>\n  <tbody>\n    <tr>\n      <th>0</th>\n      <td>161762</td>\n      <td>155354.906250</td>\n    </tr>\n    <tr>\n      <th>1</th>\n      <td>155355</td>\n      <td>148948.984375</td>\n    </tr>\n    <tr>\n      <th>2</th>\n      <td>160160</td>\n      <td>153753.203125</td>\n    </tr>\n    <tr>\n      <th>3</th>\n      <td>158558</td>\n      <td>152152.281250</td>\n    </tr>\n    <tr>\n      <th>4</th>\n      <td>176176</td>\n      <td>168168.031250</td>\n    </tr>\n    <tr>\n      <th>...</th>\n      <td>...</td>\n      <td>...</td>\n    </tr>\n    <tr>\n      <th>614</th>\n      <td>219419</td>\n      <td>209809.437500</td>\n    </tr>\n    <tr>\n      <th>615</th>\n      <td>217817</td>\n      <td>208207.843750</td>\n    </tr>\n    <tr>\n      <th>616</th>\n      <td>206606</td>\n      <td>196997.078125</td>\n    </tr>\n    <tr>\n      <th>617</th>\n      <td>203404</td>\n      <td>193793.953125</td>\n    </tr>\n    <tr>\n      <th>618</th>\n      <td>213013</td>\n      <td>203403.171875</td>\n    </tr>\n  </tbody>\n</table>\n<p>619 rows × 2 columns</p>\n</div>"
     },
     "execution_count": 24,
     "metadata": {},
     "output_type": "execute_result"
    }
   ],
   "source": [
    "pd.DataFrame({'test' : y_test, 'pred': y_pred_test})"
   ],
   "metadata": {
    "collapsed": false,
    "ExecuteTime": {
     "end_time": "2023-06-04T14:40:59.561542Z",
     "start_time": "2023-06-04T14:40:59.558215Z"
    }
   }
  },
  {
   "cell_type": "code",
   "execution_count": 27,
   "outputs": [
    {
     "name": "stderr",
     "output_type": "stream",
     "text": [
      "[I 2023-06-04 16:51:36,334] A new study created in memory with name: no-name-8528a4e8-f5e1-4f20-a779-688ad6858413\n"
     ]
    },
    {
     "name": "stdout",
     "output_type": "stream",
     "text": [
      "15/15 [==============================] - 0s 2ms/step\n",
      " 6/15 [===========>..................] - ETA: 0s"
     ]
    },
    {
     "name": "stderr",
     "output_type": "stream",
     "text": [
      "[I 2023-06-04 16:51:37,506] Trial 4 finished with value: 39037813059.73816 and parameters: {'activation': 'elu', 'optimizer': 'adagrad', 'loss': 'mean_squared_error', 'units': 64, 'epochs': 3, 'batch_size': 128}. Best is trial 4 with value: 39037813059.73816.\n"
     ]
    },
    {
     "name": "stdout",
     "output_type": "stream",
     "text": [
      "15/15 [==============================] - 0s 6ms/step\n",
      " 1/15 [=>............................] - ETA: 0sWARNING:tensorflow:5 out of the last 19 calls to <function Model.make_predict_function.<locals>.predict_function at 0x2b536eb80> triggered tf.function retracing. Tracing is expensive and the excessive number of tracings could be due to (1) creating @tf.function repeatedly in a loop, (2) passing tensors with different shapes, (3) passing Python objects instead of tensors. For (1), please define your @tf.function outside of the loop. For (2), @tf.function has reduce_retracing=True option that can avoid unnecessary retracing. For (3), please refer to https://www.tensorflow.org/guide/function#controlling_retracing and https://www.tensorflow.org/api_docs/python/tf/function for  more details.\n",
      " 1/15 [=>............................] - ETA: 0s"
     ]
    },
    {
     "name": "stderr",
     "output_type": "stream",
     "text": [
      "[I 2023-06-04 16:51:37,582] Trial 5 finished with value: 39037919647.14098 and parameters: {'activation': 'elu', 'optimizer': 'adagrad', 'loss': 'mean_squared_error', 'units': 64, 'epochs': 3, 'batch_size': 128}. Best is trial 4 with value: 39037813059.73816.\n"
     ]
    },
    {
     "name": "stdout",
     "output_type": "stream",
     "text": [
      "15/15 [==============================] - 0s 3ms/step\n",
      "15/15 [==============================] - 0s 3ms/step\n",
      "15/15 [==============================] - 0s 5ms/step\n",
      "15/15 [==============================] - 0s 6ms/step\n"
     ]
    },
    {
     "name": "stderr",
     "output_type": "stream",
     "text": [
      "[I 2023-06-04 16:51:37,688] Trial 0 finished with value: 39037283081.30689 and parameters: {'activation': 'elu', 'optimizer': 'adam', 'loss': 'mean_squared_error', 'units': 64, 'epochs': 5, 'batch_size': 128}. Best is trial 0 with value: 39037283081.30689.\n",
      "[I 2023-06-04 16:51:37,693] Trial 1 finished with value: 39037673255.29984 and parameters: {'activation': 'relu', 'optimizer': 'rmsprop', 'loss': 'mean_squared_error', 'units': 64, 'epochs': 4, 'batch_size': 128}. Best is trial 0 with value: 39037283081.30689.\n"
     ]
    },
    {
     "name": "stdout",
     "output_type": "stream",
     "text": [
      " 1/15 [=>............................] - ETA: 0s"
     ]
    },
    {
     "name": "stderr",
     "output_type": "stream",
     "text": [
      "[I 2023-06-04 16:51:37,696] Trial 3 finished with value: 39037758002.414276 and parameters: {'activation': 'relu', 'optimizer': 'adam', 'loss': 'mean_squared_error', 'units': 64, 'epochs': 3, 'batch_size': 64}. Best is trial 0 with value: 39037283081.30689.\n",
      "[I 2023-06-04 16:51:37,736] Trial 7 finished with value: 39037535410.148056 and parameters: {'activation': 'elu', 'optimizer': 'adam', 'loss': 'mean_squared_error', 'units': 32, 'epochs': 6, 'batch_size': 128}. Best is trial 0 with value: 39037283081.30689.\n"
     ]
    },
    {
     "name": "stdout",
     "output_type": "stream",
     "text": [
      "15/15 [==============================] - 0s 11ms/step\n"
     ]
    },
    {
     "name": "stderr",
     "output_type": "stream",
     "text": [
      "[I 2023-06-04 16:51:38,029] Trial 2 finished with value: 39037147898.14954 and parameters: {'activation': 'elu', 'optimizer': 'adam', 'loss': 'mean_squared_error', 'units': 32, 'epochs': 4, 'batch_size': 64}. Best is trial 2 with value: 39037147898.14954.\n"
     ]
    },
    {
     "name": "stdout",
     "output_type": "stream",
     "text": [
      "15/15 [==============================] - 0s 13ms/step\n"
     ]
    },
    {
     "name": "stderr",
     "output_type": "stream",
     "text": [
      "[I 2023-06-04 16:51:38,502] Trial 6 finished with value: 39037052402.41663 and parameters: {'activation': 'tanh', 'optimizer': 'rmsprop', 'loss': 'mean_squared_error', 'units': 32, 'epochs': 5, 'batch_size': 64}. Best is trial 6 with value: 39037052402.41663.\n"
     ]
    },
    {
     "name": "stdout",
     "output_type": "stream",
     "text": [
      "15/15 [==============================] - 0s 5ms/step\n"
     ]
    },
    {
     "name": "stderr",
     "output_type": "stream",
     "text": [
      "[I 2023-06-04 16:51:38,896] Trial 11 finished with value: 39037614812.01067 and parameters: {'activation': 'elu', 'optimizer': 'adam', 'loss': 'mean_squared_error', 'units': 64, 'epochs': 3, 'batch_size': 128}. Best is trial 6 with value: 39037052402.41663.\n"
     ]
    },
    {
     "name": "stdout",
     "output_type": "stream",
     "text": [
      "15/15 [==============================] - 0s 2ms/step\n"
     ]
    },
    {
     "name": "stderr",
     "output_type": "stream",
     "text": [
      "[I 2023-06-04 16:51:39,119] Trial 13 finished with value: 39037765100.66655 and parameters: {'activation': 'relu', 'optimizer': 'rmsprop', 'loss': 'mean_squared_error', 'units': 32, 'epochs': 4, 'batch_size': 128}. Best is trial 6 with value: 39037052402.41663.\n"
     ]
    },
    {
     "name": "stdout",
     "output_type": "stream",
     "text": [
      "15/15 [==============================] - 0s 4ms/step\n"
     ]
    },
    {
     "name": "stderr",
     "output_type": "stream",
     "text": [
      "[I 2023-06-04 16:51:39,267] Trial 14 finished with value: 39037410430.12853 and parameters: {'activation': 'elu', 'optimizer': 'adam', 'loss': 'mean_squared_error', 'units': 64, 'epochs': 4, 'batch_size': 128}. Best is trial 6 with value: 39037052402.41663.\n"
     ]
    },
    {
     "name": "stdout",
     "output_type": "stream",
     "text": [
      "15/15 [==============================] - 0s 9ms/step\n",
      "15/15 [==============================] - 0s 9ms/step\n"
     ]
    },
    {
     "name": "stderr",
     "output_type": "stream",
     "text": [
      "[I 2023-06-04 16:51:39,518] Trial 10 finished with value: 39036870404.95145 and parameters: {'activation': 'elu', 'optimizer': 'adam', 'loss': 'mean_squared_error', 'units': 32, 'epochs': 5, 'batch_size': 64}. Best is trial 10 with value: 39036870404.95145.\n"
     ]
    },
    {
     "name": "stdout",
     "output_type": "stream",
     "text": [
      "15/15 [==============================] - 1s 13ms/step\n",
      " 7/15 [=============>................] - ETA: 0s"
     ]
    },
    {
     "name": "stderr",
     "output_type": "stream",
     "text": [
      "[I 2023-06-04 16:51:39,651] Trial 8 finished with value: 39036299858.517624 and parameters: {'activation': 'tanh', 'optimizer': 'adam', 'loss': 'mean_squared_error', 'units': 32, 'epochs': 7, 'batch_size': 64}. Best is trial 8 with value: 39036299858.517624.\n"
     ]
    },
    {
     "name": "stdout",
     "output_type": "stream",
     "text": [
      "12/15 [=======================>......] - ETA: 0s"
     ]
    },
    {
     "name": "stderr",
     "output_type": "stream",
     "text": [
      "[I 2023-06-04 16:51:39,657] Trial 9 finished with value: 39037946614.69201 and parameters: {'activation': 'relu', 'optimizer': 'adagrad', 'loss': 'mean_squared_error', 'units': 64, 'epochs': 6, 'batch_size': 128}. Best is trial 8 with value: 39036299858.517624.\n"
     ]
    },
    {
     "name": "stdout",
     "output_type": "stream",
     "text": [
      "15/15 [==============================] - 0s 15ms/step\n",
      " 8/15 [===============>..............] - ETA: 0s"
     ]
    },
    {
     "name": "stderr",
     "output_type": "stream",
     "text": [
      "[I 2023-06-04 16:51:39,818] Trial 12 finished with value: 39036222731.82742 and parameters: {'activation': 'elu', 'optimizer': 'rmsprop', 'loss': 'mean_squared_error', 'units': 32, 'epochs': 7, 'batch_size': 64}. Best is trial 12 with value: 39036222731.82742.\n"
     ]
    },
    {
     "name": "stdout",
     "output_type": "stream",
     "text": [
      "15/15 [==============================] - 0s 13ms/step\n"
     ]
    },
    {
     "name": "stderr",
     "output_type": "stream",
     "text": [
      "[I 2023-06-04 16:51:40,058] Trial 15 finished with value: 39037282223.48274 and parameters: {'activation': 'tanh', 'optimizer': 'rmsprop', 'loss': 'mean_squared_error', 'units': 32, 'epochs': 7, 'batch_size': 128}. Best is trial 12 with value: 39036222731.82742.\n"
     ]
    },
    {
     "name": "stdout",
     "output_type": "stream",
     "text": [
      "15/15 [==============================] - 0s 5ms/step\n"
     ]
    },
    {
     "name": "stderr",
     "output_type": "stream",
     "text": [
      "[I 2023-06-04 16:51:40,483] Trial 16 finished with value: 39037708483.0904 and parameters: {'activation': 'relu', 'optimizer': 'adagrad', 'loss': 'mean_squared_error', 'units': 64, 'epochs': 6, 'batch_size': 64}. Best is trial 12 with value: 39036222731.82742.\n"
     ]
    },
    {
     "name": "stdout",
     "output_type": "stream",
     "text": [
      "15/15 [==============================] - 0s 5ms/step\n"
     ]
    },
    {
     "name": "stderr",
     "output_type": "stream",
     "text": [
      "[I 2023-06-04 16:51:40,761] Trial 17 finished with value: 39036026648.4738 and parameters: {'activation': 'tanh', 'optimizer': 'rmsprop', 'loss': 'mean_squared_error', 'units': 32, 'epochs': 7, 'batch_size': 64}. Best is trial 17 with value: 39036026648.4738.\n"
     ]
    },
    {
     "name": "stdout",
     "output_type": "stream",
     "text": [
      "15/15 [==============================] - 0s 7ms/step\n",
      " 1/15 [=>............................] - ETA: 0s"
     ]
    },
    {
     "name": "stderr",
     "output_type": "stream",
     "text": [
      "[I 2023-06-04 16:51:41,012] Trial 18 finished with value: 39036159396.03445 and parameters: {'activation': 'tanh', 'optimizer': 'rmsprop', 'loss': 'mean_squared_error', 'units': 32, 'epochs': 7, 'batch_size': 64}. Best is trial 17 with value: 39036026648.4738.\n"
     ]
    },
    {
     "name": "stdout",
     "output_type": "stream",
     "text": [
      "15/15 [==============================] - 0s 7ms/step\n",
      "15/15 [==============================] - 0s 7ms/step\n",
      "15/15 [==============================] - 0s 9ms/step\n",
      "15/15 [==============================] - 0s 5ms/step\n"
     ]
    },
    {
     "name": "stderr",
     "output_type": "stream",
     "text": [
      "[I 2023-06-04 16:51:41,141] Trial 20 finished with value: 39035953864.80378 and parameters: {'activation': 'tanh', 'optimizer': 'adam', 'loss': 'mean_squared_error', 'units': 32, 'epochs': 7, 'batch_size': 64}. Best is trial 20 with value: 39035953864.80378.\n",
      "[I 2023-06-04 16:51:41,155] Trial 21 finished with value: 39036321414.97144 and parameters: {'activation': 'tanh', 'optimizer': 'adam', 'loss': 'mean_squared_error', 'units': 32, 'epochs': 7, 'batch_size': 64}. Best is trial 20 with value: 39035953864.80378.\n",
      "[I 2023-06-04 16:51:41,156] Trial 19 finished with value: 39035880771.76335 and parameters: {'activation': 'tanh', 'optimizer': 'rmsprop', 'loss': 'mean_squared_error', 'units': 32, 'epochs': 7, 'batch_size': 64}. Best is trial 19 with value: 39035880771.76335.\n",
      "[I 2023-06-04 16:51:41,244] Trial 22 finished with value: 39036092170.732635 and parameters: {'activation': 'tanh', 'optimizer': 'rmsprop', 'loss': 'mean_squared_error', 'units': 32, 'epochs': 7, 'batch_size': 64}. Best is trial 19 with value: 39035880771.76335.\n"
     ]
    },
    {
     "name": "stdout",
     "output_type": "stream",
     "text": [
      "15/15 [==============================] - 0s 21ms/step\n"
     ]
    },
    {
     "name": "stderr",
     "output_type": "stream",
     "text": [
      "[I 2023-06-04 16:51:41,840] Trial 23 finished with value: 39035897502.218666 and parameters: {'activation': 'tanh', 'optimizer': 'rmsprop', 'loss': 'mean_squared_error', 'units': 32, 'epochs': 7, 'batch_size': 64}. Best is trial 19 with value: 39035880771.76335.\n"
     ]
    },
    {
     "name": "stdout",
     "output_type": "stream",
     "text": [
      "15/15 [==============================] - 0s 3ms/step\n"
     ]
    },
    {
     "name": "stderr",
     "output_type": "stream",
     "text": [
      "[I 2023-06-04 16:51:42,130] Trial 24 finished with value: 39036418319.56958 and parameters: {'activation': 'tanh', 'optimizer': 'rmsprop', 'loss': 'mean_squared_error', 'units': 32, 'epochs': 7, 'batch_size': 64}. Best is trial 19 with value: 39035880771.76335.\n"
     ]
    },
    {
     "name": "stdout",
     "output_type": "stream",
     "text": [
      "15/15 [==============================] - 0s 5ms/step\n",
      "15/15 [==============================] - 0s 7ms/step\n",
      " 1/15 [=>............................] - ETA: 0s"
     ]
    },
    {
     "name": "stderr",
     "output_type": "stream",
     "text": [
      "[I 2023-06-04 16:51:42,585] Trial 25 finished with value: 39036350490.779915 and parameters: {'activation': 'tanh', 'optimizer': 'rmsprop', 'loss': 'mean_squared_error', 'units': 32, 'epochs': 7, 'batch_size': 64}. Best is trial 19 with value: 39035880771.76335.\n"
     ]
    },
    {
     "name": "stdout",
     "output_type": "stream",
     "text": [
      "15/15 [==============================] - 0s 7ms/step\n"
     ]
    },
    {
     "name": "stderr",
     "output_type": "stream",
     "text": [
      "[I 2023-06-04 16:51:42,593] Trial 29 finished with value: 39036415677.713455 and parameters: {'activation': 'tanh', 'optimizer': 'rmsprop', 'loss': 'mean_squared_error', 'units': 32, 'epochs': 6, 'batch_size': 64}. Best is trial 19 with value: 39035880771.76335.\n"
     ]
    },
    {
     "name": "stdout",
     "output_type": "stream",
     "text": [
      "15/15 [==============================] - 0s 4ms/step\n",
      "15/15 [==============================] - 0s 6ms/step\n"
     ]
    },
    {
     "name": "stderr",
     "output_type": "stream",
     "text": [
      "[I 2023-06-04 16:51:42,677] Trial 28 finished with value: 39036257102.02174 and parameters: {'activation': 'tanh', 'optimizer': 'rmsprop', 'loss': 'mean_squared_error', 'units': 32, 'epochs': 6, 'batch_size': 64}. Best is trial 19 with value: 39035880771.76335.\n"
     ]
    },
    {
     "name": "stdout",
     "output_type": "stream",
     "text": [
      " 8/15 [===============>..............] - ETA: 0s"
     ]
    },
    {
     "name": "stderr",
     "output_type": "stream",
     "text": [
      "[I 2023-06-04 16:51:42,680] Trial 26 finished with value: 39036110217.45214 and parameters: {'activation': 'tanh', 'optimizer': 'rmsprop', 'loss': 'mean_squared_error', 'units': 32, 'epochs': 7, 'batch_size': 64}. Best is trial 19 with value: 39035880771.76335.\n",
      "[I 2023-06-04 16:51:42,740] Trial 27 finished with value: 39036683328.582405 and parameters: {'activation': 'tanh', 'optimizer': 'rmsprop', 'loss': 'mean_squared_error', 'units': 32, 'epochs': 6, 'batch_size': 64}. Best is trial 19 with value: 39035880771.76335.\n"
     ]
    },
    {
     "name": "stdout",
     "output_type": "stream",
     "text": [
      "15/15 [==============================] - 0s 11ms/step\n"
     ]
    },
    {
     "name": "stderr",
     "output_type": "stream",
     "text": [
      "[I 2023-06-04 16:51:43,073] Trial 30 finished with value: 39036361116.74846 and parameters: {'activation': 'tanh', 'optimizer': 'rmsprop', 'loss': 'mean_squared_error', 'units': 32, 'epochs': 6, 'batch_size': 64}. Best is trial 19 with value: 39035880771.76335.\n"
     ]
    },
    {
     "name": "stdout",
     "output_type": "stream",
     "text": [
      "15/15 [==============================] - 0s 10ms/step\n"
     ]
    },
    {
     "name": "stderr",
     "output_type": "stream",
     "text": [
      "[I 2023-06-04 16:51:43,456] Trial 31 finished with value: 39036450811.492905 and parameters: {'activation': 'tanh', 'optimizer': 'rmsprop', 'loss': 'mean_squared_error', 'units': 32, 'epochs': 6, 'batch_size': 64}. Best is trial 19 with value: 39035880771.76335.\n"
     ]
    },
    {
     "name": "stdout",
     "output_type": "stream",
     "text": [
      "15/15 [==============================] - 0s 6ms/step\n"
     ]
    },
    {
     "name": "stderr",
     "output_type": "stream",
     "text": [
      "[I 2023-06-04 16:51:43,745] Trial 32 finished with value: 39036821697.296394 and parameters: {'activation': 'tanh', 'optimizer': 'rmsprop', 'loss': 'mean_squared_error', 'units': 32, 'epochs': 6, 'batch_size': 64}. Best is trial 19 with value: 39035880771.76335.\n"
     ]
    },
    {
     "name": "stdout",
     "output_type": "stream",
     "text": [
      "15/15 [==============================] - 0s 4ms/step\n",
      "15/15 [==============================] - 0s 3ms/step\n"
     ]
    },
    {
     "name": "stderr",
     "output_type": "stream",
     "text": [
      "[I 2023-06-04 16:51:44,219] Trial 36 finished with value: 39037891930.39315 and parameters: {'activation': 'tanh', 'optimizer': 'adagrad', 'loss': 'mean_squared_error', 'units': 32, 'epochs': 5, 'batch_size': 64}. Best is trial 19 with value: 39035880771.76335.\n"
     ]
    },
    {
     "name": "stdout",
     "output_type": "stream",
     "text": [
      "15/15 [==============================] - 0s 3ms/step\n"
     ]
    },
    {
     "name": "stderr",
     "output_type": "stream",
     "text": [
      "[I 2023-06-04 16:51:44,249] Trial 33 finished with value: 39036572450.565636 and parameters: {'activation': 'tanh', 'optimizer': 'rmsprop', 'loss': 'mean_squared_error', 'units': 32, 'epochs': 6, 'batch_size': 64}. Best is trial 19 with value: 39035880771.76335.\n"
     ]
    },
    {
     "name": "stdout",
     "output_type": "stream",
     "text": [
      "15/15 [==============================] - 0s 3ms/step\n"
     ]
    },
    {
     "name": "stderr",
     "output_type": "stream",
     "text": [
      "[I 2023-06-04 16:51:44,290] Trial 34 finished with value: 39036555495.978065 and parameters: {'activation': 'tanh', 'optimizer': 'rmsprop', 'loss': 'mean_squared_error', 'units': 32, 'epochs': 6, 'batch_size': 64}. Best is trial 19 with value: 39035880771.76335.\n",
      "[I 2023-06-04 16:51:44,368] Trial 37 finished with value: 39037843638.381294 and parameters: {'activation': 'tanh', 'optimizer': 'adagrad', 'loss': 'mean_squared_error', 'units': 32, 'epochs': 5, 'batch_size': 64}. Best is trial 19 with value: 39035880771.76335.\n"
     ]
    },
    {
     "name": "stdout",
     "output_type": "stream",
     "text": [
      "15/15 [==============================] - 0s 13ms/step\n",
      "15/15 [==============================] - 0s 6ms/step\n"
     ]
    },
    {
     "name": "stderr",
     "output_type": "stream",
     "text": [
      "[I 2023-06-04 16:51:44,843] Trial 38 finished with value: 39036244332.84221 and parameters: {'activation': 'tanh', 'optimizer': 'rmsprop', 'loss': 'mean_squared_error', 'units': 32, 'epochs': 7, 'batch_size': 64}. Best is trial 19 with value: 39035880771.76335.\n"
     ]
    },
    {
     "name": "stdout",
     "output_type": "stream",
     "text": [
      " 1/15 [=>............................] - ETA: 0s"
     ]
    },
    {
     "name": "stderr",
     "output_type": "stream",
     "text": [
      "[I 2023-06-04 16:51:44,873] Trial 35 finished with value: 39037985342.540405 and parameters: {'activation': 'tanh', 'optimizer': 'adagrad', 'loss': 'mean_squared_error', 'units': 32, 'epochs': 5, 'batch_size': 64}. Best is trial 19 with value: 39035880771.76335.\n"
     ]
    },
    {
     "name": "stdout",
     "output_type": "stream",
     "text": [
      "15/15 [==============================] - 0s 4ms/step\n"
     ]
    },
    {
     "name": "stderr",
     "output_type": "stream",
     "text": [
      "[I 2023-06-04 16:51:44,971] Trial 39 finished with value: 39036029523.68913 and parameters: {'activation': 'tanh', 'optimizer': 'rmsprop', 'loss': 'mean_squared_error', 'units': 32, 'epochs': 7, 'batch_size': 64}. Best is trial 19 with value: 39035880771.76335.\n"
     ]
    },
    {
     "name": "stdout",
     "output_type": "stream",
     "text": [
      "15/15 [==============================] - 0s 8ms/step\n"
     ]
    },
    {
     "name": "stderr",
     "output_type": "stream",
     "text": [
      "[I 2023-06-04 16:51:45,299] Trial 40 finished with value: 39036288302.47405 and parameters: {'activation': 'tanh', 'optimizer': 'rmsprop', 'loss': 'mean_squared_error', 'units': 32, 'epochs': 7, 'batch_size': 64}. Best is trial 19 with value: 39035880771.76335.\n"
     ]
    },
    {
     "name": "stdout",
     "output_type": "stream",
     "text": [
      "15/15 [==============================] - 0s 4ms/step\n",
      " 9/15 [=================>............] - ETA: 0s"
     ]
    },
    {
     "name": "stderr",
     "output_type": "stream",
     "text": [
      "[I 2023-06-04 16:51:45,735] Trial 41 finished with value: 39036305006.85063 and parameters: {'activation': 'tanh', 'optimizer': 'adam', 'loss': 'mean_squared_error', 'units': 32, 'epochs': 7, 'batch_size': 64}. Best is trial 19 with value: 39035880771.76335.\n"
     ]
    },
    {
     "name": "stdout",
     "output_type": "stream",
     "text": [
      "15/15 [==============================] - 0s 6ms/step\n",
      "15/15 [==============================] - 0s 6ms/step\n"
     ]
    },
    {
     "name": "stderr",
     "output_type": "stream",
     "text": [
      "[I 2023-06-04 16:51:45,784] Trial 42 finished with value: 39036005012.107544 and parameters: {'activation': 'tanh', 'optimizer': 'adam', 'loss': 'mean_squared_error', 'units': 32, 'epochs': 7, 'batch_size': 64}. Best is trial 19 with value: 39035880771.76335.\n"
     ]
    },
    {
     "name": "stdout",
     "output_type": "stream",
     "text": [
      " 1/15 [=>............................] - ETA: 0s"
     ]
    },
    {
     "name": "stderr",
     "output_type": "stream",
     "text": [
      "[I 2023-06-04 16:51:45,817] Trial 43 finished with value: 39036181696.15351 and parameters: {'activation': 'tanh', 'optimizer': 'adam', 'loss': 'mean_squared_error', 'units': 32, 'epochs': 7, 'batch_size': 64}. Best is trial 19 with value: 39035880771.76335.\n"
     ]
    },
    {
     "name": "stdout",
     "output_type": "stream",
     "text": [
      "15/15 [==============================] - 0s 3ms/step\n"
     ]
    },
    {
     "name": "stderr",
     "output_type": "stream",
     "text": [
      "[I 2023-06-04 16:51:45,916] Trial 44 finished with value: 39036973910.06666 and parameters: {'activation': 'relu', 'optimizer': 'adam', 'loss': 'mean_squared_error', 'units': 32, 'epochs': 7, 'batch_size': 64}. Best is trial 19 with value: 39035880771.76335.\n"
     ]
    },
    {
     "name": "stdout",
     "output_type": "stream",
     "text": [
      "15/15 [==============================] - 0s 9ms/step\n",
      "15/15 [==============================] - 0s 6ms/step\n"
     ]
    },
    {
     "name": "stderr",
     "output_type": "stream",
     "text": [
      "[I 2023-06-04 16:51:46,328] Trial 46 finished with value: 39036901973.251274 and parameters: {'activation': 'relu', 'optimizer': 'adam', 'loss': 'mean_squared_error', 'units': 32, 'epochs': 7, 'batch_size': 64}. Best is trial 19 with value: 39035880771.76335.\n",
      "[I 2023-06-04 16:51:46,423] Trial 45 finished with value: 39037414790.464836 and parameters: {'activation': 'relu', 'optimizer': 'adam', 'loss': 'mean_squared_error', 'units': 32, 'epochs': 7, 'batch_size': 64}. Best is trial 19 with value: 39035880771.76335.\n"
     ]
    },
    {
     "name": "stdout",
     "output_type": "stream",
     "text": [
      "15/15 [==============================] - 0s 6ms/step\n"
     ]
    },
    {
     "name": "stderr",
     "output_type": "stream",
     "text": [
      "[I 2023-06-04 16:51:46,627] Trial 47 finished with value: 39036910272.72502 and parameters: {'activation': 'relu', 'optimizer': 'adam', 'loss': 'mean_squared_error', 'units': 32, 'epochs': 7, 'batch_size': 64}. Best is trial 19 with value: 39035880771.76335.\n"
     ]
    },
    {
     "name": "stdout",
     "output_type": "stream",
     "text": [
      "15/15 [==============================] - 0s 5ms/step\n"
     ]
    },
    {
     "name": "stderr",
     "output_type": "stream",
     "text": [
      "[I 2023-06-04 16:51:46,815] Trial 48 finished with value: 39037392955.10006 and parameters: {'activation': 'relu', 'optimizer': 'adam', 'loss': 'mean_squared_error', 'units': 32, 'epochs': 7, 'batch_size': 64}. Best is trial 19 with value: 39035880771.76335.\n"
     ]
    },
    {
     "name": "stdout",
     "output_type": "stream",
     "text": [
      "15/15 [==============================] - 0s 5ms/step\n",
      "15/15 [==============================] - 0s 3ms/step\n",
      " 9/15 [=================>............] - ETA: 0s"
     ]
    },
    {
     "name": "stderr",
     "output_type": "stream",
     "text": [
      "[I 2023-06-04 16:51:47,433] Trial 49 finished with value: 39037447186.8786 and parameters: {'activation': 'relu', 'optimizer': 'adam', 'loss': 'mean_squared_error', 'units': 32, 'epochs': 7, 'batch_size': 64}. Best is trial 19 with value: 39035880771.76335.\n",
      "[I 2023-06-04 16:51:47,447] Trial 50 finished with value: 39037132590.2466 and parameters: {'activation': 'relu', 'optimizer': 'adam', 'loss': 'mean_squared_error', 'units': 32, 'epochs': 7, 'batch_size': 64}. Best is trial 19 with value: 39035880771.76335.\n"
     ]
    },
    {
     "name": "stdout",
     "output_type": "stream",
     "text": [
      "15/15 [==============================] - 0s 15ms/step\n"
     ]
    },
    {
     "name": "stderr",
     "output_type": "stream",
     "text": [
      "[I 2023-06-04 16:51:47,537] Trial 51 finished with value: 39036558305.47331 and parameters: {'activation': 'relu', 'optimizer': 'adam', 'loss': 'mean_squared_error', 'units': 32, 'epochs': 7, 'batch_size': 64}. Best is trial 19 with value: 39035880771.76335.\n"
     ]
    },
    {
     "name": "stdout",
     "output_type": "stream",
     "text": [
      "15/15 [==============================] - 0s 6ms/step\n"
     ]
    },
    {
     "name": "stderr",
     "output_type": "stream",
     "text": [
      "[I 2023-06-04 16:51:47,711] Trial 52 finished with value: 39037420949.09031 and parameters: {'activation': 'relu', 'optimizer': 'adam', 'loss': 'mean_squared_error', 'units': 32, 'epochs': 7, 'batch_size': 64}. Best is trial 19 with value: 39035880771.76335.\n"
     ]
    },
    {
     "name": "stdout",
     "output_type": "stream",
     "text": [
      "15/15 [==============================] - 0s 8ms/step\n"
     ]
    },
    {
     "name": "stderr",
     "output_type": "stream",
     "text": [
      "[I 2023-06-04 16:51:48,152] Trial 53 finished with value: 39034767995.54603 and parameters: {'activation': 'tanh', 'optimizer': 'adam', 'loss': 'mean_squared_error', 'units': 64, 'epochs': 7, 'batch_size': 64}. Best is trial 53 with value: 39034767995.54603.\n"
     ]
    },
    {
     "name": "stdout",
     "output_type": "stream",
     "text": [
      "15/15 [==============================] - 0s 5ms/step\n",
      " 7/15 [=============>................] - ETA: 0s"
     ]
    },
    {
     "name": "stderr",
     "output_type": "stream",
     "text": [
      "[I 2023-06-04 16:51:48,320] Trial 56 finished with value: 39036764325.6802 and parameters: {'activation': 'elu', 'optimizer': 'adam', 'loss': 'mean_squared_error', 'units': 64, 'epochs': 7, 'batch_size': 128}. Best is trial 53 with value: 39034767995.54603.\n"
     ]
    },
    {
     "name": "stdout",
     "output_type": "stream",
     "text": [
      "15/15 [==============================] - 0s 7ms/step\n",
      "12/15 [=======================>......] - ETA: 0s"
     ]
    },
    {
     "name": "stderr",
     "output_type": "stream",
     "text": [
      "[I 2023-06-04 16:51:48,383] Trial 57 finished with value: 39037454954.37355 and parameters: {'activation': 'elu', 'optimizer': 'adam', 'loss': 'mean_squared_error', 'units': 64, 'epochs': 4, 'batch_size': 128}. Best is trial 53 with value: 39034767995.54603.\n"
     ]
    },
    {
     "name": "stdout",
     "output_type": "stream",
     "text": [
      "15/15 [==============================] - 0s 5ms/step\n"
     ]
    },
    {
     "name": "stderr",
     "output_type": "stream",
     "text": [
      "[I 2023-06-04 16:51:48,466] Trial 55 finished with value: 39034797696.275665 and parameters: {'activation': 'elu', 'optimizer': 'adam', 'loss': 'mean_squared_error', 'units': 64, 'epochs': 7, 'batch_size': 64}. Best is trial 53 with value: 39034767995.54603.\n"
     ]
    },
    {
     "name": "stdout",
     "output_type": "stream",
     "text": [
      "15/15 [==============================] - 0s 9ms/step\n"
     ]
    },
    {
     "name": "stderr",
     "output_type": "stream",
     "text": [
      "[I 2023-06-04 16:51:48,783] Trial 54 finished with value: 39034781439.39241 and parameters: {'activation': 'tanh', 'optimizer': 'adam', 'loss': 'mean_squared_error', 'units': 64, 'epochs': 7, 'batch_size': 64}. Best is trial 53 with value: 39034767995.54603.\n"
     ]
    },
    {
     "name": "stdout",
     "output_type": "stream",
     "text": [
      "15/15 [==============================] - 0s 4ms/step\n",
      "15/15 [==============================] - 0s 5ms/step\n",
      "15/15 [==============================] - 0s 7ms/step\n"
     ]
    },
    {
     "name": "stderr",
     "output_type": "stream",
     "text": [
      "[I 2023-06-04 16:51:49,202] Trial 61 finished with value: 39037449889.8116 and parameters: {'activation': 'elu', 'optimizer': 'adam', 'loss': 'mean_squared_error', 'units': 64, 'epochs': 4, 'batch_size': 128}. Best is trial 53 with value: 39034767995.54603.\n",
      "[I 2023-06-04 16:51:49,212] Trial 58 finished with value: 39035010092.39487 and parameters: {'activation': 'tanh', 'optimizer': 'rmsprop', 'loss': 'mean_squared_error', 'units': 64, 'epochs': 7, 'batch_size': 64}. Best is trial 53 with value: 39034767995.54603.\n",
      "[I 2023-06-04 16:51:49,234] Trial 59 finished with value: 39034629299.917496 and parameters: {'activation': 'tanh', 'optimizer': 'rmsprop', 'loss': 'mean_squared_error', 'units': 64, 'epochs': 7, 'batch_size': 64}. Best is trial 59 with value: 39034629299.917496.\n"
     ]
    },
    {
     "name": "stdout",
     "output_type": "stream",
     "text": [
      "15/15 [==============================] - 0s 4ms/step\n"
     ]
    },
    {
     "name": "stderr",
     "output_type": "stream",
     "text": [
      "[I 2023-06-04 16:51:49,463] Trial 60 finished with value: 39035035075.76237 and parameters: {'activation': 'tanh', 'optimizer': 'rmsprop', 'loss': 'mean_squared_error', 'units': 64, 'epochs': 7, 'batch_size': 64}. Best is trial 59 with value: 39034629299.917496.\n"
     ]
    },
    {
     "name": "stdout",
     "output_type": "stream",
     "text": [
      "15/15 [==============================] - 0s 10ms/step\n",
      "15/15 [==============================] - 0s 14ms/step\n",
      "10/15 [===================>..........] - ETA: 0s"
     ]
    },
    {
     "name": "stderr",
     "output_type": "stream",
     "text": [
      "[I 2023-06-04 16:51:50,014] Trial 65 finished with value: 39037059748.4685 and parameters: {'activation': 'elu', 'optimizer': 'adam', 'loss': 'mean_squared_error', 'units': 64, 'epochs': 3, 'batch_size': 64}. Best is trial 59 with value: 39034629299.917496.\n"
     ]
    },
    {
     "name": "stdout",
     "output_type": "stream",
     "text": [
      "15/15 [==============================] - 0s 13ms/step\n",
      "15/15 [==============================] - 0s 8ms/step\n"
     ]
    },
    {
     "name": "stderr",
     "output_type": "stream",
     "text": [
      "[I 2023-06-04 16:51:50,081] Trial 63 finished with value: 39035470339.678604 and parameters: {'activation': 'tanh', 'optimizer': 'adam', 'loss': 'mean_squared_error', 'units': 64, 'epochs': 6, 'batch_size': 64}. Best is trial 59 with value: 39034629299.917496.\n",
      "[I 2023-06-04 16:51:50,091] Trial 62 finished with value: 39034911597.08532 and parameters: {'activation': 'tanh', 'optimizer': 'adam', 'loss': 'mean_squared_error', 'units': 64, 'epochs': 7, 'batch_size': 64}. Best is trial 59 with value: 39034629299.917496.\n",
      "[I 2023-06-04 16:51:50,174] Trial 64 finished with value: 39035653266.24425 and parameters: {'activation': 'elu', 'optimizer': 'adam', 'loss': 'mean_squared_error', 'units': 64, 'epochs': 6, 'batch_size': 64}. Best is trial 59 with value: 39034629299.917496.\n"
     ]
    },
    {
     "name": "stdout",
     "output_type": "stream",
     "text": [
      "15/15 [==============================] - 0s 7ms/step\n",
      " 1/15 [=>............................] - ETA: 0s"
     ]
    },
    {
     "name": "stderr",
     "output_type": "stream",
     "text": [
      "[I 2023-06-04 16:51:50,595] Trial 66 finished with value: 39037752232.79377 and parameters: {'activation': 'elu', 'optimizer': 'adagrad', 'loss': 'mean_squared_error', 'units': 64, 'epochs': 3, 'batch_size': 64}. Best is trial 59 with value: 39034629299.917496.\n"
     ]
    },
    {
     "name": "stdout",
     "output_type": "stream",
     "text": [
      "15/15 [==============================] - 0s 13ms/step\n",
      " 1/15 [=>............................] - ETA: 0s"
     ]
    },
    {
     "name": "stderr",
     "output_type": "stream",
     "text": [
      "[I 2023-06-04 16:51:50,790] Trial 68 finished with value: 39036934871.61412 and parameters: {'activation': 'elu', 'optimizer': 'rmsprop', 'loss': 'mean_squared_error', 'units': 64, 'epochs': 3, 'batch_size': 64}. Best is trial 59 with value: 39034629299.917496.\n"
     ]
    },
    {
     "name": "stdout",
     "output_type": "stream",
     "text": [
      "15/15 [==============================] - 0s 5ms/step\n"
     ]
    },
    {
     "name": "stderr",
     "output_type": "stream",
     "text": [
      "[I 2023-06-04 16:51:50,892] Trial 67 finished with value: 39037632840.02464 and parameters: {'activation': 'elu', 'optimizer': 'adagrad', 'loss': 'mean_squared_error', 'units': 64, 'epochs': 6, 'batch_size': 64}. Best is trial 59 with value: 39034629299.917496.\n"
     ]
    },
    {
     "name": "stdout",
     "output_type": "stream",
     "text": [
      "15/15 [==============================] - 0s 10ms/step\n"
     ]
    },
    {
     "name": "stderr",
     "output_type": "stream",
     "text": [
      "[I 2023-06-04 16:51:51,399] Trial 69 finished with value: 39035051609.07019 and parameters: {'activation': 'elu', 'optimizer': 'rmsprop', 'loss': 'mean_squared_error', 'units': 64, 'epochs': 7, 'batch_size': 64}. Best is trial 59 with value: 39034629299.917496.\n"
     ]
    },
    {
     "name": "stdout",
     "output_type": "stream",
     "text": [
      "15/15 [==============================] - 0s 6ms/step\n",
      "15/15 [==============================] - 0s 4ms/step\n",
      "15/15 [==============================] - 0s 3ms/step\n"
     ]
    },
    {
     "name": "stderr",
     "output_type": "stream",
     "text": [
      "[I 2023-06-04 16:51:51,578] Trial 70 finished with value: 39035851223.35553 and parameters: {'activation': 'elu', 'optimizer': 'rmsprop', 'loss': 'mean_squared_error', 'units': 64, 'epochs': 6, 'batch_size': 64}. Best is trial 59 with value: 39034629299.917496.\n",
      "[I 2023-06-04 16:51:51,586] Trial 72 finished with value: 39037612168.426216 and parameters: {'activation': 'elu', 'optimizer': 'adagrad', 'loss': 'mean_squared_error', 'units': 64, 'epochs': 7, 'batch_size': 64}. Best is trial 59 with value: 39034629299.917496.\n"
     ]
    },
    {
     "name": "stdout",
     "output_type": "stream",
     "text": [
      " 1/15 [=>............................] - ETA: 0s"
     ]
    },
    {
     "name": "stderr",
     "output_type": "stream",
     "text": [
      "[I 2023-06-04 16:51:51,639] Trial 71 finished with value: 39035600373.244095 and parameters: {'activation': 'elu', 'optimizer': 'adam', 'loss': 'mean_squared_error', 'units': 64, 'epochs': 6, 'batch_size': 64}. Best is trial 59 with value: 39034629299.917496.\n"
     ]
    },
    {
     "name": "stdout",
     "output_type": "stream",
     "text": [
      "15/15 [==============================] - 0s 3ms/step\n"
     ]
    },
    {
     "name": "stderr",
     "output_type": "stream",
     "text": [
      "[I 2023-06-04 16:51:51,889] Trial 73 finished with value: 39037666944.0894 and parameters: {'activation': 'elu', 'optimizer': 'adagrad', 'loss': 'mean_squared_error', 'units': 64, 'epochs': 7, 'batch_size': 64}. Best is trial 59 with value: 39034629299.917496.\n"
     ]
    },
    {
     "name": "stdout",
     "output_type": "stream",
     "text": [
      "15/15 [==============================] - 0s 6ms/step\n"
     ]
    },
    {
     "name": "stderr",
     "output_type": "stream",
     "text": [
      "[I 2023-06-04 16:51:52,414] Trial 74 finished with value: 39035147464.98651 and parameters: {'activation': 'tanh', 'optimizer': 'rmsprop', 'loss': 'mean_squared_error', 'units': 64, 'epochs': 7, 'batch_size': 64}. Best is trial 59 with value: 39034629299.917496.\n"
     ]
    },
    {
     "name": "stdout",
     "output_type": "stream",
     "text": [
      "15/15 [==============================] - 0s 6ms/step\n"
     ]
    },
    {
     "name": "stderr",
     "output_type": "stream",
     "text": [
      "[I 2023-06-04 16:51:52,754] Trial 76 finished with value: 39034894679.94924 and parameters: {'activation': 'tanh', 'optimizer': 'adam', 'loss': 'mean_squared_error', 'units': 64, 'epochs': 7, 'batch_size': 64}. Best is trial 59 with value: 39034629299.917496.\n"
     ]
    },
    {
     "name": "stdout",
     "output_type": "stream",
     "text": [
      "15/15 [==============================] - 0s 4ms/step\n",
      "15/15 [==============================] - 0s 3ms/step\n"
     ]
    },
    {
     "name": "stderr",
     "output_type": "stream",
     "text": [
      "[I 2023-06-04 16:51:53,056] Trial 75 finished with value: 39034827388.4565 and parameters: {'activation': 'tanh', 'optimizer': 'adam', 'loss': 'mean_squared_error', 'units': 64, 'epochs': 7, 'batch_size': 64}. Best is trial 59 with value: 39034629299.917496.\n",
      "[I 2023-06-04 16:51:53,074] Trial 77 finished with value: 39034664615.911285 and parameters: {'activation': 'tanh', 'optimizer': 'adam', 'loss': 'mean_squared_error', 'units': 64, 'epochs': 7, 'batch_size': 64}. Best is trial 59 with value: 39034629299.917496.\n"
     ]
    },
    {
     "name": "stdout",
     "output_type": "stream",
     "text": [
      "15/15 [==============================] - 0s 3ms/step\n",
      "15/15 [==============================] - 0s 6ms/step\n",
      " 1/15 [=>............................] - ETA: 0s"
     ]
    },
    {
     "name": "stderr",
     "output_type": "stream",
     "text": [
      "[I 2023-06-04 16:51:53,249] Trial 79 finished with value: 39034689282.00105 and parameters: {'activation': 'tanh', 'optimizer': 'rmsprop', 'loss': 'mean_squared_error', 'units': 64, 'epochs': 7, 'batch_size': 64}. Best is trial 59 with value: 39034629299.917496.\n",
      "[I 2023-06-04 16:51:53,292] Trial 78 finished with value: 39034589302.56874 and parameters: {'activation': 'tanh', 'optimizer': 'rmsprop', 'loss': 'mean_squared_error', 'units': 64, 'epochs': 7, 'batch_size': 64}. Best is trial 78 with value: 39034589302.56874.\n"
     ]
    },
    {
     "name": "stdout",
     "output_type": "stream",
     "text": [
      "15/15 [==============================] - 0s 8ms/step\n",
      " 1/15 [=>............................] - ETA: 0s"
     ]
    },
    {
     "name": "stderr",
     "output_type": "stream",
     "text": [
      "[I 2023-06-04 16:51:53,456] Trial 80 finished with value: 39034781061.237236 and parameters: {'activation': 'tanh', 'optimizer': 'rmsprop', 'loss': 'mean_squared_error', 'units': 64, 'epochs': 7, 'batch_size': 64}. Best is trial 78 with value: 39034589302.56874.\n"
     ]
    },
    {
     "name": "stdout",
     "output_type": "stream",
     "text": [
      "15/15 [==============================] - 0s 3ms/step\n"
     ]
    },
    {
     "name": "stderr",
     "output_type": "stream",
     "text": [
      "[I 2023-06-04 16:51:53,574] Trial 81 finished with value: 39035008384.30297 and parameters: {'activation': 'tanh', 'optimizer': 'rmsprop', 'loss': 'mean_squared_error', 'units': 64, 'epochs': 7, 'batch_size': 64}. Best is trial 78 with value: 39034589302.56874.\n"
     ]
    },
    {
     "name": "stdout",
     "output_type": "stream",
     "text": [
      "15/15 [==============================] - 0s 7ms/step\n"
     ]
    },
    {
     "name": "stderr",
     "output_type": "stream",
     "text": [
      "[I 2023-06-04 16:51:54,094] Trial 82 finished with value: 39035028974.954025 and parameters: {'activation': 'tanh', 'optimizer': 'rmsprop', 'loss': 'mean_squared_error', 'units': 64, 'epochs': 7, 'batch_size': 64}. Best is trial 78 with value: 39034589302.56874.\n"
     ]
    },
    {
     "name": "stdout",
     "output_type": "stream",
     "text": [
      "15/15 [==============================] - 0s 3ms/step\n"
     ]
    },
    {
     "name": "stderr",
     "output_type": "stream",
     "text": [
      "[I 2023-06-04 16:51:54,425] Trial 83 finished with value: 39034793943.50542 and parameters: {'activation': 'tanh', 'optimizer': 'adam', 'loss': 'mean_squared_error', 'units': 64, 'epochs': 7, 'batch_size': 64}. Best is trial 78 with value: 39034589302.56874.\n"
     ]
    },
    {
     "name": "stdout",
     "output_type": "stream",
     "text": [
      "15/15 [==============================] - 0s 5ms/step\n",
      "15/15 [==============================] - 0s 4ms/step\n"
     ]
    },
    {
     "name": "stderr",
     "output_type": "stream",
     "text": [
      "[I 2023-06-04 16:51:54,672] Trial 85 finished with value: 39034825272.836586 and parameters: {'activation': 'tanh', 'optimizer': 'adam', 'loss': 'mean_squared_error', 'units': 64, 'epochs': 7, 'batch_size': 64}. Best is trial 78 with value: 39034589302.56874.\n"
     ]
    },
    {
     "name": "stdout",
     "output_type": "stream",
     "text": [
      "15/15 [==============================] - 0s 4ms/step\n"
     ]
    },
    {
     "name": "stderr",
     "output_type": "stream",
     "text": [
      "[I 2023-06-04 16:51:54,721] Trial 84 finished with value: 39034611828.58398 and parameters: {'activation': 'tanh', 'optimizer': 'adam', 'loss': 'mean_squared_error', 'units': 64, 'epochs': 7, 'batch_size': 64}. Best is trial 78 with value: 39034589302.56874.\n"
     ]
    },
    {
     "name": "stdout",
     "output_type": "stream",
     "text": [
      " 1/15 [=>............................] - ETA: 0s"
     ]
    },
    {
     "name": "stderr",
     "output_type": "stream",
     "text": [
      "[I 2023-06-04 16:51:54,765] Trial 86 finished with value: 39034637854.11315 and parameters: {'activation': 'tanh', 'optimizer': 'adam', 'loss': 'mean_squared_error', 'units': 64, 'epochs': 7, 'batch_size': 64}. Best is trial 78 with value: 39034589302.56874.\n"
     ]
    },
    {
     "name": "stdout",
     "output_type": "stream",
     "text": [
      "15/15 [==============================] - 0s 5ms/step\n"
     ]
    },
    {
     "name": "stderr",
     "output_type": "stream",
     "text": [
      "[I 2023-06-04 16:51:54,904] Trial 87 finished with value: 39035016322.41079 and parameters: {'activation': 'tanh', 'optimizer': 'adam', 'loss': 'mean_squared_error', 'units': 64, 'epochs': 7, 'batch_size': 64}. Best is trial 78 with value: 39034589302.56874.\n"
     ]
    },
    {
     "name": "stdout",
     "output_type": "stream",
     "text": [
      "15/15 [==============================] - 0s 6ms/step\n",
      "15/15 [==============================] - 0s 7ms/step\n"
     ]
    },
    {
     "name": "stderr",
     "output_type": "stream",
     "text": [
      "[I 2023-06-04 16:51:55,088] Trial 88 finished with value: 39035044183.67243 and parameters: {'activation': 'tanh', 'optimizer': 'rmsprop', 'loss': 'mean_squared_error', 'units': 64, 'epochs': 7, 'batch_size': 64}. Best is trial 78 with value: 39034589302.56874.\n",
      "[I 2023-06-04 16:51:55,109] Trial 89 finished with value: 39034614254.85402 and parameters: {'activation': 'tanh', 'optimizer': 'adam', 'loss': 'mean_squared_error', 'units': 64, 'epochs': 7, 'batch_size': 64}. Best is trial 78 with value: 39034589302.56874.\n"
     ]
    },
    {
     "name": "stdout",
     "output_type": "stream",
     "text": [
      "15/15 [==============================] - 0s 8ms/step\n"
     ]
    },
    {
     "name": "stderr",
     "output_type": "stream",
     "text": [
      "[I 2023-06-04 16:51:55,592] Trial 90 finished with value: 39034677403.8148 and parameters: {'activation': 'tanh', 'optimizer': 'adam', 'loss': 'mean_squared_error', 'units': 64, 'epochs': 7, 'batch_size': 64}. Best is trial 78 with value: 39034589302.56874.\n"
     ]
    },
    {
     "name": "stdout",
     "output_type": "stream",
     "text": [
      "15/15 [==============================] - 0s 17ms/step\n"
     ]
    },
    {
     "name": "stderr",
     "output_type": "stream",
     "text": [
      "[I 2023-06-04 16:51:56,314] Trial 91 finished with value: 39034403774.58884 and parameters: {'activation': 'tanh', 'optimizer': 'adam', 'loss': 'mean_squared_error', 'units': 64, 'epochs': 7, 'batch_size': 64}. Best is trial 91 with value: 39034403774.58884.\n"
     ]
    },
    {
     "name": "stdout",
     "output_type": "stream",
     "text": [
      "15/15 [==============================] - 0s 5ms/step\n",
      "15/15 [==============================] - 0s 2ms/step\n",
      "15/15 [==============================] - 0s 3ms/step\n"
     ]
    },
    {
     "name": "stderr",
     "output_type": "stream",
     "text": [
      "[I 2023-06-04 16:51:56,466] Trial 94 finished with value: 39034777139.79604 and parameters: {'activation': 'tanh', 'optimizer': 'rmsprop', 'loss': 'mean_squared_error', 'units': 64, 'epochs': 7, 'batch_size': 64}. Best is trial 91 with value: 39034403774.58884.\n",
      "[I 2023-06-04 16:51:56,475] Trial 92 finished with value: 39035267404.33135 and parameters: {'activation': 'tanh', 'optimizer': 'rmsprop', 'loss': 'mean_squared_error', 'units': 64, 'epochs': 7, 'batch_size': 64}. Best is trial 91 with value: 39034403774.58884.\n",
      "[I 2023-06-04 16:51:56,499] Trial 93 finished with value: 39034776333.15921 and parameters: {'activation': 'tanh', 'optimizer': 'rmsprop', 'loss': 'mean_squared_error', 'units': 64, 'epochs': 7, 'batch_size': 64}. Best is trial 91 with value: 39034403774.58884.\n"
     ]
    },
    {
     "name": "stdout",
     "output_type": "stream",
     "text": [
      "15/15 [==============================] - 0s 2ms/step\n"
     ]
    },
    {
     "name": "stderr",
     "output_type": "stream",
     "text": [
      "[I 2023-06-04 16:51:56,621] Trial 95 finished with value: 39034983962.33896 and parameters: {'activation': 'tanh', 'optimizer': 'rmsprop', 'loss': 'mean_squared_error', 'units': 64, 'epochs': 7, 'batch_size': 64}. Best is trial 91 with value: 39034403774.58884.\n"
     ]
    },
    {
     "name": "stdout",
     "output_type": "stream",
     "text": [
      "15/15 [==============================] - 0s 7ms/step\n",
      "15/15 [==============================] - 0s 10ms/step\n"
     ]
    },
    {
     "name": "stderr",
     "output_type": "stream",
     "text": [
      "[I 2023-06-04 16:51:56,957] Trial 97 finished with value: 39034913210.5331 and parameters: {'activation': 'tanh', 'optimizer': 'rmsprop', 'loss': 'mean_squared_error', 'units': 64, 'epochs': 7, 'batch_size': 64}. Best is trial 91 with value: 39034403774.58884.\n",
      "[I 2023-06-04 16:51:56,959] Trial 96 finished with value: 39034808101.745575 and parameters: {'activation': 'tanh', 'optimizer': 'rmsprop', 'loss': 'mean_squared_error', 'units': 64, 'epochs': 7, 'batch_size': 64}. Best is trial 91 with value: 39034403774.58884.\n"
     ]
    },
    {
     "name": "stdout",
     "output_type": "stream",
     "text": [
      "15/15 [==============================] - 0s 2ms/step\n"
     ]
    },
    {
     "name": "stderr",
     "output_type": "stream",
     "text": [
      "[I 2023-06-04 16:51:57,714] Trial 98 finished with value: 39034808697.10303 and parameters: {'activation': 'tanh', 'optimizer': 'adam', 'loss': 'mean_squared_error', 'units': 64, 'epochs': 7, 'batch_size': 64}. Best is trial 91 with value: 39034403774.58884.\n"
     ]
    },
    {
     "name": "stdout",
     "output_type": "stream",
     "text": [
      "15/15 [==============================] - 0s 3ms/step\n"
     ]
    },
    {
     "name": "stderr",
     "output_type": "stream",
     "text": [
      "[I 2023-06-04 16:51:57,855] Trial 99 finished with value: 39034914272.84565 and parameters: {'activation': 'tanh', 'optimizer': 'adam', 'loss': 'mean_squared_error', 'units': 64, 'epochs': 7, 'batch_size': 64}. Best is trial 91 with value: 39034403774.58884.\n"
     ]
    },
    {
     "name": "stdout",
     "output_type": "stream",
     "text": [
      "15/15 [==============================] - 0s 6ms/step\n",
      "15/15 [==============================] - 0s 5ms/step\n",
      "15/15 [==============================] - 0s 6ms/step\n",
      "15/15 [==============================] - ETA: 0s"
     ]
    },
    {
     "name": "stderr",
     "output_type": "stream",
     "text": [
      "[I 2023-06-04 16:51:58,004] Trial 101 finished with value: 39034418289.05331 and parameters: {'activation': 'tanh', 'optimizer': 'adam', 'loss': 'mean_squared_error', 'units': 64, 'epochs': 7, 'batch_size': 64}. Best is trial 91 with value: 39034403774.58884.\n"
     ]
    },
    {
     "name": "stdout",
     "output_type": "stream",
     "text": [
      "15/15 [==============================] - 0s 4ms/step\n"
     ]
    },
    {
     "name": "stderr",
     "output_type": "stream",
     "text": [
      "[I 2023-06-04 16:51:58,008] Trial 100 finished with value: 39034608183.020164 and parameters: {'activation': 'tanh', 'optimizer': 'adam', 'loss': 'mean_squared_error', 'units': 64, 'epochs': 7, 'batch_size': 64}. Best is trial 91 with value: 39034403774.58884.\n",
      "[I 2023-06-04 16:51:58,020] Trial 103 finished with value: 39034679290.85647 and parameters: {'activation': 'tanh', 'optimizer': 'adam', 'loss': 'mean_squared_error', 'units': 64, 'epochs': 7, 'batch_size': 64}. Best is trial 91 with value: 39034403774.58884.\n",
      "[I 2023-06-04 16:51:58,119] Trial 102 finished with value: 39035147423.13254 and parameters: {'activation': 'tanh', 'optimizer': 'adam', 'loss': 'mean_squared_error', 'units': 64, 'epochs': 7, 'batch_size': 64}. Best is trial 91 with value: 39034403774.58884.\n"
     ]
    },
    {
     "name": "stdout",
     "output_type": "stream",
     "text": [
      "15/15 [==============================] - 0s 11ms/step\n",
      "15/15 [==============================] - 0s 15ms/step\n"
     ]
    },
    {
     "name": "stderr",
     "output_type": "stream",
     "text": [
      "[I 2023-06-04 16:51:58,565] Trial 105 finished with value: 39034827547.34746 and parameters: {'activation': 'tanh', 'optimizer': 'adam', 'loss': 'mean_squared_error', 'units': 64, 'epochs': 7, 'batch_size': 64}. Best is trial 91 with value: 39034403774.58884.\n",
      "[I 2023-06-04 16:51:58,666] Trial 104 finished with value: 39034509957.39027 and parameters: {'activation': 'tanh', 'optimizer': 'adam', 'loss': 'mean_squared_error', 'units': 64, 'epochs': 7, 'batch_size': 64}. Best is trial 91 with value: 39034403774.58884.\n"
     ]
    },
    {
     "name": "stdout",
     "output_type": "stream",
     "text": [
      "15/15 [==============================] - 0s 2ms/step\n"
     ]
    },
    {
     "name": "stderr",
     "output_type": "stream",
     "text": [
      "[I 2023-06-04 16:51:59,266] Trial 106 finished with value: 39034750534.80236 and parameters: {'activation': 'tanh', 'optimizer': 'adam', 'loss': 'mean_squared_error', 'units': 64, 'epochs': 7, 'batch_size': 64}. Best is trial 91 with value: 39034403774.58884.\n"
     ]
    },
    {
     "name": "stdout",
     "output_type": "stream",
     "text": [
      "15/15 [==============================] - 0s 4ms/step\n",
      "15/15 [==============================] - 0s 3ms/step\n"
     ]
    },
    {
     "name": "stderr",
     "output_type": "stream",
     "text": [
      "[I 2023-06-04 16:51:59,384] Trial 107 finished with value: 39034725509.30067 and parameters: {'activation': 'tanh', 'optimizer': 'adam', 'loss': 'mean_squared_error', 'units': 64, 'epochs': 7, 'batch_size': 64}. Best is trial 91 with value: 39034403774.58884.\n"
     ]
    },
    {
     "name": "stdout",
     "output_type": "stream",
     "text": [
      " 1/15 [=>............................] - ETA: 0s"
     ]
    },
    {
     "name": "stderr",
     "output_type": "stream",
     "text": [
      "[I 2023-06-04 16:51:59,487] Trial 110 finished with value: 39034919327.14617 and parameters: {'activation': 'tanh', 'optimizer': 'adam', 'loss': 'mean_squared_error', 'units': 64, 'epochs': 7, 'batch_size': 64}. Best is trial 91 with value: 39034403774.58884.\n"
     ]
    },
    {
     "name": "stdout",
     "output_type": "stream",
     "text": [
      "15/15 [==============================] - 0s 4ms/step\n",
      "15/15 [==============================] - 0s 3ms/step\n",
      "12/15 [=======================>......] - ETA: 0s"
     ]
    },
    {
     "name": "stderr",
     "output_type": "stream",
     "text": [
      "[I 2023-06-04 16:51:59,580] Trial 108 finished with value: 39034903445.32304 and parameters: {'activation': 'tanh', 'optimizer': 'adam', 'loss': 'mean_squared_error', 'units': 64, 'epochs': 7, 'batch_size': 64}. Best is trial 91 with value: 39034403774.58884.\n"
     ]
    },
    {
     "name": "stdout",
     "output_type": "stream",
     "text": [
      "15/15 [==============================] - 0s 5ms/step\n"
     ]
    },
    {
     "name": "stderr",
     "output_type": "stream",
     "text": [
      "[I 2023-06-04 16:51:59,604] Trial 109 finished with value: 39035073929.53372 and parameters: {'activation': 'tanh', 'optimizer': 'adam', 'loss': 'mean_squared_error', 'units': 64, 'epochs': 7, 'batch_size': 64}. Best is trial 91 with value: 39034403774.58884.\n",
      "[I 2023-06-04 16:51:59,682] Trial 111 finished with value: 39034718728.95133 and parameters: {'activation': 'tanh', 'optimizer': 'adam', 'loss': 'mean_squared_error', 'units': 64, 'epochs': 7, 'batch_size': 64}. Best is trial 91 with value: 39034403774.58884.\n"
     ]
    },
    {
     "name": "stdout",
     "output_type": "stream",
     "text": [
      "15/15 [==============================] - 0s 6ms/step\n"
     ]
    },
    {
     "name": "stderr",
     "output_type": "stream",
     "text": [
      "[I 2023-06-04 16:51:59,976] Trial 112 finished with value: 39035001199.661125 and parameters: {'activation': 'tanh', 'optimizer': 'adam', 'loss': 'mean_squared_error', 'units': 64, 'epochs': 7, 'batch_size': 64}. Best is trial 91 with value: 39034403774.58884.\n"
     ]
    },
    {
     "name": "stdout",
     "output_type": "stream",
     "text": [
      "15/15 [==============================] - 0s 11ms/step\n"
     ]
    },
    {
     "name": "stderr",
     "output_type": "stream",
     "text": [
      "[I 2023-06-04 16:52:00,292] Trial 113 finished with value: 39035116848.175064 and parameters: {'activation': 'tanh', 'optimizer': 'adam', 'loss': 'mean_squared_error', 'units': 64, 'epochs': 7, 'batch_size': 64}. Best is trial 91 with value: 39034403774.58884.\n"
     ]
    },
    {
     "name": "stdout",
     "output_type": "stream",
     "text": [
      "15/15 [==============================] - 0s 3ms/step\n",
      " 1/15 [=>............................] - ETA: 0s"
     ]
    },
    {
     "name": "stderr",
     "output_type": "stream",
     "text": [
      "[I 2023-06-04 16:52:00,955] Trial 114 finished with value: 39034967890.3884 and parameters: {'activation': 'tanh', 'optimizer': 'adam', 'loss': 'mean_squared_error', 'units': 64, 'epochs': 7, 'batch_size': 64}. Best is trial 91 with value: 39034403774.58884.\n"
     ]
    },
    {
     "name": "stdout",
     "output_type": "stream",
     "text": [
      "15/15 [==============================] - 0s 7ms/step\n",
      " 1/15 [=>............................] - ETA: 0s"
     ]
    },
    {
     "name": "stderr",
     "output_type": "stream",
     "text": [
      "[I 2023-06-04 16:52:01,122] Trial 115 finished with value: 39034737456.75528 and parameters: {'activation': 'tanh', 'optimizer': 'adam', 'loss': 'mean_squared_error', 'units': 64, 'epochs': 7, 'batch_size': 64}. Best is trial 91 with value: 39034403774.58884.\n"
     ]
    },
    {
     "name": "stdout",
     "output_type": "stream",
     "text": [
      "15/15 [==============================] - 0s 7ms/step\n",
      "15/15 [==============================] - 0s 5ms/step\n"
     ]
    },
    {
     "name": "stderr",
     "output_type": "stream",
     "text": [
      "[I 2023-06-04 16:52:01,225] Trial 116 finished with value: 39035121593.92222 and parameters: {'activation': 'tanh', 'optimizer': 'adam', 'loss': 'mean_squared_error', 'units': 64, 'epochs': 7, 'batch_size': 64}. Best is trial 91 with value: 39034403774.58884.\n"
     ]
    },
    {
     "name": "stdout",
     "output_type": "stream",
     "text": [
      " 1/15 [=>............................] - ETA: 0s"
     ]
    },
    {
     "name": "stderr",
     "output_type": "stream",
     "text": [
      "[I 2023-06-04 16:52:01,266] Trial 118 finished with value: 39034812133.3289 and parameters: {'activation': 'tanh', 'optimizer': 'adam', 'loss': 'mean_squared_error', 'units': 64, 'epochs': 7, 'batch_size': 64}. Best is trial 91 with value: 39034403774.58884.\n"
     ]
    },
    {
     "name": "stdout",
     "output_type": "stream",
     "text": [
      "15/15 [==============================] - 0s 6ms/step\n",
      "15/15 [==============================] - 0s 5ms/step\n"
     ]
    },
    {
     "name": "stderr",
     "output_type": "stream",
     "text": [
      "[I 2023-06-04 16:52:01,355] Trial 117 finished with value: 39034921086.08004 and parameters: {'activation': 'tanh', 'optimizer': 'adam', 'loss': 'mean_squared_error', 'units': 64, 'epochs': 7, 'batch_size': 64}. Best is trial 91 with value: 39034403774.58884.\n",
      "[I 2023-06-04 16:52:01,417] Trial 119 finished with value: 39034898163.24241 and parameters: {'activation': 'tanh', 'optimizer': 'adam', 'loss': 'mean_squared_error', 'units': 64, 'epochs': 7, 'batch_size': 64}. Best is trial 91 with value: 39034403774.58884.\n"
     ]
    },
    {
     "name": "stdout",
     "output_type": "stream",
     "text": [
      "15/15 [==============================] - 0s 10ms/step\n"
     ]
    },
    {
     "name": "stderr",
     "output_type": "stream",
     "text": [
      "[I 2023-06-04 16:52:02,026] Trial 121 finished with value: 39035059771.90498 and parameters: {'activation': 'tanh', 'optimizer': 'adam', 'loss': 'mean_squared_error', 'units': 64, 'epochs': 7, 'batch_size': 64}. Best is trial 91 with value: 39034403774.58884.\n"
     ]
    },
    {
     "name": "stdout",
     "output_type": "stream",
     "text": [
      "15/15 [==============================] - 0s 3ms/step\n"
     ]
    },
    {
     "name": "stderr",
     "output_type": "stream",
     "text": [
      "[I 2023-06-04 16:52:02,239] Trial 120 finished with value: 39034778498.23734 and parameters: {'activation': 'tanh', 'optimizer': 'adam', 'loss': 'mean_squared_error', 'units': 64, 'epochs': 7, 'batch_size': 64}. Best is trial 91 with value: 39034403774.58884.\n"
     ]
    },
    {
     "name": "stdout",
     "output_type": "stream",
     "text": [
      "15/15 [==============================] - 0s 3ms/step\n",
      "15/15 [==============================] - ETA: 0s"
     ]
    },
    {
     "name": "stderr",
     "output_type": "stream",
     "text": [
      "[I 2023-06-04 16:52:02,580] Trial 122 finished with value: 39034916796.541275 and parameters: {'activation': 'tanh', 'optimizer': 'adam', 'loss': 'mean_squared_error', 'units': 64, 'epochs': 7, 'batch_size': 64}. Best is trial 91 with value: 39034403774.58884.\n"
     ]
    },
    {
     "name": "stdout",
     "output_type": "stream",
     "text": [
      "15/15 [==============================] - 0s 5ms/step\n",
      " 1/15 [=>............................] - ETA: 0s"
     ]
    },
    {
     "name": "stderr",
     "output_type": "stream",
     "text": [
      "[I 2023-06-04 16:52:02,696] Trial 123 finished with value: 39034768117.173256 and parameters: {'activation': 'tanh', 'optimizer': 'adam', 'loss': 'mean_squared_error', 'units': 64, 'epochs': 7, 'batch_size': 64}. Best is trial 91 with value: 39034403774.58884.\n"
     ]
    },
    {
     "name": "stdout",
     "output_type": "stream",
     "text": [
      "15/15 [==============================] - 0s 7ms/step\n",
      "15/15 [==============================] - 0s 3ms/step\n",
      "15/15 [==============================] - 0s 7ms/step\n",
      " 1/15 [=>............................] - ETA: 0s"
     ]
    },
    {
     "name": "stderr",
     "output_type": "stream",
     "text": [
      "[I 2023-06-04 16:52:02,829] Trial 124 finished with value: 39034900905.92913 and parameters: {'activation': 'tanh', 'optimizer': 'adam', 'loss': 'mean_squared_error', 'units': 64, 'epochs': 7, 'batch_size': 64}. Best is trial 91 with value: 39034403774.58884.\n",
      "[I 2023-06-04 16:52:02,837] Trial 126 finished with value: 39034783946.61814 and parameters: {'activation': 'tanh', 'optimizer': 'adam', 'loss': 'mean_squared_error', 'units': 64, 'epochs': 7, 'batch_size': 64}. Best is trial 91 with value: 39034403774.58884.\n"
     ]
    },
    {
     "name": "stdout",
     "output_type": "stream",
     "text": [
      "15/15 [==============================] - 0s 4ms/step\n"
     ]
    },
    {
     "name": "stderr",
     "output_type": "stream",
     "text": [
      "[I 2023-06-04 16:52:02,868] Trial 125 finished with value: 39034702295.9279 and parameters: {'activation': 'tanh', 'optimizer': 'adam', 'loss': 'mean_squared_error', 'units': 64, 'epochs': 7, 'batch_size': 64}. Best is trial 91 with value: 39034403774.58884.\n",
      "[I 2023-06-04 16:52:02,948] Trial 127 finished with value: 39035564887.95271 and parameters: {'activation': 'tanh', 'optimizer': 'adam', 'loss': 'mean_squared_error', 'units': 64, 'epochs': 6, 'batch_size': 64}. Best is trial 91 with value: 39034403774.58884.\n"
     ]
    },
    {
     "name": "stdout",
     "output_type": "stream",
     "text": [
      "15/15 [==============================] - 0s 10ms/step\n"
     ]
    },
    {
     "name": "stderr",
     "output_type": "stream",
     "text": [
      "[I 2023-06-04 16:52:03,636] Trial 128 finished with value: 39034817605.04583 and parameters: {'activation': 'tanh', 'optimizer': 'adam', 'loss': 'mean_squared_error', 'units': 64, 'epochs': 7, 'batch_size': 64}. Best is trial 91 with value: 39034403774.58884.\n"
     ]
    },
    {
     "name": "stdout",
     "output_type": "stream",
     "text": [
      "15/15 [==============================] - 0s 2ms/step\n"
     ]
    },
    {
     "name": "stderr",
     "output_type": "stream",
     "text": [
      "[I 2023-06-04 16:52:03,780] Trial 129 finished with value: 39035264314.91524 and parameters: {'activation': 'tanh', 'optimizer': 'adam', 'loss': 'mean_squared_error', 'units': 64, 'epochs': 7, 'batch_size': 64}. Best is trial 91 with value: 39034403774.58884.\n"
     ]
    },
    {
     "name": "stdout",
     "output_type": "stream",
     "text": [
      "15/15 [==============================] - 0s 5ms/step\n",
      " 7/15 [=============>................] - ETA: 0s"
     ]
    },
    {
     "name": "stderr",
     "output_type": "stream",
     "text": [
      "[I 2023-06-04 16:52:04,072] Trial 131 finished with value: 39036262829.96221 and parameters: {'activation': 'tanh', 'optimizer': 'adam', 'loss': 'mean_squared_error', 'units': 64, 'epochs': 5, 'batch_size': 64}. Best is trial 91 with value: 39034403774.58884.\n"
     ]
    },
    {
     "name": "stdout",
     "output_type": "stream",
     "text": [
      "15/15 [==============================] - 0s 10ms/step\n",
      "15/15 [==============================] - 0s 14ms/step\n",
      "15/15 [==============================] - 0s 8ms/step\n",
      "12/15 [=======================>......] - ETA: 0s"
     ]
    },
    {
     "name": "stderr",
     "output_type": "stream",
     "text": [
      "[I 2023-06-04 16:52:04,253] Trial 133 finished with value: 39036070484.903786 and parameters: {'activation': 'tanh', 'optimizer': 'adam', 'loss': 'mean_squared_error', 'units': 64, 'epochs': 5, 'batch_size': 64}. Best is trial 91 with value: 39034403774.58884.\n",
      "[I 2023-06-04 16:52:04,284] Trial 132 finished with value: 39036064495.36723 and parameters: {'activation': 'tanh', 'optimizer': 'adam', 'loss': 'mean_squared_error', 'units': 64, 'epochs': 5, 'batch_size': 64}. Best is trial 91 with value: 39034403774.58884.\n"
     ]
    },
    {
     "name": "stdout",
     "output_type": "stream",
     "text": [
      "15/15 [==============================] - 0s 11ms/step\n"
     ]
    },
    {
     "name": "stderr",
     "output_type": "stream",
     "text": [
      "[I 2023-06-04 16:52:04,391] Trial 135 finished with value: 39036820968.58154 and parameters: {'activation': 'tanh', 'optimizer': 'adam', 'loss': 'mean_squared_error', 'units': 64, 'epochs': 7, 'batch_size': 128}. Best is trial 91 with value: 39034403774.58884.\n"
     ]
    },
    {
     "name": "stdout",
     "output_type": "stream",
     "text": [
      "15/15 [==============================] - 0s 16ms/step\n"
     ]
    },
    {
     "name": "stderr",
     "output_type": "stream",
     "text": [
      "[I 2023-06-04 16:52:04,556] Trial 134 finished with value: 39036050613.6305 and parameters: {'activation': 'tanh', 'optimizer': 'adam', 'loss': 'mean_squared_error', 'units': 64, 'epochs': 5, 'batch_size': 64}. Best is trial 91 with value: 39034403774.58884.\n",
      "[I 2023-06-04 16:52:04,557] Trial 130 finished with value: 39034798772.8255 and parameters: {'activation': 'tanh', 'optimizer': 'adam', 'loss': 'mean_squared_error', 'units': 64, 'epochs': 7, 'batch_size': 64}. Best is trial 91 with value: 39034403774.58884.\n"
     ]
    },
    {
     "name": "stdout",
     "output_type": "stream",
     "text": [
      "15/15 [==============================] - 0s 2ms/step\n",
      "15/15 [==============================] - 0s 2ms/step\n"
     ]
    },
    {
     "name": "stderr",
     "output_type": "stream",
     "text": [
      "[I 2023-06-04 16:52:05,444] Trial 137 finished with value: 39037979116.42179 and parameters: {'activation': 'tanh', 'optimizer': 'adagrad', 'loss': 'mean_squared_error', 'units': 64, 'epochs': 5, 'batch_size': 128}. Best is trial 91 with value: 39034403774.58884.\n",
      "[I 2023-06-04 16:52:05,446] Trial 136 finished with value: 39036971148.48056 and parameters: {'activation': 'tanh', 'optimizer': 'adam', 'loss': 'mean_squared_error', 'units': 64, 'epochs': 7, 'batch_size': 128}. Best is trial 91 with value: 39034403774.58884.\n"
     ]
    },
    {
     "name": "stdout",
     "output_type": "stream",
     "text": [
      "15/15 [==============================] - 0s 6ms/step\n",
      "15/15 [==============================] - 0s 7ms/step\n"
     ]
    },
    {
     "name": "stderr",
     "output_type": "stream",
     "text": [
      "[I 2023-06-04 16:52:06,009] Trial 138 finished with value: 39034809109.38684 and parameters: {'activation': 'tanh', 'optimizer': 'adam', 'loss': 'mean_squared_error', 'units': 64, 'epochs': 7, 'batch_size': 64}. Best is trial 91 with value: 39034403774.58884.\n"
     ]
    },
    {
     "name": "stdout",
     "output_type": "stream",
     "text": [
      " 1/15 [=>............................] - ETA: 0s"
     ]
    },
    {
     "name": "stderr",
     "output_type": "stream",
     "text": [
      "[I 2023-06-04 16:52:06,022] Trial 139 finished with value: 39034788994.6886 and parameters: {'activation': 'tanh', 'optimizer': 'adam', 'loss': 'mean_squared_error', 'units': 64, 'epochs': 7, 'batch_size': 64}. Best is trial 91 with value: 39034403774.58884.\n"
     ]
    },
    {
     "name": "stdout",
     "output_type": "stream",
     "text": [
      "15/15 [==============================] - 0s 5ms/step\n",
      "15/15 [==============================] - 0s 2ms/step\n"
     ]
    },
    {
     "name": "stderr",
     "output_type": "stream",
     "text": [
      "[I 2023-06-04 16:52:06,138] Trial 140 finished with value: 39035079574.2668 and parameters: {'activation': 'tanh', 'optimizer': 'adam', 'loss': 'mean_squared_error', 'units': 64, 'epochs': 7, 'batch_size': 64}. Best is trial 91 with value: 39034403774.58884.\n"
     ]
    },
    {
     "name": "stdout",
     "output_type": "stream",
     "text": [
      "13/15 [=========================>....] - ETA: 0s"
     ]
    },
    {
     "name": "stderr",
     "output_type": "stream",
     "text": [
      "[I 2023-06-04 16:52:06,199] Trial 141 finished with value: 39034865192.591835 and parameters: {'activation': 'tanh', 'optimizer': 'adam', 'loss': 'mean_squared_error', 'units': 64, 'epochs': 7, 'batch_size': 64}. Best is trial 91 with value: 39034403774.58884.\n"
     ]
    },
    {
     "name": "stdout",
     "output_type": "stream",
     "text": [
      "15/15 [==============================] - 0s 6ms/step\n"
     ]
    },
    {
     "name": "stderr",
     "output_type": "stream",
     "text": [
      "[I 2023-06-04 16:52:06,298] Trial 142 finished with value: 39037765537.858505 and parameters: {'activation': 'tanh', 'optimizer': 'adagrad', 'loss': 'mean_squared_error', 'units': 64, 'epochs': 7, 'batch_size': 64}. Best is trial 91 with value: 39034403774.58884.\n"
     ]
    },
    {
     "name": "stdout",
     "output_type": "stream",
     "text": [
      "15/15 [==============================] - 0s 4ms/step\n",
      "15/15 [==============================] - 0s 3ms/step\n"
     ]
    },
    {
     "name": "stderr",
     "output_type": "stream",
     "text": [
      "[I 2023-06-04 16:52:06,855] Trial 143 finished with value: 39037616411.30629 and parameters: {'activation': 'tanh', 'optimizer': 'adagrad', 'loss': 'mean_squared_error', 'units': 64, 'epochs': 7, 'batch_size': 64}. Best is trial 91 with value: 39034403774.58884.\n",
      "[I 2023-06-04 16:52:06,856] Trial 144 finished with value: 39034717590.59966 and parameters: {'activation': 'tanh', 'optimizer': 'adam', 'loss': 'mean_squared_error', 'units': 64, 'epochs': 7, 'batch_size': 64}. Best is trial 91 with value: 39034403774.58884.\n"
     ]
    },
    {
     "name": "stdout",
     "output_type": "stream",
     "text": [
      "15/15 [==============================] - 0s 2ms/step\n"
     ]
    },
    {
     "name": "stderr",
     "output_type": "stream",
     "text": [
      "[I 2023-06-04 16:52:06,883] Trial 145 finished with value: 39034648476.875046 and parameters: {'activation': 'tanh', 'optimizer': 'adam', 'loss': 'mean_squared_error', 'units': 64, 'epochs': 7, 'batch_size': 64}. Best is trial 91 with value: 39034403774.58884.\n"
     ]
    },
    {
     "name": "stdout",
     "output_type": "stream",
     "text": [
      "15/15 [==============================] - 0s 1ms/step\n",
      "15/15 [==============================] - 0s 2ms/step\n",
      " 1/15 [=>............................] - ETA: 0s"
     ]
    },
    {
     "name": "stderr",
     "output_type": "stream",
     "text": [
      "[I 2023-06-04 16:52:07,040] Trial 146 finished with value: 39034655397.118225 and parameters: {'activation': 'tanh', 'optimizer': 'adam', 'loss': 'mean_squared_error', 'units': 64, 'epochs': 7, 'batch_size': 64}. Best is trial 91 with value: 39034403774.58884.\n",
      "[I 2023-06-04 16:52:07,045] Trial 147 finished with value: 39034976313.001205 and parameters: {'activation': 'tanh', 'optimizer': 'adam', 'loss': 'mean_squared_error', 'units': 64, 'epochs': 7, 'batch_size': 64}. Best is trial 91 with value: 39034403774.58884.\n"
     ]
    },
    {
     "name": "stdout",
     "output_type": "stream",
     "text": [
      "15/15 [==============================] - 0s 798us/step\n"
     ]
    },
    {
     "name": "stderr",
     "output_type": "stream",
     "text": [
      "[I 2023-06-04 16:52:07,051] Trial 148 finished with value: 39034990231.35803 and parameters: {'activation': 'tanh', 'optimizer': 'adam', 'loss': 'mean_squared_error', 'units': 64, 'epochs': 7, 'batch_size': 64}. Best is trial 91 with value: 39034403774.58884.\n"
     ]
    },
    {
     "name": "stdout",
     "output_type": "stream",
     "text": [
      "15/15 [==============================] - 0s 340us/step\n"
     ]
    },
    {
     "name": "stderr",
     "output_type": "stream",
     "text": [
      "[I 2023-06-04 16:52:07,071] Trial 149 finished with value: 39034703261.14115 and parameters: {'activation': 'tanh', 'optimizer': 'adam', 'loss': 'mean_squared_error', 'units': 64, 'epochs': 7, 'batch_size': 64}. Best is trial 91 with value: 39034403774.58884.\n"
     ]
    }
   ],
   "source": [
    "from keras.layers import Dense\n",
    "from keras import Input, Model\n",
    "\n",
    "# objective function to be minimized\n",
    "def objective_fun(trial):\n",
    "\n",
    "    activation = trial.suggest_categorical('activation', ['relu', 'tanh', 'elu'])\n",
    "    optimizer = trial.suggest_categorical('optimizer', ['adam', 'rmsprop', 'adagrad'])\n",
    "    loss = trial.suggest_categorical('loss', ['mean_squared_error'])\n",
    "    units = trial.suggest_int('units', 32, 64, step=32)\n",
    "    epochs = trial.suggest_int('epochs', 3, 7)\n",
    "    batch_size = trial.suggest_int('batch_size', 64, 128, step=64)\n",
    "\n",
    "\n",
    "    input_layer = Input(shape=(X_train.shape[1]), name='input')\n",
    "    hidden_layer = Dense(units=units, activation=activation)(input_layer)\n",
    "    #hidden_layer = Dense(units=units, activation=activation)(hidden_layer)\n",
    "    output_layer = Dense(1, name='output')(hidden_layer)\n",
    "\n",
    "    ann = Model(inputs=input_layer, outputs=output_layer, name='DenseNetwork')\n",
    "\n",
    "    ann.compile(optimizer=optimizer, loss=loss)\n",
    "\n",
    "    ann.fit(X_train, y_train, epochs=epochs, batch_size=batch_size, verbose=False)\n",
    "\n",
    "    y_pred = ann.predict(X_valid)\n",
    "\n",
    "    error = mean_squared_error(y_valid, y_pred)\n",
    "\n",
    "    return error\n",
    "\n",
    "\n",
    "study = optuna.create_study()\n",
    "study.optimize(objective_fun, n_trials=150, n_jobs=-1)"
   ],
   "metadata": {
    "collapsed": false,
    "ExecuteTime": {
     "end_time": "2023-06-04T14:52:07.078350Z",
     "start_time": "2023-06-04T14:51:36.328036Z"
    }
   }
  },
  {
   "cell_type": "code",
   "execution_count": 28,
   "outputs": [
    {
     "name": "stdout",
     "output_type": "stream",
     "text": [
      "Epoch 1/7\n",
      "22/22 [==============================] - 0s 597us/step - loss: 38506500096.0000\n",
      "Epoch 2/7\n",
      "22/22 [==============================] - 0s 512us/step - loss: 38505140224.0000\n",
      "Epoch 3/7\n",
      "22/22 [==============================] - 0s 537us/step - loss: 38503305216.0000\n",
      "Epoch 4/7\n",
      "22/22 [==============================] - 0s 503us/step - loss: 38501666816.0000\n",
      "Epoch 5/7\n",
      "22/22 [==============================] - 0s 515us/step - loss: 38500458496.0000\n",
      "Epoch 6/7\n",
      "22/22 [==============================] - 0s 469us/step - loss: 38499520512.0000\n",
      "Epoch 7/7\n",
      "22/22 [==============================] - 0s 531us/step - loss: 38498705408.0000\n",
      "20/20 [==============================] - 0s 357us/step\n",
      "{'activation': 'tanh', 'optimizer': 'adam', 'loss': 'mean_squared_error', 'units': 64, 'epochs': 7, 'batch_size': 64}\n",
      "Root mean squared error = 203771.5994\n",
      "R-squared = -48.9711\n"
     ]
    }
   ],
   "source": [
    "best_params = study.best_params\n",
    "\n",
    "input_layer = Input(shape=(X_train.shape[1]), name='input')\n",
    "hidden_layer = Dense(units=best_params['units'], activation=best_params['activation'])(input_layer)\n",
    "hidden_layer = Dense(units=best_params['units'], activation=best_params['activation'])(hidden_layer)\n",
    "output_layer = Dense(1, name='output')(hidden_layer)\n",
    "\n",
    "ann = Model(inputs=input_layer, outputs=output_layer, name='DenseNetwork')\n",
    "\n",
    "ann.compile(optimizer=best_params['optimizer'], loss=best_params['loss'])\n",
    "\n",
    "ann.fit(X_train, y_train, epochs=best_params['epochs'], batch_size=best_params['batch_size'])\n",
    "\n",
    "y_pred_test = ann.predict(X_test)\n",
    "\n",
    "print(best_params)\n",
    "print('Root mean squared error = %.4f' % np.sqrt(mean_squared_error(y_test, y_pred_test)))\n",
    "print('R-squared = %.4f' % r2_score(y_test, y_pred_test))"
   ],
   "metadata": {
    "collapsed": false,
    "ExecuteTime": {
     "end_time": "2023-06-04T14:52:48.493668Z",
     "start_time": "2023-06-04T14:52:48.176835Z"
    }
   }
  },
  {
   "cell_type": "code",
   "execution_count": 26,
   "outputs": [],
   "source": [],
   "metadata": {
    "collapsed": false,
    "ExecuteTime": {
     "end_time": "2023-06-04T14:41:35.243345Z",
     "start_time": "2023-06-04T14:41:35.240434Z"
    }
   }
  }
 ],
 "metadata": {
  "kernelspec": {
   "display_name": "Python 3",
   "language": "python",
   "name": "python3"
  },
  "language_info": {
   "codemirror_mode": {
    "name": "ipython",
    "version": 2
   },
   "file_extension": ".py",
   "mimetype": "text/x-python",
   "name": "python",
   "nbconvert_exporter": "python",
   "pygments_lexer": "ipython2",
   "version": "2.7.6"
  }
 },
 "nbformat": 4,
 "nbformat_minor": 0
}
