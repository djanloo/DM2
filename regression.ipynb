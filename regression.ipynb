{
 "cells": [
  {
   "cell_type": "code",
   "execution_count": 1,
   "metadata": {
    "collapsed": true,
    "ExecuteTime": {
     "end_time": "2023-06-01T16:03:41.906161Z",
     "start_time": "2023-06-01T16:03:41.689014Z"
    }
   },
   "outputs": [],
   "source": [
    "import os\n",
    "\n",
    "import numpy as np\n",
    "import pandas as pd\n",
    "import matplotlib.pyplot as plt\n",
    "import scipy\n",
    "import seaborn as sns\n",
    "\n",
    "from pandas.core.dtypes.common import is_numeric_dtype\n",
    "from sklearn.feature_selection import mutual_info_regression, SelectKBest, f_regression\n",
    "from sklearn.preprocessing import MinMaxScaler"
   ]
  },
  {
   "cell_type": "code",
   "execution_count": 2,
   "outputs": [],
   "source": [
    "DATA_FOLDER = 'dataset'\n",
    "DATASET = os.path.join(DATA_FOLDER, 'outliers_removed.csv')"
   ],
   "metadata": {
    "collapsed": false,
    "ExecuteTime": {
     "end_time": "2023-06-01T16:03:41.916024Z",
     "start_time": "2023-06-01T16:03:41.907119Z"
    }
   }
  },
  {
   "cell_type": "code",
   "execution_count": 3,
   "outputs": [
    {
     "data": {
      "text/plain": "   frame_count       sum          mean       std       min       max   \n0       160160  0.114319  7.137790e-07  0.004283 -0.042603  0.048157  \\\n1       156956  0.149963  9.554485e-07  0.005084 -0.037018  0.058472   \n2       152152  0.139618  9.176213e-07  0.004886 -0.036652  0.062683   \n3       169769  0.137665  8.108948e-07  0.002956 -0.026245  0.026215   \n4       172972  0.140289  8.110521e-07  0.003085 -0.032349  0.028961   \n\n        q01       q05       q25  q75  ...  actor_actor_24  actor_actor_3   \n0 -0.013550 -0.006104 -0.000031  0.0  ...               0              0  \\\n1 -0.015822 -0.007294  0.000000  0.0  ...               0              0   \n2 -0.014923 -0.006714 -0.000031  0.0  ...               0              0   \n3 -0.009399 -0.004364 -0.000031  0.0  ...               0              0   \n4 -0.008942 -0.004242 -0.000031  0.0  ...               0              0   \n\n   actor_actor_4  actor_actor_5  actor_actor_6  actor_actor_7  actor_actor_8   \n0              0              0              0              0              0  \\\n1              0              0              0              0              0   \n2              0              0              0              0              0   \n3              0              0              0              0              0   \n4              0              0              0              0              0   \n\n   actor_actor_9  sex_F  sex_M  \n0              0      0      1  \n1              0      0      1  \n2              0      0      1  \n3              0      0      1  \n4              0      0      1  \n\n[5 rows x 285 columns]",
      "text/html": "<div>\n<style scoped>\n    .dataframe tbody tr th:only-of-type {\n        vertical-align: middle;\n    }\n\n    .dataframe tbody tr th {\n        vertical-align: top;\n    }\n\n    .dataframe thead th {\n        text-align: right;\n    }\n</style>\n<table border=\"1\" class=\"dataframe\">\n  <thead>\n    <tr style=\"text-align: right;\">\n      <th></th>\n      <th>frame_count</th>\n      <th>sum</th>\n      <th>mean</th>\n      <th>std</th>\n      <th>min</th>\n      <th>max</th>\n      <th>q01</th>\n      <th>q05</th>\n      <th>q25</th>\n      <th>q75</th>\n      <th>...</th>\n      <th>actor_actor_24</th>\n      <th>actor_actor_3</th>\n      <th>actor_actor_4</th>\n      <th>actor_actor_5</th>\n      <th>actor_actor_6</th>\n      <th>actor_actor_7</th>\n      <th>actor_actor_8</th>\n      <th>actor_actor_9</th>\n      <th>sex_F</th>\n      <th>sex_M</th>\n    </tr>\n  </thead>\n  <tbody>\n    <tr>\n      <th>0</th>\n      <td>160160</td>\n      <td>0.114319</td>\n      <td>7.137790e-07</td>\n      <td>0.004283</td>\n      <td>-0.042603</td>\n      <td>0.048157</td>\n      <td>-0.013550</td>\n      <td>-0.006104</td>\n      <td>-0.000031</td>\n      <td>0.0</td>\n      <td>...</td>\n      <td>0</td>\n      <td>0</td>\n      <td>0</td>\n      <td>0</td>\n      <td>0</td>\n      <td>0</td>\n      <td>0</td>\n      <td>0</td>\n      <td>0</td>\n      <td>1</td>\n    </tr>\n    <tr>\n      <th>1</th>\n      <td>156956</td>\n      <td>0.149963</td>\n      <td>9.554485e-07</td>\n      <td>0.005084</td>\n      <td>-0.037018</td>\n      <td>0.058472</td>\n      <td>-0.015822</td>\n      <td>-0.007294</td>\n      <td>0.000000</td>\n      <td>0.0</td>\n      <td>...</td>\n      <td>0</td>\n      <td>0</td>\n      <td>0</td>\n      <td>0</td>\n      <td>0</td>\n      <td>0</td>\n      <td>0</td>\n      <td>0</td>\n      <td>0</td>\n      <td>1</td>\n    </tr>\n    <tr>\n      <th>2</th>\n      <td>152152</td>\n      <td>0.139618</td>\n      <td>9.176213e-07</td>\n      <td>0.004886</td>\n      <td>-0.036652</td>\n      <td>0.062683</td>\n      <td>-0.014923</td>\n      <td>-0.006714</td>\n      <td>-0.000031</td>\n      <td>0.0</td>\n      <td>...</td>\n      <td>0</td>\n      <td>0</td>\n      <td>0</td>\n      <td>0</td>\n      <td>0</td>\n      <td>0</td>\n      <td>0</td>\n      <td>0</td>\n      <td>0</td>\n      <td>1</td>\n    </tr>\n    <tr>\n      <th>3</th>\n      <td>169769</td>\n      <td>0.137665</td>\n      <td>8.108948e-07</td>\n      <td>0.002956</td>\n      <td>-0.026245</td>\n      <td>0.026215</td>\n      <td>-0.009399</td>\n      <td>-0.004364</td>\n      <td>-0.000031</td>\n      <td>0.0</td>\n      <td>...</td>\n      <td>0</td>\n      <td>0</td>\n      <td>0</td>\n      <td>0</td>\n      <td>0</td>\n      <td>0</td>\n      <td>0</td>\n      <td>0</td>\n      <td>0</td>\n      <td>1</td>\n    </tr>\n    <tr>\n      <th>4</th>\n      <td>172972</td>\n      <td>0.140289</td>\n      <td>8.110521e-07</td>\n      <td>0.003085</td>\n      <td>-0.032349</td>\n      <td>0.028961</td>\n      <td>-0.008942</td>\n      <td>-0.004242</td>\n      <td>-0.000031</td>\n      <td>0.0</td>\n      <td>...</td>\n      <td>0</td>\n      <td>0</td>\n      <td>0</td>\n      <td>0</td>\n      <td>0</td>\n      <td>0</td>\n      <td>0</td>\n      <td>0</td>\n      <td>0</td>\n      <td>1</td>\n    </tr>\n  </tbody>\n</table>\n<p>5 rows × 285 columns</p>\n</div>"
     },
     "execution_count": 3,
     "metadata": {},
     "output_type": "execute_result"
    }
   ],
   "source": [
    "df = pd.read_csv(DATASET)\n",
    "\n",
    "# numerical_attr_list = [col for col in df.columns if is_numeric_dtype(df[col])]\n",
    "categorical_attr_list = [col for col in df.columns if not is_numeric_dtype(df[col])]\n",
    "\n",
    "df_reg = df.drop(categorical_attr_list, axis=1)\n",
    "df_reg = df_reg.join(pd.get_dummies(df[categorical_attr_list], columns=categorical_attr_list).astype(int))\n",
    "df_reg.head()"
   ],
   "metadata": {
    "collapsed": false,
    "ExecuteTime": {
     "end_time": "2023-06-01T16:03:41.999060Z",
     "start_time": "2023-06-01T16:03:41.909719Z"
    }
   }
  },
  {
   "cell_type": "code",
   "execution_count": 4,
   "outputs": [
    {
     "data": {
      "text/plain": "stft_min    False\nsc_min      False\ndtype: bool"
     },
     "execution_count": 4,
     "metadata": {},
     "output_type": "execute_result"
    }
   ],
   "source": [
    "features_to_correct = ['stft_min', 'sc_min']\n",
    "(df[features_to_correct] < 0).any()"
   ],
   "metadata": {
    "collapsed": false,
    "ExecuteTime": {
     "end_time": "2023-06-01T16:03:41.999374Z",
     "start_time": "2023-06-01T16:03:41.994193Z"
    }
   }
  },
  {
   "cell_type": "markdown",
   "source": [
    "# stft_min"
   ],
   "metadata": {
    "collapsed": false
   }
  },
  {
   "cell_type": "code",
   "execution_count": 5,
   "outputs": [
    {
     "data": {
      "text/plain": "<Figure size 640x480 with 1 Axes>",
      "image/png": "[encoded data removed]"
     },
     "metadata": {},
     "output_type": "display_data"
    }
   ],
   "source": [
    "sns.histplot(data=df, x=df['stft_min'], stat='density')\n",
    "plt.xlabel(f'stft_min')\n",
    "plt.ylabel('count')\n",
    "plt.title(f'Distribution of stft_min')\n",
    "plt.show()"
   ],
   "metadata": {
    "collapsed": false,
    "ExecuteTime": {
     "end_time": "2023-06-01T16:03:42.190340Z",
     "start_time": "2023-06-01T16:03:41.997547Z"
    }
   }
  },
  {
   "cell_type": "code",
   "execution_count": 6,
   "outputs": [
    {
     "data": {
      "text/plain": "(1058, 284)"
     },
     "metadata": {},
     "output_type": "display_data"
    },
    {
     "data": {
      "text/plain": "(362, 284)"
     },
     "metadata": {},
     "output_type": "display_data"
    },
    {
     "data": {
      "text/plain": "(1009, 284)"
     },
     "metadata": {},
     "output_type": "display_data"
    }
   ],
   "source": [
    "# rows to be fixed, do not reset indexes!\n",
    "df_zero = df_reg[df_reg['stft_min'] == 0]\n",
    "df_nz = df_reg[df_reg['stft_min'] != 0].reset_index(drop=True)\n",
    "\n",
    "# dataframe has been one hot encoded\n",
    "split_index = df_nz.index[df_nz['actor_actor_19'] == 1][0]\n",
    "\n",
    "df_train = df_nz[:split_index]\n",
    "df_test = df_nz[split_index:]\n",
    "\n",
    "y_train = np.log10(df_train['stft_min'].to_numpy())\n",
    "y_test = np.log10(df_test['stft_min'].to_numpy())\n",
    "\n",
    "df_zero = df_zero.drop(['stft_min'], axis=1)\n",
    "df_train = df_train.drop(['stft_min'], axis=1)\n",
    "df_test = df_test.drop(['stft_min'], axis=1)\n",
    "\n",
    "X_to_pred = df_zero.to_numpy()\n",
    "X_train = df_train.to_numpy()\n",
    "X_test = df_test.to_numpy()\n",
    "\n",
    "display(df_train.shape, df_test.shape, X_to_pred.shape)"
   ],
   "metadata": {
    "collapsed": false,
    "ExecuteTime": {
     "end_time": "2023-06-01T16:03:42.203157Z",
     "start_time": "2023-06-01T16:03:42.194565Z"
    }
   }
  },
  {
   "cell_type": "code",
   "execution_count": 7,
   "outputs": [
    {
     "data": {
      "text/plain": "<Figure size 1000x400 with 1 Axes>",
      "image/png": "[encoded data removed]"
     },
     "metadata": {},
     "output_type": "display_data"
    }
   ],
   "source": [
    "f_selector = SelectKBest(score_func=mutual_info_regression, k='all')\n",
    "f_selector.fit(X_train, y_train)\n",
    "\n",
    "plt.figure(figsize=(10, 4))\n",
    "plt.bar([i for i in range(len(f_selector.scores_))], f_selector.scores_)\n",
    "plt.xlabel('Feature index')\n",
    "plt.ylabel('Estimated MI value')\n",
    "plt.show()"
   ],
   "metadata": {
    "collapsed": false,
    "ExecuteTime": {
     "end_time": "2023-06-01T16:03:43.233995Z",
     "start_time": "2023-06-01T16:03:42.205116Z"
    }
   }
  },
  {
   "cell_type": "code",
   "execution_count": 8,
   "outputs": [],
   "source": [
    "f_selector = SelectKBest(score_func=mutual_info_regression, k=20)\n",
    "f_selector.fit(X_train, y_train)\n",
    "\n",
    "X_train = f_selector.transform(X_train)\n",
    "X_test = f_selector.transform(X_test)\n",
    "X_to_pred = f_selector.transform(X_to_pred)"
   ],
   "metadata": {
    "collapsed": false,
    "ExecuteTime": {
     "end_time": "2023-06-01T16:03:43.912179Z",
     "start_time": "2023-06-01T16:03:43.234832Z"
    }
   }
  },
  {
   "cell_type": "code",
   "execution_count": 9,
   "outputs": [],
   "source": [
    "scaler = MinMaxScaler()\n",
    "\n",
    "X_train = scaler.fit_transform(X_train)\n",
    "X_test = scaler.fit_transform(X_test)\n",
    "X_to_pred = scaler.fit_transform(X_to_pred)"
   ],
   "metadata": {
    "collapsed": false,
    "ExecuteTime": {
     "end_time": "2023-06-01T16:03:43.915660Z",
     "start_time": "2023-06-01T16:03:43.912565Z"
    }
   }
  },
  {
   "cell_type": "code",
   "execution_count": 10,
   "outputs": [
    {
     "name": "stderr",
     "output_type": "stream",
     "text": [
      "[I 2023-06-01 18:03:44,087] A new study created in memory with name: no-name-ff3bab58-629e-4890-a387-ff2ec61d4f82\n",
      "[I 2023-06-01 18:03:44,443] Trial 0 finished with value: 0.08976561614863467 and parameters: {'booster': 'dart', 'gamma': 0.9448585596123854, 'max_depth': 8, 'min_child_weight': 3, 'subsample': 0.9084188407851309}. Best is trial 0 with value: 0.08976561614863467.\n",
      "[I 2023-06-01 18:03:44,562] Trial 1 finished with value: 0.09001138881451336 and parameters: {'booster': 'gbtree', 'gamma': 3.452890708319391, 'max_depth': 7, 'min_child_weight': 2, 'subsample': 0.8567508666572349}. Best is trial 0 with value: 0.08976561614863467.\n",
      "[I 2023-06-01 18:03:45,080] Trial 2 finished with value: 0.08853114221022718 and parameters: {'booster': 'dart', 'gamma': 4.528839910411082, 'max_depth': 19, 'min_child_weight': 1, 'subsample': 0.9922258736486481}. Best is trial 2 with value: 0.08853114221022718.\n",
      "[I 2023-06-01 18:03:45,313] Trial 3 finished with value: 0.09598510945213949 and parameters: {'booster': 'gbtree', 'gamma': 2.7116363231610374, 'max_depth': 16, 'min_child_weight': 1, 'subsample': 0.6085391820638525}. Best is trial 2 with value: 0.08853114221022718.\n",
      "[I 2023-06-01 18:03:45,785] Trial 4 finished with value: 0.09193036042419535 and parameters: {'booster': 'dart', 'gamma': 0.7998297039616775, 'max_depth': 20, 'min_child_weight': 2, 'subsample': 0.755337238774312}. Best is trial 2 with value: 0.08853114221022718.\n",
      "[I 2023-06-01 18:03:46,089] Trial 5 finished with value: 0.09402290234819034 and parameters: {'booster': 'gbtree', 'gamma': 0.9924963355404715, 'max_depth': 20, 'min_child_weight': 1, 'subsample': 0.831926274389366}. Best is trial 2 with value: 0.08853114221022718.\n",
      "[I 2023-06-01 18:03:46,480] Trial 6 finished with value: 0.0903654957804367 and parameters: {'booster': 'dart', 'gamma': 0.26613519283999687, 'max_depth': 17, 'min_child_weight': 2, 'subsample': 0.42569281508678203}. Best is trial 2 with value: 0.08853114221022718.\n",
      "[I 2023-06-01 18:03:46,851] Trial 7 finished with value: 0.10760458809586598 and parameters: {'booster': 'dart', 'gamma': 0.7384892891652572, 'max_depth': 13, 'min_child_weight': 1, 'subsample': 0.5170668634934117}. Best is trial 2 with value: 0.08853114221022718.\n",
      "[I 2023-06-01 18:03:47,087] Trial 8 finished with value: 0.09072155521441967 and parameters: {'booster': 'gbtree', 'gamma': 2.5271505862728985, 'max_depth': 20, 'min_child_weight': 3, 'subsample': 0.7189275976977336}. Best is trial 2 with value: 0.08853114221022718.\n",
      "[I 2023-06-01 18:03:47,376] Trial 9 finished with value: 0.08958969632692397 and parameters: {'booster': 'dart', 'gamma': 3.0968440188754007, 'max_depth': 6, 'min_child_weight': 1, 'subsample': 0.9016176049615955}. Best is trial 2 with value: 0.08853114221022718.\n",
      "[I 2023-06-01 18:03:47,628] Trial 10 finished with value: 0.08989881414423592 and parameters: {'booster': 'dart', 'gamma': 4.455271513408389, 'max_depth': 3, 'min_child_weight': 1, 'subsample': 0.9196712047123091}. Best is trial 2 with value: 0.08853114221022718.\n",
      "[I 2023-06-01 18:03:48,043] Trial 11 finished with value: 0.09105598760539478 and parameters: {'booster': 'dart', 'gamma': 4.994586376323144, 'max_depth': 10, 'min_child_weight': 1, 'subsample': 0.9877570389478979}. Best is trial 2 with value: 0.08853114221022718.\n",
      "[I 2023-06-01 18:03:48,286] Trial 12 finished with value: 0.0895600430862723 and parameters: {'booster': 'dart', 'gamma': 3.7751812412227945, 'max_depth': 3, 'min_child_weight': 1, 'subsample': 0.9999977076815386}. Best is trial 2 with value: 0.08853114221022718.\n",
      "[I 2023-06-01 18:03:48,534] Trial 13 finished with value: 0.09249279750174716 and parameters: {'booster': 'dart', 'gamma': 3.9156302601306425, 'max_depth': 3, 'min_child_weight': 2, 'subsample': 0.9419976551893046}. Best is trial 2 with value: 0.08853114221022718.\n",
      "[I 2023-06-01 18:03:49,030] Trial 14 finished with value: 0.08776125200415162 and parameters: {'booster': 'dart', 'gamma': 4.008032929506969, 'max_depth': 14, 'min_child_weight': 1, 'subsample': 0.9977611231674381}. Best is trial 14 with value: 0.08776125200415162.\n",
      "[I 2023-06-01 18:03:49,506] Trial 15 finished with value: 0.08988978677940362 and parameters: {'booster': 'dart', 'gamma': 4.4963324351905305, 'max_depth': 15, 'min_child_weight': 2, 'subsample': 0.8103903465100074}. Best is trial 14 with value: 0.08776125200415162.\n",
      "[I 2023-06-01 18:03:49,995] Trial 16 finished with value: 0.09113825293866441 and parameters: {'booster': 'dart', 'gamma': 4.136438324706847, 'max_depth': 13, 'min_child_weight': 1, 'subsample': 0.9844822164493834}. Best is trial 14 with value: 0.08776125200415162.\n",
      "[I 2023-06-01 18:03:50,436] Trial 17 finished with value: 0.09038980121129916 and parameters: {'booster': 'dart', 'gamma': 4.984800689541876, 'max_depth': 18, 'min_child_weight': 3, 'subsample': 0.7898416518992929}. Best is trial 14 with value: 0.08776125200415162.\n",
      "[I 2023-06-01 18:03:50,666] Trial 18 finished with value: 0.09139824871494424 and parameters: {'booster': 'gbtree', 'gamma': 3.1986903820605352, 'max_depth': 13, 'min_child_weight': 2, 'subsample': 0.8673457656491742}. Best is trial 14 with value: 0.08776125200415162.\n",
      "[I 2023-06-01 18:03:51,055] Trial 19 finished with value: 0.0882033837825799 and parameters: {'booster': 'dart', 'gamma': 1.9423375724801142, 'max_depth': 11, 'min_child_weight': 1, 'subsample': 0.6689151282834254}. Best is trial 14 with value: 0.08776125200415162.\n",
      "[I 2023-06-01 18:03:51,427] Trial 20 finished with value: 0.08277282246889306 and parameters: {'booster': 'dart', 'gamma': 1.6473595533720855, 'max_depth': 10, 'min_child_weight': 2, 'subsample': 0.6615104869897539}. Best is trial 20 with value: 0.08277282246889306.\n",
      "[I 2023-06-01 18:03:51,821] Trial 21 finished with value: 0.09196223426065311 and parameters: {'booster': 'dart', 'gamma': 1.9759601361967463, 'max_depth': 10, 'min_child_weight': 2, 'subsample': 0.656105225714244}. Best is trial 20 with value: 0.08277282246889306.\n",
      "[I 2023-06-01 18:03:52,212] Trial 22 finished with value: 0.08451757084761166 and parameters: {'booster': 'dart', 'gamma': 1.8363527305378486, 'max_depth': 11, 'min_child_weight': 1, 'subsample': 0.6672895392271342}. Best is trial 20 with value: 0.08277282246889306.\n",
      "[I 2023-06-01 18:03:52,565] Trial 23 finished with value: 0.0884699559093388 and parameters: {'booster': 'dart', 'gamma': 1.86259266078665, 'max_depth': 9, 'min_child_weight': 2, 'subsample': 0.734404524795462}. Best is trial 20 with value: 0.08277282246889306.\n",
      "[I 2023-06-01 18:03:53,013] Trial 24 finished with value: 0.08969930113231267 and parameters: {'booster': 'dart', 'gamma': 1.592221057123112, 'max_depth': 15, 'min_child_weight': 3, 'subsample': 0.620923068074023}. Best is trial 20 with value: 0.08277282246889306.\n",
      "[I 2023-06-01 18:03:53,434] Trial 25 finished with value: 0.08807693890473799 and parameters: {'booster': 'dart', 'gamma': 2.340385078170286, 'max_depth': 12, 'min_child_weight': 1, 'subsample': 0.7866167224503933}. Best is trial 20 with value: 0.08277282246889306.\n",
      "[I 2023-06-01 18:03:53,533] Trial 26 finished with value: 0.09239216161103758 and parameters: {'booster': 'gbtree', 'gamma': 1.39501670766468, 'max_depth': 6, 'min_child_weight': 2, 'subsample': 0.6897516653100307}. Best is trial 20 with value: 0.08277282246889306.\n",
      "[I 2023-06-01 18:03:53,985] Trial 27 finished with value: 0.09222442623229325 and parameters: {'booster': 'dart', 'gamma': 2.3021431317070773, 'max_depth': 14, 'min_child_weight': 1, 'subsample': 0.7582554615191239}. Best is trial 20 with value: 0.08277282246889306.\n",
      "[I 2023-06-01 18:03:54,374] Trial 28 finished with value: 0.0934633232336534 and parameters: {'booster': 'dart', 'gamma': 1.3266503302649886, 'max_depth': 11, 'min_child_weight': 2, 'subsample': 0.7140005370573737}. Best is trial 20 with value: 0.08277282246889306.\n",
      "[I 2023-06-01 18:03:54,690] Trial 29 finished with value: 0.09035557661044162 and parameters: {'booster': 'dart', 'gamma': 2.690506213938402, 'max_depth': 8, 'min_child_weight': 3, 'subsample': 0.5932672683668148}. Best is trial 20 with value: 0.08277282246889306.\n",
      "[I 2023-06-01 18:03:55,045] Trial 30 finished with value: 0.0921242853413978 and parameters: {'booster': 'dart', 'gamma': 2.9841306657991655, 'max_depth': 9, 'min_child_weight': 3, 'subsample': 0.564865098704359}. Best is trial 20 with value: 0.08277282246889306.\n",
      "[I 2023-06-01 18:03:55,458] Trial 31 finished with value: 0.08395554885876856 and parameters: {'booster': 'dart', 'gamma': 2.08963618531599, 'max_depth': 12, 'min_child_weight': 1, 'subsample': 0.767870756329918}. Best is trial 20 with value: 0.08277282246889306.\n",
      "[I 2023-06-01 18:03:55,873] Trial 32 finished with value: 0.09178721294504064 and parameters: {'booster': 'dart', 'gamma': 2.1762217717415373, 'max_depth': 12, 'min_child_weight': 1, 'subsample': 0.6835638839667361}. Best is trial 20 with value: 0.08277282246889306.\n",
      "[I 2023-06-01 18:03:56,321] Trial 33 finished with value: 0.08279051184457938 and parameters: {'booster': 'dart', 'gamma': 1.676947154272151, 'max_depth': 14, 'min_child_weight': 1, 'subsample': 0.652865653638261}. Best is trial 20 with value: 0.08277282246889306.\n",
      "[I 2023-06-01 18:03:56,507] Trial 34 finished with value: 0.08576640468505063 and parameters: {'booster': 'gbtree', 'gamma': 1.83821624147394, 'max_depth': 10, 'min_child_weight': 1, 'subsample': 0.6402840604050348}. Best is trial 20 with value: 0.08277282246889306.\n",
      "[I 2023-06-01 18:03:56,853] Trial 35 finished with value: 0.0888245363950205 and parameters: {'booster': 'dart', 'gamma': 1.5017355680606248, 'max_depth': 8, 'min_child_weight': 1, 'subsample': 0.6912576841077442}. Best is trial 20 with value: 0.08277282246889306.\n",
      "[I 2023-06-01 18:03:57,334] Trial 36 finished with value: 0.09432178728851323 and parameters: {'booster': 'dart', 'gamma': 2.1436475294055546, 'max_depth': 16, 'min_child_weight': 1, 'subsample': 0.6532069735857126}. Best is trial 20 with value: 0.08277282246889306.\n",
      "[I 2023-06-01 18:03:57,543] Trial 37 finished with value: 0.09399028019581475 and parameters: {'booster': 'gbtree', 'gamma': 1.15502723662124, 'max_depth': 12, 'min_child_weight': 2, 'subsample': 0.7628075506956111}. Best is trial 20 with value: 0.08277282246889306.\n",
      "[I 2023-06-01 18:03:57,872] Trial 38 finished with value: 0.08283062713068096 and parameters: {'booster': 'dart', 'gamma': 1.6471761449123923, 'max_depth': 7, 'min_child_weight': 1, 'subsample': 0.7206858831589115}. Best is trial 20 with value: 0.08277282246889306.\n",
      "[I 2023-06-01 18:03:58,221] Trial 39 finished with value: 0.0899825014751813 and parameters: {'booster': 'dart', 'gamma': 1.0727941478963876, 'max_depth': 6, 'min_child_weight': 1, 'subsample': 0.7513178792131733}. Best is trial 20 with value: 0.08277282246889306.\n",
      "[I 2023-06-01 18:03:58,311] Trial 40 finished with value: 0.08553153266293709 and parameters: {'booster': 'gbtree', 'gamma': 1.620857858895629, 'max_depth': 5, 'min_child_weight': 1, 'subsample': 0.6950171652004593}. Best is trial 20 with value: 0.08277282246889306.\n",
      "[I 2023-06-01 18:03:58,675] Trial 41 finished with value: 0.09134719761146398 and parameters: {'booster': 'dart', 'gamma': 1.6756483188481293, 'max_depth': 9, 'min_child_weight': 1, 'subsample': 0.6291730918244289}. Best is trial 20 with value: 0.08277282246889306.\n",
      "[I 2023-06-01 18:03:59,008] Trial 42 finished with value: 0.08801894786288858 and parameters: {'booster': 'dart', 'gamma': 1.2618405996985762, 'max_depth': 7, 'min_child_weight': 1, 'subsample': 0.7257159123955628}. Best is trial 20 with value: 0.08277282246889306.\n",
      "[I 2023-06-01 18:03:59,431] Trial 43 finished with value: 0.09250982109540612 and parameters: {'booster': 'dart', 'gamma': 0.8461407730246164, 'max_depth': 11, 'min_child_weight': 1, 'subsample': 0.7036556420068941}. Best is trial 20 with value: 0.08277282246889306.\n",
      "[I 2023-06-01 18:03:59,884] Trial 44 finished with value: 0.08277523619751163 and parameters: {'booster': 'dart', 'gamma': 1.7465882717378962, 'max_depth': 14, 'min_child_weight': 1, 'subsample': 0.6620512494803962}. Best is trial 20 with value: 0.08277282246889306.\n",
      "[I 2023-06-01 18:04:00,336] Trial 45 finished with value: 0.09224610807123375 and parameters: {'booster': 'dart', 'gamma': 2.5180426830199982, 'max_depth': 14, 'min_child_weight': 1, 'subsample': 0.5839203833002613}. Best is trial 20 with value: 0.08277282246889306.\n",
      "[I 2023-06-01 18:04:00,785] Trial 46 finished with value: 0.09228487011392558 and parameters: {'booster': 'dart', 'gamma': 1.4815010416065242, 'max_depth': 16, 'min_child_weight': 2, 'subsample': 0.6173028877906673}. Best is trial 20 with value: 0.08277282246889306.\n",
      "[I 2023-06-01 18:04:01,340] Trial 47 finished with value: 0.09077810784721442 and parameters: {'booster': 'dart', 'gamma': 0.942525386217882, 'max_depth': 17, 'min_child_weight': 1, 'subsample': 0.7314655675777324}. Best is trial 20 with value: 0.08277282246889306.\n",
      "[I 2023-06-01 18:04:01,784] Trial 48 finished with value: 0.09446251733227934 and parameters: {'booster': 'dart', 'gamma': 2.1240606944744407, 'max_depth': 13, 'min_child_weight': 1, 'subsample': 0.6519191247218011}. Best is trial 20 with value: 0.08277282246889306.\n",
      "[I 2023-06-01 18:04:02,245] Trial 49 finished with value: 0.09457539325969103 and parameters: {'booster': 'dart', 'gamma': 0.6086813343720276, 'max_depth': 15, 'min_child_weight': 1, 'subsample': 0.5555802708709207}. Best is trial 20 with value: 0.08277282246889306.\n",
      "[I 2023-06-01 18:04:02,584] Trial 50 finished with value: 0.08561966712457739 and parameters: {'booster': 'dart', 'gamma': 1.7459491624947163, 'max_depth': 5, 'min_child_weight': 1, 'subsample': 0.7132939091349323}. Best is trial 20 with value: 0.08277282246889306.\n",
      "[I 2023-06-01 18:04:03,045] Trial 51 finished with value: 0.08501080884054057 and parameters: {'booster': 'dart', 'gamma': 1.7510478757984413, 'max_depth': 14, 'min_child_weight': 1, 'subsample': 0.6755637428604141}. Best is trial 20 with value: 0.08277282246889306.\n",
      "[I 2023-06-01 18:04:03,500] Trial 52 finished with value: 0.09145429197780855 and parameters: {'booster': 'dart', 'gamma': 1.9999361650849776, 'max_depth': 13, 'min_child_weight': 1, 'subsample': 0.6392724894083767}. Best is trial 20 with value: 0.08277282246889306.\n",
      "[I 2023-06-01 18:04:03,934] Trial 53 finished with value: 0.09300267901624551 and parameters: {'booster': 'dart', 'gamma': 1.3167155802675086, 'max_depth': 12, 'min_child_weight': 1, 'subsample': 0.6729560593363997}. Best is trial 20 with value: 0.08277282246889306.\n",
      "[I 2023-06-01 18:04:04,320] Trial 54 finished with value: 0.08271543211688437 and parameters: {'booster': 'dart', 'gamma': 1.6702205427091446, 'max_depth': 10, 'min_child_weight': 1, 'subsample': 0.6644558183720067}. Best is trial 54 with value: 0.08271543211688437.\n",
      "[I 2023-06-01 18:04:04,717] Trial 55 finished with value: 0.08897257119356403 and parameters: {'booster': 'dart', 'gamma': 1.565915227327367, 'max_depth': 10, 'min_child_weight': 1, 'subsample': 0.600733896165721}. Best is trial 54 with value: 0.08271543211688437.\n",
      "[I 2023-06-01 18:04:05,046] Trial 56 finished with value: 0.09682300423870174 and parameters: {'booster': 'dart', 'gamma': 1.1501074209014914, 'max_depth': 7, 'min_child_weight': 2, 'subsample': 0.7006357067133729}. Best is trial 54 with value: 0.08271543211688437.\n",
      "[I 2023-06-01 18:04:05,221] Trial 57 finished with value: 0.08549826392479366 and parameters: {'booster': 'gbtree', 'gamma': 1.9909299942334042, 'max_depth': 9, 'min_child_weight': 1, 'subsample': 0.7403554547898232}. Best is trial 54 with value: 0.08271543211688437.\n",
      "[I 2023-06-01 18:04:05,527] Trial 58 finished with value: 0.08391221790009976 and parameters: {'booster': 'dart', 'gamma': 1.446631684147886, 'max_depth': 4, 'min_child_weight': 1, 'subsample': 0.8246090991290507}. Best is trial 54 with value: 0.08271543211688437.\n",
      "[I 2023-06-01 18:04:05,823] Trial 59 finished with value: 0.0885324693569441 and parameters: {'booster': 'dart', 'gamma': 1.6630071426443163, 'max_depth': 4, 'min_child_weight': 1, 'subsample': 0.8090108101315936}. Best is trial 54 with value: 0.08271543211688437.\n",
      "[I 2023-06-01 18:04:06,137] Trial 60 finished with value: 0.09244826599787453 and parameters: {'booster': 'dart', 'gamma': 1.4343574126304945, 'max_depth': 5, 'min_child_weight': 2, 'subsample': 0.8329831756158397}. Best is trial 54 with value: 0.08271543211688437.\n",
      "[I 2023-06-01 18:04:06,429] Trial 61 finished with value: 0.08191390725198655 and parameters: {'booster': 'dart', 'gamma': 1.8105008713501065, 'max_depth': 4, 'min_child_weight': 1, 'subsample': 0.7682872349602288}. Best is trial 61 with value: 0.08191390725198655.\n",
      "[I 2023-06-01 18:04:06,728] Trial 62 finished with value: 0.08283126987593918 and parameters: {'booster': 'dart', 'gamma': 1.8329238817805331, 'max_depth': 4, 'min_child_weight': 1, 'subsample': 0.72039795330568}. Best is trial 61 with value: 0.08191390725198655.\n",
      "[I 2023-06-01 18:04:07,034] Trial 63 finished with value: 0.09368161804942383 and parameters: {'booster': 'dart', 'gamma': 1.8315893742889087, 'max_depth': 4, 'min_child_weight': 1, 'subsample': 0.7193992279653547}. Best is trial 61 with value: 0.08191390725198655.\n",
      "[I 2023-06-01 18:04:07,316] Trial 64 finished with value: 0.09099267611694814 and parameters: {'booster': 'dart', 'gamma': 2.2859200241868614, 'max_depth': 3, 'min_child_weight': 1, 'subsample': 0.6615821591077679}. Best is trial 61 with value: 0.08191390725198655.\n",
      "[I 2023-06-01 18:04:07,668] Trial 65 finished with value: 0.09056809615520928 and parameters: {'booster': 'dart', 'gamma': 1.907320008937803, 'max_depth': 7, 'min_child_weight': 1, 'subsample': 0.6815298357399538}. Best is trial 61 with value: 0.08191390725198655.\n",
      "[I 2023-06-01 18:04:08,014] Trial 66 finished with value: 0.0857951613765475 and parameters: {'booster': 'dart', 'gamma': 1.6326651643528347, 'max_depth': 6, 'min_child_weight': 1, 'subsample': 0.633290212495048}. Best is trial 61 with value: 0.08191390725198655.\n",
      "[I 2023-06-01 18:04:08,391] Trial 67 finished with value: 0.08547604892091452 and parameters: {'booster': 'dart', 'gamma': 1.2092639816929753, 'max_depth': 8, 'min_child_weight': 1, 'subsample': 0.710752816502118}. Best is trial 61 with value: 0.08191390725198655.\n",
      "[I 2023-06-01 18:04:08,680] Trial 68 finished with value: 0.08999244632632254 and parameters: {'booster': 'dart', 'gamma': 2.356424714449078, 'max_depth': 4, 'min_child_weight': 3, 'subsample': 0.7391715563918791}. Best is trial 61 with value: 0.08191390725198655.\n",
      "[I 2023-06-01 18:04:08,750] Trial 69 finished with value: 0.09616160706515796 and parameters: {'booster': 'gbtree', 'gamma': 1.7672823650565113, 'max_depth': 3, 'min_child_weight': 1, 'subsample': 0.653951818322815}. Best is trial 61 with value: 0.08191390725198655.\n",
      "[I 2023-06-01 18:04:09,093] Trial 70 finished with value: 0.09326404431800397 and parameters: {'booster': 'dart', 'gamma': 1.3460064071645195, 'max_depth': 5, 'min_child_weight': 1, 'subsample': 0.7779965480807743}. Best is trial 61 with value: 0.08191390725198655.\n",
      "[I 2023-06-01 18:04:09,383] Trial 71 finished with value: 0.09290845233489024 and parameters: {'booster': 'dart', 'gamma': 1.4984514230236423, 'max_depth': 4, 'min_child_weight': 1, 'subsample': 0.7567647164057663}. Best is trial 61 with value: 0.08191390725198655.\n",
      "[I 2023-06-01 18:04:09,661] Trial 72 finished with value: 0.08382743398827781 and parameters: {'booster': 'dart', 'gamma': 1.4116795884989402, 'max_depth': 3, 'min_child_weight': 1, 'subsample': 0.6869487330140469}. Best is trial 61 with value: 0.08191390725198655.\n",
      "[I 2023-06-01 18:04:09,947] Trial 73 finished with value: 0.08348283303711364 and parameters: {'booster': 'dart', 'gamma': 1.9664499966439322, 'max_depth': 3, 'min_child_weight': 1, 'subsample': 0.6817935052078478}. Best is trial 61 with value: 0.08191390725198655.\n",
      "[I 2023-06-01 18:04:10,292] Trial 74 finished with value: 0.09214641906814862 and parameters: {'booster': 'dart', 'gamma': 1.9516851501880752, 'max_depth': 6, 'min_child_weight': 1, 'subsample': 0.6632712195340618}. Best is trial 61 with value: 0.08191390725198655.\n",
      "[I 2023-06-01 18:04:10,567] Trial 75 finished with value: 0.09432440787273326 and parameters: {'booster': 'dart', 'gamma': 1.75734856312923, 'max_depth': 3, 'min_child_weight': 1, 'subsample': 0.7005240819132231}. Best is trial 61 with value: 0.08191390725198655.\n",
      "[I 2023-06-01 18:04:10,955] Trial 76 finished with value: 0.09433588983126143 and parameters: {'booster': 'dart', 'gamma': 2.10761695250302, 'max_depth': 10, 'min_child_weight': 2, 'subsample': 0.6232066717961953}. Best is trial 61 with value: 0.08191390725198655.\n",
      "[I 2023-06-01 18:04:11,312] Trial 77 finished with value: 0.08328422196687608 and parameters: {'booster': 'dart', 'gamma': 1.861453043430243, 'max_depth': 8, 'min_child_weight': 1, 'subsample': 0.7235962130288405}. Best is trial 61 with value: 0.08191390725198655.\n",
      "[I 2023-06-01 18:04:11,679] Trial 78 finished with value: 0.08962369871557091 and parameters: {'booster': 'dart', 'gamma': 1.6064784893358814, 'max_depth': 8, 'min_child_weight': 1, 'subsample': 0.7456895712976759}. Best is trial 61 with value: 0.08191390725198655.\n",
      "[I 2023-06-01 18:04:11,804] Trial 79 finished with value: 0.09382379378750876 and parameters: {'booster': 'gbtree', 'gamma': 1.834165251014699, 'max_depth': 7, 'min_child_weight': 1, 'subsample': 0.7308084127291861}. Best is trial 61 with value: 0.08191390725198655.\n",
      "[I 2023-06-01 18:04:12,201] Trial 80 finished with value: 0.09019122497962945 and parameters: {'booster': 'dart', 'gamma': 2.1984231962204475, 'max_depth': 9, 'min_child_weight': 2, 'subsample': 0.7747303709540576}. Best is trial 61 with value: 0.08191390725198655.\n",
      "[I 2023-06-01 18:04:12,734] Trial 81 finished with value: 0.09098171650664345 and parameters: {'booster': 'dart', 'gamma': 2.011113815833316, 'max_depth': 19, 'min_child_weight': 1, 'subsample': 0.7192649462274618}. Best is trial 61 with value: 0.08191390725198655.\n",
      "[I 2023-06-01 18:04:13,186] Trial 82 finished with value: 0.08731929995151891 and parameters: {'booster': 'dart', 'gamma': 1.699893437262014, 'max_depth': 11, 'min_child_weight': 1, 'subsample': 0.682205021461053}. Best is trial 61 with value: 0.08191390725198655.\n",
      "[I 2023-06-01 18:04:13,509] Trial 83 finished with value: 0.0891716707817767 and parameters: {'booster': 'dart', 'gamma': 1.5416668167982144, 'max_depth': 5, 'min_child_weight': 1, 'subsample': 0.7033068022849316}. Best is trial 61 with value: 0.08191390725198655.\n",
      "[I 2023-06-01 18:04:13,935] Trial 84 finished with value: 0.08414095658027144 and parameters: {'booster': 'dart', 'gamma': 1.8911813214668283, 'max_depth': 10, 'min_child_weight': 1, 'subsample': 0.6505860374735324}. Best is trial 61 with value: 0.08191390725198655.\n",
      "[I 2023-06-01 18:04:14,448] Trial 85 finished with value: 0.08986449840993554 and parameters: {'booster': 'dart', 'gamma': 2.4334387789061847, 'max_depth': 16, 'min_child_weight': 1, 'subsample': 0.6660349283938635}. Best is trial 61 with value: 0.08191390725198655.\n",
      "[I 2023-06-01 18:04:14,919] Trial 86 finished with value: 0.09122131795877106 and parameters: {'booster': 'dart', 'gamma': 2.039468359976709, 'max_depth': 13, 'min_child_weight': 1, 'subsample': 0.691326070460057}. Best is trial 61 with value: 0.08191390725198655.\n",
      "[I 2023-06-01 18:04:15,453] Trial 87 finished with value: 0.09279575868337803 and parameters: {'booster': 'dart', 'gamma': 1.2651099819792504, 'max_depth': 15, 'min_child_weight': 1, 'subsample': 0.6427705571781112}. Best is trial 61 with value: 0.08191390725198655.\n",
      "[I 2023-06-01 18:04:15,812] Trial 88 finished with value: 0.08647731386555077 and parameters: {'booster': 'dart', 'gamma': 2.1877138063887243, 'max_depth': 8, 'min_child_weight': 1, 'subsample': 0.7255286590917809}. Best is trial 61 with value: 0.08191390725198655.\n",
      "[I 2023-06-01 18:04:16,240] Trial 89 finished with value: 0.09318288781512261 and parameters: {'booster': 'dart', 'gamma': 1.5733085465377954, 'max_depth': 11, 'min_child_weight': 1, 'subsample': 0.6104564186155969}. Best is trial 61 with value: 0.08191390725198655.\n",
      "[I 2023-06-01 18:04:16,698] Trial 90 finished with value: 0.08764012799901225 and parameters: {'booster': 'dart', 'gamma': 1.9224697662192916, 'max_depth': 14, 'min_child_weight': 3, 'subsample': 0.7504902031984665}. Best is trial 61 with value: 0.08191390725198655.\n",
      "[I 2023-06-01 18:04:16,976] Trial 91 finished with value: 0.08467457927699817 and parameters: {'booster': 'dart', 'gamma': 1.41884692754395, 'max_depth': 3, 'min_child_weight': 1, 'subsample': 0.6809707133088577}. Best is trial 61 with value: 0.08191390725198655.\n",
      "[I 2023-06-01 18:04:17,276] Trial 92 finished with value: 0.0853033042449653 and parameters: {'booster': 'dart', 'gamma': 1.7237757386324701, 'max_depth': 4, 'min_child_weight': 1, 'subsample': 0.6708512730525296}. Best is trial 61 with value: 0.08191390725198655.\n",
      "[I 2023-06-01 18:04:17,566] Trial 93 finished with value: 0.08583096295893276 and parameters: {'booster': 'dart', 'gamma': 1.4341780091382472, 'max_depth': 3, 'min_child_weight': 1, 'subsample': 0.6933977911354423}. Best is trial 61 with value: 0.08191390725198655.\n",
      "[I 2023-06-01 18:04:17,874] Trial 94 finished with value: 0.08410752705710321 and parameters: {'booster': 'dart', 'gamma': 1.3594738001050517, 'max_depth': 4, 'min_child_weight': 1, 'subsample': 0.7116801144039251}. Best is trial 61 with value: 0.08191390725198655.\n",
      "[I 2023-06-01 18:04:18,188] Trial 95 finished with value: 0.08748573159724682 and parameters: {'booster': 'dart', 'gamma': 1.8338129283004905, 'max_depth': 5, 'min_child_weight': 1, 'subsample': 0.6415582092808718}. Best is trial 61 with value: 0.08191390725198655.\n",
      "[I 2023-06-01 18:04:18,607] Trial 96 finished with value: 0.09042697755436478 and parameters: {'booster': 'dart', 'gamma': 1.5654690116031376, 'max_depth': 9, 'min_child_weight': 1, 'subsample': 0.6790865989353619}. Best is trial 61 with value: 0.08191390725198655.\n",
      "[I 2023-06-01 18:04:18,723] Trial 97 finished with value: 0.09020047521019038 and parameters: {'booster': 'gbtree', 'gamma': 1.6633980455923094, 'max_depth': 6, 'min_child_weight': 1, 'subsample': 0.7338987858974295}. Best is trial 61 with value: 0.08191390725198655.\n",
      "[I 2023-06-01 18:04:19,053] Trial 98 finished with value: 0.09262140312119867 and parameters: {'booster': 'dart', 'gamma': 1.0426847358349722, 'max_depth': 3, 'min_child_weight': 1, 'subsample': 0.7033548088378239}. Best is trial 61 with value: 0.08191390725198655.\n",
      "[I 2023-06-01 18:04:19,364] Trial 99 finished with value: 0.09796119461078953 and parameters: {'booster': 'dart', 'gamma': 1.1624706814748642, 'max_depth': 4, 'min_child_weight': 1, 'subsample': 0.6280324294157775}. Best is trial 61 with value: 0.08191390725198655.\n"
     ]
    }
   ],
   "source": [
    "from sklearn.metrics import mean_squared_error, r2_score\n",
    "from xgboost import XGBRegressor\n",
    "import optuna\n",
    "\n",
    "# objective function to be minimized.\n",
    "def objective_fun(trial):\n",
    "\n",
    "    booster = trial.suggest_categorical('booster', ['gbtree', 'dart'])\n",
    "    gamma = trial.suggest_float('gamma', 0, 5)\n",
    "    max_depth = trial.suggest_int('max_depth', 3, 20)\n",
    "    min_child_weight = trial.suggest_int('min_child_weight', 1, 3)\n",
    "    subsample = trial.suggest_float('subsample', 0.4, 1)\n",
    "\n",
    "    xgb = XGBRegressor(booster=booster, gamma=gamma, max_depth=max_depth, min_child_weight=min_child_weight, subsample=subsample)\n",
    "\n",
    "    xgb.fit(X_train, y_train)\n",
    "    y_pred = xgb.predict(X_test)\n",
    "\n",
    "    error = mean_squared_error(y_test, y_pred)\n",
    "\n",
    "    return error\n",
    "\n",
    "\n",
    "study = optuna.create_study()\n",
    "study.optimize(objective_fun, n_trials=100)"
   ],
   "metadata": {
    "collapsed": false,
    "ExecuteTime": {
     "end_time": "2023-06-01T16:04:19.368013Z",
     "start_time": "2023-06-01T16:03:43.919183Z"
    }
   }
  },
  {
   "cell_type": "code",
   "execution_count": 11,
   "outputs": [
    {
     "name": "stdout",
     "output_type": "stream",
     "text": [
      "{'booster': 'dart', 'gamma': 1.8105008713501065, 'max_depth': 4, 'min_child_weight': 1, 'subsample': 0.7682872349602288}\n",
      "Root mean squared error = 0.2862\n",
      "R-squared = 0.8207\n"
     ]
    }
   ],
   "source": [
    "best_params = study.best_params\n",
    "\n",
    "xgb = XGBRegressor(**best_params)\n",
    "xgb.fit(X_train, y_train)\n",
    "\n",
    "y_pred_test = xgb.predict(X_test)\n",
    "\n",
    "print(best_params)\n",
    "print('Root mean squared error = %.4f' % np.sqrt(mean_squared_error(y_test, y_pred_test)))\n",
    "print('R-squared = %.4f' % r2_score(y_test, y_pred_test))"
   ],
   "metadata": {
    "collapsed": false,
    "ExecuteTime": {
     "end_time": "2023-06-01T16:04:19.654934Z",
     "start_time": "2023-06-01T16:04:19.369924Z"
    }
   }
  },
  {
   "cell_type": "code",
   "execution_count": 12,
   "outputs": [
    {
     "data": {
      "text/plain": "array([1.3896951e-02, 2.5098152e-03, 1.7802047e-02, ..., 5.6518373e-05,\n       5.6518373e-05, 5.0185328e-05], dtype=float32)"
     },
     "execution_count": 12,
     "metadata": {},
     "output_type": "execute_result"
    }
   ],
   "source": [
    "y_pred = xgb.predict(X_to_pred)\n",
    "y_pred = np.power(10, y_pred)\n",
    "y_pred"
   ],
   "metadata": {
    "collapsed": false,
    "ExecuteTime": {
     "end_time": "2023-06-01T16:04:19.673209Z",
     "start_time": "2023-06-01T16:04:19.656063Z"
    }
   }
  },
  {
   "cell_type": "code",
   "execution_count": 13,
   "outputs": [
    {
     "data": {
      "text/plain": "0"
     },
     "execution_count": 13,
     "metadata": {},
     "output_type": "execute_result"
    }
   ],
   "source": [
    "# negative values predicted\n",
    "np.count_nonzero(y_pred < 0)"
   ],
   "metadata": {
    "collapsed": false,
    "ExecuteTime": {
     "end_time": "2023-06-01T16:04:19.697243Z",
     "start_time": "2023-06-01T16:04:19.674256Z"
    }
   }
  },
  {
   "cell_type": "code",
   "execution_count": 14,
   "outputs": [],
   "source": [
    "df_zero['stft_min'] = y_pred\n",
    "df.update(df_zero)"
   ],
   "metadata": {
    "collapsed": false,
    "ExecuteTime": {
     "end_time": "2023-06-01T16:04:19.708073Z",
     "start_time": "2023-06-01T16:04:19.679567Z"
    }
   }
  },
  {
   "cell_type": "code",
   "execution_count": 15,
   "outputs": [
    {
     "data": {
      "text/plain": "<Figure size 640x480 with 1 Axes>",
      "image/png": "[encoded data removed]"
     },
     "metadata": {},
     "output_type": "display_data"
    }
   ],
   "source": [
    "sns.histplot(data=df, x='stft_min', stat='density')\n",
    "plt.xlabel(f'stft_min')\n",
    "plt.ylabel('count')\n",
    "plt.title(f'Distribution of stft_min')\n",
    "plt.show()"
   ],
   "metadata": {
    "collapsed": false,
    "ExecuteTime": {
     "end_time": "2023-06-01T16:04:19.898471Z",
     "start_time": "2023-06-01T16:04:19.706061Z"
    }
   }
  },
  {
   "cell_type": "code",
   "execution_count": 16,
   "outputs": [
    {
     "data": {
      "text/plain": "0.9307185483227972"
     },
     "execution_count": 16,
     "metadata": {},
     "output_type": "execute_result"
    }
   ],
   "source": [
    "df['stft_min'].corr(df['stft_q01'], method='spearman')"
   ],
   "metadata": {
    "collapsed": false,
    "ExecuteTime": {
     "end_time": "2023-06-01T16:04:19.904735Z",
     "start_time": "2023-06-01T16:04:19.899651Z"
    }
   }
  }
 ],
 "metadata": {
  "kernelspec": {
   "display_name": "Python 3",
   "language": "python",
   "name": "python3"
  },
  "language_info": {
   "codemirror_mode": {
    "name": "ipython",
    "version": 2
   },
   "file_extension": ".py",
   "mimetype": "text/x-python",
   "name": "python",
   "nbconvert_exporter": "python",
   "pygments_lexer": "ipython2",
   "version": "2.7.6"
  }
 },
 "nbformat": 4,
 "nbformat_minor": 0
}
