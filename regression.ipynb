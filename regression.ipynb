{
 "cells": [
  {
   "cell_type": "code",
   "execution_count": 1,
   "metadata": {
    "collapsed": true,
    "ExecuteTime": {
     "end_time": "2023-06-06T16:48:12.657763Z",
     "start_time": "2023-06-06T16:48:12.436603Z"
    }
   },
   "outputs": [],
   "source": [
    "import os\n",
    "import re\n",
    "\n",
    "import numpy as np\n",
    "import pandas as pd\n",
    "import matplotlib.pyplot as plt\n",
    "import seaborn as sns\n",
    "\n",
    "from pandas.core.dtypes.common import is_numeric_dtype\n",
    "from sklearn.feature_selection import mutual_info_regression, f_regression, SelectKBest\n",
    "from sklearn.preprocessing import MinMaxScaler"
   ]
  },
  {
   "cell_type": "code",
   "execution_count": 2,
   "outputs": [],
   "source": [
    "DATA_FOLDER = 'dataset'\n",
    "DATASET = os.path.join(DATA_FOLDER, 'outliers_removed.csv')"
   ],
   "metadata": {
    "collapsed": false,
    "ExecuteTime": {
     "end_time": "2023-06-06T16:48:12.659924Z",
     "start_time": "2023-06-06T16:48:12.658197Z"
    }
   }
  },
  {
   "cell_type": "code",
   "execution_count": 3,
   "outputs": [
    {
     "data": {
      "text/plain": "   frame_count       sum          mean       std       min       max   \n0       158558  0.145081  9.150000e-07  0.004001 -0.038422  0.040588  \\\n1       160160  0.114319  7.137790e-07  0.004283 -0.042603  0.048157   \n2       156956  0.149963  9.554485e-07  0.005084 -0.037018  0.058472   \n3       152152  0.139618  9.176213e-07  0.004886 -0.036652  0.062683   \n4       169769  0.137665  8.108948e-07  0.002956 -0.026245  0.026215   \n\n        q01       q05       q25  q75  ...  actor_actor_24  actor_actor_3   \n0 -0.012586 -0.005890 -0.000031  0.0  ...               0              0  \\\n1 -0.013550 -0.006104 -0.000031  0.0  ...               0              0   \n2 -0.015822 -0.007294  0.000000  0.0  ...               0              0   \n3 -0.014923 -0.006714 -0.000031  0.0  ...               0              0   \n4 -0.009399 -0.004364 -0.000031  0.0  ...               0              0   \n\n   actor_actor_4  actor_actor_5  actor_actor_6  actor_actor_7  actor_actor_8   \n0              0              0              0              0              0  \\\n1              0              0              0              0              0   \n2              0              0              0              0              0   \n3              0              0              0              0              0   \n4              0              0              0              0              0   \n\n   actor_actor_9  sex_F  sex_M  \n0              0      0      1  \n1              0      0      1  \n2              0      0      1  \n3              0      0      1  \n4              0      0      1  \n\n[5 rows x 285 columns]",
      "text/html": "<div>\n<style scoped>\n    .dataframe tbody tr th:only-of-type {\n        vertical-align: middle;\n    }\n\n    .dataframe tbody tr th {\n        vertical-align: top;\n    }\n\n    .dataframe thead th {\n        text-align: right;\n    }\n</style>\n<table border=\"1\" class=\"dataframe\">\n  <thead>\n    <tr style=\"text-align: right;\">\n      <th></th>\n      <th>frame_count</th>\n      <th>sum</th>\n      <th>mean</th>\n      <th>std</th>\n      <th>min</th>\n      <th>max</th>\n      <th>q01</th>\n      <th>q05</th>\n      <th>q25</th>\n      <th>q75</th>\n      <th>...</th>\n      <th>actor_actor_24</th>\n      <th>actor_actor_3</th>\n      <th>actor_actor_4</th>\n      <th>actor_actor_5</th>\n      <th>actor_actor_6</th>\n      <th>actor_actor_7</th>\n      <th>actor_actor_8</th>\n      <th>actor_actor_9</th>\n      <th>sex_F</th>\n      <th>sex_M</th>\n    </tr>\n  </thead>\n  <tbody>\n    <tr>\n      <th>0</th>\n      <td>158558</td>\n      <td>0.145081</td>\n      <td>9.150000e-07</td>\n      <td>0.004001</td>\n      <td>-0.038422</td>\n      <td>0.040588</td>\n      <td>-0.012586</td>\n      <td>-0.005890</td>\n      <td>-0.000031</td>\n      <td>0.0</td>\n      <td>...</td>\n      <td>0</td>\n      <td>0</td>\n      <td>0</td>\n      <td>0</td>\n      <td>0</td>\n      <td>0</td>\n      <td>0</td>\n      <td>0</td>\n      <td>0</td>\n      <td>1</td>\n    </tr>\n    <tr>\n      <th>1</th>\n      <td>160160</td>\n      <td>0.114319</td>\n      <td>7.137790e-07</td>\n      <td>0.004283</td>\n      <td>-0.042603</td>\n      <td>0.048157</td>\n      <td>-0.013550</td>\n      <td>-0.006104</td>\n      <td>-0.000031</td>\n      <td>0.0</td>\n      <td>...</td>\n      <td>0</td>\n      <td>0</td>\n      <td>0</td>\n      <td>0</td>\n      <td>0</td>\n      <td>0</td>\n      <td>0</td>\n      <td>0</td>\n      <td>0</td>\n      <td>1</td>\n    </tr>\n    <tr>\n      <th>2</th>\n      <td>156956</td>\n      <td>0.149963</td>\n      <td>9.554485e-07</td>\n      <td>0.005084</td>\n      <td>-0.037018</td>\n      <td>0.058472</td>\n      <td>-0.015822</td>\n      <td>-0.007294</td>\n      <td>0.000000</td>\n      <td>0.0</td>\n      <td>...</td>\n      <td>0</td>\n      <td>0</td>\n      <td>0</td>\n      <td>0</td>\n      <td>0</td>\n      <td>0</td>\n      <td>0</td>\n      <td>0</td>\n      <td>0</td>\n      <td>1</td>\n    </tr>\n    <tr>\n      <th>3</th>\n      <td>152152</td>\n      <td>0.139618</td>\n      <td>9.176213e-07</td>\n      <td>0.004886</td>\n      <td>-0.036652</td>\n      <td>0.062683</td>\n      <td>-0.014923</td>\n      <td>-0.006714</td>\n      <td>-0.000031</td>\n      <td>0.0</td>\n      <td>...</td>\n      <td>0</td>\n      <td>0</td>\n      <td>0</td>\n      <td>0</td>\n      <td>0</td>\n      <td>0</td>\n      <td>0</td>\n      <td>0</td>\n      <td>0</td>\n      <td>1</td>\n    </tr>\n    <tr>\n      <th>4</th>\n      <td>169769</td>\n      <td>0.137665</td>\n      <td>8.108948e-07</td>\n      <td>0.002956</td>\n      <td>-0.026245</td>\n      <td>0.026215</td>\n      <td>-0.009399</td>\n      <td>-0.004364</td>\n      <td>-0.000031</td>\n      <td>0.0</td>\n      <td>...</td>\n      <td>0</td>\n      <td>0</td>\n      <td>0</td>\n      <td>0</td>\n      <td>0</td>\n      <td>0</td>\n      <td>0</td>\n      <td>0</td>\n      <td>0</td>\n      <td>1</td>\n    </tr>\n  </tbody>\n</table>\n<p>5 rows × 285 columns</p>\n</div>"
     },
     "execution_count": 3,
     "metadata": {},
     "output_type": "execute_result"
    }
   ],
   "source": [
    "df = pd.read_csv(DATASET)\n",
    "\n",
    "categorical_attr_list = [col for col in df.columns if not is_numeric_dtype(df[col])]\n",
    "\n",
    "# one hot encoding\n",
    "df_reg = df.drop(columns=categorical_attr_list)\n",
    "df_reg = df_reg.join(pd.get_dummies(df[categorical_attr_list], columns=categorical_attr_list).astype(int))\n",
    "\n",
    "df_reg.head()"
   ],
   "metadata": {
    "collapsed": false,
    "ExecuteTime": {
     "end_time": "2023-06-06T16:48:12.742581Z",
     "start_time": "2023-06-06T16:48:12.662093Z"
    }
   }
  },
  {
   "cell_type": "code",
   "execution_count": 4,
   "outputs": [
    {
     "data": {
      "text/plain": "stft_min    False\nsc_min      False\ndtype: bool"
     },
     "execution_count": 4,
     "metadata": {},
     "output_type": "execute_result"
    }
   ],
   "source": [
    "features_to_correct = ['stft_min', 'sc_min']\n",
    "(df[features_to_correct] < 0).any()"
   ],
   "metadata": {
    "collapsed": false,
    "ExecuteTime": {
     "end_time": "2023-06-06T16:48:12.753223Z",
     "start_time": "2023-06-06T16:48:12.744619Z"
    }
   }
  },
  {
   "cell_type": "markdown",
   "source": [
    "# stft_min"
   ],
   "metadata": {
    "collapsed": false
   }
  },
  {
   "cell_type": "code",
   "execution_count": 5,
   "outputs": [
    {
     "data": {
      "text/plain": "['mfcc_q50',\n 'sc_q01',\n 'sc_q05',\n 'stft_q01',\n 'stft_q05',\n 'mfcc_q25_w1',\n 'mfcc_q50_w1',\n 'sc_q05_w1',\n 'sc_q25_w1',\n 'stft_q05_w1',\n 'q50_w2',\n 'q50_w3',\n 'lag1_q50_w3',\n 'q75_w4']"
     },
     "execution_count": 5,
     "metadata": {},
     "output_type": "execute_result"
    }
   ],
   "source": [
    "TARGET = 'stft_min'\n",
    "\n",
    "# drop quantile columns with high percentage of zeros (20%)\n",
    "zero_percentage = (df_reg == 0).mean()\n",
    "to_drop = [col for col in df_reg.columns if zero_percentage[col] > 0.2 and re.search(r'q\\d{2}', col)]\n",
    "df_reg = df_reg.drop(columns=to_drop)\n",
    "to_drop"
   ],
   "metadata": {
    "collapsed": false,
    "ExecuteTime": {
     "end_time": "2023-06-06T16:48:12.753439Z",
     "start_time": "2023-06-06T16:48:12.747685Z"
    }
   }
  },
  {
   "cell_type": "code",
   "execution_count": 6,
   "outputs": [
    {
     "data": {
      "text/plain": "<Figure size 640x480 with 1 Axes>",
      "image/png": "[encoded data removed]"
     },
     "metadata": {},
     "output_type": "display_data"
    }
   ],
   "source": [
    "sns.histplot(data=df, x=df[TARGET])\n",
    "plt.xlabel(f'{TARGET}')\n",
    "plt.ylabel('Count')\n",
    "plt.title(f'Distribution of {TARGET}')\n",
    "plt.show()"
   ],
   "metadata": {
    "collapsed": false,
    "ExecuteTime": {
     "end_time": "2023-06-06T16:48:12.957919Z",
     "start_time": "2023-06-06T16:48:12.754260Z"
    }
   }
  },
  {
   "cell_type": "code",
   "execution_count": 7,
   "outputs": [
    {
     "name": "stdout",
     "output_type": "stream",
     "text": [
      "(847, 270) (212, 270) (361, 270) (1009, 270)\n"
     ]
    }
   ],
   "source": [
    "from sklearn.model_selection import train_test_split\n",
    "\n",
    "# rows to be fixed, do not reset indexes!\n",
    "df_zero = df_reg[df_reg[TARGET] == 0]\n",
    "df_nz = df_reg[df_reg[TARGET] != 0].reset_index(drop=True)\n",
    "\n",
    "# dataframe has been one hot encoded\n",
    "split_index = df_nz.index[df_nz['actor_actor_19'] == 1][0]\n",
    "\n",
    "df_train = df_nz[:split_index]\n",
    "df_test = df_nz[split_index:]\n",
    "\n",
    "df_train, df_valid = train_test_split(df_train, test_size=0.2, random_state=100)\n",
    "\n",
    "y_train = np.log10(df_train[TARGET].to_numpy())\n",
    "y_valid = np.log10(df_valid[TARGET].to_numpy())\n",
    "y_test = np.log10(df_test[TARGET].to_numpy())\n",
    "\n",
    "df_zero = df_zero.drop([TARGET], axis=1)\n",
    "df_train = df_train.drop([TARGET], axis=1)\n",
    "df_valid = df_valid.drop([TARGET], axis=1)\n",
    "df_test = df_test.drop([TARGET], axis=1)\n",
    "\n",
    "X_to_pred = df_zero.to_numpy()\n",
    "X_train = df_train.to_numpy()\n",
    "X_valid = df_valid.to_numpy()\n",
    "X_test = df_test.to_numpy()\n",
    "\n",
    "print(X_train.shape, X_valid.shape, X_test.shape, X_to_pred.shape)"
   ],
   "metadata": {
    "collapsed": false,
    "ExecuteTime": {
     "end_time": "2023-06-06T16:48:12.971918Z",
     "start_time": "2023-06-06T16:48:12.963657Z"
    }
   }
  },
  {
   "cell_type": "code",
   "execution_count": 8,
   "outputs": [
    {
     "data": {
      "text/plain": "<Figure size 1000x400 with 1 Axes>",
      "image/png": "[encoded data removed]"
     },
     "metadata": {},
     "output_type": "display_data"
    }
   ],
   "source": [
    "f_selector = SelectKBest(score_func=f_regression, k='all')\n",
    "f_selector.fit(X_train, y_train)\n",
    "\n",
    "plt.figure(figsize=(10, 4))\n",
    "plt.bar([i for i in range(len(f_selector.scores_))], f_selector.scores_)\n",
    "plt.xlabel('Feature index')\n",
    "plt.ylabel('Estimated value')\n",
    "plt.show()"
   ],
   "metadata": {
    "collapsed": false,
    "ExecuteTime": {
     "end_time": "2023-06-06T16:48:13.425625Z",
     "start_time": "2023-06-06T16:48:12.977020Z"
    }
   }
  },
  {
   "cell_type": "code",
   "execution_count": 9,
   "outputs": [
    {
     "data": {
      "text/plain": "      mfcc_q25    mfcc_q99  stft_mean  stft_std  stft_q25  mfcc_q25_w2   \n259 -18.582673  133.537021   0.391166  0.350493  0.037039   -25.548968  \\\n157  -2.432008  140.389436   0.618064  0.281252  0.400627   -11.883626   \n667 -10.434671  169.611666   0.499650  0.347630  0.142961   -18.150980   \n707 -11.989990  140.775630   0.500564  0.321720  0.203172   -19.689170   \n125  -6.579166   90.324497   0.475922  0.349201  0.106374   -15.118881   \n..         ...         ...        ...       ...       ...          ...   \n802 -10.531611  188.840487   0.448354  0.342674  0.105303   -16.788827   \n53  -10.841864  159.482310   0.512951  0.316919  0.221845   -20.016054   \n350  -7.651122  151.113206   0.543641  0.328328  0.233966   -13.594585   \n79  -10.683922  143.316089   0.513574  0.286984  0.275286   -11.417866   \n792  -2.116944  152.105091   0.636902  0.295871  0.413712   -10.847955   \n\n     mfcc_q50_w2  mfcc_q99_w2  stft_sum_w2  stft_q05_w2  stft_q25_w2   \n259   -14.335812   131.763970   316.827272     0.002076     0.019907  \\\n157     0.331137   157.141432   487.714941     0.047736     0.247174   \n667    -7.070016   177.324767   409.154710     0.007334     0.053486   \n707    -6.076445   132.367535   424.497157     0.012076     0.085660   \n125     0.000000    92.440168   351.456816     0.002707     0.027473   \n..           ...          ...          ...          ...          ...   \n802    -4.730709   181.582949   469.988087     0.016418     0.071749   \n53     -4.384253   176.553050   452.237700     0.045298     0.156050   \n350    -2.200245   156.181359   492.584031     0.025636     0.164514   \n79     -2.853683   147.437486   577.809521     0.057310     0.276032   \n792     0.000000   148.006489   482.397157     0.036796     0.246890   \n\n     stft_skew_w2   mfcc_sum_w3  mfcc_q25_w3  mfcc_q50_w3  mfcc_q75_w3   \n259      1.368237 -70611.711781   -25.377122   -12.167407    -1.477520  \\\n157     -0.016021 -37384.776127    -9.452207     0.308263     9.277478   \n667      0.865939 -39253.197492   -17.626914    -5.782738     6.776643   \n707      0.328339 -46073.398204   -21.128508   -10.204088     2.029520   \n125      0.804747 -39812.423944   -25.070787    -7.274005     9.855553   \n..            ...           ...          ...          ...          ...   \n802      0.886020 -54877.142055   -18.882193    -4.978764     7.866954   \n53       0.706239 -30872.660059   -18.504748    -4.311820    10.084295   \n350      0.347103 -38947.164248   -17.357152    -6.596020     6.551662   \n79       0.175891 -37772.767541   -16.525048    -5.833418     5.294950   \n792      0.027626 -28996.039009   -10.309630    -1.024038    10.095972   \n\n     mfcc_q99_w3  stft_q25_w3  sex_F  sex_M  \n259   141.949765     0.006469      1      0  \n157   208.015807     0.228734      0      1  \n667   182.314767     0.089444      0      1  \n707   174.004688     0.052809      1      0  \n125   124.347880     0.013650      1      0  \n..           ...          ...    ...    ...  \n802   207.137736     0.043049      0      1  \n53    166.648179     0.122665      0      1  \n350   192.158127     0.081348      1      0  \n79    171.602208     0.172040      0      1  \n792   213.165450     0.153596      0      1  \n\n[847 rows x 20 columns]",
      "text/html": "<div>\n<style scoped>\n    .dataframe tbody tr th:only-of-type {\n        vertical-align: middle;\n    }\n\n    .dataframe tbody tr th {\n        vertical-align: top;\n    }\n\n    .dataframe thead th {\n        text-align: right;\n    }\n</style>\n<table border=\"1\" class=\"dataframe\">\n  <thead>\n    <tr style=\"text-align: right;\">\n      <th></th>\n      <th>mfcc_q25</th>\n      <th>mfcc_q99</th>\n      <th>stft_mean</th>\n      <th>stft_std</th>\n      <th>stft_q25</th>\n      <th>mfcc_q25_w2</th>\n      <th>mfcc_q50_w2</th>\n      <th>mfcc_q99_w2</th>\n      <th>stft_sum_w2</th>\n      <th>stft_q05_w2</th>\n      <th>stft_q25_w2</th>\n      <th>stft_skew_w2</th>\n      <th>mfcc_sum_w3</th>\n      <th>mfcc_q25_w3</th>\n      <th>mfcc_q50_w3</th>\n      <th>mfcc_q75_w3</th>\n      <th>mfcc_q99_w3</th>\n      <th>stft_q25_w3</th>\n      <th>sex_F</th>\n      <th>sex_M</th>\n    </tr>\n  </thead>\n  <tbody>\n    <tr>\n      <th>259</th>\n      <td>-18.582673</td>\n      <td>133.537021</td>\n      <td>0.391166</td>\n      <td>0.350493</td>\n      <td>0.037039</td>\n      <td>-25.548968</td>\n      <td>-14.335812</td>\n      <td>131.763970</td>\n      <td>316.827272</td>\n      <td>0.002076</td>\n      <td>0.019907</td>\n      <td>1.368237</td>\n      <td>-70611.711781</td>\n      <td>-25.377122</td>\n      <td>-12.167407</td>\n      <td>-1.477520</td>\n      <td>141.949765</td>\n      <td>0.006469</td>\n      <td>1</td>\n      <td>0</td>\n    </tr>\n    <tr>\n      <th>157</th>\n      <td>-2.432008</td>\n      <td>140.389436</td>\n      <td>0.618064</td>\n      <td>0.281252</td>\n      <td>0.400627</td>\n      <td>-11.883626</td>\n      <td>0.331137</td>\n      <td>157.141432</td>\n      <td>487.714941</td>\n      <td>0.047736</td>\n      <td>0.247174</td>\n      <td>-0.016021</td>\n      <td>-37384.776127</td>\n      <td>-9.452207</td>\n      <td>0.308263</td>\n      <td>9.277478</td>\n      <td>208.015807</td>\n      <td>0.228734</td>\n      <td>0</td>\n      <td>1</td>\n    </tr>\n    <tr>\n      <th>667</th>\n      <td>-10.434671</td>\n      <td>169.611666</td>\n      <td>0.499650</td>\n      <td>0.347630</td>\n      <td>0.142961</td>\n      <td>-18.150980</td>\n      <td>-7.070016</td>\n      <td>177.324767</td>\n      <td>409.154710</td>\n      <td>0.007334</td>\n      <td>0.053486</td>\n      <td>0.865939</td>\n      <td>-39253.197492</td>\n      <td>-17.626914</td>\n      <td>-5.782738</td>\n      <td>6.776643</td>\n      <td>182.314767</td>\n      <td>0.089444</td>\n      <td>0</td>\n      <td>1</td>\n    </tr>\n    <tr>\n      <th>707</th>\n      <td>-11.989990</td>\n      <td>140.775630</td>\n      <td>0.500564</td>\n      <td>0.321720</td>\n      <td>0.203172</td>\n      <td>-19.689170</td>\n      <td>-6.076445</td>\n      <td>132.367535</td>\n      <td>424.497157</td>\n      <td>0.012076</td>\n      <td>0.085660</td>\n      <td>0.328339</td>\n      <td>-46073.398204</td>\n      <td>-21.128508</td>\n      <td>-10.204088</td>\n      <td>2.029520</td>\n      <td>174.004688</td>\n      <td>0.052809</td>\n      <td>1</td>\n      <td>0</td>\n    </tr>\n    <tr>\n      <th>125</th>\n      <td>-6.579166</td>\n      <td>90.324497</td>\n      <td>0.475922</td>\n      <td>0.349201</td>\n      <td>0.106374</td>\n      <td>-15.118881</td>\n      <td>0.000000</td>\n      <td>92.440168</td>\n      <td>351.456816</td>\n      <td>0.002707</td>\n      <td>0.027473</td>\n      <td>0.804747</td>\n      <td>-39812.423944</td>\n      <td>-25.070787</td>\n      <td>-7.274005</td>\n      <td>9.855553</td>\n      <td>124.347880</td>\n      <td>0.013650</td>\n      <td>1</td>\n      <td>0</td>\n    </tr>\n    <tr>\n      <th>...</th>\n      <td>...</td>\n      <td>...</td>\n      <td>...</td>\n      <td>...</td>\n      <td>...</td>\n      <td>...</td>\n      <td>...</td>\n      <td>...</td>\n      <td>...</td>\n      <td>...</td>\n      <td>...</td>\n      <td>...</td>\n      <td>...</td>\n      <td>...</td>\n      <td>...</td>\n      <td>...</td>\n      <td>...</td>\n      <td>...</td>\n      <td>...</td>\n      <td>...</td>\n    </tr>\n    <tr>\n      <th>802</th>\n      <td>-10.531611</td>\n      <td>188.840487</td>\n      <td>0.448354</td>\n      <td>0.342674</td>\n      <td>0.105303</td>\n      <td>-16.788827</td>\n      <td>-4.730709</td>\n      <td>181.582949</td>\n      <td>469.988087</td>\n      <td>0.016418</td>\n      <td>0.071749</td>\n      <td>0.886020</td>\n      <td>-54877.142055</td>\n      <td>-18.882193</td>\n      <td>-4.978764</td>\n      <td>7.866954</td>\n      <td>207.137736</td>\n      <td>0.043049</td>\n      <td>0</td>\n      <td>1</td>\n    </tr>\n    <tr>\n      <th>53</th>\n      <td>-10.841864</td>\n      <td>159.482310</td>\n      <td>0.512951</td>\n      <td>0.316919</td>\n      <td>0.221845</td>\n      <td>-20.016054</td>\n      <td>-4.384253</td>\n      <td>176.553050</td>\n      <td>452.237700</td>\n      <td>0.045298</td>\n      <td>0.156050</td>\n      <td>0.706239</td>\n      <td>-30872.660059</td>\n      <td>-18.504748</td>\n      <td>-4.311820</td>\n      <td>10.084295</td>\n      <td>166.648179</td>\n      <td>0.122665</td>\n      <td>0</td>\n      <td>1</td>\n    </tr>\n    <tr>\n      <th>350</th>\n      <td>-7.651122</td>\n      <td>151.113206</td>\n      <td>0.543641</td>\n      <td>0.328328</td>\n      <td>0.233966</td>\n      <td>-13.594585</td>\n      <td>-2.200245</td>\n      <td>156.181359</td>\n      <td>492.584031</td>\n      <td>0.025636</td>\n      <td>0.164514</td>\n      <td>0.347103</td>\n      <td>-38947.164248</td>\n      <td>-17.357152</td>\n      <td>-6.596020</td>\n      <td>6.551662</td>\n      <td>192.158127</td>\n      <td>0.081348</td>\n      <td>1</td>\n      <td>0</td>\n    </tr>\n    <tr>\n      <th>79</th>\n      <td>-10.683922</td>\n      <td>143.316089</td>\n      <td>0.513574</td>\n      <td>0.286984</td>\n      <td>0.275286</td>\n      <td>-11.417866</td>\n      <td>-2.853683</td>\n      <td>147.437486</td>\n      <td>577.809521</td>\n      <td>0.057310</td>\n      <td>0.276032</td>\n      <td>0.175891</td>\n      <td>-37772.767541</td>\n      <td>-16.525048</td>\n      <td>-5.833418</td>\n      <td>5.294950</td>\n      <td>171.602208</td>\n      <td>0.172040</td>\n      <td>0</td>\n      <td>1</td>\n    </tr>\n    <tr>\n      <th>792</th>\n      <td>-2.116944</td>\n      <td>152.105091</td>\n      <td>0.636902</td>\n      <td>0.295871</td>\n      <td>0.413712</td>\n      <td>-10.847955</td>\n      <td>0.000000</td>\n      <td>148.006489</td>\n      <td>482.397157</td>\n      <td>0.036796</td>\n      <td>0.246890</td>\n      <td>0.027626</td>\n      <td>-28996.039009</td>\n      <td>-10.309630</td>\n      <td>-1.024038</td>\n      <td>10.095972</td>\n      <td>213.165450</td>\n      <td>0.153596</td>\n      <td>0</td>\n      <td>1</td>\n    </tr>\n  </tbody>\n</table>\n<p>847 rows × 20 columns</p>\n</div>"
     },
     "execution_count": 9,
     "metadata": {},
     "output_type": "execute_result"
    }
   ],
   "source": [
    "f_selector = SelectKBest(score_func=f_regression, k=20)\n",
    "f_selector.fit(X_train, y_train)\n",
    "\n",
    "X_train = f_selector.transform(X_train)\n",
    "X_valid = f_selector.transform(X_valid)\n",
    "X_test = f_selector.transform(X_test)\n",
    "X_to_pred = f_selector.transform(X_to_pred)\n",
    "\n",
    "# selected columns\n",
    "selected_indices = f_selector.get_support(indices=True)\n",
    "df_train.iloc[:, selected_indices]"
   ],
   "metadata": {
    "collapsed": false,
    "ExecuteTime": {
     "end_time": "2023-06-06T16:48:13.544230Z",
     "start_time": "2023-06-06T16:48:13.427847Z"
    }
   }
  },
  {
   "cell_type": "code",
   "execution_count": 10,
   "outputs": [],
   "source": [
    "scaler = MinMaxScaler()\n",
    "\n",
    "X_train = scaler.fit_transform(X_train)\n",
    "X_valid = scaler.fit_transform(X_valid)\n",
    "X_test = scaler.fit_transform(X_test)\n",
    "X_to_pred = scaler.fit_transform(X_to_pred)"
   ],
   "metadata": {
    "collapsed": false,
    "ExecuteTime": {
     "end_time": "2023-06-06T16:48:13.553107Z",
     "start_time": "2023-06-06T16:48:13.545344Z"
    }
   }
  },
  {
   "cell_type": "markdown",
   "source": [
    "## XGBoost"
   ],
   "metadata": {
    "collapsed": false
   }
  },
  {
   "cell_type": "code",
   "execution_count": 11,
   "outputs": [
    {
     "name": "stderr",
     "output_type": "stream",
     "text": [
      "[I 2023-06-06 18:48:13,822] A new study created in memory with name: no-name-47de5b95-f785-4575-937e-71c91ba78fb2\n",
      "[I 2023-06-06 18:48:14,678] Trial 5 finished with value: 0.10261708364203294 and parameters: {'booster': 'gbtree', 'gamma': 0.6268810019553667, 'max_depth': 4, 'min_child_weight': 3, 'subsample': 0.8200330731543249}. Best is trial 5 with value: 0.10261708364203294.\n",
      "[I 2023-06-06 18:48:15,116] Trial 4 finished with value: 0.10883986807935933 and parameters: {'booster': 'gbtree', 'gamma': 3.0801100597549826, 'max_depth': 6, 'min_child_weight': 1, 'subsample': 0.4065722713762269}. Best is trial 5 with value: 0.10261708364203294.\n",
      "[I 2023-06-06 18:48:15,658] Trial 3 finished with value: 0.11255240937717126 and parameters: {'booster': 'gbtree', 'gamma': 3.093530088610705, 'max_depth': 8, 'min_child_weight': 3, 'subsample': 0.4520935569072523}. Best is trial 5 with value: 0.10261708364203294.\n",
      "[I 2023-06-06 18:48:17,625] Trial 1 finished with value: 0.11652148166761961 and parameters: {'booster': 'dart', 'gamma': 4.809611005231674, 'max_depth': 5, 'min_child_weight': 3, 'subsample': 0.5456738424875959}. Best is trial 5 with value: 0.10261708364203294.\n",
      "[I 2023-06-06 18:48:18,699] Trial 0 finished with value: 0.11061498725983064 and parameters: {'booster': 'dart', 'gamma': 2.4686180066300505, 'max_depth': 7, 'min_child_weight': 1, 'subsample': 0.4859771710469393}. Best is trial 5 with value: 0.10261708364203294.\n",
      "[I 2023-06-06 18:48:19,070] Trial 8 finished with value: 0.10621693051330547 and parameters: {'booster': 'gbtree', 'gamma': 1.8769674715451972, 'max_depth': 16, 'min_child_weight': 2, 'subsample': 0.560163114542738}. Best is trial 5 with value: 0.10261708364203294.\n",
      "[I 2023-06-06 18:48:19,303] Trial 11 finished with value: 0.09275929539857534 and parameters: {'booster': 'gbtree', 'gamma': 0.37310528600881354, 'max_depth': 6, 'min_child_weight': 2, 'subsample': 0.8473285219742799}. Best is trial 11 with value: 0.09275929539857534.\n",
      "[I 2023-06-06 18:48:19,392] Trial 7 finished with value: 0.1070637460319155 and parameters: {'booster': 'dart', 'gamma': 1.2899431851052179, 'max_depth': 9, 'min_child_weight': 1, 'subsample': 0.5614598098719955}. Best is trial 11 with value: 0.09275929539857534.\n",
      "[I 2023-06-06 18:48:19,980] Trial 10 finished with value: 0.11297370425380934 and parameters: {'booster': 'dart', 'gamma': 0.23717084282878165, 'max_depth': 6, 'min_child_weight': 3, 'subsample': 0.6599736265842615}. Best is trial 11 with value: 0.09275929539857534.\n",
      "[I 2023-06-06 18:48:20,394] Trial 12 finished with value: 0.10626024252176691 and parameters: {'booster': 'gbtree', 'gamma': 1.5998521042378033, 'max_depth': 7, 'min_child_weight': 3, 'subsample': 0.5437580552724697}. Best is trial 11 with value: 0.09275929539857534.\n",
      "[I 2023-06-06 18:48:20,777] Trial 9 finished with value: 0.11343359031999525 and parameters: {'booster': 'dart', 'gamma': 4.657724265510394, 'max_depth': 11, 'min_child_weight': 3, 'subsample': 0.4015082027741275}. Best is trial 11 with value: 0.09275929539857534.\n",
      "[I 2023-06-06 18:48:20,885] Trial 2 finished with value: 0.09079516129717453 and parameters: {'booster': 'dart', 'gamma': 1.2453061954147782, 'max_depth': 12, 'min_child_weight': 2, 'subsample': 0.923799177370367}. Best is trial 2 with value: 0.09079516129717453.\n",
      "[I 2023-06-06 18:48:21,064] Trial 6 finished with value: 0.09618194771885945 and parameters: {'booster': 'dart', 'gamma': 0.7403473888226803, 'max_depth': 13, 'min_child_weight': 1, 'subsample': 0.8921483954604705}. Best is trial 2 with value: 0.09079516129717453.\n",
      "[I 2023-06-06 18:48:21,309] Trial 18 finished with value: 0.10039134081476128 and parameters: {'booster': 'gbtree', 'gamma': 0.028429852575662218, 'max_depth': 3, 'min_child_weight': 2, 'subsample': 0.9083566595141732}. Best is trial 2 with value: 0.09079516129717453.\n",
      "[I 2023-06-06 18:48:22,178] Trial 15 finished with value: 0.0979427506747582 and parameters: {'booster': 'gbtree', 'gamma': 0.8971419994152491, 'max_depth': 10, 'min_child_weight': 3, 'subsample': 0.7819564119186071}. Best is trial 2 with value: 0.09079516129717453.\n",
      "[I 2023-06-06 18:48:22,966] Trial 13 finished with value: 0.11509375118962313 and parameters: {'booster': 'dart', 'gamma': 2.8494509848085308, 'max_depth': 5, 'min_child_weight': 3, 'subsample': 0.48787136636418127}. Best is trial 2 with value: 0.09079516129717453.\n",
      "[I 2023-06-06 18:48:23,738] Trial 16 finished with value: 0.10051580611317766 and parameters: {'booster': 'gbtree', 'gamma': 3.015798917621483, 'max_depth': 12, 'min_child_weight': 1, 'subsample': 0.7610900389749877}. Best is trial 2 with value: 0.09079516129717453.\n",
      "[I 2023-06-06 18:48:23,933] Trial 17 finished with value: 0.12765317598741166 and parameters: {'booster': 'gbtree', 'gamma': 0.05538813925103103, 'max_depth': 13, 'min_child_weight': 2, 'subsample': 0.9532828550447666}. Best is trial 2 with value: 0.09079516129717453.\n",
      "[I 2023-06-06 18:48:24,725] Trial 14 finished with value: 0.11926537312219594 and parameters: {'booster': 'dart', 'gamma': 1.7240677163657074, 'max_depth': 10, 'min_child_weight': 2, 'subsample': 0.41550460747863066}. Best is trial 2 with value: 0.09079516129717453.\n",
      "[I 2023-06-06 18:48:25,242] Trial 19 finished with value: 0.10578985223423625 and parameters: {'booster': 'gbtree', 'gamma': 0.26166786318597723, 'max_depth': 16, 'min_child_weight': 2, 'subsample': 0.9859157479877556}. Best is trial 2 with value: 0.09079516129717453.\n",
      "[I 2023-06-06 18:48:26,281] Trial 20 finished with value: 0.11747377124273989 and parameters: {'booster': 'gbtree', 'gamma': 0.004657506606684736, 'max_depth': 19, 'min_child_weight': 2, 'subsample': 0.9900309358139314}. Best is trial 2 with value: 0.09079516129717453.\n",
      "[I 2023-06-06 18:48:29,102] Trial 22 finished with value: 0.10197244492388821 and parameters: {'booster': 'dart', 'gamma': 1.1550115906429088, 'max_depth': 14, 'min_child_weight': 2, 'subsample': 0.9652438969866693}. Best is trial 2 with value: 0.09079516129717453.\n",
      "[I 2023-06-06 18:48:29,408] Trial 21 finished with value: 0.09743307840400989 and parameters: {'booster': 'dart', 'gamma': 0.973392961946324, 'max_depth': 19, 'min_child_weight': 2, 'subsample': 0.9742496146732185}. Best is trial 2 with value: 0.09079516129717453.\n",
      "[I 2023-06-06 18:48:30,794] Trial 23 finished with value: 0.11959994937626713 and parameters: {'booster': 'dart', 'gamma': 0.06635577182232222, 'max_depth': 20, 'min_child_weight': 2, 'subsample': 0.9974743894347275}. Best is trial 2 with value: 0.09079516129717453.\n",
      "[I 2023-06-06 18:48:31,108] Trial 24 finished with value: 0.12401613683781203 and parameters: {'booster': 'dart', 'gamma': 0.0011608782548017116, 'max_depth': 20, 'min_child_weight': 2, 'subsample': 0.9988194810441297}. Best is trial 2 with value: 0.09079516129717453.\n",
      "[I 2023-06-06 18:48:31,334] Trial 25 finished with value: 0.09196529002657276 and parameters: {'booster': 'dart', 'gamma': 1.1179928971673283, 'max_depth': 16, 'min_child_weight': 2, 'subsample': 0.9449133077221556}. Best is trial 2 with value: 0.09079516129717453.\n",
      "[I 2023-06-06 18:48:32,591] Trial 26 finished with value: 0.09666793814524227 and parameters: {'booster': 'dart', 'gamma': 1.1696263680446795, 'max_depth': 18, 'min_child_weight': 2, 'subsample': 0.9945320312554419}. Best is trial 2 with value: 0.09079516129717453.\n",
      "[I 2023-06-06 18:48:32,822] Trial 27 finished with value: 0.10002577272173717 and parameters: {'booster': 'dart', 'gamma': 1.087292854781846, 'max_depth': 18, 'min_child_weight': 2, 'subsample': 0.8526648837389169}. Best is trial 2 with value: 0.09079516129717453.\n",
      "[I 2023-06-06 18:48:32,831] Trial 28 finished with value: 0.10275410191697862 and parameters: {'booster': 'dart', 'gamma': 0.8572601480998643, 'max_depth': 14, 'min_child_weight': 1, 'subsample': 0.8816462642445028}. Best is trial 2 with value: 0.09079516129717453.\n",
      "[I 2023-06-06 18:48:35,577] Trial 29 finished with value: 0.09982769380672653 and parameters: {'booster': 'dart', 'gamma': 0.8260258125191298, 'max_depth': 14, 'min_child_weight': 1, 'subsample': 0.8684912783144341}. Best is trial 2 with value: 0.09079516129717453.\n",
      "[I 2023-06-06 18:48:35,762] Trial 30 finished with value: 0.09035060496078469 and parameters: {'booster': 'dart', 'gamma': 0.721255558636881, 'max_depth': 14, 'min_child_weight': 1, 'subsample': 0.8932654675063618}. Best is trial 30 with value: 0.09035060496078469.\n",
      "[I 2023-06-06 18:48:37,731] Trial 31 finished with value: 0.11039287862632924 and parameters: {'booster': 'dart', 'gamma': 0.6227738394517306, 'max_depth': 15, 'min_child_weight': 1, 'subsample': 0.9005889475627167}. Best is trial 30 with value: 0.09035060496078469.\n",
      "[I 2023-06-06 18:48:37,799] Trial 32 finished with value: 0.10628118668826836 and parameters: {'booster': 'dart', 'gamma': 0.6673877118943268, 'max_depth': 15, 'min_child_weight': 1, 'subsample': 0.8825423927029038}. Best is trial 30 with value: 0.09035060496078469.\n",
      "[I 2023-06-06 18:48:38,034] Trial 33 finished with value: 0.10125400108641716 and parameters: {'booster': 'dart', 'gamma': 0.6392270713689893, 'max_depth': 15, 'min_child_weight': 2, 'subsample': 0.8774579969385838}. Best is trial 30 with value: 0.09035060496078469.\n",
      "[I 2023-06-06 18:48:39,403] Trial 34 finished with value: 0.10507775095145828 and parameters: {'booster': 'dart', 'gamma': 0.6593989077182274, 'max_depth': 15, 'min_child_weight': 2, 'subsample': 0.8969778280772449}. Best is trial 30 with value: 0.09035060496078469.\n",
      "[I 2023-06-06 18:48:39,623] Trial 35 finished with value: 0.10057399545349513 and parameters: {'booster': 'dart', 'gamma': 0.5905389771059206, 'max_depth': 15, 'min_child_weight': 1, 'subsample': 0.9174369815391941}. Best is trial 30 with value: 0.09035060496078469.\n",
      "[I 2023-06-06 18:48:40,184] Trial 36 finished with value: 0.1022132945140641 and parameters: {'booster': 'dart', 'gamma': 2.12268315007002, 'max_depth': 16, 'min_child_weight': 2, 'subsample': 0.9354291885403394}. Best is trial 30 with value: 0.09035060496078469.\n",
      "[I 2023-06-06 18:48:42,294] Trial 37 finished with value: 0.10084019798439552 and parameters: {'booster': 'dart', 'gamma': 0.44272001732576316, 'max_depth': 15, 'min_child_weight': 2, 'subsample': 0.9258210492153733}. Best is trial 30 with value: 0.09035060496078469.\n",
      "[I 2023-06-06 18:48:42,577] Trial 43 finished with value: 0.09297246573889334 and parameters: {'booster': 'gbtree', 'gamma': 1.4141397954568922, 'max_depth': 11, 'min_child_weight': 2, 'subsample': 0.9429456610689171}. Best is trial 30 with value: 0.09035060496078469.\n",
      "[I 2023-06-06 18:48:42,813] Trial 38 finished with value: 0.09721518930633467 and parameters: {'booster': 'dart', 'gamma': 0.598969369736032, 'max_depth': 16, 'min_child_weight': 1, 'subsample': 0.9232439257390045}. Best is trial 30 with value: 0.09035060496078469.\n",
      "[I 2023-06-06 18:48:43,450] Trial 40 finished with value: 0.10331980779062365 and parameters: {'booster': 'dart', 'gamma': 0.4576796467204737, 'max_depth': 12, 'min_child_weight': 2, 'subsample': 0.9177261304488388}. Best is trial 30 with value: 0.09035060496078469.\n",
      "[I 2023-06-06 18:48:43,687] Trial 44 finished with value: 0.10169577387745636 and parameters: {'booster': 'gbtree', 'gamma': 1.4105074559415351, 'max_depth': 12, 'min_child_weight': 1, 'subsample': 0.931451767775316}. Best is trial 30 with value: 0.09035060496078469.\n",
      "[I 2023-06-06 18:48:44,503] Trial 39 finished with value: 0.10379276701098171 and parameters: {'booster': 'dart', 'gamma': 0.3848059685357761, 'max_depth': 16, 'min_child_weight': 2, 'subsample': 0.9403555889780681}. Best is trial 30 with value: 0.09035060496078469.\n",
      "[I 2023-06-06 18:48:44,900] Trial 47 finished with value: 0.09950012072086363 and parameters: {'booster': 'gbtree', 'gamma': 1.4673186932646987, 'max_depth': 8, 'min_child_weight': 3, 'subsample': 0.8379777366609603}. Best is trial 30 with value: 0.09035060496078469.\n",
      "[I 2023-06-06 18:48:45,521] Trial 49 finished with value: 0.09879001754819752 and parameters: {'booster': 'gbtree', 'gamma': 1.3200513287297149, 'max_depth': 8, 'min_child_weight': 2, 'subsample': 0.8460714395596451}. Best is trial 30 with value: 0.09035060496078469.\n",
      "[I 2023-06-06 18:48:45,599] Trial 41 finished with value: 0.10662343507331169 and parameters: {'booster': 'dart', 'gamma': 1.4784729465236623, 'max_depth': 17, 'min_child_weight': 2, 'subsample': 0.9342728405042037}. Best is trial 30 with value: 0.09035060496078469.\n",
      "[I 2023-06-06 18:48:45,621] Trial 42 finished with value: 0.11023005280470481 and parameters: {'booster': 'dart', 'gamma': 1.4811836433593766, 'max_depth': 12, 'min_child_weight': 1, 'subsample': 0.9340400149598478}. Best is trial 30 with value: 0.09035060496078469.\n",
      "[I 2023-06-06 18:48:45,753] Trial 45 finished with value: 0.1007323975382302 and parameters: {'booster': 'gbtree', 'gamma': 1.4721874355596931, 'max_depth': 12, 'min_child_weight': 1, 'subsample': 0.8419581702087491}. Best is trial 30 with value: 0.09035060496078469.\n",
      "[I 2023-06-06 18:48:45,981] Trial 48 finished with value: 0.10667336977123891 and parameters: {'booster': 'gbtree', 'gamma': 1.4057317982074282, 'max_depth': 9, 'min_child_weight': 2, 'subsample': 0.9552098054719447}. Best is trial 30 with value: 0.09035060496078469.\n",
      "[I 2023-06-06 18:48:46,164] Trial 46 finished with value: 0.10832064773063363 and parameters: {'booster': 'gbtree', 'gamma': 1.467139297825529, 'max_depth': 12, 'min_child_weight': 1, 'subsample': 0.8097845351543922}. Best is trial 30 with value: 0.09035060496078469.\n",
      "[I 2023-06-06 18:48:46,246] Trial 50 finished with value: 0.10219219383048112 and parameters: {'booster': 'gbtree', 'gamma': 1.4005502536078782, 'max_depth': 8, 'min_child_weight': 3, 'subsample': 0.8181019896416994}. Best is trial 30 with value: 0.09035060496078469.\n",
      "[I 2023-06-06 18:48:47,331] Trial 57 finished with value: 0.0974846329696833 and parameters: {'booster': 'gbtree', 'gamma': 1.948882171645766, 'max_depth': 6, 'min_child_weight': 3, 'subsample': 0.9652430086104242}. Best is trial 30 with value: 0.09035060496078469.\n",
      "[I 2023-06-06 18:48:47,718] Trial 51 finished with value: 0.10333488721651374 and parameters: {'booster': 'gbtree', 'gamma': 1.2876013573675738, 'max_depth': 10, 'min_child_weight': 2, 'subsample': 0.954815152831332}. Best is trial 30 with value: 0.09035060496078469.\n",
      "[I 2023-06-06 18:48:47,956] Trial 55 finished with value: 0.09439261161701946 and parameters: {'booster': 'gbtree', 'gamma': 1.0455070145774488, 'max_depth': 9, 'min_child_weight': 3, 'subsample': 0.9590381308540734}. Best is trial 30 with value: 0.09035060496078469.\n",
      "[I 2023-06-06 18:48:48,015] Trial 54 finished with value: 0.09753161449686337 and parameters: {'booster': 'gbtree', 'gamma': 0.9867676625966059, 'max_depth': 10, 'min_child_weight': 3, 'subsample': 0.9602849301900425}. Best is trial 30 with value: 0.09035060496078469.\n",
      "[I 2023-06-06 18:48:48,215] Trial 53 finished with value: 0.10671036970640171 and parameters: {'booster': 'gbtree', 'gamma': 1.8118440822194186, 'max_depth': 10, 'min_child_weight': 3, 'subsample': 0.9580654080712349}. Best is trial 30 with value: 0.09035060496078469.\n",
      "[I 2023-06-06 18:48:48,433] Trial 52 finished with value: 0.10467795179882354 and parameters: {'booster': 'gbtree', 'gamma': 1.0690969075169954, 'max_depth': 10, 'min_child_weight': 2, 'subsample': 0.9558581746586977}. Best is trial 30 with value: 0.09035060496078469.\n",
      "[I 2023-06-06 18:48:48,913] Trial 56 finished with value: 0.0923699972390186 and parameters: {'booster': 'gbtree', 'gamma': 1.0249750020564314, 'max_depth': 11, 'min_child_weight': 3, 'subsample': 0.8144734248502914}. Best is trial 30 with value: 0.09035060496078469.\n",
      "[I 2023-06-06 18:48:48,977] Trial 62 finished with value: 0.0999403915445242 and parameters: {'booster': 'gbtree', 'gamma': 0.9800227898602961, 'max_depth': 5, 'min_child_weight': 3, 'subsample': 0.8993879395033524}. Best is trial 30 with value: 0.09035060496078469.\n",
      "[I 2023-06-06 18:48:49,307] Trial 58 finished with value: 0.09935805986957472 and parameters: {'booster': 'gbtree', 'gamma': 0.9830587255469303, 'max_depth': 11, 'min_child_weight': 1, 'subsample': 0.9564127005454702}. Best is trial 30 with value: 0.09035060496078469.\n",
      "[I 2023-06-06 18:48:50,717] Trial 61 finished with value: 0.10377213785515378 and parameters: {'booster': 'gbtree', 'gamma': 0.9957666465641091, 'max_depth': 11, 'min_child_weight': 3, 'subsample': 0.8909432440355383}. Best is trial 30 with value: 0.09035060496078469.\n",
      "[I 2023-06-06 18:48:50,949] Trial 63 finished with value: 0.10098857218108455 and parameters: {'booster': 'gbtree', 'gamma': 1.0270635754697455, 'max_depth': 11, 'min_child_weight': 2, 'subsample': 0.905622619617705}. Best is trial 30 with value: 0.09035060496078469.\n",
      "[I 2023-06-06 18:48:51,440] Trial 64 finished with value: 0.1205557188527491 and parameters: {'booster': 'gbtree', 'gamma': 0.8277997983275109, 'max_depth': 11, 'min_child_weight': 2, 'subsample': 0.9020930525103009}. Best is trial 30 with value: 0.09035060496078469.\n",
      "[I 2023-06-06 18:48:51,705] Trial 66 finished with value: 0.10849730262419889 and parameters: {'booster': 'gbtree', 'gamma': 0.8005544287495654, 'max_depth': 11, 'min_child_weight': 2, 'subsample': 0.8719219193565886}. Best is trial 30 with value: 0.09035060496078469.\n",
      "[I 2023-06-06 18:48:52,276] Trial 65 finished with value: 0.1092470476610639 and parameters: {'booster': 'gbtree', 'gamma': 0.9530208012896747, 'max_depth': 13, 'min_child_weight': 2, 'subsample': 0.8959496008197261}. Best is trial 30 with value: 0.09035060496078469.\n",
      "[I 2023-06-06 18:48:52,663] Trial 68 finished with value: 0.10315351844783452 and parameters: {'booster': 'gbtree', 'gamma': 0.7469006783678112, 'max_depth': 9, 'min_child_weight': 3, 'subsample': 0.856094832812807}. Best is trial 30 with value: 0.09035060496078469.\n",
      "[I 2023-06-06 18:48:52,668] Trial 59 finished with value: 0.10542871273207499 and parameters: {'booster': 'dart', 'gamma': 1.1110213054104587, 'max_depth': 10, 'min_child_weight': 1, 'subsample': 0.8946543171707925}. Best is trial 30 with value: 0.09035060496078469.\n",
      "[I 2023-06-06 18:48:52,751] Trial 67 finished with value: 0.10657372713080197 and parameters: {'booster': 'gbtree', 'gamma': 0.818596731911517, 'max_depth': 13, 'min_child_weight': 2, 'subsample': 0.8666209861068394}. Best is trial 30 with value: 0.09035060496078469.\n",
      "[I 2023-06-06 18:48:53,803] Trial 72 finished with value: 0.10453099460385257 and parameters: {'booster': 'gbtree', 'gamma': 1.252538568760446, 'max_depth': 7, 'min_child_weight': 3, 'subsample': 0.9791793378785506}. Best is trial 30 with value: 0.09035060496078469.\n",
      "[I 2023-06-06 18:48:54,186] Trial 69 finished with value: 0.09522641317467397 and parameters: {'booster': 'gbtree', 'gamma': 0.825894077384441, 'max_depth': 13, 'min_child_weight': 3, 'subsample': 0.8649649216018667}. Best is trial 30 with value: 0.09035060496078469.\n",
      "[I 2023-06-06 18:48:54,219] Trial 60 finished with value: 0.09697648809757219 and parameters: {'booster': 'dart', 'gamma': 0.8401060709065925, 'max_depth': 13, 'min_child_weight': 1, 'subsample': 0.9019789579946038}. Best is trial 30 with value: 0.09035060496078469.\n",
      "[I 2023-06-06 18:48:54,715] Trial 70 finished with value: 0.09861888372379518 and parameters: {'booster': 'gbtree', 'gamma': 1.2394935054752714, 'max_depth': 13, 'min_child_weight': 3, 'subsample': 0.8724512106026083}. Best is trial 30 with value: 0.09035060496078469.\n",
      "[I 2023-06-06 18:48:55,188] Trial 79 finished with value: 0.09192928357832679 and parameters: {'booster': 'gbtree', 'gamma': 0.24113592838045006, 'max_depth': 3, 'min_child_weight': 3, 'subsample': 0.9772339037876211}. Best is trial 30 with value: 0.09035060496078469.\n",
      "[I 2023-06-06 18:48:55,434] Trial 71 finished with value: 0.09082970042524399 and parameters: {'booster': 'gbtree', 'gamma': 1.2190090703755387, 'max_depth': 13, 'min_child_weight': 3, 'subsample': 0.9804665120622813}. Best is trial 30 with value: 0.09035060496078469.\n",
      "[I 2023-06-06 18:48:56,077] Trial 74 finished with value: 0.10003845808375045 and parameters: {'booster': 'gbtree', 'gamma': 1.2399366823827174, 'max_depth': 13, 'min_child_weight': 3, 'subsample': 0.9739158876276955}. Best is trial 30 with value: 0.09035060496078469.\n",
      "[I 2023-06-06 18:48:56,786] Trial 75 finished with value: 0.09573941599296562 and parameters: {'booster': 'dart', 'gamma': 0.23419632569570858, 'max_depth': 7, 'min_child_weight': 3, 'subsample': 0.9775183353615873}. Best is trial 30 with value: 0.09035060496078469.\n",
      "[I 2023-06-06 18:48:56,932] Trial 73 finished with value: 0.08547292199501176 and parameters: {'booster': 'dart', 'gamma': 1.1430440610880634, 'max_depth': 7, 'min_child_weight': 3, 'subsample': 0.8721463985710389}. Best is trial 73 with value: 0.08547292199501176.\n",
      "[I 2023-06-06 18:48:56,952] Trial 76 finished with value: 0.08958762061731482 and parameters: {'booster': 'dart', 'gamma': 0.26326049585442446, 'max_depth': 3, 'min_child_weight': 3, 'subsample': 0.9824560909429457}. Best is trial 73 with value: 0.08547292199501176.\n",
      "[I 2023-06-06 18:48:57,379] Trial 77 finished with value: 0.10026564943883827 and parameters: {'booster': 'dart', 'gamma': 0.24359584616568997, 'max_depth': 3, 'min_child_weight': 3, 'subsample': 0.9856111543380528}. Best is trial 73 with value: 0.08547292199501176.\n",
      "[I 2023-06-06 18:48:57,982] Trial 78 finished with value: 0.10072720942551266 and parameters: {'booster': 'gbtree', 'gamma': 1.1667135400443036, 'max_depth': 14, 'min_child_weight': 3, 'subsample': 0.8284565598927301}. Best is trial 73 with value: 0.08547292199501176.\n",
      "[I 2023-06-06 18:48:58,462] Trial 80 finished with value: 0.08882747706897225 and parameters: {'booster': 'dart', 'gamma': 0.20224829669574912, 'max_depth': 3, 'min_child_weight': 3, 'subsample': 0.9814558103329875}. Best is trial 73 with value: 0.08547292199501176.\n",
      "[I 2023-06-06 18:48:58,901] Trial 81 finished with value: 0.1011550793258448 and parameters: {'booster': 'dart', 'gamma': 0.21918068710719468, 'max_depth': 4, 'min_child_weight': 3, 'subsample': 0.9709203249420023}. Best is trial 73 with value: 0.08547292199501176.\n",
      "[I 2023-06-06 18:49:00,222] Trial 83 finished with value: 0.09285075924628058 and parameters: {'booster': 'dart', 'gamma': 0.31143332311670724, 'max_depth': 3, 'min_child_weight': 2, 'subsample': 0.9983379955397773}. Best is trial 73 with value: 0.08547292199501176.\n",
      "[I 2023-06-06 18:49:00,370] Trial 85 finished with value: 0.09668874547709208 and parameters: {'booster': 'dart', 'gamma': 0.46147552726028573, 'max_depth': 3, 'min_child_weight': 3, 'subsample': 0.9985131643368511}. Best is trial 73 with value: 0.08547292199501176.\n",
      "[I 2023-06-06 18:49:00,411] Trial 84 finished with value: 0.10905264053468235 and parameters: {'booster': 'dart', 'gamma': 0.4246801194896882, 'max_depth': 3, 'min_child_weight': 3, 'subsample': 0.924616722576284}. Best is trial 73 with value: 0.08547292199501176.\n",
      "[I 2023-06-06 18:49:00,990] Trial 86 finished with value: 0.09419516055635249 and parameters: {'booster': 'dart', 'gamma': 0.4550540897200672, 'max_depth': 4, 'min_child_weight': 3, 'subsample': 0.9960952384195085}. Best is trial 73 with value: 0.08547292199501176.\n",
      "[I 2023-06-06 18:49:01,729] Trial 87 finished with value: 0.1015860929055106 and parameters: {'booster': 'dart', 'gamma': 0.5304356049710894, 'max_depth': 4, 'min_child_weight': 3, 'subsample': 0.9212051034646426}. Best is trial 73 with value: 0.08547292199501176.\n",
      "[I 2023-06-06 18:49:02,147] Trial 88 finished with value: 0.10509400868155465 and parameters: {'booster': 'dart', 'gamma': 0.41779014593011987, 'max_depth': 4, 'min_child_weight': 3, 'subsample': 0.9207574269665018}. Best is trial 73 with value: 0.08547292199501176.\n",
      "[I 2023-06-06 18:49:02,359] Trial 82 finished with value: 0.10017139425110429 and parameters: {'booster': 'dart', 'gamma': 0.23845292352365588, 'max_depth': 14, 'min_child_weight': 3, 'subsample': 0.999326073589671}. Best is trial 73 with value: 0.08547292199501176.\n",
      "[I 2023-06-06 18:49:02,547] Trial 89 finished with value: 0.09108277916288399 and parameters: {'booster': 'dart', 'gamma': 0.5758035133541064, 'max_depth': 4, 'min_child_weight': 3, 'subsample': 0.9930472404982547}. Best is trial 73 with value: 0.08547292199501176.\n",
      "[I 2023-06-06 18:49:03,797] Trial 90 finished with value: 0.1101594458309121 and parameters: {'booster': 'dart', 'gamma': 0.11547630853043837, 'max_depth': 4, 'min_child_weight': 3, 'subsample': 0.9150855566413056}. Best is trial 73 with value: 0.08547292199501176.\n",
      "[I 2023-06-06 18:49:03,921] Trial 91 finished with value: 0.10769409539656159 and parameters: {'booster': 'dart', 'gamma': 0.5372519285934017, 'max_depth': 4, 'min_child_weight': 3, 'subsample': 0.9432528878597276}. Best is trial 73 with value: 0.08547292199501176.\n",
      "[I 2023-06-06 18:49:03,992] Trial 92 finished with value: 0.103718449967651 and parameters: {'booster': 'dart', 'gamma': 0.1356155308909759, 'max_depth': 4, 'min_child_weight': 3, 'subsample': 0.9416378654680093}. Best is trial 73 with value: 0.08547292199501176.\n",
      "[I 2023-06-06 18:49:04,405] Trial 93 finished with value: 0.10373755834666426 and parameters: {'booster': 'dart', 'gamma': 0.6132539784399516, 'max_depth': 4, 'min_child_weight': 3, 'subsample': 0.9412466533454362}. Best is trial 73 with value: 0.08547292199501176.\n",
      "[I 2023-06-06 18:49:04,836] Trial 94 finished with value: 0.10515290371669209 and parameters: {'booster': 'dart', 'gamma': 0.6898464987067645, 'max_depth': 4, 'min_child_weight': 3, 'subsample': 0.9416348782049089}. Best is trial 73 with value: 0.08547292199501176.\n",
      "[I 2023-06-06 18:49:05,288] Trial 96 finished with value: 0.1006354367143697 and parameters: {'booster': 'dart', 'gamma': 0.10628249913534138, 'max_depth': 5, 'min_child_weight': 3, 'subsample': 0.946402399988309}. Best is trial 73 with value: 0.08547292199501176.\n",
      "[I 2023-06-06 18:49:05,339] Trial 97 finished with value: 0.10341250513338196 and parameters: {'booster': 'dart', 'gamma': 0.6674327249109779, 'max_depth': 5, 'min_child_weight': 3, 'subsample': 0.9427975928599678}. Best is trial 73 with value: 0.08547292199501176.\n",
      "[I 2023-06-06 18:49:05,750] Trial 98 finished with value: 0.10498248084714003 and parameters: {'booster': 'dart', 'gamma': 0.7026302003798772, 'max_depth': 5, 'min_child_weight': 3, 'subsample': 0.9416450291398243}. Best is trial 73 with value: 0.08547292199501176.\n",
      "[I 2023-06-06 18:49:05,757] Trial 99 finished with value: 0.10078841713205217 and parameters: {'booster': 'dart', 'gamma': 0.6942590499716942, 'max_depth': 5, 'min_child_weight': 3, 'subsample': 0.9460613745459839}. Best is trial 73 with value: 0.08547292199501176.\n",
      "[I 2023-06-06 18:49:05,989] Trial 95 finished with value: 0.10612433099242906 and parameters: {'booster': 'dart', 'gamma': 0.10036622107171073, 'max_depth': 17, 'min_child_weight': 3, 'subsample': 0.9353129788262262}. Best is trial 73 with value: 0.08547292199501176.\n"
     ]
    }
   ],
   "source": [
    "from sklearn.metrics import mean_squared_error, r2_score\n",
    "from xgboost import XGBRegressor\n",
    "import optuna\n",
    "\n",
    "# objective function to be minimized\n",
    "def objective_fun(trial):\n",
    "\n",
    "    booster = trial.suggest_categorical('booster', ['gbtree', 'dart'])\n",
    "    gamma = trial.suggest_float('gamma', 0, 5)\n",
    "    max_depth = trial.suggest_int('max_depth', 3, 20)\n",
    "    min_child_weight = trial.suggest_int('min_child_weight', 1, 3)\n",
    "    subsample = trial.suggest_float('subsample', 0.4, 1)\n",
    "\n",
    "    xgb = XGBRegressor(booster=booster, gamma=gamma, max_depth=max_depth, min_child_weight=min_child_weight, subsample=subsample)\n",
    "\n",
    "    xgb.fit(X_train, y_train)\n",
    "    y_pred = xgb.predict(X_valid)\n",
    "\n",
    "    error = mean_squared_error(y_valid, y_pred)\n",
    "\n",
    "    return error\n",
    "\n",
    "\n",
    "study = optuna.create_study()\n",
    "study.optimize(objective_fun, n_trials=100, n_jobs=-1)"
   ],
   "metadata": {
    "collapsed": false,
    "ExecuteTime": {
     "end_time": "2023-06-06T16:49:05.994136Z",
     "start_time": "2023-06-06T16:48:13.553495Z"
    }
   }
  },
  {
   "cell_type": "code",
   "execution_count": 12,
   "outputs": [
    {
     "name": "stdout",
     "output_type": "stream",
     "text": [
      "{'booster': 'dart', 'gamma': 1.1430440610880634, 'max_depth': 7, 'min_child_weight': 3, 'subsample': 0.8721463985710389}\n",
      "Root mean squared error = 0.3941\n",
      "R-squared = 0.6607\n"
     ]
    }
   ],
   "source": [
    "best_params = study.best_params\n",
    "\n",
    "xgb = XGBRegressor(**best_params)\n",
    "xgb.fit(X_train, y_train)\n",
    "\n",
    "y_pred_test = xgb.predict(X_test)\n",
    "\n",
    "print(best_params)\n",
    "print('Root mean squared error = %.4f' % np.sqrt(mean_squared_error(y_test, y_pred_test)))\n",
    "print('R-squared = %.4f' % r2_score(y_test, y_pred_test))"
   ],
   "metadata": {
    "collapsed": false,
    "ExecuteTime": {
     "end_time": "2023-06-06T16:49:06.413132Z",
     "start_time": "2023-06-06T16:49:05.996756Z"
    }
   }
  },
  {
   "cell_type": "code",
   "execution_count": 13,
   "outputs": [
    {
     "data": {
      "text/plain": "array([9.4917472e-03, 1.1043926e-02, 6.4646387e-03, ..., 1.4944229e-04,\n       1.0015884e-04, 9.6195610e-05], dtype=float32)"
     },
     "execution_count": 13,
     "metadata": {},
     "output_type": "execute_result"
    }
   ],
   "source": [
    "y_pred = xgb.predict(X_to_pred)\n",
    "y_pred = np.power(10, y_pred)\n",
    "y_pred"
   ],
   "metadata": {
    "collapsed": false,
    "ExecuteTime": {
     "end_time": "2023-06-06T16:49:06.454893Z",
     "start_time": "2023-06-06T16:49:06.413505Z"
    }
   }
  },
  {
   "cell_type": "code",
   "execution_count": 14,
   "outputs": [
    {
     "data": {
      "text/plain": "0"
     },
     "execution_count": 14,
     "metadata": {},
     "output_type": "execute_result"
    }
   ],
   "source": [
    "# negative values predicted\n",
    "np.count_nonzero(y_pred < 0)"
   ],
   "metadata": {
    "collapsed": false,
    "ExecuteTime": {
     "end_time": "2023-06-06T16:49:06.461513Z",
     "start_time": "2023-06-06T16:49:06.433860Z"
    }
   }
  },
  {
   "cell_type": "code",
   "execution_count": 15,
   "outputs": [],
   "source": [
    "df_zero[TARGET] = y_pred\n",
    "df.update(df_zero)"
   ],
   "metadata": {
    "collapsed": false,
    "ExecuteTime": {
     "end_time": "2023-06-06T16:49:06.473211Z",
     "start_time": "2023-06-06T16:49:06.442951Z"
    }
   }
  },
  {
   "cell_type": "code",
   "execution_count": 16,
   "outputs": [
    {
     "data": {
      "text/plain": "<Figure size 640x480 with 1 Axes>",
      "image/png": "[encoded data removed]"
     },
     "metadata": {},
     "output_type": "display_data"
    }
   ],
   "source": [
    "sns.histplot(data=df, x=TARGET)\n",
    "plt.xlabel(f'{TARGET}')\n",
    "plt.ylabel('Count')\n",
    "plt.title(f'Distribution of {TARGET}')\n",
    "plt.show()"
   ],
   "metadata": {
    "collapsed": false,
    "ExecuteTime": {
     "end_time": "2023-06-06T16:49:06.649819Z",
     "start_time": "2023-06-06T16:49:06.474807Z"
    }
   }
  },
  {
   "cell_type": "code",
   "execution_count": 17,
   "outputs": [
    {
     "data": {
      "text/plain": "<Figure size 640x480 with 1 Axes>",
      "image/png": "[encoded data removed]"
     },
     "metadata": {},
     "output_type": "display_data"
    }
   ],
   "source": [
    "sns.histplot(data=df, x=TARGET, log_scale=True)\n",
    "plt.xlabel(f'{TARGET}')\n",
    "plt.ylabel('Count')\n",
    "plt.title(f'Distribution of {TARGET}')\n",
    "plt.show()"
   ],
   "metadata": {
    "collapsed": false,
    "ExecuteTime": {
     "end_time": "2023-06-06T16:49:07.191990Z",
     "start_time": "2023-06-06T16:49:06.652343Z"
    }
   }
  },
  {
   "cell_type": "markdown",
   "source": [
    "## Neural Network"
   ],
   "metadata": {
    "collapsed": false
   }
  },
  {
   "cell_type": "code",
   "execution_count": 18,
   "outputs": [
    {
     "name": "stderr",
     "output_type": "stream",
     "text": [
      "[I 2023-06-06 18:49:10,232] A new study created in memory with name: no-name-e6b61905-19ef-4b28-aef7-dd584b25a269\n",
      "WARNING:absl:At this time, the v2.11+ optimizer `tf.keras.optimizers.Adam` runs slowly on M1/M2 Macs, please use the legacy Keras optimizer instead, located at `tf.keras.optimizers.legacy.Adam`.\n",
      "WARNING:absl:At this time, the v2.11+ optimizer `tf.keras.optimizers.Adam` runs slowly on M1/M2 Macs, please use the legacy Keras optimizer instead, located at `tf.keras.optimizers.legacy.Adam`.\n",
      "WARNING:absl:At this time, the v2.11+ optimizer `tf.keras.optimizers.Adam` runs slowly on M1/M2 Macs, please use the legacy Keras optimizer instead, located at `tf.keras.optimizers.legacy.Adam`.\n",
      "WARNING:absl:At this time, the v2.11+ optimizer `tf.keras.optimizers.Adam` runs slowly on M1/M2 Macs, please use the legacy Keras optimizer instead, located at `tf.keras.optimizers.legacy.Adam`.\n",
      "WARNING:absl:At this time, the v2.11+ optimizer `tf.keras.optimizers.Adam` runs slowly on M1/M2 Macs, please use the legacy Keras optimizer instead, located at `tf.keras.optimizers.legacy.Adam`.\n",
      "WARNING:absl:At this time, the v2.11+ optimizer `tf.keras.optimizers.Adam` runs slowly on M1/M2 Macs, please use the legacy Keras optimizer instead, located at `tf.keras.optimizers.legacy.Adam`.\n",
      "WARNING:absl:At this time, the v2.11+ optimizer `tf.keras.optimizers.Adam` runs slowly on M1/M2 Macs, please use the legacy Keras optimizer instead, located at `tf.keras.optimizers.legacy.Adam`.\n",
      "WARNING:absl:At this time, the v2.11+ optimizer `tf.keras.optimizers.Adam` runs slowly on M1/M2 Macs, please use the legacy Keras optimizer instead, located at `tf.keras.optimizers.legacy.Adam`.\n",
      "WARNING:absl:There is a known slowdown when using v2.11+ Keras optimizers on M1/M2 Macs. Falling back to the legacy Keras optimizer, i.e., `tf.keras.optimizers.legacy.Adam`.\n",
      "WARNING:absl:There is a known slowdown when using v2.11+ Keras optimizers on M1/M2 Macs. Falling back to the legacy Keras optimizer, i.e., `tf.keras.optimizers.legacy.Adam`.\n",
      "WARNING:absl:There is a known slowdown when using v2.11+ Keras optimizers on M1/M2 Macs. Falling back to the legacy Keras optimizer, i.e., `tf.keras.optimizers.legacy.Adam`.\n",
      "WARNING:absl:There is a known slowdown when using v2.11+ Keras optimizers on M1/M2 Macs. Falling back to the legacy Keras optimizer, i.e., `tf.keras.optimizers.legacy.Adam`.\n",
      "WARNING:absl:There is a known slowdown when using v2.11+ Keras optimizers on M1/M2 Macs. Falling back to the legacy Keras optimizer, i.e., `tf.keras.optimizers.legacy.Adam`.\n",
      "WARNING:absl:There is a known slowdown when using v2.11+ Keras optimizers on M1/M2 Macs. Falling back to the legacy Keras optimizer, i.e., `tf.keras.optimizers.legacy.Adam`.\n",
      "WARNING:absl:There is a known slowdown when using v2.11+ Keras optimizers on M1/M2 Macs. Falling back to the legacy Keras optimizer, i.e., `tf.keras.optimizers.legacy.Adam`.\n",
      "WARNING:absl:There is a known slowdown when using v2.11+ Keras optimizers on M1/M2 Macs. Falling back to the legacy Keras optimizer, i.e., `tf.keras.optimizers.legacy.Adam`.\n"
     ]
    },
    {
     "name": "stdout",
     "output_type": "stream",
     "text": [
      "WARNING:tensorflow:5 out of the last 5 calls to <function Model.make_train_function.<locals>.train_function at 0x2b301bb80> triggered tf.function retracing. Tracing is expensive and the excessive number of tracings could be due to (1) creating @tf.function repeatedly in a loop, (2) passing tensors with different shapes, (3) passing Python objects instead of tensors. For (1), please define your @tf.function outside of the loop. For (2), @tf.function has reduce_retracing=True option that can avoid unnecessary retracing. For (3), please refer to https://www.tensorflow.org/guide/function#controlling_retracing and https://www.tensorflow.org/api_docs/python/tf/function for  more details.\n"
     ]
    },
    {
     "name": "stderr",
     "output_type": "stream",
     "text": [
      "WARNING:tensorflow:5 out of the last 5 calls to <function Model.make_train_function.<locals>.train_function at 0x2b301bb80> triggered tf.function retracing. Tracing is expensive and the excessive number of tracings could be due to (1) creating @tf.function repeatedly in a loop, (2) passing tensors with different shapes, (3) passing Python objects instead of tensors. For (1), please define your @tf.function outside of the loop. For (2), @tf.function has reduce_retracing=True option that can avoid unnecessary retracing. For (3), please refer to https://www.tensorflow.org/guide/function#controlling_retracing and https://www.tensorflow.org/api_docs/python/tf/function for  more details.\n"
     ]
    },
    {
     "name": "stdout",
     "output_type": "stream",
     "text": [
      "WARNING:tensorflow:6 out of the last 8 calls to <function Model.make_train_function.<locals>.train_function at 0x2b301b1f0> triggered tf.function retracing. Tracing is expensive and the excessive number of tracings could be due to (1) creating @tf.function repeatedly in a loop, (2) passing tensors with different shapes, (3) passing Python objects instead of tensors. For (1), please define your @tf.function outside of the loop. For (2), @tf.function has reduce_retracing=True option that can avoid unnecessary retracing. For (3), please refer to https://www.tensorflow.org/guide/function#controlling_retracing and https://www.tensorflow.org/api_docs/python/tf/function for  more details.\n"
     ]
    },
    {
     "name": "stderr",
     "output_type": "stream",
     "text": [
      "WARNING:tensorflow:6 out of the last 8 calls to <function Model.make_train_function.<locals>.train_function at 0x2b301b1f0> triggered tf.function retracing. Tracing is expensive and the excessive number of tracings could be due to (1) creating @tf.function repeatedly in a loop, (2) passing tensors with different shapes, (3) passing Python objects instead of tensors. For (1), please define your @tf.function outside of the loop. For (2), @tf.function has reduce_retracing=True option that can avoid unnecessary retracing. For (3), please refer to https://www.tensorflow.org/guide/function#controlling_retracing and https://www.tensorflow.org/api_docs/python/tf/function for  more details.\n"
     ]
    },
    {
     "name": "stdout",
     "output_type": "stream",
     "text": [
      "WARNING:tensorflow:5 out of the last 9 calls to <function Model.make_test_function.<locals>.test_function at 0x2b5794b80> triggered tf.function retracing. Tracing is expensive and the excessive number of tracings could be due to (1) creating @tf.function repeatedly in a loop, (2) passing tensors with different shapes, (3) passing Python objects instead of tensors. For (1), please define your @tf.function outside of the loop. For (2), @tf.function has reduce_retracing=True option that can avoid unnecessary retracing. For (3), please refer to https://www.tensorflow.org/guide/function#controlling_retracing and https://www.tensorflow.org/api_docs/python/tf/function for  more details.\n"
     ]
    },
    {
     "name": "stderr",
     "output_type": "stream",
     "text": [
      "WARNING:tensorflow:5 out of the last 9 calls to <function Model.make_test_function.<locals>.test_function at 0x2b5794b80> triggered tf.function retracing. Tracing is expensive and the excessive number of tracings could be due to (1) creating @tf.function repeatedly in a loop, (2) passing tensors with different shapes, (3) passing Python objects instead of tensors. For (1), please define your @tf.function outside of the loop. For (2), @tf.function has reduce_retracing=True option that can avoid unnecessary retracing. For (3), please refer to https://www.tensorflow.org/guide/function#controlling_retracing and https://www.tensorflow.org/api_docs/python/tf/function for  more details.\n"
     ]
    },
    {
     "name": "stdout",
     "output_type": "stream",
     "text": [
      "WARNING:tensorflow:6 out of the last 10 calls to <function Model.make_test_function.<locals>.test_function at 0x2b577ee50> triggered tf.function retracing. Tracing is expensive and the excessive number of tracings could be due to (1) creating @tf.function repeatedly in a loop, (2) passing tensors with different shapes, (3) passing Python objects instead of tensors. For (1), please define your @tf.function outside of the loop. For (2), @tf.function has reduce_retracing=True option that can avoid unnecessary retracing. For (3), please refer to https://www.tensorflow.org/guide/function#controlling_retracing and https://www.tensorflow.org/api_docs/python/tf/function for  more details.\n"
     ]
    },
    {
     "name": "stderr",
     "output_type": "stream",
     "text": [
      "WARNING:tensorflow:6 out of the last 10 calls to <function Model.make_test_function.<locals>.test_function at 0x2b577ee50> triggered tf.function retracing. Tracing is expensive and the excessive number of tracings could be due to (1) creating @tf.function repeatedly in a loop, (2) passing tensors with different shapes, (3) passing Python objects instead of tensors. For (1), please define your @tf.function outside of the loop. For (2), @tf.function has reduce_retracing=True option that can avoid unnecessary retracing. For (3), please refer to https://www.tensorflow.org/guide/function#controlling_retracing and https://www.tensorflow.org/api_docs/python/tf/function for  more details.\n",
      "[I 2023-06-06 18:49:13,184] Trial 6 finished with value: 0.5722910165786743 and parameters: {'n_hidden': 3, 'n_units': 61, 'learning_rate': 0.0861124286573181}. Best is trial 6 with value: 0.5722910165786743.\n",
      "[I 2023-06-06 18:49:13,242] Trial 5 finished with value: 0.14224965870380402 and parameters: {'n_hidden': 2, 'n_units': 108, 'learning_rate': 0.012781010224557948}. Best is trial 5 with value: 0.14224965870380402.\n",
      "[I 2023-06-06 18:49:13,260] Trial 3 finished with value: 0.1511123776435852 and parameters: {'n_hidden': 2, 'n_units': 69, 'learning_rate': 0.0546399947227726}. Best is trial 5 with value: 0.14224965870380402.\n",
      "[I 2023-06-06 18:49:13,292] Trial 0 finished with value: 0.1116970106959343 and parameters: {'n_hidden': 1, 'n_units': 114, 'learning_rate': 0.00534608884042498}. Best is trial 0 with value: 0.1116970106959343.\n",
      "WARNING:absl:At this time, the v2.11+ optimizer `tf.keras.optimizers.Adam` runs slowly on M1/M2 Macs, please use the legacy Keras optimizer instead, located at `tf.keras.optimizers.legacy.Adam`.\n",
      "WARNING:absl:There is a known slowdown when using v2.11+ Keras optimizers on M1/M2 Macs. Falling back to the legacy Keras optimizer, i.e., `tf.keras.optimizers.legacy.Adam`.\n",
      "WARNING:absl:At this time, the v2.11+ optimizer `tf.keras.optimizers.Adam` runs slowly on M1/M2 Macs, please use the legacy Keras optimizer instead, located at `tf.keras.optimizers.legacy.Adam`.\n",
      "[I 2023-06-06 18:49:13,345] Trial 7 finished with value: 0.16930976510047913 and parameters: {'n_hidden': 2, 'n_units': 87, 'learning_rate': 0.049741053795613575}. Best is trial 0 with value: 0.1116970106959343.\n",
      "WARNING:absl:There is a known slowdown when using v2.11+ Keras optimizers on M1/M2 Macs. Falling back to the legacy Keras optimizer, i.e., `tf.keras.optimizers.legacy.Adam`.\n",
      "WARNING:absl:At this time, the v2.11+ optimizer `tf.keras.optimizers.Adam` runs slowly on M1/M2 Macs, please use the legacy Keras optimizer instead, located at `tf.keras.optimizers.legacy.Adam`.\n",
      "WARNING:absl:There is a known slowdown when using v2.11+ Keras optimizers on M1/M2 Macs. Falling back to the legacy Keras optimizer, i.e., `tf.keras.optimizers.legacy.Adam`.\n",
      "WARNING:absl:At this time, the v2.11+ optimizer `tf.keras.optimizers.Adam` runs slowly on M1/M2 Macs, please use the legacy Keras optimizer instead, located at `tf.keras.optimizers.legacy.Adam`.\n",
      "WARNING:absl:There is a known slowdown when using v2.11+ Keras optimizers on M1/M2 Macs. Falling back to the legacy Keras optimizer, i.e., `tf.keras.optimizers.legacy.Adam`.\n",
      "WARNING:absl:At this time, the v2.11+ optimizer `tf.keras.optimizers.Adam` runs slowly on M1/M2 Macs, please use the legacy Keras optimizer instead, located at `tf.keras.optimizers.legacy.Adam`.\n",
      "WARNING:absl:There is a known slowdown when using v2.11+ Keras optimizers on M1/M2 Macs. Falling back to the legacy Keras optimizer, i.e., `tf.keras.optimizers.legacy.Adam`.\n",
      "[I 2023-06-06 18:49:13,580] Trial 1 finished with value: 0.14819711446762085 and parameters: {'n_hidden': 2, 'n_units': 91, 'learning_rate': 0.0726211248342219}. Best is trial 0 with value: 0.1116970106959343.\n",
      "[I 2023-06-06 18:49:13,597] Trial 4 finished with value: 0.5745859146118164 and parameters: {'n_hidden': 2, 'n_units': 109, 'learning_rate': 0.06437877593032275}. Best is trial 0 with value: 0.1116970106959343.\n",
      "WARNING:absl:At this time, the v2.11+ optimizer `tf.keras.optimizers.Adam` runs slowly on M1/M2 Macs, please use the legacy Keras optimizer instead, located at `tf.keras.optimizers.legacy.Adam`.\n",
      "[I 2023-06-06 18:49:13,706] Trial 2 finished with value: 0.18900775909423828 and parameters: {'n_hidden': 3, 'n_units': 112, 'learning_rate': 0.038296573011269104}. Best is trial 0 with value: 0.1116970106959343.\n",
      "WARNING:absl:There is a known slowdown when using v2.11+ Keras optimizers on M1/M2 Macs. Falling back to the legacy Keras optimizer, i.e., `tf.keras.optimizers.legacy.Adam`.\n",
      "WARNING:absl:At this time, the v2.11+ optimizer `tf.keras.optimizers.Adam` runs slowly on M1/M2 Macs, please use the legacy Keras optimizer instead, located at `tf.keras.optimizers.legacy.Adam`.\n",
      "WARNING:absl:There is a known slowdown when using v2.11+ Keras optimizers on M1/M2 Macs. Falling back to the legacy Keras optimizer, i.e., `tf.keras.optimizers.legacy.Adam`.\n",
      "WARNING:absl:At this time, the v2.11+ optimizer `tf.keras.optimizers.Adam` runs slowly on M1/M2 Macs, please use the legacy Keras optimizer instead, located at `tf.keras.optimizers.legacy.Adam`.\n",
      "WARNING:absl:There is a known slowdown when using v2.11+ Keras optimizers on M1/M2 Macs. Falling back to the legacy Keras optimizer, i.e., `tf.keras.optimizers.legacy.Adam`.\n",
      "[I 2023-06-06 18:49:16,352] Trial 9 finished with value: 0.570334792137146 and parameters: {'n_hidden': 3, 'n_units': 49, 'learning_rate': 0.08274718759445585}. Best is trial 0 with value: 0.1116970106959343.\n",
      "[I 2023-06-06 18:49:16,363] Trial 10 finished with value: 0.11654044687747955 and parameters: {'n_hidden': 2, 'n_units': 44, 'learning_rate': 0.05174396854915265}. Best is trial 0 with value: 0.1116970106959343.\n",
      "WARNING:absl:At this time, the v2.11+ optimizer `tf.keras.optimizers.Adam` runs slowly on M1/M2 Macs, please use the legacy Keras optimizer instead, located at `tf.keras.optimizers.legacy.Adam`.\n",
      "WARNING:absl:At this time, the v2.11+ optimizer `tf.keras.optimizers.Adam` runs slowly on M1/M2 Macs, please use the legacy Keras optimizer instead, located at `tf.keras.optimizers.legacy.Adam`.\n",
      "WARNING:absl:There is a known slowdown when using v2.11+ Keras optimizers on M1/M2 Macs. Falling back to the legacy Keras optimizer, i.e., `tf.keras.optimizers.legacy.Adam`.\n",
      "[I 2023-06-06 18:49:16,483] Trial 13 finished with value: 0.11717982590198517 and parameters: {'n_hidden': 1, 'n_units': 77, 'learning_rate': 0.04261377169999922}. Best is trial 0 with value: 0.1116970106959343.\n",
      "WARNING:absl:There is a known slowdown when using v2.11+ Keras optimizers on M1/M2 Macs. Falling back to the legacy Keras optimizer, i.e., `tf.keras.optimizers.legacy.Adam`.\n",
      "[I 2023-06-06 18:49:16,548] Trial 8 finished with value: 0.5700016617774963 and parameters: {'n_hidden': 3, 'n_units': 77, 'learning_rate': 0.031215953234737505}. Best is trial 0 with value: 0.1116970106959343.\n",
      "WARNING:absl:At this time, the v2.11+ optimizer `tf.keras.optimizers.Adam` runs slowly on M1/M2 Macs, please use the legacy Keras optimizer instead, located at `tf.keras.optimizers.legacy.Adam`.\n",
      "WARNING:absl:There is a known slowdown when using v2.11+ Keras optimizers on M1/M2 Macs. Falling back to the legacy Keras optimizer, i.e., `tf.keras.optimizers.legacy.Adam`.\n",
      "WARNING:absl:At this time, the v2.11+ optimizer `tf.keras.optimizers.Adam` runs slowly on M1/M2 Macs, please use the legacy Keras optimizer instead, located at `tf.keras.optimizers.legacy.Adam`.\n",
      "WARNING:absl:There is a known slowdown when using v2.11+ Keras optimizers on M1/M2 Macs. Falling back to the legacy Keras optimizer, i.e., `tf.keras.optimizers.legacy.Adam`.\n",
      "[I 2023-06-06 18:49:16,725] Trial 15 finished with value: 0.11984498798847198 and parameters: {'n_hidden': 2, 'n_units': 53, 'learning_rate': 0.00561404521178156}. Best is trial 0 with value: 0.1116970106959343.\n",
      "[I 2023-06-06 18:49:16,803] Trial 12 finished with value: 0.5697786808013916 and parameters: {'n_hidden': 2, 'n_units': 76, 'learning_rate': 0.0762852954105988}. Best is trial 0 with value: 0.1116970106959343.\n",
      "WARNING:absl:At this time, the v2.11+ optimizer `tf.keras.optimizers.Adam` runs slowly on M1/M2 Macs, please use the legacy Keras optimizer instead, located at `tf.keras.optimizers.legacy.Adam`.\n",
      "[I 2023-06-06 18:49:16,955] Trial 11 finished with value: 0.5709702968597412 and parameters: {'n_hidden': 2, 'n_units': 54, 'learning_rate': 0.09743358083194133}. Best is trial 0 with value: 0.1116970106959343.\n",
      "WARNING:absl:At this time, the v2.11+ optimizer `tf.keras.optimizers.Adam` runs slowly on M1/M2 Macs, please use the legacy Keras optimizer instead, located at `tf.keras.optimizers.legacy.Adam`.\n",
      "WARNING:absl:There is a known slowdown when using v2.11+ Keras optimizers on M1/M2 Macs. Falling back to the legacy Keras optimizer, i.e., `tf.keras.optimizers.legacy.Adam`.\n",
      "WARNING:absl:There is a known slowdown when using v2.11+ Keras optimizers on M1/M2 Macs. Falling back to the legacy Keras optimizer, i.e., `tf.keras.optimizers.legacy.Adam`.\n",
      "[I 2023-06-06 18:49:17,104] Trial 14 finished with value: 0.09247603267431259 and parameters: {'n_hidden': 2, 'n_units': 101, 'learning_rate': 0.01424765027925242}. Best is trial 14 with value: 0.09247603267431259.\n",
      "WARNING:absl:At this time, the v2.11+ optimizer `tf.keras.optimizers.Adam` runs slowly on M1/M2 Macs, please use the legacy Keras optimizer instead, located at `tf.keras.optimizers.legacy.Adam`.\n",
      "WARNING:absl:There is a known slowdown when using v2.11+ Keras optimizers on M1/M2 Macs. Falling back to the legacy Keras optimizer, i.e., `tf.keras.optimizers.legacy.Adam`.\n",
      "WARNING:absl:At this time, the v2.11+ optimizer `tf.keras.optimizers.Adam` runs slowly on M1/M2 Macs, please use the legacy Keras optimizer instead, located at `tf.keras.optimizers.legacy.Adam`.\n",
      "WARNING:absl:There is a known slowdown when using v2.11+ Keras optimizers on M1/M2 Macs. Falling back to the legacy Keras optimizer, i.e., `tf.keras.optimizers.legacy.Adam`.\n",
      "[I 2023-06-06 18:49:19,242] Trial 18 finished with value: 0.15392319858074188 and parameters: {'n_hidden': 1, 'n_units': 34, 'learning_rate': 0.0037389424825197554}. Best is trial 14 with value: 0.09247603267431259.\n",
      "[I 2023-06-06 18:49:19,275] Trial 17 finished with value: 0.13749800622463226 and parameters: {'n_hidden': 1, 'n_units': 126, 'learning_rate': 0.002557227411760375}. Best is trial 14 with value: 0.09247603267431259.\n",
      "WARNING:absl:At this time, the v2.11+ optimizer `tf.keras.optimizers.Adam` runs slowly on M1/M2 Macs, please use the legacy Keras optimizer instead, located at `tf.keras.optimizers.legacy.Adam`.\n",
      "WARNING:absl:There is a known slowdown when using v2.11+ Keras optimizers on M1/M2 Macs. Falling back to the legacy Keras optimizer, i.e., `tf.keras.optimizers.legacy.Adam`.\n",
      "WARNING:absl:At this time, the v2.11+ optimizer `tf.keras.optimizers.Adam` runs slowly on M1/M2 Macs, please use the legacy Keras optimizer instead, located at `tf.keras.optimizers.legacy.Adam`.\n",
      "WARNING:absl:There is a known slowdown when using v2.11+ Keras optimizers on M1/M2 Macs. Falling back to the legacy Keras optimizer, i.e., `tf.keras.optimizers.legacy.Adam`.\n",
      "[I 2023-06-06 18:49:19,438] Trial 20 finished with value: 0.12387596070766449 and parameters: {'n_hidden': 1, 'n_units': 36, 'learning_rate': 0.022690237492447453}. Best is trial 14 with value: 0.09247603267431259.\n",
      "[I 2023-06-06 18:49:19,514] Trial 16 finished with value: 0.5682973265647888 and parameters: {'n_hidden': 3, 'n_units': 117, 'learning_rate': 0.07716115560654582}. Best is trial 14 with value: 0.09247603267431259.\n",
      "[I 2023-06-06 18:49:19,526] Trial 19 finished with value: 0.126266747713089 and parameters: {'n_hidden': 1, 'n_units': 126, 'learning_rate': 0.002295405080592741}. Best is trial 14 with value: 0.09247603267431259.\n",
      "[I 2023-06-06 18:49:19,526] Trial 21 finished with value: 0.13802990317344666 and parameters: {'n_hidden': 1, 'n_units': 35, 'learning_rate': 0.02277900831401771}. Best is trial 14 with value: 0.09247603267431259.\n",
      "WARNING:absl:At this time, the v2.11+ optimizer `tf.keras.optimizers.Adam` runs slowly on M1/M2 Macs, please use the legacy Keras optimizer instead, located at `tf.keras.optimizers.legacy.Adam`.\n",
      "WARNING:absl:There is a known slowdown when using v2.11+ Keras optimizers on M1/M2 Macs. Falling back to the legacy Keras optimizer, i.e., `tf.keras.optimizers.legacy.Adam`.\n",
      "WARNING:absl:At this time, the v2.11+ optimizer `tf.keras.optimizers.Adam` runs slowly on M1/M2 Macs, please use the legacy Keras optimizer instead, located at `tf.keras.optimizers.legacy.Adam`.\n",
      "WARNING:absl:There is a known slowdown when using v2.11+ Keras optimizers on M1/M2 Macs. Falling back to the legacy Keras optimizer, i.e., `tf.keras.optimizers.legacy.Adam`.\n",
      "WARNING:absl:At this time, the v2.11+ optimizer `tf.keras.optimizers.Adam` runs slowly on M1/M2 Macs, please use the legacy Keras optimizer instead, located at `tf.keras.optimizers.legacy.Adam`.\n",
      "WARNING:absl:There is a known slowdown when using v2.11+ Keras optimizers on M1/M2 Macs. Falling back to the legacy Keras optimizer, i.e., `tf.keras.optimizers.legacy.Adam`.\n",
      "WARNING:absl:At this time, the v2.11+ optimizer `tf.keras.optimizers.Adam` runs slowly on M1/M2 Macs, please use the legacy Keras optimizer instead, located at `tf.keras.optimizers.legacy.Adam`.\n",
      "WARNING:absl:There is a known slowdown when using v2.11+ Keras optimizers on M1/M2 Macs. Falling back to the legacy Keras optimizer, i.e., `tf.keras.optimizers.legacy.Adam`.\n",
      "[I 2023-06-06 18:49:19,990] Trial 22 finished with value: 0.14079086482524872 and parameters: {'n_hidden': 1, 'n_units': 33, 'learning_rate': 0.028053738769454127}. Best is trial 14 with value: 0.09247603267431259.\n",
      "[I 2023-06-06 18:49:20,121] Trial 23 finished with value: 0.13085918128490448 and parameters: {'n_hidden': 1, 'n_units': 127, 'learning_rate': 0.019993936020861285}. Best is trial 14 with value: 0.09247603267431259.\n",
      "WARNING:absl:At this time, the v2.11+ optimizer `tf.keras.optimizers.Adam` runs slowly on M1/M2 Macs, please use the legacy Keras optimizer instead, located at `tf.keras.optimizers.legacy.Adam`.\n",
      "WARNING:absl:There is a known slowdown when using v2.11+ Keras optimizers on M1/M2 Macs. Falling back to the legacy Keras optimizer, i.e., `tf.keras.optimizers.legacy.Adam`.\n",
      "WARNING:absl:At this time, the v2.11+ optimizer `tf.keras.optimizers.Adam` runs slowly on M1/M2 Macs, please use the legacy Keras optimizer instead, located at `tf.keras.optimizers.legacy.Adam`.\n",
      "WARNING:absl:There is a known slowdown when using v2.11+ Keras optimizers on M1/M2 Macs. Falling back to the legacy Keras optimizer, i.e., `tf.keras.optimizers.legacy.Adam`.\n",
      "[I 2023-06-06 18:49:22,502] Trial 24 finished with value: 0.11831072717905045 and parameters: {'n_hidden': 1, 'n_units': 125, 'learning_rate': 0.0204687849409097}. Best is trial 14 with value: 0.09247603267431259.\n",
      "[I 2023-06-06 18:49:22,527] Trial 25 finished with value: 0.1262473165988922 and parameters: {'n_hidden': 1, 'n_units': 96, 'learning_rate': 0.021278473633136032}. Best is trial 14 with value: 0.09247603267431259.\n",
      "[I 2023-06-06 18:49:22,581] Trial 28 finished with value: 0.10258854925632477 and parameters: {'n_hidden': 1, 'n_units': 97, 'learning_rate': 0.01555459973889044}. Best is trial 14 with value: 0.09247603267431259.\n",
      "[I 2023-06-06 18:49:22,582] Trial 26 finished with value: 0.12144359201192856 and parameters: {'n_hidden': 1, 'n_units': 97, 'learning_rate': 0.01839517089220011}. Best is trial 14 with value: 0.09247603267431259.\n",
      "WARNING:absl:At this time, the v2.11+ optimizer `tf.keras.optimizers.Adam` runs slowly on M1/M2 Macs, please use the legacy Keras optimizer instead, located at `tf.keras.optimizers.legacy.Adam`.\n",
      "WARNING:absl:There is a known slowdown when using v2.11+ Keras optimizers on M1/M2 Macs. Falling back to the legacy Keras optimizer, i.e., `tf.keras.optimizers.legacy.Adam`.\n",
      "WARNING:absl:At this time, the v2.11+ optimizer `tf.keras.optimizers.Adam` runs slowly on M1/M2 Macs, please use the legacy Keras optimizer instead, located at `tf.keras.optimizers.legacy.Adam`.\n",
      "WARNING:absl:There is a known slowdown when using v2.11+ Keras optimizers on M1/M2 Macs. Falling back to the legacy Keras optimizer, i.e., `tf.keras.optimizers.legacy.Adam`.\n",
      "WARNING:absl:At this time, the v2.11+ optimizer `tf.keras.optimizers.Adam` runs slowly on M1/M2 Macs, please use the legacy Keras optimizer instead, located at `tf.keras.optimizers.legacy.Adam`.\n",
      "WARNING:absl:At this time, the v2.11+ optimizer `tf.keras.optimizers.Adam` runs slowly on M1/M2 Macs, please use the legacy Keras optimizer instead, located at `tf.keras.optimizers.legacy.Adam`.\n",
      "WARNING:absl:There is a known slowdown when using v2.11+ Keras optimizers on M1/M2 Macs. Falling back to the legacy Keras optimizer, i.e., `tf.keras.optimizers.legacy.Adam`.\n",
      "WARNING:absl:There is a known slowdown when using v2.11+ Keras optimizers on M1/M2 Macs. Falling back to the legacy Keras optimizer, i.e., `tf.keras.optimizers.legacy.Adam`.\n",
      "[I 2023-06-06 18:49:22,828] Trial 27 finished with value: 0.12646153569221497 and parameters: {'n_hidden': 1, 'n_units': 101, 'learning_rate': 0.018756062877686268}. Best is trial 14 with value: 0.09247603267431259.\n",
      "WARNING:absl:At this time, the v2.11+ optimizer `tf.keras.optimizers.Adam` runs slowly on M1/M2 Macs, please use the legacy Keras optimizer instead, located at `tf.keras.optimizers.legacy.Adam`.\n",
      "WARNING:absl:There is a known slowdown when using v2.11+ Keras optimizers on M1/M2 Macs. Falling back to the legacy Keras optimizer, i.e., `tf.keras.optimizers.legacy.Adam`.\n",
      "[I 2023-06-06 18:49:23,238] Trial 30 finished with value: 0.10351231694221497 and parameters: {'n_hidden': 2, 'n_units': 96, 'learning_rate': 0.01617691577202551}. Best is trial 14 with value: 0.09247603267431259.\n",
      "[I 2023-06-06 18:49:23,360] Trial 29 finished with value: 0.13579925894737244 and parameters: {'n_hidden': 1, 'n_units': 99, 'learning_rate': 0.014713319712223907}. Best is trial 14 with value: 0.09247603267431259.\n",
      "WARNING:absl:At this time, the v2.11+ optimizer `tf.keras.optimizers.Adam` runs slowly on M1/M2 Macs, please use the legacy Keras optimizer instead, located at `tf.keras.optimizers.legacy.Adam`.\n",
      "WARNING:absl:There is a known slowdown when using v2.11+ Keras optimizers on M1/M2 Macs. Falling back to the legacy Keras optimizer, i.e., `tf.keras.optimizers.legacy.Adam`.\n",
      "[I 2023-06-06 18:49:23,554] Trial 31 finished with value: 0.1610444039106369 and parameters: {'n_hidden': 2, 'n_units': 97, 'learning_rate': 0.01479056699675068}. Best is trial 14 with value: 0.09247603267431259.\n",
      "WARNING:absl:At this time, the v2.11+ optimizer `tf.keras.optimizers.Adam` runs slowly on M1/M2 Macs, please use the legacy Keras optimizer instead, located at `tf.keras.optimizers.legacy.Adam`.\n",
      "WARNING:absl:There is a known slowdown when using v2.11+ Keras optimizers on M1/M2 Macs. Falling back to the legacy Keras optimizer, i.e., `tf.keras.optimizers.legacy.Adam`.\n",
      "WARNING:absl:At this time, the v2.11+ optimizer `tf.keras.optimizers.Adam` runs slowly on M1/M2 Macs, please use the legacy Keras optimizer instead, located at `tf.keras.optimizers.legacy.Adam`.\n",
      "WARNING:absl:There is a known slowdown when using v2.11+ Keras optimizers on M1/M2 Macs. Falling back to the legacy Keras optimizer, i.e., `tf.keras.optimizers.legacy.Adam`.\n",
      "[I 2023-06-06 18:49:25,730] Trial 35 finished with value: 0.12615609169006348 and parameters: {'n_hidden': 1, 'n_units': 103, 'learning_rate': 0.008923751567313537}. Best is trial 14 with value: 0.09247603267431259.\n",
      "[I 2023-06-06 18:49:25,759] Trial 34 finished with value: 0.10959550738334656 and parameters: {'n_hidden': 1, 'n_units': 102, 'learning_rate': 0.010612404541675034}. Best is trial 14 with value: 0.09247603267431259.\n",
      "[I 2023-06-06 18:49:25,851] Trial 33 finished with value: 0.13139015436172485 and parameters: {'n_hidden': 2, 'n_units': 101, 'learning_rate': 0.011786345051461146}. Best is trial 14 with value: 0.09247603267431259.\n",
      "WARNING:absl:At this time, the v2.11+ optimizer `tf.keras.optimizers.Adam` runs slowly on M1/M2 Macs, please use the legacy Keras optimizer instead, located at `tf.keras.optimizers.legacy.Adam`.\n",
      "[I 2023-06-06 18:49:25,884] Trial 32 finished with value: 0.11849384754896164 and parameters: {'n_hidden': 2, 'n_units': 98, 'learning_rate': 0.012856383105922206}. Best is trial 14 with value: 0.09247603267431259.\n",
      "[I 2023-06-06 18:49:25,885] Trial 36 finished with value: 0.14207693934440613 and parameters: {'n_hidden': 1, 'n_units': 88, 'learning_rate': 0.011428408626756283}. Best is trial 14 with value: 0.09247603267431259.\n",
      "WARNING:absl:There is a known slowdown when using v2.11+ Keras optimizers on M1/M2 Macs. Falling back to the legacy Keras optimizer, i.e., `tf.keras.optimizers.legacy.Adam`.\n",
      "WARNING:absl:At this time, the v2.11+ optimizer `tf.keras.optimizers.Adam` runs slowly on M1/M2 Macs, please use the legacy Keras optimizer instead, located at `tf.keras.optimizers.legacy.Adam`.\n",
      "WARNING:absl:There is a known slowdown when using v2.11+ Keras optimizers on M1/M2 Macs. Falling back to the legacy Keras optimizer, i.e., `tf.keras.optimizers.legacy.Adam`.\n",
      "WARNING:absl:At this time, the v2.11+ optimizer `tf.keras.optimizers.Adam` runs slowly on M1/M2 Macs, please use the legacy Keras optimizer instead, located at `tf.keras.optimizers.legacy.Adam`.\n",
      "WARNING:absl:There is a known slowdown when using v2.11+ Keras optimizers on M1/M2 Macs. Falling back to the legacy Keras optimizer, i.e., `tf.keras.optimizers.legacy.Adam`.\n",
      "WARNING:absl:At this time, the v2.11+ optimizer `tf.keras.optimizers.Adam` runs slowly on M1/M2 Macs, please use the legacy Keras optimizer instead, located at `tf.keras.optimizers.legacy.Adam`.\n",
      "WARNING:absl:There is a known slowdown when using v2.11+ Keras optimizers on M1/M2 Macs. Falling back to the legacy Keras optimizer, i.e., `tf.keras.optimizers.legacy.Adam`.\n",
      "WARNING:absl:At this time, the v2.11+ optimizer `tf.keras.optimizers.Adam` runs slowly on M1/M2 Macs, please use the legacy Keras optimizer instead, located at `tf.keras.optimizers.legacy.Adam`.\n",
      "WARNING:absl:There is a known slowdown when using v2.11+ Keras optimizers on M1/M2 Macs. Falling back to the legacy Keras optimizer, i.e., `tf.keras.optimizers.legacy.Adam`.\n",
      "[I 2023-06-06 18:49:26,421] Trial 37 finished with value: 0.12855704128742218 and parameters: {'n_hidden': 2, 'n_units': 84, 'learning_rate': 0.011285181123920799}. Best is trial 14 with value: 0.09247603267431259.\n",
      "WARNING:absl:At this time, the v2.11+ optimizer `tf.keras.optimizers.Adam` runs slowly on M1/M2 Macs, please use the legacy Keras optimizer instead, located at `tf.keras.optimizers.legacy.Adam`.\n",
      "WARNING:absl:There is a known slowdown when using v2.11+ Keras optimizers on M1/M2 Macs. Falling back to the legacy Keras optimizer, i.e., `tf.keras.optimizers.legacy.Adam`.\n",
      "[I 2023-06-06 18:49:27,128] Trial 38 finished with value: 0.14273414015769958 and parameters: {'n_hidden': 2, 'n_units': 89, 'learning_rate': 0.00925863983956143}. Best is trial 14 with value: 0.09247603267431259.\n",
      "[I 2023-06-06 18:49:27,141] Trial 39 finished with value: 0.11751396209001541 and parameters: {'n_hidden': 2, 'n_units': 87, 'learning_rate': 0.008379882909322216}. Best is trial 14 with value: 0.09247603267431259.\n",
      "WARNING:absl:At this time, the v2.11+ optimizer `tf.keras.optimizers.Adam` runs slowly on M1/M2 Macs, please use the legacy Keras optimizer instead, located at `tf.keras.optimizers.legacy.Adam`.\n",
      "WARNING:absl:There is a known slowdown when using v2.11+ Keras optimizers on M1/M2 Macs. Falling back to the legacy Keras optimizer, i.e., `tf.keras.optimizers.legacy.Adam`.\n",
      "WARNING:absl:At this time, the v2.11+ optimizer `tf.keras.optimizers.Adam` runs slowly on M1/M2 Macs, please use the legacy Keras optimizer instead, located at `tf.keras.optimizers.legacy.Adam`.\n",
      "WARNING:absl:There is a known slowdown when using v2.11+ Keras optimizers on M1/M2 Macs. Falling back to the legacy Keras optimizer, i.e., `tf.keras.optimizers.legacy.Adam`.\n",
      "[I 2023-06-06 18:49:29,055] Trial 41 finished with value: 0.11705450713634491 and parameters: {'n_hidden': 2, 'n_units': 89, 'learning_rate': 0.009874639381314072}. Best is trial 14 with value: 0.09247603267431259.\n",
      "WARNING:absl:At this time, the v2.11+ optimizer `tf.keras.optimizers.Adam` runs slowly on M1/M2 Macs, please use the legacy Keras optimizer instead, located at `tf.keras.optimizers.legacy.Adam`.\n",
      "[I 2023-06-06 18:49:29,183] Trial 43 finished with value: 0.17472481727600098 and parameters: {'n_hidden': 2, 'n_units': 117, 'learning_rate': 0.0003867216798147787}. Best is trial 14 with value: 0.09247603267431259.\n",
      "WARNING:absl:There is a known slowdown when using v2.11+ Keras optimizers on M1/M2 Macs. Falling back to the legacy Keras optimizer, i.e., `tf.keras.optimizers.legacy.Adam`.\n",
      "[I 2023-06-06 18:49:29,313] Trial 44 finished with value: 0.23332726955413818 and parameters: {'n_hidden': 2, 'n_units': 116, 'learning_rate': 0.027297911793751725}. Best is trial 14 with value: 0.09247603267431259.\n",
      "WARNING:absl:At this time, the v2.11+ optimizer `tf.keras.optimizers.Adam` runs slowly on M1/M2 Macs, please use the legacy Keras optimizer instead, located at `tf.keras.optimizers.legacy.Adam`.\n",
      "WARNING:absl:There is a known slowdown when using v2.11+ Keras optimizers on M1/M2 Macs. Falling back to the legacy Keras optimizer, i.e., `tf.keras.optimizers.legacy.Adam`.\n",
      "[I 2023-06-06 18:49:29,408] Trial 42 finished with value: 3.8574771881103516 and parameters: {'n_hidden': 2, 'n_units': 117, 'learning_rate': 2.29782195061614e-05}. Best is trial 14 with value: 0.09247603267431259.\n",
      "WARNING:absl:At this time, the v2.11+ optimizer `tf.keras.optimizers.Adam` runs slowly on M1/M2 Macs, please use the legacy Keras optimizer instead, located at `tf.keras.optimizers.legacy.Adam`.\n",
      "WARNING:absl:There is a known slowdown when using v2.11+ Keras optimizers on M1/M2 Macs. Falling back to the legacy Keras optimizer, i.e., `tf.keras.optimizers.legacy.Adam`.\n",
      "WARNING:absl:At this time, the v2.11+ optimizer `tf.keras.optimizers.Adam` runs slowly on M1/M2 Macs, please use the legacy Keras optimizer instead, located at `tf.keras.optimizers.legacy.Adam`.\n",
      "WARNING:absl:There is a known slowdown when using v2.11+ Keras optimizers on M1/M2 Macs. Falling back to the legacy Keras optimizer, i.e., `tf.keras.optimizers.legacy.Adam`.\n",
      "[I 2023-06-06 18:49:29,757] Trial 40 finished with value: 0.11549805849790573 and parameters: {'n_hidden': 2, 'n_units': 116, 'learning_rate': 0.010129133148618106}. Best is trial 14 with value: 0.09247603267431259.\n",
      "[I 2023-06-06 18:49:29,799] Trial 45 finished with value: 0.15244822204113007 and parameters: {'n_hidden': 2, 'n_units': 116, 'learning_rate': 0.0005596373694064915}. Best is trial 14 with value: 0.09247603267431259.\n",
      "WARNING:absl:At this time, the v2.11+ optimizer `tf.keras.optimizers.Adam` runs slowly on M1/M2 Macs, please use the legacy Keras optimizer instead, located at `tf.keras.optimizers.legacy.Adam`.\n",
      "WARNING:absl:At this time, the v2.11+ optimizer `tf.keras.optimizers.Adam` runs slowly on M1/M2 Macs, please use the legacy Keras optimizer instead, located at `tf.keras.optimizers.legacy.Adam`.\n",
      "WARNING:absl:There is a known slowdown when using v2.11+ Keras optimizers on M1/M2 Macs. Falling back to the legacy Keras optimizer, i.e., `tf.keras.optimizers.legacy.Adam`.\n",
      "WARNING:absl:There is a known slowdown when using v2.11+ Keras optimizers on M1/M2 Macs. Falling back to the legacy Keras optimizer, i.e., `tf.keras.optimizers.legacy.Adam`.\n",
      "[I 2023-06-06 18:49:30,478] Trial 46 finished with value: 0.1454218178987503 and parameters: {'n_hidden': 3, 'n_units': 116, 'learning_rate': 0.027985902767366913}. Best is trial 14 with value: 0.09247603267431259.\n",
      "[I 2023-06-06 18:49:30,538] Trial 47 finished with value: 0.13668519258499146 and parameters: {'n_hidden': 3, 'n_units': 114, 'learning_rate': 0.028680948531431744}. Best is trial 14 with value: 0.09247603267431259.\n",
      "WARNING:absl:At this time, the v2.11+ optimizer `tf.keras.optimizers.Adam` runs slowly on M1/M2 Macs, please use the legacy Keras optimizer instead, located at `tf.keras.optimizers.legacy.Adam`.\n",
      "WARNING:absl:At this time, the v2.11+ optimizer `tf.keras.optimizers.Adam` runs slowly on M1/M2 Macs, please use the legacy Keras optimizer instead, located at `tf.keras.optimizers.legacy.Adam`.\n",
      "WARNING:absl:There is a known slowdown when using v2.11+ Keras optimizers on M1/M2 Macs. Falling back to the legacy Keras optimizer, i.e., `tf.keras.optimizers.legacy.Adam`.\n",
      "WARNING:absl:There is a known slowdown when using v2.11+ Keras optimizers on M1/M2 Macs. Falling back to the legacy Keras optimizer, i.e., `tf.keras.optimizers.legacy.Adam`.\n",
      "[I 2023-06-06 18:49:32,437] Trial 48 finished with value: 0.20672070980072021 and parameters: {'n_hidden': 3, 'n_units': 113, 'learning_rate': 0.0016293157092683464}. Best is trial 14 with value: 0.09247603267431259.\n",
      "[I 2023-06-06 18:49:32,437] Trial 49 finished with value: 0.18832893669605255 and parameters: {'n_hidden': 3, 'n_units': 109, 'learning_rate': 0.032871977287664465}. Best is trial 14 with value: 0.09247603267431259.\n",
      "WARNING:absl:At this time, the v2.11+ optimizer `tf.keras.optimizers.Adam` runs slowly on M1/M2 Macs, please use the legacy Keras optimizer instead, located at `tf.keras.optimizers.legacy.Adam`.\n",
      "[I 2023-06-06 18:49:32,570] Trial 50 finished with value: 0.22959759831428528 and parameters: {'n_hidden': 3, 'n_units': 109, 'learning_rate': 0.03441496626666572}. Best is trial 14 with value: 0.09247603267431259.\n",
      "WARNING:absl:At this time, the v2.11+ optimizer `tf.keras.optimizers.Adam` runs slowly on M1/M2 Macs, please use the legacy Keras optimizer instead, located at `tf.keras.optimizers.legacy.Adam`.\n",
      "WARNING:absl:There is a known slowdown when using v2.11+ Keras optimizers on M1/M2 Macs. Falling back to the legacy Keras optimizer, i.e., `tf.keras.optimizers.legacy.Adam`.\n",
      "WARNING:absl:There is a known slowdown when using v2.11+ Keras optimizers on M1/M2 Macs. Falling back to the legacy Keras optimizer, i.e., `tf.keras.optimizers.legacy.Adam`.\n",
      "[I 2023-06-06 18:49:32,650] Trial 51 finished with value: 0.5819512605667114 and parameters: {'n_hidden': 3, 'n_units': 107, 'learning_rate': 0.0346131695754385}. Best is trial 14 with value: 0.09247603267431259.\n",
      "WARNING:absl:At this time, the v2.11+ optimizer `tf.keras.optimizers.Adam` runs slowly on M1/M2 Macs, please use the legacy Keras optimizer instead, located at `tf.keras.optimizers.legacy.Adam`.\n",
      "WARNING:absl:There is a known slowdown when using v2.11+ Keras optimizers on M1/M2 Macs. Falling back to the legacy Keras optimizer, i.e., `tf.keras.optimizers.legacy.Adam`.\n",
      "WARNING:absl:At this time, the v2.11+ optimizer `tf.keras.optimizers.Adam` runs slowly on M1/M2 Macs, please use the legacy Keras optimizer instead, located at `tf.keras.optimizers.legacy.Adam`.\n",
      "WARNING:absl:There is a known slowdown when using v2.11+ Keras optimizers on M1/M2 Macs. Falling back to the legacy Keras optimizer, i.e., `tf.keras.optimizers.legacy.Adam`.\n",
      "[I 2023-06-06 18:49:33,091] Trial 52 finished with value: 0.14878208935260773 and parameters: {'n_hidden': 3, 'n_units': 108, 'learning_rate': 0.0347946824180143}. Best is trial 14 with value: 0.09247603267431259.\n",
      "[I 2023-06-06 18:49:33,420] Trial 53 finished with value: 0.1704348772764206 and parameters: {'n_hidden': 3, 'n_units': 108, 'learning_rate': 0.03257549881392792}. Best is trial 14 with value: 0.09247603267431259.\n",
      "[I 2023-06-06 18:49:33,554] Trial 55 finished with value: 0.12320263683795929 and parameters: {'n_hidden': 1, 'n_units': 107, 'learning_rate': 0.0337751334509908}. Best is trial 14 with value: 0.09247603267431259.\n",
      "WARNING:absl:At this time, the v2.11+ optimizer `tf.keras.optimizers.Adam` runs slowly on M1/M2 Macs, please use the legacy Keras optimizer instead, located at `tf.keras.optimizers.legacy.Adam`.\n",
      "WARNING:absl:There is a known slowdown when using v2.11+ Keras optimizers on M1/M2 Macs. Falling back to the legacy Keras optimizer, i.e., `tf.keras.optimizers.legacy.Adam`.\n",
      "WARNING:absl:At this time, the v2.11+ optimizer `tf.keras.optimizers.Adam` runs slowly on M1/M2 Macs, please use the legacy Keras optimizer instead, located at `tf.keras.optimizers.legacy.Adam`.\n",
      "WARNING:absl:There is a known slowdown when using v2.11+ Keras optimizers on M1/M2 Macs. Falling back to the legacy Keras optimizer, i.e., `tf.keras.optimizers.legacy.Adam`.\n",
      "[I 2023-06-06 18:49:33,752] Trial 54 finished with value: 0.13564054667949677 and parameters: {'n_hidden': 3, 'n_units': 108, 'learning_rate': 0.03485881199047545}. Best is trial 14 with value: 0.09247603267431259.\n",
      "WARNING:absl:At this time, the v2.11+ optimizer `tf.keras.optimizers.Adam` runs slowly on M1/M2 Macs, please use the legacy Keras optimizer instead, located at `tf.keras.optimizers.legacy.Adam`.\n",
      "WARNING:absl:There is a known slowdown when using v2.11+ Keras optimizers on M1/M2 Macs. Falling back to the legacy Keras optimizer, i.e., `tf.keras.optimizers.legacy.Adam`.\n",
      "WARNING:absl:At this time, the v2.11+ optimizer `tf.keras.optimizers.Adam` runs slowly on M1/M2 Macs, please use the legacy Keras optimizer instead, located at `tf.keras.optimizers.legacy.Adam`.\n",
      "WARNING:absl:There is a known slowdown when using v2.11+ Keras optimizers on M1/M2 Macs. Falling back to the legacy Keras optimizer, i.e., `tf.keras.optimizers.legacy.Adam`.\n",
      "[I 2023-06-06 18:49:35,546] Trial 56 finished with value: 0.14469373226165771 and parameters: {'n_hidden': 1, 'n_units': 105, 'learning_rate': 0.005714138171616384}. Best is trial 14 with value: 0.09247603267431259.\n",
      "[I 2023-06-06 18:49:35,556] Trial 57 finished with value: 0.11010932922363281 and parameters: {'n_hidden': 1, 'n_units': 106, 'learning_rate': 0.005635902111651596}. Best is trial 14 with value: 0.09247603267431259.\n",
      "[I 2023-06-06 18:49:35,633] Trial 58 finished with value: 0.10803032666444778 and parameters: {'n_hidden': 1, 'n_units': 105, 'learning_rate': 0.0161413715741947}. Best is trial 14 with value: 0.09247603267431259.\n",
      "[I 2023-06-06 18:49:35,651] Trial 59 finished with value: 0.11473499983549118 and parameters: {'n_hidden': 1, 'n_units': 104, 'learning_rate': 0.006755132119254291}. Best is trial 14 with value: 0.09247603267431259.\n",
      "WARNING:absl:At this time, the v2.11+ optimizer `tf.keras.optimizers.Adam` runs slowly on M1/M2 Macs, please use the legacy Keras optimizer instead, located at `tf.keras.optimizers.legacy.Adam`.\n",
      "WARNING:absl:At this time, the v2.11+ optimizer `tf.keras.optimizers.Adam` runs slowly on M1/M2 Macs, please use the legacy Keras optimizer instead, located at `tf.keras.optimizers.legacy.Adam`.\n",
      "WARNING:absl:There is a known slowdown when using v2.11+ Keras optimizers on M1/M2 Macs. Falling back to the legacy Keras optimizer, i.e., `tf.keras.optimizers.legacy.Adam`.\n",
      "WARNING:absl:There is a known slowdown when using v2.11+ Keras optimizers on M1/M2 Macs. Falling back to the legacy Keras optimizer, i.e., `tf.keras.optimizers.legacy.Adam`.\n",
      "WARNING:absl:At this time, the v2.11+ optimizer `tf.keras.optimizers.Adam` runs slowly on M1/M2 Macs, please use the legacy Keras optimizer instead, located at `tf.keras.optimizers.legacy.Adam`.\n",
      "WARNING:absl:At this time, the v2.11+ optimizer `tf.keras.optimizers.Adam` runs slowly on M1/M2 Macs, please use the legacy Keras optimizer instead, located at `tf.keras.optimizers.legacy.Adam`.\n",
      "WARNING:absl:There is a known slowdown when using v2.11+ Keras optimizers on M1/M2 Macs. Falling back to the legacy Keras optimizer, i.e., `tf.keras.optimizers.legacy.Adam`.\n",
      "WARNING:absl:There is a known slowdown when using v2.11+ Keras optimizers on M1/M2 Macs. Falling back to the legacy Keras optimizer, i.e., `tf.keras.optimizers.legacy.Adam`.\n",
      "[I 2023-06-06 18:49:36,259] Trial 61 finished with value: 0.11770497262477875 and parameters: {'n_hidden': 1, 'n_units': 121, 'learning_rate': 0.005112754913253588}. Best is trial 14 with value: 0.09247603267431259.\n",
      "[I 2023-06-06 18:49:36,381] Trial 62 finished with value: 0.1251237839460373 and parameters: {'n_hidden': 2, 'n_units': 93, 'learning_rate': 0.006489431153012941}. Best is trial 14 with value: 0.09247603267431259.\n",
      "WARNING:absl:At this time, the v2.11+ optimizer `tf.keras.optimizers.Adam` runs slowly on M1/M2 Macs, please use the legacy Keras optimizer instead, located at `tf.keras.optimizers.legacy.Adam`.\n",
      "WARNING:absl:There is a known slowdown when using v2.11+ Keras optimizers on M1/M2 Macs. Falling back to the legacy Keras optimizer, i.e., `tf.keras.optimizers.legacy.Adam`.\n",
      "WARNING:absl:At this time, the v2.11+ optimizer `tf.keras.optimizers.Adam` runs slowly on M1/M2 Macs, please use the legacy Keras optimizer instead, located at `tf.keras.optimizers.legacy.Adam`.\n",
      "WARNING:absl:There is a known slowdown when using v2.11+ Keras optimizers on M1/M2 Macs. Falling back to the legacy Keras optimizer, i.e., `tf.keras.optimizers.legacy.Adam`.\n",
      "[I 2023-06-06 18:49:36,769] Trial 63 finished with value: 0.11433053761720657 and parameters: {'n_hidden': 2, 'n_units': 94, 'learning_rate': 0.0075481623200756385}. Best is trial 14 with value: 0.09247603267431259.\n",
      "[I 2023-06-06 18:49:37,032] Trial 60 finished with value: 0.161698579788208 and parameters: {'n_hidden': 1, 'n_units': 94, 'learning_rate': 0.01634093417195384}. Best is trial 14 with value: 0.09247603267431259.\n",
      "WARNING:absl:At this time, the v2.11+ optimizer `tf.keras.optimizers.Adam` runs slowly on M1/M2 Macs, please use the legacy Keras optimizer instead, located at `tf.keras.optimizers.legacy.Adam`.\n",
      "WARNING:absl:There is a known slowdown when using v2.11+ Keras optimizers on M1/M2 Macs. Falling back to the legacy Keras optimizer, i.e., `tf.keras.optimizers.legacy.Adam`.\n",
      "WARNING:absl:At this time, the v2.11+ optimizer `tf.keras.optimizers.Adam` runs slowly on M1/M2 Macs, please use the legacy Keras optimizer instead, located at `tf.keras.optimizers.legacy.Adam`.\n",
      "WARNING:absl:There is a known slowdown when using v2.11+ Keras optimizers on M1/M2 Macs. Falling back to the legacy Keras optimizer, i.e., `tf.keras.optimizers.legacy.Adam`.\n",
      "[I 2023-06-06 18:49:38,473] Trial 65 finished with value: 0.12840889394283295 and parameters: {'n_hidden': 1, 'n_units': 94, 'learning_rate': 0.01678758231279019}. Best is trial 14 with value: 0.09247603267431259.\n",
      "[I 2023-06-06 18:49:38,477] Trial 66 finished with value: 0.14782683551311493 and parameters: {'n_hidden': 1, 'n_units': 93, 'learning_rate': 0.005557080478335723}. Best is trial 14 with value: 0.09247603267431259.\n",
      "[I 2023-06-06 18:49:38,512] Trial 64 finished with value: 0.14380943775177002 and parameters: {'n_hidden': 1, 'n_units': 93, 'learning_rate': 0.005402297130423653}. Best is trial 14 with value: 0.09247603267431259.\n",
      "[I 2023-06-06 18:49:38,513] Trial 67 finished with value: 0.13470321893692017 and parameters: {'n_hidden': 1, 'n_units': 95, 'learning_rate': 0.015813366077247922}. Best is trial 14 with value: 0.09247603267431259.\n",
      "WARNING:absl:At this time, the v2.11+ optimizer `tf.keras.optimizers.Adam` runs slowly on M1/M2 Macs, please use the legacy Keras optimizer instead, located at `tf.keras.optimizers.legacy.Adam`.\n",
      "WARNING:absl:At this time, the v2.11+ optimizer `tf.keras.optimizers.Adam` runs slowly on M1/M2 Macs, please use the legacy Keras optimizer instead, located at `tf.keras.optimizers.legacy.Adam`.\n",
      "WARNING:absl:There is a known slowdown when using v2.11+ Keras optimizers on M1/M2 Macs. Falling back to the legacy Keras optimizer, i.e., `tf.keras.optimizers.legacy.Adam`.\n",
      "WARNING:absl:At this time, the v2.11+ optimizer `tf.keras.optimizers.Adam` runs slowly on M1/M2 Macs, please use the legacy Keras optimizer instead, located at `tf.keras.optimizers.legacy.Adam`.\n",
      "WARNING:absl:There is a known slowdown when using v2.11+ Keras optimizers on M1/M2 Macs. Falling back to the legacy Keras optimizer, i.e., `tf.keras.optimizers.legacy.Adam`.\n",
      "WARNING:absl:There is a known slowdown when using v2.11+ Keras optimizers on M1/M2 Macs. Falling back to the legacy Keras optimizer, i.e., `tf.keras.optimizers.legacy.Adam`.\n",
      "WARNING:absl:At this time, the v2.11+ optimizer `tf.keras.optimizers.Adam` runs slowly on M1/M2 Macs, please use the legacy Keras optimizer instead, located at `tf.keras.optimizers.legacy.Adam`.\n",
      "WARNING:absl:There is a known slowdown when using v2.11+ Keras optimizers on M1/M2 Macs. Falling back to the legacy Keras optimizer, i.e., `tf.keras.optimizers.legacy.Adam`.\n",
      "[I 2023-06-06 18:49:39,530] Trial 69 finished with value: 0.11482766270637512 and parameters: {'n_hidden': 1, 'n_units': 93, 'learning_rate': 0.01372474320644966}. Best is trial 14 with value: 0.09247603267431259.\n",
      "[I 2023-06-06 18:49:39,564] Trial 68 finished with value: 0.11391466110944748 and parameters: {'n_hidden': 1, 'n_units': 94, 'learning_rate': 0.015394856837018757}. Best is trial 14 with value: 0.09247603267431259.\n",
      "WARNING:absl:At this time, the v2.11+ optimizer `tf.keras.optimizers.Adam` runs slowly on M1/M2 Macs, please use the legacy Keras optimizer instead, located at `tf.keras.optimizers.legacy.Adam`.\n",
      "WARNING:absl:At this time, the v2.11+ optimizer `tf.keras.optimizers.Adam` runs slowly on M1/M2 Macs, please use the legacy Keras optimizer instead, located at `tf.keras.optimizers.legacy.Adam`.\n",
      "WARNING:absl:There is a known slowdown when using v2.11+ Keras optimizers on M1/M2 Macs. Falling back to the legacy Keras optimizer, i.e., `tf.keras.optimizers.legacy.Adam`.\n",
      "WARNING:absl:There is a known slowdown when using v2.11+ Keras optimizers on M1/M2 Macs. Falling back to the legacy Keras optimizer, i.e., `tf.keras.optimizers.legacy.Adam`.\n",
      "[I 2023-06-06 18:49:39,844] Trial 70 finished with value: 0.11662079393863678 and parameters: {'n_hidden': 1, 'n_units': 71, 'learning_rate': 0.016238799562860052}. Best is trial 14 with value: 0.09247603267431259.\n",
      "WARNING:absl:At this time, the v2.11+ optimizer `tf.keras.optimizers.Adam` runs slowly on M1/M2 Macs, please use the legacy Keras optimizer instead, located at `tf.keras.optimizers.legacy.Adam`.\n",
      "WARNING:absl:There is a known slowdown when using v2.11+ Keras optimizers on M1/M2 Macs. Falling back to the legacy Keras optimizer, i.e., `tf.keras.optimizers.legacy.Adam`.\n",
      "[I 2023-06-06 18:49:40,229] Trial 71 finished with value: 0.11614888906478882 and parameters: {'n_hidden': 1, 'n_units': 72, 'learning_rate': 0.016574049901190484}. Best is trial 14 with value: 0.09247603267431259.\n",
      "WARNING:absl:At this time, the v2.11+ optimizer `tf.keras.optimizers.Adam` runs slowly on M1/M2 Macs, please use the legacy Keras optimizer instead, located at `tf.keras.optimizers.legacy.Adam`.\n",
      "WARNING:absl:There is a known slowdown when using v2.11+ Keras optimizers on M1/M2 Macs. Falling back to the legacy Keras optimizer, i.e., `tf.keras.optimizers.legacy.Adam`.\n",
      "[I 2023-06-06 18:49:41,494] Trial 73 finished with value: 0.14565132558345795 and parameters: {'n_hidden': 1, 'n_units': 80, 'learning_rate': 0.014847741006290074}. Best is trial 14 with value: 0.09247603267431259.\n",
      "[I 2023-06-06 18:49:41,579] Trial 75 finished with value: 0.12104354053735733 and parameters: {'n_hidden': 1, 'n_units': 83, 'learning_rate': 0.013382769020746269}. Best is trial 14 with value: 0.09247603267431259.\n",
      "[I 2023-06-06 18:49:41,629] Trial 74 finished with value: 0.1517995297908783 and parameters: {'n_hidden': 1, 'n_units': 101, 'learning_rate': 0.01343742800112185}. Best is trial 14 with value: 0.09247603267431259.\n",
      "WARNING:absl:At this time, the v2.11+ optimizer `tf.keras.optimizers.Adam` runs slowly on M1/M2 Macs, please use the legacy Keras optimizer instead, located at `tf.keras.optimizers.legacy.Adam`.\n",
      "WARNING:absl:There is a known slowdown when using v2.11+ Keras optimizers on M1/M2 Macs. Falling back to the legacy Keras optimizer, i.e., `tf.keras.optimizers.legacy.Adam`.\n",
      "WARNING:absl:At this time, the v2.11+ optimizer `tf.keras.optimizers.Adam` runs slowly on M1/M2 Macs, please use the legacy Keras optimizer instead, located at `tf.keras.optimizers.legacy.Adam`.\n",
      "WARNING:absl:There is a known slowdown when using v2.11+ Keras optimizers on M1/M2 Macs. Falling back to the legacy Keras optimizer, i.e., `tf.keras.optimizers.legacy.Adam`.\n",
      "WARNING:absl:At this time, the v2.11+ optimizer `tf.keras.optimizers.Adam` runs slowly on M1/M2 Macs, please use the legacy Keras optimizer instead, located at `tf.keras.optimizers.legacy.Adam`.\n",
      "WARNING:absl:There is a known slowdown when using v2.11+ Keras optimizers on M1/M2 Macs. Falling back to the legacy Keras optimizer, i.e., `tf.keras.optimizers.legacy.Adam`.\n",
      "[I 2023-06-06 18:49:42,181] Trial 72 finished with value: 0.11731275171041489 and parameters: {'n_hidden': 1, 'n_units': 66, 'learning_rate': 0.01597931880702808}. Best is trial 14 with value: 0.09247603267431259.\n",
      "[I 2023-06-06 18:49:42,335] Trial 76 finished with value: 0.15368814766407013 and parameters: {'n_hidden': 1, 'n_units': 82, 'learning_rate': 0.022961887810664623}. Best is trial 14 with value: 0.09247603267431259.\n",
      "WARNING:absl:At this time, the v2.11+ optimizer `tf.keras.optimizers.Adam` runs slowly on M1/M2 Macs, please use the legacy Keras optimizer instead, located at `tf.keras.optimizers.legacy.Adam`.\n",
      "[I 2023-06-06 18:49:42,368] Trial 77 finished with value: 0.12119150906801224 and parameters: {'n_hidden': 1, 'n_units': 68, 'learning_rate': 0.024641103559905703}. Best is trial 14 with value: 0.09247603267431259.\n",
      "WARNING:absl:There is a known slowdown when using v2.11+ Keras optimizers on M1/M2 Macs. Falling back to the legacy Keras optimizer, i.e., `tf.keras.optimizers.legacy.Adam`.\n",
      "WARNING:absl:At this time, the v2.11+ optimizer `tf.keras.optimizers.Adam` runs slowly on M1/M2 Macs, please use the legacy Keras optimizer instead, located at `tf.keras.optimizers.legacy.Adam`.\n",
      "WARNING:absl:There is a known slowdown when using v2.11+ Keras optimizers on M1/M2 Macs. Falling back to the legacy Keras optimizer, i.e., `tf.keras.optimizers.legacy.Adam`.\n",
      "WARNING:absl:At this time, the v2.11+ optimizer `tf.keras.optimizers.Adam` runs slowly on M1/M2 Macs, please use the legacy Keras optimizer instead, located at `tf.keras.optimizers.legacy.Adam`.\n",
      "WARNING:absl:There is a known slowdown when using v2.11+ Keras optimizers on M1/M2 Macs. Falling back to the legacy Keras optimizer, i.e., `tf.keras.optimizers.legacy.Adam`.\n",
      "[I 2023-06-06 18:49:42,804] Trial 78 finished with value: 0.12265077978372574 and parameters: {'n_hidden': 1, 'n_units': 81, 'learning_rate': 0.023027814210184495}. Best is trial 14 with value: 0.09247603267431259.\n",
      "WARNING:absl:At this time, the v2.11+ optimizer `tf.keras.optimizers.Adam` runs slowly on M1/M2 Macs, please use the legacy Keras optimizer instead, located at `tf.keras.optimizers.legacy.Adam`.\n",
      "WARNING:absl:There is a known slowdown when using v2.11+ Keras optimizers on M1/M2 Macs. Falling back to the legacy Keras optimizer, i.e., `tf.keras.optimizers.legacy.Adam`.\n",
      "[I 2023-06-06 18:49:43,123] Trial 79 finished with value: 0.1170821338891983 and parameters: {'n_hidden': 1, 'n_units': 81, 'learning_rate': 0.02382057721135141}. Best is trial 14 with value: 0.09247603267431259.\n",
      "WARNING:absl:At this time, the v2.11+ optimizer `tf.keras.optimizers.Adam` runs slowly on M1/M2 Macs, please use the legacy Keras optimizer instead, located at `tf.keras.optimizers.legacy.Adam`.\n",
      "WARNING:absl:There is a known slowdown when using v2.11+ Keras optimizers on M1/M2 Macs. Falling back to the legacy Keras optimizer, i.e., `tf.keras.optimizers.legacy.Adam`.\n",
      "[I 2023-06-06 18:49:44,387] Trial 80 finished with value: 0.12445830553770065 and parameters: {'n_hidden': 1, 'n_units': 101, 'learning_rate': 0.019555163580846007}. Best is trial 14 with value: 0.09247603267431259.\n",
      "[I 2023-06-06 18:49:44,497] Trial 82 finished with value: 0.12957501411437988 and parameters: {'n_hidden': 1, 'n_units': 121, 'learning_rate': 0.021368338689182732}. Best is trial 14 with value: 0.09247603267431259.\n",
      "WARNING:absl:At this time, the v2.11+ optimizer `tf.keras.optimizers.Adam` runs slowly on M1/M2 Macs, please use the legacy Keras optimizer instead, located at `tf.keras.optimizers.legacy.Adam`.\n",
      "WARNING:absl:There is a known slowdown when using v2.11+ Keras optimizers on M1/M2 Macs. Falling back to the legacy Keras optimizer, i.e., `tf.keras.optimizers.legacy.Adam`.\n",
      "[I 2023-06-06 18:49:44,546] Trial 81 finished with value: 0.1364925354719162 and parameters: {'n_hidden': 1, 'n_units': 101, 'learning_rate': 0.01989732762891096}. Best is trial 14 with value: 0.09247603267431259.\n",
      "WARNING:absl:At this time, the v2.11+ optimizer `tf.keras.optimizers.Adam` runs slowly on M1/M2 Macs, please use the legacy Keras optimizer instead, located at `tf.keras.optimizers.legacy.Adam`.\n",
      "WARNING:absl:At this time, the v2.11+ optimizer `tf.keras.optimizers.Adam` runs slowly on M1/M2 Macs, please use the legacy Keras optimizer instead, located at `tf.keras.optimizers.legacy.Adam`.\n",
      "WARNING:absl:There is a known slowdown when using v2.11+ Keras optimizers on M1/M2 Macs. Falling back to the legacy Keras optimizer, i.e., `tf.keras.optimizers.legacy.Adam`.\n",
      "WARNING:absl:There is a known slowdown when using v2.11+ Keras optimizers on M1/M2 Macs. Falling back to the legacy Keras optimizer, i.e., `tf.keras.optimizers.legacy.Adam`.\n",
      "[I 2023-06-06 18:49:45,069] Trial 85 finished with value: 0.14546096324920654 and parameters: {'n_hidden': 1, 'n_units': 100, 'learning_rate': 0.019699961412398312}. Best is trial 14 with value: 0.09247603267431259.\n",
      "[I 2023-06-06 18:49:45,207] Trial 83 finished with value: 0.10027435421943665 and parameters: {'n_hidden': 1, 'n_units': 100, 'learning_rate': 0.02416923426896072}. Best is trial 14 with value: 0.09247603267431259.\n",
      "[I 2023-06-06 18:49:45,370] Trial 84 finished with value: 0.1520703285932541 and parameters: {'n_hidden': 1, 'n_units': 101, 'learning_rate': 0.02023127782206318}. Best is trial 14 with value: 0.09247603267431259.\n",
      "WARNING:absl:At this time, the v2.11+ optimizer `tf.keras.optimizers.Adam` runs slowly on M1/M2 Macs, please use the legacy Keras optimizer instead, located at `tf.keras.optimizers.legacy.Adam`.\n",
      "WARNING:absl:There is a known slowdown when using v2.11+ Keras optimizers on M1/M2 Macs. Falling back to the legacy Keras optimizer, i.e., `tf.keras.optimizers.legacy.Adam`.\n",
      "WARNING:absl:At this time, the v2.11+ optimizer `tf.keras.optimizers.Adam` runs slowly on M1/M2 Macs, please use the legacy Keras optimizer instead, located at `tf.keras.optimizers.legacy.Adam`.\n",
      "WARNING:absl:At this time, the v2.11+ optimizer `tf.keras.optimizers.Adam` runs slowly on M1/M2 Macs, please use the legacy Keras optimizer instead, located at `tf.keras.optimizers.legacy.Adam`.\n",
      "WARNING:absl:There is a known slowdown when using v2.11+ Keras optimizers on M1/M2 Macs. Falling back to the legacy Keras optimizer, i.e., `tf.keras.optimizers.legacy.Adam`.\n",
      "WARNING:absl:There is a known slowdown when using v2.11+ Keras optimizers on M1/M2 Macs. Falling back to the legacy Keras optimizer, i.e., `tf.keras.optimizers.legacy.Adam`.\n",
      "[I 2023-06-06 18:49:46,344] Trial 86 finished with value: 0.1098366305232048 and parameters: {'n_hidden': 1, 'n_units': 99, 'learning_rate': 0.019268686021062104}. Best is trial 14 with value: 0.09247603267431259.\n",
      "WARNING:absl:At this time, the v2.11+ optimizer `tf.keras.optimizers.Adam` runs slowly on M1/M2 Macs, please use the legacy Keras optimizer instead, located at `tf.keras.optimizers.legacy.Adam`.\n",
      "WARNING:absl:There is a known slowdown when using v2.11+ Keras optimizers on M1/M2 Macs. Falling back to the legacy Keras optimizer, i.e., `tf.keras.optimizers.legacy.Adam`.\n",
      "[I 2023-06-06 18:49:46,721] Trial 87 finished with value: 0.11352474242448807 and parameters: {'n_hidden': 1, 'n_units': 100, 'learning_rate': 0.01918419883358275}. Best is trial 14 with value: 0.09247603267431259.\n",
      "WARNING:absl:At this time, the v2.11+ optimizer `tf.keras.optimizers.Adam` runs slowly on M1/M2 Macs, please use the legacy Keras optimizer instead, located at `tf.keras.optimizers.legacy.Adam`.\n",
      "WARNING:absl:There is a known slowdown when using v2.11+ Keras optimizers on M1/M2 Macs. Falling back to the legacy Keras optimizer, i.e., `tf.keras.optimizers.legacy.Adam`.\n",
      "[I 2023-06-06 18:49:47,975] Trial 88 finished with value: 0.1294373720884323 and parameters: {'n_hidden': 2, 'n_units': 111, 'learning_rate': 0.008713398476202639}. Best is trial 14 with value: 0.09247603267431259.\n",
      "[I 2023-06-06 18:49:48,003] Trial 89 finished with value: 0.10749787092208862 and parameters: {'n_hidden': 2, 'n_units': 99, 'learning_rate': 0.008807682677641985}. Best is trial 14 with value: 0.09247603267431259.\n",
      "[I 2023-06-06 18:49:48,025] Trial 90 finished with value: 0.1120646595954895 and parameters: {'n_hidden': 2, 'n_units': 104, 'learning_rate': 0.0030882521677645693}. Best is trial 14 with value: 0.09247603267431259.\n",
      "WARNING:absl:At this time, the v2.11+ optimizer `tf.keras.optimizers.Adam` runs slowly on M1/M2 Macs, please use the legacy Keras optimizer instead, located at `tf.keras.optimizers.legacy.Adam`.\n",
      "WARNING:absl:There is a known slowdown when using v2.11+ Keras optimizers on M1/M2 Macs. Falling back to the legacy Keras optimizer, i.e., `tf.keras.optimizers.legacy.Adam`.\n",
      "WARNING:absl:At this time, the v2.11+ optimizer `tf.keras.optimizers.Adam` runs slowly on M1/M2 Macs, please use the legacy Keras optimizer instead, located at `tf.keras.optimizers.legacy.Adam`.\n",
      "WARNING:absl:There is a known slowdown when using v2.11+ Keras optimizers on M1/M2 Macs. Falling back to the legacy Keras optimizer, i.e., `tf.keras.optimizers.legacy.Adam`.\n",
      "WARNING:absl:At this time, the v2.11+ optimizer `tf.keras.optimizers.Adam` runs slowly on M1/M2 Macs, please use the legacy Keras optimizer instead, located at `tf.keras.optimizers.legacy.Adam`.\n",
      "WARNING:absl:There is a known slowdown when using v2.11+ Keras optimizers on M1/M2 Macs. Falling back to the legacy Keras optimizer, i.e., `tf.keras.optimizers.legacy.Adam`.\n",
      "[I 2023-06-06 18:49:48,309] Trial 92 finished with value: 0.13103578984737396 and parameters: {'n_hidden': 1, 'n_units': 111, 'learning_rate': 0.011316811627789393}. Best is trial 14 with value: 0.09247603267431259.\n",
      "WARNING:absl:At this time, the v2.11+ optimizer `tf.keras.optimizers.Adam` runs slowly on M1/M2 Macs, please use the legacy Keras optimizer instead, located at `tf.keras.optimizers.legacy.Adam`.\n",
      "[I 2023-06-06 18:49:48,569] Trial 93 finished with value: 0.11422062665224075 and parameters: {'n_hidden': 1, 'n_units': 112, 'learning_rate': 0.01097355970242593}. Best is trial 14 with value: 0.09247603267431259.\n",
      "WARNING:absl:There is a known slowdown when using v2.11+ Keras optimizers on M1/M2 Macs. Falling back to the legacy Keras optimizer, i.e., `tf.keras.optimizers.legacy.Adam`.\n",
      "[I 2023-06-06 18:49:48,920] Trial 91 finished with value: 0.13371703028678894 and parameters: {'n_hidden': 2, 'n_units': 90, 'learning_rate': 0.009625786701510212}. Best is trial 14 with value: 0.09247603267431259.\n",
      "[I 2023-06-06 18:49:49,253] Trial 94 finished with value: 0.1110798716545105 and parameters: {'n_hidden': 1, 'n_units': 111, 'learning_rate': 0.01089304585718361}. Best is trial 14 with value: 0.09247603267431259.\n",
      "[I 2023-06-06 18:49:49,557] Trial 95 finished with value: 0.11075204610824585 and parameters: {'n_hidden': 2, 'n_units': 111, 'learning_rate': 0.011690250497034625}. Best is trial 14 with value: 0.09247603267431259.\n",
      "[I 2023-06-06 18:49:49,889] Trial 96 finished with value: 0.10219892114400864 and parameters: {'n_hidden': 1, 'n_units': 104, 'learning_rate': 0.025825046712967654}. Best is trial 14 with value: 0.09247603267431259.\n",
      "[I 2023-06-06 18:49:49,986] Trial 97 finished with value: 0.11669429391622543 and parameters: {'n_hidden': 2, 'n_units': 105, 'learning_rate': 0.0031625310241259587}. Best is trial 14 with value: 0.09247603267431259.\n",
      "[I 2023-06-06 18:49:50,002] Trial 98 finished with value: 0.10242875665426254 and parameters: {'n_hidden': 2, 'n_units': 98, 'learning_rate': 0.011188361969640254}. Best is trial 14 with value: 0.09247603267431259.\n",
      "[I 2023-06-06 18:49:50,053] Trial 99 finished with value: 0.10168787091970444 and parameters: {'n_hidden': 2, 'n_units': 97, 'learning_rate': 0.011295128390710618}. Best is trial 14 with value: 0.09247603267431259.\n"
     ]
    }
   ],
   "source": [
    "import tensorflow\n",
    "from keras import Sequential\n",
    "from keras.layers import Dense\n",
    "\n",
    "def create_model(trial):\n",
    "\n",
    "    n_hidden = trial.suggest_int('n_hidden', 1, 3)\n",
    "    n_units = trial.suggest_int('n_units', 32, 128)\n",
    "    learn_rate = trial.suggest_float('learning_rate', 1e-5, 1e-1)\n",
    "\n",
    "    model = Sequential()\n",
    "    model.add(Dense(n_units, input_dim=X_train.shape[1], activation='relu'))\n",
    "\n",
    "    for i in range(n_hidden):\n",
    "        model.add(Dense(n_units, activation='relu'))\n",
    "\n",
    "    model.add(Dense(1))\n",
    "    model.compile(loss='mean_squared_error', optimizer=tensorflow.keras.optimizers.Adam(learning_rate=learn_rate),\n",
    "                  metrics=tensorflow.keras.metrics.MeanSquaredError())\n",
    "    return model\n",
    "\n",
    "\n",
    "# objective function to be minimized\n",
    "def objective_fun(trial):\n",
    "\n",
    "    model = create_model(trial)\n",
    "    model.fit(X_train, y_train, epochs=30, batch_size=128, validation_data=(X_valid, y_valid), verbose=False)\n",
    "\n",
    "    error = model.evaluate(X_valid, y_valid, verbose=False)[1]\n",
    "\n",
    "    return error\n",
    "\n",
    "\n",
    "study = optuna.create_study()\n",
    "study.optimize(objective_fun, n_trials=100, n_jobs=-1)"
   ],
   "metadata": {
    "collapsed": false,
    "ExecuteTime": {
     "end_time": "2023-06-06T16:49:50.063551Z",
     "start_time": "2023-06-06T16:49:07.194577Z"
    }
   }
  },
  {
   "cell_type": "code",
   "execution_count": 19,
   "outputs": [
    {
     "name": "stderr",
     "output_type": "stream",
     "text": [
      "WARNING:absl:At this time, the v2.11+ optimizer `tf.keras.optimizers.Adam` runs slowly on M1/M2 Macs, please use the legacy Keras optimizer instead, located at `tf.keras.optimizers.legacy.Adam`.\n",
      "WARNING:absl:There is a known slowdown when using v2.11+ Keras optimizers on M1/M2 Macs. Falling back to the legacy Keras optimizer, i.e., `tf.keras.optimizers.legacy.Adam`.\n"
     ]
    },
    {
     "name": "stdout",
     "output_type": "stream",
     "text": [
      "12/12 [==============================] - 0s 348us/step\n",
      "Root mean squared error = 2.9393\n",
      "R-squared = -17.8740\n"
     ]
    }
   ],
   "source": [
    "model = create_model(study.best_trial)\n",
    "\n",
    "y_pred_test = model.predict(X_test)\n",
    "\n",
    "print('Root mean squared error = %.4f' % np.sqrt(mean_squared_error(y_test, y_pred_test)))\n",
    "print('R-squared = %.4f' % r2_score(y_test, y_pred_test))"
   ],
   "metadata": {
    "collapsed": false,
    "ExecuteTime": {
     "end_time": "2023-06-06T16:49:50.153230Z",
     "start_time": "2023-06-06T16:49:50.059266Z"
    }
   }
  },
  {
   "cell_type": "code",
   "execution_count": 20,
   "outputs": [
    {
     "name": "stdout",
     "output_type": "stream",
     "text": [
      "32/32 [==============================] - 0s 375us/step\n"
     ]
    },
    {
     "data": {
      "text/plain": "array([[0.8809721 ],\n       [0.87001026],\n       [0.8895209 ],\n       ...,\n       [0.89220524],\n       [0.8727819 ],\n       [0.87922364]], dtype=float32)"
     },
     "execution_count": 20,
     "metadata": {},
     "output_type": "execute_result"
    }
   ],
   "source": [
    "y_pred = model.predict(X_to_pred)\n",
    "y_pred = np.power(10, y_pred)\n",
    "y_pred"
   ],
   "metadata": {
    "collapsed": false,
    "ExecuteTime": {
     "end_time": "2023-06-06T16:49:50.198906Z",
     "start_time": "2023-06-06T16:49:50.154071Z"
    }
   }
  },
  {
   "cell_type": "code",
   "execution_count": 20,
   "outputs": [],
   "source": [],
   "metadata": {
    "collapsed": false,
    "ExecuteTime": {
     "end_time": "2023-06-06T16:49:50.200434Z",
     "start_time": "2023-06-06T16:49:50.199274Z"
    }
   }
  }
 ],
 "metadata": {
  "kernelspec": {
   "display_name": "Python 3",
   "language": "python",
   "name": "python3"
  },
  "language_info": {
   "codemirror_mode": {
    "name": "ipython",
    "version": 2
   },
   "file_extension": ".py",
   "mimetype": "text/x-python",
   "name": "python",
   "nbconvert_exporter": "python",
   "pygments_lexer": "ipython2",
   "version": "2.7.6"
  }
 },
 "nbformat": 4,
 "nbformat_minor": 0
}
