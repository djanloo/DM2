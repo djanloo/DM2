{
 "cells": [
  {
   "cell_type": "code",
   "execution_count": 1,
   "metadata": {
    "ExecuteTime": {
     "end_time": "2023-07-05T13:53:04.495809Z",
     "start_time": "2023-07-05T13:53:04.209565Z"
    }
   },
   "outputs": [
    {
     "name": "stdout",
     "output_type": "stream",
     "text": [
      "font sizes set\n"
     ]
    }
   ],
   "source": [
    "import os\n",
    "import re\n",
    "\n",
    "import numpy as np\n",
    "import pandas as pd\n",
    "import matplotlib.pyplot as plt\n",
    "import seaborn as sns; sns.set()\n",
    "\n",
    "from pandas.core.dtypes.common import is_numeric_dtype\n",
    "from sklearn.feature_selection import mutual_info_regression, f_regression, SelectKBest\n",
    "from sklearn.preprocessing import MinMaxScaler\n",
    "\n",
    "%load_ext autoreload\n",
    "%autoreload 2\n",
    "import default_style"
   ]
  },
  {
   "cell_type": "code",
   "execution_count": 2,
   "metadata": {
    "ExecuteTime": {
     "end_time": "2023-07-05T13:53:04.498191Z",
     "start_time": "2023-07-05T13:53:04.496344Z"
    }
   },
   "outputs": [],
   "source": [
    "DATA_FOLDER = 'dataset'\n",
    "IMAGE_FOLDER = 'images'\n",
    "DATASET = os.path.join(DATA_FOLDER, 'outliers_removed.csv')"
   ]
  },
  {
   "cell_type": "code",
   "execution_count": 3,
   "metadata": {
    "ExecuteTime": {
     "end_time": "2023-07-05T13:53:04.589623Z",
     "start_time": "2023-07-05T13:53:04.499693Z"
    }
   },
   "outputs": [
    {
     "data": {
      "text/html": [
       "<div>\n",
       "<style scoped>\n",
       "    .dataframe tbody tr th:only-of-type {\n",
       "        vertical-align: middle;\n",
       "    }\n",
       "\n",
       "    .dataframe tbody tr th {\n",
       "        vertical-align: top;\n",
       "    }\n",
       "\n",
       "    .dataframe thead th {\n",
       "        text-align: right;\n",
       "    }\n",
       "</style>\n",
       "<table border=\"1\" class=\"dataframe\">\n",
       "  <thead>\n",
       "    <tr style=\"text-align: right;\">\n",
       "      <th></th>\n",
       "      <th>frame_count</th>\n",
       "      <th>sum</th>\n",
       "      <th>mean</th>\n",
       "      <th>std</th>\n",
       "      <th>min</th>\n",
       "      <th>max</th>\n",
       "      <th>q01</th>\n",
       "      <th>q05</th>\n",
       "      <th>q25</th>\n",
       "      <th>q75</th>\n",
       "      <th>...</th>\n",
       "      <th>log_lag1_max</th>\n",
       "      <th>log_lag1_q01</th>\n",
       "      <th>log_lag1_q05</th>\n",
       "      <th>log_lag1_q95</th>\n",
       "      <th>log_lag1_q99</th>\n",
       "      <th>log_lag1_kur</th>\n",
       "      <th>log_lag1_kur_w2</th>\n",
       "      <th>log_lag1_kur_w3</th>\n",
       "      <th>log_lag1_min_w4</th>\n",
       "      <th>log_lag1_kur_w4</th>\n",
       "    </tr>\n",
       "  </thead>\n",
       "  <tbody>\n",
       "    <tr>\n",
       "      <th>0</th>\n",
       "      <td>158558</td>\n",
       "      <td>0.145081</td>\n",
       "      <td>9.150000e-07</td>\n",
       "      <td>0.004001</td>\n",
       "      <td>-0.038422</td>\n",
       "      <td>0.040588</td>\n",
       "      <td>-0.012586</td>\n",
       "      <td>-0.005890</td>\n",
       "      <td>-0.000031</td>\n",
       "      <td>0.0</td>\n",
       "      <td>...</td>\n",
       "      <td>-1.737299</td>\n",
       "      <td>-2.791174</td>\n",
       "      <td>-3.285001</td>\n",
       "      <td>-3.285001</td>\n",
       "      <td>-2.767262</td>\n",
       "      <td>1.714222</td>\n",
       "      <td>1.023989</td>\n",
       "      <td>1.340758</td>\n",
       "      <td>-4.214420</td>\n",
       "      <td>0.794669</td>\n",
       "    </tr>\n",
       "    <tr>\n",
       "      <th>1</th>\n",
       "      <td>160160</td>\n",
       "      <td>0.114319</td>\n",
       "      <td>7.137790e-07</td>\n",
       "      <td>0.004283</td>\n",
       "      <td>-0.042603</td>\n",
       "      <td>0.048157</td>\n",
       "      <td>-0.013550</td>\n",
       "      <td>-0.006104</td>\n",
       "      <td>-0.000031</td>\n",
       "      <td>0.0</td>\n",
       "      <td>...</td>\n",
       "      <td>-1.965222</td>\n",
       "      <td>-2.759575</td>\n",
       "      <td>-3.260177</td>\n",
       "      <td>-3.260177</td>\n",
       "      <td>-2.737299</td>\n",
       "      <td>1.624565</td>\n",
       "      <td>1.059026</td>\n",
       "      <td>1.472091</td>\n",
       "      <td>-4.214420</td>\n",
       "      <td>0.970269</td>\n",
       "    </tr>\n",
       "    <tr>\n",
       "      <th>2</th>\n",
       "      <td>156956</td>\n",
       "      <td>0.149963</td>\n",
       "      <td>9.554485e-07</td>\n",
       "      <td>0.005084</td>\n",
       "      <td>-0.037018</td>\n",
       "      <td>0.058472</td>\n",
       "      <td>-0.015822</td>\n",
       "      <td>-0.007294</td>\n",
       "      <td>0.000000</td>\n",
       "      <td>0.0</td>\n",
       "      <td>...</td>\n",
       "      <td>-1.710629</td>\n",
       "      <td>-2.561207</td>\n",
       "      <td>-3.135239</td>\n",
       "      <td>-3.135239</td>\n",
       "      <td>-2.537726</td>\n",
       "      <td>1.736630</td>\n",
       "      <td>1.113757</td>\n",
       "      <td>1.190945</td>\n",
       "      <td>-4.038329</td>\n",
       "      <td>1.027423</td>\n",
       "    </tr>\n",
       "    <tr>\n",
       "      <th>3</th>\n",
       "      <td>152152</td>\n",
       "      <td>0.139618</td>\n",
       "      <td>9.176213e-07</td>\n",
       "      <td>0.004886</td>\n",
       "      <td>-0.036652</td>\n",
       "      <td>0.062683</td>\n",
       "      <td>-0.014923</td>\n",
       "      <td>-0.006714</td>\n",
       "      <td>-0.000031</td>\n",
       "      <td>0.0</td>\n",
       "      <td>...</td>\n",
       "      <td>-1.695906</td>\n",
       "      <td>-2.524224</td>\n",
       "      <td>-3.135239</td>\n",
       "      <td>-3.135239</td>\n",
       "      <td>-2.519815</td>\n",
       "      <td>1.724345</td>\n",
       "      <td>1.085937</td>\n",
       "      <td>1.236662</td>\n",
       "      <td>-4.038329</td>\n",
       "      <td>0.715249</td>\n",
       "    </tr>\n",
       "    <tr>\n",
       "      <th>4</th>\n",
       "      <td>169769</td>\n",
       "      <td>0.137665</td>\n",
       "      <td>8.108948e-07</td>\n",
       "      <td>0.002956</td>\n",
       "      <td>-0.026245</td>\n",
       "      <td>0.026215</td>\n",
       "      <td>-0.009399</td>\n",
       "      <td>-0.004364</td>\n",
       "      <td>-0.000031</td>\n",
       "      <td>0.0</td>\n",
       "      <td>...</td>\n",
       "      <td>-2.176993</td>\n",
       "      <td>-2.902666</td>\n",
       "      <td>-3.401507</td>\n",
       "      <td>-3.401507</td>\n",
       "      <td>-2.871997</td>\n",
       "      <td>1.647124</td>\n",
       "      <td>1.113935</td>\n",
       "      <td>1.345926</td>\n",
       "      <td>-4.214420</td>\n",
       "      <td>0.706650</td>\n",
       "    </tr>\n",
       "  </tbody>\n",
       "</table>\n",
       "<p>5 rows × 243 columns</p>\n",
       "</div>"
      ],
      "text/plain": [
       "   frame_count       sum          mean       std       min       max  \\\n",
       "0       158558  0.145081  9.150000e-07  0.004001 -0.038422  0.040588   \n",
       "1       160160  0.114319  7.137790e-07  0.004283 -0.042603  0.048157   \n",
       "2       156956  0.149963  9.554485e-07  0.005084 -0.037018  0.058472   \n",
       "3       152152  0.139618  9.176213e-07  0.004886 -0.036652  0.062683   \n",
       "4       169769  0.137665  8.108948e-07  0.002956 -0.026245  0.026215   \n",
       "\n",
       "        q01       q05       q25  q75  ...  log_lag1_max  log_lag1_q01  \\\n",
       "0 -0.012586 -0.005890 -0.000031  0.0  ...     -1.737299     -2.791174   \n",
       "1 -0.013550 -0.006104 -0.000031  0.0  ...     -1.965222     -2.759575   \n",
       "2 -0.015822 -0.007294  0.000000  0.0  ...     -1.710629     -2.561207   \n",
       "3 -0.014923 -0.006714 -0.000031  0.0  ...     -1.695906     -2.524224   \n",
       "4 -0.009399 -0.004364 -0.000031  0.0  ...     -2.176993     -2.902666   \n",
       "\n",
       "   log_lag1_q05  log_lag1_q95  log_lag1_q99  log_lag1_kur  log_lag1_kur_w2  \\\n",
       "0     -3.285001     -3.285001     -2.767262      1.714222         1.023989   \n",
       "1     -3.260177     -3.260177     -2.737299      1.624565         1.059026   \n",
       "2     -3.135239     -3.135239     -2.537726      1.736630         1.113757   \n",
       "3     -3.135239     -3.135239     -2.519815      1.724345         1.085937   \n",
       "4     -3.401507     -3.401507     -2.871997      1.647124         1.113935   \n",
       "\n",
       "   log_lag1_kur_w3  log_lag1_min_w4  log_lag1_kur_w4  \n",
       "0         1.340758        -4.214420         0.794669  \n",
       "1         1.472091        -4.214420         0.970269  \n",
       "2         1.190945        -4.038329         1.027423  \n",
       "3         1.236662        -4.038329         0.715249  \n",
       "4         1.345926        -4.214420         0.706650  \n",
       "\n",
       "[5 rows x 243 columns]"
      ]
     },
     "execution_count": 3,
     "metadata": {},
     "output_type": "execute_result"
    }
   ],
   "source": [
    "df = pd.read_csv(DATASET)\n",
    "\n",
    "df.repetition = df.repetition.apply(str)\n",
    "\n",
    "numerical_attr_list = [col for col in df.columns if is_numeric_dtype(df[col])]\n",
    "categorical_attr_list = [col for col in df.columns if not is_numeric_dtype(df[col])]\n",
    "\n",
    "# one hot encoding\n",
    "df_reg = df.drop(columns=categorical_attr_list)\n",
    "# df_reg = df_reg.join(pd.get_dummies(df[categorical_attr_list], columns=categorical_attr_list).astype(int))\n",
    "\n",
    "df_reg.head()"
   ]
  },
  {
   "cell_type": "code",
   "execution_count": 4,
   "metadata": {
    "ExecuteTime": {
     "end_time": "2023-07-05T13:53:04.594187Z",
     "start_time": "2023-07-05T13:53:04.591205Z"
    }
   },
   "outputs": [
    {
     "data": {
      "text/plain": [
       "stft_min    False\n",
       "sc_min      False\n",
       "dtype: bool"
      ]
     },
     "execution_count": 4,
     "metadata": {},
     "output_type": "execute_result"
    }
   ],
   "source": [
    "features_to_correct = ['stft_min', 'sc_min']\n",
    "(df[features_to_correct] < 0).any()"
   ]
  },
  {
   "cell_type": "markdown",
   "metadata": {},
   "source": [
    "# stft_min"
   ]
  },
  {
   "cell_type": "code",
   "execution_count": 5,
   "metadata": {
    "ExecuteTime": {
     "end_time": "2023-07-05T13:53:04.600391Z",
     "start_time": "2023-07-05T13:53:04.595004Z"
    }
   },
   "outputs": [
    {
     "data": {
      "text/plain": [
       "['mfcc_q50',\n",
       " 'sc_q01',\n",
       " 'sc_q05',\n",
       " 'stft_q01',\n",
       " 'stft_q05',\n",
       " 'mfcc_q25_w1',\n",
       " 'mfcc_q50_w1',\n",
       " 'sc_q01_w1',\n",
       " 'sc_q05_w1',\n",
       " 'sc_q25_w1',\n",
       " 'stft_q01_w1',\n",
       " 'stft_q05_w1',\n",
       " 'q50_w2',\n",
       " 'q50_w3',\n",
       " 'lag1_q50_w3',\n",
       " 'q75_w4',\n",
       " 'sc_min']"
      ]
     },
     "execution_count": 5,
     "metadata": {},
     "output_type": "execute_result"
    }
   ],
   "source": [
    "TARGET = 'stft_min'\n",
    "\n",
    "# drop quantile columns with high percentage of zeros (20%)\n",
    "zero_percentage = (df_reg == 0).mean()\n",
    "to_drop = [col for col in df_reg.columns if zero_percentage[col] > 0.2 and re.search(r'q\\d{2}', col)]\n",
    "to_drop.append('sc_min')\n",
    "df_reg = df_reg.drop(columns=to_drop)\n",
    "to_drop"
   ]
  },
  {
   "cell_type": "code",
   "execution_count": 6,
   "metadata": {
    "ExecuteTime": {
     "end_time": "2023-07-05T13:53:04.966099Z",
     "start_time": "2023-07-05T13:53:04.602562Z"
    }
   },
   "outputs": [
    {
     "data": {
      "image/png": "[encoded data removed]",
      "text/plain": [
       "<Figure size 354.331x236.22 with 1 Axes>"
      ]
     },
     "metadata": {},
     "output_type": "display_data"
    }
   ],
   "source": [
    "sns.histplot(data=df, x=df[TARGET])\n",
    "plt.xlabel(f'{TARGET}')\n",
    "plt.ylabel('Count')\n",
    "plt.title(f'Distribution of {TARGET}')\n",
    "plt.savefig(os.path.join(IMAGE_FOLDER, 'initial_stft_min_distr.pdf'), format='pdf')\n",
    "plt.show()"
   ]
  },
  {
   "cell_type": "code",
   "execution_count": 20,
   "metadata": {
    "ExecuteTime": {
     "end_time": "2023-07-05T13:53:05.069570Z",
     "start_time": "2023-07-05T13:53:04.968489Z"
    }
   },
   "outputs": [
    {
     "name": "stdout",
     "output_type": "stream",
     "text": [
      "(1135, 225)\n",
      "(284, 225)\n",
      "(1135,)\n",
      "(284,)\n"
     ]
    }
   ],
   "source": [
    "from sklearn.model_selection import train_test_split\n",
    "\n",
    "# Take all numerical attributes except for TARGET\n",
    "df_target_excluded = df_reg[list(set([col for col in df_reg.columns if is_numeric_dtype(df_reg[col])]) - set([TARGET]))]\n",
    "X = df_target_excluded.values\n",
    "y = df[TARGET].values\n",
    "\n",
    "# identifies bad rows, the ones han=ving a null TARGET\n",
    "bad_kids = (y==0)\n",
    "\n",
    "# Extracts bad rows\n",
    "X_to_predict = X[bad_kids]\n",
    "\n",
    "# Takes good ones\n",
    "X_non_zero = X[~bad_kids]\n",
    "y_non_zero = y[~bad_kids]\n",
    "\n",
    "# Transforms to log scale the good ones\n",
    "# So bad ones wll be predicted already in log scale\n",
    "y_non_zero = np.log10(y_non_zero)\n",
    "\n",
    "# Defines a train and validation set\n",
    "X_train, X_val, y_train, y_val = train_test_split(X_non_zero, y_non_zero, test_size=0.2)\n",
    "\n",
    "for _ in [X_train, X_val, y_train, y_val]:\n",
    "    print(_.shape)"
   ]
  },
  {
   "cell_type": "code",
   "execution_count": 21,
   "metadata": {
    "ExecuteTime": {
     "end_time": "2023-07-05T13:53:05.591651Z",
     "start_time": "2023-07-05T13:53:05.068701Z"
    }
   },
   "outputs": [
    {
     "name": "stdout",
     "output_type": "stream",
     "text": [
      "invalid literal for int() with base 10: 'd'\n",
      "invalid literal for int() with base 10: 'n'\n"
     ]
    },
    {
     "data": {
      "image/png": "[encoded data removed]",
      "text/plain": [
       "<Figure size 708.661x157.48 with 1 Axes>"
      ]
     },
     "metadata": {},
     "output_type": "display_data"
    }
   ],
   "source": [
    "f_selector = SelectKBest(score_func=f_regression, k='all')\n",
    "f_selector.fit(X_train, y_train)\n",
    "\n",
    "\n",
    "M = 15\n",
    "best_features = np.flip(np.argsort(f_selector.scores_)[-M:])\n",
    "\n",
    "# ADD somo colors bitches\n",
    "colors = [\"gray\"]\n",
    "colors += sns.color_palette(\"Spectral\", n_colors=3) #[\"gray\", \"b\", \"r\", \"g\", \"orange\"]\n",
    "bar_colors = []\n",
    "for col in df_target_excluded.columns[best_features]:\n",
    "    try:\n",
    "        window = col.split(\"_\")[-1]\n",
    "        window = int(window[-1])        \n",
    "    except ValueError as e:\n",
    "        print(e)\n",
    "        window = 0\n",
    "    if window <= 4:\n",
    "        bar_colors.append(colors[window])\n",
    "    else:\n",
    "        bar_colors.append(colors[0])\n",
    "\n",
    "# Do the barplot\n",
    "\n",
    "plt.figure(figsize=default_style.BAND_FULLSIZE_FIGURE)\n",
    "plt.bar(range(M), f_selector.scores_[best_features], color=bar_colors, width=0.5)\n",
    "plt.xticks([])\n",
    "plt.ylabel('Score')\n",
    "\n",
    "# Plot the names \n",
    "for i, kid in enumerate(best_features):\n",
    "    if kid < len(df_target_excluded.columns):\n",
    "        plt.annotate(df_target_excluded.columns[kid], (i-0.5, 120), rotation=90, ha=\"center\", fontsize=9)\n",
    "    else:\n",
    "        print(f\"kid {kid} was over range\")\n",
    "\n",
    "plt.savefig(os.path.join(IMAGE_FOLDER, 'kbest_features_stft_min.pdf'), format='pdf')\n",
    "plt.show()"
   ]
  },
  {
   "cell_type": "code",
   "execution_count": 22,
   "metadata": {
    "ExecuteTime": {
     "end_time": "2023-07-05T13:53:05.603503Z",
     "start_time": "2023-07-05T13:53:05.592511Z"
    }
   },
   "outputs": [],
   "source": [
    "f_selector = SelectKBest(score_func=f_regression, k=30)\n",
    "f_selector.fit(X_train, y_train)\n",
    "\n",
    "X_train_reduced = f_selector.transform(X_train)\n",
    "X_val_reduced = f_selector.transform(X_val)\n",
    "X_to_predict_reduced = f_selector.transform(X_to_predict)\n",
    "\n",
    "# selected columns\n",
    "selected_indices = f_selector.get_support(indices=True)\n",
    "# df_nz.drop(columns=[TARGET]).iloc[:, selected_indices].columns"
   ]
  },
  {
   "cell_type": "markdown",
   "metadata": {},
   "source": [
    "## Now add back the categorical attributes"
   ]
  },
  {
   "cell_type": "code",
   "execution_count": 25,
   "metadata": {},
   "outputs": [
    {
     "data": {
      "text/html": [
       "<div>\n",
       "<style scoped>\n",
       "    .dataframe tbody tr th:only-of-type {\n",
       "        vertical-align: middle;\n",
       "    }\n",
       "\n",
       "    .dataframe tbody tr th {\n",
       "        vertical-align: top;\n",
       "    }\n",
       "\n",
       "    .dataframe thead th {\n",
       "        text-align: right;\n",
       "    }\n",
       "</style>\n",
       "<table border=\"1\" class=\"dataframe\">\n",
       "  <thead>\n",
       "    <tr style=\"text-align: right;\">\n",
       "      <th></th>\n",
       "      <th>vocal_channel</th>\n",
       "      <th>emotion</th>\n",
       "      <th>emotional_intensity</th>\n",
       "      <th>statement</th>\n",
       "      <th>repetition</th>\n",
       "      <th>actor</th>\n",
       "      <th>sex</th>\n",
       "    </tr>\n",
       "  </thead>\n",
       "  <tbody>\n",
       "    <tr>\n",
       "      <th>0</th>\n",
       "      <td>6</td>\n",
       "      <td>6</td>\n",
       "      <td>6</td>\n",
       "      <td>6</td>\n",
       "      <td>6</td>\n",
       "      <td>6</td>\n",
       "      <td>6</td>\n",
       "    </tr>\n",
       "    <tr>\n",
       "      <th>1</th>\n",
       "      <td>1</td>\n",
       "      <td>1</td>\n",
       "      <td>1</td>\n",
       "      <td>1</td>\n",
       "      <td>1</td>\n",
       "      <td>1</td>\n",
       "      <td>1</td>\n",
       "    </tr>\n",
       "    <tr>\n",
       "      <th>2</th>\n",
       "      <td>2</td>\n",
       "      <td>2</td>\n",
       "      <td>2</td>\n",
       "      <td>2</td>\n",
       "      <td>2</td>\n",
       "      <td>2</td>\n",
       "      <td>2</td>\n",
       "    </tr>\n",
       "    <tr>\n",
       "      <th>3</th>\n",
       "      <td>5</td>\n",
       "      <td>5</td>\n",
       "      <td>5</td>\n",
       "      <td>5</td>\n",
       "      <td>5</td>\n",
       "      <td>5</td>\n",
       "      <td>5</td>\n",
       "    </tr>\n",
       "    <tr>\n",
       "      <th>4</th>\n",
       "      <td>3</td>\n",
       "      <td>3</td>\n",
       "      <td>3</td>\n",
       "      <td>3</td>\n",
       "      <td>3</td>\n",
       "      <td>3</td>\n",
       "      <td>3</td>\n",
       "    </tr>\n",
       "    <tr>\n",
       "      <th>5</th>\n",
       "      <td>0</td>\n",
       "      <td>0</td>\n",
       "      <td>0</td>\n",
       "      <td>0</td>\n",
       "      <td>0</td>\n",
       "      <td>0</td>\n",
       "      <td>0</td>\n",
       "    </tr>\n",
       "    <tr>\n",
       "      <th>6</th>\n",
       "      <td>4</td>\n",
       "      <td>4</td>\n",
       "      <td>4</td>\n",
       "      <td>4</td>\n",
       "      <td>4</td>\n",
       "      <td>4</td>\n",
       "      <td>4</td>\n",
       "    </tr>\n",
       "  </tbody>\n",
       "</table>\n",
       "</div>"
      ],
      "text/plain": [
       "   vocal_channel  emotion  emotional_intensity  statement  repetition  actor  \\\n",
       "0              6        6                    6          6           6      6   \n",
       "1              1        1                    1          1           1      1   \n",
       "2              2        2                    2          2           2      2   \n",
       "3              5        5                    5          5           5      5   \n",
       "4              3        3                    3          3           3      3   \n",
       "5              0        0                    0          0           0      0   \n",
       "6              4        4                    4          4           4      4   \n",
       "\n",
       "   sex  \n",
       "0    6  \n",
       "1    1  \n",
       "2    2  \n",
       "3    5  \n",
       "4    3  \n",
       "5    0  \n",
       "6    4  "
      ]
     },
     "execution_count": 25,
     "metadata": {},
     "output_type": "execute_result"
    }
   ],
   "source": [
    "df_categories = pd.DataFrame()\n",
    "for cat in categorical_attr_list:\n",
    "    df_categories[cat] = pd.Categorical(df[categorical_attr_list]).codes\n",
    "\n"
   ]
  },
  {
   "cell_type": "markdown",
   "metadata": {},
   "source": [
    "## XGBoost"
   ]
  },
  {
   "cell_type": "code",
   "execution_count": 10,
   "metadata": {
    "ExecuteTime": {
     "end_time": "2023-07-05T13:54:44.070071Z",
     "start_time": "2023-07-05T13:53:05.612422Z"
    }
   },
   "outputs": [
    {
     "name": "stderr",
     "output_type": "stream",
     "text": [
      "[I 2023-07-12 16:45:13,385] A new study created in memory with name: no-name-35d09a16-8083-427d-9694-995c3b07da5d\n",
      "[I 2023-07-12 16:45:16,919] Trial 1 finished with value: 0.06570793189944743 and parameters: {'booster': 'gbtree', 'gamma': 1.4113822469485964, 'max_depth': 9, 'min_child_weight': 2, 'subsample': 0.7705851093468765}. Best is trial 1 with value: 0.06570793189944743.\n",
      "[I 2023-07-12 16:45:19,211] Trial 3 finished with value: 0.0708833450970573 and parameters: {'booster': 'dart', 'gamma': 2.535622732402074, 'max_depth': 9, 'min_child_weight': 1, 'subsample': 0.6835097918400873}. Best is trial 1 with value: 0.06570793189944743.\n",
      "[I 2023-07-12 16:45:20,103] Trial 2 finished with value: 0.06355415937128778 and parameters: {'booster': 'gbtree', 'gamma': 1.4808130547832015, 'max_depth': 20, 'min_child_weight': 3, 'subsample': 0.8004329246461919}. Best is trial 2 with value: 0.06355415937128778.\n",
      "[I 2023-07-12 16:45:21,683] Trial 4 finished with value: 0.06726065803710117 and parameters: {'booster': 'gbtree', 'gamma': 2.11960565784917, 'max_depth': 17, 'min_child_weight': 3, 'subsample': 0.6030113233481331}. Best is trial 2 with value: 0.06355415937128778.\n",
      "[I 2023-07-12 16:45:22,344] Trial 0 finished with value: 0.06517955770512765 and parameters: {'booster': 'dart', 'gamma': 0.4130831000979768, 'max_depth': 12, 'min_child_weight': 1, 'subsample': 0.848749552386568}. Best is trial 2 with value: 0.06355415937128778.\n",
      "[I 2023-07-12 16:45:23,010] Trial 5 finished with value: 0.07626283364215079 and parameters: {'booster': 'dart', 'gamma': 4.72184331921345, 'max_depth': 4, 'min_child_weight': 1, 'subsample': 0.5248855812816036}. Best is trial 2 with value: 0.06355415937128778.\n",
      "[I 2023-07-12 16:45:24,603] Trial 6 finished with value: 0.06280725572495623 and parameters: {'booster': 'dart', 'gamma': 0.9004556236009215, 'max_depth': 4, 'min_child_weight': 1, 'subsample': 0.940725273091561}. Best is trial 6 with value: 0.06280725572495623.\n",
      "[I 2023-07-12 16:45:26,129] Trial 9 finished with value: 0.07336615762292349 and parameters: {'booster': 'dart', 'gamma': 4.707234444417608, 'max_depth': 5, 'min_child_weight': 1, 'subsample': 0.431281617122893}. Best is trial 6 with value: 0.06280725572495623.\n",
      "[I 2023-07-12 16:45:26,674] Trial 7 finished with value: 0.06713437360118364 and parameters: {'booster': 'gbtree', 'gamma': 0.6801786088908318, 'max_depth': 16, 'min_child_weight': 3, 'subsample': 0.6735214694640299}. Best is trial 6 with value: 0.06280725572495623.\n",
      "[I 2023-07-12 16:45:29,555] Trial 10 finished with value: 0.06692937232197893 and parameters: {'booster': 'gbtree', 'gamma': 2.2726543011958062, 'max_depth': 10, 'min_child_weight': 1, 'subsample': 0.6654842819945737}. Best is trial 6 with value: 0.06280725572495623.\n",
      "[I 2023-07-12 16:45:29,712] Trial 8 finished with value: 0.07478175023681685 and parameters: {'booster': 'gbtree', 'gamma': 4.750769516310794, 'max_depth': 15, 'min_child_weight': 2, 'subsample': 0.8688957846010625}. Best is trial 6 with value: 0.06280725572495623.\n",
      "[I 2023-07-12 16:45:30,206] Trial 12 finished with value: 0.0712093996757478 and parameters: {'booster': 'gbtree', 'gamma': 1.1697861439663044, 'max_depth': 11, 'min_child_weight': 2, 'subsample': 0.7416410590686262}. Best is trial 6 with value: 0.06280725572495623.\n",
      "[I 2023-07-12 16:45:33,513] Trial 11 finished with value: 0.07496847959291886 and parameters: {'booster': 'gbtree', 'gamma': 3.067514394611963, 'max_depth': 20, 'min_child_weight': 1, 'subsample': 0.8197318787616776}. Best is trial 6 with value: 0.06280725572495623.\n",
      "[I 2023-07-12 16:45:33,907] Trial 13 finished with value: 0.06419281869130593 and parameters: {'booster': 'dart', 'gamma': 0.3090524176275746, 'max_depth': 3, 'min_child_weight': 2, 'subsample': 0.9514991723906876}. Best is trial 6 with value: 0.06280725572495623.\n",
      "[I 2023-07-12 16:45:33,991] Trial 14 finished with value: 0.06251994894704883 and parameters: {'booster': 'dart', 'gamma': 0.16085922125596674, 'max_depth': 3, 'min_child_weight': 3, 'subsample': 0.9954555300422371}. Best is trial 14 with value: 0.06251994894704883.\n",
      "[I 2023-07-12 16:45:37,730] Trial 16 finished with value: 0.06573693196457554 and parameters: {'booster': 'dart', 'gamma': 0.035227334151598844, 'max_depth': 7, 'min_child_weight': 3, 'subsample': 0.9758684497071393}. Best is trial 14 with value: 0.06251994894704883.\n",
      "[I 2023-07-12 16:45:37,901] Trial 18 finished with value: 0.05884857296736514 and parameters: {'booster': 'dart', 'gamma': 0.29942856081148517, 'max_depth': 6, 'min_child_weight': 3, 'subsample': 0.9985243132742817}. Best is trial 18 with value: 0.05884857296736514.\n",
      "[I 2023-07-12 16:45:38,048] Trial 17 finished with value: 0.06262569024312796 and parameters: {'booster': 'dart', 'gamma': 0.11726362407310997, 'max_depth': 6, 'min_child_weight': 3, 'subsample': 0.9827482987279826}. Best is trial 18 with value: 0.05884857296736514.\n",
      "[I 2023-07-12 16:45:39,146] Trial 15 finished with value: 0.06464361574645831 and parameters: {'booster': 'dart', 'gamma': 0.06847644173280143, 'max_depth': 20, 'min_child_weight': 3, 'subsample': 0.9957571798431041}. Best is trial 18 with value: 0.05884857296736514.\n",
      "[I 2023-07-12 16:45:41,427] Trial 19 finished with value: 0.06009430954826222 and parameters: {'booster': 'dart', 'gamma': 0.024408102647820673, 'max_depth': 6, 'min_child_weight': 2, 'subsample': 0.9905432352229294}. Best is trial 18 with value: 0.05884857296736514.\n",
      "[I 2023-07-12 16:45:41,570] Trial 20 finished with value: 0.05887135523447033 and parameters: {'booster': 'dart', 'gamma': 0.20485972709862077, 'max_depth': 6, 'min_child_weight': 3, 'subsample': 0.9879707375713762}. Best is trial 18 with value: 0.05884857296736514.\n",
      "[I 2023-07-12 16:45:41,594] Trial 21 finished with value: 0.05691425915217099 and parameters: {'booster': 'dart', 'gamma': 0.012608117346057546, 'max_depth': 7, 'min_child_weight': 3, 'subsample': 0.8888090760953143}. Best is trial 21 with value: 0.05691425915217099.\n",
      "[I 2023-07-12 16:45:43,080] Trial 22 finished with value: 0.062067254509953686 and parameters: {'booster': 'dart', 'gamma': 0.8774712352411473, 'max_depth': 7, 'min_child_weight': 3, 'subsample': 0.8916148478788446}. Best is trial 21 with value: 0.05691425915217099.\n",
      "[I 2023-07-12 16:45:45,185] Trial 24 finished with value: 0.06060700084747748 and parameters: {'booster': 'dart', 'gamma': 0.7580287499126844, 'max_depth': 7, 'min_child_weight': 2, 'subsample': 0.902661155002056}. Best is trial 21 with value: 0.05691425915217099.\n",
      "[I 2023-07-12 16:45:45,294] Trial 23 finished with value: 0.05742975250352259 and parameters: {'booster': 'dart', 'gamma': 0.6809179019647127, 'max_depth': 7, 'min_child_weight': 2, 'subsample': 0.9153239222413518}. Best is trial 21 with value: 0.05691425915217099.\n",
      "[I 2023-07-12 16:45:45,612] Trial 25 finished with value: 0.05990163877281924 and parameters: {'booster': 'dart', 'gamma': 0.6004366851015117, 'max_depth': 8, 'min_child_weight': 3, 'subsample': 0.916122979278702}. Best is trial 21 with value: 0.05691425915217099.\n",
      "[I 2023-07-12 16:45:46,933] Trial 26 finished with value: 0.058969455131830224 and parameters: {'booster': 'dart', 'gamma': 0.5960388570950159, 'max_depth': 8, 'min_child_weight': 3, 'subsample': 0.915516090689455}. Best is trial 21 with value: 0.05691425915217099.\n",
      "[I 2023-07-12 16:45:48,829] Trial 27 finished with value: 0.05638517256939576 and parameters: {'booster': 'dart', 'gamma': 0.4557273114335869, 'max_depth': 8, 'min_child_weight': 3, 'subsample': 0.9148226529055873}. Best is trial 27 with value: 0.05638517256939576.\n",
      "[I 2023-07-12 16:45:49,259] Trial 28 finished with value: 0.05894777350757264 and parameters: {'booster': 'dart', 'gamma': 0.5716166490788817, 'max_depth': 9, 'min_child_weight': 2, 'subsample': 0.9247001403632351}. Best is trial 27 with value: 0.05638517256939576.\n",
      "[I 2023-07-12 16:45:51,039] Trial 29 finished with value: 0.0661678407198212 and parameters: {'booster': 'dart', 'gamma': 0.5109550042486932, 'max_depth': 13, 'min_child_weight': 2, 'subsample': 0.9280646225498953}. Best is trial 27 with value: 0.05638517256939576.\n",
      "[I 2023-07-12 16:45:51,538] Trial 30 finished with value: 0.06184755966040426 and parameters: {'booster': 'dart', 'gamma': 1.1349770651430346, 'max_depth': 11, 'min_child_weight': 2, 'subsample': 0.8620566498049154}. Best is trial 27 with value: 0.05638517256939576.\n"
     ]
    },
    {
     "name": "stderr",
     "output_type": "stream",
     "text": [
      "[I 2023-07-12 16:45:53,710] Trial 31 finished with value: 0.06564591094168114 and parameters: {'booster': 'dart', 'gamma': 1.1008590930174962, 'max_depth': 13, 'min_child_weight': 2, 'subsample': 0.8493574538645032}. Best is trial 27 with value: 0.05638517256939576.\n",
      "[I 2023-07-12 16:45:54,576] Trial 32 finished with value: 0.06315717585079228 and parameters: {'booster': 'dart', 'gamma': 1.2783771464788352, 'max_depth': 14, 'min_child_weight': 2, 'subsample': 0.8513258034400315}. Best is trial 27 with value: 0.05638517256939576.\n",
      "[I 2023-07-12 16:45:56,252] Trial 33 finished with value: 0.06819799637187328 and parameters: {'booster': 'dart', 'gamma': 1.0872671723161438, 'max_depth': 13, 'min_child_weight': 2, 'subsample': 0.8438032373955865}. Best is trial 27 with value: 0.05638517256939576.\n",
      "[I 2023-07-12 16:45:56,510] Trial 34 finished with value: 0.0613066321911413 and parameters: {'booster': 'dart', 'gamma': 0.3798276139381954, 'max_depth': 13, 'min_child_weight': 3, 'subsample': 0.8488700748128303}. Best is trial 27 with value: 0.05638517256939576.\n",
      "[I 2023-07-12 16:45:57,265] Trial 35 finished with value: 0.06473209331014416 and parameters: {'booster': 'dart', 'gamma': 0.42332131526299055, 'max_depth': 8, 'min_child_weight': 3, 'subsample': 0.8263277628654332}. Best is trial 27 with value: 0.05638517256939576.\n",
      "[I 2023-07-12 16:45:57,387] Trial 36 finished with value: 0.0622446571453679 and parameters: {'booster': 'dart', 'gamma': 0.39496828213887797, 'max_depth': 5, 'min_child_weight': 3, 'subsample': 0.807159822026043}. Best is trial 27 with value: 0.05638517256939576.\n",
      "[I 2023-07-12 16:45:59,033] Trial 37 finished with value: 0.06922682346937564 and parameters: {'booster': 'dart', 'gamma': 0.4238369897254022, 'max_depth': 5, 'min_child_weight': 3, 'subsample': 0.7883010831306722}. Best is trial 27 with value: 0.05638517256939576.\n",
      "[I 2023-07-12 16:46:00,149] Trial 38 finished with value: 0.06527452879785717 and parameters: {'booster': 'dart', 'gamma': 1.536429119493782, 'max_depth': 8, 'min_child_weight': 3, 'subsample': 0.9518581689925845}. Best is trial 27 with value: 0.05638517256939576.\n",
      "[I 2023-07-12 16:46:01,498] Trial 39 finished with value: 0.06735435940622657 and parameters: {'booster': 'dart', 'gamma': 1.545483201137114, 'max_depth': 10, 'min_child_weight': 3, 'subsample': 0.7840535134656171}. Best is trial 27 with value: 0.05638517256939576.\n",
      "[I 2023-07-12 16:46:01,669] Trial 40 finished with value: 0.06483904797327485 and parameters: {'booster': 'dart', 'gamma': 1.629099095736544, 'max_depth': 10, 'min_child_weight': 3, 'subsample': 0.951720761931395}. Best is trial 27 with value: 0.05638517256939576.\n",
      "[I 2023-07-12 16:46:02,959] Trial 42 finished with value: 0.06036368243605977 and parameters: {'booster': 'gbtree', 'gamma': 0.7846360083562353, 'max_depth': 10, 'min_child_weight': 3, 'subsample': 0.8896161325055114}. Best is trial 27 with value: 0.05638517256939576.\n",
      "[I 2023-07-12 16:46:03,415] Trial 41 finished with value: 0.06325699322642432 and parameters: {'booster': 'dart', 'gamma': 1.522145447732235, 'max_depth': 10, 'min_child_weight': 3, 'subsample': 0.954218593651351}. Best is trial 27 with value: 0.05638517256939576.\n",
      "[I 2023-07-12 16:46:04,423] Trial 43 finished with value: 0.06106766527560957 and parameters: {'booster': 'gbtree', 'gamma': 0.9008228565014195, 'max_depth': 10, 'min_child_weight': 3, 'subsample': 0.8865213343766776}. Best is trial 27 with value: 0.05638517256939576.\n",
      "[I 2023-07-12 16:46:04,689] Trial 44 finished with value: 0.0626455915301133 and parameters: {'booster': 'dart', 'gamma': 0.8396393358873537, 'max_depth': 6, 'min_child_weight': 3, 'subsample': 0.8953719518166892}. Best is trial 27 with value: 0.05638517256939576.\n",
      "[I 2023-07-12 16:46:06,204] Trial 45 finished with value: 0.06184952273228231 and parameters: {'booster': 'dart', 'gamma': 0.2502504861611675, 'max_depth': 6, 'min_child_weight': 3, 'subsample': 0.9562592944654735}. Best is trial 27 with value: 0.05638517256939576.\n",
      "[I 2023-07-12 16:46:06,626] Trial 46 finished with value: 0.058643194805390604 and parameters: {'booster': 'dart', 'gamma': 0.23247075318463448, 'max_depth': 6, 'min_child_weight': 3, 'subsample': 0.8805152738026562}. Best is trial 27 with value: 0.05638517256939576.\n",
      "[I 2023-07-12 16:46:07,317] Trial 48 finished with value: 0.061093278461260746 and parameters: {'booster': 'dart', 'gamma': 0.2651695790587129, 'max_depth': 4, 'min_child_weight': 3, 'subsample': 0.9553203284040037}. Best is trial 27 with value: 0.05638517256939576.\n",
      "[I 2023-07-12 16:46:07,615] Trial 47 finished with value: 0.06179216549066723 and parameters: {'booster': 'dart', 'gamma': 0.20359453802039384, 'max_depth': 6, 'min_child_weight': 3, 'subsample': 0.9750484756701775}. Best is trial 27 with value: 0.05638517256939576.\n",
      "[I 2023-07-12 16:46:08,529] Trial 51 finished with value: 0.066838351209953 and parameters: {'booster': 'gbtree', 'gamma': 0.03816561559234662, 'max_depth': 4, 'min_child_weight': 2, 'subsample': 0.9265467841392332}. Best is trial 27 with value: 0.05638517256939576.\n",
      "[I 2023-07-12 16:46:08,811] Trial 52 finished with value: 0.06453533258288734 and parameters: {'booster': 'gbtree', 'gamma': 0.6430697199866324, 'max_depth': 4, 'min_child_weight': 2, 'subsample': 0.8701059468767616}. Best is trial 27 with value: 0.05638517256939576.\n",
      "[I 2023-07-12 16:46:08,833] Trial 49 finished with value: 0.06449171425968914 and parameters: {'booster': 'dart', 'gamma': 0.24832226531659737, 'max_depth': 4, 'min_child_weight': 2, 'subsample': 0.9698102005742967}. Best is trial 27 with value: 0.05638517256939576.\n",
      "[I 2023-07-12 16:46:09,224] Trial 50 finished with value: 0.07054053041107966 and parameters: {'booster': 'dart', 'gamma': 0.3243265551800022, 'max_depth': 4, 'min_child_weight': 2, 'subsample': 0.7507103182331546}. Best is trial 27 with value: 0.05638517256939576.\n",
      "[I 2023-07-12 16:46:11,613] Trial 54 finished with value: 0.06527320215149532 and parameters: {'booster': 'dart', 'gamma': 0.33183762683270157, 'max_depth': 5, 'min_child_weight': 3, 'subsample': 0.9296818120570209}. Best is trial 27 with value: 0.05638517256939576.\n",
      "[I 2023-07-12 16:46:12,032] Trial 53 finished with value: 0.062119734152540455 and parameters: {'booster': 'dart', 'gamma': 0.5639654825033293, 'max_depth': 7, 'min_child_weight': 1, 'subsample': 0.8808730547015021}. Best is trial 27 with value: 0.05638517256939576.\n",
      "[I 2023-07-12 16:46:12,441] Trial 55 finished with value: 0.057286699180125904 and parameters: {'booster': 'dart', 'gamma': 0.37799873489404545, 'max_depth': 7, 'min_child_weight': 3, 'subsample': 0.998882680283435}. Best is trial 27 with value: 0.05638517256939576.\n",
      "[I 2023-07-12 16:46:12,680] Trial 56 finished with value: 0.055744526287547315 and parameters: {'booster': 'dart', 'gamma': 0.5107943045377119, 'max_depth': 7, 'min_child_weight': 3, 'subsample': 0.9921265137031021}. Best is trial 56 with value: 0.055744526287547315.\n",
      "[I 2023-07-12 16:46:15,198] Trial 57 finished with value: 0.0648197590041898 and parameters: {'booster': 'dart', 'gamma': 0.012431486861632424, 'max_depth': 7, 'min_child_weight': 3, 'subsample': 0.9987706794818074}. Best is trial 56 with value: 0.055744526287547315.\n",
      "[I 2023-07-12 16:46:15,950] Trial 60 finished with value: 0.06227235691577816 and parameters: {'booster': 'dart', 'gamma': 0.9702283170600517, 'max_depth': 7, 'min_child_weight': 3, 'subsample': 0.8999867140503419}. Best is trial 56 with value: 0.055744526287547315.\n",
      "[I 2023-07-12 16:46:16,120] Trial 58 finished with value: 0.06344357093496987 and parameters: {'booster': 'dart', 'gamma': 0.027914912176785545, 'max_depth': 9, 'min_child_weight': 3, 'subsample': 0.9979374518606472}. Best is trial 56 with value: 0.055744526287547315.\n",
      "[I 2023-07-12 16:46:16,281] Trial 59 finished with value: 0.061996912360327415 and parameters: {'booster': 'dart', 'gamma': 0.7206282319055535, 'max_depth': 9, 'min_child_weight': 3, 'subsample': 0.908568944781855}. Best is trial 56 with value: 0.055744526287547315.\n",
      "[I 2023-07-12 16:46:18,933] Trial 61 finished with value: 0.05930613952290096 and parameters: {'booster': 'dart', 'gamma': 0.7181478242078589, 'max_depth': 8, 'min_child_weight': 3, 'subsample': 0.9106166406167598}. Best is trial 56 with value: 0.055744526287547315.\n"
     ]
    },
    {
     "name": "stderr",
     "output_type": "stream",
     "text": [
      "[I 2023-07-12 16:46:19,915] Trial 62 finished with value: 0.05978754173280361 and parameters: {'booster': 'dart', 'gamma': 0.7346817115935078, 'max_depth': 9, 'min_child_weight': 3, 'subsample': 0.9133856399069018}. Best is trial 56 with value: 0.055744526287547315.\n",
      "[I 2023-07-12 16:46:20,000] Trial 64 finished with value: 0.06378961247886392 and parameters: {'booster': 'dart', 'gamma': 0.4625285588746506, 'max_depth': 8, 'min_child_weight': 3, 'subsample': 0.9656628113649329}. Best is trial 56 with value: 0.055744526287547315.\n",
      "[I 2023-07-12 16:46:21,890] Trial 65 finished with value: 0.06354633768300753 and parameters: {'booster': 'dart', 'gamma': 0.4481599342094488, 'max_depth': 5, 'min_child_weight': 3, 'subsample': 0.9367317719882539}. Best is trial 56 with value: 0.055744526287547315.\n",
      "[I 2023-07-12 16:46:22,229] Trial 63 finished with value: 0.060490300438127136 and parameters: {'booster': 'dart', 'gamma': 0.959862839545877, 'max_depth': 18, 'min_child_weight': 3, 'subsample': 0.939282814817931}. Best is trial 56 with value: 0.055744526287547315.\n",
      "[I 2023-07-12 16:46:22,804] Trial 66 finished with value: 0.06299066203993878 and parameters: {'booster': 'dart', 'gamma': 0.4855477964649854, 'max_depth': 5, 'min_child_weight': 3, 'subsample': 0.9738434355997589}. Best is trial 56 with value: 0.055744526287547315.\n",
      "[I 2023-07-12 16:46:22,978] Trial 67 finished with value: 0.0667904912300527 and parameters: {'booster': 'dart', 'gamma': 0.18099262869763932, 'max_depth': 5, 'min_child_weight': 3, 'subsample': 0.9346696649856642}. Best is trial 56 with value: 0.055744526287547315.\n",
      "[I 2023-07-12 16:46:25,207] Trial 68 finished with value: 0.06175436443310097 and parameters: {'booster': 'dart', 'gamma': 0.12656571613528506, 'max_depth': 6, 'min_child_weight': 3, 'subsample': 0.9728423648972668}. Best is trial 56 with value: 0.055744526287547315.\n",
      "[I 2023-07-12 16:46:25,422] Trial 69 finished with value: 0.06348530550201002 and parameters: {'booster': 'dart', 'gamma': 0.15466810979448598, 'max_depth': 6, 'min_child_weight': 3, 'subsample': 0.9788247194141464}. Best is trial 56 with value: 0.055744526287547315.\n",
      "[I 2023-07-12 16:46:26,111] Trial 71 finished with value: 0.05674679602959029 and parameters: {'booster': 'dart', 'gamma': 0.16167468631757448, 'max_depth': 6, 'min_child_weight': 3, 'subsample': 0.9736266061287941}. Best is trial 56 with value: 0.055744526287547315.\n",
      "[I 2023-07-12 16:46:26,319] Trial 70 finished with value: 0.06381474165012163 and parameters: {'booster': 'dart', 'gamma': 0.22479163015196424, 'max_depth': 7, 'min_child_weight': 3, 'subsample': 0.973872313841593}. Best is trial 56 with value: 0.055744526287547315.\n",
      "[I 2023-07-12 16:46:27,290] Trial 72 finished with value: 0.06179044859118662 and parameters: {'booster': 'gbtree', 'gamma': 0.5889137184511597, 'max_depth': 7, 'min_child_weight': 2, 'subsample': 0.8734818145748273}. Best is trial 56 with value: 0.055744526287547315.\n",
      "[I 2023-07-12 16:46:27,463] Trial 73 finished with value: 0.06035786310588808 and parameters: {'booster': 'gbtree', 'gamma': 0.5947439150628893, 'max_depth': 7, 'min_child_weight': 1, 'subsample': 0.8781031131863705}. Best is trial 56 with value: 0.055744526287547315.\n",
      "[I 2023-07-12 16:46:29,599] Trial 74 finished with value: 0.05717332882584536 and parameters: {'booster': 'dart', 'gamma': 0.546209703336602, 'max_depth': 7, 'min_child_weight': 3, 'subsample': 0.9996925389734626}. Best is trial 56 with value: 0.055744526287547315.\n",
      "[I 2023-07-12 16:46:30,006] Trial 75 finished with value: 0.0574998131657656 and parameters: {'booster': 'dart', 'gamma': 0.587903951494096, 'max_depth': 7, 'min_child_weight': 3, 'subsample': 0.9949317595734005}. Best is trial 56 with value: 0.055744526287547315.\n",
      "[I 2023-07-12 16:46:31,108] Trial 76 finished with value: 0.05718927923779261 and parameters: {'booster': 'dart', 'gamma': 0.35778341972502015, 'max_depth': 8, 'min_child_weight': 3, 'subsample': 0.99789147961358}. Best is trial 56 with value: 0.055744526287547315.\n",
      "[I 2023-07-12 16:46:31,236] Trial 77 finished with value: 0.0638667660293575 and parameters: {'booster': 'dart', 'gamma': 0.35455394686890307, 'max_depth': 8, 'min_child_weight': 3, 'subsample': 0.9885769968621188}. Best is trial 56 with value: 0.055744526287547315.\n",
      "[I 2023-07-12 16:46:33,341] Trial 78 finished with value: 0.06261767987251521 and parameters: {'booster': 'dart', 'gamma': 0.3930705371719391, 'max_depth': 8, 'min_child_weight': 3, 'subsample': 0.9418033558718641}. Best is trial 56 with value: 0.055744526287547315.\n",
      "[I 2023-07-12 16:46:33,657] Trial 79 finished with value: 0.0596579090826792 and parameters: {'booster': 'dart', 'gamma': 0.41163094404407846, 'max_depth': 8, 'min_child_weight': 3, 'subsample': 0.9870557535166088}. Best is trial 56 with value: 0.055744526287547315.\n",
      "[I 2023-07-12 16:46:34,921] Trial 80 finished with value: 0.06168491453670041 and parameters: {'booster': 'dart', 'gamma': 0.37939954719876573, 'max_depth': 8, 'min_child_weight': 3, 'subsample': 0.9460166172320847}. Best is trial 56 with value: 0.055744526287547315.\n",
      "[I 2023-07-12 16:46:35,153] Trial 81 finished with value: 0.06351906895248789 and parameters: {'booster': 'dart', 'gamma': 1.02784624782187, 'max_depth': 9, 'min_child_weight': 3, 'subsample': 0.9459969866480153}. Best is trial 56 with value: 0.055744526287547315.\n",
      "[I 2023-07-12 16:46:37,925] Trial 82 finished with value: 0.06295851611331098 and parameters: {'booster': 'dart', 'gamma': 0.8346008873291452, 'max_depth': 11, 'min_child_weight': 3, 'subsample': 0.9626310590106752}. Best is trial 56 with value: 0.055744526287547315.\n",
      "[I 2023-07-12 16:46:38,377] Trial 84 finished with value: 0.062312549024308314 and parameters: {'booster': 'dart', 'gamma': 0.6794909103163991, 'max_depth': 7, 'min_child_weight': 3, 'subsample': 0.9616124302774981}. Best is trial 56 with value: 0.055744526287547315.\n",
      "[I 2023-07-12 16:46:38,498] Trial 83 finished with value: 0.06190009856891462 and parameters: {'booster': 'dart', 'gamma': 0.8049464370674355, 'max_depth': 12, 'min_child_weight': 3, 'subsample': 0.9494664469464522}. Best is trial 56 with value: 0.055744526287547315.\n",
      "[I 2023-07-12 16:46:39,832] Trial 85 finished with value: 0.06296351912031962 and parameters: {'booster': 'dart', 'gamma': 0.8854814246351856, 'max_depth': 11, 'min_child_weight': 3, 'subsample': 0.9655789721926098}. Best is trial 56 with value: 0.055744526287547315.\n",
      "[I 2023-07-12 16:46:41,243] Trial 86 finished with value: 0.057411146660921696 and parameters: {'booster': 'dart', 'gamma': 0.5520873076099011, 'max_depth': 7, 'min_child_weight': 3, 'subsample': 0.9991489245729259}. Best is trial 56 with value: 0.055744526287547315.\n",
      "[I 2023-07-12 16:46:41,801] Trial 88 finished with value: 0.0592224975928148 and parameters: {'booster': 'dart', 'gamma': 0.5660513120645755, 'max_depth': 7, 'min_child_weight': 3, 'subsample': 0.9851440755562026}. Best is trial 56 with value: 0.055744526287547315.\n",
      "[I 2023-07-12 16:46:41,929] Trial 87 finished with value: 0.05472172050088582 and parameters: {'booster': 'dart', 'gamma': 0.5558606858154426, 'max_depth': 7, 'min_child_weight': 3, 'subsample': 0.9920679937476374}. Best is trial 87 with value: 0.05472172050088582.\n",
      "[I 2023-07-12 16:46:43,602] Trial 90 finished with value: 0.06784659631670041 and parameters: {'booster': 'dart', 'gamma': 0.148318587046185, 'max_depth': 3, 'min_child_weight': 2, 'subsample': 0.9802785625681741}. Best is trial 87 with value: 0.05472172050088582.\n",
      "[I 2023-07-12 16:46:43,942] Trial 89 finished with value: 0.057087830501714135 and parameters: {'booster': 'dart', 'gamma': 0.5636318851461275, 'max_depth': 9, 'min_child_weight': 3, 'subsample': 0.9963367920344421}. Best is trial 87 with value: 0.05472172050088582.\n",
      "[I 2023-07-12 16:46:45,018] Trial 91 finished with value: 0.05960081169158273 and parameters: {'booster': 'dart', 'gamma': 0.08163214335657105, 'max_depth': 6, 'min_child_weight': 2, 'subsample': 0.9994941515609979}. Best is trial 87 with value: 0.05472172050088582.\n",
      "[I 2023-07-12 16:46:45,259] Trial 92 finished with value: 0.060658975427235785 and parameters: {'booster': 'dart', 'gamma': 0.12139615325498054, 'max_depth': 6, 'min_child_weight': 3, 'subsample': 0.9972322968015455}. Best is trial 87 with value: 0.05472172050088582.\n"
     ]
    },
    {
     "name": "stderr",
     "output_type": "stream",
     "text": [
      "[I 2023-07-12 16:46:47,772] Trial 93 finished with value: 0.062154456224959916 and parameters: {'booster': 'dart', 'gamma': 0.09356655928998736, 'max_depth': 9, 'min_child_weight': 3, 'subsample': 0.9998759262727751}. Best is trial 87 with value: 0.05472172050088582.\n",
      "[I 2023-07-12 16:46:47,841] Trial 94 finished with value: 0.06144304831347808 and parameters: {'booster': 'dart', 'gamma': 0.4920056231515248, 'max_depth': 9, 'min_child_weight': 3, 'subsample': 0.9991651756409033}. Best is trial 87 with value: 0.05472172050088582.\n",
      "[I 2023-07-12 16:46:49,051] Trial 95 finished with value: 0.061365072803747804 and parameters: {'booster': 'dart', 'gamma': 0.2647435914108144, 'max_depth': 9, 'min_child_weight': 3, 'subsample': 0.9820552093444419}. Best is trial 87 with value: 0.05472172050088582.\n",
      "[I 2023-07-12 16:46:49,386] Trial 96 finished with value: 0.06151377797714707 and parameters: {'booster': 'dart', 'gamma': 0.3042738517296994, 'max_depth': 9, 'min_child_weight': 3, 'subsample': 0.9828340811637891}. Best is trial 87 with value: 0.05472172050088582.\n",
      "[I 2023-07-12 16:46:51,545] Trial 97 finished with value: 0.058793618085844414 and parameters: {'booster': 'dart', 'gamma': 0.5008350011758664, 'max_depth': 8, 'min_child_weight': 3, 'subsample': 0.9853718238024239}. Best is trial 87 with value: 0.05472172050088582.\n",
      "[I 2023-07-12 16:46:51,715] Trial 98 finished with value: 0.061558222101543894 and parameters: {'booster': 'dart', 'gamma': 0.31961106841502257, 'max_depth': 8, 'min_child_weight': 3, 'subsample': 0.9809174767701498}. Best is trial 87 with value: 0.05472172050088582.\n",
      "[I 2023-07-12 16:46:52,683] Trial 99 finished with value: 0.062325658118881015 and parameters: {'booster': 'dart', 'gamma': 0.6750305180542677, 'max_depth': 8, 'min_child_weight': 3, 'subsample': 0.9584788551550371}. Best is trial 87 with value: 0.05472172050088582.\n",
      "[I 2023-07-12 16:46:52,966] Trial 100 finished with value: 0.06673973014448932 and parameters: {'booster': 'dart', 'gamma': 0.49637684905769114, 'max_depth': 8, 'min_child_weight': 3, 'subsample': 0.9580458789079231}. Best is trial 87 with value: 0.05472172050088582.\n",
      "[I 2023-07-12 16:46:54,751] Trial 103 finished with value: 0.06274138533562428 and parameters: {'booster': 'gbtree', 'gamma': 1.14690895776739, 'max_depth': 7, 'min_child_weight': 3, 'subsample': 0.9210237739369614}. Best is trial 87 with value: 0.05472172050088582.\n",
      "[I 2023-07-12 16:46:54,755] Trial 101 finished with value: 0.06058458503823267 and parameters: {'booster': 'dart', 'gamma': 0.6812961799775461, 'max_depth': 6, 'min_child_weight': 3, 'subsample': 0.960293210087664}. Best is trial 87 with value: 0.05472172050088582.\n",
      "[I 2023-07-12 16:46:54,964] Trial 102 finished with value: 0.06424447308764658 and parameters: {'booster': 'dart', 'gamma': 0.7121458774553557, 'max_depth': 7, 'min_child_weight': 3, 'subsample': 0.9578154007124071}. Best is trial 87 with value: 0.05472172050088582.\n",
      "[I 2023-07-12 16:46:56,448] Trial 104 finished with value: 0.05924795128927899 and parameters: {'booster': 'dart', 'gamma': 0.7746655695664939, 'max_depth': 7, 'min_child_weight': 3, 'subsample': 0.9165783224458601}. Best is trial 87 with value: 0.05472172050088582.\n",
      "[I 2023-07-12 16:46:58,172] Trial 106 finished with value: 0.06236395253167392 and parameters: {'booster': 'dart', 'gamma': 0.8448332396769936, 'max_depth': 7, 'min_child_weight': 3, 'subsample': 0.930520092817648}. Best is trial 87 with value: 0.05472172050088582.\n",
      "[I 2023-07-12 16:46:58,203] Trial 105 finished with value: 0.06286880659813357 and parameters: {'booster': 'dart', 'gamma': 0.7222802310104071, 'max_depth': 7, 'min_child_weight': 3, 'subsample': 0.9279992130982173}. Best is trial 87 with value: 0.05472172050088582.\n",
      "[I 2023-07-12 16:46:58,260] Trial 107 finished with value: 0.06309187534519387 and parameters: {'booster': 'dart', 'gamma': 0.8448883238553867, 'max_depth': 7, 'min_child_weight': 3, 'subsample': 0.9295035644317929}. Best is trial 87 with value: 0.05472172050088582.\n",
      "[I 2023-07-12 16:46:59,490] Trial 108 finished with value: 0.06665439438101842 and parameters: {'booster': 'dart', 'gamma': 1.2759353504337525, 'max_depth': 6, 'min_child_weight': 3, 'subsample': 0.9319693635578993}. Best is trial 87 with value: 0.05472172050088582.\n",
      "[I 2023-07-12 16:47:01,200] Trial 109 finished with value: 0.06259567772100293 and parameters: {'booster': 'dart', 'gamma': 0.20103854719756037, 'max_depth': 5, 'min_child_weight': 3, 'subsample': 0.9710153323817327}. Best is trial 87 with value: 0.05472172050088582.\n",
      "[I 2023-07-12 16:47:01,318] Trial 110 finished with value: 0.06643072642240305 and parameters: {'booster': 'dart', 'gamma': 0.0006838500710628637, 'max_depth': 5, 'min_child_weight': 3, 'subsample': 0.971985106759659}. Best is trial 87 with value: 0.05472172050088582.\n",
      "[I 2023-07-12 16:47:01,699] Trial 111 finished with value: 0.06570833181811554 and parameters: {'booster': 'dart', 'gamma': 0.2218721603049913, 'max_depth': 6, 'min_child_weight': 2, 'subsample': 0.9677741230850273}. Best is trial 87 with value: 0.05472172050088582.\n",
      "[I 2023-07-12 16:47:02,329] Trial 112 finished with value: 0.06174112638946666 and parameters: {'booster': 'dart', 'gamma': 0.2587560366671529, 'max_depth': 5, 'min_child_weight': 2, 'subsample': 0.9683174646791826}. Best is trial 87 with value: 0.05472172050088582.\n",
      "[I 2023-07-12 16:47:04,331] Trial 113 finished with value: 0.057469158898278076 and parameters: {'booster': 'dart', 'gamma': 0.42120239400483206, 'max_depth': 6, 'min_child_weight': 2, 'subsample': 0.8992484546530042}. Best is trial 87 with value: 0.05472172050088582.\n",
      "[I 2023-07-12 16:47:04,409] Trial 114 finished with value: 0.05830106525396562 and parameters: {'booster': 'dart', 'gamma': 0.5665484842219763, 'max_depth': 6, 'min_child_weight': 3, 'subsample': 0.9863965674268447}. Best is trial 87 with value: 0.05472172050088582.\n",
      "[I 2023-07-12 16:47:05,380] Trial 115 finished with value: 0.05808062492351761 and parameters: {'booster': 'dart', 'gamma': 0.5845136686951411, 'max_depth': 8, 'min_child_weight': 3, 'subsample': 0.9912301339366036}. Best is trial 87 with value: 0.05472172050088582.\n",
      "[I 2023-07-12 16:47:06,100] Trial 116 finished with value: 0.05461694142657708 and parameters: {'booster': 'dart', 'gamma': 0.5819540409229472, 'max_depth': 8, 'min_child_weight': 3, 'subsample': 0.9894738123376842}. Best is trial 116 with value: 0.05461694142657708.\n",
      "[I 2023-07-12 16:47:07,525] Trial 117 finished with value: 0.057749630617884205 and parameters: {'booster': 'dart', 'gamma': 0.4371925587358379, 'max_depth': 6, 'min_child_weight': 2, 'subsample': 0.901375650531223}. Best is trial 116 with value: 0.05461694142657708.\n",
      "[I 2023-07-12 16:47:08,267] Trial 118 finished with value: 0.05833026821302671 and parameters: {'booster': 'dart', 'gamma': 0.40829299648830686, 'max_depth': 8, 'min_child_weight': 2, 'subsample': 0.8995772847244241}. Best is trial 116 with value: 0.05461694142657708.\n",
      "[I 2023-07-12 16:47:08,590] Trial 119 finished with value: 0.061751925645014534 and parameters: {'booster': 'dart', 'gamma': 0.37356512691138705, 'max_depth': 6, 'min_child_weight': 3, 'subsample': 0.8936426988175319}. Best is trial 116 with value: 0.05461694142657708.\n",
      "[I 2023-07-12 16:47:09,933] Trial 121 finished with value: 0.0627962899948982 and parameters: {'booster': 'gbtree', 'gamma': 0.9230260800819008, 'max_depth': 8, 'min_child_weight': 3, 'subsample': 0.9440023248990974}. Best is trial 116 with value: 0.05461694142657708.\n",
      "[I 2023-07-12 16:47:10,264] Trial 122 finished with value: 0.06152628086852825 and parameters: {'booster': 'gbtree', 'gamma': 0.3295542729663572, 'max_depth': 7, 'min_child_weight': 3, 'subsample': 0.9455169308421542}. Best is trial 116 with value: 0.05461694142657708.\n",
      "[I 2023-07-12 16:47:10,467] Trial 120 finished with value: 0.06679864391787367 and parameters: {'booster': 'dart', 'gamma': 0.35172971117842033, 'max_depth': 10, 'min_child_weight': 3, 'subsample': 0.9383563166430446}. Best is trial 116 with value: 0.05461694142657708.\n",
      "[I 2023-07-12 16:47:11,580] Trial 123 finished with value: 0.062341822574366726 and parameters: {'booster': 'gbtree', 'gamma': 0.5118285898956806, 'max_depth': 10, 'min_child_weight': 3, 'subsample': 0.9440413985784946}. Best is trial 116 with value: 0.05461694142657708.\n"
     ]
    },
    {
     "name": "stderr",
     "output_type": "stream",
     "text": [
      "[I 2023-07-12 16:47:13,359] Trial 124 finished with value: 0.05881941405656312 and parameters: {'booster': 'dart', 'gamma': 0.47613540957184125, 'max_depth': 7, 'min_child_weight': 2, 'subsample': 0.9505355063173282}. Best is trial 116 with value: 0.05461694142657708.\n",
      "[I 2023-07-12 16:47:13,899] Trial 125 finished with value: 0.05703138653735137 and parameters: {'booster': 'dart', 'gamma': 0.5082055668090294, 'max_depth': 7, 'min_child_weight': 2, 'subsample': 0.9874334981097942}. Best is trial 116 with value: 0.05461694142657708.\n",
      "[I 2023-07-12 16:47:13,972] Trial 126 finished with value: 0.06320117105273708 and parameters: {'booster': 'dart', 'gamma': 0.4942051882707128, 'max_depth': 7, 'min_child_weight': 2, 'subsample': 0.9776638164016241}. Best is trial 116 with value: 0.05461694142657708.\n",
      "[I 2023-07-12 16:47:14,926] Trial 127 finished with value: 0.058356257819119496 and parameters: {'booster': 'dart', 'gamma': 0.6566624719514359, 'max_depth': 7, 'min_child_weight': 2, 'subsample': 0.9782273001837478}. Best is trial 116 with value: 0.05461694142657708.\n",
      "[I 2023-07-12 16:47:17,254] Trial 128 finished with value: 0.06023918277945858 and parameters: {'booster': 'dart', 'gamma': 0.6429618868537132, 'max_depth': 8, 'min_child_weight': 2, 'subsample': 0.9860773161302919}. Best is trial 116 with value: 0.05461694142657708.\n",
      "[I 2023-07-12 16:47:17,687] Trial 129 finished with value: 0.059214454911010385 and parameters: {'booster': 'dart', 'gamma': 1.022770067855919, 'max_depth': 8, 'min_child_weight': 3, 'subsample': 0.9879740318400132}. Best is trial 116 with value: 0.05461694142657708.\n",
      "[I 2023-07-12 16:47:17,810] Trial 130 finished with value: 0.058539396993755495 and parameters: {'booster': 'dart', 'gamma': 0.6285601660069461, 'max_depth': 8, 'min_child_weight': 3, 'subsample': 0.9894933863513028}. Best is trial 116 with value: 0.05461694142657708.\n",
      "[I 2023-07-12 16:47:18,939] Trial 131 finished with value: 0.06246075293202838 and parameters: {'booster': 'dart', 'gamma': 0.09919972779793584, 'max_depth': 8, 'min_child_weight': 3, 'subsample': 0.98901259661671}. Best is trial 116 with value: 0.05461694142657708.\n",
      "[I 2023-07-12 16:47:21,346] Trial 134 finished with value: 0.05783090789498936 and parameters: {'booster': 'dart', 'gamma': 0.1099661814417533, 'max_depth': 7, 'min_child_weight': 2, 'subsample': 0.9117289878420802}. Best is trial 116 with value: 0.05461694142657708.\n",
      "[I 2023-07-12 16:47:21,433] Trial 132 finished with value: 0.0629579941968612 and parameters: {'booster': 'dart', 'gamma': 0.142880630098842, 'max_depth': 9, 'min_child_weight': 1, 'subsample': 0.9939445569806648}. Best is trial 116 with value: 0.05461694142657708.\n",
      "[I 2023-07-12 16:47:21,958] Trial 133 finished with value: 0.0584174171487091 and parameters: {'booster': 'dart', 'gamma': 0.09882423348785818, 'max_depth': 9, 'min_child_weight': 3, 'subsample': 0.9991914398102882}. Best is trial 116 with value: 0.05461694142657708.\n",
      "[I 2023-07-12 16:47:22,397] Trial 135 finished with value: 0.05544807056658126 and parameters: {'booster': 'dart', 'gamma': 0.16019097420041878, 'max_depth': 7, 'min_child_weight': 2, 'subsample': 0.9980592201010277}. Best is trial 116 with value: 0.05461694142657708.\n",
      "[I 2023-07-12 16:47:24,586] Trial 136 finished with value: 0.05999601889414926 and parameters: {'booster': 'dart', 'gamma': 0.26233590758025915, 'max_depth': 6, 'min_child_weight': 2, 'subsample': 0.9996975638569849}. Best is trial 116 with value: 0.05461694142657708.\n",
      "[I 2023-07-12 16:47:24,862] Trial 137 finished with value: 0.060010536449141845 and parameters: {'booster': 'dart', 'gamma': 0.2831999366731175, 'max_depth': 6, 'min_child_weight': 2, 'subsample': 0.9994865788620818}. Best is trial 116 with value: 0.05461694142657708.\n",
      "[I 2023-07-12 16:47:25,250] Trial 138 finished with value: 0.06274682865500487 and parameters: {'booster': 'dart', 'gamma': 0.26816393674904354, 'max_depth': 6, 'min_child_weight': 2, 'subsample': 0.9667604300563389}. Best is trial 116 with value: 0.05461694142657708.\n",
      "[I 2023-07-12 16:47:25,687] Trial 139 finished with value: 0.06354174231613342 and parameters: {'booster': 'dart', 'gamma': 0.20943960562639263, 'max_depth': 7, 'min_child_weight': 2, 'subsample': 0.9656342840175381}. Best is trial 116 with value: 0.05461694142657708.\n",
      "[I 2023-07-12 16:47:28,151] Trial 140 finished with value: 0.0636558728038098 and parameters: {'booster': 'dart', 'gamma': 0.006840637971139596, 'max_depth': 7, 'min_child_weight': 2, 'subsample': 0.9657626703458446}. Best is trial 116 with value: 0.05461694142657708.\n",
      "[I 2023-07-12 16:47:30,690] Trial 141 finished with value: 0.06733685004110546 and parameters: {'booster': 'dart', 'gamma': 0.024421311600451134, 'max_depth': 16, 'min_child_weight': 3, 'subsample': 0.9655995888704808}. Best is trial 116 with value: 0.05461694142657708.\n",
      "[I 2023-07-12 16:47:30,793] Trial 142 finished with value: 0.062324313924842605 and parameters: {'booster': 'dart', 'gamma': 0.5215053227212805, 'max_depth': 15, 'min_child_weight': 3, 'subsample': 0.9728064806395899}. Best is trial 116 with value: 0.05461694142657708.\n",
      "[I 2023-07-12 16:47:31,533] Trial 144 finished with value: 0.06906082891765553 and parameters: {'booster': 'dart', 'gamma': 0.4283828144590936, 'max_depth': 7, 'min_child_weight': 2, 'subsample': 0.8593805492724662}. Best is trial 116 with value: 0.05461694142657708.\n",
      "[I 2023-07-12 16:47:31,816] Trial 143 finished with value: 0.06017905218557512 and parameters: {'booster': 'dart', 'gamma': 0.7539674418914708, 'max_depth': 19, 'min_child_weight': 3, 'subsample': 0.9745550973130885}. Best is trial 116 with value: 0.05461694142657708.\n",
      "[I 2023-07-12 16:47:34,352] Trial 145 finished with value: 0.05956132212489308 and parameters: {'booster': 'dart', 'gamma': 0.4158552975895508, 'max_depth': 7, 'min_child_weight': 2, 'subsample': 0.9777611429414028}. Best is trial 116 with value: 0.05461694142657708.\n",
      "[I 2023-07-12 16:47:34,476] Trial 146 finished with value: 0.05895586687862414 and parameters: {'booster': 'dart', 'gamma': 0.4214763959506669, 'max_depth': 7, 'min_child_weight': 2, 'subsample': 0.9837854150542875}. Best is trial 116 with value: 0.05461694142657708.\n",
      "[I 2023-07-12 16:47:34,929] Trial 147 finished with value: 0.06483308508584905 and parameters: {'booster': 'dart', 'gamma': 0.7701083287039788, 'max_depth': 7, 'min_child_weight': 2, 'subsample': 0.9800509867111946}. Best is trial 116 with value: 0.05461694142657708.\n",
      "[I 2023-07-12 16:47:35,246] Trial 148 finished with value: 0.05989897474423243 and parameters: {'booster': 'dart', 'gamma': 0.3440835767208811, 'max_depth': 7, 'min_child_weight': 2, 'subsample': 0.9799142380556398}. Best is trial 116 with value: 0.05461694142657708.\n",
      "[I 2023-07-12 16:47:35,922] Trial 149 finished with value: 0.059002070123252835 and parameters: {'booster': 'dart', 'gamma': 0.5781045400921764, 'max_depth': 8, 'min_child_weight': 2, 'subsample': 0.8827765494414289}. Best is trial 116 with value: 0.05461694142657708.\n"
     ]
    }
   ],
   "source": [
    "from sklearn.metrics import mean_squared_error, r2_score\n",
    "from xgboost import XGBRegressor\n",
    "import optuna\n",
    "\n",
    "# objective function to be minimized\n",
    "def objective_fun(trial):\n",
    "\n",
    "    booster = trial.suggest_categorical('booster', ['gbtree', 'dart'])\n",
    "    gamma = trial.suggest_float('gamma', 0, 5)\n",
    "    max_depth = trial.suggest_int('max_depth', 3, 20)\n",
    "    min_child_weight = trial.suggest_int('min_child_weight', 1, 3)\n",
    "    subsample = trial.suggest_float('subsample', 0.4, 1)\n",
    "\n",
    "    xgb = XGBRegressor(booster=booster, gamma=gamma, max_depth=max_depth, min_child_weight=min_child_weight, subsample=subsample)\n",
    "\n",
    "    xgb.fit(X_train_reduced, y_train)\n",
    "    y_pred = xgb.predict(X_valid_reduced)\n",
    "\n",
    "    error = mean_squared_error(y_valid, y_pred)\n",
    "\n",
    "    return error\n",
    "\n",
    "\n",
    "study = optuna.create_study()\n",
    "study.optimize(objective_fun, n_trials=150, n_jobs=-1)"
   ]
  },
  {
   "cell_type": "code",
   "execution_count": 11,
   "metadata": {
    "ExecuteTime": {
     "end_time": "2023-07-05T13:54:44.602639Z",
     "start_time": "2023-07-05T13:54:44.072242Z"
    }
   },
   "outputs": [
    {
     "name": "stdout",
     "output_type": "stream",
     "text": [
      "{'booster': 'dart', 'gamma': 0.5819540409229472, 'max_depth': 8, 'min_child_weight': 3, 'subsample': 0.9894738123376842}\n",
      "Normalized root mean squared error = 0.0844\n",
      "R-squared = 0.8348\n"
     ]
    }
   ],
   "source": [
    "best_params = study.best_params\n",
    "\n",
    "xgb = XGBRegressor(**best_params)\n",
    "xgb.fit(X_train, y_train)\n",
    "\n",
    "y_pred_test = xgb.predict(X_test)\n",
    "\n",
    "nrmse = np.sqrt(mean_squared_error(y_test, y_pred_test)) / (np.max(y_test) - np.min(y_test))\n",
    "\n",
    "print(best_params)\n",
    "print('Normalized root mean squared error = %.4f' % nrmse)\n",
    "print('R-squared = %.4f' % r2_score(y_test, y_pred_test))"
   ]
  },
  {
   "cell_type": "code",
   "execution_count": 12,
   "metadata": {
    "ExecuteTime": {
     "end_time": "2023-07-05T13:54:44.686927Z",
     "start_time": "2023-07-05T13:54:44.604019Z"
    }
   },
   "outputs": [
    {
     "data": {
      "text/plain": [
       "array([1.6036073e-02, 1.9578069e-02, 1.0201158e-02, ..., 1.1968597e-04,\n",
       "       1.4173033e-04, 7.3944524e-05], dtype=float32)"
      ]
     },
     "execution_count": 12,
     "metadata": {},
     "output_type": "execute_result"
    }
   ],
   "source": [
    "y_pred = xgb.predict(X_to_pred)\n",
    "y_pred = np.power(10, y_pred)\n",
    "y_pred"
   ]
  },
  {
   "cell_type": "code",
   "execution_count": 13,
   "metadata": {
    "ExecuteTime": {
     "end_time": "2023-07-05T13:54:44.687143Z",
     "start_time": "2023-07-05T13:54:44.625180Z"
    }
   },
   "outputs": [
    {
     "data": {
      "text/plain": [
       "0"
      ]
     },
     "execution_count": 13,
     "metadata": {},
     "output_type": "execute_result"
    }
   ],
   "source": [
    "# negative values predicted\n",
    "np.count_nonzero(y_pred < 0)"
   ]
  },
  {
   "cell_type": "code",
   "execution_count": 14,
   "metadata": {
    "ExecuteTime": {
     "end_time": "2023-07-05T13:54:44.749403Z",
     "start_time": "2023-07-05T13:54:44.628120Z"
    }
   },
   "outputs": [],
   "source": [
    "df_zero_xgb = df_zero.copy()\n",
    "df_xgb = df.copy()\n",
    "\n",
    "df_zero_xgb[TARGET] = y_pred\n",
    "df_xgb.update(df_zero_xgb)"
   ]
  },
  {
   "cell_type": "code",
   "execution_count": 15,
   "metadata": {
    "ExecuteTime": {
     "end_time": "2023-07-05T13:54:44.970368Z",
     "start_time": "2023-07-05T13:54:44.750866Z"
    }
   },
   "outputs": [
    {
     "data": {
      "image/png": "[encoded data removed]",
      "text/plain": [
       "<Figure size 640x480 with 1 Axes>"
      ]
     },
     "metadata": {},
     "output_type": "display_data"
    }
   ],
   "source": [
    "sns.histplot(data=df_xgb, x=TARGET, stat='density')\n",
    "plt.xlabel(f'{TARGET}')\n",
    "plt.ylabel('Density')\n",
    "plt.title(f'Distribution of {TARGET}')\n",
    "plt.savefig(os.path.join(IMAGE_FOLDER, 'xgboost_stft_min_distr.pdf'), format='pdf')\n",
    "plt.show()"
   ]
  },
  {
   "cell_type": "code",
   "execution_count": 16,
   "metadata": {
    "ExecuteTime": {
     "end_time": "2023-07-05T13:54:45.610922Z",
     "start_time": "2023-07-05T13:54:44.977835Z"
    }
   },
   "outputs": [
    {
     "data": {
      "image/png": "[encoded data removed]",
      "text/plain": [
       "<Figure size 640x480 with 1 Axes>"
      ]
     },
     "metadata": {},
     "output_type": "display_data"
    }
   ],
   "source": [
    "sns.histplot(data=df_xgb, x=TARGET, stat='density', log_scale=True)\n",
    "plt.xlabel(f'{TARGET}')\n",
    "plt.ylabel('Density')\n",
    "plt.title(f'Log-scaled distribution of {TARGET}')\n",
    "plt.savefig(os.path.join(IMAGE_FOLDER, 'xgboost_stft_min_logscale_distr.pdf'), format='pdf')\n",
    "plt.show()"
   ]
  },
  {
   "cell_type": "markdown",
   "metadata": {},
   "source": [
    "## Neural Network"
   ]
  },
  {
   "cell_type": "code",
   "execution_count": 17,
   "metadata": {
    "ExecuteTime": {
     "end_time": "2023-07-05T13:55:48.926936Z",
     "start_time": "2023-07-05T13:54:45.609919Z"
    }
   },
   "outputs": [
    {
     "name": "stderr",
     "output_type": "stream",
     "text": [
      "2023-07-12 16:47:42.139453: I tensorflow/tsl/cuda/cudart_stub.cc:28] Could not find cuda drivers on your machine, GPU will not be used.\n",
      "2023-07-12 16:47:42.631381: I tensorflow/tsl/cuda/cudart_stub.cc:28] Could not find cuda drivers on your machine, GPU will not be used.\n",
      "2023-07-12 16:47:42.634139: I tensorflow/core/platform/cpu_feature_guard.cc:182] This TensorFlow binary is optimized to use available CPU instructions in performance-critical operations.\n",
      "To enable the following instructions: AVX2 FMA, in other operations, rebuild TensorFlow with the appropriate compiler flags.\n",
      "2023-07-12 16:47:44.366806: W tensorflow/compiler/tf2tensorrt/utils/py_utils.cc:38] TF-TRT Warning: Could not find TensorRT\n",
      "[I 2023-07-12 16:47:46,186] A new study created in memory with name: no-name-39f446e8-bbec-4381-9581-90e86cc383df\n",
      "[I 2023-07-12 16:47:56,044] Trial 1 finished with value: 0.6042723655700684 and parameters: {'n_hidden': 4, 'n_units': 88, 'learning_rate': 0.07492805302294521}. Best is trial 1 with value: 0.6042723655700684.\n",
      "[I 2023-07-12 16:47:56,482] Trial 2 finished with value: 0.5836760401725769 and parameters: {'n_hidden': 5, 'n_units': 108, 'learning_rate': 0.0881081476726393}. Best is trial 2 with value: 0.5836760401725769.\n",
      "[I 2023-07-12 16:47:56,668] Trial 0 finished with value: 0.11403937637805939 and parameters: {'n_hidden': 5, 'n_units': 111, 'learning_rate': 0.08627218984545913}. Best is trial 0 with value: 0.11403937637805939.\n",
      "[I 2023-07-12 16:48:00,995] Trial 3 finished with value: 0.5808662176132202 and parameters: {'n_hidden': 4, 'n_units': 112, 'learning_rate': 0.0660311357104706}. Best is trial 0 with value: 0.11403937637805939.\n",
      "[I 2023-07-12 16:48:03,272] Trial 4 finished with value: 0.12258689105510712 and parameters: {'n_hidden': 2, 'n_units': 73, 'learning_rate': 0.045975038802388644}. Best is trial 0 with value: 0.11403937637805939.\n",
      "[I 2023-07-12 16:48:04,319] Trial 6 finished with value: 0.5808423161506653 and parameters: {'n_hidden': 2, 'n_units': 122, 'learning_rate': 0.05952264596981488}. Best is trial 0 with value: 0.11403937637805939.\n",
      "[I 2023-07-12 16:48:04,984] Trial 5 finished with value: 0.14995087683200836 and parameters: {'n_hidden': 5, 'n_units': 72, 'learning_rate': 0.0825783269506012}. Best is trial 0 with value: 0.11403937637805939.\n",
      "[I 2023-07-12 16:48:11,208] Trial 7 finished with value: 0.1415090262889862 and parameters: {'n_hidden': 5, 'n_units': 116, 'learning_rate': 0.021440155488107408}. Best is trial 0 with value: 0.11403937637805939.\n",
      "[I 2023-07-12 16:48:12,603] Trial 8 finished with value: 0.13301436603069305 and parameters: {'n_hidden': 2, 'n_units': 99, 'learning_rate': 0.05495289083581143}. Best is trial 0 with value: 0.11403937637805939.\n",
      "[I 2023-07-12 16:48:14,988] Trial 10 finished with value: 0.1435595601797104 and parameters: {'n_hidden': 2, 'n_units': 118, 'learning_rate': 0.035882130023769596}. Best is trial 0 with value: 0.11403937637805939.\n",
      "[I 2023-07-12 16:48:16,091] Trial 9 finished with value: 0.13523314893245697 and parameters: {'n_hidden': 5, 'n_units': 63, 'learning_rate': 0.06390041120153625}. Best is trial 0 with value: 0.11403937637805939.\n",
      "[I 2023-07-12 16:48:20,256] Trial 11 finished with value: 0.11456432193517685 and parameters: {'n_hidden': 4, 'n_units': 80, 'learning_rate': 0.05242512107080519}. Best is trial 0 with value: 0.11403937637805939.\n",
      "[I 2023-07-12 16:48:21,245] Trial 12 finished with value: 0.10240581631660461 and parameters: {'n_hidden': 2, 'n_units': 119, 'learning_rate': 0.02558759299255643}. Best is trial 12 with value: 0.10240581631660461.\n",
      "[I 2023-07-12 16:48:23,662] Trial 13 finished with value: 0.11877670139074326 and parameters: {'n_hidden': 3, 'n_units': 45, 'learning_rate': 0.09437612447794769}. Best is trial 12 with value: 0.10240581631660461.\n",
      "[I 2023-07-12 16:48:24,408] Trial 14 finished with value: 0.5822151303291321 and parameters: {'n_hidden': 3, 'n_units': 35, 'learning_rate': 0.09902455826027898}. Best is trial 12 with value: 0.10240581631660461.\n",
      "[I 2023-07-12 16:48:29,044] Trial 15 finished with value: 0.12696263194084167 and parameters: {'n_hidden': 4, 'n_units': 38, 'learning_rate': 0.09641391170210274}. Best is trial 12 with value: 0.10240581631660461.\n",
      "[I 2023-07-12 16:48:30,069] Trial 16 finished with value: 0.1601656824350357 and parameters: {'n_hidden': 3, 'n_units': 44, 'learning_rate': 0.09872665723435221}. Best is trial 12 with value: 0.10240581631660461.\n",
      "[I 2023-07-12 16:48:32,865] Trial 17 finished with value: 0.10248883068561554 and parameters: {'n_hidden': 3, 'n_units': 98, 'learning_rate': 0.004011086877946116}. Best is trial 12 with value: 0.10240581631660461.\n",
      "[I 2023-07-12 16:48:33,655] Trial 18 finished with value: 0.09426888078451157 and parameters: {'n_hidden': 3, 'n_units': 127, 'learning_rate': 0.004407495641071187}. Best is trial 18 with value: 0.09426888078451157.\n",
      "[I 2023-07-12 16:48:38,449] Trial 19 finished with value: 0.09616605192422867 and parameters: {'n_hidden': 3, 'n_units': 128, 'learning_rate': 0.0023842798361927917}. Best is trial 18 with value: 0.09426888078451157.\n",
      "[I 2023-07-12 16:48:39,309] Trial 20 finished with value: 0.09003244340419769 and parameters: {'n_hidden': 3, 'n_units': 128, 'learning_rate': 0.005590596877893733}. Best is trial 20 with value: 0.09003244340419769.\n",
      "[I 2023-07-12 16:48:41,976] Trial 21 finished with value: 0.09516455978155136 and parameters: {'n_hidden': 3, 'n_units': 127, 'learning_rate': 0.0010030629624041242}. Best is trial 20 with value: 0.09003244340419769.\n",
      "[I 2023-07-12 16:48:42,126] Trial 22 finished with value: 0.10583195835351944 and parameters: {'n_hidden': 2, 'n_units': 128, 'learning_rate': 0.001122033399307781}. Best is trial 20 with value: 0.09003244340419769.\n",
      "[I 2023-07-12 16:48:48,416] Trial 24 finished with value: 0.10009848326444626 and parameters: {'n_hidden': 3, 'n_units': 128, 'learning_rate': 0.000836178303463512}. Best is trial 20 with value: 0.09003244340419769.\n",
      "[I 2023-07-12 16:48:50,180] Trial 25 finished with value: 0.09499847888946533 and parameters: {'n_hidden': 3, 'n_units': 128, 'learning_rate': 0.011435143494563609}. Best is trial 20 with value: 0.09003244340419769.\n",
      "[I 2023-07-12 16:48:51,419] Trial 26 finished with value: 0.08730602264404297 and parameters: {'n_hidden': 3, 'n_units': 99, 'learning_rate': 0.01069774971885186}. Best is trial 26 with value: 0.08730602264404297.\n",
      "[I 2023-07-12 16:48:52,153] Trial 23 finished with value: 0.10629328340291977 and parameters: {'n_hidden': 3, 'n_units': 128, 'learning_rate': 0.0008856401577100729}. Best is trial 26 with value: 0.08730602264404297.\n",
      "[I 2023-07-12 16:48:59,620] Trial 30 finished with value: 0.11556608974933624 and parameters: {'n_hidden': 4, 'n_units': 100, 'learning_rate': 0.012839275410179044}. Best is trial 26 with value: 0.08730602264404297.\n",
      "[I 2023-07-12 16:49:00,507] Trial 29 finished with value: 0.10107478499412537 and parameters: {'n_hidden': 4, 'n_units': 101, 'learning_rate': 0.012490155333699786}. Best is trial 26 with value: 0.08730602264404297.\n",
      "[I 2023-07-12 16:49:00,906] Trial 27 finished with value: 0.10165052860975266 and parameters: {'n_hidden': 3, 'n_units': 102, 'learning_rate': 0.012377189113052892}. Best is trial 26 with value: 0.08730602264404297.\n",
      "[I 2023-07-12 16:49:03,283] Trial 28 finished with value: 0.09297392517328262 and parameters: {'n_hidden': 3, 'n_units': 100, 'learning_rate': 0.012267830283194614}. Best is trial 26 with value: 0.08730602264404297.\n",
      "[I 2023-07-12 16:49:06,105] Trial 31 finished with value: 0.10616324096918106 and parameters: {'n_hidden': 4, 'n_units': 106, 'learning_rate': 0.011604580211084278}. Best is trial 26 with value: 0.08730602264404297.\n",
      "[I 2023-07-12 16:49:08,795] Trial 32 finished with value: 0.12665176391601562 and parameters: {'n_hidden': 3, 'n_units': 91, 'learning_rate': 0.022277452814393625}. Best is trial 26 with value: 0.08730602264404297.\n",
      "[I 2023-07-12 16:49:09,264] Trial 33 finished with value: 0.0911240428686142 and parameters: {'n_hidden': 3, 'n_units': 108, 'learning_rate': 0.022249150630983525}. Best is trial 26 with value: 0.08730602264404297.\n",
      "[I 2023-07-12 16:49:12,084] Trial 34 finished with value: 0.09355837106704712 and parameters: {'n_hidden': 3, 'n_units': 91, 'learning_rate': 0.019282891362657317}. Best is trial 26 with value: 0.08730602264404297.\n"
     ]
    },
    {
     "name": "stderr",
     "output_type": "stream",
     "text": [
      "[I 2023-07-12 16:49:14,568] Trial 35 finished with value: 0.11156931519508362 and parameters: {'n_hidden': 3, 'n_units': 91, 'learning_rate': 0.024107083344860798}. Best is trial 26 with value: 0.08730602264404297.\n",
      "[I 2023-07-12 16:49:17,969] Trial 36 finished with value: 0.09685343503952026 and parameters: {'n_hidden': 3, 'n_units': 91, 'learning_rate': 0.01921396122196267}. Best is trial 26 with value: 0.08730602264404297.\n",
      "[I 2023-07-12 16:49:18,931] Trial 37 finished with value: 0.6082568168640137 and parameters: {'n_hidden': 3, 'n_units': 90, 'learning_rate': 0.0310398831918853}. Best is trial 26 with value: 0.08730602264404297.\n",
      "[I 2023-07-12 16:49:22,737] Trial 38 finished with value: 0.13187554478645325 and parameters: {'n_hidden': 3, 'n_units': 112, 'learning_rate': 0.03123335998905604}. Best is trial 26 with value: 0.08730602264404297.\n",
      "[I 2023-07-12 16:49:24,323] Trial 39 finished with value: 0.18196134269237518 and parameters: {'n_hidden': 4, 'n_units': 113, 'learning_rate': 0.031138819036563528}. Best is trial 26 with value: 0.08730602264404297.\n",
      "[I 2023-07-12 16:49:26,952] Trial 40 finished with value: 0.13200949132442474 and parameters: {'n_hidden': 2, 'n_units': 110, 'learning_rate': 0.030313920708264417}. Best is trial 26 with value: 0.08730602264404297.\n",
      "[I 2023-07-12 16:49:28,462] Trial 41 finished with value: 0.12048276513814926 and parameters: {'n_hidden': 4, 'n_units': 111, 'learning_rate': 0.04114497683155467}. Best is trial 26 with value: 0.08730602264404297.\n",
      "[I 2023-07-12 16:49:31,496] Trial 42 finished with value: 0.10594350099563599 and parameters: {'n_hidden': 2, 'n_units': 84, 'learning_rate': 0.007192402848938207}. Best is trial 26 with value: 0.08730602264404297.\n",
      "[I 2023-07-12 16:49:32,740] Trial 43 finished with value: 0.5807942152023315 and parameters: {'n_hidden': 2, 'n_units': 81, 'learning_rate': 0.04293134393307633}. Best is trial 26 with value: 0.08730602264404297.\n",
      "[I 2023-07-12 16:49:35,928] Trial 44 finished with value: 0.09913550317287445 and parameters: {'n_hidden': 3, 'n_units': 84, 'learning_rate': 0.017466672291827294}. Best is trial 26 with value: 0.08730602264404297.\n",
      "[I 2023-07-12 16:49:36,977] Trial 45 finished with value: 0.11281593143939972 and parameters: {'n_hidden': 3, 'n_units': 86, 'learning_rate': 0.018388010814080098}. Best is trial 26 with value: 0.08730602264404297.\n",
      "[I 2023-07-12 16:49:40,729] Trial 46 finished with value: 0.11953698098659515 and parameters: {'n_hidden': 3, 'n_units': 95, 'learning_rate': 0.016425148087995646}. Best is trial 26 with value: 0.08730602264404297.\n",
      "[I 2023-07-12 16:49:41,556] Trial 47 finished with value: 0.09247887879610062 and parameters: {'n_hidden': 3, 'n_units': 73, 'learning_rate': 0.017807625248435512}. Best is trial 26 with value: 0.08730602264404297.\n",
      "[I 2023-07-12 16:49:45,002] Trial 48 finished with value: 0.09725084155797958 and parameters: {'n_hidden': 3, 'n_units': 95, 'learning_rate': 0.016823179436635617}. Best is trial 26 with value: 0.08730602264404297.\n",
      "[I 2023-07-12 16:49:45,934] Trial 49 finished with value: 0.10022523999214172 and parameters: {'n_hidden': 3, 'n_units': 96, 'learning_rate': 0.008231827188194842}. Best is trial 26 with value: 0.08730602264404297.\n",
      "[I 2023-07-12 16:49:49,938] Trial 50 finished with value: 0.0948929488658905 and parameters: {'n_hidden': 3, 'n_units': 73, 'learning_rate': 0.008645563588638423}. Best is trial 26 with value: 0.08730602264404297.\n",
      "[I 2023-07-12 16:49:51,390] Trial 51 finished with value: 0.09912684559822083 and parameters: {'n_hidden': 2, 'n_units': 68, 'learning_rate': 0.006611787689157895}. Best is trial 26 with value: 0.08730602264404297.\n",
      "[I 2023-07-12 16:49:54,477] Trial 52 finished with value: 0.09351690113544464 and parameters: {'n_hidden': 4, 'n_units': 64, 'learning_rate': 0.008193507351639021}. Best is trial 26 with value: 0.08730602264404297.\n",
      "[I 2023-07-12 16:49:54,920] Trial 53 finished with value: 0.10417670011520386 and parameters: {'n_hidden': 2, 'n_units': 71, 'learning_rate': 0.007760271001319568}. Best is trial 26 with value: 0.08730602264404297.\n",
      "[I 2023-07-12 16:49:58,778] Trial 54 finished with value: 0.1270919144153595 and parameters: {'n_hidden': 3, 'n_units': 69, 'learning_rate': 0.025346036900635124}. Best is trial 26 with value: 0.08730602264404297.\n",
      "[I 2023-07-12 16:50:00,014] Trial 55 finished with value: 0.11421843618154526 and parameters: {'n_hidden': 3, 'n_units': 60, 'learning_rate': 0.023848103964433}. Best is trial 26 with value: 0.08730602264404297.\n",
      "[I 2023-07-12 16:50:04,029] Trial 56 finished with value: 0.1127532497048378 and parameters: {'n_hidden': 4, 'n_units': 58, 'learning_rate': 0.00576058075104563}. Best is trial 26 with value: 0.08730602264404297.\n",
      "[I 2023-07-12 16:50:04,305] Trial 57 finished with value: 0.11678285151720047 and parameters: {'n_hidden': 4, 'n_units': 57, 'learning_rate': 0.024695370343750807}. Best is trial 26 with value: 0.08730602264404297.\n",
      "[I 2023-07-12 16:50:08,129] Trial 58 finished with value: 0.10180940479040146 and parameters: {'n_hidden': 4, 'n_units': 55, 'learning_rate': 0.0047286571581035925}. Best is trial 26 with value: 0.08730602264404297.\n",
      "[I 2023-07-12 16:50:09,420] Trial 59 finished with value: 0.10546974092721939 and parameters: {'n_hidden': 4, 'n_units': 55, 'learning_rate': 0.013282707750047935}. Best is trial 26 with value: 0.08730602264404297.\n",
      "[I 2023-07-12 16:50:14,673] Trial 61 finished with value: 0.13493874669075012 and parameters: {'n_hidden': 5, 'n_units': 106, 'learning_rate': 0.015344610989933866}. Best is trial 26 with value: 0.08730602264404297.\n",
      "[I 2023-07-12 16:50:15,181] Trial 60 finished with value: 0.12331809103488922 and parameters: {'n_hidden': 5, 'n_units': 122, 'learning_rate': 0.015191751011335826}. Best is trial 26 with value: 0.08730602264404297.\n",
      "[I 2023-07-12 16:50:18,753] Trial 62 finished with value: 0.10330186784267426 and parameters: {'n_hidden': 5, 'n_units': 120, 'learning_rate': 0.01621878912300604}. Best is trial 26 with value: 0.08730602264404297.\n",
      "[I 2023-07-12 16:50:19,767] Trial 63 finished with value: 0.11928386241197586 and parameters: {'n_hidden': 5, 'n_units': 75, 'learning_rate': 0.016249067865838226}. Best is trial 26 with value: 0.08730602264404297.\n",
      "[I 2023-07-12 16:50:24,602] Trial 64 finished with value: 0.09826234728097916 and parameters: {'n_hidden': 3, 'n_units': 121, 'learning_rate': 0.009256262948210265}. Best is trial 26 with value: 0.08730602264404297.\n",
      "[I 2023-07-12 16:50:26,170] Trial 65 finished with value: 0.11952920258045197 and parameters: {'n_hidden': 3, 'n_units': 76, 'learning_rate': 0.020348708869703414}. Best is trial 26 with value: 0.08730602264404297.\n",
      "[I 2023-07-12 16:50:28,331] Trial 66 finished with value: 0.1158817932009697 and parameters: {'n_hidden': 3, 'n_units': 77, 'learning_rate': 0.009705472206444327}. Best is trial 26 with value: 0.08730602264404297.\n",
      "[I 2023-07-12 16:50:29,749] Trial 67 finished with value: 0.10690247267484665 and parameters: {'n_hidden': 3, 'n_units': 76, 'learning_rate': 0.020452350000183438}. Best is trial 26 with value: 0.08730602264404297.\n",
      "[I 2023-07-12 16:50:34,356] Trial 68 finished with value: 0.10959890484809875 and parameters: {'n_hidden': 3, 'n_units': 77, 'learning_rate': 0.019212764712244333}. Best is trial 26 with value: 0.08730602264404297.\n",
      "[I 2023-07-12 16:50:35,846] Trial 69 finished with value: 0.1215999498963356 and parameters: {'n_hidden': 3, 'n_units': 105, 'learning_rate': 0.02118116859504208}. Best is trial 26 with value: 0.08730602264404297.\n",
      "[I 2023-07-12 16:50:37,511] Trial 70 finished with value: 0.11224774271249771 and parameters: {'n_hidden': 3, 'n_units': 65, 'learning_rate': 0.021500717065676477}. Best is trial 26 with value: 0.08730602264404297.\n",
      "[I 2023-07-12 16:50:38,544] Trial 71 finished with value: 0.09802764654159546 and parameters: {'n_hidden': 3, 'n_units': 65, 'learning_rate': 0.005193597436337894}. Best is trial 26 with value: 0.08730602264404297.\n",
      "[I 2023-07-12 16:50:42,728] Trial 72 finished with value: 0.10615511983633041 and parameters: {'n_hidden': 3, 'n_units': 64, 'learning_rate': 0.0034003964547929806}. Best is trial 26 with value: 0.08730602264404297.\n",
      "[I 2023-07-12 16:50:44,938] Trial 73 finished with value: 0.10399787127971649 and parameters: {'n_hidden': 3, 'n_units': 116, 'learning_rate': 0.0028953566432910033}. Best is trial 26 with value: 0.08730602264404297.\n"
     ]
    },
    {
     "name": "stderr",
     "output_type": "stream",
     "text": [
      "[I 2023-07-12 16:50:46,344] Trial 74 finished with value: 0.09022025018930435 and parameters: {'n_hidden': 3, 'n_units': 115, 'learning_rate': 0.004912681469782592}. Best is trial 26 with value: 0.08730602264404297.\n",
      "[I 2023-07-12 16:50:47,279] Trial 75 finished with value: 0.09423840045928955 and parameters: {'n_hidden': 3, 'n_units': 125, 'learning_rate': 0.0027730210843626797}. Best is trial 26 with value: 0.08730602264404297.\n",
      "[I 2023-07-12 16:50:51,187] Trial 76 finished with value: 0.09004227072000504 and parameters: {'n_hidden': 3, 'n_units': 115, 'learning_rate': 0.012018997048956582}. Best is trial 26 with value: 0.08730602264404297.\n",
      "[I 2023-07-12 16:50:54,810] Trial 78 finished with value: 0.1083555743098259 and parameters: {'n_hidden': 3, 'n_units': 115, 'learning_rate': 0.01023206937629893}. Best is trial 26 with value: 0.08730602264404297.\n",
      "[I 2023-07-12 16:50:55,086] Trial 79 finished with value: 0.09939271211624146 and parameters: {'n_hidden': 3, 'n_units': 102, 'learning_rate': 0.012076325604055204}. Best is trial 26 with value: 0.08730602264404297.\n",
      "[I 2023-07-12 16:50:58,250] Trial 80 finished with value: 0.10539374500513077 and parameters: {'n_hidden': 3, 'n_units': 116, 'learning_rate': 0.011842380598084932}. Best is trial 26 with value: 0.08730602264404297.\n",
      "[I 2023-07-12 16:50:58,635] Trial 77 finished with value: 0.11165156215429306 and parameters: {'n_hidden': 3, 'n_units': 125, 'learning_rate': 0.010474242727127596}. Best is trial 26 with value: 0.08730602264404297.\n",
      "[I 2023-07-12 16:51:03,542] Trial 81 finished with value: 0.0927344411611557 and parameters: {'n_hidden': 4, 'n_units': 109, 'learning_rate': 0.012971059437927689}. Best is trial 26 with value: 0.08730602264404297.\n",
      "[I 2023-07-12 16:51:04,425] Trial 82 finished with value: 0.10514723509550095 and parameters: {'n_hidden': 4, 'n_units': 109, 'learning_rate': 0.014029907416932162}. Best is trial 26 with value: 0.08730602264404297.\n",
      "[I 2023-07-12 16:51:07,358] Trial 83 finished with value: 0.104815773665905 and parameters: {'n_hidden': 4, 'n_units': 109, 'learning_rate': 0.014177561759474863}. Best is trial 26 with value: 0.08730602264404297.\n",
      "[I 2023-07-12 16:51:07,791] Trial 84 finished with value: 0.09472443908452988 and parameters: {'n_hidden': 3, 'n_units': 108, 'learning_rate': 0.014233368147824648}. Best is trial 26 with value: 0.08730602264404297.\n",
      "[I 2023-07-12 16:51:12,676] Trial 85 finished with value: 0.11690565198659897 and parameters: {'n_hidden': 4, 'n_units': 109, 'learning_rate': 0.007393483876600612}. Best is trial 26 with value: 0.08730602264404297.\n",
      "[I 2023-07-12 16:51:13,947] Trial 86 finished with value: 0.09884025156497955 and parameters: {'n_hidden': 4, 'n_units': 104, 'learning_rate': 0.006772435342703538}. Best is trial 26 with value: 0.08730602264404297.\n",
      "[I 2023-07-12 16:51:16,704] Trial 87 finished with value: 0.09871368855237961 and parameters: {'n_hidden': 4, 'n_units': 118, 'learning_rate': 0.006789454603319533}. Best is trial 26 with value: 0.08730602264404297.\n",
      "[I 2023-07-12 16:51:17,021] Trial 88 finished with value: 0.09911886602640152 and parameters: {'n_hidden': 4, 'n_units': 104, 'learning_rate': 0.0067745229688677445}. Best is trial 26 with value: 0.08730602264404297.\n",
      "[I 2023-07-12 16:51:22,051] Trial 89 finished with value: 0.09820031374692917 and parameters: {'n_hidden': 4, 'n_units': 104, 'learning_rate': 0.0009293905054673438}. Best is trial 26 with value: 0.08730602264404297.\n",
      "[I 2023-07-12 16:51:23,598] Trial 90 finished with value: 0.10365196317434311 and parameters: {'n_hidden': 4, 'n_units': 113, 'learning_rate': 0.0006598441495816055}. Best is trial 26 with value: 0.08730602264404297.\n",
      "[I 2023-07-12 16:51:25,727] Trial 91 finished with value: 0.09921278059482574 and parameters: {'n_hidden': 3, 'n_units': 113, 'learning_rate': 0.010005616039807395}. Best is trial 26 with value: 0.08730602264404297.\n",
      "[I 2023-07-12 16:51:25,840] Trial 92 finished with value: 0.10207908600568771 and parameters: {'n_hidden': 3, 'n_units': 112, 'learning_rate': 0.00040908519503198015}. Best is trial 26 with value: 0.08730602264404297.\n",
      "[I 2023-07-12 16:51:31,379] Trial 93 finished with value: 0.09389771521091461 and parameters: {'n_hidden': 3, 'n_units': 113, 'learning_rate': 0.009595911728543353}. Best is trial 26 with value: 0.08730602264404297.\n",
      "[I 2023-07-12 16:51:32,968] Trial 94 finished with value: 0.09299127757549286 and parameters: {'n_hidden': 3, 'n_units': 97, 'learning_rate': 0.018745342613140488}. Best is trial 26 with value: 0.08730602264404297.\n",
      "[I 2023-07-12 16:51:35,867] Trial 95 finished with value: 0.1142568588256836 and parameters: {'n_hidden': 3, 'n_units': 98, 'learning_rate': 0.01846869038827488}. Best is trial 26 with value: 0.08730602264404297.\n",
      "[I 2023-07-12 16:51:38,699] Trial 97 finished with value: 0.10691377520561218 and parameters: {'n_hidden': 3, 'n_units': 98, 'learning_rate': 0.017538333984257623}. Best is trial 26 with value: 0.08730602264404297.\n",
      "[I 2023-07-12 16:51:39,542] Trial 96 finished with value: 0.10798419266939163 and parameters: {'n_hidden': 3, 'n_units': 98, 'learning_rate': 0.017717156402063543}. Best is trial 26 with value: 0.08730602264404297.\n",
      "[I 2023-07-12 16:51:40,294] Trial 98 finished with value: 0.11091998964548111 and parameters: {'n_hidden': 3, 'n_units': 99, 'learning_rate': 0.01770279750700528}. Best is trial 26 with value: 0.08730602264404297.\n",
      "[I 2023-07-12 16:51:43,185] Trial 99 finished with value: 0.1096729263663292 and parameters: {'n_hidden': 3, 'n_units': 93, 'learning_rate': 0.004418035381885213}. Best is trial 26 with value: 0.08730602264404297.\n",
      "[I 2023-07-12 16:51:47,752] Trial 100 finished with value: 0.09754025191068649 and parameters: {'n_hidden': 3, 'n_units': 94, 'learning_rate': 0.004327926110448648}. Best is trial 26 with value: 0.08730602264404297.\n",
      "[I 2023-07-12 16:51:48,985] Trial 102 finished with value: 0.09137600660324097 and parameters: {'n_hidden': 3, 'n_units': 94, 'learning_rate': 0.004500763870487449}. Best is trial 26 with value: 0.08730602264404297.\n",
      "[I 2023-07-12 16:51:50,804] Trial 103 finished with value: 0.13098742067813873 and parameters: {'n_hidden': 3, 'n_units': 118, 'learning_rate': 0.027353358178265848}. Best is trial 26 with value: 0.08730602264404297.\n",
      "[I 2023-07-12 16:51:53,539] Trial 101 finished with value: 0.0958326980471611 and parameters: {'n_hidden': 3, 'n_units': 94, 'learning_rate': 0.0040858486605793755}. Best is trial 26 with value: 0.08730602264404297.\n",
      "[I 2023-07-12 16:51:54,981] Trial 104 finished with value: 0.09215609729290009 and parameters: {'n_hidden': 3, 'n_units': 100, 'learning_rate': 0.012711375891362096}. Best is trial 26 with value: 0.08730602264404297.\n",
      "[I 2023-07-12 16:51:56,172] Trial 105 finished with value: 0.12367099523544312 and parameters: {'n_hidden': 3, 'n_units': 88, 'learning_rate': 0.011964519611405787}. Best is trial 26 with value: 0.08730602264404297.\n",
      "[I 2023-07-12 16:51:58,009] Trial 106 finished with value: 0.11340181529521942 and parameters: {'n_hidden': 3, 'n_units': 107, 'learning_rate': 0.01255259657064055}. Best is trial 26 with value: 0.08730602264404297.\n",
      "[I 2023-07-12 16:52:02,184] Trial 107 finished with value: 0.13793009519577026 and parameters: {'n_hidden': 3, 'n_units': 88, 'learning_rate': 0.012478218722764646}. Best is trial 26 with value: 0.08730602264404297.\n",
      "[I 2023-07-12 16:52:04,193] Trial 108 finished with value: 0.14063332974910736 and parameters: {'n_hidden': 3, 'n_units': 87, 'learning_rate': 0.013093148153853366}. Best is trial 26 with value: 0.08730602264404297.\n",
      "[I 2023-07-12 16:52:06,634] Trial 109 finished with value: 0.10649922490119934 and parameters: {'n_hidden': 3, 'n_units': 102, 'learning_rate': 0.01286521416171774}. Best is trial 26 with value: 0.08730602264404297.\n",
      "[I 2023-07-12 16:52:06,641] Trial 110 finished with value: 0.1194009855389595 and parameters: {'n_hidden': 3, 'n_units': 100, 'learning_rate': 0.015470889144021177}. Best is trial 26 with value: 0.08730602264404297.\n",
      "[I 2023-07-12 16:52:10,703] Trial 111 finished with value: 0.10005556046962738 and parameters: {'n_hidden': 3, 'n_units': 103, 'learning_rate': 0.015504523959779512}. Best is trial 26 with value: 0.08730602264404297.\n"
     ]
    },
    {
     "name": "stderr",
     "output_type": "stream",
     "text": [
      "[I 2023-07-12 16:52:12,951] Trial 112 finished with value: 0.09361928701400757 and parameters: {'n_hidden': 3, 'n_units': 124, 'learning_rate': 0.015381630727672641}. Best is trial 26 with value: 0.08730602264404297.\n",
      "[I 2023-07-12 16:52:15,401] Trial 114 finished with value: 0.10207746922969818 and parameters: {'n_hidden': 3, 'n_units': 102, 'learning_rate': 0.009725279369680045}. Best is trial 26 with value: 0.08730602264404297.\n",
      "[I 2023-07-12 16:52:17,907] Trial 115 finished with value: 0.095982126891613 and parameters: {'n_hidden': 3, 'n_units': 96, 'learning_rate': 0.008813943791721505}. Best is trial 26 with value: 0.08730602264404297.\n",
      "[I 2023-07-12 16:52:20,219] Trial 113 finished with value: 0.09043525159358978 and parameters: {'n_hidden': 3, 'n_units': 81, 'learning_rate': 0.008275542919628988}. Best is trial 26 with value: 0.08730602264404297.\n",
      "[I 2023-07-12 16:52:20,757] Trial 116 finished with value: 0.10086743533611298 and parameters: {'n_hidden': 3, 'n_units': 96, 'learning_rate': 0.009809364301456612}. Best is trial 26 with value: 0.08730602264404297.\n",
      "[I 2023-07-12 16:52:21,550] Trial 117 finished with value: 0.09591974318027496 and parameters: {'n_hidden': 3, 'n_units': 96, 'learning_rate': 0.00827765939933503}. Best is trial 26 with value: 0.08730602264404297.\n",
      "[I 2023-07-12 16:52:24,654] Trial 118 finished with value: 0.1007734164595604 and parameters: {'n_hidden': 3, 'n_units': 82, 'learning_rate': 0.005586941046154039}. Best is trial 26 with value: 0.08730602264404297.\n",
      "[I 2023-07-12 16:52:28,976] Trial 119 finished with value: 0.08701537549495697 and parameters: {'n_hidden': 3, 'n_units': 90, 'learning_rate': 0.005280697109018578}. Best is trial 119 with value: 0.08701537549495697.\n",
      "[I 2023-07-12 16:52:29,371] Trial 120 finished with value: 0.11584271490573883 and parameters: {'n_hidden': 3, 'n_units': 82, 'learning_rate': 0.02294475762264091}. Best is trial 119 with value: 0.08701537549495697.\n",
      "[I 2023-07-12 16:52:30,064] Trial 121 finished with value: 0.10105565190315247 and parameters: {'n_hidden': 3, 'n_units': 84, 'learning_rate': 0.006314377830750498}. Best is trial 119 with value: 0.08701537549495697.\n",
      "[I 2023-07-12 16:52:33,092] Trial 122 finished with value: 0.10128798335790634 and parameters: {'n_hidden': 3, 'n_units': 106, 'learning_rate': 0.0031661990167806634}. Best is trial 119 with value: 0.08701537549495697.\n",
      "[I 2023-07-12 16:52:38,187] Trial 124 finished with value: 0.10509061813354492 and parameters: {'n_hidden': 3, 'n_units': 92, 'learning_rate': 0.003453307654712628}. Best is trial 119 with value: 0.08701537549495697.\n",
      "[I 2023-07-12 16:52:39,526] Trial 123 finished with value: 0.11798892915248871 and parameters: {'n_hidden': 3, 'n_units': 85, 'learning_rate': 0.002838757679501518}. Best is trial 119 with value: 0.08701537549495697.\n",
      "[I 2023-07-12 16:52:40,464] Trial 126 finished with value: 0.11389753222465515 and parameters: {'n_hidden': 3, 'n_units': 79, 'learning_rate': 0.01992873669887188}. Best is trial 119 with value: 0.08701537549495697.\n",
      "[I 2023-07-12 16:52:43,858] Trial 125 finished with value: 0.09679152071475983 and parameters: {'n_hidden': 3, 'n_units': 92, 'learning_rate': 0.0026195860639540505}. Best is trial 119 with value: 0.08701537549495697.\n",
      "[I 2023-07-12 16:52:44,902] Trial 127 finished with value: 0.10887099802494049 and parameters: {'n_hidden': 3, 'n_units': 101, 'learning_rate': 0.019823629668175927}. Best is trial 119 with value: 0.08701537549495697.\n",
      "[I 2023-07-12 16:52:47,110] Trial 128 finished with value: 0.11320861428976059 and parameters: {'n_hidden': 3, 'n_units': 79, 'learning_rate': 0.01170103858501149}. Best is trial 119 with value: 0.08701537549495697.\n",
      "[I 2023-07-12 16:52:47,863] Trial 129 finished with value: 0.10016705840826035 and parameters: {'n_hidden': 3, 'n_units': 90, 'learning_rate': 0.010787074627678903}. Best is trial 119 with value: 0.08701537549495697.\n",
      "[I 2023-07-12 16:52:53,245] Trial 131 finished with value: 0.11827216297388077 and parameters: {'n_hidden': 3, 'n_units': 90, 'learning_rate': 0.011181024146353104}. Best is trial 119 with value: 0.08701537549495697.\n",
      "[I 2023-07-12 16:52:54,490] Trial 132 finished with value: 0.10205302387475967 and parameters: {'n_hidden': 2, 'n_units': 70, 'learning_rate': 0.00809921189554096}. Best is trial 119 with value: 0.08701537549495697.\n",
      "[I 2023-07-12 16:52:55,649] Trial 133 finished with value: 0.10052289813756943 and parameters: {'n_hidden': 3, 'n_units': 100, 'learning_rate': 0.005964360555455791}. Best is trial 119 with value: 0.08701537549495697.\n",
      "[I 2023-07-12 16:52:57,377] Trial 130 finished with value: 0.12404927611351013 and parameters: {'n_hidden': 3, 'n_units': 89, 'learning_rate': 0.010977699881761093}. Best is trial 119 with value: 0.08701537549495697.\n",
      "[I 2023-07-12 16:53:00,271] Trial 134 finished with value: 0.09793750196695328 and parameters: {'n_hidden': 3, 'n_units': 115, 'learning_rate': 0.008130656350325038}. Best is trial 119 with value: 0.08701537549495697.\n",
      "[I 2023-07-12 16:53:02,384] Trial 135 finished with value: 0.10911034792661667 and parameters: {'n_hidden': 3, 'n_units': 74, 'learning_rate': 0.005669560170124453}. Best is trial 119 with value: 0.08701537549495697.\n",
      "[I 2023-07-12 16:53:03,647] Trial 136 finished with value: 0.10311775654554367 and parameters: {'n_hidden': 3, 'n_units': 61, 'learning_rate': 0.014581692774428489}. Best is trial 119 with value: 0.08701537549495697.\n",
      "[I 2023-07-12 16:53:08,665] Trial 138 finished with value: 0.13842365145683289 and parameters: {'n_hidden': 4, 'n_units': 46, 'learning_rate': 0.014315415068927083}. Best is trial 119 with value: 0.08701537549495697.\n",
      "[I 2023-07-12 16:53:08,703] Trial 137 finished with value: 0.15750761330127716 and parameters: {'n_hidden': 4, 'n_units': 111, 'learning_rate': 0.014258598149052188}. Best is trial 119 with value: 0.08701537549495697.\n",
      "[I 2023-07-12 16:53:11,525] Trial 139 finished with value: 0.1354433298110962 and parameters: {'n_hidden': 4, 'n_units': 49, 'learning_rate': 0.013833645901586193}. Best is trial 119 with value: 0.08701537549495697.\n",
      "[I 2023-07-12 16:53:12,734] Trial 140 finished with value: 1.064277172088623 and parameters: {'n_hidden': 4, 'n_units': 111, 'learning_rate': 4.0328381337724484e-05}. Best is trial 119 with value: 0.08701537549495697.\n",
      "[I 2023-07-12 16:53:17,760] Trial 141 finished with value: 0.10105365514755249 and parameters: {'n_hidden': 3, 'n_units': 51, 'learning_rate': 0.022592110123251772}. Best is trial 119 with value: 0.08701537549495697.\n",
      "[I 2023-07-12 16:53:17,844] Trial 142 finished with value: 0.09643878042697906 and parameters: {'n_hidden': 3, 'n_units': 68, 'learning_rate': 0.007945270648341728}. Best is trial 119 with value: 0.08701537549495697.\n",
      "[I 2023-07-12 16:53:20,719] Trial 143 finished with value: 0.10935450345277786 and parameters: {'n_hidden': 3, 'n_units': 123, 'learning_rate': 0.016874550723173478}. Best is trial 119 with value: 0.08701537549495697.\n",
      "[I 2023-07-12 16:53:21,131] Trial 144 finished with value: 0.10320959240198135 and parameters: {'n_hidden': 3, 'n_units': 94, 'learning_rate': 0.01794931880858082}. Best is trial 119 with value: 0.08701537549495697.\n",
      "[I 2023-07-12 16:53:26,476] Trial 145 finished with value: 0.1408425271511078 and parameters: {'n_hidden': 3, 'n_units': 68, 'learning_rate': 0.017315944964004945}. Best is trial 119 with value: 0.08701537549495697.\n",
      "[I 2023-07-12 16:53:26,504] Trial 146 finished with value: 0.11512137204408646 and parameters: {'n_hidden': 3, 'n_units': 97, 'learning_rate': 0.016729737767141664}. Best is trial 119 with value: 0.08701537549495697.\n",
      "[I 2023-07-12 16:53:28,575] Trial 147 finished with value: 0.09767592698335648 and parameters: {'n_hidden': 3, 'n_units': 94, 'learning_rate': 0.018856373314194187}. Best is trial 119 with value: 0.08701537549495697.\n",
      "[I 2023-07-12 16:53:28,832] Trial 148 finished with value: 0.11527243256568909 and parameters: {'n_hidden': 3, 'n_units': 107, 'learning_rate': 0.021716751964715394}. Best is trial 119 with value: 0.08701537549495697.\n",
      "[I 2023-07-12 16:53:30,544] Trial 149 finished with value: 0.10597380250692368 and parameters: {'n_hidden': 3, 'n_units': 107, 'learning_rate': 0.020621735199654045}. Best is trial 119 with value: 0.08701537549495697.\n"
     ]
    }
   ],
   "source": [
    "import tensorflow\n",
    "from keras import Sequential\n",
    "from keras.layers import Dense\n",
    "\n",
    "def create_model(trial):\n",
    "\n",
    "    n_hidden = trial.suggest_int('n_hidden', 2, 5)\n",
    "    n_units = trial.suggest_int('n_units', 32, 128)\n",
    "    learning_rate = trial.suggest_float('learning_rate', 1e-5, 1e-1)\n",
    "\n",
    "    model = Sequential()\n",
    "    model.add(Dense(n_units, input_dim=X_train.shape[1], activation='relu'))\n",
    "\n",
    "    for i in range(n_hidden):\n",
    "        model.add(Dense(n_units, activation='relu'))\n",
    "\n",
    "    model.add(Dense(1))\n",
    "    model.compile(loss='mean_squared_error',\n",
    "                  optimizer=tensorflow.keras.optimizers.legacy.Adam(learning_rate=learning_rate),\n",
    "                  metrics=tensorflow.keras.metrics.MeanSquaredError())\n",
    "    return model\n",
    "\n",
    "\n",
    "# objective function to be minimized\n",
    "def objective_fun(trial):\n",
    "\n",
    "    model = create_model(trial)\n",
    "    model.fit(X_train, y_train, epochs=30, batch_size=128, validation_data=(X_valid, y_valid), verbose=False)\n",
    "\n",
    "    error = model.evaluate(X_valid, y_valid, verbose=False)[1]\n",
    "\n",
    "    return error\n",
    "\n",
    "\n",
    "study = optuna.create_study()\n",
    "study.optimize(objective_fun, n_trials=150, n_jobs=-1)"
   ]
  },
  {
   "cell_type": "code",
   "execution_count": 18,
   "metadata": {
    "ExecuteTime": {
     "end_time": "2023-07-05T13:55:48.929161Z",
     "start_time": "2023-07-05T13:55:48.926101Z"
    }
   },
   "outputs": [
    {
     "data": {
      "text/plain": [
       "{'n_hidden': 3, 'n_units': 90, 'learning_rate': 0.005280697109018578}"
      ]
     },
     "execution_count": 18,
     "metadata": {},
     "output_type": "execute_result"
    }
   ],
   "source": [
    "study.best_params"
   ]
  },
  {
   "cell_type": "code",
   "execution_count": 19,
   "metadata": {
    "ExecuteTime": {
     "end_time": "2023-07-05T13:55:49.633885Z",
     "start_time": "2023-07-05T13:55:48.929718Z"
    }
   },
   "outputs": [
    {
     "name": "stdout",
     "output_type": "stream",
     "text": [
      "12/12 [==============================] - 0s 2ms/step\n",
      "Normalized root mean squared error = 0.1134\n",
      "R-squared = 0.7020\n"
     ]
    }
   ],
   "source": [
    "model = create_model(study.best_trial)\n",
    "model.fit(X_train, y_train, epochs=30, batch_size=128, validation_data=(X_valid, y_valid), verbose=False)\n",
    "\n",
    "y_pred_test = model.predict(X_test)\n",
    "\n",
    "nrmse = np.sqrt(mean_squared_error(y_test, y_pred_test)) / (np.max(y_test) - np.min(y_test))\n",
    "\n",
    "print('Normalized root mean squared error = %.4f' % nrmse)\n",
    "print('R-squared = %.4f' % r2_score(y_test, y_pred_test))"
   ]
  },
  {
   "cell_type": "code",
   "execution_count": 20,
   "metadata": {
    "ExecuteTime": {
     "end_time": "2023-07-05T13:55:49.675859Z",
     "start_time": "2023-07-05T13:55:49.634286Z"
    }
   },
   "outputs": [
    {
     "name": "stdout",
     "output_type": "stream",
     "text": [
      "32/32 [==============================] - 0s 2ms/step\n"
     ]
    },
    {
     "data": {
      "text/plain": [
       "array([[1.0203294e-02],\n",
       "       [1.1335000e-02],\n",
       "       [8.6876182e-03],\n",
       "       ...,\n",
       "       [8.5812746e-05],\n",
       "       [9.8609424e-05],\n",
       "       [7.7260767e-05]], dtype=float32)"
      ]
     },
     "execution_count": 20,
     "metadata": {},
     "output_type": "execute_result"
    }
   ],
   "source": [
    "y_pred = model.predict(X_to_pred)\n",
    "y_pred = np.power(10, y_pred)\n",
    "y_pred"
   ]
  },
  {
   "cell_type": "code",
   "execution_count": 21,
   "metadata": {
    "ExecuteTime": {
     "end_time": "2023-07-05T13:55:49.710740Z",
     "start_time": "2023-07-05T13:55:49.676452Z"
    }
   },
   "outputs": [],
   "source": [
    "df_zero_ann = df_zero.copy()\n",
    "df_ann = df.copy()\n",
    "\n",
    "df_zero_ann[TARGET] = y_pred\n",
    "df_ann.update(df_zero_ann)"
   ]
  },
  {
   "cell_type": "code",
   "execution_count": 22,
   "metadata": {
    "ExecuteTime": {
     "end_time": "2023-07-05T13:55:49.928617Z",
     "start_time": "2023-07-05T13:55:49.710877Z"
    }
   },
   "outputs": [
    {
     "data": {
      "image/png": "[encoded data removed]",
      "text/plain": [
       "<Figure size 640x480 with 1 Axes>"
      ]
     },
     "metadata": {},
     "output_type": "display_data"
    }
   ],
   "source": [
    "sns.histplot(data=df_ann, x=TARGET, stat='density')\n",
    "plt.xlabel(f'{TARGET}')\n",
    "plt.ylabel('Density')\n",
    "plt.title(f'Distribution of {TARGET}')\n",
    "plt.savefig(os.path.join(IMAGE_FOLDER, 'ann_stft_min_distr.pdf'), format='pdf')\n",
    "plt.show()"
   ]
  },
  {
   "cell_type": "code",
   "execution_count": 23,
   "metadata": {
    "ExecuteTime": {
     "end_time": "2023-07-05T13:55:50.301321Z",
     "start_time": "2023-07-05T13:55:49.936988Z"
    }
   },
   "outputs": [
    {
     "data": {
      "image/png": "[encoded data removed]",
      "text/plain": [
       "<Figure size 640x480 with 1 Axes>"
      ]
     },
     "metadata": {},
     "output_type": "display_data"
    }
   ],
   "source": [
    "sns.histplot(data=df_ann, x=TARGET, stat='density', log_scale=True)\n",
    "plt.xlabel(f'{TARGET}')\n",
    "plt.ylabel('Density')\n",
    "plt.title(f'Log-scaled distribution of {TARGET}')\n",
    "plt.savefig(os.path.join(IMAGE_FOLDER, 'ann_stft_min_logscale_distr.pdf'), format='pdf')\n",
    "plt.show()"
   ]
  },
  {
   "cell_type": "code",
   "execution_count": 24,
   "metadata": {
    "ExecuteTime": {
     "end_time": "2023-07-05T13:55:50.356835Z",
     "start_time": "2023-07-05T13:55:50.301091Z"
    }
   },
   "outputs": [
    {
     "ename": "ImportError",
     "evalue": "Missing optional dependency 'Jinja2'. DataFrame.style requires jinja2. Use pip or conda to install Jinja2.",
     "output_type": "error",
     "traceback": [
      "\u001b[0;31m---------------------------------------------------------------------------\u001b[0m",
      "\u001b[0;31mModuleNotFoundError\u001b[0m                       Traceback (most recent call last)",
      "File \u001b[0;32m~/.local/share/virtualenvs/DM2-PeqFRmfa/lib/python3.10/site-packages/pandas/compat/_optional.py:142\u001b[0m, in \u001b[0;36mimport_optional_dependency\u001b[0;34m(name, extra, errors, min_version)\u001b[0m\n\u001b[1;32m    141\u001b[0m \u001b[38;5;28;01mtry\u001b[39;00m:\n\u001b[0;32m--> 142\u001b[0m     module \u001b[38;5;241m=\u001b[39m \u001b[43mimportlib\u001b[49m\u001b[38;5;241;43m.\u001b[39;49m\u001b[43mimport_module\u001b[49m\u001b[43m(\u001b[49m\u001b[43mname\u001b[49m\u001b[43m)\u001b[49m\n\u001b[1;32m    143\u001b[0m \u001b[38;5;28;01mexcept\u001b[39;00m \u001b[38;5;167;01mImportError\u001b[39;00m:\n",
      "File \u001b[0;32m/usr/lib/python3.10/importlib/__init__.py:126\u001b[0m, in \u001b[0;36mimport_module\u001b[0;34m(name, package)\u001b[0m\n\u001b[1;32m    125\u001b[0m         level \u001b[38;5;241m+\u001b[39m\u001b[38;5;241m=\u001b[39m \u001b[38;5;241m1\u001b[39m\n\u001b[0;32m--> 126\u001b[0m \u001b[38;5;28;01mreturn\u001b[39;00m \u001b[43m_bootstrap\u001b[49m\u001b[38;5;241;43m.\u001b[39;49m\u001b[43m_gcd_import\u001b[49m\u001b[43m(\u001b[49m\u001b[43mname\u001b[49m\u001b[43m[\u001b[49m\u001b[43mlevel\u001b[49m\u001b[43m:\u001b[49m\u001b[43m]\u001b[49m\u001b[43m,\u001b[49m\u001b[43m \u001b[49m\u001b[43mpackage\u001b[49m\u001b[43m,\u001b[49m\u001b[43m \u001b[49m\u001b[43mlevel\u001b[49m\u001b[43m)\u001b[49m\n",
      "File \u001b[0;32m<frozen importlib._bootstrap>:1050\u001b[0m, in \u001b[0;36m_gcd_import\u001b[0;34m(name, package, level)\u001b[0m\n",
      "File \u001b[0;32m<frozen importlib._bootstrap>:1027\u001b[0m, in \u001b[0;36m_find_and_load\u001b[0;34m(name, import_)\u001b[0m\n",
      "File \u001b[0;32m<frozen importlib._bootstrap>:1004\u001b[0m, in \u001b[0;36m_find_and_load_unlocked\u001b[0;34m(name, import_)\u001b[0m\n",
      "\u001b[0;31mModuleNotFoundError\u001b[0m: No module named 'jinja2'",
      "\nDuring handling of the above exception, another exception occurred:\n",
      "\u001b[0;31mImportError\u001b[0m                               Traceback (most recent call last)",
      "Cell \u001b[0;32mIn[24], line 1\u001b[0m\n\u001b[0;32m----> 1\u001b[0m \u001b[43mpd\u001b[49m\u001b[38;5;241;43m.\u001b[39;49m\u001b[43mDataFrame\u001b[49m\u001b[43m(\u001b[49m\u001b[43mstudy\u001b[49m\u001b[38;5;241;43m.\u001b[39;49m\u001b[43mbest_params\u001b[49m\u001b[43m,\u001b[49m\u001b[43m \u001b[49m\u001b[43mindex\u001b[49m\u001b[38;5;241;43m=\u001b[39;49m\u001b[43m[\u001b[49m\u001b[38;5;241;43m0\u001b[39;49m\u001b[43m]\u001b[49m\u001b[43m)\u001b[49m\u001b[38;5;241;43m.\u001b[39;49m\u001b[43mto_latex\u001b[49m\u001b[43m(\u001b[49m\u001b[43m)\u001b[49m\n",
      "File \u001b[0;32m~/.local/share/virtualenvs/DM2-PeqFRmfa/lib/python3.10/site-packages/pandas/core/generic.py:3459\u001b[0m, in \u001b[0;36mNDFrame.to_latex\u001b[0;34m(self, buf, columns, header, index, na_rep, formatters, float_format, sparsify, index_names, bold_rows, column_format, longtable, escape, encoding, decimal, multicolumn, multicolumn_format, multirow, caption, label, position)\u001b[0m\n\u001b[1;32m   3437\u001b[0m     hide_\u001b[38;5;241m.\u001b[39mappend({\u001b[38;5;124m\"\u001b[39m\u001b[38;5;124mnames\u001b[39m\u001b[38;5;124m\"\u001b[39m: \u001b[38;5;28;01mTrue\u001b[39;00m, \u001b[38;5;124m\"\u001b[39m\u001b[38;5;124maxis\u001b[39m\u001b[38;5;124m\"\u001b[39m: \u001b[38;5;124m\"\u001b[39m\u001b[38;5;124mindex\u001b[39m\u001b[38;5;124m\"\u001b[39m})\n\u001b[1;32m   3439\u001b[0m render_kwargs_ \u001b[38;5;241m=\u001b[39m {\n\u001b[1;32m   3440\u001b[0m     \u001b[38;5;124m\"\u001b[39m\u001b[38;5;124mhrules\u001b[39m\u001b[38;5;124m\"\u001b[39m: \u001b[38;5;28;01mTrue\u001b[39;00m,\n\u001b[1;32m   3441\u001b[0m     \u001b[38;5;124m\"\u001b[39m\u001b[38;5;124msparse_index\u001b[39m\u001b[38;5;124m\"\u001b[39m: sparsify,\n\u001b[0;32m   (...)\u001b[0m\n\u001b[1;32m   3456\u001b[0m     \u001b[38;5;124m\"\u001b[39m\u001b[38;5;124mbold_rows\u001b[39m\u001b[38;5;124m\"\u001b[39m: bold_rows,\n\u001b[1;32m   3457\u001b[0m }\n\u001b[0;32m-> 3459\u001b[0m \u001b[38;5;28;01mreturn\u001b[39;00m \u001b[38;5;28;43mself\u001b[39;49m\u001b[38;5;241;43m.\u001b[39;49m\u001b[43m_to_latex_via_styler\u001b[49m\u001b[43m(\u001b[49m\n\u001b[1;32m   3460\u001b[0m \u001b[43m    \u001b[49m\u001b[43mbuf\u001b[49m\u001b[43m,\u001b[49m\n\u001b[1;32m   3461\u001b[0m \u001b[43m    \u001b[49m\u001b[43mhide\u001b[49m\u001b[38;5;241;43m=\u001b[39;49m\u001b[43mhide_\u001b[49m\u001b[43m,\u001b[49m\n\u001b[1;32m   3462\u001b[0m \u001b[43m    \u001b[49m\u001b[43mrelabel_index\u001b[49m\u001b[38;5;241;43m=\u001b[39;49m\u001b[43mrelabel_index_\u001b[49m\u001b[43m,\u001b[49m\n\u001b[1;32m   3463\u001b[0m \u001b[43m    \u001b[49m\u001b[38;5;28;43mformat\u001b[39;49m\u001b[38;5;241;43m=\u001b[39;49m\u001b[43m{\u001b[49m\u001b[38;5;124;43m\"\u001b[39;49m\u001b[38;5;124;43mformatter\u001b[39;49m\u001b[38;5;124;43m\"\u001b[39;49m\u001b[43m:\u001b[49m\u001b[43m \u001b[49m\u001b[43mformatters_\u001b[49m\u001b[43m,\u001b[49m\u001b[43m \u001b[49m\u001b[38;5;241;43m*\u001b[39;49m\u001b[38;5;241;43m*\u001b[39;49m\u001b[43mbase_format_\u001b[49m\u001b[43m}\u001b[49m\u001b[43m,\u001b[49m\n\u001b[1;32m   3464\u001b[0m \u001b[43m    \u001b[49m\u001b[43mformat_index\u001b[49m\u001b[38;5;241;43m=\u001b[39;49m\u001b[43mformat_index_\u001b[49m\u001b[43m,\u001b[49m\n\u001b[1;32m   3465\u001b[0m \u001b[43m    \u001b[49m\u001b[43mrender_kwargs\u001b[49m\u001b[38;5;241;43m=\u001b[39;49m\u001b[43mrender_kwargs_\u001b[49m\u001b[43m,\u001b[49m\n\u001b[1;32m   3466\u001b[0m \u001b[43m\u001b[49m\u001b[43m)\u001b[49m\n",
      "File \u001b[0;32m~/.local/share/virtualenvs/DM2-PeqFRmfa/lib/python3.10/site-packages/pandas/core/generic.py:3515\u001b[0m, in \u001b[0;36mNDFrame._to_latex_via_styler\u001b[0;34m(self, buf, hide, relabel_index, format, format_index, render_kwargs)\u001b[0m\n\u001b[1;32m   3468\u001b[0m \u001b[38;5;28;01mdef\u001b[39;00m \u001b[38;5;21m_to_latex_via_styler\u001b[39m(\n\u001b[1;32m   3469\u001b[0m     \u001b[38;5;28mself\u001b[39m,\n\u001b[1;32m   3470\u001b[0m     buf\u001b[38;5;241m=\u001b[39m\u001b[38;5;28;01mNone\u001b[39;00m,\n\u001b[0;32m   (...)\u001b[0m\n\u001b[1;32m   3476\u001b[0m     render_kwargs: \u001b[38;5;28mdict\u001b[39m \u001b[38;5;241m|\u001b[39m \u001b[38;5;28;01mNone\u001b[39;00m \u001b[38;5;241m=\u001b[39m \u001b[38;5;28;01mNone\u001b[39;00m,\n\u001b[1;32m   3477\u001b[0m ):\n\u001b[1;32m   3478\u001b[0m \u001b[38;5;250m    \u001b[39m\u001b[38;5;124;03m\"\"\"\u001b[39;00m\n\u001b[1;32m   3479\u001b[0m \u001b[38;5;124;03m    Render object to a LaTeX tabular, longtable, or nested table.\u001b[39;00m\n\u001b[1;32m   3480\u001b[0m \n\u001b[0;32m   (...)\u001b[0m\n\u001b[1;32m   3513\u001b[0m \u001b[38;5;124;03m        If buf is None, returns the result as a string. Otherwise returns None.\u001b[39;00m\n\u001b[1;32m   3514\u001b[0m \u001b[38;5;124;03m    \"\"\"\u001b[39;00m\n\u001b[0;32m-> 3515\u001b[0m     \u001b[38;5;28;01mfrom\u001b[39;00m \u001b[38;5;21;01mpandas\u001b[39;00m\u001b[38;5;21;01m.\u001b[39;00m\u001b[38;5;21;01mio\u001b[39;00m\u001b[38;5;21;01m.\u001b[39;00m\u001b[38;5;21;01mformats\u001b[39;00m\u001b[38;5;21;01m.\u001b[39;00m\u001b[38;5;21;01mstyle\u001b[39;00m \u001b[38;5;28;01mimport\u001b[39;00m Styler\n\u001b[1;32m   3517\u001b[0m     \u001b[38;5;28mself\u001b[39m \u001b[38;5;241m=\u001b[39m cast(\u001b[38;5;124m\"\u001b[39m\u001b[38;5;124mDataFrame\u001b[39m\u001b[38;5;124m\"\u001b[39m, \u001b[38;5;28mself\u001b[39m)\n\u001b[1;32m   3518\u001b[0m     styler \u001b[38;5;241m=\u001b[39m Styler(\u001b[38;5;28mself\u001b[39m, uuid\u001b[38;5;241m=\u001b[39m\u001b[38;5;124m\"\u001b[39m\u001b[38;5;124m\"\u001b[39m)\n",
      "File \u001b[0;32m~/.local/share/virtualenvs/DM2-PeqFRmfa/lib/python3.10/site-packages/pandas/io/formats/style.py:56\u001b[0m\n\u001b[1;32m     52\u001b[0m \u001b[38;5;28;01mfrom\u001b[39;00m \u001b[38;5;21;01mpandas\u001b[39;00m\u001b[38;5;21;01m.\u001b[39;00m\u001b[38;5;21;01mcore\u001b[39;00m\u001b[38;5;21;01m.\u001b[39;00m\u001b[38;5;21;01mshared_docs\u001b[39;00m \u001b[38;5;28;01mimport\u001b[39;00m _shared_docs\n\u001b[1;32m     54\u001b[0m \u001b[38;5;28;01mfrom\u001b[39;00m \u001b[38;5;21;01mpandas\u001b[39;00m\u001b[38;5;21;01m.\u001b[39;00m\u001b[38;5;21;01mio\u001b[39;00m\u001b[38;5;21;01m.\u001b[39;00m\u001b[38;5;21;01mformats\u001b[39;00m\u001b[38;5;21;01m.\u001b[39;00m\u001b[38;5;21;01mformat\u001b[39;00m \u001b[38;5;28;01mimport\u001b[39;00m save_to_buffer\n\u001b[0;32m---> 56\u001b[0m jinja2 \u001b[38;5;241m=\u001b[39m \u001b[43mimport_optional_dependency\u001b[49m\u001b[43m(\u001b[49m\u001b[38;5;124;43m\"\u001b[39;49m\u001b[38;5;124;43mjinja2\u001b[39;49m\u001b[38;5;124;43m\"\u001b[39;49m\u001b[43m,\u001b[49m\u001b[43m \u001b[49m\u001b[43mextra\u001b[49m\u001b[38;5;241;43m=\u001b[39;49m\u001b[38;5;124;43m\"\u001b[39;49m\u001b[38;5;124;43mDataFrame.style requires jinja2.\u001b[39;49m\u001b[38;5;124;43m\"\u001b[39;49m\u001b[43m)\u001b[49m\n\u001b[1;32m     58\u001b[0m \u001b[38;5;28;01mfrom\u001b[39;00m \u001b[38;5;21;01mpandas\u001b[39;00m\u001b[38;5;21;01m.\u001b[39;00m\u001b[38;5;21;01mio\u001b[39;00m\u001b[38;5;21;01m.\u001b[39;00m\u001b[38;5;21;01mformats\u001b[39;00m\u001b[38;5;21;01m.\u001b[39;00m\u001b[38;5;21;01mstyle_render\u001b[39;00m \u001b[38;5;28;01mimport\u001b[39;00m (\n\u001b[1;32m     59\u001b[0m     CSSProperties,\n\u001b[1;32m     60\u001b[0m     CSSStyles,\n\u001b[0;32m   (...)\u001b[0m\n\u001b[1;32m     68\u001b[0m     refactor_levels,\n\u001b[1;32m     69\u001b[0m )\n\u001b[1;32m     71\u001b[0m \u001b[38;5;28;01mif\u001b[39;00m TYPE_CHECKING:\n",
      "File \u001b[0;32m~/.local/share/virtualenvs/DM2-PeqFRmfa/lib/python3.10/site-packages/pandas/compat/_optional.py:145\u001b[0m, in \u001b[0;36mimport_optional_dependency\u001b[0;34m(name, extra, errors, min_version)\u001b[0m\n\u001b[1;32m    143\u001b[0m \u001b[38;5;28;01mexcept\u001b[39;00m \u001b[38;5;167;01mImportError\u001b[39;00m:\n\u001b[1;32m    144\u001b[0m     \u001b[38;5;28;01mif\u001b[39;00m errors \u001b[38;5;241m==\u001b[39m \u001b[38;5;124m\"\u001b[39m\u001b[38;5;124mraise\u001b[39m\u001b[38;5;124m\"\u001b[39m:\n\u001b[0;32m--> 145\u001b[0m         \u001b[38;5;28;01mraise\u001b[39;00m \u001b[38;5;167;01mImportError\u001b[39;00m(msg)\n\u001b[1;32m    146\u001b[0m     \u001b[38;5;28;01mreturn\u001b[39;00m \u001b[38;5;28;01mNone\u001b[39;00m\n\u001b[1;32m    148\u001b[0m \u001b[38;5;66;03m# Handle submodules: if we have submodule, grab parent module from sys.modules\u001b[39;00m\n",
      "\u001b[0;31mImportError\u001b[0m: Missing optional dependency 'Jinja2'. DataFrame.style requires jinja2. Use pip or conda to install Jinja2."
     ]
    }
   ],
   "source": [
    "pd.DataFrame(study.best_params, index=[0]).to_latex()"
   ]
  },
  {
   "cell_type": "code",
   "execution_count": null,
   "metadata": {
    "ExecuteTime": {
     "end_time": "2023-07-05T13:55:50.356914Z",
     "start_time": "2023-07-05T13:55:50.351668Z"
    }
   },
   "outputs": [],
   "source": []
  }
 ],
 "metadata": {
  "kernelspec": {
   "display_name": "DM2",
   "language": "python",
   "name": "dm2"
  },
  "language_info": {
   "codemirror_mode": {
    "name": "ipython",
    "version": 3
   },
   "file_extension": ".py",
   "mimetype": "text/x-python",
   "name": "python",
   "nbconvert_exporter": "python",
   "pygments_lexer": "ipython3",
   "version": "3.10.6"
  }
 },
 "nbformat": 4,
 "nbformat_minor": 1
}
