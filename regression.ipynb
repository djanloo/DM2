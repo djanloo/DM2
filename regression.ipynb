{
 "cells": [
  {
   "cell_type": "code",
   "execution_count": 1,
   "metadata": {
    "ExecuteTime": {
     "end_time": "2023-06-04T14:38:42.785129Z",
     "start_time": "2023-06-04T14:38:42.533089Z"
    }
   },
   "outputs": [],
   "source": [
    "import os\n",
    "\n",
    "import numpy as np\n",
    "import pandas as pd\n",
    "import matplotlib.pyplot as plt\n",
    "import seaborn as sns\n",
    "\n",
    "from pandas.core.dtypes.common import is_numeric_dtype\n",
    "from sklearn.feature_selection import mutual_info_regression, SelectKBest\n",
    "from sklearn.preprocessing import MinMaxScaler"
   ]
  },
  {
   "cell_type": "code",
   "execution_count": 2,
   "metadata": {
    "ExecuteTime": {
     "end_time": "2023-06-04T14:38:42.791787Z",
     "start_time": "2023-06-04T14:38:42.784321Z"
    }
   },
   "outputs": [],
   "source": [
    "DATA_FOLDER = 'dataset'\n",
    "DATASET = os.path.join(DATA_FOLDER, 'outliers_removed.csv')"
   ]
  },
  {
   "cell_type": "code",
   "execution_count": 3,
   "metadata": {
    "ExecuteTime": {
     "end_time": "2023-06-04T14:38:42.877178Z",
     "start_time": "2023-06-04T14:38:42.789276Z"
    }
   },
   "outputs": [
    {
     "data": {
      "text/html": [
       "<div>\n",
       "<style scoped>\n",
       "    .dataframe tbody tr th:only-of-type {\n",
       "        vertical-align: middle;\n",
       "    }\n",
       "\n",
       "    .dataframe tbody tr th {\n",
       "        vertical-align: top;\n",
       "    }\n",
       "\n",
       "    .dataframe thead th {\n",
       "        text-align: right;\n",
       "    }\n",
       "</style>\n",
       "<table border=\"1\" class=\"dataframe\">\n",
       "  <thead>\n",
       "    <tr style=\"text-align: right;\">\n",
       "      <th></th>\n",
       "      <th>frame_count</th>\n",
       "      <th>sum</th>\n",
       "      <th>mean</th>\n",
       "      <th>std</th>\n",
       "      <th>min</th>\n",
       "      <th>max</th>\n",
       "      <th>q01</th>\n",
       "      <th>q05</th>\n",
       "      <th>q25</th>\n",
       "      <th>q75</th>\n",
       "      <th>...</th>\n",
       "      <th>actor_actor_24</th>\n",
       "      <th>actor_actor_3</th>\n",
       "      <th>actor_actor_4</th>\n",
       "      <th>actor_actor_5</th>\n",
       "      <th>actor_actor_6</th>\n",
       "      <th>actor_actor_7</th>\n",
       "      <th>actor_actor_8</th>\n",
       "      <th>actor_actor_9</th>\n",
       "      <th>sex_F</th>\n",
       "      <th>sex_M</th>\n",
       "    </tr>\n",
       "  </thead>\n",
       "  <tbody>\n",
       "    <tr>\n",
       "      <th>0</th>\n",
       "      <td>160160</td>\n",
       "      <td>0.114319</td>\n",
       "      <td>7.137790e-07</td>\n",
       "      <td>0.004283</td>\n",
       "      <td>-0.042603</td>\n",
       "      <td>0.048157</td>\n",
       "      <td>-0.013550</td>\n",
       "      <td>-0.006104</td>\n",
       "      <td>-0.000031</td>\n",
       "      <td>0.0</td>\n",
       "      <td>...</td>\n",
       "      <td>0</td>\n",
       "      <td>0</td>\n",
       "      <td>0</td>\n",
       "      <td>0</td>\n",
       "      <td>0</td>\n",
       "      <td>0</td>\n",
       "      <td>0</td>\n",
       "      <td>0</td>\n",
       "      <td>0</td>\n",
       "      <td>1</td>\n",
       "    </tr>\n",
       "    <tr>\n",
       "      <th>1</th>\n",
       "      <td>156956</td>\n",
       "      <td>0.149963</td>\n",
       "      <td>9.554485e-07</td>\n",
       "      <td>0.005084</td>\n",
       "      <td>-0.037018</td>\n",
       "      <td>0.058472</td>\n",
       "      <td>-0.015822</td>\n",
       "      <td>-0.007294</td>\n",
       "      <td>0.000000</td>\n",
       "      <td>0.0</td>\n",
       "      <td>...</td>\n",
       "      <td>0</td>\n",
       "      <td>0</td>\n",
       "      <td>0</td>\n",
       "      <td>0</td>\n",
       "      <td>0</td>\n",
       "      <td>0</td>\n",
       "      <td>0</td>\n",
       "      <td>0</td>\n",
       "      <td>0</td>\n",
       "      <td>1</td>\n",
       "    </tr>\n",
       "    <tr>\n",
       "      <th>2</th>\n",
       "      <td>152152</td>\n",
       "      <td>0.139618</td>\n",
       "      <td>9.176213e-07</td>\n",
       "      <td>0.004886</td>\n",
       "      <td>-0.036652</td>\n",
       "      <td>0.062683</td>\n",
       "      <td>-0.014923</td>\n",
       "      <td>-0.006714</td>\n",
       "      <td>-0.000031</td>\n",
       "      <td>0.0</td>\n",
       "      <td>...</td>\n",
       "      <td>0</td>\n",
       "      <td>0</td>\n",
       "      <td>0</td>\n",
       "      <td>0</td>\n",
       "      <td>0</td>\n",
       "      <td>0</td>\n",
       "      <td>0</td>\n",
       "      <td>0</td>\n",
       "      <td>0</td>\n",
       "      <td>1</td>\n",
       "    </tr>\n",
       "    <tr>\n",
       "      <th>3</th>\n",
       "      <td>169769</td>\n",
       "      <td>0.137665</td>\n",
       "      <td>8.108948e-07</td>\n",
       "      <td>0.002956</td>\n",
       "      <td>-0.026245</td>\n",
       "      <td>0.026215</td>\n",
       "      <td>-0.009399</td>\n",
       "      <td>-0.004364</td>\n",
       "      <td>-0.000031</td>\n",
       "      <td>0.0</td>\n",
       "      <td>...</td>\n",
       "      <td>0</td>\n",
       "      <td>0</td>\n",
       "      <td>0</td>\n",
       "      <td>0</td>\n",
       "      <td>0</td>\n",
       "      <td>0</td>\n",
       "      <td>0</td>\n",
       "      <td>0</td>\n",
       "      <td>0</td>\n",
       "      <td>1</td>\n",
       "    </tr>\n",
       "    <tr>\n",
       "      <th>4</th>\n",
       "      <td>172972</td>\n",
       "      <td>0.140289</td>\n",
       "      <td>8.110521e-07</td>\n",
       "      <td>0.003085</td>\n",
       "      <td>-0.032349</td>\n",
       "      <td>0.028961</td>\n",
       "      <td>-0.008942</td>\n",
       "      <td>-0.004242</td>\n",
       "      <td>-0.000031</td>\n",
       "      <td>0.0</td>\n",
       "      <td>...</td>\n",
       "      <td>0</td>\n",
       "      <td>0</td>\n",
       "      <td>0</td>\n",
       "      <td>0</td>\n",
       "      <td>0</td>\n",
       "      <td>0</td>\n",
       "      <td>0</td>\n",
       "      <td>0</td>\n",
       "      <td>0</td>\n",
       "      <td>1</td>\n",
       "    </tr>\n",
       "  </tbody>\n",
       "</table>\n",
       "<p>5 rows × 285 columns</p>\n",
       "</div>"
      ],
      "text/plain": [
       "   frame_count       sum          mean       std       min       max  \\\n",
       "0       160160  0.114319  7.137790e-07  0.004283 -0.042603  0.048157   \n",
       "1       156956  0.149963  9.554485e-07  0.005084 -0.037018  0.058472   \n",
       "2       152152  0.139618  9.176213e-07  0.004886 -0.036652  0.062683   \n",
       "3       169769  0.137665  8.108948e-07  0.002956 -0.026245  0.026215   \n",
       "4       172972  0.140289  8.110521e-07  0.003085 -0.032349  0.028961   \n",
       "\n",
       "        q01       q05       q25  q75  ...  actor_actor_24  actor_actor_3  \\\n",
       "0 -0.013550 -0.006104 -0.000031  0.0  ...               0              0   \n",
       "1 -0.015822 -0.007294  0.000000  0.0  ...               0              0   \n",
       "2 -0.014923 -0.006714 -0.000031  0.0  ...               0              0   \n",
       "3 -0.009399 -0.004364 -0.000031  0.0  ...               0              0   \n",
       "4 -0.008942 -0.004242 -0.000031  0.0  ...               0              0   \n",
       "\n",
       "   actor_actor_4  actor_actor_5  actor_actor_6  actor_actor_7  actor_actor_8  \\\n",
       "0              0              0              0              0              0   \n",
       "1              0              0              0              0              0   \n",
       "2              0              0              0              0              0   \n",
       "3              0              0              0              0              0   \n",
       "4              0              0              0              0              0   \n",
       "\n",
       "   actor_actor_9  sex_F  sex_M  \n",
       "0              0      0      1  \n",
       "1              0      0      1  \n",
       "2              0      0      1  \n",
       "3              0      0      1  \n",
       "4              0      0      1  \n",
       "\n",
       "[5 rows x 285 columns]"
      ]
     },
     "execution_count": 3,
     "metadata": {},
     "output_type": "execute_result"
    }
   ],
   "source": [
    "df = pd.read_csv(DATASET)\n",
    "\n",
    "categorical_attr_list = [col for col in df.columns if not is_numeric_dtype(df[col])]\n",
    "\n",
    "# one hot encoding\n",
    "df_reg = df.drop(categorical_attr_list, axis=1)\n",
    "df_reg = df_reg.join(pd.get_dummies(df[categorical_attr_list], columns=categorical_attr_list).astype(int))\n",
    "df_reg.head()"
   ]
  },
  {
   "cell_type": "code",
   "execution_count": 4,
   "metadata": {
    "ExecuteTime": {
     "end_time": "2023-06-04T14:38:42.891598Z",
     "start_time": "2023-06-04T14:38:42.879274Z"
    }
   },
   "outputs": [
    {
     "data": {
      "text/plain": [
       "stft_min    False\n",
       "sc_min      False\n",
       "dtype: bool"
      ]
     },
     "execution_count": 4,
     "metadata": {},
     "output_type": "execute_result"
    }
   ],
   "source": [
    "features_to_correct = ['stft_min', 'sc_min']\n",
    "(df[features_to_correct] < 0).any()"
   ]
  },
  {
   "cell_type": "markdown",
   "metadata": {},
   "source": [
    "# stft_min"
   ]
  },
  {
   "cell_type": "code",
   "execution_count": 5,
   "metadata": {
    "ExecuteTime": {
     "end_time": "2023-06-04T14:38:43.091391Z",
     "start_time": "2023-06-04T14:38:42.882610Z"
    }
   },
   "outputs": [
    {
     "data": {
      "image/png": "[encoded data removed]",
      "text/plain": [
       "<Figure size 640x480 with 1 Axes>"
      ]
     },
     "metadata": {},
     "output_type": "display_data"
    }
   ],
   "source": [
    "sns.histplot(data=df, x=df['stft_min'], stat='density')\n",
    "plt.xlabel('stft_min')\n",
    "plt.ylabel('Count')\n",
    "plt.title('Distribution of stft_min')\n",
    "plt.show()"
   ]
  },
  {
   "cell_type": "code",
   "execution_count": 6,
   "metadata": {
    "ExecuteTime": {
     "end_time": "2023-06-04T14:38:43.097801Z",
     "start_time": "2023-06-04T14:38:43.087976Z"
    }
   },
   "outputs": [
    {
     "name": "stdout",
     "output_type": "stream",
     "text": [
      "(793, 284) (265, 284) (362, 284) (1009, 284)\n"
     ]
    }
   ],
   "source": [
    "from sklearn.model_selection import train_test_split\n",
    "\n",
    "# rows to be fixed, do not reset indexes!\n",
    "df_zero = df_reg[df_reg['stft_min'] == 0]\n",
    "df_nz = df_reg[df_reg['stft_min'] != 0].reset_index(drop=True)\n",
    "\n",
    "# dataframe has been one hot encoded\n",
    "split_index = df_nz.index[df_nz['actor_actor_19'] == 1][0]\n",
    "\n",
    "df_train = df_nz[:split_index]\n",
    "df_test = df_nz[split_index:]\n",
    "\n",
    "df_train, df_valid = train_test_split(df_train, test_size=0.25, random_state=100)\n",
    "\n",
    "y_train = np.log10(df_train['stft_min'].to_numpy())\n",
    "y_valid = np.log10(df_valid['stft_min'].to_numpy())\n",
    "y_test = np.log10(df_test['stft_min'].to_numpy())\n",
    "\n",
    "df_zero = df_zero.drop(['stft_min'], axis=1)\n",
    "df_train = df_train.drop(['stft_min'], axis=1)\n",
    "df_valid = df_valid.drop(['stft_min'], axis=1)\n",
    "df_test = df_test.drop(['stft_min'], axis=1)\n",
    "\n",
    "X_to_pred = df_zero.to_numpy()\n",
    "X_train = df_train.to_numpy()\n",
    "X_valid = df_valid.to_numpy()\n",
    "X_test = df_test.to_numpy()\n",
    "\n",
    "print(X_train.shape, X_valid.shape, X_test.shape, X_to_pred.shape)"
   ]
  },
  {
   "cell_type": "code",
   "execution_count": 7,
   "metadata": {
    "ExecuteTime": {
     "end_time": "2023-06-04T14:38:43.901725Z",
     "start_time": "2023-06-04T14:38:43.099910Z"
    }
   },
   "outputs": [
    {
     "data": {
      "image/png": "[encoded data removed]",
      "text/plain": [
       "<Figure size 1000x400 with 1 Axes>"
      ]
     },
     "metadata": {},
     "output_type": "display_data"
    }
   ],
   "source": [
    "f_selector = SelectKBest(score_func=mutual_info_regression, k='all')\n",
    "f_selector.fit(X_train, y_train)\n",
    "\n",
    "plt.figure(figsize=(10, 4))\n",
    "plt.bar([i for i in range(len(f_selector.scores_))], f_selector.scores_)\n",
    "plt.xlabel('Feature index')\n",
    "plt.ylabel('Estimated MI value')\n",
    "plt.show()"
   ]
  },
  {
   "cell_type": "code",
   "execution_count": 8,
   "metadata": {
    "ExecuteTime": {
     "end_time": "2023-06-04T14:38:44.720678Z",
     "start_time": "2023-06-04T14:38:43.902920Z"
    }
   },
   "outputs": [
    {
     "data": {
      "text/html": [
       "<div>\n",
       "<style scoped>\n",
       "    .dataframe tbody tr th:only-of-type {\n",
       "        vertical-align: middle;\n",
       "    }\n",
       "\n",
       "    .dataframe tbody tr th {\n",
       "        vertical-align: top;\n",
       "    }\n",
       "\n",
       "    .dataframe thead th {\n",
       "        text-align: right;\n",
       "    }\n",
       "</style>\n",
       "<table border=\"1\" class=\"dataframe\">\n",
       "  <thead>\n",
       "    <tr style=\"text-align: right;\">\n",
       "      <th></th>\n",
       "      <th>mfcc_q25</th>\n",
       "      <th>mfcc_q99</th>\n",
       "      <th>stft_mean</th>\n",
       "      <th>stft_std</th>\n",
       "      <th>stft_min</th>\n",
       "      <th>stft_q01</th>\n",
       "      <th>stft_q05</th>\n",
       "      <th>mfcc_q05_w2</th>\n",
       "      <th>mfcc_q25_w2</th>\n",
       "      <th>mfcc_q95_w2</th>\n",
       "      <th>stft_sum_w2</th>\n",
       "      <th>stft_std_w2</th>\n",
       "      <th>stft_q05_w2</th>\n",
       "      <th>stft_q25_w2</th>\n",
       "      <th>mfcc_q05_w3</th>\n",
       "      <th>mfcc_q25_w3</th>\n",
       "      <th>mfcc_q50_w3</th>\n",
       "      <th>mfcc_q95_w3</th>\n",
       "      <th>stft_std_w3</th>\n",
       "      <th>stft_q01_w3</th>\n",
       "    </tr>\n",
       "  </thead>\n",
       "  <tbody>\n",
       "    <tr>\n",
       "      <th>0</th>\n",
       "      <td>-3.248759</td>\n",
       "      <td>165.340459</td>\n",
       "      <td>0.629568</td>\n",
       "      <td>0.277748</td>\n",
       "      <td>0.008878</td>\n",
       "      <td>0.048266</td>\n",
       "      <td>0.116556</td>\n",
       "      <td>-120.117107</td>\n",
       "      <td>-11.527863</td>\n",
       "      <td>52.003055</td>\n",
       "      <td>484.868805</td>\n",
       "      <td>0.293215</td>\n",
       "      <td>0.069133</td>\n",
       "      <td>0.261142</td>\n",
       "      <td>-67.755763</td>\n",
       "      <td>-9.989349</td>\n",
       "      <td>-0.172550</td>\n",
       "      <td>62.708651</td>\n",
       "      <td>0.290738</td>\n",
       "      <td>0.047669</td>\n",
       "    </tr>\n",
       "    <tr>\n",
       "      <th>1</th>\n",
       "      <td>-2.454553</td>\n",
       "      <td>175.846084</td>\n",
       "      <td>0.619984</td>\n",
       "      <td>0.279639</td>\n",
       "      <td>0.000000</td>\n",
       "      <td>0.039225</td>\n",
       "      <td>0.103585</td>\n",
       "      <td>-75.363458</td>\n",
       "      <td>-11.434454</td>\n",
       "      <td>48.559144</td>\n",
       "      <td>468.430938</td>\n",
       "      <td>0.302636</td>\n",
       "      <td>0.063778</td>\n",
       "      <td>0.239860</td>\n",
       "      <td>-71.935123</td>\n",
       "      <td>-9.649912</td>\n",
       "      <td>-0.237159</td>\n",
       "      <td>63.767483</td>\n",
       "      <td>0.285455</td>\n",
       "      <td>0.046734</td>\n",
       "    </tr>\n",
       "    <tr>\n",
       "      <th>2</th>\n",
       "      <td>-2.546799</td>\n",
       "      <td>165.640911</td>\n",
       "      <td>0.612607</td>\n",
       "      <td>0.263994</td>\n",
       "      <td>0.032363</td>\n",
       "      <td>0.058727</td>\n",
       "      <td>0.152042</td>\n",
       "      <td>-68.998278</td>\n",
       "      <td>-10.588931</td>\n",
       "      <td>47.860892</td>\n",
       "      <td>478.721360</td>\n",
       "      <td>0.293498</td>\n",
       "      <td>0.099196</td>\n",
       "      <td>0.268918</td>\n",
       "      <td>-69.634357</td>\n",
       "      <td>-8.167052</td>\n",
       "      <td>0.444741</td>\n",
       "      <td>63.596519</td>\n",
       "      <td>0.280918</td>\n",
       "      <td>0.049062</td>\n",
       "    </tr>\n",
       "    <tr>\n",
       "      <th>3</th>\n",
       "      <td>-3.493539</td>\n",
       "      <td>167.973568</td>\n",
       "      <td>0.608243</td>\n",
       "      <td>0.293414</td>\n",
       "      <td>0.000000</td>\n",
       "      <td>0.011911</td>\n",
       "      <td>0.097330</td>\n",
       "      <td>-83.044930</td>\n",
       "      <td>-10.651319</td>\n",
       "      <td>56.442131</td>\n",
       "      <td>480.684962</td>\n",
       "      <td>0.293618</td>\n",
       "      <td>0.074663</td>\n",
       "      <td>0.222230</td>\n",
       "      <td>-65.700882</td>\n",
       "      <td>-11.507271</td>\n",
       "      <td>-0.839454</td>\n",
       "      <td>69.896139</td>\n",
       "      <td>0.290291</td>\n",
       "      <td>0.046423</td>\n",
       "    </tr>\n",
       "    <tr>\n",
       "      <th>4</th>\n",
       "      <td>-2.329377</td>\n",
       "      <td>167.472222</td>\n",
       "      <td>0.644044</td>\n",
       "      <td>0.271359</td>\n",
       "      <td>0.000000</td>\n",
       "      <td>0.063752</td>\n",
       "      <td>0.148925</td>\n",
       "      <td>-73.239906</td>\n",
       "      <td>-10.560717</td>\n",
       "      <td>59.259329</td>\n",
       "      <td>527.873676</td>\n",
       "      <td>0.281825</td>\n",
       "      <td>0.085910</td>\n",
       "      <td>0.288242</td>\n",
       "      <td>-64.224837</td>\n",
       "      <td>-9.563899</td>\n",
       "      <td>0.129829</td>\n",
       "      <td>62.749889</td>\n",
       "      <td>0.274131</td>\n",
       "      <td>0.069192</td>\n",
       "    </tr>\n",
       "    <tr>\n",
       "      <th>...</th>\n",
       "      <td>...</td>\n",
       "      <td>...</td>\n",
       "      <td>...</td>\n",
       "      <td>...</td>\n",
       "      <td>...</td>\n",
       "      <td>...</td>\n",
       "      <td>...</td>\n",
       "      <td>...</td>\n",
       "      <td>...</td>\n",
       "      <td>...</td>\n",
       "      <td>...</td>\n",
       "      <td>...</td>\n",
       "      <td>...</td>\n",
       "      <td>...</td>\n",
       "      <td>...</td>\n",
       "      <td>...</td>\n",
       "      <td>...</td>\n",
       "      <td>...</td>\n",
       "      <td>...</td>\n",
       "      <td>...</td>\n",
       "    </tr>\n",
       "    <tr>\n",
       "      <th>2424</th>\n",
       "      <td>-14.566319</td>\n",
       "      <td>122.559663</td>\n",
       "      <td>0.380013</td>\n",
       "      <td>0.358211</td>\n",
       "      <td>0.000000</td>\n",
       "      <td>0.000000</td>\n",
       "      <td>0.000000</td>\n",
       "      <td>-99.759052</td>\n",
       "      <td>-20.961018</td>\n",
       "      <td>45.060317</td>\n",
       "      <td>392.845148</td>\n",
       "      <td>0.334506</td>\n",
       "      <td>0.000275</td>\n",
       "      <td>0.013865</td>\n",
       "      <td>-94.788390</td>\n",
       "      <td>-22.633643</td>\n",
       "      <td>-11.140555</td>\n",
       "      <td>56.190917</td>\n",
       "      <td>0.318587</td>\n",
       "      <td>0.000218</td>\n",
       "    </tr>\n",
       "    <tr>\n",
       "      <th>2425</th>\n",
       "      <td>-16.516638</td>\n",
       "      <td>108.475085</td>\n",
       "      <td>0.384475</td>\n",
       "      <td>0.342570</td>\n",
       "      <td>0.000000</td>\n",
       "      <td>0.000000</td>\n",
       "      <td>0.000535</td>\n",
       "      <td>-94.174167</td>\n",
       "      <td>-21.225479</td>\n",
       "      <td>49.527611</td>\n",
       "      <td>391.581885</td>\n",
       "      <td>0.327351</td>\n",
       "      <td>0.002639</td>\n",
       "      <td>0.026575</td>\n",
       "      <td>-129.524864</td>\n",
       "      <td>-25.793420</td>\n",
       "      <td>-12.820762</td>\n",
       "      <td>56.286695</td>\n",
       "      <td>0.319367</td>\n",
       "      <td>0.000418</td>\n",
       "    </tr>\n",
       "    <tr>\n",
       "      <th>2426</th>\n",
       "      <td>-15.071037</td>\n",
       "      <td>111.296732</td>\n",
       "      <td>0.379459</td>\n",
       "      <td>0.343235</td>\n",
       "      <td>0.000000</td>\n",
       "      <td>0.000000</td>\n",
       "      <td>0.000000</td>\n",
       "      <td>-95.961729</td>\n",
       "      <td>-21.014818</td>\n",
       "      <td>52.465301</td>\n",
       "      <td>387.840356</td>\n",
       "      <td>0.329636</td>\n",
       "      <td>0.005785</td>\n",
       "      <td>0.031443</td>\n",
       "      <td>-84.901732</td>\n",
       "      <td>-23.546573</td>\n",
       "      <td>-12.323875</td>\n",
       "      <td>55.225316</td>\n",
       "      <td>0.318763</td>\n",
       "      <td>0.000521</td>\n",
       "    </tr>\n",
       "    <tr>\n",
       "      <th>2427</th>\n",
       "      <td>-14.316145</td>\n",
       "      <td>113.483748</td>\n",
       "      <td>0.393004</td>\n",
       "      <td>0.353190</td>\n",
       "      <td>0.000000</td>\n",
       "      <td>0.000000</td>\n",
       "      <td>0.000000</td>\n",
       "      <td>-104.770460</td>\n",
       "      <td>-21.403561</td>\n",
       "      <td>51.408106</td>\n",
       "      <td>397.483970</td>\n",
       "      <td>0.340376</td>\n",
       "      <td>0.004331</td>\n",
       "      <td>0.028292</td>\n",
       "      <td>-84.443920</td>\n",
       "      <td>-23.132294</td>\n",
       "      <td>-10.467500</td>\n",
       "      <td>62.430943</td>\n",
       "      <td>0.321830</td>\n",
       "      <td>0.000820</td>\n",
       "    </tr>\n",
       "    <tr>\n",
       "      <th>2428</th>\n",
       "      <td>-15.411550</td>\n",
       "      <td>105.115996</td>\n",
       "      <td>0.397366</td>\n",
       "      <td>0.352221</td>\n",
       "      <td>0.000000</td>\n",
       "      <td>0.000000</td>\n",
       "      <td>0.000000</td>\n",
       "      <td>-107.748358</td>\n",
       "      <td>-21.518580</td>\n",
       "      <td>50.185415</td>\n",
       "      <td>430.894688</td>\n",
       "      <td>0.341262</td>\n",
       "      <td>0.001986</td>\n",
       "      <td>0.031289</td>\n",
       "      <td>-98.461715</td>\n",
       "      <td>-25.297283</td>\n",
       "      <td>-12.561055</td>\n",
       "      <td>65.639251</td>\n",
       "      <td>0.328212</td>\n",
       "      <td>0.000717</td>\n",
       "    </tr>\n",
       "  </tbody>\n",
       "</table>\n",
       "<p>2429 rows × 20 columns</p>\n",
       "</div>"
      ],
      "text/plain": [
       "       mfcc_q25    mfcc_q99  stft_mean  stft_std  stft_min  stft_q01  \\\n",
       "0     -3.248759  165.340459   0.629568  0.277748  0.008878  0.048266   \n",
       "1     -2.454553  175.846084   0.619984  0.279639  0.000000  0.039225   \n",
       "2     -2.546799  165.640911   0.612607  0.263994  0.032363  0.058727   \n",
       "3     -3.493539  167.973568   0.608243  0.293414  0.000000  0.011911   \n",
       "4     -2.329377  167.472222   0.644044  0.271359  0.000000  0.063752   \n",
       "...         ...         ...        ...       ...       ...       ...   \n",
       "2424 -14.566319  122.559663   0.380013  0.358211  0.000000  0.000000   \n",
       "2425 -16.516638  108.475085   0.384475  0.342570  0.000000  0.000000   \n",
       "2426 -15.071037  111.296732   0.379459  0.343235  0.000000  0.000000   \n",
       "2427 -14.316145  113.483748   0.393004  0.353190  0.000000  0.000000   \n",
       "2428 -15.411550  105.115996   0.397366  0.352221  0.000000  0.000000   \n",
       "\n",
       "      stft_q05  mfcc_q05_w2  mfcc_q25_w2  mfcc_q95_w2  stft_sum_w2  \\\n",
       "0     0.116556  -120.117107   -11.527863    52.003055   484.868805   \n",
       "1     0.103585   -75.363458   -11.434454    48.559144   468.430938   \n",
       "2     0.152042   -68.998278   -10.588931    47.860892   478.721360   \n",
       "3     0.097330   -83.044930   -10.651319    56.442131   480.684962   \n",
       "4     0.148925   -73.239906   -10.560717    59.259329   527.873676   \n",
       "...        ...          ...          ...          ...          ...   \n",
       "2424  0.000000   -99.759052   -20.961018    45.060317   392.845148   \n",
       "2425  0.000535   -94.174167   -21.225479    49.527611   391.581885   \n",
       "2426  0.000000   -95.961729   -21.014818    52.465301   387.840356   \n",
       "2427  0.000000  -104.770460   -21.403561    51.408106   397.483970   \n",
       "2428  0.000000  -107.748358   -21.518580    50.185415   430.894688   \n",
       "\n",
       "      stft_std_w2  stft_q05_w2  stft_q25_w2  mfcc_q05_w3  mfcc_q25_w3  \\\n",
       "0        0.293215     0.069133     0.261142   -67.755763    -9.989349   \n",
       "1        0.302636     0.063778     0.239860   -71.935123    -9.649912   \n",
       "2        0.293498     0.099196     0.268918   -69.634357    -8.167052   \n",
       "3        0.293618     0.074663     0.222230   -65.700882   -11.507271   \n",
       "4        0.281825     0.085910     0.288242   -64.224837    -9.563899   \n",
       "...           ...          ...          ...          ...          ...   \n",
       "2424     0.334506     0.000275     0.013865   -94.788390   -22.633643   \n",
       "2425     0.327351     0.002639     0.026575  -129.524864   -25.793420   \n",
       "2426     0.329636     0.005785     0.031443   -84.901732   -23.546573   \n",
       "2427     0.340376     0.004331     0.028292   -84.443920   -23.132294   \n",
       "2428     0.341262     0.001986     0.031289   -98.461715   -25.297283   \n",
       "\n",
       "      mfcc_q50_w3  mfcc_q95_w3  stft_std_w3  stft_q01_w3  \n",
       "0       -0.172550    62.708651     0.290738     0.047669  \n",
       "1       -0.237159    63.767483     0.285455     0.046734  \n",
       "2        0.444741    63.596519     0.280918     0.049062  \n",
       "3       -0.839454    69.896139     0.290291     0.046423  \n",
       "4        0.129829    62.749889     0.274131     0.069192  \n",
       "...           ...          ...          ...          ...  \n",
       "2424   -11.140555    56.190917     0.318587     0.000218  \n",
       "2425   -12.820762    56.286695     0.319367     0.000418  \n",
       "2426   -12.323875    55.225316     0.318763     0.000521  \n",
       "2427   -10.467500    62.430943     0.321830     0.000820  \n",
       "2428   -12.561055    65.639251     0.328212     0.000717  \n",
       "\n",
       "[2429 rows x 20 columns]"
      ]
     },
     "execution_count": 8,
     "metadata": {},
     "output_type": "execute_result"
    }
   ],
   "source": [
    "f_selector = SelectKBest(score_func=mutual_info_regression, k=20)\n",
    "f_selector.fit(X_train, y_train)\n",
    "\n",
    "X_train = f_selector.transform(X_train)\n",
    "X_valid = f_selector.transform(X_valid)\n",
    "X_test = f_selector.transform(X_test)\n",
    "X_to_pred = f_selector.transform(X_to_pred)\n",
    "\n",
    "# selected columns\n",
    "selected_indices = f_selector.get_support(indices=True)\n",
    "df_reg.iloc[:, selected_indices]"
   ]
  },
  {
   "cell_type": "code",
   "execution_count": 9,
   "metadata": {
    "ExecuteTime": {
     "end_time": "2023-06-04T14:38:44.725883Z",
     "start_time": "2023-06-04T14:38:44.721569Z"
    }
   },
   "outputs": [],
   "source": [
    "scaler = MinMaxScaler()\n",
    "\n",
    "X_train = scaler.fit_transform(X_train)\n",
    "X_valid = scaler.fit_transform(X_valid)\n",
    "X_test = scaler.fit_transform(X_test)\n",
    "X_to_pred = scaler.fit_transform(X_to_pred)"
   ]
  },
  {
   "cell_type": "code",
   "execution_count": 10,
   "metadata": {
    "ExecuteTime": {
     "end_time": "2023-06-04T14:39:46.545196Z",
     "start_time": "2023-06-04T14:38:44.731649Z"
    }
   },
   "outputs": [
    {
     "name": "stderr",
     "output_type": "stream",
     "text": [
      "[I 2023-06-04 17:53:04,081] A new study created in memory with name: no-name-0f74e819-3d34-438a-8e5b-d01d70e4ee0b\n",
      "[I 2023-06-04 17:53:08,270] Trial 1 finished with value: 0.05469547707760329 and parameters: {'booster': 'gbtree', 'gamma': 2.3906846452986636, 'max_depth': 12, 'min_child_weight': 3, 'subsample': 0.783030285940578}. Best is trial 1 with value: 0.05469547707760329.\n",
      "[I 2023-06-04 17:53:09,435] Trial 4 finished with value: 0.060744574218685767 and parameters: {'booster': 'gbtree', 'gamma': 0.33116535482111353, 'max_depth': 3, 'min_child_weight': 2, 'subsample': 0.48743078998891987}. Best is trial 1 with value: 0.05469547707760329.\n",
      "[I 2023-06-04 17:53:11,385] Trial 5 finished with value: 0.0580533821256623 and parameters: {'booster': 'gbtree', 'gamma': 2.3405164121389905, 'max_depth': 5, 'min_child_weight': 2, 'subsample': 0.5442301255506048}. Best is trial 1 with value: 0.05469547707760329.\n",
      "[I 2023-06-04 17:53:11,400] Trial 3 finished with value: 0.05809329646568329 and parameters: {'booster': 'dart', 'gamma': 4.20254451339431, 'max_depth': 13, 'min_child_weight': 2, 'subsample': 0.5536468847805474}. Best is trial 1 with value: 0.05469547707760329.\n",
      "[I 2023-06-04 17:53:13,745] Trial 0 finished with value: 0.05601545922976429 and parameters: {'booster': 'dart', 'gamma': 3.1717790236744663, 'max_depth': 19, 'min_child_weight': 2, 'subsample': 0.601979089574886}. Best is trial 1 with value: 0.05469547707760329.\n",
      "[I 2023-06-04 17:53:14,646] Trial 2 finished with value: 0.05559285577619384 and parameters: {'booster': 'dart', 'gamma': 2.6910553976737974, 'max_depth': 16, 'min_child_weight': 3, 'subsample': 0.9204831559237894}. Best is trial 1 with value: 0.05469547707760329.\n",
      "[I 2023-06-04 17:53:16,602] Trial 8 finished with value: 0.05852234387965582 and parameters: {'booster': 'gbtree', 'gamma': 0.5532723360717517, 'max_depth': 6, 'min_child_weight': 1, 'subsample': 0.9448253462756383}. Best is trial 1 with value: 0.05469547707760329.\n",
      "[I 2023-06-04 17:53:16,630] Trial 7 finished with value: 0.05788199390760763 and parameters: {'booster': 'gbtree', 'gamma': 4.221421061094129, 'max_depth': 20, 'min_child_weight': 1, 'subsample': 0.5438849743372742}. Best is trial 1 with value: 0.05469547707760329.\n",
      "[I 2023-06-04 17:53:18,267] Trial 6 finished with value: 0.05570798830940796 and parameters: {'booster': 'dart', 'gamma': 1.6609731467483995, 'max_depth': 10, 'min_child_weight': 3, 'subsample': 0.5212805781330041}. Best is trial 1 with value: 0.05469547707760329.\n",
      "[I 2023-06-04 17:53:19,180] Trial 10 finished with value: 0.05923052551694184 and parameters: {'booster': 'gbtree', 'gamma': 4.582098980402819, 'max_depth': 10, 'min_child_weight': 2, 'subsample': 0.42873869074145854}. Best is trial 1 with value: 0.05469547707760329.\n",
      "[I 2023-06-04 17:53:19,844] Trial 11 finished with value: 0.059793502631844034 and parameters: {'booster': 'gbtree', 'gamma': 4.353570642843208, 'max_depth': 8, 'min_child_weight': 2, 'subsample': 0.9228009302259882}. Best is trial 1 with value: 0.05469547707760329.\n",
      "[I 2023-06-04 17:53:19,946] Trial 9 finished with value: 0.05848864876295573 and parameters: {'booster': 'dart', 'gamma': 2.4545153780879674, 'max_depth': 13, 'min_child_weight': 2, 'subsample': 0.4257287894347526}. Best is trial 1 with value: 0.05469547707760329.\n",
      "[I 2023-06-04 17:53:23,868] Trial 13 finished with value: 0.05584669950787734 and parameters: {'booster': 'gbtree', 'gamma': 1.418071985110426, 'max_depth': 14, 'min_child_weight': 3, 'subsample': 0.7807769988929404}. Best is trial 1 with value: 0.05469547707760329.\n",
      "[I 2023-06-04 17:53:28,293] Trial 12 finished with value: 0.0553213726784055 and parameters: {'booster': 'dart', 'gamma': 4.08662721295922, 'max_depth': 19, 'min_child_weight': 3, 'subsample': 0.7259520566574307}. Best is trial 1 with value: 0.05469547707760329.\n",
      "[I 2023-06-04 17:53:30,480] Trial 15 finished with value: 0.056106117801637566 and parameters: {'booster': 'dart', 'gamma': 3.249317520295299, 'max_depth': 16, 'min_child_weight': 3, 'subsample': 0.8268619624566317}. Best is trial 1 with value: 0.05469547707760329.\n",
      "[I 2023-06-04 17:53:31,038] Trial 14 finished with value: 0.0566748627465778 and parameters: {'booster': 'dart', 'gamma': 2.949870585737888, 'max_depth': 15, 'min_child_weight': 3, 'subsample': 0.8128598974376088}. Best is trial 1 with value: 0.05469547707760329.\n",
      "[I 2023-06-04 17:53:38,156] Trial 16 finished with value: 0.058414401151207954 and parameters: {'booster': 'dart', 'gamma': 3.030988679749731, 'max_depth': 16, 'min_child_weight': 3, 'subsample': 0.8440177549771787}. Best is trial 1 with value: 0.05469547707760329.\n",
      "[I 2023-06-04 17:53:39,967] Trial 17 finished with value: 0.05437280003890851 and parameters: {'booster': 'dart', 'gamma': 3.510898425007098, 'max_depth': 17, 'min_child_weight': 3, 'subsample': 0.7296286002232654}. Best is trial 17 with value: 0.05437280003890851.\n",
      "[I 2023-06-04 17:53:41,692] Trial 19 finished with value: 0.05705111731228365 and parameters: {'booster': 'dart', 'gamma': 3.679225402552683, 'max_depth': 18, 'min_child_weight': 3, 'subsample': 0.6877983676363472}. Best is trial 17 with value: 0.05437280003890851.\n",
      "[I 2023-06-04 17:53:42,021] Trial 18 finished with value: 0.05385367601296423 and parameters: {'booster': 'dart', 'gamma': 3.527198860902174, 'max_depth': 17, 'min_child_weight': 3, 'subsample': 0.6820326247665356}. Best is trial 18 with value: 0.05385367601296423.\n",
      "[I 2023-06-04 17:53:44,750] Trial 21 finished with value: 0.05534097553130718 and parameters: {'booster': 'gbtree', 'gamma': 3.6382493725004825, 'max_depth': 11, 'min_child_weight': 3, 'subsample': 0.6692049871469765}. Best is trial 18 with value: 0.05385367601296423.\n",
      "[I 2023-06-04 17:53:45,049] Trial 20 finished with value: 0.056670697857830035 and parameters: {'booster': 'gbtree', 'gamma': 3.730609159898464, 'max_depth': 18, 'min_child_weight': 3, 'subsample': 0.6949701425773531}. Best is trial 18 with value: 0.05385367601296423.\n",
      "[I 2023-06-04 17:53:46,575] Trial 22 finished with value: 0.05858575338612256 and parameters: {'booster': 'gbtree', 'gamma': 4.832388921237693, 'max_depth': 11, 'min_child_weight': 1, 'subsample': 0.6666689306186014}. Best is trial 18 with value: 0.05385367601296423.\n",
      "[I 2023-06-04 17:53:52,077] Trial 24 finished with value: 0.05665416497657607 and parameters: {'booster': 'dart', 'gamma': 4.727725538480907, 'max_depth': 17, 'min_child_weight': 3, 'subsample': 0.7339081359846634}. Best is trial 18 with value: 0.05385367601296423.\n",
      "[I 2023-06-04 17:53:52,674] Trial 23 finished with value: 0.061610080910374274 and parameters: {'booster': 'dart', 'gamma': 4.7208724105903705, 'max_depth': 17, 'min_child_weight': 1, 'subsample': 0.6443072234553828}. Best is trial 18 with value: 0.05385367601296423.\n",
      "[I 2023-06-04 17:53:53,162] Trial 25 finished with value: 0.059475522602806655 and parameters: {'booster': 'dart', 'gamma': 4.887224501197953, 'max_depth': 17, 'min_child_weight': 3, 'subsample': 0.7474250877501456}. Best is trial 18 with value: 0.05385367601296423.\n",
      "[I 2023-06-04 17:53:54,574] Trial 26 finished with value: 0.05879556131062625 and parameters: {'booster': 'dart', 'gamma': 2.220797611257642, 'max_depth': 17, 'min_child_weight': 3, 'subsample': 0.7455417614042283}. Best is trial 18 with value: 0.05385367601296423.\n",
      "[I 2023-06-04 17:53:57,745] Trial 27 finished with value: 0.05349504157120325 and parameters: {'booster': 'dart', 'gamma': 3.4780135860546224, 'max_depth': 13, 'min_child_weight': 3, 'subsample': 0.6189813264066625}. Best is trial 27 with value: 0.05349504157120325.\n",
      "[I 2023-06-04 17:53:59,199] Trial 28 finished with value: 0.054032001237149345 and parameters: {'booster': 'dart', 'gamma': 3.5776668397192415, 'max_depth': 14, 'min_child_weight': 3, 'subsample': 0.7363420931286285}. Best is trial 27 with value: 0.05349504157120325.\n",
      "[I 2023-06-04 17:53:59,454] Trial 29 finished with value: 0.05758309798217885 and parameters: {'booster': 'dart', 'gamma': 3.6324449199312987, 'max_depth': 13, 'min_child_weight': 3, 'subsample': 0.6269398080266108}. Best is trial 27 with value: 0.05349504157120325.\n",
      "[I 2023-06-04 17:54:01,139] Trial 30 finished with value: 0.05440042161015323 and parameters: {'booster': 'dart', 'gamma': 3.47337910579708, 'max_depth': 13, 'min_child_weight': 3, 'subsample': 0.6146128411179955}. Best is trial 27 with value: 0.05349504157120325.\n"
     ]
    },
    {
     "name": "stderr",
     "output_type": "stream",
     "text": [
      "[I 2023-06-04 17:54:04,879] Trial 32 finished with value: 0.053757051317027696 and parameters: {'booster': 'dart', 'gamma': 3.32976854370728, 'max_depth': 13, 'min_child_weight': 2, 'subsample': 0.6155459282330382}. Best is trial 27 with value: 0.05349504157120325.\n",
      "[I 2023-06-04 17:54:05,343] Trial 31 finished with value: 0.05467554670874192 and parameters: {'booster': 'dart', 'gamma': 3.4751709283725734, 'max_depth': 15, 'min_child_weight': 2, 'subsample': 0.6149166076397276}. Best is trial 27 with value: 0.05349504157120325.\n",
      "[I 2023-06-04 17:54:05,655] Trial 33 finished with value: 0.057990900870309024 and parameters: {'booster': 'dart', 'gamma': 3.3330532017701033, 'max_depth': 14, 'min_child_weight': 2, 'subsample': 0.6050687858114239}. Best is trial 27 with value: 0.05349504157120325.\n",
      "[I 2023-06-04 17:54:09,231] Trial 34 finished with value: 0.05841554895857638 and parameters: {'booster': 'dart', 'gamma': 3.9005182384350263, 'max_depth': 15, 'min_child_weight': 3, 'subsample': 0.5997542542826177}. Best is trial 27 with value: 0.05349504157120325.\n",
      "[I 2023-06-04 17:54:12,696] Trial 37 finished with value: 0.05586736706882271 and parameters: {'booster': 'dart', 'gamma': 3.9265521578793434, 'max_depth': 12, 'min_child_weight': 2, 'subsample': 0.5850936065155108}. Best is trial 27 with value: 0.05349504157120325.\n",
      "[I 2023-06-04 17:54:12,953] Trial 35 finished with value: 0.0576573521885705 and parameters: {'booster': 'dart', 'gamma': 3.2311679144015235, 'max_depth': 15, 'min_child_weight': 2, 'subsample': 0.594680404091783}. Best is trial 27 with value: 0.05349504157120325.\n",
      "[I 2023-06-04 17:54:14,039] Trial 36 finished with value: 0.056706379344378846 and parameters: {'booster': 'dart', 'gamma': 3.9803701195087346, 'max_depth': 14, 'min_child_weight': 2, 'subsample': 0.5909204251973668}. Best is trial 27 with value: 0.05349504157120325.\n",
      "[I 2023-06-04 17:54:15,197] Trial 38 finished with value: 0.054501595869458776 and parameters: {'booster': 'dart', 'gamma': 2.9379600903306162, 'max_depth': 9, 'min_child_weight': 2, 'subsample': 0.6556559524187561}. Best is trial 27 with value: 0.05349504157120325.\n",
      "[I 2023-06-04 17:54:18,778] Trial 40 finished with value: 0.05456641721878072 and parameters: {'booster': 'dart', 'gamma': 2.915899086856798, 'max_depth': 9, 'min_child_weight': 2, 'subsample': 0.6450108537558076}. Best is trial 27 with value: 0.05349504157120325.\n",
      "[I 2023-06-04 17:54:20,311] Trial 39 finished with value: 0.05547136060752708 and parameters: {'booster': 'dart', 'gamma': 3.187681300451071, 'max_depth': 14, 'min_child_weight': 2, 'subsample': 0.6457506208584672}. Best is trial 27 with value: 0.05349504157120325.\n",
      "[I 2023-06-04 17:54:20,525] Trial 41 finished with value: 0.05471282343282417 and parameters: {'booster': 'dart', 'gamma': 2.886012605837128, 'max_depth': 8, 'min_child_weight': 2, 'subsample': 0.6543651176486669}. Best is trial 27 with value: 0.05349504157120325.\n",
      "[I 2023-06-04 17:54:23,380] Trial 42 finished with value: 0.0557335066119572 and parameters: {'booster': 'dart', 'gamma': 2.6250857643470633, 'max_depth': 20, 'min_child_weight': 3, 'subsample': 0.6880095764067541}. Best is trial 27 with value: 0.05349504157120325.\n",
      "[I 2023-06-04 17:54:26,043] Trial 43 finished with value: 0.055813308887629795 and parameters: {'booster': 'dart', 'gamma': 2.6764040813297427, 'max_depth': 12, 'min_child_weight': 3, 'subsample': 0.6981424753518927}. Best is trial 27 with value: 0.05349504157120325.\n",
      "[I 2023-06-04 17:54:26,700] Trial 44 finished with value: 0.055340656951489285 and parameters: {'booster': 'dart', 'gamma': 2.710660856938369, 'max_depth': 12, 'min_child_weight': 3, 'subsample': 0.7138012820732484}. Best is trial 27 with value: 0.05349504157120325.\n",
      "[I 2023-06-04 17:54:27,414] Trial 45 finished with value: 0.05761361661679592 and parameters: {'booster': 'dart', 'gamma': 4.27716786260721, 'max_depth': 20, 'min_child_weight': 3, 'subsample': 0.7160782349160871}. Best is trial 27 with value: 0.05349504157120325.\n",
      "[I 2023-06-04 17:54:29,082] Trial 46 finished with value: 0.05778970255919093 and parameters: {'booster': 'dart', 'gamma': 4.376792389491074, 'max_depth': 12, 'min_child_weight': 3, 'subsample': 0.7149630255104362}. Best is trial 27 with value: 0.05349504157120325.\n",
      "[I 2023-06-04 17:54:33,870] Trial 47 finished with value: 0.05760391941838718 and parameters: {'booster': 'dart', 'gamma': 4.178703722710681, 'max_depth': 19, 'min_child_weight': 3, 'subsample': 0.7205055059681637}. Best is trial 27 with value: 0.05349504157120325.\n",
      "[I 2023-06-04 17:54:35,436] Trial 48 finished with value: 0.05911773238599041 and parameters: {'booster': 'dart', 'gamma': 4.306678859926862, 'max_depth': 19, 'min_child_weight': 3, 'subsample': 0.7666404435880567}. Best is trial 27 with value: 0.05349504157120325.\n",
      "[I 2023-06-04 17:54:35,790] Trial 49 finished with value: 0.05601562375945519 and parameters: {'booster': 'dart', 'gamma': 3.4450600562635785, 'max_depth': 19, 'min_child_weight': 3, 'subsample': 0.5665217044981996}. Best is trial 27 with value: 0.05349504157120325.\n",
      "[I 2023-06-04 17:54:37,608] Trial 50 finished with value: 0.05804728019370343 and parameters: {'booster': 'dart', 'gamma': 3.4336852740317396, 'max_depth': 16, 'min_child_weight': 3, 'subsample': 0.7757162939540946}. Best is trial 27 with value: 0.05349504157120325.\n",
      "[I 2023-06-04 17:54:41,109] Trial 51 finished with value: 0.05842377950146425 and parameters: {'booster': 'dart', 'gamma': 3.806146783206848, 'max_depth': 16, 'min_child_weight': 3, 'subsample': 0.7674258846079515}. Best is trial 27 with value: 0.05349504157120325.\n",
      "[I 2023-06-04 17:54:42,334] Trial 53 finished with value: 0.0601458921976444 and parameters: {'booster': 'dart', 'gamma': 3.90104676209066, 'max_depth': 16, 'min_child_weight': 1, 'subsample': 0.5159448665456983}. Best is trial 27 with value: 0.05349504157120325.\n",
      "[I 2023-06-04 17:54:43,254] Trial 54 finished with value: 0.05749582214954533 and parameters: {'booster': 'dart', 'gamma': 3.5622471746972577, 'max_depth': 13, 'min_child_weight': 3, 'subsample': 0.6224814772785799}. Best is trial 27 with value: 0.05349504157120325.\n",
      "[I 2023-06-04 17:54:43,741] Trial 52 finished with value: 0.056333630724656025 and parameters: {'booster': 'dart', 'gamma': 3.4003387451929776, 'max_depth': 16, 'min_child_weight': 1, 'subsample': 0.5758450174370741}. Best is trial 27 with value: 0.05349504157120325.\n",
      "[I 2023-06-04 17:54:47,114] Trial 58 finished with value: 0.0573949442765249 and parameters: {'booster': 'gbtree', 'gamma': 3.1347738939488585, 'max_depth': 13, 'min_child_weight': 3, 'subsample': 0.6821054778269537}. Best is trial 27 with value: 0.05349504157120325.\n",
      "[I 2023-06-04 17:54:47,478] Trial 55 finished with value: 0.05759491969693683 and parameters: {'booster': 'dart', 'gamma': 3.5723935287690383, 'max_depth': 13, 'min_child_weight': 3, 'subsample': 0.6259652987676739}. Best is trial 27 with value: 0.05349504157120325.\n",
      "[I 2023-06-04 17:54:49,189] Trial 56 finished with value: 0.057904183418242786 and parameters: {'booster': 'dart', 'gamma': 3.550341104700597, 'max_depth': 13, 'min_child_weight': 3, 'subsample': 0.6322794484902126}. Best is trial 27 with value: 0.05349504157120325.\n",
      "[I 2023-06-04 17:54:49,756] Trial 57 finished with value: 0.056421746472908194 and parameters: {'booster': 'dart', 'gamma': 3.149797312401139, 'max_depth': 13, 'min_child_weight': 3, 'subsample': 0.566360424355758}. Best is trial 27 with value: 0.05349504157120325.\n",
      "[I 2023-06-04 17:54:50,598] Trial 62 finished with value: 0.05533511044067935 and parameters: {'booster': 'gbtree', 'gamma': 3.823225080279406, 'max_depth': 3, 'min_child_weight': 3, 'subsample': 0.670075547884407}. Best is trial 27 with value: 0.05349504157120325.\n",
      "[I 2023-06-04 17:54:50,838] Trial 60 finished with value: 0.058657742813543426 and parameters: {'booster': 'dart', 'gamma': 3.7538450800535936, 'max_depth': 3, 'min_child_weight': 3, 'subsample': 0.6722709917231728}. Best is trial 27 with value: 0.05349504157120325.\n",
      "[I 2023-06-04 17:54:52,491] Trial 59 finished with value: 0.05692215170006825 and parameters: {'booster': 'dart', 'gamma': 3.7292314148108274, 'max_depth': 11, 'min_child_weight': 3, 'subsample': 0.6764286014320621}. Best is trial 27 with value: 0.05349504157120325.\n"
     ]
    },
    {
     "name": "stderr",
     "output_type": "stream",
     "text": [
      "[I 2023-06-04 17:54:52,989] Trial 61 finished with value: 0.057961561490092135 and parameters: {'booster': 'gbtree', 'gamma': 3.774605418676369, 'max_depth': 11, 'min_child_weight': 3, 'subsample': 0.6824312029737201}. Best is trial 27 with value: 0.05349504157120325.\n",
      "[I 2023-06-04 17:54:54,707] Trial 64 finished with value: 0.05553516297720956 and parameters: {'booster': 'dart', 'gamma': 3.063671766006202, 'max_depth': 6, 'min_child_weight': 2, 'subsample': 0.6646126309815925}. Best is trial 27 with value: 0.05349504157120325.\n",
      "[I 2023-06-04 17:54:55,526] Trial 63 finished with value: 0.05678853658274723 and parameters: {'booster': 'dart', 'gamma': 4.024910530039234, 'max_depth': 18, 'min_child_weight': 3, 'subsample': 0.547677819091708}. Best is trial 27 with value: 0.05349504157120325.\n",
      "[I 2023-06-04 17:54:56,468] Trial 65 finished with value: 0.05685387756542877 and parameters: {'booster': 'dart', 'gamma': 3.2827680279484506, 'max_depth': 6, 'min_child_weight': 2, 'subsample': 0.6593503772457227}. Best is trial 27 with value: 0.05349504157120325.\n",
      "[I 2023-06-04 17:54:57,931] Trial 66 finished with value: 0.05476440660246362 and parameters: {'booster': 'dart', 'gamma': 3.347006608787391, 'max_depth': 10, 'min_child_weight': 2, 'subsample': 0.6449680013562816}. Best is trial 27 with value: 0.05349504157120325.\n",
      "[I 2023-06-04 17:55:00,355] Trial 67 finished with value: 0.05760458533413938 and parameters: {'booster': 'dart', 'gamma': 3.348107164338133, 'max_depth': 10, 'min_child_weight': 2, 'subsample': 0.6071988874261082}. Best is trial 27 with value: 0.05349504157120325.\n",
      "[I 2023-06-04 17:55:01,236] Trial 68 finished with value: 0.057996503717911 and parameters: {'booster': 'dart', 'gamma': 3.3196836448486295, 'max_depth': 10, 'min_child_weight': 2, 'subsample': 0.6064569433368653}. Best is trial 27 with value: 0.05349504157120325.\n",
      "[I 2023-06-04 17:55:01,726] Trial 69 finished with value: 0.057606122248585426 and parameters: {'booster': 'dart', 'gamma': 3.406391124677847, 'max_depth': 10, 'min_child_weight': 2, 'subsample': 0.613076681231853}. Best is trial 27 with value: 0.05349504157120325.\n",
      "[I 2023-06-04 17:55:03,931] Trial 70 finished with value: 0.056961104638009415 and parameters: {'booster': 'dart', 'gamma': 3.0352532512302988, 'max_depth': 15, 'min_child_weight': 2, 'subsample': 0.7003063794552543}. Best is trial 27 with value: 0.05349504157120325.\n",
      "[I 2023-06-04 17:55:04,286] Trial 71 finished with value: 0.05536510417098678 and parameters: {'booster': 'dart', 'gamma': 2.916838611041685, 'max_depth': 8, 'min_child_weight': 2, 'subsample': 0.7081143341444872}. Best is trial 27 with value: 0.05349504157120325.\n",
      "[I 2023-06-04 17:55:07,016] Trial 72 finished with value: 0.0554131040249667 and parameters: {'booster': 'dart', 'gamma': 3.0065277016456946, 'max_depth': 14, 'min_child_weight': 2, 'subsample': 0.7014010586335446}. Best is trial 27 with value: 0.05349504157120325.\n",
      "[I 2023-06-04 17:55:08,314] Trial 73 finished with value: 0.05991885432529626 and parameters: {'booster': 'dart', 'gamma': 3.056757176889233, 'max_depth': 14, 'min_child_weight': 2, 'subsample': 0.7400278872055641}. Best is trial 27 with value: 0.05349504157120325.\n",
      "[I 2023-06-04 17:55:08,768] Trial 74 finished with value: 0.05463802217509528 and parameters: {'booster': 'dart', 'gamma': 2.9210332933984438, 'max_depth': 8, 'min_child_weight': 2, 'subsample': 0.6387777369895361}. Best is trial 27 with value: 0.05349504157120325.\n",
      "[I 2023-06-04 17:55:08,796] Trial 75 finished with value: 0.05476271539102911 and parameters: {'booster': 'dart', 'gamma': 2.8534622233087896, 'max_depth': 9, 'min_child_weight': 2, 'subsample': 0.6458927971690108}. Best is trial 27 with value: 0.05349504157120325.\n",
      "[I 2023-06-04 17:55:12,017] Trial 76 finished with value: 0.05478923869146777 and parameters: {'booster': 'dart', 'gamma': 2.865370613495494, 'max_depth': 9, 'min_child_weight': 2, 'subsample': 0.6466507804925314}. Best is trial 27 with value: 0.05349504157120325.\n",
      "[I 2023-06-04 17:55:12,201] Trial 77 finished with value: 0.059518092008202295 and parameters: {'booster': 'dart', 'gamma': 3.6228313571553206, 'max_depth': 7, 'min_child_weight': 2, 'subsample': 0.6360275101254789}. Best is trial 27 with value: 0.05349504157120325.\n",
      "[I 2023-06-04 17:55:13,169] Trial 78 finished with value: 0.05949862545634692 and parameters: {'booster': 'dart', 'gamma': 3.6480013356563017, 'max_depth': 9, 'min_child_weight': 2, 'subsample': 0.6543717848868805}. Best is trial 27 with value: 0.05349504157120325.\n",
      "[I 2023-06-04 17:55:13,985] Trial 79 finished with value: 0.05949701148710319 and parameters: {'booster': 'dart', 'gamma': 3.599523954712362, 'max_depth': 9, 'min_child_weight': 2, 'subsample': 0.6538897940613219}. Best is trial 27 with value: 0.05349504157120325.\n",
      "[I 2023-06-04 17:55:16,538] Trial 80 finished with value: 0.05582975427372443 and parameters: {'booster': 'dart', 'gamma': 3.604517215241196, 'max_depth': 7, 'min_child_weight': 3, 'subsample': 0.5844157158352048}. Best is trial 27 with value: 0.05349504157120325.\n",
      "[I 2023-06-04 17:55:16,568] Trial 82 finished with value: 0.05638586351789407 and parameters: {'booster': 'gbtree', 'gamma': 3.228410080457147, 'max_depth': 18, 'min_child_weight': 3, 'subsample': 0.5954841266900036}. Best is trial 27 with value: 0.05349504157120325.\n",
      "[I 2023-06-04 17:55:17,042] Trial 81 finished with value: 0.05512066289301328 and parameters: {'booster': 'dart', 'gamma': 3.2088224806819303, 'max_depth': 9, 'min_child_weight': 3, 'subsample': 0.5901371137308993}. Best is trial 27 with value: 0.05349504157120325.\n",
      "[I 2023-06-04 17:55:17,943] Trial 83 finished with value: 0.05565951800893967 and parameters: {'booster': 'gbtree', 'gamma': 3.2092940847736298, 'max_depth': 17, 'min_child_weight': 3, 'subsample': 0.5868631519671744}. Best is trial 27 with value: 0.05349504157120325.\n",
      "[I 2023-06-04 17:55:20,392] Trial 85 finished with value: 0.053975760650446486 and parameters: {'booster': 'dart', 'gamma': 3.1790458309308494, 'max_depth': 7, 'min_child_weight': 2, 'subsample': 0.617752822770197}. Best is trial 27 with value: 0.05349504157120325.\n",
      "[I 2023-06-04 17:55:20,789] Trial 84 finished with value: 0.05442916921354425 and parameters: {'booster': 'dart', 'gamma': 3.267054580102637, 'max_depth': 8, 'min_child_weight': 2, 'subsample': 0.6198279599519096}. Best is trial 27 with value: 0.05349504157120325.\n",
      "[I 2023-06-04 17:55:21,459] Trial 86 finished with value: 0.0573883860204111 and parameters: {'booster': 'dart', 'gamma': 2.8136823065469656, 'max_depth': 7, 'min_child_weight': 2, 'subsample': 0.6240569433360281}. Best is trial 27 with value: 0.05349504157120325.\n",
      "[I 2023-06-04 17:55:21,726] Trial 87 finished with value: 0.05759785536999511 and parameters: {'booster': 'dart', 'gamma': 3.489673506041294, 'max_depth': 7, 'min_child_weight': 2, 'subsample': 0.6230955395533517}. Best is trial 27 with value: 0.05349504157120325.\n",
      "[I 2023-06-04 17:55:23,834] Trial 88 finished with value: 0.05757864744568426 and parameters: {'booster': 'dart', 'gamma': 3.4788344463727228, 'max_depth': 5, 'min_child_weight': 2, 'subsample': 0.6234587912733424}. Best is trial 27 with value: 0.05349504157120325.\n",
      "[I 2023-06-04 17:55:24,569] Trial 89 finished with value: 0.05754885317421822 and parameters: {'booster': 'dart', 'gamma': 3.496574093191808, 'max_depth': 7, 'min_child_weight': 2, 'subsample': 0.6134307148101164}. Best is trial 27 with value: 0.05349504157120325.\n",
      "[I 2023-06-04 17:55:26,371] Trial 90 finished with value: 0.05333098349907782 and parameters: {'booster': 'dart', 'gamma': 3.4617294440890913, 'max_depth': 12, 'min_child_weight': 2, 'subsample': 0.6221238613476002}. Best is trial 90 with value: 0.05333098349907782.\n",
      "[I 2023-06-04 17:55:28,051] Trial 91 finished with value: 0.054373821478003924 and parameters: {'booster': 'dart', 'gamma': 3.497572161993285, 'max_depth': 15, 'min_child_weight': 2, 'subsample': 0.7285894119893097}. Best is trial 90 with value: 0.05333098349907782.\n",
      "[I 2023-06-04 17:55:29,088] Trial 93 finished with value: 0.05654876698860217 and parameters: {'booster': 'dart', 'gamma': 3.1230771816232985, 'max_depth': 12, 'min_child_weight': 3, 'subsample': 0.7305793654229495}. Best is trial 90 with value: 0.05333098349907782.\n"
     ]
    },
    {
     "name": "stderr",
     "output_type": "stream",
     "text": [
      "[I 2023-06-04 17:55:29,516] Trial 92 finished with value: 0.05317580881894549 and parameters: {'booster': 'dart', 'gamma': 3.883745241182794, 'max_depth': 12, 'min_child_weight': 3, 'subsample': 0.7310863820265738}. Best is trial 92 with value: 0.05317580881894549.\n",
      "[I 2023-06-04 17:55:32,623] Trial 94 finished with value: 0.0584314697797569 and parameters: {'booster': 'dart', 'gamma': 3.311461524572898, 'max_depth': 12, 'min_child_weight': 2, 'subsample': 0.6909445066792815}. Best is trial 92 with value: 0.05317580881894549.\n",
      "[I 2023-06-04 17:55:32,807] Trial 95 finished with value: 0.05381362176553817 and parameters: {'booster': 'dart', 'gamma': 3.7131412446784227, 'max_depth': 12, 'min_child_weight': 2, 'subsample': 0.7237320035741778}. Best is trial 92 with value: 0.05317580881894549.\n",
      "[I 2023-06-04 17:55:34,725] Trial 97 finished with value: 0.05878129932747021 and parameters: {'booster': 'dart', 'gamma': 3.8878515148813246, 'max_depth': 15, 'min_child_weight': 3, 'subsample': 0.7474590579300527}. Best is trial 92 with value: 0.05317580881894549.\n",
      "[I 2023-06-04 17:55:35,821] Trial 96 finished with value: 0.05965422019430375 and parameters: {'booster': 'dart', 'gamma': 3.9062134427499706, 'max_depth': 15, 'min_child_weight': 2, 'subsample': 0.7537548174260124}. Best is trial 92 with value: 0.05317580881894549.\n",
      "[I 2023-06-04 17:55:38,470] Trial 98 finished with value: 0.057780268657636295 and parameters: {'booster': 'dart', 'gamma': 4.096895718476956, 'max_depth': 14, 'min_child_weight': 3, 'subsample': 0.7486779545361898}. Best is trial 92 with value: 0.05317580881894549.\n",
      "[I 2023-06-04 17:55:40,854] Trial 99 finished with value: 0.0575600947135284 and parameters: {'booster': 'dart', 'gamma': 3.8519918621879525, 'max_depth': 15, 'min_child_weight': 2, 'subsample': 0.751970881891728}. Best is trial 92 with value: 0.05317580881894549.\n",
      "[I 2023-06-04 17:55:41,145] Trial 100 finished with value: 0.055322030690213846 and parameters: {'booster': 'dart', 'gamma': 4.051856722111851, 'max_depth': 14, 'min_child_weight': 2, 'subsample': 0.7238604825914217}. Best is trial 92 with value: 0.05317580881894549.\n",
      "[I 2023-06-04 17:55:42,993] Trial 101 finished with value: 0.05533836316319374 and parameters: {'booster': 'dart', 'gamma': 4.052378084575315, 'max_depth': 14, 'min_child_weight': 2, 'subsample': 0.7283672490563874}. Best is trial 92 with value: 0.05317580881894549.\n",
      "[I 2023-06-04 17:55:43,858] Trial 102 finished with value: 0.05381384781596298 and parameters: {'booster': 'dart', 'gamma': 3.736529849776936, 'max_depth': 11, 'min_child_weight': 2, 'subsample': 0.7255259872490718}. Best is trial 92 with value: 0.05317580881894549.\n",
      "[I 2023-06-04 17:55:46,097] Trial 103 finished with value: 0.05382383773899665 and parameters: {'booster': 'dart', 'gamma': 3.7120997447075705, 'max_depth': 11, 'min_child_weight': 2, 'subsample': 0.7210221043436046}. Best is trial 92 with value: 0.05317580881894549.\n",
      "[I 2023-06-04 17:55:48,200] Trial 104 finished with value: 0.05382333235182229 and parameters: {'booster': 'dart', 'gamma': 3.702844531654746, 'max_depth': 13, 'min_child_weight': 3, 'subsample': 0.7217990707617084}. Best is trial 92 with value: 0.05317580881894549.\n",
      "[I 2023-06-04 17:55:49,526] Trial 106 finished with value: 0.053863717434620546 and parameters: {'booster': 'dart', 'gamma': 3.714016507324827, 'max_depth': 11, 'min_child_weight': 2, 'subsample': 0.7083004977354842}. Best is trial 92 with value: 0.05317580881894549.\n",
      "[I 2023-06-04 17:55:49,643] Trial 105 finished with value: 0.05900774914763646 and parameters: {'booster': 'dart', 'gamma': 3.7387677368853893, 'max_depth': 13, 'min_child_weight': 3, 'subsample': 0.7845602688520431}. Best is trial 92 with value: 0.05317580881894549.\n",
      "[I 2023-06-04 17:55:51,506] Trial 107 finished with value: 0.05386273868392181 and parameters: {'booster': 'dart', 'gamma': 3.702454172241757, 'max_depth': 11, 'min_child_weight': 2, 'subsample': 0.7042763381400996}. Best is trial 92 with value: 0.05317580881894549.\n",
      "[I 2023-06-04 17:55:54,258] Trial 108 finished with value: 0.056797629022199266 and parameters: {'booster': 'dart', 'gamma': 3.711851838727891, 'max_depth': 12, 'min_child_weight': 2, 'subsample': 0.7005482464387551}. Best is trial 92 with value: 0.05317580881894549.\n",
      "[I 2023-06-04 17:55:54,892] Trial 109 finished with value: 0.053865300133091265 and parameters: {'booster': 'dart', 'gamma': 3.7130542093070176, 'max_depth': 11, 'min_child_weight': 2, 'subsample': 0.7080290099896875}. Best is trial 92 with value: 0.05317580881894549.\n",
      "[I 2023-06-04 17:55:55,089] Trial 110 finished with value: 0.05530455405945489 and parameters: {'booster': 'dart', 'gamma': 3.7097162808716084, 'max_depth': 11, 'min_child_weight': 2, 'subsample': 0.7067240112658862}. Best is trial 92 with value: 0.05317580881894549.\n",
      "[I 2023-06-04 17:55:56,434] Trial 111 finished with value: 0.053831381914737846 and parameters: {'booster': 'dart', 'gamma': 3.684485755906439, 'max_depth': 12, 'min_child_weight': 2, 'subsample': 0.7056387866271042}. Best is trial 92 with value: 0.05317580881894549.\n",
      "[I 2023-06-04 17:55:58,541] Trial 112 finished with value: 0.05529159537092952 and parameters: {'booster': 'dart', 'gamma': 3.7899157570174227, 'max_depth': 11, 'min_child_weight': 2, 'subsample': 0.7114860475433132}. Best is trial 92 with value: 0.05317580881894549.\n",
      "[I 2023-06-04 17:56:00,465] Trial 114 finished with value: 0.0576049444589586 and parameters: {'booster': 'dart', 'gamma': 3.7923931840149776, 'max_depth': 11, 'min_child_weight': 2, 'subsample': 0.6871769163998857}. Best is trial 92 with value: 0.05317580881894549.\n",
      "[I 2023-06-04 17:56:00,637] Trial 113 finished with value: 0.058676842704462794 and parameters: {'booster': 'dart', 'gamma': 3.9859365342979483, 'max_depth': 11, 'min_child_weight': 2, 'subsample': 0.6878056172657757}. Best is trial 92 with value: 0.05317580881894549.\n",
      "[I 2023-06-04 17:56:00,906] Trial 115 finished with value: 0.055915566182129055 and parameters: {'booster': 'dart', 'gamma': 3.981714090858429, 'max_depth': 11, 'min_child_weight': 2, 'subsample': 0.6848174947462735}. Best is trial 92 with value: 0.05317580881894549.\n",
      "[I 2023-06-04 17:56:03,241] Trial 116 finished with value: 0.0586682851898008 and parameters: {'booster': 'dart', 'gamma': 3.9480925740175836, 'max_depth': 12, 'min_child_weight': 2, 'subsample': 0.6887373746388524}. Best is trial 92 with value: 0.05317580881894549.\n",
      "[I 2023-06-04 17:56:05,897] Trial 117 finished with value: 0.05935491719788488 and parameters: {'booster': 'dart', 'gamma': 3.928700966518944, 'max_depth': 12, 'min_child_weight': 2, 'subsample': 0.6725046285388802}. Best is trial 92 with value: 0.05317580881894549.\n",
      "[I 2023-06-04 17:56:05,937] Trial 118 finished with value: 0.05530378830611428 and parameters: {'booster': 'dart', 'gamma': 3.9769493619841, 'max_depth': 12, 'min_child_weight': 2, 'subsample': 0.7149790890657274}. Best is trial 92 with value: 0.05317580881894549.\n",
      "[I 2023-06-04 17:56:06,070] Trial 119 finished with value: 0.057593521511952774 and parameters: {'booster': 'dart', 'gamma': 4.156365698189537, 'max_depth': 12, 'min_child_weight': 2, 'subsample': 0.7177080593945891}. Best is trial 92 with value: 0.05317580881894549.\n",
      "[I 2023-06-04 17:56:08,034] Trial 120 finished with value: 0.057603481486966396 and parameters: {'booster': 'dart', 'gamma': 4.147106887486957, 'max_depth': 12, 'min_child_weight': 2, 'subsample': 0.7198963855797642}. Best is trial 92 with value: 0.05317580881894549.\n",
      "[I 2023-06-04 17:56:09,388] Trial 123 finished with value: 0.056166014882145045 and parameters: {'booster': 'gbtree', 'gamma': 3.385923188936218, 'max_depth': 13, 'min_child_weight': 2, 'subsample': 0.7300773638040966}. Best is trial 92 with value: 0.05317580881894549.\n",
      "[I 2023-06-04 17:56:10,442] Trial 122 finished with value: 0.05633554769807506 and parameters: {'booster': 'gbtree', 'gamma': 4.17121293697609, 'max_depth': 13, 'min_child_weight': 2, 'subsample': 0.7185148744997234}. Best is trial 92 with value: 0.05317580881894549.\n",
      "[I 2023-06-04 17:56:11,328] Trial 121 finished with value: 0.057604032495207395 and parameters: {'booster': 'dart', 'gamma': 4.160242009431227, 'max_depth': 10, 'min_child_weight': 2, 'subsample': 0.7205206075363925}. Best is trial 92 with value: 0.05317580881894549.\n"
     ]
    },
    {
     "name": "stderr",
     "output_type": "stream",
     "text": [
      "[I 2023-06-04 17:56:13,653] Trial 124 finished with value: 0.05654156888709439 and parameters: {'booster': 'dart', 'gamma': 3.6665806031238097, 'max_depth': 13, 'min_child_weight': 2, 'subsample': 0.7389764018820727}. Best is trial 92 with value: 0.05317580881894549.\n",
      "[I 2023-06-04 17:56:14,456] Trial 125 finished with value: 0.05672672755587854 and parameters: {'booster': 'dart', 'gamma': 3.649546977856417, 'max_depth': 10, 'min_child_weight': 2, 'subsample': 0.7005398596165886}. Best is trial 92 with value: 0.05317580881894549.\n",
      "[I 2023-06-04 17:56:15,539] Trial 126 finished with value: 0.056729784361624416 and parameters: {'booster': 'dart', 'gamma': 3.6880239488423956, 'max_depth': 10, 'min_child_weight': 2, 'subsample': 0.7001147686170218}. Best is trial 92 with value: 0.05317580881894549.\n",
      "[I 2023-06-04 17:56:16,196] Trial 127 finished with value: 0.056724145808367925 and parameters: {'booster': 'dart', 'gamma': 3.618574558615801, 'max_depth': 11, 'min_child_weight': 2, 'subsample': 0.7006710762743459}. Best is trial 92 with value: 0.05317580881894549.\n",
      "[I 2023-06-04 17:56:18,349] Trial 128 finished with value: 0.05672978777553628 and parameters: {'booster': 'dart', 'gamma': 3.561457373456172, 'max_depth': 11, 'min_child_weight': 2, 'subsample': 0.7001353278552336}. Best is trial 92 with value: 0.05317580881894549.\n",
      "[I 2023-06-04 17:56:19,515] Trial 129 finished with value: 0.05692464691977298 and parameters: {'booster': 'dart', 'gamma': 3.7952965200753814, 'max_depth': 11, 'min_child_weight': 2, 'subsample': 0.6785334587795367}. Best is trial 92 with value: 0.05317580881894549.\n",
      "[I 2023-06-04 17:56:20,574] Trial 130 finished with value: 0.05758577122967659 and parameters: {'booster': 'dart', 'gamma': 3.5364835121743603, 'max_depth': 11, 'min_child_weight': 2, 'subsample': 0.6723584066761512}. Best is trial 92 with value: 0.05317580881894549.\n",
      "[I 2023-06-04 17:56:20,911] Trial 131 finished with value: 0.05870584041496356 and parameters: {'booster': 'dart', 'gamma': 3.828876161979704, 'max_depth': 11, 'min_child_weight': 2, 'subsample': 0.7404193924975204}. Best is trial 92 with value: 0.05317580881894549.\n",
      "[I 2023-06-04 17:56:23,541] Trial 134 finished with value: 0.056563166291465225 and parameters: {'booster': 'dart', 'gamma': 3.469290547102932, 'max_depth': 4, 'min_child_weight': 2, 'subsample': 0.7372860729700061}. Best is trial 92 with value: 0.05317580881894549.\n",
      "[I 2023-06-04 17:56:23,658] Trial 132 finished with value: 0.0594253320342368 and parameters: {'booster': 'dart', 'gamma': 3.8144486898149026, 'max_depth': 11, 'min_child_weight': 2, 'subsample': 0.6724277812514646}. Best is trial 92 with value: 0.05317580881894549.\n",
      "[I 2023-06-04 17:56:24,834] Trial 133 finished with value: 0.054000264911540835 and parameters: {'booster': 'dart', 'gamma': 3.421293864403637, 'max_depth': 12, 'min_child_weight': 1, 'subsample': 0.6654911826925819}. Best is trial 92 with value: 0.05317580881894549.\n",
      "[I 2023-06-04 17:56:25,658] Trial 135 finished with value: 0.05317865953226011 and parameters: {'booster': 'dart', 'gamma': 3.413629725507718, 'max_depth': 12, 'min_child_weight': 2, 'subsample': 0.7336842423209925}. Best is trial 92 with value: 0.05317580881894549.\n",
      "[I 2023-06-04 17:56:28,469] Trial 136 finished with value: 0.05529728099686603 and parameters: {'booster': 'dart', 'gamma': 3.4076373094238495, 'max_depth': 13, 'min_child_weight': 1, 'subsample': 0.6580507185618185}. Best is trial 92 with value: 0.05317580881894549.\n",
      "[I 2023-06-04 17:56:28,768] Trial 137 finished with value: 0.05610319040353152 and parameters: {'booster': 'dart', 'gamma': 3.4045869808701963, 'max_depth': 12, 'min_child_weight': 2, 'subsample': 0.6628034021522874}. Best is trial 92 with value: 0.05317580881894549.\n",
      "[I 2023-06-04 17:56:29,873] Trial 138 finished with value: 0.057373346111520444 and parameters: {'booster': 'dart', 'gamma': 3.346393232722343, 'max_depth': 13, 'min_child_weight': 2, 'subsample': 0.6588793440999828}. Best is trial 92 with value: 0.05317580881894549.\n",
      "[I 2023-06-04 17:56:30,788] Trial 139 finished with value: 0.05552605232820216 and parameters: {'booster': 'dart', 'gamma': 3.403045850779024, 'max_depth': 12, 'min_child_weight': 2, 'subsample': 0.7133250413207348}. Best is trial 92 with value: 0.05317580881894549.\n",
      "[I 2023-06-04 17:56:33,167] Trial 140 finished with value: 0.05644286903595513 and parameters: {'booster': 'dart', 'gamma': 3.562470673475894, 'max_depth': 12, 'min_child_weight': 2, 'subsample': 0.762382864865331}. Best is trial 92 with value: 0.05317580881894549.\n",
      "[I 2023-06-04 17:56:34,439] Trial 141 finished with value: 0.05966847061782039 and parameters: {'booster': 'dart', 'gamma': 3.7193156779361636, 'max_depth': 12, 'min_child_weight': 2, 'subsample': 0.7581313079696432}. Best is trial 92 with value: 0.05317580881894549.\n",
      "[I 2023-06-04 17:56:34,762] Trial 142 finished with value: 0.057794959010079916 and parameters: {'booster': 'dart', 'gamma': 3.569796249363875, 'max_depth': 12, 'min_child_weight': 2, 'subsample': 0.7597987348074432}. Best is trial 92 with value: 0.05317580881894549.\n",
      "[I 2023-06-04 17:56:35,839] Trial 143 finished with value: 0.0575600947135284 and parameters: {'booster': 'dart', 'gamma': 3.548064083687913, 'max_depth': 12, 'min_child_weight': 2, 'subsample': 0.7519658955526003}. Best is trial 92 with value: 0.05317580881894549.\n",
      "[I 2023-06-04 17:56:38,503] Trial 145 finished with value: 0.05378463779461989 and parameters: {'booster': 'dart', 'gamma': 3.6296253988395195, 'max_depth': 10, 'min_child_weight': 2, 'subsample': 0.7301048869715402}. Best is trial 92 with value: 0.05317580881894549.\n",
      "[I 2023-06-04 17:56:38,634] Trial 144 finished with value: 0.05378157400928796 and parameters: {'booster': 'dart', 'gamma': 3.705370617328802, 'max_depth': 12, 'min_child_weight': 2, 'subsample': 0.7304329724836616}. Best is trial 92 with value: 0.05317580881894549.\n",
      "[I 2023-06-04 17:56:40,087] Trial 146 finished with value: 0.056532868277162404 and parameters: {'booster': 'dart', 'gamma': 3.6751366917781816, 'max_depth': 13, 'min_child_weight': 2, 'subsample': 0.7379109467529481}. Best is trial 92 with value: 0.05317580881894549.\n",
      "[I 2023-06-04 17:56:40,903] Trial 147 finished with value: 0.055120460232408054 and parameters: {'booster': 'dart', 'gamma': 3.2813316684794662, 'max_depth': 13, 'min_child_weight': 2, 'subsample': 0.6360176837651111}. Best is trial 92 with value: 0.05317580881894549.\n",
      "[I 2023-06-04 17:56:41,924] Trial 149 finished with value: 0.05317346847921506 and parameters: {'booster': 'dart', 'gamma': 3.8614496513661845, 'max_depth': 10, 'min_child_weight': 2, 'subsample': 0.7313429121788284}. Best is trial 149 with value: 0.05317346847921506.\n",
      "[I 2023-06-04 17:56:47,160] Trial 148 finished with value: 0.053173531241346765 and parameters: {'booster': 'dart', 'gamma': 3.8791525710538237, 'max_depth': 10, 'min_child_weight': 2, 'subsample': 0.735438964941634}. Best is trial 149 with value: 0.05317346847921506.\n"
     ]
    }
   ],
   "source": [
    "from sklearn.metrics import mean_squared_error, r2_score\n",
    "from xgboost import XGBRegressor\n",
    "import optuna\n",
    "\n",
    "# objective function to be minimized\n",
    "def objective_fun(trial):\n",
    "\n",
    "    booster = trial.suggest_categorical('booster', ['gbtree', 'dart'])\n",
    "    gamma = trial.suggest_float('gamma', 0, 5)\n",
    "    max_depth = trial.suggest_int('max_depth', 3, 20)\n",
    "    min_child_weight = trial.suggest_int('min_child_weight', 1, 3)\n",
    "    subsample = trial.suggest_float('subsample', 0.4, 1)\n",
    "\n",
    "    xgb = XGBRegressor(booster=booster, gamma=gamma, max_depth=max_depth, min_child_weight=min_child_weight, subsample=subsample)\n",
    "\n",
    "    xgb.fit(X_train, y_train)\n",
    "    y_pred = xgb.predict(X_valid)\n",
    "\n",
    "    error = mean_squared_error(y_valid, y_pred)\n",
    "\n",
    "    return error\n",
    "\n",
    "\n",
    "study = optuna.create_study()\n",
    "study.optimize(objective_fun, n_trials=150, n_jobs=-1)"
   ]
  },
  {
   "cell_type": "code",
   "execution_count": 11,
   "metadata": {
    "ExecuteTime": {
     "end_time": "2023-06-04T14:39:46.891525Z",
     "start_time": "2023-06-04T14:39:46.546981Z"
    }
   },
   "outputs": [
    {
     "name": "stdout",
     "output_type": "stream",
     "text": [
      "{'booster': 'dart', 'gamma': 3.8614496513661845, 'max_depth': 10, 'min_child_weight': 2, 'subsample': 0.7313429121788284}\n",
      "Root mean squared error = 0.2999\n",
      "R-squared = 0.8031\n"
     ]
    }
   ],
   "source": [
    "best_params = study.best_params\n",
    "\n",
    "xgb = XGBRegressor(**best_params)\n",
    "xgb.fit(X_train, y_train)\n",
    "\n",
    "y_pred_test = xgb.predict(X_test)\n",
    "\n",
    "print(best_params)\n",
    "print('Root mean squared error = %.4f' % np.sqrt(mean_squared_error(y_test, y_pred_test)))\n",
    "print('R-squared = %.4f' % r2_score(y_test, y_pred_test))"
   ]
  },
  {
   "cell_type": "code",
   "execution_count": 12,
   "metadata": {
    "ExecuteTime": {
     "end_time": "2023-06-04T14:39:46.943494Z",
     "start_time": "2023-06-04T14:39:46.892011Z"
    }
   },
   "outputs": [
    {
     "data": {
      "text/plain": [
       "array([1.2835833e-02, 2.6897478e-03, 1.2835833e-02, ..., 8.4187050e-05,\n",
       "       8.4187050e-05, 5.9930906e-05], dtype=float32)"
      ]
     },
     "execution_count": 12,
     "metadata": {},
     "output_type": "execute_result"
    }
   ],
   "source": [
    "y_pred = xgb.predict(X_to_pred)\n",
    "y_pred = np.power(10, y_pred)\n",
    "y_pred"
   ]
  },
  {
   "cell_type": "code",
   "execution_count": 13,
   "metadata": {
    "ExecuteTime": {
     "end_time": "2023-06-04T14:39:46.952041Z",
     "start_time": "2023-06-04T14:39:46.910469Z"
    }
   },
   "outputs": [
    {
     "data": {
      "text/plain": [
       "0"
      ]
     },
     "execution_count": 13,
     "metadata": {},
     "output_type": "execute_result"
    }
   ],
   "source": [
    "# negative values predicted\n",
    "np.count_nonzero(y_pred < 0)"
   ]
  },
  {
   "cell_type": "code",
   "execution_count": 14,
   "metadata": {
    "ExecuteTime": {
     "end_time": "2023-06-04T14:39:46.952607Z",
     "start_time": "2023-06-04T14:39:46.918710Z"
    }
   },
   "outputs": [],
   "source": [
    "df_zero['stft_min'] = y_pred\n",
    "df.update(df_zero)"
   ]
  },
  {
   "cell_type": "code",
   "execution_count": 15,
   "metadata": {
    "ExecuteTime": {
     "end_time": "2023-06-04T14:39:47.138807Z",
     "start_time": "2023-06-04T14:39:46.946341Z"
    }
   },
   "outputs": [
    {
     "data": {
      "image/png": "[encoded data removed]",
      "text/plain": [
       "<Figure size 640x480 with 1 Axes>"
      ]
     },
     "metadata": {},
     "output_type": "display_data"
    }
   ],
   "source": [
    "sns.histplot(data=df, x='stft_min', stat='density')\n",
    "plt.xlabel('stft_min')\n",
    "plt.ylabel('Count')\n",
    "plt.title('Distribution of stft_min')\n",
    "plt.show()"
   ]
  },
  {
   "cell_type": "code",
   "execution_count": 16,
   "metadata": {
    "ExecuteTime": {
     "end_time": "2023-06-04T14:39:47.156114Z",
     "start_time": "2023-06-04T14:39:47.140747Z"
    }
   },
   "outputs": [
    {
     "data": {
      "text/plain": [
       "0.9199475307494182"
      ]
     },
     "execution_count": 16,
     "metadata": {},
     "output_type": "execute_result"
    }
   ],
   "source": [
    "df['stft_min'].corr(df['stft_q01'], method='spearman')"
   ]
  },
  {
   "cell_type": "markdown",
   "metadata": {},
   "source": [
    "# frame_count"
   ]
  },
  {
   "cell_type": "code",
   "execution_count": 17,
   "metadata": {
    "ExecuteTime": {
     "end_time": "2023-06-04T14:39:47.305367Z",
     "start_time": "2023-06-04T14:39:47.149668Z"
    }
   },
   "outputs": [
    {
     "data": {
      "image/png": "[encoded data removed]",
      "text/plain": [
       "<Figure size 640x480 with 1 Axes>"
      ]
     },
     "metadata": {},
     "output_type": "display_data"
    }
   ],
   "source": [
    "sns.histplot(data=df, x=df['frame_count'], stat='density')\n",
    "plt.xlabel('frame_count')\n",
    "plt.ylabel('Count')\n",
    "plt.title('Distribution of frame_count')\n",
    "plt.show()"
   ]
  },
  {
   "cell_type": "code",
   "execution_count": 18,
   "metadata": {
    "ExecuteTime": {
     "end_time": "2023-06-04T14:39:47.305880Z",
     "start_time": "2023-06-04T14:39:47.291515Z"
    }
   },
   "outputs": [
    {
     "name": "stdout",
     "output_type": "stream",
     "text": [
      "(1357, 284) (453, 284) (619, 284)\n"
     ]
    }
   ],
   "source": [
    "from sklearn.model_selection import train_test_split\n",
    "\n",
    "# dataframe has been one hot encoded\n",
    "split_index = df_reg.index[df_reg['actor_actor_19'] == 1][0]\n",
    "\n",
    "df_train = df_reg[:split_index]\n",
    "df_test = df_reg[split_index:]\n",
    "\n",
    "df_train, df_valid = train_test_split(df_train, test_size=0.25, random_state=100)\n",
    "\n",
    "y_train = df_train['frame_count'].to_numpy()\n",
    "y_valid = df_valid['frame_count'].to_numpy()\n",
    "y_test = df_test['frame_count'].to_numpy()\n",
    "\n",
    "df_train = df_train.drop(['frame_count'], axis=1)\n",
    "df_valid = df_valid.drop(['frame_count'], axis=1)\n",
    "df_test = df_test.drop(['frame_count'], axis=1)\n",
    "\n",
    "X_train = df_train.to_numpy()\n",
    "X_valid = df_valid.to_numpy()\n",
    "X_test = df_test.to_numpy()\n",
    "\n",
    "print(X_train.shape, X_valid.shape, X_test.shape)"
   ]
  },
  {
   "cell_type": "code",
   "execution_count": 19,
   "metadata": {
    "ExecuteTime": {
     "end_time": "2023-06-04T14:39:48.438135Z",
     "start_time": "2023-06-04T14:39:47.306431Z"
    }
   },
   "outputs": [
    {
     "data": {
      "image/png": "[encoded data removed]",
      "text/plain": [
       "<Figure size 1000x400 with 1 Axes>"
      ]
     },
     "metadata": {},
     "output_type": "display_data"
    }
   ],
   "source": [
    "f_selector = SelectKBest(score_func=mutual_info_regression, k='all')\n",
    "f_selector.fit(X_train, y_train)\n",
    "\n",
    "plt.figure(figsize=(10, 4))\n",
    "plt.bar([i for i in range(len(f_selector.scores_))], f_selector.scores_)\n",
    "plt.xlabel('Feature index')\n",
    "plt.ylabel('Estimated MI value')\n",
    "plt.show()"
   ]
  },
  {
   "cell_type": "code",
   "execution_count": 20,
   "metadata": {
    "ExecuteTime": {
     "end_time": "2023-06-04T14:39:49.275145Z",
     "start_time": "2023-06-04T14:39:48.437903Z"
    }
   },
   "outputs": [
    {
     "data": {
      "text/html": [
       "<div>\n",
       "<style scoped>\n",
       "    .dataframe tbody tr th:only-of-type {\n",
       "        vertical-align: middle;\n",
       "    }\n",
       "\n",
       "    .dataframe tbody tr th {\n",
       "        vertical-align: top;\n",
       "    }\n",
       "\n",
       "    .dataframe thead th {\n",
       "        text-align: right;\n",
       "    }\n",
       "</style>\n",
       "<table border=\"1\" class=\"dataframe\">\n",
       "  <thead>\n",
       "    <tr style=\"text-align: right;\">\n",
       "      <th></th>\n",
       "      <th>stft_skew</th>\n",
       "      <th>stft_skew_w1</th>\n",
       "      <th>stft_skew_w2</th>\n",
       "      <th>stft_q25_w3</th>\n",
       "    </tr>\n",
       "  </thead>\n",
       "  <tbody>\n",
       "    <tr>\n",
       "      <th>0</th>\n",
       "      <td>-0.492174</td>\n",
       "      <td>-0.561529</td>\n",
       "      <td>0.155481</td>\n",
       "      <td>0.209817</td>\n",
       "    </tr>\n",
       "    <tr>\n",
       "      <th>1</th>\n",
       "      <td>-0.473775</td>\n",
       "      <td>-0.280715</td>\n",
       "      <td>0.128863</td>\n",
       "      <td>0.221506</td>\n",
       "    </tr>\n",
       "    <tr>\n",
       "      <th>2</th>\n",
       "      <td>-0.269943</td>\n",
       "      <td>-0.205140</td>\n",
       "      <td>0.096396</td>\n",
       "      <td>0.295453</td>\n",
       "    </tr>\n",
       "    <tr>\n",
       "      <th>3</th>\n",
       "      <td>-0.414662</td>\n",
       "      <td>-1.838410</td>\n",
       "      <td>0.303969</td>\n",
       "      <td>0.189045</td>\n",
       "    </tr>\n",
       "    <tr>\n",
       "      <th>4</th>\n",
       "      <td>-0.457552</td>\n",
       "      <td>-0.729845</td>\n",
       "      <td>0.164317</td>\n",
       "      <td>0.257204</td>\n",
       "    </tr>\n",
       "    <tr>\n",
       "      <th>...</th>\n",
       "      <td>...</td>\n",
       "      <td>...</td>\n",
       "      <td>...</td>\n",
       "      <td>...</td>\n",
       "    </tr>\n",
       "    <tr>\n",
       "      <th>2424</th>\n",
       "      <td>0.411823</td>\n",
       "      <td>0.320232</td>\n",
       "      <td>0.936319</td>\n",
       "      <td>0.009999</td>\n",
       "    </tr>\n",
       "    <tr>\n",
       "      <th>2425</th>\n",
       "      <td>0.460356</td>\n",
       "      <td>0.154591</td>\n",
       "      <td>0.940912</td>\n",
       "      <td>0.010816</td>\n",
       "    </tr>\n",
       "    <tr>\n",
       "      <th>2426</th>\n",
       "      <td>0.506281</td>\n",
       "      <td>0.107261</td>\n",
       "      <td>0.879905</td>\n",
       "      <td>0.009420</td>\n",
       "    </tr>\n",
       "    <tr>\n",
       "      <th>2427</th>\n",
       "      <td>0.375856</td>\n",
       "      <td>0.201044</td>\n",
       "      <td>0.769979</td>\n",
       "      <td>0.012667</td>\n",
       "    </tr>\n",
       "    <tr>\n",
       "      <th>2428</th>\n",
       "      <td>0.344423</td>\n",
       "      <td>0.378186</td>\n",
       "      <td>0.708949</td>\n",
       "      <td>0.013682</td>\n",
       "    </tr>\n",
       "  </tbody>\n",
       "</table>\n",
       "<p>2429 rows × 4 columns</p>\n",
       "</div>"
      ],
      "text/plain": [
       "      stft_skew  stft_skew_w1  stft_skew_w2  stft_q25_w3\n",
       "0     -0.492174     -0.561529      0.155481     0.209817\n",
       "1     -0.473775     -0.280715      0.128863     0.221506\n",
       "2     -0.269943     -0.205140      0.096396     0.295453\n",
       "3     -0.414662     -1.838410      0.303969     0.189045\n",
       "4     -0.457552     -0.729845      0.164317     0.257204\n",
       "...         ...           ...           ...          ...\n",
       "2424   0.411823      0.320232      0.936319     0.009999\n",
       "2425   0.460356      0.154591      0.940912     0.010816\n",
       "2426   0.506281      0.107261      0.879905     0.009420\n",
       "2427   0.375856      0.201044      0.769979     0.012667\n",
       "2428   0.344423      0.378186      0.708949     0.013682\n",
       "\n",
       "[2429 rows x 4 columns]"
      ]
     },
     "execution_count": 20,
     "metadata": {},
     "output_type": "execute_result"
    }
   ],
   "source": [
    "f_selector = SelectKBest(score_func=mutual_info_regression, k=4)\n",
    "f_selector.fit(X_train, y_train)\n",
    "\n",
    "X_train = f_selector.transform(X_train)\n",
    "X_valid = f_selector.transform(X_valid)\n",
    "X_test = f_selector.transform(X_test)\n",
    "\n",
    "# selected columns\n",
    "selected_indices = f_selector.get_support(indices=True)\n",
    "df_reg.iloc[:, selected_indices]"
   ]
  },
  {
   "cell_type": "code",
   "execution_count": 21,
   "metadata": {
    "ExecuteTime": {
     "end_time": "2023-06-04T14:39:49.278722Z",
     "start_time": "2023-06-04T14:39:49.273976Z"
    }
   },
   "outputs": [],
   "source": [
    "scaler = MinMaxScaler()\n",
    "\n",
    "X_train = scaler.fit_transform(X_train)\n",
    "X_valid = scaler.fit_transform(X_valid)\n",
    "X_test = scaler.fit_transform(X_test)"
   ]
  },
  {
   "cell_type": "code",
   "execution_count": 22,
   "metadata": {
    "ExecuteTime": {
     "end_time": "2023-06-04T14:40:59.104959Z",
     "start_time": "2023-06-04T14:39:49.277390Z"
    }
   },
   "outputs": [
    {
     "name": "stderr",
     "output_type": "stream",
     "text": [
      "[I 2023-06-04 17:58:08,412] A new study created in memory with name: no-name-9d54df08-01d6-46c2-be85-b0467fb0d5f3\n",
      "[I 2023-06-04 17:58:08,774] Trial 0 finished with value: 7770213.227695355 and parameters: {'booster': 'gbtree', 'gamma': 3.910412776583501, 'max_depth': 3, 'min_child_weight': 2, 'subsample': 0.7707159336164165}. Best is trial 0 with value: 7770213.227695355.\n",
      "[I 2023-06-04 17:58:08,829] Trial 1 finished with value: 7574863.088712512 and parameters: {'booster': 'gbtree', 'gamma': 1.827239043575764, 'max_depth': 4, 'min_child_weight': 3, 'subsample': 0.506055904827282}. Best is trial 1 with value: 7574863.088712512.\n",
      "[I 2023-06-04 17:58:09,280] Trial 3 finished with value: 7601516.833207221 and parameters: {'booster': 'gbtree', 'gamma': 0.8125218142189555, 'max_depth': 11, 'min_child_weight': 1, 'subsample': 0.5835242959957101}. Best is trial 1 with value: 7574863.088712512.\n",
      "[I 2023-06-04 17:58:09,667] Trial 5 finished with value: 7593803.523071558 and parameters: {'booster': 'gbtree', 'gamma': 4.863653670484735, 'max_depth': 12, 'min_child_weight': 3, 'subsample': 0.8231174471228371}. Best is trial 1 with value: 7574863.088712512.\n",
      "[I 2023-06-04 17:58:10,349] Trial 7 finished with value: 7545958.285061935 and parameters: {'booster': 'gbtree', 'gamma': 3.603788950997406, 'max_depth': 8, 'min_child_weight': 3, 'subsample': 0.5720565848534866}. Best is trial 7 with value: 7545958.285061935.\n",
      "[I 2023-06-04 17:58:11,644] Trial 4 finished with value: 7583498.955608983 and parameters: {'booster': 'dart', 'gamma': 0.5331137206234743, 'max_depth': 10, 'min_child_weight': 3, 'subsample': 0.6410703065271821}. Best is trial 7 with value: 7545958.285061935.\n",
      "[I 2023-06-04 17:58:11,831] Trial 2 finished with value: 7855607.790275658 and parameters: {'booster': 'dart', 'gamma': 1.4988374793335275, 'max_depth': 14, 'min_child_weight': 2, 'subsample': 0.7338779589460751}. Best is trial 7 with value: 7545958.285061935.\n",
      "[I 2023-06-04 17:58:12,763] Trial 6 finished with value: 7602681.313203858 and parameters: {'booster': 'dart', 'gamma': 1.9268310353309126, 'max_depth': 15, 'min_child_weight': 2, 'subsample': 0.644109899809238}. Best is trial 7 with value: 7545958.285061935.\n",
      "[I 2023-06-04 17:58:13,105] Trial 10 finished with value: 7561194.826163252 and parameters: {'booster': 'gbtree', 'gamma': 2.7178994005875845, 'max_depth': 18, 'min_child_weight': 3, 'subsample': 0.5870048557864368}. Best is trial 7 with value: 7545958.285061935.\n",
      "[I 2023-06-04 17:58:13,262] Trial 9 finished with value: 7576267.189985599 and parameters: {'booster': 'gbtree', 'gamma': 3.939801442561903, 'max_depth': 18, 'min_child_weight': 1, 'subsample': 0.9634184134089485}. Best is trial 7 with value: 7545958.285061935.\n",
      "[I 2023-06-04 17:58:13,346] Trial 11 finished with value: 7591941.318200926 and parameters: {'booster': 'gbtree', 'gamma': 1.6633999570902231, 'max_depth': 8, 'min_child_weight': 2, 'subsample': 0.43135907258677186}. Best is trial 7 with value: 7545958.285061935.\n",
      "[I 2023-06-04 17:58:13,810] Trial 8 finished with value: 7563375.597070959 and parameters: {'booster': 'dart', 'gamma': 2.2592078853040034, 'max_depth': 18, 'min_child_weight': 1, 'subsample': 0.6922179861410047}. Best is trial 7 with value: 7545958.285061935.\n",
      "[I 2023-06-04 17:58:14,540] Trial 12 finished with value: 7521388.940099317 and parameters: {'booster': 'gbtree', 'gamma': 2.841223806373619, 'max_depth': 15, 'min_child_weight': 3, 'subsample': 0.5025522030519868}. Best is trial 12 with value: 7521388.940099317.\n",
      "[I 2023-06-04 17:58:14,623] Trial 15 finished with value: 7564213.327298263 and parameters: {'booster': 'gbtree', 'gamma': 3.0444613254222244, 'max_depth': 7, 'min_child_weight': 3, 'subsample': 0.5313630075560214}. Best is trial 12 with value: 7521388.940099317.\n",
      "[I 2023-06-04 17:58:14,805] Trial 14 finished with value: 7548163.4010761585 and parameters: {'booster': 'gbtree', 'gamma': 2.912553735766568, 'max_depth': 20, 'min_child_weight': 3, 'subsample': 0.5584937733288534}. Best is trial 12 with value: 7521388.940099317.\n",
      "[I 2023-06-04 17:58:15,265] Trial 16 finished with value: 7638273.3654887555 and parameters: {'booster': 'gbtree', 'gamma': 3.112261898861862, 'max_depth': 7, 'min_child_weight': 3, 'subsample': 0.4003594069805204}. Best is trial 12 with value: 7521388.940099317.\n",
      "[I 2023-06-04 17:58:15,477] Trial 18 finished with value: 7613787.188613454 and parameters: {'booster': 'gbtree', 'gamma': 3.4208711178621467, 'max_depth': 6, 'min_child_weight': 3, 'subsample': 0.4107419861778112}. Best is trial 12 with value: 7521388.940099317.\n",
      "[I 2023-06-04 17:58:15,678] Trial 17 finished with value: 7627545.643681339 and parameters: {'booster': 'gbtree', 'gamma': 3.269830650959483, 'max_depth': 14, 'min_child_weight': 3, 'subsample': 0.40204068387024006}. Best is trial 12 with value: 7521388.940099317.\n",
      "[I 2023-06-04 17:58:15,811] Trial 13 finished with value: 7678527.618946606 and parameters: {'booster': 'dart', 'gamma': 2.9950542342965494, 'max_depth': 7, 'min_child_weight': 3, 'subsample': 0.40942838081150523}. Best is trial 12 with value: 7521388.940099317.\n",
      "[I 2023-06-04 17:58:16,582] Trial 22 finished with value: 7623231.910481232 and parameters: {'booster': 'gbtree', 'gamma': 2.5123977470864065, 'max_depth': 9, 'min_child_weight': 2, 'subsample': 0.48501783942398935}. Best is trial 12 with value: 7521388.940099317.\n",
      "[I 2023-06-04 17:58:16,638] Trial 19 finished with value: 7611508.8600271195 and parameters: {'booster': 'gbtree', 'gamma': 3.6860729748875842, 'max_depth': 14, 'min_child_weight': 2, 'subsample': 0.48312702452507}. Best is trial 12 with value: 7521388.940099317.\n",
      "[I 2023-06-04 17:58:16,664] Trial 20 finished with value: 7609573.429638995 and parameters: {'booster': 'gbtree', 'gamma': 2.448590895614319, 'max_depth': 15, 'min_child_weight': 2, 'subsample': 0.48866805938114516}. Best is trial 12 with value: 7521388.940099317.\n",
      "[I 2023-06-04 17:58:17,648] Trial 23 finished with value: 7633875.669581803 and parameters: {'booster': 'gbtree', 'gamma': 3.7878802407185894, 'max_depth': 12, 'min_child_weight': 2, 'subsample': 0.4842888121440209}. Best is trial 12 with value: 7521388.940099317.\n",
      "[I 2023-06-04 17:58:17,998] Trial 24 finished with value: 7542055.12570278 and parameters: {'booster': 'gbtree', 'gamma': 2.525035357647273, 'max_depth': 16, 'min_child_weight': 3, 'subsample': 0.5564089575694877}. Best is trial 12 with value: 7521388.940099317.\n",
      "[I 2023-06-04 17:58:18,166] Trial 25 finished with value: 7548229.457084066 and parameters: {'booster': 'gbtree', 'gamma': 4.191614805149875, 'max_depth': 20, 'min_child_weight': 3, 'subsample': 0.5575424619333946}. Best is trial 12 with value: 7521388.940099317.\n",
      "[I 2023-06-04 17:58:18,622] Trial 21 finished with value: 7525568.112480382 and parameters: {'booster': 'dart', 'gamma': 0.08252973673389175, 'max_depth': 9, 'min_child_weight': 2, 'subsample': 0.5046849653365026}. Best is trial 12 with value: 7521388.940099317.\n",
      "[I 2023-06-04 17:58:19,010] Trial 26 finished with value: 7542157.788484216 and parameters: {'booster': 'gbtree', 'gamma': 2.7710920844328273, 'max_depth': 20, 'min_child_weight': 3, 'subsample': 0.551701505207683}. Best is trial 12 with value: 7521388.940099317.\n",
      "[I 2023-06-04 17:58:19,253] Trial 27 finished with value: 7544814.850278741 and parameters: {'booster': 'gbtree', 'gamma': 2.233998220410838, 'max_depth': 16, 'min_child_weight': 3, 'subsample': 0.5533133612542657}. Best is trial 12 with value: 7521388.940099317.\n",
      "[I 2023-06-04 17:58:19,481] Trial 28 finished with value: 7561330.9035736155 and parameters: {'booster': 'gbtree', 'gamma': 2.177259134063847, 'max_depth': 16, 'min_child_weight': 3, 'subsample': 0.5961849928157328}. Best is trial 12 with value: 7521388.940099317.\n",
      "[I 2023-06-04 17:58:22,431] Trial 29 finished with value: 7577083.160599799 and parameters: {'booster': 'dart', 'gamma': 0.1256008599819413, 'max_depth': 16, 'min_child_weight': 1, 'subsample': 0.6136789407675364}. Best is trial 12 with value: 7521388.940099317.\n",
      "[I 2023-06-04 17:58:22,664] Trial 32 finished with value: 7516840.157206622 and parameters: {'booster': 'dart', 'gamma': 0.04769131095675399, 'max_depth': 13, 'min_child_weight': 2, 'subsample': 0.45844909369721043}. Best is trial 32 with value: 7516840.157206622.\n"
     ]
    },
    {
     "name": "stderr",
     "output_type": "stream",
     "text": [
      "[I 2023-06-04 17:58:22,859] Trial 30 finished with value: 7507693.312837377 and parameters: {'booster': 'dart', 'gamma': 1.289276965353836, 'max_depth': 16, 'min_child_weight': 2, 'subsample': 0.4635002692448064}. Best is trial 30 with value: 7507693.312837377.\n",
      "[I 2023-06-04 17:58:23,418] Trial 31 finished with value: 7522122.436683503 and parameters: {'booster': 'dart', 'gamma': 0.032447828312475835, 'max_depth': 17, 'min_child_weight': 2, 'subsample': 0.4539865552153106}. Best is trial 30 with value: 7507693.312837377.\n",
      "[I 2023-06-04 17:58:26,122] Trial 35 finished with value: 7497072.31428282 and parameters: {'booster': 'dart', 'gamma': 1.1798076020517794, 'max_depth': 13, 'min_child_weight': 2, 'subsample': 0.44960369476172835}. Best is trial 35 with value: 7497072.31428282.\n",
      "[I 2023-06-04 17:58:26,179] Trial 33 finished with value: 7484331.300732207 and parameters: {'booster': 'dart', 'gamma': 1.3153252958397883, 'max_depth': 13, 'min_child_weight': 2, 'subsample': 0.45078486225373826}. Best is trial 33 with value: 7484331.300732207.\n",
      "[I 2023-06-04 17:58:26,310] Trial 34 finished with value: 7510654.893294378 and parameters: {'booster': 'dart', 'gamma': 1.293209193229338, 'max_depth': 13, 'min_child_weight': 2, 'subsample': 0.45653478353400884}. Best is trial 33 with value: 7484331.300732207.\n",
      "[I 2023-06-04 17:58:26,830] Trial 36 finished with value: 7483750.907650171 and parameters: {'booster': 'dart', 'gamma': 1.1474614409494217, 'max_depth': 13, 'min_child_weight': 2, 'subsample': 0.45172665057121086}. Best is trial 36 with value: 7483750.907650171.\n",
      "[I 2023-06-04 17:58:29,238] Trial 38 finished with value: 7488553.479086365 and parameters: {'booster': 'dart', 'gamma': 1.208039381510625, 'max_depth': 13, 'min_child_weight': 2, 'subsample': 0.4485912048234352}. Best is trial 36 with value: 7483750.907650171.\n",
      "[I 2023-06-04 17:58:29,746] Trial 40 finished with value: 7478797.431190609 and parameters: {'booster': 'dart', 'gamma': 1.2345627585294674, 'max_depth': 11, 'min_child_weight': 2, 'subsample': 0.4374419614862398}. Best is trial 40 with value: 7478797.431190609.\n",
      "[I 2023-06-04 17:58:29,912] Trial 39 finished with value: 7498865.086730822 and parameters: {'booster': 'dart', 'gamma': 1.180548157231989, 'max_depth': 11, 'min_child_weight': 2, 'subsample': 0.44997055086491283}. Best is trial 40 with value: 7478797.431190609.\n",
      "[I 2023-06-04 17:58:30,014] Trial 37 finished with value: 7607316.28344511 and parameters: {'booster': 'dart', 'gamma': 1.4804904155931078, 'max_depth': 13, 'min_child_weight': 2, 'subsample': 0.44600083803667845}. Best is trial 40 with value: 7478797.431190609.\n",
      "[I 2023-06-04 17:58:32,740] Trial 41 finished with value: 7535080.996285614 and parameters: {'booster': 'dart', 'gamma': 0.9167834457397126, 'max_depth': 11, 'min_child_weight': 1, 'subsample': 0.4382217246356644}. Best is trial 40 with value: 7478797.431190609.\n",
      "[I 2023-06-04 17:58:33,331] Trial 44 finished with value: 7523514.955140642 and parameters: {'booster': 'dart', 'gamma': 0.9775809395773191, 'max_depth': 11, 'min_child_weight': 2, 'subsample': 0.5196635852815037}. Best is trial 40 with value: 7478797.431190609.\n",
      "[I 2023-06-04 17:58:33,399] Trial 43 finished with value: 7448992.454590383 and parameters: {'booster': 'dart', 'gamma': 0.8692135534851548, 'max_depth': 10, 'min_child_weight': 1, 'subsample': 0.5253831070419295}. Best is trial 43 with value: 7448992.454590383.\n",
      "[I 2023-06-04 17:58:33,448] Trial 42 finished with value: 7486804.415507403 and parameters: {'booster': 'dart', 'gamma': 0.8196204416690932, 'max_depth': 11, 'min_child_weight': 1, 'subsample': 0.5211886459268733}. Best is trial 43 with value: 7448992.454590383.\n",
      "[I 2023-06-04 17:58:36,328] Trial 46 finished with value: 7522035.821594103 and parameters: {'booster': 'dart', 'gamma': 1.8595916466893425, 'max_depth': 10, 'min_child_weight': 2, 'subsample': 0.5176344797055257}. Best is trial 43 with value: 7448992.454590383.\n",
      "[I 2023-06-04 17:58:36,391] Trial 45 finished with value: 7502417.990995361 and parameters: {'booster': 'dart', 'gamma': 0.83937165599277, 'max_depth': 12, 'min_child_weight': 2, 'subsample': 0.526871257041454}. Best is trial 43 with value: 7448992.454590383.\n",
      "[I 2023-06-04 17:58:36,562] Trial 48 finished with value: 7514603.115590615 and parameters: {'booster': 'dart', 'gamma': 0.5861923219557399, 'max_depth': 10, 'min_child_weight': 1, 'subsample': 0.5223806805602778}. Best is trial 43 with value: 7448992.454590383.\n",
      "[I 2023-06-04 17:58:36,803] Trial 47 finished with value: 7451305.706357573 and parameters: {'booster': 'dart', 'gamma': 0.6011318444596524, 'max_depth': 10, 'min_child_weight': 1, 'subsample': 0.5244724607886989}. Best is trial 43 with value: 7448992.454590383.\n",
      "[I 2023-06-04 17:58:39,009] Trial 49 finished with value: 7452551.154020398 and parameters: {'booster': 'dart', 'gamma': 0.6612598876221595, 'max_depth': 10, 'min_child_weight': 1, 'subsample': 0.5286937640635964}. Best is trial 43 with value: 7448992.454590383.\n",
      "[I 2023-06-04 17:58:39,479] Trial 52 finished with value: 7490921.191638534 and parameters: {'booster': 'dart', 'gamma': 0.5755344616069391, 'max_depth': 5, 'min_child_weight': 1, 'subsample': 0.41734168926222953}. Best is trial 43 with value: 7448992.454590383.\n",
      "[I 2023-06-04 17:58:39,599] Trial 51 finished with value: 7572276.146304368 and parameters: {'booster': 'dart', 'gamma': 1.6062129498368245, 'max_depth': 9, 'min_child_weight': 1, 'subsample': 0.4248254125870823}. Best is trial 43 with value: 7448992.454590383.\n",
      "[I 2023-06-04 17:58:39,814] Trial 50 finished with value: 7473015.662280759 and parameters: {'booster': 'dart', 'gamma': 0.5673054250759224, 'max_depth': 10, 'min_child_weight': 1, 'subsample': 0.4198522587208763}. Best is trial 43 with value: 7448992.454590383.\n",
      "[I 2023-06-04 17:58:41,443] Trial 53 finished with value: 7529012.641219991 and parameters: {'booster': 'dart', 'gamma': 0.4566053160795327, 'max_depth': 4, 'min_child_weight': 1, 'subsample': 0.6321976089284921}. Best is trial 43 with value: 7448992.454590383.\n",
      "[I 2023-06-04 17:58:42,927] Trial 56 finished with value: 7460155.833218539 and parameters: {'booster': 'dart', 'gamma': 0.3922457489536284, 'max_depth': 8, 'min_child_weight': 1, 'subsample': 0.47962880028931587}. Best is trial 43 with value: 7448992.454590383.\n",
      "[I 2023-06-04 17:58:43,042] Trial 55 finished with value: 7454824.475485155 and parameters: {'booster': 'dart', 'gamma': 0.46628123848872804, 'max_depth': 10, 'min_child_weight': 1, 'subsample': 0.47776014235081904}. Best is trial 43 with value: 7448992.454590383.\n",
      "[I 2023-06-04 17:58:43,275] Trial 54 finished with value: 7564381.316813151 and parameters: {'booster': 'dart', 'gamma': 0.41312295923620934, 'max_depth': 9, 'min_child_weight': 1, 'subsample': 0.4275876571837094}. Best is trial 43 with value: 7448992.454590383.\n",
      "[I 2023-06-04 17:58:44,300] Trial 57 finished with value: 7450319.612173725 and parameters: {'booster': 'dart', 'gamma': 0.666319046818024, 'max_depth': 8, 'min_child_weight': 1, 'subsample': 0.476717721136367}. Best is trial 43 with value: 7448992.454590383.\n",
      "[I 2023-06-04 17:58:45,378] Trial 58 finished with value: 7483851.026194726 and parameters: {'booster': 'dart', 'gamma': 0.3285143460289158, 'max_depth': 8, 'min_child_weight': 1, 'subsample': 0.48235356858543355}. Best is trial 43 with value: 7448992.454590383.\n",
      "[I 2023-06-04 17:58:45,886] Trial 59 finished with value: 7474058.994464529 and parameters: {'booster': 'dart', 'gamma': 0.34241247701200206, 'max_depth': 8, 'min_child_weight': 1, 'subsample': 0.4831541794227798}. Best is trial 43 with value: 7448992.454590383.\n",
      "[I 2023-06-04 17:58:46,157] Trial 60 finished with value: 7459024.512217271 and parameters: {'booster': 'dart', 'gamma': 0.2946582372600814, 'max_depth': 8, 'min_child_weight': 1, 'subsample': 0.4963023779177809}. Best is trial 43 with value: 7448992.454590383.\n",
      "[I 2023-06-04 17:58:47,510] Trial 61 finished with value: 7457582.572104481 and parameters: {'booster': 'dart', 'gamma': 0.2732683039286927, 'max_depth': 8, 'min_child_weight': 1, 'subsample': 0.4961869561250021}. Best is trial 43 with value: 7448992.454590383.\n",
      "[I 2023-06-04 17:58:48,210] Trial 63 finished with value: 7522011.329404986 and parameters: {'booster': 'dart', 'gamma': 0.7370515152731507, 'max_depth': 6, 'min_child_weight': 1, 'subsample': 0.5015719970989153}. Best is trial 43 with value: 7448992.454590383.\n"
     ]
    },
    {
     "name": "stderr",
     "output_type": "stream",
     "text": [
      "[I 2023-06-04 17:58:48,353] Trial 62 finished with value: 7560438.152065117 and parameters: {'booster': 'dart', 'gamma': 0.6827026457665772, 'max_depth': 6, 'min_child_weight': 1, 'subsample': 0.5823832755016498}. Best is trial 43 with value: 7448992.454590383.\n",
      "[I 2023-06-04 17:58:48,763] Trial 64 finished with value: 7447551.504080328 and parameters: {'booster': 'dart', 'gamma': 0.674257080908596, 'max_depth': 6, 'min_child_weight': 1, 'subsample': 0.5377382711687649}. Best is trial 64 with value: 7447551.504080328.\n",
      "[I 2023-06-04 17:58:49,902] Trial 65 finished with value: 7506904.656869783 and parameters: {'booster': 'dart', 'gamma': 0.7603834565372338, 'max_depth': 6, 'min_child_weight': 1, 'subsample': 0.5035762857946672}. Best is trial 64 with value: 7447551.504080328.\n",
      "[I 2023-06-04 17:58:51,215] Trial 66 finished with value: 7438227.048517695 and parameters: {'booster': 'dart', 'gamma': 0.2174150425894803, 'max_depth': 7, 'min_child_weight': 1, 'subsample': 0.5387793062216654}. Best is trial 66 with value: 7438227.048517695.\n",
      "[I 2023-06-04 17:58:51,444] Trial 67 finished with value: 7438668.101697235 and parameters: {'booster': 'dart', 'gamma': 0.2548565770678449, 'max_depth': 7, 'min_child_weight': 1, 'subsample': 0.5376763326983386}. Best is trial 66 with value: 7438227.048517695.\n",
      "[I 2023-06-04 17:58:51,485] Trial 68 finished with value: 7423494.642673518 and parameters: {'booster': 'dart', 'gamma': 0.6809809562090691, 'max_depth': 7, 'min_child_weight': 1, 'subsample': 0.5383027700977812}. Best is trial 68 with value: 7423494.642673518.\n",
      "[I 2023-06-04 17:58:52,228] Trial 69 finished with value: 7445678.205476942 and parameters: {'booster': 'dart', 'gamma': 0.18866554804426688, 'max_depth': 7, 'min_child_weight': 1, 'subsample': 0.5387102636551802}. Best is trial 68 with value: 7423494.642673518.\n",
      "[I 2023-06-04 17:58:53,744] Trial 70 finished with value: 7438430.240517319 and parameters: {'booster': 'dart', 'gamma': 1.0192895444847472, 'max_depth': 7, 'min_child_weight': 1, 'subsample': 0.5477299950956547}. Best is trial 68 with value: 7423494.642673518.\n",
      "[I 2023-06-04 17:58:54,217] Trial 71 finished with value: 7439040.811590266 and parameters: {'booster': 'dart', 'gamma': 0.1927645305339452, 'max_depth': 7, 'min_child_weight': 1, 'subsample': 0.5477064015267786}. Best is trial 68 with value: 7423494.642673518.\n",
      "[I 2023-06-04 17:58:54,613] Trial 72 finished with value: 7517724.860649059 and parameters: {'booster': 'dart', 'gamma': 1.010174075634243, 'max_depth': 7, 'min_child_weight': 1, 'subsample': 0.539814000785156}. Best is trial 68 with value: 7423494.642673518.\n",
      "[I 2023-06-04 17:58:54,939] Trial 73 finished with value: 7508387.888386775 and parameters: {'booster': 'dart', 'gamma': 0.1586132029638756, 'max_depth': 7, 'min_child_weight': 1, 'subsample': 0.5429708099451853}. Best is trial 68 with value: 7423494.642673518.\n",
      "[I 2023-06-04 17:58:56,365] Trial 74 finished with value: 7434915.284879773 and parameters: {'booster': 'dart', 'gamma': 0.2107757254055037, 'max_depth': 7, 'min_child_weight': 1, 'subsample': 0.5442684159844324}. Best is trial 68 with value: 7423494.642673518.\n",
      "[I 2023-06-04 17:58:56,723] Trial 75 finished with value: 7496641.8495182935 and parameters: {'booster': 'dart', 'gamma': 0.17275966973218804, 'max_depth': 5, 'min_child_weight': 1, 'subsample': 0.5431195487176197}. Best is trial 68 with value: 7423494.642673518.\n",
      "[I 2023-06-04 17:58:57,194] Trial 76 finished with value: 7555452.8986563105 and parameters: {'booster': 'dart', 'gamma': 0.10897573539692537, 'max_depth': 5, 'min_child_weight': 1, 'subsample': 0.5783957523097392}. Best is trial 68 with value: 7423494.642673518.\n",
      "[I 2023-06-04 17:58:57,212] Trial 77 finished with value: 7500842.966075771 and parameters: {'booster': 'dart', 'gamma': 0.18962679250428957, 'max_depth': 5, 'min_child_weight': 1, 'subsample': 0.5661115011688007}. Best is trial 68 with value: 7423494.642673518.\n",
      "[I 2023-06-04 17:58:58,556] Trial 78 finished with value: 7578787.787819161 and parameters: {'booster': 'dart', 'gamma': 0.005041407208021431, 'max_depth': 5, 'min_child_weight': 1, 'subsample': 0.573299679903056}. Best is trial 68 with value: 7423494.642673518.\n",
      "[I 2023-06-04 17:58:59,509] Trial 81 finished with value: 7473843.151865169 and parameters: {'booster': 'dart', 'gamma': 0.03173951717683088, 'max_depth': 4, 'min_child_weight': 1, 'subsample': 0.5583498379385794}. Best is trial 68 with value: 7423494.642673518.\n",
      "[I 2023-06-04 17:58:59,529] Trial 79 finished with value: 7557397.304475696 and parameters: {'booster': 'dart', 'gamma': 0.20167077256575, 'max_depth': 5, 'min_child_weight': 1, 'subsample': 0.5764507080847072}. Best is trial 68 with value: 7423494.642673518.\n",
      "[I 2023-06-04 17:58:59,675] Trial 80 finished with value: 7649969.506262504 and parameters: {'booster': 'dart', 'gamma': 0.216458362616512, 'max_depth': 3, 'min_child_weight': 1, 'subsample': 0.6066761181838694}. Best is trial 68 with value: 7423494.642673518.\n",
      "[I 2023-06-04 17:59:01,047] Trial 82 finished with value: 7542369.44346393 and parameters: {'booster': 'dart', 'gamma': 0.26653435555674143, 'max_depth': 4, 'min_child_weight': 1, 'subsample': 0.5987668349467397}. Best is trial 68 with value: 7423494.642673518.\n",
      "[I 2023-06-04 17:59:01,838] Trial 84 finished with value: 7578255.683979632 and parameters: {'booster': 'dart', 'gamma': 0.47038271298982887, 'max_depth': 6, 'min_child_weight': 1, 'subsample': 0.6089897548182553}. Best is trial 68 with value: 7423494.642673518.\n",
      "[I 2023-06-04 17:59:02,225] Trial 85 finished with value: 7652395.526190415 and parameters: {'booster': 'dart', 'gamma': 0.4715258350154584, 'max_depth': 6, 'min_child_weight': 1, 'subsample': 0.594099758596404}. Best is trial 68 with value: 7423494.642673518.\n",
      "[I 2023-06-04 17:59:02,421] Trial 83 finished with value: 7648041.575796772 and parameters: {'booster': 'dart', 'gamma': 0.2320276963049682, 'max_depth': 7, 'min_child_weight': 1, 'subsample': 0.5948164230691515}. Best is trial 68 with value: 7423494.642673518.\n",
      "[I 2023-06-04 17:59:04,099] Trial 86 finished with value: 7445076.886453052 and parameters: {'booster': 'dart', 'gamma': 0.4763103372067745, 'max_depth': 7, 'min_child_weight': 1, 'subsample': 0.551132465593385}. Best is trial 68 with value: 7423494.642673518.\n",
      "[I 2023-06-04 17:59:04,363] Trial 87 finished with value: 7418136.0666083535 and parameters: {'booster': 'dart', 'gamma': 0.40748513516996004, 'max_depth': 7, 'min_child_weight': 1, 'subsample': 0.5449746316148342}. Best is trial 87 with value: 7418136.0666083535.\n",
      "[I 2023-06-04 17:59:04,824] Trial 88 finished with value: 7435015.904354542 and parameters: {'booster': 'dart', 'gamma': 0.3381102901437481, 'max_depth': 7, 'min_child_weight': 1, 'subsample': 0.5442733078942678}. Best is trial 87 with value: 7418136.0666083535.\n",
      "[I 2023-06-04 17:59:05,127] Trial 89 finished with value: 7492716.076345414 and parameters: {'booster': 'dart', 'gamma': 0.3690987928337394, 'max_depth': 7, 'min_child_weight': 1, 'subsample': 0.5420589423698123}. Best is trial 87 with value: 7418136.0666083535.\n",
      "[I 2023-06-04 17:59:06,628] Trial 90 finished with value: 7514000.017527465 and parameters: {'booster': 'dart', 'gamma': 0.3865980767183318, 'max_depth': 7, 'min_child_weight': 1, 'subsample': 0.5460114031890221}. Best is trial 87 with value: 7418136.0666083535.\n",
      "[I 2023-06-04 17:59:07,157] Trial 91 finished with value: 7493300.986868145 and parameters: {'booster': 'dart', 'gamma': 0.37178667265655807, 'max_depth': 7, 'min_child_weight': 1, 'subsample': 0.5635469153521229}. Best is trial 87 with value: 7418136.0666083535.\n",
      "[I 2023-06-04 17:59:07,626] Trial 92 finished with value: 7493585.124701426 and parameters: {'booster': 'dart', 'gamma': 0.5155602217188576, 'max_depth': 7, 'min_child_weight': 1, 'subsample': 0.5635854285652452}. Best is trial 87 with value: 7418136.0666083535.\n",
      "[I 2023-06-04 17:59:08,266] Trial 93 finished with value: 7487467.932837076 and parameters: {'booster': 'dart', 'gamma': 0.5314441646628199, 'max_depth': 9, 'min_child_weight': 1, 'subsample': 0.5644920954766097}. Best is trial 87 with value: 7418136.0666083535.\n",
      "[I 2023-06-04 17:59:09,516] Trial 94 finished with value: 7491981.216173319 and parameters: {'booster': 'dart', 'gamma': 0.5342445237207655, 'max_depth': 7, 'min_child_weight': 1, 'subsample': 0.5637699667318813}. Best is trial 87 with value: 7418136.0666083535.\n"
     ]
    },
    {
     "name": "stderr",
     "output_type": "stream",
     "text": [
      "[I 2023-06-04 17:59:10,092] Trial 95 finished with value: 7486826.75930483 and parameters: {'booster': 'dart', 'gamma': 0.5294342169754316, 'max_depth': 9, 'min_child_weight': 1, 'subsample': 0.5120733789568336}. Best is trial 87 with value: 7418136.0666083535.\n",
      "[I 2023-06-04 17:59:10,359] Trial 96 finished with value: 7523117.287892457 and parameters: {'booster': 'dart', 'gamma': 0.02775428662953988, 'max_depth': 9, 'min_child_weight': 1, 'subsample': 0.5099570856414543}. Best is trial 87 with value: 7418136.0666083535.\n",
      "[I 2023-06-04 17:59:11,184] Trial 97 finished with value: 7520864.949563673 and parameters: {'booster': 'dart', 'gamma': 0.04982729543445363, 'max_depth': 8, 'min_child_weight': 1, 'subsample': 0.5094689005554899}. Best is trial 87 with value: 7418136.0666083535.\n",
      "[I 2023-06-04 17:59:12,218] Trial 98 finished with value: 7481190.817180709 and parameters: {'booster': 'dart', 'gamma': 0.12738823565726903, 'max_depth': 8, 'min_child_weight': 1, 'subsample': 0.5102489828591994}. Best is trial 87 with value: 7418136.0666083535.\n",
      "[I 2023-06-04 17:59:12,817] Trial 100 finished with value: 7477451.383417731 and parameters: {'booster': 'dart', 'gamma': 0.13878126680536573, 'max_depth': 6, 'min_child_weight': 1, 'subsample': 0.5316743681609313}. Best is trial 87 with value: 7418136.0666083535.\n",
      "[I 2023-06-04 17:59:13,044] Trial 99 finished with value: 7477468.393735233 and parameters: {'booster': 'dart', 'gamma': 0.11512864049752428, 'max_depth': 6, 'min_child_weight': 1, 'subsample': 0.5316364458371989}. Best is trial 87 with value: 7418136.0666083535.\n",
      "[I 2023-06-04 17:59:13,448] Trial 103 finished with value: 7606307.513162036 and parameters: {'booster': 'gbtree', 'gamma': 0.2928760073195673, 'max_depth': 6, 'min_child_weight': 1, 'subsample': 0.5511786090966556}. Best is trial 87 with value: 7418136.0666083535.\n",
      "[I 2023-06-04 17:59:14,147] Trial 101 finished with value: 7450454.453786282 and parameters: {'booster': 'dart', 'gamma': 0.13257035241642745, 'max_depth': 6, 'min_child_weight': 1, 'subsample': 0.550608712939188}. Best is trial 87 with value: 7418136.0666083535.\n",
      "[I 2023-06-04 17:59:15,060] Trial 102 finished with value: 7484675.928586442 and parameters: {'booster': 'dart', 'gamma': 0.28512818698624276, 'max_depth': 6, 'min_child_weight': 1, 'subsample': 0.5342768567508009}. Best is trial 87 with value: 7418136.0666083535.\n",
      "[I 2023-06-04 17:59:15,677] Trial 104 finished with value: 7503161.904027404 and parameters: {'booster': 'dart', 'gamma': 0.6687569467531962, 'max_depth': 7, 'min_child_weight': 1, 'subsample': 0.5524477016164999}. Best is trial 87 with value: 7418136.0666083535.\n",
      "[I 2023-06-04 17:59:16,033] Trial 105 finished with value: 7437396.213602028 and parameters: {'booster': 'dart', 'gamma': 0.6369061212853878, 'max_depth': 7, 'min_child_weight': 1, 'subsample': 0.5388623776472123}. Best is trial 87 with value: 7418136.0666083535.\n",
      "[I 2023-06-04 17:59:17,160] Trial 106 finished with value: 7593632.560280638 and parameters: {'booster': 'dart', 'gamma': 0.7258890782646085, 'max_depth': 7, 'min_child_weight': 1, 'subsample': 0.5849121815106995}. Best is trial 87 with value: 7418136.0666083535.\n",
      "[I 2023-06-04 17:59:17,918] Trial 107 finished with value: 7557117.364277753 and parameters: {'booster': 'dart', 'gamma': 0.6867865901665258, 'max_depth': 7, 'min_child_weight': 1, 'subsample': 0.5767750547563932}. Best is trial 87 with value: 7418136.0666083535.\n",
      "[I 2023-06-04 17:59:18,203] Trial 108 finished with value: 7560231.119167034 and parameters: {'booster': 'dart', 'gamma': 0.7017109033251463, 'max_depth': 7, 'min_child_weight': 1, 'subsample': 0.5774495809511242}. Best is trial 87 with value: 7418136.0666083535.\n",
      "[I 2023-06-04 17:59:19,002] Trial 109 finished with value: 7581118.307756235 and parameters: {'booster': 'dart', 'gamma': 0.8055146970670071, 'max_depth': 8, 'min_child_weight': 1, 'subsample': 0.5828472670919107}. Best is trial 87 with value: 7418136.0666083535.\n",
      "[I 2023-06-04 17:59:20,057] Trial 110 finished with value: 7560701.416156289 and parameters: {'booster': 'dart', 'gamma': 0.8142759703529558, 'max_depth': 8, 'min_child_weight': 1, 'subsample': 0.5178952990394498}. Best is trial 87 with value: 7418136.0666083535.\n",
      "[I 2023-06-04 17:59:20,618] Trial 111 finished with value: 7497076.396901516 and parameters: {'booster': 'dart', 'gamma': 0.7828454709427433, 'max_depth': 8, 'min_child_weight': 1, 'subsample': 0.5181748217225134}. Best is trial 87 with value: 7418136.0666083535.\n",
      "[I 2023-06-04 17:59:20,999] Trial 112 finished with value: 7492754.891423712 and parameters: {'booster': 'dart', 'gamma': 0.8255953850954243, 'max_depth': 8, 'min_child_weight': 1, 'subsample': 0.5209847248317354}. Best is trial 87 with value: 7418136.0666083535.\n",
      "[I 2023-06-04 17:59:22,236] Trial 113 finished with value: 7459425.895854352 and parameters: {'booster': 'dart', 'gamma': 0.40148108069453964, 'max_depth': 8, 'min_child_weight': 1, 'subsample': 0.4979642729945514}. Best is trial 87 with value: 7418136.0666083535.\n",
      "[I 2023-06-04 17:59:22,758] Trial 114 finished with value: 7491287.637112716 and parameters: {'booster': 'dart', 'gamma': 0.4160987560542867, 'max_depth': 6, 'min_child_weight': 1, 'subsample': 0.5402512169389401}. Best is trial 87 with value: 7418136.0666083535.\n",
      "[I 2023-06-04 17:59:23,335] Trial 115 finished with value: 7444674.836959333 and parameters: {'booster': 'dart', 'gamma': 0.4078873356412811, 'max_depth': 7, 'min_child_weight': 1, 'subsample': 0.5353417188838319}. Best is trial 87 with value: 7418136.0666083535.\n",
      "[I 2023-06-04 17:59:23,406] Trial 116 finished with value: 7444499.865655827 and parameters: {'booster': 'dart', 'gamma': 0.43680305956046694, 'max_depth': 6, 'min_child_weight': 1, 'subsample': 0.5368166615158095}. Best is trial 87 with value: 7418136.0666083535.\n",
      "[I 2023-06-04 17:59:24,031] Trial 120 finished with value: 7584775.5489634 and parameters: {'booster': 'gbtree', 'gamma': 0.5967861337231293, 'max_depth': 5, 'min_child_weight': 1, 'subsample': 0.5521788023126155}. Best is trial 87 with value: 7418136.0666083535.\n",
      "[I 2023-06-04 17:59:24,534] Trial 117 finished with value: 7447489.781172931 and parameters: {'booster': 'dart', 'gamma': 0.9654178610764528, 'max_depth': 7, 'min_child_weight': 1, 'subsample': 0.5373108916133492}. Best is trial 87 with value: 7418136.0666083535.\n",
      "[I 2023-06-04 17:59:25,765] Trial 119 finished with value: 7502254.838151473 and parameters: {'booster': 'dart', 'gamma': 0.5905475013398234, 'max_depth': 7, 'min_child_weight': 1, 'subsample': 0.5539568368801264}. Best is trial 87 with value: 7418136.0666083535.\n",
      "[I 2023-06-04 17:59:25,914] Trial 118 finished with value: 7468509.910984064 and parameters: {'booster': 'dart', 'gamma': 0.9390221378848991, 'max_depth': 7, 'min_child_weight': 1, 'subsample': 0.5339666433148946}. Best is trial 87 with value: 7418136.0666083535.\n",
      "[I 2023-06-04 17:59:27,184] Trial 121 finished with value: 7506342.277871913 and parameters: {'booster': 'dart', 'gamma': 0.9101937647448713, 'max_depth': 9, 'min_child_weight': 1, 'subsample': 0.4910420330328839}. Best is trial 87 with value: 7418136.0666083535.\n",
      "[I 2023-06-04 17:59:27,273] Trial 122 finished with value: 7446013.544724623 and parameters: {'booster': 'dart', 'gamma': 0.5982546531923909, 'max_depth': 9, 'min_child_weight': 1, 'subsample': 0.4916291354645881}. Best is trial 87 with value: 7418136.0666083535.\n",
      "[I 2023-06-04 17:59:28,331] Trial 123 finished with value: 7461574.603774856 and parameters: {'booster': 'dart', 'gamma': 0.3210304141805642, 'max_depth': 6, 'min_child_weight': 1, 'subsample': 0.49249425776599426}. Best is trial 87 with value: 7418136.0666083535.\n",
      "[I 2023-06-04 17:59:28,772] Trial 124 finished with value: 7649265.436601046 and parameters: {'booster': 'dart', 'gamma': 0.27913986427873544, 'max_depth': 6, 'min_child_weight': 1, 'subsample': 0.5694701968655623}. Best is trial 87 with value: 7418136.0666083535.\n",
      "[I 2023-06-04 17:59:29,719] Trial 125 finished with value: 7471363.072240834 and parameters: {'booster': 'dart', 'gamma': 0.2342786646563524, 'max_depth': 6, 'min_child_weight': 1, 'subsample': 0.5667955576497397}. Best is trial 87 with value: 7418136.0666083535.\n",
      "[I 2023-06-04 17:59:29,733] Trial 126 finished with value: 7488533.002027499 and parameters: {'booster': 'dart', 'gamma': 0.27455089224035967, 'max_depth': 6, 'min_child_weight': 1, 'subsample': 0.5292241768045988}. Best is trial 87 with value: 7418136.0666083535.\n"
     ]
    },
    {
     "name": "stderr",
     "output_type": "stream",
     "text": [
      "[I 2023-06-04 17:59:31,131] Trial 128 finished with value: 7494991.661698163 and parameters: {'booster': 'dart', 'gamma': 0.4531085053463991, 'max_depth': 7, 'min_child_weight': 1, 'subsample': 0.5458344165443316}. Best is trial 87 with value: 7418136.0666083535.\n",
      "[I 2023-06-04 17:59:31,359] Trial 127 finished with value: 7454872.541696308 and parameters: {'booster': 'dart', 'gamma': 0.21572844910135647, 'max_depth': 7, 'min_child_weight': 1, 'subsample': 0.4668948422795626}. Best is trial 87 with value: 7418136.0666083535.\n",
      "[I 2023-06-04 17:59:32,558] Trial 129 finished with value: 7454045.845575934 and parameters: {'booster': 'dart', 'gamma': 0.45385999590332615, 'max_depth': 7, 'min_child_weight': 1, 'subsample': 0.5481627326605087}. Best is trial 87 with value: 7418136.0666083535.\n",
      "[I 2023-06-04 17:59:32,754] Trial 130 finished with value: 7432651.801987402 and parameters: {'booster': 'dart', 'gamma': 0.4092341428307837, 'max_depth': 7, 'min_child_weight': 1, 'subsample': 0.4676975442836401}. Best is trial 87 with value: 7418136.0666083535.\n",
      "[I 2023-06-04 17:59:33,688] Trial 132 finished with value: 7577163.450514366 and parameters: {'booster': 'dart', 'gamma': 0.4604560223245644, 'max_depth': 5, 'min_child_weight': 1, 'subsample': 0.6241423809385325}. Best is trial 87 with value: 7418136.0666083535.\n",
      "[I 2023-06-04 17:59:35,194] Trial 131 finished with value: 7445506.027310874 and parameters: {'booster': 'dart', 'gamma': 0.40200110721584026, 'max_depth': 19, 'min_child_weight': 1, 'subsample': 0.47102589913109766}. Best is trial 87 with value: 7418136.0666083535.\n",
      "[I 2023-06-04 17:59:35,580] Trial 134 finished with value: 7496821.264262016 and parameters: {'booster': 'dart', 'gamma': 0.3674300740131456, 'max_depth': 8, 'min_child_weight': 1, 'subsample': 0.5070344225314782}. Best is trial 87 with value: 7418136.0666083535.\n",
      "[I 2023-06-04 17:59:35,588] Trial 133 finished with value: 7495993.686692665 and parameters: {'booster': 'dart', 'gamma': 0.35313265513927544, 'max_depth': 8, 'min_child_weight': 1, 'subsample': 0.5082797880221013}. Best is trial 87 with value: 7418136.0666083535.\n",
      "[I 2023-06-04 17:59:36,393] Trial 135 finished with value: 7544016.949675234 and parameters: {'booster': 'dart', 'gamma': 0.3206117343339836, 'max_depth': 8, 'min_child_weight': 1, 'subsample': 0.5027730039513094}. Best is trial 87 with value: 7418136.0666083535.\n",
      "[I 2023-06-04 17:59:37,924] Trial 138 finished with value: 7453905.6094450625 and parameters: {'booster': 'dart', 'gamma': 0.5301503740049605, 'max_depth': 7, 'min_child_weight': 1, 'subsample': 0.4785154589296486}. Best is trial 87 with value: 7418136.0666083535.\n",
      "[I 2023-06-04 17:59:39,170] Trial 137 finished with value: 7450928.379479684 and parameters: {'booster': 'dart', 'gamma': 1.0436876981846352, 'max_depth': 18, 'min_child_weight': 1, 'subsample': 0.5251444310685329}. Best is trial 87 with value: 7418136.0666083535.\n",
      "[I 2023-06-04 17:59:39,313] Trial 136 finished with value: 7489157.887013551 and parameters: {'booster': 'dart', 'gamma': 0.37764340172325706, 'max_depth': 19, 'min_child_weight': 1, 'subsample': 0.503913251393882}. Best is trial 87 with value: 7418136.0666083535.\n",
      "[I 2023-06-04 17:59:39,395] Trial 139 finished with value: 7488409.536622171 and parameters: {'booster': 'dart', 'gamma': 0.011764478951785506, 'max_depth': 7, 'min_child_weight': 1, 'subsample': 0.47223729871819686}. Best is trial 87 with value: 7418136.0666083535.\n",
      "[I 2023-06-04 17:59:40,803] Trial 142 finished with value: 7644985.955460235 and parameters: {'booster': 'gbtree', 'gamma': 0.6049952647699913, 'max_depth': 17, 'min_child_weight': 1, 'subsample': 0.46421615991921605}. Best is trial 87 with value: 7418136.0666083535.\n",
      "[I 2023-06-04 17:59:41,451] Trial 140 finished with value: 7486822.738982413 and parameters: {'booster': 'dart', 'gamma': 1.0532657030224848, 'max_depth': 18, 'min_child_weight': 1, 'subsample': 0.5241625878796036}. Best is trial 87 with value: 7418136.0666083535.\n",
      "[I 2023-06-04 17:59:42,337] Trial 143 finished with value: 7545751.626984922 and parameters: {'booster': 'dart', 'gamma': 0.6308767061898226, 'max_depth': 6, 'min_child_weight': 1, 'subsample': 0.46411067472081435}. Best is trial 87 with value: 7418136.0666083535.\n",
      "[I 2023-06-04 17:59:42,955] Trial 141 finished with value: 7512634.936715839 and parameters: {'booster': 'dart', 'gamma': 0.6177645584629416, 'max_depth': 19, 'min_child_weight': 1, 'subsample': 0.4361536329664338}. Best is trial 87 with value: 7418136.0666083535.\n",
      "[I 2023-06-04 17:59:43,364] Trial 144 finished with value: 7442228.229008757 and parameters: {'booster': 'dart', 'gamma': 0.17971882951884505, 'max_depth': 7, 'min_child_weight': 1, 'subsample': 0.5250090634586942}. Best is trial 87 with value: 7418136.0666083535.\n",
      "[I 2023-06-04 17:59:44,327] Trial 145 finished with value: 7639826.460421193 and parameters: {'booster': 'dart', 'gamma': 0.1541223420397996, 'max_depth': 7, 'min_child_weight': 1, 'subsample': 0.5892026955897991}. Best is trial 87 with value: 7418136.0666083535.\n",
      "[I 2023-06-04 17:59:45,601] Trial 147 finished with value: 7483887.602281448 and parameters: {'booster': 'dart', 'gamma': 0.17398321906515005, 'max_depth': 7, 'min_child_weight': 1, 'subsample': 0.5595317146499609}. Best is trial 87 with value: 7418136.0666083535.\n",
      "[I 2023-06-04 17:59:45,868] Trial 146 finished with value: 7484849.510325046 and parameters: {'booster': 'dart', 'gamma': 0.18444522660673918, 'max_depth': 15, 'min_child_weight': 1, 'subsample': 0.5601279189260158}. Best is trial 87 with value: 7418136.0666083535.\n",
      "[I 2023-06-04 17:59:46,489] Trial 148 finished with value: 7484838.781165387 and parameters: {'booster': 'dart', 'gamma': 0.11698603494632445, 'max_depth': 14, 'min_child_weight': 1, 'subsample': 0.5600032185980746}. Best is trial 87 with value: 7418136.0666083535.\n",
      "[I 2023-06-04 17:59:46,906] Trial 149 finished with value: 7484821.228868632 and parameters: {'booster': 'dart', 'gamma': 0.5082861879406928, 'max_depth': 14, 'min_child_weight': 1, 'subsample': 0.5613986071003477}. Best is trial 87 with value: 7418136.0666083535.\n"
     ]
    }
   ],
   "source": [
    "from sklearn.metrics import mean_squared_error, r2_score\n",
    "from xgboost import XGBRegressor\n",
    "import optuna\n",
    "\n",
    "# objective function to be minimized\n",
    "def objective_fun(trial):\n",
    "\n",
    "    booster = trial.suggest_categorical('booster', ['gbtree', 'dart'])\n",
    "    gamma = trial.suggest_float('gamma', 0, 5)\n",
    "    max_depth = trial.suggest_int('max_depth', 3, 20)\n",
    "    min_child_weight = trial.suggest_int('min_child_weight', 1, 3)\n",
    "    subsample = trial.suggest_float('subsample', 0.4, 1)\n",
    "\n",
    "    xgb = XGBRegressor(booster=booster, gamma=gamma, max_depth=max_depth, min_child_weight=min_child_weight, subsample=subsample)\n",
    "\n",
    "    xgb.fit(X_train, y_train)\n",
    "    y_pred = xgb.predict(X_valid)\n",
    "\n",
    "    error = mean_squared_error(y_valid, y_pred)\n",
    "\n",
    "    return error\n",
    "\n",
    "\n",
    "study = optuna.create_study()\n",
    "study.optimize(objective_fun, n_trials=150, n_jobs=-1)"
   ]
  },
  {
   "cell_type": "code",
   "execution_count": 23,
   "metadata": {
    "ExecuteTime": {
     "end_time": "2023-06-04T14:40:59.551920Z",
     "start_time": "2023-06-04T14:40:59.107631Z"
    }
   },
   "outputs": [
    {
     "name": "stdout",
     "output_type": "stream",
     "text": [
      "{'booster': 'dart', 'gamma': 0.40748513516996004, 'max_depth': 7, 'min_child_weight': 1, 'subsample': 0.5449746316148342}\n",
      "Root mean squared error = 9281.4880\n",
      "R-squared = 0.8963\n"
     ]
    }
   ],
   "source": [
    "best_params = study.best_params\n",
    "\n",
    "xgb = XGBRegressor(**best_params)\n",
    "xgb.fit(X_train, y_train)\n",
    "\n",
    "y_pred_test = xgb.predict(X_test)\n",
    "\n",
    "print(best_params)\n",
    "print('Root mean squared error = %.4f' % np.sqrt(mean_squared_error(y_test, y_pred_test)))\n",
    "print('R-squared = %.4f' % r2_score(y_test, y_pred_test))"
   ]
  },
  {
   "cell_type": "code",
   "execution_count": 24,
   "metadata": {
    "ExecuteTime": {
     "end_time": "2023-06-04T14:40:59.561542Z",
     "start_time": "2023-06-04T14:40:59.558215Z"
    }
   },
   "outputs": [
    {
     "data": {
      "text/html": [
       "<div>\n",
       "<style scoped>\n",
       "    .dataframe tbody tr th:only-of-type {\n",
       "        vertical-align: middle;\n",
       "    }\n",
       "\n",
       "    .dataframe tbody tr th {\n",
       "        vertical-align: top;\n",
       "    }\n",
       "\n",
       "    .dataframe thead th {\n",
       "        text-align: right;\n",
       "    }\n",
       "</style>\n",
       "<table border=\"1\" class=\"dataframe\">\n",
       "  <thead>\n",
       "    <tr style=\"text-align: right;\">\n",
       "      <th></th>\n",
       "      <th>test</th>\n",
       "      <th>pred</th>\n",
       "    </tr>\n",
       "  </thead>\n",
       "  <tbody>\n",
       "    <tr>\n",
       "      <th>0</th>\n",
       "      <td>161762</td>\n",
       "      <td>155352.093750</td>\n",
       "    </tr>\n",
       "    <tr>\n",
       "      <th>1</th>\n",
       "      <td>155355</td>\n",
       "      <td>148946.375000</td>\n",
       "    </tr>\n",
       "    <tr>\n",
       "      <th>2</th>\n",
       "      <td>160160</td>\n",
       "      <td>153753.718750</td>\n",
       "    </tr>\n",
       "    <tr>\n",
       "      <th>3</th>\n",
       "      <td>158558</td>\n",
       "      <td>152157.406250</td>\n",
       "    </tr>\n",
       "    <tr>\n",
       "      <th>4</th>\n",
       "      <td>176176</td>\n",
       "      <td>168167.359375</td>\n",
       "    </tr>\n",
       "    <tr>\n",
       "      <th>...</th>\n",
       "      <td>...</td>\n",
       "      <td>...</td>\n",
       "    </tr>\n",
       "    <tr>\n",
       "      <th>614</th>\n",
       "      <td>219419</td>\n",
       "      <td>209811.953125</td>\n",
       "    </tr>\n",
       "    <tr>\n",
       "      <th>615</th>\n",
       "      <td>217817</td>\n",
       "      <td>208202.968750</td>\n",
       "    </tr>\n",
       "    <tr>\n",
       "      <th>616</th>\n",
       "      <td>206606</td>\n",
       "      <td>197002.203125</td>\n",
       "    </tr>\n",
       "    <tr>\n",
       "      <th>617</th>\n",
       "      <td>203404</td>\n",
       "      <td>193790.218750</td>\n",
       "    </tr>\n",
       "    <tr>\n",
       "      <th>618</th>\n",
       "      <td>213013</td>\n",
       "      <td>203409.359375</td>\n",
       "    </tr>\n",
       "  </tbody>\n",
       "</table>\n",
       "<p>619 rows × 2 columns</p>\n",
       "</div>"
      ],
      "text/plain": [
       "       test           pred\n",
       "0    161762  155352.093750\n",
       "1    155355  148946.375000\n",
       "2    160160  153753.718750\n",
       "3    158558  152157.406250\n",
       "4    176176  168167.359375\n",
       "..      ...            ...\n",
       "614  219419  209811.953125\n",
       "615  217817  208202.968750\n",
       "616  206606  197002.203125\n",
       "617  203404  193790.218750\n",
       "618  213013  203409.359375\n",
       "\n",
       "[619 rows x 2 columns]"
      ]
     },
     "execution_count": 24,
     "metadata": {},
     "output_type": "execute_result"
    }
   ],
   "source": [
    "pd.DataFrame({'test' : y_test, 'pred': y_pred_test})"
   ]
  },
  {
   "cell_type": "code",
   "execution_count": 25,
   "metadata": {
    "ExecuteTime": {
     "end_time": "2023-06-04T14:52:07.078350Z",
     "start_time": "2023-06-04T14:51:36.328036Z"
    }
   },
   "outputs": [
    {
     "name": "stderr",
     "output_type": "stream",
     "text": [
      "2023-06-04 18:00:32.944302: I tensorflow/tsl/cuda/cudart_stub.cc:28] Could not find cuda drivers on your machine, GPU will not be used.\n",
      "2023-06-04 18:00:33.329025: I tensorflow/tsl/cuda/cudart_stub.cc:28] Could not find cuda drivers on your machine, GPU will not be used.\n",
      "2023-06-04 18:00:33.331461: I tensorflow/core/platform/cpu_feature_guard.cc:182] This TensorFlow binary is optimized to use available CPU instructions in performance-critical operations.\n",
      "To enable the following instructions: AVX2 FMA, in other operations, rebuild TensorFlow with the appropriate compiler flags.\n",
      "2023-06-04 18:00:35.708056: W tensorflow/compiler/tf2tensorrt/utils/py_utils.cc:38] TF-TRT Warning: Could not find TensorRT\n",
      "[I 2023-06-04 18:00:37,851] A new study created in memory with name: no-name-d7a9814e-f979-47b3-aec8-f699867a4fe2\n"
     ]
    },
    {
     "name": "stdout",
     "output_type": "stream",
     "text": [
      "15/15 [==============================] - 0s 7ms/step\n",
      "15/15 [==============================] - 0s 6ms/step\n"
     ]
    },
    {
     "name": "stderr",
     "output_type": "stream",
     "text": [
      "[I 2023-06-04 18:00:42,930] Trial 0 finished with value: 39037439431.31526 and parameters: {'activation': 'elu', 'optimizer': 'adam', 'loss': 'mean_squared_error', 'units': 32, 'epochs': 3, 'batch_size': 64}. Best is trial 0 with value: 39037439431.31526.\n",
      "[I 2023-06-04 18:00:42,979] Trial 2 finished with value: 39037954440.46 and parameters: {'activation': 'tanh', 'optimizer': 'adagrad', 'loss': 'mean_squared_error', 'units': 32, 'epochs': 4, 'batch_size': 64}. Best is trial 0 with value: 39037439431.31526.\n"
     ]
    },
    {
     "name": "stdout",
     "output_type": "stream",
     "text": [
      "15/15 [==============================] - 0s 7ms/step\n"
     ]
    },
    {
     "name": "stderr",
     "output_type": "stream",
     "text": [
      "[I 2023-06-04 18:00:43,354] Trial 1 finished with value: 39037220771.64563 and parameters: {'activation': 'tanh', 'optimizer': 'adam', 'loss': 'mean_squared_error', 'units': 32, 'epochs': 7, 'batch_size': 128}. Best is trial 1 with value: 39037220771.64563.\n"
     ]
    },
    {
     "name": "stdout",
     "output_type": "stream",
     "text": [
      "15/15 [==============================] - 0s 7ms/step\n"
     ]
    },
    {
     "name": "stderr",
     "output_type": "stream",
     "text": [
      "[I 2023-06-04 18:00:44,217] Trial 3 finished with value: 39037426698.34717 and parameters: {'activation': 'relu', 'optimizer': 'adam', 'loss': 'mean_squared_error', 'units': 64, 'epochs': 5, 'batch_size': 64}. Best is trial 1 with value: 39037220771.64563.\n"
     ]
    },
    {
     "name": "stdout",
     "output_type": "stream",
     "text": [
      "15/15 [==============================] - 0s 5ms/step\n"
     ]
    },
    {
     "name": "stderr",
     "output_type": "stream",
     "text": [
      "[I 2023-06-04 18:00:47,203] Trial 5 finished with value: 39037798908.69579 and parameters: {'activation': 'tanh', 'optimizer': 'adagrad', 'loss': 'mean_squared_error', 'units': 32, 'epochs': 7, 'batch_size': 128}. Best is trial 1 with value: 39037220771.64563.\n"
     ]
    },
    {
     "name": "stdout",
     "output_type": "stream",
     "text": [
      "15/15 [==============================] - 0s 7ms/step\n"
     ]
    },
    {
     "name": "stderr",
     "output_type": "stream",
     "text": [
      "[I 2023-06-04 18:00:48,033] Trial 4 finished with value: 39036471990.3095 and parameters: {'activation': 'elu', 'optimizer': 'adam', 'loss': 'mean_squared_error', 'units': 32, 'epochs': 6, 'batch_size': 64}. Best is trial 4 with value: 39036471990.3095.\n"
     ]
    },
    {
     "name": "stdout",
     "output_type": "stream",
     "text": [
      "15/15 [==============================] - 0s 9ms/step\n"
     ]
    },
    {
     "name": "stderr",
     "output_type": "stream",
     "text": [
      "[I 2023-06-04 18:00:48,621] Trial 7 finished with value: 39037684962.723755 and parameters: {'activation': 'relu', 'optimizer': 'rmsprop', 'loss': 'mean_squared_error', 'units': 32, 'epochs': 7, 'batch_size': 128}. Best is trial 4 with value: 39036471990.3095.\n"
     ]
    },
    {
     "name": "stdout",
     "output_type": "stream",
     "text": [
      "15/15 [==============================] - 0s 9ms/step\n"
     ]
    },
    {
     "name": "stderr",
     "output_type": "stream",
     "text": [
      "[I 2023-06-04 18:00:49,356] Trial 6 finished with value: 39034556758.93041 and parameters: {'activation': 'elu', 'optimizer': 'adam', 'loss': 'mean_squared_error', 'units': 64, 'epochs': 7, 'batch_size': 64}. Best is trial 6 with value: 39034556758.93041.\n"
     ]
    },
    {
     "name": "stdout",
     "output_type": "stream",
     "text": [
      "15/15 [==============================] - 0s 6ms/step\n",
      " 1/15 [=>............................] - ETA: 2s"
     ]
    },
    {
     "name": "stderr",
     "output_type": "stream",
     "text": [
      "[I 2023-06-04 18:00:52,280] Trial 10 finished with value: 39037342433.50119 and parameters: {'activation': 'elu', 'optimizer': 'rmsprop', 'loss': 'mean_squared_error', 'units': 64, 'epochs': 4, 'batch_size': 128}. Best is trial 6 with value: 39034556758.93041.\n"
     ]
    },
    {
     "name": "stdout",
     "output_type": "stream",
     "text": [
      "15/15 [==============================] - 0s 7ms/step\n"
     ]
    },
    {
     "name": "stderr",
     "output_type": "stream",
     "text": [
      "[I 2023-06-04 18:00:52,478] Trial 8 finished with value: 39036498596.38024 and parameters: {'activation': 'elu', 'optimizer': 'rmsprop', 'loss': 'mean_squared_error', 'units': 32, 'epochs': 6, 'batch_size': 64}. Best is trial 6 with value: 39034556758.93041.\n"
     ]
    },
    {
     "name": "stdout",
     "output_type": "stream",
     "text": [
      "15/15 [==============================] - 0s 9ms/step\n"
     ]
    },
    {
     "name": "stderr",
     "output_type": "stream",
     "text": [
      "[I 2023-06-04 18:00:53,369] Trial 9 finished with value: 39037596693.14473 and parameters: {'activation': 'relu', 'optimizer': 'rmsprop', 'loss': 'mean_squared_error', 'units': 64, 'epochs': 6, 'batch_size': 128}. Best is trial 6 with value: 39034556758.93041.\n"
     ]
    },
    {
     "name": "stdout",
     "output_type": "stream",
     "text": [
      "15/15 [==============================] - 0s 17ms/step\n"
     ]
    },
    {
     "name": "stderr",
     "output_type": "stream",
     "text": [
      "[I 2023-06-04 18:00:54,073] Trial 11 finished with value: 39037130425.04562 and parameters: {'activation': 'relu', 'optimizer': 'rmsprop', 'loss': 'mean_squared_error', 'units': 64, 'epochs': 5, 'batch_size': 64}. Best is trial 6 with value: 39034556758.93041.\n"
     ]
    },
    {
     "name": "stdout",
     "output_type": "stream",
     "text": [
      "15/15 [==============================] - 0s 10ms/step\n"
     ]
    },
    {
     "name": "stderr",
     "output_type": "stream",
     "text": [
      "[I 2023-06-04 18:00:56,640] Trial 12 finished with value: 39037609414.76743 and parameters: {'activation': 'relu', 'optimizer': 'rmsprop', 'loss': 'mean_squared_error', 'units': 32, 'epochs': 4, 'batch_size': 128}. Best is trial 6 with value: 39034556758.93041.\n"
     ]
    },
    {
     "name": "stdout",
     "output_type": "stream",
     "text": [
      "15/15 [==============================] - 0s 7ms/step\n"
     ]
    },
    {
     "name": "stderr",
     "output_type": "stream",
     "text": [
      "[I 2023-06-04 18:00:58,214] Trial 13 finished with value: 39035681368.02192 and parameters: {'activation': 'elu', 'optimizer': 'adam', 'loss': 'mean_squared_error', 'units': 64, 'epochs': 6, 'batch_size': 64}. Best is trial 6 with value: 39034556758.93041.\n"
     ]
    },
    {
     "name": "stdout",
     "output_type": "stream",
     "text": [
      "15/15 [==============================] - 0s 9ms/step\n"
     ]
    },
    {
     "name": "stderr",
     "output_type": "stream",
     "text": [
      "[I 2023-06-04 18:00:59,378] Trial 14 finished with value: 39035714063.43443 and parameters: {'activation': 'elu', 'optimizer': 'adam', 'loss': 'mean_squared_error', 'units': 64, 'epochs': 6, 'batch_size': 64}. Best is trial 6 with value: 39034556758.93041.\n"
     ]
    },
    {
     "name": "stdout",
     "output_type": "stream",
     "text": [
      "15/15 [==============================] - 0s 8ms/step\n"
     ]
    },
    {
     "name": "stderr",
     "output_type": "stream",
     "text": [
      "[I 2023-06-04 18:00:59,995] Trial 15 finished with value: 39035387727.00015 and parameters: {'activation': 'elu', 'optimizer': 'adam', 'loss': 'mean_squared_error', 'units': 64, 'epochs': 6, 'batch_size': 64}. Best is trial 6 with value: 39034556758.93041.\n"
     ]
    },
    {
     "name": "stdout",
     "output_type": "stream",
     "text": [
      "15/15 [==============================] - 0s 5ms/step\n"
     ]
    },
    {
     "name": "stderr",
     "output_type": "stream",
     "text": [
      "[I 2023-06-04 18:01:02,343] Trial 16 finished with value: 39035408363.72632 and parameters: {'activation': 'elu', 'optimizer': 'adam', 'loss': 'mean_squared_error', 'units': 64, 'epochs': 6, 'batch_size': 64}. Best is trial 6 with value: 39034556758.93041.\n"
     ]
    },
    {
     "name": "stdout",
     "output_type": "stream",
     "text": [
      "15/15 [==============================] - 0s 8ms/step\n"
     ]
    },
    {
     "name": "stderr",
     "output_type": "stream",
     "text": [
      "[I 2023-06-04 18:01:04,258] Trial 17 finished with value: 39035373327.73625 and parameters: {'activation': 'elu', 'optimizer': 'adam', 'loss': 'mean_squared_error', 'units': 64, 'epochs': 6, 'batch_size': 64}. Best is trial 6 with value: 39034556758.93041.\n"
     ]
    },
    {
     "name": "stdout",
     "output_type": "stream",
     "text": [
      "15/15 [==============================] - 0s 8ms/step\n"
     ]
    },
    {
     "name": "stderr",
     "output_type": "stream",
     "text": [
      "[I 2023-06-04 18:01:04,617] Trial 18 finished with value: 39034682536.53483 and parameters: {'activation': 'elu', 'optimizer': 'adam', 'loss': 'mean_squared_error', 'units': 64, 'epochs': 7, 'batch_size': 64}. Best is trial 6 with value: 39034556758.93041.\n"
     ]
    },
    {
     "name": "stdout",
     "output_type": "stream",
     "text": [
      "15/15 [==============================] - 0s 8ms/step\n"
     ]
    },
    {
     "name": "stderr",
     "output_type": "stream",
     "text": [
      "[I 2023-06-04 18:01:05,972] Trial 19 finished with value: 39034841558.89597 and parameters: {'activation': 'elu', 'optimizer': 'adam', 'loss': 'mean_squared_error', 'units': 64, 'epochs': 7, 'batch_size': 64}. Best is trial 6 with value: 39034556758.93041.\n"
     ]
    },
    {
     "name": "stdout",
     "output_type": "stream",
     "text": [
      "15/15 [==============================] - 0s 9ms/step\n"
     ]
    },
    {
     "name": "stderr",
     "output_type": "stream",
     "text": [
      "[I 2023-06-04 18:01:08,112] Trial 20 finished with value: 39034468335.86221 and parameters: {'activation': 'elu', 'optimizer': 'adam', 'loss': 'mean_squared_error', 'units': 64, 'epochs': 7, 'batch_size': 64}. Best is trial 20 with value: 39034468335.86221.\n"
     ]
    },
    {
     "name": "stdout",
     "output_type": "stream",
     "text": [
      "15/15 [==============================] - 0s 8ms/step\n",
      "15/15 [==============================] - 0s 10ms/step\n"
     ]
    },
    {
     "name": "stderr",
     "output_type": "stream",
     "text": [
      "[I 2023-06-04 18:01:09,213] Trial 21 finished with value: 39037696097.79927 and parameters: {'activation': 'elu', 'optimizer': 'adagrad', 'loss': 'mean_squared_error', 'units': 64, 'epochs': 7, 'batch_size': 64}. Best is trial 20 with value: 39034468335.86221.\n",
      "[I 2023-06-04 18:01:09,240] Trial 22 finished with value: 39037720980.99232 and parameters: {'activation': 'elu', 'optimizer': 'adagrad', 'loss': 'mean_squared_error', 'units': 64, 'epochs': 7, 'batch_size': 64}. Best is trial 20 with value: 39034468335.86221.\n"
     ]
    },
    {
     "name": "stdout",
     "output_type": "stream",
     "text": [
      "15/15 [==============================] - 1s 9ms/step\n"
     ]
    },
    {
     "name": "stderr",
     "output_type": "stream",
     "text": [
      "[I 2023-06-04 18:01:11,835] Trial 23 finished with value: 39037777263.03713 and parameters: {'activation': 'tanh', 'optimizer': 'adagrad', 'loss': 'mean_squared_error', 'units': 64, 'epochs': 7, 'batch_size': 64}. Best is trial 20 with value: 39034468335.86221.\n"
     ]
    },
    {
     "name": "stdout",
     "output_type": "stream",
     "text": [
      "15/15 [==============================] - 0s 6ms/step\n"
     ]
    },
    {
     "name": "stderr",
     "output_type": "stream",
     "text": [
      "[I 2023-06-04 18:01:14,244] Trial 24 finished with value: 39037700936.84984 and parameters: {'activation': 'elu', 'optimizer': 'adagrad', 'loss': 'mean_squared_error', 'units': 64, 'epochs': 7, 'batch_size': 64}. Best is trial 20 with value: 39034468335.86221.\n"
     ]
    },
    {
     "name": "stdout",
     "output_type": "stream",
     "text": [
      "15/15 [==============================] - 0s 10ms/step\n"
     ]
    },
    {
     "name": "stderr",
     "output_type": "stream",
     "text": [
      "[I 2023-06-04 18:01:14,662] Trial 25 finished with value: 39034501447.33413 and parameters: {'activation': 'elu', 'optimizer': 'adam', 'loss': 'mean_squared_error', 'units': 64, 'epochs': 7, 'batch_size': 64}. Best is trial 20 with value: 39034468335.86221.\n"
     ]
    },
    {
     "name": "stdout",
     "output_type": "stream",
     "text": [
      "15/15 [==============================] - 0s 8ms/step\n"
     ]
    },
    {
     "name": "stderr",
     "output_type": "stream",
     "text": [
      "[I 2023-06-04 18:01:16,018] Trial 26 finished with value: 39034895826.1262 and parameters: {'activation': 'elu', 'optimizer': 'adam', 'loss': 'mean_squared_error', 'units': 64, 'epochs': 7, 'batch_size': 64}. Best is trial 20 with value: 39034468335.86221.\n"
     ]
    },
    {
     "name": "stdout",
     "output_type": "stream",
     "text": [
      "15/15 [==============================] - 0s 9ms/step\n"
     ]
    },
    {
     "name": "stderr",
     "output_type": "stream",
     "text": [
      "[I 2023-06-04 18:01:17,239] Trial 27 finished with value: 39036042573.62669 and parameters: {'activation': 'elu', 'optimizer': 'adam', 'loss': 'mean_squared_error', 'units': 64, 'epochs': 5, 'batch_size': 64}. Best is trial 20 with value: 39034468335.86221.\n"
     ]
    },
    {
     "name": "stdout",
     "output_type": "stream",
     "text": [
      "15/15 [==============================] - 0s 8ms/step\n"
     ]
    },
    {
     "name": "stderr",
     "output_type": "stream",
     "text": [
      "[I 2023-06-04 18:01:19,296] Trial 28 finished with value: 39036122918.624535 and parameters: {'activation': 'elu', 'optimizer': 'adam', 'loss': 'mean_squared_error', 'units': 64, 'epochs': 5, 'batch_size': 64}. Best is trial 20 with value: 39034468335.86221.\n"
     ]
    },
    {
     "name": "stdout",
     "output_type": "stream",
     "text": [
      "15/15 [==============================] - 0s 7ms/step\n"
     ]
    },
    {
     "name": "stderr",
     "output_type": "stream",
     "text": [
      "[I 2023-06-04 18:01:19,492] Trial 29 finished with value: 39036338034.03105 and parameters: {'activation': 'elu', 'optimizer': 'adam', 'loss': 'mean_squared_error', 'units': 64, 'epochs': 5, 'batch_size': 64}. Best is trial 20 with value: 39034468335.86221.\n"
     ]
    },
    {
     "name": "stdout",
     "output_type": "stream",
     "text": [
      "15/15 [==============================] - 0s 7ms/step\n"
     ]
    },
    {
     "name": "stderr",
     "output_type": "stream",
     "text": [
      "[I 2023-06-04 18:01:21,671] Trial 30 finished with value: 39036286874.70227 and parameters: {'activation': 'elu', 'optimizer': 'adam', 'loss': 'mean_squared_error', 'units': 64, 'epochs': 5, 'batch_size': 64}. Best is trial 20 with value: 39034468335.86221.\n"
     ]
    },
    {
     "name": "stdout",
     "output_type": "stream",
     "text": [
      "15/15 [==============================] - 0s 6ms/step\n"
     ]
    },
    {
     "name": "stderr",
     "output_type": "stream",
     "text": [
      "[I 2023-06-04 18:01:23,262] Trial 31 finished with value: 39036382557.44781 and parameters: {'activation': 'elu', 'optimizer': 'adam', 'loss': 'mean_squared_error', 'units': 64, 'epochs': 5, 'batch_size': 64}. Best is trial 20 with value: 39034468335.86221.\n"
     ]
    },
    {
     "name": "stdout",
     "output_type": "stream",
     "text": [
      "15/15 [==============================] - 0s 10ms/step\n"
     ]
    },
    {
     "name": "stderr",
     "output_type": "stream",
     "text": [
      "[I 2023-06-04 18:01:24,314] Trial 32 finished with value: 39037017277.32104 and parameters: {'activation': 'tanh', 'optimizer': 'adam', 'loss': 'mean_squared_error', 'units': 64, 'epochs': 3, 'batch_size': 64}. Best is trial 20 with value: 39034468335.86221.\n"
     ]
    },
    {
     "name": "stdout",
     "output_type": "stream",
     "text": [
      "15/15 [==============================] - 0s 13ms/step\n"
     ]
    },
    {
     "name": "stderr",
     "output_type": "stream",
     "text": [
      "[I 2023-06-04 18:01:24,912] Trial 33 finished with value: 39037180875.5992 and parameters: {'activation': 'tanh', 'optimizer': 'adam', 'loss': 'mean_squared_error', 'units': 64, 'epochs': 3, 'batch_size': 64}. Best is trial 20 with value: 39034468335.86221.\n"
     ]
    },
    {
     "name": "stdout",
     "output_type": "stream",
     "text": [
      "15/15 [==============================] - 0s 9ms/step\n"
     ]
    },
    {
     "name": "stderr",
     "output_type": "stream",
     "text": [
      "[I 2023-06-04 18:01:27,714] Trial 34 finished with value: 39035123014.55246 and parameters: {'activation': 'elu', 'optimizer': 'adam', 'loss': 'mean_squared_error', 'units': 64, 'epochs': 7, 'batch_size': 64}. Best is trial 20 with value: 39034468335.86221.\n"
     ]
    },
    {
     "name": "stdout",
     "output_type": "stream",
     "text": [
      "15/15 [==============================] - 0s 5ms/step\n"
     ]
    },
    {
     "name": "stderr",
     "output_type": "stream",
     "text": [
      "[I 2023-06-04 18:01:29,403] Trial 35 finished with value: 39034561465.350586 and parameters: {'activation': 'tanh', 'optimizer': 'adam', 'loss': 'mean_squared_error', 'units': 64, 'epochs': 7, 'batch_size': 64}. Best is trial 20 with value: 39034468335.86221.\n"
     ]
    },
    {
     "name": "stdout",
     "output_type": "stream",
     "text": [
      "15/15 [==============================] - 0s 10ms/step\n"
     ]
    },
    {
     "name": "stderr",
     "output_type": "stream",
     "text": [
      "[I 2023-06-04 18:01:30,382] Trial 36 finished with value: 39035090846.38036 and parameters: {'activation': 'elu', 'optimizer': 'adam', 'loss': 'mean_squared_error', 'units': 64, 'epochs': 7, 'batch_size': 64}. Best is trial 20 with value: 39034468335.86221.\n"
     ]
    },
    {
     "name": "stdout",
     "output_type": "stream",
     "text": [
      "15/15 [==============================] - 0s 10ms/step\n"
     ]
    },
    {
     "name": "stderr",
     "output_type": "stream",
     "text": [
      "[I 2023-06-04 18:01:30,942] Trial 37 finished with value: 39034751894.86812 and parameters: {'activation': 'elu', 'optimizer': 'adam', 'loss': 'mean_squared_error', 'units': 64, 'epochs': 7, 'batch_size': 64}. Best is trial 20 with value: 39034468335.86221.\n"
     ]
    },
    {
     "name": "stdout",
     "output_type": "stream",
     "text": [
      "15/15 [==============================] - 0s 10ms/step\n"
     ]
    },
    {
     "name": "stderr",
     "output_type": "stream",
     "text": [
      "[I 2023-06-04 18:01:33,778] Trial 38 finished with value: 39034935045.697914 and parameters: {'activation': 'elu', 'optimizer': 'adam', 'loss': 'mean_squared_error', 'units': 64, 'epochs': 7, 'batch_size': 64}. Best is trial 20 with value: 39034468335.86221.\n"
     ]
    },
    {
     "name": "stdout",
     "output_type": "stream",
     "text": [
      "15/15 [==============================] - 0s 7ms/step\n"
     ]
    },
    {
     "name": "stderr",
     "output_type": "stream",
     "text": [
      "[I 2023-06-04 18:01:35,572] Trial 39 finished with value: 39034562275.01093 and parameters: {'activation': 'tanh', 'optimizer': 'adam', 'loss': 'mean_squared_error', 'units': 64, 'epochs': 7, 'batch_size': 64}. Best is trial 20 with value: 39034468335.86221.\n"
     ]
    },
    {
     "name": "stdout",
     "output_type": "stream",
     "text": [
      "15/15 [==============================] - 0s 8ms/step\n"
     ]
    },
    {
     "name": "stderr",
     "output_type": "stream",
     "text": [
      "[I 2023-06-04 18:01:35,942] Trial 40 finished with value: 39037130714.844215 and parameters: {'activation': 'tanh', 'optimizer': 'adam', 'loss': 'mean_squared_error', 'units': 32, 'epochs': 7, 'batch_size': 128}. Best is trial 20 with value: 39034468335.86221.\n"
     ]
    },
    {
     "name": "stdout",
     "output_type": "stream",
     "text": [
      "15/15 [==============================] - 0s 14ms/step\n"
     ]
    },
    {
     "name": "stderr",
     "output_type": "stream",
     "text": [
      "[I 2023-06-04 18:01:36,386] Trial 41 finished with value: 39037186891.12743 and parameters: {'activation': 'tanh', 'optimizer': 'adam', 'loss': 'mean_squared_error', 'units': 32, 'epochs': 7, 'batch_size': 128}. Best is trial 20 with value: 39034468335.86221.\n"
     ]
    },
    {
     "name": "stdout",
     "output_type": "stream",
     "text": [
      "15/15 [==============================] - 0s 5ms/step\n"
     ]
    },
    {
     "name": "stderr",
     "output_type": "stream",
     "text": [
      "[I 2023-06-04 18:01:40,374] Trial 42 finished with value: 39037343591.546616 and parameters: {'activation': 'tanh', 'optimizer': 'adam', 'loss': 'mean_squared_error', 'units': 32, 'epochs': 6, 'batch_size': 128}. Best is trial 20 with value: 39034468335.86221.\n"
     ]
    },
    {
     "name": "stdout",
     "output_type": "stream",
     "text": [
      "15/15 [==============================] - 0s 6ms/step\n"
     ]
    },
    {
     "name": "stderr",
     "output_type": "stream",
     "text": [
      "[I 2023-06-04 18:01:40,879] Trial 43 finished with value: 39037466180.72349 and parameters: {'activation': 'tanh', 'optimizer': 'adam', 'loss': 'mean_squared_error', 'units': 32, 'epochs': 6, 'batch_size': 128}. Best is trial 20 with value: 39034468335.86221.\n"
     ]
    },
    {
     "name": "stdout",
     "output_type": "stream",
     "text": [
      "15/15 [==============================] - 0s 9ms/step\n",
      "15/15 [==============================] - 0s 8ms/step\n"
     ]
    },
    {
     "name": "stderr",
     "output_type": "stream",
     "text": [
      "[I 2023-06-04 18:01:41,872] Trial 45 finished with value: 39035401390.42984 and parameters: {'activation': 'tanh', 'optimizer': 'adam', 'loss': 'mean_squared_error', 'units': 64, 'epochs': 6, 'batch_size': 64}. Best is trial 20 with value: 39034468335.86221.\n",
      "[I 2023-06-04 18:01:42,027] Trial 44 finished with value: 39035795485.98808 and parameters: {'activation': 'tanh', 'optimizer': 'adam', 'loss': 'mean_squared_error', 'units': 64, 'epochs': 6, 'batch_size': 64}. Best is trial 20 with value: 39034468335.86221.\n"
     ]
    },
    {
     "name": "stdout",
     "output_type": "stream",
     "text": [
      "15/15 [==============================] - 0s 6ms/step\n",
      " 9/15 [=================>............] - ETA: 0s"
     ]
    },
    {
     "name": "stderr",
     "output_type": "stream",
     "text": [
      "[I 2023-06-04 18:01:46,044] Trial 47 finished with value: 39034705800.31255 and parameters: {'activation': 'tanh', 'optimizer': 'rmsprop', 'loss': 'mean_squared_error', 'units': 64, 'epochs': 7, 'batch_size': 64}. Best is trial 20 with value: 39034468335.86221.\n"
     ]
    },
    {
     "name": "stdout",
     "output_type": "stream",
     "text": [
      "15/15 [==============================] - 0s 13ms/step\n"
     ]
    },
    {
     "name": "stderr",
     "output_type": "stream",
     "text": [
      "[I 2023-06-04 18:01:46,275] Trial 46 finished with value: 39034686173.05674 and parameters: {'activation': 'tanh', 'optimizer': 'adam', 'loss': 'mean_squared_error', 'units': 64, 'epochs': 7, 'batch_size': 64}. Best is trial 20 with value: 39034468335.86221.\n"
     ]
    },
    {
     "name": "stdout",
     "output_type": "stream",
     "text": [
      "15/15 [==============================] - 0s 9ms/step\n",
      "15/15 [==============================] - 0s 10ms/step\n"
     ]
    },
    {
     "name": "stderr",
     "output_type": "stream",
     "text": [
      "[I 2023-06-04 18:01:46,976] Trial 49 finished with value: 39037238847.27922 and parameters: {'activation': 'relu', 'optimizer': 'rmsprop', 'loss': 'mean_squared_error', 'units': 64, 'epochs': 7, 'batch_size': 64}. Best is trial 20 with value: 39034468335.86221.\n",
      "[I 2023-06-04 18:01:47,041] Trial 48 finished with value: 39034834623.7176 and parameters: {'activation': 'tanh', 'optimizer': 'rmsprop', 'loss': 'mean_squared_error', 'units': 64, 'epochs': 7, 'batch_size': 64}. Best is trial 20 with value: 39034468335.86221.\n"
     ]
    },
    {
     "name": "stdout",
     "output_type": "stream",
     "text": [
      "15/15 [==============================] - 0s 6ms/step\n",
      " 1/15 [=>............................] - ETA: 2s"
     ]
    },
    {
     "name": "stderr",
     "output_type": "stream",
     "text": [
      "[I 2023-06-04 18:01:51,002] Trial 50 finished with value: 39036533052.0099 and parameters: {'activation': 'relu', 'optimizer': 'rmsprop', 'loss': 'mean_squared_error', 'units': 64, 'epochs': 7, 'batch_size': 64}. Best is trial 20 with value: 39034468335.86221.\n"
     ]
    },
    {
     "name": "stdout",
     "output_type": "stream",
     "text": [
      "15/15 [==============================] - 0s 15ms/step\n"
     ]
    },
    {
     "name": "stderr",
     "output_type": "stream",
     "text": [
      "[I 2023-06-04 18:01:51,251] Trial 51 finished with value: 39036694891.01141 and parameters: {'activation': 'relu', 'optimizer': 'rmsprop', 'loss': 'mean_squared_error', 'units': 64, 'epochs': 7, 'batch_size': 64}. Best is trial 20 with value: 39034468335.86221.\n"
     ]
    },
    {
     "name": "stdout",
     "output_type": "stream",
     "text": [
      "15/15 [==============================] - 0s 10ms/step\n"
     ]
    },
    {
     "name": "stderr",
     "output_type": "stream",
     "text": [
      "[I 2023-06-04 18:01:51,667] Trial 52 finished with value: 39037864453.830956 and parameters: {'activation': 'relu', 'optimizer': 'adagrad', 'loss': 'mean_squared_error', 'units': 64, 'epochs': 7, 'batch_size': 64}. Best is trial 20 with value: 39034468335.86221.\n"
     ]
    },
    {
     "name": "stdout",
     "output_type": "stream",
     "text": [
      "15/15 [==============================] - 0s 11ms/step\n"
     ]
    },
    {
     "name": "stderr",
     "output_type": "stream",
     "text": [
      "[I 2023-06-04 18:01:52,954] Trial 53 finished with value: 39036934282.21452 and parameters: {'activation': 'relu', 'optimizer': 'adam', 'loss': 'mean_squared_error', 'units': 64, 'epochs': 6, 'batch_size': 64}. Best is trial 20 with value: 39034468335.86221.\n"
     ]
    },
    {
     "name": "stdout",
     "output_type": "stream",
     "text": [
      "15/15 [==============================] - 0s 6ms/step\n"
     ]
    },
    {
     "name": "stderr",
     "output_type": "stream",
     "text": [
      "[I 2023-06-04 18:01:56,932] Trial 56 finished with value: 39035390976.50259 and parameters: {'activation': 'elu', 'optimizer': 'adam', 'loss': 'mean_squared_error', 'units': 64, 'epochs': 6, 'batch_size': 64}. Best is trial 20 with value: 39034468335.86221.\n"
     ]
    },
    {
     "name": "stdout",
     "output_type": "stream",
     "text": [
      "15/15 [==============================] - 0s 6ms/step\n",
      "15/15 [==============================] - 0s 9ms/step\n"
     ]
    },
    {
     "name": "stderr",
     "output_type": "stream",
     "text": [
      "[I 2023-06-04 18:01:57,176] Trial 54 finished with value: 39034818678.99412 and parameters: {'activation': 'elu', 'optimizer': 'adam', 'loss': 'mean_squared_error', 'units': 64, 'epochs': 7, 'batch_size': 64}. Best is trial 20 with value: 39034468335.86221.\n",
      "[I 2023-06-04 18:01:57,276] Trial 55 finished with value: 39034782629.3086 and parameters: {'activation': 'elu', 'optimizer': 'adam', 'loss': 'mean_squared_error', 'units': 64, 'epochs': 7, 'batch_size': 64}. Best is trial 20 with value: 39034468335.86221.\n"
     ]
    },
    {
     "name": "stdout",
     "output_type": "stream",
     "text": [
      "15/15 [==============================] - 0s 10ms/step\n"
     ]
    },
    {
     "name": "stderr",
     "output_type": "stream",
     "text": [
      "[I 2023-06-04 18:01:58,999] Trial 57 finished with value: 39035123633.45906 and parameters: {'activation': 'elu', 'optimizer': 'adam', 'loss': 'mean_squared_error', 'units': 64, 'epochs': 7, 'batch_size': 64}. Best is trial 20 with value: 39034468335.86221.\n"
     ]
    },
    {
     "name": "stdout",
     "output_type": "stream",
     "text": [
      "15/15 [==============================] - 0s 7ms/step\n",
      "15/15 [==============================] - 0s 6ms/step\n",
      "15/15 [==============================] - 0s 7ms/step\n"
     ]
    },
    {
     "name": "stderr",
     "output_type": "stream",
     "text": [
      "[I 2023-06-04 18:02:03,142] Trial 58 finished with value: 39034531052.249725 and parameters: {'activation': 'elu', 'optimizer': 'adam', 'loss': 'mean_squared_error', 'units': 64, 'epochs': 7, 'batch_size': 64}. Best is trial 20 with value: 39034468335.86221.\n",
      "[I 2023-06-04 18:02:03,174] Trial 59 finished with value: 39034701729.67135 and parameters: {'activation': 'elu', 'optimizer': 'adam', 'loss': 'mean_squared_error', 'units': 64, 'epochs': 7, 'batch_size': 64}. Best is trial 20 with value: 39034468335.86221.\n",
      "[I 2023-06-04 18:02:03,176] Trial 60 finished with value: 39034331712.90225 and parameters: {'activation': 'elu', 'optimizer': 'adam', 'loss': 'mean_squared_error', 'units': 64, 'epochs': 7, 'batch_size': 64}. Best is trial 60 with value: 39034331712.90225.\n"
     ]
    },
    {
     "name": "stdout",
     "output_type": "stream",
     "text": [
      "15/15 [==============================] - 0s 8ms/step\n"
     ]
    },
    {
     "name": "stderr",
     "output_type": "stream",
     "text": [
      "[I 2023-06-04 18:02:06,890] Trial 61 finished with value: 39035010065.594025 and parameters: {'activation': 'tanh', 'optimizer': 'adam', 'loss': 'mean_squared_error', 'units': 64, 'epochs': 7, 'batch_size': 64}. Best is trial 60 with value: 39034331712.90225.\n"
     ]
    },
    {
     "name": "stdout",
     "output_type": "stream",
     "text": [
      "15/15 [==============================] - 0s 7ms/step\n",
      "15/15 [==============================] - 0s 6ms/step\n"
     ]
    },
    {
     "name": "stderr",
     "output_type": "stream",
     "text": [
      "[I 2023-06-04 18:02:08,993] Trial 62 finished with value: 39036469556.94146 and parameters: {'activation': 'tanh', 'optimizer': 'adam', 'loss': 'mean_squared_error', 'units': 64, 'epochs': 4, 'batch_size': 64}. Best is trial 60 with value: 39034331712.90225.\n"
     ]
    },
    {
     "name": "stdout",
     "output_type": "stream",
     "text": [
      "15/15 [==============================] - 0s 8ms/step\n"
     ]
    },
    {
     "name": "stderr",
     "output_type": "stream",
     "text": [
      "[I 2023-06-04 18:02:09,205] Trial 64 finished with value: 39034553431.34004 and parameters: {'activation': 'elu', 'optimizer': 'adam', 'loss': 'mean_squared_error', 'units': 64, 'epochs': 7, 'batch_size': 64}. Best is trial 60 with value: 39034331712.90225.\n",
      "[I 2023-06-04 18:02:09,266] Trial 63 finished with value: 39035057473.07069 and parameters: {'activation': 'elu', 'optimizer': 'adam', 'loss': 'mean_squared_error', 'units': 64, 'epochs': 7, 'batch_size': 64}. Best is trial 60 with value: 39034331712.90225.\n"
     ]
    },
    {
     "name": "stdout",
     "output_type": "stream",
     "text": [
      "15/15 [==============================] - 0s 6ms/step\n"
     ]
    },
    {
     "name": "stderr",
     "output_type": "stream",
     "text": [
      "[I 2023-06-04 18:02:12,725] Trial 65 finished with value: 39035041289.02709 and parameters: {'activation': 'elu', 'optimizer': 'adam', 'loss': 'mean_squared_error', 'units': 64, 'epochs': 7, 'batch_size': 64}. Best is trial 60 with value: 39034331712.90225.\n"
     ]
    },
    {
     "name": "stdout",
     "output_type": "stream",
     "text": [
      "15/15 [==============================] - 0s 9ms/step\n",
      "15/15 [==============================] - 0s 5ms/step\n"
     ]
    },
    {
     "name": "stderr",
     "output_type": "stream",
     "text": [
      "[I 2023-06-04 18:02:13,972] Trial 68 finished with value: 39037780791.83671 and parameters: {'activation': 'elu', 'optimizer': 'adagrad', 'loss': 'mean_squared_error', 'units': 64, 'epochs': 7, 'batch_size': 64}. Best is trial 60 with value: 39034331712.90225.\n",
      "[I 2023-06-04 18:02:14,032] Trial 67 finished with value: 39037637030.413506 and parameters: {'activation': 'elu', 'optimizer': 'adagrad', 'loss': 'mean_squared_error', 'units': 64, 'epochs': 7, 'batch_size': 64}. Best is trial 60 with value: 39034331712.90225.\n"
     ]
    },
    {
     "name": "stdout",
     "output_type": "stream",
     "text": [
      "15/15 [==============================] - 0s 10ms/step\n"
     ]
    },
    {
     "name": "stderr",
     "output_type": "stream",
     "text": [
      "[I 2023-06-04 18:02:14,583] Trial 66 finished with value: 39034861410.03618 and parameters: {'activation': 'elu', 'optimizer': 'adam', 'loss': 'mean_squared_error', 'units': 64, 'epochs': 7, 'batch_size': 64}. Best is trial 60 with value: 39034331712.90225.\n"
     ]
    },
    {
     "name": "stdout",
     "output_type": "stream",
     "text": [
      "15/15 [==============================] - 0s 14ms/step\n"
     ]
    },
    {
     "name": "stderr",
     "output_type": "stream",
     "text": [
      "[I 2023-06-04 18:02:17,688] Trial 69 finished with value: 39037755235.489845 and parameters: {'activation': 'elu', 'optimizer': 'adagrad', 'loss': 'mean_squared_error', 'units': 64, 'epochs': 6, 'batch_size': 64}. Best is trial 60 with value: 39034331712.90225.\n"
     ]
    },
    {
     "name": "stdout",
     "output_type": "stream",
     "text": [
      "15/15 [==============================] - 0s 10ms/step\n",
      " 1/15 [=>............................] - ETA: 3s"
     ]
    },
    {
     "name": "stderr",
     "output_type": "stream",
     "text": [
      "[I 2023-06-04 18:02:20,045] Trial 70 finished with value: 39035601900.943405 and parameters: {'activation': 'elu', 'optimizer': 'adam', 'loss': 'mean_squared_error', 'units': 64, 'epochs': 6, 'batch_size': 64}. Best is trial 60 with value: 39034331712.90225.\n"
     ]
    },
    {
     "name": "stdout",
     "output_type": "stream",
     "text": [
      "15/15 [==============================] - 0s 7ms/step\n",
      "15/15 [==============================] - 0s 10ms/step\n"
     ]
    },
    {
     "name": "stderr",
     "output_type": "stream",
     "text": [
      "[I 2023-06-04 18:02:20,167] Trial 72 finished with value: 39035491546.22194 and parameters: {'activation': 'elu', 'optimizer': 'adam', 'loss': 'mean_squared_error', 'units': 64, 'epochs': 6, 'batch_size': 64}. Best is trial 60 with value: 39034331712.90225.\n",
      "[I 2023-06-04 18:02:20,281] Trial 71 finished with value: 39035609835.37435 and parameters: {'activation': 'elu', 'optimizer': 'adam', 'loss': 'mean_squared_error', 'units': 64, 'epochs': 6, 'batch_size': 64}. Best is trial 60 with value: 39034331712.90225.\n"
     ]
    },
    {
     "name": "stdout",
     "output_type": "stream",
     "text": [
      "15/15 [==============================] - 0s 7ms/step\n"
     ]
    },
    {
     "name": "stderr",
     "output_type": "stream",
     "text": [
      "[I 2023-06-04 18:02:23,110] Trial 73 finished with value: 39036552212.053696 and parameters: {'activation': 'elu', 'optimizer': 'adam', 'loss': 'mean_squared_error', 'units': 64, 'epochs': 4, 'batch_size': 64}. Best is trial 60 with value: 39034331712.90225.\n"
     ]
    },
    {
     "name": "stdout",
     "output_type": "stream",
     "text": [
      "15/15 [==============================] - 0s 7ms/step\n",
      "15/15 [==============================] - 0s 3ms/step\n"
     ]
    },
    {
     "name": "stderr",
     "output_type": "stream",
     "text": [
      "[I 2023-06-04 18:02:26,308] Trial 75 finished with value: 39034878230.64074 and parameters: {'activation': 'elu', 'optimizer': 'adam', 'loss': 'mean_squared_error', 'units': 64, 'epochs': 7, 'batch_size': 64}. Best is trial 60 with value: 39034331712.90225.\n",
      "[I 2023-06-04 18:02:26,336] Trial 74 finished with value: 39034907524.530525 and parameters: {'activation': 'elu', 'optimizer': 'adam', 'loss': 'mean_squared_error', 'units': 64, 'epochs': 7, 'batch_size': 64}. Best is trial 60 with value: 39034331712.90225.\n"
     ]
    },
    {
     "name": "stdout",
     "output_type": "stream",
     "text": [
      "15/15 [==============================] - 0s 5ms/step\n",
      "15/15 [==============================] - 0s 5ms/step\n"
     ]
    },
    {
     "name": "stderr",
     "output_type": "stream",
     "text": [
      "[I 2023-06-04 18:02:29,577] Trial 77 finished with value: 39034848428.803375 and parameters: {'activation': 'elu', 'optimizer': 'adam', 'loss': 'mean_squared_error', 'units': 64, 'epochs': 7, 'batch_size': 64}. Best is trial 60 with value: 39034331712.90225.\n",
      "[I 2023-06-04 18:02:29,578] Trial 76 finished with value: 39034602053.32609 and parameters: {'activation': 'elu', 'optimizer': 'adam', 'loss': 'mean_squared_error', 'units': 64, 'epochs': 7, 'batch_size': 64}. Best is trial 60 with value: 39034331712.90225.\n"
     ]
    },
    {
     "name": "stdout",
     "output_type": "stream",
     "text": [
      "15/15 [==============================] - 0s 10ms/step\n",
      "11/15 [=====================>........] - ETA: 0s"
     ]
    },
    {
     "name": "stderr",
     "output_type": "stream",
     "text": [
      "[I 2023-06-04 18:02:30,579] Trial 79 finished with value: 39035069454.66495 and parameters: {'activation': 'elu', 'optimizer': 'adam', 'loss': 'mean_squared_error', 'units': 64, 'epochs': 7, 'batch_size': 64}. Best is trial 60 with value: 39034331712.90225.\n"
     ]
    },
    {
     "name": "stdout",
     "output_type": "stream",
     "text": [
      "\b\b\b\b\b\b\b\b\b\b\b\b\b\b\b\b\b\b\b\b\b\b\b\b\b\b\b\b\b\b\b\b\b\b\b\b\b\b\b\b\b\b\b\b\b\b\b\b\r",
      "15/15 [==============================] - 0s 11ms/step\n"
     ]
    },
    {
     "name": "stderr",
     "output_type": "stream",
     "text": [
      "[I 2023-06-04 18:02:30,721] Trial 78 finished with value: 39034696543.60122 and parameters: {'activation': 'elu', 'optimizer': 'adam', 'loss': 'mean_squared_error', 'units': 64, 'epochs': 7, 'batch_size': 64}. Best is trial 60 with value: 39034331712.90225.\n"
     ]
    },
    {
     "name": "stdout",
     "output_type": "stream",
     "text": [
      "15/15 [==============================] - 0s 7ms/step\n"
     ]
    },
    {
     "name": "stderr",
     "output_type": "stream",
     "text": [
      "[I 2023-06-04 18:02:35,705] Trial 80 finished with value: 39034452814.09575 and parameters: {'activation': 'tanh', 'optimizer': 'adam', 'loss': 'mean_squared_error', 'units': 64, 'epochs': 7, 'batch_size': 64}. Best is trial 60 with value: 39034331712.90225.\n"
     ]
    },
    {
     "name": "stdout",
     "output_type": "stream",
     "text": [
      "15/15 [==============================] - 0s 7ms/step\n",
      " 8/15 [===============>..............] - ETA: 0s"
     ]
    },
    {
     "name": "stderr",
     "output_type": "stream",
     "text": [
      "[I 2023-06-04 18:02:36,304] Trial 81 finished with value: 39034874473.36561 and parameters: {'activation': 'tanh', 'optimizer': 'adam', 'loss': 'mean_squared_error', 'units': 64, 'epochs': 7, 'batch_size': 64}. Best is trial 60 with value: 39034331712.90225.\n"
     ]
    },
    {
     "name": "stdout",
     "output_type": "stream",
     "text": [
      "15/15 [==============================] - 0s 10ms/step\n",
      " 9/15 [=================>............] - ETA: 0s"
     ]
    },
    {
     "name": "stderr",
     "output_type": "stream",
     "text": [
      "[I 2023-06-04 18:02:36,473] Trial 82 finished with value: 39034572280.15565 and parameters: {'activation': 'tanh', 'optimizer': 'adam', 'loss': 'mean_squared_error', 'units': 64, 'epochs': 7, 'batch_size': 64}. Best is trial 60 with value: 39034331712.90225.\n"
     ]
    },
    {
     "name": "stdout",
     "output_type": "stream",
     "text": [
      "\b\b\b\b\b\b\b\b\b\b\b\b\b\b\b\b\b\b\b\b\b\b\b\b\b\b\b\b\b\b\b\b\b\b\b\b\b\b\b\b\b\b\b\b\b\b\b\b\r",
      "15/15 [==============================] - 0s 8ms/step\n"
     ]
    },
    {
     "name": "stderr",
     "output_type": "stream",
     "text": [
      "[I 2023-06-04 18:02:36,684] Trial 83 finished with value: 39034952274.75428 and parameters: {'activation': 'tanh', 'optimizer': 'adam', 'loss': 'mean_squared_error', 'units': 64, 'epochs': 7, 'batch_size': 64}. Best is trial 60 with value: 39034331712.90225.\n"
     ]
    },
    {
     "name": "stdout",
     "output_type": "stream",
     "text": [
      "15/15 [==============================] - 0s 7ms/step\n"
     ]
    },
    {
     "name": "stderr",
     "output_type": "stream",
     "text": [
      "[I 2023-06-04 18:02:41,488] Trial 84 finished with value: 39035108728.07687 and parameters: {'activation': 'tanh', 'optimizer': 'adam', 'loss': 'mean_squared_error', 'units': 64, 'epochs': 7, 'batch_size': 64}. Best is trial 60 with value: 39034331712.90225.\n"
     ]
    },
    {
     "name": "stdout",
     "output_type": "stream",
     "text": [
      "15/15 [==============================] - 0s 9ms/step\n",
      "15/15 [==============================] - ETA: 0s"
     ]
    },
    {
     "name": "stderr",
     "output_type": "stream",
     "text": [
      "[I 2023-06-04 18:02:42,379] Trial 86 finished with value: 39034748607.10522 and parameters: {'activation': 'tanh', 'optimizer': 'adam', 'loss': 'mean_squared_error', 'units': 64, 'epochs': 7, 'batch_size': 64}. Best is trial 60 with value: 39034331712.90225.\n"
     ]
    },
    {
     "name": "stdout",
     "output_type": "stream",
     "text": [
      "15/15 [==============================] - 0s 8ms/step\n",
      " 8/15 [===============>..............] - ETA: 0s"
     ]
    },
    {
     "name": "stderr",
     "output_type": "stream",
     "text": [
      "[I 2023-06-04 18:02:42,519] Trial 85 finished with value: 39034481181.85234 and parameters: {'activation': 'tanh', 'optimizer': 'adam', 'loss': 'mean_squared_error', 'units': 64, 'epochs': 7, 'batch_size': 64}. Best is trial 60 with value: 39034331712.90225.\n"
     ]
    },
    {
     "name": "stdout",
     "output_type": "stream",
     "text": [
      "15/15 [==============================] - 0s 9ms/step\n"
     ]
    },
    {
     "name": "stderr",
     "output_type": "stream",
     "text": [
      "[I 2023-06-04 18:02:42,691] Trial 87 finished with value: 39034697112.97153 and parameters: {'activation': 'tanh', 'optimizer': 'adam', 'loss': 'mean_squared_error', 'units': 64, 'epochs': 7, 'batch_size': 64}. Best is trial 60 with value: 39034331712.90225.\n"
     ]
    },
    {
     "name": "stdout",
     "output_type": "stream",
     "text": [
      "15/15 [==============================] - 0s 6ms/step\n"
     ]
    },
    {
     "name": "stderr",
     "output_type": "stream",
     "text": [
      "[I 2023-06-04 18:02:47,307] Trial 88 finished with value: 39034666752.43223 and parameters: {'activation': 'tanh', 'optimizer': 'adam', 'loss': 'mean_squared_error', 'units': 64, 'epochs': 7, 'batch_size': 64}. Best is trial 60 with value: 39034331712.90225.\n"
     ]
    },
    {
     "name": "stdout",
     "output_type": "stream",
     "text": [
      "15/15 [==============================] - 0s 5ms/step\n"
     ]
    },
    {
     "name": "stderr",
     "output_type": "stream",
     "text": [
      "[I 2023-06-04 18:02:48,538] Trial 90 finished with value: 39034707711.70473 and parameters: {'activation': 'tanh', 'optimizer': 'adam', 'loss': 'mean_squared_error', 'units': 64, 'epochs': 7, 'batch_size': 64}. Best is trial 60 with value: 39034331712.90225.\n"
     ]
    },
    {
     "name": "stdout",
     "output_type": "stream",
     "text": [
      "15/15 [==============================] - 0s 5ms/step\n"
     ]
    },
    {
     "name": "stderr",
     "output_type": "stream",
     "text": [
      "[I 2023-06-04 18:02:48,935] Trial 91 finished with value: 39035160921.38553 and parameters: {'activation': 'tanh', 'optimizer': 'adam', 'loss': 'mean_squared_error', 'units': 64, 'epochs': 7, 'batch_size': 64}. Best is trial 60 with value: 39034331712.90225.\n"
     ]
    },
    {
     "name": "stdout",
     "output_type": "stream",
     "text": [
      "15/15 [==============================] - 0s 9ms/step\n"
     ]
    },
    {
     "name": "stderr",
     "output_type": "stream",
     "text": [
      "[I 2023-06-04 18:02:50,222] Trial 89 finished with value: 39034722158.26772 and parameters: {'activation': 'tanh', 'optimizer': 'adam', 'loss': 'mean_squared_error', 'units': 64, 'epochs': 7, 'batch_size': 64}. Best is trial 60 with value: 39034331712.90225.\n"
     ]
    },
    {
     "name": "stdout",
     "output_type": "stream",
     "text": [
      "15/15 [==============================] - 0s 6ms/step\n",
      "15/15 [==============================] - 0s 6ms/step\n"
     ]
    },
    {
     "name": "stderr",
     "output_type": "stream",
     "text": [
      "[I 2023-06-04 18:02:54,271] Trial 92 finished with value: 39034387447.84274 and parameters: {'activation': 'elu', 'optimizer': 'adam', 'loss': 'mean_squared_error', 'units': 64, 'epochs': 7, 'batch_size': 64}. Best is trial 60 with value: 39034331712.90225.\n",
      "[I 2023-06-04 18:02:54,303] Trial 93 finished with value: 39034696879.21366 and parameters: {'activation': 'elu', 'optimizer': 'adam', 'loss': 'mean_squared_error', 'units': 64, 'epochs': 7, 'batch_size': 64}. Best is trial 60 with value: 39034331712.90225.\n"
     ]
    },
    {
     "name": "stdout",
     "output_type": "stream",
     "text": [
      "15/15 [==============================] - 0s 18ms/step\n"
     ]
    },
    {
     "name": "stderr",
     "output_type": "stream",
     "text": [
      "[I 2023-06-04 18:02:54,744] Trial 94 finished with value: 39034669251.41923 and parameters: {'activation': 'tanh', 'optimizer': 'adam', 'loss': 'mean_squared_error', 'units': 64, 'epochs': 7, 'batch_size': 64}. Best is trial 60 with value: 39034331712.90225.\n"
     ]
    },
    {
     "name": "stdout",
     "output_type": "stream",
     "text": [
      "15/15 [==============================] - 0s 13ms/step\n"
     ]
    },
    {
     "name": "stderr",
     "output_type": "stream",
     "text": [
      "[I 2023-06-04 18:02:56,121] Trial 95 finished with value: 39034778385.44831 and parameters: {'activation': 'tanh', 'optimizer': 'adam', 'loss': 'mean_squared_error', 'units': 64, 'epochs': 7, 'batch_size': 64}. Best is trial 60 with value: 39034331712.90225.\n"
     ]
    },
    {
     "name": "stdout",
     "output_type": "stream",
     "text": [
      "15/15 [==============================] - 0s 6ms/step\n",
      "15/15 [==============================] - 0s 7ms/step\n"
     ]
    },
    {
     "name": "stderr",
     "output_type": "stream",
     "text": [
      "[I 2023-06-04 18:03:00,385] Trial 96 finished with value: 39034751728.65086 and parameters: {'activation': 'elu', 'optimizer': 'adam', 'loss': 'mean_squared_error', 'units': 64, 'epochs': 7, 'batch_size': 64}. Best is trial 60 with value: 39034331712.90225.\n"
     ]
    },
    {
     "name": "stdout",
     "output_type": "stream",
     "text": [
      " 7/15 [=============>................] - ETA: 0s"
     ]
    },
    {
     "name": "stderr",
     "output_type": "stream",
     "text": [
      "[I 2023-06-04 18:03:00,540] Trial 98 finished with value: 39034728432.815796 and parameters: {'activation': 'elu', 'optimizer': 'adam', 'loss': 'mean_squared_error', 'units': 64, 'epochs': 7, 'batch_size': 64}. Best is trial 60 with value: 39034331712.90225.\n"
     ]
    },
    {
     "name": "stdout",
     "output_type": "stream",
     "text": [
      "15/15 [==============================] - 0s 14ms/step\n"
     ]
    },
    {
     "name": "stderr",
     "output_type": "stream",
     "text": [
      "[I 2023-06-04 18:03:00,700] Trial 97 finished with value: 39034929412.44868 and parameters: {'activation': 'elu', 'optimizer': 'adam', 'loss': 'mean_squared_error', 'units': 64, 'epochs': 7, 'batch_size': 64}. Best is trial 60 with value: 39034331712.90225.\n"
     ]
    },
    {
     "name": "stdout",
     "output_type": "stream",
     "text": [
      "15/15 [==============================] - 0s 11ms/step\n"
     ]
    },
    {
     "name": "stderr",
     "output_type": "stream",
     "text": [
      "[I 2023-06-04 18:03:02,164] Trial 99 finished with value: 39034820779.26313 and parameters: {'activation': 'elu', 'optimizer': 'adam', 'loss': 'mean_squared_error', 'units': 64, 'epochs': 7, 'batch_size': 64}. Best is trial 60 with value: 39034331712.90225.\n"
     ]
    },
    {
     "name": "stdout",
     "output_type": "stream",
     "text": [
      "15/15 [==============================] - 0s 6ms/step\n"
     ]
    },
    {
     "name": "stderr",
     "output_type": "stream",
     "text": [
      "[I 2023-06-04 18:03:05,232] Trial 102 finished with value: 39036703741.94686 and parameters: {'activation': 'elu', 'optimizer': 'rmsprop', 'loss': 'mean_squared_error', 'units': 64, 'epochs': 7, 'batch_size': 128}. Best is trial 60 with value: 39034331712.90225.\n"
     ]
    },
    {
     "name": "stdout",
     "output_type": "stream",
     "text": [
      "15/15 [==============================] - 0s 7ms/step\n"
     ]
    },
    {
     "name": "stderr",
     "output_type": "stream",
     "text": [
      "[I 2023-06-04 18:03:05,936] Trial 101 finished with value: 39036431030.39183 and parameters: {'activation': 'elu', 'optimizer': 'rmsprop', 'loss': 'mean_squared_error', 'units': 32, 'epochs': 7, 'batch_size': 64}. Best is trial 60 with value: 39034331712.90225.\n"
     ]
    },
    {
     "name": "stdout",
     "output_type": "stream",
     "text": [
      "15/15 [==============================] - 0s 10ms/step\n",
      "15/15 [==============================] - 0s 8ms/step\n"
     ]
    },
    {
     "name": "stderr",
     "output_type": "stream",
     "text": [
      "[I 2023-06-04 18:03:06,354] Trial 100 finished with value: 39034817495.16811 and parameters: {'activation': 'elu', 'optimizer': 'adam', 'loss': 'mean_squared_error', 'units': 64, 'epochs': 7, 'batch_size': 64}. Best is trial 60 with value: 39034331712.90225.\n",
      "[I 2023-06-04 18:03:06,376] Trial 103 finished with value: 39037090237.24134 and parameters: {'activation': 'elu', 'optimizer': 'rmsprop', 'loss': 'mean_squared_error', 'units': 32, 'epochs': 7, 'batch_size': 128}. Best is trial 60 with value: 39034331712.90225.\n"
     ]
    },
    {
     "name": "stdout",
     "output_type": "stream",
     "text": [
      "15/15 [==============================] - 0s 6ms/step\n"
     ]
    },
    {
     "name": "stderr",
     "output_type": "stream",
     "text": [
      "[I 2023-06-04 18:03:11,408] Trial 104 finished with value: 39036138351.03579 and parameters: {'activation': 'relu', 'optimizer': 'adam', 'loss': 'mean_squared_error', 'units': 64, 'epochs': 7, 'batch_size': 64}. Best is trial 60 with value: 39034331712.90225.\n"
     ]
    },
    {
     "name": "stdout",
     "output_type": "stream",
     "text": [
      "15/15 [==============================] - 0s 4ms/step\n"
     ]
    },
    {
     "name": "stderr",
     "output_type": "stream",
     "text": [
      "[I 2023-06-04 18:03:11,740] Trial 105 finished with value: 39036441109.19896 and parameters: {'activation': 'relu', 'optimizer': 'adam', 'loss': 'mean_squared_error', 'units': 64, 'epochs': 7, 'batch_size': 64}. Best is trial 60 with value: 39034331712.90225.\n"
     ]
    },
    {
     "name": "stdout",
     "output_type": "stream",
     "text": [
      "15/15 [==============================] - 0s 10ms/step\n",
      "15/15 [==============================] - 0s 10ms/step\n"
     ]
    },
    {
     "name": "stderr",
     "output_type": "stream",
     "text": [
      "[I 2023-06-04 18:03:12,602] Trial 106 finished with value: 39037056898.11886 and parameters: {'activation': 'relu', 'optimizer': 'adam', 'loss': 'mean_squared_error', 'units': 64, 'epochs': 7, 'batch_size': 64}. Best is trial 60 with value: 39034331712.90225.\n",
      "[I 2023-06-04 18:03:12,622] Trial 107 finished with value: 39036855289.47296 and parameters: {'activation': 'relu', 'optimizer': 'adam', 'loss': 'mean_squared_error', 'units': 64, 'epochs': 7, 'batch_size': 64}. Best is trial 60 with value: 39034331712.90225.\n"
     ]
    },
    {
     "name": "stdout",
     "output_type": "stream",
     "text": [
      "15/15 [==============================] - 0s 9ms/step\n"
     ]
    },
    {
     "name": "stderr",
     "output_type": "stream",
     "text": [
      "[I 2023-06-04 18:03:17,263] Trial 111 finished with value: 39037632661.09053 and parameters: {'activation': 'tanh', 'optimizer': 'adagrad', 'loss': 'mean_squared_error', 'units': 64, 'epochs': 7, 'batch_size': 64}. Best is trial 60 with value: 39034331712.90225.\n"
     ]
    },
    {
     "name": "stdout",
     "output_type": "stream",
     "text": [
      "15/15 [==============================] - 0s 6ms/step\n"
     ]
    },
    {
     "name": "stderr",
     "output_type": "stream",
     "text": [
      "[I 2023-06-04 18:03:17,731] Trial 109 finished with value: 39034655747.27275 and parameters: {'activation': 'tanh', 'optimizer': 'adam', 'loss': 'mean_squared_error', 'units': 64, 'epochs': 7, 'batch_size': 64}. Best is trial 60 with value: 39034331712.90225.\n"
     ]
    },
    {
     "name": "stdout",
     "output_type": "stream",
     "text": [
      "15/15 [==============================] - 0s 8ms/step\n"
     ]
    },
    {
     "name": "stderr",
     "output_type": "stream",
     "text": [
      "[I 2023-06-04 18:03:18,545] Trial 110 finished with value: 39034902600.12624 and parameters: {'activation': 'tanh', 'optimizer': 'adam', 'loss': 'mean_squared_error', 'units': 64, 'epochs': 7, 'batch_size': 64}. Best is trial 60 with value: 39034331712.90225.\n"
     ]
    },
    {
     "name": "stdout",
     "output_type": "stream",
     "text": [
      "15/15 [==============================] - 0s 9ms/step\n"
     ]
    },
    {
     "name": "stderr",
     "output_type": "stream",
     "text": [
      "[I 2023-06-04 18:03:20,904] Trial 108 finished with value: 39034788672.170334 and parameters: {'activation': 'tanh', 'optimizer': 'adam', 'loss': 'mean_squared_error', 'units': 64, 'epochs': 7, 'batch_size': 64}. Best is trial 60 with value: 39034331712.90225.\n"
     ]
    },
    {
     "name": "stdout",
     "output_type": "stream",
     "text": [
      "15/15 [==============================] - 0s 7ms/step\n"
     ]
    },
    {
     "name": "stderr",
     "output_type": "stream",
     "text": [
      "[I 2023-06-04 18:03:22,298] Trial 112 finished with value: 39036985411.5322 and parameters: {'activation': 'tanh', 'optimizer': 'adam', 'loss': 'mean_squared_error', 'units': 64, 'epochs': 3, 'batch_size': 64}. Best is trial 60 with value: 39034331712.90225.\n"
     ]
    },
    {
     "name": "stdout",
     "output_type": "stream",
     "text": [
      "15/15 [==============================] - 0s 6ms/step\n"
     ]
    },
    {
     "name": "stderr",
     "output_type": "stream",
     "text": [
      "[I 2023-06-04 18:03:22,778] Trial 113 finished with value: 39037083301.46239 and parameters: {'activation': 'elu', 'optimizer': 'adam', 'loss': 'mean_squared_error', 'units': 64, 'epochs': 3, 'batch_size': 64}. Best is trial 60 with value: 39034331712.90225.\n"
     ]
    },
    {
     "name": "stdout",
     "output_type": "stream",
     "text": [
      "15/15 [==============================] - 0s 13ms/step\n"
     ]
    },
    {
     "name": "stderr",
     "output_type": "stream",
     "text": [
      "[I 2023-06-04 18:03:24,124] Trial 114 finished with value: 39034876579.665955 and parameters: {'activation': 'tanh', 'optimizer': 'adam', 'loss': 'mean_squared_error', 'units': 64, 'epochs': 7, 'batch_size': 64}. Best is trial 60 with value: 39034331712.90225.\n"
     ]
    },
    {
     "name": "stdout",
     "output_type": "stream",
     "text": [
      "15/15 [==============================] - 0s 6ms/step\n"
     ]
    },
    {
     "name": "stderr",
     "output_type": "stream",
     "text": [
      "[I 2023-06-04 18:03:26,805] Trial 115 finished with value: 39035030061.58692 and parameters: {'activation': 'tanh', 'optimizer': 'adam', 'loss': 'mean_squared_error', 'units': 64, 'epochs': 7, 'batch_size': 64}. Best is trial 60 with value: 39034331712.90225.\n"
     ]
    },
    {
     "name": "stdout",
     "output_type": "stream",
     "text": [
      "15/15 [==============================] - 0s 7ms/step\n"
     ]
    },
    {
     "name": "stderr",
     "output_type": "stream",
     "text": [
      "[I 2023-06-04 18:03:28,423] Trial 116 finished with value: 39034855056.144005 and parameters: {'activation': 'tanh', 'optimizer': 'adam', 'loss': 'mean_squared_error', 'units': 64, 'epochs': 7, 'batch_size': 64}. Best is trial 60 with value: 39034331712.90225.\n"
     ]
    },
    {
     "name": "stdout",
     "output_type": "stream",
     "text": [
      "15/15 [==============================] - 0s 9ms/step\n"
     ]
    },
    {
     "name": "stderr",
     "output_type": "stream",
     "text": [
      "[I 2023-06-04 18:03:28,785] Trial 117 finished with value: 39034866726.413826 and parameters: {'activation': 'tanh', 'optimizer': 'adam', 'loss': 'mean_squared_error', 'units': 64, 'epochs': 7, 'batch_size': 64}. Best is trial 60 with value: 39034331712.90225.\n"
     ]
    },
    {
     "name": "stdout",
     "output_type": "stream",
     "text": [
      "15/15 [==============================] - 0s 10ms/step\n"
     ]
    },
    {
     "name": "stderr",
     "output_type": "stream",
     "text": [
      "[I 2023-06-04 18:03:30,003] Trial 118 finished with value: 39034589031.31905 and parameters: {'activation': 'tanh', 'optimizer': 'adam', 'loss': 'mean_squared_error', 'units': 64, 'epochs': 7, 'batch_size': 64}. Best is trial 60 with value: 39034331712.90225.\n"
     ]
    },
    {
     "name": "stdout",
     "output_type": "stream",
     "text": [
      "15/15 [==============================] - 0s 6ms/step\n"
     ]
    },
    {
     "name": "stderr",
     "output_type": "stream",
     "text": [
      "[I 2023-06-04 18:03:32,965] Trial 119 finished with value: 39034922288.38363 and parameters: {'activation': 'elu', 'optimizer': 'adam', 'loss': 'mean_squared_error', 'units': 64, 'epochs': 7, 'batch_size': 64}. Best is trial 60 with value: 39034331712.90225.\n"
     ]
    },
    {
     "name": "stdout",
     "output_type": "stream",
     "text": [
      "15/15 [==============================] - 0s 8ms/step\n",
      " 1/15 [=>............................] - ETA: 2s"
     ]
    },
    {
     "name": "stderr",
     "output_type": "stream",
     "text": [
      "[I 2023-06-04 18:03:34,285] Trial 121 finished with value: 39036244228.98316 and parameters: {'activation': 'elu', 'optimizer': 'adam', 'loss': 'mean_squared_error', 'units': 64, 'epochs': 5, 'batch_size': 64}. Best is trial 60 with value: 39034331712.90225.\n"
     ]
    },
    {
     "name": "stdout",
     "output_type": "stream",
     "text": [
      "15/15 [==============================] - 0s 9ms/step\n"
     ]
    },
    {
     "name": "stderr",
     "output_type": "stream",
     "text": [
      "[I 2023-06-04 18:03:34,560] Trial 120 finished with value: 39034771388.76713 and parameters: {'activation': 'elu', 'optimizer': 'adam', 'loss': 'mean_squared_error', 'units': 64, 'epochs': 7, 'batch_size': 64}. Best is trial 60 with value: 39034331712.90225.\n"
     ]
    },
    {
     "name": "stdout",
     "output_type": "stream",
     "text": [
      "15/15 [==============================] - 0s 11ms/step\n"
     ]
    },
    {
     "name": "stderr",
     "output_type": "stream",
     "text": [
      "[I 2023-06-04 18:03:36,151] Trial 122 finished with value: 39034604652.63215 and parameters: {'activation': 'elu', 'optimizer': 'adam', 'loss': 'mean_squared_error', 'units': 64, 'epochs': 7, 'batch_size': 64}. Best is trial 60 with value: 39034331712.90225.\n"
     ]
    },
    {
     "name": "stdout",
     "output_type": "stream",
     "text": [
      "15/15 [==============================] - 0s 6ms/step\n"
     ]
    },
    {
     "name": "stderr",
     "output_type": "stream",
     "text": [
      "[I 2023-06-04 18:03:38,976] Trial 123 finished with value: 39034930993.69157 and parameters: {'activation': 'elu', 'optimizer': 'adam', 'loss': 'mean_squared_error', 'units': 64, 'epochs': 7, 'batch_size': 64}. Best is trial 60 with value: 39034331712.90225.\n"
     ]
    },
    {
     "name": "stdout",
     "output_type": "stream",
     "text": [
      "15/15 [==============================] - 0s 7ms/step\n"
     ]
    },
    {
     "name": "stderr",
     "output_type": "stream",
     "text": [
      "[I 2023-06-04 18:03:40,526] Trial 124 finished with value: 39034861961.57104 and parameters: {'activation': 'tanh', 'optimizer': 'adam', 'loss': 'mean_squared_error', 'units': 64, 'epochs': 7, 'batch_size': 64}. Best is trial 60 with value: 39034331712.90225.\n"
     ]
    },
    {
     "name": "stdout",
     "output_type": "stream",
     "text": [
      "15/15 [==============================] - 0s 7ms/step\n"
     ]
    },
    {
     "name": "stderr",
     "output_type": "stream",
     "text": [
      "[I 2023-06-04 18:03:41,996] Trial 125 finished with value: 39034789572.77455 and parameters: {'activation': 'tanh', 'optimizer': 'adam', 'loss': 'mean_squared_error', 'units': 64, 'epochs': 7, 'batch_size': 64}. Best is trial 60 with value: 39034331712.90225.\n"
     ]
    },
    {
     "name": "stdout",
     "output_type": "stream",
     "text": [
      "15/15 [==============================] - 0s 8ms/step\n"
     ]
    },
    {
     "name": "stderr",
     "output_type": "stream",
     "text": [
      "[I 2023-06-04 18:03:43,535] Trial 126 finished with value: 39034886428.75452 and parameters: {'activation': 'tanh', 'optimizer': 'adam', 'loss': 'mean_squared_error', 'units': 64, 'epochs': 7, 'batch_size': 64}. Best is trial 60 with value: 39034331712.90225.\n"
     ]
    },
    {
     "name": "stdout",
     "output_type": "stream",
     "text": [
      "15/15 [==============================] - 0s 10ms/step\n"
     ]
    },
    {
     "name": "stderr",
     "output_type": "stream",
     "text": [
      "[I 2023-06-04 18:03:44,460] Trial 127 finished with value: 39034798106.92499 and parameters: {'activation': 'tanh', 'optimizer': 'adam', 'loss': 'mean_squared_error', 'units': 64, 'epochs': 7, 'batch_size': 64}. Best is trial 60 with value: 39034331712.90225.\n"
     ]
    },
    {
     "name": "stdout",
     "output_type": "stream",
     "text": [
      "15/15 [==============================] - 0s 9ms/step\n"
     ]
    },
    {
     "name": "stderr",
     "output_type": "stream",
     "text": [
      "[I 2023-06-04 18:03:46,301] Trial 128 finished with value: 39034760477.32236 and parameters: {'activation': 'tanh', 'optimizer': 'adam', 'loss': 'mean_squared_error', 'units': 64, 'epochs': 7, 'batch_size': 64}. Best is trial 60 with value: 39034331712.90225.\n"
     ]
    },
    {
     "name": "stdout",
     "output_type": "stream",
     "text": [
      "15/15 [==============================] - 0s 7ms/step\n",
      "15/15 [==============================] - 0s 6ms/step\n"
     ]
    },
    {
     "name": "stderr",
     "output_type": "stream",
     "text": [
      "[I 2023-06-04 18:03:48,658] Trial 129 finished with value: 39034716638.351166 and parameters: {'activation': 'tanh', 'optimizer': 'adam', 'loss': 'mean_squared_error', 'units': 64, 'epochs': 7, 'batch_size': 64}. Best is trial 60 with value: 39034331712.90225.\n"
     ]
    },
    {
     "name": "stdout",
     "output_type": "stream",
     "text": [
      "\r",
      " 1/15 [=>............................] - ETA: 3s"
     ]
    },
    {
     "name": "stderr",
     "output_type": "stream",
     "text": [
      "[I 2023-06-04 18:03:48,678] Trial 131 finished with value: 39037716144.61372 and parameters: {'activation': 'tanh', 'optimizer': 'adagrad', 'loss': 'mean_squared_error', 'units': 64, 'epochs': 7, 'batch_size': 64}. Best is trial 60 with value: 39034331712.90225.\n"
     ]
    },
    {
     "name": "stdout",
     "output_type": "stream",
     "text": [
      "15/15 [==============================] - 0s 10ms/step\n"
     ]
    },
    {
     "name": "stderr",
     "output_type": "stream",
     "text": [
      "[I 2023-06-04 18:03:48,908] Trial 130 finished with value: 39034952174.70946 and parameters: {'activation': 'tanh', 'optimizer': 'adam', 'loss': 'mean_squared_error', 'units': 64, 'epochs': 7, 'batch_size': 64}. Best is trial 60 with value: 39034331712.90225.\n"
     ]
    },
    {
     "name": "stdout",
     "output_type": "stream",
     "text": [
      "15/15 [==============================] - 0s 10ms/step\n"
     ]
    },
    {
     "name": "stderr",
     "output_type": "stream",
     "text": [
      "[I 2023-06-04 18:03:50,603] Trial 132 finished with value: 39037789141.763016 and parameters: {'activation': 'tanh', 'optimizer': 'adagrad', 'loss': 'mean_squared_error', 'units': 64, 'epochs': 7, 'batch_size': 64}. Best is trial 60 with value: 39034331712.90225.\n"
     ]
    },
    {
     "name": "stdout",
     "output_type": "stream",
     "text": [
      "15/15 [==============================] - 0s 7ms/step\n"
     ]
    },
    {
     "name": "stderr",
     "output_type": "stream",
     "text": [
      "[I 2023-06-04 18:03:53,481] Trial 133 finished with value: 39037693842.776344 and parameters: {'activation': 'elu', 'optimizer': 'adagrad', 'loss': 'mean_squared_error', 'units': 64, 'epochs': 6, 'batch_size': 64}. Best is trial 60 with value: 39034331712.90225.\n"
     ]
    },
    {
     "name": "stdout",
     "output_type": "stream",
     "text": [
      "15/15 [==============================] - 0s 7ms/step\n",
      "15/15 [==============================] - 0s 8ms/step\n"
     ]
    },
    {
     "name": "stderr",
     "output_type": "stream",
     "text": [
      "[I 2023-06-04 18:03:54,778] Trial 135 finished with value: 39034728889.47782 and parameters: {'activation': 'elu', 'optimizer': 'adam', 'loss': 'mean_squared_error', 'units': 64, 'epochs': 7, 'batch_size': 64}. Best is trial 60 with value: 39034331712.90225.\n",
      "[I 2023-06-04 18:03:54,879] Trial 134 finished with value: 39034823576.272865 and parameters: {'activation': 'elu', 'optimizer': 'adam', 'loss': 'mean_squared_error', 'units': 64, 'epochs': 7, 'batch_size': 64}. Best is trial 60 with value: 39034331712.90225.\n"
     ]
    },
    {
     "name": "stdout",
     "output_type": "stream",
     "text": [
      "15/15 [==============================] - 0s 13ms/step\n"
     ]
    },
    {
     "name": "stderr",
     "output_type": "stream",
     "text": [
      "[I 2023-06-04 18:03:56,570] Trial 136 finished with value: 39034803501.542046 and parameters: {'activation': 'elu', 'optimizer': 'adam', 'loss': 'mean_squared_error', 'units': 64, 'epochs': 7, 'batch_size': 64}. Best is trial 60 with value: 39034331712.90225.\n"
     ]
    },
    {
     "name": "stdout",
     "output_type": "stream",
     "text": [
      "15/15 [==============================] - 0s 5ms/step\n"
     ]
    },
    {
     "name": "stderr",
     "output_type": "stream",
     "text": [
      "[I 2023-06-04 18:03:59,289] Trial 137 finished with value: 39034464446.649574 and parameters: {'activation': 'elu', 'optimizer': 'adam', 'loss': 'mean_squared_error', 'units': 64, 'epochs': 7, 'batch_size': 64}. Best is trial 60 with value: 39034331712.90225.\n"
     ]
    },
    {
     "name": "stdout",
     "output_type": "stream",
     "text": [
      "15/15 [==============================] - 0s 6ms/step\n"
     ]
    },
    {
     "name": "stderr",
     "output_type": "stream",
     "text": [
      "[I 2023-06-04 18:04:00,779] Trial 138 finished with value: 39035258756.163284 and parameters: {'activation': 'elu', 'optimizer': 'adam', 'loss': 'mean_squared_error', 'units': 64, 'epochs': 7, 'batch_size': 64}. Best is trial 60 with value: 39034331712.90225.\n"
     ]
    },
    {
     "name": "stdout",
     "output_type": "stream",
     "text": [
      "15/15 [==============================] - 0s 9ms/step\n"
     ]
    },
    {
     "name": "stderr",
     "output_type": "stream",
     "text": [
      "[I 2023-06-04 18:04:01,061] Trial 139 finished with value: 39034714006.241615 and parameters: {'activation': 'elu', 'optimizer': 'adam', 'loss': 'mean_squared_error', 'units': 64, 'epochs': 7, 'batch_size': 64}. Best is trial 60 with value: 39034331712.90225.\n"
     ]
    },
    {
     "name": "stdout",
     "output_type": "stream",
     "text": [
      "15/15 [==============================] - 0s 10ms/step\n"
     ]
    },
    {
     "name": "stderr",
     "output_type": "stream",
     "text": [
      "[I 2023-06-04 18:04:02,279] Trial 140 finished with value: 39035105759.86694 and parameters: {'activation': 'elu', 'optimizer': 'adam', 'loss': 'mean_squared_error', 'units': 64, 'epochs': 7, 'batch_size': 64}. Best is trial 60 with value: 39034331712.90225.\n"
     ]
    },
    {
     "name": "stdout",
     "output_type": "stream",
     "text": [
      "15/15 [==============================] - 0s 8ms/step\n",
      "15/15 [==============================] - 0s 9ms/step\n"
     ]
    },
    {
     "name": "stderr",
     "output_type": "stream",
     "text": [
      "[I 2023-06-04 18:04:06,749] Trial 141 finished with value: 39034973876.92315 and parameters: {'activation': 'elu', 'optimizer': 'adam', 'loss': 'mean_squared_error', 'units': 64, 'epochs': 7, 'batch_size': 64}. Best is trial 60 with value: 39034331712.90225.\n"
     ]
    },
    {
     "name": "stdout",
     "output_type": "stream",
     "text": [
      "\r",
      " 1/15 [=>............................] - ETA: 2s"
     ]
    },
    {
     "name": "stderr",
     "output_type": "stream",
     "text": [
      "[I 2023-06-04 18:04:06,773] Trial 142 finished with value: 39034872701.49098 and parameters: {'activation': 'elu', 'optimizer': 'adam', 'loss': 'mean_squared_error', 'units': 64, 'epochs': 7, 'batch_size': 64}. Best is trial 60 with value: 39034331712.90225.\n"
     ]
    },
    {
     "name": "stdout",
     "output_type": "stream",
     "text": [
      "15/15 [==============================] - 0s 8ms/step\n"
     ]
    },
    {
     "name": "stderr",
     "output_type": "stream",
     "text": [
      "[I 2023-06-04 18:04:07,071] Trial 143 finished with value: 39035013850.8724 and parameters: {'activation': 'elu', 'optimizer': 'adam', 'loss': 'mean_squared_error', 'units': 64, 'epochs': 7, 'batch_size': 64}. Best is trial 60 with value: 39034331712.90225.\n"
     ]
    },
    {
     "name": "stdout",
     "output_type": "stream",
     "text": [
      "15/15 [==============================] - 0s 7ms/step\n"
     ]
    },
    {
     "name": "stderr",
     "output_type": "stream",
     "text": [
      "[I 2023-06-04 18:04:09,721] Trial 144 finished with value: 39034914804.111824 and parameters: {'activation': 'elu', 'optimizer': 'adam', 'loss': 'mean_squared_error', 'units': 64, 'epochs': 7, 'batch_size': 64}. Best is trial 60 with value: 39034331712.90225.\n"
     ]
    },
    {
     "name": "stdout",
     "output_type": "stream",
     "text": [
      "15/15 [==============================] - 0s 13ms/step\n",
      "10/15 [===================>..........] - ETA: 0s"
     ]
    },
    {
     "name": "stderr",
     "output_type": "stream",
     "text": [
      "[I 2023-06-04 18:04:14,482] Trial 145 finished with value: 39034777722.0326 and parameters: {'activation': 'elu', 'optimizer': 'adam', 'loss': 'mean_squared_error', 'units': 64, 'epochs': 7, 'batch_size': 64}. Best is trial 60 with value: 39034331712.90225.\n"
     ]
    },
    {
     "name": "stdout",
     "output_type": "stream",
     "text": [
      "15/15 [==============================] - 0s 12ms/step\n",
      "15/15 [==============================] - 0s 10ms/step\n"
     ]
    },
    {
     "name": "stderr",
     "output_type": "stream",
     "text": [
      "[I 2023-06-04 18:04:14,580] Trial 147 finished with value: 39034580957.7376 and parameters: {'activation': 'elu', 'optimizer': 'adam', 'loss': 'mean_squared_error', 'units': 64, 'epochs': 7, 'batch_size': 64}. Best is trial 60 with value: 39034331712.90225.\n",
      "[I 2023-06-04 18:04:14,621] Trial 146 finished with value: 39035104575.63056 and parameters: {'activation': 'elu', 'optimizer': 'adam', 'loss': 'mean_squared_error', 'units': 64, 'epochs': 7, 'batch_size': 64}. Best is trial 60 with value: 39034331712.90225.\n"
     ]
    },
    {
     "name": "stdout",
     "output_type": "stream",
     "text": [
      "15/15 [==============================] - 0s 6ms/step\n"
     ]
    },
    {
     "name": "stderr",
     "output_type": "stream",
     "text": [
      "[I 2023-06-04 18:04:15,724] Trial 148 finished with value: 39034795120.86667 and parameters: {'activation': 'elu', 'optimizer': 'adam', 'loss': 'mean_squared_error', 'units': 64, 'epochs': 7, 'batch_size': 64}. Best is trial 60 with value: 39034331712.90225.\n"
     ]
    },
    {
     "name": "stdout",
     "output_type": "stream",
     "text": [
      "15/15 [==============================] - 0s 3ms/step\n"
     ]
    },
    {
     "name": "stderr",
     "output_type": "stream",
     "text": [
      "[I 2023-06-04 18:04:16,749] Trial 149 finished with value: 39034695766.16309 and parameters: {'activation': 'elu', 'optimizer': 'adam', 'loss': 'mean_squared_error', 'units': 64, 'epochs': 7, 'batch_size': 64}. Best is trial 60 with value: 39034331712.90225.\n"
     ]
    }
   ],
   "source": [
    "from keras.layers import Dense\n",
    "from keras import Input, Model\n",
    "\n",
    "# objective function to be minimized\n",
    "def objective_fun(trial):\n",
    "\n",
    "    activation = trial.suggest_categorical('activation', ['relu', 'tanh', 'elu'])\n",
    "    optimizer = trial.suggest_categorical('optimizer', ['adam', 'rmsprop', 'adagrad'])\n",
    "    loss = trial.suggest_categorical('loss', ['mean_squared_error'])\n",
    "    units = trial.suggest_int('units', 32, 64, step=32)\n",
    "    epochs = trial.suggest_int('epochs', 3, 7)\n",
    "    batch_size = trial.suggest_int('batch_size', 64, 128, step=64)\n",
    "\n",
    "\n",
    "    input_layer = Input(shape=(X_train.shape[1]), name='input')\n",
    "    hidden_layer = Dense(units=units, activation=activation)(input_layer)\n",
    "    #hidden_layer = Dense(units=units, activation=activation)(hidden_layer)\n",
    "    output_layer = Dense(1, name='output')(hidden_layer)\n",
    "\n",
    "    ann = Model(inputs=input_layer, outputs=output_layer, name='DenseNetwork')\n",
    "\n",
    "    ann.compile(optimizer=optimizer, loss=loss)\n",
    "\n",
    "    ann.fit(X_train, y_train, epochs=epochs, batch_size=batch_size, verbose=False)\n",
    "\n",
    "    y_pred = ann.predict(X_valid)\n",
    "\n",
    "    error = mean_squared_error(y_valid, y_pred)\n",
    "\n",
    "    return error\n",
    "\n",
    "\n",
    "study = optuna.create_study()\n",
    "study.optimize(objective_fun, n_trials=150, n_jobs=-1)"
   ]
  },
  {
   "cell_type": "code",
   "execution_count": 26,
   "metadata": {
    "ExecuteTime": {
     "end_time": "2023-06-04T14:52:48.493668Z",
     "start_time": "2023-06-04T14:52:48.176835Z"
    }
   },
   "outputs": [
    {
     "name": "stdout",
     "output_type": "stream",
     "text": [
      "Epoch 1/7\n",
      "22/22 [==============================] - 1s 4ms/step - loss: 38506549248.0000\n",
      "Epoch 2/7\n",
      "22/22 [==============================] - 0s 6ms/step - loss: 38505164800.0000\n",
      "Epoch 3/7\n",
      "22/22 [==============================] - 0s 4ms/step - loss: 38502420480.0000\n",
      "Epoch 4/7\n",
      "22/22 [==============================] - 0s 4ms/step - loss: 38497341440.0000\n",
      "Epoch 5/7\n",
      "22/22 [==============================] - 0s 4ms/step - loss: 38488907776.0000\n",
      "Epoch 6/7\n",
      "22/22 [==============================] - 0s 4ms/step - loss: 38475952128.0000\n",
      "Epoch 7/7\n",
      "22/22 [==============================] - 0s 5ms/step - loss: 38457401344.0000\n",
      "20/20 [==============================] - 0s 3ms/step\n",
      "{'activation': 'elu', 'optimizer': 'adam', 'loss': 'mean_squared_error', 'units': 64, 'epochs': 7, 'batch_size': 64}\n",
      "Root mean squared error = 203637.9489\n",
      "R-squared = -48.9055\n"
     ]
    }
   ],
   "source": [
    "best_params = study.best_params\n",
    "\n",
    "input_layer = Input(shape=(X_train.shape[1]), name='input')\n",
    "hidden_layer = Dense(units=best_params['units'], activation=best_params['activation'])(input_layer)\n",
    "hidden_layer = Dense(units=best_params['units'], activation=best_params['activation'])(hidden_layer)\n",
    "output_layer = Dense(1, name='output')(hidden_layer)\n",
    "\n",
    "ann = Model(inputs=input_layer, outputs=output_layer, name='DenseNetwork')\n",
    "\n",
    "ann.compile(optimizer=best_params['optimizer'], loss=best_params['loss'])\n",
    "\n",
    "ann.fit(X_train, y_train, epochs=best_params['epochs'], batch_size=best_params['batch_size'])\n",
    "\n",
    "y_pred_test = ann.predict(X_test)\n",
    "\n",
    "print(best_params)\n",
    "print('Root mean squared error = %.4f' % np.sqrt(mean_squared_error(y_test, y_pred_test)))\n",
    "print('R-squared = %.4f' % r2_score(y_test, y_pred_test))"
   ]
  },
  {
   "cell_type": "code",
   "execution_count": 32,
   "outputs": [
    {
     "name": "stdout",
     "output_type": "stream",
     "text": [
      "(619,) (619, 1)\n"
     ]
    },
    {
     "data": {
      "text/plain": "       test       pred\n0    161762  20.759790\n1    155355  19.814405\n2    160160  20.555658\n3    158558  20.331245\n4    176176  21.929529\n..      ...        ...\n614  219419  22.708817\n615  217817  22.702169\n616  206606  22.634287\n617  203404  22.605417\n618  213013  22.678251\n\n[619 rows x 2 columns]",
      "text/html": "<div>\n<style scoped>\n    .dataframe tbody tr th:only-of-type {\n        vertical-align: middle;\n    }\n\n    .dataframe tbody tr th {\n        vertical-align: top;\n    }\n\n    .dataframe thead th {\n        text-align: right;\n    }\n</style>\n<table border=\"1\" class=\"dataframe\">\n  <thead>\n    <tr style=\"text-align: right;\">\n      <th></th>\n      <th>test</th>\n      <th>pred</th>\n    </tr>\n  </thead>\n  <tbody>\n    <tr>\n      <th>0</th>\n      <td>161762</td>\n      <td>20.759790</td>\n    </tr>\n    <tr>\n      <th>1</th>\n      <td>155355</td>\n      <td>19.814405</td>\n    </tr>\n    <tr>\n      <th>2</th>\n      <td>160160</td>\n      <td>20.555658</td>\n    </tr>\n    <tr>\n      <th>3</th>\n      <td>158558</td>\n      <td>20.331245</td>\n    </tr>\n    <tr>\n      <th>4</th>\n      <td>176176</td>\n      <td>21.929529</td>\n    </tr>\n    <tr>\n      <th>...</th>\n      <td>...</td>\n      <td>...</td>\n    </tr>\n    <tr>\n      <th>614</th>\n      <td>219419</td>\n      <td>22.708817</td>\n    </tr>\n    <tr>\n      <th>615</th>\n      <td>217817</td>\n      <td>22.702169</td>\n    </tr>\n    <tr>\n      <th>616</th>\n      <td>206606</td>\n      <td>22.634287</td>\n    </tr>\n    <tr>\n      <th>617</th>\n      <td>203404</td>\n      <td>22.605417</td>\n    </tr>\n    <tr>\n      <th>618</th>\n      <td>213013</td>\n      <td>22.678251</td>\n    </tr>\n  </tbody>\n</table>\n<p>619 rows × 2 columns</p>\n</div>"
     },
     "execution_count": 32,
     "metadata": {},
     "output_type": "execute_result"
    }
   ],
   "source": [
    "print(y_test.shape, y_pred_test.shape)\n",
    "y_pred_test = y_pred_test.reshape((619,))\n",
    "pd.DataFrame({'test' : y_test, 'pred': y_pred_test})"
   ],
   "metadata": {
    "ExecuteTime": {
     "end_time": "2023-06-04T15:15:49.418292Z",
     "start_time": "2023-06-04T15:15:49.412795Z"
    }
   }
  },
  {
   "cell_type": "code",
   "execution_count": null,
   "outputs": [],
   "source": [],
   "metadata": {
    "collapsed": false
   }
  }
 ],
 "metadata": {
  "kernelspec": {
   "display_name": "DM2",
   "language": "python",
   "name": "dm2"
  },
  "language_info": {
   "codemirror_mode": {
    "name": "ipython",
    "version": 3
   },
   "file_extension": ".py",
   "mimetype": "text/x-python",
   "name": "python",
   "nbconvert_exporter": "python",
   "pygments_lexer": "ipython3",
   "version": "3.10.6"
  }
 },
 "nbformat": 4,
 "nbformat_minor": 1
}
