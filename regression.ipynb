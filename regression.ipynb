{
 "cells": [
  {
   "cell_type": "code",
   "execution_count": 1,
   "metadata": {
    "ExecuteTime": {
     "end_time": "2023-07-05T13:53:04.495809Z",
     "start_time": "2023-07-05T13:53:04.209565Z"
    },
    "collapsed": true
   },
   "outputs": [],
   "source": [
    "import os\n",
    "import re\n",
    "\n",
    "import numpy as np\n",
    "import pandas as pd\n",
    "import matplotlib.pyplot as plt\n",
    "import seaborn as sns\n",
    "\n",
    "from pandas.core.dtypes.common import is_numeric_dtype\n",
    "from sklearn.feature_selection import mutual_info_regression, f_regression, SelectKBest\n",
    "from sklearn.preprocessing import MinMaxScaler"
   ]
  },
  {
   "cell_type": "code",
   "execution_count": 2,
   "metadata": {
    "ExecuteTime": {
     "end_time": "2023-07-05T13:53:04.498191Z",
     "start_time": "2023-07-05T13:53:04.496344Z"
    }
   },
   "outputs": [],
   "source": [
    "DATA_FOLDER = 'dataset'\n",
    "IMAGE_FOLDER = 'images'\n",
    "DATASET = os.path.join(DATA_FOLDER, 'outliers_removed.csv')"
   ]
  },
  {
   "cell_type": "code",
   "execution_count": 3,
   "metadata": {
    "ExecuteTime": {
     "end_time": "2023-07-05T13:53:04.589623Z",
     "start_time": "2023-07-05T13:53:04.499693Z"
    }
   },
   "outputs": [
    {
     "data": {
      "text/html": [
       "<div>\n",
       "<style scoped>\n",
       "    .dataframe tbody tr th:only-of-type {\n",
       "        vertical-align: middle;\n",
       "    }\n",
       "\n",
       "    .dataframe tbody tr th {\n",
       "        vertical-align: top;\n",
       "    }\n",
       "\n",
       "    .dataframe thead th {\n",
       "        text-align: right;\n",
       "    }\n",
       "</style>\n",
       "<table border=\"1\" class=\"dataframe\">\n",
       "  <thead>\n",
       "    <tr style=\"text-align: right;\">\n",
       "      <th></th>\n",
       "      <th>frame_count</th>\n",
       "      <th>sum</th>\n",
       "      <th>mean</th>\n",
       "      <th>std</th>\n",
       "      <th>min</th>\n",
       "      <th>max</th>\n",
       "      <th>q01</th>\n",
       "      <th>q05</th>\n",
       "      <th>q25</th>\n",
       "      <th>q75</th>\n",
       "      <th>...</th>\n",
       "      <th>actor_actor_24</th>\n",
       "      <th>actor_actor_3</th>\n",
       "      <th>actor_actor_4</th>\n",
       "      <th>actor_actor_5</th>\n",
       "      <th>actor_actor_6</th>\n",
       "      <th>actor_actor_7</th>\n",
       "      <th>actor_actor_8</th>\n",
       "      <th>actor_actor_9</th>\n",
       "      <th>sex_F</th>\n",
       "      <th>sex_M</th>\n",
       "    </tr>\n",
       "  </thead>\n",
       "  <tbody>\n",
       "    <tr>\n",
       "      <th>0</th>\n",
       "      <td>158558</td>\n",
       "      <td>0.145081</td>\n",
       "      <td>9.150000e-07</td>\n",
       "      <td>0.004001</td>\n",
       "      <td>-0.038422</td>\n",
       "      <td>0.040588</td>\n",
       "      <td>-0.012586</td>\n",
       "      <td>-0.005890</td>\n",
       "      <td>-0.000031</td>\n",
       "      <td>0.0</td>\n",
       "      <td>...</td>\n",
       "      <td>0</td>\n",
       "      <td>0</td>\n",
       "      <td>0</td>\n",
       "      <td>0</td>\n",
       "      <td>0</td>\n",
       "      <td>0</td>\n",
       "      <td>0</td>\n",
       "      <td>0</td>\n",
       "      <td>0</td>\n",
       "      <td>1</td>\n",
       "    </tr>\n",
       "    <tr>\n",
       "      <th>1</th>\n",
       "      <td>160160</td>\n",
       "      <td>0.114319</td>\n",
       "      <td>7.137790e-07</td>\n",
       "      <td>0.004283</td>\n",
       "      <td>-0.042603</td>\n",
       "      <td>0.048157</td>\n",
       "      <td>-0.013550</td>\n",
       "      <td>-0.006104</td>\n",
       "      <td>-0.000031</td>\n",
       "      <td>0.0</td>\n",
       "      <td>...</td>\n",
       "      <td>0</td>\n",
       "      <td>0</td>\n",
       "      <td>0</td>\n",
       "      <td>0</td>\n",
       "      <td>0</td>\n",
       "      <td>0</td>\n",
       "      <td>0</td>\n",
       "      <td>0</td>\n",
       "      <td>0</td>\n",
       "      <td>1</td>\n",
       "    </tr>\n",
       "    <tr>\n",
       "      <th>2</th>\n",
       "      <td>156956</td>\n",
       "      <td>0.149963</td>\n",
       "      <td>9.554485e-07</td>\n",
       "      <td>0.005084</td>\n",
       "      <td>-0.037018</td>\n",
       "      <td>0.058472</td>\n",
       "      <td>-0.015822</td>\n",
       "      <td>-0.007294</td>\n",
       "      <td>0.000000</td>\n",
       "      <td>0.0</td>\n",
       "      <td>...</td>\n",
       "      <td>0</td>\n",
       "      <td>0</td>\n",
       "      <td>0</td>\n",
       "      <td>0</td>\n",
       "      <td>0</td>\n",
       "      <td>0</td>\n",
       "      <td>0</td>\n",
       "      <td>0</td>\n",
       "      <td>0</td>\n",
       "      <td>1</td>\n",
       "    </tr>\n",
       "    <tr>\n",
       "      <th>3</th>\n",
       "      <td>152152</td>\n",
       "      <td>0.139618</td>\n",
       "      <td>9.176213e-07</td>\n",
       "      <td>0.004886</td>\n",
       "      <td>-0.036652</td>\n",
       "      <td>0.062683</td>\n",
       "      <td>-0.014923</td>\n",
       "      <td>-0.006714</td>\n",
       "      <td>-0.000031</td>\n",
       "      <td>0.0</td>\n",
       "      <td>...</td>\n",
       "      <td>0</td>\n",
       "      <td>0</td>\n",
       "      <td>0</td>\n",
       "      <td>0</td>\n",
       "      <td>0</td>\n",
       "      <td>0</td>\n",
       "      <td>0</td>\n",
       "      <td>0</td>\n",
       "      <td>0</td>\n",
       "      <td>1</td>\n",
       "    </tr>\n",
       "    <tr>\n",
       "      <th>4</th>\n",
       "      <td>169769</td>\n",
       "      <td>0.137665</td>\n",
       "      <td>8.108948e-07</td>\n",
       "      <td>0.002956</td>\n",
       "      <td>-0.026245</td>\n",
       "      <td>0.026215</td>\n",
       "      <td>-0.009399</td>\n",
       "      <td>-0.004364</td>\n",
       "      <td>-0.000031</td>\n",
       "      <td>0.0</td>\n",
       "      <td>...</td>\n",
       "      <td>0</td>\n",
       "      <td>0</td>\n",
       "      <td>0</td>\n",
       "      <td>0</td>\n",
       "      <td>0</td>\n",
       "      <td>0</td>\n",
       "      <td>0</td>\n",
       "      <td>0</td>\n",
       "      <td>0</td>\n",
       "      <td>1</td>\n",
       "    </tr>\n",
       "  </tbody>\n",
       "</table>\n",
       "<p>5 rows × 285 columns</p>\n",
       "</div>"
      ],
      "text/plain": [
       "   frame_count       sum          mean       std       min       max   \n",
       "0       158558  0.145081  9.150000e-07  0.004001 -0.038422  0.040588  \\\n",
       "1       160160  0.114319  7.137790e-07  0.004283 -0.042603  0.048157   \n",
       "2       156956  0.149963  9.554485e-07  0.005084 -0.037018  0.058472   \n",
       "3       152152  0.139618  9.176213e-07  0.004886 -0.036652  0.062683   \n",
       "4       169769  0.137665  8.108948e-07  0.002956 -0.026245  0.026215   \n",
       "\n",
       "        q01       q05       q25  q75  ...  actor_actor_24  actor_actor_3   \n",
       "0 -0.012586 -0.005890 -0.000031  0.0  ...               0              0  \\\n",
       "1 -0.013550 -0.006104 -0.000031  0.0  ...               0              0   \n",
       "2 -0.015822 -0.007294  0.000000  0.0  ...               0              0   \n",
       "3 -0.014923 -0.006714 -0.000031  0.0  ...               0              0   \n",
       "4 -0.009399 -0.004364 -0.000031  0.0  ...               0              0   \n",
       "\n",
       "   actor_actor_4  actor_actor_5  actor_actor_6  actor_actor_7  actor_actor_8   \n",
       "0              0              0              0              0              0  \\\n",
       "1              0              0              0              0              0   \n",
       "2              0              0              0              0              0   \n",
       "3              0              0              0              0              0   \n",
       "4              0              0              0              0              0   \n",
       "\n",
       "   actor_actor_9  sex_F  sex_M  \n",
       "0              0      0      1  \n",
       "1              0      0      1  \n",
       "2              0      0      1  \n",
       "3              0      0      1  \n",
       "4              0      0      1  \n",
       "\n",
       "[5 rows x 285 columns]"
      ]
     },
     "execution_count": 3,
     "metadata": {},
     "output_type": "execute_result"
    }
   ],
   "source": [
    "df = pd.read_csv(DATASET)\n",
    "\n",
    "categorical_attr_list = [col for col in df.columns if not is_numeric_dtype(df[col])]\n",
    "\n",
    "# one hot encoding\n",
    "df_reg = df.drop(columns=categorical_attr_list)\n",
    "df_reg = df_reg.join(pd.get_dummies(df[categorical_attr_list], columns=categorical_attr_list).astype(int))\n",
    "\n",
    "df_reg.head()"
   ]
  },
  {
   "cell_type": "code",
   "execution_count": 4,
   "metadata": {
    "ExecuteTime": {
     "end_time": "2023-07-05T13:53:04.594187Z",
     "start_time": "2023-07-05T13:53:04.591205Z"
    }
   },
   "outputs": [
    {
     "data": {
      "text/plain": [
       "stft_min    False\n",
       "sc_min      False\n",
       "dtype: bool"
      ]
     },
     "execution_count": 4,
     "metadata": {},
     "output_type": "execute_result"
    }
   ],
   "source": [
    "features_to_correct = ['stft_min', 'sc_min']\n",
    "(df[features_to_correct] < 0).any()"
   ]
  },
  {
   "cell_type": "markdown",
   "metadata": {},
   "source": [
    "# stft_min"
   ]
  },
  {
   "cell_type": "code",
   "execution_count": 5,
   "metadata": {
    "ExecuteTime": {
     "end_time": "2023-07-05T13:53:04.600391Z",
     "start_time": "2023-07-05T13:53:04.595004Z"
    }
   },
   "outputs": [
    {
     "data": {
      "text/plain": [
       "['mfcc_q50',\n",
       " 'sc_q01',\n",
       " 'sc_q05',\n",
       " 'stft_q01',\n",
       " 'stft_q05',\n",
       " 'mfcc_q25_w1',\n",
       " 'mfcc_q50_w1',\n",
       " 'sc_q01_w1',\n",
       " 'sc_q05_w1',\n",
       " 'sc_q25_w1',\n",
       " 'stft_q05_w1',\n",
       " 'q50_w2',\n",
       " 'q50_w3',\n",
       " 'lag1_q50_w3',\n",
       " 'q75_w4',\n",
       " 'sc_min']"
      ]
     },
     "execution_count": 5,
     "metadata": {},
     "output_type": "execute_result"
    }
   ],
   "source": [
    "TARGET = 'stft_min'\n",
    "\n",
    "# drop quantile columns with high percentage of zeros (20%)\n",
    "zero_percentage = (df_reg == 0).mean()\n",
    "to_drop = [col for col in df_reg.columns if zero_percentage[col] > 0.2 and re.search(r'q\\d{2}', col)]\n",
    "to_drop.append('sc_min')\n",
    "df_reg = df_reg.drop(columns=to_drop)\n",
    "to_drop"
   ]
  },
  {
   "cell_type": "code",
   "execution_count": 6,
   "metadata": {
    "ExecuteTime": {
     "end_time": "2023-07-05T13:53:04.966099Z",
     "start_time": "2023-07-05T13:53:04.602562Z"
    }
   },
   "outputs": [
    {
     "data": {
      "image/png": "[encoded data removed]",
      "text/plain": [
       "<Figure size 640x480 with 1 Axes>"
      ]
     },
     "metadata": {},
     "output_type": "display_data"
    }
   ],
   "source": [
    "sns.histplot(data=df, x=df[TARGET])\n",
    "plt.xlabel(f'{TARGET}')\n",
    "plt.ylabel('Count')\n",
    "plt.title(f'Distribution of {TARGET}')\n",
    "plt.savefig(os.path.join(IMAGE_FOLDER, 'initial_stft_min_distr.pdf'), format='pdf')\n",
    "plt.show()"
   ]
  },
  {
   "cell_type": "code",
   "execution_count": 7,
   "metadata": {
    "ExecuteTime": {
     "end_time": "2023-07-05T13:53:05.069570Z",
     "start_time": "2023-07-05T13:53:04.968489Z"
    }
   },
   "outputs": [
    {
     "name": "stdout",
     "output_type": "stream",
     "text": [
      "(846, 268) (212, 268) (360, 268) (1010, 268)\n"
     ]
    }
   ],
   "source": [
    "from sklearn.model_selection import train_test_split\n",
    "\n",
    "# rows to be fixed, do not reset indexes!\n",
    "df_zero = df_reg[df_reg[TARGET] == 0]\n",
    "df_nz = df_reg[df_reg[TARGET] != 0].reset_index(drop=True)\n",
    "\n",
    "# dataframe has been one hot encoded\n",
    "split_index = df_nz.index[df_nz['actor_actor_19'] == 1][0]\n",
    "\n",
    "y_train = np.log10(df_nz[TARGET][:split_index].to_numpy())\n",
    "y_test = np.log10(df_nz[TARGET][split_index+1:].to_numpy())\n",
    "\n",
    "X_nz = df_nz.drop(columns=[TARGET]).to_numpy()\n",
    "X_to_pred = df_zero.drop(columns=[TARGET]).to_numpy()\n",
    "\n",
    "scaler = MinMaxScaler()\n",
    "X_nz = scaler.fit_transform(X_nz)\n",
    "X_to_pred = scaler.fit_transform(X_to_pred)\n",
    "\n",
    "X_train = X_nz[:split_index]\n",
    "X_test = X_nz[split_index+1:]\n",
    "\n",
    "X_train, X_valid, y_train, y_valid = train_test_split(X_train, y_train, test_size=0.2, random_state=100)\n",
    "\n",
    "print(X_train.shape, X_valid.shape, X_test.shape, X_to_pred.shape)"
   ]
  },
  {
   "cell_type": "code",
   "execution_count": 8,
   "metadata": {
    "ExecuteTime": {
     "end_time": "2023-07-05T13:53:05.591651Z",
     "start_time": "2023-07-05T13:53:05.068701Z"
    }
   },
   "outputs": [
    {
     "data": {
      "image/png": "[encoded data removed]",
      "text/plain": [
       "<Figure size 1400x400 with 1 Axes>"
      ]
     },
     "metadata": {},
     "output_type": "display_data"
    }
   ],
   "source": [
    "f_selector = SelectKBest(score_func=f_regression, k='all')\n",
    "f_selector.fit(X_train, y_train)\n",
    "\n",
    "plt.figure(figsize=(14, 4))\n",
    "plt.bar([i for i in range(len(f_selector.scores_))], f_selector.scores_)\n",
    "plt.xlabel('Feature index')\n",
    "plt.ylabel('Estimated value')\n",
    "plt.savefig(os.path.join(IMAGE_FOLDER, 'kbest_features_stft_min.pdf'), format='pdf')\n",
    "plt.show()"
   ]
  },
  {
   "cell_type": "code",
   "execution_count": 9,
   "metadata": {
    "ExecuteTime": {
     "end_time": "2023-07-05T13:53:05.603503Z",
     "start_time": "2023-07-05T13:53:05.592511Z"
    }
   },
   "outputs": [
    {
     "data": {
      "text/plain": [
       "Index(['mfcc_max', 'mfcc_q25', 'mfcc_q99', 'stft_mean', 'stft_std', 'stft_q25',\n",
       "       'stft_q50', 'stft_skew', 'mfcc_sum_w2', 'mfcc_max_w2', 'mfcc_q25_w2',\n",
       "       'mfcc_q50_w2', 'mfcc_q99_w2', 'stft_sum_w2', 'stft_std_w2',\n",
       "       'stft_q05_w2', 'stft_q25_w2', 'stft_skew_w2', 'mfcc_sum_w3',\n",
       "       'mfcc_mean_w3', 'mfcc_q25_w3', 'mfcc_q50_w3', 'mfcc_q75_w3',\n",
       "       'mfcc_q99_w3', 'stft_sum_w3', 'stft_std_w3', 'stft_q01_w3',\n",
       "       'stft_q25_w3', 'sex_F', 'sex_M'],\n",
       "      dtype='object')"
      ]
     },
     "execution_count": 9,
     "metadata": {},
     "output_type": "execute_result"
    }
   ],
   "source": [
    "f_selector = SelectKBest(score_func=f_regression, k=30)\n",
    "f_selector.fit(X_train, y_train)\n",
    "\n",
    "X_train = f_selector.transform(X_train)\n",
    "X_valid = f_selector.transform(X_valid)\n",
    "X_test = f_selector.transform(X_test)\n",
    "X_to_pred = f_selector.transform(X_to_pred)\n",
    "\n",
    "# selected columns\n",
    "selected_indices = f_selector.get_support(indices=True)\n",
    "df_nz.drop(columns=[TARGET]).iloc[:, selected_indices].columns"
   ]
  },
  {
   "cell_type": "markdown",
   "metadata": {},
   "source": [
    "## XGBoost"
   ]
  },
  {
   "cell_type": "code",
   "execution_count": 10,
   "metadata": {
    "ExecuteTime": {
     "end_time": "2023-07-05T13:54:44.070071Z",
     "start_time": "2023-07-05T13:53:05.612422Z"
    }
   },
   "outputs": [
    {
     "name": "stderr",
     "output_type": "stream",
     "text": [
      "[I 2023-07-05 15:53:05,891] A new study created in memory with name: no-name-4631b5b5-e65a-4ba0-b65e-8e5448feae5e\n",
      "[I 2023-07-05 15:53:06,644] Trial 0 finished with value: 0.07162953889926287 and parameters: {'booster': 'gbtree', 'gamma': 1.3026836811191311, 'max_depth': 4, 'min_child_weight': 3, 'subsample': 0.7762712694014566}. Best is trial 0 with value: 0.07162953889926287.\n",
      "[I 2023-07-05 15:53:08,219] Trial 5 finished with value: 0.06652706670821318 and parameters: {'booster': 'gbtree', 'gamma': 0.2582201540980211, 'max_depth': 9, 'min_child_weight': 3, 'subsample': 0.8767928899475963}. Best is trial 5 with value: 0.06652706670821318.\n",
      "[I 2023-07-05 15:53:08,651] Trial 7 finished with value: 0.06870052866719727 and parameters: {'booster': 'gbtree', 'gamma': 1.1340385763289267, 'max_depth': 10, 'min_child_weight': 2, 'subsample': 0.79073995395056}. Best is trial 5 with value: 0.06652706670821318.\n",
      "[I 2023-07-05 15:53:09,224] Trial 2 finished with value: 0.06541666780776219 and parameters: {'booster': 'dart', 'gamma': 0.7852849159579522, 'max_depth': 3, 'min_child_weight': 3, 'subsample': 0.9280857626539238}. Best is trial 2 with value: 0.06541666780776219.\n",
      "[I 2023-07-05 15:53:09,331] Trial 1 finished with value: 0.07415771022101081 and parameters: {'booster': 'gbtree', 'gamma': 1.8170747736341846, 'max_depth': 12, 'min_child_weight': 2, 'subsample': 0.5878275639494618}. Best is trial 2 with value: 0.06541666780776219.\n",
      "[I 2023-07-05 15:53:09,468] Trial 4 finished with value: 0.06955910365709628 and parameters: {'booster': 'dart', 'gamma': 4.079836190044356, 'max_depth': 4, 'min_child_weight': 1, 'subsample': 0.4852270953043868}. Best is trial 2 with value: 0.06541666780776219.\n",
      "[I 2023-07-05 15:53:10,759] Trial 13 finished with value: 0.06966064219761596 and parameters: {'booster': 'gbtree', 'gamma': 1.0865518244998362, 'max_depth': 6, 'min_child_weight': 1, 'subsample': 0.7291485688896362}. Best is trial 2 with value: 0.06541666780776219.\n",
      "[I 2023-07-05 15:53:11,644] Trial 8 finished with value: 0.07579071384483223 and parameters: {'booster': 'gbtree', 'gamma': 3.4738966317932922, 'max_depth': 17, 'min_child_weight': 3, 'subsample': 0.9524771630284627}. Best is trial 2 with value: 0.06541666780776219.\n",
      "[I 2023-07-05 15:53:12,194] Trial 10 finished with value: 0.0649914720106332 and parameters: {'booster': 'gbtree', 'gamma': 1.346448171624719, 'max_depth': 20, 'min_child_weight': 3, 'subsample': 0.4788148873177115}. Best is trial 10 with value: 0.0649914720106332.\n",
      "[I 2023-07-05 15:53:12,242] Trial 6 finished with value: 0.06309530229891909 and parameters: {'booster': 'gbtree', 'gamma': 0.8717388928973502, 'max_depth': 19, 'min_child_weight': 1, 'subsample': 0.991461909853149}. Best is trial 6 with value: 0.06309530229891909.\n",
      "[I 2023-07-05 15:53:12,314] Trial 3 finished with value: 0.07577923391129994 and parameters: {'booster': 'dart', 'gamma': 0.7531681356294612, 'max_depth': 18, 'min_child_weight': 3, 'subsample': 0.5255814407578593}. Best is trial 6 with value: 0.06309530229891909.\n",
      "[I 2023-07-05 15:53:12,336] Trial 9 finished with value: 0.07347842147764255 and parameters: {'booster': 'dart', 'gamma': 2.4392289953627917, 'max_depth': 6, 'min_child_weight': 1, 'subsample': 0.7777909717468754}. Best is trial 6 with value: 0.06309530229891909.\n",
      "[I 2023-07-05 15:53:12,553] Trial 11 finished with value: 0.06941040844132045 and parameters: {'booster': 'dart', 'gamma': 2.170459265058378, 'max_depth': 3, 'min_child_weight': 2, 'subsample': 0.46754227700863016}. Best is trial 6 with value: 0.06309530229891909.\n",
      "[I 2023-07-05 15:53:13,185] Trial 12 finished with value: 0.07862797744115431 and parameters: {'booster': 'dart', 'gamma': 1.5231708780097275, 'max_depth': 5, 'min_child_weight': 1, 'subsample': 0.6287936648292184}. Best is trial 6 with value: 0.06309530229891909.\n",
      "[I 2023-07-05 15:53:15,582] Trial 16 finished with value: 0.07608752674585714 and parameters: {'booster': 'gbtree', 'gamma': 3.027103847958801, 'max_depth': 14, 'min_child_weight': 3, 'subsample': 0.4508508363251016}. Best is trial 6 with value: 0.06309530229891909.\n",
      "[I 2023-07-05 15:53:16,476] Trial 18 finished with value: 0.07043334450222549 and parameters: {'booster': 'gbtree', 'gamma': 2.06372986444926, 'max_depth': 20, 'min_child_weight': 1, 'subsample': 0.40164749379740855}. Best is trial 6 with value: 0.06309530229891909.\n",
      "[I 2023-07-05 15:53:16,492] Trial 19 finished with value: 0.07882509604601355 and parameters: {'booster': 'gbtree', 'gamma': 0.11387132393065713, 'max_depth': 20, 'min_child_weight': 2, 'subsample': 0.41803147519349776}. Best is trial 6 with value: 0.06309530229891909.\n",
      "[I 2023-07-05 15:53:17,187] Trial 21 finished with value: 0.07532878870818331 and parameters: {'booster': 'gbtree', 'gamma': 0.11981702636375324, 'max_depth': 20, 'min_child_weight': 2, 'subsample': 0.40830190220831736}. Best is trial 6 with value: 0.06309530229891909.\n",
      "[I 2023-07-05 15:53:17,874] Trial 14 finished with value: 0.07111693785530201 and parameters: {'booster': 'dart', 'gamma': 3.5277521076047904, 'max_depth': 19, 'min_child_weight': 2, 'subsample': 0.46331380068634165}. Best is trial 6 with value: 0.06309530229891909.\n",
      "[I 2023-07-05 15:53:18,071] Trial 20 finished with value: 0.06778186956960887 and parameters: {'booster': 'gbtree', 'gamma': 1.7639244842864785, 'max_depth': 20, 'min_child_weight': 1, 'subsample': 0.6331842693378127}. Best is trial 6 with value: 0.06309530229891909.\n",
      "[I 2023-07-05 15:53:20,238] Trial 15 finished with value: 0.06519273600189479 and parameters: {'booster': 'dart', 'gamma': 0.8419596573703725, 'max_depth': 17, 'min_child_weight': 2, 'subsample': 0.872204565199086}. Best is trial 6 with value: 0.06309530229891909.\n",
      "[I 2023-07-05 15:53:20,580] Trial 17 finished with value: 0.0683691470796115 and parameters: {'booster': 'dart', 'gamma': 2.5711125175084546, 'max_depth': 15, 'min_child_weight': 1, 'subsample': 0.9997553259903962}. Best is trial 6 with value: 0.06309530229891909.\n",
      "[I 2023-07-05 15:53:21,410] Trial 22 finished with value: 0.07338311106571987 and parameters: {'booster': 'gbtree', 'gamma': 0.04007650614773528, 'max_depth': 20, 'min_child_weight': 2, 'subsample': 0.6666050393761719}. Best is trial 6 with value: 0.06309530229891909.\n",
      "[I 2023-07-05 15:53:21,608] Trial 24 finished with value: 0.07563432685928684 and parameters: {'booster': 'gbtree', 'gamma': 1.6302949541202523, 'max_depth': 16, 'min_child_weight': 2, 'subsample': 0.6662779367027134}. Best is trial 6 with value: 0.06309530229891909.\n",
      "[I 2023-07-05 15:53:22,138] Trial 25 finished with value: 0.08198318559112165 and parameters: {'booster': 'gbtree', 'gamma': 4.764079141631076, 'max_depth': 16, 'min_child_weight': 2, 'subsample': 0.6283390138094029}. Best is trial 6 with value: 0.06309530229891909.\n",
      "[I 2023-07-05 15:53:23,126] Trial 27 finished with value: 0.0694686124670092 and parameters: {'booster': 'gbtree', 'gamma': 2.6412074760300728, 'max_depth': 14, 'min_child_weight': 2, 'subsample': 0.9916175577339418}. Best is trial 6 with value: 0.06309530229891909.\n",
      "[I 2023-07-05 15:53:23,373] Trial 23 finished with value: 0.06542864605372728 and parameters: {'booster': 'gbtree', 'gamma': 0.07997162463931051, 'max_depth': 20, 'min_child_weight': 2, 'subsample': 0.9875143688347343}. Best is trial 6 with value: 0.06309530229891909.\n",
      "[I 2023-07-05 15:53:23,803] Trial 26 finished with value: 0.06871724160180771 and parameters: {'booster': 'gbtree', 'gamma': 1.8529811661486872, 'max_depth': 16, 'min_child_weight': 2, 'subsample': 0.9986911064494882}. Best is trial 6 with value: 0.06309530229891909.\n",
      "[I 2023-07-05 15:53:25,780] Trial 29 finished with value: 0.06575769862434556 and parameters: {'booster': 'gbtree', 'gamma': 0.7498341621511653, 'max_depth': 16, 'min_child_weight': 2, 'subsample': 0.863842549253775}. Best is trial 6 with value: 0.06309530229891909.\n",
      "[I 2023-07-05 15:53:28,804] Trial 28 finished with value: 0.06276375317925864 and parameters: {'booster': 'dart', 'gamma': 0.732546054442728, 'max_depth': 16, 'min_child_weight': 2, 'subsample': 0.9732293868556597}. Best is trial 28 with value: 0.06276375317925864.\n",
      "[I 2023-07-05 15:53:29,266] Trial 31 finished with value: 0.06700120906793187 and parameters: {'booster': 'dart', 'gamma': 0.6100793544248109, 'max_depth': 17, 'min_child_weight': 3, 'subsample': 0.8434324142122503}. Best is trial 28 with value: 0.06276375317925864.\n",
      "[I 2023-07-05 15:53:29,587] Trial 30 finished with value: 0.06390736008091148 and parameters: {'booster': 'dart', 'gamma': 0.5396327558455298, 'max_depth': 16, 'min_child_weight': 2, 'subsample': 0.8607204391625853}. Best is trial 28 with value: 0.06276375317925864.\n",
      "[I 2023-07-05 15:53:30,134] Trial 32 finished with value: 0.06953260604601809 and parameters: {'booster': 'dart', 'gamma': 0.6564169527130737, 'max_depth': 18, 'min_child_weight': 3, 'subsample': 0.8578646415413347}. Best is trial 28 with value: 0.06276375317925864.\n",
      "[I 2023-07-05 15:53:31,175] Trial 33 finished with value: 0.06255488851161219 and parameters: {'booster': 'dart', 'gamma': 0.6641289690748817, 'max_depth': 18, 'min_child_weight': 3, 'subsample': 0.8726205984709163}. Best is trial 33 with value: 0.06255488851161219.\n",
      "[I 2023-07-05 15:53:31,486] Trial 34 finished with value: 0.0639065757206862 and parameters: {'booster': 'dart', 'gamma': 0.6021668836576626, 'max_depth': 18, 'min_child_weight': 3, 'subsample': 0.9006946384945099}. Best is trial 33 with value: 0.06255488851161219.\n",
      "[I 2023-07-05 15:53:31,808] Trial 35 finished with value: 0.0659963121740858 and parameters: {'booster': 'dart', 'gamma': 0.7588610830237474, 'max_depth': 18, 'min_child_weight': 3, 'subsample': 0.90199278686486}. Best is trial 33 with value: 0.06255488851161219.\n",
      "[I 2023-07-05 15:53:33,572] Trial 36 finished with value: 0.06891641497188976 and parameters: {'booster': 'dart', 'gamma': 1.385412307121296, 'max_depth': 18, 'min_child_weight': 3, 'subsample': 0.8299036579123465}. Best is trial 33 with value: 0.06255488851161219.\n",
      "[I 2023-07-05 15:53:36,483] Trial 40 finished with value: 0.06365260422962123 and parameters: {'booster': 'dart', 'gamma': 1.3478808880628883, 'max_depth': 12, 'min_child_weight': 3, 'subsample': 0.9375811509062356}. Best is trial 33 with value: 0.06255488851161219.\n",
      "[I 2023-07-05 15:53:36,750] Trial 37 finished with value: 0.06411332350740995 and parameters: {'booster': 'dart', 'gamma': 1.326564736293967, 'max_depth': 18, 'min_child_weight': 3, 'subsample': 0.9232532541412064}. Best is trial 33 with value: 0.06255488851161219.\n",
      "[I 2023-07-05 15:53:37,242] Trial 38 finished with value: 0.06753847194677953 and parameters: {'booster': 'dart', 'gamma': 1.3227340345209704, 'max_depth': 18, 'min_child_weight': 3, 'subsample': 0.9194355587391853}. Best is trial 33 with value: 0.06255488851161219.\n",
      "[I 2023-07-05 15:53:37,541] Trial 39 finished with value: 0.06473821644310376 and parameters: {'booster': 'dart', 'gamma': 1.4212963882949978, 'max_depth': 18, 'min_child_weight': 3, 'subsample': 0.9202545161966504}. Best is trial 33 with value: 0.06255488851161219.\n",
      "[I 2023-07-05 15:53:37,638] Trial 41 finished with value: 0.06535680509616032 and parameters: {'booster': 'dart', 'gamma': 0.4303503736178578, 'max_depth': 12, 'min_child_weight': 1, 'subsample': 0.9232969430498315}. Best is trial 33 with value: 0.06255488851161219.\n",
      "[I 2023-07-05 15:53:37,949] Trial 42 finished with value: 0.06304787158940088 and parameters: {'booster': 'dart', 'gamma': 1.0923422369245888, 'max_depth': 12, 'min_child_weight': 3, 'subsample': 0.9182453230762514}. Best is trial 33 with value: 0.06255488851161219.\n",
      "[I 2023-07-05 15:53:38,228] Trial 43 finished with value: 0.06302461816030618 and parameters: {'booster': 'dart', 'gamma': 0.3806815067608476, 'max_depth': 14, 'min_child_weight': 3, 'subsample': 0.940739382555512}. Best is trial 33 with value: 0.06255488851161219.\n",
      "[I 2023-07-05 15:53:40,067] Trial 44 finished with value: 0.06705349399775251 and parameters: {'booster': 'dart', 'gamma': 0.40746816740251457, 'max_depth': 13, 'min_child_weight': 3, 'subsample': 0.9213970485877041}. Best is trial 33 with value: 0.06255488851161219.\n",
      "[I 2023-07-05 15:53:43,091] Trial 45 finished with value: 0.06692216000116467 and parameters: {'booster': 'dart', 'gamma': 1.064921045387596, 'max_depth': 12, 'min_child_weight': 3, 'subsample': 0.9501435647647307}. Best is trial 33 with value: 0.06255488851161219.\n",
      "[I 2023-07-05 15:53:43,169] Trial 48 finished with value: 0.0670353412622623 and parameters: {'booster': 'dart', 'gamma': 0.35069507706089736, 'max_depth': 12, 'min_child_weight': 3, 'subsample': 0.9640824478238674}. Best is trial 33 with value: 0.06255488851161219.\n",
      "[I 2023-07-05 15:53:43,212] Trial 46 finished with value: 0.06436848059968961 and parameters: {'booster': 'dart', 'gamma': 1.0290291529737743, 'max_depth': 12, 'min_child_weight': 3, 'subsample': 0.9593525700745864}. Best is trial 33 with value: 0.06255488851161219.\n",
      "[I 2023-07-05 15:53:43,315] Trial 47 finished with value: 0.06330212406690339 and parameters: {'booster': 'dart', 'gamma': 1.1313601572045848, 'max_depth': 12, 'min_child_weight': 3, 'subsample': 0.9487372177645884}. Best is trial 33 with value: 0.06255488851161219.\n",
      "[I 2023-07-05 15:53:43,665] Trial 50 finished with value: 0.06444033496898928 and parameters: {'booster': 'dart', 'gamma': 1.0067657648510449, 'max_depth': 11, 'min_child_weight': 3, 'subsample': 0.9521804539313509}. Best is trial 33 with value: 0.06255488851161219.\n",
      "[I 2023-07-05 15:53:43,790] Trial 49 finished with value: 0.06517173541004573 and parameters: {'booster': 'dart', 'gamma': 0.9902567397354312, 'max_depth': 11, 'min_child_weight': 3, 'subsample': 0.9566587877183548}. Best is trial 33 with value: 0.06255488851161219.\n",
      "[I 2023-07-05 15:53:44,000] Trial 51 finished with value: 0.06084767464043054 and parameters: {'booster': 'dart', 'gamma': 1.016911175448645, 'max_depth': 10, 'min_child_weight': 3, 'subsample': 0.9717626862514969}. Best is trial 51 with value: 0.06084767464043054.\n",
      "[I 2023-07-05 15:53:46,378] Trial 52 finished with value: 0.06518320106447743 and parameters: {'booster': 'dart', 'gamma': 0.9926580115926469, 'max_depth': 11, 'min_child_weight': 3, 'subsample': 0.9557859412211959}. Best is trial 51 with value: 0.06084767464043054.\n",
      "[I 2023-07-05 15:53:49,172] Trial 57 finished with value: 0.06262549916504097 and parameters: {'booster': 'dart', 'gamma': 0.2784612006135365, 'max_depth': 8, 'min_child_weight': 1, 'subsample': 0.8975241963083841}. Best is trial 51 with value: 0.06084767464043054.\n",
      "[I 2023-07-05 15:53:49,221] Trial 59 finished with value: 0.06662445257374716 and parameters: {'booster': 'dart', 'gamma': 0.29965350806919056, 'max_depth': 8, 'min_child_weight': 1, 'subsample': 0.9760302816754064}. Best is trial 51 with value: 0.06084767464043054.\n",
      "[I 2023-07-05 15:53:49,503] Trial 56 finished with value: 0.06631771674146185 and parameters: {'booster': 'dart', 'gamma': 0.32300449112491153, 'max_depth': 10, 'min_child_weight': 1, 'subsample': 0.8918728425554091}. Best is trial 51 with value: 0.06084767464043054.\n",
      "[I 2023-07-05 15:53:49,522] Trial 55 finished with value: 0.06435201943508059 and parameters: {'booster': 'dart', 'gamma': 0.9219072865636433, 'max_depth': 10, 'min_child_weight': 1, 'subsample': 0.9692817619631893}. Best is trial 51 with value: 0.06084767464043054.\n",
      "[I 2023-07-05 15:53:49,534] Trial 53 finished with value: 0.06478066158056019 and parameters: {'booster': 'dart', 'gamma': 0.9699138444633688, 'max_depth': 11, 'min_child_weight': 3, 'subsample': 0.9650007882066315}. Best is trial 51 with value: 0.06084767464043054.\n",
      "[I 2023-07-05 15:53:49,610] Trial 54 finished with value: 0.06099099863193499 and parameters: {'booster': 'dart', 'gamma': 0.9877822370680827, 'max_depth': 10, 'min_child_weight': 3, 'subsample': 0.9674745746056372}. Best is trial 51 with value: 0.06084767464043054.\n",
      "[I 2023-07-05 15:53:49,678] Trial 58 finished with value: 0.06391137362518025 and parameters: {'booster': 'dart', 'gamma': 0.858527317456182, 'max_depth': 9, 'min_child_weight': 3, 'subsample': 0.9751804868598271}. Best is trial 51 with value: 0.06084767464043054.\n",
      "[I 2023-07-05 15:53:52,684] Trial 60 finished with value: 0.063297795672398 and parameters: {'booster': 'dart', 'gamma': 0.2830832250509121, 'max_depth': 9, 'min_child_weight': 1, 'subsample': 0.8911520223266007}. Best is trial 51 with value: 0.06084767464043054.\n",
      "[I 2023-07-05 15:53:54,682] Trial 61 finished with value: 0.064222106500883 and parameters: {'booster': 'dart', 'gamma': 0.2805302463411934, 'max_depth': 8, 'min_child_weight': 1, 'subsample': 0.8860564750246942}. Best is trial 51 with value: 0.06084767464043054.\n",
      "[I 2023-07-05 15:53:54,781] Trial 65 finished with value: 0.05999046633872271 and parameters: {'booster': 'dart', 'gamma': 0.5348962862904603, 'max_depth': 8, 'min_child_weight': 3, 'subsample': 0.8869699065897508}. Best is trial 65 with value: 0.05999046633872271.\n",
      "[I 2023-07-05 15:53:54,805] Trial 67 finished with value: 0.06255380990707335 and parameters: {'booster': 'dart', 'gamma': 0.46998650084415367, 'max_depth': 7, 'min_child_weight': 3, 'subsample': 0.8805299004455007}. Best is trial 65 with value: 0.05999046633872271.\n",
      "[I 2023-07-05 15:53:54,817] Trial 64 finished with value: 0.06269740736118234 and parameters: {'booster': 'dart', 'gamma': 0.4916942704186523, 'max_depth': 8, 'min_child_weight': 3, 'subsample': 0.8903678934681293}. Best is trial 65 with value: 0.05999046633872271.\n",
      "[I 2023-07-05 15:53:54,942] Trial 66 finished with value: 0.06128945352722358 and parameters: {'booster': 'dart', 'gamma': 0.22594220271689464, 'max_depth': 8, 'min_child_weight': 3, 'subsample': 0.888464848186933}. Best is trial 65 with value: 0.05999046633872271.\n",
      "[I 2023-07-05 15:53:54,991] Trial 62 finished with value: 0.06308048095919674 and parameters: {'booster': 'dart', 'gamma': 0.8462986382404218, 'max_depth': 9, 'min_child_weight': 3, 'subsample': 0.8927209821229756}. Best is trial 65 with value: 0.05999046633872271.\n",
      "[I 2023-07-05 15:53:55,115] Trial 63 finished with value: 0.06361664591654324 and parameters: {'booster': 'dart', 'gamma': 0.5001362798177806, 'max_depth': 8, 'min_child_weight': 3, 'subsample': 0.8876511615046625}. Best is trial 65 with value: 0.05999046633872271.\n",
      "[I 2023-07-05 15:53:57,436] Trial 68 finished with value: 0.06292898156719001 and parameters: {'booster': 'dart', 'gamma': 0.5202497207743609, 'max_depth': 7, 'min_child_weight': 3, 'subsample': 0.934032972194957}. Best is trial 65 with value: 0.05999046633872271.\n",
      "[I 2023-07-05 15:53:59,369] Trial 69 finished with value: 0.06318146786743979 and parameters: {'booster': 'dart', 'gamma': 0.5037767016179711, 'max_depth': 7, 'min_child_weight': 3, 'subsample': 0.9361189872507529}. Best is trial 65 with value: 0.05999046633872271.\n",
      "[I 2023-07-05 15:53:59,386] Trial 73 finished with value: 0.07060740061964911 and parameters: {'booster': 'dart', 'gamma': 0.0015165130121178594, 'max_depth': 6, 'min_child_weight': 3, 'subsample': 0.8181508331839777}. Best is trial 65 with value: 0.05999046633872271.\n",
      "[I 2023-07-05 15:53:59,521] Trial 74 finished with value: 0.06958724787168802 and parameters: {'booster': 'dart', 'gamma': 0.13978306153232148, 'max_depth': 6, 'min_child_weight': 3, 'subsample': 0.8282351028074925}. Best is trial 65 with value: 0.05999046633872271.\n",
      "[I 2023-07-05 15:53:59,590] Trial 70 finished with value: 0.07145010643747211 and parameters: {'booster': 'dart', 'gamma': 0.54083609882755, 'max_depth': 7, 'min_child_weight': 3, 'subsample': 0.8168069154354521}. Best is trial 65 with value: 0.05999046633872271.\n",
      "[I 2023-07-05 15:53:59,645] Trial 72 finished with value: 0.06775129915346163 and parameters: {'booster': 'dart', 'gamma': 0.15302731059723945, 'max_depth': 7, 'min_child_weight': 3, 'subsample': 0.8191955943713736}. Best is trial 65 with value: 0.05999046633872271.\n",
      "[I 2023-07-05 15:53:59,688] Trial 71 finished with value: 0.06890285985396499 and parameters: {'booster': 'dart', 'gamma': 0.5384445194609783, 'max_depth': 7, 'min_child_weight': 3, 'subsample': 0.8163310606902198}. Best is trial 65 with value: 0.05999046633872271.\n",
      "[I 2023-07-05 15:53:59,884] Trial 75 finished with value: 0.07017905583228119 and parameters: {'booster': 'dart', 'gamma': 0.15684541544441705, 'max_depth': 7, 'min_child_weight': 3, 'subsample': 0.8217926816043237}. Best is trial 65 with value: 0.05999046633872271.\n",
      "[I 2023-07-05 15:54:01,613] Trial 76 finished with value: 0.06953181073555106 and parameters: {'booster': 'dart', 'gamma': 0.057519174563724906, 'max_depth': 5, 'min_child_weight': 3, 'subsample': 0.8320153090274635}. Best is trial 65 with value: 0.05999046633872271.\n",
      "[I 2023-07-05 15:54:03,156] Trial 78 finished with value: 0.06785923427803639 and parameters: {'booster': 'dart', 'gamma': 0.18111929732222998, 'max_depth': 4, 'min_child_weight': 3, 'subsample': 0.8595109390720864}. Best is trial 65 with value: 0.05999046633872271.\n",
      "[I 2023-07-05 15:54:03,435] Trial 77 finished with value: 0.06600646303146719 and parameters: {'booster': 'dart', 'gamma': 0.029118477300794976, 'max_depth': 5, 'min_child_weight': 3, 'subsample': 0.8303392731454298}. Best is trial 65 with value: 0.05999046633872271.\n",
      "[I 2023-07-05 15:54:03,635] Trial 80 finished with value: 0.06902641218877534 and parameters: {'booster': 'dart', 'gamma': 0.1903368813010985, 'max_depth': 5, 'min_child_weight': 3, 'subsample': 0.8751992404698354}. Best is trial 65 with value: 0.05999046633872271.\n",
      "[I 2023-07-05 15:54:03,652] Trial 82 finished with value: 0.0631178153469116 and parameters: {'booster': 'dart', 'gamma': 0.680430765520687, 'max_depth': 5, 'min_child_weight': 3, 'subsample': 0.875228044778337}. Best is trial 65 with value: 0.05999046633872271.\n",
      "[I 2023-07-05 15:54:03,659] Trial 81 finished with value: 0.06769721048423097 and parameters: {'booster': 'dart', 'gamma': 0.6784146482933573, 'max_depth': 5, 'min_child_weight': 3, 'subsample': 0.868542681631785}. Best is trial 65 with value: 0.05999046633872271.\n",
      "[I 2023-07-05 15:54:03,918] Trial 83 finished with value: 0.06689090755910355 and parameters: {'booster': 'dart', 'gamma': 0.6698634288779062, 'max_depth': 5, 'min_child_weight': 3, 'subsample': 0.8754202264043447}. Best is trial 65 with value: 0.05999046633872271.\n",
      "[I 2023-07-05 15:54:04,338] Trial 79 finished with value: 0.06667688593499888 and parameters: {'booster': 'dart', 'gamma': 0.6312601367717692, 'max_depth': 7, 'min_child_weight': 3, 'subsample': 0.8692437280418539}. Best is trial 65 with value: 0.05999046633872271.\n",
      "[I 2023-07-05 15:54:06,428] Trial 84 finished with value: 0.06337050969618875 and parameters: {'booster': 'dart', 'gamma': 0.7154816699529423, 'max_depth': 8, 'min_child_weight': 3, 'subsample': 0.8703545770104617}. Best is trial 65 with value: 0.05999046633872271.\n",
      "[I 2023-07-05 15:54:08,211] Trial 85 finished with value: 0.06501694180714873 and parameters: {'booster': 'dart', 'gamma': 0.6972208709942104, 'max_depth': 8, 'min_child_weight': 3, 'subsample': 0.8741928978841625}. Best is trial 65 with value: 0.05999046633872271.\n",
      "[I 2023-07-05 15:54:08,232] Trial 86 finished with value: 0.06654348547044887 and parameters: {'booster': 'dart', 'gamma': 0.7112613277205135, 'max_depth': 8, 'min_child_weight': 3, 'subsample': 0.8532516640199886}. Best is trial 65 with value: 0.05999046633872271.\n",
      "[I 2023-07-05 15:54:08,505] Trial 87 finished with value: 0.06507390583531024 and parameters: {'booster': 'dart', 'gamma': 0.7060869812671762, 'max_depth': 8, 'min_child_weight': 3, 'subsample': 0.907581129697394}. Best is trial 65 with value: 0.05999046633872271.\n",
      "[I 2023-07-05 15:54:08,655] Trial 88 finished with value: 0.062189205360443804 and parameters: {'booster': 'dart', 'gamma': 0.7274008654438456, 'max_depth': 8, 'min_child_weight': 2, 'subsample': 0.9084705772044338}. Best is trial 65 with value: 0.05999046633872271.\n",
      "[I 2023-07-05 15:54:08,717] Trial 89 finished with value: 0.06480786708695954 and parameters: {'booster': 'dart', 'gamma': 0.7866246679284883, 'max_depth': 8, 'min_child_weight': 2, 'subsample': 0.9072723126996327}. Best is trial 65 with value: 0.05999046633872271.\n",
      "[I 2023-07-05 15:54:08,802] Trial 90 finished with value: 0.060738025579287876 and parameters: {'booster': 'dart', 'gamma': 0.8038711300854046, 'max_depth': 8, 'min_child_weight': 2, 'subsample': 0.9097332313645257}. Best is trial 65 with value: 0.05999046633872271.\n",
      "[I 2023-07-05 15:54:09,614] Trial 91 finished with value: 0.06307112630496457 and parameters: {'booster': 'dart', 'gamma': 0.7877136773817693, 'max_depth': 8, 'min_child_weight': 2, 'subsample': 0.9123797769510763}. Best is trial 65 with value: 0.05999046633872271.\n",
      "[I 2023-07-05 15:54:13,133] Trial 92 finished with value: 0.06273029010158017 and parameters: {'booster': 'dart', 'gamma': 0.8220217490566519, 'max_depth': 10, 'min_child_weight': 2, 'subsample': 0.9133397208523951}. Best is trial 65 with value: 0.05999046633872271.\n",
      "[I 2023-07-05 15:54:13,952] Trial 93 finished with value: 0.06630985174381727 and parameters: {'booster': 'dart', 'gamma': 0.828396609407815, 'max_depth': 9, 'min_child_weight': 2, 'subsample': 0.9048099334865992}. Best is trial 65 with value: 0.05999046633872271.\n",
      "[I 2023-07-05 15:54:14,283] Trial 94 finished with value: 0.06464931672794981 and parameters: {'booster': 'dart', 'gamma': 0.8310801462834683, 'max_depth': 9, 'min_child_weight': 2, 'subsample': 0.9069929880432094}. Best is trial 65 with value: 0.05999046633872271.\n",
      "[I 2023-07-05 15:54:14,332] Trial 97 finished with value: 0.06356922068315743 and parameters: {'booster': 'dart', 'gamma': 1.2315489802494035, 'max_depth': 9, 'min_child_weight': 2, 'subsample': 0.9106526411988475}. Best is trial 65 with value: 0.05999046633872271.\n",
      "[I 2023-07-05 15:54:14,377] Trial 95 finished with value: 0.0675019836512978 and parameters: {'booster': 'dart', 'gamma': 1.1879442227911632, 'max_depth': 10, 'min_child_weight': 2, 'subsample': 0.9834768031101832}. Best is trial 65 with value: 0.05999046633872271.\n",
      "[I 2023-07-05 15:54:14,484] Trial 98 finished with value: 0.06538238563151226 and parameters: {'booster': 'dart', 'gamma': 1.2215728758924396, 'max_depth': 9, 'min_child_weight': 2, 'subsample': 0.9075724312179725}. Best is trial 65 with value: 0.05999046633872271.\n",
      "[I 2023-07-05 15:54:14,913] Trial 99 finished with value: 0.061266931525260665 and parameters: {'booster': 'dart', 'gamma': 1.1507424715729453, 'max_depth': 9, 'min_child_weight': 2, 'subsample': 0.9047861490600587}. Best is trial 65 with value: 0.05999046633872271.\n",
      "[I 2023-07-05 15:54:15,100] Trial 96 finished with value: 0.06394262974532763 and parameters: {'booster': 'dart', 'gamma': 1.2187537070237182, 'max_depth': 10, 'min_child_weight': 2, 'subsample': 0.9056482360757915}. Best is trial 65 with value: 0.05999046633872271.\n",
      "[I 2023-07-05 15:54:15,631] Trial 104 finished with value: 0.06857616465316808 and parameters: {'booster': 'gbtree', 'gamma': 0.43405027755608516, 'max_depth': 6, 'min_child_weight': 2, 'subsample': 0.9308246071614836}. Best is trial 65 with value: 0.05999046633872271.\n",
      "[I 2023-07-05 15:54:15,802] Trial 105 finished with value: 0.06345289893764919 and parameters: {'booster': 'gbtree', 'gamma': 0.2908870084257567, 'max_depth': 6, 'min_child_weight': 3, 'subsample': 0.9301357808736419}. Best is trial 65 with value: 0.05999046633872271.\n",
      "[I 2023-07-05 15:54:17,038] Trial 103 finished with value: 0.06740422041463982 and parameters: {'booster': 'gbtree', 'gamma': 0.4093069813634376, 'max_depth': 10, 'min_child_weight': 2, 'subsample': 0.9413241971025444}. Best is trial 65 with value: 0.05999046633872271.\n",
      "[I 2023-07-05 15:54:17,510] Trial 106 finished with value: 0.06838850268051956 and parameters: {'booster': 'gbtree', 'gamma': 0.410922371779976, 'max_depth': 10, 'min_child_weight': 2, 'subsample': 0.935419395103321}. Best is trial 65 with value: 0.05999046633872271.\n",
      "[I 2023-07-05 15:54:18,038] Trial 107 finished with value: 0.0702214751859483 and parameters: {'booster': 'gbtree', 'gamma': 0.3976136683857748, 'max_depth': 10, 'min_child_weight': 2, 'subsample': 0.9311672964076473}. Best is trial 65 with value: 0.05999046633872271.\n",
      "[I 2023-07-05 15:54:18,355] Trial 100 finished with value: 0.06332930288065829 and parameters: {'booster': 'dart', 'gamma': 0.3338317416460054, 'max_depth': 9, 'min_child_weight': 2, 'subsample': 0.9376410848128252}. Best is trial 65 with value: 0.05999046633872271.\n",
      "[I 2023-07-05 15:54:19,087] Trial 101 finished with value: 0.06326201037145757 and parameters: {'booster': 'dart', 'gamma': 0.38565393786422886, 'max_depth': 9, 'min_child_weight': 2, 'subsample': 0.9293382441098944}. Best is trial 65 with value: 0.05999046633872271.\n",
      "[I 2023-07-05 15:54:19,858] Trial 102 finished with value: 0.0656717445781088 and parameters: {'booster': 'dart', 'gamma': 1.2061307657057239, 'max_depth': 10, 'min_child_weight': 2, 'subsample': 0.9323616060126658}. Best is trial 65 with value: 0.05999046633872271.\n",
      "[I 2023-07-05 15:54:20,786] Trial 108 finished with value: 0.07129372631950597 and parameters: {'booster': 'dart', 'gamma': 0.3231972175513915, 'max_depth': 9, 'min_child_weight': 2, 'subsample': 0.9465300788043872}. Best is trial 65 with value: 0.05999046633872271.\n",
      "[I 2023-07-05 15:54:20,921] Trial 109 finished with value: 0.06952326104634132 and parameters: {'booster': 'dart', 'gamma': 0.40438662524398866, 'max_depth': 9, 'min_child_weight': 2, 'subsample': 0.8472654806451225}. Best is trial 65 with value: 0.05999046633872271.\n",
      "[I 2023-07-05 15:54:22,174] Trial 110 finished with value: 0.06841779283744093 and parameters: {'booster': 'dart', 'gamma': 0.8895695304565332, 'max_depth': 9, 'min_child_weight': 2, 'subsample': 0.8497100017409315}. Best is trial 65 with value: 0.05999046633872271.\n",
      "[I 2023-07-05 15:54:22,594] Trial 113 finished with value: 0.06671265012535953 and parameters: {'booster': 'dart', 'gamma': 0.9296084550098969, 'max_depth': 7, 'min_child_weight': 3, 'subsample': 0.8518433559839638}. Best is trial 65 with value: 0.05999046633872271.\n",
      "[I 2023-07-05 15:54:22,824] Trial 111 finished with value: 0.06450756330868894 and parameters: {'booster': 'dart', 'gamma': 0.9318937246211638, 'max_depth': 9, 'min_child_weight': 2, 'subsample': 0.8477996528308701}. Best is trial 65 with value: 0.05999046633872271.\n",
      "[I 2023-07-05 15:54:23,197] Trial 112 finished with value: 0.059977698110715884 and parameters: {'booster': 'dart', 'gamma': 0.579056934150002, 'max_depth': 9, 'min_child_weight': 3, 'subsample': 0.8917736575423623}. Best is trial 112 with value: 0.059977698110715884.\n",
      "[I 2023-07-05 15:54:23,506] Trial 114 finished with value: 0.06441081208859988 and parameters: {'booster': 'dart', 'gamma': 0.5593835163407413, 'max_depth': 7, 'min_child_weight': 3, 'subsample': 0.8511556622756203}. Best is trial 112 with value: 0.059977698110715884.\n",
      "[I 2023-07-05 15:54:24,774] Trial 115 finished with value: 0.06364188998609438 and parameters: {'booster': 'dart', 'gamma': 0.893844332688117, 'max_depth': 7, 'min_child_weight': 3, 'subsample': 0.8849890570914842}. Best is trial 112 with value: 0.059977698110715884.\n",
      "[I 2023-07-05 15:54:25,799] Trial 116 finished with value: 0.06360578683988691 and parameters: {'booster': 'dart', 'gamma': 0.9325293512528053, 'max_depth': 7, 'min_child_weight': 3, 'subsample': 0.8874382373029748}. Best is trial 112 with value: 0.059977698110715884.\n",
      "[I 2023-07-05 15:54:25,998] Trial 117 finished with value: 0.0667259128422938 and parameters: {'booster': 'dart', 'gamma': 0.9458210194052113, 'max_depth': 7, 'min_child_weight': 3, 'subsample': 0.8832527169257663}. Best is trial 112 with value: 0.059977698110715884.\n",
      "[I 2023-07-05 15:54:27,485] Trial 118 finished with value: 0.061924461433708125 and parameters: {'booster': 'dart', 'gamma': 0.9296939623509108, 'max_depth': 8, 'min_child_weight': 3, 'subsample': 0.920244450679158}. Best is trial 112 with value: 0.059977698110715884.\n",
      "[I 2023-07-05 15:54:28,197] Trial 119 finished with value: 0.05770591141154612 and parameters: {'booster': 'dart', 'gamma': 0.5638828181249513, 'max_depth': 8, 'min_child_weight': 3, 'subsample': 0.8894675679865797}. Best is trial 119 with value: 0.05770591141154612.\n",
      "[I 2023-07-05 15:54:28,584] Trial 121 finished with value: 0.06115234417900251 and parameters: {'booster': 'dart', 'gamma': 0.5659529172927921, 'max_depth': 8, 'min_child_weight': 3, 'subsample': 0.890783602848491}. Best is trial 119 with value: 0.05770591141154612.\n",
      "[I 2023-07-05 15:54:28,927] Trial 122 finished with value: 0.06188851594866888 and parameters: {'booster': 'dart', 'gamma': 1.1013160150276295, 'max_depth': 8, 'min_child_weight': 3, 'subsample': 0.8866684769537135}. Best is trial 119 with value: 0.05770591141154612.\n",
      "[I 2023-07-05 15:54:29,053] Trial 120 finished with value: 0.06623765282716611 and parameters: {'booster': 'dart', 'gamma': 0.5907082191339316, 'max_depth': 11, 'min_child_weight': 3, 'subsample': 0.9183402251137386}. Best is trial 119 with value: 0.05770591141154612.\n",
      "[I 2023-07-05 15:54:29,488] Trial 123 finished with value: 0.06267020012903017 and parameters: {'booster': 'dart', 'gamma': 0.5793723332145848, 'max_depth': 8, 'min_child_weight': 3, 'subsample': 0.8975122040321296}. Best is trial 119 with value: 0.05770591141154612.\n",
      "[I 2023-07-05 15:54:30,592] Trial 124 finished with value: 0.0609232917225561 and parameters: {'booster': 'dart', 'gamma': 0.2271881851897457, 'max_depth': 8, 'min_child_weight': 3, 'subsample': 0.8976586003315872}. Best is trial 119 with value: 0.05770591141154612.\n",
      "[I 2023-07-05 15:54:30,675] Trial 125 finished with value: 0.05977978834653791 and parameters: {'booster': 'dart', 'gamma': 0.552141658304783, 'max_depth': 8, 'min_child_weight': 3, 'subsample': 0.8940887100806072}. Best is trial 119 with value: 0.05770591141154612.\n",
      "[I 2023-07-05 15:54:33,243] Trial 128 finished with value: 0.06561706112340289 and parameters: {'booster': 'dart', 'gamma': 1.086736141834073, 'max_depth': 8, 'min_child_weight': 3, 'subsample': 0.8968132775087321}. Best is trial 119 with value: 0.05770591141154612.\n",
      "[I 2023-07-05 15:54:33,552] Trial 126 finished with value: 0.06669948797850107 and parameters: {'booster': 'dart', 'gamma': 1.1123295781710065, 'max_depth': 11, 'min_child_weight': 3, 'subsample': 0.961312171486601}. Best is trial 119 with value: 0.05770591141154612.\n",
      "[I 2023-07-05 15:54:33,609] Trial 130 finished with value: 0.06621269102106445 and parameters: {'booster': 'dart', 'gamma': 1.0699252492952152, 'max_depth': 8, 'min_child_weight': 3, 'subsample': 0.8993204386756953}. Best is trial 119 with value: 0.05770591141154612.\n",
      "[I 2023-07-05 15:54:33,766] Trial 129 finished with value: 0.0613563560576535 and parameters: {'booster': 'dart', 'gamma': 1.069346358538191, 'max_depth': 8, 'min_child_weight': 3, 'subsample': 0.8957878189225418}. Best is trial 119 with value: 0.05770591141154612.\n",
      "[I 2023-07-05 15:54:34,412] Trial 127 finished with value: 0.06573188652103036 and parameters: {'booster': 'dart', 'gamma': 1.0948690742302292, 'max_depth': 11, 'min_child_weight': 3, 'subsample': 0.9938636754633404}. Best is trial 119 with value: 0.05770591141154612.\n",
      "[I 2023-07-05 15:54:34,454] Trial 131 finished with value: 0.06494936412536939 and parameters: {'booster': 'dart', 'gamma': 1.07419224165566, 'max_depth': 8, 'min_child_weight': 3, 'subsample': 0.9603746979924423}. Best is trial 119 with value: 0.05770591141154612.\n",
      "[I 2023-07-05 15:54:35,370] Trial 132 finished with value: 0.06342481808444779 and parameters: {'booster': 'dart', 'gamma': 0.9942419289774361, 'max_depth': 8, 'min_child_weight': 3, 'subsample': 0.993991724249496}. Best is trial 119 with value: 0.05770591141154612.\n",
      "[I 2023-07-05 15:54:35,523] Trial 133 finished with value: 0.06984144350676767 and parameters: {'booster': 'dart', 'gamma': 1.1213188937228131, 'max_depth': 9, 'min_child_weight': 3, 'subsample': 0.9866754840328364}. Best is trial 119 with value: 0.05770591141154612.\n",
      "[I 2023-07-05 15:54:38,199] Trial 136 finished with value: 0.0634696557854645 and parameters: {'booster': 'dart', 'gamma': 1.478203088493892, 'max_depth': 8, 'min_child_weight': 3, 'subsample': 0.9991272388473489}. Best is trial 119 with value: 0.05770591141154612.\n",
      "[I 2023-07-05 15:54:38,523] Trial 134 finished with value: 0.06381320291853496 and parameters: {'booster': 'dart', 'gamma': 1.4890042469765228, 'max_depth': 8, 'min_child_weight': 3, 'subsample': 0.9998705462028367}. Best is trial 119 with value: 0.05770591141154612.\n",
      "[I 2023-07-05 15:54:38,589] Trial 135 finished with value: 0.06415598329299363 and parameters: {'booster': 'dart', 'gamma': 1.0625715889301417, 'max_depth': 8, 'min_child_weight': 3, 'subsample': 0.999764417391205}. Best is trial 119 with value: 0.05770591141154612.\n",
      "[I 2023-07-05 15:54:39,029] Trial 137 finished with value: 0.06753108618613111 and parameters: {'booster': 'dart', 'gamma': 0.21623220434369705, 'max_depth': 9, 'min_child_weight': 3, 'subsample': 0.9923988025025097}. Best is trial 119 with value: 0.05770591141154612.\n",
      "[I 2023-07-05 15:54:39,186] Trial 138 finished with value: 0.06505084438706747 and parameters: {'booster': 'dart', 'gamma': 1.4751222563024726, 'max_depth': 8, 'min_child_weight': 3, 'subsample': 0.8636017851776033}. Best is trial 119 with value: 0.05770591141154612.\n",
      "[I 2023-07-05 15:54:39,666] Trial 139 finished with value: 0.06291300265538538 and parameters: {'booster': 'dart', 'gamma': 1.4952073801863974, 'max_depth': 9, 'min_child_weight': 3, 'subsample': 0.9230168333174715}. Best is trial 119 with value: 0.05770591141154612.\n",
      "[I 2023-07-05 15:54:40,234] Trial 141 finished with value: 0.0653787604218084 and parameters: {'booster': 'dart', 'gamma': 1.5624193206505614, 'max_depth': 8, 'min_child_weight': 3, 'subsample': 0.8617745075408219}. Best is trial 119 with value: 0.05770591141154612.\n",
      "[I 2023-07-05 15:54:40,399] Trial 140 finished with value: 0.06602895497745746 and parameters: {'booster': 'dart', 'gamma': 1.3736755313772082, 'max_depth': 9, 'min_child_weight': 3, 'subsample': 0.8620105326970092}. Best is trial 119 with value: 0.05770591141154612.\n",
      "[I 2023-07-05 15:54:43,193] Trial 142 finished with value: 0.06451756331101202 and parameters: {'booster': 'dart', 'gamma': 1.3049128018180007, 'max_depth': 9, 'min_child_weight': 3, 'subsample': 0.8616332442868188}. Best is trial 119 with value: 0.05770591141154612.\n",
      "[I 2023-07-05 15:54:43,560] Trial 143 finished with value: 0.060064752554444455 and parameters: {'booster': 'dart', 'gamma': 0.5856618423988187, 'max_depth': 9, 'min_child_weight': 3, 'subsample': 0.9173532369619407}. Best is trial 119 with value: 0.05770591141154612.\n",
      "[I 2023-07-05 15:54:43,609] Trial 144 finished with value: 0.066596063110059 and parameters: {'booster': 'dart', 'gamma': 1.2802040325826187, 'max_depth': 9, 'min_child_weight': 3, 'subsample': 0.8624936773513492}. Best is trial 119 with value: 0.05770591141154612.\n",
      "[I 2023-07-05 15:54:43,698] Trial 147 finished with value: 0.060684401771772145 and parameters: {'booster': 'dart', 'gamma': 0.5594012755082033, 'max_depth': 7, 'min_child_weight': 3, 'subsample': 0.9466740038474327}. Best is trial 119 with value: 0.05770591141154612.\n",
      "[I 2023-07-05 15:54:43,825] Trial 145 finished with value: 0.06602895497745746 and parameters: {'booster': 'dart', 'gamma': 1.3379231002631455, 'max_depth': 9, 'min_child_weight': 3, 'subsample': 0.8620040179627546}. Best is trial 119 with value: 0.05770591141154612.\n",
      "[I 2023-07-05 15:54:43,993] Trial 146 finished with value: 0.06443309014421025 and parameters: {'booster': 'dart', 'gamma': 0.6220967728827195, 'max_depth': 10, 'min_child_weight': 3, 'subsample': 0.9204155591696102}. Best is trial 119 with value: 0.05770591141154612.\n",
      "[I 2023-07-05 15:54:44,006] Trial 148 finished with value: 0.06172430372994528 and parameters: {'booster': 'dart', 'gamma': 0.765603737530224, 'max_depth': 7, 'min_child_weight': 3, 'subsample': 0.9155637838904741}. Best is trial 119 with value: 0.05770591141154612.\n",
      "[I 2023-07-05 15:54:44,062] Trial 149 finished with value: 0.06307290801452495 and parameters: {'booster': 'dart', 'gamma': 0.6301030856529437, 'max_depth': 7, 'min_child_weight': 3, 'subsample': 0.9175102584733456}. Best is trial 119 with value: 0.05770591141154612.\n"
     ]
    }
   ],
   "source": [
    "from sklearn.metrics import mean_squared_error, r2_score\n",
    "from xgboost import XGBRegressor\n",
    "import optuna\n",
    "\n",
    "# objective function to be minimized\n",
    "def objective_fun(trial):\n",
    "\n",
    "    booster = trial.suggest_categorical('booster', ['gbtree', 'dart'])\n",
    "    gamma = trial.suggest_float('gamma', 0, 5)\n",
    "    max_depth = trial.suggest_int('max_depth', 3, 20)\n",
    "    min_child_weight = trial.suggest_int('min_child_weight', 1, 3)\n",
    "    subsample = trial.suggest_float('subsample', 0.4, 1)\n",
    "\n",
    "    xgb = XGBRegressor(booster=booster, gamma=gamma, max_depth=max_depth, min_child_weight=min_child_weight, subsample=subsample)\n",
    "\n",
    "    xgb.fit(X_train, y_train)\n",
    "    y_pred = xgb.predict(X_valid)\n",
    "\n",
    "    error = mean_squared_error(y_valid, y_pred)\n",
    "\n",
    "    return error\n",
    "\n",
    "\n",
    "study = optuna.create_study()\n",
    "study.optimize(objective_fun, n_trials=150, n_jobs=-1)"
   ]
  },
  {
   "cell_type": "code",
   "execution_count": 11,
   "metadata": {
    "ExecuteTime": {
     "end_time": "2023-07-05T13:54:44.602639Z",
     "start_time": "2023-07-05T13:54:44.072242Z"
    }
   },
   "outputs": [
    {
     "name": "stdout",
     "output_type": "stream",
     "text": [
      "{'booster': 'dart', 'gamma': 0.5638828181249513, 'max_depth': 8, 'min_child_weight': 3, 'subsample': 0.8894675679865797}\n",
      "Normalized root mean squared error = 0.0839\n",
      "R-squared = 0.8367\n"
     ]
    }
   ],
   "source": [
    "best_params = study.best_params\n",
    "\n",
    "xgb = XGBRegressor(**best_params)\n",
    "xgb.fit(X_train, y_train)\n",
    "\n",
    "y_pred_test = xgb.predict(X_test)\n",
    "\n",
    "nrmse = np.sqrt(mean_squared_error(y_test, y_pred_test)) / (np.max(y_test) - np.min(y_test))\n",
    "\n",
    "print(best_params)\n",
    "print('Normalized root mean squared error = %.4f' % nrmse)\n",
    "print('R-squared = %.4f' % r2_score(y_test, y_pred_test))"
   ]
  },
  {
   "cell_type": "code",
   "execution_count": 12,
   "metadata": {
    "ExecuteTime": {
     "end_time": "2023-07-05T13:54:44.686927Z",
     "start_time": "2023-07-05T13:54:44.604019Z"
    }
   },
   "outputs": [
    {
     "data": {
      "text/plain": [
       "array([1.2523123e-02, 1.2332178e-02, 1.0544572e-02, ..., 2.1586714e-04,\n",
       "       1.4334453e-04, 9.4667426e-05], dtype=float32)"
      ]
     },
     "execution_count": 12,
     "metadata": {},
     "output_type": "execute_result"
    }
   ],
   "source": [
    "y_pred = xgb.predict(X_to_pred)\n",
    "y_pred = np.power(10, y_pred)\n",
    "y_pred"
   ]
  },
  {
   "cell_type": "code",
   "execution_count": 13,
   "metadata": {
    "ExecuteTime": {
     "end_time": "2023-07-05T13:54:44.687143Z",
     "start_time": "2023-07-05T13:54:44.625180Z"
    }
   },
   "outputs": [
    {
     "data": {
      "text/plain": [
       "0"
      ]
     },
     "execution_count": 13,
     "metadata": {},
     "output_type": "execute_result"
    }
   ],
   "source": [
    "# negative values predicted\n",
    "np.count_nonzero(y_pred < 0)"
   ]
  },
  {
   "cell_type": "code",
   "execution_count": 14,
   "metadata": {
    "ExecuteTime": {
     "end_time": "2023-07-05T13:54:44.749403Z",
     "start_time": "2023-07-05T13:54:44.628120Z"
    }
   },
   "outputs": [],
   "source": [
    "df_zero_xgb = df_zero.copy()\n",
    "df_xgb = df.copy()\n",
    "\n",
    "df_zero_xgb[TARGET] = y_pred\n",
    "df_xgb.update(df_zero_xgb)"
   ]
  },
  {
   "cell_type": "code",
   "execution_count": 15,
   "metadata": {
    "ExecuteTime": {
     "end_time": "2023-07-05T13:54:44.970368Z",
     "start_time": "2023-07-05T13:54:44.750866Z"
    }
   },
   "outputs": [
    {
     "data": {
      "image/png": "[encoded data removed]",
      "text/plain": [
       "<Figure size 640x480 with 1 Axes>"
      ]
     },
     "metadata": {},
     "output_type": "display_data"
    }
   ],
   "source": [
    "sns.histplot(data=df_xgb, x=TARGET, stat='density')\n",
    "plt.xlabel(f'{TARGET}')\n",
    "plt.ylabel('Density')\n",
    "plt.title(f'Distribution of {TARGET}')\n",
    "plt.savefig(os.path.join(IMAGE_FOLDER, 'xgboost_stft_min_distr.pdf'), format='pdf')\n",
    "plt.show()"
   ]
  },
  {
   "cell_type": "code",
   "execution_count": 16,
   "metadata": {
    "ExecuteTime": {
     "end_time": "2023-07-05T13:54:45.610922Z",
     "start_time": "2023-07-05T13:54:44.977835Z"
    }
   },
   "outputs": [
    {
     "data": {
      "image/png": "[encoded data removed]",
      "text/plain": [
       "<Figure size 640x480 with 1 Axes>"
      ]
     },
     "metadata": {},
     "output_type": "display_data"
    }
   ],
   "source": [
    "sns.histplot(data=df_xgb, x=TARGET, stat='density', log_scale=True)\n",
    "plt.xlabel(f'{TARGET}')\n",
    "plt.ylabel('Density')\n",
    "plt.title(f'Log-scaled distribution of {TARGET}')\n",
    "plt.savefig(os.path.join(IMAGE_FOLDER, 'xgboost_stft_min_logscale_distr.pdf'), format='pdf')\n",
    "plt.show()"
   ]
  },
  {
   "cell_type": "markdown",
   "metadata": {},
   "source": [
    "## Neural Network"
   ]
  },
  {
   "cell_type": "code",
   "execution_count": 17,
   "metadata": {
    "ExecuteTime": {
     "end_time": "2023-07-05T13:55:48.926936Z",
     "start_time": "2023-07-05T13:54:45.609919Z"
    }
   },
   "outputs": [
    {
     "name": "stderr",
     "output_type": "stream",
     "text": [
      "[I 2023-07-05 15:54:48,760] A new study created in memory with name: no-name-fab5e446-6976-4ace-96dd-27d9c5daabf8\n"
     ]
    },
    {
     "name": "stdout",
     "output_type": "stream",
     "text": [
      "WARNING:tensorflow:5 out of the last 9 calls to <function Model.make_test_function.<locals>.test_function at 0x2b12fc4c0> triggered tf.function retracing. Tracing is expensive and the excessive number of tracings could be due to (1) creating @tf.function repeatedly in a loop, (2) passing tensors with different shapes, (3) passing Python objects instead of tensors. For (1), please define your @tf.function outside of the loop. For (2), @tf.function has reduce_retracing=True option that can avoid unnecessary retracing. For (3), please refer to https://www.tensorflow.org/guide/function#controlling_retracing and https://www.tensorflow.org/api_docs/python/tf/function for  more details.\n",
      "WARNING:tensorflow:6 out of the last 11 calls to <function Model.make_test_function.<locals>.test_function at 0x2b59cac10> triggered tf.function retracing. Tracing is expensive and the excessive number of tracings could be due to (1) creating @tf.function repeatedly in a loop, (2) passing tensors with different shapes, (3) passing Python objects instead of tensors. For (1), please define your @tf.function outside of the loop. For (2), @tf.function has reduce_retracing=True option that can avoid unnecessary retracing. For (3), please refer to https://www.tensorflow.org/guide/function#controlling_retracing and https://www.tensorflow.org/api_docs/python/tf/function for  more details.\n"
     ]
    },
    {
     "name": "stderr",
     "output_type": "stream",
     "text": [
      "[I 2023-07-05 15:54:51,779] Trial 5 finished with value: 0.13116905093193054 and parameters: {'n_hidden': 3, 'n_units': 45, 'learning_rate': 0.029559277900196305}. Best is trial 5 with value: 0.13116905093193054.\n",
      "[I 2023-07-05 15:54:51,835] Trial 7 finished with value: 0.0963035598397255 and parameters: {'n_hidden': 2, 'n_units': 61, 'learning_rate': 0.00802046716187494}. Best is trial 7 with value: 0.0963035598397255.\n",
      "[I 2023-07-05 15:54:51,838] Trial 2 finished with value: 0.5839918851852417 and parameters: {'n_hidden': 2, 'n_units': 39, 'learning_rate': 0.07332510065051501}. Best is trial 7 with value: 0.0963035598397255.\n",
      "[I 2023-07-05 15:54:52,046] Trial 1 finished with value: 0.13064299523830414 and parameters: {'n_hidden': 3, 'n_units': 100, 'learning_rate': 0.03800574084194661}. Best is trial 7 with value: 0.0963035598397255.\n",
      "[I 2023-07-05 15:54:52,083] Trial 6 finished with value: 0.5849565267562866 and parameters: {'n_hidden': 4, 'n_units': 78, 'learning_rate': 0.061445246200584024}. Best is trial 7 with value: 0.0963035598397255.\n",
      "[I 2023-07-05 15:54:52,371] Trial 3 finished with value: 0.10646773129701614 and parameters: {'n_hidden': 4, 'n_units': 91, 'learning_rate': 0.07487694538190731}. Best is trial 7 with value: 0.0963035598397255.\n",
      "[I 2023-07-05 15:54:52,430] Trial 4 finished with value: 0.23249730467796326 and parameters: {'n_hidden': 5, 'n_units': 75, 'learning_rate': 0.08651309292043097}. Best is trial 7 with value: 0.0963035598397255.\n",
      "[I 2023-07-05 15:54:53,010] Trial 0 finished with value: 0.12993133068084717 and parameters: {'n_hidden': 4, 'n_units': 119, 'learning_rate': 0.048572938791919554}. Best is trial 7 with value: 0.0963035598397255.\n",
      "[I 2023-07-05 15:54:54,796] Trial 8 finished with value: 0.14986373484134674 and parameters: {'n_hidden': 2, 'n_units': 36, 'learning_rate': 0.0803310012900755}. Best is trial 7 with value: 0.0963035598397255.\n",
      "[I 2023-07-05 15:54:55,263] Trial 11 finished with value: 0.13160552084445953 and parameters: {'n_hidden': 5, 'n_units': 54, 'learning_rate': 0.04014592895387215}. Best is trial 7 with value: 0.0963035598397255.\n",
      "[I 2023-07-05 15:54:55,267] Trial 10 finished with value: 0.17197628319263458 and parameters: {'n_hidden': 5, 'n_units': 43, 'learning_rate': 0.07295074644283132}. Best is trial 7 with value: 0.0963035598397255.\n",
      "[I 2023-07-05 15:54:55,300] Trial 12 finished with value: 0.5863415598869324 and parameters: {'n_hidden': 5, 'n_units': 40, 'learning_rate': 0.08846564769651329}. Best is trial 7 with value: 0.0963035598397255.\n",
      "[I 2023-07-05 15:54:55,760] Trial 9 finished with value: 0.13695845007896423 and parameters: {'n_hidden': 4, 'n_units': 106, 'learning_rate': 0.023782265241806058}. Best is trial 7 with value: 0.0963035598397255.\n",
      "[I 2023-07-05 15:54:55,843] Trial 13 finished with value: 0.6048511862754822 and parameters: {'n_hidden': 4, 'n_units': 122, 'learning_rate': 0.08335277541059846}. Best is trial 7 with value: 0.0963035598397255.\n",
      "[I 2023-07-05 15:54:55,879] Trial 14 finished with value: 0.14670531451702118 and parameters: {'n_hidden': 5, 'n_units': 74, 'learning_rate': 0.0649478459996273}. Best is trial 7 with value: 0.0963035598397255.\n",
      "[I 2023-07-05 15:54:56,114] Trial 15 finished with value: 0.5896215438842773 and parameters: {'n_hidden': 2, 'n_units': 87, 'learning_rate': 0.050213180548555524}. Best is trial 7 with value: 0.0963035598397255.\n",
      "[I 2023-07-05 15:54:58,014] Trial 16 finished with value: 0.1083686500787735 and parameters: {'n_hidden': 3, 'n_units': 65, 'learning_rate': 0.0011785781866289478}. Best is trial 7 with value: 0.0963035598397255.\n",
      "[I 2023-07-05 15:54:58,373] Trial 18 finished with value: 0.11697276681661606 and parameters: {'n_hidden': 3, 'n_units': 65, 'learning_rate': 0.0017869630008892912}. Best is trial 7 with value: 0.0963035598397255.\n",
      "[I 2023-07-05 15:54:58,502] Trial 19 finished with value: 0.11071006208658218 and parameters: {'n_hidden': 3, 'n_units': 63, 'learning_rate': 0.0010172275875542508}. Best is trial 7 with value: 0.0963035598397255.\n",
      "[I 2023-07-05 15:54:58,633] Trial 21 finished with value: 0.11736849695444107 and parameters: {'n_hidden': 3, 'n_units': 64, 'learning_rate': 0.011188038288825197}. Best is trial 7 with value: 0.0963035598397255.\n",
      "[I 2023-07-05 15:54:58,804] Trial 20 finished with value: 0.0938534140586853 and parameters: {'n_hidden': 3, 'n_units': 68, 'learning_rate': 0.003731490632344299}. Best is trial 20 with value: 0.0938534140586853.\n",
      "[I 2023-07-05 15:54:59,011] Trial 17 finished with value: 0.09645857661962509 and parameters: {'n_hidden': 3, 'n_units': 96, 'learning_rate': 0.0035575261479559063}. Best is trial 20 with value: 0.0938534140586853.\n",
      "[I 2023-07-05 15:54:59,062] Trial 22 finished with value: 0.09725161641836166 and parameters: {'n_hidden': 3, 'n_units': 61, 'learning_rate': 0.0017672948577313816}. Best is trial 20 with value: 0.0938534140586853.\n",
      "[I 2023-07-05 15:54:59,449] Trial 23 finished with value: 0.11754334717988968 and parameters: {'n_hidden': 3, 'n_units': 62, 'learning_rate': 0.0012847152333899173}. Best is trial 20 with value: 0.0938534140586853.\n",
      "[I 2023-07-05 15:55:01,100] Trial 24 finished with value: 0.18272237479686737 and parameters: {'n_hidden': 3, 'n_units': 91, 'learning_rate': 0.00010901504937780096}. Best is trial 20 with value: 0.0938534140586853.\n",
      "[I 2023-07-05 15:55:01,180] Trial 25 finished with value: 0.12105057388544083 and parameters: {'n_hidden': 2, 'n_units': 95, 'learning_rate': 0.09834800193650488}. Best is trial 20 with value: 0.0938534140586853.\n",
      "[I 2023-07-05 15:55:01,236] Trial 27 finished with value: 0.6532175540924072 and parameters: {'n_hidden': 2, 'n_units': 91, 'learning_rate': 0.09878261114530837}. Best is trial 20 with value: 0.0938534140586853.\n",
      "[I 2023-07-05 15:55:01,288] Trial 26 finished with value: 0.0946112722158432 and parameters: {'n_hidden': 2, 'n_units': 90, 'learning_rate': 0.02139282450270888}. Best is trial 20 with value: 0.0938534140586853.\n",
      "[I 2023-07-05 15:55:01,468] Trial 28 finished with value: 0.10680792480707169 and parameters: {'n_hidden': 2, 'n_units': 90, 'learning_rate': 0.01679406202810586}. Best is trial 20 with value: 0.0938534140586853.\n",
      "[I 2023-07-05 15:55:01,909] Trial 29 finished with value: 0.10573722422122955 and parameters: {'n_hidden': 2, 'n_units': 53, 'learning_rate': 0.015503266038976332}. Best is trial 20 with value: 0.0938534140586853.\n",
      "[I 2023-07-05 15:55:02,347] Trial 30 finished with value: 0.10152141749858856 and parameters: {'n_hidden': 2, 'n_units': 93, 'learning_rate': 0.014343760407132169}. Best is trial 20 with value: 0.0938534140586853.\n",
      "[I 2023-07-05 15:55:02,397] Trial 31 finished with value: 0.12914645671844482 and parameters: {'n_hidden': 2, 'n_units': 85, 'learning_rate': 0.014826543625998001}. Best is trial 20 with value: 0.0938534140586853.\n",
      "[I 2023-07-05 15:55:04,154] Trial 33 finished with value: 0.10108915716409683 and parameters: {'n_hidden': 2, 'n_units': 52, 'learning_rate': 0.013820815884234176}. Best is trial 20 with value: 0.0938534140586853.\n",
      "[I 2023-07-05 15:55:04,258] Trial 32 finished with value: 0.0983891412615776 and parameters: {'n_hidden': 2, 'n_units': 51, 'learning_rate': 0.014593391771601552}. Best is trial 20 with value: 0.0938534140586853.\n",
      "[I 2023-07-05 15:55:04,315] Trial 34 finished with value: 0.11752289533615112 and parameters: {'n_hidden': 2, 'n_units': 52, 'learning_rate': 0.01516767382316639}. Best is trial 20 with value: 0.0938534140586853.\n",
      "[I 2023-07-05 15:55:04,603] Trial 35 finished with value: 0.10944163799285889 and parameters: {'n_hidden': 2, 'n_units': 108, 'learning_rate': 0.013847962696621457}. Best is trial 20 with value: 0.0938534140586853.\n",
      "[I 2023-07-05 15:55:04,718] Trial 36 finished with value: 0.0908932238817215 and parameters: {'n_hidden': 2, 'n_units': 112, 'learning_rate': 0.012910007634412808}. Best is trial 36 with value: 0.0908932238817215.\n",
      "[I 2023-07-05 15:55:04,950] Trial 37 finished with value: 0.09690452367067337 and parameters: {'n_hidden': 2, 'n_units': 81, 'learning_rate': 0.010739989746433852}. Best is trial 36 with value: 0.0908932238817215.\n",
      "[I 2023-07-05 15:55:05,922] Trial 39 finished with value: 0.10301917791366577 and parameters: {'n_hidden': 3, 'n_units': 106, 'learning_rate': 0.008101304118207408}. Best is trial 36 with value: 0.0908932238817215.\n",
      "[I 2023-07-05 15:55:06,086] Trial 38 finished with value: 0.10650819540023804 and parameters: {'n_hidden': 2, 'n_units': 108, 'learning_rate': 0.009624803016382834}. Best is trial 36 with value: 0.0908932238817215.\n",
      "[I 2023-07-05 15:55:07,373] Trial 42 finished with value: 0.10073632746934891 and parameters: {'n_hidden': 3, 'n_units': 112, 'learning_rate': 0.006470001068972638}. Best is trial 36 with value: 0.0908932238817215.\n",
      "[I 2023-07-05 15:55:07,596] Trial 40 finished with value: 0.10130825638771057 and parameters: {'n_hidden': 3, 'n_units': 110, 'learning_rate': 0.007849773743148776}. Best is trial 36 with value: 0.0908932238817215.\n",
      "[I 2023-07-05 15:55:07,655] Trial 45 finished with value: 0.12074702978134155 and parameters: {'n_hidden': 2, 'n_units': 116, 'learning_rate': 0.023287303078534223}. Best is trial 36 with value: 0.0908932238817215.\n",
      "[I 2023-07-05 15:55:07,663] Trial 44 finished with value: 0.11256800591945648 and parameters: {'n_hidden': 2, 'n_units': 116, 'learning_rate': 0.024184959424745217}. Best is trial 36 with value: 0.0908932238817215.\n",
      "[I 2023-07-05 15:55:07,683] Trial 41 finished with value: 0.11902731657028198 and parameters: {'n_hidden': 3, 'n_units': 105, 'learning_rate': 0.007840592543788404}. Best is trial 36 with value: 0.0908932238817215.\n",
      "[I 2023-07-05 15:55:07,747] Trial 43 finished with value: 0.13508421182632446 and parameters: {'n_hidden': 3, 'n_units': 114, 'learning_rate': 0.007716810653084055}. Best is trial 36 with value: 0.0908932238817215.\n",
      "[I 2023-07-05 15:55:09,294] Trial 46 finished with value: 0.1048600971698761 and parameters: {'n_hidden': 2, 'n_units': 127, 'learning_rate': 0.022922408942693435}. Best is trial 36 with value: 0.0908932238817215.\n",
      "[I 2023-07-05 15:55:09,627] Trial 47 finished with value: 0.16957584023475647 and parameters: {'n_hidden': 4, 'n_units': 115, 'learning_rate': 0.023074358556119147}. Best is trial 36 with value: 0.0908932238817215.\n",
      "[I 2023-07-05 15:55:10,740] Trial 48 finished with value: 0.10239700973033905 and parameters: {'n_hidden': 3, 'n_units': 99, 'learning_rate': 0.021725745386942302}. Best is trial 36 with value: 0.0908932238817215.\n",
      "[I 2023-07-05 15:55:10,963] Trial 49 finished with value: 0.11304287612438202 and parameters: {'n_hidden': 4, 'n_units': 71, 'learning_rate': 0.021855744535162758}. Best is trial 36 with value: 0.0908932238817215.\n",
      "[I 2023-07-05 15:55:11,039] Trial 52 finished with value: 0.11949742585420609 and parameters: {'n_hidden': 4, 'n_units': 72, 'learning_rate': 0.02046524473195034}. Best is trial 36 with value: 0.0908932238817215.\n",
      "[I 2023-07-05 15:55:11,088] Trial 53 finished with value: 0.12769091129302979 and parameters: {'n_hidden': 4, 'n_units': 71, 'learning_rate': 0.021565425662658844}. Best is trial 36 with value: 0.0908932238817215.\n",
      "[I 2023-07-05 15:55:11,167] Trial 50 finished with value: 0.12039638310670853 and parameters: {'n_hidden': 4, 'n_units': 101, 'learning_rate': 0.0203223793921728}. Best is trial 36 with value: 0.0908932238817215.\n",
      "[I 2023-07-05 15:55:11,332] Trial 51 finished with value: 0.12137402594089508 and parameters: {'n_hidden': 4, 'n_units': 75, 'learning_rate': 0.02049155055987625}. Best is trial 36 with value: 0.0908932238817215.\n",
      "[I 2023-07-05 15:55:12,628] Trial 54 finished with value: 0.14247548580169678 and parameters: {'n_hidden': 4, 'n_units': 71, 'learning_rate': 0.031455189680719094}. Best is trial 36 with value: 0.0908932238817215.\n",
      "[I 2023-07-05 15:55:13,204] Trial 55 finished with value: 0.12756913900375366 and parameters: {'n_hidden': 4, 'n_units': 101, 'learning_rate': 0.02932330670061455}. Best is trial 36 with value: 0.0908932238817215.\n",
      "[I 2023-07-05 15:55:13,878] Trial 56 finished with value: 0.12774379551410675 and parameters: {'n_hidden': 4, 'n_units': 72, 'learning_rate': 0.029653622260780818}. Best is trial 36 with value: 0.0908932238817215.\n",
      "[I 2023-07-05 15:55:13,983] Trial 58 finished with value: 0.09953656047582626 and parameters: {'n_hidden': 2, 'n_units': 81, 'learning_rate': 0.005081313576415093}. Best is trial 36 with value: 0.0908932238817215.\n",
      "[I 2023-07-05 15:55:14,248] Trial 60 finished with value: 0.11415370553731918 and parameters: {'n_hidden': 2, 'n_units': 83, 'learning_rate': 0.029019663728750988}. Best is trial 36 with value: 0.0908932238817215.\n",
      "[I 2023-07-05 15:55:14,315] Trial 57 finished with value: 0.1577267348766327 and parameters: {'n_hidden': 4, 'n_units': 101, 'learning_rate': 0.029391284285655968}. Best is trial 36 with value: 0.0908932238817215.\n",
      "[I 2023-07-05 15:55:14,391] Trial 61 finished with value: 0.10608096420764923 and parameters: {'n_hidden': 2, 'n_units': 82, 'learning_rate': 0.004788986112322362}. Best is trial 36 with value: 0.0908932238817215.\n",
      "[I 2023-07-05 15:55:14,399] Trial 59 finished with value: 0.08986169844865799 and parameters: {'n_hidden': 2, 'n_units': 82, 'learning_rate': 0.004140458225623367}. Best is trial 59 with value: 0.08986169844865799.\n",
      "[I 2023-07-05 15:55:16,042] Trial 62 finished with value: 0.11173006147146225 and parameters: {'n_hidden': 2, 'n_units': 81, 'learning_rate': 0.005342865350016571}. Best is trial 59 with value: 0.08986169844865799.\n",
      "[I 2023-07-05 15:55:16,508] Trial 63 finished with value: 0.11573681980371475 and parameters: {'n_hidden': 2, 'n_units': 82, 'learning_rate': 0.0050501217089664405}. Best is trial 59 with value: 0.08986169844865799.\n",
      "[I 2023-07-05 15:55:16,917] Trial 65 finished with value: 0.09585342556238174 and parameters: {'n_hidden': 2, 'n_units': 82, 'learning_rate': 0.011237683747094402}. Best is trial 59 with value: 0.08986169844865799.\n",
      "[I 2023-07-05 15:55:17,059] Trial 64 finished with value: 0.09766505658626556 and parameters: {'n_hidden': 2, 'n_units': 81, 'learning_rate': 0.004811259561480429}. Best is trial 59 with value: 0.08986169844865799.\n",
      "[I 2023-07-05 15:55:17,224] Trial 67 finished with value: 0.1382361650466919 and parameters: {'n_hidden': 2, 'n_units': 78, 'learning_rate': 0.003939640437096557}. Best is trial 59 with value: 0.08986169844865799.\n",
      "[I 2023-07-05 15:55:17,303] Trial 66 finished with value: 0.09160322695970535 and parameters: {'n_hidden': 2, 'n_units': 78, 'learning_rate': 0.005621169703135857}. Best is trial 59 with value: 0.08986169844865799.\n",
      "[I 2023-07-05 15:55:17,562] Trial 69 finished with value: 0.10505304485559464 and parameters: {'n_hidden': 2, 'n_units': 87, 'learning_rate': 0.010656786598567856}. Best is trial 59 with value: 0.08986169844865799.\n",
      "[I 2023-07-05 15:55:18,078] Trial 68 finished with value: 0.09569115191698074 and parameters: {'n_hidden': 2, 'n_units': 78, 'learning_rate': 0.011198743762243491}. Best is trial 59 with value: 0.08986169844865799.\n",
      "[I 2023-07-05 15:55:18,978] Trial 70 finished with value: 0.09622882306575775 and parameters: {'n_hidden': 2, 'n_units': 58, 'learning_rate': 0.010563357433365539}. Best is trial 59 with value: 0.08986169844865799.\n",
      "[I 2023-07-05 15:55:19,452] Trial 71 finished with value: 0.10593277215957642 and parameters: {'n_hidden': 2, 'n_units': 57, 'learning_rate': 0.011490257350160954}. Best is trial 59 with value: 0.08986169844865799.\n",
      "[I 2023-07-05 15:55:19,854] Trial 73 finished with value: 0.09778958559036255 and parameters: {'n_hidden': 3, 'n_units': 59, 'learning_rate': 0.011620966298602197}. Best is trial 59 with value: 0.08986169844865799.\n",
      "[I 2023-07-05 15:55:19,908] Trial 72 finished with value: 0.1288250833749771 and parameters: {'n_hidden': 2, 'n_units': 58, 'learning_rate': 0.011192831436976143}. Best is trial 59 with value: 0.08986169844865799.\n",
      "[I 2023-07-05 15:55:20,398] Trial 75 finished with value: 0.14113686978816986 and parameters: {'n_hidden': 2, 'n_units': 68, 'learning_rate': 0.011851028335485781}. Best is trial 59 with value: 0.08986169844865799.\n",
      "[I 2023-07-05 15:55:20,598] Trial 76 finished with value: 0.11821739375591278 and parameters: {'n_hidden': 2, 'n_units': 67, 'learning_rate': 0.012010522251684815}. Best is trial 59 with value: 0.08986169844865799.\n",
      "[I 2023-07-05 15:55:20,838] Trial 74 finished with value: 0.11982882022857666 and parameters: {'n_hidden': 3, 'n_units': 59, 'learning_rate': 0.010011831977353225}. Best is trial 59 with value: 0.08986169844865799.\n",
      "[I 2023-07-05 15:55:20,954] Trial 77 finished with value: 0.12821193039417267 and parameters: {'n_hidden': 2, 'n_units': 68, 'learning_rate': 0.011058592051511008}. Best is trial 59 with value: 0.08986169844865799.\n",
      "[I 2023-07-05 15:55:21,989] Trial 78 finished with value: 0.11008019745349884 and parameters: {'n_hidden': 2, 'n_units': 67, 'learning_rate': 0.011630344477405172}. Best is trial 59 with value: 0.08986169844865799.\n",
      "[I 2023-07-05 15:55:22,422] Trial 79 finished with value: 0.10081277042627335 and parameters: {'n_hidden': 2, 'n_units': 68, 'learning_rate': 0.01061947875958012}. Best is trial 59 with value: 0.08986169844865799.\n",
      "[I 2023-07-05 15:55:22,944] Trial 80 finished with value: 0.1132098063826561 and parameters: {'n_hidden': 2, 'n_units': 68, 'learning_rate': 0.017075351617811402}. Best is trial 59 with value: 0.08986169844865799.\n",
      "[I 2023-07-05 15:55:23,079] Trial 81 finished with value: 0.21510183811187744 and parameters: {'n_hidden': 2, 'n_units': 68, 'learning_rate': 0.0002320764000655704}. Best is trial 59 with value: 0.08986169844865799.\n",
      "[I 2023-07-05 15:55:23,356] Trial 82 finished with value: 2.3929617404937744 and parameters: {'n_hidden': 2, 'n_units': 78, 'learning_rate': 4.1779721517600475e-05}. Best is trial 59 with value: 0.08986169844865799.\n",
      "[I 2023-07-05 15:55:23,564] Trial 83 finished with value: 0.22424395382404327 and parameters: {'n_hidden': 2, 'n_units': 76, 'learning_rate': 0.00018098162589430707}. Best is trial 59 with value: 0.08986169844865799.\n",
      "[I 2023-07-05 15:55:24,110] Trial 84 finished with value: 0.1080925241112709 and parameters: {'n_hidden': 2, 'n_units': 77, 'learning_rate': 0.017737720497609397}. Best is trial 59 with value: 0.08986169844865799.\n",
      "[I 2023-07-05 15:55:24,732] Trial 85 finished with value: 0.12192195653915405 and parameters: {'n_hidden': 2, 'n_units': 78, 'learning_rate': 0.017178766235776032}. Best is trial 59 with value: 0.08986169844865799.\n",
      "[I 2023-07-05 15:55:24,935] Trial 86 finished with value: 0.11112586408853531 and parameters: {'n_hidden': 2, 'n_units': 76, 'learning_rate': 0.01710294394994223}. Best is trial 59 with value: 0.08986169844865799.\n",
      "[I 2023-07-05 15:55:25,372] Trial 87 finished with value: 0.09953795373439789 and parameters: {'n_hidden': 2, 'n_units': 47, 'learning_rate': 0.017430968854733293}. Best is trial 59 with value: 0.08986169844865799.\n",
      "[I 2023-07-05 15:55:25,800] Trial 88 finished with value: 0.6018831133842468 and parameters: {'n_hidden': 2, 'n_units': 48, 'learning_rate': 0.00016440895050237776}. Best is trial 59 with value: 0.08986169844865799.\n",
      "[I 2023-07-05 15:55:26,215] Trial 89 finished with value: 0.10720396786928177 and parameters: {'n_hidden': 2, 'n_units': 49, 'learning_rate': 0.002891663713531515}. Best is trial 59 with value: 0.08986169844865799.\n",
      "[I 2023-07-05 15:55:26,501] Trial 90 finished with value: 0.09859824925661087 and parameters: {'n_hidden': 2, 'n_units': 85, 'learning_rate': 0.008524893260479352}. Best is trial 59 with value: 0.08986169844865799.\n",
      "[I 2023-07-05 15:55:26,665] Trial 91 finished with value: 0.10209722071886063 and parameters: {'n_hidden': 2, 'n_units': 88, 'learning_rate': 0.007526404077003217}. Best is trial 59 with value: 0.08986169844865799.\n",
      "[I 2023-07-05 15:55:26,824] Trial 92 finished with value: 0.11374392360448837 and parameters: {'n_hidden': 2, 'n_units': 47, 'learning_rate': 0.002984983409766162}. Best is trial 59 with value: 0.08986169844865799.\n",
      "[I 2023-07-05 15:55:27,923] Trial 93 finished with value: 0.10685894638299942 and parameters: {'n_hidden': 2, 'n_units': 86, 'learning_rate': 0.007474483467175953}. Best is trial 59 with value: 0.08986169844865799.\n",
      "[I 2023-07-05 15:55:28,198] Trial 94 finished with value: 0.13334208726882935 and parameters: {'n_hidden': 2, 'n_units': 46, 'learning_rate': 0.007428717400001433}. Best is trial 59 with value: 0.08986169844865799.\n",
      "[I 2023-07-05 15:55:28,577] Trial 95 finished with value: 0.1063794493675232 and parameters: {'n_hidden': 2, 'n_units': 87, 'learning_rate': 0.007562467625432746}. Best is trial 59 with value: 0.08986169844865799.\n",
      "[I 2023-07-05 15:55:29,163] Trial 96 finished with value: 0.13124555349349976 and parameters: {'n_hidden': 2, 'n_units': 88, 'learning_rate': 0.0067326272356863165}. Best is trial 59 with value: 0.08986169844865799.\n",
      "[I 2023-07-05 15:55:29,526] Trial 97 finished with value: 0.10169366747140884 and parameters: {'n_hidden': 2, 'n_units': 85, 'learning_rate': 0.00794883295421381}. Best is trial 59 with value: 0.08986169844865799.\n",
      "[I 2023-07-05 15:55:29,976] Trial 99 finished with value: 0.10768997669219971 and parameters: {'n_hidden': 3, 'n_units': 93, 'learning_rate': 0.002543503666365198}. Best is trial 59 with value: 0.08986169844865799.\n",
      "[I 2023-07-05 15:55:30,204] Trial 100 finished with value: 0.10692493617534637 and parameters: {'n_hidden': 3, 'n_units': 95, 'learning_rate': 0.006999744008519469}. Best is trial 59 with value: 0.08986169844865799.\n",
      "[I 2023-07-05 15:55:30,254] Trial 98 finished with value: 0.11028383672237396 and parameters: {'n_hidden': 3, 'n_units': 93, 'learning_rate': 0.007325308368926262}. Best is trial 59 with value: 0.08986169844865799.\n",
      "[I 2023-07-05 15:55:31,003] Trial 101 finished with value: 0.10657835751771927 and parameters: {'n_hidden': 3, 'n_units': 97, 'learning_rate': 0.003365169990613072}. Best is trial 59 with value: 0.08986169844865799.\n",
      "[I 2023-07-05 15:55:31,701] Trial 102 finished with value: 0.10279920697212219 and parameters: {'n_hidden': 5, 'n_units': 96, 'learning_rate': 0.0036406117174924172}. Best is trial 59 with value: 0.08986169844865799.\n",
      "[I 2023-07-05 15:55:31,869] Trial 103 finished with value: 0.09696240723133087 and parameters: {'n_hidden': 3, 'n_units': 97, 'learning_rate': 0.0022894410183273524}. Best is trial 59 with value: 0.08986169844865799.\n",
      "[I 2023-07-05 15:55:32,335] Trial 104 finished with value: 0.11069274693727493 and parameters: {'n_hidden': 3, 'n_units': 93, 'learning_rate': 0.003654299672002028}. Best is trial 59 with value: 0.08986169844865799.\n",
      "[I 2023-07-05 15:55:32,827] Trial 105 finished with value: 0.09722324460744858 and parameters: {'n_hidden': 3, 'n_units': 95, 'learning_rate': 0.0029461867374864243}. Best is trial 59 with value: 0.08986169844865799.\n",
      "[I 2023-07-05 15:55:33,190] Trial 108 finished with value: 0.10674016177654266 and parameters: {'n_hidden': 2, 'n_units': 74, 'learning_rate': 0.01389644048632766}. Best is trial 59 with value: 0.08986169844865799.\n",
      "[I 2023-07-05 15:55:33,819] Trial 107 finished with value: 0.09355383366346359 and parameters: {'n_hidden': 5, 'n_units': 128, 'learning_rate': 0.003726556164436106}. Best is trial 59 with value: 0.08986169844865799.\n",
      "[I 2023-07-05 15:55:34,156] Trial 106 finished with value: 0.12692542374134064 and parameters: {'n_hidden': 5, 'n_units': 121, 'learning_rate': 0.013943923332969909}. Best is trial 59 with value: 0.08986169844865799.\n",
      "[I 2023-07-05 15:55:34,294] Trial 109 finished with value: 0.11854153126478195 and parameters: {'n_hidden': 5, 'n_units': 62, 'learning_rate': 0.013894883439265988}. Best is trial 59 with value: 0.08986169844865799.\n",
      "[I 2023-07-05 15:55:34,965] Trial 111 finished with value: 0.10712891817092896 and parameters: {'n_hidden': 2, 'n_units': 55, 'learning_rate': 0.012705952883611508}. Best is trial 59 with value: 0.08986169844865799.\n",
      "[I 2023-07-05 15:55:35,091] Trial 110 finished with value: 0.10189832001924515 and parameters: {'n_hidden': 2, 'n_units': 121, 'learning_rate': 0.01369916193645158}. Best is trial 59 with value: 0.08986169844865799.\n",
      "[I 2023-07-05 15:55:35,584] Trial 112 finished with value: 0.0959429144859314 and parameters: {'n_hidden': 2, 'n_units': 55, 'learning_rate': 0.013859516359764327}. Best is trial 59 with value: 0.08986169844865799.\n",
      "[I 2023-07-05 15:55:36,189] Trial 113 finished with value: 0.10733586549758911 and parameters: {'n_hidden': 2, 'n_units': 55, 'learning_rate': 0.013306045099307617}. Best is trial 59 with value: 0.08986169844865799.\n",
      "[I 2023-07-05 15:55:36,547] Trial 114 finished with value: 0.113113634288311 and parameters: {'n_hidden': 2, 'n_units': 121, 'learning_rate': 0.01529735004320361}. Best is trial 59 with value: 0.08986169844865799.\n",
      "[I 2023-07-05 15:55:37,467] Trial 115 finished with value: 0.12198133021593094 and parameters: {'n_hidden': 5, 'n_units': 128, 'learning_rate': 0.013220134072177921}. Best is trial 59 with value: 0.08986169844865799.\n",
      "[I 2023-07-05 15:55:37,569] Trial 116 finished with value: 0.09838235378265381 and parameters: {'n_hidden': 2, 'n_units': 126, 'learning_rate': 0.004948012086701051}. Best is trial 59 with value: 0.08986169844865799.\n",
      "[I 2023-07-05 15:55:37,593] Trial 117 finished with value: 0.13515016436576843 and parameters: {'n_hidden': 2, 'n_units': 125, 'learning_rate': 0.009594289164988046}. Best is trial 59 with value: 0.08986169844865799.\n",
      "[I 2023-07-05 15:55:38,421] Trial 118 finished with value: 0.11603164672851562 and parameters: {'n_hidden': 2, 'n_units': 118, 'learning_rate': 0.008836912702831665}. Best is trial 59 with value: 0.08986169844865799.\n",
      "[I 2023-07-05 15:55:38,425] Trial 119 finished with value: 0.09469642490148544 and parameters: {'n_hidden': 2, 'n_units': 90, 'learning_rate': 0.009416136482646793}. Best is trial 59 with value: 0.08986169844865799.\n",
      "[I 2023-07-05 15:55:38,794] Trial 120 finished with value: 0.10056232661008835 and parameters: {'n_hidden': 2, 'n_units': 43, 'learning_rate': 0.009464142069535768}. Best is trial 59 with value: 0.08986169844865799.\n",
      "[I 2023-07-05 15:55:39,754] Trial 122 finished with value: 0.11277762800455093 and parameters: {'n_hidden': 2, 'n_units': 41, 'learning_rate': 0.004733213198290007}. Best is trial 59 with value: 0.08986169844865799.\n",
      "[I 2023-07-05 15:55:39,767] Trial 121 finished with value: 0.13772772252559662 and parameters: {'n_hidden': 2, 'n_units': 125, 'learning_rate': 0.009722902810833507}. Best is trial 59 with value: 0.08986169844865799.\n",
      "[I 2023-07-05 15:55:40,678] Trial 124 finished with value: 0.1136733889579773 and parameters: {'n_hidden': 2, 'n_units': 60, 'learning_rate': 0.009563221994003218}. Best is trial 59 with value: 0.08986169844865799.\n",
      "[I 2023-07-05 15:55:40,691] Trial 123 finished with value: 0.09353417158126831 and parameters: {'n_hidden': 2, 'n_units': 104, 'learning_rate': 0.005483884239092617}. Best is trial 59 with value: 0.08986169844865799.\n",
      "[I 2023-07-05 15:55:41,259] Trial 125 finished with value: 0.12387796491384506 and parameters: {'n_hidden': 2, 'n_units': 73, 'learning_rate': 0.009665115196527754}. Best is trial 59 with value: 0.08986169844865799.\n",
      "[I 2023-07-05 15:55:41,517] Trial 126 finished with value: 0.10214375704526901 and parameters: {'n_hidden': 2, 'n_units': 64, 'learning_rate': 0.009801928056843687}. Best is trial 59 with value: 0.08986169844865799.\n",
      "[I 2023-07-05 15:55:41,552] Trial 127 finished with value: 0.09690583497285843 and parameters: {'n_hidden': 2, 'n_units': 64, 'learning_rate': 0.0054983132725286285}. Best is trial 59 with value: 0.08986169844865799.\n",
      "[I 2023-07-05 15:55:42,126] Trial 128 finished with value: 0.09121134877204895 and parameters: {'n_hidden': 2, 'n_units': 104, 'learning_rate': 0.006079540878495173}. Best is trial 59 with value: 0.08986169844865799.\n",
      "[I 2023-07-05 15:55:42,929] Trial 130 finished with value: 0.10229279100894928 and parameters: {'n_hidden': 2, 'n_units': 89, 'learning_rate': 0.005066330880819987}. Best is trial 59 with value: 0.08986169844865799.\n",
      "[I 2023-07-05 15:55:42,978] Trial 129 finished with value: 0.1034034863114357 and parameters: {'n_hidden': 2, 'n_units': 90, 'learning_rate': 0.005886931514867488}. Best is trial 59 with value: 0.08986169844865799.\n",
      "[I 2023-07-05 15:55:43,485] Trial 131 finished with value: 0.09760252386331558 and parameters: {'n_hidden': 2, 'n_units': 64, 'learning_rate': 0.005590598693391785}. Best is trial 59 with value: 0.08986169844865799.\n",
      "[I 2023-07-05 15:55:43,663] Trial 132 finished with value: 0.10266944766044617 and parameters: {'n_hidden': 2, 'n_units': 65, 'learning_rate': 0.005916896168834835}. Best is trial 59 with value: 0.08986169844865799.\n",
      "[I 2023-07-05 15:55:44,285] Trial 133 finished with value: 0.10359849035739899 and parameters: {'n_hidden': 2, 'n_units': 64, 'learning_rate': 0.005926221726528881}. Best is trial 59 with value: 0.08986169844865799.\n",
      "[I 2023-07-05 15:55:44,603] Trial 135 finished with value: 0.102849580347538 and parameters: {'n_hidden': 2, 'n_units': 112, 'learning_rate': 0.005883934869607555}. Best is trial 59 with value: 0.08986169844865799.\n",
      "[I 2023-07-05 15:55:44,710] Trial 134 finished with value: 0.10850577056407928 and parameters: {'n_hidden': 2, 'n_units': 103, 'learning_rate': 0.018763271103823493}. Best is trial 59 with value: 0.08986169844865799.\n",
      "[I 2023-07-05 15:55:45,120] Trial 136 finished with value: 0.12021293491125107 and parameters: {'n_hidden': 2, 'n_units': 90, 'learning_rate': 0.018828321744846045}. Best is trial 59 with value: 0.08986169844865799.\n",
      "[I 2023-07-05 15:55:45,864] Trial 138 finished with value: 0.11250723898410797 and parameters: {'n_hidden': 2, 'n_units': 105, 'learning_rate': 0.0018268140586245388}. Best is trial 59 with value: 0.08986169844865799.\n",
      "[I 2023-07-05 15:55:45,934] Trial 137 finished with value: 0.11992450803518295 and parameters: {'n_hidden': 2, 'n_units': 103, 'learning_rate': 0.019252595634951054}. Best is trial 59 with value: 0.08986169844865799.\n",
      "[I 2023-07-05 15:55:46,376] Trial 139 finished with value: 0.09693317860364914 and parameters: {'n_hidden': 2, 'n_units': 112, 'learning_rate': 0.018666478586898384}. Best is trial 59 with value: 0.08986169844865799.\n",
      "[I 2023-07-05 15:55:47,271] Trial 140 finished with value: 0.11499997973442078 and parameters: {'n_hidden': 2, 'n_units': 104, 'learning_rate': 0.0015467860620255207}. Best is trial 59 with value: 0.08986169844865799.\n",
      "[I 2023-07-05 15:55:47,346] Trial 141 finished with value: 0.10680790990591049 and parameters: {'n_hidden': 2, 'n_units': 80, 'learning_rate': 0.0017166110020320376}. Best is trial 59 with value: 0.08986169844865799.\n",
      "[I 2023-07-05 15:55:47,639] Trial 143 finished with value: 0.09722792357206345 and parameters: {'n_hidden': 2, 'n_units': 33, 'learning_rate': 0.015529615940164035}. Best is trial 59 with value: 0.08986169844865799.\n",
      "[I 2023-07-05 15:55:47,840] Trial 142 finished with value: 0.1025228351354599 and parameters: {'n_hidden': 2, 'n_units': 105, 'learning_rate': 0.001432597554471499}. Best is trial 59 with value: 0.08986169844865799.\n",
      "[I 2023-07-05 15:55:48,203] Trial 144 finished with value: 0.10340000689029694 and parameters: {'n_hidden': 2, 'n_units': 105, 'learning_rate': 0.0157108839509918}. Best is trial 59 with value: 0.08986169844865799.\n",
      "[I 2023-07-05 15:55:48,475] Trial 145 finished with value: 0.09706313908100128 and parameters: {'n_hidden': 2, 'n_units': 107, 'learning_rate': 0.01567973985435784}. Best is trial 59 with value: 0.08986169844865799.\n",
      "[I 2023-07-05 15:55:48,507] Trial 146 finished with value: 0.1966089904308319 and parameters: {'n_hidden': 2, 'n_units': 83, 'learning_rate': 0.015954174898769827}. Best is trial 59 with value: 0.08986169844865799.\n",
      "[I 2023-07-05 15:55:48,612] Trial 147 finished with value: 0.10904179513454437 and parameters: {'n_hidden': 2, 'n_units': 83, 'learning_rate': 0.015939141423164466}. Best is trial 59 with value: 0.08986169844865799.\n",
      "[I 2023-07-05 15:55:48,884] Trial 149 finished with value: 0.11602883040904999 and parameters: {'n_hidden': 2, 'n_units': 109, 'learning_rate': 0.011805868096960976}. Best is trial 59 with value: 0.08986169844865799.\n",
      "[I 2023-07-05 15:55:48,921] Trial 148 finished with value: 0.11734224855899811 and parameters: {'n_hidden': 2, 'n_units': 108, 'learning_rate': 0.01641010335742711}. Best is trial 59 with value: 0.08986169844865799.\n"
     ]
    }
   ],
   "source": [
    "import tensorflow\n",
    "from keras import Sequential\n",
    "from keras.layers import Dense\n",
    "\n",
    "def create_model(trial):\n",
    "\n",
    "    n_hidden = trial.suggest_int('n_hidden', 2, 5)\n",
    "    n_units = trial.suggest_int('n_units', 32, 128)\n",
    "    learning_rate = trial.suggest_float('learning_rate', 1e-5, 1e-1)\n",
    "\n",
    "    model = Sequential()\n",
    "    model.add(Dense(n_units, input_dim=X_train.shape[1], activation='relu'))\n",
    "\n",
    "    for i in range(n_hidden):\n",
    "        model.add(Dense(n_units, activation='relu'))\n",
    "\n",
    "    model.add(Dense(1))\n",
    "    model.compile(loss='mean_squared_error',\n",
    "                  optimizer=tensorflow.keras.optimizers.legacy.Adam(learning_rate=learning_rate),\n",
    "                  metrics=tensorflow.keras.metrics.MeanSquaredError())\n",
    "    return model\n",
    "\n",
    "\n",
    "# objective function to be minimized\n",
    "def objective_fun(trial):\n",
    "\n",
    "    model = create_model(trial)\n",
    "    model.fit(X_train, y_train, epochs=30, batch_size=128, validation_data=(X_valid, y_valid), verbose=False)\n",
    "\n",
    "    error = model.evaluate(X_valid, y_valid, verbose=False)[1]\n",
    "\n",
    "    return error\n",
    "\n",
    "\n",
    "study = optuna.create_study()\n",
    "study.optimize(objective_fun, n_trials=150, n_jobs=-1)"
   ]
  },
  {
   "cell_type": "code",
   "execution_count": 18,
   "metadata": {
    "ExecuteTime": {
     "end_time": "2023-07-05T13:55:48.929161Z",
     "start_time": "2023-07-05T13:55:48.926101Z"
    }
   },
   "outputs": [
    {
     "data": {
      "text/plain": [
       "{'n_hidden': 2, 'n_units': 82, 'learning_rate': 0.004140458225623367}"
      ]
     },
     "execution_count": 18,
     "metadata": {},
     "output_type": "execute_result"
    }
   ],
   "source": [
    "study.best_params"
   ]
  },
  {
   "cell_type": "code",
   "execution_count": 19,
   "metadata": {
    "ExecuteTime": {
     "end_time": "2023-07-05T13:55:49.633885Z",
     "start_time": "2023-07-05T13:55:48.929718Z"
    }
   },
   "outputs": [
    {
     "name": "stdout",
     "output_type": "stream",
     "text": [
      "12/12 [==============================] - 0s 373us/step\n",
      "Normalized root mean squared error = 0.1112\n",
      "R-squared = 0.7135\n"
     ]
    }
   ],
   "source": [
    "model = create_model(study.best_trial)\n",
    "model.fit(X_train, y_train, epochs=30, batch_size=128, validation_data=(X_valid, y_valid), verbose=False)\n",
    "\n",
    "y_pred_test = model.predict(X_test)\n",
    "\n",
    "nrmse = np.sqrt(mean_squared_error(y_test, y_pred_test)) / (np.max(y_test) - np.min(y_test))\n",
    "\n",
    "print('Normalized root mean squared error = %.4f' % nrmse)\n",
    "print('R-squared = %.4f' % r2_score(y_test, y_pred_test))"
   ]
  },
  {
   "cell_type": "code",
   "execution_count": 20,
   "metadata": {
    "ExecuteTime": {
     "end_time": "2023-07-05T13:55:49.675859Z",
     "start_time": "2023-07-05T13:55:49.634286Z"
    }
   },
   "outputs": [
    {
     "name": "stdout",
     "output_type": "stream",
     "text": [
      "32/32 [==============================] - 0s 360us/step\n"
     ]
    },
    {
     "data": {
      "text/plain": [
       "array([[8.6617349e-03],\n",
       "       [7.2602951e-03],\n",
       "       [6.8969247e-03],\n",
       "       ...,\n",
       "       [6.0369821e-05],\n",
       "       [6.5179462e-05],\n",
       "       [4.5442142e-05]], dtype=float32)"
      ]
     },
     "execution_count": 20,
     "metadata": {},
     "output_type": "execute_result"
    }
   ],
   "source": [
    "y_pred = model.predict(X_to_pred)\n",
    "y_pred = np.power(10, y_pred)\n",
    "y_pred"
   ]
  },
  {
   "cell_type": "code",
   "execution_count": 21,
   "metadata": {
    "ExecuteTime": {
     "end_time": "2023-07-05T13:55:49.710740Z",
     "start_time": "2023-07-05T13:55:49.676452Z"
    }
   },
   "outputs": [],
   "source": [
    "df_zero_ann = df_zero.copy()\n",
    "df_ann = df.copy()\n",
    "\n",
    "df_zero_ann[TARGET] = y_pred\n",
    "df_ann.update(df_zero_ann)"
   ]
  },
  {
   "cell_type": "code",
   "execution_count": 22,
   "metadata": {
    "ExecuteTime": {
     "end_time": "2023-07-05T13:55:49.928617Z",
     "start_time": "2023-07-05T13:55:49.710877Z"
    }
   },
   "outputs": [
    {
     "data": {
      "image/png": "[encoded data removed]",
      "text/plain": [
       "<Figure size 640x480 with 1 Axes>"
      ]
     },
     "metadata": {},
     "output_type": "display_data"
    }
   ],
   "source": [
    "sns.histplot(data=df_ann, x=TARGET, stat='density')\n",
    "plt.xlabel(f'{TARGET}')\n",
    "plt.ylabel('Density')\n",
    "plt.title(f'Distribution of {TARGET}')\n",
    "plt.savefig(os.path.join(IMAGE_FOLDER, 'ann_stft_min_distr.pdf'), format='pdf')\n",
    "plt.show()"
   ]
  },
  {
   "cell_type": "code",
   "execution_count": 23,
   "metadata": {
    "ExecuteTime": {
     "end_time": "2023-07-05T13:55:50.301321Z",
     "start_time": "2023-07-05T13:55:49.936988Z"
    }
   },
   "outputs": [
    {
     "data": {
      "image/png": "[encoded data removed]",
      "text/plain": [
       "<Figure size 640x480 with 1 Axes>"
      ]
     },
     "metadata": {},
     "output_type": "display_data"
    }
   ],
   "source": [
    "sns.histplot(data=df_ann, x=TARGET, stat='density', log_scale=True)\n",
    "plt.xlabel(f'{TARGET}')\n",
    "plt.ylabel('Density')\n",
    "plt.title(f'Log-scaled distribution of {TARGET}')\n",
    "plt.savefig(os.path.join(IMAGE_FOLDER, 'ann_stft_min_logscale_distr.pdf'), format='pdf')\n",
    "plt.show()"
   ]
  },
  {
   "cell_type": "code",
   "execution_count": 24,
   "metadata": {
    "ExecuteTime": {
     "end_time": "2023-07-05T13:55:50.356835Z",
     "start_time": "2023-07-05T13:55:50.301091Z"
    }
   },
   "outputs": [
    {
     "data": {
      "text/plain": [
       "'\\\\begin{tabular}{lrrr}\\n\\\\toprule\\n & n_hidden & n_units & learning_rate \\\\\\\\\\n\\\\midrule\\n0 & 2 & 82 & 0.004140 \\\\\\\\\\n\\\\bottomrule\\n\\\\end{tabular}\\n'"
      ]
     },
     "execution_count": 24,
     "metadata": {},
     "output_type": "execute_result"
    }
   ],
   "source": [
    "pd.DataFrame(study.best_params, index=[0]).to_latex()"
   ]
  },
  {
   "cell_type": "code",
   "execution_count": 24,
   "metadata": {
    "ExecuteTime": {
     "end_time": "2023-07-05T13:55:50.356914Z",
     "start_time": "2023-07-05T13:55:50.351668Z"
    }
   },
   "outputs": [],
   "source": []
  }
 ],
 "metadata": {
  "kernelspec": {
   "display_name": "Python 3 (ipykernel)",
   "language": "python",
   "name": "python3"
  },
  "language_info": {
   "codemirror_mode": {
    "name": "ipython",
    "version": 3
   },
   "file_extension": ".py",
   "mimetype": "text/x-python",
   "name": "python",
   "nbconvert_exporter": "python",
   "pygments_lexer": "ipython3",
   "version": "3.10.6"
  }
 },
 "nbformat": 4,
 "nbformat_minor": 1
}
