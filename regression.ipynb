{
 "cells": [
  {
   "cell_type": "code",
   "execution_count": 1,
   "metadata": {
    "ExecuteTime": {
     "end_time": "2023-07-05T13:53:04.495809Z",
     "start_time": "2023-07-05T13:53:04.209565Z"
    }
   },
   "outputs": [
    {
     "name": "stdout",
     "output_type": "stream",
     "text": [
      "font sizes set\n"
     ]
    }
   ],
   "source": [
    "import os\n",
    "import re\n",
    "\n",
    "import numpy as np\n",
    "import pandas as pd\n",
    "import matplotlib.pyplot as plt\n",
    "import seaborn as sns; sns.set()\n",
    "\n",
    "from pandas.core.dtypes.common import is_numeric_dtype\n",
    "from sklearn.feature_selection import mutual_info_regression, f_regression, SelectKBest\n",
    "from sklearn.preprocessing import MinMaxScaler\n",
    "\n",
    "%load_ext autoreload\n",
    "%autoreload 2\n",
    "import default_style"
   ]
  },
  {
   "cell_type": "code",
   "execution_count": 2,
   "metadata": {
    "ExecuteTime": {
     "end_time": "2023-07-05T13:53:04.498191Z",
     "start_time": "2023-07-05T13:53:04.496344Z"
    }
   },
   "outputs": [],
   "source": [
    "DATA_FOLDER = 'dataset'\n",
    "IMAGE_FOLDER = 'images'\n",
    "DATASET = os.path.join(DATA_FOLDER, 'outliers_removed.csv')"
   ]
  },
  {
   "cell_type": "code",
   "execution_count": 3,
   "metadata": {
    "ExecuteTime": {
     "end_time": "2023-07-05T13:53:04.589623Z",
     "start_time": "2023-07-05T13:53:04.499693Z"
    }
   },
   "outputs": [
    {
     "data": {
      "text/html": [
       "<div>\n",
       "<style scoped>\n",
       "    .dataframe tbody tr th:only-of-type {\n",
       "        vertical-align: middle;\n",
       "    }\n",
       "\n",
       "    .dataframe tbody tr th {\n",
       "        vertical-align: top;\n",
       "    }\n",
       "\n",
       "    .dataframe thead th {\n",
       "        text-align: right;\n",
       "    }\n",
       "</style>\n",
       "<table border=\"1\" class=\"dataframe\">\n",
       "  <thead>\n",
       "    <tr style=\"text-align: right;\">\n",
       "      <th></th>\n",
       "      <th>frame_count</th>\n",
       "      <th>sum</th>\n",
       "      <th>mean</th>\n",
       "      <th>std</th>\n",
       "      <th>min</th>\n",
       "      <th>max</th>\n",
       "      <th>q01</th>\n",
       "      <th>q05</th>\n",
       "      <th>q25</th>\n",
       "      <th>q75</th>\n",
       "      <th>...</th>\n",
       "      <th>log_lag1_max</th>\n",
       "      <th>log_lag1_q01</th>\n",
       "      <th>log_lag1_q05</th>\n",
       "      <th>log_lag1_q95</th>\n",
       "      <th>log_lag1_q99</th>\n",
       "      <th>log_lag1_kur</th>\n",
       "      <th>log_lag1_kur_w2</th>\n",
       "      <th>log_lag1_kur_w3</th>\n",
       "      <th>log_lag1_min_w4</th>\n",
       "      <th>log_lag1_kur_w4</th>\n",
       "    </tr>\n",
       "  </thead>\n",
       "  <tbody>\n",
       "    <tr>\n",
       "      <th>0</th>\n",
       "      <td>158558</td>\n",
       "      <td>0.145081</td>\n",
       "      <td>9.150000e-07</td>\n",
       "      <td>0.004001</td>\n",
       "      <td>-0.038422</td>\n",
       "      <td>0.040588</td>\n",
       "      <td>-0.012586</td>\n",
       "      <td>-0.005890</td>\n",
       "      <td>-0.000031</td>\n",
       "      <td>0.0</td>\n",
       "      <td>...</td>\n",
       "      <td>-1.737299</td>\n",
       "      <td>-2.791174</td>\n",
       "      <td>-3.285001</td>\n",
       "      <td>-3.285001</td>\n",
       "      <td>-2.767262</td>\n",
       "      <td>1.714222</td>\n",
       "      <td>1.023989</td>\n",
       "      <td>1.340758</td>\n",
       "      <td>-4.214420</td>\n",
       "      <td>0.794669</td>\n",
       "    </tr>\n",
       "    <tr>\n",
       "      <th>1</th>\n",
       "      <td>160160</td>\n",
       "      <td>0.114319</td>\n",
       "      <td>7.137790e-07</td>\n",
       "      <td>0.004283</td>\n",
       "      <td>-0.042603</td>\n",
       "      <td>0.048157</td>\n",
       "      <td>-0.013550</td>\n",
       "      <td>-0.006104</td>\n",
       "      <td>-0.000031</td>\n",
       "      <td>0.0</td>\n",
       "      <td>...</td>\n",
       "      <td>-1.965222</td>\n",
       "      <td>-2.759575</td>\n",
       "      <td>-3.260177</td>\n",
       "      <td>-3.260177</td>\n",
       "      <td>-2.737299</td>\n",
       "      <td>1.624565</td>\n",
       "      <td>1.059026</td>\n",
       "      <td>1.472091</td>\n",
       "      <td>-4.214420</td>\n",
       "      <td>0.970269</td>\n",
       "    </tr>\n",
       "    <tr>\n",
       "      <th>2</th>\n",
       "      <td>156956</td>\n",
       "      <td>0.149963</td>\n",
       "      <td>9.554485e-07</td>\n",
       "      <td>0.005084</td>\n",
       "      <td>-0.037018</td>\n",
       "      <td>0.058472</td>\n",
       "      <td>-0.015822</td>\n",
       "      <td>-0.007294</td>\n",
       "      <td>0.000000</td>\n",
       "      <td>0.0</td>\n",
       "      <td>...</td>\n",
       "      <td>-1.710629</td>\n",
       "      <td>-2.561207</td>\n",
       "      <td>-3.135239</td>\n",
       "      <td>-3.135239</td>\n",
       "      <td>-2.537726</td>\n",
       "      <td>1.736630</td>\n",
       "      <td>1.113757</td>\n",
       "      <td>1.190945</td>\n",
       "      <td>-4.038329</td>\n",
       "      <td>1.027423</td>\n",
       "    </tr>\n",
       "    <tr>\n",
       "      <th>3</th>\n",
       "      <td>152152</td>\n",
       "      <td>0.139618</td>\n",
       "      <td>9.176213e-07</td>\n",
       "      <td>0.004886</td>\n",
       "      <td>-0.036652</td>\n",
       "      <td>0.062683</td>\n",
       "      <td>-0.014923</td>\n",
       "      <td>-0.006714</td>\n",
       "      <td>-0.000031</td>\n",
       "      <td>0.0</td>\n",
       "      <td>...</td>\n",
       "      <td>-1.695906</td>\n",
       "      <td>-2.524224</td>\n",
       "      <td>-3.135239</td>\n",
       "      <td>-3.135239</td>\n",
       "      <td>-2.519815</td>\n",
       "      <td>1.724345</td>\n",
       "      <td>1.085937</td>\n",
       "      <td>1.236662</td>\n",
       "      <td>-4.038329</td>\n",
       "      <td>0.715249</td>\n",
       "    </tr>\n",
       "    <tr>\n",
       "      <th>4</th>\n",
       "      <td>169769</td>\n",
       "      <td>0.137665</td>\n",
       "      <td>8.108948e-07</td>\n",
       "      <td>0.002956</td>\n",
       "      <td>-0.026245</td>\n",
       "      <td>0.026215</td>\n",
       "      <td>-0.009399</td>\n",
       "      <td>-0.004364</td>\n",
       "      <td>-0.000031</td>\n",
       "      <td>0.0</td>\n",
       "      <td>...</td>\n",
       "      <td>-2.176993</td>\n",
       "      <td>-2.902666</td>\n",
       "      <td>-3.401507</td>\n",
       "      <td>-3.401507</td>\n",
       "      <td>-2.871997</td>\n",
       "      <td>1.647124</td>\n",
       "      <td>1.113935</td>\n",
       "      <td>1.345926</td>\n",
       "      <td>-4.214420</td>\n",
       "      <td>0.706650</td>\n",
       "    </tr>\n",
       "  </tbody>\n",
       "</table>\n",
       "<p>5 rows × 243 columns</p>\n",
       "</div>"
      ],
      "text/plain": [
       "   frame_count       sum          mean       std       min       max  \\\n",
       "0       158558  0.145081  9.150000e-07  0.004001 -0.038422  0.040588   \n",
       "1       160160  0.114319  7.137790e-07  0.004283 -0.042603  0.048157   \n",
       "2       156956  0.149963  9.554485e-07  0.005084 -0.037018  0.058472   \n",
       "3       152152  0.139618  9.176213e-07  0.004886 -0.036652  0.062683   \n",
       "4       169769  0.137665  8.108948e-07  0.002956 -0.026245  0.026215   \n",
       "\n",
       "        q01       q05       q25  q75  ...  log_lag1_max  log_lag1_q01  \\\n",
       "0 -0.012586 -0.005890 -0.000031  0.0  ...     -1.737299     -2.791174   \n",
       "1 -0.013550 -0.006104 -0.000031  0.0  ...     -1.965222     -2.759575   \n",
       "2 -0.015822 -0.007294  0.000000  0.0  ...     -1.710629     -2.561207   \n",
       "3 -0.014923 -0.006714 -0.000031  0.0  ...     -1.695906     -2.524224   \n",
       "4 -0.009399 -0.004364 -0.000031  0.0  ...     -2.176993     -2.902666   \n",
       "\n",
       "   log_lag1_q05  log_lag1_q95  log_lag1_q99  log_lag1_kur  log_lag1_kur_w2  \\\n",
       "0     -3.285001     -3.285001     -2.767262      1.714222         1.023989   \n",
       "1     -3.260177     -3.260177     -2.737299      1.624565         1.059026   \n",
       "2     -3.135239     -3.135239     -2.537726      1.736630         1.113757   \n",
       "3     -3.135239     -3.135239     -2.519815      1.724345         1.085937   \n",
       "4     -3.401507     -3.401507     -2.871997      1.647124         1.113935   \n",
       "\n",
       "   log_lag1_kur_w3  log_lag1_min_w4  log_lag1_kur_w4  \n",
       "0         1.340758        -4.214420         0.794669  \n",
       "1         1.472091        -4.214420         0.970269  \n",
       "2         1.190945        -4.038329         1.027423  \n",
       "3         1.236662        -4.038329         0.715249  \n",
       "4         1.345926        -4.214420         0.706650  \n",
       "\n",
       "[5 rows x 243 columns]"
      ]
     },
     "execution_count": 3,
     "metadata": {},
     "output_type": "execute_result"
    }
   ],
   "source": [
    "df = pd.read_csv(DATASET)\n",
    "\n",
    "df.repetition = df.repetition.apply(str)\n",
    "\n",
    "numerical_attr_list = [col for col in df.columns if is_numeric_dtype(df[col])]\n",
    "categorical_attr_list = [col for col in df.columns if not is_numeric_dtype(df[col])]\n",
    "\n",
    "# one hot encoding\n",
    "df_reg = df.drop(columns=categorical_attr_list)\n",
    "# df_reg = df_reg.join(pd.get_dummies(df[categorical_attr_list], columns=categorical_attr_list).astype(int))\n",
    "\n",
    "df_reg.head()"
   ]
  },
  {
   "cell_type": "code",
   "execution_count": 4,
   "metadata": {
    "ExecuteTime": {
     "end_time": "2023-07-05T13:53:04.594187Z",
     "start_time": "2023-07-05T13:53:04.591205Z"
    }
   },
   "outputs": [
    {
     "data": {
      "text/plain": [
       "stft_min    False\n",
       "sc_min      False\n",
       "dtype: bool"
      ]
     },
     "execution_count": 4,
     "metadata": {},
     "output_type": "execute_result"
    }
   ],
   "source": [
    "features_to_correct = ['stft_min', 'sc_min']\n",
    "(df[features_to_correct] < 0).any()"
   ]
  },
  {
   "cell_type": "markdown",
   "metadata": {},
   "source": [
    "# stft_min"
   ]
  },
  {
   "cell_type": "code",
   "execution_count": 5,
   "metadata": {
    "ExecuteTime": {
     "end_time": "2023-07-05T13:53:04.600391Z",
     "start_time": "2023-07-05T13:53:04.595004Z"
    }
   },
   "outputs": [
    {
     "data": {
      "text/plain": [
       "['mfcc_q50',\n",
       " 'sc_q01',\n",
       " 'sc_q05',\n",
       " 'stft_q01',\n",
       " 'stft_q05',\n",
       " 'mfcc_q25_w1',\n",
       " 'mfcc_q50_w1',\n",
       " 'sc_q01_w1',\n",
       " 'sc_q05_w1',\n",
       " 'sc_q25_w1',\n",
       " 'stft_q01_w1',\n",
       " 'stft_q05_w1',\n",
       " 'q50_w2',\n",
       " 'q50_w3',\n",
       " 'lag1_q50_w3',\n",
       " 'q75_w4',\n",
       " 'sc_min']"
      ]
     },
     "execution_count": 5,
     "metadata": {},
     "output_type": "execute_result"
    }
   ],
   "source": [
    "TARGET = 'stft_min'\n",
    "\n",
    "# drop quantile columns with high percentage of zeros (20%)\n",
    "zero_percentage = (df_reg == 0).mean()\n",
    "to_drop = [col for col in df_reg.columns if zero_percentage[col] > 0.2 and re.search(r'q\\d{2}', col)]\n",
    "to_drop.append('sc_min')\n",
    "df_reg = df_reg.drop(columns=to_drop)\n",
    "to_drop"
   ]
  },
  {
   "cell_type": "code",
   "execution_count": 6,
   "metadata": {
    "ExecuteTime": {
     "end_time": "2023-07-05T13:53:04.966099Z",
     "start_time": "2023-07-05T13:53:04.602562Z"
    }
   },
   "outputs": [
    {
     "data": {
      "image/png": "[encoded data removed]",
      "text/plain": [
       "<Figure size 354.331x236.22 with 1 Axes>"
      ]
     },
     "metadata": {},
     "output_type": "display_data"
    }
   ],
   "source": [
    "sns.histplot(data=df, x=df[TARGET])\n",
    "plt.xlabel(f'{TARGET}')\n",
    "plt.ylabel('Count')\n",
    "plt.title(f'Distribution of {TARGET}')\n",
    "plt.savefig(os.path.join(IMAGE_FOLDER, 'initial_stft_min_distr.pdf'), format='pdf')\n",
    "plt.show()"
   ]
  },
  {
   "cell_type": "code",
   "execution_count": 7,
   "metadata": {
    "ExecuteTime": {
     "end_time": "2023-07-05T13:53:05.069570Z",
     "start_time": "2023-07-05T13:53:04.968489Z"
    }
   },
   "outputs": [
    {
     "name": "stdout",
     "output_type": "stream",
     "text": [
      "1135 284\n"
     ]
    }
   ],
   "source": [
    "from sklearn.model_selection import train_test_split\n",
    "\n",
    "# Take all numerical attributes except for TARGET\n",
    "df_target_excluded = df_reg[list(set([col for col in df_reg.columns if is_numeric_dtype(df_reg[col])]) - set([TARGET]))]\n",
    "X = df_target_excluded.values\n",
    "X = MinMaxScaler().fit_transform(X)\n",
    "target = df[TARGET].values\n",
    "\n",
    "# identifies bad rows, the ones han=ving a null TARGET\n",
    "bad_kids = (target==0)\n",
    "\n",
    "# Transforms to log scale the good ones\n",
    "# So bad ones wll be predicted already in log scale\n",
    "y = target.copy()\n",
    "y[~bad_kids] = np.log10(y[~bad_kids])\n",
    "\n",
    "# Defines a train and validation set\n",
    "train_idxs, val_idxs = train_test_split(np.arange(len(y[~bad_kids])),  test_size=0.2)\n",
    "\n",
    "print(len(train_idxs), len(val_idxs))"
   ]
  },
  {
   "cell_type": "code",
   "execution_count": 20,
   "metadata": {
    "ExecuteTime": {
     "end_time": "2023-07-05T13:53:05.591651Z",
     "start_time": "2023-07-05T13:53:05.068701Z"
    }
   },
   "outputs": [
    {
     "name": "stdout",
     "output_type": "stream",
     "text": [
      "invalid literal for int() with base 10: 'd'\n"
     ]
    },
    {
     "data": {
      "image/png": "[encoded data removed]",
      "text/plain": [
       "<Figure size 708.661x157.48 with 1 Axes>"
      ]
     },
     "metadata": {},
     "output_type": "display_data"
    }
   ],
   "source": [
    "f_selector = SelectKBest(score_func=mutual_info_regression, k='all')\n",
    "f_selector.fit(X[~bad_kids][train_idxs], y[~bad_kids][train_idxs])\n",
    "\n",
    "M = 10\n",
    "best_features = np.flip(np.argsort(f_selector.scores_)[-M:])\n",
    "\n",
    "# ADD some colors BITCHESSSSS\n",
    "colors = [\"gray\"]\n",
    "colors += sns.color_palette(\"rainbow\", n_colors=3) #[\"gray\", \"b\", \"r\", \"g\", \"orange\"]\n",
    "bar_colors = []\n",
    "for col in df_target_excluded.columns[best_features]:\n",
    "    try:\n",
    "        window = col.split(\"_\")[-1]\n",
    "        window = int(window[-1])        \n",
    "    except ValueError as e:\n",
    "        print(e)\n",
    "        window = 0\n",
    "    if window <= 3:\n",
    "        bar_colors.append(colors[window])\n",
    "    else:\n",
    "        bar_colors.append(colors[0])\n",
    "\n",
    "# Do the barplot\n",
    "\n",
    "plt.figure(figsize=default_style.BAND_FULLSIZE_FIGURE)\n",
    "plt.bar(range(M), f_selector.scores_[best_features], color=bar_colors, width=0.5)\n",
    "plt.xticks([])\n",
    "plt.ylabel('Score')\n",
    "\n",
    "# Plot the names \n",
    "for i, kid in enumerate(best_features):\n",
    "    if kid < len(df_target_excluded.columns):\n",
    "        plt.annotate(df_target_excluded.columns[kid], (i-0.4, 0.1), rotation=90, ha=\"center\", fontsize=9)\n",
    "    else:\n",
    "        print(f\"kid {kid} was over range\")\n",
    "\n",
    "plt.savefig(os.path.join(IMAGE_FOLDER, 'kbest_features_stft_min.pdf'), format='pdf')\n",
    "plt.show()"
   ]
  },
  {
   "cell_type": "code",
   "execution_count": 9,
   "metadata": {
    "ExecuteTime": {
     "end_time": "2023-07-05T13:53:05.603503Z",
     "start_time": "2023-07-05T13:53:05.592511Z"
    }
   },
   "outputs": [],
   "source": [
    "f_selector = SelectKBest(score_func=mutual_info_regression, k=M)\n",
    "f_selector.fit(X[~bad_kids][train_idxs], y[~bad_kids][train_idxs])\n",
    "\n",
    "X_selected = f_selector.transform(X)"
   ]
  },
  {
   "cell_type": "markdown",
   "metadata": {},
   "source": [
    "## Now add back the categorical attributes"
   ]
  },
  {
   "cell_type": "code",
   "execution_count": 10,
   "metadata": {},
   "outputs": [
    {
     "name": "stdout",
     "output_type": "stream",
     "text": [
      "selected_num (2429, 10)\n",
      "cat (1419, 7)\n",
      "cat + selected_num (2429, 17)\n"
     ]
    }
   ],
   "source": [
    "df_categories = pd.DataFrame()\n",
    "for cat in categorical_attr_list:\n",
    "    df_categories[cat] = pd.Categorical(df[cat]).codes\n",
    "X_cat = df_categories.values\n",
    "\n",
    "# Join using vstack on transpose\n",
    "print(\"selected_num\", X_selected.shape)\n",
    "print(\"cat\", X_cat[~bad_kids].shape)\n",
    "\n",
    "X_cat_selected = np.vstack((X_selected.T, X_cat.T)).T\n",
    "print(\"cat + selected_num\", X_cat_selected.shape)"
   ]
  },
  {
   "cell_type": "markdown",
   "metadata": {},
   "source": [
    "## XGBoost"
   ]
  },
  {
   "cell_type": "code",
   "execution_count": 11,
   "metadata": {
    "ExecuteTime": {
     "end_time": "2023-07-05T13:54:44.070071Z",
     "start_time": "2023-07-05T13:53:05.612422Z"
    }
   },
   "outputs": [
    {
     "name": "stderr",
     "output_type": "stream",
     "text": [
      "[I 2023-07-13 00:44:35,219] A new study created in memory with name: no-name-d2bdb75d-ac0d-4307-a591-e0babc6c8b3f\n",
      "[I 2023-07-13 00:44:36,438] Trial 2 finished with value: 0.880153577498951 and parameters: {'booster': 'gbtree', 'gamma': 0.9798074818285318, 'max_depth': 4, 'min_child_weight': 2, 'subsample': 0.9582579819255779, 'learning_rate': 0.07281115297970724}. Best is trial 2 with value: 0.880153577498951.\n",
      "[I 2023-07-13 00:44:38,121] Trial 1 finished with value: 0.8449258062813849 and parameters: {'booster': 'gbtree', 'gamma': 3.4998415412463246, 'max_depth': 11, 'min_child_weight': 1, 'subsample': 0.4858728598187205, 'learning_rate': 0.08772355240213739}. Best is trial 2 with value: 0.880153577498951.\n",
      "[I 2023-07-13 00:44:38,787] Trial 0 finished with value: 0.7918018102476243 and parameters: {'booster': 'gbtree', 'gamma': 4.426340452203102, 'max_depth': 20, 'min_child_weight': 3, 'subsample': 0.7695467098159298, 'learning_rate': 0.03361374402468081}. Best is trial 2 with value: 0.880153577498951.\n",
      "[I 2023-07-13 00:44:39,773] Trial 4 finished with value: 0.8670670526340793 and parameters: {'booster': 'gbtree', 'gamma': 2.0863696548532102, 'max_depth': 18, 'min_child_weight': 3, 'subsample': 0.693732014862247, 'learning_rate': 0.06310716208084727}. Best is trial 2 with value: 0.880153577498951.\n",
      "[I 2023-07-13 00:44:40,283] Trial 7 finished with value: -0.31513868340448004 and parameters: {'booster': 'gbtree', 'gamma': 1.8492477585240814, 'max_depth': 3, 'min_child_weight': 3, 'subsample': 0.8189237908304701, 'learning_rate': 0.017794309816453607}. Best is trial 2 with value: 0.880153577498951.\n",
      "[I 2023-07-13 00:44:40,816] Trial 3 finished with value: 0.8643279317502273 and parameters: {'booster': 'dart', 'gamma': 2.3907548994474324, 'max_depth': 15, 'min_child_weight': 3, 'subsample': 0.6691322690872621, 'learning_rate': 0.09656908073026105}. Best is trial 2 with value: 0.880153577498951.\n",
      "[I 2023-07-13 00:44:41,397] Trial 5 finished with value: 0.8210109589759347 and parameters: {'booster': 'dart', 'gamma': 4.469762659149476, 'max_depth': 8, 'min_child_weight': 1, 'subsample': 0.6473176749896705, 'learning_rate': 0.05176792794418915}. Best is trial 2 with value: 0.880153577498951.\n",
      "[I 2023-07-13 00:44:41,697] Trial 8 finished with value: 0.8354785837690641 and parameters: {'booster': 'gbtree', 'gamma': 1.2564026803067891, 'max_depth': 9, 'min_child_weight': 2, 'subsample': 0.8286138275640004, 'learning_rate': 0.033235926956617985}. Best is trial 2 with value: 0.880153577498951.\n",
      "[I 2023-07-13 00:44:42,332] Trial 9 finished with value: 0.7067682344456819 and parameters: {'booster': 'gbtree', 'gamma': 2.1935619158096338, 'max_depth': 15, 'min_child_weight': 1, 'subsample': 0.4577963638223634, 'learning_rate': 0.027261140261853088}. Best is trial 2 with value: 0.880153577498951.\n",
      "[I 2023-07-13 00:44:42,425] Trial 6 finished with value: 0.6655576311241782 and parameters: {'booster': 'dart', 'gamma': 4.063071496983566, 'max_depth': 13, 'min_child_weight': 1, 'subsample': 0.9349736744872903, 'learning_rate': 0.026137508820443085}. Best is trial 2 with value: 0.880153577498951.\n",
      "[I 2023-07-13 00:44:43,781] Trial 10 finished with value: -50.60161579715789 and parameters: {'booster': 'dart', 'gamma': 2.089342746579205, 'max_depth': 10, 'min_child_weight': 1, 'subsample': 0.44855291981027645, 'learning_rate': 0.0057506377708051995}. Best is trial 2 with value: 0.880153577498951.\n",
      "[I 2023-07-13 00:44:44,579] Trial 14 finished with value: 0.888980462167906 and parameters: {'booster': 'gbtree', 'gamma': 0.2301332272323784, 'max_depth': 3, 'min_child_weight': 2, 'subsample': 0.9969822383054423, 'learning_rate': 0.06595796731692789}. Best is trial 14 with value: 0.888980462167906.\n",
      "[I 2023-07-13 00:44:45,098] Trial 13 finished with value: 0.8926315806627754 and parameters: {'booster': 'dart', 'gamma': 0.06348106160549816, 'max_depth': 3, 'min_child_weight': 2, 'subsample': 0.9651326266800536, 'learning_rate': 0.0741983138868035}. Best is trial 13 with value: 0.8926315806627754.\n",
      "[I 2023-07-13 00:44:45,251] Trial 15 finished with value: 0.8865972110225806 and parameters: {'booster': 'gbtree', 'gamma': 0.4621367157602908, 'max_depth': 3, 'min_child_weight': 2, 'subsample': 0.9979146801190509, 'learning_rate': 0.07404521667462098}. Best is trial 13 with value: 0.8926315806627754.\n",
      "[I 2023-07-13 00:44:45,395] Trial 11 finished with value: 0.842882331010731 and parameters: {'booster': 'dart', 'gamma': 3.3386486430827578, 'max_depth': 10, 'min_child_weight': 2, 'subsample': 0.6457638300951755, 'learning_rate': 0.09576994626087179}. Best is trial 13 with value: 0.8926315806627754.\n",
      "[I 2023-07-13 00:44:46,627] Trial 12 finished with value: 0.8652171139403075 and parameters: {'booster': 'dart', 'gamma': 1.8873257783670288, 'max_depth': 16, 'min_child_weight': 3, 'subsample': 0.6681423406572622, 'learning_rate': 0.04759178238281935}. Best is trial 13 with value: 0.8926315806627754.\n",
      "[I 2023-07-13 00:44:48,252] Trial 18 finished with value: 0.8953303060617456 and parameters: {'booster': 'dart', 'gamma': 0.11349779800095697, 'max_depth': 6, 'min_child_weight': 2, 'subsample': 0.9003813268517352, 'learning_rate': 0.05268658860420033}. Best is trial 18 with value: 0.8953303060617456.\n",
      "[I 2023-07-13 00:44:48,555] Trial 17 finished with value: 0.896437766600596 and parameters: {'booster': 'dart', 'gamma': 0.03861076610662195, 'max_depth': 6, 'min_child_weight': 2, 'subsample': 0.8968429748853888, 'learning_rate': 0.05414717026654903}. Best is trial 17 with value: 0.896437766600596.\n",
      "[I 2023-07-13 00:44:48,613] Trial 16 finished with value: 0.8959028461141275 and parameters: {'booster': 'dart', 'gamma': 0.050552735856980224, 'max_depth': 6, 'min_child_weight': 2, 'subsample': 0.9813395304438268, 'learning_rate': 0.07632914632900648}. Best is trial 17 with value: 0.896437766600596.\n",
      "[I 2023-07-13 00:44:49,708] Trial 19 finished with value: 0.8997850447343829 and parameters: {'booster': 'dart', 'gamma': 0.025156902792569963, 'max_depth': 6, 'min_child_weight': 2, 'subsample': 0.8931719382953931, 'learning_rate': 0.08065922660220626}. Best is trial 19 with value: 0.8997850447343829.\n",
      "[I 2023-07-13 00:44:51,165] Trial 20 finished with value: 0.889704459659401 and parameters: {'booster': 'dart', 'gamma': 0.006383892944433089, 'max_depth': 6, 'min_child_weight': 2, 'subsample': 0.9056677163190974, 'learning_rate': 0.04868420724921393}. Best is trial 19 with value: 0.8997850447343829.\n",
      "[I 2023-07-13 00:44:51,563] Trial 22 finished with value: 0.8905647292467945 and parameters: {'booster': 'dart', 'gamma': 0.6771106151469419, 'max_depth': 6, 'min_child_weight': 2, 'subsample': 0.8915606683187571, 'learning_rate': 0.0850944459307312}. Best is trial 19 with value: 0.8997850447343829.\n",
      "[I 2023-07-13 00:44:51,702] Trial 21 finished with value: 0.8864280499188683 and parameters: {'booster': 'dart', 'gamma': 0.7282161865525261, 'max_depth': 6, 'min_child_weight': 2, 'subsample': 0.8641755004210949, 'learning_rate': 0.047927428969841264}. Best is trial 19 with value: 0.8997850447343829.\n",
      "[I 2023-07-13 00:44:53,366] Trial 23 finished with value: 0.8925170309587803 and parameters: {'booster': 'dart', 'gamma': 0.6757555318136663, 'max_depth': 7, 'min_child_weight': 2, 'subsample': 0.885745928758154, 'learning_rate': 0.08466537812589257}. Best is trial 19 with value: 0.8997850447343829.\n",
      "[I 2023-07-13 00:44:54,599] Trial 24 finished with value: 0.8894639294101753 and parameters: {'booster': 'dart', 'gamma': 0.6912904141687737, 'max_depth': 6, 'min_child_weight': 2, 'subsample': 0.8795865690852426, 'learning_rate': 0.08427212577597984}. Best is trial 19 with value: 0.8997850447343829.\n",
      "[I 2023-07-13 00:44:55,264] Trial 25 finished with value: 0.8895163769427805 and parameters: {'booster': 'dart', 'gamma': 0.7781337479043082, 'max_depth': 7, 'min_child_weight': 2, 'subsample': 0.8533132583960934, 'learning_rate': 0.06077619520206987}. Best is trial 19 with value: 0.8997850447343829.\n",
      "[I 2023-07-13 00:44:55,724] Trial 26 finished with value: 0.8831766375007455 and parameters: {'booster': 'dart', 'gamma': 1.2413017148080652, 'max_depth': 8, 'min_child_weight': 2, 'subsample': 0.9265001709314208, 'learning_rate': 0.08383731407402853}. Best is trial 19 with value: 0.8997850447343829.\n"
     ]
    },
    {
     "name": "stderr",
     "output_type": "stream",
     "text": [
      "[I 2023-07-13 00:44:56,657] Trial 27 finished with value: 0.8781907565363128 and parameters: {'booster': 'dart', 'gamma': 1.250469935033999, 'max_depth': 5, 'min_child_weight': 2, 'subsample': 0.9315624770079722, 'learning_rate': 0.06315565167197677}. Best is trial 19 with value: 0.8997850447343829.\n",
      "[I 2023-07-13 00:44:58,242] Trial 28 finished with value: 0.8749619218689739 and parameters: {'booster': 'dart', 'gamma': 1.5087851416621074, 'max_depth': 8, 'min_child_weight': 2, 'subsample': 0.9506366246865317, 'learning_rate': 0.06277084059487356}. Best is trial 19 with value: 0.8997850447343829.\n",
      "[I 2023-07-13 00:44:59,355] Trial 29 finished with value: 0.8776904997441435 and parameters: {'booster': 'dart', 'gamma': 1.2894798732131303, 'max_depth': 12, 'min_child_weight': 3, 'subsample': 0.9337744827979966, 'learning_rate': 0.07678735002053605}. Best is trial 19 with value: 0.8997850447343829.\n",
      "[I 2023-07-13 00:44:59,726] Trial 30 finished with value: 0.8973688580154876 and parameters: {'booster': 'dart', 'gamma': 0.4205015103479773, 'max_depth': 12, 'min_child_weight': 3, 'subsample': 0.9536814659897997, 'learning_rate': 0.06892573840435294}. Best is trial 19 with value: 0.8997850447343829.\n",
      "[I 2023-07-13 00:45:01,026] Trial 31 finished with value: 0.8958044955024685 and parameters: {'booster': 'dart', 'gamma': 0.43666795237516887, 'max_depth': 12, 'min_child_weight': 3, 'subsample': 0.7833997229179472, 'learning_rate': 0.07554214711688452}. Best is trial 19 with value: 0.8997850447343829.\n",
      "[I 2023-07-13 00:45:01,054] Trial 32 finished with value: 0.8827162776230816 and parameters: {'booster': 'dart', 'gamma': 0.2951599516225739, 'max_depth': 5, 'min_child_weight': 3, 'subsample': 0.7663531441323868, 'learning_rate': 0.040430018097837785}. Best is trial 19 with value: 0.8997850447343829.\n",
      "[I 2023-07-13 00:45:05,302] Trial 34 finished with value: 0.9001433780362986 and parameters: {'booster': 'dart', 'gamma': 0.37737518183645863, 'max_depth': 12, 'min_child_weight': 3, 'subsample': 0.7914031863732107, 'learning_rate': 0.06827582679298613}. Best is trial 34 with value: 0.9001433780362986.\n",
      "[I 2023-07-13 00:45:06,995] Trial 36 finished with value: 0.8929541068648158 and parameters: {'booster': 'dart', 'gamma': 0.39458790677809674, 'max_depth': 10, 'min_child_weight': 1, 'subsample': 0.981482594494079, 'learning_rate': 0.06820637350223623}. Best is trial 34 with value: 0.9001433780362986.\n",
      "[I 2023-07-13 00:45:07,145] Trial 33 finished with value: 0.8959863248937623 and parameters: {'booster': 'dart', 'gamma': 0.36300754013126707, 'max_depth': 20, 'min_child_weight': 1, 'subsample': 0.7727168636852098, 'learning_rate': 0.09116323654666741}. Best is trial 34 with value: 0.9001433780362986.\n",
      "[I 2023-07-13 00:45:08,210] Trial 35 finished with value: 0.8946671657614385 and parameters: {'booster': 'dart', 'gamma': 0.34091495022189033, 'max_depth': 20, 'min_child_weight': 3, 'subsample': 0.995181676633438, 'learning_rate': 0.06925488706988553}. Best is trial 34 with value: 0.9001433780362986.\n",
      "[I 2023-07-13 00:45:11,351] Trial 37 finished with value: 0.8995530141351908 and parameters: {'booster': 'dart', 'gamma': 0.3366692665293663, 'max_depth': 14, 'min_child_weight': 3, 'subsample': 0.844351317446209, 'learning_rate': 0.0678245595433791}. Best is trial 34 with value: 0.9001433780362986.\n",
      "[I 2023-07-13 00:45:12,191] Trial 38 finished with value: 0.8811782384759753 and parameters: {'booster': 'dart', 'gamma': 0.9483538462303671, 'max_depth': 14, 'min_child_weight': 3, 'subsample': 0.8168067250484918, 'learning_rate': 0.05478261602959235}. Best is trial 34 with value: 0.9001433780362986.\n",
      "[I 2023-07-13 00:45:12,626] Trial 40 finished with value: 0.8861817512894827 and parameters: {'booster': 'dart', 'gamma': 0.9584597195994846, 'max_depth': 14, 'min_child_weight': 3, 'subsample': 0.8305426320656543, 'learning_rate': 0.057955403973998}. Best is trial 34 with value: 0.9001433780362986.\n",
      "[I 2023-07-13 00:45:12,651] Trial 39 finished with value: 0.8869712484829757 and parameters: {'booster': 'dart', 'gamma': 0.9189598992801318, 'max_depth': 13, 'min_child_weight': 3, 'subsample': 0.8476858328344252, 'learning_rate': 0.05723266588606503}. Best is trial 34 with value: 0.9001433780362986.\n",
      "[I 2023-07-13 00:45:14,912] Trial 42 finished with value: 0.8896486098721923 and parameters: {'booster': 'gbtree', 'gamma': 0.9176238239459826, 'max_depth': 13, 'min_child_weight': 3, 'subsample': 0.8471180708976319, 'learning_rate': 0.07913574969077239}. Best is trial 34 with value: 0.9001433780362986.\n",
      "[I 2023-07-13 00:45:15,565] Trial 43 finished with value: 0.8948485954363082 and parameters: {'booster': 'gbtree', 'gamma': 0.5069846394703257, 'max_depth': 16, 'min_child_weight': 3, 'subsample': 0.7236546820121171, 'learning_rate': 0.08029122178369083}. Best is trial 34 with value: 0.9001433780362986.\n",
      "[I 2023-07-13 00:45:15,753] Trial 41 finished with value: 0.8854538824874655 and parameters: {'booster': 'dart', 'gamma': 0.9928440360846884, 'max_depth': 14, 'min_child_weight': 3, 'subsample': 0.8221041337939272, 'learning_rate': 0.0567824711740927}. Best is trial 34 with value: 0.9001433780362986.\n",
      "[I 2023-07-13 00:45:16,962] Trial 44 finished with value: 0.8964364908815768 and parameters: {'booster': 'dart', 'gamma': 0.008093736962488472, 'max_depth': 11, 'min_child_weight': 3, 'subsample': 0.8992132161495276, 'learning_rate': 0.07041908590805557}. Best is trial 34 with value: 0.9001433780362986.\n",
      "[I 2023-07-13 00:45:19,896] Trial 45 finished with value: 0.8930146175477602 and parameters: {'booster': 'dart', 'gamma': 0.53452505371985, 'max_depth': 11, 'min_child_weight': 3, 'subsample': 0.9177355302018196, 'learning_rate': 0.06818256086195573}. Best is trial 34 with value: 0.9001433780362986.\n",
      "[I 2023-07-13 00:45:20,623] Trial 46 finished with value: 0.8969571043105279 and parameters: {'booster': 'dart', 'gamma': 0.20090086277842792, 'max_depth': 11, 'min_child_weight': 3, 'subsample': 0.911437510529809, 'learning_rate': 0.06809682249519157}. Best is trial 34 with value: 0.9001433780362986.\n",
      "[I 2023-07-13 00:45:21,555] Trial 47 finished with value: 0.9016556507853231 and parameters: {'booster': 'dart', 'gamma': 0.01808976370552799, 'max_depth': 11, 'min_child_weight': 3, 'subsample': 0.9172699764639223, 'learning_rate': 0.0705371550108449}. Best is trial 47 with value: 0.9016556507853231.\n",
      "[I 2023-07-13 00:45:21,945] Trial 48 finished with value: 0.8959412086197929 and parameters: {'booster': 'dart', 'gamma': 0.21654011915807814, 'max_depth': 11, 'min_child_weight': 3, 'subsample': 0.9189975202797604, 'learning_rate': 0.06712505674930984}. Best is trial 47 with value: 0.9016556507853231.\n",
      "[I 2023-07-13 00:45:26,098] Trial 52 finished with value: 0.890453123789621 and parameters: {'booster': 'gbtree', 'gamma': 0.5896228048220042, 'max_depth': 17, 'min_child_weight': 3, 'subsample': 0.9583790211893379, 'learning_rate': 0.0737508568652025}. Best is trial 47 with value: 0.9016556507853231.\n",
      "[I 2023-07-13 00:45:26,259] Trial 49 finished with value: 0.8999512137488574 and parameters: {'booster': 'dart', 'gamma': 0.22444686412124604, 'max_depth': 17, 'min_child_weight': 3, 'subsample': 0.9540982236623229, 'learning_rate': 0.0722135488100727}. Best is trial 47 with value: 0.9016556507853231.\n",
      "[I 2023-07-13 00:45:26,482] Trial 50 finished with value: 0.8949811773302271 and parameters: {'booster': 'dart', 'gamma': 0.25078549653260285, 'max_depth': 17, 'min_child_weight': 3, 'subsample': 0.9520474355843966, 'learning_rate': 0.06411506561731574}. Best is trial 47 with value: 0.9016556507853231.\n",
      "[I 2023-07-13 00:45:27,875] Trial 51 finished with value: 0.9001567451365823 and parameters: {'booster': 'dart', 'gamma': 0.32965232088619467, 'max_depth': 16, 'min_child_weight': 3, 'subsample': 0.9570486319768685, 'learning_rate': 0.09071735895835163}. Best is trial 47 with value: 0.9016556507853231.\n",
      "[I 2023-07-13 00:45:30,220] Trial 53 finished with value: 0.8978772137592045 and parameters: {'booster': 'dart', 'gamma': 0.31976891572086946, 'max_depth': 9, 'min_child_weight': 3, 'subsample': 0.9547296657750323, 'learning_rate': 0.09154511814551565}. Best is trial 47 with value: 0.9016556507853231.\n",
      "[I 2023-07-13 00:45:31,927] Trial 54 finished with value: 0.8902927794315194 and parameters: {'booster': 'dart', 'gamma': 0.5918875471314247, 'max_depth': 18, 'min_child_weight': 3, 'subsample': 0.956756871495022, 'learning_rate': 0.07251607021329769}. Best is trial 47 with value: 0.9016556507853231.\n"
     ]
    },
    {
     "name": "stderr",
     "output_type": "stream",
     "text": [
      "[I 2023-07-13 00:45:32,404] Trial 55 finished with value: 0.9002176334591754 and parameters: {'booster': 'dart', 'gamma': 0.38293162059821456, 'max_depth': 19, 'min_child_weight': 3, 'subsample': 0.8755052112650977, 'learning_rate': 0.07951746289963718}. Best is trial 47 with value: 0.9016556507853231.\n",
      "[I 2023-07-13 00:45:33,568] Trial 56 finished with value: 0.9010973872766164 and parameters: {'booster': 'dart', 'gamma': 0.16422762702436125, 'max_depth': 19, 'min_child_weight': 3, 'subsample': 0.8636789911565582, 'learning_rate': 0.09248174050288108}. Best is trial 47 with value: 0.9016556507853231.\n",
      "[I 2023-07-13 00:45:36,076] Trial 57 finished with value: 0.9003075412118333 and parameters: {'booster': 'dart', 'gamma': 0.1687323667775872, 'max_depth': 19, 'min_child_weight': 3, 'subsample': 0.8715123038640248, 'learning_rate': 0.08046393083024361}. Best is trial 47 with value: 0.9016556507853231.\n",
      "[I 2023-07-13 00:45:37,255] Trial 58 finished with value: 0.9040551816765456 and parameters: {'booster': 'dart', 'gamma': 0.1510740407006176, 'max_depth': 15, 'min_child_weight': 3, 'subsample': 0.8705465657919729, 'learning_rate': 0.09869818678375408}. Best is trial 58 with value: 0.9040551816765456.\n",
      "[I 2023-07-13 00:45:37,414] Trial 60 finished with value: 0.8995362075076585 and parameters: {'booster': 'gbtree', 'gamma': 0.2248604044161429, 'max_depth': 18, 'min_child_weight': 3, 'subsample': 0.8649380496076934, 'learning_rate': 0.0993615051967888}. Best is trial 58 with value: 0.9040551816765456.\n",
      "[I 2023-07-13 00:45:38,457] Trial 59 finished with value: 0.9025394118910257 and parameters: {'booster': 'dart', 'gamma': 0.134827660821374, 'max_depth': 19, 'min_child_weight': 3, 'subsample': 0.8817132204764708, 'learning_rate': 0.08137170751290179}. Best is trial 58 with value: 0.9040551816765456.\n",
      "[I 2023-07-13 00:45:40,020] Trial 61 finished with value: 0.8952648972476366 and parameters: {'booster': 'gbtree', 'gamma': 0.1437709667261401, 'max_depth': 19, 'min_child_weight': 3, 'subsample': 0.8725897326431049, 'learning_rate': 0.0969878155321437}. Best is trial 58 with value: 0.9040551816765456.\n",
      "[I 2023-07-13 00:45:41,308] Trial 62 finished with value: 0.8969799022778441 and parameters: {'booster': 'gbtree', 'gamma': 0.14116771050182952, 'max_depth': 19, 'min_child_weight': 3, 'subsample': 0.8759019539202322, 'learning_rate': 0.09660116067449341}. Best is trial 58 with value: 0.9040551816765456.\n",
      "[I 2023-07-13 00:45:43,690] Trial 63 finished with value: 0.900587806199808 and parameters: {'booster': 'dart', 'gamma': 0.12135911930874993, 'max_depth': 19, 'min_child_weight': 3, 'subsample': 0.8754272930833491, 'learning_rate': 0.08962522850896192}. Best is trial 58 with value: 0.9040551816765456.\n",
      "[I 2023-07-13 00:45:44,964] Trial 64 finished with value: 0.9016211020181858 and parameters: {'booster': 'dart', 'gamma': 0.01495628108089253, 'max_depth': 19, 'min_child_weight': 3, 'subsample': 0.8708745875502659, 'learning_rate': 0.08940760413312489}. Best is trial 58 with value: 0.9040551816765456.\n",
      "[I 2023-07-13 00:45:46,279] Trial 65 finished with value: 0.8971442388993407 and parameters: {'booster': 'dart', 'gamma': 0.004273521873029151, 'max_depth': 19, 'min_child_weight': 3, 'subsample': 0.8753836563149474, 'learning_rate': 0.0887161527445772}. Best is trial 58 with value: 0.9040551816765456.\n",
      "[I 2023-07-13 00:45:48,521] Trial 66 finished with value: 0.9045253492683408 and parameters: {'booster': 'dart', 'gamma': 0.01969887184602792, 'max_depth': 19, 'min_child_weight': 3, 'subsample': 0.8778549336275662, 'learning_rate': 0.08885035622890672}. Best is trial 66 with value: 0.9045253492683408.\n",
      "[I 2023-07-13 00:45:50,534] Trial 67 finished with value: 0.8960353781630073 and parameters: {'booster': 'dart', 'gamma': 0.04747037945459376, 'max_depth': 19, 'min_child_weight': 3, 'subsample': 0.8800795496668642, 'learning_rate': 0.08683195523576716}. Best is trial 66 with value: 0.9045253492683408.\n",
      "[I 2023-07-13 00:45:51,548] Trial 68 finished with value: 0.8938477729697826 and parameters: {'booster': 'dart', 'gamma': 0.05974697961870333, 'max_depth': 20, 'min_child_weight': 3, 'subsample': 0.9026046520618697, 'learning_rate': 0.08700294113582499}. Best is trial 66 with value: 0.9045253492683408.\n",
      "[I 2023-07-13 00:45:52,380] Trial 69 finished with value: 0.8972070999979587 and parameters: {'booster': 'dart', 'gamma': 0.5477130171601378, 'max_depth': 20, 'min_child_weight': 3, 'subsample': 0.89980632402329, 'learning_rate': 0.0871688196540369}. Best is trial 66 with value: 0.9045253492683408.\n",
      "[I 2023-07-13 00:45:54,199] Trial 70 finished with value: 0.8930786033530647 and parameters: {'booster': 'dart', 'gamma': 0.5690822714769244, 'max_depth': 18, 'min_child_weight': 3, 'subsample': 0.9091166775166427, 'learning_rate': 0.09311702735481056}. Best is trial 66 with value: 0.9045253492683408.\n",
      "[I 2023-07-13 00:45:56,228] Trial 71 finished with value: 0.8937532134960414 and parameters: {'booster': 'dart', 'gamma': 0.547726520038287, 'max_depth': 18, 'min_child_weight': 3, 'subsample': 0.9056989855119265, 'learning_rate': 0.09267069981599454}. Best is trial 66 with value: 0.9045253492683408.\n",
      "[I 2023-07-13 00:45:57,685] Trial 72 finished with value: 0.8917444408802537 and parameters: {'booster': 'dart', 'gamma': 0.5202772640638049, 'max_depth': 18, 'min_child_weight': 3, 'subsample': 0.9138224647538071, 'learning_rate': 0.09399401915479162}. Best is trial 66 with value: 0.9045253492683408.\n",
      "[I 2023-07-13 00:45:58,521] Trial 73 finished with value: 0.8881004045274589 and parameters: {'booster': 'dart', 'gamma': 0.7752613423268155, 'max_depth': 18, 'min_child_weight': 3, 'subsample': 0.9353117117495592, 'learning_rate': 0.09423616497507499}. Best is trial 66 with value: 0.9045253492683408.\n",
      "[I 2023-07-13 00:46:00,263] Trial 74 finished with value: 0.8961788333694923 and parameters: {'booster': 'dart', 'gamma': 0.16171950344172012, 'max_depth': 18, 'min_child_weight': 3, 'subsample': 0.8578701429223733, 'learning_rate': 0.09494739633842661}. Best is trial 66 with value: 0.9045253492683408.\n",
      "[I 2023-07-13 00:46:01,397] Trial 75 finished with value: 0.8899782066830059 and parameters: {'booster': 'dart', 'gamma': 0.7477911410939729, 'max_depth': 18, 'min_child_weight': 3, 'subsample': 0.860267422250478, 'learning_rate': 0.08285739204099088}. Best is trial 66 with value: 0.9045253492683408.\n",
      "[I 2023-07-13 00:46:02,688] Trial 76 finished with value: 0.9033481623722601 and parameters: {'booster': 'dart', 'gamma': 0.1514559457833573, 'max_depth': 17, 'min_child_weight': 3, 'subsample': 0.8549294323162033, 'learning_rate': 0.08248390820695328}. Best is trial 66 with value: 0.9045253492683408.\n",
      "[I 2023-07-13 00:46:03,590] Trial 77 finished with value: 0.9020259936252981 and parameters: {'booster': 'dart', 'gamma': 0.13283966877316433, 'max_depth': 19, 'min_child_weight': 3, 'subsample': 0.8589792610169782, 'learning_rate': 0.08911676880232737}. Best is trial 66 with value: 0.9045253492683408.\n",
      "[I 2023-07-13 00:46:05,113] Trial 78 finished with value: 0.8977422889184309 and parameters: {'booster': 'dart', 'gamma': 0.15105020680390216, 'max_depth': 19, 'min_child_weight': 3, 'subsample': 0.8368978212359428, 'learning_rate': 0.0832791500060314}. Best is trial 66 with value: 0.9045253492683408.\n",
      "[I 2023-07-13 00:46:06,546] Trial 79 finished with value: 0.903299415655898 and parameters: {'booster': 'dart', 'gamma': 0.15000216164987262, 'max_depth': 20, 'min_child_weight': 3, 'subsample': 0.8876843548345349, 'learning_rate': 0.08963284283954069}. Best is trial 66 with value: 0.9045253492683408.\n",
      "[I 2023-07-13 00:46:07,736] Trial 80 finished with value: 0.895086859835679 and parameters: {'booster': 'dart', 'gamma': 0.015159638287790406, 'max_depth': 17, 'min_child_weight': 3, 'subsample': 0.8389103233456537, 'learning_rate': 0.09013421518933637}. Best is trial 66 with value: 0.9045253492683408.\n",
      "[I 2023-07-13 00:46:08,350] Trial 81 finished with value: 0.8990395636623374 and parameters: {'booster': 'dart', 'gamma': 0.4577307929872138, 'max_depth': 17, 'min_child_weight': 3, 'subsample': 0.8365914446892392, 'learning_rate': 0.09894645025102397}. Best is trial 66 with value: 0.9045253492683408.\n",
      "[I 2023-07-13 00:46:10,415] Trial 82 finished with value: 0.8956108496990428 and parameters: {'booster': 'dart', 'gamma': 0.0010515684316947382, 'max_depth': 17, 'min_child_weight': 3, 'subsample': 0.8201509763727673, 'learning_rate': 0.09915810529374891}. Best is trial 66 with value: 0.9045253492683408.\n"
     ]
    },
    {
     "name": "stderr",
     "output_type": "stream",
     "text": [
      "[I 2023-07-13 00:46:11,663] Trial 83 finished with value: 0.9010431888700493 and parameters: {'booster': 'dart', 'gamma': 0.3483982003781421, 'max_depth': 17, 'min_child_weight': 3, 'subsample': 0.890911952921536, 'learning_rate': 0.099659440277994}. Best is trial 66 with value: 0.9045253492683408.\n",
      "[I 2023-07-13 00:46:13,153] Trial 84 finished with value: 0.8964785774330011 and parameters: {'booster': 'dart', 'gamma': 0.4343002753656046, 'max_depth': 20, 'min_child_weight': 3, 'subsample': 0.812346780927886, 'learning_rate': 0.09872141017793527}. Best is trial 66 with value: 0.9045253492683408.\n",
      "[I 2023-07-13 00:46:13,535] Trial 85 finished with value: 0.9001159587826603 and parameters: {'booster': 'dart', 'gamma': 0.2659498633473706, 'max_depth': 20, 'min_child_weight': 3, 'subsample': 0.8882420958223134, 'learning_rate': 0.08641036212738781}. Best is trial 66 with value: 0.9045253492683408.\n",
      "[I 2023-07-13 00:46:15,543] Trial 86 finished with value: 0.8990870135080744 and parameters: {'booster': 'dart', 'gamma': 0.311479513917523, 'max_depth': 20, 'min_child_weight': 3, 'subsample': 0.8867440171253753, 'learning_rate': 0.08651374741521152}. Best is trial 66 with value: 0.9045253492683408.\n",
      "[I 2023-07-13 00:46:16,524] Trial 87 finished with value: 0.9037089794125516 and parameters: {'booster': 'dart', 'gamma': 0.289949848509524, 'max_depth': 20, 'min_child_weight': 3, 'subsample': 0.8041814094616527, 'learning_rate': 0.08694134228330708}. Best is trial 66 with value: 0.9045253492683408.\n",
      "[I 2023-07-13 00:46:17,956] Trial 88 finished with value: 0.9019097290750916 and parameters: {'booster': 'dart', 'gamma': 0.261457116116387, 'max_depth': 15, 'min_child_weight': 3, 'subsample': 0.8588285759334098, 'learning_rate': 0.08489645952051215}. Best is trial 66 with value: 0.9045253492683408.\n",
      "[I 2023-07-13 00:46:18,453] Trial 89 finished with value: 0.9025644612601715 and parameters: {'booster': 'dart', 'gamma': 0.2354613697441843, 'max_depth': 15, 'min_child_weight': 3, 'subsample': 0.8556501501008736, 'learning_rate': 0.08904133007091947}. Best is trial 66 with value: 0.9045253492683408.\n",
      "[I 2023-07-13 00:46:20,731] Trial 90 finished with value: 0.9009633131572177 and parameters: {'booster': 'dart', 'gamma': 0.17800718579404426, 'max_depth': 15, 'min_child_weight': 3, 'subsample': 0.8600403540662741, 'learning_rate': 0.09142123291205306}. Best is trial 66 with value: 0.9045253492683408.\n",
      "[I 2023-07-13 00:46:21,850] Trial 91 finished with value: 0.8968634226958538 and parameters: {'booster': 'dart', 'gamma': 0.26276879841248296, 'max_depth': 15, 'min_child_weight': 3, 'subsample': 0.8536787462610252, 'learning_rate': 0.08259537452508434}. Best is trial 66 with value: 0.9045253492683408.\n",
      "[I 2023-07-13 00:46:23,108] Trial 92 finished with value: 0.89516010716802 and parameters: {'booster': 'dart', 'gamma': 0.6294686973079491, 'max_depth': 15, 'min_child_weight': 3, 'subsample': 0.8072983838675899, 'learning_rate': 0.07723796308751721}. Best is trial 66 with value: 0.9045253492683408.\n",
      "[I 2023-07-13 00:46:23,685] Trial 93 finished with value: 0.894132319148788 and parameters: {'booster': 'dart', 'gamma': 0.6625766445639772, 'max_depth': 15, 'min_child_weight': 3, 'subsample': 0.801925197482716, 'learning_rate': 0.08294893573998746}. Best is trial 66 with value: 0.9045253492683408.\n",
      "[I 2023-07-13 00:46:26,096] Trial 94 finished with value: 0.894595214926455 and parameters: {'booster': 'dart', 'gamma': 0.44621332931319413, 'max_depth': 15, 'min_child_weight': 3, 'subsample': 0.8504400232744298, 'learning_rate': 0.08314977839117621}. Best is trial 66 with value: 0.9045253492683408.\n",
      "[I 2023-07-13 00:46:26,998] Trial 95 finished with value: 0.8950011787421323 and parameters: {'booster': 'dart', 'gamma': 0.6714586883642799, 'max_depth': 16, 'min_child_weight': 3, 'subsample': 0.9323914441500228, 'learning_rate': 0.07829544737924073}. Best is trial 66 with value: 0.9045253492683408.\n",
      "[I 2023-07-13 00:46:28,285] Trial 96 finished with value: 0.8955542324890172 and parameters: {'booster': 'dart', 'gamma': 0.4448221533798442, 'max_depth': 16, 'min_child_weight': 3, 'subsample': 0.8438916862682581, 'learning_rate': 0.08476216794290163}. Best is trial 66 with value: 0.9045253492683408.\n",
      "[I 2023-07-13 00:46:29,340] Trial 97 finished with value: 0.8981820967076694 and parameters: {'booster': 'dart', 'gamma': 0.41981782784115174, 'max_depth': 16, 'min_child_weight': 3, 'subsample': 0.8285126638687281, 'learning_rate': 0.08804731029202148}. Best is trial 66 with value: 0.9045253492683408.\n",
      "[I 2023-07-13 00:46:31,906] Trial 98 finished with value: 0.8883988928211185 and parameters: {'booster': 'dart', 'gamma': 0.43947870359304364, 'max_depth': 16, 'min_child_weight': 3, 'subsample': 0.829276091063044, 'learning_rate': 0.08862322815333025}. Best is trial 66 with value: 0.9045253492683408.\n",
      "[I 2023-07-13 00:46:32,601] Trial 99 finished with value: 0.8959744453001932 and parameters: {'booster': 'dart', 'gamma': 0.4171430926225178, 'max_depth': 16, 'min_child_weight': 3, 'subsample': 0.8288211332285783, 'learning_rate': 0.0855578341349618}. Best is trial 66 with value: 0.9045253492683408.\n",
      "[I 2023-07-13 00:46:32,972] Trial 100 finished with value: 0.8998196754445177 and parameters: {'booster': 'dart', 'gamma': 0.27322520183723575, 'max_depth': 10, 'min_child_weight': 1, 'subsample': 0.8904067588007831, 'learning_rate': 0.08847746235972732}. Best is trial 66 with value: 0.9045253492683408.\n",
      "[I 2023-07-13 00:46:34,426] Trial 101 finished with value: 0.8993971492328864 and parameters: {'booster': 'dart', 'gamma': 0.27734044819644954, 'max_depth': 13, 'min_child_weight': 1, 'subsample': 0.890401686013184, 'learning_rate': 0.07531429738501076}. Best is trial 66 with value: 0.9045253492683408.\n",
      "[I 2023-07-13 00:46:36,663] Trial 103 finished with value: 0.8987578372304124 and parameters: {'booster': 'dart', 'gamma': 0.2672612374481096, 'max_depth': 10, 'min_child_weight': 3, 'subsample': 0.8922797263592042, 'learning_rate': 0.07533022970295038}. Best is trial 66 with value: 0.9045253492683408.\n",
      "[I 2023-07-13 00:46:37,240] Trial 102 finished with value: 0.9012848425570809 and parameters: {'booster': 'dart', 'gamma': 0.272581618221586, 'max_depth': 13, 'min_child_weight': 1, 'subsample': 0.8896388004545019, 'learning_rate': 0.09566741250646184}. Best is trial 66 with value: 0.9045253492683408.\n",
      "[I 2023-07-13 00:46:38,694] Trial 104 finished with value: 0.9009112453930853 and parameters: {'booster': 'dart', 'gamma': 0.09425302615607778, 'max_depth': 20, 'min_child_weight': 3, 'subsample': 0.9236001478395646, 'learning_rate': 0.09658869682709836}. Best is trial 66 with value: 0.9045253492683408.\n",
      "[I 2023-07-13 00:46:39,824] Trial 105 finished with value: 0.9020305847094111 and parameters: {'booster': 'dart', 'gamma': 0.06784451975672046, 'max_depth': 20, 'min_child_weight': 3, 'subsample': 0.8645202500519842, 'learning_rate': 0.08084974932262827}. Best is trial 66 with value: 0.9045253492683408.\n",
      "[I 2023-07-13 00:46:41,856] Trial 106 finished with value: 0.9012698869420762 and parameters: {'booster': 'dart', 'gamma': 0.09252126796210391, 'max_depth': 20, 'min_child_weight': 3, 'subsample': 0.9212480390029515, 'learning_rate': 0.08133431305909004}. Best is trial 66 with value: 0.9045253492683408.\n",
      "[I 2023-07-13 00:46:42,412] Trial 107 finished with value: 0.8998465310836725 and parameters: {'booster': 'dart', 'gamma': 0.10641991267565934, 'max_depth': 20, 'min_child_weight': 3, 'subsample': 0.9200192139682191, 'learning_rate': 0.08108558174235135}. Best is trial 66 with value: 0.9045253492683408.\n",
      "[I 2023-07-13 00:46:43,353] Trial 109 finished with value: 0.8976242405298679 and parameters: {'booster': 'gbtree', 'gamma': 0.14210269789193367, 'max_depth': 20, 'min_child_weight': 3, 'subsample': 0.8503957533340161, 'learning_rate': 0.08136923826803942}. Best is trial 66 with value: 0.9045253492683408.\n",
      "[I 2023-07-13 00:46:44,015] Trial 108 finished with value: 0.8999636954123449 and parameters: {'booster': 'dart', 'gamma': 0.08324171578972307, 'max_depth': 19, 'min_child_weight': 3, 'subsample': 0.8510357668465944, 'learning_rate': 0.08135093405725707}. Best is trial 66 with value: 0.9045253492683408.\n",
      "[I 2023-07-13 00:46:45,884] Trial 110 finished with value: 0.9000975641878445 and parameters: {'booster': 'gbtree', 'gamma': 0.13506461752108342, 'max_depth': 20, 'min_child_weight': 3, 'subsample': 0.8505414833777258, 'learning_rate': 0.08131540142680531}. Best is trial 66 with value: 0.9045253492683408.\n"
     ]
    },
    {
     "name": "stderr",
     "output_type": "stream",
     "text": [
      "[I 2023-07-13 00:46:46,183] Trial 111 finished with value: 0.898820469635162 and parameters: {'booster': 'gbtree', 'gamma': 0.15109427473774908, 'max_depth': 19, 'min_child_weight': 3, 'subsample': 0.8513671303478899, 'learning_rate': 0.08513028878008103}. Best is trial 66 with value: 0.9045253492683408.\n",
      "[I 2023-07-13 00:46:48,618] Trial 112 finished with value: 0.8932660619076628 and parameters: {'booster': 'dart', 'gamma': 0.8468726516946103, 'max_depth': 19, 'min_child_weight': 3, 'subsample': 0.866258314836989, 'learning_rate': 0.0849653004059282}. Best is trial 66 with value: 0.9045253492683408.\n",
      "[I 2023-07-13 00:46:49,522] Trial 113 finished with value: 0.8903932131264317 and parameters: {'booster': 'dart', 'gamma': 0.8558561742159948, 'max_depth': 19, 'min_child_weight': 3, 'subsample': 0.8662402975331976, 'learning_rate': 0.085106873343536}. Best is trial 66 with value: 0.9045253492683408.\n",
      "[I 2023-07-13 00:46:51,888] Trial 114 finished with value: 0.8996894386150992 and parameters: {'booster': 'dart', 'gamma': 0.22583455321954257, 'max_depth': 19, 'min_child_weight': 3, 'subsample': 0.8627682886797475, 'learning_rate': 0.09010801168261585}. Best is trial 66 with value: 0.9045253492683408.\n",
      "[I 2023-07-13 00:46:52,818] Trial 115 finished with value: 0.8999667670538412 and parameters: {'booster': 'dart', 'gamma': 0.032072360045045684, 'max_depth': 19, 'min_child_weight': 3, 'subsample': 0.8684520827758752, 'learning_rate': 0.09003292512428099}. Best is trial 66 with value: 0.9045253492683408.\n",
      "[I 2023-07-13 00:46:55,617] Trial 116 finished with value: 0.9008374206761617 and parameters: {'booster': 'dart', 'gamma': 0.3353817152752865, 'max_depth': 14, 'min_child_weight': 3, 'subsample': 0.8655639194295492, 'learning_rate': 0.08981688787241353}. Best is trial 66 with value: 0.9045253492683408.\n",
      "[I 2023-07-13 00:46:57,677] Trial 117 finished with value: 0.9018530232433524 and parameters: {'booster': 'dart', 'gamma': 0.004903339662213901, 'max_depth': 18, 'min_child_weight': 3, 'subsample': 0.8794205494401359, 'learning_rate': 0.0900589114244501}. Best is trial 66 with value: 0.9045253492683408.\n",
      "[I 2023-07-13 00:47:00,022] Trial 119 finished with value: 0.8974649931081348 and parameters: {'booster': 'dart', 'gamma': 0.3405580987750042, 'max_depth': 14, 'min_child_weight': 3, 'subsample': 0.9051856788715321, 'learning_rate': 0.0924788425311503}. Best is trial 66 with value: 0.9045253492683408.\n",
      "[I 2023-07-13 00:47:00,901] Trial 118 finished with value: 0.9010137552041692 and parameters: {'booster': 'dart', 'gamma': 0.04523038665353776, 'max_depth': 18, 'min_child_weight': 3, 'subsample': 0.880126409209359, 'learning_rate': 0.09190265536445817}. Best is trial 66 with value: 0.9045253492683408.\n",
      "[I 2023-07-13 00:47:03,651] Trial 120 finished with value: 0.8947069427648671 and parameters: {'booster': 'dart', 'gamma': 0.4956789774499751, 'max_depth': 18, 'min_child_weight': 3, 'subsample': 0.8778668677039726, 'learning_rate': 0.07852267374310809}. Best is trial 66 with value: 0.9045253492683408.\n",
      "[I 2023-07-13 00:47:04,419] Trial 121 finished with value: 0.898156873100798 and parameters: {'booster': 'dart', 'gamma': 0.3513416934141892, 'max_depth': 18, 'min_child_weight': 3, 'subsample': 0.9059764140742869, 'learning_rate': 0.07867339909960436}. Best is trial 66 with value: 0.9045253492683408.\n",
      "[I 2023-07-13 00:47:06,901] Trial 123 finished with value: 0.8950652811988197 and parameters: {'booster': 'dart', 'gamma': 0.5201107472895894, 'max_depth': 9, 'min_child_weight': 3, 'subsample': 0.9032570262522165, 'learning_rate': 0.0944878110888758}. Best is trial 66 with value: 0.9045253492683408.\n",
      "[I 2023-07-13 00:47:08,434] Trial 122 finished with value: 0.8987351664391902 and parameters: {'booster': 'dart', 'gamma': 0.5373076529460492, 'max_depth': 18, 'min_child_weight': 3, 'subsample': 0.8810415245291777, 'learning_rate': 0.07822421008984999}. Best is trial 66 with value: 0.9045253492683408.\n",
      "[I 2023-07-13 00:47:10,948] Trial 124 finished with value: 0.8969579290157184 and parameters: {'booster': 'dart', 'gamma': 0.007826245472515536, 'max_depth': 20, 'min_child_weight': 3, 'subsample': 0.9101140122851159, 'learning_rate': 0.08757794557742707}. Best is trial 66 with value: 0.9045253492683408.\n",
      "[I 2023-07-13 00:47:12,233] Trial 125 finished with value: 0.8993798364534534 and parameters: {'booster': 'dart', 'gamma': 0.2120329915240221, 'max_depth': 20, 'min_child_weight': 3, 'subsample': 0.9408206862040747, 'learning_rate': 0.09378737016058943}. Best is trial 66 with value: 0.9045253492683408.\n",
      "[I 2023-07-13 00:47:14,379] Trial 126 finished with value: 0.8964791596130162 and parameters: {'booster': 'dart', 'gamma': 0.0003885744553541147, 'max_depth': 20, 'min_child_weight': 3, 'subsample': 0.8426532250113311, 'learning_rate': 0.08748623874961299}. Best is trial 66 with value: 0.9045253492683408.\n",
      "[I 2023-07-13 00:47:15,959] Trial 127 finished with value: 0.8899510391606855 and parameters: {'booster': 'dart', 'gamma': 0.00337321407381716, 'max_depth': 20, 'min_child_weight': 3, 'subsample': 0.8372724391231529, 'learning_rate': 0.08780529472671215}. Best is trial 66 with value: 0.9045253492683408.\n",
      "[I 2023-07-13 00:47:16,426] Trial 128 finished with value: 0.90152453678677 and parameters: {'booster': 'dart', 'gamma': 0.1831643994812629, 'max_depth': 12, 'min_child_weight': 3, 'subsample': 0.842654481749378, 'learning_rate': 0.09362461454841726}. Best is trial 66 with value: 0.9045253492683408.\n",
      "[I 2023-07-13 00:47:17,139] Trial 129 finished with value: 0.8948828570215799 and parameters: {'booster': 'dart', 'gamma': 0.0008480628113534117, 'max_depth': 12, 'min_child_weight': 3, 'subsample': 0.8349869289695147, 'learning_rate': 0.08859172006635366}. Best is trial 66 with value: 0.9045253492683408.\n",
      "[I 2023-07-13 00:47:19,645] Trial 130 finished with value: 0.9001022705506652 and parameters: {'booster': 'dart', 'gamma': 0.20304589110716822, 'max_depth': 19, 'min_child_weight': 3, 'subsample': 0.837205369470529, 'learning_rate': 0.0891946536345726}. Best is trial 66 with value: 0.9045253492683408.\n",
      "[I 2023-07-13 00:47:21,330] Trial 131 finished with value: 0.8968466340775184 and parameters: {'booster': 'dart', 'gamma': 0.2073284133046364, 'max_depth': 19, 'min_child_weight': 3, 'subsample': 0.8194322201578269, 'learning_rate': 0.08386411011985884}. Best is trial 66 with value: 0.9045253492683408.\n",
      "[I 2023-07-13 00:47:22,036] Trial 132 finished with value: 0.9006925821449719 and parameters: {'booster': 'dart', 'gamma': 0.2049510929795153, 'max_depth': 17, 'min_child_weight': 3, 'subsample': 0.8024114577421704, 'learning_rate': 0.09081468861636233}. Best is trial 66 with value: 0.9045253492683408.\n",
      "[I 2023-07-13 00:47:23,696] Trial 133 finished with value: 0.8936521020362445 and parameters: {'booster': 'dart', 'gamma': 0.20694454161329254, 'max_depth': 17, 'min_child_weight': 3, 'subsample': 0.7996056842987196, 'learning_rate': 0.09092662886916213}. Best is trial 66 with value: 0.9045253492683408.\n",
      "[I 2023-07-13 00:47:25,551] Trial 134 finished with value: 0.8978860986791214 and parameters: {'booster': 'dart', 'gamma': 0.18383136750763032, 'max_depth': 11, 'min_child_weight': 3, 'subsample': 0.8188557761517218, 'learning_rate': 0.09110000987330086}. Best is trial 66 with value: 0.9045253492683408.\n",
      "[I 2023-07-13 00:47:27,924] Trial 135 finished with value: 0.8989676060121279 and parameters: {'booster': 'dart', 'gamma': 0.11708930191957866, 'max_depth': 17, 'min_child_weight': 3, 'subsample': 0.8031020858068221, 'learning_rate': 0.09086174656194723}. Best is trial 66 with value: 0.9045253492683408.\n",
      "[I 2023-07-13 00:47:29,914] Trial 136 finished with value: 0.8999691859987848 and parameters: {'booster': 'dart', 'gamma': 0.3444308079892758, 'max_depth': 19, 'min_child_weight': 3, 'subsample': 0.8773786024083419, 'learning_rate': 0.09644860223732611}. Best is trial 66 with value: 0.9045253492683408.\n",
      "[I 2023-07-13 00:47:30,836] Trial 137 finished with value: 0.9022684250127978 and parameters: {'booster': 'dart', 'gamma': 0.12202001955130976, 'max_depth': 11, 'min_child_weight': 3, 'subsample': 0.8776781599619148, 'learning_rate': 0.09650668285640575}. Best is trial 66 with value: 0.9045253492683408.\n"
     ]
    },
    {
     "name": "stderr",
     "output_type": "stream",
     "text": [
      "[I 2023-07-13 00:47:31,618] Trial 138 finished with value: 0.9007311577231039 and parameters: {'booster': 'dart', 'gamma': 0.13103264499951667, 'max_depth': 14, 'min_child_weight': 3, 'subsample': 0.8802030321330618, 'learning_rate': 0.09590629313784277}. Best is trial 66 with value: 0.9045253492683408.\n",
      "[I 2023-07-13 00:47:34,006] Trial 139 finished with value: 0.8999067389009922 and parameters: {'booster': 'dart', 'gamma': 0.3523146087135245, 'max_depth': 19, 'min_child_weight': 3, 'subsample': 0.8769627824860529, 'learning_rate': 0.09676066873558864}. Best is trial 66 with value: 0.9045253492683408.\n",
      "[I 2023-07-13 00:47:35,536] Trial 140 finished with value: 0.8947821698457679 and parameters: {'booster': 'dart', 'gamma': 0.10487896779160427, 'max_depth': 14, 'min_child_weight': 3, 'subsample': 0.8957363822108192, 'learning_rate': 0.09329241418187967}. Best is trial 66 with value: 0.9045253492683408.\n",
      "[I 2023-07-13 00:47:35,873] Trial 142 finished with value: 0.8957673112612966 and parameters: {'booster': 'dart', 'gamma': 0.3865688983761229, 'max_depth': 11, 'min_child_weight': 3, 'subsample': 0.8976767869269616, 'learning_rate': 0.09738098199516562}. Best is trial 66 with value: 0.9045253492683408.\n",
      "[I 2023-07-13 00:47:36,482] Trial 141 finished with value: 0.8970127237523007 and parameters: {'booster': 'dart', 'gamma': 0.3753571186142602, 'max_depth': 18, 'min_child_weight': 3, 'subsample': 0.8955697729456585, 'learning_rate': 0.09712298581346067}. Best is trial 66 with value: 0.9045253492683408.\n",
      "[I 2023-07-13 00:47:38,451] Trial 143 finished with value: 0.8912474643751693 and parameters: {'booster': 'dart', 'gamma': 0.6164052661014753, 'max_depth': 11, 'min_child_weight': 3, 'subsample': 0.8977128994188721, 'learning_rate': 0.0863649679823589}. Best is trial 66 with value: 0.9045253492683408.\n",
      "[I 2023-07-13 00:47:40,189] Trial 144 finished with value: 0.9003820947839949 and parameters: {'booster': 'dart', 'gamma': 0.3251715346265748, 'max_depth': 12, 'min_child_weight': 3, 'subsample': 0.8561473777767753, 'learning_rate': 0.0855560943465495}. Best is trial 66 with value: 0.9045253492683408.\n",
      "[I 2023-07-13 00:47:40,804] Trial 145 finished with value: 0.9002047205173219 and parameters: {'booster': 'dart', 'gamma': 0.274128140183357, 'max_depth': 12, 'min_child_weight': 3, 'subsample': 0.8572938557929696, 'learning_rate': 0.08641704787316619}. Best is trial 66 with value: 0.9045253492683408.\n",
      "[I 2023-07-13 00:47:41,764] Trial 146 finished with value: 0.9045918540582916 and parameters: {'booster': 'dart', 'gamma': 0.2779764603530471, 'max_depth': 12, 'min_child_weight': 3, 'subsample': 0.8533559249884437, 'learning_rate': 0.08580025399210768}. Best is trial 146 with value: 0.9045918540582916.\n",
      "[I 2023-07-13 00:47:43,492] Trial 147 finished with value: 0.9017380804484397 and parameters: {'booster': 'dart', 'gamma': 0.2763319313749102, 'max_depth': 12, 'min_child_weight': 3, 'subsample': 0.8610039857622734, 'learning_rate': 0.09266527892549063}. Best is trial 146 with value: 0.9045918540582916.\n",
      "[I 2023-07-13 00:47:44,023] Trial 148 finished with value: 0.8573275646677914 and parameters: {'booster': 'dart', 'gamma': 2.4658528592954783, 'max_depth': 9, 'min_child_weight': 3, 'subsample': 0.8603789713769936, 'learning_rate': 0.09366045827957359}. Best is trial 146 with value: 0.9045918540582916.\n",
      "[I 2023-07-13 00:47:48,809] Trial 149 finished with value: 0.903147973396559 and parameters: {'booster': 'dart', 'gamma': 0.0923573505838558, 'max_depth': 10, 'min_child_weight': 3, 'subsample': 0.8672443114071112, 'learning_rate': 0.09420579527925246}. Best is trial 146 with value: 0.9045918540582916.\n"
     ]
    }
   ],
   "source": [
    "from sklearn.metrics import mean_squared_error, r2_score\n",
    "from xgboost import XGBRegressor\n",
    "import optuna\n",
    "\n",
    "# objective function to be minimized\n",
    "def objective_fun(trial):\n",
    "\n",
    "    booster = trial.suggest_categorical('booster', ['gbtree', 'dart'])\n",
    "    gamma = trial.suggest_float('gamma', 0, 5)\n",
    "    max_depth = trial.suggest_int('max_depth', 3, 20)\n",
    "    min_child_weight = trial.suggest_int('min_child_weight', 1, 3)\n",
    "    subsample = trial.suggest_float('subsample', 0.4, 1)\n",
    "    learning_rate = trial.suggest_float('learning_rate', 1e-3, 1e-1)\n",
    "\n",
    "    xgb = XGBRegressor(booster=booster, \n",
    "                       gamma=gamma, \n",
    "                       max_depth=max_depth, \n",
    "                       min_child_weight=min_child_weight, \n",
    "                       learning_rate=learning_rate,\n",
    "                       subsample=subsample)\n",
    "\n",
    "    xgb.fit(X_cat_selected[~bad_kids][train_idxs], y[~bad_kids][train_idxs])\n",
    "    y_pred = xgb.predict(X_cat_selected[~bad_kids][val_idxs])\n",
    "\n",
    "    error = r2_score(y_pred, y[~bad_kids][val_idxs])\n",
    "    return error\n",
    "\n",
    "\n",
    "study = optuna.create_study(direction=\"maximize\")\n",
    "study.optimize(objective_fun, n_trials=150, n_jobs=-1)"
   ]
  },
  {
   "cell_type": "code",
   "execution_count": 12,
   "metadata": {
    "ExecuteTime": {
     "end_time": "2023-07-05T13:54:44.602639Z",
     "start_time": "2023-07-05T13:54:44.072242Z"
    }
   },
   "outputs": [
    {
     "name": "stdout",
     "output_type": "stream",
     "text": [
      "{'booster': 'dart', 'gamma': 0.2779764603530471, 'max_depth': 12, 'min_child_weight': 3, 'subsample': 0.8533559249884437, 'learning_rate': 0.08580025399210768}\n",
      "Normalized root mean squared error = 0.0622\n",
      "R-squared = 0.9167\n"
     ]
    }
   ],
   "source": [
    "best_params = study.best_params\n",
    "\n",
    "xgb = XGBRegressor(**best_params)\n",
    "xgb.fit(X_cat_selected[~bad_kids][train_idxs], y[~bad_kids][train_idxs])\n",
    "\n",
    "y_pred = xgb.predict(X_cat_selected[~bad_kids][val_idxs])\n",
    "\n",
    "nrmse = np.sqrt(mean_squared_error(y[~bad_kids][val_idxs], y_pred)) / (np.max(y[~bad_kids][val_idxs]) - np.min(y[~bad_kids][val_idxs]))\n",
    "\n",
    "print(best_params)\n",
    "print('Normalized root mean squared error = %.4f' % nrmse)\n",
    "print('R-squared = %.4f' % r2_score(y[~bad_kids][val_idxs], y_pred))"
   ]
  },
  {
   "cell_type": "markdown",
   "metadata": {},
   "source": [
    "## Neural Network"
   ]
  },
  {
   "cell_type": "code",
   "execution_count": 13,
   "metadata": {
    "ExecuteTime": {
     "end_time": "2023-07-05T13:55:48.926936Z",
     "start_time": "2023-07-05T13:54:45.609919Z"
    }
   },
   "outputs": [
    {
     "name": "stderr",
     "output_type": "stream",
     "text": [
      "2023-07-13 00:47:51.536539: I tensorflow/tsl/cuda/cudart_stub.cc:28] Could not find cuda drivers on your machine, GPU will not be used.\n",
      "2023-07-13 00:47:51.632860: I tensorflow/tsl/cuda/cudart_stub.cc:28] Could not find cuda drivers on your machine, GPU will not be used.\n",
      "2023-07-13 00:47:51.634075: I tensorflow/core/platform/cpu_feature_guard.cc:182] This TensorFlow binary is optimized to use available CPU instructions in performance-critical operations.\n",
      "To enable the following instructions: AVX2 FMA, in other operations, rebuild TensorFlow with the appropriate compiler flags.\n",
      "2023-07-13 00:47:53.313725: W tensorflow/compiler/tf2tensorrt/utils/py_utils.cc:38] TF-TRT Warning: Could not find TensorRT\n",
      "[I 2023-07-13 00:47:54,866] A new study created in memory with name: no-name-7692bcec-bd0a-4707-b80b-ec4cb901d01c\n",
      "[I 2023-07-13 00:48:17,972] Trial 0 finished with value: 0.5025323962911226 and parameters: {'n_units': 127, 'n_hidden': 4, 'epochs': 29}. Best is trial 0 with value: 0.5025323962911226.\n",
      "[I 2023-07-13 00:48:18,928] Trial 3 finished with value: 0.6938350375505167 and parameters: {'n_units': 62, 'n_hidden': 5, 'epochs': 29}. Best is trial 3 with value: 0.6938350375505167.\n",
      "[I 2023-07-13 00:48:28,532] Trial 1 finished with value: 0.6999263937817344 and parameters: {'n_units': 92, 'n_hidden': 5, 'epochs': 46}. Best is trial 1 with value: 0.6999263937817344.\n",
      "[I 2023-07-13 00:48:30,853] Trial 4 finished with value: 0.6403126485870023 and parameters: {'n_units': 100, 'n_hidden': 2, 'epochs': 12}. Best is trial 1 with value: 0.6999263937817344.\n",
      "[I 2023-07-13 00:48:39,224] Trial 5 finished with value: 0.719143500936222 and parameters: {'n_units': 101, 'n_hidden': 5, 'epochs': 31}. Best is trial 5 with value: 0.719143500936222.\n",
      "[I 2023-07-13 00:48:44,140] Trial 2 finished with value: 0.7899471769032803 and parameters: {'n_units': 91, 'n_hidden': 3, 'epochs': 45}. Best is trial 2 with value: 0.7899471769032803.\n",
      "[I 2023-07-13 00:48:46,753] Trial 7 finished with value: 0.6693257415497273 and parameters: {'n_units': 119, 'n_hidden': 4, 'epochs': 26}. Best is trial 2 with value: 0.7899471769032803.\n",
      "[I 2023-07-13 00:48:49,101] Trial 6 finished with value: 0.686702627138293 and parameters: {'n_units': 116, 'n_hidden': 5, 'epochs': 35}. Best is trial 2 with value: 0.7899471769032803.\n",
      "[I 2023-07-13 00:49:02,105] Trial 8 finished with value: 0.6557472285297932 and parameters: {'n_units': 96, 'n_hidden': 6, 'epochs': 27}. Best is trial 2 with value: 0.7899471769032803.\n",
      "[I 2023-07-13 00:49:04,871] Trial 10 finished with value: 0.7113622653160139 and parameters: {'n_units': 71, 'n_hidden': 2, 'epochs': 23}. Best is trial 2 with value: 0.7899471769032803.\n",
      "[I 2023-07-13 00:49:09,323] Trial 9 finished with value: 0.7127022307207942 and parameters: {'n_units': 121, 'n_hidden': 3, 'epochs': 35}. Best is trial 2 with value: 0.7899471769032803.\n",
      "[I 2023-07-13 00:49:19,041] Trial 11 finished with value: 0.7681549592640774 and parameters: {'n_units': 42, 'n_hidden': 5, 'epochs': 36}. Best is trial 2 with value: 0.7899471769032803.\n",
      "[I 2023-07-13 00:49:27,446] Trial 12 finished with value: 0.7558710739605828 and parameters: {'n_units': 88, 'n_hidden': 6, 'epochs': 30}. Best is trial 2 with value: 0.7899471769032803.\n",
      "[I 2023-07-13 00:49:36,468] Trial 14 finished with value: 0.724542011804633 and parameters: {'n_units': 36, 'n_hidden': 3, 'epochs': 45}. Best is trial 2 with value: 0.7899471769032803.\n",
      "[I 2023-07-13 00:49:37,098] Trial 13 finished with value: 0.7835678706414327 and parameters: {'n_units': 41, 'n_hidden': 3, 'epochs': 50}. Best is trial 2 with value: 0.7899471769032803.\n",
      "[I 2023-07-13 00:49:47,684] Trial 15 finished with value: 0.7078146439124963 and parameters: {'n_units': 40, 'n_hidden': 3, 'epochs': 49}. Best is trial 2 with value: 0.7899471769032803.\n",
      "[I 2023-07-13 00:50:00,366] Trial 17 finished with value: 0.7694251618644331 and parameters: {'n_units': 46, 'n_hidden': 3, 'epochs': 41}. Best is trial 2 with value: 0.7899471769032803.\n",
      "[I 2023-07-13 00:50:04,430] Trial 18 finished with value: 0.7592282321090746 and parameters: {'n_units': 53, 'n_hidden': 3, 'epochs': 49}. Best is trial 2 with value: 0.7899471769032803.\n",
      "[I 2023-07-13 00:50:11,672] Trial 19 finished with value: 0.7590280683724442 and parameters: {'n_units': 56, 'n_hidden': 3, 'epochs': 42}. Best is trial 2 with value: 0.7899471769032803.\n",
      "[I 2023-07-13 00:50:15,897] Trial 16 finished with value: 0.7592286648806137 and parameters: {'n_units': 36, 'n_hidden': 3, 'epochs': 49}. Best is trial 2 with value: 0.7899471769032803.\n",
      "[I 2023-07-13 00:50:27,032] Trial 20 finished with value: 0.7682391626407928 and parameters: {'n_units': 58, 'n_hidden': 2, 'epochs': 50}. Best is trial 2 with value: 0.7899471769032803.\n",
      "[I 2023-07-13 00:50:28,001] Trial 21 finished with value: 0.7829394738519198 and parameters: {'n_units': 75, 'n_hidden': 2, 'epochs': 41}. Best is trial 2 with value: 0.7899471769032803.\n",
      "[I 2023-07-13 00:50:29,198] Trial 22 finished with value: 0.6447967463088982 and parameters: {'n_units': 77, 'n_hidden': 2, 'epochs': 18}. Best is trial 2 with value: 0.7899471769032803.\n",
      "[I 2023-07-13 00:50:31,449] Trial 23 finished with value: 0.7549484098375221 and parameters: {'n_units': 79, 'n_hidden': 2, 'epochs': 20}. Best is trial 2 with value: 0.7899471769032803.\n",
      "[I 2023-07-13 00:50:54,847] Trial 24 finished with value: 0.7632038564225556 and parameters: {'n_units': 82, 'n_hidden': 4, 'epochs': 41}. Best is trial 2 with value: 0.7899471769032803.\n",
      "[I 2023-07-13 00:50:56,682] Trial 26 finished with value: 0.7460727508021445 and parameters: {'n_units': 68, 'n_hidden': 4, 'epochs': 41}. Best is trial 2 with value: 0.7899471769032803.\n",
      "[I 2023-07-13 00:50:56,966] Trial 25 finished with value: 0.710532569851063 and parameters: {'n_units': 79, 'n_hidden': 2, 'epochs': 40}. Best is trial 2 with value: 0.7899471769032803.\n",
      "[I 2023-07-13 00:50:59,534] Trial 27 finished with value: 0.7329034608906313 and parameters: {'n_units': 109, 'n_hidden': 4, 'epochs': 41}. Best is trial 2 with value: 0.7899471769032803.\n",
      "[I 2023-07-13 00:51:24,254] Trial 29 finished with value: 0.7501543225170952 and parameters: {'n_units': 86, 'n_hidden': 2, 'epochs': 46}. Best is trial 2 with value: 0.7899471769032803.\n",
      "[I 2023-07-13 00:51:25,154] Trial 30 finished with value: 0.6641130057335825 and parameters: {'n_units': 109, 'n_hidden': 3, 'epochs': 45}. Best is trial 2 with value: 0.7899471769032803.\n",
      "[I 2023-07-13 00:51:26,360] Trial 28 finished with value: 0.7814231907532507 and parameters: {'n_units': 68, 'n_hidden': 4, 'epochs': 45}. Best is trial 2 with value: 0.7899471769032803.\n",
      "[I 2023-07-13 00:51:28,426] Trial 31 finished with value: 0.7583780933680854 and parameters: {'n_units': 107, 'n_hidden': 3, 'epochs': 46}. Best is trial 2 with value: 0.7899471769032803.\n",
      "[I 2023-07-13 00:51:50,104] Trial 32 finished with value: 0.716562010042129 and parameters: {'n_units': 48, 'n_hidden': 3, 'epochs': 37}. Best is trial 2 with value: 0.7899471769032803.\n",
      "[I 2023-07-13 00:51:51,075] Trial 33 finished with value: 0.7488902286380614 and parameters: {'n_units': 71, 'n_hidden': 3, 'epochs': 37}. Best is trial 2 with value: 0.7899471769032803.\n",
      "[I 2023-07-13 00:51:53,565] Trial 34 finished with value: 0.7457501845127715 and parameters: {'n_units': 69, 'n_hidden': 4, 'epochs': 37}. Best is trial 2 with value: 0.7899471769032803.\n",
      "[I 2023-07-13 00:51:56,579] Trial 35 finished with value: 0.7745667865058136 and parameters: {'n_units': 70, 'n_hidden': 4, 'epochs': 43}. Best is trial 2 with value: 0.7899471769032803.\n",
      "[I 2023-07-13 00:52:17,730] Trial 36 finished with value: 0.742873275031144 and parameters: {'n_units': 67, 'n_hidden': 4, 'epochs': 43}. Best is trial 2 with value: 0.7899471769032803.\n",
      "[I 2023-07-13 00:52:20,128] Trial 37 finished with value: 0.6982953551773212 and parameters: {'n_units': 64, 'n_hidden': 4, 'epochs': 44}. Best is trial 2 with value: 0.7899471769032803.\n",
      "[I 2023-07-13 00:52:21,877] Trial 38 finished with value: 0.7333551699111134 and parameters: {'n_units': 63, 'n_hidden': 4, 'epochs': 44}. Best is trial 2 with value: 0.7899471769032803.\n",
      "[I 2023-07-13 00:52:22,829] Trial 39 finished with value: 0.7387810390215108 and parameters: {'n_units': 63, 'n_hidden': 2, 'epochs': 47}. Best is trial 2 with value: 0.7899471769032803.\n"
     ]
    },
    {
     "name": "stderr",
     "output_type": "stream",
     "text": [
      "[I 2023-07-13 00:52:43,125] Trial 40 finished with value: 0.7745503089115237 and parameters: {'n_units': 93, 'n_hidden': 5, 'epochs': 32}. Best is trial 2 with value: 0.7899471769032803.\n",
      "[I 2023-07-13 00:52:49,010] Trial 42 finished with value: 0.7465518208154833 and parameters: {'n_units': 93, 'n_hidden': 2, 'epochs': 47}. Best is trial 2 with value: 0.7899471769032803.\n",
      "[I 2023-07-13 00:52:51,288] Trial 43 finished with value: 0.7010558396655386 and parameters: {'n_units': 94, 'n_hidden': 5, 'epochs': 33}. Best is trial 2 with value: 0.7899471769032803.\n",
      "[I 2023-07-13 00:52:52,270] Trial 41 finished with value: 0.7710220899342854 and parameters: {'n_units': 90, 'n_hidden': 5, 'epochs': 47}. Best is trial 2 with value: 0.7899471769032803.\n",
      "[I 2023-07-13 00:53:09,550] Trial 44 finished with value: 0.7728244245904284 and parameters: {'n_units': 86, 'n_hidden': 5, 'epochs': 39}. Best is trial 2 with value: 0.7899471769032803.\n",
      "[I 2023-07-13 00:53:15,515] Trial 45 finished with value: 0.7340556180152211 and parameters: {'n_units': 74, 'n_hidden': 5, 'epochs': 39}. Best is trial 2 with value: 0.7899471769032803.\n",
      "[I 2023-07-13 00:53:19,893] Trial 46 finished with value: 0.7680402656393146 and parameters: {'n_units': 75, 'n_hidden': 4, 'epochs': 48}. Best is trial 2 with value: 0.7899471769032803.\n",
      "[I 2023-07-13 00:53:21,173] Trial 48 finished with value: 0.7194634446382737 and parameters: {'n_units': 74, 'n_hidden': 4, 'epochs': 11}. Best is trial 2 with value: 0.7899471769032803.\n",
      "[I 2023-07-13 00:53:21,580] Trial 47 finished with value: 0.7645605849901422 and parameters: {'n_units': 75, 'n_hidden': 4, 'epochs': 38}. Best is trial 2 with value: 0.7899471769032803.\n",
      "[I 2023-07-13 00:53:42,014] Trial 49 finished with value: 0.7871196495472734 and parameters: {'n_units': 101, 'n_hidden': 4, 'epochs': 50}. Best is trial 2 with value: 0.7899471769032803.\n",
      "[I 2023-07-13 00:53:48,895] Trial 50 finished with value: 0.7853020129212714 and parameters: {'n_units': 32, 'n_hidden': 4, 'epochs': 50}. Best is trial 2 with value: 0.7899471769032803.\n",
      "[I 2023-07-13 00:53:49,659] Trial 51 finished with value: 0.7733297197199107 and parameters: {'n_units': 82, 'n_hidden': 3, 'epochs': 50}. Best is trial 2 with value: 0.7899471769032803.\n",
      "[I 2023-07-13 00:53:49,920] Trial 52 finished with value: 0.6944720540890689 and parameters: {'n_units': 84, 'n_hidden': 3, 'epochs': 50}. Best is trial 2 with value: 0.7899471769032803.\n",
      "[I 2023-07-13 00:54:14,484] Trial 53 finished with value: 0.7900928758748812 and parameters: {'n_units': 100, 'n_hidden': 3, 'epochs': 50}. Best is trial 53 with value: 0.7900928758748812.\n",
      "[I 2023-07-13 00:54:21,269] Trial 56 finished with value: 0.7277860489169012 and parameters: {'n_units': 104, 'n_hidden': 4, 'epochs': 45}. Best is trial 53 with value: 0.7900928758748812.\n",
      "[I 2023-07-13 00:54:21,595] Trial 55 finished with value: 0.7719545786663885 and parameters: {'n_units': 33, 'n_hidden': 3, 'epochs': 50}. Best is trial 53 with value: 0.7900928758748812.\n",
      "[I 2023-07-13 00:54:21,669] Trial 54 finished with value: 0.7554085120792271 and parameters: {'n_units': 100, 'n_hidden': 3, 'epochs': 50}. Best is trial 53 with value: 0.7900928758748812.\n",
      "[I 2023-07-13 00:54:42,739] Trial 57 finished with value: 0.6858096900013302 and parameters: {'n_units': 105, 'n_hidden': 3, 'epochs': 48}. Best is trial 53 with value: 0.7900928758748812.\n",
      "[I 2023-07-13 00:54:48,961] Trial 60 finished with value: 0.7902559283968631 and parameters: {'n_units': 99, 'n_hidden': 2, 'epochs': 48}. Best is trial 60 with value: 0.7902559283968631.\n",
      "[I 2023-07-13 00:54:49,835] Trial 58 finished with value: 0.7356003221549252 and parameters: {'n_units': 33, 'n_hidden': 3, 'epochs': 48}. Best is trial 60 with value: 0.7902559283968631.\n",
      "[I 2023-07-13 00:54:52,774] Trial 59 finished with value: 0.7080079996410522 and parameters: {'n_units': 98, 'n_hidden': 2, 'epochs': 49}. Best is trial 60 with value: 0.7902559283968631.\n",
      "[I 2023-07-13 00:55:05,160] Trial 63 finished with value: 0.5167110733830128 and parameters: {'n_units': 116, 'n_hidden': 2, 'epochs': 14}. Best is trial 60 with value: 0.7902559283968631.\n",
      "[I 2023-07-13 00:55:11,709] Trial 61 finished with value: 0.7892249233192499 and parameters: {'n_units': 128, 'n_hidden': 2, 'epochs': 48}. Best is trial 60 with value: 0.7902559283968631.\n",
      "[I 2023-07-13 00:55:18,076] Trial 62 finished with value: 0.7312892255532883 and parameters: {'n_units': 116, 'n_hidden': 2, 'epochs': 48}. Best is trial 60 with value: 0.7902559283968631.\n",
      "[I 2023-07-13 00:55:20,946] Trial 64 finished with value: 0.7018269425156894 and parameters: {'n_units': 115, 'n_hidden': 2, 'epochs': 48}. Best is trial 60 with value: 0.7902559283968631.\n",
      "[I 2023-07-13 00:55:36,423] Trial 66 finished with value: 0.7784109088712895 and parameters: {'n_units': 121, 'n_hidden': 2, 'epochs': 48}. Best is trial 60 with value: 0.7902559283968631.\n",
      "[I 2023-07-13 00:55:41,938] Trial 67 finished with value: 0.7861517322816256 and parameters: {'n_units': 127, 'n_hidden': 2, 'epochs': 47}. Best is trial 60 with value: 0.7902559283968631.\n",
      "[I 2023-07-13 00:55:43,998] Trial 68 finished with value: 0.7714419348320565 and parameters: {'n_units': 128, 'n_hidden': 6, 'epochs': 27}. Best is trial 60 with value: 0.7902559283968631.\n",
      "[I 2023-07-13 00:55:51,491] Trial 65 finished with value: 0.6626850568733484 and parameters: {'n_units': 128, 'n_hidden': 2, 'epochs': 48}. Best is trial 60 with value: 0.7902559283968631.\n",
      "[I 2023-07-13 00:55:54,150] Trial 69 finished with value: 0.6022937635340067 and parameters: {'n_units': 124, 'n_hidden': 3, 'epochs': 27}. Best is trial 60 with value: 0.7902559283968631.\n",
      "[I 2023-07-13 00:56:12,738] Trial 71 finished with value: 0.7689083317455281 and parameters: {'n_units': 124, 'n_hidden': 2, 'epochs': 46}. Best is trial 60 with value: 0.7902559283968631.\n",
      "[I 2023-07-13 00:56:20,010] Trial 73 finished with value: 0.7380135376294992 and parameters: {'n_units': 112, 'n_hidden': 2, 'epochs': 46}. Best is trial 60 with value: 0.7902559283968631.\n",
      "[I 2023-07-13 00:56:27,749] Trial 74 finished with value: 0.7366471119598768 and parameters: {'n_units': 113, 'n_hidden': 2, 'epochs': 46}. Best is trial 60 with value: 0.7902559283968631.\n",
      "[I 2023-07-13 00:56:31,161] Trial 70 finished with value: 0.6405817481850398 and parameters: {'n_units': 128, 'n_hidden': 6, 'epochs': 46}. Best is trial 60 with value: 0.7902559283968631.\n",
      "[I 2023-07-13 00:56:36,240] Trial 75 finished with value: 0.7714778117862123 and parameters: {'n_units': 103, 'n_hidden': 2, 'epochs': 50}. Best is trial 60 with value: 0.7902559283968631.\n",
      "[I 2023-07-13 00:56:39,086] Trial 72 finished with value: 0.7816693400744712 and parameters: {'n_units': 124, 'n_hidden': 2, 'epochs': 44}. Best is trial 60 with value: 0.7902559283968631.\n",
      "[I 2023-07-13 00:56:51,714] Trial 76 finished with value: 0.7911340154775834 and parameters: {'n_units': 40, 'n_hidden': 3, 'epochs': 43}. Best is trial 76 with value: 0.7911340154775834.\n",
      "[I 2023-07-13 00:56:53,331] Trial 78 finished with value: 0.7220408459928165 and parameters: {'n_units': 38, 'n_hidden': 3, 'epochs': 24}. Best is trial 76 with value: 0.7911340154775834.\n",
      "[I 2023-07-13 00:56:56,732] Trial 77 finished with value: 0.7505446436242224 and parameters: {'n_units': 38, 'n_hidden': 3, 'epochs': 43}. Best is trial 76 with value: 0.7911340154775834.\n",
      "[I 2023-07-13 00:57:06,868] Trial 79 finished with value: 0.7583598594468017 and parameters: {'n_units': 43, 'n_hidden': 3, 'epochs': 43}. Best is trial 76 with value: 0.7911340154775834.\n",
      "[I 2023-07-13 00:57:20,046] Trial 80 finished with value: 0.7391436721151834 and parameters: {'n_units': 38, 'n_hidden': 3, 'epochs': 43}. Best is trial 76 with value: 0.7911340154775834.\n",
      "[I 2023-07-13 00:57:21,944] Trial 81 finished with value: 0.7506752518548094 and parameters: {'n_units': 47, 'n_hidden': 3, 'epochs': 43}. Best is trial 76 with value: 0.7911340154775834.\n",
      "[I 2023-07-13 00:57:26,665] Trial 82 finished with value: 0.7577913741878975 and parameters: {'n_units': 44, 'n_hidden': 3, 'epochs': 42}. Best is trial 76 with value: 0.7911340154775834.\n",
      "[I 2023-07-13 00:57:53,788] Trial 83 finished with value: 0.7769116244483909 and parameters: {'n_units': 97, 'n_hidden': 3, 'epochs': 49}. Best is trial 76 with value: 0.7911340154775834.\n"
     ]
    },
    {
     "name": "stderr",
     "output_type": "stream",
     "text": [
      "[I 2023-07-13 00:57:56,070] Trial 84 finished with value: 0.749617404888437 and parameters: {'n_units': 47, 'n_hidden': 3, 'epochs': 49}. Best is trial 76 with value: 0.7911340154775834.\n",
      "[I 2023-07-13 00:58:00,526] Trial 85 finished with value: 0.7725847078797309 and parameters: {'n_units': 90, 'n_hidden': 4, 'epochs': 49}. Best is trial 76 with value: 0.7911340154775834.\n",
      "[I 2023-07-13 00:58:18,261] Trial 86 finished with value: 0.7627185063838544 and parameters: {'n_units': 96, 'n_hidden': 4, 'epochs': 49}. Best is trial 76 with value: 0.7911340154775834.\n",
      "[I 2023-07-13 00:58:24,201] Trial 87 finished with value: 0.7733560683002937 and parameters: {'n_units': 89, 'n_hidden': 4, 'epochs': 47}. Best is trial 76 with value: 0.7911340154775834.\n",
      "[I 2023-07-13 00:58:25,251] Trial 88 finished with value: 0.7958965080715968 and parameters: {'n_units': 95, 'n_hidden': 4, 'epochs': 47}. Best is trial 88 with value: 0.7958965080715968.\n",
      "[I 2023-07-13 00:58:27,220] Trial 89 finished with value: 0.7750735090486032 and parameters: {'n_units': 32, 'n_hidden': 4, 'epochs': 47}. Best is trial 88 with value: 0.7958965080715968.\n",
      "[I 2023-07-13 00:58:42,789] Trial 90 finished with value: 0.7596817728387952 and parameters: {'n_units': 32, 'n_hidden': 2, 'epochs': 47}. Best is trial 88 with value: 0.7958965080715968.\n",
      "[I 2023-07-13 00:58:48,624] Trial 91 finished with value: 0.6604312875025409 and parameters: {'n_units': 51, 'n_hidden': 2, 'epochs': 45}. Best is trial 88 with value: 0.7958965080715968.\n",
      "[I 2023-07-13 00:58:52,934] Trial 92 finished with value: 0.668275581628111 and parameters: {'n_units': 100, 'n_hidden': 4, 'epochs': 45}. Best is trial 88 with value: 0.7958965080715968.\n",
      "[I 2023-07-13 00:58:54,642] Trial 93 finished with value: 0.7503610515713274 and parameters: {'n_units': 100, 'n_hidden': 4, 'epochs': 45}. Best is trial 88 with value: 0.7958965080715968.\n",
      "[I 2023-07-13 00:59:07,159] Trial 94 finished with value: 0.7445773081785854 and parameters: {'n_units': 52, 'n_hidden': 4, 'epochs': 45}. Best is trial 88 with value: 0.7958965080715968.\n",
      "[I 2023-07-13 00:59:15,770] Trial 95 finished with value: 0.6827481312715068 and parameters: {'n_units': 102, 'n_hidden': 4, 'epochs': 50}. Best is trial 88 with value: 0.7958965080715968.\n",
      "[I 2023-07-13 00:59:22,312] Trial 96 finished with value: 0.706932228298446 and parameters: {'n_units': 108, 'n_hidden': 4, 'epochs': 50}. Best is trial 88 with value: 0.7958965080715968.\n",
      "[I 2023-07-13 00:59:23,462] Trial 97 finished with value: 0.7769350187278425 and parameters: {'n_units': 102, 'n_hidden': 4, 'epochs': 50}. Best is trial 88 with value: 0.7958965080715968.\n",
      "[I 2023-07-13 00:59:35,926] Trial 98 finished with value: 0.7502673938415683 and parameters: {'n_units': 59, 'n_hidden': 3, 'epochs': 50}. Best is trial 88 with value: 0.7958965080715968.\n",
      "[I 2023-07-13 00:59:43,001] Trial 99 finished with value: 0.7093732633737928 and parameters: {'n_units': 107, 'n_hidden': 3, 'epochs': 49}. Best is trial 88 with value: 0.7958965080715968.\n",
      "[I 2023-07-13 00:59:46,540] Trial 100 finished with value: 0.637885822795607 and parameters: {'n_units': 35, 'n_hidden': 3, 'epochs': 47}. Best is trial 88 with value: 0.7958965080715968.\n",
      "[I 2023-07-13 00:59:48,530] Trial 101 finished with value: 0.7689101928046975 and parameters: {'n_units': 106, 'n_hidden': 3, 'epochs': 47}. Best is trial 88 with value: 0.7958965080715968.\n",
      "[I 2023-07-13 00:59:58,007] Trial 102 finished with value: 0.7429700847329579 and parameters: {'n_units': 40, 'n_hidden': 2, 'epochs': 47}. Best is trial 88 with value: 0.7958965080715968.\n",
      "[I 2023-07-13 01:00:05,589] Trial 104 finished with value: 0.7797271323938727 and parameters: {'n_units': 119, 'n_hidden': 2, 'epochs': 34}. Best is trial 88 with value: 0.7958965080715968.\n",
      "[I 2023-07-13 01:00:06,656] Trial 103 finished with value: 0.7623873695734589 and parameters: {'n_units': 35, 'n_hidden': 2, 'epochs': 47}. Best is trial 88 with value: 0.7958965080715968.\n",
      "[I 2023-07-13 01:00:07,115] Trial 105 finished with value: 0.7482043223237138 and parameters: {'n_units': 92, 'n_hidden': 2, 'epochs': 34}. Best is trial 88 with value: 0.7958965080715968.\n",
      "[I 2023-07-13 01:00:19,840] Trial 106 finished with value: 0.7765868712727358 and parameters: {'n_units': 87, 'n_hidden': 2, 'epochs': 40}. Best is trial 88 with value: 0.7958965080715968.\n",
      "[I 2023-07-13 01:00:30,378] Trial 109 finished with value: 0.7476942655190784 and parameters: {'n_units': 86, 'n_hidden': 2, 'epochs': 40}. Best is trial 88 with value: 0.7958965080715968.\n",
      "[I 2023-07-13 01:00:31,422] Trial 107 finished with value: 0.7386432099757092 and parameters: {'n_units': 94, 'n_hidden': 2, 'epochs': 44}. Best is trial 88 with value: 0.7958965080715968.\n",
      "[I 2023-07-13 01:00:35,283] Trial 108 finished with value: 0.7563413315136979 and parameters: {'n_units': 94, 'n_hidden': 2, 'epochs': 44}. Best is trial 88 with value: 0.7958965080715968.\n",
      "[I 2023-07-13 01:00:47,173] Trial 110 finished with value: 0.77109791998903 and parameters: {'n_units': 94, 'n_hidden': 2, 'epochs': 44}. Best is trial 88 with value: 0.7958965080715968.\n",
      "[I 2023-07-13 01:01:01,714] Trial 111 finished with value: 0.7681628485510791 and parameters: {'n_units': 95, 'n_hidden': 5, 'epochs': 44}. Best is trial 88 with value: 0.7958965080715968.\n",
      "[I 2023-07-13 01:01:03,090] Trial 112 finished with value: 0.760176551527509 and parameters: {'n_units': 122, 'n_hidden': 5, 'epochs': 42}. Best is trial 88 with value: 0.7958965080715968.\n",
      "[I 2023-07-13 01:01:07,184] Trial 114 finished with value: 0.759263917500647 and parameters: {'n_units': 122, 'n_hidden': 2, 'epochs': 30}. Best is trial 88 with value: 0.7958965080715968.\n",
      "[I 2023-07-13 01:01:09,084] Trial 113 finished with value: 0.683555372657675 and parameters: {'n_units': 111, 'n_hidden': 5, 'epochs': 48}. Best is trial 88 with value: 0.7958965080715968.\n",
      "[I 2023-07-13 01:01:25,380] Trial 115 finished with value: 0.7709901493655511 and parameters: {'n_units': 123, 'n_hidden': 2, 'epochs': 42}. Best is trial 88 with value: 0.7958965080715968.\n",
      "[I 2023-07-13 01:01:28,797] Trial 116 finished with value: 0.7512843420495308 and parameters: {'n_units': 124, 'n_hidden': 2, 'epochs': 48}. Best is trial 88 with value: 0.7958965080715968.\n",
      "[I 2023-07-13 01:01:33,146] Trial 117 finished with value: 0.732500768244012 and parameters: {'n_units': 124, 'n_hidden': 2, 'epochs': 48}. Best is trial 88 with value: 0.7958965080715968.\n",
      "[I 2023-07-13 01:01:33,570] Trial 118 finished with value: 0.7876270671699586 and parameters: {'n_units': 125, 'n_hidden': 2, 'epochs': 46}. Best is trial 88 with value: 0.7958965080715968.\n",
      "[I 2023-07-13 01:01:52,318] Trial 119 finished with value: 0.745266980459652 and parameters: {'n_units': 83, 'n_hidden': 2, 'epochs': 46}. Best is trial 88 with value: 0.7958965080715968.\n",
      "[I 2023-07-13 01:02:00,050] Trial 120 finished with value: 0.7158970142383148 and parameters: {'n_units': 119, 'n_hidden': 2, 'epochs': 46}. Best is trial 88 with value: 0.7958965080715968.\n",
      "[I 2023-07-13 01:02:02,657] Trial 121 finished with value: 0.704694967059454 and parameters: {'n_units': 119, 'n_hidden': 2, 'epochs': 49}. Best is trial 88 with value: 0.7958965080715968.\n",
      "[I 2023-07-13 01:02:02,885] Trial 122 finished with value: 0.7738228349424252 and parameters: {'n_units': 99, 'n_hidden': 3, 'epochs': 46}. Best is trial 88 with value: 0.7958965080715968.\n",
      "[I 2023-07-13 01:02:25,409] Trial 124 finished with value: 0.7121561875204405 and parameters: {'n_units': 118, 'n_hidden': 2, 'epochs': 48}. Best is trial 88 with value: 0.7958965080715968.\n",
      "[I 2023-07-13 01:02:28,499] Trial 126 finished with value: 0.7185988090365552 and parameters: {'n_units': 127, 'n_hidden': 2, 'epochs': 49}. Best is trial 88 with value: 0.7958965080715968.\n",
      "[I 2023-07-13 01:02:29,905] Trial 125 finished with value: 0.7561918292035413 and parameters: {'n_units': 127, 'n_hidden': 2, 'epochs': 49}. Best is trial 88 with value: 0.7958965080715968.\n",
      "[I 2023-07-13 01:02:40,518] Trial 123 finished with value: 0.7689560099096113 and parameters: {'n_units': 120, 'n_hidden': 3, 'epochs': 49}. Best is trial 88 with value: 0.7958965080715968.\n",
      "[I 2023-07-13 01:02:48,456] Trial 128 finished with value: 0.7353776138283687 and parameters: {'n_units': 41, 'n_hidden': 4, 'epochs': 45}. Best is trial 88 with value: 0.7958965080715968.\n"
     ]
    },
    {
     "name": "stderr",
     "output_type": "stream",
     "text": [
      "[I 2023-07-13 01:02:49,818] Trial 127 finished with value: 0.5942281627228234 and parameters: {'n_units': 127, 'n_hidden': 2, 'epochs': 49}. Best is trial 88 with value: 0.7958965080715968.\n",
      "[I 2023-07-13 01:02:50,200] Trial 129 finished with value: 0.7464522334501256 and parameters: {'n_units': 126, 'n_hidden': 4, 'epochs': 45}. Best is trial 88 with value: 0.7958965080715968.\n",
      "[I 2023-07-13 01:03:04,530] Trial 132 finished with value: 0.7432471452776463 and parameters: {'n_units': 126, 'n_hidden': 4, 'epochs': 18}. Best is trial 88 with value: 0.7958965080715968.\n",
      "[I 2023-07-13 01:03:05,925] Trial 130 finished with value: 0.7691610246426235 and parameters: {'n_units': 91, 'n_hidden': 4, 'epochs': 45}. Best is trial 88 with value: 0.7958965080715968.\n",
      "[I 2023-07-13 01:03:12,405] Trial 133 finished with value: 0.7335425392302698 and parameters: {'n_units': 80, 'n_hidden': 3, 'epochs': 41}. Best is trial 88 with value: 0.7958965080715968.\n",
      "[I 2023-07-13 01:03:14,190] Trial 131 finished with value: 0.6993160998299666 and parameters: {'n_units': 126, 'n_hidden': 4, 'epochs': 46}. Best is trial 88 with value: 0.7958965080715968.\n",
      "[I 2023-07-13 01:03:29,525] Trial 135 finished with value: 0.6394135372970409 and parameters: {'n_units': 65, 'n_hidden': 4, 'epochs': 42}. Best is trial 88 with value: 0.7958965080715968.\n",
      "[I 2023-07-13 01:03:32,991] Trial 134 finished with value: 0.7699905042033952 and parameters: {'n_units': 55, 'n_hidden': 4, 'epochs': 42}. Best is trial 88 with value: 0.7958965080715968.\n",
      "[I 2023-07-13 01:03:37,908] Trial 136 finished with value: 0.7733615187318771 and parameters: {'n_units': 76, 'n_hidden': 4, 'epochs': 42}. Best is trial 88 with value: 0.7958965080715968.\n",
      "[I 2023-07-13 01:03:42,266] Trial 137 finished with value: 0.7374443422186847 and parameters: {'n_units': 97, 'n_hidden': 4, 'epochs': 47}. Best is trial 88 with value: 0.7958965080715968.\n",
      "[I 2023-07-13 01:03:57,607] Trial 138 finished with value: 0.7565783170933839 and parameters: {'n_units': 77, 'n_hidden': 3, 'epochs': 50}. Best is trial 88 with value: 0.7958965080715968.\n",
      "[I 2023-07-13 01:04:00,398] Trial 139 finished with value: 0.7676317134281954 and parameters: {'n_units': 76, 'n_hidden': 3, 'epochs': 47}. Best is trial 88 with value: 0.7958965080715968.\n",
      "[I 2023-07-13 01:04:02,823] Trial 140 finished with value: 0.7317059814269813 and parameters: {'n_units': 72, 'n_hidden': 2, 'epochs': 47}. Best is trial 88 with value: 0.7958965080715968.\n",
      "[I 2023-07-13 01:04:10,195] Trial 141 finished with value: 0.8022362619385912 and parameters: {'n_units': 104, 'n_hidden': 3, 'epochs': 50}. Best is trial 141 with value: 0.8022362619385912.\n",
      "[I 2023-07-13 01:04:23,738] Trial 142 finished with value: 0.7672367305787928 and parameters: {'n_units': 50, 'n_hidden': 2, 'epochs': 48}. Best is trial 141 with value: 0.8022362619385912.\n",
      "[I 2023-07-13 01:04:26,761] Trial 144 finished with value: 0.6584147529261645 and parameters: {'n_units': 103, 'n_hidden': 2, 'epochs': 44}. Best is trial 141 with value: 0.8022362619385912.\n",
      "[I 2023-07-13 01:04:27,679] Trial 143 finished with value: 0.6458302494614406 and parameters: {'n_units': 72, 'n_hidden': 2, 'epochs': 44}. Best is trial 141 with value: 0.8022362619385912.\n",
      "[I 2023-07-13 01:04:48,874] Trial 146 finished with value: 0.7464427932285727 and parameters: {'n_units': 45, 'n_hidden': 3, 'epochs': 50}. Best is trial 141 with value: 0.8022362619385912.\n",
      "[I 2023-07-13 01:04:52,933] Trial 147 finished with value: 0.7343670606329147 and parameters: {'n_units': 45, 'n_hidden': 3, 'epochs': 50}. Best is trial 141 with value: 0.8022362619385912.\n",
      "[I 2023-07-13 01:04:57,693] Trial 148 finished with value: 0.7666652409872303 and parameters: {'n_units': 98, 'n_hidden': 3, 'epochs': 50}. Best is trial 141 with value: 0.8022362619385912.\n",
      "[I 2023-07-13 01:04:57,740] Trial 145 finished with value: 0.7360643308293437 and parameters: {'n_units': 104, 'n_hidden': 3, 'epochs': 50}. Best is trial 141 with value: 0.8022362619385912.\n",
      "[I 2023-07-13 01:05:01,747] Trial 149 finished with value: 0.7887686814949452 and parameters: {'n_units': 101, 'n_hidden': 3, 'epochs': 50}. Best is trial 141 with value: 0.8022362619385912.\n"
     ]
    }
   ],
   "source": [
    "from keras.models import Sequential\n",
    "from keras.layers import Dense\n",
    "\n",
    "def create_model(params):\n",
    "\n",
    "#     n_hidden = trial.suggest_int('n_hidden', 2, 5)\n",
    "#     n_units = trial.suggest_int('n_units', 32, 128)\n",
    "#     learning_rate = trial.suggest_float('learning_rate', 1e-5, 1e-1)\n",
    "    model = Sequential()\n",
    "    model.add(Dense(X_cat_selected.shape[1], activation='linear'))\n",
    "\n",
    "    for i in range(params[\"n_hidden\"]):\n",
    "        model.add(Dense(params[\"n_units\"], activation='relu'))\n",
    "\n",
    "    model.add(Dense(1, activation=\"linear\"))\n",
    "    model.compile(loss='mean_squared_error',\n",
    "                  optimizer=\"adam\")\n",
    "    return model\n",
    "\n",
    "\n",
    "# objective function to be minimized\n",
    "def objective_fun(trial):\n",
    "    \n",
    "    params = dict(n_units=trial.suggest_int(\"n_units\", 32, 128),\n",
    "                 n_hidden=trial.suggest_int(\"n_hidden\", 2, 6),\n",
    "#                  learning_rate=trial.suggest_float(\"learning_rate\", 1e-5, 1e-1)\n",
    "                 )\n",
    "    \n",
    "    model = create_model(params)\n",
    "    model.fit(X_cat_selected[~bad_kids][train_idxs], y[~bad_kids][train_idxs], \n",
    "              epochs=trial.suggest_int(\"epochs\", 10, 50), \n",
    "              batch_size=32, \n",
    "              validation_data=(X_cat_selected[~bad_kids][val_idxs], y[~bad_kids][val_idxs]), \n",
    "              verbose=False)\n",
    "    y_pred = model.predict(X_cat_selected[~bad_kids][val_idxs], verbose=False)\n",
    "\n",
    "    error = r2_score(y_pred, y[~bad_kids][val_idxs])\n",
    "    return error\n",
    "\n",
    "\n",
    "study = optuna.create_study(direction=\"maximize\")\n",
    "study.optimize(objective_fun, n_trials=150, n_jobs=-1)"
   ]
  },
  {
   "cell_type": "code",
   "execution_count": 14,
   "metadata": {
    "ExecuteTime": {
     "end_time": "2023-07-05T13:55:48.929161Z",
     "start_time": "2023-07-05T13:55:48.926101Z"
    }
   },
   "outputs": [
    {
     "data": {
      "text/plain": [
       "{'n_units': 104, 'n_hidden': 3, 'epochs': 50}"
      ]
     },
     "execution_count": 14,
     "metadata": {},
     "output_type": "execute_result"
    }
   ],
   "source": [
    "study.best_params"
   ]
  },
  {
   "cell_type": "code",
   "execution_count": 15,
   "metadata": {
    "ExecuteTime": {
     "end_time": "2023-07-05T13:55:49.633885Z",
     "start_time": "2023-07-05T13:55:48.929718Z"
    }
   },
   "outputs": [
    {
     "name": "stdout",
     "output_type": "stream",
     "text": [
      "Epoch 1/30\n",
      "9/9 [==============================] - 2s 3ms/step - loss: 5.2712\n",
      "Epoch 2/30\n",
      "9/9 [==============================] - 0s 4ms/step - loss: 2.0262\n",
      "Epoch 3/30\n",
      "9/9 [==============================] - 0s 3ms/step - loss: 1.3258\n",
      "Epoch 4/30\n",
      "9/9 [==============================] - 0s 3ms/step - loss: 1.0839\n",
      "Epoch 5/30\n",
      "9/9 [==============================] - 0s 4ms/step - loss: 0.8308\n",
      "Epoch 6/30\n",
      "9/9 [==============================] - 0s 3ms/step - loss: 0.6509\n",
      "Epoch 7/30\n",
      "9/9 [==============================] - 0s 4ms/step - loss: 0.5403\n",
      "Epoch 8/30\n",
      "9/9 [==============================] - 0s 3ms/step - loss: 0.4559\n",
      "Epoch 9/30\n",
      "9/9 [==============================] - 0s 4ms/step - loss: 0.3658\n",
      "Epoch 10/30\n",
      "9/9 [==============================] - 0s 6ms/step - loss: 0.3082\n",
      "Epoch 11/30\n",
      "9/9 [==============================] - 0s 5ms/step - loss: 0.2508\n",
      "Epoch 12/30\n",
      "9/9 [==============================] - 0s 5ms/step - loss: 0.2251\n",
      "Epoch 13/30\n",
      "9/9 [==============================] - 0s 4ms/step - loss: 0.2084\n",
      "Epoch 14/30\n",
      "9/9 [==============================] - 0s 6ms/step - loss: 0.1909\n",
      "Epoch 15/30\n",
      "9/9 [==============================] - 0s 5ms/step - loss: 0.1702\n",
      "Epoch 16/30\n",
      "9/9 [==============================] - 0s 6ms/step - loss: 0.1629\n",
      "Epoch 17/30\n",
      "9/9 [==============================] - 0s 8ms/step - loss: 0.1494\n",
      "Epoch 18/30\n",
      "9/9 [==============================] - 0s 5ms/step - loss: 0.1404\n",
      "Epoch 19/30\n",
      "9/9 [==============================] - 0s 5ms/step - loss: 0.1333\n",
      "Epoch 20/30\n",
      "9/9 [==============================] - 0s 6ms/step - loss: 0.1305\n",
      "Epoch 21/30\n",
      "9/9 [==============================] - 0s 5ms/step - loss: 0.1270\n",
      "Epoch 22/30\n",
      "9/9 [==============================] - 0s 5ms/step - loss: 0.1258\n",
      "Epoch 23/30\n",
      "9/9 [==============================] - 0s 5ms/step - loss: 0.1242\n",
      "Epoch 24/30\n",
      "9/9 [==============================] - 0s 5ms/step - loss: 0.1279\n",
      "Epoch 25/30\n",
      "9/9 [==============================] - 0s 7ms/step - loss: 0.1309\n",
      "Epoch 26/30\n",
      "9/9 [==============================] - 0s 7ms/step - loss: 0.1168\n",
      "Epoch 27/30\n",
      "9/9 [==============================] - 0s 6ms/step - loss: 0.1173\n",
      "Epoch 28/30\n",
      "9/9 [==============================] - 0s 5ms/step - loss: 0.1143\n",
      "Epoch 29/30\n",
      "9/9 [==============================] - 0s 4ms/step - loss: 0.1103\n",
      "Epoch 30/30\n",
      "9/9 [==============================] - 0s 5ms/step - loss: 0.1108\n",
      "9/9 [==============================] - 0s 2ms/step\n",
      "Normalized root mean squared error = 0.1092\n",
      "R-squared = 0.7430\n"
     ]
    }
   ],
   "source": [
    "model = create_model(study.best_params)\n",
    "model.fit(X_cat_selected[~bad_kids][train_idxs], y[~bad_kids][train_idxs], \n",
    "          epochs=30, batch_size=128)\n",
    "\n",
    "y_pred = model.predict(X_cat_selected[~bad_kids][val_idxs])\n",
    "\n",
    "nrmse = np.sqrt(mean_squared_error(y[~bad_kids][val_idxs], y_pred)) / (np.max(y[~bad_kids][val_idxs]) - np.min(y[~bad_kids][val_idxs]))\n",
    "\n",
    "print('Normalized root mean squared error = %.4f' % nrmse)\n",
    "print('R-squared = %.4f' % r2_score(y[~bad_kids][val_idxs], y_pred))\n"
   ]
  },
  {
   "cell_type": "code",
   "execution_count": 16,
   "metadata": {
    "ExecuteTime": {
     "end_time": "2023-07-05T13:55:49.675859Z",
     "start_time": "2023-07-05T13:55:49.634286Z"
    }
   },
   "outputs": [
    {
     "name": "stdout",
     "output_type": "stream",
     "text": [
      "32/32 [==============================] - 0s 2ms/step\n"
     ]
    },
    {
     "data": {
      "text/plain": [
       "array([[-2.3431544],\n",
       "       [-2.2102206],\n",
       "       [-2.3605676],\n",
       "       ...,\n",
       "       [-3.7697868],\n",
       "       [-3.9136631],\n",
       "       [-3.8850331]], dtype=float32)"
      ]
     },
     "execution_count": 16,
     "metadata": {},
     "output_type": "execute_result"
    }
   ],
   "source": [
    "y_pred = model.predict(X_cat_selected[bad_kids])\n",
    "# y_pred = np.power(10, y_pred)\n",
    "y_pred"
   ]
  },
  {
   "cell_type": "code",
   "execution_count": 17,
   "metadata": {
    "ExecuteTime": {
     "end_time": "2023-07-05T13:55:50.356914Z",
     "start_time": "2023-07-05T13:55:50.351668Z"
    }
   },
   "outputs": [
    {
     "name": "stderr",
     "output_type": "stream",
     "text": [
      "/home/djanloo/.local/share/virtualenvs/DM2-PeqFRmfa/lib/python3.10/site-packages/umap/distances.py:1063: NumbaDeprecationWarning: The 'nopython' keyword argument was not supplied to the 'numba.jit' decorator. The implicit default value for this argument is currently False, but it will be changed to True in Numba 0.59.0. See https://numba.readthedocs.io/en/stable/reference/deprecation.html#deprecation-of-object-mode-fall-back-behaviour-when-using-jit for details.\n",
      "  @numba.jit()\n",
      "/home/djanloo/.local/share/virtualenvs/DM2-PeqFRmfa/lib/python3.10/site-packages/umap/distances.py:1071: NumbaDeprecationWarning: The 'nopython' keyword argument was not supplied to the 'numba.jit' decorator. The implicit default value for this argument is currently False, but it will be changed to True in Numba 0.59.0. See https://numba.readthedocs.io/en/stable/reference/deprecation.html#deprecation-of-object-mode-fall-back-behaviour-when-using-jit for details.\n",
      "  @numba.jit()\n",
      "/home/djanloo/.local/share/virtualenvs/DM2-PeqFRmfa/lib/python3.10/site-packages/umap/distances.py:1086: NumbaDeprecationWarning: The 'nopython' keyword argument was not supplied to the 'numba.jit' decorator. The implicit default value for this argument is currently False, but it will be changed to True in Numba 0.59.0. See https://numba.readthedocs.io/en/stable/reference/deprecation.html#deprecation-of-object-mode-fall-back-behaviour-when-using-jit for details.\n",
      "  @numba.jit()\n",
      "/home/djanloo/.local/share/virtualenvs/DM2-PeqFRmfa/lib/python3.10/site-packages/umap/umap_.py:660: NumbaDeprecationWarning: The 'nopython' keyword argument was not supplied to the 'numba.jit' decorator. The implicit default value for this argument is currently False, but it will be changed to True in Numba 0.59.0. See https://numba.readthedocs.io/en/stable/reference/deprecation.html#deprecation-of-object-mode-fall-back-behaviour-when-using-jit for details.\n",
      "  @numba.jit()\n"
     ]
    }
   ],
   "source": [
    "from umap import UMAP\n",
    "\n",
    "reducer = UMAP(n_neighbors=20)\n",
    "embedding = reducer.fit_transform(X_selected)"
   ]
  },
  {
   "cell_type": "code",
   "execution_count": 18,
   "metadata": {},
   "outputs": [
    {
     "name": "stdout",
     "output_type": "stream",
     "text": [
      "32/32 [==============================] - 0s 2ms/step\n",
      "9/9 [==============================] - 0s 2ms/step\n"
     ]
    },
    {
     "data": {
      "image/png": "[encoded data removed]",
      "text/plain": [
       "<Figure size 708.661x236.22 with 4 Axes>"
      ]
     },
     "metadata": {},
     "output_type": "display_data"
    }
   ],
   "source": [
    "fig, axes = plt.subplots(1,4,figsize=default_style.SHORT_FULLSIZE_FIGURE)\n",
    "\n",
    "y_correct_xgb = y.copy()\n",
    "y_correct_xgb[bad_kids] = xgb.predict(X_cat_selected[bad_kids]).squeeze()\n",
    "\n",
    "y_correct_nn = y.copy()\n",
    "y_correct_nn[bad_kids] = model.predict(X_cat_selected[bad_kids]).squeeze()\n",
    "\n",
    "\n",
    "limits = dict(vmin=np.min(y[~bad_kids]), vmax=np.max(y[~bad_kids]), cmap=\"rainbow\")\n",
    "\n",
    "## NORMAL ## \n",
    "axes[0].scatter(*(embedding[~bad_kids].T), s=2, c=y[~bad_kids], **limits)\n",
    "axes[0].scatter(*(embedding[bad_kids].T), s=1, color=\"k\", marker=\"s\")\n",
    "axes[0].axis(\"off\");\n",
    "axes[0].set_title(\"Original stft_min\")\n",
    "\n",
    "\n",
    "## XGB ##\n",
    "axes[1].scatter(*(embedding.T), s=2, c=y_correct_xgb, **limits)\n",
    "axes[1].axis(\"off\");\n",
    "axes[1].set_title(\"XGBoost\")\n",
    "\n",
    "## NN ##\n",
    "axes[2].scatter(*(embedding.T), s=2, c=y_correct_nn, **limits)\n",
    "axes[2].axis(\"off\");\n",
    "axes[2].set_title(\"Neural Network\")\n",
    "\n",
    "\n",
    "#### COMPARISON\n",
    "\n",
    "y_pred_xgb = xgb.predict(X_cat_selected[~bad_kids][val_idxs])\n",
    "y_pred_nn = model.predict(X_cat_selected[~bad_kids][val_idxs]).squeeze()\n",
    "\n",
    "asort = np.argsort(y[~bad_kids][val_idxs])\n",
    "colors=sns.color_palette(\"rainbow\", n_colors=8)\n",
    "\n",
    "axes[3].plot(y[~bad_kids][val_idxs][asort], y_pred_xgb[asort], ls=\"\", marker=\".\", ms=2, label=\"XGB\",color=colors[0])\n",
    "axes[3].plot(y[~bad_kids][val_idxs][asort], y_pred_nn[asort], ls=\"\", marker=\".\", ms=2, label=\"NN\",color=colors[-1])\n",
    "\n",
    "xx = np.linspace(np.min(y[~bad_kids][val_idxs]), np.max(y[~bad_kids][val_idxs]))\n",
    "axes[3].plot(xx,xx, ls=\":\", color=\"k\")\n",
    "axes[3].set_xlabel(\"True\")\n",
    "axes[3].set_ylabel(\"Predicted\")\n",
    "\n",
    "axes[3].set_xticks([])\n",
    "axes[3].set_yticks([])\n",
    "\n",
    "axes[3].legend()\n",
    "\n",
    "fig.savefig(\"images/regession_comparison_stft_min.pdf\")"
   ]
  },
  {
   "cell_type": "code",
   "execution_count": null,
   "metadata": {},
   "outputs": [],
   "source": []
  }
 ],
 "metadata": {
  "kernelspec": {
   "display_name": "DM2",
   "language": "python",
   "name": "dm2"
  },
  "language_info": {
   "codemirror_mode": {
    "name": "ipython",
    "version": 3
   },
   "file_extension": ".py",
   "mimetype": "text/x-python",
   "name": "python",
   "nbconvert_exporter": "python",
   "pygments_lexer": "ipython3",
   "version": "3.10.6"
  }
 },
 "nbformat": 4,
 "nbformat_minor": 1
}
