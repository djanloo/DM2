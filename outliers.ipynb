{
 "cells": [
  {
   "cell_type": "code",
   "execution_count": 1,
   "metadata": {
    "ExecuteTime": {
     "end_time": "2023-05-21T13:05:51.633310Z",
     "start_time": "2023-05-21T13:05:51.631609Z"
    }
   },
   "outputs": [],
   "source": [
    "import pandas as pd\n",
    "import numpy as np\n",
    "import matplotlib.pyplot as plt\n",
    "import seaborn as sns; sns.set()\n",
    "import os\n",
    "from pandas.core.dtypes.common import is_numeric_dtype\n",
    "from sklearn.preprocessing import MinMaxScaler\n",
    "\n",
    "import default_style"
   ]
  },
  {
   "cell_type": "code",
   "execution_count": 2,
   "metadata": {
    "ExecuteTime": {
     "end_time": "2023-05-21T13:05:51.641569Z",
     "start_time": "2023-05-21T13:05:51.633811Z"
    }
   },
   "outputs": [],
   "source": [
    "DATA_FOLDER = 'dataset'\n",
    "DATASET = os.path.join(DATA_FOLDER, 'preprocessed_df.csv')\n",
    "LABELLED_OUTLIERS = os.path.join(DATA_FOLDER, 'outliers_labelled.csv')\n",
    "OUTLIERS_REMOVED = os.path.join(DATA_FOLDER, \"outliers_removed.csv\")"
   ]
  },
  {
   "cell_type": "code",
   "execution_count": 3,
   "metadata": {
    "ExecuteTime": {
     "end_time": "2023-05-21T13:05:51.708199Z",
     "start_time": "2023-05-21T13:05:51.636707Z"
    }
   },
   "outputs": [],
   "source": [
    "df = pd.read_csv(DATASET)\n",
    "numerical_attr_list = [col for col in df.columns if is_numeric_dtype(df[col])]\n",
    "categorical_attr_list = [col for col in df.columns if not is_numeric_dtype(df[col])]"
   ]
  },
  {
   "cell_type": "code",
   "execution_count": 4,
   "metadata": {},
   "outputs": [],
   "source": [
    "# Color codes\n",
    "code_map = dict(not_outlier=\"k\", ABOD=\"g\", LOF=\"r\", ISFO=\"b\", aggregatedOD=\"orange\")"
   ]
  },
  {
   "cell_type": "markdown",
   "metadata": {},
   "source": [
    "## Preliminary"
   ]
  },
  {
   "cell_type": "code",
   "execution_count": 5,
   "metadata": {},
   "outputs": [],
   "source": [
    "# Redefine some stuff of used OD classes\n",
    "# to obtain code continuity\n",
    "from sklearn.neighbors import LocalOutlierFactor\n",
    "from pyod.models.abod import ABOD\n",
    "from sklearn.ensemble import IsolationForest\n",
    "\n",
    "class MyLOF(LocalOutlierFactor):\n",
    "    name = \"LOF\"\n",
    "\n",
    "    @property\n",
    "    def scores(self): return self.negative_outlier_factor_\n",
    "\n",
    "class MyABOD(ABOD):\n",
    "    name = \"ABOD\"\n",
    "\n",
    "    @property\n",
    "    def scores(self): return self.decision_scores_\n",
    "\n",
    "class MyISFO(IsolationForest):\n",
    "    name = \"ISFO\"\n",
    "\n",
    "    def fit(self, X):\n",
    "        self._train_samp = X\n",
    "        return super().fit(X)\n",
    "    \n",
    "    @property\n",
    "    def scores(self): return self.score_samples(self._train_samp)"
   ]
  },
  {
   "cell_type": "code",
   "execution_count": 6,
   "metadata": {},
   "outputs": [],
   "source": [
    "# Defines an aggregated OD method\n",
    "from sklearn.preprocessing import MinMaxScaler\n",
    "\n",
    "class AggregatedOD(object):\n",
    "    name = \"aggregatedOD\"\n",
    "    def __init__(self, coefficient_vector=None, **pars):\n",
    "        self.methods = []\n",
    "        self.single_scores = None\n",
    "        self._scores = None\n",
    "\n",
    "        if coefficient_vector is None:\n",
    "            coefficient_vector = np.ones(3)/3\n",
    "        else:\n",
    "            self.coefficient_vector = np.array(coefficient_vector)/np.sum(coefficient_vector)\n",
    "\n",
    "        for od_meth in [MyISFO, MyABOD, MyLOF]:\n",
    "            self.methods.append(od_meth(** (pars.get(od_meth.name, dict() ))))\n",
    "        \n",
    "    def fit(self, X):\n",
    "        for od_meth in self.methods:\n",
    "            od_meth.fit(X)\n",
    "        self.scores\n",
    "\n",
    "    @property\n",
    "    def scores(self):\n",
    "        self.single_scores = [MinMaxScaler().fit_transform(od_meth.scores.reshape(-1,1)).reshape(-1) for od_meth in self.methods]\n",
    "        self.single_scores = np.array(self.single_scores)\n",
    "        self._scores = self.coefficient_vector[None, :].dot(self.single_scores).reshape(-1)\n",
    "        return self._scores\n",
    "    \n",
    "    def make_table(self, p_percent=0.01):\n",
    "        assert 0.0 < p_percent < 1.0, \"percent must be smaller than one and bigger than zero\"\n",
    "            \n",
    "        if self._scores is None:\n",
    "            raise RuntimeError(\"AggregatedOD must be fitted to something before taking the worst points\")\n",
    "        \n",
    "        # Builds a score table for each method\n",
    "        score_table = pd.DataFrame(\n",
    "                                    self.single_scores.T, \n",
    "                                    columns=[f\"{meth.name}_score\" for meth in self.methods]\n",
    "                                  )\n",
    "        \n",
    "        # Adds the aggregated scoring\n",
    "        score_table = score_table.join(\n",
    "                                        pd.DataFrame(\n",
    "                                                    self._scores.T, \n",
    "                                                    columns=[f\"{self.name}_score\"]\n",
    "                                                    )\n",
    "                                        )\n",
    "        # Computes the actual number of points to be identified\n",
    "        N_p  = int(p_percent*len(self._scores))\n",
    "        \n",
    "        for od_meth in self.methods + [self]:\n",
    "            score_table[f\"is_{od_meth.name}_outlier\"] = False\n",
    "            bad_kids = score_table[f\"{od_meth.name}_score\"].nsmallest(N_p).index\n",
    "            score_table.loc[bad_kids, f\"is_{od_meth.name}_outlier\" ] = True\n",
    "        return score_table"
   ]
  },
  {
   "cell_type": "markdown",
   "metadata": {},
   "source": [
    "Defines the subsamples in which to fine outliers"
   ]
  },
  {
   "cell_type": "code",
   "execution_count": 7,
   "metadata": {},
   "outputs": [],
   "source": [
    "# The sub-samples in which the dataset is divided\n",
    "# Currently the OD is performed on each element of (vocal_channel, sex) product category\n",
    "locality_areas = []\n",
    "for vc in [\"song\", \"speech\"]:\n",
    "    for s in [\"M\",\"F\"]:\n",
    "        locality_areas.append(dict(vocal_channel=vc, sex=s))"
   ]
  },
  {
   "cell_type": "markdown",
   "metadata": {},
   "source": [
    "## FInd outliers"
   ]
  },
  {
   "cell_type": "markdown",
   "metadata": {},
   "source": [
    "For each method finds the top `p%` outliers"
   ]
  },
  {
   "cell_type": "code",
   "execution_count": 8,
   "metadata": {},
   "outputs": [],
   "source": [
    "params = dict(ISFO=dict(n_jobs=-1, n_estimators=100),\n",
    "              ABOD=dict(),\n",
    "              LOF =dict(n_jobs=-1), ) # Parameters of the estimators\n",
    "\n",
    "outlier_detector = AggregatedOD(coefficient_vector=[0.3, 1,1], **params)\n",
    "methods =  outlier_detector.methods + [outlier_detector]\n",
    "\n",
    "for locality in locality_areas:\n",
    "    \n",
    "    # Takes the local subsample\n",
    "    locality_mask = np.array([(df[key] == val).values for key, val in locality.items()]).all(axis=0)\n",
    "    \n",
    "    # Normalizes the subsample with MinMaxScaler\n",
    "    subsamp = MinMaxScaler().fit_transform( df.loc[locality_mask][numerical_attr_list])\n",
    "    \n",
    "    # Fits\n",
    "    outlier_detector.fit(subsamp)\n",
    "   \n",
    "    # Takes the worsts\n",
    "    score_table = outlier_detector.make_table(p_percent=0.01)\n",
    "    \n",
    "    # Sets the values in the original dataset\n",
    "    for od_meth in methods:\n",
    "        df.loc[locality_mask, f\"is_{od_meth.name}_outlier\"] =  score_table[f\"is_{od_meth.name}_outlier\"].values\n",
    "        df.loc[locality_mask, f\"{od_meth.name}_score\"] = score_table[f\"{od_meth.name}_score\"].values\n",
    "\n",
    "# Finally assign colors\n",
    "df[\"outlier_color\"] = code_map[\"not_outlier\"]\n",
    "for meth in methods:\n",
    "    df.loc[df[f\"is_{meth.name}_outlier\"], \"outlier_color\"] = code_map[meth.name]"
   ]
  },
  {
   "cell_type": "code",
   "execution_count": 9,
   "metadata": {},
   "outputs": [
    {
     "data": {
      "text/plain": [
       "[23, 23, 23, 23]"
      ]
     },
     "execution_count": 9,
     "metadata": {},
     "output_type": "execute_result"
    }
   ],
   "source": [
    "outliers_found = [df[f\"is_{od_meth.name}_outlier\"].sum() for od_meth in methods]\n",
    "outliers_found"
   ]
  },
  {
   "cell_type": "markdown",
   "metadata": {},
   "source": [
    "Now check whether the outliers have a predominant category"
   ]
  },
  {
   "cell_type": "code",
   "execution_count": 10,
   "metadata": {},
   "outputs": [
    {
     "data": {
      "image/png": "[encoded data removed]",
      "text/plain": [
       "<Figure size 708.661x354.331 with 2 Axes>"
      ]
     },
     "metadata": {},
     "output_type": "display_data"
    }
   ],
   "source": [
    "def plot_polar_closed(items, r, ax, **kwargs):\n",
    "    items = list(items)\n",
    "    asort = np.argsort(items)\n",
    "\n",
    "    items = np.array(items)[asort]\n",
    "    r = np.array(list(r))[asort]\n",
    "\n",
    "    theta = np.linspace(0, 6.28, len(items), endpoint=False)\n",
    "\n",
    "    theta = np.append(theta, theta[0])\n",
    "    r = np.append(r, r[0])\n",
    "    fill_kwargs = kwargs.copy()\n",
    "    fill_kwargs[\"alpha\"] = 0.6,\n",
    "    fill_kwargs[\"label\"] = \"\"\n",
    "\n",
    "    ax.fill_between(theta,0*r, r, **fill_kwargs)\n",
    "    ax.plot(theta, r, **kwargs)\n",
    "\n",
    "    ax.set_xticks(theta[:-1], items, fontsize=8)\n",
    "    ax.set_rticks([])\n",
    "\n",
    "fig, axes = plt.subplots(1,2, figsize=default_style.FULLSIZE_FIGURE, \n",
    "                         subplot_kw={'projection': 'polar'})\n",
    "\n",
    "for i, cat in enumerate([\"emotion\", \"actor\"]):\n",
    "    cat_vals, cat_counts = np.unique(df[cat], return_counts=True)\n",
    "    if cat ==\"actor\":\n",
    "        cat_vals = [int(act_name.split(\"_\")[1]) for act_name in cat_vals]\n",
    "    cat_counts = cat_counts/np.sum(cat_counts)\n",
    "\n",
    "    for meth in methods:\n",
    "        outlying_items, counts_num = np.unique(df.loc[df[f\"is_{ meth.name}_outlier\"], cat], return_counts=True)\n",
    "        counts_num = counts_num/np.sum(counts_num)\n",
    "        if cat == \"actor\":\n",
    "            outlying_items = [int(act_name.split(\"_\")[1]) for act_name in outlying_items]\n",
    "\n",
    "        counts = {c:0 for c in np.unique(cat_vals)}\n",
    "        for outlying_item, out_count, cc in zip(outlying_items, counts_num, cat_counts):\n",
    "            # Normalize on category count\n",
    "            # e.g.: More values of fear --> more outliers of fear\n",
    "            counts[outlying_item] = out_count/cc\n",
    "\n",
    "        plot_polar_closed(counts.keys(), counts.values(), axes[i], label=meth.name, color=code_map[meth.name])\n",
    "\n",
    "# Cutieries\n",
    "axes[0].set_title(\"emotion\", fontsize=10);\n",
    "axes[1].set_title(\"actor\", fontsize=10);\n",
    "\n",
    "# Places a shared legend under the plot\n",
    "axes[i].legend(loc=\"lower center\", bbox_to_anchor=(-0.17,-0.3), fontsize=8, ncols=4)\n",
    "\n",
    "plt.subplots_adjust(wspace=0.35, bottom=0.17)\n",
    "plt.savefig(\"images/outliers_categories.pdf\")"
   ]
  },
  {
   "cell_type": "code",
   "execution_count": 11,
   "metadata": {},
   "outputs": [],
   "source": [
    "# binary_categories = [\"emotional_intensity\",  \"statement\", \"repetition\", \"sex\", \"vocal_channel\",]\n",
    "# fig, axes = plt.subplots(1, len(binary_categories), figsize=FULLSIZE_FIGURE, sharey=True)\n",
    "# for cat, ax in zip(binary_categories, axes):\n",
    "#     small_df = pd.DataFrame()\n",
    "#     for meth in methods:\n",
    "#         o_values, o_counts = np.unique(df.loc[df[f\"is_{meth.name}_outlier\"], cat], return_counts = True)\n",
    "#         a_values, a_counts = np.unique(df[cat], return_counts = True)\n",
    "#         small_df = pd.concat([small_df, pd.DataFrame(dict(  method=[meth.name]*len(a_values), \n",
    "#                                                             cat=cat,\n",
    "#                                                             rel_counts=o_counts/a_counts,\n",
    "#                                                             attr=a_values))])\n",
    "        \n",
    "#     obj = sns.barplot(data=small_df,  x=\"method\", y=\"rel_counts\", ax=ax, hue=\"attr\", alpha=0.8)\n",
    "#     ax.legend([], [], frameon=False)\n",
    "#     ax.set_title(cat)\n",
    "#     ax.set_ylabel(\"\")\n",
    "# plt.tight_layout()\n",
    "# plt.savefig(\"images/outliers_categories_2.pdf\")"
   ]
  },
  {
   "cell_type": "markdown",
   "metadata": {},
   "source": [
    "As it was expected, for sex and vocal channel the number of outliers for each value of the categorical attribute is approximately equal (by construction).\n",
    "Emotional intensity is the most unbalanced categorical attribute, since one value of the categorical attribute is mostly categorized as outlier"
   ]
  },
  {
   "cell_type": "markdown",
   "metadata": {},
   "source": [
    "## Accordance and scores"
   ]
  },
  {
   "cell_type": "code",
   "execution_count": null,
   "metadata": {},
   "outputs": [],
   "source": [
    "fig, ax = plt.subplots(figsize=default_style.SHORT_HALFSIZE_FIGURE)\n",
    "\n",
    "for col in [u for u in df.columns if u.endswith(\"score\")]:\n",
    "    plt.hist(df[col], bins=15, alpha=0.5, label=col);\n",
    "plt.legend(fontsize=8)\n",
    "plt.yscale(\"log\")\n",
    "\n",
    "plt.tight_layout()\n",
    "plt.savefig(\"images/outliers_score_hist.pdf\")"
   ]
  },
  {
   "cell_type": "markdown",
   "metadata": {},
   "source": [
    "Distribution of the normalized scores for each method. It can be seen that ABOD categorizes many records as surely inliers (high peak near score=1) while ISFO is has much less certain inliers.\n",
    "The aggregated score takes this uncertainty in account (almost no records in the high scoring region). Clearly, the minimum of the score is higher (about 0.4) since it is the min of the sum of non-negative entries."
   ]
  },
  {
   "cell_type": "code",
   "execution_count": null,
   "metadata": {},
   "outputs": [],
   "source": [
    "fig, ax = plt.subplots(figsize=default_style.SHORT_HALFSIZE_FIGURE)\n",
    "\n",
    "plt.scatter(df[\"ABOD_score\"], df[\"LOF_score\"],label=\"ABOD vs LOF\", s=3, alpha=0.6)\n",
    "plt.scatter(df[\"ABOD_score\"], df[\"ISFO_score\"],label=\"ABOD vs ISFO\", s=3, alpha=0.6)\n",
    "plt.scatter(df[\"LOF_score\"], df[\"ISFO_score\"],label=\"LOF vs ISFO\", s=3, alpha=0.6)\n",
    "\n",
    "plt.plot(np.linspace(0,1), np.linspace(0,1), ls=\":\", color=\"k\", label=\"perfect accordance\")\n",
    "plt.legend(fontsize=8)\n",
    "\n",
    "plt.tight_layout()\n",
    "plt.savefig(\"images/outliers_agreement.pdf\")"
   ]
  },
  {
   "cell_type": "markdown",
   "metadata": {},
   "source": [
    "Accordance between outliers. For perfect OD methods one would obtain only 0(outlier) and 1 (inlier) score values.\n",
    "\n",
    "Since methods are uncertain, values are distributed. If each method was in perfect accordance with each other, scores would distribute around the bisecting line of the plane, since if one method categorizes a record to be an outlier (score near zero), other methods would give it a score near to zero too.\n",
    "\n",
    "It can be seen that LOF and ISFO are in near accordance while ABOD is not in accordance with each other, since there are points in regions near (0, 1) (ABOD says outlier, LOF says inlier) and vice-versa."
   ]
  },
  {
   "cell_type": "markdown",
   "metadata": {},
   "source": [
    "## Check into an embedding"
   ]
  },
  {
   "cell_type": "code",
   "execution_count": null,
   "metadata": {},
   "outputs": [],
   "source": [
    "from sklearn.manifold import Isomap\n",
    "from umap import UMAP\n",
    "\n",
    "umap_reducer = UMAP(n_components=2, n_neighbors=20)\n",
    "umap_embedding = umap_reducer.fit_transform(MinMaxScaler().fit_transform(df[numerical_attr_list]))\n",
    "\n",
    "isomap_reducer = Isomap(n_components=2, n_neighbors=15)\n",
    "isomap_embedding = isomap_reducer.fit_transform(MinMaxScaler().fit_transform(df[numerical_attr_list]))"
   ]
  },
  {
   "cell_type": "code",
   "execution_count": null,
   "metadata": {},
   "outputs": [],
   "source": [
    "fig, ax = plt.subplots(figsize=default_style.HALFSIZE_FIGURE)\n",
    "plt.scatter(*umap_embedding.T, color=\"k\", s=5)\n",
    "plt.scatter(*(umap_embedding[df.outlier_color != \"k\"]).T, c=df.outlier_color[df.outlier_color != \"k\"], alpha=0.6, s=50)\n",
    "\n",
    "from matplotlib.patches import Patch\n",
    "leg_handles, leg_lab = [], []\n",
    "for k,v in code_map.items():\n",
    "    leg_handles.append(Patch(color=v))\n",
    "    leg_lab.append(k)\n",
    "plt.legend(leg_handles, leg_lab, fontsize=8, bbox_to_anchor=(0.3,0.3));\n",
    "plt.axis(\"off\")\n",
    "plt.savefig(\"images/outliers_embedding.pdf\")"
   ]
  },
  {
   "cell_type": "markdown",
   "metadata": {},
   "source": [
    "The blue region (ISFO outliers) prevalently belongs to anger. That region is much less dense than the others, but UMAP is built to consder the multidimensional manifold to be uniform, so it maps them in a mostly uniform region of space of the embedding."
   ]
  },
  {
   "cell_type": "code",
   "execution_count": null,
   "metadata": {},
   "outputs": [],
   "source": [
    "fig, ax = plt.subplots(figsize=default_style.HALFSIZE_FIGURE)\n",
    "\n",
    "plt.scatter(*isomap_embedding.T, c=df.aggregatedOD_score, cmap=\"viridis\", s=10)\n",
    "\n",
    "mask = df[\"is_aggregatedOD_outlier\"].values.astype(bool)\n",
    "\n",
    "plt.scatter(*(isomap_embedding[mask].T), facecolors='none', edgecolors='r', marker=\"o\")\n",
    "\n",
    "plt.axis(\"off\")\n",
    "\n",
    "plt.tight_layout()\n",
    "plt.savefig(\"images/outliers_killed_in_embeding.pdf\")"
   ]
  },
  {
   "cell_type": "markdown",
   "metadata": {},
   "source": [
    "bluer means more outlier. red crosses are the chosen one percent of worst outliers"
   ]
  },
  {
   "cell_type": "markdown",
   "metadata": {},
   "source": [
    "## Save results"
   ]
  },
  {
   "cell_type": "code",
   "execution_count": null,
   "metadata": {},
   "outputs": [],
   "source": [
    "df = df.reset_index(drop=True)\n",
    "df.to_csv(LABELLED_OUTLIERS, index=False)\n",
    "\n",
    "# Remove outliers\n",
    "df_outliers_removed = df.copy()\n",
    "df_outliers_removed = df_outliers_removed.drop(columns=[\"is_ABOD_outlier\", \"is_ISFO_outlier\", \"is_LOF_outlier\", \"ABOD_score\", \"ISFO_score\", \"LOF_score\", \"outlier_color\"] )\n",
    "df_outliers_removed = df_outliers_removed.loc[np.logical_not(df_outliers_removed.is_aggregatedOD_outlier)]\n",
    "df_outliers_removed = df_outliers_removed.drop(columns=[\"is_aggregatedOD_outlier\", \"aggregatedOD_score\"])\n",
    "df_outliers_removed.to_csv(OUTLIERS_REMOVED, index=False)"
   ]
  },
  {
   "cell_type": "code",
   "execution_count": null,
   "metadata": {},
   "outputs": [],
   "source": [
    "df_outliers_removed.columns.values"
   ]
  }
 ],
 "metadata": {
  "kernelspec": {
   "display_name": "DM2",
   "language": "python",
   "name": "dm2"
  },
  "language_info": {
   "codemirror_mode": {
    "name": "ipython",
    "version": 3
   },
   "file_extension": ".py",
   "mimetype": "text/x-python",
   "name": "python",
   "nbconvert_exporter": "python",
   "pygments_lexer": "ipython3",
   "version": "3.10.6"
  }
 },
 "nbformat": 4,
 "nbformat_minor": 2
}
