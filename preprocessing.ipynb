{
 "cells": [
  {
   "cell_type": "code",
   "execution_count": 1,
   "metadata": {
    "collapsed": true
   },
   "outputs": [],
   "source": [
    "import os\n",
    "import sys\n",
    "\n",
    "import numpy as np\n",
    "import pandas as pd\n",
    "import matplotlib.pyplot as plt"
   ]
  },
  {
   "cell_type": "code",
   "execution_count": 2,
   "metadata": {
    "collapsed": false
   },
   "outputs": [],
   "source": [
    "DATA_FOLDER = 'dataset'\n",
    "DATASET_TRAIN = os.path.join(DATA_FOLDER, 'RavdessAudioOnlyFeatures_TRAIN.csv')\n",
    "DATASET_TEST = os.path.join(DATA_FOLDER, 'RavdessAudioOnlyFeatures_TEST.csv')\n",
    "PREPROCESSED_TRAIN = os.path.join(DATA_FOLDER, 'preprocessed_dataset_TRAIN.csv')\n",
    "PREPROCESSED_TEST = os.path.join(DATA_FOLDER, 'preprocessed_dataset_TEST.csv')"
   ]
  },
  {
   "cell_type": "code",
   "execution_count": 3,
   "metadata": {
    "collapsed": false
   },
   "outputs": [
    {
     "data": {
      "text/plain": "     modality vocal_channel  emotion emotional_intensity  \\\n0  audio-only        speech  neutral              normal   \n1  audio-only        speech  neutral              normal   \n2  audio-only        speech  neutral              normal   \n3  audio-only        speech  neutral              normal   \n4  audio-only        speech     calm              normal   \n\n                      statement repetition  actor sex  \\\n0  Kids are talking by the door        1st      1   M   \n1  Kids are talking by the door        2nd      1   M   \n2  Dogs are sitting by the door        1st      1   M   \n3  Dogs are sitting by the door        2nd      1   M   \n4  Kids are talking by the door        1st      1   M   \n\n                   filename  frame_count  ...  stft_max_w4  stft_q01_w4  \\\n0  03-01-01-01-01-01-01.wav       158558  ...          1.0     0.000000   \n1  03-01-01-01-01-02-01.wav       160160  ...          1.0     0.368623   \n2  03-01-01-01-02-01-01.wav       156956  ...          1.0     0.000000   \n3  03-01-01-01-02-02-01.wav       152152  ...          1.0     0.306280   \n4  03-01-02-01-01-01-01.wav       169769  ...          1.0     0.248765   \n\n   stft_q05_w4  stft_q25_w4  stft_q50_w4  stft_q75_w4  stft_q95_w4  \\\n0     0.566462     0.709962     0.799141     0.896606          1.0   \n1     0.472736     0.623183     0.744908     0.874713          1.0   \n2     0.417919     0.643636     0.774253     0.899156          1.0   \n3     0.399641     0.606910     0.755213     0.886474          1.0   \n4     0.428202     0.634815     0.759914     0.878014          1.0   \n\n   stft_q99_w4  stft_kur_w4  stft_skew_w4  \n0          1.0     6.742190     -1.706215  \n1          1.0    -0.700420     -0.201495  \n2          1.0     1.688986     -1.024773  \n3          1.0    -0.594111     -0.412871  \n4          1.0     0.126535     -0.620782  \n\n[5 rows x 434 columns]",
      "text/html": "<div>\n<style scoped>\n    .dataframe tbody tr th:only-of-type {\n        vertical-align: middle;\n    }\n\n    .dataframe tbody tr th {\n        vertical-align: top;\n    }\n\n    .dataframe thead th {\n        text-align: right;\n    }\n</style>\n<table border=\"1\" class=\"dataframe\">\n  <thead>\n    <tr style=\"text-align: right;\">\n      <th></th>\n      <th>modality</th>\n      <th>vocal_channel</th>\n      <th>emotion</th>\n      <th>emotional_intensity</th>\n      <th>statement</th>\n      <th>repetition</th>\n      <th>actor</th>\n      <th>sex</th>\n      <th>filename</th>\n      <th>frame_count</th>\n      <th>...</th>\n      <th>stft_max_w4</th>\n      <th>stft_q01_w4</th>\n      <th>stft_q05_w4</th>\n      <th>stft_q25_w4</th>\n      <th>stft_q50_w4</th>\n      <th>stft_q75_w4</th>\n      <th>stft_q95_w4</th>\n      <th>stft_q99_w4</th>\n      <th>stft_kur_w4</th>\n      <th>stft_skew_w4</th>\n    </tr>\n  </thead>\n  <tbody>\n    <tr>\n      <th>0</th>\n      <td>audio-only</td>\n      <td>speech</td>\n      <td>neutral</td>\n      <td>normal</td>\n      <td>Kids are talking by the door</td>\n      <td>1st</td>\n      <td>1</td>\n      <td>M</td>\n      <td>03-01-01-01-01-01-01.wav</td>\n      <td>158558</td>\n      <td>...</td>\n      <td>1.0</td>\n      <td>0.000000</td>\n      <td>0.566462</td>\n      <td>0.709962</td>\n      <td>0.799141</td>\n      <td>0.896606</td>\n      <td>1.0</td>\n      <td>1.0</td>\n      <td>6.742190</td>\n      <td>-1.706215</td>\n    </tr>\n    <tr>\n      <th>1</th>\n      <td>audio-only</td>\n      <td>speech</td>\n      <td>neutral</td>\n      <td>normal</td>\n      <td>Kids are talking by the door</td>\n      <td>2nd</td>\n      <td>1</td>\n      <td>M</td>\n      <td>03-01-01-01-01-02-01.wav</td>\n      <td>160160</td>\n      <td>...</td>\n      <td>1.0</td>\n      <td>0.368623</td>\n      <td>0.472736</td>\n      <td>0.623183</td>\n      <td>0.744908</td>\n      <td>0.874713</td>\n      <td>1.0</td>\n      <td>1.0</td>\n      <td>-0.700420</td>\n      <td>-0.201495</td>\n    </tr>\n    <tr>\n      <th>2</th>\n      <td>audio-only</td>\n      <td>speech</td>\n      <td>neutral</td>\n      <td>normal</td>\n      <td>Dogs are sitting by the door</td>\n      <td>1st</td>\n      <td>1</td>\n      <td>M</td>\n      <td>03-01-01-01-02-01-01.wav</td>\n      <td>156956</td>\n      <td>...</td>\n      <td>1.0</td>\n      <td>0.000000</td>\n      <td>0.417919</td>\n      <td>0.643636</td>\n      <td>0.774253</td>\n      <td>0.899156</td>\n      <td>1.0</td>\n      <td>1.0</td>\n      <td>1.688986</td>\n      <td>-1.024773</td>\n    </tr>\n    <tr>\n      <th>3</th>\n      <td>audio-only</td>\n      <td>speech</td>\n      <td>neutral</td>\n      <td>normal</td>\n      <td>Dogs are sitting by the door</td>\n      <td>2nd</td>\n      <td>1</td>\n      <td>M</td>\n      <td>03-01-01-01-02-02-01.wav</td>\n      <td>152152</td>\n      <td>...</td>\n      <td>1.0</td>\n      <td>0.306280</td>\n      <td>0.399641</td>\n      <td>0.606910</td>\n      <td>0.755213</td>\n      <td>0.886474</td>\n      <td>1.0</td>\n      <td>1.0</td>\n      <td>-0.594111</td>\n      <td>-0.412871</td>\n    </tr>\n    <tr>\n      <th>4</th>\n      <td>audio-only</td>\n      <td>speech</td>\n      <td>calm</td>\n      <td>normal</td>\n      <td>Kids are talking by the door</td>\n      <td>1st</td>\n      <td>1</td>\n      <td>M</td>\n      <td>03-01-02-01-01-01-01.wav</td>\n      <td>169769</td>\n      <td>...</td>\n      <td>1.0</td>\n      <td>0.248765</td>\n      <td>0.428202</td>\n      <td>0.634815</td>\n      <td>0.759914</td>\n      <td>0.878014</td>\n      <td>1.0</td>\n      <td>1.0</td>\n      <td>0.126535</td>\n      <td>-0.620782</td>\n    </tr>\n  </tbody>\n</table>\n<p>5 rows × 434 columns</p>\n</div>"
     },
     "execution_count": 3,
     "metadata": {},
     "output_type": "execute_result"
    }
   ],
   "source": [
    "df_train = pd.read_csv(DATASET_TRAIN)\n",
    "df_train.head()"
   ]
  },
  {
   "cell_type": "code",
   "execution_count": 4,
   "metadata": {
    "collapsed": false
   },
   "outputs": [
    {
     "data": {
      "text/plain": "     modality vocal_channel  emotion emotional_intensity  \\\n0  audio-only        speech  neutral              normal   \n1  audio-only        speech  neutral              normal   \n2  audio-only        speech  neutral              normal   \n3  audio-only        speech  neutral              normal   \n4  audio-only        speech     calm              normal   \n\n                      statement repetition  actor sex  \\\n0  Kids are talking by the door        1st     19   M   \n1  Kids are talking by the door        2nd     19   M   \n2  Dogs are sitting by the door        1st     19   M   \n3  Dogs are sitting by the door        2nd     19   M   \n4  Kids are talking by the door        1st     19   M   \n\n                   filename  frame_count  ...  stft_max_w4  stft_q01_w4  \\\n0  03-01-01-01-01-01-19.wav       161762  ...          1.0     0.306697   \n1  03-01-01-01-01-02-19.wav       155355  ...          1.0     0.170786   \n2  03-01-01-01-02-01-19.wav       160160  ...          1.0     0.023285   \n3  03-01-01-01-02-02-19.wav       158558  ...          1.0     0.368081   \n4  03-01-02-01-01-01-19.wav       176176  ...          1.0     0.298851   \n\n   stft_q05_w4  stft_q25_w4  stft_q50_w4  stft_q75_w4  stft_q95_w4  \\\n0     0.466157     0.645931     0.789123     0.908316          1.0   \n1     0.279347     0.557524     0.733053     0.866973          1.0   \n2     0.305395     0.577750     0.741576     0.889984          1.0   \n3     0.434591     0.620144     0.776419     0.904668          1.0   \n4     0.393112     0.623309     0.772964     0.907035          1.0   \n\n   stft_q99_w4  stft_kur_w4  stft_skew_w4  \n0          1.0    -0.260279     -0.566556  \n1          1.0    -0.428900     -0.587210  \n2          1.0     0.626916     -0.883317  \n3          1.0    -0.825144     -0.383701  \n4          1.0    -0.536669     -0.547354  \n\n[5 rows x 434 columns]",
      "text/html": "<div>\n<style scoped>\n    .dataframe tbody tr th:only-of-type {\n        vertical-align: middle;\n    }\n\n    .dataframe tbody tr th {\n        vertical-align: top;\n    }\n\n    .dataframe thead th {\n        text-align: right;\n    }\n</style>\n<table border=\"1\" class=\"dataframe\">\n  <thead>\n    <tr style=\"text-align: right;\">\n      <th></th>\n      <th>modality</th>\n      <th>vocal_channel</th>\n      <th>emotion</th>\n      <th>emotional_intensity</th>\n      <th>statement</th>\n      <th>repetition</th>\n      <th>actor</th>\n      <th>sex</th>\n      <th>filename</th>\n      <th>frame_count</th>\n      <th>...</th>\n      <th>stft_max_w4</th>\n      <th>stft_q01_w4</th>\n      <th>stft_q05_w4</th>\n      <th>stft_q25_w4</th>\n      <th>stft_q50_w4</th>\n      <th>stft_q75_w4</th>\n      <th>stft_q95_w4</th>\n      <th>stft_q99_w4</th>\n      <th>stft_kur_w4</th>\n      <th>stft_skew_w4</th>\n    </tr>\n  </thead>\n  <tbody>\n    <tr>\n      <th>0</th>\n      <td>audio-only</td>\n      <td>speech</td>\n      <td>neutral</td>\n      <td>normal</td>\n      <td>Kids are talking by the door</td>\n      <td>1st</td>\n      <td>19</td>\n      <td>M</td>\n      <td>03-01-01-01-01-01-19.wav</td>\n      <td>161762</td>\n      <td>...</td>\n      <td>1.0</td>\n      <td>0.306697</td>\n      <td>0.466157</td>\n      <td>0.645931</td>\n      <td>0.789123</td>\n      <td>0.908316</td>\n      <td>1.0</td>\n      <td>1.0</td>\n      <td>-0.260279</td>\n      <td>-0.566556</td>\n    </tr>\n    <tr>\n      <th>1</th>\n      <td>audio-only</td>\n      <td>speech</td>\n      <td>neutral</td>\n      <td>normal</td>\n      <td>Kids are talking by the door</td>\n      <td>2nd</td>\n      <td>19</td>\n      <td>M</td>\n      <td>03-01-01-01-01-02-19.wav</td>\n      <td>155355</td>\n      <td>...</td>\n      <td>1.0</td>\n      <td>0.170786</td>\n      <td>0.279347</td>\n      <td>0.557524</td>\n      <td>0.733053</td>\n      <td>0.866973</td>\n      <td>1.0</td>\n      <td>1.0</td>\n      <td>-0.428900</td>\n      <td>-0.587210</td>\n    </tr>\n    <tr>\n      <th>2</th>\n      <td>audio-only</td>\n      <td>speech</td>\n      <td>neutral</td>\n      <td>normal</td>\n      <td>Dogs are sitting by the door</td>\n      <td>1st</td>\n      <td>19</td>\n      <td>M</td>\n      <td>03-01-01-01-02-01-19.wav</td>\n      <td>160160</td>\n      <td>...</td>\n      <td>1.0</td>\n      <td>0.023285</td>\n      <td>0.305395</td>\n      <td>0.577750</td>\n      <td>0.741576</td>\n      <td>0.889984</td>\n      <td>1.0</td>\n      <td>1.0</td>\n      <td>0.626916</td>\n      <td>-0.883317</td>\n    </tr>\n    <tr>\n      <th>3</th>\n      <td>audio-only</td>\n      <td>speech</td>\n      <td>neutral</td>\n      <td>normal</td>\n      <td>Dogs are sitting by the door</td>\n      <td>2nd</td>\n      <td>19</td>\n      <td>M</td>\n      <td>03-01-01-01-02-02-19.wav</td>\n      <td>158558</td>\n      <td>...</td>\n      <td>1.0</td>\n      <td>0.368081</td>\n      <td>0.434591</td>\n      <td>0.620144</td>\n      <td>0.776419</td>\n      <td>0.904668</td>\n      <td>1.0</td>\n      <td>1.0</td>\n      <td>-0.825144</td>\n      <td>-0.383701</td>\n    </tr>\n    <tr>\n      <th>4</th>\n      <td>audio-only</td>\n      <td>speech</td>\n      <td>calm</td>\n      <td>normal</td>\n      <td>Kids are talking by the door</td>\n      <td>1st</td>\n      <td>19</td>\n      <td>M</td>\n      <td>03-01-02-01-01-01-19.wav</td>\n      <td>176176</td>\n      <td>...</td>\n      <td>1.0</td>\n      <td>0.298851</td>\n      <td>0.393112</td>\n      <td>0.623309</td>\n      <td>0.772964</td>\n      <td>0.907035</td>\n      <td>1.0</td>\n      <td>1.0</td>\n      <td>-0.536669</td>\n      <td>-0.547354</td>\n    </tr>\n  </tbody>\n</table>\n<p>5 rows × 434 columns</p>\n</div>"
     },
     "execution_count": 4,
     "metadata": {},
     "output_type": "execute_result"
    }
   ],
   "source": [
    "df_test = pd.read_csv(DATASET_TEST)\n",
    "df_test.head()"
   ]
  },
  {
   "cell_type": "code",
   "execution_count": 5,
   "metadata": {
    "collapsed": false
   },
   "outputs": [
    {
     "data": {
      "text/plain": "(1828, 434)"
     },
     "execution_count": 5,
     "metadata": {},
     "output_type": "execute_result"
    }
   ],
   "source": [
    "df_train.shape"
   ]
  },
  {
   "cell_type": "code",
   "execution_count": 6,
   "metadata": {
    "collapsed": false
   },
   "outputs": [
    {
     "data": {
      "text/plain": "(624, 434)"
     },
     "execution_count": 6,
     "metadata": {},
     "output_type": "execute_result"
    }
   ],
   "source": [
    "df_test.shape"
   ]
  },
  {
   "cell_type": "code",
   "execution_count": 7,
   "metadata": {
    "collapsed": false
   },
   "outputs": [
    {
     "data": {
      "text/plain": "52"
     },
     "execution_count": 7,
     "metadata": {},
     "output_type": "execute_result"
    }
   ],
   "source": [
    "single_value_columns_train = [column for column in df_train.columns if len(df_train[column].unique()) == 1]\n",
    "len(single_value_columns_train)"
   ]
  },
  {
   "cell_type": "code",
   "execution_count": 8,
   "metadata": {
    "collapsed": false
   },
   "outputs": [
    {
     "data": {
      "text/plain": "0"
     },
     "execution_count": 8,
     "metadata": {},
     "output_type": "execute_result"
    }
   ],
   "source": [
    "missing_values_columns_train = [column for column in df_train.columns if df_train[column].isna().any()]\n",
    "len(missing_values_columns_train)"
   ]
  },
  {
   "cell_type": "code",
   "execution_count": 9,
   "metadata": {
    "collapsed": false
   },
   "outputs": [
    {
     "data": {
      "text/plain": "50"
     },
     "execution_count": 9,
     "metadata": {},
     "output_type": "execute_result"
    }
   ],
   "source": [
    "single_value_columns_test = [column for column in df_train.columns if len(df_test[column].unique()) == 1]\n",
    "len(single_value_columns_test)"
   ]
  },
  {
   "cell_type": "code",
   "execution_count": 10,
   "metadata": {
    "collapsed": false
   },
   "outputs": [
    {
     "data": {
      "text/plain": "['zc_q75_w1', 'zc_q75_w2']"
     },
     "execution_count": 10,
     "metadata": {},
     "output_type": "execute_result"
    }
   ],
   "source": [
    "difference = [column for column in single_value_columns_train if column not in single_value_columns_test]\n",
    "difference"
   ]
  },
  {
   "cell_type": "code",
   "execution_count": 11,
   "metadata": {
    "collapsed": false
   },
   "outputs": [
    {
     "data": {
      "text/plain": "0"
     },
     "execution_count": 11,
     "metadata": {},
     "output_type": "execute_result"
    }
   ],
   "source": [
    "missing_values_columns_test = [column for column in df_train.columns if df_train[column].isna().any()]\n",
    "len(missing_values_columns_test)"
   ]
  },
  {
   "cell_type": "code",
   "execution_count": 12,
   "metadata": {
    "collapsed": false
   },
   "outputs": [
    {
     "data": {
      "text/plain": "(2452, 434)"
     },
     "execution_count": 12,
     "metadata": {},
     "output_type": "execute_result"
    }
   ],
   "source": [
    "df = pd.concat([df_train, df_test], ignore_index=True)\n",
    "df.shape"
   ]
  },
  {
   "cell_type": "code",
   "execution_count": 13,
   "metadata": {
    "collapsed": false
   },
   "outputs": [
    {
     "data": {
      "text/plain": "['modality',\n 'lag1_q50',\n 'zc_min',\n 'zc_max',\n 'zc_q01',\n 'zc_q05',\n 'zc_q25',\n 'zc_q50',\n 'zc_q75',\n 'zc_q99',\n 'stft_max',\n 'stft_q95',\n 'stft_q99',\n 'lag1_q50_w1',\n 'zc_min_w1',\n 'zc_max_w1',\n 'zc_q01_w1',\n 'zc_q05_w1',\n 'zc_q25_w1',\n 'zc_q50_w1',\n 'zc_min_w2',\n 'zc_max_w2',\n 'zc_q01_w2',\n 'zc_q05_w2',\n 'zc_q25_w2',\n 'zc_q50_w2',\n 'zc_q99_w2',\n 'stft_max_w2',\n 'stft_q95_w2',\n 'stft_q99_w2',\n 'zc_min_w3',\n 'zc_max_w3',\n 'zc_q01_w3',\n 'zc_q05_w3',\n 'zc_q25_w3',\n 'zc_q50_w3',\n 'zc_q75_w3',\n 'zc_q99_w3',\n 'stft_max_w3',\n 'stft_q95_w3',\n 'stft_q99_w3',\n 'lag1_q50_w4',\n 'zc_min_w4',\n 'zc_max_w4',\n 'zc_q01_w4',\n 'zc_q05_w4',\n 'zc_q25_w4',\n 'zc_q50_w4',\n 'stft_max_w4',\n 'stft_q99_w4']"
     },
     "execution_count": 13,
     "metadata": {},
     "output_type": "execute_result"
    }
   ],
   "source": [
    "single_value_columns = [column for column in df_train.columns if len(df[column].unique()) == 1]\n",
    "single_value_columns"
   ]
  },
  {
   "cell_type": "code",
   "execution_count": 14,
   "metadata": {
    "collapsed": false
   },
   "outputs": [
    {
     "data": {
      "text/plain": "  vocal_channel  emotion emotional_intensity                     statement  \\\n0        speech  neutral              normal  Kids are talking by the door   \n1        speech  neutral              normal  Kids are talking by the door   \n2        speech  neutral              normal  Dogs are sitting by the door   \n3        speech  neutral              normal  Dogs are sitting by the door   \n4        speech     calm              normal  Kids are talking by the door   \n\n  repetition  actor sex  frame_count       sum          mean  ...  \\\n0        1st      1   M       158558  0.145081  9.150000e-07  ...   \n1        2nd      1   M       160160  0.114319  7.137790e-07  ...   \n2        1st      1   M       156956  0.149963  9.554485e-07  ...   \n3        2nd      1   M       152152  0.139618  9.176213e-07  ...   \n4        1st      1   M       169769  0.137665  8.108948e-07  ...   \n\n   stft_std_w4  stft_min_w4  stft_q01_w4  stft_q05_w4  stft_q25_w4  \\\n0     0.155455     0.000000     0.000000     0.566462     0.709962   \n1     0.163183     0.270133     0.368623     0.472736     0.623183   \n2     0.190634     0.000000     0.000000     0.417919     0.643636   \n3     0.182551     0.205616     0.306280     0.399641     0.606910   \n4     0.177069     0.177847     0.248765     0.428202     0.634815   \n\n   stft_q50_w4  stft_q75_w4  stft_q95_w4  stft_kur_w4  stft_skew_w4  \n0     0.799141     0.896606          1.0     6.742190     -1.706215  \n1     0.744908     0.874713          1.0    -0.700420     -0.201495  \n2     0.774253     0.899156          1.0     1.688986     -1.024773  \n3     0.755213     0.886474          1.0    -0.594111     -0.412871  \n4     0.759914     0.878014          1.0     0.126535     -0.620782  \n\n[5 rows x 383 columns]",
      "text/html": "<div>\n<style scoped>\n    .dataframe tbody tr th:only-of-type {\n        vertical-align: middle;\n    }\n\n    .dataframe tbody tr th {\n        vertical-align: top;\n    }\n\n    .dataframe thead th {\n        text-align: right;\n    }\n</style>\n<table border=\"1\" class=\"dataframe\">\n  <thead>\n    <tr style=\"text-align: right;\">\n      <th></th>\n      <th>vocal_channel</th>\n      <th>emotion</th>\n      <th>emotional_intensity</th>\n      <th>statement</th>\n      <th>repetition</th>\n      <th>actor</th>\n      <th>sex</th>\n      <th>frame_count</th>\n      <th>sum</th>\n      <th>mean</th>\n      <th>...</th>\n      <th>stft_std_w4</th>\n      <th>stft_min_w4</th>\n      <th>stft_q01_w4</th>\n      <th>stft_q05_w4</th>\n      <th>stft_q25_w4</th>\n      <th>stft_q50_w4</th>\n      <th>stft_q75_w4</th>\n      <th>stft_q95_w4</th>\n      <th>stft_kur_w4</th>\n      <th>stft_skew_w4</th>\n    </tr>\n  </thead>\n  <tbody>\n    <tr>\n      <th>0</th>\n      <td>speech</td>\n      <td>neutral</td>\n      <td>normal</td>\n      <td>Kids are talking by the door</td>\n      <td>1st</td>\n      <td>1</td>\n      <td>M</td>\n      <td>158558</td>\n      <td>0.145081</td>\n      <td>9.150000e-07</td>\n      <td>...</td>\n      <td>0.155455</td>\n      <td>0.000000</td>\n      <td>0.000000</td>\n      <td>0.566462</td>\n      <td>0.709962</td>\n      <td>0.799141</td>\n      <td>0.896606</td>\n      <td>1.0</td>\n      <td>6.742190</td>\n      <td>-1.706215</td>\n    </tr>\n    <tr>\n      <th>1</th>\n      <td>speech</td>\n      <td>neutral</td>\n      <td>normal</td>\n      <td>Kids are talking by the door</td>\n      <td>2nd</td>\n      <td>1</td>\n      <td>M</td>\n      <td>160160</td>\n      <td>0.114319</td>\n      <td>7.137790e-07</td>\n      <td>...</td>\n      <td>0.163183</td>\n      <td>0.270133</td>\n      <td>0.368623</td>\n      <td>0.472736</td>\n      <td>0.623183</td>\n      <td>0.744908</td>\n      <td>0.874713</td>\n      <td>1.0</td>\n      <td>-0.700420</td>\n      <td>-0.201495</td>\n    </tr>\n    <tr>\n      <th>2</th>\n      <td>speech</td>\n      <td>neutral</td>\n      <td>normal</td>\n      <td>Dogs are sitting by the door</td>\n      <td>1st</td>\n      <td>1</td>\n      <td>M</td>\n      <td>156956</td>\n      <td>0.149963</td>\n      <td>9.554485e-07</td>\n      <td>...</td>\n      <td>0.190634</td>\n      <td>0.000000</td>\n      <td>0.000000</td>\n      <td>0.417919</td>\n      <td>0.643636</td>\n      <td>0.774253</td>\n      <td>0.899156</td>\n      <td>1.0</td>\n      <td>1.688986</td>\n      <td>-1.024773</td>\n    </tr>\n    <tr>\n      <th>3</th>\n      <td>speech</td>\n      <td>neutral</td>\n      <td>normal</td>\n      <td>Dogs are sitting by the door</td>\n      <td>2nd</td>\n      <td>1</td>\n      <td>M</td>\n      <td>152152</td>\n      <td>0.139618</td>\n      <td>9.176213e-07</td>\n      <td>...</td>\n      <td>0.182551</td>\n      <td>0.205616</td>\n      <td>0.306280</td>\n      <td>0.399641</td>\n      <td>0.606910</td>\n      <td>0.755213</td>\n      <td>0.886474</td>\n      <td>1.0</td>\n      <td>-0.594111</td>\n      <td>-0.412871</td>\n    </tr>\n    <tr>\n      <th>4</th>\n      <td>speech</td>\n      <td>calm</td>\n      <td>normal</td>\n      <td>Kids are talking by the door</td>\n      <td>1st</td>\n      <td>1</td>\n      <td>M</td>\n      <td>169769</td>\n      <td>0.137665</td>\n      <td>8.108948e-07</td>\n      <td>...</td>\n      <td>0.177069</td>\n      <td>0.177847</td>\n      <td>0.248765</td>\n      <td>0.428202</td>\n      <td>0.634815</td>\n      <td>0.759914</td>\n      <td>0.878014</td>\n      <td>1.0</td>\n      <td>0.126535</td>\n      <td>-0.620782</td>\n    </tr>\n  </tbody>\n</table>\n<p>5 rows × 383 columns</p>\n</div>"
     },
     "execution_count": 14,
     "metadata": {},
     "output_type": "execute_result"
    }
   ],
   "source": [
    "to_drop = ['filename'] + single_value_columns\n",
    "df = df.drop(to_drop, axis=1)\n",
    "df.head()"
   ]
  },
  {
   "cell_type": "code",
   "execution_count": 15,
   "metadata": {},
   "outputs": [
    {
     "data": {
      "text/plain": "<Figure size 432x288 with 1 Axes>",
      "image/png": "[encoded data removed]"
     },
     "metadata": {
      "needs_background": "light"
     },
     "output_type": "display_data"
    }
   ],
   "source": [
    "for i in range(100):\n",
    "    l = []\n",
    "    for j in [1,2,3,4]:\n",
    "        l.append(np.log(df_train[f'std_w{j}'][i] + 1e-4))\n",
    "    plt.plot(l)"
   ]
  },
  {
   "cell_type": "code",
   "execution_count": 16,
   "metadata": {},
   "outputs": [
    {
     "data": {
      "text/plain": "1367    0.000000e+00\n314     0.000000e+00\n315     0.000000e+00\n1597    0.000000e+00\n324     0.000000e+00\n148     3.251552e-07\n223     3.937506e-07\n1352    3.956688e-07\n1583    4.465031e-07\n1612    5.131159e-07\n1606    5.982042e-07\n1363    1.024584e-06\n110     1.101518e-06\n130     1.253644e-06\n213     1.344055e-06\n1358    1.375753e-06\n1405    1.414177e-06\n1361    1.576392e-06\n843     1.690376e-06\n1599    1.693941e-06\nName: std_w1, dtype: float64"
     },
     "execution_count": 16,
     "metadata": {},
     "output_type": "execute_result"
    }
   ],
   "source": [
    "df_train['std_w1'].sort_values(ascending=True)[0:20]"
   ]
  },
  {
   "cell_type": "code",
   "execution_count": 17,
   "metadata": {},
   "outputs": [
    {
     "data": {
      "text/plain": "<Figure size 432x288 with 1 Axes>",
      "image/png": "[encoded data removed]"
     },
     "metadata": {
      "needs_background": "light"
     },
     "output_type": "display_data"
    }
   ],
   "source": [
    "df_train['dummy'] = df_train['std_w1'].copy()\n",
    "df_train[df_train['dummy'] == 0] = 1e-7\n",
    "df_train['dummy']  = df_train['dummy'].apply(np.log10)\n",
    "plt.hist(df_train['dummy'])\n",
    "plt.show()"
   ]
  },
  {
   "cell_type": "code",
   "execution_count": 18,
   "metadata": {},
   "outputs": [],
   "source": [
    "from pandas.core.dtypes.common import is_numeric_dtype\n",
    "from scipy.stats import shapiro\n",
    "\n",
    "numeric_attr_list = [column for column in df.columns if is_numeric_dtype(df[column])]\n",
    "\n",
    "gaussian = []\n",
    "not_gaussian = []\n",
    "\n",
    "for i in numeric_attr_list:\n",
    "    if shapiro(df[i]).pvalue >= 1e-34:\n",
    "        gaussian.append([i, shapiro(df[i]).pvalue])\n",
    "    else:\n",
    "        not_gaussian.append([i, shapiro(df[i]).pvalue])"
   ]
  },
  {
   "cell_type": "code",
   "execution_count": 19,
   "outputs": [
    {
     "data": {
      "text/plain": "[['actor', 4.631492700666952e-28],\n ['frame_count', 2.5612104781991634e-24],\n ['skew', 4.3752758442086245e-15],\n ['zc_sum', 4.670527603532115e-22],\n ['zc_mean', 1.8366727863188936e-22],\n ['zc_std', 2.2849922061141115e-06],\n ['zc_kur', 7.480714863463486e-31],\n ['zc_skew', 6.203927121343816e-16],\n ['mfcc_sum', 5.786975315290219e-29],\n ['mfcc_mean', 0.007722990121692419],\n ['mfcc_std', 1.5601797713316046e-05],\n ['mfcc_min', 0.026575790718197823],\n ['mfcc_max', 1.8265471080081142e-10],\n ['mfcc_q01', 3.2799191103549674e-05],\n ['mfcc_q05', 5.933138332160205e-21],\n ['mfcc_q25', 7.837990239484283e-14],\n ['mfcc_q50', 5.352670464476904e-34],\n ['mfcc_q75', 1.0182725553716575e-34],\n ['mfcc_q95', 7.090617870630922e-09],\n ['mfcc_q99', 2.997522834904095e-18],\n ['mfcc_kur', 7.760302636350068e-28],\n ['mfcc_skew', 7.867091136354212e-16],\n ['sc_sum', 0.09583481401205063],\n ['sc_mean', 1.0786129678308498e-05],\n ['sc_std', 4.732001837650862e-17],\n ['sc_q25', 9.245979834861275e-19],\n ['sc_q50', 1.6287334693237041e-22],\n ['sc_q75', 1.0188492844537267e-12],\n ['sc_q95', 2.058913150098021e-31],\n ['sc_skew', 1.9974196992580961e-13],\n ['stft_sum', 4.4766812834495795e-07],\n ['stft_mean', 8.252304439793079e-08],\n ['stft_std', 5.675851941145773e-22],\n ['stft_q25', 2.6538250557361836e-28],\n ['stft_q50', 2.3325738909840688e-11],\n ['stft_q75', 1.7576537238879954e-19],\n ['stft_skew', 1.3834192031936254e-06],\n ['length_w1', 2.552576001161067e-24],\n ['zc_sum_w1', 1.7157344063170238e-24],\n ['zc_mean_w1', 2.6580179107660756e-24],\n ['zc_std_w1', 3.275286922789476e-27],\n ['mfcc_sum_w1', 7.559915421537916e-14],\n ['mfcc_mean_w1', 4.909084205788776e-28],\n ['mfcc_std_w1', 3.1736074814110726e-14],\n ['mfcc_max_w1', 5.69857466539681e-15],\n ['mfcc_q01_w1', 4.4471759086817465e-28],\n ['mfcc_q05_w1', 6.7305072552704194e-18],\n ['mfcc_q25_w1', 3.2176049846696546e-31],\n ['mfcc_q75_w1', 1.1259400089309316e-33],\n ['mfcc_q95_w1', 1.9613669954669788e-13],\n ['mfcc_q99_w1', 9.1153532414469e-28],\n ['sc_sum_w1', 2.2772994923361597e-27],\n ['sc_mean_w1', 1.4081111622387333e-22],\n ['sc_std_w1', 7.234818905421416e-21],\n ['sc_q25_w1', 2.4339517133793535e-32],\n ['sc_skew_w1', 3.376367721889453e-30],\n ['stft_sum_w1', 1.5103243657624157e-32],\n ['stft_mean_w1', 4.274373406888693e-32],\n ['stft_std_w1', 1.4637745726731984e-18],\n ['stft_q25_w1', 2.7331373233220928e-33],\n ['length_w2', 2.555533835125193e-24],\n ['skew_w2', 5.546563555669515e-11],\n ['zc_sum_w2', 5.622631976600453e-23],\n ['zc_mean_w2', 4.078653478980037e-18],\n ['zc_std_w2', 0.07450075447559357],\n ['zc_skew_w2', 1.1185568797464478e-23],\n ['mfcc_sum_w2', 9.573913309345613e-27],\n ['mfcc_mean_w2', 8.56352926348336e-05],\n ['mfcc_std_w2', 0.0007541041122749448],\n ['mfcc_min_w2', 2.9353599412251796e-11],\n ['mfcc_max_w2', 0.00010224003926850855],\n ['mfcc_q01_w2', 3.6323693856737704e-21],\n ['mfcc_q05_w2', 4.112900612533027e-14],\n ['mfcc_q25_w2', 6.881790692858658e-09],\n ['mfcc_q50_w2', 2.613810279328277e-10],\n ['mfcc_q75_w2', 2.344908711648941e-10],\n ['mfcc_q95_w2', 1.2273240226376957e-17],\n ['mfcc_q99_w2', 1.0114927584140769e-15],\n ['mfcc_kur_w2', 1.7808689009759892e-27],\n ['mfcc_skew_w2', 7.31767247954057e-17],\n ['sc_sum_w2', 2.454073754455611e-19],\n ['sc_mean_w2', 5.522078905251249e-10],\n ['sc_std_w2', 1.543701798334407e-11],\n ['sc_min_w2', 1.4949381159594065e-23],\n ['sc_max_w2', 4.6122043684260206e-11],\n ['sc_q01_w2', 3.054580244195723e-22],\n ['sc_q05_w2', 5.962481029582747e-21],\n ['sc_q25_w2', 1.2303016745854173e-25],\n ['sc_q50_w2', 3.3551077310604812e-31],\n ['sc_q75_w2', 7.467534280041905e-19],\n ['sc_q95_w2', 1.1407854572098586e-07],\n ['sc_q99_w2', 6.428764187660363e-10],\n ['sc_skew_w2', 1.375661846257978e-19],\n ['stft_sum_w2', 4.786781214460856e-12],\n ['stft_mean_w2', 1.6968686872287364e-11],\n ['stft_std_w2', 4.215128994565209e-23],\n ['stft_q25_w2', 1.0866546020173669e-32],\n ['stft_q50_w2', 9.170927905977067e-13],\n ['stft_q75_w2', 2.2546293343861813e-15],\n ['stft_kur_w2', 4.080438897889193e-34],\n ['stft_skew_w2', 1.4816276916462812e-07],\n ['length_w3', 2.549695869996105e-24],\n ['skew_w3', 7.40356008514494e-15],\n ['lag1_skew_w3', 1.0374411646255584e-28],\n ['zc_sum_w3', 4.138544446904002e-32],\n ['zc_mean_w3', 3.4476186313749664e-34],\n ['zc_std_w3', 3.306321641202237e-17],\n ['zc_kur_w3', 1.2736374055982035e-27],\n ['zc_skew_w3', 1.6728359149287275e-12],\n ['mfcc_sum_w3', 3.184814139963345e-34],\n ['mfcc_mean_w3', 1.0879858686608894e-14],\n ['mfcc_std_w3', 2.559779204602819e-06],\n ['mfcc_min_w3', 0.00019215699285268784],\n ['mfcc_max_w3', 4.1213706936105154e-07],\n ['mfcc_q01_w3', 0.0003540136676747352],\n ['mfcc_q05_w3', 3.455964188662276e-27],\n ['mfcc_q25_w3', 3.258603664679782e-10],\n ['mfcc_q50_w3', 3.5294014347382607e-13],\n ['mfcc_q75_w3', 4.813898845518194e-13],\n ['mfcc_q95_w3', 0.4701084494590759],\n ['mfcc_q99_w3', 3.8927825315205567e-19],\n ['mfcc_kur_w3', 1.5265946623238187e-22],\n ['mfcc_skew_w3', 5.0370339183582664e-30],\n ['sc_sum_w3', 1.953940376095014e-30],\n ['sc_mean_w3', 1.1677914243352827e-24],\n ['sc_std_w3', 4.0053521719997595e-28],\n ['sc_min_w3', 5.243779533761681e-27],\n ['sc_max_w3', 0.0006135907024145126],\n ['sc_q01_w3', 5.345588812853857e-27],\n ['sc_q05_w3', 2.957865395302876e-26],\n ['sc_q25_w3', 9.625177472249255e-24],\n ['sc_q50_w3', 4.365789028219514e-30],\n ['sc_q95_w3', 6.4254832605558e-21],\n ['sc_q99_w3', 0.0016699697589501739],\n ['sc_skew_w3', 3.516674862114554e-16],\n ['stft_sum_w3', 4.2643101243537045e-29],\n ['stft_mean_w3', 2.1577650493815367e-22],\n ['stft_q50_w3', 1.3533648386165102e-25],\n ['stft_q75_w3', 9.934240421656613e-15],\n ['stft_kur_w3', 1.8843447654282339e-34],\n ['stft_skew_w3', 6.237848779178101e-13],\n ['length_w4', 2.55637949401559e-24],\n ['zc_sum_w4', 5.160525588200105e-26],\n ['zc_mean_w4', 6.696297562965464e-26],\n ['zc_std_w4', 1.2420347417219091e-08],\n ['mfcc_sum_w4', 2.85040880432057e-16],\n ['mfcc_mean_w4', 5.295229357216158e-07],\n ['mfcc_std_w4', 9.45260955187702e-19],\n ['mfcc_min_w4', 4.845725357960674e-18],\n ['mfcc_max_w4', 1.2549975571566827e-14],\n ['mfcc_q01_w4', 4.742413089945796e-23],\n ['mfcc_q05_w4', 1.9633092872109422e-34],\n ['mfcc_q25_w4', 8.958237390820425e-16],\n ['mfcc_q50_w4', 1.9765043100590207e-25],\n ['mfcc_q75_w4', 5.2950994283706976e-12],\n ['mfcc_q95_w4', 7.721031636265252e-08],\n ['mfcc_q99_w4', 2.070175614264313e-22],\n ['sc_sum_w4', 1.766712699587161e-26],\n ['sc_mean_w4', 1.3354977200304249e-20],\n ['sc_std_w4', 2.0146017964744675e-15],\n ['sc_q01_w4', 2.3544986543077334e-34],\n ['sc_q05_w4', 1.9398217896884598e-32],\n ['sc_q25_w4', 2.6198403149414164e-17],\n ['sc_q50_w4', 2.9957254888756744e-31],\n ['sc_q75_w4', 1.3666264261881298e-33],\n ['sc_skew_w4', 9.903632039074631e-15],\n ['stft_sum_w4', 2.4767055286643993e-24],\n ['stft_mean_w4', 1.2165792980323922e-18],\n ['stft_std_w4', 7.12039035839601e-19],\n ['stft_q25_w4', 1.2503341193273896e-17],\n ['stft_skew_w4', 6.824295273825844e-24]]"
     },
     "execution_count": 19,
     "metadata": {},
     "output_type": "execute_result"
    }
   ],
   "source": [
    "gaussian"
   ],
   "metadata": {
    "collapsed": false
   }
  },
  {
   "cell_type": "code",
   "execution_count": 20,
   "outputs": [
    {
     "data": {
      "text/plain": "[['sum', 0.0],\n ['mean', 0.0],\n ['std', 0.0],\n ['min', 0.0],\n ['max', 0.0],\n ['q01', 0.0],\n ['q05', 0.0],\n ['q25', 0.0],\n ['q50', 0.0],\n ['q75', 0.0],\n ['q95', 0.0],\n ['q99', 0.0],\n ['kur', 2.8166099132928823e-43],\n ['lag1_sum', 0.0],\n ['lag1_mean', 0.0],\n ['lag1_std', 0.0],\n ['lag1_min', 0.0],\n ['lag1_max', 0.0],\n ['lag1_q01', 0.0],\n ['lag1_q05', 0.0],\n ['lag1_q25', 0.0],\n ['lag1_q75', 0.0],\n ['lag1_q95', 0.0],\n ['lag1_q99', 0.0],\n ['lag1_kur', 0.0],\n ['lag1_skew', 9.698606395191265e-38],\n ['zc_q95', 0.0],\n ['sc_min', 2.802596928649634e-45],\n ['sc_max', 2.1860256043467146e-43],\n ['sc_q01', 1.8497139729087585e-43],\n ['sc_q05', 3.4456527939282927e-41],\n ['sc_q99', 3.7900919564593327e-41],\n ['sc_kur', 0.0],\n ['stft_min', 0.0],\n ['stft_q01', 0.0],\n ['stft_q05', 0.0],\n ['stft_kur', 1.8284422622203078e-40],\n ['sum_w1', 0.0],\n ['mean_w1', 0.0],\n ['std_w1', 0.0],\n ['min_w1', 0.0],\n ['max_w1', 0.0],\n ['q01_w1', 0.0],\n ['q05_w1', 0.0],\n ['q25_w1', 0.0],\n ['q50_w1', 0.0],\n ['q75_w1', 0.0],\n ['q95_w1', 0.0],\n ['q99_w1', 0.0],\n ['kur_w1', 0.0],\n ['skew_w1', 0.0],\n ['lag1_sum_w1', 0.0],\n ['lag1_mean_w1', 0.0],\n ['lag1_std_w1', 0.0],\n ['lag1_min_w1', 0.0],\n ['lag1_max_w1', 0.0],\n ['lag1_q01_w1', 0.0],\n ['lag1_q05_w1', 0.0],\n ['lag1_q25_w1', 0.0],\n ['lag1_q75_w1', 0.0],\n ['lag1_q95_w1', 0.0],\n ['lag1_q99_w1', 0.0],\n ['lag1_kur_w1', 0.0],\n ['lag1_skew_w1', 0.0],\n ['zc_q75_w1', 0.0],\n ['zc_q95_w1', 0.0],\n ['zc_q99_w1', 0.0],\n ['zc_kur_w1', 0.0],\n ['zc_skew_w1', 0.0],\n ['mfcc_min_w1', 5.577475052636152e-38],\n ['mfcc_q50_w1', 8.987928350179377e-42],\n ['mfcc_kur_w1', 8.96831017167883e-44],\n ['mfcc_skew_w1', 3.5078704457443146e-41],\n ['sc_min_w1', 9.640933434554741e-43],\n ['sc_max_w1', 0.0],\n ['sc_q01_w1', 2.0000732981308114e-41],\n ['sc_q05_w1', 7.600712935421024e-38],\n ['sc_q50_w1', 4.222862651522738e-36],\n ['sc_q75_w1', 1.6815581571897805e-44],\n ['sc_q95_w1', 0.0],\n ['sc_q99_w1', 0.0],\n ['sc_kur_w1', 0.0],\n ['stft_min_w1', 0.0],\n ['stft_max_w1', 0.0],\n ['stft_q01_w1', 0.0],\n ['stft_q05_w1', 1.401298464324817e-45],\n ['stft_q50_w1', 4.624284932271896e-44],\n ['stft_q75_w1', 0.0],\n ['stft_q95_w1', 0.0],\n ['stft_q99_w1', 0.0],\n ['stft_kur_w1', 0.0],\n ['stft_skew_w1', 2.7998006095381047e-37],\n ['sum_w2', 0.0],\n ['mean_w2', 0.0],\n ['std_w2', 0.0],\n ['min_w2', 0.0],\n ['max_w2', 0.0],\n ['q01_w2', 0.0],\n ['q05_w2', 0.0],\n ['q25_w2', 0.0],\n ['q50_w2', 0.0],\n ['q75_w2', 2.1019476964872256e-44],\n ['q95_w2', 0.0],\n ['q99_w2', 0.0],\n ['kur_w2', 1.7800274002778854e-40],\n ['lag1_sum_w2', 0.0],\n ['lag1_mean_w2', 0.0],\n ['lag1_std_w2', 0.0],\n ['lag1_min_w2', 0.0],\n ['lag1_max_w2', 0.0],\n ['lag1_q01_w2', 0.0],\n ['lag1_q05_w2', 0.0],\n ['lag1_q25_w2', 0.0],\n ['lag1_q50_w2', 0.0],\n ['lag1_q75_w2', 0.0],\n ['lag1_q95_w2', 0.0],\n ['lag1_q99_w2', 0.0],\n ['lag1_kur_w2', 0.0],\n ['lag1_skew_w2', 1.0369608636003646e-43],\n ['zc_q75_w2', 0.0],\n ['zc_q95_w2', 0.0],\n ['zc_kur_w2', 4.796473684971201e-39],\n ['sc_kur_w2', 6.8943884444781e-43],\n ['stft_min_w2', 0.0],\n ['stft_q01_w2', 0.0],\n ['stft_q05_w2', 0.0],\n ['sum_w3', 0.0],\n ['mean_w3', 0.0],\n ['std_w3', 0.0],\n ['min_w3', 0.0],\n ['max_w3', 0.0],\n ['q01_w3', 0.0],\n ['q05_w3', 0.0],\n ['q25_w3', 0.0],\n ['q50_w3', 0.0],\n ['q75_w3', 0.0],\n ['q95_w3', 0.0],\n ['q99_w3', 0.0],\n ['kur_w3', 0.0],\n ['lag1_sum_w3', 0.0],\n ['lag1_mean_w3', 0.0],\n ['lag1_std_w3', 0.0],\n ['lag1_min_w3', 0.0],\n ['lag1_max_w3', 0.0],\n ['lag1_q01_w3', 0.0],\n ['lag1_q05_w3', 0.0],\n ['lag1_q25_w3', 0.0],\n ['lag1_q50_w3', 0.0],\n ['lag1_q75_w3', 0.0],\n ['lag1_q95_w3', 0.0],\n ['lag1_q99_w3', 0.0],\n ['lag1_kur_w3', 0.0],\n ['zc_q95_w3', 0.0],\n ['sc_q75_w3', 3.6692790093575686e-39],\n ['sc_kur_w3', 4.027996786668754e-37],\n ['stft_std_w3', 2.942726775082116e-44],\n ['stft_min_w3', 0.0],\n ['stft_q01_w3', 0.0],\n ['stft_q05_w3', 0.0],\n ['stft_q25_w3', 9.248569864543793e-44],\n ['sum_w4', 0.0],\n ['mean_w4', 0.0],\n ['std_w4', 0.0],\n ['min_w4', 0.0],\n ['max_w4', 0.0],\n ['q01_w4', 0.0],\n ['q05_w4', 0.0],\n ['q25_w4', 0.0],\n ['q50_w4', 0.0],\n ['q75_w4', 0.0],\n ['q95_w4', 0.0],\n ['q99_w4', 0.0],\n ['kur_w4', 0.0],\n ['skew_w4', 1.99863808824365e-38],\n ['lag1_sum_w4', 0.0],\n ['lag1_mean_w4', 0.0],\n ['lag1_std_w4', 0.0],\n ['lag1_min_w4', 0.0],\n ['lag1_max_w4', 0.0],\n ['lag1_q01_w4', 0.0],\n ['lag1_q05_w4', 0.0],\n ['lag1_q25_w4', 0.0],\n ['lag1_q75_w4', 0.0],\n ['lag1_q95_w4', 0.0],\n ['lag1_q99_w4', 0.0],\n ['lag1_kur_w4', 0.0],\n ['lag1_skew_w4', 0.0],\n ['zc_q75_w4', 0.0],\n ['zc_q95_w4', 0.0],\n ['zc_q99_w4', 0.0],\n ['zc_kur_w4', 0.0],\n ['zc_skew_w4', 0.0],\n ['mfcc_kur_w4', 2.018961456183384e-37],\n ['mfcc_skew_w4', 7.648725353412803e-35],\n ['sc_min_w4', 5.948229281985617e-35],\n ['sc_max_w4', 5.858147736184521e-37],\n ['sc_q95_w4', 4.874108117569179e-35],\n ['sc_q99_w4', 1.6407595205567792e-35],\n ['sc_kur_w4', 0.0],\n ['stft_min_w4', 0.0],\n ['stft_q01_w4', 1.401298464324817e-44],\n ['stft_q05_w4', 4.6461038264688517e-35],\n ['stft_q50_w4', 3.0076896266416886e-36],\n ['stft_q75_w4', 2.228064558276459e-43],\n ['stft_q95_w4', 0.0],\n ['stft_kur_w4', 0.0]]"
     },
     "execution_count": 20,
     "metadata": {},
     "output_type": "execute_result"
    }
   ],
   "source": [
    "not_gaussian"
   ],
   "metadata": {
    "collapsed": false
   }
  },
  {
   "cell_type": "code",
   "execution_count": 21,
   "outputs": [
    {
     "data": {
      "text/plain": "['sum',\n 'mean',\n 'std',\n 'min',\n 'max',\n 'q01',\n 'q05',\n 'q25',\n 'q50',\n 'q75',\n 'q95',\n 'q99',\n 'lag1_sum',\n 'lag1_mean',\n 'lag1_std',\n 'lag1_min',\n 'lag1_max',\n 'lag1_q01',\n 'lag1_q05',\n 'lag1_q25',\n 'lag1_q75',\n 'lag1_q95',\n 'lag1_q99',\n 'lag1_kur',\n 'zc_q95',\n 'sc_kur',\n 'stft_min',\n 'stft_q01',\n 'stft_q05',\n 'sum_w1',\n 'mean_w1',\n 'std_w1',\n 'min_w1',\n 'max_w1',\n 'q01_w1',\n 'q05_w1',\n 'q25_w1',\n 'q50_w1',\n 'q75_w1',\n 'q95_w1',\n 'q99_w1',\n 'kur_w1',\n 'skew_w1',\n 'lag1_sum_w1',\n 'lag1_mean_w1',\n 'lag1_std_w1',\n 'lag1_min_w1',\n 'lag1_max_w1',\n 'lag1_q01_w1',\n 'lag1_q05_w1',\n 'lag1_q25_w1',\n 'lag1_q75_w1',\n 'lag1_q95_w1',\n 'lag1_q99_w1',\n 'lag1_kur_w1',\n 'lag1_skew_w1',\n 'zc_q75_w1',\n 'zc_q95_w1',\n 'zc_q99_w1',\n 'zc_kur_w1',\n 'zc_skew_w1',\n 'sc_max_w1',\n 'sc_q95_w1',\n 'sc_q99_w1',\n 'sc_kur_w1',\n 'stft_min_w1',\n 'stft_max_w1',\n 'stft_q01_w1',\n 'stft_q75_w1',\n 'stft_q95_w1',\n 'stft_q99_w1',\n 'stft_kur_w1',\n 'sum_w2',\n 'mean_w2',\n 'std_w2',\n 'min_w2',\n 'max_w2',\n 'q01_w2',\n 'q05_w2',\n 'q25_w2',\n 'q50_w2',\n 'q95_w2',\n 'q99_w2',\n 'lag1_sum_w2',\n 'lag1_mean_w2',\n 'lag1_std_w2',\n 'lag1_min_w2',\n 'lag1_max_w2',\n 'lag1_q01_w2',\n 'lag1_q05_w2',\n 'lag1_q25_w2',\n 'lag1_q50_w2',\n 'lag1_q75_w2',\n 'lag1_q95_w2',\n 'lag1_q99_w2',\n 'lag1_kur_w2',\n 'zc_q75_w2',\n 'zc_q95_w2',\n 'stft_min_w2',\n 'stft_q01_w2',\n 'stft_q05_w2',\n 'sum_w3',\n 'mean_w3',\n 'std_w3',\n 'min_w3',\n 'max_w3',\n 'q01_w3',\n 'q05_w3',\n 'q25_w3',\n 'q50_w3',\n 'q75_w3',\n 'q95_w3',\n 'q99_w3',\n 'kur_w3',\n 'lag1_sum_w3',\n 'lag1_mean_w3',\n 'lag1_std_w3',\n 'lag1_min_w3',\n 'lag1_max_w3',\n 'lag1_q01_w3',\n 'lag1_q05_w3',\n 'lag1_q25_w3',\n 'lag1_q50_w3',\n 'lag1_q75_w3',\n 'lag1_q95_w3',\n 'lag1_q99_w3',\n 'lag1_kur_w3',\n 'zc_q95_w3',\n 'stft_min_w3',\n 'stft_q01_w3',\n 'stft_q05_w3',\n 'sum_w4',\n 'mean_w4',\n 'std_w4',\n 'min_w4',\n 'max_w4',\n 'q01_w4',\n 'q05_w4',\n 'q25_w4',\n 'q50_w4',\n 'q75_w4',\n 'q95_w4',\n 'q99_w4',\n 'kur_w4',\n 'lag1_sum_w4',\n 'lag1_mean_w4',\n 'lag1_std_w4',\n 'lag1_min_w4',\n 'lag1_max_w4',\n 'lag1_q01_w4',\n 'lag1_q05_w4',\n 'lag1_q25_w4',\n 'lag1_q75_w4',\n 'lag1_q95_w4',\n 'lag1_q99_w4',\n 'lag1_kur_w4',\n 'lag1_skew_w4',\n 'zc_q75_w4',\n 'zc_q95_w4',\n 'zc_q99_w4',\n 'zc_kur_w4',\n 'zc_skew_w4',\n 'sc_kur_w4',\n 'stft_min_w4',\n 'stft_q95_w4',\n 'stft_kur_w4']"
     },
     "execution_count": 21,
     "metadata": {},
     "output_type": "execute_result"
    }
   ],
   "source": [
    "zero_list = [pair[0] for pair in not_gaussian if pair[1] == 0]\n",
    "zero_list"
   ],
   "metadata": {
    "collapsed": false
   }
  },
  {
   "cell_type": "code",
   "execution_count": 22,
   "outputs": [
    {
     "data": {
      "text/plain": "<Figure size 432x288 with 1 Axes>",
      "image/png": "[encoded data removed]"
     },
     "metadata": {
      "needs_background": "light"
     },
     "output_type": "display_data"
    }
   ],
   "source": [
    "# vale per ogni colonna (zc, stft, mfcc, ecc)\n",
    "plt.scatter(df['mfcc_sum'], df[\"frame_count\"]*df['mfcc_mean'])\n",
    "plt.show()"
   ],
   "metadata": {
    "collapsed": false
   }
  },
  {
   "cell_type": "code",
   "execution_count": 23,
   "outputs": [
    {
     "data": {
      "text/plain": "<Figure size 432x288 with 1 Axes>",
      "image/png": "[encoded data removed]"
     },
     "metadata": {
      "needs_background": "light"
     },
     "output_type": "display_data"
    }
   ],
   "source": [
    "plt.hist(df['lag1_sum_w3'], bins=70)\n",
    "lag1_sum_w3_logmodtransf = np.sign(df[\"lag1_sum_w3\"])*np.log10(np.abs(df[\"lag1_sum_w3\"]) + 1)\n",
    "plt.hist(lag1_sum_w3_logmodtransf, alpha=0.5, bins=70)\n",
    "#plt.xscale('log')\n",
    "plt.show()"
   ],
   "metadata": {
    "collapsed": false
   }
  },
  {
   "cell_type": "code",
   "execution_count": 24,
   "outputs": [
    {
     "data": {
      "text/plain": "1021"
     },
     "execution_count": 24,
     "metadata": {},
     "output_type": "execute_result"
    }
   ],
   "source": [
    "len(df[df['stft_min'] == 0])"
   ],
   "metadata": {
    "collapsed": false
   }
  },
  {
   "cell_type": "markdown",
   "source": [
    "## Mutual information"
   ],
   "metadata": {
    "collapsed": false
   }
  },
  {
   "cell_type": "code",
   "execution_count": 25,
   "outputs": [
    {
     "data": {
      "text/plain": "['vocal_channel',\n 'emotion',\n 'emotional_intensity',\n 'statement',\n 'repetition',\n 'sex',\n 'actor']"
     },
     "execution_count": 25,
     "metadata": {},
     "output_type": "execute_result"
    }
   ],
   "source": [
    "categoric_attr_list = [column for column in df.columns if not is_numeric_dtype(df[column])]\n",
    "categoric_attr_list.append('actor')\n",
    "categoric_attr_list"
   ],
   "metadata": {
    "collapsed": false
   }
  },
  {
   "cell_type": "code",
   "execution_count": 26,
   "outputs": [
    {
     "name": "stderr",
     "output_type": "stream",
     "text": [
      "q50\n",
      "lag1_sum\n",
      "lag1_mean\n",
      "lag1_q25\n",
      "lag1_q75\n",
      "zc_q95\n",
      "mfcc_q50\n",
      "mfcc_q75\n",
      "sc_min\n",
      "sc_q01\n",
      "sc_q05\n",
      "stft_min\n",
      "stft_q01\n",
      "stft_q05\n",
      "q05_w1\n",
      "q25_w1\n",
      "q50_w1\n",
      "q75_w1\n",
      "q95_w1\n",
      "lag1_sum_w1\n",
      "lag1_mean_w1\n",
      "lag1_q01_w1\n",
      "lag1_q05_w1\n",
      "lag1_q25_w1\n",
      "lag1_q75_w1\n",
      "lag1_q95_w1\n",
      "lag1_q99_w1\n",
      "zc_q75_w1\n",
      "zc_q95_w1\n",
      "zc_q99_w1\n",
      "mfcc_min_w1\n",
      "mfcc_q01_w1\n",
      "mfcc_q25_w1\n",
      "mfcc_q50_w1\n",
      "mfcc_q75_w1\n",
      "sc_min_w1\n",
      "sc_q01_w1\n",
      "sc_q05_w1\n",
      "sc_q25_w1\n",
      "sc_q50_w1\n",
      "stft_min_w1\n",
      "stft_max_w1\n",
      "stft_q01_w1\n",
      "stft_q05_w1\n",
      "stft_q25_w1\n",
      "stft_q50_w1\n",
      "stft_q95_w1\n",
      "stft_q99_w1\n",
      "q50_w2\n",
      "lag1_q50_w2\n",
      "zc_q75_w2\n",
      "zc_q95_w2\n",
      "q50_w3\n",
      "lag1_q50_w3\n",
      "zc_q95_w3\n",
      "q25_w4\n",
      "q50_w4\n",
      "q75_w4\n",
      "lag1_q01_w4\n",
      "lag1_q05_w4\n",
      "lag1_q25_w4\n",
      "lag1_q75_w4\n",
      "lag1_q95_w4\n",
      "lag1_q99_w4\n",
      "zc_q75_w4\n",
      "zc_q95_w4\n",
      "zc_q99_w4\n",
      "stft_q95_w4\n"
     ]
    }
   ],
   "source": [
    "numeric_attr_list.remove('actor')\n",
    "df_binned = pd.DataFrame(columns=numeric_attr_list)\n",
    "for column in numeric_attr_list:\n",
    "\n",
    "    try:\n",
    "        df_binned[column] = pd.qcut(df[column], q=10)\n",
    "    except ValueError:\n",
    "        print(column, file=sys.stderr)"
   ],
   "metadata": {
    "collapsed": false
   }
  },
  {
   "cell_type": "code",
   "execution_count": 27,
   "outputs": [],
   "source": [
    "df_binned.dropna(axis=1, how='all', inplace=True)"
   ],
   "metadata": {
    "collapsed": false
   }
  },
  {
   "cell_type": "code",
   "execution_count": 28,
   "outputs": [],
   "source": [
    "from sklearn.metrics import adjusted_mutual_info_score as ami\n",
    "\n",
    "df_ami = pd.DataFrame(columns=['num', 'cat', 'ami'])\n",
    "for column_i in df_binned.columns:\n",
    "    for column_j in categoric_attr_list:\n",
    "        row = dict(num=column_i, cat=column_j, ami=ami(df_binned[column_i], df[column_j]))\n",
    "        row = pd.DataFrame(row, index=[0])\n",
    "        df_ami = pd.concat([df_ami, row])"
   ],
   "metadata": {
    "collapsed": false
   }
  },
  {
   "cell_type": "code",
   "execution_count": 29,
   "outputs": [
    {
     "data": {
      "text/plain": "            num            cat       ami\n0     length_w1  vocal_channel  0.295431\n0     length_w4  vocal_channel  0.295426\n0     length_w2  vocal_channel  0.295426\n0   frame_count  vocal_channel  0.294869\n0     length_w3  vocal_channel  0.294867\n..          ...            ...       ...\n0        q05_w4     repetition -0.001016\n0   mfcc_q25_w4     repetition -0.001038\n0   mfcc_q50_w4     repetition -0.001041\n0        q75_w3      statement -0.001085\n0   lag1_std_w4     repetition -0.001107\n\n[2156 rows x 3 columns]",
      "text/html": "<div>\n<style scoped>\n    .dataframe tbody tr th:only-of-type {\n        vertical-align: middle;\n    }\n\n    .dataframe tbody tr th {\n        vertical-align: top;\n    }\n\n    .dataframe thead th {\n        text-align: right;\n    }\n</style>\n<table border=\"1\" class=\"dataframe\">\n  <thead>\n    <tr style=\"text-align: right;\">\n      <th></th>\n      <th>num</th>\n      <th>cat</th>\n      <th>ami</th>\n    </tr>\n  </thead>\n  <tbody>\n    <tr>\n      <th>0</th>\n      <td>length_w1</td>\n      <td>vocal_channel</td>\n      <td>0.295431</td>\n    </tr>\n    <tr>\n      <th>0</th>\n      <td>length_w4</td>\n      <td>vocal_channel</td>\n      <td>0.295426</td>\n    </tr>\n    <tr>\n      <th>0</th>\n      <td>length_w2</td>\n      <td>vocal_channel</td>\n      <td>0.295426</td>\n    </tr>\n    <tr>\n      <th>0</th>\n      <td>frame_count</td>\n      <td>vocal_channel</td>\n      <td>0.294869</td>\n    </tr>\n    <tr>\n      <th>0</th>\n      <td>length_w3</td>\n      <td>vocal_channel</td>\n      <td>0.294867</td>\n    </tr>\n    <tr>\n      <th>...</th>\n      <td>...</td>\n      <td>...</td>\n      <td>...</td>\n    </tr>\n    <tr>\n      <th>0</th>\n      <td>q05_w4</td>\n      <td>repetition</td>\n      <td>-0.001016</td>\n    </tr>\n    <tr>\n      <th>0</th>\n      <td>mfcc_q25_w4</td>\n      <td>repetition</td>\n      <td>-0.001038</td>\n    </tr>\n    <tr>\n      <th>0</th>\n      <td>mfcc_q50_w4</td>\n      <td>repetition</td>\n      <td>-0.001041</td>\n    </tr>\n    <tr>\n      <th>0</th>\n      <td>q75_w3</td>\n      <td>statement</td>\n      <td>-0.001085</td>\n    </tr>\n    <tr>\n      <th>0</th>\n      <td>lag1_std_w4</td>\n      <td>repetition</td>\n      <td>-0.001107</td>\n    </tr>\n  </tbody>\n</table>\n<p>2156 rows × 3 columns</p>\n</div>"
     },
     "execution_count": 29,
     "metadata": {},
     "output_type": "execute_result"
    }
   ],
   "source": [
    "df_ami.sort_values('ami', ascending=False)"
   ],
   "metadata": {
    "collapsed": false
   }
  },
  {
   "cell_type": "markdown",
   "source": [
    "## Correlated features having same prefix"
   ],
   "metadata": {
    "collapsed": false
   }
  },
  {
   "cell_type": "code",
   "execution_count": 30,
   "outputs": [],
   "source": [
    "prefixes = [\n",
    "    'sum',\n",
    "    'mean',\n",
    "    'std',\n",
    "    'min',\n",
    "    'max',\n",
    "    'kur',\n",
    "    'skew',\n",
    "    'lag1',\n",
    "    'zc',\n",
    "    'mfcc',\n",
    "    'sc',\n",
    "    'stft',\n",
    "    'length',\n",
    "    'q'\n",
    "]"
   ],
   "metadata": {
    "collapsed": false
   }
  },
  {
   "cell_type": "code",
   "execution_count": 31,
   "outputs": [],
   "source": [
    "from collections import defaultdict\n",
    "\n",
    "corr_dict = defaultdict(set)\n",
    "\n",
    "for prefix in prefixes:\n",
    "    for column_i in numeric_attr_list:\n",
    "        for column_j in numeric_attr_list:\n",
    "            if column_i != column_j and column_i.startswith(prefix) and column_j.startswith(prefix) \\\n",
    "                and df[column_i].corr(df[column_j], method='spearman') > 0.95:\n",
    "                    corr_dict[prefix].add(column_i)\n",
    "                    corr_dict[prefix].add(column_j)"
   ],
   "metadata": {
    "collapsed": false
   }
  },
  {
   "cell_type": "code",
   "execution_count": 32,
   "outputs": [],
   "source": [
    "def compute_corr(correlation_dict):\n",
    "    new_dict = dict()\n",
    "    for key in correlation_dict.keys():\n",
    "        columns = list(correlation_dict[key])\n",
    "        new_dict[key] = dict(df[columns].corr(method='spearman'))\n",
    "\n",
    "    return new_dict"
   ],
   "metadata": {
    "collapsed": false
   }
  },
  {
   "cell_type": "code",
   "execution_count": 33,
   "outputs": [],
   "source": [
    "from contextlib import redirect_stdout\n",
    "\n",
    "def redirect_to_file(filename, str_to_redirect):\n",
    "    path = os.path.join(DATA_FOLDER, filename)\n",
    "    with open(path, 'w') as f:\n",
    "        with redirect_stdout(f):\n",
    "            print(str_to_redirect)"
   ],
   "metadata": {
    "collapsed": false
   }
  },
  {
   "cell_type": "code",
   "execution_count": 34,
   "outputs": [
    {
     "name": "stdout",
     "output_type": "stream",
     "text": [
      "\n",
      "Correlated with std_w2:\n",
      "std_w2    1.000000\n",
      "std       0.985798\n",
      "std_w3    0.951336\n",
      "Name: std_w2, dtype: float64\n",
      "\n",
      "Correlated with std:\n",
      "std_w2    0.985798\n",
      "std       1.000000\n",
      "std_w3    0.986827\n",
      "Name: std, dtype: float64\n",
      "\n",
      "Correlated with std_w3:\n",
      "std_w2    0.951336\n",
      "std       0.986827\n",
      "std_w3    1.000000\n",
      "Name: std_w3, dtype: float64\n",
      "\n",
      "Correlated with min:\n",
      "min       1.000000\n",
      "min_w3    0.966441\n",
      "min_w2    0.988279\n",
      "Name: min, dtype: float64\n",
      "\n",
      "Correlated with min_w3:\n",
      "min       0.966441\n",
      "min_w3    1.000000\n",
      "Name: min_w3, dtype: float64\n",
      "\n",
      "Correlated with min_w2:\n",
      "min       0.988279\n",
      "min_w2    1.000000\n",
      "Name: min_w2, dtype: float64\n",
      "\n",
      "Correlated with max_w2:\n",
      "max_w2    1.000000\n",
      "max       0.984976\n",
      "Name: max_w2, dtype: float64\n",
      "\n",
      "Correlated with max:\n",
      "max_w2    0.984976\n",
      "max       1.000000\n",
      "max_w3    0.964848\n",
      "Name: max, dtype: float64\n",
      "\n",
      "Correlated with max_w3:\n",
      "max       0.964848\n",
      "max_w3    1.000000\n",
      "Name: max_w3, dtype: float64\n",
      "\n",
      "Correlated with lag1_q99_w3:\n",
      "lag1_q99_w3    1.000000\n",
      "lag1_max_w3    0.964148\n",
      "lag1_q95       0.975947\n",
      "lag1_q95_w3    0.991721\n",
      "lag1_std_w3    0.998621\n",
      "Name: lag1_q99_w3, dtype: float64\n",
      "\n",
      "Correlated with lag1_q99_w2:\n",
      "lag1_q99_w2    1.000000\n",
      "lag1_max       0.956300\n",
      "lag1_std       0.988389\n",
      "lag1_q95_w2    0.987054\n",
      "lag1_max_w2    0.956477\n",
      "lag1_std_w2    0.998297\n",
      "lag1_q99       0.982487\n",
      "Name: lag1_q99_w2, dtype: float64\n",
      "\n",
      "Correlated with lag1_q99_w1:\n",
      "lag1_q99_w1    1.000000\n",
      "lag1_std_w1    0.968968\n",
      "Name: lag1_q99_w1, dtype: float64\n",
      "\n",
      "Correlated with lag1_max:\n",
      "lag1_q99_w2    0.956300\n",
      "lag1_max       1.000000\n",
      "lag1_std       0.952453\n",
      "lag1_max_w2    0.994492\n",
      "lag1_std_w2    0.958089\n",
      "Name: lag1_max, dtype: float64\n",
      "\n",
      "Correlated with lag1_std:\n",
      "lag1_q99_w2    0.988389\n",
      "lag1_max       0.952453\n",
      "lag1_std       1.000000\n",
      "lag1_q95_w2    0.988698\n",
      "lag1_q95       0.972468\n",
      "lag1_std_w2    0.992093\n",
      "lag1_q75_w2    0.962367\n",
      "lag1_q99       0.996744\n",
      "Name: lag1_std, dtype: float64\n",
      "\n",
      "Correlated with lag1_q05:\n",
      "lag1_q05       1.000000\n",
      "lag1_q25_w2    0.975934\n",
      "lag1_q05_w2    0.954822\n",
      "lag1_q01       0.968586\n",
      "lag1_q05_w3    0.979406\n",
      "lag1_q01_w3    0.976026\n",
      "Name: lag1_q05, dtype: float64\n",
      "\n",
      "Correlated with lag1_max_w3:\n",
      "lag1_q99_w3    0.964148\n",
      "lag1_max_w3    1.000000\n",
      "lag1_std_w3    0.966712\n",
      "Name: lag1_max_w3, dtype: float64\n",
      "\n",
      "Correlated with lag1_min:\n",
      "lag1_min       1.000000\n",
      "lag1_min_w2    0.996460\n",
      "lag1_q01_w2    0.961132\n",
      "Name: lag1_min, dtype: float64\n",
      "\n",
      "Correlated with lag1_q25_w2:\n",
      "lag1_q05       0.975934\n",
      "lag1_q25_w2    1.000000\n",
      "lag1_q05_w2    0.961976\n",
      "lag1_q01       0.958960\n",
      "Name: lag1_q25_w2, dtype: float64\n",
      "\n",
      "Correlated with lag1_q05_w2:\n",
      "lag1_q05       0.954822\n",
      "lag1_q25_w2    0.961976\n",
      "lag1_q05_w2    1.000000\n",
      "lag1_q01       0.993874\n",
      "lag1_q01_w2    0.983505\n",
      "Name: lag1_q05_w2, dtype: float64\n",
      "\n",
      "Correlated with lag1_q01:\n",
      "lag1_q05       0.968586\n",
      "lag1_q25_w2    0.958960\n",
      "lag1_q05_w2    0.993874\n",
      "lag1_q01       1.000000\n",
      "lag1_q01_w2    0.980340\n",
      "Name: lag1_q01, dtype: float64\n",
      "\n",
      "Correlated with lag1_mean_w4:\n",
      "lag1_mean_w4    1.000000\n",
      "lag1_sum_w4     0.999724\n",
      "Name: lag1_mean_w4, dtype: float64\n",
      "\n",
      "Correlated with lag1_min_w3:\n",
      "lag1_min_w3    1.000000\n",
      "lag1_q01_w3    0.958058\n",
      "Name: lag1_min_w3, dtype: float64\n",
      "\n",
      "Correlated with lag1_sum_w4:\n",
      "lag1_mean_w4    0.999724\n",
      "lag1_sum_w4     1.000000\n",
      "Name: lag1_sum_w4, dtype: float64\n",
      "\n",
      "Correlated with lag1_q95_w2:\n",
      "lag1_q99_w2    0.987054\n",
      "lag1_std       0.988698\n",
      "lag1_q95_w2    1.000000\n",
      "lag1_q95       0.960205\n",
      "lag1_std_w2    0.991346\n",
      "lag1_q75_w2    0.971907\n",
      "lag1_q99       0.992527\n",
      "Name: lag1_q95_w2, dtype: float64\n",
      "\n",
      "Correlated with lag1_sum_w3:\n",
      "lag1_sum_w3     1.000000\n",
      "lag1_mean_w3    0.998572\n",
      "Name: lag1_sum_w3, dtype: float64\n",
      "\n",
      "Correlated with lag1_q05_w3:\n",
      "lag1_q05       0.979406\n",
      "lag1_q05_w3    1.000000\n",
      "lag1_q25_w3    0.961445\n",
      "lag1_q01_w3    0.991319\n",
      "Name: lag1_q05_w3, dtype: float64\n",
      "\n",
      "Correlated with lag1_mean_w3:\n",
      "lag1_sum_w3     0.998572\n",
      "lag1_mean_w3    1.000000\n",
      "Name: lag1_mean_w3, dtype: float64\n",
      "\n",
      "Correlated with lag1_q95:\n",
      "lag1_q99_w3    0.975947\n",
      "lag1_std       0.972468\n",
      "lag1_q95_w2    0.960205\n",
      "lag1_q95       1.000000\n",
      "lag1_q75_w2    0.972946\n",
      "lag1_q95_w3    0.976682\n",
      "lag1_q99       0.976445\n",
      "lag1_std_w3    0.977868\n",
      "Name: lag1_q95, dtype: float64\n",
      "\n",
      "Correlated with lag1_sum_w1:\n",
      "lag1_sum_w1     1.000000\n",
      "lag1_mean_w1    0.999806\n",
      "Name: lag1_sum_w1, dtype: float64\n",
      "\n",
      "Correlated with lag1_max_w2:\n",
      "lag1_q99_w2    0.956477\n",
      "lag1_max       0.994492\n",
      "lag1_max_w2    1.000000\n",
      "lag1_std_w2    0.958068\n",
      "Name: lag1_max_w2, dtype: float64\n",
      "\n",
      "Correlated with lag1_q25_w3:\n",
      "lag1_q05_w3    0.961445\n",
      "lag1_q25_w3    1.000000\n",
      "Name: lag1_q25_w3, dtype: float64\n",
      "\n",
      "Correlated with lag1_q01_w3:\n",
      "lag1_q05       0.976026\n",
      "lag1_min_w3    0.958058\n",
      "lag1_q05_w3    0.991319\n",
      "lag1_q01_w3    1.000000\n",
      "Name: lag1_q01_w3, dtype: float64\n",
      "\n",
      "Correlated with lag1_min_w2:\n",
      "lag1_min       0.996460\n",
      "lag1_min_w2    1.000000\n",
      "lag1_q01_w2    0.960862\n",
      "Name: lag1_min_w2, dtype: float64\n",
      "\n",
      "Correlated with lag1_q99_w4:\n",
      "lag1_q99_w4    1.000000\n",
      "lag1_max_w4    0.950759\n",
      "lag1_std_w4    0.988166\n",
      "Name: lag1_q99_w4, dtype: float64\n",
      "\n",
      "Correlated with lag1_std_w2:\n",
      "lag1_q99_w2    0.998297\n",
      "lag1_max       0.958089\n",
      "lag1_std       0.992093\n",
      "lag1_q95_w2    0.991346\n",
      "lag1_max_w2    0.958068\n",
      "lag1_std_w2    1.000000\n",
      "lag1_q75_w2    0.954322\n",
      "lag1_q99       0.986617\n",
      "Name: lag1_std_w2, dtype: float64\n",
      "\n",
      "Correlated with lag1_q75_w2:\n",
      "lag1_std       0.962367\n",
      "lag1_q95_w2    0.971907\n",
      "lag1_q95       0.972946\n",
      "lag1_std_w2    0.954322\n",
      "lag1_q75_w2    1.000000\n",
      "lag1_q99       0.967276\n",
      "Name: lag1_q75_w2, dtype: float64\n",
      "\n",
      "Correlated with lag1_q95_w3:\n",
      "lag1_q99_w3    0.991721\n",
      "lag1_q95       0.976682\n",
      "lag1_q95_w3    1.000000\n",
      "lag1_q75_w3    0.967080\n",
      "lag1_std_w3    0.993430\n",
      "Name: lag1_q95_w3, dtype: float64\n",
      "\n",
      "Correlated with lag1_q75_w3:\n",
      "lag1_q95_w3    0.96708\n",
      "lag1_q75_w3    1.00000\n",
      "Name: lag1_q75_w3, dtype: float64\n",
      "\n",
      "Correlated with lag1_q99:\n",
      "lag1_q99_w2    0.982487\n",
      "lag1_std       0.996744\n",
      "lag1_q95_w2    0.992527\n",
      "lag1_q95       0.976445\n",
      "lag1_std_w2    0.986617\n",
      "lag1_q75_w2    0.967276\n",
      "lag1_q99       1.000000\n",
      "Name: lag1_q99, dtype: float64\n",
      "\n",
      "Correlated with lag1_q01_w2:\n",
      "lag1_min       0.961132\n",
      "lag1_q05_w2    0.983505\n",
      "lag1_q01       0.980340\n",
      "lag1_min_w2    0.960862\n",
      "lag1_q01_w2    1.000000\n",
      "Name: lag1_q01_w2, dtype: float64\n",
      "\n",
      "Correlated with lag1_mean_w2:\n",
      "lag1_mean_w2    1.000000\n",
      "lag1_sum_w2     0.998538\n",
      "Name: lag1_mean_w2, dtype: float64\n",
      "\n",
      "Correlated with lag1_mean_w1:\n",
      "lag1_sum_w1     0.999806\n",
      "lag1_mean_w1    1.000000\n",
      "Name: lag1_mean_w1, dtype: float64\n",
      "\n",
      "Correlated with lag1_std_w1:\n",
      "lag1_q99_w1    0.968968\n",
      "lag1_std_w1    1.000000\n",
      "Name: lag1_std_w1, dtype: float64\n",
      "\n",
      "Correlated with lag1_std_w3:\n",
      "lag1_q99_w3    0.998621\n",
      "lag1_max_w3    0.966712\n",
      "lag1_q95       0.977868\n",
      "lag1_q95_w3    0.993430\n",
      "lag1_std_w3    1.000000\n",
      "Name: lag1_std_w3, dtype: float64\n",
      "\n",
      "Correlated with lag1_sum:\n",
      "lag1_sum     1.000000\n",
      "lag1_mean    0.999266\n",
      "Name: lag1_sum, dtype: float64\n",
      "\n",
      "Correlated with lag1_mean:\n",
      "lag1_sum     0.999266\n",
      "lag1_mean    1.000000\n",
      "Name: lag1_mean, dtype: float64\n",
      "\n",
      "Correlated with lag1_max_w4:\n",
      "lag1_q99_w4    0.950759\n",
      "lag1_max_w4    1.000000\n",
      "lag1_std_w4    0.966026\n",
      "Name: lag1_max_w4, dtype: float64\n",
      "\n",
      "Correlated with lag1_sum_w2:\n",
      "lag1_mean_w2    0.998538\n",
      "lag1_sum_w2     1.000000\n",
      "Name: lag1_sum_w2, dtype: float64\n",
      "\n",
      "Correlated with lag1_std_w4:\n",
      "lag1_q99_w4    0.988166\n",
      "lag1_max_w4    0.966026\n",
      "lag1_std_w4    1.000000\n",
      "Name: lag1_std_w4, dtype: float64\n",
      "\n",
      "Correlated with zc_mean_w1:\n",
      "zc_mean_w1    1.000000\n",
      "zc_std_w1     1.000000\n",
      "zc_sum_w1     0.957616\n",
      "Name: zc_mean_w1, dtype: float64\n",
      "\n",
      "Correlated with zc_std:\n",
      "zc_std     1.0\n",
      "zc_mean    1.0\n",
      "Name: zc_std, dtype: float64\n",
      "\n",
      "Correlated with zc_mean_w3:\n",
      "zc_mean_w3    1.0\n",
      "zc_std_w3     1.0\n",
      "Name: zc_mean_w3, dtype: float64\n",
      "\n",
      "Correlated with zc_std_w4:\n",
      "zc_std_w4     1.0\n",
      "zc_mean_w4    1.0\n",
      "Name: zc_std_w4, dtype: float64\n",
      "\n",
      "Correlated with zc_std_w1:\n",
      "zc_mean_w1    1.000000\n",
      "zc_std_w1     1.000000\n",
      "zc_sum_w1     0.957616\n",
      "Name: zc_std_w1, dtype: float64\n",
      "\n",
      "Correlated with zc_skew_w4:\n",
      "zc_skew_w4    1.0\n",
      "zc_kur_w4     1.0\n",
      "Name: zc_skew_w4, dtype: float64\n",
      "\n",
      "Correlated with zc_kur_w1:\n",
      "zc_kur_w1     1.0\n",
      "zc_skew_w1    1.0\n",
      "Name: zc_kur_w1, dtype: float64\n",
      "\n",
      "Correlated with zc_skew_w1:\n",
      "zc_kur_w1     1.0\n",
      "zc_skew_w1    1.0\n",
      "Name: zc_skew_w1, dtype: float64\n",
      "\n",
      "Correlated with zc_mean_w4:\n",
      "zc_std_w4     1.0\n",
      "zc_mean_w4    1.0\n",
      "Name: zc_mean_w4, dtype: float64\n",
      "\n",
      "Correlated with zc_std_w3:\n",
      "zc_mean_w3    1.0\n",
      "zc_std_w3     1.0\n",
      "Name: zc_std_w3, dtype: float64\n",
      "\n",
      "Correlated with zc_skew_w2:\n",
      "zc_skew_w2    1.0\n",
      "zc_kur_w2     1.0\n",
      "Name: zc_skew_w2, dtype: float64\n",
      "\n",
      "Correlated with zc_skew:\n",
      "zc_skew    1.0\n",
      "zc_kur     1.0\n",
      "Name: zc_skew, dtype: float64\n",
      "\n",
      "Correlated with zc_kur_w2:\n",
      "zc_skew_w2    1.0\n",
      "zc_kur_w2     1.0\n",
      "Name: zc_kur_w2, dtype: float64\n",
      "\n",
      "Correlated with zc_mean:\n",
      "zc_std     1.0\n",
      "zc_mean    1.0\n",
      "Name: zc_mean, dtype: float64\n",
      "\n",
      "Correlated with zc_mean_w2:\n",
      "zc_mean_w2    1.0\n",
      "zc_std_w2     1.0\n",
      "Name: zc_mean_w2, dtype: float64\n",
      "\n",
      "Correlated with zc_kur_w4:\n",
      "zc_skew_w4    1.0\n",
      "zc_kur_w4     1.0\n",
      "Name: zc_kur_w4, dtype: float64\n",
      "\n",
      "Correlated with zc_kur:\n",
      "zc_skew    1.0\n",
      "zc_kur     1.0\n",
      "Name: zc_kur, dtype: float64\n",
      "\n",
      "Correlated with zc_std_w2:\n",
      "zc_mean_w2    1.0\n",
      "zc_std_w2     1.0\n",
      "Name: zc_std_w2, dtype: float64\n",
      "\n",
      "Correlated with zc_sum_w1:\n",
      "zc_mean_w1    0.957616\n",
      "zc_std_w1     0.957616\n",
      "zc_sum_w1     1.000000\n",
      "Name: zc_sum_w1, dtype: float64\n",
      "\n",
      "Correlated with zc_skew_w3:\n",
      "zc_skew_w3    1.0\n",
      "zc_kur_w3     1.0\n",
      "Name: zc_skew_w3, dtype: float64\n",
      "\n",
      "Correlated with zc_kur_w3:\n",
      "zc_skew_w3    1.0\n",
      "zc_kur_w3     1.0\n",
      "Name: zc_kur_w3, dtype: float64\n",
      "\n",
      "Correlated with mfcc_q01_w1:\n",
      "mfcc_q01_w1    1.000000\n",
      "mfcc_min_w1    0.959056\n",
      "Name: mfcc_q01_w1, dtype: float64\n",
      "\n",
      "Correlated with mfcc_std_w2:\n",
      "mfcc_std_w2    1.00000\n",
      "mfcc_std       0.95614\n",
      "Name: mfcc_std_w2, dtype: float64\n",
      "\n",
      "Correlated with mfcc_std:\n",
      "mfcc_std_w2    0.956140\n",
      "mfcc_std       1.000000\n",
      "mfcc_std_w3    0.959174\n",
      "Name: mfcc_std, dtype: float64\n",
      "\n",
      "Correlated with mfcc_min:\n",
      "mfcc_min    1.000000\n",
      "mfcc_q01    0.992332\n",
      "Name: mfcc_min, dtype: float64\n",
      "\n",
      "Correlated with mfcc_min_w1:\n",
      "mfcc_q01_w1    0.959056\n",
      "mfcc_min_w1    1.000000\n",
      "Name: mfcc_min_w1, dtype: float64\n",
      "\n",
      "Correlated with mfcc_std_w3:\n",
      "mfcc_std       0.959174\n",
      "mfcc_std_w3    1.000000\n",
      "Name: mfcc_std_w3, dtype: float64\n",
      "\n",
      "Correlated with mfcc_q01:\n",
      "mfcc_min    0.992332\n",
      "mfcc_q01    1.000000\n",
      "Name: mfcc_q01, dtype: float64\n",
      "\n",
      "Correlated with sc_q05_w4:\n",
      "sc_q05_w4    1.000000\n",
      "sc_q01_w4    0.951609\n",
      "Name: sc_q05_w4, dtype: float64\n",
      "\n",
      "Correlated with sc_q01_w2:\n",
      "sc_q01_w2    1.000000\n",
      "sc_min_w2    0.967393\n",
      "Name: sc_q01_w2, dtype: float64\n",
      "\n",
      "Correlated with sc_min_w1:\n",
      "sc_min_w1    1.000000\n",
      "sc_q01_w1    0.964983\n",
      "Name: sc_min_w1, dtype: float64\n",
      "\n",
      "Correlated with sc_skew_w3:\n",
      "sc_skew_w3    1.000000\n",
      "sc_kur_w3     0.954365\n",
      "Name: sc_skew_w3, dtype: float64\n",
      "\n",
      "Correlated with sc_q95_w4:\n",
      "sc_q95_w4    1.000000\n",
      "sc_q99_w4    0.976273\n",
      "sc_max_w4    0.956313\n",
      "Name: sc_q95_w4, dtype: float64\n",
      "\n",
      "Correlated with sc_min_w2:\n",
      "sc_q01_w2    0.967393\n",
      "sc_min_w2    1.000000\n",
      "Name: sc_min_w2, dtype: float64\n",
      "\n",
      "Correlated with sc_q99_w4:\n",
      "sc_q95_w4    0.976273\n",
      "sc_q99_w4    1.000000\n",
      "sc_max_w4    0.987149\n",
      "Name: sc_q99_w4, dtype: float64\n",
      "\n",
      "Correlated with sc_q01_w4:\n",
      "sc_q05_w4    0.951609\n",
      "sc_q01_w4    1.000000\n",
      "sc_min_w4    0.976873\n",
      "Name: sc_q01_w4, dtype: float64\n",
      "\n",
      "Correlated with sc_min_w4:\n",
      "sc_q01_w4    0.976873\n",
      "sc_min_w4    1.000000\n",
      "Name: sc_min_w4, dtype: float64\n",
      "\n",
      "Correlated with sc_max_w2:\n",
      "sc_max_w2    1.000000\n",
      "sc_q99_w2    0.991712\n",
      "Name: sc_max_w2, dtype: float64\n",
      "\n",
      "Correlated with sc_q01_w3:\n",
      "sc_q01_w3    1.00000\n",
      "sc_min_w3    0.97749\n",
      "Name: sc_q01_w3, dtype: float64\n",
      "\n",
      "Correlated with sc_q99_w3:\n",
      "sc_q99_w3    1.000000\n",
      "sc_max_w3    0.979005\n",
      "Name: sc_q99_w3, dtype: float64\n",
      "\n",
      "Correlated with sc_max_w4:\n",
      "sc_q95_w4    0.956313\n",
      "sc_q99_w4    0.987149\n",
      "sc_max_w4    1.000000\n",
      "Name: sc_max_w4, dtype: float64\n",
      "\n",
      "Correlated with sc_q99_w2:\n",
      "sc_max_w2    0.991712\n",
      "sc_q99_w2    1.000000\n",
      "Name: sc_q99_w2, dtype: float64\n",
      "\n",
      "Correlated with sc_max_w1:\n",
      "sc_max_w1    1.000000\n",
      "sc_q99_w1    0.966718\n",
      "Name: sc_max_w1, dtype: float64\n",
      "\n",
      "Correlated with sc_q99_w1:\n",
      "sc_max_w1    0.966718\n",
      "sc_q99_w1    1.000000\n",
      "Name: sc_q99_w1, dtype: float64\n",
      "\n",
      "Correlated with sc_q01_w1:\n",
      "sc_min_w1    0.964983\n",
      "sc_q01_w1    1.000000\n",
      "Name: sc_q01_w1, dtype: float64\n",
      "\n",
      "Correlated with sc_max_w3:\n",
      "sc_q99_w3    0.979005\n",
      "sc_max_w3    1.000000\n",
      "Name: sc_max_w3, dtype: float64\n",
      "\n",
      "Correlated with sc_kur_w3:\n",
      "sc_skew_w3    0.954365\n",
      "sc_kur_w3     1.000000\n",
      "Name: sc_kur_w3, dtype: float64\n",
      "\n",
      "Correlated with sc_min_w3:\n",
      "sc_q01_w3    0.97749\n",
      "sc_min_w3    1.00000\n",
      "Name: sc_min_w3, dtype: float64\n",
      "\n",
      "Correlated with stft_q50_w1:\n",
      "stft_q50_w1     1.000000\n",
      "stft_mean_w1    0.975622\n",
      "Name: stft_q50_w1, dtype: float64\n",
      "\n",
      "Correlated with stft_kur_w2:\n",
      "stft_kur_w2     1.000000\n",
      "stft_skew_w2    0.973098\n",
      "Name: stft_kur_w2, dtype: float64\n",
      "\n",
      "Correlated with stft_q50_w4:\n",
      "stft_q50_w4     1.00000\n",
      "stft_mean_w4    0.95003\n",
      "Name: stft_q50_w4, dtype: float64\n",
      "\n",
      "Correlated with stft_min_w2:\n",
      "stft_min_w2    1.00000\n",
      "stft_q01_w2    0.97216\n",
      "Name: stft_min_w2, dtype: float64\n",
      "\n",
      "Correlated with stft_skew_w3:\n",
      "stft_skew_w3    1.000000\n",
      "stft_kur_w3     0.989438\n",
      "Name: stft_skew_w3, dtype: float64\n",
      "\n",
      "Correlated with stft_q01_w3:\n",
      "stft_q01_w3    1.000000\n",
      "stft_q05_w3    0.968099\n",
      "stft_min_w3    0.969690\n",
      "Name: stft_q01_w3, dtype: float64\n",
      "\n",
      "Correlated with stft_kur_w3:\n",
      "stft_skew_w3    0.989438\n",
      "stft_kur_w3     1.000000\n",
      "Name: stft_kur_w3, dtype: float64\n",
      "\n",
      "Correlated with stft_mean_w2:\n",
      "stft_mean_w2    1.000000\n",
      "stft_q50_w2     0.992054\n",
      "stft_q75_w2     0.968013\n",
      "Name: stft_mean_w2, dtype: float64\n",
      "\n",
      "Correlated with stft_q50_w2:\n",
      "stft_mean_w2    0.992054\n",
      "stft_q50_w2     1.000000\n",
      "stft_q75_w2     0.952213\n",
      "Name: stft_q50_w2, dtype: float64\n",
      "\n",
      "Correlated with stft_mean:\n",
      "stft_mean    1.000000\n",
      "stft_q50     0.987315\n",
      "stft_q25     0.951573\n",
      "Name: stft_mean, dtype: float64\n",
      "\n",
      "Correlated with stft_q01_w2:\n",
      "stft_min_w2    0.972160\n",
      "stft_q01_w2    1.000000\n",
      "stft_q05_w2    0.959081\n",
      "Name: stft_q01_w2, dtype: float64\n",
      "\n",
      "Correlated with stft_q05_w3:\n",
      "stft_q01_w3    0.968099\n",
      "stft_q05_w3    1.000000\n",
      "Name: stft_q05_w3, dtype: float64\n",
      "\n",
      "Correlated with stft_q75_w3:\n",
      "stft_q75_w3     1.000000\n",
      "stft_mean_w3    0.983488\n",
      "stft_q50_w3     0.969515\n",
      "Name: stft_q75_w3, dtype: float64\n",
      "\n",
      "Correlated with stft_min_w1:\n",
      "stft_min_w1    1.000000\n",
      "stft_q01_w1    0.983295\n",
      "Name: stft_min_w1, dtype: float64\n",
      "\n",
      "Correlated with stft_q75_w2:\n",
      "stft_mean_w2    0.968013\n",
      "stft_q50_w2     0.952213\n",
      "stft_q75_w2     1.000000\n",
      "Name: stft_q75_w2, dtype: float64\n",
      "\n",
      "Correlated with stft_q25_w3:\n",
      "stft_q25_w3     1.000000\n",
      "stft_mean_w3    0.969968\n",
      "stft_q50_w3     0.969343\n",
      "Name: stft_q25_w3, dtype: float64\n",
      "\n",
      "Correlated with stft_q25_w1:\n",
      "stft_q25_w1     1.000000\n",
      "stft_mean_w1    0.978271\n",
      "Name: stft_q25_w1, dtype: float64\n",
      "\n",
      "Correlated with stft_mean_w3:\n",
      "stft_q75_w3     0.983488\n",
      "stft_q25_w3     0.969968\n",
      "stft_mean_w3    1.000000\n",
      "stft_q50_w3     0.994166\n",
      "Name: stft_mean_w3, dtype: float64\n",
      "\n",
      "Correlated with stft_q25_w4:\n",
      "stft_q25_w4     1.000000\n",
      "stft_mean_w4    0.979509\n",
      "Name: stft_q25_w4, dtype: float64\n",
      "\n",
      "Correlated with stft_q05_w2:\n",
      "stft_q01_w2    0.959081\n",
      "stft_q05_w2    1.000000\n",
      "Name: stft_q05_w2, dtype: float64\n",
      "\n",
      "Correlated with stft_skew_w2:\n",
      "stft_kur_w2     0.973098\n",
      "stft_skew_w2    1.000000\n",
      "Name: stft_skew_w2, dtype: float64\n",
      "\n",
      "Correlated with stft_mean_w1:\n",
      "stft_q50_w1     0.975622\n",
      "stft_q25_w1     0.978271\n",
      "stft_mean_w1    1.000000\n",
      "Name: stft_mean_w1, dtype: float64\n",
      "\n",
      "Correlated with stft_q01_w4:\n",
      "stft_q01_w4    1.000000\n",
      "stft_min_w4    0.986603\n",
      "Name: stft_q01_w4, dtype: float64\n",
      "\n",
      "Correlated with stft_q50:\n",
      "stft_mean    0.987315\n",
      "stft_q50     1.000000\n",
      "Name: stft_q50, dtype: float64\n",
      "\n",
      "Correlated with stft_q50_w3:\n",
      "stft_q75_w3     0.969515\n",
      "stft_q25_w3     0.969343\n",
      "stft_mean_w3    0.994166\n",
      "stft_q50_w3     1.000000\n",
      "Name: stft_q50_w3, dtype: float64\n",
      "\n",
      "Correlated with stft_q25:\n",
      "stft_mean    0.951573\n",
      "stft_q25     1.000000\n",
      "Name: stft_q25, dtype: float64\n",
      "\n",
      "Correlated with stft_q01_w1:\n",
      "stft_min_w1    0.983295\n",
      "stft_q01_w1    1.000000\n",
      "Name: stft_q01_w1, dtype: float64\n",
      "\n",
      "Correlated with stft_mean_w4:\n",
      "stft_q50_w4     0.950030\n",
      "stft_q25_w4     0.979509\n",
      "stft_mean_w4    1.000000\n",
      "Name: stft_mean_w4, dtype: float64\n",
      "\n",
      "Correlated with stft_min_w4:\n",
      "stft_q01_w4    0.986603\n",
      "stft_min_w4    1.000000\n",
      "Name: stft_min_w4, dtype: float64\n",
      "\n",
      "Correlated with stft_min_w3:\n",
      "stft_q01_w3    0.96969\n",
      "stft_min_w3    1.00000\n",
      "Name: stft_min_w3, dtype: float64\n",
      "\n",
      "Correlated with length_w1:\n",
      "length_w1    1.000000\n",
      "length_w2    0.999958\n",
      "length_w4    0.999963\n",
      "length_w3    0.999953\n",
      "Name: length_w1, dtype: float64\n",
      "\n",
      "Correlated with length_w2:\n",
      "length_w1    0.999958\n",
      "length_w2    1.000000\n",
      "length_w4    0.999963\n",
      "length_w3    0.999954\n",
      "Name: length_w2, dtype: float64\n",
      "\n",
      "Correlated with length_w4:\n",
      "length_w1    0.999963\n",
      "length_w2    0.999963\n",
      "length_w4    1.000000\n",
      "length_w3    0.999958\n",
      "Name: length_w4, dtype: float64\n",
      "\n",
      "Correlated with length_w3:\n",
      "length_w1    0.999953\n",
      "length_w2    0.999954\n",
      "length_w4    0.999958\n",
      "length_w3    1.000000\n",
      "Name: length_w3, dtype: float64\n",
      "\n",
      "Correlated with q01_w3:\n",
      "q01_w3    1.000000\n",
      "q01       0.986583\n",
      "q05_w3    0.991598\n",
      "q05       0.972720\n",
      "Name: q01_w3, dtype: float64\n",
      "\n",
      "Correlated with q01:\n",
      "q01_w3    0.986583\n",
      "q01       1.000000\n",
      "q05_w3    0.981655\n",
      "q01_w2    0.980119\n",
      "q05       0.985705\n",
      "q05_w2    0.981057\n",
      "Name: q01, dtype: float64\n",
      "\n",
      "Correlated with q05_w3:\n",
      "q01_w3    0.991598\n",
      "q01       0.981655\n",
      "q05_w3    1.000000\n",
      "q05       0.983140\n",
      "Name: q05_w3, dtype: float64\n",
      "\n",
      "Correlated with q95:\n",
      "q95       1.000000\n",
      "q99_w2    0.953968\n",
      "q99       0.985235\n",
      "q95_w3    0.984664\n",
      "q99_w3    0.974231\n",
      "q75_w3    0.954711\n",
      "q95_w2    0.977940\n",
      "Name: q95, dtype: float64\n",
      "\n",
      "Correlated with q01_w2:\n",
      "q01       0.980119\n",
      "q01_w2    1.000000\n",
      "q05       0.958341\n",
      "q05_w2    0.985722\n",
      "Name: q01_w2, dtype: float64\n",
      "\n",
      "Correlated with q99_w2:\n",
      "q95       0.953968\n",
      "q99_w2    1.000000\n",
      "q99       0.977286\n",
      "q95_w2    0.985189\n",
      "Name: q99_w2, dtype: float64\n",
      "\n",
      "Correlated with q25_w2:\n",
      "q25_w2    1.000000\n",
      "q05       0.952518\n",
      "q05_w2    0.960128\n",
      "Name: q25_w2, dtype: float64\n",
      "\n",
      "Correlated with q99:\n",
      "q95       0.985235\n",
      "q99_w2    0.977286\n",
      "q99       1.000000\n",
      "q95_w3    0.982204\n",
      "q99_w3    0.986759\n",
      "q95_w2    0.981523\n",
      "Name: q99, dtype: float64\n",
      "\n",
      "Correlated with q05:\n",
      "q01_w3    0.972720\n",
      "q01       0.985705\n",
      "q05_w3    0.983140\n",
      "q01_w2    0.958341\n",
      "q25_w2    0.952518\n",
      "q05       1.000000\n",
      "q05_w2    0.979041\n",
      "q25_w3    0.960728\n",
      "Name: q05, dtype: float64\n",
      "\n",
      "Correlated with q05_w2:\n",
      "q01       0.981057\n",
      "q01_w2    0.985722\n",
      "q25_w2    0.960128\n",
      "q05       0.979041\n",
      "q05_w2    1.000000\n",
      "Name: q05_w2, dtype: float64\n",
      "\n",
      "Correlated with q25_w3:\n",
      "q05       0.960728\n",
      "q25_w3    1.000000\n",
      "Name: q25_w3, dtype: float64\n",
      "\n",
      "Correlated with q95_w3:\n",
      "q95       0.984664\n",
      "q99       0.982204\n",
      "q95_w3    1.000000\n",
      "q99_w3    0.991495\n",
      "Name: q95_w3, dtype: float64\n",
      "\n",
      "Correlated with q99_w3:\n",
      "q95       0.974231\n",
      "q99       0.986759\n",
      "q95_w3    0.991495\n",
      "q99_w3    1.000000\n",
      "Name: q99_w3, dtype: float64\n",
      "\n",
      "Correlated with q75_w3:\n",
      "q95       0.954711\n",
      "q75_w3    1.000000\n",
      "Name: q75_w3, dtype: float64\n",
      "\n",
      "Correlated with q95_w2:\n",
      "q95       0.977940\n",
      "q99_w2    0.985189\n",
      "q99       0.981523\n",
      "q95_w2    1.000000\n",
      "Name: q95_w2, dtype: float64\n"
     ]
    }
   ],
   "source": [
    "corr_dict = compute_corr(corr_dict)\n",
    "res = ''\n",
    "\n",
    "for prefix in corr_dict.keys():\n",
    "    for column in corr_dict[prefix].keys():\n",
    "        to_be_printed = f'\\nCorrelated with {column}:\\n'\n",
    "        series = corr_dict[prefix][column]\n",
    "        to_be_printed += f'{series[series > 0.95]}'\n",
    "        print(to_be_printed)\n",
    "\n",
    "        res += to_be_printed + '\\n'\n",
    "\n",
    "redirect_to_file('correlated_features_same_prefix.txt', res)"
   ],
   "metadata": {
    "collapsed": false
   }
  },
  {
   "cell_type": "code",
   "execution_count": 34,
   "outputs": [],
   "source": [],
   "metadata": {
    "collapsed": false
   }
  }
 ],
 "metadata": {
  "kernelspec": {
   "display_name": "Python 3",
   "language": "python",
   "name": "python3"
  },
  "language_info": {
   "codemirror_mode": {
    "name": "ipython",
    "version": 3
   },
   "file_extension": ".py",
   "mimetype": "text/x-python",
   "name": "python",
   "nbconvert_exporter": "python",
   "pygments_lexer": "ipython3",
   "version": "3.10.6"
  }
 },
 "nbformat": 4,
 "nbformat_minor": 0
}
