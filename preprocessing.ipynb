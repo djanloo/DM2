{
 "cells": [
  {
   "cell_type": "code",
   "execution_count": 1,
   "metadata": {
    "collapsed": true
   },
   "outputs": [],
   "source": [
    "import os\n",
    "import pandas as pd\n",
    "from matplotlib import pyplot as plt"
   ]
  },
  {
   "cell_type": "code",
   "execution_count": 2,
   "outputs": [],
   "source": [
    "DATA_FOLDER = 'dataset'\n",
    "DATASET_TRAIN = os.path.join(DATA_FOLDER, 'RavdessAudioOnlyFeatures_TRAIN.csv')\n",
    "DATASET_TEST = os.path.join(DATA_FOLDER, 'RavdessAudioOnlyFeatures_TEST.csv')\n",
    "PREPROCESSED_TRAIN = os.path.join(DATA_FOLDER, 'preprocessed_dataset_TRAIN.csv')\n",
    "PREPROCESSED_TEST = os.path.join(DATA_FOLDER, 'preprocessed_dataset_TEST.csv')"
   ],
   "metadata": {
    "collapsed": false
   }
  },
  {
   "cell_type": "code",
   "execution_count": 3,
   "outputs": [
    {
     "data": {
      "text/plain": "     modality vocal_channel  emotion emotional_intensity  \\\n0  audio-only        speech  neutral              normal   \n1  audio-only        speech  neutral              normal   \n2  audio-only        speech  neutral              normal   \n3  audio-only        speech  neutral              normal   \n4  audio-only        speech     calm              normal   \n\n                      statement repetition  actor sex  \\\n0  Kids are talking by the door        1st      1   M   \n1  Kids are talking by the door        2nd      1   M   \n2  Dogs are sitting by the door        1st      1   M   \n3  Dogs are sitting by the door        2nd      1   M   \n4  Kids are talking by the door        1st      1   M   \n\n                   filename  frame_count  ...  stft_max_w4  stft_q01_w4  \\\n0  03-01-01-01-01-01-01.wav       158558  ...          1.0     0.000000   \n1  03-01-01-01-01-02-01.wav       160160  ...          1.0     0.368623   \n2  03-01-01-01-02-01-01.wav       156956  ...          1.0     0.000000   \n3  03-01-01-01-02-02-01.wav       152152  ...          1.0     0.306280   \n4  03-01-02-01-01-01-01.wav       169769  ...          1.0     0.248765   \n\n   stft_q05_w4  stft_q25_w4  stft_q50_w4  stft_q75_w4  stft_q95_w4  \\\n0     0.566462     0.709962     0.799141     0.896606          1.0   \n1     0.472736     0.623183     0.744908     0.874713          1.0   \n2     0.417919     0.643636     0.774253     0.899156          1.0   \n3     0.399641     0.606910     0.755213     0.886474          1.0   \n4     0.428202     0.634815     0.759914     0.878014          1.0   \n\n   stft_q99_w4  stft_kur_w4  stft_skew_w4  \n0          1.0     6.742190     -1.706215  \n1          1.0    -0.700420     -0.201495  \n2          1.0     1.688986     -1.024773  \n3          1.0    -0.594111     -0.412871  \n4          1.0     0.126535     -0.620782  \n\n[5 rows x 434 columns]",
      "text/html": "<div>\n<style scoped>\n    .dataframe tbody tr th:only-of-type {\n        vertical-align: middle;\n    }\n\n    .dataframe tbody tr th {\n        vertical-align: top;\n    }\n\n    .dataframe thead th {\n        text-align: right;\n    }\n</style>\n<table border=\"1\" class=\"dataframe\">\n  <thead>\n    <tr style=\"text-align: right;\">\n      <th></th>\n      <th>modality</th>\n      <th>vocal_channel</th>\n      <th>emotion</th>\n      <th>emotional_intensity</th>\n      <th>statement</th>\n      <th>repetition</th>\n      <th>actor</th>\n      <th>sex</th>\n      <th>filename</th>\n      <th>frame_count</th>\n      <th>...</th>\n      <th>stft_max_w4</th>\n      <th>stft_q01_w4</th>\n      <th>stft_q05_w4</th>\n      <th>stft_q25_w4</th>\n      <th>stft_q50_w4</th>\n      <th>stft_q75_w4</th>\n      <th>stft_q95_w4</th>\n      <th>stft_q99_w4</th>\n      <th>stft_kur_w4</th>\n      <th>stft_skew_w4</th>\n    </tr>\n  </thead>\n  <tbody>\n    <tr>\n      <th>0</th>\n      <td>audio-only</td>\n      <td>speech</td>\n      <td>neutral</td>\n      <td>normal</td>\n      <td>Kids are talking by the door</td>\n      <td>1st</td>\n      <td>1</td>\n      <td>M</td>\n      <td>03-01-01-01-01-01-01.wav</td>\n      <td>158558</td>\n      <td>...</td>\n      <td>1.0</td>\n      <td>0.000000</td>\n      <td>0.566462</td>\n      <td>0.709962</td>\n      <td>0.799141</td>\n      <td>0.896606</td>\n      <td>1.0</td>\n      <td>1.0</td>\n      <td>6.742190</td>\n      <td>-1.706215</td>\n    </tr>\n    <tr>\n      <th>1</th>\n      <td>audio-only</td>\n      <td>speech</td>\n      <td>neutral</td>\n      <td>normal</td>\n      <td>Kids are talking by the door</td>\n      <td>2nd</td>\n      <td>1</td>\n      <td>M</td>\n      <td>03-01-01-01-01-02-01.wav</td>\n      <td>160160</td>\n      <td>...</td>\n      <td>1.0</td>\n      <td>0.368623</td>\n      <td>0.472736</td>\n      <td>0.623183</td>\n      <td>0.744908</td>\n      <td>0.874713</td>\n      <td>1.0</td>\n      <td>1.0</td>\n      <td>-0.700420</td>\n      <td>-0.201495</td>\n    </tr>\n    <tr>\n      <th>2</th>\n      <td>audio-only</td>\n      <td>speech</td>\n      <td>neutral</td>\n      <td>normal</td>\n      <td>Dogs are sitting by the door</td>\n      <td>1st</td>\n      <td>1</td>\n      <td>M</td>\n      <td>03-01-01-01-02-01-01.wav</td>\n      <td>156956</td>\n      <td>...</td>\n      <td>1.0</td>\n      <td>0.000000</td>\n      <td>0.417919</td>\n      <td>0.643636</td>\n      <td>0.774253</td>\n      <td>0.899156</td>\n      <td>1.0</td>\n      <td>1.0</td>\n      <td>1.688986</td>\n      <td>-1.024773</td>\n    </tr>\n    <tr>\n      <th>3</th>\n      <td>audio-only</td>\n      <td>speech</td>\n      <td>neutral</td>\n      <td>normal</td>\n      <td>Dogs are sitting by the door</td>\n      <td>2nd</td>\n      <td>1</td>\n      <td>M</td>\n      <td>03-01-01-01-02-02-01.wav</td>\n      <td>152152</td>\n      <td>...</td>\n      <td>1.0</td>\n      <td>0.306280</td>\n      <td>0.399641</td>\n      <td>0.606910</td>\n      <td>0.755213</td>\n      <td>0.886474</td>\n      <td>1.0</td>\n      <td>1.0</td>\n      <td>-0.594111</td>\n      <td>-0.412871</td>\n    </tr>\n    <tr>\n      <th>4</th>\n      <td>audio-only</td>\n      <td>speech</td>\n      <td>calm</td>\n      <td>normal</td>\n      <td>Kids are talking by the door</td>\n      <td>1st</td>\n      <td>1</td>\n      <td>M</td>\n      <td>03-01-02-01-01-01-01.wav</td>\n      <td>169769</td>\n      <td>...</td>\n      <td>1.0</td>\n      <td>0.248765</td>\n      <td>0.428202</td>\n      <td>0.634815</td>\n      <td>0.759914</td>\n      <td>0.878014</td>\n      <td>1.0</td>\n      <td>1.0</td>\n      <td>0.126535</td>\n      <td>-0.620782</td>\n    </tr>\n  </tbody>\n</table>\n<p>5 rows × 434 columns</p>\n</div>"
     },
     "execution_count": 3,
     "metadata": {},
     "output_type": "execute_result"
    }
   ],
   "source": [
    "df_train = pd.read_csv(DATASET_TRAIN)\n",
    "df_train.head()"
   ],
   "metadata": {
    "collapsed": false
   }
  },
  {
   "cell_type": "code",
   "execution_count": 4,
   "outputs": [
    {
     "data": {
      "text/plain": "     modality vocal_channel  emotion emotional_intensity  \\\n0  audio-only        speech  neutral              normal   \n1  audio-only        speech  neutral              normal   \n2  audio-only        speech  neutral              normal   \n3  audio-only        speech  neutral              normal   \n4  audio-only        speech     calm              normal   \n\n                      statement repetition  actor sex  \\\n0  Kids are talking by the door        1st     19   M   \n1  Kids are talking by the door        2nd     19   M   \n2  Dogs are sitting by the door        1st     19   M   \n3  Dogs are sitting by the door        2nd     19   M   \n4  Kids are talking by the door        1st     19   M   \n\n                   filename  frame_count  ...  stft_max_w4  stft_q01_w4  \\\n0  03-01-01-01-01-01-19.wav       161762  ...          1.0     0.306697   \n1  03-01-01-01-01-02-19.wav       155355  ...          1.0     0.170786   \n2  03-01-01-01-02-01-19.wav       160160  ...          1.0     0.023285   \n3  03-01-01-01-02-02-19.wav       158558  ...          1.0     0.368081   \n4  03-01-02-01-01-01-19.wav       176176  ...          1.0     0.298851   \n\n   stft_q05_w4  stft_q25_w4  stft_q50_w4  stft_q75_w4  stft_q95_w4  \\\n0     0.466157     0.645931     0.789123     0.908316          1.0   \n1     0.279347     0.557524     0.733053     0.866973          1.0   \n2     0.305395     0.577750     0.741576     0.889984          1.0   \n3     0.434591     0.620144     0.776419     0.904668          1.0   \n4     0.393112     0.623309     0.772964     0.907035          1.0   \n\n   stft_q99_w4  stft_kur_w4  stft_skew_w4  \n0          1.0    -0.260279     -0.566556  \n1          1.0    -0.428900     -0.587210  \n2          1.0     0.626916     -0.883317  \n3          1.0    -0.825144     -0.383701  \n4          1.0    -0.536669     -0.547354  \n\n[5 rows x 434 columns]",
      "text/html": "<div>\n<style scoped>\n    .dataframe tbody tr th:only-of-type {\n        vertical-align: middle;\n    }\n\n    .dataframe tbody tr th {\n        vertical-align: top;\n    }\n\n    .dataframe thead th {\n        text-align: right;\n    }\n</style>\n<table border=\"1\" class=\"dataframe\">\n  <thead>\n    <tr style=\"text-align: right;\">\n      <th></th>\n      <th>modality</th>\n      <th>vocal_channel</th>\n      <th>emotion</th>\n      <th>emotional_intensity</th>\n      <th>statement</th>\n      <th>repetition</th>\n      <th>actor</th>\n      <th>sex</th>\n      <th>filename</th>\n      <th>frame_count</th>\n      <th>...</th>\n      <th>stft_max_w4</th>\n      <th>stft_q01_w4</th>\n      <th>stft_q05_w4</th>\n      <th>stft_q25_w4</th>\n      <th>stft_q50_w4</th>\n      <th>stft_q75_w4</th>\n      <th>stft_q95_w4</th>\n      <th>stft_q99_w4</th>\n      <th>stft_kur_w4</th>\n      <th>stft_skew_w4</th>\n    </tr>\n  </thead>\n  <tbody>\n    <tr>\n      <th>0</th>\n      <td>audio-only</td>\n      <td>speech</td>\n      <td>neutral</td>\n      <td>normal</td>\n      <td>Kids are talking by the door</td>\n      <td>1st</td>\n      <td>19</td>\n      <td>M</td>\n      <td>03-01-01-01-01-01-19.wav</td>\n      <td>161762</td>\n      <td>...</td>\n      <td>1.0</td>\n      <td>0.306697</td>\n      <td>0.466157</td>\n      <td>0.645931</td>\n      <td>0.789123</td>\n      <td>0.908316</td>\n      <td>1.0</td>\n      <td>1.0</td>\n      <td>-0.260279</td>\n      <td>-0.566556</td>\n    </tr>\n    <tr>\n      <th>1</th>\n      <td>audio-only</td>\n      <td>speech</td>\n      <td>neutral</td>\n      <td>normal</td>\n      <td>Kids are talking by the door</td>\n      <td>2nd</td>\n      <td>19</td>\n      <td>M</td>\n      <td>03-01-01-01-01-02-19.wav</td>\n      <td>155355</td>\n      <td>...</td>\n      <td>1.0</td>\n      <td>0.170786</td>\n      <td>0.279347</td>\n      <td>0.557524</td>\n      <td>0.733053</td>\n      <td>0.866973</td>\n      <td>1.0</td>\n      <td>1.0</td>\n      <td>-0.428900</td>\n      <td>-0.587210</td>\n    </tr>\n    <tr>\n      <th>2</th>\n      <td>audio-only</td>\n      <td>speech</td>\n      <td>neutral</td>\n      <td>normal</td>\n      <td>Dogs are sitting by the door</td>\n      <td>1st</td>\n      <td>19</td>\n      <td>M</td>\n      <td>03-01-01-01-02-01-19.wav</td>\n      <td>160160</td>\n      <td>...</td>\n      <td>1.0</td>\n      <td>0.023285</td>\n      <td>0.305395</td>\n      <td>0.577750</td>\n      <td>0.741576</td>\n      <td>0.889984</td>\n      <td>1.0</td>\n      <td>1.0</td>\n      <td>0.626916</td>\n      <td>-0.883317</td>\n    </tr>\n    <tr>\n      <th>3</th>\n      <td>audio-only</td>\n      <td>speech</td>\n      <td>neutral</td>\n      <td>normal</td>\n      <td>Dogs are sitting by the door</td>\n      <td>2nd</td>\n      <td>19</td>\n      <td>M</td>\n      <td>03-01-01-01-02-02-19.wav</td>\n      <td>158558</td>\n      <td>...</td>\n      <td>1.0</td>\n      <td>0.368081</td>\n      <td>0.434591</td>\n      <td>0.620144</td>\n      <td>0.776419</td>\n      <td>0.904668</td>\n      <td>1.0</td>\n      <td>1.0</td>\n      <td>-0.825144</td>\n      <td>-0.383701</td>\n    </tr>\n    <tr>\n      <th>4</th>\n      <td>audio-only</td>\n      <td>speech</td>\n      <td>calm</td>\n      <td>normal</td>\n      <td>Kids are talking by the door</td>\n      <td>1st</td>\n      <td>19</td>\n      <td>M</td>\n      <td>03-01-02-01-01-01-19.wav</td>\n      <td>176176</td>\n      <td>...</td>\n      <td>1.0</td>\n      <td>0.298851</td>\n      <td>0.393112</td>\n      <td>0.623309</td>\n      <td>0.772964</td>\n      <td>0.907035</td>\n      <td>1.0</td>\n      <td>1.0</td>\n      <td>-0.536669</td>\n      <td>-0.547354</td>\n    </tr>\n  </tbody>\n</table>\n<p>5 rows × 434 columns</p>\n</div>"
     },
     "execution_count": 4,
     "metadata": {},
     "output_type": "execute_result"
    }
   ],
   "source": [
    "df_test = pd.read_csv(DATASET_TEST)\n",
    "df_test.head()"
   ],
   "metadata": {
    "collapsed": false
   }
  },
  {
   "cell_type": "code",
   "execution_count": 5,
   "outputs": [
    {
     "data": {
      "text/plain": "(1828, 434)"
     },
     "execution_count": 5,
     "metadata": {},
     "output_type": "execute_result"
    }
   ],
   "source": [
    "df_train.shape"
   ],
   "metadata": {
    "collapsed": false
   }
  },
  {
   "cell_type": "code",
   "execution_count": 6,
   "outputs": [
    {
     "data": {
      "text/plain": "(624, 434)"
     },
     "execution_count": 6,
     "metadata": {},
     "output_type": "execute_result"
    }
   ],
   "source": [
    "df_test.shape"
   ],
   "metadata": {
    "collapsed": false
   }
  },
  {
   "cell_type": "code",
   "execution_count": 7,
   "outputs": [
    {
     "data": {
      "text/plain": "52"
     },
     "execution_count": 7,
     "metadata": {},
     "output_type": "execute_result"
    }
   ],
   "source": [
    "single_value_columns_train = [column for column in df_train.columns if len(df_train[column].unique()) == 1]\n",
    "len(single_value_columns_train)"
   ],
   "metadata": {
    "collapsed": false
   }
  },
  {
   "cell_type": "code",
   "execution_count": 8,
   "outputs": [
    {
     "data": {
      "text/plain": "0"
     },
     "execution_count": 8,
     "metadata": {},
     "output_type": "execute_result"
    }
   ],
   "source": [
    "missing_values_columns_train = [column for column in df_train.columns if df_train[column].isna().any()]\n",
    "len(missing_values_columns_train)"
   ],
   "metadata": {
    "collapsed": false
   }
  },
  {
   "cell_type": "code",
   "execution_count": 9,
   "outputs": [
    {
     "data": {
      "text/plain": "50"
     },
     "execution_count": 9,
     "metadata": {},
     "output_type": "execute_result"
    }
   ],
   "source": [
    "single_value_columns_test = [column for column in df_train.columns if len(df_test[column].unique()) == 1]\n",
    "len(single_value_columns_test)"
   ],
   "metadata": {
    "collapsed": false
   }
  },
  {
   "cell_type": "code",
   "execution_count": 10,
   "outputs": [
    {
     "data": {
      "text/plain": "['zc_q75_w1', 'zc_q75_w2']"
     },
     "execution_count": 10,
     "metadata": {},
     "output_type": "execute_result"
    }
   ],
   "source": [
    "difference = [column for column in single_value_columns_train if column not in single_value_columns_test]\n",
    "difference"
   ],
   "metadata": {
    "collapsed": false
   }
  },
  {
   "cell_type": "code",
   "execution_count": 11,
   "outputs": [
    {
     "data": {
      "text/plain": "0"
     },
     "execution_count": 11,
     "metadata": {},
     "output_type": "execute_result"
    }
   ],
   "source": [
    "missing_values_columns_test = [column for column in df_train.columns if df_train[column].isna().any()]\n",
    "len(missing_values_columns_test)"
   ],
   "metadata": {
    "collapsed": false
   }
  },
  {
   "cell_type": "code",
   "execution_count": 12,
   "outputs": [
    {
     "data": {
      "text/plain": "(2452, 434)"
     },
     "execution_count": 12,
     "metadata": {},
     "output_type": "execute_result"
    }
   ],
   "source": [
    "df = pd.concat([df_train, df_test], ignore_index=True)\n",
    "df.shape"
   ],
   "metadata": {
    "collapsed": false
   }
  },
  {
   "cell_type": "code",
   "execution_count": 13,
   "outputs": [
    {
     "data": {
      "text/plain": "['modality',\n 'lag1_q50',\n 'zc_min',\n 'zc_max',\n 'zc_q01',\n 'zc_q05',\n 'zc_q25',\n 'zc_q50',\n 'zc_q75',\n 'zc_q99',\n 'stft_max',\n 'stft_q95',\n 'stft_q99',\n 'lag1_q50_w1',\n 'zc_min_w1',\n 'zc_max_w1',\n 'zc_q01_w1',\n 'zc_q05_w1',\n 'zc_q25_w1',\n 'zc_q50_w1',\n 'zc_min_w2',\n 'zc_max_w2',\n 'zc_q01_w2',\n 'zc_q05_w2',\n 'zc_q25_w2',\n 'zc_q50_w2',\n 'zc_q99_w2',\n 'stft_max_w2',\n 'stft_q95_w2',\n 'stft_q99_w2',\n 'zc_min_w3',\n 'zc_max_w3',\n 'zc_q01_w3',\n 'zc_q05_w3',\n 'zc_q25_w3',\n 'zc_q50_w3',\n 'zc_q75_w3',\n 'zc_q99_w3',\n 'stft_max_w3',\n 'stft_q95_w3',\n 'stft_q99_w3',\n 'lag1_q50_w4',\n 'zc_min_w4',\n 'zc_max_w4',\n 'zc_q01_w4',\n 'zc_q05_w4',\n 'zc_q25_w4',\n 'zc_q50_w4',\n 'stft_max_w4',\n 'stft_q99_w4']"
     },
     "execution_count": 13,
     "metadata": {},
     "output_type": "execute_result"
    }
   ],
   "source": [
    "single_value_columns = [column for column in df_train.columns if len(df[column].unique()) == 1]\n",
    "single_value_columns"
   ],
   "metadata": {
    "collapsed": false
   }
  },
  {
   "cell_type": "code",
   "execution_count": 14,
   "outputs": [
    {
     "data": {
      "text/plain": "  vocal_channel  emotion emotional_intensity                     statement  \\\n0        speech  neutral              normal  Kids are talking by the door   \n1        speech  neutral              normal  Kids are talking by the door   \n2        speech  neutral              normal  Dogs are sitting by the door   \n3        speech  neutral              normal  Dogs are sitting by the door   \n4        speech     calm              normal  Kids are talking by the door   \n\n  repetition  actor sex  frame_count       sum          mean  ...  \\\n0        1st      1   M       158558  0.145081  9.150000e-07  ...   \n1        2nd      1   M       160160  0.114319  7.137790e-07  ...   \n2        1st      1   M       156956  0.149963  9.554485e-07  ...   \n3        2nd      1   M       152152  0.139618  9.176213e-07  ...   \n4        1st      1   M       169769  0.137665  8.108948e-07  ...   \n\n   stft_std_w4  stft_min_w4  stft_q01_w4  stft_q05_w4  stft_q25_w4  \\\n0     0.155455     0.000000     0.000000     0.566462     0.709962   \n1     0.163183     0.270133     0.368623     0.472736     0.623183   \n2     0.190634     0.000000     0.000000     0.417919     0.643636   \n3     0.182551     0.205616     0.306280     0.399641     0.606910   \n4     0.177069     0.177847     0.248765     0.428202     0.634815   \n\n   stft_q50_w4  stft_q75_w4  stft_q95_w4  stft_kur_w4  stft_skew_w4  \n0     0.799141     0.896606          1.0     6.742190     -1.706215  \n1     0.744908     0.874713          1.0    -0.700420     -0.201495  \n2     0.774253     0.899156          1.0     1.688986     -1.024773  \n3     0.755213     0.886474          1.0    -0.594111     -0.412871  \n4     0.759914     0.878014          1.0     0.126535     -0.620782  \n\n[5 rows x 383 columns]",
      "text/html": "<div>\n<style scoped>\n    .dataframe tbody tr th:only-of-type {\n        vertical-align: middle;\n    }\n\n    .dataframe tbody tr th {\n        vertical-align: top;\n    }\n\n    .dataframe thead th {\n        text-align: right;\n    }\n</style>\n<table border=\"1\" class=\"dataframe\">\n  <thead>\n    <tr style=\"text-align: right;\">\n      <th></th>\n      <th>vocal_channel</th>\n      <th>emotion</th>\n      <th>emotional_intensity</th>\n      <th>statement</th>\n      <th>repetition</th>\n      <th>actor</th>\n      <th>sex</th>\n      <th>frame_count</th>\n      <th>sum</th>\n      <th>mean</th>\n      <th>...</th>\n      <th>stft_std_w4</th>\n      <th>stft_min_w4</th>\n      <th>stft_q01_w4</th>\n      <th>stft_q05_w4</th>\n      <th>stft_q25_w4</th>\n      <th>stft_q50_w4</th>\n      <th>stft_q75_w4</th>\n      <th>stft_q95_w4</th>\n      <th>stft_kur_w4</th>\n      <th>stft_skew_w4</th>\n    </tr>\n  </thead>\n  <tbody>\n    <tr>\n      <th>0</th>\n      <td>speech</td>\n      <td>neutral</td>\n      <td>normal</td>\n      <td>Kids are talking by the door</td>\n      <td>1st</td>\n      <td>1</td>\n      <td>M</td>\n      <td>158558</td>\n      <td>0.145081</td>\n      <td>9.150000e-07</td>\n      <td>...</td>\n      <td>0.155455</td>\n      <td>0.000000</td>\n      <td>0.000000</td>\n      <td>0.566462</td>\n      <td>0.709962</td>\n      <td>0.799141</td>\n      <td>0.896606</td>\n      <td>1.0</td>\n      <td>6.742190</td>\n      <td>-1.706215</td>\n    </tr>\n    <tr>\n      <th>1</th>\n      <td>speech</td>\n      <td>neutral</td>\n      <td>normal</td>\n      <td>Kids are talking by the door</td>\n      <td>2nd</td>\n      <td>1</td>\n      <td>M</td>\n      <td>160160</td>\n      <td>0.114319</td>\n      <td>7.137790e-07</td>\n      <td>...</td>\n      <td>0.163183</td>\n      <td>0.270133</td>\n      <td>0.368623</td>\n      <td>0.472736</td>\n      <td>0.623183</td>\n      <td>0.744908</td>\n      <td>0.874713</td>\n      <td>1.0</td>\n      <td>-0.700420</td>\n      <td>-0.201495</td>\n    </tr>\n    <tr>\n      <th>2</th>\n      <td>speech</td>\n      <td>neutral</td>\n      <td>normal</td>\n      <td>Dogs are sitting by the door</td>\n      <td>1st</td>\n      <td>1</td>\n      <td>M</td>\n      <td>156956</td>\n      <td>0.149963</td>\n      <td>9.554485e-07</td>\n      <td>...</td>\n      <td>0.190634</td>\n      <td>0.000000</td>\n      <td>0.000000</td>\n      <td>0.417919</td>\n      <td>0.643636</td>\n      <td>0.774253</td>\n      <td>0.899156</td>\n      <td>1.0</td>\n      <td>1.688986</td>\n      <td>-1.024773</td>\n    </tr>\n    <tr>\n      <th>3</th>\n      <td>speech</td>\n      <td>neutral</td>\n      <td>normal</td>\n      <td>Dogs are sitting by the door</td>\n      <td>2nd</td>\n      <td>1</td>\n      <td>M</td>\n      <td>152152</td>\n      <td>0.139618</td>\n      <td>9.176213e-07</td>\n      <td>...</td>\n      <td>0.182551</td>\n      <td>0.205616</td>\n      <td>0.306280</td>\n      <td>0.399641</td>\n      <td>0.606910</td>\n      <td>0.755213</td>\n      <td>0.886474</td>\n      <td>1.0</td>\n      <td>-0.594111</td>\n      <td>-0.412871</td>\n    </tr>\n    <tr>\n      <th>4</th>\n      <td>speech</td>\n      <td>calm</td>\n      <td>normal</td>\n      <td>Kids are talking by the door</td>\n      <td>1st</td>\n      <td>1</td>\n      <td>M</td>\n      <td>169769</td>\n      <td>0.137665</td>\n      <td>8.108948e-07</td>\n      <td>...</td>\n      <td>0.177069</td>\n      <td>0.177847</td>\n      <td>0.248765</td>\n      <td>0.428202</td>\n      <td>0.634815</td>\n      <td>0.759914</td>\n      <td>0.878014</td>\n      <td>1.0</td>\n      <td>0.126535</td>\n      <td>-0.620782</td>\n    </tr>\n  </tbody>\n</table>\n<p>5 rows × 383 columns</p>\n</div>"
     },
     "execution_count": 14,
     "metadata": {},
     "output_type": "execute_result"
    }
   ],
   "source": [
    "to_drop = ['filename'] + single_value_columns\n",
    "df = df.drop(to_drop, axis=1)\n",
    "df.head()"
   ],
   "metadata": {
    "collapsed": false
   }
  },
  {
   "cell_type": "code",
   "execution_count": 15,
   "outputs": [],
   "source": [
    "from pandas.core.dtypes.common import is_numeric_dtype\n",
    "\"\"\"\n",
    "numeric_attr_list = [column for column in df.columns if is_numeric_dtype(df[column])]\n",
    "corr_columns = []\n",
    "\n",
    "for column_i in numeric_attr_list:\n",
    "    corr_with_i = [column_i]\n",
    "\n",
    "    for column_j in numeric_attr_list:\n",
    "        if column_i != column_j and abs(df[column_i].corr(df[column_j], method='spearman')) > 0.95:\n",
    "            corr_with_i.append(column_j)\n",
    "\n",
    "    if len(corr_with_i) > 1:\n",
    "        corr_columns.append(sorted(corr_with_i)) \"\"\""
   ],
   "metadata": {
    "collapsed": false
   }
  },
  {
   "cell_type": "code",
   "execution_count": 16,
   "outputs": [
    {
     "data": {
      "text/plain": "{('frame_count', 'length_w1', 'length_w2', 'length_w3', 'length_w4'),\n ('lag1_max',\n  'lag1_max_w2',\n  'lag1_min',\n  'lag1_min_w2',\n  'lag1_q01',\n  'lag1_q01_w2',\n  'lag1_q05_w2',\n  'lag1_q25_w2',\n  'lag1_q75_w2',\n  'lag1_q95_w2',\n  'lag1_q99',\n  'lag1_q99_w2',\n  'lag1_std',\n  'lag1_std_w2'),\n ('lag1_max',\n  'lag1_max_w2',\n  'lag1_min',\n  'lag1_min_w2',\n  'lag1_q01',\n  'lag1_q01_w2',\n  'lag1_q05_w2',\n  'lag1_q95_w2',\n  'lag1_q99',\n  'lag1_q99_w2',\n  'lag1_std',\n  'lag1_std_w2'),\n ('lag1_max',\n  'lag1_max_w2',\n  'lag1_min',\n  'lag1_min_w2',\n  'lag1_q01_w2',\n  'lag1_q99_w2',\n  'lag1_std',\n  'lag1_std_w2'),\n ('lag1_max',\n  'lag1_max_w2',\n  'lag1_min',\n  'lag1_min_w2',\n  'lag1_q01_w2',\n  'lag1_q99_w2',\n  'lag1_std_w2'),\n ('lag1_max',\n  'lag1_min',\n  'lag1_q01',\n  'lag1_q01_w2',\n  'lag1_q05',\n  'lag1_q05_w2',\n  'lag1_q25_w2',\n  'lag1_q75_w2',\n  'lag1_q95',\n  'lag1_q95_w2',\n  'lag1_q99',\n  'lag1_q99_w2',\n  'lag1_std',\n  'lag1_std_w2'),\n ('lag1_max_w1', 'lag1_min_w1'),\n ('lag1_max_w3',\n  'lag1_min_w3',\n  'lag1_q01_w3',\n  'lag1_q05',\n  'lag1_q05_w3',\n  'lag1_q25_w3',\n  'lag1_q95',\n  'lag1_q95_w3',\n  'lag1_q99_w3',\n  'lag1_std_w3',\n  'max_w3',\n  'mfcc_std',\n  'mfcc_std_w3',\n  'min_w3',\n  'q01',\n  'q01_w3',\n  'q05',\n  'q05_w3',\n  'q95',\n  'q95_w3',\n  'q99',\n  'q99_w3',\n  'std',\n  'std_w3'),\n ('lag1_max_w3',\n  'lag1_min_w3',\n  'lag1_q01_w3',\n  'lag1_q05',\n  'lag1_q05_w3',\n  'lag1_q95',\n  'lag1_q95_w3',\n  'lag1_q99_w3',\n  'lag1_std_w3',\n  'max_w3',\n  'mfcc_std',\n  'mfcc_std_w3',\n  'min_w3',\n  'q01',\n  'q01_w3',\n  'q05',\n  'q05_w3',\n  'q95',\n  'q95_w3',\n  'q99',\n  'q99_w3',\n  'std',\n  'std_w3'),\n ('lag1_max_w3',\n  'lag1_min_w3',\n  'lag1_q01_w3',\n  'lag1_q05',\n  'lag1_q05_w3',\n  'lag1_q95',\n  'lag1_q95_w3',\n  'lag1_q99_w3',\n  'lag1_std_w3',\n  'max_w3',\n  'mfcc_std',\n  'mfcc_std_w3',\n  'min_w3',\n  'q01',\n  'q01_w3',\n  'q05_w3',\n  'q95',\n  'q95_w3',\n  'q99',\n  'q99_w3',\n  'std',\n  'std_w3'),\n ('lag1_max_w3', 'lag1_min_w3', 'lag1_q01_w3', 'lag1_q99_w3', 'lag1_std_w3'),\n ('lag1_max_w3',\n  'lag1_min_w3',\n  'lag1_q01_w3',\n  'lag1_q99_w3',\n  'lag1_std_w3',\n  'max_w3',\n  'min_w3'),\n ('lag1_max_w3',\n  'lag1_q01_w3',\n  'lag1_q05',\n  'lag1_q05_w3',\n  'lag1_q95',\n  'lag1_q95_w3',\n  'lag1_q99_w3',\n  'lag1_std_w3',\n  'max',\n  'max_w3',\n  'mfcc_min',\n  'mfcc_q01',\n  'mfcc_std',\n  'min',\n  'min_w3',\n  'q01',\n  'q01_w3',\n  'q05_w3',\n  'q95_w3',\n  'q99',\n  'q99_w3',\n  'std',\n  'std_w3'),\n ('lag1_max_w3',\n  'lag1_q01_w3',\n  'lag1_q05',\n  'lag1_q05_w3',\n  'lag1_q95_w3',\n  'lag1_q99_w3',\n  'lag1_std_w3',\n  'max',\n  'max_w3',\n  'min',\n  'min_w3',\n  'q01',\n  'q01_w3',\n  'q05_w3',\n  'q95_w3',\n  'q99',\n  'q99_w3',\n  'std',\n  'std_w3'),\n ('lag1_max_w4', 'lag1_min_w4', 'lag1_q01_w4', 'lag1_q99_w4', 'lag1_std_w4'),\n ('lag1_max_w4', 'lag1_min_w4', 'lag1_std_w4'),\n ('lag1_max_w4', 'lag1_q01_w4', 'lag1_q99_w4', 'lag1_std_w4'),\n ('lag1_mean', 'lag1_sum'),\n ('lag1_mean_w1', 'lag1_sum_w1'),\n ('lag1_mean_w2', 'lag1_sum_w2'),\n ('lag1_mean_w3', 'lag1_sum_w3'),\n ('lag1_mean_w4', 'lag1_sum_w4'),\n ('lag1_q01',\n  'lag1_q01_w2',\n  'lag1_q05',\n  'lag1_q05_w2',\n  'lag1_q25_w2',\n  'lag1_q75_w2',\n  'lag1_q95',\n  'lag1_q95_w2',\n  'lag1_q99',\n  'lag1_q99_w2',\n  'lag1_std',\n  'lag1_std_w2'),\n ('lag1_q01',\n  'lag1_q01_w3',\n  'lag1_q05',\n  'lag1_q05_w2',\n  'lag1_q05_w3',\n  'lag1_q25_w2',\n  'lag1_q75_w2',\n  'lag1_q95',\n  'lag1_q95_w2',\n  'lag1_q95_w3',\n  'lag1_q99',\n  'lag1_q99_w3',\n  'lag1_std',\n  'lag1_std_w3',\n  'max_w3',\n  'mfcc_min',\n  'mfcc_std',\n  'mfcc_std_w2',\n  'mfcc_std_w3',\n  'min_w3',\n  'q01',\n  'q01_w2',\n  'q01_w3',\n  'q05',\n  'q05_w2',\n  'q05_w3',\n  'q95',\n  'q95_w2',\n  'q95_w3',\n  'q99',\n  'q99_w2',\n  'q99_w3',\n  'std',\n  'std_w2',\n  'std_w3'),\n ('lag1_q01',\n  'lag1_q01_w3',\n  'lag1_q05',\n  'lag1_q05_w2',\n  'lag1_q05_w3',\n  'lag1_q25_w2',\n  'lag1_q75_w2',\n  'lag1_q95',\n  'lag1_q95_w2',\n  'lag1_q95_w3',\n  'lag1_q99',\n  'lag1_q99_w3',\n  'lag1_std',\n  'lag1_std_w3',\n  'mfcc_std',\n  'mfcc_std_w2',\n  'mfcc_std_w3',\n  'min_w3',\n  'q01',\n  'q01_w3',\n  'q05',\n  'q05_w2',\n  'q05_w3',\n  'q95',\n  'q95_w2',\n  'q95_w3',\n  'q99',\n  'q99_w3',\n  'std',\n  'std_w2',\n  'std_w3'),\n ('lag1_q01',\n  'lag1_q05',\n  'lag1_q05_w2',\n  'lag1_q25_w2',\n  'lag1_q75_w2',\n  'lag1_q95',\n  'lag1_q95_w2',\n  'lag1_q99',\n  'lag1_std',\n  'lag1_std_w2',\n  'mfcc_std_w2'),\n ('lag1_q01',\n  'lag1_q05',\n  'lag1_q05_w2',\n  'lag1_q25_w2',\n  'lag1_q75_w2',\n  'lag1_q95',\n  'lag1_q95_w2',\n  'lag1_q99',\n  'lag1_std',\n  'lag1_std_w2',\n  'mfcc_std_w2',\n  'q05_w2',\n  'q25_w2',\n  'q95_w2',\n  'std_w2'),\n ('lag1_q01_w1', 'lag1_q99_w1', 'lag1_std_w1'),\n ('lag1_q01_w1', 'lag1_q99_w1', 'lag1_std_w1', 'max_w1', 'min_w1'),\n ('lag1_q01_w3',\n  'lag1_q05',\n  'lag1_q05_w3',\n  'lag1_q25_w3',\n  'lag1_q75_w3',\n  'lag1_q95',\n  'lag1_q95_w3',\n  'lag1_q99_w3',\n  'lag1_std_w3',\n  'max_w3',\n  'mfcc_std',\n  'mfcc_std_w3',\n  'min_w3',\n  'q01',\n  'q01_w3',\n  'q05',\n  'q05_w3',\n  'q95',\n  'q95_w3',\n  'q99',\n  'q99_w3',\n  'std',\n  'std_w3'),\n ('lag1_q01_w3',\n  'lag1_q05',\n  'lag1_q05_w3',\n  'lag1_q25_w3',\n  'lag1_q75_w3',\n  'lag1_q95',\n  'lag1_q95_w3',\n  'lag1_q99_w3',\n  'lag1_std_w3',\n  'mfcc_q01_w3',\n  'mfcc_std',\n  'mfcc_std_w3',\n  'q01',\n  'q01_w3',\n  'q05',\n  'q05_w3',\n  'q95',\n  'q95_w3',\n  'q99',\n  'q99_w3',\n  'std',\n  'std_w3'),\n ('lag1_q01_w3',\n  'lag1_q05',\n  'lag1_q05_w3',\n  'lag1_q25_w3',\n  'lag1_q95',\n  'lag1_q95_w3',\n  'lag1_q99_w3',\n  'lag1_std_w3',\n  'max_w3',\n  'mfcc_min',\n  'mfcc_std',\n  'mfcc_std_w3',\n  'min_w3',\n  'q01',\n  'q01_w3',\n  'q05',\n  'q05_w2',\n  'q05_w3',\n  'q25_w3',\n  'q75_w3',\n  'q95',\n  'q95_w2',\n  'q95_w3',\n  'q99',\n  'q99_w3',\n  'std',\n  'std_w2',\n  'std_w3'),\n ('lag1_q01_w3',\n  'lag1_q05',\n  'lag1_q05_w3',\n  'lag1_q25_w3',\n  'lag1_q95',\n  'lag1_q95_w3',\n  'lag1_q99_w3',\n  'lag1_std_w3',\n  'max_w3',\n  'mfcc_std',\n  'mfcc_std_w3',\n  'min_w3',\n  'q01',\n  'q01_w3',\n  'q05',\n  'q05_w3',\n  'q25_w3',\n  'q95',\n  'q95_w3',\n  'q99',\n  'q99_w3',\n  'std',\n  'std_w3'),\n ('lag1_q01_w3',\n  'lag1_q05',\n  'lag1_q05_w3',\n  'lag1_q25_w3',\n  'lag1_q95',\n  'lag1_q95_w3',\n  'lag1_q99_w3',\n  'lag1_std_w3',\n  'max_w3',\n  'mfcc_std',\n  'mfcc_std_w3',\n  'min_w3',\n  'q01',\n  'q01_w3',\n  'q05',\n  'q05_w3',\n  'q75_w3',\n  'q95',\n  'q95_w3',\n  'q99',\n  'q99_w3',\n  'std',\n  'std_w3'),\n ('lag1_q01_w3',\n  'lag1_q05',\n  'lag1_q05_w3',\n  'lag1_q25_w3',\n  'lag1_q95',\n  'lag1_q95_w3',\n  'lag1_q99_w3',\n  'lag1_std_w3',\n  'mfcc_min',\n  'mfcc_std',\n  'mfcc_std_w3',\n  'q01',\n  'q01_w2',\n  'q01_w3',\n  'q05',\n  'q05_w2',\n  'q05_w3',\n  'q25_w2',\n  'q25_w3',\n  'q75_w3',\n  'q95',\n  'q95_w2',\n  'q95_w3',\n  'q99',\n  'q99_w2',\n  'q99_w3',\n  'std',\n  'std_w2',\n  'std_w3'),\n ('lag1_q01_w3',\n  'lag1_q05',\n  'lag1_q05_w3',\n  'lag1_q95',\n  'lag1_q95_w3',\n  'lag1_q99_w3',\n  'lag1_std_w3',\n  'max',\n  'max_w3',\n  'mfcc_min',\n  'mfcc_q01',\n  'mfcc_std',\n  'mfcc_std_w3',\n  'min',\n  'min_w2',\n  'min_w3',\n  'q01',\n  'q01_w2',\n  'q01_w3',\n  'q05',\n  'q05_w2',\n  'q05_w3',\n  'q95',\n  'q95_w2',\n  'q95_w3',\n  'q99',\n  'q99_w2',\n  'q99_w3',\n  'std',\n  'std_w2',\n  'std_w3'),\n ('lag1_q01_w3',\n  'lag1_q05',\n  'lag1_q05_w3',\n  'lag1_q95',\n  'lag1_q95_w3',\n  'lag1_q99_w3',\n  'lag1_std_w3',\n  'max_w3',\n  'mfcc_min',\n  'mfcc_q01',\n  'mfcc_std',\n  'mfcc_std_w3',\n  'min',\n  'min_w3',\n  'q01',\n  'q01_w3',\n  'q05',\n  'q05_w3',\n  'q95',\n  'q95_w3',\n  'q99',\n  'q99_w3',\n  'std',\n  'std_w3'),\n ('lag1_q01_w3',\n  'lag1_q05',\n  'lag1_q05_w3',\n  'lag1_q95',\n  'lag1_q95_w3',\n  'lag1_q99_w3',\n  'lag1_std_w3',\n  'max_w3',\n  'mfcc_min',\n  'mfcc_q01',\n  'mfcc_std',\n  'mfcc_std_w3',\n  'min_w3',\n  'q01',\n  'q01_w3',\n  'q05',\n  'q05_w3',\n  'q95',\n  'q95_w3',\n  'q99',\n  'q99_w3',\n  'std',\n  'std_w2',\n  'std_w3'),\n ('lag1_q01_w3',\n  'lag1_q05',\n  'lag1_q05_w3',\n  'lag1_q95',\n  'lag1_q95_w3',\n  'lag1_q99_w3',\n  'lag1_std_w3',\n  'mfcc_min',\n  'mfcc_q01',\n  'mfcc_std',\n  'mfcc_std_w2',\n  'mfcc_std_w3',\n  'min',\n  'min_w3',\n  'q01',\n  'q01_w2',\n  'q01_w3',\n  'q05',\n  'q05_w2',\n  'q05_w3',\n  'q95',\n  'q95_w2',\n  'q95_w3',\n  'q99',\n  'q99_w2',\n  'q99_w3',\n  'std',\n  'std_w2',\n  'std_w3'),\n ('lag1_q05',\n  'lag1_q05_w3',\n  'lag1_q25_w3',\n  'lag1_q95',\n  'lag1_q95_w3',\n  'lag1_q99_w3',\n  'lag1_std_w3',\n  'mfcc_std',\n  'mfcc_std_w3',\n  'q01',\n  'q01_w2',\n  'q01_w3',\n  'q05',\n  'q05_w2',\n  'q05_w3',\n  'q25_w2',\n  'q25_w3',\n  'q75_w3',\n  'q95',\n  'q95_w2',\n  'q95_w3',\n  'q99',\n  'q99_w2',\n  'q99_w3',\n  'std',\n  'std_w2',\n  'std_w3'),\n ('lag1_q05',\n  'lag1_q25_w2',\n  'lag1_q75_w2',\n  'lag1_q95',\n  'mfcc_std',\n  'mfcc_std_w2',\n  'q01_w2',\n  'q05_w2',\n  'q95_w2',\n  'std_w2'),\n ('lag1_q05',\n  'lag1_q25_w2',\n  'lag1_q95',\n  'max',\n  'max_w2',\n  'mfcc_min',\n  'mfcc_q01',\n  'mfcc_std',\n  'mfcc_std_w2',\n  'min',\n  'min_w2',\n  'q01',\n  'q01_w2',\n  'q05',\n  'q05_w2',\n  'q25_w2',\n  'q95',\n  'q95_w2',\n  'q99',\n  'q99_w2',\n  'q99_w3',\n  'std',\n  'std_w2',\n  'std_w3'),\n ('lag1_q05',\n  'lag1_q25_w2',\n  'lag1_q95',\n  'mfcc_min',\n  'mfcc_std',\n  'mfcc_std_w2',\n  'min_w2',\n  'q01',\n  'q01_w2',\n  'q05',\n  'q05_w2',\n  'q25_w2',\n  'q75_w2',\n  'q95',\n  'q95_w2',\n  'q99',\n  'q99_w2',\n  'std',\n  'std_w2',\n  'std_w3'),\n ('lag1_q05',\n  'lag1_q25_w2',\n  'lag1_q95',\n  'mfcc_min',\n  'mfcc_std',\n  'mfcc_std_w2',\n  'q01',\n  'q01_w2',\n  'q05',\n  'q05_w2',\n  'q25_w2',\n  'q95',\n  'q95_w2',\n  'q99',\n  'q99_w2',\n  'std',\n  'std_w2',\n  'std_w3'),\n ('lag1_q05',\n  'max',\n  'max_w2',\n  'mfcc_min',\n  'mfcc_q01',\n  'mfcc_std',\n  'mfcc_std_w2',\n  'min',\n  'min_w2',\n  'q01',\n  'q01_w2',\n  'q05',\n  'q05_w2',\n  'q95',\n  'q95_w2',\n  'q99',\n  'q99_w2',\n  'std',\n  'std_w2'),\n ('lag1_q05',\n  'max',\n  'max_w2',\n  'mfcc_min',\n  'mfcc_q01',\n  'mfcc_std',\n  'min',\n  'min_w2',\n  'q01',\n  'q01_w2',\n  'q05',\n  'q05_w2',\n  'q95',\n  'q95_w2',\n  'q99',\n  'q99_w2',\n  'std',\n  'std_w2'),\n ('lag1_q05',\n  'max',\n  'mfcc_min',\n  'mfcc_q01',\n  'mfcc_std',\n  'min',\n  'min_w2',\n  'min_w3',\n  'q01',\n  'q01_w2',\n  'q01_w3',\n  'q05_w2',\n  'q95',\n  'q95_w2',\n  'q99',\n  'q99_w2',\n  'q99_w3',\n  'std',\n  'std_w2',\n  'std_w3'),\n ('lag1_q05_w1', 'lag1_q95_w1'),\n ('lag1_q05_w3',\n  'lag1_q25_w3',\n  'lag1_q75_w3',\n  'lag1_q95_w3',\n  'lag1_std_w3',\n  'mfcc_q01_w3',\n  'mfcc_std_w3',\n  'q05',\n  'q05_w3',\n  'q25_w3',\n  'q75_w3',\n  'q95',\n  'q95_w3',\n  'std_w3'),\n ('lag1_q05_w3',\n  'lag1_q25_w3',\n  'lag1_q75_w3',\n  'lag1_q95_w3',\n  'mfcc_q01_w3',\n  'mfcc_std_w3',\n  'q25_w3',\n  'q75_w3'),\n ('lag1_q05_w4', 'lag1_q95_w4'),\n ('lag1_q25_w1', 'lag1_q75_w1'),\n ('lag1_q25_w2',\n  'q05',\n  'q05_w2',\n  'q25_w2',\n  'q75_w2',\n  'q95',\n  'q95_w2',\n  'std_w2'),\n ('lag1_q25_w3', 'lag1_q75_w3', 'mfcc_q01_w3', 'mfcc_std_w3'),\n ('lag1_q25_w3',\n  'lag1_q75_w3',\n  'q05',\n  'q05_w3',\n  'q25_w3',\n  'q75_w3',\n  'q95',\n  'std_w3'),\n ('lag1_q25_w3',\n  'lag1_q75_w3',\n  'q05',\n  'q25_w3',\n  'q75_w3',\n  'q95',\n  'q95_w3',\n  'std_w3'),\n ('lag1_std_w1', 'max_w1', 'min_w1', 'std_w1'),\n ('max',\n  'max_w2',\n  'max_w3',\n  'mfcc_min',\n  'mfcc_q01',\n  'mfcc_std',\n  'min',\n  'min_w2',\n  'min_w3',\n  'q01',\n  'q01_w2',\n  'q01_w3',\n  'q99',\n  'q99_w2',\n  'std',\n  'std_w2'),\n ('max',\n  'max_w2',\n  'max_w3',\n  'mfcc_min',\n  'mfcc_q01',\n  'min',\n  'min_w2',\n  'min_w3',\n  'q01',\n  'q01_w2',\n  'q99',\n  'q99_w2',\n  'std',\n  'std_w2'),\n ('max',\n  'max_w2',\n  'mfcc_min',\n  'mfcc_q01',\n  'min',\n  'min_w2',\n  'q01',\n  'q01_w2',\n  'q05_w2',\n  'q99',\n  'q99_w2',\n  'std',\n  'std_w2'),\n ('max', 'max_w2', 'min', 'min_w2', 'q01_w2', 'q99_w2', 'std_w2'),\n ('max',\n  'mfcc_min',\n  'mfcc_q01',\n  'mfcc_std',\n  'min',\n  'min_w2',\n  'min_w3',\n  'q01',\n  'q01_w2',\n  'q01_w3',\n  'q99',\n  'q99_w2',\n  'q99_w3',\n  'std',\n  'std_w2'),\n ('max_w1', 'min_w1', 'q01_w1', 'q99_w1', 'std_w1'),\n ('max_w4', 'min_w4', 'q01_w4', 'q05_w4', 'q95_w4', 'q99_w4', 'std_w4'),\n ('max_w4', 'min_w4', 'q01_w4', 'q99_w4', 'std_w4'),\n ('mean', 'sum'),\n ('mean_w1', 'sum_w1'),\n ('mean_w2', 'sum_w2'),\n ('mean_w3', 'sum_w3'),\n ('mean_w4', 'sum_w4'),\n ('mfcc_min_w1', 'mfcc_q01_w1'),\n ('q01_w1', 'q99_w1', 'std_w1'),\n ('q05_w1', 'q95_w1'),\n ('q05_w2', 'q25_w2', 'q75_w2'),\n ('q05_w4', 'q95_w4', 'std_w4'),\n ('sc_kur_w3', 'sc_skew_w3'),\n ('sc_max_w1', 'sc_q99_w1'),\n ('sc_max_w2', 'sc_q99_w2'),\n ('sc_max_w3', 'sc_q99_w3'),\n ('sc_max_w4', 'sc_q95_w4', 'sc_q99_w4'),\n ('sc_min_w1', 'sc_q01_w1'),\n ('sc_min_w2', 'sc_q01_w2'),\n ('sc_min_w3', 'sc_q01_w3'),\n ('sc_min_w4', 'sc_q01_w4'),\n ('sc_min_w4', 'sc_q01_w4', 'sc_q05_w4'),\n ('sc_q01_w4', 'sc_q05_w4'),\n ('stft_kur_w2', 'stft_mean_w2', 'stft_q50_w2', 'stft_q75_w2', 'stft_skew_w2'),\n ('stft_kur_w2', 'stft_q75_w2', 'stft_skew_w2'),\n ('stft_kur_w3',\n  'stft_mean_w3',\n  'stft_q25_w3',\n  'stft_q50_w3',\n  'stft_q75_w3',\n  'stft_skew_w3'),\n ('stft_kur_w3', 'stft_mean_w3', 'stft_q50_w3', 'stft_q75_w3', 'stft_skew_w3'),\n ('stft_kur_w3', 'stft_mean_w3', 'stft_q75_w3', 'stft_skew_w3'),\n ('stft_mean', 'stft_q25'),\n ('stft_mean', 'stft_q25', 'stft_q50', 'stft_skew'),\n ('stft_mean', 'stft_q50', 'stft_skew'),\n ('stft_mean_w1', 'stft_q25_w1'),\n ('stft_mean_w1', 'stft_q25_w1', 'stft_q50_w1'),\n ('stft_mean_w1', 'stft_q50_w1'),\n ('stft_mean_w2', 'stft_q50_w2', 'stft_q75_w2', 'stft_skew_w2'),\n ('stft_mean_w3', 'stft_q25_w3', 'stft_q50_w3'),\n ('stft_mean_w3', 'stft_q25_w3', 'stft_q50_w3', 'stft_q75_w3', 'stft_skew_w3'),\n ('stft_mean_w4', 'stft_q25_w4'),\n ('stft_mean_w4', 'stft_q25_w4', 'stft_q50_w4'),\n ('stft_mean_w4', 'stft_q50_w4'),\n ('stft_min_w1', 'stft_q01_w1'),\n ('stft_min_w2', 'stft_q01_w2'),\n ('stft_min_w2', 'stft_q01_w2', 'stft_q05_w2'),\n ('stft_min_w3', 'stft_q01_w3'),\n ('stft_min_w3', 'stft_q01_w3', 'stft_q05_w3'),\n ('stft_min_w4', 'stft_q01_w4'),\n ('stft_q01_w2', 'stft_q05_w2'),\n ('stft_q01_w3', 'stft_q05_w3'),\n ('stft_q05_w4', 'stft_std_w4'),\n ('zc_kur', 'zc_mean', 'zc_skew', 'zc_std'),\n ('zc_kur_w1', 'zc_mean_w1', 'zc_skew_w1', 'zc_std_w1', 'zc_sum_w1'),\n ('zc_kur_w2', 'zc_mean_w2', 'zc_skew_w2', 'zc_std_w2'),\n ('zc_kur_w3', 'zc_mean_w3', 'zc_skew_w3', 'zc_std_w3'),\n ('zc_kur_w4', 'zc_mean_w4', 'zc_skew_w4', 'zc_std_w4')}"
     },
     "execution_count": 16,
     "metadata": {},
     "output_type": "execute_result"
    }
   ],
   "source": [
    "\"\"\"corr_columns_set = set()\n",
    "for corr_list in corr_columns:\n",
    "    corr_columns_set.add(tuple(corr_list))\n",
    "\n",
    "corr_columns_set \"\"\""
   ],
   "metadata": {
    "collapsed": false
   }
  },
  {
   "cell_type": "code",
   "execution_count": 17,
   "outputs": [
    {
     "data": {
      "text/plain": "117"
     },
     "execution_count": 17,
     "metadata": {},
     "output_type": "execute_result"
    }
   ],
   "source": [
    "numeric_attr_list = [column for column in df.columns if is_numeric_dtype(df[column])]\n",
    "corr_columns = dict()\n",
    "\n",
    "for column_i in numeric_attr_list:\n",
    "    \n",
    "\n"
   ],
   "metadata": {
    "collapsed": false
   }
  },
  {
   "cell_type": "code",
   "execution_count": null,
   "outputs": [],
   "source": [],
   "metadata": {
    "collapsed": false
   }
  }
 ],
 "metadata": {
  "kernelspec": {
   "display_name": "Python 3",
   "language": "python",
   "name": "python3"
  },
  "language_info": {
   "codemirror_mode": {
    "name": "ipython",
    "version": 2
   },
   "file_extension": ".py",
   "mimetype": "text/x-python",
   "name": "python",
   "nbconvert_exporter": "python",
   "pygments_lexer": "ipython2",
   "version": "2.7.6"
  }
 },
 "nbformat": 4,
 "nbformat_minor": 0
}
